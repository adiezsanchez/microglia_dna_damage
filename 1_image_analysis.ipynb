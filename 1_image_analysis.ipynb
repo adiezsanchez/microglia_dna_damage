{
 "cells": [
  {
   "cell_type": "code",
   "execution_count": null,
   "metadata": {},
   "outputs": [],
   "source": [
    "from pathlib import Path\n",
    "from utils import analyze_images"
   ]
  },
  {
   "cell_type": "code",
   "execution_count": null,
   "metadata": {},
   "outputs": [],
   "source": [
    "directory_path = Path(\"./raw_data/\")\n",
    "images = []\n",
    "\n",
    "# Iterate through the lsm files in the directory\n",
    "for file_path in directory_path.glob(\"*.lsm\"):\n",
    "    images.append(str(file_path))\n",
    "    \n",
    "images"
   ]
  },
  {
   "cell_type": "code",
   "execution_count": null,
   "metadata": {},
   "outputs": [],
   "source": [
    "# Define analysis parameters\n",
    "cellpose_nuclei_diameter = 30 # Defines the diameter in pixels of the nuclei present in your image, helps Cellpose to adjust segmentation \n",
    "gaussian_sigma = 6 # Blurs the mip_nuclei image to even out high intensity foci within the nucleus\n",
    "dilation_radius_nuclei = 4\n",
    "glia_channel_threshold = 20\n",
    "glia_segmenter = False\n",
    "glia_segmenter_version = 1\n",
    "glia_nuclei_colocalization_erosion = 5 # Initial analysis versions was 5, the higher the number the stricter\n",
    "dna_damage_segmenter_version = 1 # Version 1 works well for fresh slides but not old stainings, 2 and 3 generalize better over fresh and old stainings\n"
   ]
  },
  {
   "cell_type": "code",
   "execution_count": null,
   "metadata": {},
   "outputs": [],
   "source": [
    "analyze_images(images, cellpose_nuclei_diameter, gaussian_sigma, dilation_radius_nuclei, glia_channel_threshold, dna_damage_segmenter_version, glia_segmenter, glia_segmenter_version, glia_nuclei_colocalization_erosion)"
   ]
  }
 ],
 "metadata": {
  "kernelspec": {
   "display_name": "YOLOv8-napari",
   "language": "python",
   "name": "python3"
  },
  "language_info": {
   "codemirror_mode": {
    "name": "ipython",
    "version": 3
   },
   "file_extension": ".py",
   "mimetype": "text/x-python",
   "name": "python",
   "nbconvert_exporter": "python",
   "pygments_lexer": "ipython3",
   "version": "3.9.18"
  }
 },
 "nbformat": 4,
 "nbformat_minor": 2
}
