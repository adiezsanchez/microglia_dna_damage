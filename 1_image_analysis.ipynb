{
 "cells": [
  {
   "cell_type": "code",
   "execution_count": null,
   "metadata": {},
   "outputs": [],
   "source": [
    "from pathlib import Path\n",
    "from utils import analyze_images"
   ]
  },
  {
   "cell_type": "code",
   "execution_count": null,
   "metadata": {},
   "outputs": [],
   "source": [
    "# Define the dataset that you want to analyze below (\"microglia\" or \"astrocyte\")\n",
    "dataset = \"astrocyte\"\n",
    "\n",
    "if dataset == \"microglia\":\n",
    "    directory_path = Path(\"./microglia_data/\")\n",
    "    print(f\"The following dataset will be analyzed: {str(directory_path)}\")\n",
    "    \n",
    "elif dataset == \"astrocyte\":\n",
    "    directory_path = Path(\"./astrocyte_data/\")\n",
    "    print(f\"The following dataset will be analyzed: {str(directory_path)}\")\n",
    "else:\n",
    "    print(\"Please define an existing dataset\")"
   ]
  },
  {
   "cell_type": "code",
   "execution_count": null,
   "metadata": {},
   "outputs": [],
   "source": [
    "# Create an empty list to store all image filepaths within the dataset directory\n",
    "images = []\n",
    "\n",
    "# Iterate through the lsm files in the directory\n",
    "for file_path in directory_path.glob(\"*.lsm\"):\n",
    "    images.append(str(file_path))\n",
    "    \n",
    "images"
   ]
  },
  {
   "cell_type": "code",
   "execution_count": null,
   "metadata": {},
   "outputs": [],
   "source": [
    "# Define analysis parameters\n",
    "\n",
    "# Diameter in pixels of the nuclei present in your image, helps Cellpose to adjust nuclei mask predictions\n",
    "\n",
    "# (cellpdia) in the results.csv file \n",
    "cellpose_nuclei_diameter = 30\n",
    "\n",
    "# Blurs the mip_nuclei image to even out high intensity foci within the nucleus, the higher the value blurriness increases\n",
    "# High values help segment sparse nuclei (CA and CTX regions) but as a drawback it merges nuclei entities that are very close together (DG region)\n",
    "\n",
    "# (sigma) in the results.csv file\n",
    "gaussian_sigma = 1\n",
    "\n",
    "# Defines how much the Cellpose detected nuclei are dilated in pixels to make sure the foci damage sit inside \n",
    "\n",
    "# (dilrad) in the results.csv file\n",
    "dilation_radius_nuclei = 4\n",
    "\n",
    "# Anything above this value is considered glia+ signal, it works well in scenarios where the glia staining intensities and background levels\n",
    "# are uniform across samples, otherwise it causes issues of mislabeling (a high background signal will be considered as glia+)\n",
    "\n",
    "# (gliathr) in the results.csv file\n",
    "glia_channel_threshold = 20\n",
    "\n",
    "# If set to True it overrides the thresholding method to detect glia+ signal and instead using APOC semantic classifier\n",
    "# It has the advantage of detecting true glia+ signal across varying intensities but it is not as precise as thresholding and might introduce\n",
    "# noise into your analysis results by segmenting suboptimal stainings.\n",
    "\n",
    "# If True (glia_sem_seg_v) appears in the results.csv file instead of gliathr\n",
    "glia_segmenter = False\n",
    "\n",
    "# Selects the glia_segmenter version (so far I have only trained 1)\n",
    "\n",
    "# (glia_sem_seg_v) in the results.csv file \n",
    "glia_segmenter_version = 1\n",
    "\n",
    "# Sets the amount of erosion that is applied to areas where the glia+ signal colocalizes with nuclear signal\n",
    "# This erosion is needed to remove small artifacts where a glial protrusion sits on top of a nuclei but does not correspond to a glial cell\n",
    "# The higher the value, the stricter the conditions to consider a nuclei as glia+. Too high values will result in the complete absence of glia+ nuclei\n",
    "# Initial analysis versions was 5, 6 removes most artifacts.\n",
    "\n",
    "# (gliaero) in the results.csv file \n",
    "glia_nuclei_colocalization_erosion = 6 \n",
    "\n",
    "# Selects the version of APOC object segmenter for detection of DNA damage foci\n",
    "# 1 works well for fresh slides but not old stainings, 2 and 3 generalize better over fresh and old stainings.\n",
    "# 3 is skewed towards detection of foci in suboptimal stains so it introduces some noise in the results. 1 is the strictest and 3 the loosest.\n",
    "\n",
    "# (dnad_obj_seg_v) in the results.csv file\n",
    "dna_damage_segmenter_version = 2\n",
    "\n",
    "# This step allows you to fine tune the size of what is considered a spot and what is not, by increasing the dna_damage_erosion parameter you will consider only the bigger spots and discard the small ones.\n",
    "\n",
    "# (dnadero) in the results.csv file\n",
    "dna_damage_erosion = 2 \n"
   ]
  },
  {
   "cell_type": "code",
   "execution_count": null,
   "metadata": {},
   "outputs": [],
   "source": [
    "analyze_images(images, cellpose_nuclei_diameter, gaussian_sigma, dilation_radius_nuclei, glia_channel_threshold, dna_damage_segmenter_version, glia_segmenter, glia_segmenter_version, glia_nuclei_colocalization_erosion, dna_damage_erosion, dataset)"
   ]
  }
 ],
 "metadata": {
  "kernelspec": {
   "display_name": "YOLOv8-napari",
   "language": "python",
   "name": "python3"
  },
  "language_info": {
   "codemirror_mode": {
    "name": "ipython",
    "version": 3
   },
   "file_extension": ".py",
   "mimetype": "text/x-python",
   "name": "python",
   "nbconvert_exporter": "python",
   "pygments_lexer": "ipython3",
   "version": "3.9.18"
  }
 },
 "nbformat": 4,
 "nbformat_minor": 2
}
