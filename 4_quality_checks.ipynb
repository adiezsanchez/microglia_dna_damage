{
 "cells": [
  {
   "cell_type": "code",
   "execution_count": null,
   "metadata": {},
   "outputs": [],
   "source": [
    "from pathlib import Path\n",
    "from tqdm import tqdm\n",
    "import napari\n",
    "import tifffile\n",
    "import numpy as np\n",
    "from cellpose import models\n",
    "import skimage\n",
    "from skimage import measure\n",
    "from scipy.ndimage import binary_erosion, binary_dilation, label\n",
    "import pyclesperanto_prototype as cle\n",
    "from apoc import ObjectSegmenter\n",
    "import pandas as pd\n",
    "from utils import count_particles_in_nuclei"
   ]
  },
  {
   "cell_type": "code",
   "execution_count": null,
   "metadata": {},
   "outputs": [],
   "source": [
    "directory_path = Path(\"./raw_data/\")\n",
    "images = []\n",
    "\n",
    "# Iterate through the lsm files in the directory\n",
    "for file_path in directory_path.glob(\"*.lsm\"):\n",
    "    images.append(str(file_path))\n",
    "    \n",
    "images"
   ]
  },
  {
   "cell_type": "code",
   "execution_count": null,
   "metadata": {},
   "outputs": [],
   "source": [
    "viewer = napari.Viewer(ndisplay=2)\n",
    "model = models.Cellpose(gpu=True, model_type='nuclei')\n",
    "\n",
    "sigmas = [5, 6, 7, 8 , 9, 10]\n",
    "\n",
    "for sigma in sigmas:\n",
    "    \n",
    "    image = images[47]\n",
    "    \n",
    "    # Extract filename\n",
    "    file_path = Path(image)\n",
    "    filename = file_path.stem\n",
    "\n",
    "    # Read the image file \n",
    "    img = tifffile.imread(image)\n",
    "\n",
    "    # Extract the stack containing the nuclei (0), dna_damage (1) and microglia channel (2)\n",
    "    nuclei_stack = img[:,0,:,:]\n",
    "    dna_damage_stack = img[:,1,:,:]\n",
    "    microglia_stack = img[:,2,:,:]\n",
    "\n",
    "    # Perform maximum intensity projections\n",
    "    nuclei_mip = np.max(nuclei_stack, axis=0)\n",
    "    dna_damage_mip = np.max(dna_damage_stack, axis=0)\n",
    "    microglia_mip = np.max(microglia_stack, axis=0)\n",
    "\n",
    "    # Stack the arrays along a new axis (axis 0)\n",
    "    stack = np.stack((nuclei_mip, dna_damage_mip, microglia_mip), axis=0)\n",
    "\n",
    "    # Create a copy of nuclei_mip\n",
    "    input_img = nuclei_mip.copy()\n",
    "\n",
    "    # Might need to perform a Gaussian-blur before\n",
    "    post_gaussian_img = skimage.filters.gaussian(input_img, sigma=sigma)\n",
    "\n",
    "    # Predict nuclei nuclei_masks using cellpose\n",
    "    nuclei_masks, flows, styles, diams = model.eval(post_gaussian_img, diameter=30, channels=[0, 0], net_avg=False)\n",
    "\n",
    "    # Dilate nuclei to make sure the dna_damage_foci objects sit inside\n",
    "    dilated_nuclei_masks = cle.dilate_labels(nuclei_masks, radius=4)\n",
    "    # Erode dilated_nuclei_masks to obtain separate objects upon binarization\n",
    "    eroded_nuclei_masks = cle.erode_labels(dilated_nuclei_masks, radius=1)\n",
    "\n",
    "    # Show the resulting stack in Napari\n",
    "    viewer.add_image(nuclei_mip, name=f\"{filename}_nuclei\")\n",
    "    viewer.add_labels(eroded_nuclei_masks, name=f\"{filename}_nuclei_mask_split_{sigma}\")"
   ]
  }
 ],
 "metadata": {
  "kernelspec": {
   "display_name": "YOLOv8-napari",
   "language": "python",
   "name": "python3"
  },
  "language_info": {
   "codemirror_mode": {
    "name": "ipython",
    "version": 3
   },
   "file_extension": ".py",
   "mimetype": "text/x-python",
   "name": "python",
   "nbconvert_exporter": "python",
   "pygments_lexer": "ipython3",
   "version": "3.9.18"
  }
 },
 "nbformat": 4,
 "nbformat_minor": 2
}
