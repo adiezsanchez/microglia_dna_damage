{
 "cells": [
  {
   "cell_type": "code",
   "execution_count": 1,
   "metadata": {},
   "outputs": [
    {
     "name": "stdout",
     "output_type": "stream",
     "text": [
      "Pre-signed URL for microglia_dna_damage.zip: https://brage.it.ntnu.no/mhbucket/CMIC/raw_data/microglia_dna_damage.zip?AWSAccessKeyId=AKIA8E210FD3550BED0D&Signature=1VaJe2XYmpMboShOajus2TXun04%3D&Expires=1732104743\n",
      "S3 Etag for microglia_dna_damage.zip: \"72b304de4d6a760f662c8a8ede15cca7-107\"\n"
     ]
    }
   ],
   "source": [
    "import boto3\n",
    "from botocore.exceptions import NoCredentialsError\n",
    "\n",
    "# Define the repository for which you want to generate the pre-signed URL containing the raw data\n",
    "repository_url = \"https://github.com/adiezsanchez/microglia_dna_damage\"\n",
    "repository_name = repository_url.split(\"/\")[-1]\n",
    "\n",
    "# Configure your AWS details\n",
    "bucket_name = 'mhbucket'\n",
    "folder_path = 'CMIC/raw_data/'\n",
    "expiration = 7200  # URL expiration time in seconds\n",
    "\n",
    "# Explicitly create a session with your profile\n",
    "session = boto3.Session(profile_name='mhread')\n",
    "\n",
    "# Initialize the S3 client using the session\n",
    "s3_client = session.client('s3')\n",
    "\n",
    "try:\n",
    "    # Create and empty list to store all pre-signed URLs\n",
    "    presigned_urls = []\n",
    "    \n",
    "    # List objects within the specified folder\n",
    "    response = s3_client.list_objects_v2(Bucket=bucket_name, Prefix=folder_path)\n",
    "    for obj in response.get('Contents', []):\n",
    "        \n",
    "        # Extract filepath from metadata\n",
    "        file_path = obj['Key']\n",
    "        # Extract filename\n",
    "        file_name = file_path.split('/')[-1]\n",
    "        # Extract MD5 hash from metadata\n",
    "        s3_etag = obj['ETag']\n",
    "        \n",
    "        if file_path.endswith('.zip') and repository_name in file_path:\n",
    "            # Generate a pre-signed URL for each .zip file\n",
    "            presigned_url = s3_client.generate_presigned_url('get_object',\n",
    "                                                             Params={'Bucket': bucket_name,\n",
    "                                                                     'Key': file_path},\n",
    "                                                             ExpiresIn=expiration)\n",
    "            # Append presigned_url to empty list\n",
    "            presigned_urls.append(presigned_url)\n",
    "            # Print pre-seigned URLs and MD5 hash on a per file basis\n",
    "            print(f\"Pre-signed URL for {file_name}: {presigned_url}\")\n",
    "            print(f\"S3 Etag for {file_name}: {s3_etag}\")\n",
    "            \n",
    "except NoCredentialsError:\n",
    "    print(\"Credentials not available\")\n",
    "\n",
    "\n"
   ]
  },
  {
   "cell_type": "code",
   "execution_count": 2,
   "metadata": {},
   "outputs": [
    {
     "name": "stdout",
     "output_type": "stream",
     "text": [
      "['https://brage.it.ntnu.no/mhbucket/CMIC/raw_data/microglia_dna_damage.zip?AWSAccessKeyId=AKIA8E210FD3550BED0D&Signature=1VaJe2XYmpMboShOajus2TXun04%3D&Expires=1732104743']\n"
     ]
    }
   ],
   "source": [
    "print(presigned_urls)"
   ]
  }
 ],
 "metadata": {
  "kernelspec": {
   "display_name": "aws",
   "language": "python",
   "name": "python3"
  },
  "language_info": {
   "codemirror_mode": {
    "name": "ipython",
    "version": 3
   },
   "file_extension": ".py",
   "mimetype": "text/x-python",
   "name": "python",
   "nbconvert_exporter": "python",
   "pygments_lexer": "ipython3",
   "version": "3.12.3"
  }
 },
 "nbformat": 4,
 "nbformat_minor": 2
}
