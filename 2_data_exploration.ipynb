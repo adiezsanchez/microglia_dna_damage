{
 "cells": [
  {
   "cell_type": "code",
   "execution_count": 20,
   "metadata": {},
   "outputs": [],
   "source": [
    "import pandas as pd\n",
    "import plotly.express as px\n",
    "import matplotlib.pyplot as plt"
   ]
  },
  {
   "cell_type": "code",
   "execution_count": 21,
   "metadata": {},
   "outputs": [
    {
     "data": {
      "text/html": [
       "<div>\n",
       "<style scoped>\n",
       "    .dataframe tbody tr th:only-of-type {\n",
       "        vertical-align: middle;\n",
       "    }\n",
       "\n",
       "    .dataframe tbody tr th {\n",
       "        vertical-align: top;\n",
       "    }\n",
       "\n",
       "    .dataframe thead th {\n",
       "        text-align: right;\n",
       "    }\n",
       "</style>\n",
       "<table border=\"1\" class=\"dataframe\">\n",
       "  <thead>\n",
       "    <tr style=\"text-align: right;\">\n",
       "      <th></th>\n",
       "      <th>index</th>\n",
       "      <th>filename</th>\n",
       "      <th>avg_dna_damage_foci/glia_+</th>\n",
       "      <th>avg_dna_damage_foci/all_nuclei</th>\n",
       "      <th>nr_+_dna_damage_glia_nuclei</th>\n",
       "      <th>nr_-_dna_damage_glia_nuclei</th>\n",
       "      <th>nr_glia_+_nuclei</th>\n",
       "      <th>nr_total_nuclei</th>\n",
       "      <th>tissue_location</th>\n",
       "      <th>sample_id</th>\n",
       "    </tr>\n",
       "  </thead>\n",
       "  <tbody>\n",
       "    <tr>\n",
       "      <th>0</th>\n",
       "      <td>0</td>\n",
       "      <td>DSB Iba1 16_40X_CA1</td>\n",
       "      <td>0.564286</td>\n",
       "      <td>0.738636</td>\n",
       "      <td>59</td>\n",
       "      <td>81</td>\n",
       "      <td>140</td>\n",
       "      <td>176</td>\n",
       "      <td>CA1</td>\n",
       "      <td>16</td>\n",
       "    </tr>\n",
       "    <tr>\n",
       "      <th>1</th>\n",
       "      <td>1</td>\n",
       "      <td>DSB Iba1 16_40X_CA3</td>\n",
       "      <td>2.718954</td>\n",
       "      <td>3.687500</td>\n",
       "      <td>138</td>\n",
       "      <td>15</td>\n",
       "      <td>153</td>\n",
       "      <td>160</td>\n",
       "      <td>CA3</td>\n",
       "      <td>16</td>\n",
       "    </tr>\n",
       "    <tr>\n",
       "      <th>2</th>\n",
       "      <td>2</td>\n",
       "      <td>DSB Iba1 16_40X_CTX1</td>\n",
       "      <td>0.729730</td>\n",
       "      <td>0.699115</td>\n",
       "      <td>17</td>\n",
       "      <td>20</td>\n",
       "      <td>37</td>\n",
       "      <td>226</td>\n",
       "      <td>CTX1</td>\n",
       "      <td>16</td>\n",
       "    </tr>\n",
       "    <tr>\n",
       "      <th>3</th>\n",
       "      <td>3</td>\n",
       "      <td>DSB Iba1 16_40X_CTX2</td>\n",
       "      <td>1.698690</td>\n",
       "      <td>2.296296</td>\n",
       "      <td>219</td>\n",
       "      <td>10</td>\n",
       "      <td>229</td>\n",
       "      <td>243</td>\n",
       "      <td>CTX2</td>\n",
       "      <td>16</td>\n",
       "    </tr>\n",
       "    <tr>\n",
       "      <th>4</th>\n",
       "      <td>4</td>\n",
       "      <td>DSB Iba1 16_40X_CTX3</td>\n",
       "      <td>1.732283</td>\n",
       "      <td>1.822967</td>\n",
       "      <td>118</td>\n",
       "      <td>9</td>\n",
       "      <td>127</td>\n",
       "      <td>209</td>\n",
       "      <td>CTX3</td>\n",
       "      <td>16</td>\n",
       "    </tr>\n",
       "  </tbody>\n",
       "</table>\n",
       "</div>"
      ],
      "text/plain": [
       "   index              filename  avg_dna_damage_foci/glia_+  \\\n",
       "0      0   DSB Iba1 16_40X_CA1                    0.564286   \n",
       "1      1   DSB Iba1 16_40X_CA3                    2.718954   \n",
       "2      2  DSB Iba1 16_40X_CTX1                    0.729730   \n",
       "3      3  DSB Iba1 16_40X_CTX2                    1.698690   \n",
       "4      4  DSB Iba1 16_40X_CTX3                    1.732283   \n",
       "\n",
       "   avg_dna_damage_foci/all_nuclei  nr_+_dna_damage_glia_nuclei  \\\n",
       "0                        0.738636                           59   \n",
       "1                        3.687500                          138   \n",
       "2                        0.699115                           17   \n",
       "3                        2.296296                          219   \n",
       "4                        1.822967                          118   \n",
       "\n",
       "   nr_-_dna_damage_glia_nuclei  nr_glia_+_nuclei  nr_total_nuclei  \\\n",
       "0                           81               140              176   \n",
       "1                           15               153              160   \n",
       "2                           20                37              226   \n",
       "3                           10               229              243   \n",
       "4                            9               127              209   \n",
       "\n",
       "  tissue_location sample_id  \n",
       "0             CA1        16  \n",
       "1             CA3        16  \n",
       "2            CTX1        16  \n",
       "3            CTX2        16  \n",
       "4            CTX3        16  "
      ]
     },
     "execution_count": 21,
     "metadata": {},
     "output_type": "execute_result"
    }
   ],
   "source": [
    "csv_path = \"./test_results.csv\"\n",
    "\n",
    "# Read the CSV file\n",
    "df = pd.read_csv(csv_path)\n",
    "\n",
    "# Convert the index into a column\n",
    "df.reset_index(inplace=True)\n",
    "\n",
    "# Extract 'tissue_location'\n",
    "df['tissue_location'] = df['filename'].str.split('_40X_').str[-1]\n",
    "\n",
    "# Extract 'sample_id'\n",
    "df['sample_id'] = df['filename'].str.extract('(\\d+)_40X')\n",
    "\n",
    "# Display the first few rows of the DataFrame\n",
    "df.head()\n"
   ]
  },
  {
   "cell_type": "code",
   "execution_count": 22,
   "metadata": {},
   "outputs": [
    {
     "data": {
      "application/vnd.plotly.v1+json": {
       "config": {
        "plotlyServerURL": "https://plot.ly"
       },
       "data": [
        {
         "customdata": [
          [
           "16",
           0
          ],
          [
           "16",
           1
          ],
          [
           "16",
           2
          ],
          [
           "16",
           3
          ],
          [
           "16",
           4
          ],
          [
           "16",
           5
          ],
          [
           "17",
           6
          ],
          [
           "17",
           7
          ],
          [
           "17",
           8
          ],
          [
           "17",
           9
          ],
          [
           "17",
           10
          ],
          [
           "17",
           11
          ],
          [
           "18",
           12
          ],
          [
           "18",
           13
          ],
          [
           "18",
           14
          ],
          [
           "18",
           15
          ],
          [
           "18",
           16
          ],
          [
           "18",
           17
          ],
          [
           "19",
           18
          ],
          [
           "19",
           19
          ],
          [
           "19",
           20
          ],
          [
           "19",
           21
          ],
          [
           "19",
           22
          ],
          [
           "19",
           23
          ],
          [
           "20",
           24
          ],
          [
           "20",
           25
          ],
          [
           "20",
           26
          ],
          [
           "20",
           27
          ],
          [
           "20",
           28
          ],
          [
           "20",
           29
          ],
          [
           "21",
           30
          ],
          [
           "21",
           31
          ],
          [
           "21",
           32
          ],
          [
           "21",
           33
          ],
          [
           "21",
           34
          ],
          [
           "21",
           35
          ],
          [
           "22",
           36
          ],
          [
           "22",
           37
          ],
          [
           "22",
           38
          ],
          [
           "22",
           39
          ],
          [
           "22",
           40
          ],
          [
           "22",
           41
          ],
          [
           "23",
           42
          ],
          [
           "23",
           43
          ],
          [
           "23",
           44
          ],
          [
           "23",
           45
          ],
          [
           "23",
           46
          ],
          [
           "23",
           47
          ],
          [
           "24",
           48
          ],
          [
           "24",
           49
          ],
          [
           "24",
           50
          ],
          [
           "24",
           51
          ],
          [
           "24",
           52
          ],
          [
           "24",
           53
          ],
          [
           "25",
           54
          ],
          [
           "25",
           55
          ],
          [
           "25",
           56
          ],
          [
           "25",
           57
          ],
          [
           "25",
           58
          ],
          [
           "25",
           59
          ],
          [
           "26",
           60
          ],
          [
           "26",
           61
          ],
          [
           "26",
           62
          ],
          [
           "26",
           63
          ],
          [
           "26",
           64
          ],
          [
           "26",
           65
          ],
          [
           "27",
           66
          ],
          [
           "28",
           67
          ],
          [
           "28",
           68
          ],
          [
           "28",
           69
          ],
          [
           "28",
           70
          ],
          [
           "28",
           71
          ],
          [
           "28",
           72
          ],
          [
           "29",
           73
          ],
          [
           "29",
           74
          ],
          [
           "29",
           75
          ],
          [
           "29",
           76
          ],
          [
           "29",
           77
          ],
          [
           "29",
           78
          ],
          [
           "30",
           79
          ],
          [
           "30",
           80
          ],
          [
           "30",
           81
          ],
          [
           "30",
           82
          ],
          [
           "30",
           83
          ],
          [
           "30",
           84
          ],
          [
           "31",
           85
          ],
          [
           "31",
           86
          ],
          [
           "31",
           87
          ],
          [
           "31",
           88
          ],
          [
           "31",
           89
          ],
          [
           "31",
           90
          ],
          [
           "32",
           91
          ],
          [
           "32",
           92
          ],
          [
           "32",
           93
          ],
          [
           "32",
           94
          ],
          [
           "32",
           95
          ],
          [
           "32",
           96
          ],
          [
           "33",
           97
          ],
          [
           "33",
           98
          ],
          [
           "33",
           99
          ],
          [
           "33",
           100
          ],
          [
           "33",
           101
          ],
          [
           "33",
           102
          ],
          [
           "34",
           103
          ],
          [
           "34",
           104
          ],
          [
           "34",
           105
          ],
          [
           "34",
           106
          ],
          [
           "34",
           107
          ],
          [
           "34",
           108
          ],
          [
           "35",
           109
          ],
          [
           "35",
           110
          ],
          [
           "35",
           111
          ],
          [
           "35",
           112
          ],
          [
           "35",
           113
          ],
          [
           "35",
           114
          ],
          [
           "36",
           115
          ],
          [
           "36",
           116
          ],
          [
           "36",
           117
          ],
          [
           "36",
           118
          ],
          [
           "36",
           119
          ],
          [
           "36",
           120
          ],
          [
           "37",
           121
          ],
          [
           "37",
           122
          ],
          [
           "37",
           123
          ],
          [
           "37",
           124
          ],
          [
           "37",
           125
          ],
          [
           "37",
           126
          ],
          [
           "38",
           127
          ],
          [
           "39",
           128
          ],
          [
           "39",
           129
          ],
          [
           "39",
           130
          ],
          [
           "39",
           131
          ],
          [
           "39",
           132
          ],
          [
           "39",
           133
          ],
          [
           "40",
           134
          ],
          [
           "40",
           135
          ],
          [
           "40",
           136
          ],
          [
           "40",
           137
          ],
          [
           "40",
           138
          ],
          [
           "40",
           139
          ],
          [
           "41",
           140
          ],
          [
           "41",
           141
          ],
          [
           "41",
           142
          ],
          [
           "41",
           143
          ],
          [
           "41",
           144
          ],
          [
           "41",
           145
          ],
          [
           "42",
           146
          ],
          [
           "42",
           147
          ],
          [
           "42",
           148
          ],
          [
           "42",
           149
          ],
          [
           "42",
           150
          ],
          [
           "42",
           151
          ],
          [
           "43",
           152
          ],
          [
           "43",
           153
          ],
          [
           "43",
           154
          ],
          [
           "43",
           155
          ],
          [
           "43",
           156
          ],
          [
           "43",
           157
          ],
          [
           "44",
           158
          ],
          [
           "44",
           159
          ],
          [
           "44",
           160
          ],
          [
           "44",
           161
          ],
          [
           "45",
           162
          ],
          [
           "45",
           163
          ],
          [
           "45",
           164
          ],
          [
           "45",
           165
          ],
          [
           "45",
           166
          ],
          [
           "45",
           167
          ],
          [
           "46",
           168
          ],
          [
           "46",
           169
          ],
          [
           "46",
           170
          ],
          [
           "46",
           171
          ],
          [
           "46",
           172
          ],
          [
           "46",
           173
          ],
          [
           "47",
           174
          ],
          [
           "47",
           175
          ],
          [
           "47",
           176
          ],
          [
           "47",
           177
          ],
          [
           "47",
           178
          ],
          [
           "47",
           179
          ],
          [
           "48",
           180
          ],
          [
           "48",
           181
          ],
          [
           "48",
           182
          ],
          [
           "48",
           183
          ],
          [
           "48",
           184
          ],
          [
           "48",
           185
          ],
          [
           "49",
           186
          ],
          [
           "49",
           187
          ],
          [
           "49",
           188
          ],
          [
           "49",
           189
          ],
          [
           "49",
           190
          ],
          [
           "49",
           191
          ],
          [
           "50",
           192
          ],
          [
           "50",
           193
          ],
          [
           "50",
           194
          ],
          [
           "50",
           195
          ],
          [
           "50",
           196
          ],
          [
           "50",
           197
          ],
          [
           "51",
           198
          ],
          [
           "51",
           199
          ],
          [
           "51",
           200
          ],
          [
           "51",
           201
          ],
          [
           "51",
           202
          ],
          [
           "51",
           203
          ],
          [
           "52",
           204
          ],
          [
           "52",
           205
          ],
          [
           "52",
           206
          ],
          [
           "52",
           207
          ],
          [
           "52",
           208
          ],
          [
           "52",
           209
          ],
          [
           "53",
           210
          ],
          [
           "53",
           211
          ],
          [
           "53",
           212
          ],
          [
           "53",
           213
          ],
          [
           "53",
           214
          ],
          [
           "53",
           215
          ],
          [
           "54",
           216
          ],
          [
           "54",
           217
          ],
          [
           "54",
           218
          ],
          [
           "54",
           219
          ],
          [
           "54",
           220
          ],
          [
           "54",
           221
          ],
          [
           "55",
           222
          ],
          [
           "55",
           223
          ],
          [
           "55",
           224
          ],
          [
           "55",
           225
          ],
          [
           "55",
           226
          ],
          [
           "55",
           227
          ],
          [
           "56",
           228
          ],
          [
           "56",
           229
          ],
          [
           "56",
           230
          ],
          [
           "56",
           231
          ],
          [
           "56",
           232
          ],
          [
           "56",
           233
          ],
          [
           "57",
           234
          ],
          [
           "57",
           235
          ],
          [
           "57",
           236
          ],
          [
           "57",
           237
          ],
          [
           "57",
           238
          ],
          [
           "57",
           239
          ],
          [
           "58",
           240
          ],
          [
           "58",
           241
          ],
          [
           "58",
           242
          ],
          [
           "58",
           243
          ],
          [
           "58",
           244
          ],
          [
           "58",
           245
          ],
          [
           "59",
           246
          ],
          [
           "59",
           247
          ],
          [
           "59",
           248
          ],
          [
           "59",
           249
          ],
          [
           "59",
           250
          ],
          [
           "59",
           251
          ]
         ],
         "hovertemplate": "tissue_location=%{x}<br>nr_+_dna_damage_glia_nuclei=%{y}<br>sample_id=%{customdata[0]}<br>index=%{customdata[1]}<extra></extra>",
         "legendgroup": "",
         "marker": {
          "color": "#636efa",
          "symbol": "circle"
         },
         "mode": "markers",
         "name": "",
         "orientation": "v",
         "showlegend": false,
         "type": "scatter",
         "x": [
          "CA1",
          "CA3",
          "CTX1",
          "CTX2",
          "CTX3",
          "DG",
          "CA1",
          "CA3",
          "CTX1",
          "CTX2",
          "CTX3",
          "DG",
          "CA1",
          "CA3",
          "CTX1",
          "CTX2",
          "CTX3",
          "DG",
          "CA1",
          "CA3",
          "CTX1",
          "CTX2",
          "CTX3",
          "DG",
          "CA1",
          "CA3",
          "CTX1",
          "CTX2",
          "CTX3",
          "DG",
          "CA1",
          "CA3",
          "CTX1",
          "CTX2",
          "CTX3",
          "DG",
          "CA1",
          "CA3",
          "CTX1",
          "CTX2",
          "CTX3",
          "DG",
          "CA1",
          "CA3",
          "CTX1",
          "CTX2",
          "CTX3",
          "DG",
          "CA1",
          "CA3",
          "CTX1",
          "CTX2",
          "CTX3",
          "DG",
          "CA1",
          "CA3",
          "CTX1",
          "CTX2",
          "CTX3",
          "DG",
          "CA1",
          "CA3",
          "CTX1",
          "CTX2",
          "CTX3",
          "DG",
          "DG",
          "CA1",
          "CA3",
          "CTX1",
          "CTX2",
          "CTX3",
          "DG",
          "CA1",
          "CA3",
          "CTX1",
          "CTX2",
          "CTX3",
          "DG",
          "CA1",
          "CA3",
          "CTX1",
          "CTX2",
          "CTX3",
          "DG",
          "CA1",
          "CA3",
          "CTX1",
          "CTX2",
          "CTX3",
          "DG",
          "CA1",
          "CA3",
          "CTX1",
          "CTX2",
          "CTX3",
          "DG",
          "CA1",
          "CA3",
          "CTX1",
          "CTX2",
          "CTX3",
          "DG",
          "CA1",
          "CA3",
          "CTX1",
          "CTX2",
          "CTX3",
          "DG",
          "CA1",
          "CA3",
          "CTX1",
          "CTX2",
          "CTX3",
          "DG",
          "CA1",
          "CA3",
          "CTX1",
          "CTX2",
          "CTX3",
          "DG",
          "CA1",
          "CA3",
          "CTX1",
          "CTX2",
          "CTX3",
          "DG",
          "DG",
          "CA1",
          "CA3",
          "CTX1",
          "CTX2",
          "CTX3",
          "DG",
          "CA1",
          "CA3",
          "CTX1",
          "CTX2",
          "CTX3",
          "DG",
          "CA1",
          "CA3",
          "CTX1",
          "CTX2",
          "CTX3",
          "DG",
          "CA1",
          "CA3",
          "CTX1",
          "CTX2",
          "CTX3",
          "DG",
          "CA1",
          "CA3",
          "CTX1",
          "CTX2",
          "CTX3",
          "DG",
          "CA1",
          "CA3",
          "CTX1",
          "DG",
          "CA1",
          "CA3",
          "CTX1",
          "CTX2",
          "CTX3",
          "DG",
          "CA1",
          "CA3",
          "CTX1",
          "CTX2",
          "CTX3",
          "DG",
          "CA1",
          "CA3",
          "CTX1",
          "CTX2",
          "CTX3",
          "DG",
          "CA1",
          "CA3",
          "CTX1",
          "CTX2",
          "CTX3",
          "DG",
          "CA1",
          "CA3",
          "CTX1",
          "CTX2",
          "CTX3",
          "DG",
          "CA1",
          "CA3",
          "CTX1",
          "CTX2",
          "CTX3",
          "DG",
          "CA1",
          "CA3",
          "CTX1",
          "CTX2",
          "CTX3",
          "DG",
          "CA1",
          "CA3",
          "CTX1",
          "CTX2",
          "CTX3",
          "DG",
          "CA1",
          "CA3",
          "CTX1",
          "CTX2",
          "CTX3",
          "DG",
          "CA1",
          "CA3",
          "CTX1",
          "CTX2",
          "CTX3",
          "DG",
          "CA1",
          "CA3",
          "CTX1",
          "CTX2",
          "CTX3",
          "DG",
          "CA1",
          "CA3",
          "CTX1",
          "CTX2",
          "CTX3",
          "DG",
          "CA1",
          "CA3",
          "CTX1",
          "CTX2",
          "CTX3",
          "DG",
          "CA1",
          "CA3",
          "CTX1",
          "CTX2",
          "CTX3",
          "DG",
          "CA1",
          "CA3",
          "CTX1",
          "CTX2",
          "CTX3",
          "DG"
         ],
         "xaxis": "x",
         "y": [
          59,
          138,
          17,
          219,
          118,
          131,
          6,
          15,
          14,
          50,
          39,
          85,
          14,
          5,
          12,
          15,
          11,
          87,
          29,
          29,
          77,
          27,
          27,
          45,
          3,
          2,
          1,
          10,
          1,
          6,
          5,
          1,
          10,
          8,
          16,
          13,
          11,
          4,
          6,
          9,
          2,
          17,
          1,
          0,
          8,
          0,
          9,
          7,
          0,
          0,
          0,
          9,
          1,
          0,
          4,
          2,
          8,
          9,
          5,
          13,
          9,
          5,
          17,
          15,
          33,
          14,
          6,
          1,
          1,
          2,
          6,
          7,
          16,
          4,
          3,
          13,
          15,
          8,
          5,
          0,
          3,
          8,
          5,
          5,
          3,
          4,
          0,
          5,
          6,
          3,
          9,
          24,
          19,
          47,
          71,
          39,
          65,
          2,
          4,
          4,
          9,
          5,
          7,
          15,
          6,
          25,
          35,
          26,
          25,
          1,
          21,
          8,
          129,
          63,
          107,
          7,
          1,
          14,
          18,
          4,
          5,
          4,
          3,
          11,
          20,
          14,
          8,
          8,
          0,
          2,
          0,
          0,
          1,
          8,
          2,
          1,
          12,
          7,
          20,
          3,
          0,
          1,
          0,
          0,
          2,
          5,
          1,
          1,
          3,
          5,
          1,
          3,
          2,
          0,
          18,
          3,
          7,
          26,
          21,
          23,
          107,
          84,
          9,
          3,
          9,
          11,
          7,
          14,
          51,
          39,
          97,
          122,
          92,
          88,
          6,
          6,
          9,
          73,
          27,
          13,
          4,
          0,
          20,
          13,
          12,
          7,
          15,
          5,
          13,
          10,
          4,
          29,
          1,
          1,
          0,
          3,
          13,
          7,
          4,
          2,
          4,
          7,
          12,
          11,
          4,
          1,
          1,
          6,
          8,
          11,
          5,
          2,
          22,
          19,
          6,
          20,
          1,
          0,
          7,
          7,
          6,
          9,
          1,
          1,
          0,
          4,
          0,
          8,
          5,
          1,
          7,
          14,
          8,
          11,
          7,
          4,
          10,
          11,
          1,
          19,
          3,
          1,
          10,
          12,
          4,
          3,
          2,
          0,
          3,
          7,
          6,
          8
         ],
         "yaxis": "y"
        }
       ],
       "layout": {
        "legend": {
         "tracegroupgap": 0
        },
        "template": {
         "data": {
          "bar": [
           {
            "error_x": {
             "color": "#2a3f5f"
            },
            "error_y": {
             "color": "#2a3f5f"
            },
            "marker": {
             "line": {
              "color": "#E5ECF6",
              "width": 0.5
             },
             "pattern": {
              "fillmode": "overlay",
              "size": 10,
              "solidity": 0.2
             }
            },
            "type": "bar"
           }
          ],
          "barpolar": [
           {
            "marker": {
             "line": {
              "color": "#E5ECF6",
              "width": 0.5
             },
             "pattern": {
              "fillmode": "overlay",
              "size": 10,
              "solidity": 0.2
             }
            },
            "type": "barpolar"
           }
          ],
          "carpet": [
           {
            "aaxis": {
             "endlinecolor": "#2a3f5f",
             "gridcolor": "white",
             "linecolor": "white",
             "minorgridcolor": "white",
             "startlinecolor": "#2a3f5f"
            },
            "baxis": {
             "endlinecolor": "#2a3f5f",
             "gridcolor": "white",
             "linecolor": "white",
             "minorgridcolor": "white",
             "startlinecolor": "#2a3f5f"
            },
            "type": "carpet"
           }
          ],
          "choropleth": [
           {
            "colorbar": {
             "outlinewidth": 0,
             "ticks": ""
            },
            "type": "choropleth"
           }
          ],
          "contour": [
           {
            "colorbar": {
             "outlinewidth": 0,
             "ticks": ""
            },
            "colorscale": [
             [
              0,
              "#0d0887"
             ],
             [
              0.1111111111111111,
              "#46039f"
             ],
             [
              0.2222222222222222,
              "#7201a8"
             ],
             [
              0.3333333333333333,
              "#9c179e"
             ],
             [
              0.4444444444444444,
              "#bd3786"
             ],
             [
              0.5555555555555556,
              "#d8576b"
             ],
             [
              0.6666666666666666,
              "#ed7953"
             ],
             [
              0.7777777777777778,
              "#fb9f3a"
             ],
             [
              0.8888888888888888,
              "#fdca26"
             ],
             [
              1,
              "#f0f921"
             ]
            ],
            "type": "contour"
           }
          ],
          "contourcarpet": [
           {
            "colorbar": {
             "outlinewidth": 0,
             "ticks": ""
            },
            "type": "contourcarpet"
           }
          ],
          "heatmap": [
           {
            "colorbar": {
             "outlinewidth": 0,
             "ticks": ""
            },
            "colorscale": [
             [
              0,
              "#0d0887"
             ],
             [
              0.1111111111111111,
              "#46039f"
             ],
             [
              0.2222222222222222,
              "#7201a8"
             ],
             [
              0.3333333333333333,
              "#9c179e"
             ],
             [
              0.4444444444444444,
              "#bd3786"
             ],
             [
              0.5555555555555556,
              "#d8576b"
             ],
             [
              0.6666666666666666,
              "#ed7953"
             ],
             [
              0.7777777777777778,
              "#fb9f3a"
             ],
             [
              0.8888888888888888,
              "#fdca26"
             ],
             [
              1,
              "#f0f921"
             ]
            ],
            "type": "heatmap"
           }
          ],
          "heatmapgl": [
           {
            "colorbar": {
             "outlinewidth": 0,
             "ticks": ""
            },
            "colorscale": [
             [
              0,
              "#0d0887"
             ],
             [
              0.1111111111111111,
              "#46039f"
             ],
             [
              0.2222222222222222,
              "#7201a8"
             ],
             [
              0.3333333333333333,
              "#9c179e"
             ],
             [
              0.4444444444444444,
              "#bd3786"
             ],
             [
              0.5555555555555556,
              "#d8576b"
             ],
             [
              0.6666666666666666,
              "#ed7953"
             ],
             [
              0.7777777777777778,
              "#fb9f3a"
             ],
             [
              0.8888888888888888,
              "#fdca26"
             ],
             [
              1,
              "#f0f921"
             ]
            ],
            "type": "heatmapgl"
           }
          ],
          "histogram": [
           {
            "marker": {
             "pattern": {
              "fillmode": "overlay",
              "size": 10,
              "solidity": 0.2
             }
            },
            "type": "histogram"
           }
          ],
          "histogram2d": [
           {
            "colorbar": {
             "outlinewidth": 0,
             "ticks": ""
            },
            "colorscale": [
             [
              0,
              "#0d0887"
             ],
             [
              0.1111111111111111,
              "#46039f"
             ],
             [
              0.2222222222222222,
              "#7201a8"
             ],
             [
              0.3333333333333333,
              "#9c179e"
             ],
             [
              0.4444444444444444,
              "#bd3786"
             ],
             [
              0.5555555555555556,
              "#d8576b"
             ],
             [
              0.6666666666666666,
              "#ed7953"
             ],
             [
              0.7777777777777778,
              "#fb9f3a"
             ],
             [
              0.8888888888888888,
              "#fdca26"
             ],
             [
              1,
              "#f0f921"
             ]
            ],
            "type": "histogram2d"
           }
          ],
          "histogram2dcontour": [
           {
            "colorbar": {
             "outlinewidth": 0,
             "ticks": ""
            },
            "colorscale": [
             [
              0,
              "#0d0887"
             ],
             [
              0.1111111111111111,
              "#46039f"
             ],
             [
              0.2222222222222222,
              "#7201a8"
             ],
             [
              0.3333333333333333,
              "#9c179e"
             ],
             [
              0.4444444444444444,
              "#bd3786"
             ],
             [
              0.5555555555555556,
              "#d8576b"
             ],
             [
              0.6666666666666666,
              "#ed7953"
             ],
             [
              0.7777777777777778,
              "#fb9f3a"
             ],
             [
              0.8888888888888888,
              "#fdca26"
             ],
             [
              1,
              "#f0f921"
             ]
            ],
            "type": "histogram2dcontour"
           }
          ],
          "mesh3d": [
           {
            "colorbar": {
             "outlinewidth": 0,
             "ticks": ""
            },
            "type": "mesh3d"
           }
          ],
          "parcoords": [
           {
            "line": {
             "colorbar": {
              "outlinewidth": 0,
              "ticks": ""
             }
            },
            "type": "parcoords"
           }
          ],
          "pie": [
           {
            "automargin": true,
            "type": "pie"
           }
          ],
          "scatter": [
           {
            "fillpattern": {
             "fillmode": "overlay",
             "size": 10,
             "solidity": 0.2
            },
            "type": "scatter"
           }
          ],
          "scatter3d": [
           {
            "line": {
             "colorbar": {
              "outlinewidth": 0,
              "ticks": ""
             }
            },
            "marker": {
             "colorbar": {
              "outlinewidth": 0,
              "ticks": ""
             }
            },
            "type": "scatter3d"
           }
          ],
          "scattercarpet": [
           {
            "marker": {
             "colorbar": {
              "outlinewidth": 0,
              "ticks": ""
             }
            },
            "type": "scattercarpet"
           }
          ],
          "scattergeo": [
           {
            "marker": {
             "colorbar": {
              "outlinewidth": 0,
              "ticks": ""
             }
            },
            "type": "scattergeo"
           }
          ],
          "scattergl": [
           {
            "marker": {
             "colorbar": {
              "outlinewidth": 0,
              "ticks": ""
             }
            },
            "type": "scattergl"
           }
          ],
          "scattermapbox": [
           {
            "marker": {
             "colorbar": {
              "outlinewidth": 0,
              "ticks": ""
             }
            },
            "type": "scattermapbox"
           }
          ],
          "scatterpolar": [
           {
            "marker": {
             "colorbar": {
              "outlinewidth": 0,
              "ticks": ""
             }
            },
            "type": "scatterpolar"
           }
          ],
          "scatterpolargl": [
           {
            "marker": {
             "colorbar": {
              "outlinewidth": 0,
              "ticks": ""
             }
            },
            "type": "scatterpolargl"
           }
          ],
          "scatterternary": [
           {
            "marker": {
             "colorbar": {
              "outlinewidth": 0,
              "ticks": ""
             }
            },
            "type": "scatterternary"
           }
          ],
          "surface": [
           {
            "colorbar": {
             "outlinewidth": 0,
             "ticks": ""
            },
            "colorscale": [
             [
              0,
              "#0d0887"
             ],
             [
              0.1111111111111111,
              "#46039f"
             ],
             [
              0.2222222222222222,
              "#7201a8"
             ],
             [
              0.3333333333333333,
              "#9c179e"
             ],
             [
              0.4444444444444444,
              "#bd3786"
             ],
             [
              0.5555555555555556,
              "#d8576b"
             ],
             [
              0.6666666666666666,
              "#ed7953"
             ],
             [
              0.7777777777777778,
              "#fb9f3a"
             ],
             [
              0.8888888888888888,
              "#fdca26"
             ],
             [
              1,
              "#f0f921"
             ]
            ],
            "type": "surface"
           }
          ],
          "table": [
           {
            "cells": {
             "fill": {
              "color": "#EBF0F8"
             },
             "line": {
              "color": "white"
             }
            },
            "header": {
             "fill": {
              "color": "#C8D4E3"
             },
             "line": {
              "color": "white"
             }
            },
            "type": "table"
           }
          ]
         },
         "layout": {
          "annotationdefaults": {
           "arrowcolor": "#2a3f5f",
           "arrowhead": 0,
           "arrowwidth": 1
          },
          "autotypenumbers": "strict",
          "coloraxis": {
           "colorbar": {
            "outlinewidth": 0,
            "ticks": ""
           }
          },
          "colorscale": {
           "diverging": [
            [
             0,
             "#8e0152"
            ],
            [
             0.1,
             "#c51b7d"
            ],
            [
             0.2,
             "#de77ae"
            ],
            [
             0.3,
             "#f1b6da"
            ],
            [
             0.4,
             "#fde0ef"
            ],
            [
             0.5,
             "#f7f7f7"
            ],
            [
             0.6,
             "#e6f5d0"
            ],
            [
             0.7,
             "#b8e186"
            ],
            [
             0.8,
             "#7fbc41"
            ],
            [
             0.9,
             "#4d9221"
            ],
            [
             1,
             "#276419"
            ]
           ],
           "sequential": [
            [
             0,
             "#0d0887"
            ],
            [
             0.1111111111111111,
             "#46039f"
            ],
            [
             0.2222222222222222,
             "#7201a8"
            ],
            [
             0.3333333333333333,
             "#9c179e"
            ],
            [
             0.4444444444444444,
             "#bd3786"
            ],
            [
             0.5555555555555556,
             "#d8576b"
            ],
            [
             0.6666666666666666,
             "#ed7953"
            ],
            [
             0.7777777777777778,
             "#fb9f3a"
            ],
            [
             0.8888888888888888,
             "#fdca26"
            ],
            [
             1,
             "#f0f921"
            ]
           ],
           "sequentialminus": [
            [
             0,
             "#0d0887"
            ],
            [
             0.1111111111111111,
             "#46039f"
            ],
            [
             0.2222222222222222,
             "#7201a8"
            ],
            [
             0.3333333333333333,
             "#9c179e"
            ],
            [
             0.4444444444444444,
             "#bd3786"
            ],
            [
             0.5555555555555556,
             "#d8576b"
            ],
            [
             0.6666666666666666,
             "#ed7953"
            ],
            [
             0.7777777777777778,
             "#fb9f3a"
            ],
            [
             0.8888888888888888,
             "#fdca26"
            ],
            [
             1,
             "#f0f921"
            ]
           ]
          },
          "colorway": [
           "#636efa",
           "#EF553B",
           "#00cc96",
           "#ab63fa",
           "#FFA15A",
           "#19d3f3",
           "#FF6692",
           "#B6E880",
           "#FF97FF",
           "#FECB52"
          ],
          "font": {
           "color": "#2a3f5f"
          },
          "geo": {
           "bgcolor": "white",
           "lakecolor": "white",
           "landcolor": "#E5ECF6",
           "showlakes": true,
           "showland": true,
           "subunitcolor": "white"
          },
          "hoverlabel": {
           "align": "left"
          },
          "hovermode": "closest",
          "mapbox": {
           "style": "light"
          },
          "paper_bgcolor": "white",
          "plot_bgcolor": "#E5ECF6",
          "polar": {
           "angularaxis": {
            "gridcolor": "white",
            "linecolor": "white",
            "ticks": ""
           },
           "bgcolor": "#E5ECF6",
           "radialaxis": {
            "gridcolor": "white",
            "linecolor": "white",
            "ticks": ""
           }
          },
          "scene": {
           "xaxis": {
            "backgroundcolor": "#E5ECF6",
            "gridcolor": "white",
            "gridwidth": 2,
            "linecolor": "white",
            "showbackground": true,
            "ticks": "",
            "zerolinecolor": "white"
           },
           "yaxis": {
            "backgroundcolor": "#E5ECF6",
            "gridcolor": "white",
            "gridwidth": 2,
            "linecolor": "white",
            "showbackground": true,
            "ticks": "",
            "zerolinecolor": "white"
           },
           "zaxis": {
            "backgroundcolor": "#E5ECF6",
            "gridcolor": "white",
            "gridwidth": 2,
            "linecolor": "white",
            "showbackground": true,
            "ticks": "",
            "zerolinecolor": "white"
           }
          },
          "shapedefaults": {
           "line": {
            "color": "#2a3f5f"
           }
          },
          "ternary": {
           "aaxis": {
            "gridcolor": "white",
            "linecolor": "white",
            "ticks": ""
           },
           "baxis": {
            "gridcolor": "white",
            "linecolor": "white",
            "ticks": ""
           },
           "bgcolor": "#E5ECF6",
           "caxis": {
            "gridcolor": "white",
            "linecolor": "white",
            "ticks": ""
           }
          },
          "title": {
           "x": 0.05
          },
          "xaxis": {
           "automargin": true,
           "gridcolor": "white",
           "linecolor": "white",
           "ticks": "",
           "title": {
            "standoff": 15
           },
           "zerolinecolor": "white",
           "zerolinewidth": 2
          },
          "yaxis": {
           "automargin": true,
           "gridcolor": "white",
           "linecolor": "white",
           "ticks": "",
           "title": {
            "standoff": 15
           },
           "zerolinecolor": "white",
           "zerolinewidth": 2
          }
         }
        },
        "title": {
         "text": "Nr of DNA_damage+ glia+ nuclei by Tissue Location"
        },
        "xaxis": {
         "anchor": "y",
         "domain": [
          0,
          1
         ],
         "title": {
          "text": "tissue_location"
         }
        },
        "yaxis": {
         "anchor": "x",
         "domain": [
          0,
          1
         ],
         "title": {
          "text": "nr_+_dna_damage_glia_nuclei"
         }
        }
       }
      }
     },
     "metadata": {},
     "output_type": "display_data"
    }
   ],
   "source": [
    "# Create the plot\n",
    "fig = px.scatter(df, x='tissue_location', y='nr_+_dna_damage_glia_nuclei',\n",
    "                 hover_data=['sample_id','index'], title='Nr of DNA_damage+ glia+ nuclei by Tissue Location')\n",
    "\n",
    "# Show the plot\n",
    "fig.show()"
   ]
  },
  {
   "cell_type": "code",
   "execution_count": 23,
   "metadata": {},
   "outputs": [
    {
     "data": {
      "application/vnd.plotly.v1+json": {
       "config": {
        "plotlyServerURL": "https://plot.ly"
       },
       "data": [
        {
         "customdata": [
          [
           "16"
          ],
          [
           "16"
          ],
          [
           "16"
          ],
          [
           "16"
          ],
          [
           "16"
          ],
          [
           "16"
          ],
          [
           "17"
          ],
          [
           "17"
          ],
          [
           "17"
          ],
          [
           "17"
          ],
          [
           "17"
          ],
          [
           "17"
          ],
          [
           "18"
          ],
          [
           "18"
          ],
          [
           "18"
          ],
          [
           "18"
          ],
          [
           "18"
          ],
          [
           "18"
          ],
          [
           "19"
          ],
          [
           "19"
          ],
          [
           "19"
          ],
          [
           "19"
          ],
          [
           "19"
          ],
          [
           "19"
          ],
          [
           "20"
          ],
          [
           "20"
          ],
          [
           "20"
          ],
          [
           "20"
          ],
          [
           "20"
          ],
          [
           "20"
          ],
          [
           "21"
          ],
          [
           "21"
          ],
          [
           "21"
          ],
          [
           "21"
          ],
          [
           "21"
          ],
          [
           "21"
          ],
          [
           "22"
          ],
          [
           "22"
          ],
          [
           "22"
          ],
          [
           "22"
          ],
          [
           "22"
          ],
          [
           "22"
          ],
          [
           "23"
          ],
          [
           "23"
          ],
          [
           "23"
          ],
          [
           "23"
          ],
          [
           "23"
          ],
          [
           "23"
          ],
          [
           "24"
          ],
          [
           "24"
          ],
          [
           "24"
          ],
          [
           "24"
          ],
          [
           "24"
          ],
          [
           "24"
          ],
          [
           "25"
          ],
          [
           "25"
          ],
          [
           "25"
          ],
          [
           "25"
          ],
          [
           "25"
          ],
          [
           "25"
          ],
          [
           "26"
          ],
          [
           "26"
          ],
          [
           "26"
          ],
          [
           "26"
          ],
          [
           "26"
          ],
          [
           "26"
          ],
          [
           "27"
          ],
          [
           "28"
          ],
          [
           "28"
          ],
          [
           "28"
          ],
          [
           "28"
          ],
          [
           "28"
          ],
          [
           "28"
          ],
          [
           "29"
          ],
          [
           "29"
          ],
          [
           "29"
          ],
          [
           "29"
          ],
          [
           "29"
          ],
          [
           "29"
          ],
          [
           "30"
          ],
          [
           "30"
          ],
          [
           "30"
          ],
          [
           "30"
          ],
          [
           "30"
          ],
          [
           "30"
          ],
          [
           "31"
          ],
          [
           "31"
          ],
          [
           "31"
          ],
          [
           "31"
          ],
          [
           "31"
          ],
          [
           "31"
          ],
          [
           "32"
          ],
          [
           "32"
          ],
          [
           "32"
          ],
          [
           "32"
          ],
          [
           "32"
          ],
          [
           "32"
          ],
          [
           "33"
          ],
          [
           "33"
          ],
          [
           "33"
          ],
          [
           "33"
          ],
          [
           "33"
          ],
          [
           "33"
          ],
          [
           "34"
          ],
          [
           "34"
          ],
          [
           "34"
          ],
          [
           "34"
          ],
          [
           "34"
          ],
          [
           "34"
          ],
          [
           "35"
          ],
          [
           "35"
          ],
          [
           "35"
          ],
          [
           "35"
          ],
          [
           "35"
          ],
          [
           "35"
          ],
          [
           "36"
          ],
          [
           "36"
          ],
          [
           "36"
          ],
          [
           "36"
          ],
          [
           "36"
          ],
          [
           "36"
          ],
          [
           "37"
          ],
          [
           "37"
          ],
          [
           "37"
          ],
          [
           "37"
          ],
          [
           "37"
          ],
          [
           "37"
          ],
          [
           "38"
          ],
          [
           "39"
          ],
          [
           "39"
          ],
          [
           "39"
          ],
          [
           "39"
          ],
          [
           "39"
          ],
          [
           "39"
          ],
          [
           "40"
          ],
          [
           "40"
          ],
          [
           "40"
          ],
          [
           "40"
          ],
          [
           "40"
          ],
          [
           "40"
          ],
          [
           "41"
          ],
          [
           "41"
          ],
          [
           "41"
          ],
          [
           "41"
          ],
          [
           "41"
          ],
          [
           "41"
          ],
          [
           "42"
          ],
          [
           "42"
          ],
          [
           "42"
          ],
          [
           "42"
          ],
          [
           "42"
          ],
          [
           "42"
          ],
          [
           "43"
          ],
          [
           "43"
          ],
          [
           "43"
          ],
          [
           "43"
          ],
          [
           "43"
          ],
          [
           "43"
          ],
          [
           "44"
          ],
          [
           "44"
          ],
          [
           "44"
          ],
          [
           "44"
          ],
          [
           "45"
          ],
          [
           "45"
          ],
          [
           "45"
          ],
          [
           "45"
          ],
          [
           "45"
          ],
          [
           "45"
          ],
          [
           "46"
          ],
          [
           "46"
          ],
          [
           "46"
          ],
          [
           "46"
          ],
          [
           "46"
          ],
          [
           "46"
          ],
          [
           "47"
          ],
          [
           "47"
          ],
          [
           "47"
          ],
          [
           "47"
          ],
          [
           "47"
          ],
          [
           "47"
          ],
          [
           "48"
          ],
          [
           "48"
          ],
          [
           "48"
          ],
          [
           "48"
          ],
          [
           "48"
          ],
          [
           "48"
          ],
          [
           "49"
          ],
          [
           "49"
          ],
          [
           "49"
          ],
          [
           "49"
          ],
          [
           "49"
          ],
          [
           "49"
          ],
          [
           "50"
          ],
          [
           "50"
          ],
          [
           "50"
          ],
          [
           "50"
          ],
          [
           "50"
          ],
          [
           "50"
          ],
          [
           "51"
          ],
          [
           "51"
          ],
          [
           "51"
          ],
          [
           "51"
          ],
          [
           "51"
          ],
          [
           "51"
          ],
          [
           "52"
          ],
          [
           "52"
          ],
          [
           "52"
          ],
          [
           "52"
          ],
          [
           "52"
          ],
          [
           "52"
          ],
          [
           "53"
          ],
          [
           "53"
          ],
          [
           "53"
          ],
          [
           "53"
          ],
          [
           "53"
          ],
          [
           "53"
          ],
          [
           "54"
          ],
          [
           "54"
          ],
          [
           "54"
          ],
          [
           "54"
          ],
          [
           "54"
          ],
          [
           "54"
          ],
          [
           "55"
          ],
          [
           "55"
          ],
          [
           "55"
          ],
          [
           "55"
          ],
          [
           "55"
          ],
          [
           "55"
          ],
          [
           "56"
          ],
          [
           "56"
          ],
          [
           "56"
          ],
          [
           "56"
          ],
          [
           "56"
          ],
          [
           "56"
          ],
          [
           "57"
          ],
          [
           "57"
          ],
          [
           "57"
          ],
          [
           "57"
          ],
          [
           "57"
          ],
          [
           "57"
          ],
          [
           "58"
          ],
          [
           "58"
          ],
          [
           "58"
          ],
          [
           "58"
          ],
          [
           "58"
          ],
          [
           "58"
          ],
          [
           "59"
          ],
          [
           "59"
          ],
          [
           "59"
          ],
          [
           "59"
          ],
          [
           "59"
          ],
          [
           "59"
          ]
         ],
         "hovertemplate": "tissue_location=%{x}<br>avg_dna_damage_foci/glia_+=%{y}<br>sample_id=%{customdata[0]}<extra></extra>",
         "legendgroup": "",
         "marker": {
          "color": "#636efa",
          "symbol": "circle"
         },
         "mode": "markers",
         "name": "",
         "orientation": "v",
         "showlegend": false,
         "type": "scatter",
         "x": [
          "CA1",
          "CA3",
          "CTX1",
          "CTX2",
          "CTX3",
          "DG",
          "CA1",
          "CA3",
          "CTX1",
          "CTX2",
          "CTX3",
          "DG",
          "CA1",
          "CA3",
          "CTX1",
          "CTX2",
          "CTX3",
          "DG",
          "CA1",
          "CA3",
          "CTX1",
          "CTX2",
          "CTX3",
          "DG",
          "CA1",
          "CA3",
          "CTX1",
          "CTX2",
          "CTX3",
          "DG",
          "CA1",
          "CA3",
          "CTX1",
          "CTX2",
          "CTX3",
          "DG",
          "CA1",
          "CA3",
          "CTX1",
          "CTX2",
          "CTX3",
          "DG",
          "CA1",
          "CA3",
          "CTX1",
          "CTX2",
          "CTX3",
          "DG",
          "CA1",
          "CA3",
          "CTX1",
          "CTX2",
          "CTX3",
          "DG",
          "CA1",
          "CA3",
          "CTX1",
          "CTX2",
          "CTX3",
          "DG",
          "CA1",
          "CA3",
          "CTX1",
          "CTX2",
          "CTX3",
          "DG",
          "DG",
          "CA1",
          "CA3",
          "CTX1",
          "CTX2",
          "CTX3",
          "DG",
          "CA1",
          "CA3",
          "CTX1",
          "CTX2",
          "CTX3",
          "DG",
          "CA1",
          "CA3",
          "CTX1",
          "CTX2",
          "CTX3",
          "DG",
          "CA1",
          "CA3",
          "CTX1",
          "CTX2",
          "CTX3",
          "DG",
          "CA1",
          "CA3",
          "CTX1",
          "CTX2",
          "CTX3",
          "DG",
          "CA1",
          "CA3",
          "CTX1",
          "CTX2",
          "CTX3",
          "DG",
          "CA1",
          "CA3",
          "CTX1",
          "CTX2",
          "CTX3",
          "DG",
          "CA1",
          "CA3",
          "CTX1",
          "CTX2",
          "CTX3",
          "DG",
          "CA1",
          "CA3",
          "CTX1",
          "CTX2",
          "CTX3",
          "DG",
          "CA1",
          "CA3",
          "CTX1",
          "CTX2",
          "CTX3",
          "DG",
          "DG",
          "CA1",
          "CA3",
          "CTX1",
          "CTX2",
          "CTX3",
          "DG",
          "CA1",
          "CA3",
          "CTX1",
          "CTX2",
          "CTX3",
          "DG",
          "CA1",
          "CA3",
          "CTX1",
          "CTX2",
          "CTX3",
          "DG",
          "CA1",
          "CA3",
          "CTX1",
          "CTX2",
          "CTX3",
          "DG",
          "CA1",
          "CA3",
          "CTX1",
          "CTX2",
          "CTX3",
          "DG",
          "CA1",
          "CA3",
          "CTX1",
          "DG",
          "CA1",
          "CA3",
          "CTX1",
          "CTX2",
          "CTX3",
          "DG",
          "CA1",
          "CA3",
          "CTX1",
          "CTX2",
          "CTX3",
          "DG",
          "CA1",
          "CA3",
          "CTX1",
          "CTX2",
          "CTX3",
          "DG",
          "CA1",
          "CA3",
          "CTX1",
          "CTX2",
          "CTX3",
          "DG",
          "CA1",
          "CA3",
          "CTX1",
          "CTX2",
          "CTX3",
          "DG",
          "CA1",
          "CA3",
          "CTX1",
          "CTX2",
          "CTX3",
          "DG",
          "CA1",
          "CA3",
          "CTX1",
          "CTX2",
          "CTX3",
          "DG",
          "CA1",
          "CA3",
          "CTX1",
          "CTX2",
          "CTX3",
          "DG",
          "CA1",
          "CA3",
          "CTX1",
          "CTX2",
          "CTX3",
          "DG",
          "CA1",
          "CA3",
          "CTX1",
          "CTX2",
          "CTX3",
          "DG",
          "CA1",
          "CA3",
          "CTX1",
          "CTX2",
          "CTX3",
          "DG",
          "CA1",
          "CA3",
          "CTX1",
          "CTX2",
          "CTX3",
          "DG",
          "CA1",
          "CA3",
          "CTX1",
          "CTX2",
          "CTX3",
          "DG",
          "CA1",
          "CA3",
          "CTX1",
          "CTX2",
          "CTX3",
          "DG",
          "CA1",
          "CA3",
          "CTX1",
          "CTX2",
          "CTX3",
          "DG"
         ],
         "xaxis": "x",
         "y": [
          0.5642857142857143,
          2.718954248366013,
          0.7297297297297297,
          1.6986899563318778,
          1.7322834645669292,
          0.6797153024911032,
          1.3,
          1.238095238095238,
          2.0588235294117645,
          2.509433962264151,
          1.9743589743589745,
          3.02,
          1.5714285714285714,
          1.6,
          1.7058823529411764,
          1.9375,
          2.333333333333333,
          1.057471264367816,
          1,
          1,
          1,
          1,
          1,
          1,
          0.6666666666666666,
          1.3333333333333333,
          0.5,
          2,
          0.6666666666666666,
          1.125,
          0.7777777777777778,
          0.5,
          1.1333333333333333,
          1.2,
          1.65,
          1,
          1.2941176470588236,
          1.4,
          1.7,
          1.0555555555555556,
          0.6,
          1.5714285714285714,
          0.5,
          0,
          0.4761904761904761,
          0,
          0.7857142857142857,
          1.0714285714285714,
          0,
          0,
          0,
          0.4,
          0.0714285714285714,
          0,
          1,
          0.3333333333333333,
          0.9166666666666666,
          0.9285714285714286,
          2.25,
          2.1333333333333333,
          1.5454545454545454,
          3.4,
          1.5294117647058822,
          1.6666666666666667,
          1.2777777777777777,
          2.3529411764705883,
          1.8333333333333333,
          0.3333333333333333,
          0.5,
          0.4285714285714285,
          0.9166666666666666,
          1,
          1.947368421052632,
          1.8,
          1,
          1.1666666666666667,
          1.3333333333333333,
          0.8,
          1.125,
          0,
          1.5,
          0.9375,
          0.4705882352941176,
          0.8333333333333334,
          1,
          0.5714285714285714,
          null,
          0.75,
          0.5333333333333333,
          0.6666666666666666,
          1.5833333333333333,
          2.75,
          1.7,
          2.826923076923077,
          1.472972972972973,
          2.2790697674418605,
          1.75,
          0.75,
          0.8571428571428571,
          0.7,
          1.1666666666666667,
          0.875,
          1.9090909090909087,
          2.4,
          2.1666666666666665,
          1.96875,
          2.45,
          2.074074074074074,
          1.851851851851852,
          0.3333333333333333,
          1.4166666666666667,
          1.0625,
          1.6074074074074074,
          1.75,
          1.7179487179487178,
          0.9090909090909092,
          0.5,
          1.1578947368421053,
          1.3333333333333333,
          1,
          2.2,
          0.8333333333333334,
          0.3333333333333333,
          1.4666666666666666,
          1.4615384615384617,
          0.8518518518518519,
          1.3636363636363635,
          1,
          0,
          0.5,
          0,
          0,
          0.5,
          1.2,
          0.6666666666666666,
          0.25,
          0.95,
          0.8571428571428571,
          1.5,
          1.25,
          0,
          1,
          null,
          0,
          0.6,
          1,
          1,
          0.3333333333333333,
          0.7142857142857143,
          0.5454545454545454,
          0.3333333333333333,
          1,
          1,
          0,
          1.6,
          0.2,
          0.5714285714285714,
          1.6774193548387095,
          1,
          1.2173913043478262,
          1.1121495327102804,
          1.0941176470588236,
          1.3333333333333333,
          0.6,
          0.631578947368421,
          0.7727272727272727,
          0.5238095238095238,
          1.0454545454545454,
          1.8888888888888888,
          1.7333333333333334,
          1.66,
          1.352,
          1.7578947368421052,
          1.431818181818182,
          0.5714285714285714,
          0.6,
          0.40625,
          1.567901234567901,
          1.162162162162162,
          1.8571428571428568,
          1.8,
          null,
          1.1290322580645162,
          1.15,
          0.85,
          1.3636363636363635,
          1.8,
          0.4,
          0.8823529411764706,
          0.8,
          0.4,
          1.6896551724137931,
          0.0769230769230769,
          0.0909090909090909,
          0,
          0.1764705882352941,
          0.6785714285714286,
          0.3333333333333333,
          0.2631578947368421,
          0.5,
          0.5,
          0.36,
          0.5666666666666667,
          1,
          0.8333333333333334,
          0.5,
          0.0714285714285714,
          0.3888888888888889,
          0.44,
          0.65,
          1.3333333333333333,
          1,
          1.5,
          1.4,
          0.6666666666666666,
          1.9,
          1,
          null,
          0.5,
          0.7857142857142857,
          0.5,
          0.7777777777777778,
          0.25,
          0.5,
          0,
          0.5454545454545454,
          0,
          1.181818181818182,
          0.6666666666666666,
          0.1111111111111111,
          0.6111111111111112,
          0.9047619047619048,
          0.3461538461538461,
          1.1764705882352942,
          0.8333333333333334,
          0.5,
          1,
          0.7647058823529411,
          0.1666666666666666,
          1.5,
          0.6666666666666666,
          0.25,
          1.3571428571428572,
          1.1111111111111112,
          1.8,
          1,
          0.5,
          null,
          0.375,
          0.6363636363636364,
          0.375,
          1.1
         ],
         "yaxis": "y"
        }
       ],
       "layout": {
        "legend": {
         "tracegroupgap": 0
        },
        "template": {
         "data": {
          "bar": [
           {
            "error_x": {
             "color": "#2a3f5f"
            },
            "error_y": {
             "color": "#2a3f5f"
            },
            "marker": {
             "line": {
              "color": "#E5ECF6",
              "width": 0.5
             },
             "pattern": {
              "fillmode": "overlay",
              "size": 10,
              "solidity": 0.2
             }
            },
            "type": "bar"
           }
          ],
          "barpolar": [
           {
            "marker": {
             "line": {
              "color": "#E5ECF6",
              "width": 0.5
             },
             "pattern": {
              "fillmode": "overlay",
              "size": 10,
              "solidity": 0.2
             }
            },
            "type": "barpolar"
           }
          ],
          "carpet": [
           {
            "aaxis": {
             "endlinecolor": "#2a3f5f",
             "gridcolor": "white",
             "linecolor": "white",
             "minorgridcolor": "white",
             "startlinecolor": "#2a3f5f"
            },
            "baxis": {
             "endlinecolor": "#2a3f5f",
             "gridcolor": "white",
             "linecolor": "white",
             "minorgridcolor": "white",
             "startlinecolor": "#2a3f5f"
            },
            "type": "carpet"
           }
          ],
          "choropleth": [
           {
            "colorbar": {
             "outlinewidth": 0,
             "ticks": ""
            },
            "type": "choropleth"
           }
          ],
          "contour": [
           {
            "colorbar": {
             "outlinewidth": 0,
             "ticks": ""
            },
            "colorscale": [
             [
              0,
              "#0d0887"
             ],
             [
              0.1111111111111111,
              "#46039f"
             ],
             [
              0.2222222222222222,
              "#7201a8"
             ],
             [
              0.3333333333333333,
              "#9c179e"
             ],
             [
              0.4444444444444444,
              "#bd3786"
             ],
             [
              0.5555555555555556,
              "#d8576b"
             ],
             [
              0.6666666666666666,
              "#ed7953"
             ],
             [
              0.7777777777777778,
              "#fb9f3a"
             ],
             [
              0.8888888888888888,
              "#fdca26"
             ],
             [
              1,
              "#f0f921"
             ]
            ],
            "type": "contour"
           }
          ],
          "contourcarpet": [
           {
            "colorbar": {
             "outlinewidth": 0,
             "ticks": ""
            },
            "type": "contourcarpet"
           }
          ],
          "heatmap": [
           {
            "colorbar": {
             "outlinewidth": 0,
             "ticks": ""
            },
            "colorscale": [
             [
              0,
              "#0d0887"
             ],
             [
              0.1111111111111111,
              "#46039f"
             ],
             [
              0.2222222222222222,
              "#7201a8"
             ],
             [
              0.3333333333333333,
              "#9c179e"
             ],
             [
              0.4444444444444444,
              "#bd3786"
             ],
             [
              0.5555555555555556,
              "#d8576b"
             ],
             [
              0.6666666666666666,
              "#ed7953"
             ],
             [
              0.7777777777777778,
              "#fb9f3a"
             ],
             [
              0.8888888888888888,
              "#fdca26"
             ],
             [
              1,
              "#f0f921"
             ]
            ],
            "type": "heatmap"
           }
          ],
          "heatmapgl": [
           {
            "colorbar": {
             "outlinewidth": 0,
             "ticks": ""
            },
            "colorscale": [
             [
              0,
              "#0d0887"
             ],
             [
              0.1111111111111111,
              "#46039f"
             ],
             [
              0.2222222222222222,
              "#7201a8"
             ],
             [
              0.3333333333333333,
              "#9c179e"
             ],
             [
              0.4444444444444444,
              "#bd3786"
             ],
             [
              0.5555555555555556,
              "#d8576b"
             ],
             [
              0.6666666666666666,
              "#ed7953"
             ],
             [
              0.7777777777777778,
              "#fb9f3a"
             ],
             [
              0.8888888888888888,
              "#fdca26"
             ],
             [
              1,
              "#f0f921"
             ]
            ],
            "type": "heatmapgl"
           }
          ],
          "histogram": [
           {
            "marker": {
             "pattern": {
              "fillmode": "overlay",
              "size": 10,
              "solidity": 0.2
             }
            },
            "type": "histogram"
           }
          ],
          "histogram2d": [
           {
            "colorbar": {
             "outlinewidth": 0,
             "ticks": ""
            },
            "colorscale": [
             [
              0,
              "#0d0887"
             ],
             [
              0.1111111111111111,
              "#46039f"
             ],
             [
              0.2222222222222222,
              "#7201a8"
             ],
             [
              0.3333333333333333,
              "#9c179e"
             ],
             [
              0.4444444444444444,
              "#bd3786"
             ],
             [
              0.5555555555555556,
              "#d8576b"
             ],
             [
              0.6666666666666666,
              "#ed7953"
             ],
             [
              0.7777777777777778,
              "#fb9f3a"
             ],
             [
              0.8888888888888888,
              "#fdca26"
             ],
             [
              1,
              "#f0f921"
             ]
            ],
            "type": "histogram2d"
           }
          ],
          "histogram2dcontour": [
           {
            "colorbar": {
             "outlinewidth": 0,
             "ticks": ""
            },
            "colorscale": [
             [
              0,
              "#0d0887"
             ],
             [
              0.1111111111111111,
              "#46039f"
             ],
             [
              0.2222222222222222,
              "#7201a8"
             ],
             [
              0.3333333333333333,
              "#9c179e"
             ],
             [
              0.4444444444444444,
              "#bd3786"
             ],
             [
              0.5555555555555556,
              "#d8576b"
             ],
             [
              0.6666666666666666,
              "#ed7953"
             ],
             [
              0.7777777777777778,
              "#fb9f3a"
             ],
             [
              0.8888888888888888,
              "#fdca26"
             ],
             [
              1,
              "#f0f921"
             ]
            ],
            "type": "histogram2dcontour"
           }
          ],
          "mesh3d": [
           {
            "colorbar": {
             "outlinewidth": 0,
             "ticks": ""
            },
            "type": "mesh3d"
           }
          ],
          "parcoords": [
           {
            "line": {
             "colorbar": {
              "outlinewidth": 0,
              "ticks": ""
             }
            },
            "type": "parcoords"
           }
          ],
          "pie": [
           {
            "automargin": true,
            "type": "pie"
           }
          ],
          "scatter": [
           {
            "fillpattern": {
             "fillmode": "overlay",
             "size": 10,
             "solidity": 0.2
            },
            "type": "scatter"
           }
          ],
          "scatter3d": [
           {
            "line": {
             "colorbar": {
              "outlinewidth": 0,
              "ticks": ""
             }
            },
            "marker": {
             "colorbar": {
              "outlinewidth": 0,
              "ticks": ""
             }
            },
            "type": "scatter3d"
           }
          ],
          "scattercarpet": [
           {
            "marker": {
             "colorbar": {
              "outlinewidth": 0,
              "ticks": ""
             }
            },
            "type": "scattercarpet"
           }
          ],
          "scattergeo": [
           {
            "marker": {
             "colorbar": {
              "outlinewidth": 0,
              "ticks": ""
             }
            },
            "type": "scattergeo"
           }
          ],
          "scattergl": [
           {
            "marker": {
             "colorbar": {
              "outlinewidth": 0,
              "ticks": ""
             }
            },
            "type": "scattergl"
           }
          ],
          "scattermapbox": [
           {
            "marker": {
             "colorbar": {
              "outlinewidth": 0,
              "ticks": ""
             }
            },
            "type": "scattermapbox"
           }
          ],
          "scatterpolar": [
           {
            "marker": {
             "colorbar": {
              "outlinewidth": 0,
              "ticks": ""
             }
            },
            "type": "scatterpolar"
           }
          ],
          "scatterpolargl": [
           {
            "marker": {
             "colorbar": {
              "outlinewidth": 0,
              "ticks": ""
             }
            },
            "type": "scatterpolargl"
           }
          ],
          "scatterternary": [
           {
            "marker": {
             "colorbar": {
              "outlinewidth": 0,
              "ticks": ""
             }
            },
            "type": "scatterternary"
           }
          ],
          "surface": [
           {
            "colorbar": {
             "outlinewidth": 0,
             "ticks": ""
            },
            "colorscale": [
             [
              0,
              "#0d0887"
             ],
             [
              0.1111111111111111,
              "#46039f"
             ],
             [
              0.2222222222222222,
              "#7201a8"
             ],
             [
              0.3333333333333333,
              "#9c179e"
             ],
             [
              0.4444444444444444,
              "#bd3786"
             ],
             [
              0.5555555555555556,
              "#d8576b"
             ],
             [
              0.6666666666666666,
              "#ed7953"
             ],
             [
              0.7777777777777778,
              "#fb9f3a"
             ],
             [
              0.8888888888888888,
              "#fdca26"
             ],
             [
              1,
              "#f0f921"
             ]
            ],
            "type": "surface"
           }
          ],
          "table": [
           {
            "cells": {
             "fill": {
              "color": "#EBF0F8"
             },
             "line": {
              "color": "white"
             }
            },
            "header": {
             "fill": {
              "color": "#C8D4E3"
             },
             "line": {
              "color": "white"
             }
            },
            "type": "table"
           }
          ]
         },
         "layout": {
          "annotationdefaults": {
           "arrowcolor": "#2a3f5f",
           "arrowhead": 0,
           "arrowwidth": 1
          },
          "autotypenumbers": "strict",
          "coloraxis": {
           "colorbar": {
            "outlinewidth": 0,
            "ticks": ""
           }
          },
          "colorscale": {
           "diverging": [
            [
             0,
             "#8e0152"
            ],
            [
             0.1,
             "#c51b7d"
            ],
            [
             0.2,
             "#de77ae"
            ],
            [
             0.3,
             "#f1b6da"
            ],
            [
             0.4,
             "#fde0ef"
            ],
            [
             0.5,
             "#f7f7f7"
            ],
            [
             0.6,
             "#e6f5d0"
            ],
            [
             0.7,
             "#b8e186"
            ],
            [
             0.8,
             "#7fbc41"
            ],
            [
             0.9,
             "#4d9221"
            ],
            [
             1,
             "#276419"
            ]
           ],
           "sequential": [
            [
             0,
             "#0d0887"
            ],
            [
             0.1111111111111111,
             "#46039f"
            ],
            [
             0.2222222222222222,
             "#7201a8"
            ],
            [
             0.3333333333333333,
             "#9c179e"
            ],
            [
             0.4444444444444444,
             "#bd3786"
            ],
            [
             0.5555555555555556,
             "#d8576b"
            ],
            [
             0.6666666666666666,
             "#ed7953"
            ],
            [
             0.7777777777777778,
             "#fb9f3a"
            ],
            [
             0.8888888888888888,
             "#fdca26"
            ],
            [
             1,
             "#f0f921"
            ]
           ],
           "sequentialminus": [
            [
             0,
             "#0d0887"
            ],
            [
             0.1111111111111111,
             "#46039f"
            ],
            [
             0.2222222222222222,
             "#7201a8"
            ],
            [
             0.3333333333333333,
             "#9c179e"
            ],
            [
             0.4444444444444444,
             "#bd3786"
            ],
            [
             0.5555555555555556,
             "#d8576b"
            ],
            [
             0.6666666666666666,
             "#ed7953"
            ],
            [
             0.7777777777777778,
             "#fb9f3a"
            ],
            [
             0.8888888888888888,
             "#fdca26"
            ],
            [
             1,
             "#f0f921"
            ]
           ]
          },
          "colorway": [
           "#636efa",
           "#EF553B",
           "#00cc96",
           "#ab63fa",
           "#FFA15A",
           "#19d3f3",
           "#FF6692",
           "#B6E880",
           "#FF97FF",
           "#FECB52"
          ],
          "font": {
           "color": "#2a3f5f"
          },
          "geo": {
           "bgcolor": "white",
           "lakecolor": "white",
           "landcolor": "#E5ECF6",
           "showlakes": true,
           "showland": true,
           "subunitcolor": "white"
          },
          "hoverlabel": {
           "align": "left"
          },
          "hovermode": "closest",
          "mapbox": {
           "style": "light"
          },
          "paper_bgcolor": "white",
          "plot_bgcolor": "#E5ECF6",
          "polar": {
           "angularaxis": {
            "gridcolor": "white",
            "linecolor": "white",
            "ticks": ""
           },
           "bgcolor": "#E5ECF6",
           "radialaxis": {
            "gridcolor": "white",
            "linecolor": "white",
            "ticks": ""
           }
          },
          "scene": {
           "xaxis": {
            "backgroundcolor": "#E5ECF6",
            "gridcolor": "white",
            "gridwidth": 2,
            "linecolor": "white",
            "showbackground": true,
            "ticks": "",
            "zerolinecolor": "white"
           },
           "yaxis": {
            "backgroundcolor": "#E5ECF6",
            "gridcolor": "white",
            "gridwidth": 2,
            "linecolor": "white",
            "showbackground": true,
            "ticks": "",
            "zerolinecolor": "white"
           },
           "zaxis": {
            "backgroundcolor": "#E5ECF6",
            "gridcolor": "white",
            "gridwidth": 2,
            "linecolor": "white",
            "showbackground": true,
            "ticks": "",
            "zerolinecolor": "white"
           }
          },
          "shapedefaults": {
           "line": {
            "color": "#2a3f5f"
           }
          },
          "ternary": {
           "aaxis": {
            "gridcolor": "white",
            "linecolor": "white",
            "ticks": ""
           },
           "baxis": {
            "gridcolor": "white",
            "linecolor": "white",
            "ticks": ""
           },
           "bgcolor": "#E5ECF6",
           "caxis": {
            "gridcolor": "white",
            "linecolor": "white",
            "ticks": ""
           }
          },
          "title": {
           "x": 0.05
          },
          "xaxis": {
           "automargin": true,
           "gridcolor": "white",
           "linecolor": "white",
           "ticks": "",
           "title": {
            "standoff": 15
           },
           "zerolinecolor": "white",
           "zerolinewidth": 2
          },
          "yaxis": {
           "automargin": true,
           "gridcolor": "white",
           "linecolor": "white",
           "ticks": "",
           "title": {
            "standoff": 15
           },
           "zerolinecolor": "white",
           "zerolinewidth": 2
          }
         }
        },
        "title": {
         "text": "DNA Damage in Glia Nuclei by Tissue Location"
        },
        "xaxis": {
         "anchor": "y",
         "domain": [
          0,
          1
         ],
         "title": {
          "text": "tissue_location"
         }
        },
        "yaxis": {
         "anchor": "x",
         "domain": [
          0,
          1
         ],
         "title": {
          "text": "avg_dna_damage_foci/glia_+"
         }
        }
       }
      }
     },
     "metadata": {},
     "output_type": "display_data"
    }
   ],
   "source": [
    "# Create the plot\n",
    "fig = px.scatter(df, x='tissue_location', y='avg_dna_damage_foci/glia_+',\n",
    "                 hover_data=['sample_id'], title='DNA Damage in Glia Nuclei by Tissue Location')\n",
    "\n",
    "# Show the plot\n",
    "fig.show()"
   ]
  },
  {
   "cell_type": "code",
   "execution_count": 24,
   "metadata": {},
   "outputs": [
    {
     "data": {
      "application/vnd.plotly.v1+json": {
       "config": {
        "plotlyServerURL": "https://plot.ly"
       },
       "data": [
        {
         "customdata": [
          [
           "16"
          ],
          [
           "16"
          ],
          [
           "16"
          ],
          [
           "16"
          ],
          [
           "16"
          ],
          [
           "16"
          ],
          [
           "17"
          ],
          [
           "17"
          ],
          [
           "17"
          ],
          [
           "17"
          ],
          [
           "17"
          ],
          [
           "17"
          ],
          [
           "18"
          ],
          [
           "18"
          ],
          [
           "18"
          ],
          [
           "18"
          ],
          [
           "18"
          ],
          [
           "18"
          ],
          [
           "19"
          ],
          [
           "19"
          ],
          [
           "19"
          ],
          [
           "19"
          ],
          [
           "19"
          ],
          [
           "19"
          ],
          [
           "20"
          ],
          [
           "20"
          ],
          [
           "20"
          ],
          [
           "20"
          ],
          [
           "20"
          ],
          [
           "20"
          ],
          [
           "21"
          ],
          [
           "21"
          ],
          [
           "21"
          ],
          [
           "21"
          ],
          [
           "21"
          ],
          [
           "21"
          ],
          [
           "22"
          ],
          [
           "22"
          ],
          [
           "22"
          ],
          [
           "22"
          ],
          [
           "22"
          ],
          [
           "22"
          ],
          [
           "23"
          ],
          [
           "23"
          ],
          [
           "23"
          ],
          [
           "23"
          ],
          [
           "23"
          ],
          [
           "23"
          ],
          [
           "24"
          ],
          [
           "24"
          ],
          [
           "24"
          ],
          [
           "24"
          ],
          [
           "24"
          ],
          [
           "24"
          ],
          [
           "25"
          ],
          [
           "25"
          ],
          [
           "25"
          ],
          [
           "25"
          ],
          [
           "25"
          ],
          [
           "25"
          ],
          [
           "26"
          ],
          [
           "26"
          ],
          [
           "26"
          ],
          [
           "26"
          ],
          [
           "26"
          ],
          [
           "26"
          ],
          [
           "27"
          ],
          [
           "28"
          ],
          [
           "28"
          ],
          [
           "28"
          ],
          [
           "28"
          ],
          [
           "28"
          ],
          [
           "28"
          ],
          [
           "29"
          ],
          [
           "29"
          ],
          [
           "29"
          ],
          [
           "29"
          ],
          [
           "29"
          ],
          [
           "29"
          ],
          [
           "30"
          ],
          [
           "30"
          ],
          [
           "30"
          ],
          [
           "30"
          ],
          [
           "30"
          ],
          [
           "30"
          ],
          [
           "31"
          ],
          [
           "31"
          ],
          [
           "31"
          ],
          [
           "31"
          ],
          [
           "31"
          ],
          [
           "31"
          ],
          [
           "32"
          ],
          [
           "32"
          ],
          [
           "32"
          ],
          [
           "32"
          ],
          [
           "32"
          ],
          [
           "32"
          ],
          [
           "33"
          ],
          [
           "33"
          ],
          [
           "33"
          ],
          [
           "33"
          ],
          [
           "33"
          ],
          [
           "33"
          ],
          [
           "34"
          ],
          [
           "34"
          ],
          [
           "34"
          ],
          [
           "34"
          ],
          [
           "34"
          ],
          [
           "34"
          ],
          [
           "35"
          ],
          [
           "35"
          ],
          [
           "35"
          ],
          [
           "35"
          ],
          [
           "35"
          ],
          [
           "35"
          ],
          [
           "36"
          ],
          [
           "36"
          ],
          [
           "36"
          ],
          [
           "36"
          ],
          [
           "36"
          ],
          [
           "36"
          ],
          [
           "37"
          ],
          [
           "37"
          ],
          [
           "37"
          ],
          [
           "37"
          ],
          [
           "37"
          ],
          [
           "37"
          ],
          [
           "38"
          ],
          [
           "39"
          ],
          [
           "39"
          ],
          [
           "39"
          ],
          [
           "39"
          ],
          [
           "39"
          ],
          [
           "39"
          ],
          [
           "40"
          ],
          [
           "40"
          ],
          [
           "40"
          ],
          [
           "40"
          ],
          [
           "40"
          ],
          [
           "40"
          ],
          [
           "41"
          ],
          [
           "41"
          ],
          [
           "41"
          ],
          [
           "41"
          ],
          [
           "41"
          ],
          [
           "41"
          ],
          [
           "42"
          ],
          [
           "42"
          ],
          [
           "42"
          ],
          [
           "42"
          ],
          [
           "42"
          ],
          [
           "42"
          ],
          [
           "43"
          ],
          [
           "43"
          ],
          [
           "43"
          ],
          [
           "43"
          ],
          [
           "43"
          ],
          [
           "43"
          ],
          [
           "44"
          ],
          [
           "44"
          ],
          [
           "44"
          ],
          [
           "44"
          ],
          [
           "45"
          ],
          [
           "45"
          ],
          [
           "45"
          ],
          [
           "45"
          ],
          [
           "45"
          ],
          [
           "45"
          ],
          [
           "46"
          ],
          [
           "46"
          ],
          [
           "46"
          ],
          [
           "46"
          ],
          [
           "46"
          ],
          [
           "46"
          ],
          [
           "47"
          ],
          [
           "47"
          ],
          [
           "47"
          ],
          [
           "47"
          ],
          [
           "47"
          ],
          [
           "47"
          ],
          [
           "48"
          ],
          [
           "48"
          ],
          [
           "48"
          ],
          [
           "48"
          ],
          [
           "48"
          ],
          [
           "48"
          ],
          [
           "49"
          ],
          [
           "49"
          ],
          [
           "49"
          ],
          [
           "49"
          ],
          [
           "49"
          ],
          [
           "49"
          ],
          [
           "50"
          ],
          [
           "50"
          ],
          [
           "50"
          ],
          [
           "50"
          ],
          [
           "50"
          ],
          [
           "50"
          ],
          [
           "51"
          ],
          [
           "51"
          ],
          [
           "51"
          ],
          [
           "51"
          ],
          [
           "51"
          ],
          [
           "51"
          ],
          [
           "52"
          ],
          [
           "52"
          ],
          [
           "52"
          ],
          [
           "52"
          ],
          [
           "52"
          ],
          [
           "52"
          ],
          [
           "53"
          ],
          [
           "53"
          ],
          [
           "53"
          ],
          [
           "53"
          ],
          [
           "53"
          ],
          [
           "53"
          ],
          [
           "54"
          ],
          [
           "54"
          ],
          [
           "54"
          ],
          [
           "54"
          ],
          [
           "54"
          ],
          [
           "54"
          ],
          [
           "55"
          ],
          [
           "55"
          ],
          [
           "55"
          ],
          [
           "55"
          ],
          [
           "55"
          ],
          [
           "55"
          ],
          [
           "56"
          ],
          [
           "56"
          ],
          [
           "56"
          ],
          [
           "56"
          ],
          [
           "56"
          ],
          [
           "56"
          ],
          [
           "57"
          ],
          [
           "57"
          ],
          [
           "57"
          ],
          [
           "57"
          ],
          [
           "57"
          ],
          [
           "57"
          ],
          [
           "58"
          ],
          [
           "58"
          ],
          [
           "58"
          ],
          [
           "58"
          ],
          [
           "58"
          ],
          [
           "58"
          ],
          [
           "59"
          ],
          [
           "59"
          ],
          [
           "59"
          ],
          [
           "59"
          ],
          [
           "59"
          ],
          [
           "59"
          ]
         ],
         "hovertemplate": "tissue_location=%{x}<br>avg_dna_damage_foci/all_nuclei=%{y}<br>sample_id=%{customdata[0]}<extra></extra>",
         "legendgroup": "",
         "marker": {
          "color": "#636efa",
          "symbol": "circle"
         },
         "mode": "markers",
         "name": "",
         "orientation": "v",
         "showlegend": false,
         "type": "scatter",
         "x": [
          "CA1",
          "CA3",
          "CTX1",
          "CTX2",
          "CTX3",
          "DG",
          "CA1",
          "CA3",
          "CTX1",
          "CTX2",
          "CTX3",
          "DG",
          "CA1",
          "CA3",
          "CTX1",
          "CTX2",
          "CTX3",
          "DG",
          "CA1",
          "CA3",
          "CTX1",
          "CTX2",
          "CTX3",
          "DG",
          "CA1",
          "CA3",
          "CTX1",
          "CTX2",
          "CTX3",
          "DG",
          "CA1",
          "CA3",
          "CTX1",
          "CTX2",
          "CTX3",
          "DG",
          "CA1",
          "CA3",
          "CTX1",
          "CTX2",
          "CTX3",
          "DG",
          "CA1",
          "CA3",
          "CTX1",
          "CTX2",
          "CTX3",
          "DG",
          "CA1",
          "CA3",
          "CTX1",
          "CTX2",
          "CTX3",
          "DG",
          "CA1",
          "CA3",
          "CTX1",
          "CTX2",
          "CTX3",
          "DG",
          "CA1",
          "CA3",
          "CTX1",
          "CTX2",
          "CTX3",
          "DG",
          "DG",
          "CA1",
          "CA3",
          "CTX1",
          "CTX2",
          "CTX3",
          "DG",
          "CA1",
          "CA3",
          "CTX1",
          "CTX2",
          "CTX3",
          "DG",
          "CA1",
          "CA3",
          "CTX1",
          "CTX2",
          "CTX3",
          "DG",
          "CA1",
          "CA3",
          "CTX1",
          "CTX2",
          "CTX3",
          "DG",
          "CA1",
          "CA3",
          "CTX1",
          "CTX2",
          "CTX3",
          "DG",
          "CA1",
          "CA3",
          "CTX1",
          "CTX2",
          "CTX3",
          "DG",
          "CA1",
          "CA3",
          "CTX1",
          "CTX2",
          "CTX3",
          "DG",
          "CA1",
          "CA3",
          "CTX1",
          "CTX2",
          "CTX3",
          "DG",
          "CA1",
          "CA3",
          "CTX1",
          "CTX2",
          "CTX3",
          "DG",
          "CA1",
          "CA3",
          "CTX1",
          "CTX2",
          "CTX3",
          "DG",
          "DG",
          "CA1",
          "CA3",
          "CTX1",
          "CTX2",
          "CTX3",
          "DG",
          "CA1",
          "CA3",
          "CTX1",
          "CTX2",
          "CTX3",
          "DG",
          "CA1",
          "CA3",
          "CTX1",
          "CTX2",
          "CTX3",
          "DG",
          "CA1",
          "CA3",
          "CTX1",
          "CTX2",
          "CTX3",
          "DG",
          "CA1",
          "CA3",
          "CTX1",
          "CTX2",
          "CTX3",
          "DG",
          "CA1",
          "CA3",
          "CTX1",
          "DG",
          "CA1",
          "CA3",
          "CTX1",
          "CTX2",
          "CTX3",
          "DG",
          "CA1",
          "CA3",
          "CTX1",
          "CTX2",
          "CTX3",
          "DG",
          "CA1",
          "CA3",
          "CTX1",
          "CTX2",
          "CTX3",
          "DG",
          "CA1",
          "CA3",
          "CTX1",
          "CTX2",
          "CTX3",
          "DG",
          "CA1",
          "CA3",
          "CTX1",
          "CTX2",
          "CTX3",
          "DG",
          "CA1",
          "CA3",
          "CTX1",
          "CTX2",
          "CTX3",
          "DG",
          "CA1",
          "CA3",
          "CTX1",
          "CTX2",
          "CTX3",
          "DG",
          "CA1",
          "CA3",
          "CTX1",
          "CTX2",
          "CTX3",
          "DG",
          "CA1",
          "CA3",
          "CTX1",
          "CTX2",
          "CTX3",
          "DG",
          "CA1",
          "CA3",
          "CTX1",
          "CTX2",
          "CTX3",
          "DG",
          "CA1",
          "CA3",
          "CTX1",
          "CTX2",
          "CTX3",
          "DG",
          "CA1",
          "CA3",
          "CTX1",
          "CTX2",
          "CTX3",
          "DG",
          "CA1",
          "CA3",
          "CTX1",
          "CTX2",
          "CTX3",
          "DG",
          "CA1",
          "CA3",
          "CTX1",
          "CTX2",
          "CTX3",
          "DG",
          "CA1",
          "CA3",
          "CTX1",
          "CTX2",
          "CTX3",
          "DG"
         ],
         "xaxis": "x",
         "y": [
          0.7386363636363636,
          3.6875,
          0.6991150442477876,
          2.2962962962962963,
          1.8229665071770336,
          0.782312925170068,
          2.538961038961039,
          2.9457831325301207,
          1.2654867256637168,
          2.5437956204379564,
          2.8106508875739644,
          2.778877887788779,
          2.128205128205128,
          2.326530612244898,
          1.494949494949495,
          2.8686440677966103,
          2.5772357723577235,
          1.4642857142857142,
          1,
          1,
          1,
          1,
          1,
          1,
          0.7230769230769231,
          0.9069767441860463,
          0.55,
          1.1376811594202898,
          0.5285714285714286,
          1.519031141868512,
          0.8991596638655462,
          0.6515151515151515,
          0.6612021857923497,
          0.7663551401869159,
          1.1222222222222222,
          1.3309608540925266,
          1.4014598540145986,
          1.1538461538461535,
          1.3389830508474576,
          1.1174089068825912,
          0.4397163120567376,
          1.811912225705329,
          0.6864406779661016,
          0.7530864197530864,
          0.406060606060606,
          0.1111111111111111,
          0.8296296296296296,
          1.1529051987767585,
          0.5704697986577181,
          0.691358024691358,
          0.2462686567164179,
          0.4417670682730923,
          0.5632183908045977,
          0.1304347826086956,
          1.625,
          1.6147540983606556,
          0.6145833333333334,
          1.7818181818181815,
          2.1712707182320443,
          2.056716417910448,
          2.1666666666666665,
          2.952380952380953,
          2.1666666666666665,
          2.189189189189189,
          1.719298245614035,
          2.7213930348258706,
          1.779527559055118,
          1.072463768115942,
          0.6111111111111112,
          0.7053571428571429,
          0.9893048128342246,
          1.318407960199005,
          2.481617647058824,
          0.813953488372093,
          0.5576923076923077,
          0.8531073446327684,
          1.217877094972067,
          0.5987261146496815,
          1.1019736842105263,
          0.6363636363636364,
          0.7272727272727273,
          0.4656862745098039,
          0.5745614035087719,
          0.4021739130434782,
          1.1258741258741258,
          1.0676691729323309,
          0.8397435897435898,
          0.5,
          0.631578947368421,
          0.9322033898305084,
          1.6823529411764706,
          3.9426751592356686,
          3.451923076923077,
          3.9444444444444446,
          2.3203463203463204,
          4.143646408839779,
          2.941747572815534,
          0.712,
          0.9702380952380952,
          0.6698113207547169,
          1.326315789473684,
          0.8689655172413793,
          1.5905044510385755,
          3.7152777777777777,
          4,
          2.7816901408450705,
          3.0040650406504064,
          2.07843137254902,
          3.534136546184739,
          0.3821138211382114,
          2.6206896551724137,
          0.6604651162790698,
          2.2096774193548385,
          2.707317073170732,
          2.444776119402985,
          1.0132450331125828,
          0.7391304347826086,
          1.8909952606635072,
          1.161137440758294,
          1.111731843575419,
          1.679310344827586,
          1.1602564102564104,
          1.0260869565217392,
          1.3721973094170403,
          1.8858267716535435,
          1.221476510067114,
          1.7903225806451613,
          1.271186440677966,
          0.5523809523809524,
          0.7439024390243902,
          0.3661971830985915,
          0.3714285714285714,
          0.2666666666666666,
          0.8375451263537906,
          0.3939393939393939,
          0.5064935064935064,
          0.660377358490566,
          0.6451612903225806,
          0.7041420118343196,
          1.2013651877133107,
          0.610062893081761,
          0.4523809523809524,
          0.1,
          0.1511627906976744,
          0.1946902654867256,
          1.1483679525222552,
          0.3834586466165413,
          0.6867469879518072,
          0.4918918918918919,
          0.5277777777777778,
          0.6642335766423357,
          0.8273381294964028,
          0.3736263736263736,
          1.1024096385542168,
          1.3863636363636365,
          0.4431137724550898,
          0.9578947368421052,
          2.498098859315589,
          1.3440860215053765,
          1.5833333333333333,
          1.3264462809917354,
          1.4390243902439024,
          2.268292682926829,
          1.4538461538461538,
          0.58,
          0.4545454545454545,
          0.5027624309392266,
          2.140983606557377,
          2.6165413533834587,
          2.5306122448979598,
          2.3552631578947367,
          1.893536121673004,
          2.557851239669421,
          2.1,
          1.139240506329114,
          2.4833333333333334,
          0.5814696485623003,
          2.34375,
          1.5555555555555556,
          2.664,
          1.1759259259259258,
          0.4423076923076923,
          0.7755102040816326,
          0.8414096916299559,
          0.8601036269430051,
          1.8398692810457515,
          2.028368794326241,
          1.3418803418803418,
          1.3380281690140845,
          1.5847953216374269,
          1.1538461538461535,
          2.375,
          0.209090909090909,
          0.5175438596491229,
          0.0177777777777777,
          0.2182741116751269,
          0.8171428571428572,
          0.4161290322580645,
          0.4098360655737705,
          0.6941176470588235,
          0.3387096774193548,
          0.241025641025641,
          0.5061728395061729,
          1.1244979919678717,
          0.4310344827586206,
          0.5714285714285714,
          0.3,
          0.4397590361445783,
          0.553763440860215,
          0.6472868217054264,
          2.533333333333333,
          1.394736842105263,
          1.8535564853556483,
          1.5828877005347597,
          1.2566371681415929,
          2.759336099585062,
          0.4961240310077519,
          0.8,
          0.6827956989247311,
          0.7041420118343196,
          0.8055555555555556,
          1.182456140350877,
          0.4716981132075472,
          0.5714285714285714,
          0.0442477876106194,
          0.795774647887324,
          0.2372881355932203,
          0.9559322033898304,
          0.5149253731343284,
          0.5930232558139535,
          0.5126582278481012,
          0.3636363636363636,
          0.3609467455621302,
          0.8941605839416058,
          1.0972222222222223,
          2.7578125,
          0.3402489626556016,
          0.3872340425531915,
          0.1377245508982036,
          1.9148936170212767,
          0.6929824561403509,
          0.8144329896907216,
          0.6964285714285714,
          0.8617021276595744,
          0.6226415094339622,
          0.8125,
          0.6824324324324325,
          0.423728813559322,
          0.6510416666666666,
          0.452991452991453,
          0.425,
          1.111842105263158
         ],
         "yaxis": "y"
        }
       ],
       "layout": {
        "legend": {
         "tracegroupgap": 0
        },
        "template": {
         "data": {
          "bar": [
           {
            "error_x": {
             "color": "#2a3f5f"
            },
            "error_y": {
             "color": "#2a3f5f"
            },
            "marker": {
             "line": {
              "color": "#E5ECF6",
              "width": 0.5
             },
             "pattern": {
              "fillmode": "overlay",
              "size": 10,
              "solidity": 0.2
             }
            },
            "type": "bar"
           }
          ],
          "barpolar": [
           {
            "marker": {
             "line": {
              "color": "#E5ECF6",
              "width": 0.5
             },
             "pattern": {
              "fillmode": "overlay",
              "size": 10,
              "solidity": 0.2
             }
            },
            "type": "barpolar"
           }
          ],
          "carpet": [
           {
            "aaxis": {
             "endlinecolor": "#2a3f5f",
             "gridcolor": "white",
             "linecolor": "white",
             "minorgridcolor": "white",
             "startlinecolor": "#2a3f5f"
            },
            "baxis": {
             "endlinecolor": "#2a3f5f",
             "gridcolor": "white",
             "linecolor": "white",
             "minorgridcolor": "white",
             "startlinecolor": "#2a3f5f"
            },
            "type": "carpet"
           }
          ],
          "choropleth": [
           {
            "colorbar": {
             "outlinewidth": 0,
             "ticks": ""
            },
            "type": "choropleth"
           }
          ],
          "contour": [
           {
            "colorbar": {
             "outlinewidth": 0,
             "ticks": ""
            },
            "colorscale": [
             [
              0,
              "#0d0887"
             ],
             [
              0.1111111111111111,
              "#46039f"
             ],
             [
              0.2222222222222222,
              "#7201a8"
             ],
             [
              0.3333333333333333,
              "#9c179e"
             ],
             [
              0.4444444444444444,
              "#bd3786"
             ],
             [
              0.5555555555555556,
              "#d8576b"
             ],
             [
              0.6666666666666666,
              "#ed7953"
             ],
             [
              0.7777777777777778,
              "#fb9f3a"
             ],
             [
              0.8888888888888888,
              "#fdca26"
             ],
             [
              1,
              "#f0f921"
             ]
            ],
            "type": "contour"
           }
          ],
          "contourcarpet": [
           {
            "colorbar": {
             "outlinewidth": 0,
             "ticks": ""
            },
            "type": "contourcarpet"
           }
          ],
          "heatmap": [
           {
            "colorbar": {
             "outlinewidth": 0,
             "ticks": ""
            },
            "colorscale": [
             [
              0,
              "#0d0887"
             ],
             [
              0.1111111111111111,
              "#46039f"
             ],
             [
              0.2222222222222222,
              "#7201a8"
             ],
             [
              0.3333333333333333,
              "#9c179e"
             ],
             [
              0.4444444444444444,
              "#bd3786"
             ],
             [
              0.5555555555555556,
              "#d8576b"
             ],
             [
              0.6666666666666666,
              "#ed7953"
             ],
             [
              0.7777777777777778,
              "#fb9f3a"
             ],
             [
              0.8888888888888888,
              "#fdca26"
             ],
             [
              1,
              "#f0f921"
             ]
            ],
            "type": "heatmap"
           }
          ],
          "heatmapgl": [
           {
            "colorbar": {
             "outlinewidth": 0,
             "ticks": ""
            },
            "colorscale": [
             [
              0,
              "#0d0887"
             ],
             [
              0.1111111111111111,
              "#46039f"
             ],
             [
              0.2222222222222222,
              "#7201a8"
             ],
             [
              0.3333333333333333,
              "#9c179e"
             ],
             [
              0.4444444444444444,
              "#bd3786"
             ],
             [
              0.5555555555555556,
              "#d8576b"
             ],
             [
              0.6666666666666666,
              "#ed7953"
             ],
             [
              0.7777777777777778,
              "#fb9f3a"
             ],
             [
              0.8888888888888888,
              "#fdca26"
             ],
             [
              1,
              "#f0f921"
             ]
            ],
            "type": "heatmapgl"
           }
          ],
          "histogram": [
           {
            "marker": {
             "pattern": {
              "fillmode": "overlay",
              "size": 10,
              "solidity": 0.2
             }
            },
            "type": "histogram"
           }
          ],
          "histogram2d": [
           {
            "colorbar": {
             "outlinewidth": 0,
             "ticks": ""
            },
            "colorscale": [
             [
              0,
              "#0d0887"
             ],
             [
              0.1111111111111111,
              "#46039f"
             ],
             [
              0.2222222222222222,
              "#7201a8"
             ],
             [
              0.3333333333333333,
              "#9c179e"
             ],
             [
              0.4444444444444444,
              "#bd3786"
             ],
             [
              0.5555555555555556,
              "#d8576b"
             ],
             [
              0.6666666666666666,
              "#ed7953"
             ],
             [
              0.7777777777777778,
              "#fb9f3a"
             ],
             [
              0.8888888888888888,
              "#fdca26"
             ],
             [
              1,
              "#f0f921"
             ]
            ],
            "type": "histogram2d"
           }
          ],
          "histogram2dcontour": [
           {
            "colorbar": {
             "outlinewidth": 0,
             "ticks": ""
            },
            "colorscale": [
             [
              0,
              "#0d0887"
             ],
             [
              0.1111111111111111,
              "#46039f"
             ],
             [
              0.2222222222222222,
              "#7201a8"
             ],
             [
              0.3333333333333333,
              "#9c179e"
             ],
             [
              0.4444444444444444,
              "#bd3786"
             ],
             [
              0.5555555555555556,
              "#d8576b"
             ],
             [
              0.6666666666666666,
              "#ed7953"
             ],
             [
              0.7777777777777778,
              "#fb9f3a"
             ],
             [
              0.8888888888888888,
              "#fdca26"
             ],
             [
              1,
              "#f0f921"
             ]
            ],
            "type": "histogram2dcontour"
           }
          ],
          "mesh3d": [
           {
            "colorbar": {
             "outlinewidth": 0,
             "ticks": ""
            },
            "type": "mesh3d"
           }
          ],
          "parcoords": [
           {
            "line": {
             "colorbar": {
              "outlinewidth": 0,
              "ticks": ""
             }
            },
            "type": "parcoords"
           }
          ],
          "pie": [
           {
            "automargin": true,
            "type": "pie"
           }
          ],
          "scatter": [
           {
            "fillpattern": {
             "fillmode": "overlay",
             "size": 10,
             "solidity": 0.2
            },
            "type": "scatter"
           }
          ],
          "scatter3d": [
           {
            "line": {
             "colorbar": {
              "outlinewidth": 0,
              "ticks": ""
             }
            },
            "marker": {
             "colorbar": {
              "outlinewidth": 0,
              "ticks": ""
             }
            },
            "type": "scatter3d"
           }
          ],
          "scattercarpet": [
           {
            "marker": {
             "colorbar": {
              "outlinewidth": 0,
              "ticks": ""
             }
            },
            "type": "scattercarpet"
           }
          ],
          "scattergeo": [
           {
            "marker": {
             "colorbar": {
              "outlinewidth": 0,
              "ticks": ""
             }
            },
            "type": "scattergeo"
           }
          ],
          "scattergl": [
           {
            "marker": {
             "colorbar": {
              "outlinewidth": 0,
              "ticks": ""
             }
            },
            "type": "scattergl"
           }
          ],
          "scattermapbox": [
           {
            "marker": {
             "colorbar": {
              "outlinewidth": 0,
              "ticks": ""
             }
            },
            "type": "scattermapbox"
           }
          ],
          "scatterpolar": [
           {
            "marker": {
             "colorbar": {
              "outlinewidth": 0,
              "ticks": ""
             }
            },
            "type": "scatterpolar"
           }
          ],
          "scatterpolargl": [
           {
            "marker": {
             "colorbar": {
              "outlinewidth": 0,
              "ticks": ""
             }
            },
            "type": "scatterpolargl"
           }
          ],
          "scatterternary": [
           {
            "marker": {
             "colorbar": {
              "outlinewidth": 0,
              "ticks": ""
             }
            },
            "type": "scatterternary"
           }
          ],
          "surface": [
           {
            "colorbar": {
             "outlinewidth": 0,
             "ticks": ""
            },
            "colorscale": [
             [
              0,
              "#0d0887"
             ],
             [
              0.1111111111111111,
              "#46039f"
             ],
             [
              0.2222222222222222,
              "#7201a8"
             ],
             [
              0.3333333333333333,
              "#9c179e"
             ],
             [
              0.4444444444444444,
              "#bd3786"
             ],
             [
              0.5555555555555556,
              "#d8576b"
             ],
             [
              0.6666666666666666,
              "#ed7953"
             ],
             [
              0.7777777777777778,
              "#fb9f3a"
             ],
             [
              0.8888888888888888,
              "#fdca26"
             ],
             [
              1,
              "#f0f921"
             ]
            ],
            "type": "surface"
           }
          ],
          "table": [
           {
            "cells": {
             "fill": {
              "color": "#EBF0F8"
             },
             "line": {
              "color": "white"
             }
            },
            "header": {
             "fill": {
              "color": "#C8D4E3"
             },
             "line": {
              "color": "white"
             }
            },
            "type": "table"
           }
          ]
         },
         "layout": {
          "annotationdefaults": {
           "arrowcolor": "#2a3f5f",
           "arrowhead": 0,
           "arrowwidth": 1
          },
          "autotypenumbers": "strict",
          "coloraxis": {
           "colorbar": {
            "outlinewidth": 0,
            "ticks": ""
           }
          },
          "colorscale": {
           "diverging": [
            [
             0,
             "#8e0152"
            ],
            [
             0.1,
             "#c51b7d"
            ],
            [
             0.2,
             "#de77ae"
            ],
            [
             0.3,
             "#f1b6da"
            ],
            [
             0.4,
             "#fde0ef"
            ],
            [
             0.5,
             "#f7f7f7"
            ],
            [
             0.6,
             "#e6f5d0"
            ],
            [
             0.7,
             "#b8e186"
            ],
            [
             0.8,
             "#7fbc41"
            ],
            [
             0.9,
             "#4d9221"
            ],
            [
             1,
             "#276419"
            ]
           ],
           "sequential": [
            [
             0,
             "#0d0887"
            ],
            [
             0.1111111111111111,
             "#46039f"
            ],
            [
             0.2222222222222222,
             "#7201a8"
            ],
            [
             0.3333333333333333,
             "#9c179e"
            ],
            [
             0.4444444444444444,
             "#bd3786"
            ],
            [
             0.5555555555555556,
             "#d8576b"
            ],
            [
             0.6666666666666666,
             "#ed7953"
            ],
            [
             0.7777777777777778,
             "#fb9f3a"
            ],
            [
             0.8888888888888888,
             "#fdca26"
            ],
            [
             1,
             "#f0f921"
            ]
           ],
           "sequentialminus": [
            [
             0,
             "#0d0887"
            ],
            [
             0.1111111111111111,
             "#46039f"
            ],
            [
             0.2222222222222222,
             "#7201a8"
            ],
            [
             0.3333333333333333,
             "#9c179e"
            ],
            [
             0.4444444444444444,
             "#bd3786"
            ],
            [
             0.5555555555555556,
             "#d8576b"
            ],
            [
             0.6666666666666666,
             "#ed7953"
            ],
            [
             0.7777777777777778,
             "#fb9f3a"
            ],
            [
             0.8888888888888888,
             "#fdca26"
            ],
            [
             1,
             "#f0f921"
            ]
           ]
          },
          "colorway": [
           "#636efa",
           "#EF553B",
           "#00cc96",
           "#ab63fa",
           "#FFA15A",
           "#19d3f3",
           "#FF6692",
           "#B6E880",
           "#FF97FF",
           "#FECB52"
          ],
          "font": {
           "color": "#2a3f5f"
          },
          "geo": {
           "bgcolor": "white",
           "lakecolor": "white",
           "landcolor": "#E5ECF6",
           "showlakes": true,
           "showland": true,
           "subunitcolor": "white"
          },
          "hoverlabel": {
           "align": "left"
          },
          "hovermode": "closest",
          "mapbox": {
           "style": "light"
          },
          "paper_bgcolor": "white",
          "plot_bgcolor": "#E5ECF6",
          "polar": {
           "angularaxis": {
            "gridcolor": "white",
            "linecolor": "white",
            "ticks": ""
           },
           "bgcolor": "#E5ECF6",
           "radialaxis": {
            "gridcolor": "white",
            "linecolor": "white",
            "ticks": ""
           }
          },
          "scene": {
           "xaxis": {
            "backgroundcolor": "#E5ECF6",
            "gridcolor": "white",
            "gridwidth": 2,
            "linecolor": "white",
            "showbackground": true,
            "ticks": "",
            "zerolinecolor": "white"
           },
           "yaxis": {
            "backgroundcolor": "#E5ECF6",
            "gridcolor": "white",
            "gridwidth": 2,
            "linecolor": "white",
            "showbackground": true,
            "ticks": "",
            "zerolinecolor": "white"
           },
           "zaxis": {
            "backgroundcolor": "#E5ECF6",
            "gridcolor": "white",
            "gridwidth": 2,
            "linecolor": "white",
            "showbackground": true,
            "ticks": "",
            "zerolinecolor": "white"
           }
          },
          "shapedefaults": {
           "line": {
            "color": "#2a3f5f"
           }
          },
          "ternary": {
           "aaxis": {
            "gridcolor": "white",
            "linecolor": "white",
            "ticks": ""
           },
           "baxis": {
            "gridcolor": "white",
            "linecolor": "white",
            "ticks": ""
           },
           "bgcolor": "#E5ECF6",
           "caxis": {
            "gridcolor": "white",
            "linecolor": "white",
            "ticks": ""
           }
          },
          "title": {
           "x": 0.05
          },
          "xaxis": {
           "automargin": true,
           "gridcolor": "white",
           "linecolor": "white",
           "ticks": "",
           "title": {
            "standoff": 15
           },
           "zerolinecolor": "white",
           "zerolinewidth": 2
          },
          "yaxis": {
           "automargin": true,
           "gridcolor": "white",
           "linecolor": "white",
           "ticks": "",
           "title": {
            "standoff": 15
           },
           "zerolinecolor": "white",
           "zerolinewidth": 2
          }
         }
        },
        "title": {
         "text": "DNA Damage in All Nuclei by Tissue Location"
        },
        "xaxis": {
         "anchor": "y",
         "domain": [
          0,
          1
         ],
         "title": {
          "text": "tissue_location"
         }
        },
        "yaxis": {
         "anchor": "x",
         "domain": [
          0,
          1
         ],
         "title": {
          "text": "avg_dna_damage_foci/all_nuclei"
         }
        }
       }
      }
     },
     "metadata": {},
     "output_type": "display_data"
    }
   ],
   "source": [
    "# Create the plot\n",
    "fig = px.scatter(df, x='tissue_location', y='avg_dna_damage_foci/all_nuclei',\n",
    "                 hover_data=['sample_id'], title='DNA Damage in All Nuclei by Tissue Location')\n",
    "\n",
    "# Show the plot\n",
    "fig.show()"
   ]
  },
  {
   "cell_type": "code",
   "execution_count": 25,
   "metadata": {},
   "outputs": [
    {
     "data": {
      "application/vnd.plotly.v1+json": {
       "config": {
        "plotlyServerURL": "https://plot.ly"
       },
       "data": [
        {
         "customdata": [
          [
           "16",
           0
          ],
          [
           "16",
           1
          ],
          [
           "16",
           2
          ],
          [
           "16",
           3
          ],
          [
           "16",
           4
          ],
          [
           "16",
           5
          ],
          [
           "17",
           6
          ],
          [
           "17",
           7
          ],
          [
           "17",
           8
          ],
          [
           "17",
           9
          ],
          [
           "17",
           10
          ],
          [
           "17",
           11
          ],
          [
           "18",
           12
          ],
          [
           "18",
           13
          ],
          [
           "18",
           14
          ],
          [
           "18",
           15
          ],
          [
           "18",
           16
          ],
          [
           "18",
           17
          ],
          [
           "19",
           18
          ],
          [
           "19",
           19
          ],
          [
           "19",
           20
          ],
          [
           "19",
           21
          ],
          [
           "19",
           22
          ],
          [
           "19",
           23
          ],
          [
           "20",
           24
          ],
          [
           "20",
           25
          ],
          [
           "20",
           26
          ],
          [
           "20",
           27
          ],
          [
           "20",
           28
          ],
          [
           "20",
           29
          ],
          [
           "21",
           30
          ],
          [
           "21",
           31
          ],
          [
           "21",
           32
          ],
          [
           "21",
           33
          ],
          [
           "21",
           34
          ],
          [
           "21",
           35
          ],
          [
           "22",
           36
          ],
          [
           "22",
           37
          ],
          [
           "22",
           38
          ],
          [
           "22",
           39
          ],
          [
           "22",
           40
          ],
          [
           "22",
           41
          ],
          [
           "23",
           42
          ],
          [
           "23",
           43
          ],
          [
           "23",
           44
          ],
          [
           "23",
           45
          ],
          [
           "23",
           46
          ],
          [
           "23",
           47
          ],
          [
           "24",
           48
          ],
          [
           "24",
           49
          ],
          [
           "24",
           50
          ],
          [
           "24",
           51
          ],
          [
           "24",
           52
          ],
          [
           "24",
           53
          ],
          [
           "25",
           54
          ],
          [
           "25",
           55
          ],
          [
           "25",
           56
          ],
          [
           "25",
           57
          ],
          [
           "25",
           58
          ],
          [
           "25",
           59
          ],
          [
           "26",
           60
          ],
          [
           "26",
           61
          ],
          [
           "26",
           62
          ],
          [
           "26",
           63
          ],
          [
           "26",
           64
          ],
          [
           "26",
           65
          ],
          [
           "27",
           66
          ],
          [
           "28",
           67
          ],
          [
           "28",
           68
          ],
          [
           "28",
           69
          ],
          [
           "28",
           70
          ],
          [
           "28",
           71
          ],
          [
           "28",
           72
          ],
          [
           "29",
           73
          ],
          [
           "29",
           74
          ],
          [
           "29",
           75
          ],
          [
           "29",
           76
          ],
          [
           "29",
           77
          ],
          [
           "29",
           78
          ],
          [
           "30",
           79
          ],
          [
           "30",
           80
          ],
          [
           "30",
           81
          ],
          [
           "30",
           82
          ],
          [
           "30",
           83
          ],
          [
           "30",
           84
          ],
          [
           "31",
           85
          ],
          [
           "31",
           86
          ],
          [
           "31",
           87
          ],
          [
           "31",
           88
          ],
          [
           "31",
           89
          ],
          [
           "31",
           90
          ],
          [
           "32",
           91
          ],
          [
           "32",
           92
          ],
          [
           "32",
           93
          ],
          [
           "32",
           94
          ],
          [
           "32",
           95
          ],
          [
           "32",
           96
          ],
          [
           "33",
           97
          ],
          [
           "33",
           98
          ],
          [
           "33",
           99
          ],
          [
           "33",
           100
          ],
          [
           "33",
           101
          ],
          [
           "33",
           102
          ],
          [
           "34",
           103
          ],
          [
           "34",
           104
          ],
          [
           "34",
           105
          ],
          [
           "34",
           106
          ],
          [
           "34",
           107
          ],
          [
           "34",
           108
          ],
          [
           "35",
           109
          ],
          [
           "35",
           110
          ],
          [
           "35",
           111
          ],
          [
           "35",
           112
          ],
          [
           "35",
           113
          ],
          [
           "35",
           114
          ],
          [
           "36",
           115
          ],
          [
           "36",
           116
          ],
          [
           "36",
           117
          ],
          [
           "36",
           118
          ],
          [
           "36",
           119
          ],
          [
           "36",
           120
          ],
          [
           "37",
           121
          ],
          [
           "37",
           122
          ],
          [
           "37",
           123
          ],
          [
           "37",
           124
          ],
          [
           "37",
           125
          ],
          [
           "37",
           126
          ],
          [
           "38",
           127
          ],
          [
           "39",
           128
          ],
          [
           "39",
           129
          ],
          [
           "39",
           130
          ],
          [
           "39",
           131
          ],
          [
           "39",
           132
          ],
          [
           "39",
           133
          ],
          [
           "40",
           134
          ],
          [
           "40",
           135
          ],
          [
           "40",
           136
          ],
          [
           "40",
           137
          ],
          [
           "40",
           138
          ],
          [
           "40",
           139
          ],
          [
           "41",
           140
          ],
          [
           "41",
           141
          ],
          [
           "41",
           142
          ],
          [
           "41",
           143
          ],
          [
           "41",
           144
          ],
          [
           "41",
           145
          ],
          [
           "42",
           146
          ],
          [
           "42",
           147
          ],
          [
           "42",
           148
          ],
          [
           "42",
           149
          ],
          [
           "42",
           150
          ],
          [
           "42",
           151
          ],
          [
           "43",
           152
          ],
          [
           "43",
           153
          ],
          [
           "43",
           154
          ],
          [
           "43",
           155
          ],
          [
           "43",
           156
          ],
          [
           "43",
           157
          ],
          [
           "44",
           158
          ],
          [
           "44",
           159
          ],
          [
           "44",
           160
          ],
          [
           "44",
           161
          ],
          [
           "45",
           162
          ],
          [
           "45",
           163
          ],
          [
           "45",
           164
          ],
          [
           "45",
           165
          ],
          [
           "45",
           166
          ],
          [
           "45",
           167
          ],
          [
           "46",
           168
          ],
          [
           "46",
           169
          ],
          [
           "46",
           170
          ],
          [
           "46",
           171
          ],
          [
           "46",
           172
          ],
          [
           "46",
           173
          ],
          [
           "47",
           174
          ],
          [
           "47",
           175
          ],
          [
           "47",
           176
          ],
          [
           "47",
           177
          ],
          [
           "47",
           178
          ],
          [
           "47",
           179
          ],
          [
           "48",
           180
          ],
          [
           "48",
           181
          ],
          [
           "48",
           182
          ],
          [
           "48",
           183
          ],
          [
           "48",
           184
          ],
          [
           "48",
           185
          ],
          [
           "49",
           186
          ],
          [
           "49",
           187
          ],
          [
           "49",
           188
          ],
          [
           "49",
           189
          ],
          [
           "49",
           190
          ],
          [
           "49",
           191
          ],
          [
           "50",
           192
          ],
          [
           "50",
           193
          ],
          [
           "50",
           194
          ],
          [
           "50",
           195
          ],
          [
           "50",
           196
          ],
          [
           "50",
           197
          ],
          [
           "51",
           198
          ],
          [
           "51",
           199
          ],
          [
           "51",
           200
          ],
          [
           "51",
           201
          ],
          [
           "51",
           202
          ],
          [
           "51",
           203
          ],
          [
           "52",
           204
          ],
          [
           "52",
           205
          ],
          [
           "52",
           206
          ],
          [
           "52",
           207
          ],
          [
           "52",
           208
          ],
          [
           "52",
           209
          ],
          [
           "53",
           210
          ],
          [
           "53",
           211
          ],
          [
           "53",
           212
          ],
          [
           "53",
           213
          ],
          [
           "53",
           214
          ],
          [
           "53",
           215
          ],
          [
           "54",
           216
          ],
          [
           "54",
           217
          ],
          [
           "54",
           218
          ],
          [
           "54",
           219
          ],
          [
           "54",
           220
          ],
          [
           "54",
           221
          ],
          [
           "55",
           222
          ],
          [
           "55",
           223
          ],
          [
           "55",
           224
          ],
          [
           "55",
           225
          ],
          [
           "55",
           226
          ],
          [
           "55",
           227
          ],
          [
           "56",
           228
          ],
          [
           "56",
           229
          ],
          [
           "56",
           230
          ],
          [
           "56",
           231
          ],
          [
           "56",
           232
          ],
          [
           "56",
           233
          ],
          [
           "57",
           234
          ],
          [
           "57",
           235
          ],
          [
           "57",
           236
          ],
          [
           "57",
           237
          ],
          [
           "57",
           238
          ],
          [
           "57",
           239
          ],
          [
           "58",
           240
          ],
          [
           "58",
           241
          ],
          [
           "58",
           242
          ],
          [
           "58",
           243
          ],
          [
           "58",
           244
          ],
          [
           "58",
           245
          ],
          [
           "59",
           246
          ],
          [
           "59",
           247
          ],
          [
           "59",
           248
          ],
          [
           "59",
           249
          ],
          [
           "59",
           250
          ],
          [
           "59",
           251
          ]
         ],
         "hovertemplate": "tissue_location=%{x}<br>nr_glia_+_nuclei=%{y}<br>sample_id=%{customdata[0]}<br>index=%{customdata[1]}<extra></extra>",
         "legendgroup": "",
         "marker": {
          "color": "#636efa",
          "symbol": "circle"
         },
         "mode": "markers",
         "name": "",
         "orientation": "v",
         "showlegend": false,
         "type": "scatter",
         "x": [
          "CA1",
          "CA3",
          "CTX1",
          "CTX2",
          "CTX3",
          "DG",
          "CA1",
          "CA3",
          "CTX1",
          "CTX2",
          "CTX3",
          "DG",
          "CA1",
          "CA3",
          "CTX1",
          "CTX2",
          "CTX3",
          "DG",
          "CA1",
          "CA3",
          "CTX1",
          "CTX2",
          "CTX3",
          "DG",
          "CA1",
          "CA3",
          "CTX1",
          "CTX2",
          "CTX3",
          "DG",
          "CA1",
          "CA3",
          "CTX1",
          "CTX2",
          "CTX3",
          "DG",
          "CA1",
          "CA3",
          "CTX1",
          "CTX2",
          "CTX3",
          "DG",
          "CA1",
          "CA3",
          "CTX1",
          "CTX2",
          "CTX3",
          "DG",
          "CA1",
          "CA3",
          "CTX1",
          "CTX2",
          "CTX3",
          "DG",
          "CA1",
          "CA3",
          "CTX1",
          "CTX2",
          "CTX3",
          "DG",
          "CA1",
          "CA3",
          "CTX1",
          "CTX2",
          "CTX3",
          "DG",
          "DG",
          "CA1",
          "CA3",
          "CTX1",
          "CTX2",
          "CTX3",
          "DG",
          "CA1",
          "CA3",
          "CTX1",
          "CTX2",
          "CTX3",
          "DG",
          "CA1",
          "CA3",
          "CTX1",
          "CTX2",
          "CTX3",
          "DG",
          "CA1",
          "CA3",
          "CTX1",
          "CTX2",
          "CTX3",
          "DG",
          "CA1",
          "CA3",
          "CTX1",
          "CTX2",
          "CTX3",
          "DG",
          "CA1",
          "CA3",
          "CTX1",
          "CTX2",
          "CTX3",
          "DG",
          "CA1",
          "CA3",
          "CTX1",
          "CTX2",
          "CTX3",
          "DG",
          "CA1",
          "CA3",
          "CTX1",
          "CTX2",
          "CTX3",
          "DG",
          "CA1",
          "CA3",
          "CTX1",
          "CTX2",
          "CTX3",
          "DG",
          "CA1",
          "CA3",
          "CTX1",
          "CTX2",
          "CTX3",
          "DG",
          "DG",
          "CA1",
          "CA3",
          "CTX1",
          "CTX2",
          "CTX3",
          "DG",
          "CA1",
          "CA3",
          "CTX1",
          "CTX2",
          "CTX3",
          "DG",
          "CA1",
          "CA3",
          "CTX1",
          "CTX2",
          "CTX3",
          "DG",
          "CA1",
          "CA3",
          "CTX1",
          "CTX2",
          "CTX3",
          "DG",
          "CA1",
          "CA3",
          "CTX1",
          "CTX2",
          "CTX3",
          "DG",
          "CA1",
          "CA3",
          "CTX1",
          "DG",
          "CA1",
          "CA3",
          "CTX1",
          "CTX2",
          "CTX3",
          "DG",
          "CA1",
          "CA3",
          "CTX1",
          "CTX2",
          "CTX3",
          "DG",
          "CA1",
          "CA3",
          "CTX1",
          "CTX2",
          "CTX3",
          "DG",
          "CA1",
          "CA3",
          "CTX1",
          "CTX2",
          "CTX3",
          "DG",
          "CA1",
          "CA3",
          "CTX1",
          "CTX2",
          "CTX3",
          "DG",
          "CA1",
          "CA3",
          "CTX1",
          "CTX2",
          "CTX3",
          "DG",
          "CA1",
          "CA3",
          "CTX1",
          "CTX2",
          "CTX3",
          "DG",
          "CA1",
          "CA3",
          "CTX1",
          "CTX2",
          "CTX3",
          "DG",
          "CA1",
          "CA3",
          "CTX1",
          "CTX2",
          "CTX3",
          "DG",
          "CA1",
          "CA3",
          "CTX1",
          "CTX2",
          "CTX3",
          "DG",
          "CA1",
          "CA3",
          "CTX1",
          "CTX2",
          "CTX3",
          "DG",
          "CA1",
          "CA3",
          "CTX1",
          "CTX2",
          "CTX3",
          "DG",
          "CA1",
          "CA3",
          "CTX1",
          "CTX2",
          "CTX3",
          "DG",
          "CA1",
          "CA3",
          "CTX1",
          "CTX2",
          "CTX3",
          "DG",
          "CA1",
          "CA3",
          "CTX1",
          "CTX2",
          "CTX3",
          "DG"
         ],
         "xaxis": "x",
         "y": [
          140,
          153,
          37,
          229,
          127,
          281,
          10,
          21,
          17,
          53,
          39,
          99,
          14,
          5,
          17,
          16,
          12,
          87,
          29,
          29,
          77,
          27,
          27,
          45,
          6,
          3,
          2,
          11,
          3,
          8,
          9,
          2,
          15,
          10,
          20,
          19,
          17,
          5,
          10,
          18,
          5,
          21,
          4,
          2,
          21,
          2,
          14,
          14,
          6,
          1,
          13,
          25,
          14,
          5,
          6,
          6,
          12,
          14,
          8,
          15,
          11,
          5,
          17,
          15,
          36,
          17,
          6,
          3,
          2,
          7,
          12,
          9,
          19,
          5,
          4,
          18,
          21,
          10,
          8,
          6,
          4,
          16,
          17,
          12,
          5,
          7,
          0,
          12,
          15,
          6,
          12,
          24,
          20,
          52,
          74,
          43,
          68,
          4,
          7,
          10,
          12,
          8,
          11,
          15,
          6,
          32,
          40,
          27,
          27,
          6,
          24,
          16,
          135,
          68,
          117,
          11,
          4,
          19,
          27,
          5,
          5,
          6,
          9,
          15,
          26,
          27,
          11,
          8,
          3,
          4,
          3,
          5,
          2,
          10,
          3,
          4,
          20,
          14,
          22,
          4,
          1,
          1,
          0,
          4,
          5,
          5,
          1,
          3,
          7,
          11,
          3,
          5,
          3,
          1,
          30,
          20,
          14,
          31,
          22,
          23,
          107,
          84,
          12,
          5,
          19,
          22,
          21,
          22,
          54,
          45,
          100,
          125,
          95,
          88,
          14,
          10,
          32,
          81,
          37,
          14,
          5,
          0,
          31,
          20,
          20,
          11,
          15,
          15,
          17,
          15,
          10,
          29,
          13,
          11,
          22,
          17,
          28,
          24,
          19,
          4,
          14,
          25,
          30,
          20,
          6,
          2,
          14,
          18,
          25,
          20,
          6,
          2,
          30,
          25,
          12,
          20,
          2,
          0,
          16,
          14,
          12,
          18,
          4,
          2,
          8,
          11,
          2,
          11,
          12,
          9,
          18,
          21,
          26,
          17,
          12,
          8,
          15,
          17,
          6,
          28,
          6,
          4,
          14,
          18,
          5,
          4,
          4,
          0,
          8,
          11,
          16,
          10
         ],
         "yaxis": "y"
        }
       ],
       "layout": {
        "legend": {
         "tracegroupgap": 0
        },
        "template": {
         "data": {
          "bar": [
           {
            "error_x": {
             "color": "#2a3f5f"
            },
            "error_y": {
             "color": "#2a3f5f"
            },
            "marker": {
             "line": {
              "color": "#E5ECF6",
              "width": 0.5
             },
             "pattern": {
              "fillmode": "overlay",
              "size": 10,
              "solidity": 0.2
             }
            },
            "type": "bar"
           }
          ],
          "barpolar": [
           {
            "marker": {
             "line": {
              "color": "#E5ECF6",
              "width": 0.5
             },
             "pattern": {
              "fillmode": "overlay",
              "size": 10,
              "solidity": 0.2
             }
            },
            "type": "barpolar"
           }
          ],
          "carpet": [
           {
            "aaxis": {
             "endlinecolor": "#2a3f5f",
             "gridcolor": "white",
             "linecolor": "white",
             "minorgridcolor": "white",
             "startlinecolor": "#2a3f5f"
            },
            "baxis": {
             "endlinecolor": "#2a3f5f",
             "gridcolor": "white",
             "linecolor": "white",
             "minorgridcolor": "white",
             "startlinecolor": "#2a3f5f"
            },
            "type": "carpet"
           }
          ],
          "choropleth": [
           {
            "colorbar": {
             "outlinewidth": 0,
             "ticks": ""
            },
            "type": "choropleth"
           }
          ],
          "contour": [
           {
            "colorbar": {
             "outlinewidth": 0,
             "ticks": ""
            },
            "colorscale": [
             [
              0,
              "#0d0887"
             ],
             [
              0.1111111111111111,
              "#46039f"
             ],
             [
              0.2222222222222222,
              "#7201a8"
             ],
             [
              0.3333333333333333,
              "#9c179e"
             ],
             [
              0.4444444444444444,
              "#bd3786"
             ],
             [
              0.5555555555555556,
              "#d8576b"
             ],
             [
              0.6666666666666666,
              "#ed7953"
             ],
             [
              0.7777777777777778,
              "#fb9f3a"
             ],
             [
              0.8888888888888888,
              "#fdca26"
             ],
             [
              1,
              "#f0f921"
             ]
            ],
            "type": "contour"
           }
          ],
          "contourcarpet": [
           {
            "colorbar": {
             "outlinewidth": 0,
             "ticks": ""
            },
            "type": "contourcarpet"
           }
          ],
          "heatmap": [
           {
            "colorbar": {
             "outlinewidth": 0,
             "ticks": ""
            },
            "colorscale": [
             [
              0,
              "#0d0887"
             ],
             [
              0.1111111111111111,
              "#46039f"
             ],
             [
              0.2222222222222222,
              "#7201a8"
             ],
             [
              0.3333333333333333,
              "#9c179e"
             ],
             [
              0.4444444444444444,
              "#bd3786"
             ],
             [
              0.5555555555555556,
              "#d8576b"
             ],
             [
              0.6666666666666666,
              "#ed7953"
             ],
             [
              0.7777777777777778,
              "#fb9f3a"
             ],
             [
              0.8888888888888888,
              "#fdca26"
             ],
             [
              1,
              "#f0f921"
             ]
            ],
            "type": "heatmap"
           }
          ],
          "heatmapgl": [
           {
            "colorbar": {
             "outlinewidth": 0,
             "ticks": ""
            },
            "colorscale": [
             [
              0,
              "#0d0887"
             ],
             [
              0.1111111111111111,
              "#46039f"
             ],
             [
              0.2222222222222222,
              "#7201a8"
             ],
             [
              0.3333333333333333,
              "#9c179e"
             ],
             [
              0.4444444444444444,
              "#bd3786"
             ],
             [
              0.5555555555555556,
              "#d8576b"
             ],
             [
              0.6666666666666666,
              "#ed7953"
             ],
             [
              0.7777777777777778,
              "#fb9f3a"
             ],
             [
              0.8888888888888888,
              "#fdca26"
             ],
             [
              1,
              "#f0f921"
             ]
            ],
            "type": "heatmapgl"
           }
          ],
          "histogram": [
           {
            "marker": {
             "pattern": {
              "fillmode": "overlay",
              "size": 10,
              "solidity": 0.2
             }
            },
            "type": "histogram"
           }
          ],
          "histogram2d": [
           {
            "colorbar": {
             "outlinewidth": 0,
             "ticks": ""
            },
            "colorscale": [
             [
              0,
              "#0d0887"
             ],
             [
              0.1111111111111111,
              "#46039f"
             ],
             [
              0.2222222222222222,
              "#7201a8"
             ],
             [
              0.3333333333333333,
              "#9c179e"
             ],
             [
              0.4444444444444444,
              "#bd3786"
             ],
             [
              0.5555555555555556,
              "#d8576b"
             ],
             [
              0.6666666666666666,
              "#ed7953"
             ],
             [
              0.7777777777777778,
              "#fb9f3a"
             ],
             [
              0.8888888888888888,
              "#fdca26"
             ],
             [
              1,
              "#f0f921"
             ]
            ],
            "type": "histogram2d"
           }
          ],
          "histogram2dcontour": [
           {
            "colorbar": {
             "outlinewidth": 0,
             "ticks": ""
            },
            "colorscale": [
             [
              0,
              "#0d0887"
             ],
             [
              0.1111111111111111,
              "#46039f"
             ],
             [
              0.2222222222222222,
              "#7201a8"
             ],
             [
              0.3333333333333333,
              "#9c179e"
             ],
             [
              0.4444444444444444,
              "#bd3786"
             ],
             [
              0.5555555555555556,
              "#d8576b"
             ],
             [
              0.6666666666666666,
              "#ed7953"
             ],
             [
              0.7777777777777778,
              "#fb9f3a"
             ],
             [
              0.8888888888888888,
              "#fdca26"
             ],
             [
              1,
              "#f0f921"
             ]
            ],
            "type": "histogram2dcontour"
           }
          ],
          "mesh3d": [
           {
            "colorbar": {
             "outlinewidth": 0,
             "ticks": ""
            },
            "type": "mesh3d"
           }
          ],
          "parcoords": [
           {
            "line": {
             "colorbar": {
              "outlinewidth": 0,
              "ticks": ""
             }
            },
            "type": "parcoords"
           }
          ],
          "pie": [
           {
            "automargin": true,
            "type": "pie"
           }
          ],
          "scatter": [
           {
            "fillpattern": {
             "fillmode": "overlay",
             "size": 10,
             "solidity": 0.2
            },
            "type": "scatter"
           }
          ],
          "scatter3d": [
           {
            "line": {
             "colorbar": {
              "outlinewidth": 0,
              "ticks": ""
             }
            },
            "marker": {
             "colorbar": {
              "outlinewidth": 0,
              "ticks": ""
             }
            },
            "type": "scatter3d"
           }
          ],
          "scattercarpet": [
           {
            "marker": {
             "colorbar": {
              "outlinewidth": 0,
              "ticks": ""
             }
            },
            "type": "scattercarpet"
           }
          ],
          "scattergeo": [
           {
            "marker": {
             "colorbar": {
              "outlinewidth": 0,
              "ticks": ""
             }
            },
            "type": "scattergeo"
           }
          ],
          "scattergl": [
           {
            "marker": {
             "colorbar": {
              "outlinewidth": 0,
              "ticks": ""
             }
            },
            "type": "scattergl"
           }
          ],
          "scattermapbox": [
           {
            "marker": {
             "colorbar": {
              "outlinewidth": 0,
              "ticks": ""
             }
            },
            "type": "scattermapbox"
           }
          ],
          "scatterpolar": [
           {
            "marker": {
             "colorbar": {
              "outlinewidth": 0,
              "ticks": ""
             }
            },
            "type": "scatterpolar"
           }
          ],
          "scatterpolargl": [
           {
            "marker": {
             "colorbar": {
              "outlinewidth": 0,
              "ticks": ""
             }
            },
            "type": "scatterpolargl"
           }
          ],
          "scatterternary": [
           {
            "marker": {
             "colorbar": {
              "outlinewidth": 0,
              "ticks": ""
             }
            },
            "type": "scatterternary"
           }
          ],
          "surface": [
           {
            "colorbar": {
             "outlinewidth": 0,
             "ticks": ""
            },
            "colorscale": [
             [
              0,
              "#0d0887"
             ],
             [
              0.1111111111111111,
              "#46039f"
             ],
             [
              0.2222222222222222,
              "#7201a8"
             ],
             [
              0.3333333333333333,
              "#9c179e"
             ],
             [
              0.4444444444444444,
              "#bd3786"
             ],
             [
              0.5555555555555556,
              "#d8576b"
             ],
             [
              0.6666666666666666,
              "#ed7953"
             ],
             [
              0.7777777777777778,
              "#fb9f3a"
             ],
             [
              0.8888888888888888,
              "#fdca26"
             ],
             [
              1,
              "#f0f921"
             ]
            ],
            "type": "surface"
           }
          ],
          "table": [
           {
            "cells": {
             "fill": {
              "color": "#EBF0F8"
             },
             "line": {
              "color": "white"
             }
            },
            "header": {
             "fill": {
              "color": "#C8D4E3"
             },
             "line": {
              "color": "white"
             }
            },
            "type": "table"
           }
          ]
         },
         "layout": {
          "annotationdefaults": {
           "arrowcolor": "#2a3f5f",
           "arrowhead": 0,
           "arrowwidth": 1
          },
          "autotypenumbers": "strict",
          "coloraxis": {
           "colorbar": {
            "outlinewidth": 0,
            "ticks": ""
           }
          },
          "colorscale": {
           "diverging": [
            [
             0,
             "#8e0152"
            ],
            [
             0.1,
             "#c51b7d"
            ],
            [
             0.2,
             "#de77ae"
            ],
            [
             0.3,
             "#f1b6da"
            ],
            [
             0.4,
             "#fde0ef"
            ],
            [
             0.5,
             "#f7f7f7"
            ],
            [
             0.6,
             "#e6f5d0"
            ],
            [
             0.7,
             "#b8e186"
            ],
            [
             0.8,
             "#7fbc41"
            ],
            [
             0.9,
             "#4d9221"
            ],
            [
             1,
             "#276419"
            ]
           ],
           "sequential": [
            [
             0,
             "#0d0887"
            ],
            [
             0.1111111111111111,
             "#46039f"
            ],
            [
             0.2222222222222222,
             "#7201a8"
            ],
            [
             0.3333333333333333,
             "#9c179e"
            ],
            [
             0.4444444444444444,
             "#bd3786"
            ],
            [
             0.5555555555555556,
             "#d8576b"
            ],
            [
             0.6666666666666666,
             "#ed7953"
            ],
            [
             0.7777777777777778,
             "#fb9f3a"
            ],
            [
             0.8888888888888888,
             "#fdca26"
            ],
            [
             1,
             "#f0f921"
            ]
           ],
           "sequentialminus": [
            [
             0,
             "#0d0887"
            ],
            [
             0.1111111111111111,
             "#46039f"
            ],
            [
             0.2222222222222222,
             "#7201a8"
            ],
            [
             0.3333333333333333,
             "#9c179e"
            ],
            [
             0.4444444444444444,
             "#bd3786"
            ],
            [
             0.5555555555555556,
             "#d8576b"
            ],
            [
             0.6666666666666666,
             "#ed7953"
            ],
            [
             0.7777777777777778,
             "#fb9f3a"
            ],
            [
             0.8888888888888888,
             "#fdca26"
            ],
            [
             1,
             "#f0f921"
            ]
           ]
          },
          "colorway": [
           "#636efa",
           "#EF553B",
           "#00cc96",
           "#ab63fa",
           "#FFA15A",
           "#19d3f3",
           "#FF6692",
           "#B6E880",
           "#FF97FF",
           "#FECB52"
          ],
          "font": {
           "color": "#2a3f5f"
          },
          "geo": {
           "bgcolor": "white",
           "lakecolor": "white",
           "landcolor": "#E5ECF6",
           "showlakes": true,
           "showland": true,
           "subunitcolor": "white"
          },
          "hoverlabel": {
           "align": "left"
          },
          "hovermode": "closest",
          "mapbox": {
           "style": "light"
          },
          "paper_bgcolor": "white",
          "plot_bgcolor": "#E5ECF6",
          "polar": {
           "angularaxis": {
            "gridcolor": "white",
            "linecolor": "white",
            "ticks": ""
           },
           "bgcolor": "#E5ECF6",
           "radialaxis": {
            "gridcolor": "white",
            "linecolor": "white",
            "ticks": ""
           }
          },
          "scene": {
           "xaxis": {
            "backgroundcolor": "#E5ECF6",
            "gridcolor": "white",
            "gridwidth": 2,
            "linecolor": "white",
            "showbackground": true,
            "ticks": "",
            "zerolinecolor": "white"
           },
           "yaxis": {
            "backgroundcolor": "#E5ECF6",
            "gridcolor": "white",
            "gridwidth": 2,
            "linecolor": "white",
            "showbackground": true,
            "ticks": "",
            "zerolinecolor": "white"
           },
           "zaxis": {
            "backgroundcolor": "#E5ECF6",
            "gridcolor": "white",
            "gridwidth": 2,
            "linecolor": "white",
            "showbackground": true,
            "ticks": "",
            "zerolinecolor": "white"
           }
          },
          "shapedefaults": {
           "line": {
            "color": "#2a3f5f"
           }
          },
          "ternary": {
           "aaxis": {
            "gridcolor": "white",
            "linecolor": "white",
            "ticks": ""
           },
           "baxis": {
            "gridcolor": "white",
            "linecolor": "white",
            "ticks": ""
           },
           "bgcolor": "#E5ECF6",
           "caxis": {
            "gridcolor": "white",
            "linecolor": "white",
            "ticks": ""
           }
          },
          "title": {
           "x": 0.05
          },
          "xaxis": {
           "automargin": true,
           "gridcolor": "white",
           "linecolor": "white",
           "ticks": "",
           "title": {
            "standoff": 15
           },
           "zerolinecolor": "white",
           "zerolinewidth": 2
          },
          "yaxis": {
           "automargin": true,
           "gridcolor": "white",
           "linecolor": "white",
           "ticks": "",
           "title": {
            "standoff": 15
           },
           "zerolinecolor": "white",
           "zerolinewidth": 2
          }
         }
        },
        "title": {
         "text": "Nr of glia+ nuclei by Tissue Location"
        },
        "xaxis": {
         "anchor": "y",
         "domain": [
          0,
          1
         ],
         "title": {
          "text": "tissue_location"
         }
        },
        "yaxis": {
         "anchor": "x",
         "domain": [
          0,
          1
         ],
         "title": {
          "text": "nr_glia_+_nuclei"
         }
        }
       }
      }
     },
     "metadata": {},
     "output_type": "display_data"
    }
   ],
   "source": [
    "# Create the plot\n",
    "fig = px.scatter(df, x='tissue_location', y='nr_glia_+_nuclei',\n",
    "                 hover_data=['sample_id','index'], title='Nr of glia+ nuclei by Tissue Location')\n",
    "\n",
    "# Show the plot\n",
    "fig.show()"
   ]
  },
  {
   "cell_type": "code",
   "execution_count": 26,
   "metadata": {},
   "outputs": [
    {
     "data": {
      "application/vnd.plotly.v1+json": {
       "config": {
        "plotlyServerURL": "https://plot.ly"
       },
       "data": [
        {
         "customdata": [
          [
           "16",
           0
          ],
          [
           "16",
           1
          ],
          [
           "16",
           2
          ],
          [
           "16",
           3
          ],
          [
           "16",
           4
          ],
          [
           "16",
           5
          ],
          [
           "17",
           6
          ],
          [
           "17",
           7
          ],
          [
           "17",
           8
          ],
          [
           "17",
           9
          ],
          [
           "17",
           10
          ],
          [
           "17",
           11
          ],
          [
           "18",
           12
          ],
          [
           "18",
           13
          ],
          [
           "18",
           14
          ],
          [
           "18",
           15
          ],
          [
           "18",
           16
          ],
          [
           "18",
           17
          ],
          [
           "19",
           18
          ],
          [
           "19",
           19
          ],
          [
           "19",
           20
          ],
          [
           "19",
           21
          ],
          [
           "19",
           22
          ],
          [
           "19",
           23
          ],
          [
           "20",
           24
          ],
          [
           "20",
           25
          ],
          [
           "20",
           26
          ],
          [
           "20",
           27
          ],
          [
           "20",
           28
          ],
          [
           "20",
           29
          ],
          [
           "21",
           30
          ],
          [
           "21",
           31
          ],
          [
           "21",
           32
          ],
          [
           "21",
           33
          ],
          [
           "21",
           34
          ],
          [
           "21",
           35
          ],
          [
           "22",
           36
          ],
          [
           "22",
           37
          ],
          [
           "22",
           38
          ],
          [
           "22",
           39
          ],
          [
           "22",
           40
          ],
          [
           "22",
           41
          ],
          [
           "23",
           42
          ],
          [
           "23",
           43
          ],
          [
           "23",
           44
          ],
          [
           "23",
           45
          ],
          [
           "23",
           46
          ],
          [
           "23",
           47
          ],
          [
           "24",
           48
          ],
          [
           "24",
           49
          ],
          [
           "24",
           50
          ],
          [
           "24",
           51
          ],
          [
           "24",
           52
          ],
          [
           "24",
           53
          ],
          [
           "25",
           54
          ],
          [
           "25",
           55
          ],
          [
           "25",
           56
          ],
          [
           "25",
           57
          ],
          [
           "25",
           58
          ],
          [
           "25",
           59
          ],
          [
           "26",
           60
          ],
          [
           "26",
           61
          ],
          [
           "26",
           62
          ],
          [
           "26",
           63
          ],
          [
           "26",
           64
          ],
          [
           "26",
           65
          ],
          [
           "27",
           66
          ],
          [
           "28",
           67
          ],
          [
           "28",
           68
          ],
          [
           "28",
           69
          ],
          [
           "28",
           70
          ],
          [
           "28",
           71
          ],
          [
           "28",
           72
          ],
          [
           "29",
           73
          ],
          [
           "29",
           74
          ],
          [
           "29",
           75
          ],
          [
           "29",
           76
          ],
          [
           "29",
           77
          ],
          [
           "29",
           78
          ],
          [
           "30",
           79
          ],
          [
           "30",
           80
          ],
          [
           "30",
           81
          ],
          [
           "30",
           82
          ],
          [
           "30",
           83
          ],
          [
           "30",
           84
          ],
          [
           "31",
           85
          ],
          [
           "31",
           86
          ],
          [
           "31",
           87
          ],
          [
           "31",
           88
          ],
          [
           "31",
           89
          ],
          [
           "31",
           90
          ],
          [
           "32",
           91
          ],
          [
           "32",
           92
          ],
          [
           "32",
           93
          ],
          [
           "32",
           94
          ],
          [
           "32",
           95
          ],
          [
           "32",
           96
          ],
          [
           "33",
           97
          ],
          [
           "33",
           98
          ],
          [
           "33",
           99
          ],
          [
           "33",
           100
          ],
          [
           "33",
           101
          ],
          [
           "33",
           102
          ],
          [
           "34",
           103
          ],
          [
           "34",
           104
          ],
          [
           "34",
           105
          ],
          [
           "34",
           106
          ],
          [
           "34",
           107
          ],
          [
           "34",
           108
          ],
          [
           "35",
           109
          ],
          [
           "35",
           110
          ],
          [
           "35",
           111
          ],
          [
           "35",
           112
          ],
          [
           "35",
           113
          ],
          [
           "35",
           114
          ],
          [
           "36",
           115
          ],
          [
           "36",
           116
          ],
          [
           "36",
           117
          ],
          [
           "36",
           118
          ],
          [
           "36",
           119
          ],
          [
           "36",
           120
          ],
          [
           "37",
           121
          ],
          [
           "37",
           122
          ],
          [
           "37",
           123
          ],
          [
           "37",
           124
          ],
          [
           "37",
           125
          ],
          [
           "37",
           126
          ],
          [
           "38",
           127
          ],
          [
           "39",
           128
          ],
          [
           "39",
           129
          ],
          [
           "39",
           130
          ],
          [
           "39",
           131
          ],
          [
           "39",
           132
          ],
          [
           "39",
           133
          ],
          [
           "40",
           134
          ],
          [
           "40",
           135
          ],
          [
           "40",
           136
          ],
          [
           "40",
           137
          ],
          [
           "40",
           138
          ],
          [
           "40",
           139
          ],
          [
           "41",
           140
          ],
          [
           "41",
           141
          ],
          [
           "41",
           142
          ],
          [
           "41",
           143
          ],
          [
           "41",
           144
          ],
          [
           "41",
           145
          ],
          [
           "42",
           146
          ],
          [
           "42",
           147
          ],
          [
           "42",
           148
          ],
          [
           "42",
           149
          ],
          [
           "42",
           150
          ],
          [
           "42",
           151
          ],
          [
           "43",
           152
          ],
          [
           "43",
           153
          ],
          [
           "43",
           154
          ],
          [
           "43",
           155
          ],
          [
           "43",
           156
          ],
          [
           "43",
           157
          ],
          [
           "44",
           158
          ],
          [
           "44",
           159
          ],
          [
           "44",
           160
          ],
          [
           "44",
           161
          ],
          [
           "45",
           162
          ],
          [
           "45",
           163
          ],
          [
           "45",
           164
          ],
          [
           "45",
           165
          ],
          [
           "45",
           166
          ],
          [
           "45",
           167
          ],
          [
           "46",
           168
          ],
          [
           "46",
           169
          ],
          [
           "46",
           170
          ],
          [
           "46",
           171
          ],
          [
           "46",
           172
          ],
          [
           "46",
           173
          ],
          [
           "47",
           174
          ],
          [
           "47",
           175
          ],
          [
           "47",
           176
          ],
          [
           "47",
           177
          ],
          [
           "47",
           178
          ],
          [
           "47",
           179
          ],
          [
           "48",
           180
          ],
          [
           "48",
           181
          ],
          [
           "48",
           182
          ],
          [
           "48",
           183
          ],
          [
           "48",
           184
          ],
          [
           "48",
           185
          ],
          [
           "49",
           186
          ],
          [
           "49",
           187
          ],
          [
           "49",
           188
          ],
          [
           "49",
           189
          ],
          [
           "49",
           190
          ],
          [
           "49",
           191
          ],
          [
           "50",
           192
          ],
          [
           "50",
           193
          ],
          [
           "50",
           194
          ],
          [
           "50",
           195
          ],
          [
           "50",
           196
          ],
          [
           "50",
           197
          ],
          [
           "51",
           198
          ],
          [
           "51",
           199
          ],
          [
           "51",
           200
          ],
          [
           "51",
           201
          ],
          [
           "51",
           202
          ],
          [
           "51",
           203
          ],
          [
           "52",
           204
          ],
          [
           "52",
           205
          ],
          [
           "52",
           206
          ],
          [
           "52",
           207
          ],
          [
           "52",
           208
          ],
          [
           "52",
           209
          ],
          [
           "53",
           210
          ],
          [
           "53",
           211
          ],
          [
           "53",
           212
          ],
          [
           "53",
           213
          ],
          [
           "53",
           214
          ],
          [
           "53",
           215
          ],
          [
           "54",
           216
          ],
          [
           "54",
           217
          ],
          [
           "54",
           218
          ],
          [
           "54",
           219
          ],
          [
           "54",
           220
          ],
          [
           "54",
           221
          ],
          [
           "55",
           222
          ],
          [
           "55",
           223
          ],
          [
           "55",
           224
          ],
          [
           "55",
           225
          ],
          [
           "55",
           226
          ],
          [
           "55",
           227
          ],
          [
           "56",
           228
          ],
          [
           "56",
           229
          ],
          [
           "56",
           230
          ],
          [
           "56",
           231
          ],
          [
           "56",
           232
          ],
          [
           "56",
           233
          ],
          [
           "57",
           234
          ],
          [
           "57",
           235
          ],
          [
           "57",
           236
          ],
          [
           "57",
           237
          ],
          [
           "57",
           238
          ],
          [
           "57",
           239
          ],
          [
           "58",
           240
          ],
          [
           "58",
           241
          ],
          [
           "58",
           242
          ],
          [
           "58",
           243
          ],
          [
           "58",
           244
          ],
          [
           "58",
           245
          ],
          [
           "59",
           246
          ],
          [
           "59",
           247
          ],
          [
           "59",
           248
          ],
          [
           "59",
           249
          ],
          [
           "59",
           250
          ],
          [
           "59",
           251
          ]
         ],
         "hovertemplate": "tissue_location=%{x}<br>nr_total_nuclei=%{y}<br>sample_id=%{customdata[0]}<br>index=%{customdata[1]}<extra></extra>",
         "legendgroup": "",
         "marker": {
          "color": "#636efa",
          "symbol": "circle"
         },
         "mode": "markers",
         "name": "",
         "orientation": "v",
         "showlegend": false,
         "type": "scatter",
         "x": [
          "CA1",
          "CA3",
          "CTX1",
          "CTX2",
          "CTX3",
          "DG",
          "CA1",
          "CA3",
          "CTX1",
          "CTX2",
          "CTX3",
          "DG",
          "CA1",
          "CA3",
          "CTX1",
          "CTX2",
          "CTX3",
          "DG",
          "CA1",
          "CA3",
          "CTX1",
          "CTX2",
          "CTX3",
          "DG",
          "CA1",
          "CA3",
          "CTX1",
          "CTX2",
          "CTX3",
          "DG",
          "CA1",
          "CA3",
          "CTX1",
          "CTX2",
          "CTX3",
          "DG",
          "CA1",
          "CA3",
          "CTX1",
          "CTX2",
          "CTX3",
          "DG",
          "CA1",
          "CA3",
          "CTX1",
          "CTX2",
          "CTX3",
          "DG",
          "CA1",
          "CA3",
          "CTX1",
          "CTX2",
          "CTX3",
          "DG",
          "CA1",
          "CA3",
          "CTX1",
          "CTX2",
          "CTX3",
          "DG",
          "CA1",
          "CA3",
          "CTX1",
          "CTX2",
          "CTX3",
          "DG",
          "DG",
          "CA1",
          "CA3",
          "CTX1",
          "CTX2",
          "CTX3",
          "DG",
          "CA1",
          "CA3",
          "CTX1",
          "CTX2",
          "CTX3",
          "DG",
          "CA1",
          "CA3",
          "CTX1",
          "CTX2",
          "CTX3",
          "DG",
          "CA1",
          "CA3",
          "CTX1",
          "CTX2",
          "CTX3",
          "DG",
          "CA1",
          "CA3",
          "CTX1",
          "CTX2",
          "CTX3",
          "DG",
          "CA1",
          "CA3",
          "CTX1",
          "CTX2",
          "CTX3",
          "DG",
          "CA1",
          "CA3",
          "CTX1",
          "CTX2",
          "CTX3",
          "DG",
          "CA1",
          "CA3",
          "CTX1",
          "CTX2",
          "CTX3",
          "DG",
          "CA1",
          "CA3",
          "CTX1",
          "CTX2",
          "CTX3",
          "DG",
          "CA1",
          "CA3",
          "CTX1",
          "CTX2",
          "CTX3",
          "DG",
          "DG",
          "CA1",
          "CA3",
          "CTX1",
          "CTX2",
          "CTX3",
          "DG",
          "CA1",
          "CA3",
          "CTX1",
          "CTX2",
          "CTX3",
          "DG",
          "CA1",
          "CA3",
          "CTX1",
          "CTX2",
          "CTX3",
          "DG",
          "CA1",
          "CA3",
          "CTX1",
          "CTX2",
          "CTX3",
          "DG",
          "CA1",
          "CA3",
          "CTX1",
          "CTX2",
          "CTX3",
          "DG",
          "CA1",
          "CA3",
          "CTX1",
          "DG",
          "CA1",
          "CA3",
          "CTX1",
          "CTX2",
          "CTX3",
          "DG",
          "CA1",
          "CA3",
          "CTX1",
          "CTX2",
          "CTX3",
          "DG",
          "CA1",
          "CA3",
          "CTX1",
          "CTX2",
          "CTX3",
          "DG",
          "CA1",
          "CA3",
          "CTX1",
          "CTX2",
          "CTX3",
          "DG",
          "CA1",
          "CA3",
          "CTX1",
          "CTX2",
          "CTX3",
          "DG",
          "CA1",
          "CA3",
          "CTX1",
          "CTX2",
          "CTX3",
          "DG",
          "CA1",
          "CA3",
          "CTX1",
          "CTX2",
          "CTX3",
          "DG",
          "CA1",
          "CA3",
          "CTX1",
          "CTX2",
          "CTX3",
          "DG",
          "CA1",
          "CA3",
          "CTX1",
          "CTX2",
          "CTX3",
          "DG",
          "CA1",
          "CA3",
          "CTX1",
          "CTX2",
          "CTX3",
          "DG",
          "CA1",
          "CA3",
          "CTX1",
          "CTX2",
          "CTX3",
          "DG",
          "CA1",
          "CA3",
          "CTX1",
          "CTX2",
          "CTX3",
          "DG",
          "CA1",
          "CA3",
          "CTX1",
          "CTX2",
          "CTX3",
          "DG",
          "CA1",
          "CA3",
          "CTX1",
          "CTX2",
          "CTX3",
          "DG",
          "CA1",
          "CA3",
          "CTX1",
          "CTX2",
          "CTX3",
          "DG"
         ],
         "xaxis": "x",
         "y": [
          176,
          160,
          226,
          243,
          209,
          294,
          154,
          166,
          226,
          274,
          169,
          303,
          117,
          49,
          198,
          236,
          123,
          224,
          29,
          29,
          77,
          35,
          35,
          45,
          130,
          86,
          160,
          138,
          70,
          289,
          119,
          66,
          183,
          214,
          180,
          281,
          137,
          117,
          236,
          247,
          141,
          319,
          118,
          81,
          165,
          153,
          135,
          327,
          149,
          81,
          134,
          249,
          174,
          253,
          144,
          122,
          96,
          165,
          181,
          335,
          90,
          42,
          126,
          111,
          114,
          201,
          127,
          69,
          72,
          112,
          187,
          201,
          272,
          129,
          104,
          177,
          179,
          157,
          304,
          110,
          66,
          204,
          228,
          184,
          286,
          133,
          156,
          170,
          228,
          118,
          255,
          155,
          104,
          270,
          231,
          181,
          309,
          125,
          168,
          212,
          190,
          145,
          337,
          144,
          233,
          284,
          246,
          204,
          249,
          123,
          145,
          215,
          248,
          164,
          335,
          151,
          92,
          211,
          211,
          179,
          290,
          156,
          115,
          223,
          254,
          149,
          310,
          59,
          105,
          82,
          142,
          175,
          135,
          277,
          132,
          77,
          159,
          155,
          169,
          293,
          159,
          84,
          120,
          172,
          113,
          337,
          133,
          83,
          185,
          144,
          137,
          278,
          91,
          166,
          220,
          167,
          190,
          263,
          93,
          60,
          242,
          164,
          123,
          130,
          200,
          187,
          181,
          305,
          133,
          98,
          228,
          263,
          242,
          210,
          158,
          120,
          313,
          256,
          198,
          250,
          108,
          52,
          196,
          227,
          193,
          305,
          141,
          117,
          142,
          171,
          104,
          232,
          110,
          114,
          225,
          197,
          174,
          310,
          122,
          85,
          124,
          195,
          162,
          249,
          116,
          56,
          90,
          166,
          186,
          258,
          135,
          114,
          239,
          187,
          113,
          241,
          129,
          105,
          186,
          169,
          144,
          285,
          106,
          77,
          113,
          142,
          59,
          295,
          134,
          86,
          158,
          231,
          169,
          274,
          144,
          128,
          241,
          235,
          167,
          282,
          114,
          97,
          112,
          188,
          159,
          272,
          148,
          59,
          192,
          117,
          120,
          304
         ],
         "yaxis": "y"
        }
       ],
       "layout": {
        "legend": {
         "tracegroupgap": 0
        },
        "template": {
         "data": {
          "bar": [
           {
            "error_x": {
             "color": "#2a3f5f"
            },
            "error_y": {
             "color": "#2a3f5f"
            },
            "marker": {
             "line": {
              "color": "#E5ECF6",
              "width": 0.5
             },
             "pattern": {
              "fillmode": "overlay",
              "size": 10,
              "solidity": 0.2
             }
            },
            "type": "bar"
           }
          ],
          "barpolar": [
           {
            "marker": {
             "line": {
              "color": "#E5ECF6",
              "width": 0.5
             },
             "pattern": {
              "fillmode": "overlay",
              "size": 10,
              "solidity": 0.2
             }
            },
            "type": "barpolar"
           }
          ],
          "carpet": [
           {
            "aaxis": {
             "endlinecolor": "#2a3f5f",
             "gridcolor": "white",
             "linecolor": "white",
             "minorgridcolor": "white",
             "startlinecolor": "#2a3f5f"
            },
            "baxis": {
             "endlinecolor": "#2a3f5f",
             "gridcolor": "white",
             "linecolor": "white",
             "minorgridcolor": "white",
             "startlinecolor": "#2a3f5f"
            },
            "type": "carpet"
           }
          ],
          "choropleth": [
           {
            "colorbar": {
             "outlinewidth": 0,
             "ticks": ""
            },
            "type": "choropleth"
           }
          ],
          "contour": [
           {
            "colorbar": {
             "outlinewidth": 0,
             "ticks": ""
            },
            "colorscale": [
             [
              0,
              "#0d0887"
             ],
             [
              0.1111111111111111,
              "#46039f"
             ],
             [
              0.2222222222222222,
              "#7201a8"
             ],
             [
              0.3333333333333333,
              "#9c179e"
             ],
             [
              0.4444444444444444,
              "#bd3786"
             ],
             [
              0.5555555555555556,
              "#d8576b"
             ],
             [
              0.6666666666666666,
              "#ed7953"
             ],
             [
              0.7777777777777778,
              "#fb9f3a"
             ],
             [
              0.8888888888888888,
              "#fdca26"
             ],
             [
              1,
              "#f0f921"
             ]
            ],
            "type": "contour"
           }
          ],
          "contourcarpet": [
           {
            "colorbar": {
             "outlinewidth": 0,
             "ticks": ""
            },
            "type": "contourcarpet"
           }
          ],
          "heatmap": [
           {
            "colorbar": {
             "outlinewidth": 0,
             "ticks": ""
            },
            "colorscale": [
             [
              0,
              "#0d0887"
             ],
             [
              0.1111111111111111,
              "#46039f"
             ],
             [
              0.2222222222222222,
              "#7201a8"
             ],
             [
              0.3333333333333333,
              "#9c179e"
             ],
             [
              0.4444444444444444,
              "#bd3786"
             ],
             [
              0.5555555555555556,
              "#d8576b"
             ],
             [
              0.6666666666666666,
              "#ed7953"
             ],
             [
              0.7777777777777778,
              "#fb9f3a"
             ],
             [
              0.8888888888888888,
              "#fdca26"
             ],
             [
              1,
              "#f0f921"
             ]
            ],
            "type": "heatmap"
           }
          ],
          "heatmapgl": [
           {
            "colorbar": {
             "outlinewidth": 0,
             "ticks": ""
            },
            "colorscale": [
             [
              0,
              "#0d0887"
             ],
             [
              0.1111111111111111,
              "#46039f"
             ],
             [
              0.2222222222222222,
              "#7201a8"
             ],
             [
              0.3333333333333333,
              "#9c179e"
             ],
             [
              0.4444444444444444,
              "#bd3786"
             ],
             [
              0.5555555555555556,
              "#d8576b"
             ],
             [
              0.6666666666666666,
              "#ed7953"
             ],
             [
              0.7777777777777778,
              "#fb9f3a"
             ],
             [
              0.8888888888888888,
              "#fdca26"
             ],
             [
              1,
              "#f0f921"
             ]
            ],
            "type": "heatmapgl"
           }
          ],
          "histogram": [
           {
            "marker": {
             "pattern": {
              "fillmode": "overlay",
              "size": 10,
              "solidity": 0.2
             }
            },
            "type": "histogram"
           }
          ],
          "histogram2d": [
           {
            "colorbar": {
             "outlinewidth": 0,
             "ticks": ""
            },
            "colorscale": [
             [
              0,
              "#0d0887"
             ],
             [
              0.1111111111111111,
              "#46039f"
             ],
             [
              0.2222222222222222,
              "#7201a8"
             ],
             [
              0.3333333333333333,
              "#9c179e"
             ],
             [
              0.4444444444444444,
              "#bd3786"
             ],
             [
              0.5555555555555556,
              "#d8576b"
             ],
             [
              0.6666666666666666,
              "#ed7953"
             ],
             [
              0.7777777777777778,
              "#fb9f3a"
             ],
             [
              0.8888888888888888,
              "#fdca26"
             ],
             [
              1,
              "#f0f921"
             ]
            ],
            "type": "histogram2d"
           }
          ],
          "histogram2dcontour": [
           {
            "colorbar": {
             "outlinewidth": 0,
             "ticks": ""
            },
            "colorscale": [
             [
              0,
              "#0d0887"
             ],
             [
              0.1111111111111111,
              "#46039f"
             ],
             [
              0.2222222222222222,
              "#7201a8"
             ],
             [
              0.3333333333333333,
              "#9c179e"
             ],
             [
              0.4444444444444444,
              "#bd3786"
             ],
             [
              0.5555555555555556,
              "#d8576b"
             ],
             [
              0.6666666666666666,
              "#ed7953"
             ],
             [
              0.7777777777777778,
              "#fb9f3a"
             ],
             [
              0.8888888888888888,
              "#fdca26"
             ],
             [
              1,
              "#f0f921"
             ]
            ],
            "type": "histogram2dcontour"
           }
          ],
          "mesh3d": [
           {
            "colorbar": {
             "outlinewidth": 0,
             "ticks": ""
            },
            "type": "mesh3d"
           }
          ],
          "parcoords": [
           {
            "line": {
             "colorbar": {
              "outlinewidth": 0,
              "ticks": ""
             }
            },
            "type": "parcoords"
           }
          ],
          "pie": [
           {
            "automargin": true,
            "type": "pie"
           }
          ],
          "scatter": [
           {
            "fillpattern": {
             "fillmode": "overlay",
             "size": 10,
             "solidity": 0.2
            },
            "type": "scatter"
           }
          ],
          "scatter3d": [
           {
            "line": {
             "colorbar": {
              "outlinewidth": 0,
              "ticks": ""
             }
            },
            "marker": {
             "colorbar": {
              "outlinewidth": 0,
              "ticks": ""
             }
            },
            "type": "scatter3d"
           }
          ],
          "scattercarpet": [
           {
            "marker": {
             "colorbar": {
              "outlinewidth": 0,
              "ticks": ""
             }
            },
            "type": "scattercarpet"
           }
          ],
          "scattergeo": [
           {
            "marker": {
             "colorbar": {
              "outlinewidth": 0,
              "ticks": ""
             }
            },
            "type": "scattergeo"
           }
          ],
          "scattergl": [
           {
            "marker": {
             "colorbar": {
              "outlinewidth": 0,
              "ticks": ""
             }
            },
            "type": "scattergl"
           }
          ],
          "scattermapbox": [
           {
            "marker": {
             "colorbar": {
              "outlinewidth": 0,
              "ticks": ""
             }
            },
            "type": "scattermapbox"
           }
          ],
          "scatterpolar": [
           {
            "marker": {
             "colorbar": {
              "outlinewidth": 0,
              "ticks": ""
             }
            },
            "type": "scatterpolar"
           }
          ],
          "scatterpolargl": [
           {
            "marker": {
             "colorbar": {
              "outlinewidth": 0,
              "ticks": ""
             }
            },
            "type": "scatterpolargl"
           }
          ],
          "scatterternary": [
           {
            "marker": {
             "colorbar": {
              "outlinewidth": 0,
              "ticks": ""
             }
            },
            "type": "scatterternary"
           }
          ],
          "surface": [
           {
            "colorbar": {
             "outlinewidth": 0,
             "ticks": ""
            },
            "colorscale": [
             [
              0,
              "#0d0887"
             ],
             [
              0.1111111111111111,
              "#46039f"
             ],
             [
              0.2222222222222222,
              "#7201a8"
             ],
             [
              0.3333333333333333,
              "#9c179e"
             ],
             [
              0.4444444444444444,
              "#bd3786"
             ],
             [
              0.5555555555555556,
              "#d8576b"
             ],
             [
              0.6666666666666666,
              "#ed7953"
             ],
             [
              0.7777777777777778,
              "#fb9f3a"
             ],
             [
              0.8888888888888888,
              "#fdca26"
             ],
             [
              1,
              "#f0f921"
             ]
            ],
            "type": "surface"
           }
          ],
          "table": [
           {
            "cells": {
             "fill": {
              "color": "#EBF0F8"
             },
             "line": {
              "color": "white"
             }
            },
            "header": {
             "fill": {
              "color": "#C8D4E3"
             },
             "line": {
              "color": "white"
             }
            },
            "type": "table"
           }
          ]
         },
         "layout": {
          "annotationdefaults": {
           "arrowcolor": "#2a3f5f",
           "arrowhead": 0,
           "arrowwidth": 1
          },
          "autotypenumbers": "strict",
          "coloraxis": {
           "colorbar": {
            "outlinewidth": 0,
            "ticks": ""
           }
          },
          "colorscale": {
           "diverging": [
            [
             0,
             "#8e0152"
            ],
            [
             0.1,
             "#c51b7d"
            ],
            [
             0.2,
             "#de77ae"
            ],
            [
             0.3,
             "#f1b6da"
            ],
            [
             0.4,
             "#fde0ef"
            ],
            [
             0.5,
             "#f7f7f7"
            ],
            [
             0.6,
             "#e6f5d0"
            ],
            [
             0.7,
             "#b8e186"
            ],
            [
             0.8,
             "#7fbc41"
            ],
            [
             0.9,
             "#4d9221"
            ],
            [
             1,
             "#276419"
            ]
           ],
           "sequential": [
            [
             0,
             "#0d0887"
            ],
            [
             0.1111111111111111,
             "#46039f"
            ],
            [
             0.2222222222222222,
             "#7201a8"
            ],
            [
             0.3333333333333333,
             "#9c179e"
            ],
            [
             0.4444444444444444,
             "#bd3786"
            ],
            [
             0.5555555555555556,
             "#d8576b"
            ],
            [
             0.6666666666666666,
             "#ed7953"
            ],
            [
             0.7777777777777778,
             "#fb9f3a"
            ],
            [
             0.8888888888888888,
             "#fdca26"
            ],
            [
             1,
             "#f0f921"
            ]
           ],
           "sequentialminus": [
            [
             0,
             "#0d0887"
            ],
            [
             0.1111111111111111,
             "#46039f"
            ],
            [
             0.2222222222222222,
             "#7201a8"
            ],
            [
             0.3333333333333333,
             "#9c179e"
            ],
            [
             0.4444444444444444,
             "#bd3786"
            ],
            [
             0.5555555555555556,
             "#d8576b"
            ],
            [
             0.6666666666666666,
             "#ed7953"
            ],
            [
             0.7777777777777778,
             "#fb9f3a"
            ],
            [
             0.8888888888888888,
             "#fdca26"
            ],
            [
             1,
             "#f0f921"
            ]
           ]
          },
          "colorway": [
           "#636efa",
           "#EF553B",
           "#00cc96",
           "#ab63fa",
           "#FFA15A",
           "#19d3f3",
           "#FF6692",
           "#B6E880",
           "#FF97FF",
           "#FECB52"
          ],
          "font": {
           "color": "#2a3f5f"
          },
          "geo": {
           "bgcolor": "white",
           "lakecolor": "white",
           "landcolor": "#E5ECF6",
           "showlakes": true,
           "showland": true,
           "subunitcolor": "white"
          },
          "hoverlabel": {
           "align": "left"
          },
          "hovermode": "closest",
          "mapbox": {
           "style": "light"
          },
          "paper_bgcolor": "white",
          "plot_bgcolor": "#E5ECF6",
          "polar": {
           "angularaxis": {
            "gridcolor": "white",
            "linecolor": "white",
            "ticks": ""
           },
           "bgcolor": "#E5ECF6",
           "radialaxis": {
            "gridcolor": "white",
            "linecolor": "white",
            "ticks": ""
           }
          },
          "scene": {
           "xaxis": {
            "backgroundcolor": "#E5ECF6",
            "gridcolor": "white",
            "gridwidth": 2,
            "linecolor": "white",
            "showbackground": true,
            "ticks": "",
            "zerolinecolor": "white"
           },
           "yaxis": {
            "backgroundcolor": "#E5ECF6",
            "gridcolor": "white",
            "gridwidth": 2,
            "linecolor": "white",
            "showbackground": true,
            "ticks": "",
            "zerolinecolor": "white"
           },
           "zaxis": {
            "backgroundcolor": "#E5ECF6",
            "gridcolor": "white",
            "gridwidth": 2,
            "linecolor": "white",
            "showbackground": true,
            "ticks": "",
            "zerolinecolor": "white"
           }
          },
          "shapedefaults": {
           "line": {
            "color": "#2a3f5f"
           }
          },
          "ternary": {
           "aaxis": {
            "gridcolor": "white",
            "linecolor": "white",
            "ticks": ""
           },
           "baxis": {
            "gridcolor": "white",
            "linecolor": "white",
            "ticks": ""
           },
           "bgcolor": "#E5ECF6",
           "caxis": {
            "gridcolor": "white",
            "linecolor": "white",
            "ticks": ""
           }
          },
          "title": {
           "x": 0.05
          },
          "xaxis": {
           "automargin": true,
           "gridcolor": "white",
           "linecolor": "white",
           "ticks": "",
           "title": {
            "standoff": 15
           },
           "zerolinecolor": "white",
           "zerolinewidth": 2
          },
          "yaxis": {
           "automargin": true,
           "gridcolor": "white",
           "linecolor": "white",
           "ticks": "",
           "title": {
            "standoff": 15
           },
           "zerolinecolor": "white",
           "zerolinewidth": 2
          }
         }
        },
        "title": {
         "text": "Nr of total nuclei by Tissue Location"
        },
        "xaxis": {
         "anchor": "y",
         "domain": [
          0,
          1
         ],
         "title": {
          "text": "tissue_location"
         }
        },
        "yaxis": {
         "anchor": "x",
         "domain": [
          0,
          1
         ],
         "title": {
          "text": "nr_total_nuclei"
         }
        }
       }
      }
     },
     "metadata": {},
     "output_type": "display_data"
    }
   ],
   "source": [
    "# Create the plot\n",
    "fig = px.scatter(df, x='tissue_location', y='nr_total_nuclei',\n",
    "                 hover_data=['sample_id','index'], title='Nr of total nuclei by Tissue Location')\n",
    "\n",
    "# Show the plot\n",
    "fig.show()"
   ]
  },
  {
   "cell_type": "code",
   "execution_count": 27,
   "metadata": {},
   "outputs": [
    {
     "data": {
      "application/vnd.plotly.v1+json": {
       "config": {
        "plotlyServerURL": "https://plot.ly"
       },
       "data": [
        {
         "customdata": [
          [
           "CA1",
           0
          ],
          [
           "CA3",
           1
          ],
          [
           "CTX1",
           2
          ],
          [
           "CTX2",
           3
          ],
          [
           "CTX3",
           4
          ],
          [
           "DG",
           5
          ],
          [
           "CA1",
           6
          ],
          [
           "CA3",
           7
          ],
          [
           "CTX1",
           8
          ],
          [
           "CTX2",
           9
          ],
          [
           "CTX3",
           10
          ],
          [
           "DG",
           11
          ],
          [
           "CA1",
           12
          ],
          [
           "CA3",
           13
          ],
          [
           "CTX1",
           14
          ],
          [
           "CTX2",
           15
          ],
          [
           "CTX3",
           16
          ],
          [
           "DG",
           17
          ],
          [
           "CA1",
           18
          ],
          [
           "CA3",
           19
          ],
          [
           "CTX1",
           20
          ],
          [
           "CTX2",
           21
          ],
          [
           "CTX3",
           22
          ],
          [
           "DG",
           23
          ],
          [
           "CA1",
           24
          ],
          [
           "CA3",
           25
          ],
          [
           "CTX1",
           26
          ],
          [
           "CTX2",
           27
          ],
          [
           "CTX3",
           28
          ],
          [
           "DG",
           29
          ],
          [
           "CA1",
           30
          ],
          [
           "CA3",
           31
          ],
          [
           "CTX1",
           32
          ],
          [
           "CTX2",
           33
          ],
          [
           "CTX3",
           34
          ],
          [
           "DG",
           35
          ],
          [
           "CA1",
           36
          ],
          [
           "CA3",
           37
          ],
          [
           "CTX1",
           38
          ],
          [
           "CTX2",
           39
          ],
          [
           "CTX3",
           40
          ],
          [
           "DG",
           41
          ],
          [
           "CA1",
           42
          ],
          [
           "CA3",
           43
          ],
          [
           "CTX1",
           44
          ],
          [
           "CTX2",
           45
          ],
          [
           "CTX3",
           46
          ],
          [
           "DG",
           47
          ],
          [
           "CA1",
           48
          ],
          [
           "CA3",
           49
          ],
          [
           "CTX1",
           50
          ],
          [
           "CTX2",
           51
          ],
          [
           "CTX3",
           52
          ],
          [
           "DG",
           53
          ],
          [
           "CA1",
           54
          ],
          [
           "CA3",
           55
          ],
          [
           "CTX1",
           56
          ],
          [
           "CTX2",
           57
          ],
          [
           "CTX3",
           58
          ],
          [
           "DG",
           59
          ],
          [
           "CA1",
           60
          ],
          [
           "CA3",
           61
          ],
          [
           "CTX1",
           62
          ],
          [
           "CTX2",
           63
          ],
          [
           "CTX3",
           64
          ],
          [
           "DG",
           65
          ],
          [
           "DG",
           66
          ],
          [
           "CA1",
           67
          ],
          [
           "CA3",
           68
          ],
          [
           "CTX1",
           69
          ],
          [
           "CTX2",
           70
          ],
          [
           "CTX3",
           71
          ],
          [
           "DG",
           72
          ],
          [
           "CA1",
           73
          ],
          [
           "CA3",
           74
          ],
          [
           "CTX1",
           75
          ],
          [
           "CTX2",
           76
          ],
          [
           "CTX3",
           77
          ],
          [
           "DG",
           78
          ],
          [
           "CA1",
           79
          ],
          [
           "CA3",
           80
          ],
          [
           "CTX1",
           81
          ],
          [
           "CTX2",
           82
          ],
          [
           "CTX3",
           83
          ],
          [
           "DG",
           84
          ],
          [
           "CA1",
           85
          ],
          [
           "CA3",
           86
          ],
          [
           "CTX1",
           87
          ],
          [
           "CTX2",
           88
          ],
          [
           "CTX3",
           89
          ],
          [
           "DG",
           90
          ],
          [
           "CA1",
           91
          ],
          [
           "CA3",
           92
          ],
          [
           "CTX1",
           93
          ],
          [
           "CTX2",
           94
          ],
          [
           "CTX3",
           95
          ],
          [
           "DG",
           96
          ],
          [
           "CA1",
           97
          ],
          [
           "CA3",
           98
          ],
          [
           "CTX1",
           99
          ],
          [
           "CTX2",
           100
          ],
          [
           "CTX3",
           101
          ],
          [
           "DG",
           102
          ],
          [
           "CA1",
           103
          ],
          [
           "CA3",
           104
          ],
          [
           "CTX1",
           105
          ],
          [
           "CTX2",
           106
          ],
          [
           "CTX3",
           107
          ],
          [
           "DG",
           108
          ],
          [
           "CA1",
           109
          ],
          [
           "CA3",
           110
          ],
          [
           "CTX1",
           111
          ],
          [
           "CTX2",
           112
          ],
          [
           "CTX3",
           113
          ],
          [
           "DG",
           114
          ],
          [
           "CA1",
           115
          ],
          [
           "CA3",
           116
          ],
          [
           "CTX1",
           117
          ],
          [
           "CTX2",
           118
          ],
          [
           "CTX3",
           119
          ],
          [
           "DG",
           120
          ],
          [
           "CA1",
           121
          ],
          [
           "CA3",
           122
          ],
          [
           "CTX1",
           123
          ],
          [
           "CTX2",
           124
          ],
          [
           "CTX3",
           125
          ],
          [
           "DG",
           126
          ],
          [
           "DG",
           127
          ],
          [
           "CA1",
           128
          ],
          [
           "CA3",
           129
          ],
          [
           "CTX1",
           130
          ],
          [
           "CTX2",
           131
          ],
          [
           "CTX3",
           132
          ],
          [
           "DG",
           133
          ],
          [
           "CA1",
           134
          ],
          [
           "CA3",
           135
          ],
          [
           "CTX1",
           136
          ],
          [
           "CTX2",
           137
          ],
          [
           "CTX3",
           138
          ],
          [
           "DG",
           139
          ],
          [
           "CA1",
           140
          ],
          [
           "CA3",
           141
          ],
          [
           "CTX1",
           142
          ],
          [
           "CTX2",
           143
          ],
          [
           "CTX3",
           144
          ],
          [
           "DG",
           145
          ],
          [
           "CA1",
           146
          ],
          [
           "CA3",
           147
          ],
          [
           "CTX1",
           148
          ],
          [
           "CTX2",
           149
          ],
          [
           "CTX3",
           150
          ],
          [
           "DG",
           151
          ],
          [
           "CA1",
           152
          ],
          [
           "CA3",
           153
          ],
          [
           "CTX1",
           154
          ],
          [
           "CTX2",
           155
          ],
          [
           "CTX3",
           156
          ],
          [
           "DG",
           157
          ],
          [
           "CA1",
           158
          ],
          [
           "CA3",
           159
          ],
          [
           "CTX1",
           160
          ],
          [
           "DG",
           161
          ],
          [
           "CA1",
           162
          ],
          [
           "CA3",
           163
          ],
          [
           "CTX1",
           164
          ],
          [
           "CTX2",
           165
          ],
          [
           "CTX3",
           166
          ],
          [
           "DG",
           167
          ],
          [
           "CA1",
           168
          ],
          [
           "CA3",
           169
          ],
          [
           "CTX1",
           170
          ],
          [
           "CTX2",
           171
          ],
          [
           "CTX3",
           172
          ],
          [
           "DG",
           173
          ],
          [
           "CA1",
           174
          ],
          [
           "CA3",
           175
          ],
          [
           "CTX1",
           176
          ],
          [
           "CTX2",
           177
          ],
          [
           "CTX3",
           178
          ],
          [
           "DG",
           179
          ],
          [
           "CA1",
           180
          ],
          [
           "CA3",
           181
          ],
          [
           "CTX1",
           182
          ],
          [
           "CTX2",
           183
          ],
          [
           "CTX3",
           184
          ],
          [
           "DG",
           185
          ],
          [
           "CA1",
           186
          ],
          [
           "CA3",
           187
          ],
          [
           "CTX1",
           188
          ],
          [
           "CTX2",
           189
          ],
          [
           "CTX3",
           190
          ],
          [
           "DG",
           191
          ],
          [
           "CA1",
           192
          ],
          [
           "CA3",
           193
          ],
          [
           "CTX1",
           194
          ],
          [
           "CTX2",
           195
          ],
          [
           "CTX3",
           196
          ],
          [
           "DG",
           197
          ],
          [
           "CA1",
           198
          ],
          [
           "CA3",
           199
          ],
          [
           "CTX1",
           200
          ],
          [
           "CTX2",
           201
          ],
          [
           "CTX3",
           202
          ],
          [
           "DG",
           203
          ],
          [
           "CA1",
           204
          ],
          [
           "CA3",
           205
          ],
          [
           "CTX1",
           206
          ],
          [
           "CTX2",
           207
          ],
          [
           "CTX3",
           208
          ],
          [
           "DG",
           209
          ],
          [
           "CA1",
           210
          ],
          [
           "CA3",
           211
          ],
          [
           "CTX1",
           212
          ],
          [
           "CTX2",
           213
          ],
          [
           "CTX3",
           214
          ],
          [
           "DG",
           215
          ],
          [
           "CA1",
           216
          ],
          [
           "CA3",
           217
          ],
          [
           "CTX1",
           218
          ],
          [
           "CTX2",
           219
          ],
          [
           "CTX3",
           220
          ],
          [
           "DG",
           221
          ],
          [
           "CA1",
           222
          ],
          [
           "CA3",
           223
          ],
          [
           "CTX1",
           224
          ],
          [
           "CTX2",
           225
          ],
          [
           "CTX3",
           226
          ],
          [
           "DG",
           227
          ],
          [
           "CA1",
           228
          ],
          [
           "CA3",
           229
          ],
          [
           "CTX1",
           230
          ],
          [
           "CTX2",
           231
          ],
          [
           "CTX3",
           232
          ],
          [
           "DG",
           233
          ],
          [
           "CA1",
           234
          ],
          [
           "CA3",
           235
          ],
          [
           "CTX1",
           236
          ],
          [
           "CTX2",
           237
          ],
          [
           "CTX3",
           238
          ],
          [
           "DG",
           239
          ],
          [
           "CA1",
           240
          ],
          [
           "CA3",
           241
          ],
          [
           "CTX1",
           242
          ],
          [
           "CTX2",
           243
          ],
          [
           "CTX3",
           244
          ],
          [
           "DG",
           245
          ],
          [
           "CA1",
           246
          ],
          [
           "CA3",
           247
          ],
          [
           "CTX1",
           248
          ],
          [
           "CTX2",
           249
          ],
          [
           "CTX3",
           250
          ],
          [
           "DG",
           251
          ]
         ],
         "hovertemplate": "sample_id=%{x}<br>nr_glia_+_nuclei=%{y}<br>tissue_location=%{customdata[0]}<br>index=%{customdata[1]}<extra></extra>",
         "legendgroup": "",
         "marker": {
          "color": "#636efa",
          "symbol": "circle"
         },
         "mode": "markers",
         "name": "",
         "orientation": "v",
         "showlegend": false,
         "type": "scatter",
         "x": [
          "16",
          "16",
          "16",
          "16",
          "16",
          "16",
          "17",
          "17",
          "17",
          "17",
          "17",
          "17",
          "18",
          "18",
          "18",
          "18",
          "18",
          "18",
          "19",
          "19",
          "19",
          "19",
          "19",
          "19",
          "20",
          "20",
          "20",
          "20",
          "20",
          "20",
          "21",
          "21",
          "21",
          "21",
          "21",
          "21",
          "22",
          "22",
          "22",
          "22",
          "22",
          "22",
          "23",
          "23",
          "23",
          "23",
          "23",
          "23",
          "24",
          "24",
          "24",
          "24",
          "24",
          "24",
          "25",
          "25",
          "25",
          "25",
          "25",
          "25",
          "26",
          "26",
          "26",
          "26",
          "26",
          "26",
          "27",
          "28",
          "28",
          "28",
          "28",
          "28",
          "28",
          "29",
          "29",
          "29",
          "29",
          "29",
          "29",
          "30",
          "30",
          "30",
          "30",
          "30",
          "30",
          "31",
          "31",
          "31",
          "31",
          "31",
          "31",
          "32",
          "32",
          "32",
          "32",
          "32",
          "32",
          "33",
          "33",
          "33",
          "33",
          "33",
          "33",
          "34",
          "34",
          "34",
          "34",
          "34",
          "34",
          "35",
          "35",
          "35",
          "35",
          "35",
          "35",
          "36",
          "36",
          "36",
          "36",
          "36",
          "36",
          "37",
          "37",
          "37",
          "37",
          "37",
          "37",
          "38",
          "39",
          "39",
          "39",
          "39",
          "39",
          "39",
          "40",
          "40",
          "40",
          "40",
          "40",
          "40",
          "41",
          "41",
          "41",
          "41",
          "41",
          "41",
          "42",
          "42",
          "42",
          "42",
          "42",
          "42",
          "43",
          "43",
          "43",
          "43",
          "43",
          "43",
          "44",
          "44",
          "44",
          "44",
          "45",
          "45",
          "45",
          "45",
          "45",
          "45",
          "46",
          "46",
          "46",
          "46",
          "46",
          "46",
          "47",
          "47",
          "47",
          "47",
          "47",
          "47",
          "48",
          "48",
          "48",
          "48",
          "48",
          "48",
          "49",
          "49",
          "49",
          "49",
          "49",
          "49",
          "50",
          "50",
          "50",
          "50",
          "50",
          "50",
          "51",
          "51",
          "51",
          "51",
          "51",
          "51",
          "52",
          "52",
          "52",
          "52",
          "52",
          "52",
          "53",
          "53",
          "53",
          "53",
          "53",
          "53",
          "54",
          "54",
          "54",
          "54",
          "54",
          "54",
          "55",
          "55",
          "55",
          "55",
          "55",
          "55",
          "56",
          "56",
          "56",
          "56",
          "56",
          "56",
          "57",
          "57",
          "57",
          "57",
          "57",
          "57",
          "58",
          "58",
          "58",
          "58",
          "58",
          "58",
          "59",
          "59",
          "59",
          "59",
          "59",
          "59"
         ],
         "xaxis": "x",
         "y": [
          140,
          153,
          37,
          229,
          127,
          281,
          10,
          21,
          17,
          53,
          39,
          99,
          14,
          5,
          17,
          16,
          12,
          87,
          29,
          29,
          77,
          27,
          27,
          45,
          6,
          3,
          2,
          11,
          3,
          8,
          9,
          2,
          15,
          10,
          20,
          19,
          17,
          5,
          10,
          18,
          5,
          21,
          4,
          2,
          21,
          2,
          14,
          14,
          6,
          1,
          13,
          25,
          14,
          5,
          6,
          6,
          12,
          14,
          8,
          15,
          11,
          5,
          17,
          15,
          36,
          17,
          6,
          3,
          2,
          7,
          12,
          9,
          19,
          5,
          4,
          18,
          21,
          10,
          8,
          6,
          4,
          16,
          17,
          12,
          5,
          7,
          0,
          12,
          15,
          6,
          12,
          24,
          20,
          52,
          74,
          43,
          68,
          4,
          7,
          10,
          12,
          8,
          11,
          15,
          6,
          32,
          40,
          27,
          27,
          6,
          24,
          16,
          135,
          68,
          117,
          11,
          4,
          19,
          27,
          5,
          5,
          6,
          9,
          15,
          26,
          27,
          11,
          8,
          3,
          4,
          3,
          5,
          2,
          10,
          3,
          4,
          20,
          14,
          22,
          4,
          1,
          1,
          0,
          4,
          5,
          5,
          1,
          3,
          7,
          11,
          3,
          5,
          3,
          1,
          30,
          20,
          14,
          31,
          22,
          23,
          107,
          84,
          12,
          5,
          19,
          22,
          21,
          22,
          54,
          45,
          100,
          125,
          95,
          88,
          14,
          10,
          32,
          81,
          37,
          14,
          5,
          0,
          31,
          20,
          20,
          11,
          15,
          15,
          17,
          15,
          10,
          29,
          13,
          11,
          22,
          17,
          28,
          24,
          19,
          4,
          14,
          25,
          30,
          20,
          6,
          2,
          14,
          18,
          25,
          20,
          6,
          2,
          30,
          25,
          12,
          20,
          2,
          0,
          16,
          14,
          12,
          18,
          4,
          2,
          8,
          11,
          2,
          11,
          12,
          9,
          18,
          21,
          26,
          17,
          12,
          8,
          15,
          17,
          6,
          28,
          6,
          4,
          14,
          18,
          5,
          4,
          4,
          0,
          8,
          11,
          16,
          10
         ],
         "yaxis": "y"
        }
       ],
       "layout": {
        "legend": {
         "tracegroupgap": 0
        },
        "template": {
         "data": {
          "bar": [
           {
            "error_x": {
             "color": "#2a3f5f"
            },
            "error_y": {
             "color": "#2a3f5f"
            },
            "marker": {
             "line": {
              "color": "#E5ECF6",
              "width": 0.5
             },
             "pattern": {
              "fillmode": "overlay",
              "size": 10,
              "solidity": 0.2
             }
            },
            "type": "bar"
           }
          ],
          "barpolar": [
           {
            "marker": {
             "line": {
              "color": "#E5ECF6",
              "width": 0.5
             },
             "pattern": {
              "fillmode": "overlay",
              "size": 10,
              "solidity": 0.2
             }
            },
            "type": "barpolar"
           }
          ],
          "carpet": [
           {
            "aaxis": {
             "endlinecolor": "#2a3f5f",
             "gridcolor": "white",
             "linecolor": "white",
             "minorgridcolor": "white",
             "startlinecolor": "#2a3f5f"
            },
            "baxis": {
             "endlinecolor": "#2a3f5f",
             "gridcolor": "white",
             "linecolor": "white",
             "minorgridcolor": "white",
             "startlinecolor": "#2a3f5f"
            },
            "type": "carpet"
           }
          ],
          "choropleth": [
           {
            "colorbar": {
             "outlinewidth": 0,
             "ticks": ""
            },
            "type": "choropleth"
           }
          ],
          "contour": [
           {
            "colorbar": {
             "outlinewidth": 0,
             "ticks": ""
            },
            "colorscale": [
             [
              0,
              "#0d0887"
             ],
             [
              0.1111111111111111,
              "#46039f"
             ],
             [
              0.2222222222222222,
              "#7201a8"
             ],
             [
              0.3333333333333333,
              "#9c179e"
             ],
             [
              0.4444444444444444,
              "#bd3786"
             ],
             [
              0.5555555555555556,
              "#d8576b"
             ],
             [
              0.6666666666666666,
              "#ed7953"
             ],
             [
              0.7777777777777778,
              "#fb9f3a"
             ],
             [
              0.8888888888888888,
              "#fdca26"
             ],
             [
              1,
              "#f0f921"
             ]
            ],
            "type": "contour"
           }
          ],
          "contourcarpet": [
           {
            "colorbar": {
             "outlinewidth": 0,
             "ticks": ""
            },
            "type": "contourcarpet"
           }
          ],
          "heatmap": [
           {
            "colorbar": {
             "outlinewidth": 0,
             "ticks": ""
            },
            "colorscale": [
             [
              0,
              "#0d0887"
             ],
             [
              0.1111111111111111,
              "#46039f"
             ],
             [
              0.2222222222222222,
              "#7201a8"
             ],
             [
              0.3333333333333333,
              "#9c179e"
             ],
             [
              0.4444444444444444,
              "#bd3786"
             ],
             [
              0.5555555555555556,
              "#d8576b"
             ],
             [
              0.6666666666666666,
              "#ed7953"
             ],
             [
              0.7777777777777778,
              "#fb9f3a"
             ],
             [
              0.8888888888888888,
              "#fdca26"
             ],
             [
              1,
              "#f0f921"
             ]
            ],
            "type": "heatmap"
           }
          ],
          "heatmapgl": [
           {
            "colorbar": {
             "outlinewidth": 0,
             "ticks": ""
            },
            "colorscale": [
             [
              0,
              "#0d0887"
             ],
             [
              0.1111111111111111,
              "#46039f"
             ],
             [
              0.2222222222222222,
              "#7201a8"
             ],
             [
              0.3333333333333333,
              "#9c179e"
             ],
             [
              0.4444444444444444,
              "#bd3786"
             ],
             [
              0.5555555555555556,
              "#d8576b"
             ],
             [
              0.6666666666666666,
              "#ed7953"
             ],
             [
              0.7777777777777778,
              "#fb9f3a"
             ],
             [
              0.8888888888888888,
              "#fdca26"
             ],
             [
              1,
              "#f0f921"
             ]
            ],
            "type": "heatmapgl"
           }
          ],
          "histogram": [
           {
            "marker": {
             "pattern": {
              "fillmode": "overlay",
              "size": 10,
              "solidity": 0.2
             }
            },
            "type": "histogram"
           }
          ],
          "histogram2d": [
           {
            "colorbar": {
             "outlinewidth": 0,
             "ticks": ""
            },
            "colorscale": [
             [
              0,
              "#0d0887"
             ],
             [
              0.1111111111111111,
              "#46039f"
             ],
             [
              0.2222222222222222,
              "#7201a8"
             ],
             [
              0.3333333333333333,
              "#9c179e"
             ],
             [
              0.4444444444444444,
              "#bd3786"
             ],
             [
              0.5555555555555556,
              "#d8576b"
             ],
             [
              0.6666666666666666,
              "#ed7953"
             ],
             [
              0.7777777777777778,
              "#fb9f3a"
             ],
             [
              0.8888888888888888,
              "#fdca26"
             ],
             [
              1,
              "#f0f921"
             ]
            ],
            "type": "histogram2d"
           }
          ],
          "histogram2dcontour": [
           {
            "colorbar": {
             "outlinewidth": 0,
             "ticks": ""
            },
            "colorscale": [
             [
              0,
              "#0d0887"
             ],
             [
              0.1111111111111111,
              "#46039f"
             ],
             [
              0.2222222222222222,
              "#7201a8"
             ],
             [
              0.3333333333333333,
              "#9c179e"
             ],
             [
              0.4444444444444444,
              "#bd3786"
             ],
             [
              0.5555555555555556,
              "#d8576b"
             ],
             [
              0.6666666666666666,
              "#ed7953"
             ],
             [
              0.7777777777777778,
              "#fb9f3a"
             ],
             [
              0.8888888888888888,
              "#fdca26"
             ],
             [
              1,
              "#f0f921"
             ]
            ],
            "type": "histogram2dcontour"
           }
          ],
          "mesh3d": [
           {
            "colorbar": {
             "outlinewidth": 0,
             "ticks": ""
            },
            "type": "mesh3d"
           }
          ],
          "parcoords": [
           {
            "line": {
             "colorbar": {
              "outlinewidth": 0,
              "ticks": ""
             }
            },
            "type": "parcoords"
           }
          ],
          "pie": [
           {
            "automargin": true,
            "type": "pie"
           }
          ],
          "scatter": [
           {
            "fillpattern": {
             "fillmode": "overlay",
             "size": 10,
             "solidity": 0.2
            },
            "type": "scatter"
           }
          ],
          "scatter3d": [
           {
            "line": {
             "colorbar": {
              "outlinewidth": 0,
              "ticks": ""
             }
            },
            "marker": {
             "colorbar": {
              "outlinewidth": 0,
              "ticks": ""
             }
            },
            "type": "scatter3d"
           }
          ],
          "scattercarpet": [
           {
            "marker": {
             "colorbar": {
              "outlinewidth": 0,
              "ticks": ""
             }
            },
            "type": "scattercarpet"
           }
          ],
          "scattergeo": [
           {
            "marker": {
             "colorbar": {
              "outlinewidth": 0,
              "ticks": ""
             }
            },
            "type": "scattergeo"
           }
          ],
          "scattergl": [
           {
            "marker": {
             "colorbar": {
              "outlinewidth": 0,
              "ticks": ""
             }
            },
            "type": "scattergl"
           }
          ],
          "scattermapbox": [
           {
            "marker": {
             "colorbar": {
              "outlinewidth": 0,
              "ticks": ""
             }
            },
            "type": "scattermapbox"
           }
          ],
          "scatterpolar": [
           {
            "marker": {
             "colorbar": {
              "outlinewidth": 0,
              "ticks": ""
             }
            },
            "type": "scatterpolar"
           }
          ],
          "scatterpolargl": [
           {
            "marker": {
             "colorbar": {
              "outlinewidth": 0,
              "ticks": ""
             }
            },
            "type": "scatterpolargl"
           }
          ],
          "scatterternary": [
           {
            "marker": {
             "colorbar": {
              "outlinewidth": 0,
              "ticks": ""
             }
            },
            "type": "scatterternary"
           }
          ],
          "surface": [
           {
            "colorbar": {
             "outlinewidth": 0,
             "ticks": ""
            },
            "colorscale": [
             [
              0,
              "#0d0887"
             ],
             [
              0.1111111111111111,
              "#46039f"
             ],
             [
              0.2222222222222222,
              "#7201a8"
             ],
             [
              0.3333333333333333,
              "#9c179e"
             ],
             [
              0.4444444444444444,
              "#bd3786"
             ],
             [
              0.5555555555555556,
              "#d8576b"
             ],
             [
              0.6666666666666666,
              "#ed7953"
             ],
             [
              0.7777777777777778,
              "#fb9f3a"
             ],
             [
              0.8888888888888888,
              "#fdca26"
             ],
             [
              1,
              "#f0f921"
             ]
            ],
            "type": "surface"
           }
          ],
          "table": [
           {
            "cells": {
             "fill": {
              "color": "#EBF0F8"
             },
             "line": {
              "color": "white"
             }
            },
            "header": {
             "fill": {
              "color": "#C8D4E3"
             },
             "line": {
              "color": "white"
             }
            },
            "type": "table"
           }
          ]
         },
         "layout": {
          "annotationdefaults": {
           "arrowcolor": "#2a3f5f",
           "arrowhead": 0,
           "arrowwidth": 1
          },
          "autotypenumbers": "strict",
          "coloraxis": {
           "colorbar": {
            "outlinewidth": 0,
            "ticks": ""
           }
          },
          "colorscale": {
           "diverging": [
            [
             0,
             "#8e0152"
            ],
            [
             0.1,
             "#c51b7d"
            ],
            [
             0.2,
             "#de77ae"
            ],
            [
             0.3,
             "#f1b6da"
            ],
            [
             0.4,
             "#fde0ef"
            ],
            [
             0.5,
             "#f7f7f7"
            ],
            [
             0.6,
             "#e6f5d0"
            ],
            [
             0.7,
             "#b8e186"
            ],
            [
             0.8,
             "#7fbc41"
            ],
            [
             0.9,
             "#4d9221"
            ],
            [
             1,
             "#276419"
            ]
           ],
           "sequential": [
            [
             0,
             "#0d0887"
            ],
            [
             0.1111111111111111,
             "#46039f"
            ],
            [
             0.2222222222222222,
             "#7201a8"
            ],
            [
             0.3333333333333333,
             "#9c179e"
            ],
            [
             0.4444444444444444,
             "#bd3786"
            ],
            [
             0.5555555555555556,
             "#d8576b"
            ],
            [
             0.6666666666666666,
             "#ed7953"
            ],
            [
             0.7777777777777778,
             "#fb9f3a"
            ],
            [
             0.8888888888888888,
             "#fdca26"
            ],
            [
             1,
             "#f0f921"
            ]
           ],
           "sequentialminus": [
            [
             0,
             "#0d0887"
            ],
            [
             0.1111111111111111,
             "#46039f"
            ],
            [
             0.2222222222222222,
             "#7201a8"
            ],
            [
             0.3333333333333333,
             "#9c179e"
            ],
            [
             0.4444444444444444,
             "#bd3786"
            ],
            [
             0.5555555555555556,
             "#d8576b"
            ],
            [
             0.6666666666666666,
             "#ed7953"
            ],
            [
             0.7777777777777778,
             "#fb9f3a"
            ],
            [
             0.8888888888888888,
             "#fdca26"
            ],
            [
             1,
             "#f0f921"
            ]
           ]
          },
          "colorway": [
           "#636efa",
           "#EF553B",
           "#00cc96",
           "#ab63fa",
           "#FFA15A",
           "#19d3f3",
           "#FF6692",
           "#B6E880",
           "#FF97FF",
           "#FECB52"
          ],
          "font": {
           "color": "#2a3f5f"
          },
          "geo": {
           "bgcolor": "white",
           "lakecolor": "white",
           "landcolor": "#E5ECF6",
           "showlakes": true,
           "showland": true,
           "subunitcolor": "white"
          },
          "hoverlabel": {
           "align": "left"
          },
          "hovermode": "closest",
          "mapbox": {
           "style": "light"
          },
          "paper_bgcolor": "white",
          "plot_bgcolor": "#E5ECF6",
          "polar": {
           "angularaxis": {
            "gridcolor": "white",
            "linecolor": "white",
            "ticks": ""
           },
           "bgcolor": "#E5ECF6",
           "radialaxis": {
            "gridcolor": "white",
            "linecolor": "white",
            "ticks": ""
           }
          },
          "scene": {
           "xaxis": {
            "backgroundcolor": "#E5ECF6",
            "gridcolor": "white",
            "gridwidth": 2,
            "linecolor": "white",
            "showbackground": true,
            "ticks": "",
            "zerolinecolor": "white"
           },
           "yaxis": {
            "backgroundcolor": "#E5ECF6",
            "gridcolor": "white",
            "gridwidth": 2,
            "linecolor": "white",
            "showbackground": true,
            "ticks": "",
            "zerolinecolor": "white"
           },
           "zaxis": {
            "backgroundcolor": "#E5ECF6",
            "gridcolor": "white",
            "gridwidth": 2,
            "linecolor": "white",
            "showbackground": true,
            "ticks": "",
            "zerolinecolor": "white"
           }
          },
          "shapedefaults": {
           "line": {
            "color": "#2a3f5f"
           }
          },
          "ternary": {
           "aaxis": {
            "gridcolor": "white",
            "linecolor": "white",
            "ticks": ""
           },
           "baxis": {
            "gridcolor": "white",
            "linecolor": "white",
            "ticks": ""
           },
           "bgcolor": "#E5ECF6",
           "caxis": {
            "gridcolor": "white",
            "linecolor": "white",
            "ticks": ""
           }
          },
          "title": {
           "x": 0.05
          },
          "xaxis": {
           "automargin": true,
           "gridcolor": "white",
           "linecolor": "white",
           "ticks": "",
           "title": {
            "standoff": 15
           },
           "zerolinecolor": "white",
           "zerolinewidth": 2
          },
          "yaxis": {
           "automargin": true,
           "gridcolor": "white",
           "linecolor": "white",
           "ticks": "",
           "title": {
            "standoff": 15
           },
           "zerolinecolor": "white",
           "zerolinewidth": 2
          }
         }
        },
        "title": {
         "text": "Nr of glia+ nuclei by Sample"
        },
        "xaxis": {
         "anchor": "y",
         "domain": [
          0,
          1
         ],
         "title": {
          "text": "sample_id"
         }
        },
        "yaxis": {
         "anchor": "x",
         "domain": [
          0,
          1
         ],
         "title": {
          "text": "nr_glia_+_nuclei"
         }
        }
       }
      }
     },
     "metadata": {},
     "output_type": "display_data"
    }
   ],
   "source": [
    "# Create the plot\n",
    "fig = px.scatter(df, x='sample_id', y='nr_glia_+_nuclei',\n",
    "                 hover_data=['tissue_location','index'], title='Nr of glia+ nuclei by Sample')\n",
    "\n",
    "# Show the plot\n",
    "fig.show()"
   ]
  }
 ],
 "metadata": {
  "kernelspec": {
   "display_name": "microglia",
   "language": "python",
   "name": "python3"
  },
  "language_info": {
   "codemirror_mode": {
    "name": "ipython",
    "version": 3
   },
   "file_extension": ".py",
   "mimetype": "text/x-python",
   "name": "python",
   "nbconvert_exporter": "python",
   "pygments_lexer": "ipython3",
   "version": "3.9.18"
  }
 },
 "nbformat": 4,
 "nbformat_minor": 2
}
