{
 "cells": [
  {
   "cell_type": "code",
   "execution_count": 25,
   "metadata": {},
   "outputs": [],
   "source": [
    "import pandas as pd\n",
    "import plotly.express as px\n",
    "import re"
   ]
  },
  {
   "cell_type": "code",
   "execution_count": 26,
   "metadata": {},
   "outputs": [
    {
     "data": {
      "text/html": [
       "<div>\n",
       "<style scoped>\n",
       "    .dataframe tbody tr th:only-of-type {\n",
       "        vertical-align: middle;\n",
       "    }\n",
       "\n",
       "    .dataframe tbody tr th {\n",
       "        vertical-align: top;\n",
       "    }\n",
       "\n",
       "    .dataframe thead th {\n",
       "        text-align: right;\n",
       "    }\n",
       "</style>\n",
       "<table border=\"1\" class=\"dataframe\">\n",
       "  <thead>\n",
       "    <tr style=\"text-align: right;\">\n",
       "      <th></th>\n",
       "      <th>index</th>\n",
       "      <th>filename</th>\n",
       "      <th>avg_dna_damage_foci/glia_+</th>\n",
       "      <th>avg_dna_damage_foci/glia_+_damage_+</th>\n",
       "      <th>avg_dna_damage_foci/all_nuclei</th>\n",
       "      <th>avg_dna_damage_foci/all_nuclei_damage_+</th>\n",
       "      <th>nr_+_dna_damage_glia_nuclei</th>\n",
       "      <th>nr_-_dna_damage_glia_nuclei</th>\n",
       "      <th>nr_glia_+_nuclei</th>\n",
       "      <th>nr_total_nuclei</th>\n",
       "      <th>%_dna_damage_signal</th>\n",
       "      <th>%_glia+_signal</th>\n",
       "      <th>tissue_location</th>\n",
       "      <th>staining_id</th>\n",
       "    </tr>\n",
       "  </thead>\n",
       "  <tbody>\n",
       "    <tr>\n",
       "      <th>0</th>\n",
       "      <td>0</td>\n",
       "      <td>DSB Iba1 16_40X_CA1</td>\n",
       "      <td>0.936508</td>\n",
       "      <td>1.923913</td>\n",
       "      <td>0.836207</td>\n",
       "      <td>1.796296</td>\n",
       "      <td>92</td>\n",
       "      <td>97</td>\n",
       "      <td>189</td>\n",
       "      <td>232</td>\n",
       "      <td>1.096630</td>\n",
       "      <td>88.633728</td>\n",
       "      <td>CA1</td>\n",
       "      <td>16</td>\n",
       "    </tr>\n",
       "    <tr>\n",
       "      <th>1</th>\n",
       "      <td>1</td>\n",
       "      <td>DSB Iba1 16_40X_CA3</td>\n",
       "      <td>4.513514</td>\n",
       "      <td>4.717514</td>\n",
       "      <td>4.406250</td>\n",
       "      <td>4.726257</td>\n",
       "      <td>177</td>\n",
       "      <td>8</td>\n",
       "      <td>185</td>\n",
       "      <td>192</td>\n",
       "      <td>18.227673</td>\n",
       "      <td>96.349525</td>\n",
       "      <td>CA3</td>\n",
       "      <td>16</td>\n",
       "    </tr>\n",
       "    <tr>\n",
       "      <th>2</th>\n",
       "      <td>2</td>\n",
       "      <td>DSB Iba1 16_40X_CTX1</td>\n",
       "      <td>0.642857</td>\n",
       "      <td>1.687500</td>\n",
       "      <td>0.648352</td>\n",
       "      <td>1.882979</td>\n",
       "      <td>16</td>\n",
       "      <td>26</td>\n",
       "      <td>42</td>\n",
       "      <td>272</td>\n",
       "      <td>0.844288</td>\n",
       "      <td>13.598442</td>\n",
       "      <td>CTX1</td>\n",
       "      <td>16</td>\n",
       "    </tr>\n",
       "    <tr>\n",
       "      <th>3</th>\n",
       "      <td>3</td>\n",
       "      <td>DSB Iba1 16_40X_CTX2</td>\n",
       "      <td>2.240664</td>\n",
       "      <td>2.268908</td>\n",
       "      <td>2.327068</td>\n",
       "      <td>2.389961</td>\n",
       "      <td>238</td>\n",
       "      <td>3</td>\n",
       "      <td>241</td>\n",
       "      <td>266</td>\n",
       "      <td>39.405441</td>\n",
       "      <td>94.930744</td>\n",
       "      <td>CTX2</td>\n",
       "      <td>16</td>\n",
       "    </tr>\n",
       "    <tr>\n",
       "      <th>4</th>\n",
       "      <td>4</td>\n",
       "      <td>DSB Iba1 16_40X_CTX3</td>\n",
       "      <td>2.019231</td>\n",
       "      <td>2.100000</td>\n",
       "      <td>1.738589</td>\n",
       "      <td>2.053922</td>\n",
       "      <td>100</td>\n",
       "      <td>4</td>\n",
       "      <td>104</td>\n",
       "      <td>241</td>\n",
       "      <td>9.070396</td>\n",
       "      <td>54.768944</td>\n",
       "      <td>CTX3</td>\n",
       "      <td>16</td>\n",
       "    </tr>\n",
       "  </tbody>\n",
       "</table>\n",
       "</div>"
      ],
      "text/plain": [
       "   index              filename  avg_dna_damage_foci/glia_+  \\\n",
       "0      0   DSB Iba1 16_40X_CA1                    0.936508   \n",
       "1      1   DSB Iba1 16_40X_CA3                    4.513514   \n",
       "2      2  DSB Iba1 16_40X_CTX1                    0.642857   \n",
       "3      3  DSB Iba1 16_40X_CTX2                    2.240664   \n",
       "4      4  DSB Iba1 16_40X_CTX3                    2.019231   \n",
       "\n",
       "   avg_dna_damage_foci/glia_+_damage_+  avg_dna_damage_foci/all_nuclei  \\\n",
       "0                             1.923913                        0.836207   \n",
       "1                             4.717514                        4.406250   \n",
       "2                             1.687500                        0.648352   \n",
       "3                             2.268908                        2.327068   \n",
       "4                             2.100000                        1.738589   \n",
       "\n",
       "   avg_dna_damage_foci/all_nuclei_damage_+  nr_+_dna_damage_glia_nuclei  \\\n",
       "0                                 1.796296                           92   \n",
       "1                                 4.726257                          177   \n",
       "2                                 1.882979                           16   \n",
       "3                                 2.389961                          238   \n",
       "4                                 2.053922                          100   \n",
       "\n",
       "   nr_-_dna_damage_glia_nuclei  nr_glia_+_nuclei  nr_total_nuclei  \\\n",
       "0                           97               189              232   \n",
       "1                            8               185              192   \n",
       "2                           26                42              272   \n",
       "3                            3               241              266   \n",
       "4                            4               104              241   \n",
       "\n",
       "   %_dna_damage_signal  %_glia+_signal tissue_location staining_id  \n",
       "0             1.096630       88.633728             CA1          16  \n",
       "1            18.227673       96.349525             CA3          16  \n",
       "2             0.844288       13.598442            CTX1          16  \n",
       "3            39.405441       94.930744            CTX2          16  \n",
       "4             9.070396       54.768944            CTX3          16  "
      ]
     },
     "execution_count": 26,
     "metadata": {},
     "output_type": "execute_result"
    }
   ],
   "source": [
    "# Define the results you want to explore\n",
    "csv_path = \"./results/results_cellpdia30_sigma1_dilrad4_dnad_obj_seg_v1_gliaero6_gliathr20_dnadero2.csv\"\n",
    "\n",
    "# Define the path containing the corresponding mouse_ids\n",
    "mouse_id_csv_path = \"./mouse_ids_Iba1.csv\"\n",
    "\n",
    "# Read the CSV file\n",
    "df = pd.read_csv(csv_path)\n",
    "df_mouse_id = pd.read_csv(mouse_id_csv_path, delimiter=\";\", encoding=\"UTF-8\")\n",
    "\n",
    "# Convert the index into a column\n",
    "df.reset_index(inplace=True)\n",
    "\n",
    "# Extract 'tissue_location'\n",
    "df['tissue_location'] = df['filename'].str.split('_40X_').str[-1]\n",
    "\n",
    "# Extract 'staining_id'\n",
    "df['staining_id'] = df['filename'].str.extract('(\\d+)_40X')\n",
    "\n",
    "# Display the first few rows of the DataFrame\n",
    "df.head()\n"
   ]
  },
  {
   "cell_type": "code",
   "execution_count": 27,
   "metadata": {},
   "outputs": [
    {
     "name": "stdout",
     "output_type": "stream",
     "text": [
      "Cellpose nuclei diameter: 30\n",
      "Gaussian sigma: 1\n",
      "Dilation radius nuclei: 4\n",
      "Dna damage segmenter version: 1\n",
      "Glia erosion: 6\n",
      "Glia threshold: 20\n",
      "Glia semantic segmentation version: None\n",
      "DNA damage foci erosion: 2\n"
     ]
    }
   ],
   "source": [
    "# Extract analysis parameters from the CSV path\n",
    "extracted_values = re.findall(r'\\d+', csv_path)\n",
    "\n",
    "# Dynamically assign the extracted values to variables\n",
    "if len(extracted_values) >= 7:\n",
    "    cellpose_nuclei_diameter = int(extracted_values[0])\n",
    "    gaussian_sigma = int(extracted_values[1])\n",
    "    dilation_radius_nuclei = int(extracted_values[2])\n",
    "    dna_damage_segmenter_version = int(extracted_values[3])\n",
    "    glia_nuclei_colocalization_erosion = int(extracted_values[4])\n",
    "    dna_damage_erosion = int(extracted_values[6])\n",
    "    if \"_glia_sem_seg_v\" in str(csv_path):\n",
    "        glia_segmenter = True\n",
    "    else:\n",
    "        glia_segmenter = False\n",
    "\n",
    "if glia_segmenter:\n",
    "    glia_segmenter_version = int(extracted_values[5])\n",
    "    glia_channel_threshold = None\n",
    "    # Dinamically adjust plot titles\n",
    "    title = f\"cellpdia{cellpose_nuclei_diameter}_sigma{gaussian_sigma}_dilrad{dilation_radius_nuclei}_dnad_obj_seg_v{dna_damage_segmenter_version}_gliaero{glia_nuclei_colocalization_erosion}_glia_sem_seg_v{glia_segmenter_version}_dnadero{dna_damage_erosion}\"\n",
    "else:\n",
    "    glia_channel_threshold = int(extracted_values[5])\n",
    "    glia_segmenter_version = None\n",
    "    # Dinamically adjust plot titles\n",
    "    title = f\"cellpdia{cellpose_nuclei_diameter}_sigma{gaussian_sigma}_dilrad{dilation_radius_nuclei}_dnad_obj_seg_v{dna_damage_segmenter_version}_gliaero{glia_nuclei_colocalization_erosion}_gliathr{glia_channel_threshold}_dnadero{dna_damage_erosion}\"\n",
    "    \n",
    "\n",
    "# Print the assigned analysis parameters\n",
    "print(f\"Cellpose nuclei diameter: {cellpose_nuclei_diameter}\")\n",
    "print(f\"Gaussian sigma: {gaussian_sigma}\")\n",
    "print(f\"Dilation radius nuclei: {dilation_radius_nuclei}\")\n",
    "print(f\"Dna damage segmenter version: {dna_damage_segmenter_version}\")\n",
    "print(f\"Glia erosion: {glia_nuclei_colocalization_erosion}\")\n",
    "print(f\"Glia threshold: {glia_channel_threshold}\")\n",
    "print(f\"Glia semantic segmentation version: {glia_segmenter_version}\")\n",
    "print(f\"DNA damage foci erosion: {dna_damage_erosion}\")\n",
    "\n"
   ]
  },
  {
   "cell_type": "code",
   "execution_count": 28,
   "metadata": {},
   "outputs": [
    {
     "data": {
      "text/html": [
       "<div>\n",
       "<style scoped>\n",
       "    .dataframe tbody tr th:only-of-type {\n",
       "        vertical-align: middle;\n",
       "    }\n",
       "\n",
       "    .dataframe tbody tr th {\n",
       "        vertical-align: top;\n",
       "    }\n",
       "\n",
       "    .dataframe thead th {\n",
       "        text-align: right;\n",
       "    }\n",
       "</style>\n",
       "<table border=\"1\" class=\"dataframe\">\n",
       "  <thead>\n",
       "    <tr style=\"text-align: right;\">\n",
       "      <th></th>\n",
       "      <th>index</th>\n",
       "      <th>filename</th>\n",
       "      <th>avg_dna_damage_foci/glia_+</th>\n",
       "      <th>avg_dna_damage_foci/glia_+_damage_+</th>\n",
       "      <th>avg_dna_damage_foci/all_nuclei</th>\n",
       "      <th>avg_dna_damage_foci/all_nuclei_damage_+</th>\n",
       "      <th>nr_+_dna_damage_glia_nuclei</th>\n",
       "      <th>nr_-_dna_damage_glia_nuclei</th>\n",
       "      <th>nr_glia_+_nuclei</th>\n",
       "      <th>nr_total_nuclei</th>\n",
       "      <th>%_dna_damage_signal</th>\n",
       "      <th>%_glia+_signal</th>\n",
       "      <th>tissue_location</th>\n",
       "      <th>staining_id</th>\n",
       "      <th>animal_id</th>\n",
       "      <th>sex</th>\n",
       "      <th>genotype</th>\n",
       "      <th>dna_damage_stain_quality_manual</th>\n",
       "      <th>manual_qc</th>\n",
       "    </tr>\n",
       "  </thead>\n",
       "  <tbody>\n",
       "    <tr>\n",
       "      <th>0</th>\n",
       "      <td>0</td>\n",
       "      <td>DSB Iba1 16_40X_CA1</td>\n",
       "      <td>0.936508</td>\n",
       "      <td>1.923913</td>\n",
       "      <td>0.836207</td>\n",
       "      <td>1.796296</td>\n",
       "      <td>92</td>\n",
       "      <td>97</td>\n",
       "      <td>189</td>\n",
       "      <td>232</td>\n",
       "      <td>1.096630</td>\n",
       "      <td>88.633728</td>\n",
       "      <td>CA1</td>\n",
       "      <td>16</td>\n",
       "      <td>887</td>\n",
       "      <td>male</td>\n",
       "      <td>APP/PS1</td>\n",
       "      <td>poor</td>\n",
       "      <td>failed</td>\n",
       "    </tr>\n",
       "    <tr>\n",
       "      <th>1</th>\n",
       "      <td>1</td>\n",
       "      <td>DSB Iba1 16_40X_CA3</td>\n",
       "      <td>4.513514</td>\n",
       "      <td>4.717514</td>\n",
       "      <td>4.406250</td>\n",
       "      <td>4.726257</td>\n",
       "      <td>177</td>\n",
       "      <td>8</td>\n",
       "      <td>185</td>\n",
       "      <td>192</td>\n",
       "      <td>18.227673</td>\n",
       "      <td>96.349525</td>\n",
       "      <td>CA3</td>\n",
       "      <td>16</td>\n",
       "      <td>887</td>\n",
       "      <td>male</td>\n",
       "      <td>APP/PS1</td>\n",
       "      <td>poor</td>\n",
       "      <td>failed</td>\n",
       "    </tr>\n",
       "    <tr>\n",
       "      <th>2</th>\n",
       "      <td>2</td>\n",
       "      <td>DSB Iba1 16_40X_CTX1</td>\n",
       "      <td>0.642857</td>\n",
       "      <td>1.687500</td>\n",
       "      <td>0.648352</td>\n",
       "      <td>1.882979</td>\n",
       "      <td>16</td>\n",
       "      <td>26</td>\n",
       "      <td>42</td>\n",
       "      <td>272</td>\n",
       "      <td>0.844288</td>\n",
       "      <td>13.598442</td>\n",
       "      <td>CTX1</td>\n",
       "      <td>16</td>\n",
       "      <td>887</td>\n",
       "      <td>male</td>\n",
       "      <td>APP/PS1</td>\n",
       "      <td>poor</td>\n",
       "      <td>failed</td>\n",
       "    </tr>\n",
       "    <tr>\n",
       "      <th>3</th>\n",
       "      <td>3</td>\n",
       "      <td>DSB Iba1 16_40X_CTX2</td>\n",
       "      <td>2.240664</td>\n",
       "      <td>2.268908</td>\n",
       "      <td>2.327068</td>\n",
       "      <td>2.389961</td>\n",
       "      <td>238</td>\n",
       "      <td>3</td>\n",
       "      <td>241</td>\n",
       "      <td>266</td>\n",
       "      <td>39.405441</td>\n",
       "      <td>94.930744</td>\n",
       "      <td>CTX2</td>\n",
       "      <td>16</td>\n",
       "      <td>887</td>\n",
       "      <td>male</td>\n",
       "      <td>APP/PS1</td>\n",
       "      <td>poor</td>\n",
       "      <td>failed</td>\n",
       "    </tr>\n",
       "    <tr>\n",
       "      <th>4</th>\n",
       "      <td>4</td>\n",
       "      <td>DSB Iba1 16_40X_CTX3</td>\n",
       "      <td>2.019231</td>\n",
       "      <td>2.100000</td>\n",
       "      <td>1.738589</td>\n",
       "      <td>2.053922</td>\n",
       "      <td>100</td>\n",
       "      <td>4</td>\n",
       "      <td>104</td>\n",
       "      <td>241</td>\n",
       "      <td>9.070396</td>\n",
       "      <td>54.768944</td>\n",
       "      <td>CTX3</td>\n",
       "      <td>16</td>\n",
       "      <td>887</td>\n",
       "      <td>male</td>\n",
       "      <td>APP/PS1</td>\n",
       "      <td>poor</td>\n",
       "      <td>failed</td>\n",
       "    </tr>\n",
       "  </tbody>\n",
       "</table>\n",
       "</div>"
      ],
      "text/plain": [
       "   index              filename  avg_dna_damage_foci/glia_+  \\\n",
       "0      0   DSB Iba1 16_40X_CA1                    0.936508   \n",
       "1      1   DSB Iba1 16_40X_CA3                    4.513514   \n",
       "2      2  DSB Iba1 16_40X_CTX1                    0.642857   \n",
       "3      3  DSB Iba1 16_40X_CTX2                    2.240664   \n",
       "4      4  DSB Iba1 16_40X_CTX3                    2.019231   \n",
       "\n",
       "   avg_dna_damage_foci/glia_+_damage_+  avg_dna_damage_foci/all_nuclei  \\\n",
       "0                             1.923913                        0.836207   \n",
       "1                             4.717514                        4.406250   \n",
       "2                             1.687500                        0.648352   \n",
       "3                             2.268908                        2.327068   \n",
       "4                             2.100000                        1.738589   \n",
       "\n",
       "   avg_dna_damage_foci/all_nuclei_damage_+  nr_+_dna_damage_glia_nuclei  \\\n",
       "0                                 1.796296                           92   \n",
       "1                                 4.726257                          177   \n",
       "2                                 1.882979                           16   \n",
       "3                                 2.389961                          238   \n",
       "4                                 2.053922                          100   \n",
       "\n",
       "   nr_-_dna_damage_glia_nuclei  nr_glia_+_nuclei  nr_total_nuclei  \\\n",
       "0                           97               189              232   \n",
       "1                            8               185              192   \n",
       "2                           26                42              272   \n",
       "3                            3               241              266   \n",
       "4                            4               104              241   \n",
       "\n",
       "   %_dna_damage_signal  %_glia+_signal tissue_location  staining_id  \\\n",
       "0             1.096630       88.633728             CA1           16   \n",
       "1            18.227673       96.349525             CA3           16   \n",
       "2             0.844288       13.598442            CTX1           16   \n",
       "3            39.405441       94.930744            CTX2           16   \n",
       "4             9.070396       54.768944            CTX3           16   \n",
       "\n",
       "   animal_id   sex genotype dna_damage_stain_quality_manual manual_qc  \n",
       "0        887  male  APP/PS1                            poor    failed  \n",
       "1        887  male  APP/PS1                            poor    failed  \n",
       "2        887  male  APP/PS1                            poor    failed  \n",
       "3        887  male  APP/PS1                            poor    failed  \n",
       "4        887  male  APP/PS1                            poor    failed  "
      ]
     },
     "execution_count": 28,
     "metadata": {},
     "output_type": "execute_result"
    }
   ],
   "source": [
    "df['staining_id'] = pd.to_numeric(df['staining_id'], errors='coerce')\n",
    "df_mouse_id['staining_id'] = pd.to_numeric(df_mouse_id['staining_id'], errors='coerce')\n",
    "\n",
    "# Merge both processed_results_df and mouse_id dataframes on staining_id\n",
    "merged_df = pd.merge(df, df_mouse_id, on=\"staining_id\")\n",
    "\n",
    "# Display the first few rows of the DataFrame\n",
    "merged_df.head()"
   ]
  },
  {
   "cell_type": "code",
   "execution_count": 29,
   "metadata": {},
   "outputs": [
    {
     "data": {
      "application/vnd.plotly.v1+json": {
       "config": {
        "plotlyServerURL": "https://plot.ly"
       },
       "data": [
        {
         "customdata": [
          [
           16,
           0,
           "DSB Iba1 16_40X_CA1"
          ],
          [
           16,
           1,
           "DSB Iba1 16_40X_CA3"
          ],
          [
           16,
           2,
           "DSB Iba1 16_40X_CTX1"
          ],
          [
           16,
           3,
           "DSB Iba1 16_40X_CTX2"
          ],
          [
           16,
           4,
           "DSB Iba1 16_40X_CTX3"
          ],
          [
           16,
           5,
           "DSB Iba1 16_40X_DG"
          ],
          [
           17,
           6,
           "DSB Iba1 17_40X_CA1"
          ],
          [
           17,
           7,
           "DSB Iba1 17_40X_CA3"
          ],
          [
           17,
           8,
           "DSB Iba1 17_40X_CTX1"
          ],
          [
           17,
           9,
           "DSB Iba1 17_40X_CTX2"
          ],
          [
           17,
           10,
           "DSB Iba1 17_40X_CTX3"
          ],
          [
           17,
           11,
           "DSB Iba1 17_40X_DG"
          ],
          [
           18,
           12,
           "DSB Iba1 18_40X_CA1"
          ],
          [
           18,
           13,
           "DSB Iba1 18_40X_CA3"
          ],
          [
           18,
           14,
           "DSB Iba1 18_40X_CTX1"
          ],
          [
           18,
           15,
           "DSB Iba1 18_40X_CTX2"
          ],
          [
           18,
           16,
           "DSB Iba1 18_40X_CTX3"
          ],
          [
           18,
           17,
           "DSB Iba1 18_40X_DG"
          ],
          [
           19,
           18,
           "DSB Iba1 19_40X_CA1"
          ],
          [
           19,
           19,
           "DSB Iba1 19_40X_CA3"
          ],
          [
           19,
           20,
           "DSB Iba1 19_40X_CTX1"
          ],
          [
           19,
           21,
           "DSB Iba1 19_40X_CTX2"
          ],
          [
           19,
           22,
           "DSB Iba1 19_40X_CTX3"
          ],
          [
           19,
           23,
           "DSB Iba1 19_40X_DG"
          ],
          [
           20,
           24,
           "DSB Iba1 20_40X_CA1"
          ],
          [
           20,
           25,
           "DSB Iba1 20_40X_CA3"
          ],
          [
           20,
           26,
           "DSB Iba1 20_40X_CTX1"
          ],
          [
           20,
           27,
           "DSB Iba1 20_40X_CTX2"
          ],
          [
           20,
           28,
           "DSB Iba1 20_40X_CTX3"
          ],
          [
           20,
           29,
           "DSB Iba1 20_40X_DG"
          ],
          [
           21,
           30,
           "DSB Iba1 21_40X_CA1"
          ],
          [
           21,
           31,
           "DSB Iba1 21_40X_CA3"
          ],
          [
           21,
           32,
           "DSB Iba1 21_40X_CTX1"
          ],
          [
           21,
           33,
           "DSB Iba1 21_40X_CTX2"
          ],
          [
           21,
           34,
           "DSB Iba1 21_40X_CTX3"
          ],
          [
           21,
           35,
           "DSB Iba1 21_40X_DG"
          ],
          [
           22,
           36,
           "DSB Iba1 22_40X_CA1"
          ],
          [
           22,
           37,
           "DSB Iba1 22_40X_CA3"
          ],
          [
           22,
           38,
           "DSB Iba1 22_40X_CTX1"
          ],
          [
           22,
           39,
           "DSB Iba1 22_40X_CTX2"
          ],
          [
           22,
           40,
           "DSB Iba1 22_40X_CTX3"
          ],
          [
           22,
           41,
           "DSB Iba1 22_40X_DG"
          ],
          [
           23,
           42,
           "DSB Iba1 23_40X_CA1"
          ],
          [
           23,
           43,
           "DSB Iba1 23_40X_CA3"
          ],
          [
           23,
           44,
           "DSB Iba1 23_40X_CTX1"
          ],
          [
           23,
           45,
           "DSB Iba1 23_40X_CTX2"
          ],
          [
           23,
           46,
           "DSB Iba1 23_40X_CTX3"
          ],
          [
           23,
           47,
           "DSB Iba1 23_40X_DG"
          ],
          [
           24,
           48,
           "DSB Iba1 24_40X_CA1"
          ],
          [
           24,
           49,
           "DSB Iba1 24_40X_CA3"
          ],
          [
           24,
           50,
           "DSB Iba1 24_40X_CTX1"
          ],
          [
           24,
           51,
           "DSB Iba1 24_40X_CTX2"
          ],
          [
           24,
           52,
           "DSB Iba1 24_40X_CTX3"
          ],
          [
           24,
           53,
           "DSB Iba1 24_40X_DG"
          ],
          [
           25,
           54,
           "DSB Iba1 25_40X_CA1"
          ],
          [
           25,
           55,
           "DSB Iba1 25_40X_CA3"
          ],
          [
           25,
           56,
           "DSB Iba1 25_40X_CTX1"
          ],
          [
           25,
           57,
           "DSB Iba1 25_40X_CTX2"
          ],
          [
           25,
           58,
           "DSB Iba1 25_40X_CTX3"
          ],
          [
           25,
           59,
           "DSB Iba1 25_40X_DG"
          ],
          [
           26,
           60,
           "DSB Iba1 26_40X_CA1"
          ],
          [
           26,
           61,
           "DSB Iba1 26_40X_CA3"
          ],
          [
           26,
           62,
           "DSB Iba1 26_40X_CTX1"
          ],
          [
           26,
           63,
           "DSB Iba1 26_40X_CTX2"
          ],
          [
           26,
           64,
           "DSB Iba1 26_40X_CTX3"
          ],
          [
           26,
           65,
           "DSB Iba1 26_40X_DG"
          ],
          [
           27,
           66,
           "DSB Iba1 27_40X_DG"
          ],
          [
           28,
           67,
           "DSB Iba1 28_40X_CA1"
          ],
          [
           28,
           68,
           "DSB Iba1 28_40X_CA3"
          ],
          [
           28,
           69,
           "DSB Iba1 28_40X_CTX1"
          ],
          [
           28,
           70,
           "DSB Iba1 28_40X_CTX2"
          ],
          [
           28,
           71,
           "DSB Iba1 28_40X_CTX3"
          ],
          [
           28,
           72,
           "DSB Iba1 28_40X_DG"
          ],
          [
           29,
           73,
           "DSB Iba1 29_40X_CA1"
          ],
          [
           29,
           74,
           "DSB Iba1 29_40X_CA3"
          ],
          [
           29,
           75,
           "DSB Iba1 29_40X_CTX1"
          ],
          [
           29,
           76,
           "DSB Iba1 29_40X_CTX2"
          ],
          [
           29,
           77,
           "DSB Iba1 29_40X_CTX3"
          ],
          [
           29,
           78,
           "DSB Iba1 29_40X_DG"
          ],
          [
           30,
           79,
           "DSB Iba1 30_40X_CA1"
          ],
          [
           30,
           80,
           "DSB Iba1 30_40X_CA3"
          ],
          [
           30,
           81,
           "DSB Iba1 30_40X_CTX1"
          ],
          [
           30,
           82,
           "DSB Iba1 30_40X_CTX2"
          ],
          [
           30,
           83,
           "DSB Iba1 30_40X_CTX3"
          ],
          [
           30,
           84,
           "DSB Iba1 30_40X_DG"
          ],
          [
           31,
           85,
           "DSB Iba1 31_40X_CA1"
          ],
          [
           31,
           86,
           "DSB Iba1 31_40X_CA3"
          ],
          [
           31,
           87,
           "DSB Iba1 31_40X_CTX1"
          ],
          [
           31,
           88,
           "DSB Iba1 31_40X_CTX2"
          ],
          [
           31,
           89,
           "DSB Iba1 31_40X_CTX3"
          ],
          [
           31,
           90,
           "DSB Iba1 31_40X_DG"
          ],
          [
           32,
           91,
           "DSB Iba1 32_40X_CA1"
          ],
          [
           32,
           92,
           "DSB Iba1 32_40X_CA3"
          ],
          [
           32,
           93,
           "DSB Iba1 32_40X_CTX1"
          ],
          [
           32,
           94,
           "DSB Iba1 32_40X_CTX2"
          ],
          [
           32,
           95,
           "DSB Iba1 32_40X_CTX3"
          ],
          [
           32,
           96,
           "DSB Iba1 32_40X_DG"
          ],
          [
           33,
           97,
           "DSB Iba1 33_40X_CA1"
          ],
          [
           33,
           98,
           "DSB Iba1 33_40X_CA3"
          ],
          [
           33,
           99,
           "DSB Iba1 33_40X_CTX1"
          ],
          [
           33,
           100,
           "DSB Iba1 33_40X_CTX2"
          ],
          [
           33,
           101,
           "DSB Iba1 33_40X_CTX3"
          ],
          [
           33,
           102,
           "DSB Iba1 33_40X_DG"
          ],
          [
           34,
           103,
           "DSB Iba1 34_40X_CA1"
          ],
          [
           34,
           104,
           "DSB Iba1 34_40X_CA3"
          ],
          [
           34,
           105,
           "DSB Iba1 34_40X_CTX1"
          ],
          [
           34,
           106,
           "DSB Iba1 34_40X_CTX2"
          ],
          [
           34,
           107,
           "DSB Iba1 34_40X_CTX3"
          ],
          [
           34,
           108,
           "DSB Iba1 34_40X_DG"
          ],
          [
           35,
           109,
           "DSB Iba1 35_40X_CA1"
          ],
          [
           35,
           110,
           "DSB Iba1 35_40X_CA3"
          ],
          [
           35,
           111,
           "DSB Iba1 35_40X_CTX1"
          ],
          [
           35,
           112,
           "DSB Iba1 35_40X_CTX2"
          ],
          [
           35,
           113,
           "DSB Iba1 35_40X_CTX3"
          ],
          [
           35,
           114,
           "DSB Iba1 35_40X_DG"
          ],
          [
           36,
           115,
           "DSB Iba1 36_40X_CA1"
          ],
          [
           36,
           116,
           "DSB Iba1 36_40X_CA3"
          ],
          [
           36,
           117,
           "DSB Iba1 36_40X_CTX1"
          ],
          [
           36,
           118,
           "DSB Iba1 36_40X_CTX2"
          ],
          [
           36,
           119,
           "DSB Iba1 36_40X_CTX3"
          ],
          [
           36,
           120,
           "DSB Iba1 36_40X_DG"
          ],
          [
           37,
           121,
           "DSB Iba1 37_40X_CA1"
          ],
          [
           37,
           122,
           "DSB Iba1 37_40X_CA3"
          ],
          [
           37,
           123,
           "DSB Iba1 37_40X_CTX1"
          ],
          [
           37,
           124,
           "DSB Iba1 37_40X_CTX2"
          ],
          [
           37,
           125,
           "DSB Iba1 37_40X_CTX3"
          ],
          [
           37,
           126,
           "DSB Iba1 37_40X_DG"
          ],
          [
           38,
           127,
           "DSB Iba1 38_40X_DG"
          ],
          [
           39,
           128,
           "DSB Iba1 39_40X_CA1"
          ],
          [
           39,
           129,
           "DSB Iba1 39_40X_CA3"
          ],
          [
           39,
           130,
           "DSB Iba1 39_40X_CTX1"
          ],
          [
           39,
           131,
           "DSB Iba1 39_40X_CTX2"
          ],
          [
           39,
           132,
           "DSB Iba1 39_40X_CTX3"
          ],
          [
           39,
           133,
           "DSB Iba1 39_40X_DG"
          ],
          [
           40,
           134,
           "DSB Iba1 40_40X_CA1"
          ],
          [
           40,
           135,
           "DSB Iba1 40_40X_CA3"
          ],
          [
           40,
           136,
           "DSB Iba1 40_40X_CTX1"
          ],
          [
           40,
           137,
           "DSB Iba1 40_40X_CTX2"
          ],
          [
           40,
           138,
           "DSB Iba1 40_40X_CTX3"
          ],
          [
           40,
           139,
           "DSB Iba1 40_40X_DG"
          ],
          [
           41,
           140,
           "DSB Iba1 41_40X_CA1"
          ],
          [
           41,
           141,
           "DSB Iba1 41_40X_CA3"
          ],
          [
           41,
           142,
           "DSB Iba1 41_40X_CTX1"
          ],
          [
           41,
           143,
           "DSB Iba1 41_40X_CTX2"
          ],
          [
           41,
           144,
           "DSB Iba1 41_40X_CTX3"
          ],
          [
           41,
           145,
           "DSB Iba1 41_40X_DG"
          ],
          [
           42,
           146,
           "DSB Iba1 42_40X_CA1"
          ],
          [
           42,
           147,
           "DSB Iba1 42_40X_CA3"
          ],
          [
           42,
           148,
           "DSB Iba1 42_40X_CTX1"
          ],
          [
           42,
           149,
           "DSB Iba1 42_40X_CTX2"
          ],
          [
           42,
           150,
           "DSB Iba1 42_40X_CTX3"
          ],
          [
           42,
           151,
           "DSB Iba1 42_40X_DG"
          ],
          [
           43,
           152,
           "DSB Iba1 43_40X_CA1"
          ],
          [
           43,
           153,
           "DSB Iba1 43_40X_CA3"
          ],
          [
           43,
           154,
           "DSB Iba1 43_40X_CTX1"
          ],
          [
           43,
           155,
           "DSB Iba1 43_40X_CTX2"
          ],
          [
           43,
           156,
           "DSB Iba1 43_40X_CTX3"
          ],
          [
           43,
           157,
           "DSB Iba1 43_40X_DG"
          ],
          [
           44,
           158,
           "DSB Iba1 44_40X_CA1"
          ],
          [
           44,
           159,
           "DSB Iba1 44_40X_CA3"
          ],
          [
           44,
           160,
           "DSB Iba1 44_40X_CTX1"
          ],
          [
           44,
           161,
           "DSB Iba1 44_40X_DG"
          ],
          [
           45,
           162,
           "DSB Iba1 45_40X_CA1"
          ],
          [
           45,
           163,
           "DSB Iba1 45_40X_CA3"
          ],
          [
           45,
           164,
           "DSB Iba1 45_40X_CTX1"
          ],
          [
           45,
           165,
           "DSB Iba1 45_40X_CTX2"
          ],
          [
           45,
           166,
           "DSB Iba1 45_40X_CTX3"
          ],
          [
           45,
           167,
           "DSB Iba1 45_40X_DG"
          ],
          [
           46,
           168,
           "DSB Iba1 46_40X_CA1"
          ],
          [
           46,
           169,
           "DSB Iba1 46_40X_CA3"
          ],
          [
           46,
           170,
           "DSB Iba1 46_40X_CTX1"
          ],
          [
           46,
           171,
           "DSB Iba1 46_40X_CTX2"
          ],
          [
           46,
           172,
           "DSB Iba1 46_40X_CTX3"
          ],
          [
           46,
           173,
           "DSB Iba1 46_40X_DG"
          ],
          [
           47,
           174,
           "DSB Iba1 47_40X_CA1"
          ],
          [
           47,
           175,
           "DSB Iba1 47_40X_CA3"
          ],
          [
           47,
           176,
           "DSB Iba1 47_40X_CTX1"
          ],
          [
           47,
           177,
           "DSB Iba1 47_40X_CTX2"
          ],
          [
           47,
           178,
           "DSB Iba1 47_40X_CTX3"
          ],
          [
           47,
           179,
           "DSB Iba1 47_40X_DG"
          ],
          [
           48,
           180,
           "DSB Iba1 48_40X_CA1"
          ],
          [
           48,
           181,
           "DSB Iba1 48_40X_CA3"
          ],
          [
           48,
           182,
           "DSB Iba1 48_40X_CTX1"
          ],
          [
           48,
           183,
           "DSB Iba1 48_40X_CTX2"
          ],
          [
           48,
           184,
           "DSB Iba1 48_40X_CTX3"
          ],
          [
           48,
           185,
           "DSB Iba1 48_40X_DG"
          ],
          [
           49,
           186,
           "DSB Iba1 49_40X_CA1"
          ],
          [
           49,
           187,
           "DSB Iba1 49_40X_CA3"
          ],
          [
           49,
           188,
           "DSB Iba1 49_40X_CTX1"
          ],
          [
           49,
           189,
           "DSB Iba1 49_40X_CTX2"
          ],
          [
           49,
           190,
           "DSB Iba1 49_40X_CTX3"
          ],
          [
           49,
           191,
           "DSB Iba1 49_40X_DG"
          ],
          [
           50,
           192,
           "DSB Iba1 50_40X_CA1"
          ],
          [
           50,
           193,
           "DSB Iba1 50_40X_CA3"
          ],
          [
           50,
           194,
           "DSB Iba1 50_40X_CTX1"
          ],
          [
           50,
           195,
           "DSB Iba1 50_40X_CTX2"
          ],
          [
           50,
           196,
           "DSB Iba1 50_40X_CTX3"
          ],
          [
           50,
           197,
           "DSB Iba1 50_40X_DG"
          ],
          [
           51,
           198,
           "DSB Iba1 51_40X_CA1"
          ],
          [
           51,
           199,
           "DSB Iba1 51_40X_CA3"
          ],
          [
           51,
           200,
           "DSB Iba1 51_40X_CTX1"
          ],
          [
           51,
           201,
           "DSB Iba1 51_40X_CTX2"
          ],
          [
           51,
           202,
           "DSB Iba1 51_40X_CTX3"
          ],
          [
           51,
           203,
           "DSB Iba1 51_40X_DG"
          ],
          [
           52,
           204,
           "DSB Iba1 52_40X_CA1"
          ],
          [
           52,
           205,
           "DSB Iba1 52_40X_CA3"
          ],
          [
           52,
           206,
           "DSB Iba1 52_40X_CTX1"
          ],
          [
           52,
           207,
           "DSB Iba1 52_40X_CTX2"
          ],
          [
           52,
           208,
           "DSB Iba1 52_40X_CTX3"
          ],
          [
           52,
           209,
           "DSB Iba1 52_40X_DG"
          ],
          [
           53,
           210,
           "DSB Iba1 53_40X_CA1"
          ],
          [
           53,
           211,
           "DSB Iba1 53_40X_CA3"
          ],
          [
           53,
           212,
           "DSB Iba1 53_40X_CTX1"
          ],
          [
           53,
           213,
           "DSB Iba1 53_40X_CTX2"
          ],
          [
           53,
           214,
           "DSB Iba1 53_40X_CTX3"
          ],
          [
           53,
           215,
           "DSB Iba1 53_40X_DG"
          ],
          [
           54,
           216,
           "DSB Iba1 54_40X_CA1"
          ],
          [
           54,
           217,
           "DSB Iba1 54_40X_CA3"
          ],
          [
           54,
           218,
           "DSB Iba1 54_40X_CTX1"
          ],
          [
           54,
           219,
           "DSB Iba1 54_40X_CTX2"
          ],
          [
           54,
           220,
           "DSB Iba1 54_40X_CTX3"
          ],
          [
           54,
           221,
           "DSB Iba1 54_40X_DG"
          ],
          [
           55,
           222,
           "DSB Iba1 55_40X_CA1"
          ],
          [
           55,
           223,
           "DSB Iba1 55_40X_CA3"
          ],
          [
           55,
           224,
           "DSB Iba1 55_40X_CTX1"
          ],
          [
           55,
           225,
           "DSB Iba1 55_40X_CTX2"
          ],
          [
           55,
           226,
           "DSB Iba1 55_40X_CTX3"
          ],
          [
           55,
           227,
           "DSB Iba1 55_40X_DG"
          ],
          [
           56,
           228,
           "DSB Iba1 56_40X_CA1"
          ],
          [
           56,
           229,
           "DSB Iba1 56_40X_CA3"
          ],
          [
           56,
           230,
           "DSB Iba1 56_40X_CTX1"
          ],
          [
           56,
           231,
           "DSB Iba1 56_40X_CTX2"
          ],
          [
           56,
           232,
           "DSB Iba1 56_40X_CTX3"
          ],
          [
           56,
           233,
           "DSB Iba1 56_40X_DG"
          ],
          [
           57,
           234,
           "DSB Iba1 57_40X_CA1"
          ],
          [
           57,
           235,
           "DSB Iba1 57_40X_CA3"
          ],
          [
           57,
           236,
           "DSB Iba1 57_40X_CTX1"
          ],
          [
           57,
           237,
           "DSB Iba1 57_40X_CTX2"
          ],
          [
           57,
           238,
           "DSB Iba1 57_40X_CTX3"
          ],
          [
           57,
           239,
           "DSB Iba1 57_40X_DG"
          ],
          [
           58,
           240,
           "DSB Iba1 58_40X_CA1"
          ],
          [
           58,
           241,
           "DSB Iba1 58_40X_CA3"
          ],
          [
           58,
           242,
           "DSB Iba1 58_40X_CTX1"
          ],
          [
           58,
           243,
           "DSB Iba1 58_40X_CTX2"
          ],
          [
           58,
           244,
           "DSB Iba1 58_40X_CTX3"
          ],
          [
           58,
           245,
           "DSB Iba1 58_40X_DG"
          ],
          [
           59,
           246,
           "DSB Iba1 59_40X_CA1"
          ],
          [
           59,
           247,
           "DSB Iba1 59_40X_CA3"
          ],
          [
           59,
           248,
           "DSB Iba1 59_40X_CTX1"
          ],
          [
           59,
           249,
           "DSB Iba1 59_40X_CTX2"
          ],
          [
           59,
           250,
           "DSB Iba1 59_40X_CTX3"
          ],
          [
           59,
           251,
           "DSB Iba1 59_40X_DG"
          ]
         ],
         "hovertemplate": "tissue_location=%{x}<br>nr_+_dna_damage_glia_nuclei=%{y}<br>staining_id=%{customdata[0]}<br>index=%{customdata[1]}<br>filename=%{customdata[2]}<extra></extra>",
         "legendgroup": "",
         "marker": {
          "color": "#636efa",
          "symbol": "circle"
         },
         "mode": "markers",
         "name": "",
         "orientation": "v",
         "showlegend": false,
         "type": "scatter",
         "x": [
          "CA1",
          "CA3",
          "CTX1",
          "CTX2",
          "CTX3",
          "DG",
          "CA1",
          "CA3",
          "CTX1",
          "CTX2",
          "CTX3",
          "DG",
          "CA1",
          "CA3",
          "CTX1",
          "CTX2",
          "CTX3",
          "DG",
          "CA1",
          "CA3",
          "CTX1",
          "CTX2",
          "CTX3",
          "DG",
          "CA1",
          "CA3",
          "CTX1",
          "CTX2",
          "CTX3",
          "DG",
          "CA1",
          "CA3",
          "CTX1",
          "CTX2",
          "CTX3",
          "DG",
          "CA1",
          "CA3",
          "CTX1",
          "CTX2",
          "CTX3",
          "DG",
          "CA1",
          "CA3",
          "CTX1",
          "CTX2",
          "CTX3",
          "DG",
          "CA1",
          "CA3",
          "CTX1",
          "CTX2",
          "CTX3",
          "DG",
          "CA1",
          "CA3",
          "CTX1",
          "CTX2",
          "CTX3",
          "DG",
          "CA1",
          "CA3",
          "CTX1",
          "CTX2",
          "CTX3",
          "DG",
          "DG",
          "CA1",
          "CA3",
          "CTX1",
          "CTX2",
          "CTX3",
          "DG",
          "CA1",
          "CA3",
          "CTX1",
          "CTX2",
          "CTX3",
          "DG",
          "CA1",
          "CA3",
          "CTX1",
          "CTX2",
          "CTX3",
          "DG",
          "CA1",
          "CA3",
          "CTX1",
          "CTX2",
          "CTX3",
          "DG",
          "CA1",
          "CA3",
          "CTX1",
          "CTX2",
          "CTX3",
          "DG",
          "CA1",
          "CA3",
          "CTX1",
          "CTX2",
          "CTX3",
          "DG",
          "CA1",
          "CA3",
          "CTX1",
          "CTX2",
          "CTX3",
          "DG",
          "CA1",
          "CA3",
          "CTX1",
          "CTX2",
          "CTX3",
          "DG",
          "CA1",
          "CA3",
          "CTX1",
          "CTX2",
          "CTX3",
          "DG",
          "CA1",
          "CA3",
          "CTX1",
          "CTX2",
          "CTX3",
          "DG",
          "DG",
          "CA1",
          "CA3",
          "CTX1",
          "CTX2",
          "CTX3",
          "DG",
          "CA1",
          "CA3",
          "CTX1",
          "CTX2",
          "CTX3",
          "DG",
          "CA1",
          "CA3",
          "CTX1",
          "CTX2",
          "CTX3",
          "DG",
          "CA1",
          "CA3",
          "CTX1",
          "CTX2",
          "CTX3",
          "DG",
          "CA1",
          "CA3",
          "CTX1",
          "CTX2",
          "CTX3",
          "DG",
          "CA1",
          "CA3",
          "CTX1",
          "DG",
          "CA1",
          "CA3",
          "CTX1",
          "CTX2",
          "CTX3",
          "DG",
          "CA1",
          "CA3",
          "CTX1",
          "CTX2",
          "CTX3",
          "DG",
          "CA1",
          "CA3",
          "CTX1",
          "CTX2",
          "CTX3",
          "DG",
          "CA1",
          "CA3",
          "CTX1",
          "CTX2",
          "CTX3",
          "DG",
          "CA1",
          "CA3",
          "CTX1",
          "CTX2",
          "CTX3",
          "DG",
          "CA1",
          "CA3",
          "CTX1",
          "CTX2",
          "CTX3",
          "DG",
          "CA1",
          "CA3",
          "CTX1",
          "CTX2",
          "CTX3",
          "DG",
          "CA1",
          "CA3",
          "CTX1",
          "CTX2",
          "CTX3",
          "DG",
          "CA1",
          "CA3",
          "CTX1",
          "CTX2",
          "CTX3",
          "DG",
          "CA1",
          "CA3",
          "CTX1",
          "CTX2",
          "CTX3",
          "DG",
          "CA1",
          "CA3",
          "CTX1",
          "CTX2",
          "CTX3",
          "DG",
          "CA1",
          "CA3",
          "CTX1",
          "CTX2",
          "CTX3",
          "DG",
          "CA1",
          "CA3",
          "CTX1",
          "CTX2",
          "CTX3",
          "DG",
          "CA1",
          "CA3",
          "CTX1",
          "CTX2",
          "CTX3",
          "DG",
          "CA1",
          "CA3",
          "CTX1",
          "CTX2",
          "CTX3",
          "DG"
         ],
         "xaxis": "x",
         "y": [
          92,
          177,
          16,
          238,
          100,
          212,
          8,
          13,
          14,
          51,
          27,
          139,
          14,
          12,
          13,
          20,
          15,
          104,
          66,
          71,
          211,
          72,
          103,
          127,
          4,
          4,
          3,
          18,
          1,
          5,
          7,
          2,
          13,
          13,
          17,
          10,
          10,
          6,
          6,
          9,
          5,
          15,
          3,
          4,
          11,
          0,
          8,
          11,
          0,
          1,
          0,
          10,
          1,
          0,
          6,
          8,
          11,
          15,
          7,
          13,
          6,
          5,
          8,
          15,
          11,
          12,
          4,
          0,
          1,
          2,
          7,
          9,
          17,
          9,
          4,
          11,
          19,
          13,
          4,
          0,
          3,
          13,
          7,
          6,
          2,
          8,
          1,
          6,
          7,
          10,
          11,
          18,
          16,
          30,
          37,
          25,
          59,
          3,
          4,
          5,
          11,
          5,
          4,
          11,
          5,
          20,
          26,
          26,
          19,
          5,
          25,
          10,
          109,
          78,
          125,
          7,
          3,
          14,
          23,
          8,
          5,
          4,
          6,
          11,
          17,
          22,
          4,
          4,
          3,
          3,
          0,
          1,
          1,
          7,
          2,
          5,
          13,
          5,
          21,
          4,
          2,
          2,
          0,
          0,
          2,
          6,
          3,
          4,
          4,
          10,
          8,
          2,
          4,
          4,
          21,
          6,
          9,
          38,
          30,
          18,
          54,
          79,
          13,
          2,
          7,
          14,
          8,
          19,
          64,
          31,
          77,
          103,
          67,
          124,
          10,
          13,
          13,
          72,
          31,
          16,
          6,
          4,
          21,
          15,
          13,
          8,
          17,
          6,
          14,
          15,
          9,
          28,
          2,
          1,
          0,
          2,
          14,
          6,
          5,
          5,
          4,
          7,
          12,
          13,
          5,
          5,
          4,
          16,
          10,
          9,
          6,
          5,
          22,
          23,
          9,
          17,
          4,
          3,
          5,
          6,
          13,
          7,
          3,
          2,
          1,
          4,
          0,
          6,
          7,
          3,
          12,
          14,
          9,
          10,
          7,
          6,
          12,
          8,
          5,
          18,
          3,
          4,
          11,
          12,
          4,
          2,
          4,
          3,
          4,
          11,
          11,
          5
         ],
         "yaxis": "y"
        }
       ],
       "layout": {
        "legend": {
         "tracegroupgap": 0
        },
        "template": {
         "data": {
          "bar": [
           {
            "error_x": {
             "color": "#2a3f5f"
            },
            "error_y": {
             "color": "#2a3f5f"
            },
            "marker": {
             "line": {
              "color": "#E5ECF6",
              "width": 0.5
             },
             "pattern": {
              "fillmode": "overlay",
              "size": 10,
              "solidity": 0.2
             }
            },
            "type": "bar"
           }
          ],
          "barpolar": [
           {
            "marker": {
             "line": {
              "color": "#E5ECF6",
              "width": 0.5
             },
             "pattern": {
              "fillmode": "overlay",
              "size": 10,
              "solidity": 0.2
             }
            },
            "type": "barpolar"
           }
          ],
          "carpet": [
           {
            "aaxis": {
             "endlinecolor": "#2a3f5f",
             "gridcolor": "white",
             "linecolor": "white",
             "minorgridcolor": "white",
             "startlinecolor": "#2a3f5f"
            },
            "baxis": {
             "endlinecolor": "#2a3f5f",
             "gridcolor": "white",
             "linecolor": "white",
             "minorgridcolor": "white",
             "startlinecolor": "#2a3f5f"
            },
            "type": "carpet"
           }
          ],
          "choropleth": [
           {
            "colorbar": {
             "outlinewidth": 0,
             "ticks": ""
            },
            "type": "choropleth"
           }
          ],
          "contour": [
           {
            "colorbar": {
             "outlinewidth": 0,
             "ticks": ""
            },
            "colorscale": [
             [
              0,
              "#0d0887"
             ],
             [
              0.1111111111111111,
              "#46039f"
             ],
             [
              0.2222222222222222,
              "#7201a8"
             ],
             [
              0.3333333333333333,
              "#9c179e"
             ],
             [
              0.4444444444444444,
              "#bd3786"
             ],
             [
              0.5555555555555556,
              "#d8576b"
             ],
             [
              0.6666666666666666,
              "#ed7953"
             ],
             [
              0.7777777777777778,
              "#fb9f3a"
             ],
             [
              0.8888888888888888,
              "#fdca26"
             ],
             [
              1,
              "#f0f921"
             ]
            ],
            "type": "contour"
           }
          ],
          "contourcarpet": [
           {
            "colorbar": {
             "outlinewidth": 0,
             "ticks": ""
            },
            "type": "contourcarpet"
           }
          ],
          "heatmap": [
           {
            "colorbar": {
             "outlinewidth": 0,
             "ticks": ""
            },
            "colorscale": [
             [
              0,
              "#0d0887"
             ],
             [
              0.1111111111111111,
              "#46039f"
             ],
             [
              0.2222222222222222,
              "#7201a8"
             ],
             [
              0.3333333333333333,
              "#9c179e"
             ],
             [
              0.4444444444444444,
              "#bd3786"
             ],
             [
              0.5555555555555556,
              "#d8576b"
             ],
             [
              0.6666666666666666,
              "#ed7953"
             ],
             [
              0.7777777777777778,
              "#fb9f3a"
             ],
             [
              0.8888888888888888,
              "#fdca26"
             ],
             [
              1,
              "#f0f921"
             ]
            ],
            "type": "heatmap"
           }
          ],
          "heatmapgl": [
           {
            "colorbar": {
             "outlinewidth": 0,
             "ticks": ""
            },
            "colorscale": [
             [
              0,
              "#0d0887"
             ],
             [
              0.1111111111111111,
              "#46039f"
             ],
             [
              0.2222222222222222,
              "#7201a8"
             ],
             [
              0.3333333333333333,
              "#9c179e"
             ],
             [
              0.4444444444444444,
              "#bd3786"
             ],
             [
              0.5555555555555556,
              "#d8576b"
             ],
             [
              0.6666666666666666,
              "#ed7953"
             ],
             [
              0.7777777777777778,
              "#fb9f3a"
             ],
             [
              0.8888888888888888,
              "#fdca26"
             ],
             [
              1,
              "#f0f921"
             ]
            ],
            "type": "heatmapgl"
           }
          ],
          "histogram": [
           {
            "marker": {
             "pattern": {
              "fillmode": "overlay",
              "size": 10,
              "solidity": 0.2
             }
            },
            "type": "histogram"
           }
          ],
          "histogram2d": [
           {
            "colorbar": {
             "outlinewidth": 0,
             "ticks": ""
            },
            "colorscale": [
             [
              0,
              "#0d0887"
             ],
             [
              0.1111111111111111,
              "#46039f"
             ],
             [
              0.2222222222222222,
              "#7201a8"
             ],
             [
              0.3333333333333333,
              "#9c179e"
             ],
             [
              0.4444444444444444,
              "#bd3786"
             ],
             [
              0.5555555555555556,
              "#d8576b"
             ],
             [
              0.6666666666666666,
              "#ed7953"
             ],
             [
              0.7777777777777778,
              "#fb9f3a"
             ],
             [
              0.8888888888888888,
              "#fdca26"
             ],
             [
              1,
              "#f0f921"
             ]
            ],
            "type": "histogram2d"
           }
          ],
          "histogram2dcontour": [
           {
            "colorbar": {
             "outlinewidth": 0,
             "ticks": ""
            },
            "colorscale": [
             [
              0,
              "#0d0887"
             ],
             [
              0.1111111111111111,
              "#46039f"
             ],
             [
              0.2222222222222222,
              "#7201a8"
             ],
             [
              0.3333333333333333,
              "#9c179e"
             ],
             [
              0.4444444444444444,
              "#bd3786"
             ],
             [
              0.5555555555555556,
              "#d8576b"
             ],
             [
              0.6666666666666666,
              "#ed7953"
             ],
             [
              0.7777777777777778,
              "#fb9f3a"
             ],
             [
              0.8888888888888888,
              "#fdca26"
             ],
             [
              1,
              "#f0f921"
             ]
            ],
            "type": "histogram2dcontour"
           }
          ],
          "mesh3d": [
           {
            "colorbar": {
             "outlinewidth": 0,
             "ticks": ""
            },
            "type": "mesh3d"
           }
          ],
          "parcoords": [
           {
            "line": {
             "colorbar": {
              "outlinewidth": 0,
              "ticks": ""
             }
            },
            "type": "parcoords"
           }
          ],
          "pie": [
           {
            "automargin": true,
            "type": "pie"
           }
          ],
          "scatter": [
           {
            "fillpattern": {
             "fillmode": "overlay",
             "size": 10,
             "solidity": 0.2
            },
            "type": "scatter"
           }
          ],
          "scatter3d": [
           {
            "line": {
             "colorbar": {
              "outlinewidth": 0,
              "ticks": ""
             }
            },
            "marker": {
             "colorbar": {
              "outlinewidth": 0,
              "ticks": ""
             }
            },
            "type": "scatter3d"
           }
          ],
          "scattercarpet": [
           {
            "marker": {
             "colorbar": {
              "outlinewidth": 0,
              "ticks": ""
             }
            },
            "type": "scattercarpet"
           }
          ],
          "scattergeo": [
           {
            "marker": {
             "colorbar": {
              "outlinewidth": 0,
              "ticks": ""
             }
            },
            "type": "scattergeo"
           }
          ],
          "scattergl": [
           {
            "marker": {
             "colorbar": {
              "outlinewidth": 0,
              "ticks": ""
             }
            },
            "type": "scattergl"
           }
          ],
          "scattermapbox": [
           {
            "marker": {
             "colorbar": {
              "outlinewidth": 0,
              "ticks": ""
             }
            },
            "type": "scattermapbox"
           }
          ],
          "scatterpolar": [
           {
            "marker": {
             "colorbar": {
              "outlinewidth": 0,
              "ticks": ""
             }
            },
            "type": "scatterpolar"
           }
          ],
          "scatterpolargl": [
           {
            "marker": {
             "colorbar": {
              "outlinewidth": 0,
              "ticks": ""
             }
            },
            "type": "scatterpolargl"
           }
          ],
          "scatterternary": [
           {
            "marker": {
             "colorbar": {
              "outlinewidth": 0,
              "ticks": ""
             }
            },
            "type": "scatterternary"
           }
          ],
          "surface": [
           {
            "colorbar": {
             "outlinewidth": 0,
             "ticks": ""
            },
            "colorscale": [
             [
              0,
              "#0d0887"
             ],
             [
              0.1111111111111111,
              "#46039f"
             ],
             [
              0.2222222222222222,
              "#7201a8"
             ],
             [
              0.3333333333333333,
              "#9c179e"
             ],
             [
              0.4444444444444444,
              "#bd3786"
             ],
             [
              0.5555555555555556,
              "#d8576b"
             ],
             [
              0.6666666666666666,
              "#ed7953"
             ],
             [
              0.7777777777777778,
              "#fb9f3a"
             ],
             [
              0.8888888888888888,
              "#fdca26"
             ],
             [
              1,
              "#f0f921"
             ]
            ],
            "type": "surface"
           }
          ],
          "table": [
           {
            "cells": {
             "fill": {
              "color": "#EBF0F8"
             },
             "line": {
              "color": "white"
             }
            },
            "header": {
             "fill": {
              "color": "#C8D4E3"
             },
             "line": {
              "color": "white"
             }
            },
            "type": "table"
           }
          ]
         },
         "layout": {
          "annotationdefaults": {
           "arrowcolor": "#2a3f5f",
           "arrowhead": 0,
           "arrowwidth": 1
          },
          "autotypenumbers": "strict",
          "coloraxis": {
           "colorbar": {
            "outlinewidth": 0,
            "ticks": ""
           }
          },
          "colorscale": {
           "diverging": [
            [
             0,
             "#8e0152"
            ],
            [
             0.1,
             "#c51b7d"
            ],
            [
             0.2,
             "#de77ae"
            ],
            [
             0.3,
             "#f1b6da"
            ],
            [
             0.4,
             "#fde0ef"
            ],
            [
             0.5,
             "#f7f7f7"
            ],
            [
             0.6,
             "#e6f5d0"
            ],
            [
             0.7,
             "#b8e186"
            ],
            [
             0.8,
             "#7fbc41"
            ],
            [
             0.9,
             "#4d9221"
            ],
            [
             1,
             "#276419"
            ]
           ],
           "sequential": [
            [
             0,
             "#0d0887"
            ],
            [
             0.1111111111111111,
             "#46039f"
            ],
            [
             0.2222222222222222,
             "#7201a8"
            ],
            [
             0.3333333333333333,
             "#9c179e"
            ],
            [
             0.4444444444444444,
             "#bd3786"
            ],
            [
             0.5555555555555556,
             "#d8576b"
            ],
            [
             0.6666666666666666,
             "#ed7953"
            ],
            [
             0.7777777777777778,
             "#fb9f3a"
            ],
            [
             0.8888888888888888,
             "#fdca26"
            ],
            [
             1,
             "#f0f921"
            ]
           ],
           "sequentialminus": [
            [
             0,
             "#0d0887"
            ],
            [
             0.1111111111111111,
             "#46039f"
            ],
            [
             0.2222222222222222,
             "#7201a8"
            ],
            [
             0.3333333333333333,
             "#9c179e"
            ],
            [
             0.4444444444444444,
             "#bd3786"
            ],
            [
             0.5555555555555556,
             "#d8576b"
            ],
            [
             0.6666666666666666,
             "#ed7953"
            ],
            [
             0.7777777777777778,
             "#fb9f3a"
            ],
            [
             0.8888888888888888,
             "#fdca26"
            ],
            [
             1,
             "#f0f921"
            ]
           ]
          },
          "colorway": [
           "#636efa",
           "#EF553B",
           "#00cc96",
           "#ab63fa",
           "#FFA15A",
           "#19d3f3",
           "#FF6692",
           "#B6E880",
           "#FF97FF",
           "#FECB52"
          ],
          "font": {
           "color": "#2a3f5f"
          },
          "geo": {
           "bgcolor": "white",
           "lakecolor": "white",
           "landcolor": "#E5ECF6",
           "showlakes": true,
           "showland": true,
           "subunitcolor": "white"
          },
          "hoverlabel": {
           "align": "left"
          },
          "hovermode": "closest",
          "mapbox": {
           "style": "light"
          },
          "paper_bgcolor": "white",
          "plot_bgcolor": "#E5ECF6",
          "polar": {
           "angularaxis": {
            "gridcolor": "white",
            "linecolor": "white",
            "ticks": ""
           },
           "bgcolor": "#E5ECF6",
           "radialaxis": {
            "gridcolor": "white",
            "linecolor": "white",
            "ticks": ""
           }
          },
          "scene": {
           "xaxis": {
            "backgroundcolor": "#E5ECF6",
            "gridcolor": "white",
            "gridwidth": 2,
            "linecolor": "white",
            "showbackground": true,
            "ticks": "",
            "zerolinecolor": "white"
           },
           "yaxis": {
            "backgroundcolor": "#E5ECF6",
            "gridcolor": "white",
            "gridwidth": 2,
            "linecolor": "white",
            "showbackground": true,
            "ticks": "",
            "zerolinecolor": "white"
           },
           "zaxis": {
            "backgroundcolor": "#E5ECF6",
            "gridcolor": "white",
            "gridwidth": 2,
            "linecolor": "white",
            "showbackground": true,
            "ticks": "",
            "zerolinecolor": "white"
           }
          },
          "shapedefaults": {
           "line": {
            "color": "#2a3f5f"
           }
          },
          "ternary": {
           "aaxis": {
            "gridcolor": "white",
            "linecolor": "white",
            "ticks": ""
           },
           "baxis": {
            "gridcolor": "white",
            "linecolor": "white",
            "ticks": ""
           },
           "bgcolor": "#E5ECF6",
           "caxis": {
            "gridcolor": "white",
            "linecolor": "white",
            "ticks": ""
           }
          },
          "title": {
           "x": 0.05
          },
          "xaxis": {
           "automargin": true,
           "gridcolor": "white",
           "linecolor": "white",
           "ticks": "",
           "title": {
            "standoff": 15
           },
           "zerolinecolor": "white",
           "zerolinewidth": 2
          },
          "yaxis": {
           "automargin": true,
           "gridcolor": "white",
           "linecolor": "white",
           "ticks": "",
           "title": {
            "standoff": 15
           },
           "zerolinecolor": "white",
           "zerolinewidth": 2
          }
         }
        },
        "title": {
         "text": "Number of DNA damage+ Glia+ Nuclei by Tissue Location - cellpdia30_sigma1_dilrad4_dnad_obj_seg_v1_gliaero6_gliathr20_dnadero2"
        },
        "xaxis": {
         "anchor": "y",
         "domain": [
          0,
          1
         ],
         "title": {
          "text": "tissue_location"
         }
        },
        "yaxis": {
         "anchor": "x",
         "domain": [
          0,
          1
         ],
         "title": {
          "text": "nr_+_dna_damage_glia_nuclei"
         }
        }
       }
      }
     },
     "metadata": {},
     "output_type": "display_data"
    }
   ],
   "source": [
    "# Create the plot\n",
    "fig = px.scatter(df, x='tissue_location', y='nr_+_dna_damage_glia_nuclei',\n",
    "                 hover_data=['staining_id','index','filename'], title=f\"Number of DNA damage+ Glia+ Nuclei by Tissue Location - {title}\")\n",
    "\n",
    "# Show the plot\n",
    "fig.show()"
   ]
  },
  {
   "cell_type": "code",
   "execution_count": 30,
   "metadata": {},
   "outputs": [
    {
     "data": {
      "application/vnd.plotly.v1+json": {
       "config": {
        "plotlyServerURL": "https://plot.ly"
       },
       "data": [
        {
         "customdata": [
          [
           16,
           0,
           "DSB Iba1 16_40X_CA1"
          ],
          [
           16,
           1,
           "DSB Iba1 16_40X_CA3"
          ],
          [
           16,
           2,
           "DSB Iba1 16_40X_CTX1"
          ],
          [
           16,
           3,
           "DSB Iba1 16_40X_CTX2"
          ],
          [
           16,
           4,
           "DSB Iba1 16_40X_CTX3"
          ],
          [
           16,
           5,
           "DSB Iba1 16_40X_DG"
          ],
          [
           17,
           6,
           "DSB Iba1 17_40X_CA1"
          ],
          [
           17,
           7,
           "DSB Iba1 17_40X_CA3"
          ],
          [
           17,
           8,
           "DSB Iba1 17_40X_CTX1"
          ],
          [
           17,
           9,
           "DSB Iba1 17_40X_CTX2"
          ],
          [
           17,
           10,
           "DSB Iba1 17_40X_CTX3"
          ],
          [
           17,
           11,
           "DSB Iba1 17_40X_DG"
          ],
          [
           18,
           12,
           "DSB Iba1 18_40X_CA1"
          ],
          [
           18,
           13,
           "DSB Iba1 18_40X_CA3"
          ],
          [
           18,
           14,
           "DSB Iba1 18_40X_CTX1"
          ],
          [
           18,
           15,
           "DSB Iba1 18_40X_CTX2"
          ],
          [
           18,
           16,
           "DSB Iba1 18_40X_CTX3"
          ],
          [
           18,
           17,
           "DSB Iba1 18_40X_DG"
          ],
          [
           19,
           18,
           "DSB Iba1 19_40X_CA1"
          ],
          [
           19,
           19,
           "DSB Iba1 19_40X_CA3"
          ],
          [
           19,
           20,
           "DSB Iba1 19_40X_CTX1"
          ],
          [
           19,
           21,
           "DSB Iba1 19_40X_CTX2"
          ],
          [
           19,
           22,
           "DSB Iba1 19_40X_CTX3"
          ],
          [
           19,
           23,
           "DSB Iba1 19_40X_DG"
          ],
          [
           20,
           24,
           "DSB Iba1 20_40X_CA1"
          ],
          [
           20,
           25,
           "DSB Iba1 20_40X_CA3"
          ],
          [
           20,
           26,
           "DSB Iba1 20_40X_CTX1"
          ],
          [
           20,
           27,
           "DSB Iba1 20_40X_CTX2"
          ],
          [
           20,
           28,
           "DSB Iba1 20_40X_CTX3"
          ],
          [
           20,
           29,
           "DSB Iba1 20_40X_DG"
          ],
          [
           21,
           30,
           "DSB Iba1 21_40X_CA1"
          ],
          [
           21,
           31,
           "DSB Iba1 21_40X_CA3"
          ],
          [
           21,
           32,
           "DSB Iba1 21_40X_CTX1"
          ],
          [
           21,
           33,
           "DSB Iba1 21_40X_CTX2"
          ],
          [
           21,
           34,
           "DSB Iba1 21_40X_CTX3"
          ],
          [
           21,
           35,
           "DSB Iba1 21_40X_DG"
          ],
          [
           22,
           36,
           "DSB Iba1 22_40X_CA1"
          ],
          [
           22,
           37,
           "DSB Iba1 22_40X_CA3"
          ],
          [
           22,
           38,
           "DSB Iba1 22_40X_CTX1"
          ],
          [
           22,
           39,
           "DSB Iba1 22_40X_CTX2"
          ],
          [
           22,
           40,
           "DSB Iba1 22_40X_CTX3"
          ],
          [
           22,
           41,
           "DSB Iba1 22_40X_DG"
          ],
          [
           23,
           42,
           "DSB Iba1 23_40X_CA1"
          ],
          [
           23,
           43,
           "DSB Iba1 23_40X_CA3"
          ],
          [
           23,
           44,
           "DSB Iba1 23_40X_CTX1"
          ],
          [
           23,
           45,
           "DSB Iba1 23_40X_CTX2"
          ],
          [
           23,
           46,
           "DSB Iba1 23_40X_CTX3"
          ],
          [
           23,
           47,
           "DSB Iba1 23_40X_DG"
          ],
          [
           24,
           48,
           "DSB Iba1 24_40X_CA1"
          ],
          [
           24,
           49,
           "DSB Iba1 24_40X_CA3"
          ],
          [
           24,
           50,
           "DSB Iba1 24_40X_CTX1"
          ],
          [
           24,
           51,
           "DSB Iba1 24_40X_CTX2"
          ],
          [
           24,
           52,
           "DSB Iba1 24_40X_CTX3"
          ],
          [
           24,
           53,
           "DSB Iba1 24_40X_DG"
          ],
          [
           25,
           54,
           "DSB Iba1 25_40X_CA1"
          ],
          [
           25,
           55,
           "DSB Iba1 25_40X_CA3"
          ],
          [
           25,
           56,
           "DSB Iba1 25_40X_CTX1"
          ],
          [
           25,
           57,
           "DSB Iba1 25_40X_CTX2"
          ],
          [
           25,
           58,
           "DSB Iba1 25_40X_CTX3"
          ],
          [
           25,
           59,
           "DSB Iba1 25_40X_DG"
          ],
          [
           26,
           60,
           "DSB Iba1 26_40X_CA1"
          ],
          [
           26,
           61,
           "DSB Iba1 26_40X_CA3"
          ],
          [
           26,
           62,
           "DSB Iba1 26_40X_CTX1"
          ],
          [
           26,
           63,
           "DSB Iba1 26_40X_CTX2"
          ],
          [
           26,
           64,
           "DSB Iba1 26_40X_CTX3"
          ],
          [
           26,
           65,
           "DSB Iba1 26_40X_DG"
          ],
          [
           27,
           66,
           "DSB Iba1 27_40X_DG"
          ],
          [
           28,
           67,
           "DSB Iba1 28_40X_CA1"
          ],
          [
           28,
           68,
           "DSB Iba1 28_40X_CA3"
          ],
          [
           28,
           69,
           "DSB Iba1 28_40X_CTX1"
          ],
          [
           28,
           70,
           "DSB Iba1 28_40X_CTX2"
          ],
          [
           28,
           71,
           "DSB Iba1 28_40X_CTX3"
          ],
          [
           28,
           72,
           "DSB Iba1 28_40X_DG"
          ],
          [
           29,
           73,
           "DSB Iba1 29_40X_CA1"
          ],
          [
           29,
           74,
           "DSB Iba1 29_40X_CA3"
          ],
          [
           29,
           75,
           "DSB Iba1 29_40X_CTX1"
          ],
          [
           29,
           76,
           "DSB Iba1 29_40X_CTX2"
          ],
          [
           29,
           77,
           "DSB Iba1 29_40X_CTX3"
          ],
          [
           29,
           78,
           "DSB Iba1 29_40X_DG"
          ],
          [
           30,
           79,
           "DSB Iba1 30_40X_CA1"
          ],
          [
           30,
           80,
           "DSB Iba1 30_40X_CA3"
          ],
          [
           30,
           81,
           "DSB Iba1 30_40X_CTX1"
          ],
          [
           30,
           82,
           "DSB Iba1 30_40X_CTX2"
          ],
          [
           30,
           83,
           "DSB Iba1 30_40X_CTX3"
          ],
          [
           30,
           84,
           "DSB Iba1 30_40X_DG"
          ],
          [
           31,
           85,
           "DSB Iba1 31_40X_CA1"
          ],
          [
           31,
           86,
           "DSB Iba1 31_40X_CA3"
          ],
          [
           31,
           87,
           "DSB Iba1 31_40X_CTX1"
          ],
          [
           31,
           88,
           "DSB Iba1 31_40X_CTX2"
          ],
          [
           31,
           89,
           "DSB Iba1 31_40X_CTX3"
          ],
          [
           31,
           90,
           "DSB Iba1 31_40X_DG"
          ],
          [
           32,
           91,
           "DSB Iba1 32_40X_CA1"
          ],
          [
           32,
           92,
           "DSB Iba1 32_40X_CA3"
          ],
          [
           32,
           93,
           "DSB Iba1 32_40X_CTX1"
          ],
          [
           32,
           94,
           "DSB Iba1 32_40X_CTX2"
          ],
          [
           32,
           95,
           "DSB Iba1 32_40X_CTX3"
          ],
          [
           32,
           96,
           "DSB Iba1 32_40X_DG"
          ],
          [
           33,
           97,
           "DSB Iba1 33_40X_CA1"
          ],
          [
           33,
           98,
           "DSB Iba1 33_40X_CA3"
          ],
          [
           33,
           99,
           "DSB Iba1 33_40X_CTX1"
          ],
          [
           33,
           100,
           "DSB Iba1 33_40X_CTX2"
          ],
          [
           33,
           101,
           "DSB Iba1 33_40X_CTX3"
          ],
          [
           33,
           102,
           "DSB Iba1 33_40X_DG"
          ],
          [
           34,
           103,
           "DSB Iba1 34_40X_CA1"
          ],
          [
           34,
           104,
           "DSB Iba1 34_40X_CA3"
          ],
          [
           34,
           105,
           "DSB Iba1 34_40X_CTX1"
          ],
          [
           34,
           106,
           "DSB Iba1 34_40X_CTX2"
          ],
          [
           34,
           107,
           "DSB Iba1 34_40X_CTX3"
          ],
          [
           34,
           108,
           "DSB Iba1 34_40X_DG"
          ],
          [
           35,
           109,
           "DSB Iba1 35_40X_CA1"
          ],
          [
           35,
           110,
           "DSB Iba1 35_40X_CA3"
          ],
          [
           35,
           111,
           "DSB Iba1 35_40X_CTX1"
          ],
          [
           35,
           112,
           "DSB Iba1 35_40X_CTX2"
          ],
          [
           35,
           113,
           "DSB Iba1 35_40X_CTX3"
          ],
          [
           35,
           114,
           "DSB Iba1 35_40X_DG"
          ],
          [
           36,
           115,
           "DSB Iba1 36_40X_CA1"
          ],
          [
           36,
           116,
           "DSB Iba1 36_40X_CA3"
          ],
          [
           36,
           117,
           "DSB Iba1 36_40X_CTX1"
          ],
          [
           36,
           118,
           "DSB Iba1 36_40X_CTX2"
          ],
          [
           36,
           119,
           "DSB Iba1 36_40X_CTX3"
          ],
          [
           36,
           120,
           "DSB Iba1 36_40X_DG"
          ],
          [
           37,
           121,
           "DSB Iba1 37_40X_CA1"
          ],
          [
           37,
           122,
           "DSB Iba1 37_40X_CA3"
          ],
          [
           37,
           123,
           "DSB Iba1 37_40X_CTX1"
          ],
          [
           37,
           124,
           "DSB Iba1 37_40X_CTX2"
          ],
          [
           37,
           125,
           "DSB Iba1 37_40X_CTX3"
          ],
          [
           37,
           126,
           "DSB Iba1 37_40X_DG"
          ],
          [
           38,
           127,
           "DSB Iba1 38_40X_DG"
          ],
          [
           39,
           128,
           "DSB Iba1 39_40X_CA1"
          ],
          [
           39,
           129,
           "DSB Iba1 39_40X_CA3"
          ],
          [
           39,
           130,
           "DSB Iba1 39_40X_CTX1"
          ],
          [
           39,
           131,
           "DSB Iba1 39_40X_CTX2"
          ],
          [
           39,
           132,
           "DSB Iba1 39_40X_CTX3"
          ],
          [
           39,
           133,
           "DSB Iba1 39_40X_DG"
          ],
          [
           40,
           134,
           "DSB Iba1 40_40X_CA1"
          ],
          [
           40,
           135,
           "DSB Iba1 40_40X_CA3"
          ],
          [
           40,
           136,
           "DSB Iba1 40_40X_CTX1"
          ],
          [
           40,
           137,
           "DSB Iba1 40_40X_CTX2"
          ],
          [
           40,
           138,
           "DSB Iba1 40_40X_CTX3"
          ],
          [
           40,
           139,
           "DSB Iba1 40_40X_DG"
          ],
          [
           41,
           140,
           "DSB Iba1 41_40X_CA1"
          ],
          [
           41,
           141,
           "DSB Iba1 41_40X_CA3"
          ],
          [
           41,
           142,
           "DSB Iba1 41_40X_CTX1"
          ],
          [
           41,
           143,
           "DSB Iba1 41_40X_CTX2"
          ],
          [
           41,
           144,
           "DSB Iba1 41_40X_CTX3"
          ],
          [
           41,
           145,
           "DSB Iba1 41_40X_DG"
          ],
          [
           42,
           146,
           "DSB Iba1 42_40X_CA1"
          ],
          [
           42,
           147,
           "DSB Iba1 42_40X_CA3"
          ],
          [
           42,
           148,
           "DSB Iba1 42_40X_CTX1"
          ],
          [
           42,
           149,
           "DSB Iba1 42_40X_CTX2"
          ],
          [
           42,
           150,
           "DSB Iba1 42_40X_CTX3"
          ],
          [
           42,
           151,
           "DSB Iba1 42_40X_DG"
          ],
          [
           43,
           152,
           "DSB Iba1 43_40X_CA1"
          ],
          [
           43,
           153,
           "DSB Iba1 43_40X_CA3"
          ],
          [
           43,
           154,
           "DSB Iba1 43_40X_CTX1"
          ],
          [
           43,
           155,
           "DSB Iba1 43_40X_CTX2"
          ],
          [
           43,
           156,
           "DSB Iba1 43_40X_CTX3"
          ],
          [
           43,
           157,
           "DSB Iba1 43_40X_DG"
          ],
          [
           44,
           158,
           "DSB Iba1 44_40X_CA1"
          ],
          [
           44,
           159,
           "DSB Iba1 44_40X_CA3"
          ],
          [
           44,
           160,
           "DSB Iba1 44_40X_CTX1"
          ],
          [
           44,
           161,
           "DSB Iba1 44_40X_DG"
          ],
          [
           45,
           162,
           "DSB Iba1 45_40X_CA1"
          ],
          [
           45,
           163,
           "DSB Iba1 45_40X_CA3"
          ],
          [
           45,
           164,
           "DSB Iba1 45_40X_CTX1"
          ],
          [
           45,
           165,
           "DSB Iba1 45_40X_CTX2"
          ],
          [
           45,
           166,
           "DSB Iba1 45_40X_CTX3"
          ],
          [
           45,
           167,
           "DSB Iba1 45_40X_DG"
          ],
          [
           46,
           168,
           "DSB Iba1 46_40X_CA1"
          ],
          [
           46,
           169,
           "DSB Iba1 46_40X_CA3"
          ],
          [
           46,
           170,
           "DSB Iba1 46_40X_CTX1"
          ],
          [
           46,
           171,
           "DSB Iba1 46_40X_CTX2"
          ],
          [
           46,
           172,
           "DSB Iba1 46_40X_CTX3"
          ],
          [
           46,
           173,
           "DSB Iba1 46_40X_DG"
          ],
          [
           47,
           174,
           "DSB Iba1 47_40X_CA1"
          ],
          [
           47,
           175,
           "DSB Iba1 47_40X_CA3"
          ],
          [
           47,
           176,
           "DSB Iba1 47_40X_CTX1"
          ],
          [
           47,
           177,
           "DSB Iba1 47_40X_CTX2"
          ],
          [
           47,
           178,
           "DSB Iba1 47_40X_CTX3"
          ],
          [
           47,
           179,
           "DSB Iba1 47_40X_DG"
          ],
          [
           48,
           180,
           "DSB Iba1 48_40X_CA1"
          ],
          [
           48,
           181,
           "DSB Iba1 48_40X_CA3"
          ],
          [
           48,
           182,
           "DSB Iba1 48_40X_CTX1"
          ],
          [
           48,
           183,
           "DSB Iba1 48_40X_CTX2"
          ],
          [
           48,
           184,
           "DSB Iba1 48_40X_CTX3"
          ],
          [
           48,
           185,
           "DSB Iba1 48_40X_DG"
          ],
          [
           49,
           186,
           "DSB Iba1 49_40X_CA1"
          ],
          [
           49,
           187,
           "DSB Iba1 49_40X_CA3"
          ],
          [
           49,
           188,
           "DSB Iba1 49_40X_CTX1"
          ],
          [
           49,
           189,
           "DSB Iba1 49_40X_CTX2"
          ],
          [
           49,
           190,
           "DSB Iba1 49_40X_CTX3"
          ],
          [
           49,
           191,
           "DSB Iba1 49_40X_DG"
          ],
          [
           50,
           192,
           "DSB Iba1 50_40X_CA1"
          ],
          [
           50,
           193,
           "DSB Iba1 50_40X_CA3"
          ],
          [
           50,
           194,
           "DSB Iba1 50_40X_CTX1"
          ],
          [
           50,
           195,
           "DSB Iba1 50_40X_CTX2"
          ],
          [
           50,
           196,
           "DSB Iba1 50_40X_CTX3"
          ],
          [
           50,
           197,
           "DSB Iba1 50_40X_DG"
          ],
          [
           51,
           198,
           "DSB Iba1 51_40X_CA1"
          ],
          [
           51,
           199,
           "DSB Iba1 51_40X_CA3"
          ],
          [
           51,
           200,
           "DSB Iba1 51_40X_CTX1"
          ],
          [
           51,
           201,
           "DSB Iba1 51_40X_CTX2"
          ],
          [
           51,
           202,
           "DSB Iba1 51_40X_CTX3"
          ],
          [
           51,
           203,
           "DSB Iba1 51_40X_DG"
          ],
          [
           52,
           204,
           "DSB Iba1 52_40X_CA1"
          ],
          [
           52,
           205,
           "DSB Iba1 52_40X_CA3"
          ],
          [
           52,
           206,
           "DSB Iba1 52_40X_CTX1"
          ],
          [
           52,
           207,
           "DSB Iba1 52_40X_CTX2"
          ],
          [
           52,
           208,
           "DSB Iba1 52_40X_CTX3"
          ],
          [
           52,
           209,
           "DSB Iba1 52_40X_DG"
          ],
          [
           53,
           210,
           "DSB Iba1 53_40X_CA1"
          ],
          [
           53,
           211,
           "DSB Iba1 53_40X_CA3"
          ],
          [
           53,
           212,
           "DSB Iba1 53_40X_CTX1"
          ],
          [
           53,
           213,
           "DSB Iba1 53_40X_CTX2"
          ],
          [
           53,
           214,
           "DSB Iba1 53_40X_CTX3"
          ],
          [
           53,
           215,
           "DSB Iba1 53_40X_DG"
          ],
          [
           54,
           216,
           "DSB Iba1 54_40X_CA1"
          ],
          [
           54,
           217,
           "DSB Iba1 54_40X_CA3"
          ],
          [
           54,
           218,
           "DSB Iba1 54_40X_CTX1"
          ],
          [
           54,
           219,
           "DSB Iba1 54_40X_CTX2"
          ],
          [
           54,
           220,
           "DSB Iba1 54_40X_CTX3"
          ],
          [
           54,
           221,
           "DSB Iba1 54_40X_DG"
          ],
          [
           55,
           222,
           "DSB Iba1 55_40X_CA1"
          ],
          [
           55,
           223,
           "DSB Iba1 55_40X_CA3"
          ],
          [
           55,
           224,
           "DSB Iba1 55_40X_CTX1"
          ],
          [
           55,
           225,
           "DSB Iba1 55_40X_CTX2"
          ],
          [
           55,
           226,
           "DSB Iba1 55_40X_CTX3"
          ],
          [
           55,
           227,
           "DSB Iba1 55_40X_DG"
          ],
          [
           56,
           228,
           "DSB Iba1 56_40X_CA1"
          ],
          [
           56,
           229,
           "DSB Iba1 56_40X_CA3"
          ],
          [
           56,
           230,
           "DSB Iba1 56_40X_CTX1"
          ],
          [
           56,
           231,
           "DSB Iba1 56_40X_CTX2"
          ],
          [
           56,
           232,
           "DSB Iba1 56_40X_CTX3"
          ],
          [
           56,
           233,
           "DSB Iba1 56_40X_DG"
          ],
          [
           57,
           234,
           "DSB Iba1 57_40X_CA1"
          ],
          [
           57,
           235,
           "DSB Iba1 57_40X_CA3"
          ],
          [
           57,
           236,
           "DSB Iba1 57_40X_CTX1"
          ],
          [
           57,
           237,
           "DSB Iba1 57_40X_CTX2"
          ],
          [
           57,
           238,
           "DSB Iba1 57_40X_CTX3"
          ],
          [
           57,
           239,
           "DSB Iba1 57_40X_DG"
          ],
          [
           58,
           240,
           "DSB Iba1 58_40X_CA1"
          ],
          [
           58,
           241,
           "DSB Iba1 58_40X_CA3"
          ],
          [
           58,
           242,
           "DSB Iba1 58_40X_CTX1"
          ],
          [
           58,
           243,
           "DSB Iba1 58_40X_CTX2"
          ],
          [
           58,
           244,
           "DSB Iba1 58_40X_CTX3"
          ],
          [
           58,
           245,
           "DSB Iba1 58_40X_DG"
          ],
          [
           59,
           246,
           "DSB Iba1 59_40X_CA1"
          ],
          [
           59,
           247,
           "DSB Iba1 59_40X_CA3"
          ],
          [
           59,
           248,
           "DSB Iba1 59_40X_CTX1"
          ],
          [
           59,
           249,
           "DSB Iba1 59_40X_CTX2"
          ],
          [
           59,
           250,
           "DSB Iba1 59_40X_CTX3"
          ],
          [
           59,
           251,
           "DSB Iba1 59_40X_DG"
          ]
         ],
         "hovertemplate": "tissue_location=%{x}<br>avg_dna_damage_foci/glia_+=%{y}<br>staining_id=%{customdata[0]}<br>index=%{customdata[1]}<br>filename=%{customdata[2]}<extra></extra>",
         "legendgroup": "",
         "marker": {
          "color": "#636efa",
          "symbol": "circle"
         },
         "mode": "markers",
         "name": "",
         "orientation": "v",
         "showlegend": false,
         "type": "scatter",
         "x": [
          "CA1",
          "CA3",
          "CTX1",
          "CTX2",
          "CTX3",
          "DG",
          "CA1",
          "CA3",
          "CTX1",
          "CTX2",
          "CTX3",
          "DG",
          "CA1",
          "CA3",
          "CTX1",
          "CTX2",
          "CTX3",
          "DG",
          "CA1",
          "CA3",
          "CTX1",
          "CTX2",
          "CTX3",
          "DG",
          "CA1",
          "CA3",
          "CTX1",
          "CTX2",
          "CTX3",
          "DG",
          "CA1",
          "CA3",
          "CTX1",
          "CTX2",
          "CTX3",
          "DG",
          "CA1",
          "CA3",
          "CTX1",
          "CTX2",
          "CTX3",
          "DG",
          "CA1",
          "CA3",
          "CTX1",
          "CTX2",
          "CTX3",
          "DG",
          "CA1",
          "CA3",
          "CTX1",
          "CTX2",
          "CTX3",
          "DG",
          "CA1",
          "CA3",
          "CTX1",
          "CTX2",
          "CTX3",
          "DG",
          "CA1",
          "CA3",
          "CTX1",
          "CTX2",
          "CTX3",
          "DG",
          "DG",
          "CA1",
          "CA3",
          "CTX1",
          "CTX2",
          "CTX3",
          "DG",
          "CA1",
          "CA3",
          "CTX1",
          "CTX2",
          "CTX3",
          "DG",
          "CA1",
          "CA3",
          "CTX1",
          "CTX2",
          "CTX3",
          "DG",
          "CA1",
          "CA3",
          "CTX1",
          "CTX2",
          "CTX3",
          "DG",
          "CA1",
          "CA3",
          "CTX1",
          "CTX2",
          "CTX3",
          "DG",
          "CA1",
          "CA3",
          "CTX1",
          "CTX2",
          "CTX3",
          "DG",
          "CA1",
          "CA3",
          "CTX1",
          "CTX2",
          "CTX3",
          "DG",
          "CA1",
          "CA3",
          "CTX1",
          "CTX2",
          "CTX3",
          "DG",
          "CA1",
          "CA3",
          "CTX1",
          "CTX2",
          "CTX3",
          "DG",
          "CA1",
          "CA3",
          "CTX1",
          "CTX2",
          "CTX3",
          "DG",
          "DG",
          "CA1",
          "CA3",
          "CTX1",
          "CTX2",
          "CTX3",
          "DG",
          "CA1",
          "CA3",
          "CTX1",
          "CTX2",
          "CTX3",
          "DG",
          "CA1",
          "CA3",
          "CTX1",
          "CTX2",
          "CTX3",
          "DG",
          "CA1",
          "CA3",
          "CTX1",
          "CTX2",
          "CTX3",
          "DG",
          "CA1",
          "CA3",
          "CTX1",
          "CTX2",
          "CTX3",
          "DG",
          "CA1",
          "CA3",
          "CTX1",
          "DG",
          "CA1",
          "CA3",
          "CTX1",
          "CTX2",
          "CTX3",
          "DG",
          "CA1",
          "CA3",
          "CTX1",
          "CTX2",
          "CTX3",
          "DG",
          "CA1",
          "CA3",
          "CTX1",
          "CTX2",
          "CTX3",
          "DG",
          "CA1",
          "CA3",
          "CTX1",
          "CTX2",
          "CTX3",
          "DG",
          "CA1",
          "CA3",
          "CTX1",
          "CTX2",
          "CTX3",
          "DG",
          "CA1",
          "CA3",
          "CTX1",
          "CTX2",
          "CTX3",
          "DG",
          "CA1",
          "CA3",
          "CTX1",
          "CTX2",
          "CTX3",
          "DG",
          "CA1",
          "CA3",
          "CTX1",
          "CTX2",
          "CTX3",
          "DG",
          "CA1",
          "CA3",
          "CTX1",
          "CTX2",
          "CTX3",
          "DG",
          "CA1",
          "CA3",
          "CTX1",
          "CTX2",
          "CTX3",
          "DG",
          "CA1",
          "CA3",
          "CTX1",
          "CTX2",
          "CTX3",
          "DG",
          "CA1",
          "CA3",
          "CTX1",
          "CTX2",
          "CTX3",
          "DG",
          "CA1",
          "CA3",
          "CTX1",
          "CTX2",
          "CTX3",
          "DG",
          "CA1",
          "CA3",
          "CTX1",
          "CTX2",
          "CTX3",
          "DG",
          "CA1",
          "CA3",
          "CTX1",
          "CTX2",
          "CTX3",
          "DG"
         ],
         "xaxis": "x",
         "y": [
          0.9365079365079364,
          4.513513513513513,
          0.6428571428571429,
          2.240663900414938,
          2.019230769230769,
          0.6628959276018099,
          1.818181818181818,
          1.3157894736842106,
          2.411764705882353,
          2.8461538461538463,
          2.6296296296296298,
          3.12751677852349,
          1.3571428571428572,
          1.9166666666666667,
          1.8421052631578947,
          3.2,
          3.0588235294117645,
          1.1826923076923077,
          1,
          1.0140845070422535,
          1.004739336492891,
          1.0138888888888888,
          1,
          1,
          1,
          1.6,
          1,
          1.5,
          0.6666666666666666,
          1,
          1,
          0.5,
          1.588235294117647,
          1.2666666666666666,
          1.4782608695652173,
          0.9333333333333332,
          1,
          2.1666666666666665,
          1.5,
          1.0588235294117647,
          1.25,
          1.7647058823529411,
          1,
          0.875,
          0.56,
          0,
          0.9090909090909092,
          1,
          0,
          0.25,
          0,
          0.7058823529411765,
          0.0769230769230769,
          0,
          1.375,
          1.2222222222222223,
          0.56,
          1.65,
          1.3333333333333333,
          2.1333333333333333,
          2.571428571428572,
          3.6,
          1.5,
          1.6666666666666667,
          1.818181818181818,
          4.166666666666667,
          2.5,
          0,
          1,
          1,
          0.8461538461538461,
          1.0909090909090908,
          2.823529411764706,
          1.4,
          1,
          1.125,
          1.1923076923076923,
          0.9375,
          1,
          0,
          1,
          0.7692307692307693,
          0.5,
          0.6153846153846154,
          0.8,
          1.3636363636363635,
          2,
          1,
          0.5882352941176471,
          1.1538461538461535,
          1.5,
          4.277777777777778,
          1.7058823529411764,
          2.3870967741935485,
          1.6578947368421053,
          2.814814814814815,
          2.80327868852459,
          1,
          1,
          0.7,
          1.2666666666666666,
          0.7777777777777778,
          1,
          3.090909090909091,
          2.8,
          2.4545454545454546,
          2.185185185185185,
          1.8846153846153848,
          2.3684210526315788,
          0.9,
          2.6206896551724137,
          1.1111111111111112,
          2.045045045045045,
          2.325,
          2.485074626865672,
          1.25,
          1,
          1.875,
          1.4482758620689655,
          1.7,
          1.6,
          1,
          0.7272727272727273,
          1.7692307692307692,
          1.5833333333333333,
          1.793103448275862,
          1.4285714285714286,
          1,
          1.3333333333333333,
          0.6,
          0,
          0.4,
          1,
          1.375,
          0.5,
          0.625,
          0.95,
          0.8181818181818182,
          1.375,
          1.8,
          0.5,
          0.5,
          null,
          0,
          0.6,
          1,
          1.3333333333333333,
          1.3333333333333333,
          1,
          1,
          1.5,
          1,
          0.4545454545454545,
          0.7142857142857143,
          2.071428571428572,
          0.5,
          0.9166666666666666,
          2.871794871794872,
          1.4193548387096775,
          1.1111111111111112,
          1.0925925925925926,
          1.1772151898734178,
          2,
          1.6666666666666667,
          0.75,
          0.8,
          0.7647058823529411,
          2.0454545454545454,
          2.303030303030303,
          2.6666666666666665,
          1.8481012658227849,
          1.4807692307692308,
          1.9558823529411764,
          2.129032258064516,
          1.1176470588235294,
          2.117647058823529,
          0.6111111111111112,
          2.6486486486486487,
          1.7027027027027026,
          4.75,
          1.4285714285714286,
          1.25,
          0.9428571428571428,
          1,
          1,
          1.1538461538461535,
          2.176470588235294,
          0.625,
          1.25,
          1.7777777777777777,
          0.5882352941176471,
          2,
          0.1538461538461538,
          0.1111111111111111,
          0,
          0.1428571428571428,
          0.6451612903225806,
          0.4666666666666667,
          0.6,
          1,
          0.3888888888888889,
          0.3333333333333333,
          0.6153846153846154,
          0.8181818181818182,
          1.2,
          1,
          0.3478260869565217,
          0.6451612903225806,
          0.5384615384615384,
          0.875,
          2,
          1.3333333333333333,
          1.9583333333333333,
          2,
          1.7692307692307692,
          1.8333333333333333,
          1.4,
          1.3333333333333333,
          0.6,
          1,
          1.2,
          0.7692307692307693,
          0.4285714285714285,
          0.6666666666666666,
          0.125,
          0.6666666666666666,
          0,
          0.7272727272727273,
          1,
          0.4166666666666667,
          0.9523809523809524,
          0.782608695652174,
          0.2777777777777778,
          1.1875,
          0.9090909090909092,
          1.375,
          1.4285714285714286,
          0.75,
          0.5454545454545454,
          1.1071428571428572,
          1.25,
          0.6666666666666666,
          1.1764705882352942,
          1.1875,
          1,
          1.5,
          0.8,
          0.8,
          0.7777777777777778,
          0.6,
          0.6956521739130435,
          1.5
         ],
         "yaxis": "y"
        }
       ],
       "layout": {
        "legend": {
         "tracegroupgap": 0
        },
        "template": {
         "data": {
          "bar": [
           {
            "error_x": {
             "color": "#2a3f5f"
            },
            "error_y": {
             "color": "#2a3f5f"
            },
            "marker": {
             "line": {
              "color": "#E5ECF6",
              "width": 0.5
             },
             "pattern": {
              "fillmode": "overlay",
              "size": 10,
              "solidity": 0.2
             }
            },
            "type": "bar"
           }
          ],
          "barpolar": [
           {
            "marker": {
             "line": {
              "color": "#E5ECF6",
              "width": 0.5
             },
             "pattern": {
              "fillmode": "overlay",
              "size": 10,
              "solidity": 0.2
             }
            },
            "type": "barpolar"
           }
          ],
          "carpet": [
           {
            "aaxis": {
             "endlinecolor": "#2a3f5f",
             "gridcolor": "white",
             "linecolor": "white",
             "minorgridcolor": "white",
             "startlinecolor": "#2a3f5f"
            },
            "baxis": {
             "endlinecolor": "#2a3f5f",
             "gridcolor": "white",
             "linecolor": "white",
             "minorgridcolor": "white",
             "startlinecolor": "#2a3f5f"
            },
            "type": "carpet"
           }
          ],
          "choropleth": [
           {
            "colorbar": {
             "outlinewidth": 0,
             "ticks": ""
            },
            "type": "choropleth"
           }
          ],
          "contour": [
           {
            "colorbar": {
             "outlinewidth": 0,
             "ticks": ""
            },
            "colorscale": [
             [
              0,
              "#0d0887"
             ],
             [
              0.1111111111111111,
              "#46039f"
             ],
             [
              0.2222222222222222,
              "#7201a8"
             ],
             [
              0.3333333333333333,
              "#9c179e"
             ],
             [
              0.4444444444444444,
              "#bd3786"
             ],
             [
              0.5555555555555556,
              "#d8576b"
             ],
             [
              0.6666666666666666,
              "#ed7953"
             ],
             [
              0.7777777777777778,
              "#fb9f3a"
             ],
             [
              0.8888888888888888,
              "#fdca26"
             ],
             [
              1,
              "#f0f921"
             ]
            ],
            "type": "contour"
           }
          ],
          "contourcarpet": [
           {
            "colorbar": {
             "outlinewidth": 0,
             "ticks": ""
            },
            "type": "contourcarpet"
           }
          ],
          "heatmap": [
           {
            "colorbar": {
             "outlinewidth": 0,
             "ticks": ""
            },
            "colorscale": [
             [
              0,
              "#0d0887"
             ],
             [
              0.1111111111111111,
              "#46039f"
             ],
             [
              0.2222222222222222,
              "#7201a8"
             ],
             [
              0.3333333333333333,
              "#9c179e"
             ],
             [
              0.4444444444444444,
              "#bd3786"
             ],
             [
              0.5555555555555556,
              "#d8576b"
             ],
             [
              0.6666666666666666,
              "#ed7953"
             ],
             [
              0.7777777777777778,
              "#fb9f3a"
             ],
             [
              0.8888888888888888,
              "#fdca26"
             ],
             [
              1,
              "#f0f921"
             ]
            ],
            "type": "heatmap"
           }
          ],
          "heatmapgl": [
           {
            "colorbar": {
             "outlinewidth": 0,
             "ticks": ""
            },
            "colorscale": [
             [
              0,
              "#0d0887"
             ],
             [
              0.1111111111111111,
              "#46039f"
             ],
             [
              0.2222222222222222,
              "#7201a8"
             ],
             [
              0.3333333333333333,
              "#9c179e"
             ],
             [
              0.4444444444444444,
              "#bd3786"
             ],
             [
              0.5555555555555556,
              "#d8576b"
             ],
             [
              0.6666666666666666,
              "#ed7953"
             ],
             [
              0.7777777777777778,
              "#fb9f3a"
             ],
             [
              0.8888888888888888,
              "#fdca26"
             ],
             [
              1,
              "#f0f921"
             ]
            ],
            "type": "heatmapgl"
           }
          ],
          "histogram": [
           {
            "marker": {
             "pattern": {
              "fillmode": "overlay",
              "size": 10,
              "solidity": 0.2
             }
            },
            "type": "histogram"
           }
          ],
          "histogram2d": [
           {
            "colorbar": {
             "outlinewidth": 0,
             "ticks": ""
            },
            "colorscale": [
             [
              0,
              "#0d0887"
             ],
             [
              0.1111111111111111,
              "#46039f"
             ],
             [
              0.2222222222222222,
              "#7201a8"
             ],
             [
              0.3333333333333333,
              "#9c179e"
             ],
             [
              0.4444444444444444,
              "#bd3786"
             ],
             [
              0.5555555555555556,
              "#d8576b"
             ],
             [
              0.6666666666666666,
              "#ed7953"
             ],
             [
              0.7777777777777778,
              "#fb9f3a"
             ],
             [
              0.8888888888888888,
              "#fdca26"
             ],
             [
              1,
              "#f0f921"
             ]
            ],
            "type": "histogram2d"
           }
          ],
          "histogram2dcontour": [
           {
            "colorbar": {
             "outlinewidth": 0,
             "ticks": ""
            },
            "colorscale": [
             [
              0,
              "#0d0887"
             ],
             [
              0.1111111111111111,
              "#46039f"
             ],
             [
              0.2222222222222222,
              "#7201a8"
             ],
             [
              0.3333333333333333,
              "#9c179e"
             ],
             [
              0.4444444444444444,
              "#bd3786"
             ],
             [
              0.5555555555555556,
              "#d8576b"
             ],
             [
              0.6666666666666666,
              "#ed7953"
             ],
             [
              0.7777777777777778,
              "#fb9f3a"
             ],
             [
              0.8888888888888888,
              "#fdca26"
             ],
             [
              1,
              "#f0f921"
             ]
            ],
            "type": "histogram2dcontour"
           }
          ],
          "mesh3d": [
           {
            "colorbar": {
             "outlinewidth": 0,
             "ticks": ""
            },
            "type": "mesh3d"
           }
          ],
          "parcoords": [
           {
            "line": {
             "colorbar": {
              "outlinewidth": 0,
              "ticks": ""
             }
            },
            "type": "parcoords"
           }
          ],
          "pie": [
           {
            "automargin": true,
            "type": "pie"
           }
          ],
          "scatter": [
           {
            "fillpattern": {
             "fillmode": "overlay",
             "size": 10,
             "solidity": 0.2
            },
            "type": "scatter"
           }
          ],
          "scatter3d": [
           {
            "line": {
             "colorbar": {
              "outlinewidth": 0,
              "ticks": ""
             }
            },
            "marker": {
             "colorbar": {
              "outlinewidth": 0,
              "ticks": ""
             }
            },
            "type": "scatter3d"
           }
          ],
          "scattercarpet": [
           {
            "marker": {
             "colorbar": {
              "outlinewidth": 0,
              "ticks": ""
             }
            },
            "type": "scattercarpet"
           }
          ],
          "scattergeo": [
           {
            "marker": {
             "colorbar": {
              "outlinewidth": 0,
              "ticks": ""
             }
            },
            "type": "scattergeo"
           }
          ],
          "scattergl": [
           {
            "marker": {
             "colorbar": {
              "outlinewidth": 0,
              "ticks": ""
             }
            },
            "type": "scattergl"
           }
          ],
          "scattermapbox": [
           {
            "marker": {
             "colorbar": {
              "outlinewidth": 0,
              "ticks": ""
             }
            },
            "type": "scattermapbox"
           }
          ],
          "scatterpolar": [
           {
            "marker": {
             "colorbar": {
              "outlinewidth": 0,
              "ticks": ""
             }
            },
            "type": "scatterpolar"
           }
          ],
          "scatterpolargl": [
           {
            "marker": {
             "colorbar": {
              "outlinewidth": 0,
              "ticks": ""
             }
            },
            "type": "scatterpolargl"
           }
          ],
          "scatterternary": [
           {
            "marker": {
             "colorbar": {
              "outlinewidth": 0,
              "ticks": ""
             }
            },
            "type": "scatterternary"
           }
          ],
          "surface": [
           {
            "colorbar": {
             "outlinewidth": 0,
             "ticks": ""
            },
            "colorscale": [
             [
              0,
              "#0d0887"
             ],
             [
              0.1111111111111111,
              "#46039f"
             ],
             [
              0.2222222222222222,
              "#7201a8"
             ],
             [
              0.3333333333333333,
              "#9c179e"
             ],
             [
              0.4444444444444444,
              "#bd3786"
             ],
             [
              0.5555555555555556,
              "#d8576b"
             ],
             [
              0.6666666666666666,
              "#ed7953"
             ],
             [
              0.7777777777777778,
              "#fb9f3a"
             ],
             [
              0.8888888888888888,
              "#fdca26"
             ],
             [
              1,
              "#f0f921"
             ]
            ],
            "type": "surface"
           }
          ],
          "table": [
           {
            "cells": {
             "fill": {
              "color": "#EBF0F8"
             },
             "line": {
              "color": "white"
             }
            },
            "header": {
             "fill": {
              "color": "#C8D4E3"
             },
             "line": {
              "color": "white"
             }
            },
            "type": "table"
           }
          ]
         },
         "layout": {
          "annotationdefaults": {
           "arrowcolor": "#2a3f5f",
           "arrowhead": 0,
           "arrowwidth": 1
          },
          "autotypenumbers": "strict",
          "coloraxis": {
           "colorbar": {
            "outlinewidth": 0,
            "ticks": ""
           }
          },
          "colorscale": {
           "diverging": [
            [
             0,
             "#8e0152"
            ],
            [
             0.1,
             "#c51b7d"
            ],
            [
             0.2,
             "#de77ae"
            ],
            [
             0.3,
             "#f1b6da"
            ],
            [
             0.4,
             "#fde0ef"
            ],
            [
             0.5,
             "#f7f7f7"
            ],
            [
             0.6,
             "#e6f5d0"
            ],
            [
             0.7,
             "#b8e186"
            ],
            [
             0.8,
             "#7fbc41"
            ],
            [
             0.9,
             "#4d9221"
            ],
            [
             1,
             "#276419"
            ]
           ],
           "sequential": [
            [
             0,
             "#0d0887"
            ],
            [
             0.1111111111111111,
             "#46039f"
            ],
            [
             0.2222222222222222,
             "#7201a8"
            ],
            [
             0.3333333333333333,
             "#9c179e"
            ],
            [
             0.4444444444444444,
             "#bd3786"
            ],
            [
             0.5555555555555556,
             "#d8576b"
            ],
            [
             0.6666666666666666,
             "#ed7953"
            ],
            [
             0.7777777777777778,
             "#fb9f3a"
            ],
            [
             0.8888888888888888,
             "#fdca26"
            ],
            [
             1,
             "#f0f921"
            ]
           ],
           "sequentialminus": [
            [
             0,
             "#0d0887"
            ],
            [
             0.1111111111111111,
             "#46039f"
            ],
            [
             0.2222222222222222,
             "#7201a8"
            ],
            [
             0.3333333333333333,
             "#9c179e"
            ],
            [
             0.4444444444444444,
             "#bd3786"
            ],
            [
             0.5555555555555556,
             "#d8576b"
            ],
            [
             0.6666666666666666,
             "#ed7953"
            ],
            [
             0.7777777777777778,
             "#fb9f3a"
            ],
            [
             0.8888888888888888,
             "#fdca26"
            ],
            [
             1,
             "#f0f921"
            ]
           ]
          },
          "colorway": [
           "#636efa",
           "#EF553B",
           "#00cc96",
           "#ab63fa",
           "#FFA15A",
           "#19d3f3",
           "#FF6692",
           "#B6E880",
           "#FF97FF",
           "#FECB52"
          ],
          "font": {
           "color": "#2a3f5f"
          },
          "geo": {
           "bgcolor": "white",
           "lakecolor": "white",
           "landcolor": "#E5ECF6",
           "showlakes": true,
           "showland": true,
           "subunitcolor": "white"
          },
          "hoverlabel": {
           "align": "left"
          },
          "hovermode": "closest",
          "mapbox": {
           "style": "light"
          },
          "paper_bgcolor": "white",
          "plot_bgcolor": "#E5ECF6",
          "polar": {
           "angularaxis": {
            "gridcolor": "white",
            "linecolor": "white",
            "ticks": ""
           },
           "bgcolor": "#E5ECF6",
           "radialaxis": {
            "gridcolor": "white",
            "linecolor": "white",
            "ticks": ""
           }
          },
          "scene": {
           "xaxis": {
            "backgroundcolor": "#E5ECF6",
            "gridcolor": "white",
            "gridwidth": 2,
            "linecolor": "white",
            "showbackground": true,
            "ticks": "",
            "zerolinecolor": "white"
           },
           "yaxis": {
            "backgroundcolor": "#E5ECF6",
            "gridcolor": "white",
            "gridwidth": 2,
            "linecolor": "white",
            "showbackground": true,
            "ticks": "",
            "zerolinecolor": "white"
           },
           "zaxis": {
            "backgroundcolor": "#E5ECF6",
            "gridcolor": "white",
            "gridwidth": 2,
            "linecolor": "white",
            "showbackground": true,
            "ticks": "",
            "zerolinecolor": "white"
           }
          },
          "shapedefaults": {
           "line": {
            "color": "#2a3f5f"
           }
          },
          "ternary": {
           "aaxis": {
            "gridcolor": "white",
            "linecolor": "white",
            "ticks": ""
           },
           "baxis": {
            "gridcolor": "white",
            "linecolor": "white",
            "ticks": ""
           },
           "bgcolor": "#E5ECF6",
           "caxis": {
            "gridcolor": "white",
            "linecolor": "white",
            "ticks": ""
           }
          },
          "title": {
           "x": 0.05
          },
          "xaxis": {
           "automargin": true,
           "gridcolor": "white",
           "linecolor": "white",
           "ticks": "",
           "title": {
            "standoff": 15
           },
           "zerolinecolor": "white",
           "zerolinewidth": 2
          },
          "yaxis": {
           "automargin": true,
           "gridcolor": "white",
           "linecolor": "white",
           "ticks": "",
           "title": {
            "standoff": 15
           },
           "zerolinecolor": "white",
           "zerolinewidth": 2
          }
         }
        },
        "title": {
         "text": "Average DNA damage foci in Glia Nuclei by Tissue Location - cellpdia30_sigma1_dilrad4_dnad_obj_seg_v1_gliaero6_gliathr20_dnadero2"
        },
        "xaxis": {
         "anchor": "y",
         "domain": [
          0,
          1
         ],
         "title": {
          "text": "tissue_location"
         }
        },
        "yaxis": {
         "anchor": "x",
         "domain": [
          0,
          1
         ],
         "title": {
          "text": "avg_dna_damage_foci/glia_+"
         }
        }
       }
      }
     },
     "metadata": {},
     "output_type": "display_data"
    }
   ],
   "source": [
    "# Create the plot\n",
    "fig = px.scatter(df, x='tissue_location', y='avg_dna_damage_foci/glia_+',\n",
    "                 hover_data=['staining_id','index','filename'], title=f\"Average DNA damage foci in Glia Nuclei by Tissue Location - {title}\")\n",
    "\n",
    "# Show the plot\n",
    "fig.show()"
   ]
  },
  {
   "cell_type": "code",
   "execution_count": 31,
   "metadata": {},
   "outputs": [
    {
     "data": {
      "application/vnd.plotly.v1+json": {
       "config": {
        "plotlyServerURL": "https://plot.ly"
       },
       "data": [
        {
         "customdata": [
          [
           16,
           0,
           "DSB Iba1 16_40X_CA1"
          ],
          [
           16,
           1,
           "DSB Iba1 16_40X_CA3"
          ],
          [
           16,
           2,
           "DSB Iba1 16_40X_CTX1"
          ],
          [
           16,
           3,
           "DSB Iba1 16_40X_CTX2"
          ],
          [
           16,
           4,
           "DSB Iba1 16_40X_CTX3"
          ],
          [
           16,
           5,
           "DSB Iba1 16_40X_DG"
          ],
          [
           17,
           6,
           "DSB Iba1 17_40X_CA1"
          ],
          [
           17,
           7,
           "DSB Iba1 17_40X_CA3"
          ],
          [
           17,
           8,
           "DSB Iba1 17_40X_CTX1"
          ],
          [
           17,
           9,
           "DSB Iba1 17_40X_CTX2"
          ],
          [
           17,
           10,
           "DSB Iba1 17_40X_CTX3"
          ],
          [
           17,
           11,
           "DSB Iba1 17_40X_DG"
          ],
          [
           18,
           12,
           "DSB Iba1 18_40X_CA1"
          ],
          [
           18,
           13,
           "DSB Iba1 18_40X_CA3"
          ],
          [
           18,
           14,
           "DSB Iba1 18_40X_CTX1"
          ],
          [
           18,
           15,
           "DSB Iba1 18_40X_CTX2"
          ],
          [
           18,
           16,
           "DSB Iba1 18_40X_CTX3"
          ],
          [
           18,
           17,
           "DSB Iba1 18_40X_DG"
          ],
          [
           19,
           18,
           "DSB Iba1 19_40X_CA1"
          ],
          [
           19,
           19,
           "DSB Iba1 19_40X_CA3"
          ],
          [
           19,
           20,
           "DSB Iba1 19_40X_CTX1"
          ],
          [
           19,
           21,
           "DSB Iba1 19_40X_CTX2"
          ],
          [
           19,
           22,
           "DSB Iba1 19_40X_CTX3"
          ],
          [
           19,
           23,
           "DSB Iba1 19_40X_DG"
          ],
          [
           20,
           24,
           "DSB Iba1 20_40X_CA1"
          ],
          [
           20,
           25,
           "DSB Iba1 20_40X_CA3"
          ],
          [
           20,
           26,
           "DSB Iba1 20_40X_CTX1"
          ],
          [
           20,
           27,
           "DSB Iba1 20_40X_CTX2"
          ],
          [
           20,
           28,
           "DSB Iba1 20_40X_CTX3"
          ],
          [
           20,
           29,
           "DSB Iba1 20_40X_DG"
          ],
          [
           21,
           30,
           "DSB Iba1 21_40X_CA1"
          ],
          [
           21,
           31,
           "DSB Iba1 21_40X_CA3"
          ],
          [
           21,
           32,
           "DSB Iba1 21_40X_CTX1"
          ],
          [
           21,
           33,
           "DSB Iba1 21_40X_CTX2"
          ],
          [
           21,
           34,
           "DSB Iba1 21_40X_CTX3"
          ],
          [
           21,
           35,
           "DSB Iba1 21_40X_DG"
          ],
          [
           22,
           36,
           "DSB Iba1 22_40X_CA1"
          ],
          [
           22,
           37,
           "DSB Iba1 22_40X_CA3"
          ],
          [
           22,
           38,
           "DSB Iba1 22_40X_CTX1"
          ],
          [
           22,
           39,
           "DSB Iba1 22_40X_CTX2"
          ],
          [
           22,
           40,
           "DSB Iba1 22_40X_CTX3"
          ],
          [
           22,
           41,
           "DSB Iba1 22_40X_DG"
          ],
          [
           23,
           42,
           "DSB Iba1 23_40X_CA1"
          ],
          [
           23,
           43,
           "DSB Iba1 23_40X_CA3"
          ],
          [
           23,
           44,
           "DSB Iba1 23_40X_CTX1"
          ],
          [
           23,
           45,
           "DSB Iba1 23_40X_CTX2"
          ],
          [
           23,
           46,
           "DSB Iba1 23_40X_CTX3"
          ],
          [
           23,
           47,
           "DSB Iba1 23_40X_DG"
          ],
          [
           24,
           48,
           "DSB Iba1 24_40X_CA1"
          ],
          [
           24,
           49,
           "DSB Iba1 24_40X_CA3"
          ],
          [
           24,
           50,
           "DSB Iba1 24_40X_CTX1"
          ],
          [
           24,
           51,
           "DSB Iba1 24_40X_CTX2"
          ],
          [
           24,
           52,
           "DSB Iba1 24_40X_CTX3"
          ],
          [
           24,
           53,
           "DSB Iba1 24_40X_DG"
          ],
          [
           25,
           54,
           "DSB Iba1 25_40X_CA1"
          ],
          [
           25,
           55,
           "DSB Iba1 25_40X_CA3"
          ],
          [
           25,
           56,
           "DSB Iba1 25_40X_CTX1"
          ],
          [
           25,
           57,
           "DSB Iba1 25_40X_CTX2"
          ],
          [
           25,
           58,
           "DSB Iba1 25_40X_CTX3"
          ],
          [
           25,
           59,
           "DSB Iba1 25_40X_DG"
          ],
          [
           26,
           60,
           "DSB Iba1 26_40X_CA1"
          ],
          [
           26,
           61,
           "DSB Iba1 26_40X_CA3"
          ],
          [
           26,
           62,
           "DSB Iba1 26_40X_CTX1"
          ],
          [
           26,
           63,
           "DSB Iba1 26_40X_CTX2"
          ],
          [
           26,
           64,
           "DSB Iba1 26_40X_CTX3"
          ],
          [
           26,
           65,
           "DSB Iba1 26_40X_DG"
          ],
          [
           27,
           66,
           "DSB Iba1 27_40X_DG"
          ],
          [
           28,
           67,
           "DSB Iba1 28_40X_CA1"
          ],
          [
           28,
           68,
           "DSB Iba1 28_40X_CA3"
          ],
          [
           28,
           69,
           "DSB Iba1 28_40X_CTX1"
          ],
          [
           28,
           70,
           "DSB Iba1 28_40X_CTX2"
          ],
          [
           28,
           71,
           "DSB Iba1 28_40X_CTX3"
          ],
          [
           28,
           72,
           "DSB Iba1 28_40X_DG"
          ],
          [
           29,
           73,
           "DSB Iba1 29_40X_CA1"
          ],
          [
           29,
           74,
           "DSB Iba1 29_40X_CA3"
          ],
          [
           29,
           75,
           "DSB Iba1 29_40X_CTX1"
          ],
          [
           29,
           76,
           "DSB Iba1 29_40X_CTX2"
          ],
          [
           29,
           77,
           "DSB Iba1 29_40X_CTX3"
          ],
          [
           29,
           78,
           "DSB Iba1 29_40X_DG"
          ],
          [
           30,
           79,
           "DSB Iba1 30_40X_CA1"
          ],
          [
           30,
           80,
           "DSB Iba1 30_40X_CA3"
          ],
          [
           30,
           81,
           "DSB Iba1 30_40X_CTX1"
          ],
          [
           30,
           82,
           "DSB Iba1 30_40X_CTX2"
          ],
          [
           30,
           83,
           "DSB Iba1 30_40X_CTX3"
          ],
          [
           30,
           84,
           "DSB Iba1 30_40X_DG"
          ],
          [
           31,
           85,
           "DSB Iba1 31_40X_CA1"
          ],
          [
           31,
           86,
           "DSB Iba1 31_40X_CA3"
          ],
          [
           31,
           87,
           "DSB Iba1 31_40X_CTX1"
          ],
          [
           31,
           88,
           "DSB Iba1 31_40X_CTX2"
          ],
          [
           31,
           89,
           "DSB Iba1 31_40X_CTX3"
          ],
          [
           31,
           90,
           "DSB Iba1 31_40X_DG"
          ],
          [
           32,
           91,
           "DSB Iba1 32_40X_CA1"
          ],
          [
           32,
           92,
           "DSB Iba1 32_40X_CA3"
          ],
          [
           32,
           93,
           "DSB Iba1 32_40X_CTX1"
          ],
          [
           32,
           94,
           "DSB Iba1 32_40X_CTX2"
          ],
          [
           32,
           95,
           "DSB Iba1 32_40X_CTX3"
          ],
          [
           32,
           96,
           "DSB Iba1 32_40X_DG"
          ],
          [
           33,
           97,
           "DSB Iba1 33_40X_CA1"
          ],
          [
           33,
           98,
           "DSB Iba1 33_40X_CA3"
          ],
          [
           33,
           99,
           "DSB Iba1 33_40X_CTX1"
          ],
          [
           33,
           100,
           "DSB Iba1 33_40X_CTX2"
          ],
          [
           33,
           101,
           "DSB Iba1 33_40X_CTX3"
          ],
          [
           33,
           102,
           "DSB Iba1 33_40X_DG"
          ],
          [
           34,
           103,
           "DSB Iba1 34_40X_CA1"
          ],
          [
           34,
           104,
           "DSB Iba1 34_40X_CA3"
          ],
          [
           34,
           105,
           "DSB Iba1 34_40X_CTX1"
          ],
          [
           34,
           106,
           "DSB Iba1 34_40X_CTX2"
          ],
          [
           34,
           107,
           "DSB Iba1 34_40X_CTX3"
          ],
          [
           34,
           108,
           "DSB Iba1 34_40X_DG"
          ],
          [
           35,
           109,
           "DSB Iba1 35_40X_CA1"
          ],
          [
           35,
           110,
           "DSB Iba1 35_40X_CA3"
          ],
          [
           35,
           111,
           "DSB Iba1 35_40X_CTX1"
          ],
          [
           35,
           112,
           "DSB Iba1 35_40X_CTX2"
          ],
          [
           35,
           113,
           "DSB Iba1 35_40X_CTX3"
          ],
          [
           35,
           114,
           "DSB Iba1 35_40X_DG"
          ],
          [
           36,
           115,
           "DSB Iba1 36_40X_CA1"
          ],
          [
           36,
           116,
           "DSB Iba1 36_40X_CA3"
          ],
          [
           36,
           117,
           "DSB Iba1 36_40X_CTX1"
          ],
          [
           36,
           118,
           "DSB Iba1 36_40X_CTX2"
          ],
          [
           36,
           119,
           "DSB Iba1 36_40X_CTX3"
          ],
          [
           36,
           120,
           "DSB Iba1 36_40X_DG"
          ],
          [
           37,
           121,
           "DSB Iba1 37_40X_CA1"
          ],
          [
           37,
           122,
           "DSB Iba1 37_40X_CA3"
          ],
          [
           37,
           123,
           "DSB Iba1 37_40X_CTX1"
          ],
          [
           37,
           124,
           "DSB Iba1 37_40X_CTX2"
          ],
          [
           37,
           125,
           "DSB Iba1 37_40X_CTX3"
          ],
          [
           37,
           126,
           "DSB Iba1 37_40X_DG"
          ],
          [
           38,
           127,
           "DSB Iba1 38_40X_DG"
          ],
          [
           39,
           128,
           "DSB Iba1 39_40X_CA1"
          ],
          [
           39,
           129,
           "DSB Iba1 39_40X_CA3"
          ],
          [
           39,
           130,
           "DSB Iba1 39_40X_CTX1"
          ],
          [
           39,
           131,
           "DSB Iba1 39_40X_CTX2"
          ],
          [
           39,
           132,
           "DSB Iba1 39_40X_CTX3"
          ],
          [
           39,
           133,
           "DSB Iba1 39_40X_DG"
          ],
          [
           40,
           134,
           "DSB Iba1 40_40X_CA1"
          ],
          [
           40,
           135,
           "DSB Iba1 40_40X_CA3"
          ],
          [
           40,
           136,
           "DSB Iba1 40_40X_CTX1"
          ],
          [
           40,
           137,
           "DSB Iba1 40_40X_CTX2"
          ],
          [
           40,
           138,
           "DSB Iba1 40_40X_CTX3"
          ],
          [
           40,
           139,
           "DSB Iba1 40_40X_DG"
          ],
          [
           41,
           140,
           "DSB Iba1 41_40X_CA1"
          ],
          [
           41,
           141,
           "DSB Iba1 41_40X_CA3"
          ],
          [
           41,
           142,
           "DSB Iba1 41_40X_CTX1"
          ],
          [
           41,
           143,
           "DSB Iba1 41_40X_CTX2"
          ],
          [
           41,
           144,
           "DSB Iba1 41_40X_CTX3"
          ],
          [
           41,
           145,
           "DSB Iba1 41_40X_DG"
          ],
          [
           42,
           146,
           "DSB Iba1 42_40X_CA1"
          ],
          [
           42,
           147,
           "DSB Iba1 42_40X_CA3"
          ],
          [
           42,
           148,
           "DSB Iba1 42_40X_CTX1"
          ],
          [
           42,
           149,
           "DSB Iba1 42_40X_CTX2"
          ],
          [
           42,
           150,
           "DSB Iba1 42_40X_CTX3"
          ],
          [
           42,
           151,
           "DSB Iba1 42_40X_DG"
          ],
          [
           43,
           152,
           "DSB Iba1 43_40X_CA1"
          ],
          [
           43,
           153,
           "DSB Iba1 43_40X_CA3"
          ],
          [
           43,
           154,
           "DSB Iba1 43_40X_CTX1"
          ],
          [
           43,
           155,
           "DSB Iba1 43_40X_CTX2"
          ],
          [
           43,
           156,
           "DSB Iba1 43_40X_CTX3"
          ],
          [
           43,
           157,
           "DSB Iba1 43_40X_DG"
          ],
          [
           44,
           158,
           "DSB Iba1 44_40X_CA1"
          ],
          [
           44,
           159,
           "DSB Iba1 44_40X_CA3"
          ],
          [
           44,
           160,
           "DSB Iba1 44_40X_CTX1"
          ],
          [
           44,
           161,
           "DSB Iba1 44_40X_DG"
          ],
          [
           45,
           162,
           "DSB Iba1 45_40X_CA1"
          ],
          [
           45,
           163,
           "DSB Iba1 45_40X_CA3"
          ],
          [
           45,
           164,
           "DSB Iba1 45_40X_CTX1"
          ],
          [
           45,
           165,
           "DSB Iba1 45_40X_CTX2"
          ],
          [
           45,
           166,
           "DSB Iba1 45_40X_CTX3"
          ],
          [
           45,
           167,
           "DSB Iba1 45_40X_DG"
          ],
          [
           46,
           168,
           "DSB Iba1 46_40X_CA1"
          ],
          [
           46,
           169,
           "DSB Iba1 46_40X_CA3"
          ],
          [
           46,
           170,
           "DSB Iba1 46_40X_CTX1"
          ],
          [
           46,
           171,
           "DSB Iba1 46_40X_CTX2"
          ],
          [
           46,
           172,
           "DSB Iba1 46_40X_CTX3"
          ],
          [
           46,
           173,
           "DSB Iba1 46_40X_DG"
          ],
          [
           47,
           174,
           "DSB Iba1 47_40X_CA1"
          ],
          [
           47,
           175,
           "DSB Iba1 47_40X_CA3"
          ],
          [
           47,
           176,
           "DSB Iba1 47_40X_CTX1"
          ],
          [
           47,
           177,
           "DSB Iba1 47_40X_CTX2"
          ],
          [
           47,
           178,
           "DSB Iba1 47_40X_CTX3"
          ],
          [
           47,
           179,
           "DSB Iba1 47_40X_DG"
          ],
          [
           48,
           180,
           "DSB Iba1 48_40X_CA1"
          ],
          [
           48,
           181,
           "DSB Iba1 48_40X_CA3"
          ],
          [
           48,
           182,
           "DSB Iba1 48_40X_CTX1"
          ],
          [
           48,
           183,
           "DSB Iba1 48_40X_CTX2"
          ],
          [
           48,
           184,
           "DSB Iba1 48_40X_CTX3"
          ],
          [
           48,
           185,
           "DSB Iba1 48_40X_DG"
          ],
          [
           49,
           186,
           "DSB Iba1 49_40X_CA1"
          ],
          [
           49,
           187,
           "DSB Iba1 49_40X_CA3"
          ],
          [
           49,
           188,
           "DSB Iba1 49_40X_CTX1"
          ],
          [
           49,
           189,
           "DSB Iba1 49_40X_CTX2"
          ],
          [
           49,
           190,
           "DSB Iba1 49_40X_CTX3"
          ],
          [
           49,
           191,
           "DSB Iba1 49_40X_DG"
          ],
          [
           50,
           192,
           "DSB Iba1 50_40X_CA1"
          ],
          [
           50,
           193,
           "DSB Iba1 50_40X_CA3"
          ],
          [
           50,
           194,
           "DSB Iba1 50_40X_CTX1"
          ],
          [
           50,
           195,
           "DSB Iba1 50_40X_CTX2"
          ],
          [
           50,
           196,
           "DSB Iba1 50_40X_CTX3"
          ],
          [
           50,
           197,
           "DSB Iba1 50_40X_DG"
          ],
          [
           51,
           198,
           "DSB Iba1 51_40X_CA1"
          ],
          [
           51,
           199,
           "DSB Iba1 51_40X_CA3"
          ],
          [
           51,
           200,
           "DSB Iba1 51_40X_CTX1"
          ],
          [
           51,
           201,
           "DSB Iba1 51_40X_CTX2"
          ],
          [
           51,
           202,
           "DSB Iba1 51_40X_CTX3"
          ],
          [
           51,
           203,
           "DSB Iba1 51_40X_DG"
          ],
          [
           52,
           204,
           "DSB Iba1 52_40X_CA1"
          ],
          [
           52,
           205,
           "DSB Iba1 52_40X_CA3"
          ],
          [
           52,
           206,
           "DSB Iba1 52_40X_CTX1"
          ],
          [
           52,
           207,
           "DSB Iba1 52_40X_CTX2"
          ],
          [
           52,
           208,
           "DSB Iba1 52_40X_CTX3"
          ],
          [
           52,
           209,
           "DSB Iba1 52_40X_DG"
          ],
          [
           53,
           210,
           "DSB Iba1 53_40X_CA1"
          ],
          [
           53,
           211,
           "DSB Iba1 53_40X_CA3"
          ],
          [
           53,
           212,
           "DSB Iba1 53_40X_CTX1"
          ],
          [
           53,
           213,
           "DSB Iba1 53_40X_CTX2"
          ],
          [
           53,
           214,
           "DSB Iba1 53_40X_CTX3"
          ],
          [
           53,
           215,
           "DSB Iba1 53_40X_DG"
          ],
          [
           54,
           216,
           "DSB Iba1 54_40X_CA1"
          ],
          [
           54,
           217,
           "DSB Iba1 54_40X_CA3"
          ],
          [
           54,
           218,
           "DSB Iba1 54_40X_CTX1"
          ],
          [
           54,
           219,
           "DSB Iba1 54_40X_CTX2"
          ],
          [
           54,
           220,
           "DSB Iba1 54_40X_CTX3"
          ],
          [
           54,
           221,
           "DSB Iba1 54_40X_DG"
          ],
          [
           55,
           222,
           "DSB Iba1 55_40X_CA1"
          ],
          [
           55,
           223,
           "DSB Iba1 55_40X_CA3"
          ],
          [
           55,
           224,
           "DSB Iba1 55_40X_CTX1"
          ],
          [
           55,
           225,
           "DSB Iba1 55_40X_CTX2"
          ],
          [
           55,
           226,
           "DSB Iba1 55_40X_CTX3"
          ],
          [
           55,
           227,
           "DSB Iba1 55_40X_DG"
          ],
          [
           56,
           228,
           "DSB Iba1 56_40X_CA1"
          ],
          [
           56,
           229,
           "DSB Iba1 56_40X_CA3"
          ],
          [
           56,
           230,
           "DSB Iba1 56_40X_CTX1"
          ],
          [
           56,
           231,
           "DSB Iba1 56_40X_CTX2"
          ],
          [
           56,
           232,
           "DSB Iba1 56_40X_CTX3"
          ],
          [
           56,
           233,
           "DSB Iba1 56_40X_DG"
          ],
          [
           57,
           234,
           "DSB Iba1 57_40X_CA1"
          ],
          [
           57,
           235,
           "DSB Iba1 57_40X_CA3"
          ],
          [
           57,
           236,
           "DSB Iba1 57_40X_CTX1"
          ],
          [
           57,
           237,
           "DSB Iba1 57_40X_CTX2"
          ],
          [
           57,
           238,
           "DSB Iba1 57_40X_CTX3"
          ],
          [
           57,
           239,
           "DSB Iba1 57_40X_DG"
          ],
          [
           58,
           240,
           "DSB Iba1 58_40X_CA1"
          ],
          [
           58,
           241,
           "DSB Iba1 58_40X_CA3"
          ],
          [
           58,
           242,
           "DSB Iba1 58_40X_CTX1"
          ],
          [
           58,
           243,
           "DSB Iba1 58_40X_CTX2"
          ],
          [
           58,
           244,
           "DSB Iba1 58_40X_CTX3"
          ],
          [
           58,
           245,
           "DSB Iba1 58_40X_DG"
          ],
          [
           59,
           246,
           "DSB Iba1 59_40X_CA1"
          ],
          [
           59,
           247,
           "DSB Iba1 59_40X_CA3"
          ],
          [
           59,
           248,
           "DSB Iba1 59_40X_CTX1"
          ],
          [
           59,
           249,
           "DSB Iba1 59_40X_CTX2"
          ],
          [
           59,
           250,
           "DSB Iba1 59_40X_CTX3"
          ],
          [
           59,
           251,
           "DSB Iba1 59_40X_DG"
          ]
         ],
         "hovertemplate": "tissue_location=%{x}<br>avg_dna_damage_foci/all_nuclei=%{y}<br>staining_id=%{customdata[0]}<br>index=%{customdata[1]}<br>filename=%{customdata[2]}<extra></extra>",
         "legendgroup": "",
         "marker": {
          "color": "#636efa",
          "symbol": "circle"
         },
         "mode": "markers",
         "name": "",
         "orientation": "v",
         "showlegend": false,
         "type": "scatter",
         "x": [
          "CA1",
          "CA3",
          "CTX1",
          "CTX2",
          "CTX3",
          "DG",
          "CA1",
          "CA3",
          "CTX1",
          "CTX2",
          "CTX3",
          "DG",
          "CA1",
          "CA3",
          "CTX1",
          "CTX2",
          "CTX3",
          "DG",
          "CA1",
          "CA3",
          "CTX1",
          "CTX2",
          "CTX3",
          "DG",
          "CA1",
          "CA3",
          "CTX1",
          "CTX2",
          "CTX3",
          "DG",
          "CA1",
          "CA3",
          "CTX1",
          "CTX2",
          "CTX3",
          "DG",
          "CA1",
          "CA3",
          "CTX1",
          "CTX2",
          "CTX3",
          "DG",
          "CA1",
          "CA3",
          "CTX1",
          "CTX2",
          "CTX3",
          "DG",
          "CA1",
          "CA3",
          "CTX1",
          "CTX2",
          "CTX3",
          "DG",
          "CA1",
          "CA3",
          "CTX1",
          "CTX2",
          "CTX3",
          "DG",
          "CA1",
          "CA3",
          "CTX1",
          "CTX2",
          "CTX3",
          "DG",
          "DG",
          "CA1",
          "CA3",
          "CTX1",
          "CTX2",
          "CTX3",
          "DG",
          "CA1",
          "CA3",
          "CTX1",
          "CTX2",
          "CTX3",
          "DG",
          "CA1",
          "CA3",
          "CTX1",
          "CTX2",
          "CTX3",
          "DG",
          "CA1",
          "CA3",
          "CTX1",
          "CTX2",
          "CTX3",
          "DG",
          "CA1",
          "CA3",
          "CTX1",
          "CTX2",
          "CTX3",
          "DG",
          "CA1",
          "CA3",
          "CTX1",
          "CTX2",
          "CTX3",
          "DG",
          "CA1",
          "CA3",
          "CTX1",
          "CTX2",
          "CTX3",
          "DG",
          "CA1",
          "CA3",
          "CTX1",
          "CTX2",
          "CTX3",
          "DG",
          "CA1",
          "CA3",
          "CTX1",
          "CTX2",
          "CTX3",
          "DG",
          "CA1",
          "CA3",
          "CTX1",
          "CTX2",
          "CTX3",
          "DG",
          "DG",
          "CA1",
          "CA3",
          "CTX1",
          "CTX2",
          "CTX3",
          "DG",
          "CA1",
          "CA3",
          "CTX1",
          "CTX2",
          "CTX3",
          "DG",
          "CA1",
          "CA3",
          "CTX1",
          "CTX2",
          "CTX3",
          "DG",
          "CA1",
          "CA3",
          "CTX1",
          "CTX2",
          "CTX3",
          "DG",
          "CA1",
          "CA3",
          "CTX1",
          "CTX2",
          "CTX3",
          "DG",
          "CA1",
          "CA3",
          "CTX1",
          "DG",
          "CA1",
          "CA3",
          "CTX1",
          "CTX2",
          "CTX3",
          "DG",
          "CA1",
          "CA3",
          "CTX1",
          "CTX2",
          "CTX3",
          "DG",
          "CA1",
          "CA3",
          "CTX1",
          "CTX2",
          "CTX3",
          "DG",
          "CA1",
          "CA3",
          "CTX1",
          "CTX2",
          "CTX3",
          "DG",
          "CA1",
          "CA3",
          "CTX1",
          "CTX2",
          "CTX3",
          "DG",
          "CA1",
          "CA3",
          "CTX1",
          "CTX2",
          "CTX3",
          "DG",
          "CA1",
          "CA3",
          "CTX1",
          "CTX2",
          "CTX3",
          "DG",
          "CA1",
          "CA3",
          "CTX1",
          "CTX2",
          "CTX3",
          "DG",
          "CA1",
          "CA3",
          "CTX1",
          "CTX2",
          "CTX3",
          "DG",
          "CA1",
          "CA3",
          "CTX1",
          "CTX2",
          "CTX3",
          "DG",
          "CA1",
          "CA3",
          "CTX1",
          "CTX2",
          "CTX3",
          "DG",
          "CA1",
          "CA3",
          "CTX1",
          "CTX2",
          "CTX3",
          "DG",
          "CA1",
          "CA3",
          "CTX1",
          "CTX2",
          "CTX3",
          "DG",
          "CA1",
          "CA3",
          "CTX1",
          "CTX2",
          "CTX3",
          "DG",
          "CA1",
          "CA3",
          "CTX1",
          "CTX2",
          "CTX3",
          "DG"
         ],
         "xaxis": "x",
         "y": [
          0.8362068965517241,
          4.40625,
          0.6483516483516484,
          2.327067669172932,
          1.7385892116182573,
          0.6535087719298246,
          2.76530612244898,
          3.6174863387978142,
          1.2769230769230768,
          2.552980132450331,
          2.8944444444444444,
          2.543560606060606,
          2.5347222222222223,
          4.074074074074074,
          1.88,
          3.7294117647058815,
          2.5789473684210527,
          1.8034188034188037,
          1,
          1.0136986301369864,
          1.0047169811320755,
          1.0444444444444445,
          1,
          1,
          0.6645161290322581,
          1.3245614035087718,
          0.5151515151515151,
          1.069182389937107,
          0.532608695652174,
          1.435483870967742,
          0.851063829787234,
          1,
          0.695,
          0.7688888888888888,
          1.0824742268041236,
          1.1310679611650485,
          1.206896551724138,
          1.2302158273381294,
          1.2880658436213992,
          1.0454545454545454,
          0.3928571428571428,
          1.633838383838384,
          0.6617647058823529,
          0.6491228070175439,
          0.387434554973822,
          0.075,
          0.7905405405405406,
          1.122969837587007,
          0.5642458100558659,
          0.6,
          0.1933701657458563,
          0.4555984555984556,
          0.5473684210526316,
          0.1348314606741573,
          1.6158940397350994,
          1.9197080291970805,
          0.6090225563909775,
          1.78125,
          2.2216216216216216,
          2.067469879518072,
          3.4571428571428573,
          3.796875,
          1.9553571428571428,
          2.411764705882353,
          1.594059405940594,
          3.54957507082153,
          2.2764976958525347,
          0.8023255813953488,
          0.5223880597014925,
          0.6923076923076923,
          0.927536231884058,
          1.3451776649746192,
          2.452247191011236,
          0.7718120805369127,
          0.6386554621848739,
          0.7939698492462312,
          1.177664974619289,
          0.5952380952380952,
          1.025974025974026,
          0.528169014084507,
          0.8543689320388349,
          0.4444444444444444,
          0.5152671755725191,
          0.3668341708542713,
          1.1607629427792916,
          1.0059880239520955,
          0.9672131147540984,
          0.4766839378238341,
          0.6208333333333333,
          0.9178082191780822,
          1.6540880503144657,
          4.491891891891892,
          3.903703703703704,
          4.686206896551724,
          2.533613445378151,
          4.117977528089888,
          3.861575178997613,
          0.759493670886076,
          0.9619565217391304,
          0.6696428571428571,
          1.3214285714285714,
          0.8301886792452831,
          1.528169014084507,
          3.9518716577540105,
          5.311787072243346,
          3.251700680272109,
          3.285171102661597,
          2.2740384615384617,
          4.117824773413897,
          0.5157894736842106,
          3.893258426966292,
          0.6504065040650406,
          2.146067415730337,
          3.231527093596059,
          2.8708920187793425,
          1.0666666666666669,
          1,
          1.9855769230769231,
          1.264840182648402,
          1.1965317919075145,
          1.663716814159292,
          1.2692307692307692,
          1.6164383561643836,
          1.6403508771929824,
          2.2758620689655173,
          1.4883720930232558,
          1.911845730027548,
          1.276190476190476,
          0.8125,
          0.9111111111111112,
          0.369047619047619,
          0.4,
          0.2450331125827814,
          0.7377049180327869,
          0.363013698630137,
          0.7272727272727273,
          0.6645161290322581,
          0.6242038216560509,
          0.6486486486486487,
          1.189102564102564,
          0.6225165562913907,
          0.5,
          0.0736196319018405,
          0.1405405405405405,
          0.1785714285714285,
          1.0633608815426998,
          0.4137931034482758,
          0.8058252427184466,
          0.5238095238095238,
          0.5225806451612903,
          0.7746478873239436,
          0.8067010309278351,
          0.3154362416107382,
          1.2772277227722773,
          1.4035874439461884,
          0.4009661835748792,
          0.9282296650717704,
          2.459537572254335,
          1.5036496350364963,
          1.7373737373737377,
          1.337552742616034,
          1.7467248908296944,
          1.922619047619048,
          1.548780487804878,
          0.5304347826086957,
          0.3828828828828828,
          0.4492753623188406,
          2.2536945812807883,
          2.9642857142857144,
          4,
          2.973584905660377,
          2.111498257839721,
          2.925311203319502,
          2.68944099378882,
          1.4210526315789471,
          4.093023255813954,
          0.6153846153846154,
          3.01423487544484,
          1.6936936936936935,
          3.888888888888889,
          1.1333333333333333,
          0.6195652173913043,
          0.691304347826087,
          0.7406015037593985,
          0.7831858407079646,
          1.7268041237113405,
          2.551515151515152,
          2.7868852459016398,
          1.6125,
          1.7382198952879582,
          1.2014388489208634,
          2.992957746478873,
          0.1866666666666666,
          0.4758064516129032,
          0.0157480314960629,
          0.180672268907563,
          0.7905759162303665,
          0.343811394891945,
          0.375,
          0.811965811965812,
          0.2876712328767123,
          0.2227272727272727,
          0.4530386740331492,
          0.8927613941018767,
          0.3939393939393939,
          0.6122448979591837,
          0.2903225806451613,
          0.5,
          0.5257731958762887,
          0.5926966292134831,
          3.311111111111111,
          3.736196319018405,
          2.048872180451128,
          1.755,
          1.818840579710145,
          3.3607142857142858,
          0.5692307692307692,
          1.062992125984252,
          0.6907216494845361,
          0.7251461988304093,
          0.7797619047619048,
          1.2145110410094635,
          0.4961240310077519,
          0.6210526315789474,
          0.0534351145038167,
          0.7847222222222222,
          0.188235294117647,
          0.8403990024937655,
          0.5095541401273885,
          0.6515151515151515,
          0.5056179775280899,
          0.3388429752066115,
          0.3351063829787234,
          0.7286063569682152,
          2.1621621621621623,
          4.255952380952381,
          0.3698113207547169,
          0.3571428571428571,
          0.190721649484536,
          1.8514285714285716,
          0.6528925619834711,
          0.8761061946902655,
          0.5886524822695035,
          0.837696335078534,
          0.5677083333333334,
          0.7709677419354839,
          0.6390532544378699,
          0.45,
          0.6515151515151515,
          0.4041095890410959,
          0.4962962962962963,
          0.9853372434017597
         ],
         "yaxis": "y"
        }
       ],
       "layout": {
        "legend": {
         "tracegroupgap": 0
        },
        "template": {
         "data": {
          "bar": [
           {
            "error_x": {
             "color": "#2a3f5f"
            },
            "error_y": {
             "color": "#2a3f5f"
            },
            "marker": {
             "line": {
              "color": "#E5ECF6",
              "width": 0.5
             },
             "pattern": {
              "fillmode": "overlay",
              "size": 10,
              "solidity": 0.2
             }
            },
            "type": "bar"
           }
          ],
          "barpolar": [
           {
            "marker": {
             "line": {
              "color": "#E5ECF6",
              "width": 0.5
             },
             "pattern": {
              "fillmode": "overlay",
              "size": 10,
              "solidity": 0.2
             }
            },
            "type": "barpolar"
           }
          ],
          "carpet": [
           {
            "aaxis": {
             "endlinecolor": "#2a3f5f",
             "gridcolor": "white",
             "linecolor": "white",
             "minorgridcolor": "white",
             "startlinecolor": "#2a3f5f"
            },
            "baxis": {
             "endlinecolor": "#2a3f5f",
             "gridcolor": "white",
             "linecolor": "white",
             "minorgridcolor": "white",
             "startlinecolor": "#2a3f5f"
            },
            "type": "carpet"
           }
          ],
          "choropleth": [
           {
            "colorbar": {
             "outlinewidth": 0,
             "ticks": ""
            },
            "type": "choropleth"
           }
          ],
          "contour": [
           {
            "colorbar": {
             "outlinewidth": 0,
             "ticks": ""
            },
            "colorscale": [
             [
              0,
              "#0d0887"
             ],
             [
              0.1111111111111111,
              "#46039f"
             ],
             [
              0.2222222222222222,
              "#7201a8"
             ],
             [
              0.3333333333333333,
              "#9c179e"
             ],
             [
              0.4444444444444444,
              "#bd3786"
             ],
             [
              0.5555555555555556,
              "#d8576b"
             ],
             [
              0.6666666666666666,
              "#ed7953"
             ],
             [
              0.7777777777777778,
              "#fb9f3a"
             ],
             [
              0.8888888888888888,
              "#fdca26"
             ],
             [
              1,
              "#f0f921"
             ]
            ],
            "type": "contour"
           }
          ],
          "contourcarpet": [
           {
            "colorbar": {
             "outlinewidth": 0,
             "ticks": ""
            },
            "type": "contourcarpet"
           }
          ],
          "heatmap": [
           {
            "colorbar": {
             "outlinewidth": 0,
             "ticks": ""
            },
            "colorscale": [
             [
              0,
              "#0d0887"
             ],
             [
              0.1111111111111111,
              "#46039f"
             ],
             [
              0.2222222222222222,
              "#7201a8"
             ],
             [
              0.3333333333333333,
              "#9c179e"
             ],
             [
              0.4444444444444444,
              "#bd3786"
             ],
             [
              0.5555555555555556,
              "#d8576b"
             ],
             [
              0.6666666666666666,
              "#ed7953"
             ],
             [
              0.7777777777777778,
              "#fb9f3a"
             ],
             [
              0.8888888888888888,
              "#fdca26"
             ],
             [
              1,
              "#f0f921"
             ]
            ],
            "type": "heatmap"
           }
          ],
          "heatmapgl": [
           {
            "colorbar": {
             "outlinewidth": 0,
             "ticks": ""
            },
            "colorscale": [
             [
              0,
              "#0d0887"
             ],
             [
              0.1111111111111111,
              "#46039f"
             ],
             [
              0.2222222222222222,
              "#7201a8"
             ],
             [
              0.3333333333333333,
              "#9c179e"
             ],
             [
              0.4444444444444444,
              "#bd3786"
             ],
             [
              0.5555555555555556,
              "#d8576b"
             ],
             [
              0.6666666666666666,
              "#ed7953"
             ],
             [
              0.7777777777777778,
              "#fb9f3a"
             ],
             [
              0.8888888888888888,
              "#fdca26"
             ],
             [
              1,
              "#f0f921"
             ]
            ],
            "type": "heatmapgl"
           }
          ],
          "histogram": [
           {
            "marker": {
             "pattern": {
              "fillmode": "overlay",
              "size": 10,
              "solidity": 0.2
             }
            },
            "type": "histogram"
           }
          ],
          "histogram2d": [
           {
            "colorbar": {
             "outlinewidth": 0,
             "ticks": ""
            },
            "colorscale": [
             [
              0,
              "#0d0887"
             ],
             [
              0.1111111111111111,
              "#46039f"
             ],
             [
              0.2222222222222222,
              "#7201a8"
             ],
             [
              0.3333333333333333,
              "#9c179e"
             ],
             [
              0.4444444444444444,
              "#bd3786"
             ],
             [
              0.5555555555555556,
              "#d8576b"
             ],
             [
              0.6666666666666666,
              "#ed7953"
             ],
             [
              0.7777777777777778,
              "#fb9f3a"
             ],
             [
              0.8888888888888888,
              "#fdca26"
             ],
             [
              1,
              "#f0f921"
             ]
            ],
            "type": "histogram2d"
           }
          ],
          "histogram2dcontour": [
           {
            "colorbar": {
             "outlinewidth": 0,
             "ticks": ""
            },
            "colorscale": [
             [
              0,
              "#0d0887"
             ],
             [
              0.1111111111111111,
              "#46039f"
             ],
             [
              0.2222222222222222,
              "#7201a8"
             ],
             [
              0.3333333333333333,
              "#9c179e"
             ],
             [
              0.4444444444444444,
              "#bd3786"
             ],
             [
              0.5555555555555556,
              "#d8576b"
             ],
             [
              0.6666666666666666,
              "#ed7953"
             ],
             [
              0.7777777777777778,
              "#fb9f3a"
             ],
             [
              0.8888888888888888,
              "#fdca26"
             ],
             [
              1,
              "#f0f921"
             ]
            ],
            "type": "histogram2dcontour"
           }
          ],
          "mesh3d": [
           {
            "colorbar": {
             "outlinewidth": 0,
             "ticks": ""
            },
            "type": "mesh3d"
           }
          ],
          "parcoords": [
           {
            "line": {
             "colorbar": {
              "outlinewidth": 0,
              "ticks": ""
             }
            },
            "type": "parcoords"
           }
          ],
          "pie": [
           {
            "automargin": true,
            "type": "pie"
           }
          ],
          "scatter": [
           {
            "fillpattern": {
             "fillmode": "overlay",
             "size": 10,
             "solidity": 0.2
            },
            "type": "scatter"
           }
          ],
          "scatter3d": [
           {
            "line": {
             "colorbar": {
              "outlinewidth": 0,
              "ticks": ""
             }
            },
            "marker": {
             "colorbar": {
              "outlinewidth": 0,
              "ticks": ""
             }
            },
            "type": "scatter3d"
           }
          ],
          "scattercarpet": [
           {
            "marker": {
             "colorbar": {
              "outlinewidth": 0,
              "ticks": ""
             }
            },
            "type": "scattercarpet"
           }
          ],
          "scattergeo": [
           {
            "marker": {
             "colorbar": {
              "outlinewidth": 0,
              "ticks": ""
             }
            },
            "type": "scattergeo"
           }
          ],
          "scattergl": [
           {
            "marker": {
             "colorbar": {
              "outlinewidth": 0,
              "ticks": ""
             }
            },
            "type": "scattergl"
           }
          ],
          "scattermapbox": [
           {
            "marker": {
             "colorbar": {
              "outlinewidth": 0,
              "ticks": ""
             }
            },
            "type": "scattermapbox"
           }
          ],
          "scatterpolar": [
           {
            "marker": {
             "colorbar": {
              "outlinewidth": 0,
              "ticks": ""
             }
            },
            "type": "scatterpolar"
           }
          ],
          "scatterpolargl": [
           {
            "marker": {
             "colorbar": {
              "outlinewidth": 0,
              "ticks": ""
             }
            },
            "type": "scatterpolargl"
           }
          ],
          "scatterternary": [
           {
            "marker": {
             "colorbar": {
              "outlinewidth": 0,
              "ticks": ""
             }
            },
            "type": "scatterternary"
           }
          ],
          "surface": [
           {
            "colorbar": {
             "outlinewidth": 0,
             "ticks": ""
            },
            "colorscale": [
             [
              0,
              "#0d0887"
             ],
             [
              0.1111111111111111,
              "#46039f"
             ],
             [
              0.2222222222222222,
              "#7201a8"
             ],
             [
              0.3333333333333333,
              "#9c179e"
             ],
             [
              0.4444444444444444,
              "#bd3786"
             ],
             [
              0.5555555555555556,
              "#d8576b"
             ],
             [
              0.6666666666666666,
              "#ed7953"
             ],
             [
              0.7777777777777778,
              "#fb9f3a"
             ],
             [
              0.8888888888888888,
              "#fdca26"
             ],
             [
              1,
              "#f0f921"
             ]
            ],
            "type": "surface"
           }
          ],
          "table": [
           {
            "cells": {
             "fill": {
              "color": "#EBF0F8"
             },
             "line": {
              "color": "white"
             }
            },
            "header": {
             "fill": {
              "color": "#C8D4E3"
             },
             "line": {
              "color": "white"
             }
            },
            "type": "table"
           }
          ]
         },
         "layout": {
          "annotationdefaults": {
           "arrowcolor": "#2a3f5f",
           "arrowhead": 0,
           "arrowwidth": 1
          },
          "autotypenumbers": "strict",
          "coloraxis": {
           "colorbar": {
            "outlinewidth": 0,
            "ticks": ""
           }
          },
          "colorscale": {
           "diverging": [
            [
             0,
             "#8e0152"
            ],
            [
             0.1,
             "#c51b7d"
            ],
            [
             0.2,
             "#de77ae"
            ],
            [
             0.3,
             "#f1b6da"
            ],
            [
             0.4,
             "#fde0ef"
            ],
            [
             0.5,
             "#f7f7f7"
            ],
            [
             0.6,
             "#e6f5d0"
            ],
            [
             0.7,
             "#b8e186"
            ],
            [
             0.8,
             "#7fbc41"
            ],
            [
             0.9,
             "#4d9221"
            ],
            [
             1,
             "#276419"
            ]
           ],
           "sequential": [
            [
             0,
             "#0d0887"
            ],
            [
             0.1111111111111111,
             "#46039f"
            ],
            [
             0.2222222222222222,
             "#7201a8"
            ],
            [
             0.3333333333333333,
             "#9c179e"
            ],
            [
             0.4444444444444444,
             "#bd3786"
            ],
            [
             0.5555555555555556,
             "#d8576b"
            ],
            [
             0.6666666666666666,
             "#ed7953"
            ],
            [
             0.7777777777777778,
             "#fb9f3a"
            ],
            [
             0.8888888888888888,
             "#fdca26"
            ],
            [
             1,
             "#f0f921"
            ]
           ],
           "sequentialminus": [
            [
             0,
             "#0d0887"
            ],
            [
             0.1111111111111111,
             "#46039f"
            ],
            [
             0.2222222222222222,
             "#7201a8"
            ],
            [
             0.3333333333333333,
             "#9c179e"
            ],
            [
             0.4444444444444444,
             "#bd3786"
            ],
            [
             0.5555555555555556,
             "#d8576b"
            ],
            [
             0.6666666666666666,
             "#ed7953"
            ],
            [
             0.7777777777777778,
             "#fb9f3a"
            ],
            [
             0.8888888888888888,
             "#fdca26"
            ],
            [
             1,
             "#f0f921"
            ]
           ]
          },
          "colorway": [
           "#636efa",
           "#EF553B",
           "#00cc96",
           "#ab63fa",
           "#FFA15A",
           "#19d3f3",
           "#FF6692",
           "#B6E880",
           "#FF97FF",
           "#FECB52"
          ],
          "font": {
           "color": "#2a3f5f"
          },
          "geo": {
           "bgcolor": "white",
           "lakecolor": "white",
           "landcolor": "#E5ECF6",
           "showlakes": true,
           "showland": true,
           "subunitcolor": "white"
          },
          "hoverlabel": {
           "align": "left"
          },
          "hovermode": "closest",
          "mapbox": {
           "style": "light"
          },
          "paper_bgcolor": "white",
          "plot_bgcolor": "#E5ECF6",
          "polar": {
           "angularaxis": {
            "gridcolor": "white",
            "linecolor": "white",
            "ticks": ""
           },
           "bgcolor": "#E5ECF6",
           "radialaxis": {
            "gridcolor": "white",
            "linecolor": "white",
            "ticks": ""
           }
          },
          "scene": {
           "xaxis": {
            "backgroundcolor": "#E5ECF6",
            "gridcolor": "white",
            "gridwidth": 2,
            "linecolor": "white",
            "showbackground": true,
            "ticks": "",
            "zerolinecolor": "white"
           },
           "yaxis": {
            "backgroundcolor": "#E5ECF6",
            "gridcolor": "white",
            "gridwidth": 2,
            "linecolor": "white",
            "showbackground": true,
            "ticks": "",
            "zerolinecolor": "white"
           },
           "zaxis": {
            "backgroundcolor": "#E5ECF6",
            "gridcolor": "white",
            "gridwidth": 2,
            "linecolor": "white",
            "showbackground": true,
            "ticks": "",
            "zerolinecolor": "white"
           }
          },
          "shapedefaults": {
           "line": {
            "color": "#2a3f5f"
           }
          },
          "ternary": {
           "aaxis": {
            "gridcolor": "white",
            "linecolor": "white",
            "ticks": ""
           },
           "baxis": {
            "gridcolor": "white",
            "linecolor": "white",
            "ticks": ""
           },
           "bgcolor": "#E5ECF6",
           "caxis": {
            "gridcolor": "white",
            "linecolor": "white",
            "ticks": ""
           }
          },
          "title": {
           "x": 0.05
          },
          "xaxis": {
           "automargin": true,
           "gridcolor": "white",
           "linecolor": "white",
           "ticks": "",
           "title": {
            "standoff": 15
           },
           "zerolinecolor": "white",
           "zerolinewidth": 2
          },
          "yaxis": {
           "automargin": true,
           "gridcolor": "white",
           "linecolor": "white",
           "ticks": "",
           "title": {
            "standoff": 15
           },
           "zerolinecolor": "white",
           "zerolinewidth": 2
          }
         }
        },
        "title": {
         "text": "Average DNA damage foci in All Nuclei by Tissue Location - cellpdia30_sigma1_dilrad4_dnad_obj_seg_v1_gliaero6_gliathr20_dnadero2"
        },
        "xaxis": {
         "anchor": "y",
         "domain": [
          0,
          1
         ],
         "title": {
          "text": "tissue_location"
         }
        },
        "yaxis": {
         "anchor": "x",
         "domain": [
          0,
          1
         ],
         "title": {
          "text": "avg_dna_damage_foci/all_nuclei"
         }
        }
       }
      }
     },
     "metadata": {},
     "output_type": "display_data"
    }
   ],
   "source": [
    "# Create the plot\n",
    "fig = px.scatter(df, x='tissue_location', y='avg_dna_damage_foci/all_nuclei',\n",
    "                 hover_data=['staining_id','index','filename'], title=f\"Average DNA damage foci in All Nuclei by Tissue Location - {title}\")\n",
    "\n",
    "# Show the plot\n",
    "fig.show()"
   ]
  },
  {
   "cell_type": "code",
   "execution_count": 32,
   "metadata": {},
   "outputs": [
    {
     "data": {
      "application/vnd.plotly.v1+json": {
       "config": {
        "plotlyServerURL": "https://plot.ly"
       },
       "data": [
        {
         "customdata": [
          [
           16,
           0,
           "DSB Iba1 16_40X_CA1"
          ],
          [
           16,
           1,
           "DSB Iba1 16_40X_CA3"
          ],
          [
           16,
           2,
           "DSB Iba1 16_40X_CTX1"
          ],
          [
           16,
           3,
           "DSB Iba1 16_40X_CTX2"
          ],
          [
           16,
           4,
           "DSB Iba1 16_40X_CTX3"
          ],
          [
           16,
           5,
           "DSB Iba1 16_40X_DG"
          ],
          [
           17,
           6,
           "DSB Iba1 17_40X_CA1"
          ],
          [
           17,
           7,
           "DSB Iba1 17_40X_CA3"
          ],
          [
           17,
           8,
           "DSB Iba1 17_40X_CTX1"
          ],
          [
           17,
           9,
           "DSB Iba1 17_40X_CTX2"
          ],
          [
           17,
           10,
           "DSB Iba1 17_40X_CTX3"
          ],
          [
           17,
           11,
           "DSB Iba1 17_40X_DG"
          ],
          [
           18,
           12,
           "DSB Iba1 18_40X_CA1"
          ],
          [
           18,
           13,
           "DSB Iba1 18_40X_CA3"
          ],
          [
           18,
           14,
           "DSB Iba1 18_40X_CTX1"
          ],
          [
           18,
           15,
           "DSB Iba1 18_40X_CTX2"
          ],
          [
           18,
           16,
           "DSB Iba1 18_40X_CTX3"
          ],
          [
           18,
           17,
           "DSB Iba1 18_40X_DG"
          ],
          [
           19,
           18,
           "DSB Iba1 19_40X_CA1"
          ],
          [
           19,
           19,
           "DSB Iba1 19_40X_CA3"
          ],
          [
           19,
           20,
           "DSB Iba1 19_40X_CTX1"
          ],
          [
           19,
           21,
           "DSB Iba1 19_40X_CTX2"
          ],
          [
           19,
           22,
           "DSB Iba1 19_40X_CTX3"
          ],
          [
           19,
           23,
           "DSB Iba1 19_40X_DG"
          ],
          [
           20,
           24,
           "DSB Iba1 20_40X_CA1"
          ],
          [
           20,
           25,
           "DSB Iba1 20_40X_CA3"
          ],
          [
           20,
           26,
           "DSB Iba1 20_40X_CTX1"
          ],
          [
           20,
           27,
           "DSB Iba1 20_40X_CTX2"
          ],
          [
           20,
           28,
           "DSB Iba1 20_40X_CTX3"
          ],
          [
           20,
           29,
           "DSB Iba1 20_40X_DG"
          ],
          [
           21,
           30,
           "DSB Iba1 21_40X_CA1"
          ],
          [
           21,
           31,
           "DSB Iba1 21_40X_CA3"
          ],
          [
           21,
           32,
           "DSB Iba1 21_40X_CTX1"
          ],
          [
           21,
           33,
           "DSB Iba1 21_40X_CTX2"
          ],
          [
           21,
           34,
           "DSB Iba1 21_40X_CTX3"
          ],
          [
           21,
           35,
           "DSB Iba1 21_40X_DG"
          ],
          [
           22,
           36,
           "DSB Iba1 22_40X_CA1"
          ],
          [
           22,
           37,
           "DSB Iba1 22_40X_CA3"
          ],
          [
           22,
           38,
           "DSB Iba1 22_40X_CTX1"
          ],
          [
           22,
           39,
           "DSB Iba1 22_40X_CTX2"
          ],
          [
           22,
           40,
           "DSB Iba1 22_40X_CTX3"
          ],
          [
           22,
           41,
           "DSB Iba1 22_40X_DG"
          ],
          [
           23,
           42,
           "DSB Iba1 23_40X_CA1"
          ],
          [
           23,
           43,
           "DSB Iba1 23_40X_CA3"
          ],
          [
           23,
           44,
           "DSB Iba1 23_40X_CTX1"
          ],
          [
           23,
           45,
           "DSB Iba1 23_40X_CTX2"
          ],
          [
           23,
           46,
           "DSB Iba1 23_40X_CTX3"
          ],
          [
           23,
           47,
           "DSB Iba1 23_40X_DG"
          ],
          [
           24,
           48,
           "DSB Iba1 24_40X_CA1"
          ],
          [
           24,
           49,
           "DSB Iba1 24_40X_CA3"
          ],
          [
           24,
           50,
           "DSB Iba1 24_40X_CTX1"
          ],
          [
           24,
           51,
           "DSB Iba1 24_40X_CTX2"
          ],
          [
           24,
           52,
           "DSB Iba1 24_40X_CTX3"
          ],
          [
           24,
           53,
           "DSB Iba1 24_40X_DG"
          ],
          [
           25,
           54,
           "DSB Iba1 25_40X_CA1"
          ],
          [
           25,
           55,
           "DSB Iba1 25_40X_CA3"
          ],
          [
           25,
           56,
           "DSB Iba1 25_40X_CTX1"
          ],
          [
           25,
           57,
           "DSB Iba1 25_40X_CTX2"
          ],
          [
           25,
           58,
           "DSB Iba1 25_40X_CTX3"
          ],
          [
           25,
           59,
           "DSB Iba1 25_40X_DG"
          ],
          [
           26,
           60,
           "DSB Iba1 26_40X_CA1"
          ],
          [
           26,
           61,
           "DSB Iba1 26_40X_CA3"
          ],
          [
           26,
           62,
           "DSB Iba1 26_40X_CTX1"
          ],
          [
           26,
           63,
           "DSB Iba1 26_40X_CTX2"
          ],
          [
           26,
           64,
           "DSB Iba1 26_40X_CTX3"
          ],
          [
           26,
           65,
           "DSB Iba1 26_40X_DG"
          ],
          [
           27,
           66,
           "DSB Iba1 27_40X_DG"
          ],
          [
           28,
           67,
           "DSB Iba1 28_40X_CA1"
          ],
          [
           28,
           68,
           "DSB Iba1 28_40X_CA3"
          ],
          [
           28,
           69,
           "DSB Iba1 28_40X_CTX1"
          ],
          [
           28,
           70,
           "DSB Iba1 28_40X_CTX2"
          ],
          [
           28,
           71,
           "DSB Iba1 28_40X_CTX3"
          ],
          [
           28,
           72,
           "DSB Iba1 28_40X_DG"
          ],
          [
           29,
           73,
           "DSB Iba1 29_40X_CA1"
          ],
          [
           29,
           74,
           "DSB Iba1 29_40X_CA3"
          ],
          [
           29,
           75,
           "DSB Iba1 29_40X_CTX1"
          ],
          [
           29,
           76,
           "DSB Iba1 29_40X_CTX2"
          ],
          [
           29,
           77,
           "DSB Iba1 29_40X_CTX3"
          ],
          [
           29,
           78,
           "DSB Iba1 29_40X_DG"
          ],
          [
           30,
           79,
           "DSB Iba1 30_40X_CA1"
          ],
          [
           30,
           80,
           "DSB Iba1 30_40X_CA3"
          ],
          [
           30,
           81,
           "DSB Iba1 30_40X_CTX1"
          ],
          [
           30,
           82,
           "DSB Iba1 30_40X_CTX2"
          ],
          [
           30,
           83,
           "DSB Iba1 30_40X_CTX3"
          ],
          [
           30,
           84,
           "DSB Iba1 30_40X_DG"
          ],
          [
           31,
           85,
           "DSB Iba1 31_40X_CA1"
          ],
          [
           31,
           86,
           "DSB Iba1 31_40X_CA3"
          ],
          [
           31,
           87,
           "DSB Iba1 31_40X_CTX1"
          ],
          [
           31,
           88,
           "DSB Iba1 31_40X_CTX2"
          ],
          [
           31,
           89,
           "DSB Iba1 31_40X_CTX3"
          ],
          [
           31,
           90,
           "DSB Iba1 31_40X_DG"
          ],
          [
           32,
           91,
           "DSB Iba1 32_40X_CA1"
          ],
          [
           32,
           92,
           "DSB Iba1 32_40X_CA3"
          ],
          [
           32,
           93,
           "DSB Iba1 32_40X_CTX1"
          ],
          [
           32,
           94,
           "DSB Iba1 32_40X_CTX2"
          ],
          [
           32,
           95,
           "DSB Iba1 32_40X_CTX3"
          ],
          [
           32,
           96,
           "DSB Iba1 32_40X_DG"
          ],
          [
           33,
           97,
           "DSB Iba1 33_40X_CA1"
          ],
          [
           33,
           98,
           "DSB Iba1 33_40X_CA3"
          ],
          [
           33,
           99,
           "DSB Iba1 33_40X_CTX1"
          ],
          [
           33,
           100,
           "DSB Iba1 33_40X_CTX2"
          ],
          [
           33,
           101,
           "DSB Iba1 33_40X_CTX3"
          ],
          [
           33,
           102,
           "DSB Iba1 33_40X_DG"
          ],
          [
           34,
           103,
           "DSB Iba1 34_40X_CA1"
          ],
          [
           34,
           104,
           "DSB Iba1 34_40X_CA3"
          ],
          [
           34,
           105,
           "DSB Iba1 34_40X_CTX1"
          ],
          [
           34,
           106,
           "DSB Iba1 34_40X_CTX2"
          ],
          [
           34,
           107,
           "DSB Iba1 34_40X_CTX3"
          ],
          [
           34,
           108,
           "DSB Iba1 34_40X_DG"
          ],
          [
           35,
           109,
           "DSB Iba1 35_40X_CA1"
          ],
          [
           35,
           110,
           "DSB Iba1 35_40X_CA3"
          ],
          [
           35,
           111,
           "DSB Iba1 35_40X_CTX1"
          ],
          [
           35,
           112,
           "DSB Iba1 35_40X_CTX2"
          ],
          [
           35,
           113,
           "DSB Iba1 35_40X_CTX3"
          ],
          [
           35,
           114,
           "DSB Iba1 35_40X_DG"
          ],
          [
           36,
           115,
           "DSB Iba1 36_40X_CA1"
          ],
          [
           36,
           116,
           "DSB Iba1 36_40X_CA3"
          ],
          [
           36,
           117,
           "DSB Iba1 36_40X_CTX1"
          ],
          [
           36,
           118,
           "DSB Iba1 36_40X_CTX2"
          ],
          [
           36,
           119,
           "DSB Iba1 36_40X_CTX3"
          ],
          [
           36,
           120,
           "DSB Iba1 36_40X_DG"
          ],
          [
           37,
           121,
           "DSB Iba1 37_40X_CA1"
          ],
          [
           37,
           122,
           "DSB Iba1 37_40X_CA3"
          ],
          [
           37,
           123,
           "DSB Iba1 37_40X_CTX1"
          ],
          [
           37,
           124,
           "DSB Iba1 37_40X_CTX2"
          ],
          [
           37,
           125,
           "DSB Iba1 37_40X_CTX3"
          ],
          [
           37,
           126,
           "DSB Iba1 37_40X_DG"
          ],
          [
           38,
           127,
           "DSB Iba1 38_40X_DG"
          ],
          [
           39,
           128,
           "DSB Iba1 39_40X_CA1"
          ],
          [
           39,
           129,
           "DSB Iba1 39_40X_CA3"
          ],
          [
           39,
           130,
           "DSB Iba1 39_40X_CTX1"
          ],
          [
           39,
           131,
           "DSB Iba1 39_40X_CTX2"
          ],
          [
           39,
           132,
           "DSB Iba1 39_40X_CTX3"
          ],
          [
           39,
           133,
           "DSB Iba1 39_40X_DG"
          ],
          [
           40,
           134,
           "DSB Iba1 40_40X_CA1"
          ],
          [
           40,
           135,
           "DSB Iba1 40_40X_CA3"
          ],
          [
           40,
           136,
           "DSB Iba1 40_40X_CTX1"
          ],
          [
           40,
           137,
           "DSB Iba1 40_40X_CTX2"
          ],
          [
           40,
           138,
           "DSB Iba1 40_40X_CTX3"
          ],
          [
           40,
           139,
           "DSB Iba1 40_40X_DG"
          ],
          [
           41,
           140,
           "DSB Iba1 41_40X_CA1"
          ],
          [
           41,
           141,
           "DSB Iba1 41_40X_CA3"
          ],
          [
           41,
           142,
           "DSB Iba1 41_40X_CTX1"
          ],
          [
           41,
           143,
           "DSB Iba1 41_40X_CTX2"
          ],
          [
           41,
           144,
           "DSB Iba1 41_40X_CTX3"
          ],
          [
           41,
           145,
           "DSB Iba1 41_40X_DG"
          ],
          [
           42,
           146,
           "DSB Iba1 42_40X_CA1"
          ],
          [
           42,
           147,
           "DSB Iba1 42_40X_CA3"
          ],
          [
           42,
           148,
           "DSB Iba1 42_40X_CTX1"
          ],
          [
           42,
           149,
           "DSB Iba1 42_40X_CTX2"
          ],
          [
           42,
           150,
           "DSB Iba1 42_40X_CTX3"
          ],
          [
           42,
           151,
           "DSB Iba1 42_40X_DG"
          ],
          [
           43,
           152,
           "DSB Iba1 43_40X_CA1"
          ],
          [
           43,
           153,
           "DSB Iba1 43_40X_CA3"
          ],
          [
           43,
           154,
           "DSB Iba1 43_40X_CTX1"
          ],
          [
           43,
           155,
           "DSB Iba1 43_40X_CTX2"
          ],
          [
           43,
           156,
           "DSB Iba1 43_40X_CTX3"
          ],
          [
           43,
           157,
           "DSB Iba1 43_40X_DG"
          ],
          [
           44,
           158,
           "DSB Iba1 44_40X_CA1"
          ],
          [
           44,
           159,
           "DSB Iba1 44_40X_CA3"
          ],
          [
           44,
           160,
           "DSB Iba1 44_40X_CTX1"
          ],
          [
           44,
           161,
           "DSB Iba1 44_40X_DG"
          ],
          [
           45,
           162,
           "DSB Iba1 45_40X_CA1"
          ],
          [
           45,
           163,
           "DSB Iba1 45_40X_CA3"
          ],
          [
           45,
           164,
           "DSB Iba1 45_40X_CTX1"
          ],
          [
           45,
           165,
           "DSB Iba1 45_40X_CTX2"
          ],
          [
           45,
           166,
           "DSB Iba1 45_40X_CTX3"
          ],
          [
           45,
           167,
           "DSB Iba1 45_40X_DG"
          ],
          [
           46,
           168,
           "DSB Iba1 46_40X_CA1"
          ],
          [
           46,
           169,
           "DSB Iba1 46_40X_CA3"
          ],
          [
           46,
           170,
           "DSB Iba1 46_40X_CTX1"
          ],
          [
           46,
           171,
           "DSB Iba1 46_40X_CTX2"
          ],
          [
           46,
           172,
           "DSB Iba1 46_40X_CTX3"
          ],
          [
           46,
           173,
           "DSB Iba1 46_40X_DG"
          ],
          [
           47,
           174,
           "DSB Iba1 47_40X_CA1"
          ],
          [
           47,
           175,
           "DSB Iba1 47_40X_CA3"
          ],
          [
           47,
           176,
           "DSB Iba1 47_40X_CTX1"
          ],
          [
           47,
           177,
           "DSB Iba1 47_40X_CTX2"
          ],
          [
           47,
           178,
           "DSB Iba1 47_40X_CTX3"
          ],
          [
           47,
           179,
           "DSB Iba1 47_40X_DG"
          ],
          [
           48,
           180,
           "DSB Iba1 48_40X_CA1"
          ],
          [
           48,
           181,
           "DSB Iba1 48_40X_CA3"
          ],
          [
           48,
           182,
           "DSB Iba1 48_40X_CTX1"
          ],
          [
           48,
           183,
           "DSB Iba1 48_40X_CTX2"
          ],
          [
           48,
           184,
           "DSB Iba1 48_40X_CTX3"
          ],
          [
           48,
           185,
           "DSB Iba1 48_40X_DG"
          ],
          [
           49,
           186,
           "DSB Iba1 49_40X_CA1"
          ],
          [
           49,
           187,
           "DSB Iba1 49_40X_CA3"
          ],
          [
           49,
           188,
           "DSB Iba1 49_40X_CTX1"
          ],
          [
           49,
           189,
           "DSB Iba1 49_40X_CTX2"
          ],
          [
           49,
           190,
           "DSB Iba1 49_40X_CTX3"
          ],
          [
           49,
           191,
           "DSB Iba1 49_40X_DG"
          ],
          [
           50,
           192,
           "DSB Iba1 50_40X_CA1"
          ],
          [
           50,
           193,
           "DSB Iba1 50_40X_CA3"
          ],
          [
           50,
           194,
           "DSB Iba1 50_40X_CTX1"
          ],
          [
           50,
           195,
           "DSB Iba1 50_40X_CTX2"
          ],
          [
           50,
           196,
           "DSB Iba1 50_40X_CTX3"
          ],
          [
           50,
           197,
           "DSB Iba1 50_40X_DG"
          ],
          [
           51,
           198,
           "DSB Iba1 51_40X_CA1"
          ],
          [
           51,
           199,
           "DSB Iba1 51_40X_CA3"
          ],
          [
           51,
           200,
           "DSB Iba1 51_40X_CTX1"
          ],
          [
           51,
           201,
           "DSB Iba1 51_40X_CTX2"
          ],
          [
           51,
           202,
           "DSB Iba1 51_40X_CTX3"
          ],
          [
           51,
           203,
           "DSB Iba1 51_40X_DG"
          ],
          [
           52,
           204,
           "DSB Iba1 52_40X_CA1"
          ],
          [
           52,
           205,
           "DSB Iba1 52_40X_CA3"
          ],
          [
           52,
           206,
           "DSB Iba1 52_40X_CTX1"
          ],
          [
           52,
           207,
           "DSB Iba1 52_40X_CTX2"
          ],
          [
           52,
           208,
           "DSB Iba1 52_40X_CTX3"
          ],
          [
           52,
           209,
           "DSB Iba1 52_40X_DG"
          ],
          [
           53,
           210,
           "DSB Iba1 53_40X_CA1"
          ],
          [
           53,
           211,
           "DSB Iba1 53_40X_CA3"
          ],
          [
           53,
           212,
           "DSB Iba1 53_40X_CTX1"
          ],
          [
           53,
           213,
           "DSB Iba1 53_40X_CTX2"
          ],
          [
           53,
           214,
           "DSB Iba1 53_40X_CTX3"
          ],
          [
           53,
           215,
           "DSB Iba1 53_40X_DG"
          ],
          [
           54,
           216,
           "DSB Iba1 54_40X_CA1"
          ],
          [
           54,
           217,
           "DSB Iba1 54_40X_CA3"
          ],
          [
           54,
           218,
           "DSB Iba1 54_40X_CTX1"
          ],
          [
           54,
           219,
           "DSB Iba1 54_40X_CTX2"
          ],
          [
           54,
           220,
           "DSB Iba1 54_40X_CTX3"
          ],
          [
           54,
           221,
           "DSB Iba1 54_40X_DG"
          ],
          [
           55,
           222,
           "DSB Iba1 55_40X_CA1"
          ],
          [
           55,
           223,
           "DSB Iba1 55_40X_CA3"
          ],
          [
           55,
           224,
           "DSB Iba1 55_40X_CTX1"
          ],
          [
           55,
           225,
           "DSB Iba1 55_40X_CTX2"
          ],
          [
           55,
           226,
           "DSB Iba1 55_40X_CTX3"
          ],
          [
           55,
           227,
           "DSB Iba1 55_40X_DG"
          ],
          [
           56,
           228,
           "DSB Iba1 56_40X_CA1"
          ],
          [
           56,
           229,
           "DSB Iba1 56_40X_CA3"
          ],
          [
           56,
           230,
           "DSB Iba1 56_40X_CTX1"
          ],
          [
           56,
           231,
           "DSB Iba1 56_40X_CTX2"
          ],
          [
           56,
           232,
           "DSB Iba1 56_40X_CTX3"
          ],
          [
           56,
           233,
           "DSB Iba1 56_40X_DG"
          ],
          [
           57,
           234,
           "DSB Iba1 57_40X_CA1"
          ],
          [
           57,
           235,
           "DSB Iba1 57_40X_CA3"
          ],
          [
           57,
           236,
           "DSB Iba1 57_40X_CTX1"
          ],
          [
           57,
           237,
           "DSB Iba1 57_40X_CTX2"
          ],
          [
           57,
           238,
           "DSB Iba1 57_40X_CTX3"
          ],
          [
           57,
           239,
           "DSB Iba1 57_40X_DG"
          ],
          [
           58,
           240,
           "DSB Iba1 58_40X_CA1"
          ],
          [
           58,
           241,
           "DSB Iba1 58_40X_CA3"
          ],
          [
           58,
           242,
           "DSB Iba1 58_40X_CTX1"
          ],
          [
           58,
           243,
           "DSB Iba1 58_40X_CTX2"
          ],
          [
           58,
           244,
           "DSB Iba1 58_40X_CTX3"
          ],
          [
           58,
           245,
           "DSB Iba1 58_40X_DG"
          ],
          [
           59,
           246,
           "DSB Iba1 59_40X_CA1"
          ],
          [
           59,
           247,
           "DSB Iba1 59_40X_CA3"
          ],
          [
           59,
           248,
           "DSB Iba1 59_40X_CTX1"
          ],
          [
           59,
           249,
           "DSB Iba1 59_40X_CTX2"
          ],
          [
           59,
           250,
           "DSB Iba1 59_40X_CTX3"
          ],
          [
           59,
           251,
           "DSB Iba1 59_40X_DG"
          ]
         ],
         "hovertemplate": "tissue_location=%{x}<br>nr_glia_+_nuclei=%{y}<br>staining_id=%{customdata[0]}<br>index=%{customdata[1]}<br>filename=%{customdata[2]}<extra></extra>",
         "legendgroup": "",
         "marker": {
          "color": "#636efa",
          "symbol": "circle"
         },
         "mode": "markers",
         "name": "",
         "orientation": "v",
         "showlegend": false,
         "type": "scatter",
         "x": [
          "CA1",
          "CA3",
          "CTX1",
          "CTX2",
          "CTX3",
          "DG",
          "CA1",
          "CA3",
          "CTX1",
          "CTX2",
          "CTX3",
          "DG",
          "CA1",
          "CA3",
          "CTX1",
          "CTX2",
          "CTX3",
          "DG",
          "CA1",
          "CA3",
          "CTX1",
          "CTX2",
          "CTX3",
          "DG",
          "CA1",
          "CA3",
          "CTX1",
          "CTX2",
          "CTX3",
          "DG",
          "CA1",
          "CA3",
          "CTX1",
          "CTX2",
          "CTX3",
          "DG",
          "CA1",
          "CA3",
          "CTX1",
          "CTX2",
          "CTX3",
          "DG",
          "CA1",
          "CA3",
          "CTX1",
          "CTX2",
          "CTX3",
          "DG",
          "CA1",
          "CA3",
          "CTX1",
          "CTX2",
          "CTX3",
          "DG",
          "CA1",
          "CA3",
          "CTX1",
          "CTX2",
          "CTX3",
          "DG",
          "CA1",
          "CA3",
          "CTX1",
          "CTX2",
          "CTX3",
          "DG",
          "DG",
          "CA1",
          "CA3",
          "CTX1",
          "CTX2",
          "CTX3",
          "DG",
          "CA1",
          "CA3",
          "CTX1",
          "CTX2",
          "CTX3",
          "DG",
          "CA1",
          "CA3",
          "CTX1",
          "CTX2",
          "CTX3",
          "DG",
          "CA1",
          "CA3",
          "CTX1",
          "CTX2",
          "CTX3",
          "DG",
          "CA1",
          "CA3",
          "CTX1",
          "CTX2",
          "CTX3",
          "DG",
          "CA1",
          "CA3",
          "CTX1",
          "CTX2",
          "CTX3",
          "DG",
          "CA1",
          "CA3",
          "CTX1",
          "CTX2",
          "CTX3",
          "DG",
          "CA1",
          "CA3",
          "CTX1",
          "CTX2",
          "CTX3",
          "DG",
          "CA1",
          "CA3",
          "CTX1",
          "CTX2",
          "CTX3",
          "DG",
          "CA1",
          "CA3",
          "CTX1",
          "CTX2",
          "CTX3",
          "DG",
          "DG",
          "CA1",
          "CA3",
          "CTX1",
          "CTX2",
          "CTX3",
          "DG",
          "CA1",
          "CA3",
          "CTX1",
          "CTX2",
          "CTX3",
          "DG",
          "CA1",
          "CA3",
          "CTX1",
          "CTX2",
          "CTX3",
          "DG",
          "CA1",
          "CA3",
          "CTX1",
          "CTX2",
          "CTX3",
          "DG",
          "CA1",
          "CA3",
          "CTX1",
          "CTX2",
          "CTX3",
          "DG",
          "CA1",
          "CA3",
          "CTX1",
          "DG",
          "CA1",
          "CA3",
          "CTX1",
          "CTX2",
          "CTX3",
          "DG",
          "CA1",
          "CA3",
          "CTX1",
          "CTX2",
          "CTX3",
          "DG",
          "CA1",
          "CA3",
          "CTX1",
          "CTX2",
          "CTX3",
          "DG",
          "CA1",
          "CA3",
          "CTX1",
          "CTX2",
          "CTX3",
          "DG",
          "CA1",
          "CA3",
          "CTX1",
          "CTX2",
          "CTX3",
          "DG",
          "CA1",
          "CA3",
          "CTX1",
          "CTX2",
          "CTX3",
          "DG",
          "CA1",
          "CA3",
          "CTX1",
          "CTX2",
          "CTX3",
          "DG",
          "CA1",
          "CA3",
          "CTX1",
          "CTX2",
          "CTX3",
          "DG",
          "CA1",
          "CA3",
          "CTX1",
          "CTX2",
          "CTX3",
          "DG",
          "CA1",
          "CA3",
          "CTX1",
          "CTX2",
          "CTX3",
          "DG",
          "CA1",
          "CA3",
          "CTX1",
          "CTX2",
          "CTX3",
          "DG",
          "CA1",
          "CA3",
          "CTX1",
          "CTX2",
          "CTX3",
          "DG",
          "CA1",
          "CA3",
          "CTX1",
          "CTX2",
          "CTX3",
          "DG",
          "CA1",
          "CA3",
          "CTX1",
          "CTX2",
          "CTX3",
          "DG",
          "CA1",
          "CA3",
          "CTX1",
          "CTX2",
          "CTX3",
          "DG"
         ],
         "xaxis": "x",
         "y": [
          189,
          185,
          42,
          241,
          104,
          438,
          11,
          19,
          17,
          52,
          27,
          149,
          14,
          12,
          19,
          20,
          17,
          104,
          66,
          71,
          211,
          71,
          103,
          127,
          6,
          5,
          5,
          22,
          3,
          7,
          11,
          4,
          17,
          15,
          23,
          15,
          19,
          6,
          10,
          17,
          8,
          17,
          8,
          8,
          25,
          5,
          11,
          16,
          6,
          4,
          19,
          17,
          13,
          8,
          8,
          9,
          25,
          20,
          9,
          15,
          7,
          5,
          8,
          15,
          11,
          12,
          4,
          2,
          1,
          3,
          13,
          11,
          17,
          10,
          5,
          16,
          26,
          16,
          6,
          6,
          4,
          26,
          22,
          13,
          5,
          11,
          1,
          11,
          17,
          13,
          14,
          18,
          17,
          31,
          38,
          27,
          60,
          5,
          7,
          10,
          15,
          9,
          8,
          11,
          5,
          22,
          27,
          26,
          19,
          10,
          29,
          18,
          111,
          80,
          134,
          8,
          6,
          16,
          29,
          10,
          5,
          7,
          11,
          13,
          24,
          29,
          7,
          4,
          6,
          5,
          2,
          5,
          2,
          8,
          4,
          8,
          20,
          11,
          24,
          5,
          4,
          4,
          0,
          3,
          5,
          6,
          3,
          6,
          6,
          15,
          10,
          4,
          11,
          7,
          28,
          20,
          12,
          39,
          31,
          18,
          54,
          79,
          16,
          3,
          12,
          25,
          17,
          22,
          66,
          36,
          79,
          104,
          68,
          124,
          17,
          17,
          36,
          74,
          37,
          16,
          7,
          4,
          35,
          24,
          20,
          13,
          17,
          16,
          16,
          18,
          17,
          28,
          13,
          9,
          24,
          14,
          31,
          15,
          15,
          8,
          18,
          24,
          26,
          22,
          5,
          7,
          23,
          31,
          26,
          16,
          6,
          6,
          24,
          26,
          13,
          18,
          5,
          3,
          10,
          10,
          20,
          13,
          7,
          3,
          8,
          9,
          6,
          11,
          13,
          12,
          21,
          23,
          36,
          16,
          11,
          8,
          14,
          12,
          11,
          28,
          4,
          6,
          17,
          16,
          6,
          2,
          5,
          5,
          9,
          20,
          23,
          6
         ],
         "yaxis": "y"
        }
       ],
       "layout": {
        "legend": {
         "tracegroupgap": 0
        },
        "template": {
         "data": {
          "bar": [
           {
            "error_x": {
             "color": "#2a3f5f"
            },
            "error_y": {
             "color": "#2a3f5f"
            },
            "marker": {
             "line": {
              "color": "#E5ECF6",
              "width": 0.5
             },
             "pattern": {
              "fillmode": "overlay",
              "size": 10,
              "solidity": 0.2
             }
            },
            "type": "bar"
           }
          ],
          "barpolar": [
           {
            "marker": {
             "line": {
              "color": "#E5ECF6",
              "width": 0.5
             },
             "pattern": {
              "fillmode": "overlay",
              "size": 10,
              "solidity": 0.2
             }
            },
            "type": "barpolar"
           }
          ],
          "carpet": [
           {
            "aaxis": {
             "endlinecolor": "#2a3f5f",
             "gridcolor": "white",
             "linecolor": "white",
             "minorgridcolor": "white",
             "startlinecolor": "#2a3f5f"
            },
            "baxis": {
             "endlinecolor": "#2a3f5f",
             "gridcolor": "white",
             "linecolor": "white",
             "minorgridcolor": "white",
             "startlinecolor": "#2a3f5f"
            },
            "type": "carpet"
           }
          ],
          "choropleth": [
           {
            "colorbar": {
             "outlinewidth": 0,
             "ticks": ""
            },
            "type": "choropleth"
           }
          ],
          "contour": [
           {
            "colorbar": {
             "outlinewidth": 0,
             "ticks": ""
            },
            "colorscale": [
             [
              0,
              "#0d0887"
             ],
             [
              0.1111111111111111,
              "#46039f"
             ],
             [
              0.2222222222222222,
              "#7201a8"
             ],
             [
              0.3333333333333333,
              "#9c179e"
             ],
             [
              0.4444444444444444,
              "#bd3786"
             ],
             [
              0.5555555555555556,
              "#d8576b"
             ],
             [
              0.6666666666666666,
              "#ed7953"
             ],
             [
              0.7777777777777778,
              "#fb9f3a"
             ],
             [
              0.8888888888888888,
              "#fdca26"
             ],
             [
              1,
              "#f0f921"
             ]
            ],
            "type": "contour"
           }
          ],
          "contourcarpet": [
           {
            "colorbar": {
             "outlinewidth": 0,
             "ticks": ""
            },
            "type": "contourcarpet"
           }
          ],
          "heatmap": [
           {
            "colorbar": {
             "outlinewidth": 0,
             "ticks": ""
            },
            "colorscale": [
             [
              0,
              "#0d0887"
             ],
             [
              0.1111111111111111,
              "#46039f"
             ],
             [
              0.2222222222222222,
              "#7201a8"
             ],
             [
              0.3333333333333333,
              "#9c179e"
             ],
             [
              0.4444444444444444,
              "#bd3786"
             ],
             [
              0.5555555555555556,
              "#d8576b"
             ],
             [
              0.6666666666666666,
              "#ed7953"
             ],
             [
              0.7777777777777778,
              "#fb9f3a"
             ],
             [
              0.8888888888888888,
              "#fdca26"
             ],
             [
              1,
              "#f0f921"
             ]
            ],
            "type": "heatmap"
           }
          ],
          "heatmapgl": [
           {
            "colorbar": {
             "outlinewidth": 0,
             "ticks": ""
            },
            "colorscale": [
             [
              0,
              "#0d0887"
             ],
             [
              0.1111111111111111,
              "#46039f"
             ],
             [
              0.2222222222222222,
              "#7201a8"
             ],
             [
              0.3333333333333333,
              "#9c179e"
             ],
             [
              0.4444444444444444,
              "#bd3786"
             ],
             [
              0.5555555555555556,
              "#d8576b"
             ],
             [
              0.6666666666666666,
              "#ed7953"
             ],
             [
              0.7777777777777778,
              "#fb9f3a"
             ],
             [
              0.8888888888888888,
              "#fdca26"
             ],
             [
              1,
              "#f0f921"
             ]
            ],
            "type": "heatmapgl"
           }
          ],
          "histogram": [
           {
            "marker": {
             "pattern": {
              "fillmode": "overlay",
              "size": 10,
              "solidity": 0.2
             }
            },
            "type": "histogram"
           }
          ],
          "histogram2d": [
           {
            "colorbar": {
             "outlinewidth": 0,
             "ticks": ""
            },
            "colorscale": [
             [
              0,
              "#0d0887"
             ],
             [
              0.1111111111111111,
              "#46039f"
             ],
             [
              0.2222222222222222,
              "#7201a8"
             ],
             [
              0.3333333333333333,
              "#9c179e"
             ],
             [
              0.4444444444444444,
              "#bd3786"
             ],
             [
              0.5555555555555556,
              "#d8576b"
             ],
             [
              0.6666666666666666,
              "#ed7953"
             ],
             [
              0.7777777777777778,
              "#fb9f3a"
             ],
             [
              0.8888888888888888,
              "#fdca26"
             ],
             [
              1,
              "#f0f921"
             ]
            ],
            "type": "histogram2d"
           }
          ],
          "histogram2dcontour": [
           {
            "colorbar": {
             "outlinewidth": 0,
             "ticks": ""
            },
            "colorscale": [
             [
              0,
              "#0d0887"
             ],
             [
              0.1111111111111111,
              "#46039f"
             ],
             [
              0.2222222222222222,
              "#7201a8"
             ],
             [
              0.3333333333333333,
              "#9c179e"
             ],
             [
              0.4444444444444444,
              "#bd3786"
             ],
             [
              0.5555555555555556,
              "#d8576b"
             ],
             [
              0.6666666666666666,
              "#ed7953"
             ],
             [
              0.7777777777777778,
              "#fb9f3a"
             ],
             [
              0.8888888888888888,
              "#fdca26"
             ],
             [
              1,
              "#f0f921"
             ]
            ],
            "type": "histogram2dcontour"
           }
          ],
          "mesh3d": [
           {
            "colorbar": {
             "outlinewidth": 0,
             "ticks": ""
            },
            "type": "mesh3d"
           }
          ],
          "parcoords": [
           {
            "line": {
             "colorbar": {
              "outlinewidth": 0,
              "ticks": ""
             }
            },
            "type": "parcoords"
           }
          ],
          "pie": [
           {
            "automargin": true,
            "type": "pie"
           }
          ],
          "scatter": [
           {
            "fillpattern": {
             "fillmode": "overlay",
             "size": 10,
             "solidity": 0.2
            },
            "type": "scatter"
           }
          ],
          "scatter3d": [
           {
            "line": {
             "colorbar": {
              "outlinewidth": 0,
              "ticks": ""
             }
            },
            "marker": {
             "colorbar": {
              "outlinewidth": 0,
              "ticks": ""
             }
            },
            "type": "scatter3d"
           }
          ],
          "scattercarpet": [
           {
            "marker": {
             "colorbar": {
              "outlinewidth": 0,
              "ticks": ""
             }
            },
            "type": "scattercarpet"
           }
          ],
          "scattergeo": [
           {
            "marker": {
             "colorbar": {
              "outlinewidth": 0,
              "ticks": ""
             }
            },
            "type": "scattergeo"
           }
          ],
          "scattergl": [
           {
            "marker": {
             "colorbar": {
              "outlinewidth": 0,
              "ticks": ""
             }
            },
            "type": "scattergl"
           }
          ],
          "scattermapbox": [
           {
            "marker": {
             "colorbar": {
              "outlinewidth": 0,
              "ticks": ""
             }
            },
            "type": "scattermapbox"
           }
          ],
          "scatterpolar": [
           {
            "marker": {
             "colorbar": {
              "outlinewidth": 0,
              "ticks": ""
             }
            },
            "type": "scatterpolar"
           }
          ],
          "scatterpolargl": [
           {
            "marker": {
             "colorbar": {
              "outlinewidth": 0,
              "ticks": ""
             }
            },
            "type": "scatterpolargl"
           }
          ],
          "scatterternary": [
           {
            "marker": {
             "colorbar": {
              "outlinewidth": 0,
              "ticks": ""
             }
            },
            "type": "scatterternary"
           }
          ],
          "surface": [
           {
            "colorbar": {
             "outlinewidth": 0,
             "ticks": ""
            },
            "colorscale": [
             [
              0,
              "#0d0887"
             ],
             [
              0.1111111111111111,
              "#46039f"
             ],
             [
              0.2222222222222222,
              "#7201a8"
             ],
             [
              0.3333333333333333,
              "#9c179e"
             ],
             [
              0.4444444444444444,
              "#bd3786"
             ],
             [
              0.5555555555555556,
              "#d8576b"
             ],
             [
              0.6666666666666666,
              "#ed7953"
             ],
             [
              0.7777777777777778,
              "#fb9f3a"
             ],
             [
              0.8888888888888888,
              "#fdca26"
             ],
             [
              1,
              "#f0f921"
             ]
            ],
            "type": "surface"
           }
          ],
          "table": [
           {
            "cells": {
             "fill": {
              "color": "#EBF0F8"
             },
             "line": {
              "color": "white"
             }
            },
            "header": {
             "fill": {
              "color": "#C8D4E3"
             },
             "line": {
              "color": "white"
             }
            },
            "type": "table"
           }
          ]
         },
         "layout": {
          "annotationdefaults": {
           "arrowcolor": "#2a3f5f",
           "arrowhead": 0,
           "arrowwidth": 1
          },
          "autotypenumbers": "strict",
          "coloraxis": {
           "colorbar": {
            "outlinewidth": 0,
            "ticks": ""
           }
          },
          "colorscale": {
           "diverging": [
            [
             0,
             "#8e0152"
            ],
            [
             0.1,
             "#c51b7d"
            ],
            [
             0.2,
             "#de77ae"
            ],
            [
             0.3,
             "#f1b6da"
            ],
            [
             0.4,
             "#fde0ef"
            ],
            [
             0.5,
             "#f7f7f7"
            ],
            [
             0.6,
             "#e6f5d0"
            ],
            [
             0.7,
             "#b8e186"
            ],
            [
             0.8,
             "#7fbc41"
            ],
            [
             0.9,
             "#4d9221"
            ],
            [
             1,
             "#276419"
            ]
           ],
           "sequential": [
            [
             0,
             "#0d0887"
            ],
            [
             0.1111111111111111,
             "#46039f"
            ],
            [
             0.2222222222222222,
             "#7201a8"
            ],
            [
             0.3333333333333333,
             "#9c179e"
            ],
            [
             0.4444444444444444,
             "#bd3786"
            ],
            [
             0.5555555555555556,
             "#d8576b"
            ],
            [
             0.6666666666666666,
             "#ed7953"
            ],
            [
             0.7777777777777778,
             "#fb9f3a"
            ],
            [
             0.8888888888888888,
             "#fdca26"
            ],
            [
             1,
             "#f0f921"
            ]
           ],
           "sequentialminus": [
            [
             0,
             "#0d0887"
            ],
            [
             0.1111111111111111,
             "#46039f"
            ],
            [
             0.2222222222222222,
             "#7201a8"
            ],
            [
             0.3333333333333333,
             "#9c179e"
            ],
            [
             0.4444444444444444,
             "#bd3786"
            ],
            [
             0.5555555555555556,
             "#d8576b"
            ],
            [
             0.6666666666666666,
             "#ed7953"
            ],
            [
             0.7777777777777778,
             "#fb9f3a"
            ],
            [
             0.8888888888888888,
             "#fdca26"
            ],
            [
             1,
             "#f0f921"
            ]
           ]
          },
          "colorway": [
           "#636efa",
           "#EF553B",
           "#00cc96",
           "#ab63fa",
           "#FFA15A",
           "#19d3f3",
           "#FF6692",
           "#B6E880",
           "#FF97FF",
           "#FECB52"
          ],
          "font": {
           "color": "#2a3f5f"
          },
          "geo": {
           "bgcolor": "white",
           "lakecolor": "white",
           "landcolor": "#E5ECF6",
           "showlakes": true,
           "showland": true,
           "subunitcolor": "white"
          },
          "hoverlabel": {
           "align": "left"
          },
          "hovermode": "closest",
          "mapbox": {
           "style": "light"
          },
          "paper_bgcolor": "white",
          "plot_bgcolor": "#E5ECF6",
          "polar": {
           "angularaxis": {
            "gridcolor": "white",
            "linecolor": "white",
            "ticks": ""
           },
           "bgcolor": "#E5ECF6",
           "radialaxis": {
            "gridcolor": "white",
            "linecolor": "white",
            "ticks": ""
           }
          },
          "scene": {
           "xaxis": {
            "backgroundcolor": "#E5ECF6",
            "gridcolor": "white",
            "gridwidth": 2,
            "linecolor": "white",
            "showbackground": true,
            "ticks": "",
            "zerolinecolor": "white"
           },
           "yaxis": {
            "backgroundcolor": "#E5ECF6",
            "gridcolor": "white",
            "gridwidth": 2,
            "linecolor": "white",
            "showbackground": true,
            "ticks": "",
            "zerolinecolor": "white"
           },
           "zaxis": {
            "backgroundcolor": "#E5ECF6",
            "gridcolor": "white",
            "gridwidth": 2,
            "linecolor": "white",
            "showbackground": true,
            "ticks": "",
            "zerolinecolor": "white"
           }
          },
          "shapedefaults": {
           "line": {
            "color": "#2a3f5f"
           }
          },
          "ternary": {
           "aaxis": {
            "gridcolor": "white",
            "linecolor": "white",
            "ticks": ""
           },
           "baxis": {
            "gridcolor": "white",
            "linecolor": "white",
            "ticks": ""
           },
           "bgcolor": "#E5ECF6",
           "caxis": {
            "gridcolor": "white",
            "linecolor": "white",
            "ticks": ""
           }
          },
          "title": {
           "x": 0.05
          },
          "xaxis": {
           "automargin": true,
           "gridcolor": "white",
           "linecolor": "white",
           "ticks": "",
           "title": {
            "standoff": 15
           },
           "zerolinecolor": "white",
           "zerolinewidth": 2
          },
          "yaxis": {
           "automargin": true,
           "gridcolor": "white",
           "linecolor": "white",
           "ticks": "",
           "title": {
            "standoff": 15
           },
           "zerolinecolor": "white",
           "zerolinewidth": 2
          }
         }
        },
        "title": {
         "text": "Nr of glia+ nuclei by Tissue Location - cellpdia30_sigma1_dilrad4_dnad_obj_seg_v1_gliaero6_gliathr20_dnadero2"
        },
        "xaxis": {
         "anchor": "y",
         "domain": [
          0,
          1
         ],
         "title": {
          "text": "tissue_location"
         }
        },
        "yaxis": {
         "anchor": "x",
         "domain": [
          0,
          1
         ],
         "title": {
          "text": "nr_glia_+_nuclei"
         }
        }
       }
      }
     },
     "metadata": {},
     "output_type": "display_data"
    }
   ],
   "source": [
    "# Create the plot\n",
    "fig = px.scatter(df, x='tissue_location', y='nr_glia_+_nuclei',\n",
    "                 hover_data=['staining_id','index','filename'], title=f\"Nr of glia+ nuclei by Tissue Location - {title}\")\n",
    "\n",
    "# Show the plot\n",
    "fig.show()"
   ]
  },
  {
   "cell_type": "code",
   "execution_count": 33,
   "metadata": {},
   "outputs": [
    {
     "data": {
      "application/vnd.plotly.v1+json": {
       "config": {
        "plotlyServerURL": "https://plot.ly"
       },
       "data": [
        {
         "customdata": [
          [
           16,
           0,
           "DSB Iba1 16_40X_CA1"
          ],
          [
           16,
           1,
           "DSB Iba1 16_40X_CA3"
          ],
          [
           16,
           2,
           "DSB Iba1 16_40X_CTX1"
          ],
          [
           16,
           3,
           "DSB Iba1 16_40X_CTX2"
          ],
          [
           16,
           4,
           "DSB Iba1 16_40X_CTX3"
          ],
          [
           16,
           5,
           "DSB Iba1 16_40X_DG"
          ],
          [
           17,
           6,
           "DSB Iba1 17_40X_CA1"
          ],
          [
           17,
           7,
           "DSB Iba1 17_40X_CA3"
          ],
          [
           17,
           8,
           "DSB Iba1 17_40X_CTX1"
          ],
          [
           17,
           9,
           "DSB Iba1 17_40X_CTX2"
          ],
          [
           17,
           10,
           "DSB Iba1 17_40X_CTX3"
          ],
          [
           17,
           11,
           "DSB Iba1 17_40X_DG"
          ],
          [
           18,
           12,
           "DSB Iba1 18_40X_CA1"
          ],
          [
           18,
           13,
           "DSB Iba1 18_40X_CA3"
          ],
          [
           18,
           14,
           "DSB Iba1 18_40X_CTX1"
          ],
          [
           18,
           15,
           "DSB Iba1 18_40X_CTX2"
          ],
          [
           18,
           16,
           "DSB Iba1 18_40X_CTX3"
          ],
          [
           18,
           17,
           "DSB Iba1 18_40X_DG"
          ],
          [
           19,
           18,
           "DSB Iba1 19_40X_CA1"
          ],
          [
           19,
           19,
           "DSB Iba1 19_40X_CA3"
          ],
          [
           19,
           20,
           "DSB Iba1 19_40X_CTX1"
          ],
          [
           19,
           21,
           "DSB Iba1 19_40X_CTX2"
          ],
          [
           19,
           22,
           "DSB Iba1 19_40X_CTX3"
          ],
          [
           19,
           23,
           "DSB Iba1 19_40X_DG"
          ],
          [
           20,
           24,
           "DSB Iba1 20_40X_CA1"
          ],
          [
           20,
           25,
           "DSB Iba1 20_40X_CA3"
          ],
          [
           20,
           26,
           "DSB Iba1 20_40X_CTX1"
          ],
          [
           20,
           27,
           "DSB Iba1 20_40X_CTX2"
          ],
          [
           20,
           28,
           "DSB Iba1 20_40X_CTX3"
          ],
          [
           20,
           29,
           "DSB Iba1 20_40X_DG"
          ],
          [
           21,
           30,
           "DSB Iba1 21_40X_CA1"
          ],
          [
           21,
           31,
           "DSB Iba1 21_40X_CA3"
          ],
          [
           21,
           32,
           "DSB Iba1 21_40X_CTX1"
          ],
          [
           21,
           33,
           "DSB Iba1 21_40X_CTX2"
          ],
          [
           21,
           34,
           "DSB Iba1 21_40X_CTX3"
          ],
          [
           21,
           35,
           "DSB Iba1 21_40X_DG"
          ],
          [
           22,
           36,
           "DSB Iba1 22_40X_CA1"
          ],
          [
           22,
           37,
           "DSB Iba1 22_40X_CA3"
          ],
          [
           22,
           38,
           "DSB Iba1 22_40X_CTX1"
          ],
          [
           22,
           39,
           "DSB Iba1 22_40X_CTX2"
          ],
          [
           22,
           40,
           "DSB Iba1 22_40X_CTX3"
          ],
          [
           22,
           41,
           "DSB Iba1 22_40X_DG"
          ],
          [
           23,
           42,
           "DSB Iba1 23_40X_CA1"
          ],
          [
           23,
           43,
           "DSB Iba1 23_40X_CA3"
          ],
          [
           23,
           44,
           "DSB Iba1 23_40X_CTX1"
          ],
          [
           23,
           45,
           "DSB Iba1 23_40X_CTX2"
          ],
          [
           23,
           46,
           "DSB Iba1 23_40X_CTX3"
          ],
          [
           23,
           47,
           "DSB Iba1 23_40X_DG"
          ],
          [
           24,
           48,
           "DSB Iba1 24_40X_CA1"
          ],
          [
           24,
           49,
           "DSB Iba1 24_40X_CA3"
          ],
          [
           24,
           50,
           "DSB Iba1 24_40X_CTX1"
          ],
          [
           24,
           51,
           "DSB Iba1 24_40X_CTX2"
          ],
          [
           24,
           52,
           "DSB Iba1 24_40X_CTX3"
          ],
          [
           24,
           53,
           "DSB Iba1 24_40X_DG"
          ],
          [
           25,
           54,
           "DSB Iba1 25_40X_CA1"
          ],
          [
           25,
           55,
           "DSB Iba1 25_40X_CA3"
          ],
          [
           25,
           56,
           "DSB Iba1 25_40X_CTX1"
          ],
          [
           25,
           57,
           "DSB Iba1 25_40X_CTX2"
          ],
          [
           25,
           58,
           "DSB Iba1 25_40X_CTX3"
          ],
          [
           25,
           59,
           "DSB Iba1 25_40X_DG"
          ],
          [
           26,
           60,
           "DSB Iba1 26_40X_CA1"
          ],
          [
           26,
           61,
           "DSB Iba1 26_40X_CA3"
          ],
          [
           26,
           62,
           "DSB Iba1 26_40X_CTX1"
          ],
          [
           26,
           63,
           "DSB Iba1 26_40X_CTX2"
          ],
          [
           26,
           64,
           "DSB Iba1 26_40X_CTX3"
          ],
          [
           26,
           65,
           "DSB Iba1 26_40X_DG"
          ],
          [
           27,
           66,
           "DSB Iba1 27_40X_DG"
          ],
          [
           28,
           67,
           "DSB Iba1 28_40X_CA1"
          ],
          [
           28,
           68,
           "DSB Iba1 28_40X_CA3"
          ],
          [
           28,
           69,
           "DSB Iba1 28_40X_CTX1"
          ],
          [
           28,
           70,
           "DSB Iba1 28_40X_CTX2"
          ],
          [
           28,
           71,
           "DSB Iba1 28_40X_CTX3"
          ],
          [
           28,
           72,
           "DSB Iba1 28_40X_DG"
          ],
          [
           29,
           73,
           "DSB Iba1 29_40X_CA1"
          ],
          [
           29,
           74,
           "DSB Iba1 29_40X_CA3"
          ],
          [
           29,
           75,
           "DSB Iba1 29_40X_CTX1"
          ],
          [
           29,
           76,
           "DSB Iba1 29_40X_CTX2"
          ],
          [
           29,
           77,
           "DSB Iba1 29_40X_CTX3"
          ],
          [
           29,
           78,
           "DSB Iba1 29_40X_DG"
          ],
          [
           30,
           79,
           "DSB Iba1 30_40X_CA1"
          ],
          [
           30,
           80,
           "DSB Iba1 30_40X_CA3"
          ],
          [
           30,
           81,
           "DSB Iba1 30_40X_CTX1"
          ],
          [
           30,
           82,
           "DSB Iba1 30_40X_CTX2"
          ],
          [
           30,
           83,
           "DSB Iba1 30_40X_CTX3"
          ],
          [
           30,
           84,
           "DSB Iba1 30_40X_DG"
          ],
          [
           31,
           85,
           "DSB Iba1 31_40X_CA1"
          ],
          [
           31,
           86,
           "DSB Iba1 31_40X_CA3"
          ],
          [
           31,
           87,
           "DSB Iba1 31_40X_CTX1"
          ],
          [
           31,
           88,
           "DSB Iba1 31_40X_CTX2"
          ],
          [
           31,
           89,
           "DSB Iba1 31_40X_CTX3"
          ],
          [
           31,
           90,
           "DSB Iba1 31_40X_DG"
          ],
          [
           32,
           91,
           "DSB Iba1 32_40X_CA1"
          ],
          [
           32,
           92,
           "DSB Iba1 32_40X_CA3"
          ],
          [
           32,
           93,
           "DSB Iba1 32_40X_CTX1"
          ],
          [
           32,
           94,
           "DSB Iba1 32_40X_CTX2"
          ],
          [
           32,
           95,
           "DSB Iba1 32_40X_CTX3"
          ],
          [
           32,
           96,
           "DSB Iba1 32_40X_DG"
          ],
          [
           33,
           97,
           "DSB Iba1 33_40X_CA1"
          ],
          [
           33,
           98,
           "DSB Iba1 33_40X_CA3"
          ],
          [
           33,
           99,
           "DSB Iba1 33_40X_CTX1"
          ],
          [
           33,
           100,
           "DSB Iba1 33_40X_CTX2"
          ],
          [
           33,
           101,
           "DSB Iba1 33_40X_CTX3"
          ],
          [
           33,
           102,
           "DSB Iba1 33_40X_DG"
          ],
          [
           34,
           103,
           "DSB Iba1 34_40X_CA1"
          ],
          [
           34,
           104,
           "DSB Iba1 34_40X_CA3"
          ],
          [
           34,
           105,
           "DSB Iba1 34_40X_CTX1"
          ],
          [
           34,
           106,
           "DSB Iba1 34_40X_CTX2"
          ],
          [
           34,
           107,
           "DSB Iba1 34_40X_CTX3"
          ],
          [
           34,
           108,
           "DSB Iba1 34_40X_DG"
          ],
          [
           35,
           109,
           "DSB Iba1 35_40X_CA1"
          ],
          [
           35,
           110,
           "DSB Iba1 35_40X_CA3"
          ],
          [
           35,
           111,
           "DSB Iba1 35_40X_CTX1"
          ],
          [
           35,
           112,
           "DSB Iba1 35_40X_CTX2"
          ],
          [
           35,
           113,
           "DSB Iba1 35_40X_CTX3"
          ],
          [
           35,
           114,
           "DSB Iba1 35_40X_DG"
          ],
          [
           36,
           115,
           "DSB Iba1 36_40X_CA1"
          ],
          [
           36,
           116,
           "DSB Iba1 36_40X_CA3"
          ],
          [
           36,
           117,
           "DSB Iba1 36_40X_CTX1"
          ],
          [
           36,
           118,
           "DSB Iba1 36_40X_CTX2"
          ],
          [
           36,
           119,
           "DSB Iba1 36_40X_CTX3"
          ],
          [
           36,
           120,
           "DSB Iba1 36_40X_DG"
          ],
          [
           37,
           121,
           "DSB Iba1 37_40X_CA1"
          ],
          [
           37,
           122,
           "DSB Iba1 37_40X_CA3"
          ],
          [
           37,
           123,
           "DSB Iba1 37_40X_CTX1"
          ],
          [
           37,
           124,
           "DSB Iba1 37_40X_CTX2"
          ],
          [
           37,
           125,
           "DSB Iba1 37_40X_CTX3"
          ],
          [
           37,
           126,
           "DSB Iba1 37_40X_DG"
          ],
          [
           38,
           127,
           "DSB Iba1 38_40X_DG"
          ],
          [
           39,
           128,
           "DSB Iba1 39_40X_CA1"
          ],
          [
           39,
           129,
           "DSB Iba1 39_40X_CA3"
          ],
          [
           39,
           130,
           "DSB Iba1 39_40X_CTX1"
          ],
          [
           39,
           131,
           "DSB Iba1 39_40X_CTX2"
          ],
          [
           39,
           132,
           "DSB Iba1 39_40X_CTX3"
          ],
          [
           39,
           133,
           "DSB Iba1 39_40X_DG"
          ],
          [
           40,
           134,
           "DSB Iba1 40_40X_CA1"
          ],
          [
           40,
           135,
           "DSB Iba1 40_40X_CA3"
          ],
          [
           40,
           136,
           "DSB Iba1 40_40X_CTX1"
          ],
          [
           40,
           137,
           "DSB Iba1 40_40X_CTX2"
          ],
          [
           40,
           138,
           "DSB Iba1 40_40X_CTX3"
          ],
          [
           40,
           139,
           "DSB Iba1 40_40X_DG"
          ],
          [
           41,
           140,
           "DSB Iba1 41_40X_CA1"
          ],
          [
           41,
           141,
           "DSB Iba1 41_40X_CA3"
          ],
          [
           41,
           142,
           "DSB Iba1 41_40X_CTX1"
          ],
          [
           41,
           143,
           "DSB Iba1 41_40X_CTX2"
          ],
          [
           41,
           144,
           "DSB Iba1 41_40X_CTX3"
          ],
          [
           41,
           145,
           "DSB Iba1 41_40X_DG"
          ],
          [
           42,
           146,
           "DSB Iba1 42_40X_CA1"
          ],
          [
           42,
           147,
           "DSB Iba1 42_40X_CA3"
          ],
          [
           42,
           148,
           "DSB Iba1 42_40X_CTX1"
          ],
          [
           42,
           149,
           "DSB Iba1 42_40X_CTX2"
          ],
          [
           42,
           150,
           "DSB Iba1 42_40X_CTX3"
          ],
          [
           42,
           151,
           "DSB Iba1 42_40X_DG"
          ],
          [
           43,
           152,
           "DSB Iba1 43_40X_CA1"
          ],
          [
           43,
           153,
           "DSB Iba1 43_40X_CA3"
          ],
          [
           43,
           154,
           "DSB Iba1 43_40X_CTX1"
          ],
          [
           43,
           155,
           "DSB Iba1 43_40X_CTX2"
          ],
          [
           43,
           156,
           "DSB Iba1 43_40X_CTX3"
          ],
          [
           43,
           157,
           "DSB Iba1 43_40X_DG"
          ],
          [
           44,
           158,
           "DSB Iba1 44_40X_CA1"
          ],
          [
           44,
           159,
           "DSB Iba1 44_40X_CA3"
          ],
          [
           44,
           160,
           "DSB Iba1 44_40X_CTX1"
          ],
          [
           44,
           161,
           "DSB Iba1 44_40X_DG"
          ],
          [
           45,
           162,
           "DSB Iba1 45_40X_CA1"
          ],
          [
           45,
           163,
           "DSB Iba1 45_40X_CA3"
          ],
          [
           45,
           164,
           "DSB Iba1 45_40X_CTX1"
          ],
          [
           45,
           165,
           "DSB Iba1 45_40X_CTX2"
          ],
          [
           45,
           166,
           "DSB Iba1 45_40X_CTX3"
          ],
          [
           45,
           167,
           "DSB Iba1 45_40X_DG"
          ],
          [
           46,
           168,
           "DSB Iba1 46_40X_CA1"
          ],
          [
           46,
           169,
           "DSB Iba1 46_40X_CA3"
          ],
          [
           46,
           170,
           "DSB Iba1 46_40X_CTX1"
          ],
          [
           46,
           171,
           "DSB Iba1 46_40X_CTX2"
          ],
          [
           46,
           172,
           "DSB Iba1 46_40X_CTX3"
          ],
          [
           46,
           173,
           "DSB Iba1 46_40X_DG"
          ],
          [
           47,
           174,
           "DSB Iba1 47_40X_CA1"
          ],
          [
           47,
           175,
           "DSB Iba1 47_40X_CA3"
          ],
          [
           47,
           176,
           "DSB Iba1 47_40X_CTX1"
          ],
          [
           47,
           177,
           "DSB Iba1 47_40X_CTX2"
          ],
          [
           47,
           178,
           "DSB Iba1 47_40X_CTX3"
          ],
          [
           47,
           179,
           "DSB Iba1 47_40X_DG"
          ],
          [
           48,
           180,
           "DSB Iba1 48_40X_CA1"
          ],
          [
           48,
           181,
           "DSB Iba1 48_40X_CA3"
          ],
          [
           48,
           182,
           "DSB Iba1 48_40X_CTX1"
          ],
          [
           48,
           183,
           "DSB Iba1 48_40X_CTX2"
          ],
          [
           48,
           184,
           "DSB Iba1 48_40X_CTX3"
          ],
          [
           48,
           185,
           "DSB Iba1 48_40X_DG"
          ],
          [
           49,
           186,
           "DSB Iba1 49_40X_CA1"
          ],
          [
           49,
           187,
           "DSB Iba1 49_40X_CA3"
          ],
          [
           49,
           188,
           "DSB Iba1 49_40X_CTX1"
          ],
          [
           49,
           189,
           "DSB Iba1 49_40X_CTX2"
          ],
          [
           49,
           190,
           "DSB Iba1 49_40X_CTX3"
          ],
          [
           49,
           191,
           "DSB Iba1 49_40X_DG"
          ],
          [
           50,
           192,
           "DSB Iba1 50_40X_CA1"
          ],
          [
           50,
           193,
           "DSB Iba1 50_40X_CA3"
          ],
          [
           50,
           194,
           "DSB Iba1 50_40X_CTX1"
          ],
          [
           50,
           195,
           "DSB Iba1 50_40X_CTX2"
          ],
          [
           50,
           196,
           "DSB Iba1 50_40X_CTX3"
          ],
          [
           50,
           197,
           "DSB Iba1 50_40X_DG"
          ],
          [
           51,
           198,
           "DSB Iba1 51_40X_CA1"
          ],
          [
           51,
           199,
           "DSB Iba1 51_40X_CA3"
          ],
          [
           51,
           200,
           "DSB Iba1 51_40X_CTX1"
          ],
          [
           51,
           201,
           "DSB Iba1 51_40X_CTX2"
          ],
          [
           51,
           202,
           "DSB Iba1 51_40X_CTX3"
          ],
          [
           51,
           203,
           "DSB Iba1 51_40X_DG"
          ],
          [
           52,
           204,
           "DSB Iba1 52_40X_CA1"
          ],
          [
           52,
           205,
           "DSB Iba1 52_40X_CA3"
          ],
          [
           52,
           206,
           "DSB Iba1 52_40X_CTX1"
          ],
          [
           52,
           207,
           "DSB Iba1 52_40X_CTX2"
          ],
          [
           52,
           208,
           "DSB Iba1 52_40X_CTX3"
          ],
          [
           52,
           209,
           "DSB Iba1 52_40X_DG"
          ],
          [
           53,
           210,
           "DSB Iba1 53_40X_CA1"
          ],
          [
           53,
           211,
           "DSB Iba1 53_40X_CA3"
          ],
          [
           53,
           212,
           "DSB Iba1 53_40X_CTX1"
          ],
          [
           53,
           213,
           "DSB Iba1 53_40X_CTX2"
          ],
          [
           53,
           214,
           "DSB Iba1 53_40X_CTX3"
          ],
          [
           53,
           215,
           "DSB Iba1 53_40X_DG"
          ],
          [
           54,
           216,
           "DSB Iba1 54_40X_CA1"
          ],
          [
           54,
           217,
           "DSB Iba1 54_40X_CA3"
          ],
          [
           54,
           218,
           "DSB Iba1 54_40X_CTX1"
          ],
          [
           54,
           219,
           "DSB Iba1 54_40X_CTX2"
          ],
          [
           54,
           220,
           "DSB Iba1 54_40X_CTX3"
          ],
          [
           54,
           221,
           "DSB Iba1 54_40X_DG"
          ],
          [
           55,
           222,
           "DSB Iba1 55_40X_CA1"
          ],
          [
           55,
           223,
           "DSB Iba1 55_40X_CA3"
          ],
          [
           55,
           224,
           "DSB Iba1 55_40X_CTX1"
          ],
          [
           55,
           225,
           "DSB Iba1 55_40X_CTX2"
          ],
          [
           55,
           226,
           "DSB Iba1 55_40X_CTX3"
          ],
          [
           55,
           227,
           "DSB Iba1 55_40X_DG"
          ],
          [
           56,
           228,
           "DSB Iba1 56_40X_CA1"
          ],
          [
           56,
           229,
           "DSB Iba1 56_40X_CA3"
          ],
          [
           56,
           230,
           "DSB Iba1 56_40X_CTX1"
          ],
          [
           56,
           231,
           "DSB Iba1 56_40X_CTX2"
          ],
          [
           56,
           232,
           "DSB Iba1 56_40X_CTX3"
          ],
          [
           56,
           233,
           "DSB Iba1 56_40X_DG"
          ],
          [
           57,
           234,
           "DSB Iba1 57_40X_CA1"
          ],
          [
           57,
           235,
           "DSB Iba1 57_40X_CA3"
          ],
          [
           57,
           236,
           "DSB Iba1 57_40X_CTX1"
          ],
          [
           57,
           237,
           "DSB Iba1 57_40X_CTX2"
          ],
          [
           57,
           238,
           "DSB Iba1 57_40X_CTX3"
          ],
          [
           57,
           239,
           "DSB Iba1 57_40X_DG"
          ],
          [
           58,
           240,
           "DSB Iba1 58_40X_CA1"
          ],
          [
           58,
           241,
           "DSB Iba1 58_40X_CA3"
          ],
          [
           58,
           242,
           "DSB Iba1 58_40X_CTX1"
          ],
          [
           58,
           243,
           "DSB Iba1 58_40X_CTX2"
          ],
          [
           58,
           244,
           "DSB Iba1 58_40X_CTX3"
          ],
          [
           58,
           245,
           "DSB Iba1 58_40X_DG"
          ],
          [
           59,
           246,
           "DSB Iba1 59_40X_CA1"
          ],
          [
           59,
           247,
           "DSB Iba1 59_40X_CA3"
          ],
          [
           59,
           248,
           "DSB Iba1 59_40X_CTX1"
          ],
          [
           59,
           249,
           "DSB Iba1 59_40X_CTX2"
          ],
          [
           59,
           250,
           "DSB Iba1 59_40X_CTX3"
          ],
          [
           59,
           251,
           "DSB Iba1 59_40X_DG"
          ]
         ],
         "hovertemplate": "tissue_location=%{x}<br>nr_total_nuclei=%{y}<br>staining_id=%{customdata[0]}<br>index=%{customdata[1]}<br>filename=%{customdata[2]}<extra></extra>",
         "legendgroup": "",
         "marker": {
          "color": "#636efa",
          "symbol": "circle"
         },
         "mode": "markers",
         "name": "",
         "orientation": "v",
         "showlegend": false,
         "type": "scatter",
         "x": [
          "CA1",
          "CA3",
          "CTX1",
          "CTX2",
          "CTX3",
          "DG",
          "CA1",
          "CA3",
          "CTX1",
          "CTX2",
          "CTX3",
          "DG",
          "CA1",
          "CA3",
          "CTX1",
          "CTX2",
          "CTX3",
          "DG",
          "CA1",
          "CA3",
          "CTX1",
          "CTX2",
          "CTX3",
          "DG",
          "CA1",
          "CA3",
          "CTX1",
          "CTX2",
          "CTX3",
          "DG",
          "CA1",
          "CA3",
          "CTX1",
          "CTX2",
          "CTX3",
          "DG",
          "CA1",
          "CA3",
          "CTX1",
          "CTX2",
          "CTX3",
          "DG",
          "CA1",
          "CA3",
          "CTX1",
          "CTX2",
          "CTX3",
          "DG",
          "CA1",
          "CA3",
          "CTX1",
          "CTX2",
          "CTX3",
          "DG",
          "CA1",
          "CA3",
          "CTX1",
          "CTX2",
          "CTX3",
          "DG",
          "CA1",
          "CA3",
          "CTX1",
          "CTX2",
          "CTX3",
          "DG",
          "DG",
          "CA1",
          "CA3",
          "CTX1",
          "CTX2",
          "CTX3",
          "DG",
          "CA1",
          "CA3",
          "CTX1",
          "CTX2",
          "CTX3",
          "DG",
          "CA1",
          "CA3",
          "CTX1",
          "CTX2",
          "CTX3",
          "DG",
          "CA1",
          "CA3",
          "CTX1",
          "CTX2",
          "CTX3",
          "DG",
          "CA1",
          "CA3",
          "CTX1",
          "CTX2",
          "CTX3",
          "DG",
          "CA1",
          "CA3",
          "CTX1",
          "CTX2",
          "CTX3",
          "DG",
          "CA1",
          "CA3",
          "CTX1",
          "CTX2",
          "CTX3",
          "DG",
          "CA1",
          "CA3",
          "CTX1",
          "CTX2",
          "CTX3",
          "DG",
          "CA1",
          "CA3",
          "CTX1",
          "CTX2",
          "CTX3",
          "DG",
          "CA1",
          "CA3",
          "CTX1",
          "CTX2",
          "CTX3",
          "DG",
          "DG",
          "CA1",
          "CA3",
          "CTX1",
          "CTX2",
          "CTX3",
          "DG",
          "CA1",
          "CA3",
          "CTX1",
          "CTX2",
          "CTX3",
          "DG",
          "CA1",
          "CA3",
          "CTX1",
          "CTX2",
          "CTX3",
          "DG",
          "CA1",
          "CA3",
          "CTX1",
          "CTX2",
          "CTX3",
          "DG",
          "CA1",
          "CA3",
          "CTX1",
          "CTX2",
          "CTX3",
          "DG",
          "CA1",
          "CA3",
          "CTX1",
          "DG",
          "CA1",
          "CA3",
          "CTX1",
          "CTX2",
          "CTX3",
          "DG",
          "CA1",
          "CA3",
          "CTX1",
          "CTX2",
          "CTX3",
          "DG",
          "CA1",
          "CA3",
          "CTX1",
          "CTX2",
          "CTX3",
          "DG",
          "CA1",
          "CA3",
          "CTX1",
          "CTX2",
          "CTX3",
          "DG",
          "CA1",
          "CA3",
          "CTX1",
          "CTX2",
          "CTX3",
          "DG",
          "CA1",
          "CA3",
          "CTX1",
          "CTX2",
          "CTX3",
          "DG",
          "CA1",
          "CA3",
          "CTX1",
          "CTX2",
          "CTX3",
          "DG",
          "CA1",
          "CA3",
          "CTX1",
          "CTX2",
          "CTX3",
          "DG",
          "CA1",
          "CA3",
          "CTX1",
          "CTX2",
          "CTX3",
          "DG",
          "CA1",
          "CA3",
          "CTX1",
          "CTX2",
          "CTX3",
          "DG",
          "CA1",
          "CA3",
          "CTX1",
          "CTX2",
          "CTX3",
          "DG",
          "CA1",
          "CA3",
          "CTX1",
          "CTX2",
          "CTX3",
          "DG",
          "CA1",
          "CA3",
          "CTX1",
          "CTX2",
          "CTX3",
          "DG",
          "CA1",
          "CA3",
          "CTX1",
          "CTX2",
          "CTX3",
          "DG",
          "CA1",
          "CA3",
          "CTX1",
          "CTX2",
          "CTX3",
          "DG"
         ],
         "xaxis": "x",
         "y": [
          232,
          192,
          272,
          266,
          241,
          452,
          196,
          183,
          260,
          302,
          180,
          525,
          144,
          108,
          225,
          255,
          171,
          351,
          68,
          73,
          212,
          89,
          124,
          128,
          155,
          114,
          198,
          159,
          92,
          372,
          141,
          107,
          200,
          225,
          194,
          409,
          174,
          139,
          243,
          264,
          168,
          395,
          136,
          114,
          191,
          240,
          148,
          429,
          179,
          115,
          181,
          259,
          190,
          267,
          151,
          137,
          133,
          192,
          185,
          415,
          140,
          64,
          112,
          119,
          101,
          353,
          217,
          85,
          67,
          104,
          207,
          197,
          356,
          149,
          119,
          199,
          197,
          168,
          385,
          142,
          103,
          234,
          262,
          199,
          366,
          167,
          183,
          192,
          239,
          146,
          318,
          185,
          135,
          290,
          238,
          178,
          415,
          158,
          184,
          224,
          196,
          159,
          425,
          187,
          263,
          294,
          263,
          208,
          330,
          190,
          178,
          246,
          267,
          203,
          426,
          165,
          99,
          208,
          219,
          173,
          339,
          182,
          146,
          228,
          261,
          172,
          362,
          105,
          96,
          90,
          168,
          190,
          151,
          244,
          146,
          88,
          155,
          156,
          185,
          311,
          151,
          100,
          163,
          185,
          140,
          363,
          145,
          103,
          168,
          155,
          142,
          387,
          149,
          202,
          222,
          207,
          209,
          345,
          137,
          99,
          237,
          228,
          167,
          163,
          230,
          222,
          207,
          404,
          168,
          141,
          265,
          287,
          241,
          320,
          209,
          172,
          351,
          281,
          222,
          341,
          120,
          92,
          230,
          266,
          226,
          386,
          164,
          122,
          160,
          191,
          139,
          284,
          150,
          124,
          254,
          238,
          191,
          505,
          144,
          117,
          146,
          220,
          181,
          371,
          132,
          98,
          124,
          174,
          194,
          356,
          179,
          163,
          266,
          200,
          138,
          280,
          130,
          127,
          194,
          171,
          168,
          317,
          129,
          95,
          131,
          144,
          85,
          400,
          157,
          132,
          178,
          242,
          188,
          406,
          185,
          168,
          265,
          266,
          194,
          350,
          121,
          113,
          141,
          191,
          192,
          310,
          169,
          100,
          198,
          146,
          135,
          341
         ],
         "yaxis": "y"
        }
       ],
       "layout": {
        "legend": {
         "tracegroupgap": 0
        },
        "template": {
         "data": {
          "bar": [
           {
            "error_x": {
             "color": "#2a3f5f"
            },
            "error_y": {
             "color": "#2a3f5f"
            },
            "marker": {
             "line": {
              "color": "#E5ECF6",
              "width": 0.5
             },
             "pattern": {
              "fillmode": "overlay",
              "size": 10,
              "solidity": 0.2
             }
            },
            "type": "bar"
           }
          ],
          "barpolar": [
           {
            "marker": {
             "line": {
              "color": "#E5ECF6",
              "width": 0.5
             },
             "pattern": {
              "fillmode": "overlay",
              "size": 10,
              "solidity": 0.2
             }
            },
            "type": "barpolar"
           }
          ],
          "carpet": [
           {
            "aaxis": {
             "endlinecolor": "#2a3f5f",
             "gridcolor": "white",
             "linecolor": "white",
             "minorgridcolor": "white",
             "startlinecolor": "#2a3f5f"
            },
            "baxis": {
             "endlinecolor": "#2a3f5f",
             "gridcolor": "white",
             "linecolor": "white",
             "minorgridcolor": "white",
             "startlinecolor": "#2a3f5f"
            },
            "type": "carpet"
           }
          ],
          "choropleth": [
           {
            "colorbar": {
             "outlinewidth": 0,
             "ticks": ""
            },
            "type": "choropleth"
           }
          ],
          "contour": [
           {
            "colorbar": {
             "outlinewidth": 0,
             "ticks": ""
            },
            "colorscale": [
             [
              0,
              "#0d0887"
             ],
             [
              0.1111111111111111,
              "#46039f"
             ],
             [
              0.2222222222222222,
              "#7201a8"
             ],
             [
              0.3333333333333333,
              "#9c179e"
             ],
             [
              0.4444444444444444,
              "#bd3786"
             ],
             [
              0.5555555555555556,
              "#d8576b"
             ],
             [
              0.6666666666666666,
              "#ed7953"
             ],
             [
              0.7777777777777778,
              "#fb9f3a"
             ],
             [
              0.8888888888888888,
              "#fdca26"
             ],
             [
              1,
              "#f0f921"
             ]
            ],
            "type": "contour"
           }
          ],
          "contourcarpet": [
           {
            "colorbar": {
             "outlinewidth": 0,
             "ticks": ""
            },
            "type": "contourcarpet"
           }
          ],
          "heatmap": [
           {
            "colorbar": {
             "outlinewidth": 0,
             "ticks": ""
            },
            "colorscale": [
             [
              0,
              "#0d0887"
             ],
             [
              0.1111111111111111,
              "#46039f"
             ],
             [
              0.2222222222222222,
              "#7201a8"
             ],
             [
              0.3333333333333333,
              "#9c179e"
             ],
             [
              0.4444444444444444,
              "#bd3786"
             ],
             [
              0.5555555555555556,
              "#d8576b"
             ],
             [
              0.6666666666666666,
              "#ed7953"
             ],
             [
              0.7777777777777778,
              "#fb9f3a"
             ],
             [
              0.8888888888888888,
              "#fdca26"
             ],
             [
              1,
              "#f0f921"
             ]
            ],
            "type": "heatmap"
           }
          ],
          "heatmapgl": [
           {
            "colorbar": {
             "outlinewidth": 0,
             "ticks": ""
            },
            "colorscale": [
             [
              0,
              "#0d0887"
             ],
             [
              0.1111111111111111,
              "#46039f"
             ],
             [
              0.2222222222222222,
              "#7201a8"
             ],
             [
              0.3333333333333333,
              "#9c179e"
             ],
             [
              0.4444444444444444,
              "#bd3786"
             ],
             [
              0.5555555555555556,
              "#d8576b"
             ],
             [
              0.6666666666666666,
              "#ed7953"
             ],
             [
              0.7777777777777778,
              "#fb9f3a"
             ],
             [
              0.8888888888888888,
              "#fdca26"
             ],
             [
              1,
              "#f0f921"
             ]
            ],
            "type": "heatmapgl"
           }
          ],
          "histogram": [
           {
            "marker": {
             "pattern": {
              "fillmode": "overlay",
              "size": 10,
              "solidity": 0.2
             }
            },
            "type": "histogram"
           }
          ],
          "histogram2d": [
           {
            "colorbar": {
             "outlinewidth": 0,
             "ticks": ""
            },
            "colorscale": [
             [
              0,
              "#0d0887"
             ],
             [
              0.1111111111111111,
              "#46039f"
             ],
             [
              0.2222222222222222,
              "#7201a8"
             ],
             [
              0.3333333333333333,
              "#9c179e"
             ],
             [
              0.4444444444444444,
              "#bd3786"
             ],
             [
              0.5555555555555556,
              "#d8576b"
             ],
             [
              0.6666666666666666,
              "#ed7953"
             ],
             [
              0.7777777777777778,
              "#fb9f3a"
             ],
             [
              0.8888888888888888,
              "#fdca26"
             ],
             [
              1,
              "#f0f921"
             ]
            ],
            "type": "histogram2d"
           }
          ],
          "histogram2dcontour": [
           {
            "colorbar": {
             "outlinewidth": 0,
             "ticks": ""
            },
            "colorscale": [
             [
              0,
              "#0d0887"
             ],
             [
              0.1111111111111111,
              "#46039f"
             ],
             [
              0.2222222222222222,
              "#7201a8"
             ],
             [
              0.3333333333333333,
              "#9c179e"
             ],
             [
              0.4444444444444444,
              "#bd3786"
             ],
             [
              0.5555555555555556,
              "#d8576b"
             ],
             [
              0.6666666666666666,
              "#ed7953"
             ],
             [
              0.7777777777777778,
              "#fb9f3a"
             ],
             [
              0.8888888888888888,
              "#fdca26"
             ],
             [
              1,
              "#f0f921"
             ]
            ],
            "type": "histogram2dcontour"
           }
          ],
          "mesh3d": [
           {
            "colorbar": {
             "outlinewidth": 0,
             "ticks": ""
            },
            "type": "mesh3d"
           }
          ],
          "parcoords": [
           {
            "line": {
             "colorbar": {
              "outlinewidth": 0,
              "ticks": ""
             }
            },
            "type": "parcoords"
           }
          ],
          "pie": [
           {
            "automargin": true,
            "type": "pie"
           }
          ],
          "scatter": [
           {
            "fillpattern": {
             "fillmode": "overlay",
             "size": 10,
             "solidity": 0.2
            },
            "type": "scatter"
           }
          ],
          "scatter3d": [
           {
            "line": {
             "colorbar": {
              "outlinewidth": 0,
              "ticks": ""
             }
            },
            "marker": {
             "colorbar": {
              "outlinewidth": 0,
              "ticks": ""
             }
            },
            "type": "scatter3d"
           }
          ],
          "scattercarpet": [
           {
            "marker": {
             "colorbar": {
              "outlinewidth": 0,
              "ticks": ""
             }
            },
            "type": "scattercarpet"
           }
          ],
          "scattergeo": [
           {
            "marker": {
             "colorbar": {
              "outlinewidth": 0,
              "ticks": ""
             }
            },
            "type": "scattergeo"
           }
          ],
          "scattergl": [
           {
            "marker": {
             "colorbar": {
              "outlinewidth": 0,
              "ticks": ""
             }
            },
            "type": "scattergl"
           }
          ],
          "scattermapbox": [
           {
            "marker": {
             "colorbar": {
              "outlinewidth": 0,
              "ticks": ""
             }
            },
            "type": "scattermapbox"
           }
          ],
          "scatterpolar": [
           {
            "marker": {
             "colorbar": {
              "outlinewidth": 0,
              "ticks": ""
             }
            },
            "type": "scatterpolar"
           }
          ],
          "scatterpolargl": [
           {
            "marker": {
             "colorbar": {
              "outlinewidth": 0,
              "ticks": ""
             }
            },
            "type": "scatterpolargl"
           }
          ],
          "scatterternary": [
           {
            "marker": {
             "colorbar": {
              "outlinewidth": 0,
              "ticks": ""
             }
            },
            "type": "scatterternary"
           }
          ],
          "surface": [
           {
            "colorbar": {
             "outlinewidth": 0,
             "ticks": ""
            },
            "colorscale": [
             [
              0,
              "#0d0887"
             ],
             [
              0.1111111111111111,
              "#46039f"
             ],
             [
              0.2222222222222222,
              "#7201a8"
             ],
             [
              0.3333333333333333,
              "#9c179e"
             ],
             [
              0.4444444444444444,
              "#bd3786"
             ],
             [
              0.5555555555555556,
              "#d8576b"
             ],
             [
              0.6666666666666666,
              "#ed7953"
             ],
             [
              0.7777777777777778,
              "#fb9f3a"
             ],
             [
              0.8888888888888888,
              "#fdca26"
             ],
             [
              1,
              "#f0f921"
             ]
            ],
            "type": "surface"
           }
          ],
          "table": [
           {
            "cells": {
             "fill": {
              "color": "#EBF0F8"
             },
             "line": {
              "color": "white"
             }
            },
            "header": {
             "fill": {
              "color": "#C8D4E3"
             },
             "line": {
              "color": "white"
             }
            },
            "type": "table"
           }
          ]
         },
         "layout": {
          "annotationdefaults": {
           "arrowcolor": "#2a3f5f",
           "arrowhead": 0,
           "arrowwidth": 1
          },
          "autotypenumbers": "strict",
          "coloraxis": {
           "colorbar": {
            "outlinewidth": 0,
            "ticks": ""
           }
          },
          "colorscale": {
           "diverging": [
            [
             0,
             "#8e0152"
            ],
            [
             0.1,
             "#c51b7d"
            ],
            [
             0.2,
             "#de77ae"
            ],
            [
             0.3,
             "#f1b6da"
            ],
            [
             0.4,
             "#fde0ef"
            ],
            [
             0.5,
             "#f7f7f7"
            ],
            [
             0.6,
             "#e6f5d0"
            ],
            [
             0.7,
             "#b8e186"
            ],
            [
             0.8,
             "#7fbc41"
            ],
            [
             0.9,
             "#4d9221"
            ],
            [
             1,
             "#276419"
            ]
           ],
           "sequential": [
            [
             0,
             "#0d0887"
            ],
            [
             0.1111111111111111,
             "#46039f"
            ],
            [
             0.2222222222222222,
             "#7201a8"
            ],
            [
             0.3333333333333333,
             "#9c179e"
            ],
            [
             0.4444444444444444,
             "#bd3786"
            ],
            [
             0.5555555555555556,
             "#d8576b"
            ],
            [
             0.6666666666666666,
             "#ed7953"
            ],
            [
             0.7777777777777778,
             "#fb9f3a"
            ],
            [
             0.8888888888888888,
             "#fdca26"
            ],
            [
             1,
             "#f0f921"
            ]
           ],
           "sequentialminus": [
            [
             0,
             "#0d0887"
            ],
            [
             0.1111111111111111,
             "#46039f"
            ],
            [
             0.2222222222222222,
             "#7201a8"
            ],
            [
             0.3333333333333333,
             "#9c179e"
            ],
            [
             0.4444444444444444,
             "#bd3786"
            ],
            [
             0.5555555555555556,
             "#d8576b"
            ],
            [
             0.6666666666666666,
             "#ed7953"
            ],
            [
             0.7777777777777778,
             "#fb9f3a"
            ],
            [
             0.8888888888888888,
             "#fdca26"
            ],
            [
             1,
             "#f0f921"
            ]
           ]
          },
          "colorway": [
           "#636efa",
           "#EF553B",
           "#00cc96",
           "#ab63fa",
           "#FFA15A",
           "#19d3f3",
           "#FF6692",
           "#B6E880",
           "#FF97FF",
           "#FECB52"
          ],
          "font": {
           "color": "#2a3f5f"
          },
          "geo": {
           "bgcolor": "white",
           "lakecolor": "white",
           "landcolor": "#E5ECF6",
           "showlakes": true,
           "showland": true,
           "subunitcolor": "white"
          },
          "hoverlabel": {
           "align": "left"
          },
          "hovermode": "closest",
          "mapbox": {
           "style": "light"
          },
          "paper_bgcolor": "white",
          "plot_bgcolor": "#E5ECF6",
          "polar": {
           "angularaxis": {
            "gridcolor": "white",
            "linecolor": "white",
            "ticks": ""
           },
           "bgcolor": "#E5ECF6",
           "radialaxis": {
            "gridcolor": "white",
            "linecolor": "white",
            "ticks": ""
           }
          },
          "scene": {
           "xaxis": {
            "backgroundcolor": "#E5ECF6",
            "gridcolor": "white",
            "gridwidth": 2,
            "linecolor": "white",
            "showbackground": true,
            "ticks": "",
            "zerolinecolor": "white"
           },
           "yaxis": {
            "backgroundcolor": "#E5ECF6",
            "gridcolor": "white",
            "gridwidth": 2,
            "linecolor": "white",
            "showbackground": true,
            "ticks": "",
            "zerolinecolor": "white"
           },
           "zaxis": {
            "backgroundcolor": "#E5ECF6",
            "gridcolor": "white",
            "gridwidth": 2,
            "linecolor": "white",
            "showbackground": true,
            "ticks": "",
            "zerolinecolor": "white"
           }
          },
          "shapedefaults": {
           "line": {
            "color": "#2a3f5f"
           }
          },
          "ternary": {
           "aaxis": {
            "gridcolor": "white",
            "linecolor": "white",
            "ticks": ""
           },
           "baxis": {
            "gridcolor": "white",
            "linecolor": "white",
            "ticks": ""
           },
           "bgcolor": "#E5ECF6",
           "caxis": {
            "gridcolor": "white",
            "linecolor": "white",
            "ticks": ""
           }
          },
          "title": {
           "x": 0.05
          },
          "xaxis": {
           "automargin": true,
           "gridcolor": "white",
           "linecolor": "white",
           "ticks": "",
           "title": {
            "standoff": 15
           },
           "zerolinecolor": "white",
           "zerolinewidth": 2
          },
          "yaxis": {
           "automargin": true,
           "gridcolor": "white",
           "linecolor": "white",
           "ticks": "",
           "title": {
            "standoff": 15
           },
           "zerolinecolor": "white",
           "zerolinewidth": 2
          }
         }
        },
        "title": {
         "text": "Nr of total nuclei by Tissue Location - cellpdia30_sigma1_dilrad4_dnad_obj_seg_v1_gliaero6_gliathr20_dnadero2"
        },
        "xaxis": {
         "anchor": "y",
         "domain": [
          0,
          1
         ],
         "title": {
          "text": "tissue_location"
         }
        },
        "yaxis": {
         "anchor": "x",
         "domain": [
          0,
          1
         ],
         "title": {
          "text": "nr_total_nuclei"
         }
        }
       }
      }
     },
     "metadata": {},
     "output_type": "display_data"
    }
   ],
   "source": [
    "# Create the plot\n",
    "fig = px.scatter(df, x='tissue_location', y='nr_total_nuclei',\n",
    "                 hover_data=['staining_id','index','filename'], title=f'Nr of total nuclei by Tissue Location - {title}')\n",
    "\n",
    "# Show the plot\n",
    "fig.show()"
   ]
  },
  {
   "cell_type": "code",
   "execution_count": 34,
   "metadata": {},
   "outputs": [
    {
     "data": {
      "application/vnd.plotly.v1+json": {
       "config": {
        "plotlyServerURL": "https://plot.ly"
       },
       "data": [
        {
         "customdata": [
          [
           0,
           "DSB Iba1 16_40X_CA1"
          ],
          [
           1,
           "DSB Iba1 16_40X_CA3"
          ],
          [
           2,
           "DSB Iba1 16_40X_CTX1"
          ],
          [
           3,
           "DSB Iba1 16_40X_CTX2"
          ],
          [
           4,
           "DSB Iba1 16_40X_CTX3"
          ],
          [
           5,
           "DSB Iba1 16_40X_DG"
          ],
          [
           6,
           "DSB Iba1 17_40X_CA1"
          ],
          [
           7,
           "DSB Iba1 17_40X_CA3"
          ],
          [
           8,
           "DSB Iba1 17_40X_CTX1"
          ],
          [
           9,
           "DSB Iba1 17_40X_CTX2"
          ],
          [
           10,
           "DSB Iba1 17_40X_CTX3"
          ],
          [
           11,
           "DSB Iba1 17_40X_DG"
          ],
          [
           12,
           "DSB Iba1 18_40X_CA1"
          ],
          [
           13,
           "DSB Iba1 18_40X_CA3"
          ],
          [
           14,
           "DSB Iba1 18_40X_CTX1"
          ],
          [
           15,
           "DSB Iba1 18_40X_CTX2"
          ],
          [
           16,
           "DSB Iba1 18_40X_CTX3"
          ],
          [
           17,
           "DSB Iba1 18_40X_DG"
          ],
          [
           18,
           "DSB Iba1 19_40X_CA1"
          ],
          [
           19,
           "DSB Iba1 19_40X_CA3"
          ],
          [
           20,
           "DSB Iba1 19_40X_CTX1"
          ],
          [
           21,
           "DSB Iba1 19_40X_CTX2"
          ],
          [
           22,
           "DSB Iba1 19_40X_CTX3"
          ],
          [
           23,
           "DSB Iba1 19_40X_DG"
          ],
          [
           24,
           "DSB Iba1 20_40X_CA1"
          ],
          [
           25,
           "DSB Iba1 20_40X_CA3"
          ],
          [
           26,
           "DSB Iba1 20_40X_CTX1"
          ],
          [
           27,
           "DSB Iba1 20_40X_CTX2"
          ],
          [
           28,
           "DSB Iba1 20_40X_CTX3"
          ],
          [
           29,
           "DSB Iba1 20_40X_DG"
          ],
          [
           30,
           "DSB Iba1 21_40X_CA1"
          ],
          [
           31,
           "DSB Iba1 21_40X_CA3"
          ],
          [
           32,
           "DSB Iba1 21_40X_CTX1"
          ],
          [
           33,
           "DSB Iba1 21_40X_CTX2"
          ],
          [
           34,
           "DSB Iba1 21_40X_CTX3"
          ],
          [
           35,
           "DSB Iba1 21_40X_DG"
          ],
          [
           36,
           "DSB Iba1 22_40X_CA1"
          ],
          [
           37,
           "DSB Iba1 22_40X_CA3"
          ],
          [
           38,
           "DSB Iba1 22_40X_CTX1"
          ],
          [
           39,
           "DSB Iba1 22_40X_CTX2"
          ],
          [
           40,
           "DSB Iba1 22_40X_CTX3"
          ],
          [
           41,
           "DSB Iba1 22_40X_DG"
          ],
          [
           42,
           "DSB Iba1 23_40X_CA1"
          ],
          [
           43,
           "DSB Iba1 23_40X_CA3"
          ],
          [
           44,
           "DSB Iba1 23_40X_CTX1"
          ],
          [
           45,
           "DSB Iba1 23_40X_CTX2"
          ],
          [
           46,
           "DSB Iba1 23_40X_CTX3"
          ],
          [
           47,
           "DSB Iba1 23_40X_DG"
          ],
          [
           48,
           "DSB Iba1 24_40X_CA1"
          ],
          [
           49,
           "DSB Iba1 24_40X_CA3"
          ],
          [
           50,
           "DSB Iba1 24_40X_CTX1"
          ],
          [
           51,
           "DSB Iba1 24_40X_CTX2"
          ],
          [
           52,
           "DSB Iba1 24_40X_CTX3"
          ],
          [
           53,
           "DSB Iba1 24_40X_DG"
          ],
          [
           54,
           "DSB Iba1 25_40X_CA1"
          ],
          [
           55,
           "DSB Iba1 25_40X_CA3"
          ],
          [
           56,
           "DSB Iba1 25_40X_CTX1"
          ],
          [
           57,
           "DSB Iba1 25_40X_CTX2"
          ],
          [
           58,
           "DSB Iba1 25_40X_CTX3"
          ],
          [
           59,
           "DSB Iba1 25_40X_DG"
          ],
          [
           60,
           "DSB Iba1 26_40X_CA1"
          ],
          [
           61,
           "DSB Iba1 26_40X_CA3"
          ],
          [
           62,
           "DSB Iba1 26_40X_CTX1"
          ],
          [
           63,
           "DSB Iba1 26_40X_CTX2"
          ],
          [
           64,
           "DSB Iba1 26_40X_CTX3"
          ],
          [
           65,
           "DSB Iba1 26_40X_DG"
          ],
          [
           66,
           "DSB Iba1 27_40X_DG"
          ],
          [
           67,
           "DSB Iba1 28_40X_CA1"
          ],
          [
           68,
           "DSB Iba1 28_40X_CA3"
          ],
          [
           69,
           "DSB Iba1 28_40X_CTX1"
          ],
          [
           70,
           "DSB Iba1 28_40X_CTX2"
          ],
          [
           71,
           "DSB Iba1 28_40X_CTX3"
          ],
          [
           72,
           "DSB Iba1 28_40X_DG"
          ],
          [
           73,
           "DSB Iba1 29_40X_CA1"
          ],
          [
           74,
           "DSB Iba1 29_40X_CA3"
          ],
          [
           75,
           "DSB Iba1 29_40X_CTX1"
          ],
          [
           76,
           "DSB Iba1 29_40X_CTX2"
          ],
          [
           77,
           "DSB Iba1 29_40X_CTX3"
          ],
          [
           78,
           "DSB Iba1 29_40X_DG"
          ],
          [
           79,
           "DSB Iba1 30_40X_CA1"
          ],
          [
           80,
           "DSB Iba1 30_40X_CA3"
          ],
          [
           81,
           "DSB Iba1 30_40X_CTX1"
          ],
          [
           82,
           "DSB Iba1 30_40X_CTX2"
          ],
          [
           83,
           "DSB Iba1 30_40X_CTX3"
          ],
          [
           84,
           "DSB Iba1 30_40X_DG"
          ],
          [
           85,
           "DSB Iba1 31_40X_CA1"
          ],
          [
           86,
           "DSB Iba1 31_40X_CA3"
          ],
          [
           87,
           "DSB Iba1 31_40X_CTX1"
          ],
          [
           88,
           "DSB Iba1 31_40X_CTX2"
          ],
          [
           89,
           "DSB Iba1 31_40X_CTX3"
          ],
          [
           90,
           "DSB Iba1 31_40X_DG"
          ],
          [
           91,
           "DSB Iba1 32_40X_CA1"
          ],
          [
           92,
           "DSB Iba1 32_40X_CA3"
          ],
          [
           93,
           "DSB Iba1 32_40X_CTX1"
          ],
          [
           94,
           "DSB Iba1 32_40X_CTX2"
          ],
          [
           95,
           "DSB Iba1 32_40X_CTX3"
          ],
          [
           96,
           "DSB Iba1 32_40X_DG"
          ],
          [
           97,
           "DSB Iba1 33_40X_CA1"
          ],
          [
           98,
           "DSB Iba1 33_40X_CA3"
          ],
          [
           99,
           "DSB Iba1 33_40X_CTX1"
          ],
          [
           100,
           "DSB Iba1 33_40X_CTX2"
          ],
          [
           101,
           "DSB Iba1 33_40X_CTX3"
          ],
          [
           102,
           "DSB Iba1 33_40X_DG"
          ],
          [
           103,
           "DSB Iba1 34_40X_CA1"
          ],
          [
           104,
           "DSB Iba1 34_40X_CA3"
          ],
          [
           105,
           "DSB Iba1 34_40X_CTX1"
          ],
          [
           106,
           "DSB Iba1 34_40X_CTX2"
          ],
          [
           107,
           "DSB Iba1 34_40X_CTX3"
          ],
          [
           108,
           "DSB Iba1 34_40X_DG"
          ],
          [
           109,
           "DSB Iba1 35_40X_CA1"
          ],
          [
           110,
           "DSB Iba1 35_40X_CA3"
          ],
          [
           111,
           "DSB Iba1 35_40X_CTX1"
          ],
          [
           112,
           "DSB Iba1 35_40X_CTX2"
          ],
          [
           113,
           "DSB Iba1 35_40X_CTX3"
          ],
          [
           114,
           "DSB Iba1 35_40X_DG"
          ],
          [
           115,
           "DSB Iba1 36_40X_CA1"
          ],
          [
           116,
           "DSB Iba1 36_40X_CA3"
          ],
          [
           117,
           "DSB Iba1 36_40X_CTX1"
          ],
          [
           118,
           "DSB Iba1 36_40X_CTX2"
          ],
          [
           119,
           "DSB Iba1 36_40X_CTX3"
          ],
          [
           120,
           "DSB Iba1 36_40X_DG"
          ],
          [
           121,
           "DSB Iba1 37_40X_CA1"
          ],
          [
           122,
           "DSB Iba1 37_40X_CA3"
          ],
          [
           123,
           "DSB Iba1 37_40X_CTX1"
          ],
          [
           124,
           "DSB Iba1 37_40X_CTX2"
          ],
          [
           125,
           "DSB Iba1 37_40X_CTX3"
          ],
          [
           126,
           "DSB Iba1 37_40X_DG"
          ],
          [
           127,
           "DSB Iba1 38_40X_DG"
          ],
          [
           128,
           "DSB Iba1 39_40X_CA1"
          ],
          [
           129,
           "DSB Iba1 39_40X_CA3"
          ],
          [
           130,
           "DSB Iba1 39_40X_CTX1"
          ],
          [
           131,
           "DSB Iba1 39_40X_CTX2"
          ],
          [
           132,
           "DSB Iba1 39_40X_CTX3"
          ],
          [
           133,
           "DSB Iba1 39_40X_DG"
          ],
          [
           134,
           "DSB Iba1 40_40X_CA1"
          ],
          [
           135,
           "DSB Iba1 40_40X_CA3"
          ],
          [
           136,
           "DSB Iba1 40_40X_CTX1"
          ],
          [
           137,
           "DSB Iba1 40_40X_CTX2"
          ],
          [
           138,
           "DSB Iba1 40_40X_CTX3"
          ],
          [
           139,
           "DSB Iba1 40_40X_DG"
          ],
          [
           140,
           "DSB Iba1 41_40X_CA1"
          ],
          [
           141,
           "DSB Iba1 41_40X_CA3"
          ],
          [
           142,
           "DSB Iba1 41_40X_CTX1"
          ],
          [
           143,
           "DSB Iba1 41_40X_CTX2"
          ],
          [
           144,
           "DSB Iba1 41_40X_CTX3"
          ],
          [
           145,
           "DSB Iba1 41_40X_DG"
          ],
          [
           146,
           "DSB Iba1 42_40X_CA1"
          ],
          [
           147,
           "DSB Iba1 42_40X_CA3"
          ],
          [
           148,
           "DSB Iba1 42_40X_CTX1"
          ],
          [
           149,
           "DSB Iba1 42_40X_CTX2"
          ],
          [
           150,
           "DSB Iba1 42_40X_CTX3"
          ],
          [
           151,
           "DSB Iba1 42_40X_DG"
          ],
          [
           152,
           "DSB Iba1 43_40X_CA1"
          ],
          [
           153,
           "DSB Iba1 43_40X_CA3"
          ],
          [
           154,
           "DSB Iba1 43_40X_CTX1"
          ],
          [
           155,
           "DSB Iba1 43_40X_CTX2"
          ],
          [
           156,
           "DSB Iba1 43_40X_CTX3"
          ],
          [
           157,
           "DSB Iba1 43_40X_DG"
          ],
          [
           158,
           "DSB Iba1 44_40X_CA1"
          ],
          [
           159,
           "DSB Iba1 44_40X_CA3"
          ],
          [
           160,
           "DSB Iba1 44_40X_CTX1"
          ],
          [
           161,
           "DSB Iba1 44_40X_DG"
          ],
          [
           162,
           "DSB Iba1 45_40X_CA1"
          ],
          [
           163,
           "DSB Iba1 45_40X_CA3"
          ],
          [
           164,
           "DSB Iba1 45_40X_CTX1"
          ],
          [
           165,
           "DSB Iba1 45_40X_CTX2"
          ],
          [
           166,
           "DSB Iba1 45_40X_CTX3"
          ],
          [
           167,
           "DSB Iba1 45_40X_DG"
          ],
          [
           168,
           "DSB Iba1 46_40X_CA1"
          ],
          [
           169,
           "DSB Iba1 46_40X_CA3"
          ],
          [
           170,
           "DSB Iba1 46_40X_CTX1"
          ],
          [
           171,
           "DSB Iba1 46_40X_CTX2"
          ],
          [
           172,
           "DSB Iba1 46_40X_CTX3"
          ],
          [
           173,
           "DSB Iba1 46_40X_DG"
          ],
          [
           174,
           "DSB Iba1 47_40X_CA1"
          ],
          [
           175,
           "DSB Iba1 47_40X_CA3"
          ],
          [
           176,
           "DSB Iba1 47_40X_CTX1"
          ],
          [
           177,
           "DSB Iba1 47_40X_CTX2"
          ],
          [
           178,
           "DSB Iba1 47_40X_CTX3"
          ],
          [
           179,
           "DSB Iba1 47_40X_DG"
          ],
          [
           180,
           "DSB Iba1 48_40X_CA1"
          ],
          [
           181,
           "DSB Iba1 48_40X_CA3"
          ],
          [
           182,
           "DSB Iba1 48_40X_CTX1"
          ],
          [
           183,
           "DSB Iba1 48_40X_CTX2"
          ],
          [
           184,
           "DSB Iba1 48_40X_CTX3"
          ],
          [
           185,
           "DSB Iba1 48_40X_DG"
          ],
          [
           186,
           "DSB Iba1 49_40X_CA1"
          ],
          [
           187,
           "DSB Iba1 49_40X_CA3"
          ],
          [
           188,
           "DSB Iba1 49_40X_CTX1"
          ],
          [
           189,
           "DSB Iba1 49_40X_CTX2"
          ],
          [
           190,
           "DSB Iba1 49_40X_CTX3"
          ],
          [
           191,
           "DSB Iba1 49_40X_DG"
          ],
          [
           192,
           "DSB Iba1 50_40X_CA1"
          ],
          [
           193,
           "DSB Iba1 50_40X_CA3"
          ],
          [
           194,
           "DSB Iba1 50_40X_CTX1"
          ],
          [
           195,
           "DSB Iba1 50_40X_CTX2"
          ],
          [
           196,
           "DSB Iba1 50_40X_CTX3"
          ],
          [
           197,
           "DSB Iba1 50_40X_DG"
          ],
          [
           198,
           "DSB Iba1 51_40X_CA1"
          ],
          [
           199,
           "DSB Iba1 51_40X_CA3"
          ],
          [
           200,
           "DSB Iba1 51_40X_CTX1"
          ],
          [
           201,
           "DSB Iba1 51_40X_CTX2"
          ],
          [
           202,
           "DSB Iba1 51_40X_CTX3"
          ],
          [
           203,
           "DSB Iba1 51_40X_DG"
          ],
          [
           204,
           "DSB Iba1 52_40X_CA1"
          ],
          [
           205,
           "DSB Iba1 52_40X_CA3"
          ],
          [
           206,
           "DSB Iba1 52_40X_CTX1"
          ],
          [
           207,
           "DSB Iba1 52_40X_CTX2"
          ],
          [
           208,
           "DSB Iba1 52_40X_CTX3"
          ],
          [
           209,
           "DSB Iba1 52_40X_DG"
          ],
          [
           210,
           "DSB Iba1 53_40X_CA1"
          ],
          [
           211,
           "DSB Iba1 53_40X_CA3"
          ],
          [
           212,
           "DSB Iba1 53_40X_CTX1"
          ],
          [
           213,
           "DSB Iba1 53_40X_CTX2"
          ],
          [
           214,
           "DSB Iba1 53_40X_CTX3"
          ],
          [
           215,
           "DSB Iba1 53_40X_DG"
          ],
          [
           216,
           "DSB Iba1 54_40X_CA1"
          ],
          [
           217,
           "DSB Iba1 54_40X_CA3"
          ],
          [
           218,
           "DSB Iba1 54_40X_CTX1"
          ],
          [
           219,
           "DSB Iba1 54_40X_CTX2"
          ],
          [
           220,
           "DSB Iba1 54_40X_CTX3"
          ],
          [
           221,
           "DSB Iba1 54_40X_DG"
          ],
          [
           222,
           "DSB Iba1 55_40X_CA1"
          ],
          [
           223,
           "DSB Iba1 55_40X_CA3"
          ],
          [
           224,
           "DSB Iba1 55_40X_CTX1"
          ],
          [
           225,
           "DSB Iba1 55_40X_CTX2"
          ],
          [
           226,
           "DSB Iba1 55_40X_CTX3"
          ],
          [
           227,
           "DSB Iba1 55_40X_DG"
          ],
          [
           228,
           "DSB Iba1 56_40X_CA1"
          ],
          [
           229,
           "DSB Iba1 56_40X_CA3"
          ],
          [
           230,
           "DSB Iba1 56_40X_CTX1"
          ],
          [
           231,
           "DSB Iba1 56_40X_CTX2"
          ],
          [
           232,
           "DSB Iba1 56_40X_CTX3"
          ],
          [
           233,
           "DSB Iba1 56_40X_DG"
          ],
          [
           234,
           "DSB Iba1 57_40X_CA1"
          ],
          [
           235,
           "DSB Iba1 57_40X_CA3"
          ],
          [
           236,
           "DSB Iba1 57_40X_CTX1"
          ],
          [
           237,
           "DSB Iba1 57_40X_CTX2"
          ],
          [
           238,
           "DSB Iba1 57_40X_CTX3"
          ],
          [
           239,
           "DSB Iba1 57_40X_DG"
          ],
          [
           240,
           "DSB Iba1 58_40X_CA1"
          ],
          [
           241,
           "DSB Iba1 58_40X_CA3"
          ],
          [
           242,
           "DSB Iba1 58_40X_CTX1"
          ],
          [
           243,
           "DSB Iba1 58_40X_CTX2"
          ],
          [
           244,
           "DSB Iba1 58_40X_CTX3"
          ],
          [
           245,
           "DSB Iba1 58_40X_DG"
          ],
          [
           246,
           "DSB Iba1 59_40X_CA1"
          ],
          [
           247,
           "DSB Iba1 59_40X_CA3"
          ],
          [
           248,
           "DSB Iba1 59_40X_CTX1"
          ],
          [
           249,
           "DSB Iba1 59_40X_CTX2"
          ],
          [
           250,
           "DSB Iba1 59_40X_CTX3"
          ],
          [
           251,
           "DSB Iba1 59_40X_DG"
          ]
         ],
         "hovertemplate": "staining_id=%{x}<br>nr_glia_+_nuclei=%{y}<br>index=%{customdata[0]}<br>filename=%{customdata[1]}<extra></extra>",
         "legendgroup": "",
         "marker": {
          "color": "#636efa",
          "symbol": "circle"
         },
         "mode": "markers",
         "name": "",
         "orientation": "v",
         "showlegend": false,
         "type": "scatter",
         "x": [
          16,
          16,
          16,
          16,
          16,
          16,
          17,
          17,
          17,
          17,
          17,
          17,
          18,
          18,
          18,
          18,
          18,
          18,
          19,
          19,
          19,
          19,
          19,
          19,
          20,
          20,
          20,
          20,
          20,
          20,
          21,
          21,
          21,
          21,
          21,
          21,
          22,
          22,
          22,
          22,
          22,
          22,
          23,
          23,
          23,
          23,
          23,
          23,
          24,
          24,
          24,
          24,
          24,
          24,
          25,
          25,
          25,
          25,
          25,
          25,
          26,
          26,
          26,
          26,
          26,
          26,
          27,
          28,
          28,
          28,
          28,
          28,
          28,
          29,
          29,
          29,
          29,
          29,
          29,
          30,
          30,
          30,
          30,
          30,
          30,
          31,
          31,
          31,
          31,
          31,
          31,
          32,
          32,
          32,
          32,
          32,
          32,
          33,
          33,
          33,
          33,
          33,
          33,
          34,
          34,
          34,
          34,
          34,
          34,
          35,
          35,
          35,
          35,
          35,
          35,
          36,
          36,
          36,
          36,
          36,
          36,
          37,
          37,
          37,
          37,
          37,
          37,
          38,
          39,
          39,
          39,
          39,
          39,
          39,
          40,
          40,
          40,
          40,
          40,
          40,
          41,
          41,
          41,
          41,
          41,
          41,
          42,
          42,
          42,
          42,
          42,
          42,
          43,
          43,
          43,
          43,
          43,
          43,
          44,
          44,
          44,
          44,
          45,
          45,
          45,
          45,
          45,
          45,
          46,
          46,
          46,
          46,
          46,
          46,
          47,
          47,
          47,
          47,
          47,
          47,
          48,
          48,
          48,
          48,
          48,
          48,
          49,
          49,
          49,
          49,
          49,
          49,
          50,
          50,
          50,
          50,
          50,
          50,
          51,
          51,
          51,
          51,
          51,
          51,
          52,
          52,
          52,
          52,
          52,
          52,
          53,
          53,
          53,
          53,
          53,
          53,
          54,
          54,
          54,
          54,
          54,
          54,
          55,
          55,
          55,
          55,
          55,
          55,
          56,
          56,
          56,
          56,
          56,
          56,
          57,
          57,
          57,
          57,
          57,
          57,
          58,
          58,
          58,
          58,
          58,
          58,
          59,
          59,
          59,
          59,
          59,
          59
         ],
         "xaxis": "x",
         "y": [
          189,
          185,
          42,
          241,
          104,
          438,
          11,
          19,
          17,
          52,
          27,
          149,
          14,
          12,
          19,
          20,
          17,
          104,
          66,
          71,
          211,
          71,
          103,
          127,
          6,
          5,
          5,
          22,
          3,
          7,
          11,
          4,
          17,
          15,
          23,
          15,
          19,
          6,
          10,
          17,
          8,
          17,
          8,
          8,
          25,
          5,
          11,
          16,
          6,
          4,
          19,
          17,
          13,
          8,
          8,
          9,
          25,
          20,
          9,
          15,
          7,
          5,
          8,
          15,
          11,
          12,
          4,
          2,
          1,
          3,
          13,
          11,
          17,
          10,
          5,
          16,
          26,
          16,
          6,
          6,
          4,
          26,
          22,
          13,
          5,
          11,
          1,
          11,
          17,
          13,
          14,
          18,
          17,
          31,
          38,
          27,
          60,
          5,
          7,
          10,
          15,
          9,
          8,
          11,
          5,
          22,
          27,
          26,
          19,
          10,
          29,
          18,
          111,
          80,
          134,
          8,
          6,
          16,
          29,
          10,
          5,
          7,
          11,
          13,
          24,
          29,
          7,
          4,
          6,
          5,
          2,
          5,
          2,
          8,
          4,
          8,
          20,
          11,
          24,
          5,
          4,
          4,
          0,
          3,
          5,
          6,
          3,
          6,
          6,
          15,
          10,
          4,
          11,
          7,
          28,
          20,
          12,
          39,
          31,
          18,
          54,
          79,
          16,
          3,
          12,
          25,
          17,
          22,
          66,
          36,
          79,
          104,
          68,
          124,
          17,
          17,
          36,
          74,
          37,
          16,
          7,
          4,
          35,
          24,
          20,
          13,
          17,
          16,
          16,
          18,
          17,
          28,
          13,
          9,
          24,
          14,
          31,
          15,
          15,
          8,
          18,
          24,
          26,
          22,
          5,
          7,
          23,
          31,
          26,
          16,
          6,
          6,
          24,
          26,
          13,
          18,
          5,
          3,
          10,
          10,
          20,
          13,
          7,
          3,
          8,
          9,
          6,
          11,
          13,
          12,
          21,
          23,
          36,
          16,
          11,
          8,
          14,
          12,
          11,
          28,
          4,
          6,
          17,
          16,
          6,
          2,
          5,
          5,
          9,
          20,
          23,
          6
         ],
         "yaxis": "y"
        }
       ],
       "layout": {
        "legend": {
         "tracegroupgap": 0
        },
        "template": {
         "data": {
          "bar": [
           {
            "error_x": {
             "color": "#2a3f5f"
            },
            "error_y": {
             "color": "#2a3f5f"
            },
            "marker": {
             "line": {
              "color": "#E5ECF6",
              "width": 0.5
             },
             "pattern": {
              "fillmode": "overlay",
              "size": 10,
              "solidity": 0.2
             }
            },
            "type": "bar"
           }
          ],
          "barpolar": [
           {
            "marker": {
             "line": {
              "color": "#E5ECF6",
              "width": 0.5
             },
             "pattern": {
              "fillmode": "overlay",
              "size": 10,
              "solidity": 0.2
             }
            },
            "type": "barpolar"
           }
          ],
          "carpet": [
           {
            "aaxis": {
             "endlinecolor": "#2a3f5f",
             "gridcolor": "white",
             "linecolor": "white",
             "minorgridcolor": "white",
             "startlinecolor": "#2a3f5f"
            },
            "baxis": {
             "endlinecolor": "#2a3f5f",
             "gridcolor": "white",
             "linecolor": "white",
             "minorgridcolor": "white",
             "startlinecolor": "#2a3f5f"
            },
            "type": "carpet"
           }
          ],
          "choropleth": [
           {
            "colorbar": {
             "outlinewidth": 0,
             "ticks": ""
            },
            "type": "choropleth"
           }
          ],
          "contour": [
           {
            "colorbar": {
             "outlinewidth": 0,
             "ticks": ""
            },
            "colorscale": [
             [
              0,
              "#0d0887"
             ],
             [
              0.1111111111111111,
              "#46039f"
             ],
             [
              0.2222222222222222,
              "#7201a8"
             ],
             [
              0.3333333333333333,
              "#9c179e"
             ],
             [
              0.4444444444444444,
              "#bd3786"
             ],
             [
              0.5555555555555556,
              "#d8576b"
             ],
             [
              0.6666666666666666,
              "#ed7953"
             ],
             [
              0.7777777777777778,
              "#fb9f3a"
             ],
             [
              0.8888888888888888,
              "#fdca26"
             ],
             [
              1,
              "#f0f921"
             ]
            ],
            "type": "contour"
           }
          ],
          "contourcarpet": [
           {
            "colorbar": {
             "outlinewidth": 0,
             "ticks": ""
            },
            "type": "contourcarpet"
           }
          ],
          "heatmap": [
           {
            "colorbar": {
             "outlinewidth": 0,
             "ticks": ""
            },
            "colorscale": [
             [
              0,
              "#0d0887"
             ],
             [
              0.1111111111111111,
              "#46039f"
             ],
             [
              0.2222222222222222,
              "#7201a8"
             ],
             [
              0.3333333333333333,
              "#9c179e"
             ],
             [
              0.4444444444444444,
              "#bd3786"
             ],
             [
              0.5555555555555556,
              "#d8576b"
             ],
             [
              0.6666666666666666,
              "#ed7953"
             ],
             [
              0.7777777777777778,
              "#fb9f3a"
             ],
             [
              0.8888888888888888,
              "#fdca26"
             ],
             [
              1,
              "#f0f921"
             ]
            ],
            "type": "heatmap"
           }
          ],
          "heatmapgl": [
           {
            "colorbar": {
             "outlinewidth": 0,
             "ticks": ""
            },
            "colorscale": [
             [
              0,
              "#0d0887"
             ],
             [
              0.1111111111111111,
              "#46039f"
             ],
             [
              0.2222222222222222,
              "#7201a8"
             ],
             [
              0.3333333333333333,
              "#9c179e"
             ],
             [
              0.4444444444444444,
              "#bd3786"
             ],
             [
              0.5555555555555556,
              "#d8576b"
             ],
             [
              0.6666666666666666,
              "#ed7953"
             ],
             [
              0.7777777777777778,
              "#fb9f3a"
             ],
             [
              0.8888888888888888,
              "#fdca26"
             ],
             [
              1,
              "#f0f921"
             ]
            ],
            "type": "heatmapgl"
           }
          ],
          "histogram": [
           {
            "marker": {
             "pattern": {
              "fillmode": "overlay",
              "size": 10,
              "solidity": 0.2
             }
            },
            "type": "histogram"
           }
          ],
          "histogram2d": [
           {
            "colorbar": {
             "outlinewidth": 0,
             "ticks": ""
            },
            "colorscale": [
             [
              0,
              "#0d0887"
             ],
             [
              0.1111111111111111,
              "#46039f"
             ],
             [
              0.2222222222222222,
              "#7201a8"
             ],
             [
              0.3333333333333333,
              "#9c179e"
             ],
             [
              0.4444444444444444,
              "#bd3786"
             ],
             [
              0.5555555555555556,
              "#d8576b"
             ],
             [
              0.6666666666666666,
              "#ed7953"
             ],
             [
              0.7777777777777778,
              "#fb9f3a"
             ],
             [
              0.8888888888888888,
              "#fdca26"
             ],
             [
              1,
              "#f0f921"
             ]
            ],
            "type": "histogram2d"
           }
          ],
          "histogram2dcontour": [
           {
            "colorbar": {
             "outlinewidth": 0,
             "ticks": ""
            },
            "colorscale": [
             [
              0,
              "#0d0887"
             ],
             [
              0.1111111111111111,
              "#46039f"
             ],
             [
              0.2222222222222222,
              "#7201a8"
             ],
             [
              0.3333333333333333,
              "#9c179e"
             ],
             [
              0.4444444444444444,
              "#bd3786"
             ],
             [
              0.5555555555555556,
              "#d8576b"
             ],
             [
              0.6666666666666666,
              "#ed7953"
             ],
             [
              0.7777777777777778,
              "#fb9f3a"
             ],
             [
              0.8888888888888888,
              "#fdca26"
             ],
             [
              1,
              "#f0f921"
             ]
            ],
            "type": "histogram2dcontour"
           }
          ],
          "mesh3d": [
           {
            "colorbar": {
             "outlinewidth": 0,
             "ticks": ""
            },
            "type": "mesh3d"
           }
          ],
          "parcoords": [
           {
            "line": {
             "colorbar": {
              "outlinewidth": 0,
              "ticks": ""
             }
            },
            "type": "parcoords"
           }
          ],
          "pie": [
           {
            "automargin": true,
            "type": "pie"
           }
          ],
          "scatter": [
           {
            "fillpattern": {
             "fillmode": "overlay",
             "size": 10,
             "solidity": 0.2
            },
            "type": "scatter"
           }
          ],
          "scatter3d": [
           {
            "line": {
             "colorbar": {
              "outlinewidth": 0,
              "ticks": ""
             }
            },
            "marker": {
             "colorbar": {
              "outlinewidth": 0,
              "ticks": ""
             }
            },
            "type": "scatter3d"
           }
          ],
          "scattercarpet": [
           {
            "marker": {
             "colorbar": {
              "outlinewidth": 0,
              "ticks": ""
             }
            },
            "type": "scattercarpet"
           }
          ],
          "scattergeo": [
           {
            "marker": {
             "colorbar": {
              "outlinewidth": 0,
              "ticks": ""
             }
            },
            "type": "scattergeo"
           }
          ],
          "scattergl": [
           {
            "marker": {
             "colorbar": {
              "outlinewidth": 0,
              "ticks": ""
             }
            },
            "type": "scattergl"
           }
          ],
          "scattermapbox": [
           {
            "marker": {
             "colorbar": {
              "outlinewidth": 0,
              "ticks": ""
             }
            },
            "type": "scattermapbox"
           }
          ],
          "scatterpolar": [
           {
            "marker": {
             "colorbar": {
              "outlinewidth": 0,
              "ticks": ""
             }
            },
            "type": "scatterpolar"
           }
          ],
          "scatterpolargl": [
           {
            "marker": {
             "colorbar": {
              "outlinewidth": 0,
              "ticks": ""
             }
            },
            "type": "scatterpolargl"
           }
          ],
          "scatterternary": [
           {
            "marker": {
             "colorbar": {
              "outlinewidth": 0,
              "ticks": ""
             }
            },
            "type": "scatterternary"
           }
          ],
          "surface": [
           {
            "colorbar": {
             "outlinewidth": 0,
             "ticks": ""
            },
            "colorscale": [
             [
              0,
              "#0d0887"
             ],
             [
              0.1111111111111111,
              "#46039f"
             ],
             [
              0.2222222222222222,
              "#7201a8"
             ],
             [
              0.3333333333333333,
              "#9c179e"
             ],
             [
              0.4444444444444444,
              "#bd3786"
             ],
             [
              0.5555555555555556,
              "#d8576b"
             ],
             [
              0.6666666666666666,
              "#ed7953"
             ],
             [
              0.7777777777777778,
              "#fb9f3a"
             ],
             [
              0.8888888888888888,
              "#fdca26"
             ],
             [
              1,
              "#f0f921"
             ]
            ],
            "type": "surface"
           }
          ],
          "table": [
           {
            "cells": {
             "fill": {
              "color": "#EBF0F8"
             },
             "line": {
              "color": "white"
             }
            },
            "header": {
             "fill": {
              "color": "#C8D4E3"
             },
             "line": {
              "color": "white"
             }
            },
            "type": "table"
           }
          ]
         },
         "layout": {
          "annotationdefaults": {
           "arrowcolor": "#2a3f5f",
           "arrowhead": 0,
           "arrowwidth": 1
          },
          "autotypenumbers": "strict",
          "coloraxis": {
           "colorbar": {
            "outlinewidth": 0,
            "ticks": ""
           }
          },
          "colorscale": {
           "diverging": [
            [
             0,
             "#8e0152"
            ],
            [
             0.1,
             "#c51b7d"
            ],
            [
             0.2,
             "#de77ae"
            ],
            [
             0.3,
             "#f1b6da"
            ],
            [
             0.4,
             "#fde0ef"
            ],
            [
             0.5,
             "#f7f7f7"
            ],
            [
             0.6,
             "#e6f5d0"
            ],
            [
             0.7,
             "#b8e186"
            ],
            [
             0.8,
             "#7fbc41"
            ],
            [
             0.9,
             "#4d9221"
            ],
            [
             1,
             "#276419"
            ]
           ],
           "sequential": [
            [
             0,
             "#0d0887"
            ],
            [
             0.1111111111111111,
             "#46039f"
            ],
            [
             0.2222222222222222,
             "#7201a8"
            ],
            [
             0.3333333333333333,
             "#9c179e"
            ],
            [
             0.4444444444444444,
             "#bd3786"
            ],
            [
             0.5555555555555556,
             "#d8576b"
            ],
            [
             0.6666666666666666,
             "#ed7953"
            ],
            [
             0.7777777777777778,
             "#fb9f3a"
            ],
            [
             0.8888888888888888,
             "#fdca26"
            ],
            [
             1,
             "#f0f921"
            ]
           ],
           "sequentialminus": [
            [
             0,
             "#0d0887"
            ],
            [
             0.1111111111111111,
             "#46039f"
            ],
            [
             0.2222222222222222,
             "#7201a8"
            ],
            [
             0.3333333333333333,
             "#9c179e"
            ],
            [
             0.4444444444444444,
             "#bd3786"
            ],
            [
             0.5555555555555556,
             "#d8576b"
            ],
            [
             0.6666666666666666,
             "#ed7953"
            ],
            [
             0.7777777777777778,
             "#fb9f3a"
            ],
            [
             0.8888888888888888,
             "#fdca26"
            ],
            [
             1,
             "#f0f921"
            ]
           ]
          },
          "colorway": [
           "#636efa",
           "#EF553B",
           "#00cc96",
           "#ab63fa",
           "#FFA15A",
           "#19d3f3",
           "#FF6692",
           "#B6E880",
           "#FF97FF",
           "#FECB52"
          ],
          "font": {
           "color": "#2a3f5f"
          },
          "geo": {
           "bgcolor": "white",
           "lakecolor": "white",
           "landcolor": "#E5ECF6",
           "showlakes": true,
           "showland": true,
           "subunitcolor": "white"
          },
          "hoverlabel": {
           "align": "left"
          },
          "hovermode": "closest",
          "mapbox": {
           "style": "light"
          },
          "paper_bgcolor": "white",
          "plot_bgcolor": "#E5ECF6",
          "polar": {
           "angularaxis": {
            "gridcolor": "white",
            "linecolor": "white",
            "ticks": ""
           },
           "bgcolor": "#E5ECF6",
           "radialaxis": {
            "gridcolor": "white",
            "linecolor": "white",
            "ticks": ""
           }
          },
          "scene": {
           "xaxis": {
            "backgroundcolor": "#E5ECF6",
            "gridcolor": "white",
            "gridwidth": 2,
            "linecolor": "white",
            "showbackground": true,
            "ticks": "",
            "zerolinecolor": "white"
           },
           "yaxis": {
            "backgroundcolor": "#E5ECF6",
            "gridcolor": "white",
            "gridwidth": 2,
            "linecolor": "white",
            "showbackground": true,
            "ticks": "",
            "zerolinecolor": "white"
           },
           "zaxis": {
            "backgroundcolor": "#E5ECF6",
            "gridcolor": "white",
            "gridwidth": 2,
            "linecolor": "white",
            "showbackground": true,
            "ticks": "",
            "zerolinecolor": "white"
           }
          },
          "shapedefaults": {
           "line": {
            "color": "#2a3f5f"
           }
          },
          "ternary": {
           "aaxis": {
            "gridcolor": "white",
            "linecolor": "white",
            "ticks": ""
           },
           "baxis": {
            "gridcolor": "white",
            "linecolor": "white",
            "ticks": ""
           },
           "bgcolor": "#E5ECF6",
           "caxis": {
            "gridcolor": "white",
            "linecolor": "white",
            "ticks": ""
           }
          },
          "title": {
           "x": 0.05
          },
          "xaxis": {
           "automargin": true,
           "gridcolor": "white",
           "linecolor": "white",
           "ticks": "",
           "title": {
            "standoff": 15
           },
           "zerolinecolor": "white",
           "zerolinewidth": 2
          },
          "yaxis": {
           "automargin": true,
           "gridcolor": "white",
           "linecolor": "white",
           "ticks": "",
           "title": {
            "standoff": 15
           },
           "zerolinecolor": "white",
           "zerolinewidth": 2
          }
         }
        },
        "title": {
         "text": "Nr of glia+ nuclei by Sample - cellpdia30_sigma1_dilrad4_dnad_obj_seg_v1_gliaero6_gliathr20_dnadero2"
        },
        "xaxis": {
         "anchor": "y",
         "domain": [
          0,
          1
         ],
         "title": {
          "text": "staining_id"
         }
        },
        "yaxis": {
         "anchor": "x",
         "domain": [
          0,
          1
         ],
         "title": {
          "text": "nr_glia_+_nuclei"
         }
        }
       }
      }
     },
     "metadata": {},
     "output_type": "display_data"
    }
   ],
   "source": [
    "# Create the plot\n",
    "fig = px.scatter(df, x='staining_id', y='nr_glia_+_nuclei',\n",
    "                 hover_data=['staining_id','index','filename'], title=f'Nr of glia+ nuclei by Sample - {title}')\n",
    "\n",
    "# Show the plot\n",
    "fig.show()"
   ]
  },
  {
   "cell_type": "code",
   "execution_count": 35,
   "metadata": {},
   "outputs": [
    {
     "data": {
      "application/vnd.plotly.v1+json": {
       "config": {
        "plotlyServerURL": "https://plot.ly"
       },
       "data": [
        {
         "customdata": [
          [
           0,
           "DSB Iba1 16_40X_CA1"
          ],
          [
           1,
           "DSB Iba1 16_40X_CA3"
          ],
          [
           2,
           "DSB Iba1 16_40X_CTX1"
          ],
          [
           3,
           "DSB Iba1 16_40X_CTX2"
          ],
          [
           4,
           "DSB Iba1 16_40X_CTX3"
          ],
          [
           5,
           "DSB Iba1 16_40X_DG"
          ],
          [
           6,
           "DSB Iba1 17_40X_CA1"
          ],
          [
           7,
           "DSB Iba1 17_40X_CA3"
          ],
          [
           8,
           "DSB Iba1 17_40X_CTX1"
          ],
          [
           9,
           "DSB Iba1 17_40X_CTX2"
          ],
          [
           10,
           "DSB Iba1 17_40X_CTX3"
          ],
          [
           11,
           "DSB Iba1 17_40X_DG"
          ],
          [
           12,
           "DSB Iba1 18_40X_CA1"
          ],
          [
           13,
           "DSB Iba1 18_40X_CA3"
          ],
          [
           14,
           "DSB Iba1 18_40X_CTX1"
          ],
          [
           15,
           "DSB Iba1 18_40X_CTX2"
          ],
          [
           16,
           "DSB Iba1 18_40X_CTX3"
          ],
          [
           17,
           "DSB Iba1 18_40X_DG"
          ],
          [
           18,
           "DSB Iba1 19_40X_CA1"
          ],
          [
           19,
           "DSB Iba1 19_40X_CA3"
          ],
          [
           20,
           "DSB Iba1 19_40X_CTX1"
          ],
          [
           21,
           "DSB Iba1 19_40X_CTX2"
          ],
          [
           22,
           "DSB Iba1 19_40X_CTX3"
          ],
          [
           23,
           "DSB Iba1 19_40X_DG"
          ],
          [
           24,
           "DSB Iba1 20_40X_CA1"
          ],
          [
           25,
           "DSB Iba1 20_40X_CA3"
          ],
          [
           26,
           "DSB Iba1 20_40X_CTX1"
          ],
          [
           27,
           "DSB Iba1 20_40X_CTX2"
          ],
          [
           28,
           "DSB Iba1 20_40X_CTX3"
          ],
          [
           29,
           "DSB Iba1 20_40X_DG"
          ],
          [
           30,
           "DSB Iba1 21_40X_CA1"
          ],
          [
           31,
           "DSB Iba1 21_40X_CA3"
          ],
          [
           32,
           "DSB Iba1 21_40X_CTX1"
          ],
          [
           33,
           "DSB Iba1 21_40X_CTX2"
          ],
          [
           34,
           "DSB Iba1 21_40X_CTX3"
          ],
          [
           35,
           "DSB Iba1 21_40X_DG"
          ],
          [
           36,
           "DSB Iba1 22_40X_CA1"
          ],
          [
           37,
           "DSB Iba1 22_40X_CA3"
          ],
          [
           38,
           "DSB Iba1 22_40X_CTX1"
          ],
          [
           39,
           "DSB Iba1 22_40X_CTX2"
          ],
          [
           40,
           "DSB Iba1 22_40X_CTX3"
          ],
          [
           41,
           "DSB Iba1 22_40X_DG"
          ],
          [
           42,
           "DSB Iba1 23_40X_CA1"
          ],
          [
           43,
           "DSB Iba1 23_40X_CA3"
          ],
          [
           44,
           "DSB Iba1 23_40X_CTX1"
          ],
          [
           45,
           "DSB Iba1 23_40X_CTX2"
          ],
          [
           46,
           "DSB Iba1 23_40X_CTX3"
          ],
          [
           47,
           "DSB Iba1 23_40X_DG"
          ],
          [
           48,
           "DSB Iba1 24_40X_CA1"
          ],
          [
           49,
           "DSB Iba1 24_40X_CA3"
          ],
          [
           50,
           "DSB Iba1 24_40X_CTX1"
          ],
          [
           51,
           "DSB Iba1 24_40X_CTX2"
          ],
          [
           52,
           "DSB Iba1 24_40X_CTX3"
          ],
          [
           53,
           "DSB Iba1 24_40X_DG"
          ],
          [
           54,
           "DSB Iba1 25_40X_CA1"
          ],
          [
           55,
           "DSB Iba1 25_40X_CA3"
          ],
          [
           56,
           "DSB Iba1 25_40X_CTX1"
          ],
          [
           57,
           "DSB Iba1 25_40X_CTX2"
          ],
          [
           58,
           "DSB Iba1 25_40X_CTX3"
          ],
          [
           59,
           "DSB Iba1 25_40X_DG"
          ],
          [
           60,
           "DSB Iba1 26_40X_CA1"
          ],
          [
           61,
           "DSB Iba1 26_40X_CA3"
          ],
          [
           62,
           "DSB Iba1 26_40X_CTX1"
          ],
          [
           63,
           "DSB Iba1 26_40X_CTX2"
          ],
          [
           64,
           "DSB Iba1 26_40X_CTX3"
          ],
          [
           65,
           "DSB Iba1 26_40X_DG"
          ],
          [
           66,
           "DSB Iba1 27_40X_DG"
          ],
          [
           67,
           "DSB Iba1 28_40X_CA1"
          ],
          [
           68,
           "DSB Iba1 28_40X_CA3"
          ],
          [
           69,
           "DSB Iba1 28_40X_CTX1"
          ],
          [
           70,
           "DSB Iba1 28_40X_CTX2"
          ],
          [
           71,
           "DSB Iba1 28_40X_CTX3"
          ],
          [
           72,
           "DSB Iba1 28_40X_DG"
          ],
          [
           73,
           "DSB Iba1 29_40X_CA1"
          ],
          [
           74,
           "DSB Iba1 29_40X_CA3"
          ],
          [
           75,
           "DSB Iba1 29_40X_CTX1"
          ],
          [
           76,
           "DSB Iba1 29_40X_CTX2"
          ],
          [
           77,
           "DSB Iba1 29_40X_CTX3"
          ],
          [
           78,
           "DSB Iba1 29_40X_DG"
          ],
          [
           79,
           "DSB Iba1 30_40X_CA1"
          ],
          [
           80,
           "DSB Iba1 30_40X_CA3"
          ],
          [
           81,
           "DSB Iba1 30_40X_CTX1"
          ],
          [
           82,
           "DSB Iba1 30_40X_CTX2"
          ],
          [
           83,
           "DSB Iba1 30_40X_CTX3"
          ],
          [
           84,
           "DSB Iba1 30_40X_DG"
          ],
          [
           85,
           "DSB Iba1 31_40X_CA1"
          ],
          [
           86,
           "DSB Iba1 31_40X_CA3"
          ],
          [
           87,
           "DSB Iba1 31_40X_CTX1"
          ],
          [
           88,
           "DSB Iba1 31_40X_CTX2"
          ],
          [
           89,
           "DSB Iba1 31_40X_CTX3"
          ],
          [
           90,
           "DSB Iba1 31_40X_DG"
          ],
          [
           91,
           "DSB Iba1 32_40X_CA1"
          ],
          [
           92,
           "DSB Iba1 32_40X_CA3"
          ],
          [
           93,
           "DSB Iba1 32_40X_CTX1"
          ],
          [
           94,
           "DSB Iba1 32_40X_CTX2"
          ],
          [
           95,
           "DSB Iba1 32_40X_CTX3"
          ],
          [
           96,
           "DSB Iba1 32_40X_DG"
          ],
          [
           97,
           "DSB Iba1 33_40X_CA1"
          ],
          [
           98,
           "DSB Iba1 33_40X_CA3"
          ],
          [
           99,
           "DSB Iba1 33_40X_CTX1"
          ],
          [
           100,
           "DSB Iba1 33_40X_CTX2"
          ],
          [
           101,
           "DSB Iba1 33_40X_CTX3"
          ],
          [
           102,
           "DSB Iba1 33_40X_DG"
          ],
          [
           103,
           "DSB Iba1 34_40X_CA1"
          ],
          [
           104,
           "DSB Iba1 34_40X_CA3"
          ],
          [
           105,
           "DSB Iba1 34_40X_CTX1"
          ],
          [
           106,
           "DSB Iba1 34_40X_CTX2"
          ],
          [
           107,
           "DSB Iba1 34_40X_CTX3"
          ],
          [
           108,
           "DSB Iba1 34_40X_DG"
          ],
          [
           109,
           "DSB Iba1 35_40X_CA1"
          ],
          [
           110,
           "DSB Iba1 35_40X_CA3"
          ],
          [
           111,
           "DSB Iba1 35_40X_CTX1"
          ],
          [
           112,
           "DSB Iba1 35_40X_CTX2"
          ],
          [
           113,
           "DSB Iba1 35_40X_CTX3"
          ],
          [
           114,
           "DSB Iba1 35_40X_DG"
          ],
          [
           115,
           "DSB Iba1 36_40X_CA1"
          ],
          [
           116,
           "DSB Iba1 36_40X_CA3"
          ],
          [
           117,
           "DSB Iba1 36_40X_CTX1"
          ],
          [
           118,
           "DSB Iba1 36_40X_CTX2"
          ],
          [
           119,
           "DSB Iba1 36_40X_CTX3"
          ],
          [
           120,
           "DSB Iba1 36_40X_DG"
          ],
          [
           121,
           "DSB Iba1 37_40X_CA1"
          ],
          [
           122,
           "DSB Iba1 37_40X_CA3"
          ],
          [
           123,
           "DSB Iba1 37_40X_CTX1"
          ],
          [
           124,
           "DSB Iba1 37_40X_CTX2"
          ],
          [
           125,
           "DSB Iba1 37_40X_CTX3"
          ],
          [
           126,
           "DSB Iba1 37_40X_DG"
          ],
          [
           127,
           "DSB Iba1 38_40X_DG"
          ],
          [
           128,
           "DSB Iba1 39_40X_CA1"
          ],
          [
           129,
           "DSB Iba1 39_40X_CA3"
          ],
          [
           130,
           "DSB Iba1 39_40X_CTX1"
          ],
          [
           131,
           "DSB Iba1 39_40X_CTX2"
          ],
          [
           132,
           "DSB Iba1 39_40X_CTX3"
          ],
          [
           133,
           "DSB Iba1 39_40X_DG"
          ],
          [
           134,
           "DSB Iba1 40_40X_CA1"
          ],
          [
           135,
           "DSB Iba1 40_40X_CA3"
          ],
          [
           136,
           "DSB Iba1 40_40X_CTX1"
          ],
          [
           137,
           "DSB Iba1 40_40X_CTX2"
          ],
          [
           138,
           "DSB Iba1 40_40X_CTX3"
          ],
          [
           139,
           "DSB Iba1 40_40X_DG"
          ],
          [
           140,
           "DSB Iba1 41_40X_CA1"
          ],
          [
           141,
           "DSB Iba1 41_40X_CA3"
          ],
          [
           142,
           "DSB Iba1 41_40X_CTX1"
          ],
          [
           143,
           "DSB Iba1 41_40X_CTX2"
          ],
          [
           144,
           "DSB Iba1 41_40X_CTX3"
          ],
          [
           145,
           "DSB Iba1 41_40X_DG"
          ],
          [
           146,
           "DSB Iba1 42_40X_CA1"
          ],
          [
           147,
           "DSB Iba1 42_40X_CA3"
          ],
          [
           148,
           "DSB Iba1 42_40X_CTX1"
          ],
          [
           149,
           "DSB Iba1 42_40X_CTX2"
          ],
          [
           150,
           "DSB Iba1 42_40X_CTX3"
          ],
          [
           151,
           "DSB Iba1 42_40X_DG"
          ],
          [
           152,
           "DSB Iba1 43_40X_CA1"
          ],
          [
           153,
           "DSB Iba1 43_40X_CA3"
          ],
          [
           154,
           "DSB Iba1 43_40X_CTX1"
          ],
          [
           155,
           "DSB Iba1 43_40X_CTX2"
          ],
          [
           156,
           "DSB Iba1 43_40X_CTX3"
          ],
          [
           157,
           "DSB Iba1 43_40X_DG"
          ],
          [
           158,
           "DSB Iba1 44_40X_CA1"
          ],
          [
           159,
           "DSB Iba1 44_40X_CA3"
          ],
          [
           160,
           "DSB Iba1 44_40X_CTX1"
          ],
          [
           161,
           "DSB Iba1 44_40X_DG"
          ],
          [
           162,
           "DSB Iba1 45_40X_CA1"
          ],
          [
           163,
           "DSB Iba1 45_40X_CA3"
          ],
          [
           164,
           "DSB Iba1 45_40X_CTX1"
          ],
          [
           165,
           "DSB Iba1 45_40X_CTX2"
          ],
          [
           166,
           "DSB Iba1 45_40X_CTX3"
          ],
          [
           167,
           "DSB Iba1 45_40X_DG"
          ],
          [
           168,
           "DSB Iba1 46_40X_CA1"
          ],
          [
           169,
           "DSB Iba1 46_40X_CA3"
          ],
          [
           170,
           "DSB Iba1 46_40X_CTX1"
          ],
          [
           171,
           "DSB Iba1 46_40X_CTX2"
          ],
          [
           172,
           "DSB Iba1 46_40X_CTX3"
          ],
          [
           173,
           "DSB Iba1 46_40X_DG"
          ],
          [
           174,
           "DSB Iba1 47_40X_CA1"
          ],
          [
           175,
           "DSB Iba1 47_40X_CA3"
          ],
          [
           176,
           "DSB Iba1 47_40X_CTX1"
          ],
          [
           177,
           "DSB Iba1 47_40X_CTX2"
          ],
          [
           178,
           "DSB Iba1 47_40X_CTX3"
          ],
          [
           179,
           "DSB Iba1 47_40X_DG"
          ],
          [
           180,
           "DSB Iba1 48_40X_CA1"
          ],
          [
           181,
           "DSB Iba1 48_40X_CA3"
          ],
          [
           182,
           "DSB Iba1 48_40X_CTX1"
          ],
          [
           183,
           "DSB Iba1 48_40X_CTX2"
          ],
          [
           184,
           "DSB Iba1 48_40X_CTX3"
          ],
          [
           185,
           "DSB Iba1 48_40X_DG"
          ],
          [
           186,
           "DSB Iba1 49_40X_CA1"
          ],
          [
           187,
           "DSB Iba1 49_40X_CA3"
          ],
          [
           188,
           "DSB Iba1 49_40X_CTX1"
          ],
          [
           189,
           "DSB Iba1 49_40X_CTX2"
          ],
          [
           190,
           "DSB Iba1 49_40X_CTX3"
          ],
          [
           191,
           "DSB Iba1 49_40X_DG"
          ],
          [
           192,
           "DSB Iba1 50_40X_CA1"
          ],
          [
           193,
           "DSB Iba1 50_40X_CA3"
          ],
          [
           194,
           "DSB Iba1 50_40X_CTX1"
          ],
          [
           195,
           "DSB Iba1 50_40X_CTX2"
          ],
          [
           196,
           "DSB Iba1 50_40X_CTX3"
          ],
          [
           197,
           "DSB Iba1 50_40X_DG"
          ],
          [
           198,
           "DSB Iba1 51_40X_CA1"
          ],
          [
           199,
           "DSB Iba1 51_40X_CA3"
          ],
          [
           200,
           "DSB Iba1 51_40X_CTX1"
          ],
          [
           201,
           "DSB Iba1 51_40X_CTX2"
          ],
          [
           202,
           "DSB Iba1 51_40X_CTX3"
          ],
          [
           203,
           "DSB Iba1 51_40X_DG"
          ],
          [
           204,
           "DSB Iba1 52_40X_CA1"
          ],
          [
           205,
           "DSB Iba1 52_40X_CA3"
          ],
          [
           206,
           "DSB Iba1 52_40X_CTX1"
          ],
          [
           207,
           "DSB Iba1 52_40X_CTX2"
          ],
          [
           208,
           "DSB Iba1 52_40X_CTX3"
          ],
          [
           209,
           "DSB Iba1 52_40X_DG"
          ],
          [
           210,
           "DSB Iba1 53_40X_CA1"
          ],
          [
           211,
           "DSB Iba1 53_40X_CA3"
          ],
          [
           212,
           "DSB Iba1 53_40X_CTX1"
          ],
          [
           213,
           "DSB Iba1 53_40X_CTX2"
          ],
          [
           214,
           "DSB Iba1 53_40X_CTX3"
          ],
          [
           215,
           "DSB Iba1 53_40X_DG"
          ],
          [
           216,
           "DSB Iba1 54_40X_CA1"
          ],
          [
           217,
           "DSB Iba1 54_40X_CA3"
          ],
          [
           218,
           "DSB Iba1 54_40X_CTX1"
          ],
          [
           219,
           "DSB Iba1 54_40X_CTX2"
          ],
          [
           220,
           "DSB Iba1 54_40X_CTX3"
          ],
          [
           221,
           "DSB Iba1 54_40X_DG"
          ],
          [
           222,
           "DSB Iba1 55_40X_CA1"
          ],
          [
           223,
           "DSB Iba1 55_40X_CA3"
          ],
          [
           224,
           "DSB Iba1 55_40X_CTX1"
          ],
          [
           225,
           "DSB Iba1 55_40X_CTX2"
          ],
          [
           226,
           "DSB Iba1 55_40X_CTX3"
          ],
          [
           227,
           "DSB Iba1 55_40X_DG"
          ],
          [
           228,
           "DSB Iba1 56_40X_CA1"
          ],
          [
           229,
           "DSB Iba1 56_40X_CA3"
          ],
          [
           230,
           "DSB Iba1 56_40X_CTX1"
          ],
          [
           231,
           "DSB Iba1 56_40X_CTX2"
          ],
          [
           232,
           "DSB Iba1 56_40X_CTX3"
          ],
          [
           233,
           "DSB Iba1 56_40X_DG"
          ],
          [
           234,
           "DSB Iba1 57_40X_CA1"
          ],
          [
           235,
           "DSB Iba1 57_40X_CA3"
          ],
          [
           236,
           "DSB Iba1 57_40X_CTX1"
          ],
          [
           237,
           "DSB Iba1 57_40X_CTX2"
          ],
          [
           238,
           "DSB Iba1 57_40X_CTX3"
          ],
          [
           239,
           "DSB Iba1 57_40X_DG"
          ],
          [
           240,
           "DSB Iba1 58_40X_CA1"
          ],
          [
           241,
           "DSB Iba1 58_40X_CA3"
          ],
          [
           242,
           "DSB Iba1 58_40X_CTX1"
          ],
          [
           243,
           "DSB Iba1 58_40X_CTX2"
          ],
          [
           244,
           "DSB Iba1 58_40X_CTX3"
          ],
          [
           245,
           "DSB Iba1 58_40X_DG"
          ],
          [
           246,
           "DSB Iba1 59_40X_CA1"
          ],
          [
           247,
           "DSB Iba1 59_40X_CA3"
          ],
          [
           248,
           "DSB Iba1 59_40X_CTX1"
          ],
          [
           249,
           "DSB Iba1 59_40X_CTX2"
          ],
          [
           250,
           "DSB Iba1 59_40X_CTX3"
          ],
          [
           251,
           "DSB Iba1 59_40X_DG"
          ]
         ],
         "hovertemplate": "staining_id=%{x}<br>%_dna_damage_signal=%{y}<br>index=%{customdata[0]}<br>filename=%{customdata[1]}<extra></extra>",
         "legendgroup": "",
         "marker": {
          "color": "#636efa",
          "symbol": "circle"
         },
         "mode": "markers",
         "name": "",
         "orientation": "v",
         "showlegend": false,
         "type": "scatter",
         "x": [
          16,
          16,
          16,
          16,
          16,
          16,
          17,
          17,
          17,
          17,
          17,
          17,
          18,
          18,
          18,
          18,
          18,
          18,
          19,
          19,
          19,
          19,
          19,
          19,
          20,
          20,
          20,
          20,
          20,
          20,
          21,
          21,
          21,
          21,
          21,
          21,
          22,
          22,
          22,
          22,
          22,
          22,
          23,
          23,
          23,
          23,
          23,
          23,
          24,
          24,
          24,
          24,
          24,
          24,
          25,
          25,
          25,
          25,
          25,
          25,
          26,
          26,
          26,
          26,
          26,
          26,
          27,
          28,
          28,
          28,
          28,
          28,
          28,
          29,
          29,
          29,
          29,
          29,
          29,
          30,
          30,
          30,
          30,
          30,
          30,
          31,
          31,
          31,
          31,
          31,
          31,
          32,
          32,
          32,
          32,
          32,
          32,
          33,
          33,
          33,
          33,
          33,
          33,
          34,
          34,
          34,
          34,
          34,
          34,
          35,
          35,
          35,
          35,
          35,
          35,
          36,
          36,
          36,
          36,
          36,
          36,
          37,
          37,
          37,
          37,
          37,
          37,
          38,
          39,
          39,
          39,
          39,
          39,
          39,
          40,
          40,
          40,
          40,
          40,
          40,
          41,
          41,
          41,
          41,
          41,
          41,
          42,
          42,
          42,
          42,
          42,
          42,
          43,
          43,
          43,
          43,
          43,
          43,
          44,
          44,
          44,
          44,
          45,
          45,
          45,
          45,
          45,
          45,
          46,
          46,
          46,
          46,
          46,
          46,
          47,
          47,
          47,
          47,
          47,
          47,
          48,
          48,
          48,
          48,
          48,
          48,
          49,
          49,
          49,
          49,
          49,
          49,
          50,
          50,
          50,
          50,
          50,
          50,
          51,
          51,
          51,
          51,
          51,
          51,
          52,
          52,
          52,
          52,
          52,
          52,
          53,
          53,
          53,
          53,
          53,
          53,
          54,
          54,
          54,
          54,
          54,
          54,
          55,
          55,
          55,
          55,
          55,
          55,
          56,
          56,
          56,
          56,
          56,
          56,
          57,
          57,
          57,
          57,
          57,
          57,
          58,
          58,
          58,
          58,
          58,
          58,
          59,
          59,
          59,
          59,
          59,
          59
         ],
         "xaxis": "x",
         "y": [
          1.0966300964355469,
          18.227672576904297,
          0.8442878723144531,
          39.40544128417969,
          9.070396423339844,
          1.1308670043945312,
          2.456283569335937,
          5.110073089599609,
          1.3278961181640625,
          29.74271774291992,
          18.192768096923828,
          5.62286376953125,
          71.99668884277344,
          36.4354133605957,
          3.354072570800781,
          40.91596603393555,
          18.92385482788086,
          83.64906311035156,
          99.50284957885742,
          99.35731887817384,
          99.45621490478516,
          97.04084396362305,
          98.70357513427734,
          99.53365325927734,
          0.7762908935546875,
          1.1053085327148438,
          0.4868507385253906,
          0.9496688842773438,
          0.5314826965332031,
          2.3174285888671875,
          0.7778167724609375,
          0.7436752319335938,
          0.9168624877929688,
          1.0347366333007812,
          1.0148048400878906,
          2.2064208984375,
          1.2415885925292969,
          1.2543678283691406,
          1.403045654296875,
          1.3582229614257812,
          0.2514839172363281,
          3.1919479370117188,
          0.5928993225097656,
          0.531768798828125,
          0.4361152648925781,
          0.0720024108886718,
          0.6974220275878906,
          1.8776893615722656,
          0.4246711730957031,
          0.2900123596191406,
          0.2356529235839843,
          0.5938529968261719,
          0.5388259887695312,
          0.1180648803710937,
          1.3138771057128906,
          2.0705223083496094,
          0.565338134765625,
          1.6091346740722656,
          1.6841888427734375,
          4.139518737792969,
          7.658481597900391,
          14.291000366210938,
          48.14224243164063,
          50.63896179199219,
          60.15052795410156,
          15.996170043945312,
          37.166595458984375,
          1.17950439453125,
          1.036834716796875,
          1.6277313232421875,
          0.6724357604980469,
          0.9607315063476562,
          4.607105255126953,
          0.8039474487304688,
          0.6873130798339844,
          0.9842872619628906,
          1.365375518798828,
          0.4662513732910156,
          2.083301544189453,
          0.4213333129882812,
          0.7200241088867188,
          0.4976272583007812,
          0.5642890930175781,
          0.2711296081542969,
          1.5737533569335938,
          0.908184051513672,
          1.42059326171875,
          0.45013427734375,
          0.5597114562988281,
          0.7208824157714844,
          2.163314819335937,
          24.217510223388672,
          35.25991439819336,
          26.068115234375,
          45.59593200683594,
          16.32986068725586,
          20.56293487548828,
          0.8049964904785156,
          1.3813972473144531,
          1.5479087829589844,
          1.5409469604492188,
          0.8223533630371094,
          3.18288803100586,
          11.618709564208984,
          18.45865249633789,
          9.898662567138672,
          30.911731719970703,
          8.549880981445312,
          13.27676773071289,
          0.7157325744628906,
          13.22774887084961,
          0.7575035095214844,
          23.38438034057617,
          13.570690155029297,
          13.68703842163086,
          1.4990806579589844,
          1.174163818359375,
          2.8151512145996094,
          2.0681381225585938,
          1.329326629638672,
          4.043292999267578,
          1.2406349182128906,
          1.8404960632324217,
          2.520465850830078,
          5.1082611083984375,
          3.800201416015625,
          4.963588714599609,
          36.49396896362305,
          0.7749557495117188,
          1.0321617126464844,
          0.4506111145019531,
          0.3875732421875,
          0.2254486083984375,
          1.4722824096679688,
          0.4599571228027344,
          0.5597114562988281,
          0.6749153137207031,
          0.5100250244140625,
          0.711822509765625,
          2.08282470703125,
          0.7174491882324219,
          0.4147529602050781,
          0.066375732421875,
          0.0730514526367187,
          0.0868797302246093,
          2.2176742553710938,
          0.5374908447265625,
          0.6807327270507812,
          0.4649162292480469,
          0.4080772399902344,
          0.6461143493652344,
          1.3035774230957031,
          0.3113746643066406,
          2.048969268798828,
          1.3188362121582031,
          0.3693580627441406,
          0.8925437927246094,
          3.8147926330566406,
          71.6085433959961,
          81.05602264404297,
          83.38785171508789,
          45.105743408203125,
          1.8074989318847656,
          1.5021324157714844,
          0.8280754089355469,
          0.4374504089355469,
          0.3774642944335937,
          4.353618621826172,
          48.19374084472656,
          18.149757385253903,
          58.10279846191406,
          64.41020965576172,
          45.4249382019043,
          52.95248031616211,
          3.0524253845214844,
          5.192661285400391,
          0.7054328918457031,
          18.903064727783203,
          5.331134796142578,
          22.7813720703125,
          0.7757186889648438,
          0.5895614624023438,
          0.8686065673828125,
          1.111125946044922,
          1.1597633361816406,
          2.8412818908691406,
          44.43187713623047,
          4.161643981933594,
          35.48917770385742,
          37.35837936401367,
          2.4756431579589844,
          54.27255630493164,
          0.0975608825683593,
          0.5349159240722656,
          0.0278472900390625,
          0.2301216125488281,
          1.0915756225585938,
          0.46234130859375,
          0.4143714904785156,
          0.7281303405761719,
          0.2779006958007812,
          0.2605438232421875,
          0.4462242126464844,
          1.5252113342285156,
          0.2756118774414062,
          0.4342079162597656,
          0.1187324523925781,
          0.3239631652832031,
          0.4559516906738281,
          0.7616043090820312,
          4.520511627197266,
          6.536006927490234,
          3.690528869628906,
          3.605270385742188,
          3.4102439880371094,
          10.100555419921877,
          0.5602836608886719,
          1.2754440307617188,
          0.823211669921875,
          0.7739067077636719,
          0.8355140686035156,
          1.9334793090820312,
          0.495147705078125,
          0.4197120666503906,
          0.0318527221679687,
          0.611114501953125,
          0.0937461853027343,
          1.6141891479492188,
          0.609588623046875,
          0.5918502807617188,
          0.4897117614746094,
          0.3222465515136719,
          0.2533912658691406,
          0.9902000427246094,
          1.7914772033691406,
          6.385135650634766,
          0.3266334533691406,
          0.4457473754882812,
          0.1439094543457031,
          2.986621856689453,
          0.6536483764648438,
          0.7616043090820312,
          0.4926681518554687,
          0.8916854858398438,
          0.553131103515625,
          1.1504173278808594,
          0.9168624877929688,
          0.3584861755371094,
          0.8263587951660156,
          0.3554344177246094,
          0.322723388671875,
          2.118110656738281
         ],
         "yaxis": "y"
        }
       ],
       "layout": {
        "legend": {
         "tracegroupgap": 0
        },
        "template": {
         "data": {
          "bar": [
           {
            "error_x": {
             "color": "#2a3f5f"
            },
            "error_y": {
             "color": "#2a3f5f"
            },
            "marker": {
             "line": {
              "color": "#E5ECF6",
              "width": 0.5
             },
             "pattern": {
              "fillmode": "overlay",
              "size": 10,
              "solidity": 0.2
             }
            },
            "type": "bar"
           }
          ],
          "barpolar": [
           {
            "marker": {
             "line": {
              "color": "#E5ECF6",
              "width": 0.5
             },
             "pattern": {
              "fillmode": "overlay",
              "size": 10,
              "solidity": 0.2
             }
            },
            "type": "barpolar"
           }
          ],
          "carpet": [
           {
            "aaxis": {
             "endlinecolor": "#2a3f5f",
             "gridcolor": "white",
             "linecolor": "white",
             "minorgridcolor": "white",
             "startlinecolor": "#2a3f5f"
            },
            "baxis": {
             "endlinecolor": "#2a3f5f",
             "gridcolor": "white",
             "linecolor": "white",
             "minorgridcolor": "white",
             "startlinecolor": "#2a3f5f"
            },
            "type": "carpet"
           }
          ],
          "choropleth": [
           {
            "colorbar": {
             "outlinewidth": 0,
             "ticks": ""
            },
            "type": "choropleth"
           }
          ],
          "contour": [
           {
            "colorbar": {
             "outlinewidth": 0,
             "ticks": ""
            },
            "colorscale": [
             [
              0,
              "#0d0887"
             ],
             [
              0.1111111111111111,
              "#46039f"
             ],
             [
              0.2222222222222222,
              "#7201a8"
             ],
             [
              0.3333333333333333,
              "#9c179e"
             ],
             [
              0.4444444444444444,
              "#bd3786"
             ],
             [
              0.5555555555555556,
              "#d8576b"
             ],
             [
              0.6666666666666666,
              "#ed7953"
             ],
             [
              0.7777777777777778,
              "#fb9f3a"
             ],
             [
              0.8888888888888888,
              "#fdca26"
             ],
             [
              1,
              "#f0f921"
             ]
            ],
            "type": "contour"
           }
          ],
          "contourcarpet": [
           {
            "colorbar": {
             "outlinewidth": 0,
             "ticks": ""
            },
            "type": "contourcarpet"
           }
          ],
          "heatmap": [
           {
            "colorbar": {
             "outlinewidth": 0,
             "ticks": ""
            },
            "colorscale": [
             [
              0,
              "#0d0887"
             ],
             [
              0.1111111111111111,
              "#46039f"
             ],
             [
              0.2222222222222222,
              "#7201a8"
             ],
             [
              0.3333333333333333,
              "#9c179e"
             ],
             [
              0.4444444444444444,
              "#bd3786"
             ],
             [
              0.5555555555555556,
              "#d8576b"
             ],
             [
              0.6666666666666666,
              "#ed7953"
             ],
             [
              0.7777777777777778,
              "#fb9f3a"
             ],
             [
              0.8888888888888888,
              "#fdca26"
             ],
             [
              1,
              "#f0f921"
             ]
            ],
            "type": "heatmap"
           }
          ],
          "heatmapgl": [
           {
            "colorbar": {
             "outlinewidth": 0,
             "ticks": ""
            },
            "colorscale": [
             [
              0,
              "#0d0887"
             ],
             [
              0.1111111111111111,
              "#46039f"
             ],
             [
              0.2222222222222222,
              "#7201a8"
             ],
             [
              0.3333333333333333,
              "#9c179e"
             ],
             [
              0.4444444444444444,
              "#bd3786"
             ],
             [
              0.5555555555555556,
              "#d8576b"
             ],
             [
              0.6666666666666666,
              "#ed7953"
             ],
             [
              0.7777777777777778,
              "#fb9f3a"
             ],
             [
              0.8888888888888888,
              "#fdca26"
             ],
             [
              1,
              "#f0f921"
             ]
            ],
            "type": "heatmapgl"
           }
          ],
          "histogram": [
           {
            "marker": {
             "pattern": {
              "fillmode": "overlay",
              "size": 10,
              "solidity": 0.2
             }
            },
            "type": "histogram"
           }
          ],
          "histogram2d": [
           {
            "colorbar": {
             "outlinewidth": 0,
             "ticks": ""
            },
            "colorscale": [
             [
              0,
              "#0d0887"
             ],
             [
              0.1111111111111111,
              "#46039f"
             ],
             [
              0.2222222222222222,
              "#7201a8"
             ],
             [
              0.3333333333333333,
              "#9c179e"
             ],
             [
              0.4444444444444444,
              "#bd3786"
             ],
             [
              0.5555555555555556,
              "#d8576b"
             ],
             [
              0.6666666666666666,
              "#ed7953"
             ],
             [
              0.7777777777777778,
              "#fb9f3a"
             ],
             [
              0.8888888888888888,
              "#fdca26"
             ],
             [
              1,
              "#f0f921"
             ]
            ],
            "type": "histogram2d"
           }
          ],
          "histogram2dcontour": [
           {
            "colorbar": {
             "outlinewidth": 0,
             "ticks": ""
            },
            "colorscale": [
             [
              0,
              "#0d0887"
             ],
             [
              0.1111111111111111,
              "#46039f"
             ],
             [
              0.2222222222222222,
              "#7201a8"
             ],
             [
              0.3333333333333333,
              "#9c179e"
             ],
             [
              0.4444444444444444,
              "#bd3786"
             ],
             [
              0.5555555555555556,
              "#d8576b"
             ],
             [
              0.6666666666666666,
              "#ed7953"
             ],
             [
              0.7777777777777778,
              "#fb9f3a"
             ],
             [
              0.8888888888888888,
              "#fdca26"
             ],
             [
              1,
              "#f0f921"
             ]
            ],
            "type": "histogram2dcontour"
           }
          ],
          "mesh3d": [
           {
            "colorbar": {
             "outlinewidth": 0,
             "ticks": ""
            },
            "type": "mesh3d"
           }
          ],
          "parcoords": [
           {
            "line": {
             "colorbar": {
              "outlinewidth": 0,
              "ticks": ""
             }
            },
            "type": "parcoords"
           }
          ],
          "pie": [
           {
            "automargin": true,
            "type": "pie"
           }
          ],
          "scatter": [
           {
            "fillpattern": {
             "fillmode": "overlay",
             "size": 10,
             "solidity": 0.2
            },
            "type": "scatter"
           }
          ],
          "scatter3d": [
           {
            "line": {
             "colorbar": {
              "outlinewidth": 0,
              "ticks": ""
             }
            },
            "marker": {
             "colorbar": {
              "outlinewidth": 0,
              "ticks": ""
             }
            },
            "type": "scatter3d"
           }
          ],
          "scattercarpet": [
           {
            "marker": {
             "colorbar": {
              "outlinewidth": 0,
              "ticks": ""
             }
            },
            "type": "scattercarpet"
           }
          ],
          "scattergeo": [
           {
            "marker": {
             "colorbar": {
              "outlinewidth": 0,
              "ticks": ""
             }
            },
            "type": "scattergeo"
           }
          ],
          "scattergl": [
           {
            "marker": {
             "colorbar": {
              "outlinewidth": 0,
              "ticks": ""
             }
            },
            "type": "scattergl"
           }
          ],
          "scattermapbox": [
           {
            "marker": {
             "colorbar": {
              "outlinewidth": 0,
              "ticks": ""
             }
            },
            "type": "scattermapbox"
           }
          ],
          "scatterpolar": [
           {
            "marker": {
             "colorbar": {
              "outlinewidth": 0,
              "ticks": ""
             }
            },
            "type": "scatterpolar"
           }
          ],
          "scatterpolargl": [
           {
            "marker": {
             "colorbar": {
              "outlinewidth": 0,
              "ticks": ""
             }
            },
            "type": "scatterpolargl"
           }
          ],
          "scatterternary": [
           {
            "marker": {
             "colorbar": {
              "outlinewidth": 0,
              "ticks": ""
             }
            },
            "type": "scatterternary"
           }
          ],
          "surface": [
           {
            "colorbar": {
             "outlinewidth": 0,
             "ticks": ""
            },
            "colorscale": [
             [
              0,
              "#0d0887"
             ],
             [
              0.1111111111111111,
              "#46039f"
             ],
             [
              0.2222222222222222,
              "#7201a8"
             ],
             [
              0.3333333333333333,
              "#9c179e"
             ],
             [
              0.4444444444444444,
              "#bd3786"
             ],
             [
              0.5555555555555556,
              "#d8576b"
             ],
             [
              0.6666666666666666,
              "#ed7953"
             ],
             [
              0.7777777777777778,
              "#fb9f3a"
             ],
             [
              0.8888888888888888,
              "#fdca26"
             ],
             [
              1,
              "#f0f921"
             ]
            ],
            "type": "surface"
           }
          ],
          "table": [
           {
            "cells": {
             "fill": {
              "color": "#EBF0F8"
             },
             "line": {
              "color": "white"
             }
            },
            "header": {
             "fill": {
              "color": "#C8D4E3"
             },
             "line": {
              "color": "white"
             }
            },
            "type": "table"
           }
          ]
         },
         "layout": {
          "annotationdefaults": {
           "arrowcolor": "#2a3f5f",
           "arrowhead": 0,
           "arrowwidth": 1
          },
          "autotypenumbers": "strict",
          "coloraxis": {
           "colorbar": {
            "outlinewidth": 0,
            "ticks": ""
           }
          },
          "colorscale": {
           "diverging": [
            [
             0,
             "#8e0152"
            ],
            [
             0.1,
             "#c51b7d"
            ],
            [
             0.2,
             "#de77ae"
            ],
            [
             0.3,
             "#f1b6da"
            ],
            [
             0.4,
             "#fde0ef"
            ],
            [
             0.5,
             "#f7f7f7"
            ],
            [
             0.6,
             "#e6f5d0"
            ],
            [
             0.7,
             "#b8e186"
            ],
            [
             0.8,
             "#7fbc41"
            ],
            [
             0.9,
             "#4d9221"
            ],
            [
             1,
             "#276419"
            ]
           ],
           "sequential": [
            [
             0,
             "#0d0887"
            ],
            [
             0.1111111111111111,
             "#46039f"
            ],
            [
             0.2222222222222222,
             "#7201a8"
            ],
            [
             0.3333333333333333,
             "#9c179e"
            ],
            [
             0.4444444444444444,
             "#bd3786"
            ],
            [
             0.5555555555555556,
             "#d8576b"
            ],
            [
             0.6666666666666666,
             "#ed7953"
            ],
            [
             0.7777777777777778,
             "#fb9f3a"
            ],
            [
             0.8888888888888888,
             "#fdca26"
            ],
            [
             1,
             "#f0f921"
            ]
           ],
           "sequentialminus": [
            [
             0,
             "#0d0887"
            ],
            [
             0.1111111111111111,
             "#46039f"
            ],
            [
             0.2222222222222222,
             "#7201a8"
            ],
            [
             0.3333333333333333,
             "#9c179e"
            ],
            [
             0.4444444444444444,
             "#bd3786"
            ],
            [
             0.5555555555555556,
             "#d8576b"
            ],
            [
             0.6666666666666666,
             "#ed7953"
            ],
            [
             0.7777777777777778,
             "#fb9f3a"
            ],
            [
             0.8888888888888888,
             "#fdca26"
            ],
            [
             1,
             "#f0f921"
            ]
           ]
          },
          "colorway": [
           "#636efa",
           "#EF553B",
           "#00cc96",
           "#ab63fa",
           "#FFA15A",
           "#19d3f3",
           "#FF6692",
           "#B6E880",
           "#FF97FF",
           "#FECB52"
          ],
          "font": {
           "color": "#2a3f5f"
          },
          "geo": {
           "bgcolor": "white",
           "lakecolor": "white",
           "landcolor": "#E5ECF6",
           "showlakes": true,
           "showland": true,
           "subunitcolor": "white"
          },
          "hoverlabel": {
           "align": "left"
          },
          "hovermode": "closest",
          "mapbox": {
           "style": "light"
          },
          "paper_bgcolor": "white",
          "plot_bgcolor": "#E5ECF6",
          "polar": {
           "angularaxis": {
            "gridcolor": "white",
            "linecolor": "white",
            "ticks": ""
           },
           "bgcolor": "#E5ECF6",
           "radialaxis": {
            "gridcolor": "white",
            "linecolor": "white",
            "ticks": ""
           }
          },
          "scene": {
           "xaxis": {
            "backgroundcolor": "#E5ECF6",
            "gridcolor": "white",
            "gridwidth": 2,
            "linecolor": "white",
            "showbackground": true,
            "ticks": "",
            "zerolinecolor": "white"
           },
           "yaxis": {
            "backgroundcolor": "#E5ECF6",
            "gridcolor": "white",
            "gridwidth": 2,
            "linecolor": "white",
            "showbackground": true,
            "ticks": "",
            "zerolinecolor": "white"
           },
           "zaxis": {
            "backgroundcolor": "#E5ECF6",
            "gridcolor": "white",
            "gridwidth": 2,
            "linecolor": "white",
            "showbackground": true,
            "ticks": "",
            "zerolinecolor": "white"
           }
          },
          "shapedefaults": {
           "line": {
            "color": "#2a3f5f"
           }
          },
          "ternary": {
           "aaxis": {
            "gridcolor": "white",
            "linecolor": "white",
            "ticks": ""
           },
           "baxis": {
            "gridcolor": "white",
            "linecolor": "white",
            "ticks": ""
           },
           "bgcolor": "#E5ECF6",
           "caxis": {
            "gridcolor": "white",
            "linecolor": "white",
            "ticks": ""
           }
          },
          "title": {
           "x": 0.05
          },
          "xaxis": {
           "automargin": true,
           "gridcolor": "white",
           "linecolor": "white",
           "ticks": "",
           "title": {
            "standoff": 15
           },
           "zerolinecolor": "white",
           "zerolinewidth": 2
          },
          "yaxis": {
           "automargin": true,
           "gridcolor": "white",
           "linecolor": "white",
           "ticks": "",
           "title": {
            "standoff": 15
           },
           "zerolinecolor": "white",
           "zerolinewidth": 2
          }
         }
        },
        "title": {
         "text": "Dna damage mask area (QC) - cellpdia30_sigma1_dilrad4_dnad_obj_seg_v1_gliaero6_gliathr20_dnadero2"
        },
        "xaxis": {
         "anchor": "y",
         "domain": [
          0,
          1
         ],
         "title": {
          "text": "staining_id"
         }
        },
        "yaxis": {
         "anchor": "x",
         "domain": [
          0,
          1
         ],
         "title": {
          "text": "%_dna_damage_signal"
         }
        }
       }
      }
     },
     "metadata": {},
     "output_type": "display_data"
    }
   ],
   "source": [
    "# Create the plot\n",
    "fig = px.scatter(df, x='staining_id', y='%_dna_damage_signal',\n",
    "                 hover_data=['staining_id','index','filename'], title=f'Dna damage mask area (QC) - {title}')\n",
    "\n",
    "# Show the plot\n",
    "fig.show()"
   ]
  },
  {
   "cell_type": "code",
   "execution_count": 36,
   "metadata": {},
   "outputs": [
    {
     "data": {
      "application/vnd.plotly.v1+json": {
       "config": {
        "plotlyServerURL": "https://plot.ly"
       },
       "data": [
        {
         "customdata": [
          [
           0,
           "DSB Iba1 16_40X_CA1"
          ],
          [
           1,
           "DSB Iba1 16_40X_CA3"
          ],
          [
           2,
           "DSB Iba1 16_40X_CTX1"
          ],
          [
           3,
           "DSB Iba1 16_40X_CTX2"
          ],
          [
           4,
           "DSB Iba1 16_40X_CTX3"
          ],
          [
           5,
           "DSB Iba1 16_40X_DG"
          ],
          [
           6,
           "DSB Iba1 17_40X_CA1"
          ],
          [
           7,
           "DSB Iba1 17_40X_CA3"
          ],
          [
           8,
           "DSB Iba1 17_40X_CTX1"
          ],
          [
           9,
           "DSB Iba1 17_40X_CTX2"
          ],
          [
           10,
           "DSB Iba1 17_40X_CTX3"
          ],
          [
           11,
           "DSB Iba1 17_40X_DG"
          ],
          [
           12,
           "DSB Iba1 18_40X_CA1"
          ],
          [
           13,
           "DSB Iba1 18_40X_CA3"
          ],
          [
           14,
           "DSB Iba1 18_40X_CTX1"
          ],
          [
           15,
           "DSB Iba1 18_40X_CTX2"
          ],
          [
           16,
           "DSB Iba1 18_40X_CTX3"
          ],
          [
           17,
           "DSB Iba1 18_40X_DG"
          ],
          [
           18,
           "DSB Iba1 19_40X_CA1"
          ],
          [
           19,
           "DSB Iba1 19_40X_CA3"
          ],
          [
           20,
           "DSB Iba1 19_40X_CTX1"
          ],
          [
           21,
           "DSB Iba1 19_40X_CTX2"
          ],
          [
           22,
           "DSB Iba1 19_40X_CTX3"
          ],
          [
           23,
           "DSB Iba1 19_40X_DG"
          ],
          [
           24,
           "DSB Iba1 20_40X_CA1"
          ],
          [
           25,
           "DSB Iba1 20_40X_CA3"
          ],
          [
           26,
           "DSB Iba1 20_40X_CTX1"
          ],
          [
           27,
           "DSB Iba1 20_40X_CTX2"
          ],
          [
           28,
           "DSB Iba1 20_40X_CTX3"
          ],
          [
           29,
           "DSB Iba1 20_40X_DG"
          ],
          [
           30,
           "DSB Iba1 21_40X_CA1"
          ],
          [
           31,
           "DSB Iba1 21_40X_CA3"
          ],
          [
           32,
           "DSB Iba1 21_40X_CTX1"
          ],
          [
           33,
           "DSB Iba1 21_40X_CTX2"
          ],
          [
           34,
           "DSB Iba1 21_40X_CTX3"
          ],
          [
           35,
           "DSB Iba1 21_40X_DG"
          ],
          [
           36,
           "DSB Iba1 22_40X_CA1"
          ],
          [
           37,
           "DSB Iba1 22_40X_CA3"
          ],
          [
           38,
           "DSB Iba1 22_40X_CTX1"
          ],
          [
           39,
           "DSB Iba1 22_40X_CTX2"
          ],
          [
           40,
           "DSB Iba1 22_40X_CTX3"
          ],
          [
           41,
           "DSB Iba1 22_40X_DG"
          ],
          [
           42,
           "DSB Iba1 23_40X_CA1"
          ],
          [
           43,
           "DSB Iba1 23_40X_CA3"
          ],
          [
           44,
           "DSB Iba1 23_40X_CTX1"
          ],
          [
           45,
           "DSB Iba1 23_40X_CTX2"
          ],
          [
           46,
           "DSB Iba1 23_40X_CTX3"
          ],
          [
           47,
           "DSB Iba1 23_40X_DG"
          ],
          [
           48,
           "DSB Iba1 24_40X_CA1"
          ],
          [
           49,
           "DSB Iba1 24_40X_CA3"
          ],
          [
           50,
           "DSB Iba1 24_40X_CTX1"
          ],
          [
           51,
           "DSB Iba1 24_40X_CTX2"
          ],
          [
           52,
           "DSB Iba1 24_40X_CTX3"
          ],
          [
           53,
           "DSB Iba1 24_40X_DG"
          ],
          [
           54,
           "DSB Iba1 25_40X_CA1"
          ],
          [
           55,
           "DSB Iba1 25_40X_CA3"
          ],
          [
           56,
           "DSB Iba1 25_40X_CTX1"
          ],
          [
           57,
           "DSB Iba1 25_40X_CTX2"
          ],
          [
           58,
           "DSB Iba1 25_40X_CTX3"
          ],
          [
           59,
           "DSB Iba1 25_40X_DG"
          ],
          [
           60,
           "DSB Iba1 26_40X_CA1"
          ],
          [
           61,
           "DSB Iba1 26_40X_CA3"
          ],
          [
           62,
           "DSB Iba1 26_40X_CTX1"
          ],
          [
           63,
           "DSB Iba1 26_40X_CTX2"
          ],
          [
           64,
           "DSB Iba1 26_40X_CTX3"
          ],
          [
           65,
           "DSB Iba1 26_40X_DG"
          ],
          [
           66,
           "DSB Iba1 27_40X_DG"
          ],
          [
           67,
           "DSB Iba1 28_40X_CA1"
          ],
          [
           68,
           "DSB Iba1 28_40X_CA3"
          ],
          [
           69,
           "DSB Iba1 28_40X_CTX1"
          ],
          [
           70,
           "DSB Iba1 28_40X_CTX2"
          ],
          [
           71,
           "DSB Iba1 28_40X_CTX3"
          ],
          [
           72,
           "DSB Iba1 28_40X_DG"
          ],
          [
           73,
           "DSB Iba1 29_40X_CA1"
          ],
          [
           74,
           "DSB Iba1 29_40X_CA3"
          ],
          [
           75,
           "DSB Iba1 29_40X_CTX1"
          ],
          [
           76,
           "DSB Iba1 29_40X_CTX2"
          ],
          [
           77,
           "DSB Iba1 29_40X_CTX3"
          ],
          [
           78,
           "DSB Iba1 29_40X_DG"
          ],
          [
           79,
           "DSB Iba1 30_40X_CA1"
          ],
          [
           80,
           "DSB Iba1 30_40X_CA3"
          ],
          [
           81,
           "DSB Iba1 30_40X_CTX1"
          ],
          [
           82,
           "DSB Iba1 30_40X_CTX2"
          ],
          [
           83,
           "DSB Iba1 30_40X_CTX3"
          ],
          [
           84,
           "DSB Iba1 30_40X_DG"
          ],
          [
           85,
           "DSB Iba1 31_40X_CA1"
          ],
          [
           86,
           "DSB Iba1 31_40X_CA3"
          ],
          [
           87,
           "DSB Iba1 31_40X_CTX1"
          ],
          [
           88,
           "DSB Iba1 31_40X_CTX2"
          ],
          [
           89,
           "DSB Iba1 31_40X_CTX3"
          ],
          [
           90,
           "DSB Iba1 31_40X_DG"
          ],
          [
           91,
           "DSB Iba1 32_40X_CA1"
          ],
          [
           92,
           "DSB Iba1 32_40X_CA3"
          ],
          [
           93,
           "DSB Iba1 32_40X_CTX1"
          ],
          [
           94,
           "DSB Iba1 32_40X_CTX2"
          ],
          [
           95,
           "DSB Iba1 32_40X_CTX3"
          ],
          [
           96,
           "DSB Iba1 32_40X_DG"
          ],
          [
           97,
           "DSB Iba1 33_40X_CA1"
          ],
          [
           98,
           "DSB Iba1 33_40X_CA3"
          ],
          [
           99,
           "DSB Iba1 33_40X_CTX1"
          ],
          [
           100,
           "DSB Iba1 33_40X_CTX2"
          ],
          [
           101,
           "DSB Iba1 33_40X_CTX3"
          ],
          [
           102,
           "DSB Iba1 33_40X_DG"
          ],
          [
           103,
           "DSB Iba1 34_40X_CA1"
          ],
          [
           104,
           "DSB Iba1 34_40X_CA3"
          ],
          [
           105,
           "DSB Iba1 34_40X_CTX1"
          ],
          [
           106,
           "DSB Iba1 34_40X_CTX2"
          ],
          [
           107,
           "DSB Iba1 34_40X_CTX3"
          ],
          [
           108,
           "DSB Iba1 34_40X_DG"
          ],
          [
           109,
           "DSB Iba1 35_40X_CA1"
          ],
          [
           110,
           "DSB Iba1 35_40X_CA3"
          ],
          [
           111,
           "DSB Iba1 35_40X_CTX1"
          ],
          [
           112,
           "DSB Iba1 35_40X_CTX2"
          ],
          [
           113,
           "DSB Iba1 35_40X_CTX3"
          ],
          [
           114,
           "DSB Iba1 35_40X_DG"
          ],
          [
           115,
           "DSB Iba1 36_40X_CA1"
          ],
          [
           116,
           "DSB Iba1 36_40X_CA3"
          ],
          [
           117,
           "DSB Iba1 36_40X_CTX1"
          ],
          [
           118,
           "DSB Iba1 36_40X_CTX2"
          ],
          [
           119,
           "DSB Iba1 36_40X_CTX3"
          ],
          [
           120,
           "DSB Iba1 36_40X_DG"
          ],
          [
           121,
           "DSB Iba1 37_40X_CA1"
          ],
          [
           122,
           "DSB Iba1 37_40X_CA3"
          ],
          [
           123,
           "DSB Iba1 37_40X_CTX1"
          ],
          [
           124,
           "DSB Iba1 37_40X_CTX2"
          ],
          [
           125,
           "DSB Iba1 37_40X_CTX3"
          ],
          [
           126,
           "DSB Iba1 37_40X_DG"
          ],
          [
           127,
           "DSB Iba1 38_40X_DG"
          ],
          [
           128,
           "DSB Iba1 39_40X_CA1"
          ],
          [
           129,
           "DSB Iba1 39_40X_CA3"
          ],
          [
           130,
           "DSB Iba1 39_40X_CTX1"
          ],
          [
           131,
           "DSB Iba1 39_40X_CTX2"
          ],
          [
           132,
           "DSB Iba1 39_40X_CTX3"
          ],
          [
           133,
           "DSB Iba1 39_40X_DG"
          ],
          [
           134,
           "DSB Iba1 40_40X_CA1"
          ],
          [
           135,
           "DSB Iba1 40_40X_CA3"
          ],
          [
           136,
           "DSB Iba1 40_40X_CTX1"
          ],
          [
           137,
           "DSB Iba1 40_40X_CTX2"
          ],
          [
           138,
           "DSB Iba1 40_40X_CTX3"
          ],
          [
           139,
           "DSB Iba1 40_40X_DG"
          ],
          [
           140,
           "DSB Iba1 41_40X_CA1"
          ],
          [
           141,
           "DSB Iba1 41_40X_CA3"
          ],
          [
           142,
           "DSB Iba1 41_40X_CTX1"
          ],
          [
           143,
           "DSB Iba1 41_40X_CTX2"
          ],
          [
           144,
           "DSB Iba1 41_40X_CTX3"
          ],
          [
           145,
           "DSB Iba1 41_40X_DG"
          ],
          [
           146,
           "DSB Iba1 42_40X_CA1"
          ],
          [
           147,
           "DSB Iba1 42_40X_CA3"
          ],
          [
           148,
           "DSB Iba1 42_40X_CTX1"
          ],
          [
           149,
           "DSB Iba1 42_40X_CTX2"
          ],
          [
           150,
           "DSB Iba1 42_40X_CTX3"
          ],
          [
           151,
           "DSB Iba1 42_40X_DG"
          ],
          [
           152,
           "DSB Iba1 43_40X_CA1"
          ],
          [
           153,
           "DSB Iba1 43_40X_CA3"
          ],
          [
           154,
           "DSB Iba1 43_40X_CTX1"
          ],
          [
           155,
           "DSB Iba1 43_40X_CTX2"
          ],
          [
           156,
           "DSB Iba1 43_40X_CTX3"
          ],
          [
           157,
           "DSB Iba1 43_40X_DG"
          ],
          [
           158,
           "DSB Iba1 44_40X_CA1"
          ],
          [
           159,
           "DSB Iba1 44_40X_CA3"
          ],
          [
           160,
           "DSB Iba1 44_40X_CTX1"
          ],
          [
           161,
           "DSB Iba1 44_40X_DG"
          ],
          [
           162,
           "DSB Iba1 45_40X_CA1"
          ],
          [
           163,
           "DSB Iba1 45_40X_CA3"
          ],
          [
           164,
           "DSB Iba1 45_40X_CTX1"
          ],
          [
           165,
           "DSB Iba1 45_40X_CTX2"
          ],
          [
           166,
           "DSB Iba1 45_40X_CTX3"
          ],
          [
           167,
           "DSB Iba1 45_40X_DG"
          ],
          [
           168,
           "DSB Iba1 46_40X_CA1"
          ],
          [
           169,
           "DSB Iba1 46_40X_CA3"
          ],
          [
           170,
           "DSB Iba1 46_40X_CTX1"
          ],
          [
           171,
           "DSB Iba1 46_40X_CTX2"
          ],
          [
           172,
           "DSB Iba1 46_40X_CTX3"
          ],
          [
           173,
           "DSB Iba1 46_40X_DG"
          ],
          [
           174,
           "DSB Iba1 47_40X_CA1"
          ],
          [
           175,
           "DSB Iba1 47_40X_CA3"
          ],
          [
           176,
           "DSB Iba1 47_40X_CTX1"
          ],
          [
           177,
           "DSB Iba1 47_40X_CTX2"
          ],
          [
           178,
           "DSB Iba1 47_40X_CTX3"
          ],
          [
           179,
           "DSB Iba1 47_40X_DG"
          ],
          [
           180,
           "DSB Iba1 48_40X_CA1"
          ],
          [
           181,
           "DSB Iba1 48_40X_CA3"
          ],
          [
           182,
           "DSB Iba1 48_40X_CTX1"
          ],
          [
           183,
           "DSB Iba1 48_40X_CTX2"
          ],
          [
           184,
           "DSB Iba1 48_40X_CTX3"
          ],
          [
           185,
           "DSB Iba1 48_40X_DG"
          ],
          [
           186,
           "DSB Iba1 49_40X_CA1"
          ],
          [
           187,
           "DSB Iba1 49_40X_CA3"
          ],
          [
           188,
           "DSB Iba1 49_40X_CTX1"
          ],
          [
           189,
           "DSB Iba1 49_40X_CTX2"
          ],
          [
           190,
           "DSB Iba1 49_40X_CTX3"
          ],
          [
           191,
           "DSB Iba1 49_40X_DG"
          ],
          [
           192,
           "DSB Iba1 50_40X_CA1"
          ],
          [
           193,
           "DSB Iba1 50_40X_CA3"
          ],
          [
           194,
           "DSB Iba1 50_40X_CTX1"
          ],
          [
           195,
           "DSB Iba1 50_40X_CTX2"
          ],
          [
           196,
           "DSB Iba1 50_40X_CTX3"
          ],
          [
           197,
           "DSB Iba1 50_40X_DG"
          ],
          [
           198,
           "DSB Iba1 51_40X_CA1"
          ],
          [
           199,
           "DSB Iba1 51_40X_CA3"
          ],
          [
           200,
           "DSB Iba1 51_40X_CTX1"
          ],
          [
           201,
           "DSB Iba1 51_40X_CTX2"
          ],
          [
           202,
           "DSB Iba1 51_40X_CTX3"
          ],
          [
           203,
           "DSB Iba1 51_40X_DG"
          ],
          [
           204,
           "DSB Iba1 52_40X_CA1"
          ],
          [
           205,
           "DSB Iba1 52_40X_CA3"
          ],
          [
           206,
           "DSB Iba1 52_40X_CTX1"
          ],
          [
           207,
           "DSB Iba1 52_40X_CTX2"
          ],
          [
           208,
           "DSB Iba1 52_40X_CTX3"
          ],
          [
           209,
           "DSB Iba1 52_40X_DG"
          ],
          [
           210,
           "DSB Iba1 53_40X_CA1"
          ],
          [
           211,
           "DSB Iba1 53_40X_CA3"
          ],
          [
           212,
           "DSB Iba1 53_40X_CTX1"
          ],
          [
           213,
           "DSB Iba1 53_40X_CTX2"
          ],
          [
           214,
           "DSB Iba1 53_40X_CTX3"
          ],
          [
           215,
           "DSB Iba1 53_40X_DG"
          ],
          [
           216,
           "DSB Iba1 54_40X_CA1"
          ],
          [
           217,
           "DSB Iba1 54_40X_CA3"
          ],
          [
           218,
           "DSB Iba1 54_40X_CTX1"
          ],
          [
           219,
           "DSB Iba1 54_40X_CTX2"
          ],
          [
           220,
           "DSB Iba1 54_40X_CTX3"
          ],
          [
           221,
           "DSB Iba1 54_40X_DG"
          ],
          [
           222,
           "DSB Iba1 55_40X_CA1"
          ],
          [
           223,
           "DSB Iba1 55_40X_CA3"
          ],
          [
           224,
           "DSB Iba1 55_40X_CTX1"
          ],
          [
           225,
           "DSB Iba1 55_40X_CTX2"
          ],
          [
           226,
           "DSB Iba1 55_40X_CTX3"
          ],
          [
           227,
           "DSB Iba1 55_40X_DG"
          ],
          [
           228,
           "DSB Iba1 56_40X_CA1"
          ],
          [
           229,
           "DSB Iba1 56_40X_CA3"
          ],
          [
           230,
           "DSB Iba1 56_40X_CTX1"
          ],
          [
           231,
           "DSB Iba1 56_40X_CTX2"
          ],
          [
           232,
           "DSB Iba1 56_40X_CTX3"
          ],
          [
           233,
           "DSB Iba1 56_40X_DG"
          ],
          [
           234,
           "DSB Iba1 57_40X_CA1"
          ],
          [
           235,
           "DSB Iba1 57_40X_CA3"
          ],
          [
           236,
           "DSB Iba1 57_40X_CTX1"
          ],
          [
           237,
           "DSB Iba1 57_40X_CTX2"
          ],
          [
           238,
           "DSB Iba1 57_40X_CTX3"
          ],
          [
           239,
           "DSB Iba1 57_40X_DG"
          ],
          [
           240,
           "DSB Iba1 58_40X_CA1"
          ],
          [
           241,
           "DSB Iba1 58_40X_CA3"
          ],
          [
           242,
           "DSB Iba1 58_40X_CTX1"
          ],
          [
           243,
           "DSB Iba1 58_40X_CTX2"
          ],
          [
           244,
           "DSB Iba1 58_40X_CTX3"
          ],
          [
           245,
           "DSB Iba1 58_40X_DG"
          ],
          [
           246,
           "DSB Iba1 59_40X_CA1"
          ],
          [
           247,
           "DSB Iba1 59_40X_CA3"
          ],
          [
           248,
           "DSB Iba1 59_40X_CTX1"
          ],
          [
           249,
           "DSB Iba1 59_40X_CTX2"
          ],
          [
           250,
           "DSB Iba1 59_40X_CTX3"
          ],
          [
           251,
           "DSB Iba1 59_40X_DG"
          ]
         ],
         "hovertemplate": "staining_id=%{x}<br>%_glia+_signal=%{y}<br>index=%{customdata[0]}<br>filename=%{customdata[1]}<extra></extra>",
         "legendgroup": "",
         "marker": {
          "color": "#636efa",
          "symbol": "circle"
         },
         "mode": "markers",
         "name": "",
         "orientation": "v",
         "showlegend": false,
         "type": "scatter",
         "x": [
          16,
          16,
          16,
          16,
          16,
          16,
          17,
          17,
          17,
          17,
          17,
          17,
          18,
          18,
          18,
          18,
          18,
          18,
          19,
          19,
          19,
          19,
          19,
          19,
          20,
          20,
          20,
          20,
          20,
          20,
          21,
          21,
          21,
          21,
          21,
          21,
          22,
          22,
          22,
          22,
          22,
          22,
          23,
          23,
          23,
          23,
          23,
          23,
          24,
          24,
          24,
          24,
          24,
          24,
          25,
          25,
          25,
          25,
          25,
          25,
          26,
          26,
          26,
          26,
          26,
          26,
          27,
          28,
          28,
          28,
          28,
          28,
          28,
          29,
          29,
          29,
          29,
          29,
          29,
          30,
          30,
          30,
          30,
          30,
          30,
          31,
          31,
          31,
          31,
          31,
          31,
          32,
          32,
          32,
          32,
          32,
          32,
          33,
          33,
          33,
          33,
          33,
          33,
          34,
          34,
          34,
          34,
          34,
          34,
          35,
          35,
          35,
          35,
          35,
          35,
          36,
          36,
          36,
          36,
          36,
          36,
          37,
          37,
          37,
          37,
          37,
          37,
          38,
          39,
          39,
          39,
          39,
          39,
          39,
          40,
          40,
          40,
          40,
          40,
          40,
          41,
          41,
          41,
          41,
          41,
          41,
          42,
          42,
          42,
          42,
          42,
          42,
          43,
          43,
          43,
          43,
          43,
          43,
          44,
          44,
          44,
          44,
          45,
          45,
          45,
          45,
          45,
          45,
          46,
          46,
          46,
          46,
          46,
          46,
          47,
          47,
          47,
          47,
          47,
          47,
          48,
          48,
          48,
          48,
          48,
          48,
          49,
          49,
          49,
          49,
          49,
          49,
          50,
          50,
          50,
          50,
          50,
          50,
          51,
          51,
          51,
          51,
          51,
          51,
          52,
          52,
          52,
          52,
          52,
          52,
          53,
          53,
          53,
          53,
          53,
          53,
          54,
          54,
          54,
          54,
          54,
          54,
          55,
          55,
          55,
          55,
          55,
          55,
          56,
          56,
          56,
          56,
          56,
          56,
          57,
          57,
          57,
          57,
          57,
          57,
          58,
          58,
          58,
          58,
          58,
          58,
          59,
          59,
          59,
          59,
          59,
          59
         ],
         "xaxis": "x",
         "y": [
          88.63372802734375,
          96.34952545166016,
          13.59844207763672,
          94.93074417114258,
          54.76894378662109,
          87.15362548828125,
          5.763816833496094,
          6.432056427001953,
          2.645301818847656,
          11.802101135253906,
          9.359455108642578,
          44.40708160400391,
          10.935688018798828,
          7.825183868408203,
          3.196430206298828,
          5.939960479736328,
          1.9624710083007808,
          53.77206802368164,
          97.84984588623048,
          98.4278678894043,
          98.5675811767578,
          92.62237548828124,
          87.97607421875,
          97.98297882080078,
          1.447296142578125,
          1.717853546142578,
          0.8257865905761719,
          2.0682334899902344,
          0.5598068237304688,
          2.923774719238281,
          2.5424957275390625,
          1.3544082641601562,
          3.311634063720703,
          3.338623046875,
          4.697036743164063,
          3.5135269165039062,
          6.178569793701172,
          3.7606239318847656,
          3.637123107910156,
          4.0191650390625,
          0.730133056640625,
          5.748558044433594,
          4.248046875,
          2.08120346069336,
          5.792427062988281,
          0.7174491882324219,
          2.988147735595703,
          7.934856414794922,
          0.7791519165039062,
          0.9073257446289062,
          1.7583847045898438,
          3.3802032470703125,
          1.4982223510742188,
          0.8672714233398438,
          3.17068099975586,
          2.813243865966797,
          3.438568115234375,
          6.374835968017578,
          2.7411460876464844,
          3.351020812988281,
          5.84564208984375,
          6.870269775390625,
          11.133575439453123,
          13.045120239257812,
          27.424240112304688,
          7.449054718017578,
          1.7447471618652344,
          2.5665283203125,
          2.448272705078125,
          3.2138824462890625,
          2.5005340576171875,
          2.412891387939453,
          7.0148468017578125,
          2.208709716796875,
          1.9129753112792969,
          5.022335052490234,
          7.678985595703125,
          3.7689208984375,
          2.2146224975585938,
          1.6625404357910156,
          1.3019561767578125,
          2.780723571777344,
          2.3637771606445312,
          1.4829635620117188,
          2.1762847900390625,
          3.847122192382813,
          1.217937469482422,
          3.5140037536621094,
          2.959632873535156,
          3.2898902893066406,
          3.90176773071289,
          14.134979248046877,
          14.082717895507812,
          14.151763916015623,
          17.71411895751953,
          10.771465301513672,
          27.629661560058597,
          2.395153045654297,
          1.8873214721679688,
          1.194000244140625,
          2.6653289794921875,
          2.5826454162597656,
          3.2654762268066406,
          5.395984649658203,
          4.882526397705078,
          6.429195404052734,
          9.55486297607422,
          7.129859924316406,
          9.005355834960938,
          3.268909454345703,
          21.71812057495117,
          4.521656036376953,
          49.62272644042969,
          36.1638069152832,
          46.29859924316406,
          2.2858619689941406,
          1.1386871337890625,
          3.605270385742188,
          4.596138000488281,
          2.627086639404297,
          1.8873214721679688,
          1.4169692993164062,
          3.2583236694335938,
          2.8922080993652344,
          6.322193145751953,
          5.652999877929688,
          2.9592514038085938,
          1.724529266357422,
          1.2140274047851562,
          1.1082649230957031,
          0.3711700439453125,
          0.3496170043945312,
          0.2208709716796875,
          1.7183303833007812,
          1.3429641723632812,
          1.7145156860351562,
          3.7994384765625,
          3.754806518554688,
          4.794597625732422,
          0.7130622863769531,
          0.4645347595214844,
          0.6657600402832031,
          0.0162124633789062,
          0.2507209777832031,
          0.83465576171875,
          0.9260177612304688,
          0.5733489990234375,
          0.9168624877929688,
          0.74462890625,
          1.824378967285156,
          0.9996414184570312,
          0.988483428955078,
          3.304767608642578,
          5.7796478271484375,
          12.746238708496094,
          7.944774627685547,
          7.372093200683594,
          16.925048828125,
          45.28112411499024,
          48.995113372802734,
          61.879920959472656,
          39.72511291503906,
          6.223964691162109,
          5.231571197509766,
          4.201602935791016,
          4.376411437988281,
          3.458404541015625,
          7.775020599365234,
          47.70441055297852,
          31.574440002441406,
          46.37212753295898,
          51.16119384765625,
          32.654476165771484,
          56.203651428222656,
          6.558036804199219,
          8.901691436767578,
          5.655956268310547,
          30.04922866821289,
          14.159202575683594,
          13.895225524902344,
          3.3704757690429688,
          2.537250518798828,
          4.6924591064453125,
          3.786659240722656,
          3.594589233398437,
          5.111885070800781,
          8.189868927001953,
          6.575107574462891,
          8.087635040283203,
          6.462860107421875,
          2.49490737915039,
          14.119243621826172,
          4.873561859130859,
          3.848457336425781,
          6.229019165039063,
          5.149269104003906,
          5.641460418701172,
          5.594158172607422,
          6.222438812255859,
          6.045722961425781,
          4.617595672607422,
          7.056903839111328,
          9.714698791503906,
          6.879520416259766,
          5.399608612060547,
          4.315376281738281,
          7.786273956298828,
          10.270881652832031,
          10.033130645751951,
          7.422256469726562,
          2.5342941284179688,
          2.4756431579589844,
          7.878398895263672,
          7.045269012451172,
          5.187797546386719,
          3.43008041381836,
          2.426910400390625,
          1.7024993896484375,
          4.989528656005859,
          3.8888931274414062,
          5.550861358642578,
          3.528308868408203,
          1.777362823486328,
          1.872539520263672,
          1.2282371520996094,
          3.083038330078125,
          0.5826950073242188,
          2.5461196899414062,
          4.4521331787109375,
          4.624557495117188,
          5.258560180664063,
          5.3241729736328125,
          4.150867462158203,
          5.023097991943359,
          2.201366424560547,
          4.8095703125,
          2.260112762451172,
          1.4965057373046875,
          1.306438446044922,
          5.2936553955078125,
          2.06155776977539,
          1.918315887451172,
          4.450321197509766,
          2.5277137756347656,
          0.5662918090820312,
          1.5165328979492188,
          3.539466857910156,
          2.4675369262695312,
          3.9608001708984375,
          6.726360321044922,
          5.142498016357422,
          3.248310089111328
         ],
         "yaxis": "y"
        }
       ],
       "layout": {
        "legend": {
         "tracegroupgap": 0
        },
        "template": {
         "data": {
          "bar": [
           {
            "error_x": {
             "color": "#2a3f5f"
            },
            "error_y": {
             "color": "#2a3f5f"
            },
            "marker": {
             "line": {
              "color": "#E5ECF6",
              "width": 0.5
             },
             "pattern": {
              "fillmode": "overlay",
              "size": 10,
              "solidity": 0.2
             }
            },
            "type": "bar"
           }
          ],
          "barpolar": [
           {
            "marker": {
             "line": {
              "color": "#E5ECF6",
              "width": 0.5
             },
             "pattern": {
              "fillmode": "overlay",
              "size": 10,
              "solidity": 0.2
             }
            },
            "type": "barpolar"
           }
          ],
          "carpet": [
           {
            "aaxis": {
             "endlinecolor": "#2a3f5f",
             "gridcolor": "white",
             "linecolor": "white",
             "minorgridcolor": "white",
             "startlinecolor": "#2a3f5f"
            },
            "baxis": {
             "endlinecolor": "#2a3f5f",
             "gridcolor": "white",
             "linecolor": "white",
             "minorgridcolor": "white",
             "startlinecolor": "#2a3f5f"
            },
            "type": "carpet"
           }
          ],
          "choropleth": [
           {
            "colorbar": {
             "outlinewidth": 0,
             "ticks": ""
            },
            "type": "choropleth"
           }
          ],
          "contour": [
           {
            "colorbar": {
             "outlinewidth": 0,
             "ticks": ""
            },
            "colorscale": [
             [
              0,
              "#0d0887"
             ],
             [
              0.1111111111111111,
              "#46039f"
             ],
             [
              0.2222222222222222,
              "#7201a8"
             ],
             [
              0.3333333333333333,
              "#9c179e"
             ],
             [
              0.4444444444444444,
              "#bd3786"
             ],
             [
              0.5555555555555556,
              "#d8576b"
             ],
             [
              0.6666666666666666,
              "#ed7953"
             ],
             [
              0.7777777777777778,
              "#fb9f3a"
             ],
             [
              0.8888888888888888,
              "#fdca26"
             ],
             [
              1,
              "#f0f921"
             ]
            ],
            "type": "contour"
           }
          ],
          "contourcarpet": [
           {
            "colorbar": {
             "outlinewidth": 0,
             "ticks": ""
            },
            "type": "contourcarpet"
           }
          ],
          "heatmap": [
           {
            "colorbar": {
             "outlinewidth": 0,
             "ticks": ""
            },
            "colorscale": [
             [
              0,
              "#0d0887"
             ],
             [
              0.1111111111111111,
              "#46039f"
             ],
             [
              0.2222222222222222,
              "#7201a8"
             ],
             [
              0.3333333333333333,
              "#9c179e"
             ],
             [
              0.4444444444444444,
              "#bd3786"
             ],
             [
              0.5555555555555556,
              "#d8576b"
             ],
             [
              0.6666666666666666,
              "#ed7953"
             ],
             [
              0.7777777777777778,
              "#fb9f3a"
             ],
             [
              0.8888888888888888,
              "#fdca26"
             ],
             [
              1,
              "#f0f921"
             ]
            ],
            "type": "heatmap"
           }
          ],
          "heatmapgl": [
           {
            "colorbar": {
             "outlinewidth": 0,
             "ticks": ""
            },
            "colorscale": [
             [
              0,
              "#0d0887"
             ],
             [
              0.1111111111111111,
              "#46039f"
             ],
             [
              0.2222222222222222,
              "#7201a8"
             ],
             [
              0.3333333333333333,
              "#9c179e"
             ],
             [
              0.4444444444444444,
              "#bd3786"
             ],
             [
              0.5555555555555556,
              "#d8576b"
             ],
             [
              0.6666666666666666,
              "#ed7953"
             ],
             [
              0.7777777777777778,
              "#fb9f3a"
             ],
             [
              0.8888888888888888,
              "#fdca26"
             ],
             [
              1,
              "#f0f921"
             ]
            ],
            "type": "heatmapgl"
           }
          ],
          "histogram": [
           {
            "marker": {
             "pattern": {
              "fillmode": "overlay",
              "size": 10,
              "solidity": 0.2
             }
            },
            "type": "histogram"
           }
          ],
          "histogram2d": [
           {
            "colorbar": {
             "outlinewidth": 0,
             "ticks": ""
            },
            "colorscale": [
             [
              0,
              "#0d0887"
             ],
             [
              0.1111111111111111,
              "#46039f"
             ],
             [
              0.2222222222222222,
              "#7201a8"
             ],
             [
              0.3333333333333333,
              "#9c179e"
             ],
             [
              0.4444444444444444,
              "#bd3786"
             ],
             [
              0.5555555555555556,
              "#d8576b"
             ],
             [
              0.6666666666666666,
              "#ed7953"
             ],
             [
              0.7777777777777778,
              "#fb9f3a"
             ],
             [
              0.8888888888888888,
              "#fdca26"
             ],
             [
              1,
              "#f0f921"
             ]
            ],
            "type": "histogram2d"
           }
          ],
          "histogram2dcontour": [
           {
            "colorbar": {
             "outlinewidth": 0,
             "ticks": ""
            },
            "colorscale": [
             [
              0,
              "#0d0887"
             ],
             [
              0.1111111111111111,
              "#46039f"
             ],
             [
              0.2222222222222222,
              "#7201a8"
             ],
             [
              0.3333333333333333,
              "#9c179e"
             ],
             [
              0.4444444444444444,
              "#bd3786"
             ],
             [
              0.5555555555555556,
              "#d8576b"
             ],
             [
              0.6666666666666666,
              "#ed7953"
             ],
             [
              0.7777777777777778,
              "#fb9f3a"
             ],
             [
              0.8888888888888888,
              "#fdca26"
             ],
             [
              1,
              "#f0f921"
             ]
            ],
            "type": "histogram2dcontour"
           }
          ],
          "mesh3d": [
           {
            "colorbar": {
             "outlinewidth": 0,
             "ticks": ""
            },
            "type": "mesh3d"
           }
          ],
          "parcoords": [
           {
            "line": {
             "colorbar": {
              "outlinewidth": 0,
              "ticks": ""
             }
            },
            "type": "parcoords"
           }
          ],
          "pie": [
           {
            "automargin": true,
            "type": "pie"
           }
          ],
          "scatter": [
           {
            "fillpattern": {
             "fillmode": "overlay",
             "size": 10,
             "solidity": 0.2
            },
            "type": "scatter"
           }
          ],
          "scatter3d": [
           {
            "line": {
             "colorbar": {
              "outlinewidth": 0,
              "ticks": ""
             }
            },
            "marker": {
             "colorbar": {
              "outlinewidth": 0,
              "ticks": ""
             }
            },
            "type": "scatter3d"
           }
          ],
          "scattercarpet": [
           {
            "marker": {
             "colorbar": {
              "outlinewidth": 0,
              "ticks": ""
             }
            },
            "type": "scattercarpet"
           }
          ],
          "scattergeo": [
           {
            "marker": {
             "colorbar": {
              "outlinewidth": 0,
              "ticks": ""
             }
            },
            "type": "scattergeo"
           }
          ],
          "scattergl": [
           {
            "marker": {
             "colorbar": {
              "outlinewidth": 0,
              "ticks": ""
             }
            },
            "type": "scattergl"
           }
          ],
          "scattermapbox": [
           {
            "marker": {
             "colorbar": {
              "outlinewidth": 0,
              "ticks": ""
             }
            },
            "type": "scattermapbox"
           }
          ],
          "scatterpolar": [
           {
            "marker": {
             "colorbar": {
              "outlinewidth": 0,
              "ticks": ""
             }
            },
            "type": "scatterpolar"
           }
          ],
          "scatterpolargl": [
           {
            "marker": {
             "colorbar": {
              "outlinewidth": 0,
              "ticks": ""
             }
            },
            "type": "scatterpolargl"
           }
          ],
          "scatterternary": [
           {
            "marker": {
             "colorbar": {
              "outlinewidth": 0,
              "ticks": ""
             }
            },
            "type": "scatterternary"
           }
          ],
          "surface": [
           {
            "colorbar": {
             "outlinewidth": 0,
             "ticks": ""
            },
            "colorscale": [
             [
              0,
              "#0d0887"
             ],
             [
              0.1111111111111111,
              "#46039f"
             ],
             [
              0.2222222222222222,
              "#7201a8"
             ],
             [
              0.3333333333333333,
              "#9c179e"
             ],
             [
              0.4444444444444444,
              "#bd3786"
             ],
             [
              0.5555555555555556,
              "#d8576b"
             ],
             [
              0.6666666666666666,
              "#ed7953"
             ],
             [
              0.7777777777777778,
              "#fb9f3a"
             ],
             [
              0.8888888888888888,
              "#fdca26"
             ],
             [
              1,
              "#f0f921"
             ]
            ],
            "type": "surface"
           }
          ],
          "table": [
           {
            "cells": {
             "fill": {
              "color": "#EBF0F8"
             },
             "line": {
              "color": "white"
             }
            },
            "header": {
             "fill": {
              "color": "#C8D4E3"
             },
             "line": {
              "color": "white"
             }
            },
            "type": "table"
           }
          ]
         },
         "layout": {
          "annotationdefaults": {
           "arrowcolor": "#2a3f5f",
           "arrowhead": 0,
           "arrowwidth": 1
          },
          "autotypenumbers": "strict",
          "coloraxis": {
           "colorbar": {
            "outlinewidth": 0,
            "ticks": ""
           }
          },
          "colorscale": {
           "diverging": [
            [
             0,
             "#8e0152"
            ],
            [
             0.1,
             "#c51b7d"
            ],
            [
             0.2,
             "#de77ae"
            ],
            [
             0.3,
             "#f1b6da"
            ],
            [
             0.4,
             "#fde0ef"
            ],
            [
             0.5,
             "#f7f7f7"
            ],
            [
             0.6,
             "#e6f5d0"
            ],
            [
             0.7,
             "#b8e186"
            ],
            [
             0.8,
             "#7fbc41"
            ],
            [
             0.9,
             "#4d9221"
            ],
            [
             1,
             "#276419"
            ]
           ],
           "sequential": [
            [
             0,
             "#0d0887"
            ],
            [
             0.1111111111111111,
             "#46039f"
            ],
            [
             0.2222222222222222,
             "#7201a8"
            ],
            [
             0.3333333333333333,
             "#9c179e"
            ],
            [
             0.4444444444444444,
             "#bd3786"
            ],
            [
             0.5555555555555556,
             "#d8576b"
            ],
            [
             0.6666666666666666,
             "#ed7953"
            ],
            [
             0.7777777777777778,
             "#fb9f3a"
            ],
            [
             0.8888888888888888,
             "#fdca26"
            ],
            [
             1,
             "#f0f921"
            ]
           ],
           "sequentialminus": [
            [
             0,
             "#0d0887"
            ],
            [
             0.1111111111111111,
             "#46039f"
            ],
            [
             0.2222222222222222,
             "#7201a8"
            ],
            [
             0.3333333333333333,
             "#9c179e"
            ],
            [
             0.4444444444444444,
             "#bd3786"
            ],
            [
             0.5555555555555556,
             "#d8576b"
            ],
            [
             0.6666666666666666,
             "#ed7953"
            ],
            [
             0.7777777777777778,
             "#fb9f3a"
            ],
            [
             0.8888888888888888,
             "#fdca26"
            ],
            [
             1,
             "#f0f921"
            ]
           ]
          },
          "colorway": [
           "#636efa",
           "#EF553B",
           "#00cc96",
           "#ab63fa",
           "#FFA15A",
           "#19d3f3",
           "#FF6692",
           "#B6E880",
           "#FF97FF",
           "#FECB52"
          ],
          "font": {
           "color": "#2a3f5f"
          },
          "geo": {
           "bgcolor": "white",
           "lakecolor": "white",
           "landcolor": "#E5ECF6",
           "showlakes": true,
           "showland": true,
           "subunitcolor": "white"
          },
          "hoverlabel": {
           "align": "left"
          },
          "hovermode": "closest",
          "mapbox": {
           "style": "light"
          },
          "paper_bgcolor": "white",
          "plot_bgcolor": "#E5ECF6",
          "polar": {
           "angularaxis": {
            "gridcolor": "white",
            "linecolor": "white",
            "ticks": ""
           },
           "bgcolor": "#E5ECF6",
           "radialaxis": {
            "gridcolor": "white",
            "linecolor": "white",
            "ticks": ""
           }
          },
          "scene": {
           "xaxis": {
            "backgroundcolor": "#E5ECF6",
            "gridcolor": "white",
            "gridwidth": 2,
            "linecolor": "white",
            "showbackground": true,
            "ticks": "",
            "zerolinecolor": "white"
           },
           "yaxis": {
            "backgroundcolor": "#E5ECF6",
            "gridcolor": "white",
            "gridwidth": 2,
            "linecolor": "white",
            "showbackground": true,
            "ticks": "",
            "zerolinecolor": "white"
           },
           "zaxis": {
            "backgroundcolor": "#E5ECF6",
            "gridcolor": "white",
            "gridwidth": 2,
            "linecolor": "white",
            "showbackground": true,
            "ticks": "",
            "zerolinecolor": "white"
           }
          },
          "shapedefaults": {
           "line": {
            "color": "#2a3f5f"
           }
          },
          "ternary": {
           "aaxis": {
            "gridcolor": "white",
            "linecolor": "white",
            "ticks": ""
           },
           "baxis": {
            "gridcolor": "white",
            "linecolor": "white",
            "ticks": ""
           },
           "bgcolor": "#E5ECF6",
           "caxis": {
            "gridcolor": "white",
            "linecolor": "white",
            "ticks": ""
           }
          },
          "title": {
           "x": 0.05
          },
          "xaxis": {
           "automargin": true,
           "gridcolor": "white",
           "linecolor": "white",
           "ticks": "",
           "title": {
            "standoff": 15
           },
           "zerolinecolor": "white",
           "zerolinewidth": 2
          },
          "yaxis": {
           "automargin": true,
           "gridcolor": "white",
           "linecolor": "white",
           "ticks": "",
           "title": {
            "standoff": 15
           },
           "zerolinecolor": "white",
           "zerolinewidth": 2
          }
         }
        },
        "title": {
         "text": "Glia mask area (QC) - cellpdia30_sigma1_dilrad4_dnad_obj_seg_v1_gliaero6_gliathr20_dnadero2"
        },
        "xaxis": {
         "anchor": "y",
         "domain": [
          0,
          1
         ],
         "title": {
          "text": "staining_id"
         }
        },
        "yaxis": {
         "anchor": "x",
         "domain": [
          0,
          1
         ],
         "title": {
          "text": "%_glia+_signal"
         }
        }
       }
      }
     },
     "metadata": {},
     "output_type": "display_data"
    }
   ],
   "source": [
    "# Create the plot\n",
    "fig = px.scatter(df, x='staining_id', y='%_glia+_signal',\n",
    "                 hover_data=['staining_id','index','filename'], title=f'Glia mask area (QC) - {title}')\n",
    "\n",
    "# Show the plot\n",
    "fig.show()"
   ]
  },
  {
   "cell_type": "markdown",
   "metadata": {},
   "source": [
    "We can observe there is a number of outliers in the glial and dna damage mask detection given the staining is suboptimal in some of the samples. I will filter the data to remove those suboptimal stains and just plot the optimal ones where the automated image analysis offers reliable results."
   ]
  },
  {
   "cell_type": "code",
   "execution_count": 37,
   "metadata": {},
   "outputs": [
    {
     "name": "stdout",
     "output_type": "stream",
     "text": [
      "Glia_mask_area_%_mean: 11.002078888908265, Dna_damage_mask_area_%_mean: 10.337142717270623\n"
     ]
    }
   ],
   "source": [
    "# Calculate mean area of the image occupied by glia+ signal\n",
    "glia_mask_area_mean = df['%_glia+_signal'].mean() \n",
    "\n",
    "# Calculate mean area of the image occupied by dna_damage_+ signal\n",
    "dna_damage_mask_area_mean = df['%_dna_damage_signal'].mean() \n",
    "\n",
    "# Print extracted values\n",
    "print(f\"Glia_mask_area_%_mean: {glia_mask_area_mean}, Dna_damage_mask_area_%_mean: {dna_damage_mask_area_mean}\") "
   ]
  },
  {
   "cell_type": "code",
   "execution_count": 38,
   "metadata": {},
   "outputs": [
    {
     "data": {
      "text/html": [
       "<div>\n",
       "<style scoped>\n",
       "    .dataframe tbody tr th:only-of-type {\n",
       "        vertical-align: middle;\n",
       "    }\n",
       "\n",
       "    .dataframe tbody tr th {\n",
       "        vertical-align: top;\n",
       "    }\n",
       "\n",
       "    .dataframe thead th {\n",
       "        text-align: right;\n",
       "    }\n",
       "</style>\n",
       "<table border=\"1\" class=\"dataframe\">\n",
       "  <thead>\n",
       "    <tr style=\"text-align: right;\">\n",
       "      <th></th>\n",
       "      <th>index</th>\n",
       "      <th>filename</th>\n",
       "      <th>avg_dna_damage_foci/glia_+</th>\n",
       "      <th>avg_dna_damage_foci/glia_+_damage_+</th>\n",
       "      <th>avg_dna_damage_foci/all_nuclei</th>\n",
       "      <th>avg_dna_damage_foci/all_nuclei_damage_+</th>\n",
       "      <th>nr_+_dna_damage_glia_nuclei</th>\n",
       "      <th>nr_-_dna_damage_glia_nuclei</th>\n",
       "      <th>nr_glia_+_nuclei</th>\n",
       "      <th>nr_total_nuclei</th>\n",
       "      <th>...</th>\n",
       "      <th>tissue_location</th>\n",
       "      <th>staining_id</th>\n",
       "      <th>animal_id</th>\n",
       "      <th>sex</th>\n",
       "      <th>genotype</th>\n",
       "      <th>dna_damage_stain_quality_manual</th>\n",
       "      <th>manual_qc</th>\n",
       "      <th>glia_stain_quality_auto</th>\n",
       "      <th>dna_damage_stain_quality_auto</th>\n",
       "      <th>staining_qc_passed</th>\n",
       "    </tr>\n",
       "  </thead>\n",
       "  <tbody>\n",
       "    <tr>\n",
       "      <th>0</th>\n",
       "      <td>0</td>\n",
       "      <td>DSB Iba1 16_40X_CA1</td>\n",
       "      <td>0.936508</td>\n",
       "      <td>1.923913</td>\n",
       "      <td>0.836207</td>\n",
       "      <td>1.796296</td>\n",
       "      <td>92</td>\n",
       "      <td>97</td>\n",
       "      <td>189</td>\n",
       "      <td>232</td>\n",
       "      <td>...</td>\n",
       "      <td>CA1</td>\n",
       "      <td>16</td>\n",
       "      <td>887</td>\n",
       "      <td>male</td>\n",
       "      <td>APP/PS1</td>\n",
       "      <td>poor</td>\n",
       "      <td>failed</td>\n",
       "      <td>suboptimal</td>\n",
       "      <td>optimal</td>\n",
       "      <td>False</td>\n",
       "    </tr>\n",
       "    <tr>\n",
       "      <th>1</th>\n",
       "      <td>1</td>\n",
       "      <td>DSB Iba1 16_40X_CA3</td>\n",
       "      <td>4.513514</td>\n",
       "      <td>4.717514</td>\n",
       "      <td>4.406250</td>\n",
       "      <td>4.726257</td>\n",
       "      <td>177</td>\n",
       "      <td>8</td>\n",
       "      <td>185</td>\n",
       "      <td>192</td>\n",
       "      <td>...</td>\n",
       "      <td>CA3</td>\n",
       "      <td>16</td>\n",
       "      <td>887</td>\n",
       "      <td>male</td>\n",
       "      <td>APP/PS1</td>\n",
       "      <td>poor</td>\n",
       "      <td>failed</td>\n",
       "      <td>suboptimal</td>\n",
       "      <td>optimal</td>\n",
       "      <td>False</td>\n",
       "    </tr>\n",
       "    <tr>\n",
       "      <th>2</th>\n",
       "      <td>2</td>\n",
       "      <td>DSB Iba1 16_40X_CTX1</td>\n",
       "      <td>0.642857</td>\n",
       "      <td>1.687500</td>\n",
       "      <td>0.648352</td>\n",
       "      <td>1.882979</td>\n",
       "      <td>16</td>\n",
       "      <td>26</td>\n",
       "      <td>42</td>\n",
       "      <td>272</td>\n",
       "      <td>...</td>\n",
       "      <td>CTX1</td>\n",
       "      <td>16</td>\n",
       "      <td>887</td>\n",
       "      <td>male</td>\n",
       "      <td>APP/PS1</td>\n",
       "      <td>poor</td>\n",
       "      <td>failed</td>\n",
       "      <td>optimal</td>\n",
       "      <td>optimal</td>\n",
       "      <td>False</td>\n",
       "    </tr>\n",
       "    <tr>\n",
       "      <th>3</th>\n",
       "      <td>3</td>\n",
       "      <td>DSB Iba1 16_40X_CTX2</td>\n",
       "      <td>2.240664</td>\n",
       "      <td>2.268908</td>\n",
       "      <td>2.327068</td>\n",
       "      <td>2.389961</td>\n",
       "      <td>238</td>\n",
       "      <td>3</td>\n",
       "      <td>241</td>\n",
       "      <td>266</td>\n",
       "      <td>...</td>\n",
       "      <td>CTX2</td>\n",
       "      <td>16</td>\n",
       "      <td>887</td>\n",
       "      <td>male</td>\n",
       "      <td>APP/PS1</td>\n",
       "      <td>poor</td>\n",
       "      <td>failed</td>\n",
       "      <td>suboptimal</td>\n",
       "      <td>optimal</td>\n",
       "      <td>False</td>\n",
       "    </tr>\n",
       "    <tr>\n",
       "      <th>4</th>\n",
       "      <td>4</td>\n",
       "      <td>DSB Iba1 16_40X_CTX3</td>\n",
       "      <td>2.019231</td>\n",
       "      <td>2.100000</td>\n",
       "      <td>1.738589</td>\n",
       "      <td>2.053922</td>\n",
       "      <td>100</td>\n",
       "      <td>4</td>\n",
       "      <td>104</td>\n",
       "      <td>241</td>\n",
       "      <td>...</td>\n",
       "      <td>CTX3</td>\n",
       "      <td>16</td>\n",
       "      <td>887</td>\n",
       "      <td>male</td>\n",
       "      <td>APP/PS1</td>\n",
       "      <td>poor</td>\n",
       "      <td>failed</td>\n",
       "      <td>suboptimal</td>\n",
       "      <td>optimal</td>\n",
       "      <td>False</td>\n",
       "    </tr>\n",
       "  </tbody>\n",
       "</table>\n",
       "<p>5 rows × 22 columns</p>\n",
       "</div>"
      ],
      "text/plain": [
       "   index              filename  avg_dna_damage_foci/glia_+  \\\n",
       "0      0   DSB Iba1 16_40X_CA1                    0.936508   \n",
       "1      1   DSB Iba1 16_40X_CA3                    4.513514   \n",
       "2      2  DSB Iba1 16_40X_CTX1                    0.642857   \n",
       "3      3  DSB Iba1 16_40X_CTX2                    2.240664   \n",
       "4      4  DSB Iba1 16_40X_CTX3                    2.019231   \n",
       "\n",
       "   avg_dna_damage_foci/glia_+_damage_+  avg_dna_damage_foci/all_nuclei  \\\n",
       "0                             1.923913                        0.836207   \n",
       "1                             4.717514                        4.406250   \n",
       "2                             1.687500                        0.648352   \n",
       "3                             2.268908                        2.327068   \n",
       "4                             2.100000                        1.738589   \n",
       "\n",
       "   avg_dna_damage_foci/all_nuclei_damage_+  nr_+_dna_damage_glia_nuclei  \\\n",
       "0                                 1.796296                           92   \n",
       "1                                 4.726257                          177   \n",
       "2                                 1.882979                           16   \n",
       "3                                 2.389961                          238   \n",
       "4                                 2.053922                          100   \n",
       "\n",
       "   nr_-_dna_damage_glia_nuclei  nr_glia_+_nuclei  nr_total_nuclei  ...  \\\n",
       "0                           97               189              232  ...   \n",
       "1                            8               185              192  ...   \n",
       "2                           26                42              272  ...   \n",
       "3                            3               241              266  ...   \n",
       "4                            4               104              241  ...   \n",
       "\n",
       "   tissue_location  staining_id animal_id   sex  genotype  \\\n",
       "0              CA1           16       887  male   APP/PS1   \n",
       "1              CA3           16       887  male   APP/PS1   \n",
       "2             CTX1           16       887  male   APP/PS1   \n",
       "3             CTX2           16       887  male   APP/PS1   \n",
       "4             CTX3           16       887  male   APP/PS1   \n",
       "\n",
       "  dna_damage_stain_quality_manual manual_qc glia_stain_quality_auto  \\\n",
       "0                            poor    failed              suboptimal   \n",
       "1                            poor    failed              suboptimal   \n",
       "2                            poor    failed                 optimal   \n",
       "3                            poor    failed              suboptimal   \n",
       "4                            poor    failed              suboptimal   \n",
       "\n",
       "  dna_damage_stain_quality_auto staining_qc_passed  \n",
       "0                       optimal              False  \n",
       "1                       optimal              False  \n",
       "2                       optimal              False  \n",
       "3                       optimal              False  \n",
       "4                       optimal              False  \n",
       "\n",
       "[5 rows x 22 columns]"
      ]
     },
     "execution_count": 38,
     "metadata": {},
     "output_type": "execute_result"
    }
   ],
   "source": [
    "# Define a function to determine staining quality, anything above 3 times the mean value is considered an outlier\n",
    "def determine_stain_quality(value, mean_value):\n",
    "    if value < (mean_value + mean_value*3):\n",
    "        return \"optimal\"\n",
    "    else:\n",
    "        return \"suboptimal\"\n",
    "\n",
    "# Check stain quality for glia and create another column storing optimal or suboptimal if qc_passed or not    \n",
    "merged_df['glia_stain_quality_auto'] = merged_df['%_glia+_signal'].apply(lambda x: determine_stain_quality(x, glia_mask_area_mean))\n",
    "\n",
    "# Check stain quality for dna_damage and create another column storing optimal or suboptimal if qc_passed or not \n",
    "merged_df['dna_damage_stain_quality_auto'] = merged_df['%_dna_damage_signal'].apply(lambda x: determine_stain_quality(x, dna_damage_mask_area_mean))\n",
    "\n",
    "# Check for both stain qualities and store True qc_passed if both are optimal\n",
    "merged_df['staining_qc_passed'] = (merged_df['glia_stain_quality_auto'] == 'optimal') & (merged_df['dna_damage_stain_quality_auto'] == 'optimal')\n",
    "\n",
    "# Group the DataFrame by 'staining_id' and check if all 'staining_qc_passed' values are True, otherwise set them all to False\n",
    "merged_df['staining_qc_passed'] = merged_df.groupby('staining_id')['staining_qc_passed'].transform('all')\n",
    "\n",
    "# Now, if all 'staining_qc_passed' values for the same 'staining_id' were True, the column will remain True; otherwise, it will be False\n",
    "\n",
    "merged_df.head()"
   ]
  },
  {
   "cell_type": "code",
   "execution_count": 39,
   "metadata": {},
   "outputs": [],
   "source": [
    "if glia_segmenter:\n",
    "    merged_df.to_csv(\n",
    "        f\"./results/qc_cellpdia{cellpose_nuclei_diameter}_sigma{gaussian_sigma}_dilrad{dilation_radius_nuclei}_dnad_obj_seg_v{dna_damage_segmenter_version}_gliaero{glia_nuclei_colocalization_erosion}_glia_sem_seg_v{glia_segmenter_version}_dnadero{dna_damage_erosion}.csv\",\n",
    "        index=False,\n",
    "    )\n",
    "else:\n",
    "    merged_df.to_csv(\n",
    "        f\"./results/qc_cellpdia{cellpose_nuclei_diameter}_sigma{gaussian_sigma}_dilrad{dilation_radius_nuclei}_dnad_obj_seg_v{dna_damage_segmenter_version}_gliaero{glia_nuclei_colocalization_erosion}_gliathr{glia_channel_threshold}_dnadero{dna_damage_erosion}.csv\",\n",
    "        index=False,\n",
    "    )"
   ]
  },
  {
   "cell_type": "code",
   "execution_count": 40,
   "metadata": {},
   "outputs": [],
   "source": [
    "# Remove data from images with a poor quality stain (auto QC)\n",
    "auto_filtered_df = merged_df[merged_df['staining_qc_passed'] == True]"
   ]
  },
  {
   "cell_type": "code",
   "execution_count": 41,
   "metadata": {},
   "outputs": [
    {
     "data": {
      "application/vnd.plotly.v1+json": {
       "config": {
        "plotlyServerURL": "https://plot.ly"
       },
       "data": [
        {
         "alignmentgroup": "True",
         "hovertemplate": "genotype=APP/PS1 x Neil3 KO<br>tissue_location=%{x}<br>avg_dna_damage_foci/glia_+=%{y}<extra></extra>",
         "legendgroup": "APP/PS1 x Neil3 KO",
         "marker": {
          "color": "#636efa"
         },
         "name": "APP/PS1 x Neil3 KO",
         "notched": false,
         "offsetgroup": "APP/PS1 x Neil3 KO",
         "orientation": "v",
         "showlegend": true,
         "type": "box",
         "x": [
          "CA1",
          "CA3",
          "CTX1",
          "CTX2",
          "CTX3",
          "DG",
          "CA1",
          "CA3",
          "CTX1",
          "CTX2",
          "CTX3",
          "DG",
          "CA1",
          "CA3",
          "CTX1",
          "CTX2",
          "CTX3",
          "DG",
          "CA1",
          "CA3",
          "CTX1",
          "CTX2",
          "CTX3",
          "DG",
          "CA1",
          "CA3",
          "CTX1",
          "CTX2",
          "CTX3",
          "DG",
          "DG",
          "CA1",
          "CA3",
          "CTX1",
          "CTX2",
          "CTX3",
          "DG",
          "CA1",
          "CA3",
          "CTX1",
          "CTX2",
          "CTX3",
          "DG",
          "CA1",
          "CA3",
          "CTX1",
          "CTX2",
          "CTX3",
          "DG",
          "CA1",
          "CA3",
          "CTX1",
          "CTX2",
          "CTX3",
          "DG",
          "CA1",
          "CA3",
          "CTX1",
          "CTX2",
          "CTX3",
          "DG",
          "CA1",
          "CA3",
          "CTX1",
          "CTX2",
          "CTX3",
          "DG",
          "CA1",
          "CA3",
          "CTX1",
          "CTX2",
          "CTX3",
          "DG",
          "CA1",
          "CA3",
          "CTX1",
          "CTX2",
          "CTX3",
          "DG"
         ],
         "x0": " ",
         "xaxis": "x",
         "y": [
          1,
          1.6,
          1,
          1.5,
          0.6666666666666666,
          1,
          1,
          0.5,
          1.588235294117647,
          1.2666666666666666,
          1.4782608695652173,
          0.9333333333333332,
          0,
          1,
          1,
          0.8461538461538461,
          1.0909090909090908,
          2.823529411764706,
          1.4,
          1,
          1.125,
          1.1923076923076923,
          0.9375,
          1,
          1,
          1,
          0.7,
          1.2666666666666666,
          0.7777777777777778,
          1,
          1,
          0.5,
          0.625,
          0.95,
          0.8181818181818182,
          1.375,
          1.8,
          0.5,
          0.5,
          null,
          0,
          0.6,
          1,
          2,
          1.6666666666666667,
          0.75,
          0.8,
          0.7647058823529411,
          2.0454545454545454,
          0.1538461538461538,
          0.1111111111111111,
          0,
          0.1428571428571428,
          0.6451612903225806,
          0.4666666666666667,
          1.2,
          1,
          0.3478260869565217,
          0.6451612903225806,
          0.5384615384615384,
          0.875,
          0.9090909090909092,
          1.375,
          1.4285714285714286,
          0.75,
          0.5454545454545454,
          1.1071428571428572,
          1.25,
          0.6666666666666666,
          1.1764705882352942,
          1.1875,
          1,
          1.5,
          0.8,
          0.8,
          0.7777777777777778,
          0.6,
          0.6956521739130435,
          1.5
         ],
         "y0": " ",
         "yaxis": "y"
        },
        {
         "alignmentgroup": "True",
         "hovertemplate": "genotype=APP/PS1<br>tissue_location=%{x}<br>avg_dna_damage_foci/glia_+=%{y}<extra></extra>",
         "legendgroup": "APP/PS1",
         "marker": {
          "color": "#EF553B"
         },
         "name": "APP/PS1",
         "notched": false,
         "offsetgroup": "APP/PS1",
         "orientation": "v",
         "showlegend": true,
         "type": "box",
         "x": [
          "CA1",
          "CA3",
          "CTX1",
          "CTX2",
          "CTX3",
          "DG",
          "CA1",
          "CA3",
          "CTX1",
          "CTX2",
          "CTX3",
          "DG",
          "CA1",
          "CA3",
          "CTX1",
          "CTX2",
          "CTX3",
          "DG",
          "CA1",
          "CA3",
          "CTX1",
          "CTX2",
          "CTX3",
          "DG",
          "DG",
          "CA1",
          "CA3",
          "CTX1",
          "CTX2",
          "CTX3",
          "DG",
          "CA1",
          "CA3",
          "CTX1",
          "CTX2",
          "CTX3",
          "DG",
          "CA1",
          "CA3",
          "CTX1",
          "CTX2",
          "CTX3",
          "DG",
          "CA1",
          "CA3",
          "CTX1",
          "CTX2",
          "CTX3",
          "DG",
          "CA1",
          "CA3",
          "CTX1",
          "CTX2",
          "CTX3",
          "DG",
          "CA1",
          "CA3",
          "CTX1",
          "CTX2",
          "CTX3",
          "DG",
          "CA1",
          "CA3",
          "CTX1",
          "CTX2",
          "CTX3",
          "DG",
          "CA1",
          "CA3",
          "CTX1",
          "CTX2",
          "CTX3",
          "DG",
          "CA1",
          "CA3",
          "CTX1",
          "CTX2",
          "CTX3",
          "DG",
          "CA1",
          "CA3",
          "CTX1",
          "CTX2",
          "CTX3",
          "DG",
          "CA1",
          "CA3",
          "CTX1",
          "CTX2",
          "CTX3",
          "DG",
          "CA1",
          "CA3",
          "CTX1",
          "CTX2",
          "CTX3",
          "DG",
          "CA1",
          "CA3",
          "CTX1",
          "CTX2",
          "CTX3",
          "DG",
          "CA1",
          "CA3",
          "CTX1",
          "CTX2",
          "CTX3",
          "DG",
          "CA1",
          "CA3",
          "CTX1",
          "CTX2",
          "CTX3",
          "DG"
         ],
         "x0": " ",
         "xaxis": "x",
         "y": [
          1,
          2.1666666666666665,
          1.5,
          1.0588235294117647,
          1.25,
          1.7647058823529411,
          1,
          0.875,
          0.56,
          0,
          0.9090909090909092,
          1,
          0,
          0.25,
          0,
          0.7058823529411765,
          0.0769230769230769,
          0,
          1.375,
          1.2222222222222223,
          0.56,
          1.65,
          1.3333333333333333,
          2.1333333333333333,
          2.5,
          0,
          1,
          0.7692307692307693,
          0.5,
          0.6153846153846154,
          0.8,
          1.3636363636363635,
          2,
          1,
          0.5882352941176471,
          1.1538461538461535,
          1.5,
          3.090909090909091,
          2.8,
          2.4545454545454546,
          2.185185185185185,
          1.8846153846153848,
          2.3684210526315788,
          1.25,
          1,
          1.875,
          1.4482758620689655,
          1.7,
          1.6,
          1,
          0.7272727272727273,
          1.7692307692307692,
          1.5833333333333333,
          1.793103448275862,
          1.4285714285714286,
          1.3333333333333333,
          0.6,
          0,
          0.4,
          1,
          1.375,
          1.3333333333333333,
          1.3333333333333333,
          1,
          1,
          1.5,
          1,
          0.4545454545454545,
          0.7142857142857143,
          2.071428571428572,
          0.5,
          0.9166666666666666,
          2.871794871794872,
          1.1176470588235294,
          2.117647058823529,
          0.6111111111111112,
          2.6486486486486487,
          1.7027027027027026,
          4.75,
          1.4285714285714286,
          1.25,
          0.9428571428571428,
          1,
          1,
          1.1538461538461535,
          0.6,
          1,
          0.3888888888888889,
          0.3333333333333333,
          0.6153846153846154,
          0.8181818181818182,
          2,
          1.3333333333333333,
          1.9583333333333333,
          2,
          1.7692307692307692,
          1.8333333333333333,
          1.4,
          1.3333333333333333,
          0.6,
          1,
          1.2,
          0.7692307692307693,
          0.4285714285714285,
          0.6666666666666666,
          0.125,
          0.6666666666666666,
          0,
          0.7272727272727273,
          1,
          0.4166666666666667,
          0.9523809523809524,
          0.782608695652174,
          0.2777777777777778,
          1.1875
         ],
         "y0": " ",
         "yaxis": "y"
        }
       ],
       "layout": {
        "boxmode": "group",
        "legend": {
         "title": {
          "text": "genotype"
         },
         "tracegroupgap": 0
        },
        "template": {
         "data": {
          "bar": [
           {
            "error_x": {
             "color": "#2a3f5f"
            },
            "error_y": {
             "color": "#2a3f5f"
            },
            "marker": {
             "line": {
              "color": "#E5ECF6",
              "width": 0.5
             },
             "pattern": {
              "fillmode": "overlay",
              "size": 10,
              "solidity": 0.2
             }
            },
            "type": "bar"
           }
          ],
          "barpolar": [
           {
            "marker": {
             "line": {
              "color": "#E5ECF6",
              "width": 0.5
             },
             "pattern": {
              "fillmode": "overlay",
              "size": 10,
              "solidity": 0.2
             }
            },
            "type": "barpolar"
           }
          ],
          "carpet": [
           {
            "aaxis": {
             "endlinecolor": "#2a3f5f",
             "gridcolor": "white",
             "linecolor": "white",
             "minorgridcolor": "white",
             "startlinecolor": "#2a3f5f"
            },
            "baxis": {
             "endlinecolor": "#2a3f5f",
             "gridcolor": "white",
             "linecolor": "white",
             "minorgridcolor": "white",
             "startlinecolor": "#2a3f5f"
            },
            "type": "carpet"
           }
          ],
          "choropleth": [
           {
            "colorbar": {
             "outlinewidth": 0,
             "ticks": ""
            },
            "type": "choropleth"
           }
          ],
          "contour": [
           {
            "colorbar": {
             "outlinewidth": 0,
             "ticks": ""
            },
            "colorscale": [
             [
              0,
              "#0d0887"
             ],
             [
              0.1111111111111111,
              "#46039f"
             ],
             [
              0.2222222222222222,
              "#7201a8"
             ],
             [
              0.3333333333333333,
              "#9c179e"
             ],
             [
              0.4444444444444444,
              "#bd3786"
             ],
             [
              0.5555555555555556,
              "#d8576b"
             ],
             [
              0.6666666666666666,
              "#ed7953"
             ],
             [
              0.7777777777777778,
              "#fb9f3a"
             ],
             [
              0.8888888888888888,
              "#fdca26"
             ],
             [
              1,
              "#f0f921"
             ]
            ],
            "type": "contour"
           }
          ],
          "contourcarpet": [
           {
            "colorbar": {
             "outlinewidth": 0,
             "ticks": ""
            },
            "type": "contourcarpet"
           }
          ],
          "heatmap": [
           {
            "colorbar": {
             "outlinewidth": 0,
             "ticks": ""
            },
            "colorscale": [
             [
              0,
              "#0d0887"
             ],
             [
              0.1111111111111111,
              "#46039f"
             ],
             [
              0.2222222222222222,
              "#7201a8"
             ],
             [
              0.3333333333333333,
              "#9c179e"
             ],
             [
              0.4444444444444444,
              "#bd3786"
             ],
             [
              0.5555555555555556,
              "#d8576b"
             ],
             [
              0.6666666666666666,
              "#ed7953"
             ],
             [
              0.7777777777777778,
              "#fb9f3a"
             ],
             [
              0.8888888888888888,
              "#fdca26"
             ],
             [
              1,
              "#f0f921"
             ]
            ],
            "type": "heatmap"
           }
          ],
          "heatmapgl": [
           {
            "colorbar": {
             "outlinewidth": 0,
             "ticks": ""
            },
            "colorscale": [
             [
              0,
              "#0d0887"
             ],
             [
              0.1111111111111111,
              "#46039f"
             ],
             [
              0.2222222222222222,
              "#7201a8"
             ],
             [
              0.3333333333333333,
              "#9c179e"
             ],
             [
              0.4444444444444444,
              "#bd3786"
             ],
             [
              0.5555555555555556,
              "#d8576b"
             ],
             [
              0.6666666666666666,
              "#ed7953"
             ],
             [
              0.7777777777777778,
              "#fb9f3a"
             ],
             [
              0.8888888888888888,
              "#fdca26"
             ],
             [
              1,
              "#f0f921"
             ]
            ],
            "type": "heatmapgl"
           }
          ],
          "histogram": [
           {
            "marker": {
             "pattern": {
              "fillmode": "overlay",
              "size": 10,
              "solidity": 0.2
             }
            },
            "type": "histogram"
           }
          ],
          "histogram2d": [
           {
            "colorbar": {
             "outlinewidth": 0,
             "ticks": ""
            },
            "colorscale": [
             [
              0,
              "#0d0887"
             ],
             [
              0.1111111111111111,
              "#46039f"
             ],
             [
              0.2222222222222222,
              "#7201a8"
             ],
             [
              0.3333333333333333,
              "#9c179e"
             ],
             [
              0.4444444444444444,
              "#bd3786"
             ],
             [
              0.5555555555555556,
              "#d8576b"
             ],
             [
              0.6666666666666666,
              "#ed7953"
             ],
             [
              0.7777777777777778,
              "#fb9f3a"
             ],
             [
              0.8888888888888888,
              "#fdca26"
             ],
             [
              1,
              "#f0f921"
             ]
            ],
            "type": "histogram2d"
           }
          ],
          "histogram2dcontour": [
           {
            "colorbar": {
             "outlinewidth": 0,
             "ticks": ""
            },
            "colorscale": [
             [
              0,
              "#0d0887"
             ],
             [
              0.1111111111111111,
              "#46039f"
             ],
             [
              0.2222222222222222,
              "#7201a8"
             ],
             [
              0.3333333333333333,
              "#9c179e"
             ],
             [
              0.4444444444444444,
              "#bd3786"
             ],
             [
              0.5555555555555556,
              "#d8576b"
             ],
             [
              0.6666666666666666,
              "#ed7953"
             ],
             [
              0.7777777777777778,
              "#fb9f3a"
             ],
             [
              0.8888888888888888,
              "#fdca26"
             ],
             [
              1,
              "#f0f921"
             ]
            ],
            "type": "histogram2dcontour"
           }
          ],
          "mesh3d": [
           {
            "colorbar": {
             "outlinewidth": 0,
             "ticks": ""
            },
            "type": "mesh3d"
           }
          ],
          "parcoords": [
           {
            "line": {
             "colorbar": {
              "outlinewidth": 0,
              "ticks": ""
             }
            },
            "type": "parcoords"
           }
          ],
          "pie": [
           {
            "automargin": true,
            "type": "pie"
           }
          ],
          "scatter": [
           {
            "fillpattern": {
             "fillmode": "overlay",
             "size": 10,
             "solidity": 0.2
            },
            "type": "scatter"
           }
          ],
          "scatter3d": [
           {
            "line": {
             "colorbar": {
              "outlinewidth": 0,
              "ticks": ""
             }
            },
            "marker": {
             "colorbar": {
              "outlinewidth": 0,
              "ticks": ""
             }
            },
            "type": "scatter3d"
           }
          ],
          "scattercarpet": [
           {
            "marker": {
             "colorbar": {
              "outlinewidth": 0,
              "ticks": ""
             }
            },
            "type": "scattercarpet"
           }
          ],
          "scattergeo": [
           {
            "marker": {
             "colorbar": {
              "outlinewidth": 0,
              "ticks": ""
             }
            },
            "type": "scattergeo"
           }
          ],
          "scattergl": [
           {
            "marker": {
             "colorbar": {
              "outlinewidth": 0,
              "ticks": ""
             }
            },
            "type": "scattergl"
           }
          ],
          "scattermapbox": [
           {
            "marker": {
             "colorbar": {
              "outlinewidth": 0,
              "ticks": ""
             }
            },
            "type": "scattermapbox"
           }
          ],
          "scatterpolar": [
           {
            "marker": {
             "colorbar": {
              "outlinewidth": 0,
              "ticks": ""
             }
            },
            "type": "scatterpolar"
           }
          ],
          "scatterpolargl": [
           {
            "marker": {
             "colorbar": {
              "outlinewidth": 0,
              "ticks": ""
             }
            },
            "type": "scatterpolargl"
           }
          ],
          "scatterternary": [
           {
            "marker": {
             "colorbar": {
              "outlinewidth": 0,
              "ticks": ""
             }
            },
            "type": "scatterternary"
           }
          ],
          "surface": [
           {
            "colorbar": {
             "outlinewidth": 0,
             "ticks": ""
            },
            "colorscale": [
             [
              0,
              "#0d0887"
             ],
             [
              0.1111111111111111,
              "#46039f"
             ],
             [
              0.2222222222222222,
              "#7201a8"
             ],
             [
              0.3333333333333333,
              "#9c179e"
             ],
             [
              0.4444444444444444,
              "#bd3786"
             ],
             [
              0.5555555555555556,
              "#d8576b"
             ],
             [
              0.6666666666666666,
              "#ed7953"
             ],
             [
              0.7777777777777778,
              "#fb9f3a"
             ],
             [
              0.8888888888888888,
              "#fdca26"
             ],
             [
              1,
              "#f0f921"
             ]
            ],
            "type": "surface"
           }
          ],
          "table": [
           {
            "cells": {
             "fill": {
              "color": "#EBF0F8"
             },
             "line": {
              "color": "white"
             }
            },
            "header": {
             "fill": {
              "color": "#C8D4E3"
             },
             "line": {
              "color": "white"
             }
            },
            "type": "table"
           }
          ]
         },
         "layout": {
          "annotationdefaults": {
           "arrowcolor": "#2a3f5f",
           "arrowhead": 0,
           "arrowwidth": 1
          },
          "autotypenumbers": "strict",
          "coloraxis": {
           "colorbar": {
            "outlinewidth": 0,
            "ticks": ""
           }
          },
          "colorscale": {
           "diverging": [
            [
             0,
             "#8e0152"
            ],
            [
             0.1,
             "#c51b7d"
            ],
            [
             0.2,
             "#de77ae"
            ],
            [
             0.3,
             "#f1b6da"
            ],
            [
             0.4,
             "#fde0ef"
            ],
            [
             0.5,
             "#f7f7f7"
            ],
            [
             0.6,
             "#e6f5d0"
            ],
            [
             0.7,
             "#b8e186"
            ],
            [
             0.8,
             "#7fbc41"
            ],
            [
             0.9,
             "#4d9221"
            ],
            [
             1,
             "#276419"
            ]
           ],
           "sequential": [
            [
             0,
             "#0d0887"
            ],
            [
             0.1111111111111111,
             "#46039f"
            ],
            [
             0.2222222222222222,
             "#7201a8"
            ],
            [
             0.3333333333333333,
             "#9c179e"
            ],
            [
             0.4444444444444444,
             "#bd3786"
            ],
            [
             0.5555555555555556,
             "#d8576b"
            ],
            [
             0.6666666666666666,
             "#ed7953"
            ],
            [
             0.7777777777777778,
             "#fb9f3a"
            ],
            [
             0.8888888888888888,
             "#fdca26"
            ],
            [
             1,
             "#f0f921"
            ]
           ],
           "sequentialminus": [
            [
             0,
             "#0d0887"
            ],
            [
             0.1111111111111111,
             "#46039f"
            ],
            [
             0.2222222222222222,
             "#7201a8"
            ],
            [
             0.3333333333333333,
             "#9c179e"
            ],
            [
             0.4444444444444444,
             "#bd3786"
            ],
            [
             0.5555555555555556,
             "#d8576b"
            ],
            [
             0.6666666666666666,
             "#ed7953"
            ],
            [
             0.7777777777777778,
             "#fb9f3a"
            ],
            [
             0.8888888888888888,
             "#fdca26"
            ],
            [
             1,
             "#f0f921"
            ]
           ]
          },
          "colorway": [
           "#636efa",
           "#EF553B",
           "#00cc96",
           "#ab63fa",
           "#FFA15A",
           "#19d3f3",
           "#FF6692",
           "#B6E880",
           "#FF97FF",
           "#FECB52"
          ],
          "font": {
           "color": "#2a3f5f"
          },
          "geo": {
           "bgcolor": "white",
           "lakecolor": "white",
           "landcolor": "#E5ECF6",
           "showlakes": true,
           "showland": true,
           "subunitcolor": "white"
          },
          "hoverlabel": {
           "align": "left"
          },
          "hovermode": "closest",
          "mapbox": {
           "style": "light"
          },
          "paper_bgcolor": "white",
          "plot_bgcolor": "#E5ECF6",
          "polar": {
           "angularaxis": {
            "gridcolor": "white",
            "linecolor": "white",
            "ticks": ""
           },
           "bgcolor": "#E5ECF6",
           "radialaxis": {
            "gridcolor": "white",
            "linecolor": "white",
            "ticks": ""
           }
          },
          "scene": {
           "xaxis": {
            "backgroundcolor": "#E5ECF6",
            "gridcolor": "white",
            "gridwidth": 2,
            "linecolor": "white",
            "showbackground": true,
            "ticks": "",
            "zerolinecolor": "white"
           },
           "yaxis": {
            "backgroundcolor": "#E5ECF6",
            "gridcolor": "white",
            "gridwidth": 2,
            "linecolor": "white",
            "showbackground": true,
            "ticks": "",
            "zerolinecolor": "white"
           },
           "zaxis": {
            "backgroundcolor": "#E5ECF6",
            "gridcolor": "white",
            "gridwidth": 2,
            "linecolor": "white",
            "showbackground": true,
            "ticks": "",
            "zerolinecolor": "white"
           }
          },
          "shapedefaults": {
           "line": {
            "color": "#2a3f5f"
           }
          },
          "ternary": {
           "aaxis": {
            "gridcolor": "white",
            "linecolor": "white",
            "ticks": ""
           },
           "baxis": {
            "gridcolor": "white",
            "linecolor": "white",
            "ticks": ""
           },
           "bgcolor": "#E5ECF6",
           "caxis": {
            "gridcolor": "white",
            "linecolor": "white",
            "ticks": ""
           }
          },
          "title": {
           "x": 0.05
          },
          "xaxis": {
           "automargin": true,
           "gridcolor": "white",
           "linecolor": "white",
           "ticks": "",
           "title": {
            "standoff": 15
           },
           "zerolinecolor": "white",
           "zerolinewidth": 2
          },
          "yaxis": {
           "automargin": true,
           "gridcolor": "white",
           "linecolor": "white",
           "ticks": "",
           "title": {
            "standoff": 15
           },
           "zerolinecolor": "white",
           "zerolinewidth": 2
          }
         }
        },
        "title": {
         "text": "DNA Damage in Glia Nuclei by Tissue Location and Genotype (sex-aggregated) - Auto stain QC - cellpdia30_sigma1_dilrad4_dnad_obj_seg_v1_gliaero6_gliathr20_dnadero2"
        },
        "xaxis": {
         "anchor": "y",
         "domain": [
          0,
          1
         ],
         "title": {
          "text": "tissue_location"
         }
        },
        "yaxis": {
         "anchor": "x",
         "domain": [
          0,
          1
         ],
         "title": {
          "text": "avg_dna_damage_foci/glia_+"
         }
        }
       }
      }
     },
     "metadata": {},
     "output_type": "display_data"
    }
   ],
   "source": [
    "# Create the boxplot\n",
    "fig = px.box(auto_filtered_df, x='tissue_location', y='avg_dna_damage_foci/glia_+',\n",
    "             color='genotype', # Different genotypes will be shown in different colors\n",
    "             title=f'DNA Damage in Glia Nuclei by Tissue Location and Genotype (sex-aggregated) - Auto stain QC - {title}')\n",
    "\n",
    "# Show the plot\n",
    "fig.show()"
   ]
  },
  {
   "cell_type": "code",
   "execution_count": 42,
   "metadata": {},
   "outputs": [
    {
     "data": {
      "application/vnd.plotly.v1+json": {
       "config": {
        "plotlyServerURL": "https://plot.ly"
       },
       "data": [
        {
         "alignmentgroup": "True",
         "hovertemplate": "genotype=APP/PS1 x Neil3 KO<br>tissue_location=%{x}<br>avg_dna_damage_foci/glia_+_damage_+=%{y}<extra></extra>",
         "legendgroup": "APP/PS1 x Neil3 KO",
         "marker": {
          "color": "#636efa"
         },
         "name": "APP/PS1 x Neil3 KO",
         "notched": false,
         "offsetgroup": "APP/PS1 x Neil3 KO",
         "orientation": "v",
         "showlegend": true,
         "type": "box",
         "x": [
          "CA1",
          "CA3",
          "CTX1",
          "CTX2",
          "CTX3",
          "DG",
          "CA1",
          "CA3",
          "CTX1",
          "CTX2",
          "CTX3",
          "DG",
          "CA1",
          "CA3",
          "CTX1",
          "CTX2",
          "CTX3",
          "DG",
          "CA1",
          "CA3",
          "CTX1",
          "CTX2",
          "CTX3",
          "DG",
          "CA1",
          "CA3",
          "CTX1",
          "CTX2",
          "CTX3",
          "DG",
          "DG",
          "CA1",
          "CA3",
          "CTX1",
          "CTX2",
          "CTX3",
          "DG",
          "CA1",
          "CA3",
          "CTX1",
          "CTX2",
          "CTX3",
          "DG",
          "CA1",
          "CA3",
          "CTX1",
          "CTX2",
          "CTX3",
          "DG",
          "CA1",
          "CA3",
          "CTX1",
          "CTX2",
          "CTX3",
          "DG",
          "CA1",
          "CA3",
          "CTX1",
          "CTX2",
          "CTX3",
          "DG",
          "CA1",
          "CA3",
          "CTX1",
          "CTX2",
          "CTX3",
          "DG",
          "CA1",
          "CA3",
          "CTX1",
          "CTX2",
          "CTX3",
          "DG",
          "CA1",
          "CA3",
          "CTX1",
          "CTX2",
          "CTX3",
          "DG"
         ],
         "x0": " ",
         "xaxis": "x",
         "y": [
          1.5,
          2,
          1.6666666666666667,
          1.8333333333333333,
          2,
          1.4,
          1.5714285714285714,
          1,
          2.076923076923077,
          1.4615384615384617,
          2,
          1.4,
          null,
          1,
          1.5,
          1.5714285714285714,
          1.3333333333333333,
          2.823529411764706,
          1.5555555555555556,
          1.25,
          1.6363636363636365,
          1.631578947368421,
          1.1538461538461535,
          1.5,
          1.6666666666666667,
          1.75,
          1.4,
          1.7272727272727273,
          1.4,
          2,
          1,
          1,
          1,
          1.4615384615384617,
          1.8,
          1.5714285714285714,
          2.25,
          1,
          1,
          null,
          null,
          1.5,
          1,
          2.4615384615384617,
          2.5,
          1.2857142857142858,
          1.4285714285714286,
          1.625,
          2.3684210526315788,
          1,
          1,
          null,
          1,
          1.4285714285714286,
          1.1666666666666667,
          1.2,
          1.4,
          2,
          1.25,
          1.4,
          1.5555555555555556,
          1.4285714285714286,
          1.8333333333333333,
          1.6666666666666667,
          1.125,
          1.2,
          1.7222222222222223,
          1.6666666666666667,
          1,
          1.818181818181818,
          1.5833333333333333,
          1.5,
          1.5,
          1,
          1.3333333333333333,
          1.75,
          1.0909090909090908,
          1.4545454545454546,
          1.8
         ],
         "y0": " ",
         "yaxis": "y"
        },
        {
         "alignmentgroup": "True",
         "hovertemplate": "genotype=APP/PS1<br>tissue_location=%{x}<br>avg_dna_damage_foci/glia_+_damage_+=%{y}<extra></extra>",
         "legendgroup": "APP/PS1",
         "marker": {
          "color": "#EF553B"
         },
         "name": "APP/PS1",
         "notched": false,
         "offsetgroup": "APP/PS1",
         "orientation": "v",
         "showlegend": true,
         "type": "box",
         "x": [
          "CA1",
          "CA3",
          "CTX1",
          "CTX2",
          "CTX3",
          "DG",
          "CA1",
          "CA3",
          "CTX1",
          "CTX2",
          "CTX3",
          "DG",
          "CA1",
          "CA3",
          "CTX1",
          "CTX2",
          "CTX3",
          "DG",
          "CA1",
          "CA3",
          "CTX1",
          "CTX2",
          "CTX3",
          "DG",
          "DG",
          "CA1",
          "CA3",
          "CTX1",
          "CTX2",
          "CTX3",
          "DG",
          "CA1",
          "CA3",
          "CTX1",
          "CTX2",
          "CTX3",
          "DG",
          "CA1",
          "CA3",
          "CTX1",
          "CTX2",
          "CTX3",
          "DG",
          "CA1",
          "CA3",
          "CTX1",
          "CTX2",
          "CTX3",
          "DG",
          "CA1",
          "CA3",
          "CTX1",
          "CTX2",
          "CTX3",
          "DG",
          "CA1",
          "CA3",
          "CTX1",
          "CTX2",
          "CTX3",
          "DG",
          "CA1",
          "CA3",
          "CTX1",
          "CTX2",
          "CTX3",
          "DG",
          "CA1",
          "CA3",
          "CTX1",
          "CTX2",
          "CTX3",
          "DG",
          "CA1",
          "CA3",
          "CTX1",
          "CTX2",
          "CTX3",
          "DG",
          "CA1",
          "CA3",
          "CTX1",
          "CTX2",
          "CTX3",
          "DG",
          "CA1",
          "CA3",
          "CTX1",
          "CTX2",
          "CTX3",
          "DG",
          "CA1",
          "CA3",
          "CTX1",
          "CTX2",
          "CTX3",
          "DG",
          "CA1",
          "CA3",
          "CTX1",
          "CTX2",
          "CTX3",
          "DG",
          "CA1",
          "CA3",
          "CTX1",
          "CTX2",
          "CTX3",
          "DG",
          "CA1",
          "CA3",
          "CTX1",
          "CTX2",
          "CTX3",
          "DG"
         ],
         "x0": " ",
         "xaxis": "x",
         "y": [
          1.9,
          2.1666666666666665,
          2.5,
          2,
          2,
          2,
          2.6666666666666665,
          1.75,
          1.2727272727272727,
          null,
          1.25,
          1.4545454545454546,
          null,
          1,
          null,
          1.2,
          1,
          null,
          1.8333333333333333,
          1.375,
          1.2727272727272727,
          2.2,
          1.7142857142857142,
          2.4615384615384617,
          2.5,
          null,
          1.3333333333333333,
          1.5384615384615383,
          1.5714285714285714,
          1.3333333333333333,
          2,
          1.875,
          2,
          1.8333333333333333,
          1.4285714285714286,
          1.5,
          1.9090909090909087,
          3.090909090909091,
          2.8,
          2.7,
          2.269230769230769,
          1.8846153846153848,
          2.3684210526315788,
          1.4285714285714286,
          2,
          2.142857142857143,
          1.826086956521739,
          2.125,
          1.6,
          1.75,
          1.3333333333333333,
          2.090909090909091,
          2.235294117647059,
          2.363636363636364,
          2.5,
          2.6666666666666665,
          1,
          null,
          2,
          2,
          1.5714285714285714,
          1.3333333333333333,
          2,
          1.5,
          1.5,
          1.875,
          2,
          1.25,
          1.25,
          2.761904761904762,
          1.6666666666666667,
          1.2222222222222223,
          2.9473684210526314,
          1.9,
          2.769230769230769,
          1.6923076923076923,
          2.7222222222222223,
          2.032258064516129,
          4.75,
          1.6666666666666667,
          1.25,
          1.5714285714285714,
          1.6,
          1.5384615384615383,
          1.875,
          1.8,
          1.6,
          1.75,
          1.1428571428571428,
          1.3333333333333333,
          1.3846153846153846,
          2,
          1.6,
          2.136363636363636,
          2.260869565217391,
          2.555555555555556,
          1.9411764705882355,
          1.75,
          1.3333333333333333,
          1.2,
          1.6666666666666667,
          1.8461538461538465,
          1.4285714285714286,
          1,
          1,
          1,
          1.5,
          null,
          1.3333333333333333,
          1.8571428571428568,
          1.6666666666666667,
          1.6666666666666667,
          1.2857142857142858,
          1.1111111111111112,
          1.9
         ],
         "y0": " ",
         "yaxis": "y"
        }
       ],
       "layout": {
        "boxmode": "group",
        "legend": {
         "title": {
          "text": "genotype"
         },
         "tracegroupgap": 0
        },
        "template": {
         "data": {
          "bar": [
           {
            "error_x": {
             "color": "#2a3f5f"
            },
            "error_y": {
             "color": "#2a3f5f"
            },
            "marker": {
             "line": {
              "color": "#E5ECF6",
              "width": 0.5
             },
             "pattern": {
              "fillmode": "overlay",
              "size": 10,
              "solidity": 0.2
             }
            },
            "type": "bar"
           }
          ],
          "barpolar": [
           {
            "marker": {
             "line": {
              "color": "#E5ECF6",
              "width": 0.5
             },
             "pattern": {
              "fillmode": "overlay",
              "size": 10,
              "solidity": 0.2
             }
            },
            "type": "barpolar"
           }
          ],
          "carpet": [
           {
            "aaxis": {
             "endlinecolor": "#2a3f5f",
             "gridcolor": "white",
             "linecolor": "white",
             "minorgridcolor": "white",
             "startlinecolor": "#2a3f5f"
            },
            "baxis": {
             "endlinecolor": "#2a3f5f",
             "gridcolor": "white",
             "linecolor": "white",
             "minorgridcolor": "white",
             "startlinecolor": "#2a3f5f"
            },
            "type": "carpet"
           }
          ],
          "choropleth": [
           {
            "colorbar": {
             "outlinewidth": 0,
             "ticks": ""
            },
            "type": "choropleth"
           }
          ],
          "contour": [
           {
            "colorbar": {
             "outlinewidth": 0,
             "ticks": ""
            },
            "colorscale": [
             [
              0,
              "#0d0887"
             ],
             [
              0.1111111111111111,
              "#46039f"
             ],
             [
              0.2222222222222222,
              "#7201a8"
             ],
             [
              0.3333333333333333,
              "#9c179e"
             ],
             [
              0.4444444444444444,
              "#bd3786"
             ],
             [
              0.5555555555555556,
              "#d8576b"
             ],
             [
              0.6666666666666666,
              "#ed7953"
             ],
             [
              0.7777777777777778,
              "#fb9f3a"
             ],
             [
              0.8888888888888888,
              "#fdca26"
             ],
             [
              1,
              "#f0f921"
             ]
            ],
            "type": "contour"
           }
          ],
          "contourcarpet": [
           {
            "colorbar": {
             "outlinewidth": 0,
             "ticks": ""
            },
            "type": "contourcarpet"
           }
          ],
          "heatmap": [
           {
            "colorbar": {
             "outlinewidth": 0,
             "ticks": ""
            },
            "colorscale": [
             [
              0,
              "#0d0887"
             ],
             [
              0.1111111111111111,
              "#46039f"
             ],
             [
              0.2222222222222222,
              "#7201a8"
             ],
             [
              0.3333333333333333,
              "#9c179e"
             ],
             [
              0.4444444444444444,
              "#bd3786"
             ],
             [
              0.5555555555555556,
              "#d8576b"
             ],
             [
              0.6666666666666666,
              "#ed7953"
             ],
             [
              0.7777777777777778,
              "#fb9f3a"
             ],
             [
              0.8888888888888888,
              "#fdca26"
             ],
             [
              1,
              "#f0f921"
             ]
            ],
            "type": "heatmap"
           }
          ],
          "heatmapgl": [
           {
            "colorbar": {
             "outlinewidth": 0,
             "ticks": ""
            },
            "colorscale": [
             [
              0,
              "#0d0887"
             ],
             [
              0.1111111111111111,
              "#46039f"
             ],
             [
              0.2222222222222222,
              "#7201a8"
             ],
             [
              0.3333333333333333,
              "#9c179e"
             ],
             [
              0.4444444444444444,
              "#bd3786"
             ],
             [
              0.5555555555555556,
              "#d8576b"
             ],
             [
              0.6666666666666666,
              "#ed7953"
             ],
             [
              0.7777777777777778,
              "#fb9f3a"
             ],
             [
              0.8888888888888888,
              "#fdca26"
             ],
             [
              1,
              "#f0f921"
             ]
            ],
            "type": "heatmapgl"
           }
          ],
          "histogram": [
           {
            "marker": {
             "pattern": {
              "fillmode": "overlay",
              "size": 10,
              "solidity": 0.2
             }
            },
            "type": "histogram"
           }
          ],
          "histogram2d": [
           {
            "colorbar": {
             "outlinewidth": 0,
             "ticks": ""
            },
            "colorscale": [
             [
              0,
              "#0d0887"
             ],
             [
              0.1111111111111111,
              "#46039f"
             ],
             [
              0.2222222222222222,
              "#7201a8"
             ],
             [
              0.3333333333333333,
              "#9c179e"
             ],
             [
              0.4444444444444444,
              "#bd3786"
             ],
             [
              0.5555555555555556,
              "#d8576b"
             ],
             [
              0.6666666666666666,
              "#ed7953"
             ],
             [
              0.7777777777777778,
              "#fb9f3a"
             ],
             [
              0.8888888888888888,
              "#fdca26"
             ],
             [
              1,
              "#f0f921"
             ]
            ],
            "type": "histogram2d"
           }
          ],
          "histogram2dcontour": [
           {
            "colorbar": {
             "outlinewidth": 0,
             "ticks": ""
            },
            "colorscale": [
             [
              0,
              "#0d0887"
             ],
             [
              0.1111111111111111,
              "#46039f"
             ],
             [
              0.2222222222222222,
              "#7201a8"
             ],
             [
              0.3333333333333333,
              "#9c179e"
             ],
             [
              0.4444444444444444,
              "#bd3786"
             ],
             [
              0.5555555555555556,
              "#d8576b"
             ],
             [
              0.6666666666666666,
              "#ed7953"
             ],
             [
              0.7777777777777778,
              "#fb9f3a"
             ],
             [
              0.8888888888888888,
              "#fdca26"
             ],
             [
              1,
              "#f0f921"
             ]
            ],
            "type": "histogram2dcontour"
           }
          ],
          "mesh3d": [
           {
            "colorbar": {
             "outlinewidth": 0,
             "ticks": ""
            },
            "type": "mesh3d"
           }
          ],
          "parcoords": [
           {
            "line": {
             "colorbar": {
              "outlinewidth": 0,
              "ticks": ""
             }
            },
            "type": "parcoords"
           }
          ],
          "pie": [
           {
            "automargin": true,
            "type": "pie"
           }
          ],
          "scatter": [
           {
            "fillpattern": {
             "fillmode": "overlay",
             "size": 10,
             "solidity": 0.2
            },
            "type": "scatter"
           }
          ],
          "scatter3d": [
           {
            "line": {
             "colorbar": {
              "outlinewidth": 0,
              "ticks": ""
             }
            },
            "marker": {
             "colorbar": {
              "outlinewidth": 0,
              "ticks": ""
             }
            },
            "type": "scatter3d"
           }
          ],
          "scattercarpet": [
           {
            "marker": {
             "colorbar": {
              "outlinewidth": 0,
              "ticks": ""
             }
            },
            "type": "scattercarpet"
           }
          ],
          "scattergeo": [
           {
            "marker": {
             "colorbar": {
              "outlinewidth": 0,
              "ticks": ""
             }
            },
            "type": "scattergeo"
           }
          ],
          "scattergl": [
           {
            "marker": {
             "colorbar": {
              "outlinewidth": 0,
              "ticks": ""
             }
            },
            "type": "scattergl"
           }
          ],
          "scattermapbox": [
           {
            "marker": {
             "colorbar": {
              "outlinewidth": 0,
              "ticks": ""
             }
            },
            "type": "scattermapbox"
           }
          ],
          "scatterpolar": [
           {
            "marker": {
             "colorbar": {
              "outlinewidth": 0,
              "ticks": ""
             }
            },
            "type": "scatterpolar"
           }
          ],
          "scatterpolargl": [
           {
            "marker": {
             "colorbar": {
              "outlinewidth": 0,
              "ticks": ""
             }
            },
            "type": "scatterpolargl"
           }
          ],
          "scatterternary": [
           {
            "marker": {
             "colorbar": {
              "outlinewidth": 0,
              "ticks": ""
             }
            },
            "type": "scatterternary"
           }
          ],
          "surface": [
           {
            "colorbar": {
             "outlinewidth": 0,
             "ticks": ""
            },
            "colorscale": [
             [
              0,
              "#0d0887"
             ],
             [
              0.1111111111111111,
              "#46039f"
             ],
             [
              0.2222222222222222,
              "#7201a8"
             ],
             [
              0.3333333333333333,
              "#9c179e"
             ],
             [
              0.4444444444444444,
              "#bd3786"
             ],
             [
              0.5555555555555556,
              "#d8576b"
             ],
             [
              0.6666666666666666,
              "#ed7953"
             ],
             [
              0.7777777777777778,
              "#fb9f3a"
             ],
             [
              0.8888888888888888,
              "#fdca26"
             ],
             [
              1,
              "#f0f921"
             ]
            ],
            "type": "surface"
           }
          ],
          "table": [
           {
            "cells": {
             "fill": {
              "color": "#EBF0F8"
             },
             "line": {
              "color": "white"
             }
            },
            "header": {
             "fill": {
              "color": "#C8D4E3"
             },
             "line": {
              "color": "white"
             }
            },
            "type": "table"
           }
          ]
         },
         "layout": {
          "annotationdefaults": {
           "arrowcolor": "#2a3f5f",
           "arrowhead": 0,
           "arrowwidth": 1
          },
          "autotypenumbers": "strict",
          "coloraxis": {
           "colorbar": {
            "outlinewidth": 0,
            "ticks": ""
           }
          },
          "colorscale": {
           "diverging": [
            [
             0,
             "#8e0152"
            ],
            [
             0.1,
             "#c51b7d"
            ],
            [
             0.2,
             "#de77ae"
            ],
            [
             0.3,
             "#f1b6da"
            ],
            [
             0.4,
             "#fde0ef"
            ],
            [
             0.5,
             "#f7f7f7"
            ],
            [
             0.6,
             "#e6f5d0"
            ],
            [
             0.7,
             "#b8e186"
            ],
            [
             0.8,
             "#7fbc41"
            ],
            [
             0.9,
             "#4d9221"
            ],
            [
             1,
             "#276419"
            ]
           ],
           "sequential": [
            [
             0,
             "#0d0887"
            ],
            [
             0.1111111111111111,
             "#46039f"
            ],
            [
             0.2222222222222222,
             "#7201a8"
            ],
            [
             0.3333333333333333,
             "#9c179e"
            ],
            [
             0.4444444444444444,
             "#bd3786"
            ],
            [
             0.5555555555555556,
             "#d8576b"
            ],
            [
             0.6666666666666666,
             "#ed7953"
            ],
            [
             0.7777777777777778,
             "#fb9f3a"
            ],
            [
             0.8888888888888888,
             "#fdca26"
            ],
            [
             1,
             "#f0f921"
            ]
           ],
           "sequentialminus": [
            [
             0,
             "#0d0887"
            ],
            [
             0.1111111111111111,
             "#46039f"
            ],
            [
             0.2222222222222222,
             "#7201a8"
            ],
            [
             0.3333333333333333,
             "#9c179e"
            ],
            [
             0.4444444444444444,
             "#bd3786"
            ],
            [
             0.5555555555555556,
             "#d8576b"
            ],
            [
             0.6666666666666666,
             "#ed7953"
            ],
            [
             0.7777777777777778,
             "#fb9f3a"
            ],
            [
             0.8888888888888888,
             "#fdca26"
            ],
            [
             1,
             "#f0f921"
            ]
           ]
          },
          "colorway": [
           "#636efa",
           "#EF553B",
           "#00cc96",
           "#ab63fa",
           "#FFA15A",
           "#19d3f3",
           "#FF6692",
           "#B6E880",
           "#FF97FF",
           "#FECB52"
          ],
          "font": {
           "color": "#2a3f5f"
          },
          "geo": {
           "bgcolor": "white",
           "lakecolor": "white",
           "landcolor": "#E5ECF6",
           "showlakes": true,
           "showland": true,
           "subunitcolor": "white"
          },
          "hoverlabel": {
           "align": "left"
          },
          "hovermode": "closest",
          "mapbox": {
           "style": "light"
          },
          "paper_bgcolor": "white",
          "plot_bgcolor": "#E5ECF6",
          "polar": {
           "angularaxis": {
            "gridcolor": "white",
            "linecolor": "white",
            "ticks": ""
           },
           "bgcolor": "#E5ECF6",
           "radialaxis": {
            "gridcolor": "white",
            "linecolor": "white",
            "ticks": ""
           }
          },
          "scene": {
           "xaxis": {
            "backgroundcolor": "#E5ECF6",
            "gridcolor": "white",
            "gridwidth": 2,
            "linecolor": "white",
            "showbackground": true,
            "ticks": "",
            "zerolinecolor": "white"
           },
           "yaxis": {
            "backgroundcolor": "#E5ECF6",
            "gridcolor": "white",
            "gridwidth": 2,
            "linecolor": "white",
            "showbackground": true,
            "ticks": "",
            "zerolinecolor": "white"
           },
           "zaxis": {
            "backgroundcolor": "#E5ECF6",
            "gridcolor": "white",
            "gridwidth": 2,
            "linecolor": "white",
            "showbackground": true,
            "ticks": "",
            "zerolinecolor": "white"
           }
          },
          "shapedefaults": {
           "line": {
            "color": "#2a3f5f"
           }
          },
          "ternary": {
           "aaxis": {
            "gridcolor": "white",
            "linecolor": "white",
            "ticks": ""
           },
           "baxis": {
            "gridcolor": "white",
            "linecolor": "white",
            "ticks": ""
           },
           "bgcolor": "#E5ECF6",
           "caxis": {
            "gridcolor": "white",
            "linecolor": "white",
            "ticks": ""
           }
          },
          "title": {
           "x": 0.05
          },
          "xaxis": {
           "automargin": true,
           "gridcolor": "white",
           "linecolor": "white",
           "ticks": "",
           "title": {
            "standoff": 15
           },
           "zerolinecolor": "white",
           "zerolinewidth": 2
          },
          "yaxis": {
           "automargin": true,
           "gridcolor": "white",
           "linecolor": "white",
           "ticks": "",
           "title": {
            "standoff": 15
           },
           "zerolinecolor": "white",
           "zerolinewidth": 2
          }
         }
        },
        "title": {
         "text": "DNA Damage in Damaged Glia Nuclei by Tissue Location and Genotype (sex-aggregated) - Auto stain QC - cellpdia30_sigma1_dilrad4_dnad_obj_seg_v1_gliaero6_gliathr20_dnadero2"
        },
        "xaxis": {
         "anchor": "y",
         "domain": [
          0,
          1
         ],
         "title": {
          "text": "tissue_location"
         }
        },
        "yaxis": {
         "anchor": "x",
         "domain": [
          0,
          1
         ],
         "title": {
          "text": "avg_dna_damage_foci/glia_+_damage_+"
         }
        }
       }
      }
     },
     "metadata": {},
     "output_type": "display_data"
    }
   ],
   "source": [
    "# Create the boxplot\n",
    "fig = px.box(auto_filtered_df, x='tissue_location', y='avg_dna_damage_foci/glia_+_damage_+',\n",
    "             color='genotype', # Different genotypes will be shown in different colors\n",
    "             title=f'DNA Damage in Damaged Glia Nuclei by Tissue Location and Genotype (sex-aggregated) - Auto stain QC - {title}')\n",
    "\n",
    "# Show the plot\n",
    "fig.show()"
   ]
  },
  {
   "cell_type": "code",
   "execution_count": 43,
   "metadata": {},
   "outputs": [
    {
     "data": {
      "application/vnd.plotly.v1+json": {
       "config": {
        "plotlyServerURL": "https://plot.ly"
       },
       "data": [
        {
         "alignmentgroup": "True",
         "hovertemplate": "genotype=APP/PS1 x Neil3 KO<br>tissue_location=%{x}<br>avg_dna_damage_foci/all_nuclei=%{y}<extra></extra>",
         "legendgroup": "APP/PS1 x Neil3 KO",
         "marker": {
          "color": "#636efa"
         },
         "name": "APP/PS1 x Neil3 KO",
         "notched": false,
         "offsetgroup": "APP/PS1 x Neil3 KO",
         "orientation": "v",
         "showlegend": true,
         "type": "box",
         "x": [
          "CA1",
          "CA3",
          "CTX1",
          "CTX2",
          "CTX3",
          "DG",
          "CA1",
          "CA3",
          "CTX1",
          "CTX2",
          "CTX3",
          "DG",
          "CA1",
          "CA3",
          "CTX1",
          "CTX2",
          "CTX3",
          "DG",
          "CA1",
          "CA3",
          "CTX1",
          "CTX2",
          "CTX3",
          "DG",
          "CA1",
          "CA3",
          "CTX1",
          "CTX2",
          "CTX3",
          "DG",
          "DG",
          "CA1",
          "CA3",
          "CTX1",
          "CTX2",
          "CTX3",
          "DG",
          "CA1",
          "CA3",
          "CTX1",
          "CTX2",
          "CTX3",
          "DG",
          "CA1",
          "CA3",
          "CTX1",
          "CTX2",
          "CTX3",
          "DG",
          "CA1",
          "CA3",
          "CTX1",
          "CTX2",
          "CTX3",
          "DG",
          "CA1",
          "CA3",
          "CTX1",
          "CTX2",
          "CTX3",
          "DG",
          "CA1",
          "CA3",
          "CTX1",
          "CTX2",
          "CTX3",
          "DG",
          "CA1",
          "CA3",
          "CTX1",
          "CTX2",
          "CTX3",
          "DG",
          "CA1",
          "CA3",
          "CTX1",
          "CTX2",
          "CTX3",
          "DG"
         ],
         "x0": " ",
         "xaxis": "x",
         "y": [
          0.6645161290322581,
          1.3245614035087718,
          0.5151515151515151,
          1.069182389937107,
          0.532608695652174,
          1.435483870967742,
          0.851063829787234,
          1,
          0.695,
          0.7688888888888888,
          1.0824742268041236,
          1.1310679611650485,
          0.8023255813953488,
          0.5223880597014925,
          0.6923076923076923,
          0.927536231884058,
          1.3451776649746192,
          2.452247191011236,
          0.7718120805369127,
          0.6386554621848739,
          0.7939698492462312,
          1.177664974619289,
          0.5952380952380952,
          1.025974025974026,
          0.759493670886076,
          0.9619565217391304,
          0.6696428571428571,
          1.3214285714285714,
          0.8301886792452831,
          1.528169014084507,
          1.276190476190476,
          0.363013698630137,
          0.7272727272727273,
          0.6645161290322581,
          0.6242038216560509,
          0.6486486486486487,
          1.189102564102564,
          0.6225165562913907,
          0.5,
          0.0736196319018405,
          0.1405405405405405,
          0.1785714285714285,
          1.0633608815426998,
          1.922619047619048,
          1.548780487804878,
          0.5304347826086957,
          0.3828828828828828,
          0.4492753623188406,
          2.2536945812807883,
          0.1866666666666666,
          0.4758064516129032,
          0.0157480314960629,
          0.180672268907563,
          0.7905759162303665,
          0.343811394891945,
          0.3939393939393939,
          0.6122448979591837,
          0.2903225806451613,
          0.5,
          0.5257731958762887,
          0.5926966292134831,
          2.1621621621621623,
          4.255952380952381,
          0.3698113207547169,
          0.3571428571428571,
          0.190721649484536,
          1.8514285714285716,
          0.6528925619834711,
          0.8761061946902655,
          0.5886524822695035,
          0.837696335078534,
          0.5677083333333334,
          0.7709677419354839,
          0.6390532544378699,
          0.45,
          0.6515151515151515,
          0.4041095890410959,
          0.4962962962962963,
          0.9853372434017597
         ],
         "y0": " ",
         "yaxis": "y"
        },
        {
         "alignmentgroup": "True",
         "hovertemplate": "genotype=APP/PS1<br>tissue_location=%{x}<br>avg_dna_damage_foci/all_nuclei=%{y}<extra></extra>",
         "legendgroup": "APP/PS1",
         "marker": {
          "color": "#EF553B"
         },
         "name": "APP/PS1",
         "notched": false,
         "offsetgroup": "APP/PS1",
         "orientation": "v",
         "showlegend": true,
         "type": "box",
         "x": [
          "CA1",
          "CA3",
          "CTX1",
          "CTX2",
          "CTX3",
          "DG",
          "CA1",
          "CA3",
          "CTX1",
          "CTX2",
          "CTX3",
          "DG",
          "CA1",
          "CA3",
          "CTX1",
          "CTX2",
          "CTX3",
          "DG",
          "CA1",
          "CA3",
          "CTX1",
          "CTX2",
          "CTX3",
          "DG",
          "DG",
          "CA1",
          "CA3",
          "CTX1",
          "CTX2",
          "CTX3",
          "DG",
          "CA1",
          "CA3",
          "CTX1",
          "CTX2",
          "CTX3",
          "DG",
          "CA1",
          "CA3",
          "CTX1",
          "CTX2",
          "CTX3",
          "DG",
          "CA1",
          "CA3",
          "CTX1",
          "CTX2",
          "CTX3",
          "DG",
          "CA1",
          "CA3",
          "CTX1",
          "CTX2",
          "CTX3",
          "DG",
          "CA1",
          "CA3",
          "CTX1",
          "CTX2",
          "CTX3",
          "DG",
          "CA1",
          "CA3",
          "CTX1",
          "CTX2",
          "CTX3",
          "DG",
          "CA1",
          "CA3",
          "CTX1",
          "CTX2",
          "CTX3",
          "DG",
          "CA1",
          "CA3",
          "CTX1",
          "CTX2",
          "CTX3",
          "DG",
          "CA1",
          "CA3",
          "CTX1",
          "CTX2",
          "CTX3",
          "DG",
          "CA1",
          "CA3",
          "CTX1",
          "CTX2",
          "CTX3",
          "DG",
          "CA1",
          "CA3",
          "CTX1",
          "CTX2",
          "CTX3",
          "DG",
          "CA1",
          "CA3",
          "CTX1",
          "CTX2",
          "CTX3",
          "DG",
          "CA1",
          "CA3",
          "CTX1",
          "CTX2",
          "CTX3",
          "DG",
          "CA1",
          "CA3",
          "CTX1",
          "CTX2",
          "CTX3",
          "DG"
         ],
         "x0": " ",
         "xaxis": "x",
         "y": [
          1.206896551724138,
          1.2302158273381294,
          1.2880658436213992,
          1.0454545454545454,
          0.3928571428571428,
          1.633838383838384,
          0.6617647058823529,
          0.6491228070175439,
          0.387434554973822,
          0.075,
          0.7905405405405406,
          1.122969837587007,
          0.5642458100558659,
          0.6,
          0.1933701657458563,
          0.4555984555984556,
          0.5473684210526316,
          0.1348314606741573,
          1.6158940397350994,
          1.9197080291970805,
          0.6090225563909775,
          1.78125,
          2.2216216216216216,
          2.067469879518072,
          2.2764976958525347,
          0.528169014084507,
          0.8543689320388349,
          0.4444444444444444,
          0.5152671755725191,
          0.3668341708542713,
          1.1607629427792916,
          1.0059880239520955,
          0.9672131147540984,
          0.4766839378238341,
          0.6208333333333333,
          0.9178082191780822,
          1.6540880503144657,
          3.9518716577540105,
          5.311787072243346,
          3.251700680272109,
          3.285171102661597,
          2.2740384615384617,
          4.117824773413897,
          1.0666666666666669,
          1,
          1.9855769230769231,
          1.264840182648402,
          1.1965317919075145,
          1.663716814159292,
          1.2692307692307692,
          1.6164383561643836,
          1.6403508771929824,
          2.2758620689655173,
          1.4883720930232558,
          1.911845730027548,
          0.8125,
          0.9111111111111112,
          0.369047619047619,
          0.4,
          0.2450331125827814,
          0.7377049180327869,
          0.4137931034482758,
          0.8058252427184466,
          0.5238095238095238,
          0.5225806451612903,
          0.7746478873239436,
          0.8067010309278351,
          0.3154362416107382,
          1.2772277227722773,
          1.4035874439461884,
          0.4009661835748792,
          0.9282296650717704,
          2.459537572254335,
          1.4210526315789471,
          4.093023255813954,
          0.6153846153846154,
          3.01423487544484,
          1.6936936936936935,
          3.888888888888889,
          1.1333333333333333,
          0.6195652173913043,
          0.691304347826087,
          0.7406015037593985,
          0.7831858407079646,
          1.7268041237113405,
          0.375,
          0.811965811965812,
          0.2876712328767123,
          0.2227272727272727,
          0.4530386740331492,
          0.8927613941018767,
          3.311111111111111,
          3.736196319018405,
          2.048872180451128,
          1.755,
          1.818840579710145,
          3.3607142857142858,
          0.5692307692307692,
          1.062992125984252,
          0.6907216494845361,
          0.7251461988304093,
          0.7797619047619048,
          1.2145110410094635,
          0.4961240310077519,
          0.6210526315789474,
          0.0534351145038167,
          0.7847222222222222,
          0.188235294117647,
          0.8403990024937655,
          0.5095541401273885,
          0.6515151515151515,
          0.5056179775280899,
          0.3388429752066115,
          0.3351063829787234,
          0.7286063569682152
         ],
         "y0": " ",
         "yaxis": "y"
        }
       ],
       "layout": {
        "boxmode": "group",
        "legend": {
         "title": {
          "text": "genotype"
         },
         "tracegroupgap": 0
        },
        "template": {
         "data": {
          "bar": [
           {
            "error_x": {
             "color": "#2a3f5f"
            },
            "error_y": {
             "color": "#2a3f5f"
            },
            "marker": {
             "line": {
              "color": "#E5ECF6",
              "width": 0.5
             },
             "pattern": {
              "fillmode": "overlay",
              "size": 10,
              "solidity": 0.2
             }
            },
            "type": "bar"
           }
          ],
          "barpolar": [
           {
            "marker": {
             "line": {
              "color": "#E5ECF6",
              "width": 0.5
             },
             "pattern": {
              "fillmode": "overlay",
              "size": 10,
              "solidity": 0.2
             }
            },
            "type": "barpolar"
           }
          ],
          "carpet": [
           {
            "aaxis": {
             "endlinecolor": "#2a3f5f",
             "gridcolor": "white",
             "linecolor": "white",
             "minorgridcolor": "white",
             "startlinecolor": "#2a3f5f"
            },
            "baxis": {
             "endlinecolor": "#2a3f5f",
             "gridcolor": "white",
             "linecolor": "white",
             "minorgridcolor": "white",
             "startlinecolor": "#2a3f5f"
            },
            "type": "carpet"
           }
          ],
          "choropleth": [
           {
            "colorbar": {
             "outlinewidth": 0,
             "ticks": ""
            },
            "type": "choropleth"
           }
          ],
          "contour": [
           {
            "colorbar": {
             "outlinewidth": 0,
             "ticks": ""
            },
            "colorscale": [
             [
              0,
              "#0d0887"
             ],
             [
              0.1111111111111111,
              "#46039f"
             ],
             [
              0.2222222222222222,
              "#7201a8"
             ],
             [
              0.3333333333333333,
              "#9c179e"
             ],
             [
              0.4444444444444444,
              "#bd3786"
             ],
             [
              0.5555555555555556,
              "#d8576b"
             ],
             [
              0.6666666666666666,
              "#ed7953"
             ],
             [
              0.7777777777777778,
              "#fb9f3a"
             ],
             [
              0.8888888888888888,
              "#fdca26"
             ],
             [
              1,
              "#f0f921"
             ]
            ],
            "type": "contour"
           }
          ],
          "contourcarpet": [
           {
            "colorbar": {
             "outlinewidth": 0,
             "ticks": ""
            },
            "type": "contourcarpet"
           }
          ],
          "heatmap": [
           {
            "colorbar": {
             "outlinewidth": 0,
             "ticks": ""
            },
            "colorscale": [
             [
              0,
              "#0d0887"
             ],
             [
              0.1111111111111111,
              "#46039f"
             ],
             [
              0.2222222222222222,
              "#7201a8"
             ],
             [
              0.3333333333333333,
              "#9c179e"
             ],
             [
              0.4444444444444444,
              "#bd3786"
             ],
             [
              0.5555555555555556,
              "#d8576b"
             ],
             [
              0.6666666666666666,
              "#ed7953"
             ],
             [
              0.7777777777777778,
              "#fb9f3a"
             ],
             [
              0.8888888888888888,
              "#fdca26"
             ],
             [
              1,
              "#f0f921"
             ]
            ],
            "type": "heatmap"
           }
          ],
          "heatmapgl": [
           {
            "colorbar": {
             "outlinewidth": 0,
             "ticks": ""
            },
            "colorscale": [
             [
              0,
              "#0d0887"
             ],
             [
              0.1111111111111111,
              "#46039f"
             ],
             [
              0.2222222222222222,
              "#7201a8"
             ],
             [
              0.3333333333333333,
              "#9c179e"
             ],
             [
              0.4444444444444444,
              "#bd3786"
             ],
             [
              0.5555555555555556,
              "#d8576b"
             ],
             [
              0.6666666666666666,
              "#ed7953"
             ],
             [
              0.7777777777777778,
              "#fb9f3a"
             ],
             [
              0.8888888888888888,
              "#fdca26"
             ],
             [
              1,
              "#f0f921"
             ]
            ],
            "type": "heatmapgl"
           }
          ],
          "histogram": [
           {
            "marker": {
             "pattern": {
              "fillmode": "overlay",
              "size": 10,
              "solidity": 0.2
             }
            },
            "type": "histogram"
           }
          ],
          "histogram2d": [
           {
            "colorbar": {
             "outlinewidth": 0,
             "ticks": ""
            },
            "colorscale": [
             [
              0,
              "#0d0887"
             ],
             [
              0.1111111111111111,
              "#46039f"
             ],
             [
              0.2222222222222222,
              "#7201a8"
             ],
             [
              0.3333333333333333,
              "#9c179e"
             ],
             [
              0.4444444444444444,
              "#bd3786"
             ],
             [
              0.5555555555555556,
              "#d8576b"
             ],
             [
              0.6666666666666666,
              "#ed7953"
             ],
             [
              0.7777777777777778,
              "#fb9f3a"
             ],
             [
              0.8888888888888888,
              "#fdca26"
             ],
             [
              1,
              "#f0f921"
             ]
            ],
            "type": "histogram2d"
           }
          ],
          "histogram2dcontour": [
           {
            "colorbar": {
             "outlinewidth": 0,
             "ticks": ""
            },
            "colorscale": [
             [
              0,
              "#0d0887"
             ],
             [
              0.1111111111111111,
              "#46039f"
             ],
             [
              0.2222222222222222,
              "#7201a8"
             ],
             [
              0.3333333333333333,
              "#9c179e"
             ],
             [
              0.4444444444444444,
              "#bd3786"
             ],
             [
              0.5555555555555556,
              "#d8576b"
             ],
             [
              0.6666666666666666,
              "#ed7953"
             ],
             [
              0.7777777777777778,
              "#fb9f3a"
             ],
             [
              0.8888888888888888,
              "#fdca26"
             ],
             [
              1,
              "#f0f921"
             ]
            ],
            "type": "histogram2dcontour"
           }
          ],
          "mesh3d": [
           {
            "colorbar": {
             "outlinewidth": 0,
             "ticks": ""
            },
            "type": "mesh3d"
           }
          ],
          "parcoords": [
           {
            "line": {
             "colorbar": {
              "outlinewidth": 0,
              "ticks": ""
             }
            },
            "type": "parcoords"
           }
          ],
          "pie": [
           {
            "automargin": true,
            "type": "pie"
           }
          ],
          "scatter": [
           {
            "fillpattern": {
             "fillmode": "overlay",
             "size": 10,
             "solidity": 0.2
            },
            "type": "scatter"
           }
          ],
          "scatter3d": [
           {
            "line": {
             "colorbar": {
              "outlinewidth": 0,
              "ticks": ""
             }
            },
            "marker": {
             "colorbar": {
              "outlinewidth": 0,
              "ticks": ""
             }
            },
            "type": "scatter3d"
           }
          ],
          "scattercarpet": [
           {
            "marker": {
             "colorbar": {
              "outlinewidth": 0,
              "ticks": ""
             }
            },
            "type": "scattercarpet"
           }
          ],
          "scattergeo": [
           {
            "marker": {
             "colorbar": {
              "outlinewidth": 0,
              "ticks": ""
             }
            },
            "type": "scattergeo"
           }
          ],
          "scattergl": [
           {
            "marker": {
             "colorbar": {
              "outlinewidth": 0,
              "ticks": ""
             }
            },
            "type": "scattergl"
           }
          ],
          "scattermapbox": [
           {
            "marker": {
             "colorbar": {
              "outlinewidth": 0,
              "ticks": ""
             }
            },
            "type": "scattermapbox"
           }
          ],
          "scatterpolar": [
           {
            "marker": {
             "colorbar": {
              "outlinewidth": 0,
              "ticks": ""
             }
            },
            "type": "scatterpolar"
           }
          ],
          "scatterpolargl": [
           {
            "marker": {
             "colorbar": {
              "outlinewidth": 0,
              "ticks": ""
             }
            },
            "type": "scatterpolargl"
           }
          ],
          "scatterternary": [
           {
            "marker": {
             "colorbar": {
              "outlinewidth": 0,
              "ticks": ""
             }
            },
            "type": "scatterternary"
           }
          ],
          "surface": [
           {
            "colorbar": {
             "outlinewidth": 0,
             "ticks": ""
            },
            "colorscale": [
             [
              0,
              "#0d0887"
             ],
             [
              0.1111111111111111,
              "#46039f"
             ],
             [
              0.2222222222222222,
              "#7201a8"
             ],
             [
              0.3333333333333333,
              "#9c179e"
             ],
             [
              0.4444444444444444,
              "#bd3786"
             ],
             [
              0.5555555555555556,
              "#d8576b"
             ],
             [
              0.6666666666666666,
              "#ed7953"
             ],
             [
              0.7777777777777778,
              "#fb9f3a"
             ],
             [
              0.8888888888888888,
              "#fdca26"
             ],
             [
              1,
              "#f0f921"
             ]
            ],
            "type": "surface"
           }
          ],
          "table": [
           {
            "cells": {
             "fill": {
              "color": "#EBF0F8"
             },
             "line": {
              "color": "white"
             }
            },
            "header": {
             "fill": {
              "color": "#C8D4E3"
             },
             "line": {
              "color": "white"
             }
            },
            "type": "table"
           }
          ]
         },
         "layout": {
          "annotationdefaults": {
           "arrowcolor": "#2a3f5f",
           "arrowhead": 0,
           "arrowwidth": 1
          },
          "autotypenumbers": "strict",
          "coloraxis": {
           "colorbar": {
            "outlinewidth": 0,
            "ticks": ""
           }
          },
          "colorscale": {
           "diverging": [
            [
             0,
             "#8e0152"
            ],
            [
             0.1,
             "#c51b7d"
            ],
            [
             0.2,
             "#de77ae"
            ],
            [
             0.3,
             "#f1b6da"
            ],
            [
             0.4,
             "#fde0ef"
            ],
            [
             0.5,
             "#f7f7f7"
            ],
            [
             0.6,
             "#e6f5d0"
            ],
            [
             0.7,
             "#b8e186"
            ],
            [
             0.8,
             "#7fbc41"
            ],
            [
             0.9,
             "#4d9221"
            ],
            [
             1,
             "#276419"
            ]
           ],
           "sequential": [
            [
             0,
             "#0d0887"
            ],
            [
             0.1111111111111111,
             "#46039f"
            ],
            [
             0.2222222222222222,
             "#7201a8"
            ],
            [
             0.3333333333333333,
             "#9c179e"
            ],
            [
             0.4444444444444444,
             "#bd3786"
            ],
            [
             0.5555555555555556,
             "#d8576b"
            ],
            [
             0.6666666666666666,
             "#ed7953"
            ],
            [
             0.7777777777777778,
             "#fb9f3a"
            ],
            [
             0.8888888888888888,
             "#fdca26"
            ],
            [
             1,
             "#f0f921"
            ]
           ],
           "sequentialminus": [
            [
             0,
             "#0d0887"
            ],
            [
             0.1111111111111111,
             "#46039f"
            ],
            [
             0.2222222222222222,
             "#7201a8"
            ],
            [
             0.3333333333333333,
             "#9c179e"
            ],
            [
             0.4444444444444444,
             "#bd3786"
            ],
            [
             0.5555555555555556,
             "#d8576b"
            ],
            [
             0.6666666666666666,
             "#ed7953"
            ],
            [
             0.7777777777777778,
             "#fb9f3a"
            ],
            [
             0.8888888888888888,
             "#fdca26"
            ],
            [
             1,
             "#f0f921"
            ]
           ]
          },
          "colorway": [
           "#636efa",
           "#EF553B",
           "#00cc96",
           "#ab63fa",
           "#FFA15A",
           "#19d3f3",
           "#FF6692",
           "#B6E880",
           "#FF97FF",
           "#FECB52"
          ],
          "font": {
           "color": "#2a3f5f"
          },
          "geo": {
           "bgcolor": "white",
           "lakecolor": "white",
           "landcolor": "#E5ECF6",
           "showlakes": true,
           "showland": true,
           "subunitcolor": "white"
          },
          "hoverlabel": {
           "align": "left"
          },
          "hovermode": "closest",
          "mapbox": {
           "style": "light"
          },
          "paper_bgcolor": "white",
          "plot_bgcolor": "#E5ECF6",
          "polar": {
           "angularaxis": {
            "gridcolor": "white",
            "linecolor": "white",
            "ticks": ""
           },
           "bgcolor": "#E5ECF6",
           "radialaxis": {
            "gridcolor": "white",
            "linecolor": "white",
            "ticks": ""
           }
          },
          "scene": {
           "xaxis": {
            "backgroundcolor": "#E5ECF6",
            "gridcolor": "white",
            "gridwidth": 2,
            "linecolor": "white",
            "showbackground": true,
            "ticks": "",
            "zerolinecolor": "white"
           },
           "yaxis": {
            "backgroundcolor": "#E5ECF6",
            "gridcolor": "white",
            "gridwidth": 2,
            "linecolor": "white",
            "showbackground": true,
            "ticks": "",
            "zerolinecolor": "white"
           },
           "zaxis": {
            "backgroundcolor": "#E5ECF6",
            "gridcolor": "white",
            "gridwidth": 2,
            "linecolor": "white",
            "showbackground": true,
            "ticks": "",
            "zerolinecolor": "white"
           }
          },
          "shapedefaults": {
           "line": {
            "color": "#2a3f5f"
           }
          },
          "ternary": {
           "aaxis": {
            "gridcolor": "white",
            "linecolor": "white",
            "ticks": ""
           },
           "baxis": {
            "gridcolor": "white",
            "linecolor": "white",
            "ticks": ""
           },
           "bgcolor": "#E5ECF6",
           "caxis": {
            "gridcolor": "white",
            "linecolor": "white",
            "ticks": ""
           }
          },
          "title": {
           "x": 0.05
          },
          "xaxis": {
           "automargin": true,
           "gridcolor": "white",
           "linecolor": "white",
           "ticks": "",
           "title": {
            "standoff": 15
           },
           "zerolinecolor": "white",
           "zerolinewidth": 2
          },
          "yaxis": {
           "automargin": true,
           "gridcolor": "white",
           "linecolor": "white",
           "ticks": "",
           "title": {
            "standoff": 15
           },
           "zerolinecolor": "white",
           "zerolinewidth": 2
          }
         }
        },
        "title": {
         "text": "DNA Damage in All Nuclei by Tissue Location and Genotype (sex-aggregated) - Auto stain QC - cellpdia30_sigma1_dilrad4_dnad_obj_seg_v1_gliaero6_gliathr20_dnadero2"
        },
        "xaxis": {
         "anchor": "y",
         "domain": [
          0,
          1
         ],
         "title": {
          "text": "tissue_location"
         }
        },
        "yaxis": {
         "anchor": "x",
         "domain": [
          0,
          1
         ],
         "title": {
          "text": "avg_dna_damage_foci/all_nuclei"
         }
        }
       }
      }
     },
     "metadata": {},
     "output_type": "display_data"
    }
   ],
   "source": [
    "# Create the boxplot\n",
    "fig = px.box(auto_filtered_df, x='tissue_location', y='avg_dna_damage_foci/all_nuclei',\n",
    "             color='genotype', # Different genotypes will be shown in different colors\n",
    "             title=f'DNA Damage in All Nuclei by Tissue Location and Genotype (sex-aggregated) - Auto stain QC - {title}')\n",
    "\n",
    "# Show the plot\n",
    "fig.show()"
   ]
  },
  {
   "cell_type": "code",
   "execution_count": 44,
   "metadata": {},
   "outputs": [
    {
     "data": {
      "application/vnd.plotly.v1+json": {
       "config": {
        "plotlyServerURL": "https://plot.ly"
       },
       "data": [
        {
         "alignmentgroup": "True",
         "hovertemplate": "genotype=APP/PS1 x Neil3 KO<br>tissue_location=%{x}<br>avg_dna_damage_foci/all_nuclei_damage_+=%{y}<extra></extra>",
         "legendgroup": "APP/PS1 x Neil3 KO",
         "marker": {
          "color": "#636efa"
         },
         "name": "APP/PS1 x Neil3 KO",
         "notched": false,
         "offsetgroup": "APP/PS1 x Neil3 KO",
         "orientation": "v",
         "showlegend": true,
         "type": "box",
         "x": [
          "CA1",
          "CA3",
          "CTX1",
          "CTX2",
          "CTX3",
          "DG",
          "CA1",
          "CA3",
          "CTX1",
          "CTX2",
          "CTX3",
          "DG",
          "CA1",
          "CA3",
          "CTX1",
          "CTX2",
          "CTX3",
          "DG",
          "CA1",
          "CA3",
          "CTX1",
          "CTX2",
          "CTX3",
          "DG",
          "CA1",
          "CA3",
          "CTX1",
          "CTX2",
          "CTX3",
          "DG",
          "DG",
          "CA1",
          "CA3",
          "CTX1",
          "CTX2",
          "CTX3",
          "DG",
          "CA1",
          "CA3",
          "CTX1",
          "CTX2",
          "CTX3",
          "DG",
          "CA1",
          "CA3",
          "CTX1",
          "CTX2",
          "CTX3",
          "DG",
          "CA1",
          "CA3",
          "CTX1",
          "CTX2",
          "CTX3",
          "DG",
          "CA1",
          "CA3",
          "CTX1",
          "CTX2",
          "CTX3",
          "DG",
          "CA1",
          "CA3",
          "CTX1",
          "CTX2",
          "CTX3",
          "DG",
          "CA1",
          "CA3",
          "CTX1",
          "CTX2",
          "CTX3",
          "DG",
          "CA1",
          "CA3",
          "CTX1",
          "CTX2",
          "CTX3",
          "DG"
         ],
         "x0": " ",
         "xaxis": "x",
         "y": [
          1.3037974683544304,
          2.126760563380281,
          1.2289156626506024,
          1.6037735849056605,
          1.3611111111111112,
          1.7682119205298013,
          1.3333333333333333,
          1.7833333333333334,
          1.376237623762376,
          1.3410852713178294,
          2.019230769230769,
          1.4793650793650794,
          1.2545454545454546,
          1.3461538461538465,
          1.44,
          1.9393939393939397,
          1.8928571428571428,
          2.686153846153846,
          1.2921348314606742,
          1.4901960784313726,
          1.462962962962963,
          1.6934306569343065,
          1.3157894736842106,
          1.4363636363636365,
          1.3333333333333333,
          1.462809917355372,
          1.2295081967213115,
          1.9770992366412212,
          1.5172413793103448,
          1.8706896551724137,
          1.2884615384615383,
          1.1041666666666667,
          1.3333333333333333,
          1.3376623376623376,
          1.240506329113924,
          1.2903225806451613,
          1.5142857142857142,
          1.1898734177215189,
          1.351351351351351,
          1,
          1.1304347826086956,
          1.1904761904761905,
          1.413919413919414,
          2.691666666666667,
          2.4423076923076925,
          1.4352941176470588,
          1.2318840579710144,
          1.3676470588235294,
          2.563025210084034,
          1.2173913043478262,
          1.3409090909090908,
          1,
          1.1025641025641026,
          1.4245283018867925,
          1.1513157894736843,
          1.1304347826086956,
          1.5,
          1.44,
          1.2253521126760565,
          1.3421052631578947,
          1.2057142857142855,
          3.7383177570093458,
          5.458015267175573,
          1.3611111111111112,
          1.3013698630136987,
          1.15625,
          2.793103448275862,
          1.2153846153846153,
          1.4776119402985075,
          1.3174603174603174,
          1.4678899082568808,
          1.313253012048193,
          1.2780748663101604,
          1.2413793103448276,
          1.25,
          1.2169811320754718,
          1.2040816326530612,
          1.2407407407407407,
          1.360323886639676
         ],
         "y0": " ",
         "yaxis": "y"
        },
        {
         "alignmentgroup": "True",
         "hovertemplate": "genotype=APP/PS1<br>tissue_location=%{x}<br>avg_dna_damage_foci/all_nuclei_damage_+=%{y}<extra></extra>",
         "legendgroup": "APP/PS1",
         "marker": {
          "color": "#EF553B"
         },
         "name": "APP/PS1",
         "notched": false,
         "offsetgroup": "APP/PS1",
         "orientation": "v",
         "showlegend": true,
         "type": "box",
         "x": [
          "CA1",
          "CA3",
          "CTX1",
          "CTX2",
          "CTX3",
          "DG",
          "CA1",
          "CA3",
          "CTX1",
          "CTX2",
          "CTX3",
          "DG",
          "CA1",
          "CA3",
          "CTX1",
          "CTX2",
          "CTX3",
          "DG",
          "CA1",
          "CA3",
          "CTX1",
          "CTX2",
          "CTX3",
          "DG",
          "DG",
          "CA1",
          "CA3",
          "CTX1",
          "CTX2",
          "CTX3",
          "DG",
          "CA1",
          "CA3",
          "CTX1",
          "CTX2",
          "CTX3",
          "DG",
          "CA1",
          "CA3",
          "CTX1",
          "CTX2",
          "CTX3",
          "DG",
          "CA1",
          "CA3",
          "CTX1",
          "CTX2",
          "CTX3",
          "DG",
          "CA1",
          "CA3",
          "CTX1",
          "CTX2",
          "CTX3",
          "DG",
          "CA1",
          "CA3",
          "CTX1",
          "CTX2",
          "CTX3",
          "DG",
          "CA1",
          "CA3",
          "CTX1",
          "CTX2",
          "CTX3",
          "DG",
          "CA1",
          "CA3",
          "CTX1",
          "CTX2",
          "CTX3",
          "DG",
          "CA1",
          "CA3",
          "CTX1",
          "CTX2",
          "CTX3",
          "DG",
          "CA1",
          "CA3",
          "CTX1",
          "CTX2",
          "CTX3",
          "DG",
          "CA1",
          "CA3",
          "CTX1",
          "CTX2",
          "CTX3",
          "DG",
          "CA1",
          "CA3",
          "CTX1",
          "CTX2",
          "CTX3",
          "DG",
          "CA1",
          "CA3",
          "CTX1",
          "CTX2",
          "CTX3",
          "DG",
          "CA1",
          "CA3",
          "CTX1",
          "CTX2",
          "CTX3",
          "DG",
          "CA1",
          "CA3",
          "CTX1",
          "CTX2",
          "CTX3",
          "DG"
         ],
         "x0": " ",
         "xaxis": "x",
         "y": [
          1.9626168224299063,
          2.25,
          2.045751633986928,
          2.0145985401459856,
          1.32,
          1.9313432835820896,
          1.3043478260869563,
          1.5416666666666667,
          1.15625,
          1.125,
          1.4444444444444444,
          1.4622356495468278,
          1.6031746031746033,
          1.4375,
          1.2962962962962965,
          1.3563218390804597,
          1.793103448275862,
          1.2413793103448276,
          2.259259259259259,
          3.058139534883721,
          1.265625,
          2.7142857142857144,
          2.8541666666666665,
          2.2698412698412698,
          2.3864734299516908,
          1.3392857142857142,
          1.5714285714285714,
          1.181818181818182,
          1.3235294117647058,
          1.351851851851852,
          1.7387755102040816,
          1.5555555555555556,
          1.487394957983193,
          1.1794871794871795,
          1.2735042735042734,
          1.6144578313253013,
          1.940959409594096,
          4.151685393258427,
          5.65587044534413,
          3.763779527559055,
          3.456,
          2.425641025641025,
          4.219814241486068,
          1.5042735042735045,
          1.546875,
          2.4730538922155687,
          1.720496894409938,
          1.5923076923076922,
          1.9515570934256052,
          2.2427184466019416,
          2.95,
          2.2666666666666666,
          2.6283185840707963,
          2.115702479338843,
          2.2904290429042904,
          1.2580645161290325,
          1.607843137254902,
          1.1071428571428572,
          1.1875,
          1.0277777777777777,
          1.3533834586466165,
          1.1538461538461535,
          1.66,
          1.1578947368421053,
          1.2272727272727273,
          1.375,
          1.4227272727272726,
          1.068181818181818,
          1.7551020408163265,
          2.143835616438356,
          1.1857142857142855,
          1.779816513761468,
          2.7363344051446945,
          2.475,
          4.888888888888889,
          1.5539568345323742,
          3.2452107279693485,
          2.065934065934066,
          3.9820359281437128,
          1.5813953488372092,
          1.425,
          1.261904761904762,
          1.2547770700636942,
          1.3208955223880596,
          2.0743034055727554,
          1.148936170212766,
          1.484375,
          1.2,
          1.0425531914893618,
          1.28125,
          1.3875,
          4.110344827586207,
          4.413043478260869,
          2.6201923076923075,
          2.279220779220779,
          2.436893203883495,
          3.605363984674329,
          1.2982456140350878,
          1.588235294117647,
          1.4565217391304348,
          1.3777777777777778,
          1.4719101123595506,
          1.6041666666666667,
          1.2075471698113207,
          1.5526315789473684,
          1,
          1.3950617283950617,
          1.3333333333333333,
          1.3534136546184738,
          1.2121212121212122,
          1.5636363636363635,
          1.2328767123287672,
          1.1232876712328768,
          1.2115384615384617,
          1.4396135265700485
         ],
         "y0": " ",
         "yaxis": "y"
        }
       ],
       "layout": {
        "boxmode": "group",
        "legend": {
         "title": {
          "text": "genotype"
         },
         "tracegroupgap": 0
        },
        "template": {
         "data": {
          "bar": [
           {
            "error_x": {
             "color": "#2a3f5f"
            },
            "error_y": {
             "color": "#2a3f5f"
            },
            "marker": {
             "line": {
              "color": "#E5ECF6",
              "width": 0.5
             },
             "pattern": {
              "fillmode": "overlay",
              "size": 10,
              "solidity": 0.2
             }
            },
            "type": "bar"
           }
          ],
          "barpolar": [
           {
            "marker": {
             "line": {
              "color": "#E5ECF6",
              "width": 0.5
             },
             "pattern": {
              "fillmode": "overlay",
              "size": 10,
              "solidity": 0.2
             }
            },
            "type": "barpolar"
           }
          ],
          "carpet": [
           {
            "aaxis": {
             "endlinecolor": "#2a3f5f",
             "gridcolor": "white",
             "linecolor": "white",
             "minorgridcolor": "white",
             "startlinecolor": "#2a3f5f"
            },
            "baxis": {
             "endlinecolor": "#2a3f5f",
             "gridcolor": "white",
             "linecolor": "white",
             "minorgridcolor": "white",
             "startlinecolor": "#2a3f5f"
            },
            "type": "carpet"
           }
          ],
          "choropleth": [
           {
            "colorbar": {
             "outlinewidth": 0,
             "ticks": ""
            },
            "type": "choropleth"
           }
          ],
          "contour": [
           {
            "colorbar": {
             "outlinewidth": 0,
             "ticks": ""
            },
            "colorscale": [
             [
              0,
              "#0d0887"
             ],
             [
              0.1111111111111111,
              "#46039f"
             ],
             [
              0.2222222222222222,
              "#7201a8"
             ],
             [
              0.3333333333333333,
              "#9c179e"
             ],
             [
              0.4444444444444444,
              "#bd3786"
             ],
             [
              0.5555555555555556,
              "#d8576b"
             ],
             [
              0.6666666666666666,
              "#ed7953"
             ],
             [
              0.7777777777777778,
              "#fb9f3a"
             ],
             [
              0.8888888888888888,
              "#fdca26"
             ],
             [
              1,
              "#f0f921"
             ]
            ],
            "type": "contour"
           }
          ],
          "contourcarpet": [
           {
            "colorbar": {
             "outlinewidth": 0,
             "ticks": ""
            },
            "type": "contourcarpet"
           }
          ],
          "heatmap": [
           {
            "colorbar": {
             "outlinewidth": 0,
             "ticks": ""
            },
            "colorscale": [
             [
              0,
              "#0d0887"
             ],
             [
              0.1111111111111111,
              "#46039f"
             ],
             [
              0.2222222222222222,
              "#7201a8"
             ],
             [
              0.3333333333333333,
              "#9c179e"
             ],
             [
              0.4444444444444444,
              "#bd3786"
             ],
             [
              0.5555555555555556,
              "#d8576b"
             ],
             [
              0.6666666666666666,
              "#ed7953"
             ],
             [
              0.7777777777777778,
              "#fb9f3a"
             ],
             [
              0.8888888888888888,
              "#fdca26"
             ],
             [
              1,
              "#f0f921"
             ]
            ],
            "type": "heatmap"
           }
          ],
          "heatmapgl": [
           {
            "colorbar": {
             "outlinewidth": 0,
             "ticks": ""
            },
            "colorscale": [
             [
              0,
              "#0d0887"
             ],
             [
              0.1111111111111111,
              "#46039f"
             ],
             [
              0.2222222222222222,
              "#7201a8"
             ],
             [
              0.3333333333333333,
              "#9c179e"
             ],
             [
              0.4444444444444444,
              "#bd3786"
             ],
             [
              0.5555555555555556,
              "#d8576b"
             ],
             [
              0.6666666666666666,
              "#ed7953"
             ],
             [
              0.7777777777777778,
              "#fb9f3a"
             ],
             [
              0.8888888888888888,
              "#fdca26"
             ],
             [
              1,
              "#f0f921"
             ]
            ],
            "type": "heatmapgl"
           }
          ],
          "histogram": [
           {
            "marker": {
             "pattern": {
              "fillmode": "overlay",
              "size": 10,
              "solidity": 0.2
             }
            },
            "type": "histogram"
           }
          ],
          "histogram2d": [
           {
            "colorbar": {
             "outlinewidth": 0,
             "ticks": ""
            },
            "colorscale": [
             [
              0,
              "#0d0887"
             ],
             [
              0.1111111111111111,
              "#46039f"
             ],
             [
              0.2222222222222222,
              "#7201a8"
             ],
             [
              0.3333333333333333,
              "#9c179e"
             ],
             [
              0.4444444444444444,
              "#bd3786"
             ],
             [
              0.5555555555555556,
              "#d8576b"
             ],
             [
              0.6666666666666666,
              "#ed7953"
             ],
             [
              0.7777777777777778,
              "#fb9f3a"
             ],
             [
              0.8888888888888888,
              "#fdca26"
             ],
             [
              1,
              "#f0f921"
             ]
            ],
            "type": "histogram2d"
           }
          ],
          "histogram2dcontour": [
           {
            "colorbar": {
             "outlinewidth": 0,
             "ticks": ""
            },
            "colorscale": [
             [
              0,
              "#0d0887"
             ],
             [
              0.1111111111111111,
              "#46039f"
             ],
             [
              0.2222222222222222,
              "#7201a8"
             ],
             [
              0.3333333333333333,
              "#9c179e"
             ],
             [
              0.4444444444444444,
              "#bd3786"
             ],
             [
              0.5555555555555556,
              "#d8576b"
             ],
             [
              0.6666666666666666,
              "#ed7953"
             ],
             [
              0.7777777777777778,
              "#fb9f3a"
             ],
             [
              0.8888888888888888,
              "#fdca26"
             ],
             [
              1,
              "#f0f921"
             ]
            ],
            "type": "histogram2dcontour"
           }
          ],
          "mesh3d": [
           {
            "colorbar": {
             "outlinewidth": 0,
             "ticks": ""
            },
            "type": "mesh3d"
           }
          ],
          "parcoords": [
           {
            "line": {
             "colorbar": {
              "outlinewidth": 0,
              "ticks": ""
             }
            },
            "type": "parcoords"
           }
          ],
          "pie": [
           {
            "automargin": true,
            "type": "pie"
           }
          ],
          "scatter": [
           {
            "fillpattern": {
             "fillmode": "overlay",
             "size": 10,
             "solidity": 0.2
            },
            "type": "scatter"
           }
          ],
          "scatter3d": [
           {
            "line": {
             "colorbar": {
              "outlinewidth": 0,
              "ticks": ""
             }
            },
            "marker": {
             "colorbar": {
              "outlinewidth": 0,
              "ticks": ""
             }
            },
            "type": "scatter3d"
           }
          ],
          "scattercarpet": [
           {
            "marker": {
             "colorbar": {
              "outlinewidth": 0,
              "ticks": ""
             }
            },
            "type": "scattercarpet"
           }
          ],
          "scattergeo": [
           {
            "marker": {
             "colorbar": {
              "outlinewidth": 0,
              "ticks": ""
             }
            },
            "type": "scattergeo"
           }
          ],
          "scattergl": [
           {
            "marker": {
             "colorbar": {
              "outlinewidth": 0,
              "ticks": ""
             }
            },
            "type": "scattergl"
           }
          ],
          "scattermapbox": [
           {
            "marker": {
             "colorbar": {
              "outlinewidth": 0,
              "ticks": ""
             }
            },
            "type": "scattermapbox"
           }
          ],
          "scatterpolar": [
           {
            "marker": {
             "colorbar": {
              "outlinewidth": 0,
              "ticks": ""
             }
            },
            "type": "scatterpolar"
           }
          ],
          "scatterpolargl": [
           {
            "marker": {
             "colorbar": {
              "outlinewidth": 0,
              "ticks": ""
             }
            },
            "type": "scatterpolargl"
           }
          ],
          "scatterternary": [
           {
            "marker": {
             "colorbar": {
              "outlinewidth": 0,
              "ticks": ""
             }
            },
            "type": "scatterternary"
           }
          ],
          "surface": [
           {
            "colorbar": {
             "outlinewidth": 0,
             "ticks": ""
            },
            "colorscale": [
             [
              0,
              "#0d0887"
             ],
             [
              0.1111111111111111,
              "#46039f"
             ],
             [
              0.2222222222222222,
              "#7201a8"
             ],
             [
              0.3333333333333333,
              "#9c179e"
             ],
             [
              0.4444444444444444,
              "#bd3786"
             ],
             [
              0.5555555555555556,
              "#d8576b"
             ],
             [
              0.6666666666666666,
              "#ed7953"
             ],
             [
              0.7777777777777778,
              "#fb9f3a"
             ],
             [
              0.8888888888888888,
              "#fdca26"
             ],
             [
              1,
              "#f0f921"
             ]
            ],
            "type": "surface"
           }
          ],
          "table": [
           {
            "cells": {
             "fill": {
              "color": "#EBF0F8"
             },
             "line": {
              "color": "white"
             }
            },
            "header": {
             "fill": {
              "color": "#C8D4E3"
             },
             "line": {
              "color": "white"
             }
            },
            "type": "table"
           }
          ]
         },
         "layout": {
          "annotationdefaults": {
           "arrowcolor": "#2a3f5f",
           "arrowhead": 0,
           "arrowwidth": 1
          },
          "autotypenumbers": "strict",
          "coloraxis": {
           "colorbar": {
            "outlinewidth": 0,
            "ticks": ""
           }
          },
          "colorscale": {
           "diverging": [
            [
             0,
             "#8e0152"
            ],
            [
             0.1,
             "#c51b7d"
            ],
            [
             0.2,
             "#de77ae"
            ],
            [
             0.3,
             "#f1b6da"
            ],
            [
             0.4,
             "#fde0ef"
            ],
            [
             0.5,
             "#f7f7f7"
            ],
            [
             0.6,
             "#e6f5d0"
            ],
            [
             0.7,
             "#b8e186"
            ],
            [
             0.8,
             "#7fbc41"
            ],
            [
             0.9,
             "#4d9221"
            ],
            [
             1,
             "#276419"
            ]
           ],
           "sequential": [
            [
             0,
             "#0d0887"
            ],
            [
             0.1111111111111111,
             "#46039f"
            ],
            [
             0.2222222222222222,
             "#7201a8"
            ],
            [
             0.3333333333333333,
             "#9c179e"
            ],
            [
             0.4444444444444444,
             "#bd3786"
            ],
            [
             0.5555555555555556,
             "#d8576b"
            ],
            [
             0.6666666666666666,
             "#ed7953"
            ],
            [
             0.7777777777777778,
             "#fb9f3a"
            ],
            [
             0.8888888888888888,
             "#fdca26"
            ],
            [
             1,
             "#f0f921"
            ]
           ],
           "sequentialminus": [
            [
             0,
             "#0d0887"
            ],
            [
             0.1111111111111111,
             "#46039f"
            ],
            [
             0.2222222222222222,
             "#7201a8"
            ],
            [
             0.3333333333333333,
             "#9c179e"
            ],
            [
             0.4444444444444444,
             "#bd3786"
            ],
            [
             0.5555555555555556,
             "#d8576b"
            ],
            [
             0.6666666666666666,
             "#ed7953"
            ],
            [
             0.7777777777777778,
             "#fb9f3a"
            ],
            [
             0.8888888888888888,
             "#fdca26"
            ],
            [
             1,
             "#f0f921"
            ]
           ]
          },
          "colorway": [
           "#636efa",
           "#EF553B",
           "#00cc96",
           "#ab63fa",
           "#FFA15A",
           "#19d3f3",
           "#FF6692",
           "#B6E880",
           "#FF97FF",
           "#FECB52"
          ],
          "font": {
           "color": "#2a3f5f"
          },
          "geo": {
           "bgcolor": "white",
           "lakecolor": "white",
           "landcolor": "#E5ECF6",
           "showlakes": true,
           "showland": true,
           "subunitcolor": "white"
          },
          "hoverlabel": {
           "align": "left"
          },
          "hovermode": "closest",
          "mapbox": {
           "style": "light"
          },
          "paper_bgcolor": "white",
          "plot_bgcolor": "#E5ECF6",
          "polar": {
           "angularaxis": {
            "gridcolor": "white",
            "linecolor": "white",
            "ticks": ""
           },
           "bgcolor": "#E5ECF6",
           "radialaxis": {
            "gridcolor": "white",
            "linecolor": "white",
            "ticks": ""
           }
          },
          "scene": {
           "xaxis": {
            "backgroundcolor": "#E5ECF6",
            "gridcolor": "white",
            "gridwidth": 2,
            "linecolor": "white",
            "showbackground": true,
            "ticks": "",
            "zerolinecolor": "white"
           },
           "yaxis": {
            "backgroundcolor": "#E5ECF6",
            "gridcolor": "white",
            "gridwidth": 2,
            "linecolor": "white",
            "showbackground": true,
            "ticks": "",
            "zerolinecolor": "white"
           },
           "zaxis": {
            "backgroundcolor": "#E5ECF6",
            "gridcolor": "white",
            "gridwidth": 2,
            "linecolor": "white",
            "showbackground": true,
            "ticks": "",
            "zerolinecolor": "white"
           }
          },
          "shapedefaults": {
           "line": {
            "color": "#2a3f5f"
           }
          },
          "ternary": {
           "aaxis": {
            "gridcolor": "white",
            "linecolor": "white",
            "ticks": ""
           },
           "baxis": {
            "gridcolor": "white",
            "linecolor": "white",
            "ticks": ""
           },
           "bgcolor": "#E5ECF6",
           "caxis": {
            "gridcolor": "white",
            "linecolor": "white",
            "ticks": ""
           }
          },
          "title": {
           "x": 0.05
          },
          "xaxis": {
           "automargin": true,
           "gridcolor": "white",
           "linecolor": "white",
           "ticks": "",
           "title": {
            "standoff": 15
           },
           "zerolinecolor": "white",
           "zerolinewidth": 2
          },
          "yaxis": {
           "automargin": true,
           "gridcolor": "white",
           "linecolor": "white",
           "ticks": "",
           "title": {
            "standoff": 15
           },
           "zerolinecolor": "white",
           "zerolinewidth": 2
          }
         }
        },
        "title": {
         "text": "DNA Damage in Damage+ Nuclei by Tissue Location and Genotype (sex-aggregated) - Auto stain QC - cellpdia30_sigma1_dilrad4_dnad_obj_seg_v1_gliaero6_gliathr20_dnadero2"
        },
        "xaxis": {
         "anchor": "y",
         "domain": [
          0,
          1
         ],
         "title": {
          "text": "tissue_location"
         }
        },
        "yaxis": {
         "anchor": "x",
         "domain": [
          0,
          1
         ],
         "title": {
          "text": "avg_dna_damage_foci/all_nuclei_damage_+"
         }
        }
       }
      }
     },
     "metadata": {},
     "output_type": "display_data"
    }
   ],
   "source": [
    "# Create the boxplot\n",
    "fig = px.box(auto_filtered_df, x='tissue_location', y='avg_dna_damage_foci/all_nuclei_damage_+',\n",
    "             color='genotype', # Different genotypes will be shown in different colors\n",
    "             title=f'DNA Damage in Damage+ Nuclei by Tissue Location and Genotype (sex-aggregated) - Auto stain QC - {title}')\n",
    "\n",
    "# Show the plot\n",
    "fig.show()"
   ]
  },
  {
   "cell_type": "markdown",
   "metadata": {},
   "source": [
    "Show failed qc dataframe"
   ]
  },
  {
   "cell_type": "code",
   "execution_count": 45,
   "metadata": {},
   "outputs": [
    {
     "name": "stdout",
     "output_type": "stream",
     "text": [
      "58 stains have not passed QC and have been discarded\n"
     ]
    },
    {
     "data": {
      "text/html": [
       "<div>\n",
       "<style scoped>\n",
       "    .dataframe tbody tr th:only-of-type {\n",
       "        vertical-align: middle;\n",
       "    }\n",
       "\n",
       "    .dataframe tbody tr th {\n",
       "        vertical-align: top;\n",
       "    }\n",
       "\n",
       "    .dataframe thead th {\n",
       "        text-align: right;\n",
       "    }\n",
       "</style>\n",
       "<table border=\"1\" class=\"dataframe\">\n",
       "  <thead>\n",
       "    <tr style=\"text-align: right;\">\n",
       "      <th></th>\n",
       "      <th>index</th>\n",
       "      <th>filename</th>\n",
       "      <th>avg_dna_damage_foci/glia_+</th>\n",
       "      <th>avg_dna_damage_foci/glia_+_damage_+</th>\n",
       "      <th>avg_dna_damage_foci/all_nuclei</th>\n",
       "      <th>avg_dna_damage_foci/all_nuclei_damage_+</th>\n",
       "      <th>nr_+_dna_damage_glia_nuclei</th>\n",
       "      <th>nr_-_dna_damage_glia_nuclei</th>\n",
       "      <th>nr_glia_+_nuclei</th>\n",
       "      <th>nr_total_nuclei</th>\n",
       "      <th>...</th>\n",
       "      <th>tissue_location</th>\n",
       "      <th>staining_id</th>\n",
       "      <th>animal_id</th>\n",
       "      <th>sex</th>\n",
       "      <th>genotype</th>\n",
       "      <th>dna_damage_stain_quality_manual</th>\n",
       "      <th>manual_qc</th>\n",
       "      <th>glia_stain_quality_auto</th>\n",
       "      <th>dna_damage_stain_quality_auto</th>\n",
       "      <th>staining_qc_passed</th>\n",
       "    </tr>\n",
       "  </thead>\n",
       "  <tbody>\n",
       "    <tr>\n",
       "      <th>0</th>\n",
       "      <td>0</td>\n",
       "      <td>DSB Iba1 16_40X_CA1</td>\n",
       "      <td>0.936508</td>\n",
       "      <td>1.923913</td>\n",
       "      <td>0.836207</td>\n",
       "      <td>1.796296</td>\n",
       "      <td>92</td>\n",
       "      <td>97</td>\n",
       "      <td>189</td>\n",
       "      <td>232</td>\n",
       "      <td>...</td>\n",
       "      <td>CA1</td>\n",
       "      <td>16</td>\n",
       "      <td>887</td>\n",
       "      <td>male</td>\n",
       "      <td>APP/PS1</td>\n",
       "      <td>poor</td>\n",
       "      <td>failed</td>\n",
       "      <td>suboptimal</td>\n",
       "      <td>optimal</td>\n",
       "      <td>False</td>\n",
       "    </tr>\n",
       "    <tr>\n",
       "      <th>1</th>\n",
       "      <td>1</td>\n",
       "      <td>DSB Iba1 16_40X_CA3</td>\n",
       "      <td>4.513514</td>\n",
       "      <td>4.717514</td>\n",
       "      <td>4.406250</td>\n",
       "      <td>4.726257</td>\n",
       "      <td>177</td>\n",
       "      <td>8</td>\n",
       "      <td>185</td>\n",
       "      <td>192</td>\n",
       "      <td>...</td>\n",
       "      <td>CA3</td>\n",
       "      <td>16</td>\n",
       "      <td>887</td>\n",
       "      <td>male</td>\n",
       "      <td>APP/PS1</td>\n",
       "      <td>poor</td>\n",
       "      <td>failed</td>\n",
       "      <td>suboptimal</td>\n",
       "      <td>optimal</td>\n",
       "      <td>False</td>\n",
       "    </tr>\n",
       "    <tr>\n",
       "      <th>2</th>\n",
       "      <td>2</td>\n",
       "      <td>DSB Iba1 16_40X_CTX1</td>\n",
       "      <td>0.642857</td>\n",
       "      <td>1.687500</td>\n",
       "      <td>0.648352</td>\n",
       "      <td>1.882979</td>\n",
       "      <td>16</td>\n",
       "      <td>26</td>\n",
       "      <td>42</td>\n",
       "      <td>272</td>\n",
       "      <td>...</td>\n",
       "      <td>CTX1</td>\n",
       "      <td>16</td>\n",
       "      <td>887</td>\n",
       "      <td>male</td>\n",
       "      <td>APP/PS1</td>\n",
       "      <td>poor</td>\n",
       "      <td>failed</td>\n",
       "      <td>optimal</td>\n",
       "      <td>optimal</td>\n",
       "      <td>False</td>\n",
       "    </tr>\n",
       "    <tr>\n",
       "      <th>3</th>\n",
       "      <td>3</td>\n",
       "      <td>DSB Iba1 16_40X_CTX2</td>\n",
       "      <td>2.240664</td>\n",
       "      <td>2.268908</td>\n",
       "      <td>2.327068</td>\n",
       "      <td>2.389961</td>\n",
       "      <td>238</td>\n",
       "      <td>3</td>\n",
       "      <td>241</td>\n",
       "      <td>266</td>\n",
       "      <td>...</td>\n",
       "      <td>CTX2</td>\n",
       "      <td>16</td>\n",
       "      <td>887</td>\n",
       "      <td>male</td>\n",
       "      <td>APP/PS1</td>\n",
       "      <td>poor</td>\n",
       "      <td>failed</td>\n",
       "      <td>suboptimal</td>\n",
       "      <td>optimal</td>\n",
       "      <td>False</td>\n",
       "    </tr>\n",
       "    <tr>\n",
       "      <th>4</th>\n",
       "      <td>4</td>\n",
       "      <td>DSB Iba1 16_40X_CTX3</td>\n",
       "      <td>2.019231</td>\n",
       "      <td>2.100000</td>\n",
       "      <td>1.738589</td>\n",
       "      <td>2.053922</td>\n",
       "      <td>100</td>\n",
       "      <td>4</td>\n",
       "      <td>104</td>\n",
       "      <td>241</td>\n",
       "      <td>...</td>\n",
       "      <td>CTX3</td>\n",
       "      <td>16</td>\n",
       "      <td>887</td>\n",
       "      <td>male</td>\n",
       "      <td>APP/PS1</td>\n",
       "      <td>poor</td>\n",
       "      <td>failed</td>\n",
       "      <td>suboptimal</td>\n",
       "      <td>optimal</td>\n",
       "      <td>False</td>\n",
       "    </tr>\n",
       "    <tr>\n",
       "      <th>5</th>\n",
       "      <td>5</td>\n",
       "      <td>DSB Iba1 16_40X_DG</td>\n",
       "      <td>0.662896</td>\n",
       "      <td>1.382075</td>\n",
       "      <td>0.653509</td>\n",
       "      <td>1.379630</td>\n",
       "      <td>212</td>\n",
       "      <td>230</td>\n",
       "      <td>438</td>\n",
       "      <td>452</td>\n",
       "      <td>...</td>\n",
       "      <td>DG</td>\n",
       "      <td>16</td>\n",
       "      <td>887</td>\n",
       "      <td>male</td>\n",
       "      <td>APP/PS1</td>\n",
       "      <td>poor</td>\n",
       "      <td>failed</td>\n",
       "      <td>suboptimal</td>\n",
       "      <td>optimal</td>\n",
       "      <td>False</td>\n",
       "    </tr>\n",
       "    <tr>\n",
       "      <th>6</th>\n",
       "      <td>6</td>\n",
       "      <td>DSB Iba1 17_40X_CA1</td>\n",
       "      <td>1.818182</td>\n",
       "      <td>2.500000</td>\n",
       "      <td>2.765306</td>\n",
       "      <td>3.985294</td>\n",
       "      <td>8</td>\n",
       "      <td>3</td>\n",
       "      <td>11</td>\n",
       "      <td>196</td>\n",
       "      <td>...</td>\n",
       "      <td>CA1</td>\n",
       "      <td>17</td>\n",
       "      <td>892</td>\n",
       "      <td>female</td>\n",
       "      <td>APP/PS1</td>\n",
       "      <td>poor</td>\n",
       "      <td>failed</td>\n",
       "      <td>optimal</td>\n",
       "      <td>optimal</td>\n",
       "      <td>False</td>\n",
       "    </tr>\n",
       "    <tr>\n",
       "      <th>7</th>\n",
       "      <td>7</td>\n",
       "      <td>DSB Iba1 17_40X_CA3</td>\n",
       "      <td>1.315789</td>\n",
       "      <td>1.923077</td>\n",
       "      <td>3.617486</td>\n",
       "      <td>4.762590</td>\n",
       "      <td>13</td>\n",
       "      <td>6</td>\n",
       "      <td>19</td>\n",
       "      <td>183</td>\n",
       "      <td>...</td>\n",
       "      <td>CA3</td>\n",
       "      <td>17</td>\n",
       "      <td>892</td>\n",
       "      <td>female</td>\n",
       "      <td>APP/PS1</td>\n",
       "      <td>poor</td>\n",
       "      <td>failed</td>\n",
       "      <td>optimal</td>\n",
       "      <td>optimal</td>\n",
       "      <td>False</td>\n",
       "    </tr>\n",
       "    <tr>\n",
       "      <th>8</th>\n",
       "      <td>8</td>\n",
       "      <td>DSB Iba1 17_40X_CTX1</td>\n",
       "      <td>2.411765</td>\n",
       "      <td>2.928571</td>\n",
       "      <td>1.276923</td>\n",
       "      <td>2.141935</td>\n",
       "      <td>14</td>\n",
       "      <td>3</td>\n",
       "      <td>17</td>\n",
       "      <td>260</td>\n",
       "      <td>...</td>\n",
       "      <td>CTX1</td>\n",
       "      <td>17</td>\n",
       "      <td>892</td>\n",
       "      <td>female</td>\n",
       "      <td>APP/PS1</td>\n",
       "      <td>poor</td>\n",
       "      <td>failed</td>\n",
       "      <td>optimal</td>\n",
       "      <td>optimal</td>\n",
       "      <td>False</td>\n",
       "    </tr>\n",
       "    <tr>\n",
       "      <th>9</th>\n",
       "      <td>9</td>\n",
       "      <td>DSB Iba1 17_40X_CTX2</td>\n",
       "      <td>2.846154</td>\n",
       "      <td>2.901961</td>\n",
       "      <td>2.552980</td>\n",
       "      <td>2.640411</td>\n",
       "      <td>51</td>\n",
       "      <td>1</td>\n",
       "      <td>52</td>\n",
       "      <td>302</td>\n",
       "      <td>...</td>\n",
       "      <td>CTX2</td>\n",
       "      <td>17</td>\n",
       "      <td>892</td>\n",
       "      <td>female</td>\n",
       "      <td>APP/PS1</td>\n",
       "      <td>poor</td>\n",
       "      <td>failed</td>\n",
       "      <td>optimal</td>\n",
       "      <td>optimal</td>\n",
       "      <td>False</td>\n",
       "    </tr>\n",
       "    <tr>\n",
       "      <th>10</th>\n",
       "      <td>10</td>\n",
       "      <td>DSB Iba1 17_40X_CTX3</td>\n",
       "      <td>2.629630</td>\n",
       "      <td>2.629630</td>\n",
       "      <td>2.894444</td>\n",
       "      <td>3.196319</td>\n",
       "      <td>27</td>\n",
       "      <td>0</td>\n",
       "      <td>27</td>\n",
       "      <td>180</td>\n",
       "      <td>...</td>\n",
       "      <td>CTX3</td>\n",
       "      <td>17</td>\n",
       "      <td>892</td>\n",
       "      <td>female</td>\n",
       "      <td>APP/PS1</td>\n",
       "      <td>poor</td>\n",
       "      <td>failed</td>\n",
       "      <td>optimal</td>\n",
       "      <td>optimal</td>\n",
       "      <td>False</td>\n",
       "    </tr>\n",
       "    <tr>\n",
       "      <th>11</th>\n",
       "      <td>11</td>\n",
       "      <td>DSB Iba1 17_40X_DG</td>\n",
       "      <td>3.127517</td>\n",
       "      <td>3.352518</td>\n",
       "      <td>2.543561</td>\n",
       "      <td>2.971239</td>\n",
       "      <td>139</td>\n",
       "      <td>10</td>\n",
       "      <td>149</td>\n",
       "      <td>525</td>\n",
       "      <td>...</td>\n",
       "      <td>DG</td>\n",
       "      <td>17</td>\n",
       "      <td>892</td>\n",
       "      <td>female</td>\n",
       "      <td>APP/PS1</td>\n",
       "      <td>poor</td>\n",
       "      <td>failed</td>\n",
       "      <td>suboptimal</td>\n",
       "      <td>optimal</td>\n",
       "      <td>False</td>\n",
       "    </tr>\n",
       "    <tr>\n",
       "      <th>12</th>\n",
       "      <td>12</td>\n",
       "      <td>DSB Iba1 18_40X_CA1</td>\n",
       "      <td>1.357143</td>\n",
       "      <td>1.357143</td>\n",
       "      <td>2.534722</td>\n",
       "      <td>2.534722</td>\n",
       "      <td>14</td>\n",
       "      <td>0</td>\n",
       "      <td>14</td>\n",
       "      <td>144</td>\n",
       "      <td>...</td>\n",
       "      <td>CA1</td>\n",
       "      <td>18</td>\n",
       "      <td>231</td>\n",
       "      <td>male</td>\n",
       "      <td>APP/PS1 x Neil3 KO</td>\n",
       "      <td>poor</td>\n",
       "      <td>failed</td>\n",
       "      <td>optimal</td>\n",
       "      <td>suboptimal</td>\n",
       "      <td>False</td>\n",
       "    </tr>\n",
       "    <tr>\n",
       "      <th>13</th>\n",
       "      <td>13</td>\n",
       "      <td>DSB Iba1 18_40X_CA3</td>\n",
       "      <td>1.916667</td>\n",
       "      <td>1.916667</td>\n",
       "      <td>4.074074</td>\n",
       "      <td>4.112150</td>\n",
       "      <td>12</td>\n",
       "      <td>0</td>\n",
       "      <td>12</td>\n",
       "      <td>108</td>\n",
       "      <td>...</td>\n",
       "      <td>CA3</td>\n",
       "      <td>18</td>\n",
       "      <td>231</td>\n",
       "      <td>male</td>\n",
       "      <td>APP/PS1 x Neil3 KO</td>\n",
       "      <td>poor</td>\n",
       "      <td>failed</td>\n",
       "      <td>optimal</td>\n",
       "      <td>optimal</td>\n",
       "      <td>False</td>\n",
       "    </tr>\n",
       "    <tr>\n",
       "      <th>14</th>\n",
       "      <td>14</td>\n",
       "      <td>DSB Iba1 18_40X_CTX1</td>\n",
       "      <td>1.842105</td>\n",
       "      <td>2.692308</td>\n",
       "      <td>1.880000</td>\n",
       "      <td>2.858108</td>\n",
       "      <td>13</td>\n",
       "      <td>6</td>\n",
       "      <td>19</td>\n",
       "      <td>225</td>\n",
       "      <td>...</td>\n",
       "      <td>CTX1</td>\n",
       "      <td>18</td>\n",
       "      <td>231</td>\n",
       "      <td>male</td>\n",
       "      <td>APP/PS1 x Neil3 KO</td>\n",
       "      <td>poor</td>\n",
       "      <td>failed</td>\n",
       "      <td>optimal</td>\n",
       "      <td>optimal</td>\n",
       "      <td>False</td>\n",
       "    </tr>\n",
       "    <tr>\n",
       "      <th>15</th>\n",
       "      <td>15</td>\n",
       "      <td>DSB Iba1 18_40X_CTX2</td>\n",
       "      <td>3.200000</td>\n",
       "      <td>3.200000</td>\n",
       "      <td>3.729412</td>\n",
       "      <td>3.865854</td>\n",
       "      <td>20</td>\n",
       "      <td>0</td>\n",
       "      <td>20</td>\n",
       "      <td>255</td>\n",
       "      <td>...</td>\n",
       "      <td>CTX2</td>\n",
       "      <td>18</td>\n",
       "      <td>231</td>\n",
       "      <td>male</td>\n",
       "      <td>APP/PS1 x Neil3 KO</td>\n",
       "      <td>poor</td>\n",
       "      <td>failed</td>\n",
       "      <td>optimal</td>\n",
       "      <td>optimal</td>\n",
       "      <td>False</td>\n",
       "    </tr>\n",
       "    <tr>\n",
       "      <th>16</th>\n",
       "      <td>16</td>\n",
       "      <td>DSB Iba1 18_40X_CTX3</td>\n",
       "      <td>3.058824</td>\n",
       "      <td>3.466667</td>\n",
       "      <td>2.578947</td>\n",
       "      <td>3.392308</td>\n",
       "      <td>15</td>\n",
       "      <td>2</td>\n",
       "      <td>17</td>\n",
       "      <td>171</td>\n",
       "      <td>...</td>\n",
       "      <td>CTX3</td>\n",
       "      <td>18</td>\n",
       "      <td>231</td>\n",
       "      <td>male</td>\n",
       "      <td>APP/PS1 x Neil3 KO</td>\n",
       "      <td>poor</td>\n",
       "      <td>failed</td>\n",
       "      <td>optimal</td>\n",
       "      <td>optimal</td>\n",
       "      <td>False</td>\n",
       "    </tr>\n",
       "    <tr>\n",
       "      <th>17</th>\n",
       "      <td>17</td>\n",
       "      <td>DSB Iba1 18_40X_DG</td>\n",
       "      <td>1.182692</td>\n",
       "      <td>1.182692</td>\n",
       "      <td>1.803419</td>\n",
       "      <td>1.803419</td>\n",
       "      <td>104</td>\n",
       "      <td>0</td>\n",
       "      <td>104</td>\n",
       "      <td>351</td>\n",
       "      <td>...</td>\n",
       "      <td>DG</td>\n",
       "      <td>18</td>\n",
       "      <td>231</td>\n",
       "      <td>male</td>\n",
       "      <td>APP/PS1 x Neil3 KO</td>\n",
       "      <td>poor</td>\n",
       "      <td>failed</td>\n",
       "      <td>suboptimal</td>\n",
       "      <td>suboptimal</td>\n",
       "      <td>False</td>\n",
       "    </tr>\n",
       "    <tr>\n",
       "      <th>18</th>\n",
       "      <td>18</td>\n",
       "      <td>DSB Iba1 19_40X_CA1</td>\n",
       "      <td>1.000000</td>\n",
       "      <td>1.000000</td>\n",
       "      <td>1.000000</td>\n",
       "      <td>1.000000</td>\n",
       "      <td>66</td>\n",
       "      <td>0</td>\n",
       "      <td>66</td>\n",
       "      <td>68</td>\n",
       "      <td>...</td>\n",
       "      <td>CA1</td>\n",
       "      <td>19</td>\n",
       "      <td>154</td>\n",
       "      <td>female</td>\n",
       "      <td>APP/PS1 x Neil3 KO</td>\n",
       "      <td>poor</td>\n",
       "      <td>failed</td>\n",
       "      <td>suboptimal</td>\n",
       "      <td>suboptimal</td>\n",
       "      <td>False</td>\n",
       "    </tr>\n",
       "    <tr>\n",
       "      <th>19</th>\n",
       "      <td>19</td>\n",
       "      <td>DSB Iba1 19_40X_CA3</td>\n",
       "      <td>1.014085</td>\n",
       "      <td>1.014085</td>\n",
       "      <td>1.013699</td>\n",
       "      <td>1.013699</td>\n",
       "      <td>71</td>\n",
       "      <td>0</td>\n",
       "      <td>71</td>\n",
       "      <td>73</td>\n",
       "      <td>...</td>\n",
       "      <td>CA3</td>\n",
       "      <td>19</td>\n",
       "      <td>154</td>\n",
       "      <td>female</td>\n",
       "      <td>APP/PS1 x Neil3 KO</td>\n",
       "      <td>poor</td>\n",
       "      <td>failed</td>\n",
       "      <td>suboptimal</td>\n",
       "      <td>suboptimal</td>\n",
       "      <td>False</td>\n",
       "    </tr>\n",
       "    <tr>\n",
       "      <th>20</th>\n",
       "      <td>20</td>\n",
       "      <td>DSB Iba1 19_40X_CTX1</td>\n",
       "      <td>1.004739</td>\n",
       "      <td>1.004739</td>\n",
       "      <td>1.004717</td>\n",
       "      <td>1.004717</td>\n",
       "      <td>211</td>\n",
       "      <td>0</td>\n",
       "      <td>211</td>\n",
       "      <td>212</td>\n",
       "      <td>...</td>\n",
       "      <td>CTX1</td>\n",
       "      <td>19</td>\n",
       "      <td>154</td>\n",
       "      <td>female</td>\n",
       "      <td>APP/PS1 x Neil3 KO</td>\n",
       "      <td>poor</td>\n",
       "      <td>failed</td>\n",
       "      <td>suboptimal</td>\n",
       "      <td>suboptimal</td>\n",
       "      <td>False</td>\n",
       "    </tr>\n",
       "    <tr>\n",
       "      <th>21</th>\n",
       "      <td>21</td>\n",
       "      <td>DSB Iba1 19_40X_CTX2</td>\n",
       "      <td>1.013889</td>\n",
       "      <td>1.013889</td>\n",
       "      <td>1.044444</td>\n",
       "      <td>1.044444</td>\n",
       "      <td>72</td>\n",
       "      <td>0</td>\n",
       "      <td>71</td>\n",
       "      <td>89</td>\n",
       "      <td>...</td>\n",
       "      <td>CTX2</td>\n",
       "      <td>19</td>\n",
       "      <td>154</td>\n",
       "      <td>female</td>\n",
       "      <td>APP/PS1 x Neil3 KO</td>\n",
       "      <td>poor</td>\n",
       "      <td>failed</td>\n",
       "      <td>suboptimal</td>\n",
       "      <td>suboptimal</td>\n",
       "      <td>False</td>\n",
       "    </tr>\n",
       "    <tr>\n",
       "      <th>22</th>\n",
       "      <td>22</td>\n",
       "      <td>DSB Iba1 19_40X_CTX3</td>\n",
       "      <td>1.000000</td>\n",
       "      <td>1.000000</td>\n",
       "      <td>1.000000</td>\n",
       "      <td>1.000000</td>\n",
       "      <td>103</td>\n",
       "      <td>0</td>\n",
       "      <td>103</td>\n",
       "      <td>124</td>\n",
       "      <td>...</td>\n",
       "      <td>CTX3</td>\n",
       "      <td>19</td>\n",
       "      <td>154</td>\n",
       "      <td>female</td>\n",
       "      <td>APP/PS1 x Neil3 KO</td>\n",
       "      <td>poor</td>\n",
       "      <td>failed</td>\n",
       "      <td>suboptimal</td>\n",
       "      <td>suboptimal</td>\n",
       "      <td>False</td>\n",
       "    </tr>\n",
       "    <tr>\n",
       "      <th>23</th>\n",
       "      <td>23</td>\n",
       "      <td>DSB Iba1 19_40X_DG</td>\n",
       "      <td>1.000000</td>\n",
       "      <td>1.000000</td>\n",
       "      <td>1.000000</td>\n",
       "      <td>1.000000</td>\n",
       "      <td>127</td>\n",
       "      <td>0</td>\n",
       "      <td>127</td>\n",
       "      <td>128</td>\n",
       "      <td>...</td>\n",
       "      <td>DG</td>\n",
       "      <td>19</td>\n",
       "      <td>154</td>\n",
       "      <td>female</td>\n",
       "      <td>APP/PS1 x Neil3 KO</td>\n",
       "      <td>poor</td>\n",
       "      <td>failed</td>\n",
       "      <td>suboptimal</td>\n",
       "      <td>suboptimal</td>\n",
       "      <td>False</td>\n",
       "    </tr>\n",
       "    <tr>\n",
       "      <th>60</th>\n",
       "      <td>60</td>\n",
       "      <td>DSB Iba1 26_40X_CA1</td>\n",
       "      <td>2.571429</td>\n",
       "      <td>3.000000</td>\n",
       "      <td>3.457143</td>\n",
       "      <td>3.934959</td>\n",
       "      <td>6</td>\n",
       "      <td>1</td>\n",
       "      <td>7</td>\n",
       "      <td>140</td>\n",
       "      <td>...</td>\n",
       "      <td>CA1</td>\n",
       "      <td>26</td>\n",
       "      <td>231</td>\n",
       "      <td>male</td>\n",
       "      <td>APP/PS1 x Neil3 KO</td>\n",
       "      <td>poor</td>\n",
       "      <td>failed</td>\n",
       "      <td>optimal</td>\n",
       "      <td>optimal</td>\n",
       "      <td>False</td>\n",
       "    </tr>\n",
       "    <tr>\n",
       "      <th>61</th>\n",
       "      <td>61</td>\n",
       "      <td>DSB Iba1 26_40X_CA3</td>\n",
       "      <td>3.600000</td>\n",
       "      <td>3.600000</td>\n",
       "      <td>3.796875</td>\n",
       "      <td>4.189655</td>\n",
       "      <td>5</td>\n",
       "      <td>0</td>\n",
       "      <td>5</td>\n",
       "      <td>64</td>\n",
       "      <td>...</td>\n",
       "      <td>CA3</td>\n",
       "      <td>26</td>\n",
       "      <td>231</td>\n",
       "      <td>male</td>\n",
       "      <td>APP/PS1 x Neil3 KO</td>\n",
       "      <td>poor</td>\n",
       "      <td>failed</td>\n",
       "      <td>optimal</td>\n",
       "      <td>optimal</td>\n",
       "      <td>False</td>\n",
       "    </tr>\n",
       "    <tr>\n",
       "      <th>62</th>\n",
       "      <td>62</td>\n",
       "      <td>DSB Iba1 26_40X_CTX1</td>\n",
       "      <td>1.500000</td>\n",
       "      <td>1.500000</td>\n",
       "      <td>1.955357</td>\n",
       "      <td>1.990909</td>\n",
       "      <td>8</td>\n",
       "      <td>0</td>\n",
       "      <td>8</td>\n",
       "      <td>112</td>\n",
       "      <td>...</td>\n",
       "      <td>CTX1</td>\n",
       "      <td>26</td>\n",
       "      <td>231</td>\n",
       "      <td>male</td>\n",
       "      <td>APP/PS1 x Neil3 KO</td>\n",
       "      <td>poor</td>\n",
       "      <td>failed</td>\n",
       "      <td>optimal</td>\n",
       "      <td>suboptimal</td>\n",
       "      <td>False</td>\n",
       "    </tr>\n",
       "    <tr>\n",
       "      <th>63</th>\n",
       "      <td>63</td>\n",
       "      <td>DSB Iba1 26_40X_CTX2</td>\n",
       "      <td>1.666667</td>\n",
       "      <td>1.666667</td>\n",
       "      <td>2.411765</td>\n",
       "      <td>2.432203</td>\n",
       "      <td>15</td>\n",
       "      <td>0</td>\n",
       "      <td>15</td>\n",
       "      <td>119</td>\n",
       "      <td>...</td>\n",
       "      <td>CTX2</td>\n",
       "      <td>26</td>\n",
       "      <td>231</td>\n",
       "      <td>male</td>\n",
       "      <td>APP/PS1 x Neil3 KO</td>\n",
       "      <td>poor</td>\n",
       "      <td>failed</td>\n",
       "      <td>optimal</td>\n",
       "      <td>suboptimal</td>\n",
       "      <td>False</td>\n",
       "    </tr>\n",
       "    <tr>\n",
       "      <th>64</th>\n",
       "      <td>64</td>\n",
       "      <td>DSB Iba1 26_40X_CTX3</td>\n",
       "      <td>1.818182</td>\n",
       "      <td>1.818182</td>\n",
       "      <td>1.594059</td>\n",
       "      <td>1.594059</td>\n",
       "      <td>11</td>\n",
       "      <td>0</td>\n",
       "      <td>11</td>\n",
       "      <td>101</td>\n",
       "      <td>...</td>\n",
       "      <td>CTX3</td>\n",
       "      <td>26</td>\n",
       "      <td>231</td>\n",
       "      <td>male</td>\n",
       "      <td>APP/PS1 x Neil3 KO</td>\n",
       "      <td>poor</td>\n",
       "      <td>failed</td>\n",
       "      <td>optimal</td>\n",
       "      <td>suboptimal</td>\n",
       "      <td>False</td>\n",
       "    </tr>\n",
       "    <tr>\n",
       "      <th>65</th>\n",
       "      <td>65</td>\n",
       "      <td>DSB Iba1 26_40X_DG</td>\n",
       "      <td>4.166667</td>\n",
       "      <td>4.166667</td>\n",
       "      <td>3.549575</td>\n",
       "      <td>3.808511</td>\n",
       "      <td>12</td>\n",
       "      <td>0</td>\n",
       "      <td>12</td>\n",
       "      <td>353</td>\n",
       "      <td>...</td>\n",
       "      <td>DG</td>\n",
       "      <td>26</td>\n",
       "      <td>231</td>\n",
       "      <td>male</td>\n",
       "      <td>APP/PS1 x Neil3 KO</td>\n",
       "      <td>poor</td>\n",
       "      <td>failed</td>\n",
       "      <td>optimal</td>\n",
       "      <td>optimal</td>\n",
       "      <td>False</td>\n",
       "    </tr>\n",
       "    <tr>\n",
       "      <th>91</th>\n",
       "      <td>91</td>\n",
       "      <td>DSB Iba1 32_40X_CA1</td>\n",
       "      <td>4.277778</td>\n",
       "      <td>4.277778</td>\n",
       "      <td>4.491892</td>\n",
       "      <td>4.591160</td>\n",
       "      <td>18</td>\n",
       "      <td>0</td>\n",
       "      <td>18</td>\n",
       "      <td>185</td>\n",
       "      <td>...</td>\n",
       "      <td>CA1</td>\n",
       "      <td>32</td>\n",
       "      <td>253</td>\n",
       "      <td>female</td>\n",
       "      <td>APP/PS1 x Neil3 KO</td>\n",
       "      <td>poor</td>\n",
       "      <td>failed</td>\n",
       "      <td>optimal</td>\n",
       "      <td>optimal</td>\n",
       "      <td>False</td>\n",
       "    </tr>\n",
       "    <tr>\n",
       "      <th>92</th>\n",
       "      <td>92</td>\n",
       "      <td>DSB Iba1 32_40X_CA3</td>\n",
       "      <td>1.705882</td>\n",
       "      <td>1.812500</td>\n",
       "      <td>3.903704</td>\n",
       "      <td>4.022901</td>\n",
       "      <td>16</td>\n",
       "      <td>1</td>\n",
       "      <td>17</td>\n",
       "      <td>135</td>\n",
       "      <td>...</td>\n",
       "      <td>CA3</td>\n",
       "      <td>32</td>\n",
       "      <td>253</td>\n",
       "      <td>female</td>\n",
       "      <td>APP/PS1 x Neil3 KO</td>\n",
       "      <td>poor</td>\n",
       "      <td>failed</td>\n",
       "      <td>optimal</td>\n",
       "      <td>optimal</td>\n",
       "      <td>False</td>\n",
       "    </tr>\n",
       "    <tr>\n",
       "      <th>93</th>\n",
       "      <td>93</td>\n",
       "      <td>DSB Iba1 32_40X_CTX1</td>\n",
       "      <td>2.387097</td>\n",
       "      <td>2.466667</td>\n",
       "      <td>4.686207</td>\n",
       "      <td>4.802120</td>\n",
       "      <td>30</td>\n",
       "      <td>1</td>\n",
       "      <td>31</td>\n",
       "      <td>290</td>\n",
       "      <td>...</td>\n",
       "      <td>CTX1</td>\n",
       "      <td>32</td>\n",
       "      <td>253</td>\n",
       "      <td>female</td>\n",
       "      <td>APP/PS1 x Neil3 KO</td>\n",
       "      <td>poor</td>\n",
       "      <td>failed</td>\n",
       "      <td>optimal</td>\n",
       "      <td>optimal</td>\n",
       "      <td>False</td>\n",
       "    </tr>\n",
       "    <tr>\n",
       "      <th>94</th>\n",
       "      <td>94</td>\n",
       "      <td>DSB Iba1 32_40X_CTX2</td>\n",
       "      <td>1.657895</td>\n",
       "      <td>1.702703</td>\n",
       "      <td>2.533613</td>\n",
       "      <td>2.555085</td>\n",
       "      <td>37</td>\n",
       "      <td>1</td>\n",
       "      <td>38</td>\n",
       "      <td>238</td>\n",
       "      <td>...</td>\n",
       "      <td>CTX2</td>\n",
       "      <td>32</td>\n",
       "      <td>253</td>\n",
       "      <td>female</td>\n",
       "      <td>APP/PS1 x Neil3 KO</td>\n",
       "      <td>poor</td>\n",
       "      <td>failed</td>\n",
       "      <td>optimal</td>\n",
       "      <td>suboptimal</td>\n",
       "      <td>False</td>\n",
       "    </tr>\n",
       "    <tr>\n",
       "      <th>95</th>\n",
       "      <td>95</td>\n",
       "      <td>DSB Iba1 32_40X_CTX3</td>\n",
       "      <td>2.814815</td>\n",
       "      <td>3.040000</td>\n",
       "      <td>4.117978</td>\n",
       "      <td>4.415663</td>\n",
       "      <td>25</td>\n",
       "      <td>2</td>\n",
       "      <td>27</td>\n",
       "      <td>178</td>\n",
       "      <td>...</td>\n",
       "      <td>CTX3</td>\n",
       "      <td>32</td>\n",
       "      <td>253</td>\n",
       "      <td>female</td>\n",
       "      <td>APP/PS1 x Neil3 KO</td>\n",
       "      <td>poor</td>\n",
       "      <td>failed</td>\n",
       "      <td>optimal</td>\n",
       "      <td>optimal</td>\n",
       "      <td>False</td>\n",
       "    </tr>\n",
       "    <tr>\n",
       "      <th>96</th>\n",
       "      <td>96</td>\n",
       "      <td>DSB Iba1 32_40X_DG</td>\n",
       "      <td>2.803279</td>\n",
       "      <td>2.898305</td>\n",
       "      <td>3.861575</td>\n",
       "      <td>4.024876</td>\n",
       "      <td>59</td>\n",
       "      <td>2</td>\n",
       "      <td>60</td>\n",
       "      <td>415</td>\n",
       "      <td>...</td>\n",
       "      <td>DG</td>\n",
       "      <td>32</td>\n",
       "      <td>253</td>\n",
       "      <td>female</td>\n",
       "      <td>APP/PS1 x Neil3 KO</td>\n",
       "      <td>poor</td>\n",
       "      <td>failed</td>\n",
       "      <td>optimal</td>\n",
       "      <td>optimal</td>\n",
       "      <td>False</td>\n",
       "    </tr>\n",
       "    <tr>\n",
       "      <th>109</th>\n",
       "      <td>109</td>\n",
       "      <td>DSB Iba1 35_40X_CA1</td>\n",
       "      <td>0.900000</td>\n",
       "      <td>1.800000</td>\n",
       "      <td>0.515789</td>\n",
       "      <td>1.633333</td>\n",
       "      <td>5</td>\n",
       "      <td>5</td>\n",
       "      <td>10</td>\n",
       "      <td>190</td>\n",
       "      <td>...</td>\n",
       "      <td>CA1</td>\n",
       "      <td>35</td>\n",
       "      <td>305</td>\n",
       "      <td>male</td>\n",
       "      <td>APP/PS1 x Neil3 KO</td>\n",
       "      <td>poor</td>\n",
       "      <td>passed</td>\n",
       "      <td>optimal</td>\n",
       "      <td>optimal</td>\n",
       "      <td>False</td>\n",
       "    </tr>\n",
       "    <tr>\n",
       "      <th>110</th>\n",
       "      <td>110</td>\n",
       "      <td>DSB Iba1 35_40X_CA3</td>\n",
       "      <td>2.620690</td>\n",
       "      <td>3.040000</td>\n",
       "      <td>3.893258</td>\n",
       "      <td>4.559211</td>\n",
       "      <td>25</td>\n",
       "      <td>4</td>\n",
       "      <td>29</td>\n",
       "      <td>178</td>\n",
       "      <td>...</td>\n",
       "      <td>CA3</td>\n",
       "      <td>35</td>\n",
       "      <td>305</td>\n",
       "      <td>male</td>\n",
       "      <td>APP/PS1 x Neil3 KO</td>\n",
       "      <td>poor</td>\n",
       "      <td>passed</td>\n",
       "      <td>optimal</td>\n",
       "      <td>optimal</td>\n",
       "      <td>False</td>\n",
       "    </tr>\n",
       "    <tr>\n",
       "      <th>111</th>\n",
       "      <td>111</td>\n",
       "      <td>DSB Iba1 35_40X_CTX1</td>\n",
       "      <td>1.111111</td>\n",
       "      <td>2.000000</td>\n",
       "      <td>0.650407</td>\n",
       "      <td>1.649485</td>\n",
       "      <td>10</td>\n",
       "      <td>8</td>\n",
       "      <td>18</td>\n",
       "      <td>246</td>\n",
       "      <td>...</td>\n",
       "      <td>CTX1</td>\n",
       "      <td>35</td>\n",
       "      <td>305</td>\n",
       "      <td>male</td>\n",
       "      <td>APP/PS1 x Neil3 KO</td>\n",
       "      <td>poor</td>\n",
       "      <td>passed</td>\n",
       "      <td>optimal</td>\n",
       "      <td>optimal</td>\n",
       "      <td>False</td>\n",
       "    </tr>\n",
       "    <tr>\n",
       "      <th>112</th>\n",
       "      <td>112</td>\n",
       "      <td>DSB Iba1 35_40X_CTX2</td>\n",
       "      <td>2.045045</td>\n",
       "      <td>2.082569</td>\n",
       "      <td>2.146067</td>\n",
       "      <td>2.348361</td>\n",
       "      <td>109</td>\n",
       "      <td>2</td>\n",
       "      <td>111</td>\n",
       "      <td>267</td>\n",
       "      <td>...</td>\n",
       "      <td>CTX2</td>\n",
       "      <td>35</td>\n",
       "      <td>305</td>\n",
       "      <td>male</td>\n",
       "      <td>APP/PS1 x Neil3 KO</td>\n",
       "      <td>poor</td>\n",
       "      <td>passed</td>\n",
       "      <td>suboptimal</td>\n",
       "      <td>optimal</td>\n",
       "      <td>False</td>\n",
       "    </tr>\n",
       "    <tr>\n",
       "      <th>113</th>\n",
       "      <td>113</td>\n",
       "      <td>DSB Iba1 35_40X_CTX3</td>\n",
       "      <td>2.325000</td>\n",
       "      <td>2.384615</td>\n",
       "      <td>3.231527</td>\n",
       "      <td>3.434555</td>\n",
       "      <td>78</td>\n",
       "      <td>2</td>\n",
       "      <td>80</td>\n",
       "      <td>203</td>\n",
       "      <td>...</td>\n",
       "      <td>CTX3</td>\n",
       "      <td>35</td>\n",
       "      <td>305</td>\n",
       "      <td>male</td>\n",
       "      <td>APP/PS1 x Neil3 KO</td>\n",
       "      <td>poor</td>\n",
       "      <td>passed</td>\n",
       "      <td>optimal</td>\n",
       "      <td>optimal</td>\n",
       "      <td>False</td>\n",
       "    </tr>\n",
       "    <tr>\n",
       "      <th>114</th>\n",
       "      <td>114</td>\n",
       "      <td>DSB Iba1 35_40X_DG</td>\n",
       "      <td>2.485075</td>\n",
       "      <td>2.664000</td>\n",
       "      <td>2.870892</td>\n",
       "      <td>3.096203</td>\n",
       "      <td>125</td>\n",
       "      <td>9</td>\n",
       "      <td>134</td>\n",
       "      <td>426</td>\n",
       "      <td>...</td>\n",
       "      <td>DG</td>\n",
       "      <td>35</td>\n",
       "      <td>305</td>\n",
       "      <td>male</td>\n",
       "      <td>APP/PS1 x Neil3 KO</td>\n",
       "      <td>poor</td>\n",
       "      <td>passed</td>\n",
       "      <td>suboptimal</td>\n",
       "      <td>optimal</td>\n",
       "      <td>False</td>\n",
       "    </tr>\n",
       "    <tr>\n",
       "      <th>158</th>\n",
       "      <td>158</td>\n",
       "      <td>DSB Iba1 44_40X_CA1</td>\n",
       "      <td>1.419355</td>\n",
       "      <td>1.466667</td>\n",
       "      <td>1.503650</td>\n",
       "      <td>1.525926</td>\n",
       "      <td>30</td>\n",
       "      <td>1</td>\n",
       "      <td>31</td>\n",
       "      <td>137</td>\n",
       "      <td>...</td>\n",
       "      <td>CA1</td>\n",
       "      <td>44</td>\n",
       "      <td>147</td>\n",
       "      <td>female</td>\n",
       "      <td>APP/PS1</td>\n",
       "      <td>poor</td>\n",
       "      <td>passed</td>\n",
       "      <td>suboptimal</td>\n",
       "      <td>suboptimal</td>\n",
       "      <td>False</td>\n",
       "    </tr>\n",
       "    <tr>\n",
       "      <th>159</th>\n",
       "      <td>159</td>\n",
       "      <td>DSB Iba1 44_40X_CA3</td>\n",
       "      <td>1.111111</td>\n",
       "      <td>1.111111</td>\n",
       "      <td>1.737374</td>\n",
       "      <td>1.737374</td>\n",
       "      <td>18</td>\n",
       "      <td>0</td>\n",
       "      <td>18</td>\n",
       "      <td>99</td>\n",
       "      <td>...</td>\n",
       "      <td>CA3</td>\n",
       "      <td>44</td>\n",
       "      <td>147</td>\n",
       "      <td>female</td>\n",
       "      <td>APP/PS1</td>\n",
       "      <td>poor</td>\n",
       "      <td>passed</td>\n",
       "      <td>suboptimal</td>\n",
       "      <td>suboptimal</td>\n",
       "      <td>False</td>\n",
       "    </tr>\n",
       "    <tr>\n",
       "      <th>160</th>\n",
       "      <td>160</td>\n",
       "      <td>DSB Iba1 44_40X_CTX1</td>\n",
       "      <td>1.092593</td>\n",
       "      <td>1.092593</td>\n",
       "      <td>1.337553</td>\n",
       "      <td>1.337553</td>\n",
       "      <td>54</td>\n",
       "      <td>0</td>\n",
       "      <td>54</td>\n",
       "      <td>237</td>\n",
       "      <td>...</td>\n",
       "      <td>CTX1</td>\n",
       "      <td>44</td>\n",
       "      <td>147</td>\n",
       "      <td>female</td>\n",
       "      <td>APP/PS1</td>\n",
       "      <td>poor</td>\n",
       "      <td>passed</td>\n",
       "      <td>suboptimal</td>\n",
       "      <td>suboptimal</td>\n",
       "      <td>False</td>\n",
       "    </tr>\n",
       "    <tr>\n",
       "      <th>161</th>\n",
       "      <td>161</td>\n",
       "      <td>DSB Iba1 44_40X_DG</td>\n",
       "      <td>1.177215</td>\n",
       "      <td>1.177215</td>\n",
       "      <td>1.746725</td>\n",
       "      <td>1.777778</td>\n",
       "      <td>79</td>\n",
       "      <td>0</td>\n",
       "      <td>79</td>\n",
       "      <td>228</td>\n",
       "      <td>...</td>\n",
       "      <td>DG</td>\n",
       "      <td>44</td>\n",
       "      <td>147</td>\n",
       "      <td>female</td>\n",
       "      <td>APP/PS1</td>\n",
       "      <td>poor</td>\n",
       "      <td>passed</td>\n",
       "      <td>optimal</td>\n",
       "      <td>suboptimal</td>\n",
       "      <td>False</td>\n",
       "    </tr>\n",
       "    <tr>\n",
       "      <th>168</th>\n",
       "      <td>168</td>\n",
       "      <td>DSB Iba1 46_40X_CA1</td>\n",
       "      <td>2.303030</td>\n",
       "      <td>2.375000</td>\n",
       "      <td>2.964286</td>\n",
       "      <td>3.036585</td>\n",
       "      <td>64</td>\n",
       "      <td>2</td>\n",
       "      <td>66</td>\n",
       "      <td>168</td>\n",
       "      <td>...</td>\n",
       "      <td>CA1</td>\n",
       "      <td>46</td>\n",
       "      <td>253</td>\n",
       "      <td>female</td>\n",
       "      <td>APP/PS1 x Neil3 KO</td>\n",
       "      <td>poor</td>\n",
       "      <td>passed</td>\n",
       "      <td>suboptimal</td>\n",
       "      <td>suboptimal</td>\n",
       "      <td>False</td>\n",
       "    </tr>\n",
       "    <tr>\n",
       "      <th>169</th>\n",
       "      <td>169</td>\n",
       "      <td>DSB Iba1 46_40X_CA3</td>\n",
       "      <td>2.666667</td>\n",
       "      <td>3.096774</td>\n",
       "      <td>4.000000</td>\n",
       "      <td>4.548387</td>\n",
       "      <td>31</td>\n",
       "      <td>5</td>\n",
       "      <td>36</td>\n",
       "      <td>141</td>\n",
       "      <td>...</td>\n",
       "      <td>CA3</td>\n",
       "      <td>46</td>\n",
       "      <td>253</td>\n",
       "      <td>female</td>\n",
       "      <td>APP/PS1 x Neil3 KO</td>\n",
       "      <td>poor</td>\n",
       "      <td>passed</td>\n",
       "      <td>optimal</td>\n",
       "      <td>optimal</td>\n",
       "      <td>False</td>\n",
       "    </tr>\n",
       "    <tr>\n",
       "      <th>170</th>\n",
       "      <td>170</td>\n",
       "      <td>DSB Iba1 46_40X_CTX1</td>\n",
       "      <td>1.848101</td>\n",
       "      <td>1.896104</td>\n",
       "      <td>2.973585</td>\n",
       "      <td>3.007634</td>\n",
       "      <td>77</td>\n",
       "      <td>2</td>\n",
       "      <td>79</td>\n",
       "      <td>265</td>\n",
       "      <td>...</td>\n",
       "      <td>CTX1</td>\n",
       "      <td>46</td>\n",
       "      <td>253</td>\n",
       "      <td>female</td>\n",
       "      <td>APP/PS1 x Neil3 KO</td>\n",
       "      <td>poor</td>\n",
       "      <td>passed</td>\n",
       "      <td>suboptimal</td>\n",
       "      <td>suboptimal</td>\n",
       "      <td>False</td>\n",
       "    </tr>\n",
       "    <tr>\n",
       "      <th>171</th>\n",
       "      <td>171</td>\n",
       "      <td>DSB Iba1 46_40X_CTX2</td>\n",
       "      <td>1.480769</td>\n",
       "      <td>1.495146</td>\n",
       "      <td>2.111498</td>\n",
       "      <td>2.126316</td>\n",
       "      <td>103</td>\n",
       "      <td>1</td>\n",
       "      <td>104</td>\n",
       "      <td>287</td>\n",
       "      <td>...</td>\n",
       "      <td>CTX2</td>\n",
       "      <td>46</td>\n",
       "      <td>253</td>\n",
       "      <td>female</td>\n",
       "      <td>APP/PS1 x Neil3 KO</td>\n",
       "      <td>poor</td>\n",
       "      <td>passed</td>\n",
       "      <td>suboptimal</td>\n",
       "      <td>suboptimal</td>\n",
       "      <td>False</td>\n",
       "    </tr>\n",
       "    <tr>\n",
       "      <th>172</th>\n",
       "      <td>172</td>\n",
       "      <td>DSB Iba1 46_40X_CTX3</td>\n",
       "      <td>1.955882</td>\n",
       "      <td>1.985075</td>\n",
       "      <td>2.925311</td>\n",
       "      <td>2.987288</td>\n",
       "      <td>67</td>\n",
       "      <td>1</td>\n",
       "      <td>68</td>\n",
       "      <td>241</td>\n",
       "      <td>...</td>\n",
       "      <td>CTX3</td>\n",
       "      <td>46</td>\n",
       "      <td>253</td>\n",
       "      <td>female</td>\n",
       "      <td>APP/PS1 x Neil3 KO</td>\n",
       "      <td>poor</td>\n",
       "      <td>passed</td>\n",
       "      <td>optimal</td>\n",
       "      <td>suboptimal</td>\n",
       "      <td>False</td>\n",
       "    </tr>\n",
       "    <tr>\n",
       "      <th>173</th>\n",
       "      <td>173</td>\n",
       "      <td>DSB Iba1 46_40X_DG</td>\n",
       "      <td>2.129032</td>\n",
       "      <td>2.129032</td>\n",
       "      <td>2.689441</td>\n",
       "      <td>2.697819</td>\n",
       "      <td>124</td>\n",
       "      <td>0</td>\n",
       "      <td>124</td>\n",
       "      <td>320</td>\n",
       "      <td>...</td>\n",
       "      <td>DG</td>\n",
       "      <td>46</td>\n",
       "      <td>253</td>\n",
       "      <td>female</td>\n",
       "      <td>APP/PS1 x Neil3 KO</td>\n",
       "      <td>poor</td>\n",
       "      <td>passed</td>\n",
       "      <td>suboptimal</td>\n",
       "      <td>suboptimal</td>\n",
       "      <td>False</td>\n",
       "    </tr>\n",
       "    <tr>\n",
       "      <th>186</th>\n",
       "      <td>186</td>\n",
       "      <td>DSB Iba1 49_40X_CA1</td>\n",
       "      <td>2.176471</td>\n",
       "      <td>2.176471</td>\n",
       "      <td>2.551515</td>\n",
       "      <td>2.647799</td>\n",
       "      <td>17</td>\n",
       "      <td>0</td>\n",
       "      <td>17</td>\n",
       "      <td>164</td>\n",
       "      <td>...</td>\n",
       "      <td>CA1</td>\n",
       "      <td>49</td>\n",
       "      <td>231</td>\n",
       "      <td>male</td>\n",
       "      <td>APP/PS1 x Neil3 KO</td>\n",
       "      <td>poor</td>\n",
       "      <td>failed</td>\n",
       "      <td>optimal</td>\n",
       "      <td>suboptimal</td>\n",
       "      <td>False</td>\n",
       "    </tr>\n",
       "    <tr>\n",
       "      <th>187</th>\n",
       "      <td>187</td>\n",
       "      <td>DSB Iba1 49_40X_CA3</td>\n",
       "      <td>0.625000</td>\n",
       "      <td>1.666667</td>\n",
       "      <td>2.786885</td>\n",
       "      <td>4.594595</td>\n",
       "      <td>6</td>\n",
       "      <td>10</td>\n",
       "      <td>16</td>\n",
       "      <td>122</td>\n",
       "      <td>...</td>\n",
       "      <td>CA3</td>\n",
       "      <td>49</td>\n",
       "      <td>231</td>\n",
       "      <td>male</td>\n",
       "      <td>APP/PS1 x Neil3 KO</td>\n",
       "      <td>poor</td>\n",
       "      <td>failed</td>\n",
       "      <td>optimal</td>\n",
       "      <td>optimal</td>\n",
       "      <td>False</td>\n",
       "    </tr>\n",
       "    <tr>\n",
       "      <th>188</th>\n",
       "      <td>188</td>\n",
       "      <td>DSB Iba1 49_40X_CTX1</td>\n",
       "      <td>1.250000</td>\n",
       "      <td>1.428571</td>\n",
       "      <td>1.612500</td>\n",
       "      <td>1.779310</td>\n",
       "      <td>14</td>\n",
       "      <td>2</td>\n",
       "      <td>16</td>\n",
       "      <td>160</td>\n",
       "      <td>...</td>\n",
       "      <td>CTX1</td>\n",
       "      <td>49</td>\n",
       "      <td>231</td>\n",
       "      <td>male</td>\n",
       "      <td>APP/PS1 x Neil3 KO</td>\n",
       "      <td>poor</td>\n",
       "      <td>failed</td>\n",
       "      <td>optimal</td>\n",
       "      <td>optimal</td>\n",
       "      <td>False</td>\n",
       "    </tr>\n",
       "    <tr>\n",
       "      <th>189</th>\n",
       "      <td>189</td>\n",
       "      <td>DSB Iba1 49_40X_CTX2</td>\n",
       "      <td>1.777778</td>\n",
       "      <td>2.133333</td>\n",
       "      <td>1.738220</td>\n",
       "      <td>1.908046</td>\n",
       "      <td>15</td>\n",
       "      <td>3</td>\n",
       "      <td>18</td>\n",
       "      <td>191</td>\n",
       "      <td>...</td>\n",
       "      <td>CTX2</td>\n",
       "      <td>49</td>\n",
       "      <td>231</td>\n",
       "      <td>male</td>\n",
       "      <td>APP/PS1 x Neil3 KO</td>\n",
       "      <td>poor</td>\n",
       "      <td>failed</td>\n",
       "      <td>optimal</td>\n",
       "      <td>optimal</td>\n",
       "      <td>False</td>\n",
       "    </tr>\n",
       "    <tr>\n",
       "      <th>190</th>\n",
       "      <td>190</td>\n",
       "      <td>DSB Iba1 49_40X_CTX3</td>\n",
       "      <td>0.588235</td>\n",
       "      <td>1.111111</td>\n",
       "      <td>1.201439</td>\n",
       "      <td>2.036585</td>\n",
       "      <td>9</td>\n",
       "      <td>8</td>\n",
       "      <td>17</td>\n",
       "      <td>139</td>\n",
       "      <td>...</td>\n",
       "      <td>CTX3</td>\n",
       "      <td>49</td>\n",
       "      <td>231</td>\n",
       "      <td>male</td>\n",
       "      <td>APP/PS1 x Neil3 KO</td>\n",
       "      <td>poor</td>\n",
       "      <td>failed</td>\n",
       "      <td>optimal</td>\n",
       "      <td>optimal</td>\n",
       "      <td>False</td>\n",
       "    </tr>\n",
       "    <tr>\n",
       "      <th>191</th>\n",
       "      <td>191</td>\n",
       "      <td>DSB Iba1 49_40X_DG</td>\n",
       "      <td>2.000000</td>\n",
       "      <td>2.000000</td>\n",
       "      <td>2.992958</td>\n",
       "      <td>3.024911</td>\n",
       "      <td>28</td>\n",
       "      <td>0</td>\n",
       "      <td>28</td>\n",
       "      <td>284</td>\n",
       "      <td>...</td>\n",
       "      <td>DG</td>\n",
       "      <td>49</td>\n",
       "      <td>231</td>\n",
       "      <td>male</td>\n",
       "      <td>APP/PS1 x Neil3 KO</td>\n",
       "      <td>poor</td>\n",
       "      <td>failed</td>\n",
       "      <td>optimal</td>\n",
       "      <td>suboptimal</td>\n",
       "      <td>False</td>\n",
       "    </tr>\n",
       "  </tbody>\n",
       "</table>\n",
       "<p>58 rows × 22 columns</p>\n",
       "</div>"
      ],
      "text/plain": [
       "     index              filename  avg_dna_damage_foci/glia_+  \\\n",
       "0        0   DSB Iba1 16_40X_CA1                    0.936508   \n",
       "1        1   DSB Iba1 16_40X_CA3                    4.513514   \n",
       "2        2  DSB Iba1 16_40X_CTX1                    0.642857   \n",
       "3        3  DSB Iba1 16_40X_CTX2                    2.240664   \n",
       "4        4  DSB Iba1 16_40X_CTX3                    2.019231   \n",
       "5        5    DSB Iba1 16_40X_DG                    0.662896   \n",
       "6        6   DSB Iba1 17_40X_CA1                    1.818182   \n",
       "7        7   DSB Iba1 17_40X_CA3                    1.315789   \n",
       "8        8  DSB Iba1 17_40X_CTX1                    2.411765   \n",
       "9        9  DSB Iba1 17_40X_CTX2                    2.846154   \n",
       "10      10  DSB Iba1 17_40X_CTX3                    2.629630   \n",
       "11      11    DSB Iba1 17_40X_DG                    3.127517   \n",
       "12      12   DSB Iba1 18_40X_CA1                    1.357143   \n",
       "13      13   DSB Iba1 18_40X_CA3                    1.916667   \n",
       "14      14  DSB Iba1 18_40X_CTX1                    1.842105   \n",
       "15      15  DSB Iba1 18_40X_CTX2                    3.200000   \n",
       "16      16  DSB Iba1 18_40X_CTX3                    3.058824   \n",
       "17      17    DSB Iba1 18_40X_DG                    1.182692   \n",
       "18      18   DSB Iba1 19_40X_CA1                    1.000000   \n",
       "19      19   DSB Iba1 19_40X_CA3                    1.014085   \n",
       "20      20  DSB Iba1 19_40X_CTX1                    1.004739   \n",
       "21      21  DSB Iba1 19_40X_CTX2                    1.013889   \n",
       "22      22  DSB Iba1 19_40X_CTX3                    1.000000   \n",
       "23      23    DSB Iba1 19_40X_DG                    1.000000   \n",
       "60      60   DSB Iba1 26_40X_CA1                    2.571429   \n",
       "61      61   DSB Iba1 26_40X_CA3                    3.600000   \n",
       "62      62  DSB Iba1 26_40X_CTX1                    1.500000   \n",
       "63      63  DSB Iba1 26_40X_CTX2                    1.666667   \n",
       "64      64  DSB Iba1 26_40X_CTX3                    1.818182   \n",
       "65      65    DSB Iba1 26_40X_DG                    4.166667   \n",
       "91      91   DSB Iba1 32_40X_CA1                    4.277778   \n",
       "92      92   DSB Iba1 32_40X_CA3                    1.705882   \n",
       "93      93  DSB Iba1 32_40X_CTX1                    2.387097   \n",
       "94      94  DSB Iba1 32_40X_CTX2                    1.657895   \n",
       "95      95  DSB Iba1 32_40X_CTX3                    2.814815   \n",
       "96      96    DSB Iba1 32_40X_DG                    2.803279   \n",
       "109    109   DSB Iba1 35_40X_CA1                    0.900000   \n",
       "110    110   DSB Iba1 35_40X_CA3                    2.620690   \n",
       "111    111  DSB Iba1 35_40X_CTX1                    1.111111   \n",
       "112    112  DSB Iba1 35_40X_CTX2                    2.045045   \n",
       "113    113  DSB Iba1 35_40X_CTX3                    2.325000   \n",
       "114    114    DSB Iba1 35_40X_DG                    2.485075   \n",
       "158    158   DSB Iba1 44_40X_CA1                    1.419355   \n",
       "159    159   DSB Iba1 44_40X_CA3                    1.111111   \n",
       "160    160  DSB Iba1 44_40X_CTX1                    1.092593   \n",
       "161    161    DSB Iba1 44_40X_DG                    1.177215   \n",
       "168    168   DSB Iba1 46_40X_CA1                    2.303030   \n",
       "169    169   DSB Iba1 46_40X_CA3                    2.666667   \n",
       "170    170  DSB Iba1 46_40X_CTX1                    1.848101   \n",
       "171    171  DSB Iba1 46_40X_CTX2                    1.480769   \n",
       "172    172  DSB Iba1 46_40X_CTX3                    1.955882   \n",
       "173    173    DSB Iba1 46_40X_DG                    2.129032   \n",
       "186    186   DSB Iba1 49_40X_CA1                    2.176471   \n",
       "187    187   DSB Iba1 49_40X_CA3                    0.625000   \n",
       "188    188  DSB Iba1 49_40X_CTX1                    1.250000   \n",
       "189    189  DSB Iba1 49_40X_CTX2                    1.777778   \n",
       "190    190  DSB Iba1 49_40X_CTX3                    0.588235   \n",
       "191    191    DSB Iba1 49_40X_DG                    2.000000   \n",
       "\n",
       "     avg_dna_damage_foci/glia_+_damage_+  avg_dna_damage_foci/all_nuclei  \\\n",
       "0                               1.923913                        0.836207   \n",
       "1                               4.717514                        4.406250   \n",
       "2                               1.687500                        0.648352   \n",
       "3                               2.268908                        2.327068   \n",
       "4                               2.100000                        1.738589   \n",
       "5                               1.382075                        0.653509   \n",
       "6                               2.500000                        2.765306   \n",
       "7                               1.923077                        3.617486   \n",
       "8                               2.928571                        1.276923   \n",
       "9                               2.901961                        2.552980   \n",
       "10                              2.629630                        2.894444   \n",
       "11                              3.352518                        2.543561   \n",
       "12                              1.357143                        2.534722   \n",
       "13                              1.916667                        4.074074   \n",
       "14                              2.692308                        1.880000   \n",
       "15                              3.200000                        3.729412   \n",
       "16                              3.466667                        2.578947   \n",
       "17                              1.182692                        1.803419   \n",
       "18                              1.000000                        1.000000   \n",
       "19                              1.014085                        1.013699   \n",
       "20                              1.004739                        1.004717   \n",
       "21                              1.013889                        1.044444   \n",
       "22                              1.000000                        1.000000   \n",
       "23                              1.000000                        1.000000   \n",
       "60                              3.000000                        3.457143   \n",
       "61                              3.600000                        3.796875   \n",
       "62                              1.500000                        1.955357   \n",
       "63                              1.666667                        2.411765   \n",
       "64                              1.818182                        1.594059   \n",
       "65                              4.166667                        3.549575   \n",
       "91                              4.277778                        4.491892   \n",
       "92                              1.812500                        3.903704   \n",
       "93                              2.466667                        4.686207   \n",
       "94                              1.702703                        2.533613   \n",
       "95                              3.040000                        4.117978   \n",
       "96                              2.898305                        3.861575   \n",
       "109                             1.800000                        0.515789   \n",
       "110                             3.040000                        3.893258   \n",
       "111                             2.000000                        0.650407   \n",
       "112                             2.082569                        2.146067   \n",
       "113                             2.384615                        3.231527   \n",
       "114                             2.664000                        2.870892   \n",
       "158                             1.466667                        1.503650   \n",
       "159                             1.111111                        1.737374   \n",
       "160                             1.092593                        1.337553   \n",
       "161                             1.177215                        1.746725   \n",
       "168                             2.375000                        2.964286   \n",
       "169                             3.096774                        4.000000   \n",
       "170                             1.896104                        2.973585   \n",
       "171                             1.495146                        2.111498   \n",
       "172                             1.985075                        2.925311   \n",
       "173                             2.129032                        2.689441   \n",
       "186                             2.176471                        2.551515   \n",
       "187                             1.666667                        2.786885   \n",
       "188                             1.428571                        1.612500   \n",
       "189                             2.133333                        1.738220   \n",
       "190                             1.111111                        1.201439   \n",
       "191                             2.000000                        2.992958   \n",
       "\n",
       "     avg_dna_damage_foci/all_nuclei_damage_+  nr_+_dna_damage_glia_nuclei  \\\n",
       "0                                   1.796296                           92   \n",
       "1                                   4.726257                          177   \n",
       "2                                   1.882979                           16   \n",
       "3                                   2.389961                          238   \n",
       "4                                   2.053922                          100   \n",
       "5                                   1.379630                          212   \n",
       "6                                   3.985294                            8   \n",
       "7                                   4.762590                           13   \n",
       "8                                   2.141935                           14   \n",
       "9                                   2.640411                           51   \n",
       "10                                  3.196319                           27   \n",
       "11                                  2.971239                          139   \n",
       "12                                  2.534722                           14   \n",
       "13                                  4.112150                           12   \n",
       "14                                  2.858108                           13   \n",
       "15                                  3.865854                           20   \n",
       "16                                  3.392308                           15   \n",
       "17                                  1.803419                          104   \n",
       "18                                  1.000000                           66   \n",
       "19                                  1.013699                           71   \n",
       "20                                  1.004717                          211   \n",
       "21                                  1.044444                           72   \n",
       "22                                  1.000000                          103   \n",
       "23                                  1.000000                          127   \n",
       "60                                  3.934959                            6   \n",
       "61                                  4.189655                            5   \n",
       "62                                  1.990909                            8   \n",
       "63                                  2.432203                           15   \n",
       "64                                  1.594059                           11   \n",
       "65                                  3.808511                           12   \n",
       "91                                  4.591160                           18   \n",
       "92                                  4.022901                           16   \n",
       "93                                  4.802120                           30   \n",
       "94                                  2.555085                           37   \n",
       "95                                  4.415663                           25   \n",
       "96                                  4.024876                           59   \n",
       "109                                 1.633333                            5   \n",
       "110                                 4.559211                           25   \n",
       "111                                 1.649485                           10   \n",
       "112                                 2.348361                          109   \n",
       "113                                 3.434555                           78   \n",
       "114                                 3.096203                          125   \n",
       "158                                 1.525926                           30   \n",
       "159                                 1.737374                           18   \n",
       "160                                 1.337553                           54   \n",
       "161                                 1.777778                           79   \n",
       "168                                 3.036585                           64   \n",
       "169                                 4.548387                           31   \n",
       "170                                 3.007634                           77   \n",
       "171                                 2.126316                          103   \n",
       "172                                 2.987288                           67   \n",
       "173                                 2.697819                          124   \n",
       "186                                 2.647799                           17   \n",
       "187                                 4.594595                            6   \n",
       "188                                 1.779310                           14   \n",
       "189                                 1.908046                           15   \n",
       "190                                 2.036585                            9   \n",
       "191                                 3.024911                           28   \n",
       "\n",
       "     nr_-_dna_damage_glia_nuclei  nr_glia_+_nuclei  nr_total_nuclei  ...  \\\n",
       "0                             97               189              232  ...   \n",
       "1                              8               185              192  ...   \n",
       "2                             26                42              272  ...   \n",
       "3                              3               241              266  ...   \n",
       "4                              4               104              241  ...   \n",
       "5                            230               438              452  ...   \n",
       "6                              3                11              196  ...   \n",
       "7                              6                19              183  ...   \n",
       "8                              3                17              260  ...   \n",
       "9                              1                52              302  ...   \n",
       "10                             0                27              180  ...   \n",
       "11                            10               149              525  ...   \n",
       "12                             0                14              144  ...   \n",
       "13                             0                12              108  ...   \n",
       "14                             6                19              225  ...   \n",
       "15                             0                20              255  ...   \n",
       "16                             2                17              171  ...   \n",
       "17                             0               104              351  ...   \n",
       "18                             0                66               68  ...   \n",
       "19                             0                71               73  ...   \n",
       "20                             0               211              212  ...   \n",
       "21                             0                71               89  ...   \n",
       "22                             0               103              124  ...   \n",
       "23                             0               127              128  ...   \n",
       "60                             1                 7              140  ...   \n",
       "61                             0                 5               64  ...   \n",
       "62                             0                 8              112  ...   \n",
       "63                             0                15              119  ...   \n",
       "64                             0                11              101  ...   \n",
       "65                             0                12              353  ...   \n",
       "91                             0                18              185  ...   \n",
       "92                             1                17              135  ...   \n",
       "93                             1                31              290  ...   \n",
       "94                             1                38              238  ...   \n",
       "95                             2                27              178  ...   \n",
       "96                             2                60              415  ...   \n",
       "109                            5                10              190  ...   \n",
       "110                            4                29              178  ...   \n",
       "111                            8                18              246  ...   \n",
       "112                            2               111              267  ...   \n",
       "113                            2                80              203  ...   \n",
       "114                            9               134              426  ...   \n",
       "158                            1                31              137  ...   \n",
       "159                            0                18               99  ...   \n",
       "160                            0                54              237  ...   \n",
       "161                            0                79              228  ...   \n",
       "168                            2                66              168  ...   \n",
       "169                            5                36              141  ...   \n",
       "170                            2                79              265  ...   \n",
       "171                            1               104              287  ...   \n",
       "172                            1                68              241  ...   \n",
       "173                            0               124              320  ...   \n",
       "186                            0                17              164  ...   \n",
       "187                           10                16              122  ...   \n",
       "188                            2                16              160  ...   \n",
       "189                            3                18              191  ...   \n",
       "190                            8                17              139  ...   \n",
       "191                            0                28              284  ...   \n",
       "\n",
       "     tissue_location  staining_id animal_id     sex            genotype  \\\n",
       "0                CA1           16       887    male             APP/PS1   \n",
       "1                CA3           16       887    male             APP/PS1   \n",
       "2               CTX1           16       887    male             APP/PS1   \n",
       "3               CTX2           16       887    male             APP/PS1   \n",
       "4               CTX3           16       887    male             APP/PS1   \n",
       "5                 DG           16       887    male             APP/PS1   \n",
       "6                CA1           17       892  female             APP/PS1   \n",
       "7                CA3           17       892  female             APP/PS1   \n",
       "8               CTX1           17       892  female             APP/PS1   \n",
       "9               CTX2           17       892  female             APP/PS1   \n",
       "10              CTX3           17       892  female             APP/PS1   \n",
       "11                DG           17       892  female             APP/PS1   \n",
       "12               CA1           18       231    male  APP/PS1 x Neil3 KO   \n",
       "13               CA3           18       231    male  APP/PS1 x Neil3 KO   \n",
       "14              CTX1           18       231    male  APP/PS1 x Neil3 KO   \n",
       "15              CTX2           18       231    male  APP/PS1 x Neil3 KO   \n",
       "16              CTX3           18       231    male  APP/PS1 x Neil3 KO   \n",
       "17                DG           18       231    male  APP/PS1 x Neil3 KO   \n",
       "18               CA1           19       154  female  APP/PS1 x Neil3 KO   \n",
       "19               CA3           19       154  female  APP/PS1 x Neil3 KO   \n",
       "20              CTX1           19       154  female  APP/PS1 x Neil3 KO   \n",
       "21              CTX2           19       154  female  APP/PS1 x Neil3 KO   \n",
       "22              CTX3           19       154  female  APP/PS1 x Neil3 KO   \n",
       "23                DG           19       154  female  APP/PS1 x Neil3 KO   \n",
       "60               CA1           26       231    male  APP/PS1 x Neil3 KO   \n",
       "61               CA3           26       231    male  APP/PS1 x Neil3 KO   \n",
       "62              CTX1           26       231    male  APP/PS1 x Neil3 KO   \n",
       "63              CTX2           26       231    male  APP/PS1 x Neil3 KO   \n",
       "64              CTX3           26       231    male  APP/PS1 x Neil3 KO   \n",
       "65                DG           26       231    male  APP/PS1 x Neil3 KO   \n",
       "91               CA1           32       253  female  APP/PS1 x Neil3 KO   \n",
       "92               CA3           32       253  female  APP/PS1 x Neil3 KO   \n",
       "93              CTX1           32       253  female  APP/PS1 x Neil3 KO   \n",
       "94              CTX2           32       253  female  APP/PS1 x Neil3 KO   \n",
       "95              CTX3           32       253  female  APP/PS1 x Neil3 KO   \n",
       "96                DG           32       253  female  APP/PS1 x Neil3 KO   \n",
       "109              CA1           35       305    male  APP/PS1 x Neil3 KO   \n",
       "110              CA3           35       305    male  APP/PS1 x Neil3 KO   \n",
       "111             CTX1           35       305    male  APP/PS1 x Neil3 KO   \n",
       "112             CTX2           35       305    male  APP/PS1 x Neil3 KO   \n",
       "113             CTX3           35       305    male  APP/PS1 x Neil3 KO   \n",
       "114               DG           35       305    male  APP/PS1 x Neil3 KO   \n",
       "158              CA1           44       147  female             APP/PS1   \n",
       "159              CA3           44       147  female             APP/PS1   \n",
       "160             CTX1           44       147  female             APP/PS1   \n",
       "161               DG           44       147  female             APP/PS1   \n",
       "168              CA1           46       253  female  APP/PS1 x Neil3 KO   \n",
       "169              CA3           46       253  female  APP/PS1 x Neil3 KO   \n",
       "170             CTX1           46       253  female  APP/PS1 x Neil3 KO   \n",
       "171             CTX2           46       253  female  APP/PS1 x Neil3 KO   \n",
       "172             CTX3           46       253  female  APP/PS1 x Neil3 KO   \n",
       "173               DG           46       253  female  APP/PS1 x Neil3 KO   \n",
       "186              CA1           49       231    male  APP/PS1 x Neil3 KO   \n",
       "187              CA3           49       231    male  APP/PS1 x Neil3 KO   \n",
       "188             CTX1           49       231    male  APP/PS1 x Neil3 KO   \n",
       "189             CTX2           49       231    male  APP/PS1 x Neil3 KO   \n",
       "190             CTX3           49       231    male  APP/PS1 x Neil3 KO   \n",
       "191               DG           49       231    male  APP/PS1 x Neil3 KO   \n",
       "\n",
       "    dna_damage_stain_quality_manual manual_qc glia_stain_quality_auto  \\\n",
       "0                              poor    failed              suboptimal   \n",
       "1                              poor    failed              suboptimal   \n",
       "2                              poor    failed                 optimal   \n",
       "3                              poor    failed              suboptimal   \n",
       "4                              poor    failed              suboptimal   \n",
       "5                              poor    failed              suboptimal   \n",
       "6                              poor    failed                 optimal   \n",
       "7                              poor    failed                 optimal   \n",
       "8                              poor    failed                 optimal   \n",
       "9                              poor    failed                 optimal   \n",
       "10                             poor    failed                 optimal   \n",
       "11                             poor    failed              suboptimal   \n",
       "12                             poor    failed                 optimal   \n",
       "13                             poor    failed                 optimal   \n",
       "14                             poor    failed                 optimal   \n",
       "15                             poor    failed                 optimal   \n",
       "16                             poor    failed                 optimal   \n",
       "17                             poor    failed              suboptimal   \n",
       "18                             poor    failed              suboptimal   \n",
       "19                             poor    failed              suboptimal   \n",
       "20                             poor    failed              suboptimal   \n",
       "21                             poor    failed              suboptimal   \n",
       "22                             poor    failed              suboptimal   \n",
       "23                             poor    failed              suboptimal   \n",
       "60                             poor    failed                 optimal   \n",
       "61                             poor    failed                 optimal   \n",
       "62                             poor    failed                 optimal   \n",
       "63                             poor    failed                 optimal   \n",
       "64                             poor    failed                 optimal   \n",
       "65                             poor    failed                 optimal   \n",
       "91                             poor    failed                 optimal   \n",
       "92                             poor    failed                 optimal   \n",
       "93                             poor    failed                 optimal   \n",
       "94                             poor    failed                 optimal   \n",
       "95                             poor    failed                 optimal   \n",
       "96                             poor    failed                 optimal   \n",
       "109                            poor    passed                 optimal   \n",
       "110                            poor    passed                 optimal   \n",
       "111                            poor    passed                 optimal   \n",
       "112                            poor    passed              suboptimal   \n",
       "113                            poor    passed                 optimal   \n",
       "114                            poor    passed              suboptimal   \n",
       "158                            poor    passed              suboptimal   \n",
       "159                            poor    passed              suboptimal   \n",
       "160                            poor    passed              suboptimal   \n",
       "161                            poor    passed                 optimal   \n",
       "168                            poor    passed              suboptimal   \n",
       "169                            poor    passed                 optimal   \n",
       "170                            poor    passed              suboptimal   \n",
       "171                            poor    passed              suboptimal   \n",
       "172                            poor    passed                 optimal   \n",
       "173                            poor    passed              suboptimal   \n",
       "186                            poor    failed                 optimal   \n",
       "187                            poor    failed                 optimal   \n",
       "188                            poor    failed                 optimal   \n",
       "189                            poor    failed                 optimal   \n",
       "190                            poor    failed                 optimal   \n",
       "191                            poor    failed                 optimal   \n",
       "\n",
       "    dna_damage_stain_quality_auto staining_qc_passed  \n",
       "0                         optimal              False  \n",
       "1                         optimal              False  \n",
       "2                         optimal              False  \n",
       "3                         optimal              False  \n",
       "4                         optimal              False  \n",
       "5                         optimal              False  \n",
       "6                         optimal              False  \n",
       "7                         optimal              False  \n",
       "8                         optimal              False  \n",
       "9                         optimal              False  \n",
       "10                        optimal              False  \n",
       "11                        optimal              False  \n",
       "12                     suboptimal              False  \n",
       "13                        optimal              False  \n",
       "14                        optimal              False  \n",
       "15                        optimal              False  \n",
       "16                        optimal              False  \n",
       "17                     suboptimal              False  \n",
       "18                     suboptimal              False  \n",
       "19                     suboptimal              False  \n",
       "20                     suboptimal              False  \n",
       "21                     suboptimal              False  \n",
       "22                     suboptimal              False  \n",
       "23                     suboptimal              False  \n",
       "60                        optimal              False  \n",
       "61                        optimal              False  \n",
       "62                     suboptimal              False  \n",
       "63                     suboptimal              False  \n",
       "64                     suboptimal              False  \n",
       "65                        optimal              False  \n",
       "91                        optimal              False  \n",
       "92                        optimal              False  \n",
       "93                        optimal              False  \n",
       "94                     suboptimal              False  \n",
       "95                        optimal              False  \n",
       "96                        optimal              False  \n",
       "109                       optimal              False  \n",
       "110                       optimal              False  \n",
       "111                       optimal              False  \n",
       "112                       optimal              False  \n",
       "113                       optimal              False  \n",
       "114                       optimal              False  \n",
       "158                    suboptimal              False  \n",
       "159                    suboptimal              False  \n",
       "160                    suboptimal              False  \n",
       "161                    suboptimal              False  \n",
       "168                    suboptimal              False  \n",
       "169                       optimal              False  \n",
       "170                    suboptimal              False  \n",
       "171                    suboptimal              False  \n",
       "172                    suboptimal              False  \n",
       "173                    suboptimal              False  \n",
       "186                    suboptimal              False  \n",
       "187                       optimal              False  \n",
       "188                       optimal              False  \n",
       "189                       optimal              False  \n",
       "190                       optimal              False  \n",
       "191                    suboptimal              False  \n",
       "\n",
       "[58 rows x 22 columns]"
      ]
     },
     "execution_count": 45,
     "metadata": {},
     "output_type": "execute_result"
    }
   ],
   "source": [
    "qc_failed_df = merged_df[merged_df['staining_qc_passed'] == False]\n",
    "\n",
    "print(f\"{qc_failed_df.shape[0]} stains have not passed QC and have been discarded\")\n",
    "\n",
    "qc_failed_list = qc_failed_df['index'].tolist()\n",
    "\n",
    "qc_failed_df\n"
   ]
  }
 ],
 "metadata": {
  "kernelspec": {
   "display_name": "microglia",
   "language": "python",
   "name": "python3"
  },
  "language_info": {
   "codemirror_mode": {
    "name": "ipython",
    "version": 3
   },
   "file_extension": ".py",
   "mimetype": "text/x-python",
   "name": "python",
   "nbconvert_exporter": "python",
   "pygments_lexer": "ipython3",
   "version": "3.9.18"
  }
 },
 "nbformat": 4,
 "nbformat_minor": 2
}
