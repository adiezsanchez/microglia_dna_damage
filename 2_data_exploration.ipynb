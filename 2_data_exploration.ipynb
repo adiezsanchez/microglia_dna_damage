{
 "cells": [
  {
   "cell_type": "markdown",
   "metadata": {},
   "source": [
    "<h2>Imports</h2>"
   ]
  },
  {
   "cell_type": "code",
   "execution_count": 15,
   "metadata": {},
   "outputs": [],
   "source": [
    "from utils import read_results_csv, extract_analysis_parameters, show_exploratory_data, qc_filter_dataset\n",
    "import pandas as pd\n",
    "import plotly.express as px"
   ]
  },
  {
   "cell_type": "markdown",
   "metadata": {},
   "source": [
    "<h2>Data analysis input</h2>"
   ]
  },
  {
   "cell_type": "code",
   "execution_count": 16,
   "metadata": {},
   "outputs": [
    {
     "name": "stdout",
     "output_type": "stream",
     "text": [
      "The following dataset will be analyzed: microglia\n",
      "Cellpose nuclei diameter: 30\n",
      "Gaussian sigma: 1\n",
      "Dilation radius nuclei: 4\n",
      "Dna damage segmenter version: 1\n",
      "Glia erosion: 6\n",
      "Glia threshold: 20\n",
      "Glia semantic segmentation version: None\n",
      "DNA damage foci erosion: 2\n"
     ]
    },
    {
     "data": {
      "text/html": [
       "<div>\n",
       "<style scoped>\n",
       "    .dataframe tbody tr th:only-of-type {\n",
       "        vertical-align: middle;\n",
       "    }\n",
       "\n",
       "    .dataframe tbody tr th {\n",
       "        vertical-align: top;\n",
       "    }\n",
       "\n",
       "    .dataframe thead th {\n",
       "        text-align: right;\n",
       "    }\n",
       "</style>\n",
       "<table border=\"1\" class=\"dataframe\">\n",
       "  <thead>\n",
       "    <tr style=\"text-align: right;\">\n",
       "      <th></th>\n",
       "      <th>index</th>\n",
       "      <th>filename</th>\n",
       "      <th>avg_dna_damage_foci/glia_+</th>\n",
       "      <th>avg_dna_damage_foci/glia_+_damage_+</th>\n",
       "      <th>avg_dna_damage_foci/all_nuclei</th>\n",
       "      <th>avg_dna_damage_foci/all_nuclei_damage_+</th>\n",
       "      <th>nr_+_dna_damage_glia_nuclei</th>\n",
       "      <th>nr_+_dna_damage_all_nuclei</th>\n",
       "      <th>nr_-_dna_damage_glia_nuclei</th>\n",
       "      <th>nr_glia_+_nuclei</th>\n",
       "      <th>...</th>\n",
       "      <th>%_dna_damage_signal</th>\n",
       "      <th>%_glia+_signal</th>\n",
       "      <th>damage_load_ratio</th>\n",
       "      <th>tissue_location</th>\n",
       "      <th>staining_id</th>\n",
       "      <th>animal_id</th>\n",
       "      <th>sex</th>\n",
       "      <th>genotype</th>\n",
       "      <th>dna_damage_stain_quality_manual</th>\n",
       "      <th>manual_qc</th>\n",
       "    </tr>\n",
       "  </thead>\n",
       "  <tbody>\n",
       "    <tr>\n",
       "      <th>0</th>\n",
       "      <td>0</td>\n",
       "      <td>DSB Iba1 101_40X_CA1</td>\n",
       "      <td>1.000000</td>\n",
       "      <td>1.333333</td>\n",
       "      <td>0.573333</td>\n",
       "      <td>1.409836</td>\n",
       "      <td>9</td>\n",
       "      <td>61</td>\n",
       "      <td>3</td>\n",
       "      <td>12</td>\n",
       "      <td>...</td>\n",
       "      <td>0.783348</td>\n",
       "      <td>1.677990</td>\n",
       "      <td>0.406667</td>\n",
       "      <td>CA1</td>\n",
       "      <td>101</td>\n",
       "      <td>2119</td>\n",
       "      <td>female</td>\n",
       "      <td>APP/PS1</td>\n",
       "      <td>good</td>\n",
       "      <td>passed</td>\n",
       "    </tr>\n",
       "    <tr>\n",
       "      <th>1</th>\n",
       "      <td>1</td>\n",
       "      <td>DSB Iba1 101_40X_CA3</td>\n",
       "      <td>0.777778</td>\n",
       "      <td>1.000000</td>\n",
       "      <td>0.934959</td>\n",
       "      <td>1.513158</td>\n",
       "      <td>7</td>\n",
       "      <td>76</td>\n",
       "      <td>2</td>\n",
       "      <td>9</td>\n",
       "      <td>...</td>\n",
       "      <td>1.286697</td>\n",
       "      <td>2.135658</td>\n",
       "      <td>0.617886</td>\n",
       "      <td>CA3</td>\n",
       "      <td>101</td>\n",
       "      <td>2119</td>\n",
       "      <td>female</td>\n",
       "      <td>APP/PS1</td>\n",
       "      <td>good</td>\n",
       "      <td>passed</td>\n",
       "    </tr>\n",
       "    <tr>\n",
       "      <th>2</th>\n",
       "      <td>2</td>\n",
       "      <td>DSB Iba1 101_40X_CTX1</td>\n",
       "      <td>1.100000</td>\n",
       "      <td>1.375000</td>\n",
       "      <td>0.958084</td>\n",
       "      <td>1.415929</td>\n",
       "      <td>24</td>\n",
       "      <td>113</td>\n",
       "      <td>6</td>\n",
       "      <td>30</td>\n",
       "      <td>...</td>\n",
       "      <td>2.621174</td>\n",
       "      <td>5.073738</td>\n",
       "      <td>0.676647</td>\n",
       "      <td>CTX1</td>\n",
       "      <td>101</td>\n",
       "      <td>2119</td>\n",
       "      <td>female</td>\n",
       "      <td>APP/PS1</td>\n",
       "      <td>good</td>\n",
       "      <td>passed</td>\n",
       "    </tr>\n",
       "    <tr>\n",
       "      <th>3</th>\n",
       "      <td>3</td>\n",
       "      <td>DSB Iba1 101_40X_CTX2</td>\n",
       "      <td>1.363636</td>\n",
       "      <td>1.666667</td>\n",
       "      <td>0.898374</td>\n",
       "      <td>1.407643</td>\n",
       "      <td>9</td>\n",
       "      <td>157</td>\n",
       "      <td>2</td>\n",
       "      <td>11</td>\n",
       "      <td>...</td>\n",
       "      <td>1.908875</td>\n",
       "      <td>5.266762</td>\n",
       "      <td>0.638211</td>\n",
       "      <td>CTX2</td>\n",
       "      <td>101</td>\n",
       "      <td>2119</td>\n",
       "      <td>female</td>\n",
       "      <td>APP/PS1</td>\n",
       "      <td>good</td>\n",
       "      <td>passed</td>\n",
       "    </tr>\n",
       "    <tr>\n",
       "      <th>4</th>\n",
       "      <td>4</td>\n",
       "      <td>DSB Iba1 101_40X_CTX3</td>\n",
       "      <td>0.533333</td>\n",
       "      <td>1.333333</td>\n",
       "      <td>0.759657</td>\n",
       "      <td>1.301471</td>\n",
       "      <td>6</td>\n",
       "      <td>136</td>\n",
       "      <td>9</td>\n",
       "      <td>15</td>\n",
       "      <td>...</td>\n",
       "      <td>1.623058</td>\n",
       "      <td>3.178596</td>\n",
       "      <td>0.583691</td>\n",
       "      <td>CTX3</td>\n",
       "      <td>101</td>\n",
       "      <td>2119</td>\n",
       "      <td>female</td>\n",
       "      <td>APP/PS1</td>\n",
       "      <td>good</td>\n",
       "      <td>passed</td>\n",
       "    </tr>\n",
       "  </tbody>\n",
       "</table>\n",
       "<p>5 rows × 21 columns</p>\n",
       "</div>"
      ],
      "text/plain": [
       "   index               filename  avg_dna_damage_foci/glia_+  \\\n",
       "0      0   DSB Iba1 101_40X_CA1                    1.000000   \n",
       "1      1   DSB Iba1 101_40X_CA3                    0.777778   \n",
       "2      2  DSB Iba1 101_40X_CTX1                    1.100000   \n",
       "3      3  DSB Iba1 101_40X_CTX2                    1.363636   \n",
       "4      4  DSB Iba1 101_40X_CTX3                    0.533333   \n",
       "\n",
       "   avg_dna_damage_foci/glia_+_damage_+  avg_dna_damage_foci/all_nuclei  \\\n",
       "0                             1.333333                        0.573333   \n",
       "1                             1.000000                        0.934959   \n",
       "2                             1.375000                        0.958084   \n",
       "3                             1.666667                        0.898374   \n",
       "4                             1.333333                        0.759657   \n",
       "\n",
       "   avg_dna_damage_foci/all_nuclei_damage_+  nr_+_dna_damage_glia_nuclei  \\\n",
       "0                                 1.409836                            9   \n",
       "1                                 1.513158                            7   \n",
       "2                                 1.415929                           24   \n",
       "3                                 1.407643                            9   \n",
       "4                                 1.301471                            6   \n",
       "\n",
       "   nr_+_dna_damage_all_nuclei  nr_-_dna_damage_glia_nuclei  nr_glia_+_nuclei  \\\n",
       "0                          61                            3                12   \n",
       "1                          76                            2                 9   \n",
       "2                         113                            6                30   \n",
       "3                         157                            2                11   \n",
       "4                         136                            9                15   \n",
       "\n",
       "   ...  %_dna_damage_signal  %_glia+_signal  damage_load_ratio  \\\n",
       "0  ...             0.783348        1.677990           0.406667   \n",
       "1  ...             1.286697        2.135658           0.617886   \n",
       "2  ...             2.621174        5.073738           0.676647   \n",
       "3  ...             1.908875        5.266762           0.638211   \n",
       "4  ...             1.623058        3.178596           0.583691   \n",
       "\n",
       "   tissue_location staining_id  animal_id     sex genotype  \\\n",
       "0              CA1         101       2119  female  APP/PS1   \n",
       "1              CA3         101       2119  female  APP/PS1   \n",
       "2             CTX1         101       2119  female  APP/PS1   \n",
       "3             CTX2         101       2119  female  APP/PS1   \n",
       "4             CTX3         101       2119  female  APP/PS1   \n",
       "\n",
       "  dna_damage_stain_quality_manual manual_qc  \n",
       "0                            good    passed  \n",
       "1                            good    passed  \n",
       "2                            good    passed  \n",
       "3                            good    passed  \n",
       "4                            good    passed  \n",
       "\n",
       "[5 rows x 21 columns]"
      ]
     },
     "execution_count": 16,
     "metadata": {},
     "output_type": "execute_result"
    }
   ],
   "source": [
    "# Define the dataset results that you want to analyze below (\"microglia\" or \"astrocyte\")\n",
    "dataset = \"microglia\"\n",
    "\n",
    "# Define the .csv results you want to explore and quality check\n",
    "csv_path = \"./results/microglia_results_cellpdia30_sigma1_dilrad4_dnad_obj_seg_v1_gliaero6_gliathr20_dnadero2.csv\"\n",
    "\n",
    "# Read both results and mouse_id .csv files and load them into a Dataframe \n",
    "df, df_mouse_id, merged_df = read_results_csv(dataset, csv_path)\n",
    "\n",
    "# Print the analysis settings and extract them into variables\n",
    "cellpose_nuclei_diameter, gaussian_sigma, dilation_radius_nuclei, dna_damage_segmenter_version, glia_nuclei_colocalization_erosion, glia_channel_threshold, glia_segmenter, glia_segmenter_version, dna_damage_erosion, parameters_title = extract_analysis_parameters(csv_path)\n",
    "\n",
    "# Display the first few rows of the DataFrame\n",
    "merged_df.head()\n"
   ]
  },
  {
   "cell_type": "markdown",
   "metadata": {},
   "source": [
    "<h2>Initial data exploration</h2>"
   ]
  },
  {
   "cell_type": "code",
   "execution_count": 17,
   "metadata": {},
   "outputs": [
    {
     "data": {
      "application/vnd.plotly.v1+json": {
       "config": {
        "plotlyServerURL": "https://plot.ly"
       },
       "data": [
        {
         "customdata": [
          [
           101,
           0,
           "DSB Iba1 101_40X_CA1"
          ],
          [
           101,
           1,
           "DSB Iba1 101_40X_CA3"
          ],
          [
           101,
           2,
           "DSB Iba1 101_40X_CTX1"
          ],
          [
           101,
           3,
           "DSB Iba1 101_40X_CTX2"
          ],
          [
           101,
           4,
           "DSB Iba1 101_40X_CTX3"
          ],
          [
           101,
           5,
           "DSB Iba1 101_40X_DG"
          ],
          [
           102,
           6,
           "DSB Iba1 102_40X_CA1"
          ],
          [
           102,
           7,
           "DSB Iba1 102_40X_CA3"
          ],
          [
           102,
           8,
           "DSB Iba1 102_40X_CTX1"
          ],
          [
           102,
           9,
           "DSB Iba1 102_40X_CTX2"
          ],
          [
           102,
           10,
           "DSB Iba1 102_40X_CTX3"
          ],
          [
           102,
           11,
           "DSB Iba1 102_40X_DG"
          ],
          [
           103,
           12,
           "DSB Iba1 103_40X_CA1"
          ],
          [
           103,
           13,
           "DSB Iba1 103_40X_CA3"
          ],
          [
           103,
           14,
           "DSB Iba1 103_40X_CTX1"
          ],
          [
           103,
           15,
           "DSB Iba1 103_40X_CTX2"
          ],
          [
           103,
           16,
           "DSB Iba1 103_40X_CTX3"
          ],
          [
           103,
           17,
           "DSB Iba1 103_40X_DG"
          ],
          [
           104,
           18,
           "DSB Iba1 104_40X_CA1"
          ],
          [
           104,
           19,
           "DSB Iba1 104_40X_CA3"
          ],
          [
           104,
           20,
           "DSB Iba1 104_40X_CTX1"
          ],
          [
           104,
           21,
           "DSB Iba1 104_40X_CTX2"
          ],
          [
           104,
           22,
           "DSB Iba1 104_40X_CTX3"
          ],
          [
           104,
           23,
           "DSB Iba1 104_40X_DG"
          ],
          [
           105,
           24,
           "DSB Iba1 105_40X_CA1"
          ],
          [
           105,
           25,
           "DSB Iba1 105_40X_CA3"
          ],
          [
           105,
           26,
           "DSB Iba1 105_40X_CTX1"
          ],
          [
           105,
           27,
           "DSB Iba1 105_40X_CTX2"
          ],
          [
           105,
           28,
           "DSB Iba1 105_40X_CTX3"
          ],
          [
           106,
           29,
           "DSB Iba1 106_40X_CA1"
          ],
          [
           106,
           30,
           "DSB Iba1 106_40X_CA3"
          ],
          [
           106,
           31,
           "DSB Iba1 106_40X_CTX1"
          ],
          [
           106,
           32,
           "DSB Iba1 106_40X_CTX2"
          ],
          [
           106,
           33,
           "DSB Iba1 106_40X_CTX3"
          ],
          [
           106,
           34,
           "DSB Iba1 106_40X_DG"
          ],
          [
           107,
           35,
           "DSB Iba1 107_40X_CA1"
          ],
          [
           107,
           36,
           "DSB Iba1 107_40X_CA3"
          ],
          [
           107,
           37,
           "DSB Iba1 107_40X_CTX1"
          ],
          [
           107,
           38,
           "DSB Iba1 107_40X_CTX2"
          ],
          [
           107,
           39,
           "DSB Iba1 107_40X_CTX3"
          ],
          [
           107,
           40,
           "DSB Iba1 107_40X_DG"
          ],
          [
           108,
           41,
           "DSB Iba1 108_40X_CA1"
          ],
          [
           108,
           42,
           "DSB Iba1 108_40X_CA3"
          ],
          [
           108,
           43,
           "DSB Iba1 108_40X_CTX1"
          ],
          [
           108,
           44,
           "DSB Iba1 108_40X_CTX2"
          ],
          [
           108,
           45,
           "DSB Iba1 108_40X_CTX3"
          ],
          [
           108,
           46,
           "DSB Iba1 108_40X_DG"
          ],
          [
           16,
           47,
           "DSB Iba1 16_40X_CA1"
          ],
          [
           16,
           48,
           "DSB Iba1 16_40X_CA3"
          ],
          [
           16,
           49,
           "DSB Iba1 16_40X_CTX1"
          ],
          [
           16,
           50,
           "DSB Iba1 16_40X_CTX2"
          ],
          [
           16,
           51,
           "DSB Iba1 16_40X_CTX3"
          ],
          [
           16,
           52,
           "DSB Iba1 16_40X_DG"
          ],
          [
           17,
           53,
           "DSB Iba1 17_40X_CA1"
          ],
          [
           17,
           54,
           "DSB Iba1 17_40X_CA3"
          ],
          [
           17,
           55,
           "DSB Iba1 17_40X_CTX1"
          ],
          [
           17,
           56,
           "DSB Iba1 17_40X_CTX2"
          ],
          [
           17,
           57,
           "DSB Iba1 17_40X_CTX3"
          ],
          [
           17,
           58,
           "DSB Iba1 17_40X_DG"
          ],
          [
           18,
           59,
           "DSB Iba1 18_40X_CA1"
          ],
          [
           18,
           60,
           "DSB Iba1 18_40X_CA3"
          ],
          [
           18,
           61,
           "DSB Iba1 18_40X_CTX1"
          ],
          [
           18,
           62,
           "DSB Iba1 18_40X_CTX2"
          ],
          [
           18,
           63,
           "DSB Iba1 18_40X_CTX3"
          ],
          [
           18,
           64,
           "DSB Iba1 18_40X_DG"
          ],
          [
           19,
           65,
           "DSB Iba1 19_40X_CA1"
          ],
          [
           19,
           66,
           "DSB Iba1 19_40X_CA3"
          ],
          [
           19,
           67,
           "DSB Iba1 19_40X_CTX1"
          ],
          [
           19,
           68,
           "DSB Iba1 19_40X_CTX2"
          ],
          [
           19,
           69,
           "DSB Iba1 19_40X_CTX3"
          ],
          [
           19,
           70,
           "DSB Iba1 19_40X_DG"
          ],
          [
           20,
           71,
           "DSB Iba1 20_40X_CA1"
          ],
          [
           20,
           72,
           "DSB Iba1 20_40X_CA3"
          ],
          [
           20,
           73,
           "DSB Iba1 20_40X_CTX1"
          ],
          [
           20,
           74,
           "DSB Iba1 20_40X_CTX2"
          ],
          [
           20,
           75,
           "DSB Iba1 20_40X_CTX3"
          ],
          [
           20,
           76,
           "DSB Iba1 20_40X_DG"
          ],
          [
           21,
           77,
           "DSB Iba1 21_40X_CA1"
          ],
          [
           21,
           78,
           "DSB Iba1 21_40X_CA3"
          ],
          [
           21,
           79,
           "DSB Iba1 21_40X_CTX1"
          ],
          [
           21,
           80,
           "DSB Iba1 21_40X_CTX2"
          ],
          [
           21,
           81,
           "DSB Iba1 21_40X_CTX3"
          ],
          [
           21,
           82,
           "DSB Iba1 21_40X_DG"
          ],
          [
           22,
           83,
           "DSB Iba1 22_40X_CA1"
          ],
          [
           22,
           84,
           "DSB Iba1 22_40X_CA3"
          ],
          [
           22,
           85,
           "DSB Iba1 22_40X_CTX1"
          ],
          [
           22,
           86,
           "DSB Iba1 22_40X_CTX2"
          ],
          [
           22,
           87,
           "DSB Iba1 22_40X_CTX3"
          ],
          [
           22,
           88,
           "DSB Iba1 22_40X_DG"
          ],
          [
           23,
           89,
           "DSB Iba1 23_40X_CA1"
          ],
          [
           23,
           90,
           "DSB Iba1 23_40X_CA3"
          ],
          [
           23,
           91,
           "DSB Iba1 23_40X_CTX1"
          ],
          [
           23,
           92,
           "DSB Iba1 23_40X_CTX2"
          ],
          [
           23,
           93,
           "DSB Iba1 23_40X_CTX3"
          ],
          [
           23,
           94,
           "DSB Iba1 23_40X_DG"
          ],
          [
           24,
           95,
           "DSB Iba1 24_40X_CA1"
          ],
          [
           24,
           96,
           "DSB Iba1 24_40X_CA3"
          ],
          [
           24,
           97,
           "DSB Iba1 24_40X_CTX1"
          ],
          [
           24,
           98,
           "DSB Iba1 24_40X_CTX2"
          ],
          [
           24,
           99,
           "DSB Iba1 24_40X_CTX3"
          ],
          [
           24,
           100,
           "DSB Iba1 24_40X_DG"
          ],
          [
           25,
           101,
           "DSB Iba1 25_40X_CA1"
          ],
          [
           25,
           102,
           "DSB Iba1 25_40X_CA3"
          ],
          [
           25,
           103,
           "DSB Iba1 25_40X_CTX1"
          ],
          [
           25,
           104,
           "DSB Iba1 25_40X_CTX2"
          ],
          [
           25,
           105,
           "DSB Iba1 25_40X_CTX3"
          ],
          [
           25,
           106,
           "DSB Iba1 25_40X_DG"
          ],
          [
           26,
           107,
           "DSB Iba1 26_40X_CA1"
          ],
          [
           26,
           108,
           "DSB Iba1 26_40X_CA3"
          ],
          [
           26,
           109,
           "DSB Iba1 26_40X_CTX1"
          ],
          [
           26,
           110,
           "DSB Iba1 26_40X_CTX2"
          ],
          [
           26,
           111,
           "DSB Iba1 26_40X_CTX3"
          ],
          [
           26,
           112,
           "DSB Iba1 26_40X_DG"
          ],
          [
           27,
           113,
           "DSB Iba1 27_40X_DG"
          ],
          [
           28,
           114,
           "DSB Iba1 28_40X_CA1"
          ],
          [
           28,
           115,
           "DSB Iba1 28_40X_CA3"
          ],
          [
           28,
           116,
           "DSB Iba1 28_40X_CTX1"
          ],
          [
           28,
           117,
           "DSB Iba1 28_40X_CTX2"
          ],
          [
           28,
           118,
           "DSB Iba1 28_40X_CTX3"
          ],
          [
           28,
           119,
           "DSB Iba1 28_40X_DG"
          ],
          [
           29,
           120,
           "DSB Iba1 29_40X_CA1"
          ],
          [
           29,
           121,
           "DSB Iba1 29_40X_CA3"
          ],
          [
           29,
           122,
           "DSB Iba1 29_40X_CTX1"
          ],
          [
           29,
           123,
           "DSB Iba1 29_40X_CTX2"
          ],
          [
           29,
           124,
           "DSB Iba1 29_40X_CTX3"
          ],
          [
           29,
           125,
           "DSB Iba1 29_40X_DG"
          ],
          [
           30,
           126,
           "DSB Iba1 30_40X_CA1"
          ],
          [
           30,
           127,
           "DSB Iba1 30_40X_CA3"
          ],
          [
           30,
           128,
           "DSB Iba1 30_40X_CTX1"
          ],
          [
           30,
           129,
           "DSB Iba1 30_40X_CTX2"
          ],
          [
           30,
           130,
           "DSB Iba1 30_40X_CTX3"
          ],
          [
           30,
           131,
           "DSB Iba1 30_40X_DG"
          ],
          [
           31,
           132,
           "DSB Iba1 31_40X_CA1"
          ],
          [
           31,
           133,
           "DSB Iba1 31_40X_CA3"
          ],
          [
           31,
           134,
           "DSB Iba1 31_40X_CTX1"
          ],
          [
           31,
           135,
           "DSB Iba1 31_40X_CTX2"
          ],
          [
           31,
           136,
           "DSB Iba1 31_40X_CTX3"
          ],
          [
           31,
           137,
           "DSB Iba1 31_40X_DG"
          ],
          [
           32,
           138,
           "DSB Iba1 32_40X_CA1"
          ],
          [
           32,
           139,
           "DSB Iba1 32_40X_CA3"
          ],
          [
           32,
           140,
           "DSB Iba1 32_40X_CTX1"
          ],
          [
           32,
           141,
           "DSB Iba1 32_40X_CTX2"
          ],
          [
           32,
           142,
           "DSB Iba1 32_40X_CTX3"
          ],
          [
           32,
           143,
           "DSB Iba1 32_40X_DG"
          ],
          [
           33,
           144,
           "DSB Iba1 33_40X_CA1"
          ],
          [
           33,
           145,
           "DSB Iba1 33_40X_CA3"
          ],
          [
           33,
           146,
           "DSB Iba1 33_40X_CTX1"
          ],
          [
           33,
           147,
           "DSB Iba1 33_40X_CTX2"
          ],
          [
           33,
           148,
           "DSB Iba1 33_40X_CTX3"
          ],
          [
           33,
           149,
           "DSB Iba1 33_40X_DG"
          ],
          [
           34,
           150,
           "DSB Iba1 34_40X_CA1"
          ],
          [
           34,
           151,
           "DSB Iba1 34_40X_CA3"
          ],
          [
           34,
           152,
           "DSB Iba1 34_40X_CTX1"
          ],
          [
           34,
           153,
           "DSB Iba1 34_40X_CTX2"
          ],
          [
           34,
           154,
           "DSB Iba1 34_40X_CTX3"
          ],
          [
           34,
           155,
           "DSB Iba1 34_40X_DG"
          ],
          [
           35,
           156,
           "DSB Iba1 35_40X_CA1"
          ],
          [
           35,
           157,
           "DSB Iba1 35_40X_CA3"
          ],
          [
           35,
           158,
           "DSB Iba1 35_40X_CTX1"
          ],
          [
           35,
           159,
           "DSB Iba1 35_40X_CTX2"
          ],
          [
           35,
           160,
           "DSB Iba1 35_40X_CTX3"
          ],
          [
           35,
           161,
           "DSB Iba1 35_40X_DG"
          ],
          [
           36,
           162,
           "DSB Iba1 36_40X_CA1"
          ],
          [
           36,
           163,
           "DSB Iba1 36_40X_CA3"
          ],
          [
           36,
           164,
           "DSB Iba1 36_40X_CTX1"
          ],
          [
           36,
           165,
           "DSB Iba1 36_40X_CTX2"
          ],
          [
           36,
           166,
           "DSB Iba1 36_40X_CTX3"
          ],
          [
           36,
           167,
           "DSB Iba1 36_40X_DG"
          ],
          [
           37,
           168,
           "DSB Iba1 37_40X_CA1"
          ],
          [
           37,
           169,
           "DSB Iba1 37_40X_CA3"
          ],
          [
           37,
           170,
           "DSB Iba1 37_40X_CTX1"
          ],
          [
           37,
           171,
           "DSB Iba1 37_40X_CTX2"
          ],
          [
           37,
           172,
           "DSB Iba1 37_40X_CTX3"
          ],
          [
           37,
           173,
           "DSB Iba1 37_40X_DG"
          ],
          [
           38,
           174,
           "DSB Iba1 38_40X_DG"
          ],
          [
           39,
           175,
           "DSB Iba1 39_40X_CA1"
          ],
          [
           39,
           176,
           "DSB Iba1 39_40X_CA3"
          ],
          [
           39,
           177,
           "DSB Iba1 39_40X_CTX1"
          ],
          [
           39,
           178,
           "DSB Iba1 39_40X_CTX2"
          ],
          [
           39,
           179,
           "DSB Iba1 39_40X_CTX3"
          ],
          [
           39,
           180,
           "DSB Iba1 39_40X_DG"
          ],
          [
           40,
           181,
           "DSB Iba1 40_40X_CA1"
          ],
          [
           40,
           182,
           "DSB Iba1 40_40X_CA3"
          ],
          [
           40,
           183,
           "DSB Iba1 40_40X_CTX1"
          ],
          [
           40,
           184,
           "DSB Iba1 40_40X_CTX2"
          ],
          [
           40,
           185,
           "DSB Iba1 40_40X_CTX3"
          ],
          [
           40,
           186,
           "DSB Iba1 40_40X_DG"
          ],
          [
           41,
           187,
           "DSB Iba1 41_40X_CA1"
          ],
          [
           41,
           188,
           "DSB Iba1 41_40X_CA3"
          ],
          [
           41,
           189,
           "DSB Iba1 41_40X_CTX1"
          ],
          [
           41,
           190,
           "DSB Iba1 41_40X_CTX2"
          ],
          [
           41,
           191,
           "DSB Iba1 41_40X_CTX3"
          ],
          [
           41,
           192,
           "DSB Iba1 41_40X_DG"
          ],
          [
           42,
           193,
           "DSB Iba1 42_40X_CA1"
          ],
          [
           42,
           194,
           "DSB Iba1 42_40X_CA3"
          ],
          [
           42,
           195,
           "DSB Iba1 42_40X_CTX1"
          ],
          [
           42,
           196,
           "DSB Iba1 42_40X_CTX2"
          ],
          [
           42,
           197,
           "DSB Iba1 42_40X_CTX3"
          ],
          [
           42,
           198,
           "DSB Iba1 42_40X_DG"
          ],
          [
           43,
           199,
           "DSB Iba1 43_40X_CA1"
          ],
          [
           43,
           200,
           "DSB Iba1 43_40X_CA3"
          ],
          [
           43,
           201,
           "DSB Iba1 43_40X_CTX1"
          ],
          [
           43,
           202,
           "DSB Iba1 43_40X_CTX2"
          ],
          [
           43,
           203,
           "DSB Iba1 43_40X_CTX3"
          ],
          [
           43,
           204,
           "DSB Iba1 43_40X_DG"
          ],
          [
           44,
           205,
           "DSB Iba1 44_40X_CA1"
          ],
          [
           44,
           206,
           "DSB Iba1 44_40X_CA3"
          ],
          [
           44,
           207,
           "DSB Iba1 44_40X_CTX1"
          ],
          [
           44,
           208,
           "DSB Iba1 44_40X_DG"
          ],
          [
           45,
           209,
           "DSB Iba1 45_40X_CA1"
          ],
          [
           45,
           210,
           "DSB Iba1 45_40X_CA3"
          ],
          [
           45,
           211,
           "DSB Iba1 45_40X_CTX1"
          ],
          [
           45,
           212,
           "DSB Iba1 45_40X_CTX2"
          ],
          [
           45,
           213,
           "DSB Iba1 45_40X_CTX3"
          ],
          [
           45,
           214,
           "DSB Iba1 45_40X_DG"
          ],
          [
           46,
           215,
           "DSB Iba1 46_40X_CA1"
          ],
          [
           46,
           216,
           "DSB Iba1 46_40X_CA3"
          ],
          [
           46,
           217,
           "DSB Iba1 46_40X_CTX1"
          ],
          [
           46,
           218,
           "DSB Iba1 46_40X_CTX2"
          ],
          [
           46,
           219,
           "DSB Iba1 46_40X_CTX3"
          ],
          [
           46,
           220,
           "DSB Iba1 46_40X_DG"
          ],
          [
           47,
           221,
           "DSB Iba1 47_40X_CA1"
          ],
          [
           47,
           222,
           "DSB Iba1 47_40X_CA3"
          ],
          [
           47,
           223,
           "DSB Iba1 47_40X_CTX1"
          ],
          [
           47,
           224,
           "DSB Iba1 47_40X_CTX2"
          ],
          [
           47,
           225,
           "DSB Iba1 47_40X_CTX3"
          ],
          [
           47,
           226,
           "DSB Iba1 47_40X_DG"
          ],
          [
           48,
           227,
           "DSB Iba1 48_40X_CA1"
          ],
          [
           48,
           228,
           "DSB Iba1 48_40X_CA3"
          ],
          [
           48,
           229,
           "DSB Iba1 48_40X_CTX1"
          ],
          [
           48,
           230,
           "DSB Iba1 48_40X_CTX2"
          ],
          [
           48,
           231,
           "DSB Iba1 48_40X_CTX3"
          ],
          [
           48,
           232,
           "DSB Iba1 48_40X_DG"
          ],
          [
           49,
           233,
           "DSB Iba1 49_40X_CA1"
          ],
          [
           49,
           234,
           "DSB Iba1 49_40X_CA3"
          ],
          [
           49,
           235,
           "DSB Iba1 49_40X_CTX1"
          ],
          [
           49,
           236,
           "DSB Iba1 49_40X_CTX2"
          ],
          [
           49,
           237,
           "DSB Iba1 49_40X_CTX3"
          ],
          [
           49,
           238,
           "DSB Iba1 49_40X_DG"
          ],
          [
           50,
           239,
           "DSB Iba1 50_40X_CA1"
          ],
          [
           50,
           240,
           "DSB Iba1 50_40X_CA3"
          ],
          [
           50,
           241,
           "DSB Iba1 50_40X_CTX1"
          ],
          [
           50,
           242,
           "DSB Iba1 50_40X_CTX2"
          ],
          [
           50,
           243,
           "DSB Iba1 50_40X_CTX3"
          ],
          [
           50,
           244,
           "DSB Iba1 50_40X_DG"
          ],
          [
           51,
           245,
           "DSB Iba1 51_40X_CA1"
          ],
          [
           51,
           246,
           "DSB Iba1 51_40X_CA3"
          ],
          [
           51,
           247,
           "DSB Iba1 51_40X_CTX1"
          ],
          [
           51,
           248,
           "DSB Iba1 51_40X_CTX2"
          ],
          [
           51,
           249,
           "DSB Iba1 51_40X_CTX3"
          ],
          [
           51,
           250,
           "DSB Iba1 51_40X_DG"
          ],
          [
           52,
           251,
           "DSB Iba1 52_40X_CA1"
          ],
          [
           52,
           252,
           "DSB Iba1 52_40X_CA3"
          ],
          [
           52,
           253,
           "DSB Iba1 52_40X_CTX1"
          ],
          [
           52,
           254,
           "DSB Iba1 52_40X_CTX2"
          ],
          [
           52,
           255,
           "DSB Iba1 52_40X_CTX3"
          ],
          [
           52,
           256,
           "DSB Iba1 52_40X_DG"
          ],
          [
           53,
           257,
           "DSB Iba1 53_40X_CA1"
          ],
          [
           53,
           258,
           "DSB Iba1 53_40X_CA3"
          ],
          [
           53,
           259,
           "DSB Iba1 53_40X_CTX1"
          ],
          [
           53,
           260,
           "DSB Iba1 53_40X_CTX2"
          ],
          [
           53,
           261,
           "DSB Iba1 53_40X_CTX3"
          ],
          [
           53,
           262,
           "DSB Iba1 53_40X_DG"
          ],
          [
           54,
           263,
           "DSB Iba1 54_40X_CA1"
          ],
          [
           54,
           264,
           "DSB Iba1 54_40X_CA3"
          ],
          [
           54,
           265,
           "DSB Iba1 54_40X_CTX1"
          ],
          [
           54,
           266,
           "DSB Iba1 54_40X_CTX2"
          ],
          [
           54,
           267,
           "DSB Iba1 54_40X_CTX3"
          ],
          [
           54,
           268,
           "DSB Iba1 54_40X_DG"
          ],
          [
           55,
           269,
           "DSB Iba1 55_40X_CA1"
          ],
          [
           55,
           270,
           "DSB Iba1 55_40X_CA3"
          ],
          [
           55,
           271,
           "DSB Iba1 55_40X_CTX1"
          ],
          [
           55,
           272,
           "DSB Iba1 55_40X_CTX2"
          ],
          [
           55,
           273,
           "DSB Iba1 55_40X_CTX3"
          ],
          [
           55,
           274,
           "DSB Iba1 55_40X_DG"
          ],
          [
           56,
           275,
           "DSB Iba1 56_40X_CA1"
          ],
          [
           56,
           276,
           "DSB Iba1 56_40X_CA3"
          ],
          [
           56,
           277,
           "DSB Iba1 56_40X_CTX1"
          ],
          [
           56,
           278,
           "DSB Iba1 56_40X_CTX2"
          ],
          [
           56,
           279,
           "DSB Iba1 56_40X_CTX3"
          ],
          [
           56,
           280,
           "DSB Iba1 56_40X_DG"
          ],
          [
           57,
           281,
           "DSB Iba1 57_40X_CA1"
          ],
          [
           57,
           282,
           "DSB Iba1 57_40X_CA3"
          ],
          [
           57,
           283,
           "DSB Iba1 57_40X_CTX1"
          ],
          [
           57,
           284,
           "DSB Iba1 57_40X_CTX2"
          ],
          [
           57,
           285,
           "DSB Iba1 57_40X_CTX3"
          ],
          [
           57,
           286,
           "DSB Iba1 57_40X_DG"
          ],
          [
           58,
           287,
           "DSB Iba1 58_40X_CA1"
          ],
          [
           58,
           288,
           "DSB Iba1 58_40X_CA3"
          ],
          [
           58,
           289,
           "DSB Iba1 58_40X_CTX1"
          ],
          [
           58,
           290,
           "DSB Iba1 58_40X_CTX2"
          ],
          [
           58,
           291,
           "DSB Iba1 58_40X_CTX3"
          ],
          [
           58,
           292,
           "DSB Iba1 58_40X_DG"
          ],
          [
           59,
           293,
           "DSB Iba1 59_40X_CA1"
          ],
          [
           59,
           294,
           "DSB Iba1 59_40X_CA3"
          ],
          [
           59,
           295,
           "DSB Iba1 59_40X_CTX1"
          ],
          [
           59,
           296,
           "DSB Iba1 59_40X_CTX2"
          ],
          [
           59,
           297,
           "DSB Iba1 59_40X_CTX3"
          ],
          [
           59,
           298,
           "DSB Iba1 59_40X_DG"
          ]
         ],
         "hovertemplate": "tissue_location=%{x}<br>nr_+_dna_damage_glia_nuclei=%{y}<br>staining_id=%{customdata[0]}<br>index=%{customdata[1]}<br>filename=%{customdata[2]}<extra></extra>",
         "legendgroup": "",
         "marker": {
          "color": "#636efa",
          "symbol": "circle"
         },
         "mode": "markers",
         "name": "",
         "orientation": "v",
         "showlegend": false,
         "type": "scatter",
         "x": [
          "CA1",
          "CA3",
          "CTX1",
          "CTX2",
          "CTX3",
          "DG",
          "CA1",
          "CA3",
          "CTX1",
          "CTX2",
          "CTX3",
          "DG",
          "CA1",
          "CA3",
          "CTX1",
          "CTX2",
          "CTX3",
          "DG",
          "CA1",
          "CA3",
          "CTX1",
          "CTX2",
          "CTX3",
          "DG",
          "CA1",
          "CA3",
          "CTX1",
          "CTX2",
          "CTX3",
          "CA1",
          "CA3",
          "CTX1",
          "CTX2",
          "CTX3",
          "DG",
          "CA1",
          "CA3",
          "CTX1",
          "CTX2",
          "CTX3",
          "DG",
          "CA1",
          "CA3",
          "CTX1",
          "CTX2",
          "CTX3",
          "DG",
          "CA1",
          "CA3",
          "CTX1",
          "CTX2",
          "CTX3",
          "DG",
          "CA1",
          "CA3",
          "CTX1",
          "CTX2",
          "CTX3",
          "DG",
          "CA1",
          "CA3",
          "CTX1",
          "CTX2",
          "CTX3",
          "DG",
          "CA1",
          "CA3",
          "CTX1",
          "CTX2",
          "CTX3",
          "DG",
          "CA1",
          "CA3",
          "CTX1",
          "CTX2",
          "CTX3",
          "DG",
          "CA1",
          "CA3",
          "CTX1",
          "CTX2",
          "CTX3",
          "DG",
          "CA1",
          "CA3",
          "CTX1",
          "CTX2",
          "CTX3",
          "DG",
          "CA1",
          "CA3",
          "CTX1",
          "CTX2",
          "CTX3",
          "DG",
          "CA1",
          "CA3",
          "CTX1",
          "CTX2",
          "CTX3",
          "DG",
          "CA1",
          "CA3",
          "CTX1",
          "CTX2",
          "CTX3",
          "DG",
          "CA1",
          "CA3",
          "CTX1",
          "CTX2",
          "CTX3",
          "DG",
          "DG",
          "CA1",
          "CA3",
          "CTX1",
          "CTX2",
          "CTX3",
          "DG",
          "CA1",
          "CA3",
          "CTX1",
          "CTX2",
          "CTX3",
          "DG",
          "CA1",
          "CA3",
          "CTX1",
          "CTX2",
          "CTX3",
          "DG",
          "CA1",
          "CA3",
          "CTX1",
          "CTX2",
          "CTX3",
          "DG",
          "CA1",
          "CA3",
          "CTX1",
          "CTX2",
          "CTX3",
          "DG",
          "CA1",
          "CA3",
          "CTX1",
          "CTX2",
          "CTX3",
          "DG",
          "CA1",
          "CA3",
          "CTX1",
          "CTX2",
          "CTX3",
          "DG",
          "CA1",
          "CA3",
          "CTX1",
          "CTX2",
          "CTX3",
          "DG",
          "CA1",
          "CA3",
          "CTX1",
          "CTX2",
          "CTX3",
          "DG",
          "CA1",
          "CA3",
          "CTX1",
          "CTX2",
          "CTX3",
          "DG",
          "DG",
          "CA1",
          "CA3",
          "CTX1",
          "CTX2",
          "CTX3",
          "DG",
          "CA1",
          "CA3",
          "CTX1",
          "CTX2",
          "CTX3",
          "DG",
          "CA1",
          "CA3",
          "CTX1",
          "CTX2",
          "CTX3",
          "DG",
          "CA1",
          "CA3",
          "CTX1",
          "CTX2",
          "CTX3",
          "DG",
          "CA1",
          "CA3",
          "CTX1",
          "CTX2",
          "CTX3",
          "DG",
          "CA1",
          "CA3",
          "CTX1",
          "DG",
          "CA1",
          "CA3",
          "CTX1",
          "CTX2",
          "CTX3",
          "DG",
          "CA1",
          "CA3",
          "CTX1",
          "CTX2",
          "CTX3",
          "DG",
          "CA1",
          "CA3",
          "CTX1",
          "CTX2",
          "CTX3",
          "DG",
          "CA1",
          "CA3",
          "CTX1",
          "CTX2",
          "CTX3",
          "DG",
          "CA1",
          "CA3",
          "CTX1",
          "CTX2",
          "CTX3",
          "DG",
          "CA1",
          "CA3",
          "CTX1",
          "CTX2",
          "CTX3",
          "DG",
          "CA1",
          "CA3",
          "CTX1",
          "CTX2",
          "CTX3",
          "DG",
          "CA1",
          "CA3",
          "CTX1",
          "CTX2",
          "CTX3",
          "DG",
          "CA1",
          "CA3",
          "CTX1",
          "CTX2",
          "CTX3",
          "DG",
          "CA1",
          "CA3",
          "CTX1",
          "CTX2",
          "CTX3",
          "DG",
          "CA1",
          "CA3",
          "CTX1",
          "CTX2",
          "CTX3",
          "DG",
          "CA1",
          "CA3",
          "CTX1",
          "CTX2",
          "CTX3",
          "DG",
          "CA1",
          "CA3",
          "CTX1",
          "CTX2",
          "CTX3",
          "DG",
          "CA1",
          "CA3",
          "CTX1",
          "CTX2",
          "CTX3",
          "DG",
          "CA1",
          "CA3",
          "CTX1",
          "CTX2",
          "CTX3",
          "DG"
         ],
         "xaxis": "x",
         "y": [
          9,
          7,
          24,
          9,
          6,
          14,
          2,
          4,
          20,
          12,
          17,
          14,
          5,
          7,
          7,
          14,
          20,
          12,
          5,
          5,
          20,
          15,
          10,
          2,
          2,
          5,
          13,
          15,
          20,
          1,
          1,
          4,
          3,
          7,
          3,
          4,
          5,
          16,
          15,
          10,
          9,
          1,
          4,
          8,
          10,
          11,
          7,
          92,
          177,
          16,
          238,
          100,
          212,
          8,
          13,
          14,
          51,
          27,
          139,
          14,
          12,
          13,
          20,
          15,
          104,
          66,
          71,
          211,
          72,
          103,
          127,
          4,
          4,
          3,
          18,
          1,
          5,
          7,
          2,
          13,
          13,
          17,
          10,
          10,
          6,
          6,
          9,
          5,
          15,
          3,
          4,
          11,
          0,
          8,
          11,
          0,
          1,
          0,
          10,
          1,
          0,
          6,
          8,
          11,
          15,
          7,
          13,
          6,
          5,
          8,
          15,
          11,
          12,
          4,
          0,
          1,
          2,
          7,
          9,
          17,
          9,
          4,
          11,
          19,
          13,
          4,
          0,
          3,
          13,
          7,
          6,
          2,
          8,
          1,
          6,
          7,
          10,
          11,
          18,
          16,
          30,
          37,
          25,
          59,
          3,
          4,
          5,
          11,
          5,
          4,
          11,
          5,
          20,
          26,
          26,
          19,
          5,
          25,
          10,
          109,
          78,
          125,
          7,
          3,
          14,
          23,
          8,
          5,
          4,
          6,
          11,
          17,
          22,
          4,
          4,
          3,
          3,
          0,
          1,
          1,
          7,
          2,
          5,
          13,
          5,
          21,
          4,
          2,
          2,
          0,
          0,
          2,
          6,
          3,
          4,
          4,
          10,
          8,
          2,
          4,
          4,
          21,
          6,
          9,
          38,
          30,
          18,
          54,
          79,
          13,
          2,
          7,
          14,
          8,
          19,
          64,
          31,
          77,
          103,
          67,
          124,
          10,
          13,
          13,
          72,
          31,
          16,
          6,
          4,
          21,
          15,
          13,
          8,
          17,
          6,
          14,
          15,
          9,
          28,
          2,
          1,
          0,
          2,
          14,
          6,
          5,
          5,
          4,
          7,
          12,
          13,
          5,
          5,
          4,
          16,
          10,
          9,
          6,
          5,
          22,
          23,
          9,
          17,
          4,
          3,
          5,
          6,
          13,
          7,
          3,
          2,
          1,
          4,
          0,
          6,
          7,
          3,
          12,
          14,
          9,
          10,
          7,
          6,
          12,
          8,
          5,
          18,
          3,
          4,
          11,
          12,
          4,
          2,
          4,
          3,
          4,
          11,
          11,
          5
         ],
         "yaxis": "y"
        }
       ],
       "layout": {
        "legend": {
         "tracegroupgap": 0
        },
        "template": {
         "data": {
          "bar": [
           {
            "error_x": {
             "color": "#2a3f5f"
            },
            "error_y": {
             "color": "#2a3f5f"
            },
            "marker": {
             "line": {
              "color": "#E5ECF6",
              "width": 0.5
             },
             "pattern": {
              "fillmode": "overlay",
              "size": 10,
              "solidity": 0.2
             }
            },
            "type": "bar"
           }
          ],
          "barpolar": [
           {
            "marker": {
             "line": {
              "color": "#E5ECF6",
              "width": 0.5
             },
             "pattern": {
              "fillmode": "overlay",
              "size": 10,
              "solidity": 0.2
             }
            },
            "type": "barpolar"
           }
          ],
          "carpet": [
           {
            "aaxis": {
             "endlinecolor": "#2a3f5f",
             "gridcolor": "white",
             "linecolor": "white",
             "minorgridcolor": "white",
             "startlinecolor": "#2a3f5f"
            },
            "baxis": {
             "endlinecolor": "#2a3f5f",
             "gridcolor": "white",
             "linecolor": "white",
             "minorgridcolor": "white",
             "startlinecolor": "#2a3f5f"
            },
            "type": "carpet"
           }
          ],
          "choropleth": [
           {
            "colorbar": {
             "outlinewidth": 0,
             "ticks": ""
            },
            "type": "choropleth"
           }
          ],
          "contour": [
           {
            "colorbar": {
             "outlinewidth": 0,
             "ticks": ""
            },
            "colorscale": [
             [
              0,
              "#0d0887"
             ],
             [
              0.1111111111111111,
              "#46039f"
             ],
             [
              0.2222222222222222,
              "#7201a8"
             ],
             [
              0.3333333333333333,
              "#9c179e"
             ],
             [
              0.4444444444444444,
              "#bd3786"
             ],
             [
              0.5555555555555556,
              "#d8576b"
             ],
             [
              0.6666666666666666,
              "#ed7953"
             ],
             [
              0.7777777777777778,
              "#fb9f3a"
             ],
             [
              0.8888888888888888,
              "#fdca26"
             ],
             [
              1,
              "#f0f921"
             ]
            ],
            "type": "contour"
           }
          ],
          "contourcarpet": [
           {
            "colorbar": {
             "outlinewidth": 0,
             "ticks": ""
            },
            "type": "contourcarpet"
           }
          ],
          "heatmap": [
           {
            "colorbar": {
             "outlinewidth": 0,
             "ticks": ""
            },
            "colorscale": [
             [
              0,
              "#0d0887"
             ],
             [
              0.1111111111111111,
              "#46039f"
             ],
             [
              0.2222222222222222,
              "#7201a8"
             ],
             [
              0.3333333333333333,
              "#9c179e"
             ],
             [
              0.4444444444444444,
              "#bd3786"
             ],
             [
              0.5555555555555556,
              "#d8576b"
             ],
             [
              0.6666666666666666,
              "#ed7953"
             ],
             [
              0.7777777777777778,
              "#fb9f3a"
             ],
             [
              0.8888888888888888,
              "#fdca26"
             ],
             [
              1,
              "#f0f921"
             ]
            ],
            "type": "heatmap"
           }
          ],
          "heatmapgl": [
           {
            "colorbar": {
             "outlinewidth": 0,
             "ticks": ""
            },
            "colorscale": [
             [
              0,
              "#0d0887"
             ],
             [
              0.1111111111111111,
              "#46039f"
             ],
             [
              0.2222222222222222,
              "#7201a8"
             ],
             [
              0.3333333333333333,
              "#9c179e"
             ],
             [
              0.4444444444444444,
              "#bd3786"
             ],
             [
              0.5555555555555556,
              "#d8576b"
             ],
             [
              0.6666666666666666,
              "#ed7953"
             ],
             [
              0.7777777777777778,
              "#fb9f3a"
             ],
             [
              0.8888888888888888,
              "#fdca26"
             ],
             [
              1,
              "#f0f921"
             ]
            ],
            "type": "heatmapgl"
           }
          ],
          "histogram": [
           {
            "marker": {
             "pattern": {
              "fillmode": "overlay",
              "size": 10,
              "solidity": 0.2
             }
            },
            "type": "histogram"
           }
          ],
          "histogram2d": [
           {
            "colorbar": {
             "outlinewidth": 0,
             "ticks": ""
            },
            "colorscale": [
             [
              0,
              "#0d0887"
             ],
             [
              0.1111111111111111,
              "#46039f"
             ],
             [
              0.2222222222222222,
              "#7201a8"
             ],
             [
              0.3333333333333333,
              "#9c179e"
             ],
             [
              0.4444444444444444,
              "#bd3786"
             ],
             [
              0.5555555555555556,
              "#d8576b"
             ],
             [
              0.6666666666666666,
              "#ed7953"
             ],
             [
              0.7777777777777778,
              "#fb9f3a"
             ],
             [
              0.8888888888888888,
              "#fdca26"
             ],
             [
              1,
              "#f0f921"
             ]
            ],
            "type": "histogram2d"
           }
          ],
          "histogram2dcontour": [
           {
            "colorbar": {
             "outlinewidth": 0,
             "ticks": ""
            },
            "colorscale": [
             [
              0,
              "#0d0887"
             ],
             [
              0.1111111111111111,
              "#46039f"
             ],
             [
              0.2222222222222222,
              "#7201a8"
             ],
             [
              0.3333333333333333,
              "#9c179e"
             ],
             [
              0.4444444444444444,
              "#bd3786"
             ],
             [
              0.5555555555555556,
              "#d8576b"
             ],
             [
              0.6666666666666666,
              "#ed7953"
             ],
             [
              0.7777777777777778,
              "#fb9f3a"
             ],
             [
              0.8888888888888888,
              "#fdca26"
             ],
             [
              1,
              "#f0f921"
             ]
            ],
            "type": "histogram2dcontour"
           }
          ],
          "mesh3d": [
           {
            "colorbar": {
             "outlinewidth": 0,
             "ticks": ""
            },
            "type": "mesh3d"
           }
          ],
          "parcoords": [
           {
            "line": {
             "colorbar": {
              "outlinewidth": 0,
              "ticks": ""
             }
            },
            "type": "parcoords"
           }
          ],
          "pie": [
           {
            "automargin": true,
            "type": "pie"
           }
          ],
          "scatter": [
           {
            "fillpattern": {
             "fillmode": "overlay",
             "size": 10,
             "solidity": 0.2
            },
            "type": "scatter"
           }
          ],
          "scatter3d": [
           {
            "line": {
             "colorbar": {
              "outlinewidth": 0,
              "ticks": ""
             }
            },
            "marker": {
             "colorbar": {
              "outlinewidth": 0,
              "ticks": ""
             }
            },
            "type": "scatter3d"
           }
          ],
          "scattercarpet": [
           {
            "marker": {
             "colorbar": {
              "outlinewidth": 0,
              "ticks": ""
             }
            },
            "type": "scattercarpet"
           }
          ],
          "scattergeo": [
           {
            "marker": {
             "colorbar": {
              "outlinewidth": 0,
              "ticks": ""
             }
            },
            "type": "scattergeo"
           }
          ],
          "scattergl": [
           {
            "marker": {
             "colorbar": {
              "outlinewidth": 0,
              "ticks": ""
             }
            },
            "type": "scattergl"
           }
          ],
          "scattermapbox": [
           {
            "marker": {
             "colorbar": {
              "outlinewidth": 0,
              "ticks": ""
             }
            },
            "type": "scattermapbox"
           }
          ],
          "scatterpolar": [
           {
            "marker": {
             "colorbar": {
              "outlinewidth": 0,
              "ticks": ""
             }
            },
            "type": "scatterpolar"
           }
          ],
          "scatterpolargl": [
           {
            "marker": {
             "colorbar": {
              "outlinewidth": 0,
              "ticks": ""
             }
            },
            "type": "scatterpolargl"
           }
          ],
          "scatterternary": [
           {
            "marker": {
             "colorbar": {
              "outlinewidth": 0,
              "ticks": ""
             }
            },
            "type": "scatterternary"
           }
          ],
          "surface": [
           {
            "colorbar": {
             "outlinewidth": 0,
             "ticks": ""
            },
            "colorscale": [
             [
              0,
              "#0d0887"
             ],
             [
              0.1111111111111111,
              "#46039f"
             ],
             [
              0.2222222222222222,
              "#7201a8"
             ],
             [
              0.3333333333333333,
              "#9c179e"
             ],
             [
              0.4444444444444444,
              "#bd3786"
             ],
             [
              0.5555555555555556,
              "#d8576b"
             ],
             [
              0.6666666666666666,
              "#ed7953"
             ],
             [
              0.7777777777777778,
              "#fb9f3a"
             ],
             [
              0.8888888888888888,
              "#fdca26"
             ],
             [
              1,
              "#f0f921"
             ]
            ],
            "type": "surface"
           }
          ],
          "table": [
           {
            "cells": {
             "fill": {
              "color": "#EBF0F8"
             },
             "line": {
              "color": "white"
             }
            },
            "header": {
             "fill": {
              "color": "#C8D4E3"
             },
             "line": {
              "color": "white"
             }
            },
            "type": "table"
           }
          ]
         },
         "layout": {
          "annotationdefaults": {
           "arrowcolor": "#2a3f5f",
           "arrowhead": 0,
           "arrowwidth": 1
          },
          "autotypenumbers": "strict",
          "coloraxis": {
           "colorbar": {
            "outlinewidth": 0,
            "ticks": ""
           }
          },
          "colorscale": {
           "diverging": [
            [
             0,
             "#8e0152"
            ],
            [
             0.1,
             "#c51b7d"
            ],
            [
             0.2,
             "#de77ae"
            ],
            [
             0.3,
             "#f1b6da"
            ],
            [
             0.4,
             "#fde0ef"
            ],
            [
             0.5,
             "#f7f7f7"
            ],
            [
             0.6,
             "#e6f5d0"
            ],
            [
             0.7,
             "#b8e186"
            ],
            [
             0.8,
             "#7fbc41"
            ],
            [
             0.9,
             "#4d9221"
            ],
            [
             1,
             "#276419"
            ]
           ],
           "sequential": [
            [
             0,
             "#0d0887"
            ],
            [
             0.1111111111111111,
             "#46039f"
            ],
            [
             0.2222222222222222,
             "#7201a8"
            ],
            [
             0.3333333333333333,
             "#9c179e"
            ],
            [
             0.4444444444444444,
             "#bd3786"
            ],
            [
             0.5555555555555556,
             "#d8576b"
            ],
            [
             0.6666666666666666,
             "#ed7953"
            ],
            [
             0.7777777777777778,
             "#fb9f3a"
            ],
            [
             0.8888888888888888,
             "#fdca26"
            ],
            [
             1,
             "#f0f921"
            ]
           ],
           "sequentialminus": [
            [
             0,
             "#0d0887"
            ],
            [
             0.1111111111111111,
             "#46039f"
            ],
            [
             0.2222222222222222,
             "#7201a8"
            ],
            [
             0.3333333333333333,
             "#9c179e"
            ],
            [
             0.4444444444444444,
             "#bd3786"
            ],
            [
             0.5555555555555556,
             "#d8576b"
            ],
            [
             0.6666666666666666,
             "#ed7953"
            ],
            [
             0.7777777777777778,
             "#fb9f3a"
            ],
            [
             0.8888888888888888,
             "#fdca26"
            ],
            [
             1,
             "#f0f921"
            ]
           ]
          },
          "colorway": [
           "#636efa",
           "#EF553B",
           "#00cc96",
           "#ab63fa",
           "#FFA15A",
           "#19d3f3",
           "#FF6692",
           "#B6E880",
           "#FF97FF",
           "#FECB52"
          ],
          "font": {
           "color": "#2a3f5f"
          },
          "geo": {
           "bgcolor": "white",
           "lakecolor": "white",
           "landcolor": "#E5ECF6",
           "showlakes": true,
           "showland": true,
           "subunitcolor": "white"
          },
          "hoverlabel": {
           "align": "left"
          },
          "hovermode": "closest",
          "mapbox": {
           "style": "light"
          },
          "paper_bgcolor": "white",
          "plot_bgcolor": "#E5ECF6",
          "polar": {
           "angularaxis": {
            "gridcolor": "white",
            "linecolor": "white",
            "ticks": ""
           },
           "bgcolor": "#E5ECF6",
           "radialaxis": {
            "gridcolor": "white",
            "linecolor": "white",
            "ticks": ""
           }
          },
          "scene": {
           "xaxis": {
            "backgroundcolor": "#E5ECF6",
            "gridcolor": "white",
            "gridwidth": 2,
            "linecolor": "white",
            "showbackground": true,
            "ticks": "",
            "zerolinecolor": "white"
           },
           "yaxis": {
            "backgroundcolor": "#E5ECF6",
            "gridcolor": "white",
            "gridwidth": 2,
            "linecolor": "white",
            "showbackground": true,
            "ticks": "",
            "zerolinecolor": "white"
           },
           "zaxis": {
            "backgroundcolor": "#E5ECF6",
            "gridcolor": "white",
            "gridwidth": 2,
            "linecolor": "white",
            "showbackground": true,
            "ticks": "",
            "zerolinecolor": "white"
           }
          },
          "shapedefaults": {
           "line": {
            "color": "#2a3f5f"
           }
          },
          "ternary": {
           "aaxis": {
            "gridcolor": "white",
            "linecolor": "white",
            "ticks": ""
           },
           "baxis": {
            "gridcolor": "white",
            "linecolor": "white",
            "ticks": ""
           },
           "bgcolor": "#E5ECF6",
           "caxis": {
            "gridcolor": "white",
            "linecolor": "white",
            "ticks": ""
           }
          },
          "title": {
           "x": 0.05
          },
          "xaxis": {
           "automargin": true,
           "gridcolor": "white",
           "linecolor": "white",
           "ticks": "",
           "title": {
            "standoff": 15
           },
           "zerolinecolor": "white",
           "zerolinewidth": 2
          },
          "yaxis": {
           "automargin": true,
           "gridcolor": "white",
           "linecolor": "white",
           "ticks": "",
           "title": {
            "standoff": 15
           },
           "zerolinecolor": "white",
           "zerolinewidth": 2
          }
         }
        },
        "title": {
         "text": "Number of DNA damage+ Microglia+ Nuclei by Tissue Location - cellpdia30_sigma1_dilrad4_dnad_obj_seg_v1_gliaero6_gliathr20_dnadero2"
        },
        "xaxis": {
         "anchor": "y",
         "domain": [
          0,
          1
         ],
         "title": {
          "text": "tissue_location"
         }
        },
        "yaxis": {
         "anchor": "x",
         "domain": [
          0,
          1
         ],
         "title": {
          "text": "nr_+_dna_damage_glia_nuclei"
         }
        }
       }
      }
     },
     "metadata": {},
     "output_type": "display_data"
    },
    {
     "data": {
      "application/vnd.plotly.v1+json": {
       "config": {
        "plotlyServerURL": "https://plot.ly"
       },
       "data": [
        {
         "customdata": [
          [
           101,
           0,
           "DSB Iba1 101_40X_CA1"
          ],
          [
           101,
           1,
           "DSB Iba1 101_40X_CA3"
          ],
          [
           101,
           2,
           "DSB Iba1 101_40X_CTX1"
          ],
          [
           101,
           3,
           "DSB Iba1 101_40X_CTX2"
          ],
          [
           101,
           4,
           "DSB Iba1 101_40X_CTX3"
          ],
          [
           101,
           5,
           "DSB Iba1 101_40X_DG"
          ],
          [
           102,
           6,
           "DSB Iba1 102_40X_CA1"
          ],
          [
           102,
           7,
           "DSB Iba1 102_40X_CA3"
          ],
          [
           102,
           8,
           "DSB Iba1 102_40X_CTX1"
          ],
          [
           102,
           9,
           "DSB Iba1 102_40X_CTX2"
          ],
          [
           102,
           10,
           "DSB Iba1 102_40X_CTX3"
          ],
          [
           102,
           11,
           "DSB Iba1 102_40X_DG"
          ],
          [
           103,
           12,
           "DSB Iba1 103_40X_CA1"
          ],
          [
           103,
           13,
           "DSB Iba1 103_40X_CA3"
          ],
          [
           103,
           14,
           "DSB Iba1 103_40X_CTX1"
          ],
          [
           103,
           15,
           "DSB Iba1 103_40X_CTX2"
          ],
          [
           103,
           16,
           "DSB Iba1 103_40X_CTX3"
          ],
          [
           103,
           17,
           "DSB Iba1 103_40X_DG"
          ],
          [
           104,
           18,
           "DSB Iba1 104_40X_CA1"
          ],
          [
           104,
           19,
           "DSB Iba1 104_40X_CA3"
          ],
          [
           104,
           20,
           "DSB Iba1 104_40X_CTX1"
          ],
          [
           104,
           21,
           "DSB Iba1 104_40X_CTX2"
          ],
          [
           104,
           22,
           "DSB Iba1 104_40X_CTX3"
          ],
          [
           104,
           23,
           "DSB Iba1 104_40X_DG"
          ],
          [
           105,
           24,
           "DSB Iba1 105_40X_CA1"
          ],
          [
           105,
           25,
           "DSB Iba1 105_40X_CA3"
          ],
          [
           105,
           26,
           "DSB Iba1 105_40X_CTX1"
          ],
          [
           105,
           27,
           "DSB Iba1 105_40X_CTX2"
          ],
          [
           105,
           28,
           "DSB Iba1 105_40X_CTX3"
          ],
          [
           106,
           29,
           "DSB Iba1 106_40X_CA1"
          ],
          [
           106,
           30,
           "DSB Iba1 106_40X_CA3"
          ],
          [
           106,
           31,
           "DSB Iba1 106_40X_CTX1"
          ],
          [
           106,
           32,
           "DSB Iba1 106_40X_CTX2"
          ],
          [
           106,
           33,
           "DSB Iba1 106_40X_CTX3"
          ],
          [
           106,
           34,
           "DSB Iba1 106_40X_DG"
          ],
          [
           107,
           35,
           "DSB Iba1 107_40X_CA1"
          ],
          [
           107,
           36,
           "DSB Iba1 107_40X_CA3"
          ],
          [
           107,
           37,
           "DSB Iba1 107_40X_CTX1"
          ],
          [
           107,
           38,
           "DSB Iba1 107_40X_CTX2"
          ],
          [
           107,
           39,
           "DSB Iba1 107_40X_CTX3"
          ],
          [
           107,
           40,
           "DSB Iba1 107_40X_DG"
          ],
          [
           108,
           41,
           "DSB Iba1 108_40X_CA1"
          ],
          [
           108,
           42,
           "DSB Iba1 108_40X_CA3"
          ],
          [
           108,
           43,
           "DSB Iba1 108_40X_CTX1"
          ],
          [
           108,
           44,
           "DSB Iba1 108_40X_CTX2"
          ],
          [
           108,
           45,
           "DSB Iba1 108_40X_CTX3"
          ],
          [
           108,
           46,
           "DSB Iba1 108_40X_DG"
          ],
          [
           16,
           47,
           "DSB Iba1 16_40X_CA1"
          ],
          [
           16,
           48,
           "DSB Iba1 16_40X_CA3"
          ],
          [
           16,
           49,
           "DSB Iba1 16_40X_CTX1"
          ],
          [
           16,
           50,
           "DSB Iba1 16_40X_CTX2"
          ],
          [
           16,
           51,
           "DSB Iba1 16_40X_CTX3"
          ],
          [
           16,
           52,
           "DSB Iba1 16_40X_DG"
          ],
          [
           17,
           53,
           "DSB Iba1 17_40X_CA1"
          ],
          [
           17,
           54,
           "DSB Iba1 17_40X_CA3"
          ],
          [
           17,
           55,
           "DSB Iba1 17_40X_CTX1"
          ],
          [
           17,
           56,
           "DSB Iba1 17_40X_CTX2"
          ],
          [
           17,
           57,
           "DSB Iba1 17_40X_CTX3"
          ],
          [
           17,
           58,
           "DSB Iba1 17_40X_DG"
          ],
          [
           18,
           59,
           "DSB Iba1 18_40X_CA1"
          ],
          [
           18,
           60,
           "DSB Iba1 18_40X_CA3"
          ],
          [
           18,
           61,
           "DSB Iba1 18_40X_CTX1"
          ],
          [
           18,
           62,
           "DSB Iba1 18_40X_CTX2"
          ],
          [
           18,
           63,
           "DSB Iba1 18_40X_CTX3"
          ],
          [
           18,
           64,
           "DSB Iba1 18_40X_DG"
          ],
          [
           19,
           65,
           "DSB Iba1 19_40X_CA1"
          ],
          [
           19,
           66,
           "DSB Iba1 19_40X_CA3"
          ],
          [
           19,
           67,
           "DSB Iba1 19_40X_CTX1"
          ],
          [
           19,
           68,
           "DSB Iba1 19_40X_CTX2"
          ],
          [
           19,
           69,
           "DSB Iba1 19_40X_CTX3"
          ],
          [
           19,
           70,
           "DSB Iba1 19_40X_DG"
          ],
          [
           20,
           71,
           "DSB Iba1 20_40X_CA1"
          ],
          [
           20,
           72,
           "DSB Iba1 20_40X_CA3"
          ],
          [
           20,
           73,
           "DSB Iba1 20_40X_CTX1"
          ],
          [
           20,
           74,
           "DSB Iba1 20_40X_CTX2"
          ],
          [
           20,
           75,
           "DSB Iba1 20_40X_CTX3"
          ],
          [
           20,
           76,
           "DSB Iba1 20_40X_DG"
          ],
          [
           21,
           77,
           "DSB Iba1 21_40X_CA1"
          ],
          [
           21,
           78,
           "DSB Iba1 21_40X_CA3"
          ],
          [
           21,
           79,
           "DSB Iba1 21_40X_CTX1"
          ],
          [
           21,
           80,
           "DSB Iba1 21_40X_CTX2"
          ],
          [
           21,
           81,
           "DSB Iba1 21_40X_CTX3"
          ],
          [
           21,
           82,
           "DSB Iba1 21_40X_DG"
          ],
          [
           22,
           83,
           "DSB Iba1 22_40X_CA1"
          ],
          [
           22,
           84,
           "DSB Iba1 22_40X_CA3"
          ],
          [
           22,
           85,
           "DSB Iba1 22_40X_CTX1"
          ],
          [
           22,
           86,
           "DSB Iba1 22_40X_CTX2"
          ],
          [
           22,
           87,
           "DSB Iba1 22_40X_CTX3"
          ],
          [
           22,
           88,
           "DSB Iba1 22_40X_DG"
          ],
          [
           23,
           89,
           "DSB Iba1 23_40X_CA1"
          ],
          [
           23,
           90,
           "DSB Iba1 23_40X_CA3"
          ],
          [
           23,
           91,
           "DSB Iba1 23_40X_CTX1"
          ],
          [
           23,
           92,
           "DSB Iba1 23_40X_CTX2"
          ],
          [
           23,
           93,
           "DSB Iba1 23_40X_CTX3"
          ],
          [
           23,
           94,
           "DSB Iba1 23_40X_DG"
          ],
          [
           24,
           95,
           "DSB Iba1 24_40X_CA1"
          ],
          [
           24,
           96,
           "DSB Iba1 24_40X_CA3"
          ],
          [
           24,
           97,
           "DSB Iba1 24_40X_CTX1"
          ],
          [
           24,
           98,
           "DSB Iba1 24_40X_CTX2"
          ],
          [
           24,
           99,
           "DSB Iba1 24_40X_CTX3"
          ],
          [
           24,
           100,
           "DSB Iba1 24_40X_DG"
          ],
          [
           25,
           101,
           "DSB Iba1 25_40X_CA1"
          ],
          [
           25,
           102,
           "DSB Iba1 25_40X_CA3"
          ],
          [
           25,
           103,
           "DSB Iba1 25_40X_CTX1"
          ],
          [
           25,
           104,
           "DSB Iba1 25_40X_CTX2"
          ],
          [
           25,
           105,
           "DSB Iba1 25_40X_CTX3"
          ],
          [
           25,
           106,
           "DSB Iba1 25_40X_DG"
          ],
          [
           26,
           107,
           "DSB Iba1 26_40X_CA1"
          ],
          [
           26,
           108,
           "DSB Iba1 26_40X_CA3"
          ],
          [
           26,
           109,
           "DSB Iba1 26_40X_CTX1"
          ],
          [
           26,
           110,
           "DSB Iba1 26_40X_CTX2"
          ],
          [
           26,
           111,
           "DSB Iba1 26_40X_CTX3"
          ],
          [
           26,
           112,
           "DSB Iba1 26_40X_DG"
          ],
          [
           27,
           113,
           "DSB Iba1 27_40X_DG"
          ],
          [
           28,
           114,
           "DSB Iba1 28_40X_CA1"
          ],
          [
           28,
           115,
           "DSB Iba1 28_40X_CA3"
          ],
          [
           28,
           116,
           "DSB Iba1 28_40X_CTX1"
          ],
          [
           28,
           117,
           "DSB Iba1 28_40X_CTX2"
          ],
          [
           28,
           118,
           "DSB Iba1 28_40X_CTX3"
          ],
          [
           28,
           119,
           "DSB Iba1 28_40X_DG"
          ],
          [
           29,
           120,
           "DSB Iba1 29_40X_CA1"
          ],
          [
           29,
           121,
           "DSB Iba1 29_40X_CA3"
          ],
          [
           29,
           122,
           "DSB Iba1 29_40X_CTX1"
          ],
          [
           29,
           123,
           "DSB Iba1 29_40X_CTX2"
          ],
          [
           29,
           124,
           "DSB Iba1 29_40X_CTX3"
          ],
          [
           29,
           125,
           "DSB Iba1 29_40X_DG"
          ],
          [
           30,
           126,
           "DSB Iba1 30_40X_CA1"
          ],
          [
           30,
           127,
           "DSB Iba1 30_40X_CA3"
          ],
          [
           30,
           128,
           "DSB Iba1 30_40X_CTX1"
          ],
          [
           30,
           129,
           "DSB Iba1 30_40X_CTX2"
          ],
          [
           30,
           130,
           "DSB Iba1 30_40X_CTX3"
          ],
          [
           30,
           131,
           "DSB Iba1 30_40X_DG"
          ],
          [
           31,
           132,
           "DSB Iba1 31_40X_CA1"
          ],
          [
           31,
           133,
           "DSB Iba1 31_40X_CA3"
          ],
          [
           31,
           134,
           "DSB Iba1 31_40X_CTX1"
          ],
          [
           31,
           135,
           "DSB Iba1 31_40X_CTX2"
          ],
          [
           31,
           136,
           "DSB Iba1 31_40X_CTX3"
          ],
          [
           31,
           137,
           "DSB Iba1 31_40X_DG"
          ],
          [
           32,
           138,
           "DSB Iba1 32_40X_CA1"
          ],
          [
           32,
           139,
           "DSB Iba1 32_40X_CA3"
          ],
          [
           32,
           140,
           "DSB Iba1 32_40X_CTX1"
          ],
          [
           32,
           141,
           "DSB Iba1 32_40X_CTX2"
          ],
          [
           32,
           142,
           "DSB Iba1 32_40X_CTX3"
          ],
          [
           32,
           143,
           "DSB Iba1 32_40X_DG"
          ],
          [
           33,
           144,
           "DSB Iba1 33_40X_CA1"
          ],
          [
           33,
           145,
           "DSB Iba1 33_40X_CA3"
          ],
          [
           33,
           146,
           "DSB Iba1 33_40X_CTX1"
          ],
          [
           33,
           147,
           "DSB Iba1 33_40X_CTX2"
          ],
          [
           33,
           148,
           "DSB Iba1 33_40X_CTX3"
          ],
          [
           33,
           149,
           "DSB Iba1 33_40X_DG"
          ],
          [
           34,
           150,
           "DSB Iba1 34_40X_CA1"
          ],
          [
           34,
           151,
           "DSB Iba1 34_40X_CA3"
          ],
          [
           34,
           152,
           "DSB Iba1 34_40X_CTX1"
          ],
          [
           34,
           153,
           "DSB Iba1 34_40X_CTX2"
          ],
          [
           34,
           154,
           "DSB Iba1 34_40X_CTX3"
          ],
          [
           34,
           155,
           "DSB Iba1 34_40X_DG"
          ],
          [
           35,
           156,
           "DSB Iba1 35_40X_CA1"
          ],
          [
           35,
           157,
           "DSB Iba1 35_40X_CA3"
          ],
          [
           35,
           158,
           "DSB Iba1 35_40X_CTX1"
          ],
          [
           35,
           159,
           "DSB Iba1 35_40X_CTX2"
          ],
          [
           35,
           160,
           "DSB Iba1 35_40X_CTX3"
          ],
          [
           35,
           161,
           "DSB Iba1 35_40X_DG"
          ],
          [
           36,
           162,
           "DSB Iba1 36_40X_CA1"
          ],
          [
           36,
           163,
           "DSB Iba1 36_40X_CA3"
          ],
          [
           36,
           164,
           "DSB Iba1 36_40X_CTX1"
          ],
          [
           36,
           165,
           "DSB Iba1 36_40X_CTX2"
          ],
          [
           36,
           166,
           "DSB Iba1 36_40X_CTX3"
          ],
          [
           36,
           167,
           "DSB Iba1 36_40X_DG"
          ],
          [
           37,
           168,
           "DSB Iba1 37_40X_CA1"
          ],
          [
           37,
           169,
           "DSB Iba1 37_40X_CA3"
          ],
          [
           37,
           170,
           "DSB Iba1 37_40X_CTX1"
          ],
          [
           37,
           171,
           "DSB Iba1 37_40X_CTX2"
          ],
          [
           37,
           172,
           "DSB Iba1 37_40X_CTX3"
          ],
          [
           37,
           173,
           "DSB Iba1 37_40X_DG"
          ],
          [
           38,
           174,
           "DSB Iba1 38_40X_DG"
          ],
          [
           39,
           175,
           "DSB Iba1 39_40X_CA1"
          ],
          [
           39,
           176,
           "DSB Iba1 39_40X_CA3"
          ],
          [
           39,
           177,
           "DSB Iba1 39_40X_CTX1"
          ],
          [
           39,
           178,
           "DSB Iba1 39_40X_CTX2"
          ],
          [
           39,
           179,
           "DSB Iba1 39_40X_CTX3"
          ],
          [
           39,
           180,
           "DSB Iba1 39_40X_DG"
          ],
          [
           40,
           181,
           "DSB Iba1 40_40X_CA1"
          ],
          [
           40,
           182,
           "DSB Iba1 40_40X_CA3"
          ],
          [
           40,
           183,
           "DSB Iba1 40_40X_CTX1"
          ],
          [
           40,
           184,
           "DSB Iba1 40_40X_CTX2"
          ],
          [
           40,
           185,
           "DSB Iba1 40_40X_CTX3"
          ],
          [
           40,
           186,
           "DSB Iba1 40_40X_DG"
          ],
          [
           41,
           187,
           "DSB Iba1 41_40X_CA1"
          ],
          [
           41,
           188,
           "DSB Iba1 41_40X_CA3"
          ],
          [
           41,
           189,
           "DSB Iba1 41_40X_CTX1"
          ],
          [
           41,
           190,
           "DSB Iba1 41_40X_CTX2"
          ],
          [
           41,
           191,
           "DSB Iba1 41_40X_CTX3"
          ],
          [
           41,
           192,
           "DSB Iba1 41_40X_DG"
          ],
          [
           42,
           193,
           "DSB Iba1 42_40X_CA1"
          ],
          [
           42,
           194,
           "DSB Iba1 42_40X_CA3"
          ],
          [
           42,
           195,
           "DSB Iba1 42_40X_CTX1"
          ],
          [
           42,
           196,
           "DSB Iba1 42_40X_CTX2"
          ],
          [
           42,
           197,
           "DSB Iba1 42_40X_CTX3"
          ],
          [
           42,
           198,
           "DSB Iba1 42_40X_DG"
          ],
          [
           43,
           199,
           "DSB Iba1 43_40X_CA1"
          ],
          [
           43,
           200,
           "DSB Iba1 43_40X_CA3"
          ],
          [
           43,
           201,
           "DSB Iba1 43_40X_CTX1"
          ],
          [
           43,
           202,
           "DSB Iba1 43_40X_CTX2"
          ],
          [
           43,
           203,
           "DSB Iba1 43_40X_CTX3"
          ],
          [
           43,
           204,
           "DSB Iba1 43_40X_DG"
          ],
          [
           44,
           205,
           "DSB Iba1 44_40X_CA1"
          ],
          [
           44,
           206,
           "DSB Iba1 44_40X_CA3"
          ],
          [
           44,
           207,
           "DSB Iba1 44_40X_CTX1"
          ],
          [
           44,
           208,
           "DSB Iba1 44_40X_DG"
          ],
          [
           45,
           209,
           "DSB Iba1 45_40X_CA1"
          ],
          [
           45,
           210,
           "DSB Iba1 45_40X_CA3"
          ],
          [
           45,
           211,
           "DSB Iba1 45_40X_CTX1"
          ],
          [
           45,
           212,
           "DSB Iba1 45_40X_CTX2"
          ],
          [
           45,
           213,
           "DSB Iba1 45_40X_CTX3"
          ],
          [
           45,
           214,
           "DSB Iba1 45_40X_DG"
          ],
          [
           46,
           215,
           "DSB Iba1 46_40X_CA1"
          ],
          [
           46,
           216,
           "DSB Iba1 46_40X_CA3"
          ],
          [
           46,
           217,
           "DSB Iba1 46_40X_CTX1"
          ],
          [
           46,
           218,
           "DSB Iba1 46_40X_CTX2"
          ],
          [
           46,
           219,
           "DSB Iba1 46_40X_CTX3"
          ],
          [
           46,
           220,
           "DSB Iba1 46_40X_DG"
          ],
          [
           47,
           221,
           "DSB Iba1 47_40X_CA1"
          ],
          [
           47,
           222,
           "DSB Iba1 47_40X_CA3"
          ],
          [
           47,
           223,
           "DSB Iba1 47_40X_CTX1"
          ],
          [
           47,
           224,
           "DSB Iba1 47_40X_CTX2"
          ],
          [
           47,
           225,
           "DSB Iba1 47_40X_CTX3"
          ],
          [
           47,
           226,
           "DSB Iba1 47_40X_DG"
          ],
          [
           48,
           227,
           "DSB Iba1 48_40X_CA1"
          ],
          [
           48,
           228,
           "DSB Iba1 48_40X_CA3"
          ],
          [
           48,
           229,
           "DSB Iba1 48_40X_CTX1"
          ],
          [
           48,
           230,
           "DSB Iba1 48_40X_CTX2"
          ],
          [
           48,
           231,
           "DSB Iba1 48_40X_CTX3"
          ],
          [
           48,
           232,
           "DSB Iba1 48_40X_DG"
          ],
          [
           49,
           233,
           "DSB Iba1 49_40X_CA1"
          ],
          [
           49,
           234,
           "DSB Iba1 49_40X_CA3"
          ],
          [
           49,
           235,
           "DSB Iba1 49_40X_CTX1"
          ],
          [
           49,
           236,
           "DSB Iba1 49_40X_CTX2"
          ],
          [
           49,
           237,
           "DSB Iba1 49_40X_CTX3"
          ],
          [
           49,
           238,
           "DSB Iba1 49_40X_DG"
          ],
          [
           50,
           239,
           "DSB Iba1 50_40X_CA1"
          ],
          [
           50,
           240,
           "DSB Iba1 50_40X_CA3"
          ],
          [
           50,
           241,
           "DSB Iba1 50_40X_CTX1"
          ],
          [
           50,
           242,
           "DSB Iba1 50_40X_CTX2"
          ],
          [
           50,
           243,
           "DSB Iba1 50_40X_CTX3"
          ],
          [
           50,
           244,
           "DSB Iba1 50_40X_DG"
          ],
          [
           51,
           245,
           "DSB Iba1 51_40X_CA1"
          ],
          [
           51,
           246,
           "DSB Iba1 51_40X_CA3"
          ],
          [
           51,
           247,
           "DSB Iba1 51_40X_CTX1"
          ],
          [
           51,
           248,
           "DSB Iba1 51_40X_CTX2"
          ],
          [
           51,
           249,
           "DSB Iba1 51_40X_CTX3"
          ],
          [
           51,
           250,
           "DSB Iba1 51_40X_DG"
          ],
          [
           52,
           251,
           "DSB Iba1 52_40X_CA1"
          ],
          [
           52,
           252,
           "DSB Iba1 52_40X_CA3"
          ],
          [
           52,
           253,
           "DSB Iba1 52_40X_CTX1"
          ],
          [
           52,
           254,
           "DSB Iba1 52_40X_CTX2"
          ],
          [
           52,
           255,
           "DSB Iba1 52_40X_CTX3"
          ],
          [
           52,
           256,
           "DSB Iba1 52_40X_DG"
          ],
          [
           53,
           257,
           "DSB Iba1 53_40X_CA1"
          ],
          [
           53,
           258,
           "DSB Iba1 53_40X_CA3"
          ],
          [
           53,
           259,
           "DSB Iba1 53_40X_CTX1"
          ],
          [
           53,
           260,
           "DSB Iba1 53_40X_CTX2"
          ],
          [
           53,
           261,
           "DSB Iba1 53_40X_CTX3"
          ],
          [
           53,
           262,
           "DSB Iba1 53_40X_DG"
          ],
          [
           54,
           263,
           "DSB Iba1 54_40X_CA1"
          ],
          [
           54,
           264,
           "DSB Iba1 54_40X_CA3"
          ],
          [
           54,
           265,
           "DSB Iba1 54_40X_CTX1"
          ],
          [
           54,
           266,
           "DSB Iba1 54_40X_CTX2"
          ],
          [
           54,
           267,
           "DSB Iba1 54_40X_CTX3"
          ],
          [
           54,
           268,
           "DSB Iba1 54_40X_DG"
          ],
          [
           55,
           269,
           "DSB Iba1 55_40X_CA1"
          ],
          [
           55,
           270,
           "DSB Iba1 55_40X_CA3"
          ],
          [
           55,
           271,
           "DSB Iba1 55_40X_CTX1"
          ],
          [
           55,
           272,
           "DSB Iba1 55_40X_CTX2"
          ],
          [
           55,
           273,
           "DSB Iba1 55_40X_CTX3"
          ],
          [
           55,
           274,
           "DSB Iba1 55_40X_DG"
          ],
          [
           56,
           275,
           "DSB Iba1 56_40X_CA1"
          ],
          [
           56,
           276,
           "DSB Iba1 56_40X_CA3"
          ],
          [
           56,
           277,
           "DSB Iba1 56_40X_CTX1"
          ],
          [
           56,
           278,
           "DSB Iba1 56_40X_CTX2"
          ],
          [
           56,
           279,
           "DSB Iba1 56_40X_CTX3"
          ],
          [
           56,
           280,
           "DSB Iba1 56_40X_DG"
          ],
          [
           57,
           281,
           "DSB Iba1 57_40X_CA1"
          ],
          [
           57,
           282,
           "DSB Iba1 57_40X_CA3"
          ],
          [
           57,
           283,
           "DSB Iba1 57_40X_CTX1"
          ],
          [
           57,
           284,
           "DSB Iba1 57_40X_CTX2"
          ],
          [
           57,
           285,
           "DSB Iba1 57_40X_CTX3"
          ],
          [
           57,
           286,
           "DSB Iba1 57_40X_DG"
          ],
          [
           58,
           287,
           "DSB Iba1 58_40X_CA1"
          ],
          [
           58,
           288,
           "DSB Iba1 58_40X_CA3"
          ],
          [
           58,
           289,
           "DSB Iba1 58_40X_CTX1"
          ],
          [
           58,
           290,
           "DSB Iba1 58_40X_CTX2"
          ],
          [
           58,
           291,
           "DSB Iba1 58_40X_CTX3"
          ],
          [
           58,
           292,
           "DSB Iba1 58_40X_DG"
          ],
          [
           59,
           293,
           "DSB Iba1 59_40X_CA1"
          ],
          [
           59,
           294,
           "DSB Iba1 59_40X_CA3"
          ],
          [
           59,
           295,
           "DSB Iba1 59_40X_CTX1"
          ],
          [
           59,
           296,
           "DSB Iba1 59_40X_CTX2"
          ],
          [
           59,
           297,
           "DSB Iba1 59_40X_CTX3"
          ],
          [
           59,
           298,
           "DSB Iba1 59_40X_DG"
          ]
         ],
         "hovertemplate": "tissue_location=%{x}<br>avg_dna_damage_foci/glia_+=%{y}<br>staining_id=%{customdata[0]}<br>index=%{customdata[1]}<br>filename=%{customdata[2]}<extra></extra>",
         "legendgroup": "",
         "marker": {
          "color": "#636efa",
          "symbol": "circle"
         },
         "mode": "markers",
         "name": "",
         "orientation": "v",
         "showlegend": false,
         "type": "scatter",
         "x": [
          "CA1",
          "CA3",
          "CTX1",
          "CTX2",
          "CTX3",
          "DG",
          "CA1",
          "CA3",
          "CTX1",
          "CTX2",
          "CTX3",
          "DG",
          "CA1",
          "CA3",
          "CTX1",
          "CTX2",
          "CTX3",
          "DG",
          "CA1",
          "CA3",
          "CTX1",
          "CTX2",
          "CTX3",
          "DG",
          "CA1",
          "CA3",
          "CTX1",
          "CTX2",
          "CTX3",
          "CA1",
          "CA3",
          "CTX1",
          "CTX2",
          "CTX3",
          "DG",
          "CA1",
          "CA3",
          "CTX1",
          "CTX2",
          "CTX3",
          "DG",
          "CA1",
          "CA3",
          "CTX1",
          "CTX2",
          "CTX3",
          "DG",
          "CA1",
          "CA3",
          "CTX1",
          "CTX2",
          "CTX3",
          "DG",
          "CA1",
          "CA3",
          "CTX1",
          "CTX2",
          "CTX3",
          "DG",
          "CA1",
          "CA3",
          "CTX1",
          "CTX2",
          "CTX3",
          "DG",
          "CA1",
          "CA3",
          "CTX1",
          "CTX2",
          "CTX3",
          "DG",
          "CA1",
          "CA3",
          "CTX1",
          "CTX2",
          "CTX3",
          "DG",
          "CA1",
          "CA3",
          "CTX1",
          "CTX2",
          "CTX3",
          "DG",
          "CA1",
          "CA3",
          "CTX1",
          "CTX2",
          "CTX3",
          "DG",
          "CA1",
          "CA3",
          "CTX1",
          "CTX2",
          "CTX3",
          "DG",
          "CA1",
          "CA3",
          "CTX1",
          "CTX2",
          "CTX3",
          "DG",
          "CA1",
          "CA3",
          "CTX1",
          "CTX2",
          "CTX3",
          "DG",
          "CA1",
          "CA3",
          "CTX1",
          "CTX2",
          "CTX3",
          "DG",
          "DG",
          "CA1",
          "CA3",
          "CTX1",
          "CTX2",
          "CTX3",
          "DG",
          "CA1",
          "CA3",
          "CTX1",
          "CTX2",
          "CTX3",
          "DG",
          "CA1",
          "CA3",
          "CTX1",
          "CTX2",
          "CTX3",
          "DG",
          "CA1",
          "CA3",
          "CTX1",
          "CTX2",
          "CTX3",
          "DG",
          "CA1",
          "CA3",
          "CTX1",
          "CTX2",
          "CTX3",
          "DG",
          "CA1",
          "CA3",
          "CTX1",
          "CTX2",
          "CTX3",
          "DG",
          "CA1",
          "CA3",
          "CTX1",
          "CTX2",
          "CTX3",
          "DG",
          "CA1",
          "CA3",
          "CTX1",
          "CTX2",
          "CTX3",
          "DG",
          "CA1",
          "CA3",
          "CTX1",
          "CTX2",
          "CTX3",
          "DG",
          "CA1",
          "CA3",
          "CTX1",
          "CTX2",
          "CTX3",
          "DG",
          "DG",
          "CA1",
          "CA3",
          "CTX1",
          "CTX2",
          "CTX3",
          "DG",
          "CA1",
          "CA3",
          "CTX1",
          "CTX2",
          "CTX3",
          "DG",
          "CA1",
          "CA3",
          "CTX1",
          "CTX2",
          "CTX3",
          "DG",
          "CA1",
          "CA3",
          "CTX1",
          "CTX2",
          "CTX3",
          "DG",
          "CA1",
          "CA3",
          "CTX1",
          "CTX2",
          "CTX3",
          "DG",
          "CA1",
          "CA3",
          "CTX1",
          "DG",
          "CA1",
          "CA3",
          "CTX1",
          "CTX2",
          "CTX3",
          "DG",
          "CA1",
          "CA3",
          "CTX1",
          "CTX2",
          "CTX3",
          "DG",
          "CA1",
          "CA3",
          "CTX1",
          "CTX2",
          "CTX3",
          "DG",
          "CA1",
          "CA3",
          "CTX1",
          "CTX2",
          "CTX3",
          "DG",
          "CA1",
          "CA3",
          "CTX1",
          "CTX2",
          "CTX3",
          "DG",
          "CA1",
          "CA3",
          "CTX1",
          "CTX2",
          "CTX3",
          "DG",
          "CA1",
          "CA3",
          "CTX1",
          "CTX2",
          "CTX3",
          "DG",
          "CA1",
          "CA3",
          "CTX1",
          "CTX2",
          "CTX3",
          "DG",
          "CA1",
          "CA3",
          "CTX1",
          "CTX2",
          "CTX3",
          "DG",
          "CA1",
          "CA3",
          "CTX1",
          "CTX2",
          "CTX3",
          "DG",
          "CA1",
          "CA3",
          "CTX1",
          "CTX2",
          "CTX3",
          "DG",
          "CA1",
          "CA3",
          "CTX1",
          "CTX2",
          "CTX3",
          "DG",
          "CA1",
          "CA3",
          "CTX1",
          "CTX2",
          "CTX3",
          "DG",
          "CA1",
          "CA3",
          "CTX1",
          "CTX2",
          "CTX3",
          "DG",
          "CA1",
          "CA3",
          "CTX1",
          "CTX2",
          "CTX3",
          "DG"
         ],
         "xaxis": "x",
         "y": [
          1,
          0.7777777777777778,
          1.1,
          1.3636363636363635,
          0.5333333333333333,
          1.2,
          0.2222222222222222,
          1,
          0.8333333333333334,
          1.0952380952380951,
          1.0454545454545454,
          1.1,
          1,
          1.2,
          0.4444444444444444,
          1.3888888888888888,
          1.7142857142857142,
          0.8235294117647058,
          0.5454545454545454,
          0.6666666666666666,
          1.0714285714285714,
          1.631578947368421,
          0.9285714285714286,
          0.5,
          0.5,
          0.7142857142857143,
          0.9090909090909092,
          1.368421052631579,
          1.4583333333333333,
          0.1428571428571428,
          0.5,
          0.4545454545454545,
          0.6,
          1.3,
          0.5,
          0.8571428571428571,
          0.75,
          0.8928571428571429,
          1.2,
          0.8666666666666667,
          0.9333333333333332,
          0.6666666666666666,
          1.4,
          0.6428571428571429,
          1.181818181818182,
          1.5,
          0.9,
          0.9365079365079364,
          4.513513513513513,
          0.6428571428571429,
          2.240663900414938,
          2.019230769230769,
          0.6628959276018099,
          1.818181818181818,
          1.3157894736842106,
          2.411764705882353,
          2.8461538461538463,
          2.6296296296296298,
          3.12751677852349,
          1.3571428571428572,
          1.9166666666666667,
          1.8421052631578947,
          3.2,
          3.0588235294117645,
          1.1826923076923077,
          1,
          1.0140845070422535,
          1.004739336492891,
          1.0138888888888888,
          1,
          1,
          1,
          1.6,
          1,
          1.5,
          0.6666666666666666,
          1,
          1,
          0.5,
          1.588235294117647,
          1.2666666666666666,
          1.4782608695652173,
          0.9333333333333332,
          1,
          2.1666666666666665,
          1.5,
          1.0588235294117647,
          1.25,
          1.7647058823529411,
          1,
          0.875,
          0.56,
          0,
          0.9090909090909092,
          1,
          0,
          0.25,
          0,
          0.7058823529411765,
          0.0769230769230769,
          0,
          1.375,
          1.2222222222222223,
          0.56,
          1.65,
          1.3333333333333333,
          2.1333333333333333,
          2.571428571428572,
          3.6,
          1.5,
          1.6666666666666667,
          1.818181818181818,
          4.166666666666667,
          2.5,
          0,
          1,
          1,
          0.8461538461538461,
          1.0909090909090908,
          2.823529411764706,
          1.4,
          1,
          1.125,
          1.1923076923076923,
          0.9375,
          1,
          0,
          1,
          0.7692307692307693,
          0.5,
          0.6153846153846154,
          0.8,
          1.3636363636363635,
          2,
          1,
          0.5882352941176471,
          1.1538461538461535,
          1.5,
          4.277777777777778,
          1.7058823529411764,
          2.3870967741935485,
          1.6578947368421053,
          2.814814814814815,
          2.80327868852459,
          1,
          1,
          0.7,
          1.2666666666666666,
          0.7777777777777778,
          1,
          3.090909090909091,
          2.8,
          2.4545454545454546,
          2.185185185185185,
          1.8846153846153848,
          2.3684210526315788,
          0.9,
          2.6206896551724137,
          1.1111111111111112,
          2.045045045045045,
          2.325,
          2.485074626865672,
          1.25,
          1,
          1.875,
          1.4482758620689655,
          1.7,
          1.6,
          1,
          0.7272727272727273,
          1.7692307692307692,
          1.5833333333333333,
          1.793103448275862,
          1.4285714285714286,
          1,
          1.3333333333333333,
          0.6,
          0,
          0.4,
          1,
          1.375,
          0.5,
          0.625,
          0.95,
          0.8181818181818182,
          1.375,
          1.8,
          0.5,
          0.5,
          null,
          0,
          0.6,
          1,
          1.3333333333333333,
          1.3333333333333333,
          1,
          1,
          1.5,
          1,
          0.4545454545454545,
          0.7142857142857143,
          2.071428571428572,
          0.5,
          0.9166666666666666,
          2.871794871794872,
          1.4193548387096775,
          1.1111111111111112,
          1.0925925925925926,
          1.1772151898734178,
          2,
          1.6666666666666667,
          0.75,
          0.8,
          0.7647058823529411,
          2.0454545454545454,
          2.303030303030303,
          2.6666666666666665,
          1.8481012658227849,
          1.4807692307692308,
          1.9558823529411764,
          2.129032258064516,
          1.1176470588235294,
          2.117647058823529,
          0.6111111111111112,
          2.6486486486486487,
          1.7027027027027026,
          4.75,
          1.4285714285714286,
          1.25,
          0.9428571428571428,
          1,
          1,
          1.1538461538461535,
          2.176470588235294,
          0.625,
          1.25,
          1.7777777777777777,
          0.5882352941176471,
          2,
          0.1538461538461538,
          0.1111111111111111,
          0,
          0.1428571428571428,
          0.6451612903225806,
          0.4666666666666667,
          0.6,
          1,
          0.3888888888888889,
          0.3333333333333333,
          0.6153846153846154,
          0.8181818181818182,
          1.2,
          1,
          0.3478260869565217,
          0.6451612903225806,
          0.5384615384615384,
          0.875,
          2,
          1.3333333333333333,
          1.9583333333333333,
          2,
          1.7692307692307692,
          1.8333333333333333,
          1.4,
          1.3333333333333333,
          0.6,
          1,
          1.2,
          0.7692307692307693,
          0.4285714285714285,
          0.6666666666666666,
          0.125,
          0.6666666666666666,
          0,
          0.7272727272727273,
          1,
          0.4166666666666667,
          0.9523809523809524,
          0.782608695652174,
          0.2777777777777778,
          1.1875,
          0.9090909090909092,
          1.375,
          1.4285714285714286,
          0.75,
          0.5454545454545454,
          1.1071428571428572,
          1.25,
          0.6666666666666666,
          1.1764705882352942,
          1.1875,
          1,
          1.5,
          0.8,
          0.8,
          0.7777777777777778,
          0.6,
          0.6956521739130435,
          1.5
         ],
         "yaxis": "y"
        }
       ],
       "layout": {
        "legend": {
         "tracegroupgap": 0
        },
        "template": {
         "data": {
          "bar": [
           {
            "error_x": {
             "color": "#2a3f5f"
            },
            "error_y": {
             "color": "#2a3f5f"
            },
            "marker": {
             "line": {
              "color": "#E5ECF6",
              "width": 0.5
             },
             "pattern": {
              "fillmode": "overlay",
              "size": 10,
              "solidity": 0.2
             }
            },
            "type": "bar"
           }
          ],
          "barpolar": [
           {
            "marker": {
             "line": {
              "color": "#E5ECF6",
              "width": 0.5
             },
             "pattern": {
              "fillmode": "overlay",
              "size": 10,
              "solidity": 0.2
             }
            },
            "type": "barpolar"
           }
          ],
          "carpet": [
           {
            "aaxis": {
             "endlinecolor": "#2a3f5f",
             "gridcolor": "white",
             "linecolor": "white",
             "minorgridcolor": "white",
             "startlinecolor": "#2a3f5f"
            },
            "baxis": {
             "endlinecolor": "#2a3f5f",
             "gridcolor": "white",
             "linecolor": "white",
             "minorgridcolor": "white",
             "startlinecolor": "#2a3f5f"
            },
            "type": "carpet"
           }
          ],
          "choropleth": [
           {
            "colorbar": {
             "outlinewidth": 0,
             "ticks": ""
            },
            "type": "choropleth"
           }
          ],
          "contour": [
           {
            "colorbar": {
             "outlinewidth": 0,
             "ticks": ""
            },
            "colorscale": [
             [
              0,
              "#0d0887"
             ],
             [
              0.1111111111111111,
              "#46039f"
             ],
             [
              0.2222222222222222,
              "#7201a8"
             ],
             [
              0.3333333333333333,
              "#9c179e"
             ],
             [
              0.4444444444444444,
              "#bd3786"
             ],
             [
              0.5555555555555556,
              "#d8576b"
             ],
             [
              0.6666666666666666,
              "#ed7953"
             ],
             [
              0.7777777777777778,
              "#fb9f3a"
             ],
             [
              0.8888888888888888,
              "#fdca26"
             ],
             [
              1,
              "#f0f921"
             ]
            ],
            "type": "contour"
           }
          ],
          "contourcarpet": [
           {
            "colorbar": {
             "outlinewidth": 0,
             "ticks": ""
            },
            "type": "contourcarpet"
           }
          ],
          "heatmap": [
           {
            "colorbar": {
             "outlinewidth": 0,
             "ticks": ""
            },
            "colorscale": [
             [
              0,
              "#0d0887"
             ],
             [
              0.1111111111111111,
              "#46039f"
             ],
             [
              0.2222222222222222,
              "#7201a8"
             ],
             [
              0.3333333333333333,
              "#9c179e"
             ],
             [
              0.4444444444444444,
              "#bd3786"
             ],
             [
              0.5555555555555556,
              "#d8576b"
             ],
             [
              0.6666666666666666,
              "#ed7953"
             ],
             [
              0.7777777777777778,
              "#fb9f3a"
             ],
             [
              0.8888888888888888,
              "#fdca26"
             ],
             [
              1,
              "#f0f921"
             ]
            ],
            "type": "heatmap"
           }
          ],
          "heatmapgl": [
           {
            "colorbar": {
             "outlinewidth": 0,
             "ticks": ""
            },
            "colorscale": [
             [
              0,
              "#0d0887"
             ],
             [
              0.1111111111111111,
              "#46039f"
             ],
             [
              0.2222222222222222,
              "#7201a8"
             ],
             [
              0.3333333333333333,
              "#9c179e"
             ],
             [
              0.4444444444444444,
              "#bd3786"
             ],
             [
              0.5555555555555556,
              "#d8576b"
             ],
             [
              0.6666666666666666,
              "#ed7953"
             ],
             [
              0.7777777777777778,
              "#fb9f3a"
             ],
             [
              0.8888888888888888,
              "#fdca26"
             ],
             [
              1,
              "#f0f921"
             ]
            ],
            "type": "heatmapgl"
           }
          ],
          "histogram": [
           {
            "marker": {
             "pattern": {
              "fillmode": "overlay",
              "size": 10,
              "solidity": 0.2
             }
            },
            "type": "histogram"
           }
          ],
          "histogram2d": [
           {
            "colorbar": {
             "outlinewidth": 0,
             "ticks": ""
            },
            "colorscale": [
             [
              0,
              "#0d0887"
             ],
             [
              0.1111111111111111,
              "#46039f"
             ],
             [
              0.2222222222222222,
              "#7201a8"
             ],
             [
              0.3333333333333333,
              "#9c179e"
             ],
             [
              0.4444444444444444,
              "#bd3786"
             ],
             [
              0.5555555555555556,
              "#d8576b"
             ],
             [
              0.6666666666666666,
              "#ed7953"
             ],
             [
              0.7777777777777778,
              "#fb9f3a"
             ],
             [
              0.8888888888888888,
              "#fdca26"
             ],
             [
              1,
              "#f0f921"
             ]
            ],
            "type": "histogram2d"
           }
          ],
          "histogram2dcontour": [
           {
            "colorbar": {
             "outlinewidth": 0,
             "ticks": ""
            },
            "colorscale": [
             [
              0,
              "#0d0887"
             ],
             [
              0.1111111111111111,
              "#46039f"
             ],
             [
              0.2222222222222222,
              "#7201a8"
             ],
             [
              0.3333333333333333,
              "#9c179e"
             ],
             [
              0.4444444444444444,
              "#bd3786"
             ],
             [
              0.5555555555555556,
              "#d8576b"
             ],
             [
              0.6666666666666666,
              "#ed7953"
             ],
             [
              0.7777777777777778,
              "#fb9f3a"
             ],
             [
              0.8888888888888888,
              "#fdca26"
             ],
             [
              1,
              "#f0f921"
             ]
            ],
            "type": "histogram2dcontour"
           }
          ],
          "mesh3d": [
           {
            "colorbar": {
             "outlinewidth": 0,
             "ticks": ""
            },
            "type": "mesh3d"
           }
          ],
          "parcoords": [
           {
            "line": {
             "colorbar": {
              "outlinewidth": 0,
              "ticks": ""
             }
            },
            "type": "parcoords"
           }
          ],
          "pie": [
           {
            "automargin": true,
            "type": "pie"
           }
          ],
          "scatter": [
           {
            "fillpattern": {
             "fillmode": "overlay",
             "size": 10,
             "solidity": 0.2
            },
            "type": "scatter"
           }
          ],
          "scatter3d": [
           {
            "line": {
             "colorbar": {
              "outlinewidth": 0,
              "ticks": ""
             }
            },
            "marker": {
             "colorbar": {
              "outlinewidth": 0,
              "ticks": ""
             }
            },
            "type": "scatter3d"
           }
          ],
          "scattercarpet": [
           {
            "marker": {
             "colorbar": {
              "outlinewidth": 0,
              "ticks": ""
             }
            },
            "type": "scattercarpet"
           }
          ],
          "scattergeo": [
           {
            "marker": {
             "colorbar": {
              "outlinewidth": 0,
              "ticks": ""
             }
            },
            "type": "scattergeo"
           }
          ],
          "scattergl": [
           {
            "marker": {
             "colorbar": {
              "outlinewidth": 0,
              "ticks": ""
             }
            },
            "type": "scattergl"
           }
          ],
          "scattermapbox": [
           {
            "marker": {
             "colorbar": {
              "outlinewidth": 0,
              "ticks": ""
             }
            },
            "type": "scattermapbox"
           }
          ],
          "scatterpolar": [
           {
            "marker": {
             "colorbar": {
              "outlinewidth": 0,
              "ticks": ""
             }
            },
            "type": "scatterpolar"
           }
          ],
          "scatterpolargl": [
           {
            "marker": {
             "colorbar": {
              "outlinewidth": 0,
              "ticks": ""
             }
            },
            "type": "scatterpolargl"
           }
          ],
          "scatterternary": [
           {
            "marker": {
             "colorbar": {
              "outlinewidth": 0,
              "ticks": ""
             }
            },
            "type": "scatterternary"
           }
          ],
          "surface": [
           {
            "colorbar": {
             "outlinewidth": 0,
             "ticks": ""
            },
            "colorscale": [
             [
              0,
              "#0d0887"
             ],
             [
              0.1111111111111111,
              "#46039f"
             ],
             [
              0.2222222222222222,
              "#7201a8"
             ],
             [
              0.3333333333333333,
              "#9c179e"
             ],
             [
              0.4444444444444444,
              "#bd3786"
             ],
             [
              0.5555555555555556,
              "#d8576b"
             ],
             [
              0.6666666666666666,
              "#ed7953"
             ],
             [
              0.7777777777777778,
              "#fb9f3a"
             ],
             [
              0.8888888888888888,
              "#fdca26"
             ],
             [
              1,
              "#f0f921"
             ]
            ],
            "type": "surface"
           }
          ],
          "table": [
           {
            "cells": {
             "fill": {
              "color": "#EBF0F8"
             },
             "line": {
              "color": "white"
             }
            },
            "header": {
             "fill": {
              "color": "#C8D4E3"
             },
             "line": {
              "color": "white"
             }
            },
            "type": "table"
           }
          ]
         },
         "layout": {
          "annotationdefaults": {
           "arrowcolor": "#2a3f5f",
           "arrowhead": 0,
           "arrowwidth": 1
          },
          "autotypenumbers": "strict",
          "coloraxis": {
           "colorbar": {
            "outlinewidth": 0,
            "ticks": ""
           }
          },
          "colorscale": {
           "diverging": [
            [
             0,
             "#8e0152"
            ],
            [
             0.1,
             "#c51b7d"
            ],
            [
             0.2,
             "#de77ae"
            ],
            [
             0.3,
             "#f1b6da"
            ],
            [
             0.4,
             "#fde0ef"
            ],
            [
             0.5,
             "#f7f7f7"
            ],
            [
             0.6,
             "#e6f5d0"
            ],
            [
             0.7,
             "#b8e186"
            ],
            [
             0.8,
             "#7fbc41"
            ],
            [
             0.9,
             "#4d9221"
            ],
            [
             1,
             "#276419"
            ]
           ],
           "sequential": [
            [
             0,
             "#0d0887"
            ],
            [
             0.1111111111111111,
             "#46039f"
            ],
            [
             0.2222222222222222,
             "#7201a8"
            ],
            [
             0.3333333333333333,
             "#9c179e"
            ],
            [
             0.4444444444444444,
             "#bd3786"
            ],
            [
             0.5555555555555556,
             "#d8576b"
            ],
            [
             0.6666666666666666,
             "#ed7953"
            ],
            [
             0.7777777777777778,
             "#fb9f3a"
            ],
            [
             0.8888888888888888,
             "#fdca26"
            ],
            [
             1,
             "#f0f921"
            ]
           ],
           "sequentialminus": [
            [
             0,
             "#0d0887"
            ],
            [
             0.1111111111111111,
             "#46039f"
            ],
            [
             0.2222222222222222,
             "#7201a8"
            ],
            [
             0.3333333333333333,
             "#9c179e"
            ],
            [
             0.4444444444444444,
             "#bd3786"
            ],
            [
             0.5555555555555556,
             "#d8576b"
            ],
            [
             0.6666666666666666,
             "#ed7953"
            ],
            [
             0.7777777777777778,
             "#fb9f3a"
            ],
            [
             0.8888888888888888,
             "#fdca26"
            ],
            [
             1,
             "#f0f921"
            ]
           ]
          },
          "colorway": [
           "#636efa",
           "#EF553B",
           "#00cc96",
           "#ab63fa",
           "#FFA15A",
           "#19d3f3",
           "#FF6692",
           "#B6E880",
           "#FF97FF",
           "#FECB52"
          ],
          "font": {
           "color": "#2a3f5f"
          },
          "geo": {
           "bgcolor": "white",
           "lakecolor": "white",
           "landcolor": "#E5ECF6",
           "showlakes": true,
           "showland": true,
           "subunitcolor": "white"
          },
          "hoverlabel": {
           "align": "left"
          },
          "hovermode": "closest",
          "mapbox": {
           "style": "light"
          },
          "paper_bgcolor": "white",
          "plot_bgcolor": "#E5ECF6",
          "polar": {
           "angularaxis": {
            "gridcolor": "white",
            "linecolor": "white",
            "ticks": ""
           },
           "bgcolor": "#E5ECF6",
           "radialaxis": {
            "gridcolor": "white",
            "linecolor": "white",
            "ticks": ""
           }
          },
          "scene": {
           "xaxis": {
            "backgroundcolor": "#E5ECF6",
            "gridcolor": "white",
            "gridwidth": 2,
            "linecolor": "white",
            "showbackground": true,
            "ticks": "",
            "zerolinecolor": "white"
           },
           "yaxis": {
            "backgroundcolor": "#E5ECF6",
            "gridcolor": "white",
            "gridwidth": 2,
            "linecolor": "white",
            "showbackground": true,
            "ticks": "",
            "zerolinecolor": "white"
           },
           "zaxis": {
            "backgroundcolor": "#E5ECF6",
            "gridcolor": "white",
            "gridwidth": 2,
            "linecolor": "white",
            "showbackground": true,
            "ticks": "",
            "zerolinecolor": "white"
           }
          },
          "shapedefaults": {
           "line": {
            "color": "#2a3f5f"
           }
          },
          "ternary": {
           "aaxis": {
            "gridcolor": "white",
            "linecolor": "white",
            "ticks": ""
           },
           "baxis": {
            "gridcolor": "white",
            "linecolor": "white",
            "ticks": ""
           },
           "bgcolor": "#E5ECF6",
           "caxis": {
            "gridcolor": "white",
            "linecolor": "white",
            "ticks": ""
           }
          },
          "title": {
           "x": 0.05
          },
          "xaxis": {
           "automargin": true,
           "gridcolor": "white",
           "linecolor": "white",
           "ticks": "",
           "title": {
            "standoff": 15
           },
           "zerolinecolor": "white",
           "zerolinewidth": 2
          },
          "yaxis": {
           "automargin": true,
           "gridcolor": "white",
           "linecolor": "white",
           "ticks": "",
           "title": {
            "standoff": 15
           },
           "zerolinecolor": "white",
           "zerolinewidth": 2
          }
         }
        },
        "title": {
         "text": "Average DNA damage foci in Microglia Nuclei by Tissue Location - cellpdia30_sigma1_dilrad4_dnad_obj_seg_v1_gliaero6_gliathr20_dnadero2"
        },
        "xaxis": {
         "anchor": "y",
         "domain": [
          0,
          1
         ],
         "title": {
          "text": "tissue_location"
         }
        },
        "yaxis": {
         "anchor": "x",
         "domain": [
          0,
          1
         ],
         "title": {
          "text": "avg_dna_damage_foci/glia_+"
         }
        }
       }
      }
     },
     "metadata": {},
     "output_type": "display_data"
    },
    {
     "data": {
      "application/vnd.plotly.v1+json": {
       "config": {
        "plotlyServerURL": "https://plot.ly"
       },
       "data": [
        {
         "customdata": [
          [
           101,
           0,
           "DSB Iba1 101_40X_CA1"
          ],
          [
           101,
           1,
           "DSB Iba1 101_40X_CA3"
          ],
          [
           101,
           2,
           "DSB Iba1 101_40X_CTX1"
          ],
          [
           101,
           3,
           "DSB Iba1 101_40X_CTX2"
          ],
          [
           101,
           4,
           "DSB Iba1 101_40X_CTX3"
          ],
          [
           101,
           5,
           "DSB Iba1 101_40X_DG"
          ],
          [
           102,
           6,
           "DSB Iba1 102_40X_CA1"
          ],
          [
           102,
           7,
           "DSB Iba1 102_40X_CA3"
          ],
          [
           102,
           8,
           "DSB Iba1 102_40X_CTX1"
          ],
          [
           102,
           9,
           "DSB Iba1 102_40X_CTX2"
          ],
          [
           102,
           10,
           "DSB Iba1 102_40X_CTX3"
          ],
          [
           102,
           11,
           "DSB Iba1 102_40X_DG"
          ],
          [
           103,
           12,
           "DSB Iba1 103_40X_CA1"
          ],
          [
           103,
           13,
           "DSB Iba1 103_40X_CA3"
          ],
          [
           103,
           14,
           "DSB Iba1 103_40X_CTX1"
          ],
          [
           103,
           15,
           "DSB Iba1 103_40X_CTX2"
          ],
          [
           103,
           16,
           "DSB Iba1 103_40X_CTX3"
          ],
          [
           103,
           17,
           "DSB Iba1 103_40X_DG"
          ],
          [
           104,
           18,
           "DSB Iba1 104_40X_CA1"
          ],
          [
           104,
           19,
           "DSB Iba1 104_40X_CA3"
          ],
          [
           104,
           20,
           "DSB Iba1 104_40X_CTX1"
          ],
          [
           104,
           21,
           "DSB Iba1 104_40X_CTX2"
          ],
          [
           104,
           22,
           "DSB Iba1 104_40X_CTX3"
          ],
          [
           104,
           23,
           "DSB Iba1 104_40X_DG"
          ],
          [
           105,
           24,
           "DSB Iba1 105_40X_CA1"
          ],
          [
           105,
           25,
           "DSB Iba1 105_40X_CA3"
          ],
          [
           105,
           26,
           "DSB Iba1 105_40X_CTX1"
          ],
          [
           105,
           27,
           "DSB Iba1 105_40X_CTX2"
          ],
          [
           105,
           28,
           "DSB Iba1 105_40X_CTX3"
          ],
          [
           106,
           29,
           "DSB Iba1 106_40X_CA1"
          ],
          [
           106,
           30,
           "DSB Iba1 106_40X_CA3"
          ],
          [
           106,
           31,
           "DSB Iba1 106_40X_CTX1"
          ],
          [
           106,
           32,
           "DSB Iba1 106_40X_CTX2"
          ],
          [
           106,
           33,
           "DSB Iba1 106_40X_CTX3"
          ],
          [
           106,
           34,
           "DSB Iba1 106_40X_DG"
          ],
          [
           107,
           35,
           "DSB Iba1 107_40X_CA1"
          ],
          [
           107,
           36,
           "DSB Iba1 107_40X_CA3"
          ],
          [
           107,
           37,
           "DSB Iba1 107_40X_CTX1"
          ],
          [
           107,
           38,
           "DSB Iba1 107_40X_CTX2"
          ],
          [
           107,
           39,
           "DSB Iba1 107_40X_CTX3"
          ],
          [
           107,
           40,
           "DSB Iba1 107_40X_DG"
          ],
          [
           108,
           41,
           "DSB Iba1 108_40X_CA1"
          ],
          [
           108,
           42,
           "DSB Iba1 108_40X_CA3"
          ],
          [
           108,
           43,
           "DSB Iba1 108_40X_CTX1"
          ],
          [
           108,
           44,
           "DSB Iba1 108_40X_CTX2"
          ],
          [
           108,
           45,
           "DSB Iba1 108_40X_CTX3"
          ],
          [
           108,
           46,
           "DSB Iba1 108_40X_DG"
          ],
          [
           16,
           47,
           "DSB Iba1 16_40X_CA1"
          ],
          [
           16,
           48,
           "DSB Iba1 16_40X_CA3"
          ],
          [
           16,
           49,
           "DSB Iba1 16_40X_CTX1"
          ],
          [
           16,
           50,
           "DSB Iba1 16_40X_CTX2"
          ],
          [
           16,
           51,
           "DSB Iba1 16_40X_CTX3"
          ],
          [
           16,
           52,
           "DSB Iba1 16_40X_DG"
          ],
          [
           17,
           53,
           "DSB Iba1 17_40X_CA1"
          ],
          [
           17,
           54,
           "DSB Iba1 17_40X_CA3"
          ],
          [
           17,
           55,
           "DSB Iba1 17_40X_CTX1"
          ],
          [
           17,
           56,
           "DSB Iba1 17_40X_CTX2"
          ],
          [
           17,
           57,
           "DSB Iba1 17_40X_CTX3"
          ],
          [
           17,
           58,
           "DSB Iba1 17_40X_DG"
          ],
          [
           18,
           59,
           "DSB Iba1 18_40X_CA1"
          ],
          [
           18,
           60,
           "DSB Iba1 18_40X_CA3"
          ],
          [
           18,
           61,
           "DSB Iba1 18_40X_CTX1"
          ],
          [
           18,
           62,
           "DSB Iba1 18_40X_CTX2"
          ],
          [
           18,
           63,
           "DSB Iba1 18_40X_CTX3"
          ],
          [
           18,
           64,
           "DSB Iba1 18_40X_DG"
          ],
          [
           19,
           65,
           "DSB Iba1 19_40X_CA1"
          ],
          [
           19,
           66,
           "DSB Iba1 19_40X_CA3"
          ],
          [
           19,
           67,
           "DSB Iba1 19_40X_CTX1"
          ],
          [
           19,
           68,
           "DSB Iba1 19_40X_CTX2"
          ],
          [
           19,
           69,
           "DSB Iba1 19_40X_CTX3"
          ],
          [
           19,
           70,
           "DSB Iba1 19_40X_DG"
          ],
          [
           20,
           71,
           "DSB Iba1 20_40X_CA1"
          ],
          [
           20,
           72,
           "DSB Iba1 20_40X_CA3"
          ],
          [
           20,
           73,
           "DSB Iba1 20_40X_CTX1"
          ],
          [
           20,
           74,
           "DSB Iba1 20_40X_CTX2"
          ],
          [
           20,
           75,
           "DSB Iba1 20_40X_CTX3"
          ],
          [
           20,
           76,
           "DSB Iba1 20_40X_DG"
          ],
          [
           21,
           77,
           "DSB Iba1 21_40X_CA1"
          ],
          [
           21,
           78,
           "DSB Iba1 21_40X_CA3"
          ],
          [
           21,
           79,
           "DSB Iba1 21_40X_CTX1"
          ],
          [
           21,
           80,
           "DSB Iba1 21_40X_CTX2"
          ],
          [
           21,
           81,
           "DSB Iba1 21_40X_CTX3"
          ],
          [
           21,
           82,
           "DSB Iba1 21_40X_DG"
          ],
          [
           22,
           83,
           "DSB Iba1 22_40X_CA1"
          ],
          [
           22,
           84,
           "DSB Iba1 22_40X_CA3"
          ],
          [
           22,
           85,
           "DSB Iba1 22_40X_CTX1"
          ],
          [
           22,
           86,
           "DSB Iba1 22_40X_CTX2"
          ],
          [
           22,
           87,
           "DSB Iba1 22_40X_CTX3"
          ],
          [
           22,
           88,
           "DSB Iba1 22_40X_DG"
          ],
          [
           23,
           89,
           "DSB Iba1 23_40X_CA1"
          ],
          [
           23,
           90,
           "DSB Iba1 23_40X_CA3"
          ],
          [
           23,
           91,
           "DSB Iba1 23_40X_CTX1"
          ],
          [
           23,
           92,
           "DSB Iba1 23_40X_CTX2"
          ],
          [
           23,
           93,
           "DSB Iba1 23_40X_CTX3"
          ],
          [
           23,
           94,
           "DSB Iba1 23_40X_DG"
          ],
          [
           24,
           95,
           "DSB Iba1 24_40X_CA1"
          ],
          [
           24,
           96,
           "DSB Iba1 24_40X_CA3"
          ],
          [
           24,
           97,
           "DSB Iba1 24_40X_CTX1"
          ],
          [
           24,
           98,
           "DSB Iba1 24_40X_CTX2"
          ],
          [
           24,
           99,
           "DSB Iba1 24_40X_CTX3"
          ],
          [
           24,
           100,
           "DSB Iba1 24_40X_DG"
          ],
          [
           25,
           101,
           "DSB Iba1 25_40X_CA1"
          ],
          [
           25,
           102,
           "DSB Iba1 25_40X_CA3"
          ],
          [
           25,
           103,
           "DSB Iba1 25_40X_CTX1"
          ],
          [
           25,
           104,
           "DSB Iba1 25_40X_CTX2"
          ],
          [
           25,
           105,
           "DSB Iba1 25_40X_CTX3"
          ],
          [
           25,
           106,
           "DSB Iba1 25_40X_DG"
          ],
          [
           26,
           107,
           "DSB Iba1 26_40X_CA1"
          ],
          [
           26,
           108,
           "DSB Iba1 26_40X_CA3"
          ],
          [
           26,
           109,
           "DSB Iba1 26_40X_CTX1"
          ],
          [
           26,
           110,
           "DSB Iba1 26_40X_CTX2"
          ],
          [
           26,
           111,
           "DSB Iba1 26_40X_CTX3"
          ],
          [
           26,
           112,
           "DSB Iba1 26_40X_DG"
          ],
          [
           27,
           113,
           "DSB Iba1 27_40X_DG"
          ],
          [
           28,
           114,
           "DSB Iba1 28_40X_CA1"
          ],
          [
           28,
           115,
           "DSB Iba1 28_40X_CA3"
          ],
          [
           28,
           116,
           "DSB Iba1 28_40X_CTX1"
          ],
          [
           28,
           117,
           "DSB Iba1 28_40X_CTX2"
          ],
          [
           28,
           118,
           "DSB Iba1 28_40X_CTX3"
          ],
          [
           28,
           119,
           "DSB Iba1 28_40X_DG"
          ],
          [
           29,
           120,
           "DSB Iba1 29_40X_CA1"
          ],
          [
           29,
           121,
           "DSB Iba1 29_40X_CA3"
          ],
          [
           29,
           122,
           "DSB Iba1 29_40X_CTX1"
          ],
          [
           29,
           123,
           "DSB Iba1 29_40X_CTX2"
          ],
          [
           29,
           124,
           "DSB Iba1 29_40X_CTX3"
          ],
          [
           29,
           125,
           "DSB Iba1 29_40X_DG"
          ],
          [
           30,
           126,
           "DSB Iba1 30_40X_CA1"
          ],
          [
           30,
           127,
           "DSB Iba1 30_40X_CA3"
          ],
          [
           30,
           128,
           "DSB Iba1 30_40X_CTX1"
          ],
          [
           30,
           129,
           "DSB Iba1 30_40X_CTX2"
          ],
          [
           30,
           130,
           "DSB Iba1 30_40X_CTX3"
          ],
          [
           30,
           131,
           "DSB Iba1 30_40X_DG"
          ],
          [
           31,
           132,
           "DSB Iba1 31_40X_CA1"
          ],
          [
           31,
           133,
           "DSB Iba1 31_40X_CA3"
          ],
          [
           31,
           134,
           "DSB Iba1 31_40X_CTX1"
          ],
          [
           31,
           135,
           "DSB Iba1 31_40X_CTX2"
          ],
          [
           31,
           136,
           "DSB Iba1 31_40X_CTX3"
          ],
          [
           31,
           137,
           "DSB Iba1 31_40X_DG"
          ],
          [
           32,
           138,
           "DSB Iba1 32_40X_CA1"
          ],
          [
           32,
           139,
           "DSB Iba1 32_40X_CA3"
          ],
          [
           32,
           140,
           "DSB Iba1 32_40X_CTX1"
          ],
          [
           32,
           141,
           "DSB Iba1 32_40X_CTX2"
          ],
          [
           32,
           142,
           "DSB Iba1 32_40X_CTX3"
          ],
          [
           32,
           143,
           "DSB Iba1 32_40X_DG"
          ],
          [
           33,
           144,
           "DSB Iba1 33_40X_CA1"
          ],
          [
           33,
           145,
           "DSB Iba1 33_40X_CA3"
          ],
          [
           33,
           146,
           "DSB Iba1 33_40X_CTX1"
          ],
          [
           33,
           147,
           "DSB Iba1 33_40X_CTX2"
          ],
          [
           33,
           148,
           "DSB Iba1 33_40X_CTX3"
          ],
          [
           33,
           149,
           "DSB Iba1 33_40X_DG"
          ],
          [
           34,
           150,
           "DSB Iba1 34_40X_CA1"
          ],
          [
           34,
           151,
           "DSB Iba1 34_40X_CA3"
          ],
          [
           34,
           152,
           "DSB Iba1 34_40X_CTX1"
          ],
          [
           34,
           153,
           "DSB Iba1 34_40X_CTX2"
          ],
          [
           34,
           154,
           "DSB Iba1 34_40X_CTX3"
          ],
          [
           34,
           155,
           "DSB Iba1 34_40X_DG"
          ],
          [
           35,
           156,
           "DSB Iba1 35_40X_CA1"
          ],
          [
           35,
           157,
           "DSB Iba1 35_40X_CA3"
          ],
          [
           35,
           158,
           "DSB Iba1 35_40X_CTX1"
          ],
          [
           35,
           159,
           "DSB Iba1 35_40X_CTX2"
          ],
          [
           35,
           160,
           "DSB Iba1 35_40X_CTX3"
          ],
          [
           35,
           161,
           "DSB Iba1 35_40X_DG"
          ],
          [
           36,
           162,
           "DSB Iba1 36_40X_CA1"
          ],
          [
           36,
           163,
           "DSB Iba1 36_40X_CA3"
          ],
          [
           36,
           164,
           "DSB Iba1 36_40X_CTX1"
          ],
          [
           36,
           165,
           "DSB Iba1 36_40X_CTX2"
          ],
          [
           36,
           166,
           "DSB Iba1 36_40X_CTX3"
          ],
          [
           36,
           167,
           "DSB Iba1 36_40X_DG"
          ],
          [
           37,
           168,
           "DSB Iba1 37_40X_CA1"
          ],
          [
           37,
           169,
           "DSB Iba1 37_40X_CA3"
          ],
          [
           37,
           170,
           "DSB Iba1 37_40X_CTX1"
          ],
          [
           37,
           171,
           "DSB Iba1 37_40X_CTX2"
          ],
          [
           37,
           172,
           "DSB Iba1 37_40X_CTX3"
          ],
          [
           37,
           173,
           "DSB Iba1 37_40X_DG"
          ],
          [
           38,
           174,
           "DSB Iba1 38_40X_DG"
          ],
          [
           39,
           175,
           "DSB Iba1 39_40X_CA1"
          ],
          [
           39,
           176,
           "DSB Iba1 39_40X_CA3"
          ],
          [
           39,
           177,
           "DSB Iba1 39_40X_CTX1"
          ],
          [
           39,
           178,
           "DSB Iba1 39_40X_CTX2"
          ],
          [
           39,
           179,
           "DSB Iba1 39_40X_CTX3"
          ],
          [
           39,
           180,
           "DSB Iba1 39_40X_DG"
          ],
          [
           40,
           181,
           "DSB Iba1 40_40X_CA1"
          ],
          [
           40,
           182,
           "DSB Iba1 40_40X_CA3"
          ],
          [
           40,
           183,
           "DSB Iba1 40_40X_CTX1"
          ],
          [
           40,
           184,
           "DSB Iba1 40_40X_CTX2"
          ],
          [
           40,
           185,
           "DSB Iba1 40_40X_CTX3"
          ],
          [
           40,
           186,
           "DSB Iba1 40_40X_DG"
          ],
          [
           41,
           187,
           "DSB Iba1 41_40X_CA1"
          ],
          [
           41,
           188,
           "DSB Iba1 41_40X_CA3"
          ],
          [
           41,
           189,
           "DSB Iba1 41_40X_CTX1"
          ],
          [
           41,
           190,
           "DSB Iba1 41_40X_CTX2"
          ],
          [
           41,
           191,
           "DSB Iba1 41_40X_CTX3"
          ],
          [
           41,
           192,
           "DSB Iba1 41_40X_DG"
          ],
          [
           42,
           193,
           "DSB Iba1 42_40X_CA1"
          ],
          [
           42,
           194,
           "DSB Iba1 42_40X_CA3"
          ],
          [
           42,
           195,
           "DSB Iba1 42_40X_CTX1"
          ],
          [
           42,
           196,
           "DSB Iba1 42_40X_CTX2"
          ],
          [
           42,
           197,
           "DSB Iba1 42_40X_CTX3"
          ],
          [
           42,
           198,
           "DSB Iba1 42_40X_DG"
          ],
          [
           43,
           199,
           "DSB Iba1 43_40X_CA1"
          ],
          [
           43,
           200,
           "DSB Iba1 43_40X_CA3"
          ],
          [
           43,
           201,
           "DSB Iba1 43_40X_CTX1"
          ],
          [
           43,
           202,
           "DSB Iba1 43_40X_CTX2"
          ],
          [
           43,
           203,
           "DSB Iba1 43_40X_CTX3"
          ],
          [
           43,
           204,
           "DSB Iba1 43_40X_DG"
          ],
          [
           44,
           205,
           "DSB Iba1 44_40X_CA1"
          ],
          [
           44,
           206,
           "DSB Iba1 44_40X_CA3"
          ],
          [
           44,
           207,
           "DSB Iba1 44_40X_CTX1"
          ],
          [
           44,
           208,
           "DSB Iba1 44_40X_DG"
          ],
          [
           45,
           209,
           "DSB Iba1 45_40X_CA1"
          ],
          [
           45,
           210,
           "DSB Iba1 45_40X_CA3"
          ],
          [
           45,
           211,
           "DSB Iba1 45_40X_CTX1"
          ],
          [
           45,
           212,
           "DSB Iba1 45_40X_CTX2"
          ],
          [
           45,
           213,
           "DSB Iba1 45_40X_CTX3"
          ],
          [
           45,
           214,
           "DSB Iba1 45_40X_DG"
          ],
          [
           46,
           215,
           "DSB Iba1 46_40X_CA1"
          ],
          [
           46,
           216,
           "DSB Iba1 46_40X_CA3"
          ],
          [
           46,
           217,
           "DSB Iba1 46_40X_CTX1"
          ],
          [
           46,
           218,
           "DSB Iba1 46_40X_CTX2"
          ],
          [
           46,
           219,
           "DSB Iba1 46_40X_CTX3"
          ],
          [
           46,
           220,
           "DSB Iba1 46_40X_DG"
          ],
          [
           47,
           221,
           "DSB Iba1 47_40X_CA1"
          ],
          [
           47,
           222,
           "DSB Iba1 47_40X_CA3"
          ],
          [
           47,
           223,
           "DSB Iba1 47_40X_CTX1"
          ],
          [
           47,
           224,
           "DSB Iba1 47_40X_CTX2"
          ],
          [
           47,
           225,
           "DSB Iba1 47_40X_CTX3"
          ],
          [
           47,
           226,
           "DSB Iba1 47_40X_DG"
          ],
          [
           48,
           227,
           "DSB Iba1 48_40X_CA1"
          ],
          [
           48,
           228,
           "DSB Iba1 48_40X_CA3"
          ],
          [
           48,
           229,
           "DSB Iba1 48_40X_CTX1"
          ],
          [
           48,
           230,
           "DSB Iba1 48_40X_CTX2"
          ],
          [
           48,
           231,
           "DSB Iba1 48_40X_CTX3"
          ],
          [
           48,
           232,
           "DSB Iba1 48_40X_DG"
          ],
          [
           49,
           233,
           "DSB Iba1 49_40X_CA1"
          ],
          [
           49,
           234,
           "DSB Iba1 49_40X_CA3"
          ],
          [
           49,
           235,
           "DSB Iba1 49_40X_CTX1"
          ],
          [
           49,
           236,
           "DSB Iba1 49_40X_CTX2"
          ],
          [
           49,
           237,
           "DSB Iba1 49_40X_CTX3"
          ],
          [
           49,
           238,
           "DSB Iba1 49_40X_DG"
          ],
          [
           50,
           239,
           "DSB Iba1 50_40X_CA1"
          ],
          [
           50,
           240,
           "DSB Iba1 50_40X_CA3"
          ],
          [
           50,
           241,
           "DSB Iba1 50_40X_CTX1"
          ],
          [
           50,
           242,
           "DSB Iba1 50_40X_CTX2"
          ],
          [
           50,
           243,
           "DSB Iba1 50_40X_CTX3"
          ],
          [
           50,
           244,
           "DSB Iba1 50_40X_DG"
          ],
          [
           51,
           245,
           "DSB Iba1 51_40X_CA1"
          ],
          [
           51,
           246,
           "DSB Iba1 51_40X_CA3"
          ],
          [
           51,
           247,
           "DSB Iba1 51_40X_CTX1"
          ],
          [
           51,
           248,
           "DSB Iba1 51_40X_CTX2"
          ],
          [
           51,
           249,
           "DSB Iba1 51_40X_CTX3"
          ],
          [
           51,
           250,
           "DSB Iba1 51_40X_DG"
          ],
          [
           52,
           251,
           "DSB Iba1 52_40X_CA1"
          ],
          [
           52,
           252,
           "DSB Iba1 52_40X_CA3"
          ],
          [
           52,
           253,
           "DSB Iba1 52_40X_CTX1"
          ],
          [
           52,
           254,
           "DSB Iba1 52_40X_CTX2"
          ],
          [
           52,
           255,
           "DSB Iba1 52_40X_CTX3"
          ],
          [
           52,
           256,
           "DSB Iba1 52_40X_DG"
          ],
          [
           53,
           257,
           "DSB Iba1 53_40X_CA1"
          ],
          [
           53,
           258,
           "DSB Iba1 53_40X_CA3"
          ],
          [
           53,
           259,
           "DSB Iba1 53_40X_CTX1"
          ],
          [
           53,
           260,
           "DSB Iba1 53_40X_CTX2"
          ],
          [
           53,
           261,
           "DSB Iba1 53_40X_CTX3"
          ],
          [
           53,
           262,
           "DSB Iba1 53_40X_DG"
          ],
          [
           54,
           263,
           "DSB Iba1 54_40X_CA1"
          ],
          [
           54,
           264,
           "DSB Iba1 54_40X_CA3"
          ],
          [
           54,
           265,
           "DSB Iba1 54_40X_CTX1"
          ],
          [
           54,
           266,
           "DSB Iba1 54_40X_CTX2"
          ],
          [
           54,
           267,
           "DSB Iba1 54_40X_CTX3"
          ],
          [
           54,
           268,
           "DSB Iba1 54_40X_DG"
          ],
          [
           55,
           269,
           "DSB Iba1 55_40X_CA1"
          ],
          [
           55,
           270,
           "DSB Iba1 55_40X_CA3"
          ],
          [
           55,
           271,
           "DSB Iba1 55_40X_CTX1"
          ],
          [
           55,
           272,
           "DSB Iba1 55_40X_CTX2"
          ],
          [
           55,
           273,
           "DSB Iba1 55_40X_CTX3"
          ],
          [
           55,
           274,
           "DSB Iba1 55_40X_DG"
          ],
          [
           56,
           275,
           "DSB Iba1 56_40X_CA1"
          ],
          [
           56,
           276,
           "DSB Iba1 56_40X_CA3"
          ],
          [
           56,
           277,
           "DSB Iba1 56_40X_CTX1"
          ],
          [
           56,
           278,
           "DSB Iba1 56_40X_CTX2"
          ],
          [
           56,
           279,
           "DSB Iba1 56_40X_CTX3"
          ],
          [
           56,
           280,
           "DSB Iba1 56_40X_DG"
          ],
          [
           57,
           281,
           "DSB Iba1 57_40X_CA1"
          ],
          [
           57,
           282,
           "DSB Iba1 57_40X_CA3"
          ],
          [
           57,
           283,
           "DSB Iba1 57_40X_CTX1"
          ],
          [
           57,
           284,
           "DSB Iba1 57_40X_CTX2"
          ],
          [
           57,
           285,
           "DSB Iba1 57_40X_CTX3"
          ],
          [
           57,
           286,
           "DSB Iba1 57_40X_DG"
          ],
          [
           58,
           287,
           "DSB Iba1 58_40X_CA1"
          ],
          [
           58,
           288,
           "DSB Iba1 58_40X_CA3"
          ],
          [
           58,
           289,
           "DSB Iba1 58_40X_CTX1"
          ],
          [
           58,
           290,
           "DSB Iba1 58_40X_CTX2"
          ],
          [
           58,
           291,
           "DSB Iba1 58_40X_CTX3"
          ],
          [
           58,
           292,
           "DSB Iba1 58_40X_DG"
          ],
          [
           59,
           293,
           "DSB Iba1 59_40X_CA1"
          ],
          [
           59,
           294,
           "DSB Iba1 59_40X_CA3"
          ],
          [
           59,
           295,
           "DSB Iba1 59_40X_CTX1"
          ],
          [
           59,
           296,
           "DSB Iba1 59_40X_CTX2"
          ],
          [
           59,
           297,
           "DSB Iba1 59_40X_CTX3"
          ],
          [
           59,
           298,
           "DSB Iba1 59_40X_DG"
          ]
         ],
         "hovertemplate": "tissue_location=%{x}<br>avg_dna_damage_foci/all_nuclei=%{y}<br>staining_id=%{customdata[0]}<br>index=%{customdata[1]}<br>filename=%{customdata[2]}<extra></extra>",
         "legendgroup": "",
         "marker": {
          "color": "#636efa",
          "symbol": "circle"
         },
         "mode": "markers",
         "name": "",
         "orientation": "v",
         "showlegend": false,
         "type": "scatter",
         "x": [
          "CA1",
          "CA3",
          "CTX1",
          "CTX2",
          "CTX3",
          "DG",
          "CA1",
          "CA3",
          "CTX1",
          "CTX2",
          "CTX3",
          "DG",
          "CA1",
          "CA3",
          "CTX1",
          "CTX2",
          "CTX3",
          "DG",
          "CA1",
          "CA3",
          "CTX1",
          "CTX2",
          "CTX3",
          "DG",
          "CA1",
          "CA3",
          "CTX1",
          "CTX2",
          "CTX3",
          "CA1",
          "CA3",
          "CTX1",
          "CTX2",
          "CTX3",
          "DG",
          "CA1",
          "CA3",
          "CTX1",
          "CTX2",
          "CTX3",
          "DG",
          "CA1",
          "CA3",
          "CTX1",
          "CTX2",
          "CTX3",
          "DG",
          "CA1",
          "CA3",
          "CTX1",
          "CTX2",
          "CTX3",
          "DG",
          "CA1",
          "CA3",
          "CTX1",
          "CTX2",
          "CTX3",
          "DG",
          "CA1",
          "CA3",
          "CTX1",
          "CTX2",
          "CTX3",
          "DG",
          "CA1",
          "CA3",
          "CTX1",
          "CTX2",
          "CTX3",
          "DG",
          "CA1",
          "CA3",
          "CTX1",
          "CTX2",
          "CTX3",
          "DG",
          "CA1",
          "CA3",
          "CTX1",
          "CTX2",
          "CTX3",
          "DG",
          "CA1",
          "CA3",
          "CTX1",
          "CTX2",
          "CTX3",
          "DG",
          "CA1",
          "CA3",
          "CTX1",
          "CTX2",
          "CTX3",
          "DG",
          "CA1",
          "CA3",
          "CTX1",
          "CTX2",
          "CTX3",
          "DG",
          "CA1",
          "CA3",
          "CTX1",
          "CTX2",
          "CTX3",
          "DG",
          "CA1",
          "CA3",
          "CTX1",
          "CTX2",
          "CTX3",
          "DG",
          "DG",
          "CA1",
          "CA3",
          "CTX1",
          "CTX2",
          "CTX3",
          "DG",
          "CA1",
          "CA3",
          "CTX1",
          "CTX2",
          "CTX3",
          "DG",
          "CA1",
          "CA3",
          "CTX1",
          "CTX2",
          "CTX3",
          "DG",
          "CA1",
          "CA3",
          "CTX1",
          "CTX2",
          "CTX3",
          "DG",
          "CA1",
          "CA3",
          "CTX1",
          "CTX2",
          "CTX3",
          "DG",
          "CA1",
          "CA3",
          "CTX1",
          "CTX2",
          "CTX3",
          "DG",
          "CA1",
          "CA3",
          "CTX1",
          "CTX2",
          "CTX3",
          "DG",
          "CA1",
          "CA3",
          "CTX1",
          "CTX2",
          "CTX3",
          "DG",
          "CA1",
          "CA3",
          "CTX1",
          "CTX2",
          "CTX3",
          "DG",
          "CA1",
          "CA3",
          "CTX1",
          "CTX2",
          "CTX3",
          "DG",
          "DG",
          "CA1",
          "CA3",
          "CTX1",
          "CTX2",
          "CTX3",
          "DG",
          "CA1",
          "CA3",
          "CTX1",
          "CTX2",
          "CTX3",
          "DG",
          "CA1",
          "CA3",
          "CTX1",
          "CTX2",
          "CTX3",
          "DG",
          "CA1",
          "CA3",
          "CTX1",
          "CTX2",
          "CTX3",
          "DG",
          "CA1",
          "CA3",
          "CTX1",
          "CTX2",
          "CTX3",
          "DG",
          "CA1",
          "CA3",
          "CTX1",
          "DG",
          "CA1",
          "CA3",
          "CTX1",
          "CTX2",
          "CTX3",
          "DG",
          "CA1",
          "CA3",
          "CTX1",
          "CTX2",
          "CTX3",
          "DG",
          "CA1",
          "CA3",
          "CTX1",
          "CTX2",
          "CTX3",
          "DG",
          "CA1",
          "CA3",
          "CTX1",
          "CTX2",
          "CTX3",
          "DG",
          "CA1",
          "CA3",
          "CTX1",
          "CTX2",
          "CTX3",
          "DG",
          "CA1",
          "CA3",
          "CTX1",
          "CTX2",
          "CTX3",
          "DG",
          "CA1",
          "CA3",
          "CTX1",
          "CTX2",
          "CTX3",
          "DG",
          "CA1",
          "CA3",
          "CTX1",
          "CTX2",
          "CTX3",
          "DG",
          "CA1",
          "CA3",
          "CTX1",
          "CTX2",
          "CTX3",
          "DG",
          "CA1",
          "CA3",
          "CTX1",
          "CTX2",
          "CTX3",
          "DG",
          "CA1",
          "CA3",
          "CTX1",
          "CTX2",
          "CTX3",
          "DG",
          "CA1",
          "CA3",
          "CTX1",
          "CTX2",
          "CTX3",
          "DG",
          "CA1",
          "CA3",
          "CTX1",
          "CTX2",
          "CTX3",
          "DG",
          "CA1",
          "CA3",
          "CTX1",
          "CTX2",
          "CTX3",
          "DG",
          "CA1",
          "CA3",
          "CTX1",
          "CTX2",
          "CTX3",
          "DG"
         ],
         "xaxis": "x",
         "y": [
          0.5733333333333334,
          0.934959349593496,
          0.9580838323353292,
          0.8983739837398373,
          0.759656652360515,
          1.3,
          0.3697916666666667,
          0.890625,
          0.7142857142857143,
          0.7781569965870307,
          0.8795180722891566,
          1.2924281984334205,
          0.573170731707317,
          0.9912280701754386,
          0.4683544303797468,
          1.1932773109243695,
          0.9247311827956988,
          1.4065281899109792,
          0.582010582010582,
          1.2662337662337662,
          0.765625,
          1.1553398058252426,
          0.84,
          1.1826625386996903,
          0.6166666666666667,
          0.7849462365591398,
          0.47953216374269,
          1.125,
          0.9230769230769232,
          0.4294871794871794,
          0.7017543859649122,
          0.5714285714285714,
          0.6479591836734694,
          0.9433962264150944,
          1.0833333333333333,
          0.7114093959731543,
          0.9206349206349206,
          0.577922077922078,
          1.0289855072463767,
          0.7531380753138075,
          1.2686567164179106,
          0.6598639455782312,
          1.054054054054054,
          0.5063291139240507,
          1.1487179487179486,
          0.9709302325581396,
          1.2449438202247192,
          0.8362068965517241,
          4.40625,
          0.6483516483516484,
          2.327067669172932,
          1.7385892116182573,
          0.6535087719298246,
          2.76530612244898,
          3.6174863387978142,
          1.2769230769230768,
          2.552980132450331,
          2.8944444444444444,
          2.543560606060606,
          2.5347222222222223,
          4.074074074074074,
          1.88,
          3.7294117647058815,
          2.5789473684210527,
          1.8034188034188037,
          1,
          1.0136986301369864,
          1.0047169811320755,
          1.0444444444444445,
          1,
          1,
          0.6645161290322581,
          1.3245614035087718,
          0.5151515151515151,
          1.069182389937107,
          0.532608695652174,
          1.435483870967742,
          0.851063829787234,
          1,
          0.695,
          0.7688888888888888,
          1.0824742268041236,
          1.1310679611650485,
          1.206896551724138,
          1.2302158273381294,
          1.2880658436213992,
          1.0454545454545454,
          0.3928571428571428,
          1.633838383838384,
          0.6617647058823529,
          0.6491228070175439,
          0.387434554973822,
          0.075,
          0.7905405405405406,
          1.122969837587007,
          0.5642458100558659,
          0.6,
          0.1933701657458563,
          0.4555984555984556,
          0.5473684210526316,
          0.1348314606741573,
          1.6158940397350994,
          1.9197080291970805,
          0.6090225563909775,
          1.78125,
          2.2216216216216216,
          2.067469879518072,
          3.4571428571428573,
          3.796875,
          1.9553571428571428,
          2.411764705882353,
          1.594059405940594,
          3.54957507082153,
          2.2764976958525347,
          0.8023255813953488,
          0.5223880597014925,
          0.6923076923076923,
          0.927536231884058,
          1.3451776649746192,
          2.452247191011236,
          0.7718120805369127,
          0.6386554621848739,
          0.7939698492462312,
          1.177664974619289,
          0.5952380952380952,
          1.025974025974026,
          0.528169014084507,
          0.8543689320388349,
          0.4444444444444444,
          0.5152671755725191,
          0.3668341708542713,
          1.1607629427792916,
          1.0059880239520955,
          0.9672131147540984,
          0.4766839378238341,
          0.6208333333333333,
          0.9178082191780822,
          1.6540880503144657,
          4.491891891891892,
          3.903703703703704,
          4.686206896551724,
          2.533613445378151,
          4.117977528089888,
          3.861575178997613,
          0.759493670886076,
          0.9619565217391304,
          0.6696428571428571,
          1.3214285714285714,
          0.8301886792452831,
          1.528169014084507,
          3.9518716577540105,
          5.311787072243346,
          3.251700680272109,
          3.285171102661597,
          2.2740384615384617,
          4.117824773413897,
          0.5157894736842106,
          3.893258426966292,
          0.6504065040650406,
          2.146067415730337,
          3.231527093596059,
          2.8708920187793425,
          1.0666666666666669,
          1,
          1.9855769230769231,
          1.264840182648402,
          1.1965317919075145,
          1.663716814159292,
          1.2692307692307692,
          1.6164383561643836,
          1.6403508771929824,
          2.2758620689655173,
          1.4883720930232558,
          1.911845730027548,
          1.276190476190476,
          0.8125,
          0.9111111111111112,
          0.369047619047619,
          0.4,
          0.2450331125827814,
          0.7377049180327869,
          0.363013698630137,
          0.7272727272727273,
          0.6645161290322581,
          0.6242038216560509,
          0.6486486486486487,
          1.189102564102564,
          0.6225165562913907,
          0.5,
          0.0736196319018405,
          0.1405405405405405,
          0.1785714285714285,
          1.0633608815426998,
          0.4137931034482758,
          0.8058252427184466,
          0.5238095238095238,
          0.5225806451612903,
          0.7746478873239436,
          0.8067010309278351,
          0.3154362416107382,
          1.2772277227722773,
          1.4035874439461884,
          0.4009661835748792,
          0.9282296650717704,
          2.459537572254335,
          1.5036496350364963,
          1.7373737373737377,
          1.337552742616034,
          1.7467248908296944,
          1.922619047619048,
          1.548780487804878,
          0.5304347826086957,
          0.3828828828828828,
          0.4492753623188406,
          2.2536945812807883,
          2.9642857142857144,
          4,
          2.973584905660377,
          2.111498257839721,
          2.925311203319502,
          2.68944099378882,
          1.4210526315789471,
          4.093023255813954,
          0.6153846153846154,
          3.01423487544484,
          1.6936936936936935,
          3.888888888888889,
          1.1333333333333333,
          0.6195652173913043,
          0.691304347826087,
          0.7406015037593985,
          0.7831858407079646,
          1.7268041237113405,
          2.551515151515152,
          2.7868852459016398,
          1.6125,
          1.7382198952879582,
          1.2014388489208634,
          2.992957746478873,
          0.1866666666666666,
          0.4758064516129032,
          0.0157480314960629,
          0.180672268907563,
          0.7905759162303665,
          0.343811394891945,
          0.375,
          0.811965811965812,
          0.2876712328767123,
          0.2227272727272727,
          0.4530386740331492,
          0.8927613941018767,
          0.3939393939393939,
          0.6122448979591837,
          0.2903225806451613,
          0.5,
          0.5257731958762887,
          0.5926966292134831,
          3.311111111111111,
          3.736196319018405,
          2.048872180451128,
          1.755,
          1.818840579710145,
          3.3607142857142858,
          0.5692307692307692,
          1.062992125984252,
          0.6907216494845361,
          0.7251461988304093,
          0.7797619047619048,
          1.2145110410094635,
          0.4961240310077519,
          0.6210526315789474,
          0.0534351145038167,
          0.7847222222222222,
          0.188235294117647,
          0.8403990024937655,
          0.5095541401273885,
          0.6515151515151515,
          0.5056179775280899,
          0.3388429752066115,
          0.3351063829787234,
          0.7286063569682152,
          2.1621621621621623,
          4.255952380952381,
          0.3698113207547169,
          0.3571428571428571,
          0.190721649484536,
          1.8514285714285716,
          0.6528925619834711,
          0.8761061946902655,
          0.5886524822695035,
          0.837696335078534,
          0.5677083333333334,
          0.7709677419354839,
          0.6390532544378699,
          0.45,
          0.6515151515151515,
          0.4041095890410959,
          0.4962962962962963,
          0.9853372434017597
         ],
         "yaxis": "y"
        }
       ],
       "layout": {
        "legend": {
         "tracegroupgap": 0
        },
        "template": {
         "data": {
          "bar": [
           {
            "error_x": {
             "color": "#2a3f5f"
            },
            "error_y": {
             "color": "#2a3f5f"
            },
            "marker": {
             "line": {
              "color": "#E5ECF6",
              "width": 0.5
             },
             "pattern": {
              "fillmode": "overlay",
              "size": 10,
              "solidity": 0.2
             }
            },
            "type": "bar"
           }
          ],
          "barpolar": [
           {
            "marker": {
             "line": {
              "color": "#E5ECF6",
              "width": 0.5
             },
             "pattern": {
              "fillmode": "overlay",
              "size": 10,
              "solidity": 0.2
             }
            },
            "type": "barpolar"
           }
          ],
          "carpet": [
           {
            "aaxis": {
             "endlinecolor": "#2a3f5f",
             "gridcolor": "white",
             "linecolor": "white",
             "minorgridcolor": "white",
             "startlinecolor": "#2a3f5f"
            },
            "baxis": {
             "endlinecolor": "#2a3f5f",
             "gridcolor": "white",
             "linecolor": "white",
             "minorgridcolor": "white",
             "startlinecolor": "#2a3f5f"
            },
            "type": "carpet"
           }
          ],
          "choropleth": [
           {
            "colorbar": {
             "outlinewidth": 0,
             "ticks": ""
            },
            "type": "choropleth"
           }
          ],
          "contour": [
           {
            "colorbar": {
             "outlinewidth": 0,
             "ticks": ""
            },
            "colorscale": [
             [
              0,
              "#0d0887"
             ],
             [
              0.1111111111111111,
              "#46039f"
             ],
             [
              0.2222222222222222,
              "#7201a8"
             ],
             [
              0.3333333333333333,
              "#9c179e"
             ],
             [
              0.4444444444444444,
              "#bd3786"
             ],
             [
              0.5555555555555556,
              "#d8576b"
             ],
             [
              0.6666666666666666,
              "#ed7953"
             ],
             [
              0.7777777777777778,
              "#fb9f3a"
             ],
             [
              0.8888888888888888,
              "#fdca26"
             ],
             [
              1,
              "#f0f921"
             ]
            ],
            "type": "contour"
           }
          ],
          "contourcarpet": [
           {
            "colorbar": {
             "outlinewidth": 0,
             "ticks": ""
            },
            "type": "contourcarpet"
           }
          ],
          "heatmap": [
           {
            "colorbar": {
             "outlinewidth": 0,
             "ticks": ""
            },
            "colorscale": [
             [
              0,
              "#0d0887"
             ],
             [
              0.1111111111111111,
              "#46039f"
             ],
             [
              0.2222222222222222,
              "#7201a8"
             ],
             [
              0.3333333333333333,
              "#9c179e"
             ],
             [
              0.4444444444444444,
              "#bd3786"
             ],
             [
              0.5555555555555556,
              "#d8576b"
             ],
             [
              0.6666666666666666,
              "#ed7953"
             ],
             [
              0.7777777777777778,
              "#fb9f3a"
             ],
             [
              0.8888888888888888,
              "#fdca26"
             ],
             [
              1,
              "#f0f921"
             ]
            ],
            "type": "heatmap"
           }
          ],
          "heatmapgl": [
           {
            "colorbar": {
             "outlinewidth": 0,
             "ticks": ""
            },
            "colorscale": [
             [
              0,
              "#0d0887"
             ],
             [
              0.1111111111111111,
              "#46039f"
             ],
             [
              0.2222222222222222,
              "#7201a8"
             ],
             [
              0.3333333333333333,
              "#9c179e"
             ],
             [
              0.4444444444444444,
              "#bd3786"
             ],
             [
              0.5555555555555556,
              "#d8576b"
             ],
             [
              0.6666666666666666,
              "#ed7953"
             ],
             [
              0.7777777777777778,
              "#fb9f3a"
             ],
             [
              0.8888888888888888,
              "#fdca26"
             ],
             [
              1,
              "#f0f921"
             ]
            ],
            "type": "heatmapgl"
           }
          ],
          "histogram": [
           {
            "marker": {
             "pattern": {
              "fillmode": "overlay",
              "size": 10,
              "solidity": 0.2
             }
            },
            "type": "histogram"
           }
          ],
          "histogram2d": [
           {
            "colorbar": {
             "outlinewidth": 0,
             "ticks": ""
            },
            "colorscale": [
             [
              0,
              "#0d0887"
             ],
             [
              0.1111111111111111,
              "#46039f"
             ],
             [
              0.2222222222222222,
              "#7201a8"
             ],
             [
              0.3333333333333333,
              "#9c179e"
             ],
             [
              0.4444444444444444,
              "#bd3786"
             ],
             [
              0.5555555555555556,
              "#d8576b"
             ],
             [
              0.6666666666666666,
              "#ed7953"
             ],
             [
              0.7777777777777778,
              "#fb9f3a"
             ],
             [
              0.8888888888888888,
              "#fdca26"
             ],
             [
              1,
              "#f0f921"
             ]
            ],
            "type": "histogram2d"
           }
          ],
          "histogram2dcontour": [
           {
            "colorbar": {
             "outlinewidth": 0,
             "ticks": ""
            },
            "colorscale": [
             [
              0,
              "#0d0887"
             ],
             [
              0.1111111111111111,
              "#46039f"
             ],
             [
              0.2222222222222222,
              "#7201a8"
             ],
             [
              0.3333333333333333,
              "#9c179e"
             ],
             [
              0.4444444444444444,
              "#bd3786"
             ],
             [
              0.5555555555555556,
              "#d8576b"
             ],
             [
              0.6666666666666666,
              "#ed7953"
             ],
             [
              0.7777777777777778,
              "#fb9f3a"
             ],
             [
              0.8888888888888888,
              "#fdca26"
             ],
             [
              1,
              "#f0f921"
             ]
            ],
            "type": "histogram2dcontour"
           }
          ],
          "mesh3d": [
           {
            "colorbar": {
             "outlinewidth": 0,
             "ticks": ""
            },
            "type": "mesh3d"
           }
          ],
          "parcoords": [
           {
            "line": {
             "colorbar": {
              "outlinewidth": 0,
              "ticks": ""
             }
            },
            "type": "parcoords"
           }
          ],
          "pie": [
           {
            "automargin": true,
            "type": "pie"
           }
          ],
          "scatter": [
           {
            "fillpattern": {
             "fillmode": "overlay",
             "size": 10,
             "solidity": 0.2
            },
            "type": "scatter"
           }
          ],
          "scatter3d": [
           {
            "line": {
             "colorbar": {
              "outlinewidth": 0,
              "ticks": ""
             }
            },
            "marker": {
             "colorbar": {
              "outlinewidth": 0,
              "ticks": ""
             }
            },
            "type": "scatter3d"
           }
          ],
          "scattercarpet": [
           {
            "marker": {
             "colorbar": {
              "outlinewidth": 0,
              "ticks": ""
             }
            },
            "type": "scattercarpet"
           }
          ],
          "scattergeo": [
           {
            "marker": {
             "colorbar": {
              "outlinewidth": 0,
              "ticks": ""
             }
            },
            "type": "scattergeo"
           }
          ],
          "scattergl": [
           {
            "marker": {
             "colorbar": {
              "outlinewidth": 0,
              "ticks": ""
             }
            },
            "type": "scattergl"
           }
          ],
          "scattermapbox": [
           {
            "marker": {
             "colorbar": {
              "outlinewidth": 0,
              "ticks": ""
             }
            },
            "type": "scattermapbox"
           }
          ],
          "scatterpolar": [
           {
            "marker": {
             "colorbar": {
              "outlinewidth": 0,
              "ticks": ""
             }
            },
            "type": "scatterpolar"
           }
          ],
          "scatterpolargl": [
           {
            "marker": {
             "colorbar": {
              "outlinewidth": 0,
              "ticks": ""
             }
            },
            "type": "scatterpolargl"
           }
          ],
          "scatterternary": [
           {
            "marker": {
             "colorbar": {
              "outlinewidth": 0,
              "ticks": ""
             }
            },
            "type": "scatterternary"
           }
          ],
          "surface": [
           {
            "colorbar": {
             "outlinewidth": 0,
             "ticks": ""
            },
            "colorscale": [
             [
              0,
              "#0d0887"
             ],
             [
              0.1111111111111111,
              "#46039f"
             ],
             [
              0.2222222222222222,
              "#7201a8"
             ],
             [
              0.3333333333333333,
              "#9c179e"
             ],
             [
              0.4444444444444444,
              "#bd3786"
             ],
             [
              0.5555555555555556,
              "#d8576b"
             ],
             [
              0.6666666666666666,
              "#ed7953"
             ],
             [
              0.7777777777777778,
              "#fb9f3a"
             ],
             [
              0.8888888888888888,
              "#fdca26"
             ],
             [
              1,
              "#f0f921"
             ]
            ],
            "type": "surface"
           }
          ],
          "table": [
           {
            "cells": {
             "fill": {
              "color": "#EBF0F8"
             },
             "line": {
              "color": "white"
             }
            },
            "header": {
             "fill": {
              "color": "#C8D4E3"
             },
             "line": {
              "color": "white"
             }
            },
            "type": "table"
           }
          ]
         },
         "layout": {
          "annotationdefaults": {
           "arrowcolor": "#2a3f5f",
           "arrowhead": 0,
           "arrowwidth": 1
          },
          "autotypenumbers": "strict",
          "coloraxis": {
           "colorbar": {
            "outlinewidth": 0,
            "ticks": ""
           }
          },
          "colorscale": {
           "diverging": [
            [
             0,
             "#8e0152"
            ],
            [
             0.1,
             "#c51b7d"
            ],
            [
             0.2,
             "#de77ae"
            ],
            [
             0.3,
             "#f1b6da"
            ],
            [
             0.4,
             "#fde0ef"
            ],
            [
             0.5,
             "#f7f7f7"
            ],
            [
             0.6,
             "#e6f5d0"
            ],
            [
             0.7,
             "#b8e186"
            ],
            [
             0.8,
             "#7fbc41"
            ],
            [
             0.9,
             "#4d9221"
            ],
            [
             1,
             "#276419"
            ]
           ],
           "sequential": [
            [
             0,
             "#0d0887"
            ],
            [
             0.1111111111111111,
             "#46039f"
            ],
            [
             0.2222222222222222,
             "#7201a8"
            ],
            [
             0.3333333333333333,
             "#9c179e"
            ],
            [
             0.4444444444444444,
             "#bd3786"
            ],
            [
             0.5555555555555556,
             "#d8576b"
            ],
            [
             0.6666666666666666,
             "#ed7953"
            ],
            [
             0.7777777777777778,
             "#fb9f3a"
            ],
            [
             0.8888888888888888,
             "#fdca26"
            ],
            [
             1,
             "#f0f921"
            ]
           ],
           "sequentialminus": [
            [
             0,
             "#0d0887"
            ],
            [
             0.1111111111111111,
             "#46039f"
            ],
            [
             0.2222222222222222,
             "#7201a8"
            ],
            [
             0.3333333333333333,
             "#9c179e"
            ],
            [
             0.4444444444444444,
             "#bd3786"
            ],
            [
             0.5555555555555556,
             "#d8576b"
            ],
            [
             0.6666666666666666,
             "#ed7953"
            ],
            [
             0.7777777777777778,
             "#fb9f3a"
            ],
            [
             0.8888888888888888,
             "#fdca26"
            ],
            [
             1,
             "#f0f921"
            ]
           ]
          },
          "colorway": [
           "#636efa",
           "#EF553B",
           "#00cc96",
           "#ab63fa",
           "#FFA15A",
           "#19d3f3",
           "#FF6692",
           "#B6E880",
           "#FF97FF",
           "#FECB52"
          ],
          "font": {
           "color": "#2a3f5f"
          },
          "geo": {
           "bgcolor": "white",
           "lakecolor": "white",
           "landcolor": "#E5ECF6",
           "showlakes": true,
           "showland": true,
           "subunitcolor": "white"
          },
          "hoverlabel": {
           "align": "left"
          },
          "hovermode": "closest",
          "mapbox": {
           "style": "light"
          },
          "paper_bgcolor": "white",
          "plot_bgcolor": "#E5ECF6",
          "polar": {
           "angularaxis": {
            "gridcolor": "white",
            "linecolor": "white",
            "ticks": ""
           },
           "bgcolor": "#E5ECF6",
           "radialaxis": {
            "gridcolor": "white",
            "linecolor": "white",
            "ticks": ""
           }
          },
          "scene": {
           "xaxis": {
            "backgroundcolor": "#E5ECF6",
            "gridcolor": "white",
            "gridwidth": 2,
            "linecolor": "white",
            "showbackground": true,
            "ticks": "",
            "zerolinecolor": "white"
           },
           "yaxis": {
            "backgroundcolor": "#E5ECF6",
            "gridcolor": "white",
            "gridwidth": 2,
            "linecolor": "white",
            "showbackground": true,
            "ticks": "",
            "zerolinecolor": "white"
           },
           "zaxis": {
            "backgroundcolor": "#E5ECF6",
            "gridcolor": "white",
            "gridwidth": 2,
            "linecolor": "white",
            "showbackground": true,
            "ticks": "",
            "zerolinecolor": "white"
           }
          },
          "shapedefaults": {
           "line": {
            "color": "#2a3f5f"
           }
          },
          "ternary": {
           "aaxis": {
            "gridcolor": "white",
            "linecolor": "white",
            "ticks": ""
           },
           "baxis": {
            "gridcolor": "white",
            "linecolor": "white",
            "ticks": ""
           },
           "bgcolor": "#E5ECF6",
           "caxis": {
            "gridcolor": "white",
            "linecolor": "white",
            "ticks": ""
           }
          },
          "title": {
           "x": 0.05
          },
          "xaxis": {
           "automargin": true,
           "gridcolor": "white",
           "linecolor": "white",
           "ticks": "",
           "title": {
            "standoff": 15
           },
           "zerolinecolor": "white",
           "zerolinewidth": 2
          },
          "yaxis": {
           "automargin": true,
           "gridcolor": "white",
           "linecolor": "white",
           "ticks": "",
           "title": {
            "standoff": 15
           },
           "zerolinecolor": "white",
           "zerolinewidth": 2
          }
         }
        },
        "title": {
         "text": "Average DNA damage foci in All Nuclei by Tissue Location - cellpdia30_sigma1_dilrad4_dnad_obj_seg_v1_gliaero6_gliathr20_dnadero2"
        },
        "xaxis": {
         "anchor": "y",
         "domain": [
          0,
          1
         ],
         "title": {
          "text": "tissue_location"
         }
        },
        "yaxis": {
         "anchor": "x",
         "domain": [
          0,
          1
         ],
         "title": {
          "text": "avg_dna_damage_foci/all_nuclei"
         }
        }
       }
      }
     },
     "metadata": {},
     "output_type": "display_data"
    },
    {
     "data": {
      "application/vnd.plotly.v1+json": {
       "config": {
        "plotlyServerURL": "https://plot.ly"
       },
       "data": [
        {
         "customdata": [
          [
           101,
           0,
           "DSB Iba1 101_40X_CA1"
          ],
          [
           101,
           1,
           "DSB Iba1 101_40X_CA3"
          ],
          [
           101,
           2,
           "DSB Iba1 101_40X_CTX1"
          ],
          [
           101,
           3,
           "DSB Iba1 101_40X_CTX2"
          ],
          [
           101,
           4,
           "DSB Iba1 101_40X_CTX3"
          ],
          [
           101,
           5,
           "DSB Iba1 101_40X_DG"
          ],
          [
           102,
           6,
           "DSB Iba1 102_40X_CA1"
          ],
          [
           102,
           7,
           "DSB Iba1 102_40X_CA3"
          ],
          [
           102,
           8,
           "DSB Iba1 102_40X_CTX1"
          ],
          [
           102,
           9,
           "DSB Iba1 102_40X_CTX2"
          ],
          [
           102,
           10,
           "DSB Iba1 102_40X_CTX3"
          ],
          [
           102,
           11,
           "DSB Iba1 102_40X_DG"
          ],
          [
           103,
           12,
           "DSB Iba1 103_40X_CA1"
          ],
          [
           103,
           13,
           "DSB Iba1 103_40X_CA3"
          ],
          [
           103,
           14,
           "DSB Iba1 103_40X_CTX1"
          ],
          [
           103,
           15,
           "DSB Iba1 103_40X_CTX2"
          ],
          [
           103,
           16,
           "DSB Iba1 103_40X_CTX3"
          ],
          [
           103,
           17,
           "DSB Iba1 103_40X_DG"
          ],
          [
           104,
           18,
           "DSB Iba1 104_40X_CA1"
          ],
          [
           104,
           19,
           "DSB Iba1 104_40X_CA3"
          ],
          [
           104,
           20,
           "DSB Iba1 104_40X_CTX1"
          ],
          [
           104,
           21,
           "DSB Iba1 104_40X_CTX2"
          ],
          [
           104,
           22,
           "DSB Iba1 104_40X_CTX3"
          ],
          [
           104,
           23,
           "DSB Iba1 104_40X_DG"
          ],
          [
           105,
           24,
           "DSB Iba1 105_40X_CA1"
          ],
          [
           105,
           25,
           "DSB Iba1 105_40X_CA3"
          ],
          [
           105,
           26,
           "DSB Iba1 105_40X_CTX1"
          ],
          [
           105,
           27,
           "DSB Iba1 105_40X_CTX2"
          ],
          [
           105,
           28,
           "DSB Iba1 105_40X_CTX3"
          ],
          [
           106,
           29,
           "DSB Iba1 106_40X_CA1"
          ],
          [
           106,
           30,
           "DSB Iba1 106_40X_CA3"
          ],
          [
           106,
           31,
           "DSB Iba1 106_40X_CTX1"
          ],
          [
           106,
           32,
           "DSB Iba1 106_40X_CTX2"
          ],
          [
           106,
           33,
           "DSB Iba1 106_40X_CTX3"
          ],
          [
           106,
           34,
           "DSB Iba1 106_40X_DG"
          ],
          [
           107,
           35,
           "DSB Iba1 107_40X_CA1"
          ],
          [
           107,
           36,
           "DSB Iba1 107_40X_CA3"
          ],
          [
           107,
           37,
           "DSB Iba1 107_40X_CTX1"
          ],
          [
           107,
           38,
           "DSB Iba1 107_40X_CTX2"
          ],
          [
           107,
           39,
           "DSB Iba1 107_40X_CTX3"
          ],
          [
           107,
           40,
           "DSB Iba1 107_40X_DG"
          ],
          [
           108,
           41,
           "DSB Iba1 108_40X_CA1"
          ],
          [
           108,
           42,
           "DSB Iba1 108_40X_CA3"
          ],
          [
           108,
           43,
           "DSB Iba1 108_40X_CTX1"
          ],
          [
           108,
           44,
           "DSB Iba1 108_40X_CTX2"
          ],
          [
           108,
           45,
           "DSB Iba1 108_40X_CTX3"
          ],
          [
           108,
           46,
           "DSB Iba1 108_40X_DG"
          ],
          [
           16,
           47,
           "DSB Iba1 16_40X_CA1"
          ],
          [
           16,
           48,
           "DSB Iba1 16_40X_CA3"
          ],
          [
           16,
           49,
           "DSB Iba1 16_40X_CTX1"
          ],
          [
           16,
           50,
           "DSB Iba1 16_40X_CTX2"
          ],
          [
           16,
           51,
           "DSB Iba1 16_40X_CTX3"
          ],
          [
           16,
           52,
           "DSB Iba1 16_40X_DG"
          ],
          [
           17,
           53,
           "DSB Iba1 17_40X_CA1"
          ],
          [
           17,
           54,
           "DSB Iba1 17_40X_CA3"
          ],
          [
           17,
           55,
           "DSB Iba1 17_40X_CTX1"
          ],
          [
           17,
           56,
           "DSB Iba1 17_40X_CTX2"
          ],
          [
           17,
           57,
           "DSB Iba1 17_40X_CTX3"
          ],
          [
           17,
           58,
           "DSB Iba1 17_40X_DG"
          ],
          [
           18,
           59,
           "DSB Iba1 18_40X_CA1"
          ],
          [
           18,
           60,
           "DSB Iba1 18_40X_CA3"
          ],
          [
           18,
           61,
           "DSB Iba1 18_40X_CTX1"
          ],
          [
           18,
           62,
           "DSB Iba1 18_40X_CTX2"
          ],
          [
           18,
           63,
           "DSB Iba1 18_40X_CTX3"
          ],
          [
           18,
           64,
           "DSB Iba1 18_40X_DG"
          ],
          [
           19,
           65,
           "DSB Iba1 19_40X_CA1"
          ],
          [
           19,
           66,
           "DSB Iba1 19_40X_CA3"
          ],
          [
           19,
           67,
           "DSB Iba1 19_40X_CTX1"
          ],
          [
           19,
           68,
           "DSB Iba1 19_40X_CTX2"
          ],
          [
           19,
           69,
           "DSB Iba1 19_40X_CTX3"
          ],
          [
           19,
           70,
           "DSB Iba1 19_40X_DG"
          ],
          [
           20,
           71,
           "DSB Iba1 20_40X_CA1"
          ],
          [
           20,
           72,
           "DSB Iba1 20_40X_CA3"
          ],
          [
           20,
           73,
           "DSB Iba1 20_40X_CTX1"
          ],
          [
           20,
           74,
           "DSB Iba1 20_40X_CTX2"
          ],
          [
           20,
           75,
           "DSB Iba1 20_40X_CTX3"
          ],
          [
           20,
           76,
           "DSB Iba1 20_40X_DG"
          ],
          [
           21,
           77,
           "DSB Iba1 21_40X_CA1"
          ],
          [
           21,
           78,
           "DSB Iba1 21_40X_CA3"
          ],
          [
           21,
           79,
           "DSB Iba1 21_40X_CTX1"
          ],
          [
           21,
           80,
           "DSB Iba1 21_40X_CTX2"
          ],
          [
           21,
           81,
           "DSB Iba1 21_40X_CTX3"
          ],
          [
           21,
           82,
           "DSB Iba1 21_40X_DG"
          ],
          [
           22,
           83,
           "DSB Iba1 22_40X_CA1"
          ],
          [
           22,
           84,
           "DSB Iba1 22_40X_CA3"
          ],
          [
           22,
           85,
           "DSB Iba1 22_40X_CTX1"
          ],
          [
           22,
           86,
           "DSB Iba1 22_40X_CTX2"
          ],
          [
           22,
           87,
           "DSB Iba1 22_40X_CTX3"
          ],
          [
           22,
           88,
           "DSB Iba1 22_40X_DG"
          ],
          [
           23,
           89,
           "DSB Iba1 23_40X_CA1"
          ],
          [
           23,
           90,
           "DSB Iba1 23_40X_CA3"
          ],
          [
           23,
           91,
           "DSB Iba1 23_40X_CTX1"
          ],
          [
           23,
           92,
           "DSB Iba1 23_40X_CTX2"
          ],
          [
           23,
           93,
           "DSB Iba1 23_40X_CTX3"
          ],
          [
           23,
           94,
           "DSB Iba1 23_40X_DG"
          ],
          [
           24,
           95,
           "DSB Iba1 24_40X_CA1"
          ],
          [
           24,
           96,
           "DSB Iba1 24_40X_CA3"
          ],
          [
           24,
           97,
           "DSB Iba1 24_40X_CTX1"
          ],
          [
           24,
           98,
           "DSB Iba1 24_40X_CTX2"
          ],
          [
           24,
           99,
           "DSB Iba1 24_40X_CTX3"
          ],
          [
           24,
           100,
           "DSB Iba1 24_40X_DG"
          ],
          [
           25,
           101,
           "DSB Iba1 25_40X_CA1"
          ],
          [
           25,
           102,
           "DSB Iba1 25_40X_CA3"
          ],
          [
           25,
           103,
           "DSB Iba1 25_40X_CTX1"
          ],
          [
           25,
           104,
           "DSB Iba1 25_40X_CTX2"
          ],
          [
           25,
           105,
           "DSB Iba1 25_40X_CTX3"
          ],
          [
           25,
           106,
           "DSB Iba1 25_40X_DG"
          ],
          [
           26,
           107,
           "DSB Iba1 26_40X_CA1"
          ],
          [
           26,
           108,
           "DSB Iba1 26_40X_CA3"
          ],
          [
           26,
           109,
           "DSB Iba1 26_40X_CTX1"
          ],
          [
           26,
           110,
           "DSB Iba1 26_40X_CTX2"
          ],
          [
           26,
           111,
           "DSB Iba1 26_40X_CTX3"
          ],
          [
           26,
           112,
           "DSB Iba1 26_40X_DG"
          ],
          [
           27,
           113,
           "DSB Iba1 27_40X_DG"
          ],
          [
           28,
           114,
           "DSB Iba1 28_40X_CA1"
          ],
          [
           28,
           115,
           "DSB Iba1 28_40X_CA3"
          ],
          [
           28,
           116,
           "DSB Iba1 28_40X_CTX1"
          ],
          [
           28,
           117,
           "DSB Iba1 28_40X_CTX2"
          ],
          [
           28,
           118,
           "DSB Iba1 28_40X_CTX3"
          ],
          [
           28,
           119,
           "DSB Iba1 28_40X_DG"
          ],
          [
           29,
           120,
           "DSB Iba1 29_40X_CA1"
          ],
          [
           29,
           121,
           "DSB Iba1 29_40X_CA3"
          ],
          [
           29,
           122,
           "DSB Iba1 29_40X_CTX1"
          ],
          [
           29,
           123,
           "DSB Iba1 29_40X_CTX2"
          ],
          [
           29,
           124,
           "DSB Iba1 29_40X_CTX3"
          ],
          [
           29,
           125,
           "DSB Iba1 29_40X_DG"
          ],
          [
           30,
           126,
           "DSB Iba1 30_40X_CA1"
          ],
          [
           30,
           127,
           "DSB Iba1 30_40X_CA3"
          ],
          [
           30,
           128,
           "DSB Iba1 30_40X_CTX1"
          ],
          [
           30,
           129,
           "DSB Iba1 30_40X_CTX2"
          ],
          [
           30,
           130,
           "DSB Iba1 30_40X_CTX3"
          ],
          [
           30,
           131,
           "DSB Iba1 30_40X_DG"
          ],
          [
           31,
           132,
           "DSB Iba1 31_40X_CA1"
          ],
          [
           31,
           133,
           "DSB Iba1 31_40X_CA3"
          ],
          [
           31,
           134,
           "DSB Iba1 31_40X_CTX1"
          ],
          [
           31,
           135,
           "DSB Iba1 31_40X_CTX2"
          ],
          [
           31,
           136,
           "DSB Iba1 31_40X_CTX3"
          ],
          [
           31,
           137,
           "DSB Iba1 31_40X_DG"
          ],
          [
           32,
           138,
           "DSB Iba1 32_40X_CA1"
          ],
          [
           32,
           139,
           "DSB Iba1 32_40X_CA3"
          ],
          [
           32,
           140,
           "DSB Iba1 32_40X_CTX1"
          ],
          [
           32,
           141,
           "DSB Iba1 32_40X_CTX2"
          ],
          [
           32,
           142,
           "DSB Iba1 32_40X_CTX3"
          ],
          [
           32,
           143,
           "DSB Iba1 32_40X_DG"
          ],
          [
           33,
           144,
           "DSB Iba1 33_40X_CA1"
          ],
          [
           33,
           145,
           "DSB Iba1 33_40X_CA3"
          ],
          [
           33,
           146,
           "DSB Iba1 33_40X_CTX1"
          ],
          [
           33,
           147,
           "DSB Iba1 33_40X_CTX2"
          ],
          [
           33,
           148,
           "DSB Iba1 33_40X_CTX3"
          ],
          [
           33,
           149,
           "DSB Iba1 33_40X_DG"
          ],
          [
           34,
           150,
           "DSB Iba1 34_40X_CA1"
          ],
          [
           34,
           151,
           "DSB Iba1 34_40X_CA3"
          ],
          [
           34,
           152,
           "DSB Iba1 34_40X_CTX1"
          ],
          [
           34,
           153,
           "DSB Iba1 34_40X_CTX2"
          ],
          [
           34,
           154,
           "DSB Iba1 34_40X_CTX3"
          ],
          [
           34,
           155,
           "DSB Iba1 34_40X_DG"
          ],
          [
           35,
           156,
           "DSB Iba1 35_40X_CA1"
          ],
          [
           35,
           157,
           "DSB Iba1 35_40X_CA3"
          ],
          [
           35,
           158,
           "DSB Iba1 35_40X_CTX1"
          ],
          [
           35,
           159,
           "DSB Iba1 35_40X_CTX2"
          ],
          [
           35,
           160,
           "DSB Iba1 35_40X_CTX3"
          ],
          [
           35,
           161,
           "DSB Iba1 35_40X_DG"
          ],
          [
           36,
           162,
           "DSB Iba1 36_40X_CA1"
          ],
          [
           36,
           163,
           "DSB Iba1 36_40X_CA3"
          ],
          [
           36,
           164,
           "DSB Iba1 36_40X_CTX1"
          ],
          [
           36,
           165,
           "DSB Iba1 36_40X_CTX2"
          ],
          [
           36,
           166,
           "DSB Iba1 36_40X_CTX3"
          ],
          [
           36,
           167,
           "DSB Iba1 36_40X_DG"
          ],
          [
           37,
           168,
           "DSB Iba1 37_40X_CA1"
          ],
          [
           37,
           169,
           "DSB Iba1 37_40X_CA3"
          ],
          [
           37,
           170,
           "DSB Iba1 37_40X_CTX1"
          ],
          [
           37,
           171,
           "DSB Iba1 37_40X_CTX2"
          ],
          [
           37,
           172,
           "DSB Iba1 37_40X_CTX3"
          ],
          [
           37,
           173,
           "DSB Iba1 37_40X_DG"
          ],
          [
           38,
           174,
           "DSB Iba1 38_40X_DG"
          ],
          [
           39,
           175,
           "DSB Iba1 39_40X_CA1"
          ],
          [
           39,
           176,
           "DSB Iba1 39_40X_CA3"
          ],
          [
           39,
           177,
           "DSB Iba1 39_40X_CTX1"
          ],
          [
           39,
           178,
           "DSB Iba1 39_40X_CTX2"
          ],
          [
           39,
           179,
           "DSB Iba1 39_40X_CTX3"
          ],
          [
           39,
           180,
           "DSB Iba1 39_40X_DG"
          ],
          [
           40,
           181,
           "DSB Iba1 40_40X_CA1"
          ],
          [
           40,
           182,
           "DSB Iba1 40_40X_CA3"
          ],
          [
           40,
           183,
           "DSB Iba1 40_40X_CTX1"
          ],
          [
           40,
           184,
           "DSB Iba1 40_40X_CTX2"
          ],
          [
           40,
           185,
           "DSB Iba1 40_40X_CTX3"
          ],
          [
           40,
           186,
           "DSB Iba1 40_40X_DG"
          ],
          [
           41,
           187,
           "DSB Iba1 41_40X_CA1"
          ],
          [
           41,
           188,
           "DSB Iba1 41_40X_CA3"
          ],
          [
           41,
           189,
           "DSB Iba1 41_40X_CTX1"
          ],
          [
           41,
           190,
           "DSB Iba1 41_40X_CTX2"
          ],
          [
           41,
           191,
           "DSB Iba1 41_40X_CTX3"
          ],
          [
           41,
           192,
           "DSB Iba1 41_40X_DG"
          ],
          [
           42,
           193,
           "DSB Iba1 42_40X_CA1"
          ],
          [
           42,
           194,
           "DSB Iba1 42_40X_CA3"
          ],
          [
           42,
           195,
           "DSB Iba1 42_40X_CTX1"
          ],
          [
           42,
           196,
           "DSB Iba1 42_40X_CTX2"
          ],
          [
           42,
           197,
           "DSB Iba1 42_40X_CTX3"
          ],
          [
           42,
           198,
           "DSB Iba1 42_40X_DG"
          ],
          [
           43,
           199,
           "DSB Iba1 43_40X_CA1"
          ],
          [
           43,
           200,
           "DSB Iba1 43_40X_CA3"
          ],
          [
           43,
           201,
           "DSB Iba1 43_40X_CTX1"
          ],
          [
           43,
           202,
           "DSB Iba1 43_40X_CTX2"
          ],
          [
           43,
           203,
           "DSB Iba1 43_40X_CTX3"
          ],
          [
           43,
           204,
           "DSB Iba1 43_40X_DG"
          ],
          [
           44,
           205,
           "DSB Iba1 44_40X_CA1"
          ],
          [
           44,
           206,
           "DSB Iba1 44_40X_CA3"
          ],
          [
           44,
           207,
           "DSB Iba1 44_40X_CTX1"
          ],
          [
           44,
           208,
           "DSB Iba1 44_40X_DG"
          ],
          [
           45,
           209,
           "DSB Iba1 45_40X_CA1"
          ],
          [
           45,
           210,
           "DSB Iba1 45_40X_CA3"
          ],
          [
           45,
           211,
           "DSB Iba1 45_40X_CTX1"
          ],
          [
           45,
           212,
           "DSB Iba1 45_40X_CTX2"
          ],
          [
           45,
           213,
           "DSB Iba1 45_40X_CTX3"
          ],
          [
           45,
           214,
           "DSB Iba1 45_40X_DG"
          ],
          [
           46,
           215,
           "DSB Iba1 46_40X_CA1"
          ],
          [
           46,
           216,
           "DSB Iba1 46_40X_CA3"
          ],
          [
           46,
           217,
           "DSB Iba1 46_40X_CTX1"
          ],
          [
           46,
           218,
           "DSB Iba1 46_40X_CTX2"
          ],
          [
           46,
           219,
           "DSB Iba1 46_40X_CTX3"
          ],
          [
           46,
           220,
           "DSB Iba1 46_40X_DG"
          ],
          [
           47,
           221,
           "DSB Iba1 47_40X_CA1"
          ],
          [
           47,
           222,
           "DSB Iba1 47_40X_CA3"
          ],
          [
           47,
           223,
           "DSB Iba1 47_40X_CTX1"
          ],
          [
           47,
           224,
           "DSB Iba1 47_40X_CTX2"
          ],
          [
           47,
           225,
           "DSB Iba1 47_40X_CTX3"
          ],
          [
           47,
           226,
           "DSB Iba1 47_40X_DG"
          ],
          [
           48,
           227,
           "DSB Iba1 48_40X_CA1"
          ],
          [
           48,
           228,
           "DSB Iba1 48_40X_CA3"
          ],
          [
           48,
           229,
           "DSB Iba1 48_40X_CTX1"
          ],
          [
           48,
           230,
           "DSB Iba1 48_40X_CTX2"
          ],
          [
           48,
           231,
           "DSB Iba1 48_40X_CTX3"
          ],
          [
           48,
           232,
           "DSB Iba1 48_40X_DG"
          ],
          [
           49,
           233,
           "DSB Iba1 49_40X_CA1"
          ],
          [
           49,
           234,
           "DSB Iba1 49_40X_CA3"
          ],
          [
           49,
           235,
           "DSB Iba1 49_40X_CTX1"
          ],
          [
           49,
           236,
           "DSB Iba1 49_40X_CTX2"
          ],
          [
           49,
           237,
           "DSB Iba1 49_40X_CTX3"
          ],
          [
           49,
           238,
           "DSB Iba1 49_40X_DG"
          ],
          [
           50,
           239,
           "DSB Iba1 50_40X_CA1"
          ],
          [
           50,
           240,
           "DSB Iba1 50_40X_CA3"
          ],
          [
           50,
           241,
           "DSB Iba1 50_40X_CTX1"
          ],
          [
           50,
           242,
           "DSB Iba1 50_40X_CTX2"
          ],
          [
           50,
           243,
           "DSB Iba1 50_40X_CTX3"
          ],
          [
           50,
           244,
           "DSB Iba1 50_40X_DG"
          ],
          [
           51,
           245,
           "DSB Iba1 51_40X_CA1"
          ],
          [
           51,
           246,
           "DSB Iba1 51_40X_CA3"
          ],
          [
           51,
           247,
           "DSB Iba1 51_40X_CTX1"
          ],
          [
           51,
           248,
           "DSB Iba1 51_40X_CTX2"
          ],
          [
           51,
           249,
           "DSB Iba1 51_40X_CTX3"
          ],
          [
           51,
           250,
           "DSB Iba1 51_40X_DG"
          ],
          [
           52,
           251,
           "DSB Iba1 52_40X_CA1"
          ],
          [
           52,
           252,
           "DSB Iba1 52_40X_CA3"
          ],
          [
           52,
           253,
           "DSB Iba1 52_40X_CTX1"
          ],
          [
           52,
           254,
           "DSB Iba1 52_40X_CTX2"
          ],
          [
           52,
           255,
           "DSB Iba1 52_40X_CTX3"
          ],
          [
           52,
           256,
           "DSB Iba1 52_40X_DG"
          ],
          [
           53,
           257,
           "DSB Iba1 53_40X_CA1"
          ],
          [
           53,
           258,
           "DSB Iba1 53_40X_CA3"
          ],
          [
           53,
           259,
           "DSB Iba1 53_40X_CTX1"
          ],
          [
           53,
           260,
           "DSB Iba1 53_40X_CTX2"
          ],
          [
           53,
           261,
           "DSB Iba1 53_40X_CTX3"
          ],
          [
           53,
           262,
           "DSB Iba1 53_40X_DG"
          ],
          [
           54,
           263,
           "DSB Iba1 54_40X_CA1"
          ],
          [
           54,
           264,
           "DSB Iba1 54_40X_CA3"
          ],
          [
           54,
           265,
           "DSB Iba1 54_40X_CTX1"
          ],
          [
           54,
           266,
           "DSB Iba1 54_40X_CTX2"
          ],
          [
           54,
           267,
           "DSB Iba1 54_40X_CTX3"
          ],
          [
           54,
           268,
           "DSB Iba1 54_40X_DG"
          ],
          [
           55,
           269,
           "DSB Iba1 55_40X_CA1"
          ],
          [
           55,
           270,
           "DSB Iba1 55_40X_CA3"
          ],
          [
           55,
           271,
           "DSB Iba1 55_40X_CTX1"
          ],
          [
           55,
           272,
           "DSB Iba1 55_40X_CTX2"
          ],
          [
           55,
           273,
           "DSB Iba1 55_40X_CTX3"
          ],
          [
           55,
           274,
           "DSB Iba1 55_40X_DG"
          ],
          [
           56,
           275,
           "DSB Iba1 56_40X_CA1"
          ],
          [
           56,
           276,
           "DSB Iba1 56_40X_CA3"
          ],
          [
           56,
           277,
           "DSB Iba1 56_40X_CTX1"
          ],
          [
           56,
           278,
           "DSB Iba1 56_40X_CTX2"
          ],
          [
           56,
           279,
           "DSB Iba1 56_40X_CTX3"
          ],
          [
           56,
           280,
           "DSB Iba1 56_40X_DG"
          ],
          [
           57,
           281,
           "DSB Iba1 57_40X_CA1"
          ],
          [
           57,
           282,
           "DSB Iba1 57_40X_CA3"
          ],
          [
           57,
           283,
           "DSB Iba1 57_40X_CTX1"
          ],
          [
           57,
           284,
           "DSB Iba1 57_40X_CTX2"
          ],
          [
           57,
           285,
           "DSB Iba1 57_40X_CTX3"
          ],
          [
           57,
           286,
           "DSB Iba1 57_40X_DG"
          ],
          [
           58,
           287,
           "DSB Iba1 58_40X_CA1"
          ],
          [
           58,
           288,
           "DSB Iba1 58_40X_CA3"
          ],
          [
           58,
           289,
           "DSB Iba1 58_40X_CTX1"
          ],
          [
           58,
           290,
           "DSB Iba1 58_40X_CTX2"
          ],
          [
           58,
           291,
           "DSB Iba1 58_40X_CTX3"
          ],
          [
           58,
           292,
           "DSB Iba1 58_40X_DG"
          ],
          [
           59,
           293,
           "DSB Iba1 59_40X_CA1"
          ],
          [
           59,
           294,
           "DSB Iba1 59_40X_CA3"
          ],
          [
           59,
           295,
           "DSB Iba1 59_40X_CTX1"
          ],
          [
           59,
           296,
           "DSB Iba1 59_40X_CTX2"
          ],
          [
           59,
           297,
           "DSB Iba1 59_40X_CTX3"
          ],
          [
           59,
           298,
           "DSB Iba1 59_40X_DG"
          ]
         ],
         "hovertemplate": "tissue_location=%{x}<br>nr_glia_+_nuclei=%{y}<br>staining_id=%{customdata[0]}<br>index=%{customdata[1]}<br>filename=%{customdata[2]}<extra></extra>",
         "legendgroup": "",
         "marker": {
          "color": "#636efa",
          "symbol": "circle"
         },
         "mode": "markers",
         "name": "",
         "orientation": "v",
         "showlegend": false,
         "type": "scatter",
         "x": [
          "CA1",
          "CA3",
          "CTX1",
          "CTX2",
          "CTX3",
          "DG",
          "CA1",
          "CA3",
          "CTX1",
          "CTX2",
          "CTX3",
          "DG",
          "CA1",
          "CA3",
          "CTX1",
          "CTX2",
          "CTX3",
          "DG",
          "CA1",
          "CA3",
          "CTX1",
          "CTX2",
          "CTX3",
          "DG",
          "CA1",
          "CA3",
          "CTX1",
          "CTX2",
          "CTX3",
          "CA1",
          "CA3",
          "CTX1",
          "CTX2",
          "CTX3",
          "DG",
          "CA1",
          "CA3",
          "CTX1",
          "CTX2",
          "CTX3",
          "DG",
          "CA1",
          "CA3",
          "CTX1",
          "CTX2",
          "CTX3",
          "DG",
          "CA1",
          "CA3",
          "CTX1",
          "CTX2",
          "CTX3",
          "DG",
          "CA1",
          "CA3",
          "CTX1",
          "CTX2",
          "CTX3",
          "DG",
          "CA1",
          "CA3",
          "CTX1",
          "CTX2",
          "CTX3",
          "DG",
          "CA1",
          "CA3",
          "CTX1",
          "CTX2",
          "CTX3",
          "DG",
          "CA1",
          "CA3",
          "CTX1",
          "CTX2",
          "CTX3",
          "DG",
          "CA1",
          "CA3",
          "CTX1",
          "CTX2",
          "CTX3",
          "DG",
          "CA1",
          "CA3",
          "CTX1",
          "CTX2",
          "CTX3",
          "DG",
          "CA1",
          "CA3",
          "CTX1",
          "CTX2",
          "CTX3",
          "DG",
          "CA1",
          "CA3",
          "CTX1",
          "CTX2",
          "CTX3",
          "DG",
          "CA1",
          "CA3",
          "CTX1",
          "CTX2",
          "CTX3",
          "DG",
          "CA1",
          "CA3",
          "CTX1",
          "CTX2",
          "CTX3",
          "DG",
          "DG",
          "CA1",
          "CA3",
          "CTX1",
          "CTX2",
          "CTX3",
          "DG",
          "CA1",
          "CA3",
          "CTX1",
          "CTX2",
          "CTX3",
          "DG",
          "CA1",
          "CA3",
          "CTX1",
          "CTX2",
          "CTX3",
          "DG",
          "CA1",
          "CA3",
          "CTX1",
          "CTX2",
          "CTX3",
          "DG",
          "CA1",
          "CA3",
          "CTX1",
          "CTX2",
          "CTX3",
          "DG",
          "CA1",
          "CA3",
          "CTX1",
          "CTX2",
          "CTX3",
          "DG",
          "CA1",
          "CA3",
          "CTX1",
          "CTX2",
          "CTX3",
          "DG",
          "CA1",
          "CA3",
          "CTX1",
          "CTX2",
          "CTX3",
          "DG",
          "CA1",
          "CA3",
          "CTX1",
          "CTX2",
          "CTX3",
          "DG",
          "CA1",
          "CA3",
          "CTX1",
          "CTX2",
          "CTX3",
          "DG",
          "DG",
          "CA1",
          "CA3",
          "CTX1",
          "CTX2",
          "CTX3",
          "DG",
          "CA1",
          "CA3",
          "CTX1",
          "CTX2",
          "CTX3",
          "DG",
          "CA1",
          "CA3",
          "CTX1",
          "CTX2",
          "CTX3",
          "DG",
          "CA1",
          "CA3",
          "CTX1",
          "CTX2",
          "CTX3",
          "DG",
          "CA1",
          "CA3",
          "CTX1",
          "CTX2",
          "CTX3",
          "DG",
          "CA1",
          "CA3",
          "CTX1",
          "DG",
          "CA1",
          "CA3",
          "CTX1",
          "CTX2",
          "CTX3",
          "DG",
          "CA1",
          "CA3",
          "CTX1",
          "CTX2",
          "CTX3",
          "DG",
          "CA1",
          "CA3",
          "CTX1",
          "CTX2",
          "CTX3",
          "DG",
          "CA1",
          "CA3",
          "CTX1",
          "CTX2",
          "CTX3",
          "DG",
          "CA1",
          "CA3",
          "CTX1",
          "CTX2",
          "CTX3",
          "DG",
          "CA1",
          "CA3",
          "CTX1",
          "CTX2",
          "CTX3",
          "DG",
          "CA1",
          "CA3",
          "CTX1",
          "CTX2",
          "CTX3",
          "DG",
          "CA1",
          "CA3",
          "CTX1",
          "CTX2",
          "CTX3",
          "DG",
          "CA1",
          "CA3",
          "CTX1",
          "CTX2",
          "CTX3",
          "DG",
          "CA1",
          "CA3",
          "CTX1",
          "CTX2",
          "CTX3",
          "DG",
          "CA1",
          "CA3",
          "CTX1",
          "CTX2",
          "CTX3",
          "DG",
          "CA1",
          "CA3",
          "CTX1",
          "CTX2",
          "CTX3",
          "DG",
          "CA1",
          "CA3",
          "CTX1",
          "CTX2",
          "CTX3",
          "DG",
          "CA1",
          "CA3",
          "CTX1",
          "CTX2",
          "CTX3",
          "DG",
          "CA1",
          "CA3",
          "CTX1",
          "CTX2",
          "CTX3",
          "DG"
         ],
         "xaxis": "x",
         "y": [
          12,
          9,
          30,
          11,
          15,
          20,
          9,
          6,
          36,
          21,
          22,
          20,
          6,
          10,
          18,
          18,
          21,
          17,
          11,
          9,
          28,
          19,
          14,
          8,
          6,
          7,
          22,
          19,
          24,
          7,
          2,
          11,
          5,
          10,
          8,
          7,
          8,
          28,
          20,
          15,
          15,
          3,
          5,
          14,
          11,
          14,
          10,
          189,
          185,
          42,
          241,
          104,
          438,
          11,
          19,
          17,
          52,
          27,
          149,
          14,
          12,
          19,
          20,
          17,
          104,
          66,
          71,
          211,
          71,
          103,
          127,
          6,
          5,
          5,
          22,
          3,
          7,
          11,
          4,
          17,
          15,
          23,
          15,
          19,
          6,
          10,
          17,
          8,
          17,
          8,
          8,
          25,
          5,
          11,
          16,
          6,
          4,
          19,
          17,
          13,
          8,
          8,
          9,
          25,
          20,
          9,
          15,
          7,
          5,
          8,
          15,
          11,
          12,
          4,
          2,
          1,
          3,
          13,
          11,
          17,
          10,
          5,
          16,
          26,
          16,
          6,
          6,
          4,
          26,
          22,
          13,
          5,
          11,
          1,
          11,
          17,
          13,
          14,
          18,
          17,
          31,
          38,
          27,
          60,
          5,
          7,
          10,
          15,
          9,
          8,
          11,
          5,
          22,
          27,
          26,
          19,
          10,
          29,
          18,
          111,
          80,
          134,
          8,
          6,
          16,
          29,
          10,
          5,
          7,
          11,
          13,
          24,
          29,
          7,
          4,
          6,
          5,
          2,
          5,
          2,
          8,
          4,
          8,
          20,
          11,
          24,
          5,
          4,
          4,
          0,
          3,
          5,
          6,
          3,
          6,
          6,
          15,
          10,
          4,
          11,
          7,
          28,
          20,
          12,
          39,
          31,
          18,
          54,
          79,
          16,
          3,
          12,
          25,
          17,
          22,
          66,
          36,
          79,
          104,
          68,
          124,
          17,
          17,
          36,
          74,
          37,
          16,
          7,
          4,
          35,
          24,
          20,
          13,
          17,
          16,
          16,
          18,
          17,
          28,
          13,
          9,
          24,
          14,
          31,
          15,
          15,
          8,
          18,
          24,
          26,
          22,
          5,
          7,
          23,
          31,
          26,
          16,
          6,
          6,
          24,
          26,
          13,
          18,
          5,
          3,
          10,
          10,
          20,
          13,
          7,
          3,
          8,
          9,
          6,
          11,
          13,
          12,
          21,
          23,
          36,
          16,
          11,
          8,
          14,
          12,
          11,
          28,
          4,
          6,
          17,
          16,
          6,
          2,
          5,
          5,
          9,
          20,
          23,
          6
         ],
         "yaxis": "y"
        }
       ],
       "layout": {
        "legend": {
         "tracegroupgap": 0
        },
        "template": {
         "data": {
          "bar": [
           {
            "error_x": {
             "color": "#2a3f5f"
            },
            "error_y": {
             "color": "#2a3f5f"
            },
            "marker": {
             "line": {
              "color": "#E5ECF6",
              "width": 0.5
             },
             "pattern": {
              "fillmode": "overlay",
              "size": 10,
              "solidity": 0.2
             }
            },
            "type": "bar"
           }
          ],
          "barpolar": [
           {
            "marker": {
             "line": {
              "color": "#E5ECF6",
              "width": 0.5
             },
             "pattern": {
              "fillmode": "overlay",
              "size": 10,
              "solidity": 0.2
             }
            },
            "type": "barpolar"
           }
          ],
          "carpet": [
           {
            "aaxis": {
             "endlinecolor": "#2a3f5f",
             "gridcolor": "white",
             "linecolor": "white",
             "minorgridcolor": "white",
             "startlinecolor": "#2a3f5f"
            },
            "baxis": {
             "endlinecolor": "#2a3f5f",
             "gridcolor": "white",
             "linecolor": "white",
             "minorgridcolor": "white",
             "startlinecolor": "#2a3f5f"
            },
            "type": "carpet"
           }
          ],
          "choropleth": [
           {
            "colorbar": {
             "outlinewidth": 0,
             "ticks": ""
            },
            "type": "choropleth"
           }
          ],
          "contour": [
           {
            "colorbar": {
             "outlinewidth": 0,
             "ticks": ""
            },
            "colorscale": [
             [
              0,
              "#0d0887"
             ],
             [
              0.1111111111111111,
              "#46039f"
             ],
             [
              0.2222222222222222,
              "#7201a8"
             ],
             [
              0.3333333333333333,
              "#9c179e"
             ],
             [
              0.4444444444444444,
              "#bd3786"
             ],
             [
              0.5555555555555556,
              "#d8576b"
             ],
             [
              0.6666666666666666,
              "#ed7953"
             ],
             [
              0.7777777777777778,
              "#fb9f3a"
             ],
             [
              0.8888888888888888,
              "#fdca26"
             ],
             [
              1,
              "#f0f921"
             ]
            ],
            "type": "contour"
           }
          ],
          "contourcarpet": [
           {
            "colorbar": {
             "outlinewidth": 0,
             "ticks": ""
            },
            "type": "contourcarpet"
           }
          ],
          "heatmap": [
           {
            "colorbar": {
             "outlinewidth": 0,
             "ticks": ""
            },
            "colorscale": [
             [
              0,
              "#0d0887"
             ],
             [
              0.1111111111111111,
              "#46039f"
             ],
             [
              0.2222222222222222,
              "#7201a8"
             ],
             [
              0.3333333333333333,
              "#9c179e"
             ],
             [
              0.4444444444444444,
              "#bd3786"
             ],
             [
              0.5555555555555556,
              "#d8576b"
             ],
             [
              0.6666666666666666,
              "#ed7953"
             ],
             [
              0.7777777777777778,
              "#fb9f3a"
             ],
             [
              0.8888888888888888,
              "#fdca26"
             ],
             [
              1,
              "#f0f921"
             ]
            ],
            "type": "heatmap"
           }
          ],
          "heatmapgl": [
           {
            "colorbar": {
             "outlinewidth": 0,
             "ticks": ""
            },
            "colorscale": [
             [
              0,
              "#0d0887"
             ],
             [
              0.1111111111111111,
              "#46039f"
             ],
             [
              0.2222222222222222,
              "#7201a8"
             ],
             [
              0.3333333333333333,
              "#9c179e"
             ],
             [
              0.4444444444444444,
              "#bd3786"
             ],
             [
              0.5555555555555556,
              "#d8576b"
             ],
             [
              0.6666666666666666,
              "#ed7953"
             ],
             [
              0.7777777777777778,
              "#fb9f3a"
             ],
             [
              0.8888888888888888,
              "#fdca26"
             ],
             [
              1,
              "#f0f921"
             ]
            ],
            "type": "heatmapgl"
           }
          ],
          "histogram": [
           {
            "marker": {
             "pattern": {
              "fillmode": "overlay",
              "size": 10,
              "solidity": 0.2
             }
            },
            "type": "histogram"
           }
          ],
          "histogram2d": [
           {
            "colorbar": {
             "outlinewidth": 0,
             "ticks": ""
            },
            "colorscale": [
             [
              0,
              "#0d0887"
             ],
             [
              0.1111111111111111,
              "#46039f"
             ],
             [
              0.2222222222222222,
              "#7201a8"
             ],
             [
              0.3333333333333333,
              "#9c179e"
             ],
             [
              0.4444444444444444,
              "#bd3786"
             ],
             [
              0.5555555555555556,
              "#d8576b"
             ],
             [
              0.6666666666666666,
              "#ed7953"
             ],
             [
              0.7777777777777778,
              "#fb9f3a"
             ],
             [
              0.8888888888888888,
              "#fdca26"
             ],
             [
              1,
              "#f0f921"
             ]
            ],
            "type": "histogram2d"
           }
          ],
          "histogram2dcontour": [
           {
            "colorbar": {
             "outlinewidth": 0,
             "ticks": ""
            },
            "colorscale": [
             [
              0,
              "#0d0887"
             ],
             [
              0.1111111111111111,
              "#46039f"
             ],
             [
              0.2222222222222222,
              "#7201a8"
             ],
             [
              0.3333333333333333,
              "#9c179e"
             ],
             [
              0.4444444444444444,
              "#bd3786"
             ],
             [
              0.5555555555555556,
              "#d8576b"
             ],
             [
              0.6666666666666666,
              "#ed7953"
             ],
             [
              0.7777777777777778,
              "#fb9f3a"
             ],
             [
              0.8888888888888888,
              "#fdca26"
             ],
             [
              1,
              "#f0f921"
             ]
            ],
            "type": "histogram2dcontour"
           }
          ],
          "mesh3d": [
           {
            "colorbar": {
             "outlinewidth": 0,
             "ticks": ""
            },
            "type": "mesh3d"
           }
          ],
          "parcoords": [
           {
            "line": {
             "colorbar": {
              "outlinewidth": 0,
              "ticks": ""
             }
            },
            "type": "parcoords"
           }
          ],
          "pie": [
           {
            "automargin": true,
            "type": "pie"
           }
          ],
          "scatter": [
           {
            "fillpattern": {
             "fillmode": "overlay",
             "size": 10,
             "solidity": 0.2
            },
            "type": "scatter"
           }
          ],
          "scatter3d": [
           {
            "line": {
             "colorbar": {
              "outlinewidth": 0,
              "ticks": ""
             }
            },
            "marker": {
             "colorbar": {
              "outlinewidth": 0,
              "ticks": ""
             }
            },
            "type": "scatter3d"
           }
          ],
          "scattercarpet": [
           {
            "marker": {
             "colorbar": {
              "outlinewidth": 0,
              "ticks": ""
             }
            },
            "type": "scattercarpet"
           }
          ],
          "scattergeo": [
           {
            "marker": {
             "colorbar": {
              "outlinewidth": 0,
              "ticks": ""
             }
            },
            "type": "scattergeo"
           }
          ],
          "scattergl": [
           {
            "marker": {
             "colorbar": {
              "outlinewidth": 0,
              "ticks": ""
             }
            },
            "type": "scattergl"
           }
          ],
          "scattermapbox": [
           {
            "marker": {
             "colorbar": {
              "outlinewidth": 0,
              "ticks": ""
             }
            },
            "type": "scattermapbox"
           }
          ],
          "scatterpolar": [
           {
            "marker": {
             "colorbar": {
              "outlinewidth": 0,
              "ticks": ""
             }
            },
            "type": "scatterpolar"
           }
          ],
          "scatterpolargl": [
           {
            "marker": {
             "colorbar": {
              "outlinewidth": 0,
              "ticks": ""
             }
            },
            "type": "scatterpolargl"
           }
          ],
          "scatterternary": [
           {
            "marker": {
             "colorbar": {
              "outlinewidth": 0,
              "ticks": ""
             }
            },
            "type": "scatterternary"
           }
          ],
          "surface": [
           {
            "colorbar": {
             "outlinewidth": 0,
             "ticks": ""
            },
            "colorscale": [
             [
              0,
              "#0d0887"
             ],
             [
              0.1111111111111111,
              "#46039f"
             ],
             [
              0.2222222222222222,
              "#7201a8"
             ],
             [
              0.3333333333333333,
              "#9c179e"
             ],
             [
              0.4444444444444444,
              "#bd3786"
             ],
             [
              0.5555555555555556,
              "#d8576b"
             ],
             [
              0.6666666666666666,
              "#ed7953"
             ],
             [
              0.7777777777777778,
              "#fb9f3a"
             ],
             [
              0.8888888888888888,
              "#fdca26"
             ],
             [
              1,
              "#f0f921"
             ]
            ],
            "type": "surface"
           }
          ],
          "table": [
           {
            "cells": {
             "fill": {
              "color": "#EBF0F8"
             },
             "line": {
              "color": "white"
             }
            },
            "header": {
             "fill": {
              "color": "#C8D4E3"
             },
             "line": {
              "color": "white"
             }
            },
            "type": "table"
           }
          ]
         },
         "layout": {
          "annotationdefaults": {
           "arrowcolor": "#2a3f5f",
           "arrowhead": 0,
           "arrowwidth": 1
          },
          "autotypenumbers": "strict",
          "coloraxis": {
           "colorbar": {
            "outlinewidth": 0,
            "ticks": ""
           }
          },
          "colorscale": {
           "diverging": [
            [
             0,
             "#8e0152"
            ],
            [
             0.1,
             "#c51b7d"
            ],
            [
             0.2,
             "#de77ae"
            ],
            [
             0.3,
             "#f1b6da"
            ],
            [
             0.4,
             "#fde0ef"
            ],
            [
             0.5,
             "#f7f7f7"
            ],
            [
             0.6,
             "#e6f5d0"
            ],
            [
             0.7,
             "#b8e186"
            ],
            [
             0.8,
             "#7fbc41"
            ],
            [
             0.9,
             "#4d9221"
            ],
            [
             1,
             "#276419"
            ]
           ],
           "sequential": [
            [
             0,
             "#0d0887"
            ],
            [
             0.1111111111111111,
             "#46039f"
            ],
            [
             0.2222222222222222,
             "#7201a8"
            ],
            [
             0.3333333333333333,
             "#9c179e"
            ],
            [
             0.4444444444444444,
             "#bd3786"
            ],
            [
             0.5555555555555556,
             "#d8576b"
            ],
            [
             0.6666666666666666,
             "#ed7953"
            ],
            [
             0.7777777777777778,
             "#fb9f3a"
            ],
            [
             0.8888888888888888,
             "#fdca26"
            ],
            [
             1,
             "#f0f921"
            ]
           ],
           "sequentialminus": [
            [
             0,
             "#0d0887"
            ],
            [
             0.1111111111111111,
             "#46039f"
            ],
            [
             0.2222222222222222,
             "#7201a8"
            ],
            [
             0.3333333333333333,
             "#9c179e"
            ],
            [
             0.4444444444444444,
             "#bd3786"
            ],
            [
             0.5555555555555556,
             "#d8576b"
            ],
            [
             0.6666666666666666,
             "#ed7953"
            ],
            [
             0.7777777777777778,
             "#fb9f3a"
            ],
            [
             0.8888888888888888,
             "#fdca26"
            ],
            [
             1,
             "#f0f921"
            ]
           ]
          },
          "colorway": [
           "#636efa",
           "#EF553B",
           "#00cc96",
           "#ab63fa",
           "#FFA15A",
           "#19d3f3",
           "#FF6692",
           "#B6E880",
           "#FF97FF",
           "#FECB52"
          ],
          "font": {
           "color": "#2a3f5f"
          },
          "geo": {
           "bgcolor": "white",
           "lakecolor": "white",
           "landcolor": "#E5ECF6",
           "showlakes": true,
           "showland": true,
           "subunitcolor": "white"
          },
          "hoverlabel": {
           "align": "left"
          },
          "hovermode": "closest",
          "mapbox": {
           "style": "light"
          },
          "paper_bgcolor": "white",
          "plot_bgcolor": "#E5ECF6",
          "polar": {
           "angularaxis": {
            "gridcolor": "white",
            "linecolor": "white",
            "ticks": ""
           },
           "bgcolor": "#E5ECF6",
           "radialaxis": {
            "gridcolor": "white",
            "linecolor": "white",
            "ticks": ""
           }
          },
          "scene": {
           "xaxis": {
            "backgroundcolor": "#E5ECF6",
            "gridcolor": "white",
            "gridwidth": 2,
            "linecolor": "white",
            "showbackground": true,
            "ticks": "",
            "zerolinecolor": "white"
           },
           "yaxis": {
            "backgroundcolor": "#E5ECF6",
            "gridcolor": "white",
            "gridwidth": 2,
            "linecolor": "white",
            "showbackground": true,
            "ticks": "",
            "zerolinecolor": "white"
           },
           "zaxis": {
            "backgroundcolor": "#E5ECF6",
            "gridcolor": "white",
            "gridwidth": 2,
            "linecolor": "white",
            "showbackground": true,
            "ticks": "",
            "zerolinecolor": "white"
           }
          },
          "shapedefaults": {
           "line": {
            "color": "#2a3f5f"
           }
          },
          "ternary": {
           "aaxis": {
            "gridcolor": "white",
            "linecolor": "white",
            "ticks": ""
           },
           "baxis": {
            "gridcolor": "white",
            "linecolor": "white",
            "ticks": ""
           },
           "bgcolor": "#E5ECF6",
           "caxis": {
            "gridcolor": "white",
            "linecolor": "white",
            "ticks": ""
           }
          },
          "title": {
           "x": 0.05
          },
          "xaxis": {
           "automargin": true,
           "gridcolor": "white",
           "linecolor": "white",
           "ticks": "",
           "title": {
            "standoff": 15
           },
           "zerolinecolor": "white",
           "zerolinewidth": 2
          },
          "yaxis": {
           "automargin": true,
           "gridcolor": "white",
           "linecolor": "white",
           "ticks": "",
           "title": {
            "standoff": 15
           },
           "zerolinecolor": "white",
           "zerolinewidth": 2
          }
         }
        },
        "title": {
         "text": "Nr of Microglia+ nuclei by Tissue Location - cellpdia30_sigma1_dilrad4_dnad_obj_seg_v1_gliaero6_gliathr20_dnadero2"
        },
        "xaxis": {
         "anchor": "y",
         "domain": [
          0,
          1
         ],
         "title": {
          "text": "tissue_location"
         }
        },
        "yaxis": {
         "anchor": "x",
         "domain": [
          0,
          1
         ],
         "title": {
          "text": "nr_glia_+_nuclei"
         }
        }
       }
      }
     },
     "metadata": {},
     "output_type": "display_data"
    },
    {
     "data": {
      "application/vnd.plotly.v1+json": {
       "config": {
        "plotlyServerURL": "https://plot.ly"
       },
       "data": [
        {
         "customdata": [
          [
           101,
           0,
           "DSB Iba1 101_40X_CA1"
          ],
          [
           101,
           1,
           "DSB Iba1 101_40X_CA3"
          ],
          [
           101,
           2,
           "DSB Iba1 101_40X_CTX1"
          ],
          [
           101,
           3,
           "DSB Iba1 101_40X_CTX2"
          ],
          [
           101,
           4,
           "DSB Iba1 101_40X_CTX3"
          ],
          [
           101,
           5,
           "DSB Iba1 101_40X_DG"
          ],
          [
           102,
           6,
           "DSB Iba1 102_40X_CA1"
          ],
          [
           102,
           7,
           "DSB Iba1 102_40X_CA3"
          ],
          [
           102,
           8,
           "DSB Iba1 102_40X_CTX1"
          ],
          [
           102,
           9,
           "DSB Iba1 102_40X_CTX2"
          ],
          [
           102,
           10,
           "DSB Iba1 102_40X_CTX3"
          ],
          [
           102,
           11,
           "DSB Iba1 102_40X_DG"
          ],
          [
           103,
           12,
           "DSB Iba1 103_40X_CA1"
          ],
          [
           103,
           13,
           "DSB Iba1 103_40X_CA3"
          ],
          [
           103,
           14,
           "DSB Iba1 103_40X_CTX1"
          ],
          [
           103,
           15,
           "DSB Iba1 103_40X_CTX2"
          ],
          [
           103,
           16,
           "DSB Iba1 103_40X_CTX3"
          ],
          [
           103,
           17,
           "DSB Iba1 103_40X_DG"
          ],
          [
           104,
           18,
           "DSB Iba1 104_40X_CA1"
          ],
          [
           104,
           19,
           "DSB Iba1 104_40X_CA3"
          ],
          [
           104,
           20,
           "DSB Iba1 104_40X_CTX1"
          ],
          [
           104,
           21,
           "DSB Iba1 104_40X_CTX2"
          ],
          [
           104,
           22,
           "DSB Iba1 104_40X_CTX3"
          ],
          [
           104,
           23,
           "DSB Iba1 104_40X_DG"
          ],
          [
           105,
           24,
           "DSB Iba1 105_40X_CA1"
          ],
          [
           105,
           25,
           "DSB Iba1 105_40X_CA3"
          ],
          [
           105,
           26,
           "DSB Iba1 105_40X_CTX1"
          ],
          [
           105,
           27,
           "DSB Iba1 105_40X_CTX2"
          ],
          [
           105,
           28,
           "DSB Iba1 105_40X_CTX3"
          ],
          [
           106,
           29,
           "DSB Iba1 106_40X_CA1"
          ],
          [
           106,
           30,
           "DSB Iba1 106_40X_CA3"
          ],
          [
           106,
           31,
           "DSB Iba1 106_40X_CTX1"
          ],
          [
           106,
           32,
           "DSB Iba1 106_40X_CTX2"
          ],
          [
           106,
           33,
           "DSB Iba1 106_40X_CTX3"
          ],
          [
           106,
           34,
           "DSB Iba1 106_40X_DG"
          ],
          [
           107,
           35,
           "DSB Iba1 107_40X_CA1"
          ],
          [
           107,
           36,
           "DSB Iba1 107_40X_CA3"
          ],
          [
           107,
           37,
           "DSB Iba1 107_40X_CTX1"
          ],
          [
           107,
           38,
           "DSB Iba1 107_40X_CTX2"
          ],
          [
           107,
           39,
           "DSB Iba1 107_40X_CTX3"
          ],
          [
           107,
           40,
           "DSB Iba1 107_40X_DG"
          ],
          [
           108,
           41,
           "DSB Iba1 108_40X_CA1"
          ],
          [
           108,
           42,
           "DSB Iba1 108_40X_CA3"
          ],
          [
           108,
           43,
           "DSB Iba1 108_40X_CTX1"
          ],
          [
           108,
           44,
           "DSB Iba1 108_40X_CTX2"
          ],
          [
           108,
           45,
           "DSB Iba1 108_40X_CTX3"
          ],
          [
           108,
           46,
           "DSB Iba1 108_40X_DG"
          ],
          [
           16,
           47,
           "DSB Iba1 16_40X_CA1"
          ],
          [
           16,
           48,
           "DSB Iba1 16_40X_CA3"
          ],
          [
           16,
           49,
           "DSB Iba1 16_40X_CTX1"
          ],
          [
           16,
           50,
           "DSB Iba1 16_40X_CTX2"
          ],
          [
           16,
           51,
           "DSB Iba1 16_40X_CTX3"
          ],
          [
           16,
           52,
           "DSB Iba1 16_40X_DG"
          ],
          [
           17,
           53,
           "DSB Iba1 17_40X_CA1"
          ],
          [
           17,
           54,
           "DSB Iba1 17_40X_CA3"
          ],
          [
           17,
           55,
           "DSB Iba1 17_40X_CTX1"
          ],
          [
           17,
           56,
           "DSB Iba1 17_40X_CTX2"
          ],
          [
           17,
           57,
           "DSB Iba1 17_40X_CTX3"
          ],
          [
           17,
           58,
           "DSB Iba1 17_40X_DG"
          ],
          [
           18,
           59,
           "DSB Iba1 18_40X_CA1"
          ],
          [
           18,
           60,
           "DSB Iba1 18_40X_CA3"
          ],
          [
           18,
           61,
           "DSB Iba1 18_40X_CTX1"
          ],
          [
           18,
           62,
           "DSB Iba1 18_40X_CTX2"
          ],
          [
           18,
           63,
           "DSB Iba1 18_40X_CTX3"
          ],
          [
           18,
           64,
           "DSB Iba1 18_40X_DG"
          ],
          [
           19,
           65,
           "DSB Iba1 19_40X_CA1"
          ],
          [
           19,
           66,
           "DSB Iba1 19_40X_CA3"
          ],
          [
           19,
           67,
           "DSB Iba1 19_40X_CTX1"
          ],
          [
           19,
           68,
           "DSB Iba1 19_40X_CTX2"
          ],
          [
           19,
           69,
           "DSB Iba1 19_40X_CTX3"
          ],
          [
           19,
           70,
           "DSB Iba1 19_40X_DG"
          ],
          [
           20,
           71,
           "DSB Iba1 20_40X_CA1"
          ],
          [
           20,
           72,
           "DSB Iba1 20_40X_CA3"
          ],
          [
           20,
           73,
           "DSB Iba1 20_40X_CTX1"
          ],
          [
           20,
           74,
           "DSB Iba1 20_40X_CTX2"
          ],
          [
           20,
           75,
           "DSB Iba1 20_40X_CTX3"
          ],
          [
           20,
           76,
           "DSB Iba1 20_40X_DG"
          ],
          [
           21,
           77,
           "DSB Iba1 21_40X_CA1"
          ],
          [
           21,
           78,
           "DSB Iba1 21_40X_CA3"
          ],
          [
           21,
           79,
           "DSB Iba1 21_40X_CTX1"
          ],
          [
           21,
           80,
           "DSB Iba1 21_40X_CTX2"
          ],
          [
           21,
           81,
           "DSB Iba1 21_40X_CTX3"
          ],
          [
           21,
           82,
           "DSB Iba1 21_40X_DG"
          ],
          [
           22,
           83,
           "DSB Iba1 22_40X_CA1"
          ],
          [
           22,
           84,
           "DSB Iba1 22_40X_CA3"
          ],
          [
           22,
           85,
           "DSB Iba1 22_40X_CTX1"
          ],
          [
           22,
           86,
           "DSB Iba1 22_40X_CTX2"
          ],
          [
           22,
           87,
           "DSB Iba1 22_40X_CTX3"
          ],
          [
           22,
           88,
           "DSB Iba1 22_40X_DG"
          ],
          [
           23,
           89,
           "DSB Iba1 23_40X_CA1"
          ],
          [
           23,
           90,
           "DSB Iba1 23_40X_CA3"
          ],
          [
           23,
           91,
           "DSB Iba1 23_40X_CTX1"
          ],
          [
           23,
           92,
           "DSB Iba1 23_40X_CTX2"
          ],
          [
           23,
           93,
           "DSB Iba1 23_40X_CTX3"
          ],
          [
           23,
           94,
           "DSB Iba1 23_40X_DG"
          ],
          [
           24,
           95,
           "DSB Iba1 24_40X_CA1"
          ],
          [
           24,
           96,
           "DSB Iba1 24_40X_CA3"
          ],
          [
           24,
           97,
           "DSB Iba1 24_40X_CTX1"
          ],
          [
           24,
           98,
           "DSB Iba1 24_40X_CTX2"
          ],
          [
           24,
           99,
           "DSB Iba1 24_40X_CTX3"
          ],
          [
           24,
           100,
           "DSB Iba1 24_40X_DG"
          ],
          [
           25,
           101,
           "DSB Iba1 25_40X_CA1"
          ],
          [
           25,
           102,
           "DSB Iba1 25_40X_CA3"
          ],
          [
           25,
           103,
           "DSB Iba1 25_40X_CTX1"
          ],
          [
           25,
           104,
           "DSB Iba1 25_40X_CTX2"
          ],
          [
           25,
           105,
           "DSB Iba1 25_40X_CTX3"
          ],
          [
           25,
           106,
           "DSB Iba1 25_40X_DG"
          ],
          [
           26,
           107,
           "DSB Iba1 26_40X_CA1"
          ],
          [
           26,
           108,
           "DSB Iba1 26_40X_CA3"
          ],
          [
           26,
           109,
           "DSB Iba1 26_40X_CTX1"
          ],
          [
           26,
           110,
           "DSB Iba1 26_40X_CTX2"
          ],
          [
           26,
           111,
           "DSB Iba1 26_40X_CTX3"
          ],
          [
           26,
           112,
           "DSB Iba1 26_40X_DG"
          ],
          [
           27,
           113,
           "DSB Iba1 27_40X_DG"
          ],
          [
           28,
           114,
           "DSB Iba1 28_40X_CA1"
          ],
          [
           28,
           115,
           "DSB Iba1 28_40X_CA3"
          ],
          [
           28,
           116,
           "DSB Iba1 28_40X_CTX1"
          ],
          [
           28,
           117,
           "DSB Iba1 28_40X_CTX2"
          ],
          [
           28,
           118,
           "DSB Iba1 28_40X_CTX3"
          ],
          [
           28,
           119,
           "DSB Iba1 28_40X_DG"
          ],
          [
           29,
           120,
           "DSB Iba1 29_40X_CA1"
          ],
          [
           29,
           121,
           "DSB Iba1 29_40X_CA3"
          ],
          [
           29,
           122,
           "DSB Iba1 29_40X_CTX1"
          ],
          [
           29,
           123,
           "DSB Iba1 29_40X_CTX2"
          ],
          [
           29,
           124,
           "DSB Iba1 29_40X_CTX3"
          ],
          [
           29,
           125,
           "DSB Iba1 29_40X_DG"
          ],
          [
           30,
           126,
           "DSB Iba1 30_40X_CA1"
          ],
          [
           30,
           127,
           "DSB Iba1 30_40X_CA3"
          ],
          [
           30,
           128,
           "DSB Iba1 30_40X_CTX1"
          ],
          [
           30,
           129,
           "DSB Iba1 30_40X_CTX2"
          ],
          [
           30,
           130,
           "DSB Iba1 30_40X_CTX3"
          ],
          [
           30,
           131,
           "DSB Iba1 30_40X_DG"
          ],
          [
           31,
           132,
           "DSB Iba1 31_40X_CA1"
          ],
          [
           31,
           133,
           "DSB Iba1 31_40X_CA3"
          ],
          [
           31,
           134,
           "DSB Iba1 31_40X_CTX1"
          ],
          [
           31,
           135,
           "DSB Iba1 31_40X_CTX2"
          ],
          [
           31,
           136,
           "DSB Iba1 31_40X_CTX3"
          ],
          [
           31,
           137,
           "DSB Iba1 31_40X_DG"
          ],
          [
           32,
           138,
           "DSB Iba1 32_40X_CA1"
          ],
          [
           32,
           139,
           "DSB Iba1 32_40X_CA3"
          ],
          [
           32,
           140,
           "DSB Iba1 32_40X_CTX1"
          ],
          [
           32,
           141,
           "DSB Iba1 32_40X_CTX2"
          ],
          [
           32,
           142,
           "DSB Iba1 32_40X_CTX3"
          ],
          [
           32,
           143,
           "DSB Iba1 32_40X_DG"
          ],
          [
           33,
           144,
           "DSB Iba1 33_40X_CA1"
          ],
          [
           33,
           145,
           "DSB Iba1 33_40X_CA3"
          ],
          [
           33,
           146,
           "DSB Iba1 33_40X_CTX1"
          ],
          [
           33,
           147,
           "DSB Iba1 33_40X_CTX2"
          ],
          [
           33,
           148,
           "DSB Iba1 33_40X_CTX3"
          ],
          [
           33,
           149,
           "DSB Iba1 33_40X_DG"
          ],
          [
           34,
           150,
           "DSB Iba1 34_40X_CA1"
          ],
          [
           34,
           151,
           "DSB Iba1 34_40X_CA3"
          ],
          [
           34,
           152,
           "DSB Iba1 34_40X_CTX1"
          ],
          [
           34,
           153,
           "DSB Iba1 34_40X_CTX2"
          ],
          [
           34,
           154,
           "DSB Iba1 34_40X_CTX3"
          ],
          [
           34,
           155,
           "DSB Iba1 34_40X_DG"
          ],
          [
           35,
           156,
           "DSB Iba1 35_40X_CA1"
          ],
          [
           35,
           157,
           "DSB Iba1 35_40X_CA3"
          ],
          [
           35,
           158,
           "DSB Iba1 35_40X_CTX1"
          ],
          [
           35,
           159,
           "DSB Iba1 35_40X_CTX2"
          ],
          [
           35,
           160,
           "DSB Iba1 35_40X_CTX3"
          ],
          [
           35,
           161,
           "DSB Iba1 35_40X_DG"
          ],
          [
           36,
           162,
           "DSB Iba1 36_40X_CA1"
          ],
          [
           36,
           163,
           "DSB Iba1 36_40X_CA3"
          ],
          [
           36,
           164,
           "DSB Iba1 36_40X_CTX1"
          ],
          [
           36,
           165,
           "DSB Iba1 36_40X_CTX2"
          ],
          [
           36,
           166,
           "DSB Iba1 36_40X_CTX3"
          ],
          [
           36,
           167,
           "DSB Iba1 36_40X_DG"
          ],
          [
           37,
           168,
           "DSB Iba1 37_40X_CA1"
          ],
          [
           37,
           169,
           "DSB Iba1 37_40X_CA3"
          ],
          [
           37,
           170,
           "DSB Iba1 37_40X_CTX1"
          ],
          [
           37,
           171,
           "DSB Iba1 37_40X_CTX2"
          ],
          [
           37,
           172,
           "DSB Iba1 37_40X_CTX3"
          ],
          [
           37,
           173,
           "DSB Iba1 37_40X_DG"
          ],
          [
           38,
           174,
           "DSB Iba1 38_40X_DG"
          ],
          [
           39,
           175,
           "DSB Iba1 39_40X_CA1"
          ],
          [
           39,
           176,
           "DSB Iba1 39_40X_CA3"
          ],
          [
           39,
           177,
           "DSB Iba1 39_40X_CTX1"
          ],
          [
           39,
           178,
           "DSB Iba1 39_40X_CTX2"
          ],
          [
           39,
           179,
           "DSB Iba1 39_40X_CTX3"
          ],
          [
           39,
           180,
           "DSB Iba1 39_40X_DG"
          ],
          [
           40,
           181,
           "DSB Iba1 40_40X_CA1"
          ],
          [
           40,
           182,
           "DSB Iba1 40_40X_CA3"
          ],
          [
           40,
           183,
           "DSB Iba1 40_40X_CTX1"
          ],
          [
           40,
           184,
           "DSB Iba1 40_40X_CTX2"
          ],
          [
           40,
           185,
           "DSB Iba1 40_40X_CTX3"
          ],
          [
           40,
           186,
           "DSB Iba1 40_40X_DG"
          ],
          [
           41,
           187,
           "DSB Iba1 41_40X_CA1"
          ],
          [
           41,
           188,
           "DSB Iba1 41_40X_CA3"
          ],
          [
           41,
           189,
           "DSB Iba1 41_40X_CTX1"
          ],
          [
           41,
           190,
           "DSB Iba1 41_40X_CTX2"
          ],
          [
           41,
           191,
           "DSB Iba1 41_40X_CTX3"
          ],
          [
           41,
           192,
           "DSB Iba1 41_40X_DG"
          ],
          [
           42,
           193,
           "DSB Iba1 42_40X_CA1"
          ],
          [
           42,
           194,
           "DSB Iba1 42_40X_CA3"
          ],
          [
           42,
           195,
           "DSB Iba1 42_40X_CTX1"
          ],
          [
           42,
           196,
           "DSB Iba1 42_40X_CTX2"
          ],
          [
           42,
           197,
           "DSB Iba1 42_40X_CTX3"
          ],
          [
           42,
           198,
           "DSB Iba1 42_40X_DG"
          ],
          [
           43,
           199,
           "DSB Iba1 43_40X_CA1"
          ],
          [
           43,
           200,
           "DSB Iba1 43_40X_CA3"
          ],
          [
           43,
           201,
           "DSB Iba1 43_40X_CTX1"
          ],
          [
           43,
           202,
           "DSB Iba1 43_40X_CTX2"
          ],
          [
           43,
           203,
           "DSB Iba1 43_40X_CTX3"
          ],
          [
           43,
           204,
           "DSB Iba1 43_40X_DG"
          ],
          [
           44,
           205,
           "DSB Iba1 44_40X_CA1"
          ],
          [
           44,
           206,
           "DSB Iba1 44_40X_CA3"
          ],
          [
           44,
           207,
           "DSB Iba1 44_40X_CTX1"
          ],
          [
           44,
           208,
           "DSB Iba1 44_40X_DG"
          ],
          [
           45,
           209,
           "DSB Iba1 45_40X_CA1"
          ],
          [
           45,
           210,
           "DSB Iba1 45_40X_CA3"
          ],
          [
           45,
           211,
           "DSB Iba1 45_40X_CTX1"
          ],
          [
           45,
           212,
           "DSB Iba1 45_40X_CTX2"
          ],
          [
           45,
           213,
           "DSB Iba1 45_40X_CTX3"
          ],
          [
           45,
           214,
           "DSB Iba1 45_40X_DG"
          ],
          [
           46,
           215,
           "DSB Iba1 46_40X_CA1"
          ],
          [
           46,
           216,
           "DSB Iba1 46_40X_CA3"
          ],
          [
           46,
           217,
           "DSB Iba1 46_40X_CTX1"
          ],
          [
           46,
           218,
           "DSB Iba1 46_40X_CTX2"
          ],
          [
           46,
           219,
           "DSB Iba1 46_40X_CTX3"
          ],
          [
           46,
           220,
           "DSB Iba1 46_40X_DG"
          ],
          [
           47,
           221,
           "DSB Iba1 47_40X_CA1"
          ],
          [
           47,
           222,
           "DSB Iba1 47_40X_CA3"
          ],
          [
           47,
           223,
           "DSB Iba1 47_40X_CTX1"
          ],
          [
           47,
           224,
           "DSB Iba1 47_40X_CTX2"
          ],
          [
           47,
           225,
           "DSB Iba1 47_40X_CTX3"
          ],
          [
           47,
           226,
           "DSB Iba1 47_40X_DG"
          ],
          [
           48,
           227,
           "DSB Iba1 48_40X_CA1"
          ],
          [
           48,
           228,
           "DSB Iba1 48_40X_CA3"
          ],
          [
           48,
           229,
           "DSB Iba1 48_40X_CTX1"
          ],
          [
           48,
           230,
           "DSB Iba1 48_40X_CTX2"
          ],
          [
           48,
           231,
           "DSB Iba1 48_40X_CTX3"
          ],
          [
           48,
           232,
           "DSB Iba1 48_40X_DG"
          ],
          [
           49,
           233,
           "DSB Iba1 49_40X_CA1"
          ],
          [
           49,
           234,
           "DSB Iba1 49_40X_CA3"
          ],
          [
           49,
           235,
           "DSB Iba1 49_40X_CTX1"
          ],
          [
           49,
           236,
           "DSB Iba1 49_40X_CTX2"
          ],
          [
           49,
           237,
           "DSB Iba1 49_40X_CTX3"
          ],
          [
           49,
           238,
           "DSB Iba1 49_40X_DG"
          ],
          [
           50,
           239,
           "DSB Iba1 50_40X_CA1"
          ],
          [
           50,
           240,
           "DSB Iba1 50_40X_CA3"
          ],
          [
           50,
           241,
           "DSB Iba1 50_40X_CTX1"
          ],
          [
           50,
           242,
           "DSB Iba1 50_40X_CTX2"
          ],
          [
           50,
           243,
           "DSB Iba1 50_40X_CTX3"
          ],
          [
           50,
           244,
           "DSB Iba1 50_40X_DG"
          ],
          [
           51,
           245,
           "DSB Iba1 51_40X_CA1"
          ],
          [
           51,
           246,
           "DSB Iba1 51_40X_CA3"
          ],
          [
           51,
           247,
           "DSB Iba1 51_40X_CTX1"
          ],
          [
           51,
           248,
           "DSB Iba1 51_40X_CTX2"
          ],
          [
           51,
           249,
           "DSB Iba1 51_40X_CTX3"
          ],
          [
           51,
           250,
           "DSB Iba1 51_40X_DG"
          ],
          [
           52,
           251,
           "DSB Iba1 52_40X_CA1"
          ],
          [
           52,
           252,
           "DSB Iba1 52_40X_CA3"
          ],
          [
           52,
           253,
           "DSB Iba1 52_40X_CTX1"
          ],
          [
           52,
           254,
           "DSB Iba1 52_40X_CTX2"
          ],
          [
           52,
           255,
           "DSB Iba1 52_40X_CTX3"
          ],
          [
           52,
           256,
           "DSB Iba1 52_40X_DG"
          ],
          [
           53,
           257,
           "DSB Iba1 53_40X_CA1"
          ],
          [
           53,
           258,
           "DSB Iba1 53_40X_CA3"
          ],
          [
           53,
           259,
           "DSB Iba1 53_40X_CTX1"
          ],
          [
           53,
           260,
           "DSB Iba1 53_40X_CTX2"
          ],
          [
           53,
           261,
           "DSB Iba1 53_40X_CTX3"
          ],
          [
           53,
           262,
           "DSB Iba1 53_40X_DG"
          ],
          [
           54,
           263,
           "DSB Iba1 54_40X_CA1"
          ],
          [
           54,
           264,
           "DSB Iba1 54_40X_CA3"
          ],
          [
           54,
           265,
           "DSB Iba1 54_40X_CTX1"
          ],
          [
           54,
           266,
           "DSB Iba1 54_40X_CTX2"
          ],
          [
           54,
           267,
           "DSB Iba1 54_40X_CTX3"
          ],
          [
           54,
           268,
           "DSB Iba1 54_40X_DG"
          ],
          [
           55,
           269,
           "DSB Iba1 55_40X_CA1"
          ],
          [
           55,
           270,
           "DSB Iba1 55_40X_CA3"
          ],
          [
           55,
           271,
           "DSB Iba1 55_40X_CTX1"
          ],
          [
           55,
           272,
           "DSB Iba1 55_40X_CTX2"
          ],
          [
           55,
           273,
           "DSB Iba1 55_40X_CTX3"
          ],
          [
           55,
           274,
           "DSB Iba1 55_40X_DG"
          ],
          [
           56,
           275,
           "DSB Iba1 56_40X_CA1"
          ],
          [
           56,
           276,
           "DSB Iba1 56_40X_CA3"
          ],
          [
           56,
           277,
           "DSB Iba1 56_40X_CTX1"
          ],
          [
           56,
           278,
           "DSB Iba1 56_40X_CTX2"
          ],
          [
           56,
           279,
           "DSB Iba1 56_40X_CTX3"
          ],
          [
           56,
           280,
           "DSB Iba1 56_40X_DG"
          ],
          [
           57,
           281,
           "DSB Iba1 57_40X_CA1"
          ],
          [
           57,
           282,
           "DSB Iba1 57_40X_CA3"
          ],
          [
           57,
           283,
           "DSB Iba1 57_40X_CTX1"
          ],
          [
           57,
           284,
           "DSB Iba1 57_40X_CTX2"
          ],
          [
           57,
           285,
           "DSB Iba1 57_40X_CTX3"
          ],
          [
           57,
           286,
           "DSB Iba1 57_40X_DG"
          ],
          [
           58,
           287,
           "DSB Iba1 58_40X_CA1"
          ],
          [
           58,
           288,
           "DSB Iba1 58_40X_CA3"
          ],
          [
           58,
           289,
           "DSB Iba1 58_40X_CTX1"
          ],
          [
           58,
           290,
           "DSB Iba1 58_40X_CTX2"
          ],
          [
           58,
           291,
           "DSB Iba1 58_40X_CTX3"
          ],
          [
           58,
           292,
           "DSB Iba1 58_40X_DG"
          ],
          [
           59,
           293,
           "DSB Iba1 59_40X_CA1"
          ],
          [
           59,
           294,
           "DSB Iba1 59_40X_CA3"
          ],
          [
           59,
           295,
           "DSB Iba1 59_40X_CTX1"
          ],
          [
           59,
           296,
           "DSB Iba1 59_40X_CTX2"
          ],
          [
           59,
           297,
           "DSB Iba1 59_40X_CTX3"
          ],
          [
           59,
           298,
           "DSB Iba1 59_40X_DG"
          ]
         ],
         "hovertemplate": "tissue_location=%{x}<br>nr_total_nuclei=%{y}<br>staining_id=%{customdata[0]}<br>index=%{customdata[1]}<br>filename=%{customdata[2]}<extra></extra>",
         "legendgroup": "",
         "marker": {
          "color": "#636efa",
          "symbol": "circle"
         },
         "mode": "markers",
         "name": "",
         "orientation": "v",
         "showlegend": false,
         "type": "scatter",
         "x": [
          "CA1",
          "CA3",
          "CTX1",
          "CTX2",
          "CTX3",
          "DG",
          "CA1",
          "CA3",
          "CTX1",
          "CTX2",
          "CTX3",
          "DG",
          "CA1",
          "CA3",
          "CTX1",
          "CTX2",
          "CTX3",
          "DG",
          "CA1",
          "CA3",
          "CTX1",
          "CTX2",
          "CTX3",
          "DG",
          "CA1",
          "CA3",
          "CTX1",
          "CTX2",
          "CTX3",
          "CA1",
          "CA3",
          "CTX1",
          "CTX2",
          "CTX3",
          "DG",
          "CA1",
          "CA3",
          "CTX1",
          "CTX2",
          "CTX3",
          "DG",
          "CA1",
          "CA3",
          "CTX1",
          "CTX2",
          "CTX3",
          "DG",
          "CA1",
          "CA3",
          "CTX1",
          "CTX2",
          "CTX3",
          "DG",
          "CA1",
          "CA3",
          "CTX1",
          "CTX2",
          "CTX3",
          "DG",
          "CA1",
          "CA3",
          "CTX1",
          "CTX2",
          "CTX3",
          "DG",
          "CA1",
          "CA3",
          "CTX1",
          "CTX2",
          "CTX3",
          "DG",
          "CA1",
          "CA3",
          "CTX1",
          "CTX2",
          "CTX3",
          "DG",
          "CA1",
          "CA3",
          "CTX1",
          "CTX2",
          "CTX3",
          "DG",
          "CA1",
          "CA3",
          "CTX1",
          "CTX2",
          "CTX3",
          "DG",
          "CA1",
          "CA3",
          "CTX1",
          "CTX2",
          "CTX3",
          "DG",
          "CA1",
          "CA3",
          "CTX1",
          "CTX2",
          "CTX3",
          "DG",
          "CA1",
          "CA3",
          "CTX1",
          "CTX2",
          "CTX3",
          "DG",
          "CA1",
          "CA3",
          "CTX1",
          "CTX2",
          "CTX3",
          "DG",
          "DG",
          "CA1",
          "CA3",
          "CTX1",
          "CTX2",
          "CTX3",
          "DG",
          "CA1",
          "CA3",
          "CTX1",
          "CTX2",
          "CTX3",
          "DG",
          "CA1",
          "CA3",
          "CTX1",
          "CTX2",
          "CTX3",
          "DG",
          "CA1",
          "CA3",
          "CTX1",
          "CTX2",
          "CTX3",
          "DG",
          "CA1",
          "CA3",
          "CTX1",
          "CTX2",
          "CTX3",
          "DG",
          "CA1",
          "CA3",
          "CTX1",
          "CTX2",
          "CTX3",
          "DG",
          "CA1",
          "CA3",
          "CTX1",
          "CTX2",
          "CTX3",
          "DG",
          "CA1",
          "CA3",
          "CTX1",
          "CTX2",
          "CTX3",
          "DG",
          "CA1",
          "CA3",
          "CTX1",
          "CTX2",
          "CTX3",
          "DG",
          "CA1",
          "CA3",
          "CTX1",
          "CTX2",
          "CTX3",
          "DG",
          "DG",
          "CA1",
          "CA3",
          "CTX1",
          "CTX2",
          "CTX3",
          "DG",
          "CA1",
          "CA3",
          "CTX1",
          "CTX2",
          "CTX3",
          "DG",
          "CA1",
          "CA3",
          "CTX1",
          "CTX2",
          "CTX3",
          "DG",
          "CA1",
          "CA3",
          "CTX1",
          "CTX2",
          "CTX3",
          "DG",
          "CA1",
          "CA3",
          "CTX1",
          "CTX2",
          "CTX3",
          "DG",
          "CA1",
          "CA3",
          "CTX1",
          "DG",
          "CA1",
          "CA3",
          "CTX1",
          "CTX2",
          "CTX3",
          "DG",
          "CA1",
          "CA3",
          "CTX1",
          "CTX2",
          "CTX3",
          "DG",
          "CA1",
          "CA3",
          "CTX1",
          "CTX2",
          "CTX3",
          "DG",
          "CA1",
          "CA3",
          "CTX1",
          "CTX2",
          "CTX3",
          "DG",
          "CA1",
          "CA3",
          "CTX1",
          "CTX2",
          "CTX3",
          "DG",
          "CA1",
          "CA3",
          "CTX1",
          "CTX2",
          "CTX3",
          "DG",
          "CA1",
          "CA3",
          "CTX1",
          "CTX2",
          "CTX3",
          "DG",
          "CA1",
          "CA3",
          "CTX1",
          "CTX2",
          "CTX3",
          "DG",
          "CA1",
          "CA3",
          "CTX1",
          "CTX2",
          "CTX3",
          "DG",
          "CA1",
          "CA3",
          "CTX1",
          "CTX2",
          "CTX3",
          "DG",
          "CA1",
          "CA3",
          "CTX1",
          "CTX2",
          "CTX3",
          "DG",
          "CA1",
          "CA3",
          "CTX1",
          "CTX2",
          "CTX3",
          "DG",
          "CA1",
          "CA3",
          "CTX1",
          "CTX2",
          "CTX3",
          "DG",
          "CA1",
          "CA3",
          "CTX1",
          "CTX2",
          "CTX3",
          "DG",
          "CA1",
          "CA3",
          "CTX1",
          "CTX2",
          "CTX3",
          "DG"
         ],
         "xaxis": "x",
         "y": [
          150,
          123,
          167,
          246,
          233,
          319,
          191,
          128,
          189,
          293,
          249,
          382,
          164,
          114,
          158,
          238,
          186,
          337,
          188,
          154,
          192,
          205,
          125,
          323,
          120,
          93,
          171,
          176,
          195,
          156,
          114,
          196,
          196,
          159,
          323,
          149,
          126,
          154,
          207,
          239,
          333,
          147,
          111,
          158,
          195,
          172,
          443,
          232,
          192,
          272,
          266,
          241,
          452,
          196,
          183,
          260,
          302,
          180,
          525,
          144,
          108,
          225,
          255,
          171,
          351,
          68,
          73,
          212,
          89,
          124,
          128,
          155,
          114,
          198,
          159,
          92,
          372,
          141,
          107,
          200,
          225,
          194,
          409,
          174,
          139,
          243,
          264,
          168,
          395,
          136,
          114,
          191,
          240,
          148,
          429,
          179,
          115,
          181,
          259,
          190,
          267,
          151,
          137,
          133,
          192,
          185,
          415,
          140,
          64,
          112,
          119,
          101,
          353,
          217,
          85,
          67,
          104,
          207,
          197,
          356,
          149,
          119,
          199,
          197,
          168,
          385,
          142,
          103,
          234,
          262,
          199,
          366,
          167,
          183,
          192,
          239,
          146,
          318,
          185,
          135,
          290,
          238,
          178,
          415,
          158,
          184,
          224,
          196,
          159,
          425,
          187,
          263,
          294,
          263,
          208,
          330,
          190,
          178,
          246,
          267,
          203,
          426,
          165,
          99,
          208,
          219,
          173,
          339,
          182,
          146,
          228,
          261,
          172,
          362,
          105,
          96,
          90,
          168,
          190,
          151,
          244,
          146,
          88,
          155,
          156,
          185,
          311,
          151,
          100,
          163,
          185,
          140,
          363,
          145,
          103,
          168,
          155,
          142,
          387,
          149,
          202,
          222,
          207,
          209,
          345,
          137,
          99,
          237,
          228,
          167,
          163,
          230,
          222,
          207,
          404,
          168,
          141,
          265,
          287,
          241,
          320,
          209,
          172,
          351,
          281,
          222,
          341,
          120,
          92,
          230,
          266,
          226,
          386,
          164,
          122,
          160,
          191,
          139,
          284,
          150,
          124,
          254,
          238,
          191,
          505,
          144,
          117,
          146,
          220,
          181,
          371,
          132,
          98,
          124,
          174,
          194,
          356,
          179,
          163,
          266,
          200,
          138,
          280,
          130,
          127,
          194,
          171,
          168,
          317,
          129,
          95,
          131,
          144,
          85,
          400,
          157,
          132,
          178,
          242,
          188,
          406,
          185,
          168,
          265,
          266,
          194,
          350,
          121,
          113,
          141,
          191,
          192,
          310,
          169,
          100,
          198,
          146,
          135,
          341
         ],
         "yaxis": "y"
        }
       ],
       "layout": {
        "legend": {
         "tracegroupgap": 0
        },
        "template": {
         "data": {
          "bar": [
           {
            "error_x": {
             "color": "#2a3f5f"
            },
            "error_y": {
             "color": "#2a3f5f"
            },
            "marker": {
             "line": {
              "color": "#E5ECF6",
              "width": 0.5
             },
             "pattern": {
              "fillmode": "overlay",
              "size": 10,
              "solidity": 0.2
             }
            },
            "type": "bar"
           }
          ],
          "barpolar": [
           {
            "marker": {
             "line": {
              "color": "#E5ECF6",
              "width": 0.5
             },
             "pattern": {
              "fillmode": "overlay",
              "size": 10,
              "solidity": 0.2
             }
            },
            "type": "barpolar"
           }
          ],
          "carpet": [
           {
            "aaxis": {
             "endlinecolor": "#2a3f5f",
             "gridcolor": "white",
             "linecolor": "white",
             "minorgridcolor": "white",
             "startlinecolor": "#2a3f5f"
            },
            "baxis": {
             "endlinecolor": "#2a3f5f",
             "gridcolor": "white",
             "linecolor": "white",
             "minorgridcolor": "white",
             "startlinecolor": "#2a3f5f"
            },
            "type": "carpet"
           }
          ],
          "choropleth": [
           {
            "colorbar": {
             "outlinewidth": 0,
             "ticks": ""
            },
            "type": "choropleth"
           }
          ],
          "contour": [
           {
            "colorbar": {
             "outlinewidth": 0,
             "ticks": ""
            },
            "colorscale": [
             [
              0,
              "#0d0887"
             ],
             [
              0.1111111111111111,
              "#46039f"
             ],
             [
              0.2222222222222222,
              "#7201a8"
             ],
             [
              0.3333333333333333,
              "#9c179e"
             ],
             [
              0.4444444444444444,
              "#bd3786"
             ],
             [
              0.5555555555555556,
              "#d8576b"
             ],
             [
              0.6666666666666666,
              "#ed7953"
             ],
             [
              0.7777777777777778,
              "#fb9f3a"
             ],
             [
              0.8888888888888888,
              "#fdca26"
             ],
             [
              1,
              "#f0f921"
             ]
            ],
            "type": "contour"
           }
          ],
          "contourcarpet": [
           {
            "colorbar": {
             "outlinewidth": 0,
             "ticks": ""
            },
            "type": "contourcarpet"
           }
          ],
          "heatmap": [
           {
            "colorbar": {
             "outlinewidth": 0,
             "ticks": ""
            },
            "colorscale": [
             [
              0,
              "#0d0887"
             ],
             [
              0.1111111111111111,
              "#46039f"
             ],
             [
              0.2222222222222222,
              "#7201a8"
             ],
             [
              0.3333333333333333,
              "#9c179e"
             ],
             [
              0.4444444444444444,
              "#bd3786"
             ],
             [
              0.5555555555555556,
              "#d8576b"
             ],
             [
              0.6666666666666666,
              "#ed7953"
             ],
             [
              0.7777777777777778,
              "#fb9f3a"
             ],
             [
              0.8888888888888888,
              "#fdca26"
             ],
             [
              1,
              "#f0f921"
             ]
            ],
            "type": "heatmap"
           }
          ],
          "heatmapgl": [
           {
            "colorbar": {
             "outlinewidth": 0,
             "ticks": ""
            },
            "colorscale": [
             [
              0,
              "#0d0887"
             ],
             [
              0.1111111111111111,
              "#46039f"
             ],
             [
              0.2222222222222222,
              "#7201a8"
             ],
             [
              0.3333333333333333,
              "#9c179e"
             ],
             [
              0.4444444444444444,
              "#bd3786"
             ],
             [
              0.5555555555555556,
              "#d8576b"
             ],
             [
              0.6666666666666666,
              "#ed7953"
             ],
             [
              0.7777777777777778,
              "#fb9f3a"
             ],
             [
              0.8888888888888888,
              "#fdca26"
             ],
             [
              1,
              "#f0f921"
             ]
            ],
            "type": "heatmapgl"
           }
          ],
          "histogram": [
           {
            "marker": {
             "pattern": {
              "fillmode": "overlay",
              "size": 10,
              "solidity": 0.2
             }
            },
            "type": "histogram"
           }
          ],
          "histogram2d": [
           {
            "colorbar": {
             "outlinewidth": 0,
             "ticks": ""
            },
            "colorscale": [
             [
              0,
              "#0d0887"
             ],
             [
              0.1111111111111111,
              "#46039f"
             ],
             [
              0.2222222222222222,
              "#7201a8"
             ],
             [
              0.3333333333333333,
              "#9c179e"
             ],
             [
              0.4444444444444444,
              "#bd3786"
             ],
             [
              0.5555555555555556,
              "#d8576b"
             ],
             [
              0.6666666666666666,
              "#ed7953"
             ],
             [
              0.7777777777777778,
              "#fb9f3a"
             ],
             [
              0.8888888888888888,
              "#fdca26"
             ],
             [
              1,
              "#f0f921"
             ]
            ],
            "type": "histogram2d"
           }
          ],
          "histogram2dcontour": [
           {
            "colorbar": {
             "outlinewidth": 0,
             "ticks": ""
            },
            "colorscale": [
             [
              0,
              "#0d0887"
             ],
             [
              0.1111111111111111,
              "#46039f"
             ],
             [
              0.2222222222222222,
              "#7201a8"
             ],
             [
              0.3333333333333333,
              "#9c179e"
             ],
             [
              0.4444444444444444,
              "#bd3786"
             ],
             [
              0.5555555555555556,
              "#d8576b"
             ],
             [
              0.6666666666666666,
              "#ed7953"
             ],
             [
              0.7777777777777778,
              "#fb9f3a"
             ],
             [
              0.8888888888888888,
              "#fdca26"
             ],
             [
              1,
              "#f0f921"
             ]
            ],
            "type": "histogram2dcontour"
           }
          ],
          "mesh3d": [
           {
            "colorbar": {
             "outlinewidth": 0,
             "ticks": ""
            },
            "type": "mesh3d"
           }
          ],
          "parcoords": [
           {
            "line": {
             "colorbar": {
              "outlinewidth": 0,
              "ticks": ""
             }
            },
            "type": "parcoords"
           }
          ],
          "pie": [
           {
            "automargin": true,
            "type": "pie"
           }
          ],
          "scatter": [
           {
            "fillpattern": {
             "fillmode": "overlay",
             "size": 10,
             "solidity": 0.2
            },
            "type": "scatter"
           }
          ],
          "scatter3d": [
           {
            "line": {
             "colorbar": {
              "outlinewidth": 0,
              "ticks": ""
             }
            },
            "marker": {
             "colorbar": {
              "outlinewidth": 0,
              "ticks": ""
             }
            },
            "type": "scatter3d"
           }
          ],
          "scattercarpet": [
           {
            "marker": {
             "colorbar": {
              "outlinewidth": 0,
              "ticks": ""
             }
            },
            "type": "scattercarpet"
           }
          ],
          "scattergeo": [
           {
            "marker": {
             "colorbar": {
              "outlinewidth": 0,
              "ticks": ""
             }
            },
            "type": "scattergeo"
           }
          ],
          "scattergl": [
           {
            "marker": {
             "colorbar": {
              "outlinewidth": 0,
              "ticks": ""
             }
            },
            "type": "scattergl"
           }
          ],
          "scattermapbox": [
           {
            "marker": {
             "colorbar": {
              "outlinewidth": 0,
              "ticks": ""
             }
            },
            "type": "scattermapbox"
           }
          ],
          "scatterpolar": [
           {
            "marker": {
             "colorbar": {
              "outlinewidth": 0,
              "ticks": ""
             }
            },
            "type": "scatterpolar"
           }
          ],
          "scatterpolargl": [
           {
            "marker": {
             "colorbar": {
              "outlinewidth": 0,
              "ticks": ""
             }
            },
            "type": "scatterpolargl"
           }
          ],
          "scatterternary": [
           {
            "marker": {
             "colorbar": {
              "outlinewidth": 0,
              "ticks": ""
             }
            },
            "type": "scatterternary"
           }
          ],
          "surface": [
           {
            "colorbar": {
             "outlinewidth": 0,
             "ticks": ""
            },
            "colorscale": [
             [
              0,
              "#0d0887"
             ],
             [
              0.1111111111111111,
              "#46039f"
             ],
             [
              0.2222222222222222,
              "#7201a8"
             ],
             [
              0.3333333333333333,
              "#9c179e"
             ],
             [
              0.4444444444444444,
              "#bd3786"
             ],
             [
              0.5555555555555556,
              "#d8576b"
             ],
             [
              0.6666666666666666,
              "#ed7953"
             ],
             [
              0.7777777777777778,
              "#fb9f3a"
             ],
             [
              0.8888888888888888,
              "#fdca26"
             ],
             [
              1,
              "#f0f921"
             ]
            ],
            "type": "surface"
           }
          ],
          "table": [
           {
            "cells": {
             "fill": {
              "color": "#EBF0F8"
             },
             "line": {
              "color": "white"
             }
            },
            "header": {
             "fill": {
              "color": "#C8D4E3"
             },
             "line": {
              "color": "white"
             }
            },
            "type": "table"
           }
          ]
         },
         "layout": {
          "annotationdefaults": {
           "arrowcolor": "#2a3f5f",
           "arrowhead": 0,
           "arrowwidth": 1
          },
          "autotypenumbers": "strict",
          "coloraxis": {
           "colorbar": {
            "outlinewidth": 0,
            "ticks": ""
           }
          },
          "colorscale": {
           "diverging": [
            [
             0,
             "#8e0152"
            ],
            [
             0.1,
             "#c51b7d"
            ],
            [
             0.2,
             "#de77ae"
            ],
            [
             0.3,
             "#f1b6da"
            ],
            [
             0.4,
             "#fde0ef"
            ],
            [
             0.5,
             "#f7f7f7"
            ],
            [
             0.6,
             "#e6f5d0"
            ],
            [
             0.7,
             "#b8e186"
            ],
            [
             0.8,
             "#7fbc41"
            ],
            [
             0.9,
             "#4d9221"
            ],
            [
             1,
             "#276419"
            ]
           ],
           "sequential": [
            [
             0,
             "#0d0887"
            ],
            [
             0.1111111111111111,
             "#46039f"
            ],
            [
             0.2222222222222222,
             "#7201a8"
            ],
            [
             0.3333333333333333,
             "#9c179e"
            ],
            [
             0.4444444444444444,
             "#bd3786"
            ],
            [
             0.5555555555555556,
             "#d8576b"
            ],
            [
             0.6666666666666666,
             "#ed7953"
            ],
            [
             0.7777777777777778,
             "#fb9f3a"
            ],
            [
             0.8888888888888888,
             "#fdca26"
            ],
            [
             1,
             "#f0f921"
            ]
           ],
           "sequentialminus": [
            [
             0,
             "#0d0887"
            ],
            [
             0.1111111111111111,
             "#46039f"
            ],
            [
             0.2222222222222222,
             "#7201a8"
            ],
            [
             0.3333333333333333,
             "#9c179e"
            ],
            [
             0.4444444444444444,
             "#bd3786"
            ],
            [
             0.5555555555555556,
             "#d8576b"
            ],
            [
             0.6666666666666666,
             "#ed7953"
            ],
            [
             0.7777777777777778,
             "#fb9f3a"
            ],
            [
             0.8888888888888888,
             "#fdca26"
            ],
            [
             1,
             "#f0f921"
            ]
           ]
          },
          "colorway": [
           "#636efa",
           "#EF553B",
           "#00cc96",
           "#ab63fa",
           "#FFA15A",
           "#19d3f3",
           "#FF6692",
           "#B6E880",
           "#FF97FF",
           "#FECB52"
          ],
          "font": {
           "color": "#2a3f5f"
          },
          "geo": {
           "bgcolor": "white",
           "lakecolor": "white",
           "landcolor": "#E5ECF6",
           "showlakes": true,
           "showland": true,
           "subunitcolor": "white"
          },
          "hoverlabel": {
           "align": "left"
          },
          "hovermode": "closest",
          "mapbox": {
           "style": "light"
          },
          "paper_bgcolor": "white",
          "plot_bgcolor": "#E5ECF6",
          "polar": {
           "angularaxis": {
            "gridcolor": "white",
            "linecolor": "white",
            "ticks": ""
           },
           "bgcolor": "#E5ECF6",
           "radialaxis": {
            "gridcolor": "white",
            "linecolor": "white",
            "ticks": ""
           }
          },
          "scene": {
           "xaxis": {
            "backgroundcolor": "#E5ECF6",
            "gridcolor": "white",
            "gridwidth": 2,
            "linecolor": "white",
            "showbackground": true,
            "ticks": "",
            "zerolinecolor": "white"
           },
           "yaxis": {
            "backgroundcolor": "#E5ECF6",
            "gridcolor": "white",
            "gridwidth": 2,
            "linecolor": "white",
            "showbackground": true,
            "ticks": "",
            "zerolinecolor": "white"
           },
           "zaxis": {
            "backgroundcolor": "#E5ECF6",
            "gridcolor": "white",
            "gridwidth": 2,
            "linecolor": "white",
            "showbackground": true,
            "ticks": "",
            "zerolinecolor": "white"
           }
          },
          "shapedefaults": {
           "line": {
            "color": "#2a3f5f"
           }
          },
          "ternary": {
           "aaxis": {
            "gridcolor": "white",
            "linecolor": "white",
            "ticks": ""
           },
           "baxis": {
            "gridcolor": "white",
            "linecolor": "white",
            "ticks": ""
           },
           "bgcolor": "#E5ECF6",
           "caxis": {
            "gridcolor": "white",
            "linecolor": "white",
            "ticks": ""
           }
          },
          "title": {
           "x": 0.05
          },
          "xaxis": {
           "automargin": true,
           "gridcolor": "white",
           "linecolor": "white",
           "ticks": "",
           "title": {
            "standoff": 15
           },
           "zerolinecolor": "white",
           "zerolinewidth": 2
          },
          "yaxis": {
           "automargin": true,
           "gridcolor": "white",
           "linecolor": "white",
           "ticks": "",
           "title": {
            "standoff": 15
           },
           "zerolinecolor": "white",
           "zerolinewidth": 2
          }
         }
        },
        "title": {
         "text": "Nr of total nuclei by Tissue Location - cellpdia30_sigma1_dilrad4_dnad_obj_seg_v1_gliaero6_gliathr20_dnadero2"
        },
        "xaxis": {
         "anchor": "y",
         "domain": [
          0,
          1
         ],
         "title": {
          "text": "tissue_location"
         }
        },
        "yaxis": {
         "anchor": "x",
         "domain": [
          0,
          1
         ],
         "title": {
          "text": "nr_total_nuclei"
         }
        }
       }
      }
     },
     "metadata": {},
     "output_type": "display_data"
    },
    {
     "data": {
      "application/vnd.plotly.v1+json": {
       "config": {
        "plotlyServerURL": "https://plot.ly"
       },
       "data": [
        {
         "customdata": [
          [
           0,
           "DSB Iba1 101_40X_CA1"
          ],
          [
           1,
           "DSB Iba1 101_40X_CA3"
          ],
          [
           2,
           "DSB Iba1 101_40X_CTX1"
          ],
          [
           3,
           "DSB Iba1 101_40X_CTX2"
          ],
          [
           4,
           "DSB Iba1 101_40X_CTX3"
          ],
          [
           5,
           "DSB Iba1 101_40X_DG"
          ],
          [
           6,
           "DSB Iba1 102_40X_CA1"
          ],
          [
           7,
           "DSB Iba1 102_40X_CA3"
          ],
          [
           8,
           "DSB Iba1 102_40X_CTX1"
          ],
          [
           9,
           "DSB Iba1 102_40X_CTX2"
          ],
          [
           10,
           "DSB Iba1 102_40X_CTX3"
          ],
          [
           11,
           "DSB Iba1 102_40X_DG"
          ],
          [
           12,
           "DSB Iba1 103_40X_CA1"
          ],
          [
           13,
           "DSB Iba1 103_40X_CA3"
          ],
          [
           14,
           "DSB Iba1 103_40X_CTX1"
          ],
          [
           15,
           "DSB Iba1 103_40X_CTX2"
          ],
          [
           16,
           "DSB Iba1 103_40X_CTX3"
          ],
          [
           17,
           "DSB Iba1 103_40X_DG"
          ],
          [
           18,
           "DSB Iba1 104_40X_CA1"
          ],
          [
           19,
           "DSB Iba1 104_40X_CA3"
          ],
          [
           20,
           "DSB Iba1 104_40X_CTX1"
          ],
          [
           21,
           "DSB Iba1 104_40X_CTX2"
          ],
          [
           22,
           "DSB Iba1 104_40X_CTX3"
          ],
          [
           23,
           "DSB Iba1 104_40X_DG"
          ],
          [
           24,
           "DSB Iba1 105_40X_CA1"
          ],
          [
           25,
           "DSB Iba1 105_40X_CA3"
          ],
          [
           26,
           "DSB Iba1 105_40X_CTX1"
          ],
          [
           27,
           "DSB Iba1 105_40X_CTX2"
          ],
          [
           28,
           "DSB Iba1 105_40X_CTX3"
          ],
          [
           29,
           "DSB Iba1 106_40X_CA1"
          ],
          [
           30,
           "DSB Iba1 106_40X_CA3"
          ],
          [
           31,
           "DSB Iba1 106_40X_CTX1"
          ],
          [
           32,
           "DSB Iba1 106_40X_CTX2"
          ],
          [
           33,
           "DSB Iba1 106_40X_CTX3"
          ],
          [
           34,
           "DSB Iba1 106_40X_DG"
          ],
          [
           35,
           "DSB Iba1 107_40X_CA1"
          ],
          [
           36,
           "DSB Iba1 107_40X_CA3"
          ],
          [
           37,
           "DSB Iba1 107_40X_CTX1"
          ],
          [
           38,
           "DSB Iba1 107_40X_CTX2"
          ],
          [
           39,
           "DSB Iba1 107_40X_CTX3"
          ],
          [
           40,
           "DSB Iba1 107_40X_DG"
          ],
          [
           41,
           "DSB Iba1 108_40X_CA1"
          ],
          [
           42,
           "DSB Iba1 108_40X_CA3"
          ],
          [
           43,
           "DSB Iba1 108_40X_CTX1"
          ],
          [
           44,
           "DSB Iba1 108_40X_CTX2"
          ],
          [
           45,
           "DSB Iba1 108_40X_CTX3"
          ],
          [
           46,
           "DSB Iba1 108_40X_DG"
          ],
          [
           47,
           "DSB Iba1 16_40X_CA1"
          ],
          [
           48,
           "DSB Iba1 16_40X_CA3"
          ],
          [
           49,
           "DSB Iba1 16_40X_CTX1"
          ],
          [
           50,
           "DSB Iba1 16_40X_CTX2"
          ],
          [
           51,
           "DSB Iba1 16_40X_CTX3"
          ],
          [
           52,
           "DSB Iba1 16_40X_DG"
          ],
          [
           53,
           "DSB Iba1 17_40X_CA1"
          ],
          [
           54,
           "DSB Iba1 17_40X_CA3"
          ],
          [
           55,
           "DSB Iba1 17_40X_CTX1"
          ],
          [
           56,
           "DSB Iba1 17_40X_CTX2"
          ],
          [
           57,
           "DSB Iba1 17_40X_CTX3"
          ],
          [
           58,
           "DSB Iba1 17_40X_DG"
          ],
          [
           59,
           "DSB Iba1 18_40X_CA1"
          ],
          [
           60,
           "DSB Iba1 18_40X_CA3"
          ],
          [
           61,
           "DSB Iba1 18_40X_CTX1"
          ],
          [
           62,
           "DSB Iba1 18_40X_CTX2"
          ],
          [
           63,
           "DSB Iba1 18_40X_CTX3"
          ],
          [
           64,
           "DSB Iba1 18_40X_DG"
          ],
          [
           65,
           "DSB Iba1 19_40X_CA1"
          ],
          [
           66,
           "DSB Iba1 19_40X_CA3"
          ],
          [
           67,
           "DSB Iba1 19_40X_CTX1"
          ],
          [
           68,
           "DSB Iba1 19_40X_CTX2"
          ],
          [
           69,
           "DSB Iba1 19_40X_CTX3"
          ],
          [
           70,
           "DSB Iba1 19_40X_DG"
          ],
          [
           71,
           "DSB Iba1 20_40X_CA1"
          ],
          [
           72,
           "DSB Iba1 20_40X_CA3"
          ],
          [
           73,
           "DSB Iba1 20_40X_CTX1"
          ],
          [
           74,
           "DSB Iba1 20_40X_CTX2"
          ],
          [
           75,
           "DSB Iba1 20_40X_CTX3"
          ],
          [
           76,
           "DSB Iba1 20_40X_DG"
          ],
          [
           77,
           "DSB Iba1 21_40X_CA1"
          ],
          [
           78,
           "DSB Iba1 21_40X_CA3"
          ],
          [
           79,
           "DSB Iba1 21_40X_CTX1"
          ],
          [
           80,
           "DSB Iba1 21_40X_CTX2"
          ],
          [
           81,
           "DSB Iba1 21_40X_CTX3"
          ],
          [
           82,
           "DSB Iba1 21_40X_DG"
          ],
          [
           83,
           "DSB Iba1 22_40X_CA1"
          ],
          [
           84,
           "DSB Iba1 22_40X_CA3"
          ],
          [
           85,
           "DSB Iba1 22_40X_CTX1"
          ],
          [
           86,
           "DSB Iba1 22_40X_CTX2"
          ],
          [
           87,
           "DSB Iba1 22_40X_CTX3"
          ],
          [
           88,
           "DSB Iba1 22_40X_DG"
          ],
          [
           89,
           "DSB Iba1 23_40X_CA1"
          ],
          [
           90,
           "DSB Iba1 23_40X_CA3"
          ],
          [
           91,
           "DSB Iba1 23_40X_CTX1"
          ],
          [
           92,
           "DSB Iba1 23_40X_CTX2"
          ],
          [
           93,
           "DSB Iba1 23_40X_CTX3"
          ],
          [
           94,
           "DSB Iba1 23_40X_DG"
          ],
          [
           95,
           "DSB Iba1 24_40X_CA1"
          ],
          [
           96,
           "DSB Iba1 24_40X_CA3"
          ],
          [
           97,
           "DSB Iba1 24_40X_CTX1"
          ],
          [
           98,
           "DSB Iba1 24_40X_CTX2"
          ],
          [
           99,
           "DSB Iba1 24_40X_CTX3"
          ],
          [
           100,
           "DSB Iba1 24_40X_DG"
          ],
          [
           101,
           "DSB Iba1 25_40X_CA1"
          ],
          [
           102,
           "DSB Iba1 25_40X_CA3"
          ],
          [
           103,
           "DSB Iba1 25_40X_CTX1"
          ],
          [
           104,
           "DSB Iba1 25_40X_CTX2"
          ],
          [
           105,
           "DSB Iba1 25_40X_CTX3"
          ],
          [
           106,
           "DSB Iba1 25_40X_DG"
          ],
          [
           107,
           "DSB Iba1 26_40X_CA1"
          ],
          [
           108,
           "DSB Iba1 26_40X_CA3"
          ],
          [
           109,
           "DSB Iba1 26_40X_CTX1"
          ],
          [
           110,
           "DSB Iba1 26_40X_CTX2"
          ],
          [
           111,
           "DSB Iba1 26_40X_CTX3"
          ],
          [
           112,
           "DSB Iba1 26_40X_DG"
          ],
          [
           113,
           "DSB Iba1 27_40X_DG"
          ],
          [
           114,
           "DSB Iba1 28_40X_CA1"
          ],
          [
           115,
           "DSB Iba1 28_40X_CA3"
          ],
          [
           116,
           "DSB Iba1 28_40X_CTX1"
          ],
          [
           117,
           "DSB Iba1 28_40X_CTX2"
          ],
          [
           118,
           "DSB Iba1 28_40X_CTX3"
          ],
          [
           119,
           "DSB Iba1 28_40X_DG"
          ],
          [
           120,
           "DSB Iba1 29_40X_CA1"
          ],
          [
           121,
           "DSB Iba1 29_40X_CA3"
          ],
          [
           122,
           "DSB Iba1 29_40X_CTX1"
          ],
          [
           123,
           "DSB Iba1 29_40X_CTX2"
          ],
          [
           124,
           "DSB Iba1 29_40X_CTX3"
          ],
          [
           125,
           "DSB Iba1 29_40X_DG"
          ],
          [
           126,
           "DSB Iba1 30_40X_CA1"
          ],
          [
           127,
           "DSB Iba1 30_40X_CA3"
          ],
          [
           128,
           "DSB Iba1 30_40X_CTX1"
          ],
          [
           129,
           "DSB Iba1 30_40X_CTX2"
          ],
          [
           130,
           "DSB Iba1 30_40X_CTX3"
          ],
          [
           131,
           "DSB Iba1 30_40X_DG"
          ],
          [
           132,
           "DSB Iba1 31_40X_CA1"
          ],
          [
           133,
           "DSB Iba1 31_40X_CA3"
          ],
          [
           134,
           "DSB Iba1 31_40X_CTX1"
          ],
          [
           135,
           "DSB Iba1 31_40X_CTX2"
          ],
          [
           136,
           "DSB Iba1 31_40X_CTX3"
          ],
          [
           137,
           "DSB Iba1 31_40X_DG"
          ],
          [
           138,
           "DSB Iba1 32_40X_CA1"
          ],
          [
           139,
           "DSB Iba1 32_40X_CA3"
          ],
          [
           140,
           "DSB Iba1 32_40X_CTX1"
          ],
          [
           141,
           "DSB Iba1 32_40X_CTX2"
          ],
          [
           142,
           "DSB Iba1 32_40X_CTX3"
          ],
          [
           143,
           "DSB Iba1 32_40X_DG"
          ],
          [
           144,
           "DSB Iba1 33_40X_CA1"
          ],
          [
           145,
           "DSB Iba1 33_40X_CA3"
          ],
          [
           146,
           "DSB Iba1 33_40X_CTX1"
          ],
          [
           147,
           "DSB Iba1 33_40X_CTX2"
          ],
          [
           148,
           "DSB Iba1 33_40X_CTX3"
          ],
          [
           149,
           "DSB Iba1 33_40X_DG"
          ],
          [
           150,
           "DSB Iba1 34_40X_CA1"
          ],
          [
           151,
           "DSB Iba1 34_40X_CA3"
          ],
          [
           152,
           "DSB Iba1 34_40X_CTX1"
          ],
          [
           153,
           "DSB Iba1 34_40X_CTX2"
          ],
          [
           154,
           "DSB Iba1 34_40X_CTX3"
          ],
          [
           155,
           "DSB Iba1 34_40X_DG"
          ],
          [
           156,
           "DSB Iba1 35_40X_CA1"
          ],
          [
           157,
           "DSB Iba1 35_40X_CA3"
          ],
          [
           158,
           "DSB Iba1 35_40X_CTX1"
          ],
          [
           159,
           "DSB Iba1 35_40X_CTX2"
          ],
          [
           160,
           "DSB Iba1 35_40X_CTX3"
          ],
          [
           161,
           "DSB Iba1 35_40X_DG"
          ],
          [
           162,
           "DSB Iba1 36_40X_CA1"
          ],
          [
           163,
           "DSB Iba1 36_40X_CA3"
          ],
          [
           164,
           "DSB Iba1 36_40X_CTX1"
          ],
          [
           165,
           "DSB Iba1 36_40X_CTX2"
          ],
          [
           166,
           "DSB Iba1 36_40X_CTX3"
          ],
          [
           167,
           "DSB Iba1 36_40X_DG"
          ],
          [
           168,
           "DSB Iba1 37_40X_CA1"
          ],
          [
           169,
           "DSB Iba1 37_40X_CA3"
          ],
          [
           170,
           "DSB Iba1 37_40X_CTX1"
          ],
          [
           171,
           "DSB Iba1 37_40X_CTX2"
          ],
          [
           172,
           "DSB Iba1 37_40X_CTX3"
          ],
          [
           173,
           "DSB Iba1 37_40X_DG"
          ],
          [
           174,
           "DSB Iba1 38_40X_DG"
          ],
          [
           175,
           "DSB Iba1 39_40X_CA1"
          ],
          [
           176,
           "DSB Iba1 39_40X_CA3"
          ],
          [
           177,
           "DSB Iba1 39_40X_CTX1"
          ],
          [
           178,
           "DSB Iba1 39_40X_CTX2"
          ],
          [
           179,
           "DSB Iba1 39_40X_CTX3"
          ],
          [
           180,
           "DSB Iba1 39_40X_DG"
          ],
          [
           181,
           "DSB Iba1 40_40X_CA1"
          ],
          [
           182,
           "DSB Iba1 40_40X_CA3"
          ],
          [
           183,
           "DSB Iba1 40_40X_CTX1"
          ],
          [
           184,
           "DSB Iba1 40_40X_CTX2"
          ],
          [
           185,
           "DSB Iba1 40_40X_CTX3"
          ],
          [
           186,
           "DSB Iba1 40_40X_DG"
          ],
          [
           187,
           "DSB Iba1 41_40X_CA1"
          ],
          [
           188,
           "DSB Iba1 41_40X_CA3"
          ],
          [
           189,
           "DSB Iba1 41_40X_CTX1"
          ],
          [
           190,
           "DSB Iba1 41_40X_CTX2"
          ],
          [
           191,
           "DSB Iba1 41_40X_CTX3"
          ],
          [
           192,
           "DSB Iba1 41_40X_DG"
          ],
          [
           193,
           "DSB Iba1 42_40X_CA1"
          ],
          [
           194,
           "DSB Iba1 42_40X_CA3"
          ],
          [
           195,
           "DSB Iba1 42_40X_CTX1"
          ],
          [
           196,
           "DSB Iba1 42_40X_CTX2"
          ],
          [
           197,
           "DSB Iba1 42_40X_CTX3"
          ],
          [
           198,
           "DSB Iba1 42_40X_DG"
          ],
          [
           199,
           "DSB Iba1 43_40X_CA1"
          ],
          [
           200,
           "DSB Iba1 43_40X_CA3"
          ],
          [
           201,
           "DSB Iba1 43_40X_CTX1"
          ],
          [
           202,
           "DSB Iba1 43_40X_CTX2"
          ],
          [
           203,
           "DSB Iba1 43_40X_CTX3"
          ],
          [
           204,
           "DSB Iba1 43_40X_DG"
          ],
          [
           205,
           "DSB Iba1 44_40X_CA1"
          ],
          [
           206,
           "DSB Iba1 44_40X_CA3"
          ],
          [
           207,
           "DSB Iba1 44_40X_CTX1"
          ],
          [
           208,
           "DSB Iba1 44_40X_DG"
          ],
          [
           209,
           "DSB Iba1 45_40X_CA1"
          ],
          [
           210,
           "DSB Iba1 45_40X_CA3"
          ],
          [
           211,
           "DSB Iba1 45_40X_CTX1"
          ],
          [
           212,
           "DSB Iba1 45_40X_CTX2"
          ],
          [
           213,
           "DSB Iba1 45_40X_CTX3"
          ],
          [
           214,
           "DSB Iba1 45_40X_DG"
          ],
          [
           215,
           "DSB Iba1 46_40X_CA1"
          ],
          [
           216,
           "DSB Iba1 46_40X_CA3"
          ],
          [
           217,
           "DSB Iba1 46_40X_CTX1"
          ],
          [
           218,
           "DSB Iba1 46_40X_CTX2"
          ],
          [
           219,
           "DSB Iba1 46_40X_CTX3"
          ],
          [
           220,
           "DSB Iba1 46_40X_DG"
          ],
          [
           221,
           "DSB Iba1 47_40X_CA1"
          ],
          [
           222,
           "DSB Iba1 47_40X_CA3"
          ],
          [
           223,
           "DSB Iba1 47_40X_CTX1"
          ],
          [
           224,
           "DSB Iba1 47_40X_CTX2"
          ],
          [
           225,
           "DSB Iba1 47_40X_CTX3"
          ],
          [
           226,
           "DSB Iba1 47_40X_DG"
          ],
          [
           227,
           "DSB Iba1 48_40X_CA1"
          ],
          [
           228,
           "DSB Iba1 48_40X_CA3"
          ],
          [
           229,
           "DSB Iba1 48_40X_CTX1"
          ],
          [
           230,
           "DSB Iba1 48_40X_CTX2"
          ],
          [
           231,
           "DSB Iba1 48_40X_CTX3"
          ],
          [
           232,
           "DSB Iba1 48_40X_DG"
          ],
          [
           233,
           "DSB Iba1 49_40X_CA1"
          ],
          [
           234,
           "DSB Iba1 49_40X_CA3"
          ],
          [
           235,
           "DSB Iba1 49_40X_CTX1"
          ],
          [
           236,
           "DSB Iba1 49_40X_CTX2"
          ],
          [
           237,
           "DSB Iba1 49_40X_CTX3"
          ],
          [
           238,
           "DSB Iba1 49_40X_DG"
          ],
          [
           239,
           "DSB Iba1 50_40X_CA1"
          ],
          [
           240,
           "DSB Iba1 50_40X_CA3"
          ],
          [
           241,
           "DSB Iba1 50_40X_CTX1"
          ],
          [
           242,
           "DSB Iba1 50_40X_CTX2"
          ],
          [
           243,
           "DSB Iba1 50_40X_CTX3"
          ],
          [
           244,
           "DSB Iba1 50_40X_DG"
          ],
          [
           245,
           "DSB Iba1 51_40X_CA1"
          ],
          [
           246,
           "DSB Iba1 51_40X_CA3"
          ],
          [
           247,
           "DSB Iba1 51_40X_CTX1"
          ],
          [
           248,
           "DSB Iba1 51_40X_CTX2"
          ],
          [
           249,
           "DSB Iba1 51_40X_CTX3"
          ],
          [
           250,
           "DSB Iba1 51_40X_DG"
          ],
          [
           251,
           "DSB Iba1 52_40X_CA1"
          ],
          [
           252,
           "DSB Iba1 52_40X_CA3"
          ],
          [
           253,
           "DSB Iba1 52_40X_CTX1"
          ],
          [
           254,
           "DSB Iba1 52_40X_CTX2"
          ],
          [
           255,
           "DSB Iba1 52_40X_CTX3"
          ],
          [
           256,
           "DSB Iba1 52_40X_DG"
          ],
          [
           257,
           "DSB Iba1 53_40X_CA1"
          ],
          [
           258,
           "DSB Iba1 53_40X_CA3"
          ],
          [
           259,
           "DSB Iba1 53_40X_CTX1"
          ],
          [
           260,
           "DSB Iba1 53_40X_CTX2"
          ],
          [
           261,
           "DSB Iba1 53_40X_CTX3"
          ],
          [
           262,
           "DSB Iba1 53_40X_DG"
          ],
          [
           263,
           "DSB Iba1 54_40X_CA1"
          ],
          [
           264,
           "DSB Iba1 54_40X_CA3"
          ],
          [
           265,
           "DSB Iba1 54_40X_CTX1"
          ],
          [
           266,
           "DSB Iba1 54_40X_CTX2"
          ],
          [
           267,
           "DSB Iba1 54_40X_CTX3"
          ],
          [
           268,
           "DSB Iba1 54_40X_DG"
          ],
          [
           269,
           "DSB Iba1 55_40X_CA1"
          ],
          [
           270,
           "DSB Iba1 55_40X_CA3"
          ],
          [
           271,
           "DSB Iba1 55_40X_CTX1"
          ],
          [
           272,
           "DSB Iba1 55_40X_CTX2"
          ],
          [
           273,
           "DSB Iba1 55_40X_CTX3"
          ],
          [
           274,
           "DSB Iba1 55_40X_DG"
          ],
          [
           275,
           "DSB Iba1 56_40X_CA1"
          ],
          [
           276,
           "DSB Iba1 56_40X_CA3"
          ],
          [
           277,
           "DSB Iba1 56_40X_CTX1"
          ],
          [
           278,
           "DSB Iba1 56_40X_CTX2"
          ],
          [
           279,
           "DSB Iba1 56_40X_CTX3"
          ],
          [
           280,
           "DSB Iba1 56_40X_DG"
          ],
          [
           281,
           "DSB Iba1 57_40X_CA1"
          ],
          [
           282,
           "DSB Iba1 57_40X_CA3"
          ],
          [
           283,
           "DSB Iba1 57_40X_CTX1"
          ],
          [
           284,
           "DSB Iba1 57_40X_CTX2"
          ],
          [
           285,
           "DSB Iba1 57_40X_CTX3"
          ],
          [
           286,
           "DSB Iba1 57_40X_DG"
          ],
          [
           287,
           "DSB Iba1 58_40X_CA1"
          ],
          [
           288,
           "DSB Iba1 58_40X_CA3"
          ],
          [
           289,
           "DSB Iba1 58_40X_CTX1"
          ],
          [
           290,
           "DSB Iba1 58_40X_CTX2"
          ],
          [
           291,
           "DSB Iba1 58_40X_CTX3"
          ],
          [
           292,
           "DSB Iba1 58_40X_DG"
          ],
          [
           293,
           "DSB Iba1 59_40X_CA1"
          ],
          [
           294,
           "DSB Iba1 59_40X_CA3"
          ],
          [
           295,
           "DSB Iba1 59_40X_CTX1"
          ],
          [
           296,
           "DSB Iba1 59_40X_CTX2"
          ],
          [
           297,
           "DSB Iba1 59_40X_CTX3"
          ],
          [
           298,
           "DSB Iba1 59_40X_DG"
          ]
         ],
         "hovertemplate": "staining_id=%{x}<br>nr_glia_+_nuclei=%{y}<br>index=%{customdata[0]}<br>filename=%{customdata[1]}<extra></extra>",
         "legendgroup": "",
         "marker": {
          "color": "#636efa",
          "symbol": "circle"
         },
         "mode": "markers",
         "name": "",
         "orientation": "v",
         "showlegend": false,
         "type": "scatter",
         "x": [
          101,
          101,
          101,
          101,
          101,
          101,
          102,
          102,
          102,
          102,
          102,
          102,
          103,
          103,
          103,
          103,
          103,
          103,
          104,
          104,
          104,
          104,
          104,
          104,
          105,
          105,
          105,
          105,
          105,
          106,
          106,
          106,
          106,
          106,
          106,
          107,
          107,
          107,
          107,
          107,
          107,
          108,
          108,
          108,
          108,
          108,
          108,
          16,
          16,
          16,
          16,
          16,
          16,
          17,
          17,
          17,
          17,
          17,
          17,
          18,
          18,
          18,
          18,
          18,
          18,
          19,
          19,
          19,
          19,
          19,
          19,
          20,
          20,
          20,
          20,
          20,
          20,
          21,
          21,
          21,
          21,
          21,
          21,
          22,
          22,
          22,
          22,
          22,
          22,
          23,
          23,
          23,
          23,
          23,
          23,
          24,
          24,
          24,
          24,
          24,
          24,
          25,
          25,
          25,
          25,
          25,
          25,
          26,
          26,
          26,
          26,
          26,
          26,
          27,
          28,
          28,
          28,
          28,
          28,
          28,
          29,
          29,
          29,
          29,
          29,
          29,
          30,
          30,
          30,
          30,
          30,
          30,
          31,
          31,
          31,
          31,
          31,
          31,
          32,
          32,
          32,
          32,
          32,
          32,
          33,
          33,
          33,
          33,
          33,
          33,
          34,
          34,
          34,
          34,
          34,
          34,
          35,
          35,
          35,
          35,
          35,
          35,
          36,
          36,
          36,
          36,
          36,
          36,
          37,
          37,
          37,
          37,
          37,
          37,
          38,
          39,
          39,
          39,
          39,
          39,
          39,
          40,
          40,
          40,
          40,
          40,
          40,
          41,
          41,
          41,
          41,
          41,
          41,
          42,
          42,
          42,
          42,
          42,
          42,
          43,
          43,
          43,
          43,
          43,
          43,
          44,
          44,
          44,
          44,
          45,
          45,
          45,
          45,
          45,
          45,
          46,
          46,
          46,
          46,
          46,
          46,
          47,
          47,
          47,
          47,
          47,
          47,
          48,
          48,
          48,
          48,
          48,
          48,
          49,
          49,
          49,
          49,
          49,
          49,
          50,
          50,
          50,
          50,
          50,
          50,
          51,
          51,
          51,
          51,
          51,
          51,
          52,
          52,
          52,
          52,
          52,
          52,
          53,
          53,
          53,
          53,
          53,
          53,
          54,
          54,
          54,
          54,
          54,
          54,
          55,
          55,
          55,
          55,
          55,
          55,
          56,
          56,
          56,
          56,
          56,
          56,
          57,
          57,
          57,
          57,
          57,
          57,
          58,
          58,
          58,
          58,
          58,
          58,
          59,
          59,
          59,
          59,
          59,
          59
         ],
         "xaxis": "x",
         "y": [
          12,
          9,
          30,
          11,
          15,
          20,
          9,
          6,
          36,
          21,
          22,
          20,
          6,
          10,
          18,
          18,
          21,
          17,
          11,
          9,
          28,
          19,
          14,
          8,
          6,
          7,
          22,
          19,
          24,
          7,
          2,
          11,
          5,
          10,
          8,
          7,
          8,
          28,
          20,
          15,
          15,
          3,
          5,
          14,
          11,
          14,
          10,
          189,
          185,
          42,
          241,
          104,
          438,
          11,
          19,
          17,
          52,
          27,
          149,
          14,
          12,
          19,
          20,
          17,
          104,
          66,
          71,
          211,
          71,
          103,
          127,
          6,
          5,
          5,
          22,
          3,
          7,
          11,
          4,
          17,
          15,
          23,
          15,
          19,
          6,
          10,
          17,
          8,
          17,
          8,
          8,
          25,
          5,
          11,
          16,
          6,
          4,
          19,
          17,
          13,
          8,
          8,
          9,
          25,
          20,
          9,
          15,
          7,
          5,
          8,
          15,
          11,
          12,
          4,
          2,
          1,
          3,
          13,
          11,
          17,
          10,
          5,
          16,
          26,
          16,
          6,
          6,
          4,
          26,
          22,
          13,
          5,
          11,
          1,
          11,
          17,
          13,
          14,
          18,
          17,
          31,
          38,
          27,
          60,
          5,
          7,
          10,
          15,
          9,
          8,
          11,
          5,
          22,
          27,
          26,
          19,
          10,
          29,
          18,
          111,
          80,
          134,
          8,
          6,
          16,
          29,
          10,
          5,
          7,
          11,
          13,
          24,
          29,
          7,
          4,
          6,
          5,
          2,
          5,
          2,
          8,
          4,
          8,
          20,
          11,
          24,
          5,
          4,
          4,
          0,
          3,
          5,
          6,
          3,
          6,
          6,
          15,
          10,
          4,
          11,
          7,
          28,
          20,
          12,
          39,
          31,
          18,
          54,
          79,
          16,
          3,
          12,
          25,
          17,
          22,
          66,
          36,
          79,
          104,
          68,
          124,
          17,
          17,
          36,
          74,
          37,
          16,
          7,
          4,
          35,
          24,
          20,
          13,
          17,
          16,
          16,
          18,
          17,
          28,
          13,
          9,
          24,
          14,
          31,
          15,
          15,
          8,
          18,
          24,
          26,
          22,
          5,
          7,
          23,
          31,
          26,
          16,
          6,
          6,
          24,
          26,
          13,
          18,
          5,
          3,
          10,
          10,
          20,
          13,
          7,
          3,
          8,
          9,
          6,
          11,
          13,
          12,
          21,
          23,
          36,
          16,
          11,
          8,
          14,
          12,
          11,
          28,
          4,
          6,
          17,
          16,
          6,
          2,
          5,
          5,
          9,
          20,
          23,
          6
         ],
         "yaxis": "y"
        }
       ],
       "layout": {
        "legend": {
         "tracegroupgap": 0
        },
        "template": {
         "data": {
          "bar": [
           {
            "error_x": {
             "color": "#2a3f5f"
            },
            "error_y": {
             "color": "#2a3f5f"
            },
            "marker": {
             "line": {
              "color": "#E5ECF6",
              "width": 0.5
             },
             "pattern": {
              "fillmode": "overlay",
              "size": 10,
              "solidity": 0.2
             }
            },
            "type": "bar"
           }
          ],
          "barpolar": [
           {
            "marker": {
             "line": {
              "color": "#E5ECF6",
              "width": 0.5
             },
             "pattern": {
              "fillmode": "overlay",
              "size": 10,
              "solidity": 0.2
             }
            },
            "type": "barpolar"
           }
          ],
          "carpet": [
           {
            "aaxis": {
             "endlinecolor": "#2a3f5f",
             "gridcolor": "white",
             "linecolor": "white",
             "minorgridcolor": "white",
             "startlinecolor": "#2a3f5f"
            },
            "baxis": {
             "endlinecolor": "#2a3f5f",
             "gridcolor": "white",
             "linecolor": "white",
             "minorgridcolor": "white",
             "startlinecolor": "#2a3f5f"
            },
            "type": "carpet"
           }
          ],
          "choropleth": [
           {
            "colorbar": {
             "outlinewidth": 0,
             "ticks": ""
            },
            "type": "choropleth"
           }
          ],
          "contour": [
           {
            "colorbar": {
             "outlinewidth": 0,
             "ticks": ""
            },
            "colorscale": [
             [
              0,
              "#0d0887"
             ],
             [
              0.1111111111111111,
              "#46039f"
             ],
             [
              0.2222222222222222,
              "#7201a8"
             ],
             [
              0.3333333333333333,
              "#9c179e"
             ],
             [
              0.4444444444444444,
              "#bd3786"
             ],
             [
              0.5555555555555556,
              "#d8576b"
             ],
             [
              0.6666666666666666,
              "#ed7953"
             ],
             [
              0.7777777777777778,
              "#fb9f3a"
             ],
             [
              0.8888888888888888,
              "#fdca26"
             ],
             [
              1,
              "#f0f921"
             ]
            ],
            "type": "contour"
           }
          ],
          "contourcarpet": [
           {
            "colorbar": {
             "outlinewidth": 0,
             "ticks": ""
            },
            "type": "contourcarpet"
           }
          ],
          "heatmap": [
           {
            "colorbar": {
             "outlinewidth": 0,
             "ticks": ""
            },
            "colorscale": [
             [
              0,
              "#0d0887"
             ],
             [
              0.1111111111111111,
              "#46039f"
             ],
             [
              0.2222222222222222,
              "#7201a8"
             ],
             [
              0.3333333333333333,
              "#9c179e"
             ],
             [
              0.4444444444444444,
              "#bd3786"
             ],
             [
              0.5555555555555556,
              "#d8576b"
             ],
             [
              0.6666666666666666,
              "#ed7953"
             ],
             [
              0.7777777777777778,
              "#fb9f3a"
             ],
             [
              0.8888888888888888,
              "#fdca26"
             ],
             [
              1,
              "#f0f921"
             ]
            ],
            "type": "heatmap"
           }
          ],
          "heatmapgl": [
           {
            "colorbar": {
             "outlinewidth": 0,
             "ticks": ""
            },
            "colorscale": [
             [
              0,
              "#0d0887"
             ],
             [
              0.1111111111111111,
              "#46039f"
             ],
             [
              0.2222222222222222,
              "#7201a8"
             ],
             [
              0.3333333333333333,
              "#9c179e"
             ],
             [
              0.4444444444444444,
              "#bd3786"
             ],
             [
              0.5555555555555556,
              "#d8576b"
             ],
             [
              0.6666666666666666,
              "#ed7953"
             ],
             [
              0.7777777777777778,
              "#fb9f3a"
             ],
             [
              0.8888888888888888,
              "#fdca26"
             ],
             [
              1,
              "#f0f921"
             ]
            ],
            "type": "heatmapgl"
           }
          ],
          "histogram": [
           {
            "marker": {
             "pattern": {
              "fillmode": "overlay",
              "size": 10,
              "solidity": 0.2
             }
            },
            "type": "histogram"
           }
          ],
          "histogram2d": [
           {
            "colorbar": {
             "outlinewidth": 0,
             "ticks": ""
            },
            "colorscale": [
             [
              0,
              "#0d0887"
             ],
             [
              0.1111111111111111,
              "#46039f"
             ],
             [
              0.2222222222222222,
              "#7201a8"
             ],
             [
              0.3333333333333333,
              "#9c179e"
             ],
             [
              0.4444444444444444,
              "#bd3786"
             ],
             [
              0.5555555555555556,
              "#d8576b"
             ],
             [
              0.6666666666666666,
              "#ed7953"
             ],
             [
              0.7777777777777778,
              "#fb9f3a"
             ],
             [
              0.8888888888888888,
              "#fdca26"
             ],
             [
              1,
              "#f0f921"
             ]
            ],
            "type": "histogram2d"
           }
          ],
          "histogram2dcontour": [
           {
            "colorbar": {
             "outlinewidth": 0,
             "ticks": ""
            },
            "colorscale": [
             [
              0,
              "#0d0887"
             ],
             [
              0.1111111111111111,
              "#46039f"
             ],
             [
              0.2222222222222222,
              "#7201a8"
             ],
             [
              0.3333333333333333,
              "#9c179e"
             ],
             [
              0.4444444444444444,
              "#bd3786"
             ],
             [
              0.5555555555555556,
              "#d8576b"
             ],
             [
              0.6666666666666666,
              "#ed7953"
             ],
             [
              0.7777777777777778,
              "#fb9f3a"
             ],
             [
              0.8888888888888888,
              "#fdca26"
             ],
             [
              1,
              "#f0f921"
             ]
            ],
            "type": "histogram2dcontour"
           }
          ],
          "mesh3d": [
           {
            "colorbar": {
             "outlinewidth": 0,
             "ticks": ""
            },
            "type": "mesh3d"
           }
          ],
          "parcoords": [
           {
            "line": {
             "colorbar": {
              "outlinewidth": 0,
              "ticks": ""
             }
            },
            "type": "parcoords"
           }
          ],
          "pie": [
           {
            "automargin": true,
            "type": "pie"
           }
          ],
          "scatter": [
           {
            "fillpattern": {
             "fillmode": "overlay",
             "size": 10,
             "solidity": 0.2
            },
            "type": "scatter"
           }
          ],
          "scatter3d": [
           {
            "line": {
             "colorbar": {
              "outlinewidth": 0,
              "ticks": ""
             }
            },
            "marker": {
             "colorbar": {
              "outlinewidth": 0,
              "ticks": ""
             }
            },
            "type": "scatter3d"
           }
          ],
          "scattercarpet": [
           {
            "marker": {
             "colorbar": {
              "outlinewidth": 0,
              "ticks": ""
             }
            },
            "type": "scattercarpet"
           }
          ],
          "scattergeo": [
           {
            "marker": {
             "colorbar": {
              "outlinewidth": 0,
              "ticks": ""
             }
            },
            "type": "scattergeo"
           }
          ],
          "scattergl": [
           {
            "marker": {
             "colorbar": {
              "outlinewidth": 0,
              "ticks": ""
             }
            },
            "type": "scattergl"
           }
          ],
          "scattermapbox": [
           {
            "marker": {
             "colorbar": {
              "outlinewidth": 0,
              "ticks": ""
             }
            },
            "type": "scattermapbox"
           }
          ],
          "scatterpolar": [
           {
            "marker": {
             "colorbar": {
              "outlinewidth": 0,
              "ticks": ""
             }
            },
            "type": "scatterpolar"
           }
          ],
          "scatterpolargl": [
           {
            "marker": {
             "colorbar": {
              "outlinewidth": 0,
              "ticks": ""
             }
            },
            "type": "scatterpolargl"
           }
          ],
          "scatterternary": [
           {
            "marker": {
             "colorbar": {
              "outlinewidth": 0,
              "ticks": ""
             }
            },
            "type": "scatterternary"
           }
          ],
          "surface": [
           {
            "colorbar": {
             "outlinewidth": 0,
             "ticks": ""
            },
            "colorscale": [
             [
              0,
              "#0d0887"
             ],
             [
              0.1111111111111111,
              "#46039f"
             ],
             [
              0.2222222222222222,
              "#7201a8"
             ],
             [
              0.3333333333333333,
              "#9c179e"
             ],
             [
              0.4444444444444444,
              "#bd3786"
             ],
             [
              0.5555555555555556,
              "#d8576b"
             ],
             [
              0.6666666666666666,
              "#ed7953"
             ],
             [
              0.7777777777777778,
              "#fb9f3a"
             ],
             [
              0.8888888888888888,
              "#fdca26"
             ],
             [
              1,
              "#f0f921"
             ]
            ],
            "type": "surface"
           }
          ],
          "table": [
           {
            "cells": {
             "fill": {
              "color": "#EBF0F8"
             },
             "line": {
              "color": "white"
             }
            },
            "header": {
             "fill": {
              "color": "#C8D4E3"
             },
             "line": {
              "color": "white"
             }
            },
            "type": "table"
           }
          ]
         },
         "layout": {
          "annotationdefaults": {
           "arrowcolor": "#2a3f5f",
           "arrowhead": 0,
           "arrowwidth": 1
          },
          "autotypenumbers": "strict",
          "coloraxis": {
           "colorbar": {
            "outlinewidth": 0,
            "ticks": ""
           }
          },
          "colorscale": {
           "diverging": [
            [
             0,
             "#8e0152"
            ],
            [
             0.1,
             "#c51b7d"
            ],
            [
             0.2,
             "#de77ae"
            ],
            [
             0.3,
             "#f1b6da"
            ],
            [
             0.4,
             "#fde0ef"
            ],
            [
             0.5,
             "#f7f7f7"
            ],
            [
             0.6,
             "#e6f5d0"
            ],
            [
             0.7,
             "#b8e186"
            ],
            [
             0.8,
             "#7fbc41"
            ],
            [
             0.9,
             "#4d9221"
            ],
            [
             1,
             "#276419"
            ]
           ],
           "sequential": [
            [
             0,
             "#0d0887"
            ],
            [
             0.1111111111111111,
             "#46039f"
            ],
            [
             0.2222222222222222,
             "#7201a8"
            ],
            [
             0.3333333333333333,
             "#9c179e"
            ],
            [
             0.4444444444444444,
             "#bd3786"
            ],
            [
             0.5555555555555556,
             "#d8576b"
            ],
            [
             0.6666666666666666,
             "#ed7953"
            ],
            [
             0.7777777777777778,
             "#fb9f3a"
            ],
            [
             0.8888888888888888,
             "#fdca26"
            ],
            [
             1,
             "#f0f921"
            ]
           ],
           "sequentialminus": [
            [
             0,
             "#0d0887"
            ],
            [
             0.1111111111111111,
             "#46039f"
            ],
            [
             0.2222222222222222,
             "#7201a8"
            ],
            [
             0.3333333333333333,
             "#9c179e"
            ],
            [
             0.4444444444444444,
             "#bd3786"
            ],
            [
             0.5555555555555556,
             "#d8576b"
            ],
            [
             0.6666666666666666,
             "#ed7953"
            ],
            [
             0.7777777777777778,
             "#fb9f3a"
            ],
            [
             0.8888888888888888,
             "#fdca26"
            ],
            [
             1,
             "#f0f921"
            ]
           ]
          },
          "colorway": [
           "#636efa",
           "#EF553B",
           "#00cc96",
           "#ab63fa",
           "#FFA15A",
           "#19d3f3",
           "#FF6692",
           "#B6E880",
           "#FF97FF",
           "#FECB52"
          ],
          "font": {
           "color": "#2a3f5f"
          },
          "geo": {
           "bgcolor": "white",
           "lakecolor": "white",
           "landcolor": "#E5ECF6",
           "showlakes": true,
           "showland": true,
           "subunitcolor": "white"
          },
          "hoverlabel": {
           "align": "left"
          },
          "hovermode": "closest",
          "mapbox": {
           "style": "light"
          },
          "paper_bgcolor": "white",
          "plot_bgcolor": "#E5ECF6",
          "polar": {
           "angularaxis": {
            "gridcolor": "white",
            "linecolor": "white",
            "ticks": ""
           },
           "bgcolor": "#E5ECF6",
           "radialaxis": {
            "gridcolor": "white",
            "linecolor": "white",
            "ticks": ""
           }
          },
          "scene": {
           "xaxis": {
            "backgroundcolor": "#E5ECF6",
            "gridcolor": "white",
            "gridwidth": 2,
            "linecolor": "white",
            "showbackground": true,
            "ticks": "",
            "zerolinecolor": "white"
           },
           "yaxis": {
            "backgroundcolor": "#E5ECF6",
            "gridcolor": "white",
            "gridwidth": 2,
            "linecolor": "white",
            "showbackground": true,
            "ticks": "",
            "zerolinecolor": "white"
           },
           "zaxis": {
            "backgroundcolor": "#E5ECF6",
            "gridcolor": "white",
            "gridwidth": 2,
            "linecolor": "white",
            "showbackground": true,
            "ticks": "",
            "zerolinecolor": "white"
           }
          },
          "shapedefaults": {
           "line": {
            "color": "#2a3f5f"
           }
          },
          "ternary": {
           "aaxis": {
            "gridcolor": "white",
            "linecolor": "white",
            "ticks": ""
           },
           "baxis": {
            "gridcolor": "white",
            "linecolor": "white",
            "ticks": ""
           },
           "bgcolor": "#E5ECF6",
           "caxis": {
            "gridcolor": "white",
            "linecolor": "white",
            "ticks": ""
           }
          },
          "title": {
           "x": 0.05
          },
          "xaxis": {
           "automargin": true,
           "gridcolor": "white",
           "linecolor": "white",
           "ticks": "",
           "title": {
            "standoff": 15
           },
           "zerolinecolor": "white",
           "zerolinewidth": 2
          },
          "yaxis": {
           "automargin": true,
           "gridcolor": "white",
           "linecolor": "white",
           "ticks": "",
           "title": {
            "standoff": 15
           },
           "zerolinecolor": "white",
           "zerolinewidth": 2
          }
         }
        },
        "title": {
         "text": "Nr of Microglia+ nuclei by Sample - cellpdia30_sigma1_dilrad4_dnad_obj_seg_v1_gliaero6_gliathr20_dnadero2"
        },
        "xaxis": {
         "anchor": "y",
         "domain": [
          0,
          1
         ],
         "title": {
          "text": "staining_id"
         }
        },
        "yaxis": {
         "anchor": "x",
         "domain": [
          0,
          1
         ],
         "title": {
          "text": "nr_glia_+_nuclei"
         }
        }
       }
      }
     },
     "metadata": {},
     "output_type": "display_data"
    },
    {
     "data": {
      "application/vnd.plotly.v1+json": {
       "config": {
        "plotlyServerURL": "https://plot.ly"
       },
       "data": [
        {
         "customdata": [
          [
           0,
           "DSB Iba1 101_40X_CA1"
          ],
          [
           1,
           "DSB Iba1 101_40X_CA3"
          ],
          [
           2,
           "DSB Iba1 101_40X_CTX1"
          ],
          [
           3,
           "DSB Iba1 101_40X_CTX2"
          ],
          [
           4,
           "DSB Iba1 101_40X_CTX3"
          ],
          [
           5,
           "DSB Iba1 101_40X_DG"
          ],
          [
           6,
           "DSB Iba1 102_40X_CA1"
          ],
          [
           7,
           "DSB Iba1 102_40X_CA3"
          ],
          [
           8,
           "DSB Iba1 102_40X_CTX1"
          ],
          [
           9,
           "DSB Iba1 102_40X_CTX2"
          ],
          [
           10,
           "DSB Iba1 102_40X_CTX3"
          ],
          [
           11,
           "DSB Iba1 102_40X_DG"
          ],
          [
           12,
           "DSB Iba1 103_40X_CA1"
          ],
          [
           13,
           "DSB Iba1 103_40X_CA3"
          ],
          [
           14,
           "DSB Iba1 103_40X_CTX1"
          ],
          [
           15,
           "DSB Iba1 103_40X_CTX2"
          ],
          [
           16,
           "DSB Iba1 103_40X_CTX3"
          ],
          [
           17,
           "DSB Iba1 103_40X_DG"
          ],
          [
           18,
           "DSB Iba1 104_40X_CA1"
          ],
          [
           19,
           "DSB Iba1 104_40X_CA3"
          ],
          [
           20,
           "DSB Iba1 104_40X_CTX1"
          ],
          [
           21,
           "DSB Iba1 104_40X_CTX2"
          ],
          [
           22,
           "DSB Iba1 104_40X_CTX3"
          ],
          [
           23,
           "DSB Iba1 104_40X_DG"
          ],
          [
           24,
           "DSB Iba1 105_40X_CA1"
          ],
          [
           25,
           "DSB Iba1 105_40X_CA3"
          ],
          [
           26,
           "DSB Iba1 105_40X_CTX1"
          ],
          [
           27,
           "DSB Iba1 105_40X_CTX2"
          ],
          [
           28,
           "DSB Iba1 105_40X_CTX3"
          ],
          [
           29,
           "DSB Iba1 106_40X_CA1"
          ],
          [
           30,
           "DSB Iba1 106_40X_CA3"
          ],
          [
           31,
           "DSB Iba1 106_40X_CTX1"
          ],
          [
           32,
           "DSB Iba1 106_40X_CTX2"
          ],
          [
           33,
           "DSB Iba1 106_40X_CTX3"
          ],
          [
           34,
           "DSB Iba1 106_40X_DG"
          ],
          [
           35,
           "DSB Iba1 107_40X_CA1"
          ],
          [
           36,
           "DSB Iba1 107_40X_CA3"
          ],
          [
           37,
           "DSB Iba1 107_40X_CTX1"
          ],
          [
           38,
           "DSB Iba1 107_40X_CTX2"
          ],
          [
           39,
           "DSB Iba1 107_40X_CTX3"
          ],
          [
           40,
           "DSB Iba1 107_40X_DG"
          ],
          [
           41,
           "DSB Iba1 108_40X_CA1"
          ],
          [
           42,
           "DSB Iba1 108_40X_CA3"
          ],
          [
           43,
           "DSB Iba1 108_40X_CTX1"
          ],
          [
           44,
           "DSB Iba1 108_40X_CTX2"
          ],
          [
           45,
           "DSB Iba1 108_40X_CTX3"
          ],
          [
           46,
           "DSB Iba1 108_40X_DG"
          ],
          [
           47,
           "DSB Iba1 16_40X_CA1"
          ],
          [
           48,
           "DSB Iba1 16_40X_CA3"
          ],
          [
           49,
           "DSB Iba1 16_40X_CTX1"
          ],
          [
           50,
           "DSB Iba1 16_40X_CTX2"
          ],
          [
           51,
           "DSB Iba1 16_40X_CTX3"
          ],
          [
           52,
           "DSB Iba1 16_40X_DG"
          ],
          [
           53,
           "DSB Iba1 17_40X_CA1"
          ],
          [
           54,
           "DSB Iba1 17_40X_CA3"
          ],
          [
           55,
           "DSB Iba1 17_40X_CTX1"
          ],
          [
           56,
           "DSB Iba1 17_40X_CTX2"
          ],
          [
           57,
           "DSB Iba1 17_40X_CTX3"
          ],
          [
           58,
           "DSB Iba1 17_40X_DG"
          ],
          [
           59,
           "DSB Iba1 18_40X_CA1"
          ],
          [
           60,
           "DSB Iba1 18_40X_CA3"
          ],
          [
           61,
           "DSB Iba1 18_40X_CTX1"
          ],
          [
           62,
           "DSB Iba1 18_40X_CTX2"
          ],
          [
           63,
           "DSB Iba1 18_40X_CTX3"
          ],
          [
           64,
           "DSB Iba1 18_40X_DG"
          ],
          [
           65,
           "DSB Iba1 19_40X_CA1"
          ],
          [
           66,
           "DSB Iba1 19_40X_CA3"
          ],
          [
           67,
           "DSB Iba1 19_40X_CTX1"
          ],
          [
           68,
           "DSB Iba1 19_40X_CTX2"
          ],
          [
           69,
           "DSB Iba1 19_40X_CTX3"
          ],
          [
           70,
           "DSB Iba1 19_40X_DG"
          ],
          [
           71,
           "DSB Iba1 20_40X_CA1"
          ],
          [
           72,
           "DSB Iba1 20_40X_CA3"
          ],
          [
           73,
           "DSB Iba1 20_40X_CTX1"
          ],
          [
           74,
           "DSB Iba1 20_40X_CTX2"
          ],
          [
           75,
           "DSB Iba1 20_40X_CTX3"
          ],
          [
           76,
           "DSB Iba1 20_40X_DG"
          ],
          [
           77,
           "DSB Iba1 21_40X_CA1"
          ],
          [
           78,
           "DSB Iba1 21_40X_CA3"
          ],
          [
           79,
           "DSB Iba1 21_40X_CTX1"
          ],
          [
           80,
           "DSB Iba1 21_40X_CTX2"
          ],
          [
           81,
           "DSB Iba1 21_40X_CTX3"
          ],
          [
           82,
           "DSB Iba1 21_40X_DG"
          ],
          [
           83,
           "DSB Iba1 22_40X_CA1"
          ],
          [
           84,
           "DSB Iba1 22_40X_CA3"
          ],
          [
           85,
           "DSB Iba1 22_40X_CTX1"
          ],
          [
           86,
           "DSB Iba1 22_40X_CTX2"
          ],
          [
           87,
           "DSB Iba1 22_40X_CTX3"
          ],
          [
           88,
           "DSB Iba1 22_40X_DG"
          ],
          [
           89,
           "DSB Iba1 23_40X_CA1"
          ],
          [
           90,
           "DSB Iba1 23_40X_CA3"
          ],
          [
           91,
           "DSB Iba1 23_40X_CTX1"
          ],
          [
           92,
           "DSB Iba1 23_40X_CTX2"
          ],
          [
           93,
           "DSB Iba1 23_40X_CTX3"
          ],
          [
           94,
           "DSB Iba1 23_40X_DG"
          ],
          [
           95,
           "DSB Iba1 24_40X_CA1"
          ],
          [
           96,
           "DSB Iba1 24_40X_CA3"
          ],
          [
           97,
           "DSB Iba1 24_40X_CTX1"
          ],
          [
           98,
           "DSB Iba1 24_40X_CTX2"
          ],
          [
           99,
           "DSB Iba1 24_40X_CTX3"
          ],
          [
           100,
           "DSB Iba1 24_40X_DG"
          ],
          [
           101,
           "DSB Iba1 25_40X_CA1"
          ],
          [
           102,
           "DSB Iba1 25_40X_CA3"
          ],
          [
           103,
           "DSB Iba1 25_40X_CTX1"
          ],
          [
           104,
           "DSB Iba1 25_40X_CTX2"
          ],
          [
           105,
           "DSB Iba1 25_40X_CTX3"
          ],
          [
           106,
           "DSB Iba1 25_40X_DG"
          ],
          [
           107,
           "DSB Iba1 26_40X_CA1"
          ],
          [
           108,
           "DSB Iba1 26_40X_CA3"
          ],
          [
           109,
           "DSB Iba1 26_40X_CTX1"
          ],
          [
           110,
           "DSB Iba1 26_40X_CTX2"
          ],
          [
           111,
           "DSB Iba1 26_40X_CTX3"
          ],
          [
           112,
           "DSB Iba1 26_40X_DG"
          ],
          [
           113,
           "DSB Iba1 27_40X_DG"
          ],
          [
           114,
           "DSB Iba1 28_40X_CA1"
          ],
          [
           115,
           "DSB Iba1 28_40X_CA3"
          ],
          [
           116,
           "DSB Iba1 28_40X_CTX1"
          ],
          [
           117,
           "DSB Iba1 28_40X_CTX2"
          ],
          [
           118,
           "DSB Iba1 28_40X_CTX3"
          ],
          [
           119,
           "DSB Iba1 28_40X_DG"
          ],
          [
           120,
           "DSB Iba1 29_40X_CA1"
          ],
          [
           121,
           "DSB Iba1 29_40X_CA3"
          ],
          [
           122,
           "DSB Iba1 29_40X_CTX1"
          ],
          [
           123,
           "DSB Iba1 29_40X_CTX2"
          ],
          [
           124,
           "DSB Iba1 29_40X_CTX3"
          ],
          [
           125,
           "DSB Iba1 29_40X_DG"
          ],
          [
           126,
           "DSB Iba1 30_40X_CA1"
          ],
          [
           127,
           "DSB Iba1 30_40X_CA3"
          ],
          [
           128,
           "DSB Iba1 30_40X_CTX1"
          ],
          [
           129,
           "DSB Iba1 30_40X_CTX2"
          ],
          [
           130,
           "DSB Iba1 30_40X_CTX3"
          ],
          [
           131,
           "DSB Iba1 30_40X_DG"
          ],
          [
           132,
           "DSB Iba1 31_40X_CA1"
          ],
          [
           133,
           "DSB Iba1 31_40X_CA3"
          ],
          [
           134,
           "DSB Iba1 31_40X_CTX1"
          ],
          [
           135,
           "DSB Iba1 31_40X_CTX2"
          ],
          [
           136,
           "DSB Iba1 31_40X_CTX3"
          ],
          [
           137,
           "DSB Iba1 31_40X_DG"
          ],
          [
           138,
           "DSB Iba1 32_40X_CA1"
          ],
          [
           139,
           "DSB Iba1 32_40X_CA3"
          ],
          [
           140,
           "DSB Iba1 32_40X_CTX1"
          ],
          [
           141,
           "DSB Iba1 32_40X_CTX2"
          ],
          [
           142,
           "DSB Iba1 32_40X_CTX3"
          ],
          [
           143,
           "DSB Iba1 32_40X_DG"
          ],
          [
           144,
           "DSB Iba1 33_40X_CA1"
          ],
          [
           145,
           "DSB Iba1 33_40X_CA3"
          ],
          [
           146,
           "DSB Iba1 33_40X_CTX1"
          ],
          [
           147,
           "DSB Iba1 33_40X_CTX2"
          ],
          [
           148,
           "DSB Iba1 33_40X_CTX3"
          ],
          [
           149,
           "DSB Iba1 33_40X_DG"
          ],
          [
           150,
           "DSB Iba1 34_40X_CA1"
          ],
          [
           151,
           "DSB Iba1 34_40X_CA3"
          ],
          [
           152,
           "DSB Iba1 34_40X_CTX1"
          ],
          [
           153,
           "DSB Iba1 34_40X_CTX2"
          ],
          [
           154,
           "DSB Iba1 34_40X_CTX3"
          ],
          [
           155,
           "DSB Iba1 34_40X_DG"
          ],
          [
           156,
           "DSB Iba1 35_40X_CA1"
          ],
          [
           157,
           "DSB Iba1 35_40X_CA3"
          ],
          [
           158,
           "DSB Iba1 35_40X_CTX1"
          ],
          [
           159,
           "DSB Iba1 35_40X_CTX2"
          ],
          [
           160,
           "DSB Iba1 35_40X_CTX3"
          ],
          [
           161,
           "DSB Iba1 35_40X_DG"
          ],
          [
           162,
           "DSB Iba1 36_40X_CA1"
          ],
          [
           163,
           "DSB Iba1 36_40X_CA3"
          ],
          [
           164,
           "DSB Iba1 36_40X_CTX1"
          ],
          [
           165,
           "DSB Iba1 36_40X_CTX2"
          ],
          [
           166,
           "DSB Iba1 36_40X_CTX3"
          ],
          [
           167,
           "DSB Iba1 36_40X_DG"
          ],
          [
           168,
           "DSB Iba1 37_40X_CA1"
          ],
          [
           169,
           "DSB Iba1 37_40X_CA3"
          ],
          [
           170,
           "DSB Iba1 37_40X_CTX1"
          ],
          [
           171,
           "DSB Iba1 37_40X_CTX2"
          ],
          [
           172,
           "DSB Iba1 37_40X_CTX3"
          ],
          [
           173,
           "DSB Iba1 37_40X_DG"
          ],
          [
           174,
           "DSB Iba1 38_40X_DG"
          ],
          [
           175,
           "DSB Iba1 39_40X_CA1"
          ],
          [
           176,
           "DSB Iba1 39_40X_CA3"
          ],
          [
           177,
           "DSB Iba1 39_40X_CTX1"
          ],
          [
           178,
           "DSB Iba1 39_40X_CTX2"
          ],
          [
           179,
           "DSB Iba1 39_40X_CTX3"
          ],
          [
           180,
           "DSB Iba1 39_40X_DG"
          ],
          [
           181,
           "DSB Iba1 40_40X_CA1"
          ],
          [
           182,
           "DSB Iba1 40_40X_CA3"
          ],
          [
           183,
           "DSB Iba1 40_40X_CTX1"
          ],
          [
           184,
           "DSB Iba1 40_40X_CTX2"
          ],
          [
           185,
           "DSB Iba1 40_40X_CTX3"
          ],
          [
           186,
           "DSB Iba1 40_40X_DG"
          ],
          [
           187,
           "DSB Iba1 41_40X_CA1"
          ],
          [
           188,
           "DSB Iba1 41_40X_CA3"
          ],
          [
           189,
           "DSB Iba1 41_40X_CTX1"
          ],
          [
           190,
           "DSB Iba1 41_40X_CTX2"
          ],
          [
           191,
           "DSB Iba1 41_40X_CTX3"
          ],
          [
           192,
           "DSB Iba1 41_40X_DG"
          ],
          [
           193,
           "DSB Iba1 42_40X_CA1"
          ],
          [
           194,
           "DSB Iba1 42_40X_CA3"
          ],
          [
           195,
           "DSB Iba1 42_40X_CTX1"
          ],
          [
           196,
           "DSB Iba1 42_40X_CTX2"
          ],
          [
           197,
           "DSB Iba1 42_40X_CTX3"
          ],
          [
           198,
           "DSB Iba1 42_40X_DG"
          ],
          [
           199,
           "DSB Iba1 43_40X_CA1"
          ],
          [
           200,
           "DSB Iba1 43_40X_CA3"
          ],
          [
           201,
           "DSB Iba1 43_40X_CTX1"
          ],
          [
           202,
           "DSB Iba1 43_40X_CTX2"
          ],
          [
           203,
           "DSB Iba1 43_40X_CTX3"
          ],
          [
           204,
           "DSB Iba1 43_40X_DG"
          ],
          [
           205,
           "DSB Iba1 44_40X_CA1"
          ],
          [
           206,
           "DSB Iba1 44_40X_CA3"
          ],
          [
           207,
           "DSB Iba1 44_40X_CTX1"
          ],
          [
           208,
           "DSB Iba1 44_40X_DG"
          ],
          [
           209,
           "DSB Iba1 45_40X_CA1"
          ],
          [
           210,
           "DSB Iba1 45_40X_CA3"
          ],
          [
           211,
           "DSB Iba1 45_40X_CTX1"
          ],
          [
           212,
           "DSB Iba1 45_40X_CTX2"
          ],
          [
           213,
           "DSB Iba1 45_40X_CTX3"
          ],
          [
           214,
           "DSB Iba1 45_40X_DG"
          ],
          [
           215,
           "DSB Iba1 46_40X_CA1"
          ],
          [
           216,
           "DSB Iba1 46_40X_CA3"
          ],
          [
           217,
           "DSB Iba1 46_40X_CTX1"
          ],
          [
           218,
           "DSB Iba1 46_40X_CTX2"
          ],
          [
           219,
           "DSB Iba1 46_40X_CTX3"
          ],
          [
           220,
           "DSB Iba1 46_40X_DG"
          ],
          [
           221,
           "DSB Iba1 47_40X_CA1"
          ],
          [
           222,
           "DSB Iba1 47_40X_CA3"
          ],
          [
           223,
           "DSB Iba1 47_40X_CTX1"
          ],
          [
           224,
           "DSB Iba1 47_40X_CTX2"
          ],
          [
           225,
           "DSB Iba1 47_40X_CTX3"
          ],
          [
           226,
           "DSB Iba1 47_40X_DG"
          ],
          [
           227,
           "DSB Iba1 48_40X_CA1"
          ],
          [
           228,
           "DSB Iba1 48_40X_CA3"
          ],
          [
           229,
           "DSB Iba1 48_40X_CTX1"
          ],
          [
           230,
           "DSB Iba1 48_40X_CTX2"
          ],
          [
           231,
           "DSB Iba1 48_40X_CTX3"
          ],
          [
           232,
           "DSB Iba1 48_40X_DG"
          ],
          [
           233,
           "DSB Iba1 49_40X_CA1"
          ],
          [
           234,
           "DSB Iba1 49_40X_CA3"
          ],
          [
           235,
           "DSB Iba1 49_40X_CTX1"
          ],
          [
           236,
           "DSB Iba1 49_40X_CTX2"
          ],
          [
           237,
           "DSB Iba1 49_40X_CTX3"
          ],
          [
           238,
           "DSB Iba1 49_40X_DG"
          ],
          [
           239,
           "DSB Iba1 50_40X_CA1"
          ],
          [
           240,
           "DSB Iba1 50_40X_CA3"
          ],
          [
           241,
           "DSB Iba1 50_40X_CTX1"
          ],
          [
           242,
           "DSB Iba1 50_40X_CTX2"
          ],
          [
           243,
           "DSB Iba1 50_40X_CTX3"
          ],
          [
           244,
           "DSB Iba1 50_40X_DG"
          ],
          [
           245,
           "DSB Iba1 51_40X_CA1"
          ],
          [
           246,
           "DSB Iba1 51_40X_CA3"
          ],
          [
           247,
           "DSB Iba1 51_40X_CTX1"
          ],
          [
           248,
           "DSB Iba1 51_40X_CTX2"
          ],
          [
           249,
           "DSB Iba1 51_40X_CTX3"
          ],
          [
           250,
           "DSB Iba1 51_40X_DG"
          ],
          [
           251,
           "DSB Iba1 52_40X_CA1"
          ],
          [
           252,
           "DSB Iba1 52_40X_CA3"
          ],
          [
           253,
           "DSB Iba1 52_40X_CTX1"
          ],
          [
           254,
           "DSB Iba1 52_40X_CTX2"
          ],
          [
           255,
           "DSB Iba1 52_40X_CTX3"
          ],
          [
           256,
           "DSB Iba1 52_40X_DG"
          ],
          [
           257,
           "DSB Iba1 53_40X_CA1"
          ],
          [
           258,
           "DSB Iba1 53_40X_CA3"
          ],
          [
           259,
           "DSB Iba1 53_40X_CTX1"
          ],
          [
           260,
           "DSB Iba1 53_40X_CTX2"
          ],
          [
           261,
           "DSB Iba1 53_40X_CTX3"
          ],
          [
           262,
           "DSB Iba1 53_40X_DG"
          ],
          [
           263,
           "DSB Iba1 54_40X_CA1"
          ],
          [
           264,
           "DSB Iba1 54_40X_CA3"
          ],
          [
           265,
           "DSB Iba1 54_40X_CTX1"
          ],
          [
           266,
           "DSB Iba1 54_40X_CTX2"
          ],
          [
           267,
           "DSB Iba1 54_40X_CTX3"
          ],
          [
           268,
           "DSB Iba1 54_40X_DG"
          ],
          [
           269,
           "DSB Iba1 55_40X_CA1"
          ],
          [
           270,
           "DSB Iba1 55_40X_CA3"
          ],
          [
           271,
           "DSB Iba1 55_40X_CTX1"
          ],
          [
           272,
           "DSB Iba1 55_40X_CTX2"
          ],
          [
           273,
           "DSB Iba1 55_40X_CTX3"
          ],
          [
           274,
           "DSB Iba1 55_40X_DG"
          ],
          [
           275,
           "DSB Iba1 56_40X_CA1"
          ],
          [
           276,
           "DSB Iba1 56_40X_CA3"
          ],
          [
           277,
           "DSB Iba1 56_40X_CTX1"
          ],
          [
           278,
           "DSB Iba1 56_40X_CTX2"
          ],
          [
           279,
           "DSB Iba1 56_40X_CTX3"
          ],
          [
           280,
           "DSB Iba1 56_40X_DG"
          ],
          [
           281,
           "DSB Iba1 57_40X_CA1"
          ],
          [
           282,
           "DSB Iba1 57_40X_CA3"
          ],
          [
           283,
           "DSB Iba1 57_40X_CTX1"
          ],
          [
           284,
           "DSB Iba1 57_40X_CTX2"
          ],
          [
           285,
           "DSB Iba1 57_40X_CTX3"
          ],
          [
           286,
           "DSB Iba1 57_40X_DG"
          ],
          [
           287,
           "DSB Iba1 58_40X_CA1"
          ],
          [
           288,
           "DSB Iba1 58_40X_CA3"
          ],
          [
           289,
           "DSB Iba1 58_40X_CTX1"
          ],
          [
           290,
           "DSB Iba1 58_40X_CTX2"
          ],
          [
           291,
           "DSB Iba1 58_40X_CTX3"
          ],
          [
           292,
           "DSB Iba1 58_40X_DG"
          ],
          [
           293,
           "DSB Iba1 59_40X_CA1"
          ],
          [
           294,
           "DSB Iba1 59_40X_CA3"
          ],
          [
           295,
           "DSB Iba1 59_40X_CTX1"
          ],
          [
           296,
           "DSB Iba1 59_40X_CTX2"
          ],
          [
           297,
           "DSB Iba1 59_40X_CTX3"
          ],
          [
           298,
           "DSB Iba1 59_40X_DG"
          ]
         ],
         "hovertemplate": "staining_id=%{x}<br>%_dna_damage_signal=%{y}<br>index=%{customdata[0]}<br>filename=%{customdata[1]}<extra></extra>",
         "legendgroup": "",
         "marker": {
          "color": "#636efa",
          "symbol": "circle"
         },
         "mode": "markers",
         "name": "",
         "orientation": "v",
         "showlegend": false,
         "type": "scatter",
         "x": [
          101,
          101,
          101,
          101,
          101,
          101,
          102,
          102,
          102,
          102,
          102,
          102,
          103,
          103,
          103,
          103,
          103,
          103,
          104,
          104,
          104,
          104,
          104,
          104,
          105,
          105,
          105,
          105,
          105,
          106,
          106,
          106,
          106,
          106,
          106,
          107,
          107,
          107,
          107,
          107,
          107,
          108,
          108,
          108,
          108,
          108,
          108,
          16,
          16,
          16,
          16,
          16,
          16,
          17,
          17,
          17,
          17,
          17,
          17,
          18,
          18,
          18,
          18,
          18,
          18,
          19,
          19,
          19,
          19,
          19,
          19,
          20,
          20,
          20,
          20,
          20,
          20,
          21,
          21,
          21,
          21,
          21,
          21,
          22,
          22,
          22,
          22,
          22,
          22,
          23,
          23,
          23,
          23,
          23,
          23,
          24,
          24,
          24,
          24,
          24,
          24,
          25,
          25,
          25,
          25,
          25,
          25,
          26,
          26,
          26,
          26,
          26,
          26,
          27,
          28,
          28,
          28,
          28,
          28,
          28,
          29,
          29,
          29,
          29,
          29,
          29,
          30,
          30,
          30,
          30,
          30,
          30,
          31,
          31,
          31,
          31,
          31,
          31,
          32,
          32,
          32,
          32,
          32,
          32,
          33,
          33,
          33,
          33,
          33,
          33,
          34,
          34,
          34,
          34,
          34,
          34,
          35,
          35,
          35,
          35,
          35,
          35,
          36,
          36,
          36,
          36,
          36,
          36,
          37,
          37,
          37,
          37,
          37,
          37,
          38,
          39,
          39,
          39,
          39,
          39,
          39,
          40,
          40,
          40,
          40,
          40,
          40,
          41,
          41,
          41,
          41,
          41,
          41,
          42,
          42,
          42,
          42,
          42,
          42,
          43,
          43,
          43,
          43,
          43,
          43,
          44,
          44,
          44,
          44,
          45,
          45,
          45,
          45,
          45,
          45,
          46,
          46,
          46,
          46,
          46,
          46,
          47,
          47,
          47,
          47,
          47,
          47,
          48,
          48,
          48,
          48,
          48,
          48,
          49,
          49,
          49,
          49,
          49,
          49,
          50,
          50,
          50,
          50,
          50,
          50,
          51,
          51,
          51,
          51,
          51,
          51,
          52,
          52,
          52,
          52,
          52,
          52,
          53,
          53,
          53,
          53,
          53,
          53,
          54,
          54,
          54,
          54,
          54,
          54,
          55,
          55,
          55,
          55,
          55,
          55,
          56,
          56,
          56,
          56,
          56,
          56,
          57,
          57,
          57,
          57,
          57,
          57,
          58,
          58,
          58,
          58,
          58,
          58,
          59,
          59,
          59,
          59,
          59,
          59
         ],
         "xaxis": "x",
         "y": [
          0.7833480834960938,
          1.2866973876953125,
          2.621173858642578,
          1.90887451171875,
          1.6230583190917969,
          4.331111907958984,
          0.918865203857422,
          1.2639999389648438,
          1.2109756469726562,
          1.820850372314453,
          2.02932357788086,
          4.564476013183594,
          1.084613800048828,
          1.269817352294922,
          0.9360313415527344,
          2.3061752319335938,
          1.5970230102539062,
          4.351615905761719,
          1.6148567199707031,
          1.8998146057128904,
          1.8528938293457031,
          2.130413055419922,
          1.1771202087402344,
          3.223705291748047,
          0.9904861450195312,
          0.8818626403808594,
          0.6269454956054688,
          1.6535758972167969,
          1.664447784423828,
          0.8664131164550781,
          0.6819725036621094,
          1.1014938354492188,
          1.137542724609375,
          1.324176788330078,
          2.854442596435547,
          1.4398574829101562,
          1.4561653137207031,
          1.1278152465820312,
          2.0461082458496094,
          1.746368408203125,
          3.922653198242188,
          1.2656211853027344,
          1.3545036315917969,
          0.7935523986816406,
          1.9483566284179688,
          1.239776611328125,
          4.4620513916015625,
          1.0966300964355469,
          18.227672576904297,
          0.8442878723144531,
          39.40544128417969,
          9.070396423339844,
          1.1308670043945312,
          2.456283569335937,
          5.110073089599609,
          1.3278961181640625,
          29.74271774291992,
          18.192768096923828,
          5.62286376953125,
          71.99668884277344,
          36.4354133605957,
          3.354072570800781,
          40.91596603393555,
          18.92385482788086,
          83.64906311035156,
          99.50284957885742,
          99.35731887817384,
          99.45621490478516,
          97.04084396362305,
          98.70357513427734,
          99.53365325927734,
          0.7762908935546875,
          1.1053085327148438,
          0.4868507385253906,
          0.9496688842773438,
          0.5314826965332031,
          2.3174285888671875,
          0.7778167724609375,
          0.7436752319335938,
          0.9168624877929688,
          1.0347366333007812,
          1.0148048400878906,
          2.2064208984375,
          1.2415885925292969,
          1.2543678283691406,
          1.403045654296875,
          1.3582229614257812,
          0.2514839172363281,
          3.1919479370117188,
          0.5928993225097656,
          0.531768798828125,
          0.4361152648925781,
          0.0720024108886718,
          0.6974220275878906,
          1.8776893615722656,
          0.4246711730957031,
          0.2900123596191406,
          0.2356529235839843,
          0.5938529968261719,
          0.5388259887695312,
          0.1180648803710937,
          1.3138771057128906,
          2.0705223083496094,
          0.565338134765625,
          1.6091346740722656,
          1.6841888427734375,
          4.139518737792969,
          7.658481597900391,
          14.291000366210938,
          48.14224243164063,
          50.63896179199219,
          60.15052795410156,
          15.996170043945312,
          37.166595458984375,
          1.17950439453125,
          1.036834716796875,
          1.6277313232421875,
          0.6724357604980469,
          0.9607315063476562,
          4.607105255126953,
          0.8039474487304688,
          0.6873130798339844,
          0.9842872619628906,
          1.365375518798828,
          0.4662513732910156,
          2.083301544189453,
          0.4213333129882812,
          0.7200241088867188,
          0.4976272583007812,
          0.5642890930175781,
          0.2711296081542969,
          1.5737533569335938,
          0.908184051513672,
          1.42059326171875,
          0.45013427734375,
          0.5597114562988281,
          0.7208824157714844,
          2.163314819335937,
          24.217510223388672,
          35.25991439819336,
          26.068115234375,
          45.59593200683594,
          16.32986068725586,
          20.56293487548828,
          0.8049964904785156,
          1.3813972473144531,
          1.5479087829589844,
          1.5409469604492188,
          0.8223533630371094,
          3.18288803100586,
          11.618709564208984,
          18.45865249633789,
          9.898662567138672,
          30.911731719970703,
          8.549880981445312,
          13.27676773071289,
          0.7157325744628906,
          13.22774887084961,
          0.7575035095214844,
          23.38438034057617,
          13.570690155029297,
          13.68703842163086,
          1.4990806579589844,
          1.174163818359375,
          2.8151512145996094,
          2.0681381225585938,
          1.329326629638672,
          4.043292999267578,
          1.2406349182128906,
          1.8404960632324217,
          2.520465850830078,
          5.1082611083984375,
          3.800201416015625,
          4.963588714599609,
          36.49396896362305,
          0.7749557495117188,
          1.0321617126464844,
          0.4506111145019531,
          0.3875732421875,
          0.2254486083984375,
          1.4722824096679688,
          0.4599571228027344,
          0.5597114562988281,
          0.6749153137207031,
          0.5100250244140625,
          0.711822509765625,
          2.08282470703125,
          0.7174491882324219,
          0.4147529602050781,
          0.066375732421875,
          0.0730514526367187,
          0.0868797302246093,
          2.2176742553710938,
          0.5374908447265625,
          0.6807327270507812,
          0.4649162292480469,
          0.4080772399902344,
          0.6461143493652344,
          1.3035774230957031,
          0.3113746643066406,
          2.048969268798828,
          1.3188362121582031,
          0.3693580627441406,
          0.8925437927246094,
          3.8147926330566406,
          71.6085433959961,
          81.05602264404297,
          83.38785171508789,
          45.105743408203125,
          1.8074989318847656,
          1.5021324157714844,
          0.8280754089355469,
          0.4374504089355469,
          0.3774642944335937,
          4.353618621826172,
          48.19374084472656,
          18.149757385253903,
          58.10279846191406,
          64.41020965576172,
          45.4249382019043,
          52.95248031616211,
          3.0524253845214844,
          5.192661285400391,
          0.7054328918457031,
          18.903064727783203,
          5.331134796142578,
          22.7813720703125,
          0.7757186889648438,
          0.5895614624023438,
          0.8686065673828125,
          1.111125946044922,
          1.1597633361816406,
          2.8412818908691406,
          44.43187713623047,
          4.161643981933594,
          35.48917770385742,
          37.35837936401367,
          2.4756431579589844,
          54.27255630493164,
          0.0975608825683593,
          0.5349159240722656,
          0.0278472900390625,
          0.2301216125488281,
          1.0915756225585938,
          0.46234130859375,
          0.4143714904785156,
          0.7281303405761719,
          0.2779006958007812,
          0.2605438232421875,
          0.4462242126464844,
          1.5252113342285156,
          0.2756118774414062,
          0.4342079162597656,
          0.1187324523925781,
          0.3239631652832031,
          0.4559516906738281,
          0.7616043090820312,
          4.520511627197266,
          6.536006927490234,
          3.690528869628906,
          3.605270385742188,
          3.4102439880371094,
          10.100555419921877,
          0.5602836608886719,
          1.2754440307617188,
          0.823211669921875,
          0.7739067077636719,
          0.8355140686035156,
          1.9334793090820312,
          0.495147705078125,
          0.4197120666503906,
          0.0318527221679687,
          0.611114501953125,
          0.0937461853027343,
          1.6141891479492188,
          0.609588623046875,
          0.5918502807617188,
          0.4897117614746094,
          0.3222465515136719,
          0.2533912658691406,
          0.9902000427246094,
          1.7914772033691406,
          6.385135650634766,
          0.3266334533691406,
          0.4457473754882812,
          0.1439094543457031,
          2.986621856689453,
          0.6536483764648438,
          0.7616043090820312,
          0.4926681518554687,
          0.8916854858398438,
          0.553131103515625,
          1.1504173278808594,
          0.9168624877929688,
          0.3584861755371094,
          0.8263587951660156,
          0.3554344177246094,
          0.322723388671875,
          2.118110656738281
         ],
         "yaxis": "y"
        }
       ],
       "layout": {
        "legend": {
         "tracegroupgap": 0
        },
        "template": {
         "data": {
          "bar": [
           {
            "error_x": {
             "color": "#2a3f5f"
            },
            "error_y": {
             "color": "#2a3f5f"
            },
            "marker": {
             "line": {
              "color": "#E5ECF6",
              "width": 0.5
             },
             "pattern": {
              "fillmode": "overlay",
              "size": 10,
              "solidity": 0.2
             }
            },
            "type": "bar"
           }
          ],
          "barpolar": [
           {
            "marker": {
             "line": {
              "color": "#E5ECF6",
              "width": 0.5
             },
             "pattern": {
              "fillmode": "overlay",
              "size": 10,
              "solidity": 0.2
             }
            },
            "type": "barpolar"
           }
          ],
          "carpet": [
           {
            "aaxis": {
             "endlinecolor": "#2a3f5f",
             "gridcolor": "white",
             "linecolor": "white",
             "minorgridcolor": "white",
             "startlinecolor": "#2a3f5f"
            },
            "baxis": {
             "endlinecolor": "#2a3f5f",
             "gridcolor": "white",
             "linecolor": "white",
             "minorgridcolor": "white",
             "startlinecolor": "#2a3f5f"
            },
            "type": "carpet"
           }
          ],
          "choropleth": [
           {
            "colorbar": {
             "outlinewidth": 0,
             "ticks": ""
            },
            "type": "choropleth"
           }
          ],
          "contour": [
           {
            "colorbar": {
             "outlinewidth": 0,
             "ticks": ""
            },
            "colorscale": [
             [
              0,
              "#0d0887"
             ],
             [
              0.1111111111111111,
              "#46039f"
             ],
             [
              0.2222222222222222,
              "#7201a8"
             ],
             [
              0.3333333333333333,
              "#9c179e"
             ],
             [
              0.4444444444444444,
              "#bd3786"
             ],
             [
              0.5555555555555556,
              "#d8576b"
             ],
             [
              0.6666666666666666,
              "#ed7953"
             ],
             [
              0.7777777777777778,
              "#fb9f3a"
             ],
             [
              0.8888888888888888,
              "#fdca26"
             ],
             [
              1,
              "#f0f921"
             ]
            ],
            "type": "contour"
           }
          ],
          "contourcarpet": [
           {
            "colorbar": {
             "outlinewidth": 0,
             "ticks": ""
            },
            "type": "contourcarpet"
           }
          ],
          "heatmap": [
           {
            "colorbar": {
             "outlinewidth": 0,
             "ticks": ""
            },
            "colorscale": [
             [
              0,
              "#0d0887"
             ],
             [
              0.1111111111111111,
              "#46039f"
             ],
             [
              0.2222222222222222,
              "#7201a8"
             ],
             [
              0.3333333333333333,
              "#9c179e"
             ],
             [
              0.4444444444444444,
              "#bd3786"
             ],
             [
              0.5555555555555556,
              "#d8576b"
             ],
             [
              0.6666666666666666,
              "#ed7953"
             ],
             [
              0.7777777777777778,
              "#fb9f3a"
             ],
             [
              0.8888888888888888,
              "#fdca26"
             ],
             [
              1,
              "#f0f921"
             ]
            ],
            "type": "heatmap"
           }
          ],
          "heatmapgl": [
           {
            "colorbar": {
             "outlinewidth": 0,
             "ticks": ""
            },
            "colorscale": [
             [
              0,
              "#0d0887"
             ],
             [
              0.1111111111111111,
              "#46039f"
             ],
             [
              0.2222222222222222,
              "#7201a8"
             ],
             [
              0.3333333333333333,
              "#9c179e"
             ],
             [
              0.4444444444444444,
              "#bd3786"
             ],
             [
              0.5555555555555556,
              "#d8576b"
             ],
             [
              0.6666666666666666,
              "#ed7953"
             ],
             [
              0.7777777777777778,
              "#fb9f3a"
             ],
             [
              0.8888888888888888,
              "#fdca26"
             ],
             [
              1,
              "#f0f921"
             ]
            ],
            "type": "heatmapgl"
           }
          ],
          "histogram": [
           {
            "marker": {
             "pattern": {
              "fillmode": "overlay",
              "size": 10,
              "solidity": 0.2
             }
            },
            "type": "histogram"
           }
          ],
          "histogram2d": [
           {
            "colorbar": {
             "outlinewidth": 0,
             "ticks": ""
            },
            "colorscale": [
             [
              0,
              "#0d0887"
             ],
             [
              0.1111111111111111,
              "#46039f"
             ],
             [
              0.2222222222222222,
              "#7201a8"
             ],
             [
              0.3333333333333333,
              "#9c179e"
             ],
             [
              0.4444444444444444,
              "#bd3786"
             ],
             [
              0.5555555555555556,
              "#d8576b"
             ],
             [
              0.6666666666666666,
              "#ed7953"
             ],
             [
              0.7777777777777778,
              "#fb9f3a"
             ],
             [
              0.8888888888888888,
              "#fdca26"
             ],
             [
              1,
              "#f0f921"
             ]
            ],
            "type": "histogram2d"
           }
          ],
          "histogram2dcontour": [
           {
            "colorbar": {
             "outlinewidth": 0,
             "ticks": ""
            },
            "colorscale": [
             [
              0,
              "#0d0887"
             ],
             [
              0.1111111111111111,
              "#46039f"
             ],
             [
              0.2222222222222222,
              "#7201a8"
             ],
             [
              0.3333333333333333,
              "#9c179e"
             ],
             [
              0.4444444444444444,
              "#bd3786"
             ],
             [
              0.5555555555555556,
              "#d8576b"
             ],
             [
              0.6666666666666666,
              "#ed7953"
             ],
             [
              0.7777777777777778,
              "#fb9f3a"
             ],
             [
              0.8888888888888888,
              "#fdca26"
             ],
             [
              1,
              "#f0f921"
             ]
            ],
            "type": "histogram2dcontour"
           }
          ],
          "mesh3d": [
           {
            "colorbar": {
             "outlinewidth": 0,
             "ticks": ""
            },
            "type": "mesh3d"
           }
          ],
          "parcoords": [
           {
            "line": {
             "colorbar": {
              "outlinewidth": 0,
              "ticks": ""
             }
            },
            "type": "parcoords"
           }
          ],
          "pie": [
           {
            "automargin": true,
            "type": "pie"
           }
          ],
          "scatter": [
           {
            "fillpattern": {
             "fillmode": "overlay",
             "size": 10,
             "solidity": 0.2
            },
            "type": "scatter"
           }
          ],
          "scatter3d": [
           {
            "line": {
             "colorbar": {
              "outlinewidth": 0,
              "ticks": ""
             }
            },
            "marker": {
             "colorbar": {
              "outlinewidth": 0,
              "ticks": ""
             }
            },
            "type": "scatter3d"
           }
          ],
          "scattercarpet": [
           {
            "marker": {
             "colorbar": {
              "outlinewidth": 0,
              "ticks": ""
             }
            },
            "type": "scattercarpet"
           }
          ],
          "scattergeo": [
           {
            "marker": {
             "colorbar": {
              "outlinewidth": 0,
              "ticks": ""
             }
            },
            "type": "scattergeo"
           }
          ],
          "scattergl": [
           {
            "marker": {
             "colorbar": {
              "outlinewidth": 0,
              "ticks": ""
             }
            },
            "type": "scattergl"
           }
          ],
          "scattermapbox": [
           {
            "marker": {
             "colorbar": {
              "outlinewidth": 0,
              "ticks": ""
             }
            },
            "type": "scattermapbox"
           }
          ],
          "scatterpolar": [
           {
            "marker": {
             "colorbar": {
              "outlinewidth": 0,
              "ticks": ""
             }
            },
            "type": "scatterpolar"
           }
          ],
          "scatterpolargl": [
           {
            "marker": {
             "colorbar": {
              "outlinewidth": 0,
              "ticks": ""
             }
            },
            "type": "scatterpolargl"
           }
          ],
          "scatterternary": [
           {
            "marker": {
             "colorbar": {
              "outlinewidth": 0,
              "ticks": ""
             }
            },
            "type": "scatterternary"
           }
          ],
          "surface": [
           {
            "colorbar": {
             "outlinewidth": 0,
             "ticks": ""
            },
            "colorscale": [
             [
              0,
              "#0d0887"
             ],
             [
              0.1111111111111111,
              "#46039f"
             ],
             [
              0.2222222222222222,
              "#7201a8"
             ],
             [
              0.3333333333333333,
              "#9c179e"
             ],
             [
              0.4444444444444444,
              "#bd3786"
             ],
             [
              0.5555555555555556,
              "#d8576b"
             ],
             [
              0.6666666666666666,
              "#ed7953"
             ],
             [
              0.7777777777777778,
              "#fb9f3a"
             ],
             [
              0.8888888888888888,
              "#fdca26"
             ],
             [
              1,
              "#f0f921"
             ]
            ],
            "type": "surface"
           }
          ],
          "table": [
           {
            "cells": {
             "fill": {
              "color": "#EBF0F8"
             },
             "line": {
              "color": "white"
             }
            },
            "header": {
             "fill": {
              "color": "#C8D4E3"
             },
             "line": {
              "color": "white"
             }
            },
            "type": "table"
           }
          ]
         },
         "layout": {
          "annotationdefaults": {
           "arrowcolor": "#2a3f5f",
           "arrowhead": 0,
           "arrowwidth": 1
          },
          "autotypenumbers": "strict",
          "coloraxis": {
           "colorbar": {
            "outlinewidth": 0,
            "ticks": ""
           }
          },
          "colorscale": {
           "diverging": [
            [
             0,
             "#8e0152"
            ],
            [
             0.1,
             "#c51b7d"
            ],
            [
             0.2,
             "#de77ae"
            ],
            [
             0.3,
             "#f1b6da"
            ],
            [
             0.4,
             "#fde0ef"
            ],
            [
             0.5,
             "#f7f7f7"
            ],
            [
             0.6,
             "#e6f5d0"
            ],
            [
             0.7,
             "#b8e186"
            ],
            [
             0.8,
             "#7fbc41"
            ],
            [
             0.9,
             "#4d9221"
            ],
            [
             1,
             "#276419"
            ]
           ],
           "sequential": [
            [
             0,
             "#0d0887"
            ],
            [
             0.1111111111111111,
             "#46039f"
            ],
            [
             0.2222222222222222,
             "#7201a8"
            ],
            [
             0.3333333333333333,
             "#9c179e"
            ],
            [
             0.4444444444444444,
             "#bd3786"
            ],
            [
             0.5555555555555556,
             "#d8576b"
            ],
            [
             0.6666666666666666,
             "#ed7953"
            ],
            [
             0.7777777777777778,
             "#fb9f3a"
            ],
            [
             0.8888888888888888,
             "#fdca26"
            ],
            [
             1,
             "#f0f921"
            ]
           ],
           "sequentialminus": [
            [
             0,
             "#0d0887"
            ],
            [
             0.1111111111111111,
             "#46039f"
            ],
            [
             0.2222222222222222,
             "#7201a8"
            ],
            [
             0.3333333333333333,
             "#9c179e"
            ],
            [
             0.4444444444444444,
             "#bd3786"
            ],
            [
             0.5555555555555556,
             "#d8576b"
            ],
            [
             0.6666666666666666,
             "#ed7953"
            ],
            [
             0.7777777777777778,
             "#fb9f3a"
            ],
            [
             0.8888888888888888,
             "#fdca26"
            ],
            [
             1,
             "#f0f921"
            ]
           ]
          },
          "colorway": [
           "#636efa",
           "#EF553B",
           "#00cc96",
           "#ab63fa",
           "#FFA15A",
           "#19d3f3",
           "#FF6692",
           "#B6E880",
           "#FF97FF",
           "#FECB52"
          ],
          "font": {
           "color": "#2a3f5f"
          },
          "geo": {
           "bgcolor": "white",
           "lakecolor": "white",
           "landcolor": "#E5ECF6",
           "showlakes": true,
           "showland": true,
           "subunitcolor": "white"
          },
          "hoverlabel": {
           "align": "left"
          },
          "hovermode": "closest",
          "mapbox": {
           "style": "light"
          },
          "paper_bgcolor": "white",
          "plot_bgcolor": "#E5ECF6",
          "polar": {
           "angularaxis": {
            "gridcolor": "white",
            "linecolor": "white",
            "ticks": ""
           },
           "bgcolor": "#E5ECF6",
           "radialaxis": {
            "gridcolor": "white",
            "linecolor": "white",
            "ticks": ""
           }
          },
          "scene": {
           "xaxis": {
            "backgroundcolor": "#E5ECF6",
            "gridcolor": "white",
            "gridwidth": 2,
            "linecolor": "white",
            "showbackground": true,
            "ticks": "",
            "zerolinecolor": "white"
           },
           "yaxis": {
            "backgroundcolor": "#E5ECF6",
            "gridcolor": "white",
            "gridwidth": 2,
            "linecolor": "white",
            "showbackground": true,
            "ticks": "",
            "zerolinecolor": "white"
           },
           "zaxis": {
            "backgroundcolor": "#E5ECF6",
            "gridcolor": "white",
            "gridwidth": 2,
            "linecolor": "white",
            "showbackground": true,
            "ticks": "",
            "zerolinecolor": "white"
           }
          },
          "shapedefaults": {
           "line": {
            "color": "#2a3f5f"
           }
          },
          "ternary": {
           "aaxis": {
            "gridcolor": "white",
            "linecolor": "white",
            "ticks": ""
           },
           "baxis": {
            "gridcolor": "white",
            "linecolor": "white",
            "ticks": ""
           },
           "bgcolor": "#E5ECF6",
           "caxis": {
            "gridcolor": "white",
            "linecolor": "white",
            "ticks": ""
           }
          },
          "title": {
           "x": 0.05
          },
          "xaxis": {
           "automargin": true,
           "gridcolor": "white",
           "linecolor": "white",
           "ticks": "",
           "title": {
            "standoff": 15
           },
           "zerolinecolor": "white",
           "zerolinewidth": 2
          },
          "yaxis": {
           "automargin": true,
           "gridcolor": "white",
           "linecolor": "white",
           "ticks": "",
           "title": {
            "standoff": 15
           },
           "zerolinecolor": "white",
           "zerolinewidth": 2
          }
         }
        },
        "title": {
         "text": "Dna damage mask area (QC) - cellpdia30_sigma1_dilrad4_dnad_obj_seg_v1_gliaero6_gliathr20_dnadero2"
        },
        "xaxis": {
         "anchor": "y",
         "domain": [
          0,
          1
         ],
         "title": {
          "text": "staining_id"
         }
        },
        "yaxis": {
         "anchor": "x",
         "domain": [
          0,
          1
         ],
         "title": {
          "text": "%_dna_damage_signal"
         }
        }
       }
      }
     },
     "metadata": {},
     "output_type": "display_data"
    },
    {
     "data": {
      "application/vnd.plotly.v1+json": {
       "config": {
        "plotlyServerURL": "https://plot.ly"
       },
       "data": [
        {
         "customdata": [
          [
           0,
           "DSB Iba1 101_40X_CA1"
          ],
          [
           1,
           "DSB Iba1 101_40X_CA3"
          ],
          [
           2,
           "DSB Iba1 101_40X_CTX1"
          ],
          [
           3,
           "DSB Iba1 101_40X_CTX2"
          ],
          [
           4,
           "DSB Iba1 101_40X_CTX3"
          ],
          [
           5,
           "DSB Iba1 101_40X_DG"
          ],
          [
           6,
           "DSB Iba1 102_40X_CA1"
          ],
          [
           7,
           "DSB Iba1 102_40X_CA3"
          ],
          [
           8,
           "DSB Iba1 102_40X_CTX1"
          ],
          [
           9,
           "DSB Iba1 102_40X_CTX2"
          ],
          [
           10,
           "DSB Iba1 102_40X_CTX3"
          ],
          [
           11,
           "DSB Iba1 102_40X_DG"
          ],
          [
           12,
           "DSB Iba1 103_40X_CA1"
          ],
          [
           13,
           "DSB Iba1 103_40X_CA3"
          ],
          [
           14,
           "DSB Iba1 103_40X_CTX1"
          ],
          [
           15,
           "DSB Iba1 103_40X_CTX2"
          ],
          [
           16,
           "DSB Iba1 103_40X_CTX3"
          ],
          [
           17,
           "DSB Iba1 103_40X_DG"
          ],
          [
           18,
           "DSB Iba1 104_40X_CA1"
          ],
          [
           19,
           "DSB Iba1 104_40X_CA3"
          ],
          [
           20,
           "DSB Iba1 104_40X_CTX1"
          ],
          [
           21,
           "DSB Iba1 104_40X_CTX2"
          ],
          [
           22,
           "DSB Iba1 104_40X_CTX3"
          ],
          [
           23,
           "DSB Iba1 104_40X_DG"
          ],
          [
           24,
           "DSB Iba1 105_40X_CA1"
          ],
          [
           25,
           "DSB Iba1 105_40X_CA3"
          ],
          [
           26,
           "DSB Iba1 105_40X_CTX1"
          ],
          [
           27,
           "DSB Iba1 105_40X_CTX2"
          ],
          [
           28,
           "DSB Iba1 105_40X_CTX3"
          ],
          [
           29,
           "DSB Iba1 106_40X_CA1"
          ],
          [
           30,
           "DSB Iba1 106_40X_CA3"
          ],
          [
           31,
           "DSB Iba1 106_40X_CTX1"
          ],
          [
           32,
           "DSB Iba1 106_40X_CTX2"
          ],
          [
           33,
           "DSB Iba1 106_40X_CTX3"
          ],
          [
           34,
           "DSB Iba1 106_40X_DG"
          ],
          [
           35,
           "DSB Iba1 107_40X_CA1"
          ],
          [
           36,
           "DSB Iba1 107_40X_CA3"
          ],
          [
           37,
           "DSB Iba1 107_40X_CTX1"
          ],
          [
           38,
           "DSB Iba1 107_40X_CTX2"
          ],
          [
           39,
           "DSB Iba1 107_40X_CTX3"
          ],
          [
           40,
           "DSB Iba1 107_40X_DG"
          ],
          [
           41,
           "DSB Iba1 108_40X_CA1"
          ],
          [
           42,
           "DSB Iba1 108_40X_CA3"
          ],
          [
           43,
           "DSB Iba1 108_40X_CTX1"
          ],
          [
           44,
           "DSB Iba1 108_40X_CTX2"
          ],
          [
           45,
           "DSB Iba1 108_40X_CTX3"
          ],
          [
           46,
           "DSB Iba1 108_40X_DG"
          ],
          [
           47,
           "DSB Iba1 16_40X_CA1"
          ],
          [
           48,
           "DSB Iba1 16_40X_CA3"
          ],
          [
           49,
           "DSB Iba1 16_40X_CTX1"
          ],
          [
           50,
           "DSB Iba1 16_40X_CTX2"
          ],
          [
           51,
           "DSB Iba1 16_40X_CTX3"
          ],
          [
           52,
           "DSB Iba1 16_40X_DG"
          ],
          [
           53,
           "DSB Iba1 17_40X_CA1"
          ],
          [
           54,
           "DSB Iba1 17_40X_CA3"
          ],
          [
           55,
           "DSB Iba1 17_40X_CTX1"
          ],
          [
           56,
           "DSB Iba1 17_40X_CTX2"
          ],
          [
           57,
           "DSB Iba1 17_40X_CTX3"
          ],
          [
           58,
           "DSB Iba1 17_40X_DG"
          ],
          [
           59,
           "DSB Iba1 18_40X_CA1"
          ],
          [
           60,
           "DSB Iba1 18_40X_CA3"
          ],
          [
           61,
           "DSB Iba1 18_40X_CTX1"
          ],
          [
           62,
           "DSB Iba1 18_40X_CTX2"
          ],
          [
           63,
           "DSB Iba1 18_40X_CTX3"
          ],
          [
           64,
           "DSB Iba1 18_40X_DG"
          ],
          [
           65,
           "DSB Iba1 19_40X_CA1"
          ],
          [
           66,
           "DSB Iba1 19_40X_CA3"
          ],
          [
           67,
           "DSB Iba1 19_40X_CTX1"
          ],
          [
           68,
           "DSB Iba1 19_40X_CTX2"
          ],
          [
           69,
           "DSB Iba1 19_40X_CTX3"
          ],
          [
           70,
           "DSB Iba1 19_40X_DG"
          ],
          [
           71,
           "DSB Iba1 20_40X_CA1"
          ],
          [
           72,
           "DSB Iba1 20_40X_CA3"
          ],
          [
           73,
           "DSB Iba1 20_40X_CTX1"
          ],
          [
           74,
           "DSB Iba1 20_40X_CTX2"
          ],
          [
           75,
           "DSB Iba1 20_40X_CTX3"
          ],
          [
           76,
           "DSB Iba1 20_40X_DG"
          ],
          [
           77,
           "DSB Iba1 21_40X_CA1"
          ],
          [
           78,
           "DSB Iba1 21_40X_CA3"
          ],
          [
           79,
           "DSB Iba1 21_40X_CTX1"
          ],
          [
           80,
           "DSB Iba1 21_40X_CTX2"
          ],
          [
           81,
           "DSB Iba1 21_40X_CTX3"
          ],
          [
           82,
           "DSB Iba1 21_40X_DG"
          ],
          [
           83,
           "DSB Iba1 22_40X_CA1"
          ],
          [
           84,
           "DSB Iba1 22_40X_CA3"
          ],
          [
           85,
           "DSB Iba1 22_40X_CTX1"
          ],
          [
           86,
           "DSB Iba1 22_40X_CTX2"
          ],
          [
           87,
           "DSB Iba1 22_40X_CTX3"
          ],
          [
           88,
           "DSB Iba1 22_40X_DG"
          ],
          [
           89,
           "DSB Iba1 23_40X_CA1"
          ],
          [
           90,
           "DSB Iba1 23_40X_CA3"
          ],
          [
           91,
           "DSB Iba1 23_40X_CTX1"
          ],
          [
           92,
           "DSB Iba1 23_40X_CTX2"
          ],
          [
           93,
           "DSB Iba1 23_40X_CTX3"
          ],
          [
           94,
           "DSB Iba1 23_40X_DG"
          ],
          [
           95,
           "DSB Iba1 24_40X_CA1"
          ],
          [
           96,
           "DSB Iba1 24_40X_CA3"
          ],
          [
           97,
           "DSB Iba1 24_40X_CTX1"
          ],
          [
           98,
           "DSB Iba1 24_40X_CTX2"
          ],
          [
           99,
           "DSB Iba1 24_40X_CTX3"
          ],
          [
           100,
           "DSB Iba1 24_40X_DG"
          ],
          [
           101,
           "DSB Iba1 25_40X_CA1"
          ],
          [
           102,
           "DSB Iba1 25_40X_CA3"
          ],
          [
           103,
           "DSB Iba1 25_40X_CTX1"
          ],
          [
           104,
           "DSB Iba1 25_40X_CTX2"
          ],
          [
           105,
           "DSB Iba1 25_40X_CTX3"
          ],
          [
           106,
           "DSB Iba1 25_40X_DG"
          ],
          [
           107,
           "DSB Iba1 26_40X_CA1"
          ],
          [
           108,
           "DSB Iba1 26_40X_CA3"
          ],
          [
           109,
           "DSB Iba1 26_40X_CTX1"
          ],
          [
           110,
           "DSB Iba1 26_40X_CTX2"
          ],
          [
           111,
           "DSB Iba1 26_40X_CTX3"
          ],
          [
           112,
           "DSB Iba1 26_40X_DG"
          ],
          [
           113,
           "DSB Iba1 27_40X_DG"
          ],
          [
           114,
           "DSB Iba1 28_40X_CA1"
          ],
          [
           115,
           "DSB Iba1 28_40X_CA3"
          ],
          [
           116,
           "DSB Iba1 28_40X_CTX1"
          ],
          [
           117,
           "DSB Iba1 28_40X_CTX2"
          ],
          [
           118,
           "DSB Iba1 28_40X_CTX3"
          ],
          [
           119,
           "DSB Iba1 28_40X_DG"
          ],
          [
           120,
           "DSB Iba1 29_40X_CA1"
          ],
          [
           121,
           "DSB Iba1 29_40X_CA3"
          ],
          [
           122,
           "DSB Iba1 29_40X_CTX1"
          ],
          [
           123,
           "DSB Iba1 29_40X_CTX2"
          ],
          [
           124,
           "DSB Iba1 29_40X_CTX3"
          ],
          [
           125,
           "DSB Iba1 29_40X_DG"
          ],
          [
           126,
           "DSB Iba1 30_40X_CA1"
          ],
          [
           127,
           "DSB Iba1 30_40X_CA3"
          ],
          [
           128,
           "DSB Iba1 30_40X_CTX1"
          ],
          [
           129,
           "DSB Iba1 30_40X_CTX2"
          ],
          [
           130,
           "DSB Iba1 30_40X_CTX3"
          ],
          [
           131,
           "DSB Iba1 30_40X_DG"
          ],
          [
           132,
           "DSB Iba1 31_40X_CA1"
          ],
          [
           133,
           "DSB Iba1 31_40X_CA3"
          ],
          [
           134,
           "DSB Iba1 31_40X_CTX1"
          ],
          [
           135,
           "DSB Iba1 31_40X_CTX2"
          ],
          [
           136,
           "DSB Iba1 31_40X_CTX3"
          ],
          [
           137,
           "DSB Iba1 31_40X_DG"
          ],
          [
           138,
           "DSB Iba1 32_40X_CA1"
          ],
          [
           139,
           "DSB Iba1 32_40X_CA3"
          ],
          [
           140,
           "DSB Iba1 32_40X_CTX1"
          ],
          [
           141,
           "DSB Iba1 32_40X_CTX2"
          ],
          [
           142,
           "DSB Iba1 32_40X_CTX3"
          ],
          [
           143,
           "DSB Iba1 32_40X_DG"
          ],
          [
           144,
           "DSB Iba1 33_40X_CA1"
          ],
          [
           145,
           "DSB Iba1 33_40X_CA3"
          ],
          [
           146,
           "DSB Iba1 33_40X_CTX1"
          ],
          [
           147,
           "DSB Iba1 33_40X_CTX2"
          ],
          [
           148,
           "DSB Iba1 33_40X_CTX3"
          ],
          [
           149,
           "DSB Iba1 33_40X_DG"
          ],
          [
           150,
           "DSB Iba1 34_40X_CA1"
          ],
          [
           151,
           "DSB Iba1 34_40X_CA3"
          ],
          [
           152,
           "DSB Iba1 34_40X_CTX1"
          ],
          [
           153,
           "DSB Iba1 34_40X_CTX2"
          ],
          [
           154,
           "DSB Iba1 34_40X_CTX3"
          ],
          [
           155,
           "DSB Iba1 34_40X_DG"
          ],
          [
           156,
           "DSB Iba1 35_40X_CA1"
          ],
          [
           157,
           "DSB Iba1 35_40X_CA3"
          ],
          [
           158,
           "DSB Iba1 35_40X_CTX1"
          ],
          [
           159,
           "DSB Iba1 35_40X_CTX2"
          ],
          [
           160,
           "DSB Iba1 35_40X_CTX3"
          ],
          [
           161,
           "DSB Iba1 35_40X_DG"
          ],
          [
           162,
           "DSB Iba1 36_40X_CA1"
          ],
          [
           163,
           "DSB Iba1 36_40X_CA3"
          ],
          [
           164,
           "DSB Iba1 36_40X_CTX1"
          ],
          [
           165,
           "DSB Iba1 36_40X_CTX2"
          ],
          [
           166,
           "DSB Iba1 36_40X_CTX3"
          ],
          [
           167,
           "DSB Iba1 36_40X_DG"
          ],
          [
           168,
           "DSB Iba1 37_40X_CA1"
          ],
          [
           169,
           "DSB Iba1 37_40X_CA3"
          ],
          [
           170,
           "DSB Iba1 37_40X_CTX1"
          ],
          [
           171,
           "DSB Iba1 37_40X_CTX2"
          ],
          [
           172,
           "DSB Iba1 37_40X_CTX3"
          ],
          [
           173,
           "DSB Iba1 37_40X_DG"
          ],
          [
           174,
           "DSB Iba1 38_40X_DG"
          ],
          [
           175,
           "DSB Iba1 39_40X_CA1"
          ],
          [
           176,
           "DSB Iba1 39_40X_CA3"
          ],
          [
           177,
           "DSB Iba1 39_40X_CTX1"
          ],
          [
           178,
           "DSB Iba1 39_40X_CTX2"
          ],
          [
           179,
           "DSB Iba1 39_40X_CTX3"
          ],
          [
           180,
           "DSB Iba1 39_40X_DG"
          ],
          [
           181,
           "DSB Iba1 40_40X_CA1"
          ],
          [
           182,
           "DSB Iba1 40_40X_CA3"
          ],
          [
           183,
           "DSB Iba1 40_40X_CTX1"
          ],
          [
           184,
           "DSB Iba1 40_40X_CTX2"
          ],
          [
           185,
           "DSB Iba1 40_40X_CTX3"
          ],
          [
           186,
           "DSB Iba1 40_40X_DG"
          ],
          [
           187,
           "DSB Iba1 41_40X_CA1"
          ],
          [
           188,
           "DSB Iba1 41_40X_CA3"
          ],
          [
           189,
           "DSB Iba1 41_40X_CTX1"
          ],
          [
           190,
           "DSB Iba1 41_40X_CTX2"
          ],
          [
           191,
           "DSB Iba1 41_40X_CTX3"
          ],
          [
           192,
           "DSB Iba1 41_40X_DG"
          ],
          [
           193,
           "DSB Iba1 42_40X_CA1"
          ],
          [
           194,
           "DSB Iba1 42_40X_CA3"
          ],
          [
           195,
           "DSB Iba1 42_40X_CTX1"
          ],
          [
           196,
           "DSB Iba1 42_40X_CTX2"
          ],
          [
           197,
           "DSB Iba1 42_40X_CTX3"
          ],
          [
           198,
           "DSB Iba1 42_40X_DG"
          ],
          [
           199,
           "DSB Iba1 43_40X_CA1"
          ],
          [
           200,
           "DSB Iba1 43_40X_CA3"
          ],
          [
           201,
           "DSB Iba1 43_40X_CTX1"
          ],
          [
           202,
           "DSB Iba1 43_40X_CTX2"
          ],
          [
           203,
           "DSB Iba1 43_40X_CTX3"
          ],
          [
           204,
           "DSB Iba1 43_40X_DG"
          ],
          [
           205,
           "DSB Iba1 44_40X_CA1"
          ],
          [
           206,
           "DSB Iba1 44_40X_CA3"
          ],
          [
           207,
           "DSB Iba1 44_40X_CTX1"
          ],
          [
           208,
           "DSB Iba1 44_40X_DG"
          ],
          [
           209,
           "DSB Iba1 45_40X_CA1"
          ],
          [
           210,
           "DSB Iba1 45_40X_CA3"
          ],
          [
           211,
           "DSB Iba1 45_40X_CTX1"
          ],
          [
           212,
           "DSB Iba1 45_40X_CTX2"
          ],
          [
           213,
           "DSB Iba1 45_40X_CTX3"
          ],
          [
           214,
           "DSB Iba1 45_40X_DG"
          ],
          [
           215,
           "DSB Iba1 46_40X_CA1"
          ],
          [
           216,
           "DSB Iba1 46_40X_CA3"
          ],
          [
           217,
           "DSB Iba1 46_40X_CTX1"
          ],
          [
           218,
           "DSB Iba1 46_40X_CTX2"
          ],
          [
           219,
           "DSB Iba1 46_40X_CTX3"
          ],
          [
           220,
           "DSB Iba1 46_40X_DG"
          ],
          [
           221,
           "DSB Iba1 47_40X_CA1"
          ],
          [
           222,
           "DSB Iba1 47_40X_CA3"
          ],
          [
           223,
           "DSB Iba1 47_40X_CTX1"
          ],
          [
           224,
           "DSB Iba1 47_40X_CTX2"
          ],
          [
           225,
           "DSB Iba1 47_40X_CTX3"
          ],
          [
           226,
           "DSB Iba1 47_40X_DG"
          ],
          [
           227,
           "DSB Iba1 48_40X_CA1"
          ],
          [
           228,
           "DSB Iba1 48_40X_CA3"
          ],
          [
           229,
           "DSB Iba1 48_40X_CTX1"
          ],
          [
           230,
           "DSB Iba1 48_40X_CTX2"
          ],
          [
           231,
           "DSB Iba1 48_40X_CTX3"
          ],
          [
           232,
           "DSB Iba1 48_40X_DG"
          ],
          [
           233,
           "DSB Iba1 49_40X_CA1"
          ],
          [
           234,
           "DSB Iba1 49_40X_CA3"
          ],
          [
           235,
           "DSB Iba1 49_40X_CTX1"
          ],
          [
           236,
           "DSB Iba1 49_40X_CTX2"
          ],
          [
           237,
           "DSB Iba1 49_40X_CTX3"
          ],
          [
           238,
           "DSB Iba1 49_40X_DG"
          ],
          [
           239,
           "DSB Iba1 50_40X_CA1"
          ],
          [
           240,
           "DSB Iba1 50_40X_CA3"
          ],
          [
           241,
           "DSB Iba1 50_40X_CTX1"
          ],
          [
           242,
           "DSB Iba1 50_40X_CTX2"
          ],
          [
           243,
           "DSB Iba1 50_40X_CTX3"
          ],
          [
           244,
           "DSB Iba1 50_40X_DG"
          ],
          [
           245,
           "DSB Iba1 51_40X_CA1"
          ],
          [
           246,
           "DSB Iba1 51_40X_CA3"
          ],
          [
           247,
           "DSB Iba1 51_40X_CTX1"
          ],
          [
           248,
           "DSB Iba1 51_40X_CTX2"
          ],
          [
           249,
           "DSB Iba1 51_40X_CTX3"
          ],
          [
           250,
           "DSB Iba1 51_40X_DG"
          ],
          [
           251,
           "DSB Iba1 52_40X_CA1"
          ],
          [
           252,
           "DSB Iba1 52_40X_CA3"
          ],
          [
           253,
           "DSB Iba1 52_40X_CTX1"
          ],
          [
           254,
           "DSB Iba1 52_40X_CTX2"
          ],
          [
           255,
           "DSB Iba1 52_40X_CTX3"
          ],
          [
           256,
           "DSB Iba1 52_40X_DG"
          ],
          [
           257,
           "DSB Iba1 53_40X_CA1"
          ],
          [
           258,
           "DSB Iba1 53_40X_CA3"
          ],
          [
           259,
           "DSB Iba1 53_40X_CTX1"
          ],
          [
           260,
           "DSB Iba1 53_40X_CTX2"
          ],
          [
           261,
           "DSB Iba1 53_40X_CTX3"
          ],
          [
           262,
           "DSB Iba1 53_40X_DG"
          ],
          [
           263,
           "DSB Iba1 54_40X_CA1"
          ],
          [
           264,
           "DSB Iba1 54_40X_CA3"
          ],
          [
           265,
           "DSB Iba1 54_40X_CTX1"
          ],
          [
           266,
           "DSB Iba1 54_40X_CTX2"
          ],
          [
           267,
           "DSB Iba1 54_40X_CTX3"
          ],
          [
           268,
           "DSB Iba1 54_40X_DG"
          ],
          [
           269,
           "DSB Iba1 55_40X_CA1"
          ],
          [
           270,
           "DSB Iba1 55_40X_CA3"
          ],
          [
           271,
           "DSB Iba1 55_40X_CTX1"
          ],
          [
           272,
           "DSB Iba1 55_40X_CTX2"
          ],
          [
           273,
           "DSB Iba1 55_40X_CTX3"
          ],
          [
           274,
           "DSB Iba1 55_40X_DG"
          ],
          [
           275,
           "DSB Iba1 56_40X_CA1"
          ],
          [
           276,
           "DSB Iba1 56_40X_CA3"
          ],
          [
           277,
           "DSB Iba1 56_40X_CTX1"
          ],
          [
           278,
           "DSB Iba1 56_40X_CTX2"
          ],
          [
           279,
           "DSB Iba1 56_40X_CTX3"
          ],
          [
           280,
           "DSB Iba1 56_40X_DG"
          ],
          [
           281,
           "DSB Iba1 57_40X_CA1"
          ],
          [
           282,
           "DSB Iba1 57_40X_CA3"
          ],
          [
           283,
           "DSB Iba1 57_40X_CTX1"
          ],
          [
           284,
           "DSB Iba1 57_40X_CTX2"
          ],
          [
           285,
           "DSB Iba1 57_40X_CTX3"
          ],
          [
           286,
           "DSB Iba1 57_40X_DG"
          ],
          [
           287,
           "DSB Iba1 58_40X_CA1"
          ],
          [
           288,
           "DSB Iba1 58_40X_CA3"
          ],
          [
           289,
           "DSB Iba1 58_40X_CTX1"
          ],
          [
           290,
           "DSB Iba1 58_40X_CTX2"
          ],
          [
           291,
           "DSB Iba1 58_40X_CTX3"
          ],
          [
           292,
           "DSB Iba1 58_40X_DG"
          ],
          [
           293,
           "DSB Iba1 59_40X_CA1"
          ],
          [
           294,
           "DSB Iba1 59_40X_CA3"
          ],
          [
           295,
           "DSB Iba1 59_40X_CTX1"
          ],
          [
           296,
           "DSB Iba1 59_40X_CTX2"
          ],
          [
           297,
           "DSB Iba1 59_40X_CTX3"
          ],
          [
           298,
           "DSB Iba1 59_40X_DG"
          ]
         ],
         "hovertemplate": "staining_id=%{x}<br>%_glia+_signal=%{y}<br>index=%{customdata[0]}<br>filename=%{customdata[1]}<extra></extra>",
         "legendgroup": "",
         "marker": {
          "color": "#636efa",
          "symbol": "circle"
         },
         "mode": "markers",
         "name": "",
         "orientation": "v",
         "showlegend": false,
         "type": "scatter",
         "x": [
          101,
          101,
          101,
          101,
          101,
          101,
          102,
          102,
          102,
          102,
          102,
          102,
          103,
          103,
          103,
          103,
          103,
          103,
          104,
          104,
          104,
          104,
          104,
          104,
          105,
          105,
          105,
          105,
          105,
          106,
          106,
          106,
          106,
          106,
          106,
          107,
          107,
          107,
          107,
          107,
          107,
          108,
          108,
          108,
          108,
          108,
          108,
          16,
          16,
          16,
          16,
          16,
          16,
          17,
          17,
          17,
          17,
          17,
          17,
          18,
          18,
          18,
          18,
          18,
          18,
          19,
          19,
          19,
          19,
          19,
          19,
          20,
          20,
          20,
          20,
          20,
          20,
          21,
          21,
          21,
          21,
          21,
          21,
          22,
          22,
          22,
          22,
          22,
          22,
          23,
          23,
          23,
          23,
          23,
          23,
          24,
          24,
          24,
          24,
          24,
          24,
          25,
          25,
          25,
          25,
          25,
          25,
          26,
          26,
          26,
          26,
          26,
          26,
          27,
          28,
          28,
          28,
          28,
          28,
          28,
          29,
          29,
          29,
          29,
          29,
          29,
          30,
          30,
          30,
          30,
          30,
          30,
          31,
          31,
          31,
          31,
          31,
          31,
          32,
          32,
          32,
          32,
          32,
          32,
          33,
          33,
          33,
          33,
          33,
          33,
          34,
          34,
          34,
          34,
          34,
          34,
          35,
          35,
          35,
          35,
          35,
          35,
          36,
          36,
          36,
          36,
          36,
          36,
          37,
          37,
          37,
          37,
          37,
          37,
          38,
          39,
          39,
          39,
          39,
          39,
          39,
          40,
          40,
          40,
          40,
          40,
          40,
          41,
          41,
          41,
          41,
          41,
          41,
          42,
          42,
          42,
          42,
          42,
          42,
          43,
          43,
          43,
          43,
          43,
          43,
          44,
          44,
          44,
          44,
          45,
          45,
          45,
          45,
          45,
          45,
          46,
          46,
          46,
          46,
          46,
          46,
          47,
          47,
          47,
          47,
          47,
          47,
          48,
          48,
          48,
          48,
          48,
          48,
          49,
          49,
          49,
          49,
          49,
          49,
          50,
          50,
          50,
          50,
          50,
          50,
          51,
          51,
          51,
          51,
          51,
          51,
          52,
          52,
          52,
          52,
          52,
          52,
          53,
          53,
          53,
          53,
          53,
          53,
          54,
          54,
          54,
          54,
          54,
          54,
          55,
          55,
          55,
          55,
          55,
          55,
          56,
          56,
          56,
          56,
          56,
          56,
          57,
          57,
          57,
          57,
          57,
          57,
          58,
          58,
          58,
          58,
          58,
          58,
          59,
          59,
          59,
          59,
          59,
          59
         ],
         "xaxis": "x",
         "y": [
          1.6779899597167969,
          2.135658264160156,
          5.073738098144531,
          5.266761779785156,
          3.1785964965820312,
          5.922412872314453,
          2.603435516357422,
          2.784252166748047,
          4.2667388916015625,
          2.9754638671875,
          3.9920806884765625,
          4.560565948486328,
          1.0839462280273438,
          3.08694839477539,
          1.7186164855957031,
          2.9226303100585938,
          3.26528549194336,
          4.039478302001953,
          2.782154083251953,
          3.15399169921875,
          3.295516967773437,
          2.22320556640625,
          1.9237518310546875,
          2.1027565002441406,
          1.6747474670410156,
          2.7174949645996094,
          2.496623992919922,
          3.5526275634765625,
          2.996444702148437,
          1.0844230651855469,
          0.821685791015625,
          1.4286994934082031,
          0.7717132568359375,
          0.7843017578125,
          1.5664100646972656,
          2.02789306640625,
          2.191638946533203,
          2.447032928466797,
          2.1589279174804688,
          1.247882843017578,
          2.3932456970214844,
          0.8889198303222656,
          1.900959014892578,
          1.8342018127441408,
          2.82144546508789,
          2.002143859863281,
          2.399921417236328,
          88.63372802734375,
          96.34952545166016,
          13.59844207763672,
          94.93074417114258,
          54.76894378662109,
          87.15362548828125,
          5.763816833496094,
          6.432056427001953,
          2.645301818847656,
          11.802101135253906,
          9.359455108642578,
          44.40708160400391,
          10.935688018798828,
          7.825183868408203,
          3.196430206298828,
          5.939960479736328,
          1.9624710083007808,
          53.77206802368164,
          97.84984588623048,
          98.4278678894043,
          98.5675811767578,
          92.62237548828124,
          87.97607421875,
          97.98297882080078,
          1.447296142578125,
          1.717853546142578,
          0.8257865905761719,
          2.0682334899902344,
          0.5598068237304688,
          2.923774719238281,
          2.5424957275390625,
          1.3544082641601562,
          3.311634063720703,
          3.338623046875,
          4.697036743164063,
          3.5135269165039062,
          6.178569793701172,
          3.7606239318847656,
          3.637123107910156,
          4.0191650390625,
          0.730133056640625,
          5.748558044433594,
          4.248046875,
          2.08120346069336,
          5.792427062988281,
          0.7174491882324219,
          2.988147735595703,
          7.934856414794922,
          0.7791519165039062,
          0.9073257446289062,
          1.7583847045898438,
          3.3802032470703125,
          1.4982223510742188,
          0.8672714233398438,
          3.17068099975586,
          2.813243865966797,
          3.438568115234375,
          6.374835968017578,
          2.7411460876464844,
          3.351020812988281,
          5.84564208984375,
          6.870269775390625,
          11.133575439453123,
          13.045120239257812,
          27.424240112304688,
          7.449054718017578,
          1.7447471618652344,
          2.5665283203125,
          2.448272705078125,
          3.2138824462890625,
          2.5005340576171875,
          2.412891387939453,
          7.0148468017578125,
          2.208709716796875,
          1.9129753112792969,
          5.022335052490234,
          7.678985595703125,
          3.7689208984375,
          2.2146224975585938,
          1.6625404357910156,
          1.3019561767578125,
          2.780723571777344,
          2.3637771606445312,
          1.4829635620117188,
          2.1762847900390625,
          3.847122192382813,
          1.217937469482422,
          3.5140037536621094,
          2.959632873535156,
          3.2898902893066406,
          3.90176773071289,
          14.134979248046877,
          14.082717895507812,
          14.151763916015623,
          17.71411895751953,
          10.771465301513672,
          27.629661560058597,
          2.395153045654297,
          1.8873214721679688,
          1.194000244140625,
          2.6653289794921875,
          2.5826454162597656,
          3.2654762268066406,
          5.395984649658203,
          4.882526397705078,
          6.429195404052734,
          9.55486297607422,
          7.129859924316406,
          9.005355834960938,
          3.268909454345703,
          21.71812057495117,
          4.521656036376953,
          49.62272644042969,
          36.1638069152832,
          46.29859924316406,
          2.2858619689941406,
          1.1386871337890625,
          3.605270385742188,
          4.596138000488281,
          2.627086639404297,
          1.8873214721679688,
          1.4169692993164062,
          3.2583236694335938,
          2.8922080993652344,
          6.322193145751953,
          5.652999877929688,
          2.9592514038085938,
          1.724529266357422,
          1.2140274047851562,
          1.1082649230957031,
          0.3711700439453125,
          0.3496170043945312,
          0.2208709716796875,
          1.7183303833007812,
          1.3429641723632812,
          1.7145156860351562,
          3.7994384765625,
          3.754806518554688,
          4.794597625732422,
          0.7130622863769531,
          0.4645347595214844,
          0.6657600402832031,
          0.0162124633789062,
          0.2507209777832031,
          0.83465576171875,
          0.9260177612304688,
          0.5733489990234375,
          0.9168624877929688,
          0.74462890625,
          1.824378967285156,
          0.9996414184570312,
          0.988483428955078,
          3.304767608642578,
          5.7796478271484375,
          12.746238708496094,
          7.944774627685547,
          7.372093200683594,
          16.925048828125,
          45.28112411499024,
          48.995113372802734,
          61.879920959472656,
          39.72511291503906,
          6.223964691162109,
          5.231571197509766,
          4.201602935791016,
          4.376411437988281,
          3.458404541015625,
          7.775020599365234,
          47.70441055297852,
          31.574440002441406,
          46.37212753295898,
          51.16119384765625,
          32.654476165771484,
          56.203651428222656,
          6.558036804199219,
          8.901691436767578,
          5.655956268310547,
          30.04922866821289,
          14.159202575683594,
          13.895225524902344,
          3.3704757690429688,
          2.537250518798828,
          4.6924591064453125,
          3.786659240722656,
          3.594589233398437,
          5.111885070800781,
          8.189868927001953,
          6.575107574462891,
          8.087635040283203,
          6.462860107421875,
          2.49490737915039,
          14.119243621826172,
          4.873561859130859,
          3.848457336425781,
          6.229019165039063,
          5.149269104003906,
          5.641460418701172,
          5.594158172607422,
          6.222438812255859,
          6.045722961425781,
          4.617595672607422,
          7.056903839111328,
          9.714698791503906,
          6.879520416259766,
          5.399608612060547,
          4.315376281738281,
          7.786273956298828,
          10.270881652832031,
          10.033130645751951,
          7.422256469726562,
          2.5342941284179688,
          2.4756431579589844,
          7.878398895263672,
          7.045269012451172,
          5.187797546386719,
          3.43008041381836,
          2.426910400390625,
          1.7024993896484375,
          4.989528656005859,
          3.8888931274414062,
          5.550861358642578,
          3.528308868408203,
          1.777362823486328,
          1.872539520263672,
          1.2282371520996094,
          3.083038330078125,
          0.5826950073242188,
          2.5461196899414062,
          4.4521331787109375,
          4.624557495117188,
          5.258560180664063,
          5.3241729736328125,
          4.150867462158203,
          5.023097991943359,
          2.201366424560547,
          4.8095703125,
          2.260112762451172,
          1.4965057373046875,
          1.306438446044922,
          5.2936553955078125,
          2.06155776977539,
          1.918315887451172,
          4.450321197509766,
          2.5277137756347656,
          0.5662918090820312,
          1.5165328979492188,
          3.539466857910156,
          2.4675369262695312,
          3.9608001708984375,
          6.726360321044922,
          5.142498016357422,
          3.248310089111328
         ],
         "yaxis": "y"
        }
       ],
       "layout": {
        "legend": {
         "tracegroupgap": 0
        },
        "template": {
         "data": {
          "bar": [
           {
            "error_x": {
             "color": "#2a3f5f"
            },
            "error_y": {
             "color": "#2a3f5f"
            },
            "marker": {
             "line": {
              "color": "#E5ECF6",
              "width": 0.5
             },
             "pattern": {
              "fillmode": "overlay",
              "size": 10,
              "solidity": 0.2
             }
            },
            "type": "bar"
           }
          ],
          "barpolar": [
           {
            "marker": {
             "line": {
              "color": "#E5ECF6",
              "width": 0.5
             },
             "pattern": {
              "fillmode": "overlay",
              "size": 10,
              "solidity": 0.2
             }
            },
            "type": "barpolar"
           }
          ],
          "carpet": [
           {
            "aaxis": {
             "endlinecolor": "#2a3f5f",
             "gridcolor": "white",
             "linecolor": "white",
             "minorgridcolor": "white",
             "startlinecolor": "#2a3f5f"
            },
            "baxis": {
             "endlinecolor": "#2a3f5f",
             "gridcolor": "white",
             "linecolor": "white",
             "minorgridcolor": "white",
             "startlinecolor": "#2a3f5f"
            },
            "type": "carpet"
           }
          ],
          "choropleth": [
           {
            "colorbar": {
             "outlinewidth": 0,
             "ticks": ""
            },
            "type": "choropleth"
           }
          ],
          "contour": [
           {
            "colorbar": {
             "outlinewidth": 0,
             "ticks": ""
            },
            "colorscale": [
             [
              0,
              "#0d0887"
             ],
             [
              0.1111111111111111,
              "#46039f"
             ],
             [
              0.2222222222222222,
              "#7201a8"
             ],
             [
              0.3333333333333333,
              "#9c179e"
             ],
             [
              0.4444444444444444,
              "#bd3786"
             ],
             [
              0.5555555555555556,
              "#d8576b"
             ],
             [
              0.6666666666666666,
              "#ed7953"
             ],
             [
              0.7777777777777778,
              "#fb9f3a"
             ],
             [
              0.8888888888888888,
              "#fdca26"
             ],
             [
              1,
              "#f0f921"
             ]
            ],
            "type": "contour"
           }
          ],
          "contourcarpet": [
           {
            "colorbar": {
             "outlinewidth": 0,
             "ticks": ""
            },
            "type": "contourcarpet"
           }
          ],
          "heatmap": [
           {
            "colorbar": {
             "outlinewidth": 0,
             "ticks": ""
            },
            "colorscale": [
             [
              0,
              "#0d0887"
             ],
             [
              0.1111111111111111,
              "#46039f"
             ],
             [
              0.2222222222222222,
              "#7201a8"
             ],
             [
              0.3333333333333333,
              "#9c179e"
             ],
             [
              0.4444444444444444,
              "#bd3786"
             ],
             [
              0.5555555555555556,
              "#d8576b"
             ],
             [
              0.6666666666666666,
              "#ed7953"
             ],
             [
              0.7777777777777778,
              "#fb9f3a"
             ],
             [
              0.8888888888888888,
              "#fdca26"
             ],
             [
              1,
              "#f0f921"
             ]
            ],
            "type": "heatmap"
           }
          ],
          "heatmapgl": [
           {
            "colorbar": {
             "outlinewidth": 0,
             "ticks": ""
            },
            "colorscale": [
             [
              0,
              "#0d0887"
             ],
             [
              0.1111111111111111,
              "#46039f"
             ],
             [
              0.2222222222222222,
              "#7201a8"
             ],
             [
              0.3333333333333333,
              "#9c179e"
             ],
             [
              0.4444444444444444,
              "#bd3786"
             ],
             [
              0.5555555555555556,
              "#d8576b"
             ],
             [
              0.6666666666666666,
              "#ed7953"
             ],
             [
              0.7777777777777778,
              "#fb9f3a"
             ],
             [
              0.8888888888888888,
              "#fdca26"
             ],
             [
              1,
              "#f0f921"
             ]
            ],
            "type": "heatmapgl"
           }
          ],
          "histogram": [
           {
            "marker": {
             "pattern": {
              "fillmode": "overlay",
              "size": 10,
              "solidity": 0.2
             }
            },
            "type": "histogram"
           }
          ],
          "histogram2d": [
           {
            "colorbar": {
             "outlinewidth": 0,
             "ticks": ""
            },
            "colorscale": [
             [
              0,
              "#0d0887"
             ],
             [
              0.1111111111111111,
              "#46039f"
             ],
             [
              0.2222222222222222,
              "#7201a8"
             ],
             [
              0.3333333333333333,
              "#9c179e"
             ],
             [
              0.4444444444444444,
              "#bd3786"
             ],
             [
              0.5555555555555556,
              "#d8576b"
             ],
             [
              0.6666666666666666,
              "#ed7953"
             ],
             [
              0.7777777777777778,
              "#fb9f3a"
             ],
             [
              0.8888888888888888,
              "#fdca26"
             ],
             [
              1,
              "#f0f921"
             ]
            ],
            "type": "histogram2d"
           }
          ],
          "histogram2dcontour": [
           {
            "colorbar": {
             "outlinewidth": 0,
             "ticks": ""
            },
            "colorscale": [
             [
              0,
              "#0d0887"
             ],
             [
              0.1111111111111111,
              "#46039f"
             ],
             [
              0.2222222222222222,
              "#7201a8"
             ],
             [
              0.3333333333333333,
              "#9c179e"
             ],
             [
              0.4444444444444444,
              "#bd3786"
             ],
             [
              0.5555555555555556,
              "#d8576b"
             ],
             [
              0.6666666666666666,
              "#ed7953"
             ],
             [
              0.7777777777777778,
              "#fb9f3a"
             ],
             [
              0.8888888888888888,
              "#fdca26"
             ],
             [
              1,
              "#f0f921"
             ]
            ],
            "type": "histogram2dcontour"
           }
          ],
          "mesh3d": [
           {
            "colorbar": {
             "outlinewidth": 0,
             "ticks": ""
            },
            "type": "mesh3d"
           }
          ],
          "parcoords": [
           {
            "line": {
             "colorbar": {
              "outlinewidth": 0,
              "ticks": ""
             }
            },
            "type": "parcoords"
           }
          ],
          "pie": [
           {
            "automargin": true,
            "type": "pie"
           }
          ],
          "scatter": [
           {
            "fillpattern": {
             "fillmode": "overlay",
             "size": 10,
             "solidity": 0.2
            },
            "type": "scatter"
           }
          ],
          "scatter3d": [
           {
            "line": {
             "colorbar": {
              "outlinewidth": 0,
              "ticks": ""
             }
            },
            "marker": {
             "colorbar": {
              "outlinewidth": 0,
              "ticks": ""
             }
            },
            "type": "scatter3d"
           }
          ],
          "scattercarpet": [
           {
            "marker": {
             "colorbar": {
              "outlinewidth": 0,
              "ticks": ""
             }
            },
            "type": "scattercarpet"
           }
          ],
          "scattergeo": [
           {
            "marker": {
             "colorbar": {
              "outlinewidth": 0,
              "ticks": ""
             }
            },
            "type": "scattergeo"
           }
          ],
          "scattergl": [
           {
            "marker": {
             "colorbar": {
              "outlinewidth": 0,
              "ticks": ""
             }
            },
            "type": "scattergl"
           }
          ],
          "scattermapbox": [
           {
            "marker": {
             "colorbar": {
              "outlinewidth": 0,
              "ticks": ""
             }
            },
            "type": "scattermapbox"
           }
          ],
          "scatterpolar": [
           {
            "marker": {
             "colorbar": {
              "outlinewidth": 0,
              "ticks": ""
             }
            },
            "type": "scatterpolar"
           }
          ],
          "scatterpolargl": [
           {
            "marker": {
             "colorbar": {
              "outlinewidth": 0,
              "ticks": ""
             }
            },
            "type": "scatterpolargl"
           }
          ],
          "scatterternary": [
           {
            "marker": {
             "colorbar": {
              "outlinewidth": 0,
              "ticks": ""
             }
            },
            "type": "scatterternary"
           }
          ],
          "surface": [
           {
            "colorbar": {
             "outlinewidth": 0,
             "ticks": ""
            },
            "colorscale": [
             [
              0,
              "#0d0887"
             ],
             [
              0.1111111111111111,
              "#46039f"
             ],
             [
              0.2222222222222222,
              "#7201a8"
             ],
             [
              0.3333333333333333,
              "#9c179e"
             ],
             [
              0.4444444444444444,
              "#bd3786"
             ],
             [
              0.5555555555555556,
              "#d8576b"
             ],
             [
              0.6666666666666666,
              "#ed7953"
             ],
             [
              0.7777777777777778,
              "#fb9f3a"
             ],
             [
              0.8888888888888888,
              "#fdca26"
             ],
             [
              1,
              "#f0f921"
             ]
            ],
            "type": "surface"
           }
          ],
          "table": [
           {
            "cells": {
             "fill": {
              "color": "#EBF0F8"
             },
             "line": {
              "color": "white"
             }
            },
            "header": {
             "fill": {
              "color": "#C8D4E3"
             },
             "line": {
              "color": "white"
             }
            },
            "type": "table"
           }
          ]
         },
         "layout": {
          "annotationdefaults": {
           "arrowcolor": "#2a3f5f",
           "arrowhead": 0,
           "arrowwidth": 1
          },
          "autotypenumbers": "strict",
          "coloraxis": {
           "colorbar": {
            "outlinewidth": 0,
            "ticks": ""
           }
          },
          "colorscale": {
           "diverging": [
            [
             0,
             "#8e0152"
            ],
            [
             0.1,
             "#c51b7d"
            ],
            [
             0.2,
             "#de77ae"
            ],
            [
             0.3,
             "#f1b6da"
            ],
            [
             0.4,
             "#fde0ef"
            ],
            [
             0.5,
             "#f7f7f7"
            ],
            [
             0.6,
             "#e6f5d0"
            ],
            [
             0.7,
             "#b8e186"
            ],
            [
             0.8,
             "#7fbc41"
            ],
            [
             0.9,
             "#4d9221"
            ],
            [
             1,
             "#276419"
            ]
           ],
           "sequential": [
            [
             0,
             "#0d0887"
            ],
            [
             0.1111111111111111,
             "#46039f"
            ],
            [
             0.2222222222222222,
             "#7201a8"
            ],
            [
             0.3333333333333333,
             "#9c179e"
            ],
            [
             0.4444444444444444,
             "#bd3786"
            ],
            [
             0.5555555555555556,
             "#d8576b"
            ],
            [
             0.6666666666666666,
             "#ed7953"
            ],
            [
             0.7777777777777778,
             "#fb9f3a"
            ],
            [
             0.8888888888888888,
             "#fdca26"
            ],
            [
             1,
             "#f0f921"
            ]
           ],
           "sequentialminus": [
            [
             0,
             "#0d0887"
            ],
            [
             0.1111111111111111,
             "#46039f"
            ],
            [
             0.2222222222222222,
             "#7201a8"
            ],
            [
             0.3333333333333333,
             "#9c179e"
            ],
            [
             0.4444444444444444,
             "#bd3786"
            ],
            [
             0.5555555555555556,
             "#d8576b"
            ],
            [
             0.6666666666666666,
             "#ed7953"
            ],
            [
             0.7777777777777778,
             "#fb9f3a"
            ],
            [
             0.8888888888888888,
             "#fdca26"
            ],
            [
             1,
             "#f0f921"
            ]
           ]
          },
          "colorway": [
           "#636efa",
           "#EF553B",
           "#00cc96",
           "#ab63fa",
           "#FFA15A",
           "#19d3f3",
           "#FF6692",
           "#B6E880",
           "#FF97FF",
           "#FECB52"
          ],
          "font": {
           "color": "#2a3f5f"
          },
          "geo": {
           "bgcolor": "white",
           "lakecolor": "white",
           "landcolor": "#E5ECF6",
           "showlakes": true,
           "showland": true,
           "subunitcolor": "white"
          },
          "hoverlabel": {
           "align": "left"
          },
          "hovermode": "closest",
          "mapbox": {
           "style": "light"
          },
          "paper_bgcolor": "white",
          "plot_bgcolor": "#E5ECF6",
          "polar": {
           "angularaxis": {
            "gridcolor": "white",
            "linecolor": "white",
            "ticks": ""
           },
           "bgcolor": "#E5ECF6",
           "radialaxis": {
            "gridcolor": "white",
            "linecolor": "white",
            "ticks": ""
           }
          },
          "scene": {
           "xaxis": {
            "backgroundcolor": "#E5ECF6",
            "gridcolor": "white",
            "gridwidth": 2,
            "linecolor": "white",
            "showbackground": true,
            "ticks": "",
            "zerolinecolor": "white"
           },
           "yaxis": {
            "backgroundcolor": "#E5ECF6",
            "gridcolor": "white",
            "gridwidth": 2,
            "linecolor": "white",
            "showbackground": true,
            "ticks": "",
            "zerolinecolor": "white"
           },
           "zaxis": {
            "backgroundcolor": "#E5ECF6",
            "gridcolor": "white",
            "gridwidth": 2,
            "linecolor": "white",
            "showbackground": true,
            "ticks": "",
            "zerolinecolor": "white"
           }
          },
          "shapedefaults": {
           "line": {
            "color": "#2a3f5f"
           }
          },
          "ternary": {
           "aaxis": {
            "gridcolor": "white",
            "linecolor": "white",
            "ticks": ""
           },
           "baxis": {
            "gridcolor": "white",
            "linecolor": "white",
            "ticks": ""
           },
           "bgcolor": "#E5ECF6",
           "caxis": {
            "gridcolor": "white",
            "linecolor": "white",
            "ticks": ""
           }
          },
          "title": {
           "x": 0.05
          },
          "xaxis": {
           "automargin": true,
           "gridcolor": "white",
           "linecolor": "white",
           "ticks": "",
           "title": {
            "standoff": 15
           },
           "zerolinecolor": "white",
           "zerolinewidth": 2
          },
          "yaxis": {
           "automargin": true,
           "gridcolor": "white",
           "linecolor": "white",
           "ticks": "",
           "title": {
            "standoff": 15
           },
           "zerolinecolor": "white",
           "zerolinewidth": 2
          }
         }
        },
        "title": {
         "text": "Microglia mask area (QC) - cellpdia30_sigma1_dilrad4_dnad_obj_seg_v1_gliaero6_gliathr20_dnadero2"
        },
        "xaxis": {
         "anchor": "y",
         "domain": [
          0,
          1
         ],
         "title": {
          "text": "staining_id"
         }
        },
        "yaxis": {
         "anchor": "x",
         "domain": [
          0,
          1
         ],
         "title": {
          "text": "%_glia+_signal"
         }
        }
       }
      }
     },
     "metadata": {},
     "output_type": "display_data"
    }
   ],
   "source": [
    "show_exploratory_data(df, dataset, parameters_title)"
   ]
  },
  {
   "cell_type": "markdown",
   "metadata": {},
   "source": [
    "<h2>Data filtration and quality control (QC)</h2>\n",
    "\n",
    "We can observe there is a number of outliers in the glial and dna damage mask detections given the staining is suboptimal in some of the samples. I will filter the data to remove those suboptimal stains and just plot the optimal ones where the automated image analysis offers reliable results. The images passing and not passing quality control can be individually checked in the next two Juypter notebooks."
   ]
  },
  {
   "cell_type": "code",
   "execution_count": 18,
   "metadata": {},
   "outputs": [
    {
     "name": "stdout",
     "output_type": "stream",
     "text": [
      "Glia_mask_area_%_mean: 9.674813516163907, Dna_damage_mask_area_%_mean: 8.994491602664807\n"
     ]
    },
    {
     "data": {
      "text/html": [
       "<div>\n",
       "<style scoped>\n",
       "    .dataframe tbody tr th:only-of-type {\n",
       "        vertical-align: middle;\n",
       "    }\n",
       "\n",
       "    .dataframe tbody tr th {\n",
       "        vertical-align: top;\n",
       "    }\n",
       "\n",
       "    .dataframe thead th {\n",
       "        text-align: right;\n",
       "    }\n",
       "</style>\n",
       "<table border=\"1\" class=\"dataframe\">\n",
       "  <thead>\n",
       "    <tr style=\"text-align: right;\">\n",
       "      <th></th>\n",
       "      <th>index</th>\n",
       "      <th>filename</th>\n",
       "      <th>avg_dna_damage_foci/glia_+</th>\n",
       "      <th>avg_dna_damage_foci/glia_+_damage_+</th>\n",
       "      <th>avg_dna_damage_foci/all_nuclei</th>\n",
       "      <th>avg_dna_damage_foci/all_nuclei_damage_+</th>\n",
       "      <th>nr_+_dna_damage_glia_nuclei</th>\n",
       "      <th>nr_+_dna_damage_all_nuclei</th>\n",
       "      <th>nr_-_dna_damage_glia_nuclei</th>\n",
       "      <th>nr_glia_+_nuclei</th>\n",
       "      <th>...</th>\n",
       "      <th>tissue_location</th>\n",
       "      <th>staining_id</th>\n",
       "      <th>animal_id</th>\n",
       "      <th>sex</th>\n",
       "      <th>genotype</th>\n",
       "      <th>dna_damage_stain_quality_manual</th>\n",
       "      <th>manual_qc</th>\n",
       "      <th>glia_stain_quality_auto</th>\n",
       "      <th>dna_damage_stain_quality_auto</th>\n",
       "      <th>staining_qc_passed</th>\n",
       "    </tr>\n",
       "  </thead>\n",
       "  <tbody>\n",
       "    <tr>\n",
       "      <th>0</th>\n",
       "      <td>0</td>\n",
       "      <td>DSB Iba1 101_40X_CA1</td>\n",
       "      <td>1.000000</td>\n",
       "      <td>1.333333</td>\n",
       "      <td>0.573333</td>\n",
       "      <td>1.409836</td>\n",
       "      <td>9</td>\n",
       "      <td>61</td>\n",
       "      <td>3</td>\n",
       "      <td>12</td>\n",
       "      <td>...</td>\n",
       "      <td>CA1</td>\n",
       "      <td>101</td>\n",
       "      <td>2119</td>\n",
       "      <td>female</td>\n",
       "      <td>APP/PS1</td>\n",
       "      <td>good</td>\n",
       "      <td>passed</td>\n",
       "      <td>optimal</td>\n",
       "      <td>optimal</td>\n",
       "      <td>True</td>\n",
       "    </tr>\n",
       "    <tr>\n",
       "      <th>1</th>\n",
       "      <td>1</td>\n",
       "      <td>DSB Iba1 101_40X_CA3</td>\n",
       "      <td>0.777778</td>\n",
       "      <td>1.000000</td>\n",
       "      <td>0.934959</td>\n",
       "      <td>1.513158</td>\n",
       "      <td>7</td>\n",
       "      <td>76</td>\n",
       "      <td>2</td>\n",
       "      <td>9</td>\n",
       "      <td>...</td>\n",
       "      <td>CA3</td>\n",
       "      <td>101</td>\n",
       "      <td>2119</td>\n",
       "      <td>female</td>\n",
       "      <td>APP/PS1</td>\n",
       "      <td>good</td>\n",
       "      <td>passed</td>\n",
       "      <td>optimal</td>\n",
       "      <td>optimal</td>\n",
       "      <td>True</td>\n",
       "    </tr>\n",
       "    <tr>\n",
       "      <th>2</th>\n",
       "      <td>2</td>\n",
       "      <td>DSB Iba1 101_40X_CTX1</td>\n",
       "      <td>1.100000</td>\n",
       "      <td>1.375000</td>\n",
       "      <td>0.958084</td>\n",
       "      <td>1.415929</td>\n",
       "      <td>24</td>\n",
       "      <td>113</td>\n",
       "      <td>6</td>\n",
       "      <td>30</td>\n",
       "      <td>...</td>\n",
       "      <td>CTX1</td>\n",
       "      <td>101</td>\n",
       "      <td>2119</td>\n",
       "      <td>female</td>\n",
       "      <td>APP/PS1</td>\n",
       "      <td>good</td>\n",
       "      <td>passed</td>\n",
       "      <td>optimal</td>\n",
       "      <td>optimal</td>\n",
       "      <td>True</td>\n",
       "    </tr>\n",
       "    <tr>\n",
       "      <th>3</th>\n",
       "      <td>3</td>\n",
       "      <td>DSB Iba1 101_40X_CTX2</td>\n",
       "      <td>1.363636</td>\n",
       "      <td>1.666667</td>\n",
       "      <td>0.898374</td>\n",
       "      <td>1.407643</td>\n",
       "      <td>9</td>\n",
       "      <td>157</td>\n",
       "      <td>2</td>\n",
       "      <td>11</td>\n",
       "      <td>...</td>\n",
       "      <td>CTX2</td>\n",
       "      <td>101</td>\n",
       "      <td>2119</td>\n",
       "      <td>female</td>\n",
       "      <td>APP/PS1</td>\n",
       "      <td>good</td>\n",
       "      <td>passed</td>\n",
       "      <td>optimal</td>\n",
       "      <td>optimal</td>\n",
       "      <td>True</td>\n",
       "    </tr>\n",
       "    <tr>\n",
       "      <th>4</th>\n",
       "      <td>4</td>\n",
       "      <td>DSB Iba1 101_40X_CTX3</td>\n",
       "      <td>0.533333</td>\n",
       "      <td>1.333333</td>\n",
       "      <td>0.759657</td>\n",
       "      <td>1.301471</td>\n",
       "      <td>6</td>\n",
       "      <td>136</td>\n",
       "      <td>9</td>\n",
       "      <td>15</td>\n",
       "      <td>...</td>\n",
       "      <td>CTX3</td>\n",
       "      <td>101</td>\n",
       "      <td>2119</td>\n",
       "      <td>female</td>\n",
       "      <td>APP/PS1</td>\n",
       "      <td>good</td>\n",
       "      <td>passed</td>\n",
       "      <td>optimal</td>\n",
       "      <td>optimal</td>\n",
       "      <td>True</td>\n",
       "    </tr>\n",
       "  </tbody>\n",
       "</table>\n",
       "<p>5 rows × 24 columns</p>\n",
       "</div>"
      ],
      "text/plain": [
       "   index               filename  avg_dna_damage_foci/glia_+  \\\n",
       "0      0   DSB Iba1 101_40X_CA1                    1.000000   \n",
       "1      1   DSB Iba1 101_40X_CA3                    0.777778   \n",
       "2      2  DSB Iba1 101_40X_CTX1                    1.100000   \n",
       "3      3  DSB Iba1 101_40X_CTX2                    1.363636   \n",
       "4      4  DSB Iba1 101_40X_CTX3                    0.533333   \n",
       "\n",
       "   avg_dna_damage_foci/glia_+_damage_+  avg_dna_damage_foci/all_nuclei  \\\n",
       "0                             1.333333                        0.573333   \n",
       "1                             1.000000                        0.934959   \n",
       "2                             1.375000                        0.958084   \n",
       "3                             1.666667                        0.898374   \n",
       "4                             1.333333                        0.759657   \n",
       "\n",
       "   avg_dna_damage_foci/all_nuclei_damage_+  nr_+_dna_damage_glia_nuclei  \\\n",
       "0                                 1.409836                            9   \n",
       "1                                 1.513158                            7   \n",
       "2                                 1.415929                           24   \n",
       "3                                 1.407643                            9   \n",
       "4                                 1.301471                            6   \n",
       "\n",
       "   nr_+_dna_damage_all_nuclei  nr_-_dna_damage_glia_nuclei  nr_glia_+_nuclei  \\\n",
       "0                          61                            3                12   \n",
       "1                          76                            2                 9   \n",
       "2                         113                            6                30   \n",
       "3                         157                            2                11   \n",
       "4                         136                            9                15   \n",
       "\n",
       "   ...  tissue_location  staining_id  animal_id     sex genotype  \\\n",
       "0  ...              CA1          101       2119  female  APP/PS1   \n",
       "1  ...              CA3          101       2119  female  APP/PS1   \n",
       "2  ...             CTX1          101       2119  female  APP/PS1   \n",
       "3  ...             CTX2          101       2119  female  APP/PS1   \n",
       "4  ...             CTX3          101       2119  female  APP/PS1   \n",
       "\n",
       "   dna_damage_stain_quality_manual  manual_qc glia_stain_quality_auto  \\\n",
       "0                             good     passed                 optimal   \n",
       "1                             good     passed                 optimal   \n",
       "2                             good     passed                 optimal   \n",
       "3                             good     passed                 optimal   \n",
       "4                             good     passed                 optimal   \n",
       "\n",
       "  dna_damage_stain_quality_auto staining_qc_passed  \n",
       "0                       optimal               True  \n",
       "1                       optimal               True  \n",
       "2                       optimal               True  \n",
       "3                       optimal               True  \n",
       "4                       optimal               True  \n",
       "\n",
       "[5 rows x 24 columns]"
      ]
     },
     "execution_count": 18,
     "metadata": {},
     "output_type": "execute_result"
    }
   ],
   "source": [
    "# Quality check the analyzed stainings based on deviations from the mean of both %_glia_signal and %_dna_damage_signal\n",
    "merged_df = qc_filter_dataset(merged_df,\n",
    "                              dataset, \n",
    "                              cellpose_nuclei_diameter, \n",
    "                              gaussian_sigma, \n",
    "                              dilation_radius_nuclei, \n",
    "                              dna_damage_segmenter_version, \n",
    "                              glia_nuclei_colocalization_erosion, \n",
    "                              glia_channel_threshold, \n",
    "                              glia_segmenter, \n",
    "                              glia_segmenter_version, \n",
    "                              dna_damage_erosion)\n",
    "\n",
    "# Dataframe now displays the QC values\n",
    "merged_df.head()"
   ]
  },
  {
   "cell_type": "markdown",
   "metadata": {},
   "source": [
    "First we will plot technical replicates without averaging them into biological replicas"
   ]
  },
  {
   "cell_type": "code",
   "execution_count": 30,
   "metadata": {},
   "outputs": [],
   "source": [
    "# Remove data from images with a poor quality stain (auto QC), copy to avoid warnings\n",
    "auto_filtered_df = merged_df[merged_df['staining_qc_passed'] == True].copy()\n",
    "\n",
    "# Create a new column for combined sex and tissue location\n",
    "auto_filtered_df['sex_tissue'] = auto_filtered_df['sex'] + ' - ' + auto_filtered_df['tissue_location']\n",
    "\n",
    "# Define the order of the categories to ensure that male and female for each location are side by side\n",
    "categories = [\n",
    "    'male - CA1', 'female - CA1',\n",
    "    'male - CA3', 'female - CA3',\n",
    "    'male - CTX1', 'female - CTX1',\n",
    "    'male - CTX2', 'female - CTX2',\n",
    "    'male - CTX3', 'female - CTX3',\n",
    "    'male - DG', 'female - DG'\n",
    "]"
   ]
  },
  {
   "cell_type": "code",
   "execution_count": 32,
   "metadata": {},
   "outputs": [
    {
     "data": {
      "application/vnd.plotly.v1+json": {
       "config": {
        "plotlyServerURL": "https://plot.ly"
       },
       "data": [
        {
         "alignmentgroup": "True",
         "hovertemplate": "genotype=APP/PS1<br>sex_tissue=%{x}<br>avg_dna_damage_foci/glia_+=%{y}<extra></extra>",
         "legendgroup": "APP/PS1",
         "marker": {
          "color": "#636efa"
         },
         "name": "APP/PS1",
         "notched": false,
         "offsetgroup": "APP/PS1",
         "orientation": "v",
         "showlegend": true,
         "type": "box",
         "x": [
          "female - CA1",
          "female - CA3",
          "female - CTX1",
          "female - CTX2",
          "female - CTX3",
          "female - DG",
          "male - CA1",
          "male - CA3",
          "male - CTX1",
          "male - CTX2",
          "male - CTX3",
          "male - DG",
          "male - CA1",
          "male - CA3",
          "male - CTX1",
          "male - CTX2",
          "male - CTX3",
          "male - CA1",
          "male - CA3",
          "male - CTX1",
          "male - CTX2",
          "male - CTX3",
          "male - DG",
          "female - CA1",
          "female - CA3",
          "female - CTX1",
          "female - CTX2",
          "female - CTX3",
          "female - DG",
          "male - CA1",
          "male - CA3",
          "male - CTX1",
          "male - CTX2",
          "male - CTX3",
          "male - DG",
          "male - CA1",
          "male - CA3",
          "male - CTX1",
          "male - CTX2",
          "male - CTX3",
          "male - DG",
          "male - CA1",
          "male - CA3",
          "male - CTX1",
          "male - CTX2",
          "male - CTX3",
          "male - DG",
          "female - CA1",
          "female - CA3",
          "female - CTX1",
          "female - CTX2",
          "female - CTX3",
          "female - DG",
          "male - CA1",
          "male - CA3",
          "male - CTX1",
          "male - CTX2",
          "male - CTX3",
          "male - DG",
          "male - CA1",
          "male - CA3",
          "male - CTX1",
          "male - CTX2",
          "male - CTX3",
          "male - DG",
          "male - CA1",
          "male - CA3",
          "male - CTX1",
          "male - CTX2",
          "male - CTX3",
          "male - DG",
          "female - CA1",
          "female - CA3",
          "female - CTX1",
          "female - CTX2",
          "female - CTX3",
          "female - DG",
          "female - CA1",
          "female - CA3",
          "female - CTX1",
          "female - CTX2",
          "female - CTX3",
          "female - DG",
          "female - CA1",
          "female - CA3",
          "female - CTX1",
          "female - CTX2",
          "female - CTX3",
          "female - DG",
          "male - CA1",
          "male - CA3",
          "male - CTX1",
          "male - CTX2",
          "male - CTX3",
          "male - DG",
          "male - CA1",
          "male - CA3",
          "male - CTX1",
          "male - CTX2",
          "male - CTX3",
          "male - DG",
          "female - CA1",
          "female - CA3",
          "female - CTX1",
          "female - CTX2",
          "female - CTX3",
          "female - DG",
          "male - CA1",
          "male - CA3",
          "male - CTX1",
          "male - CTX2",
          "male - CTX3",
          "male - DG",
          "male - CA1",
          "male - CA3",
          "male - CTX1",
          "male - CTX2",
          "male - CTX3",
          "male - DG",
          "male - CA1",
          "male - CA3",
          "male - CTX1",
          "male - CTX2",
          "male - CTX3",
          "male - DG",
          "female - CA1",
          "female - CA3",
          "female - CTX1",
          "female - CTX2",
          "female - CTX3",
          "female - DG",
          "female - CA1",
          "female - CA3",
          "female - CTX1",
          "female - CTX2",
          "female - CTX3",
          "female - DG"
         ],
         "x0": " ",
         "xaxis": "x",
         "y": [
          1,
          0.7777777777777778,
          1.1,
          1.3636363636363635,
          0.5333333333333333,
          1.2,
          0.2222222222222222,
          1,
          0.8333333333333334,
          1.0952380952380951,
          1.0454545454545454,
          1.1,
          0.5,
          0.7142857142857143,
          0.9090909090909092,
          1.368421052631579,
          1.4583333333333333,
          0.8571428571428571,
          0.75,
          0.8928571428571429,
          1.2,
          0.8666666666666667,
          0.9333333333333332,
          1,
          2.1666666666666665,
          1.5,
          1.0588235294117647,
          1.25,
          1.7647058823529411,
          1,
          0.875,
          0.56,
          0,
          0.9090909090909092,
          1,
          0,
          0.25,
          0,
          0.7058823529411765,
          0.0769230769230769,
          0,
          1.375,
          1.2222222222222223,
          0.56,
          1.65,
          1.3333333333333333,
          2.1333333333333333,
          0,
          1,
          0.7692307692307693,
          0.5,
          0.6153846153846154,
          0.8,
          1.3636363636363635,
          2,
          1,
          0.5882352941176471,
          1.1538461538461535,
          1.5,
          3.090909090909091,
          2.8,
          2.4545454545454546,
          2.185185185185185,
          1.8846153846153848,
          2.3684210526315788,
          1.25,
          1,
          1.875,
          1.4482758620689655,
          1.7,
          1.6,
          1,
          0.7272727272727273,
          1.7692307692307692,
          1.5833333333333333,
          1.793103448275862,
          1.4285714285714286,
          1.3333333333333333,
          0.6,
          0,
          0.4,
          1,
          1.375,
          1.3333333333333333,
          1.3333333333333333,
          1,
          1,
          1.5,
          1,
          0.4545454545454545,
          0.7142857142857143,
          2.071428571428572,
          0.5,
          0.9166666666666666,
          2.871794871794872,
          1.1176470588235294,
          2.117647058823529,
          0.6111111111111112,
          2.6486486486486487,
          1.7027027027027026,
          4.75,
          1.4285714285714286,
          1.25,
          0.9428571428571428,
          1,
          1,
          1.1538461538461535,
          0.6,
          1,
          0.3888888888888889,
          0.3333333333333333,
          0.6153846153846154,
          0.8181818181818182,
          2,
          1.3333333333333333,
          1.9583333333333333,
          2,
          1.7692307692307692,
          1.8333333333333333,
          1.4,
          1.3333333333333333,
          0.6,
          1,
          1.2,
          0.7692307692307693,
          0.4285714285714285,
          0.6666666666666666,
          0.125,
          0.6666666666666666,
          0,
          0.7272727272727273,
          1,
          0.4166666666666667,
          0.9523809523809524,
          0.782608695652174,
          0.2777777777777778,
          1.1875
         ],
         "y0": " ",
         "yaxis": "y"
        },
        {
         "alignmentgroup": "True",
         "hovertemplate": "genotype=APP/PS1 x Neil3 KO<br>sex_tissue=%{x}<br>avg_dna_damage_foci/glia_+=%{y}<extra></extra>",
         "legendgroup": "APP/PS1 x Neil3 KO",
         "marker": {
          "color": "#EF553B"
         },
         "name": "APP/PS1 x Neil3 KO",
         "notched": false,
         "offsetgroup": "APP/PS1 x Neil3 KO",
         "orientation": "v",
         "showlegend": true,
         "type": "box",
         "x": [
          "male - CA1",
          "male - CA3",
          "male - CTX1",
          "male - CTX2",
          "male - CTX3",
          "male - DG",
          "male - CA1",
          "male - CA3",
          "male - CTX1",
          "male - CTX2",
          "male - CTX3",
          "male - DG",
          "female - CA1",
          "female - CA3",
          "female - CTX1",
          "female - CTX2",
          "female - CTX3",
          "female - DG",
          "male - CA1",
          "male - CA3",
          "male - CTX1",
          "male - CTX2",
          "male - CTX3",
          "male - DG",
          "male - CA1",
          "male - CA3",
          "male - CTX1",
          "male - CTX2",
          "male - CTX3",
          "male - DG",
          "female - CA1",
          "female - CA3",
          "female - CTX1",
          "female - CTX2",
          "female - CTX3",
          "female - DG",
          "male - CA1",
          "male - CA3",
          "male - CTX1",
          "male - CTX2",
          "male - CTX3",
          "male - DG",
          "female - CA1",
          "female - CA3",
          "female - CTX1",
          "female - CTX2",
          "female - CTX3",
          "female - DG",
          "female - CA1",
          "female - CA3",
          "female - CTX1",
          "female - CTX2",
          "female - CTX3",
          "female - DG",
          "male - CA1",
          "male - CA3",
          "male - CTX1",
          "male - CTX2",
          "male - CTX3",
          "male - DG",
          "female - CA1",
          "female - CA3",
          "female - CTX1",
          "female - CTX2",
          "female - CTX3",
          "female - DG",
          "male - CA1",
          "male - CA3",
          "male - CTX1",
          "male - CTX2",
          "male - CTX3",
          "male - DG",
          "female - CA1",
          "female - CA3",
          "female - CTX1",
          "female - CTX2",
          "female - CTX3",
          "female - DG",
          "female - CA1",
          "female - CA3",
          "female - CTX1",
          "female - CTX2",
          "female - CTX3",
          "female - DG",
          "male - CA1",
          "male - CA3",
          "male - CTX1",
          "male - CTX2",
          "male - CTX3",
          "male - DG",
          "male - CA1",
          "male - CA3",
          "male - CTX1",
          "male - CTX2",
          "male - CTX3",
          "male - DG",
          "female - CA1",
          "female - CA3",
          "female - CTX1",
          "female - CTX2",
          "female - CTX3",
          "female - DG"
         ],
         "x0": " ",
         "xaxis": "x",
         "y": [
          1,
          1.2,
          0.4444444444444444,
          1.3888888888888888,
          1.7142857142857142,
          0.8235294117647058,
          0.5454545454545454,
          0.6666666666666666,
          1.0714285714285714,
          1.631578947368421,
          0.9285714285714286,
          0.5,
          0.1428571428571428,
          0.5,
          0.4545454545454545,
          0.6,
          1.3,
          0.5,
          0.6666666666666666,
          1.4,
          0.6428571428571429,
          1.181818181818182,
          1.5,
          0.9,
          1,
          1.6,
          1,
          1.5,
          0.6666666666666666,
          1,
          1,
          0.5,
          1.588235294117647,
          1.2666666666666666,
          1.4782608695652173,
          0.9333333333333332,
          0,
          1,
          1,
          0.8461538461538461,
          1.0909090909090908,
          2.823529411764706,
          1.4,
          1,
          1.125,
          1.1923076923076923,
          0.9375,
          1,
          1,
          1,
          0.7,
          1.2666666666666666,
          0.7777777777777778,
          1,
          0.5,
          0.625,
          0.95,
          0.8181818181818182,
          1.375,
          1.8,
          0.5,
          0.5,
          null,
          0,
          0.6,
          1,
          2,
          1.6666666666666667,
          0.75,
          0.8,
          0.7647058823529411,
          2.0454545454545454,
          0.1538461538461538,
          0.1111111111111111,
          0,
          0.1428571428571428,
          0.6451612903225806,
          0.4666666666666667,
          1.2,
          1,
          0.3478260869565217,
          0.6451612903225806,
          0.5384615384615384,
          0.875,
          0.9090909090909092,
          1.375,
          1.4285714285714286,
          0.75,
          0.5454545454545454,
          1.1071428571428572,
          1.25,
          0.6666666666666666,
          1.1764705882352942,
          1.1875,
          1,
          1.5,
          0.8,
          0.8,
          0.7777777777777778,
          0.6,
          0.6956521739130435,
          1.5
         ],
         "y0": " ",
         "yaxis": "y"
        }
       ],
       "layout": {
        "boxmode": "group",
        "legend": {
         "title": {
          "text": "genotype"
         },
         "tracegroupgap": 0
        },
        "template": {
         "data": {
          "bar": [
           {
            "error_x": {
             "color": "#2a3f5f"
            },
            "error_y": {
             "color": "#2a3f5f"
            },
            "marker": {
             "line": {
              "color": "#E5ECF6",
              "width": 0.5
             },
             "pattern": {
              "fillmode": "overlay",
              "size": 10,
              "solidity": 0.2
             }
            },
            "type": "bar"
           }
          ],
          "barpolar": [
           {
            "marker": {
             "line": {
              "color": "#E5ECF6",
              "width": 0.5
             },
             "pattern": {
              "fillmode": "overlay",
              "size": 10,
              "solidity": 0.2
             }
            },
            "type": "barpolar"
           }
          ],
          "carpet": [
           {
            "aaxis": {
             "endlinecolor": "#2a3f5f",
             "gridcolor": "white",
             "linecolor": "white",
             "minorgridcolor": "white",
             "startlinecolor": "#2a3f5f"
            },
            "baxis": {
             "endlinecolor": "#2a3f5f",
             "gridcolor": "white",
             "linecolor": "white",
             "minorgridcolor": "white",
             "startlinecolor": "#2a3f5f"
            },
            "type": "carpet"
           }
          ],
          "choropleth": [
           {
            "colorbar": {
             "outlinewidth": 0,
             "ticks": ""
            },
            "type": "choropleth"
           }
          ],
          "contour": [
           {
            "colorbar": {
             "outlinewidth": 0,
             "ticks": ""
            },
            "colorscale": [
             [
              0,
              "#0d0887"
             ],
             [
              0.1111111111111111,
              "#46039f"
             ],
             [
              0.2222222222222222,
              "#7201a8"
             ],
             [
              0.3333333333333333,
              "#9c179e"
             ],
             [
              0.4444444444444444,
              "#bd3786"
             ],
             [
              0.5555555555555556,
              "#d8576b"
             ],
             [
              0.6666666666666666,
              "#ed7953"
             ],
             [
              0.7777777777777778,
              "#fb9f3a"
             ],
             [
              0.8888888888888888,
              "#fdca26"
             ],
             [
              1,
              "#f0f921"
             ]
            ],
            "type": "contour"
           }
          ],
          "contourcarpet": [
           {
            "colorbar": {
             "outlinewidth": 0,
             "ticks": ""
            },
            "type": "contourcarpet"
           }
          ],
          "heatmap": [
           {
            "colorbar": {
             "outlinewidth": 0,
             "ticks": ""
            },
            "colorscale": [
             [
              0,
              "#0d0887"
             ],
             [
              0.1111111111111111,
              "#46039f"
             ],
             [
              0.2222222222222222,
              "#7201a8"
             ],
             [
              0.3333333333333333,
              "#9c179e"
             ],
             [
              0.4444444444444444,
              "#bd3786"
             ],
             [
              0.5555555555555556,
              "#d8576b"
             ],
             [
              0.6666666666666666,
              "#ed7953"
             ],
             [
              0.7777777777777778,
              "#fb9f3a"
             ],
             [
              0.8888888888888888,
              "#fdca26"
             ],
             [
              1,
              "#f0f921"
             ]
            ],
            "type": "heatmap"
           }
          ],
          "heatmapgl": [
           {
            "colorbar": {
             "outlinewidth": 0,
             "ticks": ""
            },
            "colorscale": [
             [
              0,
              "#0d0887"
             ],
             [
              0.1111111111111111,
              "#46039f"
             ],
             [
              0.2222222222222222,
              "#7201a8"
             ],
             [
              0.3333333333333333,
              "#9c179e"
             ],
             [
              0.4444444444444444,
              "#bd3786"
             ],
             [
              0.5555555555555556,
              "#d8576b"
             ],
             [
              0.6666666666666666,
              "#ed7953"
             ],
             [
              0.7777777777777778,
              "#fb9f3a"
             ],
             [
              0.8888888888888888,
              "#fdca26"
             ],
             [
              1,
              "#f0f921"
             ]
            ],
            "type": "heatmapgl"
           }
          ],
          "histogram": [
           {
            "marker": {
             "pattern": {
              "fillmode": "overlay",
              "size": 10,
              "solidity": 0.2
             }
            },
            "type": "histogram"
           }
          ],
          "histogram2d": [
           {
            "colorbar": {
             "outlinewidth": 0,
             "ticks": ""
            },
            "colorscale": [
             [
              0,
              "#0d0887"
             ],
             [
              0.1111111111111111,
              "#46039f"
             ],
             [
              0.2222222222222222,
              "#7201a8"
             ],
             [
              0.3333333333333333,
              "#9c179e"
             ],
             [
              0.4444444444444444,
              "#bd3786"
             ],
             [
              0.5555555555555556,
              "#d8576b"
             ],
             [
              0.6666666666666666,
              "#ed7953"
             ],
             [
              0.7777777777777778,
              "#fb9f3a"
             ],
             [
              0.8888888888888888,
              "#fdca26"
             ],
             [
              1,
              "#f0f921"
             ]
            ],
            "type": "histogram2d"
           }
          ],
          "histogram2dcontour": [
           {
            "colorbar": {
             "outlinewidth": 0,
             "ticks": ""
            },
            "colorscale": [
             [
              0,
              "#0d0887"
             ],
             [
              0.1111111111111111,
              "#46039f"
             ],
             [
              0.2222222222222222,
              "#7201a8"
             ],
             [
              0.3333333333333333,
              "#9c179e"
             ],
             [
              0.4444444444444444,
              "#bd3786"
             ],
             [
              0.5555555555555556,
              "#d8576b"
             ],
             [
              0.6666666666666666,
              "#ed7953"
             ],
             [
              0.7777777777777778,
              "#fb9f3a"
             ],
             [
              0.8888888888888888,
              "#fdca26"
             ],
             [
              1,
              "#f0f921"
             ]
            ],
            "type": "histogram2dcontour"
           }
          ],
          "mesh3d": [
           {
            "colorbar": {
             "outlinewidth": 0,
             "ticks": ""
            },
            "type": "mesh3d"
           }
          ],
          "parcoords": [
           {
            "line": {
             "colorbar": {
              "outlinewidth": 0,
              "ticks": ""
             }
            },
            "type": "parcoords"
           }
          ],
          "pie": [
           {
            "automargin": true,
            "type": "pie"
           }
          ],
          "scatter": [
           {
            "fillpattern": {
             "fillmode": "overlay",
             "size": 10,
             "solidity": 0.2
            },
            "type": "scatter"
           }
          ],
          "scatter3d": [
           {
            "line": {
             "colorbar": {
              "outlinewidth": 0,
              "ticks": ""
             }
            },
            "marker": {
             "colorbar": {
              "outlinewidth": 0,
              "ticks": ""
             }
            },
            "type": "scatter3d"
           }
          ],
          "scattercarpet": [
           {
            "marker": {
             "colorbar": {
              "outlinewidth": 0,
              "ticks": ""
             }
            },
            "type": "scattercarpet"
           }
          ],
          "scattergeo": [
           {
            "marker": {
             "colorbar": {
              "outlinewidth": 0,
              "ticks": ""
             }
            },
            "type": "scattergeo"
           }
          ],
          "scattergl": [
           {
            "marker": {
             "colorbar": {
              "outlinewidth": 0,
              "ticks": ""
             }
            },
            "type": "scattergl"
           }
          ],
          "scattermapbox": [
           {
            "marker": {
             "colorbar": {
              "outlinewidth": 0,
              "ticks": ""
             }
            },
            "type": "scattermapbox"
           }
          ],
          "scatterpolar": [
           {
            "marker": {
             "colorbar": {
              "outlinewidth": 0,
              "ticks": ""
             }
            },
            "type": "scatterpolar"
           }
          ],
          "scatterpolargl": [
           {
            "marker": {
             "colorbar": {
              "outlinewidth": 0,
              "ticks": ""
             }
            },
            "type": "scatterpolargl"
           }
          ],
          "scatterternary": [
           {
            "marker": {
             "colorbar": {
              "outlinewidth": 0,
              "ticks": ""
             }
            },
            "type": "scatterternary"
           }
          ],
          "surface": [
           {
            "colorbar": {
             "outlinewidth": 0,
             "ticks": ""
            },
            "colorscale": [
             [
              0,
              "#0d0887"
             ],
             [
              0.1111111111111111,
              "#46039f"
             ],
             [
              0.2222222222222222,
              "#7201a8"
             ],
             [
              0.3333333333333333,
              "#9c179e"
             ],
             [
              0.4444444444444444,
              "#bd3786"
             ],
             [
              0.5555555555555556,
              "#d8576b"
             ],
             [
              0.6666666666666666,
              "#ed7953"
             ],
             [
              0.7777777777777778,
              "#fb9f3a"
             ],
             [
              0.8888888888888888,
              "#fdca26"
             ],
             [
              1,
              "#f0f921"
             ]
            ],
            "type": "surface"
           }
          ],
          "table": [
           {
            "cells": {
             "fill": {
              "color": "#EBF0F8"
             },
             "line": {
              "color": "white"
             }
            },
            "header": {
             "fill": {
              "color": "#C8D4E3"
             },
             "line": {
              "color": "white"
             }
            },
            "type": "table"
           }
          ]
         },
         "layout": {
          "annotationdefaults": {
           "arrowcolor": "#2a3f5f",
           "arrowhead": 0,
           "arrowwidth": 1
          },
          "autotypenumbers": "strict",
          "coloraxis": {
           "colorbar": {
            "outlinewidth": 0,
            "ticks": ""
           }
          },
          "colorscale": {
           "diverging": [
            [
             0,
             "#8e0152"
            ],
            [
             0.1,
             "#c51b7d"
            ],
            [
             0.2,
             "#de77ae"
            ],
            [
             0.3,
             "#f1b6da"
            ],
            [
             0.4,
             "#fde0ef"
            ],
            [
             0.5,
             "#f7f7f7"
            ],
            [
             0.6,
             "#e6f5d0"
            ],
            [
             0.7,
             "#b8e186"
            ],
            [
             0.8,
             "#7fbc41"
            ],
            [
             0.9,
             "#4d9221"
            ],
            [
             1,
             "#276419"
            ]
           ],
           "sequential": [
            [
             0,
             "#0d0887"
            ],
            [
             0.1111111111111111,
             "#46039f"
            ],
            [
             0.2222222222222222,
             "#7201a8"
            ],
            [
             0.3333333333333333,
             "#9c179e"
            ],
            [
             0.4444444444444444,
             "#bd3786"
            ],
            [
             0.5555555555555556,
             "#d8576b"
            ],
            [
             0.6666666666666666,
             "#ed7953"
            ],
            [
             0.7777777777777778,
             "#fb9f3a"
            ],
            [
             0.8888888888888888,
             "#fdca26"
            ],
            [
             1,
             "#f0f921"
            ]
           ],
           "sequentialminus": [
            [
             0,
             "#0d0887"
            ],
            [
             0.1111111111111111,
             "#46039f"
            ],
            [
             0.2222222222222222,
             "#7201a8"
            ],
            [
             0.3333333333333333,
             "#9c179e"
            ],
            [
             0.4444444444444444,
             "#bd3786"
            ],
            [
             0.5555555555555556,
             "#d8576b"
            ],
            [
             0.6666666666666666,
             "#ed7953"
            ],
            [
             0.7777777777777778,
             "#fb9f3a"
            ],
            [
             0.8888888888888888,
             "#fdca26"
            ],
            [
             1,
             "#f0f921"
            ]
           ]
          },
          "colorway": [
           "#636efa",
           "#EF553B",
           "#00cc96",
           "#ab63fa",
           "#FFA15A",
           "#19d3f3",
           "#FF6692",
           "#B6E880",
           "#FF97FF",
           "#FECB52"
          ],
          "font": {
           "color": "#2a3f5f"
          },
          "geo": {
           "bgcolor": "white",
           "lakecolor": "white",
           "landcolor": "#E5ECF6",
           "showlakes": true,
           "showland": true,
           "subunitcolor": "white"
          },
          "hoverlabel": {
           "align": "left"
          },
          "hovermode": "closest",
          "mapbox": {
           "style": "light"
          },
          "paper_bgcolor": "white",
          "plot_bgcolor": "#E5ECF6",
          "polar": {
           "angularaxis": {
            "gridcolor": "white",
            "linecolor": "white",
            "ticks": ""
           },
           "bgcolor": "#E5ECF6",
           "radialaxis": {
            "gridcolor": "white",
            "linecolor": "white",
            "ticks": ""
           }
          },
          "scene": {
           "xaxis": {
            "backgroundcolor": "#E5ECF6",
            "gridcolor": "white",
            "gridwidth": 2,
            "linecolor": "white",
            "showbackground": true,
            "ticks": "",
            "zerolinecolor": "white"
           },
           "yaxis": {
            "backgroundcolor": "#E5ECF6",
            "gridcolor": "white",
            "gridwidth": 2,
            "linecolor": "white",
            "showbackground": true,
            "ticks": "",
            "zerolinecolor": "white"
           },
           "zaxis": {
            "backgroundcolor": "#E5ECF6",
            "gridcolor": "white",
            "gridwidth": 2,
            "linecolor": "white",
            "showbackground": true,
            "ticks": "",
            "zerolinecolor": "white"
           }
          },
          "shapedefaults": {
           "line": {
            "color": "#2a3f5f"
           }
          },
          "ternary": {
           "aaxis": {
            "gridcolor": "white",
            "linecolor": "white",
            "ticks": ""
           },
           "baxis": {
            "gridcolor": "white",
            "linecolor": "white",
            "ticks": ""
           },
           "bgcolor": "#E5ECF6",
           "caxis": {
            "gridcolor": "white",
            "linecolor": "white",
            "ticks": ""
           }
          },
          "title": {
           "x": 0.05
          },
          "xaxis": {
           "automargin": true,
           "gridcolor": "white",
           "linecolor": "white",
           "ticks": "",
           "title": {
            "standoff": 15
           },
           "zerolinecolor": "white",
           "zerolinewidth": 2
          },
          "yaxis": {
           "automargin": true,
           "gridcolor": "white",
           "linecolor": "white",
           "ticks": "",
           "title": {
            "standoff": 15
           },
           "zerolinecolor": "white",
           "zerolinewidth": 2
          }
         }
        },
        "title": {
         "text": "DNA Damage Foci nr in All Glia Nuclei by Tissue Location and Genotype (separated by sex) - Auto stain QC - cellpdia30_sigma1_dilrad4_dnad_obj_seg_v1_gliaero6_gliathr20_dnadero2"
        },
        "xaxis": {
         "anchor": "y",
         "categoryarray": [
          "male - CA1",
          "female - CA1",
          "male - CA3",
          "female - CA3",
          "male - CTX1",
          "female - CTX1",
          "male - CTX2",
          "female - CTX2",
          "male - CTX3",
          "female - CTX3",
          "male - DG",
          "female - DG"
         ],
         "categoryorder": "array",
         "domain": [
          0,
          1
         ],
         "title": {
          "text": "sex_tissue"
         }
        },
        "yaxis": {
         "anchor": "x",
         "domain": [
          0,
          1
         ],
         "title": {
          "text": "avg_dna_damage_foci/glia_+"
         }
        }
       }
      }
     },
     "metadata": {},
     "output_type": "display_data"
    }
   ],
   "source": [
    "# Create the boxplot with ordered categories\n",
    "fig = px.box(auto_filtered_df, x='sex_tissue', y='avg_dna_damage_foci/glia_+',\n",
    "             color='genotype',  # Different genotypes will be shown in different colors\n",
    "             category_orders={'sex_tissue': categories},  # Ensuring the specified order\n",
    "             title=f'DNA Damage Foci nr in All Glia Nuclei by Tissue Location and Genotype (separated by sex) - Auto stain QC - {parameters_title}')\n",
    "\n",
    "# Show the plot\n",
    "fig.show()"
   ]
  },
  {
   "cell_type": "code",
   "execution_count": 33,
   "metadata": {},
   "outputs": [
    {
     "data": {
      "application/vnd.plotly.v1+json": {
       "config": {
        "plotlyServerURL": "https://plot.ly"
       },
       "data": [
        {
         "alignmentgroup": "True",
         "hovertemplate": "genotype=APP/PS1<br>sex_tissue=%{x}<br>avg_dna_damage_foci/glia_+_damage_+=%{y}<extra></extra>",
         "legendgroup": "APP/PS1",
         "marker": {
          "color": "#636efa"
         },
         "name": "APP/PS1",
         "notched": false,
         "offsetgroup": "APP/PS1",
         "orientation": "v",
         "showlegend": true,
         "type": "box",
         "x": [
          "female - CA1",
          "female - CA3",
          "female - CTX1",
          "female - CTX2",
          "female - CTX3",
          "female - DG",
          "male - CA1",
          "male - CA3",
          "male - CTX1",
          "male - CTX2",
          "male - CTX3",
          "male - DG",
          "male - CA1",
          "male - CA3",
          "male - CTX1",
          "male - CTX2",
          "male - CTX3",
          "male - CA1",
          "male - CA3",
          "male - CTX1",
          "male - CTX2",
          "male - CTX3",
          "male - DG",
          "female - CA1",
          "female - CA3",
          "female - CTX1",
          "female - CTX2",
          "female - CTX3",
          "female - DG",
          "male - CA1",
          "male - CA3",
          "male - CTX1",
          "male - CTX2",
          "male - CTX3",
          "male - DG",
          "male - CA1",
          "male - CA3",
          "male - CTX1",
          "male - CTX2",
          "male - CTX3",
          "male - DG",
          "male - CA1",
          "male - CA3",
          "male - CTX1",
          "male - CTX2",
          "male - CTX3",
          "male - DG",
          "female - CA1",
          "female - CA3",
          "female - CTX1",
          "female - CTX2",
          "female - CTX3",
          "female - DG",
          "male - CA1",
          "male - CA3",
          "male - CTX1",
          "male - CTX2",
          "male - CTX3",
          "male - DG",
          "male - CA1",
          "male - CA3",
          "male - CTX1",
          "male - CTX2",
          "male - CTX3",
          "male - DG",
          "male - CA1",
          "male - CA3",
          "male - CTX1",
          "male - CTX2",
          "male - CTX3",
          "male - DG",
          "female - CA1",
          "female - CA3",
          "female - CTX1",
          "female - CTX2",
          "female - CTX3",
          "female - DG",
          "female - CA1",
          "female - CA3",
          "female - CTX1",
          "female - CTX2",
          "female - CTX3",
          "female - DG",
          "female - CA1",
          "female - CA3",
          "female - CTX1",
          "female - CTX2",
          "female - CTX3",
          "female - DG",
          "male - CA1",
          "male - CA3",
          "male - CTX1",
          "male - CTX2",
          "male - CTX3",
          "male - DG",
          "male - CA1",
          "male - CA3",
          "male - CTX1",
          "male - CTX2",
          "male - CTX3",
          "male - DG",
          "female - CA1",
          "female - CA3",
          "female - CTX1",
          "female - CTX2",
          "female - CTX3",
          "female - DG",
          "male - CA1",
          "male - CA3",
          "male - CTX1",
          "male - CTX2",
          "male - CTX3",
          "male - DG",
          "male - CA1",
          "male - CA3",
          "male - CTX1",
          "male - CTX2",
          "male - CTX3",
          "male - DG",
          "male - CA1",
          "male - CA3",
          "male - CTX1",
          "male - CTX2",
          "male - CTX3",
          "male - DG",
          "female - CA1",
          "female - CA3",
          "female - CTX1",
          "female - CTX2",
          "female - CTX3",
          "female - DG",
          "female - CA1",
          "female - CA3",
          "female - CTX1",
          "female - CTX2",
          "female - CTX3",
          "female - DG"
         ],
         "x0": " ",
         "xaxis": "x",
         "y": [
          1.3333333333333333,
          1,
          1.375,
          1.6666666666666667,
          1.3333333333333333,
          1.7142857142857142,
          1,
          1.5,
          1.5,
          1.9166666666666667,
          1.3529411764705883,
          1.5714285714285714,
          1.5,
          1,
          1.5384615384615383,
          1.7333333333333334,
          1.75,
          1.5,
          1.2,
          1.5625,
          1.6,
          1.3,
          1.5555555555555556,
          1.9,
          2.1666666666666665,
          2.5,
          2,
          2,
          2,
          2.6666666666666665,
          1.75,
          1.2727272727272727,
          null,
          1.25,
          1.4545454545454546,
          null,
          1,
          null,
          1.2,
          1,
          null,
          1.8333333333333333,
          1.375,
          1.2727272727272727,
          2.2,
          1.7142857142857142,
          2.4615384615384617,
          null,
          1.3333333333333333,
          1.5384615384615383,
          1.5714285714285714,
          1.3333333333333333,
          2,
          1.875,
          2,
          1.8333333333333333,
          1.4285714285714286,
          1.5,
          1.9090909090909087,
          3.090909090909091,
          2.8,
          2.7,
          2.269230769230769,
          1.8846153846153848,
          2.3684210526315788,
          1.4285714285714286,
          2,
          2.142857142857143,
          1.826086956521739,
          2.125,
          1.6,
          1.75,
          1.3333333333333333,
          2.090909090909091,
          2.235294117647059,
          2.363636363636364,
          2.5,
          2.6666666666666665,
          1,
          null,
          2,
          2,
          1.5714285714285714,
          1.3333333333333333,
          2,
          1.5,
          1.5,
          1.875,
          2,
          1.25,
          1.25,
          2.761904761904762,
          1.6666666666666667,
          1.2222222222222223,
          2.9473684210526314,
          1.9,
          2.769230769230769,
          1.6923076923076923,
          2.7222222222222223,
          2.032258064516129,
          4.75,
          1.6666666666666667,
          1.25,
          1.5714285714285714,
          1.6,
          1.5384615384615383,
          1.875,
          1.8,
          1.6,
          1.75,
          1.1428571428571428,
          1.3333333333333333,
          1.3846153846153846,
          2,
          1.6,
          2.136363636363636,
          2.260869565217391,
          2.555555555555556,
          1.9411764705882355,
          1.75,
          1.3333333333333333,
          1.2,
          1.6666666666666667,
          1.8461538461538465,
          1.4285714285714286,
          1,
          1,
          1,
          1.5,
          null,
          1.3333333333333333,
          1.8571428571428568,
          1.6666666666666667,
          1.6666666666666667,
          1.2857142857142858,
          1.1111111111111112,
          1.9
         ],
         "y0": " ",
         "yaxis": "y"
        },
        {
         "alignmentgroup": "True",
         "hovertemplate": "genotype=APP/PS1 x Neil3 KO<br>sex_tissue=%{x}<br>avg_dna_damage_foci/glia_+_damage_+=%{y}<extra></extra>",
         "legendgroup": "APP/PS1 x Neil3 KO",
         "marker": {
          "color": "#EF553B"
         },
         "name": "APP/PS1 x Neil3 KO",
         "notched": false,
         "offsetgroup": "APP/PS1 x Neil3 KO",
         "orientation": "v",
         "showlegend": true,
         "type": "box",
         "x": [
          "male - CA1",
          "male - CA3",
          "male - CTX1",
          "male - CTX2",
          "male - CTX3",
          "male - DG",
          "male - CA1",
          "male - CA3",
          "male - CTX1",
          "male - CTX2",
          "male - CTX3",
          "male - DG",
          "female - CA1",
          "female - CA3",
          "female - CTX1",
          "female - CTX2",
          "female - CTX3",
          "female - DG",
          "male - CA1",
          "male - CA3",
          "male - CTX1",
          "male - CTX2",
          "male - CTX3",
          "male - DG",
          "male - CA1",
          "male - CA3",
          "male - CTX1",
          "male - CTX2",
          "male - CTX3",
          "male - DG",
          "female - CA1",
          "female - CA3",
          "female - CTX1",
          "female - CTX2",
          "female - CTX3",
          "female - DG",
          "male - CA1",
          "male - CA3",
          "male - CTX1",
          "male - CTX2",
          "male - CTX3",
          "male - DG",
          "female - CA1",
          "female - CA3",
          "female - CTX1",
          "female - CTX2",
          "female - CTX3",
          "female - DG",
          "female - CA1",
          "female - CA3",
          "female - CTX1",
          "female - CTX2",
          "female - CTX3",
          "female - DG",
          "male - CA1",
          "male - CA3",
          "male - CTX1",
          "male - CTX2",
          "male - CTX3",
          "male - DG",
          "female - CA1",
          "female - CA3",
          "female - CTX1",
          "female - CTX2",
          "female - CTX3",
          "female - DG",
          "male - CA1",
          "male - CA3",
          "male - CTX1",
          "male - CTX2",
          "male - CTX3",
          "male - DG",
          "female - CA1",
          "female - CA3",
          "female - CTX1",
          "female - CTX2",
          "female - CTX3",
          "female - DG",
          "female - CA1",
          "female - CA3",
          "female - CTX1",
          "female - CTX2",
          "female - CTX3",
          "female - DG",
          "male - CA1",
          "male - CA3",
          "male - CTX1",
          "male - CTX2",
          "male - CTX3",
          "male - DG",
          "male - CA1",
          "male - CA3",
          "male - CTX1",
          "male - CTX2",
          "male - CTX3",
          "male - DG",
          "female - CA1",
          "female - CA3",
          "female - CTX1",
          "female - CTX2",
          "female - CTX3",
          "female - DG"
         ],
         "x0": " ",
         "xaxis": "x",
         "y": [
          1.2,
          1.7142857142857142,
          1.1428571428571428,
          1.7857142857142858,
          1.8,
          1.1666666666666667,
          1.2,
          1.2,
          1.5,
          2.066666666666667,
          1.3,
          2,
          1,
          1,
          1.25,
          1,
          1.8571428571428568,
          1.3333333333333333,
          2,
          1.75,
          1.125,
          1.3,
          1.9090909090909087,
          1.2857142857142858,
          1.5,
          2,
          1.6666666666666667,
          1.8333333333333333,
          2,
          1.4,
          1.5714285714285714,
          1,
          2.076923076923077,
          1.4615384615384617,
          2,
          1.4,
          null,
          1,
          1.5,
          1.5714285714285714,
          1.3333333333333333,
          2.823529411764706,
          1.5555555555555556,
          1.25,
          1.6363636363636365,
          1.631578947368421,
          1.1538461538461535,
          1.5,
          1.6666666666666667,
          1.75,
          1.4,
          1.7272727272727273,
          1.4,
          2,
          1,
          1,
          1.4615384615384617,
          1.8,
          1.5714285714285714,
          2.25,
          1,
          1,
          null,
          null,
          1.5,
          1,
          2.4615384615384617,
          2.5,
          1.2857142857142858,
          1.4285714285714286,
          1.625,
          2.3684210526315788,
          1,
          1,
          null,
          1,
          1.4285714285714286,
          1.1666666666666667,
          1.2,
          1.4,
          2,
          1.25,
          1.4,
          1.5555555555555556,
          1.4285714285714286,
          1.8333333333333333,
          1.6666666666666667,
          1.125,
          1.2,
          1.7222222222222223,
          1.6666666666666667,
          1,
          1.818181818181818,
          1.5833333333333333,
          1.5,
          1.5,
          1,
          1.3333333333333333,
          1.75,
          1.0909090909090908,
          1.4545454545454546,
          1.8
         ],
         "y0": " ",
         "yaxis": "y"
        }
       ],
       "layout": {
        "boxmode": "group",
        "legend": {
         "title": {
          "text": "genotype"
         },
         "tracegroupgap": 0
        },
        "template": {
         "data": {
          "bar": [
           {
            "error_x": {
             "color": "#2a3f5f"
            },
            "error_y": {
             "color": "#2a3f5f"
            },
            "marker": {
             "line": {
              "color": "#E5ECF6",
              "width": 0.5
             },
             "pattern": {
              "fillmode": "overlay",
              "size": 10,
              "solidity": 0.2
             }
            },
            "type": "bar"
           }
          ],
          "barpolar": [
           {
            "marker": {
             "line": {
              "color": "#E5ECF6",
              "width": 0.5
             },
             "pattern": {
              "fillmode": "overlay",
              "size": 10,
              "solidity": 0.2
             }
            },
            "type": "barpolar"
           }
          ],
          "carpet": [
           {
            "aaxis": {
             "endlinecolor": "#2a3f5f",
             "gridcolor": "white",
             "linecolor": "white",
             "minorgridcolor": "white",
             "startlinecolor": "#2a3f5f"
            },
            "baxis": {
             "endlinecolor": "#2a3f5f",
             "gridcolor": "white",
             "linecolor": "white",
             "minorgridcolor": "white",
             "startlinecolor": "#2a3f5f"
            },
            "type": "carpet"
           }
          ],
          "choropleth": [
           {
            "colorbar": {
             "outlinewidth": 0,
             "ticks": ""
            },
            "type": "choropleth"
           }
          ],
          "contour": [
           {
            "colorbar": {
             "outlinewidth": 0,
             "ticks": ""
            },
            "colorscale": [
             [
              0,
              "#0d0887"
             ],
             [
              0.1111111111111111,
              "#46039f"
             ],
             [
              0.2222222222222222,
              "#7201a8"
             ],
             [
              0.3333333333333333,
              "#9c179e"
             ],
             [
              0.4444444444444444,
              "#bd3786"
             ],
             [
              0.5555555555555556,
              "#d8576b"
             ],
             [
              0.6666666666666666,
              "#ed7953"
             ],
             [
              0.7777777777777778,
              "#fb9f3a"
             ],
             [
              0.8888888888888888,
              "#fdca26"
             ],
             [
              1,
              "#f0f921"
             ]
            ],
            "type": "contour"
           }
          ],
          "contourcarpet": [
           {
            "colorbar": {
             "outlinewidth": 0,
             "ticks": ""
            },
            "type": "contourcarpet"
           }
          ],
          "heatmap": [
           {
            "colorbar": {
             "outlinewidth": 0,
             "ticks": ""
            },
            "colorscale": [
             [
              0,
              "#0d0887"
             ],
             [
              0.1111111111111111,
              "#46039f"
             ],
             [
              0.2222222222222222,
              "#7201a8"
             ],
             [
              0.3333333333333333,
              "#9c179e"
             ],
             [
              0.4444444444444444,
              "#bd3786"
             ],
             [
              0.5555555555555556,
              "#d8576b"
             ],
             [
              0.6666666666666666,
              "#ed7953"
             ],
             [
              0.7777777777777778,
              "#fb9f3a"
             ],
             [
              0.8888888888888888,
              "#fdca26"
             ],
             [
              1,
              "#f0f921"
             ]
            ],
            "type": "heatmap"
           }
          ],
          "heatmapgl": [
           {
            "colorbar": {
             "outlinewidth": 0,
             "ticks": ""
            },
            "colorscale": [
             [
              0,
              "#0d0887"
             ],
             [
              0.1111111111111111,
              "#46039f"
             ],
             [
              0.2222222222222222,
              "#7201a8"
             ],
             [
              0.3333333333333333,
              "#9c179e"
             ],
             [
              0.4444444444444444,
              "#bd3786"
             ],
             [
              0.5555555555555556,
              "#d8576b"
             ],
             [
              0.6666666666666666,
              "#ed7953"
             ],
             [
              0.7777777777777778,
              "#fb9f3a"
             ],
             [
              0.8888888888888888,
              "#fdca26"
             ],
             [
              1,
              "#f0f921"
             ]
            ],
            "type": "heatmapgl"
           }
          ],
          "histogram": [
           {
            "marker": {
             "pattern": {
              "fillmode": "overlay",
              "size": 10,
              "solidity": 0.2
             }
            },
            "type": "histogram"
           }
          ],
          "histogram2d": [
           {
            "colorbar": {
             "outlinewidth": 0,
             "ticks": ""
            },
            "colorscale": [
             [
              0,
              "#0d0887"
             ],
             [
              0.1111111111111111,
              "#46039f"
             ],
             [
              0.2222222222222222,
              "#7201a8"
             ],
             [
              0.3333333333333333,
              "#9c179e"
             ],
             [
              0.4444444444444444,
              "#bd3786"
             ],
             [
              0.5555555555555556,
              "#d8576b"
             ],
             [
              0.6666666666666666,
              "#ed7953"
             ],
             [
              0.7777777777777778,
              "#fb9f3a"
             ],
             [
              0.8888888888888888,
              "#fdca26"
             ],
             [
              1,
              "#f0f921"
             ]
            ],
            "type": "histogram2d"
           }
          ],
          "histogram2dcontour": [
           {
            "colorbar": {
             "outlinewidth": 0,
             "ticks": ""
            },
            "colorscale": [
             [
              0,
              "#0d0887"
             ],
             [
              0.1111111111111111,
              "#46039f"
             ],
             [
              0.2222222222222222,
              "#7201a8"
             ],
             [
              0.3333333333333333,
              "#9c179e"
             ],
             [
              0.4444444444444444,
              "#bd3786"
             ],
             [
              0.5555555555555556,
              "#d8576b"
             ],
             [
              0.6666666666666666,
              "#ed7953"
             ],
             [
              0.7777777777777778,
              "#fb9f3a"
             ],
             [
              0.8888888888888888,
              "#fdca26"
             ],
             [
              1,
              "#f0f921"
             ]
            ],
            "type": "histogram2dcontour"
           }
          ],
          "mesh3d": [
           {
            "colorbar": {
             "outlinewidth": 0,
             "ticks": ""
            },
            "type": "mesh3d"
           }
          ],
          "parcoords": [
           {
            "line": {
             "colorbar": {
              "outlinewidth": 0,
              "ticks": ""
             }
            },
            "type": "parcoords"
           }
          ],
          "pie": [
           {
            "automargin": true,
            "type": "pie"
           }
          ],
          "scatter": [
           {
            "fillpattern": {
             "fillmode": "overlay",
             "size": 10,
             "solidity": 0.2
            },
            "type": "scatter"
           }
          ],
          "scatter3d": [
           {
            "line": {
             "colorbar": {
              "outlinewidth": 0,
              "ticks": ""
             }
            },
            "marker": {
             "colorbar": {
              "outlinewidth": 0,
              "ticks": ""
             }
            },
            "type": "scatter3d"
           }
          ],
          "scattercarpet": [
           {
            "marker": {
             "colorbar": {
              "outlinewidth": 0,
              "ticks": ""
             }
            },
            "type": "scattercarpet"
           }
          ],
          "scattergeo": [
           {
            "marker": {
             "colorbar": {
              "outlinewidth": 0,
              "ticks": ""
             }
            },
            "type": "scattergeo"
           }
          ],
          "scattergl": [
           {
            "marker": {
             "colorbar": {
              "outlinewidth": 0,
              "ticks": ""
             }
            },
            "type": "scattergl"
           }
          ],
          "scattermapbox": [
           {
            "marker": {
             "colorbar": {
              "outlinewidth": 0,
              "ticks": ""
             }
            },
            "type": "scattermapbox"
           }
          ],
          "scatterpolar": [
           {
            "marker": {
             "colorbar": {
              "outlinewidth": 0,
              "ticks": ""
             }
            },
            "type": "scatterpolar"
           }
          ],
          "scatterpolargl": [
           {
            "marker": {
             "colorbar": {
              "outlinewidth": 0,
              "ticks": ""
             }
            },
            "type": "scatterpolargl"
           }
          ],
          "scatterternary": [
           {
            "marker": {
             "colorbar": {
              "outlinewidth": 0,
              "ticks": ""
             }
            },
            "type": "scatterternary"
           }
          ],
          "surface": [
           {
            "colorbar": {
             "outlinewidth": 0,
             "ticks": ""
            },
            "colorscale": [
             [
              0,
              "#0d0887"
             ],
             [
              0.1111111111111111,
              "#46039f"
             ],
             [
              0.2222222222222222,
              "#7201a8"
             ],
             [
              0.3333333333333333,
              "#9c179e"
             ],
             [
              0.4444444444444444,
              "#bd3786"
             ],
             [
              0.5555555555555556,
              "#d8576b"
             ],
             [
              0.6666666666666666,
              "#ed7953"
             ],
             [
              0.7777777777777778,
              "#fb9f3a"
             ],
             [
              0.8888888888888888,
              "#fdca26"
             ],
             [
              1,
              "#f0f921"
             ]
            ],
            "type": "surface"
           }
          ],
          "table": [
           {
            "cells": {
             "fill": {
              "color": "#EBF0F8"
             },
             "line": {
              "color": "white"
             }
            },
            "header": {
             "fill": {
              "color": "#C8D4E3"
             },
             "line": {
              "color": "white"
             }
            },
            "type": "table"
           }
          ]
         },
         "layout": {
          "annotationdefaults": {
           "arrowcolor": "#2a3f5f",
           "arrowhead": 0,
           "arrowwidth": 1
          },
          "autotypenumbers": "strict",
          "coloraxis": {
           "colorbar": {
            "outlinewidth": 0,
            "ticks": ""
           }
          },
          "colorscale": {
           "diverging": [
            [
             0,
             "#8e0152"
            ],
            [
             0.1,
             "#c51b7d"
            ],
            [
             0.2,
             "#de77ae"
            ],
            [
             0.3,
             "#f1b6da"
            ],
            [
             0.4,
             "#fde0ef"
            ],
            [
             0.5,
             "#f7f7f7"
            ],
            [
             0.6,
             "#e6f5d0"
            ],
            [
             0.7,
             "#b8e186"
            ],
            [
             0.8,
             "#7fbc41"
            ],
            [
             0.9,
             "#4d9221"
            ],
            [
             1,
             "#276419"
            ]
           ],
           "sequential": [
            [
             0,
             "#0d0887"
            ],
            [
             0.1111111111111111,
             "#46039f"
            ],
            [
             0.2222222222222222,
             "#7201a8"
            ],
            [
             0.3333333333333333,
             "#9c179e"
            ],
            [
             0.4444444444444444,
             "#bd3786"
            ],
            [
             0.5555555555555556,
             "#d8576b"
            ],
            [
             0.6666666666666666,
             "#ed7953"
            ],
            [
             0.7777777777777778,
             "#fb9f3a"
            ],
            [
             0.8888888888888888,
             "#fdca26"
            ],
            [
             1,
             "#f0f921"
            ]
           ],
           "sequentialminus": [
            [
             0,
             "#0d0887"
            ],
            [
             0.1111111111111111,
             "#46039f"
            ],
            [
             0.2222222222222222,
             "#7201a8"
            ],
            [
             0.3333333333333333,
             "#9c179e"
            ],
            [
             0.4444444444444444,
             "#bd3786"
            ],
            [
             0.5555555555555556,
             "#d8576b"
            ],
            [
             0.6666666666666666,
             "#ed7953"
            ],
            [
             0.7777777777777778,
             "#fb9f3a"
            ],
            [
             0.8888888888888888,
             "#fdca26"
            ],
            [
             1,
             "#f0f921"
            ]
           ]
          },
          "colorway": [
           "#636efa",
           "#EF553B",
           "#00cc96",
           "#ab63fa",
           "#FFA15A",
           "#19d3f3",
           "#FF6692",
           "#B6E880",
           "#FF97FF",
           "#FECB52"
          ],
          "font": {
           "color": "#2a3f5f"
          },
          "geo": {
           "bgcolor": "white",
           "lakecolor": "white",
           "landcolor": "#E5ECF6",
           "showlakes": true,
           "showland": true,
           "subunitcolor": "white"
          },
          "hoverlabel": {
           "align": "left"
          },
          "hovermode": "closest",
          "mapbox": {
           "style": "light"
          },
          "paper_bgcolor": "white",
          "plot_bgcolor": "#E5ECF6",
          "polar": {
           "angularaxis": {
            "gridcolor": "white",
            "linecolor": "white",
            "ticks": ""
           },
           "bgcolor": "#E5ECF6",
           "radialaxis": {
            "gridcolor": "white",
            "linecolor": "white",
            "ticks": ""
           }
          },
          "scene": {
           "xaxis": {
            "backgroundcolor": "#E5ECF6",
            "gridcolor": "white",
            "gridwidth": 2,
            "linecolor": "white",
            "showbackground": true,
            "ticks": "",
            "zerolinecolor": "white"
           },
           "yaxis": {
            "backgroundcolor": "#E5ECF6",
            "gridcolor": "white",
            "gridwidth": 2,
            "linecolor": "white",
            "showbackground": true,
            "ticks": "",
            "zerolinecolor": "white"
           },
           "zaxis": {
            "backgroundcolor": "#E5ECF6",
            "gridcolor": "white",
            "gridwidth": 2,
            "linecolor": "white",
            "showbackground": true,
            "ticks": "",
            "zerolinecolor": "white"
           }
          },
          "shapedefaults": {
           "line": {
            "color": "#2a3f5f"
           }
          },
          "ternary": {
           "aaxis": {
            "gridcolor": "white",
            "linecolor": "white",
            "ticks": ""
           },
           "baxis": {
            "gridcolor": "white",
            "linecolor": "white",
            "ticks": ""
           },
           "bgcolor": "#E5ECF6",
           "caxis": {
            "gridcolor": "white",
            "linecolor": "white",
            "ticks": ""
           }
          },
          "title": {
           "x": 0.05
          },
          "xaxis": {
           "automargin": true,
           "gridcolor": "white",
           "linecolor": "white",
           "ticks": "",
           "title": {
            "standoff": 15
           },
           "zerolinecolor": "white",
           "zerolinewidth": 2
          },
          "yaxis": {
           "automargin": true,
           "gridcolor": "white",
           "linecolor": "white",
           "ticks": "",
           "title": {
            "standoff": 15
           },
           "zerolinecolor": "white",
           "zerolinewidth": 2
          }
         }
        },
        "title": {
         "text": "DNA Damage Foci nr in Damaged Glia Nuclei by Tissue Location and Genotype (separated by sex) - Auto stain QC - cellpdia30_sigma1_dilrad4_dnad_obj_seg_v1_gliaero6_gliathr20_dnadero2"
        },
        "xaxis": {
         "anchor": "y",
         "categoryarray": [
          "male - CA1",
          "female - CA1",
          "male - CA3",
          "female - CA3",
          "male - CTX1",
          "female - CTX1",
          "male - CTX2",
          "female - CTX2",
          "male - CTX3",
          "female - CTX3",
          "male - DG",
          "female - DG"
         ],
         "categoryorder": "array",
         "domain": [
          0,
          1
         ],
         "title": {
          "text": "sex_tissue"
         }
        },
        "yaxis": {
         "anchor": "x",
         "domain": [
          0,
          1
         ],
         "title": {
          "text": "avg_dna_damage_foci/glia_+_damage_+"
         }
        }
       }
      }
     },
     "metadata": {},
     "output_type": "display_data"
    }
   ],
   "source": [
    "# Create the boxplot with ordered categories\n",
    "fig = px.box(auto_filtered_df, x='sex_tissue', y='avg_dna_damage_foci/glia_+_damage_+',\n",
    "             color='genotype',  # Different genotypes will be shown in different colors\n",
    "             category_orders={'sex_tissue': categories},  # Ensuring the specified order\n",
    "             title=f'DNA Damage Foci nr in Damage+ Glia Nuclei by Tissue Location and Genotype (separated by sex) - Auto stain QC - {parameters_title}')\n",
    "\n",
    "# Show the plot\n",
    "fig.show()"
   ]
  },
  {
   "cell_type": "code",
   "execution_count": 34,
   "metadata": {},
   "outputs": [
    {
     "data": {
      "application/vnd.plotly.v1+json": {
       "config": {
        "plotlyServerURL": "https://plot.ly"
       },
       "data": [
        {
         "alignmentgroup": "True",
         "hovertemplate": "genotype=APP/PS1<br>sex_tissue=%{x}<br>avg_dna_damage_foci/all_nuclei=%{y}<extra></extra>",
         "legendgroup": "APP/PS1",
         "marker": {
          "color": "#636efa"
         },
         "name": "APP/PS1",
         "notched": false,
         "offsetgroup": "APP/PS1",
         "orientation": "v",
         "showlegend": true,
         "type": "box",
         "x": [
          "female - CA1",
          "female - CA3",
          "female - CTX1",
          "female - CTX2",
          "female - CTX3",
          "female - DG",
          "male - CA1",
          "male - CA3",
          "male - CTX1",
          "male - CTX2",
          "male - CTX3",
          "male - DG",
          "male - CA1",
          "male - CA3",
          "male - CTX1",
          "male - CTX2",
          "male - CTX3",
          "male - CA1",
          "male - CA3",
          "male - CTX1",
          "male - CTX2",
          "male - CTX3",
          "male - DG",
          "female - CA1",
          "female - CA3",
          "female - CTX1",
          "female - CTX2",
          "female - CTX3",
          "female - DG",
          "male - CA1",
          "male - CA3",
          "male - CTX1",
          "male - CTX2",
          "male - CTX3",
          "male - DG",
          "male - CA1",
          "male - CA3",
          "male - CTX1",
          "male - CTX2",
          "male - CTX3",
          "male - DG",
          "male - CA1",
          "male - CA3",
          "male - CTX1",
          "male - CTX2",
          "male - CTX3",
          "male - DG",
          "female - CA1",
          "female - CA3",
          "female - CTX1",
          "female - CTX2",
          "female - CTX3",
          "female - DG",
          "male - CA1",
          "male - CA3",
          "male - CTX1",
          "male - CTX2",
          "male - CTX3",
          "male - DG",
          "male - CA1",
          "male - CA3",
          "male - CTX1",
          "male - CTX2",
          "male - CTX3",
          "male - DG",
          "male - CA1",
          "male - CA3",
          "male - CTX1",
          "male - CTX2",
          "male - CTX3",
          "male - DG",
          "female - CA1",
          "female - CA3",
          "female - CTX1",
          "female - CTX2",
          "female - CTX3",
          "female - DG",
          "female - CA1",
          "female - CA3",
          "female - CTX1",
          "female - CTX2",
          "female - CTX3",
          "female - DG",
          "female - CA1",
          "female - CA3",
          "female - CTX1",
          "female - CTX2",
          "female - CTX3",
          "female - DG",
          "male - CA1",
          "male - CA3",
          "male - CTX1",
          "male - CTX2",
          "male - CTX3",
          "male - DG",
          "male - CA1",
          "male - CA3",
          "male - CTX1",
          "male - CTX2",
          "male - CTX3",
          "male - DG",
          "female - CA1",
          "female - CA3",
          "female - CTX1",
          "female - CTX2",
          "female - CTX3",
          "female - DG",
          "male - CA1",
          "male - CA3",
          "male - CTX1",
          "male - CTX2",
          "male - CTX3",
          "male - DG",
          "male - CA1",
          "male - CA3",
          "male - CTX1",
          "male - CTX2",
          "male - CTX3",
          "male - DG",
          "male - CA1",
          "male - CA3",
          "male - CTX1",
          "male - CTX2",
          "male - CTX3",
          "male - DG",
          "female - CA1",
          "female - CA3",
          "female - CTX1",
          "female - CTX2",
          "female - CTX3",
          "female - DG",
          "female - CA1",
          "female - CA3",
          "female - CTX1",
          "female - CTX2",
          "female - CTX3",
          "female - DG"
         ],
         "x0": " ",
         "xaxis": "x",
         "y": [
          0.5733333333333334,
          0.934959349593496,
          0.9580838323353292,
          0.8983739837398373,
          0.759656652360515,
          1.3,
          0.3697916666666667,
          0.890625,
          0.7142857142857143,
          0.7781569965870307,
          0.8795180722891566,
          1.2924281984334205,
          0.6166666666666667,
          0.7849462365591398,
          0.47953216374269,
          1.125,
          0.9230769230769232,
          0.7114093959731543,
          0.9206349206349206,
          0.577922077922078,
          1.0289855072463767,
          0.7531380753138075,
          1.2686567164179106,
          1.206896551724138,
          1.2302158273381294,
          1.2880658436213992,
          1.0454545454545454,
          0.3928571428571428,
          1.633838383838384,
          0.6617647058823529,
          0.6491228070175439,
          0.387434554973822,
          0.075,
          0.7905405405405406,
          1.122969837587007,
          0.5642458100558659,
          0.6,
          0.1933701657458563,
          0.4555984555984556,
          0.5473684210526316,
          0.1348314606741573,
          1.6158940397350994,
          1.9197080291970805,
          0.6090225563909775,
          1.78125,
          2.2216216216216216,
          2.067469879518072,
          0.528169014084507,
          0.8543689320388349,
          0.4444444444444444,
          0.5152671755725191,
          0.3668341708542713,
          1.1607629427792916,
          1.0059880239520955,
          0.9672131147540984,
          0.4766839378238341,
          0.6208333333333333,
          0.9178082191780822,
          1.6540880503144657,
          3.9518716577540105,
          5.311787072243346,
          3.251700680272109,
          3.285171102661597,
          2.2740384615384617,
          4.117824773413897,
          1.0666666666666669,
          1,
          1.9855769230769231,
          1.264840182648402,
          1.1965317919075145,
          1.663716814159292,
          1.2692307692307692,
          1.6164383561643836,
          1.6403508771929824,
          2.2758620689655173,
          1.4883720930232558,
          1.911845730027548,
          0.8125,
          0.9111111111111112,
          0.369047619047619,
          0.4,
          0.2450331125827814,
          0.7377049180327869,
          0.4137931034482758,
          0.8058252427184466,
          0.5238095238095238,
          0.5225806451612903,
          0.7746478873239436,
          0.8067010309278351,
          0.3154362416107382,
          1.2772277227722773,
          1.4035874439461884,
          0.4009661835748792,
          0.9282296650717704,
          2.459537572254335,
          1.4210526315789471,
          4.093023255813954,
          0.6153846153846154,
          3.01423487544484,
          1.6936936936936935,
          3.888888888888889,
          1.1333333333333333,
          0.6195652173913043,
          0.691304347826087,
          0.7406015037593985,
          0.7831858407079646,
          1.7268041237113405,
          0.375,
          0.811965811965812,
          0.2876712328767123,
          0.2227272727272727,
          0.4530386740331492,
          0.8927613941018767,
          3.311111111111111,
          3.736196319018405,
          2.048872180451128,
          1.755,
          1.818840579710145,
          3.3607142857142858,
          0.5692307692307692,
          1.062992125984252,
          0.6907216494845361,
          0.7251461988304093,
          0.7797619047619048,
          1.2145110410094635,
          0.4961240310077519,
          0.6210526315789474,
          0.0534351145038167,
          0.7847222222222222,
          0.188235294117647,
          0.8403990024937655,
          0.5095541401273885,
          0.6515151515151515,
          0.5056179775280899,
          0.3388429752066115,
          0.3351063829787234,
          0.7286063569682152
         ],
         "y0": " ",
         "yaxis": "y"
        },
        {
         "alignmentgroup": "True",
         "hovertemplate": "genotype=APP/PS1 x Neil3 KO<br>sex_tissue=%{x}<br>avg_dna_damage_foci/all_nuclei=%{y}<extra></extra>",
         "legendgroup": "APP/PS1 x Neil3 KO",
         "marker": {
          "color": "#EF553B"
         },
         "name": "APP/PS1 x Neil3 KO",
         "notched": false,
         "offsetgroup": "APP/PS1 x Neil3 KO",
         "orientation": "v",
         "showlegend": true,
         "type": "box",
         "x": [
          "male - CA1",
          "male - CA3",
          "male - CTX1",
          "male - CTX2",
          "male - CTX3",
          "male - DG",
          "male - CA1",
          "male - CA3",
          "male - CTX1",
          "male - CTX2",
          "male - CTX3",
          "male - DG",
          "female - CA1",
          "female - CA3",
          "female - CTX1",
          "female - CTX2",
          "female - CTX3",
          "female - DG",
          "male - CA1",
          "male - CA3",
          "male - CTX1",
          "male - CTX2",
          "male - CTX3",
          "male - DG",
          "male - CA1",
          "male - CA3",
          "male - CTX1",
          "male - CTX2",
          "male - CTX3",
          "male - DG",
          "female - CA1",
          "female - CA3",
          "female - CTX1",
          "female - CTX2",
          "female - CTX3",
          "female - DG",
          "male - CA1",
          "male - CA3",
          "male - CTX1",
          "male - CTX2",
          "male - CTX3",
          "male - DG",
          "female - CA1",
          "female - CA3",
          "female - CTX1",
          "female - CTX2",
          "female - CTX3",
          "female - DG",
          "female - CA1",
          "female - CA3",
          "female - CTX1",
          "female - CTX2",
          "female - CTX3",
          "female - DG",
          "male - CA1",
          "male - CA3",
          "male - CTX1",
          "male - CTX2",
          "male - CTX3",
          "male - DG",
          "female - CA1",
          "female - CA3",
          "female - CTX1",
          "female - CTX2",
          "female - CTX3",
          "female - DG",
          "male - CA1",
          "male - CA3",
          "male - CTX1",
          "male - CTX2",
          "male - CTX3",
          "male - DG",
          "female - CA1",
          "female - CA3",
          "female - CTX1",
          "female - CTX2",
          "female - CTX3",
          "female - DG",
          "female - CA1",
          "female - CA3",
          "female - CTX1",
          "female - CTX2",
          "female - CTX3",
          "female - DG",
          "male - CA1",
          "male - CA3",
          "male - CTX1",
          "male - CTX2",
          "male - CTX3",
          "male - DG",
          "male - CA1",
          "male - CA3",
          "male - CTX1",
          "male - CTX2",
          "male - CTX3",
          "male - DG",
          "female - CA1",
          "female - CA3",
          "female - CTX1",
          "female - CTX2",
          "female - CTX3",
          "female - DG"
         ],
         "x0": " ",
         "xaxis": "x",
         "y": [
          0.573170731707317,
          0.9912280701754386,
          0.4683544303797468,
          1.1932773109243695,
          0.9247311827956988,
          1.4065281899109792,
          0.582010582010582,
          1.2662337662337662,
          0.765625,
          1.1553398058252426,
          0.84,
          1.1826625386996903,
          0.4294871794871794,
          0.7017543859649122,
          0.5714285714285714,
          0.6479591836734694,
          0.9433962264150944,
          1.0833333333333333,
          0.6598639455782312,
          1.054054054054054,
          0.5063291139240507,
          1.1487179487179486,
          0.9709302325581396,
          1.2449438202247192,
          0.6645161290322581,
          1.3245614035087718,
          0.5151515151515151,
          1.069182389937107,
          0.532608695652174,
          1.435483870967742,
          0.851063829787234,
          1,
          0.695,
          0.7688888888888888,
          1.0824742268041236,
          1.1310679611650485,
          0.8023255813953488,
          0.5223880597014925,
          0.6923076923076923,
          0.927536231884058,
          1.3451776649746192,
          2.452247191011236,
          0.7718120805369127,
          0.6386554621848739,
          0.7939698492462312,
          1.177664974619289,
          0.5952380952380952,
          1.025974025974026,
          0.759493670886076,
          0.9619565217391304,
          0.6696428571428571,
          1.3214285714285714,
          0.8301886792452831,
          1.528169014084507,
          0.363013698630137,
          0.7272727272727273,
          0.6645161290322581,
          0.6242038216560509,
          0.6486486486486487,
          1.189102564102564,
          0.6225165562913907,
          0.5,
          0.0736196319018405,
          0.1405405405405405,
          0.1785714285714285,
          1.0633608815426998,
          1.922619047619048,
          1.548780487804878,
          0.5304347826086957,
          0.3828828828828828,
          0.4492753623188406,
          2.2536945812807883,
          0.1866666666666666,
          0.4758064516129032,
          0.0157480314960629,
          0.180672268907563,
          0.7905759162303665,
          0.343811394891945,
          0.3939393939393939,
          0.6122448979591837,
          0.2903225806451613,
          0.5,
          0.5257731958762887,
          0.5926966292134831,
          2.1621621621621623,
          4.255952380952381,
          0.3698113207547169,
          0.3571428571428571,
          0.190721649484536,
          1.8514285714285716,
          0.6528925619834711,
          0.8761061946902655,
          0.5886524822695035,
          0.837696335078534,
          0.5677083333333334,
          0.7709677419354839,
          0.6390532544378699,
          0.45,
          0.6515151515151515,
          0.4041095890410959,
          0.4962962962962963,
          0.9853372434017597
         ],
         "y0": " ",
         "yaxis": "y"
        }
       ],
       "layout": {
        "boxmode": "group",
        "legend": {
         "title": {
          "text": "genotype"
         },
         "tracegroupgap": 0
        },
        "template": {
         "data": {
          "bar": [
           {
            "error_x": {
             "color": "#2a3f5f"
            },
            "error_y": {
             "color": "#2a3f5f"
            },
            "marker": {
             "line": {
              "color": "#E5ECF6",
              "width": 0.5
             },
             "pattern": {
              "fillmode": "overlay",
              "size": 10,
              "solidity": 0.2
             }
            },
            "type": "bar"
           }
          ],
          "barpolar": [
           {
            "marker": {
             "line": {
              "color": "#E5ECF6",
              "width": 0.5
             },
             "pattern": {
              "fillmode": "overlay",
              "size": 10,
              "solidity": 0.2
             }
            },
            "type": "barpolar"
           }
          ],
          "carpet": [
           {
            "aaxis": {
             "endlinecolor": "#2a3f5f",
             "gridcolor": "white",
             "linecolor": "white",
             "minorgridcolor": "white",
             "startlinecolor": "#2a3f5f"
            },
            "baxis": {
             "endlinecolor": "#2a3f5f",
             "gridcolor": "white",
             "linecolor": "white",
             "minorgridcolor": "white",
             "startlinecolor": "#2a3f5f"
            },
            "type": "carpet"
           }
          ],
          "choropleth": [
           {
            "colorbar": {
             "outlinewidth": 0,
             "ticks": ""
            },
            "type": "choropleth"
           }
          ],
          "contour": [
           {
            "colorbar": {
             "outlinewidth": 0,
             "ticks": ""
            },
            "colorscale": [
             [
              0,
              "#0d0887"
             ],
             [
              0.1111111111111111,
              "#46039f"
             ],
             [
              0.2222222222222222,
              "#7201a8"
             ],
             [
              0.3333333333333333,
              "#9c179e"
             ],
             [
              0.4444444444444444,
              "#bd3786"
             ],
             [
              0.5555555555555556,
              "#d8576b"
             ],
             [
              0.6666666666666666,
              "#ed7953"
             ],
             [
              0.7777777777777778,
              "#fb9f3a"
             ],
             [
              0.8888888888888888,
              "#fdca26"
             ],
             [
              1,
              "#f0f921"
             ]
            ],
            "type": "contour"
           }
          ],
          "contourcarpet": [
           {
            "colorbar": {
             "outlinewidth": 0,
             "ticks": ""
            },
            "type": "contourcarpet"
           }
          ],
          "heatmap": [
           {
            "colorbar": {
             "outlinewidth": 0,
             "ticks": ""
            },
            "colorscale": [
             [
              0,
              "#0d0887"
             ],
             [
              0.1111111111111111,
              "#46039f"
             ],
             [
              0.2222222222222222,
              "#7201a8"
             ],
             [
              0.3333333333333333,
              "#9c179e"
             ],
             [
              0.4444444444444444,
              "#bd3786"
             ],
             [
              0.5555555555555556,
              "#d8576b"
             ],
             [
              0.6666666666666666,
              "#ed7953"
             ],
             [
              0.7777777777777778,
              "#fb9f3a"
             ],
             [
              0.8888888888888888,
              "#fdca26"
             ],
             [
              1,
              "#f0f921"
             ]
            ],
            "type": "heatmap"
           }
          ],
          "heatmapgl": [
           {
            "colorbar": {
             "outlinewidth": 0,
             "ticks": ""
            },
            "colorscale": [
             [
              0,
              "#0d0887"
             ],
             [
              0.1111111111111111,
              "#46039f"
             ],
             [
              0.2222222222222222,
              "#7201a8"
             ],
             [
              0.3333333333333333,
              "#9c179e"
             ],
             [
              0.4444444444444444,
              "#bd3786"
             ],
             [
              0.5555555555555556,
              "#d8576b"
             ],
             [
              0.6666666666666666,
              "#ed7953"
             ],
             [
              0.7777777777777778,
              "#fb9f3a"
             ],
             [
              0.8888888888888888,
              "#fdca26"
             ],
             [
              1,
              "#f0f921"
             ]
            ],
            "type": "heatmapgl"
           }
          ],
          "histogram": [
           {
            "marker": {
             "pattern": {
              "fillmode": "overlay",
              "size": 10,
              "solidity": 0.2
             }
            },
            "type": "histogram"
           }
          ],
          "histogram2d": [
           {
            "colorbar": {
             "outlinewidth": 0,
             "ticks": ""
            },
            "colorscale": [
             [
              0,
              "#0d0887"
             ],
             [
              0.1111111111111111,
              "#46039f"
             ],
             [
              0.2222222222222222,
              "#7201a8"
             ],
             [
              0.3333333333333333,
              "#9c179e"
             ],
             [
              0.4444444444444444,
              "#bd3786"
             ],
             [
              0.5555555555555556,
              "#d8576b"
             ],
             [
              0.6666666666666666,
              "#ed7953"
             ],
             [
              0.7777777777777778,
              "#fb9f3a"
             ],
             [
              0.8888888888888888,
              "#fdca26"
             ],
             [
              1,
              "#f0f921"
             ]
            ],
            "type": "histogram2d"
           }
          ],
          "histogram2dcontour": [
           {
            "colorbar": {
             "outlinewidth": 0,
             "ticks": ""
            },
            "colorscale": [
             [
              0,
              "#0d0887"
             ],
             [
              0.1111111111111111,
              "#46039f"
             ],
             [
              0.2222222222222222,
              "#7201a8"
             ],
             [
              0.3333333333333333,
              "#9c179e"
             ],
             [
              0.4444444444444444,
              "#bd3786"
             ],
             [
              0.5555555555555556,
              "#d8576b"
             ],
             [
              0.6666666666666666,
              "#ed7953"
             ],
             [
              0.7777777777777778,
              "#fb9f3a"
             ],
             [
              0.8888888888888888,
              "#fdca26"
             ],
             [
              1,
              "#f0f921"
             ]
            ],
            "type": "histogram2dcontour"
           }
          ],
          "mesh3d": [
           {
            "colorbar": {
             "outlinewidth": 0,
             "ticks": ""
            },
            "type": "mesh3d"
           }
          ],
          "parcoords": [
           {
            "line": {
             "colorbar": {
              "outlinewidth": 0,
              "ticks": ""
             }
            },
            "type": "parcoords"
           }
          ],
          "pie": [
           {
            "automargin": true,
            "type": "pie"
           }
          ],
          "scatter": [
           {
            "fillpattern": {
             "fillmode": "overlay",
             "size": 10,
             "solidity": 0.2
            },
            "type": "scatter"
           }
          ],
          "scatter3d": [
           {
            "line": {
             "colorbar": {
              "outlinewidth": 0,
              "ticks": ""
             }
            },
            "marker": {
             "colorbar": {
              "outlinewidth": 0,
              "ticks": ""
             }
            },
            "type": "scatter3d"
           }
          ],
          "scattercarpet": [
           {
            "marker": {
             "colorbar": {
              "outlinewidth": 0,
              "ticks": ""
             }
            },
            "type": "scattercarpet"
           }
          ],
          "scattergeo": [
           {
            "marker": {
             "colorbar": {
              "outlinewidth": 0,
              "ticks": ""
             }
            },
            "type": "scattergeo"
           }
          ],
          "scattergl": [
           {
            "marker": {
             "colorbar": {
              "outlinewidth": 0,
              "ticks": ""
             }
            },
            "type": "scattergl"
           }
          ],
          "scattermapbox": [
           {
            "marker": {
             "colorbar": {
              "outlinewidth": 0,
              "ticks": ""
             }
            },
            "type": "scattermapbox"
           }
          ],
          "scatterpolar": [
           {
            "marker": {
             "colorbar": {
              "outlinewidth": 0,
              "ticks": ""
             }
            },
            "type": "scatterpolar"
           }
          ],
          "scatterpolargl": [
           {
            "marker": {
             "colorbar": {
              "outlinewidth": 0,
              "ticks": ""
             }
            },
            "type": "scatterpolargl"
           }
          ],
          "scatterternary": [
           {
            "marker": {
             "colorbar": {
              "outlinewidth": 0,
              "ticks": ""
             }
            },
            "type": "scatterternary"
           }
          ],
          "surface": [
           {
            "colorbar": {
             "outlinewidth": 0,
             "ticks": ""
            },
            "colorscale": [
             [
              0,
              "#0d0887"
             ],
             [
              0.1111111111111111,
              "#46039f"
             ],
             [
              0.2222222222222222,
              "#7201a8"
             ],
             [
              0.3333333333333333,
              "#9c179e"
             ],
             [
              0.4444444444444444,
              "#bd3786"
             ],
             [
              0.5555555555555556,
              "#d8576b"
             ],
             [
              0.6666666666666666,
              "#ed7953"
             ],
             [
              0.7777777777777778,
              "#fb9f3a"
             ],
             [
              0.8888888888888888,
              "#fdca26"
             ],
             [
              1,
              "#f0f921"
             ]
            ],
            "type": "surface"
           }
          ],
          "table": [
           {
            "cells": {
             "fill": {
              "color": "#EBF0F8"
             },
             "line": {
              "color": "white"
             }
            },
            "header": {
             "fill": {
              "color": "#C8D4E3"
             },
             "line": {
              "color": "white"
             }
            },
            "type": "table"
           }
          ]
         },
         "layout": {
          "annotationdefaults": {
           "arrowcolor": "#2a3f5f",
           "arrowhead": 0,
           "arrowwidth": 1
          },
          "autotypenumbers": "strict",
          "coloraxis": {
           "colorbar": {
            "outlinewidth": 0,
            "ticks": ""
           }
          },
          "colorscale": {
           "diverging": [
            [
             0,
             "#8e0152"
            ],
            [
             0.1,
             "#c51b7d"
            ],
            [
             0.2,
             "#de77ae"
            ],
            [
             0.3,
             "#f1b6da"
            ],
            [
             0.4,
             "#fde0ef"
            ],
            [
             0.5,
             "#f7f7f7"
            ],
            [
             0.6,
             "#e6f5d0"
            ],
            [
             0.7,
             "#b8e186"
            ],
            [
             0.8,
             "#7fbc41"
            ],
            [
             0.9,
             "#4d9221"
            ],
            [
             1,
             "#276419"
            ]
           ],
           "sequential": [
            [
             0,
             "#0d0887"
            ],
            [
             0.1111111111111111,
             "#46039f"
            ],
            [
             0.2222222222222222,
             "#7201a8"
            ],
            [
             0.3333333333333333,
             "#9c179e"
            ],
            [
             0.4444444444444444,
             "#bd3786"
            ],
            [
             0.5555555555555556,
             "#d8576b"
            ],
            [
             0.6666666666666666,
             "#ed7953"
            ],
            [
             0.7777777777777778,
             "#fb9f3a"
            ],
            [
             0.8888888888888888,
             "#fdca26"
            ],
            [
             1,
             "#f0f921"
            ]
           ],
           "sequentialminus": [
            [
             0,
             "#0d0887"
            ],
            [
             0.1111111111111111,
             "#46039f"
            ],
            [
             0.2222222222222222,
             "#7201a8"
            ],
            [
             0.3333333333333333,
             "#9c179e"
            ],
            [
             0.4444444444444444,
             "#bd3786"
            ],
            [
             0.5555555555555556,
             "#d8576b"
            ],
            [
             0.6666666666666666,
             "#ed7953"
            ],
            [
             0.7777777777777778,
             "#fb9f3a"
            ],
            [
             0.8888888888888888,
             "#fdca26"
            ],
            [
             1,
             "#f0f921"
            ]
           ]
          },
          "colorway": [
           "#636efa",
           "#EF553B",
           "#00cc96",
           "#ab63fa",
           "#FFA15A",
           "#19d3f3",
           "#FF6692",
           "#B6E880",
           "#FF97FF",
           "#FECB52"
          ],
          "font": {
           "color": "#2a3f5f"
          },
          "geo": {
           "bgcolor": "white",
           "lakecolor": "white",
           "landcolor": "#E5ECF6",
           "showlakes": true,
           "showland": true,
           "subunitcolor": "white"
          },
          "hoverlabel": {
           "align": "left"
          },
          "hovermode": "closest",
          "mapbox": {
           "style": "light"
          },
          "paper_bgcolor": "white",
          "plot_bgcolor": "#E5ECF6",
          "polar": {
           "angularaxis": {
            "gridcolor": "white",
            "linecolor": "white",
            "ticks": ""
           },
           "bgcolor": "#E5ECF6",
           "radialaxis": {
            "gridcolor": "white",
            "linecolor": "white",
            "ticks": ""
           }
          },
          "scene": {
           "xaxis": {
            "backgroundcolor": "#E5ECF6",
            "gridcolor": "white",
            "gridwidth": 2,
            "linecolor": "white",
            "showbackground": true,
            "ticks": "",
            "zerolinecolor": "white"
           },
           "yaxis": {
            "backgroundcolor": "#E5ECF6",
            "gridcolor": "white",
            "gridwidth": 2,
            "linecolor": "white",
            "showbackground": true,
            "ticks": "",
            "zerolinecolor": "white"
           },
           "zaxis": {
            "backgroundcolor": "#E5ECF6",
            "gridcolor": "white",
            "gridwidth": 2,
            "linecolor": "white",
            "showbackground": true,
            "ticks": "",
            "zerolinecolor": "white"
           }
          },
          "shapedefaults": {
           "line": {
            "color": "#2a3f5f"
           }
          },
          "ternary": {
           "aaxis": {
            "gridcolor": "white",
            "linecolor": "white",
            "ticks": ""
           },
           "baxis": {
            "gridcolor": "white",
            "linecolor": "white",
            "ticks": ""
           },
           "bgcolor": "#E5ECF6",
           "caxis": {
            "gridcolor": "white",
            "linecolor": "white",
            "ticks": ""
           }
          },
          "title": {
           "x": 0.05
          },
          "xaxis": {
           "automargin": true,
           "gridcolor": "white",
           "linecolor": "white",
           "ticks": "",
           "title": {
            "standoff": 15
           },
           "zerolinecolor": "white",
           "zerolinewidth": 2
          },
          "yaxis": {
           "automargin": true,
           "gridcolor": "white",
           "linecolor": "white",
           "ticks": "",
           "title": {
            "standoff": 15
           },
           "zerolinecolor": "white",
           "zerolinewidth": 2
          }
         }
        },
        "title": {
         "text": "DNA Damage Foci nr in All Nuclei by Tissue Location and Genotype (separated by sex) - Auto stain QC - cellpdia30_sigma1_dilrad4_dnad_obj_seg_v1_gliaero6_gliathr20_dnadero2"
        },
        "xaxis": {
         "anchor": "y",
         "categoryarray": [
          "male - CA1",
          "female - CA1",
          "male - CA3",
          "female - CA3",
          "male - CTX1",
          "female - CTX1",
          "male - CTX2",
          "female - CTX2",
          "male - CTX3",
          "female - CTX3",
          "male - DG",
          "female - DG"
         ],
         "categoryorder": "array",
         "domain": [
          0,
          1
         ],
         "title": {
          "text": "sex_tissue"
         }
        },
        "yaxis": {
         "anchor": "x",
         "domain": [
          0,
          1
         ],
         "title": {
          "text": "avg_dna_damage_foci/all_nuclei"
         }
        }
       }
      }
     },
     "metadata": {},
     "output_type": "display_data"
    }
   ],
   "source": [
    "# Create the boxplot with ordered categories\n",
    "fig = px.box(auto_filtered_df, x='sex_tissue', y='avg_dna_damage_foci/all_nuclei',\n",
    "             color='genotype',  # Different genotypes will be shown in different colors\n",
    "             category_orders={'sex_tissue': categories},  # Ensuring the specified order\n",
    "             title=f'DNA Damage Foci nr in All Nuclei by Tissue Location and Genotype (separated by sex) - Auto stain QC - {parameters_title}')\n",
    "\n",
    "# Show the plot\n",
    "fig.show()"
   ]
  },
  {
   "cell_type": "code",
   "execution_count": 35,
   "metadata": {},
   "outputs": [
    {
     "data": {
      "application/vnd.plotly.v1+json": {
       "config": {
        "plotlyServerURL": "https://plot.ly"
       },
       "data": [
        {
         "alignmentgroup": "True",
         "hovertemplate": "genotype=APP/PS1<br>sex_tissue=%{x}<br>avg_dna_damage_foci/all_nuclei_damage_+=%{y}<extra></extra>",
         "legendgroup": "APP/PS1",
         "marker": {
          "color": "#636efa"
         },
         "name": "APP/PS1",
         "notched": false,
         "offsetgroup": "APP/PS1",
         "orientation": "v",
         "showlegend": true,
         "type": "box",
         "x": [
          "female - CA1",
          "female - CA3",
          "female - CTX1",
          "female - CTX2",
          "female - CTX3",
          "female - DG",
          "male - CA1",
          "male - CA3",
          "male - CTX1",
          "male - CTX2",
          "male - CTX3",
          "male - DG",
          "male - CA1",
          "male - CA3",
          "male - CTX1",
          "male - CTX2",
          "male - CTX3",
          "male - CA1",
          "male - CA3",
          "male - CTX1",
          "male - CTX2",
          "male - CTX3",
          "male - DG",
          "female - CA1",
          "female - CA3",
          "female - CTX1",
          "female - CTX2",
          "female - CTX3",
          "female - DG",
          "male - CA1",
          "male - CA3",
          "male - CTX1",
          "male - CTX2",
          "male - CTX3",
          "male - DG",
          "male - CA1",
          "male - CA3",
          "male - CTX1",
          "male - CTX2",
          "male - CTX3",
          "male - DG",
          "male - CA1",
          "male - CA3",
          "male - CTX1",
          "male - CTX2",
          "male - CTX3",
          "male - DG",
          "female - CA1",
          "female - CA3",
          "female - CTX1",
          "female - CTX2",
          "female - CTX3",
          "female - DG",
          "male - CA1",
          "male - CA3",
          "male - CTX1",
          "male - CTX2",
          "male - CTX3",
          "male - DG",
          "male - CA1",
          "male - CA3",
          "male - CTX1",
          "male - CTX2",
          "male - CTX3",
          "male - DG",
          "male - CA1",
          "male - CA3",
          "male - CTX1",
          "male - CTX2",
          "male - CTX3",
          "male - DG",
          "female - CA1",
          "female - CA3",
          "female - CTX1",
          "female - CTX2",
          "female - CTX3",
          "female - DG",
          "female - CA1",
          "female - CA3",
          "female - CTX1",
          "female - CTX2",
          "female - CTX3",
          "female - DG",
          "female - CA1",
          "female - CA3",
          "female - CTX1",
          "female - CTX2",
          "female - CTX3",
          "female - DG",
          "male - CA1",
          "male - CA3",
          "male - CTX1",
          "male - CTX2",
          "male - CTX3",
          "male - DG",
          "male - CA1",
          "male - CA3",
          "male - CTX1",
          "male - CTX2",
          "male - CTX3",
          "male - DG",
          "female - CA1",
          "female - CA3",
          "female - CTX1",
          "female - CTX2",
          "female - CTX3",
          "female - DG",
          "male - CA1",
          "male - CA3",
          "male - CTX1",
          "male - CTX2",
          "male - CTX3",
          "male - DG",
          "male - CA1",
          "male - CA3",
          "male - CTX1",
          "male - CTX2",
          "male - CTX3",
          "male - DG",
          "male - CA1",
          "male - CA3",
          "male - CTX1",
          "male - CTX2",
          "male - CTX3",
          "male - DG",
          "female - CA1",
          "female - CA3",
          "female - CTX1",
          "female - CTX2",
          "female - CTX3",
          "female - DG",
          "female - CA1",
          "female - CA3",
          "female - CTX1",
          "female - CTX2",
          "female - CTX3",
          "female - DG"
         ],
         "x0": " ",
         "xaxis": "x",
         "y": [
          1.4098360655737705,
          1.513157894736842,
          1.415929203539823,
          1.4076433121019107,
          1.3014705882352942,
          1.5350553505535056,
          1.1451612903225807,
          1.5616438356164384,
          1.2980769230769231,
          1.425,
          1.431372549019608,
          1.523076923076923,
          1.1746031746031746,
          1.431372549019608,
          1.1884057971014492,
          1.736842105263158,
          1.5384615384615383,
          1.325,
          1.4871794871794872,
          1.2191780821917808,
          1.4489795918367347,
          1.313868613138686,
          1.5625,
          1.9626168224299063,
          2.25,
          2.045751633986928,
          2.0145985401459856,
          1.32,
          1.9313432835820896,
          1.3043478260869563,
          1.5416666666666667,
          1.15625,
          1.125,
          1.4444444444444444,
          1.4622356495468278,
          1.6031746031746033,
          1.4375,
          1.2962962962962965,
          1.3563218390804597,
          1.793103448275862,
          1.2413793103448276,
          2.259259259259259,
          3.058139534883721,
          1.265625,
          2.7142857142857144,
          2.8541666666666665,
          2.2698412698412698,
          1.3392857142857142,
          1.5714285714285714,
          1.181818181818182,
          1.3235294117647058,
          1.351851851851852,
          1.7387755102040816,
          1.5555555555555556,
          1.487394957983193,
          1.1794871794871795,
          1.2735042735042734,
          1.6144578313253013,
          1.940959409594096,
          4.151685393258427,
          5.65587044534413,
          3.763779527559055,
          3.456,
          2.425641025641025,
          4.219814241486068,
          1.5042735042735045,
          1.546875,
          2.4730538922155687,
          1.720496894409938,
          1.5923076923076922,
          1.9515570934256052,
          2.2427184466019416,
          2.95,
          2.2666666666666666,
          2.6283185840707963,
          2.115702479338843,
          2.2904290429042904,
          1.2580645161290325,
          1.607843137254902,
          1.1071428571428572,
          1.1875,
          1.0277777777777777,
          1.3533834586466165,
          1.1538461538461535,
          1.66,
          1.1578947368421053,
          1.2272727272727273,
          1.375,
          1.4227272727272726,
          1.068181818181818,
          1.7551020408163265,
          2.143835616438356,
          1.1857142857142855,
          1.779816513761468,
          2.7363344051446945,
          2.475,
          4.888888888888889,
          1.5539568345323742,
          3.2452107279693485,
          2.065934065934066,
          3.9820359281437128,
          1.5813953488372092,
          1.425,
          1.261904761904762,
          1.2547770700636942,
          1.3208955223880596,
          2.0743034055727554,
          1.148936170212766,
          1.484375,
          1.2,
          1.0425531914893618,
          1.28125,
          1.3875,
          4.110344827586207,
          4.413043478260869,
          2.6201923076923075,
          2.279220779220779,
          2.436893203883495,
          3.605363984674329,
          1.2982456140350878,
          1.588235294117647,
          1.4565217391304348,
          1.3777777777777778,
          1.4719101123595506,
          1.6041666666666667,
          1.2075471698113207,
          1.5526315789473684,
          1,
          1.3950617283950617,
          1.3333333333333333,
          1.3534136546184738,
          1.2121212121212122,
          1.5636363636363635,
          1.2328767123287672,
          1.1232876712328768,
          1.2115384615384617,
          1.4396135265700485
         ],
         "y0": " ",
         "yaxis": "y"
        },
        {
         "alignmentgroup": "True",
         "hovertemplate": "genotype=APP/PS1 x Neil3 KO<br>sex_tissue=%{x}<br>avg_dna_damage_foci/all_nuclei_damage_+=%{y}<extra></extra>",
         "legendgroup": "APP/PS1 x Neil3 KO",
         "marker": {
          "color": "#EF553B"
         },
         "name": "APP/PS1 x Neil3 KO",
         "notched": false,
         "offsetgroup": "APP/PS1 x Neil3 KO",
         "orientation": "v",
         "showlegend": true,
         "type": "box",
         "x": [
          "male - CA1",
          "male - CA3",
          "male - CTX1",
          "male - CTX2",
          "male - CTX3",
          "male - DG",
          "male - CA1",
          "male - CA3",
          "male - CTX1",
          "male - CTX2",
          "male - CTX3",
          "male - DG",
          "female - CA1",
          "female - CA3",
          "female - CTX1",
          "female - CTX2",
          "female - CTX3",
          "female - DG",
          "male - CA1",
          "male - CA3",
          "male - CTX1",
          "male - CTX2",
          "male - CTX3",
          "male - DG",
          "male - CA1",
          "male - CA3",
          "male - CTX1",
          "male - CTX2",
          "male - CTX3",
          "male - DG",
          "female - CA1",
          "female - CA3",
          "female - CTX1",
          "female - CTX2",
          "female - CTX3",
          "female - DG",
          "male - CA1",
          "male - CA3",
          "male - CTX1",
          "male - CTX2",
          "male - CTX3",
          "male - DG",
          "female - CA1",
          "female - CA3",
          "female - CTX1",
          "female - CTX2",
          "female - CTX3",
          "female - DG",
          "female - CA1",
          "female - CA3",
          "female - CTX1",
          "female - CTX2",
          "female - CTX3",
          "female - DG",
          "male - CA1",
          "male - CA3",
          "male - CTX1",
          "male - CTX2",
          "male - CTX3",
          "male - DG",
          "female - CA1",
          "female - CA3",
          "female - CTX1",
          "female - CTX2",
          "female - CTX3",
          "female - DG",
          "male - CA1",
          "male - CA3",
          "male - CTX1",
          "male - CTX2",
          "male - CTX3",
          "male - DG",
          "female - CA1",
          "female - CA3",
          "female - CTX1",
          "female - CTX2",
          "female - CTX3",
          "female - DG",
          "female - CA1",
          "female - CA3",
          "female - CTX1",
          "female - CTX2",
          "female - CTX3",
          "female - DG",
          "male - CA1",
          "male - CA3",
          "male - CTX1",
          "male - CTX2",
          "male - CTX3",
          "male - DG",
          "male - CA1",
          "male - CA3",
          "male - CTX1",
          "male - CTX2",
          "male - CTX3",
          "male - DG",
          "female - CA1",
          "female - CA3",
          "female - CTX1",
          "female - CTX2",
          "female - CTX3",
          "female - DG"
         ],
         "x0": " ",
         "xaxis": "x",
         "y": [
          1.160493827160494,
          1.547945205479452,
          1.088235294117647,
          1.6045197740112995,
          1.5221238938053097,
          1.6573426573426573,
          1.1111111111111112,
          1.788990825688073,
          1.2894736842105263,
          1.75,
          1.381578947368421,
          1.6050420168067228,
          1.098360655737705,
          1.3333333333333333,
          1.1666666666666667,
          1.27,
          1.5789473684210529,
          1.5260869565217392,
          1.2125,
          1.8870967741935485,
          1.2307692307692308,
          1.763779527559055,
          1.518181818181818,
          1.5261707988980715,
          1.3037974683544304,
          2.126760563380281,
          1.2289156626506024,
          1.6037735849056605,
          1.3611111111111112,
          1.7682119205298013,
          1.3333333333333333,
          1.7833333333333334,
          1.376237623762376,
          1.3410852713178294,
          2.019230769230769,
          1.4793650793650794,
          1.2545454545454546,
          1.3461538461538465,
          1.44,
          1.9393939393939397,
          1.8928571428571428,
          2.686153846153846,
          1.2921348314606742,
          1.4901960784313726,
          1.462962962962963,
          1.6934306569343065,
          1.3157894736842106,
          1.4363636363636365,
          1.3333333333333333,
          1.462809917355372,
          1.2295081967213115,
          1.9770992366412212,
          1.5172413793103448,
          1.8706896551724137,
          1.1041666666666667,
          1.3333333333333333,
          1.3376623376623376,
          1.240506329113924,
          1.2903225806451613,
          1.5142857142857142,
          1.1898734177215189,
          1.351351351351351,
          1,
          1.1304347826086956,
          1.1904761904761905,
          1.413919413919414,
          2.691666666666667,
          2.4423076923076925,
          1.4352941176470588,
          1.2318840579710144,
          1.3676470588235294,
          2.563025210084034,
          1.2173913043478262,
          1.3409090909090908,
          1,
          1.1025641025641026,
          1.4245283018867925,
          1.1513157894736843,
          1.1304347826086956,
          1.5,
          1.44,
          1.2253521126760565,
          1.3421052631578947,
          1.2057142857142855,
          3.7383177570093458,
          5.458015267175573,
          1.3611111111111112,
          1.3013698630136987,
          1.15625,
          2.793103448275862,
          1.2153846153846153,
          1.4776119402985075,
          1.3174603174603174,
          1.4678899082568808,
          1.313253012048193,
          1.2780748663101604,
          1.2413793103448276,
          1.25,
          1.2169811320754718,
          1.2040816326530612,
          1.2407407407407407,
          1.360323886639676
         ],
         "y0": " ",
         "yaxis": "y"
        }
       ],
       "layout": {
        "boxmode": "group",
        "legend": {
         "title": {
          "text": "genotype"
         },
         "tracegroupgap": 0
        },
        "template": {
         "data": {
          "bar": [
           {
            "error_x": {
             "color": "#2a3f5f"
            },
            "error_y": {
             "color": "#2a3f5f"
            },
            "marker": {
             "line": {
              "color": "#E5ECF6",
              "width": 0.5
             },
             "pattern": {
              "fillmode": "overlay",
              "size": 10,
              "solidity": 0.2
             }
            },
            "type": "bar"
           }
          ],
          "barpolar": [
           {
            "marker": {
             "line": {
              "color": "#E5ECF6",
              "width": 0.5
             },
             "pattern": {
              "fillmode": "overlay",
              "size": 10,
              "solidity": 0.2
             }
            },
            "type": "barpolar"
           }
          ],
          "carpet": [
           {
            "aaxis": {
             "endlinecolor": "#2a3f5f",
             "gridcolor": "white",
             "linecolor": "white",
             "minorgridcolor": "white",
             "startlinecolor": "#2a3f5f"
            },
            "baxis": {
             "endlinecolor": "#2a3f5f",
             "gridcolor": "white",
             "linecolor": "white",
             "minorgridcolor": "white",
             "startlinecolor": "#2a3f5f"
            },
            "type": "carpet"
           }
          ],
          "choropleth": [
           {
            "colorbar": {
             "outlinewidth": 0,
             "ticks": ""
            },
            "type": "choropleth"
           }
          ],
          "contour": [
           {
            "colorbar": {
             "outlinewidth": 0,
             "ticks": ""
            },
            "colorscale": [
             [
              0,
              "#0d0887"
             ],
             [
              0.1111111111111111,
              "#46039f"
             ],
             [
              0.2222222222222222,
              "#7201a8"
             ],
             [
              0.3333333333333333,
              "#9c179e"
             ],
             [
              0.4444444444444444,
              "#bd3786"
             ],
             [
              0.5555555555555556,
              "#d8576b"
             ],
             [
              0.6666666666666666,
              "#ed7953"
             ],
             [
              0.7777777777777778,
              "#fb9f3a"
             ],
             [
              0.8888888888888888,
              "#fdca26"
             ],
             [
              1,
              "#f0f921"
             ]
            ],
            "type": "contour"
           }
          ],
          "contourcarpet": [
           {
            "colorbar": {
             "outlinewidth": 0,
             "ticks": ""
            },
            "type": "contourcarpet"
           }
          ],
          "heatmap": [
           {
            "colorbar": {
             "outlinewidth": 0,
             "ticks": ""
            },
            "colorscale": [
             [
              0,
              "#0d0887"
             ],
             [
              0.1111111111111111,
              "#46039f"
             ],
             [
              0.2222222222222222,
              "#7201a8"
             ],
             [
              0.3333333333333333,
              "#9c179e"
             ],
             [
              0.4444444444444444,
              "#bd3786"
             ],
             [
              0.5555555555555556,
              "#d8576b"
             ],
             [
              0.6666666666666666,
              "#ed7953"
             ],
             [
              0.7777777777777778,
              "#fb9f3a"
             ],
             [
              0.8888888888888888,
              "#fdca26"
             ],
             [
              1,
              "#f0f921"
             ]
            ],
            "type": "heatmap"
           }
          ],
          "heatmapgl": [
           {
            "colorbar": {
             "outlinewidth": 0,
             "ticks": ""
            },
            "colorscale": [
             [
              0,
              "#0d0887"
             ],
             [
              0.1111111111111111,
              "#46039f"
             ],
             [
              0.2222222222222222,
              "#7201a8"
             ],
             [
              0.3333333333333333,
              "#9c179e"
             ],
             [
              0.4444444444444444,
              "#bd3786"
             ],
             [
              0.5555555555555556,
              "#d8576b"
             ],
             [
              0.6666666666666666,
              "#ed7953"
             ],
             [
              0.7777777777777778,
              "#fb9f3a"
             ],
             [
              0.8888888888888888,
              "#fdca26"
             ],
             [
              1,
              "#f0f921"
             ]
            ],
            "type": "heatmapgl"
           }
          ],
          "histogram": [
           {
            "marker": {
             "pattern": {
              "fillmode": "overlay",
              "size": 10,
              "solidity": 0.2
             }
            },
            "type": "histogram"
           }
          ],
          "histogram2d": [
           {
            "colorbar": {
             "outlinewidth": 0,
             "ticks": ""
            },
            "colorscale": [
             [
              0,
              "#0d0887"
             ],
             [
              0.1111111111111111,
              "#46039f"
             ],
             [
              0.2222222222222222,
              "#7201a8"
             ],
             [
              0.3333333333333333,
              "#9c179e"
             ],
             [
              0.4444444444444444,
              "#bd3786"
             ],
             [
              0.5555555555555556,
              "#d8576b"
             ],
             [
              0.6666666666666666,
              "#ed7953"
             ],
             [
              0.7777777777777778,
              "#fb9f3a"
             ],
             [
              0.8888888888888888,
              "#fdca26"
             ],
             [
              1,
              "#f0f921"
             ]
            ],
            "type": "histogram2d"
           }
          ],
          "histogram2dcontour": [
           {
            "colorbar": {
             "outlinewidth": 0,
             "ticks": ""
            },
            "colorscale": [
             [
              0,
              "#0d0887"
             ],
             [
              0.1111111111111111,
              "#46039f"
             ],
             [
              0.2222222222222222,
              "#7201a8"
             ],
             [
              0.3333333333333333,
              "#9c179e"
             ],
             [
              0.4444444444444444,
              "#bd3786"
             ],
             [
              0.5555555555555556,
              "#d8576b"
             ],
             [
              0.6666666666666666,
              "#ed7953"
             ],
             [
              0.7777777777777778,
              "#fb9f3a"
             ],
             [
              0.8888888888888888,
              "#fdca26"
             ],
             [
              1,
              "#f0f921"
             ]
            ],
            "type": "histogram2dcontour"
           }
          ],
          "mesh3d": [
           {
            "colorbar": {
             "outlinewidth": 0,
             "ticks": ""
            },
            "type": "mesh3d"
           }
          ],
          "parcoords": [
           {
            "line": {
             "colorbar": {
              "outlinewidth": 0,
              "ticks": ""
             }
            },
            "type": "parcoords"
           }
          ],
          "pie": [
           {
            "automargin": true,
            "type": "pie"
           }
          ],
          "scatter": [
           {
            "fillpattern": {
             "fillmode": "overlay",
             "size": 10,
             "solidity": 0.2
            },
            "type": "scatter"
           }
          ],
          "scatter3d": [
           {
            "line": {
             "colorbar": {
              "outlinewidth": 0,
              "ticks": ""
             }
            },
            "marker": {
             "colorbar": {
              "outlinewidth": 0,
              "ticks": ""
             }
            },
            "type": "scatter3d"
           }
          ],
          "scattercarpet": [
           {
            "marker": {
             "colorbar": {
              "outlinewidth": 0,
              "ticks": ""
             }
            },
            "type": "scattercarpet"
           }
          ],
          "scattergeo": [
           {
            "marker": {
             "colorbar": {
              "outlinewidth": 0,
              "ticks": ""
             }
            },
            "type": "scattergeo"
           }
          ],
          "scattergl": [
           {
            "marker": {
             "colorbar": {
              "outlinewidth": 0,
              "ticks": ""
             }
            },
            "type": "scattergl"
           }
          ],
          "scattermapbox": [
           {
            "marker": {
             "colorbar": {
              "outlinewidth": 0,
              "ticks": ""
             }
            },
            "type": "scattermapbox"
           }
          ],
          "scatterpolar": [
           {
            "marker": {
             "colorbar": {
              "outlinewidth": 0,
              "ticks": ""
             }
            },
            "type": "scatterpolar"
           }
          ],
          "scatterpolargl": [
           {
            "marker": {
             "colorbar": {
              "outlinewidth": 0,
              "ticks": ""
             }
            },
            "type": "scatterpolargl"
           }
          ],
          "scatterternary": [
           {
            "marker": {
             "colorbar": {
              "outlinewidth": 0,
              "ticks": ""
             }
            },
            "type": "scatterternary"
           }
          ],
          "surface": [
           {
            "colorbar": {
             "outlinewidth": 0,
             "ticks": ""
            },
            "colorscale": [
             [
              0,
              "#0d0887"
             ],
             [
              0.1111111111111111,
              "#46039f"
             ],
             [
              0.2222222222222222,
              "#7201a8"
             ],
             [
              0.3333333333333333,
              "#9c179e"
             ],
             [
              0.4444444444444444,
              "#bd3786"
             ],
             [
              0.5555555555555556,
              "#d8576b"
             ],
             [
              0.6666666666666666,
              "#ed7953"
             ],
             [
              0.7777777777777778,
              "#fb9f3a"
             ],
             [
              0.8888888888888888,
              "#fdca26"
             ],
             [
              1,
              "#f0f921"
             ]
            ],
            "type": "surface"
           }
          ],
          "table": [
           {
            "cells": {
             "fill": {
              "color": "#EBF0F8"
             },
             "line": {
              "color": "white"
             }
            },
            "header": {
             "fill": {
              "color": "#C8D4E3"
             },
             "line": {
              "color": "white"
             }
            },
            "type": "table"
           }
          ]
         },
         "layout": {
          "annotationdefaults": {
           "arrowcolor": "#2a3f5f",
           "arrowhead": 0,
           "arrowwidth": 1
          },
          "autotypenumbers": "strict",
          "coloraxis": {
           "colorbar": {
            "outlinewidth": 0,
            "ticks": ""
           }
          },
          "colorscale": {
           "diverging": [
            [
             0,
             "#8e0152"
            ],
            [
             0.1,
             "#c51b7d"
            ],
            [
             0.2,
             "#de77ae"
            ],
            [
             0.3,
             "#f1b6da"
            ],
            [
             0.4,
             "#fde0ef"
            ],
            [
             0.5,
             "#f7f7f7"
            ],
            [
             0.6,
             "#e6f5d0"
            ],
            [
             0.7,
             "#b8e186"
            ],
            [
             0.8,
             "#7fbc41"
            ],
            [
             0.9,
             "#4d9221"
            ],
            [
             1,
             "#276419"
            ]
           ],
           "sequential": [
            [
             0,
             "#0d0887"
            ],
            [
             0.1111111111111111,
             "#46039f"
            ],
            [
             0.2222222222222222,
             "#7201a8"
            ],
            [
             0.3333333333333333,
             "#9c179e"
            ],
            [
             0.4444444444444444,
             "#bd3786"
            ],
            [
             0.5555555555555556,
             "#d8576b"
            ],
            [
             0.6666666666666666,
             "#ed7953"
            ],
            [
             0.7777777777777778,
             "#fb9f3a"
            ],
            [
             0.8888888888888888,
             "#fdca26"
            ],
            [
             1,
             "#f0f921"
            ]
           ],
           "sequentialminus": [
            [
             0,
             "#0d0887"
            ],
            [
             0.1111111111111111,
             "#46039f"
            ],
            [
             0.2222222222222222,
             "#7201a8"
            ],
            [
             0.3333333333333333,
             "#9c179e"
            ],
            [
             0.4444444444444444,
             "#bd3786"
            ],
            [
             0.5555555555555556,
             "#d8576b"
            ],
            [
             0.6666666666666666,
             "#ed7953"
            ],
            [
             0.7777777777777778,
             "#fb9f3a"
            ],
            [
             0.8888888888888888,
             "#fdca26"
            ],
            [
             1,
             "#f0f921"
            ]
           ]
          },
          "colorway": [
           "#636efa",
           "#EF553B",
           "#00cc96",
           "#ab63fa",
           "#FFA15A",
           "#19d3f3",
           "#FF6692",
           "#B6E880",
           "#FF97FF",
           "#FECB52"
          ],
          "font": {
           "color": "#2a3f5f"
          },
          "geo": {
           "bgcolor": "white",
           "lakecolor": "white",
           "landcolor": "#E5ECF6",
           "showlakes": true,
           "showland": true,
           "subunitcolor": "white"
          },
          "hoverlabel": {
           "align": "left"
          },
          "hovermode": "closest",
          "mapbox": {
           "style": "light"
          },
          "paper_bgcolor": "white",
          "plot_bgcolor": "#E5ECF6",
          "polar": {
           "angularaxis": {
            "gridcolor": "white",
            "linecolor": "white",
            "ticks": ""
           },
           "bgcolor": "#E5ECF6",
           "radialaxis": {
            "gridcolor": "white",
            "linecolor": "white",
            "ticks": ""
           }
          },
          "scene": {
           "xaxis": {
            "backgroundcolor": "#E5ECF6",
            "gridcolor": "white",
            "gridwidth": 2,
            "linecolor": "white",
            "showbackground": true,
            "ticks": "",
            "zerolinecolor": "white"
           },
           "yaxis": {
            "backgroundcolor": "#E5ECF6",
            "gridcolor": "white",
            "gridwidth": 2,
            "linecolor": "white",
            "showbackground": true,
            "ticks": "",
            "zerolinecolor": "white"
           },
           "zaxis": {
            "backgroundcolor": "#E5ECF6",
            "gridcolor": "white",
            "gridwidth": 2,
            "linecolor": "white",
            "showbackground": true,
            "ticks": "",
            "zerolinecolor": "white"
           }
          },
          "shapedefaults": {
           "line": {
            "color": "#2a3f5f"
           }
          },
          "ternary": {
           "aaxis": {
            "gridcolor": "white",
            "linecolor": "white",
            "ticks": ""
           },
           "baxis": {
            "gridcolor": "white",
            "linecolor": "white",
            "ticks": ""
           },
           "bgcolor": "#E5ECF6",
           "caxis": {
            "gridcolor": "white",
            "linecolor": "white",
            "ticks": ""
           }
          },
          "title": {
           "x": 0.05
          },
          "xaxis": {
           "automargin": true,
           "gridcolor": "white",
           "linecolor": "white",
           "ticks": "",
           "title": {
            "standoff": 15
           },
           "zerolinecolor": "white",
           "zerolinewidth": 2
          },
          "yaxis": {
           "automargin": true,
           "gridcolor": "white",
           "linecolor": "white",
           "ticks": "",
           "title": {
            "standoff": 15
           },
           "zerolinecolor": "white",
           "zerolinewidth": 2
          }
         }
        },
        "title": {
         "text": "DNA Damage Foci nr in Damage+ Nuclei by Tissue Location and Genotype (separated by sex) - Auto stain QC - cellpdia30_sigma1_dilrad4_dnad_obj_seg_v1_gliaero6_gliathr20_dnadero2"
        },
        "xaxis": {
         "anchor": "y",
         "categoryarray": [
          "male - CA1",
          "female - CA1",
          "male - CA3",
          "female - CA3",
          "male - CTX1",
          "female - CTX1",
          "male - CTX2",
          "female - CTX2",
          "male - CTX3",
          "female - CTX3",
          "male - DG",
          "female - DG"
         ],
         "categoryorder": "array",
         "domain": [
          0,
          1
         ],
         "title": {
          "text": "sex_tissue"
         }
        },
        "yaxis": {
         "anchor": "x",
         "domain": [
          0,
          1
         ],
         "title": {
          "text": "avg_dna_damage_foci/all_nuclei_damage_+"
         }
        }
       }
      }
     },
     "metadata": {},
     "output_type": "display_data"
    }
   ],
   "source": [
    "# Create the boxplot with ordered categories\n",
    "fig = px.box(auto_filtered_df, x='sex_tissue', y='avg_dna_damage_foci/all_nuclei_damage_+',\n",
    "             color='genotype',  # Different genotypes will be shown in different colors\n",
    "             category_orders={'sex_tissue': categories},  # Ensuring the specified order\n",
    "             title=f'DNA Damage Foci nr in Damage+ Nuclei by Tissue Location and Genotype (separated by sex) - Auto stain QC - {parameters_title}')\n",
    "\n",
    "# Show the plot\n",
    "fig.show()"
   ]
  },
  {
   "cell_type": "code",
   "execution_count": 25,
   "metadata": {},
   "outputs": [
    {
     "data": {
      "application/vnd.plotly.v1+json": {
       "config": {
        "plotlyServerURL": "https://plot.ly"
       },
       "data": [
        {
         "alignmentgroup": "True",
         "hovertemplate": "genotype=APP/PS1<br>tissue_location=%{x}<br>damage_load_ratio=%{y}<extra></extra>",
         "legendgroup": "APP/PS1",
         "marker": {
          "color": "#636efa"
         },
         "name": "APP/PS1",
         "notched": false,
         "offsetgroup": "APP/PS1",
         "orientation": "v",
         "showlegend": true,
         "type": "box",
         "x": [
          "CA1",
          "CA3",
          "CTX1",
          "CTX2",
          "CTX3",
          "DG",
          "CA1",
          "CA3",
          "CTX1",
          "CTX2",
          "CTX3",
          "DG",
          "CA1",
          "CA3",
          "CTX1",
          "CTX2",
          "CTX3",
          "CA1",
          "CA3",
          "CTX1",
          "CTX2",
          "CTX3",
          "DG",
          "CA1",
          "CA3",
          "CTX1",
          "CTX2",
          "CTX3",
          "DG",
          "CA1",
          "CA3",
          "CTX1",
          "CTX2",
          "CTX3",
          "DG",
          "CA1",
          "CA3",
          "CTX1",
          "CTX2",
          "CTX3",
          "DG",
          "CA1",
          "CA3",
          "CTX1",
          "CTX2",
          "CTX3",
          "DG",
          "CA1",
          "CA3",
          "CTX1",
          "CTX2",
          "CTX3",
          "DG",
          "CA1",
          "CA3",
          "CTX1",
          "CTX2",
          "CTX3",
          "DG",
          "CA1",
          "CA3",
          "CTX1",
          "CTX2",
          "CTX3",
          "DG",
          "CA1",
          "CA3",
          "CTX1",
          "CTX2",
          "CTX3",
          "DG",
          "CA1",
          "CA3",
          "CTX1",
          "CTX2",
          "CTX3",
          "DG",
          "CA1",
          "CA3",
          "CTX1",
          "CTX2",
          "CTX3",
          "DG",
          "CA1",
          "CA3",
          "CTX1",
          "CTX2",
          "CTX3",
          "DG",
          "CA1",
          "CA3",
          "CTX1",
          "CTX2",
          "CTX3",
          "DG",
          "CA1",
          "CA3",
          "CTX1",
          "CTX2",
          "CTX3",
          "DG",
          "CA1",
          "CA3",
          "CTX1",
          "CTX2",
          "CTX3",
          "DG",
          "CA1",
          "CA3",
          "CTX1",
          "CTX2",
          "CTX3",
          "DG",
          "CA1",
          "CA3",
          "CTX1",
          "CTX2",
          "CTX3",
          "DG",
          "CA1",
          "CA3",
          "CTX1",
          "CTX2",
          "CTX3",
          "DG",
          "CA1",
          "CA3",
          "CTX1",
          "CTX2",
          "CTX3",
          "DG",
          "CA1",
          "CA3",
          "CTX1",
          "CTX2",
          "CTX3",
          "DG"
         ],
         "x0": " ",
         "xaxis": "x",
         "y": [
          0.4066666666666667,
          0.6178861788617886,
          0.6766467065868264,
          0.6382113821138211,
          0.5836909871244635,
          0.8495297805642633,
          0.3246073298429319,
          0.5703125,
          0.5502645502645502,
          0.5460750853242321,
          0.6144578313253012,
          0.8507853403141361,
          0.525,
          0.5483870967741935,
          0.4035087719298245,
          0.6477272727272727,
          0.6,
          0.5369127516778524,
          0.6190476190476191,
          0.474025974025974,
          0.7101449275362319,
          0.5732217573221757,
          0.8168168168168168,
          0.6149425287356322,
          0.5467625899280576,
          0.6296296296296297,
          0.5189393939393939,
          0.2976190476190476,
          0.8481012658227848,
          0.5073529411764706,
          0.4210526315789473,
          0.3350785340314136,
          0.0666666666666666,
          0.5472972972972973,
          0.7715617715617715,
          0.3519553072625698,
          0.417391304347826,
          0.149171270718232,
          0.3359073359073359,
          0.3052631578947368,
          0.1086142322097378,
          0.7152317880794702,
          0.6277372262773723,
          0.4812030075187969,
          0.65625,
          0.7783783783783784,
          0.910843373493976,
          0.3943661971830985,
          0.5436893203883495,
          0.376068376068376,
          0.3893129770992366,
          0.271356783919598,
          0.6693989071038251,
          0.6467065868263473,
          0.6502732240437158,
          0.40625,
          0.4895397489539749,
          0.5684931506849316,
          0.8522012578616353,
          0.9518716577540108,
          0.9391634980988594,
          0.8639455782312925,
          0.9505703422053232,
          0.9375,
          0.9787878787878788,
          0.7090909090909091,
          0.6464646464646465,
          0.8028846153846154,
          0.7351598173515982,
          0.7514450867052023,
          0.8525073746312685,
          0.5659340659340659,
          0.547945205479452,
          0.7236842105263158,
          0.8659003831417624,
          0.7034883720930233,
          0.8370165745856354,
          0.6458333333333334,
          0.5666666666666667,
          0.3333333333333333,
          0.3368421052631579,
          0.23841059602649,
          0.5450819672131147,
          0.3586206896551724,
          0.4854368932038835,
          0.4523809523809524,
          0.4258064516129032,
          0.5633802816901409,
          0.5684754521963824,
          0.2953020134228188,
          0.7277227722772277,
          0.6576576576576577,
          0.3381642512077294,
          0.5215311004784688,
          0.9014492753623188,
          0.5741626794258373,
          0.8372093023255814,
          0.396011396011396,
          0.9288256227758008,
          0.8198198198198198,
          0.9794721407624634,
          0.7166666666666667,
          0.4347826086956521,
          0.5478260869565217,
          0.5902255639097744,
          0.5929203539823009,
          0.8367875647668394,
          0.3263888888888889,
          0.5470085470085471,
          0.2397260273972602,
          0.2136363636363636,
          0.3535911602209944,
          0.6469002695417789,
          0.8100558659217877,
          0.8466257668711656,
          0.7819548872180451,
          0.77,
          0.7463768115942029,
          0.9321428571428572,
          0.4384615384615384,
          0.6692913385826772,
          0.4742268041237113,
          0.5263157894736842,
          0.5297619047619048,
          0.7570977917981072,
          0.4108527131782946,
          0.4,
          0.0534351145038167,
          0.5625,
          0.1411764705882353,
          0.6225,
          0.4203821656050955,
          0.4166666666666667,
          0.4101123595505618,
          0.3016528925619834,
          0.2765957446808511,
          0.5098522167487685
         ],
         "y0": " ",
         "yaxis": "y"
        },
        {
         "alignmentgroup": "True",
         "hovertemplate": "genotype=APP/PS1 x Neil3 KO<br>tissue_location=%{x}<br>damage_load_ratio=%{y}<extra></extra>",
         "legendgroup": "APP/PS1 x Neil3 KO",
         "marker": {
          "color": "#EF553B"
         },
         "name": "APP/PS1 x Neil3 KO",
         "notched": false,
         "offsetgroup": "APP/PS1 x Neil3 KO",
         "orientation": "v",
         "showlegend": true,
         "type": "box",
         "x": [
          "CA1",
          "CA3",
          "CTX1",
          "CTX2",
          "CTX3",
          "DG",
          "CA1",
          "CA3",
          "CTX1",
          "CTX2",
          "CTX3",
          "DG",
          "CA1",
          "CA3",
          "CTX1",
          "CTX2",
          "CTX3",
          "DG",
          "CA1",
          "CA3",
          "CTX1",
          "CTX2",
          "CTX3",
          "DG",
          "CA1",
          "CA3",
          "CTX1",
          "CTX2",
          "CTX3",
          "DG",
          "CA1",
          "CA3",
          "CTX1",
          "CTX2",
          "CTX3",
          "DG",
          "CA1",
          "CA3",
          "CTX1",
          "CTX2",
          "CTX3",
          "DG",
          "CA1",
          "CA3",
          "CTX1",
          "CTX2",
          "CTX3",
          "DG",
          "CA1",
          "CA3",
          "CTX1",
          "CTX2",
          "CTX3",
          "DG",
          "CA1",
          "CA3",
          "CTX1",
          "CTX2",
          "CTX3",
          "DG",
          "CA1",
          "CA3",
          "CTX1",
          "CTX2",
          "CTX3",
          "DG",
          "CA1",
          "CA3",
          "CTX1",
          "CTX2",
          "CTX3",
          "DG",
          "CA1",
          "CA3",
          "CTX1",
          "CTX2",
          "CTX3",
          "DG",
          "CA1",
          "CA3",
          "CTX1",
          "CTX2",
          "CTX3",
          "DG",
          "CA1",
          "CA3",
          "CTX1",
          "CTX2",
          "CTX3",
          "DG",
          "CA1",
          "CA3",
          "CTX1",
          "CTX2",
          "CTX3",
          "DG",
          "CA1",
          "CA3",
          "CTX1",
          "CTX2",
          "CTX3",
          "DG"
         ],
         "x0": " ",
         "xaxis": "x",
         "y": [
          0.4939024390243902,
          0.6403508771929824,
          0.430379746835443,
          0.7436974789915967,
          0.6075268817204301,
          0.8486646884272997,
          0.526595744680851,
          0.7077922077922078,
          0.59375,
          0.6634146341463415,
          0.608,
          0.7368421052631579,
          0.391025641025641,
          0.5263157894736842,
          0.4897959183673469,
          0.5102040816326531,
          0.5974842767295597,
          0.7120743034055728,
          0.54421768707483,
          0.5585585585585585,
          0.4113924050632911,
          0.6512820512820513,
          0.6395348837209303,
          0.8194130925507901,
          0.5096774193548387,
          0.6228070175438597,
          0.4191919191919191,
          0.6666666666666666,
          0.391304347826087,
          0.8118279569892473,
          0.6382978723404256,
          0.5607476635514018,
          0.505,
          0.5733333333333334,
          0.5360824742268041,
          0.7701711491442543,
          0.6470588235294118,
          0.3880597014925373,
          0.4807692307692308,
          0.4782608695652174,
          0.7106598984771574,
          0.9129213483146068,
          0.5973154362416108,
          0.4285714285714285,
          0.542713567839196,
          0.6954314720812182,
          0.4523809523809524,
          0.7142857142857143,
          0.569620253164557,
          0.657608695652174,
          0.5446428571428571,
          0.6683673469387755,
          0.5471698113207547,
          0.8188235294117647,
          0.3287671232876712,
          0.5454545454545454,
          0.4967741935483871,
          0.5064102564102564,
          0.5027027027027027,
          0.7877813504823151,
          0.5231788079470199,
          0.37,
          0.0736196319018405,
          0.1243243243243243,
          0.15,
          0.7520661157024794,
          0.718562874251497,
          0.6380368098159509,
          0.3695652173913043,
          0.3108108108108108,
          0.3285024154589372,
          0.8836633663366337,
          0.1533333333333333,
          0.3548387096774194,
          0.0157480314960629,
          0.1638655462184874,
          0.5549738219895288,
          0.300990099009901,
          0.3484848484848485,
          0.4081632653061224,
          0.2016129032258064,
          0.4080459770114942,
          0.3917525773195876,
          0.4915730337078651,
          0.5783783783783784,
          0.7797619047619048,
          0.2716981132075471,
          0.2744360902255639,
          0.1649484536082474,
          0.6628571428571428,
          0.5371900826446281,
          0.5929203539823009,
          0.4468085106382978,
          0.5706806282722513,
          0.4322916666666667,
          0.603225806451613,
          0.514792899408284,
          0.36,
          0.5353535353535354,
          0.3356164383561644,
          0.4,
          0.7243401759530792
         ],
         "y0": " ",
         "yaxis": "y"
        }
       ],
       "layout": {
        "boxmode": "group",
        "legend": {
         "title": {
          "text": "genotype"
         },
         "tracegroupgap": 0
        },
        "template": {
         "data": {
          "bar": [
           {
            "error_x": {
             "color": "#2a3f5f"
            },
            "error_y": {
             "color": "#2a3f5f"
            },
            "marker": {
             "line": {
              "color": "#E5ECF6",
              "width": 0.5
             },
             "pattern": {
              "fillmode": "overlay",
              "size": 10,
              "solidity": 0.2
             }
            },
            "type": "bar"
           }
          ],
          "barpolar": [
           {
            "marker": {
             "line": {
              "color": "#E5ECF6",
              "width": 0.5
             },
             "pattern": {
              "fillmode": "overlay",
              "size": 10,
              "solidity": 0.2
             }
            },
            "type": "barpolar"
           }
          ],
          "carpet": [
           {
            "aaxis": {
             "endlinecolor": "#2a3f5f",
             "gridcolor": "white",
             "linecolor": "white",
             "minorgridcolor": "white",
             "startlinecolor": "#2a3f5f"
            },
            "baxis": {
             "endlinecolor": "#2a3f5f",
             "gridcolor": "white",
             "linecolor": "white",
             "minorgridcolor": "white",
             "startlinecolor": "#2a3f5f"
            },
            "type": "carpet"
           }
          ],
          "choropleth": [
           {
            "colorbar": {
             "outlinewidth": 0,
             "ticks": ""
            },
            "type": "choropleth"
           }
          ],
          "contour": [
           {
            "colorbar": {
             "outlinewidth": 0,
             "ticks": ""
            },
            "colorscale": [
             [
              0,
              "#0d0887"
             ],
             [
              0.1111111111111111,
              "#46039f"
             ],
             [
              0.2222222222222222,
              "#7201a8"
             ],
             [
              0.3333333333333333,
              "#9c179e"
             ],
             [
              0.4444444444444444,
              "#bd3786"
             ],
             [
              0.5555555555555556,
              "#d8576b"
             ],
             [
              0.6666666666666666,
              "#ed7953"
             ],
             [
              0.7777777777777778,
              "#fb9f3a"
             ],
             [
              0.8888888888888888,
              "#fdca26"
             ],
             [
              1,
              "#f0f921"
             ]
            ],
            "type": "contour"
           }
          ],
          "contourcarpet": [
           {
            "colorbar": {
             "outlinewidth": 0,
             "ticks": ""
            },
            "type": "contourcarpet"
           }
          ],
          "heatmap": [
           {
            "colorbar": {
             "outlinewidth": 0,
             "ticks": ""
            },
            "colorscale": [
             [
              0,
              "#0d0887"
             ],
             [
              0.1111111111111111,
              "#46039f"
             ],
             [
              0.2222222222222222,
              "#7201a8"
             ],
             [
              0.3333333333333333,
              "#9c179e"
             ],
             [
              0.4444444444444444,
              "#bd3786"
             ],
             [
              0.5555555555555556,
              "#d8576b"
             ],
             [
              0.6666666666666666,
              "#ed7953"
             ],
             [
              0.7777777777777778,
              "#fb9f3a"
             ],
             [
              0.8888888888888888,
              "#fdca26"
             ],
             [
              1,
              "#f0f921"
             ]
            ],
            "type": "heatmap"
           }
          ],
          "heatmapgl": [
           {
            "colorbar": {
             "outlinewidth": 0,
             "ticks": ""
            },
            "colorscale": [
             [
              0,
              "#0d0887"
             ],
             [
              0.1111111111111111,
              "#46039f"
             ],
             [
              0.2222222222222222,
              "#7201a8"
             ],
             [
              0.3333333333333333,
              "#9c179e"
             ],
             [
              0.4444444444444444,
              "#bd3786"
             ],
             [
              0.5555555555555556,
              "#d8576b"
             ],
             [
              0.6666666666666666,
              "#ed7953"
             ],
             [
              0.7777777777777778,
              "#fb9f3a"
             ],
             [
              0.8888888888888888,
              "#fdca26"
             ],
             [
              1,
              "#f0f921"
             ]
            ],
            "type": "heatmapgl"
           }
          ],
          "histogram": [
           {
            "marker": {
             "pattern": {
              "fillmode": "overlay",
              "size": 10,
              "solidity": 0.2
             }
            },
            "type": "histogram"
           }
          ],
          "histogram2d": [
           {
            "colorbar": {
             "outlinewidth": 0,
             "ticks": ""
            },
            "colorscale": [
             [
              0,
              "#0d0887"
             ],
             [
              0.1111111111111111,
              "#46039f"
             ],
             [
              0.2222222222222222,
              "#7201a8"
             ],
             [
              0.3333333333333333,
              "#9c179e"
             ],
             [
              0.4444444444444444,
              "#bd3786"
             ],
             [
              0.5555555555555556,
              "#d8576b"
             ],
             [
              0.6666666666666666,
              "#ed7953"
             ],
             [
              0.7777777777777778,
              "#fb9f3a"
             ],
             [
              0.8888888888888888,
              "#fdca26"
             ],
             [
              1,
              "#f0f921"
             ]
            ],
            "type": "histogram2d"
           }
          ],
          "histogram2dcontour": [
           {
            "colorbar": {
             "outlinewidth": 0,
             "ticks": ""
            },
            "colorscale": [
             [
              0,
              "#0d0887"
             ],
             [
              0.1111111111111111,
              "#46039f"
             ],
             [
              0.2222222222222222,
              "#7201a8"
             ],
             [
              0.3333333333333333,
              "#9c179e"
             ],
             [
              0.4444444444444444,
              "#bd3786"
             ],
             [
              0.5555555555555556,
              "#d8576b"
             ],
             [
              0.6666666666666666,
              "#ed7953"
             ],
             [
              0.7777777777777778,
              "#fb9f3a"
             ],
             [
              0.8888888888888888,
              "#fdca26"
             ],
             [
              1,
              "#f0f921"
             ]
            ],
            "type": "histogram2dcontour"
           }
          ],
          "mesh3d": [
           {
            "colorbar": {
             "outlinewidth": 0,
             "ticks": ""
            },
            "type": "mesh3d"
           }
          ],
          "parcoords": [
           {
            "line": {
             "colorbar": {
              "outlinewidth": 0,
              "ticks": ""
             }
            },
            "type": "parcoords"
           }
          ],
          "pie": [
           {
            "automargin": true,
            "type": "pie"
           }
          ],
          "scatter": [
           {
            "fillpattern": {
             "fillmode": "overlay",
             "size": 10,
             "solidity": 0.2
            },
            "type": "scatter"
           }
          ],
          "scatter3d": [
           {
            "line": {
             "colorbar": {
              "outlinewidth": 0,
              "ticks": ""
             }
            },
            "marker": {
             "colorbar": {
              "outlinewidth": 0,
              "ticks": ""
             }
            },
            "type": "scatter3d"
           }
          ],
          "scattercarpet": [
           {
            "marker": {
             "colorbar": {
              "outlinewidth": 0,
              "ticks": ""
             }
            },
            "type": "scattercarpet"
           }
          ],
          "scattergeo": [
           {
            "marker": {
             "colorbar": {
              "outlinewidth": 0,
              "ticks": ""
             }
            },
            "type": "scattergeo"
           }
          ],
          "scattergl": [
           {
            "marker": {
             "colorbar": {
              "outlinewidth": 0,
              "ticks": ""
             }
            },
            "type": "scattergl"
           }
          ],
          "scattermapbox": [
           {
            "marker": {
             "colorbar": {
              "outlinewidth": 0,
              "ticks": ""
             }
            },
            "type": "scattermapbox"
           }
          ],
          "scatterpolar": [
           {
            "marker": {
             "colorbar": {
              "outlinewidth": 0,
              "ticks": ""
             }
            },
            "type": "scatterpolar"
           }
          ],
          "scatterpolargl": [
           {
            "marker": {
             "colorbar": {
              "outlinewidth": 0,
              "ticks": ""
             }
            },
            "type": "scatterpolargl"
           }
          ],
          "scatterternary": [
           {
            "marker": {
             "colorbar": {
              "outlinewidth": 0,
              "ticks": ""
             }
            },
            "type": "scatterternary"
           }
          ],
          "surface": [
           {
            "colorbar": {
             "outlinewidth": 0,
             "ticks": ""
            },
            "colorscale": [
             [
              0,
              "#0d0887"
             ],
             [
              0.1111111111111111,
              "#46039f"
             ],
             [
              0.2222222222222222,
              "#7201a8"
             ],
             [
              0.3333333333333333,
              "#9c179e"
             ],
             [
              0.4444444444444444,
              "#bd3786"
             ],
             [
              0.5555555555555556,
              "#d8576b"
             ],
             [
              0.6666666666666666,
              "#ed7953"
             ],
             [
              0.7777777777777778,
              "#fb9f3a"
             ],
             [
              0.8888888888888888,
              "#fdca26"
             ],
             [
              1,
              "#f0f921"
             ]
            ],
            "type": "surface"
           }
          ],
          "table": [
           {
            "cells": {
             "fill": {
              "color": "#EBF0F8"
             },
             "line": {
              "color": "white"
             }
            },
            "header": {
             "fill": {
              "color": "#C8D4E3"
             },
             "line": {
              "color": "white"
             }
            },
            "type": "table"
           }
          ]
         },
         "layout": {
          "annotationdefaults": {
           "arrowcolor": "#2a3f5f",
           "arrowhead": 0,
           "arrowwidth": 1
          },
          "autotypenumbers": "strict",
          "coloraxis": {
           "colorbar": {
            "outlinewidth": 0,
            "ticks": ""
           }
          },
          "colorscale": {
           "diverging": [
            [
             0,
             "#8e0152"
            ],
            [
             0.1,
             "#c51b7d"
            ],
            [
             0.2,
             "#de77ae"
            ],
            [
             0.3,
             "#f1b6da"
            ],
            [
             0.4,
             "#fde0ef"
            ],
            [
             0.5,
             "#f7f7f7"
            ],
            [
             0.6,
             "#e6f5d0"
            ],
            [
             0.7,
             "#b8e186"
            ],
            [
             0.8,
             "#7fbc41"
            ],
            [
             0.9,
             "#4d9221"
            ],
            [
             1,
             "#276419"
            ]
           ],
           "sequential": [
            [
             0,
             "#0d0887"
            ],
            [
             0.1111111111111111,
             "#46039f"
            ],
            [
             0.2222222222222222,
             "#7201a8"
            ],
            [
             0.3333333333333333,
             "#9c179e"
            ],
            [
             0.4444444444444444,
             "#bd3786"
            ],
            [
             0.5555555555555556,
             "#d8576b"
            ],
            [
             0.6666666666666666,
             "#ed7953"
            ],
            [
             0.7777777777777778,
             "#fb9f3a"
            ],
            [
             0.8888888888888888,
             "#fdca26"
            ],
            [
             1,
             "#f0f921"
            ]
           ],
           "sequentialminus": [
            [
             0,
             "#0d0887"
            ],
            [
             0.1111111111111111,
             "#46039f"
            ],
            [
             0.2222222222222222,
             "#7201a8"
            ],
            [
             0.3333333333333333,
             "#9c179e"
            ],
            [
             0.4444444444444444,
             "#bd3786"
            ],
            [
             0.5555555555555556,
             "#d8576b"
            ],
            [
             0.6666666666666666,
             "#ed7953"
            ],
            [
             0.7777777777777778,
             "#fb9f3a"
            ],
            [
             0.8888888888888888,
             "#fdca26"
            ],
            [
             1,
             "#f0f921"
            ]
           ]
          },
          "colorway": [
           "#636efa",
           "#EF553B",
           "#00cc96",
           "#ab63fa",
           "#FFA15A",
           "#19d3f3",
           "#FF6692",
           "#B6E880",
           "#FF97FF",
           "#FECB52"
          ],
          "font": {
           "color": "#2a3f5f"
          },
          "geo": {
           "bgcolor": "white",
           "lakecolor": "white",
           "landcolor": "#E5ECF6",
           "showlakes": true,
           "showland": true,
           "subunitcolor": "white"
          },
          "hoverlabel": {
           "align": "left"
          },
          "hovermode": "closest",
          "mapbox": {
           "style": "light"
          },
          "paper_bgcolor": "white",
          "plot_bgcolor": "#E5ECF6",
          "polar": {
           "angularaxis": {
            "gridcolor": "white",
            "linecolor": "white",
            "ticks": ""
           },
           "bgcolor": "#E5ECF6",
           "radialaxis": {
            "gridcolor": "white",
            "linecolor": "white",
            "ticks": ""
           }
          },
          "scene": {
           "xaxis": {
            "backgroundcolor": "#E5ECF6",
            "gridcolor": "white",
            "gridwidth": 2,
            "linecolor": "white",
            "showbackground": true,
            "ticks": "",
            "zerolinecolor": "white"
           },
           "yaxis": {
            "backgroundcolor": "#E5ECF6",
            "gridcolor": "white",
            "gridwidth": 2,
            "linecolor": "white",
            "showbackground": true,
            "ticks": "",
            "zerolinecolor": "white"
           },
           "zaxis": {
            "backgroundcolor": "#E5ECF6",
            "gridcolor": "white",
            "gridwidth": 2,
            "linecolor": "white",
            "showbackground": true,
            "ticks": "",
            "zerolinecolor": "white"
           }
          },
          "shapedefaults": {
           "line": {
            "color": "#2a3f5f"
           }
          },
          "ternary": {
           "aaxis": {
            "gridcolor": "white",
            "linecolor": "white",
            "ticks": ""
           },
           "baxis": {
            "gridcolor": "white",
            "linecolor": "white",
            "ticks": ""
           },
           "bgcolor": "#E5ECF6",
           "caxis": {
            "gridcolor": "white",
            "linecolor": "white",
            "ticks": ""
           }
          },
          "title": {
           "x": 0.05
          },
          "xaxis": {
           "automargin": true,
           "gridcolor": "white",
           "linecolor": "white",
           "ticks": "",
           "title": {
            "standoff": 15
           },
           "zerolinecolor": "white",
           "zerolinewidth": 2
          },
          "yaxis": {
           "automargin": true,
           "gridcolor": "white",
           "linecolor": "white",
           "ticks": "",
           "title": {
            "standoff": 15
           },
           "zerolinecolor": "white",
           "zerolinewidth": 2
          }
         }
        },
        "title": {
         "text": "Damage load ratio by Tissue Location and Genotype (sex-aggregated) - Auto stain QC - cellpdia30_sigma1_dilrad4_dnad_obj_seg_v1_gliaero6_gliathr20_dnadero2"
        },
        "xaxis": {
         "anchor": "y",
         "domain": [
          0,
          1
         ],
         "title": {
          "text": "tissue_location"
         }
        },
        "yaxis": {
         "anchor": "x",
         "domain": [
          0,
          1
         ],
         "title": {
          "text": "damage_load_ratio"
         }
        }
       }
      }
     },
     "metadata": {},
     "output_type": "display_data"
    }
   ],
   "source": [
    "# Create the boxplot\n",
    "fig = px.box(auto_filtered_df, x='tissue_location', y='damage_load_ratio',\n",
    "             color='genotype', # Different genotypes will be shown in different colors\n",
    "             title=f'Damage load ratio by Tissue Location and Genotype (sex-aggregated) - Auto stain QC - {parameters_title}')\n",
    "\n",
    "# Show the plot\n",
    "fig.show()"
   ]
  },
  {
   "cell_type": "markdown",
   "metadata": {},
   "source": [
    "<h2>Explore failed QC Dataframe</h2>"
   ]
  },
  {
   "cell_type": "code",
   "execution_count": 36,
   "metadata": {},
   "outputs": [
    {
     "name": "stdout",
     "output_type": "stream",
     "text": [
      "60 stains have not passed QC and have been discarded\n"
     ]
    },
    {
     "data": {
      "text/html": [
       "<div>\n",
       "<style scoped>\n",
       "    .dataframe tbody tr th:only-of-type {\n",
       "        vertical-align: middle;\n",
       "    }\n",
       "\n",
       "    .dataframe tbody tr th {\n",
       "        vertical-align: top;\n",
       "    }\n",
       "\n",
       "    .dataframe thead th {\n",
       "        text-align: right;\n",
       "    }\n",
       "</style>\n",
       "<table border=\"1\" class=\"dataframe\">\n",
       "  <thead>\n",
       "    <tr style=\"text-align: right;\">\n",
       "      <th></th>\n",
       "      <th>index</th>\n",
       "      <th>filename</th>\n",
       "      <th>avg_dna_damage_foci/glia_+</th>\n",
       "      <th>avg_dna_damage_foci/glia_+_damage_+</th>\n",
       "      <th>avg_dna_damage_foci/all_nuclei</th>\n",
       "      <th>avg_dna_damage_foci/all_nuclei_damage_+</th>\n",
       "      <th>nr_+_dna_damage_glia_nuclei</th>\n",
       "      <th>nr_+_dna_damage_all_nuclei</th>\n",
       "      <th>nr_-_dna_damage_glia_nuclei</th>\n",
       "      <th>nr_glia_+_nuclei</th>\n",
       "      <th>...</th>\n",
       "      <th>tissue_location</th>\n",
       "      <th>staining_id</th>\n",
       "      <th>animal_id</th>\n",
       "      <th>sex</th>\n",
       "      <th>genotype</th>\n",
       "      <th>dna_damage_stain_quality_manual</th>\n",
       "      <th>manual_qc</th>\n",
       "      <th>glia_stain_quality_auto</th>\n",
       "      <th>dna_damage_stain_quality_auto</th>\n",
       "      <th>staining_qc_passed</th>\n",
       "    </tr>\n",
       "  </thead>\n",
       "  <tbody>\n",
       "    <tr>\n",
       "      <th>47</th>\n",
       "      <td>47</td>\n",
       "      <td>DSB Iba1 16_40X_CA1</td>\n",
       "      <td>0.936508</td>\n",
       "      <td>1.923913</td>\n",
       "      <td>0.836207</td>\n",
       "      <td>1.796296</td>\n",
       "      <td>92</td>\n",
       "      <td>108</td>\n",
       "      <td>97</td>\n",
       "      <td>189</td>\n",
       "      <td>...</td>\n",
       "      <td>CA1</td>\n",
       "      <td>16</td>\n",
       "      <td>887</td>\n",
       "      <td>male</td>\n",
       "      <td>APP/PS1</td>\n",
       "      <td>poor</td>\n",
       "      <td>failed</td>\n",
       "      <td>suboptimal</td>\n",
       "      <td>optimal</td>\n",
       "      <td>False</td>\n",
       "    </tr>\n",
       "    <tr>\n",
       "      <th>48</th>\n",
       "      <td>48</td>\n",
       "      <td>DSB Iba1 16_40X_CA3</td>\n",
       "      <td>4.513514</td>\n",
       "      <td>4.717514</td>\n",
       "      <td>4.406250</td>\n",
       "      <td>4.726257</td>\n",
       "      <td>177</td>\n",
       "      <td>179</td>\n",
       "      <td>8</td>\n",
       "      <td>185</td>\n",
       "      <td>...</td>\n",
       "      <td>CA3</td>\n",
       "      <td>16</td>\n",
       "      <td>887</td>\n",
       "      <td>male</td>\n",
       "      <td>APP/PS1</td>\n",
       "      <td>poor</td>\n",
       "      <td>failed</td>\n",
       "      <td>suboptimal</td>\n",
       "      <td>optimal</td>\n",
       "      <td>False</td>\n",
       "    </tr>\n",
       "    <tr>\n",
       "      <th>49</th>\n",
       "      <td>49</td>\n",
       "      <td>DSB Iba1 16_40X_CTX1</td>\n",
       "      <td>0.642857</td>\n",
       "      <td>1.687500</td>\n",
       "      <td>0.648352</td>\n",
       "      <td>1.882979</td>\n",
       "      <td>16</td>\n",
       "      <td>94</td>\n",
       "      <td>26</td>\n",
       "      <td>42</td>\n",
       "      <td>...</td>\n",
       "      <td>CTX1</td>\n",
       "      <td>16</td>\n",
       "      <td>887</td>\n",
       "      <td>male</td>\n",
       "      <td>APP/PS1</td>\n",
       "      <td>poor</td>\n",
       "      <td>failed</td>\n",
       "      <td>optimal</td>\n",
       "      <td>optimal</td>\n",
       "      <td>False</td>\n",
       "    </tr>\n",
       "    <tr>\n",
       "      <th>50</th>\n",
       "      <td>50</td>\n",
       "      <td>DSB Iba1 16_40X_CTX2</td>\n",
       "      <td>2.240664</td>\n",
       "      <td>2.268908</td>\n",
       "      <td>2.327068</td>\n",
       "      <td>2.389961</td>\n",
       "      <td>238</td>\n",
       "      <td>259</td>\n",
       "      <td>3</td>\n",
       "      <td>241</td>\n",
       "      <td>...</td>\n",
       "      <td>CTX2</td>\n",
       "      <td>16</td>\n",
       "      <td>887</td>\n",
       "      <td>male</td>\n",
       "      <td>APP/PS1</td>\n",
       "      <td>poor</td>\n",
       "      <td>failed</td>\n",
       "      <td>suboptimal</td>\n",
       "      <td>suboptimal</td>\n",
       "      <td>False</td>\n",
       "    </tr>\n",
       "    <tr>\n",
       "      <th>51</th>\n",
       "      <td>51</td>\n",
       "      <td>DSB Iba1 16_40X_CTX3</td>\n",
       "      <td>2.019231</td>\n",
       "      <td>2.100000</td>\n",
       "      <td>1.738589</td>\n",
       "      <td>2.053922</td>\n",
       "      <td>100</td>\n",
       "      <td>204</td>\n",
       "      <td>4</td>\n",
       "      <td>104</td>\n",
       "      <td>...</td>\n",
       "      <td>CTX3</td>\n",
       "      <td>16</td>\n",
       "      <td>887</td>\n",
       "      <td>male</td>\n",
       "      <td>APP/PS1</td>\n",
       "      <td>poor</td>\n",
       "      <td>failed</td>\n",
       "      <td>suboptimal</td>\n",
       "      <td>optimal</td>\n",
       "      <td>False</td>\n",
       "    </tr>\n",
       "    <tr>\n",
       "      <th>52</th>\n",
       "      <td>52</td>\n",
       "      <td>DSB Iba1 16_40X_DG</td>\n",
       "      <td>0.662896</td>\n",
       "      <td>1.382075</td>\n",
       "      <td>0.653509</td>\n",
       "      <td>1.379630</td>\n",
       "      <td>212</td>\n",
       "      <td>216</td>\n",
       "      <td>230</td>\n",
       "      <td>438</td>\n",
       "      <td>...</td>\n",
       "      <td>DG</td>\n",
       "      <td>16</td>\n",
       "      <td>887</td>\n",
       "      <td>male</td>\n",
       "      <td>APP/PS1</td>\n",
       "      <td>poor</td>\n",
       "      <td>failed</td>\n",
       "      <td>suboptimal</td>\n",
       "      <td>optimal</td>\n",
       "      <td>False</td>\n",
       "    </tr>\n",
       "    <tr>\n",
       "      <th>53</th>\n",
       "      <td>53</td>\n",
       "      <td>DSB Iba1 17_40X_CA1</td>\n",
       "      <td>1.818182</td>\n",
       "      <td>2.500000</td>\n",
       "      <td>2.765306</td>\n",
       "      <td>3.985294</td>\n",
       "      <td>8</td>\n",
       "      <td>136</td>\n",
       "      <td>3</td>\n",
       "      <td>11</td>\n",
       "      <td>...</td>\n",
       "      <td>CA1</td>\n",
       "      <td>17</td>\n",
       "      <td>892</td>\n",
       "      <td>female</td>\n",
       "      <td>APP/PS1</td>\n",
       "      <td>poor</td>\n",
       "      <td>failed</td>\n",
       "      <td>optimal</td>\n",
       "      <td>optimal</td>\n",
       "      <td>False</td>\n",
       "    </tr>\n",
       "    <tr>\n",
       "      <th>54</th>\n",
       "      <td>54</td>\n",
       "      <td>DSB Iba1 17_40X_CA3</td>\n",
       "      <td>1.315789</td>\n",
       "      <td>1.923077</td>\n",
       "      <td>3.617486</td>\n",
       "      <td>4.762590</td>\n",
       "      <td>13</td>\n",
       "      <td>139</td>\n",
       "      <td>6</td>\n",
       "      <td>19</td>\n",
       "      <td>...</td>\n",
       "      <td>CA3</td>\n",
       "      <td>17</td>\n",
       "      <td>892</td>\n",
       "      <td>female</td>\n",
       "      <td>APP/PS1</td>\n",
       "      <td>poor</td>\n",
       "      <td>failed</td>\n",
       "      <td>optimal</td>\n",
       "      <td>optimal</td>\n",
       "      <td>False</td>\n",
       "    </tr>\n",
       "    <tr>\n",
       "      <th>55</th>\n",
       "      <td>55</td>\n",
       "      <td>DSB Iba1 17_40X_CTX1</td>\n",
       "      <td>2.411765</td>\n",
       "      <td>2.928571</td>\n",
       "      <td>1.276923</td>\n",
       "      <td>2.141935</td>\n",
       "      <td>14</td>\n",
       "      <td>155</td>\n",
       "      <td>3</td>\n",
       "      <td>17</td>\n",
       "      <td>...</td>\n",
       "      <td>CTX1</td>\n",
       "      <td>17</td>\n",
       "      <td>892</td>\n",
       "      <td>female</td>\n",
       "      <td>APP/PS1</td>\n",
       "      <td>poor</td>\n",
       "      <td>failed</td>\n",
       "      <td>optimal</td>\n",
       "      <td>optimal</td>\n",
       "      <td>False</td>\n",
       "    </tr>\n",
       "    <tr>\n",
       "      <th>56</th>\n",
       "      <td>56</td>\n",
       "      <td>DSB Iba1 17_40X_CTX2</td>\n",
       "      <td>2.846154</td>\n",
       "      <td>2.901961</td>\n",
       "      <td>2.552980</td>\n",
       "      <td>2.640411</td>\n",
       "      <td>51</td>\n",
       "      <td>292</td>\n",
       "      <td>1</td>\n",
       "      <td>52</td>\n",
       "      <td>...</td>\n",
       "      <td>CTX2</td>\n",
       "      <td>17</td>\n",
       "      <td>892</td>\n",
       "      <td>female</td>\n",
       "      <td>APP/PS1</td>\n",
       "      <td>poor</td>\n",
       "      <td>failed</td>\n",
       "      <td>optimal</td>\n",
       "      <td>optimal</td>\n",
       "      <td>False</td>\n",
       "    </tr>\n",
       "    <tr>\n",
       "      <th>57</th>\n",
       "      <td>57</td>\n",
       "      <td>DSB Iba1 17_40X_CTX3</td>\n",
       "      <td>2.629630</td>\n",
       "      <td>2.629630</td>\n",
       "      <td>2.894444</td>\n",
       "      <td>3.196319</td>\n",
       "      <td>27</td>\n",
       "      <td>163</td>\n",
       "      <td>0</td>\n",
       "      <td>27</td>\n",
       "      <td>...</td>\n",
       "      <td>CTX3</td>\n",
       "      <td>17</td>\n",
       "      <td>892</td>\n",
       "      <td>female</td>\n",
       "      <td>APP/PS1</td>\n",
       "      <td>poor</td>\n",
       "      <td>failed</td>\n",
       "      <td>optimal</td>\n",
       "      <td>optimal</td>\n",
       "      <td>False</td>\n",
       "    </tr>\n",
       "    <tr>\n",
       "      <th>58</th>\n",
       "      <td>58</td>\n",
       "      <td>DSB Iba1 17_40X_DG</td>\n",
       "      <td>3.127517</td>\n",
       "      <td>3.352518</td>\n",
       "      <td>2.543561</td>\n",
       "      <td>2.971239</td>\n",
       "      <td>139</td>\n",
       "      <td>452</td>\n",
       "      <td>10</td>\n",
       "      <td>149</td>\n",
       "      <td>...</td>\n",
       "      <td>DG</td>\n",
       "      <td>17</td>\n",
       "      <td>892</td>\n",
       "      <td>female</td>\n",
       "      <td>APP/PS1</td>\n",
       "      <td>poor</td>\n",
       "      <td>failed</td>\n",
       "      <td>suboptimal</td>\n",
       "      <td>optimal</td>\n",
       "      <td>False</td>\n",
       "    </tr>\n",
       "    <tr>\n",
       "      <th>59</th>\n",
       "      <td>59</td>\n",
       "      <td>DSB Iba1 18_40X_CA1</td>\n",
       "      <td>1.357143</td>\n",
       "      <td>1.357143</td>\n",
       "      <td>2.534722</td>\n",
       "      <td>2.534722</td>\n",
       "      <td>14</td>\n",
       "      <td>144</td>\n",
       "      <td>0</td>\n",
       "      <td>14</td>\n",
       "      <td>...</td>\n",
       "      <td>CA1</td>\n",
       "      <td>18</td>\n",
       "      <td>231</td>\n",
       "      <td>male</td>\n",
       "      <td>APP/PS1 x Neil3 KO</td>\n",
       "      <td>poor</td>\n",
       "      <td>failed</td>\n",
       "      <td>optimal</td>\n",
       "      <td>suboptimal</td>\n",
       "      <td>False</td>\n",
       "    </tr>\n",
       "    <tr>\n",
       "      <th>60</th>\n",
       "      <td>60</td>\n",
       "      <td>DSB Iba1 18_40X_CA3</td>\n",
       "      <td>1.916667</td>\n",
       "      <td>1.916667</td>\n",
       "      <td>4.074074</td>\n",
       "      <td>4.112150</td>\n",
       "      <td>12</td>\n",
       "      <td>107</td>\n",
       "      <td>0</td>\n",
       "      <td>12</td>\n",
       "      <td>...</td>\n",
       "      <td>CA3</td>\n",
       "      <td>18</td>\n",
       "      <td>231</td>\n",
       "      <td>male</td>\n",
       "      <td>APP/PS1 x Neil3 KO</td>\n",
       "      <td>poor</td>\n",
       "      <td>failed</td>\n",
       "      <td>optimal</td>\n",
       "      <td>suboptimal</td>\n",
       "      <td>False</td>\n",
       "    </tr>\n",
       "    <tr>\n",
       "      <th>61</th>\n",
       "      <td>61</td>\n",
       "      <td>DSB Iba1 18_40X_CTX1</td>\n",
       "      <td>1.842105</td>\n",
       "      <td>2.692308</td>\n",
       "      <td>1.880000</td>\n",
       "      <td>2.858108</td>\n",
       "      <td>13</td>\n",
       "      <td>148</td>\n",
       "      <td>6</td>\n",
       "      <td>19</td>\n",
       "      <td>...</td>\n",
       "      <td>CTX1</td>\n",
       "      <td>18</td>\n",
       "      <td>231</td>\n",
       "      <td>male</td>\n",
       "      <td>APP/PS1 x Neil3 KO</td>\n",
       "      <td>poor</td>\n",
       "      <td>failed</td>\n",
       "      <td>optimal</td>\n",
       "      <td>optimal</td>\n",
       "      <td>False</td>\n",
       "    </tr>\n",
       "    <tr>\n",
       "      <th>62</th>\n",
       "      <td>62</td>\n",
       "      <td>DSB Iba1 18_40X_CTX2</td>\n",
       "      <td>3.200000</td>\n",
       "      <td>3.200000</td>\n",
       "      <td>3.729412</td>\n",
       "      <td>3.865854</td>\n",
       "      <td>20</td>\n",
       "      <td>246</td>\n",
       "      <td>0</td>\n",
       "      <td>20</td>\n",
       "      <td>...</td>\n",
       "      <td>CTX2</td>\n",
       "      <td>18</td>\n",
       "      <td>231</td>\n",
       "      <td>male</td>\n",
       "      <td>APP/PS1 x Neil3 KO</td>\n",
       "      <td>poor</td>\n",
       "      <td>failed</td>\n",
       "      <td>optimal</td>\n",
       "      <td>suboptimal</td>\n",
       "      <td>False</td>\n",
       "    </tr>\n",
       "    <tr>\n",
       "      <th>63</th>\n",
       "      <td>63</td>\n",
       "      <td>DSB Iba1 18_40X_CTX3</td>\n",
       "      <td>3.058824</td>\n",
       "      <td>3.466667</td>\n",
       "      <td>2.578947</td>\n",
       "      <td>3.392308</td>\n",
       "      <td>15</td>\n",
       "      <td>130</td>\n",
       "      <td>2</td>\n",
       "      <td>17</td>\n",
       "      <td>...</td>\n",
       "      <td>CTX3</td>\n",
       "      <td>18</td>\n",
       "      <td>231</td>\n",
       "      <td>male</td>\n",
       "      <td>APP/PS1 x Neil3 KO</td>\n",
       "      <td>poor</td>\n",
       "      <td>failed</td>\n",
       "      <td>optimal</td>\n",
       "      <td>optimal</td>\n",
       "      <td>False</td>\n",
       "    </tr>\n",
       "    <tr>\n",
       "      <th>64</th>\n",
       "      <td>64</td>\n",
       "      <td>DSB Iba1 18_40X_DG</td>\n",
       "      <td>1.182692</td>\n",
       "      <td>1.182692</td>\n",
       "      <td>1.803419</td>\n",
       "      <td>1.803419</td>\n",
       "      <td>104</td>\n",
       "      <td>351</td>\n",
       "      <td>0</td>\n",
       "      <td>104</td>\n",
       "      <td>...</td>\n",
       "      <td>DG</td>\n",
       "      <td>18</td>\n",
       "      <td>231</td>\n",
       "      <td>male</td>\n",
       "      <td>APP/PS1 x Neil3 KO</td>\n",
       "      <td>poor</td>\n",
       "      <td>failed</td>\n",
       "      <td>suboptimal</td>\n",
       "      <td>suboptimal</td>\n",
       "      <td>False</td>\n",
       "    </tr>\n",
       "    <tr>\n",
       "      <th>65</th>\n",
       "      <td>65</td>\n",
       "      <td>DSB Iba1 19_40X_CA1</td>\n",
       "      <td>1.000000</td>\n",
       "      <td>1.000000</td>\n",
       "      <td>1.000000</td>\n",
       "      <td>1.000000</td>\n",
       "      <td>66</td>\n",
       "      <td>68</td>\n",
       "      <td>0</td>\n",
       "      <td>66</td>\n",
       "      <td>...</td>\n",
       "      <td>CA1</td>\n",
       "      <td>19</td>\n",
       "      <td>154</td>\n",
       "      <td>female</td>\n",
       "      <td>APP/PS1 x Neil3 KO</td>\n",
       "      <td>poor</td>\n",
       "      <td>failed</td>\n",
       "      <td>suboptimal</td>\n",
       "      <td>suboptimal</td>\n",
       "      <td>False</td>\n",
       "    </tr>\n",
       "    <tr>\n",
       "      <th>66</th>\n",
       "      <td>66</td>\n",
       "      <td>DSB Iba1 19_40X_CA3</td>\n",
       "      <td>1.014085</td>\n",
       "      <td>1.014085</td>\n",
       "      <td>1.013699</td>\n",
       "      <td>1.013699</td>\n",
       "      <td>71</td>\n",
       "      <td>73</td>\n",
       "      <td>0</td>\n",
       "      <td>71</td>\n",
       "      <td>...</td>\n",
       "      <td>CA3</td>\n",
       "      <td>19</td>\n",
       "      <td>154</td>\n",
       "      <td>female</td>\n",
       "      <td>APP/PS1 x Neil3 KO</td>\n",
       "      <td>poor</td>\n",
       "      <td>failed</td>\n",
       "      <td>suboptimal</td>\n",
       "      <td>suboptimal</td>\n",
       "      <td>False</td>\n",
       "    </tr>\n",
       "    <tr>\n",
       "      <th>67</th>\n",
       "      <td>67</td>\n",
       "      <td>DSB Iba1 19_40X_CTX1</td>\n",
       "      <td>1.004739</td>\n",
       "      <td>1.004739</td>\n",
       "      <td>1.004717</td>\n",
       "      <td>1.004717</td>\n",
       "      <td>211</td>\n",
       "      <td>212</td>\n",
       "      <td>0</td>\n",
       "      <td>211</td>\n",
       "      <td>...</td>\n",
       "      <td>CTX1</td>\n",
       "      <td>19</td>\n",
       "      <td>154</td>\n",
       "      <td>female</td>\n",
       "      <td>APP/PS1 x Neil3 KO</td>\n",
       "      <td>poor</td>\n",
       "      <td>failed</td>\n",
       "      <td>suboptimal</td>\n",
       "      <td>suboptimal</td>\n",
       "      <td>False</td>\n",
       "    </tr>\n",
       "    <tr>\n",
       "      <th>68</th>\n",
       "      <td>68</td>\n",
       "      <td>DSB Iba1 19_40X_CTX2</td>\n",
       "      <td>1.013889</td>\n",
       "      <td>1.013889</td>\n",
       "      <td>1.044444</td>\n",
       "      <td>1.044444</td>\n",
       "      <td>72</td>\n",
       "      <td>90</td>\n",
       "      <td>0</td>\n",
       "      <td>71</td>\n",
       "      <td>...</td>\n",
       "      <td>CTX2</td>\n",
       "      <td>19</td>\n",
       "      <td>154</td>\n",
       "      <td>female</td>\n",
       "      <td>APP/PS1 x Neil3 KO</td>\n",
       "      <td>poor</td>\n",
       "      <td>failed</td>\n",
       "      <td>suboptimal</td>\n",
       "      <td>suboptimal</td>\n",
       "      <td>False</td>\n",
       "    </tr>\n",
       "    <tr>\n",
       "      <th>69</th>\n",
       "      <td>69</td>\n",
       "      <td>DSB Iba1 19_40X_CTX3</td>\n",
       "      <td>1.000000</td>\n",
       "      <td>1.000000</td>\n",
       "      <td>1.000000</td>\n",
       "      <td>1.000000</td>\n",
       "      <td>103</td>\n",
       "      <td>124</td>\n",
       "      <td>0</td>\n",
       "      <td>103</td>\n",
       "      <td>...</td>\n",
       "      <td>CTX3</td>\n",
       "      <td>19</td>\n",
       "      <td>154</td>\n",
       "      <td>female</td>\n",
       "      <td>APP/PS1 x Neil3 KO</td>\n",
       "      <td>poor</td>\n",
       "      <td>failed</td>\n",
       "      <td>suboptimal</td>\n",
       "      <td>suboptimal</td>\n",
       "      <td>False</td>\n",
       "    </tr>\n",
       "    <tr>\n",
       "      <th>70</th>\n",
       "      <td>70</td>\n",
       "      <td>DSB Iba1 19_40X_DG</td>\n",
       "      <td>1.000000</td>\n",
       "      <td>1.000000</td>\n",
       "      <td>1.000000</td>\n",
       "      <td>1.000000</td>\n",
       "      <td>127</td>\n",
       "      <td>128</td>\n",
       "      <td>0</td>\n",
       "      <td>127</td>\n",
       "      <td>...</td>\n",
       "      <td>DG</td>\n",
       "      <td>19</td>\n",
       "      <td>154</td>\n",
       "      <td>female</td>\n",
       "      <td>APP/PS1 x Neil3 KO</td>\n",
       "      <td>poor</td>\n",
       "      <td>failed</td>\n",
       "      <td>suboptimal</td>\n",
       "      <td>suboptimal</td>\n",
       "      <td>False</td>\n",
       "    </tr>\n",
       "    <tr>\n",
       "      <th>107</th>\n",
       "      <td>107</td>\n",
       "      <td>DSB Iba1 26_40X_CA1</td>\n",
       "      <td>2.571429</td>\n",
       "      <td>3.000000</td>\n",
       "      <td>3.457143</td>\n",
       "      <td>3.934959</td>\n",
       "      <td>6</td>\n",
       "      <td>123</td>\n",
       "      <td>1</td>\n",
       "      <td>7</td>\n",
       "      <td>...</td>\n",
       "      <td>CA1</td>\n",
       "      <td>26</td>\n",
       "      <td>231</td>\n",
       "      <td>male</td>\n",
       "      <td>APP/PS1 x Neil3 KO</td>\n",
       "      <td>poor</td>\n",
       "      <td>failed</td>\n",
       "      <td>optimal</td>\n",
       "      <td>optimal</td>\n",
       "      <td>False</td>\n",
       "    </tr>\n",
       "    <tr>\n",
       "      <th>108</th>\n",
       "      <td>108</td>\n",
       "      <td>DSB Iba1 26_40X_CA3</td>\n",
       "      <td>3.600000</td>\n",
       "      <td>3.600000</td>\n",
       "      <td>3.796875</td>\n",
       "      <td>4.189655</td>\n",
       "      <td>5</td>\n",
       "      <td>58</td>\n",
       "      <td>0</td>\n",
       "      <td>5</td>\n",
       "      <td>...</td>\n",
       "      <td>CA3</td>\n",
       "      <td>26</td>\n",
       "      <td>231</td>\n",
       "      <td>male</td>\n",
       "      <td>APP/PS1 x Neil3 KO</td>\n",
       "      <td>poor</td>\n",
       "      <td>failed</td>\n",
       "      <td>optimal</td>\n",
       "      <td>optimal</td>\n",
       "      <td>False</td>\n",
       "    </tr>\n",
       "    <tr>\n",
       "      <th>109</th>\n",
       "      <td>109</td>\n",
       "      <td>DSB Iba1 26_40X_CTX1</td>\n",
       "      <td>1.500000</td>\n",
       "      <td>1.500000</td>\n",
       "      <td>1.955357</td>\n",
       "      <td>1.990909</td>\n",
       "      <td>8</td>\n",
       "      <td>110</td>\n",
       "      <td>0</td>\n",
       "      <td>8</td>\n",
       "      <td>...</td>\n",
       "      <td>CTX1</td>\n",
       "      <td>26</td>\n",
       "      <td>231</td>\n",
       "      <td>male</td>\n",
       "      <td>APP/PS1 x Neil3 KO</td>\n",
       "      <td>poor</td>\n",
       "      <td>failed</td>\n",
       "      <td>optimal</td>\n",
       "      <td>suboptimal</td>\n",
       "      <td>False</td>\n",
       "    </tr>\n",
       "    <tr>\n",
       "      <th>110</th>\n",
       "      <td>110</td>\n",
       "      <td>DSB Iba1 26_40X_CTX2</td>\n",
       "      <td>1.666667</td>\n",
       "      <td>1.666667</td>\n",
       "      <td>2.411765</td>\n",
       "      <td>2.432203</td>\n",
       "      <td>15</td>\n",
       "      <td>118</td>\n",
       "      <td>0</td>\n",
       "      <td>15</td>\n",
       "      <td>...</td>\n",
       "      <td>CTX2</td>\n",
       "      <td>26</td>\n",
       "      <td>231</td>\n",
       "      <td>male</td>\n",
       "      <td>APP/PS1 x Neil3 KO</td>\n",
       "      <td>poor</td>\n",
       "      <td>failed</td>\n",
       "      <td>optimal</td>\n",
       "      <td>suboptimal</td>\n",
       "      <td>False</td>\n",
       "    </tr>\n",
       "    <tr>\n",
       "      <th>111</th>\n",
       "      <td>111</td>\n",
       "      <td>DSB Iba1 26_40X_CTX3</td>\n",
       "      <td>1.818182</td>\n",
       "      <td>1.818182</td>\n",
       "      <td>1.594059</td>\n",
       "      <td>1.594059</td>\n",
       "      <td>11</td>\n",
       "      <td>101</td>\n",
       "      <td>0</td>\n",
       "      <td>11</td>\n",
       "      <td>...</td>\n",
       "      <td>CTX3</td>\n",
       "      <td>26</td>\n",
       "      <td>231</td>\n",
       "      <td>male</td>\n",
       "      <td>APP/PS1 x Neil3 KO</td>\n",
       "      <td>poor</td>\n",
       "      <td>failed</td>\n",
       "      <td>optimal</td>\n",
       "      <td>suboptimal</td>\n",
       "      <td>False</td>\n",
       "    </tr>\n",
       "    <tr>\n",
       "      <th>112</th>\n",
       "      <td>112</td>\n",
       "      <td>DSB Iba1 26_40X_DG</td>\n",
       "      <td>4.166667</td>\n",
       "      <td>4.166667</td>\n",
       "      <td>3.549575</td>\n",
       "      <td>3.808511</td>\n",
       "      <td>12</td>\n",
       "      <td>329</td>\n",
       "      <td>0</td>\n",
       "      <td>12</td>\n",
       "      <td>...</td>\n",
       "      <td>DG</td>\n",
       "      <td>26</td>\n",
       "      <td>231</td>\n",
       "      <td>male</td>\n",
       "      <td>APP/PS1 x Neil3 KO</td>\n",
       "      <td>poor</td>\n",
       "      <td>failed</td>\n",
       "      <td>optimal</td>\n",
       "      <td>optimal</td>\n",
       "      <td>False</td>\n",
       "    </tr>\n",
       "    <tr>\n",
       "      <th>113</th>\n",
       "      <td>113</td>\n",
       "      <td>DSB Iba1 27_40X_DG</td>\n",
       "      <td>2.500000</td>\n",
       "      <td>2.500000</td>\n",
       "      <td>2.276498</td>\n",
       "      <td>2.386473</td>\n",
       "      <td>4</td>\n",
       "      <td>207</td>\n",
       "      <td>0</td>\n",
       "      <td>4</td>\n",
       "      <td>...</td>\n",
       "      <td>DG</td>\n",
       "      <td>27</td>\n",
       "      <td>147</td>\n",
       "      <td>female</td>\n",
       "      <td>APP/PS1</td>\n",
       "      <td>poor</td>\n",
       "      <td>passed</td>\n",
       "      <td>optimal</td>\n",
       "      <td>suboptimal</td>\n",
       "      <td>False</td>\n",
       "    </tr>\n",
       "    <tr>\n",
       "      <th>138</th>\n",
       "      <td>138</td>\n",
       "      <td>DSB Iba1 32_40X_CA1</td>\n",
       "      <td>4.277778</td>\n",
       "      <td>4.277778</td>\n",
       "      <td>4.491892</td>\n",
       "      <td>4.591160</td>\n",
       "      <td>18</td>\n",
       "      <td>181</td>\n",
       "      <td>0</td>\n",
       "      <td>18</td>\n",
       "      <td>...</td>\n",
       "      <td>CA1</td>\n",
       "      <td>32</td>\n",
       "      <td>253</td>\n",
       "      <td>female</td>\n",
       "      <td>APP/PS1 x Neil3 KO</td>\n",
       "      <td>poor</td>\n",
       "      <td>failed</td>\n",
       "      <td>optimal</td>\n",
       "      <td>optimal</td>\n",
       "      <td>False</td>\n",
       "    </tr>\n",
       "    <tr>\n",
       "      <th>139</th>\n",
       "      <td>139</td>\n",
       "      <td>DSB Iba1 32_40X_CA3</td>\n",
       "      <td>1.705882</td>\n",
       "      <td>1.812500</td>\n",
       "      <td>3.903704</td>\n",
       "      <td>4.022901</td>\n",
       "      <td>16</td>\n",
       "      <td>131</td>\n",
       "      <td>1</td>\n",
       "      <td>17</td>\n",
       "      <td>...</td>\n",
       "      <td>CA3</td>\n",
       "      <td>32</td>\n",
       "      <td>253</td>\n",
       "      <td>female</td>\n",
       "      <td>APP/PS1 x Neil3 KO</td>\n",
       "      <td>poor</td>\n",
       "      <td>failed</td>\n",
       "      <td>optimal</td>\n",
       "      <td>optimal</td>\n",
       "      <td>False</td>\n",
       "    </tr>\n",
       "    <tr>\n",
       "      <th>140</th>\n",
       "      <td>140</td>\n",
       "      <td>DSB Iba1 32_40X_CTX1</td>\n",
       "      <td>2.387097</td>\n",
       "      <td>2.466667</td>\n",
       "      <td>4.686207</td>\n",
       "      <td>4.802120</td>\n",
       "      <td>30</td>\n",
       "      <td>283</td>\n",
       "      <td>1</td>\n",
       "      <td>31</td>\n",
       "      <td>...</td>\n",
       "      <td>CTX1</td>\n",
       "      <td>32</td>\n",
       "      <td>253</td>\n",
       "      <td>female</td>\n",
       "      <td>APP/PS1 x Neil3 KO</td>\n",
       "      <td>poor</td>\n",
       "      <td>failed</td>\n",
       "      <td>optimal</td>\n",
       "      <td>optimal</td>\n",
       "      <td>False</td>\n",
       "    </tr>\n",
       "    <tr>\n",
       "      <th>141</th>\n",
       "      <td>141</td>\n",
       "      <td>DSB Iba1 32_40X_CTX2</td>\n",
       "      <td>1.657895</td>\n",
       "      <td>1.702703</td>\n",
       "      <td>2.533613</td>\n",
       "      <td>2.555085</td>\n",
       "      <td>37</td>\n",
       "      <td>236</td>\n",
       "      <td>1</td>\n",
       "      <td>38</td>\n",
       "      <td>...</td>\n",
       "      <td>CTX2</td>\n",
       "      <td>32</td>\n",
       "      <td>253</td>\n",
       "      <td>female</td>\n",
       "      <td>APP/PS1 x Neil3 KO</td>\n",
       "      <td>poor</td>\n",
       "      <td>failed</td>\n",
       "      <td>optimal</td>\n",
       "      <td>suboptimal</td>\n",
       "      <td>False</td>\n",
       "    </tr>\n",
       "    <tr>\n",
       "      <th>142</th>\n",
       "      <td>142</td>\n",
       "      <td>DSB Iba1 32_40X_CTX3</td>\n",
       "      <td>2.814815</td>\n",
       "      <td>3.040000</td>\n",
       "      <td>4.117978</td>\n",
       "      <td>4.415663</td>\n",
       "      <td>25</td>\n",
       "      <td>166</td>\n",
       "      <td>2</td>\n",
       "      <td>27</td>\n",
       "      <td>...</td>\n",
       "      <td>CTX3</td>\n",
       "      <td>32</td>\n",
       "      <td>253</td>\n",
       "      <td>female</td>\n",
       "      <td>APP/PS1 x Neil3 KO</td>\n",
       "      <td>poor</td>\n",
       "      <td>failed</td>\n",
       "      <td>optimal</td>\n",
       "      <td>optimal</td>\n",
       "      <td>False</td>\n",
       "    </tr>\n",
       "    <tr>\n",
       "      <th>143</th>\n",
       "      <td>143</td>\n",
       "      <td>DSB Iba1 32_40X_DG</td>\n",
       "      <td>2.803279</td>\n",
       "      <td>2.898305</td>\n",
       "      <td>3.861575</td>\n",
       "      <td>4.024876</td>\n",
       "      <td>59</td>\n",
       "      <td>402</td>\n",
       "      <td>2</td>\n",
       "      <td>60</td>\n",
       "      <td>...</td>\n",
       "      <td>DG</td>\n",
       "      <td>32</td>\n",
       "      <td>253</td>\n",
       "      <td>female</td>\n",
       "      <td>APP/PS1 x Neil3 KO</td>\n",
       "      <td>poor</td>\n",
       "      <td>failed</td>\n",
       "      <td>optimal</td>\n",
       "      <td>optimal</td>\n",
       "      <td>False</td>\n",
       "    </tr>\n",
       "    <tr>\n",
       "      <th>156</th>\n",
       "      <td>156</td>\n",
       "      <td>DSB Iba1 35_40X_CA1</td>\n",
       "      <td>0.900000</td>\n",
       "      <td>1.800000</td>\n",
       "      <td>0.515789</td>\n",
       "      <td>1.633333</td>\n",
       "      <td>5</td>\n",
       "      <td>60</td>\n",
       "      <td>5</td>\n",
       "      <td>10</td>\n",
       "      <td>...</td>\n",
       "      <td>CA1</td>\n",
       "      <td>35</td>\n",
       "      <td>305</td>\n",
       "      <td>male</td>\n",
       "      <td>APP/PS1 x Neil3 KO</td>\n",
       "      <td>poor</td>\n",
       "      <td>passed</td>\n",
       "      <td>optimal</td>\n",
       "      <td>optimal</td>\n",
       "      <td>False</td>\n",
       "    </tr>\n",
       "    <tr>\n",
       "      <th>157</th>\n",
       "      <td>157</td>\n",
       "      <td>DSB Iba1 35_40X_CA3</td>\n",
       "      <td>2.620690</td>\n",
       "      <td>3.040000</td>\n",
       "      <td>3.893258</td>\n",
       "      <td>4.559211</td>\n",
       "      <td>25</td>\n",
       "      <td>152</td>\n",
       "      <td>4</td>\n",
       "      <td>29</td>\n",
       "      <td>...</td>\n",
       "      <td>CA3</td>\n",
       "      <td>35</td>\n",
       "      <td>305</td>\n",
       "      <td>male</td>\n",
       "      <td>APP/PS1 x Neil3 KO</td>\n",
       "      <td>poor</td>\n",
       "      <td>passed</td>\n",
       "      <td>optimal</td>\n",
       "      <td>optimal</td>\n",
       "      <td>False</td>\n",
       "    </tr>\n",
       "    <tr>\n",
       "      <th>158</th>\n",
       "      <td>158</td>\n",
       "      <td>DSB Iba1 35_40X_CTX1</td>\n",
       "      <td>1.111111</td>\n",
       "      <td>2.000000</td>\n",
       "      <td>0.650407</td>\n",
       "      <td>1.649485</td>\n",
       "      <td>10</td>\n",
       "      <td>97</td>\n",
       "      <td>8</td>\n",
       "      <td>18</td>\n",
       "      <td>...</td>\n",
       "      <td>CTX1</td>\n",
       "      <td>35</td>\n",
       "      <td>305</td>\n",
       "      <td>male</td>\n",
       "      <td>APP/PS1 x Neil3 KO</td>\n",
       "      <td>poor</td>\n",
       "      <td>passed</td>\n",
       "      <td>optimal</td>\n",
       "      <td>optimal</td>\n",
       "      <td>False</td>\n",
       "    </tr>\n",
       "    <tr>\n",
       "      <th>159</th>\n",
       "      <td>159</td>\n",
       "      <td>DSB Iba1 35_40X_CTX2</td>\n",
       "      <td>2.045045</td>\n",
       "      <td>2.082569</td>\n",
       "      <td>2.146067</td>\n",
       "      <td>2.348361</td>\n",
       "      <td>109</td>\n",
       "      <td>244</td>\n",
       "      <td>2</td>\n",
       "      <td>111</td>\n",
       "      <td>...</td>\n",
       "      <td>CTX2</td>\n",
       "      <td>35</td>\n",
       "      <td>305</td>\n",
       "      <td>male</td>\n",
       "      <td>APP/PS1 x Neil3 KO</td>\n",
       "      <td>poor</td>\n",
       "      <td>passed</td>\n",
       "      <td>suboptimal</td>\n",
       "      <td>optimal</td>\n",
       "      <td>False</td>\n",
       "    </tr>\n",
       "    <tr>\n",
       "      <th>160</th>\n",
       "      <td>160</td>\n",
       "      <td>DSB Iba1 35_40X_CTX3</td>\n",
       "      <td>2.325000</td>\n",
       "      <td>2.384615</td>\n",
       "      <td>3.231527</td>\n",
       "      <td>3.434555</td>\n",
       "      <td>78</td>\n",
       "      <td>191</td>\n",
       "      <td>2</td>\n",
       "      <td>80</td>\n",
       "      <td>...</td>\n",
       "      <td>CTX3</td>\n",
       "      <td>35</td>\n",
       "      <td>305</td>\n",
       "      <td>male</td>\n",
       "      <td>APP/PS1 x Neil3 KO</td>\n",
       "      <td>poor</td>\n",
       "      <td>passed</td>\n",
       "      <td>optimal</td>\n",
       "      <td>optimal</td>\n",
       "      <td>False</td>\n",
       "    </tr>\n",
       "    <tr>\n",
       "      <th>161</th>\n",
       "      <td>161</td>\n",
       "      <td>DSB Iba1 35_40X_DG</td>\n",
       "      <td>2.485075</td>\n",
       "      <td>2.664000</td>\n",
       "      <td>2.870892</td>\n",
       "      <td>3.096203</td>\n",
       "      <td>125</td>\n",
       "      <td>395</td>\n",
       "      <td>9</td>\n",
       "      <td>134</td>\n",
       "      <td>...</td>\n",
       "      <td>DG</td>\n",
       "      <td>35</td>\n",
       "      <td>305</td>\n",
       "      <td>male</td>\n",
       "      <td>APP/PS1 x Neil3 KO</td>\n",
       "      <td>poor</td>\n",
       "      <td>passed</td>\n",
       "      <td>suboptimal</td>\n",
       "      <td>optimal</td>\n",
       "      <td>False</td>\n",
       "    </tr>\n",
       "    <tr>\n",
       "      <th>174</th>\n",
       "      <td>174</td>\n",
       "      <td>DSB Iba1 38_40X_DG</td>\n",
       "      <td>1.000000</td>\n",
       "      <td>1.000000</td>\n",
       "      <td>1.276190</td>\n",
       "      <td>1.288462</td>\n",
       "      <td>4</td>\n",
       "      <td>104</td>\n",
       "      <td>0</td>\n",
       "      <td>4</td>\n",
       "      <td>...</td>\n",
       "      <td>DG</td>\n",
       "      <td>38</td>\n",
       "      <td>154</td>\n",
       "      <td>female</td>\n",
       "      <td>APP/PS1 x Neil3 KO</td>\n",
       "      <td>poor</td>\n",
       "      <td>failed</td>\n",
       "      <td>optimal</td>\n",
       "      <td>suboptimal</td>\n",
       "      <td>False</td>\n",
       "    </tr>\n",
       "    <tr>\n",
       "      <th>205</th>\n",
       "      <td>205</td>\n",
       "      <td>DSB Iba1 44_40X_CA1</td>\n",
       "      <td>1.419355</td>\n",
       "      <td>1.466667</td>\n",
       "      <td>1.503650</td>\n",
       "      <td>1.525926</td>\n",
       "      <td>30</td>\n",
       "      <td>135</td>\n",
       "      <td>1</td>\n",
       "      <td>31</td>\n",
       "      <td>...</td>\n",
       "      <td>CA1</td>\n",
       "      <td>44</td>\n",
       "      <td>147</td>\n",
       "      <td>female</td>\n",
       "      <td>APP/PS1</td>\n",
       "      <td>poor</td>\n",
       "      <td>passed</td>\n",
       "      <td>suboptimal</td>\n",
       "      <td>suboptimal</td>\n",
       "      <td>False</td>\n",
       "    </tr>\n",
       "    <tr>\n",
       "      <th>206</th>\n",
       "      <td>206</td>\n",
       "      <td>DSB Iba1 44_40X_CA3</td>\n",
       "      <td>1.111111</td>\n",
       "      <td>1.111111</td>\n",
       "      <td>1.737374</td>\n",
       "      <td>1.737374</td>\n",
       "      <td>18</td>\n",
       "      <td>99</td>\n",
       "      <td>0</td>\n",
       "      <td>18</td>\n",
       "      <td>...</td>\n",
       "      <td>CA3</td>\n",
       "      <td>44</td>\n",
       "      <td>147</td>\n",
       "      <td>female</td>\n",
       "      <td>APP/PS1</td>\n",
       "      <td>poor</td>\n",
       "      <td>passed</td>\n",
       "      <td>suboptimal</td>\n",
       "      <td>suboptimal</td>\n",
       "      <td>False</td>\n",
       "    </tr>\n",
       "    <tr>\n",
       "      <th>207</th>\n",
       "      <td>207</td>\n",
       "      <td>DSB Iba1 44_40X_CTX1</td>\n",
       "      <td>1.092593</td>\n",
       "      <td>1.092593</td>\n",
       "      <td>1.337553</td>\n",
       "      <td>1.337553</td>\n",
       "      <td>54</td>\n",
       "      <td>237</td>\n",
       "      <td>0</td>\n",
       "      <td>54</td>\n",
       "      <td>...</td>\n",
       "      <td>CTX1</td>\n",
       "      <td>44</td>\n",
       "      <td>147</td>\n",
       "      <td>female</td>\n",
       "      <td>APP/PS1</td>\n",
       "      <td>poor</td>\n",
       "      <td>passed</td>\n",
       "      <td>suboptimal</td>\n",
       "      <td>suboptimal</td>\n",
       "      <td>False</td>\n",
       "    </tr>\n",
       "    <tr>\n",
       "      <th>208</th>\n",
       "      <td>208</td>\n",
       "      <td>DSB Iba1 44_40X_DG</td>\n",
       "      <td>1.177215</td>\n",
       "      <td>1.177215</td>\n",
       "      <td>1.746725</td>\n",
       "      <td>1.777778</td>\n",
       "      <td>79</td>\n",
       "      <td>225</td>\n",
       "      <td>0</td>\n",
       "      <td>79</td>\n",
       "      <td>...</td>\n",
       "      <td>DG</td>\n",
       "      <td>44</td>\n",
       "      <td>147</td>\n",
       "      <td>female</td>\n",
       "      <td>APP/PS1</td>\n",
       "      <td>poor</td>\n",
       "      <td>passed</td>\n",
       "      <td>suboptimal</td>\n",
       "      <td>suboptimal</td>\n",
       "      <td>False</td>\n",
       "    </tr>\n",
       "    <tr>\n",
       "      <th>215</th>\n",
       "      <td>215</td>\n",
       "      <td>DSB Iba1 46_40X_CA1</td>\n",
       "      <td>2.303030</td>\n",
       "      <td>2.375000</td>\n",
       "      <td>2.964286</td>\n",
       "      <td>3.036585</td>\n",
       "      <td>64</td>\n",
       "      <td>164</td>\n",
       "      <td>2</td>\n",
       "      <td>66</td>\n",
       "      <td>...</td>\n",
       "      <td>CA1</td>\n",
       "      <td>46</td>\n",
       "      <td>253</td>\n",
       "      <td>female</td>\n",
       "      <td>APP/PS1 x Neil3 KO</td>\n",
       "      <td>poor</td>\n",
       "      <td>passed</td>\n",
       "      <td>suboptimal</td>\n",
       "      <td>suboptimal</td>\n",
       "      <td>False</td>\n",
       "    </tr>\n",
       "    <tr>\n",
       "      <th>216</th>\n",
       "      <td>216</td>\n",
       "      <td>DSB Iba1 46_40X_CA3</td>\n",
       "      <td>2.666667</td>\n",
       "      <td>3.096774</td>\n",
       "      <td>4.000000</td>\n",
       "      <td>4.548387</td>\n",
       "      <td>31</td>\n",
       "      <td>124</td>\n",
       "      <td>5</td>\n",
       "      <td>36</td>\n",
       "      <td>...</td>\n",
       "      <td>CA3</td>\n",
       "      <td>46</td>\n",
       "      <td>253</td>\n",
       "      <td>female</td>\n",
       "      <td>APP/PS1 x Neil3 KO</td>\n",
       "      <td>poor</td>\n",
       "      <td>passed</td>\n",
       "      <td>optimal</td>\n",
       "      <td>optimal</td>\n",
       "      <td>False</td>\n",
       "    </tr>\n",
       "    <tr>\n",
       "      <th>217</th>\n",
       "      <td>217</td>\n",
       "      <td>DSB Iba1 46_40X_CTX1</td>\n",
       "      <td>1.848101</td>\n",
       "      <td>1.896104</td>\n",
       "      <td>2.973585</td>\n",
       "      <td>3.007634</td>\n",
       "      <td>77</td>\n",
       "      <td>262</td>\n",
       "      <td>2</td>\n",
       "      <td>79</td>\n",
       "      <td>...</td>\n",
       "      <td>CTX1</td>\n",
       "      <td>46</td>\n",
       "      <td>253</td>\n",
       "      <td>female</td>\n",
       "      <td>APP/PS1 x Neil3 KO</td>\n",
       "      <td>poor</td>\n",
       "      <td>passed</td>\n",
       "      <td>suboptimal</td>\n",
       "      <td>suboptimal</td>\n",
       "      <td>False</td>\n",
       "    </tr>\n",
       "    <tr>\n",
       "      <th>218</th>\n",
       "      <td>218</td>\n",
       "      <td>DSB Iba1 46_40X_CTX2</td>\n",
       "      <td>1.480769</td>\n",
       "      <td>1.495146</td>\n",
       "      <td>2.111498</td>\n",
       "      <td>2.126316</td>\n",
       "      <td>103</td>\n",
       "      <td>285</td>\n",
       "      <td>1</td>\n",
       "      <td>104</td>\n",
       "      <td>...</td>\n",
       "      <td>CTX2</td>\n",
       "      <td>46</td>\n",
       "      <td>253</td>\n",
       "      <td>female</td>\n",
       "      <td>APP/PS1 x Neil3 KO</td>\n",
       "      <td>poor</td>\n",
       "      <td>passed</td>\n",
       "      <td>suboptimal</td>\n",
       "      <td>suboptimal</td>\n",
       "      <td>False</td>\n",
       "    </tr>\n",
       "    <tr>\n",
       "      <th>219</th>\n",
       "      <td>219</td>\n",
       "      <td>DSB Iba1 46_40X_CTX3</td>\n",
       "      <td>1.955882</td>\n",
       "      <td>1.985075</td>\n",
       "      <td>2.925311</td>\n",
       "      <td>2.987288</td>\n",
       "      <td>67</td>\n",
       "      <td>236</td>\n",
       "      <td>1</td>\n",
       "      <td>68</td>\n",
       "      <td>...</td>\n",
       "      <td>CTX3</td>\n",
       "      <td>46</td>\n",
       "      <td>253</td>\n",
       "      <td>female</td>\n",
       "      <td>APP/PS1 x Neil3 KO</td>\n",
       "      <td>poor</td>\n",
       "      <td>passed</td>\n",
       "      <td>optimal</td>\n",
       "      <td>suboptimal</td>\n",
       "      <td>False</td>\n",
       "    </tr>\n",
       "    <tr>\n",
       "      <th>220</th>\n",
       "      <td>220</td>\n",
       "      <td>DSB Iba1 46_40X_DG</td>\n",
       "      <td>2.129032</td>\n",
       "      <td>2.129032</td>\n",
       "      <td>2.689441</td>\n",
       "      <td>2.697819</td>\n",
       "      <td>124</td>\n",
       "      <td>321</td>\n",
       "      <td>0</td>\n",
       "      <td>124</td>\n",
       "      <td>...</td>\n",
       "      <td>DG</td>\n",
       "      <td>46</td>\n",
       "      <td>253</td>\n",
       "      <td>female</td>\n",
       "      <td>APP/PS1 x Neil3 KO</td>\n",
       "      <td>poor</td>\n",
       "      <td>passed</td>\n",
       "      <td>suboptimal</td>\n",
       "      <td>suboptimal</td>\n",
       "      <td>False</td>\n",
       "    </tr>\n",
       "    <tr>\n",
       "      <th>233</th>\n",
       "      <td>233</td>\n",
       "      <td>DSB Iba1 49_40X_CA1</td>\n",
       "      <td>2.176471</td>\n",
       "      <td>2.176471</td>\n",
       "      <td>2.551515</td>\n",
       "      <td>2.647799</td>\n",
       "      <td>17</td>\n",
       "      <td>159</td>\n",
       "      <td>0</td>\n",
       "      <td>17</td>\n",
       "      <td>...</td>\n",
       "      <td>CA1</td>\n",
       "      <td>49</td>\n",
       "      <td>231</td>\n",
       "      <td>male</td>\n",
       "      <td>APP/PS1 x Neil3 KO</td>\n",
       "      <td>poor</td>\n",
       "      <td>failed</td>\n",
       "      <td>optimal</td>\n",
       "      <td>suboptimal</td>\n",
       "      <td>False</td>\n",
       "    </tr>\n",
       "    <tr>\n",
       "      <th>234</th>\n",
       "      <td>234</td>\n",
       "      <td>DSB Iba1 49_40X_CA3</td>\n",
       "      <td>0.625000</td>\n",
       "      <td>1.666667</td>\n",
       "      <td>2.786885</td>\n",
       "      <td>4.594595</td>\n",
       "      <td>6</td>\n",
       "      <td>74</td>\n",
       "      <td>10</td>\n",
       "      <td>16</td>\n",
       "      <td>...</td>\n",
       "      <td>CA3</td>\n",
       "      <td>49</td>\n",
       "      <td>231</td>\n",
       "      <td>male</td>\n",
       "      <td>APP/PS1 x Neil3 KO</td>\n",
       "      <td>poor</td>\n",
       "      <td>failed</td>\n",
       "      <td>optimal</td>\n",
       "      <td>optimal</td>\n",
       "      <td>False</td>\n",
       "    </tr>\n",
       "    <tr>\n",
       "      <th>235</th>\n",
       "      <td>235</td>\n",
       "      <td>DSB Iba1 49_40X_CTX1</td>\n",
       "      <td>1.250000</td>\n",
       "      <td>1.428571</td>\n",
       "      <td>1.612500</td>\n",
       "      <td>1.779310</td>\n",
       "      <td>14</td>\n",
       "      <td>145</td>\n",
       "      <td>2</td>\n",
       "      <td>16</td>\n",
       "      <td>...</td>\n",
       "      <td>CTX1</td>\n",
       "      <td>49</td>\n",
       "      <td>231</td>\n",
       "      <td>male</td>\n",
       "      <td>APP/PS1 x Neil3 KO</td>\n",
       "      <td>poor</td>\n",
       "      <td>failed</td>\n",
       "      <td>optimal</td>\n",
       "      <td>optimal</td>\n",
       "      <td>False</td>\n",
       "    </tr>\n",
       "    <tr>\n",
       "      <th>236</th>\n",
       "      <td>236</td>\n",
       "      <td>DSB Iba1 49_40X_CTX2</td>\n",
       "      <td>1.777778</td>\n",
       "      <td>2.133333</td>\n",
       "      <td>1.738220</td>\n",
       "      <td>1.908046</td>\n",
       "      <td>15</td>\n",
       "      <td>174</td>\n",
       "      <td>3</td>\n",
       "      <td>18</td>\n",
       "      <td>...</td>\n",
       "      <td>CTX2</td>\n",
       "      <td>49</td>\n",
       "      <td>231</td>\n",
       "      <td>male</td>\n",
       "      <td>APP/PS1 x Neil3 KO</td>\n",
       "      <td>poor</td>\n",
       "      <td>failed</td>\n",
       "      <td>optimal</td>\n",
       "      <td>suboptimal</td>\n",
       "      <td>False</td>\n",
       "    </tr>\n",
       "    <tr>\n",
       "      <th>237</th>\n",
       "      <td>237</td>\n",
       "      <td>DSB Iba1 49_40X_CTX3</td>\n",
       "      <td>0.588235</td>\n",
       "      <td>1.111111</td>\n",
       "      <td>1.201439</td>\n",
       "      <td>2.036585</td>\n",
       "      <td>9</td>\n",
       "      <td>82</td>\n",
       "      <td>8</td>\n",
       "      <td>17</td>\n",
       "      <td>...</td>\n",
       "      <td>CTX3</td>\n",
       "      <td>49</td>\n",
       "      <td>231</td>\n",
       "      <td>male</td>\n",
       "      <td>APP/PS1 x Neil3 KO</td>\n",
       "      <td>poor</td>\n",
       "      <td>failed</td>\n",
       "      <td>optimal</td>\n",
       "      <td>optimal</td>\n",
       "      <td>False</td>\n",
       "    </tr>\n",
       "    <tr>\n",
       "      <th>238</th>\n",
       "      <td>238</td>\n",
       "      <td>DSB Iba1 49_40X_DG</td>\n",
       "      <td>2.000000</td>\n",
       "      <td>2.000000</td>\n",
       "      <td>2.992958</td>\n",
       "      <td>3.024911</td>\n",
       "      <td>28</td>\n",
       "      <td>281</td>\n",
       "      <td>0</td>\n",
       "      <td>28</td>\n",
       "      <td>...</td>\n",
       "      <td>DG</td>\n",
       "      <td>49</td>\n",
       "      <td>231</td>\n",
       "      <td>male</td>\n",
       "      <td>APP/PS1 x Neil3 KO</td>\n",
       "      <td>poor</td>\n",
       "      <td>failed</td>\n",
       "      <td>optimal</td>\n",
       "      <td>suboptimal</td>\n",
       "      <td>False</td>\n",
       "    </tr>\n",
       "  </tbody>\n",
       "</table>\n",
       "<p>60 rows × 24 columns</p>\n",
       "</div>"
      ],
      "text/plain": [
       "     index              filename  avg_dna_damage_foci/glia_+  \\\n",
       "47      47   DSB Iba1 16_40X_CA1                    0.936508   \n",
       "48      48   DSB Iba1 16_40X_CA3                    4.513514   \n",
       "49      49  DSB Iba1 16_40X_CTX1                    0.642857   \n",
       "50      50  DSB Iba1 16_40X_CTX2                    2.240664   \n",
       "51      51  DSB Iba1 16_40X_CTX3                    2.019231   \n",
       "52      52    DSB Iba1 16_40X_DG                    0.662896   \n",
       "53      53   DSB Iba1 17_40X_CA1                    1.818182   \n",
       "54      54   DSB Iba1 17_40X_CA3                    1.315789   \n",
       "55      55  DSB Iba1 17_40X_CTX1                    2.411765   \n",
       "56      56  DSB Iba1 17_40X_CTX2                    2.846154   \n",
       "57      57  DSB Iba1 17_40X_CTX3                    2.629630   \n",
       "58      58    DSB Iba1 17_40X_DG                    3.127517   \n",
       "59      59   DSB Iba1 18_40X_CA1                    1.357143   \n",
       "60      60   DSB Iba1 18_40X_CA3                    1.916667   \n",
       "61      61  DSB Iba1 18_40X_CTX1                    1.842105   \n",
       "62      62  DSB Iba1 18_40X_CTX2                    3.200000   \n",
       "63      63  DSB Iba1 18_40X_CTX3                    3.058824   \n",
       "64      64    DSB Iba1 18_40X_DG                    1.182692   \n",
       "65      65   DSB Iba1 19_40X_CA1                    1.000000   \n",
       "66      66   DSB Iba1 19_40X_CA3                    1.014085   \n",
       "67      67  DSB Iba1 19_40X_CTX1                    1.004739   \n",
       "68      68  DSB Iba1 19_40X_CTX2                    1.013889   \n",
       "69      69  DSB Iba1 19_40X_CTX3                    1.000000   \n",
       "70      70    DSB Iba1 19_40X_DG                    1.000000   \n",
       "107    107   DSB Iba1 26_40X_CA1                    2.571429   \n",
       "108    108   DSB Iba1 26_40X_CA3                    3.600000   \n",
       "109    109  DSB Iba1 26_40X_CTX1                    1.500000   \n",
       "110    110  DSB Iba1 26_40X_CTX2                    1.666667   \n",
       "111    111  DSB Iba1 26_40X_CTX3                    1.818182   \n",
       "112    112    DSB Iba1 26_40X_DG                    4.166667   \n",
       "113    113    DSB Iba1 27_40X_DG                    2.500000   \n",
       "138    138   DSB Iba1 32_40X_CA1                    4.277778   \n",
       "139    139   DSB Iba1 32_40X_CA3                    1.705882   \n",
       "140    140  DSB Iba1 32_40X_CTX1                    2.387097   \n",
       "141    141  DSB Iba1 32_40X_CTX2                    1.657895   \n",
       "142    142  DSB Iba1 32_40X_CTX3                    2.814815   \n",
       "143    143    DSB Iba1 32_40X_DG                    2.803279   \n",
       "156    156   DSB Iba1 35_40X_CA1                    0.900000   \n",
       "157    157   DSB Iba1 35_40X_CA3                    2.620690   \n",
       "158    158  DSB Iba1 35_40X_CTX1                    1.111111   \n",
       "159    159  DSB Iba1 35_40X_CTX2                    2.045045   \n",
       "160    160  DSB Iba1 35_40X_CTX3                    2.325000   \n",
       "161    161    DSB Iba1 35_40X_DG                    2.485075   \n",
       "174    174    DSB Iba1 38_40X_DG                    1.000000   \n",
       "205    205   DSB Iba1 44_40X_CA1                    1.419355   \n",
       "206    206   DSB Iba1 44_40X_CA3                    1.111111   \n",
       "207    207  DSB Iba1 44_40X_CTX1                    1.092593   \n",
       "208    208    DSB Iba1 44_40X_DG                    1.177215   \n",
       "215    215   DSB Iba1 46_40X_CA1                    2.303030   \n",
       "216    216   DSB Iba1 46_40X_CA3                    2.666667   \n",
       "217    217  DSB Iba1 46_40X_CTX1                    1.848101   \n",
       "218    218  DSB Iba1 46_40X_CTX2                    1.480769   \n",
       "219    219  DSB Iba1 46_40X_CTX3                    1.955882   \n",
       "220    220    DSB Iba1 46_40X_DG                    2.129032   \n",
       "233    233   DSB Iba1 49_40X_CA1                    2.176471   \n",
       "234    234   DSB Iba1 49_40X_CA3                    0.625000   \n",
       "235    235  DSB Iba1 49_40X_CTX1                    1.250000   \n",
       "236    236  DSB Iba1 49_40X_CTX2                    1.777778   \n",
       "237    237  DSB Iba1 49_40X_CTX3                    0.588235   \n",
       "238    238    DSB Iba1 49_40X_DG                    2.000000   \n",
       "\n",
       "     avg_dna_damage_foci/glia_+_damage_+  avg_dna_damage_foci/all_nuclei  \\\n",
       "47                              1.923913                        0.836207   \n",
       "48                              4.717514                        4.406250   \n",
       "49                              1.687500                        0.648352   \n",
       "50                              2.268908                        2.327068   \n",
       "51                              2.100000                        1.738589   \n",
       "52                              1.382075                        0.653509   \n",
       "53                              2.500000                        2.765306   \n",
       "54                              1.923077                        3.617486   \n",
       "55                              2.928571                        1.276923   \n",
       "56                              2.901961                        2.552980   \n",
       "57                              2.629630                        2.894444   \n",
       "58                              3.352518                        2.543561   \n",
       "59                              1.357143                        2.534722   \n",
       "60                              1.916667                        4.074074   \n",
       "61                              2.692308                        1.880000   \n",
       "62                              3.200000                        3.729412   \n",
       "63                              3.466667                        2.578947   \n",
       "64                              1.182692                        1.803419   \n",
       "65                              1.000000                        1.000000   \n",
       "66                              1.014085                        1.013699   \n",
       "67                              1.004739                        1.004717   \n",
       "68                              1.013889                        1.044444   \n",
       "69                              1.000000                        1.000000   \n",
       "70                              1.000000                        1.000000   \n",
       "107                             3.000000                        3.457143   \n",
       "108                             3.600000                        3.796875   \n",
       "109                             1.500000                        1.955357   \n",
       "110                             1.666667                        2.411765   \n",
       "111                             1.818182                        1.594059   \n",
       "112                             4.166667                        3.549575   \n",
       "113                             2.500000                        2.276498   \n",
       "138                             4.277778                        4.491892   \n",
       "139                             1.812500                        3.903704   \n",
       "140                             2.466667                        4.686207   \n",
       "141                             1.702703                        2.533613   \n",
       "142                             3.040000                        4.117978   \n",
       "143                             2.898305                        3.861575   \n",
       "156                             1.800000                        0.515789   \n",
       "157                             3.040000                        3.893258   \n",
       "158                             2.000000                        0.650407   \n",
       "159                             2.082569                        2.146067   \n",
       "160                             2.384615                        3.231527   \n",
       "161                             2.664000                        2.870892   \n",
       "174                             1.000000                        1.276190   \n",
       "205                             1.466667                        1.503650   \n",
       "206                             1.111111                        1.737374   \n",
       "207                             1.092593                        1.337553   \n",
       "208                             1.177215                        1.746725   \n",
       "215                             2.375000                        2.964286   \n",
       "216                             3.096774                        4.000000   \n",
       "217                             1.896104                        2.973585   \n",
       "218                             1.495146                        2.111498   \n",
       "219                             1.985075                        2.925311   \n",
       "220                             2.129032                        2.689441   \n",
       "233                             2.176471                        2.551515   \n",
       "234                             1.666667                        2.786885   \n",
       "235                             1.428571                        1.612500   \n",
       "236                             2.133333                        1.738220   \n",
       "237                             1.111111                        1.201439   \n",
       "238                             2.000000                        2.992958   \n",
       "\n",
       "     avg_dna_damage_foci/all_nuclei_damage_+  nr_+_dna_damage_glia_nuclei  \\\n",
       "47                                  1.796296                           92   \n",
       "48                                  4.726257                          177   \n",
       "49                                  1.882979                           16   \n",
       "50                                  2.389961                          238   \n",
       "51                                  2.053922                          100   \n",
       "52                                  1.379630                          212   \n",
       "53                                  3.985294                            8   \n",
       "54                                  4.762590                           13   \n",
       "55                                  2.141935                           14   \n",
       "56                                  2.640411                           51   \n",
       "57                                  3.196319                           27   \n",
       "58                                  2.971239                          139   \n",
       "59                                  2.534722                           14   \n",
       "60                                  4.112150                           12   \n",
       "61                                  2.858108                           13   \n",
       "62                                  3.865854                           20   \n",
       "63                                  3.392308                           15   \n",
       "64                                  1.803419                          104   \n",
       "65                                  1.000000                           66   \n",
       "66                                  1.013699                           71   \n",
       "67                                  1.004717                          211   \n",
       "68                                  1.044444                           72   \n",
       "69                                  1.000000                          103   \n",
       "70                                  1.000000                          127   \n",
       "107                                 3.934959                            6   \n",
       "108                                 4.189655                            5   \n",
       "109                                 1.990909                            8   \n",
       "110                                 2.432203                           15   \n",
       "111                                 1.594059                           11   \n",
       "112                                 3.808511                           12   \n",
       "113                                 2.386473                            4   \n",
       "138                                 4.591160                           18   \n",
       "139                                 4.022901                           16   \n",
       "140                                 4.802120                           30   \n",
       "141                                 2.555085                           37   \n",
       "142                                 4.415663                           25   \n",
       "143                                 4.024876                           59   \n",
       "156                                 1.633333                            5   \n",
       "157                                 4.559211                           25   \n",
       "158                                 1.649485                           10   \n",
       "159                                 2.348361                          109   \n",
       "160                                 3.434555                           78   \n",
       "161                                 3.096203                          125   \n",
       "174                                 1.288462                            4   \n",
       "205                                 1.525926                           30   \n",
       "206                                 1.737374                           18   \n",
       "207                                 1.337553                           54   \n",
       "208                                 1.777778                           79   \n",
       "215                                 3.036585                           64   \n",
       "216                                 4.548387                           31   \n",
       "217                                 3.007634                           77   \n",
       "218                                 2.126316                          103   \n",
       "219                                 2.987288                           67   \n",
       "220                                 2.697819                          124   \n",
       "233                                 2.647799                           17   \n",
       "234                                 4.594595                            6   \n",
       "235                                 1.779310                           14   \n",
       "236                                 1.908046                           15   \n",
       "237                                 2.036585                            9   \n",
       "238                                 3.024911                           28   \n",
       "\n",
       "     nr_+_dna_damage_all_nuclei  nr_-_dna_damage_glia_nuclei  \\\n",
       "47                          108                           97   \n",
       "48                          179                            8   \n",
       "49                           94                           26   \n",
       "50                          259                            3   \n",
       "51                          204                            4   \n",
       "52                          216                          230   \n",
       "53                          136                            3   \n",
       "54                          139                            6   \n",
       "55                          155                            3   \n",
       "56                          292                            1   \n",
       "57                          163                            0   \n",
       "58                          452                           10   \n",
       "59                          144                            0   \n",
       "60                          107                            0   \n",
       "61                          148                            6   \n",
       "62                          246                            0   \n",
       "63                          130                            2   \n",
       "64                          351                            0   \n",
       "65                           68                            0   \n",
       "66                           73                            0   \n",
       "67                          212                            0   \n",
       "68                           90                            0   \n",
       "69                          124                            0   \n",
       "70                          128                            0   \n",
       "107                         123                            1   \n",
       "108                          58                            0   \n",
       "109                         110                            0   \n",
       "110                         118                            0   \n",
       "111                         101                            0   \n",
       "112                         329                            0   \n",
       "113                         207                            0   \n",
       "138                         181                            0   \n",
       "139                         131                            1   \n",
       "140                         283                            1   \n",
       "141                         236                            1   \n",
       "142                         166                            2   \n",
       "143                         402                            2   \n",
       "156                          60                            5   \n",
       "157                         152                            4   \n",
       "158                          97                            8   \n",
       "159                         244                            2   \n",
       "160                         191                            2   \n",
       "161                         395                            9   \n",
       "174                         104                            0   \n",
       "205                         135                            1   \n",
       "206                          99                            0   \n",
       "207                         237                            0   \n",
       "208                         225                            0   \n",
       "215                         164                            2   \n",
       "216                         124                            5   \n",
       "217                         262                            2   \n",
       "218                         285                            1   \n",
       "219                         236                            1   \n",
       "220                         321                            0   \n",
       "233                         159                            0   \n",
       "234                          74                           10   \n",
       "235                         145                            2   \n",
       "236                         174                            3   \n",
       "237                          82                            8   \n",
       "238                         281                            0   \n",
       "\n",
       "     nr_glia_+_nuclei  ...  tissue_location  staining_id  animal_id     sex  \\\n",
       "47                189  ...              CA1           16        887    male   \n",
       "48                185  ...              CA3           16        887    male   \n",
       "49                 42  ...             CTX1           16        887    male   \n",
       "50                241  ...             CTX2           16        887    male   \n",
       "51                104  ...             CTX3           16        887    male   \n",
       "52                438  ...               DG           16        887    male   \n",
       "53                 11  ...              CA1           17        892  female   \n",
       "54                 19  ...              CA3           17        892  female   \n",
       "55                 17  ...             CTX1           17        892  female   \n",
       "56                 52  ...             CTX2           17        892  female   \n",
       "57                 27  ...             CTX3           17        892  female   \n",
       "58                149  ...               DG           17        892  female   \n",
       "59                 14  ...              CA1           18        231    male   \n",
       "60                 12  ...              CA3           18        231    male   \n",
       "61                 19  ...             CTX1           18        231    male   \n",
       "62                 20  ...             CTX2           18        231    male   \n",
       "63                 17  ...             CTX3           18        231    male   \n",
       "64                104  ...               DG           18        231    male   \n",
       "65                 66  ...              CA1           19        154  female   \n",
       "66                 71  ...              CA3           19        154  female   \n",
       "67                211  ...             CTX1           19        154  female   \n",
       "68                 71  ...             CTX2           19        154  female   \n",
       "69                103  ...             CTX3           19        154  female   \n",
       "70                127  ...               DG           19        154  female   \n",
       "107                 7  ...              CA1           26        231    male   \n",
       "108                 5  ...              CA3           26        231    male   \n",
       "109                 8  ...             CTX1           26        231    male   \n",
       "110                15  ...             CTX2           26        231    male   \n",
       "111                11  ...             CTX3           26        231    male   \n",
       "112                12  ...               DG           26        231    male   \n",
       "113                 4  ...               DG           27        147  female   \n",
       "138                18  ...              CA1           32        253  female   \n",
       "139                17  ...              CA3           32        253  female   \n",
       "140                31  ...             CTX1           32        253  female   \n",
       "141                38  ...             CTX2           32        253  female   \n",
       "142                27  ...             CTX3           32        253  female   \n",
       "143                60  ...               DG           32        253  female   \n",
       "156                10  ...              CA1           35        305    male   \n",
       "157                29  ...              CA3           35        305    male   \n",
       "158                18  ...             CTX1           35        305    male   \n",
       "159               111  ...             CTX2           35        305    male   \n",
       "160                80  ...             CTX3           35        305    male   \n",
       "161               134  ...               DG           35        305    male   \n",
       "174                 4  ...               DG           38        154  female   \n",
       "205                31  ...              CA1           44        147  female   \n",
       "206                18  ...              CA3           44        147  female   \n",
       "207                54  ...             CTX1           44        147  female   \n",
       "208                79  ...               DG           44        147  female   \n",
       "215                66  ...              CA1           46        253  female   \n",
       "216                36  ...              CA3           46        253  female   \n",
       "217                79  ...             CTX1           46        253  female   \n",
       "218               104  ...             CTX2           46        253  female   \n",
       "219                68  ...             CTX3           46        253  female   \n",
       "220               124  ...               DG           46        253  female   \n",
       "233                17  ...              CA1           49        231    male   \n",
       "234                16  ...              CA3           49        231    male   \n",
       "235                16  ...             CTX1           49        231    male   \n",
       "236                18  ...             CTX2           49        231    male   \n",
       "237                17  ...             CTX3           49        231    male   \n",
       "238                28  ...               DG           49        231    male   \n",
       "\n",
       "               genotype  dna_damage_stain_quality_manual  manual_qc  \\\n",
       "47              APP/PS1                             poor     failed   \n",
       "48              APP/PS1                             poor     failed   \n",
       "49              APP/PS1                             poor     failed   \n",
       "50              APP/PS1                             poor     failed   \n",
       "51              APP/PS1                             poor     failed   \n",
       "52              APP/PS1                             poor     failed   \n",
       "53              APP/PS1                             poor     failed   \n",
       "54              APP/PS1                             poor     failed   \n",
       "55              APP/PS1                             poor     failed   \n",
       "56              APP/PS1                             poor     failed   \n",
       "57              APP/PS1                             poor     failed   \n",
       "58              APP/PS1                             poor     failed   \n",
       "59   APP/PS1 x Neil3 KO                             poor     failed   \n",
       "60   APP/PS1 x Neil3 KO                             poor     failed   \n",
       "61   APP/PS1 x Neil3 KO                             poor     failed   \n",
       "62   APP/PS1 x Neil3 KO                             poor     failed   \n",
       "63   APP/PS1 x Neil3 KO                             poor     failed   \n",
       "64   APP/PS1 x Neil3 KO                             poor     failed   \n",
       "65   APP/PS1 x Neil3 KO                             poor     failed   \n",
       "66   APP/PS1 x Neil3 KO                             poor     failed   \n",
       "67   APP/PS1 x Neil3 KO                             poor     failed   \n",
       "68   APP/PS1 x Neil3 KO                             poor     failed   \n",
       "69   APP/PS1 x Neil3 KO                             poor     failed   \n",
       "70   APP/PS1 x Neil3 KO                             poor     failed   \n",
       "107  APP/PS1 x Neil3 KO                             poor     failed   \n",
       "108  APP/PS1 x Neil3 KO                             poor     failed   \n",
       "109  APP/PS1 x Neil3 KO                             poor     failed   \n",
       "110  APP/PS1 x Neil3 KO                             poor     failed   \n",
       "111  APP/PS1 x Neil3 KO                             poor     failed   \n",
       "112  APP/PS1 x Neil3 KO                             poor     failed   \n",
       "113             APP/PS1                             poor     passed   \n",
       "138  APP/PS1 x Neil3 KO                             poor     failed   \n",
       "139  APP/PS1 x Neil3 KO                             poor     failed   \n",
       "140  APP/PS1 x Neil3 KO                             poor     failed   \n",
       "141  APP/PS1 x Neil3 KO                             poor     failed   \n",
       "142  APP/PS1 x Neil3 KO                             poor     failed   \n",
       "143  APP/PS1 x Neil3 KO                             poor     failed   \n",
       "156  APP/PS1 x Neil3 KO                             poor     passed   \n",
       "157  APP/PS1 x Neil3 KO                             poor     passed   \n",
       "158  APP/PS1 x Neil3 KO                             poor     passed   \n",
       "159  APP/PS1 x Neil3 KO                             poor     passed   \n",
       "160  APP/PS1 x Neil3 KO                             poor     passed   \n",
       "161  APP/PS1 x Neil3 KO                             poor     passed   \n",
       "174  APP/PS1 x Neil3 KO                             poor     failed   \n",
       "205             APP/PS1                             poor     passed   \n",
       "206             APP/PS1                             poor     passed   \n",
       "207             APP/PS1                             poor     passed   \n",
       "208             APP/PS1                             poor     passed   \n",
       "215  APP/PS1 x Neil3 KO                             poor     passed   \n",
       "216  APP/PS1 x Neil3 KO                             poor     passed   \n",
       "217  APP/PS1 x Neil3 KO                             poor     passed   \n",
       "218  APP/PS1 x Neil3 KO                             poor     passed   \n",
       "219  APP/PS1 x Neil3 KO                             poor     passed   \n",
       "220  APP/PS1 x Neil3 KO                             poor     passed   \n",
       "233  APP/PS1 x Neil3 KO                             poor     failed   \n",
       "234  APP/PS1 x Neil3 KO                             poor     failed   \n",
       "235  APP/PS1 x Neil3 KO                             poor     failed   \n",
       "236  APP/PS1 x Neil3 KO                             poor     failed   \n",
       "237  APP/PS1 x Neil3 KO                             poor     failed   \n",
       "238  APP/PS1 x Neil3 KO                             poor     failed   \n",
       "\n",
       "    glia_stain_quality_auto dna_damage_stain_quality_auto staining_qc_passed  \n",
       "47               suboptimal                       optimal              False  \n",
       "48               suboptimal                       optimal              False  \n",
       "49                  optimal                       optimal              False  \n",
       "50               suboptimal                    suboptimal              False  \n",
       "51               suboptimal                       optimal              False  \n",
       "52               suboptimal                       optimal              False  \n",
       "53                  optimal                       optimal              False  \n",
       "54                  optimal                       optimal              False  \n",
       "55                  optimal                       optimal              False  \n",
       "56                  optimal                       optimal              False  \n",
       "57                  optimal                       optimal              False  \n",
       "58               suboptimal                       optimal              False  \n",
       "59                  optimal                    suboptimal              False  \n",
       "60                  optimal                    suboptimal              False  \n",
       "61                  optimal                       optimal              False  \n",
       "62                  optimal                    suboptimal              False  \n",
       "63                  optimal                       optimal              False  \n",
       "64               suboptimal                    suboptimal              False  \n",
       "65               suboptimal                    suboptimal              False  \n",
       "66               suboptimal                    suboptimal              False  \n",
       "67               suboptimal                    suboptimal              False  \n",
       "68               suboptimal                    suboptimal              False  \n",
       "69               suboptimal                    suboptimal              False  \n",
       "70               suboptimal                    suboptimal              False  \n",
       "107                 optimal                       optimal              False  \n",
       "108                 optimal                       optimal              False  \n",
       "109                 optimal                    suboptimal              False  \n",
       "110                 optimal                    suboptimal              False  \n",
       "111                 optimal                    suboptimal              False  \n",
       "112                 optimal                       optimal              False  \n",
       "113                 optimal                    suboptimal              False  \n",
       "138                 optimal                       optimal              False  \n",
       "139                 optimal                       optimal              False  \n",
       "140                 optimal                       optimal              False  \n",
       "141                 optimal                    suboptimal              False  \n",
       "142                 optimal                       optimal              False  \n",
       "143                 optimal                       optimal              False  \n",
       "156                 optimal                       optimal              False  \n",
       "157                 optimal                       optimal              False  \n",
       "158                 optimal                       optimal              False  \n",
       "159              suboptimal                       optimal              False  \n",
       "160                 optimal                       optimal              False  \n",
       "161              suboptimal                       optimal              False  \n",
       "174                 optimal                    suboptimal              False  \n",
       "205              suboptimal                    suboptimal              False  \n",
       "206              suboptimal                    suboptimal              False  \n",
       "207              suboptimal                    suboptimal              False  \n",
       "208              suboptimal                    suboptimal              False  \n",
       "215              suboptimal                    suboptimal              False  \n",
       "216                 optimal                       optimal              False  \n",
       "217              suboptimal                    suboptimal              False  \n",
       "218              suboptimal                    suboptimal              False  \n",
       "219                 optimal                    suboptimal              False  \n",
       "220              suboptimal                    suboptimal              False  \n",
       "233                 optimal                    suboptimal              False  \n",
       "234                 optimal                       optimal              False  \n",
       "235                 optimal                       optimal              False  \n",
       "236                 optimal                    suboptimal              False  \n",
       "237                 optimal                       optimal              False  \n",
       "238                 optimal                    suboptimal              False  \n",
       "\n",
       "[60 rows x 24 columns]"
      ]
     },
     "execution_count": 36,
     "metadata": {},
     "output_type": "execute_result"
    }
   ],
   "source": [
    "qc_failed_df = merged_df[merged_df['staining_qc_passed'] == False]\n",
    "\n",
    "print(f\"{qc_failed_df.shape[0]} stains have not passed QC and have been discarded\")\n",
    "\n",
    "qc_failed_df\n"
   ]
  }
 ],
 "metadata": {
  "kernelspec": {
   "display_name": "microglia",
   "language": "python",
   "name": "python3"
  },
  "language_info": {
   "codemirror_mode": {
    "name": "ipython",
    "version": 3
   },
   "file_extension": ".py",
   "mimetype": "text/x-python",
   "name": "python",
   "nbconvert_exporter": "python",
   "pygments_lexer": "ipython3",
   "version": "3.9.18"
  }
 },
 "nbformat": 4,
 "nbformat_minor": 2
}
