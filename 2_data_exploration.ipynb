{
 "cells": [
  {
   "cell_type": "code",
   "execution_count": 139,
   "metadata": {},
   "outputs": [],
   "source": [
    "import pandas as pd\n",
    "import plotly.express as px\n",
    "import re"
   ]
  },
  {
   "cell_type": "code",
   "execution_count": 140,
   "metadata": {},
   "outputs": [
    {
     "data": {
      "text/html": [
       "<div>\n",
       "<style scoped>\n",
       "    .dataframe tbody tr th:only-of-type {\n",
       "        vertical-align: middle;\n",
       "    }\n",
       "\n",
       "    .dataframe tbody tr th {\n",
       "        vertical-align: top;\n",
       "    }\n",
       "\n",
       "    .dataframe thead th {\n",
       "        text-align: right;\n",
       "    }\n",
       "</style>\n",
       "<table border=\"1\" class=\"dataframe\">\n",
       "  <thead>\n",
       "    <tr style=\"text-align: right;\">\n",
       "      <th></th>\n",
       "      <th>index</th>\n",
       "      <th>filename</th>\n",
       "      <th>avg_dna_damage_foci/glia_+</th>\n",
       "      <th>avg_dna_damage_foci/glia_+_damage_+</th>\n",
       "      <th>avg_dna_damage_foci/all_nuclei</th>\n",
       "      <th>avg_dna_damage_foci/all_nuclei_damage_+</th>\n",
       "      <th>nr_+_dna_damage_glia_nuclei</th>\n",
       "      <th>nr_-_dna_damage_glia_nuclei</th>\n",
       "      <th>nr_glia_+_nuclei</th>\n",
       "      <th>nr_total_nuclei</th>\n",
       "      <th>%_dna_damage_signal</th>\n",
       "      <th>%_glia+_signal</th>\n",
       "      <th>tissue_location</th>\n",
       "      <th>staining_id</th>\n",
       "    </tr>\n",
       "  </thead>\n",
       "  <tbody>\n",
       "    <tr>\n",
       "      <th>0</th>\n",
       "      <td>0</td>\n",
       "      <td>DSB Iba1 16_40X_CA1</td>\n",
       "      <td>0.568182</td>\n",
       "      <td>1.315789</td>\n",
       "      <td>0.840491</td>\n",
       "      <td>1.611765</td>\n",
       "      <td>57</td>\n",
       "      <td>75</td>\n",
       "      <td>132</td>\n",
       "      <td>163</td>\n",
       "      <td>1.096630</td>\n",
       "      <td>88.633728</td>\n",
       "      <td>CA1</td>\n",
       "      <td>16</td>\n",
       "    </tr>\n",
       "    <tr>\n",
       "      <th>1</th>\n",
       "      <td>1</td>\n",
       "      <td>DSB Iba1 16_40X_CA3</td>\n",
       "      <td>2.722581</td>\n",
       "      <td>2.992908</td>\n",
       "      <td>4.049080</td>\n",
       "      <td>4.230769</td>\n",
       "      <td>141</td>\n",
       "      <td>14</td>\n",
       "      <td>155</td>\n",
       "      <td>163</td>\n",
       "      <td>18.227673</td>\n",
       "      <td>96.349525</td>\n",
       "      <td>CA3</td>\n",
       "      <td>16</td>\n",
       "    </tr>\n",
       "    <tr>\n",
       "      <th>2</th>\n",
       "      <td>2</td>\n",
       "      <td>DSB Iba1 16_40X_CTX1</td>\n",
       "      <td>0.756757</td>\n",
       "      <td>1.647059</td>\n",
       "      <td>0.738739</td>\n",
       "      <td>1.822222</td>\n",
       "      <td>17</td>\n",
       "      <td>20</td>\n",
       "      <td>37</td>\n",
       "      <td>222</td>\n",
       "      <td>0.844288</td>\n",
       "      <td>13.598442</td>\n",
       "      <td>CTX1</td>\n",
       "      <td>16</td>\n",
       "    </tr>\n",
       "    <tr>\n",
       "      <th>3</th>\n",
       "      <td>3</td>\n",
       "      <td>DSB Iba1 16_40X_CTX2</td>\n",
       "      <td>1.748899</td>\n",
       "      <td>1.821101</td>\n",
       "      <td>2.535270</td>\n",
       "      <td>2.588983</td>\n",
       "      <td>218</td>\n",
       "      <td>9</td>\n",
       "      <td>227</td>\n",
       "      <td>241</td>\n",
       "      <td>39.405441</td>\n",
       "      <td>94.930744</td>\n",
       "      <td>CTX2</td>\n",
       "      <td>16</td>\n",
       "    </tr>\n",
       "    <tr>\n",
       "      <th>4</th>\n",
       "      <td>4</td>\n",
       "      <td>DSB Iba1 16_40X_CTX3</td>\n",
       "      <td>1.750000</td>\n",
       "      <td>1.866667</td>\n",
       "      <td>2.004785</td>\n",
       "      <td>2.277174</td>\n",
       "      <td>120</td>\n",
       "      <td>8</td>\n",
       "      <td>128</td>\n",
       "      <td>209</td>\n",
       "      <td>9.070396</td>\n",
       "      <td>54.768944</td>\n",
       "      <td>CTX3</td>\n",
       "      <td>16</td>\n",
       "    </tr>\n",
       "  </tbody>\n",
       "</table>\n",
       "</div>"
      ],
      "text/plain": [
       "   index              filename  avg_dna_damage_foci/glia_+  \\\n",
       "0      0   DSB Iba1 16_40X_CA1                    0.568182   \n",
       "1      1   DSB Iba1 16_40X_CA3                    2.722581   \n",
       "2      2  DSB Iba1 16_40X_CTX1                    0.756757   \n",
       "3      3  DSB Iba1 16_40X_CTX2                    1.748899   \n",
       "4      4  DSB Iba1 16_40X_CTX3                    1.750000   \n",
       "\n",
       "   avg_dna_damage_foci/glia_+_damage_+  avg_dna_damage_foci/all_nuclei  \\\n",
       "0                             1.315789                        0.840491   \n",
       "1                             2.992908                        4.049080   \n",
       "2                             1.647059                        0.738739   \n",
       "3                             1.821101                        2.535270   \n",
       "4                             1.866667                        2.004785   \n",
       "\n",
       "   avg_dna_damage_foci/all_nuclei_damage_+  nr_+_dna_damage_glia_nuclei  \\\n",
       "0                                 1.611765                           57   \n",
       "1                                 4.230769                          141   \n",
       "2                                 1.822222                           17   \n",
       "3                                 2.588983                          218   \n",
       "4                                 2.277174                          120   \n",
       "\n",
       "   nr_-_dna_damage_glia_nuclei  nr_glia_+_nuclei  nr_total_nuclei  \\\n",
       "0                           75               132              163   \n",
       "1                           14               155              163   \n",
       "2                           20                37              222   \n",
       "3                            9               227              241   \n",
       "4                            8               128              209   \n",
       "\n",
       "   %_dna_damage_signal  %_glia+_signal tissue_location staining_id  \n",
       "0             1.096630       88.633728             CA1          16  \n",
       "1            18.227673       96.349525             CA3          16  \n",
       "2             0.844288       13.598442            CTX1          16  \n",
       "3            39.405441       94.930744            CTX2          16  \n",
       "4             9.070396       54.768944            CTX3          16  "
      ]
     },
     "execution_count": 140,
     "metadata": {},
     "output_type": "execute_result"
    }
   ],
   "source": [
    "csv_path = \"./results_cellpdia30_sigma6_dilrad4_gliathr20.csv\"\n",
    "\n",
    "# Read the CSV file\n",
    "df = pd.read_csv(csv_path)\n",
    "\n",
    "# Convert the index into a column\n",
    "df.reset_index(inplace=True)\n",
    "\n",
    "# Extract 'tissue_location'\n",
    "df['tissue_location'] = df['filename'].str.split('_40X_').str[-1]\n",
    "\n",
    "# Extract 'staining_id'\n",
    "df['staining_id'] = df['filename'].str.extract('(\\d+)_40X')\n",
    "\n",
    "# Display the first few rows of the DataFrame\n",
    "df.head()\n"
   ]
  },
  {
   "cell_type": "code",
   "execution_count": 141,
   "metadata": {},
   "outputs": [
    {
     "data": {
      "text/html": [
       "<div>\n",
       "<style scoped>\n",
       "    .dataframe tbody tr th:only-of-type {\n",
       "        vertical-align: middle;\n",
       "    }\n",
       "\n",
       "    .dataframe tbody tr th {\n",
       "        vertical-align: top;\n",
       "    }\n",
       "\n",
       "    .dataframe thead th {\n",
       "        text-align: right;\n",
       "    }\n",
       "</style>\n",
       "<table border=\"1\" class=\"dataframe\">\n",
       "  <thead>\n",
       "    <tr style=\"text-align: right;\">\n",
       "      <th></th>\n",
       "      <th>staining_id</th>\n",
       "      <th>animal_id</th>\n",
       "      <th>sex</th>\n",
       "      <th>genotype</th>\n",
       "      <th>dna_damage_stain_quality_manual</th>\n",
       "    </tr>\n",
       "  </thead>\n",
       "  <tbody>\n",
       "    <tr>\n",
       "      <th>0</th>\n",
       "      <td>34</td>\n",
       "      <td>885</td>\n",
       "      <td>male</td>\n",
       "      <td>APP/PS1</td>\n",
       "      <td>poor</td>\n",
       "    </tr>\n",
       "    <tr>\n",
       "      <th>1</th>\n",
       "      <td>53</td>\n",
       "      <td>885</td>\n",
       "      <td>male</td>\n",
       "      <td>APP/PS1</td>\n",
       "      <td>good</td>\n",
       "    </tr>\n",
       "    <tr>\n",
       "      <th>2</th>\n",
       "      <td>23</td>\n",
       "      <td>2042</td>\n",
       "      <td>male</td>\n",
       "      <td>APP/PS1</td>\n",
       "      <td>good</td>\n",
       "    </tr>\n",
       "    <tr>\n",
       "      <th>3</th>\n",
       "      <td>31</td>\n",
       "      <td>2042</td>\n",
       "      <td>male</td>\n",
       "      <td>APP/PS1</td>\n",
       "      <td>good</td>\n",
       "    </tr>\n",
       "    <tr>\n",
       "      <th>4</th>\n",
       "      <td>43</td>\n",
       "      <td>2042</td>\n",
       "      <td>male</td>\n",
       "      <td>APP/PS1</td>\n",
       "      <td>good</td>\n",
       "    </tr>\n",
       "  </tbody>\n",
       "</table>\n",
       "</div>"
      ],
      "text/plain": [
       "   staining_id  animal_id   sex genotype dna_damage_stain_quality_manual\n",
       "0           34        885  male  APP/PS1                            poor\n",
       "1           53        885  male  APP/PS1                            good\n",
       "2           23       2042  male  APP/PS1                            good\n",
       "3           31       2042  male  APP/PS1                            good\n",
       "4           43       2042  male  APP/PS1                            good"
      ]
     },
     "execution_count": 141,
     "metadata": {},
     "output_type": "execute_result"
    }
   ],
   "source": [
    "mouse_id_csv_path = \"./mouse_ids.csv\"\n",
    "\n",
    "# Read the CSV file\n",
    "df_mouse_id = pd.read_csv(mouse_id_csv_path, delimiter=\";\", encoding=\"UTF-8\")\n",
    "\n",
    "# Display the first few rows of the DataFrame\n",
    "df_mouse_id.head()"
   ]
  },
  {
   "cell_type": "code",
   "execution_count": 142,
   "metadata": {},
   "outputs": [
    {
     "data": {
      "text/html": [
       "<div>\n",
       "<style scoped>\n",
       "    .dataframe tbody tr th:only-of-type {\n",
       "        vertical-align: middle;\n",
       "    }\n",
       "\n",
       "    .dataframe tbody tr th {\n",
       "        vertical-align: top;\n",
       "    }\n",
       "\n",
       "    .dataframe thead th {\n",
       "        text-align: right;\n",
       "    }\n",
       "</style>\n",
       "<table border=\"1\" class=\"dataframe\">\n",
       "  <thead>\n",
       "    <tr style=\"text-align: right;\">\n",
       "      <th></th>\n",
       "      <th>index</th>\n",
       "      <th>filename</th>\n",
       "      <th>avg_dna_damage_foci/glia_+</th>\n",
       "      <th>avg_dna_damage_foci/glia_+_damage_+</th>\n",
       "      <th>avg_dna_damage_foci/all_nuclei</th>\n",
       "      <th>avg_dna_damage_foci/all_nuclei_damage_+</th>\n",
       "      <th>nr_+_dna_damage_glia_nuclei</th>\n",
       "      <th>nr_-_dna_damage_glia_nuclei</th>\n",
       "      <th>nr_glia_+_nuclei</th>\n",
       "      <th>nr_total_nuclei</th>\n",
       "      <th>%_dna_damage_signal</th>\n",
       "      <th>%_glia+_signal</th>\n",
       "      <th>tissue_location</th>\n",
       "      <th>staining_id</th>\n",
       "      <th>animal_id</th>\n",
       "      <th>sex</th>\n",
       "      <th>genotype</th>\n",
       "      <th>dna_damage_stain_quality_manual</th>\n",
       "    </tr>\n",
       "  </thead>\n",
       "  <tbody>\n",
       "    <tr>\n",
       "      <th>0</th>\n",
       "      <td>0</td>\n",
       "      <td>DSB Iba1 16_40X_CA1</td>\n",
       "      <td>0.568182</td>\n",
       "      <td>1.315789</td>\n",
       "      <td>0.840491</td>\n",
       "      <td>1.611765</td>\n",
       "      <td>57</td>\n",
       "      <td>75</td>\n",
       "      <td>132</td>\n",
       "      <td>163</td>\n",
       "      <td>1.096630</td>\n",
       "      <td>88.633728</td>\n",
       "      <td>CA1</td>\n",
       "      <td>16</td>\n",
       "      <td>887</td>\n",
       "      <td>male</td>\n",
       "      <td>APP/PS1</td>\n",
       "      <td>poor</td>\n",
       "    </tr>\n",
       "    <tr>\n",
       "      <th>1</th>\n",
       "      <td>1</td>\n",
       "      <td>DSB Iba1 16_40X_CA3</td>\n",
       "      <td>2.722581</td>\n",
       "      <td>2.992908</td>\n",
       "      <td>4.049080</td>\n",
       "      <td>4.230769</td>\n",
       "      <td>141</td>\n",
       "      <td>14</td>\n",
       "      <td>155</td>\n",
       "      <td>163</td>\n",
       "      <td>18.227673</td>\n",
       "      <td>96.349525</td>\n",
       "      <td>CA3</td>\n",
       "      <td>16</td>\n",
       "      <td>887</td>\n",
       "      <td>male</td>\n",
       "      <td>APP/PS1</td>\n",
       "      <td>poor</td>\n",
       "    </tr>\n",
       "    <tr>\n",
       "      <th>2</th>\n",
       "      <td>2</td>\n",
       "      <td>DSB Iba1 16_40X_CTX1</td>\n",
       "      <td>0.756757</td>\n",
       "      <td>1.647059</td>\n",
       "      <td>0.738739</td>\n",
       "      <td>1.822222</td>\n",
       "      <td>17</td>\n",
       "      <td>20</td>\n",
       "      <td>37</td>\n",
       "      <td>222</td>\n",
       "      <td>0.844288</td>\n",
       "      <td>13.598442</td>\n",
       "      <td>CTX1</td>\n",
       "      <td>16</td>\n",
       "      <td>887</td>\n",
       "      <td>male</td>\n",
       "      <td>APP/PS1</td>\n",
       "      <td>poor</td>\n",
       "    </tr>\n",
       "    <tr>\n",
       "      <th>3</th>\n",
       "      <td>3</td>\n",
       "      <td>DSB Iba1 16_40X_CTX2</td>\n",
       "      <td>1.748899</td>\n",
       "      <td>1.821101</td>\n",
       "      <td>2.535270</td>\n",
       "      <td>2.588983</td>\n",
       "      <td>218</td>\n",
       "      <td>9</td>\n",
       "      <td>227</td>\n",
       "      <td>241</td>\n",
       "      <td>39.405441</td>\n",
       "      <td>94.930744</td>\n",
       "      <td>CTX2</td>\n",
       "      <td>16</td>\n",
       "      <td>887</td>\n",
       "      <td>male</td>\n",
       "      <td>APP/PS1</td>\n",
       "      <td>poor</td>\n",
       "    </tr>\n",
       "    <tr>\n",
       "      <th>4</th>\n",
       "      <td>4</td>\n",
       "      <td>DSB Iba1 16_40X_CTX3</td>\n",
       "      <td>1.750000</td>\n",
       "      <td>1.866667</td>\n",
       "      <td>2.004785</td>\n",
       "      <td>2.277174</td>\n",
       "      <td>120</td>\n",
       "      <td>8</td>\n",
       "      <td>128</td>\n",
       "      <td>209</td>\n",
       "      <td>9.070396</td>\n",
       "      <td>54.768944</td>\n",
       "      <td>CTX3</td>\n",
       "      <td>16</td>\n",
       "      <td>887</td>\n",
       "      <td>male</td>\n",
       "      <td>APP/PS1</td>\n",
       "      <td>poor</td>\n",
       "    </tr>\n",
       "  </tbody>\n",
       "</table>\n",
       "</div>"
      ],
      "text/plain": [
       "   index              filename  avg_dna_damage_foci/glia_+  \\\n",
       "0      0   DSB Iba1 16_40X_CA1                    0.568182   \n",
       "1      1   DSB Iba1 16_40X_CA3                    2.722581   \n",
       "2      2  DSB Iba1 16_40X_CTX1                    0.756757   \n",
       "3      3  DSB Iba1 16_40X_CTX2                    1.748899   \n",
       "4      4  DSB Iba1 16_40X_CTX3                    1.750000   \n",
       "\n",
       "   avg_dna_damage_foci/glia_+_damage_+  avg_dna_damage_foci/all_nuclei  \\\n",
       "0                             1.315789                        0.840491   \n",
       "1                             2.992908                        4.049080   \n",
       "2                             1.647059                        0.738739   \n",
       "3                             1.821101                        2.535270   \n",
       "4                             1.866667                        2.004785   \n",
       "\n",
       "   avg_dna_damage_foci/all_nuclei_damage_+  nr_+_dna_damage_glia_nuclei  \\\n",
       "0                                 1.611765                           57   \n",
       "1                                 4.230769                          141   \n",
       "2                                 1.822222                           17   \n",
       "3                                 2.588983                          218   \n",
       "4                                 2.277174                          120   \n",
       "\n",
       "   nr_-_dna_damage_glia_nuclei  nr_glia_+_nuclei  nr_total_nuclei  \\\n",
       "0                           75               132              163   \n",
       "1                           14               155              163   \n",
       "2                           20                37              222   \n",
       "3                            9               227              241   \n",
       "4                            8               128              209   \n",
       "\n",
       "   %_dna_damage_signal  %_glia+_signal tissue_location  staining_id  \\\n",
       "0             1.096630       88.633728             CA1           16   \n",
       "1            18.227673       96.349525             CA3           16   \n",
       "2             0.844288       13.598442            CTX1           16   \n",
       "3            39.405441       94.930744            CTX2           16   \n",
       "4             9.070396       54.768944            CTX3           16   \n",
       "\n",
       "   animal_id   sex genotype dna_damage_stain_quality_manual  \n",
       "0        887  male  APP/PS1                            poor  \n",
       "1        887  male  APP/PS1                            poor  \n",
       "2        887  male  APP/PS1                            poor  \n",
       "3        887  male  APP/PS1                            poor  \n",
       "4        887  male  APP/PS1                            poor  "
      ]
     },
     "execution_count": 142,
     "metadata": {},
     "output_type": "execute_result"
    }
   ],
   "source": [
    "df['staining_id'] = pd.to_numeric(df['staining_id'], errors='coerce')\n",
    "df_mouse_id['staining_id'] = pd.to_numeric(df_mouse_id['staining_id'], errors='coerce')\n",
    "\n",
    "# Merge both processed_results_df and mouse_id dataframes on staining_id\n",
    "merged_df = pd.merge(df, df_mouse_id, on=\"staining_id\")\n",
    "\n",
    "# Display the first few rows of the DataFrame\n",
    "merged_df.head()"
   ]
  },
  {
   "cell_type": "code",
   "execution_count": 143,
   "metadata": {},
   "outputs": [
    {
     "data": {
      "application/vnd.plotly.v1+json": {
       "config": {
        "plotlyServerURL": "https://plot.ly"
       },
       "data": [
        {
         "customdata": [
          [
           16,
           0
          ],
          [
           16,
           1
          ],
          [
           16,
           2
          ],
          [
           16,
           3
          ],
          [
           16,
           4
          ],
          [
           16,
           5
          ],
          [
           17,
           6
          ],
          [
           17,
           7
          ],
          [
           17,
           8
          ],
          [
           17,
           9
          ],
          [
           17,
           10
          ],
          [
           17,
           11
          ],
          [
           18,
           12
          ],
          [
           18,
           13
          ],
          [
           18,
           14
          ],
          [
           18,
           15
          ],
          [
           18,
           16
          ],
          [
           18,
           17
          ],
          [
           19,
           18
          ],
          [
           19,
           19
          ],
          [
           19,
           20
          ],
          [
           19,
           21
          ],
          [
           19,
           22
          ],
          [
           19,
           23
          ],
          [
           20,
           24
          ],
          [
           20,
           25
          ],
          [
           20,
           26
          ],
          [
           20,
           27
          ],
          [
           20,
           28
          ],
          [
           20,
           29
          ],
          [
           21,
           30
          ],
          [
           21,
           31
          ],
          [
           21,
           32
          ],
          [
           21,
           33
          ],
          [
           21,
           34
          ],
          [
           21,
           35
          ],
          [
           22,
           36
          ],
          [
           22,
           37
          ],
          [
           22,
           38
          ],
          [
           22,
           39
          ],
          [
           22,
           40
          ],
          [
           22,
           41
          ],
          [
           23,
           42
          ],
          [
           23,
           43
          ],
          [
           23,
           44
          ],
          [
           23,
           45
          ],
          [
           23,
           46
          ],
          [
           23,
           47
          ],
          [
           24,
           48
          ],
          [
           24,
           49
          ],
          [
           24,
           50
          ],
          [
           24,
           51
          ],
          [
           24,
           52
          ],
          [
           24,
           53
          ],
          [
           25,
           54
          ],
          [
           25,
           55
          ],
          [
           25,
           56
          ],
          [
           25,
           57
          ],
          [
           25,
           58
          ],
          [
           25,
           59
          ],
          [
           26,
           60
          ],
          [
           26,
           61
          ],
          [
           26,
           62
          ],
          [
           26,
           63
          ],
          [
           26,
           64
          ],
          [
           26,
           65
          ],
          [
           27,
           66
          ],
          [
           28,
           67
          ],
          [
           28,
           68
          ],
          [
           28,
           69
          ],
          [
           28,
           70
          ],
          [
           28,
           71
          ],
          [
           28,
           72
          ],
          [
           29,
           73
          ],
          [
           29,
           74
          ],
          [
           29,
           75
          ],
          [
           29,
           76
          ],
          [
           29,
           77
          ],
          [
           29,
           78
          ],
          [
           30,
           79
          ],
          [
           30,
           80
          ],
          [
           30,
           81
          ],
          [
           30,
           82
          ],
          [
           30,
           83
          ],
          [
           30,
           84
          ],
          [
           31,
           85
          ],
          [
           31,
           86
          ],
          [
           31,
           87
          ],
          [
           31,
           88
          ],
          [
           31,
           89
          ],
          [
           31,
           90
          ],
          [
           32,
           91
          ],
          [
           32,
           92
          ],
          [
           32,
           93
          ],
          [
           32,
           94
          ],
          [
           32,
           95
          ],
          [
           32,
           96
          ],
          [
           33,
           97
          ],
          [
           33,
           98
          ],
          [
           33,
           99
          ],
          [
           33,
           100
          ],
          [
           33,
           101
          ],
          [
           33,
           102
          ],
          [
           34,
           103
          ],
          [
           34,
           104
          ],
          [
           34,
           105
          ],
          [
           34,
           106
          ],
          [
           34,
           107
          ],
          [
           34,
           108
          ],
          [
           35,
           109
          ],
          [
           35,
           110
          ],
          [
           35,
           111
          ],
          [
           35,
           112
          ],
          [
           35,
           113
          ],
          [
           35,
           114
          ],
          [
           36,
           115
          ],
          [
           36,
           116
          ],
          [
           36,
           117
          ],
          [
           36,
           118
          ],
          [
           36,
           119
          ],
          [
           36,
           120
          ],
          [
           37,
           121
          ],
          [
           37,
           122
          ],
          [
           37,
           123
          ],
          [
           37,
           124
          ],
          [
           37,
           125
          ],
          [
           37,
           126
          ],
          [
           38,
           127
          ],
          [
           39,
           128
          ],
          [
           39,
           129
          ],
          [
           39,
           130
          ],
          [
           39,
           131
          ],
          [
           39,
           132
          ],
          [
           39,
           133
          ],
          [
           40,
           134
          ],
          [
           40,
           135
          ],
          [
           40,
           136
          ],
          [
           40,
           137
          ],
          [
           40,
           138
          ],
          [
           40,
           139
          ],
          [
           41,
           140
          ],
          [
           41,
           141
          ],
          [
           41,
           142
          ],
          [
           41,
           143
          ],
          [
           41,
           144
          ],
          [
           41,
           145
          ],
          [
           42,
           146
          ],
          [
           42,
           147
          ],
          [
           42,
           148
          ],
          [
           42,
           149
          ],
          [
           42,
           150
          ],
          [
           42,
           151
          ],
          [
           43,
           152
          ],
          [
           43,
           153
          ],
          [
           43,
           154
          ],
          [
           43,
           155
          ],
          [
           43,
           156
          ],
          [
           43,
           157
          ],
          [
           44,
           158
          ],
          [
           44,
           159
          ],
          [
           44,
           160
          ],
          [
           44,
           161
          ],
          [
           45,
           162
          ],
          [
           45,
           163
          ],
          [
           45,
           164
          ],
          [
           45,
           165
          ],
          [
           45,
           166
          ],
          [
           45,
           167
          ],
          [
           46,
           168
          ],
          [
           46,
           169
          ],
          [
           46,
           170
          ],
          [
           46,
           171
          ],
          [
           46,
           172
          ],
          [
           46,
           173
          ],
          [
           47,
           174
          ],
          [
           47,
           175
          ],
          [
           47,
           176
          ],
          [
           47,
           177
          ],
          [
           47,
           178
          ],
          [
           47,
           179
          ],
          [
           48,
           180
          ],
          [
           48,
           181
          ],
          [
           48,
           182
          ],
          [
           48,
           183
          ],
          [
           48,
           184
          ],
          [
           48,
           185
          ],
          [
           49,
           186
          ],
          [
           49,
           187
          ],
          [
           49,
           188
          ],
          [
           49,
           189
          ],
          [
           49,
           190
          ],
          [
           49,
           191
          ],
          [
           50,
           192
          ],
          [
           50,
           193
          ],
          [
           50,
           194
          ],
          [
           50,
           195
          ],
          [
           50,
           196
          ],
          [
           50,
           197
          ],
          [
           51,
           198
          ],
          [
           51,
           199
          ],
          [
           51,
           200
          ],
          [
           51,
           201
          ],
          [
           51,
           202
          ],
          [
           51,
           203
          ],
          [
           52,
           204
          ],
          [
           52,
           205
          ],
          [
           52,
           206
          ],
          [
           52,
           207
          ],
          [
           52,
           208
          ],
          [
           52,
           209
          ],
          [
           53,
           210
          ],
          [
           53,
           211
          ],
          [
           53,
           212
          ],
          [
           53,
           213
          ],
          [
           53,
           214
          ],
          [
           53,
           215
          ],
          [
           54,
           216
          ],
          [
           54,
           217
          ],
          [
           54,
           218
          ],
          [
           54,
           219
          ],
          [
           54,
           220
          ],
          [
           54,
           221
          ],
          [
           55,
           222
          ],
          [
           55,
           223
          ],
          [
           55,
           224
          ],
          [
           55,
           225
          ],
          [
           55,
           226
          ],
          [
           55,
           227
          ],
          [
           56,
           228
          ],
          [
           56,
           229
          ],
          [
           56,
           230
          ],
          [
           56,
           231
          ],
          [
           56,
           232
          ],
          [
           56,
           233
          ],
          [
           57,
           234
          ],
          [
           57,
           235
          ],
          [
           57,
           236
          ],
          [
           57,
           237
          ],
          [
           57,
           238
          ],
          [
           57,
           239
          ],
          [
           58,
           240
          ],
          [
           58,
           241
          ],
          [
           58,
           242
          ],
          [
           58,
           243
          ],
          [
           58,
           244
          ],
          [
           58,
           245
          ],
          [
           59,
           246
          ],
          [
           59,
           247
          ],
          [
           59,
           248
          ],
          [
           59,
           249
          ],
          [
           59,
           250
          ],
          [
           59,
           251
          ]
         ],
         "hovertemplate": "tissue_location=%{x}<br>nr_+_dna_damage_glia_nuclei=%{y}<br>staining_id=%{customdata[0]}<br>index=%{customdata[1]}<extra></extra>",
         "legendgroup": "",
         "marker": {
          "color": "#636efa",
          "symbol": "circle"
         },
         "mode": "markers",
         "name": "",
         "orientation": "v",
         "showlegend": false,
         "type": "scatter",
         "x": [
          "CA1",
          "CA3",
          "CTX1",
          "CTX2",
          "CTX3",
          "DG",
          "CA1",
          "CA3",
          "CTX1",
          "CTX2",
          "CTX3",
          "DG",
          "CA1",
          "CA3",
          "CTX1",
          "CTX2",
          "CTX3",
          "DG",
          "CA1",
          "CA3",
          "CTX1",
          "CTX2",
          "CTX3",
          "DG",
          "CA1",
          "CA3",
          "CTX1",
          "CTX2",
          "CTX3",
          "DG",
          "CA1",
          "CA3",
          "CTX1",
          "CTX2",
          "CTX3",
          "DG",
          "CA1",
          "CA3",
          "CTX1",
          "CTX2",
          "CTX3",
          "DG",
          "CA1",
          "CA3",
          "CTX1",
          "CTX2",
          "CTX3",
          "DG",
          "CA1",
          "CA3",
          "CTX1",
          "CTX2",
          "CTX3",
          "DG",
          "CA1",
          "CA3",
          "CTX1",
          "CTX2",
          "CTX3",
          "DG",
          "CA1",
          "CA3",
          "CTX1",
          "CTX2",
          "CTX3",
          "DG",
          "DG",
          "CA1",
          "CA3",
          "CTX1",
          "CTX2",
          "CTX3",
          "DG",
          "CA1",
          "CA3",
          "CTX1",
          "CTX2",
          "CTX3",
          "DG",
          "CA1",
          "CA3",
          "CTX1",
          "CTX2",
          "CTX3",
          "DG",
          "CA1",
          "CA3",
          "CTX1",
          "CTX2",
          "CTX3",
          "DG",
          "CA1",
          "CA3",
          "CTX1",
          "CTX2",
          "CTX3",
          "DG",
          "CA1",
          "CA3",
          "CTX1",
          "CTX2",
          "CTX3",
          "DG",
          "CA1",
          "CA3",
          "CTX1",
          "CTX2",
          "CTX3",
          "DG",
          "CA1",
          "CA3",
          "CTX1",
          "CTX2",
          "CTX3",
          "DG",
          "CA1",
          "CA3",
          "CTX1",
          "CTX2",
          "CTX3",
          "DG",
          "CA1",
          "CA3",
          "CTX1",
          "CTX2",
          "CTX3",
          "DG",
          "DG",
          "CA1",
          "CA3",
          "CTX1",
          "CTX2",
          "CTX3",
          "DG",
          "CA1",
          "CA3",
          "CTX1",
          "CTX2",
          "CTX3",
          "DG",
          "CA1",
          "CA3",
          "CTX1",
          "CTX2",
          "CTX3",
          "DG",
          "CA1",
          "CA3",
          "CTX1",
          "CTX2",
          "CTX3",
          "DG",
          "CA1",
          "CA3",
          "CTX1",
          "CTX2",
          "CTX3",
          "DG",
          "CA1",
          "CA3",
          "CTX1",
          "DG",
          "CA1",
          "CA3",
          "CTX1",
          "CTX2",
          "CTX3",
          "DG",
          "CA1",
          "CA3",
          "CTX1",
          "CTX2",
          "CTX3",
          "DG",
          "CA1",
          "CA3",
          "CTX1",
          "CTX2",
          "CTX3",
          "DG",
          "CA1",
          "CA3",
          "CTX1",
          "CTX2",
          "CTX3",
          "DG",
          "CA1",
          "CA3",
          "CTX1",
          "CTX2",
          "CTX3",
          "DG",
          "CA1",
          "CA3",
          "CTX1",
          "CTX2",
          "CTX3",
          "DG",
          "CA1",
          "CA3",
          "CTX1",
          "CTX2",
          "CTX3",
          "DG",
          "CA1",
          "CA3",
          "CTX1",
          "CTX2",
          "CTX3",
          "DG",
          "CA1",
          "CA3",
          "CTX1",
          "CTX2",
          "CTX3",
          "DG",
          "CA1",
          "CA3",
          "CTX1",
          "CTX2",
          "CTX3",
          "DG",
          "CA1",
          "CA3",
          "CTX1",
          "CTX2",
          "CTX3",
          "DG",
          "CA1",
          "CA3",
          "CTX1",
          "CTX2",
          "CTX3",
          "DG",
          "CA1",
          "CA3",
          "CTX1",
          "CTX2",
          "CTX3",
          "DG",
          "CA1",
          "CA3",
          "CTX1",
          "CTX2",
          "CTX3",
          "DG",
          "CA1",
          "CA3",
          "CTX1",
          "CTX2",
          "CTX3",
          "DG"
         ],
         "xaxis": "x",
         "y": [
          57,
          141,
          17,
          218,
          120,
          91,
          6,
          14,
          15,
          50,
          39,
          66,
          15,
          7,
          12,
          14,
          11,
          78,
          37,
          34,
          108,
          35,
          47,
          44,
          3,
          2,
          1,
          12,
          1,
          4,
          5,
          2,
          11,
          9,
          19,
          12,
          11,
          5,
          5,
          9,
          2,
          16,
          1,
          1,
          7,
          0,
          9,
          7,
          0,
          0,
          0,
          10,
          1,
          0,
          4,
          3,
          9,
          9,
          4,
          13,
          11,
          6,
          15,
          18,
          34,
          13,
          9,
          1,
          1,
          2,
          7,
          7,
          16,
          4,
          3,
          12,
          16,
          8,
          4,
          0,
          3,
          9,
          5,
          5,
          3,
          4,
          0,
          4,
          6,
          3,
          9,
          24,
          18,
          47,
          71,
          38,
          54,
          2,
          4,
          4,
          8,
          5,
          5,
          15,
          5,
          25,
          36,
          26,
          26,
          2,
          27,
          8,
          131,
          70,
          84,
          6,
          1,
          14,
          17,
          7,
          6,
          4,
          4,
          11,
          21,
          13,
          8,
          6,
          1,
          2,
          0,
          0,
          1,
          7,
          2,
          5,
          12,
          7,
          21,
          2,
          0,
          1,
          0,
          0,
          3,
          5,
          1,
          1,
          3,
          7,
          2,
          3,
          2,
          0,
          17,
          4,
          8,
          27,
          24,
          24,
          120,
          60,
          8,
          3,
          9,
          12,
          6,
          12,
          49,
          43,
          92,
          119,
          91,
          73,
          6,
          5,
          8,
          69,
          30,
          10,
          4,
          0,
          21,
          13,
          12,
          8,
          15,
          6,
          14,
          12,
          5,
          23,
          3,
          1,
          0,
          3,
          13,
          5,
          4,
          1,
          4,
          7,
          12,
          9,
          4,
          1,
          2,
          10,
          8,
          12,
          6,
          3,
          22,
          22,
          8,
          17,
          3,
          0,
          7,
          7,
          6,
          9,
          2,
          1,
          0,
          4,
          0,
          7,
          6,
          1,
          9,
          14,
          9,
          14,
          7,
          4,
          11,
          11,
          2,
          18,
          3,
          1,
          10,
          12,
          4,
          2,
          2,
          0,
          3,
          7,
          7,
          6
         ],
         "yaxis": "y"
        }
       ],
       "layout": {
        "legend": {
         "tracegroupgap": 0
        },
        "template": {
         "data": {
          "bar": [
           {
            "error_x": {
             "color": "#2a3f5f"
            },
            "error_y": {
             "color": "#2a3f5f"
            },
            "marker": {
             "line": {
              "color": "#E5ECF6",
              "width": 0.5
             },
             "pattern": {
              "fillmode": "overlay",
              "size": 10,
              "solidity": 0.2
             }
            },
            "type": "bar"
           }
          ],
          "barpolar": [
           {
            "marker": {
             "line": {
              "color": "#E5ECF6",
              "width": 0.5
             },
             "pattern": {
              "fillmode": "overlay",
              "size": 10,
              "solidity": 0.2
             }
            },
            "type": "barpolar"
           }
          ],
          "carpet": [
           {
            "aaxis": {
             "endlinecolor": "#2a3f5f",
             "gridcolor": "white",
             "linecolor": "white",
             "minorgridcolor": "white",
             "startlinecolor": "#2a3f5f"
            },
            "baxis": {
             "endlinecolor": "#2a3f5f",
             "gridcolor": "white",
             "linecolor": "white",
             "minorgridcolor": "white",
             "startlinecolor": "#2a3f5f"
            },
            "type": "carpet"
           }
          ],
          "choropleth": [
           {
            "colorbar": {
             "outlinewidth": 0,
             "ticks": ""
            },
            "type": "choropleth"
           }
          ],
          "contour": [
           {
            "colorbar": {
             "outlinewidth": 0,
             "ticks": ""
            },
            "colorscale": [
             [
              0,
              "#0d0887"
             ],
             [
              0.1111111111111111,
              "#46039f"
             ],
             [
              0.2222222222222222,
              "#7201a8"
             ],
             [
              0.3333333333333333,
              "#9c179e"
             ],
             [
              0.4444444444444444,
              "#bd3786"
             ],
             [
              0.5555555555555556,
              "#d8576b"
             ],
             [
              0.6666666666666666,
              "#ed7953"
             ],
             [
              0.7777777777777778,
              "#fb9f3a"
             ],
             [
              0.8888888888888888,
              "#fdca26"
             ],
             [
              1,
              "#f0f921"
             ]
            ],
            "type": "contour"
           }
          ],
          "contourcarpet": [
           {
            "colorbar": {
             "outlinewidth": 0,
             "ticks": ""
            },
            "type": "contourcarpet"
           }
          ],
          "heatmap": [
           {
            "colorbar": {
             "outlinewidth": 0,
             "ticks": ""
            },
            "colorscale": [
             [
              0,
              "#0d0887"
             ],
             [
              0.1111111111111111,
              "#46039f"
             ],
             [
              0.2222222222222222,
              "#7201a8"
             ],
             [
              0.3333333333333333,
              "#9c179e"
             ],
             [
              0.4444444444444444,
              "#bd3786"
             ],
             [
              0.5555555555555556,
              "#d8576b"
             ],
             [
              0.6666666666666666,
              "#ed7953"
             ],
             [
              0.7777777777777778,
              "#fb9f3a"
             ],
             [
              0.8888888888888888,
              "#fdca26"
             ],
             [
              1,
              "#f0f921"
             ]
            ],
            "type": "heatmap"
           }
          ],
          "heatmapgl": [
           {
            "colorbar": {
             "outlinewidth": 0,
             "ticks": ""
            },
            "colorscale": [
             [
              0,
              "#0d0887"
             ],
             [
              0.1111111111111111,
              "#46039f"
             ],
             [
              0.2222222222222222,
              "#7201a8"
             ],
             [
              0.3333333333333333,
              "#9c179e"
             ],
             [
              0.4444444444444444,
              "#bd3786"
             ],
             [
              0.5555555555555556,
              "#d8576b"
             ],
             [
              0.6666666666666666,
              "#ed7953"
             ],
             [
              0.7777777777777778,
              "#fb9f3a"
             ],
             [
              0.8888888888888888,
              "#fdca26"
             ],
             [
              1,
              "#f0f921"
             ]
            ],
            "type": "heatmapgl"
           }
          ],
          "histogram": [
           {
            "marker": {
             "pattern": {
              "fillmode": "overlay",
              "size": 10,
              "solidity": 0.2
             }
            },
            "type": "histogram"
           }
          ],
          "histogram2d": [
           {
            "colorbar": {
             "outlinewidth": 0,
             "ticks": ""
            },
            "colorscale": [
             [
              0,
              "#0d0887"
             ],
             [
              0.1111111111111111,
              "#46039f"
             ],
             [
              0.2222222222222222,
              "#7201a8"
             ],
             [
              0.3333333333333333,
              "#9c179e"
             ],
             [
              0.4444444444444444,
              "#bd3786"
             ],
             [
              0.5555555555555556,
              "#d8576b"
             ],
             [
              0.6666666666666666,
              "#ed7953"
             ],
             [
              0.7777777777777778,
              "#fb9f3a"
             ],
             [
              0.8888888888888888,
              "#fdca26"
             ],
             [
              1,
              "#f0f921"
             ]
            ],
            "type": "histogram2d"
           }
          ],
          "histogram2dcontour": [
           {
            "colorbar": {
             "outlinewidth": 0,
             "ticks": ""
            },
            "colorscale": [
             [
              0,
              "#0d0887"
             ],
             [
              0.1111111111111111,
              "#46039f"
             ],
             [
              0.2222222222222222,
              "#7201a8"
             ],
             [
              0.3333333333333333,
              "#9c179e"
             ],
             [
              0.4444444444444444,
              "#bd3786"
             ],
             [
              0.5555555555555556,
              "#d8576b"
             ],
             [
              0.6666666666666666,
              "#ed7953"
             ],
             [
              0.7777777777777778,
              "#fb9f3a"
             ],
             [
              0.8888888888888888,
              "#fdca26"
             ],
             [
              1,
              "#f0f921"
             ]
            ],
            "type": "histogram2dcontour"
           }
          ],
          "mesh3d": [
           {
            "colorbar": {
             "outlinewidth": 0,
             "ticks": ""
            },
            "type": "mesh3d"
           }
          ],
          "parcoords": [
           {
            "line": {
             "colorbar": {
              "outlinewidth": 0,
              "ticks": ""
             }
            },
            "type": "parcoords"
           }
          ],
          "pie": [
           {
            "automargin": true,
            "type": "pie"
           }
          ],
          "scatter": [
           {
            "fillpattern": {
             "fillmode": "overlay",
             "size": 10,
             "solidity": 0.2
            },
            "type": "scatter"
           }
          ],
          "scatter3d": [
           {
            "line": {
             "colorbar": {
              "outlinewidth": 0,
              "ticks": ""
             }
            },
            "marker": {
             "colorbar": {
              "outlinewidth": 0,
              "ticks": ""
             }
            },
            "type": "scatter3d"
           }
          ],
          "scattercarpet": [
           {
            "marker": {
             "colorbar": {
              "outlinewidth": 0,
              "ticks": ""
             }
            },
            "type": "scattercarpet"
           }
          ],
          "scattergeo": [
           {
            "marker": {
             "colorbar": {
              "outlinewidth": 0,
              "ticks": ""
             }
            },
            "type": "scattergeo"
           }
          ],
          "scattergl": [
           {
            "marker": {
             "colorbar": {
              "outlinewidth": 0,
              "ticks": ""
             }
            },
            "type": "scattergl"
           }
          ],
          "scattermapbox": [
           {
            "marker": {
             "colorbar": {
              "outlinewidth": 0,
              "ticks": ""
             }
            },
            "type": "scattermapbox"
           }
          ],
          "scatterpolar": [
           {
            "marker": {
             "colorbar": {
              "outlinewidth": 0,
              "ticks": ""
             }
            },
            "type": "scatterpolar"
           }
          ],
          "scatterpolargl": [
           {
            "marker": {
             "colorbar": {
              "outlinewidth": 0,
              "ticks": ""
             }
            },
            "type": "scatterpolargl"
           }
          ],
          "scatterternary": [
           {
            "marker": {
             "colorbar": {
              "outlinewidth": 0,
              "ticks": ""
             }
            },
            "type": "scatterternary"
           }
          ],
          "surface": [
           {
            "colorbar": {
             "outlinewidth": 0,
             "ticks": ""
            },
            "colorscale": [
             [
              0,
              "#0d0887"
             ],
             [
              0.1111111111111111,
              "#46039f"
             ],
             [
              0.2222222222222222,
              "#7201a8"
             ],
             [
              0.3333333333333333,
              "#9c179e"
             ],
             [
              0.4444444444444444,
              "#bd3786"
             ],
             [
              0.5555555555555556,
              "#d8576b"
             ],
             [
              0.6666666666666666,
              "#ed7953"
             ],
             [
              0.7777777777777778,
              "#fb9f3a"
             ],
             [
              0.8888888888888888,
              "#fdca26"
             ],
             [
              1,
              "#f0f921"
             ]
            ],
            "type": "surface"
           }
          ],
          "table": [
           {
            "cells": {
             "fill": {
              "color": "#EBF0F8"
             },
             "line": {
              "color": "white"
             }
            },
            "header": {
             "fill": {
              "color": "#C8D4E3"
             },
             "line": {
              "color": "white"
             }
            },
            "type": "table"
           }
          ]
         },
         "layout": {
          "annotationdefaults": {
           "arrowcolor": "#2a3f5f",
           "arrowhead": 0,
           "arrowwidth": 1
          },
          "autotypenumbers": "strict",
          "coloraxis": {
           "colorbar": {
            "outlinewidth": 0,
            "ticks": ""
           }
          },
          "colorscale": {
           "diverging": [
            [
             0,
             "#8e0152"
            ],
            [
             0.1,
             "#c51b7d"
            ],
            [
             0.2,
             "#de77ae"
            ],
            [
             0.3,
             "#f1b6da"
            ],
            [
             0.4,
             "#fde0ef"
            ],
            [
             0.5,
             "#f7f7f7"
            ],
            [
             0.6,
             "#e6f5d0"
            ],
            [
             0.7,
             "#b8e186"
            ],
            [
             0.8,
             "#7fbc41"
            ],
            [
             0.9,
             "#4d9221"
            ],
            [
             1,
             "#276419"
            ]
           ],
           "sequential": [
            [
             0,
             "#0d0887"
            ],
            [
             0.1111111111111111,
             "#46039f"
            ],
            [
             0.2222222222222222,
             "#7201a8"
            ],
            [
             0.3333333333333333,
             "#9c179e"
            ],
            [
             0.4444444444444444,
             "#bd3786"
            ],
            [
             0.5555555555555556,
             "#d8576b"
            ],
            [
             0.6666666666666666,
             "#ed7953"
            ],
            [
             0.7777777777777778,
             "#fb9f3a"
            ],
            [
             0.8888888888888888,
             "#fdca26"
            ],
            [
             1,
             "#f0f921"
            ]
           ],
           "sequentialminus": [
            [
             0,
             "#0d0887"
            ],
            [
             0.1111111111111111,
             "#46039f"
            ],
            [
             0.2222222222222222,
             "#7201a8"
            ],
            [
             0.3333333333333333,
             "#9c179e"
            ],
            [
             0.4444444444444444,
             "#bd3786"
            ],
            [
             0.5555555555555556,
             "#d8576b"
            ],
            [
             0.6666666666666666,
             "#ed7953"
            ],
            [
             0.7777777777777778,
             "#fb9f3a"
            ],
            [
             0.8888888888888888,
             "#fdca26"
            ],
            [
             1,
             "#f0f921"
            ]
           ]
          },
          "colorway": [
           "#636efa",
           "#EF553B",
           "#00cc96",
           "#ab63fa",
           "#FFA15A",
           "#19d3f3",
           "#FF6692",
           "#B6E880",
           "#FF97FF",
           "#FECB52"
          ],
          "font": {
           "color": "#2a3f5f"
          },
          "geo": {
           "bgcolor": "white",
           "lakecolor": "white",
           "landcolor": "#E5ECF6",
           "showlakes": true,
           "showland": true,
           "subunitcolor": "white"
          },
          "hoverlabel": {
           "align": "left"
          },
          "hovermode": "closest",
          "mapbox": {
           "style": "light"
          },
          "paper_bgcolor": "white",
          "plot_bgcolor": "#E5ECF6",
          "polar": {
           "angularaxis": {
            "gridcolor": "white",
            "linecolor": "white",
            "ticks": ""
           },
           "bgcolor": "#E5ECF6",
           "radialaxis": {
            "gridcolor": "white",
            "linecolor": "white",
            "ticks": ""
           }
          },
          "scene": {
           "xaxis": {
            "backgroundcolor": "#E5ECF6",
            "gridcolor": "white",
            "gridwidth": 2,
            "linecolor": "white",
            "showbackground": true,
            "ticks": "",
            "zerolinecolor": "white"
           },
           "yaxis": {
            "backgroundcolor": "#E5ECF6",
            "gridcolor": "white",
            "gridwidth": 2,
            "linecolor": "white",
            "showbackground": true,
            "ticks": "",
            "zerolinecolor": "white"
           },
           "zaxis": {
            "backgroundcolor": "#E5ECF6",
            "gridcolor": "white",
            "gridwidth": 2,
            "linecolor": "white",
            "showbackground": true,
            "ticks": "",
            "zerolinecolor": "white"
           }
          },
          "shapedefaults": {
           "line": {
            "color": "#2a3f5f"
           }
          },
          "ternary": {
           "aaxis": {
            "gridcolor": "white",
            "linecolor": "white",
            "ticks": ""
           },
           "baxis": {
            "gridcolor": "white",
            "linecolor": "white",
            "ticks": ""
           },
           "bgcolor": "#E5ECF6",
           "caxis": {
            "gridcolor": "white",
            "linecolor": "white",
            "ticks": ""
           }
          },
          "title": {
           "x": 0.05
          },
          "xaxis": {
           "automargin": true,
           "gridcolor": "white",
           "linecolor": "white",
           "ticks": "",
           "title": {
            "standoff": 15
           },
           "zerolinecolor": "white",
           "zerolinewidth": 2
          },
          "yaxis": {
           "automargin": true,
           "gridcolor": "white",
           "linecolor": "white",
           "ticks": "",
           "title": {
            "standoff": 15
           },
           "zerolinecolor": "white",
           "zerolinewidth": 2
          }
         }
        },
        "title": {
         "text": "Nr of DNA_damage+ glia+ nuclei by Tissue Location"
        },
        "xaxis": {
         "anchor": "y",
         "domain": [
          0,
          1
         ],
         "title": {
          "text": "tissue_location"
         }
        },
        "yaxis": {
         "anchor": "x",
         "domain": [
          0,
          1
         ],
         "title": {
          "text": "nr_+_dna_damage_glia_nuclei"
         }
        }
       }
      }
     },
     "metadata": {},
     "output_type": "display_data"
    }
   ],
   "source": [
    "# Create the plot\n",
    "fig = px.scatter(df, x='tissue_location', y='nr_+_dna_damage_glia_nuclei',\n",
    "                 hover_data=['staining_id','index'], title='Nr of DNA_damage+ glia+ nuclei by Tissue Location')\n",
    "\n",
    "# Show the plot\n",
    "fig.show()"
   ]
  },
  {
   "cell_type": "code",
   "execution_count": 144,
   "metadata": {},
   "outputs": [
    {
     "data": {
      "application/vnd.plotly.v1+json": {
       "config": {
        "plotlyServerURL": "https://plot.ly"
       },
       "data": [
        {
         "customdata": [
          [
           16
          ],
          [
           16
          ],
          [
           16
          ],
          [
           16
          ],
          [
           16
          ],
          [
           16
          ],
          [
           17
          ],
          [
           17
          ],
          [
           17
          ],
          [
           17
          ],
          [
           17
          ],
          [
           17
          ],
          [
           18
          ],
          [
           18
          ],
          [
           18
          ],
          [
           18
          ],
          [
           18
          ],
          [
           18
          ],
          [
           19
          ],
          [
           19
          ],
          [
           19
          ],
          [
           19
          ],
          [
           19
          ],
          [
           19
          ],
          [
           20
          ],
          [
           20
          ],
          [
           20
          ],
          [
           20
          ],
          [
           20
          ],
          [
           20
          ],
          [
           21
          ],
          [
           21
          ],
          [
           21
          ],
          [
           21
          ],
          [
           21
          ],
          [
           21
          ],
          [
           22
          ],
          [
           22
          ],
          [
           22
          ],
          [
           22
          ],
          [
           22
          ],
          [
           22
          ],
          [
           23
          ],
          [
           23
          ],
          [
           23
          ],
          [
           23
          ],
          [
           23
          ],
          [
           23
          ],
          [
           24
          ],
          [
           24
          ],
          [
           24
          ],
          [
           24
          ],
          [
           24
          ],
          [
           24
          ],
          [
           25
          ],
          [
           25
          ],
          [
           25
          ],
          [
           25
          ],
          [
           25
          ],
          [
           25
          ],
          [
           26
          ],
          [
           26
          ],
          [
           26
          ],
          [
           26
          ],
          [
           26
          ],
          [
           26
          ],
          [
           27
          ],
          [
           28
          ],
          [
           28
          ],
          [
           28
          ],
          [
           28
          ],
          [
           28
          ],
          [
           28
          ],
          [
           29
          ],
          [
           29
          ],
          [
           29
          ],
          [
           29
          ],
          [
           29
          ],
          [
           29
          ],
          [
           30
          ],
          [
           30
          ],
          [
           30
          ],
          [
           30
          ],
          [
           30
          ],
          [
           30
          ],
          [
           31
          ],
          [
           31
          ],
          [
           31
          ],
          [
           31
          ],
          [
           31
          ],
          [
           31
          ],
          [
           32
          ],
          [
           32
          ],
          [
           32
          ],
          [
           32
          ],
          [
           32
          ],
          [
           32
          ],
          [
           33
          ],
          [
           33
          ],
          [
           33
          ],
          [
           33
          ],
          [
           33
          ],
          [
           33
          ],
          [
           34
          ],
          [
           34
          ],
          [
           34
          ],
          [
           34
          ],
          [
           34
          ],
          [
           34
          ],
          [
           35
          ],
          [
           35
          ],
          [
           35
          ],
          [
           35
          ],
          [
           35
          ],
          [
           35
          ],
          [
           36
          ],
          [
           36
          ],
          [
           36
          ],
          [
           36
          ],
          [
           36
          ],
          [
           36
          ],
          [
           37
          ],
          [
           37
          ],
          [
           37
          ],
          [
           37
          ],
          [
           37
          ],
          [
           37
          ],
          [
           38
          ],
          [
           39
          ],
          [
           39
          ],
          [
           39
          ],
          [
           39
          ],
          [
           39
          ],
          [
           39
          ],
          [
           40
          ],
          [
           40
          ],
          [
           40
          ],
          [
           40
          ],
          [
           40
          ],
          [
           40
          ],
          [
           41
          ],
          [
           41
          ],
          [
           41
          ],
          [
           41
          ],
          [
           41
          ],
          [
           41
          ],
          [
           42
          ],
          [
           42
          ],
          [
           42
          ],
          [
           42
          ],
          [
           42
          ],
          [
           42
          ],
          [
           43
          ],
          [
           43
          ],
          [
           43
          ],
          [
           43
          ],
          [
           43
          ],
          [
           43
          ],
          [
           44
          ],
          [
           44
          ],
          [
           44
          ],
          [
           44
          ],
          [
           45
          ],
          [
           45
          ],
          [
           45
          ],
          [
           45
          ],
          [
           45
          ],
          [
           45
          ],
          [
           46
          ],
          [
           46
          ],
          [
           46
          ],
          [
           46
          ],
          [
           46
          ],
          [
           46
          ],
          [
           47
          ],
          [
           47
          ],
          [
           47
          ],
          [
           47
          ],
          [
           47
          ],
          [
           47
          ],
          [
           48
          ],
          [
           48
          ],
          [
           48
          ],
          [
           48
          ],
          [
           48
          ],
          [
           48
          ],
          [
           49
          ],
          [
           49
          ],
          [
           49
          ],
          [
           49
          ],
          [
           49
          ],
          [
           49
          ],
          [
           50
          ],
          [
           50
          ],
          [
           50
          ],
          [
           50
          ],
          [
           50
          ],
          [
           50
          ],
          [
           51
          ],
          [
           51
          ],
          [
           51
          ],
          [
           51
          ],
          [
           51
          ],
          [
           51
          ],
          [
           52
          ],
          [
           52
          ],
          [
           52
          ],
          [
           52
          ],
          [
           52
          ],
          [
           52
          ],
          [
           53
          ],
          [
           53
          ],
          [
           53
          ],
          [
           53
          ],
          [
           53
          ],
          [
           53
          ],
          [
           54
          ],
          [
           54
          ],
          [
           54
          ],
          [
           54
          ],
          [
           54
          ],
          [
           54
          ],
          [
           55
          ],
          [
           55
          ],
          [
           55
          ],
          [
           55
          ],
          [
           55
          ],
          [
           55
          ],
          [
           56
          ],
          [
           56
          ],
          [
           56
          ],
          [
           56
          ],
          [
           56
          ],
          [
           56
          ],
          [
           57
          ],
          [
           57
          ],
          [
           57
          ],
          [
           57
          ],
          [
           57
          ],
          [
           57
          ],
          [
           58
          ],
          [
           58
          ],
          [
           58
          ],
          [
           58
          ],
          [
           58
          ],
          [
           58
          ],
          [
           59
          ],
          [
           59
          ],
          [
           59
          ],
          [
           59
          ],
          [
           59
          ],
          [
           59
          ]
         ],
         "hovertemplate": "tissue_location=%{x}<br>avg_dna_damage_foci/glia_+=%{y}<br>staining_id=%{customdata[0]}<extra></extra>",
         "legendgroup": "",
         "marker": {
          "color": "#636efa",
          "symbol": "circle"
         },
         "mode": "markers",
         "name": "",
         "orientation": "v",
         "showlegend": false,
         "type": "scatter",
         "x": [
          "CA1",
          "CA3",
          "CTX1",
          "CTX2",
          "CTX3",
          "DG",
          "CA1",
          "CA3",
          "CTX1",
          "CTX2",
          "CTX3",
          "DG",
          "CA1",
          "CA3",
          "CTX1",
          "CTX2",
          "CTX3",
          "DG",
          "CA1",
          "CA3",
          "CTX1",
          "CTX2",
          "CTX3",
          "DG",
          "CA1",
          "CA3",
          "CTX1",
          "CTX2",
          "CTX3",
          "DG",
          "CA1",
          "CA3",
          "CTX1",
          "CTX2",
          "CTX3",
          "DG",
          "CA1",
          "CA3",
          "CTX1",
          "CTX2",
          "CTX3",
          "DG",
          "CA1",
          "CA3",
          "CTX1",
          "CTX2",
          "CTX3",
          "DG",
          "CA1",
          "CA3",
          "CTX1",
          "CTX2",
          "CTX3",
          "DG",
          "CA1",
          "CA3",
          "CTX1",
          "CTX2",
          "CTX3",
          "DG",
          "CA1",
          "CA3",
          "CTX1",
          "CTX2",
          "CTX3",
          "DG",
          "DG",
          "CA1",
          "CA3",
          "CTX1",
          "CTX2",
          "CTX3",
          "DG",
          "CA1",
          "CA3",
          "CTX1",
          "CTX2",
          "CTX3",
          "DG",
          "CA1",
          "CA3",
          "CTX1",
          "CTX2",
          "CTX3",
          "DG",
          "CA1",
          "CA3",
          "CTX1",
          "CTX2",
          "CTX3",
          "DG",
          "CA1",
          "CA3",
          "CTX1",
          "CTX2",
          "CTX3",
          "DG",
          "CA1",
          "CA3",
          "CTX1",
          "CTX2",
          "CTX3",
          "DG",
          "CA1",
          "CA3",
          "CTX1",
          "CTX2",
          "CTX3",
          "DG",
          "CA1",
          "CA3",
          "CTX1",
          "CTX2",
          "CTX3",
          "DG",
          "CA1",
          "CA3",
          "CTX1",
          "CTX2",
          "CTX3",
          "DG",
          "CA1",
          "CA3",
          "CTX1",
          "CTX2",
          "CTX3",
          "DG",
          "DG",
          "CA1",
          "CA3",
          "CTX1",
          "CTX2",
          "CTX3",
          "DG",
          "CA1",
          "CA3",
          "CTX1",
          "CTX2",
          "CTX3",
          "DG",
          "CA1",
          "CA3",
          "CTX1",
          "CTX2",
          "CTX3",
          "DG",
          "CA1",
          "CA3",
          "CTX1",
          "CTX2",
          "CTX3",
          "DG",
          "CA1",
          "CA3",
          "CTX1",
          "CTX2",
          "CTX3",
          "DG",
          "CA1",
          "CA3",
          "CTX1",
          "DG",
          "CA1",
          "CA3",
          "CTX1",
          "CTX2",
          "CTX3",
          "DG",
          "CA1",
          "CA3",
          "CTX1",
          "CTX2",
          "CTX3",
          "DG",
          "CA1",
          "CA3",
          "CTX1",
          "CTX2",
          "CTX3",
          "DG",
          "CA1",
          "CA3",
          "CTX1",
          "CTX2",
          "CTX3",
          "DG",
          "CA1",
          "CA3",
          "CTX1",
          "CTX2",
          "CTX3",
          "DG",
          "CA1",
          "CA3",
          "CTX1",
          "CTX2",
          "CTX3",
          "DG",
          "CA1",
          "CA3",
          "CTX1",
          "CTX2",
          "CTX3",
          "DG",
          "CA1",
          "CA3",
          "CTX1",
          "CTX2",
          "CTX3",
          "DG",
          "CA1",
          "CA3",
          "CTX1",
          "CTX2",
          "CTX3",
          "DG",
          "CA1",
          "CA3",
          "CTX1",
          "CTX2",
          "CTX3",
          "DG",
          "CA1",
          "CA3",
          "CTX1",
          "CTX2",
          "CTX3",
          "DG",
          "CA1",
          "CA3",
          "CTX1",
          "CTX2",
          "CTX3",
          "DG",
          "CA1",
          "CA3",
          "CTX1",
          "CTX2",
          "CTX3",
          "DG",
          "CA1",
          "CA3",
          "CTX1",
          "CTX2",
          "CTX3",
          "DG",
          "CA1",
          "CA3",
          "CTX1",
          "CTX2",
          "CTX3",
          "DG"
         ],
         "xaxis": "x",
         "y": [
          0.5681818181818182,
          2.7225806451612904,
          0.7567567567567568,
          1.748898678414097,
          1.75,
          0.8571428571428571,
          1.4,
          1.1363636363636365,
          2.1666666666666665,
          2.5849056603773586,
          2.025,
          3.088607594936709,
          1.6,
          1.7142857142857142,
          1.6470588235294117,
          1.8,
          2.583333333333333,
          1.0256410256410255,
          1,
          1,
          1,
          1,
          1,
          1,
          0.6666666666666666,
          1.3333333333333333,
          0.3333333333333333,
          2.1538461538461537,
          0.6666666666666666,
          1.4,
          0.7777777777777778,
          0.5,
          1.1764705882352942,
          1.2727272727272727,
          1.6956521739130437,
          1.0588235294117647,
          1.2941176470588236,
          1.3333333333333333,
          1.7777777777777777,
          1.0555555555555556,
          0.6,
          1.6842105263157894,
          0.5,
          0.3333333333333333,
          0.45,
          0,
          0.7857142857142857,
          1.5,
          0,
          0,
          0,
          0.4615384615384615,
          0.0714285714285714,
          0,
          1,
          0.5714285714285714,
          0.9230769230769232,
          0.8571428571428571,
          1.5,
          2.1333333333333333,
          1.9166666666666667,
          3.333333333333333,
          1.5,
          1.6111111111111112,
          1.5294117647058822,
          3,
          1.5555555555555556,
          0.3333333333333333,
          0.5,
          0.4285714285714285,
          1.0833333333333333,
          1,
          2.1578947368421053,
          1.5,
          1,
          1.1111111111111112,
          1.3043478260869563,
          0.8,
          0.6666666666666666,
          0,
          1.2,
          1.1176470588235294,
          0.5333333333333333,
          0.8333333333333334,
          1.25,
          0.5714285714285714,
          null,
          0.7272727272727273,
          0.5,
          0.5,
          1.5833333333333333,
          2.6666666666666665,
          1.894736842105263,
          2.862745098039216,
          1.472972972972973,
          2.3095238095238093,
          1.7017543859649122,
          0.75,
          0.7142857142857143,
          0.7,
          1.0833333333333333,
          0.875,
          1.6666666666666667,
          2.8,
          2.2,
          1.903225806451613,
          2.463414634146341,
          1.962962962962963,
          2,
          0.6,
          1.5806451612903225,
          1.1428571428571428,
          1.6642335766423355,
          1.8513513513513515,
          1.835164835164835,
          1,
          0.4,
          1.1578947368421053,
          1.3076923076923077,
          1.125,
          2.7142857142857144,
          0.8333333333333334,
          0.4444444444444444,
          1.4,
          1.3461538461538465,
          0.8148148148148148,
          2.5454545454545454,
          1,
          0.75,
          0.5,
          0,
          0,
          0.3333333333333333,
          1.2222222222222223,
          0.6666666666666666,
          0.625,
          0.9047619047619048,
          0.8,
          1.4782608695652173,
          1,
          0,
          1,
          null,
          0,
          0.8,
          1,
          1,
          1,
          0.625,
          0.6923076923076923,
          0.5,
          1.25,
          0.5,
          0,
          1.5357142857142858,
          0.25,
          0.7333333333333333,
          2,
          1.08,
          1.4583333333333333,
          1.1166666666666667,
          1.1833333333333331,
          1.0909090909090908,
          0.6,
          0.631578947368421,
          0.8,
          0.5,
          1.3529411764705883,
          1.9411764705882355,
          1.9795918367346936,
          1.7052631578947368,
          1.3852459016393444,
          1.694736842105263,
          1.4931506849315068,
          0.5714285714285714,
          0.6,
          0.4482758620689655,
          1.6578947368421053,
          1.2,
          2.2,
          1.5,
          null,
          1.2,
          1.2,
          0.85,
          1.4545454545454546,
          1.9333333333333331,
          0.5294117647058824,
          0.9444444444444444,
          1.2,
          0.5,
          1.8333333333333333,
          0.1764705882352941,
          0.0909090909090909,
          0,
          0.1764705882352941,
          0.6785714285714286,
          0.3333333333333333,
          0.2631578947368421,
          0.25,
          0.4117647058823529,
          0.36,
          0.53125,
          1,
          0.7142857142857143,
          0.3333333333333333,
          0.2142857142857142,
          0.6190476190476191,
          0.4230769230769231,
          0.6666666666666666,
          1.125,
          0.75,
          1.4666666666666666,
          1.5714285714285714,
          0.8571428571428571,
          1.7777777777777777,
          1.25,
          null,
          0.5,
          0.7333333333333333,
          0.4615384615384615,
          0.7894736842105263,
          0.4,
          0.3333333333333333,
          0,
          0.5,
          0,
          0.9,
          0.7692307692307693,
          0.1111111111111111,
          0.6842105263157895,
          0.8636363636363636,
          0.3846153846153846,
          1.2105263157894737,
          0.8333333333333334,
          0.5,
          1.1428571428571428,
          0.8125,
          0.2857142857142857,
          1.7407407407407407,
          0.8,
          0.25,
          1.3571428571428572,
          1.2352941176470589,
          1.8,
          1,
          0.5,
          0,
          0.375,
          0.4666666666666667,
          0.4,
          1.2857142857142858
         ],
         "yaxis": "y"
        }
       ],
       "layout": {
        "legend": {
         "tracegroupgap": 0
        },
        "template": {
         "data": {
          "bar": [
           {
            "error_x": {
             "color": "#2a3f5f"
            },
            "error_y": {
             "color": "#2a3f5f"
            },
            "marker": {
             "line": {
              "color": "#E5ECF6",
              "width": 0.5
             },
             "pattern": {
              "fillmode": "overlay",
              "size": 10,
              "solidity": 0.2
             }
            },
            "type": "bar"
           }
          ],
          "barpolar": [
           {
            "marker": {
             "line": {
              "color": "#E5ECF6",
              "width": 0.5
             },
             "pattern": {
              "fillmode": "overlay",
              "size": 10,
              "solidity": 0.2
             }
            },
            "type": "barpolar"
           }
          ],
          "carpet": [
           {
            "aaxis": {
             "endlinecolor": "#2a3f5f",
             "gridcolor": "white",
             "linecolor": "white",
             "minorgridcolor": "white",
             "startlinecolor": "#2a3f5f"
            },
            "baxis": {
             "endlinecolor": "#2a3f5f",
             "gridcolor": "white",
             "linecolor": "white",
             "minorgridcolor": "white",
             "startlinecolor": "#2a3f5f"
            },
            "type": "carpet"
           }
          ],
          "choropleth": [
           {
            "colorbar": {
             "outlinewidth": 0,
             "ticks": ""
            },
            "type": "choropleth"
           }
          ],
          "contour": [
           {
            "colorbar": {
             "outlinewidth": 0,
             "ticks": ""
            },
            "colorscale": [
             [
              0,
              "#0d0887"
             ],
             [
              0.1111111111111111,
              "#46039f"
             ],
             [
              0.2222222222222222,
              "#7201a8"
             ],
             [
              0.3333333333333333,
              "#9c179e"
             ],
             [
              0.4444444444444444,
              "#bd3786"
             ],
             [
              0.5555555555555556,
              "#d8576b"
             ],
             [
              0.6666666666666666,
              "#ed7953"
             ],
             [
              0.7777777777777778,
              "#fb9f3a"
             ],
             [
              0.8888888888888888,
              "#fdca26"
             ],
             [
              1,
              "#f0f921"
             ]
            ],
            "type": "contour"
           }
          ],
          "contourcarpet": [
           {
            "colorbar": {
             "outlinewidth": 0,
             "ticks": ""
            },
            "type": "contourcarpet"
           }
          ],
          "heatmap": [
           {
            "colorbar": {
             "outlinewidth": 0,
             "ticks": ""
            },
            "colorscale": [
             [
              0,
              "#0d0887"
             ],
             [
              0.1111111111111111,
              "#46039f"
             ],
             [
              0.2222222222222222,
              "#7201a8"
             ],
             [
              0.3333333333333333,
              "#9c179e"
             ],
             [
              0.4444444444444444,
              "#bd3786"
             ],
             [
              0.5555555555555556,
              "#d8576b"
             ],
             [
              0.6666666666666666,
              "#ed7953"
             ],
             [
              0.7777777777777778,
              "#fb9f3a"
             ],
             [
              0.8888888888888888,
              "#fdca26"
             ],
             [
              1,
              "#f0f921"
             ]
            ],
            "type": "heatmap"
           }
          ],
          "heatmapgl": [
           {
            "colorbar": {
             "outlinewidth": 0,
             "ticks": ""
            },
            "colorscale": [
             [
              0,
              "#0d0887"
             ],
             [
              0.1111111111111111,
              "#46039f"
             ],
             [
              0.2222222222222222,
              "#7201a8"
             ],
             [
              0.3333333333333333,
              "#9c179e"
             ],
             [
              0.4444444444444444,
              "#bd3786"
             ],
             [
              0.5555555555555556,
              "#d8576b"
             ],
             [
              0.6666666666666666,
              "#ed7953"
             ],
             [
              0.7777777777777778,
              "#fb9f3a"
             ],
             [
              0.8888888888888888,
              "#fdca26"
             ],
             [
              1,
              "#f0f921"
             ]
            ],
            "type": "heatmapgl"
           }
          ],
          "histogram": [
           {
            "marker": {
             "pattern": {
              "fillmode": "overlay",
              "size": 10,
              "solidity": 0.2
             }
            },
            "type": "histogram"
           }
          ],
          "histogram2d": [
           {
            "colorbar": {
             "outlinewidth": 0,
             "ticks": ""
            },
            "colorscale": [
             [
              0,
              "#0d0887"
             ],
             [
              0.1111111111111111,
              "#46039f"
             ],
             [
              0.2222222222222222,
              "#7201a8"
             ],
             [
              0.3333333333333333,
              "#9c179e"
             ],
             [
              0.4444444444444444,
              "#bd3786"
             ],
             [
              0.5555555555555556,
              "#d8576b"
             ],
             [
              0.6666666666666666,
              "#ed7953"
             ],
             [
              0.7777777777777778,
              "#fb9f3a"
             ],
             [
              0.8888888888888888,
              "#fdca26"
             ],
             [
              1,
              "#f0f921"
             ]
            ],
            "type": "histogram2d"
           }
          ],
          "histogram2dcontour": [
           {
            "colorbar": {
             "outlinewidth": 0,
             "ticks": ""
            },
            "colorscale": [
             [
              0,
              "#0d0887"
             ],
             [
              0.1111111111111111,
              "#46039f"
             ],
             [
              0.2222222222222222,
              "#7201a8"
             ],
             [
              0.3333333333333333,
              "#9c179e"
             ],
             [
              0.4444444444444444,
              "#bd3786"
             ],
             [
              0.5555555555555556,
              "#d8576b"
             ],
             [
              0.6666666666666666,
              "#ed7953"
             ],
             [
              0.7777777777777778,
              "#fb9f3a"
             ],
             [
              0.8888888888888888,
              "#fdca26"
             ],
             [
              1,
              "#f0f921"
             ]
            ],
            "type": "histogram2dcontour"
           }
          ],
          "mesh3d": [
           {
            "colorbar": {
             "outlinewidth": 0,
             "ticks": ""
            },
            "type": "mesh3d"
           }
          ],
          "parcoords": [
           {
            "line": {
             "colorbar": {
              "outlinewidth": 0,
              "ticks": ""
             }
            },
            "type": "parcoords"
           }
          ],
          "pie": [
           {
            "automargin": true,
            "type": "pie"
           }
          ],
          "scatter": [
           {
            "fillpattern": {
             "fillmode": "overlay",
             "size": 10,
             "solidity": 0.2
            },
            "type": "scatter"
           }
          ],
          "scatter3d": [
           {
            "line": {
             "colorbar": {
              "outlinewidth": 0,
              "ticks": ""
             }
            },
            "marker": {
             "colorbar": {
              "outlinewidth": 0,
              "ticks": ""
             }
            },
            "type": "scatter3d"
           }
          ],
          "scattercarpet": [
           {
            "marker": {
             "colorbar": {
              "outlinewidth": 0,
              "ticks": ""
             }
            },
            "type": "scattercarpet"
           }
          ],
          "scattergeo": [
           {
            "marker": {
             "colorbar": {
              "outlinewidth": 0,
              "ticks": ""
             }
            },
            "type": "scattergeo"
           }
          ],
          "scattergl": [
           {
            "marker": {
             "colorbar": {
              "outlinewidth": 0,
              "ticks": ""
             }
            },
            "type": "scattergl"
           }
          ],
          "scattermapbox": [
           {
            "marker": {
             "colorbar": {
              "outlinewidth": 0,
              "ticks": ""
             }
            },
            "type": "scattermapbox"
           }
          ],
          "scatterpolar": [
           {
            "marker": {
             "colorbar": {
              "outlinewidth": 0,
              "ticks": ""
             }
            },
            "type": "scatterpolar"
           }
          ],
          "scatterpolargl": [
           {
            "marker": {
             "colorbar": {
              "outlinewidth": 0,
              "ticks": ""
             }
            },
            "type": "scatterpolargl"
           }
          ],
          "scatterternary": [
           {
            "marker": {
             "colorbar": {
              "outlinewidth": 0,
              "ticks": ""
             }
            },
            "type": "scatterternary"
           }
          ],
          "surface": [
           {
            "colorbar": {
             "outlinewidth": 0,
             "ticks": ""
            },
            "colorscale": [
             [
              0,
              "#0d0887"
             ],
             [
              0.1111111111111111,
              "#46039f"
             ],
             [
              0.2222222222222222,
              "#7201a8"
             ],
             [
              0.3333333333333333,
              "#9c179e"
             ],
             [
              0.4444444444444444,
              "#bd3786"
             ],
             [
              0.5555555555555556,
              "#d8576b"
             ],
             [
              0.6666666666666666,
              "#ed7953"
             ],
             [
              0.7777777777777778,
              "#fb9f3a"
             ],
             [
              0.8888888888888888,
              "#fdca26"
             ],
             [
              1,
              "#f0f921"
             ]
            ],
            "type": "surface"
           }
          ],
          "table": [
           {
            "cells": {
             "fill": {
              "color": "#EBF0F8"
             },
             "line": {
              "color": "white"
             }
            },
            "header": {
             "fill": {
              "color": "#C8D4E3"
             },
             "line": {
              "color": "white"
             }
            },
            "type": "table"
           }
          ]
         },
         "layout": {
          "annotationdefaults": {
           "arrowcolor": "#2a3f5f",
           "arrowhead": 0,
           "arrowwidth": 1
          },
          "autotypenumbers": "strict",
          "coloraxis": {
           "colorbar": {
            "outlinewidth": 0,
            "ticks": ""
           }
          },
          "colorscale": {
           "diverging": [
            [
             0,
             "#8e0152"
            ],
            [
             0.1,
             "#c51b7d"
            ],
            [
             0.2,
             "#de77ae"
            ],
            [
             0.3,
             "#f1b6da"
            ],
            [
             0.4,
             "#fde0ef"
            ],
            [
             0.5,
             "#f7f7f7"
            ],
            [
             0.6,
             "#e6f5d0"
            ],
            [
             0.7,
             "#b8e186"
            ],
            [
             0.8,
             "#7fbc41"
            ],
            [
             0.9,
             "#4d9221"
            ],
            [
             1,
             "#276419"
            ]
           ],
           "sequential": [
            [
             0,
             "#0d0887"
            ],
            [
             0.1111111111111111,
             "#46039f"
            ],
            [
             0.2222222222222222,
             "#7201a8"
            ],
            [
             0.3333333333333333,
             "#9c179e"
            ],
            [
             0.4444444444444444,
             "#bd3786"
            ],
            [
             0.5555555555555556,
             "#d8576b"
            ],
            [
             0.6666666666666666,
             "#ed7953"
            ],
            [
             0.7777777777777778,
             "#fb9f3a"
            ],
            [
             0.8888888888888888,
             "#fdca26"
            ],
            [
             1,
             "#f0f921"
            ]
           ],
           "sequentialminus": [
            [
             0,
             "#0d0887"
            ],
            [
             0.1111111111111111,
             "#46039f"
            ],
            [
             0.2222222222222222,
             "#7201a8"
            ],
            [
             0.3333333333333333,
             "#9c179e"
            ],
            [
             0.4444444444444444,
             "#bd3786"
            ],
            [
             0.5555555555555556,
             "#d8576b"
            ],
            [
             0.6666666666666666,
             "#ed7953"
            ],
            [
             0.7777777777777778,
             "#fb9f3a"
            ],
            [
             0.8888888888888888,
             "#fdca26"
            ],
            [
             1,
             "#f0f921"
            ]
           ]
          },
          "colorway": [
           "#636efa",
           "#EF553B",
           "#00cc96",
           "#ab63fa",
           "#FFA15A",
           "#19d3f3",
           "#FF6692",
           "#B6E880",
           "#FF97FF",
           "#FECB52"
          ],
          "font": {
           "color": "#2a3f5f"
          },
          "geo": {
           "bgcolor": "white",
           "lakecolor": "white",
           "landcolor": "#E5ECF6",
           "showlakes": true,
           "showland": true,
           "subunitcolor": "white"
          },
          "hoverlabel": {
           "align": "left"
          },
          "hovermode": "closest",
          "mapbox": {
           "style": "light"
          },
          "paper_bgcolor": "white",
          "plot_bgcolor": "#E5ECF6",
          "polar": {
           "angularaxis": {
            "gridcolor": "white",
            "linecolor": "white",
            "ticks": ""
           },
           "bgcolor": "#E5ECF6",
           "radialaxis": {
            "gridcolor": "white",
            "linecolor": "white",
            "ticks": ""
           }
          },
          "scene": {
           "xaxis": {
            "backgroundcolor": "#E5ECF6",
            "gridcolor": "white",
            "gridwidth": 2,
            "linecolor": "white",
            "showbackground": true,
            "ticks": "",
            "zerolinecolor": "white"
           },
           "yaxis": {
            "backgroundcolor": "#E5ECF6",
            "gridcolor": "white",
            "gridwidth": 2,
            "linecolor": "white",
            "showbackground": true,
            "ticks": "",
            "zerolinecolor": "white"
           },
           "zaxis": {
            "backgroundcolor": "#E5ECF6",
            "gridcolor": "white",
            "gridwidth": 2,
            "linecolor": "white",
            "showbackground": true,
            "ticks": "",
            "zerolinecolor": "white"
           }
          },
          "shapedefaults": {
           "line": {
            "color": "#2a3f5f"
           }
          },
          "ternary": {
           "aaxis": {
            "gridcolor": "white",
            "linecolor": "white",
            "ticks": ""
           },
           "baxis": {
            "gridcolor": "white",
            "linecolor": "white",
            "ticks": ""
           },
           "bgcolor": "#E5ECF6",
           "caxis": {
            "gridcolor": "white",
            "linecolor": "white",
            "ticks": ""
           }
          },
          "title": {
           "x": 0.05
          },
          "xaxis": {
           "automargin": true,
           "gridcolor": "white",
           "linecolor": "white",
           "ticks": "",
           "title": {
            "standoff": 15
           },
           "zerolinecolor": "white",
           "zerolinewidth": 2
          },
          "yaxis": {
           "automargin": true,
           "gridcolor": "white",
           "linecolor": "white",
           "ticks": "",
           "title": {
            "standoff": 15
           },
           "zerolinecolor": "white",
           "zerolinewidth": 2
          }
         }
        },
        "title": {
         "text": "DNA Damage in Glia Nuclei by Tissue Location"
        },
        "xaxis": {
         "anchor": "y",
         "domain": [
          0,
          1
         ],
         "title": {
          "text": "tissue_location"
         }
        },
        "yaxis": {
         "anchor": "x",
         "domain": [
          0,
          1
         ],
         "title": {
          "text": "avg_dna_damage_foci/glia_+"
         }
        }
       }
      }
     },
     "metadata": {},
     "output_type": "display_data"
    }
   ],
   "source": [
    "# Create the plot\n",
    "fig = px.scatter(df, x='tissue_location', y='avg_dna_damage_foci/glia_+',\n",
    "                 hover_data=['staining_id'], title='DNA Damage in Glia Nuclei by Tissue Location')\n",
    "\n",
    "# Show the plot\n",
    "fig.show()"
   ]
  },
  {
   "cell_type": "code",
   "execution_count": 145,
   "metadata": {},
   "outputs": [
    {
     "data": {
      "application/vnd.plotly.v1+json": {
       "config": {
        "plotlyServerURL": "https://plot.ly"
       },
       "data": [
        {
         "customdata": [
          [
           16
          ],
          [
           16
          ],
          [
           16
          ],
          [
           16
          ],
          [
           16
          ],
          [
           16
          ],
          [
           17
          ],
          [
           17
          ],
          [
           17
          ],
          [
           17
          ],
          [
           17
          ],
          [
           17
          ],
          [
           18
          ],
          [
           18
          ],
          [
           18
          ],
          [
           18
          ],
          [
           18
          ],
          [
           18
          ],
          [
           19
          ],
          [
           19
          ],
          [
           19
          ],
          [
           19
          ],
          [
           19
          ],
          [
           19
          ],
          [
           20
          ],
          [
           20
          ],
          [
           20
          ],
          [
           20
          ],
          [
           20
          ],
          [
           20
          ],
          [
           21
          ],
          [
           21
          ],
          [
           21
          ],
          [
           21
          ],
          [
           21
          ],
          [
           21
          ],
          [
           22
          ],
          [
           22
          ],
          [
           22
          ],
          [
           22
          ],
          [
           22
          ],
          [
           22
          ],
          [
           23
          ],
          [
           23
          ],
          [
           23
          ],
          [
           23
          ],
          [
           23
          ],
          [
           23
          ],
          [
           24
          ],
          [
           24
          ],
          [
           24
          ],
          [
           24
          ],
          [
           24
          ],
          [
           24
          ],
          [
           25
          ],
          [
           25
          ],
          [
           25
          ],
          [
           25
          ],
          [
           25
          ],
          [
           25
          ],
          [
           26
          ],
          [
           26
          ],
          [
           26
          ],
          [
           26
          ],
          [
           26
          ],
          [
           26
          ],
          [
           27
          ],
          [
           28
          ],
          [
           28
          ],
          [
           28
          ],
          [
           28
          ],
          [
           28
          ],
          [
           28
          ],
          [
           29
          ],
          [
           29
          ],
          [
           29
          ],
          [
           29
          ],
          [
           29
          ],
          [
           29
          ],
          [
           30
          ],
          [
           30
          ],
          [
           30
          ],
          [
           30
          ],
          [
           30
          ],
          [
           30
          ],
          [
           31
          ],
          [
           31
          ],
          [
           31
          ],
          [
           31
          ],
          [
           31
          ],
          [
           31
          ],
          [
           32
          ],
          [
           32
          ],
          [
           32
          ],
          [
           32
          ],
          [
           32
          ],
          [
           32
          ],
          [
           33
          ],
          [
           33
          ],
          [
           33
          ],
          [
           33
          ],
          [
           33
          ],
          [
           33
          ],
          [
           34
          ],
          [
           34
          ],
          [
           34
          ],
          [
           34
          ],
          [
           34
          ],
          [
           34
          ],
          [
           35
          ],
          [
           35
          ],
          [
           35
          ],
          [
           35
          ],
          [
           35
          ],
          [
           35
          ],
          [
           36
          ],
          [
           36
          ],
          [
           36
          ],
          [
           36
          ],
          [
           36
          ],
          [
           36
          ],
          [
           37
          ],
          [
           37
          ],
          [
           37
          ],
          [
           37
          ],
          [
           37
          ],
          [
           37
          ],
          [
           38
          ],
          [
           39
          ],
          [
           39
          ],
          [
           39
          ],
          [
           39
          ],
          [
           39
          ],
          [
           39
          ],
          [
           40
          ],
          [
           40
          ],
          [
           40
          ],
          [
           40
          ],
          [
           40
          ],
          [
           40
          ],
          [
           41
          ],
          [
           41
          ],
          [
           41
          ],
          [
           41
          ],
          [
           41
          ],
          [
           41
          ],
          [
           42
          ],
          [
           42
          ],
          [
           42
          ],
          [
           42
          ],
          [
           42
          ],
          [
           42
          ],
          [
           43
          ],
          [
           43
          ],
          [
           43
          ],
          [
           43
          ],
          [
           43
          ],
          [
           43
          ],
          [
           44
          ],
          [
           44
          ],
          [
           44
          ],
          [
           44
          ],
          [
           45
          ],
          [
           45
          ],
          [
           45
          ],
          [
           45
          ],
          [
           45
          ],
          [
           45
          ],
          [
           46
          ],
          [
           46
          ],
          [
           46
          ],
          [
           46
          ],
          [
           46
          ],
          [
           46
          ],
          [
           47
          ],
          [
           47
          ],
          [
           47
          ],
          [
           47
          ],
          [
           47
          ],
          [
           47
          ],
          [
           48
          ],
          [
           48
          ],
          [
           48
          ],
          [
           48
          ],
          [
           48
          ],
          [
           48
          ],
          [
           49
          ],
          [
           49
          ],
          [
           49
          ],
          [
           49
          ],
          [
           49
          ],
          [
           49
          ],
          [
           50
          ],
          [
           50
          ],
          [
           50
          ],
          [
           50
          ],
          [
           50
          ],
          [
           50
          ],
          [
           51
          ],
          [
           51
          ],
          [
           51
          ],
          [
           51
          ],
          [
           51
          ],
          [
           51
          ],
          [
           52
          ],
          [
           52
          ],
          [
           52
          ],
          [
           52
          ],
          [
           52
          ],
          [
           52
          ],
          [
           53
          ],
          [
           53
          ],
          [
           53
          ],
          [
           53
          ],
          [
           53
          ],
          [
           53
          ],
          [
           54
          ],
          [
           54
          ],
          [
           54
          ],
          [
           54
          ],
          [
           54
          ],
          [
           54
          ],
          [
           55
          ],
          [
           55
          ],
          [
           55
          ],
          [
           55
          ],
          [
           55
          ],
          [
           55
          ],
          [
           56
          ],
          [
           56
          ],
          [
           56
          ],
          [
           56
          ],
          [
           56
          ],
          [
           56
          ],
          [
           57
          ],
          [
           57
          ],
          [
           57
          ],
          [
           57
          ],
          [
           57
          ],
          [
           57
          ],
          [
           58
          ],
          [
           58
          ],
          [
           58
          ],
          [
           58
          ],
          [
           58
          ],
          [
           58
          ],
          [
           59
          ],
          [
           59
          ],
          [
           59
          ],
          [
           59
          ],
          [
           59
          ],
          [
           59
          ]
         ],
         "hovertemplate": "tissue_location=%{x}<br>avg_dna_damage_foci/all_nuclei=%{y}<br>staining_id=%{customdata[0]}<extra></extra>",
         "legendgroup": "",
         "marker": {
          "color": "#636efa",
          "symbol": "circle"
         },
         "mode": "markers",
         "name": "",
         "orientation": "v",
         "showlegend": false,
         "type": "scatter",
         "x": [
          "CA1",
          "CA3",
          "CTX1",
          "CTX2",
          "CTX3",
          "DG",
          "CA1",
          "CA3",
          "CTX1",
          "CTX2",
          "CTX3",
          "DG",
          "CA1",
          "CA3",
          "CTX1",
          "CTX2",
          "CTX3",
          "DG",
          "CA1",
          "CA3",
          "CTX1",
          "CTX2",
          "CTX3",
          "DG",
          "CA1",
          "CA3",
          "CTX1",
          "CTX2",
          "CTX3",
          "DG",
          "CA1",
          "CA3",
          "CTX1",
          "CTX2",
          "CTX3",
          "DG",
          "CA1",
          "CA3",
          "CTX1",
          "CTX2",
          "CTX3",
          "DG",
          "CA1",
          "CA3",
          "CTX1",
          "CTX2",
          "CTX3",
          "DG",
          "CA1",
          "CA3",
          "CTX1",
          "CTX2",
          "CTX3",
          "DG",
          "CA1",
          "CA3",
          "CTX1",
          "CTX2",
          "CTX3",
          "DG",
          "CA1",
          "CA3",
          "CTX1",
          "CTX2",
          "CTX3",
          "DG",
          "DG",
          "CA1",
          "CA3",
          "CTX1",
          "CTX2",
          "CTX3",
          "DG",
          "CA1",
          "CA3",
          "CTX1",
          "CTX2",
          "CTX3",
          "DG",
          "CA1",
          "CA3",
          "CTX1",
          "CTX2",
          "CTX3",
          "DG",
          "CA1",
          "CA3",
          "CTX1",
          "CTX2",
          "CTX3",
          "DG",
          "CA1",
          "CA3",
          "CTX1",
          "CTX2",
          "CTX3",
          "DG",
          "CA1",
          "CA3",
          "CTX1",
          "CTX2",
          "CTX3",
          "DG",
          "CA1",
          "CA3",
          "CTX1",
          "CTX2",
          "CTX3",
          "DG",
          "CA1",
          "CA3",
          "CTX1",
          "CTX2",
          "CTX3",
          "DG",
          "CA1",
          "CA3",
          "CTX1",
          "CTX2",
          "CTX3",
          "DG",
          "CA1",
          "CA3",
          "CTX1",
          "CTX2",
          "CTX3",
          "DG",
          "DG",
          "CA1",
          "CA3",
          "CTX1",
          "CTX2",
          "CTX3",
          "DG",
          "CA1",
          "CA3",
          "CTX1",
          "CTX2",
          "CTX3",
          "DG",
          "CA1",
          "CA3",
          "CTX1",
          "CTX2",
          "CTX3",
          "DG",
          "CA1",
          "CA3",
          "CTX1",
          "CTX2",
          "CTX3",
          "DG",
          "CA1",
          "CA3",
          "CTX1",
          "CTX2",
          "CTX3",
          "DG",
          "CA1",
          "CA3",
          "CTX1",
          "DG",
          "CA1",
          "CA3",
          "CTX1",
          "CTX2",
          "CTX3",
          "DG",
          "CA1",
          "CA3",
          "CTX1",
          "CTX2",
          "CTX3",
          "DG",
          "CA1",
          "CA3",
          "CTX1",
          "CTX2",
          "CTX3",
          "DG",
          "CA1",
          "CA3",
          "CTX1",
          "CTX2",
          "CTX3",
          "DG",
          "CA1",
          "CA3",
          "CTX1",
          "CTX2",
          "CTX3",
          "DG",
          "CA1",
          "CA3",
          "CTX1",
          "CTX2",
          "CTX3",
          "DG",
          "CA1",
          "CA3",
          "CTX1",
          "CTX2",
          "CTX3",
          "DG",
          "CA1",
          "CA3",
          "CTX1",
          "CTX2",
          "CTX3",
          "DG",
          "CA1",
          "CA3",
          "CTX1",
          "CTX2",
          "CTX3",
          "DG",
          "CA1",
          "CA3",
          "CTX1",
          "CTX2",
          "CTX3",
          "DG",
          "CA1",
          "CA3",
          "CTX1",
          "CTX2",
          "CTX3",
          "DG",
          "CA1",
          "CA3",
          "CTX1",
          "CTX2",
          "CTX3",
          "DG",
          "CA1",
          "CA3",
          "CTX1",
          "CTX2",
          "CTX3",
          "DG",
          "CA1",
          "CA3",
          "CTX1",
          "CTX2",
          "CTX3",
          "DG",
          "CA1",
          "CA3",
          "CTX1",
          "CTX2",
          "CTX3",
          "DG"
         ],
         "xaxis": "x",
         "y": [
          0.8404907975460123,
          4.049079754601227,
          0.7387387387387387,
          2.5352697095435683,
          2.0047846889952154,
          1,
          2.8551724137931034,
          3.275449101796408,
          1.4018264840182648,
          2.867424242424242,
          3.163636363636364,
          3.330316742081448,
          2.2641509433962264,
          3.4918032786885247,
          1.7098445595854923,
          3.1666666666666665,
          2.9838709677419355,
          1.4150943396226414,
          1,
          1,
          1,
          1,
          1,
          1,
          0.7322834645669292,
          1.319148936170213,
          0.5695364238410596,
          1.1654676258992809,
          0.6438356164383562,
          1.5905511811023625,
          0.9026548672566372,
          0.967741935483871,
          0.6702702702702703,
          0.7746478873239436,
          1.1304347826086956,
          1.3522267206477734,
          1.437956204379562,
          1.2564102564102564,
          1.353191489361702,
          1.1229508196721312,
          0.4236111111111111,
          1.8681672025723477,
          0.7241379310344828,
          0.7738095238095238,
          0.41875,
          0.1180555555555555,
          0.8529411764705882,
          1.2266187050359711,
          0.6666666666666666,
          0.6857142857142857,
          0.282258064516129,
          0.4786324786324786,
          0.5798816568047337,
          0.2073170731707317,
          1.6714285714285717,
          1.8166666666666669,
          0.6836734693877551,
          1.8125,
          2.17032967032967,
          2.269360269360269,
          2.845238095238096,
          3.7111111111111112,
          2.5280898876404496,
          2.4166666666666665,
          2.1485148514851486,
          3.6814814814814816,
          2.0632911392405062,
          1.1372549019607845,
          0.6129032258064516,
          0.7395833333333334,
          1.0053475935828875,
          1.326530612244898,
          2.668103448275862,
          0.8114754098360656,
          0.6509433962264151,
          0.8426966292134831,
          1.2295081967213115,
          0.6025641025641025,
          1.1494252873563218,
          0.6310679611650486,
          0.8552631578947368,
          0.485,
          0.5900900900900901,
          0.4021739130434782,
          1.2116182572614107,
          1.0775193798449612,
          0.9225806451612903,
          0.5029585798816568,
          0.6425339366515838,
          0.9523809523809524,
          1.7625,
          4.467105263157895,
          4.009615384615385,
          4.389513108614232,
          2.5695652173913044,
          4.444444444444445,
          3.4801762114537445,
          0.8421052631578947,
          0.994011976047904,
          0.6878048780487804,
          1.3144329896907216,
          0.8783783783783784,
          1.735191637630662,
          4.072992700729927,
          4.504545454545455,
          3.2574626865671643,
          3.317796610169492,
          2.304123711340206,
          3.956989247311828,
          0.4471544715447154,
          3.1486486486486487,
          0.7107843137254902,
          2.424489795918368,
          3.123456790123457,
          2.828,
          1.105263157894737,
          0.8064516129032258,
          1.966019417475728,
          1.2425742574257426,
          1.0874316939890711,
          1.8436213991769548,
          1.2620689655172417,
          1.4830508474576272,
          1.5277777777777777,
          2.05327868852459,
          1.3541666666666667,
          2.026595744680851,
          1.3414634146341464,
          0.7159090909090909,
          0.7530864197530864,
          0.391304347826087,
          0.3846153846153846,
          0.2635658914728682,
          0.8848167539267016,
          0.4173228346456692,
          0.7088607594936709,
          0.65625,
          0.6451612903225806,
          0.7176470588235294,
          1.2698412698412698,
          0.72,
          0.5058823529411764,
          0.1052631578947368,
          0.1604938271604938,
          0.2123893805309734,
          1.2656826568265682,
          0.4031007751937984,
          0.7411764705882353,
          0.5083798882681564,
          0.5273972602739726,
          0.6492537313432836,
          0.8767772511848341,
          0.3577981651376147,
          1.2738095238095235,
          1.3935185185185186,
          0.4654088050314465,
          0.9735449735449736,
          2.6893617021276595,
          1.4651162790697674,
          1.8958333333333333,
          1.351931330472103,
          1.568421052631579,
          2.306451612903226,
          1.592,
          0.601010101010101,
          0.4680851063829787,
          0.5027932960893855,
          2.387832699619772,
          2.959016393442623,
          3.811320754716981,
          2.417777777777778,
          2.0078740157480315,
          2.805084745762712,
          2.3703703703703702,
          1.3,
          3.42608695652174,
          0.6529209621993127,
          2.6311475409836067,
          1.6510416666666667,
          3.220689655172414,
          1.2037037037037035,
          0.6119402985074627,
          0.7788944723618091,
          0.8434782608695652,
          0.8697916666666666,
          1.988929889298893,
          2.25,
          1.9906542056074767,
          1.4485294117647058,
          1.7668711656441718,
          1.2293577981651376,
          2.756578947368421,
          0.2450980392156862,
          0.5221238938053098,
          0.0179372197309417,
          0.2239583333333333,
          0.8171428571428572,
          0.4423963133640553,
          0.4152542372881356,
          0.845360824742268,
          0.328125,
          0.2487046632124352,
          0.5,
          1.2027027027027026,
          0.4385964912280701,
          0.6,
          0.3493975903614458,
          0.4785276073619632,
          0.5683060109289617,
          0.6606334841628959,
          2.9545454545454546,
          2.53125,
          2.0689655172413794,
          1.6972972972972973,
          1.4661016949152543,
          3.2375690607734806,
          0.5619834710743802,
          0.9369369369369368,
          0.6847826086956522,
          0.7361963190184049,
          0.7837837837837838,
          1.2375478927203063,
          0.5353535353535354,
          0.6438356164383562,
          0.043859649122807,
          0.8071428571428572,
          0.2388059701492537,
          1,
          0.5546875,
          0.65625,
          0.5222929936305732,
          0.3620689655172414,
          0.3647058823529411,
          1.009049773755656,
          1.2205882352941178,
          3.4296296296296296,
          0.3684210526315789,
          0.4078947368421052,
          0.1509433962264151,
          2.1517857142857144,
          0.7142857142857143,
          0.845360824742268,
          0.6864406779661016,
          0.868421052631579,
          0.6226415094339622,
          0.895397489539749,
          0.7089552238805971,
          0.4794520547945205,
          0.6492146596858639,
          0.4491525423728814,
          0.4307692307692308,
          1.2644628099173554
         ],
         "yaxis": "y"
        }
       ],
       "layout": {
        "legend": {
         "tracegroupgap": 0
        },
        "template": {
         "data": {
          "bar": [
           {
            "error_x": {
             "color": "#2a3f5f"
            },
            "error_y": {
             "color": "#2a3f5f"
            },
            "marker": {
             "line": {
              "color": "#E5ECF6",
              "width": 0.5
             },
             "pattern": {
              "fillmode": "overlay",
              "size": 10,
              "solidity": 0.2
             }
            },
            "type": "bar"
           }
          ],
          "barpolar": [
           {
            "marker": {
             "line": {
              "color": "#E5ECF6",
              "width": 0.5
             },
             "pattern": {
              "fillmode": "overlay",
              "size": 10,
              "solidity": 0.2
             }
            },
            "type": "barpolar"
           }
          ],
          "carpet": [
           {
            "aaxis": {
             "endlinecolor": "#2a3f5f",
             "gridcolor": "white",
             "linecolor": "white",
             "minorgridcolor": "white",
             "startlinecolor": "#2a3f5f"
            },
            "baxis": {
             "endlinecolor": "#2a3f5f",
             "gridcolor": "white",
             "linecolor": "white",
             "minorgridcolor": "white",
             "startlinecolor": "#2a3f5f"
            },
            "type": "carpet"
           }
          ],
          "choropleth": [
           {
            "colorbar": {
             "outlinewidth": 0,
             "ticks": ""
            },
            "type": "choropleth"
           }
          ],
          "contour": [
           {
            "colorbar": {
             "outlinewidth": 0,
             "ticks": ""
            },
            "colorscale": [
             [
              0,
              "#0d0887"
             ],
             [
              0.1111111111111111,
              "#46039f"
             ],
             [
              0.2222222222222222,
              "#7201a8"
             ],
             [
              0.3333333333333333,
              "#9c179e"
             ],
             [
              0.4444444444444444,
              "#bd3786"
             ],
             [
              0.5555555555555556,
              "#d8576b"
             ],
             [
              0.6666666666666666,
              "#ed7953"
             ],
             [
              0.7777777777777778,
              "#fb9f3a"
             ],
             [
              0.8888888888888888,
              "#fdca26"
             ],
             [
              1,
              "#f0f921"
             ]
            ],
            "type": "contour"
           }
          ],
          "contourcarpet": [
           {
            "colorbar": {
             "outlinewidth": 0,
             "ticks": ""
            },
            "type": "contourcarpet"
           }
          ],
          "heatmap": [
           {
            "colorbar": {
             "outlinewidth": 0,
             "ticks": ""
            },
            "colorscale": [
             [
              0,
              "#0d0887"
             ],
             [
              0.1111111111111111,
              "#46039f"
             ],
             [
              0.2222222222222222,
              "#7201a8"
             ],
             [
              0.3333333333333333,
              "#9c179e"
             ],
             [
              0.4444444444444444,
              "#bd3786"
             ],
             [
              0.5555555555555556,
              "#d8576b"
             ],
             [
              0.6666666666666666,
              "#ed7953"
             ],
             [
              0.7777777777777778,
              "#fb9f3a"
             ],
             [
              0.8888888888888888,
              "#fdca26"
             ],
             [
              1,
              "#f0f921"
             ]
            ],
            "type": "heatmap"
           }
          ],
          "heatmapgl": [
           {
            "colorbar": {
             "outlinewidth": 0,
             "ticks": ""
            },
            "colorscale": [
             [
              0,
              "#0d0887"
             ],
             [
              0.1111111111111111,
              "#46039f"
             ],
             [
              0.2222222222222222,
              "#7201a8"
             ],
             [
              0.3333333333333333,
              "#9c179e"
             ],
             [
              0.4444444444444444,
              "#bd3786"
             ],
             [
              0.5555555555555556,
              "#d8576b"
             ],
             [
              0.6666666666666666,
              "#ed7953"
             ],
             [
              0.7777777777777778,
              "#fb9f3a"
             ],
             [
              0.8888888888888888,
              "#fdca26"
             ],
             [
              1,
              "#f0f921"
             ]
            ],
            "type": "heatmapgl"
           }
          ],
          "histogram": [
           {
            "marker": {
             "pattern": {
              "fillmode": "overlay",
              "size": 10,
              "solidity": 0.2
             }
            },
            "type": "histogram"
           }
          ],
          "histogram2d": [
           {
            "colorbar": {
             "outlinewidth": 0,
             "ticks": ""
            },
            "colorscale": [
             [
              0,
              "#0d0887"
             ],
             [
              0.1111111111111111,
              "#46039f"
             ],
             [
              0.2222222222222222,
              "#7201a8"
             ],
             [
              0.3333333333333333,
              "#9c179e"
             ],
             [
              0.4444444444444444,
              "#bd3786"
             ],
             [
              0.5555555555555556,
              "#d8576b"
             ],
             [
              0.6666666666666666,
              "#ed7953"
             ],
             [
              0.7777777777777778,
              "#fb9f3a"
             ],
             [
              0.8888888888888888,
              "#fdca26"
             ],
             [
              1,
              "#f0f921"
             ]
            ],
            "type": "histogram2d"
           }
          ],
          "histogram2dcontour": [
           {
            "colorbar": {
             "outlinewidth": 0,
             "ticks": ""
            },
            "colorscale": [
             [
              0,
              "#0d0887"
             ],
             [
              0.1111111111111111,
              "#46039f"
             ],
             [
              0.2222222222222222,
              "#7201a8"
             ],
             [
              0.3333333333333333,
              "#9c179e"
             ],
             [
              0.4444444444444444,
              "#bd3786"
             ],
             [
              0.5555555555555556,
              "#d8576b"
             ],
             [
              0.6666666666666666,
              "#ed7953"
             ],
             [
              0.7777777777777778,
              "#fb9f3a"
             ],
             [
              0.8888888888888888,
              "#fdca26"
             ],
             [
              1,
              "#f0f921"
             ]
            ],
            "type": "histogram2dcontour"
           }
          ],
          "mesh3d": [
           {
            "colorbar": {
             "outlinewidth": 0,
             "ticks": ""
            },
            "type": "mesh3d"
           }
          ],
          "parcoords": [
           {
            "line": {
             "colorbar": {
              "outlinewidth": 0,
              "ticks": ""
             }
            },
            "type": "parcoords"
           }
          ],
          "pie": [
           {
            "automargin": true,
            "type": "pie"
           }
          ],
          "scatter": [
           {
            "fillpattern": {
             "fillmode": "overlay",
             "size": 10,
             "solidity": 0.2
            },
            "type": "scatter"
           }
          ],
          "scatter3d": [
           {
            "line": {
             "colorbar": {
              "outlinewidth": 0,
              "ticks": ""
             }
            },
            "marker": {
             "colorbar": {
              "outlinewidth": 0,
              "ticks": ""
             }
            },
            "type": "scatter3d"
           }
          ],
          "scattercarpet": [
           {
            "marker": {
             "colorbar": {
              "outlinewidth": 0,
              "ticks": ""
             }
            },
            "type": "scattercarpet"
           }
          ],
          "scattergeo": [
           {
            "marker": {
             "colorbar": {
              "outlinewidth": 0,
              "ticks": ""
             }
            },
            "type": "scattergeo"
           }
          ],
          "scattergl": [
           {
            "marker": {
             "colorbar": {
              "outlinewidth": 0,
              "ticks": ""
             }
            },
            "type": "scattergl"
           }
          ],
          "scattermapbox": [
           {
            "marker": {
             "colorbar": {
              "outlinewidth": 0,
              "ticks": ""
             }
            },
            "type": "scattermapbox"
           }
          ],
          "scatterpolar": [
           {
            "marker": {
             "colorbar": {
              "outlinewidth": 0,
              "ticks": ""
             }
            },
            "type": "scatterpolar"
           }
          ],
          "scatterpolargl": [
           {
            "marker": {
             "colorbar": {
              "outlinewidth": 0,
              "ticks": ""
             }
            },
            "type": "scatterpolargl"
           }
          ],
          "scatterternary": [
           {
            "marker": {
             "colorbar": {
              "outlinewidth": 0,
              "ticks": ""
             }
            },
            "type": "scatterternary"
           }
          ],
          "surface": [
           {
            "colorbar": {
             "outlinewidth": 0,
             "ticks": ""
            },
            "colorscale": [
             [
              0,
              "#0d0887"
             ],
             [
              0.1111111111111111,
              "#46039f"
             ],
             [
              0.2222222222222222,
              "#7201a8"
             ],
             [
              0.3333333333333333,
              "#9c179e"
             ],
             [
              0.4444444444444444,
              "#bd3786"
             ],
             [
              0.5555555555555556,
              "#d8576b"
             ],
             [
              0.6666666666666666,
              "#ed7953"
             ],
             [
              0.7777777777777778,
              "#fb9f3a"
             ],
             [
              0.8888888888888888,
              "#fdca26"
             ],
             [
              1,
              "#f0f921"
             ]
            ],
            "type": "surface"
           }
          ],
          "table": [
           {
            "cells": {
             "fill": {
              "color": "#EBF0F8"
             },
             "line": {
              "color": "white"
             }
            },
            "header": {
             "fill": {
              "color": "#C8D4E3"
             },
             "line": {
              "color": "white"
             }
            },
            "type": "table"
           }
          ]
         },
         "layout": {
          "annotationdefaults": {
           "arrowcolor": "#2a3f5f",
           "arrowhead": 0,
           "arrowwidth": 1
          },
          "autotypenumbers": "strict",
          "coloraxis": {
           "colorbar": {
            "outlinewidth": 0,
            "ticks": ""
           }
          },
          "colorscale": {
           "diverging": [
            [
             0,
             "#8e0152"
            ],
            [
             0.1,
             "#c51b7d"
            ],
            [
             0.2,
             "#de77ae"
            ],
            [
             0.3,
             "#f1b6da"
            ],
            [
             0.4,
             "#fde0ef"
            ],
            [
             0.5,
             "#f7f7f7"
            ],
            [
             0.6,
             "#e6f5d0"
            ],
            [
             0.7,
             "#b8e186"
            ],
            [
             0.8,
             "#7fbc41"
            ],
            [
             0.9,
             "#4d9221"
            ],
            [
             1,
             "#276419"
            ]
           ],
           "sequential": [
            [
             0,
             "#0d0887"
            ],
            [
             0.1111111111111111,
             "#46039f"
            ],
            [
             0.2222222222222222,
             "#7201a8"
            ],
            [
             0.3333333333333333,
             "#9c179e"
            ],
            [
             0.4444444444444444,
             "#bd3786"
            ],
            [
             0.5555555555555556,
             "#d8576b"
            ],
            [
             0.6666666666666666,
             "#ed7953"
            ],
            [
             0.7777777777777778,
             "#fb9f3a"
            ],
            [
             0.8888888888888888,
             "#fdca26"
            ],
            [
             1,
             "#f0f921"
            ]
           ],
           "sequentialminus": [
            [
             0,
             "#0d0887"
            ],
            [
             0.1111111111111111,
             "#46039f"
            ],
            [
             0.2222222222222222,
             "#7201a8"
            ],
            [
             0.3333333333333333,
             "#9c179e"
            ],
            [
             0.4444444444444444,
             "#bd3786"
            ],
            [
             0.5555555555555556,
             "#d8576b"
            ],
            [
             0.6666666666666666,
             "#ed7953"
            ],
            [
             0.7777777777777778,
             "#fb9f3a"
            ],
            [
             0.8888888888888888,
             "#fdca26"
            ],
            [
             1,
             "#f0f921"
            ]
           ]
          },
          "colorway": [
           "#636efa",
           "#EF553B",
           "#00cc96",
           "#ab63fa",
           "#FFA15A",
           "#19d3f3",
           "#FF6692",
           "#B6E880",
           "#FF97FF",
           "#FECB52"
          ],
          "font": {
           "color": "#2a3f5f"
          },
          "geo": {
           "bgcolor": "white",
           "lakecolor": "white",
           "landcolor": "#E5ECF6",
           "showlakes": true,
           "showland": true,
           "subunitcolor": "white"
          },
          "hoverlabel": {
           "align": "left"
          },
          "hovermode": "closest",
          "mapbox": {
           "style": "light"
          },
          "paper_bgcolor": "white",
          "plot_bgcolor": "#E5ECF6",
          "polar": {
           "angularaxis": {
            "gridcolor": "white",
            "linecolor": "white",
            "ticks": ""
           },
           "bgcolor": "#E5ECF6",
           "radialaxis": {
            "gridcolor": "white",
            "linecolor": "white",
            "ticks": ""
           }
          },
          "scene": {
           "xaxis": {
            "backgroundcolor": "#E5ECF6",
            "gridcolor": "white",
            "gridwidth": 2,
            "linecolor": "white",
            "showbackground": true,
            "ticks": "",
            "zerolinecolor": "white"
           },
           "yaxis": {
            "backgroundcolor": "#E5ECF6",
            "gridcolor": "white",
            "gridwidth": 2,
            "linecolor": "white",
            "showbackground": true,
            "ticks": "",
            "zerolinecolor": "white"
           },
           "zaxis": {
            "backgroundcolor": "#E5ECF6",
            "gridcolor": "white",
            "gridwidth": 2,
            "linecolor": "white",
            "showbackground": true,
            "ticks": "",
            "zerolinecolor": "white"
           }
          },
          "shapedefaults": {
           "line": {
            "color": "#2a3f5f"
           }
          },
          "ternary": {
           "aaxis": {
            "gridcolor": "white",
            "linecolor": "white",
            "ticks": ""
           },
           "baxis": {
            "gridcolor": "white",
            "linecolor": "white",
            "ticks": ""
           },
           "bgcolor": "#E5ECF6",
           "caxis": {
            "gridcolor": "white",
            "linecolor": "white",
            "ticks": ""
           }
          },
          "title": {
           "x": 0.05
          },
          "xaxis": {
           "automargin": true,
           "gridcolor": "white",
           "linecolor": "white",
           "ticks": "",
           "title": {
            "standoff": 15
           },
           "zerolinecolor": "white",
           "zerolinewidth": 2
          },
          "yaxis": {
           "automargin": true,
           "gridcolor": "white",
           "linecolor": "white",
           "ticks": "",
           "title": {
            "standoff": 15
           },
           "zerolinecolor": "white",
           "zerolinewidth": 2
          }
         }
        },
        "title": {
         "text": "DNA Damage in All Nuclei by Tissue Location"
        },
        "xaxis": {
         "anchor": "y",
         "domain": [
          0,
          1
         ],
         "title": {
          "text": "tissue_location"
         }
        },
        "yaxis": {
         "anchor": "x",
         "domain": [
          0,
          1
         ],
         "title": {
          "text": "avg_dna_damage_foci/all_nuclei"
         }
        }
       }
      }
     },
     "metadata": {},
     "output_type": "display_data"
    }
   ],
   "source": [
    "# Create the plot\n",
    "fig = px.scatter(df, x='tissue_location', y='avg_dna_damage_foci/all_nuclei',\n",
    "                 hover_data=['staining_id'], title='DNA Damage in All Nuclei by Tissue Location')\n",
    "\n",
    "# Show the plot\n",
    "fig.show()"
   ]
  },
  {
   "cell_type": "code",
   "execution_count": 146,
   "metadata": {},
   "outputs": [
    {
     "data": {
      "application/vnd.plotly.v1+json": {
       "config": {
        "plotlyServerURL": "https://plot.ly"
       },
       "data": [
        {
         "customdata": [
          [
           16,
           0
          ],
          [
           16,
           1
          ],
          [
           16,
           2
          ],
          [
           16,
           3
          ],
          [
           16,
           4
          ],
          [
           16,
           5
          ],
          [
           17,
           6
          ],
          [
           17,
           7
          ],
          [
           17,
           8
          ],
          [
           17,
           9
          ],
          [
           17,
           10
          ],
          [
           17,
           11
          ],
          [
           18,
           12
          ],
          [
           18,
           13
          ],
          [
           18,
           14
          ],
          [
           18,
           15
          ],
          [
           18,
           16
          ],
          [
           18,
           17
          ],
          [
           19,
           18
          ],
          [
           19,
           19
          ],
          [
           19,
           20
          ],
          [
           19,
           21
          ],
          [
           19,
           22
          ],
          [
           19,
           23
          ],
          [
           20,
           24
          ],
          [
           20,
           25
          ],
          [
           20,
           26
          ],
          [
           20,
           27
          ],
          [
           20,
           28
          ],
          [
           20,
           29
          ],
          [
           21,
           30
          ],
          [
           21,
           31
          ],
          [
           21,
           32
          ],
          [
           21,
           33
          ],
          [
           21,
           34
          ],
          [
           21,
           35
          ],
          [
           22,
           36
          ],
          [
           22,
           37
          ],
          [
           22,
           38
          ],
          [
           22,
           39
          ],
          [
           22,
           40
          ],
          [
           22,
           41
          ],
          [
           23,
           42
          ],
          [
           23,
           43
          ],
          [
           23,
           44
          ],
          [
           23,
           45
          ],
          [
           23,
           46
          ],
          [
           23,
           47
          ],
          [
           24,
           48
          ],
          [
           24,
           49
          ],
          [
           24,
           50
          ],
          [
           24,
           51
          ],
          [
           24,
           52
          ],
          [
           24,
           53
          ],
          [
           25,
           54
          ],
          [
           25,
           55
          ],
          [
           25,
           56
          ],
          [
           25,
           57
          ],
          [
           25,
           58
          ],
          [
           25,
           59
          ],
          [
           26,
           60
          ],
          [
           26,
           61
          ],
          [
           26,
           62
          ],
          [
           26,
           63
          ],
          [
           26,
           64
          ],
          [
           26,
           65
          ],
          [
           27,
           66
          ],
          [
           28,
           67
          ],
          [
           28,
           68
          ],
          [
           28,
           69
          ],
          [
           28,
           70
          ],
          [
           28,
           71
          ],
          [
           28,
           72
          ],
          [
           29,
           73
          ],
          [
           29,
           74
          ],
          [
           29,
           75
          ],
          [
           29,
           76
          ],
          [
           29,
           77
          ],
          [
           29,
           78
          ],
          [
           30,
           79
          ],
          [
           30,
           80
          ],
          [
           30,
           81
          ],
          [
           30,
           82
          ],
          [
           30,
           83
          ],
          [
           30,
           84
          ],
          [
           31,
           85
          ],
          [
           31,
           86
          ],
          [
           31,
           87
          ],
          [
           31,
           88
          ],
          [
           31,
           89
          ],
          [
           31,
           90
          ],
          [
           32,
           91
          ],
          [
           32,
           92
          ],
          [
           32,
           93
          ],
          [
           32,
           94
          ],
          [
           32,
           95
          ],
          [
           32,
           96
          ],
          [
           33,
           97
          ],
          [
           33,
           98
          ],
          [
           33,
           99
          ],
          [
           33,
           100
          ],
          [
           33,
           101
          ],
          [
           33,
           102
          ],
          [
           34,
           103
          ],
          [
           34,
           104
          ],
          [
           34,
           105
          ],
          [
           34,
           106
          ],
          [
           34,
           107
          ],
          [
           34,
           108
          ],
          [
           35,
           109
          ],
          [
           35,
           110
          ],
          [
           35,
           111
          ],
          [
           35,
           112
          ],
          [
           35,
           113
          ],
          [
           35,
           114
          ],
          [
           36,
           115
          ],
          [
           36,
           116
          ],
          [
           36,
           117
          ],
          [
           36,
           118
          ],
          [
           36,
           119
          ],
          [
           36,
           120
          ],
          [
           37,
           121
          ],
          [
           37,
           122
          ],
          [
           37,
           123
          ],
          [
           37,
           124
          ],
          [
           37,
           125
          ],
          [
           37,
           126
          ],
          [
           38,
           127
          ],
          [
           39,
           128
          ],
          [
           39,
           129
          ],
          [
           39,
           130
          ],
          [
           39,
           131
          ],
          [
           39,
           132
          ],
          [
           39,
           133
          ],
          [
           40,
           134
          ],
          [
           40,
           135
          ],
          [
           40,
           136
          ],
          [
           40,
           137
          ],
          [
           40,
           138
          ],
          [
           40,
           139
          ],
          [
           41,
           140
          ],
          [
           41,
           141
          ],
          [
           41,
           142
          ],
          [
           41,
           143
          ],
          [
           41,
           144
          ],
          [
           41,
           145
          ],
          [
           42,
           146
          ],
          [
           42,
           147
          ],
          [
           42,
           148
          ],
          [
           42,
           149
          ],
          [
           42,
           150
          ],
          [
           42,
           151
          ],
          [
           43,
           152
          ],
          [
           43,
           153
          ],
          [
           43,
           154
          ],
          [
           43,
           155
          ],
          [
           43,
           156
          ],
          [
           43,
           157
          ],
          [
           44,
           158
          ],
          [
           44,
           159
          ],
          [
           44,
           160
          ],
          [
           44,
           161
          ],
          [
           45,
           162
          ],
          [
           45,
           163
          ],
          [
           45,
           164
          ],
          [
           45,
           165
          ],
          [
           45,
           166
          ],
          [
           45,
           167
          ],
          [
           46,
           168
          ],
          [
           46,
           169
          ],
          [
           46,
           170
          ],
          [
           46,
           171
          ],
          [
           46,
           172
          ],
          [
           46,
           173
          ],
          [
           47,
           174
          ],
          [
           47,
           175
          ],
          [
           47,
           176
          ],
          [
           47,
           177
          ],
          [
           47,
           178
          ],
          [
           47,
           179
          ],
          [
           48,
           180
          ],
          [
           48,
           181
          ],
          [
           48,
           182
          ],
          [
           48,
           183
          ],
          [
           48,
           184
          ],
          [
           48,
           185
          ],
          [
           49,
           186
          ],
          [
           49,
           187
          ],
          [
           49,
           188
          ],
          [
           49,
           189
          ],
          [
           49,
           190
          ],
          [
           49,
           191
          ],
          [
           50,
           192
          ],
          [
           50,
           193
          ],
          [
           50,
           194
          ],
          [
           50,
           195
          ],
          [
           50,
           196
          ],
          [
           50,
           197
          ],
          [
           51,
           198
          ],
          [
           51,
           199
          ],
          [
           51,
           200
          ],
          [
           51,
           201
          ],
          [
           51,
           202
          ],
          [
           51,
           203
          ],
          [
           52,
           204
          ],
          [
           52,
           205
          ],
          [
           52,
           206
          ],
          [
           52,
           207
          ],
          [
           52,
           208
          ],
          [
           52,
           209
          ],
          [
           53,
           210
          ],
          [
           53,
           211
          ],
          [
           53,
           212
          ],
          [
           53,
           213
          ],
          [
           53,
           214
          ],
          [
           53,
           215
          ],
          [
           54,
           216
          ],
          [
           54,
           217
          ],
          [
           54,
           218
          ],
          [
           54,
           219
          ],
          [
           54,
           220
          ],
          [
           54,
           221
          ],
          [
           55,
           222
          ],
          [
           55,
           223
          ],
          [
           55,
           224
          ],
          [
           55,
           225
          ],
          [
           55,
           226
          ],
          [
           55,
           227
          ],
          [
           56,
           228
          ],
          [
           56,
           229
          ],
          [
           56,
           230
          ],
          [
           56,
           231
          ],
          [
           56,
           232
          ],
          [
           56,
           233
          ],
          [
           57,
           234
          ],
          [
           57,
           235
          ],
          [
           57,
           236
          ],
          [
           57,
           237
          ],
          [
           57,
           238
          ],
          [
           57,
           239
          ],
          [
           58,
           240
          ],
          [
           58,
           241
          ],
          [
           58,
           242
          ],
          [
           58,
           243
          ],
          [
           58,
           244
          ],
          [
           58,
           245
          ],
          [
           59,
           246
          ],
          [
           59,
           247
          ],
          [
           59,
           248
          ],
          [
           59,
           249
          ],
          [
           59,
           250
          ],
          [
           59,
           251
          ]
         ],
         "hovertemplate": "tissue_location=%{x}<br>nr_glia_+_nuclei=%{y}<br>staining_id=%{customdata[0]}<br>index=%{customdata[1]}<extra></extra>",
         "legendgroup": "",
         "marker": {
          "color": "#636efa",
          "symbol": "circle"
         },
         "mode": "markers",
         "name": "",
         "orientation": "v",
         "showlegend": false,
         "type": "scatter",
         "x": [
          "CA1",
          "CA3",
          "CTX1",
          "CTX2",
          "CTX3",
          "DG",
          "CA1",
          "CA3",
          "CTX1",
          "CTX2",
          "CTX3",
          "DG",
          "CA1",
          "CA3",
          "CTX1",
          "CTX2",
          "CTX3",
          "DG",
          "CA1",
          "CA3",
          "CTX1",
          "CTX2",
          "CTX3",
          "DG",
          "CA1",
          "CA3",
          "CTX1",
          "CTX2",
          "CTX3",
          "DG",
          "CA1",
          "CA3",
          "CTX1",
          "CTX2",
          "CTX3",
          "DG",
          "CA1",
          "CA3",
          "CTX1",
          "CTX2",
          "CTX3",
          "DG",
          "CA1",
          "CA3",
          "CTX1",
          "CTX2",
          "CTX3",
          "DG",
          "CA1",
          "CA3",
          "CTX1",
          "CTX2",
          "CTX3",
          "DG",
          "CA1",
          "CA3",
          "CTX1",
          "CTX2",
          "CTX3",
          "DG",
          "CA1",
          "CA3",
          "CTX1",
          "CTX2",
          "CTX3",
          "DG",
          "DG",
          "CA1",
          "CA3",
          "CTX1",
          "CTX2",
          "CTX3",
          "DG",
          "CA1",
          "CA3",
          "CTX1",
          "CTX2",
          "CTX3",
          "DG",
          "CA1",
          "CA3",
          "CTX1",
          "CTX2",
          "CTX3",
          "DG",
          "CA1",
          "CA3",
          "CTX1",
          "CTX2",
          "CTX3",
          "DG",
          "CA1",
          "CA3",
          "CTX1",
          "CTX2",
          "CTX3",
          "DG",
          "CA1",
          "CA3",
          "CTX1",
          "CTX2",
          "CTX3",
          "DG",
          "CA1",
          "CA3",
          "CTX1",
          "CTX2",
          "CTX3",
          "DG",
          "CA1",
          "CA3",
          "CTX1",
          "CTX2",
          "CTX3",
          "DG",
          "CA1",
          "CA3",
          "CTX1",
          "CTX2",
          "CTX3",
          "DG",
          "CA1",
          "CA3",
          "CTX1",
          "CTX2",
          "CTX3",
          "DG",
          "DG",
          "CA1",
          "CA3",
          "CTX1",
          "CTX2",
          "CTX3",
          "DG",
          "CA1",
          "CA3",
          "CTX1",
          "CTX2",
          "CTX3",
          "DG",
          "CA1",
          "CA3",
          "CTX1",
          "CTX2",
          "CTX3",
          "DG",
          "CA1",
          "CA3",
          "CTX1",
          "CTX2",
          "CTX3",
          "DG",
          "CA1",
          "CA3",
          "CTX1",
          "CTX2",
          "CTX3",
          "DG",
          "CA1",
          "CA3",
          "CTX1",
          "DG",
          "CA1",
          "CA3",
          "CTX1",
          "CTX2",
          "CTX3",
          "DG",
          "CA1",
          "CA3",
          "CTX1",
          "CTX2",
          "CTX3",
          "DG",
          "CA1",
          "CA3",
          "CTX1",
          "CTX2",
          "CTX3",
          "DG",
          "CA1",
          "CA3",
          "CTX1",
          "CTX2",
          "CTX3",
          "DG",
          "CA1",
          "CA3",
          "CTX1",
          "CTX2",
          "CTX3",
          "DG",
          "CA1",
          "CA3",
          "CTX1",
          "CTX2",
          "CTX3",
          "DG",
          "CA1",
          "CA3",
          "CTX1",
          "CTX2",
          "CTX3",
          "DG",
          "CA1",
          "CA3",
          "CTX1",
          "CTX2",
          "CTX3",
          "DG",
          "CA1",
          "CA3",
          "CTX1",
          "CTX2",
          "CTX3",
          "DG",
          "CA1",
          "CA3",
          "CTX1",
          "CTX2",
          "CTX3",
          "DG",
          "CA1",
          "CA3",
          "CTX1",
          "CTX2",
          "CTX3",
          "DG",
          "CA1",
          "CA3",
          "CTX1",
          "CTX2",
          "CTX3",
          "DG",
          "CA1",
          "CA3",
          "CTX1",
          "CTX2",
          "CTX3",
          "DG",
          "CA1",
          "CA3",
          "CTX1",
          "CTX2",
          "CTX3",
          "DG",
          "CA1",
          "CA3",
          "CTX1",
          "CTX2",
          "CTX3",
          "DG"
         ],
         "xaxis": "x",
         "y": [
          132,
          155,
          37,
          227,
          128,
          182,
          10,
          22,
          18,
          53,
          40,
          79,
          15,
          7,
          17,
          15,
          12,
          78,
          37,
          34,
          108,
          35,
          47,
          44,
          6,
          3,
          3,
          13,
          3,
          5,
          9,
          4,
          17,
          11,
          23,
          17,
          17,
          6,
          9,
          18,
          5,
          19,
          4,
          3,
          20,
          2,
          14,
          14,
          6,
          1,
          12,
          26,
          14,
          5,
          6,
          7,
          13,
          14,
          6,
          15,
          12,
          6,
          15,
          18,
          34,
          15,
          9,
          3,
          2,
          7,
          12,
          9,
          19,
          6,
          4,
          18,
          23,
          10,
          9,
          6,
          5,
          17,
          15,
          12,
          4,
          7,
          0,
          11,
          16,
          8,
          12,
          24,
          19,
          51,
          74,
          42,
          57,
          4,
          7,
          10,
          12,
          8,
          9,
          15,
          5,
          31,
          41,
          27,
          27,
          5,
          31,
          14,
          137,
          74,
          91,
          9,
          5,
          19,
          26,
          8,
          7,
          6,
          9,
          15,
          26,
          27,
          11,
          6,
          4,
          4,
          4,
          5,
          3,
          9,
          3,
          8,
          21,
          15,
          23,
          3,
          1,
          1,
          0,
          4,
          5,
          5,
          1,
          2,
          8,
          13,
          4,
          4,
          6,
          1,
          28,
          20,
          15,
          28,
          25,
          24,
          119,
          60,
          11,
          5,
          19,
          25,
          20,
          17,
          51,
          49,
          95,
          122,
          94,
          73,
          14,
          10,
          29,
          76,
          40,
          10,
          6,
          0,
          30,
          20,
          20,
          11,
          15,
          17,
          18,
          15,
          10,
          24,
          17,
          11,
          22,
          17,
          28,
          18,
          19,
          4,
          17,
          25,
          32,
          17,
          7,
          3,
          14,
          21,
          26,
          21,
          8,
          4,
          30,
          28,
          14,
          18,
          4,
          0,
          16,
          15,
          13,
          19,
          5,
          3,
          8,
          12,
          4,
          10,
          13,
          9,
          19,
          22,
          26,
          19,
          12,
          8,
          14,
          16,
          7,
          27,
          5,
          4,
          14,
          17,
          5,
          3,
          4,
          1,
          8,
          15,
          20,
          7
         ],
         "yaxis": "y"
        }
       ],
       "layout": {
        "legend": {
         "tracegroupgap": 0
        },
        "template": {
         "data": {
          "bar": [
           {
            "error_x": {
             "color": "#2a3f5f"
            },
            "error_y": {
             "color": "#2a3f5f"
            },
            "marker": {
             "line": {
              "color": "#E5ECF6",
              "width": 0.5
             },
             "pattern": {
              "fillmode": "overlay",
              "size": 10,
              "solidity": 0.2
             }
            },
            "type": "bar"
           }
          ],
          "barpolar": [
           {
            "marker": {
             "line": {
              "color": "#E5ECF6",
              "width": 0.5
             },
             "pattern": {
              "fillmode": "overlay",
              "size": 10,
              "solidity": 0.2
             }
            },
            "type": "barpolar"
           }
          ],
          "carpet": [
           {
            "aaxis": {
             "endlinecolor": "#2a3f5f",
             "gridcolor": "white",
             "linecolor": "white",
             "minorgridcolor": "white",
             "startlinecolor": "#2a3f5f"
            },
            "baxis": {
             "endlinecolor": "#2a3f5f",
             "gridcolor": "white",
             "linecolor": "white",
             "minorgridcolor": "white",
             "startlinecolor": "#2a3f5f"
            },
            "type": "carpet"
           }
          ],
          "choropleth": [
           {
            "colorbar": {
             "outlinewidth": 0,
             "ticks": ""
            },
            "type": "choropleth"
           }
          ],
          "contour": [
           {
            "colorbar": {
             "outlinewidth": 0,
             "ticks": ""
            },
            "colorscale": [
             [
              0,
              "#0d0887"
             ],
             [
              0.1111111111111111,
              "#46039f"
             ],
             [
              0.2222222222222222,
              "#7201a8"
             ],
             [
              0.3333333333333333,
              "#9c179e"
             ],
             [
              0.4444444444444444,
              "#bd3786"
             ],
             [
              0.5555555555555556,
              "#d8576b"
             ],
             [
              0.6666666666666666,
              "#ed7953"
             ],
             [
              0.7777777777777778,
              "#fb9f3a"
             ],
             [
              0.8888888888888888,
              "#fdca26"
             ],
             [
              1,
              "#f0f921"
             ]
            ],
            "type": "contour"
           }
          ],
          "contourcarpet": [
           {
            "colorbar": {
             "outlinewidth": 0,
             "ticks": ""
            },
            "type": "contourcarpet"
           }
          ],
          "heatmap": [
           {
            "colorbar": {
             "outlinewidth": 0,
             "ticks": ""
            },
            "colorscale": [
             [
              0,
              "#0d0887"
             ],
             [
              0.1111111111111111,
              "#46039f"
             ],
             [
              0.2222222222222222,
              "#7201a8"
             ],
             [
              0.3333333333333333,
              "#9c179e"
             ],
             [
              0.4444444444444444,
              "#bd3786"
             ],
             [
              0.5555555555555556,
              "#d8576b"
             ],
             [
              0.6666666666666666,
              "#ed7953"
             ],
             [
              0.7777777777777778,
              "#fb9f3a"
             ],
             [
              0.8888888888888888,
              "#fdca26"
             ],
             [
              1,
              "#f0f921"
             ]
            ],
            "type": "heatmap"
           }
          ],
          "heatmapgl": [
           {
            "colorbar": {
             "outlinewidth": 0,
             "ticks": ""
            },
            "colorscale": [
             [
              0,
              "#0d0887"
             ],
             [
              0.1111111111111111,
              "#46039f"
             ],
             [
              0.2222222222222222,
              "#7201a8"
             ],
             [
              0.3333333333333333,
              "#9c179e"
             ],
             [
              0.4444444444444444,
              "#bd3786"
             ],
             [
              0.5555555555555556,
              "#d8576b"
             ],
             [
              0.6666666666666666,
              "#ed7953"
             ],
             [
              0.7777777777777778,
              "#fb9f3a"
             ],
             [
              0.8888888888888888,
              "#fdca26"
             ],
             [
              1,
              "#f0f921"
             ]
            ],
            "type": "heatmapgl"
           }
          ],
          "histogram": [
           {
            "marker": {
             "pattern": {
              "fillmode": "overlay",
              "size": 10,
              "solidity": 0.2
             }
            },
            "type": "histogram"
           }
          ],
          "histogram2d": [
           {
            "colorbar": {
             "outlinewidth": 0,
             "ticks": ""
            },
            "colorscale": [
             [
              0,
              "#0d0887"
             ],
             [
              0.1111111111111111,
              "#46039f"
             ],
             [
              0.2222222222222222,
              "#7201a8"
             ],
             [
              0.3333333333333333,
              "#9c179e"
             ],
             [
              0.4444444444444444,
              "#bd3786"
             ],
             [
              0.5555555555555556,
              "#d8576b"
             ],
             [
              0.6666666666666666,
              "#ed7953"
             ],
             [
              0.7777777777777778,
              "#fb9f3a"
             ],
             [
              0.8888888888888888,
              "#fdca26"
             ],
             [
              1,
              "#f0f921"
             ]
            ],
            "type": "histogram2d"
           }
          ],
          "histogram2dcontour": [
           {
            "colorbar": {
             "outlinewidth": 0,
             "ticks": ""
            },
            "colorscale": [
             [
              0,
              "#0d0887"
             ],
             [
              0.1111111111111111,
              "#46039f"
             ],
             [
              0.2222222222222222,
              "#7201a8"
             ],
             [
              0.3333333333333333,
              "#9c179e"
             ],
             [
              0.4444444444444444,
              "#bd3786"
             ],
             [
              0.5555555555555556,
              "#d8576b"
             ],
             [
              0.6666666666666666,
              "#ed7953"
             ],
             [
              0.7777777777777778,
              "#fb9f3a"
             ],
             [
              0.8888888888888888,
              "#fdca26"
             ],
             [
              1,
              "#f0f921"
             ]
            ],
            "type": "histogram2dcontour"
           }
          ],
          "mesh3d": [
           {
            "colorbar": {
             "outlinewidth": 0,
             "ticks": ""
            },
            "type": "mesh3d"
           }
          ],
          "parcoords": [
           {
            "line": {
             "colorbar": {
              "outlinewidth": 0,
              "ticks": ""
             }
            },
            "type": "parcoords"
           }
          ],
          "pie": [
           {
            "automargin": true,
            "type": "pie"
           }
          ],
          "scatter": [
           {
            "fillpattern": {
             "fillmode": "overlay",
             "size": 10,
             "solidity": 0.2
            },
            "type": "scatter"
           }
          ],
          "scatter3d": [
           {
            "line": {
             "colorbar": {
              "outlinewidth": 0,
              "ticks": ""
             }
            },
            "marker": {
             "colorbar": {
              "outlinewidth": 0,
              "ticks": ""
             }
            },
            "type": "scatter3d"
           }
          ],
          "scattercarpet": [
           {
            "marker": {
             "colorbar": {
              "outlinewidth": 0,
              "ticks": ""
             }
            },
            "type": "scattercarpet"
           }
          ],
          "scattergeo": [
           {
            "marker": {
             "colorbar": {
              "outlinewidth": 0,
              "ticks": ""
             }
            },
            "type": "scattergeo"
           }
          ],
          "scattergl": [
           {
            "marker": {
             "colorbar": {
              "outlinewidth": 0,
              "ticks": ""
             }
            },
            "type": "scattergl"
           }
          ],
          "scattermapbox": [
           {
            "marker": {
             "colorbar": {
              "outlinewidth": 0,
              "ticks": ""
             }
            },
            "type": "scattermapbox"
           }
          ],
          "scatterpolar": [
           {
            "marker": {
             "colorbar": {
              "outlinewidth": 0,
              "ticks": ""
             }
            },
            "type": "scatterpolar"
           }
          ],
          "scatterpolargl": [
           {
            "marker": {
             "colorbar": {
              "outlinewidth": 0,
              "ticks": ""
             }
            },
            "type": "scatterpolargl"
           }
          ],
          "scatterternary": [
           {
            "marker": {
             "colorbar": {
              "outlinewidth": 0,
              "ticks": ""
             }
            },
            "type": "scatterternary"
           }
          ],
          "surface": [
           {
            "colorbar": {
             "outlinewidth": 0,
             "ticks": ""
            },
            "colorscale": [
             [
              0,
              "#0d0887"
             ],
             [
              0.1111111111111111,
              "#46039f"
             ],
             [
              0.2222222222222222,
              "#7201a8"
             ],
             [
              0.3333333333333333,
              "#9c179e"
             ],
             [
              0.4444444444444444,
              "#bd3786"
             ],
             [
              0.5555555555555556,
              "#d8576b"
             ],
             [
              0.6666666666666666,
              "#ed7953"
             ],
             [
              0.7777777777777778,
              "#fb9f3a"
             ],
             [
              0.8888888888888888,
              "#fdca26"
             ],
             [
              1,
              "#f0f921"
             ]
            ],
            "type": "surface"
           }
          ],
          "table": [
           {
            "cells": {
             "fill": {
              "color": "#EBF0F8"
             },
             "line": {
              "color": "white"
             }
            },
            "header": {
             "fill": {
              "color": "#C8D4E3"
             },
             "line": {
              "color": "white"
             }
            },
            "type": "table"
           }
          ]
         },
         "layout": {
          "annotationdefaults": {
           "arrowcolor": "#2a3f5f",
           "arrowhead": 0,
           "arrowwidth": 1
          },
          "autotypenumbers": "strict",
          "coloraxis": {
           "colorbar": {
            "outlinewidth": 0,
            "ticks": ""
           }
          },
          "colorscale": {
           "diverging": [
            [
             0,
             "#8e0152"
            ],
            [
             0.1,
             "#c51b7d"
            ],
            [
             0.2,
             "#de77ae"
            ],
            [
             0.3,
             "#f1b6da"
            ],
            [
             0.4,
             "#fde0ef"
            ],
            [
             0.5,
             "#f7f7f7"
            ],
            [
             0.6,
             "#e6f5d0"
            ],
            [
             0.7,
             "#b8e186"
            ],
            [
             0.8,
             "#7fbc41"
            ],
            [
             0.9,
             "#4d9221"
            ],
            [
             1,
             "#276419"
            ]
           ],
           "sequential": [
            [
             0,
             "#0d0887"
            ],
            [
             0.1111111111111111,
             "#46039f"
            ],
            [
             0.2222222222222222,
             "#7201a8"
            ],
            [
             0.3333333333333333,
             "#9c179e"
            ],
            [
             0.4444444444444444,
             "#bd3786"
            ],
            [
             0.5555555555555556,
             "#d8576b"
            ],
            [
             0.6666666666666666,
             "#ed7953"
            ],
            [
             0.7777777777777778,
             "#fb9f3a"
            ],
            [
             0.8888888888888888,
             "#fdca26"
            ],
            [
             1,
             "#f0f921"
            ]
           ],
           "sequentialminus": [
            [
             0,
             "#0d0887"
            ],
            [
             0.1111111111111111,
             "#46039f"
            ],
            [
             0.2222222222222222,
             "#7201a8"
            ],
            [
             0.3333333333333333,
             "#9c179e"
            ],
            [
             0.4444444444444444,
             "#bd3786"
            ],
            [
             0.5555555555555556,
             "#d8576b"
            ],
            [
             0.6666666666666666,
             "#ed7953"
            ],
            [
             0.7777777777777778,
             "#fb9f3a"
            ],
            [
             0.8888888888888888,
             "#fdca26"
            ],
            [
             1,
             "#f0f921"
            ]
           ]
          },
          "colorway": [
           "#636efa",
           "#EF553B",
           "#00cc96",
           "#ab63fa",
           "#FFA15A",
           "#19d3f3",
           "#FF6692",
           "#B6E880",
           "#FF97FF",
           "#FECB52"
          ],
          "font": {
           "color": "#2a3f5f"
          },
          "geo": {
           "bgcolor": "white",
           "lakecolor": "white",
           "landcolor": "#E5ECF6",
           "showlakes": true,
           "showland": true,
           "subunitcolor": "white"
          },
          "hoverlabel": {
           "align": "left"
          },
          "hovermode": "closest",
          "mapbox": {
           "style": "light"
          },
          "paper_bgcolor": "white",
          "plot_bgcolor": "#E5ECF6",
          "polar": {
           "angularaxis": {
            "gridcolor": "white",
            "linecolor": "white",
            "ticks": ""
           },
           "bgcolor": "#E5ECF6",
           "radialaxis": {
            "gridcolor": "white",
            "linecolor": "white",
            "ticks": ""
           }
          },
          "scene": {
           "xaxis": {
            "backgroundcolor": "#E5ECF6",
            "gridcolor": "white",
            "gridwidth": 2,
            "linecolor": "white",
            "showbackground": true,
            "ticks": "",
            "zerolinecolor": "white"
           },
           "yaxis": {
            "backgroundcolor": "#E5ECF6",
            "gridcolor": "white",
            "gridwidth": 2,
            "linecolor": "white",
            "showbackground": true,
            "ticks": "",
            "zerolinecolor": "white"
           },
           "zaxis": {
            "backgroundcolor": "#E5ECF6",
            "gridcolor": "white",
            "gridwidth": 2,
            "linecolor": "white",
            "showbackground": true,
            "ticks": "",
            "zerolinecolor": "white"
           }
          },
          "shapedefaults": {
           "line": {
            "color": "#2a3f5f"
           }
          },
          "ternary": {
           "aaxis": {
            "gridcolor": "white",
            "linecolor": "white",
            "ticks": ""
           },
           "baxis": {
            "gridcolor": "white",
            "linecolor": "white",
            "ticks": ""
           },
           "bgcolor": "#E5ECF6",
           "caxis": {
            "gridcolor": "white",
            "linecolor": "white",
            "ticks": ""
           }
          },
          "title": {
           "x": 0.05
          },
          "xaxis": {
           "automargin": true,
           "gridcolor": "white",
           "linecolor": "white",
           "ticks": "",
           "title": {
            "standoff": 15
           },
           "zerolinecolor": "white",
           "zerolinewidth": 2
          },
          "yaxis": {
           "automargin": true,
           "gridcolor": "white",
           "linecolor": "white",
           "ticks": "",
           "title": {
            "standoff": 15
           },
           "zerolinecolor": "white",
           "zerolinewidth": 2
          }
         }
        },
        "title": {
         "text": "Nr of glia+ nuclei by Tissue Location"
        },
        "xaxis": {
         "anchor": "y",
         "domain": [
          0,
          1
         ],
         "title": {
          "text": "tissue_location"
         }
        },
        "yaxis": {
         "anchor": "x",
         "domain": [
          0,
          1
         ],
         "title": {
          "text": "nr_glia_+_nuclei"
         }
        }
       }
      }
     },
     "metadata": {},
     "output_type": "display_data"
    }
   ],
   "source": [
    "# Create the plot\n",
    "fig = px.scatter(df, x='tissue_location', y='nr_glia_+_nuclei',\n",
    "                 hover_data=['staining_id','index'], title='Nr of glia+ nuclei by Tissue Location')\n",
    "\n",
    "# Show the plot\n",
    "fig.show()"
   ]
  },
  {
   "cell_type": "code",
   "execution_count": 147,
   "metadata": {},
   "outputs": [
    {
     "data": {
      "application/vnd.plotly.v1+json": {
       "config": {
        "plotlyServerURL": "https://plot.ly"
       },
       "data": [
        {
         "customdata": [
          [
           16,
           0
          ],
          [
           16,
           1
          ],
          [
           16,
           2
          ],
          [
           16,
           3
          ],
          [
           16,
           4
          ],
          [
           16,
           5
          ],
          [
           17,
           6
          ],
          [
           17,
           7
          ],
          [
           17,
           8
          ],
          [
           17,
           9
          ],
          [
           17,
           10
          ],
          [
           17,
           11
          ],
          [
           18,
           12
          ],
          [
           18,
           13
          ],
          [
           18,
           14
          ],
          [
           18,
           15
          ],
          [
           18,
           16
          ],
          [
           18,
           17
          ],
          [
           19,
           18
          ],
          [
           19,
           19
          ],
          [
           19,
           20
          ],
          [
           19,
           21
          ],
          [
           19,
           22
          ],
          [
           19,
           23
          ],
          [
           20,
           24
          ],
          [
           20,
           25
          ],
          [
           20,
           26
          ],
          [
           20,
           27
          ],
          [
           20,
           28
          ],
          [
           20,
           29
          ],
          [
           21,
           30
          ],
          [
           21,
           31
          ],
          [
           21,
           32
          ],
          [
           21,
           33
          ],
          [
           21,
           34
          ],
          [
           21,
           35
          ],
          [
           22,
           36
          ],
          [
           22,
           37
          ],
          [
           22,
           38
          ],
          [
           22,
           39
          ],
          [
           22,
           40
          ],
          [
           22,
           41
          ],
          [
           23,
           42
          ],
          [
           23,
           43
          ],
          [
           23,
           44
          ],
          [
           23,
           45
          ],
          [
           23,
           46
          ],
          [
           23,
           47
          ],
          [
           24,
           48
          ],
          [
           24,
           49
          ],
          [
           24,
           50
          ],
          [
           24,
           51
          ],
          [
           24,
           52
          ],
          [
           24,
           53
          ],
          [
           25,
           54
          ],
          [
           25,
           55
          ],
          [
           25,
           56
          ],
          [
           25,
           57
          ],
          [
           25,
           58
          ],
          [
           25,
           59
          ],
          [
           26,
           60
          ],
          [
           26,
           61
          ],
          [
           26,
           62
          ],
          [
           26,
           63
          ],
          [
           26,
           64
          ],
          [
           26,
           65
          ],
          [
           27,
           66
          ],
          [
           28,
           67
          ],
          [
           28,
           68
          ],
          [
           28,
           69
          ],
          [
           28,
           70
          ],
          [
           28,
           71
          ],
          [
           28,
           72
          ],
          [
           29,
           73
          ],
          [
           29,
           74
          ],
          [
           29,
           75
          ],
          [
           29,
           76
          ],
          [
           29,
           77
          ],
          [
           29,
           78
          ],
          [
           30,
           79
          ],
          [
           30,
           80
          ],
          [
           30,
           81
          ],
          [
           30,
           82
          ],
          [
           30,
           83
          ],
          [
           30,
           84
          ],
          [
           31,
           85
          ],
          [
           31,
           86
          ],
          [
           31,
           87
          ],
          [
           31,
           88
          ],
          [
           31,
           89
          ],
          [
           31,
           90
          ],
          [
           32,
           91
          ],
          [
           32,
           92
          ],
          [
           32,
           93
          ],
          [
           32,
           94
          ],
          [
           32,
           95
          ],
          [
           32,
           96
          ],
          [
           33,
           97
          ],
          [
           33,
           98
          ],
          [
           33,
           99
          ],
          [
           33,
           100
          ],
          [
           33,
           101
          ],
          [
           33,
           102
          ],
          [
           34,
           103
          ],
          [
           34,
           104
          ],
          [
           34,
           105
          ],
          [
           34,
           106
          ],
          [
           34,
           107
          ],
          [
           34,
           108
          ],
          [
           35,
           109
          ],
          [
           35,
           110
          ],
          [
           35,
           111
          ],
          [
           35,
           112
          ],
          [
           35,
           113
          ],
          [
           35,
           114
          ],
          [
           36,
           115
          ],
          [
           36,
           116
          ],
          [
           36,
           117
          ],
          [
           36,
           118
          ],
          [
           36,
           119
          ],
          [
           36,
           120
          ],
          [
           37,
           121
          ],
          [
           37,
           122
          ],
          [
           37,
           123
          ],
          [
           37,
           124
          ],
          [
           37,
           125
          ],
          [
           37,
           126
          ],
          [
           38,
           127
          ],
          [
           39,
           128
          ],
          [
           39,
           129
          ],
          [
           39,
           130
          ],
          [
           39,
           131
          ],
          [
           39,
           132
          ],
          [
           39,
           133
          ],
          [
           40,
           134
          ],
          [
           40,
           135
          ],
          [
           40,
           136
          ],
          [
           40,
           137
          ],
          [
           40,
           138
          ],
          [
           40,
           139
          ],
          [
           41,
           140
          ],
          [
           41,
           141
          ],
          [
           41,
           142
          ],
          [
           41,
           143
          ],
          [
           41,
           144
          ],
          [
           41,
           145
          ],
          [
           42,
           146
          ],
          [
           42,
           147
          ],
          [
           42,
           148
          ],
          [
           42,
           149
          ],
          [
           42,
           150
          ],
          [
           42,
           151
          ],
          [
           43,
           152
          ],
          [
           43,
           153
          ],
          [
           43,
           154
          ],
          [
           43,
           155
          ],
          [
           43,
           156
          ],
          [
           43,
           157
          ],
          [
           44,
           158
          ],
          [
           44,
           159
          ],
          [
           44,
           160
          ],
          [
           44,
           161
          ],
          [
           45,
           162
          ],
          [
           45,
           163
          ],
          [
           45,
           164
          ],
          [
           45,
           165
          ],
          [
           45,
           166
          ],
          [
           45,
           167
          ],
          [
           46,
           168
          ],
          [
           46,
           169
          ],
          [
           46,
           170
          ],
          [
           46,
           171
          ],
          [
           46,
           172
          ],
          [
           46,
           173
          ],
          [
           47,
           174
          ],
          [
           47,
           175
          ],
          [
           47,
           176
          ],
          [
           47,
           177
          ],
          [
           47,
           178
          ],
          [
           47,
           179
          ],
          [
           48,
           180
          ],
          [
           48,
           181
          ],
          [
           48,
           182
          ],
          [
           48,
           183
          ],
          [
           48,
           184
          ],
          [
           48,
           185
          ],
          [
           49,
           186
          ],
          [
           49,
           187
          ],
          [
           49,
           188
          ],
          [
           49,
           189
          ],
          [
           49,
           190
          ],
          [
           49,
           191
          ],
          [
           50,
           192
          ],
          [
           50,
           193
          ],
          [
           50,
           194
          ],
          [
           50,
           195
          ],
          [
           50,
           196
          ],
          [
           50,
           197
          ],
          [
           51,
           198
          ],
          [
           51,
           199
          ],
          [
           51,
           200
          ],
          [
           51,
           201
          ],
          [
           51,
           202
          ],
          [
           51,
           203
          ],
          [
           52,
           204
          ],
          [
           52,
           205
          ],
          [
           52,
           206
          ],
          [
           52,
           207
          ],
          [
           52,
           208
          ],
          [
           52,
           209
          ],
          [
           53,
           210
          ],
          [
           53,
           211
          ],
          [
           53,
           212
          ],
          [
           53,
           213
          ],
          [
           53,
           214
          ],
          [
           53,
           215
          ],
          [
           54,
           216
          ],
          [
           54,
           217
          ],
          [
           54,
           218
          ],
          [
           54,
           219
          ],
          [
           54,
           220
          ],
          [
           54,
           221
          ],
          [
           55,
           222
          ],
          [
           55,
           223
          ],
          [
           55,
           224
          ],
          [
           55,
           225
          ],
          [
           55,
           226
          ],
          [
           55,
           227
          ],
          [
           56,
           228
          ],
          [
           56,
           229
          ],
          [
           56,
           230
          ],
          [
           56,
           231
          ],
          [
           56,
           232
          ],
          [
           56,
           233
          ],
          [
           57,
           234
          ],
          [
           57,
           235
          ],
          [
           57,
           236
          ],
          [
           57,
           237
          ],
          [
           57,
           238
          ],
          [
           57,
           239
          ],
          [
           58,
           240
          ],
          [
           58,
           241
          ],
          [
           58,
           242
          ],
          [
           58,
           243
          ],
          [
           58,
           244
          ],
          [
           58,
           245
          ],
          [
           59,
           246
          ],
          [
           59,
           247
          ],
          [
           59,
           248
          ],
          [
           59,
           249
          ],
          [
           59,
           250
          ],
          [
           59,
           251
          ]
         ],
         "hovertemplate": "tissue_location=%{x}<br>nr_total_nuclei=%{y}<br>staining_id=%{customdata[0]}<br>index=%{customdata[1]}<extra></extra>",
         "legendgroup": "",
         "marker": {
          "color": "#636efa",
          "symbol": "circle"
         },
         "mode": "markers",
         "name": "",
         "orientation": "v",
         "showlegend": false,
         "type": "scatter",
         "x": [
          "CA1",
          "CA3",
          "CTX1",
          "CTX2",
          "CTX3",
          "DG",
          "CA1",
          "CA3",
          "CTX1",
          "CTX2",
          "CTX3",
          "DG",
          "CA1",
          "CA3",
          "CTX1",
          "CTX2",
          "CTX3",
          "DG",
          "CA1",
          "CA3",
          "CTX1",
          "CTX2",
          "CTX3",
          "DG",
          "CA1",
          "CA3",
          "CTX1",
          "CTX2",
          "CTX3",
          "DG",
          "CA1",
          "CA3",
          "CTX1",
          "CTX2",
          "CTX3",
          "DG",
          "CA1",
          "CA3",
          "CTX1",
          "CTX2",
          "CTX3",
          "DG",
          "CA1",
          "CA3",
          "CTX1",
          "CTX2",
          "CTX3",
          "DG",
          "CA1",
          "CA3",
          "CTX1",
          "CTX2",
          "CTX3",
          "DG",
          "CA1",
          "CA3",
          "CTX1",
          "CTX2",
          "CTX3",
          "DG",
          "CA1",
          "CA3",
          "CTX1",
          "CTX2",
          "CTX3",
          "DG",
          "DG",
          "CA1",
          "CA3",
          "CTX1",
          "CTX2",
          "CTX3",
          "DG",
          "CA1",
          "CA3",
          "CTX1",
          "CTX2",
          "CTX3",
          "DG",
          "CA1",
          "CA3",
          "CTX1",
          "CTX2",
          "CTX3",
          "DG",
          "CA1",
          "CA3",
          "CTX1",
          "CTX2",
          "CTX3",
          "DG",
          "CA1",
          "CA3",
          "CTX1",
          "CTX2",
          "CTX3",
          "DG",
          "CA1",
          "CA3",
          "CTX1",
          "CTX2",
          "CTX3",
          "DG",
          "CA1",
          "CA3",
          "CTX1",
          "CTX2",
          "CTX3",
          "DG",
          "CA1",
          "CA3",
          "CTX1",
          "CTX2",
          "CTX3",
          "DG",
          "CA1",
          "CA3",
          "CTX1",
          "CTX2",
          "CTX3",
          "DG",
          "CA1",
          "CA3",
          "CTX1",
          "CTX2",
          "CTX3",
          "DG",
          "DG",
          "CA1",
          "CA3",
          "CTX1",
          "CTX2",
          "CTX3",
          "DG",
          "CA1",
          "CA3",
          "CTX1",
          "CTX2",
          "CTX3",
          "DG",
          "CA1",
          "CA3",
          "CTX1",
          "CTX2",
          "CTX3",
          "DG",
          "CA1",
          "CA3",
          "CTX1",
          "CTX2",
          "CTX3",
          "DG",
          "CA1",
          "CA3",
          "CTX1",
          "CTX2",
          "CTX3",
          "DG",
          "CA1",
          "CA3",
          "CTX1",
          "DG",
          "CA1",
          "CA3",
          "CTX1",
          "CTX2",
          "CTX3",
          "DG",
          "CA1",
          "CA3",
          "CTX1",
          "CTX2",
          "CTX3",
          "DG",
          "CA1",
          "CA3",
          "CTX1",
          "CTX2",
          "CTX3",
          "DG",
          "CA1",
          "CA3",
          "CTX1",
          "CTX2",
          "CTX3",
          "DG",
          "CA1",
          "CA3",
          "CTX1",
          "CTX2",
          "CTX3",
          "DG",
          "CA1",
          "CA3",
          "CTX1",
          "CTX2",
          "CTX3",
          "DG",
          "CA1",
          "CA3",
          "CTX1",
          "CTX2",
          "CTX3",
          "DG",
          "CA1",
          "CA3",
          "CTX1",
          "CTX2",
          "CTX3",
          "DG",
          "CA1",
          "CA3",
          "CTX1",
          "CTX2",
          "CTX3",
          "DG",
          "CA1",
          "CA3",
          "CTX1",
          "CTX2",
          "CTX3",
          "DG",
          "CA1",
          "CA3",
          "CTX1",
          "CTX2",
          "CTX3",
          "DG",
          "CA1",
          "CA3",
          "CTX1",
          "CTX2",
          "CTX3",
          "DG",
          "CA1",
          "CA3",
          "CTX1",
          "CTX2",
          "CTX3",
          "DG",
          "CA1",
          "CA3",
          "CTX1",
          "CTX2",
          "CTX3",
          "DG",
          "CA1",
          "CA3",
          "CTX1",
          "CTX2",
          "CTX3",
          "DG"
         ],
         "xaxis": "x",
         "y": [
          163,
          163,
          222,
          241,
          209,
          184,
          145,
          167,
          219,
          264,
          165,
          221,
          106,
          61,
          192,
          234,
          124,
          159,
          37,
          34,
          109,
          42,
          58,
          44,
          127,
          94,
          151,
          139,
          73,
          254,
          113,
          93,
          184,
          213,
          184,
          247,
          137,
          117,
          235,
          244,
          144,
          309,
          116,
          84,
          160,
          144,
          136,
          278,
          138,
          70,
          124,
          234,
          169,
          164,
          140,
          120,
          98,
          160,
          182,
          297,
          84,
          45,
          89,
          84,
          101,
          135,
          79,
          51,
          62,
          96,
          187,
          196,
          232,
          122,
          106,
          178,
          183,
          156,
          261,
          103,
          76,
          200,
          222,
          184,
          241,
          129,
          155,
          169,
          221,
          126,
          240,
          152,
          104,
          267,
          230,
          180,
          227,
          114,
          167,
          205,
          194,
          148,
          287,
          137,
          220,
          268,
          236,
          194,
          186,
          123,
          148,
          204,
          245,
          162,
          250,
          133,
          93,
          206,
          202,
          183,
          243,
          145,
          118,
          216,
          244,
          144,
          188,
          41,
          88,
          81,
          138,
          169,
          129,
          191,
          127,
          79,
          160,
          155,
          170,
          252,
          125,
          85,
          114,
          162,
          113,
          271,
          129,
          85,
          179,
          146,
          134,
          211,
          109,
          168,
          216,
          159,
          189,
          235,
          86,
          48,
          233,
          95,
          124,
          125,
          198,
          188,
          179,
          263,
          122,
          106,
          225,
          254,
          236,
          135,
          150,
          115,
          291,
          244,
          192,
          145,
          108,
          67,
          199,
          230,
          192,
          271,
          128,
          107,
          136,
          163,
          109,
          152,
          102,
          113,
          223,
          192,
          175,
          217,
          118,
          97,
          128,
          193,
          164,
          222,
          114,
          90,
          83,
          162,
          183,
          221,
          132,
          128,
          232,
          185,
          118,
          180,
          121,
          111,
          184,
          163,
          148,
          261,
          99,
          73,
          114,
          140,
          67,
          223,
          128,
          96,
          157,
          232,
          170,
          221,
          136,
          135,
          228,
          228,
          159,
          224,
          112,
          97,
          118,
          190,
          159,
          239,
          134,
          73,
          191,
          118,
          130,
          242
         ],
         "yaxis": "y"
        }
       ],
       "layout": {
        "legend": {
         "tracegroupgap": 0
        },
        "template": {
         "data": {
          "bar": [
           {
            "error_x": {
             "color": "#2a3f5f"
            },
            "error_y": {
             "color": "#2a3f5f"
            },
            "marker": {
             "line": {
              "color": "#E5ECF6",
              "width": 0.5
             },
             "pattern": {
              "fillmode": "overlay",
              "size": 10,
              "solidity": 0.2
             }
            },
            "type": "bar"
           }
          ],
          "barpolar": [
           {
            "marker": {
             "line": {
              "color": "#E5ECF6",
              "width": 0.5
             },
             "pattern": {
              "fillmode": "overlay",
              "size": 10,
              "solidity": 0.2
             }
            },
            "type": "barpolar"
           }
          ],
          "carpet": [
           {
            "aaxis": {
             "endlinecolor": "#2a3f5f",
             "gridcolor": "white",
             "linecolor": "white",
             "minorgridcolor": "white",
             "startlinecolor": "#2a3f5f"
            },
            "baxis": {
             "endlinecolor": "#2a3f5f",
             "gridcolor": "white",
             "linecolor": "white",
             "minorgridcolor": "white",
             "startlinecolor": "#2a3f5f"
            },
            "type": "carpet"
           }
          ],
          "choropleth": [
           {
            "colorbar": {
             "outlinewidth": 0,
             "ticks": ""
            },
            "type": "choropleth"
           }
          ],
          "contour": [
           {
            "colorbar": {
             "outlinewidth": 0,
             "ticks": ""
            },
            "colorscale": [
             [
              0,
              "#0d0887"
             ],
             [
              0.1111111111111111,
              "#46039f"
             ],
             [
              0.2222222222222222,
              "#7201a8"
             ],
             [
              0.3333333333333333,
              "#9c179e"
             ],
             [
              0.4444444444444444,
              "#bd3786"
             ],
             [
              0.5555555555555556,
              "#d8576b"
             ],
             [
              0.6666666666666666,
              "#ed7953"
             ],
             [
              0.7777777777777778,
              "#fb9f3a"
             ],
             [
              0.8888888888888888,
              "#fdca26"
             ],
             [
              1,
              "#f0f921"
             ]
            ],
            "type": "contour"
           }
          ],
          "contourcarpet": [
           {
            "colorbar": {
             "outlinewidth": 0,
             "ticks": ""
            },
            "type": "contourcarpet"
           }
          ],
          "heatmap": [
           {
            "colorbar": {
             "outlinewidth": 0,
             "ticks": ""
            },
            "colorscale": [
             [
              0,
              "#0d0887"
             ],
             [
              0.1111111111111111,
              "#46039f"
             ],
             [
              0.2222222222222222,
              "#7201a8"
             ],
             [
              0.3333333333333333,
              "#9c179e"
             ],
             [
              0.4444444444444444,
              "#bd3786"
             ],
             [
              0.5555555555555556,
              "#d8576b"
             ],
             [
              0.6666666666666666,
              "#ed7953"
             ],
             [
              0.7777777777777778,
              "#fb9f3a"
             ],
             [
              0.8888888888888888,
              "#fdca26"
             ],
             [
              1,
              "#f0f921"
             ]
            ],
            "type": "heatmap"
           }
          ],
          "heatmapgl": [
           {
            "colorbar": {
             "outlinewidth": 0,
             "ticks": ""
            },
            "colorscale": [
             [
              0,
              "#0d0887"
             ],
             [
              0.1111111111111111,
              "#46039f"
             ],
             [
              0.2222222222222222,
              "#7201a8"
             ],
             [
              0.3333333333333333,
              "#9c179e"
             ],
             [
              0.4444444444444444,
              "#bd3786"
             ],
             [
              0.5555555555555556,
              "#d8576b"
             ],
             [
              0.6666666666666666,
              "#ed7953"
             ],
             [
              0.7777777777777778,
              "#fb9f3a"
             ],
             [
              0.8888888888888888,
              "#fdca26"
             ],
             [
              1,
              "#f0f921"
             ]
            ],
            "type": "heatmapgl"
           }
          ],
          "histogram": [
           {
            "marker": {
             "pattern": {
              "fillmode": "overlay",
              "size": 10,
              "solidity": 0.2
             }
            },
            "type": "histogram"
           }
          ],
          "histogram2d": [
           {
            "colorbar": {
             "outlinewidth": 0,
             "ticks": ""
            },
            "colorscale": [
             [
              0,
              "#0d0887"
             ],
             [
              0.1111111111111111,
              "#46039f"
             ],
             [
              0.2222222222222222,
              "#7201a8"
             ],
             [
              0.3333333333333333,
              "#9c179e"
             ],
             [
              0.4444444444444444,
              "#bd3786"
             ],
             [
              0.5555555555555556,
              "#d8576b"
             ],
             [
              0.6666666666666666,
              "#ed7953"
             ],
             [
              0.7777777777777778,
              "#fb9f3a"
             ],
             [
              0.8888888888888888,
              "#fdca26"
             ],
             [
              1,
              "#f0f921"
             ]
            ],
            "type": "histogram2d"
           }
          ],
          "histogram2dcontour": [
           {
            "colorbar": {
             "outlinewidth": 0,
             "ticks": ""
            },
            "colorscale": [
             [
              0,
              "#0d0887"
             ],
             [
              0.1111111111111111,
              "#46039f"
             ],
             [
              0.2222222222222222,
              "#7201a8"
             ],
             [
              0.3333333333333333,
              "#9c179e"
             ],
             [
              0.4444444444444444,
              "#bd3786"
             ],
             [
              0.5555555555555556,
              "#d8576b"
             ],
             [
              0.6666666666666666,
              "#ed7953"
             ],
             [
              0.7777777777777778,
              "#fb9f3a"
             ],
             [
              0.8888888888888888,
              "#fdca26"
             ],
             [
              1,
              "#f0f921"
             ]
            ],
            "type": "histogram2dcontour"
           }
          ],
          "mesh3d": [
           {
            "colorbar": {
             "outlinewidth": 0,
             "ticks": ""
            },
            "type": "mesh3d"
           }
          ],
          "parcoords": [
           {
            "line": {
             "colorbar": {
              "outlinewidth": 0,
              "ticks": ""
             }
            },
            "type": "parcoords"
           }
          ],
          "pie": [
           {
            "automargin": true,
            "type": "pie"
           }
          ],
          "scatter": [
           {
            "fillpattern": {
             "fillmode": "overlay",
             "size": 10,
             "solidity": 0.2
            },
            "type": "scatter"
           }
          ],
          "scatter3d": [
           {
            "line": {
             "colorbar": {
              "outlinewidth": 0,
              "ticks": ""
             }
            },
            "marker": {
             "colorbar": {
              "outlinewidth": 0,
              "ticks": ""
             }
            },
            "type": "scatter3d"
           }
          ],
          "scattercarpet": [
           {
            "marker": {
             "colorbar": {
              "outlinewidth": 0,
              "ticks": ""
             }
            },
            "type": "scattercarpet"
           }
          ],
          "scattergeo": [
           {
            "marker": {
             "colorbar": {
              "outlinewidth": 0,
              "ticks": ""
             }
            },
            "type": "scattergeo"
           }
          ],
          "scattergl": [
           {
            "marker": {
             "colorbar": {
              "outlinewidth": 0,
              "ticks": ""
             }
            },
            "type": "scattergl"
           }
          ],
          "scattermapbox": [
           {
            "marker": {
             "colorbar": {
              "outlinewidth": 0,
              "ticks": ""
             }
            },
            "type": "scattermapbox"
           }
          ],
          "scatterpolar": [
           {
            "marker": {
             "colorbar": {
              "outlinewidth": 0,
              "ticks": ""
             }
            },
            "type": "scatterpolar"
           }
          ],
          "scatterpolargl": [
           {
            "marker": {
             "colorbar": {
              "outlinewidth": 0,
              "ticks": ""
             }
            },
            "type": "scatterpolargl"
           }
          ],
          "scatterternary": [
           {
            "marker": {
             "colorbar": {
              "outlinewidth": 0,
              "ticks": ""
             }
            },
            "type": "scatterternary"
           }
          ],
          "surface": [
           {
            "colorbar": {
             "outlinewidth": 0,
             "ticks": ""
            },
            "colorscale": [
             [
              0,
              "#0d0887"
             ],
             [
              0.1111111111111111,
              "#46039f"
             ],
             [
              0.2222222222222222,
              "#7201a8"
             ],
             [
              0.3333333333333333,
              "#9c179e"
             ],
             [
              0.4444444444444444,
              "#bd3786"
             ],
             [
              0.5555555555555556,
              "#d8576b"
             ],
             [
              0.6666666666666666,
              "#ed7953"
             ],
             [
              0.7777777777777778,
              "#fb9f3a"
             ],
             [
              0.8888888888888888,
              "#fdca26"
             ],
             [
              1,
              "#f0f921"
             ]
            ],
            "type": "surface"
           }
          ],
          "table": [
           {
            "cells": {
             "fill": {
              "color": "#EBF0F8"
             },
             "line": {
              "color": "white"
             }
            },
            "header": {
             "fill": {
              "color": "#C8D4E3"
             },
             "line": {
              "color": "white"
             }
            },
            "type": "table"
           }
          ]
         },
         "layout": {
          "annotationdefaults": {
           "arrowcolor": "#2a3f5f",
           "arrowhead": 0,
           "arrowwidth": 1
          },
          "autotypenumbers": "strict",
          "coloraxis": {
           "colorbar": {
            "outlinewidth": 0,
            "ticks": ""
           }
          },
          "colorscale": {
           "diverging": [
            [
             0,
             "#8e0152"
            ],
            [
             0.1,
             "#c51b7d"
            ],
            [
             0.2,
             "#de77ae"
            ],
            [
             0.3,
             "#f1b6da"
            ],
            [
             0.4,
             "#fde0ef"
            ],
            [
             0.5,
             "#f7f7f7"
            ],
            [
             0.6,
             "#e6f5d0"
            ],
            [
             0.7,
             "#b8e186"
            ],
            [
             0.8,
             "#7fbc41"
            ],
            [
             0.9,
             "#4d9221"
            ],
            [
             1,
             "#276419"
            ]
           ],
           "sequential": [
            [
             0,
             "#0d0887"
            ],
            [
             0.1111111111111111,
             "#46039f"
            ],
            [
             0.2222222222222222,
             "#7201a8"
            ],
            [
             0.3333333333333333,
             "#9c179e"
            ],
            [
             0.4444444444444444,
             "#bd3786"
            ],
            [
             0.5555555555555556,
             "#d8576b"
            ],
            [
             0.6666666666666666,
             "#ed7953"
            ],
            [
             0.7777777777777778,
             "#fb9f3a"
            ],
            [
             0.8888888888888888,
             "#fdca26"
            ],
            [
             1,
             "#f0f921"
            ]
           ],
           "sequentialminus": [
            [
             0,
             "#0d0887"
            ],
            [
             0.1111111111111111,
             "#46039f"
            ],
            [
             0.2222222222222222,
             "#7201a8"
            ],
            [
             0.3333333333333333,
             "#9c179e"
            ],
            [
             0.4444444444444444,
             "#bd3786"
            ],
            [
             0.5555555555555556,
             "#d8576b"
            ],
            [
             0.6666666666666666,
             "#ed7953"
            ],
            [
             0.7777777777777778,
             "#fb9f3a"
            ],
            [
             0.8888888888888888,
             "#fdca26"
            ],
            [
             1,
             "#f0f921"
            ]
           ]
          },
          "colorway": [
           "#636efa",
           "#EF553B",
           "#00cc96",
           "#ab63fa",
           "#FFA15A",
           "#19d3f3",
           "#FF6692",
           "#B6E880",
           "#FF97FF",
           "#FECB52"
          ],
          "font": {
           "color": "#2a3f5f"
          },
          "geo": {
           "bgcolor": "white",
           "lakecolor": "white",
           "landcolor": "#E5ECF6",
           "showlakes": true,
           "showland": true,
           "subunitcolor": "white"
          },
          "hoverlabel": {
           "align": "left"
          },
          "hovermode": "closest",
          "mapbox": {
           "style": "light"
          },
          "paper_bgcolor": "white",
          "plot_bgcolor": "#E5ECF6",
          "polar": {
           "angularaxis": {
            "gridcolor": "white",
            "linecolor": "white",
            "ticks": ""
           },
           "bgcolor": "#E5ECF6",
           "radialaxis": {
            "gridcolor": "white",
            "linecolor": "white",
            "ticks": ""
           }
          },
          "scene": {
           "xaxis": {
            "backgroundcolor": "#E5ECF6",
            "gridcolor": "white",
            "gridwidth": 2,
            "linecolor": "white",
            "showbackground": true,
            "ticks": "",
            "zerolinecolor": "white"
           },
           "yaxis": {
            "backgroundcolor": "#E5ECF6",
            "gridcolor": "white",
            "gridwidth": 2,
            "linecolor": "white",
            "showbackground": true,
            "ticks": "",
            "zerolinecolor": "white"
           },
           "zaxis": {
            "backgroundcolor": "#E5ECF6",
            "gridcolor": "white",
            "gridwidth": 2,
            "linecolor": "white",
            "showbackground": true,
            "ticks": "",
            "zerolinecolor": "white"
           }
          },
          "shapedefaults": {
           "line": {
            "color": "#2a3f5f"
           }
          },
          "ternary": {
           "aaxis": {
            "gridcolor": "white",
            "linecolor": "white",
            "ticks": ""
           },
           "baxis": {
            "gridcolor": "white",
            "linecolor": "white",
            "ticks": ""
           },
           "bgcolor": "#E5ECF6",
           "caxis": {
            "gridcolor": "white",
            "linecolor": "white",
            "ticks": ""
           }
          },
          "title": {
           "x": 0.05
          },
          "xaxis": {
           "automargin": true,
           "gridcolor": "white",
           "linecolor": "white",
           "ticks": "",
           "title": {
            "standoff": 15
           },
           "zerolinecolor": "white",
           "zerolinewidth": 2
          },
          "yaxis": {
           "automargin": true,
           "gridcolor": "white",
           "linecolor": "white",
           "ticks": "",
           "title": {
            "standoff": 15
           },
           "zerolinecolor": "white",
           "zerolinewidth": 2
          }
         }
        },
        "title": {
         "text": "Nr of total nuclei by Tissue Location"
        },
        "xaxis": {
         "anchor": "y",
         "domain": [
          0,
          1
         ],
         "title": {
          "text": "tissue_location"
         }
        },
        "yaxis": {
         "anchor": "x",
         "domain": [
          0,
          1
         ],
         "title": {
          "text": "nr_total_nuclei"
         }
        }
       }
      }
     },
     "metadata": {},
     "output_type": "display_data"
    }
   ],
   "source": [
    "# Create the plot\n",
    "fig = px.scatter(df, x='tissue_location', y='nr_total_nuclei',\n",
    "                 hover_data=['staining_id','index'], title='Nr of total nuclei by Tissue Location')\n",
    "\n",
    "# Show the plot\n",
    "fig.show()"
   ]
  },
  {
   "cell_type": "code",
   "execution_count": 148,
   "metadata": {},
   "outputs": [
    {
     "data": {
      "application/vnd.plotly.v1+json": {
       "config": {
        "plotlyServerURL": "https://plot.ly"
       },
       "data": [
        {
         "customdata": [
          [
           "CA1",
           0
          ],
          [
           "CA3",
           1
          ],
          [
           "CTX1",
           2
          ],
          [
           "CTX2",
           3
          ],
          [
           "CTX3",
           4
          ],
          [
           "DG",
           5
          ],
          [
           "CA1",
           6
          ],
          [
           "CA3",
           7
          ],
          [
           "CTX1",
           8
          ],
          [
           "CTX2",
           9
          ],
          [
           "CTX3",
           10
          ],
          [
           "DG",
           11
          ],
          [
           "CA1",
           12
          ],
          [
           "CA3",
           13
          ],
          [
           "CTX1",
           14
          ],
          [
           "CTX2",
           15
          ],
          [
           "CTX3",
           16
          ],
          [
           "DG",
           17
          ],
          [
           "CA1",
           18
          ],
          [
           "CA3",
           19
          ],
          [
           "CTX1",
           20
          ],
          [
           "CTX2",
           21
          ],
          [
           "CTX3",
           22
          ],
          [
           "DG",
           23
          ],
          [
           "CA1",
           24
          ],
          [
           "CA3",
           25
          ],
          [
           "CTX1",
           26
          ],
          [
           "CTX2",
           27
          ],
          [
           "CTX3",
           28
          ],
          [
           "DG",
           29
          ],
          [
           "CA1",
           30
          ],
          [
           "CA3",
           31
          ],
          [
           "CTX1",
           32
          ],
          [
           "CTX2",
           33
          ],
          [
           "CTX3",
           34
          ],
          [
           "DG",
           35
          ],
          [
           "CA1",
           36
          ],
          [
           "CA3",
           37
          ],
          [
           "CTX1",
           38
          ],
          [
           "CTX2",
           39
          ],
          [
           "CTX3",
           40
          ],
          [
           "DG",
           41
          ],
          [
           "CA1",
           42
          ],
          [
           "CA3",
           43
          ],
          [
           "CTX1",
           44
          ],
          [
           "CTX2",
           45
          ],
          [
           "CTX3",
           46
          ],
          [
           "DG",
           47
          ],
          [
           "CA1",
           48
          ],
          [
           "CA3",
           49
          ],
          [
           "CTX1",
           50
          ],
          [
           "CTX2",
           51
          ],
          [
           "CTX3",
           52
          ],
          [
           "DG",
           53
          ],
          [
           "CA1",
           54
          ],
          [
           "CA3",
           55
          ],
          [
           "CTX1",
           56
          ],
          [
           "CTX2",
           57
          ],
          [
           "CTX3",
           58
          ],
          [
           "DG",
           59
          ],
          [
           "CA1",
           60
          ],
          [
           "CA3",
           61
          ],
          [
           "CTX1",
           62
          ],
          [
           "CTX2",
           63
          ],
          [
           "CTX3",
           64
          ],
          [
           "DG",
           65
          ],
          [
           "DG",
           66
          ],
          [
           "CA1",
           67
          ],
          [
           "CA3",
           68
          ],
          [
           "CTX1",
           69
          ],
          [
           "CTX2",
           70
          ],
          [
           "CTX3",
           71
          ],
          [
           "DG",
           72
          ],
          [
           "CA1",
           73
          ],
          [
           "CA3",
           74
          ],
          [
           "CTX1",
           75
          ],
          [
           "CTX2",
           76
          ],
          [
           "CTX3",
           77
          ],
          [
           "DG",
           78
          ],
          [
           "CA1",
           79
          ],
          [
           "CA3",
           80
          ],
          [
           "CTX1",
           81
          ],
          [
           "CTX2",
           82
          ],
          [
           "CTX3",
           83
          ],
          [
           "DG",
           84
          ],
          [
           "CA1",
           85
          ],
          [
           "CA3",
           86
          ],
          [
           "CTX1",
           87
          ],
          [
           "CTX2",
           88
          ],
          [
           "CTX3",
           89
          ],
          [
           "DG",
           90
          ],
          [
           "CA1",
           91
          ],
          [
           "CA3",
           92
          ],
          [
           "CTX1",
           93
          ],
          [
           "CTX2",
           94
          ],
          [
           "CTX3",
           95
          ],
          [
           "DG",
           96
          ],
          [
           "CA1",
           97
          ],
          [
           "CA3",
           98
          ],
          [
           "CTX1",
           99
          ],
          [
           "CTX2",
           100
          ],
          [
           "CTX3",
           101
          ],
          [
           "DG",
           102
          ],
          [
           "CA1",
           103
          ],
          [
           "CA3",
           104
          ],
          [
           "CTX1",
           105
          ],
          [
           "CTX2",
           106
          ],
          [
           "CTX3",
           107
          ],
          [
           "DG",
           108
          ],
          [
           "CA1",
           109
          ],
          [
           "CA3",
           110
          ],
          [
           "CTX1",
           111
          ],
          [
           "CTX2",
           112
          ],
          [
           "CTX3",
           113
          ],
          [
           "DG",
           114
          ],
          [
           "CA1",
           115
          ],
          [
           "CA3",
           116
          ],
          [
           "CTX1",
           117
          ],
          [
           "CTX2",
           118
          ],
          [
           "CTX3",
           119
          ],
          [
           "DG",
           120
          ],
          [
           "CA1",
           121
          ],
          [
           "CA3",
           122
          ],
          [
           "CTX1",
           123
          ],
          [
           "CTX2",
           124
          ],
          [
           "CTX3",
           125
          ],
          [
           "DG",
           126
          ],
          [
           "DG",
           127
          ],
          [
           "CA1",
           128
          ],
          [
           "CA3",
           129
          ],
          [
           "CTX1",
           130
          ],
          [
           "CTX2",
           131
          ],
          [
           "CTX3",
           132
          ],
          [
           "DG",
           133
          ],
          [
           "CA1",
           134
          ],
          [
           "CA3",
           135
          ],
          [
           "CTX1",
           136
          ],
          [
           "CTX2",
           137
          ],
          [
           "CTX3",
           138
          ],
          [
           "DG",
           139
          ],
          [
           "CA1",
           140
          ],
          [
           "CA3",
           141
          ],
          [
           "CTX1",
           142
          ],
          [
           "CTX2",
           143
          ],
          [
           "CTX3",
           144
          ],
          [
           "DG",
           145
          ],
          [
           "CA1",
           146
          ],
          [
           "CA3",
           147
          ],
          [
           "CTX1",
           148
          ],
          [
           "CTX2",
           149
          ],
          [
           "CTX3",
           150
          ],
          [
           "DG",
           151
          ],
          [
           "CA1",
           152
          ],
          [
           "CA3",
           153
          ],
          [
           "CTX1",
           154
          ],
          [
           "CTX2",
           155
          ],
          [
           "CTX3",
           156
          ],
          [
           "DG",
           157
          ],
          [
           "CA1",
           158
          ],
          [
           "CA3",
           159
          ],
          [
           "CTX1",
           160
          ],
          [
           "DG",
           161
          ],
          [
           "CA1",
           162
          ],
          [
           "CA3",
           163
          ],
          [
           "CTX1",
           164
          ],
          [
           "CTX2",
           165
          ],
          [
           "CTX3",
           166
          ],
          [
           "DG",
           167
          ],
          [
           "CA1",
           168
          ],
          [
           "CA3",
           169
          ],
          [
           "CTX1",
           170
          ],
          [
           "CTX2",
           171
          ],
          [
           "CTX3",
           172
          ],
          [
           "DG",
           173
          ],
          [
           "CA1",
           174
          ],
          [
           "CA3",
           175
          ],
          [
           "CTX1",
           176
          ],
          [
           "CTX2",
           177
          ],
          [
           "CTX3",
           178
          ],
          [
           "DG",
           179
          ],
          [
           "CA1",
           180
          ],
          [
           "CA3",
           181
          ],
          [
           "CTX1",
           182
          ],
          [
           "CTX2",
           183
          ],
          [
           "CTX3",
           184
          ],
          [
           "DG",
           185
          ],
          [
           "CA1",
           186
          ],
          [
           "CA3",
           187
          ],
          [
           "CTX1",
           188
          ],
          [
           "CTX2",
           189
          ],
          [
           "CTX3",
           190
          ],
          [
           "DG",
           191
          ],
          [
           "CA1",
           192
          ],
          [
           "CA3",
           193
          ],
          [
           "CTX1",
           194
          ],
          [
           "CTX2",
           195
          ],
          [
           "CTX3",
           196
          ],
          [
           "DG",
           197
          ],
          [
           "CA1",
           198
          ],
          [
           "CA3",
           199
          ],
          [
           "CTX1",
           200
          ],
          [
           "CTX2",
           201
          ],
          [
           "CTX3",
           202
          ],
          [
           "DG",
           203
          ],
          [
           "CA1",
           204
          ],
          [
           "CA3",
           205
          ],
          [
           "CTX1",
           206
          ],
          [
           "CTX2",
           207
          ],
          [
           "CTX3",
           208
          ],
          [
           "DG",
           209
          ],
          [
           "CA1",
           210
          ],
          [
           "CA3",
           211
          ],
          [
           "CTX1",
           212
          ],
          [
           "CTX2",
           213
          ],
          [
           "CTX3",
           214
          ],
          [
           "DG",
           215
          ],
          [
           "CA1",
           216
          ],
          [
           "CA3",
           217
          ],
          [
           "CTX1",
           218
          ],
          [
           "CTX2",
           219
          ],
          [
           "CTX3",
           220
          ],
          [
           "DG",
           221
          ],
          [
           "CA1",
           222
          ],
          [
           "CA3",
           223
          ],
          [
           "CTX1",
           224
          ],
          [
           "CTX2",
           225
          ],
          [
           "CTX3",
           226
          ],
          [
           "DG",
           227
          ],
          [
           "CA1",
           228
          ],
          [
           "CA3",
           229
          ],
          [
           "CTX1",
           230
          ],
          [
           "CTX2",
           231
          ],
          [
           "CTX3",
           232
          ],
          [
           "DG",
           233
          ],
          [
           "CA1",
           234
          ],
          [
           "CA3",
           235
          ],
          [
           "CTX1",
           236
          ],
          [
           "CTX2",
           237
          ],
          [
           "CTX3",
           238
          ],
          [
           "DG",
           239
          ],
          [
           "CA1",
           240
          ],
          [
           "CA3",
           241
          ],
          [
           "CTX1",
           242
          ],
          [
           "CTX2",
           243
          ],
          [
           "CTX3",
           244
          ],
          [
           "DG",
           245
          ],
          [
           "CA1",
           246
          ],
          [
           "CA3",
           247
          ],
          [
           "CTX1",
           248
          ],
          [
           "CTX2",
           249
          ],
          [
           "CTX3",
           250
          ],
          [
           "DG",
           251
          ]
         ],
         "hovertemplate": "staining_id=%{x}<br>nr_glia_+_nuclei=%{y}<br>tissue_location=%{customdata[0]}<br>index=%{customdata[1]}<extra></extra>",
         "legendgroup": "",
         "marker": {
          "color": "#636efa",
          "symbol": "circle"
         },
         "mode": "markers",
         "name": "",
         "orientation": "v",
         "showlegend": false,
         "type": "scatter",
         "x": [
          16,
          16,
          16,
          16,
          16,
          16,
          17,
          17,
          17,
          17,
          17,
          17,
          18,
          18,
          18,
          18,
          18,
          18,
          19,
          19,
          19,
          19,
          19,
          19,
          20,
          20,
          20,
          20,
          20,
          20,
          21,
          21,
          21,
          21,
          21,
          21,
          22,
          22,
          22,
          22,
          22,
          22,
          23,
          23,
          23,
          23,
          23,
          23,
          24,
          24,
          24,
          24,
          24,
          24,
          25,
          25,
          25,
          25,
          25,
          25,
          26,
          26,
          26,
          26,
          26,
          26,
          27,
          28,
          28,
          28,
          28,
          28,
          28,
          29,
          29,
          29,
          29,
          29,
          29,
          30,
          30,
          30,
          30,
          30,
          30,
          31,
          31,
          31,
          31,
          31,
          31,
          32,
          32,
          32,
          32,
          32,
          32,
          33,
          33,
          33,
          33,
          33,
          33,
          34,
          34,
          34,
          34,
          34,
          34,
          35,
          35,
          35,
          35,
          35,
          35,
          36,
          36,
          36,
          36,
          36,
          36,
          37,
          37,
          37,
          37,
          37,
          37,
          38,
          39,
          39,
          39,
          39,
          39,
          39,
          40,
          40,
          40,
          40,
          40,
          40,
          41,
          41,
          41,
          41,
          41,
          41,
          42,
          42,
          42,
          42,
          42,
          42,
          43,
          43,
          43,
          43,
          43,
          43,
          44,
          44,
          44,
          44,
          45,
          45,
          45,
          45,
          45,
          45,
          46,
          46,
          46,
          46,
          46,
          46,
          47,
          47,
          47,
          47,
          47,
          47,
          48,
          48,
          48,
          48,
          48,
          48,
          49,
          49,
          49,
          49,
          49,
          49,
          50,
          50,
          50,
          50,
          50,
          50,
          51,
          51,
          51,
          51,
          51,
          51,
          52,
          52,
          52,
          52,
          52,
          52,
          53,
          53,
          53,
          53,
          53,
          53,
          54,
          54,
          54,
          54,
          54,
          54,
          55,
          55,
          55,
          55,
          55,
          55,
          56,
          56,
          56,
          56,
          56,
          56,
          57,
          57,
          57,
          57,
          57,
          57,
          58,
          58,
          58,
          58,
          58,
          58,
          59,
          59,
          59,
          59,
          59,
          59
         ],
         "xaxis": "x",
         "y": [
          132,
          155,
          37,
          227,
          128,
          182,
          10,
          22,
          18,
          53,
          40,
          79,
          15,
          7,
          17,
          15,
          12,
          78,
          37,
          34,
          108,
          35,
          47,
          44,
          6,
          3,
          3,
          13,
          3,
          5,
          9,
          4,
          17,
          11,
          23,
          17,
          17,
          6,
          9,
          18,
          5,
          19,
          4,
          3,
          20,
          2,
          14,
          14,
          6,
          1,
          12,
          26,
          14,
          5,
          6,
          7,
          13,
          14,
          6,
          15,
          12,
          6,
          15,
          18,
          34,
          15,
          9,
          3,
          2,
          7,
          12,
          9,
          19,
          6,
          4,
          18,
          23,
          10,
          9,
          6,
          5,
          17,
          15,
          12,
          4,
          7,
          0,
          11,
          16,
          8,
          12,
          24,
          19,
          51,
          74,
          42,
          57,
          4,
          7,
          10,
          12,
          8,
          9,
          15,
          5,
          31,
          41,
          27,
          27,
          5,
          31,
          14,
          137,
          74,
          91,
          9,
          5,
          19,
          26,
          8,
          7,
          6,
          9,
          15,
          26,
          27,
          11,
          6,
          4,
          4,
          4,
          5,
          3,
          9,
          3,
          8,
          21,
          15,
          23,
          3,
          1,
          1,
          0,
          4,
          5,
          5,
          1,
          2,
          8,
          13,
          4,
          4,
          6,
          1,
          28,
          20,
          15,
          28,
          25,
          24,
          119,
          60,
          11,
          5,
          19,
          25,
          20,
          17,
          51,
          49,
          95,
          122,
          94,
          73,
          14,
          10,
          29,
          76,
          40,
          10,
          6,
          0,
          30,
          20,
          20,
          11,
          15,
          17,
          18,
          15,
          10,
          24,
          17,
          11,
          22,
          17,
          28,
          18,
          19,
          4,
          17,
          25,
          32,
          17,
          7,
          3,
          14,
          21,
          26,
          21,
          8,
          4,
          30,
          28,
          14,
          18,
          4,
          0,
          16,
          15,
          13,
          19,
          5,
          3,
          8,
          12,
          4,
          10,
          13,
          9,
          19,
          22,
          26,
          19,
          12,
          8,
          14,
          16,
          7,
          27,
          5,
          4,
          14,
          17,
          5,
          3,
          4,
          1,
          8,
          15,
          20,
          7
         ],
         "yaxis": "y"
        }
       ],
       "layout": {
        "legend": {
         "tracegroupgap": 0
        },
        "template": {
         "data": {
          "bar": [
           {
            "error_x": {
             "color": "#2a3f5f"
            },
            "error_y": {
             "color": "#2a3f5f"
            },
            "marker": {
             "line": {
              "color": "#E5ECF6",
              "width": 0.5
             },
             "pattern": {
              "fillmode": "overlay",
              "size": 10,
              "solidity": 0.2
             }
            },
            "type": "bar"
           }
          ],
          "barpolar": [
           {
            "marker": {
             "line": {
              "color": "#E5ECF6",
              "width": 0.5
             },
             "pattern": {
              "fillmode": "overlay",
              "size": 10,
              "solidity": 0.2
             }
            },
            "type": "barpolar"
           }
          ],
          "carpet": [
           {
            "aaxis": {
             "endlinecolor": "#2a3f5f",
             "gridcolor": "white",
             "linecolor": "white",
             "minorgridcolor": "white",
             "startlinecolor": "#2a3f5f"
            },
            "baxis": {
             "endlinecolor": "#2a3f5f",
             "gridcolor": "white",
             "linecolor": "white",
             "minorgridcolor": "white",
             "startlinecolor": "#2a3f5f"
            },
            "type": "carpet"
           }
          ],
          "choropleth": [
           {
            "colorbar": {
             "outlinewidth": 0,
             "ticks": ""
            },
            "type": "choropleth"
           }
          ],
          "contour": [
           {
            "colorbar": {
             "outlinewidth": 0,
             "ticks": ""
            },
            "colorscale": [
             [
              0,
              "#0d0887"
             ],
             [
              0.1111111111111111,
              "#46039f"
             ],
             [
              0.2222222222222222,
              "#7201a8"
             ],
             [
              0.3333333333333333,
              "#9c179e"
             ],
             [
              0.4444444444444444,
              "#bd3786"
             ],
             [
              0.5555555555555556,
              "#d8576b"
             ],
             [
              0.6666666666666666,
              "#ed7953"
             ],
             [
              0.7777777777777778,
              "#fb9f3a"
             ],
             [
              0.8888888888888888,
              "#fdca26"
             ],
             [
              1,
              "#f0f921"
             ]
            ],
            "type": "contour"
           }
          ],
          "contourcarpet": [
           {
            "colorbar": {
             "outlinewidth": 0,
             "ticks": ""
            },
            "type": "contourcarpet"
           }
          ],
          "heatmap": [
           {
            "colorbar": {
             "outlinewidth": 0,
             "ticks": ""
            },
            "colorscale": [
             [
              0,
              "#0d0887"
             ],
             [
              0.1111111111111111,
              "#46039f"
             ],
             [
              0.2222222222222222,
              "#7201a8"
             ],
             [
              0.3333333333333333,
              "#9c179e"
             ],
             [
              0.4444444444444444,
              "#bd3786"
             ],
             [
              0.5555555555555556,
              "#d8576b"
             ],
             [
              0.6666666666666666,
              "#ed7953"
             ],
             [
              0.7777777777777778,
              "#fb9f3a"
             ],
             [
              0.8888888888888888,
              "#fdca26"
             ],
             [
              1,
              "#f0f921"
             ]
            ],
            "type": "heatmap"
           }
          ],
          "heatmapgl": [
           {
            "colorbar": {
             "outlinewidth": 0,
             "ticks": ""
            },
            "colorscale": [
             [
              0,
              "#0d0887"
             ],
             [
              0.1111111111111111,
              "#46039f"
             ],
             [
              0.2222222222222222,
              "#7201a8"
             ],
             [
              0.3333333333333333,
              "#9c179e"
             ],
             [
              0.4444444444444444,
              "#bd3786"
             ],
             [
              0.5555555555555556,
              "#d8576b"
             ],
             [
              0.6666666666666666,
              "#ed7953"
             ],
             [
              0.7777777777777778,
              "#fb9f3a"
             ],
             [
              0.8888888888888888,
              "#fdca26"
             ],
             [
              1,
              "#f0f921"
             ]
            ],
            "type": "heatmapgl"
           }
          ],
          "histogram": [
           {
            "marker": {
             "pattern": {
              "fillmode": "overlay",
              "size": 10,
              "solidity": 0.2
             }
            },
            "type": "histogram"
           }
          ],
          "histogram2d": [
           {
            "colorbar": {
             "outlinewidth": 0,
             "ticks": ""
            },
            "colorscale": [
             [
              0,
              "#0d0887"
             ],
             [
              0.1111111111111111,
              "#46039f"
             ],
             [
              0.2222222222222222,
              "#7201a8"
             ],
             [
              0.3333333333333333,
              "#9c179e"
             ],
             [
              0.4444444444444444,
              "#bd3786"
             ],
             [
              0.5555555555555556,
              "#d8576b"
             ],
             [
              0.6666666666666666,
              "#ed7953"
             ],
             [
              0.7777777777777778,
              "#fb9f3a"
             ],
             [
              0.8888888888888888,
              "#fdca26"
             ],
             [
              1,
              "#f0f921"
             ]
            ],
            "type": "histogram2d"
           }
          ],
          "histogram2dcontour": [
           {
            "colorbar": {
             "outlinewidth": 0,
             "ticks": ""
            },
            "colorscale": [
             [
              0,
              "#0d0887"
             ],
             [
              0.1111111111111111,
              "#46039f"
             ],
             [
              0.2222222222222222,
              "#7201a8"
             ],
             [
              0.3333333333333333,
              "#9c179e"
             ],
             [
              0.4444444444444444,
              "#bd3786"
             ],
             [
              0.5555555555555556,
              "#d8576b"
             ],
             [
              0.6666666666666666,
              "#ed7953"
             ],
             [
              0.7777777777777778,
              "#fb9f3a"
             ],
             [
              0.8888888888888888,
              "#fdca26"
             ],
             [
              1,
              "#f0f921"
             ]
            ],
            "type": "histogram2dcontour"
           }
          ],
          "mesh3d": [
           {
            "colorbar": {
             "outlinewidth": 0,
             "ticks": ""
            },
            "type": "mesh3d"
           }
          ],
          "parcoords": [
           {
            "line": {
             "colorbar": {
              "outlinewidth": 0,
              "ticks": ""
             }
            },
            "type": "parcoords"
           }
          ],
          "pie": [
           {
            "automargin": true,
            "type": "pie"
           }
          ],
          "scatter": [
           {
            "fillpattern": {
             "fillmode": "overlay",
             "size": 10,
             "solidity": 0.2
            },
            "type": "scatter"
           }
          ],
          "scatter3d": [
           {
            "line": {
             "colorbar": {
              "outlinewidth": 0,
              "ticks": ""
             }
            },
            "marker": {
             "colorbar": {
              "outlinewidth": 0,
              "ticks": ""
             }
            },
            "type": "scatter3d"
           }
          ],
          "scattercarpet": [
           {
            "marker": {
             "colorbar": {
              "outlinewidth": 0,
              "ticks": ""
             }
            },
            "type": "scattercarpet"
           }
          ],
          "scattergeo": [
           {
            "marker": {
             "colorbar": {
              "outlinewidth": 0,
              "ticks": ""
             }
            },
            "type": "scattergeo"
           }
          ],
          "scattergl": [
           {
            "marker": {
             "colorbar": {
              "outlinewidth": 0,
              "ticks": ""
             }
            },
            "type": "scattergl"
           }
          ],
          "scattermapbox": [
           {
            "marker": {
             "colorbar": {
              "outlinewidth": 0,
              "ticks": ""
             }
            },
            "type": "scattermapbox"
           }
          ],
          "scatterpolar": [
           {
            "marker": {
             "colorbar": {
              "outlinewidth": 0,
              "ticks": ""
             }
            },
            "type": "scatterpolar"
           }
          ],
          "scatterpolargl": [
           {
            "marker": {
             "colorbar": {
              "outlinewidth": 0,
              "ticks": ""
             }
            },
            "type": "scatterpolargl"
           }
          ],
          "scatterternary": [
           {
            "marker": {
             "colorbar": {
              "outlinewidth": 0,
              "ticks": ""
             }
            },
            "type": "scatterternary"
           }
          ],
          "surface": [
           {
            "colorbar": {
             "outlinewidth": 0,
             "ticks": ""
            },
            "colorscale": [
             [
              0,
              "#0d0887"
             ],
             [
              0.1111111111111111,
              "#46039f"
             ],
             [
              0.2222222222222222,
              "#7201a8"
             ],
             [
              0.3333333333333333,
              "#9c179e"
             ],
             [
              0.4444444444444444,
              "#bd3786"
             ],
             [
              0.5555555555555556,
              "#d8576b"
             ],
             [
              0.6666666666666666,
              "#ed7953"
             ],
             [
              0.7777777777777778,
              "#fb9f3a"
             ],
             [
              0.8888888888888888,
              "#fdca26"
             ],
             [
              1,
              "#f0f921"
             ]
            ],
            "type": "surface"
           }
          ],
          "table": [
           {
            "cells": {
             "fill": {
              "color": "#EBF0F8"
             },
             "line": {
              "color": "white"
             }
            },
            "header": {
             "fill": {
              "color": "#C8D4E3"
             },
             "line": {
              "color": "white"
             }
            },
            "type": "table"
           }
          ]
         },
         "layout": {
          "annotationdefaults": {
           "arrowcolor": "#2a3f5f",
           "arrowhead": 0,
           "arrowwidth": 1
          },
          "autotypenumbers": "strict",
          "coloraxis": {
           "colorbar": {
            "outlinewidth": 0,
            "ticks": ""
           }
          },
          "colorscale": {
           "diverging": [
            [
             0,
             "#8e0152"
            ],
            [
             0.1,
             "#c51b7d"
            ],
            [
             0.2,
             "#de77ae"
            ],
            [
             0.3,
             "#f1b6da"
            ],
            [
             0.4,
             "#fde0ef"
            ],
            [
             0.5,
             "#f7f7f7"
            ],
            [
             0.6,
             "#e6f5d0"
            ],
            [
             0.7,
             "#b8e186"
            ],
            [
             0.8,
             "#7fbc41"
            ],
            [
             0.9,
             "#4d9221"
            ],
            [
             1,
             "#276419"
            ]
           ],
           "sequential": [
            [
             0,
             "#0d0887"
            ],
            [
             0.1111111111111111,
             "#46039f"
            ],
            [
             0.2222222222222222,
             "#7201a8"
            ],
            [
             0.3333333333333333,
             "#9c179e"
            ],
            [
             0.4444444444444444,
             "#bd3786"
            ],
            [
             0.5555555555555556,
             "#d8576b"
            ],
            [
             0.6666666666666666,
             "#ed7953"
            ],
            [
             0.7777777777777778,
             "#fb9f3a"
            ],
            [
             0.8888888888888888,
             "#fdca26"
            ],
            [
             1,
             "#f0f921"
            ]
           ],
           "sequentialminus": [
            [
             0,
             "#0d0887"
            ],
            [
             0.1111111111111111,
             "#46039f"
            ],
            [
             0.2222222222222222,
             "#7201a8"
            ],
            [
             0.3333333333333333,
             "#9c179e"
            ],
            [
             0.4444444444444444,
             "#bd3786"
            ],
            [
             0.5555555555555556,
             "#d8576b"
            ],
            [
             0.6666666666666666,
             "#ed7953"
            ],
            [
             0.7777777777777778,
             "#fb9f3a"
            ],
            [
             0.8888888888888888,
             "#fdca26"
            ],
            [
             1,
             "#f0f921"
            ]
           ]
          },
          "colorway": [
           "#636efa",
           "#EF553B",
           "#00cc96",
           "#ab63fa",
           "#FFA15A",
           "#19d3f3",
           "#FF6692",
           "#B6E880",
           "#FF97FF",
           "#FECB52"
          ],
          "font": {
           "color": "#2a3f5f"
          },
          "geo": {
           "bgcolor": "white",
           "lakecolor": "white",
           "landcolor": "#E5ECF6",
           "showlakes": true,
           "showland": true,
           "subunitcolor": "white"
          },
          "hoverlabel": {
           "align": "left"
          },
          "hovermode": "closest",
          "mapbox": {
           "style": "light"
          },
          "paper_bgcolor": "white",
          "plot_bgcolor": "#E5ECF6",
          "polar": {
           "angularaxis": {
            "gridcolor": "white",
            "linecolor": "white",
            "ticks": ""
           },
           "bgcolor": "#E5ECF6",
           "radialaxis": {
            "gridcolor": "white",
            "linecolor": "white",
            "ticks": ""
           }
          },
          "scene": {
           "xaxis": {
            "backgroundcolor": "#E5ECF6",
            "gridcolor": "white",
            "gridwidth": 2,
            "linecolor": "white",
            "showbackground": true,
            "ticks": "",
            "zerolinecolor": "white"
           },
           "yaxis": {
            "backgroundcolor": "#E5ECF6",
            "gridcolor": "white",
            "gridwidth": 2,
            "linecolor": "white",
            "showbackground": true,
            "ticks": "",
            "zerolinecolor": "white"
           },
           "zaxis": {
            "backgroundcolor": "#E5ECF6",
            "gridcolor": "white",
            "gridwidth": 2,
            "linecolor": "white",
            "showbackground": true,
            "ticks": "",
            "zerolinecolor": "white"
           }
          },
          "shapedefaults": {
           "line": {
            "color": "#2a3f5f"
           }
          },
          "ternary": {
           "aaxis": {
            "gridcolor": "white",
            "linecolor": "white",
            "ticks": ""
           },
           "baxis": {
            "gridcolor": "white",
            "linecolor": "white",
            "ticks": ""
           },
           "bgcolor": "#E5ECF6",
           "caxis": {
            "gridcolor": "white",
            "linecolor": "white",
            "ticks": ""
           }
          },
          "title": {
           "x": 0.05
          },
          "xaxis": {
           "automargin": true,
           "gridcolor": "white",
           "linecolor": "white",
           "ticks": "",
           "title": {
            "standoff": 15
           },
           "zerolinecolor": "white",
           "zerolinewidth": 2
          },
          "yaxis": {
           "automargin": true,
           "gridcolor": "white",
           "linecolor": "white",
           "ticks": "",
           "title": {
            "standoff": 15
           },
           "zerolinecolor": "white",
           "zerolinewidth": 2
          }
         }
        },
        "title": {
         "text": "Nr of glia+ nuclei by Sample"
        },
        "xaxis": {
         "anchor": "y",
         "domain": [
          0,
          1
         ],
         "title": {
          "text": "staining_id"
         }
        },
        "yaxis": {
         "anchor": "x",
         "domain": [
          0,
          1
         ],
         "title": {
          "text": "nr_glia_+_nuclei"
         }
        }
       }
      }
     },
     "metadata": {},
     "output_type": "display_data"
    }
   ],
   "source": [
    "# Create the plot\n",
    "fig = px.scatter(df, x='staining_id', y='nr_glia_+_nuclei',\n",
    "                 hover_data=['tissue_location','index'], title='Nr of glia+ nuclei by Sample')\n",
    "\n",
    "# Show the plot\n",
    "fig.show()"
   ]
  },
  {
   "cell_type": "code",
   "execution_count": 149,
   "metadata": {},
   "outputs": [
    {
     "data": {
      "application/vnd.plotly.v1+json": {
       "config": {
        "plotlyServerURL": "https://plot.ly"
       },
       "data": [
        {
         "customdata": [
          [
           "CA1",
           0
          ],
          [
           "CA3",
           1
          ],
          [
           "CTX1",
           2
          ],
          [
           "CTX2",
           3
          ],
          [
           "CTX3",
           4
          ],
          [
           "DG",
           5
          ],
          [
           "CA1",
           6
          ],
          [
           "CA3",
           7
          ],
          [
           "CTX1",
           8
          ],
          [
           "CTX2",
           9
          ],
          [
           "CTX3",
           10
          ],
          [
           "DG",
           11
          ],
          [
           "CA1",
           12
          ],
          [
           "CA3",
           13
          ],
          [
           "CTX1",
           14
          ],
          [
           "CTX2",
           15
          ],
          [
           "CTX3",
           16
          ],
          [
           "DG",
           17
          ],
          [
           "CA1",
           18
          ],
          [
           "CA3",
           19
          ],
          [
           "CTX1",
           20
          ],
          [
           "CTX2",
           21
          ],
          [
           "CTX3",
           22
          ],
          [
           "DG",
           23
          ],
          [
           "CA1",
           24
          ],
          [
           "CA3",
           25
          ],
          [
           "CTX1",
           26
          ],
          [
           "CTX2",
           27
          ],
          [
           "CTX3",
           28
          ],
          [
           "DG",
           29
          ],
          [
           "CA1",
           30
          ],
          [
           "CA3",
           31
          ],
          [
           "CTX1",
           32
          ],
          [
           "CTX2",
           33
          ],
          [
           "CTX3",
           34
          ],
          [
           "DG",
           35
          ],
          [
           "CA1",
           36
          ],
          [
           "CA3",
           37
          ],
          [
           "CTX1",
           38
          ],
          [
           "CTX2",
           39
          ],
          [
           "CTX3",
           40
          ],
          [
           "DG",
           41
          ],
          [
           "CA1",
           42
          ],
          [
           "CA3",
           43
          ],
          [
           "CTX1",
           44
          ],
          [
           "CTX2",
           45
          ],
          [
           "CTX3",
           46
          ],
          [
           "DG",
           47
          ],
          [
           "CA1",
           48
          ],
          [
           "CA3",
           49
          ],
          [
           "CTX1",
           50
          ],
          [
           "CTX2",
           51
          ],
          [
           "CTX3",
           52
          ],
          [
           "DG",
           53
          ],
          [
           "CA1",
           54
          ],
          [
           "CA3",
           55
          ],
          [
           "CTX1",
           56
          ],
          [
           "CTX2",
           57
          ],
          [
           "CTX3",
           58
          ],
          [
           "DG",
           59
          ],
          [
           "CA1",
           60
          ],
          [
           "CA3",
           61
          ],
          [
           "CTX1",
           62
          ],
          [
           "CTX2",
           63
          ],
          [
           "CTX3",
           64
          ],
          [
           "DG",
           65
          ],
          [
           "DG",
           66
          ],
          [
           "CA1",
           67
          ],
          [
           "CA3",
           68
          ],
          [
           "CTX1",
           69
          ],
          [
           "CTX2",
           70
          ],
          [
           "CTX3",
           71
          ],
          [
           "DG",
           72
          ],
          [
           "CA1",
           73
          ],
          [
           "CA3",
           74
          ],
          [
           "CTX1",
           75
          ],
          [
           "CTX2",
           76
          ],
          [
           "CTX3",
           77
          ],
          [
           "DG",
           78
          ],
          [
           "CA1",
           79
          ],
          [
           "CA3",
           80
          ],
          [
           "CTX1",
           81
          ],
          [
           "CTX2",
           82
          ],
          [
           "CTX3",
           83
          ],
          [
           "DG",
           84
          ],
          [
           "CA1",
           85
          ],
          [
           "CA3",
           86
          ],
          [
           "CTX1",
           87
          ],
          [
           "CTX2",
           88
          ],
          [
           "CTX3",
           89
          ],
          [
           "DG",
           90
          ],
          [
           "CA1",
           91
          ],
          [
           "CA3",
           92
          ],
          [
           "CTX1",
           93
          ],
          [
           "CTX2",
           94
          ],
          [
           "CTX3",
           95
          ],
          [
           "DG",
           96
          ],
          [
           "CA1",
           97
          ],
          [
           "CA3",
           98
          ],
          [
           "CTX1",
           99
          ],
          [
           "CTX2",
           100
          ],
          [
           "CTX3",
           101
          ],
          [
           "DG",
           102
          ],
          [
           "CA1",
           103
          ],
          [
           "CA3",
           104
          ],
          [
           "CTX1",
           105
          ],
          [
           "CTX2",
           106
          ],
          [
           "CTX3",
           107
          ],
          [
           "DG",
           108
          ],
          [
           "CA1",
           109
          ],
          [
           "CA3",
           110
          ],
          [
           "CTX1",
           111
          ],
          [
           "CTX2",
           112
          ],
          [
           "CTX3",
           113
          ],
          [
           "DG",
           114
          ],
          [
           "CA1",
           115
          ],
          [
           "CA3",
           116
          ],
          [
           "CTX1",
           117
          ],
          [
           "CTX2",
           118
          ],
          [
           "CTX3",
           119
          ],
          [
           "DG",
           120
          ],
          [
           "CA1",
           121
          ],
          [
           "CA3",
           122
          ],
          [
           "CTX1",
           123
          ],
          [
           "CTX2",
           124
          ],
          [
           "CTX3",
           125
          ],
          [
           "DG",
           126
          ],
          [
           "DG",
           127
          ],
          [
           "CA1",
           128
          ],
          [
           "CA3",
           129
          ],
          [
           "CTX1",
           130
          ],
          [
           "CTX2",
           131
          ],
          [
           "CTX3",
           132
          ],
          [
           "DG",
           133
          ],
          [
           "CA1",
           134
          ],
          [
           "CA3",
           135
          ],
          [
           "CTX1",
           136
          ],
          [
           "CTX2",
           137
          ],
          [
           "CTX3",
           138
          ],
          [
           "DG",
           139
          ],
          [
           "CA1",
           140
          ],
          [
           "CA3",
           141
          ],
          [
           "CTX1",
           142
          ],
          [
           "CTX2",
           143
          ],
          [
           "CTX3",
           144
          ],
          [
           "DG",
           145
          ],
          [
           "CA1",
           146
          ],
          [
           "CA3",
           147
          ],
          [
           "CTX1",
           148
          ],
          [
           "CTX2",
           149
          ],
          [
           "CTX3",
           150
          ],
          [
           "DG",
           151
          ],
          [
           "CA1",
           152
          ],
          [
           "CA3",
           153
          ],
          [
           "CTX1",
           154
          ],
          [
           "CTX2",
           155
          ],
          [
           "CTX3",
           156
          ],
          [
           "DG",
           157
          ],
          [
           "CA1",
           158
          ],
          [
           "CA3",
           159
          ],
          [
           "CTX1",
           160
          ],
          [
           "DG",
           161
          ],
          [
           "CA1",
           162
          ],
          [
           "CA3",
           163
          ],
          [
           "CTX1",
           164
          ],
          [
           "CTX2",
           165
          ],
          [
           "CTX3",
           166
          ],
          [
           "DG",
           167
          ],
          [
           "CA1",
           168
          ],
          [
           "CA3",
           169
          ],
          [
           "CTX1",
           170
          ],
          [
           "CTX2",
           171
          ],
          [
           "CTX3",
           172
          ],
          [
           "DG",
           173
          ],
          [
           "CA1",
           174
          ],
          [
           "CA3",
           175
          ],
          [
           "CTX1",
           176
          ],
          [
           "CTX2",
           177
          ],
          [
           "CTX3",
           178
          ],
          [
           "DG",
           179
          ],
          [
           "CA1",
           180
          ],
          [
           "CA3",
           181
          ],
          [
           "CTX1",
           182
          ],
          [
           "CTX2",
           183
          ],
          [
           "CTX3",
           184
          ],
          [
           "DG",
           185
          ],
          [
           "CA1",
           186
          ],
          [
           "CA3",
           187
          ],
          [
           "CTX1",
           188
          ],
          [
           "CTX2",
           189
          ],
          [
           "CTX3",
           190
          ],
          [
           "DG",
           191
          ],
          [
           "CA1",
           192
          ],
          [
           "CA3",
           193
          ],
          [
           "CTX1",
           194
          ],
          [
           "CTX2",
           195
          ],
          [
           "CTX3",
           196
          ],
          [
           "DG",
           197
          ],
          [
           "CA1",
           198
          ],
          [
           "CA3",
           199
          ],
          [
           "CTX1",
           200
          ],
          [
           "CTX2",
           201
          ],
          [
           "CTX3",
           202
          ],
          [
           "DG",
           203
          ],
          [
           "CA1",
           204
          ],
          [
           "CA3",
           205
          ],
          [
           "CTX1",
           206
          ],
          [
           "CTX2",
           207
          ],
          [
           "CTX3",
           208
          ],
          [
           "DG",
           209
          ],
          [
           "CA1",
           210
          ],
          [
           "CA3",
           211
          ],
          [
           "CTX1",
           212
          ],
          [
           "CTX2",
           213
          ],
          [
           "CTX3",
           214
          ],
          [
           "DG",
           215
          ],
          [
           "CA1",
           216
          ],
          [
           "CA3",
           217
          ],
          [
           "CTX1",
           218
          ],
          [
           "CTX2",
           219
          ],
          [
           "CTX3",
           220
          ],
          [
           "DG",
           221
          ],
          [
           "CA1",
           222
          ],
          [
           "CA3",
           223
          ],
          [
           "CTX1",
           224
          ],
          [
           "CTX2",
           225
          ],
          [
           "CTX3",
           226
          ],
          [
           "DG",
           227
          ],
          [
           "CA1",
           228
          ],
          [
           "CA3",
           229
          ],
          [
           "CTX1",
           230
          ],
          [
           "CTX2",
           231
          ],
          [
           "CTX3",
           232
          ],
          [
           "DG",
           233
          ],
          [
           "CA1",
           234
          ],
          [
           "CA3",
           235
          ],
          [
           "CTX1",
           236
          ],
          [
           "CTX2",
           237
          ],
          [
           "CTX3",
           238
          ],
          [
           "DG",
           239
          ],
          [
           "CA1",
           240
          ],
          [
           "CA3",
           241
          ],
          [
           "CTX1",
           242
          ],
          [
           "CTX2",
           243
          ],
          [
           "CTX3",
           244
          ],
          [
           "DG",
           245
          ],
          [
           "CA1",
           246
          ],
          [
           "CA3",
           247
          ],
          [
           "CTX1",
           248
          ],
          [
           "CTX2",
           249
          ],
          [
           "CTX3",
           250
          ],
          [
           "DG",
           251
          ]
         ],
         "hovertemplate": "staining_id=%{x}<br>%_dna_damage_signal=%{y}<br>tissue_location=%{customdata[0]}<br>index=%{customdata[1]}<extra></extra>",
         "legendgroup": "",
         "marker": {
          "color": "#636efa",
          "symbol": "circle"
         },
         "mode": "markers",
         "name": "",
         "orientation": "v",
         "showlegend": false,
         "type": "scatter",
         "x": [
          16,
          16,
          16,
          16,
          16,
          16,
          17,
          17,
          17,
          17,
          17,
          17,
          18,
          18,
          18,
          18,
          18,
          18,
          19,
          19,
          19,
          19,
          19,
          19,
          20,
          20,
          20,
          20,
          20,
          20,
          21,
          21,
          21,
          21,
          21,
          21,
          22,
          22,
          22,
          22,
          22,
          22,
          23,
          23,
          23,
          23,
          23,
          23,
          24,
          24,
          24,
          24,
          24,
          24,
          25,
          25,
          25,
          25,
          25,
          25,
          26,
          26,
          26,
          26,
          26,
          26,
          27,
          28,
          28,
          28,
          28,
          28,
          28,
          29,
          29,
          29,
          29,
          29,
          29,
          30,
          30,
          30,
          30,
          30,
          30,
          31,
          31,
          31,
          31,
          31,
          31,
          32,
          32,
          32,
          32,
          32,
          32,
          33,
          33,
          33,
          33,
          33,
          33,
          34,
          34,
          34,
          34,
          34,
          34,
          35,
          35,
          35,
          35,
          35,
          35,
          36,
          36,
          36,
          36,
          36,
          36,
          37,
          37,
          37,
          37,
          37,
          37,
          38,
          39,
          39,
          39,
          39,
          39,
          39,
          40,
          40,
          40,
          40,
          40,
          40,
          41,
          41,
          41,
          41,
          41,
          41,
          42,
          42,
          42,
          42,
          42,
          42,
          43,
          43,
          43,
          43,
          43,
          43,
          44,
          44,
          44,
          44,
          45,
          45,
          45,
          45,
          45,
          45,
          46,
          46,
          46,
          46,
          46,
          46,
          47,
          47,
          47,
          47,
          47,
          47,
          48,
          48,
          48,
          48,
          48,
          48,
          49,
          49,
          49,
          49,
          49,
          49,
          50,
          50,
          50,
          50,
          50,
          50,
          51,
          51,
          51,
          51,
          51,
          51,
          52,
          52,
          52,
          52,
          52,
          52,
          53,
          53,
          53,
          53,
          53,
          53,
          54,
          54,
          54,
          54,
          54,
          54,
          55,
          55,
          55,
          55,
          55,
          55,
          56,
          56,
          56,
          56,
          56,
          56,
          57,
          57,
          57,
          57,
          57,
          57,
          58,
          58,
          58,
          58,
          58,
          58,
          59,
          59,
          59,
          59,
          59,
          59
         ],
         "xaxis": "x",
         "y": [
          1.0966300964355469,
          18.227672576904297,
          0.8442878723144531,
          39.40544128417969,
          9.070396423339844,
          1.1308670043945312,
          2.456283569335937,
          5.110073089599609,
          1.3278961181640625,
          29.74271774291992,
          18.192768096923828,
          5.62286376953125,
          71.99668884277344,
          36.4354133605957,
          3.354072570800781,
          40.91596603393555,
          18.92385482788086,
          83.64906311035156,
          99.50284957885742,
          99.35731887817384,
          99.45621490478516,
          97.04084396362305,
          98.70357513427734,
          99.53365325927734,
          0.7762908935546875,
          1.1053085327148438,
          0.4868507385253906,
          0.9496688842773438,
          0.5314826965332031,
          2.3174285888671875,
          0.7778167724609375,
          0.7436752319335938,
          0.9168624877929688,
          1.0347366333007812,
          1.0148048400878906,
          2.2064208984375,
          1.2415885925292969,
          1.2543678283691406,
          1.403045654296875,
          1.3582229614257812,
          0.2514839172363281,
          3.1919479370117188,
          0.5928993225097656,
          0.531768798828125,
          0.4361152648925781,
          0.0720024108886718,
          0.6974220275878906,
          1.8776893615722656,
          0.4246711730957031,
          0.2900123596191406,
          0.2356529235839843,
          0.5938529968261719,
          0.5388259887695312,
          0.1180648803710937,
          1.3138771057128906,
          2.0705223083496094,
          0.565338134765625,
          1.6091346740722656,
          1.6841888427734375,
          4.139518737792969,
          7.658481597900391,
          14.291000366210938,
          48.14224243164063,
          50.63896179199219,
          60.15052795410156,
          15.996170043945312,
          37.166595458984375,
          1.17950439453125,
          1.036834716796875,
          1.6277313232421875,
          0.6724357604980469,
          0.9607315063476562,
          4.607105255126953,
          0.8039474487304688,
          0.6873130798339844,
          0.9842872619628906,
          1.365375518798828,
          0.4662513732910156,
          2.083301544189453,
          0.4213333129882812,
          0.7200241088867188,
          0.4976272583007812,
          0.5642890930175781,
          0.2711296081542969,
          1.5737533569335938,
          0.908184051513672,
          1.42059326171875,
          0.45013427734375,
          0.5597114562988281,
          0.7208824157714844,
          2.163314819335937,
          24.217510223388672,
          35.25991439819336,
          26.068115234375,
          45.59593200683594,
          16.32986068725586,
          20.56293487548828,
          0.8049964904785156,
          1.3813972473144531,
          1.5479087829589844,
          1.5409469604492188,
          0.8223533630371094,
          3.18288803100586,
          11.618709564208984,
          18.45865249633789,
          9.898662567138672,
          30.911731719970703,
          8.549880981445312,
          13.27676773071289,
          0.7157325744628906,
          13.22774887084961,
          0.7575035095214844,
          23.38438034057617,
          13.570690155029297,
          13.68703842163086,
          1.4990806579589844,
          1.174163818359375,
          2.8151512145996094,
          2.0681381225585938,
          1.329326629638672,
          4.043292999267578,
          1.2406349182128906,
          1.8404960632324217,
          2.520465850830078,
          5.1082611083984375,
          3.800201416015625,
          4.963588714599609,
          36.49396896362305,
          0.7749557495117188,
          1.0321617126464844,
          0.4506111145019531,
          0.3875732421875,
          0.2254486083984375,
          1.4722824096679688,
          0.4599571228027344,
          0.5597114562988281,
          0.6749153137207031,
          0.5100250244140625,
          0.711822509765625,
          2.08282470703125,
          0.7174491882324219,
          0.4147529602050781,
          0.066375732421875,
          0.0730514526367187,
          0.0868797302246093,
          2.2176742553710938,
          0.5374908447265625,
          0.6807327270507812,
          0.4649162292480469,
          0.4080772399902344,
          0.6461143493652344,
          1.3035774230957031,
          0.3113746643066406,
          2.048969268798828,
          1.3188362121582031,
          0.3693580627441406,
          0.8925437927246094,
          3.8147926330566406,
          71.6085433959961,
          81.05602264404297,
          83.38785171508789,
          45.105743408203125,
          1.8074989318847656,
          1.5021324157714844,
          0.8280754089355469,
          0.4374504089355469,
          0.3774642944335937,
          4.353618621826172,
          48.19374084472656,
          18.149757385253903,
          58.10279846191406,
          64.41020965576172,
          45.4249382019043,
          52.95248031616211,
          3.0524253845214844,
          5.192661285400391,
          0.7054328918457031,
          18.903064727783203,
          5.331134796142578,
          22.7813720703125,
          0.7757186889648438,
          0.5895614624023438,
          0.8686065673828125,
          1.111125946044922,
          1.1597633361816406,
          2.8412818908691406,
          44.43187713623047,
          4.161643981933594,
          35.48917770385742,
          37.35837936401367,
          2.4756431579589844,
          54.27255630493164,
          0.0975608825683593,
          0.5349159240722656,
          0.0278472900390625,
          0.2301216125488281,
          1.0915756225585938,
          0.46234130859375,
          0.4143714904785156,
          0.7281303405761719,
          0.2779006958007812,
          0.2605438232421875,
          0.4462242126464844,
          1.5252113342285156,
          0.2756118774414062,
          0.4342079162597656,
          0.1187324523925781,
          0.3239631652832031,
          0.4559516906738281,
          0.7616043090820312,
          4.520511627197266,
          6.536006927490234,
          3.690528869628906,
          3.605270385742188,
          3.4102439880371094,
          10.100555419921877,
          0.5602836608886719,
          1.2754440307617188,
          0.823211669921875,
          0.7739067077636719,
          0.8355140686035156,
          1.9334793090820312,
          0.495147705078125,
          0.4197120666503906,
          0.0318527221679687,
          0.611114501953125,
          0.0937461853027343,
          1.6141891479492188,
          0.609588623046875,
          0.5918502807617188,
          0.4897117614746094,
          0.3222465515136719,
          0.2533912658691406,
          0.9902000427246094,
          1.7914772033691406,
          6.385135650634766,
          0.3266334533691406,
          0.4457473754882812,
          0.1439094543457031,
          2.986621856689453,
          0.6536483764648438,
          0.7616043090820312,
          0.4926681518554687,
          0.8916854858398438,
          0.553131103515625,
          1.1504173278808594,
          0.9168624877929688,
          0.3584861755371094,
          0.8263587951660156,
          0.3554344177246094,
          0.322723388671875,
          2.118110656738281
         ],
         "yaxis": "y"
        }
       ],
       "layout": {
        "legend": {
         "tracegroupgap": 0
        },
        "template": {
         "data": {
          "bar": [
           {
            "error_x": {
             "color": "#2a3f5f"
            },
            "error_y": {
             "color": "#2a3f5f"
            },
            "marker": {
             "line": {
              "color": "#E5ECF6",
              "width": 0.5
             },
             "pattern": {
              "fillmode": "overlay",
              "size": 10,
              "solidity": 0.2
             }
            },
            "type": "bar"
           }
          ],
          "barpolar": [
           {
            "marker": {
             "line": {
              "color": "#E5ECF6",
              "width": 0.5
             },
             "pattern": {
              "fillmode": "overlay",
              "size": 10,
              "solidity": 0.2
             }
            },
            "type": "barpolar"
           }
          ],
          "carpet": [
           {
            "aaxis": {
             "endlinecolor": "#2a3f5f",
             "gridcolor": "white",
             "linecolor": "white",
             "minorgridcolor": "white",
             "startlinecolor": "#2a3f5f"
            },
            "baxis": {
             "endlinecolor": "#2a3f5f",
             "gridcolor": "white",
             "linecolor": "white",
             "minorgridcolor": "white",
             "startlinecolor": "#2a3f5f"
            },
            "type": "carpet"
           }
          ],
          "choropleth": [
           {
            "colorbar": {
             "outlinewidth": 0,
             "ticks": ""
            },
            "type": "choropleth"
           }
          ],
          "contour": [
           {
            "colorbar": {
             "outlinewidth": 0,
             "ticks": ""
            },
            "colorscale": [
             [
              0,
              "#0d0887"
             ],
             [
              0.1111111111111111,
              "#46039f"
             ],
             [
              0.2222222222222222,
              "#7201a8"
             ],
             [
              0.3333333333333333,
              "#9c179e"
             ],
             [
              0.4444444444444444,
              "#bd3786"
             ],
             [
              0.5555555555555556,
              "#d8576b"
             ],
             [
              0.6666666666666666,
              "#ed7953"
             ],
             [
              0.7777777777777778,
              "#fb9f3a"
             ],
             [
              0.8888888888888888,
              "#fdca26"
             ],
             [
              1,
              "#f0f921"
             ]
            ],
            "type": "contour"
           }
          ],
          "contourcarpet": [
           {
            "colorbar": {
             "outlinewidth": 0,
             "ticks": ""
            },
            "type": "contourcarpet"
           }
          ],
          "heatmap": [
           {
            "colorbar": {
             "outlinewidth": 0,
             "ticks": ""
            },
            "colorscale": [
             [
              0,
              "#0d0887"
             ],
             [
              0.1111111111111111,
              "#46039f"
             ],
             [
              0.2222222222222222,
              "#7201a8"
             ],
             [
              0.3333333333333333,
              "#9c179e"
             ],
             [
              0.4444444444444444,
              "#bd3786"
             ],
             [
              0.5555555555555556,
              "#d8576b"
             ],
             [
              0.6666666666666666,
              "#ed7953"
             ],
             [
              0.7777777777777778,
              "#fb9f3a"
             ],
             [
              0.8888888888888888,
              "#fdca26"
             ],
             [
              1,
              "#f0f921"
             ]
            ],
            "type": "heatmap"
           }
          ],
          "heatmapgl": [
           {
            "colorbar": {
             "outlinewidth": 0,
             "ticks": ""
            },
            "colorscale": [
             [
              0,
              "#0d0887"
             ],
             [
              0.1111111111111111,
              "#46039f"
             ],
             [
              0.2222222222222222,
              "#7201a8"
             ],
             [
              0.3333333333333333,
              "#9c179e"
             ],
             [
              0.4444444444444444,
              "#bd3786"
             ],
             [
              0.5555555555555556,
              "#d8576b"
             ],
             [
              0.6666666666666666,
              "#ed7953"
             ],
             [
              0.7777777777777778,
              "#fb9f3a"
             ],
             [
              0.8888888888888888,
              "#fdca26"
             ],
             [
              1,
              "#f0f921"
             ]
            ],
            "type": "heatmapgl"
           }
          ],
          "histogram": [
           {
            "marker": {
             "pattern": {
              "fillmode": "overlay",
              "size": 10,
              "solidity": 0.2
             }
            },
            "type": "histogram"
           }
          ],
          "histogram2d": [
           {
            "colorbar": {
             "outlinewidth": 0,
             "ticks": ""
            },
            "colorscale": [
             [
              0,
              "#0d0887"
             ],
             [
              0.1111111111111111,
              "#46039f"
             ],
             [
              0.2222222222222222,
              "#7201a8"
             ],
             [
              0.3333333333333333,
              "#9c179e"
             ],
             [
              0.4444444444444444,
              "#bd3786"
             ],
             [
              0.5555555555555556,
              "#d8576b"
             ],
             [
              0.6666666666666666,
              "#ed7953"
             ],
             [
              0.7777777777777778,
              "#fb9f3a"
             ],
             [
              0.8888888888888888,
              "#fdca26"
             ],
             [
              1,
              "#f0f921"
             ]
            ],
            "type": "histogram2d"
           }
          ],
          "histogram2dcontour": [
           {
            "colorbar": {
             "outlinewidth": 0,
             "ticks": ""
            },
            "colorscale": [
             [
              0,
              "#0d0887"
             ],
             [
              0.1111111111111111,
              "#46039f"
             ],
             [
              0.2222222222222222,
              "#7201a8"
             ],
             [
              0.3333333333333333,
              "#9c179e"
             ],
             [
              0.4444444444444444,
              "#bd3786"
             ],
             [
              0.5555555555555556,
              "#d8576b"
             ],
             [
              0.6666666666666666,
              "#ed7953"
             ],
             [
              0.7777777777777778,
              "#fb9f3a"
             ],
             [
              0.8888888888888888,
              "#fdca26"
             ],
             [
              1,
              "#f0f921"
             ]
            ],
            "type": "histogram2dcontour"
           }
          ],
          "mesh3d": [
           {
            "colorbar": {
             "outlinewidth": 0,
             "ticks": ""
            },
            "type": "mesh3d"
           }
          ],
          "parcoords": [
           {
            "line": {
             "colorbar": {
              "outlinewidth": 0,
              "ticks": ""
             }
            },
            "type": "parcoords"
           }
          ],
          "pie": [
           {
            "automargin": true,
            "type": "pie"
           }
          ],
          "scatter": [
           {
            "fillpattern": {
             "fillmode": "overlay",
             "size": 10,
             "solidity": 0.2
            },
            "type": "scatter"
           }
          ],
          "scatter3d": [
           {
            "line": {
             "colorbar": {
              "outlinewidth": 0,
              "ticks": ""
             }
            },
            "marker": {
             "colorbar": {
              "outlinewidth": 0,
              "ticks": ""
             }
            },
            "type": "scatter3d"
           }
          ],
          "scattercarpet": [
           {
            "marker": {
             "colorbar": {
              "outlinewidth": 0,
              "ticks": ""
             }
            },
            "type": "scattercarpet"
           }
          ],
          "scattergeo": [
           {
            "marker": {
             "colorbar": {
              "outlinewidth": 0,
              "ticks": ""
             }
            },
            "type": "scattergeo"
           }
          ],
          "scattergl": [
           {
            "marker": {
             "colorbar": {
              "outlinewidth": 0,
              "ticks": ""
             }
            },
            "type": "scattergl"
           }
          ],
          "scattermapbox": [
           {
            "marker": {
             "colorbar": {
              "outlinewidth": 0,
              "ticks": ""
             }
            },
            "type": "scattermapbox"
           }
          ],
          "scatterpolar": [
           {
            "marker": {
             "colorbar": {
              "outlinewidth": 0,
              "ticks": ""
             }
            },
            "type": "scatterpolar"
           }
          ],
          "scatterpolargl": [
           {
            "marker": {
             "colorbar": {
              "outlinewidth": 0,
              "ticks": ""
             }
            },
            "type": "scatterpolargl"
           }
          ],
          "scatterternary": [
           {
            "marker": {
             "colorbar": {
              "outlinewidth": 0,
              "ticks": ""
             }
            },
            "type": "scatterternary"
           }
          ],
          "surface": [
           {
            "colorbar": {
             "outlinewidth": 0,
             "ticks": ""
            },
            "colorscale": [
             [
              0,
              "#0d0887"
             ],
             [
              0.1111111111111111,
              "#46039f"
             ],
             [
              0.2222222222222222,
              "#7201a8"
             ],
             [
              0.3333333333333333,
              "#9c179e"
             ],
             [
              0.4444444444444444,
              "#bd3786"
             ],
             [
              0.5555555555555556,
              "#d8576b"
             ],
             [
              0.6666666666666666,
              "#ed7953"
             ],
             [
              0.7777777777777778,
              "#fb9f3a"
             ],
             [
              0.8888888888888888,
              "#fdca26"
             ],
             [
              1,
              "#f0f921"
             ]
            ],
            "type": "surface"
           }
          ],
          "table": [
           {
            "cells": {
             "fill": {
              "color": "#EBF0F8"
             },
             "line": {
              "color": "white"
             }
            },
            "header": {
             "fill": {
              "color": "#C8D4E3"
             },
             "line": {
              "color": "white"
             }
            },
            "type": "table"
           }
          ]
         },
         "layout": {
          "annotationdefaults": {
           "arrowcolor": "#2a3f5f",
           "arrowhead": 0,
           "arrowwidth": 1
          },
          "autotypenumbers": "strict",
          "coloraxis": {
           "colorbar": {
            "outlinewidth": 0,
            "ticks": ""
           }
          },
          "colorscale": {
           "diverging": [
            [
             0,
             "#8e0152"
            ],
            [
             0.1,
             "#c51b7d"
            ],
            [
             0.2,
             "#de77ae"
            ],
            [
             0.3,
             "#f1b6da"
            ],
            [
             0.4,
             "#fde0ef"
            ],
            [
             0.5,
             "#f7f7f7"
            ],
            [
             0.6,
             "#e6f5d0"
            ],
            [
             0.7,
             "#b8e186"
            ],
            [
             0.8,
             "#7fbc41"
            ],
            [
             0.9,
             "#4d9221"
            ],
            [
             1,
             "#276419"
            ]
           ],
           "sequential": [
            [
             0,
             "#0d0887"
            ],
            [
             0.1111111111111111,
             "#46039f"
            ],
            [
             0.2222222222222222,
             "#7201a8"
            ],
            [
             0.3333333333333333,
             "#9c179e"
            ],
            [
             0.4444444444444444,
             "#bd3786"
            ],
            [
             0.5555555555555556,
             "#d8576b"
            ],
            [
             0.6666666666666666,
             "#ed7953"
            ],
            [
             0.7777777777777778,
             "#fb9f3a"
            ],
            [
             0.8888888888888888,
             "#fdca26"
            ],
            [
             1,
             "#f0f921"
            ]
           ],
           "sequentialminus": [
            [
             0,
             "#0d0887"
            ],
            [
             0.1111111111111111,
             "#46039f"
            ],
            [
             0.2222222222222222,
             "#7201a8"
            ],
            [
             0.3333333333333333,
             "#9c179e"
            ],
            [
             0.4444444444444444,
             "#bd3786"
            ],
            [
             0.5555555555555556,
             "#d8576b"
            ],
            [
             0.6666666666666666,
             "#ed7953"
            ],
            [
             0.7777777777777778,
             "#fb9f3a"
            ],
            [
             0.8888888888888888,
             "#fdca26"
            ],
            [
             1,
             "#f0f921"
            ]
           ]
          },
          "colorway": [
           "#636efa",
           "#EF553B",
           "#00cc96",
           "#ab63fa",
           "#FFA15A",
           "#19d3f3",
           "#FF6692",
           "#B6E880",
           "#FF97FF",
           "#FECB52"
          ],
          "font": {
           "color": "#2a3f5f"
          },
          "geo": {
           "bgcolor": "white",
           "lakecolor": "white",
           "landcolor": "#E5ECF6",
           "showlakes": true,
           "showland": true,
           "subunitcolor": "white"
          },
          "hoverlabel": {
           "align": "left"
          },
          "hovermode": "closest",
          "mapbox": {
           "style": "light"
          },
          "paper_bgcolor": "white",
          "plot_bgcolor": "#E5ECF6",
          "polar": {
           "angularaxis": {
            "gridcolor": "white",
            "linecolor": "white",
            "ticks": ""
           },
           "bgcolor": "#E5ECF6",
           "radialaxis": {
            "gridcolor": "white",
            "linecolor": "white",
            "ticks": ""
           }
          },
          "scene": {
           "xaxis": {
            "backgroundcolor": "#E5ECF6",
            "gridcolor": "white",
            "gridwidth": 2,
            "linecolor": "white",
            "showbackground": true,
            "ticks": "",
            "zerolinecolor": "white"
           },
           "yaxis": {
            "backgroundcolor": "#E5ECF6",
            "gridcolor": "white",
            "gridwidth": 2,
            "linecolor": "white",
            "showbackground": true,
            "ticks": "",
            "zerolinecolor": "white"
           },
           "zaxis": {
            "backgroundcolor": "#E5ECF6",
            "gridcolor": "white",
            "gridwidth": 2,
            "linecolor": "white",
            "showbackground": true,
            "ticks": "",
            "zerolinecolor": "white"
           }
          },
          "shapedefaults": {
           "line": {
            "color": "#2a3f5f"
           }
          },
          "ternary": {
           "aaxis": {
            "gridcolor": "white",
            "linecolor": "white",
            "ticks": ""
           },
           "baxis": {
            "gridcolor": "white",
            "linecolor": "white",
            "ticks": ""
           },
           "bgcolor": "#E5ECF6",
           "caxis": {
            "gridcolor": "white",
            "linecolor": "white",
            "ticks": ""
           }
          },
          "title": {
           "x": 0.05
          },
          "xaxis": {
           "automargin": true,
           "gridcolor": "white",
           "linecolor": "white",
           "ticks": "",
           "title": {
            "standoff": 15
           },
           "zerolinecolor": "white",
           "zerolinewidth": 2
          },
          "yaxis": {
           "automargin": true,
           "gridcolor": "white",
           "linecolor": "white",
           "ticks": "",
           "title": {
            "standoff": 15
           },
           "zerolinecolor": "white",
           "zerolinewidth": 2
          }
         }
        },
        "title": {
         "text": "Dna damage mask area (QC)"
        },
        "xaxis": {
         "anchor": "y",
         "domain": [
          0,
          1
         ],
         "title": {
          "text": "staining_id"
         }
        },
        "yaxis": {
         "anchor": "x",
         "domain": [
          0,
          1
         ],
         "title": {
          "text": "%_dna_damage_signal"
         }
        }
       }
      }
     },
     "metadata": {},
     "output_type": "display_data"
    }
   ],
   "source": [
    "# Create the plot\n",
    "fig = px.scatter(df, x='staining_id', y='%_dna_damage_signal',\n",
    "                 hover_data=['tissue_location','index'], title='Dna damage mask area (QC)')\n",
    "\n",
    "# Show the plot\n",
    "fig.show()"
   ]
  },
  {
   "cell_type": "code",
   "execution_count": 150,
   "metadata": {},
   "outputs": [
    {
     "data": {
      "application/vnd.plotly.v1+json": {
       "config": {
        "plotlyServerURL": "https://plot.ly"
       },
       "data": [
        {
         "customdata": [
          [
           "CA1",
           0
          ],
          [
           "CA3",
           1
          ],
          [
           "CTX1",
           2
          ],
          [
           "CTX2",
           3
          ],
          [
           "CTX3",
           4
          ],
          [
           "DG",
           5
          ],
          [
           "CA1",
           6
          ],
          [
           "CA3",
           7
          ],
          [
           "CTX1",
           8
          ],
          [
           "CTX2",
           9
          ],
          [
           "CTX3",
           10
          ],
          [
           "DG",
           11
          ],
          [
           "CA1",
           12
          ],
          [
           "CA3",
           13
          ],
          [
           "CTX1",
           14
          ],
          [
           "CTX2",
           15
          ],
          [
           "CTX3",
           16
          ],
          [
           "DG",
           17
          ],
          [
           "CA1",
           18
          ],
          [
           "CA3",
           19
          ],
          [
           "CTX1",
           20
          ],
          [
           "CTX2",
           21
          ],
          [
           "CTX3",
           22
          ],
          [
           "DG",
           23
          ],
          [
           "CA1",
           24
          ],
          [
           "CA3",
           25
          ],
          [
           "CTX1",
           26
          ],
          [
           "CTX2",
           27
          ],
          [
           "CTX3",
           28
          ],
          [
           "DG",
           29
          ],
          [
           "CA1",
           30
          ],
          [
           "CA3",
           31
          ],
          [
           "CTX1",
           32
          ],
          [
           "CTX2",
           33
          ],
          [
           "CTX3",
           34
          ],
          [
           "DG",
           35
          ],
          [
           "CA1",
           36
          ],
          [
           "CA3",
           37
          ],
          [
           "CTX1",
           38
          ],
          [
           "CTX2",
           39
          ],
          [
           "CTX3",
           40
          ],
          [
           "DG",
           41
          ],
          [
           "CA1",
           42
          ],
          [
           "CA3",
           43
          ],
          [
           "CTX1",
           44
          ],
          [
           "CTX2",
           45
          ],
          [
           "CTX3",
           46
          ],
          [
           "DG",
           47
          ],
          [
           "CA1",
           48
          ],
          [
           "CA3",
           49
          ],
          [
           "CTX1",
           50
          ],
          [
           "CTX2",
           51
          ],
          [
           "CTX3",
           52
          ],
          [
           "DG",
           53
          ],
          [
           "CA1",
           54
          ],
          [
           "CA3",
           55
          ],
          [
           "CTX1",
           56
          ],
          [
           "CTX2",
           57
          ],
          [
           "CTX3",
           58
          ],
          [
           "DG",
           59
          ],
          [
           "CA1",
           60
          ],
          [
           "CA3",
           61
          ],
          [
           "CTX1",
           62
          ],
          [
           "CTX2",
           63
          ],
          [
           "CTX3",
           64
          ],
          [
           "DG",
           65
          ],
          [
           "DG",
           66
          ],
          [
           "CA1",
           67
          ],
          [
           "CA3",
           68
          ],
          [
           "CTX1",
           69
          ],
          [
           "CTX2",
           70
          ],
          [
           "CTX3",
           71
          ],
          [
           "DG",
           72
          ],
          [
           "CA1",
           73
          ],
          [
           "CA3",
           74
          ],
          [
           "CTX1",
           75
          ],
          [
           "CTX2",
           76
          ],
          [
           "CTX3",
           77
          ],
          [
           "DG",
           78
          ],
          [
           "CA1",
           79
          ],
          [
           "CA3",
           80
          ],
          [
           "CTX1",
           81
          ],
          [
           "CTX2",
           82
          ],
          [
           "CTX3",
           83
          ],
          [
           "DG",
           84
          ],
          [
           "CA1",
           85
          ],
          [
           "CA3",
           86
          ],
          [
           "CTX1",
           87
          ],
          [
           "CTX2",
           88
          ],
          [
           "CTX3",
           89
          ],
          [
           "DG",
           90
          ],
          [
           "CA1",
           91
          ],
          [
           "CA3",
           92
          ],
          [
           "CTX1",
           93
          ],
          [
           "CTX2",
           94
          ],
          [
           "CTX3",
           95
          ],
          [
           "DG",
           96
          ],
          [
           "CA1",
           97
          ],
          [
           "CA3",
           98
          ],
          [
           "CTX1",
           99
          ],
          [
           "CTX2",
           100
          ],
          [
           "CTX3",
           101
          ],
          [
           "DG",
           102
          ],
          [
           "CA1",
           103
          ],
          [
           "CA3",
           104
          ],
          [
           "CTX1",
           105
          ],
          [
           "CTX2",
           106
          ],
          [
           "CTX3",
           107
          ],
          [
           "DG",
           108
          ],
          [
           "CA1",
           109
          ],
          [
           "CA3",
           110
          ],
          [
           "CTX1",
           111
          ],
          [
           "CTX2",
           112
          ],
          [
           "CTX3",
           113
          ],
          [
           "DG",
           114
          ],
          [
           "CA1",
           115
          ],
          [
           "CA3",
           116
          ],
          [
           "CTX1",
           117
          ],
          [
           "CTX2",
           118
          ],
          [
           "CTX3",
           119
          ],
          [
           "DG",
           120
          ],
          [
           "CA1",
           121
          ],
          [
           "CA3",
           122
          ],
          [
           "CTX1",
           123
          ],
          [
           "CTX2",
           124
          ],
          [
           "CTX3",
           125
          ],
          [
           "DG",
           126
          ],
          [
           "DG",
           127
          ],
          [
           "CA1",
           128
          ],
          [
           "CA3",
           129
          ],
          [
           "CTX1",
           130
          ],
          [
           "CTX2",
           131
          ],
          [
           "CTX3",
           132
          ],
          [
           "DG",
           133
          ],
          [
           "CA1",
           134
          ],
          [
           "CA3",
           135
          ],
          [
           "CTX1",
           136
          ],
          [
           "CTX2",
           137
          ],
          [
           "CTX3",
           138
          ],
          [
           "DG",
           139
          ],
          [
           "CA1",
           140
          ],
          [
           "CA3",
           141
          ],
          [
           "CTX1",
           142
          ],
          [
           "CTX2",
           143
          ],
          [
           "CTX3",
           144
          ],
          [
           "DG",
           145
          ],
          [
           "CA1",
           146
          ],
          [
           "CA3",
           147
          ],
          [
           "CTX1",
           148
          ],
          [
           "CTX2",
           149
          ],
          [
           "CTX3",
           150
          ],
          [
           "DG",
           151
          ],
          [
           "CA1",
           152
          ],
          [
           "CA3",
           153
          ],
          [
           "CTX1",
           154
          ],
          [
           "CTX2",
           155
          ],
          [
           "CTX3",
           156
          ],
          [
           "DG",
           157
          ],
          [
           "CA1",
           158
          ],
          [
           "CA3",
           159
          ],
          [
           "CTX1",
           160
          ],
          [
           "DG",
           161
          ],
          [
           "CA1",
           162
          ],
          [
           "CA3",
           163
          ],
          [
           "CTX1",
           164
          ],
          [
           "CTX2",
           165
          ],
          [
           "CTX3",
           166
          ],
          [
           "DG",
           167
          ],
          [
           "CA1",
           168
          ],
          [
           "CA3",
           169
          ],
          [
           "CTX1",
           170
          ],
          [
           "CTX2",
           171
          ],
          [
           "CTX3",
           172
          ],
          [
           "DG",
           173
          ],
          [
           "CA1",
           174
          ],
          [
           "CA3",
           175
          ],
          [
           "CTX1",
           176
          ],
          [
           "CTX2",
           177
          ],
          [
           "CTX3",
           178
          ],
          [
           "DG",
           179
          ],
          [
           "CA1",
           180
          ],
          [
           "CA3",
           181
          ],
          [
           "CTX1",
           182
          ],
          [
           "CTX2",
           183
          ],
          [
           "CTX3",
           184
          ],
          [
           "DG",
           185
          ],
          [
           "CA1",
           186
          ],
          [
           "CA3",
           187
          ],
          [
           "CTX1",
           188
          ],
          [
           "CTX2",
           189
          ],
          [
           "CTX3",
           190
          ],
          [
           "DG",
           191
          ],
          [
           "CA1",
           192
          ],
          [
           "CA3",
           193
          ],
          [
           "CTX1",
           194
          ],
          [
           "CTX2",
           195
          ],
          [
           "CTX3",
           196
          ],
          [
           "DG",
           197
          ],
          [
           "CA1",
           198
          ],
          [
           "CA3",
           199
          ],
          [
           "CTX1",
           200
          ],
          [
           "CTX2",
           201
          ],
          [
           "CTX3",
           202
          ],
          [
           "DG",
           203
          ],
          [
           "CA1",
           204
          ],
          [
           "CA3",
           205
          ],
          [
           "CTX1",
           206
          ],
          [
           "CTX2",
           207
          ],
          [
           "CTX3",
           208
          ],
          [
           "DG",
           209
          ],
          [
           "CA1",
           210
          ],
          [
           "CA3",
           211
          ],
          [
           "CTX1",
           212
          ],
          [
           "CTX2",
           213
          ],
          [
           "CTX3",
           214
          ],
          [
           "DG",
           215
          ],
          [
           "CA1",
           216
          ],
          [
           "CA3",
           217
          ],
          [
           "CTX1",
           218
          ],
          [
           "CTX2",
           219
          ],
          [
           "CTX3",
           220
          ],
          [
           "DG",
           221
          ],
          [
           "CA1",
           222
          ],
          [
           "CA3",
           223
          ],
          [
           "CTX1",
           224
          ],
          [
           "CTX2",
           225
          ],
          [
           "CTX3",
           226
          ],
          [
           "DG",
           227
          ],
          [
           "CA1",
           228
          ],
          [
           "CA3",
           229
          ],
          [
           "CTX1",
           230
          ],
          [
           "CTX2",
           231
          ],
          [
           "CTX3",
           232
          ],
          [
           "DG",
           233
          ],
          [
           "CA1",
           234
          ],
          [
           "CA3",
           235
          ],
          [
           "CTX1",
           236
          ],
          [
           "CTX2",
           237
          ],
          [
           "CTX3",
           238
          ],
          [
           "DG",
           239
          ],
          [
           "CA1",
           240
          ],
          [
           "CA3",
           241
          ],
          [
           "CTX1",
           242
          ],
          [
           "CTX2",
           243
          ],
          [
           "CTX3",
           244
          ],
          [
           "DG",
           245
          ],
          [
           "CA1",
           246
          ],
          [
           "CA3",
           247
          ],
          [
           "CTX1",
           248
          ],
          [
           "CTX2",
           249
          ],
          [
           "CTX3",
           250
          ],
          [
           "DG",
           251
          ]
         ],
         "hovertemplate": "staining_id=%{x}<br>%_glia+_signal=%{y}<br>tissue_location=%{customdata[0]}<br>index=%{customdata[1]}<extra></extra>",
         "legendgroup": "",
         "marker": {
          "color": "#636efa",
          "symbol": "circle"
         },
         "mode": "markers",
         "name": "",
         "orientation": "v",
         "showlegend": false,
         "type": "scatter",
         "x": [
          16,
          16,
          16,
          16,
          16,
          16,
          17,
          17,
          17,
          17,
          17,
          17,
          18,
          18,
          18,
          18,
          18,
          18,
          19,
          19,
          19,
          19,
          19,
          19,
          20,
          20,
          20,
          20,
          20,
          20,
          21,
          21,
          21,
          21,
          21,
          21,
          22,
          22,
          22,
          22,
          22,
          22,
          23,
          23,
          23,
          23,
          23,
          23,
          24,
          24,
          24,
          24,
          24,
          24,
          25,
          25,
          25,
          25,
          25,
          25,
          26,
          26,
          26,
          26,
          26,
          26,
          27,
          28,
          28,
          28,
          28,
          28,
          28,
          29,
          29,
          29,
          29,
          29,
          29,
          30,
          30,
          30,
          30,
          30,
          30,
          31,
          31,
          31,
          31,
          31,
          31,
          32,
          32,
          32,
          32,
          32,
          32,
          33,
          33,
          33,
          33,
          33,
          33,
          34,
          34,
          34,
          34,
          34,
          34,
          35,
          35,
          35,
          35,
          35,
          35,
          36,
          36,
          36,
          36,
          36,
          36,
          37,
          37,
          37,
          37,
          37,
          37,
          38,
          39,
          39,
          39,
          39,
          39,
          39,
          40,
          40,
          40,
          40,
          40,
          40,
          41,
          41,
          41,
          41,
          41,
          41,
          42,
          42,
          42,
          42,
          42,
          42,
          43,
          43,
          43,
          43,
          43,
          43,
          44,
          44,
          44,
          44,
          45,
          45,
          45,
          45,
          45,
          45,
          46,
          46,
          46,
          46,
          46,
          46,
          47,
          47,
          47,
          47,
          47,
          47,
          48,
          48,
          48,
          48,
          48,
          48,
          49,
          49,
          49,
          49,
          49,
          49,
          50,
          50,
          50,
          50,
          50,
          50,
          51,
          51,
          51,
          51,
          51,
          51,
          52,
          52,
          52,
          52,
          52,
          52,
          53,
          53,
          53,
          53,
          53,
          53,
          54,
          54,
          54,
          54,
          54,
          54,
          55,
          55,
          55,
          55,
          55,
          55,
          56,
          56,
          56,
          56,
          56,
          56,
          57,
          57,
          57,
          57,
          57,
          57,
          58,
          58,
          58,
          58,
          58,
          58,
          59,
          59,
          59,
          59,
          59,
          59
         ],
         "xaxis": "x",
         "y": [
          88.63372802734375,
          96.34952545166016,
          13.59844207763672,
          94.93074417114258,
          54.76894378662109,
          87.15362548828125,
          5.763816833496094,
          6.432056427001953,
          2.645301818847656,
          11.802101135253906,
          9.359455108642578,
          44.40708160400391,
          10.935688018798828,
          7.825183868408203,
          3.196430206298828,
          5.939960479736328,
          1.9624710083007808,
          53.77206802368164,
          97.84984588623048,
          98.4278678894043,
          98.5675811767578,
          92.62237548828124,
          87.97607421875,
          97.98297882080078,
          1.447296142578125,
          1.717853546142578,
          0.8257865905761719,
          2.0682334899902344,
          0.5598068237304688,
          2.923774719238281,
          2.5424957275390625,
          1.3544082641601562,
          3.311634063720703,
          3.338623046875,
          4.697036743164063,
          3.5135269165039062,
          6.178569793701172,
          3.7606239318847656,
          3.637123107910156,
          4.0191650390625,
          0.730133056640625,
          5.748558044433594,
          4.248046875,
          2.08120346069336,
          5.792427062988281,
          0.7174491882324219,
          2.988147735595703,
          7.934856414794922,
          0.7791519165039062,
          0.9073257446289062,
          1.7583847045898438,
          3.3802032470703125,
          1.4982223510742188,
          0.8672714233398438,
          3.17068099975586,
          2.813243865966797,
          3.438568115234375,
          6.374835968017578,
          2.7411460876464844,
          3.351020812988281,
          5.84564208984375,
          6.870269775390625,
          11.133575439453123,
          13.045120239257812,
          27.424240112304688,
          7.449054718017578,
          1.7447471618652344,
          2.5665283203125,
          2.448272705078125,
          3.2138824462890625,
          2.5005340576171875,
          2.412891387939453,
          7.0148468017578125,
          2.208709716796875,
          1.9129753112792969,
          5.022335052490234,
          7.678985595703125,
          3.7689208984375,
          2.2146224975585938,
          1.6625404357910156,
          1.3019561767578125,
          2.780723571777344,
          2.3637771606445312,
          1.4829635620117188,
          2.1762847900390625,
          3.847122192382813,
          1.217937469482422,
          3.5140037536621094,
          2.959632873535156,
          3.2898902893066406,
          3.90176773071289,
          14.134979248046877,
          14.082717895507812,
          14.151763916015623,
          17.71411895751953,
          10.771465301513672,
          27.629661560058597,
          2.395153045654297,
          1.8873214721679688,
          1.194000244140625,
          2.6653289794921875,
          2.5826454162597656,
          3.2654762268066406,
          5.395984649658203,
          4.882526397705078,
          6.429195404052734,
          9.55486297607422,
          7.129859924316406,
          9.005355834960938,
          3.268909454345703,
          21.71812057495117,
          4.521656036376953,
          49.62272644042969,
          36.1638069152832,
          46.29859924316406,
          2.2858619689941406,
          1.1386871337890625,
          3.605270385742188,
          4.596138000488281,
          2.627086639404297,
          1.8873214721679688,
          1.4169692993164062,
          3.2583236694335938,
          2.8922080993652344,
          6.322193145751953,
          5.652999877929688,
          2.9592514038085938,
          1.724529266357422,
          1.2140274047851562,
          1.1082649230957031,
          0.3711700439453125,
          0.3496170043945312,
          0.2208709716796875,
          1.7183303833007812,
          1.3429641723632812,
          1.7145156860351562,
          3.7994384765625,
          3.754806518554688,
          4.794597625732422,
          0.7130622863769531,
          0.4645347595214844,
          0.6657600402832031,
          0.0162124633789062,
          0.2507209777832031,
          0.83465576171875,
          0.9260177612304688,
          0.5733489990234375,
          0.9168624877929688,
          0.74462890625,
          1.824378967285156,
          0.9996414184570312,
          0.988483428955078,
          3.304767608642578,
          5.7796478271484375,
          12.746238708496094,
          7.944774627685547,
          7.372093200683594,
          16.925048828125,
          45.28112411499024,
          48.995113372802734,
          61.879920959472656,
          39.72511291503906,
          6.223964691162109,
          5.231571197509766,
          4.201602935791016,
          4.376411437988281,
          3.458404541015625,
          7.775020599365234,
          47.70441055297852,
          31.574440002441406,
          46.37212753295898,
          51.16119384765625,
          32.654476165771484,
          56.203651428222656,
          6.558036804199219,
          8.901691436767578,
          5.655956268310547,
          30.04922866821289,
          14.159202575683594,
          13.895225524902344,
          3.3704757690429688,
          2.537250518798828,
          4.6924591064453125,
          3.786659240722656,
          3.594589233398437,
          5.111885070800781,
          8.189868927001953,
          6.575107574462891,
          8.087635040283203,
          6.462860107421875,
          2.49490737915039,
          14.119243621826172,
          4.873561859130859,
          3.848457336425781,
          6.229019165039063,
          5.149269104003906,
          5.641460418701172,
          5.594158172607422,
          6.222438812255859,
          6.045722961425781,
          4.617595672607422,
          7.056903839111328,
          9.714698791503906,
          6.879520416259766,
          5.399608612060547,
          4.315376281738281,
          7.786273956298828,
          10.270881652832031,
          10.033130645751951,
          7.422256469726562,
          2.5342941284179688,
          2.4756431579589844,
          7.878398895263672,
          7.045269012451172,
          5.187797546386719,
          3.43008041381836,
          2.426910400390625,
          1.7024993896484375,
          4.989528656005859,
          3.8888931274414062,
          5.550861358642578,
          3.528308868408203,
          1.777362823486328,
          1.872539520263672,
          1.2282371520996094,
          3.083038330078125,
          0.5826950073242188,
          2.5461196899414062,
          4.4521331787109375,
          4.624557495117188,
          5.258560180664063,
          5.3241729736328125,
          4.150867462158203,
          5.023097991943359,
          2.201366424560547,
          4.8095703125,
          2.260112762451172,
          1.4965057373046875,
          1.306438446044922,
          5.2936553955078125,
          2.06155776977539,
          1.918315887451172,
          4.450321197509766,
          2.5277137756347656,
          0.5662918090820312,
          1.5165328979492188,
          3.539466857910156,
          2.4675369262695312,
          3.9608001708984375,
          6.726360321044922,
          5.142498016357422,
          3.248310089111328
         ],
         "yaxis": "y"
        }
       ],
       "layout": {
        "legend": {
         "tracegroupgap": 0
        },
        "template": {
         "data": {
          "bar": [
           {
            "error_x": {
             "color": "#2a3f5f"
            },
            "error_y": {
             "color": "#2a3f5f"
            },
            "marker": {
             "line": {
              "color": "#E5ECF6",
              "width": 0.5
             },
             "pattern": {
              "fillmode": "overlay",
              "size": 10,
              "solidity": 0.2
             }
            },
            "type": "bar"
           }
          ],
          "barpolar": [
           {
            "marker": {
             "line": {
              "color": "#E5ECF6",
              "width": 0.5
             },
             "pattern": {
              "fillmode": "overlay",
              "size": 10,
              "solidity": 0.2
             }
            },
            "type": "barpolar"
           }
          ],
          "carpet": [
           {
            "aaxis": {
             "endlinecolor": "#2a3f5f",
             "gridcolor": "white",
             "linecolor": "white",
             "minorgridcolor": "white",
             "startlinecolor": "#2a3f5f"
            },
            "baxis": {
             "endlinecolor": "#2a3f5f",
             "gridcolor": "white",
             "linecolor": "white",
             "minorgridcolor": "white",
             "startlinecolor": "#2a3f5f"
            },
            "type": "carpet"
           }
          ],
          "choropleth": [
           {
            "colorbar": {
             "outlinewidth": 0,
             "ticks": ""
            },
            "type": "choropleth"
           }
          ],
          "contour": [
           {
            "colorbar": {
             "outlinewidth": 0,
             "ticks": ""
            },
            "colorscale": [
             [
              0,
              "#0d0887"
             ],
             [
              0.1111111111111111,
              "#46039f"
             ],
             [
              0.2222222222222222,
              "#7201a8"
             ],
             [
              0.3333333333333333,
              "#9c179e"
             ],
             [
              0.4444444444444444,
              "#bd3786"
             ],
             [
              0.5555555555555556,
              "#d8576b"
             ],
             [
              0.6666666666666666,
              "#ed7953"
             ],
             [
              0.7777777777777778,
              "#fb9f3a"
             ],
             [
              0.8888888888888888,
              "#fdca26"
             ],
             [
              1,
              "#f0f921"
             ]
            ],
            "type": "contour"
           }
          ],
          "contourcarpet": [
           {
            "colorbar": {
             "outlinewidth": 0,
             "ticks": ""
            },
            "type": "contourcarpet"
           }
          ],
          "heatmap": [
           {
            "colorbar": {
             "outlinewidth": 0,
             "ticks": ""
            },
            "colorscale": [
             [
              0,
              "#0d0887"
             ],
             [
              0.1111111111111111,
              "#46039f"
             ],
             [
              0.2222222222222222,
              "#7201a8"
             ],
             [
              0.3333333333333333,
              "#9c179e"
             ],
             [
              0.4444444444444444,
              "#bd3786"
             ],
             [
              0.5555555555555556,
              "#d8576b"
             ],
             [
              0.6666666666666666,
              "#ed7953"
             ],
             [
              0.7777777777777778,
              "#fb9f3a"
             ],
             [
              0.8888888888888888,
              "#fdca26"
             ],
             [
              1,
              "#f0f921"
             ]
            ],
            "type": "heatmap"
           }
          ],
          "heatmapgl": [
           {
            "colorbar": {
             "outlinewidth": 0,
             "ticks": ""
            },
            "colorscale": [
             [
              0,
              "#0d0887"
             ],
             [
              0.1111111111111111,
              "#46039f"
             ],
             [
              0.2222222222222222,
              "#7201a8"
             ],
             [
              0.3333333333333333,
              "#9c179e"
             ],
             [
              0.4444444444444444,
              "#bd3786"
             ],
             [
              0.5555555555555556,
              "#d8576b"
             ],
             [
              0.6666666666666666,
              "#ed7953"
             ],
             [
              0.7777777777777778,
              "#fb9f3a"
             ],
             [
              0.8888888888888888,
              "#fdca26"
             ],
             [
              1,
              "#f0f921"
             ]
            ],
            "type": "heatmapgl"
           }
          ],
          "histogram": [
           {
            "marker": {
             "pattern": {
              "fillmode": "overlay",
              "size": 10,
              "solidity": 0.2
             }
            },
            "type": "histogram"
           }
          ],
          "histogram2d": [
           {
            "colorbar": {
             "outlinewidth": 0,
             "ticks": ""
            },
            "colorscale": [
             [
              0,
              "#0d0887"
             ],
             [
              0.1111111111111111,
              "#46039f"
             ],
             [
              0.2222222222222222,
              "#7201a8"
             ],
             [
              0.3333333333333333,
              "#9c179e"
             ],
             [
              0.4444444444444444,
              "#bd3786"
             ],
             [
              0.5555555555555556,
              "#d8576b"
             ],
             [
              0.6666666666666666,
              "#ed7953"
             ],
             [
              0.7777777777777778,
              "#fb9f3a"
             ],
             [
              0.8888888888888888,
              "#fdca26"
             ],
             [
              1,
              "#f0f921"
             ]
            ],
            "type": "histogram2d"
           }
          ],
          "histogram2dcontour": [
           {
            "colorbar": {
             "outlinewidth": 0,
             "ticks": ""
            },
            "colorscale": [
             [
              0,
              "#0d0887"
             ],
             [
              0.1111111111111111,
              "#46039f"
             ],
             [
              0.2222222222222222,
              "#7201a8"
             ],
             [
              0.3333333333333333,
              "#9c179e"
             ],
             [
              0.4444444444444444,
              "#bd3786"
             ],
             [
              0.5555555555555556,
              "#d8576b"
             ],
             [
              0.6666666666666666,
              "#ed7953"
             ],
             [
              0.7777777777777778,
              "#fb9f3a"
             ],
             [
              0.8888888888888888,
              "#fdca26"
             ],
             [
              1,
              "#f0f921"
             ]
            ],
            "type": "histogram2dcontour"
           }
          ],
          "mesh3d": [
           {
            "colorbar": {
             "outlinewidth": 0,
             "ticks": ""
            },
            "type": "mesh3d"
           }
          ],
          "parcoords": [
           {
            "line": {
             "colorbar": {
              "outlinewidth": 0,
              "ticks": ""
             }
            },
            "type": "parcoords"
           }
          ],
          "pie": [
           {
            "automargin": true,
            "type": "pie"
           }
          ],
          "scatter": [
           {
            "fillpattern": {
             "fillmode": "overlay",
             "size": 10,
             "solidity": 0.2
            },
            "type": "scatter"
           }
          ],
          "scatter3d": [
           {
            "line": {
             "colorbar": {
              "outlinewidth": 0,
              "ticks": ""
             }
            },
            "marker": {
             "colorbar": {
              "outlinewidth": 0,
              "ticks": ""
             }
            },
            "type": "scatter3d"
           }
          ],
          "scattercarpet": [
           {
            "marker": {
             "colorbar": {
              "outlinewidth": 0,
              "ticks": ""
             }
            },
            "type": "scattercarpet"
           }
          ],
          "scattergeo": [
           {
            "marker": {
             "colorbar": {
              "outlinewidth": 0,
              "ticks": ""
             }
            },
            "type": "scattergeo"
           }
          ],
          "scattergl": [
           {
            "marker": {
             "colorbar": {
              "outlinewidth": 0,
              "ticks": ""
             }
            },
            "type": "scattergl"
           }
          ],
          "scattermapbox": [
           {
            "marker": {
             "colorbar": {
              "outlinewidth": 0,
              "ticks": ""
             }
            },
            "type": "scattermapbox"
           }
          ],
          "scatterpolar": [
           {
            "marker": {
             "colorbar": {
              "outlinewidth": 0,
              "ticks": ""
             }
            },
            "type": "scatterpolar"
           }
          ],
          "scatterpolargl": [
           {
            "marker": {
             "colorbar": {
              "outlinewidth": 0,
              "ticks": ""
             }
            },
            "type": "scatterpolargl"
           }
          ],
          "scatterternary": [
           {
            "marker": {
             "colorbar": {
              "outlinewidth": 0,
              "ticks": ""
             }
            },
            "type": "scatterternary"
           }
          ],
          "surface": [
           {
            "colorbar": {
             "outlinewidth": 0,
             "ticks": ""
            },
            "colorscale": [
             [
              0,
              "#0d0887"
             ],
             [
              0.1111111111111111,
              "#46039f"
             ],
             [
              0.2222222222222222,
              "#7201a8"
             ],
             [
              0.3333333333333333,
              "#9c179e"
             ],
             [
              0.4444444444444444,
              "#bd3786"
             ],
             [
              0.5555555555555556,
              "#d8576b"
             ],
             [
              0.6666666666666666,
              "#ed7953"
             ],
             [
              0.7777777777777778,
              "#fb9f3a"
             ],
             [
              0.8888888888888888,
              "#fdca26"
             ],
             [
              1,
              "#f0f921"
             ]
            ],
            "type": "surface"
           }
          ],
          "table": [
           {
            "cells": {
             "fill": {
              "color": "#EBF0F8"
             },
             "line": {
              "color": "white"
             }
            },
            "header": {
             "fill": {
              "color": "#C8D4E3"
             },
             "line": {
              "color": "white"
             }
            },
            "type": "table"
           }
          ]
         },
         "layout": {
          "annotationdefaults": {
           "arrowcolor": "#2a3f5f",
           "arrowhead": 0,
           "arrowwidth": 1
          },
          "autotypenumbers": "strict",
          "coloraxis": {
           "colorbar": {
            "outlinewidth": 0,
            "ticks": ""
           }
          },
          "colorscale": {
           "diverging": [
            [
             0,
             "#8e0152"
            ],
            [
             0.1,
             "#c51b7d"
            ],
            [
             0.2,
             "#de77ae"
            ],
            [
             0.3,
             "#f1b6da"
            ],
            [
             0.4,
             "#fde0ef"
            ],
            [
             0.5,
             "#f7f7f7"
            ],
            [
             0.6,
             "#e6f5d0"
            ],
            [
             0.7,
             "#b8e186"
            ],
            [
             0.8,
             "#7fbc41"
            ],
            [
             0.9,
             "#4d9221"
            ],
            [
             1,
             "#276419"
            ]
           ],
           "sequential": [
            [
             0,
             "#0d0887"
            ],
            [
             0.1111111111111111,
             "#46039f"
            ],
            [
             0.2222222222222222,
             "#7201a8"
            ],
            [
             0.3333333333333333,
             "#9c179e"
            ],
            [
             0.4444444444444444,
             "#bd3786"
            ],
            [
             0.5555555555555556,
             "#d8576b"
            ],
            [
             0.6666666666666666,
             "#ed7953"
            ],
            [
             0.7777777777777778,
             "#fb9f3a"
            ],
            [
             0.8888888888888888,
             "#fdca26"
            ],
            [
             1,
             "#f0f921"
            ]
           ],
           "sequentialminus": [
            [
             0,
             "#0d0887"
            ],
            [
             0.1111111111111111,
             "#46039f"
            ],
            [
             0.2222222222222222,
             "#7201a8"
            ],
            [
             0.3333333333333333,
             "#9c179e"
            ],
            [
             0.4444444444444444,
             "#bd3786"
            ],
            [
             0.5555555555555556,
             "#d8576b"
            ],
            [
             0.6666666666666666,
             "#ed7953"
            ],
            [
             0.7777777777777778,
             "#fb9f3a"
            ],
            [
             0.8888888888888888,
             "#fdca26"
            ],
            [
             1,
             "#f0f921"
            ]
           ]
          },
          "colorway": [
           "#636efa",
           "#EF553B",
           "#00cc96",
           "#ab63fa",
           "#FFA15A",
           "#19d3f3",
           "#FF6692",
           "#B6E880",
           "#FF97FF",
           "#FECB52"
          ],
          "font": {
           "color": "#2a3f5f"
          },
          "geo": {
           "bgcolor": "white",
           "lakecolor": "white",
           "landcolor": "#E5ECF6",
           "showlakes": true,
           "showland": true,
           "subunitcolor": "white"
          },
          "hoverlabel": {
           "align": "left"
          },
          "hovermode": "closest",
          "mapbox": {
           "style": "light"
          },
          "paper_bgcolor": "white",
          "plot_bgcolor": "#E5ECF6",
          "polar": {
           "angularaxis": {
            "gridcolor": "white",
            "linecolor": "white",
            "ticks": ""
           },
           "bgcolor": "#E5ECF6",
           "radialaxis": {
            "gridcolor": "white",
            "linecolor": "white",
            "ticks": ""
           }
          },
          "scene": {
           "xaxis": {
            "backgroundcolor": "#E5ECF6",
            "gridcolor": "white",
            "gridwidth": 2,
            "linecolor": "white",
            "showbackground": true,
            "ticks": "",
            "zerolinecolor": "white"
           },
           "yaxis": {
            "backgroundcolor": "#E5ECF6",
            "gridcolor": "white",
            "gridwidth": 2,
            "linecolor": "white",
            "showbackground": true,
            "ticks": "",
            "zerolinecolor": "white"
           },
           "zaxis": {
            "backgroundcolor": "#E5ECF6",
            "gridcolor": "white",
            "gridwidth": 2,
            "linecolor": "white",
            "showbackground": true,
            "ticks": "",
            "zerolinecolor": "white"
           }
          },
          "shapedefaults": {
           "line": {
            "color": "#2a3f5f"
           }
          },
          "ternary": {
           "aaxis": {
            "gridcolor": "white",
            "linecolor": "white",
            "ticks": ""
           },
           "baxis": {
            "gridcolor": "white",
            "linecolor": "white",
            "ticks": ""
           },
           "bgcolor": "#E5ECF6",
           "caxis": {
            "gridcolor": "white",
            "linecolor": "white",
            "ticks": ""
           }
          },
          "title": {
           "x": 0.05
          },
          "xaxis": {
           "automargin": true,
           "gridcolor": "white",
           "linecolor": "white",
           "ticks": "",
           "title": {
            "standoff": 15
           },
           "zerolinecolor": "white",
           "zerolinewidth": 2
          },
          "yaxis": {
           "automargin": true,
           "gridcolor": "white",
           "linecolor": "white",
           "ticks": "",
           "title": {
            "standoff": 15
           },
           "zerolinecolor": "white",
           "zerolinewidth": 2
          }
         }
        },
        "title": {
         "text": "Glia mask area (QC)"
        },
        "xaxis": {
         "anchor": "y",
         "domain": [
          0,
          1
         ],
         "title": {
          "text": "staining_id"
         }
        },
        "yaxis": {
         "anchor": "x",
         "domain": [
          0,
          1
         ],
         "title": {
          "text": "%_glia+_signal"
         }
        }
       }
      }
     },
     "metadata": {},
     "output_type": "display_data"
    }
   ],
   "source": [
    "# Create the plot\n",
    "fig = px.scatter(df, x='staining_id', y='%_glia+_signal',\n",
    "                 hover_data=['tissue_location','index'], title='Glia mask area (QC)')\n",
    "\n",
    "# Show the plot\n",
    "fig.show()"
   ]
  },
  {
   "cell_type": "markdown",
   "metadata": {},
   "source": [
    "We can observe there is a number of outliers in the glial and dna damage mask detection given the staining is suboptimal in some of the samples. I will filter the data to remove those suboptimal stains and just plot the optimal ones where the automated image analysis offers reliable results."
   ]
  },
  {
   "cell_type": "code",
   "execution_count": 151,
   "metadata": {},
   "outputs": [],
   "source": [
    "# Calculate mean area of the image occupied by glia+ signal\n",
    "glia_mask_area_mean = df['%_glia+_signal'].mean() \n",
    "\n",
    "# Calculate mean area of the image occupied by dna_damage_+ signal\n",
    "dna_damage_mask_area_mean = df['%_dna_damage_signal'].mean()  "
   ]
  },
  {
   "cell_type": "code",
   "execution_count": 152,
   "metadata": {},
   "outputs": [
    {
     "data": {
      "text/html": [
       "<div>\n",
       "<style scoped>\n",
       "    .dataframe tbody tr th:only-of-type {\n",
       "        vertical-align: middle;\n",
       "    }\n",
       "\n",
       "    .dataframe tbody tr th {\n",
       "        vertical-align: top;\n",
       "    }\n",
       "\n",
       "    .dataframe thead th {\n",
       "        text-align: right;\n",
       "    }\n",
       "</style>\n",
       "<table border=\"1\" class=\"dataframe\">\n",
       "  <thead>\n",
       "    <tr style=\"text-align: right;\">\n",
       "      <th></th>\n",
       "      <th>index</th>\n",
       "      <th>filename</th>\n",
       "      <th>avg_dna_damage_foci/glia_+</th>\n",
       "      <th>avg_dna_damage_foci/glia_+_damage_+</th>\n",
       "      <th>avg_dna_damage_foci/all_nuclei</th>\n",
       "      <th>avg_dna_damage_foci/all_nuclei_damage_+</th>\n",
       "      <th>nr_+_dna_damage_glia_nuclei</th>\n",
       "      <th>nr_-_dna_damage_glia_nuclei</th>\n",
       "      <th>nr_glia_+_nuclei</th>\n",
       "      <th>nr_total_nuclei</th>\n",
       "      <th>...</th>\n",
       "      <th>%_glia+_signal</th>\n",
       "      <th>tissue_location</th>\n",
       "      <th>staining_id</th>\n",
       "      <th>animal_id</th>\n",
       "      <th>sex</th>\n",
       "      <th>genotype</th>\n",
       "      <th>dna_damage_stain_quality_manual</th>\n",
       "      <th>glia_stain_quality_auto</th>\n",
       "      <th>dna_damage_stain_quality_auto</th>\n",
       "      <th>staining_qc_passed</th>\n",
       "    </tr>\n",
       "  </thead>\n",
       "  <tbody>\n",
       "    <tr>\n",
       "      <th>0</th>\n",
       "      <td>0</td>\n",
       "      <td>DSB Iba1 16_40X_CA1</td>\n",
       "      <td>0.568182</td>\n",
       "      <td>1.315789</td>\n",
       "      <td>0.840491</td>\n",
       "      <td>1.611765</td>\n",
       "      <td>57</td>\n",
       "      <td>75</td>\n",
       "      <td>132</td>\n",
       "      <td>163</td>\n",
       "      <td>...</td>\n",
       "      <td>88.633728</td>\n",
       "      <td>CA1</td>\n",
       "      <td>16</td>\n",
       "      <td>887</td>\n",
       "      <td>male</td>\n",
       "      <td>APP/PS1</td>\n",
       "      <td>poor</td>\n",
       "      <td>suboptimal</td>\n",
       "      <td>optimal</td>\n",
       "      <td>False</td>\n",
       "    </tr>\n",
       "    <tr>\n",
       "      <th>1</th>\n",
       "      <td>1</td>\n",
       "      <td>DSB Iba1 16_40X_CA3</td>\n",
       "      <td>2.722581</td>\n",
       "      <td>2.992908</td>\n",
       "      <td>4.049080</td>\n",
       "      <td>4.230769</td>\n",
       "      <td>141</td>\n",
       "      <td>14</td>\n",
       "      <td>155</td>\n",
       "      <td>163</td>\n",
       "      <td>...</td>\n",
       "      <td>96.349525</td>\n",
       "      <td>CA3</td>\n",
       "      <td>16</td>\n",
       "      <td>887</td>\n",
       "      <td>male</td>\n",
       "      <td>APP/PS1</td>\n",
       "      <td>poor</td>\n",
       "      <td>suboptimal</td>\n",
       "      <td>suboptimal</td>\n",
       "      <td>False</td>\n",
       "    </tr>\n",
       "    <tr>\n",
       "      <th>2</th>\n",
       "      <td>2</td>\n",
       "      <td>DSB Iba1 16_40X_CTX1</td>\n",
       "      <td>0.756757</td>\n",
       "      <td>1.647059</td>\n",
       "      <td>0.738739</td>\n",
       "      <td>1.822222</td>\n",
       "      <td>17</td>\n",
       "      <td>20</td>\n",
       "      <td>37</td>\n",
       "      <td>222</td>\n",
       "      <td>...</td>\n",
       "      <td>13.598442</td>\n",
       "      <td>CTX1</td>\n",
       "      <td>16</td>\n",
       "      <td>887</td>\n",
       "      <td>male</td>\n",
       "      <td>APP/PS1</td>\n",
       "      <td>poor</td>\n",
       "      <td>optimal</td>\n",
       "      <td>optimal</td>\n",
       "      <td>False</td>\n",
       "    </tr>\n",
       "    <tr>\n",
       "      <th>3</th>\n",
       "      <td>3</td>\n",
       "      <td>DSB Iba1 16_40X_CTX2</td>\n",
       "      <td>1.748899</td>\n",
       "      <td>1.821101</td>\n",
       "      <td>2.535270</td>\n",
       "      <td>2.588983</td>\n",
       "      <td>218</td>\n",
       "      <td>9</td>\n",
       "      <td>227</td>\n",
       "      <td>241</td>\n",
       "      <td>...</td>\n",
       "      <td>94.930744</td>\n",
       "      <td>CTX2</td>\n",
       "      <td>16</td>\n",
       "      <td>887</td>\n",
       "      <td>male</td>\n",
       "      <td>APP/PS1</td>\n",
       "      <td>poor</td>\n",
       "      <td>suboptimal</td>\n",
       "      <td>suboptimal</td>\n",
       "      <td>False</td>\n",
       "    </tr>\n",
       "    <tr>\n",
       "      <th>4</th>\n",
       "      <td>4</td>\n",
       "      <td>DSB Iba1 16_40X_CTX3</td>\n",
       "      <td>1.750000</td>\n",
       "      <td>1.866667</td>\n",
       "      <td>2.004785</td>\n",
       "      <td>2.277174</td>\n",
       "      <td>120</td>\n",
       "      <td>8</td>\n",
       "      <td>128</td>\n",
       "      <td>209</td>\n",
       "      <td>...</td>\n",
       "      <td>54.768944</td>\n",
       "      <td>CTX3</td>\n",
       "      <td>16</td>\n",
       "      <td>887</td>\n",
       "      <td>male</td>\n",
       "      <td>APP/PS1</td>\n",
       "      <td>poor</td>\n",
       "      <td>suboptimal</td>\n",
       "      <td>optimal</td>\n",
       "      <td>False</td>\n",
       "    </tr>\n",
       "  </tbody>\n",
       "</table>\n",
       "<p>5 rows × 21 columns</p>\n",
       "</div>"
      ],
      "text/plain": [
       "   index              filename  avg_dna_damage_foci/glia_+  \\\n",
       "0      0   DSB Iba1 16_40X_CA1                    0.568182   \n",
       "1      1   DSB Iba1 16_40X_CA3                    2.722581   \n",
       "2      2  DSB Iba1 16_40X_CTX1                    0.756757   \n",
       "3      3  DSB Iba1 16_40X_CTX2                    1.748899   \n",
       "4      4  DSB Iba1 16_40X_CTX3                    1.750000   \n",
       "\n",
       "   avg_dna_damage_foci/glia_+_damage_+  avg_dna_damage_foci/all_nuclei  \\\n",
       "0                             1.315789                        0.840491   \n",
       "1                             2.992908                        4.049080   \n",
       "2                             1.647059                        0.738739   \n",
       "3                             1.821101                        2.535270   \n",
       "4                             1.866667                        2.004785   \n",
       "\n",
       "   avg_dna_damage_foci/all_nuclei_damage_+  nr_+_dna_damage_glia_nuclei  \\\n",
       "0                                 1.611765                           57   \n",
       "1                                 4.230769                          141   \n",
       "2                                 1.822222                           17   \n",
       "3                                 2.588983                          218   \n",
       "4                                 2.277174                          120   \n",
       "\n",
       "   nr_-_dna_damage_glia_nuclei  nr_glia_+_nuclei  nr_total_nuclei  ...  \\\n",
       "0                           75               132              163  ...   \n",
       "1                           14               155              163  ...   \n",
       "2                           20                37              222  ...   \n",
       "3                            9               227              241  ...   \n",
       "4                            8               128              209  ...   \n",
       "\n",
       "   %_glia+_signal  tissue_location staining_id  animal_id   sex genotype  \\\n",
       "0       88.633728              CA1          16        887  male  APP/PS1   \n",
       "1       96.349525              CA3          16        887  male  APP/PS1   \n",
       "2       13.598442             CTX1          16        887  male  APP/PS1   \n",
       "3       94.930744             CTX2          16        887  male  APP/PS1   \n",
       "4       54.768944             CTX3          16        887  male  APP/PS1   \n",
       "\n",
       "  dna_damage_stain_quality_manual glia_stain_quality_auto  \\\n",
       "0                            poor              suboptimal   \n",
       "1                            poor              suboptimal   \n",
       "2                            poor                 optimal   \n",
       "3                            poor              suboptimal   \n",
       "4                            poor              suboptimal   \n",
       "\n",
       "  dna_damage_stain_quality_auto staining_qc_passed  \n",
       "0                       optimal              False  \n",
       "1                    suboptimal              False  \n",
       "2                       optimal              False  \n",
       "3                    suboptimal              False  \n",
       "4                       optimal              False  \n",
       "\n",
       "[5 rows x 21 columns]"
      ]
     },
     "execution_count": 152,
     "metadata": {},
     "output_type": "execute_result"
    }
   ],
   "source": [
    "# Define a function to determine staining quality\n",
    "def determine_stain_quality(value, mean_value):\n",
    "    if value < (mean_value + mean_value*0.55):\n",
    "        return \"optimal\"\n",
    "    else:\n",
    "        return \"suboptimal\"\n",
    "\n",
    "# Check stain quality for glia and create another column storing optimal or suboptimal if qc_passed or not    \n",
    "merged_df['glia_stain_quality_auto'] = merged_df['%_glia+_signal'].apply(lambda x: determine_stain_quality(x, glia_mask_area_mean))\n",
    "\n",
    "# Check stain quality for dna_damage and create another column storing optimal or suboptimal if qc_passed or not \n",
    "merged_df['dna_damage_stain_quality_auto'] = merged_df['%_dna_damage_signal'].apply(lambda x: determine_stain_quality(x, dna_damage_mask_area_mean))\n",
    "\n",
    "# Check for both stain qualities and store True qc_passed if both are optimal\n",
    "merged_df['staining_qc_passed'] = (merged_df['glia_stain_quality_auto'] == 'optimal') & (merged_df['dna_damage_stain_quality_auto'] == 'optimal')\n",
    "\n",
    "# Group the DataFrame by 'staining_id' and check if all 'staining_qc_passed' values are True, otherwise set them all to False\n",
    "merged_df['staining_qc_passed'] = merged_df.groupby('staining_id')['staining_qc_passed'].transform('all')\n",
    "\n",
    "# Now, if all 'staining_qc_passed' values for the same 'staining_id' were True, the column will remain True; otherwise, it will be False\n",
    "\n",
    "merged_df.head()"
   ]
  },
  {
   "cell_type": "code",
   "execution_count": 153,
   "metadata": {},
   "outputs": [
    {
     "name": "stdout",
     "output_type": "stream",
     "text": [
      "Cellpose nuclei diameter: 30\n",
      "Gaussian sigma: 6\n",
      "Dilation radius nuclei: 4\n",
      "Glia channel threshold: 20\n"
     ]
    }
   ],
   "source": [
    "# Extract numbers from the CSV path\n",
    "extracted_values = re.findall(r'\\d+', csv_path)\n",
    "\n",
    "# Dynamically assign the extracted values to variables\n",
    "if len(extracted_values) >= 4:\n",
    "    cellpose_nuclei_diameter = int(extracted_values[0])\n",
    "    gaussian_sigma = int(extracted_values[1])\n",
    "    dilation_radius_nuclei = int(extracted_values[2])\n",
    "    glia_channel_threshold = int(extracted_values[3])\n",
    "\n",
    "# Print the assigned analysis parameters\n",
    "print(f\"Cellpose nuclei diameter: {cellpose_nuclei_diameter}\")\n",
    "print(f\"Gaussian sigma: {gaussian_sigma}\")\n",
    "print(f\"Dilation radius nuclei: {dilation_radius_nuclei}\")\n",
    "print(f\"Glia channel threshold: {glia_channel_threshold}\")"
   ]
  },
  {
   "cell_type": "code",
   "execution_count": 154,
   "metadata": {},
   "outputs": [],
   "source": [
    "# Save a copy of the qc_failed dataframe as .csv\n",
    "merged_df.to_csv(f'qc_cellpdia{cellpose_nuclei_diameter}_sigma{gaussian_sigma}_dilrad{dilation_radius_nuclei}_gliathr{glia_channel_threshold}.csv', index=False)"
   ]
  },
  {
   "cell_type": "code",
   "execution_count": 156,
   "metadata": {},
   "outputs": [],
   "source": [
    "# Remove data from images with a poor quality stain (auto QC)\n",
    "auto_filtered_df = merged_df[merged_df['staining_qc_passed'] == True]"
   ]
  },
  {
   "cell_type": "code",
   "execution_count": 158,
   "metadata": {},
   "outputs": [
    {
     "data": {
      "application/vnd.plotly.v1+json": {
       "config": {
        "plotlyServerURL": "https://plot.ly"
       },
       "data": [
        {
         "alignmentgroup": "True",
         "hovertemplate": "genotype=APP/PS1 x Neil3 KO<br>tissue_location=%{x}<br>avg_dna_damage_foci/glia_+=%{y}<extra></extra>",
         "legendgroup": "APP/PS1 x Neil3 KO",
         "marker": {
          "color": "#636efa"
         },
         "name": "APP/PS1 x Neil3 KO",
         "notched": false,
         "offsetgroup": "APP/PS1 x Neil3 KO",
         "orientation": "v",
         "showlegend": true,
         "type": "box",
         "x": [
          "CA1",
          "CA3",
          "CTX1",
          "CTX2",
          "CTX3",
          "DG",
          "CA1",
          "CA3",
          "CTX1",
          "CTX2",
          "CTX3",
          "DG",
          "CA1",
          "CA3",
          "CTX1",
          "CTX2",
          "CTX3",
          "DG",
          "CA1",
          "CA3",
          "CTX1",
          "CTX2",
          "CTX3",
          "DG",
          "CA1",
          "CA3",
          "CTX1",
          "CTX2",
          "CTX3",
          "DG",
          "CA1",
          "CA3",
          "CTX1",
          "CTX2",
          "CTX3",
          "DG",
          "CA1",
          "CA3",
          "CTX1",
          "CTX2",
          "CTX3",
          "DG",
          "CA1",
          "CA3",
          "CTX1",
          "CTX2",
          "CTX3",
          "DG",
          "CA1",
          "CA3",
          "CTX1",
          "CTX2",
          "CTX3",
          "DG",
          "CA1",
          "CA3",
          "CTX1",
          "CTX2",
          "CTX3",
          "DG",
          "CA1",
          "CA3",
          "CTX1",
          "CTX2",
          "CTX3",
          "DG",
          "CA1",
          "CA3",
          "CTX1",
          "CTX2",
          "CTX3",
          "DG",
          "CA1",
          "CA3",
          "CTX1",
          "CTX2",
          "CTX3",
          "DG"
         ],
         "x0": " ",
         "xaxis": "x",
         "y": [
          0.6666666666666666,
          1.3333333333333333,
          0.3333333333333333,
          2.1538461538461537,
          0.6666666666666666,
          1.4,
          0.7777777777777778,
          0.5,
          1.1764705882352942,
          1.2727272727272727,
          1.6956521739130437,
          1.0588235294117647,
          0.3333333333333333,
          0.5,
          0.4285714285714285,
          1.0833333333333333,
          1,
          2.1578947368421053,
          1.5,
          1,
          1.1111111111111112,
          1.3043478260869563,
          0.8,
          0.6666666666666666,
          0.75,
          0.7142857142857143,
          0.7,
          1.0833333333333333,
          0.875,
          1.6666666666666667,
          0.6666666666666666,
          0.625,
          0.9047619047619048,
          0.8,
          1.4782608695652173,
          1,
          0,
          1,
          null,
          0,
          0.8,
          1,
          1.0909090909090908,
          0.6,
          0.631578947368421,
          0.8,
          0.5,
          1.3529411764705883,
          0.1764705882352941,
          0.0909090909090909,
          0,
          0.1764705882352941,
          0.6785714285714286,
          0.3333333333333333,
          0.7142857142857143,
          0.3333333333333333,
          0.2142857142857142,
          0.6190476190476191,
          0.4230769230769231,
          0.6666666666666666,
          0.8333333333333334,
          0.5,
          1.1428571428571428,
          0.8125,
          0.2857142857142857,
          1.7407407407407407,
          0.8,
          0.25,
          1.3571428571428572,
          1.2352941176470589,
          1.8,
          1,
          0.5,
          0,
          0.375,
          0.4666666666666667,
          0.4,
          1.2857142857142858
         ],
         "y0": " ",
         "yaxis": "y"
        },
        {
         "alignmentgroup": "True",
         "hovertemplate": "genotype=APP/PS1<br>tissue_location=%{x}<br>avg_dna_damage_foci/glia_+=%{y}<extra></extra>",
         "legendgroup": "APP/PS1",
         "marker": {
          "color": "#EF553B"
         },
         "name": "APP/PS1",
         "notched": false,
         "offsetgroup": "APP/PS1",
         "orientation": "v",
         "showlegend": true,
         "type": "box",
         "x": [
          "CA1",
          "CA3",
          "CTX1",
          "CTX2",
          "CTX3",
          "DG",
          "CA1",
          "CA3",
          "CTX1",
          "CTX2",
          "CTX3",
          "DG",
          "CA1",
          "CA3",
          "CTX1",
          "CTX2",
          "CTX3",
          "DG",
          "CA1",
          "CA3",
          "CTX1",
          "CTX2",
          "CTX3",
          "DG",
          "CA1",
          "CA3",
          "CTX1",
          "CTX2",
          "CTX3",
          "DG",
          "CA1",
          "CA3",
          "CTX1",
          "CTX2",
          "CTX3",
          "DG",
          "CA1",
          "CA3",
          "CTX1",
          "CTX2",
          "CTX3",
          "DG",
          "CA1",
          "CA3",
          "CTX1",
          "CTX2",
          "CTX3",
          "DG",
          "CA1",
          "CA3",
          "CTX1",
          "CTX2",
          "CTX3",
          "DG",
          "CA1",
          "CA3",
          "CTX1",
          "CTX2",
          "CTX3",
          "DG",
          "CA1",
          "CA3",
          "CTX1",
          "CTX2",
          "CTX3",
          "DG",
          "CA1",
          "CA3",
          "CTX1",
          "CTX2",
          "CTX3",
          "DG",
          "CA1",
          "CA3",
          "CTX1",
          "CTX2",
          "CTX3",
          "DG",
          "CA1",
          "CA3",
          "CTX1",
          "CTX2",
          "CTX3",
          "DG",
          "CA1",
          "CA3",
          "CTX1",
          "CTX2",
          "CTX3",
          "DG",
          "CA1",
          "CA3",
          "CTX1",
          "CTX2",
          "CTX3",
          "DG",
          "CA1",
          "CA3",
          "CTX1",
          "CTX2",
          "CTX3",
          "DG"
         ],
         "x0": " ",
         "xaxis": "x",
         "y": [
          1.2941176470588236,
          1.3333333333333333,
          1.7777777777777777,
          1.0555555555555556,
          0.6,
          1.6842105263157894,
          0.5,
          0.3333333333333333,
          0.45,
          0,
          0.7857142857142857,
          1.5,
          0,
          0,
          0,
          0.4615384615384615,
          0.0714285714285714,
          0,
          1,
          0.5714285714285714,
          0.9230769230769232,
          0.8571428571428571,
          1.5,
          2.1333333333333333,
          0,
          1.2,
          1.1176470588235294,
          0.5333333333333333,
          0.8333333333333334,
          1.25,
          0.5714285714285714,
          null,
          0.7272727272727273,
          0.5,
          0.5,
          1.5833333333333333,
          1,
          0.4,
          1.1578947368421053,
          1.3076923076923077,
          1.125,
          2.7142857142857144,
          0.8333333333333334,
          0.4444444444444444,
          1.4,
          1.3461538461538465,
          0.8148148148148148,
          2.5454545454545454,
          0.75,
          0.5,
          0,
          0,
          0.3333333333333333,
          1.2222222222222223,
          1,
          1,
          0.625,
          0.6923076923076923,
          0.5,
          1.25,
          0.5,
          0,
          1.5357142857142858,
          0.25,
          0.7333333333333333,
          2,
          1.5,
          null,
          1.2,
          1.2,
          0.85,
          1.4545454545454546,
          0.2631578947368421,
          0.25,
          0.4117647058823529,
          0.36,
          0.53125,
          1,
          1.125,
          0.75,
          1.4666666666666666,
          1.5714285714285714,
          0.8571428571428571,
          1.7777777777777777,
          1.25,
          null,
          0.5,
          0.7333333333333333,
          0.4615384615384615,
          0.7894736842105263,
          0.4,
          0.3333333333333333,
          0,
          0.5,
          0,
          0.9,
          0.7692307692307693,
          0.1111111111111111,
          0.6842105263157895,
          0.8636363636363636,
          0.3846153846153846,
          1.2105263157894737
         ],
         "y0": " ",
         "yaxis": "y"
        }
       ],
       "layout": {
        "boxmode": "group",
        "legend": {
         "title": {
          "text": "genotype"
         },
         "tracegroupgap": 0
        },
        "template": {
         "data": {
          "bar": [
           {
            "error_x": {
             "color": "#2a3f5f"
            },
            "error_y": {
             "color": "#2a3f5f"
            },
            "marker": {
             "line": {
              "color": "#E5ECF6",
              "width": 0.5
             },
             "pattern": {
              "fillmode": "overlay",
              "size": 10,
              "solidity": 0.2
             }
            },
            "type": "bar"
           }
          ],
          "barpolar": [
           {
            "marker": {
             "line": {
              "color": "#E5ECF6",
              "width": 0.5
             },
             "pattern": {
              "fillmode": "overlay",
              "size": 10,
              "solidity": 0.2
             }
            },
            "type": "barpolar"
           }
          ],
          "carpet": [
           {
            "aaxis": {
             "endlinecolor": "#2a3f5f",
             "gridcolor": "white",
             "linecolor": "white",
             "minorgridcolor": "white",
             "startlinecolor": "#2a3f5f"
            },
            "baxis": {
             "endlinecolor": "#2a3f5f",
             "gridcolor": "white",
             "linecolor": "white",
             "minorgridcolor": "white",
             "startlinecolor": "#2a3f5f"
            },
            "type": "carpet"
           }
          ],
          "choropleth": [
           {
            "colorbar": {
             "outlinewidth": 0,
             "ticks": ""
            },
            "type": "choropleth"
           }
          ],
          "contour": [
           {
            "colorbar": {
             "outlinewidth": 0,
             "ticks": ""
            },
            "colorscale": [
             [
              0,
              "#0d0887"
             ],
             [
              0.1111111111111111,
              "#46039f"
             ],
             [
              0.2222222222222222,
              "#7201a8"
             ],
             [
              0.3333333333333333,
              "#9c179e"
             ],
             [
              0.4444444444444444,
              "#bd3786"
             ],
             [
              0.5555555555555556,
              "#d8576b"
             ],
             [
              0.6666666666666666,
              "#ed7953"
             ],
             [
              0.7777777777777778,
              "#fb9f3a"
             ],
             [
              0.8888888888888888,
              "#fdca26"
             ],
             [
              1,
              "#f0f921"
             ]
            ],
            "type": "contour"
           }
          ],
          "contourcarpet": [
           {
            "colorbar": {
             "outlinewidth": 0,
             "ticks": ""
            },
            "type": "contourcarpet"
           }
          ],
          "heatmap": [
           {
            "colorbar": {
             "outlinewidth": 0,
             "ticks": ""
            },
            "colorscale": [
             [
              0,
              "#0d0887"
             ],
             [
              0.1111111111111111,
              "#46039f"
             ],
             [
              0.2222222222222222,
              "#7201a8"
             ],
             [
              0.3333333333333333,
              "#9c179e"
             ],
             [
              0.4444444444444444,
              "#bd3786"
             ],
             [
              0.5555555555555556,
              "#d8576b"
             ],
             [
              0.6666666666666666,
              "#ed7953"
             ],
             [
              0.7777777777777778,
              "#fb9f3a"
             ],
             [
              0.8888888888888888,
              "#fdca26"
             ],
             [
              1,
              "#f0f921"
             ]
            ],
            "type": "heatmap"
           }
          ],
          "heatmapgl": [
           {
            "colorbar": {
             "outlinewidth": 0,
             "ticks": ""
            },
            "colorscale": [
             [
              0,
              "#0d0887"
             ],
             [
              0.1111111111111111,
              "#46039f"
             ],
             [
              0.2222222222222222,
              "#7201a8"
             ],
             [
              0.3333333333333333,
              "#9c179e"
             ],
             [
              0.4444444444444444,
              "#bd3786"
             ],
             [
              0.5555555555555556,
              "#d8576b"
             ],
             [
              0.6666666666666666,
              "#ed7953"
             ],
             [
              0.7777777777777778,
              "#fb9f3a"
             ],
             [
              0.8888888888888888,
              "#fdca26"
             ],
             [
              1,
              "#f0f921"
             ]
            ],
            "type": "heatmapgl"
           }
          ],
          "histogram": [
           {
            "marker": {
             "pattern": {
              "fillmode": "overlay",
              "size": 10,
              "solidity": 0.2
             }
            },
            "type": "histogram"
           }
          ],
          "histogram2d": [
           {
            "colorbar": {
             "outlinewidth": 0,
             "ticks": ""
            },
            "colorscale": [
             [
              0,
              "#0d0887"
             ],
             [
              0.1111111111111111,
              "#46039f"
             ],
             [
              0.2222222222222222,
              "#7201a8"
             ],
             [
              0.3333333333333333,
              "#9c179e"
             ],
             [
              0.4444444444444444,
              "#bd3786"
             ],
             [
              0.5555555555555556,
              "#d8576b"
             ],
             [
              0.6666666666666666,
              "#ed7953"
             ],
             [
              0.7777777777777778,
              "#fb9f3a"
             ],
             [
              0.8888888888888888,
              "#fdca26"
             ],
             [
              1,
              "#f0f921"
             ]
            ],
            "type": "histogram2d"
           }
          ],
          "histogram2dcontour": [
           {
            "colorbar": {
             "outlinewidth": 0,
             "ticks": ""
            },
            "colorscale": [
             [
              0,
              "#0d0887"
             ],
             [
              0.1111111111111111,
              "#46039f"
             ],
             [
              0.2222222222222222,
              "#7201a8"
             ],
             [
              0.3333333333333333,
              "#9c179e"
             ],
             [
              0.4444444444444444,
              "#bd3786"
             ],
             [
              0.5555555555555556,
              "#d8576b"
             ],
             [
              0.6666666666666666,
              "#ed7953"
             ],
             [
              0.7777777777777778,
              "#fb9f3a"
             ],
             [
              0.8888888888888888,
              "#fdca26"
             ],
             [
              1,
              "#f0f921"
             ]
            ],
            "type": "histogram2dcontour"
           }
          ],
          "mesh3d": [
           {
            "colorbar": {
             "outlinewidth": 0,
             "ticks": ""
            },
            "type": "mesh3d"
           }
          ],
          "parcoords": [
           {
            "line": {
             "colorbar": {
              "outlinewidth": 0,
              "ticks": ""
             }
            },
            "type": "parcoords"
           }
          ],
          "pie": [
           {
            "automargin": true,
            "type": "pie"
           }
          ],
          "scatter": [
           {
            "fillpattern": {
             "fillmode": "overlay",
             "size": 10,
             "solidity": 0.2
            },
            "type": "scatter"
           }
          ],
          "scatter3d": [
           {
            "line": {
             "colorbar": {
              "outlinewidth": 0,
              "ticks": ""
             }
            },
            "marker": {
             "colorbar": {
              "outlinewidth": 0,
              "ticks": ""
             }
            },
            "type": "scatter3d"
           }
          ],
          "scattercarpet": [
           {
            "marker": {
             "colorbar": {
              "outlinewidth": 0,
              "ticks": ""
             }
            },
            "type": "scattercarpet"
           }
          ],
          "scattergeo": [
           {
            "marker": {
             "colorbar": {
              "outlinewidth": 0,
              "ticks": ""
             }
            },
            "type": "scattergeo"
           }
          ],
          "scattergl": [
           {
            "marker": {
             "colorbar": {
              "outlinewidth": 0,
              "ticks": ""
             }
            },
            "type": "scattergl"
           }
          ],
          "scattermapbox": [
           {
            "marker": {
             "colorbar": {
              "outlinewidth": 0,
              "ticks": ""
             }
            },
            "type": "scattermapbox"
           }
          ],
          "scatterpolar": [
           {
            "marker": {
             "colorbar": {
              "outlinewidth": 0,
              "ticks": ""
             }
            },
            "type": "scatterpolar"
           }
          ],
          "scatterpolargl": [
           {
            "marker": {
             "colorbar": {
              "outlinewidth": 0,
              "ticks": ""
             }
            },
            "type": "scatterpolargl"
           }
          ],
          "scatterternary": [
           {
            "marker": {
             "colorbar": {
              "outlinewidth": 0,
              "ticks": ""
             }
            },
            "type": "scatterternary"
           }
          ],
          "surface": [
           {
            "colorbar": {
             "outlinewidth": 0,
             "ticks": ""
            },
            "colorscale": [
             [
              0,
              "#0d0887"
             ],
             [
              0.1111111111111111,
              "#46039f"
             ],
             [
              0.2222222222222222,
              "#7201a8"
             ],
             [
              0.3333333333333333,
              "#9c179e"
             ],
             [
              0.4444444444444444,
              "#bd3786"
             ],
             [
              0.5555555555555556,
              "#d8576b"
             ],
             [
              0.6666666666666666,
              "#ed7953"
             ],
             [
              0.7777777777777778,
              "#fb9f3a"
             ],
             [
              0.8888888888888888,
              "#fdca26"
             ],
             [
              1,
              "#f0f921"
             ]
            ],
            "type": "surface"
           }
          ],
          "table": [
           {
            "cells": {
             "fill": {
              "color": "#EBF0F8"
             },
             "line": {
              "color": "white"
             }
            },
            "header": {
             "fill": {
              "color": "#C8D4E3"
             },
             "line": {
              "color": "white"
             }
            },
            "type": "table"
           }
          ]
         },
         "layout": {
          "annotationdefaults": {
           "arrowcolor": "#2a3f5f",
           "arrowhead": 0,
           "arrowwidth": 1
          },
          "autotypenumbers": "strict",
          "coloraxis": {
           "colorbar": {
            "outlinewidth": 0,
            "ticks": ""
           }
          },
          "colorscale": {
           "diverging": [
            [
             0,
             "#8e0152"
            ],
            [
             0.1,
             "#c51b7d"
            ],
            [
             0.2,
             "#de77ae"
            ],
            [
             0.3,
             "#f1b6da"
            ],
            [
             0.4,
             "#fde0ef"
            ],
            [
             0.5,
             "#f7f7f7"
            ],
            [
             0.6,
             "#e6f5d0"
            ],
            [
             0.7,
             "#b8e186"
            ],
            [
             0.8,
             "#7fbc41"
            ],
            [
             0.9,
             "#4d9221"
            ],
            [
             1,
             "#276419"
            ]
           ],
           "sequential": [
            [
             0,
             "#0d0887"
            ],
            [
             0.1111111111111111,
             "#46039f"
            ],
            [
             0.2222222222222222,
             "#7201a8"
            ],
            [
             0.3333333333333333,
             "#9c179e"
            ],
            [
             0.4444444444444444,
             "#bd3786"
            ],
            [
             0.5555555555555556,
             "#d8576b"
            ],
            [
             0.6666666666666666,
             "#ed7953"
            ],
            [
             0.7777777777777778,
             "#fb9f3a"
            ],
            [
             0.8888888888888888,
             "#fdca26"
            ],
            [
             1,
             "#f0f921"
            ]
           ],
           "sequentialminus": [
            [
             0,
             "#0d0887"
            ],
            [
             0.1111111111111111,
             "#46039f"
            ],
            [
             0.2222222222222222,
             "#7201a8"
            ],
            [
             0.3333333333333333,
             "#9c179e"
            ],
            [
             0.4444444444444444,
             "#bd3786"
            ],
            [
             0.5555555555555556,
             "#d8576b"
            ],
            [
             0.6666666666666666,
             "#ed7953"
            ],
            [
             0.7777777777777778,
             "#fb9f3a"
            ],
            [
             0.8888888888888888,
             "#fdca26"
            ],
            [
             1,
             "#f0f921"
            ]
           ]
          },
          "colorway": [
           "#636efa",
           "#EF553B",
           "#00cc96",
           "#ab63fa",
           "#FFA15A",
           "#19d3f3",
           "#FF6692",
           "#B6E880",
           "#FF97FF",
           "#FECB52"
          ],
          "font": {
           "color": "#2a3f5f"
          },
          "geo": {
           "bgcolor": "white",
           "lakecolor": "white",
           "landcolor": "#E5ECF6",
           "showlakes": true,
           "showland": true,
           "subunitcolor": "white"
          },
          "hoverlabel": {
           "align": "left"
          },
          "hovermode": "closest",
          "mapbox": {
           "style": "light"
          },
          "paper_bgcolor": "white",
          "plot_bgcolor": "#E5ECF6",
          "polar": {
           "angularaxis": {
            "gridcolor": "white",
            "linecolor": "white",
            "ticks": ""
           },
           "bgcolor": "#E5ECF6",
           "radialaxis": {
            "gridcolor": "white",
            "linecolor": "white",
            "ticks": ""
           }
          },
          "scene": {
           "xaxis": {
            "backgroundcolor": "#E5ECF6",
            "gridcolor": "white",
            "gridwidth": 2,
            "linecolor": "white",
            "showbackground": true,
            "ticks": "",
            "zerolinecolor": "white"
           },
           "yaxis": {
            "backgroundcolor": "#E5ECF6",
            "gridcolor": "white",
            "gridwidth": 2,
            "linecolor": "white",
            "showbackground": true,
            "ticks": "",
            "zerolinecolor": "white"
           },
           "zaxis": {
            "backgroundcolor": "#E5ECF6",
            "gridcolor": "white",
            "gridwidth": 2,
            "linecolor": "white",
            "showbackground": true,
            "ticks": "",
            "zerolinecolor": "white"
           }
          },
          "shapedefaults": {
           "line": {
            "color": "#2a3f5f"
           }
          },
          "ternary": {
           "aaxis": {
            "gridcolor": "white",
            "linecolor": "white",
            "ticks": ""
           },
           "baxis": {
            "gridcolor": "white",
            "linecolor": "white",
            "ticks": ""
           },
           "bgcolor": "#E5ECF6",
           "caxis": {
            "gridcolor": "white",
            "linecolor": "white",
            "ticks": ""
           }
          },
          "title": {
           "x": 0.05
          },
          "xaxis": {
           "automargin": true,
           "gridcolor": "white",
           "linecolor": "white",
           "ticks": "",
           "title": {
            "standoff": 15
           },
           "zerolinecolor": "white",
           "zerolinewidth": 2
          },
          "yaxis": {
           "automargin": true,
           "gridcolor": "white",
           "linecolor": "white",
           "ticks": "",
           "title": {
            "standoff": 15
           },
           "zerolinecolor": "white",
           "zerolinewidth": 2
          }
         }
        },
        "title": {
         "text": "DNA Damage in Glia Nuclei by Tissue Location and Genotype (sex-aggregated) - Auto stain QC - qc_cellpdia30_sigma6_dilrad4_gliathr20"
        },
        "xaxis": {
         "anchor": "y",
         "domain": [
          0,
          1
         ],
         "title": {
          "text": "tissue_location"
         }
        },
        "yaxis": {
         "anchor": "x",
         "domain": [
          0,
          1
         ],
         "title": {
          "text": "avg_dna_damage_foci/glia_+"
         }
        }
       }
      }
     },
     "metadata": {},
     "output_type": "display_data"
    }
   ],
   "source": [
    "# Create the boxplot\n",
    "fig = px.box(auto_filtered_df, x='tissue_location', y='avg_dna_damage_foci/glia_+',\n",
    "             color='genotype', # Different genotypes will be shown in different colors\n",
    "             title=f'DNA Damage in Glia Nuclei by Tissue Location and Genotype (sex-aggregated) - Auto stain QC - qc_cellpdia{cellpose_nuclei_diameter}_sigma{gaussian_sigma}_dilrad{dilation_radius_nuclei}_gliathr{glia_channel_threshold}')\n",
    "\n",
    "# Show the plot\n",
    "fig.show()"
   ]
  },
  {
   "cell_type": "code",
   "execution_count": 160,
   "metadata": {},
   "outputs": [
    {
     "data": {
      "application/vnd.plotly.v1+json": {
       "config": {
        "plotlyServerURL": "https://plot.ly"
       },
       "data": [
        {
         "alignmentgroup": "True",
         "hovertemplate": "genotype=APP/PS1 x Neil3 KO<br>tissue_location=%{x}<br>avg_dna_damage_foci/glia_+_damage_+=%{y}<extra></extra>",
         "legendgroup": "APP/PS1 x Neil3 KO",
         "marker": {
          "color": "#636efa"
         },
         "name": "APP/PS1 x Neil3 KO",
         "notched": false,
         "offsetgroup": "APP/PS1 x Neil3 KO",
         "orientation": "v",
         "showlegend": true,
         "type": "box",
         "x": [
          "CA1",
          "CA3",
          "CTX1",
          "CTX2",
          "CTX3",
          "DG",
          "CA1",
          "CA3",
          "CTX1",
          "CTX2",
          "CTX3",
          "DG",
          "CA1",
          "CA3",
          "CTX1",
          "CTX2",
          "CTX3",
          "DG",
          "CA1",
          "CA3",
          "CTX1",
          "CTX2",
          "CTX3",
          "DG",
          "CA1",
          "CA3",
          "CTX1",
          "CTX2",
          "CTX3",
          "DG",
          "CA1",
          "CA3",
          "CTX1",
          "CTX2",
          "CTX3",
          "DG",
          "CA1",
          "CA3",
          "CTX1",
          "CTX2",
          "CTX3",
          "DG",
          "CA1",
          "CA3",
          "CTX1",
          "CTX2",
          "CTX3",
          "DG",
          "CA1",
          "CA3",
          "CTX1",
          "CTX2",
          "CTX3",
          "DG",
          "CA1",
          "CA3",
          "CTX1",
          "CTX2",
          "CTX3",
          "DG",
          "CA1",
          "CA3",
          "CTX1",
          "CTX2",
          "CTX3",
          "DG",
          "CA1",
          "CA3",
          "CTX1",
          "CTX2",
          "CTX3",
          "DG",
          "CA1",
          "CA3",
          "CTX1",
          "CTX2",
          "CTX3",
          "DG"
         ],
         "x0": " ",
         "xaxis": "x",
         "y": [
          1.3333333333333333,
          2,
          1,
          2.333333333333333,
          2,
          1.75,
          1.4,
          1,
          1.818181818181818,
          1.5555555555555556,
          2.0526315789473686,
          1.5,
          1,
          1,
          1.5,
          1.8571428571428568,
          1.2857142857142858,
          2.5625,
          2.25,
          1.3333333333333333,
          1.6666666666666667,
          1.875,
          1,
          1.5,
          1.5,
          1.25,
          1.75,
          1.625,
          1.4,
          3,
          1,
          1,
          1.5833333333333333,
          1.7142857142857142,
          1.619047619047619,
          1.5,
          null,
          1,
          null,
          null,
          1.3333333333333333,
          1,
          1.5,
          1,
          1.3333333333333333,
          1.6666666666666667,
          1.6666666666666667,
          1.9166666666666667,
          1,
          1,
          null,
          1,
          1.4615384615384617,
          1.2,
          1.25,
          1,
          1.5,
          1.3,
          1.375,
          1.1666666666666667,
          1.4285714285714286,
          1,
          1.4545454545454546,
          1.181818181818182,
          1,
          2.611111111111111,
          1.3333333333333333,
          1,
          1.9,
          1.75,
          2.25,
          1.5,
          1,
          null,
          1,
          1,
          1.1428571428571428,
          1.5
         ],
         "y0": " ",
         "yaxis": "y"
        },
        {
         "alignmentgroup": "True",
         "hovertemplate": "genotype=APP/PS1<br>tissue_location=%{x}<br>avg_dna_damage_foci/glia_+_damage_+=%{y}<extra></extra>",
         "legendgroup": "APP/PS1",
         "marker": {
          "color": "#EF553B"
         },
         "name": "APP/PS1",
         "notched": false,
         "offsetgroup": "APP/PS1",
         "orientation": "v",
         "showlegend": true,
         "type": "box",
         "x": [
          "CA1",
          "CA3",
          "CTX1",
          "CTX2",
          "CTX3",
          "DG",
          "CA1",
          "CA3",
          "CTX1",
          "CTX2",
          "CTX3",
          "DG",
          "CA1",
          "CA3",
          "CTX1",
          "CTX2",
          "CTX3",
          "DG",
          "CA1",
          "CA3",
          "CTX1",
          "CTX2",
          "CTX3",
          "DG",
          "CA1",
          "CA3",
          "CTX1",
          "CTX2",
          "CTX3",
          "DG",
          "CA1",
          "CA3",
          "CTX1",
          "CTX2",
          "CTX3",
          "DG",
          "CA1",
          "CA3",
          "CTX1",
          "CTX2",
          "CTX3",
          "DG",
          "CA1",
          "CA3",
          "CTX1",
          "CTX2",
          "CTX3",
          "DG",
          "CA1",
          "CA3",
          "CTX1",
          "CTX2",
          "CTX3",
          "DG",
          "CA1",
          "CA3",
          "CTX1",
          "CTX2",
          "CTX3",
          "DG",
          "CA1",
          "CA3",
          "CTX1",
          "CTX2",
          "CTX3",
          "DG",
          "CA1",
          "CA3",
          "CTX1",
          "CTX2",
          "CTX3",
          "DG",
          "CA1",
          "CA3",
          "CTX1",
          "CTX2",
          "CTX3",
          "DG",
          "CA1",
          "CA3",
          "CTX1",
          "CTX2",
          "CTX3",
          "DG",
          "CA1",
          "CA3",
          "CTX1",
          "CTX2",
          "CTX3",
          "DG",
          "CA1",
          "CA3",
          "CTX1",
          "CTX2",
          "CTX3",
          "DG",
          "CA1",
          "CA3",
          "CTX1",
          "CTX2",
          "CTX3",
          "DG"
         ],
         "x0": " ",
         "xaxis": "x",
         "y": [
          2,
          1.6,
          3.2,
          2.111111111111111,
          1.5,
          2,
          2,
          1,
          1.2857142857142858,
          null,
          1.2222222222222223,
          3,
          null,
          null,
          null,
          1.2,
          1,
          null,
          1.5,
          1.3333333333333333,
          1.3333333333333333,
          1.3333333333333333,
          2.25,
          2.4615384615384617,
          null,
          2,
          2.111111111111111,
          1.6,
          2,
          1.6666666666666667,
          1,
          null,
          2,
          1.3333333333333333,
          1.3333333333333333,
          2.111111111111111,
          1.5,
          2,
          1.5714285714285714,
          2,
          1.2857142857142858,
          3.1666666666666665,
          1.25,
          1,
          1.9090909090909087,
          1.6666666666666667,
          1.6923076923076923,
          3.5,
          3,
          1,
          null,
          null,
          1,
          1.5714285714285714,
          1,
          2,
          1.6666666666666667,
          1.2857142857142858,
          1,
          1.6666666666666667,
          1.5,
          null,
          2.5294117647058822,
          1.25,
          1.375,
          2.074074074074074,
          2.25,
          null,
          1.7142857142857142,
          1.8461538461538465,
          1.4166666666666667,
          2,
          1.25,
          1,
          1.75,
          1.2857142857142858,
          1.4166666666666667,
          1.8888888888888888,
          1.5,
          1,
          2,
          2,
          1.5,
          1.8823529411764703,
          1.6666666666666667,
          null,
          1.1428571428571428,
          1.5714285714285714,
          1,
          1.6666666666666667,
          1,
          1,
          null,
          1.5,
          null,
          1.2857142857142858,
          1.6666666666666667,
          1,
          1.4444444444444444,
          1.3571428571428572,
          1.1111111111111112,
          1.6428571428571428
         ],
         "y0": " ",
         "yaxis": "y"
        }
       ],
       "layout": {
        "boxmode": "group",
        "legend": {
         "title": {
          "text": "genotype"
         },
         "tracegroupgap": 0
        },
        "template": {
         "data": {
          "bar": [
           {
            "error_x": {
             "color": "#2a3f5f"
            },
            "error_y": {
             "color": "#2a3f5f"
            },
            "marker": {
             "line": {
              "color": "#E5ECF6",
              "width": 0.5
             },
             "pattern": {
              "fillmode": "overlay",
              "size": 10,
              "solidity": 0.2
             }
            },
            "type": "bar"
           }
          ],
          "barpolar": [
           {
            "marker": {
             "line": {
              "color": "#E5ECF6",
              "width": 0.5
             },
             "pattern": {
              "fillmode": "overlay",
              "size": 10,
              "solidity": 0.2
             }
            },
            "type": "barpolar"
           }
          ],
          "carpet": [
           {
            "aaxis": {
             "endlinecolor": "#2a3f5f",
             "gridcolor": "white",
             "linecolor": "white",
             "minorgridcolor": "white",
             "startlinecolor": "#2a3f5f"
            },
            "baxis": {
             "endlinecolor": "#2a3f5f",
             "gridcolor": "white",
             "linecolor": "white",
             "minorgridcolor": "white",
             "startlinecolor": "#2a3f5f"
            },
            "type": "carpet"
           }
          ],
          "choropleth": [
           {
            "colorbar": {
             "outlinewidth": 0,
             "ticks": ""
            },
            "type": "choropleth"
           }
          ],
          "contour": [
           {
            "colorbar": {
             "outlinewidth": 0,
             "ticks": ""
            },
            "colorscale": [
             [
              0,
              "#0d0887"
             ],
             [
              0.1111111111111111,
              "#46039f"
             ],
             [
              0.2222222222222222,
              "#7201a8"
             ],
             [
              0.3333333333333333,
              "#9c179e"
             ],
             [
              0.4444444444444444,
              "#bd3786"
             ],
             [
              0.5555555555555556,
              "#d8576b"
             ],
             [
              0.6666666666666666,
              "#ed7953"
             ],
             [
              0.7777777777777778,
              "#fb9f3a"
             ],
             [
              0.8888888888888888,
              "#fdca26"
             ],
             [
              1,
              "#f0f921"
             ]
            ],
            "type": "contour"
           }
          ],
          "contourcarpet": [
           {
            "colorbar": {
             "outlinewidth": 0,
             "ticks": ""
            },
            "type": "contourcarpet"
           }
          ],
          "heatmap": [
           {
            "colorbar": {
             "outlinewidth": 0,
             "ticks": ""
            },
            "colorscale": [
             [
              0,
              "#0d0887"
             ],
             [
              0.1111111111111111,
              "#46039f"
             ],
             [
              0.2222222222222222,
              "#7201a8"
             ],
             [
              0.3333333333333333,
              "#9c179e"
             ],
             [
              0.4444444444444444,
              "#bd3786"
             ],
             [
              0.5555555555555556,
              "#d8576b"
             ],
             [
              0.6666666666666666,
              "#ed7953"
             ],
             [
              0.7777777777777778,
              "#fb9f3a"
             ],
             [
              0.8888888888888888,
              "#fdca26"
             ],
             [
              1,
              "#f0f921"
             ]
            ],
            "type": "heatmap"
           }
          ],
          "heatmapgl": [
           {
            "colorbar": {
             "outlinewidth": 0,
             "ticks": ""
            },
            "colorscale": [
             [
              0,
              "#0d0887"
             ],
             [
              0.1111111111111111,
              "#46039f"
             ],
             [
              0.2222222222222222,
              "#7201a8"
             ],
             [
              0.3333333333333333,
              "#9c179e"
             ],
             [
              0.4444444444444444,
              "#bd3786"
             ],
             [
              0.5555555555555556,
              "#d8576b"
             ],
             [
              0.6666666666666666,
              "#ed7953"
             ],
             [
              0.7777777777777778,
              "#fb9f3a"
             ],
             [
              0.8888888888888888,
              "#fdca26"
             ],
             [
              1,
              "#f0f921"
             ]
            ],
            "type": "heatmapgl"
           }
          ],
          "histogram": [
           {
            "marker": {
             "pattern": {
              "fillmode": "overlay",
              "size": 10,
              "solidity": 0.2
             }
            },
            "type": "histogram"
           }
          ],
          "histogram2d": [
           {
            "colorbar": {
             "outlinewidth": 0,
             "ticks": ""
            },
            "colorscale": [
             [
              0,
              "#0d0887"
             ],
             [
              0.1111111111111111,
              "#46039f"
             ],
             [
              0.2222222222222222,
              "#7201a8"
             ],
             [
              0.3333333333333333,
              "#9c179e"
             ],
             [
              0.4444444444444444,
              "#bd3786"
             ],
             [
              0.5555555555555556,
              "#d8576b"
             ],
             [
              0.6666666666666666,
              "#ed7953"
             ],
             [
              0.7777777777777778,
              "#fb9f3a"
             ],
             [
              0.8888888888888888,
              "#fdca26"
             ],
             [
              1,
              "#f0f921"
             ]
            ],
            "type": "histogram2d"
           }
          ],
          "histogram2dcontour": [
           {
            "colorbar": {
             "outlinewidth": 0,
             "ticks": ""
            },
            "colorscale": [
             [
              0,
              "#0d0887"
             ],
             [
              0.1111111111111111,
              "#46039f"
             ],
             [
              0.2222222222222222,
              "#7201a8"
             ],
             [
              0.3333333333333333,
              "#9c179e"
             ],
             [
              0.4444444444444444,
              "#bd3786"
             ],
             [
              0.5555555555555556,
              "#d8576b"
             ],
             [
              0.6666666666666666,
              "#ed7953"
             ],
             [
              0.7777777777777778,
              "#fb9f3a"
             ],
             [
              0.8888888888888888,
              "#fdca26"
             ],
             [
              1,
              "#f0f921"
             ]
            ],
            "type": "histogram2dcontour"
           }
          ],
          "mesh3d": [
           {
            "colorbar": {
             "outlinewidth": 0,
             "ticks": ""
            },
            "type": "mesh3d"
           }
          ],
          "parcoords": [
           {
            "line": {
             "colorbar": {
              "outlinewidth": 0,
              "ticks": ""
             }
            },
            "type": "parcoords"
           }
          ],
          "pie": [
           {
            "automargin": true,
            "type": "pie"
           }
          ],
          "scatter": [
           {
            "fillpattern": {
             "fillmode": "overlay",
             "size": 10,
             "solidity": 0.2
            },
            "type": "scatter"
           }
          ],
          "scatter3d": [
           {
            "line": {
             "colorbar": {
              "outlinewidth": 0,
              "ticks": ""
             }
            },
            "marker": {
             "colorbar": {
              "outlinewidth": 0,
              "ticks": ""
             }
            },
            "type": "scatter3d"
           }
          ],
          "scattercarpet": [
           {
            "marker": {
             "colorbar": {
              "outlinewidth": 0,
              "ticks": ""
             }
            },
            "type": "scattercarpet"
           }
          ],
          "scattergeo": [
           {
            "marker": {
             "colorbar": {
              "outlinewidth": 0,
              "ticks": ""
             }
            },
            "type": "scattergeo"
           }
          ],
          "scattergl": [
           {
            "marker": {
             "colorbar": {
              "outlinewidth": 0,
              "ticks": ""
             }
            },
            "type": "scattergl"
           }
          ],
          "scattermapbox": [
           {
            "marker": {
             "colorbar": {
              "outlinewidth": 0,
              "ticks": ""
             }
            },
            "type": "scattermapbox"
           }
          ],
          "scatterpolar": [
           {
            "marker": {
             "colorbar": {
              "outlinewidth": 0,
              "ticks": ""
             }
            },
            "type": "scatterpolar"
           }
          ],
          "scatterpolargl": [
           {
            "marker": {
             "colorbar": {
              "outlinewidth": 0,
              "ticks": ""
             }
            },
            "type": "scatterpolargl"
           }
          ],
          "scatterternary": [
           {
            "marker": {
             "colorbar": {
              "outlinewidth": 0,
              "ticks": ""
             }
            },
            "type": "scatterternary"
           }
          ],
          "surface": [
           {
            "colorbar": {
             "outlinewidth": 0,
             "ticks": ""
            },
            "colorscale": [
             [
              0,
              "#0d0887"
             ],
             [
              0.1111111111111111,
              "#46039f"
             ],
             [
              0.2222222222222222,
              "#7201a8"
             ],
             [
              0.3333333333333333,
              "#9c179e"
             ],
             [
              0.4444444444444444,
              "#bd3786"
             ],
             [
              0.5555555555555556,
              "#d8576b"
             ],
             [
              0.6666666666666666,
              "#ed7953"
             ],
             [
              0.7777777777777778,
              "#fb9f3a"
             ],
             [
              0.8888888888888888,
              "#fdca26"
             ],
             [
              1,
              "#f0f921"
             ]
            ],
            "type": "surface"
           }
          ],
          "table": [
           {
            "cells": {
             "fill": {
              "color": "#EBF0F8"
             },
             "line": {
              "color": "white"
             }
            },
            "header": {
             "fill": {
              "color": "#C8D4E3"
             },
             "line": {
              "color": "white"
             }
            },
            "type": "table"
           }
          ]
         },
         "layout": {
          "annotationdefaults": {
           "arrowcolor": "#2a3f5f",
           "arrowhead": 0,
           "arrowwidth": 1
          },
          "autotypenumbers": "strict",
          "coloraxis": {
           "colorbar": {
            "outlinewidth": 0,
            "ticks": ""
           }
          },
          "colorscale": {
           "diverging": [
            [
             0,
             "#8e0152"
            ],
            [
             0.1,
             "#c51b7d"
            ],
            [
             0.2,
             "#de77ae"
            ],
            [
             0.3,
             "#f1b6da"
            ],
            [
             0.4,
             "#fde0ef"
            ],
            [
             0.5,
             "#f7f7f7"
            ],
            [
             0.6,
             "#e6f5d0"
            ],
            [
             0.7,
             "#b8e186"
            ],
            [
             0.8,
             "#7fbc41"
            ],
            [
             0.9,
             "#4d9221"
            ],
            [
             1,
             "#276419"
            ]
           ],
           "sequential": [
            [
             0,
             "#0d0887"
            ],
            [
             0.1111111111111111,
             "#46039f"
            ],
            [
             0.2222222222222222,
             "#7201a8"
            ],
            [
             0.3333333333333333,
             "#9c179e"
            ],
            [
             0.4444444444444444,
             "#bd3786"
            ],
            [
             0.5555555555555556,
             "#d8576b"
            ],
            [
             0.6666666666666666,
             "#ed7953"
            ],
            [
             0.7777777777777778,
             "#fb9f3a"
            ],
            [
             0.8888888888888888,
             "#fdca26"
            ],
            [
             1,
             "#f0f921"
            ]
           ],
           "sequentialminus": [
            [
             0,
             "#0d0887"
            ],
            [
             0.1111111111111111,
             "#46039f"
            ],
            [
             0.2222222222222222,
             "#7201a8"
            ],
            [
             0.3333333333333333,
             "#9c179e"
            ],
            [
             0.4444444444444444,
             "#bd3786"
            ],
            [
             0.5555555555555556,
             "#d8576b"
            ],
            [
             0.6666666666666666,
             "#ed7953"
            ],
            [
             0.7777777777777778,
             "#fb9f3a"
            ],
            [
             0.8888888888888888,
             "#fdca26"
            ],
            [
             1,
             "#f0f921"
            ]
           ]
          },
          "colorway": [
           "#636efa",
           "#EF553B",
           "#00cc96",
           "#ab63fa",
           "#FFA15A",
           "#19d3f3",
           "#FF6692",
           "#B6E880",
           "#FF97FF",
           "#FECB52"
          ],
          "font": {
           "color": "#2a3f5f"
          },
          "geo": {
           "bgcolor": "white",
           "lakecolor": "white",
           "landcolor": "#E5ECF6",
           "showlakes": true,
           "showland": true,
           "subunitcolor": "white"
          },
          "hoverlabel": {
           "align": "left"
          },
          "hovermode": "closest",
          "mapbox": {
           "style": "light"
          },
          "paper_bgcolor": "white",
          "plot_bgcolor": "#E5ECF6",
          "polar": {
           "angularaxis": {
            "gridcolor": "white",
            "linecolor": "white",
            "ticks": ""
           },
           "bgcolor": "#E5ECF6",
           "radialaxis": {
            "gridcolor": "white",
            "linecolor": "white",
            "ticks": ""
           }
          },
          "scene": {
           "xaxis": {
            "backgroundcolor": "#E5ECF6",
            "gridcolor": "white",
            "gridwidth": 2,
            "linecolor": "white",
            "showbackground": true,
            "ticks": "",
            "zerolinecolor": "white"
           },
           "yaxis": {
            "backgroundcolor": "#E5ECF6",
            "gridcolor": "white",
            "gridwidth": 2,
            "linecolor": "white",
            "showbackground": true,
            "ticks": "",
            "zerolinecolor": "white"
           },
           "zaxis": {
            "backgroundcolor": "#E5ECF6",
            "gridcolor": "white",
            "gridwidth": 2,
            "linecolor": "white",
            "showbackground": true,
            "ticks": "",
            "zerolinecolor": "white"
           }
          },
          "shapedefaults": {
           "line": {
            "color": "#2a3f5f"
           }
          },
          "ternary": {
           "aaxis": {
            "gridcolor": "white",
            "linecolor": "white",
            "ticks": ""
           },
           "baxis": {
            "gridcolor": "white",
            "linecolor": "white",
            "ticks": ""
           },
           "bgcolor": "#E5ECF6",
           "caxis": {
            "gridcolor": "white",
            "linecolor": "white",
            "ticks": ""
           }
          },
          "title": {
           "x": 0.05
          },
          "xaxis": {
           "automargin": true,
           "gridcolor": "white",
           "linecolor": "white",
           "ticks": "",
           "title": {
            "standoff": 15
           },
           "zerolinecolor": "white",
           "zerolinewidth": 2
          },
          "yaxis": {
           "automargin": true,
           "gridcolor": "white",
           "linecolor": "white",
           "ticks": "",
           "title": {
            "standoff": 15
           },
           "zerolinecolor": "white",
           "zerolinewidth": 2
          }
         }
        },
        "title": {
         "text": "DNA Damage in Damaged Glia Nuclei by Tissue Location and Genotype (sex-aggregated) - Auto stain QC - qc_cellpdia30_sigma6_dilrad4_gliathr20"
        },
        "xaxis": {
         "anchor": "y",
         "domain": [
          0,
          1
         ],
         "title": {
          "text": "tissue_location"
         }
        },
        "yaxis": {
         "anchor": "x",
         "domain": [
          0,
          1
         ],
         "title": {
          "text": "avg_dna_damage_foci/glia_+_damage_+"
         }
        }
       }
      }
     },
     "metadata": {},
     "output_type": "display_data"
    }
   ],
   "source": [
    "# Create the boxplot\n",
    "fig = px.box(auto_filtered_df, x='tissue_location', y='avg_dna_damage_foci/glia_+_damage_+',\n",
    "             color='genotype', # Different genotypes will be shown in different colors\n",
    "             title=f'DNA Damage in Damaged Glia Nuclei by Tissue Location and Genotype (sex-aggregated) - Auto stain QC - qc_cellpdia{cellpose_nuclei_diameter}_sigma{gaussian_sigma}_dilrad{dilation_radius_nuclei}_gliathr{glia_channel_threshold}')\n",
    "\n",
    "# Show the plot\n",
    "fig.show()"
   ]
  },
  {
   "cell_type": "code",
   "execution_count": 162,
   "metadata": {},
   "outputs": [
    {
     "data": {
      "application/vnd.plotly.v1+json": {
       "config": {
        "plotlyServerURL": "https://plot.ly"
       },
       "data": [
        {
         "alignmentgroup": "True",
         "hovertemplate": "genotype=APP/PS1 x Neil3 KO<br>tissue_location=%{x}<br>avg_dna_damage_foci/all_nuclei=%{y}<extra></extra>",
         "legendgroup": "APP/PS1 x Neil3 KO",
         "marker": {
          "color": "#636efa"
         },
         "name": "APP/PS1 x Neil3 KO",
         "notched": false,
         "offsetgroup": "APP/PS1 x Neil3 KO",
         "orientation": "v",
         "showlegend": true,
         "type": "box",
         "x": [
          "CA1",
          "CA3",
          "CTX1",
          "CTX2",
          "CTX3",
          "DG",
          "CA1",
          "CA3",
          "CTX1",
          "CTX2",
          "CTX3",
          "DG",
          "CA1",
          "CA3",
          "CTX1",
          "CTX2",
          "CTX3",
          "DG",
          "CA1",
          "CA3",
          "CTX1",
          "CTX2",
          "CTX3",
          "DG",
          "CA1",
          "CA3",
          "CTX1",
          "CTX2",
          "CTX3",
          "DG",
          "CA1",
          "CA3",
          "CTX1",
          "CTX2",
          "CTX3",
          "DG",
          "CA1",
          "CA3",
          "CTX1",
          "CTX2",
          "CTX3",
          "DG",
          "CA1",
          "CA3",
          "CTX1",
          "CTX2",
          "CTX3",
          "DG",
          "CA1",
          "CA3",
          "CTX1",
          "CTX2",
          "CTX3",
          "DG",
          "CA1",
          "CA3",
          "CTX1",
          "CTX2",
          "CTX3",
          "DG",
          "CA1",
          "CA3",
          "CTX1",
          "CTX2",
          "CTX3",
          "DG",
          "CA1",
          "CA3",
          "CTX1",
          "CTX2",
          "CTX3",
          "DG",
          "CA1",
          "CA3",
          "CTX1",
          "CTX2",
          "CTX3",
          "DG"
         ],
         "x0": " ",
         "xaxis": "x",
         "y": [
          0.7322834645669292,
          1.319148936170213,
          0.5695364238410596,
          1.1654676258992809,
          0.6438356164383562,
          1.5905511811023625,
          0.9026548672566372,
          0.967741935483871,
          0.6702702702702703,
          0.7746478873239436,
          1.1304347826086956,
          1.3522267206477734,
          1.1372549019607845,
          0.6129032258064516,
          0.7395833333333334,
          1.0053475935828875,
          1.326530612244898,
          2.668103448275862,
          0.8114754098360656,
          0.6509433962264151,
          0.8426966292134831,
          1.2295081967213115,
          0.6025641025641025,
          1.1494252873563218,
          0.8421052631578947,
          0.994011976047904,
          0.6878048780487804,
          1.3144329896907216,
          0.8783783783783784,
          1.735191637630662,
          0.4173228346456692,
          0.7088607594936709,
          0.65625,
          0.6451612903225806,
          0.7176470588235294,
          1.2698412698412698,
          0.72,
          0.5058823529411764,
          0.1052631578947368,
          0.1604938271604938,
          0.2123893805309734,
          1.2656826568265682,
          2.306451612903226,
          1.592,
          0.601010101010101,
          0.4680851063829787,
          0.5027932960893855,
          2.387832699619772,
          0.2450980392156862,
          0.5221238938053098,
          0.0179372197309417,
          0.2239583333333333,
          0.8171428571428572,
          0.4423963133640553,
          0.4385964912280701,
          0.6,
          0.3493975903614458,
          0.4785276073619632,
          0.5683060109289617,
          0.6606334841628959,
          1.2205882352941178,
          3.4296296296296296,
          0.3684210526315789,
          0.4078947368421052,
          0.1509433962264151,
          2.1517857142857144,
          0.7142857142857143,
          0.845360824742268,
          0.6864406779661016,
          0.868421052631579,
          0.6226415094339622,
          0.895397489539749,
          0.7089552238805971,
          0.4794520547945205,
          0.6492146596858639,
          0.4491525423728814,
          0.4307692307692308,
          1.2644628099173554
         ],
         "y0": " ",
         "yaxis": "y"
        },
        {
         "alignmentgroup": "True",
         "hovertemplate": "genotype=APP/PS1<br>tissue_location=%{x}<br>avg_dna_damage_foci/all_nuclei=%{y}<extra></extra>",
         "legendgroup": "APP/PS1",
         "marker": {
          "color": "#EF553B"
         },
         "name": "APP/PS1",
         "notched": false,
         "offsetgroup": "APP/PS1",
         "orientation": "v",
         "showlegend": true,
         "type": "box",
         "x": [
          "CA1",
          "CA3",
          "CTX1",
          "CTX2",
          "CTX3",
          "DG",
          "CA1",
          "CA3",
          "CTX1",
          "CTX2",
          "CTX3",
          "DG",
          "CA1",
          "CA3",
          "CTX1",
          "CTX2",
          "CTX3",
          "DG",
          "CA1",
          "CA3",
          "CTX1",
          "CTX2",
          "CTX3",
          "DG",
          "CA1",
          "CA3",
          "CTX1",
          "CTX2",
          "CTX3",
          "DG",
          "CA1",
          "CA3",
          "CTX1",
          "CTX2",
          "CTX3",
          "DG",
          "CA1",
          "CA3",
          "CTX1",
          "CTX2",
          "CTX3",
          "DG",
          "CA1",
          "CA3",
          "CTX1",
          "CTX2",
          "CTX3",
          "DG",
          "CA1",
          "CA3",
          "CTX1",
          "CTX2",
          "CTX3",
          "DG",
          "CA1",
          "CA3",
          "CTX1",
          "CTX2",
          "CTX3",
          "DG",
          "CA1",
          "CA3",
          "CTX1",
          "CTX2",
          "CTX3",
          "DG",
          "CA1",
          "CA3",
          "CTX1",
          "CTX2",
          "CTX3",
          "DG",
          "CA1",
          "CA3",
          "CTX1",
          "CTX2",
          "CTX3",
          "DG",
          "CA1",
          "CA3",
          "CTX1",
          "CTX2",
          "CTX3",
          "DG",
          "CA1",
          "CA3",
          "CTX1",
          "CTX2",
          "CTX3",
          "DG",
          "CA1",
          "CA3",
          "CTX1",
          "CTX2",
          "CTX3",
          "DG",
          "CA1",
          "CA3",
          "CTX1",
          "CTX2",
          "CTX3",
          "DG"
         ],
         "x0": " ",
         "xaxis": "x",
         "y": [
          1.437956204379562,
          1.2564102564102564,
          1.353191489361702,
          1.1229508196721312,
          0.4236111111111111,
          1.8681672025723477,
          0.7241379310344828,
          0.7738095238095238,
          0.41875,
          0.1180555555555555,
          0.8529411764705882,
          1.2266187050359711,
          0.6666666666666666,
          0.6857142857142857,
          0.282258064516129,
          0.4786324786324786,
          0.5798816568047337,
          0.2073170731707317,
          1.6714285714285717,
          1.8166666666666669,
          0.6836734693877551,
          1.8125,
          2.17032967032967,
          2.269360269360269,
          0.6310679611650486,
          0.8552631578947368,
          0.485,
          0.5900900900900901,
          0.4021739130434782,
          1.2116182572614107,
          1.0775193798449612,
          0.9225806451612903,
          0.5029585798816568,
          0.6425339366515838,
          0.9523809523809524,
          1.7625,
          1.105263157894737,
          0.8064516129032258,
          1.966019417475728,
          1.2425742574257426,
          1.0874316939890711,
          1.8436213991769548,
          1.2620689655172417,
          1.4830508474576272,
          1.5277777777777777,
          2.05327868852459,
          1.3541666666666667,
          2.026595744680851,
          0.7159090909090909,
          0.7530864197530864,
          0.391304347826087,
          0.3846153846153846,
          0.2635658914728682,
          0.8848167539267016,
          0.4031007751937984,
          0.7411764705882353,
          0.5083798882681564,
          0.5273972602739726,
          0.6492537313432836,
          0.8767772511848341,
          0.3577981651376147,
          1.2738095238095235,
          1.3935185185185186,
          0.4654088050314465,
          0.9735449735449736,
          2.6893617021276595,
          1.2037037037037035,
          0.6119402985074627,
          0.7788944723618091,
          0.8434782608695652,
          0.8697916666666666,
          1.988929889298893,
          0.4152542372881356,
          0.845360824742268,
          0.328125,
          0.2487046632124352,
          0.5,
          1.2027027027027026,
          2.9545454545454546,
          2.53125,
          2.0689655172413794,
          1.6972972972972973,
          1.4661016949152543,
          3.2375690607734806,
          0.5619834710743802,
          0.9369369369369368,
          0.6847826086956522,
          0.7361963190184049,
          0.7837837837837838,
          1.2375478927203063,
          0.5353535353535354,
          0.6438356164383562,
          0.043859649122807,
          0.8071428571428572,
          0.2388059701492537,
          1,
          0.5546875,
          0.65625,
          0.5222929936305732,
          0.3620689655172414,
          0.3647058823529411,
          1.009049773755656
         ],
         "y0": " ",
         "yaxis": "y"
        }
       ],
       "layout": {
        "boxmode": "group",
        "legend": {
         "title": {
          "text": "genotype"
         },
         "tracegroupgap": 0
        },
        "template": {
         "data": {
          "bar": [
           {
            "error_x": {
             "color": "#2a3f5f"
            },
            "error_y": {
             "color": "#2a3f5f"
            },
            "marker": {
             "line": {
              "color": "#E5ECF6",
              "width": 0.5
             },
             "pattern": {
              "fillmode": "overlay",
              "size": 10,
              "solidity": 0.2
             }
            },
            "type": "bar"
           }
          ],
          "barpolar": [
           {
            "marker": {
             "line": {
              "color": "#E5ECF6",
              "width": 0.5
             },
             "pattern": {
              "fillmode": "overlay",
              "size": 10,
              "solidity": 0.2
             }
            },
            "type": "barpolar"
           }
          ],
          "carpet": [
           {
            "aaxis": {
             "endlinecolor": "#2a3f5f",
             "gridcolor": "white",
             "linecolor": "white",
             "minorgridcolor": "white",
             "startlinecolor": "#2a3f5f"
            },
            "baxis": {
             "endlinecolor": "#2a3f5f",
             "gridcolor": "white",
             "linecolor": "white",
             "minorgridcolor": "white",
             "startlinecolor": "#2a3f5f"
            },
            "type": "carpet"
           }
          ],
          "choropleth": [
           {
            "colorbar": {
             "outlinewidth": 0,
             "ticks": ""
            },
            "type": "choropleth"
           }
          ],
          "contour": [
           {
            "colorbar": {
             "outlinewidth": 0,
             "ticks": ""
            },
            "colorscale": [
             [
              0,
              "#0d0887"
             ],
             [
              0.1111111111111111,
              "#46039f"
             ],
             [
              0.2222222222222222,
              "#7201a8"
             ],
             [
              0.3333333333333333,
              "#9c179e"
             ],
             [
              0.4444444444444444,
              "#bd3786"
             ],
             [
              0.5555555555555556,
              "#d8576b"
             ],
             [
              0.6666666666666666,
              "#ed7953"
             ],
             [
              0.7777777777777778,
              "#fb9f3a"
             ],
             [
              0.8888888888888888,
              "#fdca26"
             ],
             [
              1,
              "#f0f921"
             ]
            ],
            "type": "contour"
           }
          ],
          "contourcarpet": [
           {
            "colorbar": {
             "outlinewidth": 0,
             "ticks": ""
            },
            "type": "contourcarpet"
           }
          ],
          "heatmap": [
           {
            "colorbar": {
             "outlinewidth": 0,
             "ticks": ""
            },
            "colorscale": [
             [
              0,
              "#0d0887"
             ],
             [
              0.1111111111111111,
              "#46039f"
             ],
             [
              0.2222222222222222,
              "#7201a8"
             ],
             [
              0.3333333333333333,
              "#9c179e"
             ],
             [
              0.4444444444444444,
              "#bd3786"
             ],
             [
              0.5555555555555556,
              "#d8576b"
             ],
             [
              0.6666666666666666,
              "#ed7953"
             ],
             [
              0.7777777777777778,
              "#fb9f3a"
             ],
             [
              0.8888888888888888,
              "#fdca26"
             ],
             [
              1,
              "#f0f921"
             ]
            ],
            "type": "heatmap"
           }
          ],
          "heatmapgl": [
           {
            "colorbar": {
             "outlinewidth": 0,
             "ticks": ""
            },
            "colorscale": [
             [
              0,
              "#0d0887"
             ],
             [
              0.1111111111111111,
              "#46039f"
             ],
             [
              0.2222222222222222,
              "#7201a8"
             ],
             [
              0.3333333333333333,
              "#9c179e"
             ],
             [
              0.4444444444444444,
              "#bd3786"
             ],
             [
              0.5555555555555556,
              "#d8576b"
             ],
             [
              0.6666666666666666,
              "#ed7953"
             ],
             [
              0.7777777777777778,
              "#fb9f3a"
             ],
             [
              0.8888888888888888,
              "#fdca26"
             ],
             [
              1,
              "#f0f921"
             ]
            ],
            "type": "heatmapgl"
           }
          ],
          "histogram": [
           {
            "marker": {
             "pattern": {
              "fillmode": "overlay",
              "size": 10,
              "solidity": 0.2
             }
            },
            "type": "histogram"
           }
          ],
          "histogram2d": [
           {
            "colorbar": {
             "outlinewidth": 0,
             "ticks": ""
            },
            "colorscale": [
             [
              0,
              "#0d0887"
             ],
             [
              0.1111111111111111,
              "#46039f"
             ],
             [
              0.2222222222222222,
              "#7201a8"
             ],
             [
              0.3333333333333333,
              "#9c179e"
             ],
             [
              0.4444444444444444,
              "#bd3786"
             ],
             [
              0.5555555555555556,
              "#d8576b"
             ],
             [
              0.6666666666666666,
              "#ed7953"
             ],
             [
              0.7777777777777778,
              "#fb9f3a"
             ],
             [
              0.8888888888888888,
              "#fdca26"
             ],
             [
              1,
              "#f0f921"
             ]
            ],
            "type": "histogram2d"
           }
          ],
          "histogram2dcontour": [
           {
            "colorbar": {
             "outlinewidth": 0,
             "ticks": ""
            },
            "colorscale": [
             [
              0,
              "#0d0887"
             ],
             [
              0.1111111111111111,
              "#46039f"
             ],
             [
              0.2222222222222222,
              "#7201a8"
             ],
             [
              0.3333333333333333,
              "#9c179e"
             ],
             [
              0.4444444444444444,
              "#bd3786"
             ],
             [
              0.5555555555555556,
              "#d8576b"
             ],
             [
              0.6666666666666666,
              "#ed7953"
             ],
             [
              0.7777777777777778,
              "#fb9f3a"
             ],
             [
              0.8888888888888888,
              "#fdca26"
             ],
             [
              1,
              "#f0f921"
             ]
            ],
            "type": "histogram2dcontour"
           }
          ],
          "mesh3d": [
           {
            "colorbar": {
             "outlinewidth": 0,
             "ticks": ""
            },
            "type": "mesh3d"
           }
          ],
          "parcoords": [
           {
            "line": {
             "colorbar": {
              "outlinewidth": 0,
              "ticks": ""
             }
            },
            "type": "parcoords"
           }
          ],
          "pie": [
           {
            "automargin": true,
            "type": "pie"
           }
          ],
          "scatter": [
           {
            "fillpattern": {
             "fillmode": "overlay",
             "size": 10,
             "solidity": 0.2
            },
            "type": "scatter"
           }
          ],
          "scatter3d": [
           {
            "line": {
             "colorbar": {
              "outlinewidth": 0,
              "ticks": ""
             }
            },
            "marker": {
             "colorbar": {
              "outlinewidth": 0,
              "ticks": ""
             }
            },
            "type": "scatter3d"
           }
          ],
          "scattercarpet": [
           {
            "marker": {
             "colorbar": {
              "outlinewidth": 0,
              "ticks": ""
             }
            },
            "type": "scattercarpet"
           }
          ],
          "scattergeo": [
           {
            "marker": {
             "colorbar": {
              "outlinewidth": 0,
              "ticks": ""
             }
            },
            "type": "scattergeo"
           }
          ],
          "scattergl": [
           {
            "marker": {
             "colorbar": {
              "outlinewidth": 0,
              "ticks": ""
             }
            },
            "type": "scattergl"
           }
          ],
          "scattermapbox": [
           {
            "marker": {
             "colorbar": {
              "outlinewidth": 0,
              "ticks": ""
             }
            },
            "type": "scattermapbox"
           }
          ],
          "scatterpolar": [
           {
            "marker": {
             "colorbar": {
              "outlinewidth": 0,
              "ticks": ""
             }
            },
            "type": "scatterpolar"
           }
          ],
          "scatterpolargl": [
           {
            "marker": {
             "colorbar": {
              "outlinewidth": 0,
              "ticks": ""
             }
            },
            "type": "scatterpolargl"
           }
          ],
          "scatterternary": [
           {
            "marker": {
             "colorbar": {
              "outlinewidth": 0,
              "ticks": ""
             }
            },
            "type": "scatterternary"
           }
          ],
          "surface": [
           {
            "colorbar": {
             "outlinewidth": 0,
             "ticks": ""
            },
            "colorscale": [
             [
              0,
              "#0d0887"
             ],
             [
              0.1111111111111111,
              "#46039f"
             ],
             [
              0.2222222222222222,
              "#7201a8"
             ],
             [
              0.3333333333333333,
              "#9c179e"
             ],
             [
              0.4444444444444444,
              "#bd3786"
             ],
             [
              0.5555555555555556,
              "#d8576b"
             ],
             [
              0.6666666666666666,
              "#ed7953"
             ],
             [
              0.7777777777777778,
              "#fb9f3a"
             ],
             [
              0.8888888888888888,
              "#fdca26"
             ],
             [
              1,
              "#f0f921"
             ]
            ],
            "type": "surface"
           }
          ],
          "table": [
           {
            "cells": {
             "fill": {
              "color": "#EBF0F8"
             },
             "line": {
              "color": "white"
             }
            },
            "header": {
             "fill": {
              "color": "#C8D4E3"
             },
             "line": {
              "color": "white"
             }
            },
            "type": "table"
           }
          ]
         },
         "layout": {
          "annotationdefaults": {
           "arrowcolor": "#2a3f5f",
           "arrowhead": 0,
           "arrowwidth": 1
          },
          "autotypenumbers": "strict",
          "coloraxis": {
           "colorbar": {
            "outlinewidth": 0,
            "ticks": ""
           }
          },
          "colorscale": {
           "diverging": [
            [
             0,
             "#8e0152"
            ],
            [
             0.1,
             "#c51b7d"
            ],
            [
             0.2,
             "#de77ae"
            ],
            [
             0.3,
             "#f1b6da"
            ],
            [
             0.4,
             "#fde0ef"
            ],
            [
             0.5,
             "#f7f7f7"
            ],
            [
             0.6,
             "#e6f5d0"
            ],
            [
             0.7,
             "#b8e186"
            ],
            [
             0.8,
             "#7fbc41"
            ],
            [
             0.9,
             "#4d9221"
            ],
            [
             1,
             "#276419"
            ]
           ],
           "sequential": [
            [
             0,
             "#0d0887"
            ],
            [
             0.1111111111111111,
             "#46039f"
            ],
            [
             0.2222222222222222,
             "#7201a8"
            ],
            [
             0.3333333333333333,
             "#9c179e"
            ],
            [
             0.4444444444444444,
             "#bd3786"
            ],
            [
             0.5555555555555556,
             "#d8576b"
            ],
            [
             0.6666666666666666,
             "#ed7953"
            ],
            [
             0.7777777777777778,
             "#fb9f3a"
            ],
            [
             0.8888888888888888,
             "#fdca26"
            ],
            [
             1,
             "#f0f921"
            ]
           ],
           "sequentialminus": [
            [
             0,
             "#0d0887"
            ],
            [
             0.1111111111111111,
             "#46039f"
            ],
            [
             0.2222222222222222,
             "#7201a8"
            ],
            [
             0.3333333333333333,
             "#9c179e"
            ],
            [
             0.4444444444444444,
             "#bd3786"
            ],
            [
             0.5555555555555556,
             "#d8576b"
            ],
            [
             0.6666666666666666,
             "#ed7953"
            ],
            [
             0.7777777777777778,
             "#fb9f3a"
            ],
            [
             0.8888888888888888,
             "#fdca26"
            ],
            [
             1,
             "#f0f921"
            ]
           ]
          },
          "colorway": [
           "#636efa",
           "#EF553B",
           "#00cc96",
           "#ab63fa",
           "#FFA15A",
           "#19d3f3",
           "#FF6692",
           "#B6E880",
           "#FF97FF",
           "#FECB52"
          ],
          "font": {
           "color": "#2a3f5f"
          },
          "geo": {
           "bgcolor": "white",
           "lakecolor": "white",
           "landcolor": "#E5ECF6",
           "showlakes": true,
           "showland": true,
           "subunitcolor": "white"
          },
          "hoverlabel": {
           "align": "left"
          },
          "hovermode": "closest",
          "mapbox": {
           "style": "light"
          },
          "paper_bgcolor": "white",
          "plot_bgcolor": "#E5ECF6",
          "polar": {
           "angularaxis": {
            "gridcolor": "white",
            "linecolor": "white",
            "ticks": ""
           },
           "bgcolor": "#E5ECF6",
           "radialaxis": {
            "gridcolor": "white",
            "linecolor": "white",
            "ticks": ""
           }
          },
          "scene": {
           "xaxis": {
            "backgroundcolor": "#E5ECF6",
            "gridcolor": "white",
            "gridwidth": 2,
            "linecolor": "white",
            "showbackground": true,
            "ticks": "",
            "zerolinecolor": "white"
           },
           "yaxis": {
            "backgroundcolor": "#E5ECF6",
            "gridcolor": "white",
            "gridwidth": 2,
            "linecolor": "white",
            "showbackground": true,
            "ticks": "",
            "zerolinecolor": "white"
           },
           "zaxis": {
            "backgroundcolor": "#E5ECF6",
            "gridcolor": "white",
            "gridwidth": 2,
            "linecolor": "white",
            "showbackground": true,
            "ticks": "",
            "zerolinecolor": "white"
           }
          },
          "shapedefaults": {
           "line": {
            "color": "#2a3f5f"
           }
          },
          "ternary": {
           "aaxis": {
            "gridcolor": "white",
            "linecolor": "white",
            "ticks": ""
           },
           "baxis": {
            "gridcolor": "white",
            "linecolor": "white",
            "ticks": ""
           },
           "bgcolor": "#E5ECF6",
           "caxis": {
            "gridcolor": "white",
            "linecolor": "white",
            "ticks": ""
           }
          },
          "title": {
           "x": 0.05
          },
          "xaxis": {
           "automargin": true,
           "gridcolor": "white",
           "linecolor": "white",
           "ticks": "",
           "title": {
            "standoff": 15
           },
           "zerolinecolor": "white",
           "zerolinewidth": 2
          },
          "yaxis": {
           "automargin": true,
           "gridcolor": "white",
           "linecolor": "white",
           "ticks": "",
           "title": {
            "standoff": 15
           },
           "zerolinecolor": "white",
           "zerolinewidth": 2
          }
         }
        },
        "title": {
         "text": "DNA Damage in All Nuclei by Tissue Location and Genotype (sex-aggregated) - Auto stain QC - qc_cellpdia30_sigma6_dilrad4_gliathr20"
        },
        "xaxis": {
         "anchor": "y",
         "domain": [
          0,
          1
         ],
         "title": {
          "text": "tissue_location"
         }
        },
        "yaxis": {
         "anchor": "x",
         "domain": [
          0,
          1
         ],
         "title": {
          "text": "avg_dna_damage_foci/all_nuclei"
         }
        }
       }
      }
     },
     "metadata": {},
     "output_type": "display_data"
    }
   ],
   "source": [
    "# Create the boxplot\n",
    "fig = px.box(auto_filtered_df, x='tissue_location', y='avg_dna_damage_foci/all_nuclei',\n",
    "             color='genotype', # Different genotypes will be shown in different colors\n",
    "             title=f'DNA Damage in All Nuclei by Tissue Location and Genotype (sex-aggregated) - Auto stain QC - qc_cellpdia{cellpose_nuclei_diameter}_sigma{gaussian_sigma}_dilrad{dilation_radius_nuclei}_gliathr{glia_channel_threshold}')\n",
    "\n",
    "# Show the plot\n",
    "fig.show()"
   ]
  },
  {
   "cell_type": "code",
   "execution_count": 164,
   "metadata": {},
   "outputs": [
    {
     "data": {
      "application/vnd.plotly.v1+json": {
       "config": {
        "plotlyServerURL": "https://plot.ly"
       },
       "data": [
        {
         "alignmentgroup": "True",
         "hovertemplate": "genotype=APP/PS1 x Neil3 KO<br>tissue_location=%{x}<br>avg_dna_damage_foci/all_nuclei_damage_+=%{y}<extra></extra>",
         "legendgroup": "APP/PS1 x Neil3 KO",
         "marker": {
          "color": "#636efa"
         },
         "name": "APP/PS1 x Neil3 KO",
         "notched": false,
         "offsetgroup": "APP/PS1 x Neil3 KO",
         "orientation": "v",
         "showlegend": true,
         "type": "box",
         "x": [
          "CA1",
          "CA3",
          "CTX1",
          "CTX2",
          "CTX3",
          "DG",
          "CA1",
          "CA3",
          "CTX1",
          "CTX2",
          "CTX3",
          "DG",
          "CA1",
          "CA3",
          "CTX1",
          "CTX2",
          "CTX3",
          "DG",
          "CA1",
          "CA3",
          "CTX1",
          "CTX2",
          "CTX3",
          "DG",
          "CA1",
          "CA3",
          "CTX1",
          "CTX2",
          "CTX3",
          "DG",
          "CA1",
          "CA3",
          "CTX1",
          "CTX2",
          "CTX3",
          "DG",
          "CA1",
          "CA3",
          "CTX1",
          "CTX2",
          "CTX3",
          "DG",
          "CA1",
          "CA3",
          "CTX1",
          "CTX2",
          "CTX3",
          "DG",
          "CA1",
          "CA3",
          "CTX1",
          "CTX2",
          "CTX3",
          "DG",
          "CA1",
          "CA3",
          "CTX1",
          "CTX2",
          "CTX3",
          "DG",
          "CA1",
          "CA3",
          "CTX1",
          "CTX2",
          "CTX3",
          "DG",
          "CA1",
          "CA3",
          "CTX1",
          "CTX2",
          "CTX3",
          "DG",
          "CA1",
          "CA3",
          "CTX1",
          "CTX2",
          "CTX3",
          "DG"
         ],
         "x0": " ",
         "xaxis": "x",
         "y": [
          1.3285714285714283,
          1.9375,
          1.178082191780822,
          1.6875,
          1.2702702702702702,
          1.811659192825112,
          1.3076923076923077,
          1.6363636363636365,
          1.305263157894737,
          1.3414634146341464,
          2.101010101010101,
          1.6534653465346534,
          1.7575757575757576,
          1.3571428571428572,
          1.4489795918367347,
          1.9789473684210528,
          1.8439716312056735,
          2.892523364485981,
          1.2692307692307692,
          1.4081632653061225,
          1.4285714285714286,
          1.717557251908397,
          1.2876712328767124,
          1.530612244897959,
          1.3150684931506849,
          1.4067796610169492,
          1.236842105263158,
          1.976744186046512,
          1.5662650602409638,
          2.040983606557377,
          1.0816326530612246,
          1.3333333333333333,
          1.3636363636363635,
          1.2195121951219512,
          1.297872340425532,
          1.5384615384615383,
          1.0975609756097562,
          1.1944444444444444,
          1,
          1.1304347826086956,
          1.1428571428571428,
          1.6333333333333333,
          2.7766990291262137,
          2.518987341772152,
          1.4,
          1.2571428571428571,
          1.3432835820895523,
          2.638655462184874,
          1.25,
          1.3111111111111111,
          1,
          1.162162162162162,
          1.4019607843137254,
          1.1851851851851851,
          1.1111111111111112,
          1.173913043478261,
          1.380952380952381,
          1.2,
          1.368421052631579,
          1.2372881355932204,
          2.305555555555556,
          4.451923076923077,
          1.2923076923076924,
          1.388059701492537,
          1.1428571428571428,
          3.08974358974359,
          1.25,
          1.4642857142857142,
          1.3278688524590163,
          1.4732142857142858,
          1.337837837837838,
          1.3717948717948718,
          1.1875,
          1.1290322580645162,
          1.203883495145631,
          1.2045454545454546,
          1.12,
          1.654054054054054
         ],
         "y0": " ",
         "yaxis": "y"
        },
        {
         "alignmentgroup": "True",
         "hovertemplate": "genotype=APP/PS1<br>tissue_location=%{x}<br>avg_dna_damage_foci/all_nuclei_damage_+=%{y}<extra></extra>",
         "legendgroup": "APP/PS1",
         "marker": {
          "color": "#EF553B"
         },
         "name": "APP/PS1",
         "notched": false,
         "offsetgroup": "APP/PS1",
         "orientation": "v",
         "showlegend": true,
         "type": "box",
         "x": [
          "CA1",
          "CA3",
          "CTX1",
          "CTX2",
          "CTX3",
          "DG",
          "CA1",
          "CA3",
          "CTX1",
          "CTX2",
          "CTX3",
          "DG",
          "CA1",
          "CA3",
          "CTX1",
          "CTX2",
          "CTX3",
          "DG",
          "CA1",
          "CA3",
          "CTX1",
          "CTX2",
          "CTX3",
          "DG",
          "CA1",
          "CA3",
          "CTX1",
          "CTX2",
          "CTX3",
          "DG",
          "CA1",
          "CA3",
          "CTX1",
          "CTX2",
          "CTX3",
          "DG",
          "CA1",
          "CA3",
          "CTX1",
          "CTX2",
          "CTX3",
          "DG",
          "CA1",
          "CA3",
          "CTX1",
          "CTX2",
          "CTX3",
          "DG",
          "CA1",
          "CA3",
          "CTX1",
          "CTX2",
          "CTX3",
          "DG",
          "CA1",
          "CA3",
          "CTX1",
          "CTX2",
          "CTX3",
          "DG",
          "CA1",
          "CA3",
          "CTX1",
          "CTX2",
          "CTX3",
          "DG",
          "CA1",
          "CA3",
          "CTX1",
          "CTX2",
          "CTX3",
          "DG",
          "CA1",
          "CA3",
          "CTX1",
          "CTX2",
          "CTX3",
          "DG",
          "CA1",
          "CA3",
          "CTX1",
          "CTX2",
          "CTX3",
          "DG",
          "CA1",
          "CA3",
          "CTX1",
          "CTX2",
          "CTX3",
          "DG",
          "CA1",
          "CA3",
          "CTX1",
          "CTX2",
          "CTX3",
          "DG",
          "CA1",
          "CA3",
          "CTX1",
          "CTX2",
          "CTX3",
          "DG"
         ],
         "x0": " ",
         "xaxis": "x",
         "y": [
          2.052083333333333,
          2.1,
          2.0921052631578947,
          2.0916030534351147,
          1.326086956521739,
          2.143911439114391,
          1.3125,
          1.4772727272727273,
          1.098360655737705,
          1.1333333333333333,
          1.4683544303797469,
          1.5642201834862386,
          1.5862068965517242,
          1.411764705882353,
          1.25,
          1.2873563218390804,
          1.7818181818181815,
          1.4166666666666667,
          2.25,
          2.8684210526315788,
          1.2407407407407407,
          2.543859649122807,
          2.883211678832117,
          2.4779411764705883,
          1.3,
          1.4444444444444444,
          1.2278481012658229,
          1.323232323232323,
          1.3962264150943395,
          1.813664596273292,
          1.4787234042553192,
          1.361904761904762,
          1.1805555555555556,
          1.279279279279279,
          1.643835616438356,
          2.073529411764706,
          1.5154639175257731,
          1.2096774193548387,
          2.396449704142012,
          1.6845637583892616,
          1.5190839694656488,
          2.1333333333333333,
          2.2048192771084336,
          2.430555555555556,
          2.129032258064516,
          2.4086538461538463,
          1.7567567567567568,
          2.506578947368421,
          1.1666666666666667,
          1.2448979591836735,
          1.1020408163265305,
          1.1403508771929824,
          1,
          1.4322033898305084,
          1.1063829787234043,
          1.2857142857142858,
          1.1518987341772151,
          1.203125,
          1.2083333333333333,
          1.4453125,
          1.054054054054054,
          1.68503937007874,
          2.15,
          1.1384615384615384,
          1.8217821782178216,
          2.9395348837209303,
          1.6049382716049383,
          1.28125,
          1.3025210084033614,
          1.3197278911564625,
          1.403361344537815,
          2.2742616033755274,
          1.1136363636363635,
          1.5185185185185186,
          1.2,
          1.0434782608695652,
          1.28125,
          1.5170454545454546,
          3.7142857142857135,
          2.892857142857143,
          2.608695652173913,
          2.136054421768708,
          2.011627906976744,
          3.551515151515152,
          1.2363636363636363,
          1.2682926829268293,
          1.4651162790697674,
          1.3636363636363635,
          1.3975903614457832,
          1.6313131313131313,
          1.1521739130434785,
          1.5161290322580645,
          1,
          1.3950617283950617,
          1.3333333333333333,
          1.4203821656050954,
          1.2678571428571428,
          1.575,
          1.2058823529411764,
          1.135135135135135,
          1.1923076923076923,
          1.702290076335878
         ],
         "y0": " ",
         "yaxis": "y"
        }
       ],
       "layout": {
        "boxmode": "group",
        "legend": {
         "title": {
          "text": "genotype"
         },
         "tracegroupgap": 0
        },
        "template": {
         "data": {
          "bar": [
           {
            "error_x": {
             "color": "#2a3f5f"
            },
            "error_y": {
             "color": "#2a3f5f"
            },
            "marker": {
             "line": {
              "color": "#E5ECF6",
              "width": 0.5
             },
             "pattern": {
              "fillmode": "overlay",
              "size": 10,
              "solidity": 0.2
             }
            },
            "type": "bar"
           }
          ],
          "barpolar": [
           {
            "marker": {
             "line": {
              "color": "#E5ECF6",
              "width": 0.5
             },
             "pattern": {
              "fillmode": "overlay",
              "size": 10,
              "solidity": 0.2
             }
            },
            "type": "barpolar"
           }
          ],
          "carpet": [
           {
            "aaxis": {
             "endlinecolor": "#2a3f5f",
             "gridcolor": "white",
             "linecolor": "white",
             "minorgridcolor": "white",
             "startlinecolor": "#2a3f5f"
            },
            "baxis": {
             "endlinecolor": "#2a3f5f",
             "gridcolor": "white",
             "linecolor": "white",
             "minorgridcolor": "white",
             "startlinecolor": "#2a3f5f"
            },
            "type": "carpet"
           }
          ],
          "choropleth": [
           {
            "colorbar": {
             "outlinewidth": 0,
             "ticks": ""
            },
            "type": "choropleth"
           }
          ],
          "contour": [
           {
            "colorbar": {
             "outlinewidth": 0,
             "ticks": ""
            },
            "colorscale": [
             [
              0,
              "#0d0887"
             ],
             [
              0.1111111111111111,
              "#46039f"
             ],
             [
              0.2222222222222222,
              "#7201a8"
             ],
             [
              0.3333333333333333,
              "#9c179e"
             ],
             [
              0.4444444444444444,
              "#bd3786"
             ],
             [
              0.5555555555555556,
              "#d8576b"
             ],
             [
              0.6666666666666666,
              "#ed7953"
             ],
             [
              0.7777777777777778,
              "#fb9f3a"
             ],
             [
              0.8888888888888888,
              "#fdca26"
             ],
             [
              1,
              "#f0f921"
             ]
            ],
            "type": "contour"
           }
          ],
          "contourcarpet": [
           {
            "colorbar": {
             "outlinewidth": 0,
             "ticks": ""
            },
            "type": "contourcarpet"
           }
          ],
          "heatmap": [
           {
            "colorbar": {
             "outlinewidth": 0,
             "ticks": ""
            },
            "colorscale": [
             [
              0,
              "#0d0887"
             ],
             [
              0.1111111111111111,
              "#46039f"
             ],
             [
              0.2222222222222222,
              "#7201a8"
             ],
             [
              0.3333333333333333,
              "#9c179e"
             ],
             [
              0.4444444444444444,
              "#bd3786"
             ],
             [
              0.5555555555555556,
              "#d8576b"
             ],
             [
              0.6666666666666666,
              "#ed7953"
             ],
             [
              0.7777777777777778,
              "#fb9f3a"
             ],
             [
              0.8888888888888888,
              "#fdca26"
             ],
             [
              1,
              "#f0f921"
             ]
            ],
            "type": "heatmap"
           }
          ],
          "heatmapgl": [
           {
            "colorbar": {
             "outlinewidth": 0,
             "ticks": ""
            },
            "colorscale": [
             [
              0,
              "#0d0887"
             ],
             [
              0.1111111111111111,
              "#46039f"
             ],
             [
              0.2222222222222222,
              "#7201a8"
             ],
             [
              0.3333333333333333,
              "#9c179e"
             ],
             [
              0.4444444444444444,
              "#bd3786"
             ],
             [
              0.5555555555555556,
              "#d8576b"
             ],
             [
              0.6666666666666666,
              "#ed7953"
             ],
             [
              0.7777777777777778,
              "#fb9f3a"
             ],
             [
              0.8888888888888888,
              "#fdca26"
             ],
             [
              1,
              "#f0f921"
             ]
            ],
            "type": "heatmapgl"
           }
          ],
          "histogram": [
           {
            "marker": {
             "pattern": {
              "fillmode": "overlay",
              "size": 10,
              "solidity": 0.2
             }
            },
            "type": "histogram"
           }
          ],
          "histogram2d": [
           {
            "colorbar": {
             "outlinewidth": 0,
             "ticks": ""
            },
            "colorscale": [
             [
              0,
              "#0d0887"
             ],
             [
              0.1111111111111111,
              "#46039f"
             ],
             [
              0.2222222222222222,
              "#7201a8"
             ],
             [
              0.3333333333333333,
              "#9c179e"
             ],
             [
              0.4444444444444444,
              "#bd3786"
             ],
             [
              0.5555555555555556,
              "#d8576b"
             ],
             [
              0.6666666666666666,
              "#ed7953"
             ],
             [
              0.7777777777777778,
              "#fb9f3a"
             ],
             [
              0.8888888888888888,
              "#fdca26"
             ],
             [
              1,
              "#f0f921"
             ]
            ],
            "type": "histogram2d"
           }
          ],
          "histogram2dcontour": [
           {
            "colorbar": {
             "outlinewidth": 0,
             "ticks": ""
            },
            "colorscale": [
             [
              0,
              "#0d0887"
             ],
             [
              0.1111111111111111,
              "#46039f"
             ],
             [
              0.2222222222222222,
              "#7201a8"
             ],
             [
              0.3333333333333333,
              "#9c179e"
             ],
             [
              0.4444444444444444,
              "#bd3786"
             ],
             [
              0.5555555555555556,
              "#d8576b"
             ],
             [
              0.6666666666666666,
              "#ed7953"
             ],
             [
              0.7777777777777778,
              "#fb9f3a"
             ],
             [
              0.8888888888888888,
              "#fdca26"
             ],
             [
              1,
              "#f0f921"
             ]
            ],
            "type": "histogram2dcontour"
           }
          ],
          "mesh3d": [
           {
            "colorbar": {
             "outlinewidth": 0,
             "ticks": ""
            },
            "type": "mesh3d"
           }
          ],
          "parcoords": [
           {
            "line": {
             "colorbar": {
              "outlinewidth": 0,
              "ticks": ""
             }
            },
            "type": "parcoords"
           }
          ],
          "pie": [
           {
            "automargin": true,
            "type": "pie"
           }
          ],
          "scatter": [
           {
            "fillpattern": {
             "fillmode": "overlay",
             "size": 10,
             "solidity": 0.2
            },
            "type": "scatter"
           }
          ],
          "scatter3d": [
           {
            "line": {
             "colorbar": {
              "outlinewidth": 0,
              "ticks": ""
             }
            },
            "marker": {
             "colorbar": {
              "outlinewidth": 0,
              "ticks": ""
             }
            },
            "type": "scatter3d"
           }
          ],
          "scattercarpet": [
           {
            "marker": {
             "colorbar": {
              "outlinewidth": 0,
              "ticks": ""
             }
            },
            "type": "scattercarpet"
           }
          ],
          "scattergeo": [
           {
            "marker": {
             "colorbar": {
              "outlinewidth": 0,
              "ticks": ""
             }
            },
            "type": "scattergeo"
           }
          ],
          "scattergl": [
           {
            "marker": {
             "colorbar": {
              "outlinewidth": 0,
              "ticks": ""
             }
            },
            "type": "scattergl"
           }
          ],
          "scattermapbox": [
           {
            "marker": {
             "colorbar": {
              "outlinewidth": 0,
              "ticks": ""
             }
            },
            "type": "scattermapbox"
           }
          ],
          "scatterpolar": [
           {
            "marker": {
             "colorbar": {
              "outlinewidth": 0,
              "ticks": ""
             }
            },
            "type": "scatterpolar"
           }
          ],
          "scatterpolargl": [
           {
            "marker": {
             "colorbar": {
              "outlinewidth": 0,
              "ticks": ""
             }
            },
            "type": "scatterpolargl"
           }
          ],
          "scatterternary": [
           {
            "marker": {
             "colorbar": {
              "outlinewidth": 0,
              "ticks": ""
             }
            },
            "type": "scatterternary"
           }
          ],
          "surface": [
           {
            "colorbar": {
             "outlinewidth": 0,
             "ticks": ""
            },
            "colorscale": [
             [
              0,
              "#0d0887"
             ],
             [
              0.1111111111111111,
              "#46039f"
             ],
             [
              0.2222222222222222,
              "#7201a8"
             ],
             [
              0.3333333333333333,
              "#9c179e"
             ],
             [
              0.4444444444444444,
              "#bd3786"
             ],
             [
              0.5555555555555556,
              "#d8576b"
             ],
             [
              0.6666666666666666,
              "#ed7953"
             ],
             [
              0.7777777777777778,
              "#fb9f3a"
             ],
             [
              0.8888888888888888,
              "#fdca26"
             ],
             [
              1,
              "#f0f921"
             ]
            ],
            "type": "surface"
           }
          ],
          "table": [
           {
            "cells": {
             "fill": {
              "color": "#EBF0F8"
             },
             "line": {
              "color": "white"
             }
            },
            "header": {
             "fill": {
              "color": "#C8D4E3"
             },
             "line": {
              "color": "white"
             }
            },
            "type": "table"
           }
          ]
         },
         "layout": {
          "annotationdefaults": {
           "arrowcolor": "#2a3f5f",
           "arrowhead": 0,
           "arrowwidth": 1
          },
          "autotypenumbers": "strict",
          "coloraxis": {
           "colorbar": {
            "outlinewidth": 0,
            "ticks": ""
           }
          },
          "colorscale": {
           "diverging": [
            [
             0,
             "#8e0152"
            ],
            [
             0.1,
             "#c51b7d"
            ],
            [
             0.2,
             "#de77ae"
            ],
            [
             0.3,
             "#f1b6da"
            ],
            [
             0.4,
             "#fde0ef"
            ],
            [
             0.5,
             "#f7f7f7"
            ],
            [
             0.6,
             "#e6f5d0"
            ],
            [
             0.7,
             "#b8e186"
            ],
            [
             0.8,
             "#7fbc41"
            ],
            [
             0.9,
             "#4d9221"
            ],
            [
             1,
             "#276419"
            ]
           ],
           "sequential": [
            [
             0,
             "#0d0887"
            ],
            [
             0.1111111111111111,
             "#46039f"
            ],
            [
             0.2222222222222222,
             "#7201a8"
            ],
            [
             0.3333333333333333,
             "#9c179e"
            ],
            [
             0.4444444444444444,
             "#bd3786"
            ],
            [
             0.5555555555555556,
             "#d8576b"
            ],
            [
             0.6666666666666666,
             "#ed7953"
            ],
            [
             0.7777777777777778,
             "#fb9f3a"
            ],
            [
             0.8888888888888888,
             "#fdca26"
            ],
            [
             1,
             "#f0f921"
            ]
           ],
           "sequentialminus": [
            [
             0,
             "#0d0887"
            ],
            [
             0.1111111111111111,
             "#46039f"
            ],
            [
             0.2222222222222222,
             "#7201a8"
            ],
            [
             0.3333333333333333,
             "#9c179e"
            ],
            [
             0.4444444444444444,
             "#bd3786"
            ],
            [
             0.5555555555555556,
             "#d8576b"
            ],
            [
             0.6666666666666666,
             "#ed7953"
            ],
            [
             0.7777777777777778,
             "#fb9f3a"
            ],
            [
             0.8888888888888888,
             "#fdca26"
            ],
            [
             1,
             "#f0f921"
            ]
           ]
          },
          "colorway": [
           "#636efa",
           "#EF553B",
           "#00cc96",
           "#ab63fa",
           "#FFA15A",
           "#19d3f3",
           "#FF6692",
           "#B6E880",
           "#FF97FF",
           "#FECB52"
          ],
          "font": {
           "color": "#2a3f5f"
          },
          "geo": {
           "bgcolor": "white",
           "lakecolor": "white",
           "landcolor": "#E5ECF6",
           "showlakes": true,
           "showland": true,
           "subunitcolor": "white"
          },
          "hoverlabel": {
           "align": "left"
          },
          "hovermode": "closest",
          "mapbox": {
           "style": "light"
          },
          "paper_bgcolor": "white",
          "plot_bgcolor": "#E5ECF6",
          "polar": {
           "angularaxis": {
            "gridcolor": "white",
            "linecolor": "white",
            "ticks": ""
           },
           "bgcolor": "#E5ECF6",
           "radialaxis": {
            "gridcolor": "white",
            "linecolor": "white",
            "ticks": ""
           }
          },
          "scene": {
           "xaxis": {
            "backgroundcolor": "#E5ECF6",
            "gridcolor": "white",
            "gridwidth": 2,
            "linecolor": "white",
            "showbackground": true,
            "ticks": "",
            "zerolinecolor": "white"
           },
           "yaxis": {
            "backgroundcolor": "#E5ECF6",
            "gridcolor": "white",
            "gridwidth": 2,
            "linecolor": "white",
            "showbackground": true,
            "ticks": "",
            "zerolinecolor": "white"
           },
           "zaxis": {
            "backgroundcolor": "#E5ECF6",
            "gridcolor": "white",
            "gridwidth": 2,
            "linecolor": "white",
            "showbackground": true,
            "ticks": "",
            "zerolinecolor": "white"
           }
          },
          "shapedefaults": {
           "line": {
            "color": "#2a3f5f"
           }
          },
          "ternary": {
           "aaxis": {
            "gridcolor": "white",
            "linecolor": "white",
            "ticks": ""
           },
           "baxis": {
            "gridcolor": "white",
            "linecolor": "white",
            "ticks": ""
           },
           "bgcolor": "#E5ECF6",
           "caxis": {
            "gridcolor": "white",
            "linecolor": "white",
            "ticks": ""
           }
          },
          "title": {
           "x": 0.05
          },
          "xaxis": {
           "automargin": true,
           "gridcolor": "white",
           "linecolor": "white",
           "ticks": "",
           "title": {
            "standoff": 15
           },
           "zerolinecolor": "white",
           "zerolinewidth": 2
          },
          "yaxis": {
           "automargin": true,
           "gridcolor": "white",
           "linecolor": "white",
           "ticks": "",
           "title": {
            "standoff": 15
           },
           "zerolinecolor": "white",
           "zerolinewidth": 2
          }
         }
        },
        "title": {
         "text": "DNA Damage in Damage+ Nuclei by Tissue Location and Genotype (sex-aggregated) - Auto stain QC - qc_cellpdia30_sigma6_dilrad4_gliathr20"
        },
        "xaxis": {
         "anchor": "y",
         "domain": [
          0,
          1
         ],
         "title": {
          "text": "tissue_location"
         }
        },
        "yaxis": {
         "anchor": "x",
         "domain": [
          0,
          1
         ],
         "title": {
          "text": "avg_dna_damage_foci/all_nuclei_damage_+"
         }
        }
       }
      }
     },
     "metadata": {},
     "output_type": "display_data"
    }
   ],
   "source": [
    "# Create the boxplot\n",
    "fig = px.box(auto_filtered_df, x='tissue_location', y='avg_dna_damage_foci/all_nuclei_damage_+',\n",
    "             color='genotype', # Different genotypes will be shown in different colors\n",
    "             title=f'DNA Damage in Damage+ Nuclei by Tissue Location and Genotype (sex-aggregated) - Auto stain QC - qc_cellpdia{cellpose_nuclei_diameter}_sigma{gaussian_sigma}_dilrad{dilation_radius_nuclei}_gliathr{glia_channel_threshold}')\n",
    "\n",
    "# Show the plot\n",
    "fig.show()"
   ]
  },
  {
   "cell_type": "markdown",
   "metadata": {},
   "source": [
    "Show failed qc dataframe"
   ]
  },
  {
   "cell_type": "code",
   "execution_count": 165,
   "metadata": {},
   "outputs": [
    {
     "name": "stdout",
     "output_type": "stream",
     "text": [
      "72 stains have not passed QC and will need reanalysis\n"
     ]
    },
    {
     "data": {
      "text/html": [
       "<div>\n",
       "<style scoped>\n",
       "    .dataframe tbody tr th:only-of-type {\n",
       "        vertical-align: middle;\n",
       "    }\n",
       "\n",
       "    .dataframe tbody tr th {\n",
       "        vertical-align: top;\n",
       "    }\n",
       "\n",
       "    .dataframe thead th {\n",
       "        text-align: right;\n",
       "    }\n",
       "</style>\n",
       "<table border=\"1\" class=\"dataframe\">\n",
       "  <thead>\n",
       "    <tr style=\"text-align: right;\">\n",
       "      <th></th>\n",
       "      <th>index</th>\n",
       "      <th>filename</th>\n",
       "      <th>avg_dna_damage_foci/glia_+</th>\n",
       "      <th>avg_dna_damage_foci/glia_+_damage_+</th>\n",
       "      <th>avg_dna_damage_foci/all_nuclei</th>\n",
       "      <th>avg_dna_damage_foci/all_nuclei_damage_+</th>\n",
       "      <th>nr_+_dna_damage_glia_nuclei</th>\n",
       "      <th>nr_-_dna_damage_glia_nuclei</th>\n",
       "      <th>nr_glia_+_nuclei</th>\n",
       "      <th>nr_total_nuclei</th>\n",
       "      <th>...</th>\n",
       "      <th>%_glia+_signal</th>\n",
       "      <th>tissue_location</th>\n",
       "      <th>staining_id</th>\n",
       "      <th>animal_id</th>\n",
       "      <th>sex</th>\n",
       "      <th>genotype</th>\n",
       "      <th>dna_damage_stain_quality_manual</th>\n",
       "      <th>glia_stain_quality_auto</th>\n",
       "      <th>dna_damage_stain_quality_auto</th>\n",
       "      <th>staining_qc_passed</th>\n",
       "    </tr>\n",
       "  </thead>\n",
       "  <tbody>\n",
       "    <tr>\n",
       "      <th>0</th>\n",
       "      <td>0</td>\n",
       "      <td>DSB Iba1 16_40X_CA1</td>\n",
       "      <td>0.568182</td>\n",
       "      <td>1.315789</td>\n",
       "      <td>0.840491</td>\n",
       "      <td>1.611765</td>\n",
       "      <td>57</td>\n",
       "      <td>75</td>\n",
       "      <td>132</td>\n",
       "      <td>163</td>\n",
       "      <td>...</td>\n",
       "      <td>88.633728</td>\n",
       "      <td>CA1</td>\n",
       "      <td>16</td>\n",
       "      <td>887</td>\n",
       "      <td>male</td>\n",
       "      <td>APP/PS1</td>\n",
       "      <td>poor</td>\n",
       "      <td>suboptimal</td>\n",
       "      <td>optimal</td>\n",
       "      <td>False</td>\n",
       "    </tr>\n",
       "    <tr>\n",
       "      <th>1</th>\n",
       "      <td>1</td>\n",
       "      <td>DSB Iba1 16_40X_CA3</td>\n",
       "      <td>2.722581</td>\n",
       "      <td>2.992908</td>\n",
       "      <td>4.049080</td>\n",
       "      <td>4.230769</td>\n",
       "      <td>141</td>\n",
       "      <td>14</td>\n",
       "      <td>155</td>\n",
       "      <td>163</td>\n",
       "      <td>...</td>\n",
       "      <td>96.349525</td>\n",
       "      <td>CA3</td>\n",
       "      <td>16</td>\n",
       "      <td>887</td>\n",
       "      <td>male</td>\n",
       "      <td>APP/PS1</td>\n",
       "      <td>poor</td>\n",
       "      <td>suboptimal</td>\n",
       "      <td>suboptimal</td>\n",
       "      <td>False</td>\n",
       "    </tr>\n",
       "    <tr>\n",
       "      <th>2</th>\n",
       "      <td>2</td>\n",
       "      <td>DSB Iba1 16_40X_CTX1</td>\n",
       "      <td>0.756757</td>\n",
       "      <td>1.647059</td>\n",
       "      <td>0.738739</td>\n",
       "      <td>1.822222</td>\n",
       "      <td>17</td>\n",
       "      <td>20</td>\n",
       "      <td>37</td>\n",
       "      <td>222</td>\n",
       "      <td>...</td>\n",
       "      <td>13.598442</td>\n",
       "      <td>CTX1</td>\n",
       "      <td>16</td>\n",
       "      <td>887</td>\n",
       "      <td>male</td>\n",
       "      <td>APP/PS1</td>\n",
       "      <td>poor</td>\n",
       "      <td>optimal</td>\n",
       "      <td>optimal</td>\n",
       "      <td>False</td>\n",
       "    </tr>\n",
       "    <tr>\n",
       "      <th>3</th>\n",
       "      <td>3</td>\n",
       "      <td>DSB Iba1 16_40X_CTX2</td>\n",
       "      <td>1.748899</td>\n",
       "      <td>1.821101</td>\n",
       "      <td>2.535270</td>\n",
       "      <td>2.588983</td>\n",
       "      <td>218</td>\n",
       "      <td>9</td>\n",
       "      <td>227</td>\n",
       "      <td>241</td>\n",
       "      <td>...</td>\n",
       "      <td>94.930744</td>\n",
       "      <td>CTX2</td>\n",
       "      <td>16</td>\n",
       "      <td>887</td>\n",
       "      <td>male</td>\n",
       "      <td>APP/PS1</td>\n",
       "      <td>poor</td>\n",
       "      <td>suboptimal</td>\n",
       "      <td>suboptimal</td>\n",
       "      <td>False</td>\n",
       "    </tr>\n",
       "    <tr>\n",
       "      <th>4</th>\n",
       "      <td>4</td>\n",
       "      <td>DSB Iba1 16_40X_CTX3</td>\n",
       "      <td>1.750000</td>\n",
       "      <td>1.866667</td>\n",
       "      <td>2.004785</td>\n",
       "      <td>2.277174</td>\n",
       "      <td>120</td>\n",
       "      <td>8</td>\n",
       "      <td>128</td>\n",
       "      <td>209</td>\n",
       "      <td>...</td>\n",
       "      <td>54.768944</td>\n",
       "      <td>CTX3</td>\n",
       "      <td>16</td>\n",
       "      <td>887</td>\n",
       "      <td>male</td>\n",
       "      <td>APP/PS1</td>\n",
       "      <td>poor</td>\n",
       "      <td>suboptimal</td>\n",
       "      <td>optimal</td>\n",
       "      <td>False</td>\n",
       "    </tr>\n",
       "    <tr>\n",
       "      <th>...</th>\n",
       "      <td>...</td>\n",
       "      <td>...</td>\n",
       "      <td>...</td>\n",
       "      <td>...</td>\n",
       "      <td>...</td>\n",
       "      <td>...</td>\n",
       "      <td>...</td>\n",
       "      <td>...</td>\n",
       "      <td>...</td>\n",
       "      <td>...</td>\n",
       "      <td>...</td>\n",
       "      <td>...</td>\n",
       "      <td>...</td>\n",
       "      <td>...</td>\n",
       "      <td>...</td>\n",
       "      <td>...</td>\n",
       "      <td>...</td>\n",
       "      <td>...</td>\n",
       "      <td>...</td>\n",
       "      <td>...</td>\n",
       "      <td>...</td>\n",
       "    </tr>\n",
       "    <tr>\n",
       "      <th>187</th>\n",
       "      <td>187</td>\n",
       "      <td>DSB Iba1 49_40X_CA3</td>\n",
       "      <td>0.529412</td>\n",
       "      <td>1.500000</td>\n",
       "      <td>1.990654</td>\n",
       "      <td>3.491803</td>\n",
       "      <td>6</td>\n",
       "      <td>11</td>\n",
       "      <td>17</td>\n",
       "      <td>107</td>\n",
       "      <td>...</td>\n",
       "      <td>6.575108</td>\n",
       "      <td>CA3</td>\n",
       "      <td>49</td>\n",
       "      <td>231</td>\n",
       "      <td>male</td>\n",
       "      <td>APP/PS1 x Neil3 KO</td>\n",
       "      <td>poor</td>\n",
       "      <td>optimal</td>\n",
       "      <td>optimal</td>\n",
       "      <td>False</td>\n",
       "    </tr>\n",
       "    <tr>\n",
       "      <th>188</th>\n",
       "      <td>188</td>\n",
       "      <td>DSB Iba1 49_40X_CTX1</td>\n",
       "      <td>0.944444</td>\n",
       "      <td>1.214286</td>\n",
       "      <td>1.448529</td>\n",
       "      <td>1.539062</td>\n",
       "      <td>14</td>\n",
       "      <td>4</td>\n",
       "      <td>18</td>\n",
       "      <td>136</td>\n",
       "      <td>...</td>\n",
       "      <td>8.087635</td>\n",
       "      <td>CTX1</td>\n",
       "      <td>49</td>\n",
       "      <td>231</td>\n",
       "      <td>male</td>\n",
       "      <td>APP/PS1 x Neil3 KO</td>\n",
       "      <td>poor</td>\n",
       "      <td>optimal</td>\n",
       "      <td>suboptimal</td>\n",
       "      <td>False</td>\n",
       "    </tr>\n",
       "    <tr>\n",
       "      <th>189</th>\n",
       "      <td>189</td>\n",
       "      <td>DSB Iba1 49_40X_CTX2</td>\n",
       "      <td>1.200000</td>\n",
       "      <td>1.500000</td>\n",
       "      <td>1.766871</td>\n",
       "      <td>1.945946</td>\n",
       "      <td>12</td>\n",
       "      <td>3</td>\n",
       "      <td>15</td>\n",
       "      <td>163</td>\n",
       "      <td>...</td>\n",
       "      <td>6.462860</td>\n",
       "      <td>CTX2</td>\n",
       "      <td>49</td>\n",
       "      <td>231</td>\n",
       "      <td>male</td>\n",
       "      <td>APP/PS1 x Neil3 KO</td>\n",
       "      <td>poor</td>\n",
       "      <td>optimal</td>\n",
       "      <td>suboptimal</td>\n",
       "      <td>False</td>\n",
       "    </tr>\n",
       "    <tr>\n",
       "      <th>190</th>\n",
       "      <td>190</td>\n",
       "      <td>DSB Iba1 49_40X_CTX3</td>\n",
       "      <td>0.500000</td>\n",
       "      <td>1.000000</td>\n",
       "      <td>1.229358</td>\n",
       "      <td>1.942029</td>\n",
       "      <td>5</td>\n",
       "      <td>5</td>\n",
       "      <td>10</td>\n",
       "      <td>109</td>\n",
       "      <td>...</td>\n",
       "      <td>2.494907</td>\n",
       "      <td>CTX3</td>\n",
       "      <td>49</td>\n",
       "      <td>231</td>\n",
       "      <td>male</td>\n",
       "      <td>APP/PS1 x Neil3 KO</td>\n",
       "      <td>poor</td>\n",
       "      <td>optimal</td>\n",
       "      <td>optimal</td>\n",
       "      <td>False</td>\n",
       "    </tr>\n",
       "    <tr>\n",
       "      <th>191</th>\n",
       "      <td>191</td>\n",
       "      <td>DSB Iba1 49_40X_DG</td>\n",
       "      <td>1.833333</td>\n",
       "      <td>1.913043</td>\n",
       "      <td>2.756579</td>\n",
       "      <td>2.812081</td>\n",
       "      <td>23</td>\n",
       "      <td>1</td>\n",
       "      <td>24</td>\n",
       "      <td>152</td>\n",
       "      <td>...</td>\n",
       "      <td>14.119244</td>\n",
       "      <td>DG</td>\n",
       "      <td>49</td>\n",
       "      <td>231</td>\n",
       "      <td>male</td>\n",
       "      <td>APP/PS1 x Neil3 KO</td>\n",
       "      <td>poor</td>\n",
       "      <td>optimal</td>\n",
       "      <td>suboptimal</td>\n",
       "      <td>False</td>\n",
       "    </tr>\n",
       "  </tbody>\n",
       "</table>\n",
       "<p>72 rows × 21 columns</p>\n",
       "</div>"
      ],
      "text/plain": [
       "     index              filename  avg_dna_damage_foci/glia_+  \\\n",
       "0        0   DSB Iba1 16_40X_CA1                    0.568182   \n",
       "1        1   DSB Iba1 16_40X_CA3                    2.722581   \n",
       "2        2  DSB Iba1 16_40X_CTX1                    0.756757   \n",
       "3        3  DSB Iba1 16_40X_CTX2                    1.748899   \n",
       "4        4  DSB Iba1 16_40X_CTX3                    1.750000   \n",
       "..     ...                   ...                         ...   \n",
       "187    187   DSB Iba1 49_40X_CA3                    0.529412   \n",
       "188    188  DSB Iba1 49_40X_CTX1                    0.944444   \n",
       "189    189  DSB Iba1 49_40X_CTX2                    1.200000   \n",
       "190    190  DSB Iba1 49_40X_CTX3                    0.500000   \n",
       "191    191    DSB Iba1 49_40X_DG                    1.833333   \n",
       "\n",
       "     avg_dna_damage_foci/glia_+_damage_+  avg_dna_damage_foci/all_nuclei  \\\n",
       "0                               1.315789                        0.840491   \n",
       "1                               2.992908                        4.049080   \n",
       "2                               1.647059                        0.738739   \n",
       "3                               1.821101                        2.535270   \n",
       "4                               1.866667                        2.004785   \n",
       "..                                   ...                             ...   \n",
       "187                             1.500000                        1.990654   \n",
       "188                             1.214286                        1.448529   \n",
       "189                             1.500000                        1.766871   \n",
       "190                             1.000000                        1.229358   \n",
       "191                             1.913043                        2.756579   \n",
       "\n",
       "     avg_dna_damage_foci/all_nuclei_damage_+  nr_+_dna_damage_glia_nuclei  \\\n",
       "0                                   1.611765                           57   \n",
       "1                                   4.230769                          141   \n",
       "2                                   1.822222                           17   \n",
       "3                                   2.588983                          218   \n",
       "4                                   2.277174                          120   \n",
       "..                                       ...                          ...   \n",
       "187                                 3.491803                            6   \n",
       "188                                 1.539062                           14   \n",
       "189                                 1.945946                           12   \n",
       "190                                 1.942029                            5   \n",
       "191                                 2.812081                           23   \n",
       "\n",
       "     nr_-_dna_damage_glia_nuclei  nr_glia_+_nuclei  nr_total_nuclei  ...  \\\n",
       "0                             75               132              163  ...   \n",
       "1                             14               155              163  ...   \n",
       "2                             20                37              222  ...   \n",
       "3                              9               227              241  ...   \n",
       "4                              8               128              209  ...   \n",
       "..                           ...               ...              ...  ...   \n",
       "187                           11                17              107  ...   \n",
       "188                            4                18              136  ...   \n",
       "189                            3                15              163  ...   \n",
       "190                            5                10              109  ...   \n",
       "191                            1                24              152  ...   \n",
       "\n",
       "     %_glia+_signal  tissue_location staining_id  animal_id   sex  \\\n",
       "0         88.633728              CA1          16        887  male   \n",
       "1         96.349525              CA3          16        887  male   \n",
       "2         13.598442             CTX1          16        887  male   \n",
       "3         94.930744             CTX2          16        887  male   \n",
       "4         54.768944             CTX3          16        887  male   \n",
       "..              ...              ...         ...        ...   ...   \n",
       "187        6.575108              CA3          49        231  male   \n",
       "188        8.087635             CTX1          49        231  male   \n",
       "189        6.462860             CTX2          49        231  male   \n",
       "190        2.494907             CTX3          49        231  male   \n",
       "191       14.119244               DG          49        231  male   \n",
       "\n",
       "               genotype dna_damage_stain_quality_manual  \\\n",
       "0               APP/PS1                            poor   \n",
       "1               APP/PS1                            poor   \n",
       "2               APP/PS1                            poor   \n",
       "3               APP/PS1                            poor   \n",
       "4               APP/PS1                            poor   \n",
       "..                  ...                             ...   \n",
       "187  APP/PS1 x Neil3 KO                            poor   \n",
       "188  APP/PS1 x Neil3 KO                            poor   \n",
       "189  APP/PS1 x Neil3 KO                            poor   \n",
       "190  APP/PS1 x Neil3 KO                            poor   \n",
       "191  APP/PS1 x Neil3 KO                            poor   \n",
       "\n",
       "    glia_stain_quality_auto dna_damage_stain_quality_auto staining_qc_passed  \n",
       "0                suboptimal                       optimal              False  \n",
       "1                suboptimal                    suboptimal              False  \n",
       "2                   optimal                       optimal              False  \n",
       "3                suboptimal                    suboptimal              False  \n",
       "4                suboptimal                       optimal              False  \n",
       "..                      ...                           ...                ...  \n",
       "187                 optimal                       optimal              False  \n",
       "188                 optimal                    suboptimal              False  \n",
       "189                 optimal                    suboptimal              False  \n",
       "190                 optimal                       optimal              False  \n",
       "191                 optimal                    suboptimal              False  \n",
       "\n",
       "[72 rows x 21 columns]"
      ]
     },
     "execution_count": 165,
     "metadata": {},
     "output_type": "execute_result"
    }
   ],
   "source": [
    "qc_failed_df = merged_df[merged_df['staining_qc_passed'] == False]\n",
    "\n",
    "print(f\"{qc_failed_df.shape[0]} stains have not passed QC and will need reanalysis\")\n",
    "\n",
    "qc_failed_list = qc_failed_df['index'].tolist()\n",
    "\n",
    "qc_failed_df\n"
   ]
  }
 ],
 "metadata": {
  "kernelspec": {
   "display_name": "microglia",
   "language": "python",
   "name": "python3"
  },
  "language_info": {
   "codemirror_mode": {
    "name": "ipython",
    "version": 3
   },
   "file_extension": ".py",
   "mimetype": "text/x-python",
   "name": "python",
   "nbconvert_exporter": "python",
   "pygments_lexer": "ipython3",
   "version": "3.9.18"
  }
 },
 "nbformat": 4,
 "nbformat_minor": 2
}
