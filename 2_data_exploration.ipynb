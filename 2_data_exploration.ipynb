{
 "cells": [
  {
   "cell_type": "code",
   "execution_count": 1,
   "metadata": {},
   "outputs": [],
   "source": [
    "import pandas as pd\n",
    "import plotly.express as px\n",
    "import re"
   ]
  },
  {
   "cell_type": "code",
   "execution_count": 2,
   "metadata": {},
   "outputs": [
    {
     "data": {
      "text/html": [
       "<div>\n",
       "<style scoped>\n",
       "    .dataframe tbody tr th:only-of-type {\n",
       "        vertical-align: middle;\n",
       "    }\n",
       "\n",
       "    .dataframe tbody tr th {\n",
       "        vertical-align: top;\n",
       "    }\n",
       "\n",
       "    .dataframe thead th {\n",
       "        text-align: right;\n",
       "    }\n",
       "</style>\n",
       "<table border=\"1\" class=\"dataframe\">\n",
       "  <thead>\n",
       "    <tr style=\"text-align: right;\">\n",
       "      <th></th>\n",
       "      <th>index</th>\n",
       "      <th>filename</th>\n",
       "      <th>avg_dna_damage_foci/glia_+</th>\n",
       "      <th>avg_dna_damage_foci/glia_+_damage_+</th>\n",
       "      <th>avg_dna_damage_foci/all_nuclei</th>\n",
       "      <th>avg_dna_damage_foci/all_nuclei_damage_+</th>\n",
       "      <th>nr_+_dna_damage_glia_nuclei</th>\n",
       "      <th>nr_-_dna_damage_glia_nuclei</th>\n",
       "      <th>nr_glia_+_nuclei</th>\n",
       "      <th>nr_total_nuclei</th>\n",
       "      <th>%_dna_damage_signal</th>\n",
       "      <th>%_glia+_signal</th>\n",
       "      <th>tissue_location</th>\n",
       "      <th>staining_id</th>\n",
       "    </tr>\n",
       "  </thead>\n",
       "  <tbody>\n",
       "    <tr>\n",
       "      <th>0</th>\n",
       "      <td>0</td>\n",
       "      <td>DSB Iba1 16_40X_CA1</td>\n",
       "      <td>0.312169</td>\n",
       "      <td>1.035088</td>\n",
       "      <td>0.314655</td>\n",
       "      <td>1.028169</td>\n",
       "      <td>57</td>\n",
       "      <td>132</td>\n",
       "      <td>189</td>\n",
       "      <td>232</td>\n",
       "      <td>0.209141</td>\n",
       "      <td>88.633728</td>\n",
       "      <td>CA1</td>\n",
       "      <td>16</td>\n",
       "    </tr>\n",
       "    <tr>\n",
       "      <th>1</th>\n",
       "      <td>1</td>\n",
       "      <td>DSB Iba1 16_40X_CA3</td>\n",
       "      <td>0.800000</td>\n",
       "      <td>1.761905</td>\n",
       "      <td>0.776042</td>\n",
       "      <td>1.752941</td>\n",
       "      <td>84</td>\n",
       "      <td>101</td>\n",
       "      <td>185</td>\n",
       "      <td>192</td>\n",
       "      <td>0.511169</td>\n",
       "      <td>96.349525</td>\n",
       "      <td>CA3</td>\n",
       "      <td>16</td>\n",
       "    </tr>\n",
       "    <tr>\n",
       "      <th>2</th>\n",
       "      <td>2</td>\n",
       "      <td>DSB Iba1 16_40X_CTX1</td>\n",
       "      <td>0.071429</td>\n",
       "      <td>1.000000</td>\n",
       "      <td>0.179487</td>\n",
       "      <td>1.020833</td>\n",
       "      <td>3</td>\n",
       "      <td>39</td>\n",
       "      <td>42</td>\n",
       "      <td>272</td>\n",
       "      <td>0.130939</td>\n",
       "      <td>13.598442</td>\n",
       "      <td>CTX1</td>\n",
       "      <td>16</td>\n",
       "    </tr>\n",
       "    <tr>\n",
       "      <th>3</th>\n",
       "      <td>3</td>\n",
       "      <td>DSB Iba1 16_40X_CTX2</td>\n",
       "      <td>0.522822</td>\n",
       "      <td>1.272727</td>\n",
       "      <td>0.494340</td>\n",
       "      <td>1.259615</td>\n",
       "      <td>99</td>\n",
       "      <td>142</td>\n",
       "      <td>241</td>\n",
       "      <td>265</td>\n",
       "      <td>0.296688</td>\n",
       "      <td>94.930744</td>\n",
       "      <td>CTX2</td>\n",
       "      <td>16</td>\n",
       "    </tr>\n",
       "    <tr>\n",
       "      <th>4</th>\n",
       "      <td>4</td>\n",
       "      <td>DSB Iba1 16_40X_CTX3</td>\n",
       "      <td>0.586538</td>\n",
       "      <td>1.297872</td>\n",
       "      <td>0.537190</td>\n",
       "      <td>1.354167</td>\n",
       "      <td>47</td>\n",
       "      <td>57</td>\n",
       "      <td>104</td>\n",
       "      <td>242</td>\n",
       "      <td>0.392723</td>\n",
       "      <td>54.768944</td>\n",
       "      <td>CTX3</td>\n",
       "      <td>16</td>\n",
       "    </tr>\n",
       "  </tbody>\n",
       "</table>\n",
       "</div>"
      ],
      "text/plain": [
       "   index              filename  avg_dna_damage_foci/glia_+  \\\n",
       "0      0   DSB Iba1 16_40X_CA1                    0.312169   \n",
       "1      1   DSB Iba1 16_40X_CA3                    0.800000   \n",
       "2      2  DSB Iba1 16_40X_CTX1                    0.071429   \n",
       "3      3  DSB Iba1 16_40X_CTX2                    0.522822   \n",
       "4      4  DSB Iba1 16_40X_CTX3                    0.586538   \n",
       "\n",
       "   avg_dna_damage_foci/glia_+_damage_+  avg_dna_damage_foci/all_nuclei  \\\n",
       "0                             1.035088                        0.314655   \n",
       "1                             1.761905                        0.776042   \n",
       "2                             1.000000                        0.179487   \n",
       "3                             1.272727                        0.494340   \n",
       "4                             1.297872                        0.537190   \n",
       "\n",
       "   avg_dna_damage_foci/all_nuclei_damage_+  nr_+_dna_damage_glia_nuclei  \\\n",
       "0                                 1.028169                           57   \n",
       "1                                 1.752941                           84   \n",
       "2                                 1.020833                            3   \n",
       "3                                 1.259615                           99   \n",
       "4                                 1.354167                           47   \n",
       "\n",
       "   nr_-_dna_damage_glia_nuclei  nr_glia_+_nuclei  nr_total_nuclei  \\\n",
       "0                          132               189              232   \n",
       "1                          101               185              192   \n",
       "2                           39                42              272   \n",
       "3                          142               241              265   \n",
       "4                           57               104              242   \n",
       "\n",
       "   %_dna_damage_signal  %_glia+_signal tissue_location staining_id  \n",
       "0             0.209141       88.633728             CA1          16  \n",
       "1             0.511169       96.349525             CA3          16  \n",
       "2             0.130939       13.598442            CTX1          16  \n",
       "3             0.296688       94.930744            CTX2          16  \n",
       "4             0.392723       54.768944            CTX3          16  "
      ]
     },
     "execution_count": 2,
     "metadata": {},
     "output_type": "execute_result"
    }
   ],
   "source": [
    "# Define the results you want to explore\n",
    "csv_path = \"./results/results_cellpdia30_sigma1_dilrad4_dnad_obj_seg_v2_gliaero6_gliathr20_dnadero2.csv\"\n",
    "\n",
    "# Define the path containing the corresponding mouse_ids\n",
    "mouse_id_csv_path = \"./mouse_ids_Iba1.csv\"\n",
    "\n",
    "# Read the CSV file\n",
    "df = pd.read_csv(csv_path)\n",
    "df_mouse_id = pd.read_csv(mouse_id_csv_path, delimiter=\";\", encoding=\"UTF-8\")\n",
    "\n",
    "# Convert the index into a column\n",
    "df.reset_index(inplace=True)\n",
    "\n",
    "# Extract 'tissue_location'\n",
    "df['tissue_location'] = df['filename'].str.split('_40X_').str[-1]\n",
    "\n",
    "# Extract 'staining_id'\n",
    "df['staining_id'] = df['filename'].str.extract('(\\d+)_40X')\n",
    "\n",
    "# Display the first few rows of the DataFrame\n",
    "df.head()\n"
   ]
  },
  {
   "cell_type": "code",
   "execution_count": 3,
   "metadata": {},
   "outputs": [
    {
     "name": "stdout",
     "output_type": "stream",
     "text": [
      "Cellpose nuclei diameter: 30\n",
      "Gaussian sigma: 1\n",
      "Dilation radius nuclei: 4\n",
      "Dna damage segmenter version: 2\n",
      "Glia erosion: 6\n",
      "Glia threshold: 20\n",
      "Glia semantic segmentation version: None\n",
      "DNA damage foci erosion: 2\n"
     ]
    }
   ],
   "source": [
    "# Extract analysis parameters from the CSV path\n",
    "extracted_values = re.findall(r'\\d+', csv_path)\n",
    "\n",
    "# Dynamically assign the extracted values to variables\n",
    "if len(extracted_values) >= 7:\n",
    "    cellpose_nuclei_diameter = int(extracted_values[0])\n",
    "    gaussian_sigma = int(extracted_values[1])\n",
    "    dilation_radius_nuclei = int(extracted_values[2])\n",
    "    dna_damage_segmenter_version = int(extracted_values[3])\n",
    "    glia_nuclei_colocalization_erosion = int(extracted_values[4])\n",
    "    dna_damage_erosion = int(extracted_values[6])\n",
    "    if \"_glia_sem_seg_v\" in str(csv_path):\n",
    "        glia_segmenter = True\n",
    "    else:\n",
    "        glia_segmenter = False\n",
    "\n",
    "if glia_segmenter:\n",
    "    glia_segmenter_version = int(extracted_values[5])\n",
    "    glia_channel_threshold = None\n",
    "    # Dinamically adjust plot titles\n",
    "    title = f\"cellpdia{cellpose_nuclei_diameter}_sigma{gaussian_sigma}_dilrad{dilation_radius_nuclei}_dnad_obj_seg_v{dna_damage_segmenter_version}_gliaero{glia_nuclei_colocalization_erosion}_glia_sem_seg_v{glia_segmenter_version}_dnadero{dna_damage_erosion}\"\n",
    "else:\n",
    "    glia_channel_threshold = int(extracted_values[5])\n",
    "    glia_segmenter_version = None\n",
    "    # Dinamically adjust plot titles\n",
    "    title = f\"cellpdia{cellpose_nuclei_diameter}_sigma{gaussian_sigma}_dilrad{dilation_radius_nuclei}_dnad_obj_seg_v{dna_damage_segmenter_version}_gliaero{glia_nuclei_colocalization_erosion}_gliathr{glia_channel_threshold}_dnadero{dna_damage_erosion}\"\n",
    "    \n",
    "\n",
    "# Print the assigned analysis parameters\n",
    "print(f\"Cellpose nuclei diameter: {cellpose_nuclei_diameter}\")\n",
    "print(f\"Gaussian sigma: {gaussian_sigma}\")\n",
    "print(f\"Dilation radius nuclei: {dilation_radius_nuclei}\")\n",
    "print(f\"Dna damage segmenter version: {dna_damage_segmenter_version}\")\n",
    "print(f\"Glia erosion: {glia_nuclei_colocalization_erosion}\")\n",
    "print(f\"Glia threshold: {glia_channel_threshold}\")\n",
    "print(f\"Glia semantic segmentation version: {glia_segmenter_version}\")\n",
    "print(f\"DNA damage foci erosion: {dna_damage_erosion}\")\n",
    "\n"
   ]
  },
  {
   "cell_type": "code",
   "execution_count": 4,
   "metadata": {},
   "outputs": [
    {
     "data": {
      "text/html": [
       "<div>\n",
       "<style scoped>\n",
       "    .dataframe tbody tr th:only-of-type {\n",
       "        vertical-align: middle;\n",
       "    }\n",
       "\n",
       "    .dataframe tbody tr th {\n",
       "        vertical-align: top;\n",
       "    }\n",
       "\n",
       "    .dataframe thead th {\n",
       "        text-align: right;\n",
       "    }\n",
       "</style>\n",
       "<table border=\"1\" class=\"dataframe\">\n",
       "  <thead>\n",
       "    <tr style=\"text-align: right;\">\n",
       "      <th></th>\n",
       "      <th>index</th>\n",
       "      <th>filename</th>\n",
       "      <th>avg_dna_damage_foci/glia_+</th>\n",
       "      <th>avg_dna_damage_foci/glia_+_damage_+</th>\n",
       "      <th>avg_dna_damage_foci/all_nuclei</th>\n",
       "      <th>avg_dna_damage_foci/all_nuclei_damage_+</th>\n",
       "      <th>nr_+_dna_damage_glia_nuclei</th>\n",
       "      <th>nr_-_dna_damage_glia_nuclei</th>\n",
       "      <th>nr_glia_+_nuclei</th>\n",
       "      <th>nr_total_nuclei</th>\n",
       "      <th>%_dna_damage_signal</th>\n",
       "      <th>%_glia+_signal</th>\n",
       "      <th>tissue_location</th>\n",
       "      <th>staining_id</th>\n",
       "      <th>animal_id</th>\n",
       "      <th>sex</th>\n",
       "      <th>genotype</th>\n",
       "      <th>dna_damage_stain_quality_manual</th>\n",
       "      <th>manual_qc</th>\n",
       "    </tr>\n",
       "  </thead>\n",
       "  <tbody>\n",
       "    <tr>\n",
       "      <th>0</th>\n",
       "      <td>0</td>\n",
       "      <td>DSB Iba1 16_40X_CA1</td>\n",
       "      <td>0.312169</td>\n",
       "      <td>1.035088</td>\n",
       "      <td>0.314655</td>\n",
       "      <td>1.028169</td>\n",
       "      <td>57</td>\n",
       "      <td>132</td>\n",
       "      <td>189</td>\n",
       "      <td>232</td>\n",
       "      <td>0.209141</td>\n",
       "      <td>88.633728</td>\n",
       "      <td>CA1</td>\n",
       "      <td>16</td>\n",
       "      <td>887</td>\n",
       "      <td>male</td>\n",
       "      <td>APP/PS1</td>\n",
       "      <td>poor</td>\n",
       "      <td>failed</td>\n",
       "    </tr>\n",
       "    <tr>\n",
       "      <th>1</th>\n",
       "      <td>1</td>\n",
       "      <td>DSB Iba1 16_40X_CA3</td>\n",
       "      <td>0.800000</td>\n",
       "      <td>1.761905</td>\n",
       "      <td>0.776042</td>\n",
       "      <td>1.752941</td>\n",
       "      <td>84</td>\n",
       "      <td>101</td>\n",
       "      <td>185</td>\n",
       "      <td>192</td>\n",
       "      <td>0.511169</td>\n",
       "      <td>96.349525</td>\n",
       "      <td>CA3</td>\n",
       "      <td>16</td>\n",
       "      <td>887</td>\n",
       "      <td>male</td>\n",
       "      <td>APP/PS1</td>\n",
       "      <td>poor</td>\n",
       "      <td>failed</td>\n",
       "    </tr>\n",
       "    <tr>\n",
       "      <th>2</th>\n",
       "      <td>2</td>\n",
       "      <td>DSB Iba1 16_40X_CTX1</td>\n",
       "      <td>0.071429</td>\n",
       "      <td>1.000000</td>\n",
       "      <td>0.179487</td>\n",
       "      <td>1.020833</td>\n",
       "      <td>3</td>\n",
       "      <td>39</td>\n",
       "      <td>42</td>\n",
       "      <td>272</td>\n",
       "      <td>0.130939</td>\n",
       "      <td>13.598442</td>\n",
       "      <td>CTX1</td>\n",
       "      <td>16</td>\n",
       "      <td>887</td>\n",
       "      <td>male</td>\n",
       "      <td>APP/PS1</td>\n",
       "      <td>poor</td>\n",
       "      <td>failed</td>\n",
       "    </tr>\n",
       "    <tr>\n",
       "      <th>3</th>\n",
       "      <td>3</td>\n",
       "      <td>DSB Iba1 16_40X_CTX2</td>\n",
       "      <td>0.522822</td>\n",
       "      <td>1.272727</td>\n",
       "      <td>0.494340</td>\n",
       "      <td>1.259615</td>\n",
       "      <td>99</td>\n",
       "      <td>142</td>\n",
       "      <td>241</td>\n",
       "      <td>265</td>\n",
       "      <td>0.296688</td>\n",
       "      <td>94.930744</td>\n",
       "      <td>CTX2</td>\n",
       "      <td>16</td>\n",
       "      <td>887</td>\n",
       "      <td>male</td>\n",
       "      <td>APP/PS1</td>\n",
       "      <td>poor</td>\n",
       "      <td>failed</td>\n",
       "    </tr>\n",
       "    <tr>\n",
       "      <th>4</th>\n",
       "      <td>4</td>\n",
       "      <td>DSB Iba1 16_40X_CTX3</td>\n",
       "      <td>0.586538</td>\n",
       "      <td>1.297872</td>\n",
       "      <td>0.537190</td>\n",
       "      <td>1.354167</td>\n",
       "      <td>47</td>\n",
       "      <td>57</td>\n",
       "      <td>104</td>\n",
       "      <td>242</td>\n",
       "      <td>0.392723</td>\n",
       "      <td>54.768944</td>\n",
       "      <td>CTX3</td>\n",
       "      <td>16</td>\n",
       "      <td>887</td>\n",
       "      <td>male</td>\n",
       "      <td>APP/PS1</td>\n",
       "      <td>poor</td>\n",
       "      <td>failed</td>\n",
       "    </tr>\n",
       "  </tbody>\n",
       "</table>\n",
       "</div>"
      ],
      "text/plain": [
       "   index              filename  avg_dna_damage_foci/glia_+  \\\n",
       "0      0   DSB Iba1 16_40X_CA1                    0.312169   \n",
       "1      1   DSB Iba1 16_40X_CA3                    0.800000   \n",
       "2      2  DSB Iba1 16_40X_CTX1                    0.071429   \n",
       "3      3  DSB Iba1 16_40X_CTX2                    0.522822   \n",
       "4      4  DSB Iba1 16_40X_CTX3                    0.586538   \n",
       "\n",
       "   avg_dna_damage_foci/glia_+_damage_+  avg_dna_damage_foci/all_nuclei  \\\n",
       "0                             1.035088                        0.314655   \n",
       "1                             1.761905                        0.776042   \n",
       "2                             1.000000                        0.179487   \n",
       "3                             1.272727                        0.494340   \n",
       "4                             1.297872                        0.537190   \n",
       "\n",
       "   avg_dna_damage_foci/all_nuclei_damage_+  nr_+_dna_damage_glia_nuclei  \\\n",
       "0                                 1.028169                           57   \n",
       "1                                 1.752941                           84   \n",
       "2                                 1.020833                            3   \n",
       "3                                 1.259615                           99   \n",
       "4                                 1.354167                           47   \n",
       "\n",
       "   nr_-_dna_damage_glia_nuclei  nr_glia_+_nuclei  nr_total_nuclei  \\\n",
       "0                          132               189              232   \n",
       "1                          101               185              192   \n",
       "2                           39                42              272   \n",
       "3                          142               241              265   \n",
       "4                           57               104              242   \n",
       "\n",
       "   %_dna_damage_signal  %_glia+_signal tissue_location  staining_id  \\\n",
       "0             0.209141       88.633728             CA1           16   \n",
       "1             0.511169       96.349525             CA3           16   \n",
       "2             0.130939       13.598442            CTX1           16   \n",
       "3             0.296688       94.930744            CTX2           16   \n",
       "4             0.392723       54.768944            CTX3           16   \n",
       "\n",
       "   animal_id   sex genotype dna_damage_stain_quality_manual manual_qc  \n",
       "0        887  male  APP/PS1                            poor    failed  \n",
       "1        887  male  APP/PS1                            poor    failed  \n",
       "2        887  male  APP/PS1                            poor    failed  \n",
       "3        887  male  APP/PS1                            poor    failed  \n",
       "4        887  male  APP/PS1                            poor    failed  "
      ]
     },
     "execution_count": 4,
     "metadata": {},
     "output_type": "execute_result"
    }
   ],
   "source": [
    "df['staining_id'] = pd.to_numeric(df['staining_id'], errors='coerce')\n",
    "df_mouse_id['staining_id'] = pd.to_numeric(df_mouse_id['staining_id'], errors='coerce')\n",
    "\n",
    "# Merge both processed_results_df and mouse_id dataframes on staining_id\n",
    "merged_df = pd.merge(df, df_mouse_id, on=\"staining_id\")\n",
    "\n",
    "# Display the first few rows of the DataFrame\n",
    "merged_df.head()"
   ]
  },
  {
   "cell_type": "code",
   "execution_count": 5,
   "metadata": {},
   "outputs": [
    {
     "data": {
      "application/vnd.plotly.v1+json": {
       "config": {
        "plotlyServerURL": "https://plot.ly"
       },
       "data": [
        {
         "customdata": [
          [
           16,
           0
          ],
          [
           16,
           1
          ],
          [
           16,
           2
          ],
          [
           16,
           3
          ],
          [
           16,
           4
          ],
          [
           16,
           5
          ],
          [
           17,
           6
          ],
          [
           17,
           7
          ],
          [
           17,
           8
          ],
          [
           17,
           9
          ],
          [
           17,
           10
          ],
          [
           17,
           11
          ],
          [
           18,
           12
          ],
          [
           18,
           13
          ],
          [
           18,
           14
          ],
          [
           18,
           15
          ],
          [
           18,
           16
          ],
          [
           18,
           17
          ],
          [
           19,
           18
          ],
          [
           19,
           19
          ],
          [
           19,
           20
          ],
          [
           19,
           21
          ],
          [
           19,
           22
          ],
          [
           19,
           23
          ],
          [
           20,
           24
          ],
          [
           20,
           25
          ],
          [
           20,
           26
          ],
          [
           20,
           27
          ],
          [
           20,
           28
          ],
          [
           20,
           29
          ],
          [
           21,
           30
          ],
          [
           21,
           31
          ],
          [
           21,
           32
          ],
          [
           21,
           33
          ],
          [
           21,
           34
          ],
          [
           21,
           35
          ],
          [
           22,
           36
          ],
          [
           22,
           37
          ],
          [
           22,
           38
          ],
          [
           22,
           39
          ],
          [
           22,
           40
          ],
          [
           22,
           41
          ],
          [
           23,
           42
          ],
          [
           23,
           43
          ],
          [
           23,
           44
          ],
          [
           23,
           45
          ],
          [
           23,
           46
          ],
          [
           23,
           47
          ],
          [
           24,
           48
          ],
          [
           24,
           49
          ],
          [
           24,
           50
          ],
          [
           24,
           51
          ],
          [
           24,
           52
          ],
          [
           24,
           53
          ],
          [
           25,
           54
          ],
          [
           25,
           55
          ],
          [
           25,
           56
          ],
          [
           25,
           57
          ],
          [
           25,
           58
          ],
          [
           25,
           59
          ],
          [
           26,
           60
          ],
          [
           26,
           61
          ],
          [
           26,
           62
          ],
          [
           26,
           63
          ],
          [
           26,
           64
          ],
          [
           26,
           65
          ],
          [
           27,
           66
          ],
          [
           28,
           67
          ],
          [
           28,
           68
          ],
          [
           28,
           69
          ],
          [
           28,
           70
          ],
          [
           28,
           71
          ],
          [
           28,
           72
          ],
          [
           29,
           73
          ],
          [
           29,
           74
          ],
          [
           29,
           75
          ],
          [
           29,
           76
          ],
          [
           29,
           77
          ],
          [
           29,
           78
          ],
          [
           30,
           79
          ],
          [
           30,
           80
          ],
          [
           30,
           81
          ],
          [
           30,
           82
          ],
          [
           30,
           83
          ],
          [
           30,
           84
          ],
          [
           31,
           85
          ],
          [
           31,
           86
          ],
          [
           31,
           87
          ],
          [
           31,
           88
          ],
          [
           31,
           89
          ],
          [
           31,
           90
          ],
          [
           32,
           91
          ],
          [
           32,
           92
          ],
          [
           32,
           93
          ],
          [
           32,
           94
          ],
          [
           32,
           95
          ],
          [
           32,
           96
          ],
          [
           33,
           97
          ],
          [
           33,
           98
          ],
          [
           33,
           99
          ],
          [
           33,
           100
          ],
          [
           33,
           101
          ],
          [
           33,
           102
          ],
          [
           34,
           103
          ],
          [
           34,
           104
          ],
          [
           34,
           105
          ],
          [
           34,
           106
          ],
          [
           34,
           107
          ],
          [
           34,
           108
          ],
          [
           35,
           109
          ],
          [
           35,
           110
          ],
          [
           35,
           111
          ],
          [
           35,
           112
          ],
          [
           35,
           113
          ],
          [
           35,
           114
          ],
          [
           36,
           115
          ],
          [
           36,
           116
          ],
          [
           36,
           117
          ],
          [
           36,
           118
          ],
          [
           36,
           119
          ],
          [
           36,
           120
          ],
          [
           37,
           121
          ],
          [
           37,
           122
          ],
          [
           37,
           123
          ],
          [
           37,
           124
          ],
          [
           37,
           125
          ],
          [
           37,
           126
          ],
          [
           38,
           127
          ],
          [
           39,
           128
          ],
          [
           39,
           129
          ],
          [
           39,
           130
          ],
          [
           39,
           131
          ],
          [
           39,
           132
          ],
          [
           39,
           133
          ],
          [
           40,
           134
          ],
          [
           40,
           135
          ],
          [
           40,
           136
          ],
          [
           40,
           137
          ],
          [
           40,
           138
          ],
          [
           40,
           139
          ],
          [
           41,
           140
          ],
          [
           41,
           141
          ],
          [
           41,
           142
          ],
          [
           41,
           143
          ],
          [
           41,
           144
          ],
          [
           41,
           145
          ],
          [
           42,
           146
          ],
          [
           42,
           147
          ],
          [
           42,
           148
          ],
          [
           42,
           149
          ],
          [
           42,
           150
          ],
          [
           42,
           151
          ],
          [
           43,
           152
          ],
          [
           43,
           153
          ],
          [
           43,
           154
          ],
          [
           43,
           155
          ],
          [
           43,
           156
          ],
          [
           43,
           157
          ],
          [
           44,
           158
          ],
          [
           44,
           159
          ],
          [
           44,
           160
          ],
          [
           44,
           161
          ],
          [
           45,
           162
          ],
          [
           45,
           163
          ],
          [
           45,
           164
          ],
          [
           45,
           165
          ],
          [
           45,
           166
          ],
          [
           45,
           167
          ],
          [
           46,
           168
          ],
          [
           46,
           169
          ],
          [
           46,
           170
          ],
          [
           46,
           171
          ],
          [
           46,
           172
          ],
          [
           46,
           173
          ],
          [
           47,
           174
          ],
          [
           47,
           175
          ],
          [
           47,
           176
          ],
          [
           47,
           177
          ],
          [
           47,
           178
          ],
          [
           47,
           179
          ],
          [
           48,
           180
          ],
          [
           48,
           181
          ],
          [
           48,
           182
          ],
          [
           48,
           183
          ],
          [
           48,
           184
          ],
          [
           48,
           185
          ],
          [
           49,
           186
          ],
          [
           49,
           187
          ],
          [
           49,
           188
          ],
          [
           49,
           189
          ],
          [
           49,
           190
          ],
          [
           49,
           191
          ],
          [
           50,
           192
          ],
          [
           50,
           193
          ],
          [
           50,
           194
          ],
          [
           50,
           195
          ],
          [
           50,
           196
          ],
          [
           50,
           197
          ],
          [
           51,
           198
          ],
          [
           51,
           199
          ],
          [
           51,
           200
          ],
          [
           51,
           201
          ],
          [
           51,
           202
          ],
          [
           51,
           203
          ],
          [
           52,
           204
          ],
          [
           52,
           205
          ],
          [
           52,
           206
          ],
          [
           52,
           207
          ],
          [
           52,
           208
          ],
          [
           52,
           209
          ],
          [
           53,
           210
          ],
          [
           53,
           211
          ],
          [
           53,
           212
          ],
          [
           53,
           213
          ],
          [
           53,
           214
          ],
          [
           53,
           215
          ],
          [
           54,
           216
          ],
          [
           54,
           217
          ],
          [
           54,
           218
          ],
          [
           54,
           219
          ],
          [
           54,
           220
          ],
          [
           54,
           221
          ],
          [
           55,
           222
          ],
          [
           55,
           223
          ],
          [
           55,
           224
          ],
          [
           55,
           225
          ],
          [
           55,
           226
          ],
          [
           55,
           227
          ],
          [
           56,
           228
          ],
          [
           56,
           229
          ],
          [
           56,
           230
          ],
          [
           56,
           231
          ],
          [
           56,
           232
          ],
          [
           56,
           233
          ],
          [
           57,
           234
          ],
          [
           57,
           235
          ],
          [
           57,
           236
          ],
          [
           57,
           237
          ],
          [
           57,
           238
          ],
          [
           57,
           239
          ],
          [
           58,
           240
          ],
          [
           58,
           241
          ],
          [
           58,
           242
          ],
          [
           58,
           243
          ],
          [
           58,
           244
          ],
          [
           58,
           245
          ],
          [
           59,
           246
          ],
          [
           59,
           247
          ],
          [
           59,
           248
          ],
          [
           59,
           249
          ],
          [
           59,
           250
          ],
          [
           59,
           251
          ]
         ],
         "hovertemplate": "tissue_location=%{x}<br>nr_+_dna_damage_glia_nuclei=%{y}<br>staining_id=%{customdata[0]}<br>index=%{customdata[1]}<extra></extra>",
         "legendgroup": "",
         "marker": {
          "color": "#636efa",
          "symbol": "circle"
         },
         "mode": "markers",
         "name": "",
         "orientation": "v",
         "showlegend": false,
         "type": "scatter",
         "x": [
          "CA1",
          "CA3",
          "CTX1",
          "CTX2",
          "CTX3",
          "DG",
          "CA1",
          "CA3",
          "CTX1",
          "CTX2",
          "CTX3",
          "DG",
          "CA1",
          "CA3",
          "CTX1",
          "CTX2",
          "CTX3",
          "DG",
          "CA1",
          "CA3",
          "CTX1",
          "CTX2",
          "CTX3",
          "DG",
          "CA1",
          "CA3",
          "CTX1",
          "CTX2",
          "CTX3",
          "DG",
          "CA1",
          "CA3",
          "CTX1",
          "CTX2",
          "CTX3",
          "DG",
          "CA1",
          "CA3",
          "CTX1",
          "CTX2",
          "CTX3",
          "DG",
          "CA1",
          "CA3",
          "CTX1",
          "CTX2",
          "CTX3",
          "DG",
          "CA1",
          "CA3",
          "CTX1",
          "CTX2",
          "CTX3",
          "DG",
          "CA1",
          "CA3",
          "CTX1",
          "CTX2",
          "CTX3",
          "DG",
          "CA1",
          "CA3",
          "CTX1",
          "CTX2",
          "CTX3",
          "DG",
          "DG",
          "CA1",
          "CA3",
          "CTX1",
          "CTX2",
          "CTX3",
          "DG",
          "CA1",
          "CA3",
          "CTX1",
          "CTX2",
          "CTX3",
          "DG",
          "CA1",
          "CA3",
          "CTX1",
          "CTX2",
          "CTX3",
          "DG",
          "CA1",
          "CA3",
          "CTX1",
          "CTX2",
          "CTX3",
          "DG",
          "CA1",
          "CA3",
          "CTX1",
          "CTX2",
          "CTX3",
          "DG",
          "CA1",
          "CA3",
          "CTX1",
          "CTX2",
          "CTX3",
          "DG",
          "CA1",
          "CA3",
          "CTX1",
          "CTX2",
          "CTX3",
          "DG",
          "CA1",
          "CA3",
          "CTX1",
          "CTX2",
          "CTX3",
          "DG",
          "CA1",
          "CA3",
          "CTX1",
          "CTX2",
          "CTX3",
          "DG",
          "CA1",
          "CA3",
          "CTX1",
          "CTX2",
          "CTX3",
          "DG",
          "DG",
          "CA1",
          "CA3",
          "CTX1",
          "CTX2",
          "CTX3",
          "DG",
          "CA1",
          "CA3",
          "CTX1",
          "CTX2",
          "CTX3",
          "DG",
          "CA1",
          "CA3",
          "CTX1",
          "CTX2",
          "CTX3",
          "DG",
          "CA1",
          "CA3",
          "CTX1",
          "CTX2",
          "CTX3",
          "DG",
          "CA1",
          "CA3",
          "CTX1",
          "CTX2",
          "CTX3",
          "DG",
          "CA1",
          "CA3",
          "CTX1",
          "DG",
          "CA1",
          "CA3",
          "CTX1",
          "CTX2",
          "CTX3",
          "DG",
          "CA1",
          "CA3",
          "CTX1",
          "CTX2",
          "CTX3",
          "DG",
          "CA1",
          "CA3",
          "CTX1",
          "CTX2",
          "CTX3",
          "DG",
          "CA1",
          "CA3",
          "CTX1",
          "CTX2",
          "CTX3",
          "DG",
          "CA1",
          "CA3",
          "CTX1",
          "CTX2",
          "CTX3",
          "DG",
          "CA1",
          "CA3",
          "CTX1",
          "CTX2",
          "CTX3",
          "DG",
          "CA1",
          "CA3",
          "CTX1",
          "CTX2",
          "CTX3",
          "DG",
          "CA1",
          "CA3",
          "CTX1",
          "CTX2",
          "CTX3",
          "DG",
          "CA1",
          "CA3",
          "CTX1",
          "CTX2",
          "CTX3",
          "DG",
          "CA1",
          "CA3",
          "CTX1",
          "CTX2",
          "CTX3",
          "DG",
          "CA1",
          "CA3",
          "CTX1",
          "CTX2",
          "CTX3",
          "DG",
          "CA1",
          "CA3",
          "CTX1",
          "CTX2",
          "CTX3",
          "DG",
          "CA1",
          "CA3",
          "CTX1",
          "CTX2",
          "CTX3",
          "DG",
          "CA1",
          "CA3",
          "CTX1",
          "CTX2",
          "CTX3",
          "DG",
          "CA1",
          "CA3",
          "CTX1",
          "CTX2",
          "CTX3",
          "DG"
         ],
         "xaxis": "x",
         "y": [
          57,
          84,
          3,
          99,
          47,
          113,
          2,
          6,
          6,
          28,
          14,
          40,
          7,
          5,
          4,
          4,
          8,
          91,
          57,
          60,
          128,
          42,
          31,
          121,
          4,
          4,
          2,
          17,
          1,
          5,
          7,
          2,
          13,
          12,
          17,
          10,
          7,
          4,
          6,
          8,
          4,
          13,
          2,
          3,
          8,
          0,
          8,
          10,
          0,
          1,
          0,
          7,
          1,
          1,
          5,
          8,
          9,
          14,
          6,
          13,
          4,
          5,
          4,
          5,
          6,
          5,
          2,
          0,
          0,
          1,
          6,
          8,
          17,
          8,
          4,
          10,
          19,
          9,
          4,
          0,
          1,
          10,
          6,
          6,
          2,
          7,
          1,
          5,
          6,
          10,
          9,
          7,
          9,
          13,
          19,
          16,
          24,
          3,
          4,
          5,
          11,
          4,
          4,
          8,
          5,
          17,
          16,
          22,
          13,
          3,
          19,
          7,
          55,
          44,
          79,
          7,
          3,
          14,
          24,
          8,
          5,
          3,
          0,
          9,
          14,
          19,
          1,
          2,
          3,
          3,
          0,
          1,
          1,
          7,
          2,
          5,
          12,
          5,
          18,
          4,
          2,
          0,
          0,
          0,
          2,
          5,
          3,
          3,
          1,
          8,
          8,
          1,
          4,
          4,
          18,
          6,
          7,
          34,
          23,
          15,
          44,
          64,
          11,
          2,
          3,
          12,
          6,
          19,
          48,
          20,
          42,
          39,
          31,
          61,
          7,
          8,
          5,
          36,
          18,
          10,
          6,
          4,
          12,
          11,
          11,
          7,
          7,
          2,
          2,
          4,
          4,
          9,
          1,
          0,
          0,
          1,
          10,
          5,
          5,
          5,
          4,
          5,
          8,
          9,
          3,
          4,
          1,
          14,
          9,
          7,
          3,
          5,
          15,
          17,
          7,
          9,
          4,
          3,
          4,
          6,
          13,
          7,
          3,
          2,
          1,
          3,
          0,
          4,
          7,
          2,
          9,
          9,
          7,
          9,
          3,
          6,
          9,
          5,
          4,
          9,
          3,
          3,
          11,
          10,
          2,
          1,
          4,
          3,
          3,
          9,
          10,
          4
         ],
         "yaxis": "y"
        }
       ],
       "layout": {
        "legend": {
         "tracegroupgap": 0
        },
        "template": {
         "data": {
          "bar": [
           {
            "error_x": {
             "color": "#2a3f5f"
            },
            "error_y": {
             "color": "#2a3f5f"
            },
            "marker": {
             "line": {
              "color": "#E5ECF6",
              "width": 0.5
             },
             "pattern": {
              "fillmode": "overlay",
              "size": 10,
              "solidity": 0.2
             }
            },
            "type": "bar"
           }
          ],
          "barpolar": [
           {
            "marker": {
             "line": {
              "color": "#E5ECF6",
              "width": 0.5
             },
             "pattern": {
              "fillmode": "overlay",
              "size": 10,
              "solidity": 0.2
             }
            },
            "type": "barpolar"
           }
          ],
          "carpet": [
           {
            "aaxis": {
             "endlinecolor": "#2a3f5f",
             "gridcolor": "white",
             "linecolor": "white",
             "minorgridcolor": "white",
             "startlinecolor": "#2a3f5f"
            },
            "baxis": {
             "endlinecolor": "#2a3f5f",
             "gridcolor": "white",
             "linecolor": "white",
             "minorgridcolor": "white",
             "startlinecolor": "#2a3f5f"
            },
            "type": "carpet"
           }
          ],
          "choropleth": [
           {
            "colorbar": {
             "outlinewidth": 0,
             "ticks": ""
            },
            "type": "choropleth"
           }
          ],
          "contour": [
           {
            "colorbar": {
             "outlinewidth": 0,
             "ticks": ""
            },
            "colorscale": [
             [
              0,
              "#0d0887"
             ],
             [
              0.1111111111111111,
              "#46039f"
             ],
             [
              0.2222222222222222,
              "#7201a8"
             ],
             [
              0.3333333333333333,
              "#9c179e"
             ],
             [
              0.4444444444444444,
              "#bd3786"
             ],
             [
              0.5555555555555556,
              "#d8576b"
             ],
             [
              0.6666666666666666,
              "#ed7953"
             ],
             [
              0.7777777777777778,
              "#fb9f3a"
             ],
             [
              0.8888888888888888,
              "#fdca26"
             ],
             [
              1,
              "#f0f921"
             ]
            ],
            "type": "contour"
           }
          ],
          "contourcarpet": [
           {
            "colorbar": {
             "outlinewidth": 0,
             "ticks": ""
            },
            "type": "contourcarpet"
           }
          ],
          "heatmap": [
           {
            "colorbar": {
             "outlinewidth": 0,
             "ticks": ""
            },
            "colorscale": [
             [
              0,
              "#0d0887"
             ],
             [
              0.1111111111111111,
              "#46039f"
             ],
             [
              0.2222222222222222,
              "#7201a8"
             ],
             [
              0.3333333333333333,
              "#9c179e"
             ],
             [
              0.4444444444444444,
              "#bd3786"
             ],
             [
              0.5555555555555556,
              "#d8576b"
             ],
             [
              0.6666666666666666,
              "#ed7953"
             ],
             [
              0.7777777777777778,
              "#fb9f3a"
             ],
             [
              0.8888888888888888,
              "#fdca26"
             ],
             [
              1,
              "#f0f921"
             ]
            ],
            "type": "heatmap"
           }
          ],
          "heatmapgl": [
           {
            "colorbar": {
             "outlinewidth": 0,
             "ticks": ""
            },
            "colorscale": [
             [
              0,
              "#0d0887"
             ],
             [
              0.1111111111111111,
              "#46039f"
             ],
             [
              0.2222222222222222,
              "#7201a8"
             ],
             [
              0.3333333333333333,
              "#9c179e"
             ],
             [
              0.4444444444444444,
              "#bd3786"
             ],
             [
              0.5555555555555556,
              "#d8576b"
             ],
             [
              0.6666666666666666,
              "#ed7953"
             ],
             [
              0.7777777777777778,
              "#fb9f3a"
             ],
             [
              0.8888888888888888,
              "#fdca26"
             ],
             [
              1,
              "#f0f921"
             ]
            ],
            "type": "heatmapgl"
           }
          ],
          "histogram": [
           {
            "marker": {
             "pattern": {
              "fillmode": "overlay",
              "size": 10,
              "solidity": 0.2
             }
            },
            "type": "histogram"
           }
          ],
          "histogram2d": [
           {
            "colorbar": {
             "outlinewidth": 0,
             "ticks": ""
            },
            "colorscale": [
             [
              0,
              "#0d0887"
             ],
             [
              0.1111111111111111,
              "#46039f"
             ],
             [
              0.2222222222222222,
              "#7201a8"
             ],
             [
              0.3333333333333333,
              "#9c179e"
             ],
             [
              0.4444444444444444,
              "#bd3786"
             ],
             [
              0.5555555555555556,
              "#d8576b"
             ],
             [
              0.6666666666666666,
              "#ed7953"
             ],
             [
              0.7777777777777778,
              "#fb9f3a"
             ],
             [
              0.8888888888888888,
              "#fdca26"
             ],
             [
              1,
              "#f0f921"
             ]
            ],
            "type": "histogram2d"
           }
          ],
          "histogram2dcontour": [
           {
            "colorbar": {
             "outlinewidth": 0,
             "ticks": ""
            },
            "colorscale": [
             [
              0,
              "#0d0887"
             ],
             [
              0.1111111111111111,
              "#46039f"
             ],
             [
              0.2222222222222222,
              "#7201a8"
             ],
             [
              0.3333333333333333,
              "#9c179e"
             ],
             [
              0.4444444444444444,
              "#bd3786"
             ],
             [
              0.5555555555555556,
              "#d8576b"
             ],
             [
              0.6666666666666666,
              "#ed7953"
             ],
             [
              0.7777777777777778,
              "#fb9f3a"
             ],
             [
              0.8888888888888888,
              "#fdca26"
             ],
             [
              1,
              "#f0f921"
             ]
            ],
            "type": "histogram2dcontour"
           }
          ],
          "mesh3d": [
           {
            "colorbar": {
             "outlinewidth": 0,
             "ticks": ""
            },
            "type": "mesh3d"
           }
          ],
          "parcoords": [
           {
            "line": {
             "colorbar": {
              "outlinewidth": 0,
              "ticks": ""
             }
            },
            "type": "parcoords"
           }
          ],
          "pie": [
           {
            "automargin": true,
            "type": "pie"
           }
          ],
          "scatter": [
           {
            "fillpattern": {
             "fillmode": "overlay",
             "size": 10,
             "solidity": 0.2
            },
            "type": "scatter"
           }
          ],
          "scatter3d": [
           {
            "line": {
             "colorbar": {
              "outlinewidth": 0,
              "ticks": ""
             }
            },
            "marker": {
             "colorbar": {
              "outlinewidth": 0,
              "ticks": ""
             }
            },
            "type": "scatter3d"
           }
          ],
          "scattercarpet": [
           {
            "marker": {
             "colorbar": {
              "outlinewidth": 0,
              "ticks": ""
             }
            },
            "type": "scattercarpet"
           }
          ],
          "scattergeo": [
           {
            "marker": {
             "colorbar": {
              "outlinewidth": 0,
              "ticks": ""
             }
            },
            "type": "scattergeo"
           }
          ],
          "scattergl": [
           {
            "marker": {
             "colorbar": {
              "outlinewidth": 0,
              "ticks": ""
             }
            },
            "type": "scattergl"
           }
          ],
          "scattermapbox": [
           {
            "marker": {
             "colorbar": {
              "outlinewidth": 0,
              "ticks": ""
             }
            },
            "type": "scattermapbox"
           }
          ],
          "scatterpolar": [
           {
            "marker": {
             "colorbar": {
              "outlinewidth": 0,
              "ticks": ""
             }
            },
            "type": "scatterpolar"
           }
          ],
          "scatterpolargl": [
           {
            "marker": {
             "colorbar": {
              "outlinewidth": 0,
              "ticks": ""
             }
            },
            "type": "scatterpolargl"
           }
          ],
          "scatterternary": [
           {
            "marker": {
             "colorbar": {
              "outlinewidth": 0,
              "ticks": ""
             }
            },
            "type": "scatterternary"
           }
          ],
          "surface": [
           {
            "colorbar": {
             "outlinewidth": 0,
             "ticks": ""
            },
            "colorscale": [
             [
              0,
              "#0d0887"
             ],
             [
              0.1111111111111111,
              "#46039f"
             ],
             [
              0.2222222222222222,
              "#7201a8"
             ],
             [
              0.3333333333333333,
              "#9c179e"
             ],
             [
              0.4444444444444444,
              "#bd3786"
             ],
             [
              0.5555555555555556,
              "#d8576b"
             ],
             [
              0.6666666666666666,
              "#ed7953"
             ],
             [
              0.7777777777777778,
              "#fb9f3a"
             ],
             [
              0.8888888888888888,
              "#fdca26"
             ],
             [
              1,
              "#f0f921"
             ]
            ],
            "type": "surface"
           }
          ],
          "table": [
           {
            "cells": {
             "fill": {
              "color": "#EBF0F8"
             },
             "line": {
              "color": "white"
             }
            },
            "header": {
             "fill": {
              "color": "#C8D4E3"
             },
             "line": {
              "color": "white"
             }
            },
            "type": "table"
           }
          ]
         },
         "layout": {
          "annotationdefaults": {
           "arrowcolor": "#2a3f5f",
           "arrowhead": 0,
           "arrowwidth": 1
          },
          "autotypenumbers": "strict",
          "coloraxis": {
           "colorbar": {
            "outlinewidth": 0,
            "ticks": ""
           }
          },
          "colorscale": {
           "diverging": [
            [
             0,
             "#8e0152"
            ],
            [
             0.1,
             "#c51b7d"
            ],
            [
             0.2,
             "#de77ae"
            ],
            [
             0.3,
             "#f1b6da"
            ],
            [
             0.4,
             "#fde0ef"
            ],
            [
             0.5,
             "#f7f7f7"
            ],
            [
             0.6,
             "#e6f5d0"
            ],
            [
             0.7,
             "#b8e186"
            ],
            [
             0.8,
             "#7fbc41"
            ],
            [
             0.9,
             "#4d9221"
            ],
            [
             1,
             "#276419"
            ]
           ],
           "sequential": [
            [
             0,
             "#0d0887"
            ],
            [
             0.1111111111111111,
             "#46039f"
            ],
            [
             0.2222222222222222,
             "#7201a8"
            ],
            [
             0.3333333333333333,
             "#9c179e"
            ],
            [
             0.4444444444444444,
             "#bd3786"
            ],
            [
             0.5555555555555556,
             "#d8576b"
            ],
            [
             0.6666666666666666,
             "#ed7953"
            ],
            [
             0.7777777777777778,
             "#fb9f3a"
            ],
            [
             0.8888888888888888,
             "#fdca26"
            ],
            [
             1,
             "#f0f921"
            ]
           ],
           "sequentialminus": [
            [
             0,
             "#0d0887"
            ],
            [
             0.1111111111111111,
             "#46039f"
            ],
            [
             0.2222222222222222,
             "#7201a8"
            ],
            [
             0.3333333333333333,
             "#9c179e"
            ],
            [
             0.4444444444444444,
             "#bd3786"
            ],
            [
             0.5555555555555556,
             "#d8576b"
            ],
            [
             0.6666666666666666,
             "#ed7953"
            ],
            [
             0.7777777777777778,
             "#fb9f3a"
            ],
            [
             0.8888888888888888,
             "#fdca26"
            ],
            [
             1,
             "#f0f921"
            ]
           ]
          },
          "colorway": [
           "#636efa",
           "#EF553B",
           "#00cc96",
           "#ab63fa",
           "#FFA15A",
           "#19d3f3",
           "#FF6692",
           "#B6E880",
           "#FF97FF",
           "#FECB52"
          ],
          "font": {
           "color": "#2a3f5f"
          },
          "geo": {
           "bgcolor": "white",
           "lakecolor": "white",
           "landcolor": "#E5ECF6",
           "showlakes": true,
           "showland": true,
           "subunitcolor": "white"
          },
          "hoverlabel": {
           "align": "left"
          },
          "hovermode": "closest",
          "mapbox": {
           "style": "light"
          },
          "paper_bgcolor": "white",
          "plot_bgcolor": "#E5ECF6",
          "polar": {
           "angularaxis": {
            "gridcolor": "white",
            "linecolor": "white",
            "ticks": ""
           },
           "bgcolor": "#E5ECF6",
           "radialaxis": {
            "gridcolor": "white",
            "linecolor": "white",
            "ticks": ""
           }
          },
          "scene": {
           "xaxis": {
            "backgroundcolor": "#E5ECF6",
            "gridcolor": "white",
            "gridwidth": 2,
            "linecolor": "white",
            "showbackground": true,
            "ticks": "",
            "zerolinecolor": "white"
           },
           "yaxis": {
            "backgroundcolor": "#E5ECF6",
            "gridcolor": "white",
            "gridwidth": 2,
            "linecolor": "white",
            "showbackground": true,
            "ticks": "",
            "zerolinecolor": "white"
           },
           "zaxis": {
            "backgroundcolor": "#E5ECF6",
            "gridcolor": "white",
            "gridwidth": 2,
            "linecolor": "white",
            "showbackground": true,
            "ticks": "",
            "zerolinecolor": "white"
           }
          },
          "shapedefaults": {
           "line": {
            "color": "#2a3f5f"
           }
          },
          "ternary": {
           "aaxis": {
            "gridcolor": "white",
            "linecolor": "white",
            "ticks": ""
           },
           "baxis": {
            "gridcolor": "white",
            "linecolor": "white",
            "ticks": ""
           },
           "bgcolor": "#E5ECF6",
           "caxis": {
            "gridcolor": "white",
            "linecolor": "white",
            "ticks": ""
           }
          },
          "title": {
           "x": 0.05
          },
          "xaxis": {
           "automargin": true,
           "gridcolor": "white",
           "linecolor": "white",
           "ticks": "",
           "title": {
            "standoff": 15
           },
           "zerolinecolor": "white",
           "zerolinewidth": 2
          },
          "yaxis": {
           "automargin": true,
           "gridcolor": "white",
           "linecolor": "white",
           "ticks": "",
           "title": {
            "standoff": 15
           },
           "zerolinecolor": "white",
           "zerolinewidth": 2
          }
         }
        },
        "title": {
         "text": "Number of DNA damage+ Glia+ Nuclei by Tissue Location - cellpdia30_sigma1_dilrad4_dnad_obj_seg_v2_gliaero6_gliathr20_dnadero2"
        },
        "xaxis": {
         "anchor": "y",
         "domain": [
          0,
          1
         ],
         "title": {
          "text": "tissue_location"
         }
        },
        "yaxis": {
         "anchor": "x",
         "domain": [
          0,
          1
         ],
         "title": {
          "text": "nr_+_dna_damage_glia_nuclei"
         }
        }
       }
      }
     },
     "metadata": {},
     "output_type": "display_data"
    }
   ],
   "source": [
    "# Create the plot\n",
    "fig = px.scatter(df, x='tissue_location', y='nr_+_dna_damage_glia_nuclei',\n",
    "                 hover_data=['staining_id','index'], title=f\"Number of DNA damage+ Glia+ Nuclei by Tissue Location - {title}\")\n",
    "\n",
    "# Show the plot\n",
    "fig.show()"
   ]
  },
  {
   "cell_type": "code",
   "execution_count": 6,
   "metadata": {},
   "outputs": [
    {
     "data": {
      "application/vnd.plotly.v1+json": {
       "config": {
        "plotlyServerURL": "https://plot.ly"
       },
       "data": [
        {
         "customdata": [
          [
           16
          ],
          [
           16
          ],
          [
           16
          ],
          [
           16
          ],
          [
           16
          ],
          [
           16
          ],
          [
           17
          ],
          [
           17
          ],
          [
           17
          ],
          [
           17
          ],
          [
           17
          ],
          [
           17
          ],
          [
           18
          ],
          [
           18
          ],
          [
           18
          ],
          [
           18
          ],
          [
           18
          ],
          [
           18
          ],
          [
           19
          ],
          [
           19
          ],
          [
           19
          ],
          [
           19
          ],
          [
           19
          ],
          [
           19
          ],
          [
           20
          ],
          [
           20
          ],
          [
           20
          ],
          [
           20
          ],
          [
           20
          ],
          [
           20
          ],
          [
           21
          ],
          [
           21
          ],
          [
           21
          ],
          [
           21
          ],
          [
           21
          ],
          [
           21
          ],
          [
           22
          ],
          [
           22
          ],
          [
           22
          ],
          [
           22
          ],
          [
           22
          ],
          [
           22
          ],
          [
           23
          ],
          [
           23
          ],
          [
           23
          ],
          [
           23
          ],
          [
           23
          ],
          [
           23
          ],
          [
           24
          ],
          [
           24
          ],
          [
           24
          ],
          [
           24
          ],
          [
           24
          ],
          [
           24
          ],
          [
           25
          ],
          [
           25
          ],
          [
           25
          ],
          [
           25
          ],
          [
           25
          ],
          [
           25
          ],
          [
           26
          ],
          [
           26
          ],
          [
           26
          ],
          [
           26
          ],
          [
           26
          ],
          [
           26
          ],
          [
           27
          ],
          [
           28
          ],
          [
           28
          ],
          [
           28
          ],
          [
           28
          ],
          [
           28
          ],
          [
           28
          ],
          [
           29
          ],
          [
           29
          ],
          [
           29
          ],
          [
           29
          ],
          [
           29
          ],
          [
           29
          ],
          [
           30
          ],
          [
           30
          ],
          [
           30
          ],
          [
           30
          ],
          [
           30
          ],
          [
           30
          ],
          [
           31
          ],
          [
           31
          ],
          [
           31
          ],
          [
           31
          ],
          [
           31
          ],
          [
           31
          ],
          [
           32
          ],
          [
           32
          ],
          [
           32
          ],
          [
           32
          ],
          [
           32
          ],
          [
           32
          ],
          [
           33
          ],
          [
           33
          ],
          [
           33
          ],
          [
           33
          ],
          [
           33
          ],
          [
           33
          ],
          [
           34
          ],
          [
           34
          ],
          [
           34
          ],
          [
           34
          ],
          [
           34
          ],
          [
           34
          ],
          [
           35
          ],
          [
           35
          ],
          [
           35
          ],
          [
           35
          ],
          [
           35
          ],
          [
           35
          ],
          [
           36
          ],
          [
           36
          ],
          [
           36
          ],
          [
           36
          ],
          [
           36
          ],
          [
           36
          ],
          [
           37
          ],
          [
           37
          ],
          [
           37
          ],
          [
           37
          ],
          [
           37
          ],
          [
           37
          ],
          [
           38
          ],
          [
           39
          ],
          [
           39
          ],
          [
           39
          ],
          [
           39
          ],
          [
           39
          ],
          [
           39
          ],
          [
           40
          ],
          [
           40
          ],
          [
           40
          ],
          [
           40
          ],
          [
           40
          ],
          [
           40
          ],
          [
           41
          ],
          [
           41
          ],
          [
           41
          ],
          [
           41
          ],
          [
           41
          ],
          [
           41
          ],
          [
           42
          ],
          [
           42
          ],
          [
           42
          ],
          [
           42
          ],
          [
           42
          ],
          [
           42
          ],
          [
           43
          ],
          [
           43
          ],
          [
           43
          ],
          [
           43
          ],
          [
           43
          ],
          [
           43
          ],
          [
           44
          ],
          [
           44
          ],
          [
           44
          ],
          [
           44
          ],
          [
           45
          ],
          [
           45
          ],
          [
           45
          ],
          [
           45
          ],
          [
           45
          ],
          [
           45
          ],
          [
           46
          ],
          [
           46
          ],
          [
           46
          ],
          [
           46
          ],
          [
           46
          ],
          [
           46
          ],
          [
           47
          ],
          [
           47
          ],
          [
           47
          ],
          [
           47
          ],
          [
           47
          ],
          [
           47
          ],
          [
           48
          ],
          [
           48
          ],
          [
           48
          ],
          [
           48
          ],
          [
           48
          ],
          [
           48
          ],
          [
           49
          ],
          [
           49
          ],
          [
           49
          ],
          [
           49
          ],
          [
           49
          ],
          [
           49
          ],
          [
           50
          ],
          [
           50
          ],
          [
           50
          ],
          [
           50
          ],
          [
           50
          ],
          [
           50
          ],
          [
           51
          ],
          [
           51
          ],
          [
           51
          ],
          [
           51
          ],
          [
           51
          ],
          [
           51
          ],
          [
           52
          ],
          [
           52
          ],
          [
           52
          ],
          [
           52
          ],
          [
           52
          ],
          [
           52
          ],
          [
           53
          ],
          [
           53
          ],
          [
           53
          ],
          [
           53
          ],
          [
           53
          ],
          [
           53
          ],
          [
           54
          ],
          [
           54
          ],
          [
           54
          ],
          [
           54
          ],
          [
           54
          ],
          [
           54
          ],
          [
           55
          ],
          [
           55
          ],
          [
           55
          ],
          [
           55
          ],
          [
           55
          ],
          [
           55
          ],
          [
           56
          ],
          [
           56
          ],
          [
           56
          ],
          [
           56
          ],
          [
           56
          ],
          [
           56
          ],
          [
           57
          ],
          [
           57
          ],
          [
           57
          ],
          [
           57
          ],
          [
           57
          ],
          [
           57
          ],
          [
           58
          ],
          [
           58
          ],
          [
           58
          ],
          [
           58
          ],
          [
           58
          ],
          [
           58
          ],
          [
           59
          ],
          [
           59
          ],
          [
           59
          ],
          [
           59
          ],
          [
           59
          ],
          [
           59
          ]
         ],
         "hovertemplate": "tissue_location=%{x}<br>avg_dna_damage_foci/glia_+=%{y}<br>staining_id=%{customdata[0]}<extra></extra>",
         "legendgroup": "",
         "marker": {
          "color": "#636efa",
          "symbol": "circle"
         },
         "mode": "markers",
         "name": "",
         "orientation": "v",
         "showlegend": false,
         "type": "scatter",
         "x": [
          "CA1",
          "CA3",
          "CTX1",
          "CTX2",
          "CTX3",
          "DG",
          "CA1",
          "CA3",
          "CTX1",
          "CTX2",
          "CTX3",
          "DG",
          "CA1",
          "CA3",
          "CTX1",
          "CTX2",
          "CTX3",
          "DG",
          "CA1",
          "CA3",
          "CTX1",
          "CTX2",
          "CTX3",
          "DG",
          "CA1",
          "CA3",
          "CTX1",
          "CTX2",
          "CTX3",
          "DG",
          "CA1",
          "CA3",
          "CTX1",
          "CTX2",
          "CTX3",
          "DG",
          "CA1",
          "CA3",
          "CTX1",
          "CTX2",
          "CTX3",
          "DG",
          "CA1",
          "CA3",
          "CTX1",
          "CTX2",
          "CTX3",
          "DG",
          "CA1",
          "CA3",
          "CTX1",
          "CTX2",
          "CTX3",
          "DG",
          "CA1",
          "CA3",
          "CTX1",
          "CTX2",
          "CTX3",
          "DG",
          "CA1",
          "CA3",
          "CTX1",
          "CTX2",
          "CTX3",
          "DG",
          "DG",
          "CA1",
          "CA3",
          "CTX1",
          "CTX2",
          "CTX3",
          "DG",
          "CA1",
          "CA3",
          "CTX1",
          "CTX2",
          "CTX3",
          "DG",
          "CA1",
          "CA3",
          "CTX1",
          "CTX2",
          "CTX3",
          "DG",
          "CA1",
          "CA3",
          "CTX1",
          "CTX2",
          "CTX3",
          "DG",
          "CA1",
          "CA3",
          "CTX1",
          "CTX2",
          "CTX3",
          "DG",
          "CA1",
          "CA3",
          "CTX1",
          "CTX2",
          "CTX3",
          "DG",
          "CA1",
          "CA3",
          "CTX1",
          "CTX2",
          "CTX3",
          "DG",
          "CA1",
          "CA3",
          "CTX1",
          "CTX2",
          "CTX3",
          "DG",
          "CA1",
          "CA3",
          "CTX1",
          "CTX2",
          "CTX3",
          "DG",
          "CA1",
          "CA3",
          "CTX1",
          "CTX2",
          "CTX3",
          "DG",
          "DG",
          "CA1",
          "CA3",
          "CTX1",
          "CTX2",
          "CTX3",
          "DG",
          "CA1",
          "CA3",
          "CTX1",
          "CTX2",
          "CTX3",
          "DG",
          "CA1",
          "CA3",
          "CTX1",
          "CTX2",
          "CTX3",
          "DG",
          "CA1",
          "CA3",
          "CTX1",
          "CTX2",
          "CTX3",
          "DG",
          "CA1",
          "CA3",
          "CTX1",
          "CTX2",
          "CTX3",
          "DG",
          "CA1",
          "CA3",
          "CTX1",
          "DG",
          "CA1",
          "CA3",
          "CTX1",
          "CTX2",
          "CTX3",
          "DG",
          "CA1",
          "CA3",
          "CTX1",
          "CTX2",
          "CTX3",
          "DG",
          "CA1",
          "CA3",
          "CTX1",
          "CTX2",
          "CTX3",
          "DG",
          "CA1",
          "CA3",
          "CTX1",
          "CTX2",
          "CTX3",
          "DG",
          "CA1",
          "CA3",
          "CTX1",
          "CTX2",
          "CTX3",
          "DG",
          "CA1",
          "CA3",
          "CTX1",
          "CTX2",
          "CTX3",
          "DG",
          "CA1",
          "CA3",
          "CTX1",
          "CTX2",
          "CTX3",
          "DG",
          "CA1",
          "CA3",
          "CTX1",
          "CTX2",
          "CTX3",
          "DG",
          "CA1",
          "CA3",
          "CTX1",
          "CTX2",
          "CTX3",
          "DG",
          "CA1",
          "CA3",
          "CTX1",
          "CTX2",
          "CTX3",
          "DG",
          "CA1",
          "CA3",
          "CTX1",
          "CTX2",
          "CTX3",
          "DG",
          "CA1",
          "CA3",
          "CTX1",
          "CTX2",
          "CTX3",
          "DG",
          "CA1",
          "CA3",
          "CTX1",
          "CTX2",
          "CTX3",
          "DG",
          "CA1",
          "CA3",
          "CTX1",
          "CTX2",
          "CTX3",
          "DG",
          "CA1",
          "CA3",
          "CTX1",
          "CTX2",
          "CTX3",
          "DG"
         ],
         "xaxis": "x",
         "y": [
          0.3121693121693121,
          0.8,
          0.0714285714285714,
          0.5228215767634855,
          0.5865384615384616,
          0.2753950338600451,
          0.1818181818181818,
          0.4736842105263157,
          0.4444444444444444,
          0.5849056603773585,
          0.7037037037037037,
          0.3020134228187919,
          0.7142857142857143,
          0.4166666666666667,
          0.2105263157894736,
          0.238095238095238,
          0.4705882352941176,
          2.0096153846153846,
          1.7878787878787878,
          1.8571428571428568,
          0.971563981042654,
          0.7777777777777778,
          0.4368932038834951,
          2.78125,
          0.6666666666666666,
          1.2,
          0.6,
          1.0909090909090908,
          0.3333333333333333,
          1,
          1,
          0.5,
          1.4705882352941178,
          1.0666666666666669,
          1.173913043478261,
          0.8,
          0.5789473684210527,
          1.1666666666666667,
          1.1,
          0.6470588235294118,
          1,
          1,
          0.25,
          0.75,
          0.36,
          0,
          0.8181818181818182,
          0.75,
          0,
          0.25,
          0,
          0.4117647058823529,
          0.0769230769230769,
          0.125,
          1,
          1.1111111111111112,
          0.36,
          1.1,
          0.7777777777777778,
          1.1875,
          1,
          1.2,
          0.625,
          0.4,
          0.6363636363636364,
          0.8333333333333334,
          1,
          0,
          0,
          0.3333333333333333,
          0.6923076923076923,
          0.8181818181818182,
          1.9411764705882355,
          1.1,
          1,
          1.0625,
          1.1153846153846154,
          0.6875,
          1,
          0,
          0.25,
          0.5833333333333334,
          0.4090909090909091,
          0.6153846153846154,
          0.6,
          1.181818181818182,
          1,
          0.6363636363636364,
          0.4117647058823529,
          1.0769230769230769,
          0.9285714285714286,
          0.6111111111111112,
          0.8235294117647058,
          0.4666666666666667,
          0.6842105263157895,
          0.6666666666666666,
          0.6229508196721312,
          1,
          0.8571428571428571,
          0.6,
          1.1333333333333333,
          0.5555555555555556,
          0.75,
          1.2727272727272727,
          1.2,
          1.1363636363636365,
          0.8888888888888888,
          1.1111111111111112,
          0.8421052631578947,
          0.7,
          0.9666666666666668,
          0.5555555555555556,
          0.8108108108108109,
          0.925,
          0.7969924812030075,
          1.125,
          1,
          1.25,
          1.5,
          1.7,
          1.6,
          0.4285714285714285,
          0,
          0.8571428571428571,
          0.76,
          0.8620689655172413,
          0.1428571428571428,
          0.5,
          1,
          0.6,
          0,
          0.2,
          1,
          1,
          0.5,
          0.625,
          1,
          0.6363636363636364,
          1.0833333333333333,
          1.6,
          0.5,
          0,
          null,
          0,
          0.4,
          0.8333333333333334,
          1.3333333333333333,
          0.8333333333333334,
          0.1666666666666666,
          0.5333333333333333,
          1.1,
          0.5,
          0.3636363636363636,
          0.5714285714285714,
          1.0357142857142858,
          0.45,
          0.6666666666666666,
          1.7435897435897436,
          1.9,
          1.4444444444444444,
          1.6111111111111112,
          1.5316455696202531,
          1.0625,
          1,
          0.3333333333333333,
          0.68,
          0.4117647058823529,
          1.4090909090909092,
          1.4848484848484849,
          0.7777777777777778,
          0.6835443037974683,
          0.3942307692307692,
          0.6764705882352942,
          0.75,
          0.5882352941176471,
          0.8235294117647058,
          0.1428571428571428,
          0.5789473684210527,
          0.6756756756756757,
          1,
          1.2857142857142858,
          1.25,
          0.6571428571428571,
          0.6666666666666666,
          0.75,
          0.8461538461538461,
          0.6111111111111112,
          0.1333333333333333,
          0.125,
          0.2222222222222222,
          0.2352941176470588,
          0.4285714285714285,
          0.0769230769230769,
          0,
          0,
          0.0714285714285714,
          0.3548387096774194,
          0.4,
          0.5333333333333333,
          0.875,
          0.2777777777777778,
          0.25,
          0.3461538461538461,
          0.6190476190476191,
          0.6,
          0.7142857142857143,
          0.0434782608695652,
          0.5161290322580645,
          0.4615384615384615,
          0.4375,
          0.6666666666666666,
          1.3333333333333333,
          0.7916666666666666,
          0.9230769230769232,
          0.7692307692307693,
          0.8333333333333334,
          1.2,
          1.3333333333333333,
          0.5,
          0.9,
          0.95,
          0.5384615384615384,
          0.4285714285714285,
          0.6666666666666666,
          0.125,
          0.3333333333333333,
          0,
          0.4545454545454545,
          0.8461538461538461,
          0.1666666666666666,
          0.7142857142857143,
          0.4782608695652174,
          0.1944444444444444,
          0.875,
          0.4545454545454545,
          0.875,
          0.8571428571428571,
          0.4166666666666667,
          0.3636363636363636,
          0.4642857142857143,
          1.25,
          0.5,
          0.9411764705882352,
          0.9375,
          0.3333333333333333,
          0.5,
          0.8,
          0.6,
          0.4444444444444444,
          0.5,
          0.6086956521739131,
          1
         ],
         "yaxis": "y"
        }
       ],
       "layout": {
        "legend": {
         "tracegroupgap": 0
        },
        "template": {
         "data": {
          "bar": [
           {
            "error_x": {
             "color": "#2a3f5f"
            },
            "error_y": {
             "color": "#2a3f5f"
            },
            "marker": {
             "line": {
              "color": "#E5ECF6",
              "width": 0.5
             },
             "pattern": {
              "fillmode": "overlay",
              "size": 10,
              "solidity": 0.2
             }
            },
            "type": "bar"
           }
          ],
          "barpolar": [
           {
            "marker": {
             "line": {
              "color": "#E5ECF6",
              "width": 0.5
             },
             "pattern": {
              "fillmode": "overlay",
              "size": 10,
              "solidity": 0.2
             }
            },
            "type": "barpolar"
           }
          ],
          "carpet": [
           {
            "aaxis": {
             "endlinecolor": "#2a3f5f",
             "gridcolor": "white",
             "linecolor": "white",
             "minorgridcolor": "white",
             "startlinecolor": "#2a3f5f"
            },
            "baxis": {
             "endlinecolor": "#2a3f5f",
             "gridcolor": "white",
             "linecolor": "white",
             "minorgridcolor": "white",
             "startlinecolor": "#2a3f5f"
            },
            "type": "carpet"
           }
          ],
          "choropleth": [
           {
            "colorbar": {
             "outlinewidth": 0,
             "ticks": ""
            },
            "type": "choropleth"
           }
          ],
          "contour": [
           {
            "colorbar": {
             "outlinewidth": 0,
             "ticks": ""
            },
            "colorscale": [
             [
              0,
              "#0d0887"
             ],
             [
              0.1111111111111111,
              "#46039f"
             ],
             [
              0.2222222222222222,
              "#7201a8"
             ],
             [
              0.3333333333333333,
              "#9c179e"
             ],
             [
              0.4444444444444444,
              "#bd3786"
             ],
             [
              0.5555555555555556,
              "#d8576b"
             ],
             [
              0.6666666666666666,
              "#ed7953"
             ],
             [
              0.7777777777777778,
              "#fb9f3a"
             ],
             [
              0.8888888888888888,
              "#fdca26"
             ],
             [
              1,
              "#f0f921"
             ]
            ],
            "type": "contour"
           }
          ],
          "contourcarpet": [
           {
            "colorbar": {
             "outlinewidth": 0,
             "ticks": ""
            },
            "type": "contourcarpet"
           }
          ],
          "heatmap": [
           {
            "colorbar": {
             "outlinewidth": 0,
             "ticks": ""
            },
            "colorscale": [
             [
              0,
              "#0d0887"
             ],
             [
              0.1111111111111111,
              "#46039f"
             ],
             [
              0.2222222222222222,
              "#7201a8"
             ],
             [
              0.3333333333333333,
              "#9c179e"
             ],
             [
              0.4444444444444444,
              "#bd3786"
             ],
             [
              0.5555555555555556,
              "#d8576b"
             ],
             [
              0.6666666666666666,
              "#ed7953"
             ],
             [
              0.7777777777777778,
              "#fb9f3a"
             ],
             [
              0.8888888888888888,
              "#fdca26"
             ],
             [
              1,
              "#f0f921"
             ]
            ],
            "type": "heatmap"
           }
          ],
          "heatmapgl": [
           {
            "colorbar": {
             "outlinewidth": 0,
             "ticks": ""
            },
            "colorscale": [
             [
              0,
              "#0d0887"
             ],
             [
              0.1111111111111111,
              "#46039f"
             ],
             [
              0.2222222222222222,
              "#7201a8"
             ],
             [
              0.3333333333333333,
              "#9c179e"
             ],
             [
              0.4444444444444444,
              "#bd3786"
             ],
             [
              0.5555555555555556,
              "#d8576b"
             ],
             [
              0.6666666666666666,
              "#ed7953"
             ],
             [
              0.7777777777777778,
              "#fb9f3a"
             ],
             [
              0.8888888888888888,
              "#fdca26"
             ],
             [
              1,
              "#f0f921"
             ]
            ],
            "type": "heatmapgl"
           }
          ],
          "histogram": [
           {
            "marker": {
             "pattern": {
              "fillmode": "overlay",
              "size": 10,
              "solidity": 0.2
             }
            },
            "type": "histogram"
           }
          ],
          "histogram2d": [
           {
            "colorbar": {
             "outlinewidth": 0,
             "ticks": ""
            },
            "colorscale": [
             [
              0,
              "#0d0887"
             ],
             [
              0.1111111111111111,
              "#46039f"
             ],
             [
              0.2222222222222222,
              "#7201a8"
             ],
             [
              0.3333333333333333,
              "#9c179e"
             ],
             [
              0.4444444444444444,
              "#bd3786"
             ],
             [
              0.5555555555555556,
              "#d8576b"
             ],
             [
              0.6666666666666666,
              "#ed7953"
             ],
             [
              0.7777777777777778,
              "#fb9f3a"
             ],
             [
              0.8888888888888888,
              "#fdca26"
             ],
             [
              1,
              "#f0f921"
             ]
            ],
            "type": "histogram2d"
           }
          ],
          "histogram2dcontour": [
           {
            "colorbar": {
             "outlinewidth": 0,
             "ticks": ""
            },
            "colorscale": [
             [
              0,
              "#0d0887"
             ],
             [
              0.1111111111111111,
              "#46039f"
             ],
             [
              0.2222222222222222,
              "#7201a8"
             ],
             [
              0.3333333333333333,
              "#9c179e"
             ],
             [
              0.4444444444444444,
              "#bd3786"
             ],
             [
              0.5555555555555556,
              "#d8576b"
             ],
             [
              0.6666666666666666,
              "#ed7953"
             ],
             [
              0.7777777777777778,
              "#fb9f3a"
             ],
             [
              0.8888888888888888,
              "#fdca26"
             ],
             [
              1,
              "#f0f921"
             ]
            ],
            "type": "histogram2dcontour"
           }
          ],
          "mesh3d": [
           {
            "colorbar": {
             "outlinewidth": 0,
             "ticks": ""
            },
            "type": "mesh3d"
           }
          ],
          "parcoords": [
           {
            "line": {
             "colorbar": {
              "outlinewidth": 0,
              "ticks": ""
             }
            },
            "type": "parcoords"
           }
          ],
          "pie": [
           {
            "automargin": true,
            "type": "pie"
           }
          ],
          "scatter": [
           {
            "fillpattern": {
             "fillmode": "overlay",
             "size": 10,
             "solidity": 0.2
            },
            "type": "scatter"
           }
          ],
          "scatter3d": [
           {
            "line": {
             "colorbar": {
              "outlinewidth": 0,
              "ticks": ""
             }
            },
            "marker": {
             "colorbar": {
              "outlinewidth": 0,
              "ticks": ""
             }
            },
            "type": "scatter3d"
           }
          ],
          "scattercarpet": [
           {
            "marker": {
             "colorbar": {
              "outlinewidth": 0,
              "ticks": ""
             }
            },
            "type": "scattercarpet"
           }
          ],
          "scattergeo": [
           {
            "marker": {
             "colorbar": {
              "outlinewidth": 0,
              "ticks": ""
             }
            },
            "type": "scattergeo"
           }
          ],
          "scattergl": [
           {
            "marker": {
             "colorbar": {
              "outlinewidth": 0,
              "ticks": ""
             }
            },
            "type": "scattergl"
           }
          ],
          "scattermapbox": [
           {
            "marker": {
             "colorbar": {
              "outlinewidth": 0,
              "ticks": ""
             }
            },
            "type": "scattermapbox"
           }
          ],
          "scatterpolar": [
           {
            "marker": {
             "colorbar": {
              "outlinewidth": 0,
              "ticks": ""
             }
            },
            "type": "scatterpolar"
           }
          ],
          "scatterpolargl": [
           {
            "marker": {
             "colorbar": {
              "outlinewidth": 0,
              "ticks": ""
             }
            },
            "type": "scatterpolargl"
           }
          ],
          "scatterternary": [
           {
            "marker": {
             "colorbar": {
              "outlinewidth": 0,
              "ticks": ""
             }
            },
            "type": "scatterternary"
           }
          ],
          "surface": [
           {
            "colorbar": {
             "outlinewidth": 0,
             "ticks": ""
            },
            "colorscale": [
             [
              0,
              "#0d0887"
             ],
             [
              0.1111111111111111,
              "#46039f"
             ],
             [
              0.2222222222222222,
              "#7201a8"
             ],
             [
              0.3333333333333333,
              "#9c179e"
             ],
             [
              0.4444444444444444,
              "#bd3786"
             ],
             [
              0.5555555555555556,
              "#d8576b"
             ],
             [
              0.6666666666666666,
              "#ed7953"
             ],
             [
              0.7777777777777778,
              "#fb9f3a"
             ],
             [
              0.8888888888888888,
              "#fdca26"
             ],
             [
              1,
              "#f0f921"
             ]
            ],
            "type": "surface"
           }
          ],
          "table": [
           {
            "cells": {
             "fill": {
              "color": "#EBF0F8"
             },
             "line": {
              "color": "white"
             }
            },
            "header": {
             "fill": {
              "color": "#C8D4E3"
             },
             "line": {
              "color": "white"
             }
            },
            "type": "table"
           }
          ]
         },
         "layout": {
          "annotationdefaults": {
           "arrowcolor": "#2a3f5f",
           "arrowhead": 0,
           "arrowwidth": 1
          },
          "autotypenumbers": "strict",
          "coloraxis": {
           "colorbar": {
            "outlinewidth": 0,
            "ticks": ""
           }
          },
          "colorscale": {
           "diverging": [
            [
             0,
             "#8e0152"
            ],
            [
             0.1,
             "#c51b7d"
            ],
            [
             0.2,
             "#de77ae"
            ],
            [
             0.3,
             "#f1b6da"
            ],
            [
             0.4,
             "#fde0ef"
            ],
            [
             0.5,
             "#f7f7f7"
            ],
            [
             0.6,
             "#e6f5d0"
            ],
            [
             0.7,
             "#b8e186"
            ],
            [
             0.8,
             "#7fbc41"
            ],
            [
             0.9,
             "#4d9221"
            ],
            [
             1,
             "#276419"
            ]
           ],
           "sequential": [
            [
             0,
             "#0d0887"
            ],
            [
             0.1111111111111111,
             "#46039f"
            ],
            [
             0.2222222222222222,
             "#7201a8"
            ],
            [
             0.3333333333333333,
             "#9c179e"
            ],
            [
             0.4444444444444444,
             "#bd3786"
            ],
            [
             0.5555555555555556,
             "#d8576b"
            ],
            [
             0.6666666666666666,
             "#ed7953"
            ],
            [
             0.7777777777777778,
             "#fb9f3a"
            ],
            [
             0.8888888888888888,
             "#fdca26"
            ],
            [
             1,
             "#f0f921"
            ]
           ],
           "sequentialminus": [
            [
             0,
             "#0d0887"
            ],
            [
             0.1111111111111111,
             "#46039f"
            ],
            [
             0.2222222222222222,
             "#7201a8"
            ],
            [
             0.3333333333333333,
             "#9c179e"
            ],
            [
             0.4444444444444444,
             "#bd3786"
            ],
            [
             0.5555555555555556,
             "#d8576b"
            ],
            [
             0.6666666666666666,
             "#ed7953"
            ],
            [
             0.7777777777777778,
             "#fb9f3a"
            ],
            [
             0.8888888888888888,
             "#fdca26"
            ],
            [
             1,
             "#f0f921"
            ]
           ]
          },
          "colorway": [
           "#636efa",
           "#EF553B",
           "#00cc96",
           "#ab63fa",
           "#FFA15A",
           "#19d3f3",
           "#FF6692",
           "#B6E880",
           "#FF97FF",
           "#FECB52"
          ],
          "font": {
           "color": "#2a3f5f"
          },
          "geo": {
           "bgcolor": "white",
           "lakecolor": "white",
           "landcolor": "#E5ECF6",
           "showlakes": true,
           "showland": true,
           "subunitcolor": "white"
          },
          "hoverlabel": {
           "align": "left"
          },
          "hovermode": "closest",
          "mapbox": {
           "style": "light"
          },
          "paper_bgcolor": "white",
          "plot_bgcolor": "#E5ECF6",
          "polar": {
           "angularaxis": {
            "gridcolor": "white",
            "linecolor": "white",
            "ticks": ""
           },
           "bgcolor": "#E5ECF6",
           "radialaxis": {
            "gridcolor": "white",
            "linecolor": "white",
            "ticks": ""
           }
          },
          "scene": {
           "xaxis": {
            "backgroundcolor": "#E5ECF6",
            "gridcolor": "white",
            "gridwidth": 2,
            "linecolor": "white",
            "showbackground": true,
            "ticks": "",
            "zerolinecolor": "white"
           },
           "yaxis": {
            "backgroundcolor": "#E5ECF6",
            "gridcolor": "white",
            "gridwidth": 2,
            "linecolor": "white",
            "showbackground": true,
            "ticks": "",
            "zerolinecolor": "white"
           },
           "zaxis": {
            "backgroundcolor": "#E5ECF6",
            "gridcolor": "white",
            "gridwidth": 2,
            "linecolor": "white",
            "showbackground": true,
            "ticks": "",
            "zerolinecolor": "white"
           }
          },
          "shapedefaults": {
           "line": {
            "color": "#2a3f5f"
           }
          },
          "ternary": {
           "aaxis": {
            "gridcolor": "white",
            "linecolor": "white",
            "ticks": ""
           },
           "baxis": {
            "gridcolor": "white",
            "linecolor": "white",
            "ticks": ""
           },
           "bgcolor": "#E5ECF6",
           "caxis": {
            "gridcolor": "white",
            "linecolor": "white",
            "ticks": ""
           }
          },
          "title": {
           "x": 0.05
          },
          "xaxis": {
           "automargin": true,
           "gridcolor": "white",
           "linecolor": "white",
           "ticks": "",
           "title": {
            "standoff": 15
           },
           "zerolinecolor": "white",
           "zerolinewidth": 2
          },
          "yaxis": {
           "automargin": true,
           "gridcolor": "white",
           "linecolor": "white",
           "ticks": "",
           "title": {
            "standoff": 15
           },
           "zerolinecolor": "white",
           "zerolinewidth": 2
          }
         }
        },
        "title": {
         "text": "Average DNA damage foci in Glia Nuclei by Tissue Location - cellpdia30_sigma1_dilrad4_dnad_obj_seg_v2_gliaero6_gliathr20_dnadero2"
        },
        "xaxis": {
         "anchor": "y",
         "domain": [
          0,
          1
         ],
         "title": {
          "text": "tissue_location"
         }
        },
        "yaxis": {
         "anchor": "x",
         "domain": [
          0,
          1
         ],
         "title": {
          "text": "avg_dna_damage_foci/glia_+"
         }
        }
       }
      }
     },
     "metadata": {},
     "output_type": "display_data"
    }
   ],
   "source": [
    "# Create the plot\n",
    "fig = px.scatter(df, x='tissue_location', y='avg_dna_damage_foci/glia_+',\n",
    "                 hover_data=['staining_id'], title=f\"Average DNA damage foci in Glia Nuclei by Tissue Location - {title}\")\n",
    "\n",
    "# Show the plot\n",
    "fig.show()"
   ]
  },
  {
   "cell_type": "code",
   "execution_count": 7,
   "metadata": {},
   "outputs": [
    {
     "data": {
      "application/vnd.plotly.v1+json": {
       "config": {
        "plotlyServerURL": "https://plot.ly"
       },
       "data": [
        {
         "customdata": [
          [
           16
          ],
          [
           16
          ],
          [
           16
          ],
          [
           16
          ],
          [
           16
          ],
          [
           16
          ],
          [
           17
          ],
          [
           17
          ],
          [
           17
          ],
          [
           17
          ],
          [
           17
          ],
          [
           17
          ],
          [
           18
          ],
          [
           18
          ],
          [
           18
          ],
          [
           18
          ],
          [
           18
          ],
          [
           18
          ],
          [
           19
          ],
          [
           19
          ],
          [
           19
          ],
          [
           19
          ],
          [
           19
          ],
          [
           19
          ],
          [
           20
          ],
          [
           20
          ],
          [
           20
          ],
          [
           20
          ],
          [
           20
          ],
          [
           20
          ],
          [
           21
          ],
          [
           21
          ],
          [
           21
          ],
          [
           21
          ],
          [
           21
          ],
          [
           21
          ],
          [
           22
          ],
          [
           22
          ],
          [
           22
          ],
          [
           22
          ],
          [
           22
          ],
          [
           22
          ],
          [
           23
          ],
          [
           23
          ],
          [
           23
          ],
          [
           23
          ],
          [
           23
          ],
          [
           23
          ],
          [
           24
          ],
          [
           24
          ],
          [
           24
          ],
          [
           24
          ],
          [
           24
          ],
          [
           24
          ],
          [
           25
          ],
          [
           25
          ],
          [
           25
          ],
          [
           25
          ],
          [
           25
          ],
          [
           25
          ],
          [
           26
          ],
          [
           26
          ],
          [
           26
          ],
          [
           26
          ],
          [
           26
          ],
          [
           26
          ],
          [
           27
          ],
          [
           28
          ],
          [
           28
          ],
          [
           28
          ],
          [
           28
          ],
          [
           28
          ],
          [
           28
          ],
          [
           29
          ],
          [
           29
          ],
          [
           29
          ],
          [
           29
          ],
          [
           29
          ],
          [
           29
          ],
          [
           30
          ],
          [
           30
          ],
          [
           30
          ],
          [
           30
          ],
          [
           30
          ],
          [
           30
          ],
          [
           31
          ],
          [
           31
          ],
          [
           31
          ],
          [
           31
          ],
          [
           31
          ],
          [
           31
          ],
          [
           32
          ],
          [
           32
          ],
          [
           32
          ],
          [
           32
          ],
          [
           32
          ],
          [
           32
          ],
          [
           33
          ],
          [
           33
          ],
          [
           33
          ],
          [
           33
          ],
          [
           33
          ],
          [
           33
          ],
          [
           34
          ],
          [
           34
          ],
          [
           34
          ],
          [
           34
          ],
          [
           34
          ],
          [
           34
          ],
          [
           35
          ],
          [
           35
          ],
          [
           35
          ],
          [
           35
          ],
          [
           35
          ],
          [
           35
          ],
          [
           36
          ],
          [
           36
          ],
          [
           36
          ],
          [
           36
          ],
          [
           36
          ],
          [
           36
          ],
          [
           37
          ],
          [
           37
          ],
          [
           37
          ],
          [
           37
          ],
          [
           37
          ],
          [
           37
          ],
          [
           38
          ],
          [
           39
          ],
          [
           39
          ],
          [
           39
          ],
          [
           39
          ],
          [
           39
          ],
          [
           39
          ],
          [
           40
          ],
          [
           40
          ],
          [
           40
          ],
          [
           40
          ],
          [
           40
          ],
          [
           40
          ],
          [
           41
          ],
          [
           41
          ],
          [
           41
          ],
          [
           41
          ],
          [
           41
          ],
          [
           41
          ],
          [
           42
          ],
          [
           42
          ],
          [
           42
          ],
          [
           42
          ],
          [
           42
          ],
          [
           42
          ],
          [
           43
          ],
          [
           43
          ],
          [
           43
          ],
          [
           43
          ],
          [
           43
          ],
          [
           43
          ],
          [
           44
          ],
          [
           44
          ],
          [
           44
          ],
          [
           44
          ],
          [
           45
          ],
          [
           45
          ],
          [
           45
          ],
          [
           45
          ],
          [
           45
          ],
          [
           45
          ],
          [
           46
          ],
          [
           46
          ],
          [
           46
          ],
          [
           46
          ],
          [
           46
          ],
          [
           46
          ],
          [
           47
          ],
          [
           47
          ],
          [
           47
          ],
          [
           47
          ],
          [
           47
          ],
          [
           47
          ],
          [
           48
          ],
          [
           48
          ],
          [
           48
          ],
          [
           48
          ],
          [
           48
          ],
          [
           48
          ],
          [
           49
          ],
          [
           49
          ],
          [
           49
          ],
          [
           49
          ],
          [
           49
          ],
          [
           49
          ],
          [
           50
          ],
          [
           50
          ],
          [
           50
          ],
          [
           50
          ],
          [
           50
          ],
          [
           50
          ],
          [
           51
          ],
          [
           51
          ],
          [
           51
          ],
          [
           51
          ],
          [
           51
          ],
          [
           51
          ],
          [
           52
          ],
          [
           52
          ],
          [
           52
          ],
          [
           52
          ],
          [
           52
          ],
          [
           52
          ],
          [
           53
          ],
          [
           53
          ],
          [
           53
          ],
          [
           53
          ],
          [
           53
          ],
          [
           53
          ],
          [
           54
          ],
          [
           54
          ],
          [
           54
          ],
          [
           54
          ],
          [
           54
          ],
          [
           54
          ],
          [
           55
          ],
          [
           55
          ],
          [
           55
          ],
          [
           55
          ],
          [
           55
          ],
          [
           55
          ],
          [
           56
          ],
          [
           56
          ],
          [
           56
          ],
          [
           56
          ],
          [
           56
          ],
          [
           56
          ],
          [
           57
          ],
          [
           57
          ],
          [
           57
          ],
          [
           57
          ],
          [
           57
          ],
          [
           57
          ],
          [
           58
          ],
          [
           58
          ],
          [
           58
          ],
          [
           58
          ],
          [
           58
          ],
          [
           58
          ],
          [
           59
          ],
          [
           59
          ],
          [
           59
          ],
          [
           59
          ],
          [
           59
          ],
          [
           59
          ]
         ],
         "hovertemplate": "tissue_location=%{x}<br>avg_dna_damage_foci/all_nuclei=%{y}<br>staining_id=%{customdata[0]}<extra></extra>",
         "legendgroup": "",
         "marker": {
          "color": "#636efa",
          "symbol": "circle"
         },
         "mode": "markers",
         "name": "",
         "orientation": "v",
         "showlegend": false,
         "type": "scatter",
         "x": [
          "CA1",
          "CA3",
          "CTX1",
          "CTX2",
          "CTX3",
          "DG",
          "CA1",
          "CA3",
          "CTX1",
          "CTX2",
          "CTX3",
          "DG",
          "CA1",
          "CA3",
          "CTX1",
          "CTX2",
          "CTX3",
          "DG",
          "CA1",
          "CA3",
          "CTX1",
          "CTX2",
          "CTX3",
          "DG",
          "CA1",
          "CA3",
          "CTX1",
          "CTX2",
          "CTX3",
          "DG",
          "CA1",
          "CA3",
          "CTX1",
          "CTX2",
          "CTX3",
          "DG",
          "CA1",
          "CA3",
          "CTX1",
          "CTX2",
          "CTX3",
          "DG",
          "CA1",
          "CA3",
          "CTX1",
          "CTX2",
          "CTX3",
          "DG",
          "CA1",
          "CA3",
          "CTX1",
          "CTX2",
          "CTX3",
          "DG",
          "CA1",
          "CA3",
          "CTX1",
          "CTX2",
          "CTX3",
          "DG",
          "CA1",
          "CA3",
          "CTX1",
          "CTX2",
          "CTX3",
          "DG",
          "DG",
          "CA1",
          "CA3",
          "CTX1",
          "CTX2",
          "CTX3",
          "DG",
          "CA1",
          "CA3",
          "CTX1",
          "CTX2",
          "CTX3",
          "DG",
          "CA1",
          "CA3",
          "CTX1",
          "CTX2",
          "CTX3",
          "DG",
          "CA1",
          "CA3",
          "CTX1",
          "CTX2",
          "CTX3",
          "DG",
          "CA1",
          "CA3",
          "CTX1",
          "CTX2",
          "CTX3",
          "DG",
          "CA1",
          "CA3",
          "CTX1",
          "CTX2",
          "CTX3",
          "DG",
          "CA1",
          "CA3",
          "CTX1",
          "CTX2",
          "CTX3",
          "DG",
          "CA1",
          "CA3",
          "CTX1",
          "CTX2",
          "CTX3",
          "DG",
          "CA1",
          "CA3",
          "CTX1",
          "CTX2",
          "CTX3",
          "DG",
          "CA1",
          "CA3",
          "CTX1",
          "CTX2",
          "CTX3",
          "DG",
          "DG",
          "CA1",
          "CA3",
          "CTX1",
          "CTX2",
          "CTX3",
          "DG",
          "CA1",
          "CA3",
          "CTX1",
          "CTX2",
          "CTX3",
          "DG",
          "CA1",
          "CA3",
          "CTX1",
          "CTX2",
          "CTX3",
          "DG",
          "CA1",
          "CA3",
          "CTX1",
          "CTX2",
          "CTX3",
          "DG",
          "CA1",
          "CA3",
          "CTX1",
          "CTX2",
          "CTX3",
          "DG",
          "CA1",
          "CA3",
          "CTX1",
          "DG",
          "CA1",
          "CA3",
          "CTX1",
          "CTX2",
          "CTX3",
          "DG",
          "CA1",
          "CA3",
          "CTX1",
          "CTX2",
          "CTX3",
          "DG",
          "CA1",
          "CA3",
          "CTX1",
          "CTX2",
          "CTX3",
          "DG",
          "CA1",
          "CA3",
          "CTX1",
          "CTX2",
          "CTX3",
          "DG",
          "CA1",
          "CA3",
          "CTX1",
          "CTX2",
          "CTX3",
          "DG",
          "CA1",
          "CA3",
          "CTX1",
          "CTX2",
          "CTX3",
          "DG",
          "CA1",
          "CA3",
          "CTX1",
          "CTX2",
          "CTX3",
          "DG",
          "CA1",
          "CA3",
          "CTX1",
          "CTX2",
          "CTX3",
          "DG",
          "CA1",
          "CA3",
          "CTX1",
          "CTX2",
          "CTX3",
          "DG",
          "CA1",
          "CA3",
          "CTX1",
          "CTX2",
          "CTX3",
          "DG",
          "CA1",
          "CA3",
          "CTX1",
          "CTX2",
          "CTX3",
          "DG",
          "CA1",
          "CA3",
          "CTX1",
          "CTX2",
          "CTX3",
          "DG",
          "CA1",
          "CA3",
          "CTX1",
          "CTX2",
          "CTX3",
          "DG",
          "CA1",
          "CA3",
          "CTX1",
          "CTX2",
          "CTX3",
          "DG",
          "CA1",
          "CA3",
          "CTX1",
          "CTX2",
          "CTX3",
          "DG"
         ],
         "xaxis": "x",
         "y": [
          0.3146551724137931,
          0.7760416666666666,
          0.1794871794871795,
          0.4943396226415094,
          0.5371900826446281,
          0.2707423580786026,
          0.3214285714285714,
          0.6010928961748634,
          0.264367816091954,
          0.3432343234323432,
          0.8944444444444445,
          0.3726235741444867,
          1.0347222222222223,
          0.9166666666666666,
          0.0888888888888888,
          0.1478599221789883,
          0.175438596491228,
          1.8085714285714285,
          1.8235294117647056,
          1.8333333333333333,
          0.9669811320754716,
          0.7333333333333333,
          0.3852459016393442,
          2.75968992248062,
          0.6,
          0.9649122807017544,
          0.4292929292929293,
          0.8544303797468354,
          0.4193548387096774,
          1.196765498652291,
          0.75177304964539,
          0.7850467289719626,
          0.6169154228855721,
          0.6844444444444444,
          0.654639175257732,
          0.9391727493917276,
          0.6896551724137931,
          0.8561151079136691,
          0.7654320987654321,
          0.6515151515151515,
          0.2976190476190476,
          1.1666666666666667,
          0.5661764705882353,
          0.5486725663716814,
          0.3036649214659686,
          0.05,
          0.581081081081081,
          0.9396751740139212,
          0.348314606741573,
          0.4782608695652174,
          0.1277777777777777,
          0.1846153846153846,
          0.2,
          0.0898876404494382,
          0.8278145695364238,
          0.8467153284671532,
          0.5037593984962406,
          0.75,
          1.0108108108108107,
          1.4495192307692308,
          0.5142857142857142,
          0.609375,
          0.4818181818181818,
          0.2941176470588235,
          0.4455445544554455,
          0.4225352112676056,
          0.9036697247706422,
          0.686046511627907,
          0.373134328358209,
          0.375,
          0.5217391304347826,
          0.9035532994923858,
          1.7134831460674158,
          0.6241610738255033,
          0.5630252100840336,
          0.5276381909547738,
          0.8578680203045685,
          0.494047619047619,
          0.8828125,
          0.4929577464788732,
          0.7941176470588235,
          0.358974358974359,
          0.3992395437262357,
          0.271356783919598,
          0.8306010928961749,
          0.7724550898203593,
          0.918032786885246,
          0.3730569948186528,
          0.4958333333333333,
          0.7054794520547946,
          1.2601880877742946,
          0.6702702702702703,
          1.3185185185185184,
          0.596551724137931,
          0.7172995780590717,
          0.8764044943820225,
          0.3980815347721823,
          0.6012658227848101,
          0.8633879781420765,
          0.5758928571428571,
          0.8214285714285714,
          0.5911949685534591,
          1.1522248243559718,
          0.9786096256684492,
          1.5513307984790874,
          0.863481228668942,
          1.026615969581749,
          1.2211538461538465,
          1.4894259818731117,
          0.231578947368421,
          0.7415730337078652,
          0.2672064777327935,
          0.602996254681648,
          0.7339901477832512,
          0.8450704225352113,
          0.696969696969697,
          0.797979797979798,
          1.0434782608695652,
          0.9863013698630136,
          1.023121387283237,
          1.2772861356932153,
          0.5164835164835165,
          0.6712328767123288,
          0.5614035087719298,
          0.7586206896551724,
          0.7109826589595376,
          0.9502762430939228,
          1.4423076923076923,
          0.6391752577319587,
          0.8555555555555555,
          0.311377245508982,
          0.331578947368421,
          0.2052980132450331,
          0.6239669421487604,
          0.3561643835616438,
          0.6022727272727273,
          0.6064516129032258,
          0.5192307692307693,
          0.5675675675675675,
          1.060897435897436,
          0.5960264900662252,
          0.44,
          0.0736196319018405,
          0.1236559139784946,
          0.1357142857142857,
          0.8873626373626373,
          0.3655172413793103,
          0.6990291262135923,
          0.4107142857142857,
          0.4709677419354838,
          0.6713286713286714,
          0.6272493573264781,
          0.3087248322147651,
          1.0841584158415842,
          0.7399103139013453,
          0.357487922705314,
          0.6346153846153846,
          1.6521739130434785,
          1.4460431654676258,
          2.1616161616161618,
          1.8860759493670889,
          1.2149122807017545,
          0.9047619047619048,
          0.7621951219512195,
          0.2987012987012987,
          0.3108108108108108,
          0.3043478260869565,
          1.5037037037037038,
          1.1597633136094674,
          0.9574468085106383,
          0.7433962264150943,
          0.3588850174216028,
          0.6887966804979253,
          0.7732919254658385,
          0.5023923444976076,
          1.1162790697674418,
          0.1566951566951566,
          0.5017667844522968,
          0.6576576576576577,
          1.0524781341107872,
          0.9416666666666668,
          0.5652173913043478,
          0.5152838427947598,
          0.5939849624060151,
          0.584070796460177,
          1.3195876288659794,
          0.406060606060606,
          0.180327868852459,
          0.3,
          0.256544502617801,
          0.2446043165467626,
          0.5070422535211268,
          0.1333333333333333,
          0.4274193548387097,
          0.0197628458498023,
          0.1260504201680672,
          0.612565445026178,
          0.2411764705882353,
          0.3541666666666667,
          0.7672413793103449,
          0.2465753424657534,
          0.2136363636363636,
          0.3701657458563536,
          0.7774798927613941,
          0.3257575757575757,
          0.5612244897959183,
          0.1707317073170731,
          0.367816091954023,
          0.4329896907216495,
          0.4481792717086835,
          0.712707182320442,
          1.2147239263803682,
          0.6830188679245283,
          0.76,
          0.7536231884057971,
          1.3594306049822065,
          0.5153846153846153,
          1.0546875,
          0.4922279792746113,
          0.5730994152046783,
          0.6547619047619048,
          1.0946372239747637,
          0.4418604651162791,
          0.5894736842105263,
          0.0534351145038167,
          0.6944444444444444,
          0.1647058823529411,
          0.7313432835820896,
          0.4203821656050955,
          0.5303030303030303,
          0.4269662921348314,
          0.2933884297520661,
          0.2872340425531915,
          0.5547445255474452,
          0.3459459459459459,
          0.8392857142857143,
          0.1835205992509363,
          0.1722846441947565,
          0.0927835051546391,
          0.4216524216524216,
          0.5371900826446281,
          0.7345132743362832,
          0.475177304964539,
          0.6649214659685864,
          0.484375,
          0.6720257234726688,
          0.5384615384615384,
          0.41,
          0.5707070707070707,
          0.3493150684931507,
          0.437037037037037,
          0.8592375366568915
         ],
         "yaxis": "y"
        }
       ],
       "layout": {
        "legend": {
         "tracegroupgap": 0
        },
        "template": {
         "data": {
          "bar": [
           {
            "error_x": {
             "color": "#2a3f5f"
            },
            "error_y": {
             "color": "#2a3f5f"
            },
            "marker": {
             "line": {
              "color": "#E5ECF6",
              "width": 0.5
             },
             "pattern": {
              "fillmode": "overlay",
              "size": 10,
              "solidity": 0.2
             }
            },
            "type": "bar"
           }
          ],
          "barpolar": [
           {
            "marker": {
             "line": {
              "color": "#E5ECF6",
              "width": 0.5
             },
             "pattern": {
              "fillmode": "overlay",
              "size": 10,
              "solidity": 0.2
             }
            },
            "type": "barpolar"
           }
          ],
          "carpet": [
           {
            "aaxis": {
             "endlinecolor": "#2a3f5f",
             "gridcolor": "white",
             "linecolor": "white",
             "minorgridcolor": "white",
             "startlinecolor": "#2a3f5f"
            },
            "baxis": {
             "endlinecolor": "#2a3f5f",
             "gridcolor": "white",
             "linecolor": "white",
             "minorgridcolor": "white",
             "startlinecolor": "#2a3f5f"
            },
            "type": "carpet"
           }
          ],
          "choropleth": [
           {
            "colorbar": {
             "outlinewidth": 0,
             "ticks": ""
            },
            "type": "choropleth"
           }
          ],
          "contour": [
           {
            "colorbar": {
             "outlinewidth": 0,
             "ticks": ""
            },
            "colorscale": [
             [
              0,
              "#0d0887"
             ],
             [
              0.1111111111111111,
              "#46039f"
             ],
             [
              0.2222222222222222,
              "#7201a8"
             ],
             [
              0.3333333333333333,
              "#9c179e"
             ],
             [
              0.4444444444444444,
              "#bd3786"
             ],
             [
              0.5555555555555556,
              "#d8576b"
             ],
             [
              0.6666666666666666,
              "#ed7953"
             ],
             [
              0.7777777777777778,
              "#fb9f3a"
             ],
             [
              0.8888888888888888,
              "#fdca26"
             ],
             [
              1,
              "#f0f921"
             ]
            ],
            "type": "contour"
           }
          ],
          "contourcarpet": [
           {
            "colorbar": {
             "outlinewidth": 0,
             "ticks": ""
            },
            "type": "contourcarpet"
           }
          ],
          "heatmap": [
           {
            "colorbar": {
             "outlinewidth": 0,
             "ticks": ""
            },
            "colorscale": [
             [
              0,
              "#0d0887"
             ],
             [
              0.1111111111111111,
              "#46039f"
             ],
             [
              0.2222222222222222,
              "#7201a8"
             ],
             [
              0.3333333333333333,
              "#9c179e"
             ],
             [
              0.4444444444444444,
              "#bd3786"
             ],
             [
              0.5555555555555556,
              "#d8576b"
             ],
             [
              0.6666666666666666,
              "#ed7953"
             ],
             [
              0.7777777777777778,
              "#fb9f3a"
             ],
             [
              0.8888888888888888,
              "#fdca26"
             ],
             [
              1,
              "#f0f921"
             ]
            ],
            "type": "heatmap"
           }
          ],
          "heatmapgl": [
           {
            "colorbar": {
             "outlinewidth": 0,
             "ticks": ""
            },
            "colorscale": [
             [
              0,
              "#0d0887"
             ],
             [
              0.1111111111111111,
              "#46039f"
             ],
             [
              0.2222222222222222,
              "#7201a8"
             ],
             [
              0.3333333333333333,
              "#9c179e"
             ],
             [
              0.4444444444444444,
              "#bd3786"
             ],
             [
              0.5555555555555556,
              "#d8576b"
             ],
             [
              0.6666666666666666,
              "#ed7953"
             ],
             [
              0.7777777777777778,
              "#fb9f3a"
             ],
             [
              0.8888888888888888,
              "#fdca26"
             ],
             [
              1,
              "#f0f921"
             ]
            ],
            "type": "heatmapgl"
           }
          ],
          "histogram": [
           {
            "marker": {
             "pattern": {
              "fillmode": "overlay",
              "size": 10,
              "solidity": 0.2
             }
            },
            "type": "histogram"
           }
          ],
          "histogram2d": [
           {
            "colorbar": {
             "outlinewidth": 0,
             "ticks": ""
            },
            "colorscale": [
             [
              0,
              "#0d0887"
             ],
             [
              0.1111111111111111,
              "#46039f"
             ],
             [
              0.2222222222222222,
              "#7201a8"
             ],
             [
              0.3333333333333333,
              "#9c179e"
             ],
             [
              0.4444444444444444,
              "#bd3786"
             ],
             [
              0.5555555555555556,
              "#d8576b"
             ],
             [
              0.6666666666666666,
              "#ed7953"
             ],
             [
              0.7777777777777778,
              "#fb9f3a"
             ],
             [
              0.8888888888888888,
              "#fdca26"
             ],
             [
              1,
              "#f0f921"
             ]
            ],
            "type": "histogram2d"
           }
          ],
          "histogram2dcontour": [
           {
            "colorbar": {
             "outlinewidth": 0,
             "ticks": ""
            },
            "colorscale": [
             [
              0,
              "#0d0887"
             ],
             [
              0.1111111111111111,
              "#46039f"
             ],
             [
              0.2222222222222222,
              "#7201a8"
             ],
             [
              0.3333333333333333,
              "#9c179e"
             ],
             [
              0.4444444444444444,
              "#bd3786"
             ],
             [
              0.5555555555555556,
              "#d8576b"
             ],
             [
              0.6666666666666666,
              "#ed7953"
             ],
             [
              0.7777777777777778,
              "#fb9f3a"
             ],
             [
              0.8888888888888888,
              "#fdca26"
             ],
             [
              1,
              "#f0f921"
             ]
            ],
            "type": "histogram2dcontour"
           }
          ],
          "mesh3d": [
           {
            "colorbar": {
             "outlinewidth": 0,
             "ticks": ""
            },
            "type": "mesh3d"
           }
          ],
          "parcoords": [
           {
            "line": {
             "colorbar": {
              "outlinewidth": 0,
              "ticks": ""
             }
            },
            "type": "parcoords"
           }
          ],
          "pie": [
           {
            "automargin": true,
            "type": "pie"
           }
          ],
          "scatter": [
           {
            "fillpattern": {
             "fillmode": "overlay",
             "size": 10,
             "solidity": 0.2
            },
            "type": "scatter"
           }
          ],
          "scatter3d": [
           {
            "line": {
             "colorbar": {
              "outlinewidth": 0,
              "ticks": ""
             }
            },
            "marker": {
             "colorbar": {
              "outlinewidth": 0,
              "ticks": ""
             }
            },
            "type": "scatter3d"
           }
          ],
          "scattercarpet": [
           {
            "marker": {
             "colorbar": {
              "outlinewidth": 0,
              "ticks": ""
             }
            },
            "type": "scattercarpet"
           }
          ],
          "scattergeo": [
           {
            "marker": {
             "colorbar": {
              "outlinewidth": 0,
              "ticks": ""
             }
            },
            "type": "scattergeo"
           }
          ],
          "scattergl": [
           {
            "marker": {
             "colorbar": {
              "outlinewidth": 0,
              "ticks": ""
             }
            },
            "type": "scattergl"
           }
          ],
          "scattermapbox": [
           {
            "marker": {
             "colorbar": {
              "outlinewidth": 0,
              "ticks": ""
             }
            },
            "type": "scattermapbox"
           }
          ],
          "scatterpolar": [
           {
            "marker": {
             "colorbar": {
              "outlinewidth": 0,
              "ticks": ""
             }
            },
            "type": "scatterpolar"
           }
          ],
          "scatterpolargl": [
           {
            "marker": {
             "colorbar": {
              "outlinewidth": 0,
              "ticks": ""
             }
            },
            "type": "scatterpolargl"
           }
          ],
          "scatterternary": [
           {
            "marker": {
             "colorbar": {
              "outlinewidth": 0,
              "ticks": ""
             }
            },
            "type": "scatterternary"
           }
          ],
          "surface": [
           {
            "colorbar": {
             "outlinewidth": 0,
             "ticks": ""
            },
            "colorscale": [
             [
              0,
              "#0d0887"
             ],
             [
              0.1111111111111111,
              "#46039f"
             ],
             [
              0.2222222222222222,
              "#7201a8"
             ],
             [
              0.3333333333333333,
              "#9c179e"
             ],
             [
              0.4444444444444444,
              "#bd3786"
             ],
             [
              0.5555555555555556,
              "#d8576b"
             ],
             [
              0.6666666666666666,
              "#ed7953"
             ],
             [
              0.7777777777777778,
              "#fb9f3a"
             ],
             [
              0.8888888888888888,
              "#fdca26"
             ],
             [
              1,
              "#f0f921"
             ]
            ],
            "type": "surface"
           }
          ],
          "table": [
           {
            "cells": {
             "fill": {
              "color": "#EBF0F8"
             },
             "line": {
              "color": "white"
             }
            },
            "header": {
             "fill": {
              "color": "#C8D4E3"
             },
             "line": {
              "color": "white"
             }
            },
            "type": "table"
           }
          ]
         },
         "layout": {
          "annotationdefaults": {
           "arrowcolor": "#2a3f5f",
           "arrowhead": 0,
           "arrowwidth": 1
          },
          "autotypenumbers": "strict",
          "coloraxis": {
           "colorbar": {
            "outlinewidth": 0,
            "ticks": ""
           }
          },
          "colorscale": {
           "diverging": [
            [
             0,
             "#8e0152"
            ],
            [
             0.1,
             "#c51b7d"
            ],
            [
             0.2,
             "#de77ae"
            ],
            [
             0.3,
             "#f1b6da"
            ],
            [
             0.4,
             "#fde0ef"
            ],
            [
             0.5,
             "#f7f7f7"
            ],
            [
             0.6,
             "#e6f5d0"
            ],
            [
             0.7,
             "#b8e186"
            ],
            [
             0.8,
             "#7fbc41"
            ],
            [
             0.9,
             "#4d9221"
            ],
            [
             1,
             "#276419"
            ]
           ],
           "sequential": [
            [
             0,
             "#0d0887"
            ],
            [
             0.1111111111111111,
             "#46039f"
            ],
            [
             0.2222222222222222,
             "#7201a8"
            ],
            [
             0.3333333333333333,
             "#9c179e"
            ],
            [
             0.4444444444444444,
             "#bd3786"
            ],
            [
             0.5555555555555556,
             "#d8576b"
            ],
            [
             0.6666666666666666,
             "#ed7953"
            ],
            [
             0.7777777777777778,
             "#fb9f3a"
            ],
            [
             0.8888888888888888,
             "#fdca26"
            ],
            [
             1,
             "#f0f921"
            ]
           ],
           "sequentialminus": [
            [
             0,
             "#0d0887"
            ],
            [
             0.1111111111111111,
             "#46039f"
            ],
            [
             0.2222222222222222,
             "#7201a8"
            ],
            [
             0.3333333333333333,
             "#9c179e"
            ],
            [
             0.4444444444444444,
             "#bd3786"
            ],
            [
             0.5555555555555556,
             "#d8576b"
            ],
            [
             0.6666666666666666,
             "#ed7953"
            ],
            [
             0.7777777777777778,
             "#fb9f3a"
            ],
            [
             0.8888888888888888,
             "#fdca26"
            ],
            [
             1,
             "#f0f921"
            ]
           ]
          },
          "colorway": [
           "#636efa",
           "#EF553B",
           "#00cc96",
           "#ab63fa",
           "#FFA15A",
           "#19d3f3",
           "#FF6692",
           "#B6E880",
           "#FF97FF",
           "#FECB52"
          ],
          "font": {
           "color": "#2a3f5f"
          },
          "geo": {
           "bgcolor": "white",
           "lakecolor": "white",
           "landcolor": "#E5ECF6",
           "showlakes": true,
           "showland": true,
           "subunitcolor": "white"
          },
          "hoverlabel": {
           "align": "left"
          },
          "hovermode": "closest",
          "mapbox": {
           "style": "light"
          },
          "paper_bgcolor": "white",
          "plot_bgcolor": "#E5ECF6",
          "polar": {
           "angularaxis": {
            "gridcolor": "white",
            "linecolor": "white",
            "ticks": ""
           },
           "bgcolor": "#E5ECF6",
           "radialaxis": {
            "gridcolor": "white",
            "linecolor": "white",
            "ticks": ""
           }
          },
          "scene": {
           "xaxis": {
            "backgroundcolor": "#E5ECF6",
            "gridcolor": "white",
            "gridwidth": 2,
            "linecolor": "white",
            "showbackground": true,
            "ticks": "",
            "zerolinecolor": "white"
           },
           "yaxis": {
            "backgroundcolor": "#E5ECF6",
            "gridcolor": "white",
            "gridwidth": 2,
            "linecolor": "white",
            "showbackground": true,
            "ticks": "",
            "zerolinecolor": "white"
           },
           "zaxis": {
            "backgroundcolor": "#E5ECF6",
            "gridcolor": "white",
            "gridwidth": 2,
            "linecolor": "white",
            "showbackground": true,
            "ticks": "",
            "zerolinecolor": "white"
           }
          },
          "shapedefaults": {
           "line": {
            "color": "#2a3f5f"
           }
          },
          "ternary": {
           "aaxis": {
            "gridcolor": "white",
            "linecolor": "white",
            "ticks": ""
           },
           "baxis": {
            "gridcolor": "white",
            "linecolor": "white",
            "ticks": ""
           },
           "bgcolor": "#E5ECF6",
           "caxis": {
            "gridcolor": "white",
            "linecolor": "white",
            "ticks": ""
           }
          },
          "title": {
           "x": 0.05
          },
          "xaxis": {
           "automargin": true,
           "gridcolor": "white",
           "linecolor": "white",
           "ticks": "",
           "title": {
            "standoff": 15
           },
           "zerolinecolor": "white",
           "zerolinewidth": 2
          },
          "yaxis": {
           "automargin": true,
           "gridcolor": "white",
           "linecolor": "white",
           "ticks": "",
           "title": {
            "standoff": 15
           },
           "zerolinecolor": "white",
           "zerolinewidth": 2
          }
         }
        },
        "title": {
         "text": "Average DNA damage foci in All Nuclei by Tissue Location - cellpdia30_sigma1_dilrad4_dnad_obj_seg_v2_gliaero6_gliathr20_dnadero2"
        },
        "xaxis": {
         "anchor": "y",
         "domain": [
          0,
          1
         ],
         "title": {
          "text": "tissue_location"
         }
        },
        "yaxis": {
         "anchor": "x",
         "domain": [
          0,
          1
         ],
         "title": {
          "text": "avg_dna_damage_foci/all_nuclei"
         }
        }
       }
      }
     },
     "metadata": {},
     "output_type": "display_data"
    }
   ],
   "source": [
    "# Create the plot\n",
    "fig = px.scatter(df, x='tissue_location', y='avg_dna_damage_foci/all_nuclei',\n",
    "                 hover_data=['staining_id'], title=f\"Average DNA damage foci in All Nuclei by Tissue Location - {title}\")\n",
    "\n",
    "# Show the plot\n",
    "fig.show()"
   ]
  },
  {
   "cell_type": "code",
   "execution_count": 8,
   "metadata": {},
   "outputs": [
    {
     "data": {
      "application/vnd.plotly.v1+json": {
       "config": {
        "plotlyServerURL": "https://plot.ly"
       },
       "data": [
        {
         "customdata": [
          [
           16,
           0
          ],
          [
           16,
           1
          ],
          [
           16,
           2
          ],
          [
           16,
           3
          ],
          [
           16,
           4
          ],
          [
           16,
           5
          ],
          [
           17,
           6
          ],
          [
           17,
           7
          ],
          [
           17,
           8
          ],
          [
           17,
           9
          ],
          [
           17,
           10
          ],
          [
           17,
           11
          ],
          [
           18,
           12
          ],
          [
           18,
           13
          ],
          [
           18,
           14
          ],
          [
           18,
           15
          ],
          [
           18,
           16
          ],
          [
           18,
           17
          ],
          [
           19,
           18
          ],
          [
           19,
           19
          ],
          [
           19,
           20
          ],
          [
           19,
           21
          ],
          [
           19,
           22
          ],
          [
           19,
           23
          ],
          [
           20,
           24
          ],
          [
           20,
           25
          ],
          [
           20,
           26
          ],
          [
           20,
           27
          ],
          [
           20,
           28
          ],
          [
           20,
           29
          ],
          [
           21,
           30
          ],
          [
           21,
           31
          ],
          [
           21,
           32
          ],
          [
           21,
           33
          ],
          [
           21,
           34
          ],
          [
           21,
           35
          ],
          [
           22,
           36
          ],
          [
           22,
           37
          ],
          [
           22,
           38
          ],
          [
           22,
           39
          ],
          [
           22,
           40
          ],
          [
           22,
           41
          ],
          [
           23,
           42
          ],
          [
           23,
           43
          ],
          [
           23,
           44
          ],
          [
           23,
           45
          ],
          [
           23,
           46
          ],
          [
           23,
           47
          ],
          [
           24,
           48
          ],
          [
           24,
           49
          ],
          [
           24,
           50
          ],
          [
           24,
           51
          ],
          [
           24,
           52
          ],
          [
           24,
           53
          ],
          [
           25,
           54
          ],
          [
           25,
           55
          ],
          [
           25,
           56
          ],
          [
           25,
           57
          ],
          [
           25,
           58
          ],
          [
           25,
           59
          ],
          [
           26,
           60
          ],
          [
           26,
           61
          ],
          [
           26,
           62
          ],
          [
           26,
           63
          ],
          [
           26,
           64
          ],
          [
           26,
           65
          ],
          [
           27,
           66
          ],
          [
           28,
           67
          ],
          [
           28,
           68
          ],
          [
           28,
           69
          ],
          [
           28,
           70
          ],
          [
           28,
           71
          ],
          [
           28,
           72
          ],
          [
           29,
           73
          ],
          [
           29,
           74
          ],
          [
           29,
           75
          ],
          [
           29,
           76
          ],
          [
           29,
           77
          ],
          [
           29,
           78
          ],
          [
           30,
           79
          ],
          [
           30,
           80
          ],
          [
           30,
           81
          ],
          [
           30,
           82
          ],
          [
           30,
           83
          ],
          [
           30,
           84
          ],
          [
           31,
           85
          ],
          [
           31,
           86
          ],
          [
           31,
           87
          ],
          [
           31,
           88
          ],
          [
           31,
           89
          ],
          [
           31,
           90
          ],
          [
           32,
           91
          ],
          [
           32,
           92
          ],
          [
           32,
           93
          ],
          [
           32,
           94
          ],
          [
           32,
           95
          ],
          [
           32,
           96
          ],
          [
           33,
           97
          ],
          [
           33,
           98
          ],
          [
           33,
           99
          ],
          [
           33,
           100
          ],
          [
           33,
           101
          ],
          [
           33,
           102
          ],
          [
           34,
           103
          ],
          [
           34,
           104
          ],
          [
           34,
           105
          ],
          [
           34,
           106
          ],
          [
           34,
           107
          ],
          [
           34,
           108
          ],
          [
           35,
           109
          ],
          [
           35,
           110
          ],
          [
           35,
           111
          ],
          [
           35,
           112
          ],
          [
           35,
           113
          ],
          [
           35,
           114
          ],
          [
           36,
           115
          ],
          [
           36,
           116
          ],
          [
           36,
           117
          ],
          [
           36,
           118
          ],
          [
           36,
           119
          ],
          [
           36,
           120
          ],
          [
           37,
           121
          ],
          [
           37,
           122
          ],
          [
           37,
           123
          ],
          [
           37,
           124
          ],
          [
           37,
           125
          ],
          [
           37,
           126
          ],
          [
           38,
           127
          ],
          [
           39,
           128
          ],
          [
           39,
           129
          ],
          [
           39,
           130
          ],
          [
           39,
           131
          ],
          [
           39,
           132
          ],
          [
           39,
           133
          ],
          [
           40,
           134
          ],
          [
           40,
           135
          ],
          [
           40,
           136
          ],
          [
           40,
           137
          ],
          [
           40,
           138
          ],
          [
           40,
           139
          ],
          [
           41,
           140
          ],
          [
           41,
           141
          ],
          [
           41,
           142
          ],
          [
           41,
           143
          ],
          [
           41,
           144
          ],
          [
           41,
           145
          ],
          [
           42,
           146
          ],
          [
           42,
           147
          ],
          [
           42,
           148
          ],
          [
           42,
           149
          ],
          [
           42,
           150
          ],
          [
           42,
           151
          ],
          [
           43,
           152
          ],
          [
           43,
           153
          ],
          [
           43,
           154
          ],
          [
           43,
           155
          ],
          [
           43,
           156
          ],
          [
           43,
           157
          ],
          [
           44,
           158
          ],
          [
           44,
           159
          ],
          [
           44,
           160
          ],
          [
           44,
           161
          ],
          [
           45,
           162
          ],
          [
           45,
           163
          ],
          [
           45,
           164
          ],
          [
           45,
           165
          ],
          [
           45,
           166
          ],
          [
           45,
           167
          ],
          [
           46,
           168
          ],
          [
           46,
           169
          ],
          [
           46,
           170
          ],
          [
           46,
           171
          ],
          [
           46,
           172
          ],
          [
           46,
           173
          ],
          [
           47,
           174
          ],
          [
           47,
           175
          ],
          [
           47,
           176
          ],
          [
           47,
           177
          ],
          [
           47,
           178
          ],
          [
           47,
           179
          ],
          [
           48,
           180
          ],
          [
           48,
           181
          ],
          [
           48,
           182
          ],
          [
           48,
           183
          ],
          [
           48,
           184
          ],
          [
           48,
           185
          ],
          [
           49,
           186
          ],
          [
           49,
           187
          ],
          [
           49,
           188
          ],
          [
           49,
           189
          ],
          [
           49,
           190
          ],
          [
           49,
           191
          ],
          [
           50,
           192
          ],
          [
           50,
           193
          ],
          [
           50,
           194
          ],
          [
           50,
           195
          ],
          [
           50,
           196
          ],
          [
           50,
           197
          ],
          [
           51,
           198
          ],
          [
           51,
           199
          ],
          [
           51,
           200
          ],
          [
           51,
           201
          ],
          [
           51,
           202
          ],
          [
           51,
           203
          ],
          [
           52,
           204
          ],
          [
           52,
           205
          ],
          [
           52,
           206
          ],
          [
           52,
           207
          ],
          [
           52,
           208
          ],
          [
           52,
           209
          ],
          [
           53,
           210
          ],
          [
           53,
           211
          ],
          [
           53,
           212
          ],
          [
           53,
           213
          ],
          [
           53,
           214
          ],
          [
           53,
           215
          ],
          [
           54,
           216
          ],
          [
           54,
           217
          ],
          [
           54,
           218
          ],
          [
           54,
           219
          ],
          [
           54,
           220
          ],
          [
           54,
           221
          ],
          [
           55,
           222
          ],
          [
           55,
           223
          ],
          [
           55,
           224
          ],
          [
           55,
           225
          ],
          [
           55,
           226
          ],
          [
           55,
           227
          ],
          [
           56,
           228
          ],
          [
           56,
           229
          ],
          [
           56,
           230
          ],
          [
           56,
           231
          ],
          [
           56,
           232
          ],
          [
           56,
           233
          ],
          [
           57,
           234
          ],
          [
           57,
           235
          ],
          [
           57,
           236
          ],
          [
           57,
           237
          ],
          [
           57,
           238
          ],
          [
           57,
           239
          ],
          [
           58,
           240
          ],
          [
           58,
           241
          ],
          [
           58,
           242
          ],
          [
           58,
           243
          ],
          [
           58,
           244
          ],
          [
           58,
           245
          ],
          [
           59,
           246
          ],
          [
           59,
           247
          ],
          [
           59,
           248
          ],
          [
           59,
           249
          ],
          [
           59,
           250
          ],
          [
           59,
           251
          ]
         ],
         "hovertemplate": "tissue_location=%{x}<br>nr_glia_+_nuclei=%{y}<br>staining_id=%{customdata[0]}<br>index=%{customdata[1]}<extra></extra>",
         "legendgroup": "",
         "marker": {
          "color": "#636efa",
          "symbol": "circle"
         },
         "mode": "markers",
         "name": "",
         "orientation": "v",
         "showlegend": false,
         "type": "scatter",
         "x": [
          "CA1",
          "CA3",
          "CTX1",
          "CTX2",
          "CTX3",
          "DG",
          "CA1",
          "CA3",
          "CTX1",
          "CTX2",
          "CTX3",
          "DG",
          "CA1",
          "CA3",
          "CTX1",
          "CTX2",
          "CTX3",
          "DG",
          "CA1",
          "CA3",
          "CTX1",
          "CTX2",
          "CTX3",
          "DG",
          "CA1",
          "CA3",
          "CTX1",
          "CTX2",
          "CTX3",
          "DG",
          "CA1",
          "CA3",
          "CTX1",
          "CTX2",
          "CTX3",
          "DG",
          "CA1",
          "CA3",
          "CTX1",
          "CTX2",
          "CTX3",
          "DG",
          "CA1",
          "CA3",
          "CTX1",
          "CTX2",
          "CTX3",
          "DG",
          "CA1",
          "CA3",
          "CTX1",
          "CTX2",
          "CTX3",
          "DG",
          "CA1",
          "CA3",
          "CTX1",
          "CTX2",
          "CTX3",
          "DG",
          "CA1",
          "CA3",
          "CTX1",
          "CTX2",
          "CTX3",
          "DG",
          "DG",
          "CA1",
          "CA3",
          "CTX1",
          "CTX2",
          "CTX3",
          "DG",
          "CA1",
          "CA3",
          "CTX1",
          "CTX2",
          "CTX3",
          "DG",
          "CA1",
          "CA3",
          "CTX1",
          "CTX2",
          "CTX3",
          "DG",
          "CA1",
          "CA3",
          "CTX1",
          "CTX2",
          "CTX3",
          "DG",
          "CA1",
          "CA3",
          "CTX1",
          "CTX2",
          "CTX3",
          "DG",
          "CA1",
          "CA3",
          "CTX1",
          "CTX2",
          "CTX3",
          "DG",
          "CA1",
          "CA3",
          "CTX1",
          "CTX2",
          "CTX3",
          "DG",
          "CA1",
          "CA3",
          "CTX1",
          "CTX2",
          "CTX3",
          "DG",
          "CA1",
          "CA3",
          "CTX1",
          "CTX2",
          "CTX3",
          "DG",
          "CA1",
          "CA3",
          "CTX1",
          "CTX2",
          "CTX3",
          "DG",
          "DG",
          "CA1",
          "CA3",
          "CTX1",
          "CTX2",
          "CTX3",
          "DG",
          "CA1",
          "CA3",
          "CTX1",
          "CTX2",
          "CTX3",
          "DG",
          "CA1",
          "CA3",
          "CTX1",
          "CTX2",
          "CTX3",
          "DG",
          "CA1",
          "CA3",
          "CTX1",
          "CTX2",
          "CTX3",
          "DG",
          "CA1",
          "CA3",
          "CTX1",
          "CTX2",
          "CTX3",
          "DG",
          "CA1",
          "CA3",
          "CTX1",
          "DG",
          "CA1",
          "CA3",
          "CTX1",
          "CTX2",
          "CTX3",
          "DG",
          "CA1",
          "CA3",
          "CTX1",
          "CTX2",
          "CTX3",
          "DG",
          "CA1",
          "CA3",
          "CTX1",
          "CTX2",
          "CTX3",
          "DG",
          "CA1",
          "CA3",
          "CTX1",
          "CTX2",
          "CTX3",
          "DG",
          "CA1",
          "CA3",
          "CTX1",
          "CTX2",
          "CTX3",
          "DG",
          "CA1",
          "CA3",
          "CTX1",
          "CTX2",
          "CTX3",
          "DG",
          "CA1",
          "CA3",
          "CTX1",
          "CTX2",
          "CTX3",
          "DG",
          "CA1",
          "CA3",
          "CTX1",
          "CTX2",
          "CTX3",
          "DG",
          "CA1",
          "CA3",
          "CTX1",
          "CTX2",
          "CTX3",
          "DG",
          "CA1",
          "CA3",
          "CTX1",
          "CTX2",
          "CTX3",
          "DG",
          "CA1",
          "CA3",
          "CTX1",
          "CTX2",
          "CTX3",
          "DG",
          "CA1",
          "CA3",
          "CTX1",
          "CTX2",
          "CTX3",
          "DG",
          "CA1",
          "CA3",
          "CTX1",
          "CTX2",
          "CTX3",
          "DG",
          "CA1",
          "CA3",
          "CTX1",
          "CTX2",
          "CTX3",
          "DG",
          "CA1",
          "CA3",
          "CTX1",
          "CTX2",
          "CTX3",
          "DG"
         ],
         "xaxis": "x",
         "y": [
          189,
          185,
          42,
          241,
          104,
          439,
          11,
          19,
          18,
          53,
          27,
          149,
          14,
          12,
          19,
          21,
          17,
          104,
          66,
          70,
          211,
          71,
          103,
          128,
          6,
          5,
          5,
          22,
          3,
          7,
          11,
          4,
          17,
          15,
          23,
          15,
          19,
          6,
          10,
          17,
          8,
          17,
          8,
          8,
          25,
          5,
          11,
          16,
          6,
          4,
          19,
          17,
          13,
          8,
          8,
          9,
          25,
          20,
          9,
          16,
          7,
          5,
          8,
          15,
          11,
          12,
          4,
          2,
          1,
          3,
          13,
          11,
          17,
          10,
          5,
          16,
          26,
          16,
          6,
          6,
          4,
          24,
          22,
          13,
          5,
          11,
          1,
          11,
          17,
          13,
          14,
          18,
          17,
          30,
          38,
          27,
          60,
          5,
          7,
          10,
          15,
          9,
          8,
          11,
          5,
          22,
          27,
          27,
          19,
          10,
          30,
          18,
          111,
          80,
          133,
          8,
          6,
          16,
          30,
          10,
          5,
          7,
          11,
          14,
          25,
          29,
          7,
          4,
          6,
          5,
          2,
          5,
          2,
          8,
          4,
          8,
          20,
          11,
          24,
          5,
          4,
          4,
          0,
          3,
          5,
          6,
          3,
          6,
          6,
          15,
          10,
          4,
          11,
          7,
          28,
          20,
          12,
          39,
          30,
          18,
          54,
          79,
          16,
          3,
          12,
          25,
          17,
          22,
          66,
          36,
          79,
          104,
          68,
          124,
          17,
          17,
          35,
          76,
          37,
          16,
          7,
          4,
          35,
          24,
          20,
          13,
          18,
          15,
          16,
          18,
          17,
          28,
          13,
          9,
          24,
          14,
          31,
          15,
          15,
          8,
          18,
          24,
          26,
          21,
          5,
          7,
          23,
          31,
          26,
          16,
          6,
          6,
          24,
          26,
          13,
          18,
          5,
          3,
          10,
          10,
          20,
          13,
          7,
          3,
          8,
          9,
          6,
          11,
          13,
          12,
          21,
          23,
          36,
          16,
          11,
          8,
          14,
          12,
          11,
          28,
          4,
          6,
          17,
          16,
          6,
          2,
          5,
          5,
          9,
          20,
          23,
          6
         ],
         "yaxis": "y"
        }
       ],
       "layout": {
        "legend": {
         "tracegroupgap": 0
        },
        "template": {
         "data": {
          "bar": [
           {
            "error_x": {
             "color": "#2a3f5f"
            },
            "error_y": {
             "color": "#2a3f5f"
            },
            "marker": {
             "line": {
              "color": "#E5ECF6",
              "width": 0.5
             },
             "pattern": {
              "fillmode": "overlay",
              "size": 10,
              "solidity": 0.2
             }
            },
            "type": "bar"
           }
          ],
          "barpolar": [
           {
            "marker": {
             "line": {
              "color": "#E5ECF6",
              "width": 0.5
             },
             "pattern": {
              "fillmode": "overlay",
              "size": 10,
              "solidity": 0.2
             }
            },
            "type": "barpolar"
           }
          ],
          "carpet": [
           {
            "aaxis": {
             "endlinecolor": "#2a3f5f",
             "gridcolor": "white",
             "linecolor": "white",
             "minorgridcolor": "white",
             "startlinecolor": "#2a3f5f"
            },
            "baxis": {
             "endlinecolor": "#2a3f5f",
             "gridcolor": "white",
             "linecolor": "white",
             "minorgridcolor": "white",
             "startlinecolor": "#2a3f5f"
            },
            "type": "carpet"
           }
          ],
          "choropleth": [
           {
            "colorbar": {
             "outlinewidth": 0,
             "ticks": ""
            },
            "type": "choropleth"
           }
          ],
          "contour": [
           {
            "colorbar": {
             "outlinewidth": 0,
             "ticks": ""
            },
            "colorscale": [
             [
              0,
              "#0d0887"
             ],
             [
              0.1111111111111111,
              "#46039f"
             ],
             [
              0.2222222222222222,
              "#7201a8"
             ],
             [
              0.3333333333333333,
              "#9c179e"
             ],
             [
              0.4444444444444444,
              "#bd3786"
             ],
             [
              0.5555555555555556,
              "#d8576b"
             ],
             [
              0.6666666666666666,
              "#ed7953"
             ],
             [
              0.7777777777777778,
              "#fb9f3a"
             ],
             [
              0.8888888888888888,
              "#fdca26"
             ],
             [
              1,
              "#f0f921"
             ]
            ],
            "type": "contour"
           }
          ],
          "contourcarpet": [
           {
            "colorbar": {
             "outlinewidth": 0,
             "ticks": ""
            },
            "type": "contourcarpet"
           }
          ],
          "heatmap": [
           {
            "colorbar": {
             "outlinewidth": 0,
             "ticks": ""
            },
            "colorscale": [
             [
              0,
              "#0d0887"
             ],
             [
              0.1111111111111111,
              "#46039f"
             ],
             [
              0.2222222222222222,
              "#7201a8"
             ],
             [
              0.3333333333333333,
              "#9c179e"
             ],
             [
              0.4444444444444444,
              "#bd3786"
             ],
             [
              0.5555555555555556,
              "#d8576b"
             ],
             [
              0.6666666666666666,
              "#ed7953"
             ],
             [
              0.7777777777777778,
              "#fb9f3a"
             ],
             [
              0.8888888888888888,
              "#fdca26"
             ],
             [
              1,
              "#f0f921"
             ]
            ],
            "type": "heatmap"
           }
          ],
          "heatmapgl": [
           {
            "colorbar": {
             "outlinewidth": 0,
             "ticks": ""
            },
            "colorscale": [
             [
              0,
              "#0d0887"
             ],
             [
              0.1111111111111111,
              "#46039f"
             ],
             [
              0.2222222222222222,
              "#7201a8"
             ],
             [
              0.3333333333333333,
              "#9c179e"
             ],
             [
              0.4444444444444444,
              "#bd3786"
             ],
             [
              0.5555555555555556,
              "#d8576b"
             ],
             [
              0.6666666666666666,
              "#ed7953"
             ],
             [
              0.7777777777777778,
              "#fb9f3a"
             ],
             [
              0.8888888888888888,
              "#fdca26"
             ],
             [
              1,
              "#f0f921"
             ]
            ],
            "type": "heatmapgl"
           }
          ],
          "histogram": [
           {
            "marker": {
             "pattern": {
              "fillmode": "overlay",
              "size": 10,
              "solidity": 0.2
             }
            },
            "type": "histogram"
           }
          ],
          "histogram2d": [
           {
            "colorbar": {
             "outlinewidth": 0,
             "ticks": ""
            },
            "colorscale": [
             [
              0,
              "#0d0887"
             ],
             [
              0.1111111111111111,
              "#46039f"
             ],
             [
              0.2222222222222222,
              "#7201a8"
             ],
             [
              0.3333333333333333,
              "#9c179e"
             ],
             [
              0.4444444444444444,
              "#bd3786"
             ],
             [
              0.5555555555555556,
              "#d8576b"
             ],
             [
              0.6666666666666666,
              "#ed7953"
             ],
             [
              0.7777777777777778,
              "#fb9f3a"
             ],
             [
              0.8888888888888888,
              "#fdca26"
             ],
             [
              1,
              "#f0f921"
             ]
            ],
            "type": "histogram2d"
           }
          ],
          "histogram2dcontour": [
           {
            "colorbar": {
             "outlinewidth": 0,
             "ticks": ""
            },
            "colorscale": [
             [
              0,
              "#0d0887"
             ],
             [
              0.1111111111111111,
              "#46039f"
             ],
             [
              0.2222222222222222,
              "#7201a8"
             ],
             [
              0.3333333333333333,
              "#9c179e"
             ],
             [
              0.4444444444444444,
              "#bd3786"
             ],
             [
              0.5555555555555556,
              "#d8576b"
             ],
             [
              0.6666666666666666,
              "#ed7953"
             ],
             [
              0.7777777777777778,
              "#fb9f3a"
             ],
             [
              0.8888888888888888,
              "#fdca26"
             ],
             [
              1,
              "#f0f921"
             ]
            ],
            "type": "histogram2dcontour"
           }
          ],
          "mesh3d": [
           {
            "colorbar": {
             "outlinewidth": 0,
             "ticks": ""
            },
            "type": "mesh3d"
           }
          ],
          "parcoords": [
           {
            "line": {
             "colorbar": {
              "outlinewidth": 0,
              "ticks": ""
             }
            },
            "type": "parcoords"
           }
          ],
          "pie": [
           {
            "automargin": true,
            "type": "pie"
           }
          ],
          "scatter": [
           {
            "fillpattern": {
             "fillmode": "overlay",
             "size": 10,
             "solidity": 0.2
            },
            "type": "scatter"
           }
          ],
          "scatter3d": [
           {
            "line": {
             "colorbar": {
              "outlinewidth": 0,
              "ticks": ""
             }
            },
            "marker": {
             "colorbar": {
              "outlinewidth": 0,
              "ticks": ""
             }
            },
            "type": "scatter3d"
           }
          ],
          "scattercarpet": [
           {
            "marker": {
             "colorbar": {
              "outlinewidth": 0,
              "ticks": ""
             }
            },
            "type": "scattercarpet"
           }
          ],
          "scattergeo": [
           {
            "marker": {
             "colorbar": {
              "outlinewidth": 0,
              "ticks": ""
             }
            },
            "type": "scattergeo"
           }
          ],
          "scattergl": [
           {
            "marker": {
             "colorbar": {
              "outlinewidth": 0,
              "ticks": ""
             }
            },
            "type": "scattergl"
           }
          ],
          "scattermapbox": [
           {
            "marker": {
             "colorbar": {
              "outlinewidth": 0,
              "ticks": ""
             }
            },
            "type": "scattermapbox"
           }
          ],
          "scatterpolar": [
           {
            "marker": {
             "colorbar": {
              "outlinewidth": 0,
              "ticks": ""
             }
            },
            "type": "scatterpolar"
           }
          ],
          "scatterpolargl": [
           {
            "marker": {
             "colorbar": {
              "outlinewidth": 0,
              "ticks": ""
             }
            },
            "type": "scatterpolargl"
           }
          ],
          "scatterternary": [
           {
            "marker": {
             "colorbar": {
              "outlinewidth": 0,
              "ticks": ""
             }
            },
            "type": "scatterternary"
           }
          ],
          "surface": [
           {
            "colorbar": {
             "outlinewidth": 0,
             "ticks": ""
            },
            "colorscale": [
             [
              0,
              "#0d0887"
             ],
             [
              0.1111111111111111,
              "#46039f"
             ],
             [
              0.2222222222222222,
              "#7201a8"
             ],
             [
              0.3333333333333333,
              "#9c179e"
             ],
             [
              0.4444444444444444,
              "#bd3786"
             ],
             [
              0.5555555555555556,
              "#d8576b"
             ],
             [
              0.6666666666666666,
              "#ed7953"
             ],
             [
              0.7777777777777778,
              "#fb9f3a"
             ],
             [
              0.8888888888888888,
              "#fdca26"
             ],
             [
              1,
              "#f0f921"
             ]
            ],
            "type": "surface"
           }
          ],
          "table": [
           {
            "cells": {
             "fill": {
              "color": "#EBF0F8"
             },
             "line": {
              "color": "white"
             }
            },
            "header": {
             "fill": {
              "color": "#C8D4E3"
             },
             "line": {
              "color": "white"
             }
            },
            "type": "table"
           }
          ]
         },
         "layout": {
          "annotationdefaults": {
           "arrowcolor": "#2a3f5f",
           "arrowhead": 0,
           "arrowwidth": 1
          },
          "autotypenumbers": "strict",
          "coloraxis": {
           "colorbar": {
            "outlinewidth": 0,
            "ticks": ""
           }
          },
          "colorscale": {
           "diverging": [
            [
             0,
             "#8e0152"
            ],
            [
             0.1,
             "#c51b7d"
            ],
            [
             0.2,
             "#de77ae"
            ],
            [
             0.3,
             "#f1b6da"
            ],
            [
             0.4,
             "#fde0ef"
            ],
            [
             0.5,
             "#f7f7f7"
            ],
            [
             0.6,
             "#e6f5d0"
            ],
            [
             0.7,
             "#b8e186"
            ],
            [
             0.8,
             "#7fbc41"
            ],
            [
             0.9,
             "#4d9221"
            ],
            [
             1,
             "#276419"
            ]
           ],
           "sequential": [
            [
             0,
             "#0d0887"
            ],
            [
             0.1111111111111111,
             "#46039f"
            ],
            [
             0.2222222222222222,
             "#7201a8"
            ],
            [
             0.3333333333333333,
             "#9c179e"
            ],
            [
             0.4444444444444444,
             "#bd3786"
            ],
            [
             0.5555555555555556,
             "#d8576b"
            ],
            [
             0.6666666666666666,
             "#ed7953"
            ],
            [
             0.7777777777777778,
             "#fb9f3a"
            ],
            [
             0.8888888888888888,
             "#fdca26"
            ],
            [
             1,
             "#f0f921"
            ]
           ],
           "sequentialminus": [
            [
             0,
             "#0d0887"
            ],
            [
             0.1111111111111111,
             "#46039f"
            ],
            [
             0.2222222222222222,
             "#7201a8"
            ],
            [
             0.3333333333333333,
             "#9c179e"
            ],
            [
             0.4444444444444444,
             "#bd3786"
            ],
            [
             0.5555555555555556,
             "#d8576b"
            ],
            [
             0.6666666666666666,
             "#ed7953"
            ],
            [
             0.7777777777777778,
             "#fb9f3a"
            ],
            [
             0.8888888888888888,
             "#fdca26"
            ],
            [
             1,
             "#f0f921"
            ]
           ]
          },
          "colorway": [
           "#636efa",
           "#EF553B",
           "#00cc96",
           "#ab63fa",
           "#FFA15A",
           "#19d3f3",
           "#FF6692",
           "#B6E880",
           "#FF97FF",
           "#FECB52"
          ],
          "font": {
           "color": "#2a3f5f"
          },
          "geo": {
           "bgcolor": "white",
           "lakecolor": "white",
           "landcolor": "#E5ECF6",
           "showlakes": true,
           "showland": true,
           "subunitcolor": "white"
          },
          "hoverlabel": {
           "align": "left"
          },
          "hovermode": "closest",
          "mapbox": {
           "style": "light"
          },
          "paper_bgcolor": "white",
          "plot_bgcolor": "#E5ECF6",
          "polar": {
           "angularaxis": {
            "gridcolor": "white",
            "linecolor": "white",
            "ticks": ""
           },
           "bgcolor": "#E5ECF6",
           "radialaxis": {
            "gridcolor": "white",
            "linecolor": "white",
            "ticks": ""
           }
          },
          "scene": {
           "xaxis": {
            "backgroundcolor": "#E5ECF6",
            "gridcolor": "white",
            "gridwidth": 2,
            "linecolor": "white",
            "showbackground": true,
            "ticks": "",
            "zerolinecolor": "white"
           },
           "yaxis": {
            "backgroundcolor": "#E5ECF6",
            "gridcolor": "white",
            "gridwidth": 2,
            "linecolor": "white",
            "showbackground": true,
            "ticks": "",
            "zerolinecolor": "white"
           },
           "zaxis": {
            "backgroundcolor": "#E5ECF6",
            "gridcolor": "white",
            "gridwidth": 2,
            "linecolor": "white",
            "showbackground": true,
            "ticks": "",
            "zerolinecolor": "white"
           }
          },
          "shapedefaults": {
           "line": {
            "color": "#2a3f5f"
           }
          },
          "ternary": {
           "aaxis": {
            "gridcolor": "white",
            "linecolor": "white",
            "ticks": ""
           },
           "baxis": {
            "gridcolor": "white",
            "linecolor": "white",
            "ticks": ""
           },
           "bgcolor": "#E5ECF6",
           "caxis": {
            "gridcolor": "white",
            "linecolor": "white",
            "ticks": ""
           }
          },
          "title": {
           "x": 0.05
          },
          "xaxis": {
           "automargin": true,
           "gridcolor": "white",
           "linecolor": "white",
           "ticks": "",
           "title": {
            "standoff": 15
           },
           "zerolinecolor": "white",
           "zerolinewidth": 2
          },
          "yaxis": {
           "automargin": true,
           "gridcolor": "white",
           "linecolor": "white",
           "ticks": "",
           "title": {
            "standoff": 15
           },
           "zerolinecolor": "white",
           "zerolinewidth": 2
          }
         }
        },
        "title": {
         "text": "Nr of glia+ nuclei by Tissue Location - cellpdia30_sigma1_dilrad4_dnad_obj_seg_v2_gliaero6_gliathr20_dnadero2"
        },
        "xaxis": {
         "anchor": "y",
         "domain": [
          0,
          1
         ],
         "title": {
          "text": "tissue_location"
         }
        },
        "yaxis": {
         "anchor": "x",
         "domain": [
          0,
          1
         ],
         "title": {
          "text": "nr_glia_+_nuclei"
         }
        }
       }
      }
     },
     "metadata": {},
     "output_type": "display_data"
    }
   ],
   "source": [
    "# Create the plot\n",
    "fig = px.scatter(df, x='tissue_location', y='nr_glia_+_nuclei',\n",
    "                 hover_data=['staining_id','index'], title=f\"Nr of glia+ nuclei by Tissue Location - {title}\")\n",
    "\n",
    "# Show the plot\n",
    "fig.show()"
   ]
  },
  {
   "cell_type": "code",
   "execution_count": 9,
   "metadata": {},
   "outputs": [
    {
     "data": {
      "application/vnd.plotly.v1+json": {
       "config": {
        "plotlyServerURL": "https://plot.ly"
       },
       "data": [
        {
         "customdata": [
          [
           16,
           0
          ],
          [
           16,
           1
          ],
          [
           16,
           2
          ],
          [
           16,
           3
          ],
          [
           16,
           4
          ],
          [
           16,
           5
          ],
          [
           17,
           6
          ],
          [
           17,
           7
          ],
          [
           17,
           8
          ],
          [
           17,
           9
          ],
          [
           17,
           10
          ],
          [
           17,
           11
          ],
          [
           18,
           12
          ],
          [
           18,
           13
          ],
          [
           18,
           14
          ],
          [
           18,
           15
          ],
          [
           18,
           16
          ],
          [
           18,
           17
          ],
          [
           19,
           18
          ],
          [
           19,
           19
          ],
          [
           19,
           20
          ],
          [
           19,
           21
          ],
          [
           19,
           22
          ],
          [
           19,
           23
          ],
          [
           20,
           24
          ],
          [
           20,
           25
          ],
          [
           20,
           26
          ],
          [
           20,
           27
          ],
          [
           20,
           28
          ],
          [
           20,
           29
          ],
          [
           21,
           30
          ],
          [
           21,
           31
          ],
          [
           21,
           32
          ],
          [
           21,
           33
          ],
          [
           21,
           34
          ],
          [
           21,
           35
          ],
          [
           22,
           36
          ],
          [
           22,
           37
          ],
          [
           22,
           38
          ],
          [
           22,
           39
          ],
          [
           22,
           40
          ],
          [
           22,
           41
          ],
          [
           23,
           42
          ],
          [
           23,
           43
          ],
          [
           23,
           44
          ],
          [
           23,
           45
          ],
          [
           23,
           46
          ],
          [
           23,
           47
          ],
          [
           24,
           48
          ],
          [
           24,
           49
          ],
          [
           24,
           50
          ],
          [
           24,
           51
          ],
          [
           24,
           52
          ],
          [
           24,
           53
          ],
          [
           25,
           54
          ],
          [
           25,
           55
          ],
          [
           25,
           56
          ],
          [
           25,
           57
          ],
          [
           25,
           58
          ],
          [
           25,
           59
          ],
          [
           26,
           60
          ],
          [
           26,
           61
          ],
          [
           26,
           62
          ],
          [
           26,
           63
          ],
          [
           26,
           64
          ],
          [
           26,
           65
          ],
          [
           27,
           66
          ],
          [
           28,
           67
          ],
          [
           28,
           68
          ],
          [
           28,
           69
          ],
          [
           28,
           70
          ],
          [
           28,
           71
          ],
          [
           28,
           72
          ],
          [
           29,
           73
          ],
          [
           29,
           74
          ],
          [
           29,
           75
          ],
          [
           29,
           76
          ],
          [
           29,
           77
          ],
          [
           29,
           78
          ],
          [
           30,
           79
          ],
          [
           30,
           80
          ],
          [
           30,
           81
          ],
          [
           30,
           82
          ],
          [
           30,
           83
          ],
          [
           30,
           84
          ],
          [
           31,
           85
          ],
          [
           31,
           86
          ],
          [
           31,
           87
          ],
          [
           31,
           88
          ],
          [
           31,
           89
          ],
          [
           31,
           90
          ],
          [
           32,
           91
          ],
          [
           32,
           92
          ],
          [
           32,
           93
          ],
          [
           32,
           94
          ],
          [
           32,
           95
          ],
          [
           32,
           96
          ],
          [
           33,
           97
          ],
          [
           33,
           98
          ],
          [
           33,
           99
          ],
          [
           33,
           100
          ],
          [
           33,
           101
          ],
          [
           33,
           102
          ],
          [
           34,
           103
          ],
          [
           34,
           104
          ],
          [
           34,
           105
          ],
          [
           34,
           106
          ],
          [
           34,
           107
          ],
          [
           34,
           108
          ],
          [
           35,
           109
          ],
          [
           35,
           110
          ],
          [
           35,
           111
          ],
          [
           35,
           112
          ],
          [
           35,
           113
          ],
          [
           35,
           114
          ],
          [
           36,
           115
          ],
          [
           36,
           116
          ],
          [
           36,
           117
          ],
          [
           36,
           118
          ],
          [
           36,
           119
          ],
          [
           36,
           120
          ],
          [
           37,
           121
          ],
          [
           37,
           122
          ],
          [
           37,
           123
          ],
          [
           37,
           124
          ],
          [
           37,
           125
          ],
          [
           37,
           126
          ],
          [
           38,
           127
          ],
          [
           39,
           128
          ],
          [
           39,
           129
          ],
          [
           39,
           130
          ],
          [
           39,
           131
          ],
          [
           39,
           132
          ],
          [
           39,
           133
          ],
          [
           40,
           134
          ],
          [
           40,
           135
          ],
          [
           40,
           136
          ],
          [
           40,
           137
          ],
          [
           40,
           138
          ],
          [
           40,
           139
          ],
          [
           41,
           140
          ],
          [
           41,
           141
          ],
          [
           41,
           142
          ],
          [
           41,
           143
          ],
          [
           41,
           144
          ],
          [
           41,
           145
          ],
          [
           42,
           146
          ],
          [
           42,
           147
          ],
          [
           42,
           148
          ],
          [
           42,
           149
          ],
          [
           42,
           150
          ],
          [
           42,
           151
          ],
          [
           43,
           152
          ],
          [
           43,
           153
          ],
          [
           43,
           154
          ],
          [
           43,
           155
          ],
          [
           43,
           156
          ],
          [
           43,
           157
          ],
          [
           44,
           158
          ],
          [
           44,
           159
          ],
          [
           44,
           160
          ],
          [
           44,
           161
          ],
          [
           45,
           162
          ],
          [
           45,
           163
          ],
          [
           45,
           164
          ],
          [
           45,
           165
          ],
          [
           45,
           166
          ],
          [
           45,
           167
          ],
          [
           46,
           168
          ],
          [
           46,
           169
          ],
          [
           46,
           170
          ],
          [
           46,
           171
          ],
          [
           46,
           172
          ],
          [
           46,
           173
          ],
          [
           47,
           174
          ],
          [
           47,
           175
          ],
          [
           47,
           176
          ],
          [
           47,
           177
          ],
          [
           47,
           178
          ],
          [
           47,
           179
          ],
          [
           48,
           180
          ],
          [
           48,
           181
          ],
          [
           48,
           182
          ],
          [
           48,
           183
          ],
          [
           48,
           184
          ],
          [
           48,
           185
          ],
          [
           49,
           186
          ],
          [
           49,
           187
          ],
          [
           49,
           188
          ],
          [
           49,
           189
          ],
          [
           49,
           190
          ],
          [
           49,
           191
          ],
          [
           50,
           192
          ],
          [
           50,
           193
          ],
          [
           50,
           194
          ],
          [
           50,
           195
          ],
          [
           50,
           196
          ],
          [
           50,
           197
          ],
          [
           51,
           198
          ],
          [
           51,
           199
          ],
          [
           51,
           200
          ],
          [
           51,
           201
          ],
          [
           51,
           202
          ],
          [
           51,
           203
          ],
          [
           52,
           204
          ],
          [
           52,
           205
          ],
          [
           52,
           206
          ],
          [
           52,
           207
          ],
          [
           52,
           208
          ],
          [
           52,
           209
          ],
          [
           53,
           210
          ],
          [
           53,
           211
          ],
          [
           53,
           212
          ],
          [
           53,
           213
          ],
          [
           53,
           214
          ],
          [
           53,
           215
          ],
          [
           54,
           216
          ],
          [
           54,
           217
          ],
          [
           54,
           218
          ],
          [
           54,
           219
          ],
          [
           54,
           220
          ],
          [
           54,
           221
          ],
          [
           55,
           222
          ],
          [
           55,
           223
          ],
          [
           55,
           224
          ],
          [
           55,
           225
          ],
          [
           55,
           226
          ],
          [
           55,
           227
          ],
          [
           56,
           228
          ],
          [
           56,
           229
          ],
          [
           56,
           230
          ],
          [
           56,
           231
          ],
          [
           56,
           232
          ],
          [
           56,
           233
          ],
          [
           57,
           234
          ],
          [
           57,
           235
          ],
          [
           57,
           236
          ],
          [
           57,
           237
          ],
          [
           57,
           238
          ],
          [
           57,
           239
          ],
          [
           58,
           240
          ],
          [
           58,
           241
          ],
          [
           58,
           242
          ],
          [
           58,
           243
          ],
          [
           58,
           244
          ],
          [
           58,
           245
          ],
          [
           59,
           246
          ],
          [
           59,
           247
          ],
          [
           59,
           248
          ],
          [
           59,
           249
          ],
          [
           59,
           250
          ],
          [
           59,
           251
          ]
         ],
         "hovertemplate": "tissue_location=%{x}<br>nr_total_nuclei=%{y}<br>staining_id=%{customdata[0]}<br>index=%{customdata[1]}<extra></extra>",
         "legendgroup": "",
         "marker": {
          "color": "#636efa",
          "symbol": "circle"
         },
         "mode": "markers",
         "name": "",
         "orientation": "v",
         "showlegend": false,
         "type": "scatter",
         "x": [
          "CA1",
          "CA3",
          "CTX1",
          "CTX2",
          "CTX3",
          "DG",
          "CA1",
          "CA3",
          "CTX1",
          "CTX2",
          "CTX3",
          "DG",
          "CA1",
          "CA3",
          "CTX1",
          "CTX2",
          "CTX3",
          "DG",
          "CA1",
          "CA3",
          "CTX1",
          "CTX2",
          "CTX3",
          "DG",
          "CA1",
          "CA3",
          "CTX1",
          "CTX2",
          "CTX3",
          "DG",
          "CA1",
          "CA3",
          "CTX1",
          "CTX2",
          "CTX3",
          "DG",
          "CA1",
          "CA3",
          "CTX1",
          "CTX2",
          "CTX3",
          "DG",
          "CA1",
          "CA3",
          "CTX1",
          "CTX2",
          "CTX3",
          "DG",
          "CA1",
          "CA3",
          "CTX1",
          "CTX2",
          "CTX3",
          "DG",
          "CA1",
          "CA3",
          "CTX1",
          "CTX2",
          "CTX3",
          "DG",
          "CA1",
          "CA3",
          "CTX1",
          "CTX2",
          "CTX3",
          "DG",
          "DG",
          "CA1",
          "CA3",
          "CTX1",
          "CTX2",
          "CTX3",
          "DG",
          "CA1",
          "CA3",
          "CTX1",
          "CTX2",
          "CTX3",
          "DG",
          "CA1",
          "CA3",
          "CTX1",
          "CTX2",
          "CTX3",
          "DG",
          "CA1",
          "CA3",
          "CTX1",
          "CTX2",
          "CTX3",
          "DG",
          "CA1",
          "CA3",
          "CTX1",
          "CTX2",
          "CTX3",
          "DG",
          "CA1",
          "CA3",
          "CTX1",
          "CTX2",
          "CTX3",
          "DG",
          "CA1",
          "CA3",
          "CTX1",
          "CTX2",
          "CTX3",
          "DG",
          "CA1",
          "CA3",
          "CTX1",
          "CTX2",
          "CTX3",
          "DG",
          "CA1",
          "CA3",
          "CTX1",
          "CTX2",
          "CTX3",
          "DG",
          "CA1",
          "CA3",
          "CTX1",
          "CTX2",
          "CTX3",
          "DG",
          "DG",
          "CA1",
          "CA3",
          "CTX1",
          "CTX2",
          "CTX3",
          "DG",
          "CA1",
          "CA3",
          "CTX1",
          "CTX2",
          "CTX3",
          "DG",
          "CA1",
          "CA3",
          "CTX1",
          "CTX2",
          "CTX3",
          "DG",
          "CA1",
          "CA3",
          "CTX1",
          "CTX2",
          "CTX3",
          "DG",
          "CA1",
          "CA3",
          "CTX1",
          "CTX2",
          "CTX3",
          "DG",
          "CA1",
          "CA3",
          "CTX1",
          "DG",
          "CA1",
          "CA3",
          "CTX1",
          "CTX2",
          "CTX3",
          "DG",
          "CA1",
          "CA3",
          "CTX1",
          "CTX2",
          "CTX3",
          "DG",
          "CA1",
          "CA3",
          "CTX1",
          "CTX2",
          "CTX3",
          "DG",
          "CA1",
          "CA3",
          "CTX1",
          "CTX2",
          "CTX3",
          "DG",
          "CA1",
          "CA3",
          "CTX1",
          "CTX2",
          "CTX3",
          "DG",
          "CA1",
          "CA3",
          "CTX1",
          "CTX2",
          "CTX3",
          "DG",
          "CA1",
          "CA3",
          "CTX1",
          "CTX2",
          "CTX3",
          "DG",
          "CA1",
          "CA3",
          "CTX1",
          "CTX2",
          "CTX3",
          "DG",
          "CA1",
          "CA3",
          "CTX1",
          "CTX2",
          "CTX3",
          "DG",
          "CA1",
          "CA3",
          "CTX1",
          "CTX2",
          "CTX3",
          "DG",
          "CA1",
          "CA3",
          "CTX1",
          "CTX2",
          "CTX3",
          "DG",
          "CA1",
          "CA3",
          "CTX1",
          "CTX2",
          "CTX3",
          "DG",
          "CA1",
          "CA3",
          "CTX1",
          "CTX2",
          "CTX3",
          "DG",
          "CA1",
          "CA3",
          "CTX1",
          "CTX2",
          "CTX3",
          "DG",
          "CA1",
          "CA3",
          "CTX1",
          "CTX2",
          "CTX3",
          "DG"
         ],
         "xaxis": "x",
         "y": [
          232,
          192,
          272,
          265,
          242,
          453,
          196,
          183,
          261,
          303,
          180,
          524,
          144,
          108,
          225,
          257,
          171,
          350,
          68,
          72,
          212,
          89,
          122,
          129,
          155,
          114,
          198,
          158,
          93,
          371,
          141,
          107,
          201,
          225,
          194,
          408,
          174,
          139,
          243,
          264,
          168,
          395,
          136,
          113,
          191,
          240,
          148,
          429,
          178,
          115,
          180,
          260,
          190,
          267,
          151,
          137,
          133,
          192,
          185,
          415,
          140,
          64,
          110,
          119,
          101,
          355,
          218,
          85,
          67,
          104,
          207,
          197,
          356,
          149,
          119,
          199,
          197,
          168,
          384,
          142,
          102,
          234,
          263,
          199,
          366,
          167,
          183,
          192,
          239,
          146,
          319,
          185,
          135,
          290,
          237,
          178,
          414,
          158,
          183,
          224,
          196,
          159,
          426,
          187,
          263,
          293,
          263,
          208,
          330,
          190,
          178,
          247,
          267,
          203,
          426,
          165,
          99,
          207,
          219,
          173,
          339,
          182,
          146,
          228,
          261,
          173,
          361,
          104,
          97,
          90,
          167,
          190,
          151,
          242,
          146,
          88,
          155,
          156,
          185,
          311,
          151,
          100,
          163,
          186,
          140,
          364,
          145,
          103,
          168,
          155,
          143,
          388,
          149,
          202,
          222,
          207,
          208,
          344,
          138,
          99,
          237,
          227,
          167,
          163,
          231,
          222,
          207,
          404,
          169,
          141,
          265,
          287,
          241,
          321,
          209,
          172,
          351,
          283,
          222,
          342,
          120,
          92,
          229,
          266,
          226,
          386,
          164,
          122,
          160,
          191,
          139,
          284,
          150,
          124,
          253,
          238,
          191,
          506,
          144,
          116,
          146,
          220,
          181,
          371,
          132,
          98,
          123,
          174,
          194,
          357,
          180,
          163,
          265,
          200,
          138,
          280,
          130,
          128,
          193,
          171,
          168,
          317,
          129,
          95,
          131,
          144,
          85,
          401,
          157,
          132,
          178,
          242,
          188,
          407,
          185,
          168,
          267,
          267,
          194,
          351,
          121,
          113,
          141,
          191,
          192,
          310,
          169,
          100,
          198,
          146,
          135,
          341
         ],
         "yaxis": "y"
        }
       ],
       "layout": {
        "legend": {
         "tracegroupgap": 0
        },
        "template": {
         "data": {
          "bar": [
           {
            "error_x": {
             "color": "#2a3f5f"
            },
            "error_y": {
             "color": "#2a3f5f"
            },
            "marker": {
             "line": {
              "color": "#E5ECF6",
              "width": 0.5
             },
             "pattern": {
              "fillmode": "overlay",
              "size": 10,
              "solidity": 0.2
             }
            },
            "type": "bar"
           }
          ],
          "barpolar": [
           {
            "marker": {
             "line": {
              "color": "#E5ECF6",
              "width": 0.5
             },
             "pattern": {
              "fillmode": "overlay",
              "size": 10,
              "solidity": 0.2
             }
            },
            "type": "barpolar"
           }
          ],
          "carpet": [
           {
            "aaxis": {
             "endlinecolor": "#2a3f5f",
             "gridcolor": "white",
             "linecolor": "white",
             "minorgridcolor": "white",
             "startlinecolor": "#2a3f5f"
            },
            "baxis": {
             "endlinecolor": "#2a3f5f",
             "gridcolor": "white",
             "linecolor": "white",
             "minorgridcolor": "white",
             "startlinecolor": "#2a3f5f"
            },
            "type": "carpet"
           }
          ],
          "choropleth": [
           {
            "colorbar": {
             "outlinewidth": 0,
             "ticks": ""
            },
            "type": "choropleth"
           }
          ],
          "contour": [
           {
            "colorbar": {
             "outlinewidth": 0,
             "ticks": ""
            },
            "colorscale": [
             [
              0,
              "#0d0887"
             ],
             [
              0.1111111111111111,
              "#46039f"
             ],
             [
              0.2222222222222222,
              "#7201a8"
             ],
             [
              0.3333333333333333,
              "#9c179e"
             ],
             [
              0.4444444444444444,
              "#bd3786"
             ],
             [
              0.5555555555555556,
              "#d8576b"
             ],
             [
              0.6666666666666666,
              "#ed7953"
             ],
             [
              0.7777777777777778,
              "#fb9f3a"
             ],
             [
              0.8888888888888888,
              "#fdca26"
             ],
             [
              1,
              "#f0f921"
             ]
            ],
            "type": "contour"
           }
          ],
          "contourcarpet": [
           {
            "colorbar": {
             "outlinewidth": 0,
             "ticks": ""
            },
            "type": "contourcarpet"
           }
          ],
          "heatmap": [
           {
            "colorbar": {
             "outlinewidth": 0,
             "ticks": ""
            },
            "colorscale": [
             [
              0,
              "#0d0887"
             ],
             [
              0.1111111111111111,
              "#46039f"
             ],
             [
              0.2222222222222222,
              "#7201a8"
             ],
             [
              0.3333333333333333,
              "#9c179e"
             ],
             [
              0.4444444444444444,
              "#bd3786"
             ],
             [
              0.5555555555555556,
              "#d8576b"
             ],
             [
              0.6666666666666666,
              "#ed7953"
             ],
             [
              0.7777777777777778,
              "#fb9f3a"
             ],
             [
              0.8888888888888888,
              "#fdca26"
             ],
             [
              1,
              "#f0f921"
             ]
            ],
            "type": "heatmap"
           }
          ],
          "heatmapgl": [
           {
            "colorbar": {
             "outlinewidth": 0,
             "ticks": ""
            },
            "colorscale": [
             [
              0,
              "#0d0887"
             ],
             [
              0.1111111111111111,
              "#46039f"
             ],
             [
              0.2222222222222222,
              "#7201a8"
             ],
             [
              0.3333333333333333,
              "#9c179e"
             ],
             [
              0.4444444444444444,
              "#bd3786"
             ],
             [
              0.5555555555555556,
              "#d8576b"
             ],
             [
              0.6666666666666666,
              "#ed7953"
             ],
             [
              0.7777777777777778,
              "#fb9f3a"
             ],
             [
              0.8888888888888888,
              "#fdca26"
             ],
             [
              1,
              "#f0f921"
             ]
            ],
            "type": "heatmapgl"
           }
          ],
          "histogram": [
           {
            "marker": {
             "pattern": {
              "fillmode": "overlay",
              "size": 10,
              "solidity": 0.2
             }
            },
            "type": "histogram"
           }
          ],
          "histogram2d": [
           {
            "colorbar": {
             "outlinewidth": 0,
             "ticks": ""
            },
            "colorscale": [
             [
              0,
              "#0d0887"
             ],
             [
              0.1111111111111111,
              "#46039f"
             ],
             [
              0.2222222222222222,
              "#7201a8"
             ],
             [
              0.3333333333333333,
              "#9c179e"
             ],
             [
              0.4444444444444444,
              "#bd3786"
             ],
             [
              0.5555555555555556,
              "#d8576b"
             ],
             [
              0.6666666666666666,
              "#ed7953"
             ],
             [
              0.7777777777777778,
              "#fb9f3a"
             ],
             [
              0.8888888888888888,
              "#fdca26"
             ],
             [
              1,
              "#f0f921"
             ]
            ],
            "type": "histogram2d"
           }
          ],
          "histogram2dcontour": [
           {
            "colorbar": {
             "outlinewidth": 0,
             "ticks": ""
            },
            "colorscale": [
             [
              0,
              "#0d0887"
             ],
             [
              0.1111111111111111,
              "#46039f"
             ],
             [
              0.2222222222222222,
              "#7201a8"
             ],
             [
              0.3333333333333333,
              "#9c179e"
             ],
             [
              0.4444444444444444,
              "#bd3786"
             ],
             [
              0.5555555555555556,
              "#d8576b"
             ],
             [
              0.6666666666666666,
              "#ed7953"
             ],
             [
              0.7777777777777778,
              "#fb9f3a"
             ],
             [
              0.8888888888888888,
              "#fdca26"
             ],
             [
              1,
              "#f0f921"
             ]
            ],
            "type": "histogram2dcontour"
           }
          ],
          "mesh3d": [
           {
            "colorbar": {
             "outlinewidth": 0,
             "ticks": ""
            },
            "type": "mesh3d"
           }
          ],
          "parcoords": [
           {
            "line": {
             "colorbar": {
              "outlinewidth": 0,
              "ticks": ""
             }
            },
            "type": "parcoords"
           }
          ],
          "pie": [
           {
            "automargin": true,
            "type": "pie"
           }
          ],
          "scatter": [
           {
            "fillpattern": {
             "fillmode": "overlay",
             "size": 10,
             "solidity": 0.2
            },
            "type": "scatter"
           }
          ],
          "scatter3d": [
           {
            "line": {
             "colorbar": {
              "outlinewidth": 0,
              "ticks": ""
             }
            },
            "marker": {
             "colorbar": {
              "outlinewidth": 0,
              "ticks": ""
             }
            },
            "type": "scatter3d"
           }
          ],
          "scattercarpet": [
           {
            "marker": {
             "colorbar": {
              "outlinewidth": 0,
              "ticks": ""
             }
            },
            "type": "scattercarpet"
           }
          ],
          "scattergeo": [
           {
            "marker": {
             "colorbar": {
              "outlinewidth": 0,
              "ticks": ""
             }
            },
            "type": "scattergeo"
           }
          ],
          "scattergl": [
           {
            "marker": {
             "colorbar": {
              "outlinewidth": 0,
              "ticks": ""
             }
            },
            "type": "scattergl"
           }
          ],
          "scattermapbox": [
           {
            "marker": {
             "colorbar": {
              "outlinewidth": 0,
              "ticks": ""
             }
            },
            "type": "scattermapbox"
           }
          ],
          "scatterpolar": [
           {
            "marker": {
             "colorbar": {
              "outlinewidth": 0,
              "ticks": ""
             }
            },
            "type": "scatterpolar"
           }
          ],
          "scatterpolargl": [
           {
            "marker": {
             "colorbar": {
              "outlinewidth": 0,
              "ticks": ""
             }
            },
            "type": "scatterpolargl"
           }
          ],
          "scatterternary": [
           {
            "marker": {
             "colorbar": {
              "outlinewidth": 0,
              "ticks": ""
             }
            },
            "type": "scatterternary"
           }
          ],
          "surface": [
           {
            "colorbar": {
             "outlinewidth": 0,
             "ticks": ""
            },
            "colorscale": [
             [
              0,
              "#0d0887"
             ],
             [
              0.1111111111111111,
              "#46039f"
             ],
             [
              0.2222222222222222,
              "#7201a8"
             ],
             [
              0.3333333333333333,
              "#9c179e"
             ],
             [
              0.4444444444444444,
              "#bd3786"
             ],
             [
              0.5555555555555556,
              "#d8576b"
             ],
             [
              0.6666666666666666,
              "#ed7953"
             ],
             [
              0.7777777777777778,
              "#fb9f3a"
             ],
             [
              0.8888888888888888,
              "#fdca26"
             ],
             [
              1,
              "#f0f921"
             ]
            ],
            "type": "surface"
           }
          ],
          "table": [
           {
            "cells": {
             "fill": {
              "color": "#EBF0F8"
             },
             "line": {
              "color": "white"
             }
            },
            "header": {
             "fill": {
              "color": "#C8D4E3"
             },
             "line": {
              "color": "white"
             }
            },
            "type": "table"
           }
          ]
         },
         "layout": {
          "annotationdefaults": {
           "arrowcolor": "#2a3f5f",
           "arrowhead": 0,
           "arrowwidth": 1
          },
          "autotypenumbers": "strict",
          "coloraxis": {
           "colorbar": {
            "outlinewidth": 0,
            "ticks": ""
           }
          },
          "colorscale": {
           "diverging": [
            [
             0,
             "#8e0152"
            ],
            [
             0.1,
             "#c51b7d"
            ],
            [
             0.2,
             "#de77ae"
            ],
            [
             0.3,
             "#f1b6da"
            ],
            [
             0.4,
             "#fde0ef"
            ],
            [
             0.5,
             "#f7f7f7"
            ],
            [
             0.6,
             "#e6f5d0"
            ],
            [
             0.7,
             "#b8e186"
            ],
            [
             0.8,
             "#7fbc41"
            ],
            [
             0.9,
             "#4d9221"
            ],
            [
             1,
             "#276419"
            ]
           ],
           "sequential": [
            [
             0,
             "#0d0887"
            ],
            [
             0.1111111111111111,
             "#46039f"
            ],
            [
             0.2222222222222222,
             "#7201a8"
            ],
            [
             0.3333333333333333,
             "#9c179e"
            ],
            [
             0.4444444444444444,
             "#bd3786"
            ],
            [
             0.5555555555555556,
             "#d8576b"
            ],
            [
             0.6666666666666666,
             "#ed7953"
            ],
            [
             0.7777777777777778,
             "#fb9f3a"
            ],
            [
             0.8888888888888888,
             "#fdca26"
            ],
            [
             1,
             "#f0f921"
            ]
           ],
           "sequentialminus": [
            [
             0,
             "#0d0887"
            ],
            [
             0.1111111111111111,
             "#46039f"
            ],
            [
             0.2222222222222222,
             "#7201a8"
            ],
            [
             0.3333333333333333,
             "#9c179e"
            ],
            [
             0.4444444444444444,
             "#bd3786"
            ],
            [
             0.5555555555555556,
             "#d8576b"
            ],
            [
             0.6666666666666666,
             "#ed7953"
            ],
            [
             0.7777777777777778,
             "#fb9f3a"
            ],
            [
             0.8888888888888888,
             "#fdca26"
            ],
            [
             1,
             "#f0f921"
            ]
           ]
          },
          "colorway": [
           "#636efa",
           "#EF553B",
           "#00cc96",
           "#ab63fa",
           "#FFA15A",
           "#19d3f3",
           "#FF6692",
           "#B6E880",
           "#FF97FF",
           "#FECB52"
          ],
          "font": {
           "color": "#2a3f5f"
          },
          "geo": {
           "bgcolor": "white",
           "lakecolor": "white",
           "landcolor": "#E5ECF6",
           "showlakes": true,
           "showland": true,
           "subunitcolor": "white"
          },
          "hoverlabel": {
           "align": "left"
          },
          "hovermode": "closest",
          "mapbox": {
           "style": "light"
          },
          "paper_bgcolor": "white",
          "plot_bgcolor": "#E5ECF6",
          "polar": {
           "angularaxis": {
            "gridcolor": "white",
            "linecolor": "white",
            "ticks": ""
           },
           "bgcolor": "#E5ECF6",
           "radialaxis": {
            "gridcolor": "white",
            "linecolor": "white",
            "ticks": ""
           }
          },
          "scene": {
           "xaxis": {
            "backgroundcolor": "#E5ECF6",
            "gridcolor": "white",
            "gridwidth": 2,
            "linecolor": "white",
            "showbackground": true,
            "ticks": "",
            "zerolinecolor": "white"
           },
           "yaxis": {
            "backgroundcolor": "#E5ECF6",
            "gridcolor": "white",
            "gridwidth": 2,
            "linecolor": "white",
            "showbackground": true,
            "ticks": "",
            "zerolinecolor": "white"
           },
           "zaxis": {
            "backgroundcolor": "#E5ECF6",
            "gridcolor": "white",
            "gridwidth": 2,
            "linecolor": "white",
            "showbackground": true,
            "ticks": "",
            "zerolinecolor": "white"
           }
          },
          "shapedefaults": {
           "line": {
            "color": "#2a3f5f"
           }
          },
          "ternary": {
           "aaxis": {
            "gridcolor": "white",
            "linecolor": "white",
            "ticks": ""
           },
           "baxis": {
            "gridcolor": "white",
            "linecolor": "white",
            "ticks": ""
           },
           "bgcolor": "#E5ECF6",
           "caxis": {
            "gridcolor": "white",
            "linecolor": "white",
            "ticks": ""
           }
          },
          "title": {
           "x": 0.05
          },
          "xaxis": {
           "automargin": true,
           "gridcolor": "white",
           "linecolor": "white",
           "ticks": "",
           "title": {
            "standoff": 15
           },
           "zerolinecolor": "white",
           "zerolinewidth": 2
          },
          "yaxis": {
           "automargin": true,
           "gridcolor": "white",
           "linecolor": "white",
           "ticks": "",
           "title": {
            "standoff": 15
           },
           "zerolinecolor": "white",
           "zerolinewidth": 2
          }
         }
        },
        "title": {
         "text": "Nr of total nuclei by Tissue Location - cellpdia30_sigma1_dilrad4_dnad_obj_seg_v2_gliaero6_gliathr20_dnadero2"
        },
        "xaxis": {
         "anchor": "y",
         "domain": [
          0,
          1
         ],
         "title": {
          "text": "tissue_location"
         }
        },
        "yaxis": {
         "anchor": "x",
         "domain": [
          0,
          1
         ],
         "title": {
          "text": "nr_total_nuclei"
         }
        }
       }
      }
     },
     "metadata": {},
     "output_type": "display_data"
    }
   ],
   "source": [
    "# Create the plot\n",
    "fig = px.scatter(df, x='tissue_location', y='nr_total_nuclei',\n",
    "                 hover_data=['staining_id','index'], title=f'Nr of total nuclei by Tissue Location - {title}')\n",
    "\n",
    "# Show the plot\n",
    "fig.show()"
   ]
  },
  {
   "cell_type": "code",
   "execution_count": 10,
   "metadata": {},
   "outputs": [
    {
     "data": {
      "application/vnd.plotly.v1+json": {
       "config": {
        "plotlyServerURL": "https://plot.ly"
       },
       "data": [
        {
         "customdata": [
          [
           "CA1",
           0
          ],
          [
           "CA3",
           1
          ],
          [
           "CTX1",
           2
          ],
          [
           "CTX2",
           3
          ],
          [
           "CTX3",
           4
          ],
          [
           "DG",
           5
          ],
          [
           "CA1",
           6
          ],
          [
           "CA3",
           7
          ],
          [
           "CTX1",
           8
          ],
          [
           "CTX2",
           9
          ],
          [
           "CTX3",
           10
          ],
          [
           "DG",
           11
          ],
          [
           "CA1",
           12
          ],
          [
           "CA3",
           13
          ],
          [
           "CTX1",
           14
          ],
          [
           "CTX2",
           15
          ],
          [
           "CTX3",
           16
          ],
          [
           "DG",
           17
          ],
          [
           "CA1",
           18
          ],
          [
           "CA3",
           19
          ],
          [
           "CTX1",
           20
          ],
          [
           "CTX2",
           21
          ],
          [
           "CTX3",
           22
          ],
          [
           "DG",
           23
          ],
          [
           "CA1",
           24
          ],
          [
           "CA3",
           25
          ],
          [
           "CTX1",
           26
          ],
          [
           "CTX2",
           27
          ],
          [
           "CTX3",
           28
          ],
          [
           "DG",
           29
          ],
          [
           "CA1",
           30
          ],
          [
           "CA3",
           31
          ],
          [
           "CTX1",
           32
          ],
          [
           "CTX2",
           33
          ],
          [
           "CTX3",
           34
          ],
          [
           "DG",
           35
          ],
          [
           "CA1",
           36
          ],
          [
           "CA3",
           37
          ],
          [
           "CTX1",
           38
          ],
          [
           "CTX2",
           39
          ],
          [
           "CTX3",
           40
          ],
          [
           "DG",
           41
          ],
          [
           "CA1",
           42
          ],
          [
           "CA3",
           43
          ],
          [
           "CTX1",
           44
          ],
          [
           "CTX2",
           45
          ],
          [
           "CTX3",
           46
          ],
          [
           "DG",
           47
          ],
          [
           "CA1",
           48
          ],
          [
           "CA3",
           49
          ],
          [
           "CTX1",
           50
          ],
          [
           "CTX2",
           51
          ],
          [
           "CTX3",
           52
          ],
          [
           "DG",
           53
          ],
          [
           "CA1",
           54
          ],
          [
           "CA3",
           55
          ],
          [
           "CTX1",
           56
          ],
          [
           "CTX2",
           57
          ],
          [
           "CTX3",
           58
          ],
          [
           "DG",
           59
          ],
          [
           "CA1",
           60
          ],
          [
           "CA3",
           61
          ],
          [
           "CTX1",
           62
          ],
          [
           "CTX2",
           63
          ],
          [
           "CTX3",
           64
          ],
          [
           "DG",
           65
          ],
          [
           "DG",
           66
          ],
          [
           "CA1",
           67
          ],
          [
           "CA3",
           68
          ],
          [
           "CTX1",
           69
          ],
          [
           "CTX2",
           70
          ],
          [
           "CTX3",
           71
          ],
          [
           "DG",
           72
          ],
          [
           "CA1",
           73
          ],
          [
           "CA3",
           74
          ],
          [
           "CTX1",
           75
          ],
          [
           "CTX2",
           76
          ],
          [
           "CTX3",
           77
          ],
          [
           "DG",
           78
          ],
          [
           "CA1",
           79
          ],
          [
           "CA3",
           80
          ],
          [
           "CTX1",
           81
          ],
          [
           "CTX2",
           82
          ],
          [
           "CTX3",
           83
          ],
          [
           "DG",
           84
          ],
          [
           "CA1",
           85
          ],
          [
           "CA3",
           86
          ],
          [
           "CTX1",
           87
          ],
          [
           "CTX2",
           88
          ],
          [
           "CTX3",
           89
          ],
          [
           "DG",
           90
          ],
          [
           "CA1",
           91
          ],
          [
           "CA3",
           92
          ],
          [
           "CTX1",
           93
          ],
          [
           "CTX2",
           94
          ],
          [
           "CTX3",
           95
          ],
          [
           "DG",
           96
          ],
          [
           "CA1",
           97
          ],
          [
           "CA3",
           98
          ],
          [
           "CTX1",
           99
          ],
          [
           "CTX2",
           100
          ],
          [
           "CTX3",
           101
          ],
          [
           "DG",
           102
          ],
          [
           "CA1",
           103
          ],
          [
           "CA3",
           104
          ],
          [
           "CTX1",
           105
          ],
          [
           "CTX2",
           106
          ],
          [
           "CTX3",
           107
          ],
          [
           "DG",
           108
          ],
          [
           "CA1",
           109
          ],
          [
           "CA3",
           110
          ],
          [
           "CTX1",
           111
          ],
          [
           "CTX2",
           112
          ],
          [
           "CTX3",
           113
          ],
          [
           "DG",
           114
          ],
          [
           "CA1",
           115
          ],
          [
           "CA3",
           116
          ],
          [
           "CTX1",
           117
          ],
          [
           "CTX2",
           118
          ],
          [
           "CTX3",
           119
          ],
          [
           "DG",
           120
          ],
          [
           "CA1",
           121
          ],
          [
           "CA3",
           122
          ],
          [
           "CTX1",
           123
          ],
          [
           "CTX2",
           124
          ],
          [
           "CTX3",
           125
          ],
          [
           "DG",
           126
          ],
          [
           "DG",
           127
          ],
          [
           "CA1",
           128
          ],
          [
           "CA3",
           129
          ],
          [
           "CTX1",
           130
          ],
          [
           "CTX2",
           131
          ],
          [
           "CTX3",
           132
          ],
          [
           "DG",
           133
          ],
          [
           "CA1",
           134
          ],
          [
           "CA3",
           135
          ],
          [
           "CTX1",
           136
          ],
          [
           "CTX2",
           137
          ],
          [
           "CTX3",
           138
          ],
          [
           "DG",
           139
          ],
          [
           "CA1",
           140
          ],
          [
           "CA3",
           141
          ],
          [
           "CTX1",
           142
          ],
          [
           "CTX2",
           143
          ],
          [
           "CTX3",
           144
          ],
          [
           "DG",
           145
          ],
          [
           "CA1",
           146
          ],
          [
           "CA3",
           147
          ],
          [
           "CTX1",
           148
          ],
          [
           "CTX2",
           149
          ],
          [
           "CTX3",
           150
          ],
          [
           "DG",
           151
          ],
          [
           "CA1",
           152
          ],
          [
           "CA3",
           153
          ],
          [
           "CTX1",
           154
          ],
          [
           "CTX2",
           155
          ],
          [
           "CTX3",
           156
          ],
          [
           "DG",
           157
          ],
          [
           "CA1",
           158
          ],
          [
           "CA3",
           159
          ],
          [
           "CTX1",
           160
          ],
          [
           "DG",
           161
          ],
          [
           "CA1",
           162
          ],
          [
           "CA3",
           163
          ],
          [
           "CTX1",
           164
          ],
          [
           "CTX2",
           165
          ],
          [
           "CTX3",
           166
          ],
          [
           "DG",
           167
          ],
          [
           "CA1",
           168
          ],
          [
           "CA3",
           169
          ],
          [
           "CTX1",
           170
          ],
          [
           "CTX2",
           171
          ],
          [
           "CTX3",
           172
          ],
          [
           "DG",
           173
          ],
          [
           "CA1",
           174
          ],
          [
           "CA3",
           175
          ],
          [
           "CTX1",
           176
          ],
          [
           "CTX2",
           177
          ],
          [
           "CTX3",
           178
          ],
          [
           "DG",
           179
          ],
          [
           "CA1",
           180
          ],
          [
           "CA3",
           181
          ],
          [
           "CTX1",
           182
          ],
          [
           "CTX2",
           183
          ],
          [
           "CTX3",
           184
          ],
          [
           "DG",
           185
          ],
          [
           "CA1",
           186
          ],
          [
           "CA3",
           187
          ],
          [
           "CTX1",
           188
          ],
          [
           "CTX2",
           189
          ],
          [
           "CTX3",
           190
          ],
          [
           "DG",
           191
          ],
          [
           "CA1",
           192
          ],
          [
           "CA3",
           193
          ],
          [
           "CTX1",
           194
          ],
          [
           "CTX2",
           195
          ],
          [
           "CTX3",
           196
          ],
          [
           "DG",
           197
          ],
          [
           "CA1",
           198
          ],
          [
           "CA3",
           199
          ],
          [
           "CTX1",
           200
          ],
          [
           "CTX2",
           201
          ],
          [
           "CTX3",
           202
          ],
          [
           "DG",
           203
          ],
          [
           "CA1",
           204
          ],
          [
           "CA3",
           205
          ],
          [
           "CTX1",
           206
          ],
          [
           "CTX2",
           207
          ],
          [
           "CTX3",
           208
          ],
          [
           "DG",
           209
          ],
          [
           "CA1",
           210
          ],
          [
           "CA3",
           211
          ],
          [
           "CTX1",
           212
          ],
          [
           "CTX2",
           213
          ],
          [
           "CTX3",
           214
          ],
          [
           "DG",
           215
          ],
          [
           "CA1",
           216
          ],
          [
           "CA3",
           217
          ],
          [
           "CTX1",
           218
          ],
          [
           "CTX2",
           219
          ],
          [
           "CTX3",
           220
          ],
          [
           "DG",
           221
          ],
          [
           "CA1",
           222
          ],
          [
           "CA3",
           223
          ],
          [
           "CTX1",
           224
          ],
          [
           "CTX2",
           225
          ],
          [
           "CTX3",
           226
          ],
          [
           "DG",
           227
          ],
          [
           "CA1",
           228
          ],
          [
           "CA3",
           229
          ],
          [
           "CTX1",
           230
          ],
          [
           "CTX2",
           231
          ],
          [
           "CTX3",
           232
          ],
          [
           "DG",
           233
          ],
          [
           "CA1",
           234
          ],
          [
           "CA3",
           235
          ],
          [
           "CTX1",
           236
          ],
          [
           "CTX2",
           237
          ],
          [
           "CTX3",
           238
          ],
          [
           "DG",
           239
          ],
          [
           "CA1",
           240
          ],
          [
           "CA3",
           241
          ],
          [
           "CTX1",
           242
          ],
          [
           "CTX2",
           243
          ],
          [
           "CTX3",
           244
          ],
          [
           "DG",
           245
          ],
          [
           "CA1",
           246
          ],
          [
           "CA3",
           247
          ],
          [
           "CTX1",
           248
          ],
          [
           "CTX2",
           249
          ],
          [
           "CTX3",
           250
          ],
          [
           "DG",
           251
          ]
         ],
         "hovertemplate": "staining_id=%{x}<br>nr_glia_+_nuclei=%{y}<br>tissue_location=%{customdata[0]}<br>index=%{customdata[1]}<extra></extra>",
         "legendgroup": "",
         "marker": {
          "color": "#636efa",
          "symbol": "circle"
         },
         "mode": "markers",
         "name": "",
         "orientation": "v",
         "showlegend": false,
         "type": "scatter",
         "x": [
          16,
          16,
          16,
          16,
          16,
          16,
          17,
          17,
          17,
          17,
          17,
          17,
          18,
          18,
          18,
          18,
          18,
          18,
          19,
          19,
          19,
          19,
          19,
          19,
          20,
          20,
          20,
          20,
          20,
          20,
          21,
          21,
          21,
          21,
          21,
          21,
          22,
          22,
          22,
          22,
          22,
          22,
          23,
          23,
          23,
          23,
          23,
          23,
          24,
          24,
          24,
          24,
          24,
          24,
          25,
          25,
          25,
          25,
          25,
          25,
          26,
          26,
          26,
          26,
          26,
          26,
          27,
          28,
          28,
          28,
          28,
          28,
          28,
          29,
          29,
          29,
          29,
          29,
          29,
          30,
          30,
          30,
          30,
          30,
          30,
          31,
          31,
          31,
          31,
          31,
          31,
          32,
          32,
          32,
          32,
          32,
          32,
          33,
          33,
          33,
          33,
          33,
          33,
          34,
          34,
          34,
          34,
          34,
          34,
          35,
          35,
          35,
          35,
          35,
          35,
          36,
          36,
          36,
          36,
          36,
          36,
          37,
          37,
          37,
          37,
          37,
          37,
          38,
          39,
          39,
          39,
          39,
          39,
          39,
          40,
          40,
          40,
          40,
          40,
          40,
          41,
          41,
          41,
          41,
          41,
          41,
          42,
          42,
          42,
          42,
          42,
          42,
          43,
          43,
          43,
          43,
          43,
          43,
          44,
          44,
          44,
          44,
          45,
          45,
          45,
          45,
          45,
          45,
          46,
          46,
          46,
          46,
          46,
          46,
          47,
          47,
          47,
          47,
          47,
          47,
          48,
          48,
          48,
          48,
          48,
          48,
          49,
          49,
          49,
          49,
          49,
          49,
          50,
          50,
          50,
          50,
          50,
          50,
          51,
          51,
          51,
          51,
          51,
          51,
          52,
          52,
          52,
          52,
          52,
          52,
          53,
          53,
          53,
          53,
          53,
          53,
          54,
          54,
          54,
          54,
          54,
          54,
          55,
          55,
          55,
          55,
          55,
          55,
          56,
          56,
          56,
          56,
          56,
          56,
          57,
          57,
          57,
          57,
          57,
          57,
          58,
          58,
          58,
          58,
          58,
          58,
          59,
          59,
          59,
          59,
          59,
          59
         ],
         "xaxis": "x",
         "y": [
          189,
          185,
          42,
          241,
          104,
          439,
          11,
          19,
          18,
          53,
          27,
          149,
          14,
          12,
          19,
          21,
          17,
          104,
          66,
          70,
          211,
          71,
          103,
          128,
          6,
          5,
          5,
          22,
          3,
          7,
          11,
          4,
          17,
          15,
          23,
          15,
          19,
          6,
          10,
          17,
          8,
          17,
          8,
          8,
          25,
          5,
          11,
          16,
          6,
          4,
          19,
          17,
          13,
          8,
          8,
          9,
          25,
          20,
          9,
          16,
          7,
          5,
          8,
          15,
          11,
          12,
          4,
          2,
          1,
          3,
          13,
          11,
          17,
          10,
          5,
          16,
          26,
          16,
          6,
          6,
          4,
          24,
          22,
          13,
          5,
          11,
          1,
          11,
          17,
          13,
          14,
          18,
          17,
          30,
          38,
          27,
          60,
          5,
          7,
          10,
          15,
          9,
          8,
          11,
          5,
          22,
          27,
          27,
          19,
          10,
          30,
          18,
          111,
          80,
          133,
          8,
          6,
          16,
          30,
          10,
          5,
          7,
          11,
          14,
          25,
          29,
          7,
          4,
          6,
          5,
          2,
          5,
          2,
          8,
          4,
          8,
          20,
          11,
          24,
          5,
          4,
          4,
          0,
          3,
          5,
          6,
          3,
          6,
          6,
          15,
          10,
          4,
          11,
          7,
          28,
          20,
          12,
          39,
          30,
          18,
          54,
          79,
          16,
          3,
          12,
          25,
          17,
          22,
          66,
          36,
          79,
          104,
          68,
          124,
          17,
          17,
          35,
          76,
          37,
          16,
          7,
          4,
          35,
          24,
          20,
          13,
          18,
          15,
          16,
          18,
          17,
          28,
          13,
          9,
          24,
          14,
          31,
          15,
          15,
          8,
          18,
          24,
          26,
          21,
          5,
          7,
          23,
          31,
          26,
          16,
          6,
          6,
          24,
          26,
          13,
          18,
          5,
          3,
          10,
          10,
          20,
          13,
          7,
          3,
          8,
          9,
          6,
          11,
          13,
          12,
          21,
          23,
          36,
          16,
          11,
          8,
          14,
          12,
          11,
          28,
          4,
          6,
          17,
          16,
          6,
          2,
          5,
          5,
          9,
          20,
          23,
          6
         ],
         "yaxis": "y"
        }
       ],
       "layout": {
        "legend": {
         "tracegroupgap": 0
        },
        "template": {
         "data": {
          "bar": [
           {
            "error_x": {
             "color": "#2a3f5f"
            },
            "error_y": {
             "color": "#2a3f5f"
            },
            "marker": {
             "line": {
              "color": "#E5ECF6",
              "width": 0.5
             },
             "pattern": {
              "fillmode": "overlay",
              "size": 10,
              "solidity": 0.2
             }
            },
            "type": "bar"
           }
          ],
          "barpolar": [
           {
            "marker": {
             "line": {
              "color": "#E5ECF6",
              "width": 0.5
             },
             "pattern": {
              "fillmode": "overlay",
              "size": 10,
              "solidity": 0.2
             }
            },
            "type": "barpolar"
           }
          ],
          "carpet": [
           {
            "aaxis": {
             "endlinecolor": "#2a3f5f",
             "gridcolor": "white",
             "linecolor": "white",
             "minorgridcolor": "white",
             "startlinecolor": "#2a3f5f"
            },
            "baxis": {
             "endlinecolor": "#2a3f5f",
             "gridcolor": "white",
             "linecolor": "white",
             "minorgridcolor": "white",
             "startlinecolor": "#2a3f5f"
            },
            "type": "carpet"
           }
          ],
          "choropleth": [
           {
            "colorbar": {
             "outlinewidth": 0,
             "ticks": ""
            },
            "type": "choropleth"
           }
          ],
          "contour": [
           {
            "colorbar": {
             "outlinewidth": 0,
             "ticks": ""
            },
            "colorscale": [
             [
              0,
              "#0d0887"
             ],
             [
              0.1111111111111111,
              "#46039f"
             ],
             [
              0.2222222222222222,
              "#7201a8"
             ],
             [
              0.3333333333333333,
              "#9c179e"
             ],
             [
              0.4444444444444444,
              "#bd3786"
             ],
             [
              0.5555555555555556,
              "#d8576b"
             ],
             [
              0.6666666666666666,
              "#ed7953"
             ],
             [
              0.7777777777777778,
              "#fb9f3a"
             ],
             [
              0.8888888888888888,
              "#fdca26"
             ],
             [
              1,
              "#f0f921"
             ]
            ],
            "type": "contour"
           }
          ],
          "contourcarpet": [
           {
            "colorbar": {
             "outlinewidth": 0,
             "ticks": ""
            },
            "type": "contourcarpet"
           }
          ],
          "heatmap": [
           {
            "colorbar": {
             "outlinewidth": 0,
             "ticks": ""
            },
            "colorscale": [
             [
              0,
              "#0d0887"
             ],
             [
              0.1111111111111111,
              "#46039f"
             ],
             [
              0.2222222222222222,
              "#7201a8"
             ],
             [
              0.3333333333333333,
              "#9c179e"
             ],
             [
              0.4444444444444444,
              "#bd3786"
             ],
             [
              0.5555555555555556,
              "#d8576b"
             ],
             [
              0.6666666666666666,
              "#ed7953"
             ],
             [
              0.7777777777777778,
              "#fb9f3a"
             ],
             [
              0.8888888888888888,
              "#fdca26"
             ],
             [
              1,
              "#f0f921"
             ]
            ],
            "type": "heatmap"
           }
          ],
          "heatmapgl": [
           {
            "colorbar": {
             "outlinewidth": 0,
             "ticks": ""
            },
            "colorscale": [
             [
              0,
              "#0d0887"
             ],
             [
              0.1111111111111111,
              "#46039f"
             ],
             [
              0.2222222222222222,
              "#7201a8"
             ],
             [
              0.3333333333333333,
              "#9c179e"
             ],
             [
              0.4444444444444444,
              "#bd3786"
             ],
             [
              0.5555555555555556,
              "#d8576b"
             ],
             [
              0.6666666666666666,
              "#ed7953"
             ],
             [
              0.7777777777777778,
              "#fb9f3a"
             ],
             [
              0.8888888888888888,
              "#fdca26"
             ],
             [
              1,
              "#f0f921"
             ]
            ],
            "type": "heatmapgl"
           }
          ],
          "histogram": [
           {
            "marker": {
             "pattern": {
              "fillmode": "overlay",
              "size": 10,
              "solidity": 0.2
             }
            },
            "type": "histogram"
           }
          ],
          "histogram2d": [
           {
            "colorbar": {
             "outlinewidth": 0,
             "ticks": ""
            },
            "colorscale": [
             [
              0,
              "#0d0887"
             ],
             [
              0.1111111111111111,
              "#46039f"
             ],
             [
              0.2222222222222222,
              "#7201a8"
             ],
             [
              0.3333333333333333,
              "#9c179e"
             ],
             [
              0.4444444444444444,
              "#bd3786"
             ],
             [
              0.5555555555555556,
              "#d8576b"
             ],
             [
              0.6666666666666666,
              "#ed7953"
             ],
             [
              0.7777777777777778,
              "#fb9f3a"
             ],
             [
              0.8888888888888888,
              "#fdca26"
             ],
             [
              1,
              "#f0f921"
             ]
            ],
            "type": "histogram2d"
           }
          ],
          "histogram2dcontour": [
           {
            "colorbar": {
             "outlinewidth": 0,
             "ticks": ""
            },
            "colorscale": [
             [
              0,
              "#0d0887"
             ],
             [
              0.1111111111111111,
              "#46039f"
             ],
             [
              0.2222222222222222,
              "#7201a8"
             ],
             [
              0.3333333333333333,
              "#9c179e"
             ],
             [
              0.4444444444444444,
              "#bd3786"
             ],
             [
              0.5555555555555556,
              "#d8576b"
             ],
             [
              0.6666666666666666,
              "#ed7953"
             ],
             [
              0.7777777777777778,
              "#fb9f3a"
             ],
             [
              0.8888888888888888,
              "#fdca26"
             ],
             [
              1,
              "#f0f921"
             ]
            ],
            "type": "histogram2dcontour"
           }
          ],
          "mesh3d": [
           {
            "colorbar": {
             "outlinewidth": 0,
             "ticks": ""
            },
            "type": "mesh3d"
           }
          ],
          "parcoords": [
           {
            "line": {
             "colorbar": {
              "outlinewidth": 0,
              "ticks": ""
             }
            },
            "type": "parcoords"
           }
          ],
          "pie": [
           {
            "automargin": true,
            "type": "pie"
           }
          ],
          "scatter": [
           {
            "fillpattern": {
             "fillmode": "overlay",
             "size": 10,
             "solidity": 0.2
            },
            "type": "scatter"
           }
          ],
          "scatter3d": [
           {
            "line": {
             "colorbar": {
              "outlinewidth": 0,
              "ticks": ""
             }
            },
            "marker": {
             "colorbar": {
              "outlinewidth": 0,
              "ticks": ""
             }
            },
            "type": "scatter3d"
           }
          ],
          "scattercarpet": [
           {
            "marker": {
             "colorbar": {
              "outlinewidth": 0,
              "ticks": ""
             }
            },
            "type": "scattercarpet"
           }
          ],
          "scattergeo": [
           {
            "marker": {
             "colorbar": {
              "outlinewidth": 0,
              "ticks": ""
             }
            },
            "type": "scattergeo"
           }
          ],
          "scattergl": [
           {
            "marker": {
             "colorbar": {
              "outlinewidth": 0,
              "ticks": ""
             }
            },
            "type": "scattergl"
           }
          ],
          "scattermapbox": [
           {
            "marker": {
             "colorbar": {
              "outlinewidth": 0,
              "ticks": ""
             }
            },
            "type": "scattermapbox"
           }
          ],
          "scatterpolar": [
           {
            "marker": {
             "colorbar": {
              "outlinewidth": 0,
              "ticks": ""
             }
            },
            "type": "scatterpolar"
           }
          ],
          "scatterpolargl": [
           {
            "marker": {
             "colorbar": {
              "outlinewidth": 0,
              "ticks": ""
             }
            },
            "type": "scatterpolargl"
           }
          ],
          "scatterternary": [
           {
            "marker": {
             "colorbar": {
              "outlinewidth": 0,
              "ticks": ""
             }
            },
            "type": "scatterternary"
           }
          ],
          "surface": [
           {
            "colorbar": {
             "outlinewidth": 0,
             "ticks": ""
            },
            "colorscale": [
             [
              0,
              "#0d0887"
             ],
             [
              0.1111111111111111,
              "#46039f"
             ],
             [
              0.2222222222222222,
              "#7201a8"
             ],
             [
              0.3333333333333333,
              "#9c179e"
             ],
             [
              0.4444444444444444,
              "#bd3786"
             ],
             [
              0.5555555555555556,
              "#d8576b"
             ],
             [
              0.6666666666666666,
              "#ed7953"
             ],
             [
              0.7777777777777778,
              "#fb9f3a"
             ],
             [
              0.8888888888888888,
              "#fdca26"
             ],
             [
              1,
              "#f0f921"
             ]
            ],
            "type": "surface"
           }
          ],
          "table": [
           {
            "cells": {
             "fill": {
              "color": "#EBF0F8"
             },
             "line": {
              "color": "white"
             }
            },
            "header": {
             "fill": {
              "color": "#C8D4E3"
             },
             "line": {
              "color": "white"
             }
            },
            "type": "table"
           }
          ]
         },
         "layout": {
          "annotationdefaults": {
           "arrowcolor": "#2a3f5f",
           "arrowhead": 0,
           "arrowwidth": 1
          },
          "autotypenumbers": "strict",
          "coloraxis": {
           "colorbar": {
            "outlinewidth": 0,
            "ticks": ""
           }
          },
          "colorscale": {
           "diverging": [
            [
             0,
             "#8e0152"
            ],
            [
             0.1,
             "#c51b7d"
            ],
            [
             0.2,
             "#de77ae"
            ],
            [
             0.3,
             "#f1b6da"
            ],
            [
             0.4,
             "#fde0ef"
            ],
            [
             0.5,
             "#f7f7f7"
            ],
            [
             0.6,
             "#e6f5d0"
            ],
            [
             0.7,
             "#b8e186"
            ],
            [
             0.8,
             "#7fbc41"
            ],
            [
             0.9,
             "#4d9221"
            ],
            [
             1,
             "#276419"
            ]
           ],
           "sequential": [
            [
             0,
             "#0d0887"
            ],
            [
             0.1111111111111111,
             "#46039f"
            ],
            [
             0.2222222222222222,
             "#7201a8"
            ],
            [
             0.3333333333333333,
             "#9c179e"
            ],
            [
             0.4444444444444444,
             "#bd3786"
            ],
            [
             0.5555555555555556,
             "#d8576b"
            ],
            [
             0.6666666666666666,
             "#ed7953"
            ],
            [
             0.7777777777777778,
             "#fb9f3a"
            ],
            [
             0.8888888888888888,
             "#fdca26"
            ],
            [
             1,
             "#f0f921"
            ]
           ],
           "sequentialminus": [
            [
             0,
             "#0d0887"
            ],
            [
             0.1111111111111111,
             "#46039f"
            ],
            [
             0.2222222222222222,
             "#7201a8"
            ],
            [
             0.3333333333333333,
             "#9c179e"
            ],
            [
             0.4444444444444444,
             "#bd3786"
            ],
            [
             0.5555555555555556,
             "#d8576b"
            ],
            [
             0.6666666666666666,
             "#ed7953"
            ],
            [
             0.7777777777777778,
             "#fb9f3a"
            ],
            [
             0.8888888888888888,
             "#fdca26"
            ],
            [
             1,
             "#f0f921"
            ]
           ]
          },
          "colorway": [
           "#636efa",
           "#EF553B",
           "#00cc96",
           "#ab63fa",
           "#FFA15A",
           "#19d3f3",
           "#FF6692",
           "#B6E880",
           "#FF97FF",
           "#FECB52"
          ],
          "font": {
           "color": "#2a3f5f"
          },
          "geo": {
           "bgcolor": "white",
           "lakecolor": "white",
           "landcolor": "#E5ECF6",
           "showlakes": true,
           "showland": true,
           "subunitcolor": "white"
          },
          "hoverlabel": {
           "align": "left"
          },
          "hovermode": "closest",
          "mapbox": {
           "style": "light"
          },
          "paper_bgcolor": "white",
          "plot_bgcolor": "#E5ECF6",
          "polar": {
           "angularaxis": {
            "gridcolor": "white",
            "linecolor": "white",
            "ticks": ""
           },
           "bgcolor": "#E5ECF6",
           "radialaxis": {
            "gridcolor": "white",
            "linecolor": "white",
            "ticks": ""
           }
          },
          "scene": {
           "xaxis": {
            "backgroundcolor": "#E5ECF6",
            "gridcolor": "white",
            "gridwidth": 2,
            "linecolor": "white",
            "showbackground": true,
            "ticks": "",
            "zerolinecolor": "white"
           },
           "yaxis": {
            "backgroundcolor": "#E5ECF6",
            "gridcolor": "white",
            "gridwidth": 2,
            "linecolor": "white",
            "showbackground": true,
            "ticks": "",
            "zerolinecolor": "white"
           },
           "zaxis": {
            "backgroundcolor": "#E5ECF6",
            "gridcolor": "white",
            "gridwidth": 2,
            "linecolor": "white",
            "showbackground": true,
            "ticks": "",
            "zerolinecolor": "white"
           }
          },
          "shapedefaults": {
           "line": {
            "color": "#2a3f5f"
           }
          },
          "ternary": {
           "aaxis": {
            "gridcolor": "white",
            "linecolor": "white",
            "ticks": ""
           },
           "baxis": {
            "gridcolor": "white",
            "linecolor": "white",
            "ticks": ""
           },
           "bgcolor": "#E5ECF6",
           "caxis": {
            "gridcolor": "white",
            "linecolor": "white",
            "ticks": ""
           }
          },
          "title": {
           "x": 0.05
          },
          "xaxis": {
           "automargin": true,
           "gridcolor": "white",
           "linecolor": "white",
           "ticks": "",
           "title": {
            "standoff": 15
           },
           "zerolinecolor": "white",
           "zerolinewidth": 2
          },
          "yaxis": {
           "automargin": true,
           "gridcolor": "white",
           "linecolor": "white",
           "ticks": "",
           "title": {
            "standoff": 15
           },
           "zerolinecolor": "white",
           "zerolinewidth": 2
          }
         }
        },
        "title": {
         "text": "Nr of glia+ nuclei by Sample - cellpdia30_sigma1_dilrad4_dnad_obj_seg_v2_gliaero6_gliathr20_dnadero2"
        },
        "xaxis": {
         "anchor": "y",
         "domain": [
          0,
          1
         ],
         "title": {
          "text": "staining_id"
         }
        },
        "yaxis": {
         "anchor": "x",
         "domain": [
          0,
          1
         ],
         "title": {
          "text": "nr_glia_+_nuclei"
         }
        }
       }
      }
     },
     "metadata": {},
     "output_type": "display_data"
    }
   ],
   "source": [
    "# Create the plot\n",
    "fig = px.scatter(df, x='staining_id', y='nr_glia_+_nuclei',\n",
    "                 hover_data=['tissue_location','index'], title=f'Nr of glia+ nuclei by Sample - {title}')\n",
    "\n",
    "# Show the plot\n",
    "fig.show()"
   ]
  },
  {
   "cell_type": "code",
   "execution_count": 11,
   "metadata": {},
   "outputs": [
    {
     "data": {
      "application/vnd.plotly.v1+json": {
       "config": {
        "plotlyServerURL": "https://plot.ly"
       },
       "data": [
        {
         "customdata": [
          [
           "CA1",
           0
          ],
          [
           "CA3",
           1
          ],
          [
           "CTX1",
           2
          ],
          [
           "CTX2",
           3
          ],
          [
           "CTX3",
           4
          ],
          [
           "DG",
           5
          ],
          [
           "CA1",
           6
          ],
          [
           "CA3",
           7
          ],
          [
           "CTX1",
           8
          ],
          [
           "CTX2",
           9
          ],
          [
           "CTX3",
           10
          ],
          [
           "DG",
           11
          ],
          [
           "CA1",
           12
          ],
          [
           "CA3",
           13
          ],
          [
           "CTX1",
           14
          ],
          [
           "CTX2",
           15
          ],
          [
           "CTX3",
           16
          ],
          [
           "DG",
           17
          ],
          [
           "CA1",
           18
          ],
          [
           "CA3",
           19
          ],
          [
           "CTX1",
           20
          ],
          [
           "CTX2",
           21
          ],
          [
           "CTX3",
           22
          ],
          [
           "DG",
           23
          ],
          [
           "CA1",
           24
          ],
          [
           "CA3",
           25
          ],
          [
           "CTX1",
           26
          ],
          [
           "CTX2",
           27
          ],
          [
           "CTX3",
           28
          ],
          [
           "DG",
           29
          ],
          [
           "CA1",
           30
          ],
          [
           "CA3",
           31
          ],
          [
           "CTX1",
           32
          ],
          [
           "CTX2",
           33
          ],
          [
           "CTX3",
           34
          ],
          [
           "DG",
           35
          ],
          [
           "CA1",
           36
          ],
          [
           "CA3",
           37
          ],
          [
           "CTX1",
           38
          ],
          [
           "CTX2",
           39
          ],
          [
           "CTX3",
           40
          ],
          [
           "DG",
           41
          ],
          [
           "CA1",
           42
          ],
          [
           "CA3",
           43
          ],
          [
           "CTX1",
           44
          ],
          [
           "CTX2",
           45
          ],
          [
           "CTX3",
           46
          ],
          [
           "DG",
           47
          ],
          [
           "CA1",
           48
          ],
          [
           "CA3",
           49
          ],
          [
           "CTX1",
           50
          ],
          [
           "CTX2",
           51
          ],
          [
           "CTX3",
           52
          ],
          [
           "DG",
           53
          ],
          [
           "CA1",
           54
          ],
          [
           "CA3",
           55
          ],
          [
           "CTX1",
           56
          ],
          [
           "CTX2",
           57
          ],
          [
           "CTX3",
           58
          ],
          [
           "DG",
           59
          ],
          [
           "CA1",
           60
          ],
          [
           "CA3",
           61
          ],
          [
           "CTX1",
           62
          ],
          [
           "CTX2",
           63
          ],
          [
           "CTX3",
           64
          ],
          [
           "DG",
           65
          ],
          [
           "DG",
           66
          ],
          [
           "CA1",
           67
          ],
          [
           "CA3",
           68
          ],
          [
           "CTX1",
           69
          ],
          [
           "CTX2",
           70
          ],
          [
           "CTX3",
           71
          ],
          [
           "DG",
           72
          ],
          [
           "CA1",
           73
          ],
          [
           "CA3",
           74
          ],
          [
           "CTX1",
           75
          ],
          [
           "CTX2",
           76
          ],
          [
           "CTX3",
           77
          ],
          [
           "DG",
           78
          ],
          [
           "CA1",
           79
          ],
          [
           "CA3",
           80
          ],
          [
           "CTX1",
           81
          ],
          [
           "CTX2",
           82
          ],
          [
           "CTX3",
           83
          ],
          [
           "DG",
           84
          ],
          [
           "CA1",
           85
          ],
          [
           "CA3",
           86
          ],
          [
           "CTX1",
           87
          ],
          [
           "CTX2",
           88
          ],
          [
           "CTX3",
           89
          ],
          [
           "DG",
           90
          ],
          [
           "CA1",
           91
          ],
          [
           "CA3",
           92
          ],
          [
           "CTX1",
           93
          ],
          [
           "CTX2",
           94
          ],
          [
           "CTX3",
           95
          ],
          [
           "DG",
           96
          ],
          [
           "CA1",
           97
          ],
          [
           "CA3",
           98
          ],
          [
           "CTX1",
           99
          ],
          [
           "CTX2",
           100
          ],
          [
           "CTX3",
           101
          ],
          [
           "DG",
           102
          ],
          [
           "CA1",
           103
          ],
          [
           "CA3",
           104
          ],
          [
           "CTX1",
           105
          ],
          [
           "CTX2",
           106
          ],
          [
           "CTX3",
           107
          ],
          [
           "DG",
           108
          ],
          [
           "CA1",
           109
          ],
          [
           "CA3",
           110
          ],
          [
           "CTX1",
           111
          ],
          [
           "CTX2",
           112
          ],
          [
           "CTX3",
           113
          ],
          [
           "DG",
           114
          ],
          [
           "CA1",
           115
          ],
          [
           "CA3",
           116
          ],
          [
           "CTX1",
           117
          ],
          [
           "CTX2",
           118
          ],
          [
           "CTX3",
           119
          ],
          [
           "DG",
           120
          ],
          [
           "CA1",
           121
          ],
          [
           "CA3",
           122
          ],
          [
           "CTX1",
           123
          ],
          [
           "CTX2",
           124
          ],
          [
           "CTX3",
           125
          ],
          [
           "DG",
           126
          ],
          [
           "DG",
           127
          ],
          [
           "CA1",
           128
          ],
          [
           "CA3",
           129
          ],
          [
           "CTX1",
           130
          ],
          [
           "CTX2",
           131
          ],
          [
           "CTX3",
           132
          ],
          [
           "DG",
           133
          ],
          [
           "CA1",
           134
          ],
          [
           "CA3",
           135
          ],
          [
           "CTX1",
           136
          ],
          [
           "CTX2",
           137
          ],
          [
           "CTX3",
           138
          ],
          [
           "DG",
           139
          ],
          [
           "CA1",
           140
          ],
          [
           "CA3",
           141
          ],
          [
           "CTX1",
           142
          ],
          [
           "CTX2",
           143
          ],
          [
           "CTX3",
           144
          ],
          [
           "DG",
           145
          ],
          [
           "CA1",
           146
          ],
          [
           "CA3",
           147
          ],
          [
           "CTX1",
           148
          ],
          [
           "CTX2",
           149
          ],
          [
           "CTX3",
           150
          ],
          [
           "DG",
           151
          ],
          [
           "CA1",
           152
          ],
          [
           "CA3",
           153
          ],
          [
           "CTX1",
           154
          ],
          [
           "CTX2",
           155
          ],
          [
           "CTX3",
           156
          ],
          [
           "DG",
           157
          ],
          [
           "CA1",
           158
          ],
          [
           "CA3",
           159
          ],
          [
           "CTX1",
           160
          ],
          [
           "DG",
           161
          ],
          [
           "CA1",
           162
          ],
          [
           "CA3",
           163
          ],
          [
           "CTX1",
           164
          ],
          [
           "CTX2",
           165
          ],
          [
           "CTX3",
           166
          ],
          [
           "DG",
           167
          ],
          [
           "CA1",
           168
          ],
          [
           "CA3",
           169
          ],
          [
           "CTX1",
           170
          ],
          [
           "CTX2",
           171
          ],
          [
           "CTX3",
           172
          ],
          [
           "DG",
           173
          ],
          [
           "CA1",
           174
          ],
          [
           "CA3",
           175
          ],
          [
           "CTX1",
           176
          ],
          [
           "CTX2",
           177
          ],
          [
           "CTX3",
           178
          ],
          [
           "DG",
           179
          ],
          [
           "CA1",
           180
          ],
          [
           "CA3",
           181
          ],
          [
           "CTX1",
           182
          ],
          [
           "CTX2",
           183
          ],
          [
           "CTX3",
           184
          ],
          [
           "DG",
           185
          ],
          [
           "CA1",
           186
          ],
          [
           "CA3",
           187
          ],
          [
           "CTX1",
           188
          ],
          [
           "CTX2",
           189
          ],
          [
           "CTX3",
           190
          ],
          [
           "DG",
           191
          ],
          [
           "CA1",
           192
          ],
          [
           "CA3",
           193
          ],
          [
           "CTX1",
           194
          ],
          [
           "CTX2",
           195
          ],
          [
           "CTX3",
           196
          ],
          [
           "DG",
           197
          ],
          [
           "CA1",
           198
          ],
          [
           "CA3",
           199
          ],
          [
           "CTX1",
           200
          ],
          [
           "CTX2",
           201
          ],
          [
           "CTX3",
           202
          ],
          [
           "DG",
           203
          ],
          [
           "CA1",
           204
          ],
          [
           "CA3",
           205
          ],
          [
           "CTX1",
           206
          ],
          [
           "CTX2",
           207
          ],
          [
           "CTX3",
           208
          ],
          [
           "DG",
           209
          ],
          [
           "CA1",
           210
          ],
          [
           "CA3",
           211
          ],
          [
           "CTX1",
           212
          ],
          [
           "CTX2",
           213
          ],
          [
           "CTX3",
           214
          ],
          [
           "DG",
           215
          ],
          [
           "CA1",
           216
          ],
          [
           "CA3",
           217
          ],
          [
           "CTX1",
           218
          ],
          [
           "CTX2",
           219
          ],
          [
           "CTX3",
           220
          ],
          [
           "DG",
           221
          ],
          [
           "CA1",
           222
          ],
          [
           "CA3",
           223
          ],
          [
           "CTX1",
           224
          ],
          [
           "CTX2",
           225
          ],
          [
           "CTX3",
           226
          ],
          [
           "DG",
           227
          ],
          [
           "CA1",
           228
          ],
          [
           "CA3",
           229
          ],
          [
           "CTX1",
           230
          ],
          [
           "CTX2",
           231
          ],
          [
           "CTX3",
           232
          ],
          [
           "DG",
           233
          ],
          [
           "CA1",
           234
          ],
          [
           "CA3",
           235
          ],
          [
           "CTX1",
           236
          ],
          [
           "CTX2",
           237
          ],
          [
           "CTX3",
           238
          ],
          [
           "DG",
           239
          ],
          [
           "CA1",
           240
          ],
          [
           "CA3",
           241
          ],
          [
           "CTX1",
           242
          ],
          [
           "CTX2",
           243
          ],
          [
           "CTX3",
           244
          ],
          [
           "DG",
           245
          ],
          [
           "CA1",
           246
          ],
          [
           "CA3",
           247
          ],
          [
           "CTX1",
           248
          ],
          [
           "CTX2",
           249
          ],
          [
           "CTX3",
           250
          ],
          [
           "DG",
           251
          ]
         ],
         "hovertemplate": "staining_id=%{x}<br>%_dna_damage_signal=%{y}<br>tissue_location=%{customdata[0]}<br>index=%{customdata[1]}<extra></extra>",
         "legendgroup": "",
         "marker": {
          "color": "#636efa",
          "symbol": "circle"
         },
         "mode": "markers",
         "name": "",
         "orientation": "v",
         "showlegend": false,
         "type": "scatter",
         "x": [
          16,
          16,
          16,
          16,
          16,
          16,
          17,
          17,
          17,
          17,
          17,
          17,
          18,
          18,
          18,
          18,
          18,
          18,
          19,
          19,
          19,
          19,
          19,
          19,
          20,
          20,
          20,
          20,
          20,
          20,
          21,
          21,
          21,
          21,
          21,
          21,
          22,
          22,
          22,
          22,
          22,
          22,
          23,
          23,
          23,
          23,
          23,
          23,
          24,
          24,
          24,
          24,
          24,
          24,
          25,
          25,
          25,
          25,
          25,
          25,
          26,
          26,
          26,
          26,
          26,
          26,
          27,
          28,
          28,
          28,
          28,
          28,
          28,
          29,
          29,
          29,
          29,
          29,
          29,
          30,
          30,
          30,
          30,
          30,
          30,
          31,
          31,
          31,
          31,
          31,
          31,
          32,
          32,
          32,
          32,
          32,
          32,
          33,
          33,
          33,
          33,
          33,
          33,
          34,
          34,
          34,
          34,
          34,
          34,
          35,
          35,
          35,
          35,
          35,
          35,
          36,
          36,
          36,
          36,
          36,
          36,
          37,
          37,
          37,
          37,
          37,
          37,
          38,
          39,
          39,
          39,
          39,
          39,
          39,
          40,
          40,
          40,
          40,
          40,
          40,
          41,
          41,
          41,
          41,
          41,
          41,
          42,
          42,
          42,
          42,
          42,
          42,
          43,
          43,
          43,
          43,
          43,
          43,
          44,
          44,
          44,
          44,
          45,
          45,
          45,
          45,
          45,
          45,
          46,
          46,
          46,
          46,
          46,
          46,
          47,
          47,
          47,
          47,
          47,
          47,
          48,
          48,
          48,
          48,
          48,
          48,
          49,
          49,
          49,
          49,
          49,
          49,
          50,
          50,
          50,
          50,
          50,
          50,
          51,
          51,
          51,
          51,
          51,
          51,
          52,
          52,
          52,
          52,
          52,
          52,
          53,
          53,
          53,
          53,
          53,
          53,
          54,
          54,
          54,
          54,
          54,
          54,
          55,
          55,
          55,
          55,
          55,
          55,
          56,
          56,
          56,
          56,
          56,
          56,
          57,
          57,
          57,
          57,
          57,
          57,
          58,
          58,
          58,
          58,
          58,
          58,
          59,
          59,
          59,
          59,
          59,
          59
         ],
         "xaxis": "x",
         "y": [
          0.2091407775878906,
          0.51116943359375,
          0.1309394836425781,
          0.2966880798339844,
          0.3927230834960937,
          0.2111434936523437,
          0.1756668090820312,
          0.3710746765136719,
          0.1898765563964843,
          0.3108024597167969,
          0.6266593933105469,
          0.3207206726074219,
          0.4940032958984375,
          0.3874778747558594,
          0.0653266906738281,
          0.139617919921875,
          0.1470565795898437,
          2.2159576416015625,
          3.5797119140625,
          2.885150909423828,
          1.7220497131347656,
          0.6727218627929688,
          0.3107070922851562,
          4.388427734375,
          0.3499984741210937,
          0.4387855529785156,
          0.1902580261230468,
          0.4044532775878906,
          0.2260208129882812,
          0.9352684020996094,
          0.3556251525878906,
          0.342559814453125,
          0.4111289978027344,
          0.4201889038085937,
          0.366973876953125,
          0.9407997131347656,
          0.4444122314453125,
          0.5006790161132812,
          0.5188941955566406,
          0.5146026611328125,
          0.1000404357910156,
          1.319122314453125,
          0.26092529296875,
          0.2226829528808593,
          0.1782417297363281,
          0.0226020812988281,
          0.235748291015625,
          0.6613731384277344,
          0.1312255859375,
          0.1104354858398437,
          0.0873565673828125,
          0.096893310546875,
          0.0979423522949218,
          0.0400543212890625,
          0.4874229431152344,
          0.4986763000488281,
          0.2181053161621093,
          0.3881454467773437,
          0.5010604858398438,
          1.6371726989746094,
          0.2736091613769531,
          0.4375457763671875,
          0.81024169921875,
          0.482177734375,
          0.7335662841796875,
          0.4869461059570312,
          0.9477615356445312,
          0.469970703125,
          0.3864288330078125,
          0.5664825439453125,
          0.22430419921875,
          0.3245353698730469,
          1.7148971557617188,
          0.3452301025390625,
          0.3023147583007812,
          0.3643989562988281,
          0.551605224609375,
          0.197601318359375,
          0.8409500122070312,
          0.1756668090820312,
          0.3167152404785156,
          0.2023696899414062,
          0.2282142639160156,
          0.1043319702148437,
          0.5678176879882812,
          0.3924369812011719,
          0.6452560424804688,
          0.1832008361816406,
          0.2105712890625,
          0.3072738647460937,
          0.8093833923339844,
          0.3122329711914062,
          0.6804466247558594,
          0.3292083740234375,
          0.4338264465332031,
          0.357818603515625,
          0.4597663879394531,
          0.3518104553222656,
          0.6498336791992188,
          0.5475997924804688,
          0.5225181579589844,
          0.3183364868164062,
          1.3701438903808594,
          0.7212638854980469,
          1.6454696655273438,
          0.8446693420410156,
          0.832366943359375,
          1.5863418579101562,
          1.4467239379882812,
          0.1296043395996093,
          0.4532814025878906,
          0.1482009887695312,
          0.4270553588867187,
          0.431060791015625,
          0.8222579956054688,
          0.6620407104492188,
          0.5223274230957031,
          0.8052825927734375,
          0.7004737854003906,
          0.55999755859375,
          1.6710281372070312,
          0.3253936767578125,
          0.4072189331054687,
          0.4077911376953125,
          0.6011009216308594,
          0.5366325378417969,
          1.0011672973632812,
          0.4906654357910156,
          0.3540992736816406,
          0.4584312438964844,
          0.1890182495117187,
          0.1605987548828125,
          0.0987052917480468,
          0.605010986328125,
          0.218963623046875,
          0.2492904663085937,
          0.3066062927246094,
          0.2209663391113281,
          0.2966880798339844,
          0.9131431579589844,
          0.3262519836425781,
          0.18768310546875,
          0.0269889831542968,
          0.0275611877441406,
          0.0303268432617187,
          0.931072235107422,
          0.2306938171386718,
          0.2771377563476562,
          0.1832008361816406,
          0.1685142517089843,
          0.2580642700195312,
          0.4704475402832031,
          0.1489639282226562,
          0.9355545043945312,
          0.5117416381835938,
          0.15716552734375,
          0.3485679626464844,
          1.4261245727539062,
          1.113128662109375,
          2.1190643310546875,
          2.3599624633789062,
          1.580524444580078,
          0.5681037902832031,
          0.5382537841796875,
          0.2050399780273437,
          0.1779556274414062,
          0.1420021057128906,
          1.7207145690917969,
          0.6361007690429688,
          0.6049156188964844,
          0.4398345947265625,
          0.2292633056640625,
          0.3892898559570312,
          0.6394386291503906,
          0.3175735473632812,
          0.5910873413085938,
          0.0922203063964843,
          0.3137588500976562,
          0.368499755859375,
          0.9806632995605468,
          0.3435134887695312,
          0.2569198608398437,
          0.3069877624511719,
          0.4039764404296875,
          0.3843307495117187,
          1.1247634887695312,
          0.3559112548828125,
          0.0613212585449218,
          0.2826690673828125,
          0.2546310424804687,
          0.1244544982910156,
          0.551605224609375,
          0.0375747680664062,
          0.2301216125488281,
          0.012969970703125,
          0.0769615173339843,
          0.3333091735839844,
          0.1468658447265625,
          0.1934051513671875,
          0.3226280212402344,
          0.1218795776367187,
          0.0920295715332031,
          0.1757621765136718,
          0.6318092346191406,
          0.1180648803710937,
          0.189971923828125,
          0.0439643859863281,
          0.1120567321777343,
          0.1720428466796875,
          0.2752304077148437,
          0.5084037780761719,
          1.0701179504394531,
          0.601959228515625,
          0.453948974609375,
          0.5223274230957031,
          1.2368202209472656,
          0.2657890319824219,
          0.5908012390136719,
          0.3054618835449219,
          0.3124237060546875,
          0.3346443176269531,
          0.8176803588867188,
          0.2303123474121093,
          0.1957893371582031,
          0.0146865844726562,
          0.2610206604003906,
          0.0402450561523437,
          0.6447792053222656,
          0.2491950988769531,
          0.2500534057617187,
          0.1980781555175781,
          0.1141548156738281,
          0.0967025756835937,
          0.3398895263671875,
          0.1595497131347656,
          0.38604736328125,
          0.1039505004882812,
          0.1249313354492187,
          0.0451087951660156,
          0.3549575805664062,
          0.2858161926269531,
          0.3289222717285156,
          0.2060890197753906,
          0.3811836242675781,
          0.2246856689453125,
          0.4431724548339844,
          0.4143714904785156,
          0.165557861328125,
          0.3564834594726562,
          0.1505851745605468,
          0.131988525390625,
          0.9476661682128906
         ],
         "yaxis": "y"
        }
       ],
       "layout": {
        "legend": {
         "tracegroupgap": 0
        },
        "template": {
         "data": {
          "bar": [
           {
            "error_x": {
             "color": "#2a3f5f"
            },
            "error_y": {
             "color": "#2a3f5f"
            },
            "marker": {
             "line": {
              "color": "#E5ECF6",
              "width": 0.5
             },
             "pattern": {
              "fillmode": "overlay",
              "size": 10,
              "solidity": 0.2
             }
            },
            "type": "bar"
           }
          ],
          "barpolar": [
           {
            "marker": {
             "line": {
              "color": "#E5ECF6",
              "width": 0.5
             },
             "pattern": {
              "fillmode": "overlay",
              "size": 10,
              "solidity": 0.2
             }
            },
            "type": "barpolar"
           }
          ],
          "carpet": [
           {
            "aaxis": {
             "endlinecolor": "#2a3f5f",
             "gridcolor": "white",
             "linecolor": "white",
             "minorgridcolor": "white",
             "startlinecolor": "#2a3f5f"
            },
            "baxis": {
             "endlinecolor": "#2a3f5f",
             "gridcolor": "white",
             "linecolor": "white",
             "minorgridcolor": "white",
             "startlinecolor": "#2a3f5f"
            },
            "type": "carpet"
           }
          ],
          "choropleth": [
           {
            "colorbar": {
             "outlinewidth": 0,
             "ticks": ""
            },
            "type": "choropleth"
           }
          ],
          "contour": [
           {
            "colorbar": {
             "outlinewidth": 0,
             "ticks": ""
            },
            "colorscale": [
             [
              0,
              "#0d0887"
             ],
             [
              0.1111111111111111,
              "#46039f"
             ],
             [
              0.2222222222222222,
              "#7201a8"
             ],
             [
              0.3333333333333333,
              "#9c179e"
             ],
             [
              0.4444444444444444,
              "#bd3786"
             ],
             [
              0.5555555555555556,
              "#d8576b"
             ],
             [
              0.6666666666666666,
              "#ed7953"
             ],
             [
              0.7777777777777778,
              "#fb9f3a"
             ],
             [
              0.8888888888888888,
              "#fdca26"
             ],
             [
              1,
              "#f0f921"
             ]
            ],
            "type": "contour"
           }
          ],
          "contourcarpet": [
           {
            "colorbar": {
             "outlinewidth": 0,
             "ticks": ""
            },
            "type": "contourcarpet"
           }
          ],
          "heatmap": [
           {
            "colorbar": {
             "outlinewidth": 0,
             "ticks": ""
            },
            "colorscale": [
             [
              0,
              "#0d0887"
             ],
             [
              0.1111111111111111,
              "#46039f"
             ],
             [
              0.2222222222222222,
              "#7201a8"
             ],
             [
              0.3333333333333333,
              "#9c179e"
             ],
             [
              0.4444444444444444,
              "#bd3786"
             ],
             [
              0.5555555555555556,
              "#d8576b"
             ],
             [
              0.6666666666666666,
              "#ed7953"
             ],
             [
              0.7777777777777778,
              "#fb9f3a"
             ],
             [
              0.8888888888888888,
              "#fdca26"
             ],
             [
              1,
              "#f0f921"
             ]
            ],
            "type": "heatmap"
           }
          ],
          "heatmapgl": [
           {
            "colorbar": {
             "outlinewidth": 0,
             "ticks": ""
            },
            "colorscale": [
             [
              0,
              "#0d0887"
             ],
             [
              0.1111111111111111,
              "#46039f"
             ],
             [
              0.2222222222222222,
              "#7201a8"
             ],
             [
              0.3333333333333333,
              "#9c179e"
             ],
             [
              0.4444444444444444,
              "#bd3786"
             ],
             [
              0.5555555555555556,
              "#d8576b"
             ],
             [
              0.6666666666666666,
              "#ed7953"
             ],
             [
              0.7777777777777778,
              "#fb9f3a"
             ],
             [
              0.8888888888888888,
              "#fdca26"
             ],
             [
              1,
              "#f0f921"
             ]
            ],
            "type": "heatmapgl"
           }
          ],
          "histogram": [
           {
            "marker": {
             "pattern": {
              "fillmode": "overlay",
              "size": 10,
              "solidity": 0.2
             }
            },
            "type": "histogram"
           }
          ],
          "histogram2d": [
           {
            "colorbar": {
             "outlinewidth": 0,
             "ticks": ""
            },
            "colorscale": [
             [
              0,
              "#0d0887"
             ],
             [
              0.1111111111111111,
              "#46039f"
             ],
             [
              0.2222222222222222,
              "#7201a8"
             ],
             [
              0.3333333333333333,
              "#9c179e"
             ],
             [
              0.4444444444444444,
              "#bd3786"
             ],
             [
              0.5555555555555556,
              "#d8576b"
             ],
             [
              0.6666666666666666,
              "#ed7953"
             ],
             [
              0.7777777777777778,
              "#fb9f3a"
             ],
             [
              0.8888888888888888,
              "#fdca26"
             ],
             [
              1,
              "#f0f921"
             ]
            ],
            "type": "histogram2d"
           }
          ],
          "histogram2dcontour": [
           {
            "colorbar": {
             "outlinewidth": 0,
             "ticks": ""
            },
            "colorscale": [
             [
              0,
              "#0d0887"
             ],
             [
              0.1111111111111111,
              "#46039f"
             ],
             [
              0.2222222222222222,
              "#7201a8"
             ],
             [
              0.3333333333333333,
              "#9c179e"
             ],
             [
              0.4444444444444444,
              "#bd3786"
             ],
             [
              0.5555555555555556,
              "#d8576b"
             ],
             [
              0.6666666666666666,
              "#ed7953"
             ],
             [
              0.7777777777777778,
              "#fb9f3a"
             ],
             [
              0.8888888888888888,
              "#fdca26"
             ],
             [
              1,
              "#f0f921"
             ]
            ],
            "type": "histogram2dcontour"
           }
          ],
          "mesh3d": [
           {
            "colorbar": {
             "outlinewidth": 0,
             "ticks": ""
            },
            "type": "mesh3d"
           }
          ],
          "parcoords": [
           {
            "line": {
             "colorbar": {
              "outlinewidth": 0,
              "ticks": ""
             }
            },
            "type": "parcoords"
           }
          ],
          "pie": [
           {
            "automargin": true,
            "type": "pie"
           }
          ],
          "scatter": [
           {
            "fillpattern": {
             "fillmode": "overlay",
             "size": 10,
             "solidity": 0.2
            },
            "type": "scatter"
           }
          ],
          "scatter3d": [
           {
            "line": {
             "colorbar": {
              "outlinewidth": 0,
              "ticks": ""
             }
            },
            "marker": {
             "colorbar": {
              "outlinewidth": 0,
              "ticks": ""
             }
            },
            "type": "scatter3d"
           }
          ],
          "scattercarpet": [
           {
            "marker": {
             "colorbar": {
              "outlinewidth": 0,
              "ticks": ""
             }
            },
            "type": "scattercarpet"
           }
          ],
          "scattergeo": [
           {
            "marker": {
             "colorbar": {
              "outlinewidth": 0,
              "ticks": ""
             }
            },
            "type": "scattergeo"
           }
          ],
          "scattergl": [
           {
            "marker": {
             "colorbar": {
              "outlinewidth": 0,
              "ticks": ""
             }
            },
            "type": "scattergl"
           }
          ],
          "scattermapbox": [
           {
            "marker": {
             "colorbar": {
              "outlinewidth": 0,
              "ticks": ""
             }
            },
            "type": "scattermapbox"
           }
          ],
          "scatterpolar": [
           {
            "marker": {
             "colorbar": {
              "outlinewidth": 0,
              "ticks": ""
             }
            },
            "type": "scatterpolar"
           }
          ],
          "scatterpolargl": [
           {
            "marker": {
             "colorbar": {
              "outlinewidth": 0,
              "ticks": ""
             }
            },
            "type": "scatterpolargl"
           }
          ],
          "scatterternary": [
           {
            "marker": {
             "colorbar": {
              "outlinewidth": 0,
              "ticks": ""
             }
            },
            "type": "scatterternary"
           }
          ],
          "surface": [
           {
            "colorbar": {
             "outlinewidth": 0,
             "ticks": ""
            },
            "colorscale": [
             [
              0,
              "#0d0887"
             ],
             [
              0.1111111111111111,
              "#46039f"
             ],
             [
              0.2222222222222222,
              "#7201a8"
             ],
             [
              0.3333333333333333,
              "#9c179e"
             ],
             [
              0.4444444444444444,
              "#bd3786"
             ],
             [
              0.5555555555555556,
              "#d8576b"
             ],
             [
              0.6666666666666666,
              "#ed7953"
             ],
             [
              0.7777777777777778,
              "#fb9f3a"
             ],
             [
              0.8888888888888888,
              "#fdca26"
             ],
             [
              1,
              "#f0f921"
             ]
            ],
            "type": "surface"
           }
          ],
          "table": [
           {
            "cells": {
             "fill": {
              "color": "#EBF0F8"
             },
             "line": {
              "color": "white"
             }
            },
            "header": {
             "fill": {
              "color": "#C8D4E3"
             },
             "line": {
              "color": "white"
             }
            },
            "type": "table"
           }
          ]
         },
         "layout": {
          "annotationdefaults": {
           "arrowcolor": "#2a3f5f",
           "arrowhead": 0,
           "arrowwidth": 1
          },
          "autotypenumbers": "strict",
          "coloraxis": {
           "colorbar": {
            "outlinewidth": 0,
            "ticks": ""
           }
          },
          "colorscale": {
           "diverging": [
            [
             0,
             "#8e0152"
            ],
            [
             0.1,
             "#c51b7d"
            ],
            [
             0.2,
             "#de77ae"
            ],
            [
             0.3,
             "#f1b6da"
            ],
            [
             0.4,
             "#fde0ef"
            ],
            [
             0.5,
             "#f7f7f7"
            ],
            [
             0.6,
             "#e6f5d0"
            ],
            [
             0.7,
             "#b8e186"
            ],
            [
             0.8,
             "#7fbc41"
            ],
            [
             0.9,
             "#4d9221"
            ],
            [
             1,
             "#276419"
            ]
           ],
           "sequential": [
            [
             0,
             "#0d0887"
            ],
            [
             0.1111111111111111,
             "#46039f"
            ],
            [
             0.2222222222222222,
             "#7201a8"
            ],
            [
             0.3333333333333333,
             "#9c179e"
            ],
            [
             0.4444444444444444,
             "#bd3786"
            ],
            [
             0.5555555555555556,
             "#d8576b"
            ],
            [
             0.6666666666666666,
             "#ed7953"
            ],
            [
             0.7777777777777778,
             "#fb9f3a"
            ],
            [
             0.8888888888888888,
             "#fdca26"
            ],
            [
             1,
             "#f0f921"
            ]
           ],
           "sequentialminus": [
            [
             0,
             "#0d0887"
            ],
            [
             0.1111111111111111,
             "#46039f"
            ],
            [
             0.2222222222222222,
             "#7201a8"
            ],
            [
             0.3333333333333333,
             "#9c179e"
            ],
            [
             0.4444444444444444,
             "#bd3786"
            ],
            [
             0.5555555555555556,
             "#d8576b"
            ],
            [
             0.6666666666666666,
             "#ed7953"
            ],
            [
             0.7777777777777778,
             "#fb9f3a"
            ],
            [
             0.8888888888888888,
             "#fdca26"
            ],
            [
             1,
             "#f0f921"
            ]
           ]
          },
          "colorway": [
           "#636efa",
           "#EF553B",
           "#00cc96",
           "#ab63fa",
           "#FFA15A",
           "#19d3f3",
           "#FF6692",
           "#B6E880",
           "#FF97FF",
           "#FECB52"
          ],
          "font": {
           "color": "#2a3f5f"
          },
          "geo": {
           "bgcolor": "white",
           "lakecolor": "white",
           "landcolor": "#E5ECF6",
           "showlakes": true,
           "showland": true,
           "subunitcolor": "white"
          },
          "hoverlabel": {
           "align": "left"
          },
          "hovermode": "closest",
          "mapbox": {
           "style": "light"
          },
          "paper_bgcolor": "white",
          "plot_bgcolor": "#E5ECF6",
          "polar": {
           "angularaxis": {
            "gridcolor": "white",
            "linecolor": "white",
            "ticks": ""
           },
           "bgcolor": "#E5ECF6",
           "radialaxis": {
            "gridcolor": "white",
            "linecolor": "white",
            "ticks": ""
           }
          },
          "scene": {
           "xaxis": {
            "backgroundcolor": "#E5ECF6",
            "gridcolor": "white",
            "gridwidth": 2,
            "linecolor": "white",
            "showbackground": true,
            "ticks": "",
            "zerolinecolor": "white"
           },
           "yaxis": {
            "backgroundcolor": "#E5ECF6",
            "gridcolor": "white",
            "gridwidth": 2,
            "linecolor": "white",
            "showbackground": true,
            "ticks": "",
            "zerolinecolor": "white"
           },
           "zaxis": {
            "backgroundcolor": "#E5ECF6",
            "gridcolor": "white",
            "gridwidth": 2,
            "linecolor": "white",
            "showbackground": true,
            "ticks": "",
            "zerolinecolor": "white"
           }
          },
          "shapedefaults": {
           "line": {
            "color": "#2a3f5f"
           }
          },
          "ternary": {
           "aaxis": {
            "gridcolor": "white",
            "linecolor": "white",
            "ticks": ""
           },
           "baxis": {
            "gridcolor": "white",
            "linecolor": "white",
            "ticks": ""
           },
           "bgcolor": "#E5ECF6",
           "caxis": {
            "gridcolor": "white",
            "linecolor": "white",
            "ticks": ""
           }
          },
          "title": {
           "x": 0.05
          },
          "xaxis": {
           "automargin": true,
           "gridcolor": "white",
           "linecolor": "white",
           "ticks": "",
           "title": {
            "standoff": 15
           },
           "zerolinecolor": "white",
           "zerolinewidth": 2
          },
          "yaxis": {
           "automargin": true,
           "gridcolor": "white",
           "linecolor": "white",
           "ticks": "",
           "title": {
            "standoff": 15
           },
           "zerolinecolor": "white",
           "zerolinewidth": 2
          }
         }
        },
        "title": {
         "text": "Dna damage mask area (QC) - cellpdia30_sigma1_dilrad4_dnad_obj_seg_v2_gliaero6_gliathr20_dnadero2"
        },
        "xaxis": {
         "anchor": "y",
         "domain": [
          0,
          1
         ],
         "title": {
          "text": "staining_id"
         }
        },
        "yaxis": {
         "anchor": "x",
         "domain": [
          0,
          1
         ],
         "title": {
          "text": "%_dna_damage_signal"
         }
        }
       }
      }
     },
     "metadata": {},
     "output_type": "display_data"
    }
   ],
   "source": [
    "# Create the plot\n",
    "fig = px.scatter(df, x='staining_id', y='%_dna_damage_signal',\n",
    "                 hover_data=['tissue_location','index'], title=f'Dna damage mask area (QC) - {title}')\n",
    "\n",
    "# Show the plot\n",
    "fig.show()"
   ]
  },
  {
   "cell_type": "code",
   "execution_count": 12,
   "metadata": {},
   "outputs": [
    {
     "data": {
      "application/vnd.plotly.v1+json": {
       "config": {
        "plotlyServerURL": "https://plot.ly"
       },
       "data": [
        {
         "customdata": [
          [
           "CA1",
           0
          ],
          [
           "CA3",
           1
          ],
          [
           "CTX1",
           2
          ],
          [
           "CTX2",
           3
          ],
          [
           "CTX3",
           4
          ],
          [
           "DG",
           5
          ],
          [
           "CA1",
           6
          ],
          [
           "CA3",
           7
          ],
          [
           "CTX1",
           8
          ],
          [
           "CTX2",
           9
          ],
          [
           "CTX3",
           10
          ],
          [
           "DG",
           11
          ],
          [
           "CA1",
           12
          ],
          [
           "CA3",
           13
          ],
          [
           "CTX1",
           14
          ],
          [
           "CTX2",
           15
          ],
          [
           "CTX3",
           16
          ],
          [
           "DG",
           17
          ],
          [
           "CA1",
           18
          ],
          [
           "CA3",
           19
          ],
          [
           "CTX1",
           20
          ],
          [
           "CTX2",
           21
          ],
          [
           "CTX3",
           22
          ],
          [
           "DG",
           23
          ],
          [
           "CA1",
           24
          ],
          [
           "CA3",
           25
          ],
          [
           "CTX1",
           26
          ],
          [
           "CTX2",
           27
          ],
          [
           "CTX3",
           28
          ],
          [
           "DG",
           29
          ],
          [
           "CA1",
           30
          ],
          [
           "CA3",
           31
          ],
          [
           "CTX1",
           32
          ],
          [
           "CTX2",
           33
          ],
          [
           "CTX3",
           34
          ],
          [
           "DG",
           35
          ],
          [
           "CA1",
           36
          ],
          [
           "CA3",
           37
          ],
          [
           "CTX1",
           38
          ],
          [
           "CTX2",
           39
          ],
          [
           "CTX3",
           40
          ],
          [
           "DG",
           41
          ],
          [
           "CA1",
           42
          ],
          [
           "CA3",
           43
          ],
          [
           "CTX1",
           44
          ],
          [
           "CTX2",
           45
          ],
          [
           "CTX3",
           46
          ],
          [
           "DG",
           47
          ],
          [
           "CA1",
           48
          ],
          [
           "CA3",
           49
          ],
          [
           "CTX1",
           50
          ],
          [
           "CTX2",
           51
          ],
          [
           "CTX3",
           52
          ],
          [
           "DG",
           53
          ],
          [
           "CA1",
           54
          ],
          [
           "CA3",
           55
          ],
          [
           "CTX1",
           56
          ],
          [
           "CTX2",
           57
          ],
          [
           "CTX3",
           58
          ],
          [
           "DG",
           59
          ],
          [
           "CA1",
           60
          ],
          [
           "CA3",
           61
          ],
          [
           "CTX1",
           62
          ],
          [
           "CTX2",
           63
          ],
          [
           "CTX3",
           64
          ],
          [
           "DG",
           65
          ],
          [
           "DG",
           66
          ],
          [
           "CA1",
           67
          ],
          [
           "CA3",
           68
          ],
          [
           "CTX1",
           69
          ],
          [
           "CTX2",
           70
          ],
          [
           "CTX3",
           71
          ],
          [
           "DG",
           72
          ],
          [
           "CA1",
           73
          ],
          [
           "CA3",
           74
          ],
          [
           "CTX1",
           75
          ],
          [
           "CTX2",
           76
          ],
          [
           "CTX3",
           77
          ],
          [
           "DG",
           78
          ],
          [
           "CA1",
           79
          ],
          [
           "CA3",
           80
          ],
          [
           "CTX1",
           81
          ],
          [
           "CTX2",
           82
          ],
          [
           "CTX3",
           83
          ],
          [
           "DG",
           84
          ],
          [
           "CA1",
           85
          ],
          [
           "CA3",
           86
          ],
          [
           "CTX1",
           87
          ],
          [
           "CTX2",
           88
          ],
          [
           "CTX3",
           89
          ],
          [
           "DG",
           90
          ],
          [
           "CA1",
           91
          ],
          [
           "CA3",
           92
          ],
          [
           "CTX1",
           93
          ],
          [
           "CTX2",
           94
          ],
          [
           "CTX3",
           95
          ],
          [
           "DG",
           96
          ],
          [
           "CA1",
           97
          ],
          [
           "CA3",
           98
          ],
          [
           "CTX1",
           99
          ],
          [
           "CTX2",
           100
          ],
          [
           "CTX3",
           101
          ],
          [
           "DG",
           102
          ],
          [
           "CA1",
           103
          ],
          [
           "CA3",
           104
          ],
          [
           "CTX1",
           105
          ],
          [
           "CTX2",
           106
          ],
          [
           "CTX3",
           107
          ],
          [
           "DG",
           108
          ],
          [
           "CA1",
           109
          ],
          [
           "CA3",
           110
          ],
          [
           "CTX1",
           111
          ],
          [
           "CTX2",
           112
          ],
          [
           "CTX3",
           113
          ],
          [
           "DG",
           114
          ],
          [
           "CA1",
           115
          ],
          [
           "CA3",
           116
          ],
          [
           "CTX1",
           117
          ],
          [
           "CTX2",
           118
          ],
          [
           "CTX3",
           119
          ],
          [
           "DG",
           120
          ],
          [
           "CA1",
           121
          ],
          [
           "CA3",
           122
          ],
          [
           "CTX1",
           123
          ],
          [
           "CTX2",
           124
          ],
          [
           "CTX3",
           125
          ],
          [
           "DG",
           126
          ],
          [
           "DG",
           127
          ],
          [
           "CA1",
           128
          ],
          [
           "CA3",
           129
          ],
          [
           "CTX1",
           130
          ],
          [
           "CTX2",
           131
          ],
          [
           "CTX3",
           132
          ],
          [
           "DG",
           133
          ],
          [
           "CA1",
           134
          ],
          [
           "CA3",
           135
          ],
          [
           "CTX1",
           136
          ],
          [
           "CTX2",
           137
          ],
          [
           "CTX3",
           138
          ],
          [
           "DG",
           139
          ],
          [
           "CA1",
           140
          ],
          [
           "CA3",
           141
          ],
          [
           "CTX1",
           142
          ],
          [
           "CTX2",
           143
          ],
          [
           "CTX3",
           144
          ],
          [
           "DG",
           145
          ],
          [
           "CA1",
           146
          ],
          [
           "CA3",
           147
          ],
          [
           "CTX1",
           148
          ],
          [
           "CTX2",
           149
          ],
          [
           "CTX3",
           150
          ],
          [
           "DG",
           151
          ],
          [
           "CA1",
           152
          ],
          [
           "CA3",
           153
          ],
          [
           "CTX1",
           154
          ],
          [
           "CTX2",
           155
          ],
          [
           "CTX3",
           156
          ],
          [
           "DG",
           157
          ],
          [
           "CA1",
           158
          ],
          [
           "CA3",
           159
          ],
          [
           "CTX1",
           160
          ],
          [
           "DG",
           161
          ],
          [
           "CA1",
           162
          ],
          [
           "CA3",
           163
          ],
          [
           "CTX1",
           164
          ],
          [
           "CTX2",
           165
          ],
          [
           "CTX3",
           166
          ],
          [
           "DG",
           167
          ],
          [
           "CA1",
           168
          ],
          [
           "CA3",
           169
          ],
          [
           "CTX1",
           170
          ],
          [
           "CTX2",
           171
          ],
          [
           "CTX3",
           172
          ],
          [
           "DG",
           173
          ],
          [
           "CA1",
           174
          ],
          [
           "CA3",
           175
          ],
          [
           "CTX1",
           176
          ],
          [
           "CTX2",
           177
          ],
          [
           "CTX3",
           178
          ],
          [
           "DG",
           179
          ],
          [
           "CA1",
           180
          ],
          [
           "CA3",
           181
          ],
          [
           "CTX1",
           182
          ],
          [
           "CTX2",
           183
          ],
          [
           "CTX3",
           184
          ],
          [
           "DG",
           185
          ],
          [
           "CA1",
           186
          ],
          [
           "CA3",
           187
          ],
          [
           "CTX1",
           188
          ],
          [
           "CTX2",
           189
          ],
          [
           "CTX3",
           190
          ],
          [
           "DG",
           191
          ],
          [
           "CA1",
           192
          ],
          [
           "CA3",
           193
          ],
          [
           "CTX1",
           194
          ],
          [
           "CTX2",
           195
          ],
          [
           "CTX3",
           196
          ],
          [
           "DG",
           197
          ],
          [
           "CA1",
           198
          ],
          [
           "CA3",
           199
          ],
          [
           "CTX1",
           200
          ],
          [
           "CTX2",
           201
          ],
          [
           "CTX3",
           202
          ],
          [
           "DG",
           203
          ],
          [
           "CA1",
           204
          ],
          [
           "CA3",
           205
          ],
          [
           "CTX1",
           206
          ],
          [
           "CTX2",
           207
          ],
          [
           "CTX3",
           208
          ],
          [
           "DG",
           209
          ],
          [
           "CA1",
           210
          ],
          [
           "CA3",
           211
          ],
          [
           "CTX1",
           212
          ],
          [
           "CTX2",
           213
          ],
          [
           "CTX3",
           214
          ],
          [
           "DG",
           215
          ],
          [
           "CA1",
           216
          ],
          [
           "CA3",
           217
          ],
          [
           "CTX1",
           218
          ],
          [
           "CTX2",
           219
          ],
          [
           "CTX3",
           220
          ],
          [
           "DG",
           221
          ],
          [
           "CA1",
           222
          ],
          [
           "CA3",
           223
          ],
          [
           "CTX1",
           224
          ],
          [
           "CTX2",
           225
          ],
          [
           "CTX3",
           226
          ],
          [
           "DG",
           227
          ],
          [
           "CA1",
           228
          ],
          [
           "CA3",
           229
          ],
          [
           "CTX1",
           230
          ],
          [
           "CTX2",
           231
          ],
          [
           "CTX3",
           232
          ],
          [
           "DG",
           233
          ],
          [
           "CA1",
           234
          ],
          [
           "CA3",
           235
          ],
          [
           "CTX1",
           236
          ],
          [
           "CTX2",
           237
          ],
          [
           "CTX3",
           238
          ],
          [
           "DG",
           239
          ],
          [
           "CA1",
           240
          ],
          [
           "CA3",
           241
          ],
          [
           "CTX1",
           242
          ],
          [
           "CTX2",
           243
          ],
          [
           "CTX3",
           244
          ],
          [
           "DG",
           245
          ],
          [
           "CA1",
           246
          ],
          [
           "CA3",
           247
          ],
          [
           "CTX1",
           248
          ],
          [
           "CTX2",
           249
          ],
          [
           "CTX3",
           250
          ],
          [
           "DG",
           251
          ]
         ],
         "hovertemplate": "staining_id=%{x}<br>%_glia+_signal=%{y}<br>tissue_location=%{customdata[0]}<br>index=%{customdata[1]}<extra></extra>",
         "legendgroup": "",
         "marker": {
          "color": "#636efa",
          "symbol": "circle"
         },
         "mode": "markers",
         "name": "",
         "orientation": "v",
         "showlegend": false,
         "type": "scatter",
         "x": [
          16,
          16,
          16,
          16,
          16,
          16,
          17,
          17,
          17,
          17,
          17,
          17,
          18,
          18,
          18,
          18,
          18,
          18,
          19,
          19,
          19,
          19,
          19,
          19,
          20,
          20,
          20,
          20,
          20,
          20,
          21,
          21,
          21,
          21,
          21,
          21,
          22,
          22,
          22,
          22,
          22,
          22,
          23,
          23,
          23,
          23,
          23,
          23,
          24,
          24,
          24,
          24,
          24,
          24,
          25,
          25,
          25,
          25,
          25,
          25,
          26,
          26,
          26,
          26,
          26,
          26,
          27,
          28,
          28,
          28,
          28,
          28,
          28,
          29,
          29,
          29,
          29,
          29,
          29,
          30,
          30,
          30,
          30,
          30,
          30,
          31,
          31,
          31,
          31,
          31,
          31,
          32,
          32,
          32,
          32,
          32,
          32,
          33,
          33,
          33,
          33,
          33,
          33,
          34,
          34,
          34,
          34,
          34,
          34,
          35,
          35,
          35,
          35,
          35,
          35,
          36,
          36,
          36,
          36,
          36,
          36,
          37,
          37,
          37,
          37,
          37,
          37,
          38,
          39,
          39,
          39,
          39,
          39,
          39,
          40,
          40,
          40,
          40,
          40,
          40,
          41,
          41,
          41,
          41,
          41,
          41,
          42,
          42,
          42,
          42,
          42,
          42,
          43,
          43,
          43,
          43,
          43,
          43,
          44,
          44,
          44,
          44,
          45,
          45,
          45,
          45,
          45,
          45,
          46,
          46,
          46,
          46,
          46,
          46,
          47,
          47,
          47,
          47,
          47,
          47,
          48,
          48,
          48,
          48,
          48,
          48,
          49,
          49,
          49,
          49,
          49,
          49,
          50,
          50,
          50,
          50,
          50,
          50,
          51,
          51,
          51,
          51,
          51,
          51,
          52,
          52,
          52,
          52,
          52,
          52,
          53,
          53,
          53,
          53,
          53,
          53,
          54,
          54,
          54,
          54,
          54,
          54,
          55,
          55,
          55,
          55,
          55,
          55,
          56,
          56,
          56,
          56,
          56,
          56,
          57,
          57,
          57,
          57,
          57,
          57,
          58,
          58,
          58,
          58,
          58,
          58,
          59,
          59,
          59,
          59,
          59,
          59
         ],
         "xaxis": "x",
         "y": [
          88.63372802734375,
          96.34952545166016,
          13.59844207763672,
          94.93074417114258,
          54.76894378662109,
          87.15362548828125,
          5.763816833496094,
          6.432056427001953,
          2.645301818847656,
          11.802101135253906,
          9.359455108642578,
          44.40708160400391,
          10.935688018798828,
          7.825183868408203,
          3.196430206298828,
          5.939960479736328,
          1.9624710083007808,
          53.77206802368164,
          97.84984588623048,
          98.4278678894043,
          98.5675811767578,
          92.62237548828124,
          87.97607421875,
          97.98297882080078,
          1.447296142578125,
          1.717853546142578,
          0.8257865905761719,
          2.0682334899902344,
          0.5598068237304688,
          2.923774719238281,
          2.5424957275390625,
          1.3544082641601562,
          3.311634063720703,
          3.338623046875,
          4.697036743164063,
          3.5135269165039062,
          6.178569793701172,
          3.7606239318847656,
          3.637123107910156,
          4.0191650390625,
          0.730133056640625,
          5.748558044433594,
          4.248046875,
          2.08120346069336,
          5.792427062988281,
          0.7174491882324219,
          2.988147735595703,
          7.934856414794922,
          0.7791519165039062,
          0.9073257446289062,
          1.7583847045898438,
          3.3802032470703125,
          1.4982223510742188,
          0.8672714233398438,
          3.17068099975586,
          2.813243865966797,
          3.438568115234375,
          6.374835968017578,
          2.7411460876464844,
          3.351020812988281,
          5.84564208984375,
          6.870269775390625,
          11.133575439453123,
          13.045120239257812,
          27.424240112304688,
          7.449054718017578,
          1.7447471618652344,
          2.5665283203125,
          2.448272705078125,
          3.2138824462890625,
          2.5005340576171875,
          2.412891387939453,
          7.0148468017578125,
          2.208709716796875,
          1.9129753112792969,
          5.022335052490234,
          7.678985595703125,
          3.7689208984375,
          2.2146224975585938,
          1.6625404357910156,
          1.3019561767578125,
          2.780723571777344,
          2.3637771606445312,
          1.4829635620117188,
          2.1762847900390625,
          3.847122192382813,
          1.217937469482422,
          3.5140037536621094,
          2.959632873535156,
          3.2898902893066406,
          3.90176773071289,
          14.134979248046877,
          14.082717895507812,
          14.151763916015623,
          17.71411895751953,
          10.771465301513672,
          27.629661560058597,
          2.395153045654297,
          1.8873214721679688,
          1.194000244140625,
          2.6653289794921875,
          2.5826454162597656,
          3.2654762268066406,
          5.395984649658203,
          4.882526397705078,
          6.429195404052734,
          9.55486297607422,
          7.129859924316406,
          9.005355834960938,
          3.268909454345703,
          21.71812057495117,
          4.521656036376953,
          49.62272644042969,
          36.1638069152832,
          46.29859924316406,
          2.2858619689941406,
          1.1386871337890625,
          3.605270385742188,
          4.596138000488281,
          2.627086639404297,
          1.8873214721679688,
          1.4169692993164062,
          3.2583236694335938,
          2.8922080993652344,
          6.322193145751953,
          5.652999877929688,
          2.9592514038085938,
          1.724529266357422,
          1.2140274047851562,
          1.1082649230957031,
          0.3711700439453125,
          0.3496170043945312,
          0.2208709716796875,
          1.7183303833007812,
          1.3429641723632812,
          1.7145156860351562,
          3.7994384765625,
          3.754806518554688,
          4.794597625732422,
          0.7130622863769531,
          0.4645347595214844,
          0.6657600402832031,
          0.0162124633789062,
          0.2507209777832031,
          0.83465576171875,
          0.9260177612304688,
          0.5733489990234375,
          0.9168624877929688,
          0.74462890625,
          1.824378967285156,
          0.9996414184570312,
          0.988483428955078,
          3.304767608642578,
          5.7796478271484375,
          12.746238708496094,
          7.944774627685547,
          7.372093200683594,
          16.925048828125,
          45.28112411499024,
          48.995113372802734,
          61.879920959472656,
          39.72511291503906,
          6.223964691162109,
          5.231571197509766,
          4.201602935791016,
          4.376411437988281,
          3.458404541015625,
          7.775020599365234,
          47.70441055297852,
          31.574440002441406,
          46.37212753295898,
          51.16119384765625,
          32.654476165771484,
          56.203651428222656,
          6.558036804199219,
          8.901691436767578,
          5.655956268310547,
          30.04922866821289,
          14.159202575683594,
          13.895225524902344,
          3.3704757690429688,
          2.537250518798828,
          4.6924591064453125,
          3.786659240722656,
          3.594589233398437,
          5.111885070800781,
          8.189868927001953,
          6.575107574462891,
          8.087635040283203,
          6.462860107421875,
          2.49490737915039,
          14.119243621826172,
          4.873561859130859,
          3.848457336425781,
          6.229019165039063,
          5.149269104003906,
          5.641460418701172,
          5.594158172607422,
          6.222438812255859,
          6.045722961425781,
          4.617595672607422,
          7.056903839111328,
          9.714698791503906,
          6.879520416259766,
          5.399608612060547,
          4.315376281738281,
          7.786273956298828,
          10.270881652832031,
          10.033130645751951,
          7.422256469726562,
          2.5342941284179688,
          2.4756431579589844,
          7.878398895263672,
          7.045269012451172,
          5.187797546386719,
          3.43008041381836,
          2.426910400390625,
          1.7024993896484375,
          4.989528656005859,
          3.8888931274414062,
          5.550861358642578,
          3.528308868408203,
          1.777362823486328,
          1.872539520263672,
          1.2282371520996094,
          3.083038330078125,
          0.5826950073242188,
          2.5461196899414062,
          4.4521331787109375,
          4.624557495117188,
          5.258560180664063,
          5.3241729736328125,
          4.150867462158203,
          5.023097991943359,
          2.201366424560547,
          4.8095703125,
          2.260112762451172,
          1.4965057373046875,
          1.306438446044922,
          5.2936553955078125,
          2.06155776977539,
          1.918315887451172,
          4.450321197509766,
          2.5277137756347656,
          0.5662918090820312,
          1.5165328979492188,
          3.539466857910156,
          2.4675369262695312,
          3.9608001708984375,
          6.726360321044922,
          5.142498016357422,
          3.248310089111328
         ],
         "yaxis": "y"
        }
       ],
       "layout": {
        "legend": {
         "tracegroupgap": 0
        },
        "template": {
         "data": {
          "bar": [
           {
            "error_x": {
             "color": "#2a3f5f"
            },
            "error_y": {
             "color": "#2a3f5f"
            },
            "marker": {
             "line": {
              "color": "#E5ECF6",
              "width": 0.5
             },
             "pattern": {
              "fillmode": "overlay",
              "size": 10,
              "solidity": 0.2
             }
            },
            "type": "bar"
           }
          ],
          "barpolar": [
           {
            "marker": {
             "line": {
              "color": "#E5ECF6",
              "width": 0.5
             },
             "pattern": {
              "fillmode": "overlay",
              "size": 10,
              "solidity": 0.2
             }
            },
            "type": "barpolar"
           }
          ],
          "carpet": [
           {
            "aaxis": {
             "endlinecolor": "#2a3f5f",
             "gridcolor": "white",
             "linecolor": "white",
             "minorgridcolor": "white",
             "startlinecolor": "#2a3f5f"
            },
            "baxis": {
             "endlinecolor": "#2a3f5f",
             "gridcolor": "white",
             "linecolor": "white",
             "minorgridcolor": "white",
             "startlinecolor": "#2a3f5f"
            },
            "type": "carpet"
           }
          ],
          "choropleth": [
           {
            "colorbar": {
             "outlinewidth": 0,
             "ticks": ""
            },
            "type": "choropleth"
           }
          ],
          "contour": [
           {
            "colorbar": {
             "outlinewidth": 0,
             "ticks": ""
            },
            "colorscale": [
             [
              0,
              "#0d0887"
             ],
             [
              0.1111111111111111,
              "#46039f"
             ],
             [
              0.2222222222222222,
              "#7201a8"
             ],
             [
              0.3333333333333333,
              "#9c179e"
             ],
             [
              0.4444444444444444,
              "#bd3786"
             ],
             [
              0.5555555555555556,
              "#d8576b"
             ],
             [
              0.6666666666666666,
              "#ed7953"
             ],
             [
              0.7777777777777778,
              "#fb9f3a"
             ],
             [
              0.8888888888888888,
              "#fdca26"
             ],
             [
              1,
              "#f0f921"
             ]
            ],
            "type": "contour"
           }
          ],
          "contourcarpet": [
           {
            "colorbar": {
             "outlinewidth": 0,
             "ticks": ""
            },
            "type": "contourcarpet"
           }
          ],
          "heatmap": [
           {
            "colorbar": {
             "outlinewidth": 0,
             "ticks": ""
            },
            "colorscale": [
             [
              0,
              "#0d0887"
             ],
             [
              0.1111111111111111,
              "#46039f"
             ],
             [
              0.2222222222222222,
              "#7201a8"
             ],
             [
              0.3333333333333333,
              "#9c179e"
             ],
             [
              0.4444444444444444,
              "#bd3786"
             ],
             [
              0.5555555555555556,
              "#d8576b"
             ],
             [
              0.6666666666666666,
              "#ed7953"
             ],
             [
              0.7777777777777778,
              "#fb9f3a"
             ],
             [
              0.8888888888888888,
              "#fdca26"
             ],
             [
              1,
              "#f0f921"
             ]
            ],
            "type": "heatmap"
           }
          ],
          "heatmapgl": [
           {
            "colorbar": {
             "outlinewidth": 0,
             "ticks": ""
            },
            "colorscale": [
             [
              0,
              "#0d0887"
             ],
             [
              0.1111111111111111,
              "#46039f"
             ],
             [
              0.2222222222222222,
              "#7201a8"
             ],
             [
              0.3333333333333333,
              "#9c179e"
             ],
             [
              0.4444444444444444,
              "#bd3786"
             ],
             [
              0.5555555555555556,
              "#d8576b"
             ],
             [
              0.6666666666666666,
              "#ed7953"
             ],
             [
              0.7777777777777778,
              "#fb9f3a"
             ],
             [
              0.8888888888888888,
              "#fdca26"
             ],
             [
              1,
              "#f0f921"
             ]
            ],
            "type": "heatmapgl"
           }
          ],
          "histogram": [
           {
            "marker": {
             "pattern": {
              "fillmode": "overlay",
              "size": 10,
              "solidity": 0.2
             }
            },
            "type": "histogram"
           }
          ],
          "histogram2d": [
           {
            "colorbar": {
             "outlinewidth": 0,
             "ticks": ""
            },
            "colorscale": [
             [
              0,
              "#0d0887"
             ],
             [
              0.1111111111111111,
              "#46039f"
             ],
             [
              0.2222222222222222,
              "#7201a8"
             ],
             [
              0.3333333333333333,
              "#9c179e"
             ],
             [
              0.4444444444444444,
              "#bd3786"
             ],
             [
              0.5555555555555556,
              "#d8576b"
             ],
             [
              0.6666666666666666,
              "#ed7953"
             ],
             [
              0.7777777777777778,
              "#fb9f3a"
             ],
             [
              0.8888888888888888,
              "#fdca26"
             ],
             [
              1,
              "#f0f921"
             ]
            ],
            "type": "histogram2d"
           }
          ],
          "histogram2dcontour": [
           {
            "colorbar": {
             "outlinewidth": 0,
             "ticks": ""
            },
            "colorscale": [
             [
              0,
              "#0d0887"
             ],
             [
              0.1111111111111111,
              "#46039f"
             ],
             [
              0.2222222222222222,
              "#7201a8"
             ],
             [
              0.3333333333333333,
              "#9c179e"
             ],
             [
              0.4444444444444444,
              "#bd3786"
             ],
             [
              0.5555555555555556,
              "#d8576b"
             ],
             [
              0.6666666666666666,
              "#ed7953"
             ],
             [
              0.7777777777777778,
              "#fb9f3a"
             ],
             [
              0.8888888888888888,
              "#fdca26"
             ],
             [
              1,
              "#f0f921"
             ]
            ],
            "type": "histogram2dcontour"
           }
          ],
          "mesh3d": [
           {
            "colorbar": {
             "outlinewidth": 0,
             "ticks": ""
            },
            "type": "mesh3d"
           }
          ],
          "parcoords": [
           {
            "line": {
             "colorbar": {
              "outlinewidth": 0,
              "ticks": ""
             }
            },
            "type": "parcoords"
           }
          ],
          "pie": [
           {
            "automargin": true,
            "type": "pie"
           }
          ],
          "scatter": [
           {
            "fillpattern": {
             "fillmode": "overlay",
             "size": 10,
             "solidity": 0.2
            },
            "type": "scatter"
           }
          ],
          "scatter3d": [
           {
            "line": {
             "colorbar": {
              "outlinewidth": 0,
              "ticks": ""
             }
            },
            "marker": {
             "colorbar": {
              "outlinewidth": 0,
              "ticks": ""
             }
            },
            "type": "scatter3d"
           }
          ],
          "scattercarpet": [
           {
            "marker": {
             "colorbar": {
              "outlinewidth": 0,
              "ticks": ""
             }
            },
            "type": "scattercarpet"
           }
          ],
          "scattergeo": [
           {
            "marker": {
             "colorbar": {
              "outlinewidth": 0,
              "ticks": ""
             }
            },
            "type": "scattergeo"
           }
          ],
          "scattergl": [
           {
            "marker": {
             "colorbar": {
              "outlinewidth": 0,
              "ticks": ""
             }
            },
            "type": "scattergl"
           }
          ],
          "scattermapbox": [
           {
            "marker": {
             "colorbar": {
              "outlinewidth": 0,
              "ticks": ""
             }
            },
            "type": "scattermapbox"
           }
          ],
          "scatterpolar": [
           {
            "marker": {
             "colorbar": {
              "outlinewidth": 0,
              "ticks": ""
             }
            },
            "type": "scatterpolar"
           }
          ],
          "scatterpolargl": [
           {
            "marker": {
             "colorbar": {
              "outlinewidth": 0,
              "ticks": ""
             }
            },
            "type": "scatterpolargl"
           }
          ],
          "scatterternary": [
           {
            "marker": {
             "colorbar": {
              "outlinewidth": 0,
              "ticks": ""
             }
            },
            "type": "scatterternary"
           }
          ],
          "surface": [
           {
            "colorbar": {
             "outlinewidth": 0,
             "ticks": ""
            },
            "colorscale": [
             [
              0,
              "#0d0887"
             ],
             [
              0.1111111111111111,
              "#46039f"
             ],
             [
              0.2222222222222222,
              "#7201a8"
             ],
             [
              0.3333333333333333,
              "#9c179e"
             ],
             [
              0.4444444444444444,
              "#bd3786"
             ],
             [
              0.5555555555555556,
              "#d8576b"
             ],
             [
              0.6666666666666666,
              "#ed7953"
             ],
             [
              0.7777777777777778,
              "#fb9f3a"
             ],
             [
              0.8888888888888888,
              "#fdca26"
             ],
             [
              1,
              "#f0f921"
             ]
            ],
            "type": "surface"
           }
          ],
          "table": [
           {
            "cells": {
             "fill": {
              "color": "#EBF0F8"
             },
             "line": {
              "color": "white"
             }
            },
            "header": {
             "fill": {
              "color": "#C8D4E3"
             },
             "line": {
              "color": "white"
             }
            },
            "type": "table"
           }
          ]
         },
         "layout": {
          "annotationdefaults": {
           "arrowcolor": "#2a3f5f",
           "arrowhead": 0,
           "arrowwidth": 1
          },
          "autotypenumbers": "strict",
          "coloraxis": {
           "colorbar": {
            "outlinewidth": 0,
            "ticks": ""
           }
          },
          "colorscale": {
           "diverging": [
            [
             0,
             "#8e0152"
            ],
            [
             0.1,
             "#c51b7d"
            ],
            [
             0.2,
             "#de77ae"
            ],
            [
             0.3,
             "#f1b6da"
            ],
            [
             0.4,
             "#fde0ef"
            ],
            [
             0.5,
             "#f7f7f7"
            ],
            [
             0.6,
             "#e6f5d0"
            ],
            [
             0.7,
             "#b8e186"
            ],
            [
             0.8,
             "#7fbc41"
            ],
            [
             0.9,
             "#4d9221"
            ],
            [
             1,
             "#276419"
            ]
           ],
           "sequential": [
            [
             0,
             "#0d0887"
            ],
            [
             0.1111111111111111,
             "#46039f"
            ],
            [
             0.2222222222222222,
             "#7201a8"
            ],
            [
             0.3333333333333333,
             "#9c179e"
            ],
            [
             0.4444444444444444,
             "#bd3786"
            ],
            [
             0.5555555555555556,
             "#d8576b"
            ],
            [
             0.6666666666666666,
             "#ed7953"
            ],
            [
             0.7777777777777778,
             "#fb9f3a"
            ],
            [
             0.8888888888888888,
             "#fdca26"
            ],
            [
             1,
             "#f0f921"
            ]
           ],
           "sequentialminus": [
            [
             0,
             "#0d0887"
            ],
            [
             0.1111111111111111,
             "#46039f"
            ],
            [
             0.2222222222222222,
             "#7201a8"
            ],
            [
             0.3333333333333333,
             "#9c179e"
            ],
            [
             0.4444444444444444,
             "#bd3786"
            ],
            [
             0.5555555555555556,
             "#d8576b"
            ],
            [
             0.6666666666666666,
             "#ed7953"
            ],
            [
             0.7777777777777778,
             "#fb9f3a"
            ],
            [
             0.8888888888888888,
             "#fdca26"
            ],
            [
             1,
             "#f0f921"
            ]
           ]
          },
          "colorway": [
           "#636efa",
           "#EF553B",
           "#00cc96",
           "#ab63fa",
           "#FFA15A",
           "#19d3f3",
           "#FF6692",
           "#B6E880",
           "#FF97FF",
           "#FECB52"
          ],
          "font": {
           "color": "#2a3f5f"
          },
          "geo": {
           "bgcolor": "white",
           "lakecolor": "white",
           "landcolor": "#E5ECF6",
           "showlakes": true,
           "showland": true,
           "subunitcolor": "white"
          },
          "hoverlabel": {
           "align": "left"
          },
          "hovermode": "closest",
          "mapbox": {
           "style": "light"
          },
          "paper_bgcolor": "white",
          "plot_bgcolor": "#E5ECF6",
          "polar": {
           "angularaxis": {
            "gridcolor": "white",
            "linecolor": "white",
            "ticks": ""
           },
           "bgcolor": "#E5ECF6",
           "radialaxis": {
            "gridcolor": "white",
            "linecolor": "white",
            "ticks": ""
           }
          },
          "scene": {
           "xaxis": {
            "backgroundcolor": "#E5ECF6",
            "gridcolor": "white",
            "gridwidth": 2,
            "linecolor": "white",
            "showbackground": true,
            "ticks": "",
            "zerolinecolor": "white"
           },
           "yaxis": {
            "backgroundcolor": "#E5ECF6",
            "gridcolor": "white",
            "gridwidth": 2,
            "linecolor": "white",
            "showbackground": true,
            "ticks": "",
            "zerolinecolor": "white"
           },
           "zaxis": {
            "backgroundcolor": "#E5ECF6",
            "gridcolor": "white",
            "gridwidth": 2,
            "linecolor": "white",
            "showbackground": true,
            "ticks": "",
            "zerolinecolor": "white"
           }
          },
          "shapedefaults": {
           "line": {
            "color": "#2a3f5f"
           }
          },
          "ternary": {
           "aaxis": {
            "gridcolor": "white",
            "linecolor": "white",
            "ticks": ""
           },
           "baxis": {
            "gridcolor": "white",
            "linecolor": "white",
            "ticks": ""
           },
           "bgcolor": "#E5ECF6",
           "caxis": {
            "gridcolor": "white",
            "linecolor": "white",
            "ticks": ""
           }
          },
          "title": {
           "x": 0.05
          },
          "xaxis": {
           "automargin": true,
           "gridcolor": "white",
           "linecolor": "white",
           "ticks": "",
           "title": {
            "standoff": 15
           },
           "zerolinecolor": "white",
           "zerolinewidth": 2
          },
          "yaxis": {
           "automargin": true,
           "gridcolor": "white",
           "linecolor": "white",
           "ticks": "",
           "title": {
            "standoff": 15
           },
           "zerolinecolor": "white",
           "zerolinewidth": 2
          }
         }
        },
        "title": {
         "text": "Glia mask area (QC) - cellpdia30_sigma1_dilrad4_dnad_obj_seg_v2_gliaero6_gliathr20_dnadero2"
        },
        "xaxis": {
         "anchor": "y",
         "domain": [
          0,
          1
         ],
         "title": {
          "text": "staining_id"
         }
        },
        "yaxis": {
         "anchor": "x",
         "domain": [
          0,
          1
         ],
         "title": {
          "text": "%_glia+_signal"
         }
        }
       }
      }
     },
     "metadata": {},
     "output_type": "display_data"
    }
   ],
   "source": [
    "# Create the plot\n",
    "fig = px.scatter(df, x='staining_id', y='%_glia+_signal',\n",
    "                 hover_data=['tissue_location','index'], title=f'Glia mask area (QC) - {title}')\n",
    "\n",
    "# Show the plot\n",
    "fig.show()"
   ]
  },
  {
   "cell_type": "markdown",
   "metadata": {},
   "source": [
    "We can observe there is a number of outliers in the glial and dna damage mask detection given the staining is suboptimal in some of the samples. I will filter the data to remove those suboptimal stains and just plot the optimal ones where the automated image analysis offers reliable results."
   ]
  },
  {
   "cell_type": "code",
   "execution_count": 13,
   "metadata": {},
   "outputs": [
    {
     "name": "stdout",
     "output_type": "stream",
     "text": [
      "Glia_mask_area_%_mean: 11.002078888908265, Dna_damage_mask_area_%_mean: 0.49197030445886036\n"
     ]
    }
   ],
   "source": [
    "# Calculate mean area of the image occupied by glia+ signal\n",
    "glia_mask_area_mean = df['%_glia+_signal'].mean() \n",
    "\n",
    "# Calculate mean area of the image occupied by dna_damage_+ signal\n",
    "dna_damage_mask_area_mean = df['%_dna_damage_signal'].mean() \n",
    "\n",
    "# Print extracted values\n",
    "print(f\"Glia_mask_area_%_mean: {glia_mask_area_mean}, Dna_damage_mask_area_%_mean: {dna_damage_mask_area_mean}\") "
   ]
  },
  {
   "cell_type": "code",
   "execution_count": 14,
   "metadata": {},
   "outputs": [
    {
     "data": {
      "text/html": [
       "<div>\n",
       "<style scoped>\n",
       "    .dataframe tbody tr th:only-of-type {\n",
       "        vertical-align: middle;\n",
       "    }\n",
       "\n",
       "    .dataframe tbody tr th {\n",
       "        vertical-align: top;\n",
       "    }\n",
       "\n",
       "    .dataframe thead th {\n",
       "        text-align: right;\n",
       "    }\n",
       "</style>\n",
       "<table border=\"1\" class=\"dataframe\">\n",
       "  <thead>\n",
       "    <tr style=\"text-align: right;\">\n",
       "      <th></th>\n",
       "      <th>index</th>\n",
       "      <th>filename</th>\n",
       "      <th>avg_dna_damage_foci/glia_+</th>\n",
       "      <th>avg_dna_damage_foci/glia_+_damage_+</th>\n",
       "      <th>avg_dna_damage_foci/all_nuclei</th>\n",
       "      <th>avg_dna_damage_foci/all_nuclei_damage_+</th>\n",
       "      <th>nr_+_dna_damage_glia_nuclei</th>\n",
       "      <th>nr_-_dna_damage_glia_nuclei</th>\n",
       "      <th>nr_glia_+_nuclei</th>\n",
       "      <th>nr_total_nuclei</th>\n",
       "      <th>...</th>\n",
       "      <th>tissue_location</th>\n",
       "      <th>staining_id</th>\n",
       "      <th>animal_id</th>\n",
       "      <th>sex</th>\n",
       "      <th>genotype</th>\n",
       "      <th>dna_damage_stain_quality_manual</th>\n",
       "      <th>manual_qc</th>\n",
       "      <th>glia_stain_quality_auto</th>\n",
       "      <th>dna_damage_stain_quality_auto</th>\n",
       "      <th>staining_qc_passed</th>\n",
       "    </tr>\n",
       "  </thead>\n",
       "  <tbody>\n",
       "    <tr>\n",
       "      <th>0</th>\n",
       "      <td>0</td>\n",
       "      <td>DSB Iba1 16_40X_CA1</td>\n",
       "      <td>0.312169</td>\n",
       "      <td>1.035088</td>\n",
       "      <td>0.314655</td>\n",
       "      <td>1.028169</td>\n",
       "      <td>57</td>\n",
       "      <td>132</td>\n",
       "      <td>189</td>\n",
       "      <td>232</td>\n",
       "      <td>...</td>\n",
       "      <td>CA1</td>\n",
       "      <td>16</td>\n",
       "      <td>887</td>\n",
       "      <td>male</td>\n",
       "      <td>APP/PS1</td>\n",
       "      <td>poor</td>\n",
       "      <td>failed</td>\n",
       "      <td>suboptimal</td>\n",
       "      <td>optimal</td>\n",
       "      <td>False</td>\n",
       "    </tr>\n",
       "    <tr>\n",
       "      <th>1</th>\n",
       "      <td>1</td>\n",
       "      <td>DSB Iba1 16_40X_CA3</td>\n",
       "      <td>0.800000</td>\n",
       "      <td>1.761905</td>\n",
       "      <td>0.776042</td>\n",
       "      <td>1.752941</td>\n",
       "      <td>84</td>\n",
       "      <td>101</td>\n",
       "      <td>185</td>\n",
       "      <td>192</td>\n",
       "      <td>...</td>\n",
       "      <td>CA3</td>\n",
       "      <td>16</td>\n",
       "      <td>887</td>\n",
       "      <td>male</td>\n",
       "      <td>APP/PS1</td>\n",
       "      <td>poor</td>\n",
       "      <td>failed</td>\n",
       "      <td>suboptimal</td>\n",
       "      <td>optimal</td>\n",
       "      <td>False</td>\n",
       "    </tr>\n",
       "    <tr>\n",
       "      <th>2</th>\n",
       "      <td>2</td>\n",
       "      <td>DSB Iba1 16_40X_CTX1</td>\n",
       "      <td>0.071429</td>\n",
       "      <td>1.000000</td>\n",
       "      <td>0.179487</td>\n",
       "      <td>1.020833</td>\n",
       "      <td>3</td>\n",
       "      <td>39</td>\n",
       "      <td>42</td>\n",
       "      <td>272</td>\n",
       "      <td>...</td>\n",
       "      <td>CTX1</td>\n",
       "      <td>16</td>\n",
       "      <td>887</td>\n",
       "      <td>male</td>\n",
       "      <td>APP/PS1</td>\n",
       "      <td>poor</td>\n",
       "      <td>failed</td>\n",
       "      <td>optimal</td>\n",
       "      <td>optimal</td>\n",
       "      <td>False</td>\n",
       "    </tr>\n",
       "    <tr>\n",
       "      <th>3</th>\n",
       "      <td>3</td>\n",
       "      <td>DSB Iba1 16_40X_CTX2</td>\n",
       "      <td>0.522822</td>\n",
       "      <td>1.272727</td>\n",
       "      <td>0.494340</td>\n",
       "      <td>1.259615</td>\n",
       "      <td>99</td>\n",
       "      <td>142</td>\n",
       "      <td>241</td>\n",
       "      <td>265</td>\n",
       "      <td>...</td>\n",
       "      <td>CTX2</td>\n",
       "      <td>16</td>\n",
       "      <td>887</td>\n",
       "      <td>male</td>\n",
       "      <td>APP/PS1</td>\n",
       "      <td>poor</td>\n",
       "      <td>failed</td>\n",
       "      <td>suboptimal</td>\n",
       "      <td>optimal</td>\n",
       "      <td>False</td>\n",
       "    </tr>\n",
       "    <tr>\n",
       "      <th>4</th>\n",
       "      <td>4</td>\n",
       "      <td>DSB Iba1 16_40X_CTX3</td>\n",
       "      <td>0.586538</td>\n",
       "      <td>1.297872</td>\n",
       "      <td>0.537190</td>\n",
       "      <td>1.354167</td>\n",
       "      <td>47</td>\n",
       "      <td>57</td>\n",
       "      <td>104</td>\n",
       "      <td>242</td>\n",
       "      <td>...</td>\n",
       "      <td>CTX3</td>\n",
       "      <td>16</td>\n",
       "      <td>887</td>\n",
       "      <td>male</td>\n",
       "      <td>APP/PS1</td>\n",
       "      <td>poor</td>\n",
       "      <td>failed</td>\n",
       "      <td>suboptimal</td>\n",
       "      <td>optimal</td>\n",
       "      <td>False</td>\n",
       "    </tr>\n",
       "  </tbody>\n",
       "</table>\n",
       "<p>5 rows × 22 columns</p>\n",
       "</div>"
      ],
      "text/plain": [
       "   index              filename  avg_dna_damage_foci/glia_+  \\\n",
       "0      0   DSB Iba1 16_40X_CA1                    0.312169   \n",
       "1      1   DSB Iba1 16_40X_CA3                    0.800000   \n",
       "2      2  DSB Iba1 16_40X_CTX1                    0.071429   \n",
       "3      3  DSB Iba1 16_40X_CTX2                    0.522822   \n",
       "4      4  DSB Iba1 16_40X_CTX3                    0.586538   \n",
       "\n",
       "   avg_dna_damage_foci/glia_+_damage_+  avg_dna_damage_foci/all_nuclei  \\\n",
       "0                             1.035088                        0.314655   \n",
       "1                             1.761905                        0.776042   \n",
       "2                             1.000000                        0.179487   \n",
       "3                             1.272727                        0.494340   \n",
       "4                             1.297872                        0.537190   \n",
       "\n",
       "   avg_dna_damage_foci/all_nuclei_damage_+  nr_+_dna_damage_glia_nuclei  \\\n",
       "0                                 1.028169                           57   \n",
       "1                                 1.752941                           84   \n",
       "2                                 1.020833                            3   \n",
       "3                                 1.259615                           99   \n",
       "4                                 1.354167                           47   \n",
       "\n",
       "   nr_-_dna_damage_glia_nuclei  nr_glia_+_nuclei  nr_total_nuclei  ...  \\\n",
       "0                          132               189              232  ...   \n",
       "1                          101               185              192  ...   \n",
       "2                           39                42              272  ...   \n",
       "3                          142               241              265  ...   \n",
       "4                           57               104              242  ...   \n",
       "\n",
       "   tissue_location  staining_id animal_id   sex  genotype  \\\n",
       "0              CA1           16       887  male   APP/PS1   \n",
       "1              CA3           16       887  male   APP/PS1   \n",
       "2             CTX1           16       887  male   APP/PS1   \n",
       "3             CTX2           16       887  male   APP/PS1   \n",
       "4             CTX3           16       887  male   APP/PS1   \n",
       "\n",
       "  dna_damage_stain_quality_manual manual_qc glia_stain_quality_auto  \\\n",
       "0                            poor    failed              suboptimal   \n",
       "1                            poor    failed              suboptimal   \n",
       "2                            poor    failed                 optimal   \n",
       "3                            poor    failed              suboptimal   \n",
       "4                            poor    failed              suboptimal   \n",
       "\n",
       "  dna_damage_stain_quality_auto staining_qc_passed  \n",
       "0                       optimal              False  \n",
       "1                       optimal              False  \n",
       "2                       optimal              False  \n",
       "3                       optimal              False  \n",
       "4                       optimal              False  \n",
       "\n",
       "[5 rows x 22 columns]"
      ]
     },
     "execution_count": 14,
     "metadata": {},
     "output_type": "execute_result"
    }
   ],
   "source": [
    "# Define a function to determine staining quality, anything above 3 times the mean value is considered an outlier\n",
    "def determine_stain_quality(value, mean_value):\n",
    "    if value < (mean_value + mean_value*3):\n",
    "        return \"optimal\"\n",
    "    else:\n",
    "        return \"suboptimal\"\n",
    "\n",
    "# Check stain quality for glia and create another column storing optimal or suboptimal if qc_passed or not    \n",
    "merged_df['glia_stain_quality_auto'] = merged_df['%_glia+_signal'].apply(lambda x: determine_stain_quality(x, glia_mask_area_mean))\n",
    "\n",
    "# Check stain quality for dna_damage and create another column storing optimal or suboptimal if qc_passed or not \n",
    "merged_df['dna_damage_stain_quality_auto'] = merged_df['%_dna_damage_signal'].apply(lambda x: determine_stain_quality(x, dna_damage_mask_area_mean))\n",
    "\n",
    "# Check for both stain qualities and store True qc_passed if both are optimal\n",
    "merged_df['staining_qc_passed'] = (merged_df['glia_stain_quality_auto'] == 'optimal') & (merged_df['dna_damage_stain_quality_auto'] == 'optimal')\n",
    "\n",
    "# Group the DataFrame by 'staining_id' and check if all 'staining_qc_passed' values are True, otherwise set them all to False\n",
    "merged_df['staining_qc_passed'] = merged_df.groupby('staining_id')['staining_qc_passed'].transform('all')\n",
    "\n",
    "# Now, if all 'staining_qc_passed' values for the same 'staining_id' were True, the column will remain True; otherwise, it will be False\n",
    "\n",
    "merged_df.head()"
   ]
  },
  {
   "cell_type": "code",
   "execution_count": 15,
   "metadata": {},
   "outputs": [],
   "source": [
    "if glia_segmenter:\n",
    "    merged_df.to_csv(\n",
    "        f\"./results/qc_cellpdia{cellpose_nuclei_diameter}_sigma{gaussian_sigma}_dilrad{dilation_radius_nuclei}_dnad_obj_seg_v{dna_damage_segmenter_version}_gliaero{glia_nuclei_colocalization_erosion}_glia_sem_seg_v{glia_segmenter_version}_dnadero{dna_damage_erosion}.csv\",\n",
    "        index=False,\n",
    "    )\n",
    "else:\n",
    "    merged_df.to_csv(\n",
    "        f\"./results/qc_cellpdia{cellpose_nuclei_diameter}_sigma{gaussian_sigma}_dilrad{dilation_radius_nuclei}_dnad_obj_seg_v{dna_damage_segmenter_version}_gliaero{glia_nuclei_colocalization_erosion}_gliathr{glia_channel_threshold}_dnadero{dna_damage_erosion}.csv\",\n",
    "        index=False,\n",
    "    )"
   ]
  },
  {
   "cell_type": "code",
   "execution_count": 16,
   "metadata": {},
   "outputs": [],
   "source": [
    "# Remove data from images with a poor quality stain (auto QC)\n",
    "auto_filtered_df = merged_df[merged_df['staining_qc_passed'] == True]"
   ]
  },
  {
   "cell_type": "code",
   "execution_count": 17,
   "metadata": {},
   "outputs": [
    {
     "data": {
      "application/vnd.plotly.v1+json": {
       "config": {
        "plotlyServerURL": "https://plot.ly"
       },
       "data": [
        {
         "alignmentgroup": "True",
         "hovertemplate": "genotype=APP/PS1 x Neil3 KO<br>tissue_location=%{x}<br>avg_dna_damage_foci/glia_+=%{y}<extra></extra>",
         "legendgroup": "APP/PS1 x Neil3 KO",
         "marker": {
          "color": "#636efa"
         },
         "name": "APP/PS1 x Neil3 KO",
         "notched": false,
         "offsetgroup": "APP/PS1 x Neil3 KO",
         "orientation": "v",
         "showlegend": true,
         "type": "box",
         "x": [
          "CA1",
          "CA3",
          "CTX1",
          "CTX2",
          "CTX3",
          "DG",
          "CA1",
          "CA3",
          "CTX1",
          "CTX2",
          "CTX3",
          "DG",
          "CA1",
          "CA3",
          "CTX1",
          "CTX2",
          "CTX3",
          "DG",
          "CA1",
          "CA3",
          "CTX1",
          "CTX2",
          "CTX3",
          "DG",
          "CA1",
          "CA3",
          "CTX1",
          "CTX2",
          "CTX3",
          "DG",
          "CA1",
          "CA3",
          "CTX1",
          "CTX2",
          "CTX3",
          "DG",
          "CA1",
          "CA3",
          "CTX1",
          "CTX2",
          "CTX3",
          "DG",
          "DG",
          "CA1",
          "CA3",
          "CTX1",
          "CTX2",
          "CTX3",
          "DG",
          "CA1",
          "CA3",
          "CTX1",
          "CTX2",
          "CTX3",
          "DG",
          "CA1",
          "CA3",
          "CTX1",
          "CTX2",
          "CTX3",
          "DG",
          "CA1",
          "CA3",
          "CTX1",
          "CTX2",
          "CTX3",
          "DG",
          "CA1",
          "CA3",
          "CTX1",
          "CTX2",
          "CTX3",
          "DG",
          "CA1",
          "CA3",
          "CTX1",
          "CTX2",
          "CTX3",
          "DG",
          "CA1",
          "CA3",
          "CTX1",
          "CTX2",
          "CTX3",
          "DG",
          "CA1",
          "CA3",
          "CTX1",
          "CTX2",
          "CTX3",
          "DG",
          "CA1",
          "CA3",
          "CTX1",
          "CTX2",
          "CTX3",
          "DG"
         ],
         "x0": " ",
         "xaxis": "x",
         "y": [
          0.6666666666666666,
          1.2,
          0.6,
          1.0909090909090908,
          0.3333333333333333,
          1,
          1,
          0.5,
          1.4705882352941178,
          1.0666666666666669,
          1.173913043478261,
          0.8,
          1,
          1.2,
          0.625,
          0.4,
          0.6363636363636364,
          0.8333333333333334,
          0,
          0,
          0.3333333333333333,
          0.6923076923076923,
          0.8181818181818182,
          1.9411764705882355,
          1.1,
          1,
          1.0625,
          1.1153846153846154,
          0.6875,
          1,
          0.6111111111111112,
          0.8235294117647058,
          0.4666666666666667,
          0.6842105263157895,
          0.6666666666666666,
          0.6229508196721312,
          1,
          0.8571428571428571,
          0.6,
          1.1333333333333333,
          0.5555555555555556,
          0.75,
          0.5,
          0.5,
          0.625,
          1,
          0.6363636363636364,
          1.0833333333333333,
          1.6,
          0.5,
          0,
          null,
          0,
          0.4,
          0.8333333333333334,
          1.0625,
          1,
          0.3333333333333333,
          0.68,
          0.4117647058823529,
          1.4090909090909092,
          0.6111111111111112,
          0.1333333333333333,
          0.125,
          0.2222222222222222,
          0.2352941176470588,
          0.4285714285714285,
          0.0769230769230769,
          0,
          0,
          0.0714285714285714,
          0.3548387096774194,
          0.4,
          0.6,
          0.7142857142857143,
          0.0434782608695652,
          0.5161290322580645,
          0.4615384615384615,
          0.4375,
          0.4545454545454545,
          0.875,
          0.8571428571428571,
          0.4166666666666667,
          0.3636363636363636,
          0.4642857142857143,
          1.25,
          0.5,
          0.9411764705882352,
          0.9375,
          0.3333333333333333,
          0.5,
          0.8,
          0.6,
          0.4444444444444444,
          0.5,
          0.6086956521739131,
          1
         ],
         "y0": " ",
         "yaxis": "y"
        },
        {
         "alignmentgroup": "True",
         "hovertemplate": "genotype=APP/PS1<br>tissue_location=%{x}<br>avg_dna_damage_foci/glia_+=%{y}<extra></extra>",
         "legendgroup": "APP/PS1",
         "marker": {
          "color": "#EF553B"
         },
         "name": "APP/PS1",
         "notched": false,
         "offsetgroup": "APP/PS1",
         "orientation": "v",
         "showlegend": true,
         "type": "box",
         "x": [
          "CA1",
          "CA3",
          "CTX1",
          "CTX2",
          "CTX3",
          "DG",
          "CA1",
          "CA3",
          "CTX1",
          "CTX2",
          "CTX3",
          "DG",
          "CA1",
          "CA3",
          "CTX1",
          "CTX2",
          "CTX3",
          "DG",
          "CA1",
          "CA3",
          "CTX1",
          "CTX2",
          "CTX3",
          "DG",
          "DG",
          "CA1",
          "CA3",
          "CTX1",
          "CTX2",
          "CTX3",
          "DG",
          "CA1",
          "CA3",
          "CTX1",
          "CTX2",
          "CTX3",
          "DG",
          "CA1",
          "CA3",
          "CTX1",
          "CTX2",
          "CTX3",
          "DG",
          "CA1",
          "CA3",
          "CTX1",
          "CTX2",
          "CTX3",
          "DG",
          "CA1",
          "CA3",
          "CTX1",
          "CTX2",
          "CTX3",
          "DG",
          "CA1",
          "CA3",
          "CTX1",
          "CTX2",
          "CTX3",
          "DG",
          "CA1",
          "CA3",
          "CTX1",
          "CTX2",
          "CTX3",
          "DG",
          "CA1",
          "CA3",
          "CTX1",
          "CTX2",
          "CTX3",
          "DG",
          "CA1",
          "CA3",
          "CTX1",
          "CTX2",
          "CTX3",
          "DG",
          "CA1",
          "CA3",
          "CTX1",
          "CTX2",
          "CTX3",
          "DG",
          "CA1",
          "CA3",
          "CTX1",
          "CTX2",
          "CTX3",
          "DG",
          "CA1",
          "CA3",
          "CTX1",
          "CTX2",
          "CTX3",
          "DG",
          "CA1",
          "CA3",
          "CTX1",
          "CTX2",
          "CTX3",
          "DG",
          "CA1",
          "CA3",
          "CTX1",
          "CTX2",
          "CTX3",
          "DG",
          "CA1",
          "CA3",
          "CTX1",
          "CTX2",
          "CTX3",
          "DG"
         ],
         "x0": " ",
         "xaxis": "x",
         "y": [
          0.5789473684210527,
          1.1666666666666667,
          1.1,
          0.6470588235294118,
          1,
          1,
          0.25,
          0.75,
          0.36,
          0,
          0.8181818181818182,
          0.75,
          0,
          0.25,
          0,
          0.4117647058823529,
          0.0769230769230769,
          0.125,
          1,
          1.1111111111111112,
          0.36,
          1.1,
          0.7777777777777778,
          1.1875,
          1,
          0,
          0.25,
          0.5833333333333334,
          0.4090909090909091,
          0.6153846153846154,
          0.6,
          1.181818181818182,
          1,
          0.6363636363636364,
          0.4117647058823529,
          1.0769230769230769,
          0.9285714285714286,
          1.2727272727272727,
          1.2,
          1.1363636363636365,
          0.8888888888888888,
          1.1111111111111112,
          0.8421052631578947,
          1.125,
          1,
          1.25,
          1.5,
          1.7,
          1.6,
          0.4285714285714285,
          0,
          0.8571428571428571,
          0.76,
          0.8620689655172413,
          0.1428571428571428,
          1,
          0.6,
          0,
          0.2,
          1,
          1,
          1.3333333333333333,
          0.8333333333333334,
          0.1666666666666666,
          0.5333333333333333,
          1.1,
          0.5,
          0.3636363636363636,
          0.5714285714285714,
          1.0357142857142858,
          0.45,
          0.6666666666666666,
          1.7435897435897436,
          0.5882352941176471,
          0.8235294117647058,
          0.1428571428571428,
          0.5789473684210527,
          0.6756756756756757,
          1,
          1.2857142857142858,
          1.25,
          0.6571428571428571,
          0.6666666666666666,
          0.75,
          0.8461538461538461,
          0.5333333333333333,
          0.875,
          0.2777777777777778,
          0.25,
          0.3461538461538461,
          0.6190476190476191,
          0.6666666666666666,
          1.3333333333333333,
          0.7916666666666666,
          0.9230769230769232,
          0.7692307692307693,
          0.8333333333333334,
          1.2,
          1.3333333333333333,
          0.5,
          0.9,
          0.95,
          0.5384615384615384,
          0.4285714285714285,
          0.6666666666666666,
          0.125,
          0.3333333333333333,
          0,
          0.4545454545454545,
          0.8461538461538461,
          0.1666666666666666,
          0.7142857142857143,
          0.4782608695652174,
          0.1944444444444444,
          0.875
         ],
         "y0": " ",
         "yaxis": "y"
        }
       ],
       "layout": {
        "boxmode": "group",
        "legend": {
         "title": {
          "text": "genotype"
         },
         "tracegroupgap": 0
        },
        "template": {
         "data": {
          "bar": [
           {
            "error_x": {
             "color": "#2a3f5f"
            },
            "error_y": {
             "color": "#2a3f5f"
            },
            "marker": {
             "line": {
              "color": "#E5ECF6",
              "width": 0.5
             },
             "pattern": {
              "fillmode": "overlay",
              "size": 10,
              "solidity": 0.2
             }
            },
            "type": "bar"
           }
          ],
          "barpolar": [
           {
            "marker": {
             "line": {
              "color": "#E5ECF6",
              "width": 0.5
             },
             "pattern": {
              "fillmode": "overlay",
              "size": 10,
              "solidity": 0.2
             }
            },
            "type": "barpolar"
           }
          ],
          "carpet": [
           {
            "aaxis": {
             "endlinecolor": "#2a3f5f",
             "gridcolor": "white",
             "linecolor": "white",
             "minorgridcolor": "white",
             "startlinecolor": "#2a3f5f"
            },
            "baxis": {
             "endlinecolor": "#2a3f5f",
             "gridcolor": "white",
             "linecolor": "white",
             "minorgridcolor": "white",
             "startlinecolor": "#2a3f5f"
            },
            "type": "carpet"
           }
          ],
          "choropleth": [
           {
            "colorbar": {
             "outlinewidth": 0,
             "ticks": ""
            },
            "type": "choropleth"
           }
          ],
          "contour": [
           {
            "colorbar": {
             "outlinewidth": 0,
             "ticks": ""
            },
            "colorscale": [
             [
              0,
              "#0d0887"
             ],
             [
              0.1111111111111111,
              "#46039f"
             ],
             [
              0.2222222222222222,
              "#7201a8"
             ],
             [
              0.3333333333333333,
              "#9c179e"
             ],
             [
              0.4444444444444444,
              "#bd3786"
             ],
             [
              0.5555555555555556,
              "#d8576b"
             ],
             [
              0.6666666666666666,
              "#ed7953"
             ],
             [
              0.7777777777777778,
              "#fb9f3a"
             ],
             [
              0.8888888888888888,
              "#fdca26"
             ],
             [
              1,
              "#f0f921"
             ]
            ],
            "type": "contour"
           }
          ],
          "contourcarpet": [
           {
            "colorbar": {
             "outlinewidth": 0,
             "ticks": ""
            },
            "type": "contourcarpet"
           }
          ],
          "heatmap": [
           {
            "colorbar": {
             "outlinewidth": 0,
             "ticks": ""
            },
            "colorscale": [
             [
              0,
              "#0d0887"
             ],
             [
              0.1111111111111111,
              "#46039f"
             ],
             [
              0.2222222222222222,
              "#7201a8"
             ],
             [
              0.3333333333333333,
              "#9c179e"
             ],
             [
              0.4444444444444444,
              "#bd3786"
             ],
             [
              0.5555555555555556,
              "#d8576b"
             ],
             [
              0.6666666666666666,
              "#ed7953"
             ],
             [
              0.7777777777777778,
              "#fb9f3a"
             ],
             [
              0.8888888888888888,
              "#fdca26"
             ],
             [
              1,
              "#f0f921"
             ]
            ],
            "type": "heatmap"
           }
          ],
          "heatmapgl": [
           {
            "colorbar": {
             "outlinewidth": 0,
             "ticks": ""
            },
            "colorscale": [
             [
              0,
              "#0d0887"
             ],
             [
              0.1111111111111111,
              "#46039f"
             ],
             [
              0.2222222222222222,
              "#7201a8"
             ],
             [
              0.3333333333333333,
              "#9c179e"
             ],
             [
              0.4444444444444444,
              "#bd3786"
             ],
             [
              0.5555555555555556,
              "#d8576b"
             ],
             [
              0.6666666666666666,
              "#ed7953"
             ],
             [
              0.7777777777777778,
              "#fb9f3a"
             ],
             [
              0.8888888888888888,
              "#fdca26"
             ],
             [
              1,
              "#f0f921"
             ]
            ],
            "type": "heatmapgl"
           }
          ],
          "histogram": [
           {
            "marker": {
             "pattern": {
              "fillmode": "overlay",
              "size": 10,
              "solidity": 0.2
             }
            },
            "type": "histogram"
           }
          ],
          "histogram2d": [
           {
            "colorbar": {
             "outlinewidth": 0,
             "ticks": ""
            },
            "colorscale": [
             [
              0,
              "#0d0887"
             ],
             [
              0.1111111111111111,
              "#46039f"
             ],
             [
              0.2222222222222222,
              "#7201a8"
             ],
             [
              0.3333333333333333,
              "#9c179e"
             ],
             [
              0.4444444444444444,
              "#bd3786"
             ],
             [
              0.5555555555555556,
              "#d8576b"
             ],
             [
              0.6666666666666666,
              "#ed7953"
             ],
             [
              0.7777777777777778,
              "#fb9f3a"
             ],
             [
              0.8888888888888888,
              "#fdca26"
             ],
             [
              1,
              "#f0f921"
             ]
            ],
            "type": "histogram2d"
           }
          ],
          "histogram2dcontour": [
           {
            "colorbar": {
             "outlinewidth": 0,
             "ticks": ""
            },
            "colorscale": [
             [
              0,
              "#0d0887"
             ],
             [
              0.1111111111111111,
              "#46039f"
             ],
             [
              0.2222222222222222,
              "#7201a8"
             ],
             [
              0.3333333333333333,
              "#9c179e"
             ],
             [
              0.4444444444444444,
              "#bd3786"
             ],
             [
              0.5555555555555556,
              "#d8576b"
             ],
             [
              0.6666666666666666,
              "#ed7953"
             ],
             [
              0.7777777777777778,
              "#fb9f3a"
             ],
             [
              0.8888888888888888,
              "#fdca26"
             ],
             [
              1,
              "#f0f921"
             ]
            ],
            "type": "histogram2dcontour"
           }
          ],
          "mesh3d": [
           {
            "colorbar": {
             "outlinewidth": 0,
             "ticks": ""
            },
            "type": "mesh3d"
           }
          ],
          "parcoords": [
           {
            "line": {
             "colorbar": {
              "outlinewidth": 0,
              "ticks": ""
             }
            },
            "type": "parcoords"
           }
          ],
          "pie": [
           {
            "automargin": true,
            "type": "pie"
           }
          ],
          "scatter": [
           {
            "fillpattern": {
             "fillmode": "overlay",
             "size": 10,
             "solidity": 0.2
            },
            "type": "scatter"
           }
          ],
          "scatter3d": [
           {
            "line": {
             "colorbar": {
              "outlinewidth": 0,
              "ticks": ""
             }
            },
            "marker": {
             "colorbar": {
              "outlinewidth": 0,
              "ticks": ""
             }
            },
            "type": "scatter3d"
           }
          ],
          "scattercarpet": [
           {
            "marker": {
             "colorbar": {
              "outlinewidth": 0,
              "ticks": ""
             }
            },
            "type": "scattercarpet"
           }
          ],
          "scattergeo": [
           {
            "marker": {
             "colorbar": {
              "outlinewidth": 0,
              "ticks": ""
             }
            },
            "type": "scattergeo"
           }
          ],
          "scattergl": [
           {
            "marker": {
             "colorbar": {
              "outlinewidth": 0,
              "ticks": ""
             }
            },
            "type": "scattergl"
           }
          ],
          "scattermapbox": [
           {
            "marker": {
             "colorbar": {
              "outlinewidth": 0,
              "ticks": ""
             }
            },
            "type": "scattermapbox"
           }
          ],
          "scatterpolar": [
           {
            "marker": {
             "colorbar": {
              "outlinewidth": 0,
              "ticks": ""
             }
            },
            "type": "scatterpolar"
           }
          ],
          "scatterpolargl": [
           {
            "marker": {
             "colorbar": {
              "outlinewidth": 0,
              "ticks": ""
             }
            },
            "type": "scatterpolargl"
           }
          ],
          "scatterternary": [
           {
            "marker": {
             "colorbar": {
              "outlinewidth": 0,
              "ticks": ""
             }
            },
            "type": "scatterternary"
           }
          ],
          "surface": [
           {
            "colorbar": {
             "outlinewidth": 0,
             "ticks": ""
            },
            "colorscale": [
             [
              0,
              "#0d0887"
             ],
             [
              0.1111111111111111,
              "#46039f"
             ],
             [
              0.2222222222222222,
              "#7201a8"
             ],
             [
              0.3333333333333333,
              "#9c179e"
             ],
             [
              0.4444444444444444,
              "#bd3786"
             ],
             [
              0.5555555555555556,
              "#d8576b"
             ],
             [
              0.6666666666666666,
              "#ed7953"
             ],
             [
              0.7777777777777778,
              "#fb9f3a"
             ],
             [
              0.8888888888888888,
              "#fdca26"
             ],
             [
              1,
              "#f0f921"
             ]
            ],
            "type": "surface"
           }
          ],
          "table": [
           {
            "cells": {
             "fill": {
              "color": "#EBF0F8"
             },
             "line": {
              "color": "white"
             }
            },
            "header": {
             "fill": {
              "color": "#C8D4E3"
             },
             "line": {
              "color": "white"
             }
            },
            "type": "table"
           }
          ]
         },
         "layout": {
          "annotationdefaults": {
           "arrowcolor": "#2a3f5f",
           "arrowhead": 0,
           "arrowwidth": 1
          },
          "autotypenumbers": "strict",
          "coloraxis": {
           "colorbar": {
            "outlinewidth": 0,
            "ticks": ""
           }
          },
          "colorscale": {
           "diverging": [
            [
             0,
             "#8e0152"
            ],
            [
             0.1,
             "#c51b7d"
            ],
            [
             0.2,
             "#de77ae"
            ],
            [
             0.3,
             "#f1b6da"
            ],
            [
             0.4,
             "#fde0ef"
            ],
            [
             0.5,
             "#f7f7f7"
            ],
            [
             0.6,
             "#e6f5d0"
            ],
            [
             0.7,
             "#b8e186"
            ],
            [
             0.8,
             "#7fbc41"
            ],
            [
             0.9,
             "#4d9221"
            ],
            [
             1,
             "#276419"
            ]
           ],
           "sequential": [
            [
             0,
             "#0d0887"
            ],
            [
             0.1111111111111111,
             "#46039f"
            ],
            [
             0.2222222222222222,
             "#7201a8"
            ],
            [
             0.3333333333333333,
             "#9c179e"
            ],
            [
             0.4444444444444444,
             "#bd3786"
            ],
            [
             0.5555555555555556,
             "#d8576b"
            ],
            [
             0.6666666666666666,
             "#ed7953"
            ],
            [
             0.7777777777777778,
             "#fb9f3a"
            ],
            [
             0.8888888888888888,
             "#fdca26"
            ],
            [
             1,
             "#f0f921"
            ]
           ],
           "sequentialminus": [
            [
             0,
             "#0d0887"
            ],
            [
             0.1111111111111111,
             "#46039f"
            ],
            [
             0.2222222222222222,
             "#7201a8"
            ],
            [
             0.3333333333333333,
             "#9c179e"
            ],
            [
             0.4444444444444444,
             "#bd3786"
            ],
            [
             0.5555555555555556,
             "#d8576b"
            ],
            [
             0.6666666666666666,
             "#ed7953"
            ],
            [
             0.7777777777777778,
             "#fb9f3a"
            ],
            [
             0.8888888888888888,
             "#fdca26"
            ],
            [
             1,
             "#f0f921"
            ]
           ]
          },
          "colorway": [
           "#636efa",
           "#EF553B",
           "#00cc96",
           "#ab63fa",
           "#FFA15A",
           "#19d3f3",
           "#FF6692",
           "#B6E880",
           "#FF97FF",
           "#FECB52"
          ],
          "font": {
           "color": "#2a3f5f"
          },
          "geo": {
           "bgcolor": "white",
           "lakecolor": "white",
           "landcolor": "#E5ECF6",
           "showlakes": true,
           "showland": true,
           "subunitcolor": "white"
          },
          "hoverlabel": {
           "align": "left"
          },
          "hovermode": "closest",
          "mapbox": {
           "style": "light"
          },
          "paper_bgcolor": "white",
          "plot_bgcolor": "#E5ECF6",
          "polar": {
           "angularaxis": {
            "gridcolor": "white",
            "linecolor": "white",
            "ticks": ""
           },
           "bgcolor": "#E5ECF6",
           "radialaxis": {
            "gridcolor": "white",
            "linecolor": "white",
            "ticks": ""
           }
          },
          "scene": {
           "xaxis": {
            "backgroundcolor": "#E5ECF6",
            "gridcolor": "white",
            "gridwidth": 2,
            "linecolor": "white",
            "showbackground": true,
            "ticks": "",
            "zerolinecolor": "white"
           },
           "yaxis": {
            "backgroundcolor": "#E5ECF6",
            "gridcolor": "white",
            "gridwidth": 2,
            "linecolor": "white",
            "showbackground": true,
            "ticks": "",
            "zerolinecolor": "white"
           },
           "zaxis": {
            "backgroundcolor": "#E5ECF6",
            "gridcolor": "white",
            "gridwidth": 2,
            "linecolor": "white",
            "showbackground": true,
            "ticks": "",
            "zerolinecolor": "white"
           }
          },
          "shapedefaults": {
           "line": {
            "color": "#2a3f5f"
           }
          },
          "ternary": {
           "aaxis": {
            "gridcolor": "white",
            "linecolor": "white",
            "ticks": ""
           },
           "baxis": {
            "gridcolor": "white",
            "linecolor": "white",
            "ticks": ""
           },
           "bgcolor": "#E5ECF6",
           "caxis": {
            "gridcolor": "white",
            "linecolor": "white",
            "ticks": ""
           }
          },
          "title": {
           "x": 0.05
          },
          "xaxis": {
           "automargin": true,
           "gridcolor": "white",
           "linecolor": "white",
           "ticks": "",
           "title": {
            "standoff": 15
           },
           "zerolinecolor": "white",
           "zerolinewidth": 2
          },
          "yaxis": {
           "automargin": true,
           "gridcolor": "white",
           "linecolor": "white",
           "ticks": "",
           "title": {
            "standoff": 15
           },
           "zerolinecolor": "white",
           "zerolinewidth": 2
          }
         }
        },
        "title": {
         "text": "DNA Damage in Glia Nuclei by Tissue Location and Genotype (sex-aggregated) - Auto stain QC - cellpdia30_sigma1_dilrad4_dnad_obj_seg_v2_gliaero6_gliathr20_dnadero2"
        },
        "xaxis": {
         "anchor": "y",
         "domain": [
          0,
          1
         ],
         "title": {
          "text": "tissue_location"
         }
        },
        "yaxis": {
         "anchor": "x",
         "domain": [
          0,
          1
         ],
         "title": {
          "text": "avg_dna_damage_foci/glia_+"
         }
        }
       }
      }
     },
     "metadata": {},
     "output_type": "display_data"
    }
   ],
   "source": [
    "# Create the boxplot\n",
    "fig = px.box(auto_filtered_df, x='tissue_location', y='avg_dna_damage_foci/glia_+',\n",
    "             color='genotype', # Different genotypes will be shown in different colors\n",
    "             title=f'DNA Damage in Glia Nuclei by Tissue Location and Genotype (sex-aggregated) - Auto stain QC - {title}')\n",
    "\n",
    "# Show the plot\n",
    "fig.show()"
   ]
  },
  {
   "cell_type": "code",
   "execution_count": 18,
   "metadata": {},
   "outputs": [
    {
     "data": {
      "application/vnd.plotly.v1+json": {
       "config": {
        "plotlyServerURL": "https://plot.ly"
       },
       "data": [
        {
         "alignmentgroup": "True",
         "hovertemplate": "genotype=APP/PS1 x Neil3 KO<br>tissue_location=%{x}<br>avg_dna_damage_foci/glia_+_damage_+=%{y}<extra></extra>",
         "legendgroup": "APP/PS1 x Neil3 KO",
         "marker": {
          "color": "#636efa"
         },
         "name": "APP/PS1 x Neil3 KO",
         "notched": false,
         "offsetgroup": "APP/PS1 x Neil3 KO",
         "orientation": "v",
         "showlegend": true,
         "type": "box",
         "x": [
          "CA1",
          "CA3",
          "CTX1",
          "CTX2",
          "CTX3",
          "DG",
          "CA1",
          "CA3",
          "CTX1",
          "CTX2",
          "CTX3",
          "DG",
          "CA1",
          "CA3",
          "CTX1",
          "CTX2",
          "CTX3",
          "DG",
          "CA1",
          "CA3",
          "CTX1",
          "CTX2",
          "CTX3",
          "DG",
          "CA1",
          "CA3",
          "CTX1",
          "CTX2",
          "CTX3",
          "DG",
          "CA1",
          "CA3",
          "CTX1",
          "CTX2",
          "CTX3",
          "DG",
          "CA1",
          "CA3",
          "CTX1",
          "CTX2",
          "CTX3",
          "DG",
          "DG",
          "CA1",
          "CA3",
          "CTX1",
          "CTX2",
          "CTX3",
          "DG",
          "CA1",
          "CA3",
          "CTX1",
          "CTX2",
          "CTX3",
          "DG",
          "CA1",
          "CA3",
          "CTX1",
          "CTX2",
          "CTX3",
          "DG",
          "CA1",
          "CA3",
          "CTX1",
          "CTX2",
          "CTX3",
          "DG",
          "CA1",
          "CA3",
          "CTX1",
          "CTX2",
          "CTX3",
          "DG",
          "CA1",
          "CA3",
          "CTX1",
          "CTX2",
          "CTX3",
          "DG",
          "CA1",
          "CA3",
          "CTX1",
          "CTX2",
          "CTX3",
          "DG",
          "CA1",
          "CA3",
          "CTX1",
          "CTX2",
          "CTX3",
          "DG",
          "CA1",
          "CA3",
          "CTX1",
          "CTX2",
          "CTX3",
          "DG"
         ],
         "x0": " ",
         "xaxis": "x",
         "y": [
          1,
          1.5,
          1.5,
          1.411764705882353,
          1,
          1.4,
          1.5714285714285714,
          1,
          1.9230769230769231,
          1.3333333333333333,
          1.588235294117647,
          1.2,
          1.75,
          1.2,
          1.25,
          1.2,
          1.1666666666666667,
          2,
          null,
          null,
          1,
          1.5,
          1.125,
          1.9411764705882355,
          1.375,
          1.25,
          1.7,
          1.5263157894736843,
          1.2222222222222223,
          1.5,
          1.5714285714285714,
          1.5555555555555556,
          1.0769230769230769,
          1.368421052631579,
          1.125,
          1.5833333333333333,
          1.6666666666666667,
          1.5,
          1.2,
          1.5454545454545454,
          1.25,
          1.5,
          1,
          1,
          1,
          1.6666666666666667,
          1.4,
          1.4444444444444444,
          2,
          1,
          null,
          null,
          null,
          1,
          1,
          1.5454545454545454,
          1.5,
          1.3333333333333333,
          1.4166666666666667,
          1.1666666666666667,
          1.631578947368421,
          1.5714285714285714,
          1,
          1,
          1,
          1,
          1.3333333333333333,
          1,
          null,
          null,
          1,
          1.1,
          1.2,
          1,
          1.25,
          1,
          1.1428571428571428,
          1.3333333333333333,
          1,
          1.6666666666666667,
          1.1666666666666667,
          1.3333333333333333,
          1,
          1,
          1.4444444444444444,
          1.6666666666666667,
          1,
          1.4545454545454546,
          1.5,
          1,
          1,
          1,
          1,
          1.3333333333333333,
          1.1111111111111112,
          1.4,
          1.5
         ],
         "y0": " ",
         "yaxis": "y"
        },
        {
         "alignmentgroup": "True",
         "hovertemplate": "genotype=APP/PS1<br>tissue_location=%{x}<br>avg_dna_damage_foci/glia_+_damage_+=%{y}<extra></extra>",
         "legendgroup": "APP/PS1",
         "marker": {
          "color": "#EF553B"
         },
         "name": "APP/PS1",
         "notched": false,
         "offsetgroup": "APP/PS1",
         "orientation": "v",
         "showlegend": true,
         "type": "box",
         "x": [
          "CA1",
          "CA3",
          "CTX1",
          "CTX2",
          "CTX3",
          "DG",
          "CA1",
          "CA3",
          "CTX1",
          "CTX2",
          "CTX3",
          "DG",
          "CA1",
          "CA3",
          "CTX1",
          "CTX2",
          "CTX3",
          "DG",
          "CA1",
          "CA3",
          "CTX1",
          "CTX2",
          "CTX3",
          "DG",
          "DG",
          "CA1",
          "CA3",
          "CTX1",
          "CTX2",
          "CTX3",
          "DG",
          "CA1",
          "CA3",
          "CTX1",
          "CTX2",
          "CTX3",
          "DG",
          "CA1",
          "CA3",
          "CTX1",
          "CTX2",
          "CTX3",
          "DG",
          "CA1",
          "CA3",
          "CTX1",
          "CTX2",
          "CTX3",
          "DG",
          "CA1",
          "CA3",
          "CTX1",
          "CTX2",
          "CTX3",
          "DG",
          "CA1",
          "CA3",
          "CTX1",
          "CTX2",
          "CTX3",
          "DG",
          "CA1",
          "CA3",
          "CTX1",
          "CTX2",
          "CTX3",
          "DG",
          "CA1",
          "CA3",
          "CTX1",
          "CTX2",
          "CTX3",
          "DG",
          "CA1",
          "CA3",
          "CTX1",
          "CTX2",
          "CTX3",
          "DG",
          "CA1",
          "CA3",
          "CTX1",
          "CTX2",
          "CTX3",
          "DG",
          "CA1",
          "CA3",
          "CTX1",
          "CTX2",
          "CTX3",
          "DG",
          "CA1",
          "CA3",
          "CTX1",
          "CTX2",
          "CTX3",
          "DG",
          "CA1",
          "CA3",
          "CTX1",
          "CTX2",
          "CTX3",
          "DG",
          "CA1",
          "CA3",
          "CTX1",
          "CTX2",
          "CTX3",
          "DG",
          "CA1",
          "CA3",
          "CTX1",
          "CTX2",
          "CTX3",
          "DG"
         ],
         "x0": " ",
         "xaxis": "x",
         "y": [
          1.5714285714285714,
          1.75,
          1.8333333333333333,
          1.375,
          2,
          1.3076923076923077,
          1,
          2,
          1.125,
          null,
          1.125,
          1.2,
          null,
          1,
          null,
          1,
          1,
          1,
          1.6,
          1.25,
          1,
          1.5714285714285714,
          1.1666666666666667,
          1.4615384615384617,
          2,
          null,
          1,
          1.4,
          1.5,
          1.3333333333333333,
          1.5,
          1.8571428571428568,
          1,
          1.4,
          1.1666666666666667,
          1.4,
          1.4444444444444444,
          1.75,
          1.2,
          1.4705882352941178,
          1.5,
          1.3636363636363635,
          1.2307692307692308,
          1.2857142857142858,
          2,
          1.4285714285714286,
          1.875,
          2.125,
          1.6,
          1,
          null,
          1.3333333333333333,
          1.3571428571428572,
          1.3157894736842106,
          1,
          2,
          1,
          null,
          1,
          2,
          1.1428571428571428,
          1.3333333333333333,
          1.6666666666666667,
          1,
          1,
          1.375,
          2,
          1,
          1,
          1.6111111111111112,
          1.5,
          1.1428571428571428,
          2,
          1.4285714285714286,
          1.75,
          1,
          1.2222222222222223,
          1.3888888888888888,
          1.6,
          1.5,
          1.25,
          1.9166666666666667,
          1.4545454545454546,
          1.3636363636363635,
          1.5714285714285714,
          1.6,
          1.4,
          1.25,
          1.2,
          1.125,
          1.4444444444444444,
          1.3333333333333333,
          1.6,
          1.2666666666666666,
          1.411764705882353,
          1.4285714285714286,
          1.6666666666666667,
          1.5,
          1.3333333333333333,
          1.25,
          1.5,
          1.4615384615384617,
          1,
          1,
          1,
          1,
          1,
          null,
          1.25,
          1.5714285714285714,
          1,
          1.6666666666666667,
          1.2222222222222223,
          1,
          1.5555555555555556
         ],
         "y0": " ",
         "yaxis": "y"
        }
       ],
       "layout": {
        "boxmode": "group",
        "legend": {
         "title": {
          "text": "genotype"
         },
         "tracegroupgap": 0
        },
        "template": {
         "data": {
          "bar": [
           {
            "error_x": {
             "color": "#2a3f5f"
            },
            "error_y": {
             "color": "#2a3f5f"
            },
            "marker": {
             "line": {
              "color": "#E5ECF6",
              "width": 0.5
             },
             "pattern": {
              "fillmode": "overlay",
              "size": 10,
              "solidity": 0.2
             }
            },
            "type": "bar"
           }
          ],
          "barpolar": [
           {
            "marker": {
             "line": {
              "color": "#E5ECF6",
              "width": 0.5
             },
             "pattern": {
              "fillmode": "overlay",
              "size": 10,
              "solidity": 0.2
             }
            },
            "type": "barpolar"
           }
          ],
          "carpet": [
           {
            "aaxis": {
             "endlinecolor": "#2a3f5f",
             "gridcolor": "white",
             "linecolor": "white",
             "minorgridcolor": "white",
             "startlinecolor": "#2a3f5f"
            },
            "baxis": {
             "endlinecolor": "#2a3f5f",
             "gridcolor": "white",
             "linecolor": "white",
             "minorgridcolor": "white",
             "startlinecolor": "#2a3f5f"
            },
            "type": "carpet"
           }
          ],
          "choropleth": [
           {
            "colorbar": {
             "outlinewidth": 0,
             "ticks": ""
            },
            "type": "choropleth"
           }
          ],
          "contour": [
           {
            "colorbar": {
             "outlinewidth": 0,
             "ticks": ""
            },
            "colorscale": [
             [
              0,
              "#0d0887"
             ],
             [
              0.1111111111111111,
              "#46039f"
             ],
             [
              0.2222222222222222,
              "#7201a8"
             ],
             [
              0.3333333333333333,
              "#9c179e"
             ],
             [
              0.4444444444444444,
              "#bd3786"
             ],
             [
              0.5555555555555556,
              "#d8576b"
             ],
             [
              0.6666666666666666,
              "#ed7953"
             ],
             [
              0.7777777777777778,
              "#fb9f3a"
             ],
             [
              0.8888888888888888,
              "#fdca26"
             ],
             [
              1,
              "#f0f921"
             ]
            ],
            "type": "contour"
           }
          ],
          "contourcarpet": [
           {
            "colorbar": {
             "outlinewidth": 0,
             "ticks": ""
            },
            "type": "contourcarpet"
           }
          ],
          "heatmap": [
           {
            "colorbar": {
             "outlinewidth": 0,
             "ticks": ""
            },
            "colorscale": [
             [
              0,
              "#0d0887"
             ],
             [
              0.1111111111111111,
              "#46039f"
             ],
             [
              0.2222222222222222,
              "#7201a8"
             ],
             [
              0.3333333333333333,
              "#9c179e"
             ],
             [
              0.4444444444444444,
              "#bd3786"
             ],
             [
              0.5555555555555556,
              "#d8576b"
             ],
             [
              0.6666666666666666,
              "#ed7953"
             ],
             [
              0.7777777777777778,
              "#fb9f3a"
             ],
             [
              0.8888888888888888,
              "#fdca26"
             ],
             [
              1,
              "#f0f921"
             ]
            ],
            "type": "heatmap"
           }
          ],
          "heatmapgl": [
           {
            "colorbar": {
             "outlinewidth": 0,
             "ticks": ""
            },
            "colorscale": [
             [
              0,
              "#0d0887"
             ],
             [
              0.1111111111111111,
              "#46039f"
             ],
             [
              0.2222222222222222,
              "#7201a8"
             ],
             [
              0.3333333333333333,
              "#9c179e"
             ],
             [
              0.4444444444444444,
              "#bd3786"
             ],
             [
              0.5555555555555556,
              "#d8576b"
             ],
             [
              0.6666666666666666,
              "#ed7953"
             ],
             [
              0.7777777777777778,
              "#fb9f3a"
             ],
             [
              0.8888888888888888,
              "#fdca26"
             ],
             [
              1,
              "#f0f921"
             ]
            ],
            "type": "heatmapgl"
           }
          ],
          "histogram": [
           {
            "marker": {
             "pattern": {
              "fillmode": "overlay",
              "size": 10,
              "solidity": 0.2
             }
            },
            "type": "histogram"
           }
          ],
          "histogram2d": [
           {
            "colorbar": {
             "outlinewidth": 0,
             "ticks": ""
            },
            "colorscale": [
             [
              0,
              "#0d0887"
             ],
             [
              0.1111111111111111,
              "#46039f"
             ],
             [
              0.2222222222222222,
              "#7201a8"
             ],
             [
              0.3333333333333333,
              "#9c179e"
             ],
             [
              0.4444444444444444,
              "#bd3786"
             ],
             [
              0.5555555555555556,
              "#d8576b"
             ],
             [
              0.6666666666666666,
              "#ed7953"
             ],
             [
              0.7777777777777778,
              "#fb9f3a"
             ],
             [
              0.8888888888888888,
              "#fdca26"
             ],
             [
              1,
              "#f0f921"
             ]
            ],
            "type": "histogram2d"
           }
          ],
          "histogram2dcontour": [
           {
            "colorbar": {
             "outlinewidth": 0,
             "ticks": ""
            },
            "colorscale": [
             [
              0,
              "#0d0887"
             ],
             [
              0.1111111111111111,
              "#46039f"
             ],
             [
              0.2222222222222222,
              "#7201a8"
             ],
             [
              0.3333333333333333,
              "#9c179e"
             ],
             [
              0.4444444444444444,
              "#bd3786"
             ],
             [
              0.5555555555555556,
              "#d8576b"
             ],
             [
              0.6666666666666666,
              "#ed7953"
             ],
             [
              0.7777777777777778,
              "#fb9f3a"
             ],
             [
              0.8888888888888888,
              "#fdca26"
             ],
             [
              1,
              "#f0f921"
             ]
            ],
            "type": "histogram2dcontour"
           }
          ],
          "mesh3d": [
           {
            "colorbar": {
             "outlinewidth": 0,
             "ticks": ""
            },
            "type": "mesh3d"
           }
          ],
          "parcoords": [
           {
            "line": {
             "colorbar": {
              "outlinewidth": 0,
              "ticks": ""
             }
            },
            "type": "parcoords"
           }
          ],
          "pie": [
           {
            "automargin": true,
            "type": "pie"
           }
          ],
          "scatter": [
           {
            "fillpattern": {
             "fillmode": "overlay",
             "size": 10,
             "solidity": 0.2
            },
            "type": "scatter"
           }
          ],
          "scatter3d": [
           {
            "line": {
             "colorbar": {
              "outlinewidth": 0,
              "ticks": ""
             }
            },
            "marker": {
             "colorbar": {
              "outlinewidth": 0,
              "ticks": ""
             }
            },
            "type": "scatter3d"
           }
          ],
          "scattercarpet": [
           {
            "marker": {
             "colorbar": {
              "outlinewidth": 0,
              "ticks": ""
             }
            },
            "type": "scattercarpet"
           }
          ],
          "scattergeo": [
           {
            "marker": {
             "colorbar": {
              "outlinewidth": 0,
              "ticks": ""
             }
            },
            "type": "scattergeo"
           }
          ],
          "scattergl": [
           {
            "marker": {
             "colorbar": {
              "outlinewidth": 0,
              "ticks": ""
             }
            },
            "type": "scattergl"
           }
          ],
          "scattermapbox": [
           {
            "marker": {
             "colorbar": {
              "outlinewidth": 0,
              "ticks": ""
             }
            },
            "type": "scattermapbox"
           }
          ],
          "scatterpolar": [
           {
            "marker": {
             "colorbar": {
              "outlinewidth": 0,
              "ticks": ""
             }
            },
            "type": "scatterpolar"
           }
          ],
          "scatterpolargl": [
           {
            "marker": {
             "colorbar": {
              "outlinewidth": 0,
              "ticks": ""
             }
            },
            "type": "scatterpolargl"
           }
          ],
          "scatterternary": [
           {
            "marker": {
             "colorbar": {
              "outlinewidth": 0,
              "ticks": ""
             }
            },
            "type": "scatterternary"
           }
          ],
          "surface": [
           {
            "colorbar": {
             "outlinewidth": 0,
             "ticks": ""
            },
            "colorscale": [
             [
              0,
              "#0d0887"
             ],
             [
              0.1111111111111111,
              "#46039f"
             ],
             [
              0.2222222222222222,
              "#7201a8"
             ],
             [
              0.3333333333333333,
              "#9c179e"
             ],
             [
              0.4444444444444444,
              "#bd3786"
             ],
             [
              0.5555555555555556,
              "#d8576b"
             ],
             [
              0.6666666666666666,
              "#ed7953"
             ],
             [
              0.7777777777777778,
              "#fb9f3a"
             ],
             [
              0.8888888888888888,
              "#fdca26"
             ],
             [
              1,
              "#f0f921"
             ]
            ],
            "type": "surface"
           }
          ],
          "table": [
           {
            "cells": {
             "fill": {
              "color": "#EBF0F8"
             },
             "line": {
              "color": "white"
             }
            },
            "header": {
             "fill": {
              "color": "#C8D4E3"
             },
             "line": {
              "color": "white"
             }
            },
            "type": "table"
           }
          ]
         },
         "layout": {
          "annotationdefaults": {
           "arrowcolor": "#2a3f5f",
           "arrowhead": 0,
           "arrowwidth": 1
          },
          "autotypenumbers": "strict",
          "coloraxis": {
           "colorbar": {
            "outlinewidth": 0,
            "ticks": ""
           }
          },
          "colorscale": {
           "diverging": [
            [
             0,
             "#8e0152"
            ],
            [
             0.1,
             "#c51b7d"
            ],
            [
             0.2,
             "#de77ae"
            ],
            [
             0.3,
             "#f1b6da"
            ],
            [
             0.4,
             "#fde0ef"
            ],
            [
             0.5,
             "#f7f7f7"
            ],
            [
             0.6,
             "#e6f5d0"
            ],
            [
             0.7,
             "#b8e186"
            ],
            [
             0.8,
             "#7fbc41"
            ],
            [
             0.9,
             "#4d9221"
            ],
            [
             1,
             "#276419"
            ]
           ],
           "sequential": [
            [
             0,
             "#0d0887"
            ],
            [
             0.1111111111111111,
             "#46039f"
            ],
            [
             0.2222222222222222,
             "#7201a8"
            ],
            [
             0.3333333333333333,
             "#9c179e"
            ],
            [
             0.4444444444444444,
             "#bd3786"
            ],
            [
             0.5555555555555556,
             "#d8576b"
            ],
            [
             0.6666666666666666,
             "#ed7953"
            ],
            [
             0.7777777777777778,
             "#fb9f3a"
            ],
            [
             0.8888888888888888,
             "#fdca26"
            ],
            [
             1,
             "#f0f921"
            ]
           ],
           "sequentialminus": [
            [
             0,
             "#0d0887"
            ],
            [
             0.1111111111111111,
             "#46039f"
            ],
            [
             0.2222222222222222,
             "#7201a8"
            ],
            [
             0.3333333333333333,
             "#9c179e"
            ],
            [
             0.4444444444444444,
             "#bd3786"
            ],
            [
             0.5555555555555556,
             "#d8576b"
            ],
            [
             0.6666666666666666,
             "#ed7953"
            ],
            [
             0.7777777777777778,
             "#fb9f3a"
            ],
            [
             0.8888888888888888,
             "#fdca26"
            ],
            [
             1,
             "#f0f921"
            ]
           ]
          },
          "colorway": [
           "#636efa",
           "#EF553B",
           "#00cc96",
           "#ab63fa",
           "#FFA15A",
           "#19d3f3",
           "#FF6692",
           "#B6E880",
           "#FF97FF",
           "#FECB52"
          ],
          "font": {
           "color": "#2a3f5f"
          },
          "geo": {
           "bgcolor": "white",
           "lakecolor": "white",
           "landcolor": "#E5ECF6",
           "showlakes": true,
           "showland": true,
           "subunitcolor": "white"
          },
          "hoverlabel": {
           "align": "left"
          },
          "hovermode": "closest",
          "mapbox": {
           "style": "light"
          },
          "paper_bgcolor": "white",
          "plot_bgcolor": "#E5ECF6",
          "polar": {
           "angularaxis": {
            "gridcolor": "white",
            "linecolor": "white",
            "ticks": ""
           },
           "bgcolor": "#E5ECF6",
           "radialaxis": {
            "gridcolor": "white",
            "linecolor": "white",
            "ticks": ""
           }
          },
          "scene": {
           "xaxis": {
            "backgroundcolor": "#E5ECF6",
            "gridcolor": "white",
            "gridwidth": 2,
            "linecolor": "white",
            "showbackground": true,
            "ticks": "",
            "zerolinecolor": "white"
           },
           "yaxis": {
            "backgroundcolor": "#E5ECF6",
            "gridcolor": "white",
            "gridwidth": 2,
            "linecolor": "white",
            "showbackground": true,
            "ticks": "",
            "zerolinecolor": "white"
           },
           "zaxis": {
            "backgroundcolor": "#E5ECF6",
            "gridcolor": "white",
            "gridwidth": 2,
            "linecolor": "white",
            "showbackground": true,
            "ticks": "",
            "zerolinecolor": "white"
           }
          },
          "shapedefaults": {
           "line": {
            "color": "#2a3f5f"
           }
          },
          "ternary": {
           "aaxis": {
            "gridcolor": "white",
            "linecolor": "white",
            "ticks": ""
           },
           "baxis": {
            "gridcolor": "white",
            "linecolor": "white",
            "ticks": ""
           },
           "bgcolor": "#E5ECF6",
           "caxis": {
            "gridcolor": "white",
            "linecolor": "white",
            "ticks": ""
           }
          },
          "title": {
           "x": 0.05
          },
          "xaxis": {
           "automargin": true,
           "gridcolor": "white",
           "linecolor": "white",
           "ticks": "",
           "title": {
            "standoff": 15
           },
           "zerolinecolor": "white",
           "zerolinewidth": 2
          },
          "yaxis": {
           "automargin": true,
           "gridcolor": "white",
           "linecolor": "white",
           "ticks": "",
           "title": {
            "standoff": 15
           },
           "zerolinecolor": "white",
           "zerolinewidth": 2
          }
         }
        },
        "title": {
         "text": "DNA Damage in Damaged Glia Nuclei by Tissue Location and Genotype (sex-aggregated) - Auto stain QC - cellpdia30_sigma1_dilrad4_dnad_obj_seg_v2_gliaero6_gliathr20_dnadero2"
        },
        "xaxis": {
         "anchor": "y",
         "domain": [
          0,
          1
         ],
         "title": {
          "text": "tissue_location"
         }
        },
        "yaxis": {
         "anchor": "x",
         "domain": [
          0,
          1
         ],
         "title": {
          "text": "avg_dna_damage_foci/glia_+_damage_+"
         }
        }
       }
      }
     },
     "metadata": {},
     "output_type": "display_data"
    }
   ],
   "source": [
    "# Create the boxplot\n",
    "fig = px.box(auto_filtered_df, x='tissue_location', y='avg_dna_damage_foci/glia_+_damage_+',\n",
    "             color='genotype', # Different genotypes will be shown in different colors\n",
    "             title=f'DNA Damage in Damaged Glia Nuclei by Tissue Location and Genotype (sex-aggregated) - Auto stain QC - {title}')\n",
    "\n",
    "# Show the plot\n",
    "fig.show()"
   ]
  },
  {
   "cell_type": "code",
   "execution_count": 19,
   "metadata": {},
   "outputs": [
    {
     "data": {
      "application/vnd.plotly.v1+json": {
       "config": {
        "plotlyServerURL": "https://plot.ly"
       },
       "data": [
        {
         "alignmentgroup": "True",
         "hovertemplate": "genotype=APP/PS1 x Neil3 KO<br>tissue_location=%{x}<br>avg_dna_damage_foci/all_nuclei=%{y}<extra></extra>",
         "legendgroup": "APP/PS1 x Neil3 KO",
         "marker": {
          "color": "#636efa"
         },
         "name": "APP/PS1 x Neil3 KO",
         "notched": false,
         "offsetgroup": "APP/PS1 x Neil3 KO",
         "orientation": "v",
         "showlegend": true,
         "type": "box",
         "x": [
          "CA1",
          "CA3",
          "CTX1",
          "CTX2",
          "CTX3",
          "DG",
          "CA1",
          "CA3",
          "CTX1",
          "CTX2",
          "CTX3",
          "DG",
          "CA1",
          "CA3",
          "CTX1",
          "CTX2",
          "CTX3",
          "DG",
          "CA1",
          "CA3",
          "CTX1",
          "CTX2",
          "CTX3",
          "DG",
          "CA1",
          "CA3",
          "CTX1",
          "CTX2",
          "CTX3",
          "DG",
          "CA1",
          "CA3",
          "CTX1",
          "CTX2",
          "CTX3",
          "DG",
          "CA1",
          "CA3",
          "CTX1",
          "CTX2",
          "CTX3",
          "DG",
          "DG",
          "CA1",
          "CA3",
          "CTX1",
          "CTX2",
          "CTX3",
          "DG",
          "CA1",
          "CA3",
          "CTX1",
          "CTX2",
          "CTX3",
          "DG",
          "CA1",
          "CA3",
          "CTX1",
          "CTX2",
          "CTX3",
          "DG",
          "CA1",
          "CA3",
          "CTX1",
          "CTX2",
          "CTX3",
          "DG",
          "CA1",
          "CA3",
          "CTX1",
          "CTX2",
          "CTX3",
          "DG",
          "CA1",
          "CA3",
          "CTX1",
          "CTX2",
          "CTX3",
          "DG",
          "CA1",
          "CA3",
          "CTX1",
          "CTX2",
          "CTX3",
          "DG",
          "CA1",
          "CA3",
          "CTX1",
          "CTX2",
          "CTX3",
          "DG",
          "CA1",
          "CA3",
          "CTX1",
          "CTX2",
          "CTX3",
          "DG"
         ],
         "x0": " ",
         "xaxis": "x",
         "y": [
          0.6,
          0.9649122807017544,
          0.4292929292929293,
          0.8544303797468354,
          0.4193548387096774,
          1.196765498652291,
          0.75177304964539,
          0.7850467289719626,
          0.6169154228855721,
          0.6844444444444444,
          0.654639175257732,
          0.9391727493917276,
          0.5142857142857142,
          0.609375,
          0.4818181818181818,
          0.2941176470588235,
          0.4455445544554455,
          0.4225352112676056,
          0.686046511627907,
          0.373134328358209,
          0.375,
          0.5217391304347826,
          0.9035532994923858,
          1.7134831460674158,
          0.6241610738255033,
          0.5630252100840336,
          0.5276381909547738,
          0.8578680203045685,
          0.494047619047619,
          0.8828125,
          0.6702702702702703,
          1.3185185185185184,
          0.596551724137931,
          0.7172995780590717,
          0.8764044943820225,
          0.3980815347721823,
          0.6012658227848101,
          0.8633879781420765,
          0.5758928571428571,
          0.8214285714285714,
          0.5911949685534591,
          1.1522248243559718,
          1.4423076923076923,
          0.3561643835616438,
          0.6022727272727273,
          0.6064516129032258,
          0.5192307692307693,
          0.5675675675675675,
          1.060897435897436,
          0.5960264900662252,
          0.44,
          0.0736196319018405,
          0.1236559139784946,
          0.1357142857142857,
          0.8873626373626373,
          0.9047619047619048,
          0.7621951219512195,
          0.2987012987012987,
          0.3108108108108108,
          0.3043478260869565,
          1.5037037037037038,
          0.406060606060606,
          0.180327868852459,
          0.3,
          0.256544502617801,
          0.2446043165467626,
          0.5070422535211268,
          0.1333333333333333,
          0.4274193548387097,
          0.0197628458498023,
          0.1260504201680672,
          0.612565445026178,
          0.2411764705882353,
          0.3257575757575757,
          0.5612244897959183,
          0.1707317073170731,
          0.367816091954023,
          0.4329896907216495,
          0.4481792717086835,
          0.3459459459459459,
          0.8392857142857143,
          0.1835205992509363,
          0.1722846441947565,
          0.0927835051546391,
          0.4216524216524216,
          0.5371900826446281,
          0.7345132743362832,
          0.475177304964539,
          0.6649214659685864,
          0.484375,
          0.6720257234726688,
          0.5384615384615384,
          0.41,
          0.5707070707070707,
          0.3493150684931507,
          0.437037037037037,
          0.8592375366568915
         ],
         "y0": " ",
         "yaxis": "y"
        },
        {
         "alignmentgroup": "True",
         "hovertemplate": "genotype=APP/PS1<br>tissue_location=%{x}<br>avg_dna_damage_foci/all_nuclei=%{y}<extra></extra>",
         "legendgroup": "APP/PS1",
         "marker": {
          "color": "#EF553B"
         },
         "name": "APP/PS1",
         "notched": false,
         "offsetgroup": "APP/PS1",
         "orientation": "v",
         "showlegend": true,
         "type": "box",
         "x": [
          "CA1",
          "CA3",
          "CTX1",
          "CTX2",
          "CTX3",
          "DG",
          "CA1",
          "CA3",
          "CTX1",
          "CTX2",
          "CTX3",
          "DG",
          "CA1",
          "CA3",
          "CTX1",
          "CTX2",
          "CTX3",
          "DG",
          "CA1",
          "CA3",
          "CTX1",
          "CTX2",
          "CTX3",
          "DG",
          "DG",
          "CA1",
          "CA3",
          "CTX1",
          "CTX2",
          "CTX3",
          "DG",
          "CA1",
          "CA3",
          "CTX1",
          "CTX2",
          "CTX3",
          "DG",
          "CA1",
          "CA3",
          "CTX1",
          "CTX2",
          "CTX3",
          "DG",
          "CA1",
          "CA3",
          "CTX1",
          "CTX2",
          "CTX3",
          "DG",
          "CA1",
          "CA3",
          "CTX1",
          "CTX2",
          "CTX3",
          "DG",
          "CA1",
          "CA3",
          "CTX1",
          "CTX2",
          "CTX3",
          "DG",
          "CA1",
          "CA3",
          "CTX1",
          "CTX2",
          "CTX3",
          "DG",
          "CA1",
          "CA3",
          "CTX1",
          "CTX2",
          "CTX3",
          "DG",
          "CA1",
          "CA3",
          "CTX1",
          "CTX2",
          "CTX3",
          "DG",
          "CA1",
          "CA3",
          "CTX1",
          "CTX2",
          "CTX3",
          "DG",
          "CA1",
          "CA3",
          "CTX1",
          "CTX2",
          "CTX3",
          "DG",
          "CA1",
          "CA3",
          "CTX1",
          "CTX2",
          "CTX3",
          "DG",
          "CA1",
          "CA3",
          "CTX1",
          "CTX2",
          "CTX3",
          "DG",
          "CA1",
          "CA3",
          "CTX1",
          "CTX2",
          "CTX3",
          "DG",
          "CA1",
          "CA3",
          "CTX1",
          "CTX2",
          "CTX3",
          "DG"
         ],
         "x0": " ",
         "xaxis": "x",
         "y": [
          0.6896551724137931,
          0.8561151079136691,
          0.7654320987654321,
          0.6515151515151515,
          0.2976190476190476,
          1.1666666666666667,
          0.5661764705882353,
          0.5486725663716814,
          0.3036649214659686,
          0.05,
          0.581081081081081,
          0.9396751740139212,
          0.348314606741573,
          0.4782608695652174,
          0.1277777777777777,
          0.1846153846153846,
          0.2,
          0.0898876404494382,
          0.8278145695364238,
          0.8467153284671532,
          0.5037593984962406,
          0.75,
          1.0108108108108107,
          1.4495192307692308,
          0.9036697247706422,
          0.4929577464788732,
          0.7941176470588235,
          0.358974358974359,
          0.3992395437262357,
          0.271356783919598,
          0.8306010928961749,
          0.7724550898203593,
          0.918032786885246,
          0.3730569948186528,
          0.4958333333333333,
          0.7054794520547946,
          1.2601880877742946,
          0.9786096256684492,
          1.5513307984790874,
          0.863481228668942,
          1.026615969581749,
          1.2211538461538465,
          1.4894259818731117,
          0.696969696969697,
          0.797979797979798,
          1.0434782608695652,
          0.9863013698630136,
          1.023121387283237,
          1.2772861356932153,
          0.5164835164835165,
          0.6712328767123288,
          0.5614035087719298,
          0.7586206896551724,
          0.7109826589595376,
          0.9502762430939228,
          0.6391752577319587,
          0.8555555555555555,
          0.311377245508982,
          0.331578947368421,
          0.2052980132450331,
          0.6239669421487604,
          0.3655172413793103,
          0.6990291262135923,
          0.4107142857142857,
          0.4709677419354838,
          0.6713286713286714,
          0.6272493573264781,
          0.3087248322147651,
          1.0841584158415842,
          0.7399103139013453,
          0.357487922705314,
          0.6346153846153846,
          1.6521739130434785,
          0.5023923444976076,
          1.1162790697674418,
          0.1566951566951566,
          0.5017667844522968,
          0.6576576576576577,
          1.0524781341107872,
          0.9416666666666668,
          0.5652173913043478,
          0.5152838427947598,
          0.5939849624060151,
          0.584070796460177,
          1.3195876288659794,
          0.3541666666666667,
          0.7672413793103449,
          0.2465753424657534,
          0.2136363636363636,
          0.3701657458563536,
          0.7774798927613941,
          0.712707182320442,
          1.2147239263803682,
          0.6830188679245283,
          0.76,
          0.7536231884057971,
          1.3594306049822065,
          0.5153846153846153,
          1.0546875,
          0.4922279792746113,
          0.5730994152046783,
          0.6547619047619048,
          1.0946372239747637,
          0.4418604651162791,
          0.5894736842105263,
          0.0534351145038167,
          0.6944444444444444,
          0.1647058823529411,
          0.7313432835820896,
          0.4203821656050955,
          0.5303030303030303,
          0.4269662921348314,
          0.2933884297520661,
          0.2872340425531915,
          0.5547445255474452
         ],
         "y0": " ",
         "yaxis": "y"
        }
       ],
       "layout": {
        "boxmode": "group",
        "legend": {
         "title": {
          "text": "genotype"
         },
         "tracegroupgap": 0
        },
        "template": {
         "data": {
          "bar": [
           {
            "error_x": {
             "color": "#2a3f5f"
            },
            "error_y": {
             "color": "#2a3f5f"
            },
            "marker": {
             "line": {
              "color": "#E5ECF6",
              "width": 0.5
             },
             "pattern": {
              "fillmode": "overlay",
              "size": 10,
              "solidity": 0.2
             }
            },
            "type": "bar"
           }
          ],
          "barpolar": [
           {
            "marker": {
             "line": {
              "color": "#E5ECF6",
              "width": 0.5
             },
             "pattern": {
              "fillmode": "overlay",
              "size": 10,
              "solidity": 0.2
             }
            },
            "type": "barpolar"
           }
          ],
          "carpet": [
           {
            "aaxis": {
             "endlinecolor": "#2a3f5f",
             "gridcolor": "white",
             "linecolor": "white",
             "minorgridcolor": "white",
             "startlinecolor": "#2a3f5f"
            },
            "baxis": {
             "endlinecolor": "#2a3f5f",
             "gridcolor": "white",
             "linecolor": "white",
             "minorgridcolor": "white",
             "startlinecolor": "#2a3f5f"
            },
            "type": "carpet"
           }
          ],
          "choropleth": [
           {
            "colorbar": {
             "outlinewidth": 0,
             "ticks": ""
            },
            "type": "choropleth"
           }
          ],
          "contour": [
           {
            "colorbar": {
             "outlinewidth": 0,
             "ticks": ""
            },
            "colorscale": [
             [
              0,
              "#0d0887"
             ],
             [
              0.1111111111111111,
              "#46039f"
             ],
             [
              0.2222222222222222,
              "#7201a8"
             ],
             [
              0.3333333333333333,
              "#9c179e"
             ],
             [
              0.4444444444444444,
              "#bd3786"
             ],
             [
              0.5555555555555556,
              "#d8576b"
             ],
             [
              0.6666666666666666,
              "#ed7953"
             ],
             [
              0.7777777777777778,
              "#fb9f3a"
             ],
             [
              0.8888888888888888,
              "#fdca26"
             ],
             [
              1,
              "#f0f921"
             ]
            ],
            "type": "contour"
           }
          ],
          "contourcarpet": [
           {
            "colorbar": {
             "outlinewidth": 0,
             "ticks": ""
            },
            "type": "contourcarpet"
           }
          ],
          "heatmap": [
           {
            "colorbar": {
             "outlinewidth": 0,
             "ticks": ""
            },
            "colorscale": [
             [
              0,
              "#0d0887"
             ],
             [
              0.1111111111111111,
              "#46039f"
             ],
             [
              0.2222222222222222,
              "#7201a8"
             ],
             [
              0.3333333333333333,
              "#9c179e"
             ],
             [
              0.4444444444444444,
              "#bd3786"
             ],
             [
              0.5555555555555556,
              "#d8576b"
             ],
             [
              0.6666666666666666,
              "#ed7953"
             ],
             [
              0.7777777777777778,
              "#fb9f3a"
             ],
             [
              0.8888888888888888,
              "#fdca26"
             ],
             [
              1,
              "#f0f921"
             ]
            ],
            "type": "heatmap"
           }
          ],
          "heatmapgl": [
           {
            "colorbar": {
             "outlinewidth": 0,
             "ticks": ""
            },
            "colorscale": [
             [
              0,
              "#0d0887"
             ],
             [
              0.1111111111111111,
              "#46039f"
             ],
             [
              0.2222222222222222,
              "#7201a8"
             ],
             [
              0.3333333333333333,
              "#9c179e"
             ],
             [
              0.4444444444444444,
              "#bd3786"
             ],
             [
              0.5555555555555556,
              "#d8576b"
             ],
             [
              0.6666666666666666,
              "#ed7953"
             ],
             [
              0.7777777777777778,
              "#fb9f3a"
             ],
             [
              0.8888888888888888,
              "#fdca26"
             ],
             [
              1,
              "#f0f921"
             ]
            ],
            "type": "heatmapgl"
           }
          ],
          "histogram": [
           {
            "marker": {
             "pattern": {
              "fillmode": "overlay",
              "size": 10,
              "solidity": 0.2
             }
            },
            "type": "histogram"
           }
          ],
          "histogram2d": [
           {
            "colorbar": {
             "outlinewidth": 0,
             "ticks": ""
            },
            "colorscale": [
             [
              0,
              "#0d0887"
             ],
             [
              0.1111111111111111,
              "#46039f"
             ],
             [
              0.2222222222222222,
              "#7201a8"
             ],
             [
              0.3333333333333333,
              "#9c179e"
             ],
             [
              0.4444444444444444,
              "#bd3786"
             ],
             [
              0.5555555555555556,
              "#d8576b"
             ],
             [
              0.6666666666666666,
              "#ed7953"
             ],
             [
              0.7777777777777778,
              "#fb9f3a"
             ],
             [
              0.8888888888888888,
              "#fdca26"
             ],
             [
              1,
              "#f0f921"
             ]
            ],
            "type": "histogram2d"
           }
          ],
          "histogram2dcontour": [
           {
            "colorbar": {
             "outlinewidth": 0,
             "ticks": ""
            },
            "colorscale": [
             [
              0,
              "#0d0887"
             ],
             [
              0.1111111111111111,
              "#46039f"
             ],
             [
              0.2222222222222222,
              "#7201a8"
             ],
             [
              0.3333333333333333,
              "#9c179e"
             ],
             [
              0.4444444444444444,
              "#bd3786"
             ],
             [
              0.5555555555555556,
              "#d8576b"
             ],
             [
              0.6666666666666666,
              "#ed7953"
             ],
             [
              0.7777777777777778,
              "#fb9f3a"
             ],
             [
              0.8888888888888888,
              "#fdca26"
             ],
             [
              1,
              "#f0f921"
             ]
            ],
            "type": "histogram2dcontour"
           }
          ],
          "mesh3d": [
           {
            "colorbar": {
             "outlinewidth": 0,
             "ticks": ""
            },
            "type": "mesh3d"
           }
          ],
          "parcoords": [
           {
            "line": {
             "colorbar": {
              "outlinewidth": 0,
              "ticks": ""
             }
            },
            "type": "parcoords"
           }
          ],
          "pie": [
           {
            "automargin": true,
            "type": "pie"
           }
          ],
          "scatter": [
           {
            "fillpattern": {
             "fillmode": "overlay",
             "size": 10,
             "solidity": 0.2
            },
            "type": "scatter"
           }
          ],
          "scatter3d": [
           {
            "line": {
             "colorbar": {
              "outlinewidth": 0,
              "ticks": ""
             }
            },
            "marker": {
             "colorbar": {
              "outlinewidth": 0,
              "ticks": ""
             }
            },
            "type": "scatter3d"
           }
          ],
          "scattercarpet": [
           {
            "marker": {
             "colorbar": {
              "outlinewidth": 0,
              "ticks": ""
             }
            },
            "type": "scattercarpet"
           }
          ],
          "scattergeo": [
           {
            "marker": {
             "colorbar": {
              "outlinewidth": 0,
              "ticks": ""
             }
            },
            "type": "scattergeo"
           }
          ],
          "scattergl": [
           {
            "marker": {
             "colorbar": {
              "outlinewidth": 0,
              "ticks": ""
             }
            },
            "type": "scattergl"
           }
          ],
          "scattermapbox": [
           {
            "marker": {
             "colorbar": {
              "outlinewidth": 0,
              "ticks": ""
             }
            },
            "type": "scattermapbox"
           }
          ],
          "scatterpolar": [
           {
            "marker": {
             "colorbar": {
              "outlinewidth": 0,
              "ticks": ""
             }
            },
            "type": "scatterpolar"
           }
          ],
          "scatterpolargl": [
           {
            "marker": {
             "colorbar": {
              "outlinewidth": 0,
              "ticks": ""
             }
            },
            "type": "scatterpolargl"
           }
          ],
          "scatterternary": [
           {
            "marker": {
             "colorbar": {
              "outlinewidth": 0,
              "ticks": ""
             }
            },
            "type": "scatterternary"
           }
          ],
          "surface": [
           {
            "colorbar": {
             "outlinewidth": 0,
             "ticks": ""
            },
            "colorscale": [
             [
              0,
              "#0d0887"
             ],
             [
              0.1111111111111111,
              "#46039f"
             ],
             [
              0.2222222222222222,
              "#7201a8"
             ],
             [
              0.3333333333333333,
              "#9c179e"
             ],
             [
              0.4444444444444444,
              "#bd3786"
             ],
             [
              0.5555555555555556,
              "#d8576b"
             ],
             [
              0.6666666666666666,
              "#ed7953"
             ],
             [
              0.7777777777777778,
              "#fb9f3a"
             ],
             [
              0.8888888888888888,
              "#fdca26"
             ],
             [
              1,
              "#f0f921"
             ]
            ],
            "type": "surface"
           }
          ],
          "table": [
           {
            "cells": {
             "fill": {
              "color": "#EBF0F8"
             },
             "line": {
              "color": "white"
             }
            },
            "header": {
             "fill": {
              "color": "#C8D4E3"
             },
             "line": {
              "color": "white"
             }
            },
            "type": "table"
           }
          ]
         },
         "layout": {
          "annotationdefaults": {
           "arrowcolor": "#2a3f5f",
           "arrowhead": 0,
           "arrowwidth": 1
          },
          "autotypenumbers": "strict",
          "coloraxis": {
           "colorbar": {
            "outlinewidth": 0,
            "ticks": ""
           }
          },
          "colorscale": {
           "diverging": [
            [
             0,
             "#8e0152"
            ],
            [
             0.1,
             "#c51b7d"
            ],
            [
             0.2,
             "#de77ae"
            ],
            [
             0.3,
             "#f1b6da"
            ],
            [
             0.4,
             "#fde0ef"
            ],
            [
             0.5,
             "#f7f7f7"
            ],
            [
             0.6,
             "#e6f5d0"
            ],
            [
             0.7,
             "#b8e186"
            ],
            [
             0.8,
             "#7fbc41"
            ],
            [
             0.9,
             "#4d9221"
            ],
            [
             1,
             "#276419"
            ]
           ],
           "sequential": [
            [
             0,
             "#0d0887"
            ],
            [
             0.1111111111111111,
             "#46039f"
            ],
            [
             0.2222222222222222,
             "#7201a8"
            ],
            [
             0.3333333333333333,
             "#9c179e"
            ],
            [
             0.4444444444444444,
             "#bd3786"
            ],
            [
             0.5555555555555556,
             "#d8576b"
            ],
            [
             0.6666666666666666,
             "#ed7953"
            ],
            [
             0.7777777777777778,
             "#fb9f3a"
            ],
            [
             0.8888888888888888,
             "#fdca26"
            ],
            [
             1,
             "#f0f921"
            ]
           ],
           "sequentialminus": [
            [
             0,
             "#0d0887"
            ],
            [
             0.1111111111111111,
             "#46039f"
            ],
            [
             0.2222222222222222,
             "#7201a8"
            ],
            [
             0.3333333333333333,
             "#9c179e"
            ],
            [
             0.4444444444444444,
             "#bd3786"
            ],
            [
             0.5555555555555556,
             "#d8576b"
            ],
            [
             0.6666666666666666,
             "#ed7953"
            ],
            [
             0.7777777777777778,
             "#fb9f3a"
            ],
            [
             0.8888888888888888,
             "#fdca26"
            ],
            [
             1,
             "#f0f921"
            ]
           ]
          },
          "colorway": [
           "#636efa",
           "#EF553B",
           "#00cc96",
           "#ab63fa",
           "#FFA15A",
           "#19d3f3",
           "#FF6692",
           "#B6E880",
           "#FF97FF",
           "#FECB52"
          ],
          "font": {
           "color": "#2a3f5f"
          },
          "geo": {
           "bgcolor": "white",
           "lakecolor": "white",
           "landcolor": "#E5ECF6",
           "showlakes": true,
           "showland": true,
           "subunitcolor": "white"
          },
          "hoverlabel": {
           "align": "left"
          },
          "hovermode": "closest",
          "mapbox": {
           "style": "light"
          },
          "paper_bgcolor": "white",
          "plot_bgcolor": "#E5ECF6",
          "polar": {
           "angularaxis": {
            "gridcolor": "white",
            "linecolor": "white",
            "ticks": ""
           },
           "bgcolor": "#E5ECF6",
           "radialaxis": {
            "gridcolor": "white",
            "linecolor": "white",
            "ticks": ""
           }
          },
          "scene": {
           "xaxis": {
            "backgroundcolor": "#E5ECF6",
            "gridcolor": "white",
            "gridwidth": 2,
            "linecolor": "white",
            "showbackground": true,
            "ticks": "",
            "zerolinecolor": "white"
           },
           "yaxis": {
            "backgroundcolor": "#E5ECF6",
            "gridcolor": "white",
            "gridwidth": 2,
            "linecolor": "white",
            "showbackground": true,
            "ticks": "",
            "zerolinecolor": "white"
           },
           "zaxis": {
            "backgroundcolor": "#E5ECF6",
            "gridcolor": "white",
            "gridwidth": 2,
            "linecolor": "white",
            "showbackground": true,
            "ticks": "",
            "zerolinecolor": "white"
           }
          },
          "shapedefaults": {
           "line": {
            "color": "#2a3f5f"
           }
          },
          "ternary": {
           "aaxis": {
            "gridcolor": "white",
            "linecolor": "white",
            "ticks": ""
           },
           "baxis": {
            "gridcolor": "white",
            "linecolor": "white",
            "ticks": ""
           },
           "bgcolor": "#E5ECF6",
           "caxis": {
            "gridcolor": "white",
            "linecolor": "white",
            "ticks": ""
           }
          },
          "title": {
           "x": 0.05
          },
          "xaxis": {
           "automargin": true,
           "gridcolor": "white",
           "linecolor": "white",
           "ticks": "",
           "title": {
            "standoff": 15
           },
           "zerolinecolor": "white",
           "zerolinewidth": 2
          },
          "yaxis": {
           "automargin": true,
           "gridcolor": "white",
           "linecolor": "white",
           "ticks": "",
           "title": {
            "standoff": 15
           },
           "zerolinecolor": "white",
           "zerolinewidth": 2
          }
         }
        },
        "title": {
         "text": "DNA Damage in All Nuclei by Tissue Location and Genotype (sex-aggregated) - Auto stain QC - cellpdia30_sigma1_dilrad4_dnad_obj_seg_v2_gliaero6_gliathr20_dnadero2"
        },
        "xaxis": {
         "anchor": "y",
         "domain": [
          0,
          1
         ],
         "title": {
          "text": "tissue_location"
         }
        },
        "yaxis": {
         "anchor": "x",
         "domain": [
          0,
          1
         ],
         "title": {
          "text": "avg_dna_damage_foci/all_nuclei"
         }
        }
       }
      }
     },
     "metadata": {},
     "output_type": "display_data"
    }
   ],
   "source": [
    "# Create the boxplot\n",
    "fig = px.box(auto_filtered_df, x='tissue_location', y='avg_dna_damage_foci/all_nuclei',\n",
    "             color='genotype', # Different genotypes will be shown in different colors\n",
    "             title=f'DNA Damage in All Nuclei by Tissue Location and Genotype (sex-aggregated) - Auto stain QC - {title}')\n",
    "\n",
    "# Show the plot\n",
    "fig.show()"
   ]
  },
  {
   "cell_type": "code",
   "execution_count": 20,
   "metadata": {},
   "outputs": [
    {
     "data": {
      "application/vnd.plotly.v1+json": {
       "config": {
        "plotlyServerURL": "https://plot.ly"
       },
       "data": [
        {
         "alignmentgroup": "True",
         "hovertemplate": "genotype=APP/PS1 x Neil3 KO<br>tissue_location=%{x}<br>avg_dna_damage_foci/all_nuclei_damage_+=%{y}<extra></extra>",
         "legendgroup": "APP/PS1 x Neil3 KO",
         "marker": {
          "color": "#636efa"
         },
         "name": "APP/PS1 x Neil3 KO",
         "notched": false,
         "offsetgroup": "APP/PS1 x Neil3 KO",
         "orientation": "v",
         "showlegend": true,
         "type": "box",
         "x": [
          "CA1",
          "CA3",
          "CTX1",
          "CTX2",
          "CTX3",
          "DG",
          "CA1",
          "CA3",
          "CTX1",
          "CTX2",
          "CTX3",
          "DG",
          "CA1",
          "CA3",
          "CTX1",
          "CTX2",
          "CTX3",
          "DG",
          "CA1",
          "CA3",
          "CTX1",
          "CTX2",
          "CTX3",
          "DG",
          "CA1",
          "CA3",
          "CTX1",
          "CTX2",
          "CTX3",
          "DG",
          "CA1",
          "CA3",
          "CTX1",
          "CTX2",
          "CTX3",
          "DG",
          "CA1",
          "CA3",
          "CTX1",
          "CTX2",
          "CTX3",
          "DG",
          "DG",
          "CA1",
          "CA3",
          "CTX1",
          "CTX2",
          "CTX3",
          "DG",
          "CA1",
          "CA3",
          "CTX1",
          "CTX2",
          "CTX3",
          "DG",
          "CA1",
          "CA3",
          "CTX1",
          "CTX2",
          "CTX3",
          "DG",
          "CA1",
          "CA3",
          "CTX1",
          "CTX2",
          "CTX3",
          "DG",
          "CA1",
          "CA3",
          "CTX1",
          "CTX2",
          "CTX3",
          "DG",
          "CA1",
          "CA3",
          "CTX1",
          "CTX2",
          "CTX3",
          "DG",
          "CA1",
          "CA3",
          "CTX1",
          "CTX2",
          "CTX3",
          "DG",
          "CA1",
          "CA3",
          "CTX1",
          "CTX2",
          "CTX3",
          "DG",
          "CA1",
          "CA3",
          "CTX1",
          "CTX2",
          "CTX3",
          "DG"
         ],
         "x0": " ",
         "xaxis": "x",
         "y": [
          1.2236842105263157,
          1.6417910447761197,
          1.1333333333333333,
          1.3917525773195876,
          1.1470588235294117,
          1.5205479452054795,
          1.2325581395348837,
          1.6470588235294117,
          1.2916666666666667,
          1.2727272727272727,
          1.443181818181818,
          1.3356401384083043,
          1.3846153846153846,
          1.3,
          1.325,
          1.1666666666666667,
          1.1842105263157894,
          1.3043478260869563,
          1.1346153846153846,
          1.3888888888888888,
          1,
          1.2705882352941176,
          1.4015748031496065,
          1.94888178913738,
          1.148148148148148,
          1.4565217391304348,
          1.206896551724138,
          1.3852459016393444,
          1.2028985507246377,
          1.308880308880309,
          1.3932584269662922,
          2.022727272727273,
          1.3106060606060606,
          1.452991452991453,
          1.56,
          1.328,
          1.2025316455696202,
          1.4107142857142858,
          1.1415929203539823,
          1.387931034482759,
          1.1898734177215189,
          1.5185185185185186,
          2.142857142857143,
          1.1063829787234043,
          1.2325581395348837,
          1.2876712328767124,
          1.0945945945945943,
          1.2209302325581397,
          1.4206008583690988,
          1.2,
          1.3333333333333333,
          1,
          1.0454545454545454,
          1,
          1.2766798418972332,
          1.504950495049505,
          1.524390243902439,
          1.078125,
          1.15,
          1.1454545454545455,
          1.8125,
          1.2407407407407407,
          1.0476190476190477,
          1.1162790697674418,
          1.1666666666666667,
          1.0303030303030305,
          1.3846153846153846,
          1.0526315789473684,
          1.261904761904762,
          1,
          1,
          1.2580645161290325,
          1.025,
          1.0238095238095235,
          1.4473684210526316,
          1,
          1.1228070175438596,
          1.2173913043478262,
          1.1111111111111112,
          1.2075471698113207,
          1.5666666666666669,
          1.1136363636363635,
          1.022222222222222,
          1,
          1.1746031746031746,
          1.1403508771929824,
          1.4310344827586208,
          1.1551724137931034,
          1.2959183673469388,
          1.2236842105263157,
          1.2080924855491328,
          1.1375,
          1.2424242424242424,
          1.13,
          1.1590909090909092,
          1.18,
          1.262931034482759
         ],
         "y0": " ",
         "yaxis": "y"
        },
        {
         "alignmentgroup": "True",
         "hovertemplate": "genotype=APP/PS1<br>tissue_location=%{x}<br>avg_dna_damage_foci/all_nuclei_damage_+=%{y}<extra></extra>",
         "legendgroup": "APP/PS1",
         "marker": {
          "color": "#EF553B"
         },
         "name": "APP/PS1",
         "notched": false,
         "offsetgroup": "APP/PS1",
         "orientation": "v",
         "showlegend": true,
         "type": "box",
         "x": [
          "CA1",
          "CA3",
          "CTX1",
          "CTX2",
          "CTX3",
          "DG",
          "CA1",
          "CA3",
          "CTX1",
          "CTX2",
          "CTX3",
          "DG",
          "CA1",
          "CA3",
          "CTX1",
          "CTX2",
          "CTX3",
          "DG",
          "CA1",
          "CA3",
          "CTX1",
          "CTX2",
          "CTX3",
          "DG",
          "DG",
          "CA1",
          "CA3",
          "CTX1",
          "CTX2",
          "CTX3",
          "DG",
          "CA1",
          "CA3",
          "CTX1",
          "CTX2",
          "CTX3",
          "DG",
          "CA1",
          "CA3",
          "CTX1",
          "CTX2",
          "CTX3",
          "DG",
          "CA1",
          "CA3",
          "CTX1",
          "CTX2",
          "CTX3",
          "DG",
          "CA1",
          "CA3",
          "CTX1",
          "CTX2",
          "CTX3",
          "DG",
          "CA1",
          "CA3",
          "CTX1",
          "CTX2",
          "CTX3",
          "DG",
          "CA1",
          "CA3",
          "CTX1",
          "CTX2",
          "CTX3",
          "DG",
          "CA1",
          "CA3",
          "CTX1",
          "CTX2",
          "CTX3",
          "DG",
          "CA1",
          "CA3",
          "CTX1",
          "CTX2",
          "CTX3",
          "DG",
          "CA1",
          "CA3",
          "CTX1",
          "CTX2",
          "CTX3",
          "DG",
          "CA1",
          "CA3",
          "CTX1",
          "CTX2",
          "CTX3",
          "DG",
          "CA1",
          "CA3",
          "CTX1",
          "CTX2",
          "CTX3",
          "DG",
          "CA1",
          "CA3",
          "CTX1",
          "CTX2",
          "CTX3",
          "DG",
          "CA1",
          "CA3",
          "CTX1",
          "CTX2",
          "CTX3",
          "DG",
          "CA1",
          "CA3",
          "CTX1",
          "CTX2",
          "CTX3",
          "DG"
         ],
         "x0": " ",
         "xaxis": "x",
         "y": [
          1.348314606741573,
          1.8888888888888888,
          1.3576642335766422,
          1.4098360655737705,
          1.25,
          1.5147540983606558,
          1.203125,
          1.4090909090909092,
          1.0357142857142858,
          1.0909090909090908,
          1.2463768115942029,
          1.332236842105263,
          1.087719298245614,
          1.2222222222222223,
          1,
          1.0434782608695652,
          1.0857142857142856,
          1.0434782608695652,
          1.3736263736263736,
          1.5890410958904109,
          1.098360655737705,
          1.4545454545454546,
          1.5203252032520325,
          1.670360110803324,
          1.6147540983606556,
          1.320754716981132,
          1.5576923076923077,
          1.0769230769230769,
          1.2209302325581397,
          1.125,
          1.3392070484581498,
          1.34375,
          1.435897435897436,
          1.0746268656716418,
          1.1553398058252426,
          1.3376623376623376,
          1.6144578313253013,
          1.7264150943396226,
          2.1587301587301586,
          1.46242774566474,
          1.656441717791411,
          1.6493506493506491,
          1.7992700729927007,
          1.1979166666666667,
          1.462962962962963,
          1.44,
          1.44,
          1.4508196721311477,
          1.5409252669039146,
          1.1898734177215189,
          1.7818181818181815,
          1.2190476190476192,
          1.3288590604026846,
          1.3085106382978724,
          1.3870967741935485,
          1.169811320754717,
          1.5098039215686274,
          1.04,
          1.0862068965517242,
          1.0333333333333334,
          1.26890756302521,
          1.06,
          1.6,
          1.0615384615384615,
          1.123076923076923,
          1.263157894736842,
          1.2448979591836735,
          1.022222222222222,
          1.6102941176470589,
          1.2790697674418603,
          1.1044776119402986,
          1.346938775510204,
          1.9063545150501675,
          1.2650602409638554,
          1.9393939393939397,
          1.1224489795918366,
          1.3027522935779816,
          1.46,
          1.4382470119521913,
          1.4303797468354431,
          1.4054054054054057,
          1.1683168316831682,
          1.161764705882353,
          1.2222222222222223,
          1.695364238410596,
          1.1333333333333333,
          1.4833333333333334,
          1.0285714285714285,
          1.0444444444444445,
          1.1551724137931034,
          1.288888888888889,
          1.5,
          1.8333333333333333,
          1.371212121212121,
          1.3693693693693694,
          1.3,
          1.7442922374429224,
          1.1754385964912282,
          1.569767441860465,
          1.130952380952381,
          1.240506329113924,
          1.3580246913580247,
          1.482905982905983,
          1.163265306122449,
          1.5135135135135136,
          1,
          1.3333333333333333,
          1.1666666666666667,
          1.2672413793103448,
          1.1,
          1.4,
          1.1343283582089552,
          1.0923076923076922,
          1.125,
          1.2596685082872927
         ],
         "y0": " ",
         "yaxis": "y"
        }
       ],
       "layout": {
        "boxmode": "group",
        "legend": {
         "title": {
          "text": "genotype"
         },
         "tracegroupgap": 0
        },
        "template": {
         "data": {
          "bar": [
           {
            "error_x": {
             "color": "#2a3f5f"
            },
            "error_y": {
             "color": "#2a3f5f"
            },
            "marker": {
             "line": {
              "color": "#E5ECF6",
              "width": 0.5
             },
             "pattern": {
              "fillmode": "overlay",
              "size": 10,
              "solidity": 0.2
             }
            },
            "type": "bar"
           }
          ],
          "barpolar": [
           {
            "marker": {
             "line": {
              "color": "#E5ECF6",
              "width": 0.5
             },
             "pattern": {
              "fillmode": "overlay",
              "size": 10,
              "solidity": 0.2
             }
            },
            "type": "barpolar"
           }
          ],
          "carpet": [
           {
            "aaxis": {
             "endlinecolor": "#2a3f5f",
             "gridcolor": "white",
             "linecolor": "white",
             "minorgridcolor": "white",
             "startlinecolor": "#2a3f5f"
            },
            "baxis": {
             "endlinecolor": "#2a3f5f",
             "gridcolor": "white",
             "linecolor": "white",
             "minorgridcolor": "white",
             "startlinecolor": "#2a3f5f"
            },
            "type": "carpet"
           }
          ],
          "choropleth": [
           {
            "colorbar": {
             "outlinewidth": 0,
             "ticks": ""
            },
            "type": "choropleth"
           }
          ],
          "contour": [
           {
            "colorbar": {
             "outlinewidth": 0,
             "ticks": ""
            },
            "colorscale": [
             [
              0,
              "#0d0887"
             ],
             [
              0.1111111111111111,
              "#46039f"
             ],
             [
              0.2222222222222222,
              "#7201a8"
             ],
             [
              0.3333333333333333,
              "#9c179e"
             ],
             [
              0.4444444444444444,
              "#bd3786"
             ],
             [
              0.5555555555555556,
              "#d8576b"
             ],
             [
              0.6666666666666666,
              "#ed7953"
             ],
             [
              0.7777777777777778,
              "#fb9f3a"
             ],
             [
              0.8888888888888888,
              "#fdca26"
             ],
             [
              1,
              "#f0f921"
             ]
            ],
            "type": "contour"
           }
          ],
          "contourcarpet": [
           {
            "colorbar": {
             "outlinewidth": 0,
             "ticks": ""
            },
            "type": "contourcarpet"
           }
          ],
          "heatmap": [
           {
            "colorbar": {
             "outlinewidth": 0,
             "ticks": ""
            },
            "colorscale": [
             [
              0,
              "#0d0887"
             ],
             [
              0.1111111111111111,
              "#46039f"
             ],
             [
              0.2222222222222222,
              "#7201a8"
             ],
             [
              0.3333333333333333,
              "#9c179e"
             ],
             [
              0.4444444444444444,
              "#bd3786"
             ],
             [
              0.5555555555555556,
              "#d8576b"
             ],
             [
              0.6666666666666666,
              "#ed7953"
             ],
             [
              0.7777777777777778,
              "#fb9f3a"
             ],
             [
              0.8888888888888888,
              "#fdca26"
             ],
             [
              1,
              "#f0f921"
             ]
            ],
            "type": "heatmap"
           }
          ],
          "heatmapgl": [
           {
            "colorbar": {
             "outlinewidth": 0,
             "ticks": ""
            },
            "colorscale": [
             [
              0,
              "#0d0887"
             ],
             [
              0.1111111111111111,
              "#46039f"
             ],
             [
              0.2222222222222222,
              "#7201a8"
             ],
             [
              0.3333333333333333,
              "#9c179e"
             ],
             [
              0.4444444444444444,
              "#bd3786"
             ],
             [
              0.5555555555555556,
              "#d8576b"
             ],
             [
              0.6666666666666666,
              "#ed7953"
             ],
             [
              0.7777777777777778,
              "#fb9f3a"
             ],
             [
              0.8888888888888888,
              "#fdca26"
             ],
             [
              1,
              "#f0f921"
             ]
            ],
            "type": "heatmapgl"
           }
          ],
          "histogram": [
           {
            "marker": {
             "pattern": {
              "fillmode": "overlay",
              "size": 10,
              "solidity": 0.2
             }
            },
            "type": "histogram"
           }
          ],
          "histogram2d": [
           {
            "colorbar": {
             "outlinewidth": 0,
             "ticks": ""
            },
            "colorscale": [
             [
              0,
              "#0d0887"
             ],
             [
              0.1111111111111111,
              "#46039f"
             ],
             [
              0.2222222222222222,
              "#7201a8"
             ],
             [
              0.3333333333333333,
              "#9c179e"
             ],
             [
              0.4444444444444444,
              "#bd3786"
             ],
             [
              0.5555555555555556,
              "#d8576b"
             ],
             [
              0.6666666666666666,
              "#ed7953"
             ],
             [
              0.7777777777777778,
              "#fb9f3a"
             ],
             [
              0.8888888888888888,
              "#fdca26"
             ],
             [
              1,
              "#f0f921"
             ]
            ],
            "type": "histogram2d"
           }
          ],
          "histogram2dcontour": [
           {
            "colorbar": {
             "outlinewidth": 0,
             "ticks": ""
            },
            "colorscale": [
             [
              0,
              "#0d0887"
             ],
             [
              0.1111111111111111,
              "#46039f"
             ],
             [
              0.2222222222222222,
              "#7201a8"
             ],
             [
              0.3333333333333333,
              "#9c179e"
             ],
             [
              0.4444444444444444,
              "#bd3786"
             ],
             [
              0.5555555555555556,
              "#d8576b"
             ],
             [
              0.6666666666666666,
              "#ed7953"
             ],
             [
              0.7777777777777778,
              "#fb9f3a"
             ],
             [
              0.8888888888888888,
              "#fdca26"
             ],
             [
              1,
              "#f0f921"
             ]
            ],
            "type": "histogram2dcontour"
           }
          ],
          "mesh3d": [
           {
            "colorbar": {
             "outlinewidth": 0,
             "ticks": ""
            },
            "type": "mesh3d"
           }
          ],
          "parcoords": [
           {
            "line": {
             "colorbar": {
              "outlinewidth": 0,
              "ticks": ""
             }
            },
            "type": "parcoords"
           }
          ],
          "pie": [
           {
            "automargin": true,
            "type": "pie"
           }
          ],
          "scatter": [
           {
            "fillpattern": {
             "fillmode": "overlay",
             "size": 10,
             "solidity": 0.2
            },
            "type": "scatter"
           }
          ],
          "scatter3d": [
           {
            "line": {
             "colorbar": {
              "outlinewidth": 0,
              "ticks": ""
             }
            },
            "marker": {
             "colorbar": {
              "outlinewidth": 0,
              "ticks": ""
             }
            },
            "type": "scatter3d"
           }
          ],
          "scattercarpet": [
           {
            "marker": {
             "colorbar": {
              "outlinewidth": 0,
              "ticks": ""
             }
            },
            "type": "scattercarpet"
           }
          ],
          "scattergeo": [
           {
            "marker": {
             "colorbar": {
              "outlinewidth": 0,
              "ticks": ""
             }
            },
            "type": "scattergeo"
           }
          ],
          "scattergl": [
           {
            "marker": {
             "colorbar": {
              "outlinewidth": 0,
              "ticks": ""
             }
            },
            "type": "scattergl"
           }
          ],
          "scattermapbox": [
           {
            "marker": {
             "colorbar": {
              "outlinewidth": 0,
              "ticks": ""
             }
            },
            "type": "scattermapbox"
           }
          ],
          "scatterpolar": [
           {
            "marker": {
             "colorbar": {
              "outlinewidth": 0,
              "ticks": ""
             }
            },
            "type": "scatterpolar"
           }
          ],
          "scatterpolargl": [
           {
            "marker": {
             "colorbar": {
              "outlinewidth": 0,
              "ticks": ""
             }
            },
            "type": "scatterpolargl"
           }
          ],
          "scatterternary": [
           {
            "marker": {
             "colorbar": {
              "outlinewidth": 0,
              "ticks": ""
             }
            },
            "type": "scatterternary"
           }
          ],
          "surface": [
           {
            "colorbar": {
             "outlinewidth": 0,
             "ticks": ""
            },
            "colorscale": [
             [
              0,
              "#0d0887"
             ],
             [
              0.1111111111111111,
              "#46039f"
             ],
             [
              0.2222222222222222,
              "#7201a8"
             ],
             [
              0.3333333333333333,
              "#9c179e"
             ],
             [
              0.4444444444444444,
              "#bd3786"
             ],
             [
              0.5555555555555556,
              "#d8576b"
             ],
             [
              0.6666666666666666,
              "#ed7953"
             ],
             [
              0.7777777777777778,
              "#fb9f3a"
             ],
             [
              0.8888888888888888,
              "#fdca26"
             ],
             [
              1,
              "#f0f921"
             ]
            ],
            "type": "surface"
           }
          ],
          "table": [
           {
            "cells": {
             "fill": {
              "color": "#EBF0F8"
             },
             "line": {
              "color": "white"
             }
            },
            "header": {
             "fill": {
              "color": "#C8D4E3"
             },
             "line": {
              "color": "white"
             }
            },
            "type": "table"
           }
          ]
         },
         "layout": {
          "annotationdefaults": {
           "arrowcolor": "#2a3f5f",
           "arrowhead": 0,
           "arrowwidth": 1
          },
          "autotypenumbers": "strict",
          "coloraxis": {
           "colorbar": {
            "outlinewidth": 0,
            "ticks": ""
           }
          },
          "colorscale": {
           "diverging": [
            [
             0,
             "#8e0152"
            ],
            [
             0.1,
             "#c51b7d"
            ],
            [
             0.2,
             "#de77ae"
            ],
            [
             0.3,
             "#f1b6da"
            ],
            [
             0.4,
             "#fde0ef"
            ],
            [
             0.5,
             "#f7f7f7"
            ],
            [
             0.6,
             "#e6f5d0"
            ],
            [
             0.7,
             "#b8e186"
            ],
            [
             0.8,
             "#7fbc41"
            ],
            [
             0.9,
             "#4d9221"
            ],
            [
             1,
             "#276419"
            ]
           ],
           "sequential": [
            [
             0,
             "#0d0887"
            ],
            [
             0.1111111111111111,
             "#46039f"
            ],
            [
             0.2222222222222222,
             "#7201a8"
            ],
            [
             0.3333333333333333,
             "#9c179e"
            ],
            [
             0.4444444444444444,
             "#bd3786"
            ],
            [
             0.5555555555555556,
             "#d8576b"
            ],
            [
             0.6666666666666666,
             "#ed7953"
            ],
            [
             0.7777777777777778,
             "#fb9f3a"
            ],
            [
             0.8888888888888888,
             "#fdca26"
            ],
            [
             1,
             "#f0f921"
            ]
           ],
           "sequentialminus": [
            [
             0,
             "#0d0887"
            ],
            [
             0.1111111111111111,
             "#46039f"
            ],
            [
             0.2222222222222222,
             "#7201a8"
            ],
            [
             0.3333333333333333,
             "#9c179e"
            ],
            [
             0.4444444444444444,
             "#bd3786"
            ],
            [
             0.5555555555555556,
             "#d8576b"
            ],
            [
             0.6666666666666666,
             "#ed7953"
            ],
            [
             0.7777777777777778,
             "#fb9f3a"
            ],
            [
             0.8888888888888888,
             "#fdca26"
            ],
            [
             1,
             "#f0f921"
            ]
           ]
          },
          "colorway": [
           "#636efa",
           "#EF553B",
           "#00cc96",
           "#ab63fa",
           "#FFA15A",
           "#19d3f3",
           "#FF6692",
           "#B6E880",
           "#FF97FF",
           "#FECB52"
          ],
          "font": {
           "color": "#2a3f5f"
          },
          "geo": {
           "bgcolor": "white",
           "lakecolor": "white",
           "landcolor": "#E5ECF6",
           "showlakes": true,
           "showland": true,
           "subunitcolor": "white"
          },
          "hoverlabel": {
           "align": "left"
          },
          "hovermode": "closest",
          "mapbox": {
           "style": "light"
          },
          "paper_bgcolor": "white",
          "plot_bgcolor": "#E5ECF6",
          "polar": {
           "angularaxis": {
            "gridcolor": "white",
            "linecolor": "white",
            "ticks": ""
           },
           "bgcolor": "#E5ECF6",
           "radialaxis": {
            "gridcolor": "white",
            "linecolor": "white",
            "ticks": ""
           }
          },
          "scene": {
           "xaxis": {
            "backgroundcolor": "#E5ECF6",
            "gridcolor": "white",
            "gridwidth": 2,
            "linecolor": "white",
            "showbackground": true,
            "ticks": "",
            "zerolinecolor": "white"
           },
           "yaxis": {
            "backgroundcolor": "#E5ECF6",
            "gridcolor": "white",
            "gridwidth": 2,
            "linecolor": "white",
            "showbackground": true,
            "ticks": "",
            "zerolinecolor": "white"
           },
           "zaxis": {
            "backgroundcolor": "#E5ECF6",
            "gridcolor": "white",
            "gridwidth": 2,
            "linecolor": "white",
            "showbackground": true,
            "ticks": "",
            "zerolinecolor": "white"
           }
          },
          "shapedefaults": {
           "line": {
            "color": "#2a3f5f"
           }
          },
          "ternary": {
           "aaxis": {
            "gridcolor": "white",
            "linecolor": "white",
            "ticks": ""
           },
           "baxis": {
            "gridcolor": "white",
            "linecolor": "white",
            "ticks": ""
           },
           "bgcolor": "#E5ECF6",
           "caxis": {
            "gridcolor": "white",
            "linecolor": "white",
            "ticks": ""
           }
          },
          "title": {
           "x": 0.05
          },
          "xaxis": {
           "automargin": true,
           "gridcolor": "white",
           "linecolor": "white",
           "ticks": "",
           "title": {
            "standoff": 15
           },
           "zerolinecolor": "white",
           "zerolinewidth": 2
          },
          "yaxis": {
           "automargin": true,
           "gridcolor": "white",
           "linecolor": "white",
           "ticks": "",
           "title": {
            "standoff": 15
           },
           "zerolinecolor": "white",
           "zerolinewidth": 2
          }
         }
        },
        "title": {
         "text": "DNA Damage in Damage+ Nuclei by Tissue Location and Genotype (sex-aggregated) - Auto stain QC - cellpdia30_sigma1_dilrad4_dnad_obj_seg_v2_gliaero6_gliathr20_dnadero2"
        },
        "xaxis": {
         "anchor": "y",
         "domain": [
          0,
          1
         ],
         "title": {
          "text": "tissue_location"
         }
        },
        "yaxis": {
         "anchor": "x",
         "domain": [
          0,
          1
         ],
         "title": {
          "text": "avg_dna_damage_foci/all_nuclei_damage_+"
         }
        }
       }
      }
     },
     "metadata": {},
     "output_type": "display_data"
    }
   ],
   "source": [
    "# Create the boxplot\n",
    "fig = px.box(auto_filtered_df, x='tissue_location', y='avg_dna_damage_foci/all_nuclei_damage_+',\n",
    "             color='genotype', # Different genotypes will be shown in different colors\n",
    "             title=f'DNA Damage in Damage+ Nuclei by Tissue Location and Genotype (sex-aggregated) - Auto stain QC - {title}')\n",
    "\n",
    "# Show the plot\n",
    "fig.show()"
   ]
  },
  {
   "cell_type": "markdown",
   "metadata": {},
   "source": [
    "Show failed qc dataframe"
   ]
  },
  {
   "cell_type": "code",
   "execution_count": 21,
   "metadata": {},
   "outputs": [
    {
     "name": "stdout",
     "output_type": "stream",
     "text": [
      "40 stains have not passed QC and have been discarded\n"
     ]
    },
    {
     "data": {
      "text/html": [
       "<div>\n",
       "<style scoped>\n",
       "    .dataframe tbody tr th:only-of-type {\n",
       "        vertical-align: middle;\n",
       "    }\n",
       "\n",
       "    .dataframe tbody tr th {\n",
       "        vertical-align: top;\n",
       "    }\n",
       "\n",
       "    .dataframe thead th {\n",
       "        text-align: right;\n",
       "    }\n",
       "</style>\n",
       "<table border=\"1\" class=\"dataframe\">\n",
       "  <thead>\n",
       "    <tr style=\"text-align: right;\">\n",
       "      <th></th>\n",
       "      <th>index</th>\n",
       "      <th>filename</th>\n",
       "      <th>avg_dna_damage_foci/glia_+</th>\n",
       "      <th>avg_dna_damage_foci/glia_+_damage_+</th>\n",
       "      <th>avg_dna_damage_foci/all_nuclei</th>\n",
       "      <th>avg_dna_damage_foci/all_nuclei_damage_+</th>\n",
       "      <th>nr_+_dna_damage_glia_nuclei</th>\n",
       "      <th>nr_-_dna_damage_glia_nuclei</th>\n",
       "      <th>nr_glia_+_nuclei</th>\n",
       "      <th>nr_total_nuclei</th>\n",
       "      <th>...</th>\n",
       "      <th>tissue_location</th>\n",
       "      <th>staining_id</th>\n",
       "      <th>animal_id</th>\n",
       "      <th>sex</th>\n",
       "      <th>genotype</th>\n",
       "      <th>dna_damage_stain_quality_manual</th>\n",
       "      <th>manual_qc</th>\n",
       "      <th>glia_stain_quality_auto</th>\n",
       "      <th>dna_damage_stain_quality_auto</th>\n",
       "      <th>staining_qc_passed</th>\n",
       "    </tr>\n",
       "  </thead>\n",
       "  <tbody>\n",
       "    <tr>\n",
       "      <th>0</th>\n",
       "      <td>0</td>\n",
       "      <td>DSB Iba1 16_40X_CA1</td>\n",
       "      <td>0.312169</td>\n",
       "      <td>1.035088</td>\n",
       "      <td>0.314655</td>\n",
       "      <td>1.028169</td>\n",
       "      <td>57</td>\n",
       "      <td>132</td>\n",
       "      <td>189</td>\n",
       "      <td>232</td>\n",
       "      <td>...</td>\n",
       "      <td>CA1</td>\n",
       "      <td>16</td>\n",
       "      <td>887</td>\n",
       "      <td>male</td>\n",
       "      <td>APP/PS1</td>\n",
       "      <td>poor</td>\n",
       "      <td>failed</td>\n",
       "      <td>suboptimal</td>\n",
       "      <td>optimal</td>\n",
       "      <td>False</td>\n",
       "    </tr>\n",
       "    <tr>\n",
       "      <th>1</th>\n",
       "      <td>1</td>\n",
       "      <td>DSB Iba1 16_40X_CA3</td>\n",
       "      <td>0.800000</td>\n",
       "      <td>1.761905</td>\n",
       "      <td>0.776042</td>\n",
       "      <td>1.752941</td>\n",
       "      <td>84</td>\n",
       "      <td>101</td>\n",
       "      <td>185</td>\n",
       "      <td>192</td>\n",
       "      <td>...</td>\n",
       "      <td>CA3</td>\n",
       "      <td>16</td>\n",
       "      <td>887</td>\n",
       "      <td>male</td>\n",
       "      <td>APP/PS1</td>\n",
       "      <td>poor</td>\n",
       "      <td>failed</td>\n",
       "      <td>suboptimal</td>\n",
       "      <td>optimal</td>\n",
       "      <td>False</td>\n",
       "    </tr>\n",
       "    <tr>\n",
       "      <th>2</th>\n",
       "      <td>2</td>\n",
       "      <td>DSB Iba1 16_40X_CTX1</td>\n",
       "      <td>0.071429</td>\n",
       "      <td>1.000000</td>\n",
       "      <td>0.179487</td>\n",
       "      <td>1.020833</td>\n",
       "      <td>3</td>\n",
       "      <td>39</td>\n",
       "      <td>42</td>\n",
       "      <td>272</td>\n",
       "      <td>...</td>\n",
       "      <td>CTX1</td>\n",
       "      <td>16</td>\n",
       "      <td>887</td>\n",
       "      <td>male</td>\n",
       "      <td>APP/PS1</td>\n",
       "      <td>poor</td>\n",
       "      <td>failed</td>\n",
       "      <td>optimal</td>\n",
       "      <td>optimal</td>\n",
       "      <td>False</td>\n",
       "    </tr>\n",
       "    <tr>\n",
       "      <th>3</th>\n",
       "      <td>3</td>\n",
       "      <td>DSB Iba1 16_40X_CTX2</td>\n",
       "      <td>0.522822</td>\n",
       "      <td>1.272727</td>\n",
       "      <td>0.494340</td>\n",
       "      <td>1.259615</td>\n",
       "      <td>99</td>\n",
       "      <td>142</td>\n",
       "      <td>241</td>\n",
       "      <td>265</td>\n",
       "      <td>...</td>\n",
       "      <td>CTX2</td>\n",
       "      <td>16</td>\n",
       "      <td>887</td>\n",
       "      <td>male</td>\n",
       "      <td>APP/PS1</td>\n",
       "      <td>poor</td>\n",
       "      <td>failed</td>\n",
       "      <td>suboptimal</td>\n",
       "      <td>optimal</td>\n",
       "      <td>False</td>\n",
       "    </tr>\n",
       "    <tr>\n",
       "      <th>4</th>\n",
       "      <td>4</td>\n",
       "      <td>DSB Iba1 16_40X_CTX3</td>\n",
       "      <td>0.586538</td>\n",
       "      <td>1.297872</td>\n",
       "      <td>0.537190</td>\n",
       "      <td>1.354167</td>\n",
       "      <td>47</td>\n",
       "      <td>57</td>\n",
       "      <td>104</td>\n",
       "      <td>242</td>\n",
       "      <td>...</td>\n",
       "      <td>CTX3</td>\n",
       "      <td>16</td>\n",
       "      <td>887</td>\n",
       "      <td>male</td>\n",
       "      <td>APP/PS1</td>\n",
       "      <td>poor</td>\n",
       "      <td>failed</td>\n",
       "      <td>suboptimal</td>\n",
       "      <td>optimal</td>\n",
       "      <td>False</td>\n",
       "    </tr>\n",
       "    <tr>\n",
       "      <th>5</th>\n",
       "      <td>5</td>\n",
       "      <td>DSB Iba1 16_40X_DG</td>\n",
       "      <td>0.275395</td>\n",
       "      <td>1.079646</td>\n",
       "      <td>0.270742</td>\n",
       "      <td>1.078261</td>\n",
       "      <td>113</td>\n",
       "      <td>330</td>\n",
       "      <td>439</td>\n",
       "      <td>453</td>\n",
       "      <td>...</td>\n",
       "      <td>DG</td>\n",
       "      <td>16</td>\n",
       "      <td>887</td>\n",
       "      <td>male</td>\n",
       "      <td>APP/PS1</td>\n",
       "      <td>poor</td>\n",
       "      <td>failed</td>\n",
       "      <td>suboptimal</td>\n",
       "      <td>optimal</td>\n",
       "      <td>False</td>\n",
       "    </tr>\n",
       "    <tr>\n",
       "      <th>6</th>\n",
       "      <td>6</td>\n",
       "      <td>DSB Iba1 17_40X_CA1</td>\n",
       "      <td>0.181818</td>\n",
       "      <td>1.000000</td>\n",
       "      <td>0.321429</td>\n",
       "      <td>1.105263</td>\n",
       "      <td>2</td>\n",
       "      <td>9</td>\n",
       "      <td>11</td>\n",
       "      <td>196</td>\n",
       "      <td>...</td>\n",
       "      <td>CA1</td>\n",
       "      <td>17</td>\n",
       "      <td>892</td>\n",
       "      <td>female</td>\n",
       "      <td>APP/PS1</td>\n",
       "      <td>poor</td>\n",
       "      <td>failed</td>\n",
       "      <td>optimal</td>\n",
       "      <td>optimal</td>\n",
       "      <td>False</td>\n",
       "    </tr>\n",
       "    <tr>\n",
       "      <th>7</th>\n",
       "      <td>7</td>\n",
       "      <td>DSB Iba1 17_40X_CA3</td>\n",
       "      <td>0.473684</td>\n",
       "      <td>1.500000</td>\n",
       "      <td>0.601093</td>\n",
       "      <td>1.506849</td>\n",
       "      <td>6</td>\n",
       "      <td>13</td>\n",
       "      <td>19</td>\n",
       "      <td>183</td>\n",
       "      <td>...</td>\n",
       "      <td>CA3</td>\n",
       "      <td>17</td>\n",
       "      <td>892</td>\n",
       "      <td>female</td>\n",
       "      <td>APP/PS1</td>\n",
       "      <td>poor</td>\n",
       "      <td>failed</td>\n",
       "      <td>optimal</td>\n",
       "      <td>optimal</td>\n",
       "      <td>False</td>\n",
       "    </tr>\n",
       "    <tr>\n",
       "      <th>8</th>\n",
       "      <td>8</td>\n",
       "      <td>DSB Iba1 17_40X_CTX1</td>\n",
       "      <td>0.444444</td>\n",
       "      <td>1.333333</td>\n",
       "      <td>0.264368</td>\n",
       "      <td>1.061538</td>\n",
       "      <td>6</td>\n",
       "      <td>12</td>\n",
       "      <td>18</td>\n",
       "      <td>261</td>\n",
       "      <td>...</td>\n",
       "      <td>CTX1</td>\n",
       "      <td>17</td>\n",
       "      <td>892</td>\n",
       "      <td>female</td>\n",
       "      <td>APP/PS1</td>\n",
       "      <td>poor</td>\n",
       "      <td>failed</td>\n",
       "      <td>optimal</td>\n",
       "      <td>optimal</td>\n",
       "      <td>False</td>\n",
       "    </tr>\n",
       "    <tr>\n",
       "      <th>9</th>\n",
       "      <td>9</td>\n",
       "      <td>DSB Iba1 17_40X_CTX2</td>\n",
       "      <td>0.584906</td>\n",
       "      <td>1.107143</td>\n",
       "      <td>0.343234</td>\n",
       "      <td>1.118280</td>\n",
       "      <td>28</td>\n",
       "      <td>25</td>\n",
       "      <td>53</td>\n",
       "      <td>303</td>\n",
       "      <td>...</td>\n",
       "      <td>CTX2</td>\n",
       "      <td>17</td>\n",
       "      <td>892</td>\n",
       "      <td>female</td>\n",
       "      <td>APP/PS1</td>\n",
       "      <td>poor</td>\n",
       "      <td>failed</td>\n",
       "      <td>optimal</td>\n",
       "      <td>optimal</td>\n",
       "      <td>False</td>\n",
       "    </tr>\n",
       "    <tr>\n",
       "      <th>10</th>\n",
       "      <td>10</td>\n",
       "      <td>DSB Iba1 17_40X_CTX3</td>\n",
       "      <td>0.703704</td>\n",
       "      <td>1.357143</td>\n",
       "      <td>0.894444</td>\n",
       "      <td>1.829545</td>\n",
       "      <td>14</td>\n",
       "      <td>13</td>\n",
       "      <td>27</td>\n",
       "      <td>180</td>\n",
       "      <td>...</td>\n",
       "      <td>CTX3</td>\n",
       "      <td>17</td>\n",
       "      <td>892</td>\n",
       "      <td>female</td>\n",
       "      <td>APP/PS1</td>\n",
       "      <td>poor</td>\n",
       "      <td>failed</td>\n",
       "      <td>optimal</td>\n",
       "      <td>optimal</td>\n",
       "      <td>False</td>\n",
       "    </tr>\n",
       "    <tr>\n",
       "      <th>11</th>\n",
       "      <td>11</td>\n",
       "      <td>DSB Iba1 17_40X_DG</td>\n",
       "      <td>0.302013</td>\n",
       "      <td>1.125000</td>\n",
       "      <td>0.372624</td>\n",
       "      <td>1.113636</td>\n",
       "      <td>40</td>\n",
       "      <td>109</td>\n",
       "      <td>149</td>\n",
       "      <td>524</td>\n",
       "      <td>...</td>\n",
       "      <td>DG</td>\n",
       "      <td>17</td>\n",
       "      <td>892</td>\n",
       "      <td>female</td>\n",
       "      <td>APP/PS1</td>\n",
       "      <td>poor</td>\n",
       "      <td>failed</td>\n",
       "      <td>suboptimal</td>\n",
       "      <td>optimal</td>\n",
       "      <td>False</td>\n",
       "    </tr>\n",
       "    <tr>\n",
       "      <th>12</th>\n",
       "      <td>12</td>\n",
       "      <td>DSB Iba1 18_40X_CA1</td>\n",
       "      <td>0.714286</td>\n",
       "      <td>1.428571</td>\n",
       "      <td>1.034722</td>\n",
       "      <td>1.693182</td>\n",
       "      <td>7</td>\n",
       "      <td>7</td>\n",
       "      <td>14</td>\n",
       "      <td>144</td>\n",
       "      <td>...</td>\n",
       "      <td>CA1</td>\n",
       "      <td>18</td>\n",
       "      <td>231</td>\n",
       "      <td>male</td>\n",
       "      <td>APP/PS1 x Neil3 KO</td>\n",
       "      <td>poor</td>\n",
       "      <td>failed</td>\n",
       "      <td>optimal</td>\n",
       "      <td>optimal</td>\n",
       "      <td>False</td>\n",
       "    </tr>\n",
       "    <tr>\n",
       "      <th>13</th>\n",
       "      <td>13</td>\n",
       "      <td>DSB Iba1 18_40X_CA3</td>\n",
       "      <td>0.416667</td>\n",
       "      <td>1.000000</td>\n",
       "      <td>0.916667</td>\n",
       "      <td>1.980000</td>\n",
       "      <td>5</td>\n",
       "      <td>7</td>\n",
       "      <td>12</td>\n",
       "      <td>108</td>\n",
       "      <td>...</td>\n",
       "      <td>CA3</td>\n",
       "      <td>18</td>\n",
       "      <td>231</td>\n",
       "      <td>male</td>\n",
       "      <td>APP/PS1 x Neil3 KO</td>\n",
       "      <td>poor</td>\n",
       "      <td>failed</td>\n",
       "      <td>optimal</td>\n",
       "      <td>optimal</td>\n",
       "      <td>False</td>\n",
       "    </tr>\n",
       "    <tr>\n",
       "      <th>14</th>\n",
       "      <td>14</td>\n",
       "      <td>DSB Iba1 18_40X_CTX1</td>\n",
       "      <td>0.210526</td>\n",
       "      <td>1.000000</td>\n",
       "      <td>0.088889</td>\n",
       "      <td>1.052632</td>\n",
       "      <td>4</td>\n",
       "      <td>15</td>\n",
       "      <td>19</td>\n",
       "      <td>225</td>\n",
       "      <td>...</td>\n",
       "      <td>CTX1</td>\n",
       "      <td>18</td>\n",
       "      <td>231</td>\n",
       "      <td>male</td>\n",
       "      <td>APP/PS1 x Neil3 KO</td>\n",
       "      <td>poor</td>\n",
       "      <td>failed</td>\n",
       "      <td>optimal</td>\n",
       "      <td>optimal</td>\n",
       "      <td>False</td>\n",
       "    </tr>\n",
       "    <tr>\n",
       "      <th>15</th>\n",
       "      <td>15</td>\n",
       "      <td>DSB Iba1 18_40X_CTX2</td>\n",
       "      <td>0.238095</td>\n",
       "      <td>1.250000</td>\n",
       "      <td>0.147860</td>\n",
       "      <td>1.117647</td>\n",
       "      <td>4</td>\n",
       "      <td>17</td>\n",
       "      <td>21</td>\n",
       "      <td>257</td>\n",
       "      <td>...</td>\n",
       "      <td>CTX2</td>\n",
       "      <td>18</td>\n",
       "      <td>231</td>\n",
       "      <td>male</td>\n",
       "      <td>APP/PS1 x Neil3 KO</td>\n",
       "      <td>poor</td>\n",
       "      <td>failed</td>\n",
       "      <td>optimal</td>\n",
       "      <td>optimal</td>\n",
       "      <td>False</td>\n",
       "    </tr>\n",
       "    <tr>\n",
       "      <th>16</th>\n",
       "      <td>16</td>\n",
       "      <td>DSB Iba1 18_40X_CTX3</td>\n",
       "      <td>0.470588</td>\n",
       "      <td>1.000000</td>\n",
       "      <td>0.175439</td>\n",
       "      <td>1.111111</td>\n",
       "      <td>8</td>\n",
       "      <td>9</td>\n",
       "      <td>17</td>\n",
       "      <td>171</td>\n",
       "      <td>...</td>\n",
       "      <td>CTX3</td>\n",
       "      <td>18</td>\n",
       "      <td>231</td>\n",
       "      <td>male</td>\n",
       "      <td>APP/PS1 x Neil3 KO</td>\n",
       "      <td>poor</td>\n",
       "      <td>failed</td>\n",
       "      <td>optimal</td>\n",
       "      <td>optimal</td>\n",
       "      <td>False</td>\n",
       "    </tr>\n",
       "    <tr>\n",
       "      <th>17</th>\n",
       "      <td>17</td>\n",
       "      <td>DSB Iba1 18_40X_DG</td>\n",
       "      <td>2.009615</td>\n",
       "      <td>2.296703</td>\n",
       "      <td>1.808571</td>\n",
       "      <td>2.228873</td>\n",
       "      <td>91</td>\n",
       "      <td>13</td>\n",
       "      <td>104</td>\n",
       "      <td>350</td>\n",
       "      <td>...</td>\n",
       "      <td>DG</td>\n",
       "      <td>18</td>\n",
       "      <td>231</td>\n",
       "      <td>male</td>\n",
       "      <td>APP/PS1 x Neil3 KO</td>\n",
       "      <td>poor</td>\n",
       "      <td>failed</td>\n",
       "      <td>suboptimal</td>\n",
       "      <td>suboptimal</td>\n",
       "      <td>False</td>\n",
       "    </tr>\n",
       "    <tr>\n",
       "      <th>18</th>\n",
       "      <td>18</td>\n",
       "      <td>DSB Iba1 19_40X_CA1</td>\n",
       "      <td>1.787879</td>\n",
       "      <td>2.070175</td>\n",
       "      <td>1.823529</td>\n",
       "      <td>2.137931</td>\n",
       "      <td>57</td>\n",
       "      <td>9</td>\n",
       "      <td>66</td>\n",
       "      <td>68</td>\n",
       "      <td>...</td>\n",
       "      <td>CA1</td>\n",
       "      <td>19</td>\n",
       "      <td>154</td>\n",
       "      <td>female</td>\n",
       "      <td>APP/PS1 x Neil3 KO</td>\n",
       "      <td>poor</td>\n",
       "      <td>failed</td>\n",
       "      <td>suboptimal</td>\n",
       "      <td>suboptimal</td>\n",
       "      <td>False</td>\n",
       "    </tr>\n",
       "    <tr>\n",
       "      <th>19</th>\n",
       "      <td>19</td>\n",
       "      <td>DSB Iba1 19_40X_CA3</td>\n",
       "      <td>1.857143</td>\n",
       "      <td>2.166667</td>\n",
       "      <td>1.833333</td>\n",
       "      <td>2.129032</td>\n",
       "      <td>60</td>\n",
       "      <td>10</td>\n",
       "      <td>70</td>\n",
       "      <td>72</td>\n",
       "      <td>...</td>\n",
       "      <td>CA3</td>\n",
       "      <td>19</td>\n",
       "      <td>154</td>\n",
       "      <td>female</td>\n",
       "      <td>APP/PS1 x Neil3 KO</td>\n",
       "      <td>poor</td>\n",
       "      <td>failed</td>\n",
       "      <td>suboptimal</td>\n",
       "      <td>suboptimal</td>\n",
       "      <td>False</td>\n",
       "    </tr>\n",
       "    <tr>\n",
       "      <th>20</th>\n",
       "      <td>20</td>\n",
       "      <td>DSB Iba1 19_40X_CTX1</td>\n",
       "      <td>0.971564</td>\n",
       "      <td>1.601562</td>\n",
       "      <td>0.966981</td>\n",
       "      <td>1.601562</td>\n",
       "      <td>128</td>\n",
       "      <td>83</td>\n",
       "      <td>211</td>\n",
       "      <td>212</td>\n",
       "      <td>...</td>\n",
       "      <td>CTX1</td>\n",
       "      <td>19</td>\n",
       "      <td>154</td>\n",
       "      <td>female</td>\n",
       "      <td>APP/PS1 x Neil3 KO</td>\n",
       "      <td>poor</td>\n",
       "      <td>failed</td>\n",
       "      <td>suboptimal</td>\n",
       "      <td>optimal</td>\n",
       "      <td>False</td>\n",
       "    </tr>\n",
       "    <tr>\n",
       "      <th>21</th>\n",
       "      <td>21</td>\n",
       "      <td>DSB Iba1 19_40X_CTX2</td>\n",
       "      <td>0.777778</td>\n",
       "      <td>1.333333</td>\n",
       "      <td>0.733333</td>\n",
       "      <td>1.294118</td>\n",
       "      <td>42</td>\n",
       "      <td>30</td>\n",
       "      <td>71</td>\n",
       "      <td>89</td>\n",
       "      <td>...</td>\n",
       "      <td>CTX2</td>\n",
       "      <td>19</td>\n",
       "      <td>154</td>\n",
       "      <td>female</td>\n",
       "      <td>APP/PS1 x Neil3 KO</td>\n",
       "      <td>poor</td>\n",
       "      <td>failed</td>\n",
       "      <td>suboptimal</td>\n",
       "      <td>optimal</td>\n",
       "      <td>False</td>\n",
       "    </tr>\n",
       "    <tr>\n",
       "      <th>22</th>\n",
       "      <td>22</td>\n",
       "      <td>DSB Iba1 19_40X_CTX3</td>\n",
       "      <td>0.436893</td>\n",
       "      <td>1.451613</td>\n",
       "      <td>0.385246</td>\n",
       "      <td>1.424242</td>\n",
       "      <td>31</td>\n",
       "      <td>72</td>\n",
       "      <td>103</td>\n",
       "      <td>122</td>\n",
       "      <td>...</td>\n",
       "      <td>CTX3</td>\n",
       "      <td>19</td>\n",
       "      <td>154</td>\n",
       "      <td>female</td>\n",
       "      <td>APP/PS1 x Neil3 KO</td>\n",
       "      <td>poor</td>\n",
       "      <td>failed</td>\n",
       "      <td>suboptimal</td>\n",
       "      <td>optimal</td>\n",
       "      <td>False</td>\n",
       "    </tr>\n",
       "    <tr>\n",
       "      <th>23</th>\n",
       "      <td>23</td>\n",
       "      <td>DSB Iba1 19_40X_DG</td>\n",
       "      <td>2.781250</td>\n",
       "      <td>2.942149</td>\n",
       "      <td>2.759690</td>\n",
       "      <td>2.942149</td>\n",
       "      <td>121</td>\n",
       "      <td>7</td>\n",
       "      <td>128</td>\n",
       "      <td>129</td>\n",
       "      <td>...</td>\n",
       "      <td>DG</td>\n",
       "      <td>19</td>\n",
       "      <td>154</td>\n",
       "      <td>female</td>\n",
       "      <td>APP/PS1 x Neil3 KO</td>\n",
       "      <td>poor</td>\n",
       "      <td>failed</td>\n",
       "      <td>suboptimal</td>\n",
       "      <td>suboptimal</td>\n",
       "      <td>False</td>\n",
       "    </tr>\n",
       "    <tr>\n",
       "      <th>109</th>\n",
       "      <td>109</td>\n",
       "      <td>DSB Iba1 35_40X_CA1</td>\n",
       "      <td>0.700000</td>\n",
       "      <td>2.333333</td>\n",
       "      <td>0.231579</td>\n",
       "      <td>1.100000</td>\n",
       "      <td>3</td>\n",
       "      <td>7</td>\n",
       "      <td>10</td>\n",
       "      <td>190</td>\n",
       "      <td>...</td>\n",
       "      <td>CA1</td>\n",
       "      <td>35</td>\n",
       "      <td>305</td>\n",
       "      <td>male</td>\n",
       "      <td>APP/PS1 x Neil3 KO</td>\n",
       "      <td>poor</td>\n",
       "      <td>passed</td>\n",
       "      <td>optimal</td>\n",
       "      <td>optimal</td>\n",
       "      <td>False</td>\n",
       "    </tr>\n",
       "    <tr>\n",
       "      <th>110</th>\n",
       "      <td>110</td>\n",
       "      <td>DSB Iba1 35_40X_CA3</td>\n",
       "      <td>0.966667</td>\n",
       "      <td>1.526316</td>\n",
       "      <td>0.741573</td>\n",
       "      <td>1.450549</td>\n",
       "      <td>19</td>\n",
       "      <td>11</td>\n",
       "      <td>30</td>\n",
       "      <td>178</td>\n",
       "      <td>...</td>\n",
       "      <td>CA3</td>\n",
       "      <td>35</td>\n",
       "      <td>305</td>\n",
       "      <td>male</td>\n",
       "      <td>APP/PS1 x Neil3 KO</td>\n",
       "      <td>poor</td>\n",
       "      <td>passed</td>\n",
       "      <td>optimal</td>\n",
       "      <td>optimal</td>\n",
       "      <td>False</td>\n",
       "    </tr>\n",
       "    <tr>\n",
       "      <th>111</th>\n",
       "      <td>111</td>\n",
       "      <td>DSB Iba1 35_40X_CTX1</td>\n",
       "      <td>0.555556</td>\n",
       "      <td>1.428571</td>\n",
       "      <td>0.267206</td>\n",
       "      <td>1.118644</td>\n",
       "      <td>7</td>\n",
       "      <td>11</td>\n",
       "      <td>18</td>\n",
       "      <td>247</td>\n",
       "      <td>...</td>\n",
       "      <td>CTX1</td>\n",
       "      <td>35</td>\n",
       "      <td>305</td>\n",
       "      <td>male</td>\n",
       "      <td>APP/PS1 x Neil3 KO</td>\n",
       "      <td>poor</td>\n",
       "      <td>passed</td>\n",
       "      <td>optimal</td>\n",
       "      <td>optimal</td>\n",
       "      <td>False</td>\n",
       "    </tr>\n",
       "    <tr>\n",
       "      <th>112</th>\n",
       "      <td>112</td>\n",
       "      <td>DSB Iba1 35_40X_CTX2</td>\n",
       "      <td>0.810811</td>\n",
       "      <td>1.636364</td>\n",
       "      <td>0.602996</td>\n",
       "      <td>1.463636</td>\n",
       "      <td>55</td>\n",
       "      <td>56</td>\n",
       "      <td>111</td>\n",
       "      <td>267</td>\n",
       "      <td>...</td>\n",
       "      <td>CTX2</td>\n",
       "      <td>35</td>\n",
       "      <td>305</td>\n",
       "      <td>male</td>\n",
       "      <td>APP/PS1 x Neil3 KO</td>\n",
       "      <td>poor</td>\n",
       "      <td>passed</td>\n",
       "      <td>suboptimal</td>\n",
       "      <td>optimal</td>\n",
       "      <td>False</td>\n",
       "    </tr>\n",
       "    <tr>\n",
       "      <th>113</th>\n",
       "      <td>113</td>\n",
       "      <td>DSB Iba1 35_40X_CTX3</td>\n",
       "      <td>0.925000</td>\n",
       "      <td>1.681818</td>\n",
       "      <td>0.733990</td>\n",
       "      <td>1.536082</td>\n",
       "      <td>44</td>\n",
       "      <td>36</td>\n",
       "      <td>80</td>\n",
       "      <td>203</td>\n",
       "      <td>...</td>\n",
       "      <td>CTX3</td>\n",
       "      <td>35</td>\n",
       "      <td>305</td>\n",
       "      <td>male</td>\n",
       "      <td>APP/PS1 x Neil3 KO</td>\n",
       "      <td>poor</td>\n",
       "      <td>passed</td>\n",
       "      <td>optimal</td>\n",
       "      <td>optimal</td>\n",
       "      <td>False</td>\n",
       "    </tr>\n",
       "    <tr>\n",
       "      <th>114</th>\n",
       "      <td>114</td>\n",
       "      <td>DSB Iba1 35_40X_DG</td>\n",
       "      <td>0.796992</td>\n",
       "      <td>1.341772</td>\n",
       "      <td>0.845070</td>\n",
       "      <td>1.374046</td>\n",
       "      <td>79</td>\n",
       "      <td>54</td>\n",
       "      <td>133</td>\n",
       "      <td>426</td>\n",
       "      <td>...</td>\n",
       "      <td>DG</td>\n",
       "      <td>35</td>\n",
       "      <td>305</td>\n",
       "      <td>male</td>\n",
       "      <td>APP/PS1 x Neil3 KO</td>\n",
       "      <td>poor</td>\n",
       "      <td>passed</td>\n",
       "      <td>suboptimal</td>\n",
       "      <td>optimal</td>\n",
       "      <td>False</td>\n",
       "    </tr>\n",
       "    <tr>\n",
       "      <th>158</th>\n",
       "      <td>158</td>\n",
       "      <td>DSB Iba1 44_40X_CA1</td>\n",
       "      <td>1.900000</td>\n",
       "      <td>2.478261</td>\n",
       "      <td>1.446043</td>\n",
       "      <td>2.030303</td>\n",
       "      <td>23</td>\n",
       "      <td>7</td>\n",
       "      <td>30</td>\n",
       "      <td>138</td>\n",
       "      <td>...</td>\n",
       "      <td>CA1</td>\n",
       "      <td>44</td>\n",
       "      <td>147</td>\n",
       "      <td>female</td>\n",
       "      <td>APP/PS1</td>\n",
       "      <td>poor</td>\n",
       "      <td>passed</td>\n",
       "      <td>suboptimal</td>\n",
       "      <td>optimal</td>\n",
       "      <td>False</td>\n",
       "    </tr>\n",
       "    <tr>\n",
       "      <th>159</th>\n",
       "      <td>159</td>\n",
       "      <td>DSB Iba1 44_40X_CA3</td>\n",
       "      <td>1.444444</td>\n",
       "      <td>1.733333</td>\n",
       "      <td>2.161616</td>\n",
       "      <td>2.743590</td>\n",
       "      <td>15</td>\n",
       "      <td>3</td>\n",
       "      <td>18</td>\n",
       "      <td>99</td>\n",
       "      <td>...</td>\n",
       "      <td>CA3</td>\n",
       "      <td>44</td>\n",
       "      <td>147</td>\n",
       "      <td>female</td>\n",
       "      <td>APP/PS1</td>\n",
       "      <td>poor</td>\n",
       "      <td>passed</td>\n",
       "      <td>suboptimal</td>\n",
       "      <td>suboptimal</td>\n",
       "      <td>False</td>\n",
       "    </tr>\n",
       "    <tr>\n",
       "      <th>160</th>\n",
       "      <td>160</td>\n",
       "      <td>DSB Iba1 44_40X_CTX1</td>\n",
       "      <td>1.611111</td>\n",
       "      <td>1.977273</td>\n",
       "      <td>1.886076</td>\n",
       "      <td>2.377660</td>\n",
       "      <td>44</td>\n",
       "      <td>10</td>\n",
       "      <td>54</td>\n",
       "      <td>237</td>\n",
       "      <td>...</td>\n",
       "      <td>CTX1</td>\n",
       "      <td>44</td>\n",
       "      <td>147</td>\n",
       "      <td>female</td>\n",
       "      <td>APP/PS1</td>\n",
       "      <td>poor</td>\n",
       "      <td>passed</td>\n",
       "      <td>suboptimal</td>\n",
       "      <td>suboptimal</td>\n",
       "      <td>False</td>\n",
       "    </tr>\n",
       "    <tr>\n",
       "      <th>161</th>\n",
       "      <td>161</td>\n",
       "      <td>DSB Iba1 44_40X_DG</td>\n",
       "      <td>1.531646</td>\n",
       "      <td>1.890625</td>\n",
       "      <td>1.214912</td>\n",
       "      <td>1.897260</td>\n",
       "      <td>64</td>\n",
       "      <td>15</td>\n",
       "      <td>79</td>\n",
       "      <td>227</td>\n",
       "      <td>...</td>\n",
       "      <td>DG</td>\n",
       "      <td>44</td>\n",
       "      <td>147</td>\n",
       "      <td>female</td>\n",
       "      <td>APP/PS1</td>\n",
       "      <td>poor</td>\n",
       "      <td>passed</td>\n",
       "      <td>optimal</td>\n",
       "      <td>optimal</td>\n",
       "      <td>False</td>\n",
       "    </tr>\n",
       "    <tr>\n",
       "      <th>168</th>\n",
       "      <td>168</td>\n",
       "      <td>DSB Iba1 46_40X_CA1</td>\n",
       "      <td>1.484848</td>\n",
       "      <td>2.041667</td>\n",
       "      <td>1.159763</td>\n",
       "      <td>1.781818</td>\n",
       "      <td>48</td>\n",
       "      <td>18</td>\n",
       "      <td>66</td>\n",
       "      <td>169</td>\n",
       "      <td>...</td>\n",
       "      <td>CA1</td>\n",
       "      <td>46</td>\n",
       "      <td>253</td>\n",
       "      <td>female</td>\n",
       "      <td>APP/PS1 x Neil3 KO</td>\n",
       "      <td>poor</td>\n",
       "      <td>passed</td>\n",
       "      <td>suboptimal</td>\n",
       "      <td>optimal</td>\n",
       "      <td>False</td>\n",
       "    </tr>\n",
       "    <tr>\n",
       "      <th>169</th>\n",
       "      <td>169</td>\n",
       "      <td>DSB Iba1 46_40X_CA3</td>\n",
       "      <td>0.777778</td>\n",
       "      <td>1.400000</td>\n",
       "      <td>0.957447</td>\n",
       "      <td>1.753247</td>\n",
       "      <td>20</td>\n",
       "      <td>16</td>\n",
       "      <td>36</td>\n",
       "      <td>141</td>\n",
       "      <td>...</td>\n",
       "      <td>CA3</td>\n",
       "      <td>46</td>\n",
       "      <td>253</td>\n",
       "      <td>female</td>\n",
       "      <td>APP/PS1 x Neil3 KO</td>\n",
       "      <td>poor</td>\n",
       "      <td>passed</td>\n",
       "      <td>optimal</td>\n",
       "      <td>optimal</td>\n",
       "      <td>False</td>\n",
       "    </tr>\n",
       "    <tr>\n",
       "      <th>170</th>\n",
       "      <td>170</td>\n",
       "      <td>DSB Iba1 46_40X_CTX1</td>\n",
       "      <td>0.683544</td>\n",
       "      <td>1.285714</td>\n",
       "      <td>0.743396</td>\n",
       "      <td>1.407143</td>\n",
       "      <td>42</td>\n",
       "      <td>37</td>\n",
       "      <td>79</td>\n",
       "      <td>265</td>\n",
       "      <td>...</td>\n",
       "      <td>CTX1</td>\n",
       "      <td>46</td>\n",
       "      <td>253</td>\n",
       "      <td>female</td>\n",
       "      <td>APP/PS1 x Neil3 KO</td>\n",
       "      <td>poor</td>\n",
       "      <td>passed</td>\n",
       "      <td>suboptimal</td>\n",
       "      <td>optimal</td>\n",
       "      <td>False</td>\n",
       "    </tr>\n",
       "    <tr>\n",
       "      <th>171</th>\n",
       "      <td>171</td>\n",
       "      <td>DSB Iba1 46_40X_CTX2</td>\n",
       "      <td>0.394231</td>\n",
       "      <td>1.051282</td>\n",
       "      <td>0.358885</td>\n",
       "      <td>1.131868</td>\n",
       "      <td>39</td>\n",
       "      <td>65</td>\n",
       "      <td>104</td>\n",
       "      <td>287</td>\n",
       "      <td>...</td>\n",
       "      <td>CTX2</td>\n",
       "      <td>46</td>\n",
       "      <td>253</td>\n",
       "      <td>female</td>\n",
       "      <td>APP/PS1 x Neil3 KO</td>\n",
       "      <td>poor</td>\n",
       "      <td>passed</td>\n",
       "      <td>suboptimal</td>\n",
       "      <td>optimal</td>\n",
       "      <td>False</td>\n",
       "    </tr>\n",
       "    <tr>\n",
       "      <th>172</th>\n",
       "      <td>172</td>\n",
       "      <td>DSB Iba1 46_40X_CTX3</td>\n",
       "      <td>0.676471</td>\n",
       "      <td>1.483871</td>\n",
       "      <td>0.688797</td>\n",
       "      <td>1.522936</td>\n",
       "      <td>31</td>\n",
       "      <td>37</td>\n",
       "      <td>68</td>\n",
       "      <td>241</td>\n",
       "      <td>...</td>\n",
       "      <td>CTX3</td>\n",
       "      <td>46</td>\n",
       "      <td>253</td>\n",
       "      <td>female</td>\n",
       "      <td>APP/PS1 x Neil3 KO</td>\n",
       "      <td>poor</td>\n",
       "      <td>passed</td>\n",
       "      <td>optimal</td>\n",
       "      <td>optimal</td>\n",
       "      <td>False</td>\n",
       "    </tr>\n",
       "    <tr>\n",
       "      <th>173</th>\n",
       "      <td>173</td>\n",
       "      <td>DSB Iba1 46_40X_DG</td>\n",
       "      <td>0.750000</td>\n",
       "      <td>1.524590</td>\n",
       "      <td>0.773292</td>\n",
       "      <td>1.566038</td>\n",
       "      <td>61</td>\n",
       "      <td>63</td>\n",
       "      <td>124</td>\n",
       "      <td>321</td>\n",
       "      <td>...</td>\n",
       "      <td>DG</td>\n",
       "      <td>46</td>\n",
       "      <td>253</td>\n",
       "      <td>female</td>\n",
       "      <td>APP/PS1 x Neil3 KO</td>\n",
       "      <td>poor</td>\n",
       "      <td>passed</td>\n",
       "      <td>suboptimal</td>\n",
       "      <td>optimal</td>\n",
       "      <td>False</td>\n",
       "    </tr>\n",
       "  </tbody>\n",
       "</table>\n",
       "<p>40 rows × 22 columns</p>\n",
       "</div>"
      ],
      "text/plain": [
       "     index              filename  avg_dna_damage_foci/glia_+  \\\n",
       "0        0   DSB Iba1 16_40X_CA1                    0.312169   \n",
       "1        1   DSB Iba1 16_40X_CA3                    0.800000   \n",
       "2        2  DSB Iba1 16_40X_CTX1                    0.071429   \n",
       "3        3  DSB Iba1 16_40X_CTX2                    0.522822   \n",
       "4        4  DSB Iba1 16_40X_CTX3                    0.586538   \n",
       "5        5    DSB Iba1 16_40X_DG                    0.275395   \n",
       "6        6   DSB Iba1 17_40X_CA1                    0.181818   \n",
       "7        7   DSB Iba1 17_40X_CA3                    0.473684   \n",
       "8        8  DSB Iba1 17_40X_CTX1                    0.444444   \n",
       "9        9  DSB Iba1 17_40X_CTX2                    0.584906   \n",
       "10      10  DSB Iba1 17_40X_CTX3                    0.703704   \n",
       "11      11    DSB Iba1 17_40X_DG                    0.302013   \n",
       "12      12   DSB Iba1 18_40X_CA1                    0.714286   \n",
       "13      13   DSB Iba1 18_40X_CA3                    0.416667   \n",
       "14      14  DSB Iba1 18_40X_CTX1                    0.210526   \n",
       "15      15  DSB Iba1 18_40X_CTX2                    0.238095   \n",
       "16      16  DSB Iba1 18_40X_CTX3                    0.470588   \n",
       "17      17    DSB Iba1 18_40X_DG                    2.009615   \n",
       "18      18   DSB Iba1 19_40X_CA1                    1.787879   \n",
       "19      19   DSB Iba1 19_40X_CA3                    1.857143   \n",
       "20      20  DSB Iba1 19_40X_CTX1                    0.971564   \n",
       "21      21  DSB Iba1 19_40X_CTX2                    0.777778   \n",
       "22      22  DSB Iba1 19_40X_CTX3                    0.436893   \n",
       "23      23    DSB Iba1 19_40X_DG                    2.781250   \n",
       "109    109   DSB Iba1 35_40X_CA1                    0.700000   \n",
       "110    110   DSB Iba1 35_40X_CA3                    0.966667   \n",
       "111    111  DSB Iba1 35_40X_CTX1                    0.555556   \n",
       "112    112  DSB Iba1 35_40X_CTX2                    0.810811   \n",
       "113    113  DSB Iba1 35_40X_CTX3                    0.925000   \n",
       "114    114    DSB Iba1 35_40X_DG                    0.796992   \n",
       "158    158   DSB Iba1 44_40X_CA1                    1.900000   \n",
       "159    159   DSB Iba1 44_40X_CA3                    1.444444   \n",
       "160    160  DSB Iba1 44_40X_CTX1                    1.611111   \n",
       "161    161    DSB Iba1 44_40X_DG                    1.531646   \n",
       "168    168   DSB Iba1 46_40X_CA1                    1.484848   \n",
       "169    169   DSB Iba1 46_40X_CA3                    0.777778   \n",
       "170    170  DSB Iba1 46_40X_CTX1                    0.683544   \n",
       "171    171  DSB Iba1 46_40X_CTX2                    0.394231   \n",
       "172    172  DSB Iba1 46_40X_CTX3                    0.676471   \n",
       "173    173    DSB Iba1 46_40X_DG                    0.750000   \n",
       "\n",
       "     avg_dna_damage_foci/glia_+_damage_+  avg_dna_damage_foci/all_nuclei  \\\n",
       "0                               1.035088                        0.314655   \n",
       "1                               1.761905                        0.776042   \n",
       "2                               1.000000                        0.179487   \n",
       "3                               1.272727                        0.494340   \n",
       "4                               1.297872                        0.537190   \n",
       "5                               1.079646                        0.270742   \n",
       "6                               1.000000                        0.321429   \n",
       "7                               1.500000                        0.601093   \n",
       "8                               1.333333                        0.264368   \n",
       "9                               1.107143                        0.343234   \n",
       "10                              1.357143                        0.894444   \n",
       "11                              1.125000                        0.372624   \n",
       "12                              1.428571                        1.034722   \n",
       "13                              1.000000                        0.916667   \n",
       "14                              1.000000                        0.088889   \n",
       "15                              1.250000                        0.147860   \n",
       "16                              1.000000                        0.175439   \n",
       "17                              2.296703                        1.808571   \n",
       "18                              2.070175                        1.823529   \n",
       "19                              2.166667                        1.833333   \n",
       "20                              1.601562                        0.966981   \n",
       "21                              1.333333                        0.733333   \n",
       "22                              1.451613                        0.385246   \n",
       "23                              2.942149                        2.759690   \n",
       "109                             2.333333                        0.231579   \n",
       "110                             1.526316                        0.741573   \n",
       "111                             1.428571                        0.267206   \n",
       "112                             1.636364                        0.602996   \n",
       "113                             1.681818                        0.733990   \n",
       "114                             1.341772                        0.845070   \n",
       "158                             2.478261                        1.446043   \n",
       "159                             1.733333                        2.161616   \n",
       "160                             1.977273                        1.886076   \n",
       "161                             1.890625                        1.214912   \n",
       "168                             2.041667                        1.159763   \n",
       "169                             1.400000                        0.957447   \n",
       "170                             1.285714                        0.743396   \n",
       "171                             1.051282                        0.358885   \n",
       "172                             1.483871                        0.688797   \n",
       "173                             1.524590                        0.773292   \n",
       "\n",
       "     avg_dna_damage_foci/all_nuclei_damage_+  nr_+_dna_damage_glia_nuclei  \\\n",
       "0                                   1.028169                           57   \n",
       "1                                   1.752941                           84   \n",
       "2                                   1.020833                            3   \n",
       "3                                   1.259615                           99   \n",
       "4                                   1.354167                           47   \n",
       "5                                   1.078261                          113   \n",
       "6                                   1.105263                            2   \n",
       "7                                   1.506849                            6   \n",
       "8                                   1.061538                            6   \n",
       "9                                   1.118280                           28   \n",
       "10                                  1.829545                           14   \n",
       "11                                  1.113636                           40   \n",
       "12                                  1.693182                            7   \n",
       "13                                  1.980000                            5   \n",
       "14                                  1.052632                            4   \n",
       "15                                  1.117647                            4   \n",
       "16                                  1.111111                            8   \n",
       "17                                  2.228873                           91   \n",
       "18                                  2.137931                           57   \n",
       "19                                  2.129032                           60   \n",
       "20                                  1.601562                          128   \n",
       "21                                  1.294118                           42   \n",
       "22                                  1.424242                           31   \n",
       "23                                  2.942149                          121   \n",
       "109                                 1.100000                            3   \n",
       "110                                 1.450549                           19   \n",
       "111                                 1.118644                            7   \n",
       "112                                 1.463636                           55   \n",
       "113                                 1.536082                           44   \n",
       "114                                 1.374046                           79   \n",
       "158                                 2.030303                           23   \n",
       "159                                 2.743590                           15   \n",
       "160                                 2.377660                           44   \n",
       "161                                 1.897260                           64   \n",
       "168                                 1.781818                           48   \n",
       "169                                 1.753247                           20   \n",
       "170                                 1.407143                           42   \n",
       "171                                 1.131868                           39   \n",
       "172                                 1.522936                           31   \n",
       "173                                 1.566038                           61   \n",
       "\n",
       "     nr_-_dna_damage_glia_nuclei  nr_glia_+_nuclei  nr_total_nuclei  ...  \\\n",
       "0                            132               189              232  ...   \n",
       "1                            101               185              192  ...   \n",
       "2                             39                42              272  ...   \n",
       "3                            142               241              265  ...   \n",
       "4                             57               104              242  ...   \n",
       "5                            330               439              453  ...   \n",
       "6                              9                11              196  ...   \n",
       "7                             13                19              183  ...   \n",
       "8                             12                18              261  ...   \n",
       "9                             25                53              303  ...   \n",
       "10                            13                27              180  ...   \n",
       "11                           109               149              524  ...   \n",
       "12                             7                14              144  ...   \n",
       "13                             7                12              108  ...   \n",
       "14                            15                19              225  ...   \n",
       "15                            17                21              257  ...   \n",
       "16                             9                17              171  ...   \n",
       "17                            13               104              350  ...   \n",
       "18                             9                66               68  ...   \n",
       "19                            10                70               72  ...   \n",
       "20                            83               211              212  ...   \n",
       "21                            30                71               89  ...   \n",
       "22                            72               103              122  ...   \n",
       "23                             7               128              129  ...   \n",
       "109                            7                10              190  ...   \n",
       "110                           11                30              178  ...   \n",
       "111                           11                18              247  ...   \n",
       "112                           56               111              267  ...   \n",
       "113                           36                80              203  ...   \n",
       "114                           54               133              426  ...   \n",
       "158                            7                30              138  ...   \n",
       "159                            3                18               99  ...   \n",
       "160                           10                54              237  ...   \n",
       "161                           15                79              227  ...   \n",
       "168                           18                66              169  ...   \n",
       "169                           16                36              141  ...   \n",
       "170                           37                79              265  ...   \n",
       "171                           65               104              287  ...   \n",
       "172                           37                68              241  ...   \n",
       "173                           63               124              321  ...   \n",
       "\n",
       "     tissue_location  staining_id animal_id     sex            genotype  \\\n",
       "0                CA1           16       887    male             APP/PS1   \n",
       "1                CA3           16       887    male             APP/PS1   \n",
       "2               CTX1           16       887    male             APP/PS1   \n",
       "3               CTX2           16       887    male             APP/PS1   \n",
       "4               CTX3           16       887    male             APP/PS1   \n",
       "5                 DG           16       887    male             APP/PS1   \n",
       "6                CA1           17       892  female             APP/PS1   \n",
       "7                CA3           17       892  female             APP/PS1   \n",
       "8               CTX1           17       892  female             APP/PS1   \n",
       "9               CTX2           17       892  female             APP/PS1   \n",
       "10              CTX3           17       892  female             APP/PS1   \n",
       "11                DG           17       892  female             APP/PS1   \n",
       "12               CA1           18       231    male  APP/PS1 x Neil3 KO   \n",
       "13               CA3           18       231    male  APP/PS1 x Neil3 KO   \n",
       "14              CTX1           18       231    male  APP/PS1 x Neil3 KO   \n",
       "15              CTX2           18       231    male  APP/PS1 x Neil3 KO   \n",
       "16              CTX3           18       231    male  APP/PS1 x Neil3 KO   \n",
       "17                DG           18       231    male  APP/PS1 x Neil3 KO   \n",
       "18               CA1           19       154  female  APP/PS1 x Neil3 KO   \n",
       "19               CA3           19       154  female  APP/PS1 x Neil3 KO   \n",
       "20              CTX1           19       154  female  APP/PS1 x Neil3 KO   \n",
       "21              CTX2           19       154  female  APP/PS1 x Neil3 KO   \n",
       "22              CTX3           19       154  female  APP/PS1 x Neil3 KO   \n",
       "23                DG           19       154  female  APP/PS1 x Neil3 KO   \n",
       "109              CA1           35       305    male  APP/PS1 x Neil3 KO   \n",
       "110              CA3           35       305    male  APP/PS1 x Neil3 KO   \n",
       "111             CTX1           35       305    male  APP/PS1 x Neil3 KO   \n",
       "112             CTX2           35       305    male  APP/PS1 x Neil3 KO   \n",
       "113             CTX3           35       305    male  APP/PS1 x Neil3 KO   \n",
       "114               DG           35       305    male  APP/PS1 x Neil3 KO   \n",
       "158              CA1           44       147  female             APP/PS1   \n",
       "159              CA3           44       147  female             APP/PS1   \n",
       "160             CTX1           44       147  female             APP/PS1   \n",
       "161               DG           44       147  female             APP/PS1   \n",
       "168              CA1           46       253  female  APP/PS1 x Neil3 KO   \n",
       "169              CA3           46       253  female  APP/PS1 x Neil3 KO   \n",
       "170             CTX1           46       253  female  APP/PS1 x Neil3 KO   \n",
       "171             CTX2           46       253  female  APP/PS1 x Neil3 KO   \n",
       "172             CTX3           46       253  female  APP/PS1 x Neil3 KO   \n",
       "173               DG           46       253  female  APP/PS1 x Neil3 KO   \n",
       "\n",
       "    dna_damage_stain_quality_manual manual_qc glia_stain_quality_auto  \\\n",
       "0                              poor    failed              suboptimal   \n",
       "1                              poor    failed              suboptimal   \n",
       "2                              poor    failed                 optimal   \n",
       "3                              poor    failed              suboptimal   \n",
       "4                              poor    failed              suboptimal   \n",
       "5                              poor    failed              suboptimal   \n",
       "6                              poor    failed                 optimal   \n",
       "7                              poor    failed                 optimal   \n",
       "8                              poor    failed                 optimal   \n",
       "9                              poor    failed                 optimal   \n",
       "10                             poor    failed                 optimal   \n",
       "11                             poor    failed              suboptimal   \n",
       "12                             poor    failed                 optimal   \n",
       "13                             poor    failed                 optimal   \n",
       "14                             poor    failed                 optimal   \n",
       "15                             poor    failed                 optimal   \n",
       "16                             poor    failed                 optimal   \n",
       "17                             poor    failed              suboptimal   \n",
       "18                             poor    failed              suboptimal   \n",
       "19                             poor    failed              suboptimal   \n",
       "20                             poor    failed              suboptimal   \n",
       "21                             poor    failed              suboptimal   \n",
       "22                             poor    failed              suboptimal   \n",
       "23                             poor    failed              suboptimal   \n",
       "109                            poor    passed                 optimal   \n",
       "110                            poor    passed                 optimal   \n",
       "111                            poor    passed                 optimal   \n",
       "112                            poor    passed              suboptimal   \n",
       "113                            poor    passed                 optimal   \n",
       "114                            poor    passed              suboptimal   \n",
       "158                            poor    passed              suboptimal   \n",
       "159                            poor    passed              suboptimal   \n",
       "160                            poor    passed              suboptimal   \n",
       "161                            poor    passed                 optimal   \n",
       "168                            poor    passed              suboptimal   \n",
       "169                            poor    passed                 optimal   \n",
       "170                            poor    passed              suboptimal   \n",
       "171                            poor    passed              suboptimal   \n",
       "172                            poor    passed                 optimal   \n",
       "173                            poor    passed              suboptimal   \n",
       "\n",
       "    dna_damage_stain_quality_auto staining_qc_passed  \n",
       "0                         optimal              False  \n",
       "1                         optimal              False  \n",
       "2                         optimal              False  \n",
       "3                         optimal              False  \n",
       "4                         optimal              False  \n",
       "5                         optimal              False  \n",
       "6                         optimal              False  \n",
       "7                         optimal              False  \n",
       "8                         optimal              False  \n",
       "9                         optimal              False  \n",
       "10                        optimal              False  \n",
       "11                        optimal              False  \n",
       "12                        optimal              False  \n",
       "13                        optimal              False  \n",
       "14                        optimal              False  \n",
       "15                        optimal              False  \n",
       "16                        optimal              False  \n",
       "17                     suboptimal              False  \n",
       "18                     suboptimal              False  \n",
       "19                     suboptimal              False  \n",
       "20                        optimal              False  \n",
       "21                        optimal              False  \n",
       "22                        optimal              False  \n",
       "23                     suboptimal              False  \n",
       "109                       optimal              False  \n",
       "110                       optimal              False  \n",
       "111                       optimal              False  \n",
       "112                       optimal              False  \n",
       "113                       optimal              False  \n",
       "114                       optimal              False  \n",
       "158                       optimal              False  \n",
       "159                    suboptimal              False  \n",
       "160                    suboptimal              False  \n",
       "161                       optimal              False  \n",
       "168                       optimal              False  \n",
       "169                       optimal              False  \n",
       "170                       optimal              False  \n",
       "171                       optimal              False  \n",
       "172                       optimal              False  \n",
       "173                       optimal              False  \n",
       "\n",
       "[40 rows x 22 columns]"
      ]
     },
     "execution_count": 21,
     "metadata": {},
     "output_type": "execute_result"
    }
   ],
   "source": [
    "qc_failed_df = merged_df[merged_df['staining_qc_passed'] == False]\n",
    "\n",
    "print(f\"{qc_failed_df.shape[0]} stains have not passed QC and have been discarded\")\n",
    "\n",
    "qc_failed_list = qc_failed_df['index'].tolist()\n",
    "\n",
    "qc_failed_df\n"
   ]
  }
 ],
 "metadata": {
  "kernelspec": {
   "display_name": "microglia",
   "language": "python",
   "name": "python3"
  },
  "language_info": {
   "codemirror_mode": {
    "name": "ipython",
    "version": 3
   },
   "file_extension": ".py",
   "mimetype": "text/x-python",
   "name": "python",
   "nbconvert_exporter": "python",
   "pygments_lexer": "ipython3",
   "version": "3.9.18"
  }
 },
 "nbformat": 4,
 "nbformat_minor": 2
}
