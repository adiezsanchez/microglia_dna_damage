{
 "cells": [
  {
   "cell_type": "code",
   "execution_count": 89,
   "metadata": {},
   "outputs": [],
   "source": [
    "import pandas as pd\n",
    "import plotly.express as px\n",
    "import re"
   ]
  },
  {
   "cell_type": "code",
   "execution_count": 90,
   "metadata": {},
   "outputs": [
    {
     "data": {
      "text/html": [
       "<div>\n",
       "<style scoped>\n",
       "    .dataframe tbody tr th:only-of-type {\n",
       "        vertical-align: middle;\n",
       "    }\n",
       "\n",
       "    .dataframe tbody tr th {\n",
       "        vertical-align: top;\n",
       "    }\n",
       "\n",
       "    .dataframe thead th {\n",
       "        text-align: right;\n",
       "    }\n",
       "</style>\n",
       "<table border=\"1\" class=\"dataframe\">\n",
       "  <thead>\n",
       "    <tr style=\"text-align: right;\">\n",
       "      <th></th>\n",
       "      <th>index</th>\n",
       "      <th>filename</th>\n",
       "      <th>avg_dna_damage_foci/glia_+</th>\n",
       "      <th>avg_dna_damage_foci/glia_+_damage_+</th>\n",
       "      <th>avg_dna_damage_foci/all_nuclei</th>\n",
       "      <th>avg_dna_damage_foci/all_nuclei_damage_+</th>\n",
       "      <th>nr_+_dna_damage_glia_nuclei</th>\n",
       "      <th>nr_-_dna_damage_glia_nuclei</th>\n",
       "      <th>nr_glia_+_nuclei</th>\n",
       "      <th>nr_total_nuclei</th>\n",
       "      <th>%_dna_damage_signal</th>\n",
       "      <th>%_glia+_signal</th>\n",
       "      <th>tissue_location</th>\n",
       "      <th>staining_id</th>\n",
       "    </tr>\n",
       "  </thead>\n",
       "  <tbody>\n",
       "    <tr>\n",
       "      <th>0</th>\n",
       "      <td>0</td>\n",
       "      <td>DSB Iba1 16_40X_CA1</td>\n",
       "      <td>0.292208</td>\n",
       "      <td>1.071429</td>\n",
       "      <td>0.333333</td>\n",
       "      <td>1.045455</td>\n",
       "      <td>42</td>\n",
       "      <td>112</td>\n",
       "      <td>154</td>\n",
       "      <td>207</td>\n",
       "      <td>0.209141</td>\n",
       "      <td>88.633728</td>\n",
       "      <td>CA1</td>\n",
       "      <td>16</td>\n",
       "    </tr>\n",
       "    <tr>\n",
       "      <th>1</th>\n",
       "      <td>1</td>\n",
       "      <td>DSB Iba1 16_40X_CA3</td>\n",
       "      <td>0.739884</td>\n",
       "      <td>1.641026</td>\n",
       "      <td>0.785714</td>\n",
       "      <td>1.662791</td>\n",
       "      <td>78</td>\n",
       "      <td>95</td>\n",
       "      <td>173</td>\n",
       "      <td>182</td>\n",
       "      <td>0.511169</td>\n",
       "      <td>96.349525</td>\n",
       "      <td>CA3</td>\n",
       "      <td>16</td>\n",
       "    </tr>\n",
       "    <tr>\n",
       "      <th>2</th>\n",
       "      <td>2</td>\n",
       "      <td>DSB Iba1 16_40X_CTX1</td>\n",
       "      <td>0.055556</td>\n",
       "      <td>1.000000</td>\n",
       "      <td>0.183521</td>\n",
       "      <td>1.020833</td>\n",
       "      <td>2</td>\n",
       "      <td>34</td>\n",
       "      <td>36</td>\n",
       "      <td>267</td>\n",
       "      <td>0.130939</td>\n",
       "      <td>13.598442</td>\n",
       "      <td>CTX1</td>\n",
       "      <td>16</td>\n",
       "    </tr>\n",
       "    <tr>\n",
       "      <th>3</th>\n",
       "      <td>3</td>\n",
       "      <td>DSB Iba1 16_40X_CTX2</td>\n",
       "      <td>0.501976</td>\n",
       "      <td>1.270000</td>\n",
       "      <td>0.490775</td>\n",
       "      <td>1.266667</td>\n",
       "      <td>100</td>\n",
       "      <td>153</td>\n",
       "      <td>253</td>\n",
       "      <td>271</td>\n",
       "      <td>0.296688</td>\n",
       "      <td>94.930744</td>\n",
       "      <td>CTX2</td>\n",
       "      <td>16</td>\n",
       "    </tr>\n",
       "    <tr>\n",
       "      <th>4</th>\n",
       "      <td>4</td>\n",
       "      <td>DSB Iba1 16_40X_CTX3</td>\n",
       "      <td>0.567797</td>\n",
       "      <td>1.264151</td>\n",
       "      <td>0.565041</td>\n",
       "      <td>1.362745</td>\n",
       "      <td>53</td>\n",
       "      <td>65</td>\n",
       "      <td>118</td>\n",
       "      <td>246</td>\n",
       "      <td>0.392723</td>\n",
       "      <td>54.768944</td>\n",
       "      <td>CTX3</td>\n",
       "      <td>16</td>\n",
       "    </tr>\n",
       "  </tbody>\n",
       "</table>\n",
       "</div>"
      ],
      "text/plain": [
       "   index              filename  avg_dna_damage_foci/glia_+  \\\n",
       "0      0   DSB Iba1 16_40X_CA1                    0.292208   \n",
       "1      1   DSB Iba1 16_40X_CA3                    0.739884   \n",
       "2      2  DSB Iba1 16_40X_CTX1                    0.055556   \n",
       "3      3  DSB Iba1 16_40X_CTX2                    0.501976   \n",
       "4      4  DSB Iba1 16_40X_CTX3                    0.567797   \n",
       "\n",
       "   avg_dna_damage_foci/glia_+_damage_+  avg_dna_damage_foci/all_nuclei  \\\n",
       "0                             1.071429                        0.333333   \n",
       "1                             1.641026                        0.785714   \n",
       "2                             1.000000                        0.183521   \n",
       "3                             1.270000                        0.490775   \n",
       "4                             1.264151                        0.565041   \n",
       "\n",
       "   avg_dna_damage_foci/all_nuclei_damage_+  nr_+_dna_damage_glia_nuclei  \\\n",
       "0                                 1.045455                           42   \n",
       "1                                 1.662791                           78   \n",
       "2                                 1.020833                            2   \n",
       "3                                 1.266667                          100   \n",
       "4                                 1.362745                           53   \n",
       "\n",
       "   nr_-_dna_damage_glia_nuclei  nr_glia_+_nuclei  nr_total_nuclei  \\\n",
       "0                          112               154              207   \n",
       "1                           95               173              182   \n",
       "2                           34                36              267   \n",
       "3                          153               253              271   \n",
       "4                           65               118              246   \n",
       "\n",
       "   %_dna_damage_signal  %_glia+_signal tissue_location staining_id  \n",
       "0             0.209141       88.633728             CA1          16  \n",
       "1             0.511169       96.349525             CA3          16  \n",
       "2             0.130939       13.598442            CTX1          16  \n",
       "3             0.296688       94.930744            CTX2          16  \n",
       "4             0.392723       54.768944            CTX3          16  "
      ]
     },
     "execution_count": 90,
     "metadata": {},
     "output_type": "execute_result"
    }
   ],
   "source": [
    "# Define the results you want to explore\n",
    "csv_path = \"./results/results_cellpdia30_sigma4_dilrad4_dnad_obj_seg_v2_gliaero6_gliathr20.csv\" \n",
    "\n",
    "# Read the CSV file\n",
    "df = pd.read_csv(csv_path)\n",
    "\n",
    "# Convert the index into a column\n",
    "df.reset_index(inplace=True)\n",
    "\n",
    "# Extract 'tissue_location'\n",
    "df['tissue_location'] = df['filename'].str.split('_40X_').str[-1]\n",
    "\n",
    "# Extract 'staining_id'\n",
    "df['staining_id'] = df['filename'].str.extract('(\\d+)_40X')\n",
    "\n",
    "# Display the first few rows of the DataFrame\n",
    "df.head()\n"
   ]
  },
  {
   "cell_type": "code",
   "execution_count": 91,
   "metadata": {},
   "outputs": [
    {
     "name": "stdout",
     "output_type": "stream",
     "text": [
      "Cellpose nuclei diameter: 30\n",
      "Gaussian sigma: 4\n",
      "Dilation radius nuclei: 4\n",
      "Dna damage segmenter version: 2\n",
      "Glia erosion: 6\n",
      "Glia threshold: 20\n",
      "Glia semantic segmentation version: None\n"
     ]
    }
   ],
   "source": [
    "# Extract analysis parameters from the CSV path\n",
    "extracted_values = re.findall(r'\\d+', csv_path)\n",
    "\n",
    "# Dynamically assign the extracted values to variables\n",
    "if len(extracted_values) >= 6:\n",
    "    cellpose_nuclei_diameter = int(extracted_values[0])\n",
    "    gaussian_sigma = int(extracted_values[1])\n",
    "    dilation_radius_nuclei = int(extracted_values[2])\n",
    "    dna_damage_segmenter_version = int(extracted_values[3])\n",
    "    glia_nuclei_colocalization_erosion = int(extracted_values[4])\n",
    "    if \"_glia_sem_seg_v\" in str(csv_path):\n",
    "        glia_segmenter = True\n",
    "    else:\n",
    "        glia_segmenter = False\n",
    "\n",
    "if glia_segmenter:\n",
    "    glia_segmenter_version = int(extracted_values[5])\n",
    "    glia_channel_threshold = None\n",
    "    # Dinamically adjust plot titles\n",
    "    title = f\"cellpdia{cellpose_nuclei_diameter}_sigma{gaussian_sigma}_dilrad{dilation_radius_nuclei}_dnad_obj_seg_v{dna_damage_segmenter_version}_gliaero{glia_nuclei_colocalization_erosion}_glia_sem_seg_v{glia_segmenter_version}\"\n",
    "else:\n",
    "    glia_channel_threshold = int(extracted_values[5])\n",
    "    glia_segmenter_version = None\n",
    "    # Dinamically adjust plot titles\n",
    "    title = f\"cellpdia{cellpose_nuclei_diameter}_sigma{gaussian_sigma}_dilrad{dilation_radius_nuclei}_dnad_obj_seg_v{dna_damage_segmenter_version}_gliaero{glia_nuclei_colocalization_erosion}_gliathr{glia_channel_threshold}\"\n",
    "    \n",
    "\n",
    "# Print the assigned analysis parameters\n",
    "print(f\"Cellpose nuclei diameter: {cellpose_nuclei_diameter}\")\n",
    "print(f\"Gaussian sigma: {gaussian_sigma}\")\n",
    "print(f\"Dilation radius nuclei: {dilation_radius_nuclei}\")\n",
    "print(f\"Dna damage segmenter version: {dna_damage_segmenter_version}\")\n",
    "print(f\"Glia erosion: {glia_nuclei_colocalization_erosion}\")\n",
    "print(f\"Glia threshold: {glia_channel_threshold}\")\n",
    "print(f\"Glia semantic segmentation version: {glia_segmenter_version}\")\n",
    "\n"
   ]
  },
  {
   "cell_type": "code",
   "execution_count": 92,
   "metadata": {},
   "outputs": [
    {
     "data": {
      "text/html": [
       "<div>\n",
       "<style scoped>\n",
       "    .dataframe tbody tr th:only-of-type {\n",
       "        vertical-align: middle;\n",
       "    }\n",
       "\n",
       "    .dataframe tbody tr th {\n",
       "        vertical-align: top;\n",
       "    }\n",
       "\n",
       "    .dataframe thead th {\n",
       "        text-align: right;\n",
       "    }\n",
       "</style>\n",
       "<table border=\"1\" class=\"dataframe\">\n",
       "  <thead>\n",
       "    <tr style=\"text-align: right;\">\n",
       "      <th></th>\n",
       "      <th>staining_id</th>\n",
       "      <th>animal_id</th>\n",
       "      <th>sex</th>\n",
       "      <th>genotype</th>\n",
       "      <th>dna_damage_stain_quality_manual</th>\n",
       "      <th>manual_qc</th>\n",
       "    </tr>\n",
       "  </thead>\n",
       "  <tbody>\n",
       "    <tr>\n",
       "      <th>0</th>\n",
       "      <td>34</td>\n",
       "      <td>885</td>\n",
       "      <td>male</td>\n",
       "      <td>APP/PS1</td>\n",
       "      <td>poor</td>\n",
       "      <td>passed</td>\n",
       "    </tr>\n",
       "    <tr>\n",
       "      <th>1</th>\n",
       "      <td>53</td>\n",
       "      <td>885</td>\n",
       "      <td>male</td>\n",
       "      <td>APP/PS1</td>\n",
       "      <td>good</td>\n",
       "      <td>passed</td>\n",
       "    </tr>\n",
       "    <tr>\n",
       "      <th>2</th>\n",
       "      <td>23</td>\n",
       "      <td>2042</td>\n",
       "      <td>male</td>\n",
       "      <td>APP/PS1</td>\n",
       "      <td>good</td>\n",
       "      <td>passed</td>\n",
       "    </tr>\n",
       "    <tr>\n",
       "      <th>3</th>\n",
       "      <td>31</td>\n",
       "      <td>2042</td>\n",
       "      <td>male</td>\n",
       "      <td>APP/PS1</td>\n",
       "      <td>good</td>\n",
       "      <td>passed</td>\n",
       "    </tr>\n",
       "    <tr>\n",
       "      <th>4</th>\n",
       "      <td>43</td>\n",
       "      <td>2042</td>\n",
       "      <td>male</td>\n",
       "      <td>APP/PS1</td>\n",
       "      <td>good</td>\n",
       "      <td>passed</td>\n",
       "    </tr>\n",
       "  </tbody>\n",
       "</table>\n",
       "</div>"
      ],
      "text/plain": [
       "   staining_id  animal_id   sex genotype dna_damage_stain_quality_manual  \\\n",
       "0           34        885  male  APP/PS1                            poor   \n",
       "1           53        885  male  APP/PS1                            good   \n",
       "2           23       2042  male  APP/PS1                            good   \n",
       "3           31       2042  male  APP/PS1                            good   \n",
       "4           43       2042  male  APP/PS1                            good   \n",
       "\n",
       "  manual_qc  \n",
       "0    passed  \n",
       "1    passed  \n",
       "2    passed  \n",
       "3    passed  \n",
       "4    passed  "
      ]
     },
     "execution_count": 92,
     "metadata": {},
     "output_type": "execute_result"
    }
   ],
   "source": [
    "mouse_id_csv_path = \"./mouse_ids_Iba1.csv\"\n",
    "\n",
    "# Read the CSV file\n",
    "df_mouse_id = pd.read_csv(mouse_id_csv_path, delimiter=\";\", encoding=\"UTF-8\")\n",
    "\n",
    "# Display the first few rows of the DataFrame\n",
    "df_mouse_id.head()"
   ]
  },
  {
   "cell_type": "code",
   "execution_count": 93,
   "metadata": {},
   "outputs": [
    {
     "data": {
      "text/html": [
       "<div>\n",
       "<style scoped>\n",
       "    .dataframe tbody tr th:only-of-type {\n",
       "        vertical-align: middle;\n",
       "    }\n",
       "\n",
       "    .dataframe tbody tr th {\n",
       "        vertical-align: top;\n",
       "    }\n",
       "\n",
       "    .dataframe thead th {\n",
       "        text-align: right;\n",
       "    }\n",
       "</style>\n",
       "<table border=\"1\" class=\"dataframe\">\n",
       "  <thead>\n",
       "    <tr style=\"text-align: right;\">\n",
       "      <th></th>\n",
       "      <th>index</th>\n",
       "      <th>filename</th>\n",
       "      <th>avg_dna_damage_foci/glia_+</th>\n",
       "      <th>avg_dna_damage_foci/glia_+_damage_+</th>\n",
       "      <th>avg_dna_damage_foci/all_nuclei</th>\n",
       "      <th>avg_dna_damage_foci/all_nuclei_damage_+</th>\n",
       "      <th>nr_+_dna_damage_glia_nuclei</th>\n",
       "      <th>nr_-_dna_damage_glia_nuclei</th>\n",
       "      <th>nr_glia_+_nuclei</th>\n",
       "      <th>nr_total_nuclei</th>\n",
       "      <th>%_dna_damage_signal</th>\n",
       "      <th>%_glia+_signal</th>\n",
       "      <th>tissue_location</th>\n",
       "      <th>staining_id</th>\n",
       "      <th>animal_id</th>\n",
       "      <th>sex</th>\n",
       "      <th>genotype</th>\n",
       "      <th>dna_damage_stain_quality_manual</th>\n",
       "      <th>manual_qc</th>\n",
       "    </tr>\n",
       "  </thead>\n",
       "  <tbody>\n",
       "    <tr>\n",
       "      <th>0</th>\n",
       "      <td>0</td>\n",
       "      <td>DSB Iba1 16_40X_CA1</td>\n",
       "      <td>0.292208</td>\n",
       "      <td>1.071429</td>\n",
       "      <td>0.333333</td>\n",
       "      <td>1.045455</td>\n",
       "      <td>42</td>\n",
       "      <td>112</td>\n",
       "      <td>154</td>\n",
       "      <td>207</td>\n",
       "      <td>0.209141</td>\n",
       "      <td>88.633728</td>\n",
       "      <td>CA1</td>\n",
       "      <td>16</td>\n",
       "      <td>887</td>\n",
       "      <td>male</td>\n",
       "      <td>APP/PS1</td>\n",
       "      <td>poor</td>\n",
       "      <td>failed</td>\n",
       "    </tr>\n",
       "    <tr>\n",
       "      <th>1</th>\n",
       "      <td>1</td>\n",
       "      <td>DSB Iba1 16_40X_CA3</td>\n",
       "      <td>0.739884</td>\n",
       "      <td>1.641026</td>\n",
       "      <td>0.785714</td>\n",
       "      <td>1.662791</td>\n",
       "      <td>78</td>\n",
       "      <td>95</td>\n",
       "      <td>173</td>\n",
       "      <td>182</td>\n",
       "      <td>0.511169</td>\n",
       "      <td>96.349525</td>\n",
       "      <td>CA3</td>\n",
       "      <td>16</td>\n",
       "      <td>887</td>\n",
       "      <td>male</td>\n",
       "      <td>APP/PS1</td>\n",
       "      <td>poor</td>\n",
       "      <td>failed</td>\n",
       "    </tr>\n",
       "    <tr>\n",
       "      <th>2</th>\n",
       "      <td>2</td>\n",
       "      <td>DSB Iba1 16_40X_CTX1</td>\n",
       "      <td>0.055556</td>\n",
       "      <td>1.000000</td>\n",
       "      <td>0.183521</td>\n",
       "      <td>1.020833</td>\n",
       "      <td>2</td>\n",
       "      <td>34</td>\n",
       "      <td>36</td>\n",
       "      <td>267</td>\n",
       "      <td>0.130939</td>\n",
       "      <td>13.598442</td>\n",
       "      <td>CTX1</td>\n",
       "      <td>16</td>\n",
       "      <td>887</td>\n",
       "      <td>male</td>\n",
       "      <td>APP/PS1</td>\n",
       "      <td>poor</td>\n",
       "      <td>failed</td>\n",
       "    </tr>\n",
       "    <tr>\n",
       "      <th>3</th>\n",
       "      <td>3</td>\n",
       "      <td>DSB Iba1 16_40X_CTX2</td>\n",
       "      <td>0.501976</td>\n",
       "      <td>1.270000</td>\n",
       "      <td>0.490775</td>\n",
       "      <td>1.266667</td>\n",
       "      <td>100</td>\n",
       "      <td>153</td>\n",
       "      <td>253</td>\n",
       "      <td>271</td>\n",
       "      <td>0.296688</td>\n",
       "      <td>94.930744</td>\n",
       "      <td>CTX2</td>\n",
       "      <td>16</td>\n",
       "      <td>887</td>\n",
       "      <td>male</td>\n",
       "      <td>APP/PS1</td>\n",
       "      <td>poor</td>\n",
       "      <td>failed</td>\n",
       "    </tr>\n",
       "    <tr>\n",
       "      <th>4</th>\n",
       "      <td>4</td>\n",
       "      <td>DSB Iba1 16_40X_CTX3</td>\n",
       "      <td>0.567797</td>\n",
       "      <td>1.264151</td>\n",
       "      <td>0.565041</td>\n",
       "      <td>1.362745</td>\n",
       "      <td>53</td>\n",
       "      <td>65</td>\n",
       "      <td>118</td>\n",
       "      <td>246</td>\n",
       "      <td>0.392723</td>\n",
       "      <td>54.768944</td>\n",
       "      <td>CTX3</td>\n",
       "      <td>16</td>\n",
       "      <td>887</td>\n",
       "      <td>male</td>\n",
       "      <td>APP/PS1</td>\n",
       "      <td>poor</td>\n",
       "      <td>failed</td>\n",
       "    </tr>\n",
       "  </tbody>\n",
       "</table>\n",
       "</div>"
      ],
      "text/plain": [
       "   index              filename  avg_dna_damage_foci/glia_+  \\\n",
       "0      0   DSB Iba1 16_40X_CA1                    0.292208   \n",
       "1      1   DSB Iba1 16_40X_CA3                    0.739884   \n",
       "2      2  DSB Iba1 16_40X_CTX1                    0.055556   \n",
       "3      3  DSB Iba1 16_40X_CTX2                    0.501976   \n",
       "4      4  DSB Iba1 16_40X_CTX3                    0.567797   \n",
       "\n",
       "   avg_dna_damage_foci/glia_+_damage_+  avg_dna_damage_foci/all_nuclei  \\\n",
       "0                             1.071429                        0.333333   \n",
       "1                             1.641026                        0.785714   \n",
       "2                             1.000000                        0.183521   \n",
       "3                             1.270000                        0.490775   \n",
       "4                             1.264151                        0.565041   \n",
       "\n",
       "   avg_dna_damage_foci/all_nuclei_damage_+  nr_+_dna_damage_glia_nuclei  \\\n",
       "0                                 1.045455                           42   \n",
       "1                                 1.662791                           78   \n",
       "2                                 1.020833                            2   \n",
       "3                                 1.266667                          100   \n",
       "4                                 1.362745                           53   \n",
       "\n",
       "   nr_-_dna_damage_glia_nuclei  nr_glia_+_nuclei  nr_total_nuclei  \\\n",
       "0                          112               154              207   \n",
       "1                           95               173              182   \n",
       "2                           34                36              267   \n",
       "3                          153               253              271   \n",
       "4                           65               118              246   \n",
       "\n",
       "   %_dna_damage_signal  %_glia+_signal tissue_location  staining_id  \\\n",
       "0             0.209141       88.633728             CA1           16   \n",
       "1             0.511169       96.349525             CA3           16   \n",
       "2             0.130939       13.598442            CTX1           16   \n",
       "3             0.296688       94.930744            CTX2           16   \n",
       "4             0.392723       54.768944            CTX3           16   \n",
       "\n",
       "   animal_id   sex genotype dna_damage_stain_quality_manual manual_qc  \n",
       "0        887  male  APP/PS1                            poor    failed  \n",
       "1        887  male  APP/PS1                            poor    failed  \n",
       "2        887  male  APP/PS1                            poor    failed  \n",
       "3        887  male  APP/PS1                            poor    failed  \n",
       "4        887  male  APP/PS1                            poor    failed  "
      ]
     },
     "execution_count": 93,
     "metadata": {},
     "output_type": "execute_result"
    }
   ],
   "source": [
    "df['staining_id'] = pd.to_numeric(df['staining_id'], errors='coerce')\n",
    "df_mouse_id['staining_id'] = pd.to_numeric(df_mouse_id['staining_id'], errors='coerce')\n",
    "\n",
    "# Merge both processed_results_df and mouse_id dataframes on staining_id\n",
    "merged_df = pd.merge(df, df_mouse_id, on=\"staining_id\")\n",
    "\n",
    "# Display the first few rows of the DataFrame\n",
    "merged_df.head()"
   ]
  },
  {
   "cell_type": "code",
   "execution_count": 94,
   "metadata": {},
   "outputs": [
    {
     "data": {
      "application/vnd.plotly.v1+json": {
       "config": {
        "plotlyServerURL": "https://plot.ly"
       },
       "data": [
        {
         "customdata": [
          [
           16,
           0
          ],
          [
           16,
           1
          ],
          [
           16,
           2
          ],
          [
           16,
           3
          ],
          [
           16,
           4
          ],
          [
           16,
           5
          ],
          [
           17,
           6
          ],
          [
           17,
           7
          ],
          [
           17,
           8
          ],
          [
           17,
           9
          ],
          [
           17,
           10
          ],
          [
           17,
           11
          ],
          [
           18,
           12
          ],
          [
           18,
           13
          ],
          [
           18,
           14
          ],
          [
           18,
           15
          ],
          [
           18,
           16
          ],
          [
           18,
           17
          ],
          [
           19,
           18
          ],
          [
           19,
           19
          ],
          [
           19,
           20
          ],
          [
           19,
           21
          ],
          [
           19,
           22
          ],
          [
           19,
           23
          ],
          [
           20,
           24
          ],
          [
           20,
           25
          ],
          [
           20,
           26
          ],
          [
           20,
           27
          ],
          [
           20,
           28
          ],
          [
           20,
           29
          ],
          [
           21,
           30
          ],
          [
           21,
           31
          ],
          [
           21,
           32
          ],
          [
           21,
           33
          ],
          [
           21,
           34
          ],
          [
           21,
           35
          ],
          [
           22,
           36
          ],
          [
           22,
           37
          ],
          [
           22,
           38
          ],
          [
           22,
           39
          ],
          [
           22,
           40
          ],
          [
           22,
           41
          ],
          [
           23,
           42
          ],
          [
           23,
           43
          ],
          [
           23,
           44
          ],
          [
           23,
           45
          ],
          [
           23,
           46
          ],
          [
           23,
           47
          ],
          [
           24,
           48
          ],
          [
           24,
           49
          ],
          [
           24,
           50
          ],
          [
           24,
           51
          ],
          [
           24,
           52
          ],
          [
           24,
           53
          ],
          [
           25,
           54
          ],
          [
           25,
           55
          ],
          [
           25,
           56
          ],
          [
           25,
           57
          ],
          [
           25,
           58
          ],
          [
           25,
           59
          ],
          [
           26,
           60
          ],
          [
           26,
           61
          ],
          [
           26,
           62
          ],
          [
           26,
           63
          ],
          [
           26,
           64
          ],
          [
           26,
           65
          ],
          [
           27,
           66
          ],
          [
           28,
           67
          ],
          [
           28,
           68
          ],
          [
           28,
           69
          ],
          [
           28,
           70
          ],
          [
           28,
           71
          ],
          [
           28,
           72
          ],
          [
           29,
           73
          ],
          [
           29,
           74
          ],
          [
           29,
           75
          ],
          [
           29,
           76
          ],
          [
           29,
           77
          ],
          [
           29,
           78
          ],
          [
           30,
           79
          ],
          [
           30,
           80
          ],
          [
           30,
           81
          ],
          [
           30,
           82
          ],
          [
           30,
           83
          ],
          [
           30,
           84
          ],
          [
           31,
           85
          ],
          [
           31,
           86
          ],
          [
           31,
           87
          ],
          [
           31,
           88
          ],
          [
           31,
           89
          ],
          [
           31,
           90
          ],
          [
           32,
           91
          ],
          [
           32,
           92
          ],
          [
           32,
           93
          ],
          [
           32,
           94
          ],
          [
           32,
           95
          ],
          [
           32,
           96
          ],
          [
           33,
           97
          ],
          [
           33,
           98
          ],
          [
           33,
           99
          ],
          [
           33,
           100
          ],
          [
           33,
           101
          ],
          [
           33,
           102
          ],
          [
           34,
           103
          ],
          [
           34,
           104
          ],
          [
           34,
           105
          ],
          [
           34,
           106
          ],
          [
           34,
           107
          ],
          [
           34,
           108
          ],
          [
           35,
           109
          ],
          [
           35,
           110
          ],
          [
           35,
           111
          ],
          [
           35,
           112
          ],
          [
           35,
           113
          ],
          [
           35,
           114
          ],
          [
           36,
           115
          ],
          [
           36,
           116
          ],
          [
           36,
           117
          ],
          [
           36,
           118
          ],
          [
           36,
           119
          ],
          [
           36,
           120
          ],
          [
           37,
           121
          ],
          [
           37,
           122
          ],
          [
           37,
           123
          ],
          [
           37,
           124
          ],
          [
           37,
           125
          ],
          [
           37,
           126
          ],
          [
           38,
           127
          ],
          [
           39,
           128
          ],
          [
           39,
           129
          ],
          [
           39,
           130
          ],
          [
           39,
           131
          ],
          [
           39,
           132
          ],
          [
           39,
           133
          ],
          [
           40,
           134
          ],
          [
           40,
           135
          ],
          [
           40,
           136
          ],
          [
           40,
           137
          ],
          [
           40,
           138
          ],
          [
           40,
           139
          ],
          [
           41,
           140
          ],
          [
           41,
           141
          ],
          [
           41,
           142
          ],
          [
           41,
           143
          ],
          [
           41,
           144
          ],
          [
           41,
           145
          ],
          [
           42,
           146
          ],
          [
           42,
           147
          ],
          [
           42,
           148
          ],
          [
           42,
           149
          ],
          [
           42,
           150
          ],
          [
           42,
           151
          ],
          [
           43,
           152
          ],
          [
           43,
           153
          ],
          [
           43,
           154
          ],
          [
           43,
           155
          ],
          [
           43,
           156
          ],
          [
           43,
           157
          ],
          [
           44,
           158
          ],
          [
           44,
           159
          ],
          [
           44,
           160
          ],
          [
           44,
           161
          ],
          [
           45,
           162
          ],
          [
           45,
           163
          ],
          [
           45,
           164
          ],
          [
           45,
           165
          ],
          [
           45,
           166
          ],
          [
           45,
           167
          ],
          [
           46,
           168
          ],
          [
           46,
           169
          ],
          [
           46,
           170
          ],
          [
           46,
           171
          ],
          [
           46,
           172
          ],
          [
           46,
           173
          ],
          [
           47,
           174
          ],
          [
           47,
           175
          ],
          [
           47,
           176
          ],
          [
           47,
           177
          ],
          [
           47,
           178
          ],
          [
           47,
           179
          ],
          [
           48,
           180
          ],
          [
           48,
           181
          ],
          [
           48,
           182
          ],
          [
           48,
           183
          ],
          [
           48,
           184
          ],
          [
           48,
           185
          ],
          [
           49,
           186
          ],
          [
           49,
           187
          ],
          [
           49,
           188
          ],
          [
           49,
           189
          ],
          [
           49,
           190
          ],
          [
           49,
           191
          ],
          [
           50,
           192
          ],
          [
           50,
           193
          ],
          [
           50,
           194
          ],
          [
           50,
           195
          ],
          [
           50,
           196
          ],
          [
           50,
           197
          ],
          [
           51,
           198
          ],
          [
           51,
           199
          ],
          [
           51,
           200
          ],
          [
           51,
           201
          ],
          [
           51,
           202
          ],
          [
           51,
           203
          ],
          [
           52,
           204
          ],
          [
           52,
           205
          ],
          [
           52,
           206
          ],
          [
           52,
           207
          ],
          [
           52,
           208
          ],
          [
           52,
           209
          ],
          [
           53,
           210
          ],
          [
           53,
           211
          ],
          [
           53,
           212
          ],
          [
           53,
           213
          ],
          [
           53,
           214
          ],
          [
           53,
           215
          ],
          [
           54,
           216
          ],
          [
           54,
           217
          ],
          [
           54,
           218
          ],
          [
           54,
           219
          ],
          [
           54,
           220
          ],
          [
           54,
           221
          ],
          [
           55,
           222
          ],
          [
           55,
           223
          ],
          [
           55,
           224
          ],
          [
           55,
           225
          ],
          [
           55,
           226
          ],
          [
           55,
           227
          ],
          [
           56,
           228
          ],
          [
           56,
           229
          ],
          [
           56,
           230
          ],
          [
           56,
           231
          ],
          [
           56,
           232
          ],
          [
           56,
           233
          ],
          [
           57,
           234
          ],
          [
           57,
           235
          ],
          [
           57,
           236
          ],
          [
           57,
           237
          ],
          [
           57,
           238
          ],
          [
           57,
           239
          ],
          [
           58,
           240
          ],
          [
           58,
           241
          ],
          [
           58,
           242
          ],
          [
           58,
           243
          ],
          [
           58,
           244
          ],
          [
           58,
           245
          ],
          [
           59,
           246
          ],
          [
           59,
           247
          ],
          [
           59,
           248
          ],
          [
           59,
           249
          ],
          [
           59,
           250
          ],
          [
           59,
           251
          ]
         ],
         "hovertemplate": "tissue_location=%{x}<br>nr_+_dna_damage_glia_nuclei=%{y}<br>staining_id=%{customdata[0]}<br>index=%{customdata[1]}<extra></extra>",
         "legendgroup": "",
         "marker": {
          "color": "#636efa",
          "symbol": "circle"
         },
         "mode": "markers",
         "name": "",
         "orientation": "v",
         "showlegend": false,
         "type": "scatter",
         "x": [
          "CA1",
          "CA3",
          "CTX1",
          "CTX2",
          "CTX3",
          "DG",
          "CA1",
          "CA3",
          "CTX1",
          "CTX2",
          "CTX3",
          "DG",
          "CA1",
          "CA3",
          "CTX1",
          "CTX2",
          "CTX3",
          "DG",
          "CA1",
          "CA3",
          "CTX1",
          "CTX2",
          "CTX3",
          "DG",
          "CA1",
          "CA3",
          "CTX1",
          "CTX2",
          "CTX3",
          "DG",
          "CA1",
          "CA3",
          "CTX1",
          "CTX2",
          "CTX3",
          "DG",
          "CA1",
          "CA3",
          "CTX1",
          "CTX2",
          "CTX3",
          "DG",
          "CA1",
          "CA3",
          "CTX1",
          "CTX2",
          "CTX3",
          "DG",
          "CA1",
          "CA3",
          "CTX1",
          "CTX2",
          "CTX3",
          "DG",
          "CA1",
          "CA3",
          "CTX1",
          "CTX2",
          "CTX3",
          "DG",
          "CA1",
          "CA3",
          "CTX1",
          "CTX2",
          "CTX3",
          "DG",
          "DG",
          "CA1",
          "CA3",
          "CTX1",
          "CTX2",
          "CTX3",
          "DG",
          "CA1",
          "CA3",
          "CTX1",
          "CTX2",
          "CTX3",
          "DG",
          "CA1",
          "CA3",
          "CTX1",
          "CTX2",
          "CTX3",
          "DG",
          "CA1",
          "CA3",
          "CTX1",
          "CTX2",
          "CTX3",
          "DG",
          "CA1",
          "CA3",
          "CTX1",
          "CTX2",
          "CTX3",
          "DG",
          "CA1",
          "CA3",
          "CTX1",
          "CTX2",
          "CTX3",
          "DG",
          "CA1",
          "CA3",
          "CTX1",
          "CTX2",
          "CTX3",
          "DG",
          "CA1",
          "CA3",
          "CTX1",
          "CTX2",
          "CTX3",
          "DG",
          "CA1",
          "CA3",
          "CTX1",
          "CTX2",
          "CTX3",
          "DG",
          "CA1",
          "CA3",
          "CTX1",
          "CTX2",
          "CTX3",
          "DG",
          "DG",
          "CA1",
          "CA3",
          "CTX1",
          "CTX2",
          "CTX3",
          "DG",
          "CA1",
          "CA3",
          "CTX1",
          "CTX2",
          "CTX3",
          "DG",
          "CA1",
          "CA3",
          "CTX1",
          "CTX2",
          "CTX3",
          "DG",
          "CA1",
          "CA3",
          "CTX1",
          "CTX2",
          "CTX3",
          "DG",
          "CA1",
          "CA3",
          "CTX1",
          "CTX2",
          "CTX3",
          "DG",
          "CA1",
          "CA3",
          "CTX1",
          "DG",
          "CA1",
          "CA3",
          "CTX1",
          "CTX2",
          "CTX3",
          "DG",
          "CA1",
          "CA3",
          "CTX1",
          "CTX2",
          "CTX3",
          "DG",
          "CA1",
          "CA3",
          "CTX1",
          "CTX2",
          "CTX3",
          "DG",
          "CA1",
          "CA3",
          "CTX1",
          "CTX2",
          "CTX3",
          "DG",
          "CA1",
          "CA3",
          "CTX1",
          "CTX2",
          "CTX3",
          "DG",
          "CA1",
          "CA3",
          "CTX1",
          "CTX2",
          "CTX3",
          "DG",
          "CA1",
          "CA3",
          "CTX1",
          "CTX2",
          "CTX3",
          "DG",
          "CA1",
          "CA3",
          "CTX1",
          "CTX2",
          "CTX3",
          "DG",
          "CA1",
          "CA3",
          "CTX1",
          "CTX2",
          "CTX3",
          "DG",
          "CA1",
          "CA3",
          "CTX1",
          "CTX2",
          "CTX3",
          "DG",
          "CA1",
          "CA3",
          "CTX1",
          "CTX2",
          "CTX3",
          "DG",
          "CA1",
          "CA3",
          "CTX1",
          "CTX2",
          "CTX3",
          "DG",
          "CA1",
          "CA3",
          "CTX1",
          "CTX2",
          "CTX3",
          "DG",
          "CA1",
          "CA3",
          "CTX1",
          "CTX2",
          "CTX3",
          "DG",
          "CA1",
          "CA3",
          "CTX1",
          "CTX2",
          "CTX3",
          "DG"
         ],
         "xaxis": "x",
         "y": [
          42,
          78,
          2,
          100,
          53,
          64,
          2,
          7,
          8,
          25,
          18,
          21,
          6,
          9,
          5,
          6,
          7,
          50,
          42,
          43,
          87,
          23,
          21,
          49,
          4,
          5,
          4,
          14,
          1,
          5,
          7,
          2,
          13,
          11,
          17,
          9,
          6,
          4,
          7,
          8,
          4,
          7,
          2,
          3,
          8,
          0,
          8,
          5,
          0,
          1,
          0,
          7,
          1,
          1,
          4,
          7,
          9,
          14,
          3,
          9,
          5,
          6,
          5,
          9,
          16,
          2,
          2,
          0,
          0,
          1,
          6,
          8,
          12,
          7,
          4,
          11,
          18,
          9,
          4,
          0,
          1,
          8,
          5,
          7,
          2,
          7,
          1,
          5,
          6,
          9,
          6,
          4,
          10,
          13,
          29,
          18,
          26,
          3,
          5,
          4,
          9,
          4,
          2,
          5,
          6,
          20,
          18,
          21,
          14,
          3,
          15,
          10,
          63,
          42,
          55,
          8,
          3,
          13,
          21,
          8,
          4,
          3,
          1,
          11,
          11,
          21,
          0,
          2,
          3,
          3,
          0,
          1,
          2,
          7,
          2,
          5,
          12,
          6,
          17,
          4,
          2,
          0,
          0,
          0,
          2,
          5,
          3,
          3,
          1,
          7,
          8,
          2,
          4,
          2,
          15,
          8,
          8,
          19,
          16,
          18,
          62,
          54,
          11,
          4,
          4,
          12,
          6,
          9,
          25,
          25,
          43,
          44,
          34,
          23,
          6,
          7,
          5,
          34,
          18,
          4,
          6,
          4,
          13,
          11,
          11,
          8,
          8,
          3,
          7,
          6,
          5,
          5,
          0,
          0,
          0,
          1,
          10,
          4,
          5,
          6,
          4,
          4,
          6,
          7,
          3,
          4,
          1,
          13,
          8,
          4,
          4,
          6,
          18,
          17,
          7,
          9,
          4,
          3,
          4,
          7,
          12,
          8,
          2,
          2,
          1,
          3,
          0,
          4,
          5,
          2,
          8,
          8,
          7,
          10,
          4,
          7,
          8,
          5,
          5,
          11,
          3,
          3,
          11,
          10,
          4,
          1,
          5,
          3,
          3,
          10,
          10,
          4
         ],
         "yaxis": "y"
        }
       ],
       "layout": {
        "legend": {
         "tracegroupgap": 0
        },
        "template": {
         "data": {
          "bar": [
           {
            "error_x": {
             "color": "#2a3f5f"
            },
            "error_y": {
             "color": "#2a3f5f"
            },
            "marker": {
             "line": {
              "color": "#E5ECF6",
              "width": 0.5
             },
             "pattern": {
              "fillmode": "overlay",
              "size": 10,
              "solidity": 0.2
             }
            },
            "type": "bar"
           }
          ],
          "barpolar": [
           {
            "marker": {
             "line": {
              "color": "#E5ECF6",
              "width": 0.5
             },
             "pattern": {
              "fillmode": "overlay",
              "size": 10,
              "solidity": 0.2
             }
            },
            "type": "barpolar"
           }
          ],
          "carpet": [
           {
            "aaxis": {
             "endlinecolor": "#2a3f5f",
             "gridcolor": "white",
             "linecolor": "white",
             "minorgridcolor": "white",
             "startlinecolor": "#2a3f5f"
            },
            "baxis": {
             "endlinecolor": "#2a3f5f",
             "gridcolor": "white",
             "linecolor": "white",
             "minorgridcolor": "white",
             "startlinecolor": "#2a3f5f"
            },
            "type": "carpet"
           }
          ],
          "choropleth": [
           {
            "colorbar": {
             "outlinewidth": 0,
             "ticks": ""
            },
            "type": "choropleth"
           }
          ],
          "contour": [
           {
            "colorbar": {
             "outlinewidth": 0,
             "ticks": ""
            },
            "colorscale": [
             [
              0,
              "#0d0887"
             ],
             [
              0.1111111111111111,
              "#46039f"
             ],
             [
              0.2222222222222222,
              "#7201a8"
             ],
             [
              0.3333333333333333,
              "#9c179e"
             ],
             [
              0.4444444444444444,
              "#bd3786"
             ],
             [
              0.5555555555555556,
              "#d8576b"
             ],
             [
              0.6666666666666666,
              "#ed7953"
             ],
             [
              0.7777777777777778,
              "#fb9f3a"
             ],
             [
              0.8888888888888888,
              "#fdca26"
             ],
             [
              1,
              "#f0f921"
             ]
            ],
            "type": "contour"
           }
          ],
          "contourcarpet": [
           {
            "colorbar": {
             "outlinewidth": 0,
             "ticks": ""
            },
            "type": "contourcarpet"
           }
          ],
          "heatmap": [
           {
            "colorbar": {
             "outlinewidth": 0,
             "ticks": ""
            },
            "colorscale": [
             [
              0,
              "#0d0887"
             ],
             [
              0.1111111111111111,
              "#46039f"
             ],
             [
              0.2222222222222222,
              "#7201a8"
             ],
             [
              0.3333333333333333,
              "#9c179e"
             ],
             [
              0.4444444444444444,
              "#bd3786"
             ],
             [
              0.5555555555555556,
              "#d8576b"
             ],
             [
              0.6666666666666666,
              "#ed7953"
             ],
             [
              0.7777777777777778,
              "#fb9f3a"
             ],
             [
              0.8888888888888888,
              "#fdca26"
             ],
             [
              1,
              "#f0f921"
             ]
            ],
            "type": "heatmap"
           }
          ],
          "heatmapgl": [
           {
            "colorbar": {
             "outlinewidth": 0,
             "ticks": ""
            },
            "colorscale": [
             [
              0,
              "#0d0887"
             ],
             [
              0.1111111111111111,
              "#46039f"
             ],
             [
              0.2222222222222222,
              "#7201a8"
             ],
             [
              0.3333333333333333,
              "#9c179e"
             ],
             [
              0.4444444444444444,
              "#bd3786"
             ],
             [
              0.5555555555555556,
              "#d8576b"
             ],
             [
              0.6666666666666666,
              "#ed7953"
             ],
             [
              0.7777777777777778,
              "#fb9f3a"
             ],
             [
              0.8888888888888888,
              "#fdca26"
             ],
             [
              1,
              "#f0f921"
             ]
            ],
            "type": "heatmapgl"
           }
          ],
          "histogram": [
           {
            "marker": {
             "pattern": {
              "fillmode": "overlay",
              "size": 10,
              "solidity": 0.2
             }
            },
            "type": "histogram"
           }
          ],
          "histogram2d": [
           {
            "colorbar": {
             "outlinewidth": 0,
             "ticks": ""
            },
            "colorscale": [
             [
              0,
              "#0d0887"
             ],
             [
              0.1111111111111111,
              "#46039f"
             ],
             [
              0.2222222222222222,
              "#7201a8"
             ],
             [
              0.3333333333333333,
              "#9c179e"
             ],
             [
              0.4444444444444444,
              "#bd3786"
             ],
             [
              0.5555555555555556,
              "#d8576b"
             ],
             [
              0.6666666666666666,
              "#ed7953"
             ],
             [
              0.7777777777777778,
              "#fb9f3a"
             ],
             [
              0.8888888888888888,
              "#fdca26"
             ],
             [
              1,
              "#f0f921"
             ]
            ],
            "type": "histogram2d"
           }
          ],
          "histogram2dcontour": [
           {
            "colorbar": {
             "outlinewidth": 0,
             "ticks": ""
            },
            "colorscale": [
             [
              0,
              "#0d0887"
             ],
             [
              0.1111111111111111,
              "#46039f"
             ],
             [
              0.2222222222222222,
              "#7201a8"
             ],
             [
              0.3333333333333333,
              "#9c179e"
             ],
             [
              0.4444444444444444,
              "#bd3786"
             ],
             [
              0.5555555555555556,
              "#d8576b"
             ],
             [
              0.6666666666666666,
              "#ed7953"
             ],
             [
              0.7777777777777778,
              "#fb9f3a"
             ],
             [
              0.8888888888888888,
              "#fdca26"
             ],
             [
              1,
              "#f0f921"
             ]
            ],
            "type": "histogram2dcontour"
           }
          ],
          "mesh3d": [
           {
            "colorbar": {
             "outlinewidth": 0,
             "ticks": ""
            },
            "type": "mesh3d"
           }
          ],
          "parcoords": [
           {
            "line": {
             "colorbar": {
              "outlinewidth": 0,
              "ticks": ""
             }
            },
            "type": "parcoords"
           }
          ],
          "pie": [
           {
            "automargin": true,
            "type": "pie"
           }
          ],
          "scatter": [
           {
            "fillpattern": {
             "fillmode": "overlay",
             "size": 10,
             "solidity": 0.2
            },
            "type": "scatter"
           }
          ],
          "scatter3d": [
           {
            "line": {
             "colorbar": {
              "outlinewidth": 0,
              "ticks": ""
             }
            },
            "marker": {
             "colorbar": {
              "outlinewidth": 0,
              "ticks": ""
             }
            },
            "type": "scatter3d"
           }
          ],
          "scattercarpet": [
           {
            "marker": {
             "colorbar": {
              "outlinewidth": 0,
              "ticks": ""
             }
            },
            "type": "scattercarpet"
           }
          ],
          "scattergeo": [
           {
            "marker": {
             "colorbar": {
              "outlinewidth": 0,
              "ticks": ""
             }
            },
            "type": "scattergeo"
           }
          ],
          "scattergl": [
           {
            "marker": {
             "colorbar": {
              "outlinewidth": 0,
              "ticks": ""
             }
            },
            "type": "scattergl"
           }
          ],
          "scattermapbox": [
           {
            "marker": {
             "colorbar": {
              "outlinewidth": 0,
              "ticks": ""
             }
            },
            "type": "scattermapbox"
           }
          ],
          "scatterpolar": [
           {
            "marker": {
             "colorbar": {
              "outlinewidth": 0,
              "ticks": ""
             }
            },
            "type": "scatterpolar"
           }
          ],
          "scatterpolargl": [
           {
            "marker": {
             "colorbar": {
              "outlinewidth": 0,
              "ticks": ""
             }
            },
            "type": "scatterpolargl"
           }
          ],
          "scatterternary": [
           {
            "marker": {
             "colorbar": {
              "outlinewidth": 0,
              "ticks": ""
             }
            },
            "type": "scatterternary"
           }
          ],
          "surface": [
           {
            "colorbar": {
             "outlinewidth": 0,
             "ticks": ""
            },
            "colorscale": [
             [
              0,
              "#0d0887"
             ],
             [
              0.1111111111111111,
              "#46039f"
             ],
             [
              0.2222222222222222,
              "#7201a8"
             ],
             [
              0.3333333333333333,
              "#9c179e"
             ],
             [
              0.4444444444444444,
              "#bd3786"
             ],
             [
              0.5555555555555556,
              "#d8576b"
             ],
             [
              0.6666666666666666,
              "#ed7953"
             ],
             [
              0.7777777777777778,
              "#fb9f3a"
             ],
             [
              0.8888888888888888,
              "#fdca26"
             ],
             [
              1,
              "#f0f921"
             ]
            ],
            "type": "surface"
           }
          ],
          "table": [
           {
            "cells": {
             "fill": {
              "color": "#EBF0F8"
             },
             "line": {
              "color": "white"
             }
            },
            "header": {
             "fill": {
              "color": "#C8D4E3"
             },
             "line": {
              "color": "white"
             }
            },
            "type": "table"
           }
          ]
         },
         "layout": {
          "annotationdefaults": {
           "arrowcolor": "#2a3f5f",
           "arrowhead": 0,
           "arrowwidth": 1
          },
          "autotypenumbers": "strict",
          "coloraxis": {
           "colorbar": {
            "outlinewidth": 0,
            "ticks": ""
           }
          },
          "colorscale": {
           "diverging": [
            [
             0,
             "#8e0152"
            ],
            [
             0.1,
             "#c51b7d"
            ],
            [
             0.2,
             "#de77ae"
            ],
            [
             0.3,
             "#f1b6da"
            ],
            [
             0.4,
             "#fde0ef"
            ],
            [
             0.5,
             "#f7f7f7"
            ],
            [
             0.6,
             "#e6f5d0"
            ],
            [
             0.7,
             "#b8e186"
            ],
            [
             0.8,
             "#7fbc41"
            ],
            [
             0.9,
             "#4d9221"
            ],
            [
             1,
             "#276419"
            ]
           ],
           "sequential": [
            [
             0,
             "#0d0887"
            ],
            [
             0.1111111111111111,
             "#46039f"
            ],
            [
             0.2222222222222222,
             "#7201a8"
            ],
            [
             0.3333333333333333,
             "#9c179e"
            ],
            [
             0.4444444444444444,
             "#bd3786"
            ],
            [
             0.5555555555555556,
             "#d8576b"
            ],
            [
             0.6666666666666666,
             "#ed7953"
            ],
            [
             0.7777777777777778,
             "#fb9f3a"
            ],
            [
             0.8888888888888888,
             "#fdca26"
            ],
            [
             1,
             "#f0f921"
            ]
           ],
           "sequentialminus": [
            [
             0,
             "#0d0887"
            ],
            [
             0.1111111111111111,
             "#46039f"
            ],
            [
             0.2222222222222222,
             "#7201a8"
            ],
            [
             0.3333333333333333,
             "#9c179e"
            ],
            [
             0.4444444444444444,
             "#bd3786"
            ],
            [
             0.5555555555555556,
             "#d8576b"
            ],
            [
             0.6666666666666666,
             "#ed7953"
            ],
            [
             0.7777777777777778,
             "#fb9f3a"
            ],
            [
             0.8888888888888888,
             "#fdca26"
            ],
            [
             1,
             "#f0f921"
            ]
           ]
          },
          "colorway": [
           "#636efa",
           "#EF553B",
           "#00cc96",
           "#ab63fa",
           "#FFA15A",
           "#19d3f3",
           "#FF6692",
           "#B6E880",
           "#FF97FF",
           "#FECB52"
          ],
          "font": {
           "color": "#2a3f5f"
          },
          "geo": {
           "bgcolor": "white",
           "lakecolor": "white",
           "landcolor": "#E5ECF6",
           "showlakes": true,
           "showland": true,
           "subunitcolor": "white"
          },
          "hoverlabel": {
           "align": "left"
          },
          "hovermode": "closest",
          "mapbox": {
           "style": "light"
          },
          "paper_bgcolor": "white",
          "plot_bgcolor": "#E5ECF6",
          "polar": {
           "angularaxis": {
            "gridcolor": "white",
            "linecolor": "white",
            "ticks": ""
           },
           "bgcolor": "#E5ECF6",
           "radialaxis": {
            "gridcolor": "white",
            "linecolor": "white",
            "ticks": ""
           }
          },
          "scene": {
           "xaxis": {
            "backgroundcolor": "#E5ECF6",
            "gridcolor": "white",
            "gridwidth": 2,
            "linecolor": "white",
            "showbackground": true,
            "ticks": "",
            "zerolinecolor": "white"
           },
           "yaxis": {
            "backgroundcolor": "#E5ECF6",
            "gridcolor": "white",
            "gridwidth": 2,
            "linecolor": "white",
            "showbackground": true,
            "ticks": "",
            "zerolinecolor": "white"
           },
           "zaxis": {
            "backgroundcolor": "#E5ECF6",
            "gridcolor": "white",
            "gridwidth": 2,
            "linecolor": "white",
            "showbackground": true,
            "ticks": "",
            "zerolinecolor": "white"
           }
          },
          "shapedefaults": {
           "line": {
            "color": "#2a3f5f"
           }
          },
          "ternary": {
           "aaxis": {
            "gridcolor": "white",
            "linecolor": "white",
            "ticks": ""
           },
           "baxis": {
            "gridcolor": "white",
            "linecolor": "white",
            "ticks": ""
           },
           "bgcolor": "#E5ECF6",
           "caxis": {
            "gridcolor": "white",
            "linecolor": "white",
            "ticks": ""
           }
          },
          "title": {
           "x": 0.05
          },
          "xaxis": {
           "automargin": true,
           "gridcolor": "white",
           "linecolor": "white",
           "ticks": "",
           "title": {
            "standoff": 15
           },
           "zerolinecolor": "white",
           "zerolinewidth": 2
          },
          "yaxis": {
           "automargin": true,
           "gridcolor": "white",
           "linecolor": "white",
           "ticks": "",
           "title": {
            "standoff": 15
           },
           "zerolinecolor": "white",
           "zerolinewidth": 2
          }
         }
        },
        "title": {
         "text": "Number of DNA damage+ Glia+ Nuclei by Tissue Location - cellpdia30_sigma4_dilrad4_dnad_obj_seg_v2_gliaero6_gliathr20"
        },
        "xaxis": {
         "anchor": "y",
         "domain": [
          0,
          1
         ],
         "title": {
          "text": "tissue_location"
         }
        },
        "yaxis": {
         "anchor": "x",
         "domain": [
          0,
          1
         ],
         "title": {
          "text": "nr_+_dna_damage_glia_nuclei"
         }
        }
       }
      }
     },
     "metadata": {},
     "output_type": "display_data"
    }
   ],
   "source": [
    "# Create the plot\n",
    "fig = px.scatter(df, x='tissue_location', y='nr_+_dna_damage_glia_nuclei',\n",
    "                 hover_data=['staining_id','index'], title=f\"Number of DNA damage+ Glia+ Nuclei by Tissue Location - {title}\")\n",
    "\n",
    "# Show the plot\n",
    "fig.show()"
   ]
  },
  {
   "cell_type": "code",
   "execution_count": 95,
   "metadata": {},
   "outputs": [
    {
     "data": {
      "application/vnd.plotly.v1+json": {
       "config": {
        "plotlyServerURL": "https://plot.ly"
       },
       "data": [
        {
         "customdata": [
          [
           16
          ],
          [
           16
          ],
          [
           16
          ],
          [
           16
          ],
          [
           16
          ],
          [
           16
          ],
          [
           17
          ],
          [
           17
          ],
          [
           17
          ],
          [
           17
          ],
          [
           17
          ],
          [
           17
          ],
          [
           18
          ],
          [
           18
          ],
          [
           18
          ],
          [
           18
          ],
          [
           18
          ],
          [
           18
          ],
          [
           19
          ],
          [
           19
          ],
          [
           19
          ],
          [
           19
          ],
          [
           19
          ],
          [
           19
          ],
          [
           20
          ],
          [
           20
          ],
          [
           20
          ],
          [
           20
          ],
          [
           20
          ],
          [
           20
          ],
          [
           21
          ],
          [
           21
          ],
          [
           21
          ],
          [
           21
          ],
          [
           21
          ],
          [
           21
          ],
          [
           22
          ],
          [
           22
          ],
          [
           22
          ],
          [
           22
          ],
          [
           22
          ],
          [
           22
          ],
          [
           23
          ],
          [
           23
          ],
          [
           23
          ],
          [
           23
          ],
          [
           23
          ],
          [
           23
          ],
          [
           24
          ],
          [
           24
          ],
          [
           24
          ],
          [
           24
          ],
          [
           24
          ],
          [
           24
          ],
          [
           25
          ],
          [
           25
          ],
          [
           25
          ],
          [
           25
          ],
          [
           25
          ],
          [
           25
          ],
          [
           26
          ],
          [
           26
          ],
          [
           26
          ],
          [
           26
          ],
          [
           26
          ],
          [
           26
          ],
          [
           27
          ],
          [
           28
          ],
          [
           28
          ],
          [
           28
          ],
          [
           28
          ],
          [
           28
          ],
          [
           28
          ],
          [
           29
          ],
          [
           29
          ],
          [
           29
          ],
          [
           29
          ],
          [
           29
          ],
          [
           29
          ],
          [
           30
          ],
          [
           30
          ],
          [
           30
          ],
          [
           30
          ],
          [
           30
          ],
          [
           30
          ],
          [
           31
          ],
          [
           31
          ],
          [
           31
          ],
          [
           31
          ],
          [
           31
          ],
          [
           31
          ],
          [
           32
          ],
          [
           32
          ],
          [
           32
          ],
          [
           32
          ],
          [
           32
          ],
          [
           32
          ],
          [
           33
          ],
          [
           33
          ],
          [
           33
          ],
          [
           33
          ],
          [
           33
          ],
          [
           33
          ],
          [
           34
          ],
          [
           34
          ],
          [
           34
          ],
          [
           34
          ],
          [
           34
          ],
          [
           34
          ],
          [
           35
          ],
          [
           35
          ],
          [
           35
          ],
          [
           35
          ],
          [
           35
          ],
          [
           35
          ],
          [
           36
          ],
          [
           36
          ],
          [
           36
          ],
          [
           36
          ],
          [
           36
          ],
          [
           36
          ],
          [
           37
          ],
          [
           37
          ],
          [
           37
          ],
          [
           37
          ],
          [
           37
          ],
          [
           37
          ],
          [
           38
          ],
          [
           39
          ],
          [
           39
          ],
          [
           39
          ],
          [
           39
          ],
          [
           39
          ],
          [
           39
          ],
          [
           40
          ],
          [
           40
          ],
          [
           40
          ],
          [
           40
          ],
          [
           40
          ],
          [
           40
          ],
          [
           41
          ],
          [
           41
          ],
          [
           41
          ],
          [
           41
          ],
          [
           41
          ],
          [
           41
          ],
          [
           42
          ],
          [
           42
          ],
          [
           42
          ],
          [
           42
          ],
          [
           42
          ],
          [
           42
          ],
          [
           43
          ],
          [
           43
          ],
          [
           43
          ],
          [
           43
          ],
          [
           43
          ],
          [
           43
          ],
          [
           44
          ],
          [
           44
          ],
          [
           44
          ],
          [
           44
          ],
          [
           45
          ],
          [
           45
          ],
          [
           45
          ],
          [
           45
          ],
          [
           45
          ],
          [
           45
          ],
          [
           46
          ],
          [
           46
          ],
          [
           46
          ],
          [
           46
          ],
          [
           46
          ],
          [
           46
          ],
          [
           47
          ],
          [
           47
          ],
          [
           47
          ],
          [
           47
          ],
          [
           47
          ],
          [
           47
          ],
          [
           48
          ],
          [
           48
          ],
          [
           48
          ],
          [
           48
          ],
          [
           48
          ],
          [
           48
          ],
          [
           49
          ],
          [
           49
          ],
          [
           49
          ],
          [
           49
          ],
          [
           49
          ],
          [
           49
          ],
          [
           50
          ],
          [
           50
          ],
          [
           50
          ],
          [
           50
          ],
          [
           50
          ],
          [
           50
          ],
          [
           51
          ],
          [
           51
          ],
          [
           51
          ],
          [
           51
          ],
          [
           51
          ],
          [
           51
          ],
          [
           52
          ],
          [
           52
          ],
          [
           52
          ],
          [
           52
          ],
          [
           52
          ],
          [
           52
          ],
          [
           53
          ],
          [
           53
          ],
          [
           53
          ],
          [
           53
          ],
          [
           53
          ],
          [
           53
          ],
          [
           54
          ],
          [
           54
          ],
          [
           54
          ],
          [
           54
          ],
          [
           54
          ],
          [
           54
          ],
          [
           55
          ],
          [
           55
          ],
          [
           55
          ],
          [
           55
          ],
          [
           55
          ],
          [
           55
          ],
          [
           56
          ],
          [
           56
          ],
          [
           56
          ],
          [
           56
          ],
          [
           56
          ],
          [
           56
          ],
          [
           57
          ],
          [
           57
          ],
          [
           57
          ],
          [
           57
          ],
          [
           57
          ],
          [
           57
          ],
          [
           58
          ],
          [
           58
          ],
          [
           58
          ],
          [
           58
          ],
          [
           58
          ],
          [
           58
          ],
          [
           59
          ],
          [
           59
          ],
          [
           59
          ],
          [
           59
          ],
          [
           59
          ],
          [
           59
          ]
         ],
         "hovertemplate": "tissue_location=%{x}<br>avg_dna_damage_foci/glia_+=%{y}<br>staining_id=%{customdata[0]}<extra></extra>",
         "legendgroup": "",
         "marker": {
          "color": "#636efa",
          "symbol": "circle"
         },
         "mode": "markers",
         "name": "",
         "orientation": "v",
         "showlegend": false,
         "type": "scatter",
         "x": [
          "CA1",
          "CA3",
          "CTX1",
          "CTX2",
          "CTX3",
          "DG",
          "CA1",
          "CA3",
          "CTX1",
          "CTX2",
          "CTX3",
          "DG",
          "CA1",
          "CA3",
          "CTX1",
          "CTX2",
          "CTX3",
          "DG",
          "CA1",
          "CA3",
          "CTX1",
          "CTX2",
          "CTX3",
          "DG",
          "CA1",
          "CA3",
          "CTX1",
          "CTX2",
          "CTX3",
          "DG",
          "CA1",
          "CA3",
          "CTX1",
          "CTX2",
          "CTX3",
          "DG",
          "CA1",
          "CA3",
          "CTX1",
          "CTX2",
          "CTX3",
          "DG",
          "CA1",
          "CA3",
          "CTX1",
          "CTX2",
          "CTX3",
          "DG",
          "CA1",
          "CA3",
          "CTX1",
          "CTX2",
          "CTX3",
          "DG",
          "CA1",
          "CA3",
          "CTX1",
          "CTX2",
          "CTX3",
          "DG",
          "CA1",
          "CA3",
          "CTX1",
          "CTX2",
          "CTX3",
          "DG",
          "DG",
          "CA1",
          "CA3",
          "CTX1",
          "CTX2",
          "CTX3",
          "DG",
          "CA1",
          "CA3",
          "CTX1",
          "CTX2",
          "CTX3",
          "DG",
          "CA1",
          "CA3",
          "CTX1",
          "CTX2",
          "CTX3",
          "DG",
          "CA1",
          "CA3",
          "CTX1",
          "CTX2",
          "CTX3",
          "DG",
          "CA1",
          "CA3",
          "CTX1",
          "CTX2",
          "CTX3",
          "DG",
          "CA1",
          "CA3",
          "CTX1",
          "CTX2",
          "CTX3",
          "DG",
          "CA1",
          "CA3",
          "CTX1",
          "CTX2",
          "CTX3",
          "DG",
          "CA1",
          "CA3",
          "CTX1",
          "CTX2",
          "CTX3",
          "DG",
          "CA1",
          "CA3",
          "CTX1",
          "CTX2",
          "CTX3",
          "DG",
          "CA1",
          "CA3",
          "CTX1",
          "CTX2",
          "CTX3",
          "DG",
          "DG",
          "CA1",
          "CA3",
          "CTX1",
          "CTX2",
          "CTX3",
          "DG",
          "CA1",
          "CA3",
          "CTX1",
          "CTX2",
          "CTX3",
          "DG",
          "CA1",
          "CA3",
          "CTX1",
          "CTX2",
          "CTX3",
          "DG",
          "CA1",
          "CA3",
          "CTX1",
          "CTX2",
          "CTX3",
          "DG",
          "CA1",
          "CA3",
          "CTX1",
          "CTX2",
          "CTX3",
          "DG",
          "CA1",
          "CA3",
          "CTX1",
          "DG",
          "CA1",
          "CA3",
          "CTX1",
          "CTX2",
          "CTX3",
          "DG",
          "CA1",
          "CA3",
          "CTX1",
          "CTX2",
          "CTX3",
          "DG",
          "CA1",
          "CA3",
          "CTX1",
          "CTX2",
          "CTX3",
          "DG",
          "CA1",
          "CA3",
          "CTX1",
          "CTX2",
          "CTX3",
          "DG",
          "CA1",
          "CA3",
          "CTX1",
          "CTX2",
          "CTX3",
          "DG",
          "CA1",
          "CA3",
          "CTX1",
          "CTX2",
          "CTX3",
          "DG",
          "CA1",
          "CA3",
          "CTX1",
          "CTX2",
          "CTX3",
          "DG",
          "CA1",
          "CA3",
          "CTX1",
          "CTX2",
          "CTX3",
          "DG",
          "CA1",
          "CA3",
          "CTX1",
          "CTX2",
          "CTX3",
          "DG",
          "CA1",
          "CA3",
          "CTX1",
          "CTX2",
          "CTX3",
          "DG",
          "CA1",
          "CA3",
          "CTX1",
          "CTX2",
          "CTX3",
          "DG",
          "CA1",
          "CA3",
          "CTX1",
          "CTX2",
          "CTX3",
          "DG",
          "CA1",
          "CA3",
          "CTX1",
          "CTX2",
          "CTX3",
          "DG",
          "CA1",
          "CA3",
          "CTX1",
          "CTX2",
          "CTX3",
          "DG",
          "CA1",
          "CA3",
          "CTX1",
          "CTX2",
          "CTX3",
          "DG"
         ],
         "xaxis": "x",
         "y": [
          0.2922077922077922,
          0.7398843930635838,
          0.0555555555555555,
          0.5019762845849802,
          0.5677966101694916,
          0.3696682464454976,
          0.1818181818181818,
          0.45,
          0.5,
          0.56,
          0.7428571428571429,
          0.3294117647058823,
          1,
          0.9333333333333332,
          0.217391304347826,
          0.4705882352941176,
          0.4375,
          1.847457627118644,
          1.7142857142857142,
          1.660377358490566,
          0.8918918918918919,
          0.6521739130434783,
          0.4027777777777778,
          2.6153846153846154,
          0.5714285714285714,
          1,
          1,
          1.1578947368421053,
          0.3333333333333333,
          0.875,
          1,
          0.5,
          1.3,
          0.9375,
          1.2608695652173914,
          0.6923076923076923,
          0.6666666666666666,
          1,
          1.0909090909090908,
          0.6470588235294118,
          1,
          0.8888888888888888,
          0.2857142857142857,
          1,
          0.3333333333333333,
          0,
          0.8181818181818182,
          0.7272727272727273,
          0,
          0.25,
          0,
          0.3181818181818182,
          0.0555555555555555,
          0.1428571428571428,
          0.875,
          1.1111111111111112,
          0.375,
          0.92,
          0.625,
          1.1666666666666667,
          1,
          1.1666666666666667,
          0.3529411764705882,
          0.4347826086956521,
          0.7741935483870968,
          0.5,
          1,
          0,
          0,
          0.1666666666666666,
          0.7692307692307693,
          0.75,
          1.6153846153846154,
          1.1,
          1,
          0.95,
          1.2173913043478262,
          0.6875,
          1.2,
          0,
          0.25,
          0.5909090909090909,
          0.4,
          0.6428571428571429,
          0.5,
          1.3,
          1,
          0.5,
          0.4666666666666667,
          0.75,
          0.9166666666666666,
          0.3125,
          1,
          0.4864864864864865,
          0.8979591836734694,
          0.7575757575757576,
          0.78,
          1,
          0.7777777777777778,
          0.6,
          1.0769230769230769,
          0.5,
          0.3333333333333333,
          1,
          1.3333333333333333,
          1.0714285714285714,
          0.675,
          1.1923076923076923,
          0.782608695652174,
          0.7777777777777778,
          0.88,
          0.5909090909090909,
          0.7751937984496124,
          0.8461538461538461,
          0.9175257731958762,
          0.9166666666666666,
          0.75,
          1.1176470588235294,
          1.3666666666666667,
          1.5454545454545454,
          1.4,
          0.4285714285714285,
          0.0909090909090909,
          0.7777777777777778,
          0.5806451612903226,
          0.75,
          0,
          0.5,
          1,
          0.6,
          0,
          0.1428571428571428,
          0.75,
          1.125,
          0.5,
          0.625,
          0.8695652173913043,
          0.7272727272727273,
          1.1904761904761905,
          1.6,
          0.5,
          0,
          null,
          0,
          0.4,
          1,
          1.6666666666666667,
          0.8333333333333334,
          0.1111111111111111,
          0.6,
          1.1,
          0.5,
          0.3333333333333333,
          0.6,
          1.08,
          0.4782608695652174,
          0.6428571428571429,
          1.809523809523809,
          1.3461538461538465,
          1.95,
          1.8846153846153848,
          1.2567567567567568,
          1.2142857142857142,
          0.8333333333333334,
          0.3125,
          0.72,
          0.3684210526315789,
          2.6923076923076925,
          1.1282051282051282,
          0.8048780487804879,
          0.6477272727272727,
          0.3801652892561983,
          0.647887323943662,
          0.5076923076923077,
          0.4444444444444444,
          0.8235294117647058,
          0.1612903225806451,
          0.4871794871794871,
          0.7027027027027027,
          0.625,
          1.2857142857142858,
          1.25,
          0.6857142857142857,
          0.7272727272727273,
          0.75,
          0.8666666666666667,
          0.5882352941176471,
          0.15,
          0.4761904761904761,
          0.2727272727272727,
          0.3125,
          0.3157894736842105,
          0,
          0,
          0,
          0.0666666666666666,
          0.3548387096774194,
          0.4166666666666667,
          0.5333333333333333,
          0.8,
          0.3125,
          0.2222222222222222,
          0.2692307692307692,
          0.5882352941176471,
          0.4285714285714285,
          0.6666666666666666,
          0.04,
          0.46875,
          0.3703703703703703,
          0.3076923076923077,
          0.625,
          1.25,
          0.6875,
          0.8125,
          0.625,
          0.8333333333333334,
          1.2,
          1.3333333333333333,
          0.3571428571428571,
          0.7692307692307693,
          0.8571428571428571,
          0.7142857142857143,
          0.25,
          0.6666666666666666,
          0.1111111111111111,
          0.3,
          0,
          0.625,
          0.6923076923076923,
          0.1333333333333333,
          0.6363636363636364,
          0.5,
          0.21875,
          0.9375,
          0.4615384615384615,
          0.6666666666666666,
          0.7692307692307693,
          0.4166666666666667,
          0.3571428571428571,
          0.5666666666666667,
          1,
          0.5,
          0.8888888888888888,
          0.8888888888888888,
          0.5,
          0.3333333333333333,
          1.1666666666666667,
          0.6,
          0.4,
          0.44,
          0.5833333333333334,
          0.8571428571428571
         ],
         "yaxis": "y"
        }
       ],
       "layout": {
        "legend": {
         "tracegroupgap": 0
        },
        "template": {
         "data": {
          "bar": [
           {
            "error_x": {
             "color": "#2a3f5f"
            },
            "error_y": {
             "color": "#2a3f5f"
            },
            "marker": {
             "line": {
              "color": "#E5ECF6",
              "width": 0.5
             },
             "pattern": {
              "fillmode": "overlay",
              "size": 10,
              "solidity": 0.2
             }
            },
            "type": "bar"
           }
          ],
          "barpolar": [
           {
            "marker": {
             "line": {
              "color": "#E5ECF6",
              "width": 0.5
             },
             "pattern": {
              "fillmode": "overlay",
              "size": 10,
              "solidity": 0.2
             }
            },
            "type": "barpolar"
           }
          ],
          "carpet": [
           {
            "aaxis": {
             "endlinecolor": "#2a3f5f",
             "gridcolor": "white",
             "linecolor": "white",
             "minorgridcolor": "white",
             "startlinecolor": "#2a3f5f"
            },
            "baxis": {
             "endlinecolor": "#2a3f5f",
             "gridcolor": "white",
             "linecolor": "white",
             "minorgridcolor": "white",
             "startlinecolor": "#2a3f5f"
            },
            "type": "carpet"
           }
          ],
          "choropleth": [
           {
            "colorbar": {
             "outlinewidth": 0,
             "ticks": ""
            },
            "type": "choropleth"
           }
          ],
          "contour": [
           {
            "colorbar": {
             "outlinewidth": 0,
             "ticks": ""
            },
            "colorscale": [
             [
              0,
              "#0d0887"
             ],
             [
              0.1111111111111111,
              "#46039f"
             ],
             [
              0.2222222222222222,
              "#7201a8"
             ],
             [
              0.3333333333333333,
              "#9c179e"
             ],
             [
              0.4444444444444444,
              "#bd3786"
             ],
             [
              0.5555555555555556,
              "#d8576b"
             ],
             [
              0.6666666666666666,
              "#ed7953"
             ],
             [
              0.7777777777777778,
              "#fb9f3a"
             ],
             [
              0.8888888888888888,
              "#fdca26"
             ],
             [
              1,
              "#f0f921"
             ]
            ],
            "type": "contour"
           }
          ],
          "contourcarpet": [
           {
            "colorbar": {
             "outlinewidth": 0,
             "ticks": ""
            },
            "type": "contourcarpet"
           }
          ],
          "heatmap": [
           {
            "colorbar": {
             "outlinewidth": 0,
             "ticks": ""
            },
            "colorscale": [
             [
              0,
              "#0d0887"
             ],
             [
              0.1111111111111111,
              "#46039f"
             ],
             [
              0.2222222222222222,
              "#7201a8"
             ],
             [
              0.3333333333333333,
              "#9c179e"
             ],
             [
              0.4444444444444444,
              "#bd3786"
             ],
             [
              0.5555555555555556,
              "#d8576b"
             ],
             [
              0.6666666666666666,
              "#ed7953"
             ],
             [
              0.7777777777777778,
              "#fb9f3a"
             ],
             [
              0.8888888888888888,
              "#fdca26"
             ],
             [
              1,
              "#f0f921"
             ]
            ],
            "type": "heatmap"
           }
          ],
          "heatmapgl": [
           {
            "colorbar": {
             "outlinewidth": 0,
             "ticks": ""
            },
            "colorscale": [
             [
              0,
              "#0d0887"
             ],
             [
              0.1111111111111111,
              "#46039f"
             ],
             [
              0.2222222222222222,
              "#7201a8"
             ],
             [
              0.3333333333333333,
              "#9c179e"
             ],
             [
              0.4444444444444444,
              "#bd3786"
             ],
             [
              0.5555555555555556,
              "#d8576b"
             ],
             [
              0.6666666666666666,
              "#ed7953"
             ],
             [
              0.7777777777777778,
              "#fb9f3a"
             ],
             [
              0.8888888888888888,
              "#fdca26"
             ],
             [
              1,
              "#f0f921"
             ]
            ],
            "type": "heatmapgl"
           }
          ],
          "histogram": [
           {
            "marker": {
             "pattern": {
              "fillmode": "overlay",
              "size": 10,
              "solidity": 0.2
             }
            },
            "type": "histogram"
           }
          ],
          "histogram2d": [
           {
            "colorbar": {
             "outlinewidth": 0,
             "ticks": ""
            },
            "colorscale": [
             [
              0,
              "#0d0887"
             ],
             [
              0.1111111111111111,
              "#46039f"
             ],
             [
              0.2222222222222222,
              "#7201a8"
             ],
             [
              0.3333333333333333,
              "#9c179e"
             ],
             [
              0.4444444444444444,
              "#bd3786"
             ],
             [
              0.5555555555555556,
              "#d8576b"
             ],
             [
              0.6666666666666666,
              "#ed7953"
             ],
             [
              0.7777777777777778,
              "#fb9f3a"
             ],
             [
              0.8888888888888888,
              "#fdca26"
             ],
             [
              1,
              "#f0f921"
             ]
            ],
            "type": "histogram2d"
           }
          ],
          "histogram2dcontour": [
           {
            "colorbar": {
             "outlinewidth": 0,
             "ticks": ""
            },
            "colorscale": [
             [
              0,
              "#0d0887"
             ],
             [
              0.1111111111111111,
              "#46039f"
             ],
             [
              0.2222222222222222,
              "#7201a8"
             ],
             [
              0.3333333333333333,
              "#9c179e"
             ],
             [
              0.4444444444444444,
              "#bd3786"
             ],
             [
              0.5555555555555556,
              "#d8576b"
             ],
             [
              0.6666666666666666,
              "#ed7953"
             ],
             [
              0.7777777777777778,
              "#fb9f3a"
             ],
             [
              0.8888888888888888,
              "#fdca26"
             ],
             [
              1,
              "#f0f921"
             ]
            ],
            "type": "histogram2dcontour"
           }
          ],
          "mesh3d": [
           {
            "colorbar": {
             "outlinewidth": 0,
             "ticks": ""
            },
            "type": "mesh3d"
           }
          ],
          "parcoords": [
           {
            "line": {
             "colorbar": {
              "outlinewidth": 0,
              "ticks": ""
             }
            },
            "type": "parcoords"
           }
          ],
          "pie": [
           {
            "automargin": true,
            "type": "pie"
           }
          ],
          "scatter": [
           {
            "fillpattern": {
             "fillmode": "overlay",
             "size": 10,
             "solidity": 0.2
            },
            "type": "scatter"
           }
          ],
          "scatter3d": [
           {
            "line": {
             "colorbar": {
              "outlinewidth": 0,
              "ticks": ""
             }
            },
            "marker": {
             "colorbar": {
              "outlinewidth": 0,
              "ticks": ""
             }
            },
            "type": "scatter3d"
           }
          ],
          "scattercarpet": [
           {
            "marker": {
             "colorbar": {
              "outlinewidth": 0,
              "ticks": ""
             }
            },
            "type": "scattercarpet"
           }
          ],
          "scattergeo": [
           {
            "marker": {
             "colorbar": {
              "outlinewidth": 0,
              "ticks": ""
             }
            },
            "type": "scattergeo"
           }
          ],
          "scattergl": [
           {
            "marker": {
             "colorbar": {
              "outlinewidth": 0,
              "ticks": ""
             }
            },
            "type": "scattergl"
           }
          ],
          "scattermapbox": [
           {
            "marker": {
             "colorbar": {
              "outlinewidth": 0,
              "ticks": ""
             }
            },
            "type": "scattermapbox"
           }
          ],
          "scatterpolar": [
           {
            "marker": {
             "colorbar": {
              "outlinewidth": 0,
              "ticks": ""
             }
            },
            "type": "scatterpolar"
           }
          ],
          "scatterpolargl": [
           {
            "marker": {
             "colorbar": {
              "outlinewidth": 0,
              "ticks": ""
             }
            },
            "type": "scatterpolargl"
           }
          ],
          "scatterternary": [
           {
            "marker": {
             "colorbar": {
              "outlinewidth": 0,
              "ticks": ""
             }
            },
            "type": "scatterternary"
           }
          ],
          "surface": [
           {
            "colorbar": {
             "outlinewidth": 0,
             "ticks": ""
            },
            "colorscale": [
             [
              0,
              "#0d0887"
             ],
             [
              0.1111111111111111,
              "#46039f"
             ],
             [
              0.2222222222222222,
              "#7201a8"
             ],
             [
              0.3333333333333333,
              "#9c179e"
             ],
             [
              0.4444444444444444,
              "#bd3786"
             ],
             [
              0.5555555555555556,
              "#d8576b"
             ],
             [
              0.6666666666666666,
              "#ed7953"
             ],
             [
              0.7777777777777778,
              "#fb9f3a"
             ],
             [
              0.8888888888888888,
              "#fdca26"
             ],
             [
              1,
              "#f0f921"
             ]
            ],
            "type": "surface"
           }
          ],
          "table": [
           {
            "cells": {
             "fill": {
              "color": "#EBF0F8"
             },
             "line": {
              "color": "white"
             }
            },
            "header": {
             "fill": {
              "color": "#C8D4E3"
             },
             "line": {
              "color": "white"
             }
            },
            "type": "table"
           }
          ]
         },
         "layout": {
          "annotationdefaults": {
           "arrowcolor": "#2a3f5f",
           "arrowhead": 0,
           "arrowwidth": 1
          },
          "autotypenumbers": "strict",
          "coloraxis": {
           "colorbar": {
            "outlinewidth": 0,
            "ticks": ""
           }
          },
          "colorscale": {
           "diverging": [
            [
             0,
             "#8e0152"
            ],
            [
             0.1,
             "#c51b7d"
            ],
            [
             0.2,
             "#de77ae"
            ],
            [
             0.3,
             "#f1b6da"
            ],
            [
             0.4,
             "#fde0ef"
            ],
            [
             0.5,
             "#f7f7f7"
            ],
            [
             0.6,
             "#e6f5d0"
            ],
            [
             0.7,
             "#b8e186"
            ],
            [
             0.8,
             "#7fbc41"
            ],
            [
             0.9,
             "#4d9221"
            ],
            [
             1,
             "#276419"
            ]
           ],
           "sequential": [
            [
             0,
             "#0d0887"
            ],
            [
             0.1111111111111111,
             "#46039f"
            ],
            [
             0.2222222222222222,
             "#7201a8"
            ],
            [
             0.3333333333333333,
             "#9c179e"
            ],
            [
             0.4444444444444444,
             "#bd3786"
            ],
            [
             0.5555555555555556,
             "#d8576b"
            ],
            [
             0.6666666666666666,
             "#ed7953"
            ],
            [
             0.7777777777777778,
             "#fb9f3a"
            ],
            [
             0.8888888888888888,
             "#fdca26"
            ],
            [
             1,
             "#f0f921"
            ]
           ],
           "sequentialminus": [
            [
             0,
             "#0d0887"
            ],
            [
             0.1111111111111111,
             "#46039f"
            ],
            [
             0.2222222222222222,
             "#7201a8"
            ],
            [
             0.3333333333333333,
             "#9c179e"
            ],
            [
             0.4444444444444444,
             "#bd3786"
            ],
            [
             0.5555555555555556,
             "#d8576b"
            ],
            [
             0.6666666666666666,
             "#ed7953"
            ],
            [
             0.7777777777777778,
             "#fb9f3a"
            ],
            [
             0.8888888888888888,
             "#fdca26"
            ],
            [
             1,
             "#f0f921"
            ]
           ]
          },
          "colorway": [
           "#636efa",
           "#EF553B",
           "#00cc96",
           "#ab63fa",
           "#FFA15A",
           "#19d3f3",
           "#FF6692",
           "#B6E880",
           "#FF97FF",
           "#FECB52"
          ],
          "font": {
           "color": "#2a3f5f"
          },
          "geo": {
           "bgcolor": "white",
           "lakecolor": "white",
           "landcolor": "#E5ECF6",
           "showlakes": true,
           "showland": true,
           "subunitcolor": "white"
          },
          "hoverlabel": {
           "align": "left"
          },
          "hovermode": "closest",
          "mapbox": {
           "style": "light"
          },
          "paper_bgcolor": "white",
          "plot_bgcolor": "#E5ECF6",
          "polar": {
           "angularaxis": {
            "gridcolor": "white",
            "linecolor": "white",
            "ticks": ""
           },
           "bgcolor": "#E5ECF6",
           "radialaxis": {
            "gridcolor": "white",
            "linecolor": "white",
            "ticks": ""
           }
          },
          "scene": {
           "xaxis": {
            "backgroundcolor": "#E5ECF6",
            "gridcolor": "white",
            "gridwidth": 2,
            "linecolor": "white",
            "showbackground": true,
            "ticks": "",
            "zerolinecolor": "white"
           },
           "yaxis": {
            "backgroundcolor": "#E5ECF6",
            "gridcolor": "white",
            "gridwidth": 2,
            "linecolor": "white",
            "showbackground": true,
            "ticks": "",
            "zerolinecolor": "white"
           },
           "zaxis": {
            "backgroundcolor": "#E5ECF6",
            "gridcolor": "white",
            "gridwidth": 2,
            "linecolor": "white",
            "showbackground": true,
            "ticks": "",
            "zerolinecolor": "white"
           }
          },
          "shapedefaults": {
           "line": {
            "color": "#2a3f5f"
           }
          },
          "ternary": {
           "aaxis": {
            "gridcolor": "white",
            "linecolor": "white",
            "ticks": ""
           },
           "baxis": {
            "gridcolor": "white",
            "linecolor": "white",
            "ticks": ""
           },
           "bgcolor": "#E5ECF6",
           "caxis": {
            "gridcolor": "white",
            "linecolor": "white",
            "ticks": ""
           }
          },
          "title": {
           "x": 0.05
          },
          "xaxis": {
           "automargin": true,
           "gridcolor": "white",
           "linecolor": "white",
           "ticks": "",
           "title": {
            "standoff": 15
           },
           "zerolinecolor": "white",
           "zerolinewidth": 2
          },
          "yaxis": {
           "automargin": true,
           "gridcolor": "white",
           "linecolor": "white",
           "ticks": "",
           "title": {
            "standoff": 15
           },
           "zerolinecolor": "white",
           "zerolinewidth": 2
          }
         }
        },
        "title": {
         "text": "Average DNA damage foci in Glia Nuclei by Tissue Location - cellpdia30_sigma4_dilrad4_dnad_obj_seg_v2_gliaero6_gliathr20"
        },
        "xaxis": {
         "anchor": "y",
         "domain": [
          0,
          1
         ],
         "title": {
          "text": "tissue_location"
         }
        },
        "yaxis": {
         "anchor": "x",
         "domain": [
          0,
          1
         ],
         "title": {
          "text": "avg_dna_damage_foci/glia_+"
         }
        }
       }
      }
     },
     "metadata": {},
     "output_type": "display_data"
    }
   ],
   "source": [
    "# Create the plot\n",
    "fig = px.scatter(df, x='tissue_location', y='avg_dna_damage_foci/glia_+',\n",
    "                 hover_data=['staining_id'], title=f\"Average DNA damage foci in Glia Nuclei by Tissue Location - {title}\")\n",
    "\n",
    "# Show the plot\n",
    "fig.show()"
   ]
  },
  {
   "cell_type": "code",
   "execution_count": 96,
   "metadata": {},
   "outputs": [
    {
     "data": {
      "application/vnd.plotly.v1+json": {
       "config": {
        "plotlyServerURL": "https://plot.ly"
       },
       "data": [
        {
         "customdata": [
          [
           16
          ],
          [
           16
          ],
          [
           16
          ],
          [
           16
          ],
          [
           16
          ],
          [
           16
          ],
          [
           17
          ],
          [
           17
          ],
          [
           17
          ],
          [
           17
          ],
          [
           17
          ],
          [
           17
          ],
          [
           18
          ],
          [
           18
          ],
          [
           18
          ],
          [
           18
          ],
          [
           18
          ],
          [
           18
          ],
          [
           19
          ],
          [
           19
          ],
          [
           19
          ],
          [
           19
          ],
          [
           19
          ],
          [
           19
          ],
          [
           20
          ],
          [
           20
          ],
          [
           20
          ],
          [
           20
          ],
          [
           20
          ],
          [
           20
          ],
          [
           21
          ],
          [
           21
          ],
          [
           21
          ],
          [
           21
          ],
          [
           21
          ],
          [
           21
          ],
          [
           22
          ],
          [
           22
          ],
          [
           22
          ],
          [
           22
          ],
          [
           22
          ],
          [
           22
          ],
          [
           23
          ],
          [
           23
          ],
          [
           23
          ],
          [
           23
          ],
          [
           23
          ],
          [
           23
          ],
          [
           24
          ],
          [
           24
          ],
          [
           24
          ],
          [
           24
          ],
          [
           24
          ],
          [
           24
          ],
          [
           25
          ],
          [
           25
          ],
          [
           25
          ],
          [
           25
          ],
          [
           25
          ],
          [
           25
          ],
          [
           26
          ],
          [
           26
          ],
          [
           26
          ],
          [
           26
          ],
          [
           26
          ],
          [
           26
          ],
          [
           27
          ],
          [
           28
          ],
          [
           28
          ],
          [
           28
          ],
          [
           28
          ],
          [
           28
          ],
          [
           28
          ],
          [
           29
          ],
          [
           29
          ],
          [
           29
          ],
          [
           29
          ],
          [
           29
          ],
          [
           29
          ],
          [
           30
          ],
          [
           30
          ],
          [
           30
          ],
          [
           30
          ],
          [
           30
          ],
          [
           30
          ],
          [
           31
          ],
          [
           31
          ],
          [
           31
          ],
          [
           31
          ],
          [
           31
          ],
          [
           31
          ],
          [
           32
          ],
          [
           32
          ],
          [
           32
          ],
          [
           32
          ],
          [
           32
          ],
          [
           32
          ],
          [
           33
          ],
          [
           33
          ],
          [
           33
          ],
          [
           33
          ],
          [
           33
          ],
          [
           33
          ],
          [
           34
          ],
          [
           34
          ],
          [
           34
          ],
          [
           34
          ],
          [
           34
          ],
          [
           34
          ],
          [
           35
          ],
          [
           35
          ],
          [
           35
          ],
          [
           35
          ],
          [
           35
          ],
          [
           35
          ],
          [
           36
          ],
          [
           36
          ],
          [
           36
          ],
          [
           36
          ],
          [
           36
          ],
          [
           36
          ],
          [
           37
          ],
          [
           37
          ],
          [
           37
          ],
          [
           37
          ],
          [
           37
          ],
          [
           37
          ],
          [
           38
          ],
          [
           39
          ],
          [
           39
          ],
          [
           39
          ],
          [
           39
          ],
          [
           39
          ],
          [
           39
          ],
          [
           40
          ],
          [
           40
          ],
          [
           40
          ],
          [
           40
          ],
          [
           40
          ],
          [
           40
          ],
          [
           41
          ],
          [
           41
          ],
          [
           41
          ],
          [
           41
          ],
          [
           41
          ],
          [
           41
          ],
          [
           42
          ],
          [
           42
          ],
          [
           42
          ],
          [
           42
          ],
          [
           42
          ],
          [
           42
          ],
          [
           43
          ],
          [
           43
          ],
          [
           43
          ],
          [
           43
          ],
          [
           43
          ],
          [
           43
          ],
          [
           44
          ],
          [
           44
          ],
          [
           44
          ],
          [
           44
          ],
          [
           45
          ],
          [
           45
          ],
          [
           45
          ],
          [
           45
          ],
          [
           45
          ],
          [
           45
          ],
          [
           46
          ],
          [
           46
          ],
          [
           46
          ],
          [
           46
          ],
          [
           46
          ],
          [
           46
          ],
          [
           47
          ],
          [
           47
          ],
          [
           47
          ],
          [
           47
          ],
          [
           47
          ],
          [
           47
          ],
          [
           48
          ],
          [
           48
          ],
          [
           48
          ],
          [
           48
          ],
          [
           48
          ],
          [
           48
          ],
          [
           49
          ],
          [
           49
          ],
          [
           49
          ],
          [
           49
          ],
          [
           49
          ],
          [
           49
          ],
          [
           50
          ],
          [
           50
          ],
          [
           50
          ],
          [
           50
          ],
          [
           50
          ],
          [
           50
          ],
          [
           51
          ],
          [
           51
          ],
          [
           51
          ],
          [
           51
          ],
          [
           51
          ],
          [
           51
          ],
          [
           52
          ],
          [
           52
          ],
          [
           52
          ],
          [
           52
          ],
          [
           52
          ],
          [
           52
          ],
          [
           53
          ],
          [
           53
          ],
          [
           53
          ],
          [
           53
          ],
          [
           53
          ],
          [
           53
          ],
          [
           54
          ],
          [
           54
          ],
          [
           54
          ],
          [
           54
          ],
          [
           54
          ],
          [
           54
          ],
          [
           55
          ],
          [
           55
          ],
          [
           55
          ],
          [
           55
          ],
          [
           55
          ],
          [
           55
          ],
          [
           56
          ],
          [
           56
          ],
          [
           56
          ],
          [
           56
          ],
          [
           56
          ],
          [
           56
          ],
          [
           57
          ],
          [
           57
          ],
          [
           57
          ],
          [
           57
          ],
          [
           57
          ],
          [
           57
          ],
          [
           58
          ],
          [
           58
          ],
          [
           58
          ],
          [
           58
          ],
          [
           58
          ],
          [
           58
          ],
          [
           59
          ],
          [
           59
          ],
          [
           59
          ],
          [
           59
          ],
          [
           59
          ],
          [
           59
          ]
         ],
         "hovertemplate": "tissue_location=%{x}<br>avg_dna_damage_foci/all_nuclei=%{y}<br>staining_id=%{customdata[0]}<extra></extra>",
         "legendgroup": "",
         "marker": {
          "color": "#636efa",
          "symbol": "circle"
         },
         "mode": "markers",
         "name": "",
         "orientation": "v",
         "showlegend": false,
         "type": "scatter",
         "x": [
          "CA1",
          "CA3",
          "CTX1",
          "CTX2",
          "CTX3",
          "DG",
          "CA1",
          "CA3",
          "CTX1",
          "CTX2",
          "CTX3",
          "DG",
          "CA1",
          "CA3",
          "CTX1",
          "CTX2",
          "CTX3",
          "DG",
          "CA1",
          "CA3",
          "CTX1",
          "CTX2",
          "CTX3",
          "DG",
          "CA1",
          "CA3",
          "CTX1",
          "CTX2",
          "CTX3",
          "DG",
          "CA1",
          "CA3",
          "CTX1",
          "CTX2",
          "CTX3",
          "DG",
          "CA1",
          "CA3",
          "CTX1",
          "CTX2",
          "CTX3",
          "DG",
          "CA1",
          "CA3",
          "CTX1",
          "CTX2",
          "CTX3",
          "DG",
          "CA1",
          "CA3",
          "CTX1",
          "CTX2",
          "CTX3",
          "DG",
          "CA1",
          "CA3",
          "CTX1",
          "CTX2",
          "CTX3",
          "DG",
          "CA1",
          "CA3",
          "CTX1",
          "CTX2",
          "CTX3",
          "DG",
          "DG",
          "CA1",
          "CA3",
          "CTX1",
          "CTX2",
          "CTX3",
          "DG",
          "CA1",
          "CA3",
          "CTX1",
          "CTX2",
          "CTX3",
          "DG",
          "CA1",
          "CA3",
          "CTX1",
          "CTX2",
          "CTX3",
          "DG",
          "CA1",
          "CA3",
          "CTX1",
          "CTX2",
          "CTX3",
          "DG",
          "CA1",
          "CA3",
          "CTX1",
          "CTX2",
          "CTX3",
          "DG",
          "CA1",
          "CA3",
          "CTX1",
          "CTX2",
          "CTX3",
          "DG",
          "CA1",
          "CA3",
          "CTX1",
          "CTX2",
          "CTX3",
          "DG",
          "CA1",
          "CA3",
          "CTX1",
          "CTX2",
          "CTX3",
          "DG",
          "CA1",
          "CA3",
          "CTX1",
          "CTX2",
          "CTX3",
          "DG",
          "CA1",
          "CA3",
          "CTX1",
          "CTX2",
          "CTX3",
          "DG",
          "DG",
          "CA1",
          "CA3",
          "CTX1",
          "CTX2",
          "CTX3",
          "DG",
          "CA1",
          "CA3",
          "CTX1",
          "CTX2",
          "CTX3",
          "DG",
          "CA1",
          "CA3",
          "CTX1",
          "CTX2",
          "CTX3",
          "DG",
          "CA1",
          "CA3",
          "CTX1",
          "CTX2",
          "CTX3",
          "DG",
          "CA1",
          "CA3",
          "CTX1",
          "CTX2",
          "CTX3",
          "DG",
          "CA1",
          "CA3",
          "CTX1",
          "DG",
          "CA1",
          "CA3",
          "CTX1",
          "CTX2",
          "CTX3",
          "DG",
          "CA1",
          "CA3",
          "CTX1",
          "CTX2",
          "CTX3",
          "DG",
          "CA1",
          "CA3",
          "CTX1",
          "CTX2",
          "CTX3",
          "DG",
          "CA1",
          "CA3",
          "CTX1",
          "CTX2",
          "CTX3",
          "DG",
          "CA1",
          "CA3",
          "CTX1",
          "CTX2",
          "CTX3",
          "DG",
          "CA1",
          "CA3",
          "CTX1",
          "CTX2",
          "CTX3",
          "DG",
          "CA1",
          "CA3",
          "CTX1",
          "CTX2",
          "CTX3",
          "DG",
          "CA1",
          "CA3",
          "CTX1",
          "CTX2",
          "CTX3",
          "DG",
          "CA1",
          "CA3",
          "CTX1",
          "CTX2",
          "CTX3",
          "DG",
          "CA1",
          "CA3",
          "CTX1",
          "CTX2",
          "CTX3",
          "DG",
          "CA1",
          "CA3",
          "CTX1",
          "CTX2",
          "CTX3",
          "DG",
          "CA1",
          "CA3",
          "CTX1",
          "CTX2",
          "CTX3",
          "DG",
          "CA1",
          "CA3",
          "CTX1",
          "CTX2",
          "CTX3",
          "DG",
          "CA1",
          "CA3",
          "CTX1",
          "CTX2",
          "CTX3",
          "DG",
          "CA1",
          "CA3",
          "CTX1",
          "CTX2",
          "CTX3",
          "DG"
         ],
         "xaxis": "x",
         "y": [
          0.3333333333333333,
          0.7857142857142857,
          0.1835205992509363,
          0.4907749077490775,
          0.5650406504065041,
          0.3777777777777777,
          0.3526011560693641,
          0.6033519553072626,
          0.2808988764044944,
          0.3322784810126582,
          0.8944444444444445,
          0.4076923076923077,
          0.8090909090909091,
          0.7766990291262136,
          0.1061224489795918,
          0.1629629629629629,
          0.1886792452830188,
          1.5070422535211268,
          1.9,
          1.7222222222222223,
          0.9866666666666668,
          0.6229508196721312,
          0.4352941176470588,
          2.8846153846153846,
          0.6,
          0.8760330578512396,
          0.4095238095238095,
          0.7840909090909091,
          0.4126984126984127,
          1.1631944444444444,
          0.7608695652173914,
          0.7107438016528925,
          0.5891089108910891,
          0.5992217898832685,
          0.6195121951219512,
          0.9487179487179488,
          0.7515923566878981,
          0.8695652173913043,
          0.7549407114624506,
          0.6192170818505338,
          0.2906976744186046,
          1.240625,
          0.562962962962963,
          0.5688073394495413,
          0.3096446700507614,
          0.0710659898477157,
          0.581081081081081,
          0.9136690647482014,
          0.348314606741573,
          0.3931034482758621,
          0.1391304347826087,
          0.1605351170568562,
          0.175438596491228,
          0.087431693989071,
          0.7716049382716049,
          0.785234899328859,
          0.4176470588235294,
          0.7029702970297029,
          0.8539823008849557,
          1.4242424242424243,
          0.4470588235294118,
          0.45,
          0.4782608695652174,
          0.3273809523809524,
          0.5579710144927537,
          0.3548387096774194,
          0.9797979797979798,
          0.7142857142857143,
          0.4096385542168674,
          0.3255813953488372,
          0.4700854700854701,
          0.788135593220339,
          1.6771653543307086,
          0.5878378378378378,
          0.5234375,
          0.4953271028037383,
          0.8125,
          0.4450261780104712,
          0.8356164383561644,
          0.4740740740740741,
          0.6982758620689655,
          0.3442622950819672,
          0.3962264150943396,
          0.2608695652173913,
          0.7785467128027682,
          0.7245508982035929,
          0.8195121951219512,
          0.3318181818181818,
          0.4384615384615384,
          0.625,
          1.1833333333333331,
          0.6303030303030303,
          1.1696428571428572,
          0.5758620689655173,
          0.7142857142857143,
          0.8505154639175257,
          0.4935622317596566,
          0.6308724832214765,
          0.8263157894736842,
          0.5458333333333333,
          0.7534883720930232,
          0.5595238095238095,
          1.138047138047138,
          0.9548872180451128,
          1.3929961089494165,
          0.7763157894736842,
          0.9310344827586208,
          1.0611353711790392,
          1.3313253012048192,
          0.2099447513812154,
          0.7231638418079096,
          0.2556390977443609,
          0.6167883211678832,
          0.698019801980198,
          0.8734177215189873,
          0.6030150753768844,
          0.5774647887323944,
          0.9079497907949792,
          0.8825910931174089,
          0.832579185520362,
          1.128526645768025,
          0.4526315789473684,
          0.5950920245398773,
          0.4911660777385159,
          0.6518987341772152,
          0.6893203883495146,
          0.7477064220183486,
          0.4705882352941176,
          0.4933333333333333,
          0.5967741935483871,
          0.2901554404145077,
          0.2813852813852814,
          0.2012195121951219,
          0.5925925925925926,
          0.3289473684210526,
          0.5824175824175825,
          0.5397727272727273,
          0.4682080924855491,
          0.5303030303030303,
          0.9487951807228916,
          0.4876847290640394,
          0.3666666666666666,
          0.0760233918128654,
          0.1057692307692307,
          0.1225806451612903,
          0.9324324324324323,
          0.3450292397660818,
          0.5864661654135338,
          0.3409090909090909,
          0.425531914893617,
          0.5543478260869565,
          0.5679442508710801,
          0.304054054054054,
          1.065326633165829,
          0.7025862068965517,
          0.354066985645933,
          0.5954545454545455,
          1.6163793103448276,
          1.197674418604651,
          1.4923076923076923,
          1.8365758754863808,
          1.2814814814814814,
          1.0069444444444444,
          0.7961783439490446,
          0.3008849557522124,
          0.3272727272727272,
          0.2938388625592417,
          1.5,
          0.9485294117647058,
          0.9612403100775194,
          0.7142857142857143,
          0.3396825396825397,
          0.6007462686567164,
          0.514018691588785,
          0.5310734463276836,
          1.036144578313253,
          0.1551724137931034,
          0.4592833876221498,
          0.6092436974789915,
          1.06993006993007,
          0.8333333333333334,
          0.4907407407407407,
          0.5127118644067796,
          0.5886792452830188,
          0.5523012552301255,
          1.3101265822784811,
          0.2684563758389262,
          0.1485714285714285,
          0.2717948717948718,
          0.2358078602620087,
          0.2371794871794871,
          0.4368932038834951,
          0.1343283582089552,
          0.4308943089430894,
          0.0199203187250996,
          0.1255230125523012,
          0.6,
          0.2892857142857143,
          0.362962962962963,
          0.7565217391304347,
          0.2307692307692307,
          0.189873417721519,
          0.3419689119170984,
          0.8321167883211679,
          0.3358778625954198,
          0.5046728971962616,
          0.1605839416058394,
          0.2831858407079646,
          0.3888888888888889,
          0.4144486692015209,
          0.6536312849162011,
          1.023041474654378,
          0.6666666666666666,
          0.7142857142857143,
          0.6481481481481481,
          1.255813953488372,
          0.4437086092715231,
          0.8481012658227848,
          0.4324324324324324,
          0.4855769230769231,
          0.5873015873015873,
          0.9796610169491524,
          0.3533333333333333,
          0.52,
          0.0534351145038167,
          0.6282051282051282,
          0.1505376344086021,
          0.7435064935064936,
          0.3905325443786982,
          0.4154929577464789,
          0.4042553191489361,
          0.292,
          0.275,
          0.6119402985074627,
          0.2692307692307692,
          0.7417582417582418,
          0.174074074074074,
          0.1714285714285714,
          0.0853080568720379,
          0.4239130434782608,
          0.5317460317460317,
          0.6610169491525424,
          0.4527027027027027,
          0.6142857142857143,
          0.4693877551020408,
          0.6379310344827587,
          0.4948453608247423,
          0.2868217054263566,
          0.4914529914529914,
          0.3117647058823529,
          0.3433734939759036,
          0.8664772727272727
         ],
         "yaxis": "y"
        }
       ],
       "layout": {
        "legend": {
         "tracegroupgap": 0
        },
        "template": {
         "data": {
          "bar": [
           {
            "error_x": {
             "color": "#2a3f5f"
            },
            "error_y": {
             "color": "#2a3f5f"
            },
            "marker": {
             "line": {
              "color": "#E5ECF6",
              "width": 0.5
             },
             "pattern": {
              "fillmode": "overlay",
              "size": 10,
              "solidity": 0.2
             }
            },
            "type": "bar"
           }
          ],
          "barpolar": [
           {
            "marker": {
             "line": {
              "color": "#E5ECF6",
              "width": 0.5
             },
             "pattern": {
              "fillmode": "overlay",
              "size": 10,
              "solidity": 0.2
             }
            },
            "type": "barpolar"
           }
          ],
          "carpet": [
           {
            "aaxis": {
             "endlinecolor": "#2a3f5f",
             "gridcolor": "white",
             "linecolor": "white",
             "minorgridcolor": "white",
             "startlinecolor": "#2a3f5f"
            },
            "baxis": {
             "endlinecolor": "#2a3f5f",
             "gridcolor": "white",
             "linecolor": "white",
             "minorgridcolor": "white",
             "startlinecolor": "#2a3f5f"
            },
            "type": "carpet"
           }
          ],
          "choropleth": [
           {
            "colorbar": {
             "outlinewidth": 0,
             "ticks": ""
            },
            "type": "choropleth"
           }
          ],
          "contour": [
           {
            "colorbar": {
             "outlinewidth": 0,
             "ticks": ""
            },
            "colorscale": [
             [
              0,
              "#0d0887"
             ],
             [
              0.1111111111111111,
              "#46039f"
             ],
             [
              0.2222222222222222,
              "#7201a8"
             ],
             [
              0.3333333333333333,
              "#9c179e"
             ],
             [
              0.4444444444444444,
              "#bd3786"
             ],
             [
              0.5555555555555556,
              "#d8576b"
             ],
             [
              0.6666666666666666,
              "#ed7953"
             ],
             [
              0.7777777777777778,
              "#fb9f3a"
             ],
             [
              0.8888888888888888,
              "#fdca26"
             ],
             [
              1,
              "#f0f921"
             ]
            ],
            "type": "contour"
           }
          ],
          "contourcarpet": [
           {
            "colorbar": {
             "outlinewidth": 0,
             "ticks": ""
            },
            "type": "contourcarpet"
           }
          ],
          "heatmap": [
           {
            "colorbar": {
             "outlinewidth": 0,
             "ticks": ""
            },
            "colorscale": [
             [
              0,
              "#0d0887"
             ],
             [
              0.1111111111111111,
              "#46039f"
             ],
             [
              0.2222222222222222,
              "#7201a8"
             ],
             [
              0.3333333333333333,
              "#9c179e"
             ],
             [
              0.4444444444444444,
              "#bd3786"
             ],
             [
              0.5555555555555556,
              "#d8576b"
             ],
             [
              0.6666666666666666,
              "#ed7953"
             ],
             [
              0.7777777777777778,
              "#fb9f3a"
             ],
             [
              0.8888888888888888,
              "#fdca26"
             ],
             [
              1,
              "#f0f921"
             ]
            ],
            "type": "heatmap"
           }
          ],
          "heatmapgl": [
           {
            "colorbar": {
             "outlinewidth": 0,
             "ticks": ""
            },
            "colorscale": [
             [
              0,
              "#0d0887"
             ],
             [
              0.1111111111111111,
              "#46039f"
             ],
             [
              0.2222222222222222,
              "#7201a8"
             ],
             [
              0.3333333333333333,
              "#9c179e"
             ],
             [
              0.4444444444444444,
              "#bd3786"
             ],
             [
              0.5555555555555556,
              "#d8576b"
             ],
             [
              0.6666666666666666,
              "#ed7953"
             ],
             [
              0.7777777777777778,
              "#fb9f3a"
             ],
             [
              0.8888888888888888,
              "#fdca26"
             ],
             [
              1,
              "#f0f921"
             ]
            ],
            "type": "heatmapgl"
           }
          ],
          "histogram": [
           {
            "marker": {
             "pattern": {
              "fillmode": "overlay",
              "size": 10,
              "solidity": 0.2
             }
            },
            "type": "histogram"
           }
          ],
          "histogram2d": [
           {
            "colorbar": {
             "outlinewidth": 0,
             "ticks": ""
            },
            "colorscale": [
             [
              0,
              "#0d0887"
             ],
             [
              0.1111111111111111,
              "#46039f"
             ],
             [
              0.2222222222222222,
              "#7201a8"
             ],
             [
              0.3333333333333333,
              "#9c179e"
             ],
             [
              0.4444444444444444,
              "#bd3786"
             ],
             [
              0.5555555555555556,
              "#d8576b"
             ],
             [
              0.6666666666666666,
              "#ed7953"
             ],
             [
              0.7777777777777778,
              "#fb9f3a"
             ],
             [
              0.8888888888888888,
              "#fdca26"
             ],
             [
              1,
              "#f0f921"
             ]
            ],
            "type": "histogram2d"
           }
          ],
          "histogram2dcontour": [
           {
            "colorbar": {
             "outlinewidth": 0,
             "ticks": ""
            },
            "colorscale": [
             [
              0,
              "#0d0887"
             ],
             [
              0.1111111111111111,
              "#46039f"
             ],
             [
              0.2222222222222222,
              "#7201a8"
             ],
             [
              0.3333333333333333,
              "#9c179e"
             ],
             [
              0.4444444444444444,
              "#bd3786"
             ],
             [
              0.5555555555555556,
              "#d8576b"
             ],
             [
              0.6666666666666666,
              "#ed7953"
             ],
             [
              0.7777777777777778,
              "#fb9f3a"
             ],
             [
              0.8888888888888888,
              "#fdca26"
             ],
             [
              1,
              "#f0f921"
             ]
            ],
            "type": "histogram2dcontour"
           }
          ],
          "mesh3d": [
           {
            "colorbar": {
             "outlinewidth": 0,
             "ticks": ""
            },
            "type": "mesh3d"
           }
          ],
          "parcoords": [
           {
            "line": {
             "colorbar": {
              "outlinewidth": 0,
              "ticks": ""
             }
            },
            "type": "parcoords"
           }
          ],
          "pie": [
           {
            "automargin": true,
            "type": "pie"
           }
          ],
          "scatter": [
           {
            "fillpattern": {
             "fillmode": "overlay",
             "size": 10,
             "solidity": 0.2
            },
            "type": "scatter"
           }
          ],
          "scatter3d": [
           {
            "line": {
             "colorbar": {
              "outlinewidth": 0,
              "ticks": ""
             }
            },
            "marker": {
             "colorbar": {
              "outlinewidth": 0,
              "ticks": ""
             }
            },
            "type": "scatter3d"
           }
          ],
          "scattercarpet": [
           {
            "marker": {
             "colorbar": {
              "outlinewidth": 0,
              "ticks": ""
             }
            },
            "type": "scattercarpet"
           }
          ],
          "scattergeo": [
           {
            "marker": {
             "colorbar": {
              "outlinewidth": 0,
              "ticks": ""
             }
            },
            "type": "scattergeo"
           }
          ],
          "scattergl": [
           {
            "marker": {
             "colorbar": {
              "outlinewidth": 0,
              "ticks": ""
             }
            },
            "type": "scattergl"
           }
          ],
          "scattermapbox": [
           {
            "marker": {
             "colorbar": {
              "outlinewidth": 0,
              "ticks": ""
             }
            },
            "type": "scattermapbox"
           }
          ],
          "scatterpolar": [
           {
            "marker": {
             "colorbar": {
              "outlinewidth": 0,
              "ticks": ""
             }
            },
            "type": "scatterpolar"
           }
          ],
          "scatterpolargl": [
           {
            "marker": {
             "colorbar": {
              "outlinewidth": 0,
              "ticks": ""
             }
            },
            "type": "scatterpolargl"
           }
          ],
          "scatterternary": [
           {
            "marker": {
             "colorbar": {
              "outlinewidth": 0,
              "ticks": ""
             }
            },
            "type": "scatterternary"
           }
          ],
          "surface": [
           {
            "colorbar": {
             "outlinewidth": 0,
             "ticks": ""
            },
            "colorscale": [
             [
              0,
              "#0d0887"
             ],
             [
              0.1111111111111111,
              "#46039f"
             ],
             [
              0.2222222222222222,
              "#7201a8"
             ],
             [
              0.3333333333333333,
              "#9c179e"
             ],
             [
              0.4444444444444444,
              "#bd3786"
             ],
             [
              0.5555555555555556,
              "#d8576b"
             ],
             [
              0.6666666666666666,
              "#ed7953"
             ],
             [
              0.7777777777777778,
              "#fb9f3a"
             ],
             [
              0.8888888888888888,
              "#fdca26"
             ],
             [
              1,
              "#f0f921"
             ]
            ],
            "type": "surface"
           }
          ],
          "table": [
           {
            "cells": {
             "fill": {
              "color": "#EBF0F8"
             },
             "line": {
              "color": "white"
             }
            },
            "header": {
             "fill": {
              "color": "#C8D4E3"
             },
             "line": {
              "color": "white"
             }
            },
            "type": "table"
           }
          ]
         },
         "layout": {
          "annotationdefaults": {
           "arrowcolor": "#2a3f5f",
           "arrowhead": 0,
           "arrowwidth": 1
          },
          "autotypenumbers": "strict",
          "coloraxis": {
           "colorbar": {
            "outlinewidth": 0,
            "ticks": ""
           }
          },
          "colorscale": {
           "diverging": [
            [
             0,
             "#8e0152"
            ],
            [
             0.1,
             "#c51b7d"
            ],
            [
             0.2,
             "#de77ae"
            ],
            [
             0.3,
             "#f1b6da"
            ],
            [
             0.4,
             "#fde0ef"
            ],
            [
             0.5,
             "#f7f7f7"
            ],
            [
             0.6,
             "#e6f5d0"
            ],
            [
             0.7,
             "#b8e186"
            ],
            [
             0.8,
             "#7fbc41"
            ],
            [
             0.9,
             "#4d9221"
            ],
            [
             1,
             "#276419"
            ]
           ],
           "sequential": [
            [
             0,
             "#0d0887"
            ],
            [
             0.1111111111111111,
             "#46039f"
            ],
            [
             0.2222222222222222,
             "#7201a8"
            ],
            [
             0.3333333333333333,
             "#9c179e"
            ],
            [
             0.4444444444444444,
             "#bd3786"
            ],
            [
             0.5555555555555556,
             "#d8576b"
            ],
            [
             0.6666666666666666,
             "#ed7953"
            ],
            [
             0.7777777777777778,
             "#fb9f3a"
            ],
            [
             0.8888888888888888,
             "#fdca26"
            ],
            [
             1,
             "#f0f921"
            ]
           ],
           "sequentialminus": [
            [
             0,
             "#0d0887"
            ],
            [
             0.1111111111111111,
             "#46039f"
            ],
            [
             0.2222222222222222,
             "#7201a8"
            ],
            [
             0.3333333333333333,
             "#9c179e"
            ],
            [
             0.4444444444444444,
             "#bd3786"
            ],
            [
             0.5555555555555556,
             "#d8576b"
            ],
            [
             0.6666666666666666,
             "#ed7953"
            ],
            [
             0.7777777777777778,
             "#fb9f3a"
            ],
            [
             0.8888888888888888,
             "#fdca26"
            ],
            [
             1,
             "#f0f921"
            ]
           ]
          },
          "colorway": [
           "#636efa",
           "#EF553B",
           "#00cc96",
           "#ab63fa",
           "#FFA15A",
           "#19d3f3",
           "#FF6692",
           "#B6E880",
           "#FF97FF",
           "#FECB52"
          ],
          "font": {
           "color": "#2a3f5f"
          },
          "geo": {
           "bgcolor": "white",
           "lakecolor": "white",
           "landcolor": "#E5ECF6",
           "showlakes": true,
           "showland": true,
           "subunitcolor": "white"
          },
          "hoverlabel": {
           "align": "left"
          },
          "hovermode": "closest",
          "mapbox": {
           "style": "light"
          },
          "paper_bgcolor": "white",
          "plot_bgcolor": "#E5ECF6",
          "polar": {
           "angularaxis": {
            "gridcolor": "white",
            "linecolor": "white",
            "ticks": ""
           },
           "bgcolor": "#E5ECF6",
           "radialaxis": {
            "gridcolor": "white",
            "linecolor": "white",
            "ticks": ""
           }
          },
          "scene": {
           "xaxis": {
            "backgroundcolor": "#E5ECF6",
            "gridcolor": "white",
            "gridwidth": 2,
            "linecolor": "white",
            "showbackground": true,
            "ticks": "",
            "zerolinecolor": "white"
           },
           "yaxis": {
            "backgroundcolor": "#E5ECF6",
            "gridcolor": "white",
            "gridwidth": 2,
            "linecolor": "white",
            "showbackground": true,
            "ticks": "",
            "zerolinecolor": "white"
           },
           "zaxis": {
            "backgroundcolor": "#E5ECF6",
            "gridcolor": "white",
            "gridwidth": 2,
            "linecolor": "white",
            "showbackground": true,
            "ticks": "",
            "zerolinecolor": "white"
           }
          },
          "shapedefaults": {
           "line": {
            "color": "#2a3f5f"
           }
          },
          "ternary": {
           "aaxis": {
            "gridcolor": "white",
            "linecolor": "white",
            "ticks": ""
           },
           "baxis": {
            "gridcolor": "white",
            "linecolor": "white",
            "ticks": ""
           },
           "bgcolor": "#E5ECF6",
           "caxis": {
            "gridcolor": "white",
            "linecolor": "white",
            "ticks": ""
           }
          },
          "title": {
           "x": 0.05
          },
          "xaxis": {
           "automargin": true,
           "gridcolor": "white",
           "linecolor": "white",
           "ticks": "",
           "title": {
            "standoff": 15
           },
           "zerolinecolor": "white",
           "zerolinewidth": 2
          },
          "yaxis": {
           "automargin": true,
           "gridcolor": "white",
           "linecolor": "white",
           "ticks": "",
           "title": {
            "standoff": 15
           },
           "zerolinecolor": "white",
           "zerolinewidth": 2
          }
         }
        },
        "title": {
         "text": "Average DNA damage foci in All Nuclei by Tissue Location - cellpdia30_sigma4_dilrad4_dnad_obj_seg_v2_gliaero6_gliathr20"
        },
        "xaxis": {
         "anchor": "y",
         "domain": [
          0,
          1
         ],
         "title": {
          "text": "tissue_location"
         }
        },
        "yaxis": {
         "anchor": "x",
         "domain": [
          0,
          1
         ],
         "title": {
          "text": "avg_dna_damage_foci/all_nuclei"
         }
        }
       }
      }
     },
     "metadata": {},
     "output_type": "display_data"
    }
   ],
   "source": [
    "# Create the plot\n",
    "fig = px.scatter(df, x='tissue_location', y='avg_dna_damage_foci/all_nuclei',\n",
    "                 hover_data=['staining_id'], title=f\"Average DNA damage foci in All Nuclei by Tissue Location - {title}\")\n",
    "\n",
    "# Show the plot\n",
    "fig.show()"
   ]
  },
  {
   "cell_type": "code",
   "execution_count": 97,
   "metadata": {},
   "outputs": [
    {
     "data": {
      "application/vnd.plotly.v1+json": {
       "config": {
        "plotlyServerURL": "https://plot.ly"
       },
       "data": [
        {
         "customdata": [
          [
           16,
           0
          ],
          [
           16,
           1
          ],
          [
           16,
           2
          ],
          [
           16,
           3
          ],
          [
           16,
           4
          ],
          [
           16,
           5
          ],
          [
           17,
           6
          ],
          [
           17,
           7
          ],
          [
           17,
           8
          ],
          [
           17,
           9
          ],
          [
           17,
           10
          ],
          [
           17,
           11
          ],
          [
           18,
           12
          ],
          [
           18,
           13
          ],
          [
           18,
           14
          ],
          [
           18,
           15
          ],
          [
           18,
           16
          ],
          [
           18,
           17
          ],
          [
           19,
           18
          ],
          [
           19,
           19
          ],
          [
           19,
           20
          ],
          [
           19,
           21
          ],
          [
           19,
           22
          ],
          [
           19,
           23
          ],
          [
           20,
           24
          ],
          [
           20,
           25
          ],
          [
           20,
           26
          ],
          [
           20,
           27
          ],
          [
           20,
           28
          ],
          [
           20,
           29
          ],
          [
           21,
           30
          ],
          [
           21,
           31
          ],
          [
           21,
           32
          ],
          [
           21,
           33
          ],
          [
           21,
           34
          ],
          [
           21,
           35
          ],
          [
           22,
           36
          ],
          [
           22,
           37
          ],
          [
           22,
           38
          ],
          [
           22,
           39
          ],
          [
           22,
           40
          ],
          [
           22,
           41
          ],
          [
           23,
           42
          ],
          [
           23,
           43
          ],
          [
           23,
           44
          ],
          [
           23,
           45
          ],
          [
           23,
           46
          ],
          [
           23,
           47
          ],
          [
           24,
           48
          ],
          [
           24,
           49
          ],
          [
           24,
           50
          ],
          [
           24,
           51
          ],
          [
           24,
           52
          ],
          [
           24,
           53
          ],
          [
           25,
           54
          ],
          [
           25,
           55
          ],
          [
           25,
           56
          ],
          [
           25,
           57
          ],
          [
           25,
           58
          ],
          [
           25,
           59
          ],
          [
           26,
           60
          ],
          [
           26,
           61
          ],
          [
           26,
           62
          ],
          [
           26,
           63
          ],
          [
           26,
           64
          ],
          [
           26,
           65
          ],
          [
           27,
           66
          ],
          [
           28,
           67
          ],
          [
           28,
           68
          ],
          [
           28,
           69
          ],
          [
           28,
           70
          ],
          [
           28,
           71
          ],
          [
           28,
           72
          ],
          [
           29,
           73
          ],
          [
           29,
           74
          ],
          [
           29,
           75
          ],
          [
           29,
           76
          ],
          [
           29,
           77
          ],
          [
           29,
           78
          ],
          [
           30,
           79
          ],
          [
           30,
           80
          ],
          [
           30,
           81
          ],
          [
           30,
           82
          ],
          [
           30,
           83
          ],
          [
           30,
           84
          ],
          [
           31,
           85
          ],
          [
           31,
           86
          ],
          [
           31,
           87
          ],
          [
           31,
           88
          ],
          [
           31,
           89
          ],
          [
           31,
           90
          ],
          [
           32,
           91
          ],
          [
           32,
           92
          ],
          [
           32,
           93
          ],
          [
           32,
           94
          ],
          [
           32,
           95
          ],
          [
           32,
           96
          ],
          [
           33,
           97
          ],
          [
           33,
           98
          ],
          [
           33,
           99
          ],
          [
           33,
           100
          ],
          [
           33,
           101
          ],
          [
           33,
           102
          ],
          [
           34,
           103
          ],
          [
           34,
           104
          ],
          [
           34,
           105
          ],
          [
           34,
           106
          ],
          [
           34,
           107
          ],
          [
           34,
           108
          ],
          [
           35,
           109
          ],
          [
           35,
           110
          ],
          [
           35,
           111
          ],
          [
           35,
           112
          ],
          [
           35,
           113
          ],
          [
           35,
           114
          ],
          [
           36,
           115
          ],
          [
           36,
           116
          ],
          [
           36,
           117
          ],
          [
           36,
           118
          ],
          [
           36,
           119
          ],
          [
           36,
           120
          ],
          [
           37,
           121
          ],
          [
           37,
           122
          ],
          [
           37,
           123
          ],
          [
           37,
           124
          ],
          [
           37,
           125
          ],
          [
           37,
           126
          ],
          [
           38,
           127
          ],
          [
           39,
           128
          ],
          [
           39,
           129
          ],
          [
           39,
           130
          ],
          [
           39,
           131
          ],
          [
           39,
           132
          ],
          [
           39,
           133
          ],
          [
           40,
           134
          ],
          [
           40,
           135
          ],
          [
           40,
           136
          ],
          [
           40,
           137
          ],
          [
           40,
           138
          ],
          [
           40,
           139
          ],
          [
           41,
           140
          ],
          [
           41,
           141
          ],
          [
           41,
           142
          ],
          [
           41,
           143
          ],
          [
           41,
           144
          ],
          [
           41,
           145
          ],
          [
           42,
           146
          ],
          [
           42,
           147
          ],
          [
           42,
           148
          ],
          [
           42,
           149
          ],
          [
           42,
           150
          ],
          [
           42,
           151
          ],
          [
           43,
           152
          ],
          [
           43,
           153
          ],
          [
           43,
           154
          ],
          [
           43,
           155
          ],
          [
           43,
           156
          ],
          [
           43,
           157
          ],
          [
           44,
           158
          ],
          [
           44,
           159
          ],
          [
           44,
           160
          ],
          [
           44,
           161
          ],
          [
           45,
           162
          ],
          [
           45,
           163
          ],
          [
           45,
           164
          ],
          [
           45,
           165
          ],
          [
           45,
           166
          ],
          [
           45,
           167
          ],
          [
           46,
           168
          ],
          [
           46,
           169
          ],
          [
           46,
           170
          ],
          [
           46,
           171
          ],
          [
           46,
           172
          ],
          [
           46,
           173
          ],
          [
           47,
           174
          ],
          [
           47,
           175
          ],
          [
           47,
           176
          ],
          [
           47,
           177
          ],
          [
           47,
           178
          ],
          [
           47,
           179
          ],
          [
           48,
           180
          ],
          [
           48,
           181
          ],
          [
           48,
           182
          ],
          [
           48,
           183
          ],
          [
           48,
           184
          ],
          [
           48,
           185
          ],
          [
           49,
           186
          ],
          [
           49,
           187
          ],
          [
           49,
           188
          ],
          [
           49,
           189
          ],
          [
           49,
           190
          ],
          [
           49,
           191
          ],
          [
           50,
           192
          ],
          [
           50,
           193
          ],
          [
           50,
           194
          ],
          [
           50,
           195
          ],
          [
           50,
           196
          ],
          [
           50,
           197
          ],
          [
           51,
           198
          ],
          [
           51,
           199
          ],
          [
           51,
           200
          ],
          [
           51,
           201
          ],
          [
           51,
           202
          ],
          [
           51,
           203
          ],
          [
           52,
           204
          ],
          [
           52,
           205
          ],
          [
           52,
           206
          ],
          [
           52,
           207
          ],
          [
           52,
           208
          ],
          [
           52,
           209
          ],
          [
           53,
           210
          ],
          [
           53,
           211
          ],
          [
           53,
           212
          ],
          [
           53,
           213
          ],
          [
           53,
           214
          ],
          [
           53,
           215
          ],
          [
           54,
           216
          ],
          [
           54,
           217
          ],
          [
           54,
           218
          ],
          [
           54,
           219
          ],
          [
           54,
           220
          ],
          [
           54,
           221
          ],
          [
           55,
           222
          ],
          [
           55,
           223
          ],
          [
           55,
           224
          ],
          [
           55,
           225
          ],
          [
           55,
           226
          ],
          [
           55,
           227
          ],
          [
           56,
           228
          ],
          [
           56,
           229
          ],
          [
           56,
           230
          ],
          [
           56,
           231
          ],
          [
           56,
           232
          ],
          [
           56,
           233
          ],
          [
           57,
           234
          ],
          [
           57,
           235
          ],
          [
           57,
           236
          ],
          [
           57,
           237
          ],
          [
           57,
           238
          ],
          [
           57,
           239
          ],
          [
           58,
           240
          ],
          [
           58,
           241
          ],
          [
           58,
           242
          ],
          [
           58,
           243
          ],
          [
           58,
           244
          ],
          [
           58,
           245
          ],
          [
           59,
           246
          ],
          [
           59,
           247
          ],
          [
           59,
           248
          ],
          [
           59,
           249
          ],
          [
           59,
           250
          ],
          [
           59,
           251
          ]
         ],
         "hovertemplate": "tissue_location=%{x}<br>nr_glia_+_nuclei=%{y}<br>staining_id=%{customdata[0]}<br>index=%{customdata[1]}<extra></extra>",
         "legendgroup": "",
         "marker": {
          "color": "#636efa",
          "symbol": "circle"
         },
         "mode": "markers",
         "name": "",
         "orientation": "v",
         "showlegend": false,
         "type": "scatter",
         "x": [
          "CA1",
          "CA3",
          "CTX1",
          "CTX2",
          "CTX3",
          "DG",
          "CA1",
          "CA3",
          "CTX1",
          "CTX2",
          "CTX3",
          "DG",
          "CA1",
          "CA3",
          "CTX1",
          "CTX2",
          "CTX3",
          "DG",
          "CA1",
          "CA3",
          "CTX1",
          "CTX2",
          "CTX3",
          "DG",
          "CA1",
          "CA3",
          "CTX1",
          "CTX2",
          "CTX3",
          "DG",
          "CA1",
          "CA3",
          "CTX1",
          "CTX2",
          "CTX3",
          "DG",
          "CA1",
          "CA3",
          "CTX1",
          "CTX2",
          "CTX3",
          "DG",
          "CA1",
          "CA3",
          "CTX1",
          "CTX2",
          "CTX3",
          "DG",
          "CA1",
          "CA3",
          "CTX1",
          "CTX2",
          "CTX3",
          "DG",
          "CA1",
          "CA3",
          "CTX1",
          "CTX2",
          "CTX3",
          "DG",
          "CA1",
          "CA3",
          "CTX1",
          "CTX2",
          "CTX3",
          "DG",
          "DG",
          "CA1",
          "CA3",
          "CTX1",
          "CTX2",
          "CTX3",
          "DG",
          "CA1",
          "CA3",
          "CTX1",
          "CTX2",
          "CTX3",
          "DG",
          "CA1",
          "CA3",
          "CTX1",
          "CTX2",
          "CTX3",
          "DG",
          "CA1",
          "CA3",
          "CTX1",
          "CTX2",
          "CTX3",
          "DG",
          "CA1",
          "CA3",
          "CTX1",
          "CTX2",
          "CTX3",
          "DG",
          "CA1",
          "CA3",
          "CTX1",
          "CTX2",
          "CTX3",
          "DG",
          "CA1",
          "CA3",
          "CTX1",
          "CTX2",
          "CTX3",
          "DG",
          "CA1",
          "CA3",
          "CTX1",
          "CTX2",
          "CTX3",
          "DG",
          "CA1",
          "CA3",
          "CTX1",
          "CTX2",
          "CTX3",
          "DG",
          "CA1",
          "CA3",
          "CTX1",
          "CTX2",
          "CTX3",
          "DG",
          "DG",
          "CA1",
          "CA3",
          "CTX1",
          "CTX2",
          "CTX3",
          "DG",
          "CA1",
          "CA3",
          "CTX1",
          "CTX2",
          "CTX3",
          "DG",
          "CA1",
          "CA3",
          "CTX1",
          "CTX2",
          "CTX3",
          "DG",
          "CA1",
          "CA3",
          "CTX1",
          "CTX2",
          "CTX3",
          "DG",
          "CA1",
          "CA3",
          "CTX1",
          "CTX2",
          "CTX3",
          "DG",
          "CA1",
          "CA3",
          "CTX1",
          "DG",
          "CA1",
          "CA3",
          "CTX1",
          "CTX2",
          "CTX3",
          "DG",
          "CA1",
          "CA3",
          "CTX1",
          "CTX2",
          "CTX3",
          "DG",
          "CA1",
          "CA3",
          "CTX1",
          "CTX2",
          "CTX3",
          "DG",
          "CA1",
          "CA3",
          "CTX1",
          "CTX2",
          "CTX3",
          "DG",
          "CA1",
          "CA3",
          "CTX1",
          "CTX2",
          "CTX3",
          "DG",
          "CA1",
          "CA3",
          "CTX1",
          "CTX2",
          "CTX3",
          "DG",
          "CA1",
          "CA3",
          "CTX1",
          "CTX2",
          "CTX3",
          "DG",
          "CA1",
          "CA3",
          "CTX1",
          "CTX2",
          "CTX3",
          "DG",
          "CA1",
          "CA3",
          "CTX1",
          "CTX2",
          "CTX3",
          "DG",
          "CA1",
          "CA3",
          "CTX1",
          "CTX2",
          "CTX3",
          "DG",
          "CA1",
          "CA3",
          "CTX1",
          "CTX2",
          "CTX3",
          "DG",
          "CA1",
          "CA3",
          "CTX1",
          "CTX2",
          "CTX3",
          "DG",
          "CA1",
          "CA3",
          "CTX1",
          "CTX2",
          "CTX3",
          "DG",
          "CA1",
          "CA3",
          "CTX1",
          "CTX2",
          "CTX3",
          "DG",
          "CA1",
          "CA3",
          "CTX1",
          "CTX2",
          "CTX3",
          "DG"
         ],
         "xaxis": "x",
         "y": [
          154,
          173,
          36,
          253,
          118,
          211,
          11,
          20,
          18,
          50,
          35,
          85,
          12,
          15,
          23,
          17,
          16,
          59,
          49,
          53,
          148,
          46,
          72,
          52,
          7,
          7,
          7,
          19,
          3,
          8,
          11,
          4,
          20,
          16,
          23,
          13,
          15,
          6,
          11,
          17,
          8,
          9,
          7,
          6,
          27,
          4,
          11,
          11,
          7,
          4,
          20,
          22,
          18,
          7,
          8,
          9,
          24,
          25,
          8,
          12,
          8,
          6,
          17,
          23,
          31,
          8,
          4,
          2,
          2,
          6,
          13,
          12,
          13,
          10,
          5,
          20,
          23,
          16,
          5,
          6,
          4,
          22,
          20,
          14,
          6,
          10,
          1,
          14,
          15,
          16,
          12,
          16,
          17,
          37,
          49,
          33,
          50,
          5,
          9,
          10,
          13,
          10,
          6,
          8,
          6,
          28,
          40,
          26,
          23,
          9,
          25,
          22,
          129,
          78,
          97,
          12,
          8,
          17,
          30,
          11,
          5,
          7,
          11,
          18,
          31,
          36,
          8,
          4,
          6,
          5,
          2,
          7,
          4,
          8,
          4,
          8,
          23,
          11,
          21,
          5,
          4,
          4,
          0,
          6,
          5,
          6,
          3,
          6,
          9,
          15,
          10,
          6,
          12,
          5,
          25,
          23,
          14,
          21,
          26,
          20,
          78,
          74,
          14,
          6,
          16,
          25,
          19,
          13,
          39,
          41,
          88,
          120,
          71,
          65,
          18,
          17,
          31,
          78,
          37,
          8,
          7,
          4,
          35,
          22,
          20,
          15,
          17,
          20,
          21,
          22,
          16,
          19,
          11,
          11,
          22,
          15,
          31,
          12,
          15,
          10,
          16,
          27,
          26,
          17,
          7,
          6,
          25,
          32,
          27,
          13,
          8,
          8,
          32,
          32,
          16,
          18,
          5,
          3,
          14,
          13,
          21,
          14,
          8,
          3,
          9,
          10,
          6,
          8,
          13,
          15,
          22,
          22,
          32,
          16,
          13,
          12,
          13,
          12,
          14,
          30,
          5,
          6,
          18,
          18,
          8,
          3,
          6,
          5,
          10,
          25,
          24,
          7
         ],
         "yaxis": "y"
        }
       ],
       "layout": {
        "legend": {
         "tracegroupgap": 0
        },
        "template": {
         "data": {
          "bar": [
           {
            "error_x": {
             "color": "#2a3f5f"
            },
            "error_y": {
             "color": "#2a3f5f"
            },
            "marker": {
             "line": {
              "color": "#E5ECF6",
              "width": 0.5
             },
             "pattern": {
              "fillmode": "overlay",
              "size": 10,
              "solidity": 0.2
             }
            },
            "type": "bar"
           }
          ],
          "barpolar": [
           {
            "marker": {
             "line": {
              "color": "#E5ECF6",
              "width": 0.5
             },
             "pattern": {
              "fillmode": "overlay",
              "size": 10,
              "solidity": 0.2
             }
            },
            "type": "barpolar"
           }
          ],
          "carpet": [
           {
            "aaxis": {
             "endlinecolor": "#2a3f5f",
             "gridcolor": "white",
             "linecolor": "white",
             "minorgridcolor": "white",
             "startlinecolor": "#2a3f5f"
            },
            "baxis": {
             "endlinecolor": "#2a3f5f",
             "gridcolor": "white",
             "linecolor": "white",
             "minorgridcolor": "white",
             "startlinecolor": "#2a3f5f"
            },
            "type": "carpet"
           }
          ],
          "choropleth": [
           {
            "colorbar": {
             "outlinewidth": 0,
             "ticks": ""
            },
            "type": "choropleth"
           }
          ],
          "contour": [
           {
            "colorbar": {
             "outlinewidth": 0,
             "ticks": ""
            },
            "colorscale": [
             [
              0,
              "#0d0887"
             ],
             [
              0.1111111111111111,
              "#46039f"
             ],
             [
              0.2222222222222222,
              "#7201a8"
             ],
             [
              0.3333333333333333,
              "#9c179e"
             ],
             [
              0.4444444444444444,
              "#bd3786"
             ],
             [
              0.5555555555555556,
              "#d8576b"
             ],
             [
              0.6666666666666666,
              "#ed7953"
             ],
             [
              0.7777777777777778,
              "#fb9f3a"
             ],
             [
              0.8888888888888888,
              "#fdca26"
             ],
             [
              1,
              "#f0f921"
             ]
            ],
            "type": "contour"
           }
          ],
          "contourcarpet": [
           {
            "colorbar": {
             "outlinewidth": 0,
             "ticks": ""
            },
            "type": "contourcarpet"
           }
          ],
          "heatmap": [
           {
            "colorbar": {
             "outlinewidth": 0,
             "ticks": ""
            },
            "colorscale": [
             [
              0,
              "#0d0887"
             ],
             [
              0.1111111111111111,
              "#46039f"
             ],
             [
              0.2222222222222222,
              "#7201a8"
             ],
             [
              0.3333333333333333,
              "#9c179e"
             ],
             [
              0.4444444444444444,
              "#bd3786"
             ],
             [
              0.5555555555555556,
              "#d8576b"
             ],
             [
              0.6666666666666666,
              "#ed7953"
             ],
             [
              0.7777777777777778,
              "#fb9f3a"
             ],
             [
              0.8888888888888888,
              "#fdca26"
             ],
             [
              1,
              "#f0f921"
             ]
            ],
            "type": "heatmap"
           }
          ],
          "heatmapgl": [
           {
            "colorbar": {
             "outlinewidth": 0,
             "ticks": ""
            },
            "colorscale": [
             [
              0,
              "#0d0887"
             ],
             [
              0.1111111111111111,
              "#46039f"
             ],
             [
              0.2222222222222222,
              "#7201a8"
             ],
             [
              0.3333333333333333,
              "#9c179e"
             ],
             [
              0.4444444444444444,
              "#bd3786"
             ],
             [
              0.5555555555555556,
              "#d8576b"
             ],
             [
              0.6666666666666666,
              "#ed7953"
             ],
             [
              0.7777777777777778,
              "#fb9f3a"
             ],
             [
              0.8888888888888888,
              "#fdca26"
             ],
             [
              1,
              "#f0f921"
             ]
            ],
            "type": "heatmapgl"
           }
          ],
          "histogram": [
           {
            "marker": {
             "pattern": {
              "fillmode": "overlay",
              "size": 10,
              "solidity": 0.2
             }
            },
            "type": "histogram"
           }
          ],
          "histogram2d": [
           {
            "colorbar": {
             "outlinewidth": 0,
             "ticks": ""
            },
            "colorscale": [
             [
              0,
              "#0d0887"
             ],
             [
              0.1111111111111111,
              "#46039f"
             ],
             [
              0.2222222222222222,
              "#7201a8"
             ],
             [
              0.3333333333333333,
              "#9c179e"
             ],
             [
              0.4444444444444444,
              "#bd3786"
             ],
             [
              0.5555555555555556,
              "#d8576b"
             ],
             [
              0.6666666666666666,
              "#ed7953"
             ],
             [
              0.7777777777777778,
              "#fb9f3a"
             ],
             [
              0.8888888888888888,
              "#fdca26"
             ],
             [
              1,
              "#f0f921"
             ]
            ],
            "type": "histogram2d"
           }
          ],
          "histogram2dcontour": [
           {
            "colorbar": {
             "outlinewidth": 0,
             "ticks": ""
            },
            "colorscale": [
             [
              0,
              "#0d0887"
             ],
             [
              0.1111111111111111,
              "#46039f"
             ],
             [
              0.2222222222222222,
              "#7201a8"
             ],
             [
              0.3333333333333333,
              "#9c179e"
             ],
             [
              0.4444444444444444,
              "#bd3786"
             ],
             [
              0.5555555555555556,
              "#d8576b"
             ],
             [
              0.6666666666666666,
              "#ed7953"
             ],
             [
              0.7777777777777778,
              "#fb9f3a"
             ],
             [
              0.8888888888888888,
              "#fdca26"
             ],
             [
              1,
              "#f0f921"
             ]
            ],
            "type": "histogram2dcontour"
           }
          ],
          "mesh3d": [
           {
            "colorbar": {
             "outlinewidth": 0,
             "ticks": ""
            },
            "type": "mesh3d"
           }
          ],
          "parcoords": [
           {
            "line": {
             "colorbar": {
              "outlinewidth": 0,
              "ticks": ""
             }
            },
            "type": "parcoords"
           }
          ],
          "pie": [
           {
            "automargin": true,
            "type": "pie"
           }
          ],
          "scatter": [
           {
            "fillpattern": {
             "fillmode": "overlay",
             "size": 10,
             "solidity": 0.2
            },
            "type": "scatter"
           }
          ],
          "scatter3d": [
           {
            "line": {
             "colorbar": {
              "outlinewidth": 0,
              "ticks": ""
             }
            },
            "marker": {
             "colorbar": {
              "outlinewidth": 0,
              "ticks": ""
             }
            },
            "type": "scatter3d"
           }
          ],
          "scattercarpet": [
           {
            "marker": {
             "colorbar": {
              "outlinewidth": 0,
              "ticks": ""
             }
            },
            "type": "scattercarpet"
           }
          ],
          "scattergeo": [
           {
            "marker": {
             "colorbar": {
              "outlinewidth": 0,
              "ticks": ""
             }
            },
            "type": "scattergeo"
           }
          ],
          "scattergl": [
           {
            "marker": {
             "colorbar": {
              "outlinewidth": 0,
              "ticks": ""
             }
            },
            "type": "scattergl"
           }
          ],
          "scattermapbox": [
           {
            "marker": {
             "colorbar": {
              "outlinewidth": 0,
              "ticks": ""
             }
            },
            "type": "scattermapbox"
           }
          ],
          "scatterpolar": [
           {
            "marker": {
             "colorbar": {
              "outlinewidth": 0,
              "ticks": ""
             }
            },
            "type": "scatterpolar"
           }
          ],
          "scatterpolargl": [
           {
            "marker": {
             "colorbar": {
              "outlinewidth": 0,
              "ticks": ""
             }
            },
            "type": "scatterpolargl"
           }
          ],
          "scatterternary": [
           {
            "marker": {
             "colorbar": {
              "outlinewidth": 0,
              "ticks": ""
             }
            },
            "type": "scatterternary"
           }
          ],
          "surface": [
           {
            "colorbar": {
             "outlinewidth": 0,
             "ticks": ""
            },
            "colorscale": [
             [
              0,
              "#0d0887"
             ],
             [
              0.1111111111111111,
              "#46039f"
             ],
             [
              0.2222222222222222,
              "#7201a8"
             ],
             [
              0.3333333333333333,
              "#9c179e"
             ],
             [
              0.4444444444444444,
              "#bd3786"
             ],
             [
              0.5555555555555556,
              "#d8576b"
             ],
             [
              0.6666666666666666,
              "#ed7953"
             ],
             [
              0.7777777777777778,
              "#fb9f3a"
             ],
             [
              0.8888888888888888,
              "#fdca26"
             ],
             [
              1,
              "#f0f921"
             ]
            ],
            "type": "surface"
           }
          ],
          "table": [
           {
            "cells": {
             "fill": {
              "color": "#EBF0F8"
             },
             "line": {
              "color": "white"
             }
            },
            "header": {
             "fill": {
              "color": "#C8D4E3"
             },
             "line": {
              "color": "white"
             }
            },
            "type": "table"
           }
          ]
         },
         "layout": {
          "annotationdefaults": {
           "arrowcolor": "#2a3f5f",
           "arrowhead": 0,
           "arrowwidth": 1
          },
          "autotypenumbers": "strict",
          "coloraxis": {
           "colorbar": {
            "outlinewidth": 0,
            "ticks": ""
           }
          },
          "colorscale": {
           "diverging": [
            [
             0,
             "#8e0152"
            ],
            [
             0.1,
             "#c51b7d"
            ],
            [
             0.2,
             "#de77ae"
            ],
            [
             0.3,
             "#f1b6da"
            ],
            [
             0.4,
             "#fde0ef"
            ],
            [
             0.5,
             "#f7f7f7"
            ],
            [
             0.6,
             "#e6f5d0"
            ],
            [
             0.7,
             "#b8e186"
            ],
            [
             0.8,
             "#7fbc41"
            ],
            [
             0.9,
             "#4d9221"
            ],
            [
             1,
             "#276419"
            ]
           ],
           "sequential": [
            [
             0,
             "#0d0887"
            ],
            [
             0.1111111111111111,
             "#46039f"
            ],
            [
             0.2222222222222222,
             "#7201a8"
            ],
            [
             0.3333333333333333,
             "#9c179e"
            ],
            [
             0.4444444444444444,
             "#bd3786"
            ],
            [
             0.5555555555555556,
             "#d8576b"
            ],
            [
             0.6666666666666666,
             "#ed7953"
            ],
            [
             0.7777777777777778,
             "#fb9f3a"
            ],
            [
             0.8888888888888888,
             "#fdca26"
            ],
            [
             1,
             "#f0f921"
            ]
           ],
           "sequentialminus": [
            [
             0,
             "#0d0887"
            ],
            [
             0.1111111111111111,
             "#46039f"
            ],
            [
             0.2222222222222222,
             "#7201a8"
            ],
            [
             0.3333333333333333,
             "#9c179e"
            ],
            [
             0.4444444444444444,
             "#bd3786"
            ],
            [
             0.5555555555555556,
             "#d8576b"
            ],
            [
             0.6666666666666666,
             "#ed7953"
            ],
            [
             0.7777777777777778,
             "#fb9f3a"
            ],
            [
             0.8888888888888888,
             "#fdca26"
            ],
            [
             1,
             "#f0f921"
            ]
           ]
          },
          "colorway": [
           "#636efa",
           "#EF553B",
           "#00cc96",
           "#ab63fa",
           "#FFA15A",
           "#19d3f3",
           "#FF6692",
           "#B6E880",
           "#FF97FF",
           "#FECB52"
          ],
          "font": {
           "color": "#2a3f5f"
          },
          "geo": {
           "bgcolor": "white",
           "lakecolor": "white",
           "landcolor": "#E5ECF6",
           "showlakes": true,
           "showland": true,
           "subunitcolor": "white"
          },
          "hoverlabel": {
           "align": "left"
          },
          "hovermode": "closest",
          "mapbox": {
           "style": "light"
          },
          "paper_bgcolor": "white",
          "plot_bgcolor": "#E5ECF6",
          "polar": {
           "angularaxis": {
            "gridcolor": "white",
            "linecolor": "white",
            "ticks": ""
           },
           "bgcolor": "#E5ECF6",
           "radialaxis": {
            "gridcolor": "white",
            "linecolor": "white",
            "ticks": ""
           }
          },
          "scene": {
           "xaxis": {
            "backgroundcolor": "#E5ECF6",
            "gridcolor": "white",
            "gridwidth": 2,
            "linecolor": "white",
            "showbackground": true,
            "ticks": "",
            "zerolinecolor": "white"
           },
           "yaxis": {
            "backgroundcolor": "#E5ECF6",
            "gridcolor": "white",
            "gridwidth": 2,
            "linecolor": "white",
            "showbackground": true,
            "ticks": "",
            "zerolinecolor": "white"
           },
           "zaxis": {
            "backgroundcolor": "#E5ECF6",
            "gridcolor": "white",
            "gridwidth": 2,
            "linecolor": "white",
            "showbackground": true,
            "ticks": "",
            "zerolinecolor": "white"
           }
          },
          "shapedefaults": {
           "line": {
            "color": "#2a3f5f"
           }
          },
          "ternary": {
           "aaxis": {
            "gridcolor": "white",
            "linecolor": "white",
            "ticks": ""
           },
           "baxis": {
            "gridcolor": "white",
            "linecolor": "white",
            "ticks": ""
           },
           "bgcolor": "#E5ECF6",
           "caxis": {
            "gridcolor": "white",
            "linecolor": "white",
            "ticks": ""
           }
          },
          "title": {
           "x": 0.05
          },
          "xaxis": {
           "automargin": true,
           "gridcolor": "white",
           "linecolor": "white",
           "ticks": "",
           "title": {
            "standoff": 15
           },
           "zerolinecolor": "white",
           "zerolinewidth": 2
          },
          "yaxis": {
           "automargin": true,
           "gridcolor": "white",
           "linecolor": "white",
           "ticks": "",
           "title": {
            "standoff": 15
           },
           "zerolinecolor": "white",
           "zerolinewidth": 2
          }
         }
        },
        "title": {
         "text": "Nr of glia+ nuclei by Tissue Location - cellpdia30_sigma4_dilrad4_dnad_obj_seg_v2_gliaero6_gliathr20"
        },
        "xaxis": {
         "anchor": "y",
         "domain": [
          0,
          1
         ],
         "title": {
          "text": "tissue_location"
         }
        },
        "yaxis": {
         "anchor": "x",
         "domain": [
          0,
          1
         ],
         "title": {
          "text": "nr_glia_+_nuclei"
         }
        }
       }
      }
     },
     "metadata": {},
     "output_type": "display_data"
    }
   ],
   "source": [
    "# Create the plot\n",
    "fig = px.scatter(df, x='tissue_location', y='nr_glia_+_nuclei',\n",
    "                 hover_data=['staining_id','index'], title=f\"Nr of glia+ nuclei by Tissue Location - {title}\")\n",
    "\n",
    "# Show the plot\n",
    "fig.show()"
   ]
  },
  {
   "cell_type": "code",
   "execution_count": 98,
   "metadata": {},
   "outputs": [
    {
     "data": {
      "application/vnd.plotly.v1+json": {
       "config": {
        "plotlyServerURL": "https://plot.ly"
       },
       "data": [
        {
         "customdata": [
          [
           16,
           0
          ],
          [
           16,
           1
          ],
          [
           16,
           2
          ],
          [
           16,
           3
          ],
          [
           16,
           4
          ],
          [
           16,
           5
          ],
          [
           17,
           6
          ],
          [
           17,
           7
          ],
          [
           17,
           8
          ],
          [
           17,
           9
          ],
          [
           17,
           10
          ],
          [
           17,
           11
          ],
          [
           18,
           12
          ],
          [
           18,
           13
          ],
          [
           18,
           14
          ],
          [
           18,
           15
          ],
          [
           18,
           16
          ],
          [
           18,
           17
          ],
          [
           19,
           18
          ],
          [
           19,
           19
          ],
          [
           19,
           20
          ],
          [
           19,
           21
          ],
          [
           19,
           22
          ],
          [
           19,
           23
          ],
          [
           20,
           24
          ],
          [
           20,
           25
          ],
          [
           20,
           26
          ],
          [
           20,
           27
          ],
          [
           20,
           28
          ],
          [
           20,
           29
          ],
          [
           21,
           30
          ],
          [
           21,
           31
          ],
          [
           21,
           32
          ],
          [
           21,
           33
          ],
          [
           21,
           34
          ],
          [
           21,
           35
          ],
          [
           22,
           36
          ],
          [
           22,
           37
          ],
          [
           22,
           38
          ],
          [
           22,
           39
          ],
          [
           22,
           40
          ],
          [
           22,
           41
          ],
          [
           23,
           42
          ],
          [
           23,
           43
          ],
          [
           23,
           44
          ],
          [
           23,
           45
          ],
          [
           23,
           46
          ],
          [
           23,
           47
          ],
          [
           24,
           48
          ],
          [
           24,
           49
          ],
          [
           24,
           50
          ],
          [
           24,
           51
          ],
          [
           24,
           52
          ],
          [
           24,
           53
          ],
          [
           25,
           54
          ],
          [
           25,
           55
          ],
          [
           25,
           56
          ],
          [
           25,
           57
          ],
          [
           25,
           58
          ],
          [
           25,
           59
          ],
          [
           26,
           60
          ],
          [
           26,
           61
          ],
          [
           26,
           62
          ],
          [
           26,
           63
          ],
          [
           26,
           64
          ],
          [
           26,
           65
          ],
          [
           27,
           66
          ],
          [
           28,
           67
          ],
          [
           28,
           68
          ],
          [
           28,
           69
          ],
          [
           28,
           70
          ],
          [
           28,
           71
          ],
          [
           28,
           72
          ],
          [
           29,
           73
          ],
          [
           29,
           74
          ],
          [
           29,
           75
          ],
          [
           29,
           76
          ],
          [
           29,
           77
          ],
          [
           29,
           78
          ],
          [
           30,
           79
          ],
          [
           30,
           80
          ],
          [
           30,
           81
          ],
          [
           30,
           82
          ],
          [
           30,
           83
          ],
          [
           30,
           84
          ],
          [
           31,
           85
          ],
          [
           31,
           86
          ],
          [
           31,
           87
          ],
          [
           31,
           88
          ],
          [
           31,
           89
          ],
          [
           31,
           90
          ],
          [
           32,
           91
          ],
          [
           32,
           92
          ],
          [
           32,
           93
          ],
          [
           32,
           94
          ],
          [
           32,
           95
          ],
          [
           32,
           96
          ],
          [
           33,
           97
          ],
          [
           33,
           98
          ],
          [
           33,
           99
          ],
          [
           33,
           100
          ],
          [
           33,
           101
          ],
          [
           33,
           102
          ],
          [
           34,
           103
          ],
          [
           34,
           104
          ],
          [
           34,
           105
          ],
          [
           34,
           106
          ],
          [
           34,
           107
          ],
          [
           34,
           108
          ],
          [
           35,
           109
          ],
          [
           35,
           110
          ],
          [
           35,
           111
          ],
          [
           35,
           112
          ],
          [
           35,
           113
          ],
          [
           35,
           114
          ],
          [
           36,
           115
          ],
          [
           36,
           116
          ],
          [
           36,
           117
          ],
          [
           36,
           118
          ],
          [
           36,
           119
          ],
          [
           36,
           120
          ],
          [
           37,
           121
          ],
          [
           37,
           122
          ],
          [
           37,
           123
          ],
          [
           37,
           124
          ],
          [
           37,
           125
          ],
          [
           37,
           126
          ],
          [
           38,
           127
          ],
          [
           39,
           128
          ],
          [
           39,
           129
          ],
          [
           39,
           130
          ],
          [
           39,
           131
          ],
          [
           39,
           132
          ],
          [
           39,
           133
          ],
          [
           40,
           134
          ],
          [
           40,
           135
          ],
          [
           40,
           136
          ],
          [
           40,
           137
          ],
          [
           40,
           138
          ],
          [
           40,
           139
          ],
          [
           41,
           140
          ],
          [
           41,
           141
          ],
          [
           41,
           142
          ],
          [
           41,
           143
          ],
          [
           41,
           144
          ],
          [
           41,
           145
          ],
          [
           42,
           146
          ],
          [
           42,
           147
          ],
          [
           42,
           148
          ],
          [
           42,
           149
          ],
          [
           42,
           150
          ],
          [
           42,
           151
          ],
          [
           43,
           152
          ],
          [
           43,
           153
          ],
          [
           43,
           154
          ],
          [
           43,
           155
          ],
          [
           43,
           156
          ],
          [
           43,
           157
          ],
          [
           44,
           158
          ],
          [
           44,
           159
          ],
          [
           44,
           160
          ],
          [
           44,
           161
          ],
          [
           45,
           162
          ],
          [
           45,
           163
          ],
          [
           45,
           164
          ],
          [
           45,
           165
          ],
          [
           45,
           166
          ],
          [
           45,
           167
          ],
          [
           46,
           168
          ],
          [
           46,
           169
          ],
          [
           46,
           170
          ],
          [
           46,
           171
          ],
          [
           46,
           172
          ],
          [
           46,
           173
          ],
          [
           47,
           174
          ],
          [
           47,
           175
          ],
          [
           47,
           176
          ],
          [
           47,
           177
          ],
          [
           47,
           178
          ],
          [
           47,
           179
          ],
          [
           48,
           180
          ],
          [
           48,
           181
          ],
          [
           48,
           182
          ],
          [
           48,
           183
          ],
          [
           48,
           184
          ],
          [
           48,
           185
          ],
          [
           49,
           186
          ],
          [
           49,
           187
          ],
          [
           49,
           188
          ],
          [
           49,
           189
          ],
          [
           49,
           190
          ],
          [
           49,
           191
          ],
          [
           50,
           192
          ],
          [
           50,
           193
          ],
          [
           50,
           194
          ],
          [
           50,
           195
          ],
          [
           50,
           196
          ],
          [
           50,
           197
          ],
          [
           51,
           198
          ],
          [
           51,
           199
          ],
          [
           51,
           200
          ],
          [
           51,
           201
          ],
          [
           51,
           202
          ],
          [
           51,
           203
          ],
          [
           52,
           204
          ],
          [
           52,
           205
          ],
          [
           52,
           206
          ],
          [
           52,
           207
          ],
          [
           52,
           208
          ],
          [
           52,
           209
          ],
          [
           53,
           210
          ],
          [
           53,
           211
          ],
          [
           53,
           212
          ],
          [
           53,
           213
          ],
          [
           53,
           214
          ],
          [
           53,
           215
          ],
          [
           54,
           216
          ],
          [
           54,
           217
          ],
          [
           54,
           218
          ],
          [
           54,
           219
          ],
          [
           54,
           220
          ],
          [
           54,
           221
          ],
          [
           55,
           222
          ],
          [
           55,
           223
          ],
          [
           55,
           224
          ],
          [
           55,
           225
          ],
          [
           55,
           226
          ],
          [
           55,
           227
          ],
          [
           56,
           228
          ],
          [
           56,
           229
          ],
          [
           56,
           230
          ],
          [
           56,
           231
          ],
          [
           56,
           232
          ],
          [
           56,
           233
          ],
          [
           57,
           234
          ],
          [
           57,
           235
          ],
          [
           57,
           236
          ],
          [
           57,
           237
          ],
          [
           57,
           238
          ],
          [
           57,
           239
          ],
          [
           58,
           240
          ],
          [
           58,
           241
          ],
          [
           58,
           242
          ],
          [
           58,
           243
          ],
          [
           58,
           244
          ],
          [
           58,
           245
          ],
          [
           59,
           246
          ],
          [
           59,
           247
          ],
          [
           59,
           248
          ],
          [
           59,
           249
          ],
          [
           59,
           250
          ],
          [
           59,
           251
          ]
         ],
         "hovertemplate": "tissue_location=%{x}<br>nr_total_nuclei=%{y}<br>staining_id=%{customdata[0]}<br>index=%{customdata[1]}<extra></extra>",
         "legendgroup": "",
         "marker": {
          "color": "#636efa",
          "symbol": "circle"
         },
         "mode": "markers",
         "name": "",
         "orientation": "v",
         "showlegend": false,
         "type": "scatter",
         "x": [
          "CA1",
          "CA3",
          "CTX1",
          "CTX2",
          "CTX3",
          "DG",
          "CA1",
          "CA3",
          "CTX1",
          "CTX2",
          "CTX3",
          "DG",
          "CA1",
          "CA3",
          "CTX1",
          "CTX2",
          "CTX3",
          "DG",
          "CA1",
          "CA3",
          "CTX1",
          "CTX2",
          "CTX3",
          "DG",
          "CA1",
          "CA3",
          "CTX1",
          "CTX2",
          "CTX3",
          "DG",
          "CA1",
          "CA3",
          "CTX1",
          "CTX2",
          "CTX3",
          "DG",
          "CA1",
          "CA3",
          "CTX1",
          "CTX2",
          "CTX3",
          "DG",
          "CA1",
          "CA3",
          "CTX1",
          "CTX2",
          "CTX3",
          "DG",
          "CA1",
          "CA3",
          "CTX1",
          "CTX2",
          "CTX3",
          "DG",
          "CA1",
          "CA3",
          "CTX1",
          "CTX2",
          "CTX3",
          "DG",
          "CA1",
          "CA3",
          "CTX1",
          "CTX2",
          "CTX3",
          "DG",
          "DG",
          "CA1",
          "CA3",
          "CTX1",
          "CTX2",
          "CTX3",
          "DG",
          "CA1",
          "CA3",
          "CTX1",
          "CTX2",
          "CTX3",
          "DG",
          "CA1",
          "CA3",
          "CTX1",
          "CTX2",
          "CTX3",
          "DG",
          "CA1",
          "CA3",
          "CTX1",
          "CTX2",
          "CTX3",
          "DG",
          "CA1",
          "CA3",
          "CTX1",
          "CTX2",
          "CTX3",
          "DG",
          "CA1",
          "CA3",
          "CTX1",
          "CTX2",
          "CTX3",
          "DG",
          "CA1",
          "CA3",
          "CTX1",
          "CTX2",
          "CTX3",
          "DG",
          "CA1",
          "CA3",
          "CTX1",
          "CTX2",
          "CTX3",
          "DG",
          "CA1",
          "CA3",
          "CTX1",
          "CTX2",
          "CTX3",
          "DG",
          "CA1",
          "CA3",
          "CTX1",
          "CTX2",
          "CTX3",
          "DG",
          "DG",
          "CA1",
          "CA3",
          "CTX1",
          "CTX2",
          "CTX3",
          "DG",
          "CA1",
          "CA3",
          "CTX1",
          "CTX2",
          "CTX3",
          "DG",
          "CA1",
          "CA3",
          "CTX1",
          "CTX2",
          "CTX3",
          "DG",
          "CA1",
          "CA3",
          "CTX1",
          "CTX2",
          "CTX3",
          "DG",
          "CA1",
          "CA3",
          "CTX1",
          "CTX2",
          "CTX3",
          "DG",
          "CA1",
          "CA3",
          "CTX1",
          "DG",
          "CA1",
          "CA3",
          "CTX1",
          "CTX2",
          "CTX3",
          "DG",
          "CA1",
          "CA3",
          "CTX1",
          "CTX2",
          "CTX3",
          "DG",
          "CA1",
          "CA3",
          "CTX1",
          "CTX2",
          "CTX3",
          "DG",
          "CA1",
          "CA3",
          "CTX1",
          "CTX2",
          "CTX3",
          "DG",
          "CA1",
          "CA3",
          "CTX1",
          "CTX2",
          "CTX3",
          "DG",
          "CA1",
          "CA3",
          "CTX1",
          "CTX2",
          "CTX3",
          "DG",
          "CA1",
          "CA3",
          "CTX1",
          "CTX2",
          "CTX3",
          "DG",
          "CA1",
          "CA3",
          "CTX1",
          "CTX2",
          "CTX3",
          "DG",
          "CA1",
          "CA3",
          "CTX1",
          "CTX2",
          "CTX3",
          "DG",
          "CA1",
          "CA3",
          "CTX1",
          "CTX2",
          "CTX3",
          "DG",
          "CA1",
          "CA3",
          "CTX1",
          "CTX2",
          "CTX3",
          "DG",
          "CA1",
          "CA3",
          "CTX1",
          "CTX2",
          "CTX3",
          "DG",
          "CA1",
          "CA3",
          "CTX1",
          "CTX2",
          "CTX3",
          "DG",
          "CA1",
          "CA3",
          "CTX1",
          "CTX2",
          "CTX3",
          "DG",
          "CA1",
          "CA3",
          "CTX1",
          "CTX2",
          "CTX3",
          "DG"
         ],
         "xaxis": "x",
         "y": [
          207,
          182,
          267,
          271,
          246,
          225,
          173,
          179,
          267,
          316,
          180,
          260,
          110,
          103,
          245,
          270,
          159,
          142,
          50,
          54,
          150,
          61,
          85,
          52,
          152,
          121,
          210,
          176,
          126,
          288,
          138,
          119,
          202,
          257,
          205,
          312,
          157,
          138,
          253,
          280,
          172,
          320,
          135,
          109,
          197,
          197,
          148,
          278,
          178,
          145,
          229,
          299,
          228,
          183,
          162,
          149,
          170,
          202,
          226,
          297,
          85,
          40,
          161,
          168,
          138,
          93,
          99,
          91,
          83,
          129,
          233,
          236,
          254,
          148,
          128,
          214,
          208,
          191,
          292,
          135,
          116,
          244,
          265,
          207,
          289,
          167,
          205,
          220,
          260,
          168,
          240,
          165,
          112,
          290,
          251,
          194,
          233,
          149,
          189,
          239,
          215,
          168,
          297,
          133,
          257,
          304,
          290,
          229,
          166,
          181,
          177,
          266,
          274,
          202,
          316,
          198,
          142,
          239,
          247,
          221,
          319,
          189,
          163,
          282,
          316,
          206,
          218,
          68,
          150,
          124,
          193,
          231,
          164,
          297,
          152,
          91,
          176,
          173,
          197,
          332,
          203,
          120,
          171,
          208,
          155,
          370,
          171,
          133,
          220,
          187,
          184,
          286,
          148,
          199,
          232,
          209,
          220,
          232,
          86,
          65,
          257,
          135,
          144,
          157,
          226,
          219,
          211,
          212,
          136,
          129,
          266,
          314,
          267,
          107,
          177,
          166,
          348,
          307,
          238,
          143,
          126,
          108,
          236,
          265,
          239,
          316,
          149,
          175,
          195,
          229,
          156,
          103,
          134,
          123,
          251,
          239,
          205,
          280,
          135,
          115,
          156,
          237,
          193,
          274,
          131,
          107,
          137,
          226,
          216,
          263,
          179,
          217,
          267,
          224,
          162,
          215,
          151,
          158,
          222,
          208,
          188,
          295,
          150,
          100,
          131,
          156,
          93,
          307,
          168,
          142,
          188,
          250,
          200,
          268,
          182,
          182,
          270,
          280,
          210,
          276,
          126,
          118,
          148,
          210,
          196,
          290,
          194,
          129,
          234,
          170,
          166,
          352
         ],
         "yaxis": "y"
        }
       ],
       "layout": {
        "legend": {
         "tracegroupgap": 0
        },
        "template": {
         "data": {
          "bar": [
           {
            "error_x": {
             "color": "#2a3f5f"
            },
            "error_y": {
             "color": "#2a3f5f"
            },
            "marker": {
             "line": {
              "color": "#E5ECF6",
              "width": 0.5
             },
             "pattern": {
              "fillmode": "overlay",
              "size": 10,
              "solidity": 0.2
             }
            },
            "type": "bar"
           }
          ],
          "barpolar": [
           {
            "marker": {
             "line": {
              "color": "#E5ECF6",
              "width": 0.5
             },
             "pattern": {
              "fillmode": "overlay",
              "size": 10,
              "solidity": 0.2
             }
            },
            "type": "barpolar"
           }
          ],
          "carpet": [
           {
            "aaxis": {
             "endlinecolor": "#2a3f5f",
             "gridcolor": "white",
             "linecolor": "white",
             "minorgridcolor": "white",
             "startlinecolor": "#2a3f5f"
            },
            "baxis": {
             "endlinecolor": "#2a3f5f",
             "gridcolor": "white",
             "linecolor": "white",
             "minorgridcolor": "white",
             "startlinecolor": "#2a3f5f"
            },
            "type": "carpet"
           }
          ],
          "choropleth": [
           {
            "colorbar": {
             "outlinewidth": 0,
             "ticks": ""
            },
            "type": "choropleth"
           }
          ],
          "contour": [
           {
            "colorbar": {
             "outlinewidth": 0,
             "ticks": ""
            },
            "colorscale": [
             [
              0,
              "#0d0887"
             ],
             [
              0.1111111111111111,
              "#46039f"
             ],
             [
              0.2222222222222222,
              "#7201a8"
             ],
             [
              0.3333333333333333,
              "#9c179e"
             ],
             [
              0.4444444444444444,
              "#bd3786"
             ],
             [
              0.5555555555555556,
              "#d8576b"
             ],
             [
              0.6666666666666666,
              "#ed7953"
             ],
             [
              0.7777777777777778,
              "#fb9f3a"
             ],
             [
              0.8888888888888888,
              "#fdca26"
             ],
             [
              1,
              "#f0f921"
             ]
            ],
            "type": "contour"
           }
          ],
          "contourcarpet": [
           {
            "colorbar": {
             "outlinewidth": 0,
             "ticks": ""
            },
            "type": "contourcarpet"
           }
          ],
          "heatmap": [
           {
            "colorbar": {
             "outlinewidth": 0,
             "ticks": ""
            },
            "colorscale": [
             [
              0,
              "#0d0887"
             ],
             [
              0.1111111111111111,
              "#46039f"
             ],
             [
              0.2222222222222222,
              "#7201a8"
             ],
             [
              0.3333333333333333,
              "#9c179e"
             ],
             [
              0.4444444444444444,
              "#bd3786"
             ],
             [
              0.5555555555555556,
              "#d8576b"
             ],
             [
              0.6666666666666666,
              "#ed7953"
             ],
             [
              0.7777777777777778,
              "#fb9f3a"
             ],
             [
              0.8888888888888888,
              "#fdca26"
             ],
             [
              1,
              "#f0f921"
             ]
            ],
            "type": "heatmap"
           }
          ],
          "heatmapgl": [
           {
            "colorbar": {
             "outlinewidth": 0,
             "ticks": ""
            },
            "colorscale": [
             [
              0,
              "#0d0887"
             ],
             [
              0.1111111111111111,
              "#46039f"
             ],
             [
              0.2222222222222222,
              "#7201a8"
             ],
             [
              0.3333333333333333,
              "#9c179e"
             ],
             [
              0.4444444444444444,
              "#bd3786"
             ],
             [
              0.5555555555555556,
              "#d8576b"
             ],
             [
              0.6666666666666666,
              "#ed7953"
             ],
             [
              0.7777777777777778,
              "#fb9f3a"
             ],
             [
              0.8888888888888888,
              "#fdca26"
             ],
             [
              1,
              "#f0f921"
             ]
            ],
            "type": "heatmapgl"
           }
          ],
          "histogram": [
           {
            "marker": {
             "pattern": {
              "fillmode": "overlay",
              "size": 10,
              "solidity": 0.2
             }
            },
            "type": "histogram"
           }
          ],
          "histogram2d": [
           {
            "colorbar": {
             "outlinewidth": 0,
             "ticks": ""
            },
            "colorscale": [
             [
              0,
              "#0d0887"
             ],
             [
              0.1111111111111111,
              "#46039f"
             ],
             [
              0.2222222222222222,
              "#7201a8"
             ],
             [
              0.3333333333333333,
              "#9c179e"
             ],
             [
              0.4444444444444444,
              "#bd3786"
             ],
             [
              0.5555555555555556,
              "#d8576b"
             ],
             [
              0.6666666666666666,
              "#ed7953"
             ],
             [
              0.7777777777777778,
              "#fb9f3a"
             ],
             [
              0.8888888888888888,
              "#fdca26"
             ],
             [
              1,
              "#f0f921"
             ]
            ],
            "type": "histogram2d"
           }
          ],
          "histogram2dcontour": [
           {
            "colorbar": {
             "outlinewidth": 0,
             "ticks": ""
            },
            "colorscale": [
             [
              0,
              "#0d0887"
             ],
             [
              0.1111111111111111,
              "#46039f"
             ],
             [
              0.2222222222222222,
              "#7201a8"
             ],
             [
              0.3333333333333333,
              "#9c179e"
             ],
             [
              0.4444444444444444,
              "#bd3786"
             ],
             [
              0.5555555555555556,
              "#d8576b"
             ],
             [
              0.6666666666666666,
              "#ed7953"
             ],
             [
              0.7777777777777778,
              "#fb9f3a"
             ],
             [
              0.8888888888888888,
              "#fdca26"
             ],
             [
              1,
              "#f0f921"
             ]
            ],
            "type": "histogram2dcontour"
           }
          ],
          "mesh3d": [
           {
            "colorbar": {
             "outlinewidth": 0,
             "ticks": ""
            },
            "type": "mesh3d"
           }
          ],
          "parcoords": [
           {
            "line": {
             "colorbar": {
              "outlinewidth": 0,
              "ticks": ""
             }
            },
            "type": "parcoords"
           }
          ],
          "pie": [
           {
            "automargin": true,
            "type": "pie"
           }
          ],
          "scatter": [
           {
            "fillpattern": {
             "fillmode": "overlay",
             "size": 10,
             "solidity": 0.2
            },
            "type": "scatter"
           }
          ],
          "scatter3d": [
           {
            "line": {
             "colorbar": {
              "outlinewidth": 0,
              "ticks": ""
             }
            },
            "marker": {
             "colorbar": {
              "outlinewidth": 0,
              "ticks": ""
             }
            },
            "type": "scatter3d"
           }
          ],
          "scattercarpet": [
           {
            "marker": {
             "colorbar": {
              "outlinewidth": 0,
              "ticks": ""
             }
            },
            "type": "scattercarpet"
           }
          ],
          "scattergeo": [
           {
            "marker": {
             "colorbar": {
              "outlinewidth": 0,
              "ticks": ""
             }
            },
            "type": "scattergeo"
           }
          ],
          "scattergl": [
           {
            "marker": {
             "colorbar": {
              "outlinewidth": 0,
              "ticks": ""
             }
            },
            "type": "scattergl"
           }
          ],
          "scattermapbox": [
           {
            "marker": {
             "colorbar": {
              "outlinewidth": 0,
              "ticks": ""
             }
            },
            "type": "scattermapbox"
           }
          ],
          "scatterpolar": [
           {
            "marker": {
             "colorbar": {
              "outlinewidth": 0,
              "ticks": ""
             }
            },
            "type": "scatterpolar"
           }
          ],
          "scatterpolargl": [
           {
            "marker": {
             "colorbar": {
              "outlinewidth": 0,
              "ticks": ""
             }
            },
            "type": "scatterpolargl"
           }
          ],
          "scatterternary": [
           {
            "marker": {
             "colorbar": {
              "outlinewidth": 0,
              "ticks": ""
             }
            },
            "type": "scatterternary"
           }
          ],
          "surface": [
           {
            "colorbar": {
             "outlinewidth": 0,
             "ticks": ""
            },
            "colorscale": [
             [
              0,
              "#0d0887"
             ],
             [
              0.1111111111111111,
              "#46039f"
             ],
             [
              0.2222222222222222,
              "#7201a8"
             ],
             [
              0.3333333333333333,
              "#9c179e"
             ],
             [
              0.4444444444444444,
              "#bd3786"
             ],
             [
              0.5555555555555556,
              "#d8576b"
             ],
             [
              0.6666666666666666,
              "#ed7953"
             ],
             [
              0.7777777777777778,
              "#fb9f3a"
             ],
             [
              0.8888888888888888,
              "#fdca26"
             ],
             [
              1,
              "#f0f921"
             ]
            ],
            "type": "surface"
           }
          ],
          "table": [
           {
            "cells": {
             "fill": {
              "color": "#EBF0F8"
             },
             "line": {
              "color": "white"
             }
            },
            "header": {
             "fill": {
              "color": "#C8D4E3"
             },
             "line": {
              "color": "white"
             }
            },
            "type": "table"
           }
          ]
         },
         "layout": {
          "annotationdefaults": {
           "arrowcolor": "#2a3f5f",
           "arrowhead": 0,
           "arrowwidth": 1
          },
          "autotypenumbers": "strict",
          "coloraxis": {
           "colorbar": {
            "outlinewidth": 0,
            "ticks": ""
           }
          },
          "colorscale": {
           "diverging": [
            [
             0,
             "#8e0152"
            ],
            [
             0.1,
             "#c51b7d"
            ],
            [
             0.2,
             "#de77ae"
            ],
            [
             0.3,
             "#f1b6da"
            ],
            [
             0.4,
             "#fde0ef"
            ],
            [
             0.5,
             "#f7f7f7"
            ],
            [
             0.6,
             "#e6f5d0"
            ],
            [
             0.7,
             "#b8e186"
            ],
            [
             0.8,
             "#7fbc41"
            ],
            [
             0.9,
             "#4d9221"
            ],
            [
             1,
             "#276419"
            ]
           ],
           "sequential": [
            [
             0,
             "#0d0887"
            ],
            [
             0.1111111111111111,
             "#46039f"
            ],
            [
             0.2222222222222222,
             "#7201a8"
            ],
            [
             0.3333333333333333,
             "#9c179e"
            ],
            [
             0.4444444444444444,
             "#bd3786"
            ],
            [
             0.5555555555555556,
             "#d8576b"
            ],
            [
             0.6666666666666666,
             "#ed7953"
            ],
            [
             0.7777777777777778,
             "#fb9f3a"
            ],
            [
             0.8888888888888888,
             "#fdca26"
            ],
            [
             1,
             "#f0f921"
            ]
           ],
           "sequentialminus": [
            [
             0,
             "#0d0887"
            ],
            [
             0.1111111111111111,
             "#46039f"
            ],
            [
             0.2222222222222222,
             "#7201a8"
            ],
            [
             0.3333333333333333,
             "#9c179e"
            ],
            [
             0.4444444444444444,
             "#bd3786"
            ],
            [
             0.5555555555555556,
             "#d8576b"
            ],
            [
             0.6666666666666666,
             "#ed7953"
            ],
            [
             0.7777777777777778,
             "#fb9f3a"
            ],
            [
             0.8888888888888888,
             "#fdca26"
            ],
            [
             1,
             "#f0f921"
            ]
           ]
          },
          "colorway": [
           "#636efa",
           "#EF553B",
           "#00cc96",
           "#ab63fa",
           "#FFA15A",
           "#19d3f3",
           "#FF6692",
           "#B6E880",
           "#FF97FF",
           "#FECB52"
          ],
          "font": {
           "color": "#2a3f5f"
          },
          "geo": {
           "bgcolor": "white",
           "lakecolor": "white",
           "landcolor": "#E5ECF6",
           "showlakes": true,
           "showland": true,
           "subunitcolor": "white"
          },
          "hoverlabel": {
           "align": "left"
          },
          "hovermode": "closest",
          "mapbox": {
           "style": "light"
          },
          "paper_bgcolor": "white",
          "plot_bgcolor": "#E5ECF6",
          "polar": {
           "angularaxis": {
            "gridcolor": "white",
            "linecolor": "white",
            "ticks": ""
           },
           "bgcolor": "#E5ECF6",
           "radialaxis": {
            "gridcolor": "white",
            "linecolor": "white",
            "ticks": ""
           }
          },
          "scene": {
           "xaxis": {
            "backgroundcolor": "#E5ECF6",
            "gridcolor": "white",
            "gridwidth": 2,
            "linecolor": "white",
            "showbackground": true,
            "ticks": "",
            "zerolinecolor": "white"
           },
           "yaxis": {
            "backgroundcolor": "#E5ECF6",
            "gridcolor": "white",
            "gridwidth": 2,
            "linecolor": "white",
            "showbackground": true,
            "ticks": "",
            "zerolinecolor": "white"
           },
           "zaxis": {
            "backgroundcolor": "#E5ECF6",
            "gridcolor": "white",
            "gridwidth": 2,
            "linecolor": "white",
            "showbackground": true,
            "ticks": "",
            "zerolinecolor": "white"
           }
          },
          "shapedefaults": {
           "line": {
            "color": "#2a3f5f"
           }
          },
          "ternary": {
           "aaxis": {
            "gridcolor": "white",
            "linecolor": "white",
            "ticks": ""
           },
           "baxis": {
            "gridcolor": "white",
            "linecolor": "white",
            "ticks": ""
           },
           "bgcolor": "#E5ECF6",
           "caxis": {
            "gridcolor": "white",
            "linecolor": "white",
            "ticks": ""
           }
          },
          "title": {
           "x": 0.05
          },
          "xaxis": {
           "automargin": true,
           "gridcolor": "white",
           "linecolor": "white",
           "ticks": "",
           "title": {
            "standoff": 15
           },
           "zerolinecolor": "white",
           "zerolinewidth": 2
          },
          "yaxis": {
           "automargin": true,
           "gridcolor": "white",
           "linecolor": "white",
           "ticks": "",
           "title": {
            "standoff": 15
           },
           "zerolinecolor": "white",
           "zerolinewidth": 2
          }
         }
        },
        "title": {
         "text": "Nr of total nuclei by Tissue Location - cellpdia30_sigma4_dilrad4_dnad_obj_seg_v2_gliaero6_gliathr20"
        },
        "xaxis": {
         "anchor": "y",
         "domain": [
          0,
          1
         ],
         "title": {
          "text": "tissue_location"
         }
        },
        "yaxis": {
         "anchor": "x",
         "domain": [
          0,
          1
         ],
         "title": {
          "text": "nr_total_nuclei"
         }
        }
       }
      }
     },
     "metadata": {},
     "output_type": "display_data"
    }
   ],
   "source": [
    "# Create the plot\n",
    "fig = px.scatter(df, x='tissue_location', y='nr_total_nuclei',\n",
    "                 hover_data=['staining_id','index'], title=f'Nr of total nuclei by Tissue Location - {title}')\n",
    "\n",
    "# Show the plot\n",
    "fig.show()"
   ]
  },
  {
   "cell_type": "code",
   "execution_count": 99,
   "metadata": {},
   "outputs": [
    {
     "data": {
      "application/vnd.plotly.v1+json": {
       "config": {
        "plotlyServerURL": "https://plot.ly"
       },
       "data": [
        {
         "customdata": [
          [
           "CA1",
           0
          ],
          [
           "CA3",
           1
          ],
          [
           "CTX1",
           2
          ],
          [
           "CTX2",
           3
          ],
          [
           "CTX3",
           4
          ],
          [
           "DG",
           5
          ],
          [
           "CA1",
           6
          ],
          [
           "CA3",
           7
          ],
          [
           "CTX1",
           8
          ],
          [
           "CTX2",
           9
          ],
          [
           "CTX3",
           10
          ],
          [
           "DG",
           11
          ],
          [
           "CA1",
           12
          ],
          [
           "CA3",
           13
          ],
          [
           "CTX1",
           14
          ],
          [
           "CTX2",
           15
          ],
          [
           "CTX3",
           16
          ],
          [
           "DG",
           17
          ],
          [
           "CA1",
           18
          ],
          [
           "CA3",
           19
          ],
          [
           "CTX1",
           20
          ],
          [
           "CTX2",
           21
          ],
          [
           "CTX3",
           22
          ],
          [
           "DG",
           23
          ],
          [
           "CA1",
           24
          ],
          [
           "CA3",
           25
          ],
          [
           "CTX1",
           26
          ],
          [
           "CTX2",
           27
          ],
          [
           "CTX3",
           28
          ],
          [
           "DG",
           29
          ],
          [
           "CA1",
           30
          ],
          [
           "CA3",
           31
          ],
          [
           "CTX1",
           32
          ],
          [
           "CTX2",
           33
          ],
          [
           "CTX3",
           34
          ],
          [
           "DG",
           35
          ],
          [
           "CA1",
           36
          ],
          [
           "CA3",
           37
          ],
          [
           "CTX1",
           38
          ],
          [
           "CTX2",
           39
          ],
          [
           "CTX3",
           40
          ],
          [
           "DG",
           41
          ],
          [
           "CA1",
           42
          ],
          [
           "CA3",
           43
          ],
          [
           "CTX1",
           44
          ],
          [
           "CTX2",
           45
          ],
          [
           "CTX3",
           46
          ],
          [
           "DG",
           47
          ],
          [
           "CA1",
           48
          ],
          [
           "CA3",
           49
          ],
          [
           "CTX1",
           50
          ],
          [
           "CTX2",
           51
          ],
          [
           "CTX3",
           52
          ],
          [
           "DG",
           53
          ],
          [
           "CA1",
           54
          ],
          [
           "CA3",
           55
          ],
          [
           "CTX1",
           56
          ],
          [
           "CTX2",
           57
          ],
          [
           "CTX3",
           58
          ],
          [
           "DG",
           59
          ],
          [
           "CA1",
           60
          ],
          [
           "CA3",
           61
          ],
          [
           "CTX1",
           62
          ],
          [
           "CTX2",
           63
          ],
          [
           "CTX3",
           64
          ],
          [
           "DG",
           65
          ],
          [
           "DG",
           66
          ],
          [
           "CA1",
           67
          ],
          [
           "CA3",
           68
          ],
          [
           "CTX1",
           69
          ],
          [
           "CTX2",
           70
          ],
          [
           "CTX3",
           71
          ],
          [
           "DG",
           72
          ],
          [
           "CA1",
           73
          ],
          [
           "CA3",
           74
          ],
          [
           "CTX1",
           75
          ],
          [
           "CTX2",
           76
          ],
          [
           "CTX3",
           77
          ],
          [
           "DG",
           78
          ],
          [
           "CA1",
           79
          ],
          [
           "CA3",
           80
          ],
          [
           "CTX1",
           81
          ],
          [
           "CTX2",
           82
          ],
          [
           "CTX3",
           83
          ],
          [
           "DG",
           84
          ],
          [
           "CA1",
           85
          ],
          [
           "CA3",
           86
          ],
          [
           "CTX1",
           87
          ],
          [
           "CTX2",
           88
          ],
          [
           "CTX3",
           89
          ],
          [
           "DG",
           90
          ],
          [
           "CA1",
           91
          ],
          [
           "CA3",
           92
          ],
          [
           "CTX1",
           93
          ],
          [
           "CTX2",
           94
          ],
          [
           "CTX3",
           95
          ],
          [
           "DG",
           96
          ],
          [
           "CA1",
           97
          ],
          [
           "CA3",
           98
          ],
          [
           "CTX1",
           99
          ],
          [
           "CTX2",
           100
          ],
          [
           "CTX3",
           101
          ],
          [
           "DG",
           102
          ],
          [
           "CA1",
           103
          ],
          [
           "CA3",
           104
          ],
          [
           "CTX1",
           105
          ],
          [
           "CTX2",
           106
          ],
          [
           "CTX3",
           107
          ],
          [
           "DG",
           108
          ],
          [
           "CA1",
           109
          ],
          [
           "CA3",
           110
          ],
          [
           "CTX1",
           111
          ],
          [
           "CTX2",
           112
          ],
          [
           "CTX3",
           113
          ],
          [
           "DG",
           114
          ],
          [
           "CA1",
           115
          ],
          [
           "CA3",
           116
          ],
          [
           "CTX1",
           117
          ],
          [
           "CTX2",
           118
          ],
          [
           "CTX3",
           119
          ],
          [
           "DG",
           120
          ],
          [
           "CA1",
           121
          ],
          [
           "CA3",
           122
          ],
          [
           "CTX1",
           123
          ],
          [
           "CTX2",
           124
          ],
          [
           "CTX3",
           125
          ],
          [
           "DG",
           126
          ],
          [
           "DG",
           127
          ],
          [
           "CA1",
           128
          ],
          [
           "CA3",
           129
          ],
          [
           "CTX1",
           130
          ],
          [
           "CTX2",
           131
          ],
          [
           "CTX3",
           132
          ],
          [
           "DG",
           133
          ],
          [
           "CA1",
           134
          ],
          [
           "CA3",
           135
          ],
          [
           "CTX1",
           136
          ],
          [
           "CTX2",
           137
          ],
          [
           "CTX3",
           138
          ],
          [
           "DG",
           139
          ],
          [
           "CA1",
           140
          ],
          [
           "CA3",
           141
          ],
          [
           "CTX1",
           142
          ],
          [
           "CTX2",
           143
          ],
          [
           "CTX3",
           144
          ],
          [
           "DG",
           145
          ],
          [
           "CA1",
           146
          ],
          [
           "CA3",
           147
          ],
          [
           "CTX1",
           148
          ],
          [
           "CTX2",
           149
          ],
          [
           "CTX3",
           150
          ],
          [
           "DG",
           151
          ],
          [
           "CA1",
           152
          ],
          [
           "CA3",
           153
          ],
          [
           "CTX1",
           154
          ],
          [
           "CTX2",
           155
          ],
          [
           "CTX3",
           156
          ],
          [
           "DG",
           157
          ],
          [
           "CA1",
           158
          ],
          [
           "CA3",
           159
          ],
          [
           "CTX1",
           160
          ],
          [
           "DG",
           161
          ],
          [
           "CA1",
           162
          ],
          [
           "CA3",
           163
          ],
          [
           "CTX1",
           164
          ],
          [
           "CTX2",
           165
          ],
          [
           "CTX3",
           166
          ],
          [
           "DG",
           167
          ],
          [
           "CA1",
           168
          ],
          [
           "CA3",
           169
          ],
          [
           "CTX1",
           170
          ],
          [
           "CTX2",
           171
          ],
          [
           "CTX3",
           172
          ],
          [
           "DG",
           173
          ],
          [
           "CA1",
           174
          ],
          [
           "CA3",
           175
          ],
          [
           "CTX1",
           176
          ],
          [
           "CTX2",
           177
          ],
          [
           "CTX3",
           178
          ],
          [
           "DG",
           179
          ],
          [
           "CA1",
           180
          ],
          [
           "CA3",
           181
          ],
          [
           "CTX1",
           182
          ],
          [
           "CTX2",
           183
          ],
          [
           "CTX3",
           184
          ],
          [
           "DG",
           185
          ],
          [
           "CA1",
           186
          ],
          [
           "CA3",
           187
          ],
          [
           "CTX1",
           188
          ],
          [
           "CTX2",
           189
          ],
          [
           "CTX3",
           190
          ],
          [
           "DG",
           191
          ],
          [
           "CA1",
           192
          ],
          [
           "CA3",
           193
          ],
          [
           "CTX1",
           194
          ],
          [
           "CTX2",
           195
          ],
          [
           "CTX3",
           196
          ],
          [
           "DG",
           197
          ],
          [
           "CA1",
           198
          ],
          [
           "CA3",
           199
          ],
          [
           "CTX1",
           200
          ],
          [
           "CTX2",
           201
          ],
          [
           "CTX3",
           202
          ],
          [
           "DG",
           203
          ],
          [
           "CA1",
           204
          ],
          [
           "CA3",
           205
          ],
          [
           "CTX1",
           206
          ],
          [
           "CTX2",
           207
          ],
          [
           "CTX3",
           208
          ],
          [
           "DG",
           209
          ],
          [
           "CA1",
           210
          ],
          [
           "CA3",
           211
          ],
          [
           "CTX1",
           212
          ],
          [
           "CTX2",
           213
          ],
          [
           "CTX3",
           214
          ],
          [
           "DG",
           215
          ],
          [
           "CA1",
           216
          ],
          [
           "CA3",
           217
          ],
          [
           "CTX1",
           218
          ],
          [
           "CTX2",
           219
          ],
          [
           "CTX3",
           220
          ],
          [
           "DG",
           221
          ],
          [
           "CA1",
           222
          ],
          [
           "CA3",
           223
          ],
          [
           "CTX1",
           224
          ],
          [
           "CTX2",
           225
          ],
          [
           "CTX3",
           226
          ],
          [
           "DG",
           227
          ],
          [
           "CA1",
           228
          ],
          [
           "CA3",
           229
          ],
          [
           "CTX1",
           230
          ],
          [
           "CTX2",
           231
          ],
          [
           "CTX3",
           232
          ],
          [
           "DG",
           233
          ],
          [
           "CA1",
           234
          ],
          [
           "CA3",
           235
          ],
          [
           "CTX1",
           236
          ],
          [
           "CTX2",
           237
          ],
          [
           "CTX3",
           238
          ],
          [
           "DG",
           239
          ],
          [
           "CA1",
           240
          ],
          [
           "CA3",
           241
          ],
          [
           "CTX1",
           242
          ],
          [
           "CTX2",
           243
          ],
          [
           "CTX3",
           244
          ],
          [
           "DG",
           245
          ],
          [
           "CA1",
           246
          ],
          [
           "CA3",
           247
          ],
          [
           "CTX1",
           248
          ],
          [
           "CTX2",
           249
          ],
          [
           "CTX3",
           250
          ],
          [
           "DG",
           251
          ]
         ],
         "hovertemplate": "staining_id=%{x}<br>nr_glia_+_nuclei=%{y}<br>tissue_location=%{customdata[0]}<br>index=%{customdata[1]}<extra></extra>",
         "legendgroup": "",
         "marker": {
          "color": "#636efa",
          "symbol": "circle"
         },
         "mode": "markers",
         "name": "",
         "orientation": "v",
         "showlegend": false,
         "type": "scatter",
         "x": [
          16,
          16,
          16,
          16,
          16,
          16,
          17,
          17,
          17,
          17,
          17,
          17,
          18,
          18,
          18,
          18,
          18,
          18,
          19,
          19,
          19,
          19,
          19,
          19,
          20,
          20,
          20,
          20,
          20,
          20,
          21,
          21,
          21,
          21,
          21,
          21,
          22,
          22,
          22,
          22,
          22,
          22,
          23,
          23,
          23,
          23,
          23,
          23,
          24,
          24,
          24,
          24,
          24,
          24,
          25,
          25,
          25,
          25,
          25,
          25,
          26,
          26,
          26,
          26,
          26,
          26,
          27,
          28,
          28,
          28,
          28,
          28,
          28,
          29,
          29,
          29,
          29,
          29,
          29,
          30,
          30,
          30,
          30,
          30,
          30,
          31,
          31,
          31,
          31,
          31,
          31,
          32,
          32,
          32,
          32,
          32,
          32,
          33,
          33,
          33,
          33,
          33,
          33,
          34,
          34,
          34,
          34,
          34,
          34,
          35,
          35,
          35,
          35,
          35,
          35,
          36,
          36,
          36,
          36,
          36,
          36,
          37,
          37,
          37,
          37,
          37,
          37,
          38,
          39,
          39,
          39,
          39,
          39,
          39,
          40,
          40,
          40,
          40,
          40,
          40,
          41,
          41,
          41,
          41,
          41,
          41,
          42,
          42,
          42,
          42,
          42,
          42,
          43,
          43,
          43,
          43,
          43,
          43,
          44,
          44,
          44,
          44,
          45,
          45,
          45,
          45,
          45,
          45,
          46,
          46,
          46,
          46,
          46,
          46,
          47,
          47,
          47,
          47,
          47,
          47,
          48,
          48,
          48,
          48,
          48,
          48,
          49,
          49,
          49,
          49,
          49,
          49,
          50,
          50,
          50,
          50,
          50,
          50,
          51,
          51,
          51,
          51,
          51,
          51,
          52,
          52,
          52,
          52,
          52,
          52,
          53,
          53,
          53,
          53,
          53,
          53,
          54,
          54,
          54,
          54,
          54,
          54,
          55,
          55,
          55,
          55,
          55,
          55,
          56,
          56,
          56,
          56,
          56,
          56,
          57,
          57,
          57,
          57,
          57,
          57,
          58,
          58,
          58,
          58,
          58,
          58,
          59,
          59,
          59,
          59,
          59,
          59
         ],
         "xaxis": "x",
         "y": [
          154,
          173,
          36,
          253,
          118,
          211,
          11,
          20,
          18,
          50,
          35,
          85,
          12,
          15,
          23,
          17,
          16,
          59,
          49,
          53,
          148,
          46,
          72,
          52,
          7,
          7,
          7,
          19,
          3,
          8,
          11,
          4,
          20,
          16,
          23,
          13,
          15,
          6,
          11,
          17,
          8,
          9,
          7,
          6,
          27,
          4,
          11,
          11,
          7,
          4,
          20,
          22,
          18,
          7,
          8,
          9,
          24,
          25,
          8,
          12,
          8,
          6,
          17,
          23,
          31,
          8,
          4,
          2,
          2,
          6,
          13,
          12,
          13,
          10,
          5,
          20,
          23,
          16,
          5,
          6,
          4,
          22,
          20,
          14,
          6,
          10,
          1,
          14,
          15,
          16,
          12,
          16,
          17,
          37,
          49,
          33,
          50,
          5,
          9,
          10,
          13,
          10,
          6,
          8,
          6,
          28,
          40,
          26,
          23,
          9,
          25,
          22,
          129,
          78,
          97,
          12,
          8,
          17,
          30,
          11,
          5,
          7,
          11,
          18,
          31,
          36,
          8,
          4,
          6,
          5,
          2,
          7,
          4,
          8,
          4,
          8,
          23,
          11,
          21,
          5,
          4,
          4,
          0,
          6,
          5,
          6,
          3,
          6,
          9,
          15,
          10,
          6,
          12,
          5,
          25,
          23,
          14,
          21,
          26,
          20,
          78,
          74,
          14,
          6,
          16,
          25,
          19,
          13,
          39,
          41,
          88,
          120,
          71,
          65,
          18,
          17,
          31,
          78,
          37,
          8,
          7,
          4,
          35,
          22,
          20,
          15,
          17,
          20,
          21,
          22,
          16,
          19,
          11,
          11,
          22,
          15,
          31,
          12,
          15,
          10,
          16,
          27,
          26,
          17,
          7,
          6,
          25,
          32,
          27,
          13,
          8,
          8,
          32,
          32,
          16,
          18,
          5,
          3,
          14,
          13,
          21,
          14,
          8,
          3,
          9,
          10,
          6,
          8,
          13,
          15,
          22,
          22,
          32,
          16,
          13,
          12,
          13,
          12,
          14,
          30,
          5,
          6,
          18,
          18,
          8,
          3,
          6,
          5,
          10,
          25,
          24,
          7
         ],
         "yaxis": "y"
        }
       ],
       "layout": {
        "legend": {
         "tracegroupgap": 0
        },
        "template": {
         "data": {
          "bar": [
           {
            "error_x": {
             "color": "#2a3f5f"
            },
            "error_y": {
             "color": "#2a3f5f"
            },
            "marker": {
             "line": {
              "color": "#E5ECF6",
              "width": 0.5
             },
             "pattern": {
              "fillmode": "overlay",
              "size": 10,
              "solidity": 0.2
             }
            },
            "type": "bar"
           }
          ],
          "barpolar": [
           {
            "marker": {
             "line": {
              "color": "#E5ECF6",
              "width": 0.5
             },
             "pattern": {
              "fillmode": "overlay",
              "size": 10,
              "solidity": 0.2
             }
            },
            "type": "barpolar"
           }
          ],
          "carpet": [
           {
            "aaxis": {
             "endlinecolor": "#2a3f5f",
             "gridcolor": "white",
             "linecolor": "white",
             "minorgridcolor": "white",
             "startlinecolor": "#2a3f5f"
            },
            "baxis": {
             "endlinecolor": "#2a3f5f",
             "gridcolor": "white",
             "linecolor": "white",
             "minorgridcolor": "white",
             "startlinecolor": "#2a3f5f"
            },
            "type": "carpet"
           }
          ],
          "choropleth": [
           {
            "colorbar": {
             "outlinewidth": 0,
             "ticks": ""
            },
            "type": "choropleth"
           }
          ],
          "contour": [
           {
            "colorbar": {
             "outlinewidth": 0,
             "ticks": ""
            },
            "colorscale": [
             [
              0,
              "#0d0887"
             ],
             [
              0.1111111111111111,
              "#46039f"
             ],
             [
              0.2222222222222222,
              "#7201a8"
             ],
             [
              0.3333333333333333,
              "#9c179e"
             ],
             [
              0.4444444444444444,
              "#bd3786"
             ],
             [
              0.5555555555555556,
              "#d8576b"
             ],
             [
              0.6666666666666666,
              "#ed7953"
             ],
             [
              0.7777777777777778,
              "#fb9f3a"
             ],
             [
              0.8888888888888888,
              "#fdca26"
             ],
             [
              1,
              "#f0f921"
             ]
            ],
            "type": "contour"
           }
          ],
          "contourcarpet": [
           {
            "colorbar": {
             "outlinewidth": 0,
             "ticks": ""
            },
            "type": "contourcarpet"
           }
          ],
          "heatmap": [
           {
            "colorbar": {
             "outlinewidth": 0,
             "ticks": ""
            },
            "colorscale": [
             [
              0,
              "#0d0887"
             ],
             [
              0.1111111111111111,
              "#46039f"
             ],
             [
              0.2222222222222222,
              "#7201a8"
             ],
             [
              0.3333333333333333,
              "#9c179e"
             ],
             [
              0.4444444444444444,
              "#bd3786"
             ],
             [
              0.5555555555555556,
              "#d8576b"
             ],
             [
              0.6666666666666666,
              "#ed7953"
             ],
             [
              0.7777777777777778,
              "#fb9f3a"
             ],
             [
              0.8888888888888888,
              "#fdca26"
             ],
             [
              1,
              "#f0f921"
             ]
            ],
            "type": "heatmap"
           }
          ],
          "heatmapgl": [
           {
            "colorbar": {
             "outlinewidth": 0,
             "ticks": ""
            },
            "colorscale": [
             [
              0,
              "#0d0887"
             ],
             [
              0.1111111111111111,
              "#46039f"
             ],
             [
              0.2222222222222222,
              "#7201a8"
             ],
             [
              0.3333333333333333,
              "#9c179e"
             ],
             [
              0.4444444444444444,
              "#bd3786"
             ],
             [
              0.5555555555555556,
              "#d8576b"
             ],
             [
              0.6666666666666666,
              "#ed7953"
             ],
             [
              0.7777777777777778,
              "#fb9f3a"
             ],
             [
              0.8888888888888888,
              "#fdca26"
             ],
             [
              1,
              "#f0f921"
             ]
            ],
            "type": "heatmapgl"
           }
          ],
          "histogram": [
           {
            "marker": {
             "pattern": {
              "fillmode": "overlay",
              "size": 10,
              "solidity": 0.2
             }
            },
            "type": "histogram"
           }
          ],
          "histogram2d": [
           {
            "colorbar": {
             "outlinewidth": 0,
             "ticks": ""
            },
            "colorscale": [
             [
              0,
              "#0d0887"
             ],
             [
              0.1111111111111111,
              "#46039f"
             ],
             [
              0.2222222222222222,
              "#7201a8"
             ],
             [
              0.3333333333333333,
              "#9c179e"
             ],
             [
              0.4444444444444444,
              "#bd3786"
             ],
             [
              0.5555555555555556,
              "#d8576b"
             ],
             [
              0.6666666666666666,
              "#ed7953"
             ],
             [
              0.7777777777777778,
              "#fb9f3a"
             ],
             [
              0.8888888888888888,
              "#fdca26"
             ],
             [
              1,
              "#f0f921"
             ]
            ],
            "type": "histogram2d"
           }
          ],
          "histogram2dcontour": [
           {
            "colorbar": {
             "outlinewidth": 0,
             "ticks": ""
            },
            "colorscale": [
             [
              0,
              "#0d0887"
             ],
             [
              0.1111111111111111,
              "#46039f"
             ],
             [
              0.2222222222222222,
              "#7201a8"
             ],
             [
              0.3333333333333333,
              "#9c179e"
             ],
             [
              0.4444444444444444,
              "#bd3786"
             ],
             [
              0.5555555555555556,
              "#d8576b"
             ],
             [
              0.6666666666666666,
              "#ed7953"
             ],
             [
              0.7777777777777778,
              "#fb9f3a"
             ],
             [
              0.8888888888888888,
              "#fdca26"
             ],
             [
              1,
              "#f0f921"
             ]
            ],
            "type": "histogram2dcontour"
           }
          ],
          "mesh3d": [
           {
            "colorbar": {
             "outlinewidth": 0,
             "ticks": ""
            },
            "type": "mesh3d"
           }
          ],
          "parcoords": [
           {
            "line": {
             "colorbar": {
              "outlinewidth": 0,
              "ticks": ""
             }
            },
            "type": "parcoords"
           }
          ],
          "pie": [
           {
            "automargin": true,
            "type": "pie"
           }
          ],
          "scatter": [
           {
            "fillpattern": {
             "fillmode": "overlay",
             "size": 10,
             "solidity": 0.2
            },
            "type": "scatter"
           }
          ],
          "scatter3d": [
           {
            "line": {
             "colorbar": {
              "outlinewidth": 0,
              "ticks": ""
             }
            },
            "marker": {
             "colorbar": {
              "outlinewidth": 0,
              "ticks": ""
             }
            },
            "type": "scatter3d"
           }
          ],
          "scattercarpet": [
           {
            "marker": {
             "colorbar": {
              "outlinewidth": 0,
              "ticks": ""
             }
            },
            "type": "scattercarpet"
           }
          ],
          "scattergeo": [
           {
            "marker": {
             "colorbar": {
              "outlinewidth": 0,
              "ticks": ""
             }
            },
            "type": "scattergeo"
           }
          ],
          "scattergl": [
           {
            "marker": {
             "colorbar": {
              "outlinewidth": 0,
              "ticks": ""
             }
            },
            "type": "scattergl"
           }
          ],
          "scattermapbox": [
           {
            "marker": {
             "colorbar": {
              "outlinewidth": 0,
              "ticks": ""
             }
            },
            "type": "scattermapbox"
           }
          ],
          "scatterpolar": [
           {
            "marker": {
             "colorbar": {
              "outlinewidth": 0,
              "ticks": ""
             }
            },
            "type": "scatterpolar"
           }
          ],
          "scatterpolargl": [
           {
            "marker": {
             "colorbar": {
              "outlinewidth": 0,
              "ticks": ""
             }
            },
            "type": "scatterpolargl"
           }
          ],
          "scatterternary": [
           {
            "marker": {
             "colorbar": {
              "outlinewidth": 0,
              "ticks": ""
             }
            },
            "type": "scatterternary"
           }
          ],
          "surface": [
           {
            "colorbar": {
             "outlinewidth": 0,
             "ticks": ""
            },
            "colorscale": [
             [
              0,
              "#0d0887"
             ],
             [
              0.1111111111111111,
              "#46039f"
             ],
             [
              0.2222222222222222,
              "#7201a8"
             ],
             [
              0.3333333333333333,
              "#9c179e"
             ],
             [
              0.4444444444444444,
              "#bd3786"
             ],
             [
              0.5555555555555556,
              "#d8576b"
             ],
             [
              0.6666666666666666,
              "#ed7953"
             ],
             [
              0.7777777777777778,
              "#fb9f3a"
             ],
             [
              0.8888888888888888,
              "#fdca26"
             ],
             [
              1,
              "#f0f921"
             ]
            ],
            "type": "surface"
           }
          ],
          "table": [
           {
            "cells": {
             "fill": {
              "color": "#EBF0F8"
             },
             "line": {
              "color": "white"
             }
            },
            "header": {
             "fill": {
              "color": "#C8D4E3"
             },
             "line": {
              "color": "white"
             }
            },
            "type": "table"
           }
          ]
         },
         "layout": {
          "annotationdefaults": {
           "arrowcolor": "#2a3f5f",
           "arrowhead": 0,
           "arrowwidth": 1
          },
          "autotypenumbers": "strict",
          "coloraxis": {
           "colorbar": {
            "outlinewidth": 0,
            "ticks": ""
           }
          },
          "colorscale": {
           "diverging": [
            [
             0,
             "#8e0152"
            ],
            [
             0.1,
             "#c51b7d"
            ],
            [
             0.2,
             "#de77ae"
            ],
            [
             0.3,
             "#f1b6da"
            ],
            [
             0.4,
             "#fde0ef"
            ],
            [
             0.5,
             "#f7f7f7"
            ],
            [
             0.6,
             "#e6f5d0"
            ],
            [
             0.7,
             "#b8e186"
            ],
            [
             0.8,
             "#7fbc41"
            ],
            [
             0.9,
             "#4d9221"
            ],
            [
             1,
             "#276419"
            ]
           ],
           "sequential": [
            [
             0,
             "#0d0887"
            ],
            [
             0.1111111111111111,
             "#46039f"
            ],
            [
             0.2222222222222222,
             "#7201a8"
            ],
            [
             0.3333333333333333,
             "#9c179e"
            ],
            [
             0.4444444444444444,
             "#bd3786"
            ],
            [
             0.5555555555555556,
             "#d8576b"
            ],
            [
             0.6666666666666666,
             "#ed7953"
            ],
            [
             0.7777777777777778,
             "#fb9f3a"
            ],
            [
             0.8888888888888888,
             "#fdca26"
            ],
            [
             1,
             "#f0f921"
            ]
           ],
           "sequentialminus": [
            [
             0,
             "#0d0887"
            ],
            [
             0.1111111111111111,
             "#46039f"
            ],
            [
             0.2222222222222222,
             "#7201a8"
            ],
            [
             0.3333333333333333,
             "#9c179e"
            ],
            [
             0.4444444444444444,
             "#bd3786"
            ],
            [
             0.5555555555555556,
             "#d8576b"
            ],
            [
             0.6666666666666666,
             "#ed7953"
            ],
            [
             0.7777777777777778,
             "#fb9f3a"
            ],
            [
             0.8888888888888888,
             "#fdca26"
            ],
            [
             1,
             "#f0f921"
            ]
           ]
          },
          "colorway": [
           "#636efa",
           "#EF553B",
           "#00cc96",
           "#ab63fa",
           "#FFA15A",
           "#19d3f3",
           "#FF6692",
           "#B6E880",
           "#FF97FF",
           "#FECB52"
          ],
          "font": {
           "color": "#2a3f5f"
          },
          "geo": {
           "bgcolor": "white",
           "lakecolor": "white",
           "landcolor": "#E5ECF6",
           "showlakes": true,
           "showland": true,
           "subunitcolor": "white"
          },
          "hoverlabel": {
           "align": "left"
          },
          "hovermode": "closest",
          "mapbox": {
           "style": "light"
          },
          "paper_bgcolor": "white",
          "plot_bgcolor": "#E5ECF6",
          "polar": {
           "angularaxis": {
            "gridcolor": "white",
            "linecolor": "white",
            "ticks": ""
           },
           "bgcolor": "#E5ECF6",
           "radialaxis": {
            "gridcolor": "white",
            "linecolor": "white",
            "ticks": ""
           }
          },
          "scene": {
           "xaxis": {
            "backgroundcolor": "#E5ECF6",
            "gridcolor": "white",
            "gridwidth": 2,
            "linecolor": "white",
            "showbackground": true,
            "ticks": "",
            "zerolinecolor": "white"
           },
           "yaxis": {
            "backgroundcolor": "#E5ECF6",
            "gridcolor": "white",
            "gridwidth": 2,
            "linecolor": "white",
            "showbackground": true,
            "ticks": "",
            "zerolinecolor": "white"
           },
           "zaxis": {
            "backgroundcolor": "#E5ECF6",
            "gridcolor": "white",
            "gridwidth": 2,
            "linecolor": "white",
            "showbackground": true,
            "ticks": "",
            "zerolinecolor": "white"
           }
          },
          "shapedefaults": {
           "line": {
            "color": "#2a3f5f"
           }
          },
          "ternary": {
           "aaxis": {
            "gridcolor": "white",
            "linecolor": "white",
            "ticks": ""
           },
           "baxis": {
            "gridcolor": "white",
            "linecolor": "white",
            "ticks": ""
           },
           "bgcolor": "#E5ECF6",
           "caxis": {
            "gridcolor": "white",
            "linecolor": "white",
            "ticks": ""
           }
          },
          "title": {
           "x": 0.05
          },
          "xaxis": {
           "automargin": true,
           "gridcolor": "white",
           "linecolor": "white",
           "ticks": "",
           "title": {
            "standoff": 15
           },
           "zerolinecolor": "white",
           "zerolinewidth": 2
          },
          "yaxis": {
           "automargin": true,
           "gridcolor": "white",
           "linecolor": "white",
           "ticks": "",
           "title": {
            "standoff": 15
           },
           "zerolinecolor": "white",
           "zerolinewidth": 2
          }
         }
        },
        "title": {
         "text": "Nr of glia+ nuclei by Sample - cellpdia30_sigma4_dilrad4_dnad_obj_seg_v2_gliaero6_gliathr20"
        },
        "xaxis": {
         "anchor": "y",
         "domain": [
          0,
          1
         ],
         "title": {
          "text": "staining_id"
         }
        },
        "yaxis": {
         "anchor": "x",
         "domain": [
          0,
          1
         ],
         "title": {
          "text": "nr_glia_+_nuclei"
         }
        }
       }
      }
     },
     "metadata": {},
     "output_type": "display_data"
    }
   ],
   "source": [
    "# Create the plot\n",
    "fig = px.scatter(df, x='staining_id', y='nr_glia_+_nuclei',\n",
    "                 hover_data=['tissue_location','index'], title=f'Nr of glia+ nuclei by Sample - {title}')\n",
    "\n",
    "# Show the plot\n",
    "fig.show()"
   ]
  },
  {
   "cell_type": "code",
   "execution_count": 100,
   "metadata": {},
   "outputs": [
    {
     "data": {
      "application/vnd.plotly.v1+json": {
       "config": {
        "plotlyServerURL": "https://plot.ly"
       },
       "data": [
        {
         "customdata": [
          [
           "CA1",
           0
          ],
          [
           "CA3",
           1
          ],
          [
           "CTX1",
           2
          ],
          [
           "CTX2",
           3
          ],
          [
           "CTX3",
           4
          ],
          [
           "DG",
           5
          ],
          [
           "CA1",
           6
          ],
          [
           "CA3",
           7
          ],
          [
           "CTX1",
           8
          ],
          [
           "CTX2",
           9
          ],
          [
           "CTX3",
           10
          ],
          [
           "DG",
           11
          ],
          [
           "CA1",
           12
          ],
          [
           "CA3",
           13
          ],
          [
           "CTX1",
           14
          ],
          [
           "CTX2",
           15
          ],
          [
           "CTX3",
           16
          ],
          [
           "DG",
           17
          ],
          [
           "CA1",
           18
          ],
          [
           "CA3",
           19
          ],
          [
           "CTX1",
           20
          ],
          [
           "CTX2",
           21
          ],
          [
           "CTX3",
           22
          ],
          [
           "DG",
           23
          ],
          [
           "CA1",
           24
          ],
          [
           "CA3",
           25
          ],
          [
           "CTX1",
           26
          ],
          [
           "CTX2",
           27
          ],
          [
           "CTX3",
           28
          ],
          [
           "DG",
           29
          ],
          [
           "CA1",
           30
          ],
          [
           "CA3",
           31
          ],
          [
           "CTX1",
           32
          ],
          [
           "CTX2",
           33
          ],
          [
           "CTX3",
           34
          ],
          [
           "DG",
           35
          ],
          [
           "CA1",
           36
          ],
          [
           "CA3",
           37
          ],
          [
           "CTX1",
           38
          ],
          [
           "CTX2",
           39
          ],
          [
           "CTX3",
           40
          ],
          [
           "DG",
           41
          ],
          [
           "CA1",
           42
          ],
          [
           "CA3",
           43
          ],
          [
           "CTX1",
           44
          ],
          [
           "CTX2",
           45
          ],
          [
           "CTX3",
           46
          ],
          [
           "DG",
           47
          ],
          [
           "CA1",
           48
          ],
          [
           "CA3",
           49
          ],
          [
           "CTX1",
           50
          ],
          [
           "CTX2",
           51
          ],
          [
           "CTX3",
           52
          ],
          [
           "DG",
           53
          ],
          [
           "CA1",
           54
          ],
          [
           "CA3",
           55
          ],
          [
           "CTX1",
           56
          ],
          [
           "CTX2",
           57
          ],
          [
           "CTX3",
           58
          ],
          [
           "DG",
           59
          ],
          [
           "CA1",
           60
          ],
          [
           "CA3",
           61
          ],
          [
           "CTX1",
           62
          ],
          [
           "CTX2",
           63
          ],
          [
           "CTX3",
           64
          ],
          [
           "DG",
           65
          ],
          [
           "DG",
           66
          ],
          [
           "CA1",
           67
          ],
          [
           "CA3",
           68
          ],
          [
           "CTX1",
           69
          ],
          [
           "CTX2",
           70
          ],
          [
           "CTX3",
           71
          ],
          [
           "DG",
           72
          ],
          [
           "CA1",
           73
          ],
          [
           "CA3",
           74
          ],
          [
           "CTX1",
           75
          ],
          [
           "CTX2",
           76
          ],
          [
           "CTX3",
           77
          ],
          [
           "DG",
           78
          ],
          [
           "CA1",
           79
          ],
          [
           "CA3",
           80
          ],
          [
           "CTX1",
           81
          ],
          [
           "CTX2",
           82
          ],
          [
           "CTX3",
           83
          ],
          [
           "DG",
           84
          ],
          [
           "CA1",
           85
          ],
          [
           "CA3",
           86
          ],
          [
           "CTX1",
           87
          ],
          [
           "CTX2",
           88
          ],
          [
           "CTX3",
           89
          ],
          [
           "DG",
           90
          ],
          [
           "CA1",
           91
          ],
          [
           "CA3",
           92
          ],
          [
           "CTX1",
           93
          ],
          [
           "CTX2",
           94
          ],
          [
           "CTX3",
           95
          ],
          [
           "DG",
           96
          ],
          [
           "CA1",
           97
          ],
          [
           "CA3",
           98
          ],
          [
           "CTX1",
           99
          ],
          [
           "CTX2",
           100
          ],
          [
           "CTX3",
           101
          ],
          [
           "DG",
           102
          ],
          [
           "CA1",
           103
          ],
          [
           "CA3",
           104
          ],
          [
           "CTX1",
           105
          ],
          [
           "CTX2",
           106
          ],
          [
           "CTX3",
           107
          ],
          [
           "DG",
           108
          ],
          [
           "CA1",
           109
          ],
          [
           "CA3",
           110
          ],
          [
           "CTX1",
           111
          ],
          [
           "CTX2",
           112
          ],
          [
           "CTX3",
           113
          ],
          [
           "DG",
           114
          ],
          [
           "CA1",
           115
          ],
          [
           "CA3",
           116
          ],
          [
           "CTX1",
           117
          ],
          [
           "CTX2",
           118
          ],
          [
           "CTX3",
           119
          ],
          [
           "DG",
           120
          ],
          [
           "CA1",
           121
          ],
          [
           "CA3",
           122
          ],
          [
           "CTX1",
           123
          ],
          [
           "CTX2",
           124
          ],
          [
           "CTX3",
           125
          ],
          [
           "DG",
           126
          ],
          [
           "DG",
           127
          ],
          [
           "CA1",
           128
          ],
          [
           "CA3",
           129
          ],
          [
           "CTX1",
           130
          ],
          [
           "CTX2",
           131
          ],
          [
           "CTX3",
           132
          ],
          [
           "DG",
           133
          ],
          [
           "CA1",
           134
          ],
          [
           "CA3",
           135
          ],
          [
           "CTX1",
           136
          ],
          [
           "CTX2",
           137
          ],
          [
           "CTX3",
           138
          ],
          [
           "DG",
           139
          ],
          [
           "CA1",
           140
          ],
          [
           "CA3",
           141
          ],
          [
           "CTX1",
           142
          ],
          [
           "CTX2",
           143
          ],
          [
           "CTX3",
           144
          ],
          [
           "DG",
           145
          ],
          [
           "CA1",
           146
          ],
          [
           "CA3",
           147
          ],
          [
           "CTX1",
           148
          ],
          [
           "CTX2",
           149
          ],
          [
           "CTX3",
           150
          ],
          [
           "DG",
           151
          ],
          [
           "CA1",
           152
          ],
          [
           "CA3",
           153
          ],
          [
           "CTX1",
           154
          ],
          [
           "CTX2",
           155
          ],
          [
           "CTX3",
           156
          ],
          [
           "DG",
           157
          ],
          [
           "CA1",
           158
          ],
          [
           "CA3",
           159
          ],
          [
           "CTX1",
           160
          ],
          [
           "DG",
           161
          ],
          [
           "CA1",
           162
          ],
          [
           "CA3",
           163
          ],
          [
           "CTX1",
           164
          ],
          [
           "CTX2",
           165
          ],
          [
           "CTX3",
           166
          ],
          [
           "DG",
           167
          ],
          [
           "CA1",
           168
          ],
          [
           "CA3",
           169
          ],
          [
           "CTX1",
           170
          ],
          [
           "CTX2",
           171
          ],
          [
           "CTX3",
           172
          ],
          [
           "DG",
           173
          ],
          [
           "CA1",
           174
          ],
          [
           "CA3",
           175
          ],
          [
           "CTX1",
           176
          ],
          [
           "CTX2",
           177
          ],
          [
           "CTX3",
           178
          ],
          [
           "DG",
           179
          ],
          [
           "CA1",
           180
          ],
          [
           "CA3",
           181
          ],
          [
           "CTX1",
           182
          ],
          [
           "CTX2",
           183
          ],
          [
           "CTX3",
           184
          ],
          [
           "DG",
           185
          ],
          [
           "CA1",
           186
          ],
          [
           "CA3",
           187
          ],
          [
           "CTX1",
           188
          ],
          [
           "CTX2",
           189
          ],
          [
           "CTX3",
           190
          ],
          [
           "DG",
           191
          ],
          [
           "CA1",
           192
          ],
          [
           "CA3",
           193
          ],
          [
           "CTX1",
           194
          ],
          [
           "CTX2",
           195
          ],
          [
           "CTX3",
           196
          ],
          [
           "DG",
           197
          ],
          [
           "CA1",
           198
          ],
          [
           "CA3",
           199
          ],
          [
           "CTX1",
           200
          ],
          [
           "CTX2",
           201
          ],
          [
           "CTX3",
           202
          ],
          [
           "DG",
           203
          ],
          [
           "CA1",
           204
          ],
          [
           "CA3",
           205
          ],
          [
           "CTX1",
           206
          ],
          [
           "CTX2",
           207
          ],
          [
           "CTX3",
           208
          ],
          [
           "DG",
           209
          ],
          [
           "CA1",
           210
          ],
          [
           "CA3",
           211
          ],
          [
           "CTX1",
           212
          ],
          [
           "CTX2",
           213
          ],
          [
           "CTX3",
           214
          ],
          [
           "DG",
           215
          ],
          [
           "CA1",
           216
          ],
          [
           "CA3",
           217
          ],
          [
           "CTX1",
           218
          ],
          [
           "CTX2",
           219
          ],
          [
           "CTX3",
           220
          ],
          [
           "DG",
           221
          ],
          [
           "CA1",
           222
          ],
          [
           "CA3",
           223
          ],
          [
           "CTX1",
           224
          ],
          [
           "CTX2",
           225
          ],
          [
           "CTX3",
           226
          ],
          [
           "DG",
           227
          ],
          [
           "CA1",
           228
          ],
          [
           "CA3",
           229
          ],
          [
           "CTX1",
           230
          ],
          [
           "CTX2",
           231
          ],
          [
           "CTX3",
           232
          ],
          [
           "DG",
           233
          ],
          [
           "CA1",
           234
          ],
          [
           "CA3",
           235
          ],
          [
           "CTX1",
           236
          ],
          [
           "CTX2",
           237
          ],
          [
           "CTX3",
           238
          ],
          [
           "DG",
           239
          ],
          [
           "CA1",
           240
          ],
          [
           "CA3",
           241
          ],
          [
           "CTX1",
           242
          ],
          [
           "CTX2",
           243
          ],
          [
           "CTX3",
           244
          ],
          [
           "DG",
           245
          ],
          [
           "CA1",
           246
          ],
          [
           "CA3",
           247
          ],
          [
           "CTX1",
           248
          ],
          [
           "CTX2",
           249
          ],
          [
           "CTX3",
           250
          ],
          [
           "DG",
           251
          ]
         ],
         "hovertemplate": "staining_id=%{x}<br>%_dna_damage_signal=%{y}<br>tissue_location=%{customdata[0]}<br>index=%{customdata[1]}<extra></extra>",
         "legendgroup": "",
         "marker": {
          "color": "#636efa",
          "symbol": "circle"
         },
         "mode": "markers",
         "name": "",
         "orientation": "v",
         "showlegend": false,
         "type": "scatter",
         "x": [
          16,
          16,
          16,
          16,
          16,
          16,
          17,
          17,
          17,
          17,
          17,
          17,
          18,
          18,
          18,
          18,
          18,
          18,
          19,
          19,
          19,
          19,
          19,
          19,
          20,
          20,
          20,
          20,
          20,
          20,
          21,
          21,
          21,
          21,
          21,
          21,
          22,
          22,
          22,
          22,
          22,
          22,
          23,
          23,
          23,
          23,
          23,
          23,
          24,
          24,
          24,
          24,
          24,
          24,
          25,
          25,
          25,
          25,
          25,
          25,
          26,
          26,
          26,
          26,
          26,
          26,
          27,
          28,
          28,
          28,
          28,
          28,
          28,
          29,
          29,
          29,
          29,
          29,
          29,
          30,
          30,
          30,
          30,
          30,
          30,
          31,
          31,
          31,
          31,
          31,
          31,
          32,
          32,
          32,
          32,
          32,
          32,
          33,
          33,
          33,
          33,
          33,
          33,
          34,
          34,
          34,
          34,
          34,
          34,
          35,
          35,
          35,
          35,
          35,
          35,
          36,
          36,
          36,
          36,
          36,
          36,
          37,
          37,
          37,
          37,
          37,
          37,
          38,
          39,
          39,
          39,
          39,
          39,
          39,
          40,
          40,
          40,
          40,
          40,
          40,
          41,
          41,
          41,
          41,
          41,
          41,
          42,
          42,
          42,
          42,
          42,
          42,
          43,
          43,
          43,
          43,
          43,
          43,
          44,
          44,
          44,
          44,
          45,
          45,
          45,
          45,
          45,
          45,
          46,
          46,
          46,
          46,
          46,
          46,
          47,
          47,
          47,
          47,
          47,
          47,
          48,
          48,
          48,
          48,
          48,
          48,
          49,
          49,
          49,
          49,
          49,
          49,
          50,
          50,
          50,
          50,
          50,
          50,
          51,
          51,
          51,
          51,
          51,
          51,
          52,
          52,
          52,
          52,
          52,
          52,
          53,
          53,
          53,
          53,
          53,
          53,
          54,
          54,
          54,
          54,
          54,
          54,
          55,
          55,
          55,
          55,
          55,
          55,
          56,
          56,
          56,
          56,
          56,
          56,
          57,
          57,
          57,
          57,
          57,
          57,
          58,
          58,
          58,
          58,
          58,
          58,
          59,
          59,
          59,
          59,
          59,
          59
         ],
         "xaxis": "x",
         "y": [
          0.2091407775878906,
          0.51116943359375,
          0.1309394836425781,
          0.2966880798339844,
          0.3927230834960937,
          0.2111434936523437,
          0.1756668090820312,
          0.3710746765136719,
          0.1898765563964843,
          0.3108024597167969,
          0.6266593933105469,
          0.3207206726074219,
          0.4940032958984375,
          0.3874778747558594,
          0.0653266906738281,
          0.139617919921875,
          0.1470565795898437,
          2.2159576416015625,
          3.579425811767578,
          2.8852462768554688,
          1.7218589782714844,
          0.6727218627929688,
          0.3107070922851562,
          4.388236999511719,
          0.3499984741210937,
          0.4387855529785156,
          0.1902580261230468,
          0.4044532775878906,
          0.2260208129882812,
          0.9352684020996094,
          0.3556251525878906,
          0.342559814453125,
          0.4111289978027344,
          0.4201889038085937,
          0.366973876953125,
          0.9407997131347656,
          0.4444122314453125,
          0.5006790161132812,
          0.5188941955566406,
          0.5146026611328125,
          0.1000404357910156,
          1.319122314453125,
          0.26092529296875,
          0.2226829528808593,
          0.1782417297363281,
          0.0226020812988281,
          0.235748291015625,
          0.6613731384277344,
          0.1312255859375,
          0.1104354858398437,
          0.0873565673828125,
          0.096893310546875,
          0.0979423522949218,
          0.0400543212890625,
          0.4874229431152344,
          0.4986763000488281,
          0.2181053161621093,
          0.3881454467773437,
          0.5010604858398438,
          1.6371726989746094,
          0.2736091613769531,
          0.4375457763671875,
          0.81024169921875,
          0.482177734375,
          0.7335662841796875,
          0.4869461059570312,
          0.9477615356445312,
          0.469970703125,
          0.3864288330078125,
          0.5664825439453125,
          0.22430419921875,
          0.3245353698730469,
          1.7148971557617188,
          0.3452301025390625,
          0.3023147583007812,
          0.3643989562988281,
          0.551605224609375,
          0.197601318359375,
          0.8409500122070312,
          0.1756668090820312,
          0.3167152404785156,
          0.2023696899414062,
          0.2282142639160156,
          0.1043319702148437,
          0.5678176879882812,
          0.3924369812011719,
          0.6452560424804688,
          0.1832008361816406,
          0.2105712890625,
          0.3072738647460937,
          0.8093833923339844,
          0.3122329711914062,
          0.6804466247558594,
          0.3292083740234375,
          0.4338264465332031,
          0.357818603515625,
          0.4597663879394531,
          0.3518104553222656,
          0.6498336791992188,
          0.5475997924804688,
          0.5225181579589844,
          0.3183364868164062,
          1.3701438903808594,
          0.7212638854980469,
          1.6454696655273438,
          0.8446693420410156,
          0.832366943359375,
          1.5863418579101562,
          1.4467239379882812,
          0.1296043395996093,
          0.4532814025878906,
          0.1482009887695312,
          0.4270553588867187,
          0.431060791015625,
          0.8222579956054688,
          0.6620407104492188,
          0.5223274230957031,
          0.8052825927734375,
          0.7004737854003906,
          0.55999755859375,
          1.6710281372070312,
          0.3253936767578125,
          0.4072189331054687,
          0.4077911376953125,
          0.6011009216308594,
          0.5366325378417969,
          1.0011672973632812,
          0.4906654357910156,
          0.3540992736816406,
          0.4584312438964844,
          0.1890182495117187,
          0.1605987548828125,
          0.0987052917480468,
          0.605010986328125,
          0.218963623046875,
          0.2492904663085937,
          0.3066062927246094,
          0.2209663391113281,
          0.2966880798339844,
          0.9131431579589844,
          0.3262519836425781,
          0.18768310546875,
          0.0269889831542968,
          0.0275611877441406,
          0.0303268432617187,
          0.931072235107422,
          0.2306938171386718,
          0.2771377563476562,
          0.1832008361816406,
          0.1685142517089843,
          0.2580642700195312,
          0.4704475402832031,
          0.1489639282226562,
          0.9355545043945312,
          0.5117416381835938,
          0.15716552734375,
          0.3485679626464844,
          1.4261245727539062,
          1.113128662109375,
          2.1190643310546875,
          2.3599624633789062,
          1.580524444580078,
          0.5681037902832031,
          0.5382537841796875,
          0.2050399780273437,
          0.1779556274414062,
          0.1420021057128906,
          1.7207145690917969,
          0.6361007690429688,
          0.6049156188964844,
          0.4398345947265625,
          0.2292633056640625,
          0.3893852233886719,
          0.6394386291503906,
          0.3175735473632812,
          0.5910873413085938,
          0.0922203063964843,
          0.3137588500976562,
          0.368499755859375,
          0.9806632995605468,
          0.3435134887695312,
          0.2569198608398437,
          0.3069877624511719,
          0.4039764404296875,
          0.3843307495117187,
          1.1247634887695312,
          0.3559112548828125,
          0.0613212585449218,
          0.2826690673828125,
          0.2546310424804687,
          0.1244544982910156,
          0.551605224609375,
          0.0375747680664062,
          0.2301216125488281,
          0.012969970703125,
          0.0769615173339843,
          0.3333091735839844,
          0.1468658447265625,
          0.1934051513671875,
          0.3226280212402344,
          0.1218795776367187,
          0.0920295715332031,
          0.1757621765136718,
          0.6318092346191406,
          0.1180648803710937,
          0.189971923828125,
          0.0439643859863281,
          0.1120567321777343,
          0.1720428466796875,
          0.2752304077148437,
          0.5084037780761719,
          1.0701179504394531,
          0.601959228515625,
          0.453948974609375,
          0.5223274230957031,
          1.2368202209472656,
          0.2657890319824219,
          0.5908012390136719,
          0.3054618835449219,
          0.3124237060546875,
          0.3346443176269531,
          0.8176803588867188,
          0.2303123474121093,
          0.1957893371582031,
          0.0146865844726562,
          0.2610206604003906,
          0.0402450561523437,
          0.6447792053222656,
          0.2491950988769531,
          0.2500534057617187,
          0.1980781555175781,
          0.1141548156738281,
          0.0967025756835937,
          0.3398895263671875,
          0.1595497131347656,
          0.38604736328125,
          0.1039505004882812,
          0.1249313354492187,
          0.0451087951660156,
          0.3549575805664062,
          0.2858161926269531,
          0.3289222717285156,
          0.2060890197753906,
          0.3811836242675781,
          0.2246856689453125,
          0.4431724548339844,
          0.4143714904785156,
          0.165557861328125,
          0.3564834594726562,
          0.1505851745605468,
          0.131988525390625,
          0.9476661682128906
         ],
         "yaxis": "y"
        }
       ],
       "layout": {
        "legend": {
         "tracegroupgap": 0
        },
        "template": {
         "data": {
          "bar": [
           {
            "error_x": {
             "color": "#2a3f5f"
            },
            "error_y": {
             "color": "#2a3f5f"
            },
            "marker": {
             "line": {
              "color": "#E5ECF6",
              "width": 0.5
             },
             "pattern": {
              "fillmode": "overlay",
              "size": 10,
              "solidity": 0.2
             }
            },
            "type": "bar"
           }
          ],
          "barpolar": [
           {
            "marker": {
             "line": {
              "color": "#E5ECF6",
              "width": 0.5
             },
             "pattern": {
              "fillmode": "overlay",
              "size": 10,
              "solidity": 0.2
             }
            },
            "type": "barpolar"
           }
          ],
          "carpet": [
           {
            "aaxis": {
             "endlinecolor": "#2a3f5f",
             "gridcolor": "white",
             "linecolor": "white",
             "minorgridcolor": "white",
             "startlinecolor": "#2a3f5f"
            },
            "baxis": {
             "endlinecolor": "#2a3f5f",
             "gridcolor": "white",
             "linecolor": "white",
             "minorgridcolor": "white",
             "startlinecolor": "#2a3f5f"
            },
            "type": "carpet"
           }
          ],
          "choropleth": [
           {
            "colorbar": {
             "outlinewidth": 0,
             "ticks": ""
            },
            "type": "choropleth"
           }
          ],
          "contour": [
           {
            "colorbar": {
             "outlinewidth": 0,
             "ticks": ""
            },
            "colorscale": [
             [
              0,
              "#0d0887"
             ],
             [
              0.1111111111111111,
              "#46039f"
             ],
             [
              0.2222222222222222,
              "#7201a8"
             ],
             [
              0.3333333333333333,
              "#9c179e"
             ],
             [
              0.4444444444444444,
              "#bd3786"
             ],
             [
              0.5555555555555556,
              "#d8576b"
             ],
             [
              0.6666666666666666,
              "#ed7953"
             ],
             [
              0.7777777777777778,
              "#fb9f3a"
             ],
             [
              0.8888888888888888,
              "#fdca26"
             ],
             [
              1,
              "#f0f921"
             ]
            ],
            "type": "contour"
           }
          ],
          "contourcarpet": [
           {
            "colorbar": {
             "outlinewidth": 0,
             "ticks": ""
            },
            "type": "contourcarpet"
           }
          ],
          "heatmap": [
           {
            "colorbar": {
             "outlinewidth": 0,
             "ticks": ""
            },
            "colorscale": [
             [
              0,
              "#0d0887"
             ],
             [
              0.1111111111111111,
              "#46039f"
             ],
             [
              0.2222222222222222,
              "#7201a8"
             ],
             [
              0.3333333333333333,
              "#9c179e"
             ],
             [
              0.4444444444444444,
              "#bd3786"
             ],
             [
              0.5555555555555556,
              "#d8576b"
             ],
             [
              0.6666666666666666,
              "#ed7953"
             ],
             [
              0.7777777777777778,
              "#fb9f3a"
             ],
             [
              0.8888888888888888,
              "#fdca26"
             ],
             [
              1,
              "#f0f921"
             ]
            ],
            "type": "heatmap"
           }
          ],
          "heatmapgl": [
           {
            "colorbar": {
             "outlinewidth": 0,
             "ticks": ""
            },
            "colorscale": [
             [
              0,
              "#0d0887"
             ],
             [
              0.1111111111111111,
              "#46039f"
             ],
             [
              0.2222222222222222,
              "#7201a8"
             ],
             [
              0.3333333333333333,
              "#9c179e"
             ],
             [
              0.4444444444444444,
              "#bd3786"
             ],
             [
              0.5555555555555556,
              "#d8576b"
             ],
             [
              0.6666666666666666,
              "#ed7953"
             ],
             [
              0.7777777777777778,
              "#fb9f3a"
             ],
             [
              0.8888888888888888,
              "#fdca26"
             ],
             [
              1,
              "#f0f921"
             ]
            ],
            "type": "heatmapgl"
           }
          ],
          "histogram": [
           {
            "marker": {
             "pattern": {
              "fillmode": "overlay",
              "size": 10,
              "solidity": 0.2
             }
            },
            "type": "histogram"
           }
          ],
          "histogram2d": [
           {
            "colorbar": {
             "outlinewidth": 0,
             "ticks": ""
            },
            "colorscale": [
             [
              0,
              "#0d0887"
             ],
             [
              0.1111111111111111,
              "#46039f"
             ],
             [
              0.2222222222222222,
              "#7201a8"
             ],
             [
              0.3333333333333333,
              "#9c179e"
             ],
             [
              0.4444444444444444,
              "#bd3786"
             ],
             [
              0.5555555555555556,
              "#d8576b"
             ],
             [
              0.6666666666666666,
              "#ed7953"
             ],
             [
              0.7777777777777778,
              "#fb9f3a"
             ],
             [
              0.8888888888888888,
              "#fdca26"
             ],
             [
              1,
              "#f0f921"
             ]
            ],
            "type": "histogram2d"
           }
          ],
          "histogram2dcontour": [
           {
            "colorbar": {
             "outlinewidth": 0,
             "ticks": ""
            },
            "colorscale": [
             [
              0,
              "#0d0887"
             ],
             [
              0.1111111111111111,
              "#46039f"
             ],
             [
              0.2222222222222222,
              "#7201a8"
             ],
             [
              0.3333333333333333,
              "#9c179e"
             ],
             [
              0.4444444444444444,
              "#bd3786"
             ],
             [
              0.5555555555555556,
              "#d8576b"
             ],
             [
              0.6666666666666666,
              "#ed7953"
             ],
             [
              0.7777777777777778,
              "#fb9f3a"
             ],
             [
              0.8888888888888888,
              "#fdca26"
             ],
             [
              1,
              "#f0f921"
             ]
            ],
            "type": "histogram2dcontour"
           }
          ],
          "mesh3d": [
           {
            "colorbar": {
             "outlinewidth": 0,
             "ticks": ""
            },
            "type": "mesh3d"
           }
          ],
          "parcoords": [
           {
            "line": {
             "colorbar": {
              "outlinewidth": 0,
              "ticks": ""
             }
            },
            "type": "parcoords"
           }
          ],
          "pie": [
           {
            "automargin": true,
            "type": "pie"
           }
          ],
          "scatter": [
           {
            "fillpattern": {
             "fillmode": "overlay",
             "size": 10,
             "solidity": 0.2
            },
            "type": "scatter"
           }
          ],
          "scatter3d": [
           {
            "line": {
             "colorbar": {
              "outlinewidth": 0,
              "ticks": ""
             }
            },
            "marker": {
             "colorbar": {
              "outlinewidth": 0,
              "ticks": ""
             }
            },
            "type": "scatter3d"
           }
          ],
          "scattercarpet": [
           {
            "marker": {
             "colorbar": {
              "outlinewidth": 0,
              "ticks": ""
             }
            },
            "type": "scattercarpet"
           }
          ],
          "scattergeo": [
           {
            "marker": {
             "colorbar": {
              "outlinewidth": 0,
              "ticks": ""
             }
            },
            "type": "scattergeo"
           }
          ],
          "scattergl": [
           {
            "marker": {
             "colorbar": {
              "outlinewidth": 0,
              "ticks": ""
             }
            },
            "type": "scattergl"
           }
          ],
          "scattermapbox": [
           {
            "marker": {
             "colorbar": {
              "outlinewidth": 0,
              "ticks": ""
             }
            },
            "type": "scattermapbox"
           }
          ],
          "scatterpolar": [
           {
            "marker": {
             "colorbar": {
              "outlinewidth": 0,
              "ticks": ""
             }
            },
            "type": "scatterpolar"
           }
          ],
          "scatterpolargl": [
           {
            "marker": {
             "colorbar": {
              "outlinewidth": 0,
              "ticks": ""
             }
            },
            "type": "scatterpolargl"
           }
          ],
          "scatterternary": [
           {
            "marker": {
             "colorbar": {
              "outlinewidth": 0,
              "ticks": ""
             }
            },
            "type": "scatterternary"
           }
          ],
          "surface": [
           {
            "colorbar": {
             "outlinewidth": 0,
             "ticks": ""
            },
            "colorscale": [
             [
              0,
              "#0d0887"
             ],
             [
              0.1111111111111111,
              "#46039f"
             ],
             [
              0.2222222222222222,
              "#7201a8"
             ],
             [
              0.3333333333333333,
              "#9c179e"
             ],
             [
              0.4444444444444444,
              "#bd3786"
             ],
             [
              0.5555555555555556,
              "#d8576b"
             ],
             [
              0.6666666666666666,
              "#ed7953"
             ],
             [
              0.7777777777777778,
              "#fb9f3a"
             ],
             [
              0.8888888888888888,
              "#fdca26"
             ],
             [
              1,
              "#f0f921"
             ]
            ],
            "type": "surface"
           }
          ],
          "table": [
           {
            "cells": {
             "fill": {
              "color": "#EBF0F8"
             },
             "line": {
              "color": "white"
             }
            },
            "header": {
             "fill": {
              "color": "#C8D4E3"
             },
             "line": {
              "color": "white"
             }
            },
            "type": "table"
           }
          ]
         },
         "layout": {
          "annotationdefaults": {
           "arrowcolor": "#2a3f5f",
           "arrowhead": 0,
           "arrowwidth": 1
          },
          "autotypenumbers": "strict",
          "coloraxis": {
           "colorbar": {
            "outlinewidth": 0,
            "ticks": ""
           }
          },
          "colorscale": {
           "diverging": [
            [
             0,
             "#8e0152"
            ],
            [
             0.1,
             "#c51b7d"
            ],
            [
             0.2,
             "#de77ae"
            ],
            [
             0.3,
             "#f1b6da"
            ],
            [
             0.4,
             "#fde0ef"
            ],
            [
             0.5,
             "#f7f7f7"
            ],
            [
             0.6,
             "#e6f5d0"
            ],
            [
             0.7,
             "#b8e186"
            ],
            [
             0.8,
             "#7fbc41"
            ],
            [
             0.9,
             "#4d9221"
            ],
            [
             1,
             "#276419"
            ]
           ],
           "sequential": [
            [
             0,
             "#0d0887"
            ],
            [
             0.1111111111111111,
             "#46039f"
            ],
            [
             0.2222222222222222,
             "#7201a8"
            ],
            [
             0.3333333333333333,
             "#9c179e"
            ],
            [
             0.4444444444444444,
             "#bd3786"
            ],
            [
             0.5555555555555556,
             "#d8576b"
            ],
            [
             0.6666666666666666,
             "#ed7953"
            ],
            [
             0.7777777777777778,
             "#fb9f3a"
            ],
            [
             0.8888888888888888,
             "#fdca26"
            ],
            [
             1,
             "#f0f921"
            ]
           ],
           "sequentialminus": [
            [
             0,
             "#0d0887"
            ],
            [
             0.1111111111111111,
             "#46039f"
            ],
            [
             0.2222222222222222,
             "#7201a8"
            ],
            [
             0.3333333333333333,
             "#9c179e"
            ],
            [
             0.4444444444444444,
             "#bd3786"
            ],
            [
             0.5555555555555556,
             "#d8576b"
            ],
            [
             0.6666666666666666,
             "#ed7953"
            ],
            [
             0.7777777777777778,
             "#fb9f3a"
            ],
            [
             0.8888888888888888,
             "#fdca26"
            ],
            [
             1,
             "#f0f921"
            ]
           ]
          },
          "colorway": [
           "#636efa",
           "#EF553B",
           "#00cc96",
           "#ab63fa",
           "#FFA15A",
           "#19d3f3",
           "#FF6692",
           "#B6E880",
           "#FF97FF",
           "#FECB52"
          ],
          "font": {
           "color": "#2a3f5f"
          },
          "geo": {
           "bgcolor": "white",
           "lakecolor": "white",
           "landcolor": "#E5ECF6",
           "showlakes": true,
           "showland": true,
           "subunitcolor": "white"
          },
          "hoverlabel": {
           "align": "left"
          },
          "hovermode": "closest",
          "mapbox": {
           "style": "light"
          },
          "paper_bgcolor": "white",
          "plot_bgcolor": "#E5ECF6",
          "polar": {
           "angularaxis": {
            "gridcolor": "white",
            "linecolor": "white",
            "ticks": ""
           },
           "bgcolor": "#E5ECF6",
           "radialaxis": {
            "gridcolor": "white",
            "linecolor": "white",
            "ticks": ""
           }
          },
          "scene": {
           "xaxis": {
            "backgroundcolor": "#E5ECF6",
            "gridcolor": "white",
            "gridwidth": 2,
            "linecolor": "white",
            "showbackground": true,
            "ticks": "",
            "zerolinecolor": "white"
           },
           "yaxis": {
            "backgroundcolor": "#E5ECF6",
            "gridcolor": "white",
            "gridwidth": 2,
            "linecolor": "white",
            "showbackground": true,
            "ticks": "",
            "zerolinecolor": "white"
           },
           "zaxis": {
            "backgroundcolor": "#E5ECF6",
            "gridcolor": "white",
            "gridwidth": 2,
            "linecolor": "white",
            "showbackground": true,
            "ticks": "",
            "zerolinecolor": "white"
           }
          },
          "shapedefaults": {
           "line": {
            "color": "#2a3f5f"
           }
          },
          "ternary": {
           "aaxis": {
            "gridcolor": "white",
            "linecolor": "white",
            "ticks": ""
           },
           "baxis": {
            "gridcolor": "white",
            "linecolor": "white",
            "ticks": ""
           },
           "bgcolor": "#E5ECF6",
           "caxis": {
            "gridcolor": "white",
            "linecolor": "white",
            "ticks": ""
           }
          },
          "title": {
           "x": 0.05
          },
          "xaxis": {
           "automargin": true,
           "gridcolor": "white",
           "linecolor": "white",
           "ticks": "",
           "title": {
            "standoff": 15
           },
           "zerolinecolor": "white",
           "zerolinewidth": 2
          },
          "yaxis": {
           "automargin": true,
           "gridcolor": "white",
           "linecolor": "white",
           "ticks": "",
           "title": {
            "standoff": 15
           },
           "zerolinecolor": "white",
           "zerolinewidth": 2
          }
         }
        },
        "title": {
         "text": "Dna damage mask area (QC) - cellpdia30_sigma4_dilrad4_dnad_obj_seg_v2_gliaero6_gliathr20"
        },
        "xaxis": {
         "anchor": "y",
         "domain": [
          0,
          1
         ],
         "title": {
          "text": "staining_id"
         }
        },
        "yaxis": {
         "anchor": "x",
         "domain": [
          0,
          1
         ],
         "title": {
          "text": "%_dna_damage_signal"
         }
        }
       }
      }
     },
     "metadata": {},
     "output_type": "display_data"
    }
   ],
   "source": [
    "# Create the plot\n",
    "fig = px.scatter(df, x='staining_id', y='%_dna_damage_signal',\n",
    "                 hover_data=['tissue_location','index'], title=f'Dna damage mask area (QC) - {title}')\n",
    "\n",
    "# Show the plot\n",
    "fig.show()"
   ]
  },
  {
   "cell_type": "code",
   "execution_count": 101,
   "metadata": {},
   "outputs": [
    {
     "data": {
      "application/vnd.plotly.v1+json": {
       "config": {
        "plotlyServerURL": "https://plot.ly"
       },
       "data": [
        {
         "customdata": [
          [
           "CA1",
           0
          ],
          [
           "CA3",
           1
          ],
          [
           "CTX1",
           2
          ],
          [
           "CTX2",
           3
          ],
          [
           "CTX3",
           4
          ],
          [
           "DG",
           5
          ],
          [
           "CA1",
           6
          ],
          [
           "CA3",
           7
          ],
          [
           "CTX1",
           8
          ],
          [
           "CTX2",
           9
          ],
          [
           "CTX3",
           10
          ],
          [
           "DG",
           11
          ],
          [
           "CA1",
           12
          ],
          [
           "CA3",
           13
          ],
          [
           "CTX1",
           14
          ],
          [
           "CTX2",
           15
          ],
          [
           "CTX3",
           16
          ],
          [
           "DG",
           17
          ],
          [
           "CA1",
           18
          ],
          [
           "CA3",
           19
          ],
          [
           "CTX1",
           20
          ],
          [
           "CTX2",
           21
          ],
          [
           "CTX3",
           22
          ],
          [
           "DG",
           23
          ],
          [
           "CA1",
           24
          ],
          [
           "CA3",
           25
          ],
          [
           "CTX1",
           26
          ],
          [
           "CTX2",
           27
          ],
          [
           "CTX3",
           28
          ],
          [
           "DG",
           29
          ],
          [
           "CA1",
           30
          ],
          [
           "CA3",
           31
          ],
          [
           "CTX1",
           32
          ],
          [
           "CTX2",
           33
          ],
          [
           "CTX3",
           34
          ],
          [
           "DG",
           35
          ],
          [
           "CA1",
           36
          ],
          [
           "CA3",
           37
          ],
          [
           "CTX1",
           38
          ],
          [
           "CTX2",
           39
          ],
          [
           "CTX3",
           40
          ],
          [
           "DG",
           41
          ],
          [
           "CA1",
           42
          ],
          [
           "CA3",
           43
          ],
          [
           "CTX1",
           44
          ],
          [
           "CTX2",
           45
          ],
          [
           "CTX3",
           46
          ],
          [
           "DG",
           47
          ],
          [
           "CA1",
           48
          ],
          [
           "CA3",
           49
          ],
          [
           "CTX1",
           50
          ],
          [
           "CTX2",
           51
          ],
          [
           "CTX3",
           52
          ],
          [
           "DG",
           53
          ],
          [
           "CA1",
           54
          ],
          [
           "CA3",
           55
          ],
          [
           "CTX1",
           56
          ],
          [
           "CTX2",
           57
          ],
          [
           "CTX3",
           58
          ],
          [
           "DG",
           59
          ],
          [
           "CA1",
           60
          ],
          [
           "CA3",
           61
          ],
          [
           "CTX1",
           62
          ],
          [
           "CTX2",
           63
          ],
          [
           "CTX3",
           64
          ],
          [
           "DG",
           65
          ],
          [
           "DG",
           66
          ],
          [
           "CA1",
           67
          ],
          [
           "CA3",
           68
          ],
          [
           "CTX1",
           69
          ],
          [
           "CTX2",
           70
          ],
          [
           "CTX3",
           71
          ],
          [
           "DG",
           72
          ],
          [
           "CA1",
           73
          ],
          [
           "CA3",
           74
          ],
          [
           "CTX1",
           75
          ],
          [
           "CTX2",
           76
          ],
          [
           "CTX3",
           77
          ],
          [
           "DG",
           78
          ],
          [
           "CA1",
           79
          ],
          [
           "CA3",
           80
          ],
          [
           "CTX1",
           81
          ],
          [
           "CTX2",
           82
          ],
          [
           "CTX3",
           83
          ],
          [
           "DG",
           84
          ],
          [
           "CA1",
           85
          ],
          [
           "CA3",
           86
          ],
          [
           "CTX1",
           87
          ],
          [
           "CTX2",
           88
          ],
          [
           "CTX3",
           89
          ],
          [
           "DG",
           90
          ],
          [
           "CA1",
           91
          ],
          [
           "CA3",
           92
          ],
          [
           "CTX1",
           93
          ],
          [
           "CTX2",
           94
          ],
          [
           "CTX3",
           95
          ],
          [
           "DG",
           96
          ],
          [
           "CA1",
           97
          ],
          [
           "CA3",
           98
          ],
          [
           "CTX1",
           99
          ],
          [
           "CTX2",
           100
          ],
          [
           "CTX3",
           101
          ],
          [
           "DG",
           102
          ],
          [
           "CA1",
           103
          ],
          [
           "CA3",
           104
          ],
          [
           "CTX1",
           105
          ],
          [
           "CTX2",
           106
          ],
          [
           "CTX3",
           107
          ],
          [
           "DG",
           108
          ],
          [
           "CA1",
           109
          ],
          [
           "CA3",
           110
          ],
          [
           "CTX1",
           111
          ],
          [
           "CTX2",
           112
          ],
          [
           "CTX3",
           113
          ],
          [
           "DG",
           114
          ],
          [
           "CA1",
           115
          ],
          [
           "CA3",
           116
          ],
          [
           "CTX1",
           117
          ],
          [
           "CTX2",
           118
          ],
          [
           "CTX3",
           119
          ],
          [
           "DG",
           120
          ],
          [
           "CA1",
           121
          ],
          [
           "CA3",
           122
          ],
          [
           "CTX1",
           123
          ],
          [
           "CTX2",
           124
          ],
          [
           "CTX3",
           125
          ],
          [
           "DG",
           126
          ],
          [
           "DG",
           127
          ],
          [
           "CA1",
           128
          ],
          [
           "CA3",
           129
          ],
          [
           "CTX1",
           130
          ],
          [
           "CTX2",
           131
          ],
          [
           "CTX3",
           132
          ],
          [
           "DG",
           133
          ],
          [
           "CA1",
           134
          ],
          [
           "CA3",
           135
          ],
          [
           "CTX1",
           136
          ],
          [
           "CTX2",
           137
          ],
          [
           "CTX3",
           138
          ],
          [
           "DG",
           139
          ],
          [
           "CA1",
           140
          ],
          [
           "CA3",
           141
          ],
          [
           "CTX1",
           142
          ],
          [
           "CTX2",
           143
          ],
          [
           "CTX3",
           144
          ],
          [
           "DG",
           145
          ],
          [
           "CA1",
           146
          ],
          [
           "CA3",
           147
          ],
          [
           "CTX1",
           148
          ],
          [
           "CTX2",
           149
          ],
          [
           "CTX3",
           150
          ],
          [
           "DG",
           151
          ],
          [
           "CA1",
           152
          ],
          [
           "CA3",
           153
          ],
          [
           "CTX1",
           154
          ],
          [
           "CTX2",
           155
          ],
          [
           "CTX3",
           156
          ],
          [
           "DG",
           157
          ],
          [
           "CA1",
           158
          ],
          [
           "CA3",
           159
          ],
          [
           "CTX1",
           160
          ],
          [
           "DG",
           161
          ],
          [
           "CA1",
           162
          ],
          [
           "CA3",
           163
          ],
          [
           "CTX1",
           164
          ],
          [
           "CTX2",
           165
          ],
          [
           "CTX3",
           166
          ],
          [
           "DG",
           167
          ],
          [
           "CA1",
           168
          ],
          [
           "CA3",
           169
          ],
          [
           "CTX1",
           170
          ],
          [
           "CTX2",
           171
          ],
          [
           "CTX3",
           172
          ],
          [
           "DG",
           173
          ],
          [
           "CA1",
           174
          ],
          [
           "CA3",
           175
          ],
          [
           "CTX1",
           176
          ],
          [
           "CTX2",
           177
          ],
          [
           "CTX3",
           178
          ],
          [
           "DG",
           179
          ],
          [
           "CA1",
           180
          ],
          [
           "CA3",
           181
          ],
          [
           "CTX1",
           182
          ],
          [
           "CTX2",
           183
          ],
          [
           "CTX3",
           184
          ],
          [
           "DG",
           185
          ],
          [
           "CA1",
           186
          ],
          [
           "CA3",
           187
          ],
          [
           "CTX1",
           188
          ],
          [
           "CTX2",
           189
          ],
          [
           "CTX3",
           190
          ],
          [
           "DG",
           191
          ],
          [
           "CA1",
           192
          ],
          [
           "CA3",
           193
          ],
          [
           "CTX1",
           194
          ],
          [
           "CTX2",
           195
          ],
          [
           "CTX3",
           196
          ],
          [
           "DG",
           197
          ],
          [
           "CA1",
           198
          ],
          [
           "CA3",
           199
          ],
          [
           "CTX1",
           200
          ],
          [
           "CTX2",
           201
          ],
          [
           "CTX3",
           202
          ],
          [
           "DG",
           203
          ],
          [
           "CA1",
           204
          ],
          [
           "CA3",
           205
          ],
          [
           "CTX1",
           206
          ],
          [
           "CTX2",
           207
          ],
          [
           "CTX3",
           208
          ],
          [
           "DG",
           209
          ],
          [
           "CA1",
           210
          ],
          [
           "CA3",
           211
          ],
          [
           "CTX1",
           212
          ],
          [
           "CTX2",
           213
          ],
          [
           "CTX3",
           214
          ],
          [
           "DG",
           215
          ],
          [
           "CA1",
           216
          ],
          [
           "CA3",
           217
          ],
          [
           "CTX1",
           218
          ],
          [
           "CTX2",
           219
          ],
          [
           "CTX3",
           220
          ],
          [
           "DG",
           221
          ],
          [
           "CA1",
           222
          ],
          [
           "CA3",
           223
          ],
          [
           "CTX1",
           224
          ],
          [
           "CTX2",
           225
          ],
          [
           "CTX3",
           226
          ],
          [
           "DG",
           227
          ],
          [
           "CA1",
           228
          ],
          [
           "CA3",
           229
          ],
          [
           "CTX1",
           230
          ],
          [
           "CTX2",
           231
          ],
          [
           "CTX3",
           232
          ],
          [
           "DG",
           233
          ],
          [
           "CA1",
           234
          ],
          [
           "CA3",
           235
          ],
          [
           "CTX1",
           236
          ],
          [
           "CTX2",
           237
          ],
          [
           "CTX3",
           238
          ],
          [
           "DG",
           239
          ],
          [
           "CA1",
           240
          ],
          [
           "CA3",
           241
          ],
          [
           "CTX1",
           242
          ],
          [
           "CTX2",
           243
          ],
          [
           "CTX3",
           244
          ],
          [
           "DG",
           245
          ],
          [
           "CA1",
           246
          ],
          [
           "CA3",
           247
          ],
          [
           "CTX1",
           248
          ],
          [
           "CTX2",
           249
          ],
          [
           "CTX3",
           250
          ],
          [
           "DG",
           251
          ]
         ],
         "hovertemplate": "staining_id=%{x}<br>%_glia+_signal=%{y}<br>tissue_location=%{customdata[0]}<br>index=%{customdata[1]}<extra></extra>",
         "legendgroup": "",
         "marker": {
          "color": "#636efa",
          "symbol": "circle"
         },
         "mode": "markers",
         "name": "",
         "orientation": "v",
         "showlegend": false,
         "type": "scatter",
         "x": [
          16,
          16,
          16,
          16,
          16,
          16,
          17,
          17,
          17,
          17,
          17,
          17,
          18,
          18,
          18,
          18,
          18,
          18,
          19,
          19,
          19,
          19,
          19,
          19,
          20,
          20,
          20,
          20,
          20,
          20,
          21,
          21,
          21,
          21,
          21,
          21,
          22,
          22,
          22,
          22,
          22,
          22,
          23,
          23,
          23,
          23,
          23,
          23,
          24,
          24,
          24,
          24,
          24,
          24,
          25,
          25,
          25,
          25,
          25,
          25,
          26,
          26,
          26,
          26,
          26,
          26,
          27,
          28,
          28,
          28,
          28,
          28,
          28,
          29,
          29,
          29,
          29,
          29,
          29,
          30,
          30,
          30,
          30,
          30,
          30,
          31,
          31,
          31,
          31,
          31,
          31,
          32,
          32,
          32,
          32,
          32,
          32,
          33,
          33,
          33,
          33,
          33,
          33,
          34,
          34,
          34,
          34,
          34,
          34,
          35,
          35,
          35,
          35,
          35,
          35,
          36,
          36,
          36,
          36,
          36,
          36,
          37,
          37,
          37,
          37,
          37,
          37,
          38,
          39,
          39,
          39,
          39,
          39,
          39,
          40,
          40,
          40,
          40,
          40,
          40,
          41,
          41,
          41,
          41,
          41,
          41,
          42,
          42,
          42,
          42,
          42,
          42,
          43,
          43,
          43,
          43,
          43,
          43,
          44,
          44,
          44,
          44,
          45,
          45,
          45,
          45,
          45,
          45,
          46,
          46,
          46,
          46,
          46,
          46,
          47,
          47,
          47,
          47,
          47,
          47,
          48,
          48,
          48,
          48,
          48,
          48,
          49,
          49,
          49,
          49,
          49,
          49,
          50,
          50,
          50,
          50,
          50,
          50,
          51,
          51,
          51,
          51,
          51,
          51,
          52,
          52,
          52,
          52,
          52,
          52,
          53,
          53,
          53,
          53,
          53,
          53,
          54,
          54,
          54,
          54,
          54,
          54,
          55,
          55,
          55,
          55,
          55,
          55,
          56,
          56,
          56,
          56,
          56,
          56,
          57,
          57,
          57,
          57,
          57,
          57,
          58,
          58,
          58,
          58,
          58,
          58,
          59,
          59,
          59,
          59,
          59,
          59
         ],
         "xaxis": "x",
         "y": [
          88.63372802734375,
          96.34952545166016,
          13.59844207763672,
          94.93074417114258,
          54.76894378662109,
          87.15362548828125,
          5.763816833496094,
          6.432056427001953,
          2.645301818847656,
          11.802101135253906,
          9.359455108642578,
          44.40708160400391,
          10.935688018798828,
          7.825183868408203,
          3.196430206298828,
          5.939960479736328,
          1.9624710083007808,
          53.77206802368164,
          97.84984588623048,
          98.4278678894043,
          98.5675811767578,
          92.62237548828124,
          87.97607421875,
          97.98297882080078,
          1.447296142578125,
          1.717853546142578,
          0.8257865905761719,
          2.0682334899902344,
          0.5598068237304688,
          2.923774719238281,
          2.5424957275390625,
          1.3544082641601562,
          3.311634063720703,
          3.338623046875,
          4.697036743164063,
          3.5135269165039062,
          6.178569793701172,
          3.7606239318847656,
          3.637123107910156,
          4.0191650390625,
          0.730133056640625,
          5.748558044433594,
          4.248046875,
          2.08120346069336,
          5.792427062988281,
          0.7174491882324219,
          2.988147735595703,
          7.934856414794922,
          0.7791519165039062,
          0.9073257446289062,
          1.7583847045898438,
          3.3802032470703125,
          1.4982223510742188,
          0.8672714233398438,
          3.17068099975586,
          2.813243865966797,
          3.438568115234375,
          6.374835968017578,
          2.7411460876464844,
          3.351020812988281,
          5.84564208984375,
          6.870269775390625,
          11.133575439453123,
          13.045120239257812,
          27.424240112304688,
          7.449054718017578,
          1.7447471618652344,
          2.5665283203125,
          2.448272705078125,
          3.2138824462890625,
          2.5005340576171875,
          2.412891387939453,
          7.0148468017578125,
          2.208709716796875,
          1.9129753112792969,
          5.022335052490234,
          7.678985595703125,
          3.7689208984375,
          2.2146224975585938,
          1.6625404357910156,
          1.3019561767578125,
          2.780723571777344,
          2.3637771606445312,
          1.4829635620117188,
          2.1762847900390625,
          3.847122192382813,
          1.217937469482422,
          3.5140037536621094,
          2.959632873535156,
          3.2898902893066406,
          3.90176773071289,
          14.134979248046877,
          14.082717895507812,
          14.151763916015623,
          17.71411895751953,
          10.771465301513672,
          27.629661560058597,
          2.395153045654297,
          1.8873214721679688,
          1.194000244140625,
          2.6653289794921875,
          2.5826454162597656,
          3.2654762268066406,
          5.395984649658203,
          4.882526397705078,
          6.429195404052734,
          9.55486297607422,
          7.129859924316406,
          9.005355834960938,
          3.268909454345703,
          21.71812057495117,
          4.521656036376953,
          49.62272644042969,
          36.1638069152832,
          46.29859924316406,
          2.2858619689941406,
          1.1386871337890625,
          3.605270385742188,
          4.596138000488281,
          2.627086639404297,
          1.8873214721679688,
          1.4169692993164062,
          3.2583236694335938,
          2.8922080993652344,
          6.322193145751953,
          5.652999877929688,
          2.9592514038085938,
          1.724529266357422,
          1.2140274047851562,
          1.1082649230957031,
          0.3711700439453125,
          0.3496170043945312,
          0.2208709716796875,
          1.7183303833007812,
          1.3429641723632812,
          1.7145156860351562,
          3.7994384765625,
          3.754806518554688,
          4.794597625732422,
          0.7130622863769531,
          0.4645347595214844,
          0.6657600402832031,
          0.0162124633789062,
          0.2507209777832031,
          0.83465576171875,
          0.9260177612304688,
          0.5733489990234375,
          0.9168624877929688,
          0.74462890625,
          1.824378967285156,
          0.9996414184570312,
          0.988483428955078,
          3.304767608642578,
          5.7796478271484375,
          12.746238708496094,
          7.944774627685547,
          7.372093200683594,
          16.925048828125,
          45.28112411499024,
          48.995113372802734,
          61.879920959472656,
          39.72511291503906,
          6.223964691162109,
          5.231571197509766,
          4.201602935791016,
          4.376411437988281,
          3.458404541015625,
          7.775020599365234,
          47.70441055297852,
          31.574440002441406,
          46.37212753295898,
          51.16119384765625,
          32.654476165771484,
          56.203651428222656,
          6.558036804199219,
          8.901691436767578,
          5.655956268310547,
          30.04922866821289,
          14.159202575683594,
          13.895225524902344,
          3.3704757690429688,
          2.537250518798828,
          4.6924591064453125,
          3.786659240722656,
          3.594589233398437,
          5.111885070800781,
          8.189868927001953,
          6.575107574462891,
          8.087635040283203,
          6.462860107421875,
          2.49490737915039,
          14.119243621826172,
          4.873561859130859,
          3.848457336425781,
          6.229019165039063,
          5.149269104003906,
          5.641460418701172,
          5.594158172607422,
          6.222438812255859,
          6.045722961425781,
          4.617595672607422,
          7.056903839111328,
          9.714698791503906,
          6.879520416259766,
          5.399608612060547,
          4.315376281738281,
          7.786273956298828,
          10.270881652832031,
          10.033130645751951,
          7.422256469726562,
          2.5342941284179688,
          2.4756431579589844,
          7.878398895263672,
          7.045269012451172,
          5.187797546386719,
          3.43008041381836,
          2.426910400390625,
          1.7024993896484375,
          4.989528656005859,
          3.8888931274414062,
          5.550861358642578,
          3.528308868408203,
          1.777362823486328,
          1.872539520263672,
          1.2282371520996094,
          3.083038330078125,
          0.5826950073242188,
          2.5461196899414062,
          4.4521331787109375,
          4.624557495117188,
          5.258560180664063,
          5.3241729736328125,
          4.150867462158203,
          5.023097991943359,
          2.201366424560547,
          4.8095703125,
          2.260112762451172,
          1.4965057373046875,
          1.306438446044922,
          5.2936553955078125,
          2.06155776977539,
          1.918315887451172,
          4.450321197509766,
          2.5277137756347656,
          0.5662918090820312,
          1.5165328979492188,
          3.539466857910156,
          2.4675369262695312,
          3.9608001708984375,
          6.726360321044922,
          5.142498016357422,
          3.248310089111328
         ],
         "yaxis": "y"
        }
       ],
       "layout": {
        "legend": {
         "tracegroupgap": 0
        },
        "template": {
         "data": {
          "bar": [
           {
            "error_x": {
             "color": "#2a3f5f"
            },
            "error_y": {
             "color": "#2a3f5f"
            },
            "marker": {
             "line": {
              "color": "#E5ECF6",
              "width": 0.5
             },
             "pattern": {
              "fillmode": "overlay",
              "size": 10,
              "solidity": 0.2
             }
            },
            "type": "bar"
           }
          ],
          "barpolar": [
           {
            "marker": {
             "line": {
              "color": "#E5ECF6",
              "width": 0.5
             },
             "pattern": {
              "fillmode": "overlay",
              "size": 10,
              "solidity": 0.2
             }
            },
            "type": "barpolar"
           }
          ],
          "carpet": [
           {
            "aaxis": {
             "endlinecolor": "#2a3f5f",
             "gridcolor": "white",
             "linecolor": "white",
             "minorgridcolor": "white",
             "startlinecolor": "#2a3f5f"
            },
            "baxis": {
             "endlinecolor": "#2a3f5f",
             "gridcolor": "white",
             "linecolor": "white",
             "minorgridcolor": "white",
             "startlinecolor": "#2a3f5f"
            },
            "type": "carpet"
           }
          ],
          "choropleth": [
           {
            "colorbar": {
             "outlinewidth": 0,
             "ticks": ""
            },
            "type": "choropleth"
           }
          ],
          "contour": [
           {
            "colorbar": {
             "outlinewidth": 0,
             "ticks": ""
            },
            "colorscale": [
             [
              0,
              "#0d0887"
             ],
             [
              0.1111111111111111,
              "#46039f"
             ],
             [
              0.2222222222222222,
              "#7201a8"
             ],
             [
              0.3333333333333333,
              "#9c179e"
             ],
             [
              0.4444444444444444,
              "#bd3786"
             ],
             [
              0.5555555555555556,
              "#d8576b"
             ],
             [
              0.6666666666666666,
              "#ed7953"
             ],
             [
              0.7777777777777778,
              "#fb9f3a"
             ],
             [
              0.8888888888888888,
              "#fdca26"
             ],
             [
              1,
              "#f0f921"
             ]
            ],
            "type": "contour"
           }
          ],
          "contourcarpet": [
           {
            "colorbar": {
             "outlinewidth": 0,
             "ticks": ""
            },
            "type": "contourcarpet"
           }
          ],
          "heatmap": [
           {
            "colorbar": {
             "outlinewidth": 0,
             "ticks": ""
            },
            "colorscale": [
             [
              0,
              "#0d0887"
             ],
             [
              0.1111111111111111,
              "#46039f"
             ],
             [
              0.2222222222222222,
              "#7201a8"
             ],
             [
              0.3333333333333333,
              "#9c179e"
             ],
             [
              0.4444444444444444,
              "#bd3786"
             ],
             [
              0.5555555555555556,
              "#d8576b"
             ],
             [
              0.6666666666666666,
              "#ed7953"
             ],
             [
              0.7777777777777778,
              "#fb9f3a"
             ],
             [
              0.8888888888888888,
              "#fdca26"
             ],
             [
              1,
              "#f0f921"
             ]
            ],
            "type": "heatmap"
           }
          ],
          "heatmapgl": [
           {
            "colorbar": {
             "outlinewidth": 0,
             "ticks": ""
            },
            "colorscale": [
             [
              0,
              "#0d0887"
             ],
             [
              0.1111111111111111,
              "#46039f"
             ],
             [
              0.2222222222222222,
              "#7201a8"
             ],
             [
              0.3333333333333333,
              "#9c179e"
             ],
             [
              0.4444444444444444,
              "#bd3786"
             ],
             [
              0.5555555555555556,
              "#d8576b"
             ],
             [
              0.6666666666666666,
              "#ed7953"
             ],
             [
              0.7777777777777778,
              "#fb9f3a"
             ],
             [
              0.8888888888888888,
              "#fdca26"
             ],
             [
              1,
              "#f0f921"
             ]
            ],
            "type": "heatmapgl"
           }
          ],
          "histogram": [
           {
            "marker": {
             "pattern": {
              "fillmode": "overlay",
              "size": 10,
              "solidity": 0.2
             }
            },
            "type": "histogram"
           }
          ],
          "histogram2d": [
           {
            "colorbar": {
             "outlinewidth": 0,
             "ticks": ""
            },
            "colorscale": [
             [
              0,
              "#0d0887"
             ],
             [
              0.1111111111111111,
              "#46039f"
             ],
             [
              0.2222222222222222,
              "#7201a8"
             ],
             [
              0.3333333333333333,
              "#9c179e"
             ],
             [
              0.4444444444444444,
              "#bd3786"
             ],
             [
              0.5555555555555556,
              "#d8576b"
             ],
             [
              0.6666666666666666,
              "#ed7953"
             ],
             [
              0.7777777777777778,
              "#fb9f3a"
             ],
             [
              0.8888888888888888,
              "#fdca26"
             ],
             [
              1,
              "#f0f921"
             ]
            ],
            "type": "histogram2d"
           }
          ],
          "histogram2dcontour": [
           {
            "colorbar": {
             "outlinewidth": 0,
             "ticks": ""
            },
            "colorscale": [
             [
              0,
              "#0d0887"
             ],
             [
              0.1111111111111111,
              "#46039f"
             ],
             [
              0.2222222222222222,
              "#7201a8"
             ],
             [
              0.3333333333333333,
              "#9c179e"
             ],
             [
              0.4444444444444444,
              "#bd3786"
             ],
             [
              0.5555555555555556,
              "#d8576b"
             ],
             [
              0.6666666666666666,
              "#ed7953"
             ],
             [
              0.7777777777777778,
              "#fb9f3a"
             ],
             [
              0.8888888888888888,
              "#fdca26"
             ],
             [
              1,
              "#f0f921"
             ]
            ],
            "type": "histogram2dcontour"
           }
          ],
          "mesh3d": [
           {
            "colorbar": {
             "outlinewidth": 0,
             "ticks": ""
            },
            "type": "mesh3d"
           }
          ],
          "parcoords": [
           {
            "line": {
             "colorbar": {
              "outlinewidth": 0,
              "ticks": ""
             }
            },
            "type": "parcoords"
           }
          ],
          "pie": [
           {
            "automargin": true,
            "type": "pie"
           }
          ],
          "scatter": [
           {
            "fillpattern": {
             "fillmode": "overlay",
             "size": 10,
             "solidity": 0.2
            },
            "type": "scatter"
           }
          ],
          "scatter3d": [
           {
            "line": {
             "colorbar": {
              "outlinewidth": 0,
              "ticks": ""
             }
            },
            "marker": {
             "colorbar": {
              "outlinewidth": 0,
              "ticks": ""
             }
            },
            "type": "scatter3d"
           }
          ],
          "scattercarpet": [
           {
            "marker": {
             "colorbar": {
              "outlinewidth": 0,
              "ticks": ""
             }
            },
            "type": "scattercarpet"
           }
          ],
          "scattergeo": [
           {
            "marker": {
             "colorbar": {
              "outlinewidth": 0,
              "ticks": ""
             }
            },
            "type": "scattergeo"
           }
          ],
          "scattergl": [
           {
            "marker": {
             "colorbar": {
              "outlinewidth": 0,
              "ticks": ""
             }
            },
            "type": "scattergl"
           }
          ],
          "scattermapbox": [
           {
            "marker": {
             "colorbar": {
              "outlinewidth": 0,
              "ticks": ""
             }
            },
            "type": "scattermapbox"
           }
          ],
          "scatterpolar": [
           {
            "marker": {
             "colorbar": {
              "outlinewidth": 0,
              "ticks": ""
             }
            },
            "type": "scatterpolar"
           }
          ],
          "scatterpolargl": [
           {
            "marker": {
             "colorbar": {
              "outlinewidth": 0,
              "ticks": ""
             }
            },
            "type": "scatterpolargl"
           }
          ],
          "scatterternary": [
           {
            "marker": {
             "colorbar": {
              "outlinewidth": 0,
              "ticks": ""
             }
            },
            "type": "scatterternary"
           }
          ],
          "surface": [
           {
            "colorbar": {
             "outlinewidth": 0,
             "ticks": ""
            },
            "colorscale": [
             [
              0,
              "#0d0887"
             ],
             [
              0.1111111111111111,
              "#46039f"
             ],
             [
              0.2222222222222222,
              "#7201a8"
             ],
             [
              0.3333333333333333,
              "#9c179e"
             ],
             [
              0.4444444444444444,
              "#bd3786"
             ],
             [
              0.5555555555555556,
              "#d8576b"
             ],
             [
              0.6666666666666666,
              "#ed7953"
             ],
             [
              0.7777777777777778,
              "#fb9f3a"
             ],
             [
              0.8888888888888888,
              "#fdca26"
             ],
             [
              1,
              "#f0f921"
             ]
            ],
            "type": "surface"
           }
          ],
          "table": [
           {
            "cells": {
             "fill": {
              "color": "#EBF0F8"
             },
             "line": {
              "color": "white"
             }
            },
            "header": {
             "fill": {
              "color": "#C8D4E3"
             },
             "line": {
              "color": "white"
             }
            },
            "type": "table"
           }
          ]
         },
         "layout": {
          "annotationdefaults": {
           "arrowcolor": "#2a3f5f",
           "arrowhead": 0,
           "arrowwidth": 1
          },
          "autotypenumbers": "strict",
          "coloraxis": {
           "colorbar": {
            "outlinewidth": 0,
            "ticks": ""
           }
          },
          "colorscale": {
           "diverging": [
            [
             0,
             "#8e0152"
            ],
            [
             0.1,
             "#c51b7d"
            ],
            [
             0.2,
             "#de77ae"
            ],
            [
             0.3,
             "#f1b6da"
            ],
            [
             0.4,
             "#fde0ef"
            ],
            [
             0.5,
             "#f7f7f7"
            ],
            [
             0.6,
             "#e6f5d0"
            ],
            [
             0.7,
             "#b8e186"
            ],
            [
             0.8,
             "#7fbc41"
            ],
            [
             0.9,
             "#4d9221"
            ],
            [
             1,
             "#276419"
            ]
           ],
           "sequential": [
            [
             0,
             "#0d0887"
            ],
            [
             0.1111111111111111,
             "#46039f"
            ],
            [
             0.2222222222222222,
             "#7201a8"
            ],
            [
             0.3333333333333333,
             "#9c179e"
            ],
            [
             0.4444444444444444,
             "#bd3786"
            ],
            [
             0.5555555555555556,
             "#d8576b"
            ],
            [
             0.6666666666666666,
             "#ed7953"
            ],
            [
             0.7777777777777778,
             "#fb9f3a"
            ],
            [
             0.8888888888888888,
             "#fdca26"
            ],
            [
             1,
             "#f0f921"
            ]
           ],
           "sequentialminus": [
            [
             0,
             "#0d0887"
            ],
            [
             0.1111111111111111,
             "#46039f"
            ],
            [
             0.2222222222222222,
             "#7201a8"
            ],
            [
             0.3333333333333333,
             "#9c179e"
            ],
            [
             0.4444444444444444,
             "#bd3786"
            ],
            [
             0.5555555555555556,
             "#d8576b"
            ],
            [
             0.6666666666666666,
             "#ed7953"
            ],
            [
             0.7777777777777778,
             "#fb9f3a"
            ],
            [
             0.8888888888888888,
             "#fdca26"
            ],
            [
             1,
             "#f0f921"
            ]
           ]
          },
          "colorway": [
           "#636efa",
           "#EF553B",
           "#00cc96",
           "#ab63fa",
           "#FFA15A",
           "#19d3f3",
           "#FF6692",
           "#B6E880",
           "#FF97FF",
           "#FECB52"
          ],
          "font": {
           "color": "#2a3f5f"
          },
          "geo": {
           "bgcolor": "white",
           "lakecolor": "white",
           "landcolor": "#E5ECF6",
           "showlakes": true,
           "showland": true,
           "subunitcolor": "white"
          },
          "hoverlabel": {
           "align": "left"
          },
          "hovermode": "closest",
          "mapbox": {
           "style": "light"
          },
          "paper_bgcolor": "white",
          "plot_bgcolor": "#E5ECF6",
          "polar": {
           "angularaxis": {
            "gridcolor": "white",
            "linecolor": "white",
            "ticks": ""
           },
           "bgcolor": "#E5ECF6",
           "radialaxis": {
            "gridcolor": "white",
            "linecolor": "white",
            "ticks": ""
           }
          },
          "scene": {
           "xaxis": {
            "backgroundcolor": "#E5ECF6",
            "gridcolor": "white",
            "gridwidth": 2,
            "linecolor": "white",
            "showbackground": true,
            "ticks": "",
            "zerolinecolor": "white"
           },
           "yaxis": {
            "backgroundcolor": "#E5ECF6",
            "gridcolor": "white",
            "gridwidth": 2,
            "linecolor": "white",
            "showbackground": true,
            "ticks": "",
            "zerolinecolor": "white"
           },
           "zaxis": {
            "backgroundcolor": "#E5ECF6",
            "gridcolor": "white",
            "gridwidth": 2,
            "linecolor": "white",
            "showbackground": true,
            "ticks": "",
            "zerolinecolor": "white"
           }
          },
          "shapedefaults": {
           "line": {
            "color": "#2a3f5f"
           }
          },
          "ternary": {
           "aaxis": {
            "gridcolor": "white",
            "linecolor": "white",
            "ticks": ""
           },
           "baxis": {
            "gridcolor": "white",
            "linecolor": "white",
            "ticks": ""
           },
           "bgcolor": "#E5ECF6",
           "caxis": {
            "gridcolor": "white",
            "linecolor": "white",
            "ticks": ""
           }
          },
          "title": {
           "x": 0.05
          },
          "xaxis": {
           "automargin": true,
           "gridcolor": "white",
           "linecolor": "white",
           "ticks": "",
           "title": {
            "standoff": 15
           },
           "zerolinecolor": "white",
           "zerolinewidth": 2
          },
          "yaxis": {
           "automargin": true,
           "gridcolor": "white",
           "linecolor": "white",
           "ticks": "",
           "title": {
            "standoff": 15
           },
           "zerolinecolor": "white",
           "zerolinewidth": 2
          }
         }
        },
        "title": {
         "text": "Glia mask area (QC) - cellpdia30_sigma4_dilrad4_dnad_obj_seg_v2_gliaero6_gliathr20"
        },
        "xaxis": {
         "anchor": "y",
         "domain": [
          0,
          1
         ],
         "title": {
          "text": "staining_id"
         }
        },
        "yaxis": {
         "anchor": "x",
         "domain": [
          0,
          1
         ],
         "title": {
          "text": "%_glia+_signal"
         }
        }
       }
      }
     },
     "metadata": {},
     "output_type": "display_data"
    }
   ],
   "source": [
    "# Create the plot\n",
    "fig = px.scatter(df, x='staining_id', y='%_glia+_signal',\n",
    "                 hover_data=['tissue_location','index'], title=f'Glia mask area (QC) - {title}')\n",
    "\n",
    "# Show the plot\n",
    "fig.show()"
   ]
  },
  {
   "cell_type": "markdown",
   "metadata": {},
   "source": [
    "We can observe there is a number of outliers in the glial and dna damage mask detection given the staining is suboptimal in some of the samples. I will filter the data to remove those suboptimal stains and just plot the optimal ones where the automated image analysis offers reliable results."
   ]
  },
  {
   "cell_type": "code",
   "execution_count": 102,
   "metadata": {},
   "outputs": [
    {
     "name": "stdout",
     "output_type": "stream",
     "text": [
      "Glia_mask_area_%_mean: 11.002078888908265, Dna_damage_mask_area_%_mean: 0.4919684122479151\n"
     ]
    }
   ],
   "source": [
    "# Calculate mean area of the image occupied by glia+ signal\n",
    "glia_mask_area_mean = df['%_glia+_signal'].mean() \n",
    "\n",
    "# Calculate mean area of the image occupied by dna_damage_+ signal\n",
    "dna_damage_mask_area_mean = df['%_dna_damage_signal'].mean() \n",
    "\n",
    "# Print extracted values\n",
    "print(f\"Glia_mask_area_%_mean: {glia_mask_area_mean}, Dna_damage_mask_area_%_mean: {dna_damage_mask_area_mean}\") "
   ]
  },
  {
   "cell_type": "code",
   "execution_count": 103,
   "metadata": {},
   "outputs": [
    {
     "data": {
      "text/html": [
       "<div>\n",
       "<style scoped>\n",
       "    .dataframe tbody tr th:only-of-type {\n",
       "        vertical-align: middle;\n",
       "    }\n",
       "\n",
       "    .dataframe tbody tr th {\n",
       "        vertical-align: top;\n",
       "    }\n",
       "\n",
       "    .dataframe thead th {\n",
       "        text-align: right;\n",
       "    }\n",
       "</style>\n",
       "<table border=\"1\" class=\"dataframe\">\n",
       "  <thead>\n",
       "    <tr style=\"text-align: right;\">\n",
       "      <th></th>\n",
       "      <th>index</th>\n",
       "      <th>filename</th>\n",
       "      <th>avg_dna_damage_foci/glia_+</th>\n",
       "      <th>avg_dna_damage_foci/glia_+_damage_+</th>\n",
       "      <th>avg_dna_damage_foci/all_nuclei</th>\n",
       "      <th>avg_dna_damage_foci/all_nuclei_damage_+</th>\n",
       "      <th>nr_+_dna_damage_glia_nuclei</th>\n",
       "      <th>nr_-_dna_damage_glia_nuclei</th>\n",
       "      <th>nr_glia_+_nuclei</th>\n",
       "      <th>nr_total_nuclei</th>\n",
       "      <th>...</th>\n",
       "      <th>tissue_location</th>\n",
       "      <th>staining_id</th>\n",
       "      <th>animal_id</th>\n",
       "      <th>sex</th>\n",
       "      <th>genotype</th>\n",
       "      <th>dna_damage_stain_quality_manual</th>\n",
       "      <th>manual_qc</th>\n",
       "      <th>glia_stain_quality_auto</th>\n",
       "      <th>dna_damage_stain_quality_auto</th>\n",
       "      <th>staining_qc_passed</th>\n",
       "    </tr>\n",
       "  </thead>\n",
       "  <tbody>\n",
       "    <tr>\n",
       "      <th>0</th>\n",
       "      <td>0</td>\n",
       "      <td>DSB Iba1 16_40X_CA1</td>\n",
       "      <td>0.292208</td>\n",
       "      <td>1.071429</td>\n",
       "      <td>0.333333</td>\n",
       "      <td>1.045455</td>\n",
       "      <td>42</td>\n",
       "      <td>112</td>\n",
       "      <td>154</td>\n",
       "      <td>207</td>\n",
       "      <td>...</td>\n",
       "      <td>CA1</td>\n",
       "      <td>16</td>\n",
       "      <td>887</td>\n",
       "      <td>male</td>\n",
       "      <td>APP/PS1</td>\n",
       "      <td>poor</td>\n",
       "      <td>failed</td>\n",
       "      <td>suboptimal</td>\n",
       "      <td>optimal</td>\n",
       "      <td>False</td>\n",
       "    </tr>\n",
       "    <tr>\n",
       "      <th>1</th>\n",
       "      <td>1</td>\n",
       "      <td>DSB Iba1 16_40X_CA3</td>\n",
       "      <td>0.739884</td>\n",
       "      <td>1.641026</td>\n",
       "      <td>0.785714</td>\n",
       "      <td>1.662791</td>\n",
       "      <td>78</td>\n",
       "      <td>95</td>\n",
       "      <td>173</td>\n",
       "      <td>182</td>\n",
       "      <td>...</td>\n",
       "      <td>CA3</td>\n",
       "      <td>16</td>\n",
       "      <td>887</td>\n",
       "      <td>male</td>\n",
       "      <td>APP/PS1</td>\n",
       "      <td>poor</td>\n",
       "      <td>failed</td>\n",
       "      <td>suboptimal</td>\n",
       "      <td>optimal</td>\n",
       "      <td>False</td>\n",
       "    </tr>\n",
       "    <tr>\n",
       "      <th>2</th>\n",
       "      <td>2</td>\n",
       "      <td>DSB Iba1 16_40X_CTX1</td>\n",
       "      <td>0.055556</td>\n",
       "      <td>1.000000</td>\n",
       "      <td>0.183521</td>\n",
       "      <td>1.020833</td>\n",
       "      <td>2</td>\n",
       "      <td>34</td>\n",
       "      <td>36</td>\n",
       "      <td>267</td>\n",
       "      <td>...</td>\n",
       "      <td>CTX1</td>\n",
       "      <td>16</td>\n",
       "      <td>887</td>\n",
       "      <td>male</td>\n",
       "      <td>APP/PS1</td>\n",
       "      <td>poor</td>\n",
       "      <td>failed</td>\n",
       "      <td>optimal</td>\n",
       "      <td>optimal</td>\n",
       "      <td>False</td>\n",
       "    </tr>\n",
       "    <tr>\n",
       "      <th>3</th>\n",
       "      <td>3</td>\n",
       "      <td>DSB Iba1 16_40X_CTX2</td>\n",
       "      <td>0.501976</td>\n",
       "      <td>1.270000</td>\n",
       "      <td>0.490775</td>\n",
       "      <td>1.266667</td>\n",
       "      <td>100</td>\n",
       "      <td>153</td>\n",
       "      <td>253</td>\n",
       "      <td>271</td>\n",
       "      <td>...</td>\n",
       "      <td>CTX2</td>\n",
       "      <td>16</td>\n",
       "      <td>887</td>\n",
       "      <td>male</td>\n",
       "      <td>APP/PS1</td>\n",
       "      <td>poor</td>\n",
       "      <td>failed</td>\n",
       "      <td>suboptimal</td>\n",
       "      <td>optimal</td>\n",
       "      <td>False</td>\n",
       "    </tr>\n",
       "    <tr>\n",
       "      <th>4</th>\n",
       "      <td>4</td>\n",
       "      <td>DSB Iba1 16_40X_CTX3</td>\n",
       "      <td>0.567797</td>\n",
       "      <td>1.264151</td>\n",
       "      <td>0.565041</td>\n",
       "      <td>1.362745</td>\n",
       "      <td>53</td>\n",
       "      <td>65</td>\n",
       "      <td>118</td>\n",
       "      <td>246</td>\n",
       "      <td>...</td>\n",
       "      <td>CTX3</td>\n",
       "      <td>16</td>\n",
       "      <td>887</td>\n",
       "      <td>male</td>\n",
       "      <td>APP/PS1</td>\n",
       "      <td>poor</td>\n",
       "      <td>failed</td>\n",
       "      <td>suboptimal</td>\n",
       "      <td>optimal</td>\n",
       "      <td>False</td>\n",
       "    </tr>\n",
       "  </tbody>\n",
       "</table>\n",
       "<p>5 rows × 22 columns</p>\n",
       "</div>"
      ],
      "text/plain": [
       "   index              filename  avg_dna_damage_foci/glia_+  \\\n",
       "0      0   DSB Iba1 16_40X_CA1                    0.292208   \n",
       "1      1   DSB Iba1 16_40X_CA3                    0.739884   \n",
       "2      2  DSB Iba1 16_40X_CTX1                    0.055556   \n",
       "3      3  DSB Iba1 16_40X_CTX2                    0.501976   \n",
       "4      4  DSB Iba1 16_40X_CTX3                    0.567797   \n",
       "\n",
       "   avg_dna_damage_foci/glia_+_damage_+  avg_dna_damage_foci/all_nuclei  \\\n",
       "0                             1.071429                        0.333333   \n",
       "1                             1.641026                        0.785714   \n",
       "2                             1.000000                        0.183521   \n",
       "3                             1.270000                        0.490775   \n",
       "4                             1.264151                        0.565041   \n",
       "\n",
       "   avg_dna_damage_foci/all_nuclei_damage_+  nr_+_dna_damage_glia_nuclei  \\\n",
       "0                                 1.045455                           42   \n",
       "1                                 1.662791                           78   \n",
       "2                                 1.020833                            2   \n",
       "3                                 1.266667                          100   \n",
       "4                                 1.362745                           53   \n",
       "\n",
       "   nr_-_dna_damage_glia_nuclei  nr_glia_+_nuclei  nr_total_nuclei  ...  \\\n",
       "0                          112               154              207  ...   \n",
       "1                           95               173              182  ...   \n",
       "2                           34                36              267  ...   \n",
       "3                          153               253              271  ...   \n",
       "4                           65               118              246  ...   \n",
       "\n",
       "   tissue_location  staining_id animal_id   sex  genotype  \\\n",
       "0              CA1           16       887  male   APP/PS1   \n",
       "1              CA3           16       887  male   APP/PS1   \n",
       "2             CTX1           16       887  male   APP/PS1   \n",
       "3             CTX2           16       887  male   APP/PS1   \n",
       "4             CTX3           16       887  male   APP/PS1   \n",
       "\n",
       "  dna_damage_stain_quality_manual manual_qc glia_stain_quality_auto  \\\n",
       "0                            poor    failed              suboptimal   \n",
       "1                            poor    failed              suboptimal   \n",
       "2                            poor    failed                 optimal   \n",
       "3                            poor    failed              suboptimal   \n",
       "4                            poor    failed              suboptimal   \n",
       "\n",
       "  dna_damage_stain_quality_auto staining_qc_passed  \n",
       "0                       optimal              False  \n",
       "1                       optimal              False  \n",
       "2                       optimal              False  \n",
       "3                       optimal              False  \n",
       "4                       optimal              False  \n",
       "\n",
       "[5 rows x 22 columns]"
      ]
     },
     "execution_count": 103,
     "metadata": {},
     "output_type": "execute_result"
    }
   ],
   "source": [
    "# Define a function to determine staining quality, anything above 3 times the mean value is considered an outlier\n",
    "def determine_stain_quality(value, mean_value):\n",
    "    if value < (mean_value + mean_value*3):\n",
    "        return \"optimal\"\n",
    "    else:\n",
    "        return \"suboptimal\"\n",
    "\n",
    "# Check stain quality for glia and create another column storing optimal or suboptimal if qc_passed or not    \n",
    "merged_df['glia_stain_quality_auto'] = merged_df['%_glia+_signal'].apply(lambda x: determine_stain_quality(x, glia_mask_area_mean))\n",
    "\n",
    "# Check stain quality for dna_damage and create another column storing optimal or suboptimal if qc_passed or not \n",
    "merged_df['dna_damage_stain_quality_auto'] = merged_df['%_dna_damage_signal'].apply(lambda x: determine_stain_quality(x, dna_damage_mask_area_mean))\n",
    "\n",
    "# Check for both stain qualities and store True qc_passed if both are optimal\n",
    "merged_df['staining_qc_passed'] = (merged_df['glia_stain_quality_auto'] == 'optimal') & (merged_df['dna_damage_stain_quality_auto'] == 'optimal')\n",
    "\n",
    "# Group the DataFrame by 'staining_id' and check if all 'staining_qc_passed' values are True, otherwise set them all to False\n",
    "merged_df['staining_qc_passed'] = merged_df.groupby('staining_id')['staining_qc_passed'].transform('all')\n",
    "\n",
    "# Now, if all 'staining_qc_passed' values for the same 'staining_id' were True, the column will remain True; otherwise, it will be False\n",
    "\n",
    "merged_df.head()"
   ]
  },
  {
   "cell_type": "code",
   "execution_count": 104,
   "metadata": {},
   "outputs": [],
   "source": [
    "if glia_segmenter:\n",
    "    merged_df.to_csv(\n",
    "        f\"./results/qc_cellpdia{cellpose_nuclei_diameter}_sigma{gaussian_sigma}_dilrad{dilation_radius_nuclei}_dnad_obj_seg_v{dna_damage_segmenter_version}_gliaero{glia_nuclei_colocalization_erosion}_glia_sem_seg_v{glia_segmenter_version}.csv\",\n",
    "        index=False,\n",
    "    )\n",
    "else:\n",
    "    merged_df.to_csv(\n",
    "        f\"./results/qc_cellpdia{cellpose_nuclei_diameter}_sigma{gaussian_sigma}_dilrad{dilation_radius_nuclei}_dnad_obj_seg_v{dna_damage_segmenter_version}_gliaero{glia_nuclei_colocalization_erosion}_gliathr{glia_channel_threshold}.csv\",\n",
    "        index=False,\n",
    "    )"
   ]
  },
  {
   "cell_type": "code",
   "execution_count": 105,
   "metadata": {},
   "outputs": [],
   "source": [
    "# Remove data from images with a poor quality stain (auto QC)\n",
    "auto_filtered_df = merged_df[merged_df['staining_qc_passed'] == True]"
   ]
  },
  {
   "cell_type": "code",
   "execution_count": 106,
   "metadata": {},
   "outputs": [
    {
     "data": {
      "application/vnd.plotly.v1+json": {
       "config": {
        "plotlyServerURL": "https://plot.ly"
       },
       "data": [
        {
         "alignmentgroup": "True",
         "hovertemplate": "genotype=APP/PS1 x Neil3 KO<br>tissue_location=%{x}<br>avg_dna_damage_foci/glia_+=%{y}<extra></extra>",
         "legendgroup": "APP/PS1 x Neil3 KO",
         "marker": {
          "color": "#636efa"
         },
         "name": "APP/PS1 x Neil3 KO",
         "notched": false,
         "offsetgroup": "APP/PS1 x Neil3 KO",
         "orientation": "v",
         "showlegend": true,
         "type": "box",
         "x": [
          "CA1",
          "CA3",
          "CTX1",
          "CTX2",
          "CTX3",
          "DG",
          "CA1",
          "CA3",
          "CTX1",
          "CTX2",
          "CTX3",
          "DG",
          "CA1",
          "CA3",
          "CTX1",
          "CTX2",
          "CTX3",
          "DG",
          "CA1",
          "CA3",
          "CTX1",
          "CTX2",
          "CTX3",
          "DG",
          "CA1",
          "CA3",
          "CTX1",
          "CTX2",
          "CTX3",
          "DG",
          "CA1",
          "CA3",
          "CTX1",
          "CTX2",
          "CTX3",
          "DG",
          "CA1",
          "CA3",
          "CTX1",
          "CTX2",
          "CTX3",
          "DG",
          "DG",
          "CA1",
          "CA3",
          "CTX1",
          "CTX2",
          "CTX3",
          "DG",
          "CA1",
          "CA3",
          "CTX1",
          "CTX2",
          "CTX3",
          "DG",
          "CA1",
          "CA3",
          "CTX1",
          "CTX2",
          "CTX3",
          "DG",
          "CA1",
          "CA3",
          "CTX1",
          "CTX2",
          "CTX3",
          "DG",
          "CA1",
          "CA3",
          "CTX1",
          "CTX2",
          "CTX3",
          "DG",
          "CA1",
          "CA3",
          "CTX1",
          "CTX2",
          "CTX3",
          "DG",
          "CA1",
          "CA3",
          "CTX1",
          "CTX2",
          "CTX3",
          "DG",
          "CA1",
          "CA3",
          "CTX1",
          "CTX2",
          "CTX3",
          "DG",
          "CA1",
          "CA3",
          "CTX1",
          "CTX2",
          "CTX3",
          "DG"
         ],
         "x0": " ",
         "xaxis": "x",
         "y": [
          0.5714285714285714,
          1,
          1,
          1.1578947368421053,
          0.3333333333333333,
          0.875,
          1,
          0.5,
          1.3,
          0.9375,
          1.2608695652173914,
          0.6923076923076923,
          1,
          1.1666666666666667,
          0.3529411764705882,
          0.4347826086956521,
          0.7741935483870968,
          0.5,
          0,
          0,
          0.1666666666666666,
          0.7692307692307693,
          0.75,
          1.6153846153846154,
          1.1,
          1,
          0.95,
          1.2173913043478262,
          0.6875,
          1.2,
          0.3125,
          1,
          0.4864864864864865,
          0.8979591836734694,
          0.7575757575757576,
          0.78,
          1,
          0.7777777777777778,
          0.6,
          1.0769230769230769,
          0.5,
          0.3333333333333333,
          0.5,
          0.5,
          0.625,
          0.8695652173913043,
          0.7272727272727273,
          1.1904761904761905,
          1.6,
          0.5,
          0,
          null,
          0,
          0.4,
          1,
          1.2142857142857142,
          0.8333333333333334,
          0.3125,
          0.72,
          0.3684210526315789,
          2.6923076923076925,
          0.5882352941176471,
          0.15,
          0.4761904761904761,
          0.2727272727272727,
          0.3125,
          0.3157894736842105,
          0,
          0,
          0,
          0.0666666666666666,
          0.3548387096774194,
          0.4166666666666667,
          0.4285714285714285,
          0.6666666666666666,
          0.04,
          0.46875,
          0.3703703703703703,
          0.3076923076923077,
          0.4615384615384615,
          0.6666666666666666,
          0.7692307692307693,
          0.4166666666666667,
          0.3571428571428571,
          0.5666666666666667,
          1,
          0.5,
          0.8888888888888888,
          0.8888888888888888,
          0.5,
          0.3333333333333333,
          1.1666666666666667,
          0.6,
          0.4,
          0.44,
          0.5833333333333334,
          0.8571428571428571
         ],
         "y0": " ",
         "yaxis": "y"
        },
        {
         "alignmentgroup": "True",
         "hovertemplate": "genotype=APP/PS1<br>tissue_location=%{x}<br>avg_dna_damage_foci/glia_+=%{y}<extra></extra>",
         "legendgroup": "APP/PS1",
         "marker": {
          "color": "#EF553B"
         },
         "name": "APP/PS1",
         "notched": false,
         "offsetgroup": "APP/PS1",
         "orientation": "v",
         "showlegend": true,
         "type": "box",
         "x": [
          "CA1",
          "CA3",
          "CTX1",
          "CTX2",
          "CTX3",
          "DG",
          "CA1",
          "CA3",
          "CTX1",
          "CTX2",
          "CTX3",
          "DG",
          "CA1",
          "CA3",
          "CTX1",
          "CTX2",
          "CTX3",
          "DG",
          "CA1",
          "CA3",
          "CTX1",
          "CTX2",
          "CTX3",
          "DG",
          "DG",
          "CA1",
          "CA3",
          "CTX1",
          "CTX2",
          "CTX3",
          "DG",
          "CA1",
          "CA3",
          "CTX1",
          "CTX2",
          "CTX3",
          "DG",
          "CA1",
          "CA3",
          "CTX1",
          "CTX2",
          "CTX3",
          "DG",
          "CA1",
          "CA3",
          "CTX1",
          "CTX2",
          "CTX3",
          "DG",
          "CA1",
          "CA3",
          "CTX1",
          "CTX2",
          "CTX3",
          "DG",
          "CA1",
          "CA3",
          "CTX1",
          "CTX2",
          "CTX3",
          "DG",
          "CA1",
          "CA3",
          "CTX1",
          "CTX2",
          "CTX3",
          "DG",
          "CA1",
          "CA3",
          "CTX1",
          "CTX2",
          "CTX3",
          "DG",
          "CA1",
          "CA3",
          "CTX1",
          "CTX2",
          "CTX3",
          "DG",
          "CA1",
          "CA3",
          "CTX1",
          "CTX2",
          "CTX3",
          "DG",
          "CA1",
          "CA3",
          "CTX1",
          "CTX2",
          "CTX3",
          "DG",
          "CA1",
          "CA3",
          "CTX1",
          "CTX2",
          "CTX3",
          "DG",
          "CA1",
          "CA3",
          "CTX1",
          "CTX2",
          "CTX3",
          "DG",
          "CA1",
          "CA3",
          "CTX1",
          "CTX2",
          "CTX3",
          "DG",
          "CA1",
          "CA3",
          "CTX1",
          "CTX2",
          "CTX3",
          "DG"
         ],
         "x0": " ",
         "xaxis": "x",
         "y": [
          0.6666666666666666,
          1,
          1.0909090909090908,
          0.6470588235294118,
          1,
          0.8888888888888888,
          0.2857142857142857,
          1,
          0.3333333333333333,
          0,
          0.8181818181818182,
          0.7272727272727273,
          0,
          0.25,
          0,
          0.3181818181818182,
          0.0555555555555555,
          0.1428571428571428,
          0.875,
          1.1111111111111112,
          0.375,
          0.92,
          0.625,
          1.1666666666666667,
          1,
          0,
          0.25,
          0.5909090909090909,
          0.4,
          0.6428571428571429,
          0.5,
          1.3,
          1,
          0.5,
          0.4666666666666667,
          0.75,
          0.9166666666666666,
          1,
          1.3333333333333333,
          1.0714285714285714,
          0.675,
          1.1923076923076923,
          0.782608695652174,
          0.9166666666666666,
          0.75,
          1.1176470588235294,
          1.3666666666666667,
          1.5454545454545454,
          1.4,
          0.4285714285714285,
          0.0909090909090909,
          0.7777777777777778,
          0.5806451612903226,
          0.75,
          0,
          1,
          0.6,
          0,
          0.1428571428571428,
          0.75,
          1.125,
          1.6666666666666667,
          0.8333333333333334,
          0.1111111111111111,
          0.6,
          1.1,
          0.5,
          0.3333333333333333,
          0.6,
          1.08,
          0.4782608695652174,
          0.6428571428571429,
          1.809523809523809,
          0.4444444444444444,
          0.8235294117647058,
          0.1612903225806451,
          0.4871794871794871,
          0.7027027027027027,
          0.625,
          1.2857142857142858,
          1.25,
          0.6857142857142857,
          0.7272727272727273,
          0.75,
          0.8666666666666667,
          0.5333333333333333,
          0.8,
          0.3125,
          0.2222222222222222,
          0.2692307692307692,
          0.5882352941176471,
          0.625,
          1.25,
          0.6875,
          0.8125,
          0.625,
          0.8333333333333334,
          1.2,
          1.3333333333333333,
          0.3571428571428571,
          0.7692307692307693,
          0.8571428571428571,
          0.7142857142857143,
          0.25,
          0.6666666666666666,
          0.1111111111111111,
          0.3,
          0,
          0.625,
          0.6923076923076923,
          0.1333333333333333,
          0.6363636363636364,
          0.5,
          0.21875,
          0.9375
         ],
         "y0": " ",
         "yaxis": "y"
        }
       ],
       "layout": {
        "boxmode": "group",
        "legend": {
         "title": {
          "text": "genotype"
         },
         "tracegroupgap": 0
        },
        "template": {
         "data": {
          "bar": [
           {
            "error_x": {
             "color": "#2a3f5f"
            },
            "error_y": {
             "color": "#2a3f5f"
            },
            "marker": {
             "line": {
              "color": "#E5ECF6",
              "width": 0.5
             },
             "pattern": {
              "fillmode": "overlay",
              "size": 10,
              "solidity": 0.2
             }
            },
            "type": "bar"
           }
          ],
          "barpolar": [
           {
            "marker": {
             "line": {
              "color": "#E5ECF6",
              "width": 0.5
             },
             "pattern": {
              "fillmode": "overlay",
              "size": 10,
              "solidity": 0.2
             }
            },
            "type": "barpolar"
           }
          ],
          "carpet": [
           {
            "aaxis": {
             "endlinecolor": "#2a3f5f",
             "gridcolor": "white",
             "linecolor": "white",
             "minorgridcolor": "white",
             "startlinecolor": "#2a3f5f"
            },
            "baxis": {
             "endlinecolor": "#2a3f5f",
             "gridcolor": "white",
             "linecolor": "white",
             "minorgridcolor": "white",
             "startlinecolor": "#2a3f5f"
            },
            "type": "carpet"
           }
          ],
          "choropleth": [
           {
            "colorbar": {
             "outlinewidth": 0,
             "ticks": ""
            },
            "type": "choropleth"
           }
          ],
          "contour": [
           {
            "colorbar": {
             "outlinewidth": 0,
             "ticks": ""
            },
            "colorscale": [
             [
              0,
              "#0d0887"
             ],
             [
              0.1111111111111111,
              "#46039f"
             ],
             [
              0.2222222222222222,
              "#7201a8"
             ],
             [
              0.3333333333333333,
              "#9c179e"
             ],
             [
              0.4444444444444444,
              "#bd3786"
             ],
             [
              0.5555555555555556,
              "#d8576b"
             ],
             [
              0.6666666666666666,
              "#ed7953"
             ],
             [
              0.7777777777777778,
              "#fb9f3a"
             ],
             [
              0.8888888888888888,
              "#fdca26"
             ],
             [
              1,
              "#f0f921"
             ]
            ],
            "type": "contour"
           }
          ],
          "contourcarpet": [
           {
            "colorbar": {
             "outlinewidth": 0,
             "ticks": ""
            },
            "type": "contourcarpet"
           }
          ],
          "heatmap": [
           {
            "colorbar": {
             "outlinewidth": 0,
             "ticks": ""
            },
            "colorscale": [
             [
              0,
              "#0d0887"
             ],
             [
              0.1111111111111111,
              "#46039f"
             ],
             [
              0.2222222222222222,
              "#7201a8"
             ],
             [
              0.3333333333333333,
              "#9c179e"
             ],
             [
              0.4444444444444444,
              "#bd3786"
             ],
             [
              0.5555555555555556,
              "#d8576b"
             ],
             [
              0.6666666666666666,
              "#ed7953"
             ],
             [
              0.7777777777777778,
              "#fb9f3a"
             ],
             [
              0.8888888888888888,
              "#fdca26"
             ],
             [
              1,
              "#f0f921"
             ]
            ],
            "type": "heatmap"
           }
          ],
          "heatmapgl": [
           {
            "colorbar": {
             "outlinewidth": 0,
             "ticks": ""
            },
            "colorscale": [
             [
              0,
              "#0d0887"
             ],
             [
              0.1111111111111111,
              "#46039f"
             ],
             [
              0.2222222222222222,
              "#7201a8"
             ],
             [
              0.3333333333333333,
              "#9c179e"
             ],
             [
              0.4444444444444444,
              "#bd3786"
             ],
             [
              0.5555555555555556,
              "#d8576b"
             ],
             [
              0.6666666666666666,
              "#ed7953"
             ],
             [
              0.7777777777777778,
              "#fb9f3a"
             ],
             [
              0.8888888888888888,
              "#fdca26"
             ],
             [
              1,
              "#f0f921"
             ]
            ],
            "type": "heatmapgl"
           }
          ],
          "histogram": [
           {
            "marker": {
             "pattern": {
              "fillmode": "overlay",
              "size": 10,
              "solidity": 0.2
             }
            },
            "type": "histogram"
           }
          ],
          "histogram2d": [
           {
            "colorbar": {
             "outlinewidth": 0,
             "ticks": ""
            },
            "colorscale": [
             [
              0,
              "#0d0887"
             ],
             [
              0.1111111111111111,
              "#46039f"
             ],
             [
              0.2222222222222222,
              "#7201a8"
             ],
             [
              0.3333333333333333,
              "#9c179e"
             ],
             [
              0.4444444444444444,
              "#bd3786"
             ],
             [
              0.5555555555555556,
              "#d8576b"
             ],
             [
              0.6666666666666666,
              "#ed7953"
             ],
             [
              0.7777777777777778,
              "#fb9f3a"
             ],
             [
              0.8888888888888888,
              "#fdca26"
             ],
             [
              1,
              "#f0f921"
             ]
            ],
            "type": "histogram2d"
           }
          ],
          "histogram2dcontour": [
           {
            "colorbar": {
             "outlinewidth": 0,
             "ticks": ""
            },
            "colorscale": [
             [
              0,
              "#0d0887"
             ],
             [
              0.1111111111111111,
              "#46039f"
             ],
             [
              0.2222222222222222,
              "#7201a8"
             ],
             [
              0.3333333333333333,
              "#9c179e"
             ],
             [
              0.4444444444444444,
              "#bd3786"
             ],
             [
              0.5555555555555556,
              "#d8576b"
             ],
             [
              0.6666666666666666,
              "#ed7953"
             ],
             [
              0.7777777777777778,
              "#fb9f3a"
             ],
             [
              0.8888888888888888,
              "#fdca26"
             ],
             [
              1,
              "#f0f921"
             ]
            ],
            "type": "histogram2dcontour"
           }
          ],
          "mesh3d": [
           {
            "colorbar": {
             "outlinewidth": 0,
             "ticks": ""
            },
            "type": "mesh3d"
           }
          ],
          "parcoords": [
           {
            "line": {
             "colorbar": {
              "outlinewidth": 0,
              "ticks": ""
             }
            },
            "type": "parcoords"
           }
          ],
          "pie": [
           {
            "automargin": true,
            "type": "pie"
           }
          ],
          "scatter": [
           {
            "fillpattern": {
             "fillmode": "overlay",
             "size": 10,
             "solidity": 0.2
            },
            "type": "scatter"
           }
          ],
          "scatter3d": [
           {
            "line": {
             "colorbar": {
              "outlinewidth": 0,
              "ticks": ""
             }
            },
            "marker": {
             "colorbar": {
              "outlinewidth": 0,
              "ticks": ""
             }
            },
            "type": "scatter3d"
           }
          ],
          "scattercarpet": [
           {
            "marker": {
             "colorbar": {
              "outlinewidth": 0,
              "ticks": ""
             }
            },
            "type": "scattercarpet"
           }
          ],
          "scattergeo": [
           {
            "marker": {
             "colorbar": {
              "outlinewidth": 0,
              "ticks": ""
             }
            },
            "type": "scattergeo"
           }
          ],
          "scattergl": [
           {
            "marker": {
             "colorbar": {
              "outlinewidth": 0,
              "ticks": ""
             }
            },
            "type": "scattergl"
           }
          ],
          "scattermapbox": [
           {
            "marker": {
             "colorbar": {
              "outlinewidth": 0,
              "ticks": ""
             }
            },
            "type": "scattermapbox"
           }
          ],
          "scatterpolar": [
           {
            "marker": {
             "colorbar": {
              "outlinewidth": 0,
              "ticks": ""
             }
            },
            "type": "scatterpolar"
           }
          ],
          "scatterpolargl": [
           {
            "marker": {
             "colorbar": {
              "outlinewidth": 0,
              "ticks": ""
             }
            },
            "type": "scatterpolargl"
           }
          ],
          "scatterternary": [
           {
            "marker": {
             "colorbar": {
              "outlinewidth": 0,
              "ticks": ""
             }
            },
            "type": "scatterternary"
           }
          ],
          "surface": [
           {
            "colorbar": {
             "outlinewidth": 0,
             "ticks": ""
            },
            "colorscale": [
             [
              0,
              "#0d0887"
             ],
             [
              0.1111111111111111,
              "#46039f"
             ],
             [
              0.2222222222222222,
              "#7201a8"
             ],
             [
              0.3333333333333333,
              "#9c179e"
             ],
             [
              0.4444444444444444,
              "#bd3786"
             ],
             [
              0.5555555555555556,
              "#d8576b"
             ],
             [
              0.6666666666666666,
              "#ed7953"
             ],
             [
              0.7777777777777778,
              "#fb9f3a"
             ],
             [
              0.8888888888888888,
              "#fdca26"
             ],
             [
              1,
              "#f0f921"
             ]
            ],
            "type": "surface"
           }
          ],
          "table": [
           {
            "cells": {
             "fill": {
              "color": "#EBF0F8"
             },
             "line": {
              "color": "white"
             }
            },
            "header": {
             "fill": {
              "color": "#C8D4E3"
             },
             "line": {
              "color": "white"
             }
            },
            "type": "table"
           }
          ]
         },
         "layout": {
          "annotationdefaults": {
           "arrowcolor": "#2a3f5f",
           "arrowhead": 0,
           "arrowwidth": 1
          },
          "autotypenumbers": "strict",
          "coloraxis": {
           "colorbar": {
            "outlinewidth": 0,
            "ticks": ""
           }
          },
          "colorscale": {
           "diverging": [
            [
             0,
             "#8e0152"
            ],
            [
             0.1,
             "#c51b7d"
            ],
            [
             0.2,
             "#de77ae"
            ],
            [
             0.3,
             "#f1b6da"
            ],
            [
             0.4,
             "#fde0ef"
            ],
            [
             0.5,
             "#f7f7f7"
            ],
            [
             0.6,
             "#e6f5d0"
            ],
            [
             0.7,
             "#b8e186"
            ],
            [
             0.8,
             "#7fbc41"
            ],
            [
             0.9,
             "#4d9221"
            ],
            [
             1,
             "#276419"
            ]
           ],
           "sequential": [
            [
             0,
             "#0d0887"
            ],
            [
             0.1111111111111111,
             "#46039f"
            ],
            [
             0.2222222222222222,
             "#7201a8"
            ],
            [
             0.3333333333333333,
             "#9c179e"
            ],
            [
             0.4444444444444444,
             "#bd3786"
            ],
            [
             0.5555555555555556,
             "#d8576b"
            ],
            [
             0.6666666666666666,
             "#ed7953"
            ],
            [
             0.7777777777777778,
             "#fb9f3a"
            ],
            [
             0.8888888888888888,
             "#fdca26"
            ],
            [
             1,
             "#f0f921"
            ]
           ],
           "sequentialminus": [
            [
             0,
             "#0d0887"
            ],
            [
             0.1111111111111111,
             "#46039f"
            ],
            [
             0.2222222222222222,
             "#7201a8"
            ],
            [
             0.3333333333333333,
             "#9c179e"
            ],
            [
             0.4444444444444444,
             "#bd3786"
            ],
            [
             0.5555555555555556,
             "#d8576b"
            ],
            [
             0.6666666666666666,
             "#ed7953"
            ],
            [
             0.7777777777777778,
             "#fb9f3a"
            ],
            [
             0.8888888888888888,
             "#fdca26"
            ],
            [
             1,
             "#f0f921"
            ]
           ]
          },
          "colorway": [
           "#636efa",
           "#EF553B",
           "#00cc96",
           "#ab63fa",
           "#FFA15A",
           "#19d3f3",
           "#FF6692",
           "#B6E880",
           "#FF97FF",
           "#FECB52"
          ],
          "font": {
           "color": "#2a3f5f"
          },
          "geo": {
           "bgcolor": "white",
           "lakecolor": "white",
           "landcolor": "#E5ECF6",
           "showlakes": true,
           "showland": true,
           "subunitcolor": "white"
          },
          "hoverlabel": {
           "align": "left"
          },
          "hovermode": "closest",
          "mapbox": {
           "style": "light"
          },
          "paper_bgcolor": "white",
          "plot_bgcolor": "#E5ECF6",
          "polar": {
           "angularaxis": {
            "gridcolor": "white",
            "linecolor": "white",
            "ticks": ""
           },
           "bgcolor": "#E5ECF6",
           "radialaxis": {
            "gridcolor": "white",
            "linecolor": "white",
            "ticks": ""
           }
          },
          "scene": {
           "xaxis": {
            "backgroundcolor": "#E5ECF6",
            "gridcolor": "white",
            "gridwidth": 2,
            "linecolor": "white",
            "showbackground": true,
            "ticks": "",
            "zerolinecolor": "white"
           },
           "yaxis": {
            "backgroundcolor": "#E5ECF6",
            "gridcolor": "white",
            "gridwidth": 2,
            "linecolor": "white",
            "showbackground": true,
            "ticks": "",
            "zerolinecolor": "white"
           },
           "zaxis": {
            "backgroundcolor": "#E5ECF6",
            "gridcolor": "white",
            "gridwidth": 2,
            "linecolor": "white",
            "showbackground": true,
            "ticks": "",
            "zerolinecolor": "white"
           }
          },
          "shapedefaults": {
           "line": {
            "color": "#2a3f5f"
           }
          },
          "ternary": {
           "aaxis": {
            "gridcolor": "white",
            "linecolor": "white",
            "ticks": ""
           },
           "baxis": {
            "gridcolor": "white",
            "linecolor": "white",
            "ticks": ""
           },
           "bgcolor": "#E5ECF6",
           "caxis": {
            "gridcolor": "white",
            "linecolor": "white",
            "ticks": ""
           }
          },
          "title": {
           "x": 0.05
          },
          "xaxis": {
           "automargin": true,
           "gridcolor": "white",
           "linecolor": "white",
           "ticks": "",
           "title": {
            "standoff": 15
           },
           "zerolinecolor": "white",
           "zerolinewidth": 2
          },
          "yaxis": {
           "automargin": true,
           "gridcolor": "white",
           "linecolor": "white",
           "ticks": "",
           "title": {
            "standoff": 15
           },
           "zerolinecolor": "white",
           "zerolinewidth": 2
          }
         }
        },
        "title": {
         "text": "DNA Damage in Glia Nuclei by Tissue Location and Genotype (sex-aggregated) - Auto stain QC - cellpdia30_sigma4_dilrad4_dnad_obj_seg_v2_gliaero6_gliathr20"
        },
        "xaxis": {
         "anchor": "y",
         "domain": [
          0,
          1
         ],
         "title": {
          "text": "tissue_location"
         }
        },
        "yaxis": {
         "anchor": "x",
         "domain": [
          0,
          1
         ],
         "title": {
          "text": "avg_dna_damage_foci/glia_+"
         }
        }
       }
      }
     },
     "metadata": {},
     "output_type": "display_data"
    }
   ],
   "source": [
    "# Create the boxplot\n",
    "fig = px.box(auto_filtered_df, x='tissue_location', y='avg_dna_damage_foci/glia_+',\n",
    "             color='genotype', # Different genotypes will be shown in different colors\n",
    "             title=f'DNA Damage in Glia Nuclei by Tissue Location and Genotype (sex-aggregated) - Auto stain QC - {title}')\n",
    "\n",
    "# Show the plot\n",
    "fig.show()"
   ]
  },
  {
   "cell_type": "code",
   "execution_count": 107,
   "metadata": {},
   "outputs": [
    {
     "data": {
      "application/vnd.plotly.v1+json": {
       "config": {
        "plotlyServerURL": "https://plot.ly"
       },
       "data": [
        {
         "alignmentgroup": "True",
         "hovertemplate": "genotype=APP/PS1 x Neil3 KO<br>tissue_location=%{x}<br>avg_dna_damage_foci/glia_+_damage_+=%{y}<extra></extra>",
         "legendgroup": "APP/PS1 x Neil3 KO",
         "marker": {
          "color": "#636efa"
         },
         "name": "APP/PS1 x Neil3 KO",
         "notched": false,
         "offsetgroup": "APP/PS1 x Neil3 KO",
         "orientation": "v",
         "showlegend": true,
         "type": "box",
         "x": [
          "CA1",
          "CA3",
          "CTX1",
          "CTX2",
          "CTX3",
          "DG",
          "CA1",
          "CA3",
          "CTX1",
          "CTX2",
          "CTX3",
          "DG",
          "CA1",
          "CA3",
          "CTX1",
          "CTX2",
          "CTX3",
          "DG",
          "CA1",
          "CA3",
          "CTX1",
          "CTX2",
          "CTX3",
          "DG",
          "CA1",
          "CA3",
          "CTX1",
          "CTX2",
          "CTX3",
          "DG",
          "CA1",
          "CA3",
          "CTX1",
          "CTX2",
          "CTX3",
          "DG",
          "CA1",
          "CA3",
          "CTX1",
          "CTX2",
          "CTX3",
          "DG",
          "DG",
          "CA1",
          "CA3",
          "CTX1",
          "CTX2",
          "CTX3",
          "DG",
          "CA1",
          "CA3",
          "CTX1",
          "CTX2",
          "CTX3",
          "DG",
          "CA1",
          "CA3",
          "CTX1",
          "CTX2",
          "CTX3",
          "DG",
          "CA1",
          "CA3",
          "CTX1",
          "CTX2",
          "CTX3",
          "DG",
          "CA1",
          "CA3",
          "CTX1",
          "CTX2",
          "CTX3",
          "DG",
          "CA1",
          "CA3",
          "CTX1",
          "CTX2",
          "CTX3",
          "DG",
          "CA1",
          "CA3",
          "CTX1",
          "CTX2",
          "CTX3",
          "DG",
          "CA1",
          "CA3",
          "CTX1",
          "CTX2",
          "CTX3",
          "DG",
          "CA1",
          "CA3",
          "CTX1",
          "CTX2",
          "CTX3",
          "DG"
         ],
         "x0": " ",
         "xaxis": "x",
         "y": [
          1,
          1.4,
          1.75,
          1.5714285714285714,
          1,
          1.4,
          1.5714285714285714,
          1,
          2,
          1.3636363636363635,
          1.7058823529411764,
          1,
          1.6,
          1.1666666666666667,
          1.2,
          1.1111111111111112,
          1.5,
          2,
          null,
          null,
          1,
          1.6666666666666667,
          1.125,
          1.75,
          1.5714285714285714,
          1.25,
          1.7272727272727273,
          1.5555555555555556,
          1.2222222222222223,
          1.5,
          1.25,
          1.7,
          1.3846153846153846,
          1.5172413793103448,
          1.3888888888888888,
          1.5,
          1.6666666666666667,
          1.4,
          1.5,
          1.5555555555555556,
          1.25,
          1,
          1,
          1,
          1,
          1.6666666666666667,
          1.3333333333333333,
          1.4705882352941178,
          2,
          1,
          null,
          null,
          null,
          1,
          1.2,
          1.5454545454545454,
          1.25,
          1.25,
          1.5,
          1.1666666666666667,
          3.888888888888889,
          1.25,
          1,
          1.4285714285714286,
          1,
          1,
          1.2,
          null,
          null,
          null,
          1,
          1.1,
          1.25,
          1,
          1,
          1,
          1.1538461538461535,
          1.25,
          1,
          1.5,
          1.1428571428571428,
          1.25,
          1,
          1,
          1.5454545454545454,
          1.6666666666666667,
          1,
          1.4545454545454546,
          1.6,
          1,
          1,
          1.4,
          1,
          1.3333333333333333,
          1.1,
          1.4,
          1.5
         ],
         "y0": " ",
         "yaxis": "y"
        },
        {
         "alignmentgroup": "True",
         "hovertemplate": "genotype=APP/PS1<br>tissue_location=%{x}<br>avg_dna_damage_foci/glia_+_damage_+=%{y}<extra></extra>",
         "legendgroup": "APP/PS1",
         "marker": {
          "color": "#EF553B"
         },
         "name": "APP/PS1",
         "notched": false,
         "offsetgroup": "APP/PS1",
         "orientation": "v",
         "showlegend": true,
         "type": "box",
         "x": [
          "CA1",
          "CA3",
          "CTX1",
          "CTX2",
          "CTX3",
          "DG",
          "CA1",
          "CA3",
          "CTX1",
          "CTX2",
          "CTX3",
          "DG",
          "CA1",
          "CA3",
          "CTX1",
          "CTX2",
          "CTX3",
          "DG",
          "CA1",
          "CA3",
          "CTX1",
          "CTX2",
          "CTX3",
          "DG",
          "DG",
          "CA1",
          "CA3",
          "CTX1",
          "CTX2",
          "CTX3",
          "DG",
          "CA1",
          "CA3",
          "CTX1",
          "CTX2",
          "CTX3",
          "DG",
          "CA1",
          "CA3",
          "CTX1",
          "CTX2",
          "CTX3",
          "DG",
          "CA1",
          "CA3",
          "CTX1",
          "CTX2",
          "CTX3",
          "DG",
          "CA1",
          "CA3",
          "CTX1",
          "CTX2",
          "CTX3",
          "DG",
          "CA1",
          "CA3",
          "CTX1",
          "CTX2",
          "CTX3",
          "DG",
          "CA1",
          "CA3",
          "CTX1",
          "CTX2",
          "CTX3",
          "DG",
          "CA1",
          "CA3",
          "CTX1",
          "CTX2",
          "CTX3",
          "DG",
          "CA1",
          "CA3",
          "CTX1",
          "CTX2",
          "CTX3",
          "DG",
          "CA1",
          "CA3",
          "CTX1",
          "CTX2",
          "CTX3",
          "DG",
          "CA1",
          "CA3",
          "CTX1",
          "CTX2",
          "CTX3",
          "DG",
          "CA1",
          "CA3",
          "CTX1",
          "CTX2",
          "CTX3",
          "DG",
          "CA1",
          "CA3",
          "CTX1",
          "CTX2",
          "CTX3",
          "DG",
          "CA1",
          "CA3",
          "CTX1",
          "CTX2",
          "CTX3",
          "DG",
          "CA1",
          "CA3",
          "CTX1",
          "CTX2",
          "CTX3",
          "DG"
         ],
         "x0": " ",
         "xaxis": "x",
         "y": [
          1.6666666666666667,
          1.5,
          1.7142857142857142,
          1.375,
          2,
          1.1428571428571428,
          1,
          2,
          1.125,
          null,
          1.125,
          1.6,
          null,
          1,
          null,
          1,
          1,
          1,
          1.75,
          1.4285714285714286,
          1,
          1.6428571428571428,
          1.6666666666666667,
          1.5555555555555556,
          2,
          null,
          1,
          1.625,
          1.6,
          1.2857142857142858,
          1.5,
          1.8571428571428568,
          1,
          1.4,
          1.1666666666666667,
          1.3333333333333333,
          1.8333333333333333,
          1.6,
          1.3333333333333333,
          1.5,
          1.5,
          1.4761904761904765,
          1.2857142857142858,
          1.375,
          2,
          1.4615384615384617,
          1.9523809523809523,
          2.125,
          1.75,
          1,
          1,
          1.2727272727272727,
          1.6363636363636365,
          1.2857142857142858,
          null,
          2,
          1,
          null,
          1,
          1.5,
          1.2857142857142858,
          1.6666666666666667,
          1.6666666666666667,
          1,
          1.2857142857142858,
          1.375,
          1.5,
          1,
          1.5,
          1.8,
          1.375,
          1.125,
          2,
          1.3333333333333333,
          2,
          1,
          1.1176470588235294,
          1.4444444444444444,
          1.25,
          1.5,
          1.25,
          1.8461538461538465,
          1.4545454545454546,
          1.3636363636363635,
          1.625,
          1.6,
          1.3333333333333333,
          1.25,
          1.5,
          1.1666666666666667,
          1.4285714285714286,
          1.25,
          1.6666666666666667,
          1.2222222222222223,
          1.5294117647058822,
          1.4285714285714286,
          1.6666666666666667,
          1.5,
          1.3333333333333333,
          1.25,
          1.4285714285714286,
          1.5,
          1.25,
          1,
          1,
          1,
          1,
          null,
          1.25,
          1.8,
          1,
          1.75,
          1.375,
          1,
          1.5
         ],
         "y0": " ",
         "yaxis": "y"
        }
       ],
       "layout": {
        "boxmode": "group",
        "legend": {
         "title": {
          "text": "genotype"
         },
         "tracegroupgap": 0
        },
        "template": {
         "data": {
          "bar": [
           {
            "error_x": {
             "color": "#2a3f5f"
            },
            "error_y": {
             "color": "#2a3f5f"
            },
            "marker": {
             "line": {
              "color": "#E5ECF6",
              "width": 0.5
             },
             "pattern": {
              "fillmode": "overlay",
              "size": 10,
              "solidity": 0.2
             }
            },
            "type": "bar"
           }
          ],
          "barpolar": [
           {
            "marker": {
             "line": {
              "color": "#E5ECF6",
              "width": 0.5
             },
             "pattern": {
              "fillmode": "overlay",
              "size": 10,
              "solidity": 0.2
             }
            },
            "type": "barpolar"
           }
          ],
          "carpet": [
           {
            "aaxis": {
             "endlinecolor": "#2a3f5f",
             "gridcolor": "white",
             "linecolor": "white",
             "minorgridcolor": "white",
             "startlinecolor": "#2a3f5f"
            },
            "baxis": {
             "endlinecolor": "#2a3f5f",
             "gridcolor": "white",
             "linecolor": "white",
             "minorgridcolor": "white",
             "startlinecolor": "#2a3f5f"
            },
            "type": "carpet"
           }
          ],
          "choropleth": [
           {
            "colorbar": {
             "outlinewidth": 0,
             "ticks": ""
            },
            "type": "choropleth"
           }
          ],
          "contour": [
           {
            "colorbar": {
             "outlinewidth": 0,
             "ticks": ""
            },
            "colorscale": [
             [
              0,
              "#0d0887"
             ],
             [
              0.1111111111111111,
              "#46039f"
             ],
             [
              0.2222222222222222,
              "#7201a8"
             ],
             [
              0.3333333333333333,
              "#9c179e"
             ],
             [
              0.4444444444444444,
              "#bd3786"
             ],
             [
              0.5555555555555556,
              "#d8576b"
             ],
             [
              0.6666666666666666,
              "#ed7953"
             ],
             [
              0.7777777777777778,
              "#fb9f3a"
             ],
             [
              0.8888888888888888,
              "#fdca26"
             ],
             [
              1,
              "#f0f921"
             ]
            ],
            "type": "contour"
           }
          ],
          "contourcarpet": [
           {
            "colorbar": {
             "outlinewidth": 0,
             "ticks": ""
            },
            "type": "contourcarpet"
           }
          ],
          "heatmap": [
           {
            "colorbar": {
             "outlinewidth": 0,
             "ticks": ""
            },
            "colorscale": [
             [
              0,
              "#0d0887"
             ],
             [
              0.1111111111111111,
              "#46039f"
             ],
             [
              0.2222222222222222,
              "#7201a8"
             ],
             [
              0.3333333333333333,
              "#9c179e"
             ],
             [
              0.4444444444444444,
              "#bd3786"
             ],
             [
              0.5555555555555556,
              "#d8576b"
             ],
             [
              0.6666666666666666,
              "#ed7953"
             ],
             [
              0.7777777777777778,
              "#fb9f3a"
             ],
             [
              0.8888888888888888,
              "#fdca26"
             ],
             [
              1,
              "#f0f921"
             ]
            ],
            "type": "heatmap"
           }
          ],
          "heatmapgl": [
           {
            "colorbar": {
             "outlinewidth": 0,
             "ticks": ""
            },
            "colorscale": [
             [
              0,
              "#0d0887"
             ],
             [
              0.1111111111111111,
              "#46039f"
             ],
             [
              0.2222222222222222,
              "#7201a8"
             ],
             [
              0.3333333333333333,
              "#9c179e"
             ],
             [
              0.4444444444444444,
              "#bd3786"
             ],
             [
              0.5555555555555556,
              "#d8576b"
             ],
             [
              0.6666666666666666,
              "#ed7953"
             ],
             [
              0.7777777777777778,
              "#fb9f3a"
             ],
             [
              0.8888888888888888,
              "#fdca26"
             ],
             [
              1,
              "#f0f921"
             ]
            ],
            "type": "heatmapgl"
           }
          ],
          "histogram": [
           {
            "marker": {
             "pattern": {
              "fillmode": "overlay",
              "size": 10,
              "solidity": 0.2
             }
            },
            "type": "histogram"
           }
          ],
          "histogram2d": [
           {
            "colorbar": {
             "outlinewidth": 0,
             "ticks": ""
            },
            "colorscale": [
             [
              0,
              "#0d0887"
             ],
             [
              0.1111111111111111,
              "#46039f"
             ],
             [
              0.2222222222222222,
              "#7201a8"
             ],
             [
              0.3333333333333333,
              "#9c179e"
             ],
             [
              0.4444444444444444,
              "#bd3786"
             ],
             [
              0.5555555555555556,
              "#d8576b"
             ],
             [
              0.6666666666666666,
              "#ed7953"
             ],
             [
              0.7777777777777778,
              "#fb9f3a"
             ],
             [
              0.8888888888888888,
              "#fdca26"
             ],
             [
              1,
              "#f0f921"
             ]
            ],
            "type": "histogram2d"
           }
          ],
          "histogram2dcontour": [
           {
            "colorbar": {
             "outlinewidth": 0,
             "ticks": ""
            },
            "colorscale": [
             [
              0,
              "#0d0887"
             ],
             [
              0.1111111111111111,
              "#46039f"
             ],
             [
              0.2222222222222222,
              "#7201a8"
             ],
             [
              0.3333333333333333,
              "#9c179e"
             ],
             [
              0.4444444444444444,
              "#bd3786"
             ],
             [
              0.5555555555555556,
              "#d8576b"
             ],
             [
              0.6666666666666666,
              "#ed7953"
             ],
             [
              0.7777777777777778,
              "#fb9f3a"
             ],
             [
              0.8888888888888888,
              "#fdca26"
             ],
             [
              1,
              "#f0f921"
             ]
            ],
            "type": "histogram2dcontour"
           }
          ],
          "mesh3d": [
           {
            "colorbar": {
             "outlinewidth": 0,
             "ticks": ""
            },
            "type": "mesh3d"
           }
          ],
          "parcoords": [
           {
            "line": {
             "colorbar": {
              "outlinewidth": 0,
              "ticks": ""
             }
            },
            "type": "parcoords"
           }
          ],
          "pie": [
           {
            "automargin": true,
            "type": "pie"
           }
          ],
          "scatter": [
           {
            "fillpattern": {
             "fillmode": "overlay",
             "size": 10,
             "solidity": 0.2
            },
            "type": "scatter"
           }
          ],
          "scatter3d": [
           {
            "line": {
             "colorbar": {
              "outlinewidth": 0,
              "ticks": ""
             }
            },
            "marker": {
             "colorbar": {
              "outlinewidth": 0,
              "ticks": ""
             }
            },
            "type": "scatter3d"
           }
          ],
          "scattercarpet": [
           {
            "marker": {
             "colorbar": {
              "outlinewidth": 0,
              "ticks": ""
             }
            },
            "type": "scattercarpet"
           }
          ],
          "scattergeo": [
           {
            "marker": {
             "colorbar": {
              "outlinewidth": 0,
              "ticks": ""
             }
            },
            "type": "scattergeo"
           }
          ],
          "scattergl": [
           {
            "marker": {
             "colorbar": {
              "outlinewidth": 0,
              "ticks": ""
             }
            },
            "type": "scattergl"
           }
          ],
          "scattermapbox": [
           {
            "marker": {
             "colorbar": {
              "outlinewidth": 0,
              "ticks": ""
             }
            },
            "type": "scattermapbox"
           }
          ],
          "scatterpolar": [
           {
            "marker": {
             "colorbar": {
              "outlinewidth": 0,
              "ticks": ""
             }
            },
            "type": "scatterpolar"
           }
          ],
          "scatterpolargl": [
           {
            "marker": {
             "colorbar": {
              "outlinewidth": 0,
              "ticks": ""
             }
            },
            "type": "scatterpolargl"
           }
          ],
          "scatterternary": [
           {
            "marker": {
             "colorbar": {
              "outlinewidth": 0,
              "ticks": ""
             }
            },
            "type": "scatterternary"
           }
          ],
          "surface": [
           {
            "colorbar": {
             "outlinewidth": 0,
             "ticks": ""
            },
            "colorscale": [
             [
              0,
              "#0d0887"
             ],
             [
              0.1111111111111111,
              "#46039f"
             ],
             [
              0.2222222222222222,
              "#7201a8"
             ],
             [
              0.3333333333333333,
              "#9c179e"
             ],
             [
              0.4444444444444444,
              "#bd3786"
             ],
             [
              0.5555555555555556,
              "#d8576b"
             ],
             [
              0.6666666666666666,
              "#ed7953"
             ],
             [
              0.7777777777777778,
              "#fb9f3a"
             ],
             [
              0.8888888888888888,
              "#fdca26"
             ],
             [
              1,
              "#f0f921"
             ]
            ],
            "type": "surface"
           }
          ],
          "table": [
           {
            "cells": {
             "fill": {
              "color": "#EBF0F8"
             },
             "line": {
              "color": "white"
             }
            },
            "header": {
             "fill": {
              "color": "#C8D4E3"
             },
             "line": {
              "color": "white"
             }
            },
            "type": "table"
           }
          ]
         },
         "layout": {
          "annotationdefaults": {
           "arrowcolor": "#2a3f5f",
           "arrowhead": 0,
           "arrowwidth": 1
          },
          "autotypenumbers": "strict",
          "coloraxis": {
           "colorbar": {
            "outlinewidth": 0,
            "ticks": ""
           }
          },
          "colorscale": {
           "diverging": [
            [
             0,
             "#8e0152"
            ],
            [
             0.1,
             "#c51b7d"
            ],
            [
             0.2,
             "#de77ae"
            ],
            [
             0.3,
             "#f1b6da"
            ],
            [
             0.4,
             "#fde0ef"
            ],
            [
             0.5,
             "#f7f7f7"
            ],
            [
             0.6,
             "#e6f5d0"
            ],
            [
             0.7,
             "#b8e186"
            ],
            [
             0.8,
             "#7fbc41"
            ],
            [
             0.9,
             "#4d9221"
            ],
            [
             1,
             "#276419"
            ]
           ],
           "sequential": [
            [
             0,
             "#0d0887"
            ],
            [
             0.1111111111111111,
             "#46039f"
            ],
            [
             0.2222222222222222,
             "#7201a8"
            ],
            [
             0.3333333333333333,
             "#9c179e"
            ],
            [
             0.4444444444444444,
             "#bd3786"
            ],
            [
             0.5555555555555556,
             "#d8576b"
            ],
            [
             0.6666666666666666,
             "#ed7953"
            ],
            [
             0.7777777777777778,
             "#fb9f3a"
            ],
            [
             0.8888888888888888,
             "#fdca26"
            ],
            [
             1,
             "#f0f921"
            ]
           ],
           "sequentialminus": [
            [
             0,
             "#0d0887"
            ],
            [
             0.1111111111111111,
             "#46039f"
            ],
            [
             0.2222222222222222,
             "#7201a8"
            ],
            [
             0.3333333333333333,
             "#9c179e"
            ],
            [
             0.4444444444444444,
             "#bd3786"
            ],
            [
             0.5555555555555556,
             "#d8576b"
            ],
            [
             0.6666666666666666,
             "#ed7953"
            ],
            [
             0.7777777777777778,
             "#fb9f3a"
            ],
            [
             0.8888888888888888,
             "#fdca26"
            ],
            [
             1,
             "#f0f921"
            ]
           ]
          },
          "colorway": [
           "#636efa",
           "#EF553B",
           "#00cc96",
           "#ab63fa",
           "#FFA15A",
           "#19d3f3",
           "#FF6692",
           "#B6E880",
           "#FF97FF",
           "#FECB52"
          ],
          "font": {
           "color": "#2a3f5f"
          },
          "geo": {
           "bgcolor": "white",
           "lakecolor": "white",
           "landcolor": "#E5ECF6",
           "showlakes": true,
           "showland": true,
           "subunitcolor": "white"
          },
          "hoverlabel": {
           "align": "left"
          },
          "hovermode": "closest",
          "mapbox": {
           "style": "light"
          },
          "paper_bgcolor": "white",
          "plot_bgcolor": "#E5ECF6",
          "polar": {
           "angularaxis": {
            "gridcolor": "white",
            "linecolor": "white",
            "ticks": ""
           },
           "bgcolor": "#E5ECF6",
           "radialaxis": {
            "gridcolor": "white",
            "linecolor": "white",
            "ticks": ""
           }
          },
          "scene": {
           "xaxis": {
            "backgroundcolor": "#E5ECF6",
            "gridcolor": "white",
            "gridwidth": 2,
            "linecolor": "white",
            "showbackground": true,
            "ticks": "",
            "zerolinecolor": "white"
           },
           "yaxis": {
            "backgroundcolor": "#E5ECF6",
            "gridcolor": "white",
            "gridwidth": 2,
            "linecolor": "white",
            "showbackground": true,
            "ticks": "",
            "zerolinecolor": "white"
           },
           "zaxis": {
            "backgroundcolor": "#E5ECF6",
            "gridcolor": "white",
            "gridwidth": 2,
            "linecolor": "white",
            "showbackground": true,
            "ticks": "",
            "zerolinecolor": "white"
           }
          },
          "shapedefaults": {
           "line": {
            "color": "#2a3f5f"
           }
          },
          "ternary": {
           "aaxis": {
            "gridcolor": "white",
            "linecolor": "white",
            "ticks": ""
           },
           "baxis": {
            "gridcolor": "white",
            "linecolor": "white",
            "ticks": ""
           },
           "bgcolor": "#E5ECF6",
           "caxis": {
            "gridcolor": "white",
            "linecolor": "white",
            "ticks": ""
           }
          },
          "title": {
           "x": 0.05
          },
          "xaxis": {
           "automargin": true,
           "gridcolor": "white",
           "linecolor": "white",
           "ticks": "",
           "title": {
            "standoff": 15
           },
           "zerolinecolor": "white",
           "zerolinewidth": 2
          },
          "yaxis": {
           "automargin": true,
           "gridcolor": "white",
           "linecolor": "white",
           "ticks": "",
           "title": {
            "standoff": 15
           },
           "zerolinecolor": "white",
           "zerolinewidth": 2
          }
         }
        },
        "title": {
         "text": "DNA Damage in Damaged Glia Nuclei by Tissue Location and Genotype (sex-aggregated) - Auto stain QC - cellpdia30_sigma4_dilrad4_dnad_obj_seg_v2_gliaero6_gliathr20"
        },
        "xaxis": {
         "anchor": "y",
         "domain": [
          0,
          1
         ],
         "title": {
          "text": "tissue_location"
         }
        },
        "yaxis": {
         "anchor": "x",
         "domain": [
          0,
          1
         ],
         "title": {
          "text": "avg_dna_damage_foci/glia_+_damage_+"
         }
        }
       }
      }
     },
     "metadata": {},
     "output_type": "display_data"
    }
   ],
   "source": [
    "# Create the boxplot\n",
    "fig = px.box(auto_filtered_df, x='tissue_location', y='avg_dna_damage_foci/glia_+_damage_+',\n",
    "             color='genotype', # Different genotypes will be shown in different colors\n",
    "             title=f'DNA Damage in Damaged Glia Nuclei by Tissue Location and Genotype (sex-aggregated) - Auto stain QC - {title}')\n",
    "\n",
    "# Show the plot\n",
    "fig.show()"
   ]
  },
  {
   "cell_type": "code",
   "execution_count": 108,
   "metadata": {},
   "outputs": [
    {
     "data": {
      "application/vnd.plotly.v1+json": {
       "config": {
        "plotlyServerURL": "https://plot.ly"
       },
       "data": [
        {
         "alignmentgroup": "True",
         "hovertemplate": "genotype=APP/PS1 x Neil3 KO<br>tissue_location=%{x}<br>avg_dna_damage_foci/all_nuclei=%{y}<extra></extra>",
         "legendgroup": "APP/PS1 x Neil3 KO",
         "marker": {
          "color": "#636efa"
         },
         "name": "APP/PS1 x Neil3 KO",
         "notched": false,
         "offsetgroup": "APP/PS1 x Neil3 KO",
         "orientation": "v",
         "showlegend": true,
         "type": "box",
         "x": [
          "CA1",
          "CA3",
          "CTX1",
          "CTX2",
          "CTX3",
          "DG",
          "CA1",
          "CA3",
          "CTX1",
          "CTX2",
          "CTX3",
          "DG",
          "CA1",
          "CA3",
          "CTX1",
          "CTX2",
          "CTX3",
          "DG",
          "CA1",
          "CA3",
          "CTX1",
          "CTX2",
          "CTX3",
          "DG",
          "CA1",
          "CA3",
          "CTX1",
          "CTX2",
          "CTX3",
          "DG",
          "CA1",
          "CA3",
          "CTX1",
          "CTX2",
          "CTX3",
          "DG",
          "CA1",
          "CA3",
          "CTX1",
          "CTX2",
          "CTX3",
          "DG",
          "DG",
          "CA1",
          "CA3",
          "CTX1",
          "CTX2",
          "CTX3",
          "DG",
          "CA1",
          "CA3",
          "CTX1",
          "CTX2",
          "CTX3",
          "DG",
          "CA1",
          "CA3",
          "CTX1",
          "CTX2",
          "CTX3",
          "DG",
          "CA1",
          "CA3",
          "CTX1",
          "CTX2",
          "CTX3",
          "DG",
          "CA1",
          "CA3",
          "CTX1",
          "CTX2",
          "CTX3",
          "DG",
          "CA1",
          "CA3",
          "CTX1",
          "CTX2",
          "CTX3",
          "DG",
          "CA1",
          "CA3",
          "CTX1",
          "CTX2",
          "CTX3",
          "DG",
          "CA1",
          "CA3",
          "CTX1",
          "CTX2",
          "CTX3",
          "DG",
          "CA1",
          "CA3",
          "CTX1",
          "CTX2",
          "CTX3",
          "DG"
         ],
         "x0": " ",
         "xaxis": "x",
         "y": [
          0.6,
          0.8760330578512396,
          0.4095238095238095,
          0.7840909090909091,
          0.4126984126984127,
          1.1631944444444444,
          0.7608695652173914,
          0.7107438016528925,
          0.5891089108910891,
          0.5992217898832685,
          0.6195121951219512,
          0.9487179487179488,
          0.4470588235294118,
          0.45,
          0.4782608695652174,
          0.3273809523809524,
          0.5579710144927537,
          0.3548387096774194,
          0.7142857142857143,
          0.4096385542168674,
          0.3255813953488372,
          0.4700854700854701,
          0.788135593220339,
          1.6771653543307086,
          0.5878378378378378,
          0.5234375,
          0.4953271028037383,
          0.8125,
          0.4450261780104712,
          0.8356164383561644,
          0.6303030303030303,
          1.1696428571428572,
          0.5758620689655173,
          0.7142857142857143,
          0.8505154639175257,
          0.4935622317596566,
          0.6308724832214765,
          0.8263157894736842,
          0.5458333333333333,
          0.7534883720930232,
          0.5595238095238095,
          1.138047138047138,
          0.4705882352941176,
          0.3289473684210526,
          0.5824175824175825,
          0.5397727272727273,
          0.4682080924855491,
          0.5303030303030303,
          0.9487951807228916,
          0.4876847290640394,
          0.3666666666666666,
          0.0760233918128654,
          0.1057692307692307,
          0.1225806451612903,
          0.9324324324324323,
          1.0069444444444444,
          0.7961783439490446,
          0.3008849557522124,
          0.3272727272727272,
          0.2938388625592417,
          1.5,
          0.2684563758389262,
          0.1485714285714285,
          0.2717948717948718,
          0.2358078602620087,
          0.2371794871794871,
          0.4368932038834951,
          0.1343283582089552,
          0.4308943089430894,
          0.0199203187250996,
          0.1255230125523012,
          0.6,
          0.2892857142857143,
          0.3358778625954198,
          0.5046728971962616,
          0.1605839416058394,
          0.2831858407079646,
          0.3888888888888889,
          0.4144486692015209,
          0.2692307692307692,
          0.7417582417582418,
          0.174074074074074,
          0.1714285714285714,
          0.0853080568720379,
          0.4239130434782608,
          0.5317460317460317,
          0.6610169491525424,
          0.4527027027027027,
          0.6142857142857143,
          0.4693877551020408,
          0.6379310344827587,
          0.4948453608247423,
          0.2868217054263566,
          0.4914529914529914,
          0.3117647058823529,
          0.3433734939759036,
          0.8664772727272727
         ],
         "y0": " ",
         "yaxis": "y"
        },
        {
         "alignmentgroup": "True",
         "hovertemplate": "genotype=APP/PS1<br>tissue_location=%{x}<br>avg_dna_damage_foci/all_nuclei=%{y}<extra></extra>",
         "legendgroup": "APP/PS1",
         "marker": {
          "color": "#EF553B"
         },
         "name": "APP/PS1",
         "notched": false,
         "offsetgroup": "APP/PS1",
         "orientation": "v",
         "showlegend": true,
         "type": "box",
         "x": [
          "CA1",
          "CA3",
          "CTX1",
          "CTX2",
          "CTX3",
          "DG",
          "CA1",
          "CA3",
          "CTX1",
          "CTX2",
          "CTX3",
          "DG",
          "CA1",
          "CA3",
          "CTX1",
          "CTX2",
          "CTX3",
          "DG",
          "CA1",
          "CA3",
          "CTX1",
          "CTX2",
          "CTX3",
          "DG",
          "DG",
          "CA1",
          "CA3",
          "CTX1",
          "CTX2",
          "CTX3",
          "DG",
          "CA1",
          "CA3",
          "CTX1",
          "CTX2",
          "CTX3",
          "DG",
          "CA1",
          "CA3",
          "CTX1",
          "CTX2",
          "CTX3",
          "DG",
          "CA1",
          "CA3",
          "CTX1",
          "CTX2",
          "CTX3",
          "DG",
          "CA1",
          "CA3",
          "CTX1",
          "CTX2",
          "CTX3",
          "DG",
          "CA1",
          "CA3",
          "CTX1",
          "CTX2",
          "CTX3",
          "DG",
          "CA1",
          "CA3",
          "CTX1",
          "CTX2",
          "CTX3",
          "DG",
          "CA1",
          "CA3",
          "CTX1",
          "CTX2",
          "CTX3",
          "DG",
          "CA1",
          "CA3",
          "CTX1",
          "CTX2",
          "CTX3",
          "DG",
          "CA1",
          "CA3",
          "CTX1",
          "CTX2",
          "CTX3",
          "DG",
          "CA1",
          "CA3",
          "CTX1",
          "CTX2",
          "CTX3",
          "DG",
          "CA1",
          "CA3",
          "CTX1",
          "CTX2",
          "CTX3",
          "DG",
          "CA1",
          "CA3",
          "CTX1",
          "CTX2",
          "CTX3",
          "DG",
          "CA1",
          "CA3",
          "CTX1",
          "CTX2",
          "CTX3",
          "DG",
          "CA1",
          "CA3",
          "CTX1",
          "CTX2",
          "CTX3",
          "DG"
         ],
         "x0": " ",
         "xaxis": "x",
         "y": [
          0.7515923566878981,
          0.8695652173913043,
          0.7549407114624506,
          0.6192170818505338,
          0.2906976744186046,
          1.240625,
          0.562962962962963,
          0.5688073394495413,
          0.3096446700507614,
          0.0710659898477157,
          0.581081081081081,
          0.9136690647482014,
          0.348314606741573,
          0.3931034482758621,
          0.1391304347826087,
          0.1605351170568562,
          0.175438596491228,
          0.087431693989071,
          0.7716049382716049,
          0.785234899328859,
          0.4176470588235294,
          0.7029702970297029,
          0.8539823008849557,
          1.4242424242424243,
          0.9797979797979798,
          0.4740740740740741,
          0.6982758620689655,
          0.3442622950819672,
          0.3962264150943396,
          0.2608695652173913,
          0.7785467128027682,
          0.7245508982035929,
          0.8195121951219512,
          0.3318181818181818,
          0.4384615384615384,
          0.625,
          1.1833333333333331,
          0.9548872180451128,
          1.3929961089494165,
          0.7763157894736842,
          0.9310344827586208,
          1.0611353711790392,
          1.3313253012048192,
          0.6030150753768844,
          0.5774647887323944,
          0.9079497907949792,
          0.8825910931174089,
          0.832579185520362,
          1.128526645768025,
          0.4526315789473684,
          0.5950920245398773,
          0.4911660777385159,
          0.6518987341772152,
          0.6893203883495146,
          0.7477064220183486,
          0.4933333333333333,
          0.5967741935483871,
          0.2901554404145077,
          0.2813852813852814,
          0.2012195121951219,
          0.5925925925925926,
          0.3450292397660818,
          0.5864661654135338,
          0.3409090909090909,
          0.425531914893617,
          0.5543478260869565,
          0.5679442508710801,
          0.304054054054054,
          1.065326633165829,
          0.7025862068965517,
          0.354066985645933,
          0.5954545454545455,
          1.6163793103448276,
          0.5310734463276836,
          1.036144578313253,
          0.1551724137931034,
          0.4592833876221498,
          0.6092436974789915,
          1.06993006993007,
          0.8333333333333334,
          0.4907407407407407,
          0.5127118644067796,
          0.5886792452830188,
          0.5523012552301255,
          1.3101265822784811,
          0.362962962962963,
          0.7565217391304347,
          0.2307692307692307,
          0.189873417721519,
          0.3419689119170984,
          0.8321167883211679,
          0.6536312849162011,
          1.023041474654378,
          0.6666666666666666,
          0.7142857142857143,
          0.6481481481481481,
          1.255813953488372,
          0.4437086092715231,
          0.8481012658227848,
          0.4324324324324324,
          0.4855769230769231,
          0.5873015873015873,
          0.9796610169491524,
          0.3533333333333333,
          0.52,
          0.0534351145038167,
          0.6282051282051282,
          0.1505376344086021,
          0.7435064935064936,
          0.3905325443786982,
          0.4154929577464789,
          0.4042553191489361,
          0.292,
          0.275,
          0.6119402985074627
         ],
         "y0": " ",
         "yaxis": "y"
        }
       ],
       "layout": {
        "boxmode": "group",
        "legend": {
         "title": {
          "text": "genotype"
         },
         "tracegroupgap": 0
        },
        "template": {
         "data": {
          "bar": [
           {
            "error_x": {
             "color": "#2a3f5f"
            },
            "error_y": {
             "color": "#2a3f5f"
            },
            "marker": {
             "line": {
              "color": "#E5ECF6",
              "width": 0.5
             },
             "pattern": {
              "fillmode": "overlay",
              "size": 10,
              "solidity": 0.2
             }
            },
            "type": "bar"
           }
          ],
          "barpolar": [
           {
            "marker": {
             "line": {
              "color": "#E5ECF6",
              "width": 0.5
             },
             "pattern": {
              "fillmode": "overlay",
              "size": 10,
              "solidity": 0.2
             }
            },
            "type": "barpolar"
           }
          ],
          "carpet": [
           {
            "aaxis": {
             "endlinecolor": "#2a3f5f",
             "gridcolor": "white",
             "linecolor": "white",
             "minorgridcolor": "white",
             "startlinecolor": "#2a3f5f"
            },
            "baxis": {
             "endlinecolor": "#2a3f5f",
             "gridcolor": "white",
             "linecolor": "white",
             "minorgridcolor": "white",
             "startlinecolor": "#2a3f5f"
            },
            "type": "carpet"
           }
          ],
          "choropleth": [
           {
            "colorbar": {
             "outlinewidth": 0,
             "ticks": ""
            },
            "type": "choropleth"
           }
          ],
          "contour": [
           {
            "colorbar": {
             "outlinewidth": 0,
             "ticks": ""
            },
            "colorscale": [
             [
              0,
              "#0d0887"
             ],
             [
              0.1111111111111111,
              "#46039f"
             ],
             [
              0.2222222222222222,
              "#7201a8"
             ],
             [
              0.3333333333333333,
              "#9c179e"
             ],
             [
              0.4444444444444444,
              "#bd3786"
             ],
             [
              0.5555555555555556,
              "#d8576b"
             ],
             [
              0.6666666666666666,
              "#ed7953"
             ],
             [
              0.7777777777777778,
              "#fb9f3a"
             ],
             [
              0.8888888888888888,
              "#fdca26"
             ],
             [
              1,
              "#f0f921"
             ]
            ],
            "type": "contour"
           }
          ],
          "contourcarpet": [
           {
            "colorbar": {
             "outlinewidth": 0,
             "ticks": ""
            },
            "type": "contourcarpet"
           }
          ],
          "heatmap": [
           {
            "colorbar": {
             "outlinewidth": 0,
             "ticks": ""
            },
            "colorscale": [
             [
              0,
              "#0d0887"
             ],
             [
              0.1111111111111111,
              "#46039f"
             ],
             [
              0.2222222222222222,
              "#7201a8"
             ],
             [
              0.3333333333333333,
              "#9c179e"
             ],
             [
              0.4444444444444444,
              "#bd3786"
             ],
             [
              0.5555555555555556,
              "#d8576b"
             ],
             [
              0.6666666666666666,
              "#ed7953"
             ],
             [
              0.7777777777777778,
              "#fb9f3a"
             ],
             [
              0.8888888888888888,
              "#fdca26"
             ],
             [
              1,
              "#f0f921"
             ]
            ],
            "type": "heatmap"
           }
          ],
          "heatmapgl": [
           {
            "colorbar": {
             "outlinewidth": 0,
             "ticks": ""
            },
            "colorscale": [
             [
              0,
              "#0d0887"
             ],
             [
              0.1111111111111111,
              "#46039f"
             ],
             [
              0.2222222222222222,
              "#7201a8"
             ],
             [
              0.3333333333333333,
              "#9c179e"
             ],
             [
              0.4444444444444444,
              "#bd3786"
             ],
             [
              0.5555555555555556,
              "#d8576b"
             ],
             [
              0.6666666666666666,
              "#ed7953"
             ],
             [
              0.7777777777777778,
              "#fb9f3a"
             ],
             [
              0.8888888888888888,
              "#fdca26"
             ],
             [
              1,
              "#f0f921"
             ]
            ],
            "type": "heatmapgl"
           }
          ],
          "histogram": [
           {
            "marker": {
             "pattern": {
              "fillmode": "overlay",
              "size": 10,
              "solidity": 0.2
             }
            },
            "type": "histogram"
           }
          ],
          "histogram2d": [
           {
            "colorbar": {
             "outlinewidth": 0,
             "ticks": ""
            },
            "colorscale": [
             [
              0,
              "#0d0887"
             ],
             [
              0.1111111111111111,
              "#46039f"
             ],
             [
              0.2222222222222222,
              "#7201a8"
             ],
             [
              0.3333333333333333,
              "#9c179e"
             ],
             [
              0.4444444444444444,
              "#bd3786"
             ],
             [
              0.5555555555555556,
              "#d8576b"
             ],
             [
              0.6666666666666666,
              "#ed7953"
             ],
             [
              0.7777777777777778,
              "#fb9f3a"
             ],
             [
              0.8888888888888888,
              "#fdca26"
             ],
             [
              1,
              "#f0f921"
             ]
            ],
            "type": "histogram2d"
           }
          ],
          "histogram2dcontour": [
           {
            "colorbar": {
             "outlinewidth": 0,
             "ticks": ""
            },
            "colorscale": [
             [
              0,
              "#0d0887"
             ],
             [
              0.1111111111111111,
              "#46039f"
             ],
             [
              0.2222222222222222,
              "#7201a8"
             ],
             [
              0.3333333333333333,
              "#9c179e"
             ],
             [
              0.4444444444444444,
              "#bd3786"
             ],
             [
              0.5555555555555556,
              "#d8576b"
             ],
             [
              0.6666666666666666,
              "#ed7953"
             ],
             [
              0.7777777777777778,
              "#fb9f3a"
             ],
             [
              0.8888888888888888,
              "#fdca26"
             ],
             [
              1,
              "#f0f921"
             ]
            ],
            "type": "histogram2dcontour"
           }
          ],
          "mesh3d": [
           {
            "colorbar": {
             "outlinewidth": 0,
             "ticks": ""
            },
            "type": "mesh3d"
           }
          ],
          "parcoords": [
           {
            "line": {
             "colorbar": {
              "outlinewidth": 0,
              "ticks": ""
             }
            },
            "type": "parcoords"
           }
          ],
          "pie": [
           {
            "automargin": true,
            "type": "pie"
           }
          ],
          "scatter": [
           {
            "fillpattern": {
             "fillmode": "overlay",
             "size": 10,
             "solidity": 0.2
            },
            "type": "scatter"
           }
          ],
          "scatter3d": [
           {
            "line": {
             "colorbar": {
              "outlinewidth": 0,
              "ticks": ""
             }
            },
            "marker": {
             "colorbar": {
              "outlinewidth": 0,
              "ticks": ""
             }
            },
            "type": "scatter3d"
           }
          ],
          "scattercarpet": [
           {
            "marker": {
             "colorbar": {
              "outlinewidth": 0,
              "ticks": ""
             }
            },
            "type": "scattercarpet"
           }
          ],
          "scattergeo": [
           {
            "marker": {
             "colorbar": {
              "outlinewidth": 0,
              "ticks": ""
             }
            },
            "type": "scattergeo"
           }
          ],
          "scattergl": [
           {
            "marker": {
             "colorbar": {
              "outlinewidth": 0,
              "ticks": ""
             }
            },
            "type": "scattergl"
           }
          ],
          "scattermapbox": [
           {
            "marker": {
             "colorbar": {
              "outlinewidth": 0,
              "ticks": ""
             }
            },
            "type": "scattermapbox"
           }
          ],
          "scatterpolar": [
           {
            "marker": {
             "colorbar": {
              "outlinewidth": 0,
              "ticks": ""
             }
            },
            "type": "scatterpolar"
           }
          ],
          "scatterpolargl": [
           {
            "marker": {
             "colorbar": {
              "outlinewidth": 0,
              "ticks": ""
             }
            },
            "type": "scatterpolargl"
           }
          ],
          "scatterternary": [
           {
            "marker": {
             "colorbar": {
              "outlinewidth": 0,
              "ticks": ""
             }
            },
            "type": "scatterternary"
           }
          ],
          "surface": [
           {
            "colorbar": {
             "outlinewidth": 0,
             "ticks": ""
            },
            "colorscale": [
             [
              0,
              "#0d0887"
             ],
             [
              0.1111111111111111,
              "#46039f"
             ],
             [
              0.2222222222222222,
              "#7201a8"
             ],
             [
              0.3333333333333333,
              "#9c179e"
             ],
             [
              0.4444444444444444,
              "#bd3786"
             ],
             [
              0.5555555555555556,
              "#d8576b"
             ],
             [
              0.6666666666666666,
              "#ed7953"
             ],
             [
              0.7777777777777778,
              "#fb9f3a"
             ],
             [
              0.8888888888888888,
              "#fdca26"
             ],
             [
              1,
              "#f0f921"
             ]
            ],
            "type": "surface"
           }
          ],
          "table": [
           {
            "cells": {
             "fill": {
              "color": "#EBF0F8"
             },
             "line": {
              "color": "white"
             }
            },
            "header": {
             "fill": {
              "color": "#C8D4E3"
             },
             "line": {
              "color": "white"
             }
            },
            "type": "table"
           }
          ]
         },
         "layout": {
          "annotationdefaults": {
           "arrowcolor": "#2a3f5f",
           "arrowhead": 0,
           "arrowwidth": 1
          },
          "autotypenumbers": "strict",
          "coloraxis": {
           "colorbar": {
            "outlinewidth": 0,
            "ticks": ""
           }
          },
          "colorscale": {
           "diverging": [
            [
             0,
             "#8e0152"
            ],
            [
             0.1,
             "#c51b7d"
            ],
            [
             0.2,
             "#de77ae"
            ],
            [
             0.3,
             "#f1b6da"
            ],
            [
             0.4,
             "#fde0ef"
            ],
            [
             0.5,
             "#f7f7f7"
            ],
            [
             0.6,
             "#e6f5d0"
            ],
            [
             0.7,
             "#b8e186"
            ],
            [
             0.8,
             "#7fbc41"
            ],
            [
             0.9,
             "#4d9221"
            ],
            [
             1,
             "#276419"
            ]
           ],
           "sequential": [
            [
             0,
             "#0d0887"
            ],
            [
             0.1111111111111111,
             "#46039f"
            ],
            [
             0.2222222222222222,
             "#7201a8"
            ],
            [
             0.3333333333333333,
             "#9c179e"
            ],
            [
             0.4444444444444444,
             "#bd3786"
            ],
            [
             0.5555555555555556,
             "#d8576b"
            ],
            [
             0.6666666666666666,
             "#ed7953"
            ],
            [
             0.7777777777777778,
             "#fb9f3a"
            ],
            [
             0.8888888888888888,
             "#fdca26"
            ],
            [
             1,
             "#f0f921"
            ]
           ],
           "sequentialminus": [
            [
             0,
             "#0d0887"
            ],
            [
             0.1111111111111111,
             "#46039f"
            ],
            [
             0.2222222222222222,
             "#7201a8"
            ],
            [
             0.3333333333333333,
             "#9c179e"
            ],
            [
             0.4444444444444444,
             "#bd3786"
            ],
            [
             0.5555555555555556,
             "#d8576b"
            ],
            [
             0.6666666666666666,
             "#ed7953"
            ],
            [
             0.7777777777777778,
             "#fb9f3a"
            ],
            [
             0.8888888888888888,
             "#fdca26"
            ],
            [
             1,
             "#f0f921"
            ]
           ]
          },
          "colorway": [
           "#636efa",
           "#EF553B",
           "#00cc96",
           "#ab63fa",
           "#FFA15A",
           "#19d3f3",
           "#FF6692",
           "#B6E880",
           "#FF97FF",
           "#FECB52"
          ],
          "font": {
           "color": "#2a3f5f"
          },
          "geo": {
           "bgcolor": "white",
           "lakecolor": "white",
           "landcolor": "#E5ECF6",
           "showlakes": true,
           "showland": true,
           "subunitcolor": "white"
          },
          "hoverlabel": {
           "align": "left"
          },
          "hovermode": "closest",
          "mapbox": {
           "style": "light"
          },
          "paper_bgcolor": "white",
          "plot_bgcolor": "#E5ECF6",
          "polar": {
           "angularaxis": {
            "gridcolor": "white",
            "linecolor": "white",
            "ticks": ""
           },
           "bgcolor": "#E5ECF6",
           "radialaxis": {
            "gridcolor": "white",
            "linecolor": "white",
            "ticks": ""
           }
          },
          "scene": {
           "xaxis": {
            "backgroundcolor": "#E5ECF6",
            "gridcolor": "white",
            "gridwidth": 2,
            "linecolor": "white",
            "showbackground": true,
            "ticks": "",
            "zerolinecolor": "white"
           },
           "yaxis": {
            "backgroundcolor": "#E5ECF6",
            "gridcolor": "white",
            "gridwidth": 2,
            "linecolor": "white",
            "showbackground": true,
            "ticks": "",
            "zerolinecolor": "white"
           },
           "zaxis": {
            "backgroundcolor": "#E5ECF6",
            "gridcolor": "white",
            "gridwidth": 2,
            "linecolor": "white",
            "showbackground": true,
            "ticks": "",
            "zerolinecolor": "white"
           }
          },
          "shapedefaults": {
           "line": {
            "color": "#2a3f5f"
           }
          },
          "ternary": {
           "aaxis": {
            "gridcolor": "white",
            "linecolor": "white",
            "ticks": ""
           },
           "baxis": {
            "gridcolor": "white",
            "linecolor": "white",
            "ticks": ""
           },
           "bgcolor": "#E5ECF6",
           "caxis": {
            "gridcolor": "white",
            "linecolor": "white",
            "ticks": ""
           }
          },
          "title": {
           "x": 0.05
          },
          "xaxis": {
           "automargin": true,
           "gridcolor": "white",
           "linecolor": "white",
           "ticks": "",
           "title": {
            "standoff": 15
           },
           "zerolinecolor": "white",
           "zerolinewidth": 2
          },
          "yaxis": {
           "automargin": true,
           "gridcolor": "white",
           "linecolor": "white",
           "ticks": "",
           "title": {
            "standoff": 15
           },
           "zerolinecolor": "white",
           "zerolinewidth": 2
          }
         }
        },
        "title": {
         "text": "DNA Damage in All Nuclei by Tissue Location and Genotype (sex-aggregated) - Auto stain QC - cellpdia30_sigma4_dilrad4_dnad_obj_seg_v2_gliaero6_gliathr20"
        },
        "xaxis": {
         "anchor": "y",
         "domain": [
          0,
          1
         ],
         "title": {
          "text": "tissue_location"
         }
        },
        "yaxis": {
         "anchor": "x",
         "domain": [
          0,
          1
         ],
         "title": {
          "text": "avg_dna_damage_foci/all_nuclei"
         }
        }
       }
      }
     },
     "metadata": {},
     "output_type": "display_data"
    }
   ],
   "source": [
    "# Create the boxplot\n",
    "fig = px.box(auto_filtered_df, x='tissue_location', y='avg_dna_damage_foci/all_nuclei',\n",
    "             color='genotype', # Different genotypes will be shown in different colors\n",
    "             title=f'DNA Damage in All Nuclei by Tissue Location and Genotype (sex-aggregated) - Auto stain QC - {title}')\n",
    "\n",
    "# Show the plot\n",
    "fig.show()"
   ]
  },
  {
   "cell_type": "code",
   "execution_count": 109,
   "metadata": {},
   "outputs": [
    {
     "data": {
      "application/vnd.plotly.v1+json": {
       "config": {
        "plotlyServerURL": "https://plot.ly"
       },
       "data": [
        {
         "alignmentgroup": "True",
         "hovertemplate": "genotype=APP/PS1 x Neil3 KO<br>tissue_location=%{x}<br>avg_dna_damage_foci/all_nuclei_damage_+=%{y}<extra></extra>",
         "legendgroup": "APP/PS1 x Neil3 KO",
         "marker": {
          "color": "#636efa"
         },
         "name": "APP/PS1 x Neil3 KO",
         "notched": false,
         "offsetgroup": "APP/PS1 x Neil3 KO",
         "orientation": "v",
         "showlegend": true,
         "type": "box",
         "x": [
          "CA1",
          "CA3",
          "CTX1",
          "CTX2",
          "CTX3",
          "DG",
          "CA1",
          "CA3",
          "CTX1",
          "CTX2",
          "CTX3",
          "DG",
          "CA1",
          "CA3",
          "CTX1",
          "CTX2",
          "CTX3",
          "DG",
          "CA1",
          "CA3",
          "CTX1",
          "CTX2",
          "CTX3",
          "DG",
          "CA1",
          "CA3",
          "CTX1",
          "CTX2",
          "CTX3",
          "DG",
          "CA1",
          "CA3",
          "CTX1",
          "CTX2",
          "CTX3",
          "DG",
          "CA1",
          "CA3",
          "CTX1",
          "CTX2",
          "CTX3",
          "DG",
          "DG",
          "CA1",
          "CA3",
          "CTX1",
          "CTX2",
          "CTX3",
          "DG",
          "CA1",
          "CA3",
          "CTX1",
          "CTX2",
          "CTX3",
          "DG",
          "CA1",
          "CA3",
          "CTX1",
          "CTX2",
          "CTX3",
          "DG",
          "CA1",
          "CA3",
          "CTX1",
          "CTX2",
          "CTX3",
          "DG",
          "CA1",
          "CA3",
          "CTX1",
          "CTX2",
          "CTX3",
          "DG",
          "CA1",
          "CA3",
          "CTX1",
          "CTX2",
          "CTX3",
          "DG",
          "CA1",
          "CA3",
          "CTX1",
          "CTX2",
          "CTX3",
          "DG",
          "CA1",
          "CA3",
          "CTX1",
          "CTX2",
          "CTX3",
          "DG",
          "CA1",
          "CA3",
          "CTX1",
          "CTX2",
          "CTX3",
          "DG"
         ],
         "x0": " ",
         "xaxis": "x",
         "y": [
          1.207792207792208,
          1.536231884057971,
          1.131578947368421,
          1.4081632653061225,
          1.0196078431372548,
          1.4502164502164503,
          1.2209302325581397,
          1.5357142857142858,
          1.2934782608695652,
          1.2727272727272727,
          1.443181818181818,
          1.3155555555555556,
          1.2666666666666666,
          1.125,
          1.2622950819672132,
          1.25,
          1.3275862068965518,
          1.2222222222222223,
          1.2037037037037035,
          1.2142857142857142,
          1,
          1.25,
          1.3676470588235294,
          1.9722222222222223,
          1.1756756756756757,
          1.2407407407407407,
          1.1910112359550562,
          1.352,
          1.1971830985915493,
          1.3118279569892473,
          1.3866666666666667,
          1.8450704225352117,
          1.3046875,
          1.4516129032258065,
          1.6176470588235294,
          1.4556962025316456,
          1.205128205128205,
          1.3418803418803418,
          1.15929203539823,
          1.361344537815126,
          1.205128205128205,
          1.515695067264574,
          1.4545454545454546,
          1.1111111111111112,
          1.2045454545454546,
          1.2337662337662338,
          1.0657894736842106,
          1.2209302325581397,
          1.3636363636363635,
          1.0206185567010309,
          1.1282051282051282,
          1,
          1,
          1,
          1.2921348314606742,
          1.4646464646464648,
          1.524390243902439,
          1.0793650793650793,
          1.1612903225806452,
          1.1272727272727272,
          1.881656804733728,
          1.1111111111111112,
          1.0833333333333333,
          1.1041666666666667,
          1.148936170212766,
          1.0277777777777777,
          1.3235294117647058,
          1.0588235294117647,
          1.2325581395348837,
          1,
          1,
          1.2947368421052632,
          1.0253164556962024,
          1,
          1.3170731707317074,
          1,
          1.103448275862069,
          1.2173913043478262,
          1.1237113402061856,
          1.0888888888888888,
          1.4516129032258065,
          1.0930232558139534,
          1.0212765957446808,
          1,
          1.2061855670103092,
          1.1551724137931034,
          1.3928571428571428,
          1.1551724137931034,
          1.2772277227722773,
          1.2266666666666666,
          1.178343949044586,
          1.0909090909090908,
          1.0571428571428572,
          1.0849056603773586,
          1.127659574468085,
          1.1176470588235294,
          1.3034188034188037
         ],
         "y0": " ",
         "yaxis": "y"
        },
        {
         "alignmentgroup": "True",
         "hovertemplate": "genotype=APP/PS1<br>tissue_location=%{x}<br>avg_dna_damage_foci/all_nuclei_damage_+=%{y}<extra></extra>",
         "legendgroup": "APP/PS1",
         "marker": {
          "color": "#EF553B"
         },
         "name": "APP/PS1",
         "notched": false,
         "offsetgroup": "APP/PS1",
         "orientation": "v",
         "showlegend": true,
         "type": "box",
         "x": [
          "CA1",
          "CA3",
          "CTX1",
          "CTX2",
          "CTX3",
          "DG",
          "CA1",
          "CA3",
          "CTX1",
          "CTX2",
          "CTX3",
          "DG",
          "CA1",
          "CA3",
          "CTX1",
          "CTX2",
          "CTX3",
          "DG",
          "CA1",
          "CA3",
          "CTX1",
          "CTX2",
          "CTX3",
          "DG",
          "DG",
          "CA1",
          "CA3",
          "CTX1",
          "CTX2",
          "CTX3",
          "DG",
          "CA1",
          "CA3",
          "CTX1",
          "CTX2",
          "CTX3",
          "DG",
          "CA1",
          "CA3",
          "CTX1",
          "CTX2",
          "CTX3",
          "DG",
          "CA1",
          "CA3",
          "CTX1",
          "CTX2",
          "CTX3",
          "DG",
          "CA1",
          "CA3",
          "CTX1",
          "CTX2",
          "CTX3",
          "DG",
          "CA1",
          "CA3",
          "CTX1",
          "CTX2",
          "CTX3",
          "DG",
          "CA1",
          "CA3",
          "CTX1",
          "CTX2",
          "CTX3",
          "DG",
          "CA1",
          "CA3",
          "CTX1",
          "CTX2",
          "CTX3",
          "DG",
          "CA1",
          "CA3",
          "CTX1",
          "CTX2",
          "CTX3",
          "DG",
          "CA1",
          "CA3",
          "CTX1",
          "CTX2",
          "CTX3",
          "DG",
          "CA1",
          "CA3",
          "CTX1",
          "CTX2",
          "CTX3",
          "DG",
          "CA1",
          "CA3",
          "CTX1",
          "CTX2",
          "CTX3",
          "DG",
          "CA1",
          "CA3",
          "CTX1",
          "CTX2",
          "CTX3",
          "DG",
          "CA1",
          "CA3",
          "CTX1",
          "CTX2",
          "CTX3",
          "DG",
          "CA1",
          "CA3",
          "CTX1",
          "CTX2",
          "CTX3",
          "DG"
         ],
         "x0": " ",
         "xaxis": "x",
         "y": [
          1.388235294117647,
          1.7647058823529411,
          1.3450704225352113,
          1.392,
          1.25,
          1.5753968253968254,
          1.2063492063492065,
          1.4090909090909092,
          1.0338983050847457,
          1.0769230769230769,
          1.2285714285714286,
          1.3298429319371727,
          1.1071428571428572,
          1.1875,
          1,
          1.0212765957446808,
          1.0810810810810811,
          1.0666666666666669,
          1.3440860215053765,
          1.5,
          1.0597014925373134,
          1.405940594059406,
          1.484615384615385,
          1.692,
          1.7017543859649122,
          1.2549019607843137,
          1.4727272727272729,
          1.0909090909090908,
          1.206896551724138,
          1.125,
          1.347305389221557,
          1.3010752688172045,
          1.3658536585365857,
          1.0579710144927537,
          1.1515151515151516,
          1.2804878048780488,
          1.6608187134502923,
          1.8405797101449275,
          1.967032967032967,
          1.396449704142012,
          1.5789473684210529,
          1.5677419354838709,
          1.8416666666666663,
          1.1214953271028036,
          1.1884057971014492,
          1.4,
          1.4248366013071896,
          1.362962962962963,
          1.5,
          1.131578947368421,
          1.4696969696969695,
          1.1779661016949152,
          1.2875,
          1.2347826086956522,
          1.2734375,
          1.072463768115942,
          1.15625,
          1.037037037037037,
          1.0655737704918034,
          1.03125,
          1.2307692307692308,
          1.0727272727272728,
          1.21875,
          1.056338028169014,
          1.1111111111111112,
          1.1590909090909092,
          1.1897810218978102,
          1.0465116279069768,
          1.5703703703703704,
          1.2936507936507935,
          1.1044776119402986,
          1.336734693877551,
          1.9329896907216493,
          1.3623188405797102,
          1.89010989010989,
          1.08,
          1.2702702702702702,
          1.3942307692307692,
          1.7790697674418603,
          1.3636363636363635,
          1.261904761904762,
          1.1862745098039216,
          1.164179104477612,
          1.211009174311927,
          1.689795918367347,
          1.1136363636363635,
          1.4745762711864407,
          1.0285714285714285,
          1.0465116279069768,
          1.1,
          1.2954545454545454,
          1.4096385542168677,
          1.5524475524475525,
          1.328358208955224,
          1.3793103448275863,
          1.2804878048780488,
          1.7647058823529411,
          1.1355932203389831,
          1.381443298969072,
          1.1428571428571428,
          1.2317073170731707,
          1.3214285714285714,
          1.4166666666666667,
          1.03921568627451,
          1.4054054054054057,
          1,
          1.3424657534246576,
          1.1666666666666667,
          1.2513661202185793,
          1.137931034482759,
          1.3111111111111111,
          1.1343283582089552,
          1.106060606060606,
          1.1,
          1.3553719008264462
         ],
         "y0": " ",
         "yaxis": "y"
        }
       ],
       "layout": {
        "boxmode": "group",
        "legend": {
         "title": {
          "text": "genotype"
         },
         "tracegroupgap": 0
        },
        "template": {
         "data": {
          "bar": [
           {
            "error_x": {
             "color": "#2a3f5f"
            },
            "error_y": {
             "color": "#2a3f5f"
            },
            "marker": {
             "line": {
              "color": "#E5ECF6",
              "width": 0.5
             },
             "pattern": {
              "fillmode": "overlay",
              "size": 10,
              "solidity": 0.2
             }
            },
            "type": "bar"
           }
          ],
          "barpolar": [
           {
            "marker": {
             "line": {
              "color": "#E5ECF6",
              "width": 0.5
             },
             "pattern": {
              "fillmode": "overlay",
              "size": 10,
              "solidity": 0.2
             }
            },
            "type": "barpolar"
           }
          ],
          "carpet": [
           {
            "aaxis": {
             "endlinecolor": "#2a3f5f",
             "gridcolor": "white",
             "linecolor": "white",
             "minorgridcolor": "white",
             "startlinecolor": "#2a3f5f"
            },
            "baxis": {
             "endlinecolor": "#2a3f5f",
             "gridcolor": "white",
             "linecolor": "white",
             "minorgridcolor": "white",
             "startlinecolor": "#2a3f5f"
            },
            "type": "carpet"
           }
          ],
          "choropleth": [
           {
            "colorbar": {
             "outlinewidth": 0,
             "ticks": ""
            },
            "type": "choropleth"
           }
          ],
          "contour": [
           {
            "colorbar": {
             "outlinewidth": 0,
             "ticks": ""
            },
            "colorscale": [
             [
              0,
              "#0d0887"
             ],
             [
              0.1111111111111111,
              "#46039f"
             ],
             [
              0.2222222222222222,
              "#7201a8"
             ],
             [
              0.3333333333333333,
              "#9c179e"
             ],
             [
              0.4444444444444444,
              "#bd3786"
             ],
             [
              0.5555555555555556,
              "#d8576b"
             ],
             [
              0.6666666666666666,
              "#ed7953"
             ],
             [
              0.7777777777777778,
              "#fb9f3a"
             ],
             [
              0.8888888888888888,
              "#fdca26"
             ],
             [
              1,
              "#f0f921"
             ]
            ],
            "type": "contour"
           }
          ],
          "contourcarpet": [
           {
            "colorbar": {
             "outlinewidth": 0,
             "ticks": ""
            },
            "type": "contourcarpet"
           }
          ],
          "heatmap": [
           {
            "colorbar": {
             "outlinewidth": 0,
             "ticks": ""
            },
            "colorscale": [
             [
              0,
              "#0d0887"
             ],
             [
              0.1111111111111111,
              "#46039f"
             ],
             [
              0.2222222222222222,
              "#7201a8"
             ],
             [
              0.3333333333333333,
              "#9c179e"
             ],
             [
              0.4444444444444444,
              "#bd3786"
             ],
             [
              0.5555555555555556,
              "#d8576b"
             ],
             [
              0.6666666666666666,
              "#ed7953"
             ],
             [
              0.7777777777777778,
              "#fb9f3a"
             ],
             [
              0.8888888888888888,
              "#fdca26"
             ],
             [
              1,
              "#f0f921"
             ]
            ],
            "type": "heatmap"
           }
          ],
          "heatmapgl": [
           {
            "colorbar": {
             "outlinewidth": 0,
             "ticks": ""
            },
            "colorscale": [
             [
              0,
              "#0d0887"
             ],
             [
              0.1111111111111111,
              "#46039f"
             ],
             [
              0.2222222222222222,
              "#7201a8"
             ],
             [
              0.3333333333333333,
              "#9c179e"
             ],
             [
              0.4444444444444444,
              "#bd3786"
             ],
             [
              0.5555555555555556,
              "#d8576b"
             ],
             [
              0.6666666666666666,
              "#ed7953"
             ],
             [
              0.7777777777777778,
              "#fb9f3a"
             ],
             [
              0.8888888888888888,
              "#fdca26"
             ],
             [
              1,
              "#f0f921"
             ]
            ],
            "type": "heatmapgl"
           }
          ],
          "histogram": [
           {
            "marker": {
             "pattern": {
              "fillmode": "overlay",
              "size": 10,
              "solidity": 0.2
             }
            },
            "type": "histogram"
           }
          ],
          "histogram2d": [
           {
            "colorbar": {
             "outlinewidth": 0,
             "ticks": ""
            },
            "colorscale": [
             [
              0,
              "#0d0887"
             ],
             [
              0.1111111111111111,
              "#46039f"
             ],
             [
              0.2222222222222222,
              "#7201a8"
             ],
             [
              0.3333333333333333,
              "#9c179e"
             ],
             [
              0.4444444444444444,
              "#bd3786"
             ],
             [
              0.5555555555555556,
              "#d8576b"
             ],
             [
              0.6666666666666666,
              "#ed7953"
             ],
             [
              0.7777777777777778,
              "#fb9f3a"
             ],
             [
              0.8888888888888888,
              "#fdca26"
             ],
             [
              1,
              "#f0f921"
             ]
            ],
            "type": "histogram2d"
           }
          ],
          "histogram2dcontour": [
           {
            "colorbar": {
             "outlinewidth": 0,
             "ticks": ""
            },
            "colorscale": [
             [
              0,
              "#0d0887"
             ],
             [
              0.1111111111111111,
              "#46039f"
             ],
             [
              0.2222222222222222,
              "#7201a8"
             ],
             [
              0.3333333333333333,
              "#9c179e"
             ],
             [
              0.4444444444444444,
              "#bd3786"
             ],
             [
              0.5555555555555556,
              "#d8576b"
             ],
             [
              0.6666666666666666,
              "#ed7953"
             ],
             [
              0.7777777777777778,
              "#fb9f3a"
             ],
             [
              0.8888888888888888,
              "#fdca26"
             ],
             [
              1,
              "#f0f921"
             ]
            ],
            "type": "histogram2dcontour"
           }
          ],
          "mesh3d": [
           {
            "colorbar": {
             "outlinewidth": 0,
             "ticks": ""
            },
            "type": "mesh3d"
           }
          ],
          "parcoords": [
           {
            "line": {
             "colorbar": {
              "outlinewidth": 0,
              "ticks": ""
             }
            },
            "type": "parcoords"
           }
          ],
          "pie": [
           {
            "automargin": true,
            "type": "pie"
           }
          ],
          "scatter": [
           {
            "fillpattern": {
             "fillmode": "overlay",
             "size": 10,
             "solidity": 0.2
            },
            "type": "scatter"
           }
          ],
          "scatter3d": [
           {
            "line": {
             "colorbar": {
              "outlinewidth": 0,
              "ticks": ""
             }
            },
            "marker": {
             "colorbar": {
              "outlinewidth": 0,
              "ticks": ""
             }
            },
            "type": "scatter3d"
           }
          ],
          "scattercarpet": [
           {
            "marker": {
             "colorbar": {
              "outlinewidth": 0,
              "ticks": ""
             }
            },
            "type": "scattercarpet"
           }
          ],
          "scattergeo": [
           {
            "marker": {
             "colorbar": {
              "outlinewidth": 0,
              "ticks": ""
             }
            },
            "type": "scattergeo"
           }
          ],
          "scattergl": [
           {
            "marker": {
             "colorbar": {
              "outlinewidth": 0,
              "ticks": ""
             }
            },
            "type": "scattergl"
           }
          ],
          "scattermapbox": [
           {
            "marker": {
             "colorbar": {
              "outlinewidth": 0,
              "ticks": ""
             }
            },
            "type": "scattermapbox"
           }
          ],
          "scatterpolar": [
           {
            "marker": {
             "colorbar": {
              "outlinewidth": 0,
              "ticks": ""
             }
            },
            "type": "scatterpolar"
           }
          ],
          "scatterpolargl": [
           {
            "marker": {
             "colorbar": {
              "outlinewidth": 0,
              "ticks": ""
             }
            },
            "type": "scatterpolargl"
           }
          ],
          "scatterternary": [
           {
            "marker": {
             "colorbar": {
              "outlinewidth": 0,
              "ticks": ""
             }
            },
            "type": "scatterternary"
           }
          ],
          "surface": [
           {
            "colorbar": {
             "outlinewidth": 0,
             "ticks": ""
            },
            "colorscale": [
             [
              0,
              "#0d0887"
             ],
             [
              0.1111111111111111,
              "#46039f"
             ],
             [
              0.2222222222222222,
              "#7201a8"
             ],
             [
              0.3333333333333333,
              "#9c179e"
             ],
             [
              0.4444444444444444,
              "#bd3786"
             ],
             [
              0.5555555555555556,
              "#d8576b"
             ],
             [
              0.6666666666666666,
              "#ed7953"
             ],
             [
              0.7777777777777778,
              "#fb9f3a"
             ],
             [
              0.8888888888888888,
              "#fdca26"
             ],
             [
              1,
              "#f0f921"
             ]
            ],
            "type": "surface"
           }
          ],
          "table": [
           {
            "cells": {
             "fill": {
              "color": "#EBF0F8"
             },
             "line": {
              "color": "white"
             }
            },
            "header": {
             "fill": {
              "color": "#C8D4E3"
             },
             "line": {
              "color": "white"
             }
            },
            "type": "table"
           }
          ]
         },
         "layout": {
          "annotationdefaults": {
           "arrowcolor": "#2a3f5f",
           "arrowhead": 0,
           "arrowwidth": 1
          },
          "autotypenumbers": "strict",
          "coloraxis": {
           "colorbar": {
            "outlinewidth": 0,
            "ticks": ""
           }
          },
          "colorscale": {
           "diverging": [
            [
             0,
             "#8e0152"
            ],
            [
             0.1,
             "#c51b7d"
            ],
            [
             0.2,
             "#de77ae"
            ],
            [
             0.3,
             "#f1b6da"
            ],
            [
             0.4,
             "#fde0ef"
            ],
            [
             0.5,
             "#f7f7f7"
            ],
            [
             0.6,
             "#e6f5d0"
            ],
            [
             0.7,
             "#b8e186"
            ],
            [
             0.8,
             "#7fbc41"
            ],
            [
             0.9,
             "#4d9221"
            ],
            [
             1,
             "#276419"
            ]
           ],
           "sequential": [
            [
             0,
             "#0d0887"
            ],
            [
             0.1111111111111111,
             "#46039f"
            ],
            [
             0.2222222222222222,
             "#7201a8"
            ],
            [
             0.3333333333333333,
             "#9c179e"
            ],
            [
             0.4444444444444444,
             "#bd3786"
            ],
            [
             0.5555555555555556,
             "#d8576b"
            ],
            [
             0.6666666666666666,
             "#ed7953"
            ],
            [
             0.7777777777777778,
             "#fb9f3a"
            ],
            [
             0.8888888888888888,
             "#fdca26"
            ],
            [
             1,
             "#f0f921"
            ]
           ],
           "sequentialminus": [
            [
             0,
             "#0d0887"
            ],
            [
             0.1111111111111111,
             "#46039f"
            ],
            [
             0.2222222222222222,
             "#7201a8"
            ],
            [
             0.3333333333333333,
             "#9c179e"
            ],
            [
             0.4444444444444444,
             "#bd3786"
            ],
            [
             0.5555555555555556,
             "#d8576b"
            ],
            [
             0.6666666666666666,
             "#ed7953"
            ],
            [
             0.7777777777777778,
             "#fb9f3a"
            ],
            [
             0.8888888888888888,
             "#fdca26"
            ],
            [
             1,
             "#f0f921"
            ]
           ]
          },
          "colorway": [
           "#636efa",
           "#EF553B",
           "#00cc96",
           "#ab63fa",
           "#FFA15A",
           "#19d3f3",
           "#FF6692",
           "#B6E880",
           "#FF97FF",
           "#FECB52"
          ],
          "font": {
           "color": "#2a3f5f"
          },
          "geo": {
           "bgcolor": "white",
           "lakecolor": "white",
           "landcolor": "#E5ECF6",
           "showlakes": true,
           "showland": true,
           "subunitcolor": "white"
          },
          "hoverlabel": {
           "align": "left"
          },
          "hovermode": "closest",
          "mapbox": {
           "style": "light"
          },
          "paper_bgcolor": "white",
          "plot_bgcolor": "#E5ECF6",
          "polar": {
           "angularaxis": {
            "gridcolor": "white",
            "linecolor": "white",
            "ticks": ""
           },
           "bgcolor": "#E5ECF6",
           "radialaxis": {
            "gridcolor": "white",
            "linecolor": "white",
            "ticks": ""
           }
          },
          "scene": {
           "xaxis": {
            "backgroundcolor": "#E5ECF6",
            "gridcolor": "white",
            "gridwidth": 2,
            "linecolor": "white",
            "showbackground": true,
            "ticks": "",
            "zerolinecolor": "white"
           },
           "yaxis": {
            "backgroundcolor": "#E5ECF6",
            "gridcolor": "white",
            "gridwidth": 2,
            "linecolor": "white",
            "showbackground": true,
            "ticks": "",
            "zerolinecolor": "white"
           },
           "zaxis": {
            "backgroundcolor": "#E5ECF6",
            "gridcolor": "white",
            "gridwidth": 2,
            "linecolor": "white",
            "showbackground": true,
            "ticks": "",
            "zerolinecolor": "white"
           }
          },
          "shapedefaults": {
           "line": {
            "color": "#2a3f5f"
           }
          },
          "ternary": {
           "aaxis": {
            "gridcolor": "white",
            "linecolor": "white",
            "ticks": ""
           },
           "baxis": {
            "gridcolor": "white",
            "linecolor": "white",
            "ticks": ""
           },
           "bgcolor": "#E5ECF6",
           "caxis": {
            "gridcolor": "white",
            "linecolor": "white",
            "ticks": ""
           }
          },
          "title": {
           "x": 0.05
          },
          "xaxis": {
           "automargin": true,
           "gridcolor": "white",
           "linecolor": "white",
           "ticks": "",
           "title": {
            "standoff": 15
           },
           "zerolinecolor": "white",
           "zerolinewidth": 2
          },
          "yaxis": {
           "automargin": true,
           "gridcolor": "white",
           "linecolor": "white",
           "ticks": "",
           "title": {
            "standoff": 15
           },
           "zerolinecolor": "white",
           "zerolinewidth": 2
          }
         }
        },
        "title": {
         "text": "DNA Damage in Damage+ Nuclei by Tissue Location and Genotype (sex-aggregated) - Auto stain QC - cellpdia30_sigma4_dilrad4_dnad_obj_seg_v2_gliaero6_gliathr20"
        },
        "xaxis": {
         "anchor": "y",
         "domain": [
          0,
          1
         ],
         "title": {
          "text": "tissue_location"
         }
        },
        "yaxis": {
         "anchor": "x",
         "domain": [
          0,
          1
         ],
         "title": {
          "text": "avg_dna_damage_foci/all_nuclei_damage_+"
         }
        }
       }
      }
     },
     "metadata": {},
     "output_type": "display_data"
    }
   ],
   "source": [
    "# Create the boxplot\n",
    "fig = px.box(auto_filtered_df, x='tissue_location', y='avg_dna_damage_foci/all_nuclei_damage_+',\n",
    "             color='genotype', # Different genotypes will be shown in different colors\n",
    "             title=f'DNA Damage in Damage+ Nuclei by Tissue Location and Genotype (sex-aggregated) - Auto stain QC - {title}')\n",
    "\n",
    "# Show the plot\n",
    "fig.show()"
   ]
  },
  {
   "cell_type": "markdown",
   "metadata": {},
   "source": [
    "Show failed qc dataframe"
   ]
  },
  {
   "cell_type": "code",
   "execution_count": 110,
   "metadata": {},
   "outputs": [
    {
     "name": "stdout",
     "output_type": "stream",
     "text": [
      "40 stains have not passed QC and have been discarded\n"
     ]
    },
    {
     "data": {
      "text/html": [
       "<div>\n",
       "<style scoped>\n",
       "    .dataframe tbody tr th:only-of-type {\n",
       "        vertical-align: middle;\n",
       "    }\n",
       "\n",
       "    .dataframe tbody tr th {\n",
       "        vertical-align: top;\n",
       "    }\n",
       "\n",
       "    .dataframe thead th {\n",
       "        text-align: right;\n",
       "    }\n",
       "</style>\n",
       "<table border=\"1\" class=\"dataframe\">\n",
       "  <thead>\n",
       "    <tr style=\"text-align: right;\">\n",
       "      <th></th>\n",
       "      <th>index</th>\n",
       "      <th>filename</th>\n",
       "      <th>avg_dna_damage_foci/glia_+</th>\n",
       "      <th>avg_dna_damage_foci/glia_+_damage_+</th>\n",
       "      <th>avg_dna_damage_foci/all_nuclei</th>\n",
       "      <th>avg_dna_damage_foci/all_nuclei_damage_+</th>\n",
       "      <th>nr_+_dna_damage_glia_nuclei</th>\n",
       "      <th>nr_-_dna_damage_glia_nuclei</th>\n",
       "      <th>nr_glia_+_nuclei</th>\n",
       "      <th>nr_total_nuclei</th>\n",
       "      <th>...</th>\n",
       "      <th>tissue_location</th>\n",
       "      <th>staining_id</th>\n",
       "      <th>animal_id</th>\n",
       "      <th>sex</th>\n",
       "      <th>genotype</th>\n",
       "      <th>dna_damage_stain_quality_manual</th>\n",
       "      <th>manual_qc</th>\n",
       "      <th>glia_stain_quality_auto</th>\n",
       "      <th>dna_damage_stain_quality_auto</th>\n",
       "      <th>staining_qc_passed</th>\n",
       "    </tr>\n",
       "  </thead>\n",
       "  <tbody>\n",
       "    <tr>\n",
       "      <th>0</th>\n",
       "      <td>0</td>\n",
       "      <td>DSB Iba1 16_40X_CA1</td>\n",
       "      <td>0.292208</td>\n",
       "      <td>1.071429</td>\n",
       "      <td>0.333333</td>\n",
       "      <td>1.045455</td>\n",
       "      <td>42</td>\n",
       "      <td>112</td>\n",
       "      <td>154</td>\n",
       "      <td>207</td>\n",
       "      <td>...</td>\n",
       "      <td>CA1</td>\n",
       "      <td>16</td>\n",
       "      <td>887</td>\n",
       "      <td>male</td>\n",
       "      <td>APP/PS1</td>\n",
       "      <td>poor</td>\n",
       "      <td>failed</td>\n",
       "      <td>suboptimal</td>\n",
       "      <td>optimal</td>\n",
       "      <td>False</td>\n",
       "    </tr>\n",
       "    <tr>\n",
       "      <th>1</th>\n",
       "      <td>1</td>\n",
       "      <td>DSB Iba1 16_40X_CA3</td>\n",
       "      <td>0.739884</td>\n",
       "      <td>1.641026</td>\n",
       "      <td>0.785714</td>\n",
       "      <td>1.662791</td>\n",
       "      <td>78</td>\n",
       "      <td>95</td>\n",
       "      <td>173</td>\n",
       "      <td>182</td>\n",
       "      <td>...</td>\n",
       "      <td>CA3</td>\n",
       "      <td>16</td>\n",
       "      <td>887</td>\n",
       "      <td>male</td>\n",
       "      <td>APP/PS1</td>\n",
       "      <td>poor</td>\n",
       "      <td>failed</td>\n",
       "      <td>suboptimal</td>\n",
       "      <td>optimal</td>\n",
       "      <td>False</td>\n",
       "    </tr>\n",
       "    <tr>\n",
       "      <th>2</th>\n",
       "      <td>2</td>\n",
       "      <td>DSB Iba1 16_40X_CTX1</td>\n",
       "      <td>0.055556</td>\n",
       "      <td>1.000000</td>\n",
       "      <td>0.183521</td>\n",
       "      <td>1.020833</td>\n",
       "      <td>2</td>\n",
       "      <td>34</td>\n",
       "      <td>36</td>\n",
       "      <td>267</td>\n",
       "      <td>...</td>\n",
       "      <td>CTX1</td>\n",
       "      <td>16</td>\n",
       "      <td>887</td>\n",
       "      <td>male</td>\n",
       "      <td>APP/PS1</td>\n",
       "      <td>poor</td>\n",
       "      <td>failed</td>\n",
       "      <td>optimal</td>\n",
       "      <td>optimal</td>\n",
       "      <td>False</td>\n",
       "    </tr>\n",
       "    <tr>\n",
       "      <th>3</th>\n",
       "      <td>3</td>\n",
       "      <td>DSB Iba1 16_40X_CTX2</td>\n",
       "      <td>0.501976</td>\n",
       "      <td>1.270000</td>\n",
       "      <td>0.490775</td>\n",
       "      <td>1.266667</td>\n",
       "      <td>100</td>\n",
       "      <td>153</td>\n",
       "      <td>253</td>\n",
       "      <td>271</td>\n",
       "      <td>...</td>\n",
       "      <td>CTX2</td>\n",
       "      <td>16</td>\n",
       "      <td>887</td>\n",
       "      <td>male</td>\n",
       "      <td>APP/PS1</td>\n",
       "      <td>poor</td>\n",
       "      <td>failed</td>\n",
       "      <td>suboptimal</td>\n",
       "      <td>optimal</td>\n",
       "      <td>False</td>\n",
       "    </tr>\n",
       "    <tr>\n",
       "      <th>4</th>\n",
       "      <td>4</td>\n",
       "      <td>DSB Iba1 16_40X_CTX3</td>\n",
       "      <td>0.567797</td>\n",
       "      <td>1.264151</td>\n",
       "      <td>0.565041</td>\n",
       "      <td>1.362745</td>\n",
       "      <td>53</td>\n",
       "      <td>65</td>\n",
       "      <td>118</td>\n",
       "      <td>246</td>\n",
       "      <td>...</td>\n",
       "      <td>CTX3</td>\n",
       "      <td>16</td>\n",
       "      <td>887</td>\n",
       "      <td>male</td>\n",
       "      <td>APP/PS1</td>\n",
       "      <td>poor</td>\n",
       "      <td>failed</td>\n",
       "      <td>suboptimal</td>\n",
       "      <td>optimal</td>\n",
       "      <td>False</td>\n",
       "    </tr>\n",
       "    <tr>\n",
       "      <th>5</th>\n",
       "      <td>5</td>\n",
       "      <td>DSB Iba1 16_40X_DG</td>\n",
       "      <td>0.369668</td>\n",
       "      <td>1.218750</td>\n",
       "      <td>0.377778</td>\n",
       "      <td>1.214286</td>\n",
       "      <td>64</td>\n",
       "      <td>147</td>\n",
       "      <td>211</td>\n",
       "      <td>225</td>\n",
       "      <td>...</td>\n",
       "      <td>DG</td>\n",
       "      <td>16</td>\n",
       "      <td>887</td>\n",
       "      <td>male</td>\n",
       "      <td>APP/PS1</td>\n",
       "      <td>poor</td>\n",
       "      <td>failed</td>\n",
       "      <td>suboptimal</td>\n",
       "      <td>optimal</td>\n",
       "      <td>False</td>\n",
       "    </tr>\n",
       "    <tr>\n",
       "      <th>6</th>\n",
       "      <td>6</td>\n",
       "      <td>DSB Iba1 17_40X_CA1</td>\n",
       "      <td>0.181818</td>\n",
       "      <td>1.000000</td>\n",
       "      <td>0.352601</td>\n",
       "      <td>1.109091</td>\n",
       "      <td>2</td>\n",
       "      <td>9</td>\n",
       "      <td>11</td>\n",
       "      <td>173</td>\n",
       "      <td>...</td>\n",
       "      <td>CA1</td>\n",
       "      <td>17</td>\n",
       "      <td>892</td>\n",
       "      <td>female</td>\n",
       "      <td>APP/PS1</td>\n",
       "      <td>poor</td>\n",
       "      <td>failed</td>\n",
       "      <td>optimal</td>\n",
       "      <td>optimal</td>\n",
       "      <td>False</td>\n",
       "    </tr>\n",
       "    <tr>\n",
       "      <th>7</th>\n",
       "      <td>7</td>\n",
       "      <td>DSB Iba1 17_40X_CA3</td>\n",
       "      <td>0.450000</td>\n",
       "      <td>1.285714</td>\n",
       "      <td>0.603352</td>\n",
       "      <td>1.440000</td>\n",
       "      <td>7</td>\n",
       "      <td>13</td>\n",
       "      <td>20</td>\n",
       "      <td>179</td>\n",
       "      <td>...</td>\n",
       "      <td>CA3</td>\n",
       "      <td>17</td>\n",
       "      <td>892</td>\n",
       "      <td>female</td>\n",
       "      <td>APP/PS1</td>\n",
       "      <td>poor</td>\n",
       "      <td>failed</td>\n",
       "      <td>optimal</td>\n",
       "      <td>optimal</td>\n",
       "      <td>False</td>\n",
       "    </tr>\n",
       "    <tr>\n",
       "      <th>8</th>\n",
       "      <td>8</td>\n",
       "      <td>DSB Iba1 17_40X_CTX1</td>\n",
       "      <td>0.500000</td>\n",
       "      <td>1.125000</td>\n",
       "      <td>0.280899</td>\n",
       "      <td>1.041667</td>\n",
       "      <td>8</td>\n",
       "      <td>10</td>\n",
       "      <td>18</td>\n",
       "      <td>267</td>\n",
       "      <td>...</td>\n",
       "      <td>CTX1</td>\n",
       "      <td>17</td>\n",
       "      <td>892</td>\n",
       "      <td>female</td>\n",
       "      <td>APP/PS1</td>\n",
       "      <td>poor</td>\n",
       "      <td>failed</td>\n",
       "      <td>optimal</td>\n",
       "      <td>optimal</td>\n",
       "      <td>False</td>\n",
       "    </tr>\n",
       "    <tr>\n",
       "      <th>9</th>\n",
       "      <td>9</td>\n",
       "      <td>DSB Iba1 17_40X_CTX2</td>\n",
       "      <td>0.560000</td>\n",
       "      <td>1.120000</td>\n",
       "      <td>0.332278</td>\n",
       "      <td>1.129032</td>\n",
       "      <td>25</td>\n",
       "      <td>25</td>\n",
       "      <td>50</td>\n",
       "      <td>316</td>\n",
       "      <td>...</td>\n",
       "      <td>CTX2</td>\n",
       "      <td>17</td>\n",
       "      <td>892</td>\n",
       "      <td>female</td>\n",
       "      <td>APP/PS1</td>\n",
       "      <td>poor</td>\n",
       "      <td>failed</td>\n",
       "      <td>optimal</td>\n",
       "      <td>optimal</td>\n",
       "      <td>False</td>\n",
       "    </tr>\n",
       "    <tr>\n",
       "      <th>10</th>\n",
       "      <td>10</td>\n",
       "      <td>DSB Iba1 17_40X_CTX3</td>\n",
       "      <td>0.742857</td>\n",
       "      <td>1.444444</td>\n",
       "      <td>0.894444</td>\n",
       "      <td>1.788889</td>\n",
       "      <td>18</td>\n",
       "      <td>17</td>\n",
       "      <td>35</td>\n",
       "      <td>180</td>\n",
       "      <td>...</td>\n",
       "      <td>CTX3</td>\n",
       "      <td>17</td>\n",
       "      <td>892</td>\n",
       "      <td>female</td>\n",
       "      <td>APP/PS1</td>\n",
       "      <td>poor</td>\n",
       "      <td>failed</td>\n",
       "      <td>optimal</td>\n",
       "      <td>optimal</td>\n",
       "      <td>False</td>\n",
       "    </tr>\n",
       "    <tr>\n",
       "      <th>11</th>\n",
       "      <td>11</td>\n",
       "      <td>DSB Iba1 17_40X_DG</td>\n",
       "      <td>0.329412</td>\n",
       "      <td>1.333333</td>\n",
       "      <td>0.407692</td>\n",
       "      <td>1.218391</td>\n",
       "      <td>21</td>\n",
       "      <td>64</td>\n",
       "      <td>85</td>\n",
       "      <td>260</td>\n",
       "      <td>...</td>\n",
       "      <td>DG</td>\n",
       "      <td>17</td>\n",
       "      <td>892</td>\n",
       "      <td>female</td>\n",
       "      <td>APP/PS1</td>\n",
       "      <td>poor</td>\n",
       "      <td>failed</td>\n",
       "      <td>suboptimal</td>\n",
       "      <td>optimal</td>\n",
       "      <td>False</td>\n",
       "    </tr>\n",
       "    <tr>\n",
       "      <th>12</th>\n",
       "      <td>12</td>\n",
       "      <td>DSB Iba1 18_40X_CA1</td>\n",
       "      <td>1.000000</td>\n",
       "      <td>2.000000</td>\n",
       "      <td>0.809091</td>\n",
       "      <td>1.508475</td>\n",
       "      <td>6</td>\n",
       "      <td>6</td>\n",
       "      <td>12</td>\n",
       "      <td>110</td>\n",
       "      <td>...</td>\n",
       "      <td>CA1</td>\n",
       "      <td>18</td>\n",
       "      <td>231</td>\n",
       "      <td>male</td>\n",
       "      <td>APP/PS1 x Neil3 KO</td>\n",
       "      <td>poor</td>\n",
       "      <td>failed</td>\n",
       "      <td>optimal</td>\n",
       "      <td>optimal</td>\n",
       "      <td>False</td>\n",
       "    </tr>\n",
       "    <tr>\n",
       "      <th>13</th>\n",
       "      <td>13</td>\n",
       "      <td>DSB Iba1 18_40X_CA3</td>\n",
       "      <td>0.933333</td>\n",
       "      <td>1.555556</td>\n",
       "      <td>0.776699</td>\n",
       "      <td>1.666667</td>\n",
       "      <td>9</td>\n",
       "      <td>6</td>\n",
       "      <td>15</td>\n",
       "      <td>103</td>\n",
       "      <td>...</td>\n",
       "      <td>CA3</td>\n",
       "      <td>18</td>\n",
       "      <td>231</td>\n",
       "      <td>male</td>\n",
       "      <td>APP/PS1 x Neil3 KO</td>\n",
       "      <td>poor</td>\n",
       "      <td>failed</td>\n",
       "      <td>optimal</td>\n",
       "      <td>optimal</td>\n",
       "      <td>False</td>\n",
       "    </tr>\n",
       "    <tr>\n",
       "      <th>14</th>\n",
       "      <td>14</td>\n",
       "      <td>DSB Iba1 18_40X_CTX1</td>\n",
       "      <td>0.217391</td>\n",
       "      <td>1.000000</td>\n",
       "      <td>0.106122</td>\n",
       "      <td>1.083333</td>\n",
       "      <td>5</td>\n",
       "      <td>18</td>\n",
       "      <td>23</td>\n",
       "      <td>245</td>\n",
       "      <td>...</td>\n",
       "      <td>CTX1</td>\n",
       "      <td>18</td>\n",
       "      <td>231</td>\n",
       "      <td>male</td>\n",
       "      <td>APP/PS1 x Neil3 KO</td>\n",
       "      <td>poor</td>\n",
       "      <td>failed</td>\n",
       "      <td>optimal</td>\n",
       "      <td>optimal</td>\n",
       "      <td>False</td>\n",
       "    </tr>\n",
       "    <tr>\n",
       "      <th>15</th>\n",
       "      <td>15</td>\n",
       "      <td>DSB Iba1 18_40X_CTX2</td>\n",
       "      <td>0.470588</td>\n",
       "      <td>1.333333</td>\n",
       "      <td>0.162963</td>\n",
       "      <td>1.073171</td>\n",
       "      <td>6</td>\n",
       "      <td>11</td>\n",
       "      <td>17</td>\n",
       "      <td>270</td>\n",
       "      <td>...</td>\n",
       "      <td>CTX2</td>\n",
       "      <td>18</td>\n",
       "      <td>231</td>\n",
       "      <td>male</td>\n",
       "      <td>APP/PS1 x Neil3 KO</td>\n",
       "      <td>poor</td>\n",
       "      <td>failed</td>\n",
       "      <td>optimal</td>\n",
       "      <td>optimal</td>\n",
       "      <td>False</td>\n",
       "    </tr>\n",
       "    <tr>\n",
       "      <th>16</th>\n",
       "      <td>16</td>\n",
       "      <td>DSB Iba1 18_40X_CTX3</td>\n",
       "      <td>0.437500</td>\n",
       "      <td>1.000000</td>\n",
       "      <td>0.188679</td>\n",
       "      <td>1.200000</td>\n",
       "      <td>7</td>\n",
       "      <td>9</td>\n",
       "      <td>16</td>\n",
       "      <td>159</td>\n",
       "      <td>...</td>\n",
       "      <td>CTX3</td>\n",
       "      <td>18</td>\n",
       "      <td>231</td>\n",
       "      <td>male</td>\n",
       "      <td>APP/PS1 x Neil3 KO</td>\n",
       "      <td>poor</td>\n",
       "      <td>failed</td>\n",
       "      <td>optimal</td>\n",
       "      <td>optimal</td>\n",
       "      <td>False</td>\n",
       "    </tr>\n",
       "    <tr>\n",
       "      <th>17</th>\n",
       "      <td>17</td>\n",
       "      <td>DSB Iba1 18_40X_DG</td>\n",
       "      <td>1.847458</td>\n",
       "      <td>2.180000</td>\n",
       "      <td>1.507042</td>\n",
       "      <td>1.963303</td>\n",
       "      <td>50</td>\n",
       "      <td>9</td>\n",
       "      <td>59</td>\n",
       "      <td>142</td>\n",
       "      <td>...</td>\n",
       "      <td>DG</td>\n",
       "      <td>18</td>\n",
       "      <td>231</td>\n",
       "      <td>male</td>\n",
       "      <td>APP/PS1 x Neil3 KO</td>\n",
       "      <td>poor</td>\n",
       "      <td>failed</td>\n",
       "      <td>suboptimal</td>\n",
       "      <td>suboptimal</td>\n",
       "      <td>False</td>\n",
       "    </tr>\n",
       "    <tr>\n",
       "      <th>18</th>\n",
       "      <td>18</td>\n",
       "      <td>DSB Iba1 19_40X_CA1</td>\n",
       "      <td>1.714286</td>\n",
       "      <td>2.000000</td>\n",
       "      <td>1.900000</td>\n",
       "      <td>2.209302</td>\n",
       "      <td>42</td>\n",
       "      <td>7</td>\n",
       "      <td>49</td>\n",
       "      <td>50</td>\n",
       "      <td>...</td>\n",
       "      <td>CA1</td>\n",
       "      <td>19</td>\n",
       "      <td>154</td>\n",
       "      <td>female</td>\n",
       "      <td>APP/PS1 x Neil3 KO</td>\n",
       "      <td>poor</td>\n",
       "      <td>failed</td>\n",
       "      <td>suboptimal</td>\n",
       "      <td>suboptimal</td>\n",
       "      <td>False</td>\n",
       "    </tr>\n",
       "    <tr>\n",
       "      <th>19</th>\n",
       "      <td>19</td>\n",
       "      <td>DSB Iba1 19_40X_CA3</td>\n",
       "      <td>1.660377</td>\n",
       "      <td>2.046512</td>\n",
       "      <td>1.722222</td>\n",
       "      <td>2.113636</td>\n",
       "      <td>43</td>\n",
       "      <td>10</td>\n",
       "      <td>53</td>\n",
       "      <td>54</td>\n",
       "      <td>...</td>\n",
       "      <td>CA3</td>\n",
       "      <td>19</td>\n",
       "      <td>154</td>\n",
       "      <td>female</td>\n",
       "      <td>APP/PS1 x Neil3 KO</td>\n",
       "      <td>poor</td>\n",
       "      <td>failed</td>\n",
       "      <td>suboptimal</td>\n",
       "      <td>suboptimal</td>\n",
       "      <td>False</td>\n",
       "    </tr>\n",
       "    <tr>\n",
       "      <th>20</th>\n",
       "      <td>20</td>\n",
       "      <td>DSB Iba1 19_40X_CTX1</td>\n",
       "      <td>0.891892</td>\n",
       "      <td>1.517241</td>\n",
       "      <td>0.986667</td>\n",
       "      <td>1.591398</td>\n",
       "      <td>87</td>\n",
       "      <td>61</td>\n",
       "      <td>148</td>\n",
       "      <td>150</td>\n",
       "      <td>...</td>\n",
       "      <td>CTX1</td>\n",
       "      <td>19</td>\n",
       "      <td>154</td>\n",
       "      <td>female</td>\n",
       "      <td>APP/PS1 x Neil3 KO</td>\n",
       "      <td>poor</td>\n",
       "      <td>failed</td>\n",
       "      <td>suboptimal</td>\n",
       "      <td>optimal</td>\n",
       "      <td>False</td>\n",
       "    </tr>\n",
       "    <tr>\n",
       "      <th>21</th>\n",
       "      <td>21</td>\n",
       "      <td>DSB Iba1 19_40X_CTX2</td>\n",
       "      <td>0.652174</td>\n",
       "      <td>1.304348</td>\n",
       "      <td>0.622951</td>\n",
       "      <td>1.310345</td>\n",
       "      <td>23</td>\n",
       "      <td>23</td>\n",
       "      <td>46</td>\n",
       "      <td>61</td>\n",
       "      <td>...</td>\n",
       "      <td>CTX2</td>\n",
       "      <td>19</td>\n",
       "      <td>154</td>\n",
       "      <td>female</td>\n",
       "      <td>APP/PS1 x Neil3 KO</td>\n",
       "      <td>poor</td>\n",
       "      <td>failed</td>\n",
       "      <td>suboptimal</td>\n",
       "      <td>optimal</td>\n",
       "      <td>False</td>\n",
       "    </tr>\n",
       "    <tr>\n",
       "      <th>22</th>\n",
       "      <td>22</td>\n",
       "      <td>DSB Iba1 19_40X_CTX3</td>\n",
       "      <td>0.402778</td>\n",
       "      <td>1.380952</td>\n",
       "      <td>0.435294</td>\n",
       "      <td>1.480000</td>\n",
       "      <td>21</td>\n",
       "      <td>51</td>\n",
       "      <td>72</td>\n",
       "      <td>85</td>\n",
       "      <td>...</td>\n",
       "      <td>CTX3</td>\n",
       "      <td>19</td>\n",
       "      <td>154</td>\n",
       "      <td>female</td>\n",
       "      <td>APP/PS1 x Neil3 KO</td>\n",
       "      <td>poor</td>\n",
       "      <td>failed</td>\n",
       "      <td>suboptimal</td>\n",
       "      <td>optimal</td>\n",
       "      <td>False</td>\n",
       "    </tr>\n",
       "    <tr>\n",
       "      <th>23</th>\n",
       "      <td>23</td>\n",
       "      <td>DSB Iba1 19_40X_DG</td>\n",
       "      <td>2.615385</td>\n",
       "      <td>2.775510</td>\n",
       "      <td>2.884615</td>\n",
       "      <td>3.000000</td>\n",
       "      <td>49</td>\n",
       "      <td>3</td>\n",
       "      <td>52</td>\n",
       "      <td>52</td>\n",
       "      <td>...</td>\n",
       "      <td>DG</td>\n",
       "      <td>19</td>\n",
       "      <td>154</td>\n",
       "      <td>female</td>\n",
       "      <td>APP/PS1 x Neil3 KO</td>\n",
       "      <td>poor</td>\n",
       "      <td>failed</td>\n",
       "      <td>suboptimal</td>\n",
       "      <td>suboptimal</td>\n",
       "      <td>False</td>\n",
       "    </tr>\n",
       "    <tr>\n",
       "      <th>109</th>\n",
       "      <td>109</td>\n",
       "      <td>DSB Iba1 35_40X_CA1</td>\n",
       "      <td>0.777778</td>\n",
       "      <td>2.333333</td>\n",
       "      <td>0.209945</td>\n",
       "      <td>1.117647</td>\n",
       "      <td>3</td>\n",
       "      <td>6</td>\n",
       "      <td>9</td>\n",
       "      <td>181</td>\n",
       "      <td>...</td>\n",
       "      <td>CA1</td>\n",
       "      <td>35</td>\n",
       "      <td>305</td>\n",
       "      <td>male</td>\n",
       "      <td>APP/PS1 x Neil3 KO</td>\n",
       "      <td>poor</td>\n",
       "      <td>passed</td>\n",
       "      <td>optimal</td>\n",
       "      <td>optimal</td>\n",
       "      <td>False</td>\n",
       "    </tr>\n",
       "    <tr>\n",
       "      <th>110</th>\n",
       "      <td>110</td>\n",
       "      <td>DSB Iba1 35_40X_CA3</td>\n",
       "      <td>0.880000</td>\n",
       "      <td>1.466667</td>\n",
       "      <td>0.723164</td>\n",
       "      <td>1.438202</td>\n",
       "      <td>15</td>\n",
       "      <td>10</td>\n",
       "      <td>25</td>\n",
       "      <td>177</td>\n",
       "      <td>...</td>\n",
       "      <td>CA3</td>\n",
       "      <td>35</td>\n",
       "      <td>305</td>\n",
       "      <td>male</td>\n",
       "      <td>APP/PS1 x Neil3 KO</td>\n",
       "      <td>poor</td>\n",
       "      <td>passed</td>\n",
       "      <td>optimal</td>\n",
       "      <td>optimal</td>\n",
       "      <td>False</td>\n",
       "    </tr>\n",
       "    <tr>\n",
       "      <th>111</th>\n",
       "      <td>111</td>\n",
       "      <td>DSB Iba1 35_40X_CTX1</td>\n",
       "      <td>0.590909</td>\n",
       "      <td>1.300000</td>\n",
       "      <td>0.255639</td>\n",
       "      <td>1.096774</td>\n",
       "      <td>10</td>\n",
       "      <td>12</td>\n",
       "      <td>22</td>\n",
       "      <td>266</td>\n",
       "      <td>...</td>\n",
       "      <td>CTX1</td>\n",
       "      <td>35</td>\n",
       "      <td>305</td>\n",
       "      <td>male</td>\n",
       "      <td>APP/PS1 x Neil3 KO</td>\n",
       "      <td>poor</td>\n",
       "      <td>passed</td>\n",
       "      <td>optimal</td>\n",
       "      <td>optimal</td>\n",
       "      <td>False</td>\n",
       "    </tr>\n",
       "    <tr>\n",
       "      <th>112</th>\n",
       "      <td>112</td>\n",
       "      <td>DSB Iba1 35_40X_CTX2</td>\n",
       "      <td>0.775194</td>\n",
       "      <td>1.587302</td>\n",
       "      <td>0.616788</td>\n",
       "      <td>1.469565</td>\n",
       "      <td>63</td>\n",
       "      <td>66</td>\n",
       "      <td>129</td>\n",
       "      <td>274</td>\n",
       "      <td>...</td>\n",
       "      <td>CTX2</td>\n",
       "      <td>35</td>\n",
       "      <td>305</td>\n",
       "      <td>male</td>\n",
       "      <td>APP/PS1 x Neil3 KO</td>\n",
       "      <td>poor</td>\n",
       "      <td>passed</td>\n",
       "      <td>suboptimal</td>\n",
       "      <td>optimal</td>\n",
       "      <td>False</td>\n",
       "    </tr>\n",
       "    <tr>\n",
       "      <th>113</th>\n",
       "      <td>113</td>\n",
       "      <td>DSB Iba1 35_40X_CTX3</td>\n",
       "      <td>0.846154</td>\n",
       "      <td>1.571429</td>\n",
       "      <td>0.698020</td>\n",
       "      <td>1.516129</td>\n",
       "      <td>42</td>\n",
       "      <td>36</td>\n",
       "      <td>78</td>\n",
       "      <td>202</td>\n",
       "      <td>...</td>\n",
       "      <td>CTX3</td>\n",
       "      <td>35</td>\n",
       "      <td>305</td>\n",
       "      <td>male</td>\n",
       "      <td>APP/PS1 x Neil3 KO</td>\n",
       "      <td>poor</td>\n",
       "      <td>passed</td>\n",
       "      <td>optimal</td>\n",
       "      <td>optimal</td>\n",
       "      <td>False</td>\n",
       "    </tr>\n",
       "    <tr>\n",
       "      <th>114</th>\n",
       "      <td>114</td>\n",
       "      <td>DSB Iba1 35_40X_DG</td>\n",
       "      <td>0.917526</td>\n",
       "      <td>1.618182</td>\n",
       "      <td>0.873418</td>\n",
       "      <td>1.401015</td>\n",
       "      <td>55</td>\n",
       "      <td>42</td>\n",
       "      <td>97</td>\n",
       "      <td>316</td>\n",
       "      <td>...</td>\n",
       "      <td>DG</td>\n",
       "      <td>35</td>\n",
       "      <td>305</td>\n",
       "      <td>male</td>\n",
       "      <td>APP/PS1 x Neil3 KO</td>\n",
       "      <td>poor</td>\n",
       "      <td>passed</td>\n",
       "      <td>suboptimal</td>\n",
       "      <td>optimal</td>\n",
       "      <td>False</td>\n",
       "    </tr>\n",
       "    <tr>\n",
       "      <th>158</th>\n",
       "      <td>158</td>\n",
       "      <td>DSB Iba1 44_40X_CA1</td>\n",
       "      <td>1.346154</td>\n",
       "      <td>2.187500</td>\n",
       "      <td>1.197674</td>\n",
       "      <td>1.745763</td>\n",
       "      <td>16</td>\n",
       "      <td>10</td>\n",
       "      <td>26</td>\n",
       "      <td>86</td>\n",
       "      <td>...</td>\n",
       "      <td>CA1</td>\n",
       "      <td>44</td>\n",
       "      <td>147</td>\n",
       "      <td>female</td>\n",
       "      <td>APP/PS1</td>\n",
       "      <td>poor</td>\n",
       "      <td>passed</td>\n",
       "      <td>suboptimal</td>\n",
       "      <td>optimal</td>\n",
       "      <td>False</td>\n",
       "    </tr>\n",
       "    <tr>\n",
       "      <th>159</th>\n",
       "      <td>159</td>\n",
       "      <td>DSB Iba1 44_40X_CA3</td>\n",
       "      <td>1.950000</td>\n",
       "      <td>2.166667</td>\n",
       "      <td>1.492308</td>\n",
       "      <td>2.020833</td>\n",
       "      <td>18</td>\n",
       "      <td>2</td>\n",
       "      <td>20</td>\n",
       "      <td>65</td>\n",
       "      <td>...</td>\n",
       "      <td>CA3</td>\n",
       "      <td>44</td>\n",
       "      <td>147</td>\n",
       "      <td>female</td>\n",
       "      <td>APP/PS1</td>\n",
       "      <td>poor</td>\n",
       "      <td>passed</td>\n",
       "      <td>suboptimal</td>\n",
       "      <td>suboptimal</td>\n",
       "      <td>False</td>\n",
       "    </tr>\n",
       "    <tr>\n",
       "      <th>160</th>\n",
       "      <td>160</td>\n",
       "      <td>DSB Iba1 44_40X_CTX1</td>\n",
       "      <td>1.884615</td>\n",
       "      <td>2.370968</td>\n",
       "      <td>1.836576</td>\n",
       "      <td>2.458333</td>\n",
       "      <td>62</td>\n",
       "      <td>16</td>\n",
       "      <td>78</td>\n",
       "      <td>257</td>\n",
       "      <td>...</td>\n",
       "      <td>CTX1</td>\n",
       "      <td>44</td>\n",
       "      <td>147</td>\n",
       "      <td>female</td>\n",
       "      <td>APP/PS1</td>\n",
       "      <td>poor</td>\n",
       "      <td>passed</td>\n",
       "      <td>suboptimal</td>\n",
       "      <td>suboptimal</td>\n",
       "      <td>False</td>\n",
       "    </tr>\n",
       "    <tr>\n",
       "      <th>161</th>\n",
       "      <td>161</td>\n",
       "      <td>DSB Iba1 44_40X_DG</td>\n",
       "      <td>1.256757</td>\n",
       "      <td>1.722222</td>\n",
       "      <td>1.281481</td>\n",
       "      <td>1.901099</td>\n",
       "      <td>54</td>\n",
       "      <td>20</td>\n",
       "      <td>74</td>\n",
       "      <td>135</td>\n",
       "      <td>...</td>\n",
       "      <td>DG</td>\n",
       "      <td>44</td>\n",
       "      <td>147</td>\n",
       "      <td>female</td>\n",
       "      <td>APP/PS1</td>\n",
       "      <td>poor</td>\n",
       "      <td>passed</td>\n",
       "      <td>optimal</td>\n",
       "      <td>optimal</td>\n",
       "      <td>False</td>\n",
       "    </tr>\n",
       "    <tr>\n",
       "      <th>168</th>\n",
       "      <td>168</td>\n",
       "      <td>DSB Iba1 46_40X_CA1</td>\n",
       "      <td>1.128205</td>\n",
       "      <td>1.760000</td>\n",
       "      <td>0.948529</td>\n",
       "      <td>1.632911</td>\n",
       "      <td>25</td>\n",
       "      <td>14</td>\n",
       "      <td>39</td>\n",
       "      <td>136</td>\n",
       "      <td>...</td>\n",
       "      <td>CA1</td>\n",
       "      <td>46</td>\n",
       "      <td>253</td>\n",
       "      <td>female</td>\n",
       "      <td>APP/PS1 x Neil3 KO</td>\n",
       "      <td>poor</td>\n",
       "      <td>passed</td>\n",
       "      <td>suboptimal</td>\n",
       "      <td>optimal</td>\n",
       "      <td>False</td>\n",
       "    </tr>\n",
       "    <tr>\n",
       "      <th>169</th>\n",
       "      <td>169</td>\n",
       "      <td>DSB Iba1 46_40X_CA3</td>\n",
       "      <td>0.804878</td>\n",
       "      <td>1.320000</td>\n",
       "      <td>0.961240</td>\n",
       "      <td>1.631579</td>\n",
       "      <td>25</td>\n",
       "      <td>16</td>\n",
       "      <td>41</td>\n",
       "      <td>129</td>\n",
       "      <td>...</td>\n",
       "      <td>CA3</td>\n",
       "      <td>46</td>\n",
       "      <td>253</td>\n",
       "      <td>female</td>\n",
       "      <td>APP/PS1 x Neil3 KO</td>\n",
       "      <td>poor</td>\n",
       "      <td>passed</td>\n",
       "      <td>optimal</td>\n",
       "      <td>optimal</td>\n",
       "      <td>False</td>\n",
       "    </tr>\n",
       "    <tr>\n",
       "      <th>170</th>\n",
       "      <td>170</td>\n",
       "      <td>DSB Iba1 46_40X_CTX1</td>\n",
       "      <td>0.647727</td>\n",
       "      <td>1.325581</td>\n",
       "      <td>0.714286</td>\n",
       "      <td>1.461538</td>\n",
       "      <td>43</td>\n",
       "      <td>45</td>\n",
       "      <td>88</td>\n",
       "      <td>266</td>\n",
       "      <td>...</td>\n",
       "      <td>CTX1</td>\n",
       "      <td>46</td>\n",
       "      <td>253</td>\n",
       "      <td>female</td>\n",
       "      <td>APP/PS1 x Neil3 KO</td>\n",
       "      <td>poor</td>\n",
       "      <td>passed</td>\n",
       "      <td>suboptimal</td>\n",
       "      <td>optimal</td>\n",
       "      <td>False</td>\n",
       "    </tr>\n",
       "    <tr>\n",
       "      <th>171</th>\n",
       "      <td>171</td>\n",
       "      <td>DSB Iba1 46_40X_CTX2</td>\n",
       "      <td>0.380165</td>\n",
       "      <td>1.045455</td>\n",
       "      <td>0.339683</td>\n",
       "      <td>1.138298</td>\n",
       "      <td>44</td>\n",
       "      <td>77</td>\n",
       "      <td>120</td>\n",
       "      <td>314</td>\n",
       "      <td>...</td>\n",
       "      <td>CTX2</td>\n",
       "      <td>46</td>\n",
       "      <td>253</td>\n",
       "      <td>female</td>\n",
       "      <td>APP/PS1 x Neil3 KO</td>\n",
       "      <td>poor</td>\n",
       "      <td>passed</td>\n",
       "      <td>suboptimal</td>\n",
       "      <td>optimal</td>\n",
       "      <td>False</td>\n",
       "    </tr>\n",
       "    <tr>\n",
       "      <th>172</th>\n",
       "      <td>172</td>\n",
       "      <td>DSB Iba1 46_40X_CTX3</td>\n",
       "      <td>0.647887</td>\n",
       "      <td>1.352941</td>\n",
       "      <td>0.600746</td>\n",
       "      <td>1.463636</td>\n",
       "      <td>34</td>\n",
       "      <td>37</td>\n",
       "      <td>71</td>\n",
       "      <td>267</td>\n",
       "      <td>...</td>\n",
       "      <td>CTX3</td>\n",
       "      <td>46</td>\n",
       "      <td>253</td>\n",
       "      <td>female</td>\n",
       "      <td>APP/PS1 x Neil3 KO</td>\n",
       "      <td>poor</td>\n",
       "      <td>passed</td>\n",
       "      <td>optimal</td>\n",
       "      <td>optimal</td>\n",
       "      <td>False</td>\n",
       "    </tr>\n",
       "    <tr>\n",
       "      <th>173</th>\n",
       "      <td>173</td>\n",
       "      <td>DSB Iba1 46_40X_DG</td>\n",
       "      <td>0.507692</td>\n",
       "      <td>1.434783</td>\n",
       "      <td>0.514019</td>\n",
       "      <td>1.341463</td>\n",
       "      <td>23</td>\n",
       "      <td>42</td>\n",
       "      <td>65</td>\n",
       "      <td>107</td>\n",
       "      <td>...</td>\n",
       "      <td>DG</td>\n",
       "      <td>46</td>\n",
       "      <td>253</td>\n",
       "      <td>female</td>\n",
       "      <td>APP/PS1 x Neil3 KO</td>\n",
       "      <td>poor</td>\n",
       "      <td>passed</td>\n",
       "      <td>suboptimal</td>\n",
       "      <td>optimal</td>\n",
       "      <td>False</td>\n",
       "    </tr>\n",
       "  </tbody>\n",
       "</table>\n",
       "<p>40 rows × 22 columns</p>\n",
       "</div>"
      ],
      "text/plain": [
       "     index              filename  avg_dna_damage_foci/glia_+  \\\n",
       "0        0   DSB Iba1 16_40X_CA1                    0.292208   \n",
       "1        1   DSB Iba1 16_40X_CA3                    0.739884   \n",
       "2        2  DSB Iba1 16_40X_CTX1                    0.055556   \n",
       "3        3  DSB Iba1 16_40X_CTX2                    0.501976   \n",
       "4        4  DSB Iba1 16_40X_CTX3                    0.567797   \n",
       "5        5    DSB Iba1 16_40X_DG                    0.369668   \n",
       "6        6   DSB Iba1 17_40X_CA1                    0.181818   \n",
       "7        7   DSB Iba1 17_40X_CA3                    0.450000   \n",
       "8        8  DSB Iba1 17_40X_CTX1                    0.500000   \n",
       "9        9  DSB Iba1 17_40X_CTX2                    0.560000   \n",
       "10      10  DSB Iba1 17_40X_CTX3                    0.742857   \n",
       "11      11    DSB Iba1 17_40X_DG                    0.329412   \n",
       "12      12   DSB Iba1 18_40X_CA1                    1.000000   \n",
       "13      13   DSB Iba1 18_40X_CA3                    0.933333   \n",
       "14      14  DSB Iba1 18_40X_CTX1                    0.217391   \n",
       "15      15  DSB Iba1 18_40X_CTX2                    0.470588   \n",
       "16      16  DSB Iba1 18_40X_CTX3                    0.437500   \n",
       "17      17    DSB Iba1 18_40X_DG                    1.847458   \n",
       "18      18   DSB Iba1 19_40X_CA1                    1.714286   \n",
       "19      19   DSB Iba1 19_40X_CA3                    1.660377   \n",
       "20      20  DSB Iba1 19_40X_CTX1                    0.891892   \n",
       "21      21  DSB Iba1 19_40X_CTX2                    0.652174   \n",
       "22      22  DSB Iba1 19_40X_CTX3                    0.402778   \n",
       "23      23    DSB Iba1 19_40X_DG                    2.615385   \n",
       "109    109   DSB Iba1 35_40X_CA1                    0.777778   \n",
       "110    110   DSB Iba1 35_40X_CA3                    0.880000   \n",
       "111    111  DSB Iba1 35_40X_CTX1                    0.590909   \n",
       "112    112  DSB Iba1 35_40X_CTX2                    0.775194   \n",
       "113    113  DSB Iba1 35_40X_CTX3                    0.846154   \n",
       "114    114    DSB Iba1 35_40X_DG                    0.917526   \n",
       "158    158   DSB Iba1 44_40X_CA1                    1.346154   \n",
       "159    159   DSB Iba1 44_40X_CA3                    1.950000   \n",
       "160    160  DSB Iba1 44_40X_CTX1                    1.884615   \n",
       "161    161    DSB Iba1 44_40X_DG                    1.256757   \n",
       "168    168   DSB Iba1 46_40X_CA1                    1.128205   \n",
       "169    169   DSB Iba1 46_40X_CA3                    0.804878   \n",
       "170    170  DSB Iba1 46_40X_CTX1                    0.647727   \n",
       "171    171  DSB Iba1 46_40X_CTX2                    0.380165   \n",
       "172    172  DSB Iba1 46_40X_CTX3                    0.647887   \n",
       "173    173    DSB Iba1 46_40X_DG                    0.507692   \n",
       "\n",
       "     avg_dna_damage_foci/glia_+_damage_+  avg_dna_damage_foci/all_nuclei  \\\n",
       "0                               1.071429                        0.333333   \n",
       "1                               1.641026                        0.785714   \n",
       "2                               1.000000                        0.183521   \n",
       "3                               1.270000                        0.490775   \n",
       "4                               1.264151                        0.565041   \n",
       "5                               1.218750                        0.377778   \n",
       "6                               1.000000                        0.352601   \n",
       "7                               1.285714                        0.603352   \n",
       "8                               1.125000                        0.280899   \n",
       "9                               1.120000                        0.332278   \n",
       "10                              1.444444                        0.894444   \n",
       "11                              1.333333                        0.407692   \n",
       "12                              2.000000                        0.809091   \n",
       "13                              1.555556                        0.776699   \n",
       "14                              1.000000                        0.106122   \n",
       "15                              1.333333                        0.162963   \n",
       "16                              1.000000                        0.188679   \n",
       "17                              2.180000                        1.507042   \n",
       "18                              2.000000                        1.900000   \n",
       "19                              2.046512                        1.722222   \n",
       "20                              1.517241                        0.986667   \n",
       "21                              1.304348                        0.622951   \n",
       "22                              1.380952                        0.435294   \n",
       "23                              2.775510                        2.884615   \n",
       "109                             2.333333                        0.209945   \n",
       "110                             1.466667                        0.723164   \n",
       "111                             1.300000                        0.255639   \n",
       "112                             1.587302                        0.616788   \n",
       "113                             1.571429                        0.698020   \n",
       "114                             1.618182                        0.873418   \n",
       "158                             2.187500                        1.197674   \n",
       "159                             2.166667                        1.492308   \n",
       "160                             2.370968                        1.836576   \n",
       "161                             1.722222                        1.281481   \n",
       "168                             1.760000                        0.948529   \n",
       "169                             1.320000                        0.961240   \n",
       "170                             1.325581                        0.714286   \n",
       "171                             1.045455                        0.339683   \n",
       "172                             1.352941                        0.600746   \n",
       "173                             1.434783                        0.514019   \n",
       "\n",
       "     avg_dna_damage_foci/all_nuclei_damage_+  nr_+_dna_damage_glia_nuclei  \\\n",
       "0                                   1.045455                           42   \n",
       "1                                   1.662791                           78   \n",
       "2                                   1.020833                            2   \n",
       "3                                   1.266667                          100   \n",
       "4                                   1.362745                           53   \n",
       "5                                   1.214286                           64   \n",
       "6                                   1.109091                            2   \n",
       "7                                   1.440000                            7   \n",
       "8                                   1.041667                            8   \n",
       "9                                   1.129032                           25   \n",
       "10                                  1.788889                           18   \n",
       "11                                  1.218391                           21   \n",
       "12                                  1.508475                            6   \n",
       "13                                  1.666667                            9   \n",
       "14                                  1.083333                            5   \n",
       "15                                  1.073171                            6   \n",
       "16                                  1.200000                            7   \n",
       "17                                  1.963303                           50   \n",
       "18                                  2.209302                           42   \n",
       "19                                  2.113636                           43   \n",
       "20                                  1.591398                           87   \n",
       "21                                  1.310345                           23   \n",
       "22                                  1.480000                           21   \n",
       "23                                  3.000000                           49   \n",
       "109                                 1.117647                            3   \n",
       "110                                 1.438202                           15   \n",
       "111                                 1.096774                           10   \n",
       "112                                 1.469565                           63   \n",
       "113                                 1.516129                           42   \n",
       "114                                 1.401015                           55   \n",
       "158                                 1.745763                           16   \n",
       "159                                 2.020833                           18   \n",
       "160                                 2.458333                           62   \n",
       "161                                 1.901099                           54   \n",
       "168                                 1.632911                           25   \n",
       "169                                 1.631579                           25   \n",
       "170                                 1.461538                           43   \n",
       "171                                 1.138298                           44   \n",
       "172                                 1.463636                           34   \n",
       "173                                 1.341463                           23   \n",
       "\n",
       "     nr_-_dna_damage_glia_nuclei  nr_glia_+_nuclei  nr_total_nuclei  ...  \\\n",
       "0                            112               154              207  ...   \n",
       "1                             95               173              182  ...   \n",
       "2                             34                36              267  ...   \n",
       "3                            153               253              271  ...   \n",
       "4                             65               118              246  ...   \n",
       "5                            147               211              225  ...   \n",
       "6                              9                11              173  ...   \n",
       "7                             13                20              179  ...   \n",
       "8                             10                18              267  ...   \n",
       "9                             25                50              316  ...   \n",
       "10                            17                35              180  ...   \n",
       "11                            64                85              260  ...   \n",
       "12                             6                12              110  ...   \n",
       "13                             6                15              103  ...   \n",
       "14                            18                23              245  ...   \n",
       "15                            11                17              270  ...   \n",
       "16                             9                16              159  ...   \n",
       "17                             9                59              142  ...   \n",
       "18                             7                49               50  ...   \n",
       "19                            10                53               54  ...   \n",
       "20                            61               148              150  ...   \n",
       "21                            23                46               61  ...   \n",
       "22                            51                72               85  ...   \n",
       "23                             3                52               52  ...   \n",
       "109                            6                 9              181  ...   \n",
       "110                           10                25              177  ...   \n",
       "111                           12                22              266  ...   \n",
       "112                           66               129              274  ...   \n",
       "113                           36                78              202  ...   \n",
       "114                           42                97              316  ...   \n",
       "158                           10                26               86  ...   \n",
       "159                            2                20               65  ...   \n",
       "160                           16                78              257  ...   \n",
       "161                           20                74              135  ...   \n",
       "168                           14                39              136  ...   \n",
       "169                           16                41              129  ...   \n",
       "170                           45                88              266  ...   \n",
       "171                           77               120              314  ...   \n",
       "172                           37                71              267  ...   \n",
       "173                           42                65              107  ...   \n",
       "\n",
       "     tissue_location  staining_id animal_id     sex            genotype  \\\n",
       "0                CA1           16       887    male             APP/PS1   \n",
       "1                CA3           16       887    male             APP/PS1   \n",
       "2               CTX1           16       887    male             APP/PS1   \n",
       "3               CTX2           16       887    male             APP/PS1   \n",
       "4               CTX3           16       887    male             APP/PS1   \n",
       "5                 DG           16       887    male             APP/PS1   \n",
       "6                CA1           17       892  female             APP/PS1   \n",
       "7                CA3           17       892  female             APP/PS1   \n",
       "8               CTX1           17       892  female             APP/PS1   \n",
       "9               CTX2           17       892  female             APP/PS1   \n",
       "10              CTX3           17       892  female             APP/PS1   \n",
       "11                DG           17       892  female             APP/PS1   \n",
       "12               CA1           18       231    male  APP/PS1 x Neil3 KO   \n",
       "13               CA3           18       231    male  APP/PS1 x Neil3 KO   \n",
       "14              CTX1           18       231    male  APP/PS1 x Neil3 KO   \n",
       "15              CTX2           18       231    male  APP/PS1 x Neil3 KO   \n",
       "16              CTX3           18       231    male  APP/PS1 x Neil3 KO   \n",
       "17                DG           18       231    male  APP/PS1 x Neil3 KO   \n",
       "18               CA1           19       154  female  APP/PS1 x Neil3 KO   \n",
       "19               CA3           19       154  female  APP/PS1 x Neil3 KO   \n",
       "20              CTX1           19       154  female  APP/PS1 x Neil3 KO   \n",
       "21              CTX2           19       154  female  APP/PS1 x Neil3 KO   \n",
       "22              CTX3           19       154  female  APP/PS1 x Neil3 KO   \n",
       "23                DG           19       154  female  APP/PS1 x Neil3 KO   \n",
       "109              CA1           35       305    male  APP/PS1 x Neil3 KO   \n",
       "110              CA3           35       305    male  APP/PS1 x Neil3 KO   \n",
       "111             CTX1           35       305    male  APP/PS1 x Neil3 KO   \n",
       "112             CTX2           35       305    male  APP/PS1 x Neil3 KO   \n",
       "113             CTX3           35       305    male  APP/PS1 x Neil3 KO   \n",
       "114               DG           35       305    male  APP/PS1 x Neil3 KO   \n",
       "158              CA1           44       147  female             APP/PS1   \n",
       "159              CA3           44       147  female             APP/PS1   \n",
       "160             CTX1           44       147  female             APP/PS1   \n",
       "161               DG           44       147  female             APP/PS1   \n",
       "168              CA1           46       253  female  APP/PS1 x Neil3 KO   \n",
       "169              CA3           46       253  female  APP/PS1 x Neil3 KO   \n",
       "170             CTX1           46       253  female  APP/PS1 x Neil3 KO   \n",
       "171             CTX2           46       253  female  APP/PS1 x Neil3 KO   \n",
       "172             CTX3           46       253  female  APP/PS1 x Neil3 KO   \n",
       "173               DG           46       253  female  APP/PS1 x Neil3 KO   \n",
       "\n",
       "    dna_damage_stain_quality_manual manual_qc glia_stain_quality_auto  \\\n",
       "0                              poor    failed              suboptimal   \n",
       "1                              poor    failed              suboptimal   \n",
       "2                              poor    failed                 optimal   \n",
       "3                              poor    failed              suboptimal   \n",
       "4                              poor    failed              suboptimal   \n",
       "5                              poor    failed              suboptimal   \n",
       "6                              poor    failed                 optimal   \n",
       "7                              poor    failed                 optimal   \n",
       "8                              poor    failed                 optimal   \n",
       "9                              poor    failed                 optimal   \n",
       "10                             poor    failed                 optimal   \n",
       "11                             poor    failed              suboptimal   \n",
       "12                             poor    failed                 optimal   \n",
       "13                             poor    failed                 optimal   \n",
       "14                             poor    failed                 optimal   \n",
       "15                             poor    failed                 optimal   \n",
       "16                             poor    failed                 optimal   \n",
       "17                             poor    failed              suboptimal   \n",
       "18                             poor    failed              suboptimal   \n",
       "19                             poor    failed              suboptimal   \n",
       "20                             poor    failed              suboptimal   \n",
       "21                             poor    failed              suboptimal   \n",
       "22                             poor    failed              suboptimal   \n",
       "23                             poor    failed              suboptimal   \n",
       "109                            poor    passed                 optimal   \n",
       "110                            poor    passed                 optimal   \n",
       "111                            poor    passed                 optimal   \n",
       "112                            poor    passed              suboptimal   \n",
       "113                            poor    passed                 optimal   \n",
       "114                            poor    passed              suboptimal   \n",
       "158                            poor    passed              suboptimal   \n",
       "159                            poor    passed              suboptimal   \n",
       "160                            poor    passed              suboptimal   \n",
       "161                            poor    passed                 optimal   \n",
       "168                            poor    passed              suboptimal   \n",
       "169                            poor    passed                 optimal   \n",
       "170                            poor    passed              suboptimal   \n",
       "171                            poor    passed              suboptimal   \n",
       "172                            poor    passed                 optimal   \n",
       "173                            poor    passed              suboptimal   \n",
       "\n",
       "    dna_damage_stain_quality_auto staining_qc_passed  \n",
       "0                         optimal              False  \n",
       "1                         optimal              False  \n",
       "2                         optimal              False  \n",
       "3                         optimal              False  \n",
       "4                         optimal              False  \n",
       "5                         optimal              False  \n",
       "6                         optimal              False  \n",
       "7                         optimal              False  \n",
       "8                         optimal              False  \n",
       "9                         optimal              False  \n",
       "10                        optimal              False  \n",
       "11                        optimal              False  \n",
       "12                        optimal              False  \n",
       "13                        optimal              False  \n",
       "14                        optimal              False  \n",
       "15                        optimal              False  \n",
       "16                        optimal              False  \n",
       "17                     suboptimal              False  \n",
       "18                     suboptimal              False  \n",
       "19                     suboptimal              False  \n",
       "20                        optimal              False  \n",
       "21                        optimal              False  \n",
       "22                        optimal              False  \n",
       "23                     suboptimal              False  \n",
       "109                       optimal              False  \n",
       "110                       optimal              False  \n",
       "111                       optimal              False  \n",
       "112                       optimal              False  \n",
       "113                       optimal              False  \n",
       "114                       optimal              False  \n",
       "158                       optimal              False  \n",
       "159                    suboptimal              False  \n",
       "160                    suboptimal              False  \n",
       "161                       optimal              False  \n",
       "168                       optimal              False  \n",
       "169                       optimal              False  \n",
       "170                       optimal              False  \n",
       "171                       optimal              False  \n",
       "172                       optimal              False  \n",
       "173                       optimal              False  \n",
       "\n",
       "[40 rows x 22 columns]"
      ]
     },
     "execution_count": 110,
     "metadata": {},
     "output_type": "execute_result"
    }
   ],
   "source": [
    "qc_failed_df = merged_df[merged_df['staining_qc_passed'] == False]\n",
    "\n",
    "print(f\"{qc_failed_df.shape[0]} stains have not passed QC and have been discarded\")\n",
    "\n",
    "qc_failed_list = qc_failed_df['index'].tolist()\n",
    "\n",
    "qc_failed_df\n"
   ]
  }
 ],
 "metadata": {
  "kernelspec": {
   "display_name": "microglia",
   "language": "python",
   "name": "python3"
  },
  "language_info": {
   "codemirror_mode": {
    "name": "ipython",
    "version": 3
   },
   "file_extension": ".py",
   "mimetype": "text/x-python",
   "name": "python",
   "nbconvert_exporter": "python",
   "pygments_lexer": "ipython3",
   "version": "3.9.18"
  }
 },
 "nbformat": 4,
 "nbformat_minor": 2
}
