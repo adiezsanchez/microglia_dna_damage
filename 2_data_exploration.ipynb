{
 "cells": [
  {
   "cell_type": "code",
   "execution_count": 72,
   "metadata": {},
   "outputs": [],
   "source": [
    "import pandas as pd\n",
    "import plotly.express as px\n",
    "import re"
   ]
  },
  {
   "cell_type": "code",
   "execution_count": 73,
   "metadata": {},
   "outputs": [
    {
     "data": {
      "text/html": [
       "<div>\n",
       "<style scoped>\n",
       "    .dataframe tbody tr th:only-of-type {\n",
       "        vertical-align: middle;\n",
       "    }\n",
       "\n",
       "    .dataframe tbody tr th {\n",
       "        vertical-align: top;\n",
       "    }\n",
       "\n",
       "    .dataframe thead th {\n",
       "        text-align: right;\n",
       "    }\n",
       "</style>\n",
       "<table border=\"1\" class=\"dataframe\">\n",
       "  <thead>\n",
       "    <tr style=\"text-align: right;\">\n",
       "      <th></th>\n",
       "      <th>index</th>\n",
       "      <th>filename</th>\n",
       "      <th>avg_dna_damage_foci/glia_+</th>\n",
       "      <th>avg_dna_damage_foci/glia_+_damage_+</th>\n",
       "      <th>avg_dna_damage_foci/all_nuclei</th>\n",
       "      <th>avg_dna_damage_foci/all_nuclei_damage_+</th>\n",
       "      <th>nr_+_dna_damage_glia_nuclei</th>\n",
       "      <th>nr_-_dna_damage_glia_nuclei</th>\n",
       "      <th>nr_glia_+_nuclei</th>\n",
       "      <th>nr_total_nuclei</th>\n",
       "      <th>%_dna_damage_signal</th>\n",
       "      <th>%_glia+_signal</th>\n",
       "      <th>tissue_location</th>\n",
       "      <th>staining_id</th>\n",
       "    </tr>\n",
       "  </thead>\n",
       "  <tbody>\n",
       "    <tr>\n",
       "      <th>0</th>\n",
       "      <td>0</td>\n",
       "      <td>DSB Iba1 16_40X_CA1</td>\n",
       "      <td>0.291667</td>\n",
       "      <td>1.042553</td>\n",
       "      <td>0.308081</td>\n",
       "      <td>1.033898</td>\n",
       "      <td>47</td>\n",
       "      <td>121</td>\n",
       "      <td>168</td>\n",
       "      <td>198</td>\n",
       "      <td>0.170803</td>\n",
       "      <td>88.633728</td>\n",
       "      <td>CA1</td>\n",
       "      <td>16</td>\n",
       "    </tr>\n",
       "    <tr>\n",
       "      <th>1</th>\n",
       "      <td>1</td>\n",
       "      <td>DSB Iba1 16_40X_CA3</td>\n",
       "      <td>0.683616</td>\n",
       "      <td>1.551282</td>\n",
       "      <td>0.699454</td>\n",
       "      <td>1.542169</td>\n",
       "      <td>78</td>\n",
       "      <td>99</td>\n",
       "      <td>177</td>\n",
       "      <td>183</td>\n",
       "      <td>0.413990</td>\n",
       "      <td>96.349525</td>\n",
       "      <td>CA3</td>\n",
       "      <td>16</td>\n",
       "    </tr>\n",
       "    <tr>\n",
       "      <th>2</th>\n",
       "      <td>2</td>\n",
       "      <td>DSB Iba1 16_40X_CTX1</td>\n",
       "      <td>0.081633</td>\n",
       "      <td>1.000000</td>\n",
       "      <td>0.164609</td>\n",
       "      <td>1.025641</td>\n",
       "      <td>4</td>\n",
       "      <td>45</td>\n",
       "      <td>49</td>\n",
       "      <td>243</td>\n",
       "      <td>0.100040</td>\n",
       "      <td>13.598442</td>\n",
       "      <td>CTX1</td>\n",
       "      <td>16</td>\n",
       "    </tr>\n",
       "    <tr>\n",
       "      <th>3</th>\n",
       "      <td>3</td>\n",
       "      <td>DSB Iba1 16_40X_CTX2</td>\n",
       "      <td>0.429167</td>\n",
       "      <td>1.240964</td>\n",
       "      <td>0.425703</td>\n",
       "      <td>1.232558</td>\n",
       "      <td>83</td>\n",
       "      <td>157</td>\n",
       "      <td>240</td>\n",
       "      <td>249</td>\n",
       "      <td>0.218010</td>\n",
       "      <td>94.930744</td>\n",
       "      <td>CTX2</td>\n",
       "      <td>16</td>\n",
       "    </tr>\n",
       "    <tr>\n",
       "      <th>4</th>\n",
       "      <td>4</td>\n",
       "      <td>DSB Iba1 16_40X_CTX3</td>\n",
       "      <td>0.543478</td>\n",
       "      <td>1.293103</td>\n",
       "      <td>0.524664</td>\n",
       "      <td>1.392857</td>\n",
       "      <td>58</td>\n",
       "      <td>80</td>\n",
       "      <td>138</td>\n",
       "      <td>223</td>\n",
       "      <td>0.296593</td>\n",
       "      <td>54.768944</td>\n",
       "      <td>CTX3</td>\n",
       "      <td>16</td>\n",
       "    </tr>\n",
       "  </tbody>\n",
       "</table>\n",
       "</div>"
      ],
      "text/plain": [
       "   index              filename  avg_dna_damage_foci/glia_+  \\\n",
       "0      0   DSB Iba1 16_40X_CA1                    0.291667   \n",
       "1      1   DSB Iba1 16_40X_CA3                    0.683616   \n",
       "2      2  DSB Iba1 16_40X_CTX1                    0.081633   \n",
       "3      3  DSB Iba1 16_40X_CTX2                    0.429167   \n",
       "4      4  DSB Iba1 16_40X_CTX3                    0.543478   \n",
       "\n",
       "   avg_dna_damage_foci/glia_+_damage_+  avg_dna_damage_foci/all_nuclei  \\\n",
       "0                             1.042553                        0.308081   \n",
       "1                             1.551282                        0.699454   \n",
       "2                             1.000000                        0.164609   \n",
       "3                             1.240964                        0.425703   \n",
       "4                             1.293103                        0.524664   \n",
       "\n",
       "   avg_dna_damage_foci/all_nuclei_damage_+  nr_+_dna_damage_glia_nuclei  \\\n",
       "0                                 1.033898                           47   \n",
       "1                                 1.542169                           78   \n",
       "2                                 1.025641                            4   \n",
       "3                                 1.232558                           83   \n",
       "4                                 1.392857                           58   \n",
       "\n",
       "   nr_-_dna_damage_glia_nuclei  nr_glia_+_nuclei  nr_total_nuclei  \\\n",
       "0                          121               168              198   \n",
       "1                           99               177              183   \n",
       "2                           45                49              243   \n",
       "3                          157               240              249   \n",
       "4                           80               138              223   \n",
       "\n",
       "   %_dna_damage_signal  %_glia+_signal tissue_location staining_id  \n",
       "0             0.170803       88.633728             CA1          16  \n",
       "1             0.413990       96.349525             CA3          16  \n",
       "2             0.100040       13.598442            CTX1          16  \n",
       "3             0.218010       94.930744            CTX2          16  \n",
       "4             0.296593       54.768944            CTX3          16  "
      ]
     },
     "execution_count": 73,
     "metadata": {},
     "output_type": "execute_result"
    }
   ],
   "source": [
    "csv_path = \"./results_cellpdia30_sigma6_dilrad4_gliathr20_dnad_obj_seg_v3.csv\"\n",
    "\n",
    "# Read the CSV file\n",
    "df = pd.read_csv(csv_path)\n",
    "\n",
    "# Convert the index into a column\n",
    "df.reset_index(inplace=True)\n",
    "\n",
    "# Extract 'tissue_location'\n",
    "df['tissue_location'] = df['filename'].str.split('_40X_').str[-1]\n",
    "\n",
    "# Extract 'staining_id'\n",
    "df['staining_id'] = df['filename'].str.extract('(\\d+)_40X')\n",
    "\n",
    "# Display the first few rows of the DataFrame\n",
    "df.head()\n"
   ]
  },
  {
   "cell_type": "code",
   "execution_count": 74,
   "metadata": {},
   "outputs": [
    {
     "data": {
      "text/html": [
       "<div>\n",
       "<style scoped>\n",
       "    .dataframe tbody tr th:only-of-type {\n",
       "        vertical-align: middle;\n",
       "    }\n",
       "\n",
       "    .dataframe tbody tr th {\n",
       "        vertical-align: top;\n",
       "    }\n",
       "\n",
       "    .dataframe thead th {\n",
       "        text-align: right;\n",
       "    }\n",
       "</style>\n",
       "<table border=\"1\" class=\"dataframe\">\n",
       "  <thead>\n",
       "    <tr style=\"text-align: right;\">\n",
       "      <th></th>\n",
       "      <th>staining_id</th>\n",
       "      <th>animal_id</th>\n",
       "      <th>sex</th>\n",
       "      <th>genotype</th>\n",
       "      <th>dna_damage_stain_quality_manual</th>\n",
       "    </tr>\n",
       "  </thead>\n",
       "  <tbody>\n",
       "    <tr>\n",
       "      <th>0</th>\n",
       "      <td>34</td>\n",
       "      <td>885</td>\n",
       "      <td>male</td>\n",
       "      <td>APP/PS1</td>\n",
       "      <td>poor</td>\n",
       "    </tr>\n",
       "    <tr>\n",
       "      <th>1</th>\n",
       "      <td>53</td>\n",
       "      <td>885</td>\n",
       "      <td>male</td>\n",
       "      <td>APP/PS1</td>\n",
       "      <td>good</td>\n",
       "    </tr>\n",
       "    <tr>\n",
       "      <th>2</th>\n",
       "      <td>23</td>\n",
       "      <td>2042</td>\n",
       "      <td>male</td>\n",
       "      <td>APP/PS1</td>\n",
       "      <td>good</td>\n",
       "    </tr>\n",
       "    <tr>\n",
       "      <th>3</th>\n",
       "      <td>31</td>\n",
       "      <td>2042</td>\n",
       "      <td>male</td>\n",
       "      <td>APP/PS1</td>\n",
       "      <td>good</td>\n",
       "    </tr>\n",
       "    <tr>\n",
       "      <th>4</th>\n",
       "      <td>43</td>\n",
       "      <td>2042</td>\n",
       "      <td>male</td>\n",
       "      <td>APP/PS1</td>\n",
       "      <td>good</td>\n",
       "    </tr>\n",
       "  </tbody>\n",
       "</table>\n",
       "</div>"
      ],
      "text/plain": [
       "   staining_id  animal_id   sex genotype dna_damage_stain_quality_manual\n",
       "0           34        885  male  APP/PS1                            poor\n",
       "1           53        885  male  APP/PS1                            good\n",
       "2           23       2042  male  APP/PS1                            good\n",
       "3           31       2042  male  APP/PS1                            good\n",
       "4           43       2042  male  APP/PS1                            good"
      ]
     },
     "execution_count": 74,
     "metadata": {},
     "output_type": "execute_result"
    }
   ],
   "source": [
    "mouse_id_csv_path = \"./mouse_ids.csv\"\n",
    "\n",
    "# Read the CSV file\n",
    "df_mouse_id = pd.read_csv(mouse_id_csv_path, delimiter=\";\", encoding=\"UTF-8\")\n",
    "\n",
    "# Display the first few rows of the DataFrame\n",
    "df_mouse_id.head()"
   ]
  },
  {
   "cell_type": "code",
   "execution_count": 75,
   "metadata": {},
   "outputs": [
    {
     "data": {
      "text/html": [
       "<div>\n",
       "<style scoped>\n",
       "    .dataframe tbody tr th:only-of-type {\n",
       "        vertical-align: middle;\n",
       "    }\n",
       "\n",
       "    .dataframe tbody tr th {\n",
       "        vertical-align: top;\n",
       "    }\n",
       "\n",
       "    .dataframe thead th {\n",
       "        text-align: right;\n",
       "    }\n",
       "</style>\n",
       "<table border=\"1\" class=\"dataframe\">\n",
       "  <thead>\n",
       "    <tr style=\"text-align: right;\">\n",
       "      <th></th>\n",
       "      <th>index</th>\n",
       "      <th>filename</th>\n",
       "      <th>avg_dna_damage_foci/glia_+</th>\n",
       "      <th>avg_dna_damage_foci/glia_+_damage_+</th>\n",
       "      <th>avg_dna_damage_foci/all_nuclei</th>\n",
       "      <th>avg_dna_damage_foci/all_nuclei_damage_+</th>\n",
       "      <th>nr_+_dna_damage_glia_nuclei</th>\n",
       "      <th>nr_-_dna_damage_glia_nuclei</th>\n",
       "      <th>nr_glia_+_nuclei</th>\n",
       "      <th>nr_total_nuclei</th>\n",
       "      <th>%_dna_damage_signal</th>\n",
       "      <th>%_glia+_signal</th>\n",
       "      <th>tissue_location</th>\n",
       "      <th>staining_id</th>\n",
       "      <th>animal_id</th>\n",
       "      <th>sex</th>\n",
       "      <th>genotype</th>\n",
       "      <th>dna_damage_stain_quality_manual</th>\n",
       "    </tr>\n",
       "  </thead>\n",
       "  <tbody>\n",
       "    <tr>\n",
       "      <th>0</th>\n",
       "      <td>0</td>\n",
       "      <td>DSB Iba1 16_40X_CA1</td>\n",
       "      <td>0.291667</td>\n",
       "      <td>1.042553</td>\n",
       "      <td>0.308081</td>\n",
       "      <td>1.033898</td>\n",
       "      <td>47</td>\n",
       "      <td>121</td>\n",
       "      <td>168</td>\n",
       "      <td>198</td>\n",
       "      <td>0.170803</td>\n",
       "      <td>88.633728</td>\n",
       "      <td>CA1</td>\n",
       "      <td>16</td>\n",
       "      <td>887</td>\n",
       "      <td>male</td>\n",
       "      <td>APP/PS1</td>\n",
       "      <td>poor</td>\n",
       "    </tr>\n",
       "    <tr>\n",
       "      <th>1</th>\n",
       "      <td>1</td>\n",
       "      <td>DSB Iba1 16_40X_CA3</td>\n",
       "      <td>0.683616</td>\n",
       "      <td>1.551282</td>\n",
       "      <td>0.699454</td>\n",
       "      <td>1.542169</td>\n",
       "      <td>78</td>\n",
       "      <td>99</td>\n",
       "      <td>177</td>\n",
       "      <td>183</td>\n",
       "      <td>0.413990</td>\n",
       "      <td>96.349525</td>\n",
       "      <td>CA3</td>\n",
       "      <td>16</td>\n",
       "      <td>887</td>\n",
       "      <td>male</td>\n",
       "      <td>APP/PS1</td>\n",
       "      <td>poor</td>\n",
       "    </tr>\n",
       "    <tr>\n",
       "      <th>2</th>\n",
       "      <td>2</td>\n",
       "      <td>DSB Iba1 16_40X_CTX1</td>\n",
       "      <td>0.081633</td>\n",
       "      <td>1.000000</td>\n",
       "      <td>0.164609</td>\n",
       "      <td>1.025641</td>\n",
       "      <td>4</td>\n",
       "      <td>45</td>\n",
       "      <td>49</td>\n",
       "      <td>243</td>\n",
       "      <td>0.100040</td>\n",
       "      <td>13.598442</td>\n",
       "      <td>CTX1</td>\n",
       "      <td>16</td>\n",
       "      <td>887</td>\n",
       "      <td>male</td>\n",
       "      <td>APP/PS1</td>\n",
       "      <td>poor</td>\n",
       "    </tr>\n",
       "    <tr>\n",
       "      <th>3</th>\n",
       "      <td>3</td>\n",
       "      <td>DSB Iba1 16_40X_CTX2</td>\n",
       "      <td>0.429167</td>\n",
       "      <td>1.240964</td>\n",
       "      <td>0.425703</td>\n",
       "      <td>1.232558</td>\n",
       "      <td>83</td>\n",
       "      <td>157</td>\n",
       "      <td>240</td>\n",
       "      <td>249</td>\n",
       "      <td>0.218010</td>\n",
       "      <td>94.930744</td>\n",
       "      <td>CTX2</td>\n",
       "      <td>16</td>\n",
       "      <td>887</td>\n",
       "      <td>male</td>\n",
       "      <td>APP/PS1</td>\n",
       "      <td>poor</td>\n",
       "    </tr>\n",
       "    <tr>\n",
       "      <th>4</th>\n",
       "      <td>4</td>\n",
       "      <td>DSB Iba1 16_40X_CTX3</td>\n",
       "      <td>0.543478</td>\n",
       "      <td>1.293103</td>\n",
       "      <td>0.524664</td>\n",
       "      <td>1.392857</td>\n",
       "      <td>58</td>\n",
       "      <td>80</td>\n",
       "      <td>138</td>\n",
       "      <td>223</td>\n",
       "      <td>0.296593</td>\n",
       "      <td>54.768944</td>\n",
       "      <td>CTX3</td>\n",
       "      <td>16</td>\n",
       "      <td>887</td>\n",
       "      <td>male</td>\n",
       "      <td>APP/PS1</td>\n",
       "      <td>poor</td>\n",
       "    </tr>\n",
       "  </tbody>\n",
       "</table>\n",
       "</div>"
      ],
      "text/plain": [
       "   index              filename  avg_dna_damage_foci/glia_+  \\\n",
       "0      0   DSB Iba1 16_40X_CA1                    0.291667   \n",
       "1      1   DSB Iba1 16_40X_CA3                    0.683616   \n",
       "2      2  DSB Iba1 16_40X_CTX1                    0.081633   \n",
       "3      3  DSB Iba1 16_40X_CTX2                    0.429167   \n",
       "4      4  DSB Iba1 16_40X_CTX3                    0.543478   \n",
       "\n",
       "   avg_dna_damage_foci/glia_+_damage_+  avg_dna_damage_foci/all_nuclei  \\\n",
       "0                             1.042553                        0.308081   \n",
       "1                             1.551282                        0.699454   \n",
       "2                             1.000000                        0.164609   \n",
       "3                             1.240964                        0.425703   \n",
       "4                             1.293103                        0.524664   \n",
       "\n",
       "   avg_dna_damage_foci/all_nuclei_damage_+  nr_+_dna_damage_glia_nuclei  \\\n",
       "0                                 1.033898                           47   \n",
       "1                                 1.542169                           78   \n",
       "2                                 1.025641                            4   \n",
       "3                                 1.232558                           83   \n",
       "4                                 1.392857                           58   \n",
       "\n",
       "   nr_-_dna_damage_glia_nuclei  nr_glia_+_nuclei  nr_total_nuclei  \\\n",
       "0                          121               168              198   \n",
       "1                           99               177              183   \n",
       "2                           45                49              243   \n",
       "3                          157               240              249   \n",
       "4                           80               138              223   \n",
       "\n",
       "   %_dna_damage_signal  %_glia+_signal tissue_location  staining_id  \\\n",
       "0             0.170803       88.633728             CA1           16   \n",
       "1             0.413990       96.349525             CA3           16   \n",
       "2             0.100040       13.598442            CTX1           16   \n",
       "3             0.218010       94.930744            CTX2           16   \n",
       "4             0.296593       54.768944            CTX3           16   \n",
       "\n",
       "   animal_id   sex genotype dna_damage_stain_quality_manual  \n",
       "0        887  male  APP/PS1                            poor  \n",
       "1        887  male  APP/PS1                            poor  \n",
       "2        887  male  APP/PS1                            poor  \n",
       "3        887  male  APP/PS1                            poor  \n",
       "4        887  male  APP/PS1                            poor  "
      ]
     },
     "execution_count": 75,
     "metadata": {},
     "output_type": "execute_result"
    }
   ],
   "source": [
    "df['staining_id'] = pd.to_numeric(df['staining_id'], errors='coerce')\n",
    "df_mouse_id['staining_id'] = pd.to_numeric(df_mouse_id['staining_id'], errors='coerce')\n",
    "\n",
    "# Merge both processed_results_df and mouse_id dataframes on staining_id\n",
    "merged_df = pd.merge(df, df_mouse_id, on=\"staining_id\")\n",
    "\n",
    "# Display the first few rows of the DataFrame\n",
    "merged_df.head()"
   ]
  },
  {
   "cell_type": "code",
   "execution_count": 76,
   "metadata": {},
   "outputs": [
    {
     "data": {
      "application/vnd.plotly.v1+json": {
       "config": {
        "plotlyServerURL": "https://plot.ly"
       },
       "data": [
        {
         "customdata": [
          [
           16,
           0
          ],
          [
           16,
           1
          ],
          [
           16,
           2
          ],
          [
           16,
           3
          ],
          [
           16,
           4
          ],
          [
           16,
           5
          ],
          [
           17,
           6
          ],
          [
           17,
           7
          ],
          [
           17,
           8
          ],
          [
           17,
           9
          ],
          [
           17,
           10
          ],
          [
           17,
           11
          ],
          [
           18,
           12
          ],
          [
           18,
           13
          ],
          [
           18,
           14
          ],
          [
           18,
           15
          ],
          [
           18,
           16
          ],
          [
           18,
           17
          ],
          [
           19,
           18
          ],
          [
           19,
           19
          ],
          [
           19,
           20
          ],
          [
           19,
           21
          ],
          [
           19,
           22
          ],
          [
           19,
           23
          ],
          [
           20,
           24
          ],
          [
           20,
           25
          ],
          [
           20,
           26
          ],
          [
           20,
           27
          ],
          [
           20,
           28
          ],
          [
           20,
           29
          ],
          [
           21,
           30
          ],
          [
           21,
           31
          ],
          [
           21,
           32
          ],
          [
           21,
           33
          ],
          [
           21,
           34
          ],
          [
           21,
           35
          ],
          [
           22,
           36
          ],
          [
           22,
           37
          ],
          [
           22,
           38
          ],
          [
           22,
           39
          ],
          [
           22,
           40
          ],
          [
           22,
           41
          ],
          [
           23,
           42
          ],
          [
           23,
           43
          ],
          [
           23,
           44
          ],
          [
           23,
           45
          ],
          [
           23,
           46
          ],
          [
           23,
           47
          ],
          [
           24,
           48
          ],
          [
           24,
           49
          ],
          [
           24,
           50
          ],
          [
           24,
           51
          ],
          [
           24,
           52
          ],
          [
           24,
           53
          ],
          [
           25,
           54
          ],
          [
           25,
           55
          ],
          [
           25,
           56
          ],
          [
           25,
           57
          ],
          [
           25,
           58
          ],
          [
           25,
           59
          ],
          [
           26,
           60
          ],
          [
           26,
           61
          ],
          [
           26,
           62
          ],
          [
           26,
           63
          ],
          [
           26,
           64
          ],
          [
           26,
           65
          ],
          [
           27,
           66
          ],
          [
           28,
           67
          ],
          [
           28,
           68
          ],
          [
           28,
           69
          ],
          [
           28,
           70
          ],
          [
           28,
           71
          ],
          [
           28,
           72
          ],
          [
           29,
           73
          ],
          [
           29,
           74
          ],
          [
           29,
           75
          ],
          [
           29,
           76
          ],
          [
           29,
           77
          ],
          [
           29,
           78
          ],
          [
           30,
           79
          ],
          [
           30,
           80
          ],
          [
           30,
           81
          ],
          [
           30,
           82
          ],
          [
           30,
           83
          ],
          [
           30,
           84
          ],
          [
           31,
           85
          ],
          [
           31,
           86
          ],
          [
           31,
           87
          ],
          [
           31,
           88
          ],
          [
           31,
           89
          ],
          [
           31,
           90
          ],
          [
           32,
           91
          ],
          [
           32,
           92
          ],
          [
           32,
           93
          ],
          [
           32,
           94
          ],
          [
           32,
           95
          ],
          [
           32,
           96
          ],
          [
           33,
           97
          ],
          [
           33,
           98
          ],
          [
           33,
           99
          ],
          [
           33,
           100
          ],
          [
           33,
           101
          ],
          [
           33,
           102
          ],
          [
           34,
           103
          ],
          [
           34,
           104
          ],
          [
           34,
           105
          ],
          [
           34,
           106
          ],
          [
           34,
           107
          ],
          [
           34,
           108
          ],
          [
           35,
           109
          ],
          [
           35,
           110
          ],
          [
           35,
           111
          ],
          [
           35,
           112
          ],
          [
           35,
           113
          ],
          [
           35,
           114
          ],
          [
           36,
           115
          ],
          [
           36,
           116
          ],
          [
           36,
           117
          ],
          [
           36,
           118
          ],
          [
           36,
           119
          ],
          [
           36,
           120
          ],
          [
           37,
           121
          ],
          [
           37,
           122
          ],
          [
           37,
           123
          ],
          [
           37,
           124
          ],
          [
           37,
           125
          ],
          [
           37,
           126
          ],
          [
           38,
           127
          ],
          [
           39,
           128
          ],
          [
           39,
           129
          ],
          [
           39,
           130
          ],
          [
           39,
           131
          ],
          [
           39,
           132
          ],
          [
           39,
           133
          ],
          [
           40,
           134
          ],
          [
           40,
           135
          ],
          [
           40,
           136
          ],
          [
           40,
           137
          ],
          [
           40,
           138
          ],
          [
           40,
           139
          ],
          [
           41,
           140
          ],
          [
           41,
           141
          ],
          [
           41,
           142
          ],
          [
           41,
           143
          ],
          [
           41,
           144
          ],
          [
           41,
           145
          ],
          [
           42,
           146
          ],
          [
           42,
           147
          ],
          [
           42,
           148
          ],
          [
           42,
           149
          ],
          [
           42,
           150
          ],
          [
           42,
           151
          ],
          [
           43,
           152
          ],
          [
           43,
           153
          ],
          [
           43,
           154
          ],
          [
           43,
           155
          ],
          [
           43,
           156
          ],
          [
           43,
           157
          ],
          [
           44,
           158
          ],
          [
           44,
           159
          ],
          [
           44,
           160
          ],
          [
           44,
           161
          ],
          [
           45,
           162
          ],
          [
           45,
           163
          ],
          [
           45,
           164
          ],
          [
           45,
           165
          ],
          [
           45,
           166
          ],
          [
           45,
           167
          ],
          [
           46,
           168
          ],
          [
           46,
           169
          ],
          [
           46,
           170
          ],
          [
           46,
           171
          ],
          [
           46,
           172
          ],
          [
           46,
           173
          ],
          [
           47,
           174
          ],
          [
           47,
           175
          ],
          [
           47,
           176
          ],
          [
           47,
           177
          ],
          [
           47,
           178
          ],
          [
           47,
           179
          ],
          [
           48,
           180
          ],
          [
           48,
           181
          ],
          [
           48,
           182
          ],
          [
           48,
           183
          ],
          [
           48,
           184
          ],
          [
           48,
           185
          ],
          [
           49,
           186
          ],
          [
           49,
           187
          ],
          [
           49,
           188
          ],
          [
           49,
           189
          ],
          [
           49,
           190
          ],
          [
           49,
           191
          ],
          [
           50,
           192
          ],
          [
           50,
           193
          ],
          [
           50,
           194
          ],
          [
           50,
           195
          ],
          [
           50,
           196
          ],
          [
           50,
           197
          ],
          [
           51,
           198
          ],
          [
           51,
           199
          ],
          [
           51,
           200
          ],
          [
           51,
           201
          ],
          [
           51,
           202
          ],
          [
           51,
           203
          ],
          [
           52,
           204
          ],
          [
           52,
           205
          ],
          [
           52,
           206
          ],
          [
           52,
           207
          ],
          [
           52,
           208
          ],
          [
           52,
           209
          ],
          [
           53,
           210
          ],
          [
           53,
           211
          ],
          [
           53,
           212
          ],
          [
           53,
           213
          ],
          [
           53,
           214
          ],
          [
           53,
           215
          ],
          [
           54,
           216
          ],
          [
           54,
           217
          ],
          [
           54,
           218
          ],
          [
           54,
           219
          ],
          [
           54,
           220
          ],
          [
           54,
           221
          ],
          [
           55,
           222
          ],
          [
           55,
           223
          ],
          [
           55,
           224
          ],
          [
           55,
           225
          ],
          [
           55,
           226
          ],
          [
           55,
           227
          ],
          [
           56,
           228
          ],
          [
           56,
           229
          ],
          [
           56,
           230
          ],
          [
           56,
           231
          ],
          [
           56,
           232
          ],
          [
           56,
           233
          ],
          [
           57,
           234
          ],
          [
           57,
           235
          ],
          [
           57,
           236
          ],
          [
           57,
           237
          ],
          [
           57,
           238
          ],
          [
           57,
           239
          ],
          [
           58,
           240
          ],
          [
           58,
           241
          ],
          [
           58,
           242
          ],
          [
           58,
           243
          ],
          [
           58,
           244
          ],
          [
           58,
           245
          ],
          [
           59,
           246
          ],
          [
           59,
           247
          ],
          [
           59,
           248
          ],
          [
           59,
           249
          ],
          [
           59,
           250
          ],
          [
           59,
           251
          ]
         ],
         "hovertemplate": "tissue_location=%{x}<br>nr_+_dna_damage_glia_nuclei=%{y}<br>staining_id=%{customdata[0]}<br>index=%{customdata[1]}<extra></extra>",
         "legendgroup": "",
         "marker": {
          "color": "#636efa",
          "symbol": "circle"
         },
         "mode": "markers",
         "name": "",
         "orientation": "v",
         "showlegend": false,
         "type": "scatter",
         "x": [
          "CA1",
          "CA3",
          "CTX1",
          "CTX2",
          "CTX3",
          "DG",
          "CA1",
          "CA3",
          "CTX1",
          "CTX2",
          "CTX3",
          "DG",
          "CA1",
          "CA3",
          "CTX1",
          "CTX2",
          "CTX3",
          "DG",
          "CA1",
          "CA3",
          "CTX1",
          "CTX2",
          "CTX3",
          "DG",
          "CA1",
          "CA3",
          "CTX1",
          "CTX2",
          "CTX3",
          "DG",
          "CA1",
          "CA3",
          "CTX1",
          "CTX2",
          "CTX3",
          "DG",
          "CA1",
          "CA3",
          "CTX1",
          "CTX2",
          "CTX3",
          "DG",
          "CA1",
          "CA3",
          "CTX1",
          "CTX2",
          "CTX3",
          "DG",
          "CA1",
          "CA3",
          "CTX1",
          "CTX2",
          "CTX3",
          "DG",
          "CA1",
          "CA3",
          "CTX1",
          "CTX2",
          "CTX3",
          "DG",
          "CA1",
          "CA3",
          "CTX1",
          "CTX2",
          "CTX3",
          "DG",
          "DG",
          "CA1",
          "CA3",
          "CTX1",
          "CTX2",
          "CTX3",
          "DG",
          "CA1",
          "CA3",
          "CTX1",
          "CTX2",
          "CTX3",
          "DG",
          "CA1",
          "CA3",
          "CTX1",
          "CTX2",
          "CTX3",
          "DG",
          "CA1",
          "CA3",
          "CTX1",
          "CTX2",
          "CTX3",
          "DG",
          "CA1",
          "CA3",
          "CTX1",
          "CTX2",
          "CTX3",
          "DG",
          "CA1",
          "CA3",
          "CTX1",
          "CTX2",
          "CTX3",
          "DG",
          "CA1",
          "CA3",
          "CTX1",
          "CTX2",
          "CTX3",
          "DG",
          "CA1",
          "CA3",
          "CTX1",
          "CTX2",
          "CTX3",
          "DG",
          "CA1",
          "CA3",
          "CTX1",
          "CTX2",
          "CTX3",
          "DG",
          "CA1",
          "CA3",
          "CTX1",
          "CTX2",
          "CTX3",
          "DG",
          "DG",
          "CA1",
          "CA3",
          "CTX1",
          "CTX2",
          "CTX3",
          "DG",
          "CA1",
          "CA3",
          "CTX1",
          "CTX2",
          "CTX3",
          "DG",
          "CA1",
          "CA3",
          "CTX1",
          "CTX2",
          "CTX3",
          "DG",
          "CA1",
          "CA3",
          "CTX1",
          "CTX2",
          "CTX3",
          "DG",
          "CA1",
          "CA3",
          "CTX1",
          "CTX2",
          "CTX3",
          "DG",
          "CA1",
          "CA3",
          "CTX1",
          "DG",
          "CA1",
          "CA3",
          "CTX1",
          "CTX2",
          "CTX3",
          "DG",
          "CA1",
          "CA3",
          "CTX1",
          "CTX2",
          "CTX3",
          "DG",
          "CA1",
          "CA3",
          "CTX1",
          "CTX2",
          "CTX3",
          "DG",
          "CA1",
          "CA3",
          "CTX1",
          "CTX2",
          "CTX3",
          "DG",
          "CA1",
          "CA3",
          "CTX1",
          "CTX2",
          "CTX3",
          "DG",
          "CA1",
          "CA3",
          "CTX1",
          "CTX2",
          "CTX3",
          "DG",
          "CA1",
          "CA3",
          "CTX1",
          "CTX2",
          "CTX3",
          "DG",
          "CA1",
          "CA3",
          "CTX1",
          "CTX2",
          "CTX3",
          "DG",
          "CA1",
          "CA3",
          "CTX1",
          "CTX2",
          "CTX3",
          "DG",
          "CA1",
          "CA3",
          "CTX1",
          "CTX2",
          "CTX3",
          "DG",
          "CA1",
          "CA3",
          "CTX1",
          "CTX2",
          "CTX3",
          "DG",
          "CA1",
          "CA3",
          "CTX1",
          "CTX2",
          "CTX3",
          "DG",
          "CA1",
          "CA3",
          "CTX1",
          "CTX2",
          "CTX3",
          "DG",
          "CA1",
          "CA3",
          "CTX1",
          "CTX2",
          "CTX3",
          "DG",
          "CA1",
          "CA3",
          "CTX1",
          "CTX2",
          "CTX3",
          "DG"
         ],
         "xaxis": "x",
         "y": [
          47,
          78,
          4,
          83,
          58,
          44,
          1,
          5,
          9,
          25,
          22,
          31,
          10,
          11,
          3,
          7,
          7,
          60,
          37,
          34,
          58,
          17,
          15,
          56,
          5,
          7,
          4,
          11,
          1,
          4,
          7,
          3,
          14,
          12,
          19,
          12,
          7,
          4,
          7,
          7,
          6,
          11,
          2,
          3,
          8,
          0,
          9,
          6,
          0,
          0,
          0,
          6,
          1,
          1,
          5,
          8,
          8,
          14,
          9,
          11,
          7,
          6,
          9,
          5,
          23,
          5,
          3,
          1,
          0,
          1,
          6,
          7,
          20,
          5,
          3,
          10,
          18,
          8,
          5,
          0,
          2,
          8,
          5,
          7,
          1,
          7,
          1,
          4,
          5,
          7,
          7,
          6,
          16,
          20,
          37,
          25,
          29,
          4,
          5,
          3,
          10,
          4,
          7,
          12,
          6,
          22,
          30,
          24,
          19,
          4,
          27,
          8,
          64,
          44,
          66,
          10,
          3,
          13,
          21,
          10,
          6,
          2,
          1,
          11,
          13,
          22,
          1,
          3,
          3,
          3,
          2,
          1,
          2,
          8,
          2,
          5,
          12,
          8,
          20,
          4,
          2,
          0,
          0,
          0,
          2,
          4,
          4,
          4,
          1,
          6,
          6,
          2,
          4,
          3,
          16,
          7,
          9,
          29,
          27,
          27,
          106,
          58,
          11,
          6,
          5,
          10,
          7,
          17,
          41,
          29,
          57,
          53,
          52,
          36,
          6,
          6,
          5,
          40,
          22,
          9,
          5,
          4,
          14,
          10,
          11,
          8,
          11,
          2,
          12,
          7,
          5,
          7,
          1,
          0,
          0,
          2,
          9,
          6,
          4,
          6,
          4,
          5,
          10,
          7,
          2,
          3,
          0,
          14,
          9,
          9,
          5,
          5,
          22,
          20,
          10,
          9,
          5,
          3,
          7,
          8,
          12,
          11,
          3,
          2,
          1,
          3,
          0,
          6,
          6,
          4,
          8,
          8,
          4,
          10,
          4,
          6,
          8,
          7,
          4,
          9,
          4,
          3,
          11,
          10,
          4,
          2,
          4,
          3,
          5,
          11,
          10,
          7
         ],
         "yaxis": "y"
        }
       ],
       "layout": {
        "legend": {
         "tracegroupgap": 0
        },
        "template": {
         "data": {
          "bar": [
           {
            "error_x": {
             "color": "#2a3f5f"
            },
            "error_y": {
             "color": "#2a3f5f"
            },
            "marker": {
             "line": {
              "color": "#E5ECF6",
              "width": 0.5
             },
             "pattern": {
              "fillmode": "overlay",
              "size": 10,
              "solidity": 0.2
             }
            },
            "type": "bar"
           }
          ],
          "barpolar": [
           {
            "marker": {
             "line": {
              "color": "#E5ECF6",
              "width": 0.5
             },
             "pattern": {
              "fillmode": "overlay",
              "size": 10,
              "solidity": 0.2
             }
            },
            "type": "barpolar"
           }
          ],
          "carpet": [
           {
            "aaxis": {
             "endlinecolor": "#2a3f5f",
             "gridcolor": "white",
             "linecolor": "white",
             "minorgridcolor": "white",
             "startlinecolor": "#2a3f5f"
            },
            "baxis": {
             "endlinecolor": "#2a3f5f",
             "gridcolor": "white",
             "linecolor": "white",
             "minorgridcolor": "white",
             "startlinecolor": "#2a3f5f"
            },
            "type": "carpet"
           }
          ],
          "choropleth": [
           {
            "colorbar": {
             "outlinewidth": 0,
             "ticks": ""
            },
            "type": "choropleth"
           }
          ],
          "contour": [
           {
            "colorbar": {
             "outlinewidth": 0,
             "ticks": ""
            },
            "colorscale": [
             [
              0,
              "#0d0887"
             ],
             [
              0.1111111111111111,
              "#46039f"
             ],
             [
              0.2222222222222222,
              "#7201a8"
             ],
             [
              0.3333333333333333,
              "#9c179e"
             ],
             [
              0.4444444444444444,
              "#bd3786"
             ],
             [
              0.5555555555555556,
              "#d8576b"
             ],
             [
              0.6666666666666666,
              "#ed7953"
             ],
             [
              0.7777777777777778,
              "#fb9f3a"
             ],
             [
              0.8888888888888888,
              "#fdca26"
             ],
             [
              1,
              "#f0f921"
             ]
            ],
            "type": "contour"
           }
          ],
          "contourcarpet": [
           {
            "colorbar": {
             "outlinewidth": 0,
             "ticks": ""
            },
            "type": "contourcarpet"
           }
          ],
          "heatmap": [
           {
            "colorbar": {
             "outlinewidth": 0,
             "ticks": ""
            },
            "colorscale": [
             [
              0,
              "#0d0887"
             ],
             [
              0.1111111111111111,
              "#46039f"
             ],
             [
              0.2222222222222222,
              "#7201a8"
             ],
             [
              0.3333333333333333,
              "#9c179e"
             ],
             [
              0.4444444444444444,
              "#bd3786"
             ],
             [
              0.5555555555555556,
              "#d8576b"
             ],
             [
              0.6666666666666666,
              "#ed7953"
             ],
             [
              0.7777777777777778,
              "#fb9f3a"
             ],
             [
              0.8888888888888888,
              "#fdca26"
             ],
             [
              1,
              "#f0f921"
             ]
            ],
            "type": "heatmap"
           }
          ],
          "heatmapgl": [
           {
            "colorbar": {
             "outlinewidth": 0,
             "ticks": ""
            },
            "colorscale": [
             [
              0,
              "#0d0887"
             ],
             [
              0.1111111111111111,
              "#46039f"
             ],
             [
              0.2222222222222222,
              "#7201a8"
             ],
             [
              0.3333333333333333,
              "#9c179e"
             ],
             [
              0.4444444444444444,
              "#bd3786"
             ],
             [
              0.5555555555555556,
              "#d8576b"
             ],
             [
              0.6666666666666666,
              "#ed7953"
             ],
             [
              0.7777777777777778,
              "#fb9f3a"
             ],
             [
              0.8888888888888888,
              "#fdca26"
             ],
             [
              1,
              "#f0f921"
             ]
            ],
            "type": "heatmapgl"
           }
          ],
          "histogram": [
           {
            "marker": {
             "pattern": {
              "fillmode": "overlay",
              "size": 10,
              "solidity": 0.2
             }
            },
            "type": "histogram"
           }
          ],
          "histogram2d": [
           {
            "colorbar": {
             "outlinewidth": 0,
             "ticks": ""
            },
            "colorscale": [
             [
              0,
              "#0d0887"
             ],
             [
              0.1111111111111111,
              "#46039f"
             ],
             [
              0.2222222222222222,
              "#7201a8"
             ],
             [
              0.3333333333333333,
              "#9c179e"
             ],
             [
              0.4444444444444444,
              "#bd3786"
             ],
             [
              0.5555555555555556,
              "#d8576b"
             ],
             [
              0.6666666666666666,
              "#ed7953"
             ],
             [
              0.7777777777777778,
              "#fb9f3a"
             ],
             [
              0.8888888888888888,
              "#fdca26"
             ],
             [
              1,
              "#f0f921"
             ]
            ],
            "type": "histogram2d"
           }
          ],
          "histogram2dcontour": [
           {
            "colorbar": {
             "outlinewidth": 0,
             "ticks": ""
            },
            "colorscale": [
             [
              0,
              "#0d0887"
             ],
             [
              0.1111111111111111,
              "#46039f"
             ],
             [
              0.2222222222222222,
              "#7201a8"
             ],
             [
              0.3333333333333333,
              "#9c179e"
             ],
             [
              0.4444444444444444,
              "#bd3786"
             ],
             [
              0.5555555555555556,
              "#d8576b"
             ],
             [
              0.6666666666666666,
              "#ed7953"
             ],
             [
              0.7777777777777778,
              "#fb9f3a"
             ],
             [
              0.8888888888888888,
              "#fdca26"
             ],
             [
              1,
              "#f0f921"
             ]
            ],
            "type": "histogram2dcontour"
           }
          ],
          "mesh3d": [
           {
            "colorbar": {
             "outlinewidth": 0,
             "ticks": ""
            },
            "type": "mesh3d"
           }
          ],
          "parcoords": [
           {
            "line": {
             "colorbar": {
              "outlinewidth": 0,
              "ticks": ""
             }
            },
            "type": "parcoords"
           }
          ],
          "pie": [
           {
            "automargin": true,
            "type": "pie"
           }
          ],
          "scatter": [
           {
            "fillpattern": {
             "fillmode": "overlay",
             "size": 10,
             "solidity": 0.2
            },
            "type": "scatter"
           }
          ],
          "scatter3d": [
           {
            "line": {
             "colorbar": {
              "outlinewidth": 0,
              "ticks": ""
             }
            },
            "marker": {
             "colorbar": {
              "outlinewidth": 0,
              "ticks": ""
             }
            },
            "type": "scatter3d"
           }
          ],
          "scattercarpet": [
           {
            "marker": {
             "colorbar": {
              "outlinewidth": 0,
              "ticks": ""
             }
            },
            "type": "scattercarpet"
           }
          ],
          "scattergeo": [
           {
            "marker": {
             "colorbar": {
              "outlinewidth": 0,
              "ticks": ""
             }
            },
            "type": "scattergeo"
           }
          ],
          "scattergl": [
           {
            "marker": {
             "colorbar": {
              "outlinewidth": 0,
              "ticks": ""
             }
            },
            "type": "scattergl"
           }
          ],
          "scattermapbox": [
           {
            "marker": {
             "colorbar": {
              "outlinewidth": 0,
              "ticks": ""
             }
            },
            "type": "scattermapbox"
           }
          ],
          "scatterpolar": [
           {
            "marker": {
             "colorbar": {
              "outlinewidth": 0,
              "ticks": ""
             }
            },
            "type": "scatterpolar"
           }
          ],
          "scatterpolargl": [
           {
            "marker": {
             "colorbar": {
              "outlinewidth": 0,
              "ticks": ""
             }
            },
            "type": "scatterpolargl"
           }
          ],
          "scatterternary": [
           {
            "marker": {
             "colorbar": {
              "outlinewidth": 0,
              "ticks": ""
             }
            },
            "type": "scatterternary"
           }
          ],
          "surface": [
           {
            "colorbar": {
             "outlinewidth": 0,
             "ticks": ""
            },
            "colorscale": [
             [
              0,
              "#0d0887"
             ],
             [
              0.1111111111111111,
              "#46039f"
             ],
             [
              0.2222222222222222,
              "#7201a8"
             ],
             [
              0.3333333333333333,
              "#9c179e"
             ],
             [
              0.4444444444444444,
              "#bd3786"
             ],
             [
              0.5555555555555556,
              "#d8576b"
             ],
             [
              0.6666666666666666,
              "#ed7953"
             ],
             [
              0.7777777777777778,
              "#fb9f3a"
             ],
             [
              0.8888888888888888,
              "#fdca26"
             ],
             [
              1,
              "#f0f921"
             ]
            ],
            "type": "surface"
           }
          ],
          "table": [
           {
            "cells": {
             "fill": {
              "color": "#EBF0F8"
             },
             "line": {
              "color": "white"
             }
            },
            "header": {
             "fill": {
              "color": "#C8D4E3"
             },
             "line": {
              "color": "white"
             }
            },
            "type": "table"
           }
          ]
         },
         "layout": {
          "annotationdefaults": {
           "arrowcolor": "#2a3f5f",
           "arrowhead": 0,
           "arrowwidth": 1
          },
          "autotypenumbers": "strict",
          "coloraxis": {
           "colorbar": {
            "outlinewidth": 0,
            "ticks": ""
           }
          },
          "colorscale": {
           "diverging": [
            [
             0,
             "#8e0152"
            ],
            [
             0.1,
             "#c51b7d"
            ],
            [
             0.2,
             "#de77ae"
            ],
            [
             0.3,
             "#f1b6da"
            ],
            [
             0.4,
             "#fde0ef"
            ],
            [
             0.5,
             "#f7f7f7"
            ],
            [
             0.6,
             "#e6f5d0"
            ],
            [
             0.7,
             "#b8e186"
            ],
            [
             0.8,
             "#7fbc41"
            ],
            [
             0.9,
             "#4d9221"
            ],
            [
             1,
             "#276419"
            ]
           ],
           "sequential": [
            [
             0,
             "#0d0887"
            ],
            [
             0.1111111111111111,
             "#46039f"
            ],
            [
             0.2222222222222222,
             "#7201a8"
            ],
            [
             0.3333333333333333,
             "#9c179e"
            ],
            [
             0.4444444444444444,
             "#bd3786"
            ],
            [
             0.5555555555555556,
             "#d8576b"
            ],
            [
             0.6666666666666666,
             "#ed7953"
            ],
            [
             0.7777777777777778,
             "#fb9f3a"
            ],
            [
             0.8888888888888888,
             "#fdca26"
            ],
            [
             1,
             "#f0f921"
            ]
           ],
           "sequentialminus": [
            [
             0,
             "#0d0887"
            ],
            [
             0.1111111111111111,
             "#46039f"
            ],
            [
             0.2222222222222222,
             "#7201a8"
            ],
            [
             0.3333333333333333,
             "#9c179e"
            ],
            [
             0.4444444444444444,
             "#bd3786"
            ],
            [
             0.5555555555555556,
             "#d8576b"
            ],
            [
             0.6666666666666666,
             "#ed7953"
            ],
            [
             0.7777777777777778,
             "#fb9f3a"
            ],
            [
             0.8888888888888888,
             "#fdca26"
            ],
            [
             1,
             "#f0f921"
            ]
           ]
          },
          "colorway": [
           "#636efa",
           "#EF553B",
           "#00cc96",
           "#ab63fa",
           "#FFA15A",
           "#19d3f3",
           "#FF6692",
           "#B6E880",
           "#FF97FF",
           "#FECB52"
          ],
          "font": {
           "color": "#2a3f5f"
          },
          "geo": {
           "bgcolor": "white",
           "lakecolor": "white",
           "landcolor": "#E5ECF6",
           "showlakes": true,
           "showland": true,
           "subunitcolor": "white"
          },
          "hoverlabel": {
           "align": "left"
          },
          "hovermode": "closest",
          "mapbox": {
           "style": "light"
          },
          "paper_bgcolor": "white",
          "plot_bgcolor": "#E5ECF6",
          "polar": {
           "angularaxis": {
            "gridcolor": "white",
            "linecolor": "white",
            "ticks": ""
           },
           "bgcolor": "#E5ECF6",
           "radialaxis": {
            "gridcolor": "white",
            "linecolor": "white",
            "ticks": ""
           }
          },
          "scene": {
           "xaxis": {
            "backgroundcolor": "#E5ECF6",
            "gridcolor": "white",
            "gridwidth": 2,
            "linecolor": "white",
            "showbackground": true,
            "ticks": "",
            "zerolinecolor": "white"
           },
           "yaxis": {
            "backgroundcolor": "#E5ECF6",
            "gridcolor": "white",
            "gridwidth": 2,
            "linecolor": "white",
            "showbackground": true,
            "ticks": "",
            "zerolinecolor": "white"
           },
           "zaxis": {
            "backgroundcolor": "#E5ECF6",
            "gridcolor": "white",
            "gridwidth": 2,
            "linecolor": "white",
            "showbackground": true,
            "ticks": "",
            "zerolinecolor": "white"
           }
          },
          "shapedefaults": {
           "line": {
            "color": "#2a3f5f"
           }
          },
          "ternary": {
           "aaxis": {
            "gridcolor": "white",
            "linecolor": "white",
            "ticks": ""
           },
           "baxis": {
            "gridcolor": "white",
            "linecolor": "white",
            "ticks": ""
           },
           "bgcolor": "#E5ECF6",
           "caxis": {
            "gridcolor": "white",
            "linecolor": "white",
            "ticks": ""
           }
          },
          "title": {
           "x": 0.05
          },
          "xaxis": {
           "automargin": true,
           "gridcolor": "white",
           "linecolor": "white",
           "ticks": "",
           "title": {
            "standoff": 15
           },
           "zerolinecolor": "white",
           "zerolinewidth": 2
          },
          "yaxis": {
           "automargin": true,
           "gridcolor": "white",
           "linecolor": "white",
           "ticks": "",
           "title": {
            "standoff": 15
           },
           "zerolinecolor": "white",
           "zerolinewidth": 2
          }
         }
        },
        "title": {
         "text": "Nr of DNA_damage+ glia+ nuclei by Tissue Location"
        },
        "xaxis": {
         "anchor": "y",
         "domain": [
          0,
          1
         ],
         "title": {
          "text": "tissue_location"
         }
        },
        "yaxis": {
         "anchor": "x",
         "domain": [
          0,
          1
         ],
         "title": {
          "text": "nr_+_dna_damage_glia_nuclei"
         }
        }
       }
      }
     },
     "metadata": {},
     "output_type": "display_data"
    }
   ],
   "source": [
    "# Create the plot\n",
    "fig = px.scatter(df, x='tissue_location', y='nr_+_dna_damage_glia_nuclei',\n",
    "                 hover_data=['staining_id','index'], title='Nr of DNA_damage+ glia+ nuclei by Tissue Location')\n",
    "\n",
    "# Show the plot\n",
    "fig.show()"
   ]
  },
  {
   "cell_type": "code",
   "execution_count": 77,
   "metadata": {},
   "outputs": [
    {
     "data": {
      "application/vnd.plotly.v1+json": {
       "config": {
        "plotlyServerURL": "https://plot.ly"
       },
       "data": [
        {
         "customdata": [
          [
           16
          ],
          [
           16
          ],
          [
           16
          ],
          [
           16
          ],
          [
           16
          ],
          [
           16
          ],
          [
           17
          ],
          [
           17
          ],
          [
           17
          ],
          [
           17
          ],
          [
           17
          ],
          [
           17
          ],
          [
           18
          ],
          [
           18
          ],
          [
           18
          ],
          [
           18
          ],
          [
           18
          ],
          [
           18
          ],
          [
           19
          ],
          [
           19
          ],
          [
           19
          ],
          [
           19
          ],
          [
           19
          ],
          [
           19
          ],
          [
           20
          ],
          [
           20
          ],
          [
           20
          ],
          [
           20
          ],
          [
           20
          ],
          [
           20
          ],
          [
           21
          ],
          [
           21
          ],
          [
           21
          ],
          [
           21
          ],
          [
           21
          ],
          [
           21
          ],
          [
           22
          ],
          [
           22
          ],
          [
           22
          ],
          [
           22
          ],
          [
           22
          ],
          [
           22
          ],
          [
           23
          ],
          [
           23
          ],
          [
           23
          ],
          [
           23
          ],
          [
           23
          ],
          [
           23
          ],
          [
           24
          ],
          [
           24
          ],
          [
           24
          ],
          [
           24
          ],
          [
           24
          ],
          [
           24
          ],
          [
           25
          ],
          [
           25
          ],
          [
           25
          ],
          [
           25
          ],
          [
           25
          ],
          [
           25
          ],
          [
           26
          ],
          [
           26
          ],
          [
           26
          ],
          [
           26
          ],
          [
           26
          ],
          [
           26
          ],
          [
           27
          ],
          [
           28
          ],
          [
           28
          ],
          [
           28
          ],
          [
           28
          ],
          [
           28
          ],
          [
           28
          ],
          [
           29
          ],
          [
           29
          ],
          [
           29
          ],
          [
           29
          ],
          [
           29
          ],
          [
           29
          ],
          [
           30
          ],
          [
           30
          ],
          [
           30
          ],
          [
           30
          ],
          [
           30
          ],
          [
           30
          ],
          [
           31
          ],
          [
           31
          ],
          [
           31
          ],
          [
           31
          ],
          [
           31
          ],
          [
           31
          ],
          [
           32
          ],
          [
           32
          ],
          [
           32
          ],
          [
           32
          ],
          [
           32
          ],
          [
           32
          ],
          [
           33
          ],
          [
           33
          ],
          [
           33
          ],
          [
           33
          ],
          [
           33
          ],
          [
           33
          ],
          [
           34
          ],
          [
           34
          ],
          [
           34
          ],
          [
           34
          ],
          [
           34
          ],
          [
           34
          ],
          [
           35
          ],
          [
           35
          ],
          [
           35
          ],
          [
           35
          ],
          [
           35
          ],
          [
           35
          ],
          [
           36
          ],
          [
           36
          ],
          [
           36
          ],
          [
           36
          ],
          [
           36
          ],
          [
           36
          ],
          [
           37
          ],
          [
           37
          ],
          [
           37
          ],
          [
           37
          ],
          [
           37
          ],
          [
           37
          ],
          [
           38
          ],
          [
           39
          ],
          [
           39
          ],
          [
           39
          ],
          [
           39
          ],
          [
           39
          ],
          [
           39
          ],
          [
           40
          ],
          [
           40
          ],
          [
           40
          ],
          [
           40
          ],
          [
           40
          ],
          [
           40
          ],
          [
           41
          ],
          [
           41
          ],
          [
           41
          ],
          [
           41
          ],
          [
           41
          ],
          [
           41
          ],
          [
           42
          ],
          [
           42
          ],
          [
           42
          ],
          [
           42
          ],
          [
           42
          ],
          [
           42
          ],
          [
           43
          ],
          [
           43
          ],
          [
           43
          ],
          [
           43
          ],
          [
           43
          ],
          [
           43
          ],
          [
           44
          ],
          [
           44
          ],
          [
           44
          ],
          [
           44
          ],
          [
           45
          ],
          [
           45
          ],
          [
           45
          ],
          [
           45
          ],
          [
           45
          ],
          [
           45
          ],
          [
           46
          ],
          [
           46
          ],
          [
           46
          ],
          [
           46
          ],
          [
           46
          ],
          [
           46
          ],
          [
           47
          ],
          [
           47
          ],
          [
           47
          ],
          [
           47
          ],
          [
           47
          ],
          [
           47
          ],
          [
           48
          ],
          [
           48
          ],
          [
           48
          ],
          [
           48
          ],
          [
           48
          ],
          [
           48
          ],
          [
           49
          ],
          [
           49
          ],
          [
           49
          ],
          [
           49
          ],
          [
           49
          ],
          [
           49
          ],
          [
           50
          ],
          [
           50
          ],
          [
           50
          ],
          [
           50
          ],
          [
           50
          ],
          [
           50
          ],
          [
           51
          ],
          [
           51
          ],
          [
           51
          ],
          [
           51
          ],
          [
           51
          ],
          [
           51
          ],
          [
           52
          ],
          [
           52
          ],
          [
           52
          ],
          [
           52
          ],
          [
           52
          ],
          [
           52
          ],
          [
           53
          ],
          [
           53
          ],
          [
           53
          ],
          [
           53
          ],
          [
           53
          ],
          [
           53
          ],
          [
           54
          ],
          [
           54
          ],
          [
           54
          ],
          [
           54
          ],
          [
           54
          ],
          [
           54
          ],
          [
           55
          ],
          [
           55
          ],
          [
           55
          ],
          [
           55
          ],
          [
           55
          ],
          [
           55
          ],
          [
           56
          ],
          [
           56
          ],
          [
           56
          ],
          [
           56
          ],
          [
           56
          ],
          [
           56
          ],
          [
           57
          ],
          [
           57
          ],
          [
           57
          ],
          [
           57
          ],
          [
           57
          ],
          [
           57
          ],
          [
           58
          ],
          [
           58
          ],
          [
           58
          ],
          [
           58
          ],
          [
           58
          ],
          [
           58
          ],
          [
           59
          ],
          [
           59
          ],
          [
           59
          ],
          [
           59
          ],
          [
           59
          ],
          [
           59
          ]
         ],
         "hovertemplate": "tissue_location=%{x}<br>avg_dna_damage_foci/glia_+=%{y}<br>staining_id=%{customdata[0]}<extra></extra>",
         "legendgroup": "",
         "marker": {
          "color": "#636efa",
          "symbol": "circle"
         },
         "mode": "markers",
         "name": "",
         "orientation": "v",
         "showlegend": false,
         "type": "scatter",
         "x": [
          "CA1",
          "CA3",
          "CTX1",
          "CTX2",
          "CTX3",
          "DG",
          "CA1",
          "CA3",
          "CTX1",
          "CTX2",
          "CTX3",
          "DG",
          "CA1",
          "CA3",
          "CTX1",
          "CTX2",
          "CTX3",
          "DG",
          "CA1",
          "CA3",
          "CTX1",
          "CTX2",
          "CTX3",
          "DG",
          "CA1",
          "CA3",
          "CTX1",
          "CTX2",
          "CTX3",
          "DG",
          "CA1",
          "CA3",
          "CTX1",
          "CTX2",
          "CTX3",
          "DG",
          "CA1",
          "CA3",
          "CTX1",
          "CTX2",
          "CTX3",
          "DG",
          "CA1",
          "CA3",
          "CTX1",
          "CTX2",
          "CTX3",
          "DG",
          "CA1",
          "CA3",
          "CTX1",
          "CTX2",
          "CTX3",
          "DG",
          "CA1",
          "CA3",
          "CTX1",
          "CTX2",
          "CTX3",
          "DG",
          "CA1",
          "CA3",
          "CTX1",
          "CTX2",
          "CTX3",
          "DG",
          "DG",
          "CA1",
          "CA3",
          "CTX1",
          "CTX2",
          "CTX3",
          "DG",
          "CA1",
          "CA3",
          "CTX1",
          "CTX2",
          "CTX3",
          "DG",
          "CA1",
          "CA3",
          "CTX1",
          "CTX2",
          "CTX3",
          "DG",
          "CA1",
          "CA3",
          "CTX1",
          "CTX2",
          "CTX3",
          "DG",
          "CA1",
          "CA3",
          "CTX1",
          "CTX2",
          "CTX3",
          "DG",
          "CA1",
          "CA3",
          "CTX1",
          "CTX2",
          "CTX3",
          "DG",
          "CA1",
          "CA3",
          "CTX1",
          "CTX2",
          "CTX3",
          "DG",
          "CA1",
          "CA3",
          "CTX1",
          "CTX2",
          "CTX3",
          "DG",
          "CA1",
          "CA3",
          "CTX1",
          "CTX2",
          "CTX3",
          "DG",
          "CA1",
          "CA3",
          "CTX1",
          "CTX2",
          "CTX3",
          "DG",
          "DG",
          "CA1",
          "CA3",
          "CTX1",
          "CTX2",
          "CTX3",
          "DG",
          "CA1",
          "CA3",
          "CTX1",
          "CTX2",
          "CTX3",
          "DG",
          "CA1",
          "CA3",
          "CTX1",
          "CTX2",
          "CTX3",
          "DG",
          "CA1",
          "CA3",
          "CTX1",
          "CTX2",
          "CTX3",
          "DG",
          "CA1",
          "CA3",
          "CTX1",
          "CTX2",
          "CTX3",
          "DG",
          "CA1",
          "CA3",
          "CTX1",
          "DG",
          "CA1",
          "CA3",
          "CTX1",
          "CTX2",
          "CTX3",
          "DG",
          "CA1",
          "CA3",
          "CTX1",
          "CTX2",
          "CTX3",
          "DG",
          "CA1",
          "CA3",
          "CTX1",
          "CTX2",
          "CTX3",
          "DG",
          "CA1",
          "CA3",
          "CTX1",
          "CTX2",
          "CTX3",
          "DG",
          "CA1",
          "CA3",
          "CTX1",
          "CTX2",
          "CTX3",
          "DG",
          "CA1",
          "CA3",
          "CTX1",
          "CTX2",
          "CTX3",
          "DG",
          "CA1",
          "CA3",
          "CTX1",
          "CTX2",
          "CTX3",
          "DG",
          "CA1",
          "CA3",
          "CTX1",
          "CTX2",
          "CTX3",
          "DG",
          "CA1",
          "CA3",
          "CTX1",
          "CTX2",
          "CTX3",
          "DG",
          "CA1",
          "CA3",
          "CTX1",
          "CTX2",
          "CTX3",
          "DG",
          "CA1",
          "CA3",
          "CTX1",
          "CTX2",
          "CTX3",
          "DG",
          "CA1",
          "CA3",
          "CTX1",
          "CTX2",
          "CTX3",
          "DG",
          "CA1",
          "CA3",
          "CTX1",
          "CTX2",
          "CTX3",
          "DG",
          "CA1",
          "CA3",
          "CTX1",
          "CTX2",
          "CTX3",
          "DG",
          "CA1",
          "CA3",
          "CTX1",
          "CTX2",
          "CTX3",
          "DG"
         ],
         "xaxis": "x",
         "y": [
          0.2916666666666667,
          0.6836158192090396,
          0.0816326530612244,
          0.4291666666666666,
          0.5434782608695652,
          0.2608695652173913,
          0.0909090909090909,
          0.2083333333333333,
          0.4285714285714285,
          0.5517241379310345,
          0.9,
          0.4222222222222222,
          0.75,
          1.0526315789473684,
          0.125,
          0.3043478260869565,
          0.4117647058823529,
          1.4634146341463414,
          1.4893617021276595,
          1.568181818181818,
          0.6846153846153846,
          0.4782608695652174,
          0.273972602739726,
          2.4603174603174605,
          0.75,
          0.9,
          0.875,
          1.1764705882352942,
          0.3333333333333333,
          1.1666666666666667,
          1.0909090909090908,
          0.6,
          1.2272727272727273,
          1,
          1.2142857142857142,
          0.9444444444444444,
          0.7222222222222222,
          1,
          1,
          0.5263157894736842,
          0.7272727272727273,
          0.9444444444444444,
          0.2857142857142857,
          0.7142857142857143,
          0.3214285714285714,
          0,
          0.6875,
          0.6153846153846154,
          0,
          0,
          0,
          0.2068965517241379,
          0.05,
          0.1428571428571428,
          0.6363636363636364,
          0.8,
          0.4090909090909091,
          0.8571428571428571,
          0.8461538461538461,
          1.2,
          0.5714285714285714,
          1,
          0.6111111111111112,
          0.2631578947368421,
          0.6829268292682927,
          0.6,
          0.5555555555555556,
          0.3333333333333333,
          0,
          0.1428571428571428,
          0.4705882352941176,
          0.5833333333333334,
          2.0416666666666665,
          1,
          0.6666666666666666,
          0.7391304347826086,
          1.0740740740740742,
          0.7857142857142857,
          0.875,
          0,
          0.3333333333333333,
          0.7142857142857143,
          0.3809523809523809,
          0.7142857142857143,
          0.1428571428571428,
          0.7142857142857143,
          0.3333333333333333,
          0.2631578947368421,
          0.2777777777777778,
          0.5294117647058824,
          1.1538461538461535,
          0.2692307692307692,
          0.696969696969697,
          0.4745762711864407,
          0.7105263157894737,
          0.62,
          0.7183098591549296,
          0.8333333333333334,
          0.6363636363636364,
          0.4,
          1.0714285714285714,
          0.5555555555555556,
          1,
          1.4210526315789471,
          1,
          0.75,
          0.8333333333333334,
          1.181818181818182,
          1,
          0.5833333333333334,
          0.8444444444444444,
          0.3214285714285714,
          0.6291390728476821,
          0.6767676767676768,
          0.8632478632478633,
          0.7777777777777778,
          0.625,
          1,
          1.3870967741935485,
          1.2857142857142858,
          1.2222222222222223,
          0.25,
          0.0714285714285714,
          0.7368421052631579,
          0.6333333333333333,
          0.7631578947368421,
          0.2,
          0.375,
          0.6666666666666666,
          0.4285714285714285,
          0.2857142857142857,
          0.125,
          0.6,
          1.1,
          0.4,
          0.625,
          0.9090909090909092,
          0.5294117647058824,
          1.1304347826086956,
          1.8,
          0.5,
          0,
          null,
          0,
          0.2857142857142857,
          0.8333333333333334,
          1.5,
          0.7,
          0.0909090909090909,
          0.4210526315789473,
          0.7,
          0.6,
          0.2352941176470588,
          0.4444444444444444,
          0.7352941176470589,
          0.3448275862068966,
          0.6842105263157895,
          1.6388888888888888,
          1.162790697674419,
          1.6285714285714286,
          1.7481481481481482,
          1.120481927710843,
          1.1875,
          0.7272727272727273,
          0.3,
          0.5925925925925926,
          0.3076923076923077,
          1.5217391304347827,
          1.0422535211267605,
          0.7777777777777778,
          0.672566371681416,
          0.3618421052631579,
          0.6198347107438017,
          0.5543478260869565,
          0.5,
          0.5555555555555556,
          0.1470588235294117,
          0.4757281553398058,
          0.5,
          0.8888888888888888,
          1.1428571428571428,
          1,
          0.7142857142857143,
          0.7272727272727273,
          0.7619047619047619,
          1.0769230769230769,
          0.6666666666666666,
          0.1052631578947368,
          0.4666666666666667,
          0.28,
          0.4,
          0.3103448275862069,
          0.0476190476190476,
          0,
          0,
          0.0952380952380952,
          0.28125,
          0.3333333333333333,
          0.2857142857142857,
          0.5,
          0.2777777777777778,
          0.25,
          0.3157894736842105,
          0.5789473684210527,
          0.2222222222222222,
          0.4285714285714285,
          0,
          0.3902439024390244,
          0.303030303030303,
          0.391304347826087,
          0.7,
          1,
          0.6511627906976745,
          0.8055555555555556,
          0.6818181818181818,
          1,
          0.8571428571428571,
          1.3333333333333333,
          0.3478260869565217,
          0.625,
          0.8260869565217391,
          0.6842105263157895,
          0.3333333333333333,
          0.5,
          0.1111111111111111,
          0.2142857142857142,
          0,
          0.6666666666666666,
          0.625,
          0.35,
          0.5909090909090909,
          0.4782608695652174,
          0.1176470588235294,
          0.7222222222222222,
          0.3571428571428571,
          0.375,
          0.5263157894736842,
          0.4705882352941176,
          0.2222222222222222,
          0.5,
          0.8571428571428571,
          0.5,
          0.8421052631578947,
          0.9,
          0.4444444444444444,
          0.5,
          0.4,
          0.375,
          0.4615384615384615,
          0.4782608695652174,
          0.4814814814814814,
          1.1111111111111112
         ],
         "yaxis": "y"
        }
       ],
       "layout": {
        "legend": {
         "tracegroupgap": 0
        },
        "template": {
         "data": {
          "bar": [
           {
            "error_x": {
             "color": "#2a3f5f"
            },
            "error_y": {
             "color": "#2a3f5f"
            },
            "marker": {
             "line": {
              "color": "#E5ECF6",
              "width": 0.5
             },
             "pattern": {
              "fillmode": "overlay",
              "size": 10,
              "solidity": 0.2
             }
            },
            "type": "bar"
           }
          ],
          "barpolar": [
           {
            "marker": {
             "line": {
              "color": "#E5ECF6",
              "width": 0.5
             },
             "pattern": {
              "fillmode": "overlay",
              "size": 10,
              "solidity": 0.2
             }
            },
            "type": "barpolar"
           }
          ],
          "carpet": [
           {
            "aaxis": {
             "endlinecolor": "#2a3f5f",
             "gridcolor": "white",
             "linecolor": "white",
             "minorgridcolor": "white",
             "startlinecolor": "#2a3f5f"
            },
            "baxis": {
             "endlinecolor": "#2a3f5f",
             "gridcolor": "white",
             "linecolor": "white",
             "minorgridcolor": "white",
             "startlinecolor": "#2a3f5f"
            },
            "type": "carpet"
           }
          ],
          "choropleth": [
           {
            "colorbar": {
             "outlinewidth": 0,
             "ticks": ""
            },
            "type": "choropleth"
           }
          ],
          "contour": [
           {
            "colorbar": {
             "outlinewidth": 0,
             "ticks": ""
            },
            "colorscale": [
             [
              0,
              "#0d0887"
             ],
             [
              0.1111111111111111,
              "#46039f"
             ],
             [
              0.2222222222222222,
              "#7201a8"
             ],
             [
              0.3333333333333333,
              "#9c179e"
             ],
             [
              0.4444444444444444,
              "#bd3786"
             ],
             [
              0.5555555555555556,
              "#d8576b"
             ],
             [
              0.6666666666666666,
              "#ed7953"
             ],
             [
              0.7777777777777778,
              "#fb9f3a"
             ],
             [
              0.8888888888888888,
              "#fdca26"
             ],
             [
              1,
              "#f0f921"
             ]
            ],
            "type": "contour"
           }
          ],
          "contourcarpet": [
           {
            "colorbar": {
             "outlinewidth": 0,
             "ticks": ""
            },
            "type": "contourcarpet"
           }
          ],
          "heatmap": [
           {
            "colorbar": {
             "outlinewidth": 0,
             "ticks": ""
            },
            "colorscale": [
             [
              0,
              "#0d0887"
             ],
             [
              0.1111111111111111,
              "#46039f"
             ],
             [
              0.2222222222222222,
              "#7201a8"
             ],
             [
              0.3333333333333333,
              "#9c179e"
             ],
             [
              0.4444444444444444,
              "#bd3786"
             ],
             [
              0.5555555555555556,
              "#d8576b"
             ],
             [
              0.6666666666666666,
              "#ed7953"
             ],
             [
              0.7777777777777778,
              "#fb9f3a"
             ],
             [
              0.8888888888888888,
              "#fdca26"
             ],
             [
              1,
              "#f0f921"
             ]
            ],
            "type": "heatmap"
           }
          ],
          "heatmapgl": [
           {
            "colorbar": {
             "outlinewidth": 0,
             "ticks": ""
            },
            "colorscale": [
             [
              0,
              "#0d0887"
             ],
             [
              0.1111111111111111,
              "#46039f"
             ],
             [
              0.2222222222222222,
              "#7201a8"
             ],
             [
              0.3333333333333333,
              "#9c179e"
             ],
             [
              0.4444444444444444,
              "#bd3786"
             ],
             [
              0.5555555555555556,
              "#d8576b"
             ],
             [
              0.6666666666666666,
              "#ed7953"
             ],
             [
              0.7777777777777778,
              "#fb9f3a"
             ],
             [
              0.8888888888888888,
              "#fdca26"
             ],
             [
              1,
              "#f0f921"
             ]
            ],
            "type": "heatmapgl"
           }
          ],
          "histogram": [
           {
            "marker": {
             "pattern": {
              "fillmode": "overlay",
              "size": 10,
              "solidity": 0.2
             }
            },
            "type": "histogram"
           }
          ],
          "histogram2d": [
           {
            "colorbar": {
             "outlinewidth": 0,
             "ticks": ""
            },
            "colorscale": [
             [
              0,
              "#0d0887"
             ],
             [
              0.1111111111111111,
              "#46039f"
             ],
             [
              0.2222222222222222,
              "#7201a8"
             ],
             [
              0.3333333333333333,
              "#9c179e"
             ],
             [
              0.4444444444444444,
              "#bd3786"
             ],
             [
              0.5555555555555556,
              "#d8576b"
             ],
             [
              0.6666666666666666,
              "#ed7953"
             ],
             [
              0.7777777777777778,
              "#fb9f3a"
             ],
             [
              0.8888888888888888,
              "#fdca26"
             ],
             [
              1,
              "#f0f921"
             ]
            ],
            "type": "histogram2d"
           }
          ],
          "histogram2dcontour": [
           {
            "colorbar": {
             "outlinewidth": 0,
             "ticks": ""
            },
            "colorscale": [
             [
              0,
              "#0d0887"
             ],
             [
              0.1111111111111111,
              "#46039f"
             ],
             [
              0.2222222222222222,
              "#7201a8"
             ],
             [
              0.3333333333333333,
              "#9c179e"
             ],
             [
              0.4444444444444444,
              "#bd3786"
             ],
             [
              0.5555555555555556,
              "#d8576b"
             ],
             [
              0.6666666666666666,
              "#ed7953"
             ],
             [
              0.7777777777777778,
              "#fb9f3a"
             ],
             [
              0.8888888888888888,
              "#fdca26"
             ],
             [
              1,
              "#f0f921"
             ]
            ],
            "type": "histogram2dcontour"
           }
          ],
          "mesh3d": [
           {
            "colorbar": {
             "outlinewidth": 0,
             "ticks": ""
            },
            "type": "mesh3d"
           }
          ],
          "parcoords": [
           {
            "line": {
             "colorbar": {
              "outlinewidth": 0,
              "ticks": ""
             }
            },
            "type": "parcoords"
           }
          ],
          "pie": [
           {
            "automargin": true,
            "type": "pie"
           }
          ],
          "scatter": [
           {
            "fillpattern": {
             "fillmode": "overlay",
             "size": 10,
             "solidity": 0.2
            },
            "type": "scatter"
           }
          ],
          "scatter3d": [
           {
            "line": {
             "colorbar": {
              "outlinewidth": 0,
              "ticks": ""
             }
            },
            "marker": {
             "colorbar": {
              "outlinewidth": 0,
              "ticks": ""
             }
            },
            "type": "scatter3d"
           }
          ],
          "scattercarpet": [
           {
            "marker": {
             "colorbar": {
              "outlinewidth": 0,
              "ticks": ""
             }
            },
            "type": "scattercarpet"
           }
          ],
          "scattergeo": [
           {
            "marker": {
             "colorbar": {
              "outlinewidth": 0,
              "ticks": ""
             }
            },
            "type": "scattergeo"
           }
          ],
          "scattergl": [
           {
            "marker": {
             "colorbar": {
              "outlinewidth": 0,
              "ticks": ""
             }
            },
            "type": "scattergl"
           }
          ],
          "scattermapbox": [
           {
            "marker": {
             "colorbar": {
              "outlinewidth": 0,
              "ticks": ""
             }
            },
            "type": "scattermapbox"
           }
          ],
          "scatterpolar": [
           {
            "marker": {
             "colorbar": {
              "outlinewidth": 0,
              "ticks": ""
             }
            },
            "type": "scatterpolar"
           }
          ],
          "scatterpolargl": [
           {
            "marker": {
             "colorbar": {
              "outlinewidth": 0,
              "ticks": ""
             }
            },
            "type": "scatterpolargl"
           }
          ],
          "scatterternary": [
           {
            "marker": {
             "colorbar": {
              "outlinewidth": 0,
              "ticks": ""
             }
            },
            "type": "scatterternary"
           }
          ],
          "surface": [
           {
            "colorbar": {
             "outlinewidth": 0,
             "ticks": ""
            },
            "colorscale": [
             [
              0,
              "#0d0887"
             ],
             [
              0.1111111111111111,
              "#46039f"
             ],
             [
              0.2222222222222222,
              "#7201a8"
             ],
             [
              0.3333333333333333,
              "#9c179e"
             ],
             [
              0.4444444444444444,
              "#bd3786"
             ],
             [
              0.5555555555555556,
              "#d8576b"
             ],
             [
              0.6666666666666666,
              "#ed7953"
             ],
             [
              0.7777777777777778,
              "#fb9f3a"
             ],
             [
              0.8888888888888888,
              "#fdca26"
             ],
             [
              1,
              "#f0f921"
             ]
            ],
            "type": "surface"
           }
          ],
          "table": [
           {
            "cells": {
             "fill": {
              "color": "#EBF0F8"
             },
             "line": {
              "color": "white"
             }
            },
            "header": {
             "fill": {
              "color": "#C8D4E3"
             },
             "line": {
              "color": "white"
             }
            },
            "type": "table"
           }
          ]
         },
         "layout": {
          "annotationdefaults": {
           "arrowcolor": "#2a3f5f",
           "arrowhead": 0,
           "arrowwidth": 1
          },
          "autotypenumbers": "strict",
          "coloraxis": {
           "colorbar": {
            "outlinewidth": 0,
            "ticks": ""
           }
          },
          "colorscale": {
           "diverging": [
            [
             0,
             "#8e0152"
            ],
            [
             0.1,
             "#c51b7d"
            ],
            [
             0.2,
             "#de77ae"
            ],
            [
             0.3,
             "#f1b6da"
            ],
            [
             0.4,
             "#fde0ef"
            ],
            [
             0.5,
             "#f7f7f7"
            ],
            [
             0.6,
             "#e6f5d0"
            ],
            [
             0.7,
             "#b8e186"
            ],
            [
             0.8,
             "#7fbc41"
            ],
            [
             0.9,
             "#4d9221"
            ],
            [
             1,
             "#276419"
            ]
           ],
           "sequential": [
            [
             0,
             "#0d0887"
            ],
            [
             0.1111111111111111,
             "#46039f"
            ],
            [
             0.2222222222222222,
             "#7201a8"
            ],
            [
             0.3333333333333333,
             "#9c179e"
            ],
            [
             0.4444444444444444,
             "#bd3786"
            ],
            [
             0.5555555555555556,
             "#d8576b"
            ],
            [
             0.6666666666666666,
             "#ed7953"
            ],
            [
             0.7777777777777778,
             "#fb9f3a"
            ],
            [
             0.8888888888888888,
             "#fdca26"
            ],
            [
             1,
             "#f0f921"
            ]
           ],
           "sequentialminus": [
            [
             0,
             "#0d0887"
            ],
            [
             0.1111111111111111,
             "#46039f"
            ],
            [
             0.2222222222222222,
             "#7201a8"
            ],
            [
             0.3333333333333333,
             "#9c179e"
            ],
            [
             0.4444444444444444,
             "#bd3786"
            ],
            [
             0.5555555555555556,
             "#d8576b"
            ],
            [
             0.6666666666666666,
             "#ed7953"
            ],
            [
             0.7777777777777778,
             "#fb9f3a"
            ],
            [
             0.8888888888888888,
             "#fdca26"
            ],
            [
             1,
             "#f0f921"
            ]
           ]
          },
          "colorway": [
           "#636efa",
           "#EF553B",
           "#00cc96",
           "#ab63fa",
           "#FFA15A",
           "#19d3f3",
           "#FF6692",
           "#B6E880",
           "#FF97FF",
           "#FECB52"
          ],
          "font": {
           "color": "#2a3f5f"
          },
          "geo": {
           "bgcolor": "white",
           "lakecolor": "white",
           "landcolor": "#E5ECF6",
           "showlakes": true,
           "showland": true,
           "subunitcolor": "white"
          },
          "hoverlabel": {
           "align": "left"
          },
          "hovermode": "closest",
          "mapbox": {
           "style": "light"
          },
          "paper_bgcolor": "white",
          "plot_bgcolor": "#E5ECF6",
          "polar": {
           "angularaxis": {
            "gridcolor": "white",
            "linecolor": "white",
            "ticks": ""
           },
           "bgcolor": "#E5ECF6",
           "radialaxis": {
            "gridcolor": "white",
            "linecolor": "white",
            "ticks": ""
           }
          },
          "scene": {
           "xaxis": {
            "backgroundcolor": "#E5ECF6",
            "gridcolor": "white",
            "gridwidth": 2,
            "linecolor": "white",
            "showbackground": true,
            "ticks": "",
            "zerolinecolor": "white"
           },
           "yaxis": {
            "backgroundcolor": "#E5ECF6",
            "gridcolor": "white",
            "gridwidth": 2,
            "linecolor": "white",
            "showbackground": true,
            "ticks": "",
            "zerolinecolor": "white"
           },
           "zaxis": {
            "backgroundcolor": "#E5ECF6",
            "gridcolor": "white",
            "gridwidth": 2,
            "linecolor": "white",
            "showbackground": true,
            "ticks": "",
            "zerolinecolor": "white"
           }
          },
          "shapedefaults": {
           "line": {
            "color": "#2a3f5f"
           }
          },
          "ternary": {
           "aaxis": {
            "gridcolor": "white",
            "linecolor": "white",
            "ticks": ""
           },
           "baxis": {
            "gridcolor": "white",
            "linecolor": "white",
            "ticks": ""
           },
           "bgcolor": "#E5ECF6",
           "caxis": {
            "gridcolor": "white",
            "linecolor": "white",
            "ticks": ""
           }
          },
          "title": {
           "x": 0.05
          },
          "xaxis": {
           "automargin": true,
           "gridcolor": "white",
           "linecolor": "white",
           "ticks": "",
           "title": {
            "standoff": 15
           },
           "zerolinecolor": "white",
           "zerolinewidth": 2
          },
          "yaxis": {
           "automargin": true,
           "gridcolor": "white",
           "linecolor": "white",
           "ticks": "",
           "title": {
            "standoff": 15
           },
           "zerolinecolor": "white",
           "zerolinewidth": 2
          }
         }
        },
        "title": {
         "text": "DNA Damage in Glia Nuclei by Tissue Location"
        },
        "xaxis": {
         "anchor": "y",
         "domain": [
          0,
          1
         ],
         "title": {
          "text": "tissue_location"
         }
        },
        "yaxis": {
         "anchor": "x",
         "domain": [
          0,
          1
         ],
         "title": {
          "text": "avg_dna_damage_foci/glia_+"
         }
        }
       }
      }
     },
     "metadata": {},
     "output_type": "display_data"
    }
   ],
   "source": [
    "# Create the plot\n",
    "fig = px.scatter(df, x='tissue_location', y='avg_dna_damage_foci/glia_+',\n",
    "                 hover_data=['staining_id'], title='DNA Damage in Glia Nuclei by Tissue Location')\n",
    "\n",
    "# Show the plot\n",
    "fig.show()"
   ]
  },
  {
   "cell_type": "code",
   "execution_count": 78,
   "metadata": {},
   "outputs": [
    {
     "data": {
      "application/vnd.plotly.v1+json": {
       "config": {
        "plotlyServerURL": "https://plot.ly"
       },
       "data": [
        {
         "customdata": [
          [
           16
          ],
          [
           16
          ],
          [
           16
          ],
          [
           16
          ],
          [
           16
          ],
          [
           16
          ],
          [
           17
          ],
          [
           17
          ],
          [
           17
          ],
          [
           17
          ],
          [
           17
          ],
          [
           17
          ],
          [
           18
          ],
          [
           18
          ],
          [
           18
          ],
          [
           18
          ],
          [
           18
          ],
          [
           18
          ],
          [
           19
          ],
          [
           19
          ],
          [
           19
          ],
          [
           19
          ],
          [
           19
          ],
          [
           19
          ],
          [
           20
          ],
          [
           20
          ],
          [
           20
          ],
          [
           20
          ],
          [
           20
          ],
          [
           20
          ],
          [
           21
          ],
          [
           21
          ],
          [
           21
          ],
          [
           21
          ],
          [
           21
          ],
          [
           21
          ],
          [
           22
          ],
          [
           22
          ],
          [
           22
          ],
          [
           22
          ],
          [
           22
          ],
          [
           22
          ],
          [
           23
          ],
          [
           23
          ],
          [
           23
          ],
          [
           23
          ],
          [
           23
          ],
          [
           23
          ],
          [
           24
          ],
          [
           24
          ],
          [
           24
          ],
          [
           24
          ],
          [
           24
          ],
          [
           24
          ],
          [
           25
          ],
          [
           25
          ],
          [
           25
          ],
          [
           25
          ],
          [
           25
          ],
          [
           25
          ],
          [
           26
          ],
          [
           26
          ],
          [
           26
          ],
          [
           26
          ],
          [
           26
          ],
          [
           26
          ],
          [
           27
          ],
          [
           28
          ],
          [
           28
          ],
          [
           28
          ],
          [
           28
          ],
          [
           28
          ],
          [
           28
          ],
          [
           29
          ],
          [
           29
          ],
          [
           29
          ],
          [
           29
          ],
          [
           29
          ],
          [
           29
          ],
          [
           30
          ],
          [
           30
          ],
          [
           30
          ],
          [
           30
          ],
          [
           30
          ],
          [
           30
          ],
          [
           31
          ],
          [
           31
          ],
          [
           31
          ],
          [
           31
          ],
          [
           31
          ],
          [
           31
          ],
          [
           32
          ],
          [
           32
          ],
          [
           32
          ],
          [
           32
          ],
          [
           32
          ],
          [
           32
          ],
          [
           33
          ],
          [
           33
          ],
          [
           33
          ],
          [
           33
          ],
          [
           33
          ],
          [
           33
          ],
          [
           34
          ],
          [
           34
          ],
          [
           34
          ],
          [
           34
          ],
          [
           34
          ],
          [
           34
          ],
          [
           35
          ],
          [
           35
          ],
          [
           35
          ],
          [
           35
          ],
          [
           35
          ],
          [
           35
          ],
          [
           36
          ],
          [
           36
          ],
          [
           36
          ],
          [
           36
          ],
          [
           36
          ],
          [
           36
          ],
          [
           37
          ],
          [
           37
          ],
          [
           37
          ],
          [
           37
          ],
          [
           37
          ],
          [
           37
          ],
          [
           38
          ],
          [
           39
          ],
          [
           39
          ],
          [
           39
          ],
          [
           39
          ],
          [
           39
          ],
          [
           39
          ],
          [
           40
          ],
          [
           40
          ],
          [
           40
          ],
          [
           40
          ],
          [
           40
          ],
          [
           40
          ],
          [
           41
          ],
          [
           41
          ],
          [
           41
          ],
          [
           41
          ],
          [
           41
          ],
          [
           41
          ],
          [
           42
          ],
          [
           42
          ],
          [
           42
          ],
          [
           42
          ],
          [
           42
          ],
          [
           42
          ],
          [
           43
          ],
          [
           43
          ],
          [
           43
          ],
          [
           43
          ],
          [
           43
          ],
          [
           43
          ],
          [
           44
          ],
          [
           44
          ],
          [
           44
          ],
          [
           44
          ],
          [
           45
          ],
          [
           45
          ],
          [
           45
          ],
          [
           45
          ],
          [
           45
          ],
          [
           45
          ],
          [
           46
          ],
          [
           46
          ],
          [
           46
          ],
          [
           46
          ],
          [
           46
          ],
          [
           46
          ],
          [
           47
          ],
          [
           47
          ],
          [
           47
          ],
          [
           47
          ],
          [
           47
          ],
          [
           47
          ],
          [
           48
          ],
          [
           48
          ],
          [
           48
          ],
          [
           48
          ],
          [
           48
          ],
          [
           48
          ],
          [
           49
          ],
          [
           49
          ],
          [
           49
          ],
          [
           49
          ],
          [
           49
          ],
          [
           49
          ],
          [
           50
          ],
          [
           50
          ],
          [
           50
          ],
          [
           50
          ],
          [
           50
          ],
          [
           50
          ],
          [
           51
          ],
          [
           51
          ],
          [
           51
          ],
          [
           51
          ],
          [
           51
          ],
          [
           51
          ],
          [
           52
          ],
          [
           52
          ],
          [
           52
          ],
          [
           52
          ],
          [
           52
          ],
          [
           52
          ],
          [
           53
          ],
          [
           53
          ],
          [
           53
          ],
          [
           53
          ],
          [
           53
          ],
          [
           53
          ],
          [
           54
          ],
          [
           54
          ],
          [
           54
          ],
          [
           54
          ],
          [
           54
          ],
          [
           54
          ],
          [
           55
          ],
          [
           55
          ],
          [
           55
          ],
          [
           55
          ],
          [
           55
          ],
          [
           55
          ],
          [
           56
          ],
          [
           56
          ],
          [
           56
          ],
          [
           56
          ],
          [
           56
          ],
          [
           56
          ],
          [
           57
          ],
          [
           57
          ],
          [
           57
          ],
          [
           57
          ],
          [
           57
          ],
          [
           57
          ],
          [
           58
          ],
          [
           58
          ],
          [
           58
          ],
          [
           58
          ],
          [
           58
          ],
          [
           58
          ],
          [
           59
          ],
          [
           59
          ],
          [
           59
          ],
          [
           59
          ],
          [
           59
          ],
          [
           59
          ]
         ],
         "hovertemplate": "tissue_location=%{x}<br>avg_dna_damage_foci/all_nuclei=%{y}<br>staining_id=%{customdata[0]}<extra></extra>",
         "legendgroup": "",
         "marker": {
          "color": "#636efa",
          "symbol": "circle"
         },
         "mode": "markers",
         "name": "",
         "orientation": "v",
         "showlegend": false,
         "type": "scatter",
         "x": [
          "CA1",
          "CA3",
          "CTX1",
          "CTX2",
          "CTX3",
          "DG",
          "CA1",
          "CA3",
          "CTX1",
          "CTX2",
          "CTX3",
          "DG",
          "CA1",
          "CA3",
          "CTX1",
          "CTX2",
          "CTX3",
          "DG",
          "CA1",
          "CA3",
          "CTX1",
          "CTX2",
          "CTX3",
          "DG",
          "CA1",
          "CA3",
          "CTX1",
          "CTX2",
          "CTX3",
          "DG",
          "CA1",
          "CA3",
          "CTX1",
          "CTX2",
          "CTX3",
          "DG",
          "CA1",
          "CA3",
          "CTX1",
          "CTX2",
          "CTX3",
          "DG",
          "CA1",
          "CA3",
          "CTX1",
          "CTX2",
          "CTX3",
          "DG",
          "CA1",
          "CA3",
          "CTX1",
          "CTX2",
          "CTX3",
          "DG",
          "CA1",
          "CA3",
          "CTX1",
          "CTX2",
          "CTX3",
          "DG",
          "CA1",
          "CA3",
          "CTX1",
          "CTX2",
          "CTX3",
          "DG",
          "DG",
          "CA1",
          "CA3",
          "CTX1",
          "CTX2",
          "CTX3",
          "DG",
          "CA1",
          "CA3",
          "CTX1",
          "CTX2",
          "CTX3",
          "DG",
          "CA1",
          "CA3",
          "CTX1",
          "CTX2",
          "CTX3",
          "DG",
          "CA1",
          "CA3",
          "CTX1",
          "CTX2",
          "CTX3",
          "DG",
          "CA1",
          "CA3",
          "CTX1",
          "CTX2",
          "CTX3",
          "DG",
          "CA1",
          "CA3",
          "CTX1",
          "CTX2",
          "CTX3",
          "DG",
          "CA1",
          "CA3",
          "CTX1",
          "CTX2",
          "CTX3",
          "DG",
          "CA1",
          "CA3",
          "CTX1",
          "CTX2",
          "CTX3",
          "DG",
          "CA1",
          "CA3",
          "CTX1",
          "CTX2",
          "CTX3",
          "DG",
          "CA1",
          "CA3",
          "CTX1",
          "CTX2",
          "CTX3",
          "DG",
          "DG",
          "CA1",
          "CA3",
          "CTX1",
          "CTX2",
          "CTX3",
          "DG",
          "CA1",
          "CA3",
          "CTX1",
          "CTX2",
          "CTX3",
          "DG",
          "CA1",
          "CA3",
          "CTX1",
          "CTX2",
          "CTX3",
          "DG",
          "CA1",
          "CA3",
          "CTX1",
          "CTX2",
          "CTX3",
          "DG",
          "CA1",
          "CA3",
          "CTX1",
          "CTX2",
          "CTX3",
          "DG",
          "CA1",
          "CA3",
          "CTX1",
          "DG",
          "CA1",
          "CA3",
          "CTX1",
          "CTX2",
          "CTX3",
          "DG",
          "CA1",
          "CA3",
          "CTX1",
          "CTX2",
          "CTX3",
          "DG",
          "CA1",
          "CA3",
          "CTX1",
          "CTX2",
          "CTX3",
          "DG",
          "CA1",
          "CA3",
          "CTX1",
          "CTX2",
          "CTX3",
          "DG",
          "CA1",
          "CA3",
          "CTX1",
          "CTX2",
          "CTX3",
          "DG",
          "CA1",
          "CA3",
          "CTX1",
          "CTX2",
          "CTX3",
          "DG",
          "CA1",
          "CA3",
          "CTX1",
          "CTX2",
          "CTX3",
          "DG",
          "CA1",
          "CA3",
          "CTX1",
          "CTX2",
          "CTX3",
          "DG",
          "CA1",
          "CA3",
          "CTX1",
          "CTX2",
          "CTX3",
          "DG",
          "CA1",
          "CA3",
          "CTX1",
          "CTX2",
          "CTX3",
          "DG",
          "CA1",
          "CA3",
          "CTX1",
          "CTX2",
          "CTX3",
          "DG",
          "CA1",
          "CA3",
          "CTX1",
          "CTX2",
          "CTX3",
          "DG",
          "CA1",
          "CA3",
          "CTX1",
          "CTX2",
          "CTX3",
          "DG",
          "CA1",
          "CA3",
          "CTX1",
          "CTX2",
          "CTX3",
          "DG",
          "CA1",
          "CA3",
          "CTX1",
          "CTX2",
          "CTX3",
          "DG"
         ],
         "xaxis": "x",
         "y": [
          0.308080808080808,
          0.6994535519125683,
          0.1646090534979424,
          0.4257028112449799,
          0.5246636771300448,
          0.2672811059907834,
          0.3225806451612903,
          0.5056179775280899,
          0.2438016528925619,
          0.3140794223826715,
          0.8595505617977528,
          0.4110169491525424,
          0.5538461538461539,
          0.5684210526315789,
          0.0675675675675675,
          0.1216730038022813,
          0.1733333333333333,
          1.1647727272727273,
          1.680851063829787,
          1.6888888888888889,
          0.7923076923076923,
          0.4716981132075472,
          0.3292682926829268,
          2.6666666666666665,
          0.6433566433566433,
          0.9256198347107438,
          0.412087912087912,
          0.8050314465408805,
          0.4245283018867924,
          1.2618181818181815,
          0.7407407407407407,
          0.7079646017699115,
          0.5959595959595959,
          0.6212765957446809,
          0.6410256410256411,
          1.1058394160583942,
          0.7517241379310344,
          0.8682170542635659,
          0.7355371900826446,
          0.6549019607843137,
          0.2469879518072289,
          1.2990654205607477,
          0.5581395348837209,
          0.5436893203883495,
          0.3043478260869565,
          0.0514285714285714,
          0.5611510791366906,
          0.890728476821192,
          0.345679012345679,
          0.3928571428571428,
          0.1306818181818181,
          0.15234375,
          0.1492537313432835,
          0.0792079207920792,
          0.7516778523489933,
          0.7931034482758621,
          0.4160583941605839,
          0.6994818652849741,
          0.8285714285714286,
          1.5,
          0.3469387755102041,
          0.4423076923076923,
          0.419047619047619,
          0.2244897959183673,
          0.4722222222222222,
          0.348993288590604,
          0.84,
          0.9365079365079364,
          0.4266666666666667,
          0.3853211009174312,
          0.4507042253521127,
          0.7570093457943925,
          1.8146718146718144,
          0.6492537313432836,
          0.5416666666666666,
          0.4848484848484848,
          0.8190954773869347,
          0.4682080924855491,
          0.9214285714285714,
          0.5114503816793893,
          0.7115384615384616,
          0.3457943925233644,
          0.3966244725738396,
          0.2538071065989847,
          0.7464285714285714,
          0.7814569536423841,
          0.8031088082901554,
          0.3316582914572864,
          0.4279835390946502,
          0.6111111111111112,
          1.2811244979919678,
          0.5975609756097561,
          1.0895522388059702,
          0.4607142857142857,
          0.6244725738396625,
          0.7419354838709677,
          0.4341085271317829,
          0.5774647887323944,
          0.8235294117647058,
          0.5650224215246636,
          0.7487684729064039,
          0.5833333333333334,
          1.239344262295082,
          0.979591836734694,
          1.367816091954023,
          0.7416107382550335,
          0.9198473282442748,
          1.1712962962962965,
          1.407035175879397,
          0.2057142857142857,
          0.6395348837209303,
          0.1975308641975308,
          0.5387596899224806,
          0.6230366492146597,
          0.8333333333333334,
          0.656441717791411,
          0.7364341085271318,
          0.8666666666666667,
          0.902542372881356,
          0.904040404040404,
          1.2936802973977697,
          0.4674556213017751,
          0.593103448275862,
          0.4798387096774194,
          0.6581818181818182,
          0.7182320441988951,
          0.9513274336283186,
          0.5423728813559322,
          0.559322033898305,
          0.6972477064220184,
          0.3254437869822485,
          0.2679425837320574,
          0.2105263157894736,
          0.7246963562753036,
          0.3722627737226277,
          0.6091954022988506,
          0.573170731707317,
          0.5031446540880503,
          0.569060773480663,
          1.0588235294117647,
          0.5849056603773585,
          0.4134615384615384,
          0.0833333333333333,
          0.0773195876288659,
          0.0985915492957746,
          0.9737704918032788,
          0.3783783783783784,
          0.6551724137931034,
          0.34,
          0.375,
          0.5527950310559007,
          0.642570281124498,
          0.3006993006993007,
          1.0490196078431373,
          0.6943231441048034,
          0.3350785340314136,
          0.6097560975609756,
          1.6798418972332017,
          0.8807339449541285,
          1.2,
          1.5098039215686274,
          1.0307692307692309,
          1.051094890510949,
          0.7707006369426752,
          0.272300469483568,
          0.3121951219512195,
          0.2901554404145077,
          1.5845070422535212,
          0.8819444444444444,
          0.8235294117647058,
          0.6254980079681275,
          0.3107142857142857,
          0.5488721804511278,
          0.6348314606741573,
          0.5257142857142857,
          1.01840490797546,
          0.1396825396825396,
          0.4124087591240876,
          0.502262443438914,
          0.988950276243094,
          0.8793103448275862,
          0.54,
          0.5277777777777778,
          0.5942622950819673,
          0.5497630331753555,
          1.429054054054054,
          0.2671232876712329,
          0.1418918918918918,
          0.2298850574712643,
          0.1894736842105263,
          0.25,
          0.2485875706214689,
          0.1504424778761062,
          0.453781512605042,
          0.0174672489082969,
          0.1298076923076923,
          0.5595854922279793,
          0.2529644268774703,
          0.3809523809523809,
          0.7043478260869566,
          0.2651515151515151,
          0.2095238095238095,
          0.3588235294117647,
          0.9396551724137931,
          0.3445378151260504,
          0.5544554455445545,
          0.1300813008130081,
          0.3015075376884422,
          0.3830845771144278,
          0.4244897959183673,
          0.7051282051282052,
          1.032258064516129,
          0.65625,
          0.6515837104072398,
          0.6620689655172414,
          1.4903846153846154,
          0.5114503816793893,
          0.9078947368421052,
          0.43,
          0.4922279792746113,
          0.5953757225433526,
          1.028673835125448,
          0.421875,
          0.5531914893617021,
          0.0495867768595041,
          0.6241610738255033,
          0.1428571428571428,
          0.832,
          0.4121621621621621,
          0.5076923076923077,
          0.3806818181818182,
          0.2761506276150627,
          0.2473118279569892,
          0.648,
          0.2619047619047619,
          0.6374269005847953,
          0.1614173228346456,
          0.1686746987951807,
          0.0666666666666666,
          0.4285714285714285,
          0.5378151260504201,
          0.6666666666666666,
          0.4626865671641791,
          0.6130653266331658,
          0.4462365591397849,
          0.6781609195402298,
          0.5590062111801242,
          0.3925233644859813,
          0.4976744186046511,
          0.3265306122448979,
          0.3733333333333333,
          1.058139534883721
         ],
         "yaxis": "y"
        }
       ],
       "layout": {
        "legend": {
         "tracegroupgap": 0
        },
        "template": {
         "data": {
          "bar": [
           {
            "error_x": {
             "color": "#2a3f5f"
            },
            "error_y": {
             "color": "#2a3f5f"
            },
            "marker": {
             "line": {
              "color": "#E5ECF6",
              "width": 0.5
             },
             "pattern": {
              "fillmode": "overlay",
              "size": 10,
              "solidity": 0.2
             }
            },
            "type": "bar"
           }
          ],
          "barpolar": [
           {
            "marker": {
             "line": {
              "color": "#E5ECF6",
              "width": 0.5
             },
             "pattern": {
              "fillmode": "overlay",
              "size": 10,
              "solidity": 0.2
             }
            },
            "type": "barpolar"
           }
          ],
          "carpet": [
           {
            "aaxis": {
             "endlinecolor": "#2a3f5f",
             "gridcolor": "white",
             "linecolor": "white",
             "minorgridcolor": "white",
             "startlinecolor": "#2a3f5f"
            },
            "baxis": {
             "endlinecolor": "#2a3f5f",
             "gridcolor": "white",
             "linecolor": "white",
             "minorgridcolor": "white",
             "startlinecolor": "#2a3f5f"
            },
            "type": "carpet"
           }
          ],
          "choropleth": [
           {
            "colorbar": {
             "outlinewidth": 0,
             "ticks": ""
            },
            "type": "choropleth"
           }
          ],
          "contour": [
           {
            "colorbar": {
             "outlinewidth": 0,
             "ticks": ""
            },
            "colorscale": [
             [
              0,
              "#0d0887"
             ],
             [
              0.1111111111111111,
              "#46039f"
             ],
             [
              0.2222222222222222,
              "#7201a8"
             ],
             [
              0.3333333333333333,
              "#9c179e"
             ],
             [
              0.4444444444444444,
              "#bd3786"
             ],
             [
              0.5555555555555556,
              "#d8576b"
             ],
             [
              0.6666666666666666,
              "#ed7953"
             ],
             [
              0.7777777777777778,
              "#fb9f3a"
             ],
             [
              0.8888888888888888,
              "#fdca26"
             ],
             [
              1,
              "#f0f921"
             ]
            ],
            "type": "contour"
           }
          ],
          "contourcarpet": [
           {
            "colorbar": {
             "outlinewidth": 0,
             "ticks": ""
            },
            "type": "contourcarpet"
           }
          ],
          "heatmap": [
           {
            "colorbar": {
             "outlinewidth": 0,
             "ticks": ""
            },
            "colorscale": [
             [
              0,
              "#0d0887"
             ],
             [
              0.1111111111111111,
              "#46039f"
             ],
             [
              0.2222222222222222,
              "#7201a8"
             ],
             [
              0.3333333333333333,
              "#9c179e"
             ],
             [
              0.4444444444444444,
              "#bd3786"
             ],
             [
              0.5555555555555556,
              "#d8576b"
             ],
             [
              0.6666666666666666,
              "#ed7953"
             ],
             [
              0.7777777777777778,
              "#fb9f3a"
             ],
             [
              0.8888888888888888,
              "#fdca26"
             ],
             [
              1,
              "#f0f921"
             ]
            ],
            "type": "heatmap"
           }
          ],
          "heatmapgl": [
           {
            "colorbar": {
             "outlinewidth": 0,
             "ticks": ""
            },
            "colorscale": [
             [
              0,
              "#0d0887"
             ],
             [
              0.1111111111111111,
              "#46039f"
             ],
             [
              0.2222222222222222,
              "#7201a8"
             ],
             [
              0.3333333333333333,
              "#9c179e"
             ],
             [
              0.4444444444444444,
              "#bd3786"
             ],
             [
              0.5555555555555556,
              "#d8576b"
             ],
             [
              0.6666666666666666,
              "#ed7953"
             ],
             [
              0.7777777777777778,
              "#fb9f3a"
             ],
             [
              0.8888888888888888,
              "#fdca26"
             ],
             [
              1,
              "#f0f921"
             ]
            ],
            "type": "heatmapgl"
           }
          ],
          "histogram": [
           {
            "marker": {
             "pattern": {
              "fillmode": "overlay",
              "size": 10,
              "solidity": 0.2
             }
            },
            "type": "histogram"
           }
          ],
          "histogram2d": [
           {
            "colorbar": {
             "outlinewidth": 0,
             "ticks": ""
            },
            "colorscale": [
             [
              0,
              "#0d0887"
             ],
             [
              0.1111111111111111,
              "#46039f"
             ],
             [
              0.2222222222222222,
              "#7201a8"
             ],
             [
              0.3333333333333333,
              "#9c179e"
             ],
             [
              0.4444444444444444,
              "#bd3786"
             ],
             [
              0.5555555555555556,
              "#d8576b"
             ],
             [
              0.6666666666666666,
              "#ed7953"
             ],
             [
              0.7777777777777778,
              "#fb9f3a"
             ],
             [
              0.8888888888888888,
              "#fdca26"
             ],
             [
              1,
              "#f0f921"
             ]
            ],
            "type": "histogram2d"
           }
          ],
          "histogram2dcontour": [
           {
            "colorbar": {
             "outlinewidth": 0,
             "ticks": ""
            },
            "colorscale": [
             [
              0,
              "#0d0887"
             ],
             [
              0.1111111111111111,
              "#46039f"
             ],
             [
              0.2222222222222222,
              "#7201a8"
             ],
             [
              0.3333333333333333,
              "#9c179e"
             ],
             [
              0.4444444444444444,
              "#bd3786"
             ],
             [
              0.5555555555555556,
              "#d8576b"
             ],
             [
              0.6666666666666666,
              "#ed7953"
             ],
             [
              0.7777777777777778,
              "#fb9f3a"
             ],
             [
              0.8888888888888888,
              "#fdca26"
             ],
             [
              1,
              "#f0f921"
             ]
            ],
            "type": "histogram2dcontour"
           }
          ],
          "mesh3d": [
           {
            "colorbar": {
             "outlinewidth": 0,
             "ticks": ""
            },
            "type": "mesh3d"
           }
          ],
          "parcoords": [
           {
            "line": {
             "colorbar": {
              "outlinewidth": 0,
              "ticks": ""
             }
            },
            "type": "parcoords"
           }
          ],
          "pie": [
           {
            "automargin": true,
            "type": "pie"
           }
          ],
          "scatter": [
           {
            "fillpattern": {
             "fillmode": "overlay",
             "size": 10,
             "solidity": 0.2
            },
            "type": "scatter"
           }
          ],
          "scatter3d": [
           {
            "line": {
             "colorbar": {
              "outlinewidth": 0,
              "ticks": ""
             }
            },
            "marker": {
             "colorbar": {
              "outlinewidth": 0,
              "ticks": ""
             }
            },
            "type": "scatter3d"
           }
          ],
          "scattercarpet": [
           {
            "marker": {
             "colorbar": {
              "outlinewidth": 0,
              "ticks": ""
             }
            },
            "type": "scattercarpet"
           }
          ],
          "scattergeo": [
           {
            "marker": {
             "colorbar": {
              "outlinewidth": 0,
              "ticks": ""
             }
            },
            "type": "scattergeo"
           }
          ],
          "scattergl": [
           {
            "marker": {
             "colorbar": {
              "outlinewidth": 0,
              "ticks": ""
             }
            },
            "type": "scattergl"
           }
          ],
          "scattermapbox": [
           {
            "marker": {
             "colorbar": {
              "outlinewidth": 0,
              "ticks": ""
             }
            },
            "type": "scattermapbox"
           }
          ],
          "scatterpolar": [
           {
            "marker": {
             "colorbar": {
              "outlinewidth": 0,
              "ticks": ""
             }
            },
            "type": "scatterpolar"
           }
          ],
          "scatterpolargl": [
           {
            "marker": {
             "colorbar": {
              "outlinewidth": 0,
              "ticks": ""
             }
            },
            "type": "scatterpolargl"
           }
          ],
          "scatterternary": [
           {
            "marker": {
             "colorbar": {
              "outlinewidth": 0,
              "ticks": ""
             }
            },
            "type": "scatterternary"
           }
          ],
          "surface": [
           {
            "colorbar": {
             "outlinewidth": 0,
             "ticks": ""
            },
            "colorscale": [
             [
              0,
              "#0d0887"
             ],
             [
              0.1111111111111111,
              "#46039f"
             ],
             [
              0.2222222222222222,
              "#7201a8"
             ],
             [
              0.3333333333333333,
              "#9c179e"
             ],
             [
              0.4444444444444444,
              "#bd3786"
             ],
             [
              0.5555555555555556,
              "#d8576b"
             ],
             [
              0.6666666666666666,
              "#ed7953"
             ],
             [
              0.7777777777777778,
              "#fb9f3a"
             ],
             [
              0.8888888888888888,
              "#fdca26"
             ],
             [
              1,
              "#f0f921"
             ]
            ],
            "type": "surface"
           }
          ],
          "table": [
           {
            "cells": {
             "fill": {
              "color": "#EBF0F8"
             },
             "line": {
              "color": "white"
             }
            },
            "header": {
             "fill": {
              "color": "#C8D4E3"
             },
             "line": {
              "color": "white"
             }
            },
            "type": "table"
           }
          ]
         },
         "layout": {
          "annotationdefaults": {
           "arrowcolor": "#2a3f5f",
           "arrowhead": 0,
           "arrowwidth": 1
          },
          "autotypenumbers": "strict",
          "coloraxis": {
           "colorbar": {
            "outlinewidth": 0,
            "ticks": ""
           }
          },
          "colorscale": {
           "diverging": [
            [
             0,
             "#8e0152"
            ],
            [
             0.1,
             "#c51b7d"
            ],
            [
             0.2,
             "#de77ae"
            ],
            [
             0.3,
             "#f1b6da"
            ],
            [
             0.4,
             "#fde0ef"
            ],
            [
             0.5,
             "#f7f7f7"
            ],
            [
             0.6,
             "#e6f5d0"
            ],
            [
             0.7,
             "#b8e186"
            ],
            [
             0.8,
             "#7fbc41"
            ],
            [
             0.9,
             "#4d9221"
            ],
            [
             1,
             "#276419"
            ]
           ],
           "sequential": [
            [
             0,
             "#0d0887"
            ],
            [
             0.1111111111111111,
             "#46039f"
            ],
            [
             0.2222222222222222,
             "#7201a8"
            ],
            [
             0.3333333333333333,
             "#9c179e"
            ],
            [
             0.4444444444444444,
             "#bd3786"
            ],
            [
             0.5555555555555556,
             "#d8576b"
            ],
            [
             0.6666666666666666,
             "#ed7953"
            ],
            [
             0.7777777777777778,
             "#fb9f3a"
            ],
            [
             0.8888888888888888,
             "#fdca26"
            ],
            [
             1,
             "#f0f921"
            ]
           ],
           "sequentialminus": [
            [
             0,
             "#0d0887"
            ],
            [
             0.1111111111111111,
             "#46039f"
            ],
            [
             0.2222222222222222,
             "#7201a8"
            ],
            [
             0.3333333333333333,
             "#9c179e"
            ],
            [
             0.4444444444444444,
             "#bd3786"
            ],
            [
             0.5555555555555556,
             "#d8576b"
            ],
            [
             0.6666666666666666,
             "#ed7953"
            ],
            [
             0.7777777777777778,
             "#fb9f3a"
            ],
            [
             0.8888888888888888,
             "#fdca26"
            ],
            [
             1,
             "#f0f921"
            ]
           ]
          },
          "colorway": [
           "#636efa",
           "#EF553B",
           "#00cc96",
           "#ab63fa",
           "#FFA15A",
           "#19d3f3",
           "#FF6692",
           "#B6E880",
           "#FF97FF",
           "#FECB52"
          ],
          "font": {
           "color": "#2a3f5f"
          },
          "geo": {
           "bgcolor": "white",
           "lakecolor": "white",
           "landcolor": "#E5ECF6",
           "showlakes": true,
           "showland": true,
           "subunitcolor": "white"
          },
          "hoverlabel": {
           "align": "left"
          },
          "hovermode": "closest",
          "mapbox": {
           "style": "light"
          },
          "paper_bgcolor": "white",
          "plot_bgcolor": "#E5ECF6",
          "polar": {
           "angularaxis": {
            "gridcolor": "white",
            "linecolor": "white",
            "ticks": ""
           },
           "bgcolor": "#E5ECF6",
           "radialaxis": {
            "gridcolor": "white",
            "linecolor": "white",
            "ticks": ""
           }
          },
          "scene": {
           "xaxis": {
            "backgroundcolor": "#E5ECF6",
            "gridcolor": "white",
            "gridwidth": 2,
            "linecolor": "white",
            "showbackground": true,
            "ticks": "",
            "zerolinecolor": "white"
           },
           "yaxis": {
            "backgroundcolor": "#E5ECF6",
            "gridcolor": "white",
            "gridwidth": 2,
            "linecolor": "white",
            "showbackground": true,
            "ticks": "",
            "zerolinecolor": "white"
           },
           "zaxis": {
            "backgroundcolor": "#E5ECF6",
            "gridcolor": "white",
            "gridwidth": 2,
            "linecolor": "white",
            "showbackground": true,
            "ticks": "",
            "zerolinecolor": "white"
           }
          },
          "shapedefaults": {
           "line": {
            "color": "#2a3f5f"
           }
          },
          "ternary": {
           "aaxis": {
            "gridcolor": "white",
            "linecolor": "white",
            "ticks": ""
           },
           "baxis": {
            "gridcolor": "white",
            "linecolor": "white",
            "ticks": ""
           },
           "bgcolor": "#E5ECF6",
           "caxis": {
            "gridcolor": "white",
            "linecolor": "white",
            "ticks": ""
           }
          },
          "title": {
           "x": 0.05
          },
          "xaxis": {
           "automargin": true,
           "gridcolor": "white",
           "linecolor": "white",
           "ticks": "",
           "title": {
            "standoff": 15
           },
           "zerolinecolor": "white",
           "zerolinewidth": 2
          },
          "yaxis": {
           "automargin": true,
           "gridcolor": "white",
           "linecolor": "white",
           "ticks": "",
           "title": {
            "standoff": 15
           },
           "zerolinecolor": "white",
           "zerolinewidth": 2
          }
         }
        },
        "title": {
         "text": "DNA Damage in All Nuclei by Tissue Location"
        },
        "xaxis": {
         "anchor": "y",
         "domain": [
          0,
          1
         ],
         "title": {
          "text": "tissue_location"
         }
        },
        "yaxis": {
         "anchor": "x",
         "domain": [
          0,
          1
         ],
         "title": {
          "text": "avg_dna_damage_foci/all_nuclei"
         }
        }
       }
      }
     },
     "metadata": {},
     "output_type": "display_data"
    }
   ],
   "source": [
    "# Create the plot\n",
    "fig = px.scatter(df, x='tissue_location', y='avg_dna_damage_foci/all_nuclei',\n",
    "                 hover_data=['staining_id'], title='DNA Damage in All Nuclei by Tissue Location')\n",
    "\n",
    "# Show the plot\n",
    "fig.show()"
   ]
  },
  {
   "cell_type": "code",
   "execution_count": 79,
   "metadata": {},
   "outputs": [
    {
     "data": {
      "application/vnd.plotly.v1+json": {
       "config": {
        "plotlyServerURL": "https://plot.ly"
       },
       "data": [
        {
         "customdata": [
          [
           16,
           0
          ],
          [
           16,
           1
          ],
          [
           16,
           2
          ],
          [
           16,
           3
          ],
          [
           16,
           4
          ],
          [
           16,
           5
          ],
          [
           17,
           6
          ],
          [
           17,
           7
          ],
          [
           17,
           8
          ],
          [
           17,
           9
          ],
          [
           17,
           10
          ],
          [
           17,
           11
          ],
          [
           18,
           12
          ],
          [
           18,
           13
          ],
          [
           18,
           14
          ],
          [
           18,
           15
          ],
          [
           18,
           16
          ],
          [
           18,
           17
          ],
          [
           19,
           18
          ],
          [
           19,
           19
          ],
          [
           19,
           20
          ],
          [
           19,
           21
          ],
          [
           19,
           22
          ],
          [
           19,
           23
          ],
          [
           20,
           24
          ],
          [
           20,
           25
          ],
          [
           20,
           26
          ],
          [
           20,
           27
          ],
          [
           20,
           28
          ],
          [
           20,
           29
          ],
          [
           21,
           30
          ],
          [
           21,
           31
          ],
          [
           21,
           32
          ],
          [
           21,
           33
          ],
          [
           21,
           34
          ],
          [
           21,
           35
          ],
          [
           22,
           36
          ],
          [
           22,
           37
          ],
          [
           22,
           38
          ],
          [
           22,
           39
          ],
          [
           22,
           40
          ],
          [
           22,
           41
          ],
          [
           23,
           42
          ],
          [
           23,
           43
          ],
          [
           23,
           44
          ],
          [
           23,
           45
          ],
          [
           23,
           46
          ],
          [
           23,
           47
          ],
          [
           24,
           48
          ],
          [
           24,
           49
          ],
          [
           24,
           50
          ],
          [
           24,
           51
          ],
          [
           24,
           52
          ],
          [
           24,
           53
          ],
          [
           25,
           54
          ],
          [
           25,
           55
          ],
          [
           25,
           56
          ],
          [
           25,
           57
          ],
          [
           25,
           58
          ],
          [
           25,
           59
          ],
          [
           26,
           60
          ],
          [
           26,
           61
          ],
          [
           26,
           62
          ],
          [
           26,
           63
          ],
          [
           26,
           64
          ],
          [
           26,
           65
          ],
          [
           27,
           66
          ],
          [
           28,
           67
          ],
          [
           28,
           68
          ],
          [
           28,
           69
          ],
          [
           28,
           70
          ],
          [
           28,
           71
          ],
          [
           28,
           72
          ],
          [
           29,
           73
          ],
          [
           29,
           74
          ],
          [
           29,
           75
          ],
          [
           29,
           76
          ],
          [
           29,
           77
          ],
          [
           29,
           78
          ],
          [
           30,
           79
          ],
          [
           30,
           80
          ],
          [
           30,
           81
          ],
          [
           30,
           82
          ],
          [
           30,
           83
          ],
          [
           30,
           84
          ],
          [
           31,
           85
          ],
          [
           31,
           86
          ],
          [
           31,
           87
          ],
          [
           31,
           88
          ],
          [
           31,
           89
          ],
          [
           31,
           90
          ],
          [
           32,
           91
          ],
          [
           32,
           92
          ],
          [
           32,
           93
          ],
          [
           32,
           94
          ],
          [
           32,
           95
          ],
          [
           32,
           96
          ],
          [
           33,
           97
          ],
          [
           33,
           98
          ],
          [
           33,
           99
          ],
          [
           33,
           100
          ],
          [
           33,
           101
          ],
          [
           33,
           102
          ],
          [
           34,
           103
          ],
          [
           34,
           104
          ],
          [
           34,
           105
          ],
          [
           34,
           106
          ],
          [
           34,
           107
          ],
          [
           34,
           108
          ],
          [
           35,
           109
          ],
          [
           35,
           110
          ],
          [
           35,
           111
          ],
          [
           35,
           112
          ],
          [
           35,
           113
          ],
          [
           35,
           114
          ],
          [
           36,
           115
          ],
          [
           36,
           116
          ],
          [
           36,
           117
          ],
          [
           36,
           118
          ],
          [
           36,
           119
          ],
          [
           36,
           120
          ],
          [
           37,
           121
          ],
          [
           37,
           122
          ],
          [
           37,
           123
          ],
          [
           37,
           124
          ],
          [
           37,
           125
          ],
          [
           37,
           126
          ],
          [
           38,
           127
          ],
          [
           39,
           128
          ],
          [
           39,
           129
          ],
          [
           39,
           130
          ],
          [
           39,
           131
          ],
          [
           39,
           132
          ],
          [
           39,
           133
          ],
          [
           40,
           134
          ],
          [
           40,
           135
          ],
          [
           40,
           136
          ],
          [
           40,
           137
          ],
          [
           40,
           138
          ],
          [
           40,
           139
          ],
          [
           41,
           140
          ],
          [
           41,
           141
          ],
          [
           41,
           142
          ],
          [
           41,
           143
          ],
          [
           41,
           144
          ],
          [
           41,
           145
          ],
          [
           42,
           146
          ],
          [
           42,
           147
          ],
          [
           42,
           148
          ],
          [
           42,
           149
          ],
          [
           42,
           150
          ],
          [
           42,
           151
          ],
          [
           43,
           152
          ],
          [
           43,
           153
          ],
          [
           43,
           154
          ],
          [
           43,
           155
          ],
          [
           43,
           156
          ],
          [
           43,
           157
          ],
          [
           44,
           158
          ],
          [
           44,
           159
          ],
          [
           44,
           160
          ],
          [
           44,
           161
          ],
          [
           45,
           162
          ],
          [
           45,
           163
          ],
          [
           45,
           164
          ],
          [
           45,
           165
          ],
          [
           45,
           166
          ],
          [
           45,
           167
          ],
          [
           46,
           168
          ],
          [
           46,
           169
          ],
          [
           46,
           170
          ],
          [
           46,
           171
          ],
          [
           46,
           172
          ],
          [
           46,
           173
          ],
          [
           47,
           174
          ],
          [
           47,
           175
          ],
          [
           47,
           176
          ],
          [
           47,
           177
          ],
          [
           47,
           178
          ],
          [
           47,
           179
          ],
          [
           48,
           180
          ],
          [
           48,
           181
          ],
          [
           48,
           182
          ],
          [
           48,
           183
          ],
          [
           48,
           184
          ],
          [
           48,
           185
          ],
          [
           49,
           186
          ],
          [
           49,
           187
          ],
          [
           49,
           188
          ],
          [
           49,
           189
          ],
          [
           49,
           190
          ],
          [
           49,
           191
          ],
          [
           50,
           192
          ],
          [
           50,
           193
          ],
          [
           50,
           194
          ],
          [
           50,
           195
          ],
          [
           50,
           196
          ],
          [
           50,
           197
          ],
          [
           51,
           198
          ],
          [
           51,
           199
          ],
          [
           51,
           200
          ],
          [
           51,
           201
          ],
          [
           51,
           202
          ],
          [
           51,
           203
          ],
          [
           52,
           204
          ],
          [
           52,
           205
          ],
          [
           52,
           206
          ],
          [
           52,
           207
          ],
          [
           52,
           208
          ],
          [
           52,
           209
          ],
          [
           53,
           210
          ],
          [
           53,
           211
          ],
          [
           53,
           212
          ],
          [
           53,
           213
          ],
          [
           53,
           214
          ],
          [
           53,
           215
          ],
          [
           54,
           216
          ],
          [
           54,
           217
          ],
          [
           54,
           218
          ],
          [
           54,
           219
          ],
          [
           54,
           220
          ],
          [
           54,
           221
          ],
          [
           55,
           222
          ],
          [
           55,
           223
          ],
          [
           55,
           224
          ],
          [
           55,
           225
          ],
          [
           55,
           226
          ],
          [
           55,
           227
          ],
          [
           56,
           228
          ],
          [
           56,
           229
          ],
          [
           56,
           230
          ],
          [
           56,
           231
          ],
          [
           56,
           232
          ],
          [
           56,
           233
          ],
          [
           57,
           234
          ],
          [
           57,
           235
          ],
          [
           57,
           236
          ],
          [
           57,
           237
          ],
          [
           57,
           238
          ],
          [
           57,
           239
          ],
          [
           58,
           240
          ],
          [
           58,
           241
          ],
          [
           58,
           242
          ],
          [
           58,
           243
          ],
          [
           58,
           244
          ],
          [
           58,
           245
          ],
          [
           59,
           246
          ],
          [
           59,
           247
          ],
          [
           59,
           248
          ],
          [
           59,
           249
          ],
          [
           59,
           250
          ],
          [
           59,
           251
          ]
         ],
         "hovertemplate": "tissue_location=%{x}<br>nr_glia_+_nuclei=%{y}<br>staining_id=%{customdata[0]}<br>index=%{customdata[1]}<extra></extra>",
         "legendgroup": "",
         "marker": {
          "color": "#636efa",
          "symbol": "circle"
         },
         "mode": "markers",
         "name": "",
         "orientation": "v",
         "showlegend": false,
         "type": "scatter",
         "x": [
          "CA1",
          "CA3",
          "CTX1",
          "CTX2",
          "CTX3",
          "DG",
          "CA1",
          "CA3",
          "CTX1",
          "CTX2",
          "CTX3",
          "DG",
          "CA1",
          "CA3",
          "CTX1",
          "CTX2",
          "CTX3",
          "DG",
          "CA1",
          "CA3",
          "CTX1",
          "CTX2",
          "CTX3",
          "DG",
          "CA1",
          "CA3",
          "CTX1",
          "CTX2",
          "CTX3",
          "DG",
          "CA1",
          "CA3",
          "CTX1",
          "CTX2",
          "CTX3",
          "DG",
          "CA1",
          "CA3",
          "CTX1",
          "CTX2",
          "CTX3",
          "DG",
          "CA1",
          "CA3",
          "CTX1",
          "CTX2",
          "CTX3",
          "DG",
          "CA1",
          "CA3",
          "CTX1",
          "CTX2",
          "CTX3",
          "DG",
          "CA1",
          "CA3",
          "CTX1",
          "CTX2",
          "CTX3",
          "DG",
          "CA1",
          "CA3",
          "CTX1",
          "CTX2",
          "CTX3",
          "DG",
          "DG",
          "CA1",
          "CA3",
          "CTX1",
          "CTX2",
          "CTX3",
          "DG",
          "CA1",
          "CA3",
          "CTX1",
          "CTX2",
          "CTX3",
          "DG",
          "CA1",
          "CA3",
          "CTX1",
          "CTX2",
          "CTX3",
          "DG",
          "CA1",
          "CA3",
          "CTX1",
          "CTX2",
          "CTX3",
          "DG",
          "CA1",
          "CA3",
          "CTX1",
          "CTX2",
          "CTX3",
          "DG",
          "CA1",
          "CA3",
          "CTX1",
          "CTX2",
          "CTX3",
          "DG",
          "CA1",
          "CA3",
          "CTX1",
          "CTX2",
          "CTX3",
          "DG",
          "CA1",
          "CA3",
          "CTX1",
          "CTX2",
          "CTX3",
          "DG",
          "CA1",
          "CA3",
          "CTX1",
          "CTX2",
          "CTX3",
          "DG",
          "CA1",
          "CA3",
          "CTX1",
          "CTX2",
          "CTX3",
          "DG",
          "DG",
          "CA1",
          "CA3",
          "CTX1",
          "CTX2",
          "CTX3",
          "DG",
          "CA1",
          "CA3",
          "CTX1",
          "CTX2",
          "CTX3",
          "DG",
          "CA1",
          "CA3",
          "CTX1",
          "CTX2",
          "CTX3",
          "DG",
          "CA1",
          "CA3",
          "CTX1",
          "CTX2",
          "CTX3",
          "DG",
          "CA1",
          "CA3",
          "CTX1",
          "CTX2",
          "CTX3",
          "DG",
          "CA1",
          "CA3",
          "CTX1",
          "DG",
          "CA1",
          "CA3",
          "CTX1",
          "CTX2",
          "CTX3",
          "DG",
          "CA1",
          "CA3",
          "CTX1",
          "CTX2",
          "CTX3",
          "DG",
          "CA1",
          "CA3",
          "CTX1",
          "CTX2",
          "CTX3",
          "DG",
          "CA1",
          "CA3",
          "CTX1",
          "CTX2",
          "CTX3",
          "DG",
          "CA1",
          "CA3",
          "CTX1",
          "CTX2",
          "CTX3",
          "DG",
          "CA1",
          "CA3",
          "CTX1",
          "CTX2",
          "CTX3",
          "DG",
          "CA1",
          "CA3",
          "CTX1",
          "CTX2",
          "CTX3",
          "DG",
          "CA1",
          "CA3",
          "CTX1",
          "CTX2",
          "CTX3",
          "DG",
          "CA1",
          "CA3",
          "CTX1",
          "CTX2",
          "CTX3",
          "DG",
          "CA1",
          "CA3",
          "CTX1",
          "CTX2",
          "CTX3",
          "DG",
          "CA1",
          "CA3",
          "CTX1",
          "CTX2",
          "CTX3",
          "DG",
          "CA1",
          "CA3",
          "CTX1",
          "CTX2",
          "CTX3",
          "DG",
          "CA1",
          "CA3",
          "CTX1",
          "CTX2",
          "CTX3",
          "DG",
          "CA1",
          "CA3",
          "CTX1",
          "CTX2",
          "CTX3",
          "DG",
          "CA1",
          "CA3",
          "CTX1",
          "CTX2",
          "CTX3",
          "DG"
         ],
         "xaxis": "x",
         "y": [
          168,
          177,
          49,
          240,
          138,
          207,
          11,
          24,
          21,
          58,
          40,
          90,
          20,
          19,
          24,
          23,
          17,
          82,
          47,
          44,
          130,
          46,
          73,
          63,
          8,
          10,
          8,
          17,
          3,
          6,
          11,
          5,
          22,
          16,
          28,
          18,
          18,
          7,
          13,
          19,
          11,
          18,
          7,
          7,
          28,
          5,
          16,
          13,
          9,
          4,
          22,
          29,
          20,
          7,
          11,
          15,
          22,
          28,
          13,
          15,
          14,
          7,
          18,
          19,
          41,
          15,
          9,
          3,
          4,
          7,
          17,
          12,
          24,
          9,
          6,
          23,
          27,
          14,
          8,
          10,
          6,
          21,
          21,
          14,
          7,
          14,
          3,
          19,
          18,
          17,
          13,
          26,
          33,
          59,
          76,
          50,
          71,
          6,
          11,
          10,
          14,
          9,
          11,
          19,
          8,
          40,
          54,
          33,
          29,
          12,
          45,
          28,
          151,
          99,
          116,
          18,
          8,
          20,
          31,
          14,
          9,
          8,
          14,
          19,
          30,
          38,
          10,
          8,
          6,
          7,
          7,
          8,
          5,
          10,
          5,
          8,
          22,
          17,
          23,
          5,
          4,
          7,
          0,
          8,
          7,
          6,
          4,
          10,
          11,
          19,
          10,
          5,
          17,
          9,
          34,
          29,
          19,
          36,
          43,
          35,
          135,
          83,
          16,
          11,
          20,
          27,
          25,
          23,
          71,
          63,
          113,
          152,
          121,
          92,
          18,
          18,
          34,
          103,
          52,
          18,
          7,
          5,
          35,
          22,
          21,
          13,
          24,
          19,
          30,
          25,
          15,
          29,
          21,
          11,
          27,
          21,
          32,
          21,
          21,
          14,
          18,
          28,
          38,
          19,
          9,
          7,
          26,
          41,
          33,
          23,
          10,
          7,
          43,
          36,
          22,
          19,
          7,
          3,
          23,
          16,
          23,
          19,
          9,
          4,
          9,
          14,
          8,
          12,
          16,
          20,
          22,
          23,
          34,
          18,
          14,
          16,
          19,
          17,
          18,
          28,
          7,
          6,
          19,
          20,
          9,
          4,
          10,
          8,
          13,
          23,
          27,
          9
         ],
         "yaxis": "y"
        }
       ],
       "layout": {
        "legend": {
         "tracegroupgap": 0
        },
        "template": {
         "data": {
          "bar": [
           {
            "error_x": {
             "color": "#2a3f5f"
            },
            "error_y": {
             "color": "#2a3f5f"
            },
            "marker": {
             "line": {
              "color": "#E5ECF6",
              "width": 0.5
             },
             "pattern": {
              "fillmode": "overlay",
              "size": 10,
              "solidity": 0.2
             }
            },
            "type": "bar"
           }
          ],
          "barpolar": [
           {
            "marker": {
             "line": {
              "color": "#E5ECF6",
              "width": 0.5
             },
             "pattern": {
              "fillmode": "overlay",
              "size": 10,
              "solidity": 0.2
             }
            },
            "type": "barpolar"
           }
          ],
          "carpet": [
           {
            "aaxis": {
             "endlinecolor": "#2a3f5f",
             "gridcolor": "white",
             "linecolor": "white",
             "minorgridcolor": "white",
             "startlinecolor": "#2a3f5f"
            },
            "baxis": {
             "endlinecolor": "#2a3f5f",
             "gridcolor": "white",
             "linecolor": "white",
             "minorgridcolor": "white",
             "startlinecolor": "#2a3f5f"
            },
            "type": "carpet"
           }
          ],
          "choropleth": [
           {
            "colorbar": {
             "outlinewidth": 0,
             "ticks": ""
            },
            "type": "choropleth"
           }
          ],
          "contour": [
           {
            "colorbar": {
             "outlinewidth": 0,
             "ticks": ""
            },
            "colorscale": [
             [
              0,
              "#0d0887"
             ],
             [
              0.1111111111111111,
              "#46039f"
             ],
             [
              0.2222222222222222,
              "#7201a8"
             ],
             [
              0.3333333333333333,
              "#9c179e"
             ],
             [
              0.4444444444444444,
              "#bd3786"
             ],
             [
              0.5555555555555556,
              "#d8576b"
             ],
             [
              0.6666666666666666,
              "#ed7953"
             ],
             [
              0.7777777777777778,
              "#fb9f3a"
             ],
             [
              0.8888888888888888,
              "#fdca26"
             ],
             [
              1,
              "#f0f921"
             ]
            ],
            "type": "contour"
           }
          ],
          "contourcarpet": [
           {
            "colorbar": {
             "outlinewidth": 0,
             "ticks": ""
            },
            "type": "contourcarpet"
           }
          ],
          "heatmap": [
           {
            "colorbar": {
             "outlinewidth": 0,
             "ticks": ""
            },
            "colorscale": [
             [
              0,
              "#0d0887"
             ],
             [
              0.1111111111111111,
              "#46039f"
             ],
             [
              0.2222222222222222,
              "#7201a8"
             ],
             [
              0.3333333333333333,
              "#9c179e"
             ],
             [
              0.4444444444444444,
              "#bd3786"
             ],
             [
              0.5555555555555556,
              "#d8576b"
             ],
             [
              0.6666666666666666,
              "#ed7953"
             ],
             [
              0.7777777777777778,
              "#fb9f3a"
             ],
             [
              0.8888888888888888,
              "#fdca26"
             ],
             [
              1,
              "#f0f921"
             ]
            ],
            "type": "heatmap"
           }
          ],
          "heatmapgl": [
           {
            "colorbar": {
             "outlinewidth": 0,
             "ticks": ""
            },
            "colorscale": [
             [
              0,
              "#0d0887"
             ],
             [
              0.1111111111111111,
              "#46039f"
             ],
             [
              0.2222222222222222,
              "#7201a8"
             ],
             [
              0.3333333333333333,
              "#9c179e"
             ],
             [
              0.4444444444444444,
              "#bd3786"
             ],
             [
              0.5555555555555556,
              "#d8576b"
             ],
             [
              0.6666666666666666,
              "#ed7953"
             ],
             [
              0.7777777777777778,
              "#fb9f3a"
             ],
             [
              0.8888888888888888,
              "#fdca26"
             ],
             [
              1,
              "#f0f921"
             ]
            ],
            "type": "heatmapgl"
           }
          ],
          "histogram": [
           {
            "marker": {
             "pattern": {
              "fillmode": "overlay",
              "size": 10,
              "solidity": 0.2
             }
            },
            "type": "histogram"
           }
          ],
          "histogram2d": [
           {
            "colorbar": {
             "outlinewidth": 0,
             "ticks": ""
            },
            "colorscale": [
             [
              0,
              "#0d0887"
             ],
             [
              0.1111111111111111,
              "#46039f"
             ],
             [
              0.2222222222222222,
              "#7201a8"
             ],
             [
              0.3333333333333333,
              "#9c179e"
             ],
             [
              0.4444444444444444,
              "#bd3786"
             ],
             [
              0.5555555555555556,
              "#d8576b"
             ],
             [
              0.6666666666666666,
              "#ed7953"
             ],
             [
              0.7777777777777778,
              "#fb9f3a"
             ],
             [
              0.8888888888888888,
              "#fdca26"
             ],
             [
              1,
              "#f0f921"
             ]
            ],
            "type": "histogram2d"
           }
          ],
          "histogram2dcontour": [
           {
            "colorbar": {
             "outlinewidth": 0,
             "ticks": ""
            },
            "colorscale": [
             [
              0,
              "#0d0887"
             ],
             [
              0.1111111111111111,
              "#46039f"
             ],
             [
              0.2222222222222222,
              "#7201a8"
             ],
             [
              0.3333333333333333,
              "#9c179e"
             ],
             [
              0.4444444444444444,
              "#bd3786"
             ],
             [
              0.5555555555555556,
              "#d8576b"
             ],
             [
              0.6666666666666666,
              "#ed7953"
             ],
             [
              0.7777777777777778,
              "#fb9f3a"
             ],
             [
              0.8888888888888888,
              "#fdca26"
             ],
             [
              1,
              "#f0f921"
             ]
            ],
            "type": "histogram2dcontour"
           }
          ],
          "mesh3d": [
           {
            "colorbar": {
             "outlinewidth": 0,
             "ticks": ""
            },
            "type": "mesh3d"
           }
          ],
          "parcoords": [
           {
            "line": {
             "colorbar": {
              "outlinewidth": 0,
              "ticks": ""
             }
            },
            "type": "parcoords"
           }
          ],
          "pie": [
           {
            "automargin": true,
            "type": "pie"
           }
          ],
          "scatter": [
           {
            "fillpattern": {
             "fillmode": "overlay",
             "size": 10,
             "solidity": 0.2
            },
            "type": "scatter"
           }
          ],
          "scatter3d": [
           {
            "line": {
             "colorbar": {
              "outlinewidth": 0,
              "ticks": ""
             }
            },
            "marker": {
             "colorbar": {
              "outlinewidth": 0,
              "ticks": ""
             }
            },
            "type": "scatter3d"
           }
          ],
          "scattercarpet": [
           {
            "marker": {
             "colorbar": {
              "outlinewidth": 0,
              "ticks": ""
             }
            },
            "type": "scattercarpet"
           }
          ],
          "scattergeo": [
           {
            "marker": {
             "colorbar": {
              "outlinewidth": 0,
              "ticks": ""
             }
            },
            "type": "scattergeo"
           }
          ],
          "scattergl": [
           {
            "marker": {
             "colorbar": {
              "outlinewidth": 0,
              "ticks": ""
             }
            },
            "type": "scattergl"
           }
          ],
          "scattermapbox": [
           {
            "marker": {
             "colorbar": {
              "outlinewidth": 0,
              "ticks": ""
             }
            },
            "type": "scattermapbox"
           }
          ],
          "scatterpolar": [
           {
            "marker": {
             "colorbar": {
              "outlinewidth": 0,
              "ticks": ""
             }
            },
            "type": "scatterpolar"
           }
          ],
          "scatterpolargl": [
           {
            "marker": {
             "colorbar": {
              "outlinewidth": 0,
              "ticks": ""
             }
            },
            "type": "scatterpolargl"
           }
          ],
          "scatterternary": [
           {
            "marker": {
             "colorbar": {
              "outlinewidth": 0,
              "ticks": ""
             }
            },
            "type": "scatterternary"
           }
          ],
          "surface": [
           {
            "colorbar": {
             "outlinewidth": 0,
             "ticks": ""
            },
            "colorscale": [
             [
              0,
              "#0d0887"
             ],
             [
              0.1111111111111111,
              "#46039f"
             ],
             [
              0.2222222222222222,
              "#7201a8"
             ],
             [
              0.3333333333333333,
              "#9c179e"
             ],
             [
              0.4444444444444444,
              "#bd3786"
             ],
             [
              0.5555555555555556,
              "#d8576b"
             ],
             [
              0.6666666666666666,
              "#ed7953"
             ],
             [
              0.7777777777777778,
              "#fb9f3a"
             ],
             [
              0.8888888888888888,
              "#fdca26"
             ],
             [
              1,
              "#f0f921"
             ]
            ],
            "type": "surface"
           }
          ],
          "table": [
           {
            "cells": {
             "fill": {
              "color": "#EBF0F8"
             },
             "line": {
              "color": "white"
             }
            },
            "header": {
             "fill": {
              "color": "#C8D4E3"
             },
             "line": {
              "color": "white"
             }
            },
            "type": "table"
           }
          ]
         },
         "layout": {
          "annotationdefaults": {
           "arrowcolor": "#2a3f5f",
           "arrowhead": 0,
           "arrowwidth": 1
          },
          "autotypenumbers": "strict",
          "coloraxis": {
           "colorbar": {
            "outlinewidth": 0,
            "ticks": ""
           }
          },
          "colorscale": {
           "diverging": [
            [
             0,
             "#8e0152"
            ],
            [
             0.1,
             "#c51b7d"
            ],
            [
             0.2,
             "#de77ae"
            ],
            [
             0.3,
             "#f1b6da"
            ],
            [
             0.4,
             "#fde0ef"
            ],
            [
             0.5,
             "#f7f7f7"
            ],
            [
             0.6,
             "#e6f5d0"
            ],
            [
             0.7,
             "#b8e186"
            ],
            [
             0.8,
             "#7fbc41"
            ],
            [
             0.9,
             "#4d9221"
            ],
            [
             1,
             "#276419"
            ]
           ],
           "sequential": [
            [
             0,
             "#0d0887"
            ],
            [
             0.1111111111111111,
             "#46039f"
            ],
            [
             0.2222222222222222,
             "#7201a8"
            ],
            [
             0.3333333333333333,
             "#9c179e"
            ],
            [
             0.4444444444444444,
             "#bd3786"
            ],
            [
             0.5555555555555556,
             "#d8576b"
            ],
            [
             0.6666666666666666,
             "#ed7953"
            ],
            [
             0.7777777777777778,
             "#fb9f3a"
            ],
            [
             0.8888888888888888,
             "#fdca26"
            ],
            [
             1,
             "#f0f921"
            ]
           ],
           "sequentialminus": [
            [
             0,
             "#0d0887"
            ],
            [
             0.1111111111111111,
             "#46039f"
            ],
            [
             0.2222222222222222,
             "#7201a8"
            ],
            [
             0.3333333333333333,
             "#9c179e"
            ],
            [
             0.4444444444444444,
             "#bd3786"
            ],
            [
             0.5555555555555556,
             "#d8576b"
            ],
            [
             0.6666666666666666,
             "#ed7953"
            ],
            [
             0.7777777777777778,
             "#fb9f3a"
            ],
            [
             0.8888888888888888,
             "#fdca26"
            ],
            [
             1,
             "#f0f921"
            ]
           ]
          },
          "colorway": [
           "#636efa",
           "#EF553B",
           "#00cc96",
           "#ab63fa",
           "#FFA15A",
           "#19d3f3",
           "#FF6692",
           "#B6E880",
           "#FF97FF",
           "#FECB52"
          ],
          "font": {
           "color": "#2a3f5f"
          },
          "geo": {
           "bgcolor": "white",
           "lakecolor": "white",
           "landcolor": "#E5ECF6",
           "showlakes": true,
           "showland": true,
           "subunitcolor": "white"
          },
          "hoverlabel": {
           "align": "left"
          },
          "hovermode": "closest",
          "mapbox": {
           "style": "light"
          },
          "paper_bgcolor": "white",
          "plot_bgcolor": "#E5ECF6",
          "polar": {
           "angularaxis": {
            "gridcolor": "white",
            "linecolor": "white",
            "ticks": ""
           },
           "bgcolor": "#E5ECF6",
           "radialaxis": {
            "gridcolor": "white",
            "linecolor": "white",
            "ticks": ""
           }
          },
          "scene": {
           "xaxis": {
            "backgroundcolor": "#E5ECF6",
            "gridcolor": "white",
            "gridwidth": 2,
            "linecolor": "white",
            "showbackground": true,
            "ticks": "",
            "zerolinecolor": "white"
           },
           "yaxis": {
            "backgroundcolor": "#E5ECF6",
            "gridcolor": "white",
            "gridwidth": 2,
            "linecolor": "white",
            "showbackground": true,
            "ticks": "",
            "zerolinecolor": "white"
           },
           "zaxis": {
            "backgroundcolor": "#E5ECF6",
            "gridcolor": "white",
            "gridwidth": 2,
            "linecolor": "white",
            "showbackground": true,
            "ticks": "",
            "zerolinecolor": "white"
           }
          },
          "shapedefaults": {
           "line": {
            "color": "#2a3f5f"
           }
          },
          "ternary": {
           "aaxis": {
            "gridcolor": "white",
            "linecolor": "white",
            "ticks": ""
           },
           "baxis": {
            "gridcolor": "white",
            "linecolor": "white",
            "ticks": ""
           },
           "bgcolor": "#E5ECF6",
           "caxis": {
            "gridcolor": "white",
            "linecolor": "white",
            "ticks": ""
           }
          },
          "title": {
           "x": 0.05
          },
          "xaxis": {
           "automargin": true,
           "gridcolor": "white",
           "linecolor": "white",
           "ticks": "",
           "title": {
            "standoff": 15
           },
           "zerolinecolor": "white",
           "zerolinewidth": 2
          },
          "yaxis": {
           "automargin": true,
           "gridcolor": "white",
           "linecolor": "white",
           "ticks": "",
           "title": {
            "standoff": 15
           },
           "zerolinecolor": "white",
           "zerolinewidth": 2
          }
         }
        },
        "title": {
         "text": "Nr of glia+ nuclei by Tissue Location"
        },
        "xaxis": {
         "anchor": "y",
         "domain": [
          0,
          1
         ],
         "title": {
          "text": "tissue_location"
         }
        },
        "yaxis": {
         "anchor": "x",
         "domain": [
          0,
          1
         ],
         "title": {
          "text": "nr_glia_+_nuclei"
         }
        }
       }
      }
     },
     "metadata": {},
     "output_type": "display_data"
    }
   ],
   "source": [
    "# Create the plot\n",
    "fig = px.scatter(df, x='tissue_location', y='nr_glia_+_nuclei',\n",
    "                 hover_data=['staining_id','index'], title='Nr of glia+ nuclei by Tissue Location')\n",
    "\n",
    "# Show the plot\n",
    "fig.show()"
   ]
  },
  {
   "cell_type": "code",
   "execution_count": 80,
   "metadata": {},
   "outputs": [
    {
     "data": {
      "application/vnd.plotly.v1+json": {
       "config": {
        "plotlyServerURL": "https://plot.ly"
       },
       "data": [
        {
         "customdata": [
          [
           16,
           0
          ],
          [
           16,
           1
          ],
          [
           16,
           2
          ],
          [
           16,
           3
          ],
          [
           16,
           4
          ],
          [
           16,
           5
          ],
          [
           17,
           6
          ],
          [
           17,
           7
          ],
          [
           17,
           8
          ],
          [
           17,
           9
          ],
          [
           17,
           10
          ],
          [
           17,
           11
          ],
          [
           18,
           12
          ],
          [
           18,
           13
          ],
          [
           18,
           14
          ],
          [
           18,
           15
          ],
          [
           18,
           16
          ],
          [
           18,
           17
          ],
          [
           19,
           18
          ],
          [
           19,
           19
          ],
          [
           19,
           20
          ],
          [
           19,
           21
          ],
          [
           19,
           22
          ],
          [
           19,
           23
          ],
          [
           20,
           24
          ],
          [
           20,
           25
          ],
          [
           20,
           26
          ],
          [
           20,
           27
          ],
          [
           20,
           28
          ],
          [
           20,
           29
          ],
          [
           21,
           30
          ],
          [
           21,
           31
          ],
          [
           21,
           32
          ],
          [
           21,
           33
          ],
          [
           21,
           34
          ],
          [
           21,
           35
          ],
          [
           22,
           36
          ],
          [
           22,
           37
          ],
          [
           22,
           38
          ],
          [
           22,
           39
          ],
          [
           22,
           40
          ],
          [
           22,
           41
          ],
          [
           23,
           42
          ],
          [
           23,
           43
          ],
          [
           23,
           44
          ],
          [
           23,
           45
          ],
          [
           23,
           46
          ],
          [
           23,
           47
          ],
          [
           24,
           48
          ],
          [
           24,
           49
          ],
          [
           24,
           50
          ],
          [
           24,
           51
          ],
          [
           24,
           52
          ],
          [
           24,
           53
          ],
          [
           25,
           54
          ],
          [
           25,
           55
          ],
          [
           25,
           56
          ],
          [
           25,
           57
          ],
          [
           25,
           58
          ],
          [
           25,
           59
          ],
          [
           26,
           60
          ],
          [
           26,
           61
          ],
          [
           26,
           62
          ],
          [
           26,
           63
          ],
          [
           26,
           64
          ],
          [
           26,
           65
          ],
          [
           27,
           66
          ],
          [
           28,
           67
          ],
          [
           28,
           68
          ],
          [
           28,
           69
          ],
          [
           28,
           70
          ],
          [
           28,
           71
          ],
          [
           28,
           72
          ],
          [
           29,
           73
          ],
          [
           29,
           74
          ],
          [
           29,
           75
          ],
          [
           29,
           76
          ],
          [
           29,
           77
          ],
          [
           29,
           78
          ],
          [
           30,
           79
          ],
          [
           30,
           80
          ],
          [
           30,
           81
          ],
          [
           30,
           82
          ],
          [
           30,
           83
          ],
          [
           30,
           84
          ],
          [
           31,
           85
          ],
          [
           31,
           86
          ],
          [
           31,
           87
          ],
          [
           31,
           88
          ],
          [
           31,
           89
          ],
          [
           31,
           90
          ],
          [
           32,
           91
          ],
          [
           32,
           92
          ],
          [
           32,
           93
          ],
          [
           32,
           94
          ],
          [
           32,
           95
          ],
          [
           32,
           96
          ],
          [
           33,
           97
          ],
          [
           33,
           98
          ],
          [
           33,
           99
          ],
          [
           33,
           100
          ],
          [
           33,
           101
          ],
          [
           33,
           102
          ],
          [
           34,
           103
          ],
          [
           34,
           104
          ],
          [
           34,
           105
          ],
          [
           34,
           106
          ],
          [
           34,
           107
          ],
          [
           34,
           108
          ],
          [
           35,
           109
          ],
          [
           35,
           110
          ],
          [
           35,
           111
          ],
          [
           35,
           112
          ],
          [
           35,
           113
          ],
          [
           35,
           114
          ],
          [
           36,
           115
          ],
          [
           36,
           116
          ],
          [
           36,
           117
          ],
          [
           36,
           118
          ],
          [
           36,
           119
          ],
          [
           36,
           120
          ],
          [
           37,
           121
          ],
          [
           37,
           122
          ],
          [
           37,
           123
          ],
          [
           37,
           124
          ],
          [
           37,
           125
          ],
          [
           37,
           126
          ],
          [
           38,
           127
          ],
          [
           39,
           128
          ],
          [
           39,
           129
          ],
          [
           39,
           130
          ],
          [
           39,
           131
          ],
          [
           39,
           132
          ],
          [
           39,
           133
          ],
          [
           40,
           134
          ],
          [
           40,
           135
          ],
          [
           40,
           136
          ],
          [
           40,
           137
          ],
          [
           40,
           138
          ],
          [
           40,
           139
          ],
          [
           41,
           140
          ],
          [
           41,
           141
          ],
          [
           41,
           142
          ],
          [
           41,
           143
          ],
          [
           41,
           144
          ],
          [
           41,
           145
          ],
          [
           42,
           146
          ],
          [
           42,
           147
          ],
          [
           42,
           148
          ],
          [
           42,
           149
          ],
          [
           42,
           150
          ],
          [
           42,
           151
          ],
          [
           43,
           152
          ],
          [
           43,
           153
          ],
          [
           43,
           154
          ],
          [
           43,
           155
          ],
          [
           43,
           156
          ],
          [
           43,
           157
          ],
          [
           44,
           158
          ],
          [
           44,
           159
          ],
          [
           44,
           160
          ],
          [
           44,
           161
          ],
          [
           45,
           162
          ],
          [
           45,
           163
          ],
          [
           45,
           164
          ],
          [
           45,
           165
          ],
          [
           45,
           166
          ],
          [
           45,
           167
          ],
          [
           46,
           168
          ],
          [
           46,
           169
          ],
          [
           46,
           170
          ],
          [
           46,
           171
          ],
          [
           46,
           172
          ],
          [
           46,
           173
          ],
          [
           47,
           174
          ],
          [
           47,
           175
          ],
          [
           47,
           176
          ],
          [
           47,
           177
          ],
          [
           47,
           178
          ],
          [
           47,
           179
          ],
          [
           48,
           180
          ],
          [
           48,
           181
          ],
          [
           48,
           182
          ],
          [
           48,
           183
          ],
          [
           48,
           184
          ],
          [
           48,
           185
          ],
          [
           49,
           186
          ],
          [
           49,
           187
          ],
          [
           49,
           188
          ],
          [
           49,
           189
          ],
          [
           49,
           190
          ],
          [
           49,
           191
          ],
          [
           50,
           192
          ],
          [
           50,
           193
          ],
          [
           50,
           194
          ],
          [
           50,
           195
          ],
          [
           50,
           196
          ],
          [
           50,
           197
          ],
          [
           51,
           198
          ],
          [
           51,
           199
          ],
          [
           51,
           200
          ],
          [
           51,
           201
          ],
          [
           51,
           202
          ],
          [
           51,
           203
          ],
          [
           52,
           204
          ],
          [
           52,
           205
          ],
          [
           52,
           206
          ],
          [
           52,
           207
          ],
          [
           52,
           208
          ],
          [
           52,
           209
          ],
          [
           53,
           210
          ],
          [
           53,
           211
          ],
          [
           53,
           212
          ],
          [
           53,
           213
          ],
          [
           53,
           214
          ],
          [
           53,
           215
          ],
          [
           54,
           216
          ],
          [
           54,
           217
          ],
          [
           54,
           218
          ],
          [
           54,
           219
          ],
          [
           54,
           220
          ],
          [
           54,
           221
          ],
          [
           55,
           222
          ],
          [
           55,
           223
          ],
          [
           55,
           224
          ],
          [
           55,
           225
          ],
          [
           55,
           226
          ],
          [
           55,
           227
          ],
          [
           56,
           228
          ],
          [
           56,
           229
          ],
          [
           56,
           230
          ],
          [
           56,
           231
          ],
          [
           56,
           232
          ],
          [
           56,
           233
          ],
          [
           57,
           234
          ],
          [
           57,
           235
          ],
          [
           57,
           236
          ],
          [
           57,
           237
          ],
          [
           57,
           238
          ],
          [
           57,
           239
          ],
          [
           58,
           240
          ],
          [
           58,
           241
          ],
          [
           58,
           242
          ],
          [
           58,
           243
          ],
          [
           58,
           244
          ],
          [
           58,
           245
          ],
          [
           59,
           246
          ],
          [
           59,
           247
          ],
          [
           59,
           248
          ],
          [
           59,
           249
          ],
          [
           59,
           250
          ],
          [
           59,
           251
          ]
         ],
         "hovertemplate": "tissue_location=%{x}<br>nr_total_nuclei=%{y}<br>staining_id=%{customdata[0]}<br>index=%{customdata[1]}<extra></extra>",
         "legendgroup": "",
         "marker": {
          "color": "#636efa",
          "symbol": "circle"
         },
         "mode": "markers",
         "name": "",
         "orientation": "v",
         "showlegend": false,
         "type": "scatter",
         "x": [
          "CA1",
          "CA3",
          "CTX1",
          "CTX2",
          "CTX3",
          "DG",
          "CA1",
          "CA3",
          "CTX1",
          "CTX2",
          "CTX3",
          "DG",
          "CA1",
          "CA3",
          "CTX1",
          "CTX2",
          "CTX3",
          "DG",
          "CA1",
          "CA3",
          "CTX1",
          "CTX2",
          "CTX3",
          "DG",
          "CA1",
          "CA3",
          "CTX1",
          "CTX2",
          "CTX3",
          "DG",
          "CA1",
          "CA3",
          "CTX1",
          "CTX2",
          "CTX3",
          "DG",
          "CA1",
          "CA3",
          "CTX1",
          "CTX2",
          "CTX3",
          "DG",
          "CA1",
          "CA3",
          "CTX1",
          "CTX2",
          "CTX3",
          "DG",
          "CA1",
          "CA3",
          "CTX1",
          "CTX2",
          "CTX3",
          "DG",
          "CA1",
          "CA3",
          "CTX1",
          "CTX2",
          "CTX3",
          "DG",
          "CA1",
          "CA3",
          "CTX1",
          "CTX2",
          "CTX3",
          "DG",
          "DG",
          "CA1",
          "CA3",
          "CTX1",
          "CTX2",
          "CTX3",
          "DG",
          "CA1",
          "CA3",
          "CTX1",
          "CTX2",
          "CTX3",
          "DG",
          "CA1",
          "CA3",
          "CTX1",
          "CTX2",
          "CTX3",
          "DG",
          "CA1",
          "CA3",
          "CTX1",
          "CTX2",
          "CTX3",
          "DG",
          "CA1",
          "CA3",
          "CTX1",
          "CTX2",
          "CTX3",
          "DG",
          "CA1",
          "CA3",
          "CTX1",
          "CTX2",
          "CTX3",
          "DG",
          "CA1",
          "CA3",
          "CTX1",
          "CTX2",
          "CTX3",
          "DG",
          "CA1",
          "CA3",
          "CTX1",
          "CTX2",
          "CTX3",
          "DG",
          "CA1",
          "CA3",
          "CTX1",
          "CTX2",
          "CTX3",
          "DG",
          "CA1",
          "CA3",
          "CTX1",
          "CTX2",
          "CTX3",
          "DG",
          "DG",
          "CA1",
          "CA3",
          "CTX1",
          "CTX2",
          "CTX3",
          "DG",
          "CA1",
          "CA3",
          "CTX1",
          "CTX2",
          "CTX3",
          "DG",
          "CA1",
          "CA3",
          "CTX1",
          "CTX2",
          "CTX3",
          "DG",
          "CA1",
          "CA3",
          "CTX1",
          "CTX2",
          "CTX3",
          "DG",
          "CA1",
          "CA3",
          "CTX1",
          "CTX2",
          "CTX3",
          "DG",
          "CA1",
          "CA3",
          "CTX1",
          "DG",
          "CA1",
          "CA3",
          "CTX1",
          "CTX2",
          "CTX3",
          "DG",
          "CA1",
          "CA3",
          "CTX1",
          "CTX2",
          "CTX3",
          "DG",
          "CA1",
          "CA3",
          "CTX1",
          "CTX2",
          "CTX3",
          "DG",
          "CA1",
          "CA3",
          "CTX1",
          "CTX2",
          "CTX3",
          "DG",
          "CA1",
          "CA3",
          "CTX1",
          "CTX2",
          "CTX3",
          "DG",
          "CA1",
          "CA3",
          "CTX1",
          "CTX2",
          "CTX3",
          "DG",
          "CA1",
          "CA3",
          "CTX1",
          "CTX2",
          "CTX3",
          "DG",
          "CA1",
          "CA3",
          "CTX1",
          "CTX2",
          "CTX3",
          "DG",
          "CA1",
          "CA3",
          "CTX1",
          "CTX2",
          "CTX3",
          "DG",
          "CA1",
          "CA3",
          "CTX1",
          "CTX2",
          "CTX3",
          "DG",
          "CA1",
          "CA3",
          "CTX1",
          "CTX2",
          "CTX3",
          "DG",
          "CA1",
          "CA3",
          "CTX1",
          "CTX2",
          "CTX3",
          "DG",
          "CA1",
          "CA3",
          "CTX1",
          "CTX2",
          "CTX3",
          "DG",
          "CA1",
          "CA3",
          "CTX1",
          "CTX2",
          "CTX3",
          "DG",
          "CA1",
          "CA3",
          "CTX1",
          "CTX2",
          "CTX3",
          "DG"
         ],
         "xaxis": "x",
         "y": [
          198,
          183,
          243,
          249,
          223,
          217,
          155,
          178,
          242,
          277,
          178,
          236,
          130,
          95,
          222,
          263,
          150,
          176,
          47,
          45,
          130,
          53,
          82,
          63,
          143,
          121,
          182,
          159,
          106,
          274,
          135,
          113,
          198,
          235,
          195,
          274,
          145,
          129,
          242,
          255,
          166,
          321,
          129,
          103,
          184,
          175,
          139,
          300,
          162,
          112,
          176,
          256,
          201,
          202,
          149,
          145,
          137,
          193,
          210,
          314,
          98,
          52,
          105,
          98,
          108,
          149,
          100,
          63,
          75,
          109,
          213,
          214,
          259,
          134,
          120,
          198,
          199,
          173,
          280,
          131,
          104,
          214,
          237,
          195,
          279,
          151,
          193,
          199,
          243,
          162,
          249,
          164,
          134,
          280,
          237,
          186,
          258,
          142,
          187,
          223,
          203,
          156,
          305,
          147,
          261,
          298,
          262,
          216,
          199,
          175,
          172,
          243,
          258,
          191,
          293,
          163,
          129,
          225,
          236,
          198,
          268,
          169,
          145,
          248,
          275,
          181,
          224,
          59,
          118,
          109,
          169,
          209,
          152,
          247,
          137,
          87,
          164,
          159,
          181,
          289,
          159,
          104,
          144,
          194,
          142,
          305,
          148,
          116,
          200,
          176,
          161,
          249,
          143,
          204,
          229,
          191,
          205,
          253,
          109,
          65,
          255,
          130,
          137,
          157,
          212,
          204,
          192,
          284,
          144,
          136,
          251,
          280,
          266,
          178,
          175,
          163,
          315,
          274,
          221,
          181,
          116,
          100,
          216,
          244,
          211,
          296,
          146,
          148,
          174,
          190,
          136,
          177,
          113,
          119,
          229,
          208,
          192,
          252,
          126,
          115,
          132,
          210,
          170,
          232,
          119,
          101,
          123,
          199,
          201,
          245,
          156,
          186,
          256,
          221,
          145,
          208,
          131,
          151,
          200,
          193,
          173,
          279,
          128,
          94,
          121,
          149,
          84,
          250,
          148,
          130,
          176,
          239,
          186,
          250,
          168,
          171,
          254,
          249,
          195,
          252,
          119,
          120,
          134,
          199,
          186,
          261,
          161,
          107,
          215,
          147,
          150,
          258
         ],
         "yaxis": "y"
        }
       ],
       "layout": {
        "legend": {
         "tracegroupgap": 0
        },
        "template": {
         "data": {
          "bar": [
           {
            "error_x": {
             "color": "#2a3f5f"
            },
            "error_y": {
             "color": "#2a3f5f"
            },
            "marker": {
             "line": {
              "color": "#E5ECF6",
              "width": 0.5
             },
             "pattern": {
              "fillmode": "overlay",
              "size": 10,
              "solidity": 0.2
             }
            },
            "type": "bar"
           }
          ],
          "barpolar": [
           {
            "marker": {
             "line": {
              "color": "#E5ECF6",
              "width": 0.5
             },
             "pattern": {
              "fillmode": "overlay",
              "size": 10,
              "solidity": 0.2
             }
            },
            "type": "barpolar"
           }
          ],
          "carpet": [
           {
            "aaxis": {
             "endlinecolor": "#2a3f5f",
             "gridcolor": "white",
             "linecolor": "white",
             "minorgridcolor": "white",
             "startlinecolor": "#2a3f5f"
            },
            "baxis": {
             "endlinecolor": "#2a3f5f",
             "gridcolor": "white",
             "linecolor": "white",
             "minorgridcolor": "white",
             "startlinecolor": "#2a3f5f"
            },
            "type": "carpet"
           }
          ],
          "choropleth": [
           {
            "colorbar": {
             "outlinewidth": 0,
             "ticks": ""
            },
            "type": "choropleth"
           }
          ],
          "contour": [
           {
            "colorbar": {
             "outlinewidth": 0,
             "ticks": ""
            },
            "colorscale": [
             [
              0,
              "#0d0887"
             ],
             [
              0.1111111111111111,
              "#46039f"
             ],
             [
              0.2222222222222222,
              "#7201a8"
             ],
             [
              0.3333333333333333,
              "#9c179e"
             ],
             [
              0.4444444444444444,
              "#bd3786"
             ],
             [
              0.5555555555555556,
              "#d8576b"
             ],
             [
              0.6666666666666666,
              "#ed7953"
             ],
             [
              0.7777777777777778,
              "#fb9f3a"
             ],
             [
              0.8888888888888888,
              "#fdca26"
             ],
             [
              1,
              "#f0f921"
             ]
            ],
            "type": "contour"
           }
          ],
          "contourcarpet": [
           {
            "colorbar": {
             "outlinewidth": 0,
             "ticks": ""
            },
            "type": "contourcarpet"
           }
          ],
          "heatmap": [
           {
            "colorbar": {
             "outlinewidth": 0,
             "ticks": ""
            },
            "colorscale": [
             [
              0,
              "#0d0887"
             ],
             [
              0.1111111111111111,
              "#46039f"
             ],
             [
              0.2222222222222222,
              "#7201a8"
             ],
             [
              0.3333333333333333,
              "#9c179e"
             ],
             [
              0.4444444444444444,
              "#bd3786"
             ],
             [
              0.5555555555555556,
              "#d8576b"
             ],
             [
              0.6666666666666666,
              "#ed7953"
             ],
             [
              0.7777777777777778,
              "#fb9f3a"
             ],
             [
              0.8888888888888888,
              "#fdca26"
             ],
             [
              1,
              "#f0f921"
             ]
            ],
            "type": "heatmap"
           }
          ],
          "heatmapgl": [
           {
            "colorbar": {
             "outlinewidth": 0,
             "ticks": ""
            },
            "colorscale": [
             [
              0,
              "#0d0887"
             ],
             [
              0.1111111111111111,
              "#46039f"
             ],
             [
              0.2222222222222222,
              "#7201a8"
             ],
             [
              0.3333333333333333,
              "#9c179e"
             ],
             [
              0.4444444444444444,
              "#bd3786"
             ],
             [
              0.5555555555555556,
              "#d8576b"
             ],
             [
              0.6666666666666666,
              "#ed7953"
             ],
             [
              0.7777777777777778,
              "#fb9f3a"
             ],
             [
              0.8888888888888888,
              "#fdca26"
             ],
             [
              1,
              "#f0f921"
             ]
            ],
            "type": "heatmapgl"
           }
          ],
          "histogram": [
           {
            "marker": {
             "pattern": {
              "fillmode": "overlay",
              "size": 10,
              "solidity": 0.2
             }
            },
            "type": "histogram"
           }
          ],
          "histogram2d": [
           {
            "colorbar": {
             "outlinewidth": 0,
             "ticks": ""
            },
            "colorscale": [
             [
              0,
              "#0d0887"
             ],
             [
              0.1111111111111111,
              "#46039f"
             ],
             [
              0.2222222222222222,
              "#7201a8"
             ],
             [
              0.3333333333333333,
              "#9c179e"
             ],
             [
              0.4444444444444444,
              "#bd3786"
             ],
             [
              0.5555555555555556,
              "#d8576b"
             ],
             [
              0.6666666666666666,
              "#ed7953"
             ],
             [
              0.7777777777777778,
              "#fb9f3a"
             ],
             [
              0.8888888888888888,
              "#fdca26"
             ],
             [
              1,
              "#f0f921"
             ]
            ],
            "type": "histogram2d"
           }
          ],
          "histogram2dcontour": [
           {
            "colorbar": {
             "outlinewidth": 0,
             "ticks": ""
            },
            "colorscale": [
             [
              0,
              "#0d0887"
             ],
             [
              0.1111111111111111,
              "#46039f"
             ],
             [
              0.2222222222222222,
              "#7201a8"
             ],
             [
              0.3333333333333333,
              "#9c179e"
             ],
             [
              0.4444444444444444,
              "#bd3786"
             ],
             [
              0.5555555555555556,
              "#d8576b"
             ],
             [
              0.6666666666666666,
              "#ed7953"
             ],
             [
              0.7777777777777778,
              "#fb9f3a"
             ],
             [
              0.8888888888888888,
              "#fdca26"
             ],
             [
              1,
              "#f0f921"
             ]
            ],
            "type": "histogram2dcontour"
           }
          ],
          "mesh3d": [
           {
            "colorbar": {
             "outlinewidth": 0,
             "ticks": ""
            },
            "type": "mesh3d"
           }
          ],
          "parcoords": [
           {
            "line": {
             "colorbar": {
              "outlinewidth": 0,
              "ticks": ""
             }
            },
            "type": "parcoords"
           }
          ],
          "pie": [
           {
            "automargin": true,
            "type": "pie"
           }
          ],
          "scatter": [
           {
            "fillpattern": {
             "fillmode": "overlay",
             "size": 10,
             "solidity": 0.2
            },
            "type": "scatter"
           }
          ],
          "scatter3d": [
           {
            "line": {
             "colorbar": {
              "outlinewidth": 0,
              "ticks": ""
             }
            },
            "marker": {
             "colorbar": {
              "outlinewidth": 0,
              "ticks": ""
             }
            },
            "type": "scatter3d"
           }
          ],
          "scattercarpet": [
           {
            "marker": {
             "colorbar": {
              "outlinewidth": 0,
              "ticks": ""
             }
            },
            "type": "scattercarpet"
           }
          ],
          "scattergeo": [
           {
            "marker": {
             "colorbar": {
              "outlinewidth": 0,
              "ticks": ""
             }
            },
            "type": "scattergeo"
           }
          ],
          "scattergl": [
           {
            "marker": {
             "colorbar": {
              "outlinewidth": 0,
              "ticks": ""
             }
            },
            "type": "scattergl"
           }
          ],
          "scattermapbox": [
           {
            "marker": {
             "colorbar": {
              "outlinewidth": 0,
              "ticks": ""
             }
            },
            "type": "scattermapbox"
           }
          ],
          "scatterpolar": [
           {
            "marker": {
             "colorbar": {
              "outlinewidth": 0,
              "ticks": ""
             }
            },
            "type": "scatterpolar"
           }
          ],
          "scatterpolargl": [
           {
            "marker": {
             "colorbar": {
              "outlinewidth": 0,
              "ticks": ""
             }
            },
            "type": "scatterpolargl"
           }
          ],
          "scatterternary": [
           {
            "marker": {
             "colorbar": {
              "outlinewidth": 0,
              "ticks": ""
             }
            },
            "type": "scatterternary"
           }
          ],
          "surface": [
           {
            "colorbar": {
             "outlinewidth": 0,
             "ticks": ""
            },
            "colorscale": [
             [
              0,
              "#0d0887"
             ],
             [
              0.1111111111111111,
              "#46039f"
             ],
             [
              0.2222222222222222,
              "#7201a8"
             ],
             [
              0.3333333333333333,
              "#9c179e"
             ],
             [
              0.4444444444444444,
              "#bd3786"
             ],
             [
              0.5555555555555556,
              "#d8576b"
             ],
             [
              0.6666666666666666,
              "#ed7953"
             ],
             [
              0.7777777777777778,
              "#fb9f3a"
             ],
             [
              0.8888888888888888,
              "#fdca26"
             ],
             [
              1,
              "#f0f921"
             ]
            ],
            "type": "surface"
           }
          ],
          "table": [
           {
            "cells": {
             "fill": {
              "color": "#EBF0F8"
             },
             "line": {
              "color": "white"
             }
            },
            "header": {
             "fill": {
              "color": "#C8D4E3"
             },
             "line": {
              "color": "white"
             }
            },
            "type": "table"
           }
          ]
         },
         "layout": {
          "annotationdefaults": {
           "arrowcolor": "#2a3f5f",
           "arrowhead": 0,
           "arrowwidth": 1
          },
          "autotypenumbers": "strict",
          "coloraxis": {
           "colorbar": {
            "outlinewidth": 0,
            "ticks": ""
           }
          },
          "colorscale": {
           "diverging": [
            [
             0,
             "#8e0152"
            ],
            [
             0.1,
             "#c51b7d"
            ],
            [
             0.2,
             "#de77ae"
            ],
            [
             0.3,
             "#f1b6da"
            ],
            [
             0.4,
             "#fde0ef"
            ],
            [
             0.5,
             "#f7f7f7"
            ],
            [
             0.6,
             "#e6f5d0"
            ],
            [
             0.7,
             "#b8e186"
            ],
            [
             0.8,
             "#7fbc41"
            ],
            [
             0.9,
             "#4d9221"
            ],
            [
             1,
             "#276419"
            ]
           ],
           "sequential": [
            [
             0,
             "#0d0887"
            ],
            [
             0.1111111111111111,
             "#46039f"
            ],
            [
             0.2222222222222222,
             "#7201a8"
            ],
            [
             0.3333333333333333,
             "#9c179e"
            ],
            [
             0.4444444444444444,
             "#bd3786"
            ],
            [
             0.5555555555555556,
             "#d8576b"
            ],
            [
             0.6666666666666666,
             "#ed7953"
            ],
            [
             0.7777777777777778,
             "#fb9f3a"
            ],
            [
             0.8888888888888888,
             "#fdca26"
            ],
            [
             1,
             "#f0f921"
            ]
           ],
           "sequentialminus": [
            [
             0,
             "#0d0887"
            ],
            [
             0.1111111111111111,
             "#46039f"
            ],
            [
             0.2222222222222222,
             "#7201a8"
            ],
            [
             0.3333333333333333,
             "#9c179e"
            ],
            [
             0.4444444444444444,
             "#bd3786"
            ],
            [
             0.5555555555555556,
             "#d8576b"
            ],
            [
             0.6666666666666666,
             "#ed7953"
            ],
            [
             0.7777777777777778,
             "#fb9f3a"
            ],
            [
             0.8888888888888888,
             "#fdca26"
            ],
            [
             1,
             "#f0f921"
            ]
           ]
          },
          "colorway": [
           "#636efa",
           "#EF553B",
           "#00cc96",
           "#ab63fa",
           "#FFA15A",
           "#19d3f3",
           "#FF6692",
           "#B6E880",
           "#FF97FF",
           "#FECB52"
          ],
          "font": {
           "color": "#2a3f5f"
          },
          "geo": {
           "bgcolor": "white",
           "lakecolor": "white",
           "landcolor": "#E5ECF6",
           "showlakes": true,
           "showland": true,
           "subunitcolor": "white"
          },
          "hoverlabel": {
           "align": "left"
          },
          "hovermode": "closest",
          "mapbox": {
           "style": "light"
          },
          "paper_bgcolor": "white",
          "plot_bgcolor": "#E5ECF6",
          "polar": {
           "angularaxis": {
            "gridcolor": "white",
            "linecolor": "white",
            "ticks": ""
           },
           "bgcolor": "#E5ECF6",
           "radialaxis": {
            "gridcolor": "white",
            "linecolor": "white",
            "ticks": ""
           }
          },
          "scene": {
           "xaxis": {
            "backgroundcolor": "#E5ECF6",
            "gridcolor": "white",
            "gridwidth": 2,
            "linecolor": "white",
            "showbackground": true,
            "ticks": "",
            "zerolinecolor": "white"
           },
           "yaxis": {
            "backgroundcolor": "#E5ECF6",
            "gridcolor": "white",
            "gridwidth": 2,
            "linecolor": "white",
            "showbackground": true,
            "ticks": "",
            "zerolinecolor": "white"
           },
           "zaxis": {
            "backgroundcolor": "#E5ECF6",
            "gridcolor": "white",
            "gridwidth": 2,
            "linecolor": "white",
            "showbackground": true,
            "ticks": "",
            "zerolinecolor": "white"
           }
          },
          "shapedefaults": {
           "line": {
            "color": "#2a3f5f"
           }
          },
          "ternary": {
           "aaxis": {
            "gridcolor": "white",
            "linecolor": "white",
            "ticks": ""
           },
           "baxis": {
            "gridcolor": "white",
            "linecolor": "white",
            "ticks": ""
           },
           "bgcolor": "#E5ECF6",
           "caxis": {
            "gridcolor": "white",
            "linecolor": "white",
            "ticks": ""
           }
          },
          "title": {
           "x": 0.05
          },
          "xaxis": {
           "automargin": true,
           "gridcolor": "white",
           "linecolor": "white",
           "ticks": "",
           "title": {
            "standoff": 15
           },
           "zerolinecolor": "white",
           "zerolinewidth": 2
          },
          "yaxis": {
           "automargin": true,
           "gridcolor": "white",
           "linecolor": "white",
           "ticks": "",
           "title": {
            "standoff": 15
           },
           "zerolinecolor": "white",
           "zerolinewidth": 2
          }
         }
        },
        "title": {
         "text": "Nr of total nuclei by Tissue Location"
        },
        "xaxis": {
         "anchor": "y",
         "domain": [
          0,
          1
         ],
         "title": {
          "text": "tissue_location"
         }
        },
        "yaxis": {
         "anchor": "x",
         "domain": [
          0,
          1
         ],
         "title": {
          "text": "nr_total_nuclei"
         }
        }
       }
      }
     },
     "metadata": {},
     "output_type": "display_data"
    }
   ],
   "source": [
    "# Create the plot\n",
    "fig = px.scatter(df, x='tissue_location', y='nr_total_nuclei',\n",
    "                 hover_data=['staining_id','index'], title='Nr of total nuclei by Tissue Location')\n",
    "\n",
    "# Show the plot\n",
    "fig.show()"
   ]
  },
  {
   "cell_type": "code",
   "execution_count": 81,
   "metadata": {},
   "outputs": [
    {
     "data": {
      "application/vnd.plotly.v1+json": {
       "config": {
        "plotlyServerURL": "https://plot.ly"
       },
       "data": [
        {
         "customdata": [
          [
           "CA1",
           0
          ],
          [
           "CA3",
           1
          ],
          [
           "CTX1",
           2
          ],
          [
           "CTX2",
           3
          ],
          [
           "CTX3",
           4
          ],
          [
           "DG",
           5
          ],
          [
           "CA1",
           6
          ],
          [
           "CA3",
           7
          ],
          [
           "CTX1",
           8
          ],
          [
           "CTX2",
           9
          ],
          [
           "CTX3",
           10
          ],
          [
           "DG",
           11
          ],
          [
           "CA1",
           12
          ],
          [
           "CA3",
           13
          ],
          [
           "CTX1",
           14
          ],
          [
           "CTX2",
           15
          ],
          [
           "CTX3",
           16
          ],
          [
           "DG",
           17
          ],
          [
           "CA1",
           18
          ],
          [
           "CA3",
           19
          ],
          [
           "CTX1",
           20
          ],
          [
           "CTX2",
           21
          ],
          [
           "CTX3",
           22
          ],
          [
           "DG",
           23
          ],
          [
           "CA1",
           24
          ],
          [
           "CA3",
           25
          ],
          [
           "CTX1",
           26
          ],
          [
           "CTX2",
           27
          ],
          [
           "CTX3",
           28
          ],
          [
           "DG",
           29
          ],
          [
           "CA1",
           30
          ],
          [
           "CA3",
           31
          ],
          [
           "CTX1",
           32
          ],
          [
           "CTX2",
           33
          ],
          [
           "CTX3",
           34
          ],
          [
           "DG",
           35
          ],
          [
           "CA1",
           36
          ],
          [
           "CA3",
           37
          ],
          [
           "CTX1",
           38
          ],
          [
           "CTX2",
           39
          ],
          [
           "CTX3",
           40
          ],
          [
           "DG",
           41
          ],
          [
           "CA1",
           42
          ],
          [
           "CA3",
           43
          ],
          [
           "CTX1",
           44
          ],
          [
           "CTX2",
           45
          ],
          [
           "CTX3",
           46
          ],
          [
           "DG",
           47
          ],
          [
           "CA1",
           48
          ],
          [
           "CA3",
           49
          ],
          [
           "CTX1",
           50
          ],
          [
           "CTX2",
           51
          ],
          [
           "CTX3",
           52
          ],
          [
           "DG",
           53
          ],
          [
           "CA1",
           54
          ],
          [
           "CA3",
           55
          ],
          [
           "CTX1",
           56
          ],
          [
           "CTX2",
           57
          ],
          [
           "CTX3",
           58
          ],
          [
           "DG",
           59
          ],
          [
           "CA1",
           60
          ],
          [
           "CA3",
           61
          ],
          [
           "CTX1",
           62
          ],
          [
           "CTX2",
           63
          ],
          [
           "CTX3",
           64
          ],
          [
           "DG",
           65
          ],
          [
           "DG",
           66
          ],
          [
           "CA1",
           67
          ],
          [
           "CA3",
           68
          ],
          [
           "CTX1",
           69
          ],
          [
           "CTX2",
           70
          ],
          [
           "CTX3",
           71
          ],
          [
           "DG",
           72
          ],
          [
           "CA1",
           73
          ],
          [
           "CA3",
           74
          ],
          [
           "CTX1",
           75
          ],
          [
           "CTX2",
           76
          ],
          [
           "CTX3",
           77
          ],
          [
           "DG",
           78
          ],
          [
           "CA1",
           79
          ],
          [
           "CA3",
           80
          ],
          [
           "CTX1",
           81
          ],
          [
           "CTX2",
           82
          ],
          [
           "CTX3",
           83
          ],
          [
           "DG",
           84
          ],
          [
           "CA1",
           85
          ],
          [
           "CA3",
           86
          ],
          [
           "CTX1",
           87
          ],
          [
           "CTX2",
           88
          ],
          [
           "CTX3",
           89
          ],
          [
           "DG",
           90
          ],
          [
           "CA1",
           91
          ],
          [
           "CA3",
           92
          ],
          [
           "CTX1",
           93
          ],
          [
           "CTX2",
           94
          ],
          [
           "CTX3",
           95
          ],
          [
           "DG",
           96
          ],
          [
           "CA1",
           97
          ],
          [
           "CA3",
           98
          ],
          [
           "CTX1",
           99
          ],
          [
           "CTX2",
           100
          ],
          [
           "CTX3",
           101
          ],
          [
           "DG",
           102
          ],
          [
           "CA1",
           103
          ],
          [
           "CA3",
           104
          ],
          [
           "CTX1",
           105
          ],
          [
           "CTX2",
           106
          ],
          [
           "CTX3",
           107
          ],
          [
           "DG",
           108
          ],
          [
           "CA1",
           109
          ],
          [
           "CA3",
           110
          ],
          [
           "CTX1",
           111
          ],
          [
           "CTX2",
           112
          ],
          [
           "CTX3",
           113
          ],
          [
           "DG",
           114
          ],
          [
           "CA1",
           115
          ],
          [
           "CA3",
           116
          ],
          [
           "CTX1",
           117
          ],
          [
           "CTX2",
           118
          ],
          [
           "CTX3",
           119
          ],
          [
           "DG",
           120
          ],
          [
           "CA1",
           121
          ],
          [
           "CA3",
           122
          ],
          [
           "CTX1",
           123
          ],
          [
           "CTX2",
           124
          ],
          [
           "CTX3",
           125
          ],
          [
           "DG",
           126
          ],
          [
           "DG",
           127
          ],
          [
           "CA1",
           128
          ],
          [
           "CA3",
           129
          ],
          [
           "CTX1",
           130
          ],
          [
           "CTX2",
           131
          ],
          [
           "CTX3",
           132
          ],
          [
           "DG",
           133
          ],
          [
           "CA1",
           134
          ],
          [
           "CA3",
           135
          ],
          [
           "CTX1",
           136
          ],
          [
           "CTX2",
           137
          ],
          [
           "CTX3",
           138
          ],
          [
           "DG",
           139
          ],
          [
           "CA1",
           140
          ],
          [
           "CA3",
           141
          ],
          [
           "CTX1",
           142
          ],
          [
           "CTX2",
           143
          ],
          [
           "CTX3",
           144
          ],
          [
           "DG",
           145
          ],
          [
           "CA1",
           146
          ],
          [
           "CA3",
           147
          ],
          [
           "CTX1",
           148
          ],
          [
           "CTX2",
           149
          ],
          [
           "CTX3",
           150
          ],
          [
           "DG",
           151
          ],
          [
           "CA1",
           152
          ],
          [
           "CA3",
           153
          ],
          [
           "CTX1",
           154
          ],
          [
           "CTX2",
           155
          ],
          [
           "CTX3",
           156
          ],
          [
           "DG",
           157
          ],
          [
           "CA1",
           158
          ],
          [
           "CA3",
           159
          ],
          [
           "CTX1",
           160
          ],
          [
           "DG",
           161
          ],
          [
           "CA1",
           162
          ],
          [
           "CA3",
           163
          ],
          [
           "CTX1",
           164
          ],
          [
           "CTX2",
           165
          ],
          [
           "CTX3",
           166
          ],
          [
           "DG",
           167
          ],
          [
           "CA1",
           168
          ],
          [
           "CA3",
           169
          ],
          [
           "CTX1",
           170
          ],
          [
           "CTX2",
           171
          ],
          [
           "CTX3",
           172
          ],
          [
           "DG",
           173
          ],
          [
           "CA1",
           174
          ],
          [
           "CA3",
           175
          ],
          [
           "CTX1",
           176
          ],
          [
           "CTX2",
           177
          ],
          [
           "CTX3",
           178
          ],
          [
           "DG",
           179
          ],
          [
           "CA1",
           180
          ],
          [
           "CA3",
           181
          ],
          [
           "CTX1",
           182
          ],
          [
           "CTX2",
           183
          ],
          [
           "CTX3",
           184
          ],
          [
           "DG",
           185
          ],
          [
           "CA1",
           186
          ],
          [
           "CA3",
           187
          ],
          [
           "CTX1",
           188
          ],
          [
           "CTX2",
           189
          ],
          [
           "CTX3",
           190
          ],
          [
           "DG",
           191
          ],
          [
           "CA1",
           192
          ],
          [
           "CA3",
           193
          ],
          [
           "CTX1",
           194
          ],
          [
           "CTX2",
           195
          ],
          [
           "CTX3",
           196
          ],
          [
           "DG",
           197
          ],
          [
           "CA1",
           198
          ],
          [
           "CA3",
           199
          ],
          [
           "CTX1",
           200
          ],
          [
           "CTX2",
           201
          ],
          [
           "CTX3",
           202
          ],
          [
           "DG",
           203
          ],
          [
           "CA1",
           204
          ],
          [
           "CA3",
           205
          ],
          [
           "CTX1",
           206
          ],
          [
           "CTX2",
           207
          ],
          [
           "CTX3",
           208
          ],
          [
           "DG",
           209
          ],
          [
           "CA1",
           210
          ],
          [
           "CA3",
           211
          ],
          [
           "CTX1",
           212
          ],
          [
           "CTX2",
           213
          ],
          [
           "CTX3",
           214
          ],
          [
           "DG",
           215
          ],
          [
           "CA1",
           216
          ],
          [
           "CA3",
           217
          ],
          [
           "CTX1",
           218
          ],
          [
           "CTX2",
           219
          ],
          [
           "CTX3",
           220
          ],
          [
           "DG",
           221
          ],
          [
           "CA1",
           222
          ],
          [
           "CA3",
           223
          ],
          [
           "CTX1",
           224
          ],
          [
           "CTX2",
           225
          ],
          [
           "CTX3",
           226
          ],
          [
           "DG",
           227
          ],
          [
           "CA1",
           228
          ],
          [
           "CA3",
           229
          ],
          [
           "CTX1",
           230
          ],
          [
           "CTX2",
           231
          ],
          [
           "CTX3",
           232
          ],
          [
           "DG",
           233
          ],
          [
           "CA1",
           234
          ],
          [
           "CA3",
           235
          ],
          [
           "CTX1",
           236
          ],
          [
           "CTX2",
           237
          ],
          [
           "CTX3",
           238
          ],
          [
           "DG",
           239
          ],
          [
           "CA1",
           240
          ],
          [
           "CA3",
           241
          ],
          [
           "CTX1",
           242
          ],
          [
           "CTX2",
           243
          ],
          [
           "CTX3",
           244
          ],
          [
           "DG",
           245
          ],
          [
           "CA1",
           246
          ],
          [
           "CA3",
           247
          ],
          [
           "CTX1",
           248
          ],
          [
           "CTX2",
           249
          ],
          [
           "CTX3",
           250
          ],
          [
           "DG",
           251
          ]
         ],
         "hovertemplate": "staining_id=%{x}<br>nr_glia_+_nuclei=%{y}<br>tissue_location=%{customdata[0]}<br>index=%{customdata[1]}<extra></extra>",
         "legendgroup": "",
         "marker": {
          "color": "#636efa",
          "symbol": "circle"
         },
         "mode": "markers",
         "name": "",
         "orientation": "v",
         "showlegend": false,
         "type": "scatter",
         "x": [
          16,
          16,
          16,
          16,
          16,
          16,
          17,
          17,
          17,
          17,
          17,
          17,
          18,
          18,
          18,
          18,
          18,
          18,
          19,
          19,
          19,
          19,
          19,
          19,
          20,
          20,
          20,
          20,
          20,
          20,
          21,
          21,
          21,
          21,
          21,
          21,
          22,
          22,
          22,
          22,
          22,
          22,
          23,
          23,
          23,
          23,
          23,
          23,
          24,
          24,
          24,
          24,
          24,
          24,
          25,
          25,
          25,
          25,
          25,
          25,
          26,
          26,
          26,
          26,
          26,
          26,
          27,
          28,
          28,
          28,
          28,
          28,
          28,
          29,
          29,
          29,
          29,
          29,
          29,
          30,
          30,
          30,
          30,
          30,
          30,
          31,
          31,
          31,
          31,
          31,
          31,
          32,
          32,
          32,
          32,
          32,
          32,
          33,
          33,
          33,
          33,
          33,
          33,
          34,
          34,
          34,
          34,
          34,
          34,
          35,
          35,
          35,
          35,
          35,
          35,
          36,
          36,
          36,
          36,
          36,
          36,
          37,
          37,
          37,
          37,
          37,
          37,
          38,
          39,
          39,
          39,
          39,
          39,
          39,
          40,
          40,
          40,
          40,
          40,
          40,
          41,
          41,
          41,
          41,
          41,
          41,
          42,
          42,
          42,
          42,
          42,
          42,
          43,
          43,
          43,
          43,
          43,
          43,
          44,
          44,
          44,
          44,
          45,
          45,
          45,
          45,
          45,
          45,
          46,
          46,
          46,
          46,
          46,
          46,
          47,
          47,
          47,
          47,
          47,
          47,
          48,
          48,
          48,
          48,
          48,
          48,
          49,
          49,
          49,
          49,
          49,
          49,
          50,
          50,
          50,
          50,
          50,
          50,
          51,
          51,
          51,
          51,
          51,
          51,
          52,
          52,
          52,
          52,
          52,
          52,
          53,
          53,
          53,
          53,
          53,
          53,
          54,
          54,
          54,
          54,
          54,
          54,
          55,
          55,
          55,
          55,
          55,
          55,
          56,
          56,
          56,
          56,
          56,
          56,
          57,
          57,
          57,
          57,
          57,
          57,
          58,
          58,
          58,
          58,
          58,
          58,
          59,
          59,
          59,
          59,
          59,
          59
         ],
         "xaxis": "x",
         "y": [
          168,
          177,
          49,
          240,
          138,
          207,
          11,
          24,
          21,
          58,
          40,
          90,
          20,
          19,
          24,
          23,
          17,
          82,
          47,
          44,
          130,
          46,
          73,
          63,
          8,
          10,
          8,
          17,
          3,
          6,
          11,
          5,
          22,
          16,
          28,
          18,
          18,
          7,
          13,
          19,
          11,
          18,
          7,
          7,
          28,
          5,
          16,
          13,
          9,
          4,
          22,
          29,
          20,
          7,
          11,
          15,
          22,
          28,
          13,
          15,
          14,
          7,
          18,
          19,
          41,
          15,
          9,
          3,
          4,
          7,
          17,
          12,
          24,
          9,
          6,
          23,
          27,
          14,
          8,
          10,
          6,
          21,
          21,
          14,
          7,
          14,
          3,
          19,
          18,
          17,
          13,
          26,
          33,
          59,
          76,
          50,
          71,
          6,
          11,
          10,
          14,
          9,
          11,
          19,
          8,
          40,
          54,
          33,
          29,
          12,
          45,
          28,
          151,
          99,
          116,
          18,
          8,
          20,
          31,
          14,
          9,
          8,
          14,
          19,
          30,
          38,
          10,
          8,
          6,
          7,
          7,
          8,
          5,
          10,
          5,
          8,
          22,
          17,
          23,
          5,
          4,
          7,
          0,
          8,
          7,
          6,
          4,
          10,
          11,
          19,
          10,
          5,
          17,
          9,
          34,
          29,
          19,
          36,
          43,
          35,
          135,
          83,
          16,
          11,
          20,
          27,
          25,
          23,
          71,
          63,
          113,
          152,
          121,
          92,
          18,
          18,
          34,
          103,
          52,
          18,
          7,
          5,
          35,
          22,
          21,
          13,
          24,
          19,
          30,
          25,
          15,
          29,
          21,
          11,
          27,
          21,
          32,
          21,
          21,
          14,
          18,
          28,
          38,
          19,
          9,
          7,
          26,
          41,
          33,
          23,
          10,
          7,
          43,
          36,
          22,
          19,
          7,
          3,
          23,
          16,
          23,
          19,
          9,
          4,
          9,
          14,
          8,
          12,
          16,
          20,
          22,
          23,
          34,
          18,
          14,
          16,
          19,
          17,
          18,
          28,
          7,
          6,
          19,
          20,
          9,
          4,
          10,
          8,
          13,
          23,
          27,
          9
         ],
         "yaxis": "y"
        }
       ],
       "layout": {
        "legend": {
         "tracegroupgap": 0
        },
        "template": {
         "data": {
          "bar": [
           {
            "error_x": {
             "color": "#2a3f5f"
            },
            "error_y": {
             "color": "#2a3f5f"
            },
            "marker": {
             "line": {
              "color": "#E5ECF6",
              "width": 0.5
             },
             "pattern": {
              "fillmode": "overlay",
              "size": 10,
              "solidity": 0.2
             }
            },
            "type": "bar"
           }
          ],
          "barpolar": [
           {
            "marker": {
             "line": {
              "color": "#E5ECF6",
              "width": 0.5
             },
             "pattern": {
              "fillmode": "overlay",
              "size": 10,
              "solidity": 0.2
             }
            },
            "type": "barpolar"
           }
          ],
          "carpet": [
           {
            "aaxis": {
             "endlinecolor": "#2a3f5f",
             "gridcolor": "white",
             "linecolor": "white",
             "minorgridcolor": "white",
             "startlinecolor": "#2a3f5f"
            },
            "baxis": {
             "endlinecolor": "#2a3f5f",
             "gridcolor": "white",
             "linecolor": "white",
             "minorgridcolor": "white",
             "startlinecolor": "#2a3f5f"
            },
            "type": "carpet"
           }
          ],
          "choropleth": [
           {
            "colorbar": {
             "outlinewidth": 0,
             "ticks": ""
            },
            "type": "choropleth"
           }
          ],
          "contour": [
           {
            "colorbar": {
             "outlinewidth": 0,
             "ticks": ""
            },
            "colorscale": [
             [
              0,
              "#0d0887"
             ],
             [
              0.1111111111111111,
              "#46039f"
             ],
             [
              0.2222222222222222,
              "#7201a8"
             ],
             [
              0.3333333333333333,
              "#9c179e"
             ],
             [
              0.4444444444444444,
              "#bd3786"
             ],
             [
              0.5555555555555556,
              "#d8576b"
             ],
             [
              0.6666666666666666,
              "#ed7953"
             ],
             [
              0.7777777777777778,
              "#fb9f3a"
             ],
             [
              0.8888888888888888,
              "#fdca26"
             ],
             [
              1,
              "#f0f921"
             ]
            ],
            "type": "contour"
           }
          ],
          "contourcarpet": [
           {
            "colorbar": {
             "outlinewidth": 0,
             "ticks": ""
            },
            "type": "contourcarpet"
           }
          ],
          "heatmap": [
           {
            "colorbar": {
             "outlinewidth": 0,
             "ticks": ""
            },
            "colorscale": [
             [
              0,
              "#0d0887"
             ],
             [
              0.1111111111111111,
              "#46039f"
             ],
             [
              0.2222222222222222,
              "#7201a8"
             ],
             [
              0.3333333333333333,
              "#9c179e"
             ],
             [
              0.4444444444444444,
              "#bd3786"
             ],
             [
              0.5555555555555556,
              "#d8576b"
             ],
             [
              0.6666666666666666,
              "#ed7953"
             ],
             [
              0.7777777777777778,
              "#fb9f3a"
             ],
             [
              0.8888888888888888,
              "#fdca26"
             ],
             [
              1,
              "#f0f921"
             ]
            ],
            "type": "heatmap"
           }
          ],
          "heatmapgl": [
           {
            "colorbar": {
             "outlinewidth": 0,
             "ticks": ""
            },
            "colorscale": [
             [
              0,
              "#0d0887"
             ],
             [
              0.1111111111111111,
              "#46039f"
             ],
             [
              0.2222222222222222,
              "#7201a8"
             ],
             [
              0.3333333333333333,
              "#9c179e"
             ],
             [
              0.4444444444444444,
              "#bd3786"
             ],
             [
              0.5555555555555556,
              "#d8576b"
             ],
             [
              0.6666666666666666,
              "#ed7953"
             ],
             [
              0.7777777777777778,
              "#fb9f3a"
             ],
             [
              0.8888888888888888,
              "#fdca26"
             ],
             [
              1,
              "#f0f921"
             ]
            ],
            "type": "heatmapgl"
           }
          ],
          "histogram": [
           {
            "marker": {
             "pattern": {
              "fillmode": "overlay",
              "size": 10,
              "solidity": 0.2
             }
            },
            "type": "histogram"
           }
          ],
          "histogram2d": [
           {
            "colorbar": {
             "outlinewidth": 0,
             "ticks": ""
            },
            "colorscale": [
             [
              0,
              "#0d0887"
             ],
             [
              0.1111111111111111,
              "#46039f"
             ],
             [
              0.2222222222222222,
              "#7201a8"
             ],
             [
              0.3333333333333333,
              "#9c179e"
             ],
             [
              0.4444444444444444,
              "#bd3786"
             ],
             [
              0.5555555555555556,
              "#d8576b"
             ],
             [
              0.6666666666666666,
              "#ed7953"
             ],
             [
              0.7777777777777778,
              "#fb9f3a"
             ],
             [
              0.8888888888888888,
              "#fdca26"
             ],
             [
              1,
              "#f0f921"
             ]
            ],
            "type": "histogram2d"
           }
          ],
          "histogram2dcontour": [
           {
            "colorbar": {
             "outlinewidth": 0,
             "ticks": ""
            },
            "colorscale": [
             [
              0,
              "#0d0887"
             ],
             [
              0.1111111111111111,
              "#46039f"
             ],
             [
              0.2222222222222222,
              "#7201a8"
             ],
             [
              0.3333333333333333,
              "#9c179e"
             ],
             [
              0.4444444444444444,
              "#bd3786"
             ],
             [
              0.5555555555555556,
              "#d8576b"
             ],
             [
              0.6666666666666666,
              "#ed7953"
             ],
             [
              0.7777777777777778,
              "#fb9f3a"
             ],
             [
              0.8888888888888888,
              "#fdca26"
             ],
             [
              1,
              "#f0f921"
             ]
            ],
            "type": "histogram2dcontour"
           }
          ],
          "mesh3d": [
           {
            "colorbar": {
             "outlinewidth": 0,
             "ticks": ""
            },
            "type": "mesh3d"
           }
          ],
          "parcoords": [
           {
            "line": {
             "colorbar": {
              "outlinewidth": 0,
              "ticks": ""
             }
            },
            "type": "parcoords"
           }
          ],
          "pie": [
           {
            "automargin": true,
            "type": "pie"
           }
          ],
          "scatter": [
           {
            "fillpattern": {
             "fillmode": "overlay",
             "size": 10,
             "solidity": 0.2
            },
            "type": "scatter"
           }
          ],
          "scatter3d": [
           {
            "line": {
             "colorbar": {
              "outlinewidth": 0,
              "ticks": ""
             }
            },
            "marker": {
             "colorbar": {
              "outlinewidth": 0,
              "ticks": ""
             }
            },
            "type": "scatter3d"
           }
          ],
          "scattercarpet": [
           {
            "marker": {
             "colorbar": {
              "outlinewidth": 0,
              "ticks": ""
             }
            },
            "type": "scattercarpet"
           }
          ],
          "scattergeo": [
           {
            "marker": {
             "colorbar": {
              "outlinewidth": 0,
              "ticks": ""
             }
            },
            "type": "scattergeo"
           }
          ],
          "scattergl": [
           {
            "marker": {
             "colorbar": {
              "outlinewidth": 0,
              "ticks": ""
             }
            },
            "type": "scattergl"
           }
          ],
          "scattermapbox": [
           {
            "marker": {
             "colorbar": {
              "outlinewidth": 0,
              "ticks": ""
             }
            },
            "type": "scattermapbox"
           }
          ],
          "scatterpolar": [
           {
            "marker": {
             "colorbar": {
              "outlinewidth": 0,
              "ticks": ""
             }
            },
            "type": "scatterpolar"
           }
          ],
          "scatterpolargl": [
           {
            "marker": {
             "colorbar": {
              "outlinewidth": 0,
              "ticks": ""
             }
            },
            "type": "scatterpolargl"
           }
          ],
          "scatterternary": [
           {
            "marker": {
             "colorbar": {
              "outlinewidth": 0,
              "ticks": ""
             }
            },
            "type": "scatterternary"
           }
          ],
          "surface": [
           {
            "colorbar": {
             "outlinewidth": 0,
             "ticks": ""
            },
            "colorscale": [
             [
              0,
              "#0d0887"
             ],
             [
              0.1111111111111111,
              "#46039f"
             ],
             [
              0.2222222222222222,
              "#7201a8"
             ],
             [
              0.3333333333333333,
              "#9c179e"
             ],
             [
              0.4444444444444444,
              "#bd3786"
             ],
             [
              0.5555555555555556,
              "#d8576b"
             ],
             [
              0.6666666666666666,
              "#ed7953"
             ],
             [
              0.7777777777777778,
              "#fb9f3a"
             ],
             [
              0.8888888888888888,
              "#fdca26"
             ],
             [
              1,
              "#f0f921"
             ]
            ],
            "type": "surface"
           }
          ],
          "table": [
           {
            "cells": {
             "fill": {
              "color": "#EBF0F8"
             },
             "line": {
              "color": "white"
             }
            },
            "header": {
             "fill": {
              "color": "#C8D4E3"
             },
             "line": {
              "color": "white"
             }
            },
            "type": "table"
           }
          ]
         },
         "layout": {
          "annotationdefaults": {
           "arrowcolor": "#2a3f5f",
           "arrowhead": 0,
           "arrowwidth": 1
          },
          "autotypenumbers": "strict",
          "coloraxis": {
           "colorbar": {
            "outlinewidth": 0,
            "ticks": ""
           }
          },
          "colorscale": {
           "diverging": [
            [
             0,
             "#8e0152"
            ],
            [
             0.1,
             "#c51b7d"
            ],
            [
             0.2,
             "#de77ae"
            ],
            [
             0.3,
             "#f1b6da"
            ],
            [
             0.4,
             "#fde0ef"
            ],
            [
             0.5,
             "#f7f7f7"
            ],
            [
             0.6,
             "#e6f5d0"
            ],
            [
             0.7,
             "#b8e186"
            ],
            [
             0.8,
             "#7fbc41"
            ],
            [
             0.9,
             "#4d9221"
            ],
            [
             1,
             "#276419"
            ]
           ],
           "sequential": [
            [
             0,
             "#0d0887"
            ],
            [
             0.1111111111111111,
             "#46039f"
            ],
            [
             0.2222222222222222,
             "#7201a8"
            ],
            [
             0.3333333333333333,
             "#9c179e"
            ],
            [
             0.4444444444444444,
             "#bd3786"
            ],
            [
             0.5555555555555556,
             "#d8576b"
            ],
            [
             0.6666666666666666,
             "#ed7953"
            ],
            [
             0.7777777777777778,
             "#fb9f3a"
            ],
            [
             0.8888888888888888,
             "#fdca26"
            ],
            [
             1,
             "#f0f921"
            ]
           ],
           "sequentialminus": [
            [
             0,
             "#0d0887"
            ],
            [
             0.1111111111111111,
             "#46039f"
            ],
            [
             0.2222222222222222,
             "#7201a8"
            ],
            [
             0.3333333333333333,
             "#9c179e"
            ],
            [
             0.4444444444444444,
             "#bd3786"
            ],
            [
             0.5555555555555556,
             "#d8576b"
            ],
            [
             0.6666666666666666,
             "#ed7953"
            ],
            [
             0.7777777777777778,
             "#fb9f3a"
            ],
            [
             0.8888888888888888,
             "#fdca26"
            ],
            [
             1,
             "#f0f921"
            ]
           ]
          },
          "colorway": [
           "#636efa",
           "#EF553B",
           "#00cc96",
           "#ab63fa",
           "#FFA15A",
           "#19d3f3",
           "#FF6692",
           "#B6E880",
           "#FF97FF",
           "#FECB52"
          ],
          "font": {
           "color": "#2a3f5f"
          },
          "geo": {
           "bgcolor": "white",
           "lakecolor": "white",
           "landcolor": "#E5ECF6",
           "showlakes": true,
           "showland": true,
           "subunitcolor": "white"
          },
          "hoverlabel": {
           "align": "left"
          },
          "hovermode": "closest",
          "mapbox": {
           "style": "light"
          },
          "paper_bgcolor": "white",
          "plot_bgcolor": "#E5ECF6",
          "polar": {
           "angularaxis": {
            "gridcolor": "white",
            "linecolor": "white",
            "ticks": ""
           },
           "bgcolor": "#E5ECF6",
           "radialaxis": {
            "gridcolor": "white",
            "linecolor": "white",
            "ticks": ""
           }
          },
          "scene": {
           "xaxis": {
            "backgroundcolor": "#E5ECF6",
            "gridcolor": "white",
            "gridwidth": 2,
            "linecolor": "white",
            "showbackground": true,
            "ticks": "",
            "zerolinecolor": "white"
           },
           "yaxis": {
            "backgroundcolor": "#E5ECF6",
            "gridcolor": "white",
            "gridwidth": 2,
            "linecolor": "white",
            "showbackground": true,
            "ticks": "",
            "zerolinecolor": "white"
           },
           "zaxis": {
            "backgroundcolor": "#E5ECF6",
            "gridcolor": "white",
            "gridwidth": 2,
            "linecolor": "white",
            "showbackground": true,
            "ticks": "",
            "zerolinecolor": "white"
           }
          },
          "shapedefaults": {
           "line": {
            "color": "#2a3f5f"
           }
          },
          "ternary": {
           "aaxis": {
            "gridcolor": "white",
            "linecolor": "white",
            "ticks": ""
           },
           "baxis": {
            "gridcolor": "white",
            "linecolor": "white",
            "ticks": ""
           },
           "bgcolor": "#E5ECF6",
           "caxis": {
            "gridcolor": "white",
            "linecolor": "white",
            "ticks": ""
           }
          },
          "title": {
           "x": 0.05
          },
          "xaxis": {
           "automargin": true,
           "gridcolor": "white",
           "linecolor": "white",
           "ticks": "",
           "title": {
            "standoff": 15
           },
           "zerolinecolor": "white",
           "zerolinewidth": 2
          },
          "yaxis": {
           "automargin": true,
           "gridcolor": "white",
           "linecolor": "white",
           "ticks": "",
           "title": {
            "standoff": 15
           },
           "zerolinecolor": "white",
           "zerolinewidth": 2
          }
         }
        },
        "title": {
         "text": "Nr of glia+ nuclei by Sample"
        },
        "xaxis": {
         "anchor": "y",
         "domain": [
          0,
          1
         ],
         "title": {
          "text": "staining_id"
         }
        },
        "yaxis": {
         "anchor": "x",
         "domain": [
          0,
          1
         ],
         "title": {
          "text": "nr_glia_+_nuclei"
         }
        }
       }
      }
     },
     "metadata": {},
     "output_type": "display_data"
    }
   ],
   "source": [
    "# Create the plot\n",
    "fig = px.scatter(df, x='staining_id', y='nr_glia_+_nuclei',\n",
    "                 hover_data=['tissue_location','index'], title='Nr of glia+ nuclei by Sample')\n",
    "\n",
    "# Show the plot\n",
    "fig.show()"
   ]
  },
  {
   "cell_type": "code",
   "execution_count": 82,
   "metadata": {},
   "outputs": [
    {
     "data": {
      "application/vnd.plotly.v1+json": {
       "config": {
        "plotlyServerURL": "https://plot.ly"
       },
       "data": [
        {
         "customdata": [
          [
           "CA1",
           0
          ],
          [
           "CA3",
           1
          ],
          [
           "CTX1",
           2
          ],
          [
           "CTX2",
           3
          ],
          [
           "CTX3",
           4
          ],
          [
           "DG",
           5
          ],
          [
           "CA1",
           6
          ],
          [
           "CA3",
           7
          ],
          [
           "CTX1",
           8
          ],
          [
           "CTX2",
           9
          ],
          [
           "CTX3",
           10
          ],
          [
           "DG",
           11
          ],
          [
           "CA1",
           12
          ],
          [
           "CA3",
           13
          ],
          [
           "CTX1",
           14
          ],
          [
           "CTX2",
           15
          ],
          [
           "CTX3",
           16
          ],
          [
           "DG",
           17
          ],
          [
           "CA1",
           18
          ],
          [
           "CA3",
           19
          ],
          [
           "CTX1",
           20
          ],
          [
           "CTX2",
           21
          ],
          [
           "CTX3",
           22
          ],
          [
           "DG",
           23
          ],
          [
           "CA1",
           24
          ],
          [
           "CA3",
           25
          ],
          [
           "CTX1",
           26
          ],
          [
           "CTX2",
           27
          ],
          [
           "CTX3",
           28
          ],
          [
           "DG",
           29
          ],
          [
           "CA1",
           30
          ],
          [
           "CA3",
           31
          ],
          [
           "CTX1",
           32
          ],
          [
           "CTX2",
           33
          ],
          [
           "CTX3",
           34
          ],
          [
           "DG",
           35
          ],
          [
           "CA1",
           36
          ],
          [
           "CA3",
           37
          ],
          [
           "CTX1",
           38
          ],
          [
           "CTX2",
           39
          ],
          [
           "CTX3",
           40
          ],
          [
           "DG",
           41
          ],
          [
           "CA1",
           42
          ],
          [
           "CA3",
           43
          ],
          [
           "CTX1",
           44
          ],
          [
           "CTX2",
           45
          ],
          [
           "CTX3",
           46
          ],
          [
           "DG",
           47
          ],
          [
           "CA1",
           48
          ],
          [
           "CA3",
           49
          ],
          [
           "CTX1",
           50
          ],
          [
           "CTX2",
           51
          ],
          [
           "CTX3",
           52
          ],
          [
           "DG",
           53
          ],
          [
           "CA1",
           54
          ],
          [
           "CA3",
           55
          ],
          [
           "CTX1",
           56
          ],
          [
           "CTX2",
           57
          ],
          [
           "CTX3",
           58
          ],
          [
           "DG",
           59
          ],
          [
           "CA1",
           60
          ],
          [
           "CA3",
           61
          ],
          [
           "CTX1",
           62
          ],
          [
           "CTX2",
           63
          ],
          [
           "CTX3",
           64
          ],
          [
           "DG",
           65
          ],
          [
           "DG",
           66
          ],
          [
           "CA1",
           67
          ],
          [
           "CA3",
           68
          ],
          [
           "CTX1",
           69
          ],
          [
           "CTX2",
           70
          ],
          [
           "CTX3",
           71
          ],
          [
           "DG",
           72
          ],
          [
           "CA1",
           73
          ],
          [
           "CA3",
           74
          ],
          [
           "CTX1",
           75
          ],
          [
           "CTX2",
           76
          ],
          [
           "CTX3",
           77
          ],
          [
           "DG",
           78
          ],
          [
           "CA1",
           79
          ],
          [
           "CA3",
           80
          ],
          [
           "CTX1",
           81
          ],
          [
           "CTX2",
           82
          ],
          [
           "CTX3",
           83
          ],
          [
           "DG",
           84
          ],
          [
           "CA1",
           85
          ],
          [
           "CA3",
           86
          ],
          [
           "CTX1",
           87
          ],
          [
           "CTX2",
           88
          ],
          [
           "CTX3",
           89
          ],
          [
           "DG",
           90
          ],
          [
           "CA1",
           91
          ],
          [
           "CA3",
           92
          ],
          [
           "CTX1",
           93
          ],
          [
           "CTX2",
           94
          ],
          [
           "CTX3",
           95
          ],
          [
           "DG",
           96
          ],
          [
           "CA1",
           97
          ],
          [
           "CA3",
           98
          ],
          [
           "CTX1",
           99
          ],
          [
           "CTX2",
           100
          ],
          [
           "CTX3",
           101
          ],
          [
           "DG",
           102
          ],
          [
           "CA1",
           103
          ],
          [
           "CA3",
           104
          ],
          [
           "CTX1",
           105
          ],
          [
           "CTX2",
           106
          ],
          [
           "CTX3",
           107
          ],
          [
           "DG",
           108
          ],
          [
           "CA1",
           109
          ],
          [
           "CA3",
           110
          ],
          [
           "CTX1",
           111
          ],
          [
           "CTX2",
           112
          ],
          [
           "CTX3",
           113
          ],
          [
           "DG",
           114
          ],
          [
           "CA1",
           115
          ],
          [
           "CA3",
           116
          ],
          [
           "CTX1",
           117
          ],
          [
           "CTX2",
           118
          ],
          [
           "CTX3",
           119
          ],
          [
           "DG",
           120
          ],
          [
           "CA1",
           121
          ],
          [
           "CA3",
           122
          ],
          [
           "CTX1",
           123
          ],
          [
           "CTX2",
           124
          ],
          [
           "CTX3",
           125
          ],
          [
           "DG",
           126
          ],
          [
           "DG",
           127
          ],
          [
           "CA1",
           128
          ],
          [
           "CA3",
           129
          ],
          [
           "CTX1",
           130
          ],
          [
           "CTX2",
           131
          ],
          [
           "CTX3",
           132
          ],
          [
           "DG",
           133
          ],
          [
           "CA1",
           134
          ],
          [
           "CA3",
           135
          ],
          [
           "CTX1",
           136
          ],
          [
           "CTX2",
           137
          ],
          [
           "CTX3",
           138
          ],
          [
           "DG",
           139
          ],
          [
           "CA1",
           140
          ],
          [
           "CA3",
           141
          ],
          [
           "CTX1",
           142
          ],
          [
           "CTX2",
           143
          ],
          [
           "CTX3",
           144
          ],
          [
           "DG",
           145
          ],
          [
           "CA1",
           146
          ],
          [
           "CA3",
           147
          ],
          [
           "CTX1",
           148
          ],
          [
           "CTX2",
           149
          ],
          [
           "CTX3",
           150
          ],
          [
           "DG",
           151
          ],
          [
           "CA1",
           152
          ],
          [
           "CA3",
           153
          ],
          [
           "CTX1",
           154
          ],
          [
           "CTX2",
           155
          ],
          [
           "CTX3",
           156
          ],
          [
           "DG",
           157
          ],
          [
           "CA1",
           158
          ],
          [
           "CA3",
           159
          ],
          [
           "CTX1",
           160
          ],
          [
           "DG",
           161
          ],
          [
           "CA1",
           162
          ],
          [
           "CA3",
           163
          ],
          [
           "CTX1",
           164
          ],
          [
           "CTX2",
           165
          ],
          [
           "CTX3",
           166
          ],
          [
           "DG",
           167
          ],
          [
           "CA1",
           168
          ],
          [
           "CA3",
           169
          ],
          [
           "CTX1",
           170
          ],
          [
           "CTX2",
           171
          ],
          [
           "CTX3",
           172
          ],
          [
           "DG",
           173
          ],
          [
           "CA1",
           174
          ],
          [
           "CA3",
           175
          ],
          [
           "CTX1",
           176
          ],
          [
           "CTX2",
           177
          ],
          [
           "CTX3",
           178
          ],
          [
           "DG",
           179
          ],
          [
           "CA1",
           180
          ],
          [
           "CA3",
           181
          ],
          [
           "CTX1",
           182
          ],
          [
           "CTX2",
           183
          ],
          [
           "CTX3",
           184
          ],
          [
           "DG",
           185
          ],
          [
           "CA1",
           186
          ],
          [
           "CA3",
           187
          ],
          [
           "CTX1",
           188
          ],
          [
           "CTX2",
           189
          ],
          [
           "CTX3",
           190
          ],
          [
           "DG",
           191
          ],
          [
           "CA1",
           192
          ],
          [
           "CA3",
           193
          ],
          [
           "CTX1",
           194
          ],
          [
           "CTX2",
           195
          ],
          [
           "CTX3",
           196
          ],
          [
           "DG",
           197
          ],
          [
           "CA1",
           198
          ],
          [
           "CA3",
           199
          ],
          [
           "CTX1",
           200
          ],
          [
           "CTX2",
           201
          ],
          [
           "CTX3",
           202
          ],
          [
           "DG",
           203
          ],
          [
           "CA1",
           204
          ],
          [
           "CA3",
           205
          ],
          [
           "CTX1",
           206
          ],
          [
           "CTX2",
           207
          ],
          [
           "CTX3",
           208
          ],
          [
           "DG",
           209
          ],
          [
           "CA1",
           210
          ],
          [
           "CA3",
           211
          ],
          [
           "CTX1",
           212
          ],
          [
           "CTX2",
           213
          ],
          [
           "CTX3",
           214
          ],
          [
           "DG",
           215
          ],
          [
           "CA1",
           216
          ],
          [
           "CA3",
           217
          ],
          [
           "CTX1",
           218
          ],
          [
           "CTX2",
           219
          ],
          [
           "CTX3",
           220
          ],
          [
           "DG",
           221
          ],
          [
           "CA1",
           222
          ],
          [
           "CA3",
           223
          ],
          [
           "CTX1",
           224
          ],
          [
           "CTX2",
           225
          ],
          [
           "CTX3",
           226
          ],
          [
           "DG",
           227
          ],
          [
           "CA1",
           228
          ],
          [
           "CA3",
           229
          ],
          [
           "CTX1",
           230
          ],
          [
           "CTX2",
           231
          ],
          [
           "CTX3",
           232
          ],
          [
           "DG",
           233
          ],
          [
           "CA1",
           234
          ],
          [
           "CA3",
           235
          ],
          [
           "CTX1",
           236
          ],
          [
           "CTX2",
           237
          ],
          [
           "CTX3",
           238
          ],
          [
           "DG",
           239
          ],
          [
           "CA1",
           240
          ],
          [
           "CA3",
           241
          ],
          [
           "CTX1",
           242
          ],
          [
           "CTX2",
           243
          ],
          [
           "CTX3",
           244
          ],
          [
           "DG",
           245
          ],
          [
           "CA1",
           246
          ],
          [
           "CA3",
           247
          ],
          [
           "CTX1",
           248
          ],
          [
           "CTX2",
           249
          ],
          [
           "CTX3",
           250
          ],
          [
           "DG",
           251
          ]
         ],
         "hovertemplate": "staining_id=%{x}<br>%_dna_damage_signal=%{y}<br>tissue_location=%{customdata[0]}<br>index=%{customdata[1]}<extra></extra>",
         "legendgroup": "",
         "marker": {
          "color": "#636efa",
          "symbol": "circle"
         },
         "mode": "markers",
         "name": "",
         "orientation": "v",
         "showlegend": false,
         "type": "scatter",
         "x": [
          16,
          16,
          16,
          16,
          16,
          16,
          17,
          17,
          17,
          17,
          17,
          17,
          18,
          18,
          18,
          18,
          18,
          18,
          19,
          19,
          19,
          19,
          19,
          19,
          20,
          20,
          20,
          20,
          20,
          20,
          21,
          21,
          21,
          21,
          21,
          21,
          22,
          22,
          22,
          22,
          22,
          22,
          23,
          23,
          23,
          23,
          23,
          23,
          24,
          24,
          24,
          24,
          24,
          24,
          25,
          25,
          25,
          25,
          25,
          25,
          26,
          26,
          26,
          26,
          26,
          26,
          27,
          28,
          28,
          28,
          28,
          28,
          28,
          29,
          29,
          29,
          29,
          29,
          29,
          30,
          30,
          30,
          30,
          30,
          30,
          31,
          31,
          31,
          31,
          31,
          31,
          32,
          32,
          32,
          32,
          32,
          32,
          33,
          33,
          33,
          33,
          33,
          33,
          34,
          34,
          34,
          34,
          34,
          34,
          35,
          35,
          35,
          35,
          35,
          35,
          36,
          36,
          36,
          36,
          36,
          36,
          37,
          37,
          37,
          37,
          37,
          37,
          38,
          39,
          39,
          39,
          39,
          39,
          39,
          40,
          40,
          40,
          40,
          40,
          40,
          41,
          41,
          41,
          41,
          41,
          41,
          42,
          42,
          42,
          42,
          42,
          42,
          43,
          43,
          43,
          43,
          43,
          43,
          44,
          44,
          44,
          44,
          45,
          45,
          45,
          45,
          45,
          45,
          46,
          46,
          46,
          46,
          46,
          46,
          47,
          47,
          47,
          47,
          47,
          47,
          48,
          48,
          48,
          48,
          48,
          48,
          49,
          49,
          49,
          49,
          49,
          49,
          50,
          50,
          50,
          50,
          50,
          50,
          51,
          51,
          51,
          51,
          51,
          51,
          52,
          52,
          52,
          52,
          52,
          52,
          53,
          53,
          53,
          53,
          53,
          53,
          54,
          54,
          54,
          54,
          54,
          54,
          55,
          55,
          55,
          55,
          55,
          55,
          56,
          56,
          56,
          56,
          56,
          56,
          57,
          57,
          57,
          57,
          57,
          57,
          58,
          58,
          58,
          58,
          58,
          58,
          59,
          59,
          59,
          59,
          59,
          59
         ],
         "xaxis": "x",
         "y": [
          0.1708030700683593,
          0.4139900207519531,
          0.1000404357910156,
          0.2180099487304687,
          0.2965927124023437,
          0.1560211181640625,
          0.1363754272460937,
          0.2896308898925781,
          0.1554489135742187,
          0.2457618713378906,
          0.5042076110839844,
          0.2449989318847656,
          0.2682685852050781,
          0.2447128295898437,
          0.0336647033691406,
          0.0719070434570312,
          0.0958442687988281,
          1.4016151428222656,
          2.264976501464844,
          1.8939971923828125,
          1.1583328247070312,
          0.3500938415527344,
          0.1843452453613281,
          2.899456024169922,
          0.3160476684570312,
          0.4022598266601562,
          0.1566886901855468,
          0.3534317016601562,
          0.1985549926757812,
          0.7809638977050781,
          0.3185272216796875,
          0.3193855285644531,
          0.3713607788085937,
          0.3701210021972656,
          0.32501220703125,
          0.8063316345214844,
          0.4113197326660156,
          0.4543304443359375,
          0.4538536071777344,
          0.4548072814941406,
          0.0797271728515625,
          1.167011260986328,
          0.2362251281738281,
          0.1993179321289062,
          0.1540184020996093,
          0.0171661376953125,
          0.2012252807617187,
          0.5213737487792969,
          0.1048088073730468,
          0.0868797302246093,
          0.0681877136230468,
          0.07171630859375,
          0.0782012939453125,
          0.0311851501464843,
          0.4486083984375,
          0.4527091979980469,
          0.1852035522460937,
          0.3299713134765625,
          0.4260063171386719,
          1.4084815979003906,
          0.2180099487304687,
          0.2994537353515625,
          0.5809783935546875,
          0.337982177734375,
          0.507354736328125,
          0.3637313842773437,
          0.61798095703125,
          0.37841796875,
          0.334930419921875,
          0.4913330078125,
          0.1893997192382812,
          0.2637863159179687,
          1.4949798583984375,
          0.3117561340332031,
          0.2762794494628906,
          0.3310203552246094,
          0.4907608032226562,
          0.1702308654785156,
          0.6948471069335938,
          0.1500129699707031,
          0.286865234375,
          0.16326904296875,
          0.1803398132324218,
          0.0800132751464843,
          0.4568099975585937,
          0.3485679626464844,
          0.5865097045898438,
          0.1577377319335937,
          0.1680374145507812,
          0.2724647521972656,
          0.676727294921875,
          0.2060890197753906,
          0.4788398742675781,
          0.2333641052246093,
          0.3192901611328125,
          0.2576828002929687,
          0.3167152404785156,
          0.3262519836425781,
          0.601959228515625,
          0.4833221435546875,
          0.4619598388671875,
          0.2726554870605469,
          1.1897087097167969,
          0.6046295166015625,
          1.4339447021484375,
          0.7275581359863281,
          0.7159233093261719,
          1.3604164123535156,
          1.1693000793457031,
          0.1018524169921875,
          0.3769874572753906,
          0.1143455505371093,
          0.3293991088867187,
          0.3159523010253906,
          0.6481170654296875,
          0.6170272827148438,
          0.4871368408203125,
          0.7090568542480469,
          0.6174087524414062,
          0.4927635192871094,
          1.4763832092285156,
          0.2864837646484375,
          0.3437042236328125,
          0.313568115234375,
          0.4771232604980469,
          0.4527091979980469,
          0.799560546875,
          0.2776145935058594,
          0.3254890441894531,
          0.433349609375,
          0.1635551452636718,
          0.1334190368652343,
          0.0871658325195312,
          0.4939079284667969,
          0.2039909362792968,
          0.2351760864257812,
          0.2750396728515625,
          0.1931190490722656,
          0.2607345581054687,
          0.7933616638183594,
          0.2888679504394531,
          0.1726150512695312,
          0.0204086303710937,
          0.0181198120117187,
          0.0226020812988281,
          0.7841110229492188,
          0.1967430114746093,
          0.2413749694824218,
          0.1529693603515625,
          0.1329421997070312,
          0.2134323120117187,
          0.3762245178222656,
          0.1316070556640625,
          0.87432861328125,
          0.4634857177734375,
          0.1325607299804687,
          0.3046035766601562,
          1.242351531982422,
          0.6127357482910156,
          1.34735107421875,
          1.4108657836914062,
          1.018524169921875,
          0.5214691162109375,
          0.4963874816894531,
          0.1725196838378906,
          0.1517295837402343,
          0.1212120056152343,
          1.508808135986328,
          0.4220008850097656,
          0.4128456115722656,
          0.3165245056152344,
          0.1612663269042968,
          0.2745628356933594,
          0.437164306640625,
          0.2678871154785156,
          0.5083084106445312,
          0.06561279296875,
          0.2290725708007812,
          0.2706527709960937,
          0.7267951965332031,
          0.3083229064941406,
          0.237274169921875,
          0.2631187438964844,
          0.3483772277832031,
          0.3252029418945312,
          0.9398460388183594,
          0.25634765625,
          0.0372886657714843,
          0.2264976501464843,
          0.17852783203125,
          0.0821113586425781,
          0.3422737121582031,
          0.0279426574707031,
          0.201416015625,
          0.0101089477539062,
          0.0604629516601562,
          0.2741813659667969,
          0.0967025756835937,
          0.1768112182617187,
          0.2915382385253906,
          0.1049995422363281,
          0.0735282897949218,
          0.1476287841796875,
          0.52947998046875,
          0.0955581665039062,
          0.1694679260253906,
          0.0319480895996093,
          0.0958442687988281,
          0.1393318176269531,
          0.2121925354003906,
          0.4486083984375,
          0.9575843811035156,
          0.5238533020019531,
          0.3696441650390625,
          0.4427909851074219,
          1.0214805603027344,
          0.2421379089355468,
          0.5380630493164062,
          0.2544403076171875,
          0.2712249755859375,
          0.2897262573242187,
          0.6840705871582031,
          0.2055168151855468,
          0.1778602600097656,
          0.0107765197753906,
          0.2184867858886718,
          0.0341415405273437,
          0.5335807800292969,
          0.2157211303710937,
          0.2187728881835937,
          0.1646041870117187,
          0.0904083251953125,
          0.0779151916503906,
          0.2676963806152344,
          0.1162528991699218,
          0.3058433532714844,
          0.0825881958007812,
          0.1000404357910156,
          0.0318527221679687,
          0.2751350402832031,
          0.2666473388671875,
          0.3052711486816406,
          0.1807212829589843,
          0.3397941589355469,
          0.1849174499511718,
          0.3600120544433594,
          0.3795623779296875,
          0.1490592956542968,
          0.3107070922851562,
          0.1331329345703125,
          0.1134872436523437,
          0.8231163024902344
         ],
         "yaxis": "y"
        }
       ],
       "layout": {
        "legend": {
         "tracegroupgap": 0
        },
        "template": {
         "data": {
          "bar": [
           {
            "error_x": {
             "color": "#2a3f5f"
            },
            "error_y": {
             "color": "#2a3f5f"
            },
            "marker": {
             "line": {
              "color": "#E5ECF6",
              "width": 0.5
             },
             "pattern": {
              "fillmode": "overlay",
              "size": 10,
              "solidity": 0.2
             }
            },
            "type": "bar"
           }
          ],
          "barpolar": [
           {
            "marker": {
             "line": {
              "color": "#E5ECF6",
              "width": 0.5
             },
             "pattern": {
              "fillmode": "overlay",
              "size": 10,
              "solidity": 0.2
             }
            },
            "type": "barpolar"
           }
          ],
          "carpet": [
           {
            "aaxis": {
             "endlinecolor": "#2a3f5f",
             "gridcolor": "white",
             "linecolor": "white",
             "minorgridcolor": "white",
             "startlinecolor": "#2a3f5f"
            },
            "baxis": {
             "endlinecolor": "#2a3f5f",
             "gridcolor": "white",
             "linecolor": "white",
             "minorgridcolor": "white",
             "startlinecolor": "#2a3f5f"
            },
            "type": "carpet"
           }
          ],
          "choropleth": [
           {
            "colorbar": {
             "outlinewidth": 0,
             "ticks": ""
            },
            "type": "choropleth"
           }
          ],
          "contour": [
           {
            "colorbar": {
             "outlinewidth": 0,
             "ticks": ""
            },
            "colorscale": [
             [
              0,
              "#0d0887"
             ],
             [
              0.1111111111111111,
              "#46039f"
             ],
             [
              0.2222222222222222,
              "#7201a8"
             ],
             [
              0.3333333333333333,
              "#9c179e"
             ],
             [
              0.4444444444444444,
              "#bd3786"
             ],
             [
              0.5555555555555556,
              "#d8576b"
             ],
             [
              0.6666666666666666,
              "#ed7953"
             ],
             [
              0.7777777777777778,
              "#fb9f3a"
             ],
             [
              0.8888888888888888,
              "#fdca26"
             ],
             [
              1,
              "#f0f921"
             ]
            ],
            "type": "contour"
           }
          ],
          "contourcarpet": [
           {
            "colorbar": {
             "outlinewidth": 0,
             "ticks": ""
            },
            "type": "contourcarpet"
           }
          ],
          "heatmap": [
           {
            "colorbar": {
             "outlinewidth": 0,
             "ticks": ""
            },
            "colorscale": [
             [
              0,
              "#0d0887"
             ],
             [
              0.1111111111111111,
              "#46039f"
             ],
             [
              0.2222222222222222,
              "#7201a8"
             ],
             [
              0.3333333333333333,
              "#9c179e"
             ],
             [
              0.4444444444444444,
              "#bd3786"
             ],
             [
              0.5555555555555556,
              "#d8576b"
             ],
             [
              0.6666666666666666,
              "#ed7953"
             ],
             [
              0.7777777777777778,
              "#fb9f3a"
             ],
             [
              0.8888888888888888,
              "#fdca26"
             ],
             [
              1,
              "#f0f921"
             ]
            ],
            "type": "heatmap"
           }
          ],
          "heatmapgl": [
           {
            "colorbar": {
             "outlinewidth": 0,
             "ticks": ""
            },
            "colorscale": [
             [
              0,
              "#0d0887"
             ],
             [
              0.1111111111111111,
              "#46039f"
             ],
             [
              0.2222222222222222,
              "#7201a8"
             ],
             [
              0.3333333333333333,
              "#9c179e"
             ],
             [
              0.4444444444444444,
              "#bd3786"
             ],
             [
              0.5555555555555556,
              "#d8576b"
             ],
             [
              0.6666666666666666,
              "#ed7953"
             ],
             [
              0.7777777777777778,
              "#fb9f3a"
             ],
             [
              0.8888888888888888,
              "#fdca26"
             ],
             [
              1,
              "#f0f921"
             ]
            ],
            "type": "heatmapgl"
           }
          ],
          "histogram": [
           {
            "marker": {
             "pattern": {
              "fillmode": "overlay",
              "size": 10,
              "solidity": 0.2
             }
            },
            "type": "histogram"
           }
          ],
          "histogram2d": [
           {
            "colorbar": {
             "outlinewidth": 0,
             "ticks": ""
            },
            "colorscale": [
             [
              0,
              "#0d0887"
             ],
             [
              0.1111111111111111,
              "#46039f"
             ],
             [
              0.2222222222222222,
              "#7201a8"
             ],
             [
              0.3333333333333333,
              "#9c179e"
             ],
             [
              0.4444444444444444,
              "#bd3786"
             ],
             [
              0.5555555555555556,
              "#d8576b"
             ],
             [
              0.6666666666666666,
              "#ed7953"
             ],
             [
              0.7777777777777778,
              "#fb9f3a"
             ],
             [
              0.8888888888888888,
              "#fdca26"
             ],
             [
              1,
              "#f0f921"
             ]
            ],
            "type": "histogram2d"
           }
          ],
          "histogram2dcontour": [
           {
            "colorbar": {
             "outlinewidth": 0,
             "ticks": ""
            },
            "colorscale": [
             [
              0,
              "#0d0887"
             ],
             [
              0.1111111111111111,
              "#46039f"
             ],
             [
              0.2222222222222222,
              "#7201a8"
             ],
             [
              0.3333333333333333,
              "#9c179e"
             ],
             [
              0.4444444444444444,
              "#bd3786"
             ],
             [
              0.5555555555555556,
              "#d8576b"
             ],
             [
              0.6666666666666666,
              "#ed7953"
             ],
             [
              0.7777777777777778,
              "#fb9f3a"
             ],
             [
              0.8888888888888888,
              "#fdca26"
             ],
             [
              1,
              "#f0f921"
             ]
            ],
            "type": "histogram2dcontour"
           }
          ],
          "mesh3d": [
           {
            "colorbar": {
             "outlinewidth": 0,
             "ticks": ""
            },
            "type": "mesh3d"
           }
          ],
          "parcoords": [
           {
            "line": {
             "colorbar": {
              "outlinewidth": 0,
              "ticks": ""
             }
            },
            "type": "parcoords"
           }
          ],
          "pie": [
           {
            "automargin": true,
            "type": "pie"
           }
          ],
          "scatter": [
           {
            "fillpattern": {
             "fillmode": "overlay",
             "size": 10,
             "solidity": 0.2
            },
            "type": "scatter"
           }
          ],
          "scatter3d": [
           {
            "line": {
             "colorbar": {
              "outlinewidth": 0,
              "ticks": ""
             }
            },
            "marker": {
             "colorbar": {
              "outlinewidth": 0,
              "ticks": ""
             }
            },
            "type": "scatter3d"
           }
          ],
          "scattercarpet": [
           {
            "marker": {
             "colorbar": {
              "outlinewidth": 0,
              "ticks": ""
             }
            },
            "type": "scattercarpet"
           }
          ],
          "scattergeo": [
           {
            "marker": {
             "colorbar": {
              "outlinewidth": 0,
              "ticks": ""
             }
            },
            "type": "scattergeo"
           }
          ],
          "scattergl": [
           {
            "marker": {
             "colorbar": {
              "outlinewidth": 0,
              "ticks": ""
             }
            },
            "type": "scattergl"
           }
          ],
          "scattermapbox": [
           {
            "marker": {
             "colorbar": {
              "outlinewidth": 0,
              "ticks": ""
             }
            },
            "type": "scattermapbox"
           }
          ],
          "scatterpolar": [
           {
            "marker": {
             "colorbar": {
              "outlinewidth": 0,
              "ticks": ""
             }
            },
            "type": "scatterpolar"
           }
          ],
          "scatterpolargl": [
           {
            "marker": {
             "colorbar": {
              "outlinewidth": 0,
              "ticks": ""
             }
            },
            "type": "scatterpolargl"
           }
          ],
          "scatterternary": [
           {
            "marker": {
             "colorbar": {
              "outlinewidth": 0,
              "ticks": ""
             }
            },
            "type": "scatterternary"
           }
          ],
          "surface": [
           {
            "colorbar": {
             "outlinewidth": 0,
             "ticks": ""
            },
            "colorscale": [
             [
              0,
              "#0d0887"
             ],
             [
              0.1111111111111111,
              "#46039f"
             ],
             [
              0.2222222222222222,
              "#7201a8"
             ],
             [
              0.3333333333333333,
              "#9c179e"
             ],
             [
              0.4444444444444444,
              "#bd3786"
             ],
             [
              0.5555555555555556,
              "#d8576b"
             ],
             [
              0.6666666666666666,
              "#ed7953"
             ],
             [
              0.7777777777777778,
              "#fb9f3a"
             ],
             [
              0.8888888888888888,
              "#fdca26"
             ],
             [
              1,
              "#f0f921"
             ]
            ],
            "type": "surface"
           }
          ],
          "table": [
           {
            "cells": {
             "fill": {
              "color": "#EBF0F8"
             },
             "line": {
              "color": "white"
             }
            },
            "header": {
             "fill": {
              "color": "#C8D4E3"
             },
             "line": {
              "color": "white"
             }
            },
            "type": "table"
           }
          ]
         },
         "layout": {
          "annotationdefaults": {
           "arrowcolor": "#2a3f5f",
           "arrowhead": 0,
           "arrowwidth": 1
          },
          "autotypenumbers": "strict",
          "coloraxis": {
           "colorbar": {
            "outlinewidth": 0,
            "ticks": ""
           }
          },
          "colorscale": {
           "diverging": [
            [
             0,
             "#8e0152"
            ],
            [
             0.1,
             "#c51b7d"
            ],
            [
             0.2,
             "#de77ae"
            ],
            [
             0.3,
             "#f1b6da"
            ],
            [
             0.4,
             "#fde0ef"
            ],
            [
             0.5,
             "#f7f7f7"
            ],
            [
             0.6,
             "#e6f5d0"
            ],
            [
             0.7,
             "#b8e186"
            ],
            [
             0.8,
             "#7fbc41"
            ],
            [
             0.9,
             "#4d9221"
            ],
            [
             1,
             "#276419"
            ]
           ],
           "sequential": [
            [
             0,
             "#0d0887"
            ],
            [
             0.1111111111111111,
             "#46039f"
            ],
            [
             0.2222222222222222,
             "#7201a8"
            ],
            [
             0.3333333333333333,
             "#9c179e"
            ],
            [
             0.4444444444444444,
             "#bd3786"
            ],
            [
             0.5555555555555556,
             "#d8576b"
            ],
            [
             0.6666666666666666,
             "#ed7953"
            ],
            [
             0.7777777777777778,
             "#fb9f3a"
            ],
            [
             0.8888888888888888,
             "#fdca26"
            ],
            [
             1,
             "#f0f921"
            ]
           ],
           "sequentialminus": [
            [
             0,
             "#0d0887"
            ],
            [
             0.1111111111111111,
             "#46039f"
            ],
            [
             0.2222222222222222,
             "#7201a8"
            ],
            [
             0.3333333333333333,
             "#9c179e"
            ],
            [
             0.4444444444444444,
             "#bd3786"
            ],
            [
             0.5555555555555556,
             "#d8576b"
            ],
            [
             0.6666666666666666,
             "#ed7953"
            ],
            [
             0.7777777777777778,
             "#fb9f3a"
            ],
            [
             0.8888888888888888,
             "#fdca26"
            ],
            [
             1,
             "#f0f921"
            ]
           ]
          },
          "colorway": [
           "#636efa",
           "#EF553B",
           "#00cc96",
           "#ab63fa",
           "#FFA15A",
           "#19d3f3",
           "#FF6692",
           "#B6E880",
           "#FF97FF",
           "#FECB52"
          ],
          "font": {
           "color": "#2a3f5f"
          },
          "geo": {
           "bgcolor": "white",
           "lakecolor": "white",
           "landcolor": "#E5ECF6",
           "showlakes": true,
           "showland": true,
           "subunitcolor": "white"
          },
          "hoverlabel": {
           "align": "left"
          },
          "hovermode": "closest",
          "mapbox": {
           "style": "light"
          },
          "paper_bgcolor": "white",
          "plot_bgcolor": "#E5ECF6",
          "polar": {
           "angularaxis": {
            "gridcolor": "white",
            "linecolor": "white",
            "ticks": ""
           },
           "bgcolor": "#E5ECF6",
           "radialaxis": {
            "gridcolor": "white",
            "linecolor": "white",
            "ticks": ""
           }
          },
          "scene": {
           "xaxis": {
            "backgroundcolor": "#E5ECF6",
            "gridcolor": "white",
            "gridwidth": 2,
            "linecolor": "white",
            "showbackground": true,
            "ticks": "",
            "zerolinecolor": "white"
           },
           "yaxis": {
            "backgroundcolor": "#E5ECF6",
            "gridcolor": "white",
            "gridwidth": 2,
            "linecolor": "white",
            "showbackground": true,
            "ticks": "",
            "zerolinecolor": "white"
           },
           "zaxis": {
            "backgroundcolor": "#E5ECF6",
            "gridcolor": "white",
            "gridwidth": 2,
            "linecolor": "white",
            "showbackground": true,
            "ticks": "",
            "zerolinecolor": "white"
           }
          },
          "shapedefaults": {
           "line": {
            "color": "#2a3f5f"
           }
          },
          "ternary": {
           "aaxis": {
            "gridcolor": "white",
            "linecolor": "white",
            "ticks": ""
           },
           "baxis": {
            "gridcolor": "white",
            "linecolor": "white",
            "ticks": ""
           },
           "bgcolor": "#E5ECF6",
           "caxis": {
            "gridcolor": "white",
            "linecolor": "white",
            "ticks": ""
           }
          },
          "title": {
           "x": 0.05
          },
          "xaxis": {
           "automargin": true,
           "gridcolor": "white",
           "linecolor": "white",
           "ticks": "",
           "title": {
            "standoff": 15
           },
           "zerolinecolor": "white",
           "zerolinewidth": 2
          },
          "yaxis": {
           "automargin": true,
           "gridcolor": "white",
           "linecolor": "white",
           "ticks": "",
           "title": {
            "standoff": 15
           },
           "zerolinecolor": "white",
           "zerolinewidth": 2
          }
         }
        },
        "title": {
         "text": "Dna damage mask area (QC)"
        },
        "xaxis": {
         "anchor": "y",
         "domain": [
          0,
          1
         ],
         "title": {
          "text": "staining_id"
         }
        },
        "yaxis": {
         "anchor": "x",
         "domain": [
          0,
          1
         ],
         "title": {
          "text": "%_dna_damage_signal"
         }
        }
       }
      }
     },
     "metadata": {},
     "output_type": "display_data"
    }
   ],
   "source": [
    "# Create the plot\n",
    "fig = px.scatter(df, x='staining_id', y='%_dna_damage_signal',\n",
    "                 hover_data=['tissue_location','index'], title='Dna damage mask area (QC)')\n",
    "\n",
    "# Show the plot\n",
    "fig.show()"
   ]
  },
  {
   "cell_type": "code",
   "execution_count": 83,
   "metadata": {},
   "outputs": [
    {
     "data": {
      "application/vnd.plotly.v1+json": {
       "config": {
        "plotlyServerURL": "https://plot.ly"
       },
       "data": [
        {
         "customdata": [
          [
           "CA1",
           0
          ],
          [
           "CA3",
           1
          ],
          [
           "CTX1",
           2
          ],
          [
           "CTX2",
           3
          ],
          [
           "CTX3",
           4
          ],
          [
           "DG",
           5
          ],
          [
           "CA1",
           6
          ],
          [
           "CA3",
           7
          ],
          [
           "CTX1",
           8
          ],
          [
           "CTX2",
           9
          ],
          [
           "CTX3",
           10
          ],
          [
           "DG",
           11
          ],
          [
           "CA1",
           12
          ],
          [
           "CA3",
           13
          ],
          [
           "CTX1",
           14
          ],
          [
           "CTX2",
           15
          ],
          [
           "CTX3",
           16
          ],
          [
           "DG",
           17
          ],
          [
           "CA1",
           18
          ],
          [
           "CA3",
           19
          ],
          [
           "CTX1",
           20
          ],
          [
           "CTX2",
           21
          ],
          [
           "CTX3",
           22
          ],
          [
           "DG",
           23
          ],
          [
           "CA1",
           24
          ],
          [
           "CA3",
           25
          ],
          [
           "CTX1",
           26
          ],
          [
           "CTX2",
           27
          ],
          [
           "CTX3",
           28
          ],
          [
           "DG",
           29
          ],
          [
           "CA1",
           30
          ],
          [
           "CA3",
           31
          ],
          [
           "CTX1",
           32
          ],
          [
           "CTX2",
           33
          ],
          [
           "CTX3",
           34
          ],
          [
           "DG",
           35
          ],
          [
           "CA1",
           36
          ],
          [
           "CA3",
           37
          ],
          [
           "CTX1",
           38
          ],
          [
           "CTX2",
           39
          ],
          [
           "CTX3",
           40
          ],
          [
           "DG",
           41
          ],
          [
           "CA1",
           42
          ],
          [
           "CA3",
           43
          ],
          [
           "CTX1",
           44
          ],
          [
           "CTX2",
           45
          ],
          [
           "CTX3",
           46
          ],
          [
           "DG",
           47
          ],
          [
           "CA1",
           48
          ],
          [
           "CA3",
           49
          ],
          [
           "CTX1",
           50
          ],
          [
           "CTX2",
           51
          ],
          [
           "CTX3",
           52
          ],
          [
           "DG",
           53
          ],
          [
           "CA1",
           54
          ],
          [
           "CA3",
           55
          ],
          [
           "CTX1",
           56
          ],
          [
           "CTX2",
           57
          ],
          [
           "CTX3",
           58
          ],
          [
           "DG",
           59
          ],
          [
           "CA1",
           60
          ],
          [
           "CA3",
           61
          ],
          [
           "CTX1",
           62
          ],
          [
           "CTX2",
           63
          ],
          [
           "CTX3",
           64
          ],
          [
           "DG",
           65
          ],
          [
           "DG",
           66
          ],
          [
           "CA1",
           67
          ],
          [
           "CA3",
           68
          ],
          [
           "CTX1",
           69
          ],
          [
           "CTX2",
           70
          ],
          [
           "CTX3",
           71
          ],
          [
           "DG",
           72
          ],
          [
           "CA1",
           73
          ],
          [
           "CA3",
           74
          ],
          [
           "CTX1",
           75
          ],
          [
           "CTX2",
           76
          ],
          [
           "CTX3",
           77
          ],
          [
           "DG",
           78
          ],
          [
           "CA1",
           79
          ],
          [
           "CA3",
           80
          ],
          [
           "CTX1",
           81
          ],
          [
           "CTX2",
           82
          ],
          [
           "CTX3",
           83
          ],
          [
           "DG",
           84
          ],
          [
           "CA1",
           85
          ],
          [
           "CA3",
           86
          ],
          [
           "CTX1",
           87
          ],
          [
           "CTX2",
           88
          ],
          [
           "CTX3",
           89
          ],
          [
           "DG",
           90
          ],
          [
           "CA1",
           91
          ],
          [
           "CA3",
           92
          ],
          [
           "CTX1",
           93
          ],
          [
           "CTX2",
           94
          ],
          [
           "CTX3",
           95
          ],
          [
           "DG",
           96
          ],
          [
           "CA1",
           97
          ],
          [
           "CA3",
           98
          ],
          [
           "CTX1",
           99
          ],
          [
           "CTX2",
           100
          ],
          [
           "CTX3",
           101
          ],
          [
           "DG",
           102
          ],
          [
           "CA1",
           103
          ],
          [
           "CA3",
           104
          ],
          [
           "CTX1",
           105
          ],
          [
           "CTX2",
           106
          ],
          [
           "CTX3",
           107
          ],
          [
           "DG",
           108
          ],
          [
           "CA1",
           109
          ],
          [
           "CA3",
           110
          ],
          [
           "CTX1",
           111
          ],
          [
           "CTX2",
           112
          ],
          [
           "CTX3",
           113
          ],
          [
           "DG",
           114
          ],
          [
           "CA1",
           115
          ],
          [
           "CA3",
           116
          ],
          [
           "CTX1",
           117
          ],
          [
           "CTX2",
           118
          ],
          [
           "CTX3",
           119
          ],
          [
           "DG",
           120
          ],
          [
           "CA1",
           121
          ],
          [
           "CA3",
           122
          ],
          [
           "CTX1",
           123
          ],
          [
           "CTX2",
           124
          ],
          [
           "CTX3",
           125
          ],
          [
           "DG",
           126
          ],
          [
           "DG",
           127
          ],
          [
           "CA1",
           128
          ],
          [
           "CA3",
           129
          ],
          [
           "CTX1",
           130
          ],
          [
           "CTX2",
           131
          ],
          [
           "CTX3",
           132
          ],
          [
           "DG",
           133
          ],
          [
           "CA1",
           134
          ],
          [
           "CA3",
           135
          ],
          [
           "CTX1",
           136
          ],
          [
           "CTX2",
           137
          ],
          [
           "CTX3",
           138
          ],
          [
           "DG",
           139
          ],
          [
           "CA1",
           140
          ],
          [
           "CA3",
           141
          ],
          [
           "CTX1",
           142
          ],
          [
           "CTX2",
           143
          ],
          [
           "CTX3",
           144
          ],
          [
           "DG",
           145
          ],
          [
           "CA1",
           146
          ],
          [
           "CA3",
           147
          ],
          [
           "CTX1",
           148
          ],
          [
           "CTX2",
           149
          ],
          [
           "CTX3",
           150
          ],
          [
           "DG",
           151
          ],
          [
           "CA1",
           152
          ],
          [
           "CA3",
           153
          ],
          [
           "CTX1",
           154
          ],
          [
           "CTX2",
           155
          ],
          [
           "CTX3",
           156
          ],
          [
           "DG",
           157
          ],
          [
           "CA1",
           158
          ],
          [
           "CA3",
           159
          ],
          [
           "CTX1",
           160
          ],
          [
           "DG",
           161
          ],
          [
           "CA1",
           162
          ],
          [
           "CA3",
           163
          ],
          [
           "CTX1",
           164
          ],
          [
           "CTX2",
           165
          ],
          [
           "CTX3",
           166
          ],
          [
           "DG",
           167
          ],
          [
           "CA1",
           168
          ],
          [
           "CA3",
           169
          ],
          [
           "CTX1",
           170
          ],
          [
           "CTX2",
           171
          ],
          [
           "CTX3",
           172
          ],
          [
           "DG",
           173
          ],
          [
           "CA1",
           174
          ],
          [
           "CA3",
           175
          ],
          [
           "CTX1",
           176
          ],
          [
           "CTX2",
           177
          ],
          [
           "CTX3",
           178
          ],
          [
           "DG",
           179
          ],
          [
           "CA1",
           180
          ],
          [
           "CA3",
           181
          ],
          [
           "CTX1",
           182
          ],
          [
           "CTX2",
           183
          ],
          [
           "CTX3",
           184
          ],
          [
           "DG",
           185
          ],
          [
           "CA1",
           186
          ],
          [
           "CA3",
           187
          ],
          [
           "CTX1",
           188
          ],
          [
           "CTX2",
           189
          ],
          [
           "CTX3",
           190
          ],
          [
           "DG",
           191
          ],
          [
           "CA1",
           192
          ],
          [
           "CA3",
           193
          ],
          [
           "CTX1",
           194
          ],
          [
           "CTX2",
           195
          ],
          [
           "CTX3",
           196
          ],
          [
           "DG",
           197
          ],
          [
           "CA1",
           198
          ],
          [
           "CA3",
           199
          ],
          [
           "CTX1",
           200
          ],
          [
           "CTX2",
           201
          ],
          [
           "CTX3",
           202
          ],
          [
           "DG",
           203
          ],
          [
           "CA1",
           204
          ],
          [
           "CA3",
           205
          ],
          [
           "CTX1",
           206
          ],
          [
           "CTX2",
           207
          ],
          [
           "CTX3",
           208
          ],
          [
           "DG",
           209
          ],
          [
           "CA1",
           210
          ],
          [
           "CA3",
           211
          ],
          [
           "CTX1",
           212
          ],
          [
           "CTX2",
           213
          ],
          [
           "CTX3",
           214
          ],
          [
           "DG",
           215
          ],
          [
           "CA1",
           216
          ],
          [
           "CA3",
           217
          ],
          [
           "CTX1",
           218
          ],
          [
           "CTX2",
           219
          ],
          [
           "CTX3",
           220
          ],
          [
           "DG",
           221
          ],
          [
           "CA1",
           222
          ],
          [
           "CA3",
           223
          ],
          [
           "CTX1",
           224
          ],
          [
           "CTX2",
           225
          ],
          [
           "CTX3",
           226
          ],
          [
           "DG",
           227
          ],
          [
           "CA1",
           228
          ],
          [
           "CA3",
           229
          ],
          [
           "CTX1",
           230
          ],
          [
           "CTX2",
           231
          ],
          [
           "CTX3",
           232
          ],
          [
           "DG",
           233
          ],
          [
           "CA1",
           234
          ],
          [
           "CA3",
           235
          ],
          [
           "CTX1",
           236
          ],
          [
           "CTX2",
           237
          ],
          [
           "CTX3",
           238
          ],
          [
           "DG",
           239
          ],
          [
           "CA1",
           240
          ],
          [
           "CA3",
           241
          ],
          [
           "CTX1",
           242
          ],
          [
           "CTX2",
           243
          ],
          [
           "CTX3",
           244
          ],
          [
           "DG",
           245
          ],
          [
           "CA1",
           246
          ],
          [
           "CA3",
           247
          ],
          [
           "CTX1",
           248
          ],
          [
           "CTX2",
           249
          ],
          [
           "CTX3",
           250
          ],
          [
           "DG",
           251
          ]
         ],
         "hovertemplate": "staining_id=%{x}<br>%_glia+_signal=%{y}<br>tissue_location=%{customdata[0]}<br>index=%{customdata[1]}<extra></extra>",
         "legendgroup": "",
         "marker": {
          "color": "#636efa",
          "symbol": "circle"
         },
         "mode": "markers",
         "name": "",
         "orientation": "v",
         "showlegend": false,
         "type": "scatter",
         "x": [
          16,
          16,
          16,
          16,
          16,
          16,
          17,
          17,
          17,
          17,
          17,
          17,
          18,
          18,
          18,
          18,
          18,
          18,
          19,
          19,
          19,
          19,
          19,
          19,
          20,
          20,
          20,
          20,
          20,
          20,
          21,
          21,
          21,
          21,
          21,
          21,
          22,
          22,
          22,
          22,
          22,
          22,
          23,
          23,
          23,
          23,
          23,
          23,
          24,
          24,
          24,
          24,
          24,
          24,
          25,
          25,
          25,
          25,
          25,
          25,
          26,
          26,
          26,
          26,
          26,
          26,
          27,
          28,
          28,
          28,
          28,
          28,
          28,
          29,
          29,
          29,
          29,
          29,
          29,
          30,
          30,
          30,
          30,
          30,
          30,
          31,
          31,
          31,
          31,
          31,
          31,
          32,
          32,
          32,
          32,
          32,
          32,
          33,
          33,
          33,
          33,
          33,
          33,
          34,
          34,
          34,
          34,
          34,
          34,
          35,
          35,
          35,
          35,
          35,
          35,
          36,
          36,
          36,
          36,
          36,
          36,
          37,
          37,
          37,
          37,
          37,
          37,
          38,
          39,
          39,
          39,
          39,
          39,
          39,
          40,
          40,
          40,
          40,
          40,
          40,
          41,
          41,
          41,
          41,
          41,
          41,
          42,
          42,
          42,
          42,
          42,
          42,
          43,
          43,
          43,
          43,
          43,
          43,
          44,
          44,
          44,
          44,
          45,
          45,
          45,
          45,
          45,
          45,
          46,
          46,
          46,
          46,
          46,
          46,
          47,
          47,
          47,
          47,
          47,
          47,
          48,
          48,
          48,
          48,
          48,
          48,
          49,
          49,
          49,
          49,
          49,
          49,
          50,
          50,
          50,
          50,
          50,
          50,
          51,
          51,
          51,
          51,
          51,
          51,
          52,
          52,
          52,
          52,
          52,
          52,
          53,
          53,
          53,
          53,
          53,
          53,
          54,
          54,
          54,
          54,
          54,
          54,
          55,
          55,
          55,
          55,
          55,
          55,
          56,
          56,
          56,
          56,
          56,
          56,
          57,
          57,
          57,
          57,
          57,
          57,
          58,
          58,
          58,
          58,
          58,
          58,
          59,
          59,
          59,
          59,
          59,
          59
         ],
         "xaxis": "x",
         "y": [
          88.63372802734375,
          96.34952545166016,
          13.59844207763672,
          94.93074417114258,
          54.76894378662109,
          87.15362548828125,
          5.763816833496094,
          6.432056427001953,
          2.645301818847656,
          11.802101135253906,
          9.359455108642578,
          44.40708160400391,
          10.935688018798828,
          7.825183868408203,
          3.196430206298828,
          5.939960479736328,
          1.9624710083007808,
          53.77206802368164,
          97.84984588623048,
          98.4278678894043,
          98.5675811767578,
          92.62237548828124,
          87.97607421875,
          97.98297882080078,
          1.447296142578125,
          1.717853546142578,
          0.8257865905761719,
          2.0682334899902344,
          0.5598068237304688,
          2.923774719238281,
          2.5424957275390625,
          1.3544082641601562,
          3.311634063720703,
          3.338623046875,
          4.697036743164063,
          3.5135269165039062,
          6.178569793701172,
          3.7606239318847656,
          3.637123107910156,
          4.0191650390625,
          0.730133056640625,
          5.748558044433594,
          4.248046875,
          2.08120346069336,
          5.792427062988281,
          0.7174491882324219,
          2.988147735595703,
          7.934856414794922,
          0.7791519165039062,
          0.9073257446289062,
          1.7583847045898438,
          3.3802032470703125,
          1.4982223510742188,
          0.8672714233398438,
          3.17068099975586,
          2.813243865966797,
          3.438568115234375,
          6.374835968017578,
          2.7411460876464844,
          3.351020812988281,
          5.84564208984375,
          6.870269775390625,
          11.133575439453123,
          13.045120239257812,
          27.424240112304688,
          7.449054718017578,
          1.7447471618652344,
          2.5665283203125,
          2.448272705078125,
          3.2138824462890625,
          2.5005340576171875,
          2.412891387939453,
          7.0148468017578125,
          2.208709716796875,
          1.9129753112792969,
          5.022335052490234,
          7.678985595703125,
          3.7689208984375,
          2.2146224975585938,
          1.6625404357910156,
          1.3019561767578125,
          2.780723571777344,
          2.3637771606445312,
          1.4829635620117188,
          2.1762847900390625,
          3.847122192382813,
          1.217937469482422,
          3.5140037536621094,
          2.959632873535156,
          3.2898902893066406,
          3.90176773071289,
          14.134979248046877,
          14.082717895507812,
          14.151763916015623,
          17.71411895751953,
          10.771465301513672,
          27.629661560058597,
          2.395153045654297,
          1.8873214721679688,
          1.194000244140625,
          2.6653289794921875,
          2.5826454162597656,
          3.2654762268066406,
          5.395984649658203,
          4.882526397705078,
          6.429195404052734,
          9.55486297607422,
          7.129859924316406,
          9.005355834960938,
          3.268909454345703,
          21.71812057495117,
          4.521656036376953,
          49.62272644042969,
          36.1638069152832,
          46.29859924316406,
          2.2858619689941406,
          1.1386871337890625,
          3.605270385742188,
          4.596138000488281,
          2.627086639404297,
          1.8873214721679688,
          1.4169692993164062,
          3.2583236694335938,
          2.8922080993652344,
          6.322193145751953,
          5.652999877929688,
          2.9592514038085938,
          1.724529266357422,
          1.2140274047851562,
          1.1082649230957031,
          0.3711700439453125,
          0.3496170043945312,
          0.2208709716796875,
          1.7183303833007812,
          1.3429641723632812,
          1.7145156860351562,
          3.7994384765625,
          3.754806518554688,
          4.794597625732422,
          0.7130622863769531,
          0.4645347595214844,
          0.6657600402832031,
          0.0162124633789062,
          0.2507209777832031,
          0.83465576171875,
          0.9260177612304688,
          0.5733489990234375,
          0.9168624877929688,
          0.74462890625,
          1.824378967285156,
          0.9996414184570312,
          0.988483428955078,
          3.304767608642578,
          5.7796478271484375,
          12.746238708496094,
          7.944774627685547,
          7.372093200683594,
          16.925048828125,
          45.28112411499024,
          48.995113372802734,
          61.879920959472656,
          39.72511291503906,
          6.223964691162109,
          5.231571197509766,
          4.201602935791016,
          4.376411437988281,
          3.458404541015625,
          7.775020599365234,
          47.70441055297852,
          31.574440002441406,
          46.37212753295898,
          51.16119384765625,
          32.654476165771484,
          56.203651428222656,
          6.558036804199219,
          8.901691436767578,
          5.655956268310547,
          30.04922866821289,
          14.159202575683594,
          13.895225524902344,
          3.3704757690429688,
          2.537250518798828,
          4.6924591064453125,
          3.786659240722656,
          3.594589233398437,
          5.111885070800781,
          8.189868927001953,
          6.575107574462891,
          8.087635040283203,
          6.462860107421875,
          2.49490737915039,
          14.119243621826172,
          4.873561859130859,
          3.848457336425781,
          6.229019165039063,
          5.149269104003906,
          5.641460418701172,
          5.594158172607422,
          6.222438812255859,
          6.045722961425781,
          4.617595672607422,
          7.056903839111328,
          9.714698791503906,
          6.879520416259766,
          5.399608612060547,
          4.315376281738281,
          7.786273956298828,
          10.270881652832031,
          10.033130645751951,
          7.422256469726562,
          2.5342941284179688,
          2.4756431579589844,
          7.878398895263672,
          7.045269012451172,
          5.187797546386719,
          3.43008041381836,
          2.426910400390625,
          1.7024993896484375,
          4.989528656005859,
          3.8888931274414062,
          5.550861358642578,
          3.528308868408203,
          1.777362823486328,
          1.872539520263672,
          1.2282371520996094,
          3.083038330078125,
          0.5826950073242188,
          2.5461196899414062,
          4.4521331787109375,
          4.624557495117188,
          5.258560180664063,
          5.3241729736328125,
          4.150867462158203,
          5.023097991943359,
          2.201366424560547,
          4.8095703125,
          2.260112762451172,
          1.4965057373046875,
          1.306438446044922,
          5.2936553955078125,
          2.06155776977539,
          1.918315887451172,
          4.450321197509766,
          2.5277137756347656,
          0.5662918090820312,
          1.5165328979492188,
          3.539466857910156,
          2.4675369262695312,
          3.9608001708984375,
          6.726360321044922,
          5.142498016357422,
          3.248310089111328
         ],
         "yaxis": "y"
        }
       ],
       "layout": {
        "legend": {
         "tracegroupgap": 0
        },
        "template": {
         "data": {
          "bar": [
           {
            "error_x": {
             "color": "#2a3f5f"
            },
            "error_y": {
             "color": "#2a3f5f"
            },
            "marker": {
             "line": {
              "color": "#E5ECF6",
              "width": 0.5
             },
             "pattern": {
              "fillmode": "overlay",
              "size": 10,
              "solidity": 0.2
             }
            },
            "type": "bar"
           }
          ],
          "barpolar": [
           {
            "marker": {
             "line": {
              "color": "#E5ECF6",
              "width": 0.5
             },
             "pattern": {
              "fillmode": "overlay",
              "size": 10,
              "solidity": 0.2
             }
            },
            "type": "barpolar"
           }
          ],
          "carpet": [
           {
            "aaxis": {
             "endlinecolor": "#2a3f5f",
             "gridcolor": "white",
             "linecolor": "white",
             "minorgridcolor": "white",
             "startlinecolor": "#2a3f5f"
            },
            "baxis": {
             "endlinecolor": "#2a3f5f",
             "gridcolor": "white",
             "linecolor": "white",
             "minorgridcolor": "white",
             "startlinecolor": "#2a3f5f"
            },
            "type": "carpet"
           }
          ],
          "choropleth": [
           {
            "colorbar": {
             "outlinewidth": 0,
             "ticks": ""
            },
            "type": "choropleth"
           }
          ],
          "contour": [
           {
            "colorbar": {
             "outlinewidth": 0,
             "ticks": ""
            },
            "colorscale": [
             [
              0,
              "#0d0887"
             ],
             [
              0.1111111111111111,
              "#46039f"
             ],
             [
              0.2222222222222222,
              "#7201a8"
             ],
             [
              0.3333333333333333,
              "#9c179e"
             ],
             [
              0.4444444444444444,
              "#bd3786"
             ],
             [
              0.5555555555555556,
              "#d8576b"
             ],
             [
              0.6666666666666666,
              "#ed7953"
             ],
             [
              0.7777777777777778,
              "#fb9f3a"
             ],
             [
              0.8888888888888888,
              "#fdca26"
             ],
             [
              1,
              "#f0f921"
             ]
            ],
            "type": "contour"
           }
          ],
          "contourcarpet": [
           {
            "colorbar": {
             "outlinewidth": 0,
             "ticks": ""
            },
            "type": "contourcarpet"
           }
          ],
          "heatmap": [
           {
            "colorbar": {
             "outlinewidth": 0,
             "ticks": ""
            },
            "colorscale": [
             [
              0,
              "#0d0887"
             ],
             [
              0.1111111111111111,
              "#46039f"
             ],
             [
              0.2222222222222222,
              "#7201a8"
             ],
             [
              0.3333333333333333,
              "#9c179e"
             ],
             [
              0.4444444444444444,
              "#bd3786"
             ],
             [
              0.5555555555555556,
              "#d8576b"
             ],
             [
              0.6666666666666666,
              "#ed7953"
             ],
             [
              0.7777777777777778,
              "#fb9f3a"
             ],
             [
              0.8888888888888888,
              "#fdca26"
             ],
             [
              1,
              "#f0f921"
             ]
            ],
            "type": "heatmap"
           }
          ],
          "heatmapgl": [
           {
            "colorbar": {
             "outlinewidth": 0,
             "ticks": ""
            },
            "colorscale": [
             [
              0,
              "#0d0887"
             ],
             [
              0.1111111111111111,
              "#46039f"
             ],
             [
              0.2222222222222222,
              "#7201a8"
             ],
             [
              0.3333333333333333,
              "#9c179e"
             ],
             [
              0.4444444444444444,
              "#bd3786"
             ],
             [
              0.5555555555555556,
              "#d8576b"
             ],
             [
              0.6666666666666666,
              "#ed7953"
             ],
             [
              0.7777777777777778,
              "#fb9f3a"
             ],
             [
              0.8888888888888888,
              "#fdca26"
             ],
             [
              1,
              "#f0f921"
             ]
            ],
            "type": "heatmapgl"
           }
          ],
          "histogram": [
           {
            "marker": {
             "pattern": {
              "fillmode": "overlay",
              "size": 10,
              "solidity": 0.2
             }
            },
            "type": "histogram"
           }
          ],
          "histogram2d": [
           {
            "colorbar": {
             "outlinewidth": 0,
             "ticks": ""
            },
            "colorscale": [
             [
              0,
              "#0d0887"
             ],
             [
              0.1111111111111111,
              "#46039f"
             ],
             [
              0.2222222222222222,
              "#7201a8"
             ],
             [
              0.3333333333333333,
              "#9c179e"
             ],
             [
              0.4444444444444444,
              "#bd3786"
             ],
             [
              0.5555555555555556,
              "#d8576b"
             ],
             [
              0.6666666666666666,
              "#ed7953"
             ],
             [
              0.7777777777777778,
              "#fb9f3a"
             ],
             [
              0.8888888888888888,
              "#fdca26"
             ],
             [
              1,
              "#f0f921"
             ]
            ],
            "type": "histogram2d"
           }
          ],
          "histogram2dcontour": [
           {
            "colorbar": {
             "outlinewidth": 0,
             "ticks": ""
            },
            "colorscale": [
             [
              0,
              "#0d0887"
             ],
             [
              0.1111111111111111,
              "#46039f"
             ],
             [
              0.2222222222222222,
              "#7201a8"
             ],
             [
              0.3333333333333333,
              "#9c179e"
             ],
             [
              0.4444444444444444,
              "#bd3786"
             ],
             [
              0.5555555555555556,
              "#d8576b"
             ],
             [
              0.6666666666666666,
              "#ed7953"
             ],
             [
              0.7777777777777778,
              "#fb9f3a"
             ],
             [
              0.8888888888888888,
              "#fdca26"
             ],
             [
              1,
              "#f0f921"
             ]
            ],
            "type": "histogram2dcontour"
           }
          ],
          "mesh3d": [
           {
            "colorbar": {
             "outlinewidth": 0,
             "ticks": ""
            },
            "type": "mesh3d"
           }
          ],
          "parcoords": [
           {
            "line": {
             "colorbar": {
              "outlinewidth": 0,
              "ticks": ""
             }
            },
            "type": "parcoords"
           }
          ],
          "pie": [
           {
            "automargin": true,
            "type": "pie"
           }
          ],
          "scatter": [
           {
            "fillpattern": {
             "fillmode": "overlay",
             "size": 10,
             "solidity": 0.2
            },
            "type": "scatter"
           }
          ],
          "scatter3d": [
           {
            "line": {
             "colorbar": {
              "outlinewidth": 0,
              "ticks": ""
             }
            },
            "marker": {
             "colorbar": {
              "outlinewidth": 0,
              "ticks": ""
             }
            },
            "type": "scatter3d"
           }
          ],
          "scattercarpet": [
           {
            "marker": {
             "colorbar": {
              "outlinewidth": 0,
              "ticks": ""
             }
            },
            "type": "scattercarpet"
           }
          ],
          "scattergeo": [
           {
            "marker": {
             "colorbar": {
              "outlinewidth": 0,
              "ticks": ""
             }
            },
            "type": "scattergeo"
           }
          ],
          "scattergl": [
           {
            "marker": {
             "colorbar": {
              "outlinewidth": 0,
              "ticks": ""
             }
            },
            "type": "scattergl"
           }
          ],
          "scattermapbox": [
           {
            "marker": {
             "colorbar": {
              "outlinewidth": 0,
              "ticks": ""
             }
            },
            "type": "scattermapbox"
           }
          ],
          "scatterpolar": [
           {
            "marker": {
             "colorbar": {
              "outlinewidth": 0,
              "ticks": ""
             }
            },
            "type": "scatterpolar"
           }
          ],
          "scatterpolargl": [
           {
            "marker": {
             "colorbar": {
              "outlinewidth": 0,
              "ticks": ""
             }
            },
            "type": "scatterpolargl"
           }
          ],
          "scatterternary": [
           {
            "marker": {
             "colorbar": {
              "outlinewidth": 0,
              "ticks": ""
             }
            },
            "type": "scatterternary"
           }
          ],
          "surface": [
           {
            "colorbar": {
             "outlinewidth": 0,
             "ticks": ""
            },
            "colorscale": [
             [
              0,
              "#0d0887"
             ],
             [
              0.1111111111111111,
              "#46039f"
             ],
             [
              0.2222222222222222,
              "#7201a8"
             ],
             [
              0.3333333333333333,
              "#9c179e"
             ],
             [
              0.4444444444444444,
              "#bd3786"
             ],
             [
              0.5555555555555556,
              "#d8576b"
             ],
             [
              0.6666666666666666,
              "#ed7953"
             ],
             [
              0.7777777777777778,
              "#fb9f3a"
             ],
             [
              0.8888888888888888,
              "#fdca26"
             ],
             [
              1,
              "#f0f921"
             ]
            ],
            "type": "surface"
           }
          ],
          "table": [
           {
            "cells": {
             "fill": {
              "color": "#EBF0F8"
             },
             "line": {
              "color": "white"
             }
            },
            "header": {
             "fill": {
              "color": "#C8D4E3"
             },
             "line": {
              "color": "white"
             }
            },
            "type": "table"
           }
          ]
         },
         "layout": {
          "annotationdefaults": {
           "arrowcolor": "#2a3f5f",
           "arrowhead": 0,
           "arrowwidth": 1
          },
          "autotypenumbers": "strict",
          "coloraxis": {
           "colorbar": {
            "outlinewidth": 0,
            "ticks": ""
           }
          },
          "colorscale": {
           "diverging": [
            [
             0,
             "#8e0152"
            ],
            [
             0.1,
             "#c51b7d"
            ],
            [
             0.2,
             "#de77ae"
            ],
            [
             0.3,
             "#f1b6da"
            ],
            [
             0.4,
             "#fde0ef"
            ],
            [
             0.5,
             "#f7f7f7"
            ],
            [
             0.6,
             "#e6f5d0"
            ],
            [
             0.7,
             "#b8e186"
            ],
            [
             0.8,
             "#7fbc41"
            ],
            [
             0.9,
             "#4d9221"
            ],
            [
             1,
             "#276419"
            ]
           ],
           "sequential": [
            [
             0,
             "#0d0887"
            ],
            [
             0.1111111111111111,
             "#46039f"
            ],
            [
             0.2222222222222222,
             "#7201a8"
            ],
            [
             0.3333333333333333,
             "#9c179e"
            ],
            [
             0.4444444444444444,
             "#bd3786"
            ],
            [
             0.5555555555555556,
             "#d8576b"
            ],
            [
             0.6666666666666666,
             "#ed7953"
            ],
            [
             0.7777777777777778,
             "#fb9f3a"
            ],
            [
             0.8888888888888888,
             "#fdca26"
            ],
            [
             1,
             "#f0f921"
            ]
           ],
           "sequentialminus": [
            [
             0,
             "#0d0887"
            ],
            [
             0.1111111111111111,
             "#46039f"
            ],
            [
             0.2222222222222222,
             "#7201a8"
            ],
            [
             0.3333333333333333,
             "#9c179e"
            ],
            [
             0.4444444444444444,
             "#bd3786"
            ],
            [
             0.5555555555555556,
             "#d8576b"
            ],
            [
             0.6666666666666666,
             "#ed7953"
            ],
            [
             0.7777777777777778,
             "#fb9f3a"
            ],
            [
             0.8888888888888888,
             "#fdca26"
            ],
            [
             1,
             "#f0f921"
            ]
           ]
          },
          "colorway": [
           "#636efa",
           "#EF553B",
           "#00cc96",
           "#ab63fa",
           "#FFA15A",
           "#19d3f3",
           "#FF6692",
           "#B6E880",
           "#FF97FF",
           "#FECB52"
          ],
          "font": {
           "color": "#2a3f5f"
          },
          "geo": {
           "bgcolor": "white",
           "lakecolor": "white",
           "landcolor": "#E5ECF6",
           "showlakes": true,
           "showland": true,
           "subunitcolor": "white"
          },
          "hoverlabel": {
           "align": "left"
          },
          "hovermode": "closest",
          "mapbox": {
           "style": "light"
          },
          "paper_bgcolor": "white",
          "plot_bgcolor": "#E5ECF6",
          "polar": {
           "angularaxis": {
            "gridcolor": "white",
            "linecolor": "white",
            "ticks": ""
           },
           "bgcolor": "#E5ECF6",
           "radialaxis": {
            "gridcolor": "white",
            "linecolor": "white",
            "ticks": ""
           }
          },
          "scene": {
           "xaxis": {
            "backgroundcolor": "#E5ECF6",
            "gridcolor": "white",
            "gridwidth": 2,
            "linecolor": "white",
            "showbackground": true,
            "ticks": "",
            "zerolinecolor": "white"
           },
           "yaxis": {
            "backgroundcolor": "#E5ECF6",
            "gridcolor": "white",
            "gridwidth": 2,
            "linecolor": "white",
            "showbackground": true,
            "ticks": "",
            "zerolinecolor": "white"
           },
           "zaxis": {
            "backgroundcolor": "#E5ECF6",
            "gridcolor": "white",
            "gridwidth": 2,
            "linecolor": "white",
            "showbackground": true,
            "ticks": "",
            "zerolinecolor": "white"
           }
          },
          "shapedefaults": {
           "line": {
            "color": "#2a3f5f"
           }
          },
          "ternary": {
           "aaxis": {
            "gridcolor": "white",
            "linecolor": "white",
            "ticks": ""
           },
           "baxis": {
            "gridcolor": "white",
            "linecolor": "white",
            "ticks": ""
           },
           "bgcolor": "#E5ECF6",
           "caxis": {
            "gridcolor": "white",
            "linecolor": "white",
            "ticks": ""
           }
          },
          "title": {
           "x": 0.05
          },
          "xaxis": {
           "automargin": true,
           "gridcolor": "white",
           "linecolor": "white",
           "ticks": "",
           "title": {
            "standoff": 15
           },
           "zerolinecolor": "white",
           "zerolinewidth": 2
          },
          "yaxis": {
           "automargin": true,
           "gridcolor": "white",
           "linecolor": "white",
           "ticks": "",
           "title": {
            "standoff": 15
           },
           "zerolinecolor": "white",
           "zerolinewidth": 2
          }
         }
        },
        "title": {
         "text": "Glia mask area (QC)"
        },
        "xaxis": {
         "anchor": "y",
         "domain": [
          0,
          1
         ],
         "title": {
          "text": "staining_id"
         }
        },
        "yaxis": {
         "anchor": "x",
         "domain": [
          0,
          1
         ],
         "title": {
          "text": "%_glia+_signal"
         }
        }
       }
      }
     },
     "metadata": {},
     "output_type": "display_data"
    }
   ],
   "source": [
    "# Create the plot\n",
    "fig = px.scatter(df, x='staining_id', y='%_glia+_signal',\n",
    "                 hover_data=['tissue_location','index'], title='Glia mask area (QC)')\n",
    "\n",
    "# Show the plot\n",
    "fig.show()"
   ]
  },
  {
   "cell_type": "markdown",
   "metadata": {},
   "source": [
    "We can observe there is a number of outliers in the glial and dna damage mask detection given the staining is suboptimal in some of the samples. I will filter the data to remove those suboptimal stains and just plot the optimal ones where the automated image analysis offers reliable results."
   ]
  },
  {
   "cell_type": "code",
   "execution_count": 84,
   "metadata": {},
   "outputs": [
    {
     "name": "stdout",
     "output_type": "stream",
     "text": [
      "Glia_mask_area_%_mean: 11.002078888908265, Dna_damage_mask_area_%_mean: 0.39151206849113346\n"
     ]
    }
   ],
   "source": [
    "# Calculate mean area of the image occupied by glia+ signal\n",
    "glia_mask_area_mean = df['%_glia+_signal'].mean() \n",
    "\n",
    "# Calculate mean area of the image occupied by dna_damage_+ signal\n",
    "dna_damage_mask_area_mean = df['%_dna_damage_signal'].mean() \n",
    "\n",
    "# Print extracted values\n",
    "print(f\"Glia_mask_area_%_mean: {glia_mask_area_mean}, Dna_damage_mask_area_%_mean: {dna_damage_mask_area_mean}\") "
   ]
  },
  {
   "cell_type": "code",
   "execution_count": 85,
   "metadata": {},
   "outputs": [
    {
     "data": {
      "text/html": [
       "<div>\n",
       "<style scoped>\n",
       "    .dataframe tbody tr th:only-of-type {\n",
       "        vertical-align: middle;\n",
       "    }\n",
       "\n",
       "    .dataframe tbody tr th {\n",
       "        vertical-align: top;\n",
       "    }\n",
       "\n",
       "    .dataframe thead th {\n",
       "        text-align: right;\n",
       "    }\n",
       "</style>\n",
       "<table border=\"1\" class=\"dataframe\">\n",
       "  <thead>\n",
       "    <tr style=\"text-align: right;\">\n",
       "      <th></th>\n",
       "      <th>index</th>\n",
       "      <th>filename</th>\n",
       "      <th>avg_dna_damage_foci/glia_+</th>\n",
       "      <th>avg_dna_damage_foci/glia_+_damage_+</th>\n",
       "      <th>avg_dna_damage_foci/all_nuclei</th>\n",
       "      <th>avg_dna_damage_foci/all_nuclei_damage_+</th>\n",
       "      <th>nr_+_dna_damage_glia_nuclei</th>\n",
       "      <th>nr_-_dna_damage_glia_nuclei</th>\n",
       "      <th>nr_glia_+_nuclei</th>\n",
       "      <th>nr_total_nuclei</th>\n",
       "      <th>...</th>\n",
       "      <th>%_glia+_signal</th>\n",
       "      <th>tissue_location</th>\n",
       "      <th>staining_id</th>\n",
       "      <th>animal_id</th>\n",
       "      <th>sex</th>\n",
       "      <th>genotype</th>\n",
       "      <th>dna_damage_stain_quality_manual</th>\n",
       "      <th>glia_stain_quality_auto</th>\n",
       "      <th>dna_damage_stain_quality_auto</th>\n",
       "      <th>staining_qc_passed</th>\n",
       "    </tr>\n",
       "  </thead>\n",
       "  <tbody>\n",
       "    <tr>\n",
       "      <th>0</th>\n",
       "      <td>0</td>\n",
       "      <td>DSB Iba1 16_40X_CA1</td>\n",
       "      <td>0.291667</td>\n",
       "      <td>1.042553</td>\n",
       "      <td>0.308081</td>\n",
       "      <td>1.033898</td>\n",
       "      <td>47</td>\n",
       "      <td>121</td>\n",
       "      <td>168</td>\n",
       "      <td>198</td>\n",
       "      <td>...</td>\n",
       "      <td>88.633728</td>\n",
       "      <td>CA1</td>\n",
       "      <td>16</td>\n",
       "      <td>887</td>\n",
       "      <td>male</td>\n",
       "      <td>APP/PS1</td>\n",
       "      <td>poor</td>\n",
       "      <td>suboptimal</td>\n",
       "      <td>optimal</td>\n",
       "      <td>False</td>\n",
       "    </tr>\n",
       "    <tr>\n",
       "      <th>1</th>\n",
       "      <td>1</td>\n",
       "      <td>DSB Iba1 16_40X_CA3</td>\n",
       "      <td>0.683616</td>\n",
       "      <td>1.551282</td>\n",
       "      <td>0.699454</td>\n",
       "      <td>1.542169</td>\n",
       "      <td>78</td>\n",
       "      <td>99</td>\n",
       "      <td>177</td>\n",
       "      <td>183</td>\n",
       "      <td>...</td>\n",
       "      <td>96.349525</td>\n",
       "      <td>CA3</td>\n",
       "      <td>16</td>\n",
       "      <td>887</td>\n",
       "      <td>male</td>\n",
       "      <td>APP/PS1</td>\n",
       "      <td>poor</td>\n",
       "      <td>suboptimal</td>\n",
       "      <td>optimal</td>\n",
       "      <td>False</td>\n",
       "    </tr>\n",
       "    <tr>\n",
       "      <th>2</th>\n",
       "      <td>2</td>\n",
       "      <td>DSB Iba1 16_40X_CTX1</td>\n",
       "      <td>0.081633</td>\n",
       "      <td>1.000000</td>\n",
       "      <td>0.164609</td>\n",
       "      <td>1.025641</td>\n",
       "      <td>4</td>\n",
       "      <td>45</td>\n",
       "      <td>49</td>\n",
       "      <td>243</td>\n",
       "      <td>...</td>\n",
       "      <td>13.598442</td>\n",
       "      <td>CTX1</td>\n",
       "      <td>16</td>\n",
       "      <td>887</td>\n",
       "      <td>male</td>\n",
       "      <td>APP/PS1</td>\n",
       "      <td>poor</td>\n",
       "      <td>optimal</td>\n",
       "      <td>optimal</td>\n",
       "      <td>False</td>\n",
       "    </tr>\n",
       "    <tr>\n",
       "      <th>3</th>\n",
       "      <td>3</td>\n",
       "      <td>DSB Iba1 16_40X_CTX2</td>\n",
       "      <td>0.429167</td>\n",
       "      <td>1.240964</td>\n",
       "      <td>0.425703</td>\n",
       "      <td>1.232558</td>\n",
       "      <td>83</td>\n",
       "      <td>157</td>\n",
       "      <td>240</td>\n",
       "      <td>249</td>\n",
       "      <td>...</td>\n",
       "      <td>94.930744</td>\n",
       "      <td>CTX2</td>\n",
       "      <td>16</td>\n",
       "      <td>887</td>\n",
       "      <td>male</td>\n",
       "      <td>APP/PS1</td>\n",
       "      <td>poor</td>\n",
       "      <td>suboptimal</td>\n",
       "      <td>optimal</td>\n",
       "      <td>False</td>\n",
       "    </tr>\n",
       "    <tr>\n",
       "      <th>4</th>\n",
       "      <td>4</td>\n",
       "      <td>DSB Iba1 16_40X_CTX3</td>\n",
       "      <td>0.543478</td>\n",
       "      <td>1.293103</td>\n",
       "      <td>0.524664</td>\n",
       "      <td>1.392857</td>\n",
       "      <td>58</td>\n",
       "      <td>80</td>\n",
       "      <td>138</td>\n",
       "      <td>223</td>\n",
       "      <td>...</td>\n",
       "      <td>54.768944</td>\n",
       "      <td>CTX3</td>\n",
       "      <td>16</td>\n",
       "      <td>887</td>\n",
       "      <td>male</td>\n",
       "      <td>APP/PS1</td>\n",
       "      <td>poor</td>\n",
       "      <td>suboptimal</td>\n",
       "      <td>optimal</td>\n",
       "      <td>False</td>\n",
       "    </tr>\n",
       "  </tbody>\n",
       "</table>\n",
       "<p>5 rows × 21 columns</p>\n",
       "</div>"
      ],
      "text/plain": [
       "   index              filename  avg_dna_damage_foci/glia_+  \\\n",
       "0      0   DSB Iba1 16_40X_CA1                    0.291667   \n",
       "1      1   DSB Iba1 16_40X_CA3                    0.683616   \n",
       "2      2  DSB Iba1 16_40X_CTX1                    0.081633   \n",
       "3      3  DSB Iba1 16_40X_CTX2                    0.429167   \n",
       "4      4  DSB Iba1 16_40X_CTX3                    0.543478   \n",
       "\n",
       "   avg_dna_damage_foci/glia_+_damage_+  avg_dna_damage_foci/all_nuclei  \\\n",
       "0                             1.042553                        0.308081   \n",
       "1                             1.551282                        0.699454   \n",
       "2                             1.000000                        0.164609   \n",
       "3                             1.240964                        0.425703   \n",
       "4                             1.293103                        0.524664   \n",
       "\n",
       "   avg_dna_damage_foci/all_nuclei_damage_+  nr_+_dna_damage_glia_nuclei  \\\n",
       "0                                 1.033898                           47   \n",
       "1                                 1.542169                           78   \n",
       "2                                 1.025641                            4   \n",
       "3                                 1.232558                           83   \n",
       "4                                 1.392857                           58   \n",
       "\n",
       "   nr_-_dna_damage_glia_nuclei  nr_glia_+_nuclei  nr_total_nuclei  ...  \\\n",
       "0                          121               168              198  ...   \n",
       "1                           99               177              183  ...   \n",
       "2                           45                49              243  ...   \n",
       "3                          157               240              249  ...   \n",
       "4                           80               138              223  ...   \n",
       "\n",
       "   %_glia+_signal  tissue_location staining_id  animal_id   sex genotype  \\\n",
       "0       88.633728              CA1          16        887  male  APP/PS1   \n",
       "1       96.349525              CA3          16        887  male  APP/PS1   \n",
       "2       13.598442             CTX1          16        887  male  APP/PS1   \n",
       "3       94.930744             CTX2          16        887  male  APP/PS1   \n",
       "4       54.768944             CTX3          16        887  male  APP/PS1   \n",
       "\n",
       "  dna_damage_stain_quality_manual glia_stain_quality_auto  \\\n",
       "0                            poor              suboptimal   \n",
       "1                            poor              suboptimal   \n",
       "2                            poor                 optimal   \n",
       "3                            poor              suboptimal   \n",
       "4                            poor              suboptimal   \n",
       "\n",
       "  dna_damage_stain_quality_auto staining_qc_passed  \n",
       "0                       optimal              False  \n",
       "1                       optimal              False  \n",
       "2                       optimal              False  \n",
       "3                       optimal              False  \n",
       "4                       optimal              False  \n",
       "\n",
       "[5 rows x 21 columns]"
      ]
     },
     "execution_count": 85,
     "metadata": {},
     "output_type": "execute_result"
    }
   ],
   "source": [
    "# Define a function to determine staining quality, anything above 3 times the mean value is considered an outlier\n",
    "def determine_stain_quality(value, mean_value):\n",
    "    if value < (mean_value + mean_value*3):\n",
    "        return \"optimal\"\n",
    "    else:\n",
    "        return \"suboptimal\"\n",
    "\n",
    "# Check stain quality for glia and create another column storing optimal or suboptimal if qc_passed or not    \n",
    "merged_df['glia_stain_quality_auto'] = merged_df['%_glia+_signal'].apply(lambda x: determine_stain_quality(x, glia_mask_area_mean))\n",
    "\n",
    "# Check stain quality for dna_damage and create another column storing optimal or suboptimal if qc_passed or not \n",
    "merged_df['dna_damage_stain_quality_auto'] = merged_df['%_dna_damage_signal'].apply(lambda x: determine_stain_quality(x, dna_damage_mask_area_mean))\n",
    "\n",
    "# Check for both stain qualities and store True qc_passed if both are optimal\n",
    "merged_df['staining_qc_passed'] = (merged_df['glia_stain_quality_auto'] == 'optimal') & (merged_df['dna_damage_stain_quality_auto'] == 'optimal')\n",
    "\n",
    "# Group the DataFrame by 'staining_id' and check if all 'staining_qc_passed' values are True, otherwise set them all to False\n",
    "merged_df['staining_qc_passed'] = merged_df.groupby('staining_id')['staining_qc_passed'].transform('all')\n",
    "\n",
    "# Now, if all 'staining_qc_passed' values for the same 'staining_id' were True, the column will remain True; otherwise, it will be False\n",
    "\n",
    "merged_df.head()"
   ]
  },
  {
   "cell_type": "code",
   "execution_count": 86,
   "metadata": {},
   "outputs": [
    {
     "name": "stdout",
     "output_type": "stream",
     "text": [
      "Cellpose nuclei diameter: 30\n",
      "Gaussian sigma: 6\n",
      "Dilation radius nuclei: 4\n",
      "Glia channel threshold: 20\n",
      "Dna damage segmenter version: 3\n"
     ]
    }
   ],
   "source": [
    "# Extract numbers from the CSV path\n",
    "extracted_values = re.findall(r'\\d+', csv_path)\n",
    "\n",
    "# Dynamically assign the extracted values to variables\n",
    "if len(extracted_values) >= 5:\n",
    "    cellpose_nuclei_diameter = int(extracted_values[0])\n",
    "    gaussian_sigma = int(extracted_values[1])\n",
    "    dilation_radius_nuclei = int(extracted_values[2])\n",
    "    glia_channel_threshold = int(extracted_values[3])\n",
    "    dna_damage_segmenter_version = int(extracted_values[4])\n",
    "\n",
    "# Print the assigned analysis parameters\n",
    "print(f\"Cellpose nuclei diameter: {cellpose_nuclei_diameter}\")\n",
    "print(f\"Gaussian sigma: {gaussian_sigma}\")\n",
    "print(f\"Dilation radius nuclei: {dilation_radius_nuclei}\")\n",
    "print(f\"Glia channel threshold: {glia_channel_threshold}\")\n",
    "print(f\"Dna damage segmenter version: {dna_damage_segmenter_version}\")"
   ]
  },
  {
   "cell_type": "code",
   "execution_count": 87,
   "metadata": {},
   "outputs": [],
   "source": [
    "# Save a copy of the qc_failed dataframe as .csv\n",
    "merged_df.to_csv(f'qc_cellpdia{cellpose_nuclei_diameter}_sigma{gaussian_sigma}_dilrad{dilation_radius_nuclei}_gliathr{glia_channel_threshold}_dnad_obj_seg_v{dna_damage_segmenter_version}.csv', index=False)"
   ]
  },
  {
   "cell_type": "code",
   "execution_count": 88,
   "metadata": {},
   "outputs": [],
   "source": [
    "# Remove data from images with a poor quality stain (auto QC)\n",
    "auto_filtered_df = merged_df[merged_df['staining_qc_passed'] == True]"
   ]
  },
  {
   "cell_type": "code",
   "execution_count": 89,
   "metadata": {},
   "outputs": [
    {
     "name": "stderr",
     "output_type": "stream",
     "text": [
      "c:\\Users\\albertds\\mambaforge\\envs\\microglia\\lib\\site-packages\\plotly\\express\\_core.py:2065: FutureWarning:\n",
      "\n",
      "When grouping with a length-1 list-like, you will need to pass a length-1 tuple to get_group in a future version of pandas. Pass `(name,)` instead of `name` to silence this warning.\n",
      "\n"
     ]
    },
    {
     "data": {
      "application/vnd.plotly.v1+json": {
       "config": {
        "plotlyServerURL": "https://plot.ly"
       },
       "data": [
        {
         "alignmentgroup": "True",
         "hovertemplate": "genotype=APP/PS1 x Neil3 KO<br>tissue_location=%{x}<br>avg_dna_damage_foci/glia_+=%{y}<extra></extra>",
         "legendgroup": "APP/PS1 x Neil3 KO",
         "marker": {
          "color": "#636efa"
         },
         "name": "APP/PS1 x Neil3 KO",
         "notched": false,
         "offsetgroup": "APP/PS1 x Neil3 KO",
         "orientation": "v",
         "showlegend": true,
         "type": "box",
         "x": [
          "CA1",
          "CA3",
          "CTX1",
          "CTX2",
          "CTX3",
          "DG",
          "CA1",
          "CA3",
          "CTX1",
          "CTX2",
          "CTX3",
          "DG",
          "CA1",
          "CA3",
          "CTX1",
          "CTX2",
          "CTX3",
          "DG",
          "CA1",
          "CA3",
          "CTX1",
          "CTX2",
          "CTX3",
          "DG",
          "CA1",
          "CA3",
          "CTX1",
          "CTX2",
          "CTX3",
          "DG",
          "DG",
          "CA1",
          "CA3",
          "CTX1",
          "CTX2",
          "CTX3",
          "DG",
          "CA1",
          "CA3",
          "CTX1",
          "CTX2",
          "CTX3",
          "DG",
          "CA1",
          "CA3",
          "CTX1",
          "CTX2",
          "CTX3",
          "DG",
          "CA1",
          "CA3",
          "CTX1",
          "CTX2",
          "CTX3",
          "DG",
          "CA1",
          "CA3",
          "CTX1",
          "CTX2",
          "CTX3",
          "DG",
          "CA1",
          "CA3",
          "CTX1",
          "CTX2",
          "CTX3",
          "DG",
          "CA1",
          "CA3",
          "CTX1",
          "CTX2",
          "CTX3",
          "DG",
          "CA1",
          "CA3",
          "CTX1",
          "CTX2",
          "CTX3",
          "DG"
         ],
         "x0": " ",
         "xaxis": "x",
         "y": [
          0.75,
          0.9,
          0.875,
          1.1764705882352942,
          0.3333333333333333,
          1.1666666666666667,
          1.0909090909090908,
          0.6,
          1.2272727272727273,
          1,
          1.2142857142857142,
          0.9444444444444444,
          0.5714285714285714,
          1,
          0.6111111111111112,
          0.2631578947368421,
          0.6829268292682927,
          0.6,
          1,
          0.6666666666666666,
          0.7391304347826086,
          1.0740740740740742,
          0.7857142857142857,
          0.875,
          0.2692307692307692,
          0.696969696969697,
          0.4745762711864407,
          0.7105263157894737,
          0.62,
          0.7183098591549296,
          0.375,
          0.4,
          0.625,
          0.9090909090909092,
          0.5294117647058824,
          1.1304347826086956,
          1.8,
          0.5,
          0,
          null,
          0,
          0.2857142857142857,
          0.8333333333333334,
          0.6666666666666666,
          0.1052631578947368,
          0.4666666666666667,
          0.28,
          0.4,
          0.3103448275862069,
          0.0476190476190476,
          0,
          0,
          0.0952380952380952,
          0.28125,
          0.3333333333333333,
          0.2222222222222222,
          0.4285714285714285,
          0,
          0.3902439024390244,
          0.303030303030303,
          0.391304347826087,
          0.3571428571428571,
          0.375,
          0.5263157894736842,
          0.4705882352941176,
          0.2222222222222222,
          0.5,
          0.8571428571428571,
          0.5,
          0.8421052631578947,
          0.9,
          0.4444444444444444,
          0.5,
          0.4,
          0.375,
          0.4615384615384615,
          0.4782608695652174,
          0.4814814814814814,
          1.1111111111111112
         ],
         "y0": " ",
         "yaxis": "y"
        },
        {
         "alignmentgroup": "True",
         "hovertemplate": "genotype=APP/PS1<br>tissue_location=%{x}<br>avg_dna_damage_foci/glia_+=%{y}<extra></extra>",
         "legendgroup": "APP/PS1",
         "marker": {
          "color": "#EF553B"
         },
         "name": "APP/PS1",
         "notched": false,
         "offsetgroup": "APP/PS1",
         "orientation": "v",
         "showlegend": true,
         "type": "box",
         "x": [
          "CA1",
          "CA3",
          "CTX1",
          "CTX2",
          "CTX3",
          "DG",
          "CA1",
          "CA3",
          "CTX1",
          "CTX2",
          "CTX3",
          "DG",
          "CA1",
          "CA3",
          "CTX1",
          "CTX2",
          "CTX3",
          "DG",
          "DG",
          "CA1",
          "CA3",
          "CTX1",
          "CTX2",
          "CTX3",
          "DG",
          "CA1",
          "CA3",
          "CTX1",
          "CTX2",
          "CTX3",
          "DG",
          "CA1",
          "CA3",
          "CTX1",
          "CTX2",
          "CTX3",
          "DG",
          "CA1",
          "CA3",
          "CTX1",
          "CTX2",
          "CTX3",
          "DG",
          "CA1",
          "CA3",
          "CTX1",
          "CTX2",
          "CTX3",
          "DG",
          "CA1",
          "CA3",
          "CTX1",
          "CTX2",
          "CTX3",
          "DG",
          "CA1",
          "CA3",
          "CTX1",
          "CTX2",
          "CTX3",
          "DG",
          "CA1",
          "CA3",
          "CTX1",
          "CTX2",
          "CTX3",
          "DG",
          "CA1",
          "CA3",
          "CTX1",
          "CTX2",
          "CTX3",
          "DG",
          "CA1",
          "CA3",
          "CTX1",
          "CTX2",
          "CTX3",
          "DG",
          "CA1",
          "CA3",
          "CTX1",
          "CTX2",
          "CTX3",
          "DG",
          "CA1",
          "CA3",
          "CTX1",
          "CTX2",
          "CTX3",
          "DG"
         ],
         "x0": " ",
         "xaxis": "x",
         "y": [
          0.7222222222222222,
          1,
          1,
          0.5263157894736842,
          0.7272727272727273,
          0.9444444444444444,
          0.2857142857142857,
          0.7142857142857143,
          0.3214285714285714,
          0,
          0.6875,
          0.6153846153846154,
          0,
          0,
          0,
          0.2068965517241379,
          0.05,
          0.1428571428571428,
          0.5555555555555556,
          0,
          0.3333333333333333,
          0.7142857142857143,
          0.3809523809523809,
          0.7142857142857143,
          0.1428571428571428,
          0.7142857142857143,
          0.3333333333333333,
          0.2631578947368421,
          0.2777777777777778,
          0.5294117647058824,
          1.1538461538461535,
          0.25,
          0.0714285714285714,
          0.7368421052631579,
          0.6333333333333333,
          0.7631578947368421,
          0.2,
          0.6666666666666666,
          0.4285714285714285,
          0.2857142857142857,
          0.125,
          0.6,
          1.1,
          1.5,
          0.7,
          0.0909090909090909,
          0.4210526315789473,
          0.7,
          0.6,
          0.5,
          0.5555555555555556,
          0.1470588235294117,
          0.4757281553398058,
          0.5,
          0.8888888888888888,
          1.1428571428571428,
          1,
          0.7142857142857143,
          0.7272727272727273,
          0.7619047619047619,
          1.0769230769230769,
          0.2857142857142857,
          0.5,
          0.2777777777777778,
          0.25,
          0.3157894736842105,
          0.5789473684210527,
          0.7,
          1,
          0.6511627906976745,
          0.8055555555555556,
          0.6818181818181818,
          1,
          0.8571428571428571,
          1.3333333333333333,
          0.3478260869565217,
          0.625,
          0.8260869565217391,
          0.6842105263157895,
          0.3333333333333333,
          0.5,
          0.1111111111111111,
          0.2142857142857142,
          0,
          0.6666666666666666,
          0.625,
          0.35,
          0.5909090909090909,
          0.4782608695652174,
          0.1176470588235294,
          0.7222222222222222
         ],
         "y0": " ",
         "yaxis": "y"
        }
       ],
       "layout": {
        "boxmode": "group",
        "legend": {
         "title": {
          "text": "genotype"
         },
         "tracegroupgap": 0
        },
        "template": {
         "data": {
          "bar": [
           {
            "error_x": {
             "color": "#2a3f5f"
            },
            "error_y": {
             "color": "#2a3f5f"
            },
            "marker": {
             "line": {
              "color": "#E5ECF6",
              "width": 0.5
             },
             "pattern": {
              "fillmode": "overlay",
              "size": 10,
              "solidity": 0.2
             }
            },
            "type": "bar"
           }
          ],
          "barpolar": [
           {
            "marker": {
             "line": {
              "color": "#E5ECF6",
              "width": 0.5
             },
             "pattern": {
              "fillmode": "overlay",
              "size": 10,
              "solidity": 0.2
             }
            },
            "type": "barpolar"
           }
          ],
          "carpet": [
           {
            "aaxis": {
             "endlinecolor": "#2a3f5f",
             "gridcolor": "white",
             "linecolor": "white",
             "minorgridcolor": "white",
             "startlinecolor": "#2a3f5f"
            },
            "baxis": {
             "endlinecolor": "#2a3f5f",
             "gridcolor": "white",
             "linecolor": "white",
             "minorgridcolor": "white",
             "startlinecolor": "#2a3f5f"
            },
            "type": "carpet"
           }
          ],
          "choropleth": [
           {
            "colorbar": {
             "outlinewidth": 0,
             "ticks": ""
            },
            "type": "choropleth"
           }
          ],
          "contour": [
           {
            "colorbar": {
             "outlinewidth": 0,
             "ticks": ""
            },
            "colorscale": [
             [
              0,
              "#0d0887"
             ],
             [
              0.1111111111111111,
              "#46039f"
             ],
             [
              0.2222222222222222,
              "#7201a8"
             ],
             [
              0.3333333333333333,
              "#9c179e"
             ],
             [
              0.4444444444444444,
              "#bd3786"
             ],
             [
              0.5555555555555556,
              "#d8576b"
             ],
             [
              0.6666666666666666,
              "#ed7953"
             ],
             [
              0.7777777777777778,
              "#fb9f3a"
             ],
             [
              0.8888888888888888,
              "#fdca26"
             ],
             [
              1,
              "#f0f921"
             ]
            ],
            "type": "contour"
           }
          ],
          "contourcarpet": [
           {
            "colorbar": {
             "outlinewidth": 0,
             "ticks": ""
            },
            "type": "contourcarpet"
           }
          ],
          "heatmap": [
           {
            "colorbar": {
             "outlinewidth": 0,
             "ticks": ""
            },
            "colorscale": [
             [
              0,
              "#0d0887"
             ],
             [
              0.1111111111111111,
              "#46039f"
             ],
             [
              0.2222222222222222,
              "#7201a8"
             ],
             [
              0.3333333333333333,
              "#9c179e"
             ],
             [
              0.4444444444444444,
              "#bd3786"
             ],
             [
              0.5555555555555556,
              "#d8576b"
             ],
             [
              0.6666666666666666,
              "#ed7953"
             ],
             [
              0.7777777777777778,
              "#fb9f3a"
             ],
             [
              0.8888888888888888,
              "#fdca26"
             ],
             [
              1,
              "#f0f921"
             ]
            ],
            "type": "heatmap"
           }
          ],
          "heatmapgl": [
           {
            "colorbar": {
             "outlinewidth": 0,
             "ticks": ""
            },
            "colorscale": [
             [
              0,
              "#0d0887"
             ],
             [
              0.1111111111111111,
              "#46039f"
             ],
             [
              0.2222222222222222,
              "#7201a8"
             ],
             [
              0.3333333333333333,
              "#9c179e"
             ],
             [
              0.4444444444444444,
              "#bd3786"
             ],
             [
              0.5555555555555556,
              "#d8576b"
             ],
             [
              0.6666666666666666,
              "#ed7953"
             ],
             [
              0.7777777777777778,
              "#fb9f3a"
             ],
             [
              0.8888888888888888,
              "#fdca26"
             ],
             [
              1,
              "#f0f921"
             ]
            ],
            "type": "heatmapgl"
           }
          ],
          "histogram": [
           {
            "marker": {
             "pattern": {
              "fillmode": "overlay",
              "size": 10,
              "solidity": 0.2
             }
            },
            "type": "histogram"
           }
          ],
          "histogram2d": [
           {
            "colorbar": {
             "outlinewidth": 0,
             "ticks": ""
            },
            "colorscale": [
             [
              0,
              "#0d0887"
             ],
             [
              0.1111111111111111,
              "#46039f"
             ],
             [
              0.2222222222222222,
              "#7201a8"
             ],
             [
              0.3333333333333333,
              "#9c179e"
             ],
             [
              0.4444444444444444,
              "#bd3786"
             ],
             [
              0.5555555555555556,
              "#d8576b"
             ],
             [
              0.6666666666666666,
              "#ed7953"
             ],
             [
              0.7777777777777778,
              "#fb9f3a"
             ],
             [
              0.8888888888888888,
              "#fdca26"
             ],
             [
              1,
              "#f0f921"
             ]
            ],
            "type": "histogram2d"
           }
          ],
          "histogram2dcontour": [
           {
            "colorbar": {
             "outlinewidth": 0,
             "ticks": ""
            },
            "colorscale": [
             [
              0,
              "#0d0887"
             ],
             [
              0.1111111111111111,
              "#46039f"
             ],
             [
              0.2222222222222222,
              "#7201a8"
             ],
             [
              0.3333333333333333,
              "#9c179e"
             ],
             [
              0.4444444444444444,
              "#bd3786"
             ],
             [
              0.5555555555555556,
              "#d8576b"
             ],
             [
              0.6666666666666666,
              "#ed7953"
             ],
             [
              0.7777777777777778,
              "#fb9f3a"
             ],
             [
              0.8888888888888888,
              "#fdca26"
             ],
             [
              1,
              "#f0f921"
             ]
            ],
            "type": "histogram2dcontour"
           }
          ],
          "mesh3d": [
           {
            "colorbar": {
             "outlinewidth": 0,
             "ticks": ""
            },
            "type": "mesh3d"
           }
          ],
          "parcoords": [
           {
            "line": {
             "colorbar": {
              "outlinewidth": 0,
              "ticks": ""
             }
            },
            "type": "parcoords"
           }
          ],
          "pie": [
           {
            "automargin": true,
            "type": "pie"
           }
          ],
          "scatter": [
           {
            "fillpattern": {
             "fillmode": "overlay",
             "size": 10,
             "solidity": 0.2
            },
            "type": "scatter"
           }
          ],
          "scatter3d": [
           {
            "line": {
             "colorbar": {
              "outlinewidth": 0,
              "ticks": ""
             }
            },
            "marker": {
             "colorbar": {
              "outlinewidth": 0,
              "ticks": ""
             }
            },
            "type": "scatter3d"
           }
          ],
          "scattercarpet": [
           {
            "marker": {
             "colorbar": {
              "outlinewidth": 0,
              "ticks": ""
             }
            },
            "type": "scattercarpet"
           }
          ],
          "scattergeo": [
           {
            "marker": {
             "colorbar": {
              "outlinewidth": 0,
              "ticks": ""
             }
            },
            "type": "scattergeo"
           }
          ],
          "scattergl": [
           {
            "marker": {
             "colorbar": {
              "outlinewidth": 0,
              "ticks": ""
             }
            },
            "type": "scattergl"
           }
          ],
          "scattermapbox": [
           {
            "marker": {
             "colorbar": {
              "outlinewidth": 0,
              "ticks": ""
             }
            },
            "type": "scattermapbox"
           }
          ],
          "scatterpolar": [
           {
            "marker": {
             "colorbar": {
              "outlinewidth": 0,
              "ticks": ""
             }
            },
            "type": "scatterpolar"
           }
          ],
          "scatterpolargl": [
           {
            "marker": {
             "colorbar": {
              "outlinewidth": 0,
              "ticks": ""
             }
            },
            "type": "scatterpolargl"
           }
          ],
          "scatterternary": [
           {
            "marker": {
             "colorbar": {
              "outlinewidth": 0,
              "ticks": ""
             }
            },
            "type": "scatterternary"
           }
          ],
          "surface": [
           {
            "colorbar": {
             "outlinewidth": 0,
             "ticks": ""
            },
            "colorscale": [
             [
              0,
              "#0d0887"
             ],
             [
              0.1111111111111111,
              "#46039f"
             ],
             [
              0.2222222222222222,
              "#7201a8"
             ],
             [
              0.3333333333333333,
              "#9c179e"
             ],
             [
              0.4444444444444444,
              "#bd3786"
             ],
             [
              0.5555555555555556,
              "#d8576b"
             ],
             [
              0.6666666666666666,
              "#ed7953"
             ],
             [
              0.7777777777777778,
              "#fb9f3a"
             ],
             [
              0.8888888888888888,
              "#fdca26"
             ],
             [
              1,
              "#f0f921"
             ]
            ],
            "type": "surface"
           }
          ],
          "table": [
           {
            "cells": {
             "fill": {
              "color": "#EBF0F8"
             },
             "line": {
              "color": "white"
             }
            },
            "header": {
             "fill": {
              "color": "#C8D4E3"
             },
             "line": {
              "color": "white"
             }
            },
            "type": "table"
           }
          ]
         },
         "layout": {
          "annotationdefaults": {
           "arrowcolor": "#2a3f5f",
           "arrowhead": 0,
           "arrowwidth": 1
          },
          "autotypenumbers": "strict",
          "coloraxis": {
           "colorbar": {
            "outlinewidth": 0,
            "ticks": ""
           }
          },
          "colorscale": {
           "diverging": [
            [
             0,
             "#8e0152"
            ],
            [
             0.1,
             "#c51b7d"
            ],
            [
             0.2,
             "#de77ae"
            ],
            [
             0.3,
             "#f1b6da"
            ],
            [
             0.4,
             "#fde0ef"
            ],
            [
             0.5,
             "#f7f7f7"
            ],
            [
             0.6,
             "#e6f5d0"
            ],
            [
             0.7,
             "#b8e186"
            ],
            [
             0.8,
             "#7fbc41"
            ],
            [
             0.9,
             "#4d9221"
            ],
            [
             1,
             "#276419"
            ]
           ],
           "sequential": [
            [
             0,
             "#0d0887"
            ],
            [
             0.1111111111111111,
             "#46039f"
            ],
            [
             0.2222222222222222,
             "#7201a8"
            ],
            [
             0.3333333333333333,
             "#9c179e"
            ],
            [
             0.4444444444444444,
             "#bd3786"
            ],
            [
             0.5555555555555556,
             "#d8576b"
            ],
            [
             0.6666666666666666,
             "#ed7953"
            ],
            [
             0.7777777777777778,
             "#fb9f3a"
            ],
            [
             0.8888888888888888,
             "#fdca26"
            ],
            [
             1,
             "#f0f921"
            ]
           ],
           "sequentialminus": [
            [
             0,
             "#0d0887"
            ],
            [
             0.1111111111111111,
             "#46039f"
            ],
            [
             0.2222222222222222,
             "#7201a8"
            ],
            [
             0.3333333333333333,
             "#9c179e"
            ],
            [
             0.4444444444444444,
             "#bd3786"
            ],
            [
             0.5555555555555556,
             "#d8576b"
            ],
            [
             0.6666666666666666,
             "#ed7953"
            ],
            [
             0.7777777777777778,
             "#fb9f3a"
            ],
            [
             0.8888888888888888,
             "#fdca26"
            ],
            [
             1,
             "#f0f921"
            ]
           ]
          },
          "colorway": [
           "#636efa",
           "#EF553B",
           "#00cc96",
           "#ab63fa",
           "#FFA15A",
           "#19d3f3",
           "#FF6692",
           "#B6E880",
           "#FF97FF",
           "#FECB52"
          ],
          "font": {
           "color": "#2a3f5f"
          },
          "geo": {
           "bgcolor": "white",
           "lakecolor": "white",
           "landcolor": "#E5ECF6",
           "showlakes": true,
           "showland": true,
           "subunitcolor": "white"
          },
          "hoverlabel": {
           "align": "left"
          },
          "hovermode": "closest",
          "mapbox": {
           "style": "light"
          },
          "paper_bgcolor": "white",
          "plot_bgcolor": "#E5ECF6",
          "polar": {
           "angularaxis": {
            "gridcolor": "white",
            "linecolor": "white",
            "ticks": ""
           },
           "bgcolor": "#E5ECF6",
           "radialaxis": {
            "gridcolor": "white",
            "linecolor": "white",
            "ticks": ""
           }
          },
          "scene": {
           "xaxis": {
            "backgroundcolor": "#E5ECF6",
            "gridcolor": "white",
            "gridwidth": 2,
            "linecolor": "white",
            "showbackground": true,
            "ticks": "",
            "zerolinecolor": "white"
           },
           "yaxis": {
            "backgroundcolor": "#E5ECF6",
            "gridcolor": "white",
            "gridwidth": 2,
            "linecolor": "white",
            "showbackground": true,
            "ticks": "",
            "zerolinecolor": "white"
           },
           "zaxis": {
            "backgroundcolor": "#E5ECF6",
            "gridcolor": "white",
            "gridwidth": 2,
            "linecolor": "white",
            "showbackground": true,
            "ticks": "",
            "zerolinecolor": "white"
           }
          },
          "shapedefaults": {
           "line": {
            "color": "#2a3f5f"
           }
          },
          "ternary": {
           "aaxis": {
            "gridcolor": "white",
            "linecolor": "white",
            "ticks": ""
           },
           "baxis": {
            "gridcolor": "white",
            "linecolor": "white",
            "ticks": ""
           },
           "bgcolor": "#E5ECF6",
           "caxis": {
            "gridcolor": "white",
            "linecolor": "white",
            "ticks": ""
           }
          },
          "title": {
           "x": 0.05
          },
          "xaxis": {
           "automargin": true,
           "gridcolor": "white",
           "linecolor": "white",
           "ticks": "",
           "title": {
            "standoff": 15
           },
           "zerolinecolor": "white",
           "zerolinewidth": 2
          },
          "yaxis": {
           "automargin": true,
           "gridcolor": "white",
           "linecolor": "white",
           "ticks": "",
           "title": {
            "standoff": 15
           },
           "zerolinecolor": "white",
           "zerolinewidth": 2
          }
         }
        },
        "title": {
         "text": "DNA Damage in Glia Nuclei by Tissue Location and Genotype (sex-aggregated) - Auto stain QC - qc_cellpdia30_sigma6_dilrad4_gliathr20"
        },
        "xaxis": {
         "anchor": "y",
         "domain": [
          0,
          1
         ],
         "title": {
          "text": "tissue_location"
         }
        },
        "yaxis": {
         "anchor": "x",
         "domain": [
          0,
          1
         ],
         "title": {
          "text": "avg_dna_damage_foci/glia_+"
         }
        }
       }
      }
     },
     "metadata": {},
     "output_type": "display_data"
    }
   ],
   "source": [
    "# Create the boxplot\n",
    "fig = px.box(auto_filtered_df, x='tissue_location', y='avg_dna_damage_foci/glia_+',\n",
    "             color='genotype', # Different genotypes will be shown in different colors\n",
    "             title=f'DNA Damage in Glia Nuclei by Tissue Location and Genotype (sex-aggregated) - Auto stain QC - qc_cellpdia{cellpose_nuclei_diameter}_sigma{gaussian_sigma}_dilrad{dilation_radius_nuclei}_gliathr{glia_channel_threshold}')\n",
    "\n",
    "# Show the plot\n",
    "fig.show()"
   ]
  },
  {
   "cell_type": "code",
   "execution_count": 90,
   "metadata": {},
   "outputs": [
    {
     "name": "stderr",
     "output_type": "stream",
     "text": [
      "c:\\Users\\albertds\\mambaforge\\envs\\microglia\\lib\\site-packages\\plotly\\express\\_core.py:2065: FutureWarning:\n",
      "\n",
      "When grouping with a length-1 list-like, you will need to pass a length-1 tuple to get_group in a future version of pandas. Pass `(name,)` instead of `name` to silence this warning.\n",
      "\n"
     ]
    },
    {
     "data": {
      "application/vnd.plotly.v1+json": {
       "config": {
        "plotlyServerURL": "https://plot.ly"
       },
       "data": [
        {
         "alignmentgroup": "True",
         "hovertemplate": "genotype=APP/PS1 x Neil3 KO<br>tissue_location=%{x}<br>avg_dna_damage_foci/glia_+_damage_+=%{y}<extra></extra>",
         "legendgroup": "APP/PS1 x Neil3 KO",
         "marker": {
          "color": "#636efa"
         },
         "name": "APP/PS1 x Neil3 KO",
         "notched": false,
         "offsetgroup": "APP/PS1 x Neil3 KO",
         "orientation": "v",
         "showlegend": true,
         "type": "box",
         "x": [
          "CA1",
          "CA3",
          "CTX1",
          "CTX2",
          "CTX3",
          "DG",
          "CA1",
          "CA3",
          "CTX1",
          "CTX2",
          "CTX3",
          "DG",
          "CA1",
          "CA3",
          "CTX1",
          "CTX2",
          "CTX3",
          "DG",
          "CA1",
          "CA3",
          "CTX1",
          "CTX2",
          "CTX3",
          "DG",
          "CA1",
          "CA3",
          "CTX1",
          "CTX2",
          "CTX3",
          "DG",
          "DG",
          "CA1",
          "CA3",
          "CTX1",
          "CTX2",
          "CTX3",
          "DG",
          "CA1",
          "CA3",
          "CTX1",
          "CTX2",
          "CTX3",
          "DG",
          "CA1",
          "CA3",
          "CTX1",
          "CTX2",
          "CTX3",
          "DG",
          "CA1",
          "CA3",
          "CTX1",
          "CTX2",
          "CTX3",
          "DG",
          "CA1",
          "CA3",
          "CTX1",
          "CTX2",
          "CTX3",
          "DG",
          "CA1",
          "CA3",
          "CTX1",
          "CTX2",
          "CTX3",
          "DG",
          "CA1",
          "CA3",
          "CTX1",
          "CTX2",
          "CTX3",
          "DG",
          "CA1",
          "CA3",
          "CTX1",
          "CTX2",
          "CTX3",
          "DG"
         ],
         "x0": " ",
         "xaxis": "x",
         "y": [
          1.2,
          1.2857142857142858,
          1.75,
          1.818181818181818,
          1,
          1.75,
          1.7142857142857142,
          1,
          1.9285714285714288,
          1.3333333333333333,
          1.7894736842105263,
          1.4166666666666667,
          1.1428571428571428,
          1.1666666666666667,
          1.2222222222222223,
          1,
          1.2173913043478262,
          1.8,
          1.8,
          1.3333333333333333,
          1.7,
          1.6111111111111112,
          1.375,
          1.4,
          1.1666666666666667,
          1.4375,
          1.4,
          1.4594594594594594,
          1.24,
          1.7586206896551724,
          1,
          1,
          1,
          1.6666666666666667,
          1.125,
          1.3,
          2.25,
          1,
          null,
          null,
          null,
          1,
          1.25,
          1.4545454545454546,
          1,
          1.1666666666666667,
          1,
          1.2,
          1.2857142857142858,
          1,
          null,
          null,
          1,
          1,
          1.1666666666666667,
          1,
          1,
          null,
          1.1428571428571428,
          1.1111111111111112,
          1,
          1.25,
          1,
          1.25,
          1.1428571428571428,
          1,
          1.5555555555555556,
          1.5,
          1,
          1.4545454545454546,
          1.8,
          1,
          1,
          1,
          1,
          1.2,
          1,
          1.3,
          1.4285714285714286
         ],
         "y0": " ",
         "yaxis": "y"
        },
        {
         "alignmentgroup": "True",
         "hovertemplate": "genotype=APP/PS1<br>tissue_location=%{x}<br>avg_dna_damage_foci/glia_+_damage_+=%{y}<extra></extra>",
         "legendgroup": "APP/PS1",
         "marker": {
          "color": "#EF553B"
         },
         "name": "APP/PS1",
         "notched": false,
         "offsetgroup": "APP/PS1",
         "orientation": "v",
         "showlegend": true,
         "type": "box",
         "x": [
          "CA1",
          "CA3",
          "CTX1",
          "CTX2",
          "CTX3",
          "DG",
          "CA1",
          "CA3",
          "CTX1",
          "CTX2",
          "CTX3",
          "DG",
          "CA1",
          "CA3",
          "CTX1",
          "CTX2",
          "CTX3",
          "DG",
          "DG",
          "CA1",
          "CA3",
          "CTX1",
          "CTX2",
          "CTX3",
          "DG",
          "CA1",
          "CA3",
          "CTX1",
          "CTX2",
          "CTX3",
          "DG",
          "CA1",
          "CA3",
          "CTX1",
          "CTX2",
          "CTX3",
          "DG",
          "CA1",
          "CA3",
          "CTX1",
          "CTX2",
          "CTX3",
          "DG",
          "CA1",
          "CA3",
          "CTX1",
          "CTX2",
          "CTX3",
          "DG",
          "CA1",
          "CA3",
          "CTX1",
          "CTX2",
          "CTX3",
          "DG",
          "CA1",
          "CA3",
          "CTX1",
          "CTX2",
          "CTX3",
          "DG",
          "CA1",
          "CA3",
          "CTX1",
          "CTX2",
          "CTX3",
          "DG",
          "CA1",
          "CA3",
          "CTX1",
          "CTX2",
          "CTX3",
          "DG",
          "CA1",
          "CA3",
          "CTX1",
          "CTX2",
          "CTX3",
          "DG",
          "CA1",
          "CA3",
          "CTX1",
          "CTX2",
          "CTX3",
          "DG",
          "CA1",
          "CA3",
          "CTX1",
          "CTX2",
          "CTX3",
          "DG"
         ],
         "x0": " ",
         "xaxis": "x",
         "y": [
          1.8571428571428568,
          1.75,
          1.8571428571428568,
          1.4285714285714286,
          1.3333333333333333,
          1.5454545454545454,
          1,
          1.6666666666666667,
          1.125,
          null,
          1.2222222222222223,
          1.3333333333333333,
          null,
          null,
          null,
          1,
          1,
          1,
          1.6666666666666667,
          null,
          1,
          1.875,
          1.6,
          1.4285714285714286,
          1,
          1.4285714285714286,
          1,
          1.25,
          1,
          1.2857142857142858,
          2.142857142857143,
          1,
          1,
          1.2727272727272727,
          1.4615384615384617,
          1.318181818181818,
          2,
          1.3333333333333333,
          1,
          1,
          1,
          1.5,
          1.375,
          1.5,
          1.75,
          1,
          1.3333333333333333,
          1.1666666666666667,
          1.5,
          1.5,
          1.6666666666666667,
          1,
          1.225,
          1.181818181818182,
          1.7777777777777777,
          1.6,
          1.25,
          1.7857142857142858,
          1.6,
          1.4545454545454546,
          1.75,
          1.5,
          1.1666666666666667,
          1.25,
          1.4,
          1.2,
          1.5714285714285714,
          1.4,
          1.4,
          1.2727272727272727,
          1.45,
          1.5,
          2.111111111111111,
          1.2,
          1.3333333333333333,
          1.1428571428571428,
          1.25,
          1.5833333333333333,
          1.181818181818182,
          1,
          1,
          1,
          1,
          null,
          1.3333333333333333,
          1.6666666666666667,
          1.75,
          1.625,
          1.375,
          1,
          1.3
         ],
         "y0": " ",
         "yaxis": "y"
        }
       ],
       "layout": {
        "boxmode": "group",
        "legend": {
         "title": {
          "text": "genotype"
         },
         "tracegroupgap": 0
        },
        "template": {
         "data": {
          "bar": [
           {
            "error_x": {
             "color": "#2a3f5f"
            },
            "error_y": {
             "color": "#2a3f5f"
            },
            "marker": {
             "line": {
              "color": "#E5ECF6",
              "width": 0.5
             },
             "pattern": {
              "fillmode": "overlay",
              "size": 10,
              "solidity": 0.2
             }
            },
            "type": "bar"
           }
          ],
          "barpolar": [
           {
            "marker": {
             "line": {
              "color": "#E5ECF6",
              "width": 0.5
             },
             "pattern": {
              "fillmode": "overlay",
              "size": 10,
              "solidity": 0.2
             }
            },
            "type": "barpolar"
           }
          ],
          "carpet": [
           {
            "aaxis": {
             "endlinecolor": "#2a3f5f",
             "gridcolor": "white",
             "linecolor": "white",
             "minorgridcolor": "white",
             "startlinecolor": "#2a3f5f"
            },
            "baxis": {
             "endlinecolor": "#2a3f5f",
             "gridcolor": "white",
             "linecolor": "white",
             "minorgridcolor": "white",
             "startlinecolor": "#2a3f5f"
            },
            "type": "carpet"
           }
          ],
          "choropleth": [
           {
            "colorbar": {
             "outlinewidth": 0,
             "ticks": ""
            },
            "type": "choropleth"
           }
          ],
          "contour": [
           {
            "colorbar": {
             "outlinewidth": 0,
             "ticks": ""
            },
            "colorscale": [
             [
              0,
              "#0d0887"
             ],
             [
              0.1111111111111111,
              "#46039f"
             ],
             [
              0.2222222222222222,
              "#7201a8"
             ],
             [
              0.3333333333333333,
              "#9c179e"
             ],
             [
              0.4444444444444444,
              "#bd3786"
             ],
             [
              0.5555555555555556,
              "#d8576b"
             ],
             [
              0.6666666666666666,
              "#ed7953"
             ],
             [
              0.7777777777777778,
              "#fb9f3a"
             ],
             [
              0.8888888888888888,
              "#fdca26"
             ],
             [
              1,
              "#f0f921"
             ]
            ],
            "type": "contour"
           }
          ],
          "contourcarpet": [
           {
            "colorbar": {
             "outlinewidth": 0,
             "ticks": ""
            },
            "type": "contourcarpet"
           }
          ],
          "heatmap": [
           {
            "colorbar": {
             "outlinewidth": 0,
             "ticks": ""
            },
            "colorscale": [
             [
              0,
              "#0d0887"
             ],
             [
              0.1111111111111111,
              "#46039f"
             ],
             [
              0.2222222222222222,
              "#7201a8"
             ],
             [
              0.3333333333333333,
              "#9c179e"
             ],
             [
              0.4444444444444444,
              "#bd3786"
             ],
             [
              0.5555555555555556,
              "#d8576b"
             ],
             [
              0.6666666666666666,
              "#ed7953"
             ],
             [
              0.7777777777777778,
              "#fb9f3a"
             ],
             [
              0.8888888888888888,
              "#fdca26"
             ],
             [
              1,
              "#f0f921"
             ]
            ],
            "type": "heatmap"
           }
          ],
          "heatmapgl": [
           {
            "colorbar": {
             "outlinewidth": 0,
             "ticks": ""
            },
            "colorscale": [
             [
              0,
              "#0d0887"
             ],
             [
              0.1111111111111111,
              "#46039f"
             ],
             [
              0.2222222222222222,
              "#7201a8"
             ],
             [
              0.3333333333333333,
              "#9c179e"
             ],
             [
              0.4444444444444444,
              "#bd3786"
             ],
             [
              0.5555555555555556,
              "#d8576b"
             ],
             [
              0.6666666666666666,
              "#ed7953"
             ],
             [
              0.7777777777777778,
              "#fb9f3a"
             ],
             [
              0.8888888888888888,
              "#fdca26"
             ],
             [
              1,
              "#f0f921"
             ]
            ],
            "type": "heatmapgl"
           }
          ],
          "histogram": [
           {
            "marker": {
             "pattern": {
              "fillmode": "overlay",
              "size": 10,
              "solidity": 0.2
             }
            },
            "type": "histogram"
           }
          ],
          "histogram2d": [
           {
            "colorbar": {
             "outlinewidth": 0,
             "ticks": ""
            },
            "colorscale": [
             [
              0,
              "#0d0887"
             ],
             [
              0.1111111111111111,
              "#46039f"
             ],
             [
              0.2222222222222222,
              "#7201a8"
             ],
             [
              0.3333333333333333,
              "#9c179e"
             ],
             [
              0.4444444444444444,
              "#bd3786"
             ],
             [
              0.5555555555555556,
              "#d8576b"
             ],
             [
              0.6666666666666666,
              "#ed7953"
             ],
             [
              0.7777777777777778,
              "#fb9f3a"
             ],
             [
              0.8888888888888888,
              "#fdca26"
             ],
             [
              1,
              "#f0f921"
             ]
            ],
            "type": "histogram2d"
           }
          ],
          "histogram2dcontour": [
           {
            "colorbar": {
             "outlinewidth": 0,
             "ticks": ""
            },
            "colorscale": [
             [
              0,
              "#0d0887"
             ],
             [
              0.1111111111111111,
              "#46039f"
             ],
             [
              0.2222222222222222,
              "#7201a8"
             ],
             [
              0.3333333333333333,
              "#9c179e"
             ],
             [
              0.4444444444444444,
              "#bd3786"
             ],
             [
              0.5555555555555556,
              "#d8576b"
             ],
             [
              0.6666666666666666,
              "#ed7953"
             ],
             [
              0.7777777777777778,
              "#fb9f3a"
             ],
             [
              0.8888888888888888,
              "#fdca26"
             ],
             [
              1,
              "#f0f921"
             ]
            ],
            "type": "histogram2dcontour"
           }
          ],
          "mesh3d": [
           {
            "colorbar": {
             "outlinewidth": 0,
             "ticks": ""
            },
            "type": "mesh3d"
           }
          ],
          "parcoords": [
           {
            "line": {
             "colorbar": {
              "outlinewidth": 0,
              "ticks": ""
             }
            },
            "type": "parcoords"
           }
          ],
          "pie": [
           {
            "automargin": true,
            "type": "pie"
           }
          ],
          "scatter": [
           {
            "fillpattern": {
             "fillmode": "overlay",
             "size": 10,
             "solidity": 0.2
            },
            "type": "scatter"
           }
          ],
          "scatter3d": [
           {
            "line": {
             "colorbar": {
              "outlinewidth": 0,
              "ticks": ""
             }
            },
            "marker": {
             "colorbar": {
              "outlinewidth": 0,
              "ticks": ""
             }
            },
            "type": "scatter3d"
           }
          ],
          "scattercarpet": [
           {
            "marker": {
             "colorbar": {
              "outlinewidth": 0,
              "ticks": ""
             }
            },
            "type": "scattercarpet"
           }
          ],
          "scattergeo": [
           {
            "marker": {
             "colorbar": {
              "outlinewidth": 0,
              "ticks": ""
             }
            },
            "type": "scattergeo"
           }
          ],
          "scattergl": [
           {
            "marker": {
             "colorbar": {
              "outlinewidth": 0,
              "ticks": ""
             }
            },
            "type": "scattergl"
           }
          ],
          "scattermapbox": [
           {
            "marker": {
             "colorbar": {
              "outlinewidth": 0,
              "ticks": ""
             }
            },
            "type": "scattermapbox"
           }
          ],
          "scatterpolar": [
           {
            "marker": {
             "colorbar": {
              "outlinewidth": 0,
              "ticks": ""
             }
            },
            "type": "scatterpolar"
           }
          ],
          "scatterpolargl": [
           {
            "marker": {
             "colorbar": {
              "outlinewidth": 0,
              "ticks": ""
             }
            },
            "type": "scatterpolargl"
           }
          ],
          "scatterternary": [
           {
            "marker": {
             "colorbar": {
              "outlinewidth": 0,
              "ticks": ""
             }
            },
            "type": "scatterternary"
           }
          ],
          "surface": [
           {
            "colorbar": {
             "outlinewidth": 0,
             "ticks": ""
            },
            "colorscale": [
             [
              0,
              "#0d0887"
             ],
             [
              0.1111111111111111,
              "#46039f"
             ],
             [
              0.2222222222222222,
              "#7201a8"
             ],
             [
              0.3333333333333333,
              "#9c179e"
             ],
             [
              0.4444444444444444,
              "#bd3786"
             ],
             [
              0.5555555555555556,
              "#d8576b"
             ],
             [
              0.6666666666666666,
              "#ed7953"
             ],
             [
              0.7777777777777778,
              "#fb9f3a"
             ],
             [
              0.8888888888888888,
              "#fdca26"
             ],
             [
              1,
              "#f0f921"
             ]
            ],
            "type": "surface"
           }
          ],
          "table": [
           {
            "cells": {
             "fill": {
              "color": "#EBF0F8"
             },
             "line": {
              "color": "white"
             }
            },
            "header": {
             "fill": {
              "color": "#C8D4E3"
             },
             "line": {
              "color": "white"
             }
            },
            "type": "table"
           }
          ]
         },
         "layout": {
          "annotationdefaults": {
           "arrowcolor": "#2a3f5f",
           "arrowhead": 0,
           "arrowwidth": 1
          },
          "autotypenumbers": "strict",
          "coloraxis": {
           "colorbar": {
            "outlinewidth": 0,
            "ticks": ""
           }
          },
          "colorscale": {
           "diverging": [
            [
             0,
             "#8e0152"
            ],
            [
             0.1,
             "#c51b7d"
            ],
            [
             0.2,
             "#de77ae"
            ],
            [
             0.3,
             "#f1b6da"
            ],
            [
             0.4,
             "#fde0ef"
            ],
            [
             0.5,
             "#f7f7f7"
            ],
            [
             0.6,
             "#e6f5d0"
            ],
            [
             0.7,
             "#b8e186"
            ],
            [
             0.8,
             "#7fbc41"
            ],
            [
             0.9,
             "#4d9221"
            ],
            [
             1,
             "#276419"
            ]
           ],
           "sequential": [
            [
             0,
             "#0d0887"
            ],
            [
             0.1111111111111111,
             "#46039f"
            ],
            [
             0.2222222222222222,
             "#7201a8"
            ],
            [
             0.3333333333333333,
             "#9c179e"
            ],
            [
             0.4444444444444444,
             "#bd3786"
            ],
            [
             0.5555555555555556,
             "#d8576b"
            ],
            [
             0.6666666666666666,
             "#ed7953"
            ],
            [
             0.7777777777777778,
             "#fb9f3a"
            ],
            [
             0.8888888888888888,
             "#fdca26"
            ],
            [
             1,
             "#f0f921"
            ]
           ],
           "sequentialminus": [
            [
             0,
             "#0d0887"
            ],
            [
             0.1111111111111111,
             "#46039f"
            ],
            [
             0.2222222222222222,
             "#7201a8"
            ],
            [
             0.3333333333333333,
             "#9c179e"
            ],
            [
             0.4444444444444444,
             "#bd3786"
            ],
            [
             0.5555555555555556,
             "#d8576b"
            ],
            [
             0.6666666666666666,
             "#ed7953"
            ],
            [
             0.7777777777777778,
             "#fb9f3a"
            ],
            [
             0.8888888888888888,
             "#fdca26"
            ],
            [
             1,
             "#f0f921"
            ]
           ]
          },
          "colorway": [
           "#636efa",
           "#EF553B",
           "#00cc96",
           "#ab63fa",
           "#FFA15A",
           "#19d3f3",
           "#FF6692",
           "#B6E880",
           "#FF97FF",
           "#FECB52"
          ],
          "font": {
           "color": "#2a3f5f"
          },
          "geo": {
           "bgcolor": "white",
           "lakecolor": "white",
           "landcolor": "#E5ECF6",
           "showlakes": true,
           "showland": true,
           "subunitcolor": "white"
          },
          "hoverlabel": {
           "align": "left"
          },
          "hovermode": "closest",
          "mapbox": {
           "style": "light"
          },
          "paper_bgcolor": "white",
          "plot_bgcolor": "#E5ECF6",
          "polar": {
           "angularaxis": {
            "gridcolor": "white",
            "linecolor": "white",
            "ticks": ""
           },
           "bgcolor": "#E5ECF6",
           "radialaxis": {
            "gridcolor": "white",
            "linecolor": "white",
            "ticks": ""
           }
          },
          "scene": {
           "xaxis": {
            "backgroundcolor": "#E5ECF6",
            "gridcolor": "white",
            "gridwidth": 2,
            "linecolor": "white",
            "showbackground": true,
            "ticks": "",
            "zerolinecolor": "white"
           },
           "yaxis": {
            "backgroundcolor": "#E5ECF6",
            "gridcolor": "white",
            "gridwidth": 2,
            "linecolor": "white",
            "showbackground": true,
            "ticks": "",
            "zerolinecolor": "white"
           },
           "zaxis": {
            "backgroundcolor": "#E5ECF6",
            "gridcolor": "white",
            "gridwidth": 2,
            "linecolor": "white",
            "showbackground": true,
            "ticks": "",
            "zerolinecolor": "white"
           }
          },
          "shapedefaults": {
           "line": {
            "color": "#2a3f5f"
           }
          },
          "ternary": {
           "aaxis": {
            "gridcolor": "white",
            "linecolor": "white",
            "ticks": ""
           },
           "baxis": {
            "gridcolor": "white",
            "linecolor": "white",
            "ticks": ""
           },
           "bgcolor": "#E5ECF6",
           "caxis": {
            "gridcolor": "white",
            "linecolor": "white",
            "ticks": ""
           }
          },
          "title": {
           "x": 0.05
          },
          "xaxis": {
           "automargin": true,
           "gridcolor": "white",
           "linecolor": "white",
           "ticks": "",
           "title": {
            "standoff": 15
           },
           "zerolinecolor": "white",
           "zerolinewidth": 2
          },
          "yaxis": {
           "automargin": true,
           "gridcolor": "white",
           "linecolor": "white",
           "ticks": "",
           "title": {
            "standoff": 15
           },
           "zerolinecolor": "white",
           "zerolinewidth": 2
          }
         }
        },
        "title": {
         "text": "DNA Damage in Damaged Glia Nuclei by Tissue Location and Genotype (sex-aggregated) - Auto stain QC - qc_cellpdia30_sigma6_dilrad4_gliathr20"
        },
        "xaxis": {
         "anchor": "y",
         "domain": [
          0,
          1
         ],
         "title": {
          "text": "tissue_location"
         }
        },
        "yaxis": {
         "anchor": "x",
         "domain": [
          0,
          1
         ],
         "title": {
          "text": "avg_dna_damage_foci/glia_+_damage_+"
         }
        }
       }
      }
     },
     "metadata": {},
     "output_type": "display_data"
    }
   ],
   "source": [
    "# Create the boxplot\n",
    "fig = px.box(auto_filtered_df, x='tissue_location', y='avg_dna_damage_foci/glia_+_damage_+',\n",
    "             color='genotype', # Different genotypes will be shown in different colors\n",
    "             title=f'DNA Damage in Damaged Glia Nuclei by Tissue Location and Genotype (sex-aggregated) - Auto stain QC - qc_cellpdia{cellpose_nuclei_diameter}_sigma{gaussian_sigma}_dilrad{dilation_radius_nuclei}_gliathr{glia_channel_threshold}')\n",
    "\n",
    "# Show the plot\n",
    "fig.show()"
   ]
  },
  {
   "cell_type": "code",
   "execution_count": 91,
   "metadata": {},
   "outputs": [
    {
     "name": "stderr",
     "output_type": "stream",
     "text": [
      "c:\\Users\\albertds\\mambaforge\\envs\\microglia\\lib\\site-packages\\plotly\\express\\_core.py:2065: FutureWarning:\n",
      "\n",
      "When grouping with a length-1 list-like, you will need to pass a length-1 tuple to get_group in a future version of pandas. Pass `(name,)` instead of `name` to silence this warning.\n",
      "\n"
     ]
    },
    {
     "data": {
      "application/vnd.plotly.v1+json": {
       "config": {
        "plotlyServerURL": "https://plot.ly"
       },
       "data": [
        {
         "alignmentgroup": "True",
         "hovertemplate": "genotype=APP/PS1 x Neil3 KO<br>tissue_location=%{x}<br>avg_dna_damage_foci/all_nuclei=%{y}<extra></extra>",
         "legendgroup": "APP/PS1 x Neil3 KO",
         "marker": {
          "color": "#636efa"
         },
         "name": "APP/PS1 x Neil3 KO",
         "notched": false,
         "offsetgroup": "APP/PS1 x Neil3 KO",
         "orientation": "v",
         "showlegend": true,
         "type": "box",
         "x": [
          "CA1",
          "CA3",
          "CTX1",
          "CTX2",
          "CTX3",
          "DG",
          "CA1",
          "CA3",
          "CTX1",
          "CTX2",
          "CTX3",
          "DG",
          "CA1",
          "CA3",
          "CTX1",
          "CTX2",
          "CTX3",
          "DG",
          "CA1",
          "CA3",
          "CTX1",
          "CTX2",
          "CTX3",
          "DG",
          "CA1",
          "CA3",
          "CTX1",
          "CTX2",
          "CTX3",
          "DG",
          "DG",
          "CA1",
          "CA3",
          "CTX1",
          "CTX2",
          "CTX3",
          "DG",
          "CA1",
          "CA3",
          "CTX1",
          "CTX2",
          "CTX3",
          "DG",
          "CA1",
          "CA3",
          "CTX1",
          "CTX2",
          "CTX3",
          "DG",
          "CA1",
          "CA3",
          "CTX1",
          "CTX2",
          "CTX3",
          "DG",
          "CA1",
          "CA3",
          "CTX1",
          "CTX2",
          "CTX3",
          "DG",
          "CA1",
          "CA3",
          "CTX1",
          "CTX2",
          "CTX3",
          "DG",
          "CA1",
          "CA3",
          "CTX1",
          "CTX2",
          "CTX3",
          "DG",
          "CA1",
          "CA3",
          "CTX1",
          "CTX2",
          "CTX3",
          "DG"
         ],
         "x0": " ",
         "xaxis": "x",
         "y": [
          0.6433566433566433,
          0.9256198347107438,
          0.412087912087912,
          0.8050314465408805,
          0.4245283018867924,
          1.2618181818181815,
          0.7407407407407407,
          0.7079646017699115,
          0.5959595959595959,
          0.6212765957446809,
          0.6410256410256411,
          1.1058394160583942,
          0.3469387755102041,
          0.4423076923076923,
          0.419047619047619,
          0.2244897959183673,
          0.4722222222222222,
          0.348993288590604,
          0.6492537313432836,
          0.5416666666666666,
          0.4848484848484848,
          0.8190954773869347,
          0.4682080924855491,
          0.9214285714285714,
          0.5975609756097561,
          1.0895522388059702,
          0.4607142857142857,
          0.6244725738396625,
          0.7419354838709677,
          0.4341085271317829,
          0.5423728813559322,
          0.3722627737226277,
          0.6091954022988506,
          0.573170731707317,
          0.5031446540880503,
          0.569060773480663,
          1.0588235294117647,
          0.5849056603773585,
          0.4134615384615384,
          0.0833333333333333,
          0.0773195876288659,
          0.0985915492957746,
          0.9737704918032788,
          0.2671232876712329,
          0.1418918918918918,
          0.2298850574712643,
          0.1894736842105263,
          0.25,
          0.2485875706214689,
          0.1504424778761062,
          0.453781512605042,
          0.0174672489082969,
          0.1298076923076923,
          0.5595854922279793,
          0.2529644268774703,
          0.3445378151260504,
          0.5544554455445545,
          0.1300813008130081,
          0.3015075376884422,
          0.3830845771144278,
          0.4244897959183673,
          0.2619047619047619,
          0.6374269005847953,
          0.1614173228346456,
          0.1686746987951807,
          0.0666666666666666,
          0.4285714285714285,
          0.5378151260504201,
          0.6666666666666666,
          0.4626865671641791,
          0.6130653266331658,
          0.4462365591397849,
          0.6781609195402298,
          0.5590062111801242,
          0.3925233644859813,
          0.4976744186046511,
          0.3265306122448979,
          0.3733333333333333,
          1.058139534883721
         ],
         "y0": " ",
         "yaxis": "y"
        },
        {
         "alignmentgroup": "True",
         "hovertemplate": "genotype=APP/PS1<br>tissue_location=%{x}<br>avg_dna_damage_foci/all_nuclei=%{y}<extra></extra>",
         "legendgroup": "APP/PS1",
         "marker": {
          "color": "#EF553B"
         },
         "name": "APP/PS1",
         "notched": false,
         "offsetgroup": "APP/PS1",
         "orientation": "v",
         "showlegend": true,
         "type": "box",
         "x": [
          "CA1",
          "CA3",
          "CTX1",
          "CTX2",
          "CTX3",
          "DG",
          "CA1",
          "CA3",
          "CTX1",
          "CTX2",
          "CTX3",
          "DG",
          "CA1",
          "CA3",
          "CTX1",
          "CTX2",
          "CTX3",
          "DG",
          "DG",
          "CA1",
          "CA3",
          "CTX1",
          "CTX2",
          "CTX3",
          "DG",
          "CA1",
          "CA3",
          "CTX1",
          "CTX2",
          "CTX3",
          "DG",
          "CA1",
          "CA3",
          "CTX1",
          "CTX2",
          "CTX3",
          "DG",
          "CA1",
          "CA3",
          "CTX1",
          "CTX2",
          "CTX3",
          "DG",
          "CA1",
          "CA3",
          "CTX1",
          "CTX2",
          "CTX3",
          "DG",
          "CA1",
          "CA3",
          "CTX1",
          "CTX2",
          "CTX3",
          "DG",
          "CA1",
          "CA3",
          "CTX1",
          "CTX2",
          "CTX3",
          "DG",
          "CA1",
          "CA3",
          "CTX1",
          "CTX2",
          "CTX3",
          "DG",
          "CA1",
          "CA3",
          "CTX1",
          "CTX2",
          "CTX3",
          "DG",
          "CA1",
          "CA3",
          "CTX1",
          "CTX2",
          "CTX3",
          "DG",
          "CA1",
          "CA3",
          "CTX1",
          "CTX2",
          "CTX3",
          "DG",
          "CA1",
          "CA3",
          "CTX1",
          "CTX2",
          "CTX3",
          "DG"
         ],
         "x0": " ",
         "xaxis": "x",
         "y": [
          0.7517241379310344,
          0.8682170542635659,
          0.7355371900826446,
          0.6549019607843137,
          0.2469879518072289,
          1.2990654205607477,
          0.5581395348837209,
          0.5436893203883495,
          0.3043478260869565,
          0.0514285714285714,
          0.5611510791366906,
          0.890728476821192,
          0.345679012345679,
          0.3928571428571428,
          0.1306818181818181,
          0.15234375,
          0.1492537313432835,
          0.0792079207920792,
          0.84,
          0.5114503816793893,
          0.7115384615384616,
          0.3457943925233644,
          0.3966244725738396,
          0.2538071065989847,
          0.7464285714285714,
          0.7814569536423841,
          0.8031088082901554,
          0.3316582914572864,
          0.4279835390946502,
          0.6111111111111112,
          1.2811244979919678,
          0.4674556213017751,
          0.593103448275862,
          0.4798387096774194,
          0.6581818181818182,
          0.7182320441988951,
          0.9513274336283186,
          0.559322033898305,
          0.6972477064220184,
          0.3254437869822485,
          0.2679425837320574,
          0.2105263157894736,
          0.7246963562753036,
          0.3783783783783784,
          0.6551724137931034,
          0.34,
          0.375,
          0.5527950310559007,
          0.642570281124498,
          0.5257142857142857,
          1.01840490797546,
          0.1396825396825396,
          0.4124087591240876,
          0.502262443438914,
          0.988950276243094,
          0.8793103448275862,
          0.54,
          0.5277777777777778,
          0.5942622950819673,
          0.5497630331753555,
          1.429054054054054,
          0.3809523809523809,
          0.7043478260869566,
          0.2651515151515151,
          0.2095238095238095,
          0.3588235294117647,
          0.9396551724137931,
          0.7051282051282052,
          1.032258064516129,
          0.65625,
          0.6515837104072398,
          0.6620689655172414,
          1.4903846153846154,
          0.5114503816793893,
          0.9078947368421052,
          0.43,
          0.4922279792746113,
          0.5953757225433526,
          1.028673835125448,
          0.421875,
          0.5531914893617021,
          0.0495867768595041,
          0.6241610738255033,
          0.1428571428571428,
          0.832,
          0.4121621621621621,
          0.5076923076923077,
          0.3806818181818182,
          0.2761506276150627,
          0.2473118279569892,
          0.648
         ],
         "y0": " ",
         "yaxis": "y"
        }
       ],
       "layout": {
        "boxmode": "group",
        "legend": {
         "title": {
          "text": "genotype"
         },
         "tracegroupgap": 0
        },
        "template": {
         "data": {
          "bar": [
           {
            "error_x": {
             "color": "#2a3f5f"
            },
            "error_y": {
             "color": "#2a3f5f"
            },
            "marker": {
             "line": {
              "color": "#E5ECF6",
              "width": 0.5
             },
             "pattern": {
              "fillmode": "overlay",
              "size": 10,
              "solidity": 0.2
             }
            },
            "type": "bar"
           }
          ],
          "barpolar": [
           {
            "marker": {
             "line": {
              "color": "#E5ECF6",
              "width": 0.5
             },
             "pattern": {
              "fillmode": "overlay",
              "size": 10,
              "solidity": 0.2
             }
            },
            "type": "barpolar"
           }
          ],
          "carpet": [
           {
            "aaxis": {
             "endlinecolor": "#2a3f5f",
             "gridcolor": "white",
             "linecolor": "white",
             "minorgridcolor": "white",
             "startlinecolor": "#2a3f5f"
            },
            "baxis": {
             "endlinecolor": "#2a3f5f",
             "gridcolor": "white",
             "linecolor": "white",
             "minorgridcolor": "white",
             "startlinecolor": "#2a3f5f"
            },
            "type": "carpet"
           }
          ],
          "choropleth": [
           {
            "colorbar": {
             "outlinewidth": 0,
             "ticks": ""
            },
            "type": "choropleth"
           }
          ],
          "contour": [
           {
            "colorbar": {
             "outlinewidth": 0,
             "ticks": ""
            },
            "colorscale": [
             [
              0,
              "#0d0887"
             ],
             [
              0.1111111111111111,
              "#46039f"
             ],
             [
              0.2222222222222222,
              "#7201a8"
             ],
             [
              0.3333333333333333,
              "#9c179e"
             ],
             [
              0.4444444444444444,
              "#bd3786"
             ],
             [
              0.5555555555555556,
              "#d8576b"
             ],
             [
              0.6666666666666666,
              "#ed7953"
             ],
             [
              0.7777777777777778,
              "#fb9f3a"
             ],
             [
              0.8888888888888888,
              "#fdca26"
             ],
             [
              1,
              "#f0f921"
             ]
            ],
            "type": "contour"
           }
          ],
          "contourcarpet": [
           {
            "colorbar": {
             "outlinewidth": 0,
             "ticks": ""
            },
            "type": "contourcarpet"
           }
          ],
          "heatmap": [
           {
            "colorbar": {
             "outlinewidth": 0,
             "ticks": ""
            },
            "colorscale": [
             [
              0,
              "#0d0887"
             ],
             [
              0.1111111111111111,
              "#46039f"
             ],
             [
              0.2222222222222222,
              "#7201a8"
             ],
             [
              0.3333333333333333,
              "#9c179e"
             ],
             [
              0.4444444444444444,
              "#bd3786"
             ],
             [
              0.5555555555555556,
              "#d8576b"
             ],
             [
              0.6666666666666666,
              "#ed7953"
             ],
             [
              0.7777777777777778,
              "#fb9f3a"
             ],
             [
              0.8888888888888888,
              "#fdca26"
             ],
             [
              1,
              "#f0f921"
             ]
            ],
            "type": "heatmap"
           }
          ],
          "heatmapgl": [
           {
            "colorbar": {
             "outlinewidth": 0,
             "ticks": ""
            },
            "colorscale": [
             [
              0,
              "#0d0887"
             ],
             [
              0.1111111111111111,
              "#46039f"
             ],
             [
              0.2222222222222222,
              "#7201a8"
             ],
             [
              0.3333333333333333,
              "#9c179e"
             ],
             [
              0.4444444444444444,
              "#bd3786"
             ],
             [
              0.5555555555555556,
              "#d8576b"
             ],
             [
              0.6666666666666666,
              "#ed7953"
             ],
             [
              0.7777777777777778,
              "#fb9f3a"
             ],
             [
              0.8888888888888888,
              "#fdca26"
             ],
             [
              1,
              "#f0f921"
             ]
            ],
            "type": "heatmapgl"
           }
          ],
          "histogram": [
           {
            "marker": {
             "pattern": {
              "fillmode": "overlay",
              "size": 10,
              "solidity": 0.2
             }
            },
            "type": "histogram"
           }
          ],
          "histogram2d": [
           {
            "colorbar": {
             "outlinewidth": 0,
             "ticks": ""
            },
            "colorscale": [
             [
              0,
              "#0d0887"
             ],
             [
              0.1111111111111111,
              "#46039f"
             ],
             [
              0.2222222222222222,
              "#7201a8"
             ],
             [
              0.3333333333333333,
              "#9c179e"
             ],
             [
              0.4444444444444444,
              "#bd3786"
             ],
             [
              0.5555555555555556,
              "#d8576b"
             ],
             [
              0.6666666666666666,
              "#ed7953"
             ],
             [
              0.7777777777777778,
              "#fb9f3a"
             ],
             [
              0.8888888888888888,
              "#fdca26"
             ],
             [
              1,
              "#f0f921"
             ]
            ],
            "type": "histogram2d"
           }
          ],
          "histogram2dcontour": [
           {
            "colorbar": {
             "outlinewidth": 0,
             "ticks": ""
            },
            "colorscale": [
             [
              0,
              "#0d0887"
             ],
             [
              0.1111111111111111,
              "#46039f"
             ],
             [
              0.2222222222222222,
              "#7201a8"
             ],
             [
              0.3333333333333333,
              "#9c179e"
             ],
             [
              0.4444444444444444,
              "#bd3786"
             ],
             [
              0.5555555555555556,
              "#d8576b"
             ],
             [
              0.6666666666666666,
              "#ed7953"
             ],
             [
              0.7777777777777778,
              "#fb9f3a"
             ],
             [
              0.8888888888888888,
              "#fdca26"
             ],
             [
              1,
              "#f0f921"
             ]
            ],
            "type": "histogram2dcontour"
           }
          ],
          "mesh3d": [
           {
            "colorbar": {
             "outlinewidth": 0,
             "ticks": ""
            },
            "type": "mesh3d"
           }
          ],
          "parcoords": [
           {
            "line": {
             "colorbar": {
              "outlinewidth": 0,
              "ticks": ""
             }
            },
            "type": "parcoords"
           }
          ],
          "pie": [
           {
            "automargin": true,
            "type": "pie"
           }
          ],
          "scatter": [
           {
            "fillpattern": {
             "fillmode": "overlay",
             "size": 10,
             "solidity": 0.2
            },
            "type": "scatter"
           }
          ],
          "scatter3d": [
           {
            "line": {
             "colorbar": {
              "outlinewidth": 0,
              "ticks": ""
             }
            },
            "marker": {
             "colorbar": {
              "outlinewidth": 0,
              "ticks": ""
             }
            },
            "type": "scatter3d"
           }
          ],
          "scattercarpet": [
           {
            "marker": {
             "colorbar": {
              "outlinewidth": 0,
              "ticks": ""
             }
            },
            "type": "scattercarpet"
           }
          ],
          "scattergeo": [
           {
            "marker": {
             "colorbar": {
              "outlinewidth": 0,
              "ticks": ""
             }
            },
            "type": "scattergeo"
           }
          ],
          "scattergl": [
           {
            "marker": {
             "colorbar": {
              "outlinewidth": 0,
              "ticks": ""
             }
            },
            "type": "scattergl"
           }
          ],
          "scattermapbox": [
           {
            "marker": {
             "colorbar": {
              "outlinewidth": 0,
              "ticks": ""
             }
            },
            "type": "scattermapbox"
           }
          ],
          "scatterpolar": [
           {
            "marker": {
             "colorbar": {
              "outlinewidth": 0,
              "ticks": ""
             }
            },
            "type": "scatterpolar"
           }
          ],
          "scatterpolargl": [
           {
            "marker": {
             "colorbar": {
              "outlinewidth": 0,
              "ticks": ""
             }
            },
            "type": "scatterpolargl"
           }
          ],
          "scatterternary": [
           {
            "marker": {
             "colorbar": {
              "outlinewidth": 0,
              "ticks": ""
             }
            },
            "type": "scatterternary"
           }
          ],
          "surface": [
           {
            "colorbar": {
             "outlinewidth": 0,
             "ticks": ""
            },
            "colorscale": [
             [
              0,
              "#0d0887"
             ],
             [
              0.1111111111111111,
              "#46039f"
             ],
             [
              0.2222222222222222,
              "#7201a8"
             ],
             [
              0.3333333333333333,
              "#9c179e"
             ],
             [
              0.4444444444444444,
              "#bd3786"
             ],
             [
              0.5555555555555556,
              "#d8576b"
             ],
             [
              0.6666666666666666,
              "#ed7953"
             ],
             [
              0.7777777777777778,
              "#fb9f3a"
             ],
             [
              0.8888888888888888,
              "#fdca26"
             ],
             [
              1,
              "#f0f921"
             ]
            ],
            "type": "surface"
           }
          ],
          "table": [
           {
            "cells": {
             "fill": {
              "color": "#EBF0F8"
             },
             "line": {
              "color": "white"
             }
            },
            "header": {
             "fill": {
              "color": "#C8D4E3"
             },
             "line": {
              "color": "white"
             }
            },
            "type": "table"
           }
          ]
         },
         "layout": {
          "annotationdefaults": {
           "arrowcolor": "#2a3f5f",
           "arrowhead": 0,
           "arrowwidth": 1
          },
          "autotypenumbers": "strict",
          "coloraxis": {
           "colorbar": {
            "outlinewidth": 0,
            "ticks": ""
           }
          },
          "colorscale": {
           "diverging": [
            [
             0,
             "#8e0152"
            ],
            [
             0.1,
             "#c51b7d"
            ],
            [
             0.2,
             "#de77ae"
            ],
            [
             0.3,
             "#f1b6da"
            ],
            [
             0.4,
             "#fde0ef"
            ],
            [
             0.5,
             "#f7f7f7"
            ],
            [
             0.6,
             "#e6f5d0"
            ],
            [
             0.7,
             "#b8e186"
            ],
            [
             0.8,
             "#7fbc41"
            ],
            [
             0.9,
             "#4d9221"
            ],
            [
             1,
             "#276419"
            ]
           ],
           "sequential": [
            [
             0,
             "#0d0887"
            ],
            [
             0.1111111111111111,
             "#46039f"
            ],
            [
             0.2222222222222222,
             "#7201a8"
            ],
            [
             0.3333333333333333,
             "#9c179e"
            ],
            [
             0.4444444444444444,
             "#bd3786"
            ],
            [
             0.5555555555555556,
             "#d8576b"
            ],
            [
             0.6666666666666666,
             "#ed7953"
            ],
            [
             0.7777777777777778,
             "#fb9f3a"
            ],
            [
             0.8888888888888888,
             "#fdca26"
            ],
            [
             1,
             "#f0f921"
            ]
           ],
           "sequentialminus": [
            [
             0,
             "#0d0887"
            ],
            [
             0.1111111111111111,
             "#46039f"
            ],
            [
             0.2222222222222222,
             "#7201a8"
            ],
            [
             0.3333333333333333,
             "#9c179e"
            ],
            [
             0.4444444444444444,
             "#bd3786"
            ],
            [
             0.5555555555555556,
             "#d8576b"
            ],
            [
             0.6666666666666666,
             "#ed7953"
            ],
            [
             0.7777777777777778,
             "#fb9f3a"
            ],
            [
             0.8888888888888888,
             "#fdca26"
            ],
            [
             1,
             "#f0f921"
            ]
           ]
          },
          "colorway": [
           "#636efa",
           "#EF553B",
           "#00cc96",
           "#ab63fa",
           "#FFA15A",
           "#19d3f3",
           "#FF6692",
           "#B6E880",
           "#FF97FF",
           "#FECB52"
          ],
          "font": {
           "color": "#2a3f5f"
          },
          "geo": {
           "bgcolor": "white",
           "lakecolor": "white",
           "landcolor": "#E5ECF6",
           "showlakes": true,
           "showland": true,
           "subunitcolor": "white"
          },
          "hoverlabel": {
           "align": "left"
          },
          "hovermode": "closest",
          "mapbox": {
           "style": "light"
          },
          "paper_bgcolor": "white",
          "plot_bgcolor": "#E5ECF6",
          "polar": {
           "angularaxis": {
            "gridcolor": "white",
            "linecolor": "white",
            "ticks": ""
           },
           "bgcolor": "#E5ECF6",
           "radialaxis": {
            "gridcolor": "white",
            "linecolor": "white",
            "ticks": ""
           }
          },
          "scene": {
           "xaxis": {
            "backgroundcolor": "#E5ECF6",
            "gridcolor": "white",
            "gridwidth": 2,
            "linecolor": "white",
            "showbackground": true,
            "ticks": "",
            "zerolinecolor": "white"
           },
           "yaxis": {
            "backgroundcolor": "#E5ECF6",
            "gridcolor": "white",
            "gridwidth": 2,
            "linecolor": "white",
            "showbackground": true,
            "ticks": "",
            "zerolinecolor": "white"
           },
           "zaxis": {
            "backgroundcolor": "#E5ECF6",
            "gridcolor": "white",
            "gridwidth": 2,
            "linecolor": "white",
            "showbackground": true,
            "ticks": "",
            "zerolinecolor": "white"
           }
          },
          "shapedefaults": {
           "line": {
            "color": "#2a3f5f"
           }
          },
          "ternary": {
           "aaxis": {
            "gridcolor": "white",
            "linecolor": "white",
            "ticks": ""
           },
           "baxis": {
            "gridcolor": "white",
            "linecolor": "white",
            "ticks": ""
           },
           "bgcolor": "#E5ECF6",
           "caxis": {
            "gridcolor": "white",
            "linecolor": "white",
            "ticks": ""
           }
          },
          "title": {
           "x": 0.05
          },
          "xaxis": {
           "automargin": true,
           "gridcolor": "white",
           "linecolor": "white",
           "ticks": "",
           "title": {
            "standoff": 15
           },
           "zerolinecolor": "white",
           "zerolinewidth": 2
          },
          "yaxis": {
           "automargin": true,
           "gridcolor": "white",
           "linecolor": "white",
           "ticks": "",
           "title": {
            "standoff": 15
           },
           "zerolinecolor": "white",
           "zerolinewidth": 2
          }
         }
        },
        "title": {
         "text": "DNA Damage in All Nuclei by Tissue Location and Genotype (sex-aggregated) - Auto stain QC - qc_cellpdia30_sigma6_dilrad4_gliathr20"
        },
        "xaxis": {
         "anchor": "y",
         "domain": [
          0,
          1
         ],
         "title": {
          "text": "tissue_location"
         }
        },
        "yaxis": {
         "anchor": "x",
         "domain": [
          0,
          1
         ],
         "title": {
          "text": "avg_dna_damage_foci/all_nuclei"
         }
        }
       }
      }
     },
     "metadata": {},
     "output_type": "display_data"
    }
   ],
   "source": [
    "# Create the boxplot\n",
    "fig = px.box(auto_filtered_df, x='tissue_location', y='avg_dna_damage_foci/all_nuclei',\n",
    "             color='genotype', # Different genotypes will be shown in different colors\n",
    "             title=f'DNA Damage in All Nuclei by Tissue Location and Genotype (sex-aggregated) - Auto stain QC - qc_cellpdia{cellpose_nuclei_diameter}_sigma{gaussian_sigma}_dilrad{dilation_radius_nuclei}_gliathr{glia_channel_threshold}')\n",
    "\n",
    "# Show the plot\n",
    "fig.show()"
   ]
  },
  {
   "cell_type": "code",
   "execution_count": 92,
   "metadata": {},
   "outputs": [
    {
     "name": "stderr",
     "output_type": "stream",
     "text": [
      "c:\\Users\\albertds\\mambaforge\\envs\\microglia\\lib\\site-packages\\plotly\\express\\_core.py:2065: FutureWarning:\n",
      "\n",
      "When grouping with a length-1 list-like, you will need to pass a length-1 tuple to get_group in a future version of pandas. Pass `(name,)` instead of `name` to silence this warning.\n",
      "\n"
     ]
    },
    {
     "data": {
      "application/vnd.plotly.v1+json": {
       "config": {
        "plotlyServerURL": "https://plot.ly"
       },
       "data": [
        {
         "alignmentgroup": "True",
         "hovertemplate": "genotype=APP/PS1 x Neil3 KO<br>tissue_location=%{x}<br>avg_dna_damage_foci/all_nuclei_damage_+=%{y}<extra></extra>",
         "legendgroup": "APP/PS1 x Neil3 KO",
         "marker": {
          "color": "#636efa"
         },
         "name": "APP/PS1 x Neil3 KO",
         "notched": false,
         "offsetgroup": "APP/PS1 x Neil3 KO",
         "orientation": "v",
         "showlegend": true,
         "type": "box",
         "x": [
          "CA1",
          "CA3",
          "CTX1",
          "CTX2",
          "CTX3",
          "DG",
          "CA1",
          "CA3",
          "CTX1",
          "CTX2",
          "CTX3",
          "DG",
          "CA1",
          "CA3",
          "CTX1",
          "CTX2",
          "CTX3",
          "DG",
          "CA1",
          "CA3",
          "CTX1",
          "CTX2",
          "CTX3",
          "DG",
          "CA1",
          "CA3",
          "CTX1",
          "CTX2",
          "CTX3",
          "DG",
          "DG",
          "CA1",
          "CA3",
          "CTX1",
          "CTX2",
          "CTX3",
          "DG",
          "CA1",
          "CA3",
          "CTX1",
          "CTX2",
          "CTX3",
          "DG",
          "CA1",
          "CA3",
          "CTX1",
          "CTX2",
          "CTX3",
          "DG",
          "CA1",
          "CA3",
          "CTX1",
          "CTX2",
          "CTX3",
          "DG",
          "CA1",
          "CA3",
          "CTX1",
          "CTX2",
          "CTX3",
          "DG",
          "CA1",
          "CA3",
          "CTX1",
          "CTX2",
          "CTX3",
          "DG",
          "CA1",
          "CA3",
          "CTX1",
          "CTX2",
          "CTX3",
          "DG",
          "CA1",
          "CA3",
          "CTX1",
          "CTX2",
          "CTX3",
          "DG"
         ],
         "x0": " ",
         "xaxis": "x",
         "y": [
          1.2266666666666666,
          1.5555555555555556,
          1.1363636363636365,
          1.4545454545454546,
          1.0975609756097562,
          1.508695652173913,
          1.2048192771084338,
          1.509433962264151,
          1.25531914893617,
          1.2586206896551724,
          1.4534883720930232,
          1.4567307692307692,
          1.1724137931034482,
          1.15,
          1.1891891891891893,
          1,
          1.2439024390243902,
          1.4054054054054057,
          1.1756756756756757,
          1.3541666666666667,
          1.2,
          1.3583333333333334,
          1.1911764705882353,
          1.3650793650793651,
          1.4,
          1.697674418604651,
          1.2647058823529411,
          1.3454545454545457,
          1.4081632653061225,
          1.4933333333333334,
          1.4545454545454546,
          1.108695652173913,
          1.2325581395348837,
          1.2876712328767124,
          1.0810810810810811,
          1.197674418604651,
          1.4299065420560748,
          1.0689655172413792,
          1.2647058823529411,
          1,
          1.0714285714285714,
          1,
          1.4075829383886256,
          1.21875,
          1.105263157894737,
          1.0810810810810811,
          1.0909090909090908,
          1.0625,
          1.2571428571428571,
          1.0625,
          1.255813953488372,
          1,
          1,
          1.2857142857142858,
          1.0491803278688523,
          1.025,
          1.3658536585365857,
          1,
          1.1320754716981132,
          1.2222222222222223,
          1.0947368421052632,
          1.1282051282051282,
          1.345679012345679,
          1.108108108108108,
          1.05,
          1,
          1.2,
          1.1636363636363636,
          1.4545454545454546,
          1.169811320754717,
          1.2842105263157897,
          1.1527777777777777,
          1.2123287671232876,
          1.1111111111111112,
          1.1666666666666667,
          1.1145833333333333,
          1.1428571428571428,
          1.12,
          1.5082872928176796
         ],
         "y0": " ",
         "yaxis": "y"
        },
        {
         "alignmentgroup": "True",
         "hovertemplate": "genotype=APP/PS1<br>tissue_location=%{x}<br>avg_dna_damage_foci/all_nuclei_damage_+=%{y}<extra></extra>",
         "legendgroup": "APP/PS1",
         "marker": {
          "color": "#EF553B"
         },
         "name": "APP/PS1",
         "notched": false,
         "offsetgroup": "APP/PS1",
         "orientation": "v",
         "showlegend": true,
         "type": "box",
         "x": [
          "CA1",
          "CA3",
          "CTX1",
          "CTX2",
          "CTX3",
          "DG",
          "CA1",
          "CA3",
          "CTX1",
          "CTX2",
          "CTX3",
          "DG",
          "CA1",
          "CA3",
          "CTX1",
          "CTX2",
          "CTX3",
          "DG",
          "DG",
          "CA1",
          "CA3",
          "CTX1",
          "CTX2",
          "CTX3",
          "DG",
          "CA1",
          "CA3",
          "CTX1",
          "CTX2",
          "CTX3",
          "DG",
          "CA1",
          "CA3",
          "CTX1",
          "CTX2",
          "CTX3",
          "DG",
          "CA1",
          "CA3",
          "CTX1",
          "CTX2",
          "CTX3",
          "DG",
          "CA1",
          "CA3",
          "CTX1",
          "CTX2",
          "CTX3",
          "DG",
          "CA1",
          "CA3",
          "CTX1",
          "CTX2",
          "CTX3",
          "DG",
          "CA1",
          "CA3",
          "CTX1",
          "CTX2",
          "CTX3",
          "DG",
          "CA1",
          "CA3",
          "CTX1",
          "CTX2",
          "CTX3",
          "DG",
          "CA1",
          "CA3",
          "CTX1",
          "CTX2",
          "CTX3",
          "DG",
          "CA1",
          "CA3",
          "CTX1",
          "CTX2",
          "CTX3",
          "DG",
          "CA1",
          "CA3",
          "CTX1",
          "CTX2",
          "CTX3",
          "DG",
          "CA1",
          "CA3",
          "CTX1",
          "CTX2",
          "CTX3",
          "DG"
         ],
         "x0": " ",
         "xaxis": "x",
         "y": [
          1.379746835443038,
          1.8064516129032255,
          1.3692307692307693,
          1.4521739130434783,
          1.2424242424242424,
          1.622568093385214,
          1.2,
          1.3658536585365857,
          1.037037037037037,
          1.125,
          1.238095238095238,
          1.2995169082125604,
          1.0980392156862746,
          1.1891891891891893,
          1,
          1.054054054054054,
          1.0344827586206895,
          1.0666666666666669,
          1.6470588235294117,
          1.2641509433962264,
          1.48,
          1.1384615384615384,
          1.175,
          1.1111111111111112,
          1.3397435897435896,
          1.3258426966292134,
          1.3596491228070176,
          1.064516129032258,
          1.1555555555555554,
          1.2531645569620251,
          1.687830687830688,
          1.161764705882353,
          1.5087719298245614,
          1.1553398058252426,
          1.283687943262411,
          1.2871287128712872,
          1.4625850340136055,
          1.0819672131147542,
          1.2881355932203389,
          1.0185185185185186,
          1.0769230769230769,
          1.032258064516129,
          1.335820895522388,
          1.0566037735849056,
          1.3818181818181818,
          1.0625,
          1.11864406779661,
          1.155844155844156,
          1.322314049586777,
          1.2432432432432432,
          1.8651685393258424,
          1.0232558139534884,
          1.2282608695652173,
          1.247191011235955,
          1.584070796460177,
          1.4366197183098592,
          1.3846153846153846,
          1.2,
          1.1788617886178865,
          1.2083333333333333,
          1.8,
          1.1162790697674418,
          1.4210526315789471,
          1.0294117647058822,
          1.0476190476190477,
          1.1090909090909091,
          1.371069182389937,
          1.4285714285714286,
          1.6134453781512603,
          1.3333333333333333,
          1.3211009174311927,
          1.3333333333333333,
          2.039473684210526,
          1.1754385964912282,
          1.4526315789473685,
          1.162162162162162,
          1.2179487179487178,
          1.2560975609756098,
          1.427860696517413,
          1.148936170212766,
          1.4444444444444444,
          1,
          1.2916666666666667,
          1.2,
          1.291925465838509,
          1.1296296296296295,
          1.375,
          1.098360655737705,
          1.1,
          1.1219512195121952,
          1.396551724137931
         ],
         "y0": " ",
         "yaxis": "y"
        }
       ],
       "layout": {
        "boxmode": "group",
        "legend": {
         "title": {
          "text": "genotype"
         },
         "tracegroupgap": 0
        },
        "template": {
         "data": {
          "bar": [
           {
            "error_x": {
             "color": "#2a3f5f"
            },
            "error_y": {
             "color": "#2a3f5f"
            },
            "marker": {
             "line": {
              "color": "#E5ECF6",
              "width": 0.5
             },
             "pattern": {
              "fillmode": "overlay",
              "size": 10,
              "solidity": 0.2
             }
            },
            "type": "bar"
           }
          ],
          "barpolar": [
           {
            "marker": {
             "line": {
              "color": "#E5ECF6",
              "width": 0.5
             },
             "pattern": {
              "fillmode": "overlay",
              "size": 10,
              "solidity": 0.2
             }
            },
            "type": "barpolar"
           }
          ],
          "carpet": [
           {
            "aaxis": {
             "endlinecolor": "#2a3f5f",
             "gridcolor": "white",
             "linecolor": "white",
             "minorgridcolor": "white",
             "startlinecolor": "#2a3f5f"
            },
            "baxis": {
             "endlinecolor": "#2a3f5f",
             "gridcolor": "white",
             "linecolor": "white",
             "minorgridcolor": "white",
             "startlinecolor": "#2a3f5f"
            },
            "type": "carpet"
           }
          ],
          "choropleth": [
           {
            "colorbar": {
             "outlinewidth": 0,
             "ticks": ""
            },
            "type": "choropleth"
           }
          ],
          "contour": [
           {
            "colorbar": {
             "outlinewidth": 0,
             "ticks": ""
            },
            "colorscale": [
             [
              0,
              "#0d0887"
             ],
             [
              0.1111111111111111,
              "#46039f"
             ],
             [
              0.2222222222222222,
              "#7201a8"
             ],
             [
              0.3333333333333333,
              "#9c179e"
             ],
             [
              0.4444444444444444,
              "#bd3786"
             ],
             [
              0.5555555555555556,
              "#d8576b"
             ],
             [
              0.6666666666666666,
              "#ed7953"
             ],
             [
              0.7777777777777778,
              "#fb9f3a"
             ],
             [
              0.8888888888888888,
              "#fdca26"
             ],
             [
              1,
              "#f0f921"
             ]
            ],
            "type": "contour"
           }
          ],
          "contourcarpet": [
           {
            "colorbar": {
             "outlinewidth": 0,
             "ticks": ""
            },
            "type": "contourcarpet"
           }
          ],
          "heatmap": [
           {
            "colorbar": {
             "outlinewidth": 0,
             "ticks": ""
            },
            "colorscale": [
             [
              0,
              "#0d0887"
             ],
             [
              0.1111111111111111,
              "#46039f"
             ],
             [
              0.2222222222222222,
              "#7201a8"
             ],
             [
              0.3333333333333333,
              "#9c179e"
             ],
             [
              0.4444444444444444,
              "#bd3786"
             ],
             [
              0.5555555555555556,
              "#d8576b"
             ],
             [
              0.6666666666666666,
              "#ed7953"
             ],
             [
              0.7777777777777778,
              "#fb9f3a"
             ],
             [
              0.8888888888888888,
              "#fdca26"
             ],
             [
              1,
              "#f0f921"
             ]
            ],
            "type": "heatmap"
           }
          ],
          "heatmapgl": [
           {
            "colorbar": {
             "outlinewidth": 0,
             "ticks": ""
            },
            "colorscale": [
             [
              0,
              "#0d0887"
             ],
             [
              0.1111111111111111,
              "#46039f"
             ],
             [
              0.2222222222222222,
              "#7201a8"
             ],
             [
              0.3333333333333333,
              "#9c179e"
             ],
             [
              0.4444444444444444,
              "#bd3786"
             ],
             [
              0.5555555555555556,
              "#d8576b"
             ],
             [
              0.6666666666666666,
              "#ed7953"
             ],
             [
              0.7777777777777778,
              "#fb9f3a"
             ],
             [
              0.8888888888888888,
              "#fdca26"
             ],
             [
              1,
              "#f0f921"
             ]
            ],
            "type": "heatmapgl"
           }
          ],
          "histogram": [
           {
            "marker": {
             "pattern": {
              "fillmode": "overlay",
              "size": 10,
              "solidity": 0.2
             }
            },
            "type": "histogram"
           }
          ],
          "histogram2d": [
           {
            "colorbar": {
             "outlinewidth": 0,
             "ticks": ""
            },
            "colorscale": [
             [
              0,
              "#0d0887"
             ],
             [
              0.1111111111111111,
              "#46039f"
             ],
             [
              0.2222222222222222,
              "#7201a8"
             ],
             [
              0.3333333333333333,
              "#9c179e"
             ],
             [
              0.4444444444444444,
              "#bd3786"
             ],
             [
              0.5555555555555556,
              "#d8576b"
             ],
             [
              0.6666666666666666,
              "#ed7953"
             ],
             [
              0.7777777777777778,
              "#fb9f3a"
             ],
             [
              0.8888888888888888,
              "#fdca26"
             ],
             [
              1,
              "#f0f921"
             ]
            ],
            "type": "histogram2d"
           }
          ],
          "histogram2dcontour": [
           {
            "colorbar": {
             "outlinewidth": 0,
             "ticks": ""
            },
            "colorscale": [
             [
              0,
              "#0d0887"
             ],
             [
              0.1111111111111111,
              "#46039f"
             ],
             [
              0.2222222222222222,
              "#7201a8"
             ],
             [
              0.3333333333333333,
              "#9c179e"
             ],
             [
              0.4444444444444444,
              "#bd3786"
             ],
             [
              0.5555555555555556,
              "#d8576b"
             ],
             [
              0.6666666666666666,
              "#ed7953"
             ],
             [
              0.7777777777777778,
              "#fb9f3a"
             ],
             [
              0.8888888888888888,
              "#fdca26"
             ],
             [
              1,
              "#f0f921"
             ]
            ],
            "type": "histogram2dcontour"
           }
          ],
          "mesh3d": [
           {
            "colorbar": {
             "outlinewidth": 0,
             "ticks": ""
            },
            "type": "mesh3d"
           }
          ],
          "parcoords": [
           {
            "line": {
             "colorbar": {
              "outlinewidth": 0,
              "ticks": ""
             }
            },
            "type": "parcoords"
           }
          ],
          "pie": [
           {
            "automargin": true,
            "type": "pie"
           }
          ],
          "scatter": [
           {
            "fillpattern": {
             "fillmode": "overlay",
             "size": 10,
             "solidity": 0.2
            },
            "type": "scatter"
           }
          ],
          "scatter3d": [
           {
            "line": {
             "colorbar": {
              "outlinewidth": 0,
              "ticks": ""
             }
            },
            "marker": {
             "colorbar": {
              "outlinewidth": 0,
              "ticks": ""
             }
            },
            "type": "scatter3d"
           }
          ],
          "scattercarpet": [
           {
            "marker": {
             "colorbar": {
              "outlinewidth": 0,
              "ticks": ""
             }
            },
            "type": "scattercarpet"
           }
          ],
          "scattergeo": [
           {
            "marker": {
             "colorbar": {
              "outlinewidth": 0,
              "ticks": ""
             }
            },
            "type": "scattergeo"
           }
          ],
          "scattergl": [
           {
            "marker": {
             "colorbar": {
              "outlinewidth": 0,
              "ticks": ""
             }
            },
            "type": "scattergl"
           }
          ],
          "scattermapbox": [
           {
            "marker": {
             "colorbar": {
              "outlinewidth": 0,
              "ticks": ""
             }
            },
            "type": "scattermapbox"
           }
          ],
          "scatterpolar": [
           {
            "marker": {
             "colorbar": {
              "outlinewidth": 0,
              "ticks": ""
             }
            },
            "type": "scatterpolar"
           }
          ],
          "scatterpolargl": [
           {
            "marker": {
             "colorbar": {
              "outlinewidth": 0,
              "ticks": ""
             }
            },
            "type": "scatterpolargl"
           }
          ],
          "scatterternary": [
           {
            "marker": {
             "colorbar": {
              "outlinewidth": 0,
              "ticks": ""
             }
            },
            "type": "scatterternary"
           }
          ],
          "surface": [
           {
            "colorbar": {
             "outlinewidth": 0,
             "ticks": ""
            },
            "colorscale": [
             [
              0,
              "#0d0887"
             ],
             [
              0.1111111111111111,
              "#46039f"
             ],
             [
              0.2222222222222222,
              "#7201a8"
             ],
             [
              0.3333333333333333,
              "#9c179e"
             ],
             [
              0.4444444444444444,
              "#bd3786"
             ],
             [
              0.5555555555555556,
              "#d8576b"
             ],
             [
              0.6666666666666666,
              "#ed7953"
             ],
             [
              0.7777777777777778,
              "#fb9f3a"
             ],
             [
              0.8888888888888888,
              "#fdca26"
             ],
             [
              1,
              "#f0f921"
             ]
            ],
            "type": "surface"
           }
          ],
          "table": [
           {
            "cells": {
             "fill": {
              "color": "#EBF0F8"
             },
             "line": {
              "color": "white"
             }
            },
            "header": {
             "fill": {
              "color": "#C8D4E3"
             },
             "line": {
              "color": "white"
             }
            },
            "type": "table"
           }
          ]
         },
         "layout": {
          "annotationdefaults": {
           "arrowcolor": "#2a3f5f",
           "arrowhead": 0,
           "arrowwidth": 1
          },
          "autotypenumbers": "strict",
          "coloraxis": {
           "colorbar": {
            "outlinewidth": 0,
            "ticks": ""
           }
          },
          "colorscale": {
           "diverging": [
            [
             0,
             "#8e0152"
            ],
            [
             0.1,
             "#c51b7d"
            ],
            [
             0.2,
             "#de77ae"
            ],
            [
             0.3,
             "#f1b6da"
            ],
            [
             0.4,
             "#fde0ef"
            ],
            [
             0.5,
             "#f7f7f7"
            ],
            [
             0.6,
             "#e6f5d0"
            ],
            [
             0.7,
             "#b8e186"
            ],
            [
             0.8,
             "#7fbc41"
            ],
            [
             0.9,
             "#4d9221"
            ],
            [
             1,
             "#276419"
            ]
           ],
           "sequential": [
            [
             0,
             "#0d0887"
            ],
            [
             0.1111111111111111,
             "#46039f"
            ],
            [
             0.2222222222222222,
             "#7201a8"
            ],
            [
             0.3333333333333333,
             "#9c179e"
            ],
            [
             0.4444444444444444,
             "#bd3786"
            ],
            [
             0.5555555555555556,
             "#d8576b"
            ],
            [
             0.6666666666666666,
             "#ed7953"
            ],
            [
             0.7777777777777778,
             "#fb9f3a"
            ],
            [
             0.8888888888888888,
             "#fdca26"
            ],
            [
             1,
             "#f0f921"
            ]
           ],
           "sequentialminus": [
            [
             0,
             "#0d0887"
            ],
            [
             0.1111111111111111,
             "#46039f"
            ],
            [
             0.2222222222222222,
             "#7201a8"
            ],
            [
             0.3333333333333333,
             "#9c179e"
            ],
            [
             0.4444444444444444,
             "#bd3786"
            ],
            [
             0.5555555555555556,
             "#d8576b"
            ],
            [
             0.6666666666666666,
             "#ed7953"
            ],
            [
             0.7777777777777778,
             "#fb9f3a"
            ],
            [
             0.8888888888888888,
             "#fdca26"
            ],
            [
             1,
             "#f0f921"
            ]
           ]
          },
          "colorway": [
           "#636efa",
           "#EF553B",
           "#00cc96",
           "#ab63fa",
           "#FFA15A",
           "#19d3f3",
           "#FF6692",
           "#B6E880",
           "#FF97FF",
           "#FECB52"
          ],
          "font": {
           "color": "#2a3f5f"
          },
          "geo": {
           "bgcolor": "white",
           "lakecolor": "white",
           "landcolor": "#E5ECF6",
           "showlakes": true,
           "showland": true,
           "subunitcolor": "white"
          },
          "hoverlabel": {
           "align": "left"
          },
          "hovermode": "closest",
          "mapbox": {
           "style": "light"
          },
          "paper_bgcolor": "white",
          "plot_bgcolor": "#E5ECF6",
          "polar": {
           "angularaxis": {
            "gridcolor": "white",
            "linecolor": "white",
            "ticks": ""
           },
           "bgcolor": "#E5ECF6",
           "radialaxis": {
            "gridcolor": "white",
            "linecolor": "white",
            "ticks": ""
           }
          },
          "scene": {
           "xaxis": {
            "backgroundcolor": "#E5ECF6",
            "gridcolor": "white",
            "gridwidth": 2,
            "linecolor": "white",
            "showbackground": true,
            "ticks": "",
            "zerolinecolor": "white"
           },
           "yaxis": {
            "backgroundcolor": "#E5ECF6",
            "gridcolor": "white",
            "gridwidth": 2,
            "linecolor": "white",
            "showbackground": true,
            "ticks": "",
            "zerolinecolor": "white"
           },
           "zaxis": {
            "backgroundcolor": "#E5ECF6",
            "gridcolor": "white",
            "gridwidth": 2,
            "linecolor": "white",
            "showbackground": true,
            "ticks": "",
            "zerolinecolor": "white"
           }
          },
          "shapedefaults": {
           "line": {
            "color": "#2a3f5f"
           }
          },
          "ternary": {
           "aaxis": {
            "gridcolor": "white",
            "linecolor": "white",
            "ticks": ""
           },
           "baxis": {
            "gridcolor": "white",
            "linecolor": "white",
            "ticks": ""
           },
           "bgcolor": "#E5ECF6",
           "caxis": {
            "gridcolor": "white",
            "linecolor": "white",
            "ticks": ""
           }
          },
          "title": {
           "x": 0.05
          },
          "xaxis": {
           "automargin": true,
           "gridcolor": "white",
           "linecolor": "white",
           "ticks": "",
           "title": {
            "standoff": 15
           },
           "zerolinecolor": "white",
           "zerolinewidth": 2
          },
          "yaxis": {
           "automargin": true,
           "gridcolor": "white",
           "linecolor": "white",
           "ticks": "",
           "title": {
            "standoff": 15
           },
           "zerolinecolor": "white",
           "zerolinewidth": 2
          }
         }
        },
        "title": {
         "text": "DNA Damage in Damage+ Nuclei by Tissue Location and Genotype (sex-aggregated) - Auto stain QC - qc_cellpdia30_sigma6_dilrad4_gliathr20"
        },
        "xaxis": {
         "anchor": "y",
         "domain": [
          0,
          1
         ],
         "title": {
          "text": "tissue_location"
         }
        },
        "yaxis": {
         "anchor": "x",
         "domain": [
          0,
          1
         ],
         "title": {
          "text": "avg_dna_damage_foci/all_nuclei_damage_+"
         }
        }
       }
      }
     },
     "metadata": {},
     "output_type": "display_data"
    }
   ],
   "source": [
    "# Create the boxplot\n",
    "fig = px.box(auto_filtered_df, x='tissue_location', y='avg_dna_damage_foci/all_nuclei_damage_+',\n",
    "             color='genotype', # Different genotypes will be shown in different colors\n",
    "             title=f'DNA Damage in Damage+ Nuclei by Tissue Location and Genotype (sex-aggregated) - Auto stain QC - qc_cellpdia{cellpose_nuclei_diameter}_sigma{gaussian_sigma}_dilrad{dilation_radius_nuclei}_gliathr{glia_channel_threshold}')\n",
    "\n",
    "# Show the plot\n",
    "fig.show()"
   ]
  },
  {
   "cell_type": "markdown",
   "metadata": {},
   "source": [
    "Show failed qc dataframe"
   ]
  },
  {
   "cell_type": "code",
   "execution_count": 93,
   "metadata": {},
   "outputs": [
    {
     "name": "stdout",
     "output_type": "stream",
     "text": [
      "82 stains have not passed QC and will need reanalysis\n"
     ]
    },
    {
     "data": {
      "text/html": [
       "<div>\n",
       "<style scoped>\n",
       "    .dataframe tbody tr th:only-of-type {\n",
       "        vertical-align: middle;\n",
       "    }\n",
       "\n",
       "    .dataframe tbody tr th {\n",
       "        vertical-align: top;\n",
       "    }\n",
       "\n",
       "    .dataframe thead th {\n",
       "        text-align: right;\n",
       "    }\n",
       "</style>\n",
       "<table border=\"1\" class=\"dataframe\">\n",
       "  <thead>\n",
       "    <tr style=\"text-align: right;\">\n",
       "      <th></th>\n",
       "      <th>index</th>\n",
       "      <th>filename</th>\n",
       "      <th>avg_dna_damage_foci/glia_+</th>\n",
       "      <th>avg_dna_damage_foci/glia_+_damage_+</th>\n",
       "      <th>avg_dna_damage_foci/all_nuclei</th>\n",
       "      <th>avg_dna_damage_foci/all_nuclei_damage_+</th>\n",
       "      <th>nr_+_dna_damage_glia_nuclei</th>\n",
       "      <th>nr_-_dna_damage_glia_nuclei</th>\n",
       "      <th>nr_glia_+_nuclei</th>\n",
       "      <th>nr_total_nuclei</th>\n",
       "      <th>...</th>\n",
       "      <th>%_glia+_signal</th>\n",
       "      <th>tissue_location</th>\n",
       "      <th>staining_id</th>\n",
       "      <th>animal_id</th>\n",
       "      <th>sex</th>\n",
       "      <th>genotype</th>\n",
       "      <th>dna_damage_stain_quality_manual</th>\n",
       "      <th>glia_stain_quality_auto</th>\n",
       "      <th>dna_damage_stain_quality_auto</th>\n",
       "      <th>staining_qc_passed</th>\n",
       "    </tr>\n",
       "  </thead>\n",
       "  <tbody>\n",
       "    <tr>\n",
       "      <th>0</th>\n",
       "      <td>0</td>\n",
       "      <td>DSB Iba1 16_40X_CA1</td>\n",
       "      <td>0.291667</td>\n",
       "      <td>1.042553</td>\n",
       "      <td>0.308081</td>\n",
       "      <td>1.033898</td>\n",
       "      <td>47</td>\n",
       "      <td>121</td>\n",
       "      <td>168</td>\n",
       "      <td>198</td>\n",
       "      <td>...</td>\n",
       "      <td>88.633728</td>\n",
       "      <td>CA1</td>\n",
       "      <td>16</td>\n",
       "      <td>887</td>\n",
       "      <td>male</td>\n",
       "      <td>APP/PS1</td>\n",
       "      <td>poor</td>\n",
       "      <td>suboptimal</td>\n",
       "      <td>optimal</td>\n",
       "      <td>False</td>\n",
       "    </tr>\n",
       "    <tr>\n",
       "      <th>1</th>\n",
       "      <td>1</td>\n",
       "      <td>DSB Iba1 16_40X_CA3</td>\n",
       "      <td>0.683616</td>\n",
       "      <td>1.551282</td>\n",
       "      <td>0.699454</td>\n",
       "      <td>1.542169</td>\n",
       "      <td>78</td>\n",
       "      <td>99</td>\n",
       "      <td>177</td>\n",
       "      <td>183</td>\n",
       "      <td>...</td>\n",
       "      <td>96.349525</td>\n",
       "      <td>CA3</td>\n",
       "      <td>16</td>\n",
       "      <td>887</td>\n",
       "      <td>male</td>\n",
       "      <td>APP/PS1</td>\n",
       "      <td>poor</td>\n",
       "      <td>suboptimal</td>\n",
       "      <td>optimal</td>\n",
       "      <td>False</td>\n",
       "    </tr>\n",
       "    <tr>\n",
       "      <th>2</th>\n",
       "      <td>2</td>\n",
       "      <td>DSB Iba1 16_40X_CTX1</td>\n",
       "      <td>0.081633</td>\n",
       "      <td>1.000000</td>\n",
       "      <td>0.164609</td>\n",
       "      <td>1.025641</td>\n",
       "      <td>4</td>\n",
       "      <td>45</td>\n",
       "      <td>49</td>\n",
       "      <td>243</td>\n",
       "      <td>...</td>\n",
       "      <td>13.598442</td>\n",
       "      <td>CTX1</td>\n",
       "      <td>16</td>\n",
       "      <td>887</td>\n",
       "      <td>male</td>\n",
       "      <td>APP/PS1</td>\n",
       "      <td>poor</td>\n",
       "      <td>optimal</td>\n",
       "      <td>optimal</td>\n",
       "      <td>False</td>\n",
       "    </tr>\n",
       "    <tr>\n",
       "      <th>3</th>\n",
       "      <td>3</td>\n",
       "      <td>DSB Iba1 16_40X_CTX2</td>\n",
       "      <td>0.429167</td>\n",
       "      <td>1.240964</td>\n",
       "      <td>0.425703</td>\n",
       "      <td>1.232558</td>\n",
       "      <td>83</td>\n",
       "      <td>157</td>\n",
       "      <td>240</td>\n",
       "      <td>249</td>\n",
       "      <td>...</td>\n",
       "      <td>94.930744</td>\n",
       "      <td>CTX2</td>\n",
       "      <td>16</td>\n",
       "      <td>887</td>\n",
       "      <td>male</td>\n",
       "      <td>APP/PS1</td>\n",
       "      <td>poor</td>\n",
       "      <td>suboptimal</td>\n",
       "      <td>optimal</td>\n",
       "      <td>False</td>\n",
       "    </tr>\n",
       "    <tr>\n",
       "      <th>4</th>\n",
       "      <td>4</td>\n",
       "      <td>DSB Iba1 16_40X_CTX3</td>\n",
       "      <td>0.543478</td>\n",
       "      <td>1.293103</td>\n",
       "      <td>0.524664</td>\n",
       "      <td>1.392857</td>\n",
       "      <td>58</td>\n",
       "      <td>80</td>\n",
       "      <td>138</td>\n",
       "      <td>223</td>\n",
       "      <td>...</td>\n",
       "      <td>54.768944</td>\n",
       "      <td>CTX3</td>\n",
       "      <td>16</td>\n",
       "      <td>887</td>\n",
       "      <td>male</td>\n",
       "      <td>APP/PS1</td>\n",
       "      <td>poor</td>\n",
       "      <td>suboptimal</td>\n",
       "      <td>optimal</td>\n",
       "      <td>False</td>\n",
       "    </tr>\n",
       "    <tr>\n",
       "      <th>...</th>\n",
       "      <td>...</td>\n",
       "      <td>...</td>\n",
       "      <td>...</td>\n",
       "      <td>...</td>\n",
       "      <td>...</td>\n",
       "      <td>...</td>\n",
       "      <td>...</td>\n",
       "      <td>...</td>\n",
       "      <td>...</td>\n",
       "      <td>...</td>\n",
       "      <td>...</td>\n",
       "      <td>...</td>\n",
       "      <td>...</td>\n",
       "      <td>...</td>\n",
       "      <td>...</td>\n",
       "      <td>...</td>\n",
       "      <td>...</td>\n",
       "      <td>...</td>\n",
       "      <td>...</td>\n",
       "      <td>...</td>\n",
       "      <td>...</td>\n",
       "    </tr>\n",
       "    <tr>\n",
       "      <th>169</th>\n",
       "      <td>169</td>\n",
       "      <td>DSB Iba1 46_40X_CA3</td>\n",
       "      <td>0.777778</td>\n",
       "      <td>1.689655</td>\n",
       "      <td>0.823529</td>\n",
       "      <td>1.623188</td>\n",
       "      <td>29</td>\n",
       "      <td>34</td>\n",
       "      <td>63</td>\n",
       "      <td>136</td>\n",
       "      <td>...</td>\n",
       "      <td>31.574440</td>\n",
       "      <td>CA3</td>\n",
       "      <td>46</td>\n",
       "      <td>253</td>\n",
       "      <td>female</td>\n",
       "      <td>APP/PS1 x Neil3 KO</td>\n",
       "      <td>poor</td>\n",
       "      <td>optimal</td>\n",
       "      <td>optimal</td>\n",
       "      <td>False</td>\n",
       "    </tr>\n",
       "    <tr>\n",
       "      <th>170</th>\n",
       "      <td>170</td>\n",
       "      <td>DSB Iba1 46_40X_CTX1</td>\n",
       "      <td>0.672566</td>\n",
       "      <td>1.333333</td>\n",
       "      <td>0.625498</td>\n",
       "      <td>1.377193</td>\n",
       "      <td>57</td>\n",
       "      <td>56</td>\n",
       "      <td>113</td>\n",
       "      <td>251</td>\n",
       "      <td>...</td>\n",
       "      <td>46.372128</td>\n",
       "      <td>CTX1</td>\n",
       "      <td>46</td>\n",
       "      <td>253</td>\n",
       "      <td>female</td>\n",
       "      <td>APP/PS1 x Neil3 KO</td>\n",
       "      <td>poor</td>\n",
       "      <td>suboptimal</td>\n",
       "      <td>optimal</td>\n",
       "      <td>False</td>\n",
       "    </tr>\n",
       "    <tr>\n",
       "      <th>171</th>\n",
       "      <td>171</td>\n",
       "      <td>DSB Iba1 46_40X_CTX2</td>\n",
       "      <td>0.361842</td>\n",
       "      <td>1.037736</td>\n",
       "      <td>0.310714</td>\n",
       "      <td>1.060976</td>\n",
       "      <td>53</td>\n",
       "      <td>99</td>\n",
       "      <td>152</td>\n",
       "      <td>280</td>\n",
       "      <td>...</td>\n",
       "      <td>51.161194</td>\n",
       "      <td>CTX2</td>\n",
       "      <td>46</td>\n",
       "      <td>253</td>\n",
       "      <td>female</td>\n",
       "      <td>APP/PS1 x Neil3 KO</td>\n",
       "      <td>poor</td>\n",
       "      <td>suboptimal</td>\n",
       "      <td>optimal</td>\n",
       "      <td>False</td>\n",
       "    </tr>\n",
       "    <tr>\n",
       "      <th>172</th>\n",
       "      <td>172</td>\n",
       "      <td>DSB Iba1 46_40X_CTX3</td>\n",
       "      <td>0.619835</td>\n",
       "      <td>1.442308</td>\n",
       "      <td>0.548872</td>\n",
       "      <td>1.460000</td>\n",
       "      <td>52</td>\n",
       "      <td>69</td>\n",
       "      <td>121</td>\n",
       "      <td>266</td>\n",
       "      <td>...</td>\n",
       "      <td>32.654476</td>\n",
       "      <td>CTX3</td>\n",
       "      <td>46</td>\n",
       "      <td>253</td>\n",
       "      <td>female</td>\n",
       "      <td>APP/PS1 x Neil3 KO</td>\n",
       "      <td>poor</td>\n",
       "      <td>optimal</td>\n",
       "      <td>optimal</td>\n",
       "      <td>False</td>\n",
       "    </tr>\n",
       "    <tr>\n",
       "      <th>173</th>\n",
       "      <td>173</td>\n",
       "      <td>DSB Iba1 46_40X_DG</td>\n",
       "      <td>0.554348</td>\n",
       "      <td>1.416667</td>\n",
       "      <td>0.634831</td>\n",
       "      <td>1.430380</td>\n",
       "      <td>36</td>\n",
       "      <td>56</td>\n",
       "      <td>92</td>\n",
       "      <td>178</td>\n",
       "      <td>...</td>\n",
       "      <td>56.203651</td>\n",
       "      <td>DG</td>\n",
       "      <td>46</td>\n",
       "      <td>253</td>\n",
       "      <td>female</td>\n",
       "      <td>APP/PS1 x Neil3 KO</td>\n",
       "      <td>poor</td>\n",
       "      <td>suboptimal</td>\n",
       "      <td>optimal</td>\n",
       "      <td>False</td>\n",
       "    </tr>\n",
       "  </tbody>\n",
       "</table>\n",
       "<p>82 rows × 21 columns</p>\n",
       "</div>"
      ],
      "text/plain": [
       "     index              filename  avg_dna_damage_foci/glia_+  \\\n",
       "0        0   DSB Iba1 16_40X_CA1                    0.291667   \n",
       "1        1   DSB Iba1 16_40X_CA3                    0.683616   \n",
       "2        2  DSB Iba1 16_40X_CTX1                    0.081633   \n",
       "3        3  DSB Iba1 16_40X_CTX2                    0.429167   \n",
       "4        4  DSB Iba1 16_40X_CTX3                    0.543478   \n",
       "..     ...                   ...                         ...   \n",
       "169    169   DSB Iba1 46_40X_CA3                    0.777778   \n",
       "170    170  DSB Iba1 46_40X_CTX1                    0.672566   \n",
       "171    171  DSB Iba1 46_40X_CTX2                    0.361842   \n",
       "172    172  DSB Iba1 46_40X_CTX3                    0.619835   \n",
       "173    173    DSB Iba1 46_40X_DG                    0.554348   \n",
       "\n",
       "     avg_dna_damage_foci/glia_+_damage_+  avg_dna_damage_foci/all_nuclei  \\\n",
       "0                               1.042553                        0.308081   \n",
       "1                               1.551282                        0.699454   \n",
       "2                               1.000000                        0.164609   \n",
       "3                               1.240964                        0.425703   \n",
       "4                               1.293103                        0.524664   \n",
       "..                                   ...                             ...   \n",
       "169                             1.689655                        0.823529   \n",
       "170                             1.333333                        0.625498   \n",
       "171                             1.037736                        0.310714   \n",
       "172                             1.442308                        0.548872   \n",
       "173                             1.416667                        0.634831   \n",
       "\n",
       "     avg_dna_damage_foci/all_nuclei_damage_+  nr_+_dna_damage_glia_nuclei  \\\n",
       "0                                   1.033898                           47   \n",
       "1                                   1.542169                           78   \n",
       "2                                   1.025641                            4   \n",
       "3                                   1.232558                           83   \n",
       "4                                   1.392857                           58   \n",
       "..                                       ...                          ...   \n",
       "169                                 1.623188                           29   \n",
       "170                                 1.377193                           57   \n",
       "171                                 1.060976                           53   \n",
       "172                                 1.460000                           52   \n",
       "173                                 1.430380                           36   \n",
       "\n",
       "     nr_-_dna_damage_glia_nuclei  nr_glia_+_nuclei  nr_total_nuclei  ...  \\\n",
       "0                            121               168              198  ...   \n",
       "1                             99               177              183  ...   \n",
       "2                             45                49              243  ...   \n",
       "3                            157               240              249  ...   \n",
       "4                             80               138              223  ...   \n",
       "..                           ...               ...              ...  ...   \n",
       "169                           34                63              136  ...   \n",
       "170                           56               113              251  ...   \n",
       "171                           99               152              280  ...   \n",
       "172                           69               121              266  ...   \n",
       "173                           56                92              178  ...   \n",
       "\n",
       "     %_glia+_signal  tissue_location staining_id  animal_id     sex  \\\n",
       "0         88.633728              CA1          16        887    male   \n",
       "1         96.349525              CA3          16        887    male   \n",
       "2         13.598442             CTX1          16        887    male   \n",
       "3         94.930744             CTX2          16        887    male   \n",
       "4         54.768944             CTX3          16        887    male   \n",
       "..              ...              ...         ...        ...     ...   \n",
       "169       31.574440              CA3          46        253  female   \n",
       "170       46.372128             CTX1          46        253  female   \n",
       "171       51.161194             CTX2          46        253  female   \n",
       "172       32.654476             CTX3          46        253  female   \n",
       "173       56.203651               DG          46        253  female   \n",
       "\n",
       "               genotype dna_damage_stain_quality_manual  \\\n",
       "0               APP/PS1                            poor   \n",
       "1               APP/PS1                            poor   \n",
       "2               APP/PS1                            poor   \n",
       "3               APP/PS1                            poor   \n",
       "4               APP/PS1                            poor   \n",
       "..                  ...                             ...   \n",
       "169  APP/PS1 x Neil3 KO                            poor   \n",
       "170  APP/PS1 x Neil3 KO                            poor   \n",
       "171  APP/PS1 x Neil3 KO                            poor   \n",
       "172  APP/PS1 x Neil3 KO                            poor   \n",
       "173  APP/PS1 x Neil3 KO                            poor   \n",
       "\n",
       "    glia_stain_quality_auto dna_damage_stain_quality_auto staining_qc_passed  \n",
       "0                suboptimal                       optimal              False  \n",
       "1                suboptimal                       optimal              False  \n",
       "2                   optimal                       optimal              False  \n",
       "3                suboptimal                       optimal              False  \n",
       "4                suboptimal                       optimal              False  \n",
       "..                      ...                           ...                ...  \n",
       "169                 optimal                       optimal              False  \n",
       "170              suboptimal                       optimal              False  \n",
       "171              suboptimal                       optimal              False  \n",
       "172                 optimal                       optimal              False  \n",
       "173              suboptimal                       optimal              False  \n",
       "\n",
       "[82 rows x 21 columns]"
      ]
     },
     "execution_count": 93,
     "metadata": {},
     "output_type": "execute_result"
    }
   ],
   "source": [
    "qc_failed_df = merged_df[merged_df['staining_qc_passed'] == False]\n",
    "\n",
    "print(f\"{qc_failed_df.shape[0]} stains have not passed QC and will need reanalysis\")\n",
    "\n",
    "qc_failed_list = qc_failed_df['index'].tolist()\n",
    "\n",
    "qc_failed_df\n"
   ]
  }
 ],
 "metadata": {
  "kernelspec": {
   "display_name": "microglia",
   "language": "python",
   "name": "python3"
  },
  "language_info": {
   "codemirror_mode": {
    "name": "ipython",
    "version": 3
   },
   "file_extension": ".py",
   "mimetype": "text/x-python",
   "name": "python",
   "nbconvert_exporter": "python",
   "pygments_lexer": "ipython3",
   "version": "3.9.18"
  }
 },
 "nbformat": 4,
 "nbformat_minor": 2
}
