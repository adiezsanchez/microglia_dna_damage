{
 "cells": [
  {
   "cell_type": "markdown",
   "metadata": {},
   "source": [
    "<h2>Imports</h2>"
   ]
  },
  {
   "cell_type": "code",
   "execution_count": 10,
   "metadata": {},
   "outputs": [],
   "source": [
    "from utils import read_results_csv, extract_analysis_parameters, show_exploratory_data, qc_filter_dataset, plot_technical_replicates\n",
    "import pandas as pd\n",
    "import plotly.express as px"
   ]
  },
  {
   "cell_type": "markdown",
   "metadata": {},
   "source": [
    "<h2>Data analysis input</h2>"
   ]
  },
  {
   "cell_type": "code",
   "execution_count": 11,
   "metadata": {},
   "outputs": [
    {
     "name": "stdout",
     "output_type": "stream",
     "text": [
      "The following dataset will be analyzed: astrocyte\n",
      "Cellpose nuclei diameter: 30\n",
      "Gaussian sigma: 1\n",
      "Dilation radius nuclei: 4\n",
      "Dna damage segmenter version: 3\n",
      "Glia erosion: 6\n",
      "Glia threshold: 30\n",
      "Glia semantic segmentation version: None\n",
      "DNA damage foci erosion: 2\n"
     ]
    },
    {
     "data": {
      "text/html": [
       "<div>\n",
       "<style scoped>\n",
       "    .dataframe tbody tr th:only-of-type {\n",
       "        vertical-align: middle;\n",
       "    }\n",
       "\n",
       "    .dataframe tbody tr th {\n",
       "        vertical-align: top;\n",
       "    }\n",
       "\n",
       "    .dataframe thead th {\n",
       "        text-align: right;\n",
       "    }\n",
       "</style>\n",
       "<table border=\"1\" class=\"dataframe\">\n",
       "  <thead>\n",
       "    <tr style=\"text-align: right;\">\n",
       "      <th></th>\n",
       "      <th>index</th>\n",
       "      <th>filename</th>\n",
       "      <th>avg_dna_damage_foci/glia_+</th>\n",
       "      <th>avg_dna_damage_foci/glia_+_damage_+</th>\n",
       "      <th>avg_dna_damage_foci/all_nuclei</th>\n",
       "      <th>avg_dna_damage_foci/all_nuclei_damage_+</th>\n",
       "      <th>nr_+_dna_damage_glia_nuclei</th>\n",
       "      <th>nr_+_dna_damage_all_nuclei</th>\n",
       "      <th>nr_-_dna_damage_glia_nuclei</th>\n",
       "      <th>nr_glia_+_nuclei</th>\n",
       "      <th>...</th>\n",
       "      <th>%_glia+_signal</th>\n",
       "      <th>damage_load_ratio_glia_+_cells</th>\n",
       "      <th>damage_load_ratio_all_cells</th>\n",
       "      <th>tissue_location</th>\n",
       "      <th>staining_id</th>\n",
       "      <th>animal_id</th>\n",
       "      <th>sex</th>\n",
       "      <th>genotype</th>\n",
       "      <th>dna_damage_stain_quality_manual</th>\n",
       "      <th>manual_qc</th>\n",
       "    </tr>\n",
       "  </thead>\n",
       "  <tbody>\n",
       "    <tr>\n",
       "      <th>0</th>\n",
       "      <td>0</td>\n",
       "      <td>DSB GFAP 101_40X_CA1</td>\n",
       "      <td>0.187500</td>\n",
       "      <td>1.0</td>\n",
       "      <td>0.475309</td>\n",
       "      <td>1.149254</td>\n",
       "      <td>3</td>\n",
       "      <td>67</td>\n",
       "      <td>13</td>\n",
       "      <td>16</td>\n",
       "      <td>...</td>\n",
       "      <td>3.414726</td>\n",
       "      <td>0.187500</td>\n",
       "      <td>0.413580</td>\n",
       "      <td>CA1</td>\n",
       "      <td>101</td>\n",
       "      <td>2119</td>\n",
       "      <td>female</td>\n",
       "      <td>APP/PS1</td>\n",
       "      <td>good</td>\n",
       "      <td>passed</td>\n",
       "    </tr>\n",
       "    <tr>\n",
       "      <th>1</th>\n",
       "      <td>1</td>\n",
       "      <td>DSB GFAP 101_40X_CA3</td>\n",
       "      <td>0.000000</td>\n",
       "      <td>NaN</td>\n",
       "      <td>1.151724</td>\n",
       "      <td>1.670000</td>\n",
       "      <td>0</td>\n",
       "      <td>100</td>\n",
       "      <td>7</td>\n",
       "      <td>7</td>\n",
       "      <td>...</td>\n",
       "      <td>4.178619</td>\n",
       "      <td>0.000000</td>\n",
       "      <td>0.689655</td>\n",
       "      <td>CA3</td>\n",
       "      <td>101</td>\n",
       "      <td>2119</td>\n",
       "      <td>female</td>\n",
       "      <td>APP/PS1</td>\n",
       "      <td>good</td>\n",
       "      <td>passed</td>\n",
       "    </tr>\n",
       "    <tr>\n",
       "      <th>2</th>\n",
       "      <td>2</td>\n",
       "      <td>DSB GFAP 101_40X_CTX1</td>\n",
       "      <td>0.187500</td>\n",
       "      <td>1.0</td>\n",
       "      <td>0.352201</td>\n",
       "      <td>1.037037</td>\n",
       "      <td>3</td>\n",
       "      <td>54</td>\n",
       "      <td>13</td>\n",
       "      <td>16</td>\n",
       "      <td>...</td>\n",
       "      <td>5.212784</td>\n",
       "      <td>0.187500</td>\n",
       "      <td>0.339623</td>\n",
       "      <td>CTX1</td>\n",
       "      <td>101</td>\n",
       "      <td>2119</td>\n",
       "      <td>female</td>\n",
       "      <td>APP/PS1</td>\n",
       "      <td>good</td>\n",
       "      <td>passed</td>\n",
       "    </tr>\n",
       "    <tr>\n",
       "      <th>3</th>\n",
       "      <td>3</td>\n",
       "      <td>DSB GFAP 101_40X_CTX2</td>\n",
       "      <td>0.388889</td>\n",
       "      <td>1.0</td>\n",
       "      <td>0.629344</td>\n",
       "      <td>1.189781</td>\n",
       "      <td>7</td>\n",
       "      <td>137</td>\n",
       "      <td>11</td>\n",
       "      <td>18</td>\n",
       "      <td>...</td>\n",
       "      <td>6.575394</td>\n",
       "      <td>0.388889</td>\n",
       "      <td>0.528958</td>\n",
       "      <td>CTX2</td>\n",
       "      <td>101</td>\n",
       "      <td>2119</td>\n",
       "      <td>female</td>\n",
       "      <td>APP/PS1</td>\n",
       "      <td>good</td>\n",
       "      <td>passed</td>\n",
       "    </tr>\n",
       "    <tr>\n",
       "      <th>4</th>\n",
       "      <td>4</td>\n",
       "      <td>DSB GFAP 101_40X_CTX3</td>\n",
       "      <td>0.444444</td>\n",
       "      <td>1.0</td>\n",
       "      <td>0.807229</td>\n",
       "      <td>1.410526</td>\n",
       "      <td>4</td>\n",
       "      <td>95</td>\n",
       "      <td>5</td>\n",
       "      <td>9</td>\n",
       "      <td>...</td>\n",
       "      <td>5.749798</td>\n",
       "      <td>0.444444</td>\n",
       "      <td>0.572289</td>\n",
       "      <td>CTX3</td>\n",
       "      <td>101</td>\n",
       "      <td>2119</td>\n",
       "      <td>female</td>\n",
       "      <td>APP/PS1</td>\n",
       "      <td>good</td>\n",
       "      <td>passed</td>\n",
       "    </tr>\n",
       "  </tbody>\n",
       "</table>\n",
       "<p>5 rows × 22 columns</p>\n",
       "</div>"
      ],
      "text/plain": [
       "   index               filename  avg_dna_damage_foci/glia_+  \\\n",
       "0      0   DSB GFAP 101_40X_CA1                    0.187500   \n",
       "1      1   DSB GFAP 101_40X_CA3                    0.000000   \n",
       "2      2  DSB GFAP 101_40X_CTX1                    0.187500   \n",
       "3      3  DSB GFAP 101_40X_CTX2                    0.388889   \n",
       "4      4  DSB GFAP 101_40X_CTX3                    0.444444   \n",
       "\n",
       "   avg_dna_damage_foci/glia_+_damage_+  avg_dna_damage_foci/all_nuclei  \\\n",
       "0                                  1.0                        0.475309   \n",
       "1                                  NaN                        1.151724   \n",
       "2                                  1.0                        0.352201   \n",
       "3                                  1.0                        0.629344   \n",
       "4                                  1.0                        0.807229   \n",
       "\n",
       "   avg_dna_damage_foci/all_nuclei_damage_+  nr_+_dna_damage_glia_nuclei  \\\n",
       "0                                 1.149254                            3   \n",
       "1                                 1.670000                            0   \n",
       "2                                 1.037037                            3   \n",
       "3                                 1.189781                            7   \n",
       "4                                 1.410526                            4   \n",
       "\n",
       "   nr_+_dna_damage_all_nuclei  nr_-_dna_damage_glia_nuclei  nr_glia_+_nuclei  \\\n",
       "0                          67                           13                16   \n",
       "1                         100                            7                 7   \n",
       "2                          54                           13                16   \n",
       "3                         137                           11                18   \n",
       "4                          95                            5                 9   \n",
       "\n",
       "   ...  %_glia+_signal  damage_load_ratio_glia_+_cells  \\\n",
       "0  ...        3.414726                        0.187500   \n",
       "1  ...        4.178619                        0.000000   \n",
       "2  ...        5.212784                        0.187500   \n",
       "3  ...        6.575394                        0.388889   \n",
       "4  ...        5.749798                        0.444444   \n",
       "\n",
       "   damage_load_ratio_all_cells  tissue_location  staining_id animal_id  \\\n",
       "0                     0.413580              CA1          101      2119   \n",
       "1                     0.689655              CA3          101      2119   \n",
       "2                     0.339623             CTX1          101      2119   \n",
       "3                     0.528958             CTX2          101      2119   \n",
       "4                     0.572289             CTX3          101      2119   \n",
       "\n",
       "      sex  genotype dna_damage_stain_quality_manual manual_qc  \n",
       "0  female   APP/PS1                            good    passed  \n",
       "1  female   APP/PS1                            good    passed  \n",
       "2  female   APP/PS1                            good    passed  \n",
       "3  female   APP/PS1                            good    passed  \n",
       "4  female   APP/PS1                            good    passed  \n",
       "\n",
       "[5 rows x 22 columns]"
      ]
     },
     "execution_count": 11,
     "metadata": {},
     "output_type": "execute_result"
    }
   ],
   "source": [
    "# Define the dataset results that you want to analyze below (\"microglia\" or \"astrocyte\")\n",
    "dataset = \"astrocyte\"\n",
    "\n",
    "# Define the .csv results you want to explore and quality check\n",
    "csv_path = \"./results/astrocyte_results_cellpdia30_sigma1_dilrad4_dnad_obj_seg_v3_gliaero6_gliathr30_dnadero2.csv\"\n",
    "\n",
    "# Read both results and mouse_id .csv files and load them into a Dataframe \n",
    "df, df_mouse_id, merged_df = read_results_csv(dataset, csv_path)\n",
    "\n",
    "# Print the analysis settings and extract them into variables\n",
    "cellpose_nuclei_diameter, gaussian_sigma, dilation_radius_nuclei, dna_damage_segmenter_version, glia_nuclei_colocalization_erosion, glia_channel_threshold, glia_segmenter, glia_segmenter_version, dna_damage_erosion, parameters_title = extract_analysis_parameters(csv_path)\n",
    "\n",
    "# Display the first few rows of the DataFrame\n",
    "merged_df.head()\n"
   ]
  },
  {
   "cell_type": "markdown",
   "metadata": {},
   "source": [
    "<h2>Initial data exploration</h2>"
   ]
  },
  {
   "cell_type": "code",
   "execution_count": 12,
   "metadata": {},
   "outputs": [
    {
     "data": {
      "application/vnd.plotly.v1+json": {
       "config": {
        "plotlyServerURL": "https://plot.ly"
       },
       "data": [
        {
         "customdata": [
          [
           101,
           0,
           "DSB GFAP 101_40X_CA1"
          ],
          [
           101,
           1,
           "DSB GFAP 101_40X_CA3"
          ],
          [
           101,
           2,
           "DSB GFAP 101_40X_CTX1"
          ],
          [
           101,
           3,
           "DSB GFAP 101_40X_CTX2"
          ],
          [
           101,
           4,
           "DSB GFAP 101_40X_CTX3"
          ],
          [
           101,
           5,
           "DSB GFAP 101_40X_DG"
          ],
          [
           102,
           6,
           "DSB GFAP 102_40X_CA1"
          ],
          [
           102,
           7,
           "DSB GFAP 102_40X_CA3"
          ],
          [
           102,
           8,
           "DSB GFAP 102_40X_CTX1"
          ],
          [
           102,
           9,
           "DSB GFAP 102_40X_CTX2"
          ],
          [
           102,
           10,
           "DSB GFAP 102_40X_CTX3"
          ],
          [
           102,
           11,
           "DSB GFAP 102_40X_DG"
          ],
          [
           103,
           12,
           "DSB GFAP 103_40X_CA1"
          ],
          [
           103,
           13,
           "DSB GFAP 103_40X_CA3"
          ],
          [
           103,
           14,
           "DSB GFAP 103_40X_CTX1"
          ],
          [
           103,
           15,
           "DSB GFAP 103_40X_CTX2"
          ],
          [
           103,
           16,
           "DSB GFAP 103_40X_CTX3"
          ],
          [
           103,
           17,
           "DSB GFAP 103_40X_DG"
          ],
          [
           104,
           18,
           "DSB GFAP 104_40X_CA1"
          ],
          [
           104,
           19,
           "DSB GFAP 104_40X_CA3"
          ],
          [
           104,
           20,
           "DSB GFAP 104_40X_CTX1"
          ],
          [
           104,
           21,
           "DSB GFAP 104_40X_CTX2"
          ],
          [
           104,
           22,
           "DSB GFAP 104_40X_CTX3"
          ],
          [
           104,
           23,
           "DSB GFAP 104_40X_DG"
          ],
          [
           105,
           24,
           "DSB GFAP 105_40X_CA1"
          ],
          [
           105,
           25,
           "DSB GFAP 105_40X_CA3"
          ],
          [
           105,
           26,
           "DSB GFAP 105_40X_CTX1"
          ],
          [
           105,
           27,
           "DSB GFAP 105_40X_CTX2"
          ],
          [
           105,
           28,
           "DSB GFAP 105_40X_CTX3"
          ],
          [
           105,
           29,
           "DSB GFAP 105_40X_DG"
          ],
          [
           106,
           30,
           "DSB GFAP 106_40X_CA1"
          ],
          [
           106,
           31,
           "DSB GFAP 106_40X_CA3"
          ],
          [
           106,
           32,
           "DSB GFAP 106_40X_CTX1"
          ],
          [
           106,
           33,
           "DSB GFAP 106_40X_CTX2"
          ],
          [
           106,
           34,
           "DSB GFAP 106_40X_CTX3"
          ],
          [
           106,
           35,
           "DSB GFAP 106_40X_DG"
          ],
          [
           107,
           36,
           "DSB GFAP 107_40X_CA1"
          ],
          [
           107,
           37,
           "DSB GFAP 107_40X_CA3"
          ],
          [
           107,
           38,
           "DSB GFAP 107_40X_CTX1"
          ],
          [
           107,
           39,
           "DSB GFAP 107_40X_CTX2"
          ],
          [
           107,
           40,
           "DSB GFAP 107_40X_CTX3"
          ],
          [
           107,
           41,
           "DSB GFAP 107_40X_DG"
          ],
          [
           108,
           42,
           "DSB GFAP 108_40X_CA1"
          ],
          [
           108,
           43,
           "DSB GFAP 108_40X_CA3"
          ],
          [
           108,
           44,
           "DSB GFAP 108_40X_CTX1"
          ],
          [
           108,
           45,
           "DSB GFAP 108_40X_CTX2"
          ],
          [
           108,
           46,
           "DSB GFAP 108_40X_CTX3"
          ],
          [
           108,
           47,
           "DSB GFAP 108_40X_DG"
          ],
          [
           10,
           48,
           "DSB GFAP 10_40X_CA1"
          ],
          [
           10,
           49,
           "DSB GFAP 10_40X_CA3"
          ],
          [
           10,
           50,
           "DSB GFAP 10_40X_CTX1"
          ],
          [
           10,
           51,
           "DSB GFAP 10_40X_CTX2"
          ],
          [
           10,
           52,
           "DSB GFAP 10_40X_CTX3"
          ],
          [
           10,
           53,
           "DSB GFAP 10_40X_DG"
          ],
          [
           11,
           54,
           "DSB GFAP 11_40X_CA1"
          ],
          [
           11,
           55,
           "DSB GFAP 11_40X_CA3"
          ],
          [
           11,
           56,
           "DSB GFAP 11_40X_CTX1"
          ],
          [
           11,
           57,
           "DSB GFAP 11_40X_CTX2"
          ],
          [
           11,
           58,
           "DSB GFAP 11_40X_CTX3"
          ],
          [
           11,
           59,
           "DSB GFAP 11_40X_DG"
          ],
          [
           12,
           60,
           "DSB GFAP 12_40X_CA1"
          ],
          [
           12,
           61,
           "DSB GFAP 12_40X_CA3"
          ],
          [
           12,
           62,
           "DSB GFAP 12_40X_CTX1"
          ],
          [
           12,
           63,
           "DSB GFAP 12_40X_CTX2"
          ],
          [
           12,
           64,
           "DSB GFAP 12_40X_CTX3"
          ],
          [
           12,
           65,
           "DSB GFAP 12_40X_DG"
          ],
          [
           13,
           66,
           "DSB GFAP 13_40X_CA1"
          ],
          [
           13,
           67,
           "DSB GFAP 13_40X_CA3"
          ],
          [
           13,
           68,
           "DSB GFAP 13_40X_CTX1"
          ],
          [
           13,
           69,
           "DSB GFAP 13_40X_CTX2"
          ],
          [
           13,
           70,
           "DSB GFAP 13_40X_CTX3"
          ],
          [
           13,
           71,
           "DSB GFAP 13_40X_DG"
          ],
          [
           14,
           72,
           "DSB GFAP 14_40X_CA1"
          ],
          [
           14,
           73,
           "DSB GFAP 14_40X_CA3"
          ],
          [
           14,
           74,
           "DSB GFAP 14_40X_CTX1"
          ],
          [
           14,
           75,
           "DSB GFAP 14_40X_CTX2"
          ],
          [
           14,
           76,
           "DSB GFAP 14_40X_CTX3"
          ],
          [
           14,
           77,
           "DSB GFAP 14_40X_DG"
          ],
          [
           15,
           78,
           "DSB GFAP 15_40X_CA1"
          ],
          [
           15,
           79,
           "DSB GFAP 15_40X_CA3"
          ],
          [
           15,
           80,
           "DSB GFAP 15_40X_CTX1"
          ],
          [
           15,
           81,
           "DSB GFAP 15_40X_CTX2"
          ],
          [
           15,
           82,
           "DSB GFAP 15_40X_CTX3"
          ],
          [
           15,
           83,
           "DSB GFAP 15_40X_DG"
          ],
          [
           16,
           84,
           "DSB GFAP 16_40X_CA1"
          ],
          [
           16,
           85,
           "DSB GFAP 16_40X_CA3"
          ],
          [
           16,
           86,
           "DSB GFAP 16_40X_CTX1"
          ],
          [
           16,
           87,
           "DSB GFAP 16_40X_CTX2"
          ],
          [
           16,
           88,
           "DSB GFAP 16_40X_CTX3"
          ],
          [
           16,
           89,
           "DSB GFAP 16_40X_DG"
          ],
          [
           18,
           90,
           "DSB GFAP 18_40X_CA1"
          ],
          [
           18,
           91,
           "DSB GFAP 18_40X_CA3"
          ],
          [
           18,
           92,
           "DSB GFAP 18_40X_CTX1"
          ],
          [
           18,
           93,
           "DSB GFAP 18_40X_CTX2"
          ],
          [
           18,
           94,
           "DSB GFAP 18_40X_CTX3"
          ],
          [
           18,
           95,
           "DSB GFAP 18_40X_DG"
          ],
          [
           20,
           96,
           "DSB GFAP 20_40X_CA1"
          ],
          [
           20,
           97,
           "DSB GFAP 20_40X_CA3"
          ],
          [
           20,
           98,
           "DSB GFAP 20_40X_CTX1"
          ],
          [
           20,
           99,
           "DSB GFAP 20_40X_CTX2"
          ],
          [
           20,
           100,
           "DSB GFAP 20_40X_CTX3"
          ],
          [
           20,
           101,
           "DSB GFAP 20_40X_DG"
          ],
          [
           21,
           102,
           "DSB GFAP 21_40X_CA1"
          ],
          [
           21,
           103,
           "DSB GFAP 21_40X_CA3"
          ],
          [
           21,
           104,
           "DSB GFAP 21_40X_CTX1"
          ],
          [
           21,
           105,
           "DSB GFAP 21_40X_CTX2"
          ],
          [
           21,
           106,
           "DSB GFAP 21_40X_CTX3"
          ],
          [
           21,
           107,
           "DSB GFAP 21_40X_DG"
          ],
          [
           22,
           108,
           "DSB GFAP 22_40X_CA1"
          ],
          [
           22,
           109,
           "DSB GFAP 22_40X_CA3"
          ],
          [
           22,
           110,
           "DSB GFAP 22_40X_CTX1"
          ],
          [
           22,
           111,
           "DSB GFAP 22_40X_CTX2"
          ],
          [
           22,
           112,
           "DSB GFAP 22_40X_CTX3"
          ],
          [
           22,
           113,
           "DSB GFAP 22_40X_DG"
          ],
          [
           23,
           114,
           "DSB GFAP 23_40X_DG"
          ],
          [
           24,
           115,
           "DSB GFAP 24_40X_CA1"
          ],
          [
           24,
           116,
           "DSB GFAP 24_40X_CA3"
          ],
          [
           24,
           117,
           "DSB GFAP 24_40X_CTX1"
          ],
          [
           24,
           118,
           "DSB GFAP 24_40X_CTX2"
          ],
          [
           24,
           119,
           "DSB GFAP 24_40X_CTX3"
          ],
          [
           24,
           120,
           "DSB GFAP 24_40X_DG"
          ],
          [
           25,
           121,
           "DSB GFAP 25_40X_CA1"
          ],
          [
           25,
           122,
           "DSB GFAP 25_40X_CA3"
          ],
          [
           25,
           123,
           "DSB GFAP 25_40X_CTX1"
          ],
          [
           25,
           124,
           "DSB GFAP 25_40X_CTX2"
          ],
          [
           25,
           125,
           "DSB GFAP 25_40X_CTX3"
          ],
          [
           25,
           126,
           "DSB GFAP 25_40X_DG"
          ],
          [
           26,
           127,
           "DSB GFAP 26_40X_CA1"
          ],
          [
           26,
           128,
           "DSB GFAP 26_40X_CA3"
          ],
          [
           26,
           129,
           "DSB GFAP 26_40X_CTX1"
          ],
          [
           26,
           130,
           "DSB GFAP 26_40X_CTX2"
          ],
          [
           26,
           131,
           "DSB GFAP 26_40X_CTX3"
          ],
          [
           26,
           132,
           "DSB GFAP 26_40X_DG"
          ],
          [
           27,
           133,
           "DSB GFAP 27_40X_CA1"
          ],
          [
           27,
           134,
           "DSB GFAP 27_40X_CA3"
          ],
          [
           27,
           135,
           "DSB GFAP 27_40X_CTX1"
          ],
          [
           27,
           136,
           "DSB GFAP 27_40X_CTX2"
          ],
          [
           27,
           137,
           "DSB GFAP 27_40X_CTX3"
          ],
          [
           27,
           138,
           "DSB GFAP 27_40X_DG"
          ],
          [
           28,
           139,
           "DSB GFAP 28_40X_CA1"
          ],
          [
           28,
           140,
           "DSB GFAP 28_40X_CA3"
          ],
          [
           28,
           141,
           "DSB GFAP 28_40X_CTX1"
          ],
          [
           28,
           142,
           "DSB GFAP 28_40X_DG"
          ],
          [
           29,
           143,
           "DSB GFAP 29_40X_CA1"
          ],
          [
           29,
           144,
           "DSB GFAP 29_40X_CA3"
          ],
          [
           29,
           145,
           "DSB GFAP 29_40X_CTX1"
          ],
          [
           29,
           146,
           "DSB GFAP 29_40X_CTX2"
          ],
          [
           29,
           147,
           "DSB GFAP 29_40X_CTX3"
          ],
          [
           29,
           148,
           "DSB GFAP 29_40X_DG"
          ],
          [
           30,
           149,
           "DSB GFAP 30_40X_CA1"
          ],
          [
           30,
           150,
           "DSB GFAP 30_40X_CA3"
          ],
          [
           30,
           151,
           "DSB GFAP 30_40X_CTX1"
          ],
          [
           30,
           152,
           "DSB GFAP 30_40X_CTX2"
          ],
          [
           30,
           153,
           "DSB GFAP 30_40X_CTX3"
          ],
          [
           30,
           154,
           "DSB GFAP 30_40X_DG"
          ],
          [
           31,
           155,
           "DSB GFAP 31_40X_DG"
          ],
          [
           32,
           156,
           "DSB GFAP 32_40X_CA1"
          ],
          [
           32,
           157,
           "DSB GFAP 32_40X_CA3"
          ],
          [
           32,
           158,
           "DSB GFAP 32_40X_CTX1"
          ],
          [
           32,
           159,
           "DSB GFAP 32_40X_CTX2"
          ],
          [
           32,
           160,
           "DSB GFAP 32_40X_CTX3"
          ],
          [
           32,
           161,
           "DSB GFAP 32_40X_DG"
          ],
          [
           34,
           162,
           "DSB GFAP 34_40X_CA1"
          ],
          [
           34,
           163,
           "DSB GFAP 34_40X_CA3"
          ],
          [
           34,
           164,
           "DSB GFAP 34_40X_CTX1"
          ],
          [
           34,
           165,
           "DSB GFAP 34_40X_CTX2"
          ],
          [
           34,
           166,
           "DSB GFAP 34_40X_CTX3"
          ],
          [
           34,
           167,
           "DSB GFAP 34_40X_DG"
          ],
          [
           35,
           168,
           "DSB GFAP 35_40X_CA1"
          ],
          [
           35,
           169,
           "DSB GFAP 35_40X_CA3"
          ],
          [
           35,
           170,
           "DSB GFAP 35_40X_CTX1"
          ],
          [
           35,
           171,
           "DSB GFAP 35_40X_CTX2"
          ],
          [
           35,
           172,
           "DSB GFAP 35_40X_CTX3"
          ],
          [
           35,
           173,
           "DSB GFAP 35_40X_DG"
          ],
          [
           36,
           174,
           "DSB GFAP 36_40X_CA1"
          ],
          [
           36,
           175,
           "DSB GFAP 36_40X_CA3"
          ],
          [
           36,
           176,
           "DSB GFAP 36_40X_CTX1"
          ],
          [
           36,
           177,
           "DSB GFAP 36_40X_CTX2"
          ],
          [
           36,
           178,
           "DSB GFAP 36_40X_CTX3"
          ],
          [
           36,
           179,
           "DSB GFAP 36_40X_DG"
          ],
          [
           37,
           180,
           "DSB GFAP 37_40X_CA1"
          ],
          [
           37,
           181,
           "DSB GFAP 37_40X_CA3"
          ],
          [
           37,
           182,
           "DSB GFAP 37_40X_CTX1"
          ],
          [
           37,
           183,
           "DSB GFAP 37_40X_CTX2"
          ],
          [
           37,
           184,
           "DSB GFAP 37_40X_CTX3"
          ],
          [
           37,
           185,
           "DSB GFAP 37_40X_DG"
          ],
          [
           38,
           186,
           "DSB GFAP 38_40X_CA1"
          ],
          [
           38,
           187,
           "DSB GFAP 38_40X_CA3"
          ],
          [
           38,
           188,
           "DSB GFAP 38_40X_CTX1"
          ],
          [
           38,
           189,
           "DSB GFAP 38_40X_CTX2"
          ],
          [
           38,
           190,
           "DSB GFAP 38_40X_CTX3"
          ],
          [
           38,
           191,
           "DSB GFAP 38_40X_DG"
          ],
          [
           39,
           192,
           "DSB GFAP 39_40X_CA1"
          ],
          [
           39,
           193,
           "DSB GFAP 39_40X_CA3"
          ],
          [
           39,
           194,
           "DSB GFAP 39_40X_CTX1"
          ],
          [
           39,
           195,
           "DSB GFAP 39_40X_CTX2"
          ],
          [
           39,
           196,
           "DSB GFAP 39_40X_CTX3"
          ],
          [
           39,
           197,
           "DSB GFAP 39_40X_DG"
          ],
          [
           40,
           198,
           "DSB GFAP 40_40X_CA1"
          ],
          [
           40,
           199,
           "DSB GFAP 40_40X_CA3"
          ],
          [
           40,
           200,
           "DSB GFAP 40_40X_DG"
          ],
          [
           41,
           201,
           "DSB GFAP 41_40X_CA1"
          ],
          [
           41,
           202,
           "DSB GFAP 41_40X_CA3"
          ],
          [
           41,
           203,
           "DSB GFAP 41_40X_CTX1"
          ],
          [
           41,
           204,
           "DSB GFAP 41_40X_CTX2"
          ],
          [
           41,
           205,
           "DSB GFAP 41_40X_CTX3"
          ],
          [
           41,
           206,
           "DSB GFAP 41_40X_DG"
          ],
          [
           43,
           207,
           "DSB GFAP 43_40X_CA1"
          ],
          [
           43,
           208,
           "DSB GFAP 43_40X_CA3"
          ],
          [
           43,
           209,
           "DSB GFAP 43_40X_CTX1"
          ],
          [
           43,
           210,
           "DSB GFAP 43_40X_CTX2"
          ],
          [
           43,
           211,
           "DSB GFAP 43_40X_CTX3"
          ],
          [
           43,
           212,
           "DSB GFAP 43_40X_DG"
          ],
          [
           6,
           213,
           "DSB GFAP 6_40X_CA1"
          ],
          [
           6,
           214,
           "DSB GFAP 6_40X_CA3"
          ],
          [
           6,
           215,
           "DSB GFAP 6_40X_CTX1"
          ],
          [
           6,
           216,
           "DSB GFAP 6_40X_CTX2"
          ],
          [
           6,
           217,
           "DSB GFAP 6_40X_CTX3"
          ],
          [
           6,
           218,
           "DSB GFAP 6_40X_DG"
          ],
          [
           7,
           219,
           "DSB GFAP 7_40X_DG"
          ],
          [
           8,
           220,
           "DSB GFAP 8_40X_CA1"
          ],
          [
           8,
           221,
           "DSB GFAP 8_40X_CA3"
          ],
          [
           8,
           222,
           "DSB GFAP 8_40X_CTX1"
          ],
          [
           8,
           223,
           "DSB GFAP 8_40X_CTX2"
          ],
          [
           8,
           224,
           "DSB GFAP 8_40X_CTX3"
          ],
          [
           8,
           225,
           "DSB GFAP 8_40X_DG"
          ],
          [
           9,
           226,
           "DSB GFAP 9_40X_CA1"
          ],
          [
           9,
           227,
           "DSB GFAP 9_40X_CA3"
          ],
          [
           9,
           228,
           "DSB GFAP 9_40X_CTX1"
          ],
          [
           9,
           229,
           "DSB GFAP 9_40X_CTX2"
          ],
          [
           9,
           230,
           "DSB GFAP 9_40X_CTX3"
          ],
          [
           9,
           231,
           "DSB GFAP 9_40X_DG"
          ]
         ],
         "hovertemplate": "tissue_location=%{x}<br>nr_+_dna_damage_glia_nuclei=%{y}<br>staining_id=%{customdata[0]}<br>index=%{customdata[1]}<br>filename=%{customdata[2]}<extra></extra>",
         "legendgroup": "",
         "marker": {
          "color": "#636efa",
          "symbol": "circle"
         },
         "mode": "markers",
         "name": "",
         "orientation": "v",
         "showlegend": false,
         "type": "scatter",
         "x": [
          "CA1",
          "CA3",
          "CTX1",
          "CTX2",
          "CTX3",
          "DG",
          "CA1",
          "CA3",
          "CTX1",
          "CTX2",
          "CTX3",
          "DG",
          "CA1",
          "CA3",
          "CTX1",
          "CTX2",
          "CTX3",
          "DG",
          "CA1",
          "CA3",
          "CTX1",
          "CTX2",
          "CTX3",
          "DG",
          "CA1",
          "CA3",
          "CTX1",
          "CTX2",
          "CTX3",
          "DG",
          "CA1",
          "CA3",
          "CTX1",
          "CTX2",
          "CTX3",
          "DG",
          "CA1",
          "CA3",
          "CTX1",
          "CTX2",
          "CTX3",
          "DG",
          "CA1",
          "CA3",
          "CTX1",
          "CTX2",
          "CTX3",
          "DG",
          "CA1",
          "CA3",
          "CTX1",
          "CTX2",
          "CTX3",
          "DG",
          "CA1",
          "CA3",
          "CTX1",
          "CTX2",
          "CTX3",
          "DG",
          "CA1",
          "CA3",
          "CTX1",
          "CTX2",
          "CTX3",
          "DG",
          "CA1",
          "CA3",
          "CTX1",
          "CTX2",
          "CTX3",
          "DG",
          "CA1",
          "CA3",
          "CTX1",
          "CTX2",
          "CTX3",
          "DG",
          "CA1",
          "CA3",
          "CTX1",
          "CTX2",
          "CTX3",
          "DG",
          "CA1",
          "CA3",
          "CTX1",
          "CTX2",
          "CTX3",
          "DG",
          "CA1",
          "CA3",
          "CTX1",
          "CTX2",
          "CTX3",
          "DG",
          "CA1",
          "CA3",
          "CTX1",
          "CTX2",
          "CTX3",
          "DG",
          "CA1",
          "CA3",
          "CTX1",
          "CTX2",
          "CTX3",
          "DG",
          "CA1",
          "CA3",
          "CTX1",
          "CTX2",
          "CTX3",
          "DG",
          "DG",
          "CA1",
          "CA3",
          "CTX1",
          "CTX2",
          "CTX3",
          "DG",
          "CA1",
          "CA3",
          "CTX1",
          "CTX2",
          "CTX3",
          "DG",
          "CA1",
          "CA3",
          "CTX1",
          "CTX2",
          "CTX3",
          "DG",
          "CA1",
          "CA3",
          "CTX1",
          "CTX2",
          "CTX3",
          "DG",
          "CA1",
          "CA3",
          "CTX1",
          "DG",
          "CA1",
          "CA3",
          "CTX1",
          "CTX2",
          "CTX3",
          "DG",
          "CA1",
          "CA3",
          "CTX1",
          "CTX2",
          "CTX3",
          "DG",
          "DG",
          "CA1",
          "CA3",
          "CTX1",
          "CTX2",
          "CTX3",
          "DG",
          "CA1",
          "CA3",
          "CTX1",
          "CTX2",
          "CTX3",
          "DG",
          "CA1",
          "CA3",
          "CTX1",
          "CTX2",
          "CTX3",
          "DG",
          "CA1",
          "CA3",
          "CTX1",
          "CTX2",
          "CTX3",
          "DG",
          "CA1",
          "CA3",
          "CTX1",
          "CTX2",
          "CTX3",
          "DG",
          "CA1",
          "CA3",
          "CTX1",
          "CTX2",
          "CTX3",
          "DG",
          "CA1",
          "CA3",
          "CTX1",
          "CTX2",
          "CTX3",
          "DG",
          "CA1",
          "CA3",
          "DG",
          "CA1",
          "CA3",
          "CTX1",
          "CTX2",
          "CTX3",
          "DG",
          "CA1",
          "CA3",
          "CTX1",
          "CTX2",
          "CTX3",
          "DG",
          "CA1",
          "CA3",
          "CTX1",
          "CTX2",
          "CTX3",
          "DG",
          "DG",
          "CA1",
          "CA3",
          "CTX1",
          "CTX2",
          "CTX3",
          "DG",
          "CA1",
          "CA3",
          "CTX1",
          "CTX2",
          "CTX3",
          "DG"
         ],
         "xaxis": "x",
         "y": [
          3,
          0,
          3,
          7,
          4,
          12,
          4,
          4,
          3,
          5,
          4,
          8,
          1,
          7,
          3,
          9,
          1,
          6,
          1,
          4,
          3,
          2,
          2,
          5,
          4,
          5,
          1,
          9,
          3,
          11,
          1,
          6,
          2,
          6,
          4,
          9,
          3,
          2,
          3,
          8,
          3,
          9,
          3,
          0,
          5,
          6,
          2,
          5,
          0,
          1,
          0,
          1,
          1,
          2,
          6,
          5,
          3,
          3,
          4,
          4,
          6,
          2,
          3,
          1,
          1,
          15,
          0,
          1,
          0,
          0,
          0,
          4,
          8,
          4,
          5,
          7,
          1,
          15,
          7,
          5,
          1,
          5,
          6,
          2,
          0,
          0,
          1,
          2,
          0,
          3,
          5,
          2,
          0,
          8,
          7,
          10,
          0,
          1,
          0,
          5,
          4,
          1,
          1,
          0,
          0,
          0,
          0,
          0,
          1,
          1,
          1,
          2,
          0,
          0,
          7,
          1,
          5,
          8,
          3,
          2,
          13,
          2,
          2,
          2,
          0,
          10,
          2,
          10,
          1,
          2,
          6,
          3,
          4,
          8,
          12,
          10,
          8,
          4,
          13,
          1,
          0,
          0,
          2,
          5,
          0,
          0,
          0,
          0,
          9,
          3,
          0,
          1,
          1,
          0,
          5,
          0,
          1,
          2,
          1,
          1,
          0,
          2,
          1,
          1,
          1,
          2,
          0,
          5,
          4,
          0,
          4,
          3,
          6,
          9,
          3,
          0,
          6,
          1,
          3,
          5,
          1,
          0,
          1,
          6,
          1,
          5,
          2,
          0,
          2,
          1,
          1,
          2,
          2,
          2,
          4,
          1,
          0,
          8,
          11,
          4,
          7,
          5,
          1,
          0,
          3,
          1,
          5,
          1,
          2,
          4,
          4,
          4,
          2,
          10,
          6,
          7,
          2,
          12,
          15,
          0,
          7,
          0,
          2,
          1,
          2,
          9,
          3,
          2,
          8,
          5,
          4,
          8
         ],
         "yaxis": "y"
        }
       ],
       "layout": {
        "legend": {
         "tracegroupgap": 0
        },
        "template": {
         "data": {
          "bar": [
           {
            "error_x": {
             "color": "#2a3f5f"
            },
            "error_y": {
             "color": "#2a3f5f"
            },
            "marker": {
             "line": {
              "color": "#E5ECF6",
              "width": 0.5
             },
             "pattern": {
              "fillmode": "overlay",
              "size": 10,
              "solidity": 0.2
             }
            },
            "type": "bar"
           }
          ],
          "barpolar": [
           {
            "marker": {
             "line": {
              "color": "#E5ECF6",
              "width": 0.5
             },
             "pattern": {
              "fillmode": "overlay",
              "size": 10,
              "solidity": 0.2
             }
            },
            "type": "barpolar"
           }
          ],
          "carpet": [
           {
            "aaxis": {
             "endlinecolor": "#2a3f5f",
             "gridcolor": "white",
             "linecolor": "white",
             "minorgridcolor": "white",
             "startlinecolor": "#2a3f5f"
            },
            "baxis": {
             "endlinecolor": "#2a3f5f",
             "gridcolor": "white",
             "linecolor": "white",
             "minorgridcolor": "white",
             "startlinecolor": "#2a3f5f"
            },
            "type": "carpet"
           }
          ],
          "choropleth": [
           {
            "colorbar": {
             "outlinewidth": 0,
             "ticks": ""
            },
            "type": "choropleth"
           }
          ],
          "contour": [
           {
            "colorbar": {
             "outlinewidth": 0,
             "ticks": ""
            },
            "colorscale": [
             [
              0,
              "#0d0887"
             ],
             [
              0.1111111111111111,
              "#46039f"
             ],
             [
              0.2222222222222222,
              "#7201a8"
             ],
             [
              0.3333333333333333,
              "#9c179e"
             ],
             [
              0.4444444444444444,
              "#bd3786"
             ],
             [
              0.5555555555555556,
              "#d8576b"
             ],
             [
              0.6666666666666666,
              "#ed7953"
             ],
             [
              0.7777777777777778,
              "#fb9f3a"
             ],
             [
              0.8888888888888888,
              "#fdca26"
             ],
             [
              1,
              "#f0f921"
             ]
            ],
            "type": "contour"
           }
          ],
          "contourcarpet": [
           {
            "colorbar": {
             "outlinewidth": 0,
             "ticks": ""
            },
            "type": "contourcarpet"
           }
          ],
          "heatmap": [
           {
            "colorbar": {
             "outlinewidth": 0,
             "ticks": ""
            },
            "colorscale": [
             [
              0,
              "#0d0887"
             ],
             [
              0.1111111111111111,
              "#46039f"
             ],
             [
              0.2222222222222222,
              "#7201a8"
             ],
             [
              0.3333333333333333,
              "#9c179e"
             ],
             [
              0.4444444444444444,
              "#bd3786"
             ],
             [
              0.5555555555555556,
              "#d8576b"
             ],
             [
              0.6666666666666666,
              "#ed7953"
             ],
             [
              0.7777777777777778,
              "#fb9f3a"
             ],
             [
              0.8888888888888888,
              "#fdca26"
             ],
             [
              1,
              "#f0f921"
             ]
            ],
            "type": "heatmap"
           }
          ],
          "heatmapgl": [
           {
            "colorbar": {
             "outlinewidth": 0,
             "ticks": ""
            },
            "colorscale": [
             [
              0,
              "#0d0887"
             ],
             [
              0.1111111111111111,
              "#46039f"
             ],
             [
              0.2222222222222222,
              "#7201a8"
             ],
             [
              0.3333333333333333,
              "#9c179e"
             ],
             [
              0.4444444444444444,
              "#bd3786"
             ],
             [
              0.5555555555555556,
              "#d8576b"
             ],
             [
              0.6666666666666666,
              "#ed7953"
             ],
             [
              0.7777777777777778,
              "#fb9f3a"
             ],
             [
              0.8888888888888888,
              "#fdca26"
             ],
             [
              1,
              "#f0f921"
             ]
            ],
            "type": "heatmapgl"
           }
          ],
          "histogram": [
           {
            "marker": {
             "pattern": {
              "fillmode": "overlay",
              "size": 10,
              "solidity": 0.2
             }
            },
            "type": "histogram"
           }
          ],
          "histogram2d": [
           {
            "colorbar": {
             "outlinewidth": 0,
             "ticks": ""
            },
            "colorscale": [
             [
              0,
              "#0d0887"
             ],
             [
              0.1111111111111111,
              "#46039f"
             ],
             [
              0.2222222222222222,
              "#7201a8"
             ],
             [
              0.3333333333333333,
              "#9c179e"
             ],
             [
              0.4444444444444444,
              "#bd3786"
             ],
             [
              0.5555555555555556,
              "#d8576b"
             ],
             [
              0.6666666666666666,
              "#ed7953"
             ],
             [
              0.7777777777777778,
              "#fb9f3a"
             ],
             [
              0.8888888888888888,
              "#fdca26"
             ],
             [
              1,
              "#f0f921"
             ]
            ],
            "type": "histogram2d"
           }
          ],
          "histogram2dcontour": [
           {
            "colorbar": {
             "outlinewidth": 0,
             "ticks": ""
            },
            "colorscale": [
             [
              0,
              "#0d0887"
             ],
             [
              0.1111111111111111,
              "#46039f"
             ],
             [
              0.2222222222222222,
              "#7201a8"
             ],
             [
              0.3333333333333333,
              "#9c179e"
             ],
             [
              0.4444444444444444,
              "#bd3786"
             ],
             [
              0.5555555555555556,
              "#d8576b"
             ],
             [
              0.6666666666666666,
              "#ed7953"
             ],
             [
              0.7777777777777778,
              "#fb9f3a"
             ],
             [
              0.8888888888888888,
              "#fdca26"
             ],
             [
              1,
              "#f0f921"
             ]
            ],
            "type": "histogram2dcontour"
           }
          ],
          "mesh3d": [
           {
            "colorbar": {
             "outlinewidth": 0,
             "ticks": ""
            },
            "type": "mesh3d"
           }
          ],
          "parcoords": [
           {
            "line": {
             "colorbar": {
              "outlinewidth": 0,
              "ticks": ""
             }
            },
            "type": "parcoords"
           }
          ],
          "pie": [
           {
            "automargin": true,
            "type": "pie"
           }
          ],
          "scatter": [
           {
            "fillpattern": {
             "fillmode": "overlay",
             "size": 10,
             "solidity": 0.2
            },
            "type": "scatter"
           }
          ],
          "scatter3d": [
           {
            "line": {
             "colorbar": {
              "outlinewidth": 0,
              "ticks": ""
             }
            },
            "marker": {
             "colorbar": {
              "outlinewidth": 0,
              "ticks": ""
             }
            },
            "type": "scatter3d"
           }
          ],
          "scattercarpet": [
           {
            "marker": {
             "colorbar": {
              "outlinewidth": 0,
              "ticks": ""
             }
            },
            "type": "scattercarpet"
           }
          ],
          "scattergeo": [
           {
            "marker": {
             "colorbar": {
              "outlinewidth": 0,
              "ticks": ""
             }
            },
            "type": "scattergeo"
           }
          ],
          "scattergl": [
           {
            "marker": {
             "colorbar": {
              "outlinewidth": 0,
              "ticks": ""
             }
            },
            "type": "scattergl"
           }
          ],
          "scattermapbox": [
           {
            "marker": {
             "colorbar": {
              "outlinewidth": 0,
              "ticks": ""
             }
            },
            "type": "scattermapbox"
           }
          ],
          "scatterpolar": [
           {
            "marker": {
             "colorbar": {
              "outlinewidth": 0,
              "ticks": ""
             }
            },
            "type": "scatterpolar"
           }
          ],
          "scatterpolargl": [
           {
            "marker": {
             "colorbar": {
              "outlinewidth": 0,
              "ticks": ""
             }
            },
            "type": "scatterpolargl"
           }
          ],
          "scatterternary": [
           {
            "marker": {
             "colorbar": {
              "outlinewidth": 0,
              "ticks": ""
             }
            },
            "type": "scatterternary"
           }
          ],
          "surface": [
           {
            "colorbar": {
             "outlinewidth": 0,
             "ticks": ""
            },
            "colorscale": [
             [
              0,
              "#0d0887"
             ],
             [
              0.1111111111111111,
              "#46039f"
             ],
             [
              0.2222222222222222,
              "#7201a8"
             ],
             [
              0.3333333333333333,
              "#9c179e"
             ],
             [
              0.4444444444444444,
              "#bd3786"
             ],
             [
              0.5555555555555556,
              "#d8576b"
             ],
             [
              0.6666666666666666,
              "#ed7953"
             ],
             [
              0.7777777777777778,
              "#fb9f3a"
             ],
             [
              0.8888888888888888,
              "#fdca26"
             ],
             [
              1,
              "#f0f921"
             ]
            ],
            "type": "surface"
           }
          ],
          "table": [
           {
            "cells": {
             "fill": {
              "color": "#EBF0F8"
             },
             "line": {
              "color": "white"
             }
            },
            "header": {
             "fill": {
              "color": "#C8D4E3"
             },
             "line": {
              "color": "white"
             }
            },
            "type": "table"
           }
          ]
         },
         "layout": {
          "annotationdefaults": {
           "arrowcolor": "#2a3f5f",
           "arrowhead": 0,
           "arrowwidth": 1
          },
          "autotypenumbers": "strict",
          "coloraxis": {
           "colorbar": {
            "outlinewidth": 0,
            "ticks": ""
           }
          },
          "colorscale": {
           "diverging": [
            [
             0,
             "#8e0152"
            ],
            [
             0.1,
             "#c51b7d"
            ],
            [
             0.2,
             "#de77ae"
            ],
            [
             0.3,
             "#f1b6da"
            ],
            [
             0.4,
             "#fde0ef"
            ],
            [
             0.5,
             "#f7f7f7"
            ],
            [
             0.6,
             "#e6f5d0"
            ],
            [
             0.7,
             "#b8e186"
            ],
            [
             0.8,
             "#7fbc41"
            ],
            [
             0.9,
             "#4d9221"
            ],
            [
             1,
             "#276419"
            ]
           ],
           "sequential": [
            [
             0,
             "#0d0887"
            ],
            [
             0.1111111111111111,
             "#46039f"
            ],
            [
             0.2222222222222222,
             "#7201a8"
            ],
            [
             0.3333333333333333,
             "#9c179e"
            ],
            [
             0.4444444444444444,
             "#bd3786"
            ],
            [
             0.5555555555555556,
             "#d8576b"
            ],
            [
             0.6666666666666666,
             "#ed7953"
            ],
            [
             0.7777777777777778,
             "#fb9f3a"
            ],
            [
             0.8888888888888888,
             "#fdca26"
            ],
            [
             1,
             "#f0f921"
            ]
           ],
           "sequentialminus": [
            [
             0,
             "#0d0887"
            ],
            [
             0.1111111111111111,
             "#46039f"
            ],
            [
             0.2222222222222222,
             "#7201a8"
            ],
            [
             0.3333333333333333,
             "#9c179e"
            ],
            [
             0.4444444444444444,
             "#bd3786"
            ],
            [
             0.5555555555555556,
             "#d8576b"
            ],
            [
             0.6666666666666666,
             "#ed7953"
            ],
            [
             0.7777777777777778,
             "#fb9f3a"
            ],
            [
             0.8888888888888888,
             "#fdca26"
            ],
            [
             1,
             "#f0f921"
            ]
           ]
          },
          "colorway": [
           "#636efa",
           "#EF553B",
           "#00cc96",
           "#ab63fa",
           "#FFA15A",
           "#19d3f3",
           "#FF6692",
           "#B6E880",
           "#FF97FF",
           "#FECB52"
          ],
          "font": {
           "color": "#2a3f5f"
          },
          "geo": {
           "bgcolor": "white",
           "lakecolor": "white",
           "landcolor": "#E5ECF6",
           "showlakes": true,
           "showland": true,
           "subunitcolor": "white"
          },
          "hoverlabel": {
           "align": "left"
          },
          "hovermode": "closest",
          "mapbox": {
           "style": "light"
          },
          "paper_bgcolor": "white",
          "plot_bgcolor": "#E5ECF6",
          "polar": {
           "angularaxis": {
            "gridcolor": "white",
            "linecolor": "white",
            "ticks": ""
           },
           "bgcolor": "#E5ECF6",
           "radialaxis": {
            "gridcolor": "white",
            "linecolor": "white",
            "ticks": ""
           }
          },
          "scene": {
           "xaxis": {
            "backgroundcolor": "#E5ECF6",
            "gridcolor": "white",
            "gridwidth": 2,
            "linecolor": "white",
            "showbackground": true,
            "ticks": "",
            "zerolinecolor": "white"
           },
           "yaxis": {
            "backgroundcolor": "#E5ECF6",
            "gridcolor": "white",
            "gridwidth": 2,
            "linecolor": "white",
            "showbackground": true,
            "ticks": "",
            "zerolinecolor": "white"
           },
           "zaxis": {
            "backgroundcolor": "#E5ECF6",
            "gridcolor": "white",
            "gridwidth": 2,
            "linecolor": "white",
            "showbackground": true,
            "ticks": "",
            "zerolinecolor": "white"
           }
          },
          "shapedefaults": {
           "line": {
            "color": "#2a3f5f"
           }
          },
          "ternary": {
           "aaxis": {
            "gridcolor": "white",
            "linecolor": "white",
            "ticks": ""
           },
           "baxis": {
            "gridcolor": "white",
            "linecolor": "white",
            "ticks": ""
           },
           "bgcolor": "#E5ECF6",
           "caxis": {
            "gridcolor": "white",
            "linecolor": "white",
            "ticks": ""
           }
          },
          "title": {
           "x": 0.05
          },
          "xaxis": {
           "automargin": true,
           "gridcolor": "white",
           "linecolor": "white",
           "ticks": "",
           "title": {
            "standoff": 15
           },
           "zerolinecolor": "white",
           "zerolinewidth": 2
          },
          "yaxis": {
           "automargin": true,
           "gridcolor": "white",
           "linecolor": "white",
           "ticks": "",
           "title": {
            "standoff": 15
           },
           "zerolinecolor": "white",
           "zerolinewidth": 2
          }
         }
        },
        "title": {
         "text": "Number of DNA damage+ Astrocyte+ Nuclei by Tissue Location - cellpdia30_sigma1_dilrad4_dnad_obj_seg_v3_gliaero6_gliathr30_dnadero2"
        },
        "xaxis": {
         "anchor": "y",
         "domain": [
          0,
          1
         ],
         "title": {
          "text": "tissue_location"
         }
        },
        "yaxis": {
         "anchor": "x",
         "domain": [
          0,
          1
         ],
         "title": {
          "text": "nr_+_dna_damage_glia_nuclei"
         }
        }
       }
      }
     },
     "metadata": {},
     "output_type": "display_data"
    },
    {
     "data": {
      "application/vnd.plotly.v1+json": {
       "config": {
        "plotlyServerURL": "https://plot.ly"
       },
       "data": [
        {
         "customdata": [
          [
           101,
           0,
           "DSB GFAP 101_40X_CA1"
          ],
          [
           101,
           1,
           "DSB GFAP 101_40X_CA3"
          ],
          [
           101,
           2,
           "DSB GFAP 101_40X_CTX1"
          ],
          [
           101,
           3,
           "DSB GFAP 101_40X_CTX2"
          ],
          [
           101,
           4,
           "DSB GFAP 101_40X_CTX3"
          ],
          [
           101,
           5,
           "DSB GFAP 101_40X_DG"
          ],
          [
           102,
           6,
           "DSB GFAP 102_40X_CA1"
          ],
          [
           102,
           7,
           "DSB GFAP 102_40X_CA3"
          ],
          [
           102,
           8,
           "DSB GFAP 102_40X_CTX1"
          ],
          [
           102,
           9,
           "DSB GFAP 102_40X_CTX2"
          ],
          [
           102,
           10,
           "DSB GFAP 102_40X_CTX3"
          ],
          [
           102,
           11,
           "DSB GFAP 102_40X_DG"
          ],
          [
           103,
           12,
           "DSB GFAP 103_40X_CA1"
          ],
          [
           103,
           13,
           "DSB GFAP 103_40X_CA3"
          ],
          [
           103,
           14,
           "DSB GFAP 103_40X_CTX1"
          ],
          [
           103,
           15,
           "DSB GFAP 103_40X_CTX2"
          ],
          [
           103,
           16,
           "DSB GFAP 103_40X_CTX3"
          ],
          [
           103,
           17,
           "DSB GFAP 103_40X_DG"
          ],
          [
           104,
           18,
           "DSB GFAP 104_40X_CA1"
          ],
          [
           104,
           19,
           "DSB GFAP 104_40X_CA3"
          ],
          [
           104,
           20,
           "DSB GFAP 104_40X_CTX1"
          ],
          [
           104,
           21,
           "DSB GFAP 104_40X_CTX2"
          ],
          [
           104,
           22,
           "DSB GFAP 104_40X_CTX3"
          ],
          [
           104,
           23,
           "DSB GFAP 104_40X_DG"
          ],
          [
           105,
           24,
           "DSB GFAP 105_40X_CA1"
          ],
          [
           105,
           25,
           "DSB GFAP 105_40X_CA3"
          ],
          [
           105,
           26,
           "DSB GFAP 105_40X_CTX1"
          ],
          [
           105,
           27,
           "DSB GFAP 105_40X_CTX2"
          ],
          [
           105,
           28,
           "DSB GFAP 105_40X_CTX3"
          ],
          [
           105,
           29,
           "DSB GFAP 105_40X_DG"
          ],
          [
           106,
           30,
           "DSB GFAP 106_40X_CA1"
          ],
          [
           106,
           31,
           "DSB GFAP 106_40X_CA3"
          ],
          [
           106,
           32,
           "DSB GFAP 106_40X_CTX1"
          ],
          [
           106,
           33,
           "DSB GFAP 106_40X_CTX2"
          ],
          [
           106,
           34,
           "DSB GFAP 106_40X_CTX3"
          ],
          [
           106,
           35,
           "DSB GFAP 106_40X_DG"
          ],
          [
           107,
           36,
           "DSB GFAP 107_40X_CA1"
          ],
          [
           107,
           37,
           "DSB GFAP 107_40X_CA3"
          ],
          [
           107,
           38,
           "DSB GFAP 107_40X_CTX1"
          ],
          [
           107,
           39,
           "DSB GFAP 107_40X_CTX2"
          ],
          [
           107,
           40,
           "DSB GFAP 107_40X_CTX3"
          ],
          [
           107,
           41,
           "DSB GFAP 107_40X_DG"
          ],
          [
           108,
           42,
           "DSB GFAP 108_40X_CA1"
          ],
          [
           108,
           43,
           "DSB GFAP 108_40X_CA3"
          ],
          [
           108,
           44,
           "DSB GFAP 108_40X_CTX1"
          ],
          [
           108,
           45,
           "DSB GFAP 108_40X_CTX2"
          ],
          [
           108,
           46,
           "DSB GFAP 108_40X_CTX3"
          ],
          [
           108,
           47,
           "DSB GFAP 108_40X_DG"
          ],
          [
           10,
           48,
           "DSB GFAP 10_40X_CA1"
          ],
          [
           10,
           49,
           "DSB GFAP 10_40X_CA3"
          ],
          [
           10,
           50,
           "DSB GFAP 10_40X_CTX1"
          ],
          [
           10,
           51,
           "DSB GFAP 10_40X_CTX2"
          ],
          [
           10,
           52,
           "DSB GFAP 10_40X_CTX3"
          ],
          [
           10,
           53,
           "DSB GFAP 10_40X_DG"
          ],
          [
           11,
           54,
           "DSB GFAP 11_40X_CA1"
          ],
          [
           11,
           55,
           "DSB GFAP 11_40X_CA3"
          ],
          [
           11,
           56,
           "DSB GFAP 11_40X_CTX1"
          ],
          [
           11,
           57,
           "DSB GFAP 11_40X_CTX2"
          ],
          [
           11,
           58,
           "DSB GFAP 11_40X_CTX3"
          ],
          [
           11,
           59,
           "DSB GFAP 11_40X_DG"
          ],
          [
           12,
           60,
           "DSB GFAP 12_40X_CA1"
          ],
          [
           12,
           61,
           "DSB GFAP 12_40X_CA3"
          ],
          [
           12,
           62,
           "DSB GFAP 12_40X_CTX1"
          ],
          [
           12,
           63,
           "DSB GFAP 12_40X_CTX2"
          ],
          [
           12,
           64,
           "DSB GFAP 12_40X_CTX3"
          ],
          [
           12,
           65,
           "DSB GFAP 12_40X_DG"
          ],
          [
           13,
           66,
           "DSB GFAP 13_40X_CA1"
          ],
          [
           13,
           67,
           "DSB GFAP 13_40X_CA3"
          ],
          [
           13,
           68,
           "DSB GFAP 13_40X_CTX1"
          ],
          [
           13,
           69,
           "DSB GFAP 13_40X_CTX2"
          ],
          [
           13,
           70,
           "DSB GFAP 13_40X_CTX3"
          ],
          [
           13,
           71,
           "DSB GFAP 13_40X_DG"
          ],
          [
           14,
           72,
           "DSB GFAP 14_40X_CA1"
          ],
          [
           14,
           73,
           "DSB GFAP 14_40X_CA3"
          ],
          [
           14,
           74,
           "DSB GFAP 14_40X_CTX1"
          ],
          [
           14,
           75,
           "DSB GFAP 14_40X_CTX2"
          ],
          [
           14,
           76,
           "DSB GFAP 14_40X_CTX3"
          ],
          [
           14,
           77,
           "DSB GFAP 14_40X_DG"
          ],
          [
           15,
           78,
           "DSB GFAP 15_40X_CA1"
          ],
          [
           15,
           79,
           "DSB GFAP 15_40X_CA3"
          ],
          [
           15,
           80,
           "DSB GFAP 15_40X_CTX1"
          ],
          [
           15,
           81,
           "DSB GFAP 15_40X_CTX2"
          ],
          [
           15,
           82,
           "DSB GFAP 15_40X_CTX3"
          ],
          [
           15,
           83,
           "DSB GFAP 15_40X_DG"
          ],
          [
           16,
           84,
           "DSB GFAP 16_40X_CA1"
          ],
          [
           16,
           85,
           "DSB GFAP 16_40X_CA3"
          ],
          [
           16,
           86,
           "DSB GFAP 16_40X_CTX1"
          ],
          [
           16,
           87,
           "DSB GFAP 16_40X_CTX2"
          ],
          [
           16,
           88,
           "DSB GFAP 16_40X_CTX3"
          ],
          [
           16,
           89,
           "DSB GFAP 16_40X_DG"
          ],
          [
           18,
           90,
           "DSB GFAP 18_40X_CA1"
          ],
          [
           18,
           91,
           "DSB GFAP 18_40X_CA3"
          ],
          [
           18,
           92,
           "DSB GFAP 18_40X_CTX1"
          ],
          [
           18,
           93,
           "DSB GFAP 18_40X_CTX2"
          ],
          [
           18,
           94,
           "DSB GFAP 18_40X_CTX3"
          ],
          [
           18,
           95,
           "DSB GFAP 18_40X_DG"
          ],
          [
           20,
           96,
           "DSB GFAP 20_40X_CA1"
          ],
          [
           20,
           97,
           "DSB GFAP 20_40X_CA3"
          ],
          [
           20,
           98,
           "DSB GFAP 20_40X_CTX1"
          ],
          [
           20,
           99,
           "DSB GFAP 20_40X_CTX2"
          ],
          [
           20,
           100,
           "DSB GFAP 20_40X_CTX3"
          ],
          [
           20,
           101,
           "DSB GFAP 20_40X_DG"
          ],
          [
           21,
           102,
           "DSB GFAP 21_40X_CA1"
          ],
          [
           21,
           103,
           "DSB GFAP 21_40X_CA3"
          ],
          [
           21,
           104,
           "DSB GFAP 21_40X_CTX1"
          ],
          [
           21,
           105,
           "DSB GFAP 21_40X_CTX2"
          ],
          [
           21,
           106,
           "DSB GFAP 21_40X_CTX3"
          ],
          [
           21,
           107,
           "DSB GFAP 21_40X_DG"
          ],
          [
           22,
           108,
           "DSB GFAP 22_40X_CA1"
          ],
          [
           22,
           109,
           "DSB GFAP 22_40X_CA3"
          ],
          [
           22,
           110,
           "DSB GFAP 22_40X_CTX1"
          ],
          [
           22,
           111,
           "DSB GFAP 22_40X_CTX2"
          ],
          [
           22,
           112,
           "DSB GFAP 22_40X_CTX3"
          ],
          [
           22,
           113,
           "DSB GFAP 22_40X_DG"
          ],
          [
           23,
           114,
           "DSB GFAP 23_40X_DG"
          ],
          [
           24,
           115,
           "DSB GFAP 24_40X_CA1"
          ],
          [
           24,
           116,
           "DSB GFAP 24_40X_CA3"
          ],
          [
           24,
           117,
           "DSB GFAP 24_40X_CTX1"
          ],
          [
           24,
           118,
           "DSB GFAP 24_40X_CTX2"
          ],
          [
           24,
           119,
           "DSB GFAP 24_40X_CTX3"
          ],
          [
           24,
           120,
           "DSB GFAP 24_40X_DG"
          ],
          [
           25,
           121,
           "DSB GFAP 25_40X_CA1"
          ],
          [
           25,
           122,
           "DSB GFAP 25_40X_CA3"
          ],
          [
           25,
           123,
           "DSB GFAP 25_40X_CTX1"
          ],
          [
           25,
           124,
           "DSB GFAP 25_40X_CTX2"
          ],
          [
           25,
           125,
           "DSB GFAP 25_40X_CTX3"
          ],
          [
           25,
           126,
           "DSB GFAP 25_40X_DG"
          ],
          [
           26,
           127,
           "DSB GFAP 26_40X_CA1"
          ],
          [
           26,
           128,
           "DSB GFAP 26_40X_CA3"
          ],
          [
           26,
           129,
           "DSB GFAP 26_40X_CTX1"
          ],
          [
           26,
           130,
           "DSB GFAP 26_40X_CTX2"
          ],
          [
           26,
           131,
           "DSB GFAP 26_40X_CTX3"
          ],
          [
           26,
           132,
           "DSB GFAP 26_40X_DG"
          ],
          [
           27,
           133,
           "DSB GFAP 27_40X_CA1"
          ],
          [
           27,
           134,
           "DSB GFAP 27_40X_CA3"
          ],
          [
           27,
           135,
           "DSB GFAP 27_40X_CTX1"
          ],
          [
           27,
           136,
           "DSB GFAP 27_40X_CTX2"
          ],
          [
           27,
           137,
           "DSB GFAP 27_40X_CTX3"
          ],
          [
           27,
           138,
           "DSB GFAP 27_40X_DG"
          ],
          [
           28,
           139,
           "DSB GFAP 28_40X_CA1"
          ],
          [
           28,
           140,
           "DSB GFAP 28_40X_CA3"
          ],
          [
           28,
           141,
           "DSB GFAP 28_40X_CTX1"
          ],
          [
           28,
           142,
           "DSB GFAP 28_40X_DG"
          ],
          [
           29,
           143,
           "DSB GFAP 29_40X_CA1"
          ],
          [
           29,
           144,
           "DSB GFAP 29_40X_CA3"
          ],
          [
           29,
           145,
           "DSB GFAP 29_40X_CTX1"
          ],
          [
           29,
           146,
           "DSB GFAP 29_40X_CTX2"
          ],
          [
           29,
           147,
           "DSB GFAP 29_40X_CTX3"
          ],
          [
           29,
           148,
           "DSB GFAP 29_40X_DG"
          ],
          [
           30,
           149,
           "DSB GFAP 30_40X_CA1"
          ],
          [
           30,
           150,
           "DSB GFAP 30_40X_CA3"
          ],
          [
           30,
           151,
           "DSB GFAP 30_40X_CTX1"
          ],
          [
           30,
           152,
           "DSB GFAP 30_40X_CTX2"
          ],
          [
           30,
           153,
           "DSB GFAP 30_40X_CTX3"
          ],
          [
           30,
           154,
           "DSB GFAP 30_40X_DG"
          ],
          [
           31,
           155,
           "DSB GFAP 31_40X_DG"
          ],
          [
           32,
           156,
           "DSB GFAP 32_40X_CA1"
          ],
          [
           32,
           157,
           "DSB GFAP 32_40X_CA3"
          ],
          [
           32,
           158,
           "DSB GFAP 32_40X_CTX1"
          ],
          [
           32,
           159,
           "DSB GFAP 32_40X_CTX2"
          ],
          [
           32,
           160,
           "DSB GFAP 32_40X_CTX3"
          ],
          [
           32,
           161,
           "DSB GFAP 32_40X_DG"
          ],
          [
           34,
           162,
           "DSB GFAP 34_40X_CA1"
          ],
          [
           34,
           163,
           "DSB GFAP 34_40X_CA3"
          ],
          [
           34,
           164,
           "DSB GFAP 34_40X_CTX1"
          ],
          [
           34,
           165,
           "DSB GFAP 34_40X_CTX2"
          ],
          [
           34,
           166,
           "DSB GFAP 34_40X_CTX3"
          ],
          [
           34,
           167,
           "DSB GFAP 34_40X_DG"
          ],
          [
           35,
           168,
           "DSB GFAP 35_40X_CA1"
          ],
          [
           35,
           169,
           "DSB GFAP 35_40X_CA3"
          ],
          [
           35,
           170,
           "DSB GFAP 35_40X_CTX1"
          ],
          [
           35,
           171,
           "DSB GFAP 35_40X_CTX2"
          ],
          [
           35,
           172,
           "DSB GFAP 35_40X_CTX3"
          ],
          [
           35,
           173,
           "DSB GFAP 35_40X_DG"
          ],
          [
           36,
           174,
           "DSB GFAP 36_40X_CA1"
          ],
          [
           36,
           175,
           "DSB GFAP 36_40X_CA3"
          ],
          [
           36,
           176,
           "DSB GFAP 36_40X_CTX1"
          ],
          [
           36,
           177,
           "DSB GFAP 36_40X_CTX2"
          ],
          [
           36,
           178,
           "DSB GFAP 36_40X_CTX3"
          ],
          [
           36,
           179,
           "DSB GFAP 36_40X_DG"
          ],
          [
           37,
           180,
           "DSB GFAP 37_40X_CA1"
          ],
          [
           37,
           181,
           "DSB GFAP 37_40X_CA3"
          ],
          [
           37,
           182,
           "DSB GFAP 37_40X_CTX1"
          ],
          [
           37,
           183,
           "DSB GFAP 37_40X_CTX2"
          ],
          [
           37,
           184,
           "DSB GFAP 37_40X_CTX3"
          ],
          [
           37,
           185,
           "DSB GFAP 37_40X_DG"
          ],
          [
           38,
           186,
           "DSB GFAP 38_40X_CA1"
          ],
          [
           38,
           187,
           "DSB GFAP 38_40X_CA3"
          ],
          [
           38,
           188,
           "DSB GFAP 38_40X_CTX1"
          ],
          [
           38,
           189,
           "DSB GFAP 38_40X_CTX2"
          ],
          [
           38,
           190,
           "DSB GFAP 38_40X_CTX3"
          ],
          [
           38,
           191,
           "DSB GFAP 38_40X_DG"
          ],
          [
           39,
           192,
           "DSB GFAP 39_40X_CA1"
          ],
          [
           39,
           193,
           "DSB GFAP 39_40X_CA3"
          ],
          [
           39,
           194,
           "DSB GFAP 39_40X_CTX1"
          ],
          [
           39,
           195,
           "DSB GFAP 39_40X_CTX2"
          ],
          [
           39,
           196,
           "DSB GFAP 39_40X_CTX3"
          ],
          [
           39,
           197,
           "DSB GFAP 39_40X_DG"
          ],
          [
           40,
           198,
           "DSB GFAP 40_40X_CA1"
          ],
          [
           40,
           199,
           "DSB GFAP 40_40X_CA3"
          ],
          [
           40,
           200,
           "DSB GFAP 40_40X_DG"
          ],
          [
           41,
           201,
           "DSB GFAP 41_40X_CA1"
          ],
          [
           41,
           202,
           "DSB GFAP 41_40X_CA3"
          ],
          [
           41,
           203,
           "DSB GFAP 41_40X_CTX1"
          ],
          [
           41,
           204,
           "DSB GFAP 41_40X_CTX2"
          ],
          [
           41,
           205,
           "DSB GFAP 41_40X_CTX3"
          ],
          [
           41,
           206,
           "DSB GFAP 41_40X_DG"
          ],
          [
           43,
           207,
           "DSB GFAP 43_40X_CA1"
          ],
          [
           43,
           208,
           "DSB GFAP 43_40X_CA3"
          ],
          [
           43,
           209,
           "DSB GFAP 43_40X_CTX1"
          ],
          [
           43,
           210,
           "DSB GFAP 43_40X_CTX2"
          ],
          [
           43,
           211,
           "DSB GFAP 43_40X_CTX3"
          ],
          [
           43,
           212,
           "DSB GFAP 43_40X_DG"
          ],
          [
           6,
           213,
           "DSB GFAP 6_40X_CA1"
          ],
          [
           6,
           214,
           "DSB GFAP 6_40X_CA3"
          ],
          [
           6,
           215,
           "DSB GFAP 6_40X_CTX1"
          ],
          [
           6,
           216,
           "DSB GFAP 6_40X_CTX2"
          ],
          [
           6,
           217,
           "DSB GFAP 6_40X_CTX3"
          ],
          [
           6,
           218,
           "DSB GFAP 6_40X_DG"
          ],
          [
           7,
           219,
           "DSB GFAP 7_40X_DG"
          ],
          [
           8,
           220,
           "DSB GFAP 8_40X_CA1"
          ],
          [
           8,
           221,
           "DSB GFAP 8_40X_CA3"
          ],
          [
           8,
           222,
           "DSB GFAP 8_40X_CTX1"
          ],
          [
           8,
           223,
           "DSB GFAP 8_40X_CTX2"
          ],
          [
           8,
           224,
           "DSB GFAP 8_40X_CTX3"
          ],
          [
           8,
           225,
           "DSB GFAP 8_40X_DG"
          ],
          [
           9,
           226,
           "DSB GFAP 9_40X_CA1"
          ],
          [
           9,
           227,
           "DSB GFAP 9_40X_CA3"
          ],
          [
           9,
           228,
           "DSB GFAP 9_40X_CTX1"
          ],
          [
           9,
           229,
           "DSB GFAP 9_40X_CTX2"
          ],
          [
           9,
           230,
           "DSB GFAP 9_40X_CTX3"
          ],
          [
           9,
           231,
           "DSB GFAP 9_40X_DG"
          ]
         ],
         "hovertemplate": "tissue_location=%{x}<br>avg_dna_damage_foci/glia_+=%{y}<br>staining_id=%{customdata[0]}<br>index=%{customdata[1]}<br>filename=%{customdata[2]}<extra></extra>",
         "legendgroup": "",
         "marker": {
          "color": "#636efa",
          "symbol": "circle"
         },
         "mode": "markers",
         "name": "",
         "orientation": "v",
         "showlegend": false,
         "type": "scatter",
         "x": [
          "CA1",
          "CA3",
          "CTX1",
          "CTX2",
          "CTX3",
          "DG",
          "CA1",
          "CA3",
          "CTX1",
          "CTX2",
          "CTX3",
          "DG",
          "CA1",
          "CA3",
          "CTX1",
          "CTX2",
          "CTX3",
          "DG",
          "CA1",
          "CA3",
          "CTX1",
          "CTX2",
          "CTX3",
          "DG",
          "CA1",
          "CA3",
          "CTX1",
          "CTX2",
          "CTX3",
          "DG",
          "CA1",
          "CA3",
          "CTX1",
          "CTX2",
          "CTX3",
          "DG",
          "CA1",
          "CA3",
          "CTX1",
          "CTX2",
          "CTX3",
          "DG",
          "CA1",
          "CA3",
          "CTX1",
          "CTX2",
          "CTX3",
          "DG",
          "CA1",
          "CA3",
          "CTX1",
          "CTX2",
          "CTX3",
          "DG",
          "CA1",
          "CA3",
          "CTX1",
          "CTX2",
          "CTX3",
          "DG",
          "CA1",
          "CA3",
          "CTX1",
          "CTX2",
          "CTX3",
          "DG",
          "CA1",
          "CA3",
          "CTX1",
          "CTX2",
          "CTX3",
          "DG",
          "CA1",
          "CA3",
          "CTX1",
          "CTX2",
          "CTX3",
          "DG",
          "CA1",
          "CA3",
          "CTX1",
          "CTX2",
          "CTX3",
          "DG",
          "CA1",
          "CA3",
          "CTX1",
          "CTX2",
          "CTX3",
          "DG",
          "CA1",
          "CA3",
          "CTX1",
          "CTX2",
          "CTX3",
          "DG",
          "CA1",
          "CA3",
          "CTX1",
          "CTX2",
          "CTX3",
          "DG",
          "CA1",
          "CA3",
          "CTX1",
          "CTX2",
          "CTX3",
          "DG",
          "CA1",
          "CA3",
          "CTX1",
          "CTX2",
          "CTX3",
          "DG",
          "DG",
          "CA1",
          "CA3",
          "CTX1",
          "CTX2",
          "CTX3",
          "DG",
          "CA1",
          "CA3",
          "CTX1",
          "CTX2",
          "CTX3",
          "DG",
          "CA1",
          "CA3",
          "CTX1",
          "CTX2",
          "CTX3",
          "DG",
          "CA1",
          "CA3",
          "CTX1",
          "CTX2",
          "CTX3",
          "DG",
          "CA1",
          "CA3",
          "CTX1",
          "DG",
          "CA1",
          "CA3",
          "CTX1",
          "CTX2",
          "CTX3",
          "DG",
          "CA1",
          "CA3",
          "CTX1",
          "CTX2",
          "CTX3",
          "DG",
          "DG",
          "CA1",
          "CA3",
          "CTX1",
          "CTX2",
          "CTX3",
          "DG",
          "CA1",
          "CA3",
          "CTX1",
          "CTX2",
          "CTX3",
          "DG",
          "CA1",
          "CA3",
          "CTX1",
          "CTX2",
          "CTX3",
          "DG",
          "CA1",
          "CA3",
          "CTX1",
          "CTX2",
          "CTX3",
          "DG",
          "CA1",
          "CA3",
          "CTX1",
          "CTX2",
          "CTX3",
          "DG",
          "CA1",
          "CA3",
          "CTX1",
          "CTX2",
          "CTX3",
          "DG",
          "CA1",
          "CA3",
          "CTX1",
          "CTX2",
          "CTX3",
          "DG",
          "CA1",
          "CA3",
          "DG",
          "CA1",
          "CA3",
          "CTX1",
          "CTX2",
          "CTX3",
          "DG",
          "CA1",
          "CA3",
          "CTX1",
          "CTX2",
          "CTX3",
          "DG",
          "CA1",
          "CA3",
          "CTX1",
          "CTX2",
          "CTX3",
          "DG",
          "DG",
          "CA1",
          "CA3",
          "CTX1",
          "CTX2",
          "CTX3",
          "DG",
          "CA1",
          "CA3",
          "CTX1",
          "CTX2",
          "CTX3",
          "DG"
         ],
         "xaxis": "x",
         "y": [
          0.1875,
          0,
          0.1875,
          0.3888888888888889,
          0.4444444444444444,
          1,
          0.3846153846153846,
          0.3846153846153846,
          0.25,
          0.4375,
          0.2,
          0.9230769230769232,
          0.1,
          0.7692307692307693,
          0.8333333333333334,
          0.9333333333333332,
          0.3333333333333333,
          0.5,
          0.1111111111111111,
          0.25,
          0.2307692307692307,
          0.1428571428571428,
          0.6666666666666666,
          0.7,
          0.2,
          0.5,
          0.5,
          0.8235294117647058,
          0.375,
          0.9444444444444444,
          0.3333333333333333,
          0.3157894736842105,
          0.3333333333333333,
          0.55,
          0.3636363636363636,
          0.9333333333333332,
          0.3333333333333333,
          0.3,
          0.4,
          0.9090909090909092,
          0.3076923076923077,
          0.5714285714285714,
          0.3,
          0,
          0.3571428571428571,
          0.6666666666666666,
          0.1538461538461538,
          0.9,
          null,
          0.2857142857142857,
          null,
          0.3333333333333333,
          0.25,
          0.3333333333333333,
          1,
          1.25,
          0.4285714285714285,
          0.5,
          1,
          0.8333333333333334,
          1.2857142857142858,
          1,
          1.25,
          1,
          1,
          0.9545454545454546,
          0,
          0.3333333333333333,
          0,
          0,
          0,
          0.2777777777777778,
          0.8,
          1.2,
          0.75,
          0.5384615384615384,
          0.2,
          1.1304347826086956,
          0.7,
          0.625,
          0.3333333333333333,
          0.5,
          1.4285714285714286,
          1,
          0,
          0,
          0.2,
          0.375,
          null,
          0.5,
          0.5555555555555556,
          0.2222222222222222,
          0,
          0.6923076923076923,
          0.625,
          0.6363636363636364,
          0,
          0.1,
          0,
          0.5,
          0.3333333333333333,
          0.2857142857142857,
          1,
          0,
          0,
          0,
          0,
          0,
          0.3333333333333333,
          2,
          0.6666666666666666,
          0.6666666666666666,
          null,
          0,
          0.4705882352941176,
          1,
          0.5555555555555556,
          1.4545454545454546,
          0.3636363636363636,
          0.375,
          0.8636363636363636,
          1,
          1.5,
          1,
          0,
          0.75,
          1,
          0.7619047619047619,
          0.25,
          0.5,
          1.1428571428571428,
          0.6,
          0.5,
          1.3,
          1,
          0.9411764705882352,
          0.9166666666666666,
          0.8,
          1.7333333333333334,
          0.1666666666666666,
          0,
          null,
          0.2,
          0.5,
          0,
          0,
          0,
          0,
          1.1666666666666667,
          0.4285714285714285,
          0,
          0.25,
          1,
          null,
          0.7272727272727273,
          null,
          0.25,
          0.2857142857142857,
          0.25,
          1.5,
          0,
          0.4,
          0.1666666666666666,
          0.0769230769230769,
          0.2,
          0.2857142857142857,
          0,
          0.4166666666666667,
          0.75,
          0,
          0.8333333333333334,
          0.375,
          1.1111111111111112,
          0.5789473684210527,
          0.6,
          0,
          0.9090909090909092,
          0.3333333333333333,
          0.5555555555555556,
          1.1428571428571428,
          0.25,
          0,
          0.5,
          2,
          0.5,
          1.8571428571428568,
          1,
          null,
          0.5,
          0.6666666666666666,
          1,
          0.75,
          0.6666666666666666,
          0.8,
          1.5,
          0.5,
          0,
          0.875,
          0.7619047619047619,
          0.5555555555555556,
          0.5555555555555556,
          1.5,
          0.5,
          0,
          0.375,
          0.2,
          0.5555555555555556,
          0.0909090909090909,
          0.2857142857142857,
          1.6,
          0.6,
          1.2,
          0.3333333333333333,
          0.4444444444444444,
          0.5454545454545454,
          0.5238095238095238,
          0.375,
          0.6956521739130435,
          1,
          0,
          0.5333333333333333,
          0,
          0.2142857142857142,
          0.25,
          0.4444444444444444,
          0.7058823529411765,
          0.15,
          0.1,
          0.6842105263157895,
          0.4375,
          0.3333333333333333,
          0.3333333333333333
         ],
         "yaxis": "y"
        }
       ],
       "layout": {
        "legend": {
         "tracegroupgap": 0
        },
        "template": {
         "data": {
          "bar": [
           {
            "error_x": {
             "color": "#2a3f5f"
            },
            "error_y": {
             "color": "#2a3f5f"
            },
            "marker": {
             "line": {
              "color": "#E5ECF6",
              "width": 0.5
             },
             "pattern": {
              "fillmode": "overlay",
              "size": 10,
              "solidity": 0.2
             }
            },
            "type": "bar"
           }
          ],
          "barpolar": [
           {
            "marker": {
             "line": {
              "color": "#E5ECF6",
              "width": 0.5
             },
             "pattern": {
              "fillmode": "overlay",
              "size": 10,
              "solidity": 0.2
             }
            },
            "type": "barpolar"
           }
          ],
          "carpet": [
           {
            "aaxis": {
             "endlinecolor": "#2a3f5f",
             "gridcolor": "white",
             "linecolor": "white",
             "minorgridcolor": "white",
             "startlinecolor": "#2a3f5f"
            },
            "baxis": {
             "endlinecolor": "#2a3f5f",
             "gridcolor": "white",
             "linecolor": "white",
             "minorgridcolor": "white",
             "startlinecolor": "#2a3f5f"
            },
            "type": "carpet"
           }
          ],
          "choropleth": [
           {
            "colorbar": {
             "outlinewidth": 0,
             "ticks": ""
            },
            "type": "choropleth"
           }
          ],
          "contour": [
           {
            "colorbar": {
             "outlinewidth": 0,
             "ticks": ""
            },
            "colorscale": [
             [
              0,
              "#0d0887"
             ],
             [
              0.1111111111111111,
              "#46039f"
             ],
             [
              0.2222222222222222,
              "#7201a8"
             ],
             [
              0.3333333333333333,
              "#9c179e"
             ],
             [
              0.4444444444444444,
              "#bd3786"
             ],
             [
              0.5555555555555556,
              "#d8576b"
             ],
             [
              0.6666666666666666,
              "#ed7953"
             ],
             [
              0.7777777777777778,
              "#fb9f3a"
             ],
             [
              0.8888888888888888,
              "#fdca26"
             ],
             [
              1,
              "#f0f921"
             ]
            ],
            "type": "contour"
           }
          ],
          "contourcarpet": [
           {
            "colorbar": {
             "outlinewidth": 0,
             "ticks": ""
            },
            "type": "contourcarpet"
           }
          ],
          "heatmap": [
           {
            "colorbar": {
             "outlinewidth": 0,
             "ticks": ""
            },
            "colorscale": [
             [
              0,
              "#0d0887"
             ],
             [
              0.1111111111111111,
              "#46039f"
             ],
             [
              0.2222222222222222,
              "#7201a8"
             ],
             [
              0.3333333333333333,
              "#9c179e"
             ],
             [
              0.4444444444444444,
              "#bd3786"
             ],
             [
              0.5555555555555556,
              "#d8576b"
             ],
             [
              0.6666666666666666,
              "#ed7953"
             ],
             [
              0.7777777777777778,
              "#fb9f3a"
             ],
             [
              0.8888888888888888,
              "#fdca26"
             ],
             [
              1,
              "#f0f921"
             ]
            ],
            "type": "heatmap"
           }
          ],
          "heatmapgl": [
           {
            "colorbar": {
             "outlinewidth": 0,
             "ticks": ""
            },
            "colorscale": [
             [
              0,
              "#0d0887"
             ],
             [
              0.1111111111111111,
              "#46039f"
             ],
             [
              0.2222222222222222,
              "#7201a8"
             ],
             [
              0.3333333333333333,
              "#9c179e"
             ],
             [
              0.4444444444444444,
              "#bd3786"
             ],
             [
              0.5555555555555556,
              "#d8576b"
             ],
             [
              0.6666666666666666,
              "#ed7953"
             ],
             [
              0.7777777777777778,
              "#fb9f3a"
             ],
             [
              0.8888888888888888,
              "#fdca26"
             ],
             [
              1,
              "#f0f921"
             ]
            ],
            "type": "heatmapgl"
           }
          ],
          "histogram": [
           {
            "marker": {
             "pattern": {
              "fillmode": "overlay",
              "size": 10,
              "solidity": 0.2
             }
            },
            "type": "histogram"
           }
          ],
          "histogram2d": [
           {
            "colorbar": {
             "outlinewidth": 0,
             "ticks": ""
            },
            "colorscale": [
             [
              0,
              "#0d0887"
             ],
             [
              0.1111111111111111,
              "#46039f"
             ],
             [
              0.2222222222222222,
              "#7201a8"
             ],
             [
              0.3333333333333333,
              "#9c179e"
             ],
             [
              0.4444444444444444,
              "#bd3786"
             ],
             [
              0.5555555555555556,
              "#d8576b"
             ],
             [
              0.6666666666666666,
              "#ed7953"
             ],
             [
              0.7777777777777778,
              "#fb9f3a"
             ],
             [
              0.8888888888888888,
              "#fdca26"
             ],
             [
              1,
              "#f0f921"
             ]
            ],
            "type": "histogram2d"
           }
          ],
          "histogram2dcontour": [
           {
            "colorbar": {
             "outlinewidth": 0,
             "ticks": ""
            },
            "colorscale": [
             [
              0,
              "#0d0887"
             ],
             [
              0.1111111111111111,
              "#46039f"
             ],
             [
              0.2222222222222222,
              "#7201a8"
             ],
             [
              0.3333333333333333,
              "#9c179e"
             ],
             [
              0.4444444444444444,
              "#bd3786"
             ],
             [
              0.5555555555555556,
              "#d8576b"
             ],
             [
              0.6666666666666666,
              "#ed7953"
             ],
             [
              0.7777777777777778,
              "#fb9f3a"
             ],
             [
              0.8888888888888888,
              "#fdca26"
             ],
             [
              1,
              "#f0f921"
             ]
            ],
            "type": "histogram2dcontour"
           }
          ],
          "mesh3d": [
           {
            "colorbar": {
             "outlinewidth": 0,
             "ticks": ""
            },
            "type": "mesh3d"
           }
          ],
          "parcoords": [
           {
            "line": {
             "colorbar": {
              "outlinewidth": 0,
              "ticks": ""
             }
            },
            "type": "parcoords"
           }
          ],
          "pie": [
           {
            "automargin": true,
            "type": "pie"
           }
          ],
          "scatter": [
           {
            "fillpattern": {
             "fillmode": "overlay",
             "size": 10,
             "solidity": 0.2
            },
            "type": "scatter"
           }
          ],
          "scatter3d": [
           {
            "line": {
             "colorbar": {
              "outlinewidth": 0,
              "ticks": ""
             }
            },
            "marker": {
             "colorbar": {
              "outlinewidth": 0,
              "ticks": ""
             }
            },
            "type": "scatter3d"
           }
          ],
          "scattercarpet": [
           {
            "marker": {
             "colorbar": {
              "outlinewidth": 0,
              "ticks": ""
             }
            },
            "type": "scattercarpet"
           }
          ],
          "scattergeo": [
           {
            "marker": {
             "colorbar": {
              "outlinewidth": 0,
              "ticks": ""
             }
            },
            "type": "scattergeo"
           }
          ],
          "scattergl": [
           {
            "marker": {
             "colorbar": {
              "outlinewidth": 0,
              "ticks": ""
             }
            },
            "type": "scattergl"
           }
          ],
          "scattermapbox": [
           {
            "marker": {
             "colorbar": {
              "outlinewidth": 0,
              "ticks": ""
             }
            },
            "type": "scattermapbox"
           }
          ],
          "scatterpolar": [
           {
            "marker": {
             "colorbar": {
              "outlinewidth": 0,
              "ticks": ""
             }
            },
            "type": "scatterpolar"
           }
          ],
          "scatterpolargl": [
           {
            "marker": {
             "colorbar": {
              "outlinewidth": 0,
              "ticks": ""
             }
            },
            "type": "scatterpolargl"
           }
          ],
          "scatterternary": [
           {
            "marker": {
             "colorbar": {
              "outlinewidth": 0,
              "ticks": ""
             }
            },
            "type": "scatterternary"
           }
          ],
          "surface": [
           {
            "colorbar": {
             "outlinewidth": 0,
             "ticks": ""
            },
            "colorscale": [
             [
              0,
              "#0d0887"
             ],
             [
              0.1111111111111111,
              "#46039f"
             ],
             [
              0.2222222222222222,
              "#7201a8"
             ],
             [
              0.3333333333333333,
              "#9c179e"
             ],
             [
              0.4444444444444444,
              "#bd3786"
             ],
             [
              0.5555555555555556,
              "#d8576b"
             ],
             [
              0.6666666666666666,
              "#ed7953"
             ],
             [
              0.7777777777777778,
              "#fb9f3a"
             ],
             [
              0.8888888888888888,
              "#fdca26"
             ],
             [
              1,
              "#f0f921"
             ]
            ],
            "type": "surface"
           }
          ],
          "table": [
           {
            "cells": {
             "fill": {
              "color": "#EBF0F8"
             },
             "line": {
              "color": "white"
             }
            },
            "header": {
             "fill": {
              "color": "#C8D4E3"
             },
             "line": {
              "color": "white"
             }
            },
            "type": "table"
           }
          ]
         },
         "layout": {
          "annotationdefaults": {
           "arrowcolor": "#2a3f5f",
           "arrowhead": 0,
           "arrowwidth": 1
          },
          "autotypenumbers": "strict",
          "coloraxis": {
           "colorbar": {
            "outlinewidth": 0,
            "ticks": ""
           }
          },
          "colorscale": {
           "diverging": [
            [
             0,
             "#8e0152"
            ],
            [
             0.1,
             "#c51b7d"
            ],
            [
             0.2,
             "#de77ae"
            ],
            [
             0.3,
             "#f1b6da"
            ],
            [
             0.4,
             "#fde0ef"
            ],
            [
             0.5,
             "#f7f7f7"
            ],
            [
             0.6,
             "#e6f5d0"
            ],
            [
             0.7,
             "#b8e186"
            ],
            [
             0.8,
             "#7fbc41"
            ],
            [
             0.9,
             "#4d9221"
            ],
            [
             1,
             "#276419"
            ]
           ],
           "sequential": [
            [
             0,
             "#0d0887"
            ],
            [
             0.1111111111111111,
             "#46039f"
            ],
            [
             0.2222222222222222,
             "#7201a8"
            ],
            [
             0.3333333333333333,
             "#9c179e"
            ],
            [
             0.4444444444444444,
             "#bd3786"
            ],
            [
             0.5555555555555556,
             "#d8576b"
            ],
            [
             0.6666666666666666,
             "#ed7953"
            ],
            [
             0.7777777777777778,
             "#fb9f3a"
            ],
            [
             0.8888888888888888,
             "#fdca26"
            ],
            [
             1,
             "#f0f921"
            ]
           ],
           "sequentialminus": [
            [
             0,
             "#0d0887"
            ],
            [
             0.1111111111111111,
             "#46039f"
            ],
            [
             0.2222222222222222,
             "#7201a8"
            ],
            [
             0.3333333333333333,
             "#9c179e"
            ],
            [
             0.4444444444444444,
             "#bd3786"
            ],
            [
             0.5555555555555556,
             "#d8576b"
            ],
            [
             0.6666666666666666,
             "#ed7953"
            ],
            [
             0.7777777777777778,
             "#fb9f3a"
            ],
            [
             0.8888888888888888,
             "#fdca26"
            ],
            [
             1,
             "#f0f921"
            ]
           ]
          },
          "colorway": [
           "#636efa",
           "#EF553B",
           "#00cc96",
           "#ab63fa",
           "#FFA15A",
           "#19d3f3",
           "#FF6692",
           "#B6E880",
           "#FF97FF",
           "#FECB52"
          ],
          "font": {
           "color": "#2a3f5f"
          },
          "geo": {
           "bgcolor": "white",
           "lakecolor": "white",
           "landcolor": "#E5ECF6",
           "showlakes": true,
           "showland": true,
           "subunitcolor": "white"
          },
          "hoverlabel": {
           "align": "left"
          },
          "hovermode": "closest",
          "mapbox": {
           "style": "light"
          },
          "paper_bgcolor": "white",
          "plot_bgcolor": "#E5ECF6",
          "polar": {
           "angularaxis": {
            "gridcolor": "white",
            "linecolor": "white",
            "ticks": ""
           },
           "bgcolor": "#E5ECF6",
           "radialaxis": {
            "gridcolor": "white",
            "linecolor": "white",
            "ticks": ""
           }
          },
          "scene": {
           "xaxis": {
            "backgroundcolor": "#E5ECF6",
            "gridcolor": "white",
            "gridwidth": 2,
            "linecolor": "white",
            "showbackground": true,
            "ticks": "",
            "zerolinecolor": "white"
           },
           "yaxis": {
            "backgroundcolor": "#E5ECF6",
            "gridcolor": "white",
            "gridwidth": 2,
            "linecolor": "white",
            "showbackground": true,
            "ticks": "",
            "zerolinecolor": "white"
           },
           "zaxis": {
            "backgroundcolor": "#E5ECF6",
            "gridcolor": "white",
            "gridwidth": 2,
            "linecolor": "white",
            "showbackground": true,
            "ticks": "",
            "zerolinecolor": "white"
           }
          },
          "shapedefaults": {
           "line": {
            "color": "#2a3f5f"
           }
          },
          "ternary": {
           "aaxis": {
            "gridcolor": "white",
            "linecolor": "white",
            "ticks": ""
           },
           "baxis": {
            "gridcolor": "white",
            "linecolor": "white",
            "ticks": ""
           },
           "bgcolor": "#E5ECF6",
           "caxis": {
            "gridcolor": "white",
            "linecolor": "white",
            "ticks": ""
           }
          },
          "title": {
           "x": 0.05
          },
          "xaxis": {
           "automargin": true,
           "gridcolor": "white",
           "linecolor": "white",
           "ticks": "",
           "title": {
            "standoff": 15
           },
           "zerolinecolor": "white",
           "zerolinewidth": 2
          },
          "yaxis": {
           "automargin": true,
           "gridcolor": "white",
           "linecolor": "white",
           "ticks": "",
           "title": {
            "standoff": 15
           },
           "zerolinecolor": "white",
           "zerolinewidth": 2
          }
         }
        },
        "title": {
         "text": "Average DNA damage foci in Astrocyte Nuclei by Tissue Location - cellpdia30_sigma1_dilrad4_dnad_obj_seg_v3_gliaero6_gliathr30_dnadero2"
        },
        "xaxis": {
         "anchor": "y",
         "domain": [
          0,
          1
         ],
         "title": {
          "text": "tissue_location"
         }
        },
        "yaxis": {
         "anchor": "x",
         "domain": [
          0,
          1
         ],
         "title": {
          "text": "avg_dna_damage_foci/glia_+"
         }
        }
       }
      }
     },
     "metadata": {},
     "output_type": "display_data"
    },
    {
     "data": {
      "application/vnd.plotly.v1+json": {
       "config": {
        "plotlyServerURL": "https://plot.ly"
       },
       "data": [
        {
         "customdata": [
          [
           101,
           0,
           "DSB GFAP 101_40X_CA1"
          ],
          [
           101,
           1,
           "DSB GFAP 101_40X_CA3"
          ],
          [
           101,
           2,
           "DSB GFAP 101_40X_CTX1"
          ],
          [
           101,
           3,
           "DSB GFAP 101_40X_CTX2"
          ],
          [
           101,
           4,
           "DSB GFAP 101_40X_CTX3"
          ],
          [
           101,
           5,
           "DSB GFAP 101_40X_DG"
          ],
          [
           102,
           6,
           "DSB GFAP 102_40X_CA1"
          ],
          [
           102,
           7,
           "DSB GFAP 102_40X_CA3"
          ],
          [
           102,
           8,
           "DSB GFAP 102_40X_CTX1"
          ],
          [
           102,
           9,
           "DSB GFAP 102_40X_CTX2"
          ],
          [
           102,
           10,
           "DSB GFAP 102_40X_CTX3"
          ],
          [
           102,
           11,
           "DSB GFAP 102_40X_DG"
          ],
          [
           103,
           12,
           "DSB GFAP 103_40X_CA1"
          ],
          [
           103,
           13,
           "DSB GFAP 103_40X_CA3"
          ],
          [
           103,
           14,
           "DSB GFAP 103_40X_CTX1"
          ],
          [
           103,
           15,
           "DSB GFAP 103_40X_CTX2"
          ],
          [
           103,
           16,
           "DSB GFAP 103_40X_CTX3"
          ],
          [
           103,
           17,
           "DSB GFAP 103_40X_DG"
          ],
          [
           104,
           18,
           "DSB GFAP 104_40X_CA1"
          ],
          [
           104,
           19,
           "DSB GFAP 104_40X_CA3"
          ],
          [
           104,
           20,
           "DSB GFAP 104_40X_CTX1"
          ],
          [
           104,
           21,
           "DSB GFAP 104_40X_CTX2"
          ],
          [
           104,
           22,
           "DSB GFAP 104_40X_CTX3"
          ],
          [
           104,
           23,
           "DSB GFAP 104_40X_DG"
          ],
          [
           105,
           24,
           "DSB GFAP 105_40X_CA1"
          ],
          [
           105,
           25,
           "DSB GFAP 105_40X_CA3"
          ],
          [
           105,
           26,
           "DSB GFAP 105_40X_CTX1"
          ],
          [
           105,
           27,
           "DSB GFAP 105_40X_CTX2"
          ],
          [
           105,
           28,
           "DSB GFAP 105_40X_CTX3"
          ],
          [
           105,
           29,
           "DSB GFAP 105_40X_DG"
          ],
          [
           106,
           30,
           "DSB GFAP 106_40X_CA1"
          ],
          [
           106,
           31,
           "DSB GFAP 106_40X_CA3"
          ],
          [
           106,
           32,
           "DSB GFAP 106_40X_CTX1"
          ],
          [
           106,
           33,
           "DSB GFAP 106_40X_CTX2"
          ],
          [
           106,
           34,
           "DSB GFAP 106_40X_CTX3"
          ],
          [
           106,
           35,
           "DSB GFAP 106_40X_DG"
          ],
          [
           107,
           36,
           "DSB GFAP 107_40X_CA1"
          ],
          [
           107,
           37,
           "DSB GFAP 107_40X_CA3"
          ],
          [
           107,
           38,
           "DSB GFAP 107_40X_CTX1"
          ],
          [
           107,
           39,
           "DSB GFAP 107_40X_CTX2"
          ],
          [
           107,
           40,
           "DSB GFAP 107_40X_CTX3"
          ],
          [
           107,
           41,
           "DSB GFAP 107_40X_DG"
          ],
          [
           108,
           42,
           "DSB GFAP 108_40X_CA1"
          ],
          [
           108,
           43,
           "DSB GFAP 108_40X_CA3"
          ],
          [
           108,
           44,
           "DSB GFAP 108_40X_CTX1"
          ],
          [
           108,
           45,
           "DSB GFAP 108_40X_CTX2"
          ],
          [
           108,
           46,
           "DSB GFAP 108_40X_CTX3"
          ],
          [
           108,
           47,
           "DSB GFAP 108_40X_DG"
          ],
          [
           10,
           48,
           "DSB GFAP 10_40X_CA1"
          ],
          [
           10,
           49,
           "DSB GFAP 10_40X_CA3"
          ],
          [
           10,
           50,
           "DSB GFAP 10_40X_CTX1"
          ],
          [
           10,
           51,
           "DSB GFAP 10_40X_CTX2"
          ],
          [
           10,
           52,
           "DSB GFAP 10_40X_CTX3"
          ],
          [
           10,
           53,
           "DSB GFAP 10_40X_DG"
          ],
          [
           11,
           54,
           "DSB GFAP 11_40X_CA1"
          ],
          [
           11,
           55,
           "DSB GFAP 11_40X_CA3"
          ],
          [
           11,
           56,
           "DSB GFAP 11_40X_CTX1"
          ],
          [
           11,
           57,
           "DSB GFAP 11_40X_CTX2"
          ],
          [
           11,
           58,
           "DSB GFAP 11_40X_CTX3"
          ],
          [
           11,
           59,
           "DSB GFAP 11_40X_DG"
          ],
          [
           12,
           60,
           "DSB GFAP 12_40X_CA1"
          ],
          [
           12,
           61,
           "DSB GFAP 12_40X_CA3"
          ],
          [
           12,
           62,
           "DSB GFAP 12_40X_CTX1"
          ],
          [
           12,
           63,
           "DSB GFAP 12_40X_CTX2"
          ],
          [
           12,
           64,
           "DSB GFAP 12_40X_CTX3"
          ],
          [
           12,
           65,
           "DSB GFAP 12_40X_DG"
          ],
          [
           13,
           66,
           "DSB GFAP 13_40X_CA1"
          ],
          [
           13,
           67,
           "DSB GFAP 13_40X_CA3"
          ],
          [
           13,
           68,
           "DSB GFAP 13_40X_CTX1"
          ],
          [
           13,
           69,
           "DSB GFAP 13_40X_CTX2"
          ],
          [
           13,
           70,
           "DSB GFAP 13_40X_CTX3"
          ],
          [
           13,
           71,
           "DSB GFAP 13_40X_DG"
          ],
          [
           14,
           72,
           "DSB GFAP 14_40X_CA1"
          ],
          [
           14,
           73,
           "DSB GFAP 14_40X_CA3"
          ],
          [
           14,
           74,
           "DSB GFAP 14_40X_CTX1"
          ],
          [
           14,
           75,
           "DSB GFAP 14_40X_CTX2"
          ],
          [
           14,
           76,
           "DSB GFAP 14_40X_CTX3"
          ],
          [
           14,
           77,
           "DSB GFAP 14_40X_DG"
          ],
          [
           15,
           78,
           "DSB GFAP 15_40X_CA1"
          ],
          [
           15,
           79,
           "DSB GFAP 15_40X_CA3"
          ],
          [
           15,
           80,
           "DSB GFAP 15_40X_CTX1"
          ],
          [
           15,
           81,
           "DSB GFAP 15_40X_CTX2"
          ],
          [
           15,
           82,
           "DSB GFAP 15_40X_CTX3"
          ],
          [
           15,
           83,
           "DSB GFAP 15_40X_DG"
          ],
          [
           16,
           84,
           "DSB GFAP 16_40X_CA1"
          ],
          [
           16,
           85,
           "DSB GFAP 16_40X_CA3"
          ],
          [
           16,
           86,
           "DSB GFAP 16_40X_CTX1"
          ],
          [
           16,
           87,
           "DSB GFAP 16_40X_CTX2"
          ],
          [
           16,
           88,
           "DSB GFAP 16_40X_CTX3"
          ],
          [
           16,
           89,
           "DSB GFAP 16_40X_DG"
          ],
          [
           18,
           90,
           "DSB GFAP 18_40X_CA1"
          ],
          [
           18,
           91,
           "DSB GFAP 18_40X_CA3"
          ],
          [
           18,
           92,
           "DSB GFAP 18_40X_CTX1"
          ],
          [
           18,
           93,
           "DSB GFAP 18_40X_CTX2"
          ],
          [
           18,
           94,
           "DSB GFAP 18_40X_CTX3"
          ],
          [
           18,
           95,
           "DSB GFAP 18_40X_DG"
          ],
          [
           20,
           96,
           "DSB GFAP 20_40X_CA1"
          ],
          [
           20,
           97,
           "DSB GFAP 20_40X_CA3"
          ],
          [
           20,
           98,
           "DSB GFAP 20_40X_CTX1"
          ],
          [
           20,
           99,
           "DSB GFAP 20_40X_CTX2"
          ],
          [
           20,
           100,
           "DSB GFAP 20_40X_CTX3"
          ],
          [
           20,
           101,
           "DSB GFAP 20_40X_DG"
          ],
          [
           21,
           102,
           "DSB GFAP 21_40X_CA1"
          ],
          [
           21,
           103,
           "DSB GFAP 21_40X_CA3"
          ],
          [
           21,
           104,
           "DSB GFAP 21_40X_CTX1"
          ],
          [
           21,
           105,
           "DSB GFAP 21_40X_CTX2"
          ],
          [
           21,
           106,
           "DSB GFAP 21_40X_CTX3"
          ],
          [
           21,
           107,
           "DSB GFAP 21_40X_DG"
          ],
          [
           22,
           108,
           "DSB GFAP 22_40X_CA1"
          ],
          [
           22,
           109,
           "DSB GFAP 22_40X_CA3"
          ],
          [
           22,
           110,
           "DSB GFAP 22_40X_CTX1"
          ],
          [
           22,
           111,
           "DSB GFAP 22_40X_CTX2"
          ],
          [
           22,
           112,
           "DSB GFAP 22_40X_CTX3"
          ],
          [
           22,
           113,
           "DSB GFAP 22_40X_DG"
          ],
          [
           23,
           114,
           "DSB GFAP 23_40X_DG"
          ],
          [
           24,
           115,
           "DSB GFAP 24_40X_CA1"
          ],
          [
           24,
           116,
           "DSB GFAP 24_40X_CA3"
          ],
          [
           24,
           117,
           "DSB GFAP 24_40X_CTX1"
          ],
          [
           24,
           118,
           "DSB GFAP 24_40X_CTX2"
          ],
          [
           24,
           119,
           "DSB GFAP 24_40X_CTX3"
          ],
          [
           24,
           120,
           "DSB GFAP 24_40X_DG"
          ],
          [
           25,
           121,
           "DSB GFAP 25_40X_CA1"
          ],
          [
           25,
           122,
           "DSB GFAP 25_40X_CA3"
          ],
          [
           25,
           123,
           "DSB GFAP 25_40X_CTX1"
          ],
          [
           25,
           124,
           "DSB GFAP 25_40X_CTX2"
          ],
          [
           25,
           125,
           "DSB GFAP 25_40X_CTX3"
          ],
          [
           25,
           126,
           "DSB GFAP 25_40X_DG"
          ],
          [
           26,
           127,
           "DSB GFAP 26_40X_CA1"
          ],
          [
           26,
           128,
           "DSB GFAP 26_40X_CA3"
          ],
          [
           26,
           129,
           "DSB GFAP 26_40X_CTX1"
          ],
          [
           26,
           130,
           "DSB GFAP 26_40X_CTX2"
          ],
          [
           26,
           131,
           "DSB GFAP 26_40X_CTX3"
          ],
          [
           26,
           132,
           "DSB GFAP 26_40X_DG"
          ],
          [
           27,
           133,
           "DSB GFAP 27_40X_CA1"
          ],
          [
           27,
           134,
           "DSB GFAP 27_40X_CA3"
          ],
          [
           27,
           135,
           "DSB GFAP 27_40X_CTX1"
          ],
          [
           27,
           136,
           "DSB GFAP 27_40X_CTX2"
          ],
          [
           27,
           137,
           "DSB GFAP 27_40X_CTX3"
          ],
          [
           27,
           138,
           "DSB GFAP 27_40X_DG"
          ],
          [
           28,
           139,
           "DSB GFAP 28_40X_CA1"
          ],
          [
           28,
           140,
           "DSB GFAP 28_40X_CA3"
          ],
          [
           28,
           141,
           "DSB GFAP 28_40X_CTX1"
          ],
          [
           28,
           142,
           "DSB GFAP 28_40X_DG"
          ],
          [
           29,
           143,
           "DSB GFAP 29_40X_CA1"
          ],
          [
           29,
           144,
           "DSB GFAP 29_40X_CA3"
          ],
          [
           29,
           145,
           "DSB GFAP 29_40X_CTX1"
          ],
          [
           29,
           146,
           "DSB GFAP 29_40X_CTX2"
          ],
          [
           29,
           147,
           "DSB GFAP 29_40X_CTX3"
          ],
          [
           29,
           148,
           "DSB GFAP 29_40X_DG"
          ],
          [
           30,
           149,
           "DSB GFAP 30_40X_CA1"
          ],
          [
           30,
           150,
           "DSB GFAP 30_40X_CA3"
          ],
          [
           30,
           151,
           "DSB GFAP 30_40X_CTX1"
          ],
          [
           30,
           152,
           "DSB GFAP 30_40X_CTX2"
          ],
          [
           30,
           153,
           "DSB GFAP 30_40X_CTX3"
          ],
          [
           30,
           154,
           "DSB GFAP 30_40X_DG"
          ],
          [
           31,
           155,
           "DSB GFAP 31_40X_DG"
          ],
          [
           32,
           156,
           "DSB GFAP 32_40X_CA1"
          ],
          [
           32,
           157,
           "DSB GFAP 32_40X_CA3"
          ],
          [
           32,
           158,
           "DSB GFAP 32_40X_CTX1"
          ],
          [
           32,
           159,
           "DSB GFAP 32_40X_CTX2"
          ],
          [
           32,
           160,
           "DSB GFAP 32_40X_CTX3"
          ],
          [
           32,
           161,
           "DSB GFAP 32_40X_DG"
          ],
          [
           34,
           162,
           "DSB GFAP 34_40X_CA1"
          ],
          [
           34,
           163,
           "DSB GFAP 34_40X_CA3"
          ],
          [
           34,
           164,
           "DSB GFAP 34_40X_CTX1"
          ],
          [
           34,
           165,
           "DSB GFAP 34_40X_CTX2"
          ],
          [
           34,
           166,
           "DSB GFAP 34_40X_CTX3"
          ],
          [
           34,
           167,
           "DSB GFAP 34_40X_DG"
          ],
          [
           35,
           168,
           "DSB GFAP 35_40X_CA1"
          ],
          [
           35,
           169,
           "DSB GFAP 35_40X_CA3"
          ],
          [
           35,
           170,
           "DSB GFAP 35_40X_CTX1"
          ],
          [
           35,
           171,
           "DSB GFAP 35_40X_CTX2"
          ],
          [
           35,
           172,
           "DSB GFAP 35_40X_CTX3"
          ],
          [
           35,
           173,
           "DSB GFAP 35_40X_DG"
          ],
          [
           36,
           174,
           "DSB GFAP 36_40X_CA1"
          ],
          [
           36,
           175,
           "DSB GFAP 36_40X_CA3"
          ],
          [
           36,
           176,
           "DSB GFAP 36_40X_CTX1"
          ],
          [
           36,
           177,
           "DSB GFAP 36_40X_CTX2"
          ],
          [
           36,
           178,
           "DSB GFAP 36_40X_CTX3"
          ],
          [
           36,
           179,
           "DSB GFAP 36_40X_DG"
          ],
          [
           37,
           180,
           "DSB GFAP 37_40X_CA1"
          ],
          [
           37,
           181,
           "DSB GFAP 37_40X_CA3"
          ],
          [
           37,
           182,
           "DSB GFAP 37_40X_CTX1"
          ],
          [
           37,
           183,
           "DSB GFAP 37_40X_CTX2"
          ],
          [
           37,
           184,
           "DSB GFAP 37_40X_CTX3"
          ],
          [
           37,
           185,
           "DSB GFAP 37_40X_DG"
          ],
          [
           38,
           186,
           "DSB GFAP 38_40X_CA1"
          ],
          [
           38,
           187,
           "DSB GFAP 38_40X_CA3"
          ],
          [
           38,
           188,
           "DSB GFAP 38_40X_CTX1"
          ],
          [
           38,
           189,
           "DSB GFAP 38_40X_CTX2"
          ],
          [
           38,
           190,
           "DSB GFAP 38_40X_CTX3"
          ],
          [
           38,
           191,
           "DSB GFAP 38_40X_DG"
          ],
          [
           39,
           192,
           "DSB GFAP 39_40X_CA1"
          ],
          [
           39,
           193,
           "DSB GFAP 39_40X_CA3"
          ],
          [
           39,
           194,
           "DSB GFAP 39_40X_CTX1"
          ],
          [
           39,
           195,
           "DSB GFAP 39_40X_CTX2"
          ],
          [
           39,
           196,
           "DSB GFAP 39_40X_CTX3"
          ],
          [
           39,
           197,
           "DSB GFAP 39_40X_DG"
          ],
          [
           40,
           198,
           "DSB GFAP 40_40X_CA1"
          ],
          [
           40,
           199,
           "DSB GFAP 40_40X_CA3"
          ],
          [
           40,
           200,
           "DSB GFAP 40_40X_DG"
          ],
          [
           41,
           201,
           "DSB GFAP 41_40X_CA1"
          ],
          [
           41,
           202,
           "DSB GFAP 41_40X_CA3"
          ],
          [
           41,
           203,
           "DSB GFAP 41_40X_CTX1"
          ],
          [
           41,
           204,
           "DSB GFAP 41_40X_CTX2"
          ],
          [
           41,
           205,
           "DSB GFAP 41_40X_CTX3"
          ],
          [
           41,
           206,
           "DSB GFAP 41_40X_DG"
          ],
          [
           43,
           207,
           "DSB GFAP 43_40X_CA1"
          ],
          [
           43,
           208,
           "DSB GFAP 43_40X_CA3"
          ],
          [
           43,
           209,
           "DSB GFAP 43_40X_CTX1"
          ],
          [
           43,
           210,
           "DSB GFAP 43_40X_CTX2"
          ],
          [
           43,
           211,
           "DSB GFAP 43_40X_CTX3"
          ],
          [
           43,
           212,
           "DSB GFAP 43_40X_DG"
          ],
          [
           6,
           213,
           "DSB GFAP 6_40X_CA1"
          ],
          [
           6,
           214,
           "DSB GFAP 6_40X_CA3"
          ],
          [
           6,
           215,
           "DSB GFAP 6_40X_CTX1"
          ],
          [
           6,
           216,
           "DSB GFAP 6_40X_CTX2"
          ],
          [
           6,
           217,
           "DSB GFAP 6_40X_CTX3"
          ],
          [
           6,
           218,
           "DSB GFAP 6_40X_DG"
          ],
          [
           7,
           219,
           "DSB GFAP 7_40X_DG"
          ],
          [
           8,
           220,
           "DSB GFAP 8_40X_CA1"
          ],
          [
           8,
           221,
           "DSB GFAP 8_40X_CA3"
          ],
          [
           8,
           222,
           "DSB GFAP 8_40X_CTX1"
          ],
          [
           8,
           223,
           "DSB GFAP 8_40X_CTX2"
          ],
          [
           8,
           224,
           "DSB GFAP 8_40X_CTX3"
          ],
          [
           8,
           225,
           "DSB GFAP 8_40X_DG"
          ],
          [
           9,
           226,
           "DSB GFAP 9_40X_CA1"
          ],
          [
           9,
           227,
           "DSB GFAP 9_40X_CA3"
          ],
          [
           9,
           228,
           "DSB GFAP 9_40X_CTX1"
          ],
          [
           9,
           229,
           "DSB GFAP 9_40X_CTX2"
          ],
          [
           9,
           230,
           "DSB GFAP 9_40X_CTX3"
          ],
          [
           9,
           231,
           "DSB GFAP 9_40X_DG"
          ]
         ],
         "hovertemplate": "tissue_location=%{x}<br>avg_dna_damage_foci/all_nuclei=%{y}<br>staining_id=%{customdata[0]}<br>index=%{customdata[1]}<br>filename=%{customdata[2]}<extra></extra>",
         "legendgroup": "",
         "marker": {
          "color": "#636efa",
          "symbol": "circle"
         },
         "mode": "markers",
         "name": "",
         "orientation": "v",
         "showlegend": false,
         "type": "scatter",
         "x": [
          "CA1",
          "CA3",
          "CTX1",
          "CTX2",
          "CTX3",
          "DG",
          "CA1",
          "CA3",
          "CTX1",
          "CTX2",
          "CTX3",
          "DG",
          "CA1",
          "CA3",
          "CTX1",
          "CTX2",
          "CTX3",
          "DG",
          "CA1",
          "CA3",
          "CTX1",
          "CTX2",
          "CTX3",
          "DG",
          "CA1",
          "CA3",
          "CTX1",
          "CTX2",
          "CTX3",
          "DG",
          "CA1",
          "CA3",
          "CTX1",
          "CTX2",
          "CTX3",
          "DG",
          "CA1",
          "CA3",
          "CTX1",
          "CTX2",
          "CTX3",
          "DG",
          "CA1",
          "CA3",
          "CTX1",
          "CTX2",
          "CTX3",
          "DG",
          "CA1",
          "CA3",
          "CTX1",
          "CTX2",
          "CTX3",
          "DG",
          "CA1",
          "CA3",
          "CTX1",
          "CTX2",
          "CTX3",
          "DG",
          "CA1",
          "CA3",
          "CTX1",
          "CTX2",
          "CTX3",
          "DG",
          "CA1",
          "CA3",
          "CTX1",
          "CTX2",
          "CTX3",
          "DG",
          "CA1",
          "CA3",
          "CTX1",
          "CTX2",
          "CTX3",
          "DG",
          "CA1",
          "CA3",
          "CTX1",
          "CTX2",
          "CTX3",
          "DG",
          "CA1",
          "CA3",
          "CTX1",
          "CTX2",
          "CTX3",
          "DG",
          "CA1",
          "CA3",
          "CTX1",
          "CTX2",
          "CTX3",
          "DG",
          "CA1",
          "CA3",
          "CTX1",
          "CTX2",
          "CTX3",
          "DG",
          "CA1",
          "CA3",
          "CTX1",
          "CTX2",
          "CTX3",
          "DG",
          "CA1",
          "CA3",
          "CTX1",
          "CTX2",
          "CTX3",
          "DG",
          "DG",
          "CA1",
          "CA3",
          "CTX1",
          "CTX2",
          "CTX3",
          "DG",
          "CA1",
          "CA3",
          "CTX1",
          "CTX2",
          "CTX3",
          "DG",
          "CA1",
          "CA3",
          "CTX1",
          "CTX2",
          "CTX3",
          "DG",
          "CA1",
          "CA3",
          "CTX1",
          "CTX2",
          "CTX3",
          "DG",
          "CA1",
          "CA3",
          "CTX1",
          "DG",
          "CA1",
          "CA3",
          "CTX1",
          "CTX2",
          "CTX3",
          "DG",
          "CA1",
          "CA3",
          "CTX1",
          "CTX2",
          "CTX3",
          "DG",
          "DG",
          "CA1",
          "CA3",
          "CTX1",
          "CTX2",
          "CTX3",
          "DG",
          "CA1",
          "CA3",
          "CTX1",
          "CTX2",
          "CTX3",
          "DG",
          "CA1",
          "CA3",
          "CTX1",
          "CTX2",
          "CTX3",
          "DG",
          "CA1",
          "CA3",
          "CTX1",
          "CTX2",
          "CTX3",
          "DG",
          "CA1",
          "CA3",
          "CTX1",
          "CTX2",
          "CTX3",
          "DG",
          "CA1",
          "CA3",
          "CTX1",
          "CTX2",
          "CTX3",
          "DG",
          "CA1",
          "CA3",
          "CTX1",
          "CTX2",
          "CTX3",
          "DG",
          "CA1",
          "CA3",
          "DG",
          "CA1",
          "CA3",
          "CTX1",
          "CTX2",
          "CTX3",
          "DG",
          "CA1",
          "CA3",
          "CTX1",
          "CTX2",
          "CTX3",
          "DG",
          "CA1",
          "CA3",
          "CTX1",
          "CTX2",
          "CTX3",
          "DG",
          "DG",
          "CA1",
          "CA3",
          "CTX1",
          "CTX2",
          "CTX3",
          "DG",
          "CA1",
          "CA3",
          "CTX1",
          "CTX2",
          "CTX3",
          "DG"
         ],
         "xaxis": "x",
         "y": [
          0.4753086419753086,
          1.1517241379310346,
          0.3522012578616352,
          0.6293436293436293,
          0.8072289156626506,
          1.149584487534626,
          0.5517241379310345,
          1.0084033613445378,
          0.3658536585365853,
          0.7086614173228346,
          0.4382022471910112,
          1.2183908045977012,
          0.470873786407767,
          0.7876106194690266,
          0.6833333333333333,
          0.9444444444444444,
          0.4043715846994535,
          1.0614035087719298,
          0.8947368421052632,
          1.3717948717948718,
          0.5774647887323944,
          0.4896907216494845,
          0.8617886178861789,
          1.576470588235294,
          0.4639175257731959,
          0.8157894736842105,
          0.5818181818181818,
          0.8,
          0.7704918032786885,
          1.2015503875968991,
          0.4202898550724637,
          0.8353658536585366,
          0.6964285714285714,
          0.7635467980295566,
          0.6540880503144654,
          1.0105263157894735,
          0.518324607329843,
          0.7131782945736435,
          0.4541062801932367,
          0.8609022556390977,
          0.7056451612903226,
          0.9631336405529954,
          0.4880952380952381,
          0.7096774193548387,
          0.3898305084745763,
          0.7241379310344828,
          0.4805194805194805,
          1.267813267813268,
          0.3879781420765027,
          0.6590909090909091,
          0.4613259668508287,
          0.7169230769230769,
          0.9170731707317074,
          1.1666666666666667,
          0.8208955223880597,
          0.9891304347826086,
          0.5118110236220472,
          0.5416666666666666,
          0.603448275862069,
          0.970472440944882,
          0.852112676056338,
          0.7244897959183674,
          0.6,
          0.6976744186046512,
          0.7929515418502202,
          1.1371158392434988,
          0.4214285714285714,
          0.9767441860465116,
          0.3950617283950617,
          0.4488188976377952,
          0.4262295081967213,
          0.5342019543973942,
          0.8389830508474576,
          0.967741935483871,
          0.7426900584795322,
          0.7953488372093023,
          0.8580246913580247,
          1.098666666666667,
          0.7225433526011561,
          0.946153846153846,
          0.6923076923076923,
          0.82,
          0.75,
          1.056470588235294,
          0.4411764705882353,
          0.8469387755102041,
          0.4123222748815165,
          0.456221198156682,
          0.4330357142857143,
          0.7433862433862434,
          0.54421768707483,
          0.7863247863247863,
          0.4866071428571428,
          0.6492146596858639,
          0.7134502923976608,
          1.162079510703364,
          0.3448275862068966,
          0.8502994011976048,
          0.2066420664206642,
          0.9514925373134328,
          1.288659793814433,
          0.4924623115577889,
          0.4736842105263157,
          0.7578947368421053,
          0.2480620155038759,
          0.2236842105263158,
          0.1927083333333333,
          0.5727554179566563,
          0.5289855072463768,
          1.03921568627451,
          0.9132653061224488,
          0.7010309278350515,
          0.5973451327433629,
          0.8666666666666667,
          0.4777777777777778,
          0.689922480620155,
          0.9482758620689656,
          1.025974025974026,
          0.9061032863849764,
          0.7368421052631579,
          1.1886304909560723,
          1.136,
          1.2011173184357542,
          0.7624309392265194,
          0.7608695652173914,
          0.7482014388489209,
          1.8385542168674696,
          0.7848837209302325,
          1.066350710900474,
          0.5728476821192053,
          1.040983606557377,
          0.5298804780876494,
          1.019417475728155,
          1.368421052631579,
          1.5,
          0.9230769230769232,
          0.8732394366197183,
          0.6086956521739131,
          1.5444743935309972,
          0.5698924731182796,
          0.7204301075268817,
          0.184331797235023,
          0.6843575418994413,
          0.8083333333333333,
          0.5257731958762887,
          0.5223880597014925,
          0.23125,
          0.1954022988505747,
          0.8992248062015504,
          0.6846153846153846,
          0.85,
          0.6481481481481481,
          0.6226415094339622,
          0.864406779661017,
          1.1069767441860463,
          0.0841750841750841,
          0.640625,
          0.8928571428571429,
          0.4820143884892086,
          0.4125,
          0.4315068493150685,
          1.3323170731707317,
          0.6754385964912281,
          0.6265822784810127,
          0.4308943089430894,
          0.6434782608695652,
          0.3232323232323232,
          1.0296495956873315,
          1.1025641025641026,
          1.6652173913043478,
          0.9365671641791044,
          0.8390804597701149,
          0.9328621908127208,
          0.9278688524590164,
          1.0432098765432098,
          1.0847457627118644,
          0.9529914529914528,
          0.8275862068965517,
          0.9101796407185628,
          1.2816091954022988,
          0.7575757575757576,
          0.7916666666666666,
          0.71900826446281,
          1.186602870813397,
          0.8448275862068966,
          1.048048048048048,
          0.5408163265306123,
          0.6973684210526315,
          0.648,
          0.5259259259259259,
          0.4423076923076923,
          1.14,
          0.9214285714285714,
          1.135922330097087,
          0.6926829268292682,
          0.6986301369863014,
          0.6106870229007634,
          1.116580310880829,
          0.9375,
          1.3953488372093024,
          0.4662576687116564,
          0.456,
          0.7193877551020408,
          0.6309523809523809,
          0.4772727272727273,
          0.4417177914110429,
          1.0116279069767442,
          0.5902777777777778,
          0.5299145299145299,
          0.6073059360730594,
          0.589041095890411,
          0.7615384615384615,
          0.8492822966507177,
          0.7593582887700535,
          0.819672131147541,
          0.6896551724137931,
          0.6945812807881774,
          0.7051792828685259,
          1.3165322580645162,
          0.003125,
          0.6573033707865169,
          0.8157894736842105,
          0.6160714285714286,
          0.6590909090909091,
          0.7004830917874396,
          1.1457858769931664,
          0.5638297872340425,
          0.76,
          0.5856573705179283,
          0.5352112676056338,
          0.4904942965779467,
          0.796137339055794
         ],
         "yaxis": "y"
        }
       ],
       "layout": {
        "legend": {
         "tracegroupgap": 0
        },
        "template": {
         "data": {
          "bar": [
           {
            "error_x": {
             "color": "#2a3f5f"
            },
            "error_y": {
             "color": "#2a3f5f"
            },
            "marker": {
             "line": {
              "color": "#E5ECF6",
              "width": 0.5
             },
             "pattern": {
              "fillmode": "overlay",
              "size": 10,
              "solidity": 0.2
             }
            },
            "type": "bar"
           }
          ],
          "barpolar": [
           {
            "marker": {
             "line": {
              "color": "#E5ECF6",
              "width": 0.5
             },
             "pattern": {
              "fillmode": "overlay",
              "size": 10,
              "solidity": 0.2
             }
            },
            "type": "barpolar"
           }
          ],
          "carpet": [
           {
            "aaxis": {
             "endlinecolor": "#2a3f5f",
             "gridcolor": "white",
             "linecolor": "white",
             "minorgridcolor": "white",
             "startlinecolor": "#2a3f5f"
            },
            "baxis": {
             "endlinecolor": "#2a3f5f",
             "gridcolor": "white",
             "linecolor": "white",
             "minorgridcolor": "white",
             "startlinecolor": "#2a3f5f"
            },
            "type": "carpet"
           }
          ],
          "choropleth": [
           {
            "colorbar": {
             "outlinewidth": 0,
             "ticks": ""
            },
            "type": "choropleth"
           }
          ],
          "contour": [
           {
            "colorbar": {
             "outlinewidth": 0,
             "ticks": ""
            },
            "colorscale": [
             [
              0,
              "#0d0887"
             ],
             [
              0.1111111111111111,
              "#46039f"
             ],
             [
              0.2222222222222222,
              "#7201a8"
             ],
             [
              0.3333333333333333,
              "#9c179e"
             ],
             [
              0.4444444444444444,
              "#bd3786"
             ],
             [
              0.5555555555555556,
              "#d8576b"
             ],
             [
              0.6666666666666666,
              "#ed7953"
             ],
             [
              0.7777777777777778,
              "#fb9f3a"
             ],
             [
              0.8888888888888888,
              "#fdca26"
             ],
             [
              1,
              "#f0f921"
             ]
            ],
            "type": "contour"
           }
          ],
          "contourcarpet": [
           {
            "colorbar": {
             "outlinewidth": 0,
             "ticks": ""
            },
            "type": "contourcarpet"
           }
          ],
          "heatmap": [
           {
            "colorbar": {
             "outlinewidth": 0,
             "ticks": ""
            },
            "colorscale": [
             [
              0,
              "#0d0887"
             ],
             [
              0.1111111111111111,
              "#46039f"
             ],
             [
              0.2222222222222222,
              "#7201a8"
             ],
             [
              0.3333333333333333,
              "#9c179e"
             ],
             [
              0.4444444444444444,
              "#bd3786"
             ],
             [
              0.5555555555555556,
              "#d8576b"
             ],
             [
              0.6666666666666666,
              "#ed7953"
             ],
             [
              0.7777777777777778,
              "#fb9f3a"
             ],
             [
              0.8888888888888888,
              "#fdca26"
             ],
             [
              1,
              "#f0f921"
             ]
            ],
            "type": "heatmap"
           }
          ],
          "heatmapgl": [
           {
            "colorbar": {
             "outlinewidth": 0,
             "ticks": ""
            },
            "colorscale": [
             [
              0,
              "#0d0887"
             ],
             [
              0.1111111111111111,
              "#46039f"
             ],
             [
              0.2222222222222222,
              "#7201a8"
             ],
             [
              0.3333333333333333,
              "#9c179e"
             ],
             [
              0.4444444444444444,
              "#bd3786"
             ],
             [
              0.5555555555555556,
              "#d8576b"
             ],
             [
              0.6666666666666666,
              "#ed7953"
             ],
             [
              0.7777777777777778,
              "#fb9f3a"
             ],
             [
              0.8888888888888888,
              "#fdca26"
             ],
             [
              1,
              "#f0f921"
             ]
            ],
            "type": "heatmapgl"
           }
          ],
          "histogram": [
           {
            "marker": {
             "pattern": {
              "fillmode": "overlay",
              "size": 10,
              "solidity": 0.2
             }
            },
            "type": "histogram"
           }
          ],
          "histogram2d": [
           {
            "colorbar": {
             "outlinewidth": 0,
             "ticks": ""
            },
            "colorscale": [
             [
              0,
              "#0d0887"
             ],
             [
              0.1111111111111111,
              "#46039f"
             ],
             [
              0.2222222222222222,
              "#7201a8"
             ],
             [
              0.3333333333333333,
              "#9c179e"
             ],
             [
              0.4444444444444444,
              "#bd3786"
             ],
             [
              0.5555555555555556,
              "#d8576b"
             ],
             [
              0.6666666666666666,
              "#ed7953"
             ],
             [
              0.7777777777777778,
              "#fb9f3a"
             ],
             [
              0.8888888888888888,
              "#fdca26"
             ],
             [
              1,
              "#f0f921"
             ]
            ],
            "type": "histogram2d"
           }
          ],
          "histogram2dcontour": [
           {
            "colorbar": {
             "outlinewidth": 0,
             "ticks": ""
            },
            "colorscale": [
             [
              0,
              "#0d0887"
             ],
             [
              0.1111111111111111,
              "#46039f"
             ],
             [
              0.2222222222222222,
              "#7201a8"
             ],
             [
              0.3333333333333333,
              "#9c179e"
             ],
             [
              0.4444444444444444,
              "#bd3786"
             ],
             [
              0.5555555555555556,
              "#d8576b"
             ],
             [
              0.6666666666666666,
              "#ed7953"
             ],
             [
              0.7777777777777778,
              "#fb9f3a"
             ],
             [
              0.8888888888888888,
              "#fdca26"
             ],
             [
              1,
              "#f0f921"
             ]
            ],
            "type": "histogram2dcontour"
           }
          ],
          "mesh3d": [
           {
            "colorbar": {
             "outlinewidth": 0,
             "ticks": ""
            },
            "type": "mesh3d"
           }
          ],
          "parcoords": [
           {
            "line": {
             "colorbar": {
              "outlinewidth": 0,
              "ticks": ""
             }
            },
            "type": "parcoords"
           }
          ],
          "pie": [
           {
            "automargin": true,
            "type": "pie"
           }
          ],
          "scatter": [
           {
            "fillpattern": {
             "fillmode": "overlay",
             "size": 10,
             "solidity": 0.2
            },
            "type": "scatter"
           }
          ],
          "scatter3d": [
           {
            "line": {
             "colorbar": {
              "outlinewidth": 0,
              "ticks": ""
             }
            },
            "marker": {
             "colorbar": {
              "outlinewidth": 0,
              "ticks": ""
             }
            },
            "type": "scatter3d"
           }
          ],
          "scattercarpet": [
           {
            "marker": {
             "colorbar": {
              "outlinewidth": 0,
              "ticks": ""
             }
            },
            "type": "scattercarpet"
           }
          ],
          "scattergeo": [
           {
            "marker": {
             "colorbar": {
              "outlinewidth": 0,
              "ticks": ""
             }
            },
            "type": "scattergeo"
           }
          ],
          "scattergl": [
           {
            "marker": {
             "colorbar": {
              "outlinewidth": 0,
              "ticks": ""
             }
            },
            "type": "scattergl"
           }
          ],
          "scattermapbox": [
           {
            "marker": {
             "colorbar": {
              "outlinewidth": 0,
              "ticks": ""
             }
            },
            "type": "scattermapbox"
           }
          ],
          "scatterpolar": [
           {
            "marker": {
             "colorbar": {
              "outlinewidth": 0,
              "ticks": ""
             }
            },
            "type": "scatterpolar"
           }
          ],
          "scatterpolargl": [
           {
            "marker": {
             "colorbar": {
              "outlinewidth": 0,
              "ticks": ""
             }
            },
            "type": "scatterpolargl"
           }
          ],
          "scatterternary": [
           {
            "marker": {
             "colorbar": {
              "outlinewidth": 0,
              "ticks": ""
             }
            },
            "type": "scatterternary"
           }
          ],
          "surface": [
           {
            "colorbar": {
             "outlinewidth": 0,
             "ticks": ""
            },
            "colorscale": [
             [
              0,
              "#0d0887"
             ],
             [
              0.1111111111111111,
              "#46039f"
             ],
             [
              0.2222222222222222,
              "#7201a8"
             ],
             [
              0.3333333333333333,
              "#9c179e"
             ],
             [
              0.4444444444444444,
              "#bd3786"
             ],
             [
              0.5555555555555556,
              "#d8576b"
             ],
             [
              0.6666666666666666,
              "#ed7953"
             ],
             [
              0.7777777777777778,
              "#fb9f3a"
             ],
             [
              0.8888888888888888,
              "#fdca26"
             ],
             [
              1,
              "#f0f921"
             ]
            ],
            "type": "surface"
           }
          ],
          "table": [
           {
            "cells": {
             "fill": {
              "color": "#EBF0F8"
             },
             "line": {
              "color": "white"
             }
            },
            "header": {
             "fill": {
              "color": "#C8D4E3"
             },
             "line": {
              "color": "white"
             }
            },
            "type": "table"
           }
          ]
         },
         "layout": {
          "annotationdefaults": {
           "arrowcolor": "#2a3f5f",
           "arrowhead": 0,
           "arrowwidth": 1
          },
          "autotypenumbers": "strict",
          "coloraxis": {
           "colorbar": {
            "outlinewidth": 0,
            "ticks": ""
           }
          },
          "colorscale": {
           "diverging": [
            [
             0,
             "#8e0152"
            ],
            [
             0.1,
             "#c51b7d"
            ],
            [
             0.2,
             "#de77ae"
            ],
            [
             0.3,
             "#f1b6da"
            ],
            [
             0.4,
             "#fde0ef"
            ],
            [
             0.5,
             "#f7f7f7"
            ],
            [
             0.6,
             "#e6f5d0"
            ],
            [
             0.7,
             "#b8e186"
            ],
            [
             0.8,
             "#7fbc41"
            ],
            [
             0.9,
             "#4d9221"
            ],
            [
             1,
             "#276419"
            ]
           ],
           "sequential": [
            [
             0,
             "#0d0887"
            ],
            [
             0.1111111111111111,
             "#46039f"
            ],
            [
             0.2222222222222222,
             "#7201a8"
            ],
            [
             0.3333333333333333,
             "#9c179e"
            ],
            [
             0.4444444444444444,
             "#bd3786"
            ],
            [
             0.5555555555555556,
             "#d8576b"
            ],
            [
             0.6666666666666666,
             "#ed7953"
            ],
            [
             0.7777777777777778,
             "#fb9f3a"
            ],
            [
             0.8888888888888888,
             "#fdca26"
            ],
            [
             1,
             "#f0f921"
            ]
           ],
           "sequentialminus": [
            [
             0,
             "#0d0887"
            ],
            [
             0.1111111111111111,
             "#46039f"
            ],
            [
             0.2222222222222222,
             "#7201a8"
            ],
            [
             0.3333333333333333,
             "#9c179e"
            ],
            [
             0.4444444444444444,
             "#bd3786"
            ],
            [
             0.5555555555555556,
             "#d8576b"
            ],
            [
             0.6666666666666666,
             "#ed7953"
            ],
            [
             0.7777777777777778,
             "#fb9f3a"
            ],
            [
             0.8888888888888888,
             "#fdca26"
            ],
            [
             1,
             "#f0f921"
            ]
           ]
          },
          "colorway": [
           "#636efa",
           "#EF553B",
           "#00cc96",
           "#ab63fa",
           "#FFA15A",
           "#19d3f3",
           "#FF6692",
           "#B6E880",
           "#FF97FF",
           "#FECB52"
          ],
          "font": {
           "color": "#2a3f5f"
          },
          "geo": {
           "bgcolor": "white",
           "lakecolor": "white",
           "landcolor": "#E5ECF6",
           "showlakes": true,
           "showland": true,
           "subunitcolor": "white"
          },
          "hoverlabel": {
           "align": "left"
          },
          "hovermode": "closest",
          "mapbox": {
           "style": "light"
          },
          "paper_bgcolor": "white",
          "plot_bgcolor": "#E5ECF6",
          "polar": {
           "angularaxis": {
            "gridcolor": "white",
            "linecolor": "white",
            "ticks": ""
           },
           "bgcolor": "#E5ECF6",
           "radialaxis": {
            "gridcolor": "white",
            "linecolor": "white",
            "ticks": ""
           }
          },
          "scene": {
           "xaxis": {
            "backgroundcolor": "#E5ECF6",
            "gridcolor": "white",
            "gridwidth": 2,
            "linecolor": "white",
            "showbackground": true,
            "ticks": "",
            "zerolinecolor": "white"
           },
           "yaxis": {
            "backgroundcolor": "#E5ECF6",
            "gridcolor": "white",
            "gridwidth": 2,
            "linecolor": "white",
            "showbackground": true,
            "ticks": "",
            "zerolinecolor": "white"
           },
           "zaxis": {
            "backgroundcolor": "#E5ECF6",
            "gridcolor": "white",
            "gridwidth": 2,
            "linecolor": "white",
            "showbackground": true,
            "ticks": "",
            "zerolinecolor": "white"
           }
          },
          "shapedefaults": {
           "line": {
            "color": "#2a3f5f"
           }
          },
          "ternary": {
           "aaxis": {
            "gridcolor": "white",
            "linecolor": "white",
            "ticks": ""
           },
           "baxis": {
            "gridcolor": "white",
            "linecolor": "white",
            "ticks": ""
           },
           "bgcolor": "#E5ECF6",
           "caxis": {
            "gridcolor": "white",
            "linecolor": "white",
            "ticks": ""
           }
          },
          "title": {
           "x": 0.05
          },
          "xaxis": {
           "automargin": true,
           "gridcolor": "white",
           "linecolor": "white",
           "ticks": "",
           "title": {
            "standoff": 15
           },
           "zerolinecolor": "white",
           "zerolinewidth": 2
          },
          "yaxis": {
           "automargin": true,
           "gridcolor": "white",
           "linecolor": "white",
           "ticks": "",
           "title": {
            "standoff": 15
           },
           "zerolinecolor": "white",
           "zerolinewidth": 2
          }
         }
        },
        "title": {
         "text": "Average DNA damage foci in All Nuclei by Tissue Location - cellpdia30_sigma1_dilrad4_dnad_obj_seg_v3_gliaero6_gliathr30_dnadero2"
        },
        "xaxis": {
         "anchor": "y",
         "domain": [
          0,
          1
         ],
         "title": {
          "text": "tissue_location"
         }
        },
        "yaxis": {
         "anchor": "x",
         "domain": [
          0,
          1
         ],
         "title": {
          "text": "avg_dna_damage_foci/all_nuclei"
         }
        }
       }
      }
     },
     "metadata": {},
     "output_type": "display_data"
    },
    {
     "data": {
      "application/vnd.plotly.v1+json": {
       "config": {
        "plotlyServerURL": "https://plot.ly"
       },
       "data": [
        {
         "customdata": [
          [
           101,
           0,
           "DSB GFAP 101_40X_CA1"
          ],
          [
           101,
           1,
           "DSB GFAP 101_40X_CA3"
          ],
          [
           101,
           2,
           "DSB GFAP 101_40X_CTX1"
          ],
          [
           101,
           3,
           "DSB GFAP 101_40X_CTX2"
          ],
          [
           101,
           4,
           "DSB GFAP 101_40X_CTX3"
          ],
          [
           101,
           5,
           "DSB GFAP 101_40X_DG"
          ],
          [
           102,
           6,
           "DSB GFAP 102_40X_CA1"
          ],
          [
           102,
           7,
           "DSB GFAP 102_40X_CA3"
          ],
          [
           102,
           8,
           "DSB GFAP 102_40X_CTX1"
          ],
          [
           102,
           9,
           "DSB GFAP 102_40X_CTX2"
          ],
          [
           102,
           10,
           "DSB GFAP 102_40X_CTX3"
          ],
          [
           102,
           11,
           "DSB GFAP 102_40X_DG"
          ],
          [
           103,
           12,
           "DSB GFAP 103_40X_CA1"
          ],
          [
           103,
           13,
           "DSB GFAP 103_40X_CA3"
          ],
          [
           103,
           14,
           "DSB GFAP 103_40X_CTX1"
          ],
          [
           103,
           15,
           "DSB GFAP 103_40X_CTX2"
          ],
          [
           103,
           16,
           "DSB GFAP 103_40X_CTX3"
          ],
          [
           103,
           17,
           "DSB GFAP 103_40X_DG"
          ],
          [
           104,
           18,
           "DSB GFAP 104_40X_CA1"
          ],
          [
           104,
           19,
           "DSB GFAP 104_40X_CA3"
          ],
          [
           104,
           20,
           "DSB GFAP 104_40X_CTX1"
          ],
          [
           104,
           21,
           "DSB GFAP 104_40X_CTX2"
          ],
          [
           104,
           22,
           "DSB GFAP 104_40X_CTX3"
          ],
          [
           104,
           23,
           "DSB GFAP 104_40X_DG"
          ],
          [
           105,
           24,
           "DSB GFAP 105_40X_CA1"
          ],
          [
           105,
           25,
           "DSB GFAP 105_40X_CA3"
          ],
          [
           105,
           26,
           "DSB GFAP 105_40X_CTX1"
          ],
          [
           105,
           27,
           "DSB GFAP 105_40X_CTX2"
          ],
          [
           105,
           28,
           "DSB GFAP 105_40X_CTX3"
          ],
          [
           105,
           29,
           "DSB GFAP 105_40X_DG"
          ],
          [
           106,
           30,
           "DSB GFAP 106_40X_CA1"
          ],
          [
           106,
           31,
           "DSB GFAP 106_40X_CA3"
          ],
          [
           106,
           32,
           "DSB GFAP 106_40X_CTX1"
          ],
          [
           106,
           33,
           "DSB GFAP 106_40X_CTX2"
          ],
          [
           106,
           34,
           "DSB GFAP 106_40X_CTX3"
          ],
          [
           106,
           35,
           "DSB GFAP 106_40X_DG"
          ],
          [
           107,
           36,
           "DSB GFAP 107_40X_CA1"
          ],
          [
           107,
           37,
           "DSB GFAP 107_40X_CA3"
          ],
          [
           107,
           38,
           "DSB GFAP 107_40X_CTX1"
          ],
          [
           107,
           39,
           "DSB GFAP 107_40X_CTX2"
          ],
          [
           107,
           40,
           "DSB GFAP 107_40X_CTX3"
          ],
          [
           107,
           41,
           "DSB GFAP 107_40X_DG"
          ],
          [
           108,
           42,
           "DSB GFAP 108_40X_CA1"
          ],
          [
           108,
           43,
           "DSB GFAP 108_40X_CA3"
          ],
          [
           108,
           44,
           "DSB GFAP 108_40X_CTX1"
          ],
          [
           108,
           45,
           "DSB GFAP 108_40X_CTX2"
          ],
          [
           108,
           46,
           "DSB GFAP 108_40X_CTX3"
          ],
          [
           108,
           47,
           "DSB GFAP 108_40X_DG"
          ],
          [
           10,
           48,
           "DSB GFAP 10_40X_CA1"
          ],
          [
           10,
           49,
           "DSB GFAP 10_40X_CA3"
          ],
          [
           10,
           50,
           "DSB GFAP 10_40X_CTX1"
          ],
          [
           10,
           51,
           "DSB GFAP 10_40X_CTX2"
          ],
          [
           10,
           52,
           "DSB GFAP 10_40X_CTX3"
          ],
          [
           10,
           53,
           "DSB GFAP 10_40X_DG"
          ],
          [
           11,
           54,
           "DSB GFAP 11_40X_CA1"
          ],
          [
           11,
           55,
           "DSB GFAP 11_40X_CA3"
          ],
          [
           11,
           56,
           "DSB GFAP 11_40X_CTX1"
          ],
          [
           11,
           57,
           "DSB GFAP 11_40X_CTX2"
          ],
          [
           11,
           58,
           "DSB GFAP 11_40X_CTX3"
          ],
          [
           11,
           59,
           "DSB GFAP 11_40X_DG"
          ],
          [
           12,
           60,
           "DSB GFAP 12_40X_CA1"
          ],
          [
           12,
           61,
           "DSB GFAP 12_40X_CA3"
          ],
          [
           12,
           62,
           "DSB GFAP 12_40X_CTX1"
          ],
          [
           12,
           63,
           "DSB GFAP 12_40X_CTX2"
          ],
          [
           12,
           64,
           "DSB GFAP 12_40X_CTX3"
          ],
          [
           12,
           65,
           "DSB GFAP 12_40X_DG"
          ],
          [
           13,
           66,
           "DSB GFAP 13_40X_CA1"
          ],
          [
           13,
           67,
           "DSB GFAP 13_40X_CA3"
          ],
          [
           13,
           68,
           "DSB GFAP 13_40X_CTX1"
          ],
          [
           13,
           69,
           "DSB GFAP 13_40X_CTX2"
          ],
          [
           13,
           70,
           "DSB GFAP 13_40X_CTX3"
          ],
          [
           13,
           71,
           "DSB GFAP 13_40X_DG"
          ],
          [
           14,
           72,
           "DSB GFAP 14_40X_CA1"
          ],
          [
           14,
           73,
           "DSB GFAP 14_40X_CA3"
          ],
          [
           14,
           74,
           "DSB GFAP 14_40X_CTX1"
          ],
          [
           14,
           75,
           "DSB GFAP 14_40X_CTX2"
          ],
          [
           14,
           76,
           "DSB GFAP 14_40X_CTX3"
          ],
          [
           14,
           77,
           "DSB GFAP 14_40X_DG"
          ],
          [
           15,
           78,
           "DSB GFAP 15_40X_CA1"
          ],
          [
           15,
           79,
           "DSB GFAP 15_40X_CA3"
          ],
          [
           15,
           80,
           "DSB GFAP 15_40X_CTX1"
          ],
          [
           15,
           81,
           "DSB GFAP 15_40X_CTX2"
          ],
          [
           15,
           82,
           "DSB GFAP 15_40X_CTX3"
          ],
          [
           15,
           83,
           "DSB GFAP 15_40X_DG"
          ],
          [
           16,
           84,
           "DSB GFAP 16_40X_CA1"
          ],
          [
           16,
           85,
           "DSB GFAP 16_40X_CA3"
          ],
          [
           16,
           86,
           "DSB GFAP 16_40X_CTX1"
          ],
          [
           16,
           87,
           "DSB GFAP 16_40X_CTX2"
          ],
          [
           16,
           88,
           "DSB GFAP 16_40X_CTX3"
          ],
          [
           16,
           89,
           "DSB GFAP 16_40X_DG"
          ],
          [
           18,
           90,
           "DSB GFAP 18_40X_CA1"
          ],
          [
           18,
           91,
           "DSB GFAP 18_40X_CA3"
          ],
          [
           18,
           92,
           "DSB GFAP 18_40X_CTX1"
          ],
          [
           18,
           93,
           "DSB GFAP 18_40X_CTX2"
          ],
          [
           18,
           94,
           "DSB GFAP 18_40X_CTX3"
          ],
          [
           18,
           95,
           "DSB GFAP 18_40X_DG"
          ],
          [
           20,
           96,
           "DSB GFAP 20_40X_CA1"
          ],
          [
           20,
           97,
           "DSB GFAP 20_40X_CA3"
          ],
          [
           20,
           98,
           "DSB GFAP 20_40X_CTX1"
          ],
          [
           20,
           99,
           "DSB GFAP 20_40X_CTX2"
          ],
          [
           20,
           100,
           "DSB GFAP 20_40X_CTX3"
          ],
          [
           20,
           101,
           "DSB GFAP 20_40X_DG"
          ],
          [
           21,
           102,
           "DSB GFAP 21_40X_CA1"
          ],
          [
           21,
           103,
           "DSB GFAP 21_40X_CA3"
          ],
          [
           21,
           104,
           "DSB GFAP 21_40X_CTX1"
          ],
          [
           21,
           105,
           "DSB GFAP 21_40X_CTX2"
          ],
          [
           21,
           106,
           "DSB GFAP 21_40X_CTX3"
          ],
          [
           21,
           107,
           "DSB GFAP 21_40X_DG"
          ],
          [
           22,
           108,
           "DSB GFAP 22_40X_CA1"
          ],
          [
           22,
           109,
           "DSB GFAP 22_40X_CA3"
          ],
          [
           22,
           110,
           "DSB GFAP 22_40X_CTX1"
          ],
          [
           22,
           111,
           "DSB GFAP 22_40X_CTX2"
          ],
          [
           22,
           112,
           "DSB GFAP 22_40X_CTX3"
          ],
          [
           22,
           113,
           "DSB GFAP 22_40X_DG"
          ],
          [
           23,
           114,
           "DSB GFAP 23_40X_DG"
          ],
          [
           24,
           115,
           "DSB GFAP 24_40X_CA1"
          ],
          [
           24,
           116,
           "DSB GFAP 24_40X_CA3"
          ],
          [
           24,
           117,
           "DSB GFAP 24_40X_CTX1"
          ],
          [
           24,
           118,
           "DSB GFAP 24_40X_CTX2"
          ],
          [
           24,
           119,
           "DSB GFAP 24_40X_CTX3"
          ],
          [
           24,
           120,
           "DSB GFAP 24_40X_DG"
          ],
          [
           25,
           121,
           "DSB GFAP 25_40X_CA1"
          ],
          [
           25,
           122,
           "DSB GFAP 25_40X_CA3"
          ],
          [
           25,
           123,
           "DSB GFAP 25_40X_CTX1"
          ],
          [
           25,
           124,
           "DSB GFAP 25_40X_CTX2"
          ],
          [
           25,
           125,
           "DSB GFAP 25_40X_CTX3"
          ],
          [
           25,
           126,
           "DSB GFAP 25_40X_DG"
          ],
          [
           26,
           127,
           "DSB GFAP 26_40X_CA1"
          ],
          [
           26,
           128,
           "DSB GFAP 26_40X_CA3"
          ],
          [
           26,
           129,
           "DSB GFAP 26_40X_CTX1"
          ],
          [
           26,
           130,
           "DSB GFAP 26_40X_CTX2"
          ],
          [
           26,
           131,
           "DSB GFAP 26_40X_CTX3"
          ],
          [
           26,
           132,
           "DSB GFAP 26_40X_DG"
          ],
          [
           27,
           133,
           "DSB GFAP 27_40X_CA1"
          ],
          [
           27,
           134,
           "DSB GFAP 27_40X_CA3"
          ],
          [
           27,
           135,
           "DSB GFAP 27_40X_CTX1"
          ],
          [
           27,
           136,
           "DSB GFAP 27_40X_CTX2"
          ],
          [
           27,
           137,
           "DSB GFAP 27_40X_CTX3"
          ],
          [
           27,
           138,
           "DSB GFAP 27_40X_DG"
          ],
          [
           28,
           139,
           "DSB GFAP 28_40X_CA1"
          ],
          [
           28,
           140,
           "DSB GFAP 28_40X_CA3"
          ],
          [
           28,
           141,
           "DSB GFAP 28_40X_CTX1"
          ],
          [
           28,
           142,
           "DSB GFAP 28_40X_DG"
          ],
          [
           29,
           143,
           "DSB GFAP 29_40X_CA1"
          ],
          [
           29,
           144,
           "DSB GFAP 29_40X_CA3"
          ],
          [
           29,
           145,
           "DSB GFAP 29_40X_CTX1"
          ],
          [
           29,
           146,
           "DSB GFAP 29_40X_CTX2"
          ],
          [
           29,
           147,
           "DSB GFAP 29_40X_CTX3"
          ],
          [
           29,
           148,
           "DSB GFAP 29_40X_DG"
          ],
          [
           30,
           149,
           "DSB GFAP 30_40X_CA1"
          ],
          [
           30,
           150,
           "DSB GFAP 30_40X_CA3"
          ],
          [
           30,
           151,
           "DSB GFAP 30_40X_CTX1"
          ],
          [
           30,
           152,
           "DSB GFAP 30_40X_CTX2"
          ],
          [
           30,
           153,
           "DSB GFAP 30_40X_CTX3"
          ],
          [
           30,
           154,
           "DSB GFAP 30_40X_DG"
          ],
          [
           31,
           155,
           "DSB GFAP 31_40X_DG"
          ],
          [
           32,
           156,
           "DSB GFAP 32_40X_CA1"
          ],
          [
           32,
           157,
           "DSB GFAP 32_40X_CA3"
          ],
          [
           32,
           158,
           "DSB GFAP 32_40X_CTX1"
          ],
          [
           32,
           159,
           "DSB GFAP 32_40X_CTX2"
          ],
          [
           32,
           160,
           "DSB GFAP 32_40X_CTX3"
          ],
          [
           32,
           161,
           "DSB GFAP 32_40X_DG"
          ],
          [
           34,
           162,
           "DSB GFAP 34_40X_CA1"
          ],
          [
           34,
           163,
           "DSB GFAP 34_40X_CA3"
          ],
          [
           34,
           164,
           "DSB GFAP 34_40X_CTX1"
          ],
          [
           34,
           165,
           "DSB GFAP 34_40X_CTX2"
          ],
          [
           34,
           166,
           "DSB GFAP 34_40X_CTX3"
          ],
          [
           34,
           167,
           "DSB GFAP 34_40X_DG"
          ],
          [
           35,
           168,
           "DSB GFAP 35_40X_CA1"
          ],
          [
           35,
           169,
           "DSB GFAP 35_40X_CA3"
          ],
          [
           35,
           170,
           "DSB GFAP 35_40X_CTX1"
          ],
          [
           35,
           171,
           "DSB GFAP 35_40X_CTX2"
          ],
          [
           35,
           172,
           "DSB GFAP 35_40X_CTX3"
          ],
          [
           35,
           173,
           "DSB GFAP 35_40X_DG"
          ],
          [
           36,
           174,
           "DSB GFAP 36_40X_CA1"
          ],
          [
           36,
           175,
           "DSB GFAP 36_40X_CA3"
          ],
          [
           36,
           176,
           "DSB GFAP 36_40X_CTX1"
          ],
          [
           36,
           177,
           "DSB GFAP 36_40X_CTX2"
          ],
          [
           36,
           178,
           "DSB GFAP 36_40X_CTX3"
          ],
          [
           36,
           179,
           "DSB GFAP 36_40X_DG"
          ],
          [
           37,
           180,
           "DSB GFAP 37_40X_CA1"
          ],
          [
           37,
           181,
           "DSB GFAP 37_40X_CA3"
          ],
          [
           37,
           182,
           "DSB GFAP 37_40X_CTX1"
          ],
          [
           37,
           183,
           "DSB GFAP 37_40X_CTX2"
          ],
          [
           37,
           184,
           "DSB GFAP 37_40X_CTX3"
          ],
          [
           37,
           185,
           "DSB GFAP 37_40X_DG"
          ],
          [
           38,
           186,
           "DSB GFAP 38_40X_CA1"
          ],
          [
           38,
           187,
           "DSB GFAP 38_40X_CA3"
          ],
          [
           38,
           188,
           "DSB GFAP 38_40X_CTX1"
          ],
          [
           38,
           189,
           "DSB GFAP 38_40X_CTX2"
          ],
          [
           38,
           190,
           "DSB GFAP 38_40X_CTX3"
          ],
          [
           38,
           191,
           "DSB GFAP 38_40X_DG"
          ],
          [
           39,
           192,
           "DSB GFAP 39_40X_CA1"
          ],
          [
           39,
           193,
           "DSB GFAP 39_40X_CA3"
          ],
          [
           39,
           194,
           "DSB GFAP 39_40X_CTX1"
          ],
          [
           39,
           195,
           "DSB GFAP 39_40X_CTX2"
          ],
          [
           39,
           196,
           "DSB GFAP 39_40X_CTX3"
          ],
          [
           39,
           197,
           "DSB GFAP 39_40X_DG"
          ],
          [
           40,
           198,
           "DSB GFAP 40_40X_CA1"
          ],
          [
           40,
           199,
           "DSB GFAP 40_40X_CA3"
          ],
          [
           40,
           200,
           "DSB GFAP 40_40X_DG"
          ],
          [
           41,
           201,
           "DSB GFAP 41_40X_CA1"
          ],
          [
           41,
           202,
           "DSB GFAP 41_40X_CA3"
          ],
          [
           41,
           203,
           "DSB GFAP 41_40X_CTX1"
          ],
          [
           41,
           204,
           "DSB GFAP 41_40X_CTX2"
          ],
          [
           41,
           205,
           "DSB GFAP 41_40X_CTX3"
          ],
          [
           41,
           206,
           "DSB GFAP 41_40X_DG"
          ],
          [
           43,
           207,
           "DSB GFAP 43_40X_CA1"
          ],
          [
           43,
           208,
           "DSB GFAP 43_40X_CA3"
          ],
          [
           43,
           209,
           "DSB GFAP 43_40X_CTX1"
          ],
          [
           43,
           210,
           "DSB GFAP 43_40X_CTX2"
          ],
          [
           43,
           211,
           "DSB GFAP 43_40X_CTX3"
          ],
          [
           43,
           212,
           "DSB GFAP 43_40X_DG"
          ],
          [
           6,
           213,
           "DSB GFAP 6_40X_CA1"
          ],
          [
           6,
           214,
           "DSB GFAP 6_40X_CA3"
          ],
          [
           6,
           215,
           "DSB GFAP 6_40X_CTX1"
          ],
          [
           6,
           216,
           "DSB GFAP 6_40X_CTX2"
          ],
          [
           6,
           217,
           "DSB GFAP 6_40X_CTX3"
          ],
          [
           6,
           218,
           "DSB GFAP 6_40X_DG"
          ],
          [
           7,
           219,
           "DSB GFAP 7_40X_DG"
          ],
          [
           8,
           220,
           "DSB GFAP 8_40X_CA1"
          ],
          [
           8,
           221,
           "DSB GFAP 8_40X_CA3"
          ],
          [
           8,
           222,
           "DSB GFAP 8_40X_CTX1"
          ],
          [
           8,
           223,
           "DSB GFAP 8_40X_CTX2"
          ],
          [
           8,
           224,
           "DSB GFAP 8_40X_CTX3"
          ],
          [
           8,
           225,
           "DSB GFAP 8_40X_DG"
          ],
          [
           9,
           226,
           "DSB GFAP 9_40X_CA1"
          ],
          [
           9,
           227,
           "DSB GFAP 9_40X_CA3"
          ],
          [
           9,
           228,
           "DSB GFAP 9_40X_CTX1"
          ],
          [
           9,
           229,
           "DSB GFAP 9_40X_CTX2"
          ],
          [
           9,
           230,
           "DSB GFAP 9_40X_CTX3"
          ],
          [
           9,
           231,
           "DSB GFAP 9_40X_DG"
          ]
         ],
         "hovertemplate": "tissue_location=%{x}<br>nr_glia_+_nuclei=%{y}<br>staining_id=%{customdata[0]}<br>index=%{customdata[1]}<br>filename=%{customdata[2]}<extra></extra>",
         "legendgroup": "",
         "marker": {
          "color": "#636efa",
          "symbol": "circle"
         },
         "mode": "markers",
         "name": "",
         "orientation": "v",
         "showlegend": false,
         "type": "scatter",
         "x": [
          "CA1",
          "CA3",
          "CTX1",
          "CTX2",
          "CTX3",
          "DG",
          "CA1",
          "CA3",
          "CTX1",
          "CTX2",
          "CTX3",
          "DG",
          "CA1",
          "CA3",
          "CTX1",
          "CTX2",
          "CTX3",
          "DG",
          "CA1",
          "CA3",
          "CTX1",
          "CTX2",
          "CTX3",
          "DG",
          "CA1",
          "CA3",
          "CTX1",
          "CTX2",
          "CTX3",
          "DG",
          "CA1",
          "CA3",
          "CTX1",
          "CTX2",
          "CTX3",
          "DG",
          "CA1",
          "CA3",
          "CTX1",
          "CTX2",
          "CTX3",
          "DG",
          "CA1",
          "CA3",
          "CTX1",
          "CTX2",
          "CTX3",
          "DG",
          "CA1",
          "CA3",
          "CTX1",
          "CTX2",
          "CTX3",
          "DG",
          "CA1",
          "CA3",
          "CTX1",
          "CTX2",
          "CTX3",
          "DG",
          "CA1",
          "CA3",
          "CTX1",
          "CTX2",
          "CTX3",
          "DG",
          "CA1",
          "CA3",
          "CTX1",
          "CTX2",
          "CTX3",
          "DG",
          "CA1",
          "CA3",
          "CTX1",
          "CTX2",
          "CTX3",
          "DG",
          "CA1",
          "CA3",
          "CTX1",
          "CTX2",
          "CTX3",
          "DG",
          "CA1",
          "CA3",
          "CTX1",
          "CTX2",
          "CTX3",
          "DG",
          "CA1",
          "CA3",
          "CTX1",
          "CTX2",
          "CTX3",
          "DG",
          "CA1",
          "CA3",
          "CTX1",
          "CTX2",
          "CTX3",
          "DG",
          "CA1",
          "CA3",
          "CTX1",
          "CTX2",
          "CTX3",
          "DG",
          "CA1",
          "CA3",
          "CTX1",
          "CTX2",
          "CTX3",
          "DG",
          "DG",
          "CA1",
          "CA3",
          "CTX1",
          "CTX2",
          "CTX3",
          "DG",
          "CA1",
          "CA3",
          "CTX1",
          "CTX2",
          "CTX3",
          "DG",
          "CA1",
          "CA3",
          "CTX1",
          "CTX2",
          "CTX3",
          "DG",
          "CA1",
          "CA3",
          "CTX1",
          "CTX2",
          "CTX3",
          "DG",
          "CA1",
          "CA3",
          "CTX1",
          "DG",
          "CA1",
          "CA3",
          "CTX1",
          "CTX2",
          "CTX3",
          "DG",
          "CA1",
          "CA3",
          "CTX1",
          "CTX2",
          "CTX3",
          "DG",
          "DG",
          "CA1",
          "CA3",
          "CTX1",
          "CTX2",
          "CTX3",
          "DG",
          "CA1",
          "CA3",
          "CTX1",
          "CTX2",
          "CTX3",
          "DG",
          "CA1",
          "CA3",
          "CTX1",
          "CTX2",
          "CTX3",
          "DG",
          "CA1",
          "CA3",
          "CTX1",
          "CTX2",
          "CTX3",
          "DG",
          "CA1",
          "CA3",
          "CTX1",
          "CTX2",
          "CTX3",
          "DG",
          "CA1",
          "CA3",
          "CTX1",
          "CTX2",
          "CTX3",
          "DG",
          "CA1",
          "CA3",
          "CTX1",
          "CTX2",
          "CTX3",
          "DG",
          "CA1",
          "CA3",
          "DG",
          "CA1",
          "CA3",
          "CTX1",
          "CTX2",
          "CTX3",
          "DG",
          "CA1",
          "CA3",
          "CTX1",
          "CTX2",
          "CTX3",
          "DG",
          "CA1",
          "CA3",
          "CTX1",
          "CTX2",
          "CTX3",
          "DG",
          "DG",
          "CA1",
          "CA3",
          "CTX1",
          "CTX2",
          "CTX3",
          "DG",
          "CA1",
          "CA3",
          "CTX1",
          "CTX2",
          "CTX3",
          "DG"
         ],
         "xaxis": "x",
         "y": [
          16,
          7,
          16,
          18,
          9,
          17,
          13,
          13,
          12,
          16,
          20,
          13,
          10,
          13,
          6,
          15,
          6,
          14,
          9,
          16,
          13,
          14,
          3,
          10,
          25,
          10,
          4,
          17,
          8,
          18,
          6,
          19,
          6,
          20,
          11,
          15,
          9,
          10,
          10,
          11,
          13,
          21,
          10,
          7,
          14,
          9,
          13,
          10,
          0,
          7,
          0,
          3,
          4,
          6,
          10,
          8,
          7,
          6,
          6,
          6,
          7,
          2,
          4,
          1,
          2,
          22,
          3,
          6,
          8,
          6,
          4,
          18,
          10,
          5,
          8,
          13,
          5,
          23,
          10,
          8,
          3,
          10,
          7,
          2,
          7,
          6,
          10,
          8,
          0,
          10,
          9,
          9,
          2,
          13,
          16,
          22,
          1,
          10,
          1,
          14,
          15,
          7,
          1,
          3,
          1,
          3,
          1,
          4,
          3,
          1,
          3,
          3,
          0,
          2,
          17,
          1,
          9,
          11,
          11,
          8,
          22,
          3,
          2,
          3,
          1,
          16,
          4,
          21,
          4,
          4,
          7,
          5,
          12,
          10,
          19,
          17,
          12,
          5,
          15,
          6,
          6,
          0,
          10,
          12,
          1,
          6,
          2,
          1,
          12,
          7,
          4,
          4,
          1,
          0,
          11,
          0,
          4,
          7,
          4,
          2,
          5,
          5,
          6,
          13,
          5,
          14,
          5,
          12,
          8,
          2,
          6,
          8,
          9,
          19,
          5,
          3,
          11,
          3,
          9,
          7,
          4,
          2,
          2,
          7,
          2,
          7,
          4,
          0,
          4,
          3,
          1,
          4,
          3,
          5,
          4,
          2,
          3,
          16,
          21,
          9,
          18,
          6,
          2,
          7,
          8,
          5,
          9,
          11,
          7,
          5,
          10,
          5,
          6,
          27,
          11,
          21,
          8,
          23,
          20,
          5,
          15,
          8,
          14,
          4,
          9,
          17,
          20,
          20,
          19,
          16,
          15,
          27
         ],
         "yaxis": "y"
        }
       ],
       "layout": {
        "legend": {
         "tracegroupgap": 0
        },
        "template": {
         "data": {
          "bar": [
           {
            "error_x": {
             "color": "#2a3f5f"
            },
            "error_y": {
             "color": "#2a3f5f"
            },
            "marker": {
             "line": {
              "color": "#E5ECF6",
              "width": 0.5
             },
             "pattern": {
              "fillmode": "overlay",
              "size": 10,
              "solidity": 0.2
             }
            },
            "type": "bar"
           }
          ],
          "barpolar": [
           {
            "marker": {
             "line": {
              "color": "#E5ECF6",
              "width": 0.5
             },
             "pattern": {
              "fillmode": "overlay",
              "size": 10,
              "solidity": 0.2
             }
            },
            "type": "barpolar"
           }
          ],
          "carpet": [
           {
            "aaxis": {
             "endlinecolor": "#2a3f5f",
             "gridcolor": "white",
             "linecolor": "white",
             "minorgridcolor": "white",
             "startlinecolor": "#2a3f5f"
            },
            "baxis": {
             "endlinecolor": "#2a3f5f",
             "gridcolor": "white",
             "linecolor": "white",
             "minorgridcolor": "white",
             "startlinecolor": "#2a3f5f"
            },
            "type": "carpet"
           }
          ],
          "choropleth": [
           {
            "colorbar": {
             "outlinewidth": 0,
             "ticks": ""
            },
            "type": "choropleth"
           }
          ],
          "contour": [
           {
            "colorbar": {
             "outlinewidth": 0,
             "ticks": ""
            },
            "colorscale": [
             [
              0,
              "#0d0887"
             ],
             [
              0.1111111111111111,
              "#46039f"
             ],
             [
              0.2222222222222222,
              "#7201a8"
             ],
             [
              0.3333333333333333,
              "#9c179e"
             ],
             [
              0.4444444444444444,
              "#bd3786"
             ],
             [
              0.5555555555555556,
              "#d8576b"
             ],
             [
              0.6666666666666666,
              "#ed7953"
             ],
             [
              0.7777777777777778,
              "#fb9f3a"
             ],
             [
              0.8888888888888888,
              "#fdca26"
             ],
             [
              1,
              "#f0f921"
             ]
            ],
            "type": "contour"
           }
          ],
          "contourcarpet": [
           {
            "colorbar": {
             "outlinewidth": 0,
             "ticks": ""
            },
            "type": "contourcarpet"
           }
          ],
          "heatmap": [
           {
            "colorbar": {
             "outlinewidth": 0,
             "ticks": ""
            },
            "colorscale": [
             [
              0,
              "#0d0887"
             ],
             [
              0.1111111111111111,
              "#46039f"
             ],
             [
              0.2222222222222222,
              "#7201a8"
             ],
             [
              0.3333333333333333,
              "#9c179e"
             ],
             [
              0.4444444444444444,
              "#bd3786"
             ],
             [
              0.5555555555555556,
              "#d8576b"
             ],
             [
              0.6666666666666666,
              "#ed7953"
             ],
             [
              0.7777777777777778,
              "#fb9f3a"
             ],
             [
              0.8888888888888888,
              "#fdca26"
             ],
             [
              1,
              "#f0f921"
             ]
            ],
            "type": "heatmap"
           }
          ],
          "heatmapgl": [
           {
            "colorbar": {
             "outlinewidth": 0,
             "ticks": ""
            },
            "colorscale": [
             [
              0,
              "#0d0887"
             ],
             [
              0.1111111111111111,
              "#46039f"
             ],
             [
              0.2222222222222222,
              "#7201a8"
             ],
             [
              0.3333333333333333,
              "#9c179e"
             ],
             [
              0.4444444444444444,
              "#bd3786"
             ],
             [
              0.5555555555555556,
              "#d8576b"
             ],
             [
              0.6666666666666666,
              "#ed7953"
             ],
             [
              0.7777777777777778,
              "#fb9f3a"
             ],
             [
              0.8888888888888888,
              "#fdca26"
             ],
             [
              1,
              "#f0f921"
             ]
            ],
            "type": "heatmapgl"
           }
          ],
          "histogram": [
           {
            "marker": {
             "pattern": {
              "fillmode": "overlay",
              "size": 10,
              "solidity": 0.2
             }
            },
            "type": "histogram"
           }
          ],
          "histogram2d": [
           {
            "colorbar": {
             "outlinewidth": 0,
             "ticks": ""
            },
            "colorscale": [
             [
              0,
              "#0d0887"
             ],
             [
              0.1111111111111111,
              "#46039f"
             ],
             [
              0.2222222222222222,
              "#7201a8"
             ],
             [
              0.3333333333333333,
              "#9c179e"
             ],
             [
              0.4444444444444444,
              "#bd3786"
             ],
             [
              0.5555555555555556,
              "#d8576b"
             ],
             [
              0.6666666666666666,
              "#ed7953"
             ],
             [
              0.7777777777777778,
              "#fb9f3a"
             ],
             [
              0.8888888888888888,
              "#fdca26"
             ],
             [
              1,
              "#f0f921"
             ]
            ],
            "type": "histogram2d"
           }
          ],
          "histogram2dcontour": [
           {
            "colorbar": {
             "outlinewidth": 0,
             "ticks": ""
            },
            "colorscale": [
             [
              0,
              "#0d0887"
             ],
             [
              0.1111111111111111,
              "#46039f"
             ],
             [
              0.2222222222222222,
              "#7201a8"
             ],
             [
              0.3333333333333333,
              "#9c179e"
             ],
             [
              0.4444444444444444,
              "#bd3786"
             ],
             [
              0.5555555555555556,
              "#d8576b"
             ],
             [
              0.6666666666666666,
              "#ed7953"
             ],
             [
              0.7777777777777778,
              "#fb9f3a"
             ],
             [
              0.8888888888888888,
              "#fdca26"
             ],
             [
              1,
              "#f0f921"
             ]
            ],
            "type": "histogram2dcontour"
           }
          ],
          "mesh3d": [
           {
            "colorbar": {
             "outlinewidth": 0,
             "ticks": ""
            },
            "type": "mesh3d"
           }
          ],
          "parcoords": [
           {
            "line": {
             "colorbar": {
              "outlinewidth": 0,
              "ticks": ""
             }
            },
            "type": "parcoords"
           }
          ],
          "pie": [
           {
            "automargin": true,
            "type": "pie"
           }
          ],
          "scatter": [
           {
            "fillpattern": {
             "fillmode": "overlay",
             "size": 10,
             "solidity": 0.2
            },
            "type": "scatter"
           }
          ],
          "scatter3d": [
           {
            "line": {
             "colorbar": {
              "outlinewidth": 0,
              "ticks": ""
             }
            },
            "marker": {
             "colorbar": {
              "outlinewidth": 0,
              "ticks": ""
             }
            },
            "type": "scatter3d"
           }
          ],
          "scattercarpet": [
           {
            "marker": {
             "colorbar": {
              "outlinewidth": 0,
              "ticks": ""
             }
            },
            "type": "scattercarpet"
           }
          ],
          "scattergeo": [
           {
            "marker": {
             "colorbar": {
              "outlinewidth": 0,
              "ticks": ""
             }
            },
            "type": "scattergeo"
           }
          ],
          "scattergl": [
           {
            "marker": {
             "colorbar": {
              "outlinewidth": 0,
              "ticks": ""
             }
            },
            "type": "scattergl"
           }
          ],
          "scattermapbox": [
           {
            "marker": {
             "colorbar": {
              "outlinewidth": 0,
              "ticks": ""
             }
            },
            "type": "scattermapbox"
           }
          ],
          "scatterpolar": [
           {
            "marker": {
             "colorbar": {
              "outlinewidth": 0,
              "ticks": ""
             }
            },
            "type": "scatterpolar"
           }
          ],
          "scatterpolargl": [
           {
            "marker": {
             "colorbar": {
              "outlinewidth": 0,
              "ticks": ""
             }
            },
            "type": "scatterpolargl"
           }
          ],
          "scatterternary": [
           {
            "marker": {
             "colorbar": {
              "outlinewidth": 0,
              "ticks": ""
             }
            },
            "type": "scatterternary"
           }
          ],
          "surface": [
           {
            "colorbar": {
             "outlinewidth": 0,
             "ticks": ""
            },
            "colorscale": [
             [
              0,
              "#0d0887"
             ],
             [
              0.1111111111111111,
              "#46039f"
             ],
             [
              0.2222222222222222,
              "#7201a8"
             ],
             [
              0.3333333333333333,
              "#9c179e"
             ],
             [
              0.4444444444444444,
              "#bd3786"
             ],
             [
              0.5555555555555556,
              "#d8576b"
             ],
             [
              0.6666666666666666,
              "#ed7953"
             ],
             [
              0.7777777777777778,
              "#fb9f3a"
             ],
             [
              0.8888888888888888,
              "#fdca26"
             ],
             [
              1,
              "#f0f921"
             ]
            ],
            "type": "surface"
           }
          ],
          "table": [
           {
            "cells": {
             "fill": {
              "color": "#EBF0F8"
             },
             "line": {
              "color": "white"
             }
            },
            "header": {
             "fill": {
              "color": "#C8D4E3"
             },
             "line": {
              "color": "white"
             }
            },
            "type": "table"
           }
          ]
         },
         "layout": {
          "annotationdefaults": {
           "arrowcolor": "#2a3f5f",
           "arrowhead": 0,
           "arrowwidth": 1
          },
          "autotypenumbers": "strict",
          "coloraxis": {
           "colorbar": {
            "outlinewidth": 0,
            "ticks": ""
           }
          },
          "colorscale": {
           "diverging": [
            [
             0,
             "#8e0152"
            ],
            [
             0.1,
             "#c51b7d"
            ],
            [
             0.2,
             "#de77ae"
            ],
            [
             0.3,
             "#f1b6da"
            ],
            [
             0.4,
             "#fde0ef"
            ],
            [
             0.5,
             "#f7f7f7"
            ],
            [
             0.6,
             "#e6f5d0"
            ],
            [
             0.7,
             "#b8e186"
            ],
            [
             0.8,
             "#7fbc41"
            ],
            [
             0.9,
             "#4d9221"
            ],
            [
             1,
             "#276419"
            ]
           ],
           "sequential": [
            [
             0,
             "#0d0887"
            ],
            [
             0.1111111111111111,
             "#46039f"
            ],
            [
             0.2222222222222222,
             "#7201a8"
            ],
            [
             0.3333333333333333,
             "#9c179e"
            ],
            [
             0.4444444444444444,
             "#bd3786"
            ],
            [
             0.5555555555555556,
             "#d8576b"
            ],
            [
             0.6666666666666666,
             "#ed7953"
            ],
            [
             0.7777777777777778,
             "#fb9f3a"
            ],
            [
             0.8888888888888888,
             "#fdca26"
            ],
            [
             1,
             "#f0f921"
            ]
           ],
           "sequentialminus": [
            [
             0,
             "#0d0887"
            ],
            [
             0.1111111111111111,
             "#46039f"
            ],
            [
             0.2222222222222222,
             "#7201a8"
            ],
            [
             0.3333333333333333,
             "#9c179e"
            ],
            [
             0.4444444444444444,
             "#bd3786"
            ],
            [
             0.5555555555555556,
             "#d8576b"
            ],
            [
             0.6666666666666666,
             "#ed7953"
            ],
            [
             0.7777777777777778,
             "#fb9f3a"
            ],
            [
             0.8888888888888888,
             "#fdca26"
            ],
            [
             1,
             "#f0f921"
            ]
           ]
          },
          "colorway": [
           "#636efa",
           "#EF553B",
           "#00cc96",
           "#ab63fa",
           "#FFA15A",
           "#19d3f3",
           "#FF6692",
           "#B6E880",
           "#FF97FF",
           "#FECB52"
          ],
          "font": {
           "color": "#2a3f5f"
          },
          "geo": {
           "bgcolor": "white",
           "lakecolor": "white",
           "landcolor": "#E5ECF6",
           "showlakes": true,
           "showland": true,
           "subunitcolor": "white"
          },
          "hoverlabel": {
           "align": "left"
          },
          "hovermode": "closest",
          "mapbox": {
           "style": "light"
          },
          "paper_bgcolor": "white",
          "plot_bgcolor": "#E5ECF6",
          "polar": {
           "angularaxis": {
            "gridcolor": "white",
            "linecolor": "white",
            "ticks": ""
           },
           "bgcolor": "#E5ECF6",
           "radialaxis": {
            "gridcolor": "white",
            "linecolor": "white",
            "ticks": ""
           }
          },
          "scene": {
           "xaxis": {
            "backgroundcolor": "#E5ECF6",
            "gridcolor": "white",
            "gridwidth": 2,
            "linecolor": "white",
            "showbackground": true,
            "ticks": "",
            "zerolinecolor": "white"
           },
           "yaxis": {
            "backgroundcolor": "#E5ECF6",
            "gridcolor": "white",
            "gridwidth": 2,
            "linecolor": "white",
            "showbackground": true,
            "ticks": "",
            "zerolinecolor": "white"
           },
           "zaxis": {
            "backgroundcolor": "#E5ECF6",
            "gridcolor": "white",
            "gridwidth": 2,
            "linecolor": "white",
            "showbackground": true,
            "ticks": "",
            "zerolinecolor": "white"
           }
          },
          "shapedefaults": {
           "line": {
            "color": "#2a3f5f"
           }
          },
          "ternary": {
           "aaxis": {
            "gridcolor": "white",
            "linecolor": "white",
            "ticks": ""
           },
           "baxis": {
            "gridcolor": "white",
            "linecolor": "white",
            "ticks": ""
           },
           "bgcolor": "#E5ECF6",
           "caxis": {
            "gridcolor": "white",
            "linecolor": "white",
            "ticks": ""
           }
          },
          "title": {
           "x": 0.05
          },
          "xaxis": {
           "automargin": true,
           "gridcolor": "white",
           "linecolor": "white",
           "ticks": "",
           "title": {
            "standoff": 15
           },
           "zerolinecolor": "white",
           "zerolinewidth": 2
          },
          "yaxis": {
           "automargin": true,
           "gridcolor": "white",
           "linecolor": "white",
           "ticks": "",
           "title": {
            "standoff": 15
           },
           "zerolinecolor": "white",
           "zerolinewidth": 2
          }
         }
        },
        "title": {
         "text": "Nr of Astrocyte+ nuclei by Tissue Location - cellpdia30_sigma1_dilrad4_dnad_obj_seg_v3_gliaero6_gliathr30_dnadero2"
        },
        "xaxis": {
         "anchor": "y",
         "domain": [
          0,
          1
         ],
         "title": {
          "text": "tissue_location"
         }
        },
        "yaxis": {
         "anchor": "x",
         "domain": [
          0,
          1
         ],
         "title": {
          "text": "nr_glia_+_nuclei"
         }
        }
       }
      }
     },
     "metadata": {},
     "output_type": "display_data"
    },
    {
     "data": {
      "application/vnd.plotly.v1+json": {
       "config": {
        "plotlyServerURL": "https://plot.ly"
       },
       "data": [
        {
         "customdata": [
          [
           101,
           0,
           "DSB GFAP 101_40X_CA1"
          ],
          [
           101,
           1,
           "DSB GFAP 101_40X_CA3"
          ],
          [
           101,
           2,
           "DSB GFAP 101_40X_CTX1"
          ],
          [
           101,
           3,
           "DSB GFAP 101_40X_CTX2"
          ],
          [
           101,
           4,
           "DSB GFAP 101_40X_CTX3"
          ],
          [
           101,
           5,
           "DSB GFAP 101_40X_DG"
          ],
          [
           102,
           6,
           "DSB GFAP 102_40X_CA1"
          ],
          [
           102,
           7,
           "DSB GFAP 102_40X_CA3"
          ],
          [
           102,
           8,
           "DSB GFAP 102_40X_CTX1"
          ],
          [
           102,
           9,
           "DSB GFAP 102_40X_CTX2"
          ],
          [
           102,
           10,
           "DSB GFAP 102_40X_CTX3"
          ],
          [
           102,
           11,
           "DSB GFAP 102_40X_DG"
          ],
          [
           103,
           12,
           "DSB GFAP 103_40X_CA1"
          ],
          [
           103,
           13,
           "DSB GFAP 103_40X_CA3"
          ],
          [
           103,
           14,
           "DSB GFAP 103_40X_CTX1"
          ],
          [
           103,
           15,
           "DSB GFAP 103_40X_CTX2"
          ],
          [
           103,
           16,
           "DSB GFAP 103_40X_CTX3"
          ],
          [
           103,
           17,
           "DSB GFAP 103_40X_DG"
          ],
          [
           104,
           18,
           "DSB GFAP 104_40X_CA1"
          ],
          [
           104,
           19,
           "DSB GFAP 104_40X_CA3"
          ],
          [
           104,
           20,
           "DSB GFAP 104_40X_CTX1"
          ],
          [
           104,
           21,
           "DSB GFAP 104_40X_CTX2"
          ],
          [
           104,
           22,
           "DSB GFAP 104_40X_CTX3"
          ],
          [
           104,
           23,
           "DSB GFAP 104_40X_DG"
          ],
          [
           105,
           24,
           "DSB GFAP 105_40X_CA1"
          ],
          [
           105,
           25,
           "DSB GFAP 105_40X_CA3"
          ],
          [
           105,
           26,
           "DSB GFAP 105_40X_CTX1"
          ],
          [
           105,
           27,
           "DSB GFAP 105_40X_CTX2"
          ],
          [
           105,
           28,
           "DSB GFAP 105_40X_CTX3"
          ],
          [
           105,
           29,
           "DSB GFAP 105_40X_DG"
          ],
          [
           106,
           30,
           "DSB GFAP 106_40X_CA1"
          ],
          [
           106,
           31,
           "DSB GFAP 106_40X_CA3"
          ],
          [
           106,
           32,
           "DSB GFAP 106_40X_CTX1"
          ],
          [
           106,
           33,
           "DSB GFAP 106_40X_CTX2"
          ],
          [
           106,
           34,
           "DSB GFAP 106_40X_CTX3"
          ],
          [
           106,
           35,
           "DSB GFAP 106_40X_DG"
          ],
          [
           107,
           36,
           "DSB GFAP 107_40X_CA1"
          ],
          [
           107,
           37,
           "DSB GFAP 107_40X_CA3"
          ],
          [
           107,
           38,
           "DSB GFAP 107_40X_CTX1"
          ],
          [
           107,
           39,
           "DSB GFAP 107_40X_CTX2"
          ],
          [
           107,
           40,
           "DSB GFAP 107_40X_CTX3"
          ],
          [
           107,
           41,
           "DSB GFAP 107_40X_DG"
          ],
          [
           108,
           42,
           "DSB GFAP 108_40X_CA1"
          ],
          [
           108,
           43,
           "DSB GFAP 108_40X_CA3"
          ],
          [
           108,
           44,
           "DSB GFAP 108_40X_CTX1"
          ],
          [
           108,
           45,
           "DSB GFAP 108_40X_CTX2"
          ],
          [
           108,
           46,
           "DSB GFAP 108_40X_CTX3"
          ],
          [
           108,
           47,
           "DSB GFAP 108_40X_DG"
          ],
          [
           10,
           48,
           "DSB GFAP 10_40X_CA1"
          ],
          [
           10,
           49,
           "DSB GFAP 10_40X_CA3"
          ],
          [
           10,
           50,
           "DSB GFAP 10_40X_CTX1"
          ],
          [
           10,
           51,
           "DSB GFAP 10_40X_CTX2"
          ],
          [
           10,
           52,
           "DSB GFAP 10_40X_CTX3"
          ],
          [
           10,
           53,
           "DSB GFAP 10_40X_DG"
          ],
          [
           11,
           54,
           "DSB GFAP 11_40X_CA1"
          ],
          [
           11,
           55,
           "DSB GFAP 11_40X_CA3"
          ],
          [
           11,
           56,
           "DSB GFAP 11_40X_CTX1"
          ],
          [
           11,
           57,
           "DSB GFAP 11_40X_CTX2"
          ],
          [
           11,
           58,
           "DSB GFAP 11_40X_CTX3"
          ],
          [
           11,
           59,
           "DSB GFAP 11_40X_DG"
          ],
          [
           12,
           60,
           "DSB GFAP 12_40X_CA1"
          ],
          [
           12,
           61,
           "DSB GFAP 12_40X_CA3"
          ],
          [
           12,
           62,
           "DSB GFAP 12_40X_CTX1"
          ],
          [
           12,
           63,
           "DSB GFAP 12_40X_CTX2"
          ],
          [
           12,
           64,
           "DSB GFAP 12_40X_CTX3"
          ],
          [
           12,
           65,
           "DSB GFAP 12_40X_DG"
          ],
          [
           13,
           66,
           "DSB GFAP 13_40X_CA1"
          ],
          [
           13,
           67,
           "DSB GFAP 13_40X_CA3"
          ],
          [
           13,
           68,
           "DSB GFAP 13_40X_CTX1"
          ],
          [
           13,
           69,
           "DSB GFAP 13_40X_CTX2"
          ],
          [
           13,
           70,
           "DSB GFAP 13_40X_CTX3"
          ],
          [
           13,
           71,
           "DSB GFAP 13_40X_DG"
          ],
          [
           14,
           72,
           "DSB GFAP 14_40X_CA1"
          ],
          [
           14,
           73,
           "DSB GFAP 14_40X_CA3"
          ],
          [
           14,
           74,
           "DSB GFAP 14_40X_CTX1"
          ],
          [
           14,
           75,
           "DSB GFAP 14_40X_CTX2"
          ],
          [
           14,
           76,
           "DSB GFAP 14_40X_CTX3"
          ],
          [
           14,
           77,
           "DSB GFAP 14_40X_DG"
          ],
          [
           15,
           78,
           "DSB GFAP 15_40X_CA1"
          ],
          [
           15,
           79,
           "DSB GFAP 15_40X_CA3"
          ],
          [
           15,
           80,
           "DSB GFAP 15_40X_CTX1"
          ],
          [
           15,
           81,
           "DSB GFAP 15_40X_CTX2"
          ],
          [
           15,
           82,
           "DSB GFAP 15_40X_CTX3"
          ],
          [
           15,
           83,
           "DSB GFAP 15_40X_DG"
          ],
          [
           16,
           84,
           "DSB GFAP 16_40X_CA1"
          ],
          [
           16,
           85,
           "DSB GFAP 16_40X_CA3"
          ],
          [
           16,
           86,
           "DSB GFAP 16_40X_CTX1"
          ],
          [
           16,
           87,
           "DSB GFAP 16_40X_CTX2"
          ],
          [
           16,
           88,
           "DSB GFAP 16_40X_CTX3"
          ],
          [
           16,
           89,
           "DSB GFAP 16_40X_DG"
          ],
          [
           18,
           90,
           "DSB GFAP 18_40X_CA1"
          ],
          [
           18,
           91,
           "DSB GFAP 18_40X_CA3"
          ],
          [
           18,
           92,
           "DSB GFAP 18_40X_CTX1"
          ],
          [
           18,
           93,
           "DSB GFAP 18_40X_CTX2"
          ],
          [
           18,
           94,
           "DSB GFAP 18_40X_CTX3"
          ],
          [
           18,
           95,
           "DSB GFAP 18_40X_DG"
          ],
          [
           20,
           96,
           "DSB GFAP 20_40X_CA1"
          ],
          [
           20,
           97,
           "DSB GFAP 20_40X_CA3"
          ],
          [
           20,
           98,
           "DSB GFAP 20_40X_CTX1"
          ],
          [
           20,
           99,
           "DSB GFAP 20_40X_CTX2"
          ],
          [
           20,
           100,
           "DSB GFAP 20_40X_CTX3"
          ],
          [
           20,
           101,
           "DSB GFAP 20_40X_DG"
          ],
          [
           21,
           102,
           "DSB GFAP 21_40X_CA1"
          ],
          [
           21,
           103,
           "DSB GFAP 21_40X_CA3"
          ],
          [
           21,
           104,
           "DSB GFAP 21_40X_CTX1"
          ],
          [
           21,
           105,
           "DSB GFAP 21_40X_CTX2"
          ],
          [
           21,
           106,
           "DSB GFAP 21_40X_CTX3"
          ],
          [
           21,
           107,
           "DSB GFAP 21_40X_DG"
          ],
          [
           22,
           108,
           "DSB GFAP 22_40X_CA1"
          ],
          [
           22,
           109,
           "DSB GFAP 22_40X_CA3"
          ],
          [
           22,
           110,
           "DSB GFAP 22_40X_CTX1"
          ],
          [
           22,
           111,
           "DSB GFAP 22_40X_CTX2"
          ],
          [
           22,
           112,
           "DSB GFAP 22_40X_CTX3"
          ],
          [
           22,
           113,
           "DSB GFAP 22_40X_DG"
          ],
          [
           23,
           114,
           "DSB GFAP 23_40X_DG"
          ],
          [
           24,
           115,
           "DSB GFAP 24_40X_CA1"
          ],
          [
           24,
           116,
           "DSB GFAP 24_40X_CA3"
          ],
          [
           24,
           117,
           "DSB GFAP 24_40X_CTX1"
          ],
          [
           24,
           118,
           "DSB GFAP 24_40X_CTX2"
          ],
          [
           24,
           119,
           "DSB GFAP 24_40X_CTX3"
          ],
          [
           24,
           120,
           "DSB GFAP 24_40X_DG"
          ],
          [
           25,
           121,
           "DSB GFAP 25_40X_CA1"
          ],
          [
           25,
           122,
           "DSB GFAP 25_40X_CA3"
          ],
          [
           25,
           123,
           "DSB GFAP 25_40X_CTX1"
          ],
          [
           25,
           124,
           "DSB GFAP 25_40X_CTX2"
          ],
          [
           25,
           125,
           "DSB GFAP 25_40X_CTX3"
          ],
          [
           25,
           126,
           "DSB GFAP 25_40X_DG"
          ],
          [
           26,
           127,
           "DSB GFAP 26_40X_CA1"
          ],
          [
           26,
           128,
           "DSB GFAP 26_40X_CA3"
          ],
          [
           26,
           129,
           "DSB GFAP 26_40X_CTX1"
          ],
          [
           26,
           130,
           "DSB GFAP 26_40X_CTX2"
          ],
          [
           26,
           131,
           "DSB GFAP 26_40X_CTX3"
          ],
          [
           26,
           132,
           "DSB GFAP 26_40X_DG"
          ],
          [
           27,
           133,
           "DSB GFAP 27_40X_CA1"
          ],
          [
           27,
           134,
           "DSB GFAP 27_40X_CA3"
          ],
          [
           27,
           135,
           "DSB GFAP 27_40X_CTX1"
          ],
          [
           27,
           136,
           "DSB GFAP 27_40X_CTX2"
          ],
          [
           27,
           137,
           "DSB GFAP 27_40X_CTX3"
          ],
          [
           27,
           138,
           "DSB GFAP 27_40X_DG"
          ],
          [
           28,
           139,
           "DSB GFAP 28_40X_CA1"
          ],
          [
           28,
           140,
           "DSB GFAP 28_40X_CA3"
          ],
          [
           28,
           141,
           "DSB GFAP 28_40X_CTX1"
          ],
          [
           28,
           142,
           "DSB GFAP 28_40X_DG"
          ],
          [
           29,
           143,
           "DSB GFAP 29_40X_CA1"
          ],
          [
           29,
           144,
           "DSB GFAP 29_40X_CA3"
          ],
          [
           29,
           145,
           "DSB GFAP 29_40X_CTX1"
          ],
          [
           29,
           146,
           "DSB GFAP 29_40X_CTX2"
          ],
          [
           29,
           147,
           "DSB GFAP 29_40X_CTX3"
          ],
          [
           29,
           148,
           "DSB GFAP 29_40X_DG"
          ],
          [
           30,
           149,
           "DSB GFAP 30_40X_CA1"
          ],
          [
           30,
           150,
           "DSB GFAP 30_40X_CA3"
          ],
          [
           30,
           151,
           "DSB GFAP 30_40X_CTX1"
          ],
          [
           30,
           152,
           "DSB GFAP 30_40X_CTX2"
          ],
          [
           30,
           153,
           "DSB GFAP 30_40X_CTX3"
          ],
          [
           30,
           154,
           "DSB GFAP 30_40X_DG"
          ],
          [
           31,
           155,
           "DSB GFAP 31_40X_DG"
          ],
          [
           32,
           156,
           "DSB GFAP 32_40X_CA1"
          ],
          [
           32,
           157,
           "DSB GFAP 32_40X_CA3"
          ],
          [
           32,
           158,
           "DSB GFAP 32_40X_CTX1"
          ],
          [
           32,
           159,
           "DSB GFAP 32_40X_CTX2"
          ],
          [
           32,
           160,
           "DSB GFAP 32_40X_CTX3"
          ],
          [
           32,
           161,
           "DSB GFAP 32_40X_DG"
          ],
          [
           34,
           162,
           "DSB GFAP 34_40X_CA1"
          ],
          [
           34,
           163,
           "DSB GFAP 34_40X_CA3"
          ],
          [
           34,
           164,
           "DSB GFAP 34_40X_CTX1"
          ],
          [
           34,
           165,
           "DSB GFAP 34_40X_CTX2"
          ],
          [
           34,
           166,
           "DSB GFAP 34_40X_CTX3"
          ],
          [
           34,
           167,
           "DSB GFAP 34_40X_DG"
          ],
          [
           35,
           168,
           "DSB GFAP 35_40X_CA1"
          ],
          [
           35,
           169,
           "DSB GFAP 35_40X_CA3"
          ],
          [
           35,
           170,
           "DSB GFAP 35_40X_CTX1"
          ],
          [
           35,
           171,
           "DSB GFAP 35_40X_CTX2"
          ],
          [
           35,
           172,
           "DSB GFAP 35_40X_CTX3"
          ],
          [
           35,
           173,
           "DSB GFAP 35_40X_DG"
          ],
          [
           36,
           174,
           "DSB GFAP 36_40X_CA1"
          ],
          [
           36,
           175,
           "DSB GFAP 36_40X_CA3"
          ],
          [
           36,
           176,
           "DSB GFAP 36_40X_CTX1"
          ],
          [
           36,
           177,
           "DSB GFAP 36_40X_CTX2"
          ],
          [
           36,
           178,
           "DSB GFAP 36_40X_CTX3"
          ],
          [
           36,
           179,
           "DSB GFAP 36_40X_DG"
          ],
          [
           37,
           180,
           "DSB GFAP 37_40X_CA1"
          ],
          [
           37,
           181,
           "DSB GFAP 37_40X_CA3"
          ],
          [
           37,
           182,
           "DSB GFAP 37_40X_CTX1"
          ],
          [
           37,
           183,
           "DSB GFAP 37_40X_CTX2"
          ],
          [
           37,
           184,
           "DSB GFAP 37_40X_CTX3"
          ],
          [
           37,
           185,
           "DSB GFAP 37_40X_DG"
          ],
          [
           38,
           186,
           "DSB GFAP 38_40X_CA1"
          ],
          [
           38,
           187,
           "DSB GFAP 38_40X_CA3"
          ],
          [
           38,
           188,
           "DSB GFAP 38_40X_CTX1"
          ],
          [
           38,
           189,
           "DSB GFAP 38_40X_CTX2"
          ],
          [
           38,
           190,
           "DSB GFAP 38_40X_CTX3"
          ],
          [
           38,
           191,
           "DSB GFAP 38_40X_DG"
          ],
          [
           39,
           192,
           "DSB GFAP 39_40X_CA1"
          ],
          [
           39,
           193,
           "DSB GFAP 39_40X_CA3"
          ],
          [
           39,
           194,
           "DSB GFAP 39_40X_CTX1"
          ],
          [
           39,
           195,
           "DSB GFAP 39_40X_CTX2"
          ],
          [
           39,
           196,
           "DSB GFAP 39_40X_CTX3"
          ],
          [
           39,
           197,
           "DSB GFAP 39_40X_DG"
          ],
          [
           40,
           198,
           "DSB GFAP 40_40X_CA1"
          ],
          [
           40,
           199,
           "DSB GFAP 40_40X_CA3"
          ],
          [
           40,
           200,
           "DSB GFAP 40_40X_DG"
          ],
          [
           41,
           201,
           "DSB GFAP 41_40X_CA1"
          ],
          [
           41,
           202,
           "DSB GFAP 41_40X_CA3"
          ],
          [
           41,
           203,
           "DSB GFAP 41_40X_CTX1"
          ],
          [
           41,
           204,
           "DSB GFAP 41_40X_CTX2"
          ],
          [
           41,
           205,
           "DSB GFAP 41_40X_CTX3"
          ],
          [
           41,
           206,
           "DSB GFAP 41_40X_DG"
          ],
          [
           43,
           207,
           "DSB GFAP 43_40X_CA1"
          ],
          [
           43,
           208,
           "DSB GFAP 43_40X_CA3"
          ],
          [
           43,
           209,
           "DSB GFAP 43_40X_CTX1"
          ],
          [
           43,
           210,
           "DSB GFAP 43_40X_CTX2"
          ],
          [
           43,
           211,
           "DSB GFAP 43_40X_CTX3"
          ],
          [
           43,
           212,
           "DSB GFAP 43_40X_DG"
          ],
          [
           6,
           213,
           "DSB GFAP 6_40X_CA1"
          ],
          [
           6,
           214,
           "DSB GFAP 6_40X_CA3"
          ],
          [
           6,
           215,
           "DSB GFAP 6_40X_CTX1"
          ],
          [
           6,
           216,
           "DSB GFAP 6_40X_CTX2"
          ],
          [
           6,
           217,
           "DSB GFAP 6_40X_CTX3"
          ],
          [
           6,
           218,
           "DSB GFAP 6_40X_DG"
          ],
          [
           7,
           219,
           "DSB GFAP 7_40X_DG"
          ],
          [
           8,
           220,
           "DSB GFAP 8_40X_CA1"
          ],
          [
           8,
           221,
           "DSB GFAP 8_40X_CA3"
          ],
          [
           8,
           222,
           "DSB GFAP 8_40X_CTX1"
          ],
          [
           8,
           223,
           "DSB GFAP 8_40X_CTX2"
          ],
          [
           8,
           224,
           "DSB GFAP 8_40X_CTX3"
          ],
          [
           8,
           225,
           "DSB GFAP 8_40X_DG"
          ],
          [
           9,
           226,
           "DSB GFAP 9_40X_CA1"
          ],
          [
           9,
           227,
           "DSB GFAP 9_40X_CA3"
          ],
          [
           9,
           228,
           "DSB GFAP 9_40X_CTX1"
          ],
          [
           9,
           229,
           "DSB GFAP 9_40X_CTX2"
          ],
          [
           9,
           230,
           "DSB GFAP 9_40X_CTX3"
          ],
          [
           9,
           231,
           "DSB GFAP 9_40X_DG"
          ]
         ],
         "hovertemplate": "tissue_location=%{x}<br>nr_total_nuclei=%{y}<br>staining_id=%{customdata[0]}<br>index=%{customdata[1]}<br>filename=%{customdata[2]}<extra></extra>",
         "legendgroup": "",
         "marker": {
          "color": "#636efa",
          "symbol": "circle"
         },
         "mode": "markers",
         "name": "",
         "orientation": "v",
         "showlegend": false,
         "type": "scatter",
         "x": [
          "CA1",
          "CA3",
          "CTX1",
          "CTX2",
          "CTX3",
          "DG",
          "CA1",
          "CA3",
          "CTX1",
          "CTX2",
          "CTX3",
          "DG",
          "CA1",
          "CA3",
          "CTX1",
          "CTX2",
          "CTX3",
          "DG",
          "CA1",
          "CA3",
          "CTX1",
          "CTX2",
          "CTX3",
          "DG",
          "CA1",
          "CA3",
          "CTX1",
          "CTX2",
          "CTX3",
          "DG",
          "CA1",
          "CA3",
          "CTX1",
          "CTX2",
          "CTX3",
          "DG",
          "CA1",
          "CA3",
          "CTX1",
          "CTX2",
          "CTX3",
          "DG",
          "CA1",
          "CA3",
          "CTX1",
          "CTX2",
          "CTX3",
          "DG",
          "CA1",
          "CA3",
          "CTX1",
          "CTX2",
          "CTX3",
          "DG",
          "CA1",
          "CA3",
          "CTX1",
          "CTX2",
          "CTX3",
          "DG",
          "CA1",
          "CA3",
          "CTX1",
          "CTX2",
          "CTX3",
          "DG",
          "CA1",
          "CA3",
          "CTX1",
          "CTX2",
          "CTX3",
          "DG",
          "CA1",
          "CA3",
          "CTX1",
          "CTX2",
          "CTX3",
          "DG",
          "CA1",
          "CA3",
          "CTX1",
          "CTX2",
          "CTX3",
          "DG",
          "CA1",
          "CA3",
          "CTX1",
          "CTX2",
          "CTX3",
          "DG",
          "CA1",
          "CA3",
          "CTX1",
          "CTX2",
          "CTX3",
          "DG",
          "CA1",
          "CA3",
          "CTX1",
          "CTX2",
          "CTX3",
          "DG",
          "CA1",
          "CA3",
          "CTX1",
          "CTX2",
          "CTX3",
          "DG",
          "CA1",
          "CA3",
          "CTX1",
          "CTX2",
          "CTX3",
          "DG",
          "DG",
          "CA1",
          "CA3",
          "CTX1",
          "CTX2",
          "CTX3",
          "DG",
          "CA1",
          "CA3",
          "CTX1",
          "CTX2",
          "CTX3",
          "DG",
          "CA1",
          "CA3",
          "CTX1",
          "CTX2",
          "CTX3",
          "DG",
          "CA1",
          "CA3",
          "CTX1",
          "CTX2",
          "CTX3",
          "DG",
          "CA1",
          "CA3",
          "CTX1",
          "DG",
          "CA1",
          "CA3",
          "CTX1",
          "CTX2",
          "CTX3",
          "DG",
          "CA1",
          "CA3",
          "CTX1",
          "CTX2",
          "CTX3",
          "DG",
          "DG",
          "CA1",
          "CA3",
          "CTX1",
          "CTX2",
          "CTX3",
          "DG",
          "CA1",
          "CA3",
          "CTX1",
          "CTX2",
          "CTX3",
          "DG",
          "CA1",
          "CA3",
          "CTX1",
          "CTX2",
          "CTX3",
          "DG",
          "CA1",
          "CA3",
          "CTX1",
          "CTX2",
          "CTX3",
          "DG",
          "CA1",
          "CA3",
          "CTX1",
          "CTX2",
          "CTX3",
          "DG",
          "CA1",
          "CA3",
          "CTX1",
          "CTX2",
          "CTX3",
          "DG",
          "CA1",
          "CA3",
          "CTX1",
          "CTX2",
          "CTX3",
          "DG",
          "CA1",
          "CA3",
          "DG",
          "CA1",
          "CA3",
          "CTX1",
          "CTX2",
          "CTX3",
          "DG",
          "CA1",
          "CA3",
          "CTX1",
          "CTX2",
          "CTX3",
          "DG",
          "CA1",
          "CA3",
          "CTX1",
          "CTX2",
          "CTX3",
          "DG",
          "DG",
          "CA1",
          "CA3",
          "CTX1",
          "CTX2",
          "CTX3",
          "DG",
          "CA1",
          "CA3",
          "CTX1",
          "CTX2",
          "CTX3",
          "DG"
         ],
         "xaxis": "x",
         "y": [
          162,
          145,
          159,
          259,
          166,
          361,
          174,
          119,
          205,
          254,
          178,
          348,
          206,
          113,
          180,
          234,
          183,
          341,
          190,
          156,
          213,
          194,
          123,
          339,
          194,
          152,
          220,
          240,
          122,
          385,
          207,
          164,
          224,
          203,
          159,
          379,
          191,
          129,
          207,
          266,
          248,
          431,
          168,
          124,
          177,
          261,
          154,
          407,
          183,
          175,
          362,
          325,
          205,
          443,
          134,
          92,
          127,
          216,
          174,
          508,
          142,
          98,
          205,
          215,
          227,
          421,
          140,
          129,
          162,
          127,
          122,
          307,
          118,
          93,
          171,
          215,
          161,
          374,
          173,
          130,
          312,
          200,
          144,
          422,
          136,
          196,
          211,
          217,
          224,
          376,
          147,
          117,
          224,
          191,
          171,
          324,
          173,
          166,
          271,
          268,
          194,
          395,
          114,
          95,
          129,
          152,
          192,
          322,
          138,
          153,
          196,
          194,
          226,
          300,
          360,
          129,
          116,
          231,
          213,
          189,
          386,
          125,
          179,
          181,
          184,
          139,
          415,
          172,
          211,
          302,
          244,
          251,
          307,
          114,
          134,
          247,
          213,
          138,
          371,
          186,
          186,
          217,
          355,
          120,
          97,
          134,
          160,
          87,
          387,
          130,
          160,
          216,
          159,
          118,
          429,
          297,
          128,
          84,
          139,
          160,
          146,
          328,
          114,
          158,
          123,
          115,
          99,
          371,
          156,
          230,
          268,
          174,
          283,
          304,
          162,
          118,
          234,
          261,
          167,
          347,
          165,
          144,
          242,
          209,
          232,
          332,
          98,
          76,
          125,
          135,
          104,
          350,
          140,
          103,
          205,
          146,
          131,
          386,
          255,
          129,
          326,
          124,
          196,
          168,
          176,
          163,
          429,
          144,
          117,
          219,
          219,
          130,
          418,
          187,
          122,
          232,
          203,
          251,
          495,
          320,
          178,
          152,
          224,
          220,
          207,
          438,
          188,
          150,
          251,
          284,
          263,
          463
         ],
         "yaxis": "y"
        }
       ],
       "layout": {
        "legend": {
         "tracegroupgap": 0
        },
        "template": {
         "data": {
          "bar": [
           {
            "error_x": {
             "color": "#2a3f5f"
            },
            "error_y": {
             "color": "#2a3f5f"
            },
            "marker": {
             "line": {
              "color": "#E5ECF6",
              "width": 0.5
             },
             "pattern": {
              "fillmode": "overlay",
              "size": 10,
              "solidity": 0.2
             }
            },
            "type": "bar"
           }
          ],
          "barpolar": [
           {
            "marker": {
             "line": {
              "color": "#E5ECF6",
              "width": 0.5
             },
             "pattern": {
              "fillmode": "overlay",
              "size": 10,
              "solidity": 0.2
             }
            },
            "type": "barpolar"
           }
          ],
          "carpet": [
           {
            "aaxis": {
             "endlinecolor": "#2a3f5f",
             "gridcolor": "white",
             "linecolor": "white",
             "minorgridcolor": "white",
             "startlinecolor": "#2a3f5f"
            },
            "baxis": {
             "endlinecolor": "#2a3f5f",
             "gridcolor": "white",
             "linecolor": "white",
             "minorgridcolor": "white",
             "startlinecolor": "#2a3f5f"
            },
            "type": "carpet"
           }
          ],
          "choropleth": [
           {
            "colorbar": {
             "outlinewidth": 0,
             "ticks": ""
            },
            "type": "choropleth"
           }
          ],
          "contour": [
           {
            "colorbar": {
             "outlinewidth": 0,
             "ticks": ""
            },
            "colorscale": [
             [
              0,
              "#0d0887"
             ],
             [
              0.1111111111111111,
              "#46039f"
             ],
             [
              0.2222222222222222,
              "#7201a8"
             ],
             [
              0.3333333333333333,
              "#9c179e"
             ],
             [
              0.4444444444444444,
              "#bd3786"
             ],
             [
              0.5555555555555556,
              "#d8576b"
             ],
             [
              0.6666666666666666,
              "#ed7953"
             ],
             [
              0.7777777777777778,
              "#fb9f3a"
             ],
             [
              0.8888888888888888,
              "#fdca26"
             ],
             [
              1,
              "#f0f921"
             ]
            ],
            "type": "contour"
           }
          ],
          "contourcarpet": [
           {
            "colorbar": {
             "outlinewidth": 0,
             "ticks": ""
            },
            "type": "contourcarpet"
           }
          ],
          "heatmap": [
           {
            "colorbar": {
             "outlinewidth": 0,
             "ticks": ""
            },
            "colorscale": [
             [
              0,
              "#0d0887"
             ],
             [
              0.1111111111111111,
              "#46039f"
             ],
             [
              0.2222222222222222,
              "#7201a8"
             ],
             [
              0.3333333333333333,
              "#9c179e"
             ],
             [
              0.4444444444444444,
              "#bd3786"
             ],
             [
              0.5555555555555556,
              "#d8576b"
             ],
             [
              0.6666666666666666,
              "#ed7953"
             ],
             [
              0.7777777777777778,
              "#fb9f3a"
             ],
             [
              0.8888888888888888,
              "#fdca26"
             ],
             [
              1,
              "#f0f921"
             ]
            ],
            "type": "heatmap"
           }
          ],
          "heatmapgl": [
           {
            "colorbar": {
             "outlinewidth": 0,
             "ticks": ""
            },
            "colorscale": [
             [
              0,
              "#0d0887"
             ],
             [
              0.1111111111111111,
              "#46039f"
             ],
             [
              0.2222222222222222,
              "#7201a8"
             ],
             [
              0.3333333333333333,
              "#9c179e"
             ],
             [
              0.4444444444444444,
              "#bd3786"
             ],
             [
              0.5555555555555556,
              "#d8576b"
             ],
             [
              0.6666666666666666,
              "#ed7953"
             ],
             [
              0.7777777777777778,
              "#fb9f3a"
             ],
             [
              0.8888888888888888,
              "#fdca26"
             ],
             [
              1,
              "#f0f921"
             ]
            ],
            "type": "heatmapgl"
           }
          ],
          "histogram": [
           {
            "marker": {
             "pattern": {
              "fillmode": "overlay",
              "size": 10,
              "solidity": 0.2
             }
            },
            "type": "histogram"
           }
          ],
          "histogram2d": [
           {
            "colorbar": {
             "outlinewidth": 0,
             "ticks": ""
            },
            "colorscale": [
             [
              0,
              "#0d0887"
             ],
             [
              0.1111111111111111,
              "#46039f"
             ],
             [
              0.2222222222222222,
              "#7201a8"
             ],
             [
              0.3333333333333333,
              "#9c179e"
             ],
             [
              0.4444444444444444,
              "#bd3786"
             ],
             [
              0.5555555555555556,
              "#d8576b"
             ],
             [
              0.6666666666666666,
              "#ed7953"
             ],
             [
              0.7777777777777778,
              "#fb9f3a"
             ],
             [
              0.8888888888888888,
              "#fdca26"
             ],
             [
              1,
              "#f0f921"
             ]
            ],
            "type": "histogram2d"
           }
          ],
          "histogram2dcontour": [
           {
            "colorbar": {
             "outlinewidth": 0,
             "ticks": ""
            },
            "colorscale": [
             [
              0,
              "#0d0887"
             ],
             [
              0.1111111111111111,
              "#46039f"
             ],
             [
              0.2222222222222222,
              "#7201a8"
             ],
             [
              0.3333333333333333,
              "#9c179e"
             ],
             [
              0.4444444444444444,
              "#bd3786"
             ],
             [
              0.5555555555555556,
              "#d8576b"
             ],
             [
              0.6666666666666666,
              "#ed7953"
             ],
             [
              0.7777777777777778,
              "#fb9f3a"
             ],
             [
              0.8888888888888888,
              "#fdca26"
             ],
             [
              1,
              "#f0f921"
             ]
            ],
            "type": "histogram2dcontour"
           }
          ],
          "mesh3d": [
           {
            "colorbar": {
             "outlinewidth": 0,
             "ticks": ""
            },
            "type": "mesh3d"
           }
          ],
          "parcoords": [
           {
            "line": {
             "colorbar": {
              "outlinewidth": 0,
              "ticks": ""
             }
            },
            "type": "parcoords"
           }
          ],
          "pie": [
           {
            "automargin": true,
            "type": "pie"
           }
          ],
          "scatter": [
           {
            "fillpattern": {
             "fillmode": "overlay",
             "size": 10,
             "solidity": 0.2
            },
            "type": "scatter"
           }
          ],
          "scatter3d": [
           {
            "line": {
             "colorbar": {
              "outlinewidth": 0,
              "ticks": ""
             }
            },
            "marker": {
             "colorbar": {
              "outlinewidth": 0,
              "ticks": ""
             }
            },
            "type": "scatter3d"
           }
          ],
          "scattercarpet": [
           {
            "marker": {
             "colorbar": {
              "outlinewidth": 0,
              "ticks": ""
             }
            },
            "type": "scattercarpet"
           }
          ],
          "scattergeo": [
           {
            "marker": {
             "colorbar": {
              "outlinewidth": 0,
              "ticks": ""
             }
            },
            "type": "scattergeo"
           }
          ],
          "scattergl": [
           {
            "marker": {
             "colorbar": {
              "outlinewidth": 0,
              "ticks": ""
             }
            },
            "type": "scattergl"
           }
          ],
          "scattermapbox": [
           {
            "marker": {
             "colorbar": {
              "outlinewidth": 0,
              "ticks": ""
             }
            },
            "type": "scattermapbox"
           }
          ],
          "scatterpolar": [
           {
            "marker": {
             "colorbar": {
              "outlinewidth": 0,
              "ticks": ""
             }
            },
            "type": "scatterpolar"
           }
          ],
          "scatterpolargl": [
           {
            "marker": {
             "colorbar": {
              "outlinewidth": 0,
              "ticks": ""
             }
            },
            "type": "scatterpolargl"
           }
          ],
          "scatterternary": [
           {
            "marker": {
             "colorbar": {
              "outlinewidth": 0,
              "ticks": ""
             }
            },
            "type": "scatterternary"
           }
          ],
          "surface": [
           {
            "colorbar": {
             "outlinewidth": 0,
             "ticks": ""
            },
            "colorscale": [
             [
              0,
              "#0d0887"
             ],
             [
              0.1111111111111111,
              "#46039f"
             ],
             [
              0.2222222222222222,
              "#7201a8"
             ],
             [
              0.3333333333333333,
              "#9c179e"
             ],
             [
              0.4444444444444444,
              "#bd3786"
             ],
             [
              0.5555555555555556,
              "#d8576b"
             ],
             [
              0.6666666666666666,
              "#ed7953"
             ],
             [
              0.7777777777777778,
              "#fb9f3a"
             ],
             [
              0.8888888888888888,
              "#fdca26"
             ],
             [
              1,
              "#f0f921"
             ]
            ],
            "type": "surface"
           }
          ],
          "table": [
           {
            "cells": {
             "fill": {
              "color": "#EBF0F8"
             },
             "line": {
              "color": "white"
             }
            },
            "header": {
             "fill": {
              "color": "#C8D4E3"
             },
             "line": {
              "color": "white"
             }
            },
            "type": "table"
           }
          ]
         },
         "layout": {
          "annotationdefaults": {
           "arrowcolor": "#2a3f5f",
           "arrowhead": 0,
           "arrowwidth": 1
          },
          "autotypenumbers": "strict",
          "coloraxis": {
           "colorbar": {
            "outlinewidth": 0,
            "ticks": ""
           }
          },
          "colorscale": {
           "diverging": [
            [
             0,
             "#8e0152"
            ],
            [
             0.1,
             "#c51b7d"
            ],
            [
             0.2,
             "#de77ae"
            ],
            [
             0.3,
             "#f1b6da"
            ],
            [
             0.4,
             "#fde0ef"
            ],
            [
             0.5,
             "#f7f7f7"
            ],
            [
             0.6,
             "#e6f5d0"
            ],
            [
             0.7,
             "#b8e186"
            ],
            [
             0.8,
             "#7fbc41"
            ],
            [
             0.9,
             "#4d9221"
            ],
            [
             1,
             "#276419"
            ]
           ],
           "sequential": [
            [
             0,
             "#0d0887"
            ],
            [
             0.1111111111111111,
             "#46039f"
            ],
            [
             0.2222222222222222,
             "#7201a8"
            ],
            [
             0.3333333333333333,
             "#9c179e"
            ],
            [
             0.4444444444444444,
             "#bd3786"
            ],
            [
             0.5555555555555556,
             "#d8576b"
            ],
            [
             0.6666666666666666,
             "#ed7953"
            ],
            [
             0.7777777777777778,
             "#fb9f3a"
            ],
            [
             0.8888888888888888,
             "#fdca26"
            ],
            [
             1,
             "#f0f921"
            ]
           ],
           "sequentialminus": [
            [
             0,
             "#0d0887"
            ],
            [
             0.1111111111111111,
             "#46039f"
            ],
            [
             0.2222222222222222,
             "#7201a8"
            ],
            [
             0.3333333333333333,
             "#9c179e"
            ],
            [
             0.4444444444444444,
             "#bd3786"
            ],
            [
             0.5555555555555556,
             "#d8576b"
            ],
            [
             0.6666666666666666,
             "#ed7953"
            ],
            [
             0.7777777777777778,
             "#fb9f3a"
            ],
            [
             0.8888888888888888,
             "#fdca26"
            ],
            [
             1,
             "#f0f921"
            ]
           ]
          },
          "colorway": [
           "#636efa",
           "#EF553B",
           "#00cc96",
           "#ab63fa",
           "#FFA15A",
           "#19d3f3",
           "#FF6692",
           "#B6E880",
           "#FF97FF",
           "#FECB52"
          ],
          "font": {
           "color": "#2a3f5f"
          },
          "geo": {
           "bgcolor": "white",
           "lakecolor": "white",
           "landcolor": "#E5ECF6",
           "showlakes": true,
           "showland": true,
           "subunitcolor": "white"
          },
          "hoverlabel": {
           "align": "left"
          },
          "hovermode": "closest",
          "mapbox": {
           "style": "light"
          },
          "paper_bgcolor": "white",
          "plot_bgcolor": "#E5ECF6",
          "polar": {
           "angularaxis": {
            "gridcolor": "white",
            "linecolor": "white",
            "ticks": ""
           },
           "bgcolor": "#E5ECF6",
           "radialaxis": {
            "gridcolor": "white",
            "linecolor": "white",
            "ticks": ""
           }
          },
          "scene": {
           "xaxis": {
            "backgroundcolor": "#E5ECF6",
            "gridcolor": "white",
            "gridwidth": 2,
            "linecolor": "white",
            "showbackground": true,
            "ticks": "",
            "zerolinecolor": "white"
           },
           "yaxis": {
            "backgroundcolor": "#E5ECF6",
            "gridcolor": "white",
            "gridwidth": 2,
            "linecolor": "white",
            "showbackground": true,
            "ticks": "",
            "zerolinecolor": "white"
           },
           "zaxis": {
            "backgroundcolor": "#E5ECF6",
            "gridcolor": "white",
            "gridwidth": 2,
            "linecolor": "white",
            "showbackground": true,
            "ticks": "",
            "zerolinecolor": "white"
           }
          },
          "shapedefaults": {
           "line": {
            "color": "#2a3f5f"
           }
          },
          "ternary": {
           "aaxis": {
            "gridcolor": "white",
            "linecolor": "white",
            "ticks": ""
           },
           "baxis": {
            "gridcolor": "white",
            "linecolor": "white",
            "ticks": ""
           },
           "bgcolor": "#E5ECF6",
           "caxis": {
            "gridcolor": "white",
            "linecolor": "white",
            "ticks": ""
           }
          },
          "title": {
           "x": 0.05
          },
          "xaxis": {
           "automargin": true,
           "gridcolor": "white",
           "linecolor": "white",
           "ticks": "",
           "title": {
            "standoff": 15
           },
           "zerolinecolor": "white",
           "zerolinewidth": 2
          },
          "yaxis": {
           "automargin": true,
           "gridcolor": "white",
           "linecolor": "white",
           "ticks": "",
           "title": {
            "standoff": 15
           },
           "zerolinecolor": "white",
           "zerolinewidth": 2
          }
         }
        },
        "title": {
         "text": "Nr of total nuclei by Tissue Location - cellpdia30_sigma1_dilrad4_dnad_obj_seg_v3_gliaero6_gliathr30_dnadero2"
        },
        "xaxis": {
         "anchor": "y",
         "domain": [
          0,
          1
         ],
         "title": {
          "text": "tissue_location"
         }
        },
        "yaxis": {
         "anchor": "x",
         "domain": [
          0,
          1
         ],
         "title": {
          "text": "nr_total_nuclei"
         }
        }
       }
      }
     },
     "metadata": {},
     "output_type": "display_data"
    },
    {
     "data": {
      "application/vnd.plotly.v1+json": {
       "config": {
        "plotlyServerURL": "https://plot.ly"
       },
       "data": [
        {
         "customdata": [
          [
           0,
           "DSB GFAP 101_40X_CA1"
          ],
          [
           1,
           "DSB GFAP 101_40X_CA3"
          ],
          [
           2,
           "DSB GFAP 101_40X_CTX1"
          ],
          [
           3,
           "DSB GFAP 101_40X_CTX2"
          ],
          [
           4,
           "DSB GFAP 101_40X_CTX3"
          ],
          [
           5,
           "DSB GFAP 101_40X_DG"
          ],
          [
           6,
           "DSB GFAP 102_40X_CA1"
          ],
          [
           7,
           "DSB GFAP 102_40X_CA3"
          ],
          [
           8,
           "DSB GFAP 102_40X_CTX1"
          ],
          [
           9,
           "DSB GFAP 102_40X_CTX2"
          ],
          [
           10,
           "DSB GFAP 102_40X_CTX3"
          ],
          [
           11,
           "DSB GFAP 102_40X_DG"
          ],
          [
           12,
           "DSB GFAP 103_40X_CA1"
          ],
          [
           13,
           "DSB GFAP 103_40X_CA3"
          ],
          [
           14,
           "DSB GFAP 103_40X_CTX1"
          ],
          [
           15,
           "DSB GFAP 103_40X_CTX2"
          ],
          [
           16,
           "DSB GFAP 103_40X_CTX3"
          ],
          [
           17,
           "DSB GFAP 103_40X_DG"
          ],
          [
           18,
           "DSB GFAP 104_40X_CA1"
          ],
          [
           19,
           "DSB GFAP 104_40X_CA3"
          ],
          [
           20,
           "DSB GFAP 104_40X_CTX1"
          ],
          [
           21,
           "DSB GFAP 104_40X_CTX2"
          ],
          [
           22,
           "DSB GFAP 104_40X_CTX3"
          ],
          [
           23,
           "DSB GFAP 104_40X_DG"
          ],
          [
           24,
           "DSB GFAP 105_40X_CA1"
          ],
          [
           25,
           "DSB GFAP 105_40X_CA3"
          ],
          [
           26,
           "DSB GFAP 105_40X_CTX1"
          ],
          [
           27,
           "DSB GFAP 105_40X_CTX2"
          ],
          [
           28,
           "DSB GFAP 105_40X_CTX3"
          ],
          [
           29,
           "DSB GFAP 105_40X_DG"
          ],
          [
           30,
           "DSB GFAP 106_40X_CA1"
          ],
          [
           31,
           "DSB GFAP 106_40X_CA3"
          ],
          [
           32,
           "DSB GFAP 106_40X_CTX1"
          ],
          [
           33,
           "DSB GFAP 106_40X_CTX2"
          ],
          [
           34,
           "DSB GFAP 106_40X_CTX3"
          ],
          [
           35,
           "DSB GFAP 106_40X_DG"
          ],
          [
           36,
           "DSB GFAP 107_40X_CA1"
          ],
          [
           37,
           "DSB GFAP 107_40X_CA3"
          ],
          [
           38,
           "DSB GFAP 107_40X_CTX1"
          ],
          [
           39,
           "DSB GFAP 107_40X_CTX2"
          ],
          [
           40,
           "DSB GFAP 107_40X_CTX3"
          ],
          [
           41,
           "DSB GFAP 107_40X_DG"
          ],
          [
           42,
           "DSB GFAP 108_40X_CA1"
          ],
          [
           43,
           "DSB GFAP 108_40X_CA3"
          ],
          [
           44,
           "DSB GFAP 108_40X_CTX1"
          ],
          [
           45,
           "DSB GFAP 108_40X_CTX2"
          ],
          [
           46,
           "DSB GFAP 108_40X_CTX3"
          ],
          [
           47,
           "DSB GFAP 108_40X_DG"
          ],
          [
           48,
           "DSB GFAP 10_40X_CA1"
          ],
          [
           49,
           "DSB GFAP 10_40X_CA3"
          ],
          [
           50,
           "DSB GFAP 10_40X_CTX1"
          ],
          [
           51,
           "DSB GFAP 10_40X_CTX2"
          ],
          [
           52,
           "DSB GFAP 10_40X_CTX3"
          ],
          [
           53,
           "DSB GFAP 10_40X_DG"
          ],
          [
           54,
           "DSB GFAP 11_40X_CA1"
          ],
          [
           55,
           "DSB GFAP 11_40X_CA3"
          ],
          [
           56,
           "DSB GFAP 11_40X_CTX1"
          ],
          [
           57,
           "DSB GFAP 11_40X_CTX2"
          ],
          [
           58,
           "DSB GFAP 11_40X_CTX3"
          ],
          [
           59,
           "DSB GFAP 11_40X_DG"
          ],
          [
           60,
           "DSB GFAP 12_40X_CA1"
          ],
          [
           61,
           "DSB GFAP 12_40X_CA3"
          ],
          [
           62,
           "DSB GFAP 12_40X_CTX1"
          ],
          [
           63,
           "DSB GFAP 12_40X_CTX2"
          ],
          [
           64,
           "DSB GFAP 12_40X_CTX3"
          ],
          [
           65,
           "DSB GFAP 12_40X_DG"
          ],
          [
           66,
           "DSB GFAP 13_40X_CA1"
          ],
          [
           67,
           "DSB GFAP 13_40X_CA3"
          ],
          [
           68,
           "DSB GFAP 13_40X_CTX1"
          ],
          [
           69,
           "DSB GFAP 13_40X_CTX2"
          ],
          [
           70,
           "DSB GFAP 13_40X_CTX3"
          ],
          [
           71,
           "DSB GFAP 13_40X_DG"
          ],
          [
           72,
           "DSB GFAP 14_40X_CA1"
          ],
          [
           73,
           "DSB GFAP 14_40X_CA3"
          ],
          [
           74,
           "DSB GFAP 14_40X_CTX1"
          ],
          [
           75,
           "DSB GFAP 14_40X_CTX2"
          ],
          [
           76,
           "DSB GFAP 14_40X_CTX3"
          ],
          [
           77,
           "DSB GFAP 14_40X_DG"
          ],
          [
           78,
           "DSB GFAP 15_40X_CA1"
          ],
          [
           79,
           "DSB GFAP 15_40X_CA3"
          ],
          [
           80,
           "DSB GFAP 15_40X_CTX1"
          ],
          [
           81,
           "DSB GFAP 15_40X_CTX2"
          ],
          [
           82,
           "DSB GFAP 15_40X_CTX3"
          ],
          [
           83,
           "DSB GFAP 15_40X_DG"
          ],
          [
           84,
           "DSB GFAP 16_40X_CA1"
          ],
          [
           85,
           "DSB GFAP 16_40X_CA3"
          ],
          [
           86,
           "DSB GFAP 16_40X_CTX1"
          ],
          [
           87,
           "DSB GFAP 16_40X_CTX2"
          ],
          [
           88,
           "DSB GFAP 16_40X_CTX3"
          ],
          [
           89,
           "DSB GFAP 16_40X_DG"
          ],
          [
           90,
           "DSB GFAP 18_40X_CA1"
          ],
          [
           91,
           "DSB GFAP 18_40X_CA3"
          ],
          [
           92,
           "DSB GFAP 18_40X_CTX1"
          ],
          [
           93,
           "DSB GFAP 18_40X_CTX2"
          ],
          [
           94,
           "DSB GFAP 18_40X_CTX3"
          ],
          [
           95,
           "DSB GFAP 18_40X_DG"
          ],
          [
           96,
           "DSB GFAP 20_40X_CA1"
          ],
          [
           97,
           "DSB GFAP 20_40X_CA3"
          ],
          [
           98,
           "DSB GFAP 20_40X_CTX1"
          ],
          [
           99,
           "DSB GFAP 20_40X_CTX2"
          ],
          [
           100,
           "DSB GFAP 20_40X_CTX3"
          ],
          [
           101,
           "DSB GFAP 20_40X_DG"
          ],
          [
           102,
           "DSB GFAP 21_40X_CA1"
          ],
          [
           103,
           "DSB GFAP 21_40X_CA3"
          ],
          [
           104,
           "DSB GFAP 21_40X_CTX1"
          ],
          [
           105,
           "DSB GFAP 21_40X_CTX2"
          ],
          [
           106,
           "DSB GFAP 21_40X_CTX3"
          ],
          [
           107,
           "DSB GFAP 21_40X_DG"
          ],
          [
           108,
           "DSB GFAP 22_40X_CA1"
          ],
          [
           109,
           "DSB GFAP 22_40X_CA3"
          ],
          [
           110,
           "DSB GFAP 22_40X_CTX1"
          ],
          [
           111,
           "DSB GFAP 22_40X_CTX2"
          ],
          [
           112,
           "DSB GFAP 22_40X_CTX3"
          ],
          [
           113,
           "DSB GFAP 22_40X_DG"
          ],
          [
           114,
           "DSB GFAP 23_40X_DG"
          ],
          [
           115,
           "DSB GFAP 24_40X_CA1"
          ],
          [
           116,
           "DSB GFAP 24_40X_CA3"
          ],
          [
           117,
           "DSB GFAP 24_40X_CTX1"
          ],
          [
           118,
           "DSB GFAP 24_40X_CTX2"
          ],
          [
           119,
           "DSB GFAP 24_40X_CTX3"
          ],
          [
           120,
           "DSB GFAP 24_40X_DG"
          ],
          [
           121,
           "DSB GFAP 25_40X_CA1"
          ],
          [
           122,
           "DSB GFAP 25_40X_CA3"
          ],
          [
           123,
           "DSB GFAP 25_40X_CTX1"
          ],
          [
           124,
           "DSB GFAP 25_40X_CTX2"
          ],
          [
           125,
           "DSB GFAP 25_40X_CTX3"
          ],
          [
           126,
           "DSB GFAP 25_40X_DG"
          ],
          [
           127,
           "DSB GFAP 26_40X_CA1"
          ],
          [
           128,
           "DSB GFAP 26_40X_CA3"
          ],
          [
           129,
           "DSB GFAP 26_40X_CTX1"
          ],
          [
           130,
           "DSB GFAP 26_40X_CTX2"
          ],
          [
           131,
           "DSB GFAP 26_40X_CTX3"
          ],
          [
           132,
           "DSB GFAP 26_40X_DG"
          ],
          [
           133,
           "DSB GFAP 27_40X_CA1"
          ],
          [
           134,
           "DSB GFAP 27_40X_CA3"
          ],
          [
           135,
           "DSB GFAP 27_40X_CTX1"
          ],
          [
           136,
           "DSB GFAP 27_40X_CTX2"
          ],
          [
           137,
           "DSB GFAP 27_40X_CTX3"
          ],
          [
           138,
           "DSB GFAP 27_40X_DG"
          ],
          [
           139,
           "DSB GFAP 28_40X_CA1"
          ],
          [
           140,
           "DSB GFAP 28_40X_CA3"
          ],
          [
           141,
           "DSB GFAP 28_40X_CTX1"
          ],
          [
           142,
           "DSB GFAP 28_40X_DG"
          ],
          [
           143,
           "DSB GFAP 29_40X_CA1"
          ],
          [
           144,
           "DSB GFAP 29_40X_CA3"
          ],
          [
           145,
           "DSB GFAP 29_40X_CTX1"
          ],
          [
           146,
           "DSB GFAP 29_40X_CTX2"
          ],
          [
           147,
           "DSB GFAP 29_40X_CTX3"
          ],
          [
           148,
           "DSB GFAP 29_40X_DG"
          ],
          [
           149,
           "DSB GFAP 30_40X_CA1"
          ],
          [
           150,
           "DSB GFAP 30_40X_CA3"
          ],
          [
           151,
           "DSB GFAP 30_40X_CTX1"
          ],
          [
           152,
           "DSB GFAP 30_40X_CTX2"
          ],
          [
           153,
           "DSB GFAP 30_40X_CTX3"
          ],
          [
           154,
           "DSB GFAP 30_40X_DG"
          ],
          [
           155,
           "DSB GFAP 31_40X_DG"
          ],
          [
           156,
           "DSB GFAP 32_40X_CA1"
          ],
          [
           157,
           "DSB GFAP 32_40X_CA3"
          ],
          [
           158,
           "DSB GFAP 32_40X_CTX1"
          ],
          [
           159,
           "DSB GFAP 32_40X_CTX2"
          ],
          [
           160,
           "DSB GFAP 32_40X_CTX3"
          ],
          [
           161,
           "DSB GFAP 32_40X_DG"
          ],
          [
           162,
           "DSB GFAP 34_40X_CA1"
          ],
          [
           163,
           "DSB GFAP 34_40X_CA3"
          ],
          [
           164,
           "DSB GFAP 34_40X_CTX1"
          ],
          [
           165,
           "DSB GFAP 34_40X_CTX2"
          ],
          [
           166,
           "DSB GFAP 34_40X_CTX3"
          ],
          [
           167,
           "DSB GFAP 34_40X_DG"
          ],
          [
           168,
           "DSB GFAP 35_40X_CA1"
          ],
          [
           169,
           "DSB GFAP 35_40X_CA3"
          ],
          [
           170,
           "DSB GFAP 35_40X_CTX1"
          ],
          [
           171,
           "DSB GFAP 35_40X_CTX2"
          ],
          [
           172,
           "DSB GFAP 35_40X_CTX3"
          ],
          [
           173,
           "DSB GFAP 35_40X_DG"
          ],
          [
           174,
           "DSB GFAP 36_40X_CA1"
          ],
          [
           175,
           "DSB GFAP 36_40X_CA3"
          ],
          [
           176,
           "DSB GFAP 36_40X_CTX1"
          ],
          [
           177,
           "DSB GFAP 36_40X_CTX2"
          ],
          [
           178,
           "DSB GFAP 36_40X_CTX3"
          ],
          [
           179,
           "DSB GFAP 36_40X_DG"
          ],
          [
           180,
           "DSB GFAP 37_40X_CA1"
          ],
          [
           181,
           "DSB GFAP 37_40X_CA3"
          ],
          [
           182,
           "DSB GFAP 37_40X_CTX1"
          ],
          [
           183,
           "DSB GFAP 37_40X_CTX2"
          ],
          [
           184,
           "DSB GFAP 37_40X_CTX3"
          ],
          [
           185,
           "DSB GFAP 37_40X_DG"
          ],
          [
           186,
           "DSB GFAP 38_40X_CA1"
          ],
          [
           187,
           "DSB GFAP 38_40X_CA3"
          ],
          [
           188,
           "DSB GFAP 38_40X_CTX1"
          ],
          [
           189,
           "DSB GFAP 38_40X_CTX2"
          ],
          [
           190,
           "DSB GFAP 38_40X_CTX3"
          ],
          [
           191,
           "DSB GFAP 38_40X_DG"
          ],
          [
           192,
           "DSB GFAP 39_40X_CA1"
          ],
          [
           193,
           "DSB GFAP 39_40X_CA3"
          ],
          [
           194,
           "DSB GFAP 39_40X_CTX1"
          ],
          [
           195,
           "DSB GFAP 39_40X_CTX2"
          ],
          [
           196,
           "DSB GFAP 39_40X_CTX3"
          ],
          [
           197,
           "DSB GFAP 39_40X_DG"
          ],
          [
           198,
           "DSB GFAP 40_40X_CA1"
          ],
          [
           199,
           "DSB GFAP 40_40X_CA3"
          ],
          [
           200,
           "DSB GFAP 40_40X_DG"
          ],
          [
           201,
           "DSB GFAP 41_40X_CA1"
          ],
          [
           202,
           "DSB GFAP 41_40X_CA3"
          ],
          [
           203,
           "DSB GFAP 41_40X_CTX1"
          ],
          [
           204,
           "DSB GFAP 41_40X_CTX2"
          ],
          [
           205,
           "DSB GFAP 41_40X_CTX3"
          ],
          [
           206,
           "DSB GFAP 41_40X_DG"
          ],
          [
           207,
           "DSB GFAP 43_40X_CA1"
          ],
          [
           208,
           "DSB GFAP 43_40X_CA3"
          ],
          [
           209,
           "DSB GFAP 43_40X_CTX1"
          ],
          [
           210,
           "DSB GFAP 43_40X_CTX2"
          ],
          [
           211,
           "DSB GFAP 43_40X_CTX3"
          ],
          [
           212,
           "DSB GFAP 43_40X_DG"
          ],
          [
           213,
           "DSB GFAP 6_40X_CA1"
          ],
          [
           214,
           "DSB GFAP 6_40X_CA3"
          ],
          [
           215,
           "DSB GFAP 6_40X_CTX1"
          ],
          [
           216,
           "DSB GFAP 6_40X_CTX2"
          ],
          [
           217,
           "DSB GFAP 6_40X_CTX3"
          ],
          [
           218,
           "DSB GFAP 6_40X_DG"
          ],
          [
           219,
           "DSB GFAP 7_40X_DG"
          ],
          [
           220,
           "DSB GFAP 8_40X_CA1"
          ],
          [
           221,
           "DSB GFAP 8_40X_CA3"
          ],
          [
           222,
           "DSB GFAP 8_40X_CTX1"
          ],
          [
           223,
           "DSB GFAP 8_40X_CTX2"
          ],
          [
           224,
           "DSB GFAP 8_40X_CTX3"
          ],
          [
           225,
           "DSB GFAP 8_40X_DG"
          ],
          [
           226,
           "DSB GFAP 9_40X_CA1"
          ],
          [
           227,
           "DSB GFAP 9_40X_CA3"
          ],
          [
           228,
           "DSB GFAP 9_40X_CTX1"
          ],
          [
           229,
           "DSB GFAP 9_40X_CTX2"
          ],
          [
           230,
           "DSB GFAP 9_40X_CTX3"
          ],
          [
           231,
           "DSB GFAP 9_40X_DG"
          ]
         ],
         "hovertemplate": "staining_id=%{x}<br>nr_glia_+_nuclei=%{y}<br>index=%{customdata[0]}<br>filename=%{customdata[1]}<extra></extra>",
         "legendgroup": "",
         "marker": {
          "color": "#636efa",
          "symbol": "circle"
         },
         "mode": "markers",
         "name": "",
         "orientation": "v",
         "showlegend": false,
         "type": "scatter",
         "x": [
          101,
          101,
          101,
          101,
          101,
          101,
          102,
          102,
          102,
          102,
          102,
          102,
          103,
          103,
          103,
          103,
          103,
          103,
          104,
          104,
          104,
          104,
          104,
          104,
          105,
          105,
          105,
          105,
          105,
          105,
          106,
          106,
          106,
          106,
          106,
          106,
          107,
          107,
          107,
          107,
          107,
          107,
          108,
          108,
          108,
          108,
          108,
          108,
          10,
          10,
          10,
          10,
          10,
          10,
          11,
          11,
          11,
          11,
          11,
          11,
          12,
          12,
          12,
          12,
          12,
          12,
          13,
          13,
          13,
          13,
          13,
          13,
          14,
          14,
          14,
          14,
          14,
          14,
          15,
          15,
          15,
          15,
          15,
          15,
          16,
          16,
          16,
          16,
          16,
          16,
          18,
          18,
          18,
          18,
          18,
          18,
          20,
          20,
          20,
          20,
          20,
          20,
          21,
          21,
          21,
          21,
          21,
          21,
          22,
          22,
          22,
          22,
          22,
          22,
          23,
          24,
          24,
          24,
          24,
          24,
          24,
          25,
          25,
          25,
          25,
          25,
          25,
          26,
          26,
          26,
          26,
          26,
          26,
          27,
          27,
          27,
          27,
          27,
          27,
          28,
          28,
          28,
          28,
          29,
          29,
          29,
          29,
          29,
          29,
          30,
          30,
          30,
          30,
          30,
          30,
          31,
          32,
          32,
          32,
          32,
          32,
          32,
          34,
          34,
          34,
          34,
          34,
          34,
          35,
          35,
          35,
          35,
          35,
          35,
          36,
          36,
          36,
          36,
          36,
          36,
          37,
          37,
          37,
          37,
          37,
          37,
          38,
          38,
          38,
          38,
          38,
          38,
          39,
          39,
          39,
          39,
          39,
          39,
          40,
          40,
          40,
          41,
          41,
          41,
          41,
          41,
          41,
          43,
          43,
          43,
          43,
          43,
          43,
          6,
          6,
          6,
          6,
          6,
          6,
          7,
          8,
          8,
          8,
          8,
          8,
          8,
          9,
          9,
          9,
          9,
          9,
          9
         ],
         "xaxis": "x",
         "y": [
          16,
          7,
          16,
          18,
          9,
          17,
          13,
          13,
          12,
          16,
          20,
          13,
          10,
          13,
          6,
          15,
          6,
          14,
          9,
          16,
          13,
          14,
          3,
          10,
          25,
          10,
          4,
          17,
          8,
          18,
          6,
          19,
          6,
          20,
          11,
          15,
          9,
          10,
          10,
          11,
          13,
          21,
          10,
          7,
          14,
          9,
          13,
          10,
          0,
          7,
          0,
          3,
          4,
          6,
          10,
          8,
          7,
          6,
          6,
          6,
          7,
          2,
          4,
          1,
          2,
          22,
          3,
          6,
          8,
          6,
          4,
          18,
          10,
          5,
          8,
          13,
          5,
          23,
          10,
          8,
          3,
          10,
          7,
          2,
          7,
          6,
          10,
          8,
          0,
          10,
          9,
          9,
          2,
          13,
          16,
          22,
          1,
          10,
          1,
          14,
          15,
          7,
          1,
          3,
          1,
          3,
          1,
          4,
          3,
          1,
          3,
          3,
          0,
          2,
          17,
          1,
          9,
          11,
          11,
          8,
          22,
          3,
          2,
          3,
          1,
          16,
          4,
          21,
          4,
          4,
          7,
          5,
          12,
          10,
          19,
          17,
          12,
          5,
          15,
          6,
          6,
          0,
          10,
          12,
          1,
          6,
          2,
          1,
          12,
          7,
          4,
          4,
          1,
          0,
          11,
          0,
          4,
          7,
          4,
          2,
          5,
          5,
          6,
          13,
          5,
          14,
          5,
          12,
          8,
          2,
          6,
          8,
          9,
          19,
          5,
          3,
          11,
          3,
          9,
          7,
          4,
          2,
          2,
          7,
          2,
          7,
          4,
          0,
          4,
          3,
          1,
          4,
          3,
          5,
          4,
          2,
          3,
          16,
          21,
          9,
          18,
          6,
          2,
          7,
          8,
          5,
          9,
          11,
          7,
          5,
          10,
          5,
          6,
          27,
          11,
          21,
          8,
          23,
          20,
          5,
          15,
          8,
          14,
          4,
          9,
          17,
          20,
          20,
          19,
          16,
          15,
          27
         ],
         "yaxis": "y"
        }
       ],
       "layout": {
        "legend": {
         "tracegroupgap": 0
        },
        "template": {
         "data": {
          "bar": [
           {
            "error_x": {
             "color": "#2a3f5f"
            },
            "error_y": {
             "color": "#2a3f5f"
            },
            "marker": {
             "line": {
              "color": "#E5ECF6",
              "width": 0.5
             },
             "pattern": {
              "fillmode": "overlay",
              "size": 10,
              "solidity": 0.2
             }
            },
            "type": "bar"
           }
          ],
          "barpolar": [
           {
            "marker": {
             "line": {
              "color": "#E5ECF6",
              "width": 0.5
             },
             "pattern": {
              "fillmode": "overlay",
              "size": 10,
              "solidity": 0.2
             }
            },
            "type": "barpolar"
           }
          ],
          "carpet": [
           {
            "aaxis": {
             "endlinecolor": "#2a3f5f",
             "gridcolor": "white",
             "linecolor": "white",
             "minorgridcolor": "white",
             "startlinecolor": "#2a3f5f"
            },
            "baxis": {
             "endlinecolor": "#2a3f5f",
             "gridcolor": "white",
             "linecolor": "white",
             "minorgridcolor": "white",
             "startlinecolor": "#2a3f5f"
            },
            "type": "carpet"
           }
          ],
          "choropleth": [
           {
            "colorbar": {
             "outlinewidth": 0,
             "ticks": ""
            },
            "type": "choropleth"
           }
          ],
          "contour": [
           {
            "colorbar": {
             "outlinewidth": 0,
             "ticks": ""
            },
            "colorscale": [
             [
              0,
              "#0d0887"
             ],
             [
              0.1111111111111111,
              "#46039f"
             ],
             [
              0.2222222222222222,
              "#7201a8"
             ],
             [
              0.3333333333333333,
              "#9c179e"
             ],
             [
              0.4444444444444444,
              "#bd3786"
             ],
             [
              0.5555555555555556,
              "#d8576b"
             ],
             [
              0.6666666666666666,
              "#ed7953"
             ],
             [
              0.7777777777777778,
              "#fb9f3a"
             ],
             [
              0.8888888888888888,
              "#fdca26"
             ],
             [
              1,
              "#f0f921"
             ]
            ],
            "type": "contour"
           }
          ],
          "contourcarpet": [
           {
            "colorbar": {
             "outlinewidth": 0,
             "ticks": ""
            },
            "type": "contourcarpet"
           }
          ],
          "heatmap": [
           {
            "colorbar": {
             "outlinewidth": 0,
             "ticks": ""
            },
            "colorscale": [
             [
              0,
              "#0d0887"
             ],
             [
              0.1111111111111111,
              "#46039f"
             ],
             [
              0.2222222222222222,
              "#7201a8"
             ],
             [
              0.3333333333333333,
              "#9c179e"
             ],
             [
              0.4444444444444444,
              "#bd3786"
             ],
             [
              0.5555555555555556,
              "#d8576b"
             ],
             [
              0.6666666666666666,
              "#ed7953"
             ],
             [
              0.7777777777777778,
              "#fb9f3a"
             ],
             [
              0.8888888888888888,
              "#fdca26"
             ],
             [
              1,
              "#f0f921"
             ]
            ],
            "type": "heatmap"
           }
          ],
          "heatmapgl": [
           {
            "colorbar": {
             "outlinewidth": 0,
             "ticks": ""
            },
            "colorscale": [
             [
              0,
              "#0d0887"
             ],
             [
              0.1111111111111111,
              "#46039f"
             ],
             [
              0.2222222222222222,
              "#7201a8"
             ],
             [
              0.3333333333333333,
              "#9c179e"
             ],
             [
              0.4444444444444444,
              "#bd3786"
             ],
             [
              0.5555555555555556,
              "#d8576b"
             ],
             [
              0.6666666666666666,
              "#ed7953"
             ],
             [
              0.7777777777777778,
              "#fb9f3a"
             ],
             [
              0.8888888888888888,
              "#fdca26"
             ],
             [
              1,
              "#f0f921"
             ]
            ],
            "type": "heatmapgl"
           }
          ],
          "histogram": [
           {
            "marker": {
             "pattern": {
              "fillmode": "overlay",
              "size": 10,
              "solidity": 0.2
             }
            },
            "type": "histogram"
           }
          ],
          "histogram2d": [
           {
            "colorbar": {
             "outlinewidth": 0,
             "ticks": ""
            },
            "colorscale": [
             [
              0,
              "#0d0887"
             ],
             [
              0.1111111111111111,
              "#46039f"
             ],
             [
              0.2222222222222222,
              "#7201a8"
             ],
             [
              0.3333333333333333,
              "#9c179e"
             ],
             [
              0.4444444444444444,
              "#bd3786"
             ],
             [
              0.5555555555555556,
              "#d8576b"
             ],
             [
              0.6666666666666666,
              "#ed7953"
             ],
             [
              0.7777777777777778,
              "#fb9f3a"
             ],
             [
              0.8888888888888888,
              "#fdca26"
             ],
             [
              1,
              "#f0f921"
             ]
            ],
            "type": "histogram2d"
           }
          ],
          "histogram2dcontour": [
           {
            "colorbar": {
             "outlinewidth": 0,
             "ticks": ""
            },
            "colorscale": [
             [
              0,
              "#0d0887"
             ],
             [
              0.1111111111111111,
              "#46039f"
             ],
             [
              0.2222222222222222,
              "#7201a8"
             ],
             [
              0.3333333333333333,
              "#9c179e"
             ],
             [
              0.4444444444444444,
              "#bd3786"
             ],
             [
              0.5555555555555556,
              "#d8576b"
             ],
             [
              0.6666666666666666,
              "#ed7953"
             ],
             [
              0.7777777777777778,
              "#fb9f3a"
             ],
             [
              0.8888888888888888,
              "#fdca26"
             ],
             [
              1,
              "#f0f921"
             ]
            ],
            "type": "histogram2dcontour"
           }
          ],
          "mesh3d": [
           {
            "colorbar": {
             "outlinewidth": 0,
             "ticks": ""
            },
            "type": "mesh3d"
           }
          ],
          "parcoords": [
           {
            "line": {
             "colorbar": {
              "outlinewidth": 0,
              "ticks": ""
             }
            },
            "type": "parcoords"
           }
          ],
          "pie": [
           {
            "automargin": true,
            "type": "pie"
           }
          ],
          "scatter": [
           {
            "fillpattern": {
             "fillmode": "overlay",
             "size": 10,
             "solidity": 0.2
            },
            "type": "scatter"
           }
          ],
          "scatter3d": [
           {
            "line": {
             "colorbar": {
              "outlinewidth": 0,
              "ticks": ""
             }
            },
            "marker": {
             "colorbar": {
              "outlinewidth": 0,
              "ticks": ""
             }
            },
            "type": "scatter3d"
           }
          ],
          "scattercarpet": [
           {
            "marker": {
             "colorbar": {
              "outlinewidth": 0,
              "ticks": ""
             }
            },
            "type": "scattercarpet"
           }
          ],
          "scattergeo": [
           {
            "marker": {
             "colorbar": {
              "outlinewidth": 0,
              "ticks": ""
             }
            },
            "type": "scattergeo"
           }
          ],
          "scattergl": [
           {
            "marker": {
             "colorbar": {
              "outlinewidth": 0,
              "ticks": ""
             }
            },
            "type": "scattergl"
           }
          ],
          "scattermapbox": [
           {
            "marker": {
             "colorbar": {
              "outlinewidth": 0,
              "ticks": ""
             }
            },
            "type": "scattermapbox"
           }
          ],
          "scatterpolar": [
           {
            "marker": {
             "colorbar": {
              "outlinewidth": 0,
              "ticks": ""
             }
            },
            "type": "scatterpolar"
           }
          ],
          "scatterpolargl": [
           {
            "marker": {
             "colorbar": {
              "outlinewidth": 0,
              "ticks": ""
             }
            },
            "type": "scatterpolargl"
           }
          ],
          "scatterternary": [
           {
            "marker": {
             "colorbar": {
              "outlinewidth": 0,
              "ticks": ""
             }
            },
            "type": "scatterternary"
           }
          ],
          "surface": [
           {
            "colorbar": {
             "outlinewidth": 0,
             "ticks": ""
            },
            "colorscale": [
             [
              0,
              "#0d0887"
             ],
             [
              0.1111111111111111,
              "#46039f"
             ],
             [
              0.2222222222222222,
              "#7201a8"
             ],
             [
              0.3333333333333333,
              "#9c179e"
             ],
             [
              0.4444444444444444,
              "#bd3786"
             ],
             [
              0.5555555555555556,
              "#d8576b"
             ],
             [
              0.6666666666666666,
              "#ed7953"
             ],
             [
              0.7777777777777778,
              "#fb9f3a"
             ],
             [
              0.8888888888888888,
              "#fdca26"
             ],
             [
              1,
              "#f0f921"
             ]
            ],
            "type": "surface"
           }
          ],
          "table": [
           {
            "cells": {
             "fill": {
              "color": "#EBF0F8"
             },
             "line": {
              "color": "white"
             }
            },
            "header": {
             "fill": {
              "color": "#C8D4E3"
             },
             "line": {
              "color": "white"
             }
            },
            "type": "table"
           }
          ]
         },
         "layout": {
          "annotationdefaults": {
           "arrowcolor": "#2a3f5f",
           "arrowhead": 0,
           "arrowwidth": 1
          },
          "autotypenumbers": "strict",
          "coloraxis": {
           "colorbar": {
            "outlinewidth": 0,
            "ticks": ""
           }
          },
          "colorscale": {
           "diverging": [
            [
             0,
             "#8e0152"
            ],
            [
             0.1,
             "#c51b7d"
            ],
            [
             0.2,
             "#de77ae"
            ],
            [
             0.3,
             "#f1b6da"
            ],
            [
             0.4,
             "#fde0ef"
            ],
            [
             0.5,
             "#f7f7f7"
            ],
            [
             0.6,
             "#e6f5d0"
            ],
            [
             0.7,
             "#b8e186"
            ],
            [
             0.8,
             "#7fbc41"
            ],
            [
             0.9,
             "#4d9221"
            ],
            [
             1,
             "#276419"
            ]
           ],
           "sequential": [
            [
             0,
             "#0d0887"
            ],
            [
             0.1111111111111111,
             "#46039f"
            ],
            [
             0.2222222222222222,
             "#7201a8"
            ],
            [
             0.3333333333333333,
             "#9c179e"
            ],
            [
             0.4444444444444444,
             "#bd3786"
            ],
            [
             0.5555555555555556,
             "#d8576b"
            ],
            [
             0.6666666666666666,
             "#ed7953"
            ],
            [
             0.7777777777777778,
             "#fb9f3a"
            ],
            [
             0.8888888888888888,
             "#fdca26"
            ],
            [
             1,
             "#f0f921"
            ]
           ],
           "sequentialminus": [
            [
             0,
             "#0d0887"
            ],
            [
             0.1111111111111111,
             "#46039f"
            ],
            [
             0.2222222222222222,
             "#7201a8"
            ],
            [
             0.3333333333333333,
             "#9c179e"
            ],
            [
             0.4444444444444444,
             "#bd3786"
            ],
            [
             0.5555555555555556,
             "#d8576b"
            ],
            [
             0.6666666666666666,
             "#ed7953"
            ],
            [
             0.7777777777777778,
             "#fb9f3a"
            ],
            [
             0.8888888888888888,
             "#fdca26"
            ],
            [
             1,
             "#f0f921"
            ]
           ]
          },
          "colorway": [
           "#636efa",
           "#EF553B",
           "#00cc96",
           "#ab63fa",
           "#FFA15A",
           "#19d3f3",
           "#FF6692",
           "#B6E880",
           "#FF97FF",
           "#FECB52"
          ],
          "font": {
           "color": "#2a3f5f"
          },
          "geo": {
           "bgcolor": "white",
           "lakecolor": "white",
           "landcolor": "#E5ECF6",
           "showlakes": true,
           "showland": true,
           "subunitcolor": "white"
          },
          "hoverlabel": {
           "align": "left"
          },
          "hovermode": "closest",
          "mapbox": {
           "style": "light"
          },
          "paper_bgcolor": "white",
          "plot_bgcolor": "#E5ECF6",
          "polar": {
           "angularaxis": {
            "gridcolor": "white",
            "linecolor": "white",
            "ticks": ""
           },
           "bgcolor": "#E5ECF6",
           "radialaxis": {
            "gridcolor": "white",
            "linecolor": "white",
            "ticks": ""
           }
          },
          "scene": {
           "xaxis": {
            "backgroundcolor": "#E5ECF6",
            "gridcolor": "white",
            "gridwidth": 2,
            "linecolor": "white",
            "showbackground": true,
            "ticks": "",
            "zerolinecolor": "white"
           },
           "yaxis": {
            "backgroundcolor": "#E5ECF6",
            "gridcolor": "white",
            "gridwidth": 2,
            "linecolor": "white",
            "showbackground": true,
            "ticks": "",
            "zerolinecolor": "white"
           },
           "zaxis": {
            "backgroundcolor": "#E5ECF6",
            "gridcolor": "white",
            "gridwidth": 2,
            "linecolor": "white",
            "showbackground": true,
            "ticks": "",
            "zerolinecolor": "white"
           }
          },
          "shapedefaults": {
           "line": {
            "color": "#2a3f5f"
           }
          },
          "ternary": {
           "aaxis": {
            "gridcolor": "white",
            "linecolor": "white",
            "ticks": ""
           },
           "baxis": {
            "gridcolor": "white",
            "linecolor": "white",
            "ticks": ""
           },
           "bgcolor": "#E5ECF6",
           "caxis": {
            "gridcolor": "white",
            "linecolor": "white",
            "ticks": ""
           }
          },
          "title": {
           "x": 0.05
          },
          "xaxis": {
           "automargin": true,
           "gridcolor": "white",
           "linecolor": "white",
           "ticks": "",
           "title": {
            "standoff": 15
           },
           "zerolinecolor": "white",
           "zerolinewidth": 2
          },
          "yaxis": {
           "automargin": true,
           "gridcolor": "white",
           "linecolor": "white",
           "ticks": "",
           "title": {
            "standoff": 15
           },
           "zerolinecolor": "white",
           "zerolinewidth": 2
          }
         }
        },
        "title": {
         "text": "Nr of Astrocyte+ nuclei by Sample - cellpdia30_sigma1_dilrad4_dnad_obj_seg_v3_gliaero6_gliathr30_dnadero2"
        },
        "xaxis": {
         "anchor": "y",
         "domain": [
          0,
          1
         ],
         "title": {
          "text": "staining_id"
         }
        },
        "yaxis": {
         "anchor": "x",
         "domain": [
          0,
          1
         ],
         "title": {
          "text": "nr_glia_+_nuclei"
         }
        }
       }
      }
     },
     "metadata": {},
     "output_type": "display_data"
    },
    {
     "data": {
      "application/vnd.plotly.v1+json": {
       "config": {
        "plotlyServerURL": "https://plot.ly"
       },
       "data": [
        {
         "customdata": [
          [
           0,
           "DSB GFAP 101_40X_CA1"
          ],
          [
           1,
           "DSB GFAP 101_40X_CA3"
          ],
          [
           2,
           "DSB GFAP 101_40X_CTX1"
          ],
          [
           3,
           "DSB GFAP 101_40X_CTX2"
          ],
          [
           4,
           "DSB GFAP 101_40X_CTX3"
          ],
          [
           5,
           "DSB GFAP 101_40X_DG"
          ],
          [
           6,
           "DSB GFAP 102_40X_CA1"
          ],
          [
           7,
           "DSB GFAP 102_40X_CA3"
          ],
          [
           8,
           "DSB GFAP 102_40X_CTX1"
          ],
          [
           9,
           "DSB GFAP 102_40X_CTX2"
          ],
          [
           10,
           "DSB GFAP 102_40X_CTX3"
          ],
          [
           11,
           "DSB GFAP 102_40X_DG"
          ],
          [
           12,
           "DSB GFAP 103_40X_CA1"
          ],
          [
           13,
           "DSB GFAP 103_40X_CA3"
          ],
          [
           14,
           "DSB GFAP 103_40X_CTX1"
          ],
          [
           15,
           "DSB GFAP 103_40X_CTX2"
          ],
          [
           16,
           "DSB GFAP 103_40X_CTX3"
          ],
          [
           17,
           "DSB GFAP 103_40X_DG"
          ],
          [
           18,
           "DSB GFAP 104_40X_CA1"
          ],
          [
           19,
           "DSB GFAP 104_40X_CA3"
          ],
          [
           20,
           "DSB GFAP 104_40X_CTX1"
          ],
          [
           21,
           "DSB GFAP 104_40X_CTX2"
          ],
          [
           22,
           "DSB GFAP 104_40X_CTX3"
          ],
          [
           23,
           "DSB GFAP 104_40X_DG"
          ],
          [
           24,
           "DSB GFAP 105_40X_CA1"
          ],
          [
           25,
           "DSB GFAP 105_40X_CA3"
          ],
          [
           26,
           "DSB GFAP 105_40X_CTX1"
          ],
          [
           27,
           "DSB GFAP 105_40X_CTX2"
          ],
          [
           28,
           "DSB GFAP 105_40X_CTX3"
          ],
          [
           29,
           "DSB GFAP 105_40X_DG"
          ],
          [
           30,
           "DSB GFAP 106_40X_CA1"
          ],
          [
           31,
           "DSB GFAP 106_40X_CA3"
          ],
          [
           32,
           "DSB GFAP 106_40X_CTX1"
          ],
          [
           33,
           "DSB GFAP 106_40X_CTX2"
          ],
          [
           34,
           "DSB GFAP 106_40X_CTX3"
          ],
          [
           35,
           "DSB GFAP 106_40X_DG"
          ],
          [
           36,
           "DSB GFAP 107_40X_CA1"
          ],
          [
           37,
           "DSB GFAP 107_40X_CA3"
          ],
          [
           38,
           "DSB GFAP 107_40X_CTX1"
          ],
          [
           39,
           "DSB GFAP 107_40X_CTX2"
          ],
          [
           40,
           "DSB GFAP 107_40X_CTX3"
          ],
          [
           41,
           "DSB GFAP 107_40X_DG"
          ],
          [
           42,
           "DSB GFAP 108_40X_CA1"
          ],
          [
           43,
           "DSB GFAP 108_40X_CA3"
          ],
          [
           44,
           "DSB GFAP 108_40X_CTX1"
          ],
          [
           45,
           "DSB GFAP 108_40X_CTX2"
          ],
          [
           46,
           "DSB GFAP 108_40X_CTX3"
          ],
          [
           47,
           "DSB GFAP 108_40X_DG"
          ],
          [
           48,
           "DSB GFAP 10_40X_CA1"
          ],
          [
           49,
           "DSB GFAP 10_40X_CA3"
          ],
          [
           50,
           "DSB GFAP 10_40X_CTX1"
          ],
          [
           51,
           "DSB GFAP 10_40X_CTX2"
          ],
          [
           52,
           "DSB GFAP 10_40X_CTX3"
          ],
          [
           53,
           "DSB GFAP 10_40X_DG"
          ],
          [
           54,
           "DSB GFAP 11_40X_CA1"
          ],
          [
           55,
           "DSB GFAP 11_40X_CA3"
          ],
          [
           56,
           "DSB GFAP 11_40X_CTX1"
          ],
          [
           57,
           "DSB GFAP 11_40X_CTX2"
          ],
          [
           58,
           "DSB GFAP 11_40X_CTX3"
          ],
          [
           59,
           "DSB GFAP 11_40X_DG"
          ],
          [
           60,
           "DSB GFAP 12_40X_CA1"
          ],
          [
           61,
           "DSB GFAP 12_40X_CA3"
          ],
          [
           62,
           "DSB GFAP 12_40X_CTX1"
          ],
          [
           63,
           "DSB GFAP 12_40X_CTX2"
          ],
          [
           64,
           "DSB GFAP 12_40X_CTX3"
          ],
          [
           65,
           "DSB GFAP 12_40X_DG"
          ],
          [
           66,
           "DSB GFAP 13_40X_CA1"
          ],
          [
           67,
           "DSB GFAP 13_40X_CA3"
          ],
          [
           68,
           "DSB GFAP 13_40X_CTX1"
          ],
          [
           69,
           "DSB GFAP 13_40X_CTX2"
          ],
          [
           70,
           "DSB GFAP 13_40X_CTX3"
          ],
          [
           71,
           "DSB GFAP 13_40X_DG"
          ],
          [
           72,
           "DSB GFAP 14_40X_CA1"
          ],
          [
           73,
           "DSB GFAP 14_40X_CA3"
          ],
          [
           74,
           "DSB GFAP 14_40X_CTX1"
          ],
          [
           75,
           "DSB GFAP 14_40X_CTX2"
          ],
          [
           76,
           "DSB GFAP 14_40X_CTX3"
          ],
          [
           77,
           "DSB GFAP 14_40X_DG"
          ],
          [
           78,
           "DSB GFAP 15_40X_CA1"
          ],
          [
           79,
           "DSB GFAP 15_40X_CA3"
          ],
          [
           80,
           "DSB GFAP 15_40X_CTX1"
          ],
          [
           81,
           "DSB GFAP 15_40X_CTX2"
          ],
          [
           82,
           "DSB GFAP 15_40X_CTX3"
          ],
          [
           83,
           "DSB GFAP 15_40X_DG"
          ],
          [
           84,
           "DSB GFAP 16_40X_CA1"
          ],
          [
           85,
           "DSB GFAP 16_40X_CA3"
          ],
          [
           86,
           "DSB GFAP 16_40X_CTX1"
          ],
          [
           87,
           "DSB GFAP 16_40X_CTX2"
          ],
          [
           88,
           "DSB GFAP 16_40X_CTX3"
          ],
          [
           89,
           "DSB GFAP 16_40X_DG"
          ],
          [
           90,
           "DSB GFAP 18_40X_CA1"
          ],
          [
           91,
           "DSB GFAP 18_40X_CA3"
          ],
          [
           92,
           "DSB GFAP 18_40X_CTX1"
          ],
          [
           93,
           "DSB GFAP 18_40X_CTX2"
          ],
          [
           94,
           "DSB GFAP 18_40X_CTX3"
          ],
          [
           95,
           "DSB GFAP 18_40X_DG"
          ],
          [
           96,
           "DSB GFAP 20_40X_CA1"
          ],
          [
           97,
           "DSB GFAP 20_40X_CA3"
          ],
          [
           98,
           "DSB GFAP 20_40X_CTX1"
          ],
          [
           99,
           "DSB GFAP 20_40X_CTX2"
          ],
          [
           100,
           "DSB GFAP 20_40X_CTX3"
          ],
          [
           101,
           "DSB GFAP 20_40X_DG"
          ],
          [
           102,
           "DSB GFAP 21_40X_CA1"
          ],
          [
           103,
           "DSB GFAP 21_40X_CA3"
          ],
          [
           104,
           "DSB GFAP 21_40X_CTX1"
          ],
          [
           105,
           "DSB GFAP 21_40X_CTX2"
          ],
          [
           106,
           "DSB GFAP 21_40X_CTX3"
          ],
          [
           107,
           "DSB GFAP 21_40X_DG"
          ],
          [
           108,
           "DSB GFAP 22_40X_CA1"
          ],
          [
           109,
           "DSB GFAP 22_40X_CA3"
          ],
          [
           110,
           "DSB GFAP 22_40X_CTX1"
          ],
          [
           111,
           "DSB GFAP 22_40X_CTX2"
          ],
          [
           112,
           "DSB GFAP 22_40X_CTX3"
          ],
          [
           113,
           "DSB GFAP 22_40X_DG"
          ],
          [
           114,
           "DSB GFAP 23_40X_DG"
          ],
          [
           115,
           "DSB GFAP 24_40X_CA1"
          ],
          [
           116,
           "DSB GFAP 24_40X_CA3"
          ],
          [
           117,
           "DSB GFAP 24_40X_CTX1"
          ],
          [
           118,
           "DSB GFAP 24_40X_CTX2"
          ],
          [
           119,
           "DSB GFAP 24_40X_CTX3"
          ],
          [
           120,
           "DSB GFAP 24_40X_DG"
          ],
          [
           121,
           "DSB GFAP 25_40X_CA1"
          ],
          [
           122,
           "DSB GFAP 25_40X_CA3"
          ],
          [
           123,
           "DSB GFAP 25_40X_CTX1"
          ],
          [
           124,
           "DSB GFAP 25_40X_CTX2"
          ],
          [
           125,
           "DSB GFAP 25_40X_CTX3"
          ],
          [
           126,
           "DSB GFAP 25_40X_DG"
          ],
          [
           127,
           "DSB GFAP 26_40X_CA1"
          ],
          [
           128,
           "DSB GFAP 26_40X_CA3"
          ],
          [
           129,
           "DSB GFAP 26_40X_CTX1"
          ],
          [
           130,
           "DSB GFAP 26_40X_CTX2"
          ],
          [
           131,
           "DSB GFAP 26_40X_CTX3"
          ],
          [
           132,
           "DSB GFAP 26_40X_DG"
          ],
          [
           133,
           "DSB GFAP 27_40X_CA1"
          ],
          [
           134,
           "DSB GFAP 27_40X_CA3"
          ],
          [
           135,
           "DSB GFAP 27_40X_CTX1"
          ],
          [
           136,
           "DSB GFAP 27_40X_CTX2"
          ],
          [
           137,
           "DSB GFAP 27_40X_CTX3"
          ],
          [
           138,
           "DSB GFAP 27_40X_DG"
          ],
          [
           139,
           "DSB GFAP 28_40X_CA1"
          ],
          [
           140,
           "DSB GFAP 28_40X_CA3"
          ],
          [
           141,
           "DSB GFAP 28_40X_CTX1"
          ],
          [
           142,
           "DSB GFAP 28_40X_DG"
          ],
          [
           143,
           "DSB GFAP 29_40X_CA1"
          ],
          [
           144,
           "DSB GFAP 29_40X_CA3"
          ],
          [
           145,
           "DSB GFAP 29_40X_CTX1"
          ],
          [
           146,
           "DSB GFAP 29_40X_CTX2"
          ],
          [
           147,
           "DSB GFAP 29_40X_CTX3"
          ],
          [
           148,
           "DSB GFAP 29_40X_DG"
          ],
          [
           149,
           "DSB GFAP 30_40X_CA1"
          ],
          [
           150,
           "DSB GFAP 30_40X_CA3"
          ],
          [
           151,
           "DSB GFAP 30_40X_CTX1"
          ],
          [
           152,
           "DSB GFAP 30_40X_CTX2"
          ],
          [
           153,
           "DSB GFAP 30_40X_CTX3"
          ],
          [
           154,
           "DSB GFAP 30_40X_DG"
          ],
          [
           155,
           "DSB GFAP 31_40X_DG"
          ],
          [
           156,
           "DSB GFAP 32_40X_CA1"
          ],
          [
           157,
           "DSB GFAP 32_40X_CA3"
          ],
          [
           158,
           "DSB GFAP 32_40X_CTX1"
          ],
          [
           159,
           "DSB GFAP 32_40X_CTX2"
          ],
          [
           160,
           "DSB GFAP 32_40X_CTX3"
          ],
          [
           161,
           "DSB GFAP 32_40X_DG"
          ],
          [
           162,
           "DSB GFAP 34_40X_CA1"
          ],
          [
           163,
           "DSB GFAP 34_40X_CA3"
          ],
          [
           164,
           "DSB GFAP 34_40X_CTX1"
          ],
          [
           165,
           "DSB GFAP 34_40X_CTX2"
          ],
          [
           166,
           "DSB GFAP 34_40X_CTX3"
          ],
          [
           167,
           "DSB GFAP 34_40X_DG"
          ],
          [
           168,
           "DSB GFAP 35_40X_CA1"
          ],
          [
           169,
           "DSB GFAP 35_40X_CA3"
          ],
          [
           170,
           "DSB GFAP 35_40X_CTX1"
          ],
          [
           171,
           "DSB GFAP 35_40X_CTX2"
          ],
          [
           172,
           "DSB GFAP 35_40X_CTX3"
          ],
          [
           173,
           "DSB GFAP 35_40X_DG"
          ],
          [
           174,
           "DSB GFAP 36_40X_CA1"
          ],
          [
           175,
           "DSB GFAP 36_40X_CA3"
          ],
          [
           176,
           "DSB GFAP 36_40X_CTX1"
          ],
          [
           177,
           "DSB GFAP 36_40X_CTX2"
          ],
          [
           178,
           "DSB GFAP 36_40X_CTX3"
          ],
          [
           179,
           "DSB GFAP 36_40X_DG"
          ],
          [
           180,
           "DSB GFAP 37_40X_CA1"
          ],
          [
           181,
           "DSB GFAP 37_40X_CA3"
          ],
          [
           182,
           "DSB GFAP 37_40X_CTX1"
          ],
          [
           183,
           "DSB GFAP 37_40X_CTX2"
          ],
          [
           184,
           "DSB GFAP 37_40X_CTX3"
          ],
          [
           185,
           "DSB GFAP 37_40X_DG"
          ],
          [
           186,
           "DSB GFAP 38_40X_CA1"
          ],
          [
           187,
           "DSB GFAP 38_40X_CA3"
          ],
          [
           188,
           "DSB GFAP 38_40X_CTX1"
          ],
          [
           189,
           "DSB GFAP 38_40X_CTX2"
          ],
          [
           190,
           "DSB GFAP 38_40X_CTX3"
          ],
          [
           191,
           "DSB GFAP 38_40X_DG"
          ],
          [
           192,
           "DSB GFAP 39_40X_CA1"
          ],
          [
           193,
           "DSB GFAP 39_40X_CA3"
          ],
          [
           194,
           "DSB GFAP 39_40X_CTX1"
          ],
          [
           195,
           "DSB GFAP 39_40X_CTX2"
          ],
          [
           196,
           "DSB GFAP 39_40X_CTX3"
          ],
          [
           197,
           "DSB GFAP 39_40X_DG"
          ],
          [
           198,
           "DSB GFAP 40_40X_CA1"
          ],
          [
           199,
           "DSB GFAP 40_40X_CA3"
          ],
          [
           200,
           "DSB GFAP 40_40X_DG"
          ],
          [
           201,
           "DSB GFAP 41_40X_CA1"
          ],
          [
           202,
           "DSB GFAP 41_40X_CA3"
          ],
          [
           203,
           "DSB GFAP 41_40X_CTX1"
          ],
          [
           204,
           "DSB GFAP 41_40X_CTX2"
          ],
          [
           205,
           "DSB GFAP 41_40X_CTX3"
          ],
          [
           206,
           "DSB GFAP 41_40X_DG"
          ],
          [
           207,
           "DSB GFAP 43_40X_CA1"
          ],
          [
           208,
           "DSB GFAP 43_40X_CA3"
          ],
          [
           209,
           "DSB GFAP 43_40X_CTX1"
          ],
          [
           210,
           "DSB GFAP 43_40X_CTX2"
          ],
          [
           211,
           "DSB GFAP 43_40X_CTX3"
          ],
          [
           212,
           "DSB GFAP 43_40X_DG"
          ],
          [
           213,
           "DSB GFAP 6_40X_CA1"
          ],
          [
           214,
           "DSB GFAP 6_40X_CA3"
          ],
          [
           215,
           "DSB GFAP 6_40X_CTX1"
          ],
          [
           216,
           "DSB GFAP 6_40X_CTX2"
          ],
          [
           217,
           "DSB GFAP 6_40X_CTX3"
          ],
          [
           218,
           "DSB GFAP 6_40X_DG"
          ],
          [
           219,
           "DSB GFAP 7_40X_DG"
          ],
          [
           220,
           "DSB GFAP 8_40X_CA1"
          ],
          [
           221,
           "DSB GFAP 8_40X_CA3"
          ],
          [
           222,
           "DSB GFAP 8_40X_CTX1"
          ],
          [
           223,
           "DSB GFAP 8_40X_CTX2"
          ],
          [
           224,
           "DSB GFAP 8_40X_CTX3"
          ],
          [
           225,
           "DSB GFAP 8_40X_DG"
          ],
          [
           226,
           "DSB GFAP 9_40X_CA1"
          ],
          [
           227,
           "DSB GFAP 9_40X_CA3"
          ],
          [
           228,
           "DSB GFAP 9_40X_CTX1"
          ],
          [
           229,
           "DSB GFAP 9_40X_CTX2"
          ],
          [
           230,
           "DSB GFAP 9_40X_CTX3"
          ],
          [
           231,
           "DSB GFAP 9_40X_DG"
          ]
         ],
         "hovertemplate": "staining_id=%{x}<br>%_dna_damage_signal=%{y}<br>index=%{customdata[0]}<br>filename=%{customdata[1]}<extra></extra>",
         "legendgroup": "",
         "marker": {
          "color": "#636efa",
          "symbol": "circle"
         },
         "mode": "markers",
         "name": "",
         "orientation": "v",
         "showlegend": false,
         "type": "scatter",
         "x": [
          101,
          101,
          101,
          101,
          101,
          101,
          102,
          102,
          102,
          102,
          102,
          102,
          103,
          103,
          103,
          103,
          103,
          103,
          104,
          104,
          104,
          104,
          104,
          104,
          105,
          105,
          105,
          105,
          105,
          105,
          106,
          106,
          106,
          106,
          106,
          106,
          107,
          107,
          107,
          107,
          107,
          107,
          108,
          108,
          108,
          108,
          108,
          108,
          10,
          10,
          10,
          10,
          10,
          10,
          11,
          11,
          11,
          11,
          11,
          11,
          12,
          12,
          12,
          12,
          12,
          12,
          13,
          13,
          13,
          13,
          13,
          13,
          14,
          14,
          14,
          14,
          14,
          14,
          15,
          15,
          15,
          15,
          15,
          15,
          16,
          16,
          16,
          16,
          16,
          16,
          18,
          18,
          18,
          18,
          18,
          18,
          20,
          20,
          20,
          20,
          20,
          20,
          21,
          21,
          21,
          21,
          21,
          21,
          22,
          22,
          22,
          22,
          22,
          22,
          23,
          24,
          24,
          24,
          24,
          24,
          24,
          25,
          25,
          25,
          25,
          25,
          25,
          26,
          26,
          26,
          26,
          26,
          26,
          27,
          27,
          27,
          27,
          27,
          27,
          28,
          28,
          28,
          28,
          29,
          29,
          29,
          29,
          29,
          29,
          30,
          30,
          30,
          30,
          30,
          30,
          31,
          32,
          32,
          32,
          32,
          32,
          32,
          34,
          34,
          34,
          34,
          34,
          34,
          35,
          35,
          35,
          35,
          35,
          35,
          36,
          36,
          36,
          36,
          36,
          36,
          37,
          37,
          37,
          37,
          37,
          37,
          38,
          38,
          38,
          38,
          38,
          38,
          39,
          39,
          39,
          39,
          39,
          39,
          40,
          40,
          40,
          41,
          41,
          41,
          41,
          41,
          41,
          43,
          43,
          43,
          43,
          43,
          43,
          6,
          6,
          6,
          6,
          6,
          6,
          7,
          8,
          8,
          8,
          8,
          8,
          8,
          9,
          9,
          9,
          9,
          9,
          9
         ],
         "xaxis": "x",
         "y": [
          0.4725456237792969,
          0.7611274719238281,
          0.3965377807617187,
          0.5721092224121094,
          0.6003379821777344,
          2.020263671875,
          0.566864013671875,
          0.5551338195800781,
          0.4225730895996094,
          0.6781578063964844,
          0.3781318664550781,
          1.9415855407714844,
          0.5095481872558594,
          0.4404067993164062,
          0.485992431640625,
          0.8861541748046875,
          0.3008842468261719,
          1.5256881713867188,
          0.6280899047851562,
          0.8508682250976562,
          0.5404472351074219,
          0.3686904907226562,
          0.428009033203125,
          1.607513427734375,
          0.4522323608398437,
          0.5575180053710938,
          0.5476951599121094,
          0.7361412048339844,
          0.3973007202148437,
          1.9763946533203125,
          0.45928955078125,
          0.579833984375,
          0.653076171875,
          0.5952835083007812,
          0.4657745361328125,
          1.666545867919922,
          0.5602836608886719,
          0.391387939453125,
          0.3975868225097656,
          0.8997917175292969,
          0.7350921630859375,
          1.6450881958007812,
          0.5014419555664062,
          0.3876686096191406,
          0.3694534301757812,
          0.6857872009277344,
          0.344085693359375,
          2.307891845703125,
          0.3535270690917969,
          0.5153656005859375,
          0.4693984985351562,
          0.5901336669921875,
          0.7015228271484375,
          1.5699386596679688,
          0.5736351013183594,
          0.4551887512207031,
          0.246429443359375,
          0.438690185546875,
          0.4511833190917969,
          1.663494110107422,
          0.4827499389648437,
          0.4215240478515625,
          0.5250930786132812,
          0.506591796875,
          0.6685256958007812,
          1.5211105346679688,
          0.1562118530273437,
          0.3890037536621094,
          0.1530647277832031,
          0.1454353332519531,
          0.150299072265625,
          0.2482414245605468,
          0.5146980285644531,
          0.4983901977539062,
          0.5137443542480469,
          0.7006645202636719,
          0.4778861999511719,
          1.6267776489257812,
          0.7039070129394531,
          0.5922317504882812,
          0.8486747741699219,
          0.6150245666503906,
          0.4511833190917969,
          1.8533706665039065,
          0.2294540405273437,
          0.6850242614746094,
          0.2105712890625,
          0.3108024597167969,
          0.3330230712890625,
          0.5634307861328125,
          0.3782272338867187,
          0.5087852478027344,
          0.2523422241210937,
          0.4124641418457031,
          0.3830909729003906,
          0.8826255798339844,
          0.171661376953125,
          0.6876945495605469,
          0.3232955932617187,
          0.8154869079589844,
          1.080322265625,
          0.4770278930664062,
          0.1826286315917968,
          0.28533935546875,
          0.1235008239746093,
          0.1203536987304687,
          0.1572608947753906,
          0.4962921142578125,
          0.2860069274902344,
          1.0817527770996094,
          0.6397247314453125,
          0.5806922912597656,
          0.5559921264648438,
          0.891876220703125,
          0.506591796875,
          0.3842353820800781,
          0.5433082580566406,
          0.9565353393554688,
          0.7462501525878906,
          0.45166015625,
          1.6458511352539062,
          0.7488250732421875,
          1.2500762939453125,
          0.5418777465820312,
          0.5244255065917969,
          0.4054069519042969,
          3.1617164611816406,
          0.4570960998535156,
          1.0031700134277344,
          0.5873680114746094,
          1.237201690673828,
          0.545501708984375,
          0.9177207946777344,
          0.6780624389648438,
          0.7257461547851562,
          1.1672019958496094,
          0.9129524230957032,
          0.3527641296386719,
          2.33621597290039,
          0.3314971923828125,
          0.4487991333007812,
          0.1791000366210937,
          0.6534576416015625,
          0.3802299499511719,
          0.2157211303710937,
          0.2934455871582031,
          0.2292633056640625,
          0.06256103515625,
          1.0630607604980469,
          0.4431724548339844,
          0.6663322448730469,
          0.4695892333984375,
          0.5129814147949219,
          0.4507064819335937,
          1.3042449951171875,
          0.193023681640625,
          0.4670143127441406,
          0.3749847412109375,
          0.296783447265625,
          0.23040771484375,
          0.2642631530761719,
          1.813983917236328,
          0.3659248352050781,
          0.4090309143066406,
          0.2234458923339843,
          0.37994384765625,
          0.1139640808105468,
          1.0900497436523438,
          0.5911827087402344,
          1.5254020690917969,
          0.8456230163574219,
          0.6237030029296875,
          0.7940292358398438,
          0.7998466491699219,
          0.6959915161132812,
          0.6776809692382812,
          0.7035255432128906,
          0.7449150085449219,
          0.54931640625,
          1.8009185791015625,
          0.4140853881835937,
          0.5016326904296875,
          0.5445480346679688,
          0.9866714477539062,
          0.5864143371582031,
          1.2254714965820312,
          0.2256393432617187,
          0.2506256103515625,
          0.3667831420898437,
          0.3007888793945312,
          0.1803398132324218,
          1.1613845825195312,
          0.6970405578613281,
          0.6003379821777344,
          0.4176139831542969,
          0.374603271484375,
          0.2704620361328125,
          1.0580062866210938,
          0.6139755249023438,
          0.5290031433105469,
          0.7630348205566406,
          0.2710342407226562,
          0.6425857543945312,
          0.328826904296875,
          0.2527236938476562,
          0.2326011657714843,
          1.3192176818847656,
          0.3383636474609375,
          0.2581596374511719,
          0.4772186279296875,
          0.4242897033691406,
          0.3557205200195312,
          1.0764122009277344,
          0.6907463073730469,
          0.4751205444335937,
          0.6030082702636719,
          0.4426956176757812,
          0.441741943359375,
          2.957439422607422,
          0.0020027160644531,
          0.5617141723632812,
          0.6836891174316406,
          0.4965782165527344,
          0.4026412963867187,
          0.4750251770019531,
          1.6843795776367188,
          0.4012107849121094,
          0.4391670227050781,
          0.3623008728027344,
          0.3438949584960937,
          0.3046035766601562,
          0.6712913513183594
         ],
         "yaxis": "y"
        }
       ],
       "layout": {
        "legend": {
         "tracegroupgap": 0
        },
        "template": {
         "data": {
          "bar": [
           {
            "error_x": {
             "color": "#2a3f5f"
            },
            "error_y": {
             "color": "#2a3f5f"
            },
            "marker": {
             "line": {
              "color": "#E5ECF6",
              "width": 0.5
             },
             "pattern": {
              "fillmode": "overlay",
              "size": 10,
              "solidity": 0.2
             }
            },
            "type": "bar"
           }
          ],
          "barpolar": [
           {
            "marker": {
             "line": {
              "color": "#E5ECF6",
              "width": 0.5
             },
             "pattern": {
              "fillmode": "overlay",
              "size": 10,
              "solidity": 0.2
             }
            },
            "type": "barpolar"
           }
          ],
          "carpet": [
           {
            "aaxis": {
             "endlinecolor": "#2a3f5f",
             "gridcolor": "white",
             "linecolor": "white",
             "minorgridcolor": "white",
             "startlinecolor": "#2a3f5f"
            },
            "baxis": {
             "endlinecolor": "#2a3f5f",
             "gridcolor": "white",
             "linecolor": "white",
             "minorgridcolor": "white",
             "startlinecolor": "#2a3f5f"
            },
            "type": "carpet"
           }
          ],
          "choropleth": [
           {
            "colorbar": {
             "outlinewidth": 0,
             "ticks": ""
            },
            "type": "choropleth"
           }
          ],
          "contour": [
           {
            "colorbar": {
             "outlinewidth": 0,
             "ticks": ""
            },
            "colorscale": [
             [
              0,
              "#0d0887"
             ],
             [
              0.1111111111111111,
              "#46039f"
             ],
             [
              0.2222222222222222,
              "#7201a8"
             ],
             [
              0.3333333333333333,
              "#9c179e"
             ],
             [
              0.4444444444444444,
              "#bd3786"
             ],
             [
              0.5555555555555556,
              "#d8576b"
             ],
             [
              0.6666666666666666,
              "#ed7953"
             ],
             [
              0.7777777777777778,
              "#fb9f3a"
             ],
             [
              0.8888888888888888,
              "#fdca26"
             ],
             [
              1,
              "#f0f921"
             ]
            ],
            "type": "contour"
           }
          ],
          "contourcarpet": [
           {
            "colorbar": {
             "outlinewidth": 0,
             "ticks": ""
            },
            "type": "contourcarpet"
           }
          ],
          "heatmap": [
           {
            "colorbar": {
             "outlinewidth": 0,
             "ticks": ""
            },
            "colorscale": [
             [
              0,
              "#0d0887"
             ],
             [
              0.1111111111111111,
              "#46039f"
             ],
             [
              0.2222222222222222,
              "#7201a8"
             ],
             [
              0.3333333333333333,
              "#9c179e"
             ],
             [
              0.4444444444444444,
              "#bd3786"
             ],
             [
              0.5555555555555556,
              "#d8576b"
             ],
             [
              0.6666666666666666,
              "#ed7953"
             ],
             [
              0.7777777777777778,
              "#fb9f3a"
             ],
             [
              0.8888888888888888,
              "#fdca26"
             ],
             [
              1,
              "#f0f921"
             ]
            ],
            "type": "heatmap"
           }
          ],
          "heatmapgl": [
           {
            "colorbar": {
             "outlinewidth": 0,
             "ticks": ""
            },
            "colorscale": [
             [
              0,
              "#0d0887"
             ],
             [
              0.1111111111111111,
              "#46039f"
             ],
             [
              0.2222222222222222,
              "#7201a8"
             ],
             [
              0.3333333333333333,
              "#9c179e"
             ],
             [
              0.4444444444444444,
              "#bd3786"
             ],
             [
              0.5555555555555556,
              "#d8576b"
             ],
             [
              0.6666666666666666,
              "#ed7953"
             ],
             [
              0.7777777777777778,
              "#fb9f3a"
             ],
             [
              0.8888888888888888,
              "#fdca26"
             ],
             [
              1,
              "#f0f921"
             ]
            ],
            "type": "heatmapgl"
           }
          ],
          "histogram": [
           {
            "marker": {
             "pattern": {
              "fillmode": "overlay",
              "size": 10,
              "solidity": 0.2
             }
            },
            "type": "histogram"
           }
          ],
          "histogram2d": [
           {
            "colorbar": {
             "outlinewidth": 0,
             "ticks": ""
            },
            "colorscale": [
             [
              0,
              "#0d0887"
             ],
             [
              0.1111111111111111,
              "#46039f"
             ],
             [
              0.2222222222222222,
              "#7201a8"
             ],
             [
              0.3333333333333333,
              "#9c179e"
             ],
             [
              0.4444444444444444,
              "#bd3786"
             ],
             [
              0.5555555555555556,
              "#d8576b"
             ],
             [
              0.6666666666666666,
              "#ed7953"
             ],
             [
              0.7777777777777778,
              "#fb9f3a"
             ],
             [
              0.8888888888888888,
              "#fdca26"
             ],
             [
              1,
              "#f0f921"
             ]
            ],
            "type": "histogram2d"
           }
          ],
          "histogram2dcontour": [
           {
            "colorbar": {
             "outlinewidth": 0,
             "ticks": ""
            },
            "colorscale": [
             [
              0,
              "#0d0887"
             ],
             [
              0.1111111111111111,
              "#46039f"
             ],
             [
              0.2222222222222222,
              "#7201a8"
             ],
             [
              0.3333333333333333,
              "#9c179e"
             ],
             [
              0.4444444444444444,
              "#bd3786"
             ],
             [
              0.5555555555555556,
              "#d8576b"
             ],
             [
              0.6666666666666666,
              "#ed7953"
             ],
             [
              0.7777777777777778,
              "#fb9f3a"
             ],
             [
              0.8888888888888888,
              "#fdca26"
             ],
             [
              1,
              "#f0f921"
             ]
            ],
            "type": "histogram2dcontour"
           }
          ],
          "mesh3d": [
           {
            "colorbar": {
             "outlinewidth": 0,
             "ticks": ""
            },
            "type": "mesh3d"
           }
          ],
          "parcoords": [
           {
            "line": {
             "colorbar": {
              "outlinewidth": 0,
              "ticks": ""
             }
            },
            "type": "parcoords"
           }
          ],
          "pie": [
           {
            "automargin": true,
            "type": "pie"
           }
          ],
          "scatter": [
           {
            "fillpattern": {
             "fillmode": "overlay",
             "size": 10,
             "solidity": 0.2
            },
            "type": "scatter"
           }
          ],
          "scatter3d": [
           {
            "line": {
             "colorbar": {
              "outlinewidth": 0,
              "ticks": ""
             }
            },
            "marker": {
             "colorbar": {
              "outlinewidth": 0,
              "ticks": ""
             }
            },
            "type": "scatter3d"
           }
          ],
          "scattercarpet": [
           {
            "marker": {
             "colorbar": {
              "outlinewidth": 0,
              "ticks": ""
             }
            },
            "type": "scattercarpet"
           }
          ],
          "scattergeo": [
           {
            "marker": {
             "colorbar": {
              "outlinewidth": 0,
              "ticks": ""
             }
            },
            "type": "scattergeo"
           }
          ],
          "scattergl": [
           {
            "marker": {
             "colorbar": {
              "outlinewidth": 0,
              "ticks": ""
             }
            },
            "type": "scattergl"
           }
          ],
          "scattermapbox": [
           {
            "marker": {
             "colorbar": {
              "outlinewidth": 0,
              "ticks": ""
             }
            },
            "type": "scattermapbox"
           }
          ],
          "scatterpolar": [
           {
            "marker": {
             "colorbar": {
              "outlinewidth": 0,
              "ticks": ""
             }
            },
            "type": "scatterpolar"
           }
          ],
          "scatterpolargl": [
           {
            "marker": {
             "colorbar": {
              "outlinewidth": 0,
              "ticks": ""
             }
            },
            "type": "scatterpolargl"
           }
          ],
          "scatterternary": [
           {
            "marker": {
             "colorbar": {
              "outlinewidth": 0,
              "ticks": ""
             }
            },
            "type": "scatterternary"
           }
          ],
          "surface": [
           {
            "colorbar": {
             "outlinewidth": 0,
             "ticks": ""
            },
            "colorscale": [
             [
              0,
              "#0d0887"
             ],
             [
              0.1111111111111111,
              "#46039f"
             ],
             [
              0.2222222222222222,
              "#7201a8"
             ],
             [
              0.3333333333333333,
              "#9c179e"
             ],
             [
              0.4444444444444444,
              "#bd3786"
             ],
             [
              0.5555555555555556,
              "#d8576b"
             ],
             [
              0.6666666666666666,
              "#ed7953"
             ],
             [
              0.7777777777777778,
              "#fb9f3a"
             ],
             [
              0.8888888888888888,
              "#fdca26"
             ],
             [
              1,
              "#f0f921"
             ]
            ],
            "type": "surface"
           }
          ],
          "table": [
           {
            "cells": {
             "fill": {
              "color": "#EBF0F8"
             },
             "line": {
              "color": "white"
             }
            },
            "header": {
             "fill": {
              "color": "#C8D4E3"
             },
             "line": {
              "color": "white"
             }
            },
            "type": "table"
           }
          ]
         },
         "layout": {
          "annotationdefaults": {
           "arrowcolor": "#2a3f5f",
           "arrowhead": 0,
           "arrowwidth": 1
          },
          "autotypenumbers": "strict",
          "coloraxis": {
           "colorbar": {
            "outlinewidth": 0,
            "ticks": ""
           }
          },
          "colorscale": {
           "diverging": [
            [
             0,
             "#8e0152"
            ],
            [
             0.1,
             "#c51b7d"
            ],
            [
             0.2,
             "#de77ae"
            ],
            [
             0.3,
             "#f1b6da"
            ],
            [
             0.4,
             "#fde0ef"
            ],
            [
             0.5,
             "#f7f7f7"
            ],
            [
             0.6,
             "#e6f5d0"
            ],
            [
             0.7,
             "#b8e186"
            ],
            [
             0.8,
             "#7fbc41"
            ],
            [
             0.9,
             "#4d9221"
            ],
            [
             1,
             "#276419"
            ]
           ],
           "sequential": [
            [
             0,
             "#0d0887"
            ],
            [
             0.1111111111111111,
             "#46039f"
            ],
            [
             0.2222222222222222,
             "#7201a8"
            ],
            [
             0.3333333333333333,
             "#9c179e"
            ],
            [
             0.4444444444444444,
             "#bd3786"
            ],
            [
             0.5555555555555556,
             "#d8576b"
            ],
            [
             0.6666666666666666,
             "#ed7953"
            ],
            [
             0.7777777777777778,
             "#fb9f3a"
            ],
            [
             0.8888888888888888,
             "#fdca26"
            ],
            [
             1,
             "#f0f921"
            ]
           ],
           "sequentialminus": [
            [
             0,
             "#0d0887"
            ],
            [
             0.1111111111111111,
             "#46039f"
            ],
            [
             0.2222222222222222,
             "#7201a8"
            ],
            [
             0.3333333333333333,
             "#9c179e"
            ],
            [
             0.4444444444444444,
             "#bd3786"
            ],
            [
             0.5555555555555556,
             "#d8576b"
            ],
            [
             0.6666666666666666,
             "#ed7953"
            ],
            [
             0.7777777777777778,
             "#fb9f3a"
            ],
            [
             0.8888888888888888,
             "#fdca26"
            ],
            [
             1,
             "#f0f921"
            ]
           ]
          },
          "colorway": [
           "#636efa",
           "#EF553B",
           "#00cc96",
           "#ab63fa",
           "#FFA15A",
           "#19d3f3",
           "#FF6692",
           "#B6E880",
           "#FF97FF",
           "#FECB52"
          ],
          "font": {
           "color": "#2a3f5f"
          },
          "geo": {
           "bgcolor": "white",
           "lakecolor": "white",
           "landcolor": "#E5ECF6",
           "showlakes": true,
           "showland": true,
           "subunitcolor": "white"
          },
          "hoverlabel": {
           "align": "left"
          },
          "hovermode": "closest",
          "mapbox": {
           "style": "light"
          },
          "paper_bgcolor": "white",
          "plot_bgcolor": "#E5ECF6",
          "polar": {
           "angularaxis": {
            "gridcolor": "white",
            "linecolor": "white",
            "ticks": ""
           },
           "bgcolor": "#E5ECF6",
           "radialaxis": {
            "gridcolor": "white",
            "linecolor": "white",
            "ticks": ""
           }
          },
          "scene": {
           "xaxis": {
            "backgroundcolor": "#E5ECF6",
            "gridcolor": "white",
            "gridwidth": 2,
            "linecolor": "white",
            "showbackground": true,
            "ticks": "",
            "zerolinecolor": "white"
           },
           "yaxis": {
            "backgroundcolor": "#E5ECF6",
            "gridcolor": "white",
            "gridwidth": 2,
            "linecolor": "white",
            "showbackground": true,
            "ticks": "",
            "zerolinecolor": "white"
           },
           "zaxis": {
            "backgroundcolor": "#E5ECF6",
            "gridcolor": "white",
            "gridwidth": 2,
            "linecolor": "white",
            "showbackground": true,
            "ticks": "",
            "zerolinecolor": "white"
           }
          },
          "shapedefaults": {
           "line": {
            "color": "#2a3f5f"
           }
          },
          "ternary": {
           "aaxis": {
            "gridcolor": "white",
            "linecolor": "white",
            "ticks": ""
           },
           "baxis": {
            "gridcolor": "white",
            "linecolor": "white",
            "ticks": ""
           },
           "bgcolor": "#E5ECF6",
           "caxis": {
            "gridcolor": "white",
            "linecolor": "white",
            "ticks": ""
           }
          },
          "title": {
           "x": 0.05
          },
          "xaxis": {
           "automargin": true,
           "gridcolor": "white",
           "linecolor": "white",
           "ticks": "",
           "title": {
            "standoff": 15
           },
           "zerolinecolor": "white",
           "zerolinewidth": 2
          },
          "yaxis": {
           "automargin": true,
           "gridcolor": "white",
           "linecolor": "white",
           "ticks": "",
           "title": {
            "standoff": 15
           },
           "zerolinecolor": "white",
           "zerolinewidth": 2
          }
         }
        },
        "title": {
         "text": "Dna damage mask area (QC) - cellpdia30_sigma1_dilrad4_dnad_obj_seg_v3_gliaero6_gliathr30_dnadero2"
        },
        "xaxis": {
         "anchor": "y",
         "domain": [
          0,
          1
         ],
         "title": {
          "text": "staining_id"
         }
        },
        "yaxis": {
         "anchor": "x",
         "domain": [
          0,
          1
         ],
         "title": {
          "text": "%_dna_damage_signal"
         }
        }
       }
      }
     },
     "metadata": {},
     "output_type": "display_data"
    },
    {
     "data": {
      "application/vnd.plotly.v1+json": {
       "config": {
        "plotlyServerURL": "https://plot.ly"
       },
       "data": [
        {
         "customdata": [
          [
           0,
           "DSB GFAP 101_40X_CA1"
          ],
          [
           1,
           "DSB GFAP 101_40X_CA3"
          ],
          [
           2,
           "DSB GFAP 101_40X_CTX1"
          ],
          [
           3,
           "DSB GFAP 101_40X_CTX2"
          ],
          [
           4,
           "DSB GFAP 101_40X_CTX3"
          ],
          [
           5,
           "DSB GFAP 101_40X_DG"
          ],
          [
           6,
           "DSB GFAP 102_40X_CA1"
          ],
          [
           7,
           "DSB GFAP 102_40X_CA3"
          ],
          [
           8,
           "DSB GFAP 102_40X_CTX1"
          ],
          [
           9,
           "DSB GFAP 102_40X_CTX2"
          ],
          [
           10,
           "DSB GFAP 102_40X_CTX3"
          ],
          [
           11,
           "DSB GFAP 102_40X_DG"
          ],
          [
           12,
           "DSB GFAP 103_40X_CA1"
          ],
          [
           13,
           "DSB GFAP 103_40X_CA3"
          ],
          [
           14,
           "DSB GFAP 103_40X_CTX1"
          ],
          [
           15,
           "DSB GFAP 103_40X_CTX2"
          ],
          [
           16,
           "DSB GFAP 103_40X_CTX3"
          ],
          [
           17,
           "DSB GFAP 103_40X_DG"
          ],
          [
           18,
           "DSB GFAP 104_40X_CA1"
          ],
          [
           19,
           "DSB GFAP 104_40X_CA3"
          ],
          [
           20,
           "DSB GFAP 104_40X_CTX1"
          ],
          [
           21,
           "DSB GFAP 104_40X_CTX2"
          ],
          [
           22,
           "DSB GFAP 104_40X_CTX3"
          ],
          [
           23,
           "DSB GFAP 104_40X_DG"
          ],
          [
           24,
           "DSB GFAP 105_40X_CA1"
          ],
          [
           25,
           "DSB GFAP 105_40X_CA3"
          ],
          [
           26,
           "DSB GFAP 105_40X_CTX1"
          ],
          [
           27,
           "DSB GFAP 105_40X_CTX2"
          ],
          [
           28,
           "DSB GFAP 105_40X_CTX3"
          ],
          [
           29,
           "DSB GFAP 105_40X_DG"
          ],
          [
           30,
           "DSB GFAP 106_40X_CA1"
          ],
          [
           31,
           "DSB GFAP 106_40X_CA3"
          ],
          [
           32,
           "DSB GFAP 106_40X_CTX1"
          ],
          [
           33,
           "DSB GFAP 106_40X_CTX2"
          ],
          [
           34,
           "DSB GFAP 106_40X_CTX3"
          ],
          [
           35,
           "DSB GFAP 106_40X_DG"
          ],
          [
           36,
           "DSB GFAP 107_40X_CA1"
          ],
          [
           37,
           "DSB GFAP 107_40X_CA3"
          ],
          [
           38,
           "DSB GFAP 107_40X_CTX1"
          ],
          [
           39,
           "DSB GFAP 107_40X_CTX2"
          ],
          [
           40,
           "DSB GFAP 107_40X_CTX3"
          ],
          [
           41,
           "DSB GFAP 107_40X_DG"
          ],
          [
           42,
           "DSB GFAP 108_40X_CA1"
          ],
          [
           43,
           "DSB GFAP 108_40X_CA3"
          ],
          [
           44,
           "DSB GFAP 108_40X_CTX1"
          ],
          [
           45,
           "DSB GFAP 108_40X_CTX2"
          ],
          [
           46,
           "DSB GFAP 108_40X_CTX3"
          ],
          [
           47,
           "DSB GFAP 108_40X_DG"
          ],
          [
           48,
           "DSB GFAP 10_40X_CA1"
          ],
          [
           49,
           "DSB GFAP 10_40X_CA3"
          ],
          [
           50,
           "DSB GFAP 10_40X_CTX1"
          ],
          [
           51,
           "DSB GFAP 10_40X_CTX2"
          ],
          [
           52,
           "DSB GFAP 10_40X_CTX3"
          ],
          [
           53,
           "DSB GFAP 10_40X_DG"
          ],
          [
           54,
           "DSB GFAP 11_40X_CA1"
          ],
          [
           55,
           "DSB GFAP 11_40X_CA3"
          ],
          [
           56,
           "DSB GFAP 11_40X_CTX1"
          ],
          [
           57,
           "DSB GFAP 11_40X_CTX2"
          ],
          [
           58,
           "DSB GFAP 11_40X_CTX3"
          ],
          [
           59,
           "DSB GFAP 11_40X_DG"
          ],
          [
           60,
           "DSB GFAP 12_40X_CA1"
          ],
          [
           61,
           "DSB GFAP 12_40X_CA3"
          ],
          [
           62,
           "DSB GFAP 12_40X_CTX1"
          ],
          [
           63,
           "DSB GFAP 12_40X_CTX2"
          ],
          [
           64,
           "DSB GFAP 12_40X_CTX3"
          ],
          [
           65,
           "DSB GFAP 12_40X_DG"
          ],
          [
           66,
           "DSB GFAP 13_40X_CA1"
          ],
          [
           67,
           "DSB GFAP 13_40X_CA3"
          ],
          [
           68,
           "DSB GFAP 13_40X_CTX1"
          ],
          [
           69,
           "DSB GFAP 13_40X_CTX2"
          ],
          [
           70,
           "DSB GFAP 13_40X_CTX3"
          ],
          [
           71,
           "DSB GFAP 13_40X_DG"
          ],
          [
           72,
           "DSB GFAP 14_40X_CA1"
          ],
          [
           73,
           "DSB GFAP 14_40X_CA3"
          ],
          [
           74,
           "DSB GFAP 14_40X_CTX1"
          ],
          [
           75,
           "DSB GFAP 14_40X_CTX2"
          ],
          [
           76,
           "DSB GFAP 14_40X_CTX3"
          ],
          [
           77,
           "DSB GFAP 14_40X_DG"
          ],
          [
           78,
           "DSB GFAP 15_40X_CA1"
          ],
          [
           79,
           "DSB GFAP 15_40X_CA3"
          ],
          [
           80,
           "DSB GFAP 15_40X_CTX1"
          ],
          [
           81,
           "DSB GFAP 15_40X_CTX2"
          ],
          [
           82,
           "DSB GFAP 15_40X_CTX3"
          ],
          [
           83,
           "DSB GFAP 15_40X_DG"
          ],
          [
           84,
           "DSB GFAP 16_40X_CA1"
          ],
          [
           85,
           "DSB GFAP 16_40X_CA3"
          ],
          [
           86,
           "DSB GFAP 16_40X_CTX1"
          ],
          [
           87,
           "DSB GFAP 16_40X_CTX2"
          ],
          [
           88,
           "DSB GFAP 16_40X_CTX3"
          ],
          [
           89,
           "DSB GFAP 16_40X_DG"
          ],
          [
           90,
           "DSB GFAP 18_40X_CA1"
          ],
          [
           91,
           "DSB GFAP 18_40X_CA3"
          ],
          [
           92,
           "DSB GFAP 18_40X_CTX1"
          ],
          [
           93,
           "DSB GFAP 18_40X_CTX2"
          ],
          [
           94,
           "DSB GFAP 18_40X_CTX3"
          ],
          [
           95,
           "DSB GFAP 18_40X_DG"
          ],
          [
           96,
           "DSB GFAP 20_40X_CA1"
          ],
          [
           97,
           "DSB GFAP 20_40X_CA3"
          ],
          [
           98,
           "DSB GFAP 20_40X_CTX1"
          ],
          [
           99,
           "DSB GFAP 20_40X_CTX2"
          ],
          [
           100,
           "DSB GFAP 20_40X_CTX3"
          ],
          [
           101,
           "DSB GFAP 20_40X_DG"
          ],
          [
           102,
           "DSB GFAP 21_40X_CA1"
          ],
          [
           103,
           "DSB GFAP 21_40X_CA3"
          ],
          [
           104,
           "DSB GFAP 21_40X_CTX1"
          ],
          [
           105,
           "DSB GFAP 21_40X_CTX2"
          ],
          [
           106,
           "DSB GFAP 21_40X_CTX3"
          ],
          [
           107,
           "DSB GFAP 21_40X_DG"
          ],
          [
           108,
           "DSB GFAP 22_40X_CA1"
          ],
          [
           109,
           "DSB GFAP 22_40X_CA3"
          ],
          [
           110,
           "DSB GFAP 22_40X_CTX1"
          ],
          [
           111,
           "DSB GFAP 22_40X_CTX2"
          ],
          [
           112,
           "DSB GFAP 22_40X_CTX3"
          ],
          [
           113,
           "DSB GFAP 22_40X_DG"
          ],
          [
           114,
           "DSB GFAP 23_40X_DG"
          ],
          [
           115,
           "DSB GFAP 24_40X_CA1"
          ],
          [
           116,
           "DSB GFAP 24_40X_CA3"
          ],
          [
           117,
           "DSB GFAP 24_40X_CTX1"
          ],
          [
           118,
           "DSB GFAP 24_40X_CTX2"
          ],
          [
           119,
           "DSB GFAP 24_40X_CTX3"
          ],
          [
           120,
           "DSB GFAP 24_40X_DG"
          ],
          [
           121,
           "DSB GFAP 25_40X_CA1"
          ],
          [
           122,
           "DSB GFAP 25_40X_CA3"
          ],
          [
           123,
           "DSB GFAP 25_40X_CTX1"
          ],
          [
           124,
           "DSB GFAP 25_40X_CTX2"
          ],
          [
           125,
           "DSB GFAP 25_40X_CTX3"
          ],
          [
           126,
           "DSB GFAP 25_40X_DG"
          ],
          [
           127,
           "DSB GFAP 26_40X_CA1"
          ],
          [
           128,
           "DSB GFAP 26_40X_CA3"
          ],
          [
           129,
           "DSB GFAP 26_40X_CTX1"
          ],
          [
           130,
           "DSB GFAP 26_40X_CTX2"
          ],
          [
           131,
           "DSB GFAP 26_40X_CTX3"
          ],
          [
           132,
           "DSB GFAP 26_40X_DG"
          ],
          [
           133,
           "DSB GFAP 27_40X_CA1"
          ],
          [
           134,
           "DSB GFAP 27_40X_CA3"
          ],
          [
           135,
           "DSB GFAP 27_40X_CTX1"
          ],
          [
           136,
           "DSB GFAP 27_40X_CTX2"
          ],
          [
           137,
           "DSB GFAP 27_40X_CTX3"
          ],
          [
           138,
           "DSB GFAP 27_40X_DG"
          ],
          [
           139,
           "DSB GFAP 28_40X_CA1"
          ],
          [
           140,
           "DSB GFAP 28_40X_CA3"
          ],
          [
           141,
           "DSB GFAP 28_40X_CTX1"
          ],
          [
           142,
           "DSB GFAP 28_40X_DG"
          ],
          [
           143,
           "DSB GFAP 29_40X_CA1"
          ],
          [
           144,
           "DSB GFAP 29_40X_CA3"
          ],
          [
           145,
           "DSB GFAP 29_40X_CTX1"
          ],
          [
           146,
           "DSB GFAP 29_40X_CTX2"
          ],
          [
           147,
           "DSB GFAP 29_40X_CTX3"
          ],
          [
           148,
           "DSB GFAP 29_40X_DG"
          ],
          [
           149,
           "DSB GFAP 30_40X_CA1"
          ],
          [
           150,
           "DSB GFAP 30_40X_CA3"
          ],
          [
           151,
           "DSB GFAP 30_40X_CTX1"
          ],
          [
           152,
           "DSB GFAP 30_40X_CTX2"
          ],
          [
           153,
           "DSB GFAP 30_40X_CTX3"
          ],
          [
           154,
           "DSB GFAP 30_40X_DG"
          ],
          [
           155,
           "DSB GFAP 31_40X_DG"
          ],
          [
           156,
           "DSB GFAP 32_40X_CA1"
          ],
          [
           157,
           "DSB GFAP 32_40X_CA3"
          ],
          [
           158,
           "DSB GFAP 32_40X_CTX1"
          ],
          [
           159,
           "DSB GFAP 32_40X_CTX2"
          ],
          [
           160,
           "DSB GFAP 32_40X_CTX3"
          ],
          [
           161,
           "DSB GFAP 32_40X_DG"
          ],
          [
           162,
           "DSB GFAP 34_40X_CA1"
          ],
          [
           163,
           "DSB GFAP 34_40X_CA3"
          ],
          [
           164,
           "DSB GFAP 34_40X_CTX1"
          ],
          [
           165,
           "DSB GFAP 34_40X_CTX2"
          ],
          [
           166,
           "DSB GFAP 34_40X_CTX3"
          ],
          [
           167,
           "DSB GFAP 34_40X_DG"
          ],
          [
           168,
           "DSB GFAP 35_40X_CA1"
          ],
          [
           169,
           "DSB GFAP 35_40X_CA3"
          ],
          [
           170,
           "DSB GFAP 35_40X_CTX1"
          ],
          [
           171,
           "DSB GFAP 35_40X_CTX2"
          ],
          [
           172,
           "DSB GFAP 35_40X_CTX3"
          ],
          [
           173,
           "DSB GFAP 35_40X_DG"
          ],
          [
           174,
           "DSB GFAP 36_40X_CA1"
          ],
          [
           175,
           "DSB GFAP 36_40X_CA3"
          ],
          [
           176,
           "DSB GFAP 36_40X_CTX1"
          ],
          [
           177,
           "DSB GFAP 36_40X_CTX2"
          ],
          [
           178,
           "DSB GFAP 36_40X_CTX3"
          ],
          [
           179,
           "DSB GFAP 36_40X_DG"
          ],
          [
           180,
           "DSB GFAP 37_40X_CA1"
          ],
          [
           181,
           "DSB GFAP 37_40X_CA3"
          ],
          [
           182,
           "DSB GFAP 37_40X_CTX1"
          ],
          [
           183,
           "DSB GFAP 37_40X_CTX2"
          ],
          [
           184,
           "DSB GFAP 37_40X_CTX3"
          ],
          [
           185,
           "DSB GFAP 37_40X_DG"
          ],
          [
           186,
           "DSB GFAP 38_40X_CA1"
          ],
          [
           187,
           "DSB GFAP 38_40X_CA3"
          ],
          [
           188,
           "DSB GFAP 38_40X_CTX1"
          ],
          [
           189,
           "DSB GFAP 38_40X_CTX2"
          ],
          [
           190,
           "DSB GFAP 38_40X_CTX3"
          ],
          [
           191,
           "DSB GFAP 38_40X_DG"
          ],
          [
           192,
           "DSB GFAP 39_40X_CA1"
          ],
          [
           193,
           "DSB GFAP 39_40X_CA3"
          ],
          [
           194,
           "DSB GFAP 39_40X_CTX1"
          ],
          [
           195,
           "DSB GFAP 39_40X_CTX2"
          ],
          [
           196,
           "DSB GFAP 39_40X_CTX3"
          ],
          [
           197,
           "DSB GFAP 39_40X_DG"
          ],
          [
           198,
           "DSB GFAP 40_40X_CA1"
          ],
          [
           199,
           "DSB GFAP 40_40X_CA3"
          ],
          [
           200,
           "DSB GFAP 40_40X_DG"
          ],
          [
           201,
           "DSB GFAP 41_40X_CA1"
          ],
          [
           202,
           "DSB GFAP 41_40X_CA3"
          ],
          [
           203,
           "DSB GFAP 41_40X_CTX1"
          ],
          [
           204,
           "DSB GFAP 41_40X_CTX2"
          ],
          [
           205,
           "DSB GFAP 41_40X_CTX3"
          ],
          [
           206,
           "DSB GFAP 41_40X_DG"
          ],
          [
           207,
           "DSB GFAP 43_40X_CA1"
          ],
          [
           208,
           "DSB GFAP 43_40X_CA3"
          ],
          [
           209,
           "DSB GFAP 43_40X_CTX1"
          ],
          [
           210,
           "DSB GFAP 43_40X_CTX2"
          ],
          [
           211,
           "DSB GFAP 43_40X_CTX3"
          ],
          [
           212,
           "DSB GFAP 43_40X_DG"
          ],
          [
           213,
           "DSB GFAP 6_40X_CA1"
          ],
          [
           214,
           "DSB GFAP 6_40X_CA3"
          ],
          [
           215,
           "DSB GFAP 6_40X_CTX1"
          ],
          [
           216,
           "DSB GFAP 6_40X_CTX2"
          ],
          [
           217,
           "DSB GFAP 6_40X_CTX3"
          ],
          [
           218,
           "DSB GFAP 6_40X_DG"
          ],
          [
           219,
           "DSB GFAP 7_40X_DG"
          ],
          [
           220,
           "DSB GFAP 8_40X_CA1"
          ],
          [
           221,
           "DSB GFAP 8_40X_CA3"
          ],
          [
           222,
           "DSB GFAP 8_40X_CTX1"
          ],
          [
           223,
           "DSB GFAP 8_40X_CTX2"
          ],
          [
           224,
           "DSB GFAP 8_40X_CTX3"
          ],
          [
           225,
           "DSB GFAP 8_40X_DG"
          ],
          [
           226,
           "DSB GFAP 9_40X_CA1"
          ],
          [
           227,
           "DSB GFAP 9_40X_CA3"
          ],
          [
           228,
           "DSB GFAP 9_40X_CTX1"
          ],
          [
           229,
           "DSB GFAP 9_40X_CTX2"
          ],
          [
           230,
           "DSB GFAP 9_40X_CTX3"
          ],
          [
           231,
           "DSB GFAP 9_40X_DG"
          ]
         ],
         "hovertemplate": "staining_id=%{x}<br>%_glia+_signal=%{y}<br>index=%{customdata[0]}<br>filename=%{customdata[1]}<extra></extra>",
         "legendgroup": "",
         "marker": {
          "color": "#636efa",
          "symbol": "circle"
         },
         "mode": "markers",
         "name": "",
         "orientation": "v",
         "showlegend": false,
         "type": "scatter",
         "x": [
          101,
          101,
          101,
          101,
          101,
          101,
          102,
          102,
          102,
          102,
          102,
          102,
          103,
          103,
          103,
          103,
          103,
          103,
          104,
          104,
          104,
          104,
          104,
          104,
          105,
          105,
          105,
          105,
          105,
          105,
          106,
          106,
          106,
          106,
          106,
          106,
          107,
          107,
          107,
          107,
          107,
          107,
          108,
          108,
          108,
          108,
          108,
          108,
          10,
          10,
          10,
          10,
          10,
          10,
          11,
          11,
          11,
          11,
          11,
          11,
          12,
          12,
          12,
          12,
          12,
          12,
          13,
          13,
          13,
          13,
          13,
          13,
          14,
          14,
          14,
          14,
          14,
          14,
          15,
          15,
          15,
          15,
          15,
          15,
          16,
          16,
          16,
          16,
          16,
          16,
          18,
          18,
          18,
          18,
          18,
          18,
          20,
          20,
          20,
          20,
          20,
          20,
          21,
          21,
          21,
          21,
          21,
          21,
          22,
          22,
          22,
          22,
          22,
          22,
          23,
          24,
          24,
          24,
          24,
          24,
          24,
          25,
          25,
          25,
          25,
          25,
          25,
          26,
          26,
          26,
          26,
          26,
          26,
          27,
          27,
          27,
          27,
          27,
          27,
          28,
          28,
          28,
          28,
          29,
          29,
          29,
          29,
          29,
          29,
          30,
          30,
          30,
          30,
          30,
          30,
          31,
          32,
          32,
          32,
          32,
          32,
          32,
          34,
          34,
          34,
          34,
          34,
          34,
          35,
          35,
          35,
          35,
          35,
          35,
          36,
          36,
          36,
          36,
          36,
          36,
          37,
          37,
          37,
          37,
          37,
          37,
          38,
          38,
          38,
          38,
          38,
          38,
          39,
          39,
          39,
          39,
          39,
          39,
          40,
          40,
          40,
          41,
          41,
          41,
          41,
          41,
          41,
          43,
          43,
          43,
          43,
          43,
          43,
          6,
          6,
          6,
          6,
          6,
          6,
          7,
          8,
          8,
          8,
          8,
          8,
          8,
          9,
          9,
          9,
          9,
          9,
          9
         ],
         "xaxis": "x",
         "y": [
          3.4147262573242188,
          4.178619384765625,
          5.2127838134765625,
          6.5753936767578125,
          5.749797821044922,
          5.782604217529297,
          2.970409393310547,
          3.4982681274414062,
          4.172420501708984,
          6.964015960693359,
          5.2921295166015625,
          4.5467376708984375,
          2.278995513916016,
          4.166889190673828,
          3.7546157836914062,
          6.214141845703125,
          4.137134552001953,
          5.080699920654297,
          2.9653549194335938,
          3.335189819335937,
          3.978824615478516,
          4.200267791748047,
          1.861572265625,
          4.4429779052734375,
          5.18035888671875,
          3.066444396972656,
          3.806591033935547,
          6.597328186035156,
          2.708911895751953,
          4.847049713134766,
          1.9285202026367188,
          5.068206787109375,
          2.818584442138672,
          6.494140625,
          3.351593017578125,
          5.525493621826172,
          1.7574310302734375,
          2.844524383544922,
          4.407787322998047,
          4.0103912353515625,
          4.625034332275391,
          6.399822235107422,
          3.70941162109375,
          2.22940444946289,
          3.809356689453125,
          5.001640319824219,
          5.422782897949219,
          3.036975860595703,
          0.2612113952636719,
          1.0457992553710938,
          0.119781494140625,
          1.10015869140625,
          2.355480194091797,
          1.6019821166992188,
          3.786659240722656,
          2.1776199340820312,
          3.3753395080566406,
          2.071762084960937,
          2.2012710571289062,
          3.403759002685547,
          1.824378967285156,
          0.6435394287109375,
          1.4176368713378906,
          0.6220817565917969,
          0.6175994873046875,
          4.060173034667969,
          1.4364242553710938,
          3.690719604492188,
          4.6451568603515625,
          1.823139190673828,
          1.6950607299804688,
          5.682182312011719,
          2.242565155029297,
          1.7438888549804688,
          2.1585464477539062,
          3.577709197998047,
          1.31683349609375,
          5.574798583984375,
          1.6439437866210938,
          1.771259307861328,
          0.2964019775390625,
          1.8911361694335935,
          2.537822723388672,
          1.705169677734375,
          1.6312599182128906,
          1.0889053344726562,
          3.062725067138672,
          2.2581100463867188,
          0.4387855529785156,
          3.368377685546875,
          1.8751144409179688,
          2.7780532836914062,
          0.6608963012695312,
          3.429794311523437,
          10.713577270507812,
          7.671833038330078,
          0.46234130859375,
          2.3604393005371094,
          0.4038810729980469,
          6.314945220947266,
          4.963207244873047,
          1.5550613403320312,
          0.2859115600585937,
          0.972747802734375,
          0.7062911987304688,
          0.8353233337402344,
          0.415802001953125,
          1.9483566284179688,
          0.9831428527832032,
          0.3539085388183594,
          2.0880699157714844,
          1.8810272216796875,
          0.3844261169433594,
          0.8734703063964844,
          4.239940643310547,
          1.505279541015625,
          2.0681381225585938,
          3.82843017578125,
          3.2064437866210938,
          3.1861305236816406,
          5.126953125,
          0.8317947387695312,
          0.3442764282226562,
          1.49383544921875,
          0.7261276245117188,
          4.564571380615234,
          1.4879226684570312,
          3.69863510131836,
          1.3578414916992188,
          1.4318466186523438,
          1.8035888671875,
          2.21853256225586,
          3.647041320800781,
          2.697372436523437,
          5.297756195068359,
          5.693149566650391,
          4.554557800292969,
          1.7201423645019531,
          5.479145050048828,
          2.07509994506836,
          2.755355834960937,
          0.01983642578125,
          4.433155059814453,
          5.027484893798828,
          0.8591651916503906,
          2.649402618408203,
          0.8406639099121094,
          0.4141807556152344,
          3.142738342285156,
          1.6564369201660156,
          0.7544517517089844,
          1.3737678527832031,
          0.6600379943847656,
          0.2448081970214843,
          4.599666595458984,
          1.0436058044433594,
          1.244354248046875,
          1.7009735107421875,
          2.2357940673828125,
          0.8182525634765625,
          1.7248153686523438,
          2.8168678283691406,
          1.6398429870605469,
          4.219818115234375,
          2.090930938720703,
          4.251480102539063,
          0.8382797241210938,
          3.5940170288085938,
          2.766895294189453,
          1.1099815368652344,
          3.051185607910156,
          4.268169403076172,
          4.068756103515625,
          4.887294769287109,
          1.132965087890625,
          1.0608673095703125,
          0.9889602661132812,
          0.8540153503417969,
          1.8036842346191408,
          1.7085075378417969,
          1.1289596557617188,
          1.7892837524414062,
          0.5955696105957031,
          3.1171798706054688,
          0.6228446960449219,
          2.630043029785156,
          1.3042449951171875,
          0.30975341796875,
          1.5527725219726562,
          1.5630722045898438,
          0.3652572631835937,
          1.8080711364746092,
          1.0892868041992188,
          1.8500328063964844,
          0.9486198425292968,
          0.7303237915039062,
          0.7608413696289062,
          4.325294494628906,
          4.960727691650391,
          3.10516357421875,
          9.813499450683594,
          3.000640869140625,
          1.097393035888672,
          3.32183837890625,
          2.994346618652344,
          2.0363807678222656,
          3.882122039794922,
          1.833057403564453,
          2.3965835571289062,
          2.330780029296875,
          5.863285064697266,
          2.3842811584472656,
          2.930927276611328,
          11.424636840820312,
          5.228042602539063,
          7.1132659912109375,
          6.5277099609375,
          11.406803131103516,
          6.174468994140625,
          3.0313491821289062,
          3.7751197814941406,
          3.5164833068847656,
          4.283905029296875,
          2.90079116821289,
          4.0431976318359375,
          6.287670135498047,
          3.920269012451172,
          4.345130920410156,
          10.240554809570312,
          8.024024963378906,
          4.800796508789063,
          9.7869873046875
         ],
         "yaxis": "y"
        }
       ],
       "layout": {
        "legend": {
         "tracegroupgap": 0
        },
        "template": {
         "data": {
          "bar": [
           {
            "error_x": {
             "color": "#2a3f5f"
            },
            "error_y": {
             "color": "#2a3f5f"
            },
            "marker": {
             "line": {
              "color": "#E5ECF6",
              "width": 0.5
             },
             "pattern": {
              "fillmode": "overlay",
              "size": 10,
              "solidity": 0.2
             }
            },
            "type": "bar"
           }
          ],
          "barpolar": [
           {
            "marker": {
             "line": {
              "color": "#E5ECF6",
              "width": 0.5
             },
             "pattern": {
              "fillmode": "overlay",
              "size": 10,
              "solidity": 0.2
             }
            },
            "type": "barpolar"
           }
          ],
          "carpet": [
           {
            "aaxis": {
             "endlinecolor": "#2a3f5f",
             "gridcolor": "white",
             "linecolor": "white",
             "minorgridcolor": "white",
             "startlinecolor": "#2a3f5f"
            },
            "baxis": {
             "endlinecolor": "#2a3f5f",
             "gridcolor": "white",
             "linecolor": "white",
             "minorgridcolor": "white",
             "startlinecolor": "#2a3f5f"
            },
            "type": "carpet"
           }
          ],
          "choropleth": [
           {
            "colorbar": {
             "outlinewidth": 0,
             "ticks": ""
            },
            "type": "choropleth"
           }
          ],
          "contour": [
           {
            "colorbar": {
             "outlinewidth": 0,
             "ticks": ""
            },
            "colorscale": [
             [
              0,
              "#0d0887"
             ],
             [
              0.1111111111111111,
              "#46039f"
             ],
             [
              0.2222222222222222,
              "#7201a8"
             ],
             [
              0.3333333333333333,
              "#9c179e"
             ],
             [
              0.4444444444444444,
              "#bd3786"
             ],
             [
              0.5555555555555556,
              "#d8576b"
             ],
             [
              0.6666666666666666,
              "#ed7953"
             ],
             [
              0.7777777777777778,
              "#fb9f3a"
             ],
             [
              0.8888888888888888,
              "#fdca26"
             ],
             [
              1,
              "#f0f921"
             ]
            ],
            "type": "contour"
           }
          ],
          "contourcarpet": [
           {
            "colorbar": {
             "outlinewidth": 0,
             "ticks": ""
            },
            "type": "contourcarpet"
           }
          ],
          "heatmap": [
           {
            "colorbar": {
             "outlinewidth": 0,
             "ticks": ""
            },
            "colorscale": [
             [
              0,
              "#0d0887"
             ],
             [
              0.1111111111111111,
              "#46039f"
             ],
             [
              0.2222222222222222,
              "#7201a8"
             ],
             [
              0.3333333333333333,
              "#9c179e"
             ],
             [
              0.4444444444444444,
              "#bd3786"
             ],
             [
              0.5555555555555556,
              "#d8576b"
             ],
             [
              0.6666666666666666,
              "#ed7953"
             ],
             [
              0.7777777777777778,
              "#fb9f3a"
             ],
             [
              0.8888888888888888,
              "#fdca26"
             ],
             [
              1,
              "#f0f921"
             ]
            ],
            "type": "heatmap"
           }
          ],
          "heatmapgl": [
           {
            "colorbar": {
             "outlinewidth": 0,
             "ticks": ""
            },
            "colorscale": [
             [
              0,
              "#0d0887"
             ],
             [
              0.1111111111111111,
              "#46039f"
             ],
             [
              0.2222222222222222,
              "#7201a8"
             ],
             [
              0.3333333333333333,
              "#9c179e"
             ],
             [
              0.4444444444444444,
              "#bd3786"
             ],
             [
              0.5555555555555556,
              "#d8576b"
             ],
             [
              0.6666666666666666,
              "#ed7953"
             ],
             [
              0.7777777777777778,
              "#fb9f3a"
             ],
             [
              0.8888888888888888,
              "#fdca26"
             ],
             [
              1,
              "#f0f921"
             ]
            ],
            "type": "heatmapgl"
           }
          ],
          "histogram": [
           {
            "marker": {
             "pattern": {
              "fillmode": "overlay",
              "size": 10,
              "solidity": 0.2
             }
            },
            "type": "histogram"
           }
          ],
          "histogram2d": [
           {
            "colorbar": {
             "outlinewidth": 0,
             "ticks": ""
            },
            "colorscale": [
             [
              0,
              "#0d0887"
             ],
             [
              0.1111111111111111,
              "#46039f"
             ],
             [
              0.2222222222222222,
              "#7201a8"
             ],
             [
              0.3333333333333333,
              "#9c179e"
             ],
             [
              0.4444444444444444,
              "#bd3786"
             ],
             [
              0.5555555555555556,
              "#d8576b"
             ],
             [
              0.6666666666666666,
              "#ed7953"
             ],
             [
              0.7777777777777778,
              "#fb9f3a"
             ],
             [
              0.8888888888888888,
              "#fdca26"
             ],
             [
              1,
              "#f0f921"
             ]
            ],
            "type": "histogram2d"
           }
          ],
          "histogram2dcontour": [
           {
            "colorbar": {
             "outlinewidth": 0,
             "ticks": ""
            },
            "colorscale": [
             [
              0,
              "#0d0887"
             ],
             [
              0.1111111111111111,
              "#46039f"
             ],
             [
              0.2222222222222222,
              "#7201a8"
             ],
             [
              0.3333333333333333,
              "#9c179e"
             ],
             [
              0.4444444444444444,
              "#bd3786"
             ],
             [
              0.5555555555555556,
              "#d8576b"
             ],
             [
              0.6666666666666666,
              "#ed7953"
             ],
             [
              0.7777777777777778,
              "#fb9f3a"
             ],
             [
              0.8888888888888888,
              "#fdca26"
             ],
             [
              1,
              "#f0f921"
             ]
            ],
            "type": "histogram2dcontour"
           }
          ],
          "mesh3d": [
           {
            "colorbar": {
             "outlinewidth": 0,
             "ticks": ""
            },
            "type": "mesh3d"
           }
          ],
          "parcoords": [
           {
            "line": {
             "colorbar": {
              "outlinewidth": 0,
              "ticks": ""
             }
            },
            "type": "parcoords"
           }
          ],
          "pie": [
           {
            "automargin": true,
            "type": "pie"
           }
          ],
          "scatter": [
           {
            "fillpattern": {
             "fillmode": "overlay",
             "size": 10,
             "solidity": 0.2
            },
            "type": "scatter"
           }
          ],
          "scatter3d": [
           {
            "line": {
             "colorbar": {
              "outlinewidth": 0,
              "ticks": ""
             }
            },
            "marker": {
             "colorbar": {
              "outlinewidth": 0,
              "ticks": ""
             }
            },
            "type": "scatter3d"
           }
          ],
          "scattercarpet": [
           {
            "marker": {
             "colorbar": {
              "outlinewidth": 0,
              "ticks": ""
             }
            },
            "type": "scattercarpet"
           }
          ],
          "scattergeo": [
           {
            "marker": {
             "colorbar": {
              "outlinewidth": 0,
              "ticks": ""
             }
            },
            "type": "scattergeo"
           }
          ],
          "scattergl": [
           {
            "marker": {
             "colorbar": {
              "outlinewidth": 0,
              "ticks": ""
             }
            },
            "type": "scattergl"
           }
          ],
          "scattermapbox": [
           {
            "marker": {
             "colorbar": {
              "outlinewidth": 0,
              "ticks": ""
             }
            },
            "type": "scattermapbox"
           }
          ],
          "scatterpolar": [
           {
            "marker": {
             "colorbar": {
              "outlinewidth": 0,
              "ticks": ""
             }
            },
            "type": "scatterpolar"
           }
          ],
          "scatterpolargl": [
           {
            "marker": {
             "colorbar": {
              "outlinewidth": 0,
              "ticks": ""
             }
            },
            "type": "scatterpolargl"
           }
          ],
          "scatterternary": [
           {
            "marker": {
             "colorbar": {
              "outlinewidth": 0,
              "ticks": ""
             }
            },
            "type": "scatterternary"
           }
          ],
          "surface": [
           {
            "colorbar": {
             "outlinewidth": 0,
             "ticks": ""
            },
            "colorscale": [
             [
              0,
              "#0d0887"
             ],
             [
              0.1111111111111111,
              "#46039f"
             ],
             [
              0.2222222222222222,
              "#7201a8"
             ],
             [
              0.3333333333333333,
              "#9c179e"
             ],
             [
              0.4444444444444444,
              "#bd3786"
             ],
             [
              0.5555555555555556,
              "#d8576b"
             ],
             [
              0.6666666666666666,
              "#ed7953"
             ],
             [
              0.7777777777777778,
              "#fb9f3a"
             ],
             [
              0.8888888888888888,
              "#fdca26"
             ],
             [
              1,
              "#f0f921"
             ]
            ],
            "type": "surface"
           }
          ],
          "table": [
           {
            "cells": {
             "fill": {
              "color": "#EBF0F8"
             },
             "line": {
              "color": "white"
             }
            },
            "header": {
             "fill": {
              "color": "#C8D4E3"
             },
             "line": {
              "color": "white"
             }
            },
            "type": "table"
           }
          ]
         },
         "layout": {
          "annotationdefaults": {
           "arrowcolor": "#2a3f5f",
           "arrowhead": 0,
           "arrowwidth": 1
          },
          "autotypenumbers": "strict",
          "coloraxis": {
           "colorbar": {
            "outlinewidth": 0,
            "ticks": ""
           }
          },
          "colorscale": {
           "diverging": [
            [
             0,
             "#8e0152"
            ],
            [
             0.1,
             "#c51b7d"
            ],
            [
             0.2,
             "#de77ae"
            ],
            [
             0.3,
             "#f1b6da"
            ],
            [
             0.4,
             "#fde0ef"
            ],
            [
             0.5,
             "#f7f7f7"
            ],
            [
             0.6,
             "#e6f5d0"
            ],
            [
             0.7,
             "#b8e186"
            ],
            [
             0.8,
             "#7fbc41"
            ],
            [
             0.9,
             "#4d9221"
            ],
            [
             1,
             "#276419"
            ]
           ],
           "sequential": [
            [
             0,
             "#0d0887"
            ],
            [
             0.1111111111111111,
             "#46039f"
            ],
            [
             0.2222222222222222,
             "#7201a8"
            ],
            [
             0.3333333333333333,
             "#9c179e"
            ],
            [
             0.4444444444444444,
             "#bd3786"
            ],
            [
             0.5555555555555556,
             "#d8576b"
            ],
            [
             0.6666666666666666,
             "#ed7953"
            ],
            [
             0.7777777777777778,
             "#fb9f3a"
            ],
            [
             0.8888888888888888,
             "#fdca26"
            ],
            [
             1,
             "#f0f921"
            ]
           ],
           "sequentialminus": [
            [
             0,
             "#0d0887"
            ],
            [
             0.1111111111111111,
             "#46039f"
            ],
            [
             0.2222222222222222,
             "#7201a8"
            ],
            [
             0.3333333333333333,
             "#9c179e"
            ],
            [
             0.4444444444444444,
             "#bd3786"
            ],
            [
             0.5555555555555556,
             "#d8576b"
            ],
            [
             0.6666666666666666,
             "#ed7953"
            ],
            [
             0.7777777777777778,
             "#fb9f3a"
            ],
            [
             0.8888888888888888,
             "#fdca26"
            ],
            [
             1,
             "#f0f921"
            ]
           ]
          },
          "colorway": [
           "#636efa",
           "#EF553B",
           "#00cc96",
           "#ab63fa",
           "#FFA15A",
           "#19d3f3",
           "#FF6692",
           "#B6E880",
           "#FF97FF",
           "#FECB52"
          ],
          "font": {
           "color": "#2a3f5f"
          },
          "geo": {
           "bgcolor": "white",
           "lakecolor": "white",
           "landcolor": "#E5ECF6",
           "showlakes": true,
           "showland": true,
           "subunitcolor": "white"
          },
          "hoverlabel": {
           "align": "left"
          },
          "hovermode": "closest",
          "mapbox": {
           "style": "light"
          },
          "paper_bgcolor": "white",
          "plot_bgcolor": "#E5ECF6",
          "polar": {
           "angularaxis": {
            "gridcolor": "white",
            "linecolor": "white",
            "ticks": ""
           },
           "bgcolor": "#E5ECF6",
           "radialaxis": {
            "gridcolor": "white",
            "linecolor": "white",
            "ticks": ""
           }
          },
          "scene": {
           "xaxis": {
            "backgroundcolor": "#E5ECF6",
            "gridcolor": "white",
            "gridwidth": 2,
            "linecolor": "white",
            "showbackground": true,
            "ticks": "",
            "zerolinecolor": "white"
           },
           "yaxis": {
            "backgroundcolor": "#E5ECF6",
            "gridcolor": "white",
            "gridwidth": 2,
            "linecolor": "white",
            "showbackground": true,
            "ticks": "",
            "zerolinecolor": "white"
           },
           "zaxis": {
            "backgroundcolor": "#E5ECF6",
            "gridcolor": "white",
            "gridwidth": 2,
            "linecolor": "white",
            "showbackground": true,
            "ticks": "",
            "zerolinecolor": "white"
           }
          },
          "shapedefaults": {
           "line": {
            "color": "#2a3f5f"
           }
          },
          "ternary": {
           "aaxis": {
            "gridcolor": "white",
            "linecolor": "white",
            "ticks": ""
           },
           "baxis": {
            "gridcolor": "white",
            "linecolor": "white",
            "ticks": ""
           },
           "bgcolor": "#E5ECF6",
           "caxis": {
            "gridcolor": "white",
            "linecolor": "white",
            "ticks": ""
           }
          },
          "title": {
           "x": 0.05
          },
          "xaxis": {
           "automargin": true,
           "gridcolor": "white",
           "linecolor": "white",
           "ticks": "",
           "title": {
            "standoff": 15
           },
           "zerolinecolor": "white",
           "zerolinewidth": 2
          },
          "yaxis": {
           "automargin": true,
           "gridcolor": "white",
           "linecolor": "white",
           "ticks": "",
           "title": {
            "standoff": 15
           },
           "zerolinecolor": "white",
           "zerolinewidth": 2
          }
         }
        },
        "title": {
         "text": "Astrocyte mask area (QC) - cellpdia30_sigma1_dilrad4_dnad_obj_seg_v3_gliaero6_gliathr30_dnadero2"
        },
        "xaxis": {
         "anchor": "y",
         "domain": [
          0,
          1
         ],
         "title": {
          "text": "staining_id"
         }
        },
        "yaxis": {
         "anchor": "x",
         "domain": [
          0,
          1
         ],
         "title": {
          "text": "%_glia+_signal"
         }
        }
       }
      }
     },
     "metadata": {},
     "output_type": "display_data"
    }
   ],
   "source": [
    "show_exploratory_data(df, dataset, parameters_title)"
   ]
  },
  {
   "cell_type": "markdown",
   "metadata": {},
   "source": [
    "<h2>Data filtration and quality control (QC)</h2>\n",
    "\n",
    "We can observe there is a number of outliers in the glial and dna damage mask detections given the staining is suboptimal in some of the samples. I will filter the data to remove those suboptimal stains and just plot the optimal ones where the automated image analysis offers reliable results. The images passing and not passing quality control can be individually checked in the next two Juypter notebooks."
   ]
  },
  {
   "cell_type": "code",
   "execution_count": 13,
   "metadata": {},
   "outputs": [
    {
     "name": "stdout",
     "output_type": "stream",
     "text": [
      "Glia_mask_area_%_mean: 3.0311070639511635, Dna_damage_mask_area_%_mean: 0.6495763515603954\n"
     ]
    },
    {
     "data": {
      "text/html": [
       "<div>\n",
       "<style scoped>\n",
       "    .dataframe tbody tr th:only-of-type {\n",
       "        vertical-align: middle;\n",
       "    }\n",
       "\n",
       "    .dataframe tbody tr th {\n",
       "        vertical-align: top;\n",
       "    }\n",
       "\n",
       "    .dataframe thead th {\n",
       "        text-align: right;\n",
       "    }\n",
       "</style>\n",
       "<table border=\"1\" class=\"dataframe\">\n",
       "  <thead>\n",
       "    <tr style=\"text-align: right;\">\n",
       "      <th></th>\n",
       "      <th>index</th>\n",
       "      <th>filename</th>\n",
       "      <th>avg_dna_damage_foci/glia_+</th>\n",
       "      <th>avg_dna_damage_foci/glia_+_damage_+</th>\n",
       "      <th>avg_dna_damage_foci/all_nuclei</th>\n",
       "      <th>avg_dna_damage_foci/all_nuclei_damage_+</th>\n",
       "      <th>nr_+_dna_damage_glia_nuclei</th>\n",
       "      <th>nr_+_dna_damage_all_nuclei</th>\n",
       "      <th>nr_-_dna_damage_glia_nuclei</th>\n",
       "      <th>nr_glia_+_nuclei</th>\n",
       "      <th>...</th>\n",
       "      <th>tissue_location</th>\n",
       "      <th>staining_id</th>\n",
       "      <th>animal_id</th>\n",
       "      <th>sex</th>\n",
       "      <th>genotype</th>\n",
       "      <th>dna_damage_stain_quality_manual</th>\n",
       "      <th>manual_qc</th>\n",
       "      <th>glia_stain_quality_auto</th>\n",
       "      <th>dna_damage_stain_quality_auto</th>\n",
       "      <th>staining_qc_passed</th>\n",
       "    </tr>\n",
       "  </thead>\n",
       "  <tbody>\n",
       "    <tr>\n",
       "      <th>0</th>\n",
       "      <td>0</td>\n",
       "      <td>DSB GFAP 101_40X_CA1</td>\n",
       "      <td>0.187500</td>\n",
       "      <td>1.0</td>\n",
       "      <td>0.475309</td>\n",
       "      <td>1.149254</td>\n",
       "      <td>3</td>\n",
       "      <td>67</td>\n",
       "      <td>13</td>\n",
       "      <td>16</td>\n",
       "      <td>...</td>\n",
       "      <td>CA1</td>\n",
       "      <td>101</td>\n",
       "      <td>2119</td>\n",
       "      <td>female</td>\n",
       "      <td>APP/PS1</td>\n",
       "      <td>good</td>\n",
       "      <td>passed</td>\n",
       "      <td>optimal</td>\n",
       "      <td>optimal</td>\n",
       "      <td>True</td>\n",
       "    </tr>\n",
       "    <tr>\n",
       "      <th>1</th>\n",
       "      <td>1</td>\n",
       "      <td>DSB GFAP 101_40X_CA3</td>\n",
       "      <td>0.000000</td>\n",
       "      <td>NaN</td>\n",
       "      <td>1.151724</td>\n",
       "      <td>1.670000</td>\n",
       "      <td>0</td>\n",
       "      <td>100</td>\n",
       "      <td>7</td>\n",
       "      <td>7</td>\n",
       "      <td>...</td>\n",
       "      <td>CA3</td>\n",
       "      <td>101</td>\n",
       "      <td>2119</td>\n",
       "      <td>female</td>\n",
       "      <td>APP/PS1</td>\n",
       "      <td>good</td>\n",
       "      <td>passed</td>\n",
       "      <td>optimal</td>\n",
       "      <td>optimal</td>\n",
       "      <td>True</td>\n",
       "    </tr>\n",
       "    <tr>\n",
       "      <th>2</th>\n",
       "      <td>2</td>\n",
       "      <td>DSB GFAP 101_40X_CTX1</td>\n",
       "      <td>0.187500</td>\n",
       "      <td>1.0</td>\n",
       "      <td>0.352201</td>\n",
       "      <td>1.037037</td>\n",
       "      <td>3</td>\n",
       "      <td>54</td>\n",
       "      <td>13</td>\n",
       "      <td>16</td>\n",
       "      <td>...</td>\n",
       "      <td>CTX1</td>\n",
       "      <td>101</td>\n",
       "      <td>2119</td>\n",
       "      <td>female</td>\n",
       "      <td>APP/PS1</td>\n",
       "      <td>good</td>\n",
       "      <td>passed</td>\n",
       "      <td>optimal</td>\n",
       "      <td>optimal</td>\n",
       "      <td>True</td>\n",
       "    </tr>\n",
       "    <tr>\n",
       "      <th>3</th>\n",
       "      <td>3</td>\n",
       "      <td>DSB GFAP 101_40X_CTX2</td>\n",
       "      <td>0.388889</td>\n",
       "      <td>1.0</td>\n",
       "      <td>0.629344</td>\n",
       "      <td>1.189781</td>\n",
       "      <td>7</td>\n",
       "      <td>137</td>\n",
       "      <td>11</td>\n",
       "      <td>18</td>\n",
       "      <td>...</td>\n",
       "      <td>CTX2</td>\n",
       "      <td>101</td>\n",
       "      <td>2119</td>\n",
       "      <td>female</td>\n",
       "      <td>APP/PS1</td>\n",
       "      <td>good</td>\n",
       "      <td>passed</td>\n",
       "      <td>optimal</td>\n",
       "      <td>optimal</td>\n",
       "      <td>True</td>\n",
       "    </tr>\n",
       "    <tr>\n",
       "      <th>4</th>\n",
       "      <td>4</td>\n",
       "      <td>DSB GFAP 101_40X_CTX3</td>\n",
       "      <td>0.444444</td>\n",
       "      <td>1.0</td>\n",
       "      <td>0.807229</td>\n",
       "      <td>1.410526</td>\n",
       "      <td>4</td>\n",
       "      <td>95</td>\n",
       "      <td>5</td>\n",
       "      <td>9</td>\n",
       "      <td>...</td>\n",
       "      <td>CTX3</td>\n",
       "      <td>101</td>\n",
       "      <td>2119</td>\n",
       "      <td>female</td>\n",
       "      <td>APP/PS1</td>\n",
       "      <td>good</td>\n",
       "      <td>passed</td>\n",
       "      <td>optimal</td>\n",
       "      <td>optimal</td>\n",
       "      <td>True</td>\n",
       "    </tr>\n",
       "  </tbody>\n",
       "</table>\n",
       "<p>5 rows × 25 columns</p>\n",
       "</div>"
      ],
      "text/plain": [
       "   index               filename  avg_dna_damage_foci/glia_+  \\\n",
       "0      0   DSB GFAP 101_40X_CA1                    0.187500   \n",
       "1      1   DSB GFAP 101_40X_CA3                    0.000000   \n",
       "2      2  DSB GFAP 101_40X_CTX1                    0.187500   \n",
       "3      3  DSB GFAP 101_40X_CTX2                    0.388889   \n",
       "4      4  DSB GFAP 101_40X_CTX3                    0.444444   \n",
       "\n",
       "   avg_dna_damage_foci/glia_+_damage_+  avg_dna_damage_foci/all_nuclei  \\\n",
       "0                                  1.0                        0.475309   \n",
       "1                                  NaN                        1.151724   \n",
       "2                                  1.0                        0.352201   \n",
       "3                                  1.0                        0.629344   \n",
       "4                                  1.0                        0.807229   \n",
       "\n",
       "   avg_dna_damage_foci/all_nuclei_damage_+  nr_+_dna_damage_glia_nuclei  \\\n",
       "0                                 1.149254                            3   \n",
       "1                                 1.670000                            0   \n",
       "2                                 1.037037                            3   \n",
       "3                                 1.189781                            7   \n",
       "4                                 1.410526                            4   \n",
       "\n",
       "   nr_+_dna_damage_all_nuclei  nr_-_dna_damage_glia_nuclei  nr_glia_+_nuclei  \\\n",
       "0                          67                           13                16   \n",
       "1                         100                            7                 7   \n",
       "2                          54                           13                16   \n",
       "3                         137                           11                18   \n",
       "4                          95                            5                 9   \n",
       "\n",
       "   ...  tissue_location  staining_id  animal_id     sex  genotype  \\\n",
       "0  ...              CA1          101       2119  female   APP/PS1   \n",
       "1  ...              CA3          101       2119  female   APP/PS1   \n",
       "2  ...             CTX1          101       2119  female   APP/PS1   \n",
       "3  ...             CTX2          101       2119  female   APP/PS1   \n",
       "4  ...             CTX3          101       2119  female   APP/PS1   \n",
       "\n",
       "  dna_damage_stain_quality_manual  manual_qc  glia_stain_quality_auto  \\\n",
       "0                            good     passed                  optimal   \n",
       "1                            good     passed                  optimal   \n",
       "2                            good     passed                  optimal   \n",
       "3                            good     passed                  optimal   \n",
       "4                            good     passed                  optimal   \n",
       "\n",
       "  dna_damage_stain_quality_auto staining_qc_passed  \n",
       "0                       optimal               True  \n",
       "1                       optimal               True  \n",
       "2                       optimal               True  \n",
       "3                       optimal               True  \n",
       "4                       optimal               True  \n",
       "\n",
       "[5 rows x 25 columns]"
      ]
     },
     "execution_count": 13,
     "metadata": {},
     "output_type": "execute_result"
    }
   ],
   "source": [
    "# Quality check the analyzed stainings based on deviations from the mean of both %_glia_signal and %_dna_damage_signal\n",
    "merged_df = qc_filter_dataset(merged_df,\n",
    "                              dataset, \n",
    "                              cellpose_nuclei_diameter, \n",
    "                              gaussian_sigma, \n",
    "                              dilation_radius_nuclei, \n",
    "                              dna_damage_segmenter_version, \n",
    "                              glia_nuclei_colocalization_erosion, \n",
    "                              glia_channel_threshold, \n",
    "                              glia_segmenter, \n",
    "                              glia_segmenter_version, \n",
    "                              dna_damage_erosion)\n",
    "\n",
    "# Dataframe now displays the QC values\n",
    "merged_df.head()"
   ]
  },
  {
   "cell_type": "markdown",
   "metadata": {},
   "source": [
    "<h2>Plot technical replicates</h2>\n",
    "\n",
    "First we will plot technical replicates without averaging them into biological replicas"
   ]
  },
  {
   "cell_type": "code",
   "execution_count": 14,
   "metadata": {},
   "outputs": [],
   "source": [
    "# Remove data from images with a poor quality stain (auto QC), copy to avoid warnings\n",
    "auto_filtered_df = merged_df[merged_df['staining_qc_passed'] == True].copy()\n",
    "\n",
    "# Create a new column for combined sex and tissue location\n",
    "auto_filtered_df['sex_tissue'] = auto_filtered_df['sex'] + ' - ' + auto_filtered_df['tissue_location']\n",
    "\n",
    "# Define the order of the categories to ensure that male and female for each tissue location are side by side\n",
    "categories = [\n",
    "    'male - CA1', 'female - CA1',\n",
    "    'male - CA3', 'female - CA3',\n",
    "    'male - CTX1', 'female - CTX1',\n",
    "    'male - CTX2', 'female - CTX2',\n",
    "    'male - CTX3', 'female - CTX3',\n",
    "    'male - DG', 'female - DG'\n",
    "]"
   ]
  },
  {
   "cell_type": "code",
   "execution_count": 15,
   "metadata": {},
   "outputs": [
    {
     "data": {
      "application/vnd.plotly.v1+json": {
       "config": {
        "plotlyServerURL": "https://plot.ly"
       },
       "data": [
        {
         "alignmentgroup": "True",
         "hovertemplate": "genotype=APP/PS1<br>sex_tissue=%{x}<br>avg_dna_damage_foci/glia_+=%{y}<extra></extra>",
         "legendgroup": "APP/PS1",
         "marker": {
          "color": "#636efa"
         },
         "name": "APP/PS1",
         "notched": false,
         "offsetgroup": "APP/PS1",
         "orientation": "v",
         "showlegend": true,
         "type": "box",
         "x": [
          "female - CA1",
          "female - CA3",
          "female - CTX1",
          "female - CTX2",
          "female - CTX3",
          "female - DG",
          "male - CA1",
          "male - CA3",
          "male - CTX1",
          "male - CTX2",
          "male - CTX3",
          "male - DG",
          "male - CA1",
          "male - CA3",
          "male - CTX1",
          "male - CTX2",
          "male - CTX3",
          "male - DG",
          "male - CA1",
          "male - CA3",
          "male - CTX1",
          "male - CTX2",
          "male - CTX3",
          "male - DG",
          "male - CA1",
          "male - CA3",
          "male - CTX1",
          "male - CTX2",
          "male - CTX3",
          "male - DG",
          "male - CA1",
          "male - CA3",
          "male - CTX1",
          "male - CTX2",
          "male - CTX3",
          "male - DG",
          "female - CA1",
          "female - CA3",
          "female - CTX1",
          "female - CTX2",
          "female - CTX3",
          "female - DG",
          "male - CA1",
          "male - CA3",
          "male - CTX1",
          "male - CTX2",
          "male - CTX3",
          "male - DG",
          "male - CA1",
          "male - CA3",
          "male - CTX1",
          "male - CTX2",
          "male - CTX3",
          "male - DG",
          "male - CA1",
          "male - CA3",
          "male - CTX1",
          "male - CTX2",
          "male - CTX3",
          "male - DG",
          "female - CA1",
          "female - CA3",
          "female - CTX1",
          "female - CTX2",
          "female - CTX3",
          "female - DG",
          "male - CA1",
          "male - CA3",
          "male - CTX1",
          "male - CTX2",
          "male - CTX3",
          "male - DG",
          "male - CA1",
          "male - CA3",
          "male - CTX1",
          "male - CTX2",
          "male - CTX3",
          "male - DG",
          "female - CA1",
          "female - CA3",
          "female - CTX1",
          "female - DG",
          "female - CA1",
          "female - CA3",
          "female - CTX1",
          "female - CTX2",
          "female - CTX3",
          "female - DG",
          "female - CA1",
          "female - CA3",
          "female - CTX1",
          "female - CTX2",
          "female - CTX3",
          "female - DG",
          "male - CA1",
          "male - CA3",
          "male - CTX1",
          "male - CTX2",
          "male - CTX3",
          "male - DG",
          "male - CA1",
          "male - CA3",
          "male - CTX1",
          "male - CTX2",
          "male - CTX3",
          "male - DG",
          "female - CA1",
          "female - CA3",
          "female - CTX1",
          "female - CTX2",
          "female - CTX3",
          "female - DG",
          "female - CA1",
          "female - CA3",
          "female - CTX1",
          "female - CTX2",
          "female - CTX3",
          "female - DG",
          "female - CA1",
          "female - CA3",
          "female - CTX1",
          "female - CTX2",
          "female - CTX3",
          "female - DG",
          "female - DG"
         ],
         "x0": " ",
         "xaxis": "x",
         "y": [
          0.1875,
          0,
          0.1875,
          0.3888888888888889,
          0.4444444444444444,
          1,
          0.3846153846153846,
          0.3846153846153846,
          0.25,
          0.4375,
          0.2,
          0.9230769230769232,
          0.2,
          0.5,
          0.5,
          0.8235294117647058,
          0.375,
          0.9444444444444444,
          0.3333333333333333,
          0.3,
          0.4,
          0.9090909090909092,
          0.3076923076923077,
          0.5714285714285714,
          null,
          0.2857142857142857,
          null,
          0.3333333333333333,
          0.25,
          0.3333333333333333,
          1,
          1.25,
          0.4285714285714285,
          0.5,
          1,
          0.8333333333333334,
          1.2857142857142858,
          1,
          1.25,
          1,
          1,
          0.9545454545454546,
          0,
          0,
          0.2,
          0.375,
          null,
          0.5,
          0,
          0.1,
          0,
          0.5,
          0.3333333333333333,
          0.2857142857142857,
          1,
          0,
          0,
          0,
          0,
          0,
          0.3333333333333333,
          2,
          0.6666666666666666,
          0.6666666666666666,
          null,
          0,
          0.7619047619047619,
          0.25,
          0.5,
          1.1428571428571428,
          0.6,
          0.5,
          1.3,
          1,
          0.9411764705882352,
          0.9166666666666666,
          0.8,
          1.7333333333333334,
          0.1666666666666666,
          0,
          null,
          0.2,
          0.5,
          0,
          0,
          0,
          0,
          1.1666666666666667,
          0.4285714285714285,
          0,
          0.25,
          1,
          null,
          0.7272727272727273,
          0.75,
          0,
          0.8333333333333334,
          0.375,
          1.1111111111111112,
          0.5789473684210527,
          0.6,
          0,
          0.9090909090909092,
          0.3333333333333333,
          0.5555555555555556,
          1.1428571428571428,
          0.25,
          0,
          0.5,
          2,
          0.5,
          1.8571428571428568,
          1,
          null,
          0.5,
          0.6666666666666666,
          1,
          0.75,
          0.6666666666666666,
          0.8,
          1.5,
          0.5,
          0,
          0.875,
          0
         ],
         "y0": " ",
         "yaxis": "y"
        },
        {
         "alignmentgroup": "True",
         "hovertemplate": "genotype=APP/PS1 x Neil3 KO<br>sex_tissue=%{x}<br>avg_dna_damage_foci/glia_+=%{y}<extra></extra>",
         "legendgroup": "APP/PS1 x Neil3 KO",
         "marker": {
          "color": "#EF553B"
         },
         "name": "APP/PS1 x Neil3 KO",
         "notched": false,
         "offsetgroup": "APP/PS1 x Neil3 KO",
         "orientation": "v",
         "showlegend": true,
         "type": "box",
         "x": [
          "male - CA1",
          "male - CA3",
          "male - CTX1",
          "male - CTX2",
          "male - CTX3",
          "male - DG",
          "male - CA1",
          "male - CA3",
          "male - CTX1",
          "male - CTX2",
          "male - CTX3",
          "male - DG",
          "female - CA1",
          "female - CA3",
          "female - CTX1",
          "female - CTX2",
          "female - CTX3",
          "female - DG",
          "male - CA1",
          "male - CA3",
          "male - CTX1",
          "male - CTX2",
          "male - CTX3",
          "male - DG",
          "male - CA1",
          "male - CA3",
          "male - CTX1",
          "male - CTX2",
          "male - CTX3",
          "male - DG",
          "female - CA1",
          "female - CA3",
          "female - CTX1",
          "female - CTX2",
          "female - CTX3",
          "female - DG",
          "female - CA1",
          "female - CA3",
          "female - CTX1",
          "female - CTX2",
          "female - CTX3",
          "female - DG",
          "male - CA1",
          "male - CA3",
          "male - CTX1",
          "male - CTX2",
          "male - CTX3",
          "male - DG",
          "male - DG",
          "female - CA1",
          "female - CA3",
          "female - CTX1",
          "female - CTX2",
          "female - CTX3",
          "female - DG",
          "male - DG",
          "male - CA1",
          "male - CA3",
          "male - CTX1",
          "male - CTX2",
          "male - CTX3",
          "male - DG",
          "female - CA1",
          "female - CA3",
          "female - CTX1",
          "female - CTX2",
          "female - CTX3",
          "female - DG",
          "male - CA1",
          "male - CA3",
          "male - DG",
          "male - CA1",
          "male - CA3",
          "male - CTX1",
          "male - CTX2",
          "male - CTX3",
          "male - DG",
          "female - CA1",
          "female - CA3",
          "female - CTX1",
          "female - CTX2",
          "female - CTX3",
          "female - DG",
          "male - CA1",
          "male - CA3",
          "male - CTX1",
          "male - CTX2",
          "male - CTX3",
          "male - DG",
          "female - CA1",
          "female - CA3",
          "female - CTX1",
          "female - CTX2",
          "female - CTX3",
          "female - DG"
         ],
         "x0": " ",
         "xaxis": "x",
         "y": [
          0.1,
          0.7692307692307693,
          0.8333333333333334,
          0.9333333333333332,
          0.3333333333333333,
          0.5,
          0.1111111111111111,
          0.25,
          0.2307692307692307,
          0.1428571428571428,
          0.6666666666666666,
          0.7,
          0.3333333333333333,
          0.3157894736842105,
          0.3333333333333333,
          0.55,
          0.3636363636363636,
          0.9333333333333332,
          0.3,
          0,
          0.3571428571428571,
          0.6666666666666666,
          0.1538461538461538,
          0.9,
          0,
          0.3333333333333333,
          0,
          0,
          0,
          0.2777777777777778,
          0.8,
          1.2,
          0.75,
          0.5384615384615384,
          0.2,
          1.1304347826086956,
          0.7,
          0.625,
          0.3333333333333333,
          0.5,
          1.4285714285714286,
          1,
          0.5555555555555556,
          0.2222222222222222,
          0,
          0.6923076923076923,
          0.625,
          0.6363636363636364,
          0.4705882352941176,
          1,
          0.5555555555555556,
          1.4545454545454546,
          0.3636363636363636,
          0.375,
          0.8636363636363636,
          null,
          0.25,
          0.2857142857142857,
          0.25,
          1.5,
          0,
          0.4,
          0.1666666666666666,
          0.0769230769230769,
          0.2,
          0.2857142857142857,
          0,
          0.4166666666666667,
          0.7619047619047619,
          0.5555555555555556,
          0.5555555555555556,
          1.5,
          0.5,
          0,
          0.375,
          0.2,
          0.5555555555555556,
          0.0909090909090909,
          0.2857142857142857,
          1.6,
          0.6,
          1.2,
          0.3333333333333333,
          0.5333333333333333,
          0,
          0.2142857142857142,
          0.25,
          0.4444444444444444,
          0.7058823529411765,
          0.15,
          0.1,
          0.6842105263157895,
          0.4375,
          0.3333333333333333,
          0.3333333333333333
         ],
         "y0": " ",
         "yaxis": "y"
        }
       ],
       "layout": {
        "boxmode": "group",
        "legend": {
         "title": {
          "text": "genotype"
         },
         "tracegroupgap": 0
        },
        "template": {
         "data": {
          "bar": [
           {
            "error_x": {
             "color": "#2a3f5f"
            },
            "error_y": {
             "color": "#2a3f5f"
            },
            "marker": {
             "line": {
              "color": "#E5ECF6",
              "width": 0.5
             },
             "pattern": {
              "fillmode": "overlay",
              "size": 10,
              "solidity": 0.2
             }
            },
            "type": "bar"
           }
          ],
          "barpolar": [
           {
            "marker": {
             "line": {
              "color": "#E5ECF6",
              "width": 0.5
             },
             "pattern": {
              "fillmode": "overlay",
              "size": 10,
              "solidity": 0.2
             }
            },
            "type": "barpolar"
           }
          ],
          "carpet": [
           {
            "aaxis": {
             "endlinecolor": "#2a3f5f",
             "gridcolor": "white",
             "linecolor": "white",
             "minorgridcolor": "white",
             "startlinecolor": "#2a3f5f"
            },
            "baxis": {
             "endlinecolor": "#2a3f5f",
             "gridcolor": "white",
             "linecolor": "white",
             "minorgridcolor": "white",
             "startlinecolor": "#2a3f5f"
            },
            "type": "carpet"
           }
          ],
          "choropleth": [
           {
            "colorbar": {
             "outlinewidth": 0,
             "ticks": ""
            },
            "type": "choropleth"
           }
          ],
          "contour": [
           {
            "colorbar": {
             "outlinewidth": 0,
             "ticks": ""
            },
            "colorscale": [
             [
              0,
              "#0d0887"
             ],
             [
              0.1111111111111111,
              "#46039f"
             ],
             [
              0.2222222222222222,
              "#7201a8"
             ],
             [
              0.3333333333333333,
              "#9c179e"
             ],
             [
              0.4444444444444444,
              "#bd3786"
             ],
             [
              0.5555555555555556,
              "#d8576b"
             ],
             [
              0.6666666666666666,
              "#ed7953"
             ],
             [
              0.7777777777777778,
              "#fb9f3a"
             ],
             [
              0.8888888888888888,
              "#fdca26"
             ],
             [
              1,
              "#f0f921"
             ]
            ],
            "type": "contour"
           }
          ],
          "contourcarpet": [
           {
            "colorbar": {
             "outlinewidth": 0,
             "ticks": ""
            },
            "type": "contourcarpet"
           }
          ],
          "heatmap": [
           {
            "colorbar": {
             "outlinewidth": 0,
             "ticks": ""
            },
            "colorscale": [
             [
              0,
              "#0d0887"
             ],
             [
              0.1111111111111111,
              "#46039f"
             ],
             [
              0.2222222222222222,
              "#7201a8"
             ],
             [
              0.3333333333333333,
              "#9c179e"
             ],
             [
              0.4444444444444444,
              "#bd3786"
             ],
             [
              0.5555555555555556,
              "#d8576b"
             ],
             [
              0.6666666666666666,
              "#ed7953"
             ],
             [
              0.7777777777777778,
              "#fb9f3a"
             ],
             [
              0.8888888888888888,
              "#fdca26"
             ],
             [
              1,
              "#f0f921"
             ]
            ],
            "type": "heatmap"
           }
          ],
          "heatmapgl": [
           {
            "colorbar": {
             "outlinewidth": 0,
             "ticks": ""
            },
            "colorscale": [
             [
              0,
              "#0d0887"
             ],
             [
              0.1111111111111111,
              "#46039f"
             ],
             [
              0.2222222222222222,
              "#7201a8"
             ],
             [
              0.3333333333333333,
              "#9c179e"
             ],
             [
              0.4444444444444444,
              "#bd3786"
             ],
             [
              0.5555555555555556,
              "#d8576b"
             ],
             [
              0.6666666666666666,
              "#ed7953"
             ],
             [
              0.7777777777777778,
              "#fb9f3a"
             ],
             [
              0.8888888888888888,
              "#fdca26"
             ],
             [
              1,
              "#f0f921"
             ]
            ],
            "type": "heatmapgl"
           }
          ],
          "histogram": [
           {
            "marker": {
             "pattern": {
              "fillmode": "overlay",
              "size": 10,
              "solidity": 0.2
             }
            },
            "type": "histogram"
           }
          ],
          "histogram2d": [
           {
            "colorbar": {
             "outlinewidth": 0,
             "ticks": ""
            },
            "colorscale": [
             [
              0,
              "#0d0887"
             ],
             [
              0.1111111111111111,
              "#46039f"
             ],
             [
              0.2222222222222222,
              "#7201a8"
             ],
             [
              0.3333333333333333,
              "#9c179e"
             ],
             [
              0.4444444444444444,
              "#bd3786"
             ],
             [
              0.5555555555555556,
              "#d8576b"
             ],
             [
              0.6666666666666666,
              "#ed7953"
             ],
             [
              0.7777777777777778,
              "#fb9f3a"
             ],
             [
              0.8888888888888888,
              "#fdca26"
             ],
             [
              1,
              "#f0f921"
             ]
            ],
            "type": "histogram2d"
           }
          ],
          "histogram2dcontour": [
           {
            "colorbar": {
             "outlinewidth": 0,
             "ticks": ""
            },
            "colorscale": [
             [
              0,
              "#0d0887"
             ],
             [
              0.1111111111111111,
              "#46039f"
             ],
             [
              0.2222222222222222,
              "#7201a8"
             ],
             [
              0.3333333333333333,
              "#9c179e"
             ],
             [
              0.4444444444444444,
              "#bd3786"
             ],
             [
              0.5555555555555556,
              "#d8576b"
             ],
             [
              0.6666666666666666,
              "#ed7953"
             ],
             [
              0.7777777777777778,
              "#fb9f3a"
             ],
             [
              0.8888888888888888,
              "#fdca26"
             ],
             [
              1,
              "#f0f921"
             ]
            ],
            "type": "histogram2dcontour"
           }
          ],
          "mesh3d": [
           {
            "colorbar": {
             "outlinewidth": 0,
             "ticks": ""
            },
            "type": "mesh3d"
           }
          ],
          "parcoords": [
           {
            "line": {
             "colorbar": {
              "outlinewidth": 0,
              "ticks": ""
             }
            },
            "type": "parcoords"
           }
          ],
          "pie": [
           {
            "automargin": true,
            "type": "pie"
           }
          ],
          "scatter": [
           {
            "fillpattern": {
             "fillmode": "overlay",
             "size": 10,
             "solidity": 0.2
            },
            "type": "scatter"
           }
          ],
          "scatter3d": [
           {
            "line": {
             "colorbar": {
              "outlinewidth": 0,
              "ticks": ""
             }
            },
            "marker": {
             "colorbar": {
              "outlinewidth": 0,
              "ticks": ""
             }
            },
            "type": "scatter3d"
           }
          ],
          "scattercarpet": [
           {
            "marker": {
             "colorbar": {
              "outlinewidth": 0,
              "ticks": ""
             }
            },
            "type": "scattercarpet"
           }
          ],
          "scattergeo": [
           {
            "marker": {
             "colorbar": {
              "outlinewidth": 0,
              "ticks": ""
             }
            },
            "type": "scattergeo"
           }
          ],
          "scattergl": [
           {
            "marker": {
             "colorbar": {
              "outlinewidth": 0,
              "ticks": ""
             }
            },
            "type": "scattergl"
           }
          ],
          "scattermapbox": [
           {
            "marker": {
             "colorbar": {
              "outlinewidth": 0,
              "ticks": ""
             }
            },
            "type": "scattermapbox"
           }
          ],
          "scatterpolar": [
           {
            "marker": {
             "colorbar": {
              "outlinewidth": 0,
              "ticks": ""
             }
            },
            "type": "scatterpolar"
           }
          ],
          "scatterpolargl": [
           {
            "marker": {
             "colorbar": {
              "outlinewidth": 0,
              "ticks": ""
             }
            },
            "type": "scatterpolargl"
           }
          ],
          "scatterternary": [
           {
            "marker": {
             "colorbar": {
              "outlinewidth": 0,
              "ticks": ""
             }
            },
            "type": "scatterternary"
           }
          ],
          "surface": [
           {
            "colorbar": {
             "outlinewidth": 0,
             "ticks": ""
            },
            "colorscale": [
             [
              0,
              "#0d0887"
             ],
             [
              0.1111111111111111,
              "#46039f"
             ],
             [
              0.2222222222222222,
              "#7201a8"
             ],
             [
              0.3333333333333333,
              "#9c179e"
             ],
             [
              0.4444444444444444,
              "#bd3786"
             ],
             [
              0.5555555555555556,
              "#d8576b"
             ],
             [
              0.6666666666666666,
              "#ed7953"
             ],
             [
              0.7777777777777778,
              "#fb9f3a"
             ],
             [
              0.8888888888888888,
              "#fdca26"
             ],
             [
              1,
              "#f0f921"
             ]
            ],
            "type": "surface"
           }
          ],
          "table": [
           {
            "cells": {
             "fill": {
              "color": "#EBF0F8"
             },
             "line": {
              "color": "white"
             }
            },
            "header": {
             "fill": {
              "color": "#C8D4E3"
             },
             "line": {
              "color": "white"
             }
            },
            "type": "table"
           }
          ]
         },
         "layout": {
          "annotationdefaults": {
           "arrowcolor": "#2a3f5f",
           "arrowhead": 0,
           "arrowwidth": 1
          },
          "autotypenumbers": "strict",
          "coloraxis": {
           "colorbar": {
            "outlinewidth": 0,
            "ticks": ""
           }
          },
          "colorscale": {
           "diverging": [
            [
             0,
             "#8e0152"
            ],
            [
             0.1,
             "#c51b7d"
            ],
            [
             0.2,
             "#de77ae"
            ],
            [
             0.3,
             "#f1b6da"
            ],
            [
             0.4,
             "#fde0ef"
            ],
            [
             0.5,
             "#f7f7f7"
            ],
            [
             0.6,
             "#e6f5d0"
            ],
            [
             0.7,
             "#b8e186"
            ],
            [
             0.8,
             "#7fbc41"
            ],
            [
             0.9,
             "#4d9221"
            ],
            [
             1,
             "#276419"
            ]
           ],
           "sequential": [
            [
             0,
             "#0d0887"
            ],
            [
             0.1111111111111111,
             "#46039f"
            ],
            [
             0.2222222222222222,
             "#7201a8"
            ],
            [
             0.3333333333333333,
             "#9c179e"
            ],
            [
             0.4444444444444444,
             "#bd3786"
            ],
            [
             0.5555555555555556,
             "#d8576b"
            ],
            [
             0.6666666666666666,
             "#ed7953"
            ],
            [
             0.7777777777777778,
             "#fb9f3a"
            ],
            [
             0.8888888888888888,
             "#fdca26"
            ],
            [
             1,
             "#f0f921"
            ]
           ],
           "sequentialminus": [
            [
             0,
             "#0d0887"
            ],
            [
             0.1111111111111111,
             "#46039f"
            ],
            [
             0.2222222222222222,
             "#7201a8"
            ],
            [
             0.3333333333333333,
             "#9c179e"
            ],
            [
             0.4444444444444444,
             "#bd3786"
            ],
            [
             0.5555555555555556,
             "#d8576b"
            ],
            [
             0.6666666666666666,
             "#ed7953"
            ],
            [
             0.7777777777777778,
             "#fb9f3a"
            ],
            [
             0.8888888888888888,
             "#fdca26"
            ],
            [
             1,
             "#f0f921"
            ]
           ]
          },
          "colorway": [
           "#636efa",
           "#EF553B",
           "#00cc96",
           "#ab63fa",
           "#FFA15A",
           "#19d3f3",
           "#FF6692",
           "#B6E880",
           "#FF97FF",
           "#FECB52"
          ],
          "font": {
           "color": "#2a3f5f"
          },
          "geo": {
           "bgcolor": "white",
           "lakecolor": "white",
           "landcolor": "#E5ECF6",
           "showlakes": true,
           "showland": true,
           "subunitcolor": "white"
          },
          "hoverlabel": {
           "align": "left"
          },
          "hovermode": "closest",
          "mapbox": {
           "style": "light"
          },
          "paper_bgcolor": "white",
          "plot_bgcolor": "#E5ECF6",
          "polar": {
           "angularaxis": {
            "gridcolor": "white",
            "linecolor": "white",
            "ticks": ""
           },
           "bgcolor": "#E5ECF6",
           "radialaxis": {
            "gridcolor": "white",
            "linecolor": "white",
            "ticks": ""
           }
          },
          "scene": {
           "xaxis": {
            "backgroundcolor": "#E5ECF6",
            "gridcolor": "white",
            "gridwidth": 2,
            "linecolor": "white",
            "showbackground": true,
            "ticks": "",
            "zerolinecolor": "white"
           },
           "yaxis": {
            "backgroundcolor": "#E5ECF6",
            "gridcolor": "white",
            "gridwidth": 2,
            "linecolor": "white",
            "showbackground": true,
            "ticks": "",
            "zerolinecolor": "white"
           },
           "zaxis": {
            "backgroundcolor": "#E5ECF6",
            "gridcolor": "white",
            "gridwidth": 2,
            "linecolor": "white",
            "showbackground": true,
            "ticks": "",
            "zerolinecolor": "white"
           }
          },
          "shapedefaults": {
           "line": {
            "color": "#2a3f5f"
           }
          },
          "ternary": {
           "aaxis": {
            "gridcolor": "white",
            "linecolor": "white",
            "ticks": ""
           },
           "baxis": {
            "gridcolor": "white",
            "linecolor": "white",
            "ticks": ""
           },
           "bgcolor": "#E5ECF6",
           "caxis": {
            "gridcolor": "white",
            "linecolor": "white",
            "ticks": ""
           }
          },
          "title": {
           "x": 0.05
          },
          "xaxis": {
           "automargin": true,
           "gridcolor": "white",
           "linecolor": "white",
           "ticks": "",
           "title": {
            "standoff": 15
           },
           "zerolinecolor": "white",
           "zerolinewidth": 2
          },
          "yaxis": {
           "automargin": true,
           "gridcolor": "white",
           "linecolor": "white",
           "ticks": "",
           "title": {
            "standoff": 15
           },
           "zerolinecolor": "white",
           "zerolinewidth": 2
          }
         }
        },
        "title": {
         "text": "DNA Damage Foci nr in All Astrocyte Nuclei by Tissue Location and Genotype (separated by sex) - Auto stain QC - cellpdia30_sigma1_dilrad4_dnad_obj_seg_v3_gliaero6_gliathr30_dnadero2"
        },
        "xaxis": {
         "anchor": "y",
         "categoryarray": [
          "male - CA1",
          "female - CA1",
          "male - CA3",
          "female - CA3",
          "male - CTX1",
          "female - CTX1",
          "male - CTX2",
          "female - CTX2",
          "male - CTX3",
          "female - CTX3",
          "male - DG",
          "female - DG"
         ],
         "categoryorder": "array",
         "domain": [
          0,
          1
         ],
         "title": {
          "text": "sex_tissue"
         }
        },
        "yaxis": {
         "anchor": "x",
         "domain": [
          0,
          1
         ],
         "title": {
          "text": "avg_dna_damage_foci/glia_+"
         }
        }
       }
      }
     },
     "metadata": {},
     "output_type": "display_data"
    },
    {
     "data": {
      "application/vnd.plotly.v1+json": {
       "config": {
        "plotlyServerURL": "https://plot.ly"
       },
       "data": [
        {
         "alignmentgroup": "True",
         "hovertemplate": "genotype=APP/PS1<br>sex_tissue=%{x}<br>avg_dna_damage_foci/glia_+_damage_+=%{y}<extra></extra>",
         "legendgroup": "APP/PS1",
         "marker": {
          "color": "#636efa"
         },
         "name": "APP/PS1",
         "notched": false,
         "offsetgroup": "APP/PS1",
         "orientation": "v",
         "showlegend": true,
         "type": "box",
         "x": [
          "female - CA1",
          "female - CA3",
          "female - CTX1",
          "female - CTX2",
          "female - CTX3",
          "female - DG",
          "male - CA1",
          "male - CA3",
          "male - CTX1",
          "male - CTX2",
          "male - CTX3",
          "male - DG",
          "male - CA1",
          "male - CA3",
          "male - CTX1",
          "male - CTX2",
          "male - CTX3",
          "male - DG",
          "male - CA1",
          "male - CA3",
          "male - CTX1",
          "male - CTX2",
          "male - CTX3",
          "male - DG",
          "male - CA1",
          "male - CA3",
          "male - CTX1",
          "male - CTX2",
          "male - CTX3",
          "male - DG",
          "male - CA1",
          "male - CA3",
          "male - CTX1",
          "male - CTX2",
          "male - CTX3",
          "male - DG",
          "female - CA1",
          "female - CA3",
          "female - CTX1",
          "female - CTX2",
          "female - CTX3",
          "female - DG",
          "male - CA1",
          "male - CA3",
          "male - CTX1",
          "male - CTX2",
          "male - CTX3",
          "male - DG",
          "male - CA1",
          "male - CA3",
          "male - CTX1",
          "male - CTX2",
          "male - CTX3",
          "male - DG",
          "male - CA1",
          "male - CA3",
          "male - CTX1",
          "male - CTX2",
          "male - CTX3",
          "male - DG",
          "female - CA1",
          "female - CA3",
          "female - CTX1",
          "female - CTX2",
          "female - CTX3",
          "female - DG",
          "male - CA1",
          "male - CA3",
          "male - CTX1",
          "male - CTX2",
          "male - CTX3",
          "male - DG",
          "male - CA1",
          "male - CA3",
          "male - CTX1",
          "male - CTX2",
          "male - CTX3",
          "male - DG",
          "female - CA1",
          "female - CA3",
          "female - CTX1",
          "female - DG",
          "female - CA1",
          "female - CA3",
          "female - CTX1",
          "female - CTX2",
          "female - CTX3",
          "female - DG",
          "female - CA1",
          "female - CA3",
          "female - CTX1",
          "female - CTX2",
          "female - CTX3",
          "female - DG",
          "male - CA1",
          "male - CA3",
          "male - CTX1",
          "male - CTX2",
          "male - CTX3",
          "male - DG",
          "male - CA1",
          "male - CA3",
          "male - CTX1",
          "male - CTX2",
          "male - CTX3",
          "male - DG",
          "female - CA1",
          "female - CA3",
          "female - CTX1",
          "female - CTX2",
          "female - CTX3",
          "female - DG",
          "female - CA1",
          "female - CA3",
          "female - CTX1",
          "female - CTX2",
          "female - CTX3",
          "female - DG",
          "female - CA1",
          "female - CA3",
          "female - CTX1",
          "female - CTX2",
          "female - CTX3",
          "female - DG",
          "female - DG"
         ],
         "x0": " ",
         "xaxis": "x",
         "y": [
          1,
          null,
          1,
          1,
          1,
          1.4166666666666667,
          1.25,
          1.25,
          1,
          1.4,
          1,
          1.5,
          1.25,
          1,
          2,
          1.5555555555555556,
          1,
          1.5454545454545454,
          1,
          1.5,
          1.3333333333333333,
          1.25,
          1.3333333333333333,
          1.3333333333333333,
          null,
          2,
          null,
          1,
          1,
          1,
          1.6666666666666667,
          2,
          1,
          1,
          1.5,
          1.25,
          1.5,
          1,
          1.6666666666666667,
          1,
          2,
          1.4,
          null,
          null,
          2,
          1.5,
          null,
          1.6666666666666667,
          null,
          1,
          null,
          1.4,
          1.25,
          2,
          1,
          null,
          null,
          null,
          null,
          null,
          1,
          2,
          2,
          1,
          null,
          null,
          1.6,
          1,
          1,
          1.3333333333333333,
          1,
          1.5,
          1.625,
          1.5833333333333333,
          1.6,
          1.375,
          1,
          2,
          1,
          null,
          null,
          1,
          1.2,
          null,
          null,
          null,
          null,
          1.5555555555555556,
          1,
          null,
          1,
          1,
          null,
          1.6,
          1.5,
          null,
          1.25,
          1,
          1.6666666666666667,
          1.2222222222222223,
          1,
          null,
          1.6666666666666667,
          1,
          1.6666666666666667,
          1.6,
          1,
          null,
          1,
          2.333333333333333,
          1,
          2.6,
          2,
          null,
          1,
          2,
          1,
          1.5,
          1,
          2,
          1.5,
          1,
          null,
          1.75,
          null
         ],
         "y0": " ",
         "yaxis": "y"
        },
        {
         "alignmentgroup": "True",
         "hovertemplate": "genotype=APP/PS1 x Neil3 KO<br>sex_tissue=%{x}<br>avg_dna_damage_foci/glia_+_damage_+=%{y}<extra></extra>",
         "legendgroup": "APP/PS1 x Neil3 KO",
         "marker": {
          "color": "#EF553B"
         },
         "name": "APP/PS1 x Neil3 KO",
         "notched": false,
         "offsetgroup": "APP/PS1 x Neil3 KO",
         "orientation": "v",
         "showlegend": true,
         "type": "box",
         "x": [
          "male - CA1",
          "male - CA3",
          "male - CTX1",
          "male - CTX2",
          "male - CTX3",
          "male - DG",
          "male - CA1",
          "male - CA3",
          "male - CTX1",
          "male - CTX2",
          "male - CTX3",
          "male - DG",
          "female - CA1",
          "female - CA3",
          "female - CTX1",
          "female - CTX2",
          "female - CTX3",
          "female - DG",
          "male - CA1",
          "male - CA3",
          "male - CTX1",
          "male - CTX2",
          "male - CTX3",
          "male - DG",
          "male - CA1",
          "male - CA3",
          "male - CTX1",
          "male - CTX2",
          "male - CTX3",
          "male - DG",
          "female - CA1",
          "female - CA3",
          "female - CTX1",
          "female - CTX2",
          "female - CTX3",
          "female - DG",
          "female - CA1",
          "female - CA3",
          "female - CTX1",
          "female - CTX2",
          "female - CTX3",
          "female - DG",
          "male - CA1",
          "male - CA3",
          "male - CTX1",
          "male - CTX2",
          "male - CTX3",
          "male - DG",
          "male - DG",
          "female - CA1",
          "female - CA3",
          "female - CTX1",
          "female - CTX2",
          "female - CTX3",
          "female - DG",
          "male - DG",
          "male - CA1",
          "male - CA3",
          "male - CTX1",
          "male - CTX2",
          "male - CTX3",
          "male - DG",
          "female - CA1",
          "female - CA3",
          "female - CTX1",
          "female - CTX2",
          "female - CTX3",
          "female - DG",
          "male - CA1",
          "male - CA3",
          "male - DG",
          "male - CA1",
          "male - CA3",
          "male - CTX1",
          "male - CTX2",
          "male - CTX3",
          "male - DG",
          "female - CA1",
          "female - CA3",
          "female - CTX1",
          "female - CTX2",
          "female - CTX3",
          "female - DG",
          "male - CA1",
          "male - CA3",
          "male - CTX1",
          "male - CTX2",
          "male - CTX3",
          "male - DG",
          "female - CA1",
          "female - CA3",
          "female - CTX1",
          "female - CTX2",
          "female - CTX3",
          "female - DG"
         ],
         "x0": " ",
         "xaxis": "x",
         "y": [
          1,
          1.4285714285714286,
          1.6666666666666667,
          1.5555555555555556,
          2,
          1.1666666666666667,
          1,
          1,
          1,
          1,
          1,
          1.4,
          2,
          1,
          1,
          1.8333333333333333,
          1,
          1.5555555555555556,
          1,
          null,
          1,
          1,
          1,
          1.8,
          null,
          2,
          null,
          null,
          null,
          1.25,
          1,
          1.5,
          1.2,
          1,
          1,
          1.7333333333333334,
          1,
          1,
          1,
          1,
          1.6666666666666667,
          1,
          1,
          1,
          null,
          1.125,
          1.4285714285714286,
          1.4,
          1.1428571428571428,
          1,
          1,
          2,
          1.3333333333333333,
          1.5,
          1.4615384615384617,
          null,
          1,
          1,
          1,
          3,
          null,
          1,
          1,
          1,
          1,
          2,
          null,
          1,
          1.4545454545454546,
          1.25,
          1.4285714285714286,
          1.8,
          1,
          null,
          1,
          1,
          1,
          1,
          1,
          2,
          1.5,
          1.5,
          1,
          1.1428571428571428,
          null,
          1.5,
          1,
          2,
          1.3333333333333333,
          1,
          1,
          1.625,
          1.4,
          1.25,
          1.125
         ],
         "y0": " ",
         "yaxis": "y"
        }
       ],
       "layout": {
        "boxmode": "group",
        "legend": {
         "title": {
          "text": "genotype"
         },
         "tracegroupgap": 0
        },
        "template": {
         "data": {
          "bar": [
           {
            "error_x": {
             "color": "#2a3f5f"
            },
            "error_y": {
             "color": "#2a3f5f"
            },
            "marker": {
             "line": {
              "color": "#E5ECF6",
              "width": 0.5
             },
             "pattern": {
              "fillmode": "overlay",
              "size": 10,
              "solidity": 0.2
             }
            },
            "type": "bar"
           }
          ],
          "barpolar": [
           {
            "marker": {
             "line": {
              "color": "#E5ECF6",
              "width": 0.5
             },
             "pattern": {
              "fillmode": "overlay",
              "size": 10,
              "solidity": 0.2
             }
            },
            "type": "barpolar"
           }
          ],
          "carpet": [
           {
            "aaxis": {
             "endlinecolor": "#2a3f5f",
             "gridcolor": "white",
             "linecolor": "white",
             "minorgridcolor": "white",
             "startlinecolor": "#2a3f5f"
            },
            "baxis": {
             "endlinecolor": "#2a3f5f",
             "gridcolor": "white",
             "linecolor": "white",
             "minorgridcolor": "white",
             "startlinecolor": "#2a3f5f"
            },
            "type": "carpet"
           }
          ],
          "choropleth": [
           {
            "colorbar": {
             "outlinewidth": 0,
             "ticks": ""
            },
            "type": "choropleth"
           }
          ],
          "contour": [
           {
            "colorbar": {
             "outlinewidth": 0,
             "ticks": ""
            },
            "colorscale": [
             [
              0,
              "#0d0887"
             ],
             [
              0.1111111111111111,
              "#46039f"
             ],
             [
              0.2222222222222222,
              "#7201a8"
             ],
             [
              0.3333333333333333,
              "#9c179e"
             ],
             [
              0.4444444444444444,
              "#bd3786"
             ],
             [
              0.5555555555555556,
              "#d8576b"
             ],
             [
              0.6666666666666666,
              "#ed7953"
             ],
             [
              0.7777777777777778,
              "#fb9f3a"
             ],
             [
              0.8888888888888888,
              "#fdca26"
             ],
             [
              1,
              "#f0f921"
             ]
            ],
            "type": "contour"
           }
          ],
          "contourcarpet": [
           {
            "colorbar": {
             "outlinewidth": 0,
             "ticks": ""
            },
            "type": "contourcarpet"
           }
          ],
          "heatmap": [
           {
            "colorbar": {
             "outlinewidth": 0,
             "ticks": ""
            },
            "colorscale": [
             [
              0,
              "#0d0887"
             ],
             [
              0.1111111111111111,
              "#46039f"
             ],
             [
              0.2222222222222222,
              "#7201a8"
             ],
             [
              0.3333333333333333,
              "#9c179e"
             ],
             [
              0.4444444444444444,
              "#bd3786"
             ],
             [
              0.5555555555555556,
              "#d8576b"
             ],
             [
              0.6666666666666666,
              "#ed7953"
             ],
             [
              0.7777777777777778,
              "#fb9f3a"
             ],
             [
              0.8888888888888888,
              "#fdca26"
             ],
             [
              1,
              "#f0f921"
             ]
            ],
            "type": "heatmap"
           }
          ],
          "heatmapgl": [
           {
            "colorbar": {
             "outlinewidth": 0,
             "ticks": ""
            },
            "colorscale": [
             [
              0,
              "#0d0887"
             ],
             [
              0.1111111111111111,
              "#46039f"
             ],
             [
              0.2222222222222222,
              "#7201a8"
             ],
             [
              0.3333333333333333,
              "#9c179e"
             ],
             [
              0.4444444444444444,
              "#bd3786"
             ],
             [
              0.5555555555555556,
              "#d8576b"
             ],
             [
              0.6666666666666666,
              "#ed7953"
             ],
             [
              0.7777777777777778,
              "#fb9f3a"
             ],
             [
              0.8888888888888888,
              "#fdca26"
             ],
             [
              1,
              "#f0f921"
             ]
            ],
            "type": "heatmapgl"
           }
          ],
          "histogram": [
           {
            "marker": {
             "pattern": {
              "fillmode": "overlay",
              "size": 10,
              "solidity": 0.2
             }
            },
            "type": "histogram"
           }
          ],
          "histogram2d": [
           {
            "colorbar": {
             "outlinewidth": 0,
             "ticks": ""
            },
            "colorscale": [
             [
              0,
              "#0d0887"
             ],
             [
              0.1111111111111111,
              "#46039f"
             ],
             [
              0.2222222222222222,
              "#7201a8"
             ],
             [
              0.3333333333333333,
              "#9c179e"
             ],
             [
              0.4444444444444444,
              "#bd3786"
             ],
             [
              0.5555555555555556,
              "#d8576b"
             ],
             [
              0.6666666666666666,
              "#ed7953"
             ],
             [
              0.7777777777777778,
              "#fb9f3a"
             ],
             [
              0.8888888888888888,
              "#fdca26"
             ],
             [
              1,
              "#f0f921"
             ]
            ],
            "type": "histogram2d"
           }
          ],
          "histogram2dcontour": [
           {
            "colorbar": {
             "outlinewidth": 0,
             "ticks": ""
            },
            "colorscale": [
             [
              0,
              "#0d0887"
             ],
             [
              0.1111111111111111,
              "#46039f"
             ],
             [
              0.2222222222222222,
              "#7201a8"
             ],
             [
              0.3333333333333333,
              "#9c179e"
             ],
             [
              0.4444444444444444,
              "#bd3786"
             ],
             [
              0.5555555555555556,
              "#d8576b"
             ],
             [
              0.6666666666666666,
              "#ed7953"
             ],
             [
              0.7777777777777778,
              "#fb9f3a"
             ],
             [
              0.8888888888888888,
              "#fdca26"
             ],
             [
              1,
              "#f0f921"
             ]
            ],
            "type": "histogram2dcontour"
           }
          ],
          "mesh3d": [
           {
            "colorbar": {
             "outlinewidth": 0,
             "ticks": ""
            },
            "type": "mesh3d"
           }
          ],
          "parcoords": [
           {
            "line": {
             "colorbar": {
              "outlinewidth": 0,
              "ticks": ""
             }
            },
            "type": "parcoords"
           }
          ],
          "pie": [
           {
            "automargin": true,
            "type": "pie"
           }
          ],
          "scatter": [
           {
            "fillpattern": {
             "fillmode": "overlay",
             "size": 10,
             "solidity": 0.2
            },
            "type": "scatter"
           }
          ],
          "scatter3d": [
           {
            "line": {
             "colorbar": {
              "outlinewidth": 0,
              "ticks": ""
             }
            },
            "marker": {
             "colorbar": {
              "outlinewidth": 0,
              "ticks": ""
             }
            },
            "type": "scatter3d"
           }
          ],
          "scattercarpet": [
           {
            "marker": {
             "colorbar": {
              "outlinewidth": 0,
              "ticks": ""
             }
            },
            "type": "scattercarpet"
           }
          ],
          "scattergeo": [
           {
            "marker": {
             "colorbar": {
              "outlinewidth": 0,
              "ticks": ""
             }
            },
            "type": "scattergeo"
           }
          ],
          "scattergl": [
           {
            "marker": {
             "colorbar": {
              "outlinewidth": 0,
              "ticks": ""
             }
            },
            "type": "scattergl"
           }
          ],
          "scattermapbox": [
           {
            "marker": {
             "colorbar": {
              "outlinewidth": 0,
              "ticks": ""
             }
            },
            "type": "scattermapbox"
           }
          ],
          "scatterpolar": [
           {
            "marker": {
             "colorbar": {
              "outlinewidth": 0,
              "ticks": ""
             }
            },
            "type": "scatterpolar"
           }
          ],
          "scatterpolargl": [
           {
            "marker": {
             "colorbar": {
              "outlinewidth": 0,
              "ticks": ""
             }
            },
            "type": "scatterpolargl"
           }
          ],
          "scatterternary": [
           {
            "marker": {
             "colorbar": {
              "outlinewidth": 0,
              "ticks": ""
             }
            },
            "type": "scatterternary"
           }
          ],
          "surface": [
           {
            "colorbar": {
             "outlinewidth": 0,
             "ticks": ""
            },
            "colorscale": [
             [
              0,
              "#0d0887"
             ],
             [
              0.1111111111111111,
              "#46039f"
             ],
             [
              0.2222222222222222,
              "#7201a8"
             ],
             [
              0.3333333333333333,
              "#9c179e"
             ],
             [
              0.4444444444444444,
              "#bd3786"
             ],
             [
              0.5555555555555556,
              "#d8576b"
             ],
             [
              0.6666666666666666,
              "#ed7953"
             ],
             [
              0.7777777777777778,
              "#fb9f3a"
             ],
             [
              0.8888888888888888,
              "#fdca26"
             ],
             [
              1,
              "#f0f921"
             ]
            ],
            "type": "surface"
           }
          ],
          "table": [
           {
            "cells": {
             "fill": {
              "color": "#EBF0F8"
             },
             "line": {
              "color": "white"
             }
            },
            "header": {
             "fill": {
              "color": "#C8D4E3"
             },
             "line": {
              "color": "white"
             }
            },
            "type": "table"
           }
          ]
         },
         "layout": {
          "annotationdefaults": {
           "arrowcolor": "#2a3f5f",
           "arrowhead": 0,
           "arrowwidth": 1
          },
          "autotypenumbers": "strict",
          "coloraxis": {
           "colorbar": {
            "outlinewidth": 0,
            "ticks": ""
           }
          },
          "colorscale": {
           "diverging": [
            [
             0,
             "#8e0152"
            ],
            [
             0.1,
             "#c51b7d"
            ],
            [
             0.2,
             "#de77ae"
            ],
            [
             0.3,
             "#f1b6da"
            ],
            [
             0.4,
             "#fde0ef"
            ],
            [
             0.5,
             "#f7f7f7"
            ],
            [
             0.6,
             "#e6f5d0"
            ],
            [
             0.7,
             "#b8e186"
            ],
            [
             0.8,
             "#7fbc41"
            ],
            [
             0.9,
             "#4d9221"
            ],
            [
             1,
             "#276419"
            ]
           ],
           "sequential": [
            [
             0,
             "#0d0887"
            ],
            [
             0.1111111111111111,
             "#46039f"
            ],
            [
             0.2222222222222222,
             "#7201a8"
            ],
            [
             0.3333333333333333,
             "#9c179e"
            ],
            [
             0.4444444444444444,
             "#bd3786"
            ],
            [
             0.5555555555555556,
             "#d8576b"
            ],
            [
             0.6666666666666666,
             "#ed7953"
            ],
            [
             0.7777777777777778,
             "#fb9f3a"
            ],
            [
             0.8888888888888888,
             "#fdca26"
            ],
            [
             1,
             "#f0f921"
            ]
           ],
           "sequentialminus": [
            [
             0,
             "#0d0887"
            ],
            [
             0.1111111111111111,
             "#46039f"
            ],
            [
             0.2222222222222222,
             "#7201a8"
            ],
            [
             0.3333333333333333,
             "#9c179e"
            ],
            [
             0.4444444444444444,
             "#bd3786"
            ],
            [
             0.5555555555555556,
             "#d8576b"
            ],
            [
             0.6666666666666666,
             "#ed7953"
            ],
            [
             0.7777777777777778,
             "#fb9f3a"
            ],
            [
             0.8888888888888888,
             "#fdca26"
            ],
            [
             1,
             "#f0f921"
            ]
           ]
          },
          "colorway": [
           "#636efa",
           "#EF553B",
           "#00cc96",
           "#ab63fa",
           "#FFA15A",
           "#19d3f3",
           "#FF6692",
           "#B6E880",
           "#FF97FF",
           "#FECB52"
          ],
          "font": {
           "color": "#2a3f5f"
          },
          "geo": {
           "bgcolor": "white",
           "lakecolor": "white",
           "landcolor": "#E5ECF6",
           "showlakes": true,
           "showland": true,
           "subunitcolor": "white"
          },
          "hoverlabel": {
           "align": "left"
          },
          "hovermode": "closest",
          "mapbox": {
           "style": "light"
          },
          "paper_bgcolor": "white",
          "plot_bgcolor": "#E5ECF6",
          "polar": {
           "angularaxis": {
            "gridcolor": "white",
            "linecolor": "white",
            "ticks": ""
           },
           "bgcolor": "#E5ECF6",
           "radialaxis": {
            "gridcolor": "white",
            "linecolor": "white",
            "ticks": ""
           }
          },
          "scene": {
           "xaxis": {
            "backgroundcolor": "#E5ECF6",
            "gridcolor": "white",
            "gridwidth": 2,
            "linecolor": "white",
            "showbackground": true,
            "ticks": "",
            "zerolinecolor": "white"
           },
           "yaxis": {
            "backgroundcolor": "#E5ECF6",
            "gridcolor": "white",
            "gridwidth": 2,
            "linecolor": "white",
            "showbackground": true,
            "ticks": "",
            "zerolinecolor": "white"
           },
           "zaxis": {
            "backgroundcolor": "#E5ECF6",
            "gridcolor": "white",
            "gridwidth": 2,
            "linecolor": "white",
            "showbackground": true,
            "ticks": "",
            "zerolinecolor": "white"
           }
          },
          "shapedefaults": {
           "line": {
            "color": "#2a3f5f"
           }
          },
          "ternary": {
           "aaxis": {
            "gridcolor": "white",
            "linecolor": "white",
            "ticks": ""
           },
           "baxis": {
            "gridcolor": "white",
            "linecolor": "white",
            "ticks": ""
           },
           "bgcolor": "#E5ECF6",
           "caxis": {
            "gridcolor": "white",
            "linecolor": "white",
            "ticks": ""
           }
          },
          "title": {
           "x": 0.05
          },
          "xaxis": {
           "automargin": true,
           "gridcolor": "white",
           "linecolor": "white",
           "ticks": "",
           "title": {
            "standoff": 15
           },
           "zerolinecolor": "white",
           "zerolinewidth": 2
          },
          "yaxis": {
           "automargin": true,
           "gridcolor": "white",
           "linecolor": "white",
           "ticks": "",
           "title": {
            "standoff": 15
           },
           "zerolinecolor": "white",
           "zerolinewidth": 2
          }
         }
        },
        "title": {
         "text": "DNA Damage Foci nr in Damage+ Astrocyte Nuclei by Tissue Location and Genotype (separated by sex) - Auto stain QC - cellpdia30_sigma1_dilrad4_dnad_obj_seg_v3_gliaero6_gliathr30_dnadero2"
        },
        "xaxis": {
         "anchor": "y",
         "categoryarray": [
          "male - CA1",
          "female - CA1",
          "male - CA3",
          "female - CA3",
          "male - CTX1",
          "female - CTX1",
          "male - CTX2",
          "female - CTX2",
          "male - CTX3",
          "female - CTX3",
          "male - DG",
          "female - DG"
         ],
         "categoryorder": "array",
         "domain": [
          0,
          1
         ],
         "title": {
          "text": "sex_tissue"
         }
        },
        "yaxis": {
         "anchor": "x",
         "domain": [
          0,
          1
         ],
         "title": {
          "text": "avg_dna_damage_foci/glia_+_damage_+"
         }
        }
       }
      }
     },
     "metadata": {},
     "output_type": "display_data"
    },
    {
     "data": {
      "application/vnd.plotly.v1+json": {
       "config": {
        "plotlyServerURL": "https://plot.ly"
       },
       "data": [
        {
         "alignmentgroup": "True",
         "hovertemplate": "genotype=APP/PS1<br>sex_tissue=%{x}<br>avg_dna_damage_foci/all_nuclei=%{y}<extra></extra>",
         "legendgroup": "APP/PS1",
         "marker": {
          "color": "#636efa"
         },
         "name": "APP/PS1",
         "notched": false,
         "offsetgroup": "APP/PS1",
         "orientation": "v",
         "showlegend": true,
         "type": "box",
         "x": [
          "female - CA1",
          "female - CA3",
          "female - CTX1",
          "female - CTX2",
          "female - CTX3",
          "female - DG",
          "male - CA1",
          "male - CA3",
          "male - CTX1",
          "male - CTX2",
          "male - CTX3",
          "male - DG",
          "male - CA1",
          "male - CA3",
          "male - CTX1",
          "male - CTX2",
          "male - CTX3",
          "male - DG",
          "male - CA1",
          "male - CA3",
          "male - CTX1",
          "male - CTX2",
          "male - CTX3",
          "male - DG",
          "male - CA1",
          "male - CA3",
          "male - CTX1",
          "male - CTX2",
          "male - CTX3",
          "male - DG",
          "male - CA1",
          "male - CA3",
          "male - CTX1",
          "male - CTX2",
          "male - CTX3",
          "male - DG",
          "female - CA1",
          "female - CA3",
          "female - CTX1",
          "female - CTX2",
          "female - CTX3",
          "female - DG",
          "male - CA1",
          "male - CA3",
          "male - CTX1",
          "male - CTX2",
          "male - CTX3",
          "male - DG",
          "male - CA1",
          "male - CA3",
          "male - CTX1",
          "male - CTX2",
          "male - CTX3",
          "male - DG",
          "male - CA1",
          "male - CA3",
          "male - CTX1",
          "male - CTX2",
          "male - CTX3",
          "male - DG",
          "female - CA1",
          "female - CA3",
          "female - CTX1",
          "female - CTX2",
          "female - CTX3",
          "female - DG",
          "male - CA1",
          "male - CA3",
          "male - CTX1",
          "male - CTX2",
          "male - CTX3",
          "male - DG",
          "male - CA1",
          "male - CA3",
          "male - CTX1",
          "male - CTX2",
          "male - CTX3",
          "male - DG",
          "female - CA1",
          "female - CA3",
          "female - CTX1",
          "female - DG",
          "female - CA1",
          "female - CA3",
          "female - CTX1",
          "female - CTX2",
          "female - CTX3",
          "female - DG",
          "female - CA1",
          "female - CA3",
          "female - CTX1",
          "female - CTX2",
          "female - CTX3",
          "female - DG",
          "male - CA1",
          "male - CA3",
          "male - CTX1",
          "male - CTX2",
          "male - CTX3",
          "male - DG",
          "male - CA1",
          "male - CA3",
          "male - CTX1",
          "male - CTX2",
          "male - CTX3",
          "male - DG",
          "female - CA1",
          "female - CA3",
          "female - CTX1",
          "female - CTX2",
          "female - CTX3",
          "female - DG",
          "female - CA1",
          "female - CA3",
          "female - CTX1",
          "female - CTX2",
          "female - CTX3",
          "female - DG",
          "female - CA1",
          "female - CA3",
          "female - CTX1",
          "female - CTX2",
          "female - CTX3",
          "female - DG",
          "female - DG"
         ],
         "x0": " ",
         "xaxis": "x",
         "y": [
          0.4753086419753086,
          1.1517241379310346,
          0.3522012578616352,
          0.6293436293436293,
          0.8072289156626506,
          1.149584487534626,
          0.5517241379310345,
          1.0084033613445378,
          0.3658536585365853,
          0.7086614173228346,
          0.4382022471910112,
          1.2183908045977012,
          0.4639175257731959,
          0.8157894736842105,
          0.5818181818181818,
          0.8,
          0.7704918032786885,
          1.2015503875968991,
          0.518324607329843,
          0.7131782945736435,
          0.4541062801932367,
          0.8609022556390977,
          0.7056451612903226,
          0.9631336405529954,
          0.3879781420765027,
          0.6590909090909091,
          0.4613259668508287,
          0.7169230769230769,
          0.9170731707317074,
          1.1666666666666667,
          0.8208955223880597,
          0.9891304347826086,
          0.5118110236220472,
          0.5416666666666666,
          0.603448275862069,
          0.970472440944882,
          0.852112676056338,
          0.7244897959183674,
          0.6,
          0.6976744186046512,
          0.7929515418502202,
          1.1371158392434988,
          0.4411764705882353,
          0.8469387755102041,
          0.4123222748815165,
          0.456221198156682,
          0.4330357142857143,
          0.7433862433862434,
          0.3448275862068966,
          0.8502994011976048,
          0.2066420664206642,
          0.9514925373134328,
          1.288659793814433,
          0.4924623115577889,
          0.4736842105263157,
          0.7578947368421053,
          0.2480620155038759,
          0.2236842105263158,
          0.1927083333333333,
          0.5727554179566563,
          0.5289855072463768,
          1.03921568627451,
          0.9132653061224488,
          0.7010309278350515,
          0.5973451327433629,
          0.8666666666666667,
          0.7848837209302325,
          1.066350710900474,
          0.5728476821192053,
          1.040983606557377,
          0.5298804780876494,
          1.019417475728155,
          1.368421052631579,
          1.5,
          0.9230769230769232,
          0.8732394366197183,
          0.6086956521739131,
          1.5444743935309972,
          0.5698924731182796,
          0.7204301075268817,
          0.184331797235023,
          0.6843575418994413,
          0.8083333333333333,
          0.5257731958762887,
          0.5223880597014925,
          0.23125,
          0.1954022988505747,
          0.8992248062015504,
          0.6846153846153846,
          0.85,
          0.6481481481481481,
          0.6226415094339622,
          0.864406779661017,
          1.1069767441860463,
          1.1025641025641026,
          1.6652173913043478,
          0.9365671641791044,
          0.8390804597701149,
          0.9328621908127208,
          0.9278688524590164,
          1.0432098765432098,
          1.0847457627118644,
          0.9529914529914528,
          0.8275862068965517,
          0.9101796407185628,
          1.2816091954022988,
          0.7575757575757576,
          0.7916666666666666,
          0.71900826446281,
          1.186602870813397,
          0.8448275862068966,
          1.048048048048048,
          0.5408163265306123,
          0.6973684210526315,
          0.648,
          0.5259259259259259,
          0.4423076923076923,
          1.14,
          0.9214285714285714,
          1.135922330097087,
          0.6926829268292682,
          0.6986301369863014,
          0.6106870229007634,
          1.116580310880829,
          0.003125
         ],
         "y0": " ",
         "yaxis": "y"
        },
        {
         "alignmentgroup": "True",
         "hovertemplate": "genotype=APP/PS1 x Neil3 KO<br>sex_tissue=%{x}<br>avg_dna_damage_foci/all_nuclei=%{y}<extra></extra>",
         "legendgroup": "APP/PS1 x Neil3 KO",
         "marker": {
          "color": "#EF553B"
         },
         "name": "APP/PS1 x Neil3 KO",
         "notched": false,
         "offsetgroup": "APP/PS1 x Neil3 KO",
         "orientation": "v",
         "showlegend": true,
         "type": "box",
         "x": [
          "male - CA1",
          "male - CA3",
          "male - CTX1",
          "male - CTX2",
          "male - CTX3",
          "male - DG",
          "male - CA1",
          "male - CA3",
          "male - CTX1",
          "male - CTX2",
          "male - CTX3",
          "male - DG",
          "female - CA1",
          "female - CA3",
          "female - CTX1",
          "female - CTX2",
          "female - CTX3",
          "female - DG",
          "male - CA1",
          "male - CA3",
          "male - CTX1",
          "male - CTX2",
          "male - CTX3",
          "male - DG",
          "male - CA1",
          "male - CA3",
          "male - CTX1",
          "male - CTX2",
          "male - CTX3",
          "male - DG",
          "female - CA1",
          "female - CA3",
          "female - CTX1",
          "female - CTX2",
          "female - CTX3",
          "female - DG",
          "female - CA1",
          "female - CA3",
          "female - CTX1",
          "female - CTX2",
          "female - CTX3",
          "female - DG",
          "male - CA1",
          "male - CA3",
          "male - CTX1",
          "male - CTX2",
          "male - CTX3",
          "male - DG",
          "male - DG",
          "female - CA1",
          "female - CA3",
          "female - CTX1",
          "female - CTX2",
          "female - CTX3",
          "female - DG",
          "male - DG",
          "male - CA1",
          "male - CA3",
          "male - CTX1",
          "male - CTX2",
          "male - CTX3",
          "male - DG",
          "female - CA1",
          "female - CA3",
          "female - CTX1",
          "female - CTX2",
          "female - CTX3",
          "female - DG",
          "male - CA1",
          "male - CA3",
          "male - DG",
          "male - CA1",
          "male - CA3",
          "male - CTX1",
          "male - CTX2",
          "male - CTX3",
          "male - DG",
          "female - CA1",
          "female - CA3",
          "female - CTX1",
          "female - CTX2",
          "female - CTX3",
          "female - DG",
          "male - CA1",
          "male - CA3",
          "male - CTX1",
          "male - CTX2",
          "male - CTX3",
          "male - DG",
          "female - CA1",
          "female - CA3",
          "female - CTX1",
          "female - CTX2",
          "female - CTX3",
          "female - DG"
         ],
         "x0": " ",
         "xaxis": "x",
         "y": [
          0.470873786407767,
          0.7876106194690266,
          0.6833333333333333,
          0.9444444444444444,
          0.4043715846994535,
          1.0614035087719298,
          0.8947368421052632,
          1.3717948717948718,
          0.5774647887323944,
          0.4896907216494845,
          0.8617886178861789,
          1.576470588235294,
          0.4202898550724637,
          0.8353658536585366,
          0.6964285714285714,
          0.7635467980295566,
          0.6540880503144654,
          1.0105263157894735,
          0.4880952380952381,
          0.7096774193548387,
          0.3898305084745763,
          0.7241379310344828,
          0.4805194805194805,
          1.267813267813268,
          0.4214285714285714,
          0.9767441860465116,
          0.3950617283950617,
          0.4488188976377952,
          0.4262295081967213,
          0.5342019543973942,
          0.8389830508474576,
          0.967741935483871,
          0.7426900584795322,
          0.7953488372093023,
          0.8580246913580247,
          1.098666666666667,
          0.7225433526011561,
          0.946153846153846,
          0.6923076923076923,
          0.82,
          0.75,
          1.056470588235294,
          0.54421768707483,
          0.7863247863247863,
          0.4866071428571428,
          0.6492146596858639,
          0.7134502923976608,
          1.162079510703364,
          0.4777777777777778,
          0.689922480620155,
          0.9482758620689656,
          1.025974025974026,
          0.9061032863849764,
          0.7368421052631579,
          1.1886304909560723,
          0.0841750841750841,
          0.640625,
          0.8928571428571429,
          0.4820143884892086,
          0.4125,
          0.4315068493150685,
          1.3323170731707317,
          0.6754385964912281,
          0.6265822784810127,
          0.4308943089430894,
          0.6434782608695652,
          0.3232323232323232,
          1.0296495956873315,
          0.9375,
          1.3953488372093024,
          0.4662576687116564,
          0.456,
          0.7193877551020408,
          0.6309523809523809,
          0.4772727272727273,
          0.4417177914110429,
          1.0116279069767442,
          0.5902777777777778,
          0.5299145299145299,
          0.6073059360730594,
          0.589041095890411,
          0.7615384615384615,
          0.8492822966507177,
          0.6573033707865169,
          0.8157894736842105,
          0.6160714285714286,
          0.6590909090909091,
          0.7004830917874396,
          1.1457858769931664,
          0.5638297872340425,
          0.76,
          0.5856573705179283,
          0.5352112676056338,
          0.4904942965779467,
          0.796137339055794
         ],
         "y0": " ",
         "yaxis": "y"
        }
       ],
       "layout": {
        "boxmode": "group",
        "legend": {
         "title": {
          "text": "genotype"
         },
         "tracegroupgap": 0
        },
        "template": {
         "data": {
          "bar": [
           {
            "error_x": {
             "color": "#2a3f5f"
            },
            "error_y": {
             "color": "#2a3f5f"
            },
            "marker": {
             "line": {
              "color": "#E5ECF6",
              "width": 0.5
             },
             "pattern": {
              "fillmode": "overlay",
              "size": 10,
              "solidity": 0.2
             }
            },
            "type": "bar"
           }
          ],
          "barpolar": [
           {
            "marker": {
             "line": {
              "color": "#E5ECF6",
              "width": 0.5
             },
             "pattern": {
              "fillmode": "overlay",
              "size": 10,
              "solidity": 0.2
             }
            },
            "type": "barpolar"
           }
          ],
          "carpet": [
           {
            "aaxis": {
             "endlinecolor": "#2a3f5f",
             "gridcolor": "white",
             "linecolor": "white",
             "minorgridcolor": "white",
             "startlinecolor": "#2a3f5f"
            },
            "baxis": {
             "endlinecolor": "#2a3f5f",
             "gridcolor": "white",
             "linecolor": "white",
             "minorgridcolor": "white",
             "startlinecolor": "#2a3f5f"
            },
            "type": "carpet"
           }
          ],
          "choropleth": [
           {
            "colorbar": {
             "outlinewidth": 0,
             "ticks": ""
            },
            "type": "choropleth"
           }
          ],
          "contour": [
           {
            "colorbar": {
             "outlinewidth": 0,
             "ticks": ""
            },
            "colorscale": [
             [
              0,
              "#0d0887"
             ],
             [
              0.1111111111111111,
              "#46039f"
             ],
             [
              0.2222222222222222,
              "#7201a8"
             ],
             [
              0.3333333333333333,
              "#9c179e"
             ],
             [
              0.4444444444444444,
              "#bd3786"
             ],
             [
              0.5555555555555556,
              "#d8576b"
             ],
             [
              0.6666666666666666,
              "#ed7953"
             ],
             [
              0.7777777777777778,
              "#fb9f3a"
             ],
             [
              0.8888888888888888,
              "#fdca26"
             ],
             [
              1,
              "#f0f921"
             ]
            ],
            "type": "contour"
           }
          ],
          "contourcarpet": [
           {
            "colorbar": {
             "outlinewidth": 0,
             "ticks": ""
            },
            "type": "contourcarpet"
           }
          ],
          "heatmap": [
           {
            "colorbar": {
             "outlinewidth": 0,
             "ticks": ""
            },
            "colorscale": [
             [
              0,
              "#0d0887"
             ],
             [
              0.1111111111111111,
              "#46039f"
             ],
             [
              0.2222222222222222,
              "#7201a8"
             ],
             [
              0.3333333333333333,
              "#9c179e"
             ],
             [
              0.4444444444444444,
              "#bd3786"
             ],
             [
              0.5555555555555556,
              "#d8576b"
             ],
             [
              0.6666666666666666,
              "#ed7953"
             ],
             [
              0.7777777777777778,
              "#fb9f3a"
             ],
             [
              0.8888888888888888,
              "#fdca26"
             ],
             [
              1,
              "#f0f921"
             ]
            ],
            "type": "heatmap"
           }
          ],
          "heatmapgl": [
           {
            "colorbar": {
             "outlinewidth": 0,
             "ticks": ""
            },
            "colorscale": [
             [
              0,
              "#0d0887"
             ],
             [
              0.1111111111111111,
              "#46039f"
             ],
             [
              0.2222222222222222,
              "#7201a8"
             ],
             [
              0.3333333333333333,
              "#9c179e"
             ],
             [
              0.4444444444444444,
              "#bd3786"
             ],
             [
              0.5555555555555556,
              "#d8576b"
             ],
             [
              0.6666666666666666,
              "#ed7953"
             ],
             [
              0.7777777777777778,
              "#fb9f3a"
             ],
             [
              0.8888888888888888,
              "#fdca26"
             ],
             [
              1,
              "#f0f921"
             ]
            ],
            "type": "heatmapgl"
           }
          ],
          "histogram": [
           {
            "marker": {
             "pattern": {
              "fillmode": "overlay",
              "size": 10,
              "solidity": 0.2
             }
            },
            "type": "histogram"
           }
          ],
          "histogram2d": [
           {
            "colorbar": {
             "outlinewidth": 0,
             "ticks": ""
            },
            "colorscale": [
             [
              0,
              "#0d0887"
             ],
             [
              0.1111111111111111,
              "#46039f"
             ],
             [
              0.2222222222222222,
              "#7201a8"
             ],
             [
              0.3333333333333333,
              "#9c179e"
             ],
             [
              0.4444444444444444,
              "#bd3786"
             ],
             [
              0.5555555555555556,
              "#d8576b"
             ],
             [
              0.6666666666666666,
              "#ed7953"
             ],
             [
              0.7777777777777778,
              "#fb9f3a"
             ],
             [
              0.8888888888888888,
              "#fdca26"
             ],
             [
              1,
              "#f0f921"
             ]
            ],
            "type": "histogram2d"
           }
          ],
          "histogram2dcontour": [
           {
            "colorbar": {
             "outlinewidth": 0,
             "ticks": ""
            },
            "colorscale": [
             [
              0,
              "#0d0887"
             ],
             [
              0.1111111111111111,
              "#46039f"
             ],
             [
              0.2222222222222222,
              "#7201a8"
             ],
             [
              0.3333333333333333,
              "#9c179e"
             ],
             [
              0.4444444444444444,
              "#bd3786"
             ],
             [
              0.5555555555555556,
              "#d8576b"
             ],
             [
              0.6666666666666666,
              "#ed7953"
             ],
             [
              0.7777777777777778,
              "#fb9f3a"
             ],
             [
              0.8888888888888888,
              "#fdca26"
             ],
             [
              1,
              "#f0f921"
             ]
            ],
            "type": "histogram2dcontour"
           }
          ],
          "mesh3d": [
           {
            "colorbar": {
             "outlinewidth": 0,
             "ticks": ""
            },
            "type": "mesh3d"
           }
          ],
          "parcoords": [
           {
            "line": {
             "colorbar": {
              "outlinewidth": 0,
              "ticks": ""
             }
            },
            "type": "parcoords"
           }
          ],
          "pie": [
           {
            "automargin": true,
            "type": "pie"
           }
          ],
          "scatter": [
           {
            "fillpattern": {
             "fillmode": "overlay",
             "size": 10,
             "solidity": 0.2
            },
            "type": "scatter"
           }
          ],
          "scatter3d": [
           {
            "line": {
             "colorbar": {
              "outlinewidth": 0,
              "ticks": ""
             }
            },
            "marker": {
             "colorbar": {
              "outlinewidth": 0,
              "ticks": ""
             }
            },
            "type": "scatter3d"
           }
          ],
          "scattercarpet": [
           {
            "marker": {
             "colorbar": {
              "outlinewidth": 0,
              "ticks": ""
             }
            },
            "type": "scattercarpet"
           }
          ],
          "scattergeo": [
           {
            "marker": {
             "colorbar": {
              "outlinewidth": 0,
              "ticks": ""
             }
            },
            "type": "scattergeo"
           }
          ],
          "scattergl": [
           {
            "marker": {
             "colorbar": {
              "outlinewidth": 0,
              "ticks": ""
             }
            },
            "type": "scattergl"
           }
          ],
          "scattermapbox": [
           {
            "marker": {
             "colorbar": {
              "outlinewidth": 0,
              "ticks": ""
             }
            },
            "type": "scattermapbox"
           }
          ],
          "scatterpolar": [
           {
            "marker": {
             "colorbar": {
              "outlinewidth": 0,
              "ticks": ""
             }
            },
            "type": "scatterpolar"
           }
          ],
          "scatterpolargl": [
           {
            "marker": {
             "colorbar": {
              "outlinewidth": 0,
              "ticks": ""
             }
            },
            "type": "scatterpolargl"
           }
          ],
          "scatterternary": [
           {
            "marker": {
             "colorbar": {
              "outlinewidth": 0,
              "ticks": ""
             }
            },
            "type": "scatterternary"
           }
          ],
          "surface": [
           {
            "colorbar": {
             "outlinewidth": 0,
             "ticks": ""
            },
            "colorscale": [
             [
              0,
              "#0d0887"
             ],
             [
              0.1111111111111111,
              "#46039f"
             ],
             [
              0.2222222222222222,
              "#7201a8"
             ],
             [
              0.3333333333333333,
              "#9c179e"
             ],
             [
              0.4444444444444444,
              "#bd3786"
             ],
             [
              0.5555555555555556,
              "#d8576b"
             ],
             [
              0.6666666666666666,
              "#ed7953"
             ],
             [
              0.7777777777777778,
              "#fb9f3a"
             ],
             [
              0.8888888888888888,
              "#fdca26"
             ],
             [
              1,
              "#f0f921"
             ]
            ],
            "type": "surface"
           }
          ],
          "table": [
           {
            "cells": {
             "fill": {
              "color": "#EBF0F8"
             },
             "line": {
              "color": "white"
             }
            },
            "header": {
             "fill": {
              "color": "#C8D4E3"
             },
             "line": {
              "color": "white"
             }
            },
            "type": "table"
           }
          ]
         },
         "layout": {
          "annotationdefaults": {
           "arrowcolor": "#2a3f5f",
           "arrowhead": 0,
           "arrowwidth": 1
          },
          "autotypenumbers": "strict",
          "coloraxis": {
           "colorbar": {
            "outlinewidth": 0,
            "ticks": ""
           }
          },
          "colorscale": {
           "diverging": [
            [
             0,
             "#8e0152"
            ],
            [
             0.1,
             "#c51b7d"
            ],
            [
             0.2,
             "#de77ae"
            ],
            [
             0.3,
             "#f1b6da"
            ],
            [
             0.4,
             "#fde0ef"
            ],
            [
             0.5,
             "#f7f7f7"
            ],
            [
             0.6,
             "#e6f5d0"
            ],
            [
             0.7,
             "#b8e186"
            ],
            [
             0.8,
             "#7fbc41"
            ],
            [
             0.9,
             "#4d9221"
            ],
            [
             1,
             "#276419"
            ]
           ],
           "sequential": [
            [
             0,
             "#0d0887"
            ],
            [
             0.1111111111111111,
             "#46039f"
            ],
            [
             0.2222222222222222,
             "#7201a8"
            ],
            [
             0.3333333333333333,
             "#9c179e"
            ],
            [
             0.4444444444444444,
             "#bd3786"
            ],
            [
             0.5555555555555556,
             "#d8576b"
            ],
            [
             0.6666666666666666,
             "#ed7953"
            ],
            [
             0.7777777777777778,
             "#fb9f3a"
            ],
            [
             0.8888888888888888,
             "#fdca26"
            ],
            [
             1,
             "#f0f921"
            ]
           ],
           "sequentialminus": [
            [
             0,
             "#0d0887"
            ],
            [
             0.1111111111111111,
             "#46039f"
            ],
            [
             0.2222222222222222,
             "#7201a8"
            ],
            [
             0.3333333333333333,
             "#9c179e"
            ],
            [
             0.4444444444444444,
             "#bd3786"
            ],
            [
             0.5555555555555556,
             "#d8576b"
            ],
            [
             0.6666666666666666,
             "#ed7953"
            ],
            [
             0.7777777777777778,
             "#fb9f3a"
            ],
            [
             0.8888888888888888,
             "#fdca26"
            ],
            [
             1,
             "#f0f921"
            ]
           ]
          },
          "colorway": [
           "#636efa",
           "#EF553B",
           "#00cc96",
           "#ab63fa",
           "#FFA15A",
           "#19d3f3",
           "#FF6692",
           "#B6E880",
           "#FF97FF",
           "#FECB52"
          ],
          "font": {
           "color": "#2a3f5f"
          },
          "geo": {
           "bgcolor": "white",
           "lakecolor": "white",
           "landcolor": "#E5ECF6",
           "showlakes": true,
           "showland": true,
           "subunitcolor": "white"
          },
          "hoverlabel": {
           "align": "left"
          },
          "hovermode": "closest",
          "mapbox": {
           "style": "light"
          },
          "paper_bgcolor": "white",
          "plot_bgcolor": "#E5ECF6",
          "polar": {
           "angularaxis": {
            "gridcolor": "white",
            "linecolor": "white",
            "ticks": ""
           },
           "bgcolor": "#E5ECF6",
           "radialaxis": {
            "gridcolor": "white",
            "linecolor": "white",
            "ticks": ""
           }
          },
          "scene": {
           "xaxis": {
            "backgroundcolor": "#E5ECF6",
            "gridcolor": "white",
            "gridwidth": 2,
            "linecolor": "white",
            "showbackground": true,
            "ticks": "",
            "zerolinecolor": "white"
           },
           "yaxis": {
            "backgroundcolor": "#E5ECF6",
            "gridcolor": "white",
            "gridwidth": 2,
            "linecolor": "white",
            "showbackground": true,
            "ticks": "",
            "zerolinecolor": "white"
           },
           "zaxis": {
            "backgroundcolor": "#E5ECF6",
            "gridcolor": "white",
            "gridwidth": 2,
            "linecolor": "white",
            "showbackground": true,
            "ticks": "",
            "zerolinecolor": "white"
           }
          },
          "shapedefaults": {
           "line": {
            "color": "#2a3f5f"
           }
          },
          "ternary": {
           "aaxis": {
            "gridcolor": "white",
            "linecolor": "white",
            "ticks": ""
           },
           "baxis": {
            "gridcolor": "white",
            "linecolor": "white",
            "ticks": ""
           },
           "bgcolor": "#E5ECF6",
           "caxis": {
            "gridcolor": "white",
            "linecolor": "white",
            "ticks": ""
           }
          },
          "title": {
           "x": 0.05
          },
          "xaxis": {
           "automargin": true,
           "gridcolor": "white",
           "linecolor": "white",
           "ticks": "",
           "title": {
            "standoff": 15
           },
           "zerolinecolor": "white",
           "zerolinewidth": 2
          },
          "yaxis": {
           "automargin": true,
           "gridcolor": "white",
           "linecolor": "white",
           "ticks": "",
           "title": {
            "standoff": 15
           },
           "zerolinecolor": "white",
           "zerolinewidth": 2
          }
         }
        },
        "title": {
         "text": "DNA Damage Foci nr in All Nuclei by Tissue Location and Genotype (separated by sex) - Auto stain QC - cellpdia30_sigma1_dilrad4_dnad_obj_seg_v3_gliaero6_gliathr30_dnadero2"
        },
        "xaxis": {
         "anchor": "y",
         "categoryarray": [
          "male - CA1",
          "female - CA1",
          "male - CA3",
          "female - CA3",
          "male - CTX1",
          "female - CTX1",
          "male - CTX2",
          "female - CTX2",
          "male - CTX3",
          "female - CTX3",
          "male - DG",
          "female - DG"
         ],
         "categoryorder": "array",
         "domain": [
          0,
          1
         ],
         "title": {
          "text": "sex_tissue"
         }
        },
        "yaxis": {
         "anchor": "x",
         "domain": [
          0,
          1
         ],
         "title": {
          "text": "avg_dna_damage_foci/all_nuclei"
         }
        }
       }
      }
     },
     "metadata": {},
     "output_type": "display_data"
    },
    {
     "data": {
      "application/vnd.plotly.v1+json": {
       "config": {
        "plotlyServerURL": "https://plot.ly"
       },
       "data": [
        {
         "alignmentgroup": "True",
         "hovertemplate": "genotype=APP/PS1<br>sex_tissue=%{x}<br>avg_dna_damage_foci/all_nuclei_damage_+=%{y}<extra></extra>",
         "legendgroup": "APP/PS1",
         "marker": {
          "color": "#636efa"
         },
         "name": "APP/PS1",
         "notched": false,
         "offsetgroup": "APP/PS1",
         "orientation": "v",
         "showlegend": true,
         "type": "box",
         "x": [
          "female - CA1",
          "female - CA3",
          "female - CTX1",
          "female - CTX2",
          "female - CTX3",
          "female - DG",
          "male - CA1",
          "male - CA3",
          "male - CTX1",
          "male - CTX2",
          "male - CTX3",
          "male - DG",
          "male - CA1",
          "male - CA3",
          "male - CTX1",
          "male - CTX2",
          "male - CTX3",
          "male - DG",
          "male - CA1",
          "male - CA3",
          "male - CTX1",
          "male - CTX2",
          "male - CTX3",
          "male - DG",
          "male - CA1",
          "male - CA3",
          "male - CTX1",
          "male - CTX2",
          "male - CTX3",
          "male - DG",
          "male - CA1",
          "male - CA3",
          "male - CTX1",
          "male - CTX2",
          "male - CTX3",
          "male - DG",
          "female - CA1",
          "female - CA3",
          "female - CTX1",
          "female - CTX2",
          "female - CTX3",
          "female - DG",
          "male - CA1",
          "male - CA3",
          "male - CTX1",
          "male - CTX2",
          "male - CTX3",
          "male - DG",
          "male - CA1",
          "male - CA3",
          "male - CTX1",
          "male - CTX2",
          "male - CTX3",
          "male - DG",
          "male - CA1",
          "male - CA3",
          "male - CTX1",
          "male - CTX2",
          "male - CTX3",
          "male - DG",
          "female - CA1",
          "female - CA3",
          "female - CTX1",
          "female - CTX2",
          "female - CTX3",
          "female - DG",
          "male - CA1",
          "male - CA3",
          "male - CTX1",
          "male - CTX2",
          "male - CTX3",
          "male - DG",
          "male - CA1",
          "male - CA3",
          "male - CTX1",
          "male - CTX2",
          "male - CTX3",
          "male - DG",
          "female - CA1",
          "female - CA3",
          "female - CTX1",
          "female - DG",
          "female - CA1",
          "female - CA3",
          "female - CTX1",
          "female - CTX2",
          "female - CTX3",
          "female - DG",
          "female - CA1",
          "female - CA3",
          "female - CTX1",
          "female - CTX2",
          "female - CTX3",
          "female - DG",
          "male - CA1",
          "male - CA3",
          "male - CTX1",
          "male - CTX2",
          "male - CTX3",
          "male - DG",
          "male - CA1",
          "male - CA3",
          "male - CTX1",
          "male - CTX2",
          "male - CTX3",
          "male - DG",
          "female - CA1",
          "female - CA3",
          "female - CTX1",
          "female - CTX2",
          "female - CTX3",
          "female - DG",
          "female - CA1",
          "female - CA3",
          "female - CTX1",
          "female - CTX2",
          "female - CTX3",
          "female - DG",
          "female - CA1",
          "female - CA3",
          "female - CTX1",
          "female - CTX2",
          "female - CTX3",
          "female - DG",
          "female - DG"
         ],
         "x0": " ",
         "xaxis": "x",
         "y": [
          1.1492537313432836,
          1.67,
          1.037037037037037,
          1.1897810218978102,
          1.4105263157894736,
          1.456140350877193,
          1.1851851851851851,
          1.518987341772152,
          1.0714285714285714,
          1.2857142857142858,
          1.1142857142857143,
          1.4982332155477032,
          1.2328767123287672,
          1.3777777777777778,
          1.2075471698113207,
          1.3714285714285714,
          1.323943661971831,
          1.480891719745223,
          1.137931034482759,
          1.4375,
          1.146341463414634,
          1.387878787878788,
          1.2962962962962965,
          1.3571428571428572,
          1.0441176470588236,
          1.3975903614457832,
          1.1208053691275168,
          1.386904761904762,
          1.413533834586466,
          1.5190615835777126,
          1.2359550561797752,
          1.5964912280701755,
          1.181818181818182,
          1.1584158415841583,
          1.1797752808988764,
          1.2905759162303665,
          1.3908045977011494,
          1.392156862745098,
          1.108108108108108,
          1.2195121951219512,
          1.3333333333333333,
          1.4891640866873066,
          1.25,
          1.456140350877193,
          1.0740740740740742,
          1.1785714285714286,
          1.1829268292682926,
          1.3069767441860465,
          1.1764705882352942,
          1.632183908045977,
          1.12,
          1.7832167832167831,
          1.7857142857142858,
          1.195121951219512,
          1.08,
          1.44,
          1.1428571428571428,
          1.1724137931034482,
          1.0277777777777777,
          1.1011904761904765,
          1.123076923076923,
          1.59,
          1.366412213740458,
          1.2363636363636363,
          1.3235294117647058,
          1.3131313131313131,
          1.4673913043478262,
          1.744186046511628,
          1.384,
          1.6710526315789471,
          1.3434343434343434,
          1.5671641791044777,
          1.8571428571428568,
          2.0510204081632653,
          1.3818181818181818,
          1.3285714285714283,
          1.3770491803278688,
          1.848387096774193,
          1.308641975308642,
          1.3137254901960784,
          1.2121212121212122,
          1.2962962962962965,
          1.3108108108108107,
          1.275,
          1.1111111111111112,
          1.088235294117647,
          1,
          1.408906882591093,
          1.1125,
          1.4782608695652173,
          1.1570247933884297,
          1.1927710843373494,
          1.3783783783783785,
          1.4782608695652173,
          1.8695652173913044,
          2.226744186046512,
          1.5493827160493827,
          1.5208333333333333,
          1.5529411764705885,
          1.4221105527638191,
          1.656862745098039,
          1.7297297297297298,
          1.5704225352112675,
          1.3584905660377358,
          1.4901960784313726,
          1.5928571428571427,
          1.488095238095238,
          1.5833333333333333,
          1.6261682242990654,
          1.7971014492753623,
          1.5934959349593496,
          1.4914529914529917,
          1.1521739130434785,
          1.394736842105263,
          1.1911764705882353,
          1.2241379310344829,
          1.1219512195121952,
          1.5,
          1.34375,
          1.6956521739130437,
          1.3027522935779816,
          1.275,
          1.25,
          1.4511784511784511,
          1
         ],
         "y0": " ",
         "yaxis": "y"
        },
        {
         "alignmentgroup": "True",
         "hovertemplate": "genotype=APP/PS1 x Neil3 KO<br>sex_tissue=%{x}<br>avg_dna_damage_foci/all_nuclei_damage_+=%{y}<extra></extra>",
         "legendgroup": "APP/PS1 x Neil3 KO",
         "marker": {
          "color": "#EF553B"
         },
         "name": "APP/PS1 x Neil3 KO",
         "notched": false,
         "offsetgroup": "APP/PS1 x Neil3 KO",
         "orientation": "v",
         "showlegend": true,
         "type": "box",
         "x": [
          "male - CA1",
          "male - CA3",
          "male - CTX1",
          "male - CTX2",
          "male - CTX3",
          "male - DG",
          "male - CA1",
          "male - CA3",
          "male - CTX1",
          "male - CTX2",
          "male - CTX3",
          "male - DG",
          "female - CA1",
          "female - CA3",
          "female - CTX1",
          "female - CTX2",
          "female - CTX3",
          "female - DG",
          "male - CA1",
          "male - CA3",
          "male - CTX1",
          "male - CTX2",
          "male - CTX3",
          "male - DG",
          "male - CA1",
          "male - CA3",
          "male - CTX1",
          "male - CTX2",
          "male - CTX3",
          "male - DG",
          "female - CA1",
          "female - CA3",
          "female - CTX1",
          "female - CTX2",
          "female - CTX3",
          "female - DG",
          "female - CA1",
          "female - CA3",
          "female - CTX1",
          "female - CTX2",
          "female - CTX3",
          "female - DG",
          "male - CA1",
          "male - CA3",
          "male - CTX1",
          "male - CTX2",
          "male - CTX3",
          "male - DG",
          "male - DG",
          "female - CA1",
          "female - CA3",
          "female - CTX1",
          "female - CTX2",
          "female - CTX3",
          "female - DG",
          "male - DG",
          "male - CA1",
          "male - CA3",
          "male - CTX1",
          "male - CTX2",
          "male - CTX3",
          "male - DG",
          "female - CA1",
          "female - CA3",
          "female - CTX1",
          "female - CTX2",
          "female - CTX3",
          "female - DG",
          "male - CA1",
          "male - CA3",
          "male - DG",
          "male - CA1",
          "male - CA3",
          "male - CTX1",
          "male - CTX2",
          "male - CTX3",
          "male - DG",
          "female - CA1",
          "female - CA3",
          "female - CTX1",
          "female - CTX2",
          "female - CTX3",
          "female - DG",
          "male - CA1",
          "male - CA3",
          "male - CTX1",
          "male - CTX2",
          "male - CTX3",
          "male - DG",
          "female - CA1",
          "female - CA3",
          "female - CTX1",
          "female - CTX2",
          "female - CTX3",
          "female - DG"
         ],
         "x0": " ",
         "xaxis": "x",
         "y": [
          1.065934065934066,
          1.5344827586206895,
          1.1714285714285717,
          1.3726708074534162,
          1.213114754098361,
          1.4291338582677164,
          1.6504854368932038,
          2.118811881188119,
          1.268041237113402,
          1.1875,
          1.536231884057971,
          1.887323943661972,
          1.2253521126760565,
          1.5393258426966292,
          1.238095238095238,
          1.3478260869565215,
          1.3164556962025316,
          1.4222222222222225,
          1.1549295774647887,
          1.8333333333333333,
          1.0147058823529411,
          1.26,
          1.1044776119402986,
          1.5087719298245614,
          1.1346153846153846,
          1.4823529411764709,
          1.1851851851851851,
          1.163265306122449,
          1.238095238095238,
          1.2713178294573644,
          1.1927710843373494,
          1.5254237288135593,
          1.3655913978494625,
          1.2761194029850746,
          1.5274725274725274,
          1.401360544217687,
          1.1160714285714286,
          1.4470588235294115,
          1.2781065088757395,
          1.3225806451612905,
          1.3012048192771084,
          1.3363095238095235,
          1.1428571428571428,
          1.4603174603174602,
          1.1354166666666667,
          1.2783505154639174,
          1.4698795180722892,
          1.5702479338842976,
          1.34375,
          1.2361111111111112,
          1.5714285714285714,
          1.48125,
          1.5196850393700787,
          1.414141414141414,
          1.488673139158576,
          1.0869565217391304,
          1.2058823529411764,
          1.6304347826086956,
          1.1551724137931034,
          1.137931034482759,
          1.2115384615384617,
          1.506896551724138,
          1.2622950819672132,
          1.1927710843373494,
          1.0816326530612246,
          1.3214285714285714,
          1.1851851851851851,
          1.4148148148148147,
          1.6326530612244898,
          2.1686746987951806,
          1.3571428571428572,
          1.1875,
          1.2935779816513762,
          1.261904761904762,
          1.0769230769230769,
          1.1612903225806452,
          1.4077669902912622,
          1.2142857142857142,
          1.2653061224489797,
          1.220183486238532,
          1.2647058823529411,
          1.337837837837838,
          1.2412587412587412,
          1.1142857142857143,
          1.530864197530864,
          1.2432432432432432,
          1.2608695652173914,
          1.3679245283018868,
          1.4925816023738872,
          1.1521739130434785,
          1.3902439024390243,
          1.2352941176470589,
          1.1875,
          1.1727272727272726,
          1.306338028169014
         ],
         "y0": " ",
         "yaxis": "y"
        }
       ],
       "layout": {
        "boxmode": "group",
        "legend": {
         "title": {
          "text": "genotype"
         },
         "tracegroupgap": 0
        },
        "template": {
         "data": {
          "bar": [
           {
            "error_x": {
             "color": "#2a3f5f"
            },
            "error_y": {
             "color": "#2a3f5f"
            },
            "marker": {
             "line": {
              "color": "#E5ECF6",
              "width": 0.5
             },
             "pattern": {
              "fillmode": "overlay",
              "size": 10,
              "solidity": 0.2
             }
            },
            "type": "bar"
           }
          ],
          "barpolar": [
           {
            "marker": {
             "line": {
              "color": "#E5ECF6",
              "width": 0.5
             },
             "pattern": {
              "fillmode": "overlay",
              "size": 10,
              "solidity": 0.2
             }
            },
            "type": "barpolar"
           }
          ],
          "carpet": [
           {
            "aaxis": {
             "endlinecolor": "#2a3f5f",
             "gridcolor": "white",
             "linecolor": "white",
             "minorgridcolor": "white",
             "startlinecolor": "#2a3f5f"
            },
            "baxis": {
             "endlinecolor": "#2a3f5f",
             "gridcolor": "white",
             "linecolor": "white",
             "minorgridcolor": "white",
             "startlinecolor": "#2a3f5f"
            },
            "type": "carpet"
           }
          ],
          "choropleth": [
           {
            "colorbar": {
             "outlinewidth": 0,
             "ticks": ""
            },
            "type": "choropleth"
           }
          ],
          "contour": [
           {
            "colorbar": {
             "outlinewidth": 0,
             "ticks": ""
            },
            "colorscale": [
             [
              0,
              "#0d0887"
             ],
             [
              0.1111111111111111,
              "#46039f"
             ],
             [
              0.2222222222222222,
              "#7201a8"
             ],
             [
              0.3333333333333333,
              "#9c179e"
             ],
             [
              0.4444444444444444,
              "#bd3786"
             ],
             [
              0.5555555555555556,
              "#d8576b"
             ],
             [
              0.6666666666666666,
              "#ed7953"
             ],
             [
              0.7777777777777778,
              "#fb9f3a"
             ],
             [
              0.8888888888888888,
              "#fdca26"
             ],
             [
              1,
              "#f0f921"
             ]
            ],
            "type": "contour"
           }
          ],
          "contourcarpet": [
           {
            "colorbar": {
             "outlinewidth": 0,
             "ticks": ""
            },
            "type": "contourcarpet"
           }
          ],
          "heatmap": [
           {
            "colorbar": {
             "outlinewidth": 0,
             "ticks": ""
            },
            "colorscale": [
             [
              0,
              "#0d0887"
             ],
             [
              0.1111111111111111,
              "#46039f"
             ],
             [
              0.2222222222222222,
              "#7201a8"
             ],
             [
              0.3333333333333333,
              "#9c179e"
             ],
             [
              0.4444444444444444,
              "#bd3786"
             ],
             [
              0.5555555555555556,
              "#d8576b"
             ],
             [
              0.6666666666666666,
              "#ed7953"
             ],
             [
              0.7777777777777778,
              "#fb9f3a"
             ],
             [
              0.8888888888888888,
              "#fdca26"
             ],
             [
              1,
              "#f0f921"
             ]
            ],
            "type": "heatmap"
           }
          ],
          "heatmapgl": [
           {
            "colorbar": {
             "outlinewidth": 0,
             "ticks": ""
            },
            "colorscale": [
             [
              0,
              "#0d0887"
             ],
             [
              0.1111111111111111,
              "#46039f"
             ],
             [
              0.2222222222222222,
              "#7201a8"
             ],
             [
              0.3333333333333333,
              "#9c179e"
             ],
             [
              0.4444444444444444,
              "#bd3786"
             ],
             [
              0.5555555555555556,
              "#d8576b"
             ],
             [
              0.6666666666666666,
              "#ed7953"
             ],
             [
              0.7777777777777778,
              "#fb9f3a"
             ],
             [
              0.8888888888888888,
              "#fdca26"
             ],
             [
              1,
              "#f0f921"
             ]
            ],
            "type": "heatmapgl"
           }
          ],
          "histogram": [
           {
            "marker": {
             "pattern": {
              "fillmode": "overlay",
              "size": 10,
              "solidity": 0.2
             }
            },
            "type": "histogram"
           }
          ],
          "histogram2d": [
           {
            "colorbar": {
             "outlinewidth": 0,
             "ticks": ""
            },
            "colorscale": [
             [
              0,
              "#0d0887"
             ],
             [
              0.1111111111111111,
              "#46039f"
             ],
             [
              0.2222222222222222,
              "#7201a8"
             ],
             [
              0.3333333333333333,
              "#9c179e"
             ],
             [
              0.4444444444444444,
              "#bd3786"
             ],
             [
              0.5555555555555556,
              "#d8576b"
             ],
             [
              0.6666666666666666,
              "#ed7953"
             ],
             [
              0.7777777777777778,
              "#fb9f3a"
             ],
             [
              0.8888888888888888,
              "#fdca26"
             ],
             [
              1,
              "#f0f921"
             ]
            ],
            "type": "histogram2d"
           }
          ],
          "histogram2dcontour": [
           {
            "colorbar": {
             "outlinewidth": 0,
             "ticks": ""
            },
            "colorscale": [
             [
              0,
              "#0d0887"
             ],
             [
              0.1111111111111111,
              "#46039f"
             ],
             [
              0.2222222222222222,
              "#7201a8"
             ],
             [
              0.3333333333333333,
              "#9c179e"
             ],
             [
              0.4444444444444444,
              "#bd3786"
             ],
             [
              0.5555555555555556,
              "#d8576b"
             ],
             [
              0.6666666666666666,
              "#ed7953"
             ],
             [
              0.7777777777777778,
              "#fb9f3a"
             ],
             [
              0.8888888888888888,
              "#fdca26"
             ],
             [
              1,
              "#f0f921"
             ]
            ],
            "type": "histogram2dcontour"
           }
          ],
          "mesh3d": [
           {
            "colorbar": {
             "outlinewidth": 0,
             "ticks": ""
            },
            "type": "mesh3d"
           }
          ],
          "parcoords": [
           {
            "line": {
             "colorbar": {
              "outlinewidth": 0,
              "ticks": ""
             }
            },
            "type": "parcoords"
           }
          ],
          "pie": [
           {
            "automargin": true,
            "type": "pie"
           }
          ],
          "scatter": [
           {
            "fillpattern": {
             "fillmode": "overlay",
             "size": 10,
             "solidity": 0.2
            },
            "type": "scatter"
           }
          ],
          "scatter3d": [
           {
            "line": {
             "colorbar": {
              "outlinewidth": 0,
              "ticks": ""
             }
            },
            "marker": {
             "colorbar": {
              "outlinewidth": 0,
              "ticks": ""
             }
            },
            "type": "scatter3d"
           }
          ],
          "scattercarpet": [
           {
            "marker": {
             "colorbar": {
              "outlinewidth": 0,
              "ticks": ""
             }
            },
            "type": "scattercarpet"
           }
          ],
          "scattergeo": [
           {
            "marker": {
             "colorbar": {
              "outlinewidth": 0,
              "ticks": ""
             }
            },
            "type": "scattergeo"
           }
          ],
          "scattergl": [
           {
            "marker": {
             "colorbar": {
              "outlinewidth": 0,
              "ticks": ""
             }
            },
            "type": "scattergl"
           }
          ],
          "scattermapbox": [
           {
            "marker": {
             "colorbar": {
              "outlinewidth": 0,
              "ticks": ""
             }
            },
            "type": "scattermapbox"
           }
          ],
          "scatterpolar": [
           {
            "marker": {
             "colorbar": {
              "outlinewidth": 0,
              "ticks": ""
             }
            },
            "type": "scatterpolar"
           }
          ],
          "scatterpolargl": [
           {
            "marker": {
             "colorbar": {
              "outlinewidth": 0,
              "ticks": ""
             }
            },
            "type": "scatterpolargl"
           }
          ],
          "scatterternary": [
           {
            "marker": {
             "colorbar": {
              "outlinewidth": 0,
              "ticks": ""
             }
            },
            "type": "scatterternary"
           }
          ],
          "surface": [
           {
            "colorbar": {
             "outlinewidth": 0,
             "ticks": ""
            },
            "colorscale": [
             [
              0,
              "#0d0887"
             ],
             [
              0.1111111111111111,
              "#46039f"
             ],
             [
              0.2222222222222222,
              "#7201a8"
             ],
             [
              0.3333333333333333,
              "#9c179e"
             ],
             [
              0.4444444444444444,
              "#bd3786"
             ],
             [
              0.5555555555555556,
              "#d8576b"
             ],
             [
              0.6666666666666666,
              "#ed7953"
             ],
             [
              0.7777777777777778,
              "#fb9f3a"
             ],
             [
              0.8888888888888888,
              "#fdca26"
             ],
             [
              1,
              "#f0f921"
             ]
            ],
            "type": "surface"
           }
          ],
          "table": [
           {
            "cells": {
             "fill": {
              "color": "#EBF0F8"
             },
             "line": {
              "color": "white"
             }
            },
            "header": {
             "fill": {
              "color": "#C8D4E3"
             },
             "line": {
              "color": "white"
             }
            },
            "type": "table"
           }
          ]
         },
         "layout": {
          "annotationdefaults": {
           "arrowcolor": "#2a3f5f",
           "arrowhead": 0,
           "arrowwidth": 1
          },
          "autotypenumbers": "strict",
          "coloraxis": {
           "colorbar": {
            "outlinewidth": 0,
            "ticks": ""
           }
          },
          "colorscale": {
           "diverging": [
            [
             0,
             "#8e0152"
            ],
            [
             0.1,
             "#c51b7d"
            ],
            [
             0.2,
             "#de77ae"
            ],
            [
             0.3,
             "#f1b6da"
            ],
            [
             0.4,
             "#fde0ef"
            ],
            [
             0.5,
             "#f7f7f7"
            ],
            [
             0.6,
             "#e6f5d0"
            ],
            [
             0.7,
             "#b8e186"
            ],
            [
             0.8,
             "#7fbc41"
            ],
            [
             0.9,
             "#4d9221"
            ],
            [
             1,
             "#276419"
            ]
           ],
           "sequential": [
            [
             0,
             "#0d0887"
            ],
            [
             0.1111111111111111,
             "#46039f"
            ],
            [
             0.2222222222222222,
             "#7201a8"
            ],
            [
             0.3333333333333333,
             "#9c179e"
            ],
            [
             0.4444444444444444,
             "#bd3786"
            ],
            [
             0.5555555555555556,
             "#d8576b"
            ],
            [
             0.6666666666666666,
             "#ed7953"
            ],
            [
             0.7777777777777778,
             "#fb9f3a"
            ],
            [
             0.8888888888888888,
             "#fdca26"
            ],
            [
             1,
             "#f0f921"
            ]
           ],
           "sequentialminus": [
            [
             0,
             "#0d0887"
            ],
            [
             0.1111111111111111,
             "#46039f"
            ],
            [
             0.2222222222222222,
             "#7201a8"
            ],
            [
             0.3333333333333333,
             "#9c179e"
            ],
            [
             0.4444444444444444,
             "#bd3786"
            ],
            [
             0.5555555555555556,
             "#d8576b"
            ],
            [
             0.6666666666666666,
             "#ed7953"
            ],
            [
             0.7777777777777778,
             "#fb9f3a"
            ],
            [
             0.8888888888888888,
             "#fdca26"
            ],
            [
             1,
             "#f0f921"
            ]
           ]
          },
          "colorway": [
           "#636efa",
           "#EF553B",
           "#00cc96",
           "#ab63fa",
           "#FFA15A",
           "#19d3f3",
           "#FF6692",
           "#B6E880",
           "#FF97FF",
           "#FECB52"
          ],
          "font": {
           "color": "#2a3f5f"
          },
          "geo": {
           "bgcolor": "white",
           "lakecolor": "white",
           "landcolor": "#E5ECF6",
           "showlakes": true,
           "showland": true,
           "subunitcolor": "white"
          },
          "hoverlabel": {
           "align": "left"
          },
          "hovermode": "closest",
          "mapbox": {
           "style": "light"
          },
          "paper_bgcolor": "white",
          "plot_bgcolor": "#E5ECF6",
          "polar": {
           "angularaxis": {
            "gridcolor": "white",
            "linecolor": "white",
            "ticks": ""
           },
           "bgcolor": "#E5ECF6",
           "radialaxis": {
            "gridcolor": "white",
            "linecolor": "white",
            "ticks": ""
           }
          },
          "scene": {
           "xaxis": {
            "backgroundcolor": "#E5ECF6",
            "gridcolor": "white",
            "gridwidth": 2,
            "linecolor": "white",
            "showbackground": true,
            "ticks": "",
            "zerolinecolor": "white"
           },
           "yaxis": {
            "backgroundcolor": "#E5ECF6",
            "gridcolor": "white",
            "gridwidth": 2,
            "linecolor": "white",
            "showbackground": true,
            "ticks": "",
            "zerolinecolor": "white"
           },
           "zaxis": {
            "backgroundcolor": "#E5ECF6",
            "gridcolor": "white",
            "gridwidth": 2,
            "linecolor": "white",
            "showbackground": true,
            "ticks": "",
            "zerolinecolor": "white"
           }
          },
          "shapedefaults": {
           "line": {
            "color": "#2a3f5f"
           }
          },
          "ternary": {
           "aaxis": {
            "gridcolor": "white",
            "linecolor": "white",
            "ticks": ""
           },
           "baxis": {
            "gridcolor": "white",
            "linecolor": "white",
            "ticks": ""
           },
           "bgcolor": "#E5ECF6",
           "caxis": {
            "gridcolor": "white",
            "linecolor": "white",
            "ticks": ""
           }
          },
          "title": {
           "x": 0.05
          },
          "xaxis": {
           "automargin": true,
           "gridcolor": "white",
           "linecolor": "white",
           "ticks": "",
           "title": {
            "standoff": 15
           },
           "zerolinecolor": "white",
           "zerolinewidth": 2
          },
          "yaxis": {
           "automargin": true,
           "gridcolor": "white",
           "linecolor": "white",
           "ticks": "",
           "title": {
            "standoff": 15
           },
           "zerolinecolor": "white",
           "zerolinewidth": 2
          }
         }
        },
        "title": {
         "text": "DNA Damage Foci nr in Damage+ Nuclei by Tissue Location and Genotype (separated by sex) - Auto stain QC - cellpdia30_sigma1_dilrad4_dnad_obj_seg_v3_gliaero6_gliathr30_dnadero2"
        },
        "xaxis": {
         "anchor": "y",
         "categoryarray": [
          "male - CA1",
          "female - CA1",
          "male - CA3",
          "female - CA3",
          "male - CTX1",
          "female - CTX1",
          "male - CTX2",
          "female - CTX2",
          "male - CTX3",
          "female - CTX3",
          "male - DG",
          "female - DG"
         ],
         "categoryorder": "array",
         "domain": [
          0,
          1
         ],
         "title": {
          "text": "sex_tissue"
         }
        },
        "yaxis": {
         "anchor": "x",
         "domain": [
          0,
          1
         ],
         "title": {
          "text": "avg_dna_damage_foci/all_nuclei_damage_+"
         }
        }
       }
      }
     },
     "metadata": {},
     "output_type": "display_data"
    },
    {
     "data": {
      "application/vnd.plotly.v1+json": {
       "config": {
        "plotlyServerURL": "https://plot.ly"
       },
       "data": [
        {
         "alignmentgroup": "True",
         "hovertemplate": "genotype=APP/PS1<br>sex_tissue=%{x}<br>damage_load_ratio_glia_+_cells=%{y}<extra></extra>",
         "legendgroup": "APP/PS1",
         "marker": {
          "color": "#636efa"
         },
         "name": "APP/PS1",
         "notched": false,
         "offsetgroup": "APP/PS1",
         "orientation": "v",
         "showlegend": true,
         "type": "box",
         "x": [
          "female - CA1",
          "female - CA3",
          "female - CTX1",
          "female - CTX2",
          "female - CTX3",
          "female - DG",
          "male - CA1",
          "male - CA3",
          "male - CTX1",
          "male - CTX2",
          "male - CTX3",
          "male - DG",
          "male - CA1",
          "male - CA3",
          "male - CTX1",
          "male - CTX2",
          "male - CTX3",
          "male - DG",
          "male - CA1",
          "male - CA3",
          "male - CTX1",
          "male - CTX2",
          "male - CTX3",
          "male - DG",
          "male - CA1",
          "male - CA3",
          "male - CTX1",
          "male - CTX2",
          "male - CTX3",
          "male - DG",
          "male - CA1",
          "male - CA3",
          "male - CTX1",
          "male - CTX2",
          "male - CTX3",
          "male - DG",
          "female - CA1",
          "female - CA3",
          "female - CTX1",
          "female - CTX2",
          "female - CTX3",
          "female - DG",
          "male - CA1",
          "male - CA3",
          "male - CTX1",
          "male - CTX2",
          "male - CTX3",
          "male - DG",
          "male - CA1",
          "male - CA3",
          "male - CTX1",
          "male - CTX2",
          "male - CTX3",
          "male - DG",
          "male - CA1",
          "male - CA3",
          "male - CTX1",
          "male - CTX2",
          "male - CTX3",
          "male - DG",
          "female - CA1",
          "female - CA3",
          "female - CTX1",
          "female - CTX2",
          "female - CTX3",
          "female - DG",
          "male - CA1",
          "male - CA3",
          "male - CTX1",
          "male - CTX2",
          "male - CTX3",
          "male - DG",
          "male - CA1",
          "male - CA3",
          "male - CTX1",
          "male - CTX2",
          "male - CTX3",
          "male - DG",
          "female - CA1",
          "female - CA3",
          "female - CTX1",
          "female - DG",
          "female - CA1",
          "female - CA3",
          "female - CTX1",
          "female - CTX2",
          "female - CTX3",
          "female - DG",
          "female - CA1",
          "female - CA3",
          "female - CTX1",
          "female - CTX2",
          "female - CTX3",
          "female - DG",
          "male - CA1",
          "male - CA3",
          "male - CTX1",
          "male - CTX2",
          "male - CTX3",
          "male - DG",
          "male - CA1",
          "male - CA3",
          "male - CTX1",
          "male - CTX2",
          "male - CTX3",
          "male - DG",
          "female - CA1",
          "female - CA3",
          "female - CTX1",
          "female - CTX2",
          "female - CTX3",
          "female - DG",
          "female - CA1",
          "female - CA3",
          "female - CTX1",
          "female - CTX2",
          "female - CTX3",
          "female - DG",
          "female - CA1",
          "female - CA3",
          "female - CTX1",
          "female - CTX2",
          "female - CTX3",
          "female - DG",
          "female - DG"
         ],
         "x0": " ",
         "xaxis": "x",
         "y": [
          0.1875,
          0,
          0.1875,
          0.3888888888888889,
          0.4444444444444444,
          0.7058823529411765,
          0.3076923076923077,
          0.3076923076923077,
          0.25,
          0.3125,
          0.2,
          0.6153846153846154,
          0.16,
          0.5,
          0.25,
          0.5294117647058824,
          0.375,
          0.6111111111111112,
          0.3333333333333333,
          0.2,
          0.3,
          0.7272727272727273,
          0.2307692307692307,
          0.4285714285714285,
          null,
          0.1428571428571428,
          null,
          0.3333333333333333,
          0.25,
          0.3333333333333333,
          0.6,
          0.625,
          0.4285714285714285,
          0.5,
          0.6666666666666666,
          0.6666666666666666,
          0.8571428571428571,
          1,
          0.75,
          1,
          0.5,
          0.6818181818181818,
          0,
          0,
          0.1,
          0.25,
          null,
          0.3,
          0,
          0.1,
          0,
          0.3571428571428571,
          0.2666666666666666,
          0.1428571428571428,
          1,
          0,
          0,
          0,
          0,
          0,
          0.3333333333333333,
          1,
          0.3333333333333333,
          0.6666666666666666,
          null,
          0,
          0.4761904761904761,
          0.25,
          0.5,
          0.8571428571428571,
          0.6,
          0.3333333333333333,
          0.8,
          0.631578947368421,
          0.5882352941176471,
          0.6666666666666666,
          0.8,
          0.8666666666666667,
          0.1666666666666666,
          0,
          null,
          0.2,
          0.4166666666666667,
          0,
          0,
          0,
          0,
          0.75,
          0.4285714285714285,
          0,
          0.25,
          1,
          null,
          0.4545454545454545,
          0.5,
          0,
          0.6666666666666666,
          0.375,
          0.6666666666666666,
          0.4736842105263157,
          0.6,
          0,
          0.5454545454545454,
          0.3333333333333333,
          0.3333333333333333,
          0.7142857142857143,
          0.25,
          0,
          0.5,
          0.8571428571428571,
          0.5,
          0.7142857142857143,
          0.5,
          null,
          0.5,
          0.3333333333333333,
          1,
          0.5,
          0.6666666666666666,
          0.4,
          1,
          0.5,
          0,
          0.5,
          0
         ],
         "y0": " ",
         "yaxis": "y"
        },
        {
         "alignmentgroup": "True",
         "hovertemplate": "genotype=APP/PS1 x Neil3 KO<br>sex_tissue=%{x}<br>damage_load_ratio_glia_+_cells=%{y}<extra></extra>",
         "legendgroup": "APP/PS1 x Neil3 KO",
         "marker": {
          "color": "#EF553B"
         },
         "name": "APP/PS1 x Neil3 KO",
         "notched": false,
         "offsetgroup": "APP/PS1 x Neil3 KO",
         "orientation": "v",
         "showlegend": true,
         "type": "box",
         "x": [
          "male - CA1",
          "male - CA3",
          "male - CTX1",
          "male - CTX2",
          "male - CTX3",
          "male - DG",
          "male - CA1",
          "male - CA3",
          "male - CTX1",
          "male - CTX2",
          "male - CTX3",
          "male - DG",
          "female - CA1",
          "female - CA3",
          "female - CTX1",
          "female - CTX2",
          "female - CTX3",
          "female - DG",
          "male - CA1",
          "male - CA3",
          "male - CTX1",
          "male - CTX2",
          "male - CTX3",
          "male - DG",
          "male - CA1",
          "male - CA3",
          "male - CTX1",
          "male - CTX2",
          "male - CTX3",
          "male - DG",
          "female - CA1",
          "female - CA3",
          "female - CTX1",
          "female - CTX2",
          "female - CTX3",
          "female - DG",
          "female - CA1",
          "female - CA3",
          "female - CTX1",
          "female - CTX2",
          "female - CTX3",
          "female - DG",
          "male - CA1",
          "male - CA3",
          "male - CTX1",
          "male - CTX2",
          "male - CTX3",
          "male - DG",
          "male - DG",
          "female - CA1",
          "female - CA3",
          "female - CTX1",
          "female - CTX2",
          "female - CTX3",
          "female - DG",
          "male - DG",
          "male - CA1",
          "male - CA3",
          "male - CTX1",
          "male - CTX2",
          "male - CTX3",
          "male - DG",
          "female - CA1",
          "female - CA3",
          "female - CTX1",
          "female - CTX2",
          "female - CTX3",
          "female - DG",
          "male - CA1",
          "male - CA3",
          "male - DG",
          "male - CA1",
          "male - CA3",
          "male - CTX1",
          "male - CTX2",
          "male - CTX3",
          "male - DG",
          "female - CA1",
          "female - CA3",
          "female - CTX1",
          "female - CTX2",
          "female - CTX3",
          "female - DG",
          "male - CA1",
          "male - CA3",
          "male - CTX1",
          "male - CTX2",
          "male - CTX3",
          "male - DG",
          "female - CA1",
          "female - CA3",
          "female - CTX1",
          "female - CTX2",
          "female - CTX3",
          "female - DG"
         ],
         "x0": " ",
         "xaxis": "x",
         "y": [
          0.1,
          0.5384615384615384,
          0.5,
          0.6,
          0.1666666666666666,
          0.4285714285714285,
          0.1111111111111111,
          0.25,
          0.2307692307692307,
          0.1428571428571428,
          0.6666666666666666,
          0.5,
          0.1666666666666666,
          0.3157894736842105,
          0.3333333333333333,
          0.3,
          0.3636363636363636,
          0.6,
          0.3,
          0,
          0.3571428571428571,
          0.6666666666666666,
          0.1538461538461538,
          0.5,
          0,
          0.1666666666666666,
          0,
          0,
          0,
          0.2222222222222222,
          0.8,
          0.8,
          0.625,
          0.5384615384615384,
          0.2,
          0.6521739130434783,
          0.7,
          0.625,
          0.3333333333333333,
          0.5,
          0.8571428571428571,
          1,
          0.5555555555555556,
          0.2222222222222222,
          0,
          0.6153846153846154,
          0.4375,
          0.4545454545454545,
          0.4117647058823529,
          1,
          0.5555555555555556,
          0.7272727272727273,
          0.2727272727272727,
          0.25,
          0.5909090909090909,
          null,
          0.25,
          0.2857142857142857,
          0.25,
          0.5,
          0,
          0.4,
          0.1666666666666666,
          0.0769230769230769,
          0.2,
          0.1428571428571428,
          0,
          0.4166666666666667,
          0.5238095238095238,
          0.4444444444444444,
          0.3888888888888889,
          0.8333333333333334,
          0.5,
          0,
          0.375,
          0.2,
          0.5555555555555556,
          0.0909090909090909,
          0.2857142857142857,
          0.8,
          0.4,
          0.8,
          0.3333333333333333,
          0.4666666666666667,
          0,
          0.1428571428571428,
          0.25,
          0.2222222222222222,
          0.5294117647058824,
          0.15,
          0.1,
          0.4210526315789473,
          0.3125,
          0.2666666666666666,
          0.2962962962962963
         ],
         "y0": " ",
         "yaxis": "y"
        }
       ],
       "layout": {
        "boxmode": "group",
        "legend": {
         "title": {
          "text": "genotype"
         },
         "tracegroupgap": 0
        },
        "template": {
         "data": {
          "bar": [
           {
            "error_x": {
             "color": "#2a3f5f"
            },
            "error_y": {
             "color": "#2a3f5f"
            },
            "marker": {
             "line": {
              "color": "#E5ECF6",
              "width": 0.5
             },
             "pattern": {
              "fillmode": "overlay",
              "size": 10,
              "solidity": 0.2
             }
            },
            "type": "bar"
           }
          ],
          "barpolar": [
           {
            "marker": {
             "line": {
              "color": "#E5ECF6",
              "width": 0.5
             },
             "pattern": {
              "fillmode": "overlay",
              "size": 10,
              "solidity": 0.2
             }
            },
            "type": "barpolar"
           }
          ],
          "carpet": [
           {
            "aaxis": {
             "endlinecolor": "#2a3f5f",
             "gridcolor": "white",
             "linecolor": "white",
             "minorgridcolor": "white",
             "startlinecolor": "#2a3f5f"
            },
            "baxis": {
             "endlinecolor": "#2a3f5f",
             "gridcolor": "white",
             "linecolor": "white",
             "minorgridcolor": "white",
             "startlinecolor": "#2a3f5f"
            },
            "type": "carpet"
           }
          ],
          "choropleth": [
           {
            "colorbar": {
             "outlinewidth": 0,
             "ticks": ""
            },
            "type": "choropleth"
           }
          ],
          "contour": [
           {
            "colorbar": {
             "outlinewidth": 0,
             "ticks": ""
            },
            "colorscale": [
             [
              0,
              "#0d0887"
             ],
             [
              0.1111111111111111,
              "#46039f"
             ],
             [
              0.2222222222222222,
              "#7201a8"
             ],
             [
              0.3333333333333333,
              "#9c179e"
             ],
             [
              0.4444444444444444,
              "#bd3786"
             ],
             [
              0.5555555555555556,
              "#d8576b"
             ],
             [
              0.6666666666666666,
              "#ed7953"
             ],
             [
              0.7777777777777778,
              "#fb9f3a"
             ],
             [
              0.8888888888888888,
              "#fdca26"
             ],
             [
              1,
              "#f0f921"
             ]
            ],
            "type": "contour"
           }
          ],
          "contourcarpet": [
           {
            "colorbar": {
             "outlinewidth": 0,
             "ticks": ""
            },
            "type": "contourcarpet"
           }
          ],
          "heatmap": [
           {
            "colorbar": {
             "outlinewidth": 0,
             "ticks": ""
            },
            "colorscale": [
             [
              0,
              "#0d0887"
             ],
             [
              0.1111111111111111,
              "#46039f"
             ],
             [
              0.2222222222222222,
              "#7201a8"
             ],
             [
              0.3333333333333333,
              "#9c179e"
             ],
             [
              0.4444444444444444,
              "#bd3786"
             ],
             [
              0.5555555555555556,
              "#d8576b"
             ],
             [
              0.6666666666666666,
              "#ed7953"
             ],
             [
              0.7777777777777778,
              "#fb9f3a"
             ],
             [
              0.8888888888888888,
              "#fdca26"
             ],
             [
              1,
              "#f0f921"
             ]
            ],
            "type": "heatmap"
           }
          ],
          "heatmapgl": [
           {
            "colorbar": {
             "outlinewidth": 0,
             "ticks": ""
            },
            "colorscale": [
             [
              0,
              "#0d0887"
             ],
             [
              0.1111111111111111,
              "#46039f"
             ],
             [
              0.2222222222222222,
              "#7201a8"
             ],
             [
              0.3333333333333333,
              "#9c179e"
             ],
             [
              0.4444444444444444,
              "#bd3786"
             ],
             [
              0.5555555555555556,
              "#d8576b"
             ],
             [
              0.6666666666666666,
              "#ed7953"
             ],
             [
              0.7777777777777778,
              "#fb9f3a"
             ],
             [
              0.8888888888888888,
              "#fdca26"
             ],
             [
              1,
              "#f0f921"
             ]
            ],
            "type": "heatmapgl"
           }
          ],
          "histogram": [
           {
            "marker": {
             "pattern": {
              "fillmode": "overlay",
              "size": 10,
              "solidity": 0.2
             }
            },
            "type": "histogram"
           }
          ],
          "histogram2d": [
           {
            "colorbar": {
             "outlinewidth": 0,
             "ticks": ""
            },
            "colorscale": [
             [
              0,
              "#0d0887"
             ],
             [
              0.1111111111111111,
              "#46039f"
             ],
             [
              0.2222222222222222,
              "#7201a8"
             ],
             [
              0.3333333333333333,
              "#9c179e"
             ],
             [
              0.4444444444444444,
              "#bd3786"
             ],
             [
              0.5555555555555556,
              "#d8576b"
             ],
             [
              0.6666666666666666,
              "#ed7953"
             ],
             [
              0.7777777777777778,
              "#fb9f3a"
             ],
             [
              0.8888888888888888,
              "#fdca26"
             ],
             [
              1,
              "#f0f921"
             ]
            ],
            "type": "histogram2d"
           }
          ],
          "histogram2dcontour": [
           {
            "colorbar": {
             "outlinewidth": 0,
             "ticks": ""
            },
            "colorscale": [
             [
              0,
              "#0d0887"
             ],
             [
              0.1111111111111111,
              "#46039f"
             ],
             [
              0.2222222222222222,
              "#7201a8"
             ],
             [
              0.3333333333333333,
              "#9c179e"
             ],
             [
              0.4444444444444444,
              "#bd3786"
             ],
             [
              0.5555555555555556,
              "#d8576b"
             ],
             [
              0.6666666666666666,
              "#ed7953"
             ],
             [
              0.7777777777777778,
              "#fb9f3a"
             ],
             [
              0.8888888888888888,
              "#fdca26"
             ],
             [
              1,
              "#f0f921"
             ]
            ],
            "type": "histogram2dcontour"
           }
          ],
          "mesh3d": [
           {
            "colorbar": {
             "outlinewidth": 0,
             "ticks": ""
            },
            "type": "mesh3d"
           }
          ],
          "parcoords": [
           {
            "line": {
             "colorbar": {
              "outlinewidth": 0,
              "ticks": ""
             }
            },
            "type": "parcoords"
           }
          ],
          "pie": [
           {
            "automargin": true,
            "type": "pie"
           }
          ],
          "scatter": [
           {
            "fillpattern": {
             "fillmode": "overlay",
             "size": 10,
             "solidity": 0.2
            },
            "type": "scatter"
           }
          ],
          "scatter3d": [
           {
            "line": {
             "colorbar": {
              "outlinewidth": 0,
              "ticks": ""
             }
            },
            "marker": {
             "colorbar": {
              "outlinewidth": 0,
              "ticks": ""
             }
            },
            "type": "scatter3d"
           }
          ],
          "scattercarpet": [
           {
            "marker": {
             "colorbar": {
              "outlinewidth": 0,
              "ticks": ""
             }
            },
            "type": "scattercarpet"
           }
          ],
          "scattergeo": [
           {
            "marker": {
             "colorbar": {
              "outlinewidth": 0,
              "ticks": ""
             }
            },
            "type": "scattergeo"
           }
          ],
          "scattergl": [
           {
            "marker": {
             "colorbar": {
              "outlinewidth": 0,
              "ticks": ""
             }
            },
            "type": "scattergl"
           }
          ],
          "scattermapbox": [
           {
            "marker": {
             "colorbar": {
              "outlinewidth": 0,
              "ticks": ""
             }
            },
            "type": "scattermapbox"
           }
          ],
          "scatterpolar": [
           {
            "marker": {
             "colorbar": {
              "outlinewidth": 0,
              "ticks": ""
             }
            },
            "type": "scatterpolar"
           }
          ],
          "scatterpolargl": [
           {
            "marker": {
             "colorbar": {
              "outlinewidth": 0,
              "ticks": ""
             }
            },
            "type": "scatterpolargl"
           }
          ],
          "scatterternary": [
           {
            "marker": {
             "colorbar": {
              "outlinewidth": 0,
              "ticks": ""
             }
            },
            "type": "scatterternary"
           }
          ],
          "surface": [
           {
            "colorbar": {
             "outlinewidth": 0,
             "ticks": ""
            },
            "colorscale": [
             [
              0,
              "#0d0887"
             ],
             [
              0.1111111111111111,
              "#46039f"
             ],
             [
              0.2222222222222222,
              "#7201a8"
             ],
             [
              0.3333333333333333,
              "#9c179e"
             ],
             [
              0.4444444444444444,
              "#bd3786"
             ],
             [
              0.5555555555555556,
              "#d8576b"
             ],
             [
              0.6666666666666666,
              "#ed7953"
             ],
             [
              0.7777777777777778,
              "#fb9f3a"
             ],
             [
              0.8888888888888888,
              "#fdca26"
             ],
             [
              1,
              "#f0f921"
             ]
            ],
            "type": "surface"
           }
          ],
          "table": [
           {
            "cells": {
             "fill": {
              "color": "#EBF0F8"
             },
             "line": {
              "color": "white"
             }
            },
            "header": {
             "fill": {
              "color": "#C8D4E3"
             },
             "line": {
              "color": "white"
             }
            },
            "type": "table"
           }
          ]
         },
         "layout": {
          "annotationdefaults": {
           "arrowcolor": "#2a3f5f",
           "arrowhead": 0,
           "arrowwidth": 1
          },
          "autotypenumbers": "strict",
          "coloraxis": {
           "colorbar": {
            "outlinewidth": 0,
            "ticks": ""
           }
          },
          "colorscale": {
           "diverging": [
            [
             0,
             "#8e0152"
            ],
            [
             0.1,
             "#c51b7d"
            ],
            [
             0.2,
             "#de77ae"
            ],
            [
             0.3,
             "#f1b6da"
            ],
            [
             0.4,
             "#fde0ef"
            ],
            [
             0.5,
             "#f7f7f7"
            ],
            [
             0.6,
             "#e6f5d0"
            ],
            [
             0.7,
             "#b8e186"
            ],
            [
             0.8,
             "#7fbc41"
            ],
            [
             0.9,
             "#4d9221"
            ],
            [
             1,
             "#276419"
            ]
           ],
           "sequential": [
            [
             0,
             "#0d0887"
            ],
            [
             0.1111111111111111,
             "#46039f"
            ],
            [
             0.2222222222222222,
             "#7201a8"
            ],
            [
             0.3333333333333333,
             "#9c179e"
            ],
            [
             0.4444444444444444,
             "#bd3786"
            ],
            [
             0.5555555555555556,
             "#d8576b"
            ],
            [
             0.6666666666666666,
             "#ed7953"
            ],
            [
             0.7777777777777778,
             "#fb9f3a"
            ],
            [
             0.8888888888888888,
             "#fdca26"
            ],
            [
             1,
             "#f0f921"
            ]
           ],
           "sequentialminus": [
            [
             0,
             "#0d0887"
            ],
            [
             0.1111111111111111,
             "#46039f"
            ],
            [
             0.2222222222222222,
             "#7201a8"
            ],
            [
             0.3333333333333333,
             "#9c179e"
            ],
            [
             0.4444444444444444,
             "#bd3786"
            ],
            [
             0.5555555555555556,
             "#d8576b"
            ],
            [
             0.6666666666666666,
             "#ed7953"
            ],
            [
             0.7777777777777778,
             "#fb9f3a"
            ],
            [
             0.8888888888888888,
             "#fdca26"
            ],
            [
             1,
             "#f0f921"
            ]
           ]
          },
          "colorway": [
           "#636efa",
           "#EF553B",
           "#00cc96",
           "#ab63fa",
           "#FFA15A",
           "#19d3f3",
           "#FF6692",
           "#B6E880",
           "#FF97FF",
           "#FECB52"
          ],
          "font": {
           "color": "#2a3f5f"
          },
          "geo": {
           "bgcolor": "white",
           "lakecolor": "white",
           "landcolor": "#E5ECF6",
           "showlakes": true,
           "showland": true,
           "subunitcolor": "white"
          },
          "hoverlabel": {
           "align": "left"
          },
          "hovermode": "closest",
          "mapbox": {
           "style": "light"
          },
          "paper_bgcolor": "white",
          "plot_bgcolor": "#E5ECF6",
          "polar": {
           "angularaxis": {
            "gridcolor": "white",
            "linecolor": "white",
            "ticks": ""
           },
           "bgcolor": "#E5ECF6",
           "radialaxis": {
            "gridcolor": "white",
            "linecolor": "white",
            "ticks": ""
           }
          },
          "scene": {
           "xaxis": {
            "backgroundcolor": "#E5ECF6",
            "gridcolor": "white",
            "gridwidth": 2,
            "linecolor": "white",
            "showbackground": true,
            "ticks": "",
            "zerolinecolor": "white"
           },
           "yaxis": {
            "backgroundcolor": "#E5ECF6",
            "gridcolor": "white",
            "gridwidth": 2,
            "linecolor": "white",
            "showbackground": true,
            "ticks": "",
            "zerolinecolor": "white"
           },
           "zaxis": {
            "backgroundcolor": "#E5ECF6",
            "gridcolor": "white",
            "gridwidth": 2,
            "linecolor": "white",
            "showbackground": true,
            "ticks": "",
            "zerolinecolor": "white"
           }
          },
          "shapedefaults": {
           "line": {
            "color": "#2a3f5f"
           }
          },
          "ternary": {
           "aaxis": {
            "gridcolor": "white",
            "linecolor": "white",
            "ticks": ""
           },
           "baxis": {
            "gridcolor": "white",
            "linecolor": "white",
            "ticks": ""
           },
           "bgcolor": "#E5ECF6",
           "caxis": {
            "gridcolor": "white",
            "linecolor": "white",
            "ticks": ""
           }
          },
          "title": {
           "x": 0.05
          },
          "xaxis": {
           "automargin": true,
           "gridcolor": "white",
           "linecolor": "white",
           "ticks": "",
           "title": {
            "standoff": 15
           },
           "zerolinecolor": "white",
           "zerolinewidth": 2
          },
          "yaxis": {
           "automargin": true,
           "gridcolor": "white",
           "linecolor": "white",
           "ticks": "",
           "title": {
            "standoff": 15
           },
           "zerolinecolor": "white",
           "zerolinewidth": 2
          }
         }
        },
        "title": {
         "text": "Ratio of damaged Astrocyte nuclei by Tissue Location and Genotype (separated by sex) - Auto stain QC - cellpdia30_sigma1_dilrad4_dnad_obj_seg_v3_gliaero6_gliathr30_dnadero2"
        },
        "xaxis": {
         "anchor": "y",
         "categoryarray": [
          "male - CA1",
          "female - CA1",
          "male - CA3",
          "female - CA3",
          "male - CTX1",
          "female - CTX1",
          "male - CTX2",
          "female - CTX2",
          "male - CTX3",
          "female - CTX3",
          "male - DG",
          "female - DG"
         ],
         "categoryorder": "array",
         "domain": [
          0,
          1
         ],
         "title": {
          "text": "sex_tissue"
         }
        },
        "yaxis": {
         "anchor": "x",
         "domain": [
          0,
          1
         ],
         "title": {
          "text": "damage_load_ratio_glia_+_cells"
         }
        }
       }
      }
     },
     "metadata": {},
     "output_type": "display_data"
    },
    {
     "data": {
      "application/vnd.plotly.v1+json": {
       "config": {
        "plotlyServerURL": "https://plot.ly"
       },
       "data": [
        {
         "alignmentgroup": "True",
         "hovertemplate": "genotype=APP/PS1<br>sex_tissue=%{x}<br>damage_load_ratio_all_cells=%{y}<extra></extra>",
         "legendgroup": "APP/PS1",
         "marker": {
          "color": "#636efa"
         },
         "name": "APP/PS1",
         "notched": false,
         "offsetgroup": "APP/PS1",
         "orientation": "v",
         "showlegend": true,
         "type": "box",
         "x": [
          "female - CA1",
          "female - CA3",
          "female - CTX1",
          "female - CTX2",
          "female - CTX3",
          "female - DG",
          "male - CA1",
          "male - CA3",
          "male - CTX1",
          "male - CTX2",
          "male - CTX3",
          "male - DG",
          "male - CA1",
          "male - CA3",
          "male - CTX1",
          "male - CTX2",
          "male - CTX3",
          "male - DG",
          "male - CA1",
          "male - CA3",
          "male - CTX1",
          "male - CTX2",
          "male - CTX3",
          "male - DG",
          "male - CA1",
          "male - CA3",
          "male - CTX1",
          "male - CTX2",
          "male - CTX3",
          "male - DG",
          "male - CA1",
          "male - CA3",
          "male - CTX1",
          "male - CTX2",
          "male - CTX3",
          "male - DG",
          "female - CA1",
          "female - CA3",
          "female - CTX1",
          "female - CTX2",
          "female - CTX3",
          "female - DG",
          "male - CA1",
          "male - CA3",
          "male - CTX1",
          "male - CTX2",
          "male - CTX3",
          "male - DG",
          "male - CA1",
          "male - CA3",
          "male - CTX1",
          "male - CTX2",
          "male - CTX3",
          "male - DG",
          "male - CA1",
          "male - CA3",
          "male - CTX1",
          "male - CTX2",
          "male - CTX3",
          "male - DG",
          "female - CA1",
          "female - CA3",
          "female - CTX1",
          "female - CTX2",
          "female - CTX3",
          "female - DG",
          "male - CA1",
          "male - CA3",
          "male - CTX1",
          "male - CTX2",
          "male - CTX3",
          "male - DG",
          "male - CA1",
          "male - CA3",
          "male - CTX1",
          "male - CTX2",
          "male - CTX3",
          "male - DG",
          "female - CA1",
          "female - CA3",
          "female - CTX1",
          "female - DG",
          "female - CA1",
          "female - CA3",
          "female - CTX1",
          "female - CTX2",
          "female - CTX3",
          "female - DG",
          "female - CA1",
          "female - CA3",
          "female - CTX1",
          "female - CTX2",
          "female - CTX3",
          "female - DG",
          "male - CA1",
          "male - CA3",
          "male - CTX1",
          "male - CTX2",
          "male - CTX3",
          "male - DG",
          "male - CA1",
          "male - CA3",
          "male - CTX1",
          "male - CTX2",
          "male - CTX3",
          "male - DG",
          "female - CA1",
          "female - CA3",
          "female - CTX1",
          "female - CTX2",
          "female - CTX3",
          "female - DG",
          "female - CA1",
          "female - CA3",
          "female - CTX1",
          "female - CTX2",
          "female - CTX3",
          "female - DG",
          "female - CA1",
          "female - CA3",
          "female - CTX1",
          "female - CTX2",
          "female - CTX3",
          "female - DG",
          "female - DG"
         ],
         "x0": " ",
         "xaxis": "x",
         "y": [
          0.4135802469135802,
          0.6896551724137931,
          0.3396226415094339,
          0.528957528957529,
          0.572289156626506,
          0.7894736842105263,
          0.4655172413793103,
          0.6638655462184874,
          0.3414634146341463,
          0.5511811023622047,
          0.3932584269662921,
          0.8132183908045977,
          0.3762886597938144,
          0.5921052631578947,
          0.4818181818181818,
          0.5833333333333334,
          0.5819672131147541,
          0.8155844155844156,
          0.4554973821989528,
          0.4961240310077519,
          0.3961352657004831,
          0.6203007518796992,
          0.5443548387096774,
          0.7146171693735499,
          0.3715846994535519,
          0.4742857142857143,
          0.4116022099447514,
          0.5169230769230769,
          0.6487804878048781,
          0.7697516930022573,
          0.664179104477612,
          0.6195652173913043,
          0.4330708661417323,
          0.4675925925925926,
          0.5114942528735632,
          0.7519685039370079,
          0.6126760563380281,
          0.5204081632653061,
          0.5414634146341464,
          0.5720930232558139,
          0.5947136563876652,
          0.7672209026128266,
          0.3529411764705882,
          0.5816326530612245,
          0.3838862559241706,
          0.3870967741935484,
          0.3660714285714285,
          0.5718085106382979,
          0.2947976878612717,
          0.5240963855421686,
          0.1845018450184501,
          0.5335820895522388,
          0.7216494845360825,
          0.4151898734177215,
          0.4385964912280701,
          0.5263157894736842,
          0.2170542635658914,
          0.1907894736842105,
          0.1875,
          0.5217391304347826,
          0.4710144927536231,
          0.6535947712418301,
          0.6683673469387755,
          0.5670103092783505,
          0.4513274336283185,
          0.66,
          0.5348837209302325,
          0.6113744075829384,
          0.4139072847682119,
          0.6229508196721312,
          0.3944223107569721,
          0.6547231270358306,
          0.7368421052631579,
          0.7313432835820896,
          0.6680161943319838,
          0.6572769953051644,
          0.4420289855072464,
          0.8355795148247979,
          0.4354838709677419,
          0.5483870967741935,
          0.152073732718894,
          0.532394366197183,
          0.6166666666666667,
          0.4123711340206185,
          0.4701492537313433,
          0.2125,
          0.1954022988505747,
          0.6382428940568475,
          0.6153846153846154,
          0.575,
          0.5601851851851852,
          0.5220125786163522,
          0.6271186440677966,
          0.7505827505827506,
          0.5897435897435898,
          0.7478260869565218,
          0.6044776119402985,
          0.5517241379310345,
          0.6007067137809188,
          0.6546052631578947,
          0.6296296296296297,
          0.6271186440677966,
          0.6068376068376068,
          0.6091954022988506,
          0.6107784431137725,
          0.8069164265129684,
          0.509090909090909,
          0.5,
          0.4421487603305785,
          0.6602870813397129,
          0.5301724137931034,
          0.7048192771084337,
          0.4693877551020408,
          0.5,
          0.544,
          0.4296296296296296,
          0.3942307692307692,
          0.76,
          0.6857142857142857,
          0.6699029126213593,
          0.5317073170731708,
          0.547945205479452,
          0.4885496183206106,
          0.7694300518134715,
          0.003125
         ],
         "y0": " ",
         "yaxis": "y"
        },
        {
         "alignmentgroup": "True",
         "hovertemplate": "genotype=APP/PS1 x Neil3 KO<br>sex_tissue=%{x}<br>damage_load_ratio_all_cells=%{y}<extra></extra>",
         "legendgroup": "APP/PS1 x Neil3 KO",
         "marker": {
          "color": "#EF553B"
         },
         "name": "APP/PS1 x Neil3 KO",
         "notched": false,
         "offsetgroup": "APP/PS1 x Neil3 KO",
         "orientation": "v",
         "showlegend": true,
         "type": "box",
         "x": [
          "male - CA1",
          "male - CA3",
          "male - CTX1",
          "male - CTX2",
          "male - CTX3",
          "male - DG",
          "male - CA1",
          "male - CA3",
          "male - CTX1",
          "male - CTX2",
          "male - CTX3",
          "male - DG",
          "female - CA1",
          "female - CA3",
          "female - CTX1",
          "female - CTX2",
          "female - CTX3",
          "female - DG",
          "male - CA1",
          "male - CA3",
          "male - CTX1",
          "male - CTX2",
          "male - CTX3",
          "male - DG",
          "male - CA1",
          "male - CA3",
          "male - CTX1",
          "male - CTX2",
          "male - CTX3",
          "male - DG",
          "female - CA1",
          "female - CA3",
          "female - CTX1",
          "female - CTX2",
          "female - CTX3",
          "female - DG",
          "female - CA1",
          "female - CA3",
          "female - CTX1",
          "female - CTX2",
          "female - CTX3",
          "female - DG",
          "male - CA1",
          "male - CA3",
          "male - CTX1",
          "male - CTX2",
          "male - CTX3",
          "male - DG",
          "male - DG",
          "female - CA1",
          "female - CA3",
          "female - CTX1",
          "female - CTX2",
          "female - CTX3",
          "female - DG",
          "male - DG",
          "male - CA1",
          "male - CA3",
          "male - CTX1",
          "male - CTX2",
          "male - CTX3",
          "male - DG",
          "female - CA1",
          "female - CA3",
          "female - CTX1",
          "female - CTX2",
          "female - CTX3",
          "female - DG",
          "male - CA1",
          "male - CA3",
          "male - DG",
          "male - CA1",
          "male - CA3",
          "male - CTX1",
          "male - CTX2",
          "male - CTX3",
          "male - DG",
          "female - CA1",
          "female - CA3",
          "female - CTX1",
          "female - CTX2",
          "female - CTX3",
          "female - DG",
          "male - CA1",
          "male - CA3",
          "male - CTX1",
          "male - CTX2",
          "male - CTX3",
          "male - DG",
          "female - CA1",
          "female - CA3",
          "female - CTX1",
          "female - CTX2",
          "female - CTX3",
          "female - DG"
         ],
         "x0": " ",
         "xaxis": "x",
         "y": [
          0.441747572815534,
          0.5132743362831859,
          0.5833333333333334,
          0.688034188034188,
          0.3333333333333333,
          0.7448680351906158,
          0.5421052631578948,
          0.6474358974358975,
          0.4553990610328638,
          0.4123711340206185,
          0.5609756097560976,
          0.8377581120943953,
          0.3429951690821256,
          0.5426829268292683,
          0.5625,
          0.5665024630541872,
          0.4968553459119497,
          0.712401055408971,
          0.4226190476190476,
          0.3870967741935484,
          0.384180790960452,
          0.5747126436781609,
          0.435064935064935,
          0.8402948402948403,
          0.3714285714285714,
          0.6589147286821705,
          0.3333333333333333,
          0.3858267716535433,
          0.3442622950819672,
          0.4201954397394137,
          0.7033898305084746,
          0.6344086021505376,
          0.543859649122807,
          0.6232558139534884,
          0.5652173913043478,
          0.786096256684492,
          0.6473988439306358,
          0.6538461538461539,
          0.5416666666666666,
          0.62,
          0.5763888888888888,
          0.7962085308056872,
          0.4761904761904761,
          0.5384615384615384,
          0.4285714285714285,
          0.5078534031413613,
          0.4853801169590643,
          0.7469135802469136,
          0.3555555555555555,
          0.5581395348837209,
          0.603448275862069,
          0.6926406926406926,
          0.596244131455399,
          0.5238095238095238,
          0.8005181347150259,
          0.0774410774410774,
          0.53125,
          0.5476190476190477,
          0.4172661870503597,
          0.3625,
          0.3561643835616438,
          0.8841463414634146,
          0.5350877192982456,
          0.5253164556962026,
          0.3983739837398374,
          0.4869565217391304,
          0.2727272727272727,
          0.7277628032345014,
          0.5764705882352941,
          0.6434108527131783,
          0.3435582822085889,
          0.3870967741935484,
          0.5561224489795918,
          0.5,
          0.4431818181818182,
          0.3803680981595092,
          0.7202797202797203,
          0.4861111111111111,
          0.4188034188034188,
          0.4977168949771689,
          0.4657534246575342,
          0.5692307692307692,
          0.6842105263157895,
          0.5898876404494382,
          0.5328947368421053,
          0.4955357142857143,
          0.5227272727272727,
          0.5120772946859904,
          0.769406392694064,
          0.4893617021276595,
          0.5466666666666666,
          0.4741035856573705,
          0.4507042253521127,
          0.4182509505703422,
          0.6133909287257019
         ],
         "y0": " ",
         "yaxis": "y"
        }
       ],
       "layout": {
        "boxmode": "group",
        "legend": {
         "title": {
          "text": "genotype"
         },
         "tracegroupgap": 0
        },
        "template": {
         "data": {
          "bar": [
           {
            "error_x": {
             "color": "#2a3f5f"
            },
            "error_y": {
             "color": "#2a3f5f"
            },
            "marker": {
             "line": {
              "color": "#E5ECF6",
              "width": 0.5
             },
             "pattern": {
              "fillmode": "overlay",
              "size": 10,
              "solidity": 0.2
             }
            },
            "type": "bar"
           }
          ],
          "barpolar": [
           {
            "marker": {
             "line": {
              "color": "#E5ECF6",
              "width": 0.5
             },
             "pattern": {
              "fillmode": "overlay",
              "size": 10,
              "solidity": 0.2
             }
            },
            "type": "barpolar"
           }
          ],
          "carpet": [
           {
            "aaxis": {
             "endlinecolor": "#2a3f5f",
             "gridcolor": "white",
             "linecolor": "white",
             "minorgridcolor": "white",
             "startlinecolor": "#2a3f5f"
            },
            "baxis": {
             "endlinecolor": "#2a3f5f",
             "gridcolor": "white",
             "linecolor": "white",
             "minorgridcolor": "white",
             "startlinecolor": "#2a3f5f"
            },
            "type": "carpet"
           }
          ],
          "choropleth": [
           {
            "colorbar": {
             "outlinewidth": 0,
             "ticks": ""
            },
            "type": "choropleth"
           }
          ],
          "contour": [
           {
            "colorbar": {
             "outlinewidth": 0,
             "ticks": ""
            },
            "colorscale": [
             [
              0,
              "#0d0887"
             ],
             [
              0.1111111111111111,
              "#46039f"
             ],
             [
              0.2222222222222222,
              "#7201a8"
             ],
             [
              0.3333333333333333,
              "#9c179e"
             ],
             [
              0.4444444444444444,
              "#bd3786"
             ],
             [
              0.5555555555555556,
              "#d8576b"
             ],
             [
              0.6666666666666666,
              "#ed7953"
             ],
             [
              0.7777777777777778,
              "#fb9f3a"
             ],
             [
              0.8888888888888888,
              "#fdca26"
             ],
             [
              1,
              "#f0f921"
             ]
            ],
            "type": "contour"
           }
          ],
          "contourcarpet": [
           {
            "colorbar": {
             "outlinewidth": 0,
             "ticks": ""
            },
            "type": "contourcarpet"
           }
          ],
          "heatmap": [
           {
            "colorbar": {
             "outlinewidth": 0,
             "ticks": ""
            },
            "colorscale": [
             [
              0,
              "#0d0887"
             ],
             [
              0.1111111111111111,
              "#46039f"
             ],
             [
              0.2222222222222222,
              "#7201a8"
             ],
             [
              0.3333333333333333,
              "#9c179e"
             ],
             [
              0.4444444444444444,
              "#bd3786"
             ],
             [
              0.5555555555555556,
              "#d8576b"
             ],
             [
              0.6666666666666666,
              "#ed7953"
             ],
             [
              0.7777777777777778,
              "#fb9f3a"
             ],
             [
              0.8888888888888888,
              "#fdca26"
             ],
             [
              1,
              "#f0f921"
             ]
            ],
            "type": "heatmap"
           }
          ],
          "heatmapgl": [
           {
            "colorbar": {
             "outlinewidth": 0,
             "ticks": ""
            },
            "colorscale": [
             [
              0,
              "#0d0887"
             ],
             [
              0.1111111111111111,
              "#46039f"
             ],
             [
              0.2222222222222222,
              "#7201a8"
             ],
             [
              0.3333333333333333,
              "#9c179e"
             ],
             [
              0.4444444444444444,
              "#bd3786"
             ],
             [
              0.5555555555555556,
              "#d8576b"
             ],
             [
              0.6666666666666666,
              "#ed7953"
             ],
             [
              0.7777777777777778,
              "#fb9f3a"
             ],
             [
              0.8888888888888888,
              "#fdca26"
             ],
             [
              1,
              "#f0f921"
             ]
            ],
            "type": "heatmapgl"
           }
          ],
          "histogram": [
           {
            "marker": {
             "pattern": {
              "fillmode": "overlay",
              "size": 10,
              "solidity": 0.2
             }
            },
            "type": "histogram"
           }
          ],
          "histogram2d": [
           {
            "colorbar": {
             "outlinewidth": 0,
             "ticks": ""
            },
            "colorscale": [
             [
              0,
              "#0d0887"
             ],
             [
              0.1111111111111111,
              "#46039f"
             ],
             [
              0.2222222222222222,
              "#7201a8"
             ],
             [
              0.3333333333333333,
              "#9c179e"
             ],
             [
              0.4444444444444444,
              "#bd3786"
             ],
             [
              0.5555555555555556,
              "#d8576b"
             ],
             [
              0.6666666666666666,
              "#ed7953"
             ],
             [
              0.7777777777777778,
              "#fb9f3a"
             ],
             [
              0.8888888888888888,
              "#fdca26"
             ],
             [
              1,
              "#f0f921"
             ]
            ],
            "type": "histogram2d"
           }
          ],
          "histogram2dcontour": [
           {
            "colorbar": {
             "outlinewidth": 0,
             "ticks": ""
            },
            "colorscale": [
             [
              0,
              "#0d0887"
             ],
             [
              0.1111111111111111,
              "#46039f"
             ],
             [
              0.2222222222222222,
              "#7201a8"
             ],
             [
              0.3333333333333333,
              "#9c179e"
             ],
             [
              0.4444444444444444,
              "#bd3786"
             ],
             [
              0.5555555555555556,
              "#d8576b"
             ],
             [
              0.6666666666666666,
              "#ed7953"
             ],
             [
              0.7777777777777778,
              "#fb9f3a"
             ],
             [
              0.8888888888888888,
              "#fdca26"
             ],
             [
              1,
              "#f0f921"
             ]
            ],
            "type": "histogram2dcontour"
           }
          ],
          "mesh3d": [
           {
            "colorbar": {
             "outlinewidth": 0,
             "ticks": ""
            },
            "type": "mesh3d"
           }
          ],
          "parcoords": [
           {
            "line": {
             "colorbar": {
              "outlinewidth": 0,
              "ticks": ""
             }
            },
            "type": "parcoords"
           }
          ],
          "pie": [
           {
            "automargin": true,
            "type": "pie"
           }
          ],
          "scatter": [
           {
            "fillpattern": {
             "fillmode": "overlay",
             "size": 10,
             "solidity": 0.2
            },
            "type": "scatter"
           }
          ],
          "scatter3d": [
           {
            "line": {
             "colorbar": {
              "outlinewidth": 0,
              "ticks": ""
             }
            },
            "marker": {
             "colorbar": {
              "outlinewidth": 0,
              "ticks": ""
             }
            },
            "type": "scatter3d"
           }
          ],
          "scattercarpet": [
           {
            "marker": {
             "colorbar": {
              "outlinewidth": 0,
              "ticks": ""
             }
            },
            "type": "scattercarpet"
           }
          ],
          "scattergeo": [
           {
            "marker": {
             "colorbar": {
              "outlinewidth": 0,
              "ticks": ""
             }
            },
            "type": "scattergeo"
           }
          ],
          "scattergl": [
           {
            "marker": {
             "colorbar": {
              "outlinewidth": 0,
              "ticks": ""
             }
            },
            "type": "scattergl"
           }
          ],
          "scattermapbox": [
           {
            "marker": {
             "colorbar": {
              "outlinewidth": 0,
              "ticks": ""
             }
            },
            "type": "scattermapbox"
           }
          ],
          "scatterpolar": [
           {
            "marker": {
             "colorbar": {
              "outlinewidth": 0,
              "ticks": ""
             }
            },
            "type": "scatterpolar"
           }
          ],
          "scatterpolargl": [
           {
            "marker": {
             "colorbar": {
              "outlinewidth": 0,
              "ticks": ""
             }
            },
            "type": "scatterpolargl"
           }
          ],
          "scatterternary": [
           {
            "marker": {
             "colorbar": {
              "outlinewidth": 0,
              "ticks": ""
             }
            },
            "type": "scatterternary"
           }
          ],
          "surface": [
           {
            "colorbar": {
             "outlinewidth": 0,
             "ticks": ""
            },
            "colorscale": [
             [
              0,
              "#0d0887"
             ],
             [
              0.1111111111111111,
              "#46039f"
             ],
             [
              0.2222222222222222,
              "#7201a8"
             ],
             [
              0.3333333333333333,
              "#9c179e"
             ],
             [
              0.4444444444444444,
              "#bd3786"
             ],
             [
              0.5555555555555556,
              "#d8576b"
             ],
             [
              0.6666666666666666,
              "#ed7953"
             ],
             [
              0.7777777777777778,
              "#fb9f3a"
             ],
             [
              0.8888888888888888,
              "#fdca26"
             ],
             [
              1,
              "#f0f921"
             ]
            ],
            "type": "surface"
           }
          ],
          "table": [
           {
            "cells": {
             "fill": {
              "color": "#EBF0F8"
             },
             "line": {
              "color": "white"
             }
            },
            "header": {
             "fill": {
              "color": "#C8D4E3"
             },
             "line": {
              "color": "white"
             }
            },
            "type": "table"
           }
          ]
         },
         "layout": {
          "annotationdefaults": {
           "arrowcolor": "#2a3f5f",
           "arrowhead": 0,
           "arrowwidth": 1
          },
          "autotypenumbers": "strict",
          "coloraxis": {
           "colorbar": {
            "outlinewidth": 0,
            "ticks": ""
           }
          },
          "colorscale": {
           "diverging": [
            [
             0,
             "#8e0152"
            ],
            [
             0.1,
             "#c51b7d"
            ],
            [
             0.2,
             "#de77ae"
            ],
            [
             0.3,
             "#f1b6da"
            ],
            [
             0.4,
             "#fde0ef"
            ],
            [
             0.5,
             "#f7f7f7"
            ],
            [
             0.6,
             "#e6f5d0"
            ],
            [
             0.7,
             "#b8e186"
            ],
            [
             0.8,
             "#7fbc41"
            ],
            [
             0.9,
             "#4d9221"
            ],
            [
             1,
             "#276419"
            ]
           ],
           "sequential": [
            [
             0,
             "#0d0887"
            ],
            [
             0.1111111111111111,
             "#46039f"
            ],
            [
             0.2222222222222222,
             "#7201a8"
            ],
            [
             0.3333333333333333,
             "#9c179e"
            ],
            [
             0.4444444444444444,
             "#bd3786"
            ],
            [
             0.5555555555555556,
             "#d8576b"
            ],
            [
             0.6666666666666666,
             "#ed7953"
            ],
            [
             0.7777777777777778,
             "#fb9f3a"
            ],
            [
             0.8888888888888888,
             "#fdca26"
            ],
            [
             1,
             "#f0f921"
            ]
           ],
           "sequentialminus": [
            [
             0,
             "#0d0887"
            ],
            [
             0.1111111111111111,
             "#46039f"
            ],
            [
             0.2222222222222222,
             "#7201a8"
            ],
            [
             0.3333333333333333,
             "#9c179e"
            ],
            [
             0.4444444444444444,
             "#bd3786"
            ],
            [
             0.5555555555555556,
             "#d8576b"
            ],
            [
             0.6666666666666666,
             "#ed7953"
            ],
            [
             0.7777777777777778,
             "#fb9f3a"
            ],
            [
             0.8888888888888888,
             "#fdca26"
            ],
            [
             1,
             "#f0f921"
            ]
           ]
          },
          "colorway": [
           "#636efa",
           "#EF553B",
           "#00cc96",
           "#ab63fa",
           "#FFA15A",
           "#19d3f3",
           "#FF6692",
           "#B6E880",
           "#FF97FF",
           "#FECB52"
          ],
          "font": {
           "color": "#2a3f5f"
          },
          "geo": {
           "bgcolor": "white",
           "lakecolor": "white",
           "landcolor": "#E5ECF6",
           "showlakes": true,
           "showland": true,
           "subunitcolor": "white"
          },
          "hoverlabel": {
           "align": "left"
          },
          "hovermode": "closest",
          "mapbox": {
           "style": "light"
          },
          "paper_bgcolor": "white",
          "plot_bgcolor": "#E5ECF6",
          "polar": {
           "angularaxis": {
            "gridcolor": "white",
            "linecolor": "white",
            "ticks": ""
           },
           "bgcolor": "#E5ECF6",
           "radialaxis": {
            "gridcolor": "white",
            "linecolor": "white",
            "ticks": ""
           }
          },
          "scene": {
           "xaxis": {
            "backgroundcolor": "#E5ECF6",
            "gridcolor": "white",
            "gridwidth": 2,
            "linecolor": "white",
            "showbackground": true,
            "ticks": "",
            "zerolinecolor": "white"
           },
           "yaxis": {
            "backgroundcolor": "#E5ECF6",
            "gridcolor": "white",
            "gridwidth": 2,
            "linecolor": "white",
            "showbackground": true,
            "ticks": "",
            "zerolinecolor": "white"
           },
           "zaxis": {
            "backgroundcolor": "#E5ECF6",
            "gridcolor": "white",
            "gridwidth": 2,
            "linecolor": "white",
            "showbackground": true,
            "ticks": "",
            "zerolinecolor": "white"
           }
          },
          "shapedefaults": {
           "line": {
            "color": "#2a3f5f"
           }
          },
          "ternary": {
           "aaxis": {
            "gridcolor": "white",
            "linecolor": "white",
            "ticks": ""
           },
           "baxis": {
            "gridcolor": "white",
            "linecolor": "white",
            "ticks": ""
           },
           "bgcolor": "#E5ECF6",
           "caxis": {
            "gridcolor": "white",
            "linecolor": "white",
            "ticks": ""
           }
          },
          "title": {
           "x": 0.05
          },
          "xaxis": {
           "automargin": true,
           "gridcolor": "white",
           "linecolor": "white",
           "ticks": "",
           "title": {
            "standoff": 15
           },
           "zerolinecolor": "white",
           "zerolinewidth": 2
          },
          "yaxis": {
           "automargin": true,
           "gridcolor": "white",
           "linecolor": "white",
           "ticks": "",
           "title": {
            "standoff": 15
           },
           "zerolinecolor": "white",
           "zerolinewidth": 2
          }
         }
        },
        "title": {
         "text": "Ratio of damaged nuclei by Tissue Location and Genotype (separated by sex) - Auto stain QC - cellpdia30_sigma1_dilrad4_dnad_obj_seg_v3_gliaero6_gliathr30_dnadero2"
        },
        "xaxis": {
         "anchor": "y",
         "categoryarray": [
          "male - CA1",
          "female - CA1",
          "male - CA3",
          "female - CA3",
          "male - CTX1",
          "female - CTX1",
          "male - CTX2",
          "female - CTX2",
          "male - CTX3",
          "female - CTX3",
          "male - DG",
          "female - DG"
         ],
         "categoryorder": "array",
         "domain": [
          0,
          1
         ],
         "title": {
          "text": "sex_tissue"
         }
        },
        "yaxis": {
         "anchor": "x",
         "domain": [
          0,
          1
         ],
         "title": {
          "text": "damage_load_ratio_all_cells"
         }
        }
       }
      }
     },
     "metadata": {},
     "output_type": "display_data"
    }
   ],
   "source": [
    "plot_technical_replicates(auto_filtered_df, categories, dataset, parameters_title)"
   ]
  },
  {
   "cell_type": "markdown",
   "metadata": {},
   "source": [
    "<h2>Aggregate tissue location results and plot biological replicates</h2>"
   ]
  },
  {
   "cell_type": "code",
   "execution_count": 24,
   "metadata": {},
   "outputs": [
    {
     "name": "stdout",
     "output_type": "stream",
     "text": [
      "Rows containing the value 147 under 'animal_id' have been dropped.\n"
     ]
    },
    {
     "data": {
      "text/html": [
       "<div>\n",
       "<style scoped>\n",
       "    .dataframe tbody tr th:only-of-type {\n",
       "        vertical-align: middle;\n",
       "    }\n",
       "\n",
       "    .dataframe tbody tr th {\n",
       "        vertical-align: top;\n",
       "    }\n",
       "\n",
       "    .dataframe thead th {\n",
       "        text-align: right;\n",
       "    }\n",
       "</style>\n",
       "<table border=\"1\" class=\"dataframe\">\n",
       "  <thead>\n",
       "    <tr style=\"text-align: right;\">\n",
       "      <th></th>\n",
       "      <th>animal_id</th>\n",
       "      <th>nr_+_dna_damage_glia_nuclei</th>\n",
       "      <th>nr_+_dna_damage_all_nuclei</th>\n",
       "      <th>nr_glia_+_nuclei</th>\n",
       "      <th>nr_total_nuclei</th>\n",
       "      <th>sex</th>\n",
       "      <th>genotype</th>\n",
       "      <th>damage_load_ratio_glia_+</th>\n",
       "      <th>damage_load_ratio_total</th>\n",
       "    </tr>\n",
       "  </thead>\n",
       "  <tbody>\n",
       "    <tr>\n",
       "      <th>1</th>\n",
       "      <td>231</td>\n",
       "      <td>12</td>\n",
       "      <td>539</td>\n",
       "      <td>62</td>\n",
       "      <td>1347</td>\n",
       "      <td>male</td>\n",
       "      <td>APP/PS1 x Neil3 KO</td>\n",
       "      <td>0.193548</td>\n",
       "      <td>0.400148</td>\n",
       "    </tr>\n",
       "    <tr>\n",
       "      <th>2</th>\n",
       "      <td>253</td>\n",
       "      <td>30</td>\n",
       "      <td>815</td>\n",
       "      <td>117</td>\n",
       "      <td>1599</td>\n",
       "      <td>female</td>\n",
       "      <td>APP/PS1 x Neil3 KO</td>\n",
       "      <td>0.256410</td>\n",
       "      <td>0.509694</td>\n",
       "    </tr>\n",
       "    <tr>\n",
       "      <th>3</th>\n",
       "      <td>305</td>\n",
       "      <td>22</td>\n",
       "      <td>365</td>\n",
       "      <td>48</td>\n",
       "      <td>1007</td>\n",
       "      <td>male</td>\n",
       "      <td>APP/PS1 x Neil3 KO</td>\n",
       "      <td>0.458333</td>\n",
       "      <td>0.362463</td>\n",
       "    </tr>\n",
       "    <tr>\n",
       "      <th>4</th>\n",
       "      <td>885</td>\n",
       "      <td>52</td>\n",
       "      <td>1689</td>\n",
       "      <td>105</td>\n",
       "      <td>2902</td>\n",
       "      <td>male</td>\n",
       "      <td>APP/PS1</td>\n",
       "      <td>0.495238</td>\n",
       "      <td>0.582012</td>\n",
       "    </tr>\n",
       "    <tr>\n",
       "      <th>5</th>\n",
       "      <td>887</td>\n",
       "      <td>16</td>\n",
       "      <td>1577</td>\n",
       "      <td>68</td>\n",
       "      <td>3160</td>\n",
       "      <td>male</td>\n",
       "      <td>APP/PS1</td>\n",
       "      <td>0.235294</td>\n",
       "      <td>0.499051</td>\n",
       "    </tr>\n",
       "    <tr>\n",
       "      <th>6</th>\n",
       "      <td>892</td>\n",
       "      <td>17</td>\n",
       "      <td>1163</td>\n",
       "      <td>46</td>\n",
       "      <td>2268</td>\n",
       "      <td>female</td>\n",
       "      <td>APP/PS1</td>\n",
       "      <td>0.369565</td>\n",
       "      <td>0.512787</td>\n",
       "    </tr>\n",
       "    <tr>\n",
       "      <th>7</th>\n",
       "      <td>1887</td>\n",
       "      <td>53</td>\n",
       "      <td>1506</td>\n",
       "      <td>138</td>\n",
       "      <td>2593</td>\n",
       "      <td>male</td>\n",
       "      <td>APP/PS1 x Neil3 KO</td>\n",
       "      <td>0.384058</td>\n",
       "      <td>0.580794</td>\n",
       "    </tr>\n",
       "    <tr>\n",
       "      <th>8</th>\n",
       "      <td>1891</td>\n",
       "      <td>72</td>\n",
       "      <td>1591</td>\n",
       "      <td>126</td>\n",
       "      <td>2396</td>\n",
       "      <td>female</td>\n",
       "      <td>APP/PS1 x Neil3 KO</td>\n",
       "      <td>0.571429</td>\n",
       "      <td>0.664023</td>\n",
       "    </tr>\n",
       "    <tr>\n",
       "      <th>9</th>\n",
       "      <td>1989</td>\n",
       "      <td>22</td>\n",
       "      <td>992</td>\n",
       "      <td>50</td>\n",
       "      <td>1873</td>\n",
       "      <td>female</td>\n",
       "      <td>APP/PS1</td>\n",
       "      <td>0.440000</td>\n",
       "      <td>0.529632</td>\n",
       "    </tr>\n",
       "    <tr>\n",
       "      <th>10</th>\n",
       "      <td>1995</td>\n",
       "      <td>27</td>\n",
       "      <td>1236</td>\n",
       "      <td>99</td>\n",
       "      <td>2227</td>\n",
       "      <td>female</td>\n",
       "      <td>APP/PS1 x Neil3 KO</td>\n",
       "      <td>0.272727</td>\n",
       "      <td>0.555007</td>\n",
       "    </tr>\n",
       "    <tr>\n",
       "      <th>11</th>\n",
       "      <td>1996</td>\n",
       "      <td>26</td>\n",
       "      <td>909</td>\n",
       "      <td>40</td>\n",
       "      <td>1381</td>\n",
       "      <td>female</td>\n",
       "      <td>APP/PS1 x Neil3 KO</td>\n",
       "      <td>0.650000</td>\n",
       "      <td>0.658219</td>\n",
       "    </tr>\n",
       "    <tr>\n",
       "      <th>12</th>\n",
       "      <td>2005</td>\n",
       "      <td>22</td>\n",
       "      <td>1262</td>\n",
       "      <td>64</td>\n",
       "      <td>2241</td>\n",
       "      <td>male</td>\n",
       "      <td>APP/PS1 x Neil3 KO</td>\n",
       "      <td>0.343750</td>\n",
       "      <td>0.563141</td>\n",
       "    </tr>\n",
       "    <tr>\n",
       "      <th>13</th>\n",
       "      <td>2008</td>\n",
       "      <td>27</td>\n",
       "      <td>1487</td>\n",
       "      <td>60</td>\n",
       "      <td>2323</td>\n",
       "      <td>female</td>\n",
       "      <td>APP/PS1</td>\n",
       "      <td>0.450000</td>\n",
       "      <td>0.640121</td>\n",
       "    </tr>\n",
       "    <tr>\n",
       "      <th>14</th>\n",
       "      <td>2012</td>\n",
       "      <td>73</td>\n",
       "      <td>1717</td>\n",
       "      <td>116</td>\n",
       "      <td>2506</td>\n",
       "      <td>male</td>\n",
       "      <td>APP/PS1</td>\n",
       "      <td>0.629310</td>\n",
       "      <td>0.685156</td>\n",
       "    </tr>\n",
       "    <tr>\n",
       "      <th>15</th>\n",
       "      <td>2014</td>\n",
       "      <td>26</td>\n",
       "      <td>1134</td>\n",
       "      <td>56</td>\n",
       "      <td>2255</td>\n",
       "      <td>male</td>\n",
       "      <td>APP/PS1</td>\n",
       "      <td>0.464286</td>\n",
       "      <td>0.502882</td>\n",
       "    </tr>\n",
       "    <tr>\n",
       "      <th>16</th>\n",
       "      <td>2041</td>\n",
       "      <td>33</td>\n",
       "      <td>1536</td>\n",
       "      <td>50</td>\n",
       "      <td>2515</td>\n",
       "      <td>female</td>\n",
       "      <td>APP/PS1</td>\n",
       "      <td>0.660000</td>\n",
       "      <td>0.610736</td>\n",
       "    </tr>\n",
       "    <tr>\n",
       "      <th>17</th>\n",
       "      <td>2042</td>\n",
       "      <td>6</td>\n",
       "      <td>624</td>\n",
       "      <td>41</td>\n",
       "      <td>1360</td>\n",
       "      <td>male</td>\n",
       "      <td>APP/PS1</td>\n",
       "      <td>0.146341</td>\n",
       "      <td>0.458824</td>\n",
       "    </tr>\n",
       "    <tr>\n",
       "      <th>18</th>\n",
       "      <td>2119</td>\n",
       "      <td>29</td>\n",
       "      <td>738</td>\n",
       "      <td>83</td>\n",
       "      <td>1252</td>\n",
       "      <td>female</td>\n",
       "      <td>APP/PS1</td>\n",
       "      <td>0.349398</td>\n",
       "      <td>0.589457</td>\n",
       "    </tr>\n",
       "    <tr>\n",
       "      <th>19</th>\n",
       "      <td>2121</td>\n",
       "      <td>28</td>\n",
       "      <td>723</td>\n",
       "      <td>87</td>\n",
       "      <td>1278</td>\n",
       "      <td>male</td>\n",
       "      <td>APP/PS1</td>\n",
       "      <td>0.321839</td>\n",
       "      <td>0.565728</td>\n",
       "    </tr>\n",
       "    <tr>\n",
       "      <th>20</th>\n",
       "      <td>2122</td>\n",
       "      <td>28</td>\n",
       "      <td>841</td>\n",
       "      <td>74</td>\n",
       "      <td>1472</td>\n",
       "      <td>male</td>\n",
       "      <td>APP/PS1</td>\n",
       "      <td>0.378378</td>\n",
       "      <td>0.571332</td>\n",
       "    </tr>\n",
       "    <tr>\n",
       "      <th>21</th>\n",
       "      <td>2124</td>\n",
       "      <td>33</td>\n",
       "      <td>794</td>\n",
       "      <td>82</td>\n",
       "      <td>1313</td>\n",
       "      <td>male</td>\n",
       "      <td>APP/PS1</td>\n",
       "      <td>0.402439</td>\n",
       "      <td>0.604722</td>\n",
       "    </tr>\n",
       "    <tr>\n",
       "      <th>22</th>\n",
       "      <td>2140</td>\n",
       "      <td>28</td>\n",
       "      <td>750</td>\n",
       "      <td>77</td>\n",
       "      <td>1336</td>\n",
       "      <td>female</td>\n",
       "      <td>APP/PS1 x Neil3 KO</td>\n",
       "      <td>0.363636</td>\n",
       "      <td>0.561377</td>\n",
       "    </tr>\n",
       "    <tr>\n",
       "      <th>23</th>\n",
       "      <td>2141</td>\n",
       "      <td>21</td>\n",
       "      <td>746</td>\n",
       "      <td>63</td>\n",
       "      <td>1291</td>\n",
       "      <td>male</td>\n",
       "      <td>APP/PS1 x Neil3 KO</td>\n",
       "      <td>0.333333</td>\n",
       "      <td>0.577847</td>\n",
       "    </tr>\n",
       "    <tr>\n",
       "      <th>24</th>\n",
       "      <td>2142</td>\n",
       "      <td>17</td>\n",
       "      <td>734</td>\n",
       "      <td>65</td>\n",
       "      <td>1215</td>\n",
       "      <td>male</td>\n",
       "      <td>APP/PS1 x Neil3 KO</td>\n",
       "      <td>0.261538</td>\n",
       "      <td>0.604115</td>\n",
       "    </tr>\n",
       "    <tr>\n",
       "      <th>25</th>\n",
       "      <td>2143</td>\n",
       "      <td>27</td>\n",
       "      <td>730</td>\n",
       "      <td>64</td>\n",
       "      <td>1257</td>\n",
       "      <td>male</td>\n",
       "      <td>APP/PS1 x Neil3 KO</td>\n",
       "      <td>0.421875</td>\n",
       "      <td>0.580748</td>\n",
       "    </tr>\n",
       "  </tbody>\n",
       "</table>\n",
       "</div>"
      ],
      "text/plain": [
       "    animal_id  nr_+_dna_damage_glia_nuclei  nr_+_dna_damage_all_nuclei  \\\n",
       "1         231                           12                         539   \n",
       "2         253                           30                         815   \n",
       "3         305                           22                         365   \n",
       "4         885                           52                        1689   \n",
       "5         887                           16                        1577   \n",
       "6         892                           17                        1163   \n",
       "7        1887                           53                        1506   \n",
       "8        1891                           72                        1591   \n",
       "9        1989                           22                         992   \n",
       "10       1995                           27                        1236   \n",
       "11       1996                           26                         909   \n",
       "12       2005                           22                        1262   \n",
       "13       2008                           27                        1487   \n",
       "14       2012                           73                        1717   \n",
       "15       2014                           26                        1134   \n",
       "16       2041                           33                        1536   \n",
       "17       2042                            6                         624   \n",
       "18       2119                           29                         738   \n",
       "19       2121                           28                         723   \n",
       "20       2122                           28                         841   \n",
       "21       2124                           33                         794   \n",
       "22       2140                           28                         750   \n",
       "23       2141                           21                         746   \n",
       "24       2142                           17                         734   \n",
       "25       2143                           27                         730   \n",
       "\n",
       "    nr_glia_+_nuclei  nr_total_nuclei     sex            genotype  \\\n",
       "1                 62             1347    male  APP/PS1 x Neil3 KO   \n",
       "2                117             1599  female  APP/PS1 x Neil3 KO   \n",
       "3                 48             1007    male  APP/PS1 x Neil3 KO   \n",
       "4                105             2902    male             APP/PS1   \n",
       "5                 68             3160    male             APP/PS1   \n",
       "6                 46             2268  female             APP/PS1   \n",
       "7                138             2593    male  APP/PS1 x Neil3 KO   \n",
       "8                126             2396  female  APP/PS1 x Neil3 KO   \n",
       "9                 50             1873  female             APP/PS1   \n",
       "10                99             2227  female  APP/PS1 x Neil3 KO   \n",
       "11                40             1381  female  APP/PS1 x Neil3 KO   \n",
       "12                64             2241    male  APP/PS1 x Neil3 KO   \n",
       "13                60             2323  female             APP/PS1   \n",
       "14               116             2506    male             APP/PS1   \n",
       "15                56             2255    male             APP/PS1   \n",
       "16                50             2515  female             APP/PS1   \n",
       "17                41             1360    male             APP/PS1   \n",
       "18                83             1252  female             APP/PS1   \n",
       "19                87             1278    male             APP/PS1   \n",
       "20                74             1472    male             APP/PS1   \n",
       "21                82             1313    male             APP/PS1   \n",
       "22                77             1336  female  APP/PS1 x Neil3 KO   \n",
       "23                63             1291    male  APP/PS1 x Neil3 KO   \n",
       "24                65             1215    male  APP/PS1 x Neil3 KO   \n",
       "25                64             1257    male  APP/PS1 x Neil3 KO   \n",
       "\n",
       "    damage_load_ratio_glia_+  damage_load_ratio_total  \n",
       "1                   0.193548                 0.400148  \n",
       "2                   0.256410                 0.509694  \n",
       "3                   0.458333                 0.362463  \n",
       "4                   0.495238                 0.582012  \n",
       "5                   0.235294                 0.499051  \n",
       "6                   0.369565                 0.512787  \n",
       "7                   0.384058                 0.580794  \n",
       "8                   0.571429                 0.664023  \n",
       "9                   0.440000                 0.529632  \n",
       "10                  0.272727                 0.555007  \n",
       "11                  0.650000                 0.658219  \n",
       "12                  0.343750                 0.563141  \n",
       "13                  0.450000                 0.640121  \n",
       "14                  0.629310                 0.685156  \n",
       "15                  0.464286                 0.502882  \n",
       "16                  0.660000                 0.610736  \n",
       "17                  0.146341                 0.458824  \n",
       "18                  0.349398                 0.589457  \n",
       "19                  0.321839                 0.565728  \n",
       "20                  0.378378                 0.571332  \n",
       "21                  0.402439                 0.604722  \n",
       "22                  0.363636                 0.561377  \n",
       "23                  0.333333                 0.577847  \n",
       "24                  0.261538                 0.604115  \n",
       "25                  0.421875                 0.580748  "
      ]
     },
     "execution_count": 24,
     "metadata": {},
     "output_type": "execute_result"
    }
   ],
   "source": [
    "# Define aggregation rules for each column\n",
    "aggregations = {\n",
    "    'nr_+_dna_damage_glia_nuclei': 'sum',\n",
    "    'nr_+_dna_damage_all_nuclei': 'sum',\n",
    "    'nr_glia_+_nuclei': 'sum',\n",
    "    'nr_total_nuclei': 'sum',\n",
    "    'sex': 'first',  # 'sex' does not vary within each animal_id\n",
    "    'genotype': 'first'  # 'genotype' does not vary within each animal_id\n",
    "}\n",
    "\n",
    "# Group by 'animal_id' and apply the defined aggregation rules\n",
    "grouped = auto_filtered_df.groupby('animal_id').agg(aggregations)\n",
    "\n",
    "# Reset index to make 'animal_id' a column\n",
    "result_df = grouped.reset_index()\n",
    "\n",
    "# Calculate damage_load_ratio_glia_+\n",
    "result_df['damage_load_ratio_glia_+'] = result_df['nr_+_dna_damage_glia_nuclei'] / result_df['nr_glia_+_nuclei']\n",
    "\n",
    "# Calculate damage_load_ratio_total\n",
    "result_df['damage_load_ratio_total'] = result_df['nr_+_dna_damage_all_nuclei'] / result_df['nr_total_nuclei']\n",
    "\n",
    "# Manually drop animal_id 147 (staining not working in the astrocyte dataset)\n",
    "value = 147\n",
    "column_name = \"animal_id\"\n",
    "\n",
    "try:\n",
    "    # Check if the column exists in the DataFrame\n",
    "    if column_name in result_df.columns:\n",
    "        # Drop the rows where the column has the specified value\n",
    "        result_df = result_df[result_df[column_name] != value]\n",
    "        print(f\"Rows containing the value {value} under '{column_name}' have been dropped.\")\n",
    "    else:\n",
    "        print(f\"The column '{column_name}' does not exist in the DataFrame.\")\n",
    "        \n",
    "except Exception as e:\n",
    "    print(f\"An error occurred: {e}\")\n",
    "\n",
    "# Display the new DataFrame\n",
    "result_df"
   ]
  },
  {
   "cell_type": "code",
   "execution_count": 25,
   "metadata": {},
   "outputs": [
    {
     "data": {
      "image/png": "[encoded data removed]",
      "text/plain": [
       "<Figure size 1000x1200 with 2 Axes>"
      ]
     },
     "metadata": {},
     "output_type": "display_data"
    }
   ],
   "source": [
    "import matplotlib.pyplot as plt\n",
    "import numpy as np\n",
    "import pandas as pd\n",
    "\n",
    "# Calculate means and standard errors of the mean for each group\n",
    "grouped = result_df.groupby(['sex', 'genotype']).agg({\n",
    "    'damage_load_ratio_glia_+': ['mean', 'sem'],\n",
    "    'damage_load_ratio_total': ['mean', 'sem']\n",
    "}).reset_index()\n",
    "\n",
    "# Simplify multi-level column names resulting from aggregation\n",
    "grouped.columns = [' '.join(col).strip() for col in grouped.columns.values]\n",
    "\n",
    "# Pivoting the table for easier plotting, for both metrics\n",
    "pivot_glia = grouped.pivot(index='sex', columns='genotype', values='damage_load_ratio_glia_+ mean')\n",
    "errors_glia = grouped.pivot(index='sex', columns='genotype', values='damage_load_ratio_glia_+ sem')\n",
    "\n",
    "pivot_total = grouped.pivot(index='sex', columns='genotype', values='damage_load_ratio_total mean')\n",
    "errors_total = grouped.pivot(index='sex', columns='genotype', values='damage_load_ratio_total sem')\n",
    "\n",
    "# Define bar width and positions\n",
    "bar_width = 0.35\n",
    "index = np.arange(len(pivot_glia))\n",
    "\n",
    "# Setting figure and axes for subplots\n",
    "fig, (ax1, ax2) = plt.subplots(2, 1, figsize=(10, 12))  # Create 2 subplots vertically\n",
    "\n",
    "# Plotting the bars for damage_load_ratio_glia_+\n",
    "for i, genotype in enumerate(grouped['genotype'].unique()):\n",
    "    ax1.bar(index + i * bar_width, pivot_glia[genotype], yerr=errors_glia[genotype], \n",
    "            width=bar_width, label=genotype, capsize=5)\n",
    "\n",
    "# Plotting the bars for damage_load_ratio_total\n",
    "for i, genotype in enumerate(grouped['genotype'].unique()):\n",
    "    ax2.bar(index + i * bar_width, pivot_total[genotype], yerr=errors_total[genotype], \n",
    "            width=bar_width, label=genotype, capsize=5)\n",
    "\n",
    "# Adding individual points for damage_load_ratio_glia_+\n",
    "for i, genotype in enumerate(grouped['genotype'].unique()):\n",
    "    for sex in result_df['sex'].unique():\n",
    "        subset = result_df[(result_df['genotype'] == genotype) & (result_df['sex'] == sex)]\n",
    "        x = np.full_like(subset['damage_load_ratio_glia_+'], index[list(pivot_glia.index).index(sex)] + i * bar_width)\n",
    "        ax1.scatter(x, subset['damage_load_ratio_glia_+'], alpha=0.7)\n",
    "\n",
    "# Adding individual points for damage_load_ratio_total\n",
    "for i, genotype in enumerate(grouped['genotype'].unique()):\n",
    "    for sex in result_df['sex'].unique():\n",
    "        subset = result_df[(result_df['genotype'] == genotype) & (result_df['sex'] == sex)]\n",
    "        x = np.full_like(subset['damage_load_ratio_total'], index[list(pivot_total.index).index(sex)] + i * bar_width)\n",
    "        ax2.scatter(x, subset['damage_load_ratio_total'], alpha=0.7)\n",
    "\n",
    "# Setting labels and titles\n",
    "ax1.set_ylabel(f'Damage Load Ratio {dataset.capitalize()} +')\n",
    "ax1.set_title(f'Damage Load Ratio {dataset.capitalize()} + by Sex and Genotype')\n",
    "ax1.set_xticks(index + bar_width / 2)\n",
    "ax1.set_xticklabels(pivot_glia.index)\n",
    "ax1.legend(title=\"Genotype\")\n",
    "\n",
    "ax2.set_xlabel('Sex')\n",
    "ax2.set_ylabel('Total Damage Load Ratio')\n",
    "ax2.set_title('Total Damage Load Ratio by Sex and Genotype')\n",
    "ax2.set_xticks(index + bar_width / 2)\n",
    "ax2.set_xticklabels(pivot_total.index)\n",
    "ax2.legend(title=\"Genotype\")\n",
    "\n",
    "# Show plot\n",
    "plt.tight_layout()\n",
    "plt.show()\n"
   ]
  },
  {
   "cell_type": "markdown",
   "metadata": {},
   "source": [
    "<h2>Explore failed QC Dataframe</h2>"
   ]
  },
  {
   "cell_type": "code",
   "execution_count": 18,
   "metadata": {},
   "outputs": [
    {
     "name": "stdout",
     "output_type": "stream",
     "text": [
      "12 stains have not passed QC and have been discarded\n"
     ]
    },
    {
     "data": {
      "text/html": [
       "<div>\n",
       "<style scoped>\n",
       "    .dataframe tbody tr th:only-of-type {\n",
       "        vertical-align: middle;\n",
       "    }\n",
       "\n",
       "    .dataframe tbody tr th {\n",
       "        vertical-align: top;\n",
       "    }\n",
       "\n",
       "    .dataframe thead th {\n",
       "        text-align: right;\n",
       "    }\n",
       "</style>\n",
       "<table border=\"1\" class=\"dataframe\">\n",
       "  <thead>\n",
       "    <tr style=\"text-align: right;\">\n",
       "      <th></th>\n",
       "      <th>index</th>\n",
       "      <th>filename</th>\n",
       "      <th>avg_dna_damage_foci/glia_+</th>\n",
       "      <th>avg_dna_damage_foci/glia_+_damage_+</th>\n",
       "      <th>avg_dna_damage_foci/all_nuclei</th>\n",
       "      <th>avg_dna_damage_foci/all_nuclei_damage_+</th>\n",
       "      <th>nr_+_dna_damage_glia_nuclei</th>\n",
       "      <th>nr_+_dna_damage_all_nuclei</th>\n",
       "      <th>nr_-_dna_damage_glia_nuclei</th>\n",
       "      <th>nr_glia_+_nuclei</th>\n",
       "      <th>...</th>\n",
       "      <th>tissue_location</th>\n",
       "      <th>staining_id</th>\n",
       "      <th>animal_id</th>\n",
       "      <th>sex</th>\n",
       "      <th>genotype</th>\n",
       "      <th>dna_damage_stain_quality_manual</th>\n",
       "      <th>manual_qc</th>\n",
       "      <th>glia_stain_quality_auto</th>\n",
       "      <th>dna_damage_stain_quality_auto</th>\n",
       "      <th>staining_qc_passed</th>\n",
       "    </tr>\n",
       "  </thead>\n",
       "  <tbody>\n",
       "    <tr>\n",
       "      <th>121</th>\n",
       "      <td>121</td>\n",
       "      <td>DSB GFAP 25_40X_CA1</td>\n",
       "      <td>1.000000</td>\n",
       "      <td>1.500000</td>\n",
       "      <td>1.136000</td>\n",
       "      <td>1.510638</td>\n",
       "      <td>2</td>\n",
       "      <td>94</td>\n",
       "      <td>1</td>\n",
       "      <td>3</td>\n",
       "      <td>...</td>\n",
       "      <td>CA1</td>\n",
       "      <td>25</td>\n",
       "      <td>1996</td>\n",
       "      <td>female</td>\n",
       "      <td>APP/PS1 x Neil3 KO</td>\n",
       "      <td>good</td>\n",
       "      <td>passed</td>\n",
       "      <td>optimal</td>\n",
       "      <td>optimal</td>\n",
       "      <td>False</td>\n",
       "    </tr>\n",
       "    <tr>\n",
       "      <th>122</th>\n",
       "      <td>122</td>\n",
       "      <td>DSB GFAP 25_40X_CA3</td>\n",
       "      <td>1.500000</td>\n",
       "      <td>1.500000</td>\n",
       "      <td>1.201117</td>\n",
       "      <td>1.666667</td>\n",
       "      <td>2</td>\n",
       "      <td>129</td>\n",
       "      <td>0</td>\n",
       "      <td>2</td>\n",
       "      <td>...</td>\n",
       "      <td>CA3</td>\n",
       "      <td>25</td>\n",
       "      <td>1996</td>\n",
       "      <td>female</td>\n",
       "      <td>APP/PS1 x Neil3 KO</td>\n",
       "      <td>good</td>\n",
       "      <td>passed</td>\n",
       "      <td>optimal</td>\n",
       "      <td>optimal</td>\n",
       "      <td>False</td>\n",
       "    </tr>\n",
       "    <tr>\n",
       "      <th>123</th>\n",
       "      <td>123</td>\n",
       "      <td>DSB GFAP 25_40X_CTX1</td>\n",
       "      <td>1.000000</td>\n",
       "      <td>1.500000</td>\n",
       "      <td>0.762431</td>\n",
       "      <td>1.408163</td>\n",
       "      <td>2</td>\n",
       "      <td>98</td>\n",
       "      <td>1</td>\n",
       "      <td>3</td>\n",
       "      <td>...</td>\n",
       "      <td>CTX1</td>\n",
       "      <td>25</td>\n",
       "      <td>1996</td>\n",
       "      <td>female</td>\n",
       "      <td>APP/PS1 x Neil3 KO</td>\n",
       "      <td>good</td>\n",
       "      <td>passed</td>\n",
       "      <td>optimal</td>\n",
       "      <td>optimal</td>\n",
       "      <td>False</td>\n",
       "    </tr>\n",
       "    <tr>\n",
       "      <th>124</th>\n",
       "      <td>124</td>\n",
       "      <td>DSB GFAP 25_40X_CTX2</td>\n",
       "      <td>0.000000</td>\n",
       "      <td>NaN</td>\n",
       "      <td>0.760870</td>\n",
       "      <td>1.359223</td>\n",
       "      <td>0</td>\n",
       "      <td>103</td>\n",
       "      <td>1</td>\n",
       "      <td>1</td>\n",
       "      <td>...</td>\n",
       "      <td>CTX2</td>\n",
       "      <td>25</td>\n",
       "      <td>1996</td>\n",
       "      <td>female</td>\n",
       "      <td>APP/PS1 x Neil3 KO</td>\n",
       "      <td>good</td>\n",
       "      <td>passed</td>\n",
       "      <td>optimal</td>\n",
       "      <td>optimal</td>\n",
       "      <td>False</td>\n",
       "    </tr>\n",
       "    <tr>\n",
       "      <th>125</th>\n",
       "      <td>125</td>\n",
       "      <td>DSB GFAP 25_40X_CTX3</td>\n",
       "      <td>0.750000</td>\n",
       "      <td>1.200000</td>\n",
       "      <td>0.748201</td>\n",
       "      <td>1.368421</td>\n",
       "      <td>10</td>\n",
       "      <td>76</td>\n",
       "      <td>6</td>\n",
       "      <td>16</td>\n",
       "      <td>...</td>\n",
       "      <td>CTX3</td>\n",
       "      <td>25</td>\n",
       "      <td>1996</td>\n",
       "      <td>female</td>\n",
       "      <td>APP/PS1 x Neil3 KO</td>\n",
       "      <td>good</td>\n",
       "      <td>passed</td>\n",
       "      <td>optimal</td>\n",
       "      <td>optimal</td>\n",
       "      <td>False</td>\n",
       "    </tr>\n",
       "    <tr>\n",
       "      <th>126</th>\n",
       "      <td>126</td>\n",
       "      <td>DSB GFAP 25_40X_DG</td>\n",
       "      <td>1.000000</td>\n",
       "      <td>2.000000</td>\n",
       "      <td>1.838554</td>\n",
       "      <td>2.040107</td>\n",
       "      <td>2</td>\n",
       "      <td>374</td>\n",
       "      <td>2</td>\n",
       "      <td>4</td>\n",
       "      <td>...</td>\n",
       "      <td>DG</td>\n",
       "      <td>25</td>\n",
       "      <td>1996</td>\n",
       "      <td>female</td>\n",
       "      <td>APP/PS1 x Neil3 KO</td>\n",
       "      <td>good</td>\n",
       "      <td>passed</td>\n",
       "      <td>optimal</td>\n",
       "      <td>suboptimal</td>\n",
       "      <td>False</td>\n",
       "    </tr>\n",
       "    <tr>\n",
       "      <th>213</th>\n",
       "      <td>213</td>\n",
       "      <td>DSB GFAP 6_40X_CA1</td>\n",
       "      <td>0.444444</td>\n",
       "      <td>1.200000</td>\n",
       "      <td>0.759358</td>\n",
       "      <td>1.245614</td>\n",
       "      <td>10</td>\n",
       "      <td>114</td>\n",
       "      <td>17</td>\n",
       "      <td>27</td>\n",
       "      <td>...</td>\n",
       "      <td>CA1</td>\n",
       "      <td>6</td>\n",
       "      <td>2042</td>\n",
       "      <td>male</td>\n",
       "      <td>APP/PS1</td>\n",
       "      <td>good</td>\n",
       "      <td>passed</td>\n",
       "      <td>optimal</td>\n",
       "      <td>optimal</td>\n",
       "      <td>False</td>\n",
       "    </tr>\n",
       "    <tr>\n",
       "      <th>214</th>\n",
       "      <td>214</td>\n",
       "      <td>DSB GFAP 6_40X_CA3</td>\n",
       "      <td>0.545455</td>\n",
       "      <td>1.000000</td>\n",
       "      <td>0.819672</td>\n",
       "      <td>1.449275</td>\n",
       "      <td>6</td>\n",
       "      <td>69</td>\n",
       "      <td>5</td>\n",
       "      <td>11</td>\n",
       "      <td>...</td>\n",
       "      <td>CA3</td>\n",
       "      <td>6</td>\n",
       "      <td>2042</td>\n",
       "      <td>male</td>\n",
       "      <td>APP/PS1</td>\n",
       "      <td>good</td>\n",
       "      <td>passed</td>\n",
       "      <td>optimal</td>\n",
       "      <td>optimal</td>\n",
       "      <td>False</td>\n",
       "    </tr>\n",
       "    <tr>\n",
       "      <th>215</th>\n",
       "      <td>215</td>\n",
       "      <td>DSB GFAP 6_40X_CTX1</td>\n",
       "      <td>0.523810</td>\n",
       "      <td>1.571429</td>\n",
       "      <td>0.689655</td>\n",
       "      <td>1.212121</td>\n",
       "      <td>7</td>\n",
       "      <td>132</td>\n",
       "      <td>14</td>\n",
       "      <td>21</td>\n",
       "      <td>...</td>\n",
       "      <td>CTX1</td>\n",
       "      <td>6</td>\n",
       "      <td>2042</td>\n",
       "      <td>male</td>\n",
       "      <td>APP/PS1</td>\n",
       "      <td>good</td>\n",
       "      <td>passed</td>\n",
       "      <td>optimal</td>\n",
       "      <td>optimal</td>\n",
       "      <td>False</td>\n",
       "    </tr>\n",
       "    <tr>\n",
       "      <th>216</th>\n",
       "      <td>216</td>\n",
       "      <td>DSB GFAP 6_40X_CTX2</td>\n",
       "      <td>0.375000</td>\n",
       "      <td>1.500000</td>\n",
       "      <td>0.694581</td>\n",
       "      <td>1.330189</td>\n",
       "      <td>2</td>\n",
       "      <td>106</td>\n",
       "      <td>6</td>\n",
       "      <td>8</td>\n",
       "      <td>...</td>\n",
       "      <td>CTX2</td>\n",
       "      <td>6</td>\n",
       "      <td>2042</td>\n",
       "      <td>male</td>\n",
       "      <td>APP/PS1</td>\n",
       "      <td>good</td>\n",
       "      <td>passed</td>\n",
       "      <td>optimal</td>\n",
       "      <td>optimal</td>\n",
       "      <td>False</td>\n",
       "    </tr>\n",
       "    <tr>\n",
       "      <th>217</th>\n",
       "      <td>217</td>\n",
       "      <td>DSB GFAP 6_40X_CTX3</td>\n",
       "      <td>0.695652</td>\n",
       "      <td>1.333333</td>\n",
       "      <td>0.705179</td>\n",
       "      <td>1.427419</td>\n",
       "      <td>12</td>\n",
       "      <td>124</td>\n",
       "      <td>11</td>\n",
       "      <td>23</td>\n",
       "      <td>...</td>\n",
       "      <td>CTX3</td>\n",
       "      <td>6</td>\n",
       "      <td>2042</td>\n",
       "      <td>male</td>\n",
       "      <td>APP/PS1</td>\n",
       "      <td>good</td>\n",
       "      <td>passed</td>\n",
       "      <td>optimal</td>\n",
       "      <td>optimal</td>\n",
       "      <td>False</td>\n",
       "    </tr>\n",
       "    <tr>\n",
       "      <th>218</th>\n",
       "      <td>218</td>\n",
       "      <td>DSB GFAP 6_40X_DG</td>\n",
       "      <td>1.000000</td>\n",
       "      <td>1.333333</td>\n",
       "      <td>1.316532</td>\n",
       "      <td>1.600490</td>\n",
       "      <td>15</td>\n",
       "      <td>408</td>\n",
       "      <td>5</td>\n",
       "      <td>20</td>\n",
       "      <td>...</td>\n",
       "      <td>DG</td>\n",
       "      <td>6</td>\n",
       "      <td>2042</td>\n",
       "      <td>male</td>\n",
       "      <td>APP/PS1</td>\n",
       "      <td>good</td>\n",
       "      <td>passed</td>\n",
       "      <td>optimal</td>\n",
       "      <td>suboptimal</td>\n",
       "      <td>False</td>\n",
       "    </tr>\n",
       "  </tbody>\n",
       "</table>\n",
       "<p>12 rows × 25 columns</p>\n",
       "</div>"
      ],
      "text/plain": [
       "     index              filename  avg_dna_damage_foci/glia_+  \\\n",
       "121    121   DSB GFAP 25_40X_CA1                    1.000000   \n",
       "122    122   DSB GFAP 25_40X_CA3                    1.500000   \n",
       "123    123  DSB GFAP 25_40X_CTX1                    1.000000   \n",
       "124    124  DSB GFAP 25_40X_CTX2                    0.000000   \n",
       "125    125  DSB GFAP 25_40X_CTX3                    0.750000   \n",
       "126    126    DSB GFAP 25_40X_DG                    1.000000   \n",
       "213    213    DSB GFAP 6_40X_CA1                    0.444444   \n",
       "214    214    DSB GFAP 6_40X_CA3                    0.545455   \n",
       "215    215   DSB GFAP 6_40X_CTX1                    0.523810   \n",
       "216    216   DSB GFAP 6_40X_CTX2                    0.375000   \n",
       "217    217   DSB GFAP 6_40X_CTX3                    0.695652   \n",
       "218    218     DSB GFAP 6_40X_DG                    1.000000   \n",
       "\n",
       "     avg_dna_damage_foci/glia_+_damage_+  avg_dna_damage_foci/all_nuclei  \\\n",
       "121                             1.500000                        1.136000   \n",
       "122                             1.500000                        1.201117   \n",
       "123                             1.500000                        0.762431   \n",
       "124                                  NaN                        0.760870   \n",
       "125                             1.200000                        0.748201   \n",
       "126                             2.000000                        1.838554   \n",
       "213                             1.200000                        0.759358   \n",
       "214                             1.000000                        0.819672   \n",
       "215                             1.571429                        0.689655   \n",
       "216                             1.500000                        0.694581   \n",
       "217                             1.333333                        0.705179   \n",
       "218                             1.333333                        1.316532   \n",
       "\n",
       "     avg_dna_damage_foci/all_nuclei_damage_+  nr_+_dna_damage_glia_nuclei  \\\n",
       "121                                 1.510638                            2   \n",
       "122                                 1.666667                            2   \n",
       "123                                 1.408163                            2   \n",
       "124                                 1.359223                            0   \n",
       "125                                 1.368421                           10   \n",
       "126                                 2.040107                            2   \n",
       "213                                 1.245614                           10   \n",
       "214                                 1.449275                            6   \n",
       "215                                 1.212121                            7   \n",
       "216                                 1.330189                            2   \n",
       "217                                 1.427419                           12   \n",
       "218                                 1.600490                           15   \n",
       "\n",
       "     nr_+_dna_damage_all_nuclei  nr_-_dna_damage_glia_nuclei  \\\n",
       "121                          94                            1   \n",
       "122                         129                            0   \n",
       "123                          98                            1   \n",
       "124                         103                            1   \n",
       "125                          76                            6   \n",
       "126                         374                            2   \n",
       "213                         114                           17   \n",
       "214                          69                            5   \n",
       "215                         132                           14   \n",
       "216                         106                            6   \n",
       "217                         124                           11   \n",
       "218                         408                            5   \n",
       "\n",
       "     nr_glia_+_nuclei  ...  tissue_location  staining_id  animal_id     sex  \\\n",
       "121                 3  ...              CA1           25       1996  female   \n",
       "122                 2  ...              CA3           25       1996  female   \n",
       "123                 3  ...             CTX1           25       1996  female   \n",
       "124                 1  ...             CTX2           25       1996  female   \n",
       "125                16  ...             CTX3           25       1996  female   \n",
       "126                 4  ...               DG           25       1996  female   \n",
       "213                27  ...              CA1            6       2042    male   \n",
       "214                11  ...              CA3            6       2042    male   \n",
       "215                21  ...             CTX1            6       2042    male   \n",
       "216                 8  ...             CTX2            6       2042    male   \n",
       "217                23  ...             CTX3            6       2042    male   \n",
       "218                20  ...               DG            6       2042    male   \n",
       "\n",
       "               genotype dna_damage_stain_quality_manual  manual_qc  \\\n",
       "121  APP/PS1 x Neil3 KO                            good     passed   \n",
       "122  APP/PS1 x Neil3 KO                            good     passed   \n",
       "123  APP/PS1 x Neil3 KO                            good     passed   \n",
       "124  APP/PS1 x Neil3 KO                            good     passed   \n",
       "125  APP/PS1 x Neil3 KO                            good     passed   \n",
       "126  APP/PS1 x Neil3 KO                            good     passed   \n",
       "213             APP/PS1                            good     passed   \n",
       "214             APP/PS1                            good     passed   \n",
       "215             APP/PS1                            good     passed   \n",
       "216             APP/PS1                            good     passed   \n",
       "217             APP/PS1                            good     passed   \n",
       "218             APP/PS1                            good     passed   \n",
       "\n",
       "     glia_stain_quality_auto dna_damage_stain_quality_auto staining_qc_passed  \n",
       "121                  optimal                       optimal              False  \n",
       "122                  optimal                       optimal              False  \n",
       "123                  optimal                       optimal              False  \n",
       "124                  optimal                       optimal              False  \n",
       "125                  optimal                       optimal              False  \n",
       "126                  optimal                    suboptimal              False  \n",
       "213                  optimal                       optimal              False  \n",
       "214                  optimal                       optimal              False  \n",
       "215                  optimal                       optimal              False  \n",
       "216                  optimal                       optimal              False  \n",
       "217                  optimal                       optimal              False  \n",
       "218                  optimal                    suboptimal              False  \n",
       "\n",
       "[12 rows x 25 columns]"
      ]
     },
     "execution_count": 18,
     "metadata": {},
     "output_type": "execute_result"
    }
   ],
   "source": [
    "qc_failed_df = merged_df[merged_df['staining_qc_passed'] == False]\n",
    "\n",
    "print(f\"{qc_failed_df.shape[0]} stains have not passed QC and have been discarded\")\n",
    "\n",
    "qc_failed_df\n"
   ]
  }
 ],
 "metadata": {
  "kernelspec": {
   "display_name": "microglia",
   "language": "python",
   "name": "python3"
  },
  "language_info": {
   "codemirror_mode": {
    "name": "ipython",
    "version": 3
   },
   "file_extension": ".py",
   "mimetype": "text/x-python",
   "name": "python",
   "nbconvert_exporter": "python",
   "pygments_lexer": "ipython3",
   "version": "3.9.19"
  }
 },
 "nbformat": 4,
 "nbformat_minor": 2
}
