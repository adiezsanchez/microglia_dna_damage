{
 "cells": [
  {
   "cell_type": "markdown",
   "metadata": {},
   "source": [
    "<h2>Imports</h2>"
   ]
  },
  {
   "cell_type": "code",
   "execution_count": 28,
   "metadata": {},
   "outputs": [],
   "source": [
    "from utils import read_results_csv, extract_analysis_parameters, show_exploratory_data, qc_filter_dataset, plot_technical_replicates"
   ]
  },
  {
   "cell_type": "markdown",
   "metadata": {},
   "source": [
    "<h2>Data analysis input</h2>"
   ]
  },
  {
   "cell_type": "code",
   "execution_count": 29,
   "metadata": {},
   "outputs": [
    {
     "name": "stdout",
     "output_type": "stream",
     "text": [
      "The following dataset will be analyzed: microglia\n",
      "Cellpose nuclei diameter: 30\n",
      "Gaussian sigma: 1\n",
      "Dilation radius nuclei: 4\n",
      "Dna damage segmenter version: 1\n",
      "Glia erosion: 6\n",
      "Glia threshold: 20\n",
      "Glia semantic segmentation version: None\n",
      "DNA damage foci erosion: 2\n"
     ]
    },
    {
     "data": {
      "text/html": [
       "<div>\n",
       "<style scoped>\n",
       "    .dataframe tbody tr th:only-of-type {\n",
       "        vertical-align: middle;\n",
       "    }\n",
       "\n",
       "    .dataframe tbody tr th {\n",
       "        vertical-align: top;\n",
       "    }\n",
       "\n",
       "    .dataframe thead th {\n",
       "        text-align: right;\n",
       "    }\n",
       "</style>\n",
       "<table border=\"1\" class=\"dataframe\">\n",
       "  <thead>\n",
       "    <tr style=\"text-align: right;\">\n",
       "      <th></th>\n",
       "      <th>index</th>\n",
       "      <th>filename</th>\n",
       "      <th>avg_dna_damage_foci/glia_+</th>\n",
       "      <th>avg_dna_damage_foci/glia_+_damage_+</th>\n",
       "      <th>avg_dna_damage_foci/all_nuclei</th>\n",
       "      <th>avg_dna_damage_foci/all_nuclei_damage_+</th>\n",
       "      <th>nr_+_dna_damage_glia_nuclei</th>\n",
       "      <th>nr_+_dna_damage_all_nuclei</th>\n",
       "      <th>nr_-_dna_damage_glia_nuclei</th>\n",
       "      <th>nr_glia_+_nuclei</th>\n",
       "      <th>...</th>\n",
       "      <th>%_glia+_signal</th>\n",
       "      <th>damage_load_ratio_glia_+_cells</th>\n",
       "      <th>damage_load_ratio_all_cells</th>\n",
       "      <th>tissue_location</th>\n",
       "      <th>staining_id</th>\n",
       "      <th>animal_id</th>\n",
       "      <th>sex</th>\n",
       "      <th>genotype</th>\n",
       "      <th>dna_damage_stain_quality_manual</th>\n",
       "      <th>manual_qc</th>\n",
       "    </tr>\n",
       "  </thead>\n",
       "  <tbody>\n",
       "    <tr>\n",
       "      <th>0</th>\n",
       "      <td>0</td>\n",
       "      <td>DSB Iba1 101_40X_CA1</td>\n",
       "      <td>1.000000</td>\n",
       "      <td>1.333333</td>\n",
       "      <td>0.573333</td>\n",
       "      <td>1.409836</td>\n",
       "      <td>9</td>\n",
       "      <td>61</td>\n",
       "      <td>3</td>\n",
       "      <td>12</td>\n",
       "      <td>...</td>\n",
       "      <td>1.677990</td>\n",
       "      <td>0.750000</td>\n",
       "      <td>0.406667</td>\n",
       "      <td>CA1</td>\n",
       "      <td>101</td>\n",
       "      <td>2119</td>\n",
       "      <td>female</td>\n",
       "      <td>APP/PS1</td>\n",
       "      <td>good</td>\n",
       "      <td>passed</td>\n",
       "    </tr>\n",
       "    <tr>\n",
       "      <th>1</th>\n",
       "      <td>1</td>\n",
       "      <td>DSB Iba1 101_40X_CA3</td>\n",
       "      <td>0.777778</td>\n",
       "      <td>1.000000</td>\n",
       "      <td>0.934959</td>\n",
       "      <td>1.513158</td>\n",
       "      <td>7</td>\n",
       "      <td>76</td>\n",
       "      <td>2</td>\n",
       "      <td>9</td>\n",
       "      <td>...</td>\n",
       "      <td>2.135658</td>\n",
       "      <td>0.777778</td>\n",
       "      <td>0.617886</td>\n",
       "      <td>CA3</td>\n",
       "      <td>101</td>\n",
       "      <td>2119</td>\n",
       "      <td>female</td>\n",
       "      <td>APP/PS1</td>\n",
       "      <td>good</td>\n",
       "      <td>passed</td>\n",
       "    </tr>\n",
       "    <tr>\n",
       "      <th>2</th>\n",
       "      <td>2</td>\n",
       "      <td>DSB Iba1 101_40X_CTX1</td>\n",
       "      <td>1.100000</td>\n",
       "      <td>1.375000</td>\n",
       "      <td>0.958084</td>\n",
       "      <td>1.415929</td>\n",
       "      <td>24</td>\n",
       "      <td>113</td>\n",
       "      <td>6</td>\n",
       "      <td>30</td>\n",
       "      <td>...</td>\n",
       "      <td>5.073738</td>\n",
       "      <td>0.800000</td>\n",
       "      <td>0.676647</td>\n",
       "      <td>CTX1</td>\n",
       "      <td>101</td>\n",
       "      <td>2119</td>\n",
       "      <td>female</td>\n",
       "      <td>APP/PS1</td>\n",
       "      <td>good</td>\n",
       "      <td>passed</td>\n",
       "    </tr>\n",
       "    <tr>\n",
       "      <th>3</th>\n",
       "      <td>3</td>\n",
       "      <td>DSB Iba1 101_40X_CTX2</td>\n",
       "      <td>1.363636</td>\n",
       "      <td>1.666667</td>\n",
       "      <td>0.898374</td>\n",
       "      <td>1.407643</td>\n",
       "      <td>9</td>\n",
       "      <td>157</td>\n",
       "      <td>2</td>\n",
       "      <td>11</td>\n",
       "      <td>...</td>\n",
       "      <td>5.266762</td>\n",
       "      <td>0.818182</td>\n",
       "      <td>0.638211</td>\n",
       "      <td>CTX2</td>\n",
       "      <td>101</td>\n",
       "      <td>2119</td>\n",
       "      <td>female</td>\n",
       "      <td>APP/PS1</td>\n",
       "      <td>good</td>\n",
       "      <td>passed</td>\n",
       "    </tr>\n",
       "    <tr>\n",
       "      <th>4</th>\n",
       "      <td>4</td>\n",
       "      <td>DSB Iba1 101_40X_CTX3</td>\n",
       "      <td>0.533333</td>\n",
       "      <td>1.333333</td>\n",
       "      <td>0.759657</td>\n",
       "      <td>1.301471</td>\n",
       "      <td>6</td>\n",
       "      <td>136</td>\n",
       "      <td>9</td>\n",
       "      <td>15</td>\n",
       "      <td>...</td>\n",
       "      <td>3.178596</td>\n",
       "      <td>0.400000</td>\n",
       "      <td>0.583691</td>\n",
       "      <td>CTX3</td>\n",
       "      <td>101</td>\n",
       "      <td>2119</td>\n",
       "      <td>female</td>\n",
       "      <td>APP/PS1</td>\n",
       "      <td>good</td>\n",
       "      <td>passed</td>\n",
       "    </tr>\n",
       "  </tbody>\n",
       "</table>\n",
       "<p>5 rows × 22 columns</p>\n",
       "</div>"
      ],
      "text/plain": [
       "   index               filename  avg_dna_damage_foci/glia_+  \\\n",
       "0      0   DSB Iba1 101_40X_CA1                    1.000000   \n",
       "1      1   DSB Iba1 101_40X_CA3                    0.777778   \n",
       "2      2  DSB Iba1 101_40X_CTX1                    1.100000   \n",
       "3      3  DSB Iba1 101_40X_CTX2                    1.363636   \n",
       "4      4  DSB Iba1 101_40X_CTX3                    0.533333   \n",
       "\n",
       "   avg_dna_damage_foci/glia_+_damage_+  avg_dna_damage_foci/all_nuclei  \\\n",
       "0                             1.333333                        0.573333   \n",
       "1                             1.000000                        0.934959   \n",
       "2                             1.375000                        0.958084   \n",
       "3                             1.666667                        0.898374   \n",
       "4                             1.333333                        0.759657   \n",
       "\n",
       "   avg_dna_damage_foci/all_nuclei_damage_+  nr_+_dna_damage_glia_nuclei  \\\n",
       "0                                 1.409836                            9   \n",
       "1                                 1.513158                            7   \n",
       "2                                 1.415929                           24   \n",
       "3                                 1.407643                            9   \n",
       "4                                 1.301471                            6   \n",
       "\n",
       "   nr_+_dna_damage_all_nuclei  nr_-_dna_damage_glia_nuclei  nr_glia_+_nuclei  \\\n",
       "0                          61                            3                12   \n",
       "1                          76                            2                 9   \n",
       "2                         113                            6                30   \n",
       "3                         157                            2                11   \n",
       "4                         136                            9                15   \n",
       "\n",
       "   ...  %_glia+_signal  damage_load_ratio_glia_+_cells  \\\n",
       "0  ...        1.677990                        0.750000   \n",
       "1  ...        2.135658                        0.777778   \n",
       "2  ...        5.073738                        0.800000   \n",
       "3  ...        5.266762                        0.818182   \n",
       "4  ...        3.178596                        0.400000   \n",
       "\n",
       "   damage_load_ratio_all_cells  tissue_location  staining_id animal_id  \\\n",
       "0                     0.406667              CA1          101      2119   \n",
       "1                     0.617886              CA3          101      2119   \n",
       "2                     0.676647             CTX1          101      2119   \n",
       "3                     0.638211             CTX2          101      2119   \n",
       "4                     0.583691             CTX3          101      2119   \n",
       "\n",
       "      sex  genotype dna_damage_stain_quality_manual manual_qc  \n",
       "0  female   APP/PS1                            good    passed  \n",
       "1  female   APP/PS1                            good    passed  \n",
       "2  female   APP/PS1                            good    passed  \n",
       "3  female   APP/PS1                            good    passed  \n",
       "4  female   APP/PS1                            good    passed  \n",
       "\n",
       "[5 rows x 22 columns]"
      ]
     },
     "execution_count": 29,
     "metadata": {},
     "output_type": "execute_result"
    }
   ],
   "source": [
    "# Define the dataset results that you want to analyze below (\"microglia\" or \"astrocyte\")\n",
    "dataset = \"microglia\"\n",
    "\n",
    "# Define the .csv results you want to explore and quality check\n",
    "csv_path = \"./results/microglia_results_cellpdia30_sigma1_dilrad4_dnad_obj_seg_v1_gliaero6_gliathr20_dnadero2.csv\"\n",
    "\n",
    "# Read both results and mouse_id .csv files and load them into a Dataframe \n",
    "df, df_mouse_id, merged_df = read_results_csv(dataset, csv_path)\n",
    "\n",
    "# Print the analysis settings and extract them into variables\n",
    "cellpose_nuclei_diameter, gaussian_sigma, dilation_radius_nuclei, dna_damage_segmenter_version, glia_nuclei_colocalization_erosion, glia_channel_threshold, glia_segmenter, glia_segmenter_version, dna_damage_erosion, parameters_title = extract_analysis_parameters(csv_path)\n",
    "\n",
    "# Display the first few rows of the DataFrame\n",
    "merged_df.head()\n"
   ]
  },
  {
   "cell_type": "markdown",
   "metadata": {},
   "source": [
    "<h2>Initial data exploration</h2>"
   ]
  },
  {
   "cell_type": "code",
   "execution_count": 30,
   "metadata": {},
   "outputs": [
    {
     "data": {
      "application/vnd.plotly.v1+json": {
       "config": {
        "plotlyServerURL": "https://plot.ly"
       },
       "data": [
        {
         "customdata": [
          [
           101,
           0,
           "DSB Iba1 101_40X_CA1"
          ],
          [
           101,
           1,
           "DSB Iba1 101_40X_CA3"
          ],
          [
           101,
           2,
           "DSB Iba1 101_40X_CTX1"
          ],
          [
           101,
           3,
           "DSB Iba1 101_40X_CTX2"
          ],
          [
           101,
           4,
           "DSB Iba1 101_40X_CTX3"
          ],
          [
           101,
           5,
           "DSB Iba1 101_40X_DG"
          ],
          [
           102,
           6,
           "DSB Iba1 102_40X_CA1"
          ],
          [
           102,
           7,
           "DSB Iba1 102_40X_CA3"
          ],
          [
           102,
           8,
           "DSB Iba1 102_40X_CTX1"
          ],
          [
           102,
           9,
           "DSB Iba1 102_40X_CTX2"
          ],
          [
           102,
           10,
           "DSB Iba1 102_40X_CTX3"
          ],
          [
           102,
           11,
           "DSB Iba1 102_40X_DG"
          ],
          [
           103,
           12,
           "DSB Iba1 103_40X_CA1"
          ],
          [
           103,
           13,
           "DSB Iba1 103_40X_CA3"
          ],
          [
           103,
           14,
           "DSB Iba1 103_40X_CTX1"
          ],
          [
           103,
           15,
           "DSB Iba1 103_40X_CTX2"
          ],
          [
           103,
           16,
           "DSB Iba1 103_40X_CTX3"
          ],
          [
           103,
           17,
           "DSB Iba1 103_40X_DG"
          ],
          [
           104,
           18,
           "DSB Iba1 104_40X_CA1"
          ],
          [
           104,
           19,
           "DSB Iba1 104_40X_CA3"
          ],
          [
           104,
           20,
           "DSB Iba1 104_40X_CTX1"
          ],
          [
           104,
           21,
           "DSB Iba1 104_40X_CTX2"
          ],
          [
           104,
           22,
           "DSB Iba1 104_40X_CTX3"
          ],
          [
           104,
           23,
           "DSB Iba1 104_40X_DG"
          ],
          [
           105,
           24,
           "DSB Iba1 105_40X_CA1"
          ],
          [
           105,
           25,
           "DSB Iba1 105_40X_CA3"
          ],
          [
           105,
           26,
           "DSB Iba1 105_40X_CTX1"
          ],
          [
           105,
           27,
           "DSB Iba1 105_40X_CTX2"
          ],
          [
           105,
           28,
           "DSB Iba1 105_40X_CTX3"
          ],
          [
           106,
           29,
           "DSB Iba1 106_40X_CA1"
          ],
          [
           106,
           30,
           "DSB Iba1 106_40X_CA3"
          ],
          [
           106,
           31,
           "DSB Iba1 106_40X_CTX1"
          ],
          [
           106,
           32,
           "DSB Iba1 106_40X_CTX2"
          ],
          [
           106,
           33,
           "DSB Iba1 106_40X_CTX3"
          ],
          [
           106,
           34,
           "DSB Iba1 106_40X_DG"
          ],
          [
           107,
           35,
           "DSB Iba1 107_40X_CA1"
          ],
          [
           107,
           36,
           "DSB Iba1 107_40X_CA3"
          ],
          [
           107,
           37,
           "DSB Iba1 107_40X_CTX1"
          ],
          [
           107,
           38,
           "DSB Iba1 107_40X_CTX2"
          ],
          [
           107,
           39,
           "DSB Iba1 107_40X_CTX3"
          ],
          [
           107,
           40,
           "DSB Iba1 107_40X_DG"
          ],
          [
           108,
           41,
           "DSB Iba1 108_40X_CA1"
          ],
          [
           108,
           42,
           "DSB Iba1 108_40X_CA3"
          ],
          [
           108,
           43,
           "DSB Iba1 108_40X_CTX1"
          ],
          [
           108,
           44,
           "DSB Iba1 108_40X_CTX2"
          ],
          [
           108,
           45,
           "DSB Iba1 108_40X_CTX3"
          ],
          [
           108,
           46,
           "DSB Iba1 108_40X_DG"
          ],
          [
           20,
           47,
           "DSB Iba1 20_40X_CA1"
          ],
          [
           20,
           48,
           "DSB Iba1 20_40X_CA3"
          ],
          [
           20,
           49,
           "DSB Iba1 20_40X_CTX1"
          ],
          [
           20,
           50,
           "DSB Iba1 20_40X_CTX2"
          ],
          [
           20,
           51,
           "DSB Iba1 20_40X_CTX3"
          ],
          [
           20,
           52,
           "DSB Iba1 20_40X_DG"
          ],
          [
           21,
           53,
           "DSB Iba1 21_40X_CA1"
          ],
          [
           21,
           54,
           "DSB Iba1 21_40X_CA3"
          ],
          [
           21,
           55,
           "DSB Iba1 21_40X_CTX1"
          ],
          [
           21,
           56,
           "DSB Iba1 21_40X_CTX2"
          ],
          [
           21,
           57,
           "DSB Iba1 21_40X_CTX3"
          ],
          [
           21,
           58,
           "DSB Iba1 21_40X_DG"
          ],
          [
           22,
           59,
           "DSB Iba1 22_40X_CA1"
          ],
          [
           22,
           60,
           "DSB Iba1 22_40X_CA3"
          ],
          [
           22,
           61,
           "DSB Iba1 22_40X_CTX1"
          ],
          [
           22,
           62,
           "DSB Iba1 22_40X_CTX2"
          ],
          [
           22,
           63,
           "DSB Iba1 22_40X_CTX3"
          ],
          [
           22,
           64,
           "DSB Iba1 22_40X_DG"
          ],
          [
           23,
           65,
           "DSB Iba1 23_40X_CA1"
          ],
          [
           23,
           66,
           "DSB Iba1 23_40X_CA3"
          ],
          [
           23,
           67,
           "DSB Iba1 23_40X_CTX1"
          ],
          [
           23,
           68,
           "DSB Iba1 23_40X_CTX2"
          ],
          [
           23,
           69,
           "DSB Iba1 23_40X_CTX3"
          ],
          [
           23,
           70,
           "DSB Iba1 23_40X_DG"
          ],
          [
           25,
           71,
           "DSB Iba1 25_40X_CA1"
          ],
          [
           25,
           72,
           "DSB Iba1 25_40X_CA3"
          ],
          [
           25,
           73,
           "DSB Iba1 25_40X_CTX1"
          ],
          [
           25,
           74,
           "DSB Iba1 25_40X_CTX2"
          ],
          [
           25,
           75,
           "DSB Iba1 25_40X_CTX3"
          ],
          [
           25,
           76,
           "DSB Iba1 25_40X_DG"
          ],
          [
           28,
           77,
           "DSB Iba1 28_40X_CA1"
          ],
          [
           28,
           78,
           "DSB Iba1 28_40X_CA3"
          ],
          [
           28,
           79,
           "DSB Iba1 28_40X_CTX1"
          ],
          [
           28,
           80,
           "DSB Iba1 28_40X_CTX2"
          ],
          [
           28,
           81,
           "DSB Iba1 28_40X_CTX3"
          ],
          [
           28,
           82,
           "DSB Iba1 28_40X_DG"
          ],
          [
           29,
           83,
           "DSB Iba1 29_40X_CA1"
          ],
          [
           29,
           84,
           "DSB Iba1 29_40X_CA3"
          ],
          [
           29,
           85,
           "DSB Iba1 29_40X_CTX1"
          ],
          [
           29,
           86,
           "DSB Iba1 29_40X_CTX2"
          ],
          [
           29,
           87,
           "DSB Iba1 29_40X_CTX3"
          ],
          [
           29,
           88,
           "DSB Iba1 29_40X_DG"
          ],
          [
           30,
           89,
           "DSB Iba1 30_40X_CA1"
          ],
          [
           30,
           90,
           "DSB Iba1 30_40X_CA3"
          ],
          [
           30,
           91,
           "DSB Iba1 30_40X_CTX1"
          ],
          [
           30,
           92,
           "DSB Iba1 30_40X_CTX2"
          ],
          [
           30,
           93,
           "DSB Iba1 30_40X_CTX3"
          ],
          [
           30,
           94,
           "DSB Iba1 30_40X_DG"
          ],
          [
           31,
           95,
           "DSB Iba1 31_40X_CA1"
          ],
          [
           31,
           96,
           "DSB Iba1 31_40X_CA3"
          ],
          [
           31,
           97,
           "DSB Iba1 31_40X_CTX1"
          ],
          [
           31,
           98,
           "DSB Iba1 31_40X_CTX2"
          ],
          [
           31,
           99,
           "DSB Iba1 31_40X_CTX3"
          ],
          [
           31,
           100,
           "DSB Iba1 31_40X_DG"
          ],
          [
           33,
           101,
           "DSB Iba1 33_40X_CA1"
          ],
          [
           33,
           102,
           "DSB Iba1 33_40X_CA3"
          ],
          [
           33,
           103,
           "DSB Iba1 33_40X_CTX1"
          ],
          [
           33,
           104,
           "DSB Iba1 33_40X_CTX2"
          ],
          [
           33,
           105,
           "DSB Iba1 33_40X_CTX3"
          ],
          [
           33,
           106,
           "DSB Iba1 33_40X_DG"
          ],
          [
           36,
           107,
           "DSB Iba1 36_40X_CA1"
          ],
          [
           36,
           108,
           "DSB Iba1 36_40X_CA3"
          ],
          [
           36,
           109,
           "DSB Iba1 36_40X_CTX1"
          ],
          [
           36,
           110,
           "DSB Iba1 36_40X_CTX2"
          ],
          [
           36,
           111,
           "DSB Iba1 36_40X_CTX3"
          ],
          [
           36,
           112,
           "DSB Iba1 36_40X_DG"
          ],
          [
           39,
           113,
           "DSB Iba1 39_40X_CA1"
          ],
          [
           39,
           114,
           "DSB Iba1 39_40X_CA3"
          ],
          [
           39,
           115,
           "DSB Iba1 39_40X_CTX1"
          ],
          [
           39,
           116,
           "DSB Iba1 39_40X_CTX2"
          ],
          [
           39,
           117,
           "DSB Iba1 39_40X_CTX3"
          ],
          [
           39,
           118,
           "DSB Iba1 39_40X_DG"
          ],
          [
           40,
           119,
           "DSB Iba1 40_40X_CA1"
          ],
          [
           40,
           120,
           "DSB Iba1 40_40X_CA3"
          ],
          [
           40,
           121,
           "DSB Iba1 40_40X_CTX1"
          ],
          [
           40,
           122,
           "DSB Iba1 40_40X_CTX2"
          ],
          [
           40,
           123,
           "DSB Iba1 40_40X_CTX3"
          ],
          [
           40,
           124,
           "DSB Iba1 40_40X_DG"
          ],
          [
           41,
           125,
           "DSB Iba1 41_40X_CA1"
          ],
          [
           41,
           126,
           "DSB Iba1 41_40X_CA3"
          ],
          [
           41,
           127,
           "DSB Iba1 41_40X_CTX1"
          ],
          [
           41,
           128,
           "DSB Iba1 41_40X_CTX2"
          ],
          [
           41,
           129,
           "DSB Iba1 41_40X_CTX3"
          ],
          [
           41,
           130,
           "DSB Iba1 41_40X_DG"
          ],
          [
           42,
           131,
           "DSB Iba1 42_40X_CA1"
          ],
          [
           42,
           132,
           "DSB Iba1 42_40X_CA3"
          ],
          [
           42,
           133,
           "DSB Iba1 42_40X_CTX1"
          ],
          [
           42,
           134,
           "DSB Iba1 42_40X_CTX2"
          ],
          [
           42,
           135,
           "DSB Iba1 42_40X_CTX3"
          ],
          [
           42,
           136,
           "DSB Iba1 42_40X_DG"
          ],
          [
           43,
           137,
           "DSB Iba1 43_40X_CA1"
          ],
          [
           43,
           138,
           "DSB Iba1 43_40X_CA3"
          ],
          [
           43,
           139,
           "DSB Iba1 43_40X_CTX1"
          ],
          [
           43,
           140,
           "DSB Iba1 43_40X_CTX2"
          ],
          [
           43,
           141,
           "DSB Iba1 43_40X_CTX3"
          ],
          [
           43,
           142,
           "DSB Iba1 43_40X_DG"
          ],
          [
           45,
           143,
           "DSB Iba1 45_40X_CA1"
          ],
          [
           45,
           144,
           "DSB Iba1 45_40X_CA3"
          ],
          [
           45,
           145,
           "DSB Iba1 45_40X_CTX1"
          ],
          [
           45,
           146,
           "DSB Iba1 45_40X_CTX2"
          ],
          [
           45,
           147,
           "DSB Iba1 45_40X_CTX3"
          ],
          [
           45,
           148,
           "DSB Iba1 45_40X_DG"
          ],
          [
           48,
           149,
           "DSB Iba1 48_40X_CA1"
          ],
          [
           48,
           150,
           "DSB Iba1 48_40X_CA3"
          ],
          [
           48,
           151,
           "DSB Iba1 48_40X_CTX1"
          ],
          [
           48,
           152,
           "DSB Iba1 48_40X_CTX2"
          ],
          [
           48,
           153,
           "DSB Iba1 48_40X_CTX3"
          ],
          [
           48,
           154,
           "DSB Iba1 48_40X_DG"
          ],
          [
           50,
           155,
           "DSB Iba1 50_40X_CA1"
          ],
          [
           50,
           156,
           "DSB Iba1 50_40X_CA3"
          ],
          [
           50,
           157,
           "DSB Iba1 50_40X_CTX1"
          ],
          [
           50,
           158,
           "DSB Iba1 50_40X_CTX2"
          ],
          [
           50,
           159,
           "DSB Iba1 50_40X_CTX3"
          ],
          [
           50,
           160,
           "DSB Iba1 50_40X_DG"
          ],
          [
           51,
           161,
           "DSB Iba1 51_40X_CA1"
          ],
          [
           51,
           162,
           "DSB Iba1 51_40X_CA3"
          ],
          [
           51,
           163,
           "DSB Iba1 51_40X_CTX1"
          ],
          [
           51,
           164,
           "DSB Iba1 51_40X_CTX2"
          ],
          [
           51,
           165,
           "DSB Iba1 51_40X_CTX3"
          ],
          [
           51,
           166,
           "DSB Iba1 51_40X_DG"
          ],
          [
           52,
           167,
           "DSB Iba1 52_40X_CA1"
          ],
          [
           52,
           168,
           "DSB Iba1 52_40X_CA3"
          ],
          [
           52,
           169,
           "DSB Iba1 52_40X_CTX1"
          ],
          [
           52,
           170,
           "DSB Iba1 52_40X_CTX2"
          ],
          [
           52,
           171,
           "DSB Iba1 52_40X_CTX3"
          ],
          [
           52,
           172,
           "DSB Iba1 52_40X_DG"
          ],
          [
           54,
           173,
           "DSB Iba1 54_40X_CA1"
          ],
          [
           54,
           174,
           "DSB Iba1 54_40X_CA3"
          ],
          [
           54,
           175,
           "DSB Iba1 54_40X_CTX1"
          ],
          [
           54,
           176,
           "DSB Iba1 54_40X_CTX2"
          ],
          [
           54,
           177,
           "DSB Iba1 54_40X_CTX3"
          ],
          [
           54,
           178,
           "DSB Iba1 54_40X_DG"
          ],
          [
           55,
           179,
           "DSB Iba1 55_40X_CA1"
          ],
          [
           55,
           180,
           "DSB Iba1 55_40X_CA3"
          ],
          [
           55,
           181,
           "DSB Iba1 55_40X_CTX1"
          ],
          [
           55,
           182,
           "DSB Iba1 55_40X_CTX2"
          ],
          [
           55,
           183,
           "DSB Iba1 55_40X_CTX3"
          ],
          [
           55,
           184,
           "DSB Iba1 55_40X_DG"
          ],
          [
           56,
           185,
           "DSB Iba1 56_40X_CA1"
          ],
          [
           56,
           186,
           "DSB Iba1 56_40X_CA3"
          ],
          [
           56,
           187,
           "DSB Iba1 56_40X_CTX1"
          ],
          [
           56,
           188,
           "DSB Iba1 56_40X_CTX2"
          ],
          [
           56,
           189,
           "DSB Iba1 56_40X_CTX3"
          ],
          [
           56,
           190,
           "DSB Iba1 56_40X_DG"
          ],
          [
           58,
           191,
           "DSB Iba1 58_40X_CA1"
          ],
          [
           58,
           192,
           "DSB Iba1 58_40X_CA3"
          ],
          [
           58,
           193,
           "DSB Iba1 58_40X_CTX1"
          ],
          [
           58,
           194,
           "DSB Iba1 58_40X_CTX2"
          ],
          [
           58,
           195,
           "DSB Iba1 58_40X_CTX3"
          ],
          [
           58,
           196,
           "DSB Iba1 58_40X_DG"
          ],
          [
           59,
           197,
           "DSB Iba1 59_40X_CA1"
          ],
          [
           59,
           198,
           "DSB Iba1 59_40X_CA3"
          ],
          [
           59,
           199,
           "DSB Iba1 59_40X_CTX1"
          ],
          [
           59,
           200,
           "DSB Iba1 59_40X_CTX2"
          ],
          [
           59,
           201,
           "DSB Iba1 59_40X_CTX3"
          ],
          [
           59,
           202,
           "DSB Iba1 59_40X_DG"
          ]
         ],
         "hovertemplate": "tissue_location=%{x}<br>nr_+_dna_damage_glia_nuclei=%{y}<br>staining_id=%{customdata[0]}<br>index=%{customdata[1]}<br>filename=%{customdata[2]}<extra></extra>",
         "legendgroup": "",
         "marker": {
          "color": "#636efa",
          "symbol": "circle"
         },
         "mode": "markers",
         "name": "",
         "orientation": "v",
         "showlegend": false,
         "type": "scatter",
         "x": [
          "CA1",
          "CA3",
          "CTX1",
          "CTX2",
          "CTX3",
          "DG",
          "CA1",
          "CA3",
          "CTX1",
          "CTX2",
          "CTX3",
          "DG",
          "CA1",
          "CA3",
          "CTX1",
          "CTX2",
          "CTX3",
          "DG",
          "CA1",
          "CA3",
          "CTX1",
          "CTX2",
          "CTX3",
          "DG",
          "CA1",
          "CA3",
          "CTX1",
          "CTX2",
          "CTX3",
          "CA1",
          "CA3",
          "CTX1",
          "CTX2",
          "CTX3",
          "DG",
          "CA1",
          "CA3",
          "CTX1",
          "CTX2",
          "CTX3",
          "DG",
          "CA1",
          "CA3",
          "CTX1",
          "CTX2",
          "CTX3",
          "DG",
          "CA1",
          "CA3",
          "CTX1",
          "CTX2",
          "CTX3",
          "DG",
          "CA1",
          "CA3",
          "CTX1",
          "CTX2",
          "CTX3",
          "DG",
          "CA1",
          "CA3",
          "CTX1",
          "CTX2",
          "CTX3",
          "DG",
          "CA1",
          "CA3",
          "CTX1",
          "CTX2",
          "CTX3",
          "DG",
          "CA1",
          "CA3",
          "CTX1",
          "CTX2",
          "CTX3",
          "DG",
          "CA1",
          "CA3",
          "CTX1",
          "CTX2",
          "CTX3",
          "DG",
          "CA1",
          "CA3",
          "CTX1",
          "CTX2",
          "CTX3",
          "DG",
          "CA1",
          "CA3",
          "CTX1",
          "CTX2",
          "CTX3",
          "DG",
          "CA1",
          "CA3",
          "CTX1",
          "CTX2",
          "CTX3",
          "DG",
          "CA1",
          "CA3",
          "CTX1",
          "CTX2",
          "CTX3",
          "DG",
          "CA1",
          "CA3",
          "CTX1",
          "CTX2",
          "CTX3",
          "DG",
          "CA1",
          "CA3",
          "CTX1",
          "CTX2",
          "CTX3",
          "DG",
          "CA1",
          "CA3",
          "CTX1",
          "CTX2",
          "CTX3",
          "DG",
          "CA1",
          "CA3",
          "CTX1",
          "CTX2",
          "CTX3",
          "DG",
          "CA1",
          "CA3",
          "CTX1",
          "CTX2",
          "CTX3",
          "DG",
          "CA1",
          "CA3",
          "CTX1",
          "CTX2",
          "CTX3",
          "DG",
          "CA1",
          "CA3",
          "CTX1",
          "CTX2",
          "CTX3",
          "DG",
          "CA1",
          "CA3",
          "CTX1",
          "CTX2",
          "CTX3",
          "DG",
          "CA1",
          "CA3",
          "CTX1",
          "CTX2",
          "CTX3",
          "DG",
          "CA1",
          "CA3",
          "CTX1",
          "CTX2",
          "CTX3",
          "DG",
          "CA1",
          "CA3",
          "CTX1",
          "CTX2",
          "CTX3",
          "DG",
          "CA1",
          "CA3",
          "CTX1",
          "CTX2",
          "CTX3",
          "DG",
          "CA1",
          "CA3",
          "CTX1",
          "CTX2",
          "CTX3",
          "DG",
          "CA1",
          "CA3",
          "CTX1",
          "CTX2",
          "CTX3",
          "DG",
          "CA1",
          "CA3",
          "CTX1",
          "CTX2",
          "CTX3",
          "DG",
          "CA1",
          "CA3",
          "CTX1",
          "CTX2",
          "CTX3",
          "DG"
         ],
         "xaxis": "x",
         "y": [
          9,
          7,
          24,
          9,
          6,
          14,
          2,
          4,
          20,
          12,
          17,
          14,
          5,
          7,
          7,
          14,
          20,
          12,
          5,
          5,
          20,
          15,
          10,
          2,
          2,
          5,
          13,
          15,
          20,
          1,
          1,
          4,
          3,
          7,
          3,
          4,
          5,
          16,
          15,
          10,
          9,
          1,
          4,
          8,
          10,
          11,
          7,
          4,
          4,
          3,
          18,
          1,
          5,
          7,
          2,
          13,
          13,
          17,
          10,
          10,
          6,
          6,
          9,
          5,
          15,
          3,
          4,
          11,
          0,
          8,
          11,
          6,
          8,
          11,
          15,
          7,
          13,
          0,
          1,
          2,
          7,
          9,
          17,
          9,
          4,
          11,
          19,
          13,
          4,
          0,
          3,
          13,
          7,
          6,
          2,
          8,
          1,
          6,
          7,
          10,
          11,
          3,
          4,
          5,
          11,
          5,
          4,
          7,
          3,
          14,
          23,
          8,
          5,
          3,
          3,
          0,
          1,
          1,
          7,
          2,
          5,
          13,
          5,
          21,
          4,
          2,
          2,
          0,
          0,
          2,
          6,
          3,
          4,
          4,
          10,
          8,
          2,
          4,
          4,
          21,
          6,
          9,
          38,
          13,
          2,
          7,
          14,
          8,
          19,
          6,
          4,
          21,
          15,
          13,
          8,
          2,
          1,
          0,
          2,
          14,
          6,
          5,
          5,
          4,
          7,
          12,
          13,
          5,
          5,
          4,
          16,
          10,
          9,
          4,
          3,
          5,
          6,
          13,
          7,
          3,
          2,
          1,
          4,
          0,
          6,
          7,
          3,
          12,
          14,
          9,
          10,
          3,
          4,
          11,
          12,
          4,
          2,
          4,
          3,
          4,
          11,
          11,
          5
         ],
         "yaxis": "y"
        }
       ],
       "layout": {
        "legend": {
         "tracegroupgap": 0
        },
        "template": {
         "data": {
          "bar": [
           {
            "error_x": {
             "color": "#2a3f5f"
            },
            "error_y": {
             "color": "#2a3f5f"
            },
            "marker": {
             "line": {
              "color": "#E5ECF6",
              "width": 0.5
             },
             "pattern": {
              "fillmode": "overlay",
              "size": 10,
              "solidity": 0.2
             }
            },
            "type": "bar"
           }
          ],
          "barpolar": [
           {
            "marker": {
             "line": {
              "color": "#E5ECF6",
              "width": 0.5
             },
             "pattern": {
              "fillmode": "overlay",
              "size": 10,
              "solidity": 0.2
             }
            },
            "type": "barpolar"
           }
          ],
          "carpet": [
           {
            "aaxis": {
             "endlinecolor": "#2a3f5f",
             "gridcolor": "white",
             "linecolor": "white",
             "minorgridcolor": "white",
             "startlinecolor": "#2a3f5f"
            },
            "baxis": {
             "endlinecolor": "#2a3f5f",
             "gridcolor": "white",
             "linecolor": "white",
             "minorgridcolor": "white",
             "startlinecolor": "#2a3f5f"
            },
            "type": "carpet"
           }
          ],
          "choropleth": [
           {
            "colorbar": {
             "outlinewidth": 0,
             "ticks": ""
            },
            "type": "choropleth"
           }
          ],
          "contour": [
           {
            "colorbar": {
             "outlinewidth": 0,
             "ticks": ""
            },
            "colorscale": [
             [
              0,
              "#0d0887"
             ],
             [
              0.1111111111111111,
              "#46039f"
             ],
             [
              0.2222222222222222,
              "#7201a8"
             ],
             [
              0.3333333333333333,
              "#9c179e"
             ],
             [
              0.4444444444444444,
              "#bd3786"
             ],
             [
              0.5555555555555556,
              "#d8576b"
             ],
             [
              0.6666666666666666,
              "#ed7953"
             ],
             [
              0.7777777777777778,
              "#fb9f3a"
             ],
             [
              0.8888888888888888,
              "#fdca26"
             ],
             [
              1,
              "#f0f921"
             ]
            ],
            "type": "contour"
           }
          ],
          "contourcarpet": [
           {
            "colorbar": {
             "outlinewidth": 0,
             "ticks": ""
            },
            "type": "contourcarpet"
           }
          ],
          "heatmap": [
           {
            "colorbar": {
             "outlinewidth": 0,
             "ticks": ""
            },
            "colorscale": [
             [
              0,
              "#0d0887"
             ],
             [
              0.1111111111111111,
              "#46039f"
             ],
             [
              0.2222222222222222,
              "#7201a8"
             ],
             [
              0.3333333333333333,
              "#9c179e"
             ],
             [
              0.4444444444444444,
              "#bd3786"
             ],
             [
              0.5555555555555556,
              "#d8576b"
             ],
             [
              0.6666666666666666,
              "#ed7953"
             ],
             [
              0.7777777777777778,
              "#fb9f3a"
             ],
             [
              0.8888888888888888,
              "#fdca26"
             ],
             [
              1,
              "#f0f921"
             ]
            ],
            "type": "heatmap"
           }
          ],
          "heatmapgl": [
           {
            "colorbar": {
             "outlinewidth": 0,
             "ticks": ""
            },
            "colorscale": [
             [
              0,
              "#0d0887"
             ],
             [
              0.1111111111111111,
              "#46039f"
             ],
             [
              0.2222222222222222,
              "#7201a8"
             ],
             [
              0.3333333333333333,
              "#9c179e"
             ],
             [
              0.4444444444444444,
              "#bd3786"
             ],
             [
              0.5555555555555556,
              "#d8576b"
             ],
             [
              0.6666666666666666,
              "#ed7953"
             ],
             [
              0.7777777777777778,
              "#fb9f3a"
             ],
             [
              0.8888888888888888,
              "#fdca26"
             ],
             [
              1,
              "#f0f921"
             ]
            ],
            "type": "heatmapgl"
           }
          ],
          "histogram": [
           {
            "marker": {
             "pattern": {
              "fillmode": "overlay",
              "size": 10,
              "solidity": 0.2
             }
            },
            "type": "histogram"
           }
          ],
          "histogram2d": [
           {
            "colorbar": {
             "outlinewidth": 0,
             "ticks": ""
            },
            "colorscale": [
             [
              0,
              "#0d0887"
             ],
             [
              0.1111111111111111,
              "#46039f"
             ],
             [
              0.2222222222222222,
              "#7201a8"
             ],
             [
              0.3333333333333333,
              "#9c179e"
             ],
             [
              0.4444444444444444,
              "#bd3786"
             ],
             [
              0.5555555555555556,
              "#d8576b"
             ],
             [
              0.6666666666666666,
              "#ed7953"
             ],
             [
              0.7777777777777778,
              "#fb9f3a"
             ],
             [
              0.8888888888888888,
              "#fdca26"
             ],
             [
              1,
              "#f0f921"
             ]
            ],
            "type": "histogram2d"
           }
          ],
          "histogram2dcontour": [
           {
            "colorbar": {
             "outlinewidth": 0,
             "ticks": ""
            },
            "colorscale": [
             [
              0,
              "#0d0887"
             ],
             [
              0.1111111111111111,
              "#46039f"
             ],
             [
              0.2222222222222222,
              "#7201a8"
             ],
             [
              0.3333333333333333,
              "#9c179e"
             ],
             [
              0.4444444444444444,
              "#bd3786"
             ],
             [
              0.5555555555555556,
              "#d8576b"
             ],
             [
              0.6666666666666666,
              "#ed7953"
             ],
             [
              0.7777777777777778,
              "#fb9f3a"
             ],
             [
              0.8888888888888888,
              "#fdca26"
             ],
             [
              1,
              "#f0f921"
             ]
            ],
            "type": "histogram2dcontour"
           }
          ],
          "mesh3d": [
           {
            "colorbar": {
             "outlinewidth": 0,
             "ticks": ""
            },
            "type": "mesh3d"
           }
          ],
          "parcoords": [
           {
            "line": {
             "colorbar": {
              "outlinewidth": 0,
              "ticks": ""
             }
            },
            "type": "parcoords"
           }
          ],
          "pie": [
           {
            "automargin": true,
            "type": "pie"
           }
          ],
          "scatter": [
           {
            "fillpattern": {
             "fillmode": "overlay",
             "size": 10,
             "solidity": 0.2
            },
            "type": "scatter"
           }
          ],
          "scatter3d": [
           {
            "line": {
             "colorbar": {
              "outlinewidth": 0,
              "ticks": ""
             }
            },
            "marker": {
             "colorbar": {
              "outlinewidth": 0,
              "ticks": ""
             }
            },
            "type": "scatter3d"
           }
          ],
          "scattercarpet": [
           {
            "marker": {
             "colorbar": {
              "outlinewidth": 0,
              "ticks": ""
             }
            },
            "type": "scattercarpet"
           }
          ],
          "scattergeo": [
           {
            "marker": {
             "colorbar": {
              "outlinewidth": 0,
              "ticks": ""
             }
            },
            "type": "scattergeo"
           }
          ],
          "scattergl": [
           {
            "marker": {
             "colorbar": {
              "outlinewidth": 0,
              "ticks": ""
             }
            },
            "type": "scattergl"
           }
          ],
          "scattermapbox": [
           {
            "marker": {
             "colorbar": {
              "outlinewidth": 0,
              "ticks": ""
             }
            },
            "type": "scattermapbox"
           }
          ],
          "scatterpolar": [
           {
            "marker": {
             "colorbar": {
              "outlinewidth": 0,
              "ticks": ""
             }
            },
            "type": "scatterpolar"
           }
          ],
          "scatterpolargl": [
           {
            "marker": {
             "colorbar": {
              "outlinewidth": 0,
              "ticks": ""
             }
            },
            "type": "scatterpolargl"
           }
          ],
          "scatterternary": [
           {
            "marker": {
             "colorbar": {
              "outlinewidth": 0,
              "ticks": ""
             }
            },
            "type": "scatterternary"
           }
          ],
          "surface": [
           {
            "colorbar": {
             "outlinewidth": 0,
             "ticks": ""
            },
            "colorscale": [
             [
              0,
              "#0d0887"
             ],
             [
              0.1111111111111111,
              "#46039f"
             ],
             [
              0.2222222222222222,
              "#7201a8"
             ],
             [
              0.3333333333333333,
              "#9c179e"
             ],
             [
              0.4444444444444444,
              "#bd3786"
             ],
             [
              0.5555555555555556,
              "#d8576b"
             ],
             [
              0.6666666666666666,
              "#ed7953"
             ],
             [
              0.7777777777777778,
              "#fb9f3a"
             ],
             [
              0.8888888888888888,
              "#fdca26"
             ],
             [
              1,
              "#f0f921"
             ]
            ],
            "type": "surface"
           }
          ],
          "table": [
           {
            "cells": {
             "fill": {
              "color": "#EBF0F8"
             },
             "line": {
              "color": "white"
             }
            },
            "header": {
             "fill": {
              "color": "#C8D4E3"
             },
             "line": {
              "color": "white"
             }
            },
            "type": "table"
           }
          ]
         },
         "layout": {
          "annotationdefaults": {
           "arrowcolor": "#2a3f5f",
           "arrowhead": 0,
           "arrowwidth": 1
          },
          "autotypenumbers": "strict",
          "coloraxis": {
           "colorbar": {
            "outlinewidth": 0,
            "ticks": ""
           }
          },
          "colorscale": {
           "diverging": [
            [
             0,
             "#8e0152"
            ],
            [
             0.1,
             "#c51b7d"
            ],
            [
             0.2,
             "#de77ae"
            ],
            [
             0.3,
             "#f1b6da"
            ],
            [
             0.4,
             "#fde0ef"
            ],
            [
             0.5,
             "#f7f7f7"
            ],
            [
             0.6,
             "#e6f5d0"
            ],
            [
             0.7,
             "#b8e186"
            ],
            [
             0.8,
             "#7fbc41"
            ],
            [
             0.9,
             "#4d9221"
            ],
            [
             1,
             "#276419"
            ]
           ],
           "sequential": [
            [
             0,
             "#0d0887"
            ],
            [
             0.1111111111111111,
             "#46039f"
            ],
            [
             0.2222222222222222,
             "#7201a8"
            ],
            [
             0.3333333333333333,
             "#9c179e"
            ],
            [
             0.4444444444444444,
             "#bd3786"
            ],
            [
             0.5555555555555556,
             "#d8576b"
            ],
            [
             0.6666666666666666,
             "#ed7953"
            ],
            [
             0.7777777777777778,
             "#fb9f3a"
            ],
            [
             0.8888888888888888,
             "#fdca26"
            ],
            [
             1,
             "#f0f921"
            ]
           ],
           "sequentialminus": [
            [
             0,
             "#0d0887"
            ],
            [
             0.1111111111111111,
             "#46039f"
            ],
            [
             0.2222222222222222,
             "#7201a8"
            ],
            [
             0.3333333333333333,
             "#9c179e"
            ],
            [
             0.4444444444444444,
             "#bd3786"
            ],
            [
             0.5555555555555556,
             "#d8576b"
            ],
            [
             0.6666666666666666,
             "#ed7953"
            ],
            [
             0.7777777777777778,
             "#fb9f3a"
            ],
            [
             0.8888888888888888,
             "#fdca26"
            ],
            [
             1,
             "#f0f921"
            ]
           ]
          },
          "colorway": [
           "#636efa",
           "#EF553B",
           "#00cc96",
           "#ab63fa",
           "#FFA15A",
           "#19d3f3",
           "#FF6692",
           "#B6E880",
           "#FF97FF",
           "#FECB52"
          ],
          "font": {
           "color": "#2a3f5f"
          },
          "geo": {
           "bgcolor": "white",
           "lakecolor": "white",
           "landcolor": "#E5ECF6",
           "showlakes": true,
           "showland": true,
           "subunitcolor": "white"
          },
          "hoverlabel": {
           "align": "left"
          },
          "hovermode": "closest",
          "mapbox": {
           "style": "light"
          },
          "paper_bgcolor": "white",
          "plot_bgcolor": "#E5ECF6",
          "polar": {
           "angularaxis": {
            "gridcolor": "white",
            "linecolor": "white",
            "ticks": ""
           },
           "bgcolor": "#E5ECF6",
           "radialaxis": {
            "gridcolor": "white",
            "linecolor": "white",
            "ticks": ""
           }
          },
          "scene": {
           "xaxis": {
            "backgroundcolor": "#E5ECF6",
            "gridcolor": "white",
            "gridwidth": 2,
            "linecolor": "white",
            "showbackground": true,
            "ticks": "",
            "zerolinecolor": "white"
           },
           "yaxis": {
            "backgroundcolor": "#E5ECF6",
            "gridcolor": "white",
            "gridwidth": 2,
            "linecolor": "white",
            "showbackground": true,
            "ticks": "",
            "zerolinecolor": "white"
           },
           "zaxis": {
            "backgroundcolor": "#E5ECF6",
            "gridcolor": "white",
            "gridwidth": 2,
            "linecolor": "white",
            "showbackground": true,
            "ticks": "",
            "zerolinecolor": "white"
           }
          },
          "shapedefaults": {
           "line": {
            "color": "#2a3f5f"
           }
          },
          "ternary": {
           "aaxis": {
            "gridcolor": "white",
            "linecolor": "white",
            "ticks": ""
           },
           "baxis": {
            "gridcolor": "white",
            "linecolor": "white",
            "ticks": ""
           },
           "bgcolor": "#E5ECF6",
           "caxis": {
            "gridcolor": "white",
            "linecolor": "white",
            "ticks": ""
           }
          },
          "title": {
           "x": 0.05
          },
          "xaxis": {
           "automargin": true,
           "gridcolor": "white",
           "linecolor": "white",
           "ticks": "",
           "title": {
            "standoff": 15
           },
           "zerolinecolor": "white",
           "zerolinewidth": 2
          },
          "yaxis": {
           "automargin": true,
           "gridcolor": "white",
           "linecolor": "white",
           "ticks": "",
           "title": {
            "standoff": 15
           },
           "zerolinecolor": "white",
           "zerolinewidth": 2
          }
         }
        },
        "title": {
         "text": "Number of DNA damage+ Microglia+ Nuclei by Tissue Location - cellpdia30_sigma1_dilrad4_dnad_obj_seg_v1_gliaero6_gliathr20_dnadero2"
        },
        "xaxis": {
         "anchor": "y",
         "domain": [
          0,
          1
         ],
         "title": {
          "text": "tissue_location"
         }
        },
        "yaxis": {
         "anchor": "x",
         "domain": [
          0,
          1
         ],
         "title": {
          "text": "nr_+_dna_damage_glia_nuclei"
         }
        }
       }
      }
     },
     "metadata": {},
     "output_type": "display_data"
    },
    {
     "data": {
      "application/vnd.plotly.v1+json": {
       "config": {
        "plotlyServerURL": "https://plot.ly"
       },
       "data": [
        {
         "customdata": [
          [
           101,
           0,
           "DSB Iba1 101_40X_CA1"
          ],
          [
           101,
           1,
           "DSB Iba1 101_40X_CA3"
          ],
          [
           101,
           2,
           "DSB Iba1 101_40X_CTX1"
          ],
          [
           101,
           3,
           "DSB Iba1 101_40X_CTX2"
          ],
          [
           101,
           4,
           "DSB Iba1 101_40X_CTX3"
          ],
          [
           101,
           5,
           "DSB Iba1 101_40X_DG"
          ],
          [
           102,
           6,
           "DSB Iba1 102_40X_CA1"
          ],
          [
           102,
           7,
           "DSB Iba1 102_40X_CA3"
          ],
          [
           102,
           8,
           "DSB Iba1 102_40X_CTX1"
          ],
          [
           102,
           9,
           "DSB Iba1 102_40X_CTX2"
          ],
          [
           102,
           10,
           "DSB Iba1 102_40X_CTX3"
          ],
          [
           102,
           11,
           "DSB Iba1 102_40X_DG"
          ],
          [
           103,
           12,
           "DSB Iba1 103_40X_CA1"
          ],
          [
           103,
           13,
           "DSB Iba1 103_40X_CA3"
          ],
          [
           103,
           14,
           "DSB Iba1 103_40X_CTX1"
          ],
          [
           103,
           15,
           "DSB Iba1 103_40X_CTX2"
          ],
          [
           103,
           16,
           "DSB Iba1 103_40X_CTX3"
          ],
          [
           103,
           17,
           "DSB Iba1 103_40X_DG"
          ],
          [
           104,
           18,
           "DSB Iba1 104_40X_CA1"
          ],
          [
           104,
           19,
           "DSB Iba1 104_40X_CA3"
          ],
          [
           104,
           20,
           "DSB Iba1 104_40X_CTX1"
          ],
          [
           104,
           21,
           "DSB Iba1 104_40X_CTX2"
          ],
          [
           104,
           22,
           "DSB Iba1 104_40X_CTX3"
          ],
          [
           104,
           23,
           "DSB Iba1 104_40X_DG"
          ],
          [
           105,
           24,
           "DSB Iba1 105_40X_CA1"
          ],
          [
           105,
           25,
           "DSB Iba1 105_40X_CA3"
          ],
          [
           105,
           26,
           "DSB Iba1 105_40X_CTX1"
          ],
          [
           105,
           27,
           "DSB Iba1 105_40X_CTX2"
          ],
          [
           105,
           28,
           "DSB Iba1 105_40X_CTX3"
          ],
          [
           106,
           29,
           "DSB Iba1 106_40X_CA1"
          ],
          [
           106,
           30,
           "DSB Iba1 106_40X_CA3"
          ],
          [
           106,
           31,
           "DSB Iba1 106_40X_CTX1"
          ],
          [
           106,
           32,
           "DSB Iba1 106_40X_CTX2"
          ],
          [
           106,
           33,
           "DSB Iba1 106_40X_CTX3"
          ],
          [
           106,
           34,
           "DSB Iba1 106_40X_DG"
          ],
          [
           107,
           35,
           "DSB Iba1 107_40X_CA1"
          ],
          [
           107,
           36,
           "DSB Iba1 107_40X_CA3"
          ],
          [
           107,
           37,
           "DSB Iba1 107_40X_CTX1"
          ],
          [
           107,
           38,
           "DSB Iba1 107_40X_CTX2"
          ],
          [
           107,
           39,
           "DSB Iba1 107_40X_CTX3"
          ],
          [
           107,
           40,
           "DSB Iba1 107_40X_DG"
          ],
          [
           108,
           41,
           "DSB Iba1 108_40X_CA1"
          ],
          [
           108,
           42,
           "DSB Iba1 108_40X_CA3"
          ],
          [
           108,
           43,
           "DSB Iba1 108_40X_CTX1"
          ],
          [
           108,
           44,
           "DSB Iba1 108_40X_CTX2"
          ],
          [
           108,
           45,
           "DSB Iba1 108_40X_CTX3"
          ],
          [
           108,
           46,
           "DSB Iba1 108_40X_DG"
          ],
          [
           20,
           47,
           "DSB Iba1 20_40X_CA1"
          ],
          [
           20,
           48,
           "DSB Iba1 20_40X_CA3"
          ],
          [
           20,
           49,
           "DSB Iba1 20_40X_CTX1"
          ],
          [
           20,
           50,
           "DSB Iba1 20_40X_CTX2"
          ],
          [
           20,
           51,
           "DSB Iba1 20_40X_CTX3"
          ],
          [
           20,
           52,
           "DSB Iba1 20_40X_DG"
          ],
          [
           21,
           53,
           "DSB Iba1 21_40X_CA1"
          ],
          [
           21,
           54,
           "DSB Iba1 21_40X_CA3"
          ],
          [
           21,
           55,
           "DSB Iba1 21_40X_CTX1"
          ],
          [
           21,
           56,
           "DSB Iba1 21_40X_CTX2"
          ],
          [
           21,
           57,
           "DSB Iba1 21_40X_CTX3"
          ],
          [
           21,
           58,
           "DSB Iba1 21_40X_DG"
          ],
          [
           22,
           59,
           "DSB Iba1 22_40X_CA1"
          ],
          [
           22,
           60,
           "DSB Iba1 22_40X_CA3"
          ],
          [
           22,
           61,
           "DSB Iba1 22_40X_CTX1"
          ],
          [
           22,
           62,
           "DSB Iba1 22_40X_CTX2"
          ],
          [
           22,
           63,
           "DSB Iba1 22_40X_CTX3"
          ],
          [
           22,
           64,
           "DSB Iba1 22_40X_DG"
          ],
          [
           23,
           65,
           "DSB Iba1 23_40X_CA1"
          ],
          [
           23,
           66,
           "DSB Iba1 23_40X_CA3"
          ],
          [
           23,
           67,
           "DSB Iba1 23_40X_CTX1"
          ],
          [
           23,
           68,
           "DSB Iba1 23_40X_CTX2"
          ],
          [
           23,
           69,
           "DSB Iba1 23_40X_CTX3"
          ],
          [
           23,
           70,
           "DSB Iba1 23_40X_DG"
          ],
          [
           25,
           71,
           "DSB Iba1 25_40X_CA1"
          ],
          [
           25,
           72,
           "DSB Iba1 25_40X_CA3"
          ],
          [
           25,
           73,
           "DSB Iba1 25_40X_CTX1"
          ],
          [
           25,
           74,
           "DSB Iba1 25_40X_CTX2"
          ],
          [
           25,
           75,
           "DSB Iba1 25_40X_CTX3"
          ],
          [
           25,
           76,
           "DSB Iba1 25_40X_DG"
          ],
          [
           28,
           77,
           "DSB Iba1 28_40X_CA1"
          ],
          [
           28,
           78,
           "DSB Iba1 28_40X_CA3"
          ],
          [
           28,
           79,
           "DSB Iba1 28_40X_CTX1"
          ],
          [
           28,
           80,
           "DSB Iba1 28_40X_CTX2"
          ],
          [
           28,
           81,
           "DSB Iba1 28_40X_CTX3"
          ],
          [
           28,
           82,
           "DSB Iba1 28_40X_DG"
          ],
          [
           29,
           83,
           "DSB Iba1 29_40X_CA1"
          ],
          [
           29,
           84,
           "DSB Iba1 29_40X_CA3"
          ],
          [
           29,
           85,
           "DSB Iba1 29_40X_CTX1"
          ],
          [
           29,
           86,
           "DSB Iba1 29_40X_CTX2"
          ],
          [
           29,
           87,
           "DSB Iba1 29_40X_CTX3"
          ],
          [
           29,
           88,
           "DSB Iba1 29_40X_DG"
          ],
          [
           30,
           89,
           "DSB Iba1 30_40X_CA1"
          ],
          [
           30,
           90,
           "DSB Iba1 30_40X_CA3"
          ],
          [
           30,
           91,
           "DSB Iba1 30_40X_CTX1"
          ],
          [
           30,
           92,
           "DSB Iba1 30_40X_CTX2"
          ],
          [
           30,
           93,
           "DSB Iba1 30_40X_CTX3"
          ],
          [
           30,
           94,
           "DSB Iba1 30_40X_DG"
          ],
          [
           31,
           95,
           "DSB Iba1 31_40X_CA1"
          ],
          [
           31,
           96,
           "DSB Iba1 31_40X_CA3"
          ],
          [
           31,
           97,
           "DSB Iba1 31_40X_CTX1"
          ],
          [
           31,
           98,
           "DSB Iba1 31_40X_CTX2"
          ],
          [
           31,
           99,
           "DSB Iba1 31_40X_CTX3"
          ],
          [
           31,
           100,
           "DSB Iba1 31_40X_DG"
          ],
          [
           33,
           101,
           "DSB Iba1 33_40X_CA1"
          ],
          [
           33,
           102,
           "DSB Iba1 33_40X_CA3"
          ],
          [
           33,
           103,
           "DSB Iba1 33_40X_CTX1"
          ],
          [
           33,
           104,
           "DSB Iba1 33_40X_CTX2"
          ],
          [
           33,
           105,
           "DSB Iba1 33_40X_CTX3"
          ],
          [
           33,
           106,
           "DSB Iba1 33_40X_DG"
          ],
          [
           36,
           107,
           "DSB Iba1 36_40X_CA1"
          ],
          [
           36,
           108,
           "DSB Iba1 36_40X_CA3"
          ],
          [
           36,
           109,
           "DSB Iba1 36_40X_CTX1"
          ],
          [
           36,
           110,
           "DSB Iba1 36_40X_CTX2"
          ],
          [
           36,
           111,
           "DSB Iba1 36_40X_CTX3"
          ],
          [
           36,
           112,
           "DSB Iba1 36_40X_DG"
          ],
          [
           39,
           113,
           "DSB Iba1 39_40X_CA1"
          ],
          [
           39,
           114,
           "DSB Iba1 39_40X_CA3"
          ],
          [
           39,
           115,
           "DSB Iba1 39_40X_CTX1"
          ],
          [
           39,
           116,
           "DSB Iba1 39_40X_CTX2"
          ],
          [
           39,
           117,
           "DSB Iba1 39_40X_CTX3"
          ],
          [
           39,
           118,
           "DSB Iba1 39_40X_DG"
          ],
          [
           40,
           119,
           "DSB Iba1 40_40X_CA1"
          ],
          [
           40,
           120,
           "DSB Iba1 40_40X_CA3"
          ],
          [
           40,
           121,
           "DSB Iba1 40_40X_CTX1"
          ],
          [
           40,
           122,
           "DSB Iba1 40_40X_CTX2"
          ],
          [
           40,
           123,
           "DSB Iba1 40_40X_CTX3"
          ],
          [
           40,
           124,
           "DSB Iba1 40_40X_DG"
          ],
          [
           41,
           125,
           "DSB Iba1 41_40X_CA1"
          ],
          [
           41,
           126,
           "DSB Iba1 41_40X_CA3"
          ],
          [
           41,
           127,
           "DSB Iba1 41_40X_CTX1"
          ],
          [
           41,
           128,
           "DSB Iba1 41_40X_CTX2"
          ],
          [
           41,
           129,
           "DSB Iba1 41_40X_CTX3"
          ],
          [
           41,
           130,
           "DSB Iba1 41_40X_DG"
          ],
          [
           42,
           131,
           "DSB Iba1 42_40X_CA1"
          ],
          [
           42,
           132,
           "DSB Iba1 42_40X_CA3"
          ],
          [
           42,
           133,
           "DSB Iba1 42_40X_CTX1"
          ],
          [
           42,
           134,
           "DSB Iba1 42_40X_CTX2"
          ],
          [
           42,
           135,
           "DSB Iba1 42_40X_CTX3"
          ],
          [
           42,
           136,
           "DSB Iba1 42_40X_DG"
          ],
          [
           43,
           137,
           "DSB Iba1 43_40X_CA1"
          ],
          [
           43,
           138,
           "DSB Iba1 43_40X_CA3"
          ],
          [
           43,
           139,
           "DSB Iba1 43_40X_CTX1"
          ],
          [
           43,
           140,
           "DSB Iba1 43_40X_CTX2"
          ],
          [
           43,
           141,
           "DSB Iba1 43_40X_CTX3"
          ],
          [
           43,
           142,
           "DSB Iba1 43_40X_DG"
          ],
          [
           45,
           143,
           "DSB Iba1 45_40X_CA1"
          ],
          [
           45,
           144,
           "DSB Iba1 45_40X_CA3"
          ],
          [
           45,
           145,
           "DSB Iba1 45_40X_CTX1"
          ],
          [
           45,
           146,
           "DSB Iba1 45_40X_CTX2"
          ],
          [
           45,
           147,
           "DSB Iba1 45_40X_CTX3"
          ],
          [
           45,
           148,
           "DSB Iba1 45_40X_DG"
          ],
          [
           48,
           149,
           "DSB Iba1 48_40X_CA1"
          ],
          [
           48,
           150,
           "DSB Iba1 48_40X_CA3"
          ],
          [
           48,
           151,
           "DSB Iba1 48_40X_CTX1"
          ],
          [
           48,
           152,
           "DSB Iba1 48_40X_CTX2"
          ],
          [
           48,
           153,
           "DSB Iba1 48_40X_CTX3"
          ],
          [
           48,
           154,
           "DSB Iba1 48_40X_DG"
          ],
          [
           50,
           155,
           "DSB Iba1 50_40X_CA1"
          ],
          [
           50,
           156,
           "DSB Iba1 50_40X_CA3"
          ],
          [
           50,
           157,
           "DSB Iba1 50_40X_CTX1"
          ],
          [
           50,
           158,
           "DSB Iba1 50_40X_CTX2"
          ],
          [
           50,
           159,
           "DSB Iba1 50_40X_CTX3"
          ],
          [
           50,
           160,
           "DSB Iba1 50_40X_DG"
          ],
          [
           51,
           161,
           "DSB Iba1 51_40X_CA1"
          ],
          [
           51,
           162,
           "DSB Iba1 51_40X_CA3"
          ],
          [
           51,
           163,
           "DSB Iba1 51_40X_CTX1"
          ],
          [
           51,
           164,
           "DSB Iba1 51_40X_CTX2"
          ],
          [
           51,
           165,
           "DSB Iba1 51_40X_CTX3"
          ],
          [
           51,
           166,
           "DSB Iba1 51_40X_DG"
          ],
          [
           52,
           167,
           "DSB Iba1 52_40X_CA1"
          ],
          [
           52,
           168,
           "DSB Iba1 52_40X_CA3"
          ],
          [
           52,
           169,
           "DSB Iba1 52_40X_CTX1"
          ],
          [
           52,
           170,
           "DSB Iba1 52_40X_CTX2"
          ],
          [
           52,
           171,
           "DSB Iba1 52_40X_CTX3"
          ],
          [
           52,
           172,
           "DSB Iba1 52_40X_DG"
          ],
          [
           54,
           173,
           "DSB Iba1 54_40X_CA1"
          ],
          [
           54,
           174,
           "DSB Iba1 54_40X_CA3"
          ],
          [
           54,
           175,
           "DSB Iba1 54_40X_CTX1"
          ],
          [
           54,
           176,
           "DSB Iba1 54_40X_CTX2"
          ],
          [
           54,
           177,
           "DSB Iba1 54_40X_CTX3"
          ],
          [
           54,
           178,
           "DSB Iba1 54_40X_DG"
          ],
          [
           55,
           179,
           "DSB Iba1 55_40X_CA1"
          ],
          [
           55,
           180,
           "DSB Iba1 55_40X_CA3"
          ],
          [
           55,
           181,
           "DSB Iba1 55_40X_CTX1"
          ],
          [
           55,
           182,
           "DSB Iba1 55_40X_CTX2"
          ],
          [
           55,
           183,
           "DSB Iba1 55_40X_CTX3"
          ],
          [
           55,
           184,
           "DSB Iba1 55_40X_DG"
          ],
          [
           56,
           185,
           "DSB Iba1 56_40X_CA1"
          ],
          [
           56,
           186,
           "DSB Iba1 56_40X_CA3"
          ],
          [
           56,
           187,
           "DSB Iba1 56_40X_CTX1"
          ],
          [
           56,
           188,
           "DSB Iba1 56_40X_CTX2"
          ],
          [
           56,
           189,
           "DSB Iba1 56_40X_CTX3"
          ],
          [
           56,
           190,
           "DSB Iba1 56_40X_DG"
          ],
          [
           58,
           191,
           "DSB Iba1 58_40X_CA1"
          ],
          [
           58,
           192,
           "DSB Iba1 58_40X_CA3"
          ],
          [
           58,
           193,
           "DSB Iba1 58_40X_CTX1"
          ],
          [
           58,
           194,
           "DSB Iba1 58_40X_CTX2"
          ],
          [
           58,
           195,
           "DSB Iba1 58_40X_CTX3"
          ],
          [
           58,
           196,
           "DSB Iba1 58_40X_DG"
          ],
          [
           59,
           197,
           "DSB Iba1 59_40X_CA1"
          ],
          [
           59,
           198,
           "DSB Iba1 59_40X_CA3"
          ],
          [
           59,
           199,
           "DSB Iba1 59_40X_CTX1"
          ],
          [
           59,
           200,
           "DSB Iba1 59_40X_CTX2"
          ],
          [
           59,
           201,
           "DSB Iba1 59_40X_CTX3"
          ],
          [
           59,
           202,
           "DSB Iba1 59_40X_DG"
          ]
         ],
         "hovertemplate": "tissue_location=%{x}<br>avg_dna_damage_foci/glia_+=%{y}<br>staining_id=%{customdata[0]}<br>index=%{customdata[1]}<br>filename=%{customdata[2]}<extra></extra>",
         "legendgroup": "",
         "marker": {
          "color": "#636efa",
          "symbol": "circle"
         },
         "mode": "markers",
         "name": "",
         "orientation": "v",
         "showlegend": false,
         "type": "scatter",
         "x": [
          "CA1",
          "CA3",
          "CTX1",
          "CTX2",
          "CTX3",
          "DG",
          "CA1",
          "CA3",
          "CTX1",
          "CTX2",
          "CTX3",
          "DG",
          "CA1",
          "CA3",
          "CTX1",
          "CTX2",
          "CTX3",
          "DG",
          "CA1",
          "CA3",
          "CTX1",
          "CTX2",
          "CTX3",
          "DG",
          "CA1",
          "CA3",
          "CTX1",
          "CTX2",
          "CTX3",
          "CA1",
          "CA3",
          "CTX1",
          "CTX2",
          "CTX3",
          "DG",
          "CA1",
          "CA3",
          "CTX1",
          "CTX2",
          "CTX3",
          "DG",
          "CA1",
          "CA3",
          "CTX1",
          "CTX2",
          "CTX3",
          "DG",
          "CA1",
          "CA3",
          "CTX1",
          "CTX2",
          "CTX3",
          "DG",
          "CA1",
          "CA3",
          "CTX1",
          "CTX2",
          "CTX3",
          "DG",
          "CA1",
          "CA3",
          "CTX1",
          "CTX2",
          "CTX3",
          "DG",
          "CA1",
          "CA3",
          "CTX1",
          "CTX2",
          "CTX3",
          "DG",
          "CA1",
          "CA3",
          "CTX1",
          "CTX2",
          "CTX3",
          "DG",
          "CA1",
          "CA3",
          "CTX1",
          "CTX2",
          "CTX3",
          "DG",
          "CA1",
          "CA3",
          "CTX1",
          "CTX2",
          "CTX3",
          "DG",
          "CA1",
          "CA3",
          "CTX1",
          "CTX2",
          "CTX3",
          "DG",
          "CA1",
          "CA3",
          "CTX1",
          "CTX2",
          "CTX3",
          "DG",
          "CA1",
          "CA3",
          "CTX1",
          "CTX2",
          "CTX3",
          "DG",
          "CA1",
          "CA3",
          "CTX1",
          "CTX2",
          "CTX3",
          "DG",
          "CA1",
          "CA3",
          "CTX1",
          "CTX2",
          "CTX3",
          "DG",
          "CA1",
          "CA3",
          "CTX1",
          "CTX2",
          "CTX3",
          "DG",
          "CA1",
          "CA3",
          "CTX1",
          "CTX2",
          "CTX3",
          "DG",
          "CA1",
          "CA3",
          "CTX1",
          "CTX2",
          "CTX3",
          "DG",
          "CA1",
          "CA3",
          "CTX1",
          "CTX2",
          "CTX3",
          "DG",
          "CA1",
          "CA3",
          "CTX1",
          "CTX2",
          "CTX3",
          "DG",
          "CA1",
          "CA3",
          "CTX1",
          "CTX2",
          "CTX3",
          "DG",
          "CA1",
          "CA3",
          "CTX1",
          "CTX2",
          "CTX3",
          "DG",
          "CA1",
          "CA3",
          "CTX1",
          "CTX2",
          "CTX3",
          "DG",
          "CA1",
          "CA3",
          "CTX1",
          "CTX2",
          "CTX3",
          "DG",
          "CA1",
          "CA3",
          "CTX1",
          "CTX2",
          "CTX3",
          "DG",
          "CA1",
          "CA3",
          "CTX1",
          "CTX2",
          "CTX3",
          "DG",
          "CA1",
          "CA3",
          "CTX1",
          "CTX2",
          "CTX3",
          "DG",
          "CA1",
          "CA3",
          "CTX1",
          "CTX2",
          "CTX3",
          "DG",
          "CA1",
          "CA3",
          "CTX1",
          "CTX2",
          "CTX3",
          "DG"
         ],
         "xaxis": "x",
         "y": [
          1,
          0.7777777777777778,
          1.1,
          1.3636363636363635,
          0.5333333333333333,
          1.2,
          0.2222222222222222,
          1,
          0.8333333333333334,
          1.0952380952380951,
          1.0454545454545454,
          1.1,
          1,
          1.2,
          0.4444444444444444,
          1.3888888888888888,
          1.7142857142857142,
          0.8235294117647058,
          0.5454545454545454,
          0.6666666666666666,
          1.0714285714285714,
          1.631578947368421,
          0.9285714285714286,
          0.5,
          0.5,
          0.7142857142857143,
          0.9090909090909092,
          1.368421052631579,
          1.4583333333333333,
          0.1428571428571428,
          0.5,
          0.4545454545454545,
          0.6,
          1.3,
          0.5,
          0.8571428571428571,
          0.75,
          0.8928571428571429,
          1.2,
          0.8666666666666667,
          0.9333333333333332,
          0.6666666666666666,
          1.4,
          0.6428571428571429,
          1.181818181818182,
          1.5,
          0.9,
          1,
          1.6,
          1,
          1.5,
          0.6666666666666666,
          1,
          1,
          0.5,
          1.588235294117647,
          1.2666666666666666,
          1.4782608695652173,
          0.9333333333333332,
          1,
          2.1666666666666665,
          1.5,
          1.0588235294117647,
          1.25,
          1.7647058823529411,
          1,
          0.875,
          0.56,
          0,
          0.9090909090909092,
          1,
          1.375,
          1.2222222222222223,
          0.56,
          1.65,
          1.3333333333333333,
          2.1333333333333333,
          0,
          1,
          1,
          0.8461538461538461,
          1.0909090909090908,
          2.823529411764706,
          1.4,
          1,
          1.125,
          1.1923076923076923,
          0.9375,
          1,
          0,
          1,
          0.7692307692307693,
          0.5,
          0.6153846153846154,
          0.8,
          1.3636363636363635,
          2,
          1,
          0.5882352941176471,
          1.1538461538461535,
          1.5,
          1,
          1,
          0.7,
          1.2666666666666666,
          0.7777777777777778,
          1,
          1.25,
          1,
          1.875,
          1.4482758620689655,
          1.7,
          1.6,
          1.3333333333333333,
          0.6,
          0,
          0.4,
          1,
          1.375,
          0.5,
          0.625,
          0.95,
          0.8181818181818182,
          1.375,
          1.8,
          0.5,
          0.5,
          null,
          0,
          0.6,
          1,
          1.3333333333333333,
          1.3333333333333333,
          1,
          1,
          1.5,
          1,
          0.4545454545454545,
          0.7142857142857143,
          2.071428571428572,
          0.5,
          0.9166666666666666,
          2.871794871794872,
          2,
          1.6666666666666667,
          0.75,
          0.8,
          0.7647058823529411,
          2.0454545454545454,
          1.4285714285714286,
          1.25,
          0.9428571428571428,
          1,
          1,
          1.1538461538461535,
          0.1538461538461538,
          0.1111111111111111,
          0,
          0.1428571428571428,
          0.6451612903225806,
          0.4666666666666667,
          0.6,
          1,
          0.3888888888888889,
          0.3333333333333333,
          0.6153846153846154,
          0.8181818181818182,
          1.2,
          1,
          0.3478260869565217,
          0.6451612903225806,
          0.5384615384615384,
          0.875,
          1.4,
          1.3333333333333333,
          0.6,
          1,
          1.2,
          0.7692307692307693,
          0.4285714285714285,
          0.6666666666666666,
          0.125,
          0.6666666666666666,
          0,
          0.7272727272727273,
          1,
          0.4166666666666667,
          0.9523809523809524,
          0.782608695652174,
          0.2777777777777778,
          1.1875,
          1.25,
          0.6666666666666666,
          1.1764705882352942,
          1.1875,
          1,
          1.5,
          0.8,
          0.8,
          0.7777777777777778,
          0.6,
          0.6956521739130435,
          1.5
         ],
         "yaxis": "y"
        }
       ],
       "layout": {
        "legend": {
         "tracegroupgap": 0
        },
        "template": {
         "data": {
          "bar": [
           {
            "error_x": {
             "color": "#2a3f5f"
            },
            "error_y": {
             "color": "#2a3f5f"
            },
            "marker": {
             "line": {
              "color": "#E5ECF6",
              "width": 0.5
             },
             "pattern": {
              "fillmode": "overlay",
              "size": 10,
              "solidity": 0.2
             }
            },
            "type": "bar"
           }
          ],
          "barpolar": [
           {
            "marker": {
             "line": {
              "color": "#E5ECF6",
              "width": 0.5
             },
             "pattern": {
              "fillmode": "overlay",
              "size": 10,
              "solidity": 0.2
             }
            },
            "type": "barpolar"
           }
          ],
          "carpet": [
           {
            "aaxis": {
             "endlinecolor": "#2a3f5f",
             "gridcolor": "white",
             "linecolor": "white",
             "minorgridcolor": "white",
             "startlinecolor": "#2a3f5f"
            },
            "baxis": {
             "endlinecolor": "#2a3f5f",
             "gridcolor": "white",
             "linecolor": "white",
             "minorgridcolor": "white",
             "startlinecolor": "#2a3f5f"
            },
            "type": "carpet"
           }
          ],
          "choropleth": [
           {
            "colorbar": {
             "outlinewidth": 0,
             "ticks": ""
            },
            "type": "choropleth"
           }
          ],
          "contour": [
           {
            "colorbar": {
             "outlinewidth": 0,
             "ticks": ""
            },
            "colorscale": [
             [
              0,
              "#0d0887"
             ],
             [
              0.1111111111111111,
              "#46039f"
             ],
             [
              0.2222222222222222,
              "#7201a8"
             ],
             [
              0.3333333333333333,
              "#9c179e"
             ],
             [
              0.4444444444444444,
              "#bd3786"
             ],
             [
              0.5555555555555556,
              "#d8576b"
             ],
             [
              0.6666666666666666,
              "#ed7953"
             ],
             [
              0.7777777777777778,
              "#fb9f3a"
             ],
             [
              0.8888888888888888,
              "#fdca26"
             ],
             [
              1,
              "#f0f921"
             ]
            ],
            "type": "contour"
           }
          ],
          "contourcarpet": [
           {
            "colorbar": {
             "outlinewidth": 0,
             "ticks": ""
            },
            "type": "contourcarpet"
           }
          ],
          "heatmap": [
           {
            "colorbar": {
             "outlinewidth": 0,
             "ticks": ""
            },
            "colorscale": [
             [
              0,
              "#0d0887"
             ],
             [
              0.1111111111111111,
              "#46039f"
             ],
             [
              0.2222222222222222,
              "#7201a8"
             ],
             [
              0.3333333333333333,
              "#9c179e"
             ],
             [
              0.4444444444444444,
              "#bd3786"
             ],
             [
              0.5555555555555556,
              "#d8576b"
             ],
             [
              0.6666666666666666,
              "#ed7953"
             ],
             [
              0.7777777777777778,
              "#fb9f3a"
             ],
             [
              0.8888888888888888,
              "#fdca26"
             ],
             [
              1,
              "#f0f921"
             ]
            ],
            "type": "heatmap"
           }
          ],
          "heatmapgl": [
           {
            "colorbar": {
             "outlinewidth": 0,
             "ticks": ""
            },
            "colorscale": [
             [
              0,
              "#0d0887"
             ],
             [
              0.1111111111111111,
              "#46039f"
             ],
             [
              0.2222222222222222,
              "#7201a8"
             ],
             [
              0.3333333333333333,
              "#9c179e"
             ],
             [
              0.4444444444444444,
              "#bd3786"
             ],
             [
              0.5555555555555556,
              "#d8576b"
             ],
             [
              0.6666666666666666,
              "#ed7953"
             ],
             [
              0.7777777777777778,
              "#fb9f3a"
             ],
             [
              0.8888888888888888,
              "#fdca26"
             ],
             [
              1,
              "#f0f921"
             ]
            ],
            "type": "heatmapgl"
           }
          ],
          "histogram": [
           {
            "marker": {
             "pattern": {
              "fillmode": "overlay",
              "size": 10,
              "solidity": 0.2
             }
            },
            "type": "histogram"
           }
          ],
          "histogram2d": [
           {
            "colorbar": {
             "outlinewidth": 0,
             "ticks": ""
            },
            "colorscale": [
             [
              0,
              "#0d0887"
             ],
             [
              0.1111111111111111,
              "#46039f"
             ],
             [
              0.2222222222222222,
              "#7201a8"
             ],
             [
              0.3333333333333333,
              "#9c179e"
             ],
             [
              0.4444444444444444,
              "#bd3786"
             ],
             [
              0.5555555555555556,
              "#d8576b"
             ],
             [
              0.6666666666666666,
              "#ed7953"
             ],
             [
              0.7777777777777778,
              "#fb9f3a"
             ],
             [
              0.8888888888888888,
              "#fdca26"
             ],
             [
              1,
              "#f0f921"
             ]
            ],
            "type": "histogram2d"
           }
          ],
          "histogram2dcontour": [
           {
            "colorbar": {
             "outlinewidth": 0,
             "ticks": ""
            },
            "colorscale": [
             [
              0,
              "#0d0887"
             ],
             [
              0.1111111111111111,
              "#46039f"
             ],
             [
              0.2222222222222222,
              "#7201a8"
             ],
             [
              0.3333333333333333,
              "#9c179e"
             ],
             [
              0.4444444444444444,
              "#bd3786"
             ],
             [
              0.5555555555555556,
              "#d8576b"
             ],
             [
              0.6666666666666666,
              "#ed7953"
             ],
             [
              0.7777777777777778,
              "#fb9f3a"
             ],
             [
              0.8888888888888888,
              "#fdca26"
             ],
             [
              1,
              "#f0f921"
             ]
            ],
            "type": "histogram2dcontour"
           }
          ],
          "mesh3d": [
           {
            "colorbar": {
             "outlinewidth": 0,
             "ticks": ""
            },
            "type": "mesh3d"
           }
          ],
          "parcoords": [
           {
            "line": {
             "colorbar": {
              "outlinewidth": 0,
              "ticks": ""
             }
            },
            "type": "parcoords"
           }
          ],
          "pie": [
           {
            "automargin": true,
            "type": "pie"
           }
          ],
          "scatter": [
           {
            "fillpattern": {
             "fillmode": "overlay",
             "size": 10,
             "solidity": 0.2
            },
            "type": "scatter"
           }
          ],
          "scatter3d": [
           {
            "line": {
             "colorbar": {
              "outlinewidth": 0,
              "ticks": ""
             }
            },
            "marker": {
             "colorbar": {
              "outlinewidth": 0,
              "ticks": ""
             }
            },
            "type": "scatter3d"
           }
          ],
          "scattercarpet": [
           {
            "marker": {
             "colorbar": {
              "outlinewidth": 0,
              "ticks": ""
             }
            },
            "type": "scattercarpet"
           }
          ],
          "scattergeo": [
           {
            "marker": {
             "colorbar": {
              "outlinewidth": 0,
              "ticks": ""
             }
            },
            "type": "scattergeo"
           }
          ],
          "scattergl": [
           {
            "marker": {
             "colorbar": {
              "outlinewidth": 0,
              "ticks": ""
             }
            },
            "type": "scattergl"
           }
          ],
          "scattermapbox": [
           {
            "marker": {
             "colorbar": {
              "outlinewidth": 0,
              "ticks": ""
             }
            },
            "type": "scattermapbox"
           }
          ],
          "scatterpolar": [
           {
            "marker": {
             "colorbar": {
              "outlinewidth": 0,
              "ticks": ""
             }
            },
            "type": "scatterpolar"
           }
          ],
          "scatterpolargl": [
           {
            "marker": {
             "colorbar": {
              "outlinewidth": 0,
              "ticks": ""
             }
            },
            "type": "scatterpolargl"
           }
          ],
          "scatterternary": [
           {
            "marker": {
             "colorbar": {
              "outlinewidth": 0,
              "ticks": ""
             }
            },
            "type": "scatterternary"
           }
          ],
          "surface": [
           {
            "colorbar": {
             "outlinewidth": 0,
             "ticks": ""
            },
            "colorscale": [
             [
              0,
              "#0d0887"
             ],
             [
              0.1111111111111111,
              "#46039f"
             ],
             [
              0.2222222222222222,
              "#7201a8"
             ],
             [
              0.3333333333333333,
              "#9c179e"
             ],
             [
              0.4444444444444444,
              "#bd3786"
             ],
             [
              0.5555555555555556,
              "#d8576b"
             ],
             [
              0.6666666666666666,
              "#ed7953"
             ],
             [
              0.7777777777777778,
              "#fb9f3a"
             ],
             [
              0.8888888888888888,
              "#fdca26"
             ],
             [
              1,
              "#f0f921"
             ]
            ],
            "type": "surface"
           }
          ],
          "table": [
           {
            "cells": {
             "fill": {
              "color": "#EBF0F8"
             },
             "line": {
              "color": "white"
             }
            },
            "header": {
             "fill": {
              "color": "#C8D4E3"
             },
             "line": {
              "color": "white"
             }
            },
            "type": "table"
           }
          ]
         },
         "layout": {
          "annotationdefaults": {
           "arrowcolor": "#2a3f5f",
           "arrowhead": 0,
           "arrowwidth": 1
          },
          "autotypenumbers": "strict",
          "coloraxis": {
           "colorbar": {
            "outlinewidth": 0,
            "ticks": ""
           }
          },
          "colorscale": {
           "diverging": [
            [
             0,
             "#8e0152"
            ],
            [
             0.1,
             "#c51b7d"
            ],
            [
             0.2,
             "#de77ae"
            ],
            [
             0.3,
             "#f1b6da"
            ],
            [
             0.4,
             "#fde0ef"
            ],
            [
             0.5,
             "#f7f7f7"
            ],
            [
             0.6,
             "#e6f5d0"
            ],
            [
             0.7,
             "#b8e186"
            ],
            [
             0.8,
             "#7fbc41"
            ],
            [
             0.9,
             "#4d9221"
            ],
            [
             1,
             "#276419"
            ]
           ],
           "sequential": [
            [
             0,
             "#0d0887"
            ],
            [
             0.1111111111111111,
             "#46039f"
            ],
            [
             0.2222222222222222,
             "#7201a8"
            ],
            [
             0.3333333333333333,
             "#9c179e"
            ],
            [
             0.4444444444444444,
             "#bd3786"
            ],
            [
             0.5555555555555556,
             "#d8576b"
            ],
            [
             0.6666666666666666,
             "#ed7953"
            ],
            [
             0.7777777777777778,
             "#fb9f3a"
            ],
            [
             0.8888888888888888,
             "#fdca26"
            ],
            [
             1,
             "#f0f921"
            ]
           ],
           "sequentialminus": [
            [
             0,
             "#0d0887"
            ],
            [
             0.1111111111111111,
             "#46039f"
            ],
            [
             0.2222222222222222,
             "#7201a8"
            ],
            [
             0.3333333333333333,
             "#9c179e"
            ],
            [
             0.4444444444444444,
             "#bd3786"
            ],
            [
             0.5555555555555556,
             "#d8576b"
            ],
            [
             0.6666666666666666,
             "#ed7953"
            ],
            [
             0.7777777777777778,
             "#fb9f3a"
            ],
            [
             0.8888888888888888,
             "#fdca26"
            ],
            [
             1,
             "#f0f921"
            ]
           ]
          },
          "colorway": [
           "#636efa",
           "#EF553B",
           "#00cc96",
           "#ab63fa",
           "#FFA15A",
           "#19d3f3",
           "#FF6692",
           "#B6E880",
           "#FF97FF",
           "#FECB52"
          ],
          "font": {
           "color": "#2a3f5f"
          },
          "geo": {
           "bgcolor": "white",
           "lakecolor": "white",
           "landcolor": "#E5ECF6",
           "showlakes": true,
           "showland": true,
           "subunitcolor": "white"
          },
          "hoverlabel": {
           "align": "left"
          },
          "hovermode": "closest",
          "mapbox": {
           "style": "light"
          },
          "paper_bgcolor": "white",
          "plot_bgcolor": "#E5ECF6",
          "polar": {
           "angularaxis": {
            "gridcolor": "white",
            "linecolor": "white",
            "ticks": ""
           },
           "bgcolor": "#E5ECF6",
           "radialaxis": {
            "gridcolor": "white",
            "linecolor": "white",
            "ticks": ""
           }
          },
          "scene": {
           "xaxis": {
            "backgroundcolor": "#E5ECF6",
            "gridcolor": "white",
            "gridwidth": 2,
            "linecolor": "white",
            "showbackground": true,
            "ticks": "",
            "zerolinecolor": "white"
           },
           "yaxis": {
            "backgroundcolor": "#E5ECF6",
            "gridcolor": "white",
            "gridwidth": 2,
            "linecolor": "white",
            "showbackground": true,
            "ticks": "",
            "zerolinecolor": "white"
           },
           "zaxis": {
            "backgroundcolor": "#E5ECF6",
            "gridcolor": "white",
            "gridwidth": 2,
            "linecolor": "white",
            "showbackground": true,
            "ticks": "",
            "zerolinecolor": "white"
           }
          },
          "shapedefaults": {
           "line": {
            "color": "#2a3f5f"
           }
          },
          "ternary": {
           "aaxis": {
            "gridcolor": "white",
            "linecolor": "white",
            "ticks": ""
           },
           "baxis": {
            "gridcolor": "white",
            "linecolor": "white",
            "ticks": ""
           },
           "bgcolor": "#E5ECF6",
           "caxis": {
            "gridcolor": "white",
            "linecolor": "white",
            "ticks": ""
           }
          },
          "title": {
           "x": 0.05
          },
          "xaxis": {
           "automargin": true,
           "gridcolor": "white",
           "linecolor": "white",
           "ticks": "",
           "title": {
            "standoff": 15
           },
           "zerolinecolor": "white",
           "zerolinewidth": 2
          },
          "yaxis": {
           "automargin": true,
           "gridcolor": "white",
           "linecolor": "white",
           "ticks": "",
           "title": {
            "standoff": 15
           },
           "zerolinecolor": "white",
           "zerolinewidth": 2
          }
         }
        },
        "title": {
         "text": "Average DNA damage foci in Microglia Nuclei by Tissue Location - cellpdia30_sigma1_dilrad4_dnad_obj_seg_v1_gliaero6_gliathr20_dnadero2"
        },
        "xaxis": {
         "anchor": "y",
         "domain": [
          0,
          1
         ],
         "title": {
          "text": "tissue_location"
         }
        },
        "yaxis": {
         "anchor": "x",
         "domain": [
          0,
          1
         ],
         "title": {
          "text": "avg_dna_damage_foci/glia_+"
         }
        }
       }
      }
     },
     "metadata": {},
     "output_type": "display_data"
    },
    {
     "data": {
      "application/vnd.plotly.v1+json": {
       "config": {
        "plotlyServerURL": "https://plot.ly"
       },
       "data": [
        {
         "customdata": [
          [
           101,
           0,
           "DSB Iba1 101_40X_CA1"
          ],
          [
           101,
           1,
           "DSB Iba1 101_40X_CA3"
          ],
          [
           101,
           2,
           "DSB Iba1 101_40X_CTX1"
          ],
          [
           101,
           3,
           "DSB Iba1 101_40X_CTX2"
          ],
          [
           101,
           4,
           "DSB Iba1 101_40X_CTX3"
          ],
          [
           101,
           5,
           "DSB Iba1 101_40X_DG"
          ],
          [
           102,
           6,
           "DSB Iba1 102_40X_CA1"
          ],
          [
           102,
           7,
           "DSB Iba1 102_40X_CA3"
          ],
          [
           102,
           8,
           "DSB Iba1 102_40X_CTX1"
          ],
          [
           102,
           9,
           "DSB Iba1 102_40X_CTX2"
          ],
          [
           102,
           10,
           "DSB Iba1 102_40X_CTX3"
          ],
          [
           102,
           11,
           "DSB Iba1 102_40X_DG"
          ],
          [
           103,
           12,
           "DSB Iba1 103_40X_CA1"
          ],
          [
           103,
           13,
           "DSB Iba1 103_40X_CA3"
          ],
          [
           103,
           14,
           "DSB Iba1 103_40X_CTX1"
          ],
          [
           103,
           15,
           "DSB Iba1 103_40X_CTX2"
          ],
          [
           103,
           16,
           "DSB Iba1 103_40X_CTX3"
          ],
          [
           103,
           17,
           "DSB Iba1 103_40X_DG"
          ],
          [
           104,
           18,
           "DSB Iba1 104_40X_CA1"
          ],
          [
           104,
           19,
           "DSB Iba1 104_40X_CA3"
          ],
          [
           104,
           20,
           "DSB Iba1 104_40X_CTX1"
          ],
          [
           104,
           21,
           "DSB Iba1 104_40X_CTX2"
          ],
          [
           104,
           22,
           "DSB Iba1 104_40X_CTX3"
          ],
          [
           104,
           23,
           "DSB Iba1 104_40X_DG"
          ],
          [
           105,
           24,
           "DSB Iba1 105_40X_CA1"
          ],
          [
           105,
           25,
           "DSB Iba1 105_40X_CA3"
          ],
          [
           105,
           26,
           "DSB Iba1 105_40X_CTX1"
          ],
          [
           105,
           27,
           "DSB Iba1 105_40X_CTX2"
          ],
          [
           105,
           28,
           "DSB Iba1 105_40X_CTX3"
          ],
          [
           106,
           29,
           "DSB Iba1 106_40X_CA1"
          ],
          [
           106,
           30,
           "DSB Iba1 106_40X_CA3"
          ],
          [
           106,
           31,
           "DSB Iba1 106_40X_CTX1"
          ],
          [
           106,
           32,
           "DSB Iba1 106_40X_CTX2"
          ],
          [
           106,
           33,
           "DSB Iba1 106_40X_CTX3"
          ],
          [
           106,
           34,
           "DSB Iba1 106_40X_DG"
          ],
          [
           107,
           35,
           "DSB Iba1 107_40X_CA1"
          ],
          [
           107,
           36,
           "DSB Iba1 107_40X_CA3"
          ],
          [
           107,
           37,
           "DSB Iba1 107_40X_CTX1"
          ],
          [
           107,
           38,
           "DSB Iba1 107_40X_CTX2"
          ],
          [
           107,
           39,
           "DSB Iba1 107_40X_CTX3"
          ],
          [
           107,
           40,
           "DSB Iba1 107_40X_DG"
          ],
          [
           108,
           41,
           "DSB Iba1 108_40X_CA1"
          ],
          [
           108,
           42,
           "DSB Iba1 108_40X_CA3"
          ],
          [
           108,
           43,
           "DSB Iba1 108_40X_CTX1"
          ],
          [
           108,
           44,
           "DSB Iba1 108_40X_CTX2"
          ],
          [
           108,
           45,
           "DSB Iba1 108_40X_CTX3"
          ],
          [
           108,
           46,
           "DSB Iba1 108_40X_DG"
          ],
          [
           20,
           47,
           "DSB Iba1 20_40X_CA1"
          ],
          [
           20,
           48,
           "DSB Iba1 20_40X_CA3"
          ],
          [
           20,
           49,
           "DSB Iba1 20_40X_CTX1"
          ],
          [
           20,
           50,
           "DSB Iba1 20_40X_CTX2"
          ],
          [
           20,
           51,
           "DSB Iba1 20_40X_CTX3"
          ],
          [
           20,
           52,
           "DSB Iba1 20_40X_DG"
          ],
          [
           21,
           53,
           "DSB Iba1 21_40X_CA1"
          ],
          [
           21,
           54,
           "DSB Iba1 21_40X_CA3"
          ],
          [
           21,
           55,
           "DSB Iba1 21_40X_CTX1"
          ],
          [
           21,
           56,
           "DSB Iba1 21_40X_CTX2"
          ],
          [
           21,
           57,
           "DSB Iba1 21_40X_CTX3"
          ],
          [
           21,
           58,
           "DSB Iba1 21_40X_DG"
          ],
          [
           22,
           59,
           "DSB Iba1 22_40X_CA1"
          ],
          [
           22,
           60,
           "DSB Iba1 22_40X_CA3"
          ],
          [
           22,
           61,
           "DSB Iba1 22_40X_CTX1"
          ],
          [
           22,
           62,
           "DSB Iba1 22_40X_CTX2"
          ],
          [
           22,
           63,
           "DSB Iba1 22_40X_CTX3"
          ],
          [
           22,
           64,
           "DSB Iba1 22_40X_DG"
          ],
          [
           23,
           65,
           "DSB Iba1 23_40X_CA1"
          ],
          [
           23,
           66,
           "DSB Iba1 23_40X_CA3"
          ],
          [
           23,
           67,
           "DSB Iba1 23_40X_CTX1"
          ],
          [
           23,
           68,
           "DSB Iba1 23_40X_CTX2"
          ],
          [
           23,
           69,
           "DSB Iba1 23_40X_CTX3"
          ],
          [
           23,
           70,
           "DSB Iba1 23_40X_DG"
          ],
          [
           25,
           71,
           "DSB Iba1 25_40X_CA1"
          ],
          [
           25,
           72,
           "DSB Iba1 25_40X_CA3"
          ],
          [
           25,
           73,
           "DSB Iba1 25_40X_CTX1"
          ],
          [
           25,
           74,
           "DSB Iba1 25_40X_CTX2"
          ],
          [
           25,
           75,
           "DSB Iba1 25_40X_CTX3"
          ],
          [
           25,
           76,
           "DSB Iba1 25_40X_DG"
          ],
          [
           28,
           77,
           "DSB Iba1 28_40X_CA1"
          ],
          [
           28,
           78,
           "DSB Iba1 28_40X_CA3"
          ],
          [
           28,
           79,
           "DSB Iba1 28_40X_CTX1"
          ],
          [
           28,
           80,
           "DSB Iba1 28_40X_CTX2"
          ],
          [
           28,
           81,
           "DSB Iba1 28_40X_CTX3"
          ],
          [
           28,
           82,
           "DSB Iba1 28_40X_DG"
          ],
          [
           29,
           83,
           "DSB Iba1 29_40X_CA1"
          ],
          [
           29,
           84,
           "DSB Iba1 29_40X_CA3"
          ],
          [
           29,
           85,
           "DSB Iba1 29_40X_CTX1"
          ],
          [
           29,
           86,
           "DSB Iba1 29_40X_CTX2"
          ],
          [
           29,
           87,
           "DSB Iba1 29_40X_CTX3"
          ],
          [
           29,
           88,
           "DSB Iba1 29_40X_DG"
          ],
          [
           30,
           89,
           "DSB Iba1 30_40X_CA1"
          ],
          [
           30,
           90,
           "DSB Iba1 30_40X_CA3"
          ],
          [
           30,
           91,
           "DSB Iba1 30_40X_CTX1"
          ],
          [
           30,
           92,
           "DSB Iba1 30_40X_CTX2"
          ],
          [
           30,
           93,
           "DSB Iba1 30_40X_CTX3"
          ],
          [
           30,
           94,
           "DSB Iba1 30_40X_DG"
          ],
          [
           31,
           95,
           "DSB Iba1 31_40X_CA1"
          ],
          [
           31,
           96,
           "DSB Iba1 31_40X_CA3"
          ],
          [
           31,
           97,
           "DSB Iba1 31_40X_CTX1"
          ],
          [
           31,
           98,
           "DSB Iba1 31_40X_CTX2"
          ],
          [
           31,
           99,
           "DSB Iba1 31_40X_CTX3"
          ],
          [
           31,
           100,
           "DSB Iba1 31_40X_DG"
          ],
          [
           33,
           101,
           "DSB Iba1 33_40X_CA1"
          ],
          [
           33,
           102,
           "DSB Iba1 33_40X_CA3"
          ],
          [
           33,
           103,
           "DSB Iba1 33_40X_CTX1"
          ],
          [
           33,
           104,
           "DSB Iba1 33_40X_CTX2"
          ],
          [
           33,
           105,
           "DSB Iba1 33_40X_CTX3"
          ],
          [
           33,
           106,
           "DSB Iba1 33_40X_DG"
          ],
          [
           36,
           107,
           "DSB Iba1 36_40X_CA1"
          ],
          [
           36,
           108,
           "DSB Iba1 36_40X_CA3"
          ],
          [
           36,
           109,
           "DSB Iba1 36_40X_CTX1"
          ],
          [
           36,
           110,
           "DSB Iba1 36_40X_CTX2"
          ],
          [
           36,
           111,
           "DSB Iba1 36_40X_CTX3"
          ],
          [
           36,
           112,
           "DSB Iba1 36_40X_DG"
          ],
          [
           39,
           113,
           "DSB Iba1 39_40X_CA1"
          ],
          [
           39,
           114,
           "DSB Iba1 39_40X_CA3"
          ],
          [
           39,
           115,
           "DSB Iba1 39_40X_CTX1"
          ],
          [
           39,
           116,
           "DSB Iba1 39_40X_CTX2"
          ],
          [
           39,
           117,
           "DSB Iba1 39_40X_CTX3"
          ],
          [
           39,
           118,
           "DSB Iba1 39_40X_DG"
          ],
          [
           40,
           119,
           "DSB Iba1 40_40X_CA1"
          ],
          [
           40,
           120,
           "DSB Iba1 40_40X_CA3"
          ],
          [
           40,
           121,
           "DSB Iba1 40_40X_CTX1"
          ],
          [
           40,
           122,
           "DSB Iba1 40_40X_CTX2"
          ],
          [
           40,
           123,
           "DSB Iba1 40_40X_CTX3"
          ],
          [
           40,
           124,
           "DSB Iba1 40_40X_DG"
          ],
          [
           41,
           125,
           "DSB Iba1 41_40X_CA1"
          ],
          [
           41,
           126,
           "DSB Iba1 41_40X_CA3"
          ],
          [
           41,
           127,
           "DSB Iba1 41_40X_CTX1"
          ],
          [
           41,
           128,
           "DSB Iba1 41_40X_CTX2"
          ],
          [
           41,
           129,
           "DSB Iba1 41_40X_CTX3"
          ],
          [
           41,
           130,
           "DSB Iba1 41_40X_DG"
          ],
          [
           42,
           131,
           "DSB Iba1 42_40X_CA1"
          ],
          [
           42,
           132,
           "DSB Iba1 42_40X_CA3"
          ],
          [
           42,
           133,
           "DSB Iba1 42_40X_CTX1"
          ],
          [
           42,
           134,
           "DSB Iba1 42_40X_CTX2"
          ],
          [
           42,
           135,
           "DSB Iba1 42_40X_CTX3"
          ],
          [
           42,
           136,
           "DSB Iba1 42_40X_DG"
          ],
          [
           43,
           137,
           "DSB Iba1 43_40X_CA1"
          ],
          [
           43,
           138,
           "DSB Iba1 43_40X_CA3"
          ],
          [
           43,
           139,
           "DSB Iba1 43_40X_CTX1"
          ],
          [
           43,
           140,
           "DSB Iba1 43_40X_CTX2"
          ],
          [
           43,
           141,
           "DSB Iba1 43_40X_CTX3"
          ],
          [
           43,
           142,
           "DSB Iba1 43_40X_DG"
          ],
          [
           45,
           143,
           "DSB Iba1 45_40X_CA1"
          ],
          [
           45,
           144,
           "DSB Iba1 45_40X_CA3"
          ],
          [
           45,
           145,
           "DSB Iba1 45_40X_CTX1"
          ],
          [
           45,
           146,
           "DSB Iba1 45_40X_CTX2"
          ],
          [
           45,
           147,
           "DSB Iba1 45_40X_CTX3"
          ],
          [
           45,
           148,
           "DSB Iba1 45_40X_DG"
          ],
          [
           48,
           149,
           "DSB Iba1 48_40X_CA1"
          ],
          [
           48,
           150,
           "DSB Iba1 48_40X_CA3"
          ],
          [
           48,
           151,
           "DSB Iba1 48_40X_CTX1"
          ],
          [
           48,
           152,
           "DSB Iba1 48_40X_CTX2"
          ],
          [
           48,
           153,
           "DSB Iba1 48_40X_CTX3"
          ],
          [
           48,
           154,
           "DSB Iba1 48_40X_DG"
          ],
          [
           50,
           155,
           "DSB Iba1 50_40X_CA1"
          ],
          [
           50,
           156,
           "DSB Iba1 50_40X_CA3"
          ],
          [
           50,
           157,
           "DSB Iba1 50_40X_CTX1"
          ],
          [
           50,
           158,
           "DSB Iba1 50_40X_CTX2"
          ],
          [
           50,
           159,
           "DSB Iba1 50_40X_CTX3"
          ],
          [
           50,
           160,
           "DSB Iba1 50_40X_DG"
          ],
          [
           51,
           161,
           "DSB Iba1 51_40X_CA1"
          ],
          [
           51,
           162,
           "DSB Iba1 51_40X_CA3"
          ],
          [
           51,
           163,
           "DSB Iba1 51_40X_CTX1"
          ],
          [
           51,
           164,
           "DSB Iba1 51_40X_CTX2"
          ],
          [
           51,
           165,
           "DSB Iba1 51_40X_CTX3"
          ],
          [
           51,
           166,
           "DSB Iba1 51_40X_DG"
          ],
          [
           52,
           167,
           "DSB Iba1 52_40X_CA1"
          ],
          [
           52,
           168,
           "DSB Iba1 52_40X_CA3"
          ],
          [
           52,
           169,
           "DSB Iba1 52_40X_CTX1"
          ],
          [
           52,
           170,
           "DSB Iba1 52_40X_CTX2"
          ],
          [
           52,
           171,
           "DSB Iba1 52_40X_CTX3"
          ],
          [
           52,
           172,
           "DSB Iba1 52_40X_DG"
          ],
          [
           54,
           173,
           "DSB Iba1 54_40X_CA1"
          ],
          [
           54,
           174,
           "DSB Iba1 54_40X_CA3"
          ],
          [
           54,
           175,
           "DSB Iba1 54_40X_CTX1"
          ],
          [
           54,
           176,
           "DSB Iba1 54_40X_CTX2"
          ],
          [
           54,
           177,
           "DSB Iba1 54_40X_CTX3"
          ],
          [
           54,
           178,
           "DSB Iba1 54_40X_DG"
          ],
          [
           55,
           179,
           "DSB Iba1 55_40X_CA1"
          ],
          [
           55,
           180,
           "DSB Iba1 55_40X_CA3"
          ],
          [
           55,
           181,
           "DSB Iba1 55_40X_CTX1"
          ],
          [
           55,
           182,
           "DSB Iba1 55_40X_CTX2"
          ],
          [
           55,
           183,
           "DSB Iba1 55_40X_CTX3"
          ],
          [
           55,
           184,
           "DSB Iba1 55_40X_DG"
          ],
          [
           56,
           185,
           "DSB Iba1 56_40X_CA1"
          ],
          [
           56,
           186,
           "DSB Iba1 56_40X_CA3"
          ],
          [
           56,
           187,
           "DSB Iba1 56_40X_CTX1"
          ],
          [
           56,
           188,
           "DSB Iba1 56_40X_CTX2"
          ],
          [
           56,
           189,
           "DSB Iba1 56_40X_CTX3"
          ],
          [
           56,
           190,
           "DSB Iba1 56_40X_DG"
          ],
          [
           58,
           191,
           "DSB Iba1 58_40X_CA1"
          ],
          [
           58,
           192,
           "DSB Iba1 58_40X_CA3"
          ],
          [
           58,
           193,
           "DSB Iba1 58_40X_CTX1"
          ],
          [
           58,
           194,
           "DSB Iba1 58_40X_CTX2"
          ],
          [
           58,
           195,
           "DSB Iba1 58_40X_CTX3"
          ],
          [
           58,
           196,
           "DSB Iba1 58_40X_DG"
          ],
          [
           59,
           197,
           "DSB Iba1 59_40X_CA1"
          ],
          [
           59,
           198,
           "DSB Iba1 59_40X_CA3"
          ],
          [
           59,
           199,
           "DSB Iba1 59_40X_CTX1"
          ],
          [
           59,
           200,
           "DSB Iba1 59_40X_CTX2"
          ],
          [
           59,
           201,
           "DSB Iba1 59_40X_CTX3"
          ],
          [
           59,
           202,
           "DSB Iba1 59_40X_DG"
          ]
         ],
         "hovertemplate": "tissue_location=%{x}<br>avg_dna_damage_foci/all_nuclei=%{y}<br>staining_id=%{customdata[0]}<br>index=%{customdata[1]}<br>filename=%{customdata[2]}<extra></extra>",
         "legendgroup": "",
         "marker": {
          "color": "#636efa",
          "symbol": "circle"
         },
         "mode": "markers",
         "name": "",
         "orientation": "v",
         "showlegend": false,
         "type": "scatter",
         "x": [
          "CA1",
          "CA3",
          "CTX1",
          "CTX2",
          "CTX3",
          "DG",
          "CA1",
          "CA3",
          "CTX1",
          "CTX2",
          "CTX3",
          "DG",
          "CA1",
          "CA3",
          "CTX1",
          "CTX2",
          "CTX3",
          "DG",
          "CA1",
          "CA3",
          "CTX1",
          "CTX2",
          "CTX3",
          "DG",
          "CA1",
          "CA3",
          "CTX1",
          "CTX2",
          "CTX3",
          "CA1",
          "CA3",
          "CTX1",
          "CTX2",
          "CTX3",
          "DG",
          "CA1",
          "CA3",
          "CTX1",
          "CTX2",
          "CTX3",
          "DG",
          "CA1",
          "CA3",
          "CTX1",
          "CTX2",
          "CTX3",
          "DG",
          "CA1",
          "CA3",
          "CTX1",
          "CTX2",
          "CTX3",
          "DG",
          "CA1",
          "CA3",
          "CTX1",
          "CTX2",
          "CTX3",
          "DG",
          "CA1",
          "CA3",
          "CTX1",
          "CTX2",
          "CTX3",
          "DG",
          "CA1",
          "CA3",
          "CTX1",
          "CTX2",
          "CTX3",
          "DG",
          "CA1",
          "CA3",
          "CTX1",
          "CTX2",
          "CTX3",
          "DG",
          "CA1",
          "CA3",
          "CTX1",
          "CTX2",
          "CTX3",
          "DG",
          "CA1",
          "CA3",
          "CTX1",
          "CTX2",
          "CTX3",
          "DG",
          "CA1",
          "CA3",
          "CTX1",
          "CTX2",
          "CTX3",
          "DG",
          "CA1",
          "CA3",
          "CTX1",
          "CTX2",
          "CTX3",
          "DG",
          "CA1",
          "CA3",
          "CTX1",
          "CTX2",
          "CTX3",
          "DG",
          "CA1",
          "CA3",
          "CTX1",
          "CTX2",
          "CTX3",
          "DG",
          "CA1",
          "CA3",
          "CTX1",
          "CTX2",
          "CTX3",
          "DG",
          "CA1",
          "CA3",
          "CTX1",
          "CTX2",
          "CTX3",
          "DG",
          "CA1",
          "CA3",
          "CTX1",
          "CTX2",
          "CTX3",
          "DG",
          "CA1",
          "CA3",
          "CTX1",
          "CTX2",
          "CTX3",
          "DG",
          "CA1",
          "CA3",
          "CTX1",
          "CTX2",
          "CTX3",
          "DG",
          "CA1",
          "CA3",
          "CTX1",
          "CTX2",
          "CTX3",
          "DG",
          "CA1",
          "CA3",
          "CTX1",
          "CTX2",
          "CTX3",
          "DG",
          "CA1",
          "CA3",
          "CTX1",
          "CTX2",
          "CTX3",
          "DG",
          "CA1",
          "CA3",
          "CTX1",
          "CTX2",
          "CTX3",
          "DG",
          "CA1",
          "CA3",
          "CTX1",
          "CTX2",
          "CTX3",
          "DG",
          "CA1",
          "CA3",
          "CTX1",
          "CTX2",
          "CTX3",
          "DG",
          "CA1",
          "CA3",
          "CTX1",
          "CTX2",
          "CTX3",
          "DG",
          "CA1",
          "CA3",
          "CTX1",
          "CTX2",
          "CTX3",
          "DG",
          "CA1",
          "CA3",
          "CTX1",
          "CTX2",
          "CTX3",
          "DG",
          "CA1",
          "CA3",
          "CTX1",
          "CTX2",
          "CTX3",
          "DG"
         ],
         "xaxis": "x",
         "y": [
          0.5733333333333334,
          0.934959349593496,
          0.9580838323353292,
          0.8983739837398373,
          0.759656652360515,
          1.3,
          0.3697916666666667,
          0.890625,
          0.7142857142857143,
          0.7781569965870307,
          0.8795180722891566,
          1.2924281984334205,
          0.573170731707317,
          0.9912280701754386,
          0.4683544303797468,
          1.1932773109243695,
          0.9247311827956988,
          1.4065281899109792,
          0.582010582010582,
          1.2662337662337662,
          0.765625,
          1.1553398058252426,
          0.84,
          1.1826625386996903,
          0.6166666666666667,
          0.7849462365591398,
          0.47953216374269,
          1.125,
          0.9230769230769232,
          0.4294871794871794,
          0.7017543859649122,
          0.5714285714285714,
          0.6479591836734694,
          0.9433962264150944,
          1.0833333333333333,
          0.7114093959731543,
          0.9206349206349206,
          0.577922077922078,
          1.0289855072463767,
          0.7531380753138075,
          1.2686567164179106,
          0.6598639455782312,
          1.054054054054054,
          0.5063291139240507,
          1.1487179487179486,
          0.9709302325581396,
          1.2449438202247192,
          0.6645161290322581,
          1.3245614035087718,
          0.5151515151515151,
          1.069182389937107,
          0.532608695652174,
          1.435483870967742,
          0.851063829787234,
          1,
          0.695,
          0.7688888888888888,
          1.0824742268041236,
          1.1310679611650485,
          1.206896551724138,
          1.2302158273381294,
          1.2880658436213992,
          1.0454545454545454,
          0.3928571428571428,
          1.633838383838384,
          0.6617647058823529,
          0.6491228070175439,
          0.387434554973822,
          0.075,
          0.7905405405405406,
          1.122969837587007,
          1.6158940397350994,
          1.9197080291970805,
          0.6090225563909775,
          1.78125,
          2.2216216216216216,
          2.067469879518072,
          0.8023255813953488,
          0.5223880597014925,
          0.6923076923076923,
          0.927536231884058,
          1.3451776649746192,
          2.452247191011236,
          0.7718120805369127,
          0.6386554621848739,
          0.7939698492462312,
          1.177664974619289,
          0.5952380952380952,
          1.025974025974026,
          0.528169014084507,
          0.8543689320388349,
          0.4444444444444444,
          0.5152671755725191,
          0.3668341708542713,
          1.1607629427792916,
          1.0059880239520955,
          0.9672131147540984,
          0.4766839378238341,
          0.6208333333333333,
          0.9178082191780822,
          1.6540880503144657,
          0.759493670886076,
          0.9619565217391304,
          0.6696428571428571,
          1.3214285714285714,
          0.8301886792452831,
          1.528169014084507,
          1.0666666666666669,
          1,
          1.9855769230769231,
          1.264840182648402,
          1.1965317919075145,
          1.663716814159292,
          0.8125,
          0.9111111111111112,
          0.369047619047619,
          0.4,
          0.2450331125827814,
          0.7377049180327869,
          0.363013698630137,
          0.7272727272727273,
          0.6645161290322581,
          0.6242038216560509,
          0.6486486486486487,
          1.189102564102564,
          0.6225165562913907,
          0.5,
          0.0736196319018405,
          0.1405405405405405,
          0.1785714285714285,
          1.0633608815426998,
          0.4137931034482758,
          0.8058252427184466,
          0.5238095238095238,
          0.5225806451612903,
          0.7746478873239436,
          0.8067010309278351,
          0.3154362416107382,
          1.2772277227722773,
          1.4035874439461884,
          0.4009661835748792,
          0.9282296650717704,
          2.459537572254335,
          1.922619047619048,
          1.548780487804878,
          0.5304347826086957,
          0.3828828828828828,
          0.4492753623188406,
          2.2536945812807883,
          1.1333333333333333,
          0.6195652173913043,
          0.691304347826087,
          0.7406015037593985,
          0.7831858407079646,
          1.7268041237113405,
          0.1866666666666666,
          0.4758064516129032,
          0.0157480314960629,
          0.180672268907563,
          0.7905759162303665,
          0.343811394891945,
          0.375,
          0.811965811965812,
          0.2876712328767123,
          0.2227272727272727,
          0.4530386740331492,
          0.8927613941018767,
          0.3939393939393939,
          0.6122448979591837,
          0.2903225806451613,
          0.5,
          0.5257731958762887,
          0.5926966292134831,
          0.5692307692307692,
          1.062992125984252,
          0.6907216494845361,
          0.7251461988304093,
          0.7797619047619048,
          1.2145110410094635,
          0.4961240310077519,
          0.6210526315789474,
          0.0534351145038167,
          0.7847222222222222,
          0.188235294117647,
          0.8403990024937655,
          0.5095541401273885,
          0.6515151515151515,
          0.5056179775280899,
          0.3388429752066115,
          0.3351063829787234,
          0.7286063569682152,
          0.6528925619834711,
          0.8761061946902655,
          0.5886524822695035,
          0.837696335078534,
          0.5677083333333334,
          0.7709677419354839,
          0.6390532544378699,
          0.45,
          0.6515151515151515,
          0.4041095890410959,
          0.4962962962962963,
          0.9853372434017597
         ],
         "yaxis": "y"
        }
       ],
       "layout": {
        "legend": {
         "tracegroupgap": 0
        },
        "template": {
         "data": {
          "bar": [
           {
            "error_x": {
             "color": "#2a3f5f"
            },
            "error_y": {
             "color": "#2a3f5f"
            },
            "marker": {
             "line": {
              "color": "#E5ECF6",
              "width": 0.5
             },
             "pattern": {
              "fillmode": "overlay",
              "size": 10,
              "solidity": 0.2
             }
            },
            "type": "bar"
           }
          ],
          "barpolar": [
           {
            "marker": {
             "line": {
              "color": "#E5ECF6",
              "width": 0.5
             },
             "pattern": {
              "fillmode": "overlay",
              "size": 10,
              "solidity": 0.2
             }
            },
            "type": "barpolar"
           }
          ],
          "carpet": [
           {
            "aaxis": {
             "endlinecolor": "#2a3f5f",
             "gridcolor": "white",
             "linecolor": "white",
             "minorgridcolor": "white",
             "startlinecolor": "#2a3f5f"
            },
            "baxis": {
             "endlinecolor": "#2a3f5f",
             "gridcolor": "white",
             "linecolor": "white",
             "minorgridcolor": "white",
             "startlinecolor": "#2a3f5f"
            },
            "type": "carpet"
           }
          ],
          "choropleth": [
           {
            "colorbar": {
             "outlinewidth": 0,
             "ticks": ""
            },
            "type": "choropleth"
           }
          ],
          "contour": [
           {
            "colorbar": {
             "outlinewidth": 0,
             "ticks": ""
            },
            "colorscale": [
             [
              0,
              "#0d0887"
             ],
             [
              0.1111111111111111,
              "#46039f"
             ],
             [
              0.2222222222222222,
              "#7201a8"
             ],
             [
              0.3333333333333333,
              "#9c179e"
             ],
             [
              0.4444444444444444,
              "#bd3786"
             ],
             [
              0.5555555555555556,
              "#d8576b"
             ],
             [
              0.6666666666666666,
              "#ed7953"
             ],
             [
              0.7777777777777778,
              "#fb9f3a"
             ],
             [
              0.8888888888888888,
              "#fdca26"
             ],
             [
              1,
              "#f0f921"
             ]
            ],
            "type": "contour"
           }
          ],
          "contourcarpet": [
           {
            "colorbar": {
             "outlinewidth": 0,
             "ticks": ""
            },
            "type": "contourcarpet"
           }
          ],
          "heatmap": [
           {
            "colorbar": {
             "outlinewidth": 0,
             "ticks": ""
            },
            "colorscale": [
             [
              0,
              "#0d0887"
             ],
             [
              0.1111111111111111,
              "#46039f"
             ],
             [
              0.2222222222222222,
              "#7201a8"
             ],
             [
              0.3333333333333333,
              "#9c179e"
             ],
             [
              0.4444444444444444,
              "#bd3786"
             ],
             [
              0.5555555555555556,
              "#d8576b"
             ],
             [
              0.6666666666666666,
              "#ed7953"
             ],
             [
              0.7777777777777778,
              "#fb9f3a"
             ],
             [
              0.8888888888888888,
              "#fdca26"
             ],
             [
              1,
              "#f0f921"
             ]
            ],
            "type": "heatmap"
           }
          ],
          "heatmapgl": [
           {
            "colorbar": {
             "outlinewidth": 0,
             "ticks": ""
            },
            "colorscale": [
             [
              0,
              "#0d0887"
             ],
             [
              0.1111111111111111,
              "#46039f"
             ],
             [
              0.2222222222222222,
              "#7201a8"
             ],
             [
              0.3333333333333333,
              "#9c179e"
             ],
             [
              0.4444444444444444,
              "#bd3786"
             ],
             [
              0.5555555555555556,
              "#d8576b"
             ],
             [
              0.6666666666666666,
              "#ed7953"
             ],
             [
              0.7777777777777778,
              "#fb9f3a"
             ],
             [
              0.8888888888888888,
              "#fdca26"
             ],
             [
              1,
              "#f0f921"
             ]
            ],
            "type": "heatmapgl"
           }
          ],
          "histogram": [
           {
            "marker": {
             "pattern": {
              "fillmode": "overlay",
              "size": 10,
              "solidity": 0.2
             }
            },
            "type": "histogram"
           }
          ],
          "histogram2d": [
           {
            "colorbar": {
             "outlinewidth": 0,
             "ticks": ""
            },
            "colorscale": [
             [
              0,
              "#0d0887"
             ],
             [
              0.1111111111111111,
              "#46039f"
             ],
             [
              0.2222222222222222,
              "#7201a8"
             ],
             [
              0.3333333333333333,
              "#9c179e"
             ],
             [
              0.4444444444444444,
              "#bd3786"
             ],
             [
              0.5555555555555556,
              "#d8576b"
             ],
             [
              0.6666666666666666,
              "#ed7953"
             ],
             [
              0.7777777777777778,
              "#fb9f3a"
             ],
             [
              0.8888888888888888,
              "#fdca26"
             ],
             [
              1,
              "#f0f921"
             ]
            ],
            "type": "histogram2d"
           }
          ],
          "histogram2dcontour": [
           {
            "colorbar": {
             "outlinewidth": 0,
             "ticks": ""
            },
            "colorscale": [
             [
              0,
              "#0d0887"
             ],
             [
              0.1111111111111111,
              "#46039f"
             ],
             [
              0.2222222222222222,
              "#7201a8"
             ],
             [
              0.3333333333333333,
              "#9c179e"
             ],
             [
              0.4444444444444444,
              "#bd3786"
             ],
             [
              0.5555555555555556,
              "#d8576b"
             ],
             [
              0.6666666666666666,
              "#ed7953"
             ],
             [
              0.7777777777777778,
              "#fb9f3a"
             ],
             [
              0.8888888888888888,
              "#fdca26"
             ],
             [
              1,
              "#f0f921"
             ]
            ],
            "type": "histogram2dcontour"
           }
          ],
          "mesh3d": [
           {
            "colorbar": {
             "outlinewidth": 0,
             "ticks": ""
            },
            "type": "mesh3d"
           }
          ],
          "parcoords": [
           {
            "line": {
             "colorbar": {
              "outlinewidth": 0,
              "ticks": ""
             }
            },
            "type": "parcoords"
           }
          ],
          "pie": [
           {
            "automargin": true,
            "type": "pie"
           }
          ],
          "scatter": [
           {
            "fillpattern": {
             "fillmode": "overlay",
             "size": 10,
             "solidity": 0.2
            },
            "type": "scatter"
           }
          ],
          "scatter3d": [
           {
            "line": {
             "colorbar": {
              "outlinewidth": 0,
              "ticks": ""
             }
            },
            "marker": {
             "colorbar": {
              "outlinewidth": 0,
              "ticks": ""
             }
            },
            "type": "scatter3d"
           }
          ],
          "scattercarpet": [
           {
            "marker": {
             "colorbar": {
              "outlinewidth": 0,
              "ticks": ""
             }
            },
            "type": "scattercarpet"
           }
          ],
          "scattergeo": [
           {
            "marker": {
             "colorbar": {
              "outlinewidth": 0,
              "ticks": ""
             }
            },
            "type": "scattergeo"
           }
          ],
          "scattergl": [
           {
            "marker": {
             "colorbar": {
              "outlinewidth": 0,
              "ticks": ""
             }
            },
            "type": "scattergl"
           }
          ],
          "scattermapbox": [
           {
            "marker": {
             "colorbar": {
              "outlinewidth": 0,
              "ticks": ""
             }
            },
            "type": "scattermapbox"
           }
          ],
          "scatterpolar": [
           {
            "marker": {
             "colorbar": {
              "outlinewidth": 0,
              "ticks": ""
             }
            },
            "type": "scatterpolar"
           }
          ],
          "scatterpolargl": [
           {
            "marker": {
             "colorbar": {
              "outlinewidth": 0,
              "ticks": ""
             }
            },
            "type": "scatterpolargl"
           }
          ],
          "scatterternary": [
           {
            "marker": {
             "colorbar": {
              "outlinewidth": 0,
              "ticks": ""
             }
            },
            "type": "scatterternary"
           }
          ],
          "surface": [
           {
            "colorbar": {
             "outlinewidth": 0,
             "ticks": ""
            },
            "colorscale": [
             [
              0,
              "#0d0887"
             ],
             [
              0.1111111111111111,
              "#46039f"
             ],
             [
              0.2222222222222222,
              "#7201a8"
             ],
             [
              0.3333333333333333,
              "#9c179e"
             ],
             [
              0.4444444444444444,
              "#bd3786"
             ],
             [
              0.5555555555555556,
              "#d8576b"
             ],
             [
              0.6666666666666666,
              "#ed7953"
             ],
             [
              0.7777777777777778,
              "#fb9f3a"
             ],
             [
              0.8888888888888888,
              "#fdca26"
             ],
             [
              1,
              "#f0f921"
             ]
            ],
            "type": "surface"
           }
          ],
          "table": [
           {
            "cells": {
             "fill": {
              "color": "#EBF0F8"
             },
             "line": {
              "color": "white"
             }
            },
            "header": {
             "fill": {
              "color": "#C8D4E3"
             },
             "line": {
              "color": "white"
             }
            },
            "type": "table"
           }
          ]
         },
         "layout": {
          "annotationdefaults": {
           "arrowcolor": "#2a3f5f",
           "arrowhead": 0,
           "arrowwidth": 1
          },
          "autotypenumbers": "strict",
          "coloraxis": {
           "colorbar": {
            "outlinewidth": 0,
            "ticks": ""
           }
          },
          "colorscale": {
           "diverging": [
            [
             0,
             "#8e0152"
            ],
            [
             0.1,
             "#c51b7d"
            ],
            [
             0.2,
             "#de77ae"
            ],
            [
             0.3,
             "#f1b6da"
            ],
            [
             0.4,
             "#fde0ef"
            ],
            [
             0.5,
             "#f7f7f7"
            ],
            [
             0.6,
             "#e6f5d0"
            ],
            [
             0.7,
             "#b8e186"
            ],
            [
             0.8,
             "#7fbc41"
            ],
            [
             0.9,
             "#4d9221"
            ],
            [
             1,
             "#276419"
            ]
           ],
           "sequential": [
            [
             0,
             "#0d0887"
            ],
            [
             0.1111111111111111,
             "#46039f"
            ],
            [
             0.2222222222222222,
             "#7201a8"
            ],
            [
             0.3333333333333333,
             "#9c179e"
            ],
            [
             0.4444444444444444,
             "#bd3786"
            ],
            [
             0.5555555555555556,
             "#d8576b"
            ],
            [
             0.6666666666666666,
             "#ed7953"
            ],
            [
             0.7777777777777778,
             "#fb9f3a"
            ],
            [
             0.8888888888888888,
             "#fdca26"
            ],
            [
             1,
             "#f0f921"
            ]
           ],
           "sequentialminus": [
            [
             0,
             "#0d0887"
            ],
            [
             0.1111111111111111,
             "#46039f"
            ],
            [
             0.2222222222222222,
             "#7201a8"
            ],
            [
             0.3333333333333333,
             "#9c179e"
            ],
            [
             0.4444444444444444,
             "#bd3786"
            ],
            [
             0.5555555555555556,
             "#d8576b"
            ],
            [
             0.6666666666666666,
             "#ed7953"
            ],
            [
             0.7777777777777778,
             "#fb9f3a"
            ],
            [
             0.8888888888888888,
             "#fdca26"
            ],
            [
             1,
             "#f0f921"
            ]
           ]
          },
          "colorway": [
           "#636efa",
           "#EF553B",
           "#00cc96",
           "#ab63fa",
           "#FFA15A",
           "#19d3f3",
           "#FF6692",
           "#B6E880",
           "#FF97FF",
           "#FECB52"
          ],
          "font": {
           "color": "#2a3f5f"
          },
          "geo": {
           "bgcolor": "white",
           "lakecolor": "white",
           "landcolor": "#E5ECF6",
           "showlakes": true,
           "showland": true,
           "subunitcolor": "white"
          },
          "hoverlabel": {
           "align": "left"
          },
          "hovermode": "closest",
          "mapbox": {
           "style": "light"
          },
          "paper_bgcolor": "white",
          "plot_bgcolor": "#E5ECF6",
          "polar": {
           "angularaxis": {
            "gridcolor": "white",
            "linecolor": "white",
            "ticks": ""
           },
           "bgcolor": "#E5ECF6",
           "radialaxis": {
            "gridcolor": "white",
            "linecolor": "white",
            "ticks": ""
           }
          },
          "scene": {
           "xaxis": {
            "backgroundcolor": "#E5ECF6",
            "gridcolor": "white",
            "gridwidth": 2,
            "linecolor": "white",
            "showbackground": true,
            "ticks": "",
            "zerolinecolor": "white"
           },
           "yaxis": {
            "backgroundcolor": "#E5ECF6",
            "gridcolor": "white",
            "gridwidth": 2,
            "linecolor": "white",
            "showbackground": true,
            "ticks": "",
            "zerolinecolor": "white"
           },
           "zaxis": {
            "backgroundcolor": "#E5ECF6",
            "gridcolor": "white",
            "gridwidth": 2,
            "linecolor": "white",
            "showbackground": true,
            "ticks": "",
            "zerolinecolor": "white"
           }
          },
          "shapedefaults": {
           "line": {
            "color": "#2a3f5f"
           }
          },
          "ternary": {
           "aaxis": {
            "gridcolor": "white",
            "linecolor": "white",
            "ticks": ""
           },
           "baxis": {
            "gridcolor": "white",
            "linecolor": "white",
            "ticks": ""
           },
           "bgcolor": "#E5ECF6",
           "caxis": {
            "gridcolor": "white",
            "linecolor": "white",
            "ticks": ""
           }
          },
          "title": {
           "x": 0.05
          },
          "xaxis": {
           "automargin": true,
           "gridcolor": "white",
           "linecolor": "white",
           "ticks": "",
           "title": {
            "standoff": 15
           },
           "zerolinecolor": "white",
           "zerolinewidth": 2
          },
          "yaxis": {
           "automargin": true,
           "gridcolor": "white",
           "linecolor": "white",
           "ticks": "",
           "title": {
            "standoff": 15
           },
           "zerolinecolor": "white",
           "zerolinewidth": 2
          }
         }
        },
        "title": {
         "text": "Average DNA damage foci in All Nuclei by Tissue Location - cellpdia30_sigma1_dilrad4_dnad_obj_seg_v1_gliaero6_gliathr20_dnadero2"
        },
        "xaxis": {
         "anchor": "y",
         "domain": [
          0,
          1
         ],
         "title": {
          "text": "tissue_location"
         }
        },
        "yaxis": {
         "anchor": "x",
         "domain": [
          0,
          1
         ],
         "title": {
          "text": "avg_dna_damage_foci/all_nuclei"
         }
        }
       }
      }
     },
     "metadata": {},
     "output_type": "display_data"
    },
    {
     "data": {
      "application/vnd.plotly.v1+json": {
       "config": {
        "plotlyServerURL": "https://plot.ly"
       },
       "data": [
        {
         "customdata": [
          [
           101,
           0,
           "DSB Iba1 101_40X_CA1"
          ],
          [
           101,
           1,
           "DSB Iba1 101_40X_CA3"
          ],
          [
           101,
           2,
           "DSB Iba1 101_40X_CTX1"
          ],
          [
           101,
           3,
           "DSB Iba1 101_40X_CTX2"
          ],
          [
           101,
           4,
           "DSB Iba1 101_40X_CTX3"
          ],
          [
           101,
           5,
           "DSB Iba1 101_40X_DG"
          ],
          [
           102,
           6,
           "DSB Iba1 102_40X_CA1"
          ],
          [
           102,
           7,
           "DSB Iba1 102_40X_CA3"
          ],
          [
           102,
           8,
           "DSB Iba1 102_40X_CTX1"
          ],
          [
           102,
           9,
           "DSB Iba1 102_40X_CTX2"
          ],
          [
           102,
           10,
           "DSB Iba1 102_40X_CTX3"
          ],
          [
           102,
           11,
           "DSB Iba1 102_40X_DG"
          ],
          [
           103,
           12,
           "DSB Iba1 103_40X_CA1"
          ],
          [
           103,
           13,
           "DSB Iba1 103_40X_CA3"
          ],
          [
           103,
           14,
           "DSB Iba1 103_40X_CTX1"
          ],
          [
           103,
           15,
           "DSB Iba1 103_40X_CTX2"
          ],
          [
           103,
           16,
           "DSB Iba1 103_40X_CTX3"
          ],
          [
           103,
           17,
           "DSB Iba1 103_40X_DG"
          ],
          [
           104,
           18,
           "DSB Iba1 104_40X_CA1"
          ],
          [
           104,
           19,
           "DSB Iba1 104_40X_CA3"
          ],
          [
           104,
           20,
           "DSB Iba1 104_40X_CTX1"
          ],
          [
           104,
           21,
           "DSB Iba1 104_40X_CTX2"
          ],
          [
           104,
           22,
           "DSB Iba1 104_40X_CTX3"
          ],
          [
           104,
           23,
           "DSB Iba1 104_40X_DG"
          ],
          [
           105,
           24,
           "DSB Iba1 105_40X_CA1"
          ],
          [
           105,
           25,
           "DSB Iba1 105_40X_CA3"
          ],
          [
           105,
           26,
           "DSB Iba1 105_40X_CTX1"
          ],
          [
           105,
           27,
           "DSB Iba1 105_40X_CTX2"
          ],
          [
           105,
           28,
           "DSB Iba1 105_40X_CTX3"
          ],
          [
           106,
           29,
           "DSB Iba1 106_40X_CA1"
          ],
          [
           106,
           30,
           "DSB Iba1 106_40X_CA3"
          ],
          [
           106,
           31,
           "DSB Iba1 106_40X_CTX1"
          ],
          [
           106,
           32,
           "DSB Iba1 106_40X_CTX2"
          ],
          [
           106,
           33,
           "DSB Iba1 106_40X_CTX3"
          ],
          [
           106,
           34,
           "DSB Iba1 106_40X_DG"
          ],
          [
           107,
           35,
           "DSB Iba1 107_40X_CA1"
          ],
          [
           107,
           36,
           "DSB Iba1 107_40X_CA3"
          ],
          [
           107,
           37,
           "DSB Iba1 107_40X_CTX1"
          ],
          [
           107,
           38,
           "DSB Iba1 107_40X_CTX2"
          ],
          [
           107,
           39,
           "DSB Iba1 107_40X_CTX3"
          ],
          [
           107,
           40,
           "DSB Iba1 107_40X_DG"
          ],
          [
           108,
           41,
           "DSB Iba1 108_40X_CA1"
          ],
          [
           108,
           42,
           "DSB Iba1 108_40X_CA3"
          ],
          [
           108,
           43,
           "DSB Iba1 108_40X_CTX1"
          ],
          [
           108,
           44,
           "DSB Iba1 108_40X_CTX2"
          ],
          [
           108,
           45,
           "DSB Iba1 108_40X_CTX3"
          ],
          [
           108,
           46,
           "DSB Iba1 108_40X_DG"
          ],
          [
           20,
           47,
           "DSB Iba1 20_40X_CA1"
          ],
          [
           20,
           48,
           "DSB Iba1 20_40X_CA3"
          ],
          [
           20,
           49,
           "DSB Iba1 20_40X_CTX1"
          ],
          [
           20,
           50,
           "DSB Iba1 20_40X_CTX2"
          ],
          [
           20,
           51,
           "DSB Iba1 20_40X_CTX3"
          ],
          [
           20,
           52,
           "DSB Iba1 20_40X_DG"
          ],
          [
           21,
           53,
           "DSB Iba1 21_40X_CA1"
          ],
          [
           21,
           54,
           "DSB Iba1 21_40X_CA3"
          ],
          [
           21,
           55,
           "DSB Iba1 21_40X_CTX1"
          ],
          [
           21,
           56,
           "DSB Iba1 21_40X_CTX2"
          ],
          [
           21,
           57,
           "DSB Iba1 21_40X_CTX3"
          ],
          [
           21,
           58,
           "DSB Iba1 21_40X_DG"
          ],
          [
           22,
           59,
           "DSB Iba1 22_40X_CA1"
          ],
          [
           22,
           60,
           "DSB Iba1 22_40X_CA3"
          ],
          [
           22,
           61,
           "DSB Iba1 22_40X_CTX1"
          ],
          [
           22,
           62,
           "DSB Iba1 22_40X_CTX2"
          ],
          [
           22,
           63,
           "DSB Iba1 22_40X_CTX3"
          ],
          [
           22,
           64,
           "DSB Iba1 22_40X_DG"
          ],
          [
           23,
           65,
           "DSB Iba1 23_40X_CA1"
          ],
          [
           23,
           66,
           "DSB Iba1 23_40X_CA3"
          ],
          [
           23,
           67,
           "DSB Iba1 23_40X_CTX1"
          ],
          [
           23,
           68,
           "DSB Iba1 23_40X_CTX2"
          ],
          [
           23,
           69,
           "DSB Iba1 23_40X_CTX3"
          ],
          [
           23,
           70,
           "DSB Iba1 23_40X_DG"
          ],
          [
           25,
           71,
           "DSB Iba1 25_40X_CA1"
          ],
          [
           25,
           72,
           "DSB Iba1 25_40X_CA3"
          ],
          [
           25,
           73,
           "DSB Iba1 25_40X_CTX1"
          ],
          [
           25,
           74,
           "DSB Iba1 25_40X_CTX2"
          ],
          [
           25,
           75,
           "DSB Iba1 25_40X_CTX3"
          ],
          [
           25,
           76,
           "DSB Iba1 25_40X_DG"
          ],
          [
           28,
           77,
           "DSB Iba1 28_40X_CA1"
          ],
          [
           28,
           78,
           "DSB Iba1 28_40X_CA3"
          ],
          [
           28,
           79,
           "DSB Iba1 28_40X_CTX1"
          ],
          [
           28,
           80,
           "DSB Iba1 28_40X_CTX2"
          ],
          [
           28,
           81,
           "DSB Iba1 28_40X_CTX3"
          ],
          [
           28,
           82,
           "DSB Iba1 28_40X_DG"
          ],
          [
           29,
           83,
           "DSB Iba1 29_40X_CA1"
          ],
          [
           29,
           84,
           "DSB Iba1 29_40X_CA3"
          ],
          [
           29,
           85,
           "DSB Iba1 29_40X_CTX1"
          ],
          [
           29,
           86,
           "DSB Iba1 29_40X_CTX2"
          ],
          [
           29,
           87,
           "DSB Iba1 29_40X_CTX3"
          ],
          [
           29,
           88,
           "DSB Iba1 29_40X_DG"
          ],
          [
           30,
           89,
           "DSB Iba1 30_40X_CA1"
          ],
          [
           30,
           90,
           "DSB Iba1 30_40X_CA3"
          ],
          [
           30,
           91,
           "DSB Iba1 30_40X_CTX1"
          ],
          [
           30,
           92,
           "DSB Iba1 30_40X_CTX2"
          ],
          [
           30,
           93,
           "DSB Iba1 30_40X_CTX3"
          ],
          [
           30,
           94,
           "DSB Iba1 30_40X_DG"
          ],
          [
           31,
           95,
           "DSB Iba1 31_40X_CA1"
          ],
          [
           31,
           96,
           "DSB Iba1 31_40X_CA3"
          ],
          [
           31,
           97,
           "DSB Iba1 31_40X_CTX1"
          ],
          [
           31,
           98,
           "DSB Iba1 31_40X_CTX2"
          ],
          [
           31,
           99,
           "DSB Iba1 31_40X_CTX3"
          ],
          [
           31,
           100,
           "DSB Iba1 31_40X_DG"
          ],
          [
           33,
           101,
           "DSB Iba1 33_40X_CA1"
          ],
          [
           33,
           102,
           "DSB Iba1 33_40X_CA3"
          ],
          [
           33,
           103,
           "DSB Iba1 33_40X_CTX1"
          ],
          [
           33,
           104,
           "DSB Iba1 33_40X_CTX2"
          ],
          [
           33,
           105,
           "DSB Iba1 33_40X_CTX3"
          ],
          [
           33,
           106,
           "DSB Iba1 33_40X_DG"
          ],
          [
           36,
           107,
           "DSB Iba1 36_40X_CA1"
          ],
          [
           36,
           108,
           "DSB Iba1 36_40X_CA3"
          ],
          [
           36,
           109,
           "DSB Iba1 36_40X_CTX1"
          ],
          [
           36,
           110,
           "DSB Iba1 36_40X_CTX2"
          ],
          [
           36,
           111,
           "DSB Iba1 36_40X_CTX3"
          ],
          [
           36,
           112,
           "DSB Iba1 36_40X_DG"
          ],
          [
           39,
           113,
           "DSB Iba1 39_40X_CA1"
          ],
          [
           39,
           114,
           "DSB Iba1 39_40X_CA3"
          ],
          [
           39,
           115,
           "DSB Iba1 39_40X_CTX1"
          ],
          [
           39,
           116,
           "DSB Iba1 39_40X_CTX2"
          ],
          [
           39,
           117,
           "DSB Iba1 39_40X_CTX3"
          ],
          [
           39,
           118,
           "DSB Iba1 39_40X_DG"
          ],
          [
           40,
           119,
           "DSB Iba1 40_40X_CA1"
          ],
          [
           40,
           120,
           "DSB Iba1 40_40X_CA3"
          ],
          [
           40,
           121,
           "DSB Iba1 40_40X_CTX1"
          ],
          [
           40,
           122,
           "DSB Iba1 40_40X_CTX2"
          ],
          [
           40,
           123,
           "DSB Iba1 40_40X_CTX3"
          ],
          [
           40,
           124,
           "DSB Iba1 40_40X_DG"
          ],
          [
           41,
           125,
           "DSB Iba1 41_40X_CA1"
          ],
          [
           41,
           126,
           "DSB Iba1 41_40X_CA3"
          ],
          [
           41,
           127,
           "DSB Iba1 41_40X_CTX1"
          ],
          [
           41,
           128,
           "DSB Iba1 41_40X_CTX2"
          ],
          [
           41,
           129,
           "DSB Iba1 41_40X_CTX3"
          ],
          [
           41,
           130,
           "DSB Iba1 41_40X_DG"
          ],
          [
           42,
           131,
           "DSB Iba1 42_40X_CA1"
          ],
          [
           42,
           132,
           "DSB Iba1 42_40X_CA3"
          ],
          [
           42,
           133,
           "DSB Iba1 42_40X_CTX1"
          ],
          [
           42,
           134,
           "DSB Iba1 42_40X_CTX2"
          ],
          [
           42,
           135,
           "DSB Iba1 42_40X_CTX3"
          ],
          [
           42,
           136,
           "DSB Iba1 42_40X_DG"
          ],
          [
           43,
           137,
           "DSB Iba1 43_40X_CA1"
          ],
          [
           43,
           138,
           "DSB Iba1 43_40X_CA3"
          ],
          [
           43,
           139,
           "DSB Iba1 43_40X_CTX1"
          ],
          [
           43,
           140,
           "DSB Iba1 43_40X_CTX2"
          ],
          [
           43,
           141,
           "DSB Iba1 43_40X_CTX3"
          ],
          [
           43,
           142,
           "DSB Iba1 43_40X_DG"
          ],
          [
           45,
           143,
           "DSB Iba1 45_40X_CA1"
          ],
          [
           45,
           144,
           "DSB Iba1 45_40X_CA3"
          ],
          [
           45,
           145,
           "DSB Iba1 45_40X_CTX1"
          ],
          [
           45,
           146,
           "DSB Iba1 45_40X_CTX2"
          ],
          [
           45,
           147,
           "DSB Iba1 45_40X_CTX3"
          ],
          [
           45,
           148,
           "DSB Iba1 45_40X_DG"
          ],
          [
           48,
           149,
           "DSB Iba1 48_40X_CA1"
          ],
          [
           48,
           150,
           "DSB Iba1 48_40X_CA3"
          ],
          [
           48,
           151,
           "DSB Iba1 48_40X_CTX1"
          ],
          [
           48,
           152,
           "DSB Iba1 48_40X_CTX2"
          ],
          [
           48,
           153,
           "DSB Iba1 48_40X_CTX3"
          ],
          [
           48,
           154,
           "DSB Iba1 48_40X_DG"
          ],
          [
           50,
           155,
           "DSB Iba1 50_40X_CA1"
          ],
          [
           50,
           156,
           "DSB Iba1 50_40X_CA3"
          ],
          [
           50,
           157,
           "DSB Iba1 50_40X_CTX1"
          ],
          [
           50,
           158,
           "DSB Iba1 50_40X_CTX2"
          ],
          [
           50,
           159,
           "DSB Iba1 50_40X_CTX3"
          ],
          [
           50,
           160,
           "DSB Iba1 50_40X_DG"
          ],
          [
           51,
           161,
           "DSB Iba1 51_40X_CA1"
          ],
          [
           51,
           162,
           "DSB Iba1 51_40X_CA3"
          ],
          [
           51,
           163,
           "DSB Iba1 51_40X_CTX1"
          ],
          [
           51,
           164,
           "DSB Iba1 51_40X_CTX2"
          ],
          [
           51,
           165,
           "DSB Iba1 51_40X_CTX3"
          ],
          [
           51,
           166,
           "DSB Iba1 51_40X_DG"
          ],
          [
           52,
           167,
           "DSB Iba1 52_40X_CA1"
          ],
          [
           52,
           168,
           "DSB Iba1 52_40X_CA3"
          ],
          [
           52,
           169,
           "DSB Iba1 52_40X_CTX1"
          ],
          [
           52,
           170,
           "DSB Iba1 52_40X_CTX2"
          ],
          [
           52,
           171,
           "DSB Iba1 52_40X_CTX3"
          ],
          [
           52,
           172,
           "DSB Iba1 52_40X_DG"
          ],
          [
           54,
           173,
           "DSB Iba1 54_40X_CA1"
          ],
          [
           54,
           174,
           "DSB Iba1 54_40X_CA3"
          ],
          [
           54,
           175,
           "DSB Iba1 54_40X_CTX1"
          ],
          [
           54,
           176,
           "DSB Iba1 54_40X_CTX2"
          ],
          [
           54,
           177,
           "DSB Iba1 54_40X_CTX3"
          ],
          [
           54,
           178,
           "DSB Iba1 54_40X_DG"
          ],
          [
           55,
           179,
           "DSB Iba1 55_40X_CA1"
          ],
          [
           55,
           180,
           "DSB Iba1 55_40X_CA3"
          ],
          [
           55,
           181,
           "DSB Iba1 55_40X_CTX1"
          ],
          [
           55,
           182,
           "DSB Iba1 55_40X_CTX2"
          ],
          [
           55,
           183,
           "DSB Iba1 55_40X_CTX3"
          ],
          [
           55,
           184,
           "DSB Iba1 55_40X_DG"
          ],
          [
           56,
           185,
           "DSB Iba1 56_40X_CA1"
          ],
          [
           56,
           186,
           "DSB Iba1 56_40X_CA3"
          ],
          [
           56,
           187,
           "DSB Iba1 56_40X_CTX1"
          ],
          [
           56,
           188,
           "DSB Iba1 56_40X_CTX2"
          ],
          [
           56,
           189,
           "DSB Iba1 56_40X_CTX3"
          ],
          [
           56,
           190,
           "DSB Iba1 56_40X_DG"
          ],
          [
           58,
           191,
           "DSB Iba1 58_40X_CA1"
          ],
          [
           58,
           192,
           "DSB Iba1 58_40X_CA3"
          ],
          [
           58,
           193,
           "DSB Iba1 58_40X_CTX1"
          ],
          [
           58,
           194,
           "DSB Iba1 58_40X_CTX2"
          ],
          [
           58,
           195,
           "DSB Iba1 58_40X_CTX3"
          ],
          [
           58,
           196,
           "DSB Iba1 58_40X_DG"
          ],
          [
           59,
           197,
           "DSB Iba1 59_40X_CA1"
          ],
          [
           59,
           198,
           "DSB Iba1 59_40X_CA3"
          ],
          [
           59,
           199,
           "DSB Iba1 59_40X_CTX1"
          ],
          [
           59,
           200,
           "DSB Iba1 59_40X_CTX2"
          ],
          [
           59,
           201,
           "DSB Iba1 59_40X_CTX3"
          ],
          [
           59,
           202,
           "DSB Iba1 59_40X_DG"
          ]
         ],
         "hovertemplate": "tissue_location=%{x}<br>nr_glia_+_nuclei=%{y}<br>staining_id=%{customdata[0]}<br>index=%{customdata[1]}<br>filename=%{customdata[2]}<extra></extra>",
         "legendgroup": "",
         "marker": {
          "color": "#636efa",
          "symbol": "circle"
         },
         "mode": "markers",
         "name": "",
         "orientation": "v",
         "showlegend": false,
         "type": "scatter",
         "x": [
          "CA1",
          "CA3",
          "CTX1",
          "CTX2",
          "CTX3",
          "DG",
          "CA1",
          "CA3",
          "CTX1",
          "CTX2",
          "CTX3",
          "DG",
          "CA1",
          "CA3",
          "CTX1",
          "CTX2",
          "CTX3",
          "DG",
          "CA1",
          "CA3",
          "CTX1",
          "CTX2",
          "CTX3",
          "DG",
          "CA1",
          "CA3",
          "CTX1",
          "CTX2",
          "CTX3",
          "CA1",
          "CA3",
          "CTX1",
          "CTX2",
          "CTX3",
          "DG",
          "CA1",
          "CA3",
          "CTX1",
          "CTX2",
          "CTX3",
          "DG",
          "CA1",
          "CA3",
          "CTX1",
          "CTX2",
          "CTX3",
          "DG",
          "CA1",
          "CA3",
          "CTX1",
          "CTX2",
          "CTX3",
          "DG",
          "CA1",
          "CA3",
          "CTX1",
          "CTX2",
          "CTX3",
          "DG",
          "CA1",
          "CA3",
          "CTX1",
          "CTX2",
          "CTX3",
          "DG",
          "CA1",
          "CA3",
          "CTX1",
          "CTX2",
          "CTX3",
          "DG",
          "CA1",
          "CA3",
          "CTX1",
          "CTX2",
          "CTX3",
          "DG",
          "CA1",
          "CA3",
          "CTX1",
          "CTX2",
          "CTX3",
          "DG",
          "CA1",
          "CA3",
          "CTX1",
          "CTX2",
          "CTX3",
          "DG",
          "CA1",
          "CA3",
          "CTX1",
          "CTX2",
          "CTX3",
          "DG",
          "CA1",
          "CA3",
          "CTX1",
          "CTX2",
          "CTX3",
          "DG",
          "CA1",
          "CA3",
          "CTX1",
          "CTX2",
          "CTX3",
          "DG",
          "CA1",
          "CA3",
          "CTX1",
          "CTX2",
          "CTX3",
          "DG",
          "CA1",
          "CA3",
          "CTX1",
          "CTX2",
          "CTX3",
          "DG",
          "CA1",
          "CA3",
          "CTX1",
          "CTX2",
          "CTX3",
          "DG",
          "CA1",
          "CA3",
          "CTX1",
          "CTX2",
          "CTX3",
          "DG",
          "CA1",
          "CA3",
          "CTX1",
          "CTX2",
          "CTX3",
          "DG",
          "CA1",
          "CA3",
          "CTX1",
          "CTX2",
          "CTX3",
          "DG",
          "CA1",
          "CA3",
          "CTX1",
          "CTX2",
          "CTX3",
          "DG",
          "CA1",
          "CA3",
          "CTX1",
          "CTX2",
          "CTX3",
          "DG",
          "CA1",
          "CA3",
          "CTX1",
          "CTX2",
          "CTX3",
          "DG",
          "CA1",
          "CA3",
          "CTX1",
          "CTX2",
          "CTX3",
          "DG",
          "CA1",
          "CA3",
          "CTX1",
          "CTX2",
          "CTX3",
          "DG",
          "CA1",
          "CA3",
          "CTX1",
          "CTX2",
          "CTX3",
          "DG",
          "CA1",
          "CA3",
          "CTX1",
          "CTX2",
          "CTX3",
          "DG",
          "CA1",
          "CA3",
          "CTX1",
          "CTX2",
          "CTX3",
          "DG",
          "CA1",
          "CA3",
          "CTX1",
          "CTX2",
          "CTX3",
          "DG",
          "CA1",
          "CA3",
          "CTX1",
          "CTX2",
          "CTX3",
          "DG"
         ],
         "xaxis": "x",
         "y": [
          12,
          9,
          30,
          11,
          15,
          20,
          9,
          6,
          36,
          21,
          22,
          20,
          6,
          10,
          18,
          18,
          21,
          17,
          11,
          9,
          28,
          19,
          14,
          8,
          6,
          7,
          22,
          19,
          24,
          7,
          2,
          11,
          5,
          10,
          8,
          7,
          8,
          28,
          20,
          15,
          15,
          3,
          5,
          14,
          11,
          14,
          10,
          6,
          5,
          5,
          22,
          3,
          7,
          11,
          4,
          17,
          15,
          23,
          15,
          19,
          6,
          10,
          17,
          8,
          17,
          8,
          8,
          25,
          5,
          11,
          16,
          8,
          9,
          25,
          20,
          9,
          15,
          2,
          1,
          3,
          13,
          11,
          17,
          10,
          5,
          16,
          26,
          16,
          6,
          6,
          4,
          26,
          22,
          13,
          5,
          11,
          1,
          11,
          17,
          13,
          14,
          5,
          7,
          10,
          15,
          9,
          8,
          8,
          6,
          16,
          29,
          10,
          5,
          6,
          5,
          2,
          5,
          2,
          8,
          4,
          8,
          20,
          11,
          24,
          5,
          4,
          4,
          0,
          3,
          5,
          6,
          3,
          6,
          6,
          15,
          10,
          4,
          11,
          7,
          28,
          20,
          12,
          39,
          16,
          3,
          12,
          25,
          17,
          22,
          7,
          4,
          35,
          24,
          20,
          13,
          13,
          9,
          24,
          14,
          31,
          15,
          15,
          8,
          18,
          24,
          26,
          22,
          5,
          7,
          23,
          31,
          26,
          16,
          5,
          3,
          10,
          10,
          20,
          13,
          7,
          3,
          8,
          9,
          6,
          11,
          13,
          12,
          21,
          23,
          36,
          16,
          4,
          6,
          17,
          16,
          6,
          2,
          5,
          5,
          9,
          20,
          23,
          6
         ],
         "yaxis": "y"
        }
       ],
       "layout": {
        "legend": {
         "tracegroupgap": 0
        },
        "template": {
         "data": {
          "bar": [
           {
            "error_x": {
             "color": "#2a3f5f"
            },
            "error_y": {
             "color": "#2a3f5f"
            },
            "marker": {
             "line": {
              "color": "#E5ECF6",
              "width": 0.5
             },
             "pattern": {
              "fillmode": "overlay",
              "size": 10,
              "solidity": 0.2
             }
            },
            "type": "bar"
           }
          ],
          "barpolar": [
           {
            "marker": {
             "line": {
              "color": "#E5ECF6",
              "width": 0.5
             },
             "pattern": {
              "fillmode": "overlay",
              "size": 10,
              "solidity": 0.2
             }
            },
            "type": "barpolar"
           }
          ],
          "carpet": [
           {
            "aaxis": {
             "endlinecolor": "#2a3f5f",
             "gridcolor": "white",
             "linecolor": "white",
             "minorgridcolor": "white",
             "startlinecolor": "#2a3f5f"
            },
            "baxis": {
             "endlinecolor": "#2a3f5f",
             "gridcolor": "white",
             "linecolor": "white",
             "minorgridcolor": "white",
             "startlinecolor": "#2a3f5f"
            },
            "type": "carpet"
           }
          ],
          "choropleth": [
           {
            "colorbar": {
             "outlinewidth": 0,
             "ticks": ""
            },
            "type": "choropleth"
           }
          ],
          "contour": [
           {
            "colorbar": {
             "outlinewidth": 0,
             "ticks": ""
            },
            "colorscale": [
             [
              0,
              "#0d0887"
             ],
             [
              0.1111111111111111,
              "#46039f"
             ],
             [
              0.2222222222222222,
              "#7201a8"
             ],
             [
              0.3333333333333333,
              "#9c179e"
             ],
             [
              0.4444444444444444,
              "#bd3786"
             ],
             [
              0.5555555555555556,
              "#d8576b"
             ],
             [
              0.6666666666666666,
              "#ed7953"
             ],
             [
              0.7777777777777778,
              "#fb9f3a"
             ],
             [
              0.8888888888888888,
              "#fdca26"
             ],
             [
              1,
              "#f0f921"
             ]
            ],
            "type": "contour"
           }
          ],
          "contourcarpet": [
           {
            "colorbar": {
             "outlinewidth": 0,
             "ticks": ""
            },
            "type": "contourcarpet"
           }
          ],
          "heatmap": [
           {
            "colorbar": {
             "outlinewidth": 0,
             "ticks": ""
            },
            "colorscale": [
             [
              0,
              "#0d0887"
             ],
             [
              0.1111111111111111,
              "#46039f"
             ],
             [
              0.2222222222222222,
              "#7201a8"
             ],
             [
              0.3333333333333333,
              "#9c179e"
             ],
             [
              0.4444444444444444,
              "#bd3786"
             ],
             [
              0.5555555555555556,
              "#d8576b"
             ],
             [
              0.6666666666666666,
              "#ed7953"
             ],
             [
              0.7777777777777778,
              "#fb9f3a"
             ],
             [
              0.8888888888888888,
              "#fdca26"
             ],
             [
              1,
              "#f0f921"
             ]
            ],
            "type": "heatmap"
           }
          ],
          "heatmapgl": [
           {
            "colorbar": {
             "outlinewidth": 0,
             "ticks": ""
            },
            "colorscale": [
             [
              0,
              "#0d0887"
             ],
             [
              0.1111111111111111,
              "#46039f"
             ],
             [
              0.2222222222222222,
              "#7201a8"
             ],
             [
              0.3333333333333333,
              "#9c179e"
             ],
             [
              0.4444444444444444,
              "#bd3786"
             ],
             [
              0.5555555555555556,
              "#d8576b"
             ],
             [
              0.6666666666666666,
              "#ed7953"
             ],
             [
              0.7777777777777778,
              "#fb9f3a"
             ],
             [
              0.8888888888888888,
              "#fdca26"
             ],
             [
              1,
              "#f0f921"
             ]
            ],
            "type": "heatmapgl"
           }
          ],
          "histogram": [
           {
            "marker": {
             "pattern": {
              "fillmode": "overlay",
              "size": 10,
              "solidity": 0.2
             }
            },
            "type": "histogram"
           }
          ],
          "histogram2d": [
           {
            "colorbar": {
             "outlinewidth": 0,
             "ticks": ""
            },
            "colorscale": [
             [
              0,
              "#0d0887"
             ],
             [
              0.1111111111111111,
              "#46039f"
             ],
             [
              0.2222222222222222,
              "#7201a8"
             ],
             [
              0.3333333333333333,
              "#9c179e"
             ],
             [
              0.4444444444444444,
              "#bd3786"
             ],
             [
              0.5555555555555556,
              "#d8576b"
             ],
             [
              0.6666666666666666,
              "#ed7953"
             ],
             [
              0.7777777777777778,
              "#fb9f3a"
             ],
             [
              0.8888888888888888,
              "#fdca26"
             ],
             [
              1,
              "#f0f921"
             ]
            ],
            "type": "histogram2d"
           }
          ],
          "histogram2dcontour": [
           {
            "colorbar": {
             "outlinewidth": 0,
             "ticks": ""
            },
            "colorscale": [
             [
              0,
              "#0d0887"
             ],
             [
              0.1111111111111111,
              "#46039f"
             ],
             [
              0.2222222222222222,
              "#7201a8"
             ],
             [
              0.3333333333333333,
              "#9c179e"
             ],
             [
              0.4444444444444444,
              "#bd3786"
             ],
             [
              0.5555555555555556,
              "#d8576b"
             ],
             [
              0.6666666666666666,
              "#ed7953"
             ],
             [
              0.7777777777777778,
              "#fb9f3a"
             ],
             [
              0.8888888888888888,
              "#fdca26"
             ],
             [
              1,
              "#f0f921"
             ]
            ],
            "type": "histogram2dcontour"
           }
          ],
          "mesh3d": [
           {
            "colorbar": {
             "outlinewidth": 0,
             "ticks": ""
            },
            "type": "mesh3d"
           }
          ],
          "parcoords": [
           {
            "line": {
             "colorbar": {
              "outlinewidth": 0,
              "ticks": ""
             }
            },
            "type": "parcoords"
           }
          ],
          "pie": [
           {
            "automargin": true,
            "type": "pie"
           }
          ],
          "scatter": [
           {
            "fillpattern": {
             "fillmode": "overlay",
             "size": 10,
             "solidity": 0.2
            },
            "type": "scatter"
           }
          ],
          "scatter3d": [
           {
            "line": {
             "colorbar": {
              "outlinewidth": 0,
              "ticks": ""
             }
            },
            "marker": {
             "colorbar": {
              "outlinewidth": 0,
              "ticks": ""
             }
            },
            "type": "scatter3d"
           }
          ],
          "scattercarpet": [
           {
            "marker": {
             "colorbar": {
              "outlinewidth": 0,
              "ticks": ""
             }
            },
            "type": "scattercarpet"
           }
          ],
          "scattergeo": [
           {
            "marker": {
             "colorbar": {
              "outlinewidth": 0,
              "ticks": ""
             }
            },
            "type": "scattergeo"
           }
          ],
          "scattergl": [
           {
            "marker": {
             "colorbar": {
              "outlinewidth": 0,
              "ticks": ""
             }
            },
            "type": "scattergl"
           }
          ],
          "scattermapbox": [
           {
            "marker": {
             "colorbar": {
              "outlinewidth": 0,
              "ticks": ""
             }
            },
            "type": "scattermapbox"
           }
          ],
          "scatterpolar": [
           {
            "marker": {
             "colorbar": {
              "outlinewidth": 0,
              "ticks": ""
             }
            },
            "type": "scatterpolar"
           }
          ],
          "scatterpolargl": [
           {
            "marker": {
             "colorbar": {
              "outlinewidth": 0,
              "ticks": ""
             }
            },
            "type": "scatterpolargl"
           }
          ],
          "scatterternary": [
           {
            "marker": {
             "colorbar": {
              "outlinewidth": 0,
              "ticks": ""
             }
            },
            "type": "scatterternary"
           }
          ],
          "surface": [
           {
            "colorbar": {
             "outlinewidth": 0,
             "ticks": ""
            },
            "colorscale": [
             [
              0,
              "#0d0887"
             ],
             [
              0.1111111111111111,
              "#46039f"
             ],
             [
              0.2222222222222222,
              "#7201a8"
             ],
             [
              0.3333333333333333,
              "#9c179e"
             ],
             [
              0.4444444444444444,
              "#bd3786"
             ],
             [
              0.5555555555555556,
              "#d8576b"
             ],
             [
              0.6666666666666666,
              "#ed7953"
             ],
             [
              0.7777777777777778,
              "#fb9f3a"
             ],
             [
              0.8888888888888888,
              "#fdca26"
             ],
             [
              1,
              "#f0f921"
             ]
            ],
            "type": "surface"
           }
          ],
          "table": [
           {
            "cells": {
             "fill": {
              "color": "#EBF0F8"
             },
             "line": {
              "color": "white"
             }
            },
            "header": {
             "fill": {
              "color": "#C8D4E3"
             },
             "line": {
              "color": "white"
             }
            },
            "type": "table"
           }
          ]
         },
         "layout": {
          "annotationdefaults": {
           "arrowcolor": "#2a3f5f",
           "arrowhead": 0,
           "arrowwidth": 1
          },
          "autotypenumbers": "strict",
          "coloraxis": {
           "colorbar": {
            "outlinewidth": 0,
            "ticks": ""
           }
          },
          "colorscale": {
           "diverging": [
            [
             0,
             "#8e0152"
            ],
            [
             0.1,
             "#c51b7d"
            ],
            [
             0.2,
             "#de77ae"
            ],
            [
             0.3,
             "#f1b6da"
            ],
            [
             0.4,
             "#fde0ef"
            ],
            [
             0.5,
             "#f7f7f7"
            ],
            [
             0.6,
             "#e6f5d0"
            ],
            [
             0.7,
             "#b8e186"
            ],
            [
             0.8,
             "#7fbc41"
            ],
            [
             0.9,
             "#4d9221"
            ],
            [
             1,
             "#276419"
            ]
           ],
           "sequential": [
            [
             0,
             "#0d0887"
            ],
            [
             0.1111111111111111,
             "#46039f"
            ],
            [
             0.2222222222222222,
             "#7201a8"
            ],
            [
             0.3333333333333333,
             "#9c179e"
            ],
            [
             0.4444444444444444,
             "#bd3786"
            ],
            [
             0.5555555555555556,
             "#d8576b"
            ],
            [
             0.6666666666666666,
             "#ed7953"
            ],
            [
             0.7777777777777778,
             "#fb9f3a"
            ],
            [
             0.8888888888888888,
             "#fdca26"
            ],
            [
             1,
             "#f0f921"
            ]
           ],
           "sequentialminus": [
            [
             0,
             "#0d0887"
            ],
            [
             0.1111111111111111,
             "#46039f"
            ],
            [
             0.2222222222222222,
             "#7201a8"
            ],
            [
             0.3333333333333333,
             "#9c179e"
            ],
            [
             0.4444444444444444,
             "#bd3786"
            ],
            [
             0.5555555555555556,
             "#d8576b"
            ],
            [
             0.6666666666666666,
             "#ed7953"
            ],
            [
             0.7777777777777778,
             "#fb9f3a"
            ],
            [
             0.8888888888888888,
             "#fdca26"
            ],
            [
             1,
             "#f0f921"
            ]
           ]
          },
          "colorway": [
           "#636efa",
           "#EF553B",
           "#00cc96",
           "#ab63fa",
           "#FFA15A",
           "#19d3f3",
           "#FF6692",
           "#B6E880",
           "#FF97FF",
           "#FECB52"
          ],
          "font": {
           "color": "#2a3f5f"
          },
          "geo": {
           "bgcolor": "white",
           "lakecolor": "white",
           "landcolor": "#E5ECF6",
           "showlakes": true,
           "showland": true,
           "subunitcolor": "white"
          },
          "hoverlabel": {
           "align": "left"
          },
          "hovermode": "closest",
          "mapbox": {
           "style": "light"
          },
          "paper_bgcolor": "white",
          "plot_bgcolor": "#E5ECF6",
          "polar": {
           "angularaxis": {
            "gridcolor": "white",
            "linecolor": "white",
            "ticks": ""
           },
           "bgcolor": "#E5ECF6",
           "radialaxis": {
            "gridcolor": "white",
            "linecolor": "white",
            "ticks": ""
           }
          },
          "scene": {
           "xaxis": {
            "backgroundcolor": "#E5ECF6",
            "gridcolor": "white",
            "gridwidth": 2,
            "linecolor": "white",
            "showbackground": true,
            "ticks": "",
            "zerolinecolor": "white"
           },
           "yaxis": {
            "backgroundcolor": "#E5ECF6",
            "gridcolor": "white",
            "gridwidth": 2,
            "linecolor": "white",
            "showbackground": true,
            "ticks": "",
            "zerolinecolor": "white"
           },
           "zaxis": {
            "backgroundcolor": "#E5ECF6",
            "gridcolor": "white",
            "gridwidth": 2,
            "linecolor": "white",
            "showbackground": true,
            "ticks": "",
            "zerolinecolor": "white"
           }
          },
          "shapedefaults": {
           "line": {
            "color": "#2a3f5f"
           }
          },
          "ternary": {
           "aaxis": {
            "gridcolor": "white",
            "linecolor": "white",
            "ticks": ""
           },
           "baxis": {
            "gridcolor": "white",
            "linecolor": "white",
            "ticks": ""
           },
           "bgcolor": "#E5ECF6",
           "caxis": {
            "gridcolor": "white",
            "linecolor": "white",
            "ticks": ""
           }
          },
          "title": {
           "x": 0.05
          },
          "xaxis": {
           "automargin": true,
           "gridcolor": "white",
           "linecolor": "white",
           "ticks": "",
           "title": {
            "standoff": 15
           },
           "zerolinecolor": "white",
           "zerolinewidth": 2
          },
          "yaxis": {
           "automargin": true,
           "gridcolor": "white",
           "linecolor": "white",
           "ticks": "",
           "title": {
            "standoff": 15
           },
           "zerolinecolor": "white",
           "zerolinewidth": 2
          }
         }
        },
        "title": {
         "text": "Nr of Microglia+ nuclei by Tissue Location - cellpdia30_sigma1_dilrad4_dnad_obj_seg_v1_gliaero6_gliathr20_dnadero2"
        },
        "xaxis": {
         "anchor": "y",
         "domain": [
          0,
          1
         ],
         "title": {
          "text": "tissue_location"
         }
        },
        "yaxis": {
         "anchor": "x",
         "domain": [
          0,
          1
         ],
         "title": {
          "text": "nr_glia_+_nuclei"
         }
        }
       }
      }
     },
     "metadata": {},
     "output_type": "display_data"
    },
    {
     "data": {
      "application/vnd.plotly.v1+json": {
       "config": {
        "plotlyServerURL": "https://plot.ly"
       },
       "data": [
        {
         "customdata": [
          [
           101,
           0,
           "DSB Iba1 101_40X_CA1"
          ],
          [
           101,
           1,
           "DSB Iba1 101_40X_CA3"
          ],
          [
           101,
           2,
           "DSB Iba1 101_40X_CTX1"
          ],
          [
           101,
           3,
           "DSB Iba1 101_40X_CTX2"
          ],
          [
           101,
           4,
           "DSB Iba1 101_40X_CTX3"
          ],
          [
           101,
           5,
           "DSB Iba1 101_40X_DG"
          ],
          [
           102,
           6,
           "DSB Iba1 102_40X_CA1"
          ],
          [
           102,
           7,
           "DSB Iba1 102_40X_CA3"
          ],
          [
           102,
           8,
           "DSB Iba1 102_40X_CTX1"
          ],
          [
           102,
           9,
           "DSB Iba1 102_40X_CTX2"
          ],
          [
           102,
           10,
           "DSB Iba1 102_40X_CTX3"
          ],
          [
           102,
           11,
           "DSB Iba1 102_40X_DG"
          ],
          [
           103,
           12,
           "DSB Iba1 103_40X_CA1"
          ],
          [
           103,
           13,
           "DSB Iba1 103_40X_CA3"
          ],
          [
           103,
           14,
           "DSB Iba1 103_40X_CTX1"
          ],
          [
           103,
           15,
           "DSB Iba1 103_40X_CTX2"
          ],
          [
           103,
           16,
           "DSB Iba1 103_40X_CTX3"
          ],
          [
           103,
           17,
           "DSB Iba1 103_40X_DG"
          ],
          [
           104,
           18,
           "DSB Iba1 104_40X_CA1"
          ],
          [
           104,
           19,
           "DSB Iba1 104_40X_CA3"
          ],
          [
           104,
           20,
           "DSB Iba1 104_40X_CTX1"
          ],
          [
           104,
           21,
           "DSB Iba1 104_40X_CTX2"
          ],
          [
           104,
           22,
           "DSB Iba1 104_40X_CTX3"
          ],
          [
           104,
           23,
           "DSB Iba1 104_40X_DG"
          ],
          [
           105,
           24,
           "DSB Iba1 105_40X_CA1"
          ],
          [
           105,
           25,
           "DSB Iba1 105_40X_CA3"
          ],
          [
           105,
           26,
           "DSB Iba1 105_40X_CTX1"
          ],
          [
           105,
           27,
           "DSB Iba1 105_40X_CTX2"
          ],
          [
           105,
           28,
           "DSB Iba1 105_40X_CTX3"
          ],
          [
           106,
           29,
           "DSB Iba1 106_40X_CA1"
          ],
          [
           106,
           30,
           "DSB Iba1 106_40X_CA3"
          ],
          [
           106,
           31,
           "DSB Iba1 106_40X_CTX1"
          ],
          [
           106,
           32,
           "DSB Iba1 106_40X_CTX2"
          ],
          [
           106,
           33,
           "DSB Iba1 106_40X_CTX3"
          ],
          [
           106,
           34,
           "DSB Iba1 106_40X_DG"
          ],
          [
           107,
           35,
           "DSB Iba1 107_40X_CA1"
          ],
          [
           107,
           36,
           "DSB Iba1 107_40X_CA3"
          ],
          [
           107,
           37,
           "DSB Iba1 107_40X_CTX1"
          ],
          [
           107,
           38,
           "DSB Iba1 107_40X_CTX2"
          ],
          [
           107,
           39,
           "DSB Iba1 107_40X_CTX3"
          ],
          [
           107,
           40,
           "DSB Iba1 107_40X_DG"
          ],
          [
           108,
           41,
           "DSB Iba1 108_40X_CA1"
          ],
          [
           108,
           42,
           "DSB Iba1 108_40X_CA3"
          ],
          [
           108,
           43,
           "DSB Iba1 108_40X_CTX1"
          ],
          [
           108,
           44,
           "DSB Iba1 108_40X_CTX2"
          ],
          [
           108,
           45,
           "DSB Iba1 108_40X_CTX3"
          ],
          [
           108,
           46,
           "DSB Iba1 108_40X_DG"
          ],
          [
           20,
           47,
           "DSB Iba1 20_40X_CA1"
          ],
          [
           20,
           48,
           "DSB Iba1 20_40X_CA3"
          ],
          [
           20,
           49,
           "DSB Iba1 20_40X_CTX1"
          ],
          [
           20,
           50,
           "DSB Iba1 20_40X_CTX2"
          ],
          [
           20,
           51,
           "DSB Iba1 20_40X_CTX3"
          ],
          [
           20,
           52,
           "DSB Iba1 20_40X_DG"
          ],
          [
           21,
           53,
           "DSB Iba1 21_40X_CA1"
          ],
          [
           21,
           54,
           "DSB Iba1 21_40X_CA3"
          ],
          [
           21,
           55,
           "DSB Iba1 21_40X_CTX1"
          ],
          [
           21,
           56,
           "DSB Iba1 21_40X_CTX2"
          ],
          [
           21,
           57,
           "DSB Iba1 21_40X_CTX3"
          ],
          [
           21,
           58,
           "DSB Iba1 21_40X_DG"
          ],
          [
           22,
           59,
           "DSB Iba1 22_40X_CA1"
          ],
          [
           22,
           60,
           "DSB Iba1 22_40X_CA3"
          ],
          [
           22,
           61,
           "DSB Iba1 22_40X_CTX1"
          ],
          [
           22,
           62,
           "DSB Iba1 22_40X_CTX2"
          ],
          [
           22,
           63,
           "DSB Iba1 22_40X_CTX3"
          ],
          [
           22,
           64,
           "DSB Iba1 22_40X_DG"
          ],
          [
           23,
           65,
           "DSB Iba1 23_40X_CA1"
          ],
          [
           23,
           66,
           "DSB Iba1 23_40X_CA3"
          ],
          [
           23,
           67,
           "DSB Iba1 23_40X_CTX1"
          ],
          [
           23,
           68,
           "DSB Iba1 23_40X_CTX2"
          ],
          [
           23,
           69,
           "DSB Iba1 23_40X_CTX3"
          ],
          [
           23,
           70,
           "DSB Iba1 23_40X_DG"
          ],
          [
           25,
           71,
           "DSB Iba1 25_40X_CA1"
          ],
          [
           25,
           72,
           "DSB Iba1 25_40X_CA3"
          ],
          [
           25,
           73,
           "DSB Iba1 25_40X_CTX1"
          ],
          [
           25,
           74,
           "DSB Iba1 25_40X_CTX2"
          ],
          [
           25,
           75,
           "DSB Iba1 25_40X_CTX3"
          ],
          [
           25,
           76,
           "DSB Iba1 25_40X_DG"
          ],
          [
           28,
           77,
           "DSB Iba1 28_40X_CA1"
          ],
          [
           28,
           78,
           "DSB Iba1 28_40X_CA3"
          ],
          [
           28,
           79,
           "DSB Iba1 28_40X_CTX1"
          ],
          [
           28,
           80,
           "DSB Iba1 28_40X_CTX2"
          ],
          [
           28,
           81,
           "DSB Iba1 28_40X_CTX3"
          ],
          [
           28,
           82,
           "DSB Iba1 28_40X_DG"
          ],
          [
           29,
           83,
           "DSB Iba1 29_40X_CA1"
          ],
          [
           29,
           84,
           "DSB Iba1 29_40X_CA3"
          ],
          [
           29,
           85,
           "DSB Iba1 29_40X_CTX1"
          ],
          [
           29,
           86,
           "DSB Iba1 29_40X_CTX2"
          ],
          [
           29,
           87,
           "DSB Iba1 29_40X_CTX3"
          ],
          [
           29,
           88,
           "DSB Iba1 29_40X_DG"
          ],
          [
           30,
           89,
           "DSB Iba1 30_40X_CA1"
          ],
          [
           30,
           90,
           "DSB Iba1 30_40X_CA3"
          ],
          [
           30,
           91,
           "DSB Iba1 30_40X_CTX1"
          ],
          [
           30,
           92,
           "DSB Iba1 30_40X_CTX2"
          ],
          [
           30,
           93,
           "DSB Iba1 30_40X_CTX3"
          ],
          [
           30,
           94,
           "DSB Iba1 30_40X_DG"
          ],
          [
           31,
           95,
           "DSB Iba1 31_40X_CA1"
          ],
          [
           31,
           96,
           "DSB Iba1 31_40X_CA3"
          ],
          [
           31,
           97,
           "DSB Iba1 31_40X_CTX1"
          ],
          [
           31,
           98,
           "DSB Iba1 31_40X_CTX2"
          ],
          [
           31,
           99,
           "DSB Iba1 31_40X_CTX3"
          ],
          [
           31,
           100,
           "DSB Iba1 31_40X_DG"
          ],
          [
           33,
           101,
           "DSB Iba1 33_40X_CA1"
          ],
          [
           33,
           102,
           "DSB Iba1 33_40X_CA3"
          ],
          [
           33,
           103,
           "DSB Iba1 33_40X_CTX1"
          ],
          [
           33,
           104,
           "DSB Iba1 33_40X_CTX2"
          ],
          [
           33,
           105,
           "DSB Iba1 33_40X_CTX3"
          ],
          [
           33,
           106,
           "DSB Iba1 33_40X_DG"
          ],
          [
           36,
           107,
           "DSB Iba1 36_40X_CA1"
          ],
          [
           36,
           108,
           "DSB Iba1 36_40X_CA3"
          ],
          [
           36,
           109,
           "DSB Iba1 36_40X_CTX1"
          ],
          [
           36,
           110,
           "DSB Iba1 36_40X_CTX2"
          ],
          [
           36,
           111,
           "DSB Iba1 36_40X_CTX3"
          ],
          [
           36,
           112,
           "DSB Iba1 36_40X_DG"
          ],
          [
           39,
           113,
           "DSB Iba1 39_40X_CA1"
          ],
          [
           39,
           114,
           "DSB Iba1 39_40X_CA3"
          ],
          [
           39,
           115,
           "DSB Iba1 39_40X_CTX1"
          ],
          [
           39,
           116,
           "DSB Iba1 39_40X_CTX2"
          ],
          [
           39,
           117,
           "DSB Iba1 39_40X_CTX3"
          ],
          [
           39,
           118,
           "DSB Iba1 39_40X_DG"
          ],
          [
           40,
           119,
           "DSB Iba1 40_40X_CA1"
          ],
          [
           40,
           120,
           "DSB Iba1 40_40X_CA3"
          ],
          [
           40,
           121,
           "DSB Iba1 40_40X_CTX1"
          ],
          [
           40,
           122,
           "DSB Iba1 40_40X_CTX2"
          ],
          [
           40,
           123,
           "DSB Iba1 40_40X_CTX3"
          ],
          [
           40,
           124,
           "DSB Iba1 40_40X_DG"
          ],
          [
           41,
           125,
           "DSB Iba1 41_40X_CA1"
          ],
          [
           41,
           126,
           "DSB Iba1 41_40X_CA3"
          ],
          [
           41,
           127,
           "DSB Iba1 41_40X_CTX1"
          ],
          [
           41,
           128,
           "DSB Iba1 41_40X_CTX2"
          ],
          [
           41,
           129,
           "DSB Iba1 41_40X_CTX3"
          ],
          [
           41,
           130,
           "DSB Iba1 41_40X_DG"
          ],
          [
           42,
           131,
           "DSB Iba1 42_40X_CA1"
          ],
          [
           42,
           132,
           "DSB Iba1 42_40X_CA3"
          ],
          [
           42,
           133,
           "DSB Iba1 42_40X_CTX1"
          ],
          [
           42,
           134,
           "DSB Iba1 42_40X_CTX2"
          ],
          [
           42,
           135,
           "DSB Iba1 42_40X_CTX3"
          ],
          [
           42,
           136,
           "DSB Iba1 42_40X_DG"
          ],
          [
           43,
           137,
           "DSB Iba1 43_40X_CA1"
          ],
          [
           43,
           138,
           "DSB Iba1 43_40X_CA3"
          ],
          [
           43,
           139,
           "DSB Iba1 43_40X_CTX1"
          ],
          [
           43,
           140,
           "DSB Iba1 43_40X_CTX2"
          ],
          [
           43,
           141,
           "DSB Iba1 43_40X_CTX3"
          ],
          [
           43,
           142,
           "DSB Iba1 43_40X_DG"
          ],
          [
           45,
           143,
           "DSB Iba1 45_40X_CA1"
          ],
          [
           45,
           144,
           "DSB Iba1 45_40X_CA3"
          ],
          [
           45,
           145,
           "DSB Iba1 45_40X_CTX1"
          ],
          [
           45,
           146,
           "DSB Iba1 45_40X_CTX2"
          ],
          [
           45,
           147,
           "DSB Iba1 45_40X_CTX3"
          ],
          [
           45,
           148,
           "DSB Iba1 45_40X_DG"
          ],
          [
           48,
           149,
           "DSB Iba1 48_40X_CA1"
          ],
          [
           48,
           150,
           "DSB Iba1 48_40X_CA3"
          ],
          [
           48,
           151,
           "DSB Iba1 48_40X_CTX1"
          ],
          [
           48,
           152,
           "DSB Iba1 48_40X_CTX2"
          ],
          [
           48,
           153,
           "DSB Iba1 48_40X_CTX3"
          ],
          [
           48,
           154,
           "DSB Iba1 48_40X_DG"
          ],
          [
           50,
           155,
           "DSB Iba1 50_40X_CA1"
          ],
          [
           50,
           156,
           "DSB Iba1 50_40X_CA3"
          ],
          [
           50,
           157,
           "DSB Iba1 50_40X_CTX1"
          ],
          [
           50,
           158,
           "DSB Iba1 50_40X_CTX2"
          ],
          [
           50,
           159,
           "DSB Iba1 50_40X_CTX3"
          ],
          [
           50,
           160,
           "DSB Iba1 50_40X_DG"
          ],
          [
           51,
           161,
           "DSB Iba1 51_40X_CA1"
          ],
          [
           51,
           162,
           "DSB Iba1 51_40X_CA3"
          ],
          [
           51,
           163,
           "DSB Iba1 51_40X_CTX1"
          ],
          [
           51,
           164,
           "DSB Iba1 51_40X_CTX2"
          ],
          [
           51,
           165,
           "DSB Iba1 51_40X_CTX3"
          ],
          [
           51,
           166,
           "DSB Iba1 51_40X_DG"
          ],
          [
           52,
           167,
           "DSB Iba1 52_40X_CA1"
          ],
          [
           52,
           168,
           "DSB Iba1 52_40X_CA3"
          ],
          [
           52,
           169,
           "DSB Iba1 52_40X_CTX1"
          ],
          [
           52,
           170,
           "DSB Iba1 52_40X_CTX2"
          ],
          [
           52,
           171,
           "DSB Iba1 52_40X_CTX3"
          ],
          [
           52,
           172,
           "DSB Iba1 52_40X_DG"
          ],
          [
           54,
           173,
           "DSB Iba1 54_40X_CA1"
          ],
          [
           54,
           174,
           "DSB Iba1 54_40X_CA3"
          ],
          [
           54,
           175,
           "DSB Iba1 54_40X_CTX1"
          ],
          [
           54,
           176,
           "DSB Iba1 54_40X_CTX2"
          ],
          [
           54,
           177,
           "DSB Iba1 54_40X_CTX3"
          ],
          [
           54,
           178,
           "DSB Iba1 54_40X_DG"
          ],
          [
           55,
           179,
           "DSB Iba1 55_40X_CA1"
          ],
          [
           55,
           180,
           "DSB Iba1 55_40X_CA3"
          ],
          [
           55,
           181,
           "DSB Iba1 55_40X_CTX1"
          ],
          [
           55,
           182,
           "DSB Iba1 55_40X_CTX2"
          ],
          [
           55,
           183,
           "DSB Iba1 55_40X_CTX3"
          ],
          [
           55,
           184,
           "DSB Iba1 55_40X_DG"
          ],
          [
           56,
           185,
           "DSB Iba1 56_40X_CA1"
          ],
          [
           56,
           186,
           "DSB Iba1 56_40X_CA3"
          ],
          [
           56,
           187,
           "DSB Iba1 56_40X_CTX1"
          ],
          [
           56,
           188,
           "DSB Iba1 56_40X_CTX2"
          ],
          [
           56,
           189,
           "DSB Iba1 56_40X_CTX3"
          ],
          [
           56,
           190,
           "DSB Iba1 56_40X_DG"
          ],
          [
           58,
           191,
           "DSB Iba1 58_40X_CA1"
          ],
          [
           58,
           192,
           "DSB Iba1 58_40X_CA3"
          ],
          [
           58,
           193,
           "DSB Iba1 58_40X_CTX1"
          ],
          [
           58,
           194,
           "DSB Iba1 58_40X_CTX2"
          ],
          [
           58,
           195,
           "DSB Iba1 58_40X_CTX3"
          ],
          [
           58,
           196,
           "DSB Iba1 58_40X_DG"
          ],
          [
           59,
           197,
           "DSB Iba1 59_40X_CA1"
          ],
          [
           59,
           198,
           "DSB Iba1 59_40X_CA3"
          ],
          [
           59,
           199,
           "DSB Iba1 59_40X_CTX1"
          ],
          [
           59,
           200,
           "DSB Iba1 59_40X_CTX2"
          ],
          [
           59,
           201,
           "DSB Iba1 59_40X_CTX3"
          ],
          [
           59,
           202,
           "DSB Iba1 59_40X_DG"
          ]
         ],
         "hovertemplate": "tissue_location=%{x}<br>nr_total_nuclei=%{y}<br>staining_id=%{customdata[0]}<br>index=%{customdata[1]}<br>filename=%{customdata[2]}<extra></extra>",
         "legendgroup": "",
         "marker": {
          "color": "#636efa",
          "symbol": "circle"
         },
         "mode": "markers",
         "name": "",
         "orientation": "v",
         "showlegend": false,
         "type": "scatter",
         "x": [
          "CA1",
          "CA3",
          "CTX1",
          "CTX2",
          "CTX3",
          "DG",
          "CA1",
          "CA3",
          "CTX1",
          "CTX2",
          "CTX3",
          "DG",
          "CA1",
          "CA3",
          "CTX1",
          "CTX2",
          "CTX3",
          "DG",
          "CA1",
          "CA3",
          "CTX1",
          "CTX2",
          "CTX3",
          "DG",
          "CA1",
          "CA3",
          "CTX1",
          "CTX2",
          "CTX3",
          "CA1",
          "CA3",
          "CTX1",
          "CTX2",
          "CTX3",
          "DG",
          "CA1",
          "CA3",
          "CTX1",
          "CTX2",
          "CTX3",
          "DG",
          "CA1",
          "CA3",
          "CTX1",
          "CTX2",
          "CTX3",
          "DG",
          "CA1",
          "CA3",
          "CTX1",
          "CTX2",
          "CTX3",
          "DG",
          "CA1",
          "CA3",
          "CTX1",
          "CTX2",
          "CTX3",
          "DG",
          "CA1",
          "CA3",
          "CTX1",
          "CTX2",
          "CTX3",
          "DG",
          "CA1",
          "CA3",
          "CTX1",
          "CTX2",
          "CTX3",
          "DG",
          "CA1",
          "CA3",
          "CTX1",
          "CTX2",
          "CTX3",
          "DG",
          "CA1",
          "CA3",
          "CTX1",
          "CTX2",
          "CTX3",
          "DG",
          "CA1",
          "CA3",
          "CTX1",
          "CTX2",
          "CTX3",
          "DG",
          "CA1",
          "CA3",
          "CTX1",
          "CTX2",
          "CTX3",
          "DG",
          "CA1",
          "CA3",
          "CTX1",
          "CTX2",
          "CTX3",
          "DG",
          "CA1",
          "CA3",
          "CTX1",
          "CTX2",
          "CTX3",
          "DG",
          "CA1",
          "CA3",
          "CTX1",
          "CTX2",
          "CTX3",
          "DG",
          "CA1",
          "CA3",
          "CTX1",
          "CTX2",
          "CTX3",
          "DG",
          "CA1",
          "CA3",
          "CTX1",
          "CTX2",
          "CTX3",
          "DG",
          "CA1",
          "CA3",
          "CTX1",
          "CTX2",
          "CTX3",
          "DG",
          "CA1",
          "CA3",
          "CTX1",
          "CTX2",
          "CTX3",
          "DG",
          "CA1",
          "CA3",
          "CTX1",
          "CTX2",
          "CTX3",
          "DG",
          "CA1",
          "CA3",
          "CTX1",
          "CTX2",
          "CTX3",
          "DG",
          "CA1",
          "CA3",
          "CTX1",
          "CTX2",
          "CTX3",
          "DG",
          "CA1",
          "CA3",
          "CTX1",
          "CTX2",
          "CTX3",
          "DG",
          "CA1",
          "CA3",
          "CTX1",
          "CTX2",
          "CTX3",
          "DG",
          "CA1",
          "CA3",
          "CTX1",
          "CTX2",
          "CTX3",
          "DG",
          "CA1",
          "CA3",
          "CTX1",
          "CTX2",
          "CTX3",
          "DG",
          "CA1",
          "CA3",
          "CTX1",
          "CTX2",
          "CTX3",
          "DG",
          "CA1",
          "CA3",
          "CTX1",
          "CTX2",
          "CTX3",
          "DG",
          "CA1",
          "CA3",
          "CTX1",
          "CTX2",
          "CTX3",
          "DG",
          "CA1",
          "CA3",
          "CTX1",
          "CTX2",
          "CTX3",
          "DG"
         ],
         "xaxis": "x",
         "y": [
          150,
          123,
          167,
          246,
          233,
          319,
          191,
          128,
          189,
          293,
          249,
          382,
          164,
          114,
          158,
          238,
          186,
          337,
          188,
          154,
          192,
          205,
          125,
          323,
          120,
          93,
          171,
          176,
          195,
          156,
          114,
          196,
          196,
          159,
          323,
          149,
          126,
          154,
          207,
          239,
          333,
          147,
          111,
          158,
          195,
          172,
          443,
          155,
          114,
          198,
          159,
          92,
          372,
          141,
          107,
          200,
          225,
          194,
          409,
          174,
          139,
          243,
          264,
          168,
          395,
          136,
          114,
          191,
          240,
          148,
          429,
          151,
          137,
          133,
          192,
          185,
          415,
          85,
          67,
          104,
          207,
          197,
          356,
          149,
          119,
          199,
          197,
          168,
          385,
          142,
          103,
          234,
          262,
          199,
          366,
          167,
          183,
          192,
          239,
          146,
          318,
          158,
          184,
          224,
          196,
          159,
          425,
          165,
          99,
          208,
          219,
          173,
          339,
          96,
          90,
          168,
          190,
          151,
          244,
          146,
          88,
          155,
          156,
          185,
          311,
          151,
          100,
          163,
          185,
          140,
          363,
          145,
          103,
          168,
          155,
          142,
          387,
          149,
          202,
          222,
          207,
          209,
          345,
          167,
          163,
          230,
          222,
          207,
          404,
          120,
          92,
          230,
          266,
          226,
          386,
          150,
          124,
          254,
          238,
          191,
          505,
          144,
          117,
          146,
          220,
          181,
          371,
          132,
          98,
          124,
          174,
          194,
          356,
          130,
          127,
          194,
          171,
          168,
          317,
          129,
          95,
          131,
          144,
          85,
          400,
          157,
          132,
          178,
          242,
          188,
          406,
          121,
          113,
          141,
          191,
          192,
          310,
          169,
          100,
          198,
          146,
          135,
          341
         ],
         "yaxis": "y"
        }
       ],
       "layout": {
        "legend": {
         "tracegroupgap": 0
        },
        "template": {
         "data": {
          "bar": [
           {
            "error_x": {
             "color": "#2a3f5f"
            },
            "error_y": {
             "color": "#2a3f5f"
            },
            "marker": {
             "line": {
              "color": "#E5ECF6",
              "width": 0.5
             },
             "pattern": {
              "fillmode": "overlay",
              "size": 10,
              "solidity": 0.2
             }
            },
            "type": "bar"
           }
          ],
          "barpolar": [
           {
            "marker": {
             "line": {
              "color": "#E5ECF6",
              "width": 0.5
             },
             "pattern": {
              "fillmode": "overlay",
              "size": 10,
              "solidity": 0.2
             }
            },
            "type": "barpolar"
           }
          ],
          "carpet": [
           {
            "aaxis": {
             "endlinecolor": "#2a3f5f",
             "gridcolor": "white",
             "linecolor": "white",
             "minorgridcolor": "white",
             "startlinecolor": "#2a3f5f"
            },
            "baxis": {
             "endlinecolor": "#2a3f5f",
             "gridcolor": "white",
             "linecolor": "white",
             "minorgridcolor": "white",
             "startlinecolor": "#2a3f5f"
            },
            "type": "carpet"
           }
          ],
          "choropleth": [
           {
            "colorbar": {
             "outlinewidth": 0,
             "ticks": ""
            },
            "type": "choropleth"
           }
          ],
          "contour": [
           {
            "colorbar": {
             "outlinewidth": 0,
             "ticks": ""
            },
            "colorscale": [
             [
              0,
              "#0d0887"
             ],
             [
              0.1111111111111111,
              "#46039f"
             ],
             [
              0.2222222222222222,
              "#7201a8"
             ],
             [
              0.3333333333333333,
              "#9c179e"
             ],
             [
              0.4444444444444444,
              "#bd3786"
             ],
             [
              0.5555555555555556,
              "#d8576b"
             ],
             [
              0.6666666666666666,
              "#ed7953"
             ],
             [
              0.7777777777777778,
              "#fb9f3a"
             ],
             [
              0.8888888888888888,
              "#fdca26"
             ],
             [
              1,
              "#f0f921"
             ]
            ],
            "type": "contour"
           }
          ],
          "contourcarpet": [
           {
            "colorbar": {
             "outlinewidth": 0,
             "ticks": ""
            },
            "type": "contourcarpet"
           }
          ],
          "heatmap": [
           {
            "colorbar": {
             "outlinewidth": 0,
             "ticks": ""
            },
            "colorscale": [
             [
              0,
              "#0d0887"
             ],
             [
              0.1111111111111111,
              "#46039f"
             ],
             [
              0.2222222222222222,
              "#7201a8"
             ],
             [
              0.3333333333333333,
              "#9c179e"
             ],
             [
              0.4444444444444444,
              "#bd3786"
             ],
             [
              0.5555555555555556,
              "#d8576b"
             ],
             [
              0.6666666666666666,
              "#ed7953"
             ],
             [
              0.7777777777777778,
              "#fb9f3a"
             ],
             [
              0.8888888888888888,
              "#fdca26"
             ],
             [
              1,
              "#f0f921"
             ]
            ],
            "type": "heatmap"
           }
          ],
          "heatmapgl": [
           {
            "colorbar": {
             "outlinewidth": 0,
             "ticks": ""
            },
            "colorscale": [
             [
              0,
              "#0d0887"
             ],
             [
              0.1111111111111111,
              "#46039f"
             ],
             [
              0.2222222222222222,
              "#7201a8"
             ],
             [
              0.3333333333333333,
              "#9c179e"
             ],
             [
              0.4444444444444444,
              "#bd3786"
             ],
             [
              0.5555555555555556,
              "#d8576b"
             ],
             [
              0.6666666666666666,
              "#ed7953"
             ],
             [
              0.7777777777777778,
              "#fb9f3a"
             ],
             [
              0.8888888888888888,
              "#fdca26"
             ],
             [
              1,
              "#f0f921"
             ]
            ],
            "type": "heatmapgl"
           }
          ],
          "histogram": [
           {
            "marker": {
             "pattern": {
              "fillmode": "overlay",
              "size": 10,
              "solidity": 0.2
             }
            },
            "type": "histogram"
           }
          ],
          "histogram2d": [
           {
            "colorbar": {
             "outlinewidth": 0,
             "ticks": ""
            },
            "colorscale": [
             [
              0,
              "#0d0887"
             ],
             [
              0.1111111111111111,
              "#46039f"
             ],
             [
              0.2222222222222222,
              "#7201a8"
             ],
             [
              0.3333333333333333,
              "#9c179e"
             ],
             [
              0.4444444444444444,
              "#bd3786"
             ],
             [
              0.5555555555555556,
              "#d8576b"
             ],
             [
              0.6666666666666666,
              "#ed7953"
             ],
             [
              0.7777777777777778,
              "#fb9f3a"
             ],
             [
              0.8888888888888888,
              "#fdca26"
             ],
             [
              1,
              "#f0f921"
             ]
            ],
            "type": "histogram2d"
           }
          ],
          "histogram2dcontour": [
           {
            "colorbar": {
             "outlinewidth": 0,
             "ticks": ""
            },
            "colorscale": [
             [
              0,
              "#0d0887"
             ],
             [
              0.1111111111111111,
              "#46039f"
             ],
             [
              0.2222222222222222,
              "#7201a8"
             ],
             [
              0.3333333333333333,
              "#9c179e"
             ],
             [
              0.4444444444444444,
              "#bd3786"
             ],
             [
              0.5555555555555556,
              "#d8576b"
             ],
             [
              0.6666666666666666,
              "#ed7953"
             ],
             [
              0.7777777777777778,
              "#fb9f3a"
             ],
             [
              0.8888888888888888,
              "#fdca26"
             ],
             [
              1,
              "#f0f921"
             ]
            ],
            "type": "histogram2dcontour"
           }
          ],
          "mesh3d": [
           {
            "colorbar": {
             "outlinewidth": 0,
             "ticks": ""
            },
            "type": "mesh3d"
           }
          ],
          "parcoords": [
           {
            "line": {
             "colorbar": {
              "outlinewidth": 0,
              "ticks": ""
             }
            },
            "type": "parcoords"
           }
          ],
          "pie": [
           {
            "automargin": true,
            "type": "pie"
           }
          ],
          "scatter": [
           {
            "fillpattern": {
             "fillmode": "overlay",
             "size": 10,
             "solidity": 0.2
            },
            "type": "scatter"
           }
          ],
          "scatter3d": [
           {
            "line": {
             "colorbar": {
              "outlinewidth": 0,
              "ticks": ""
             }
            },
            "marker": {
             "colorbar": {
              "outlinewidth": 0,
              "ticks": ""
             }
            },
            "type": "scatter3d"
           }
          ],
          "scattercarpet": [
           {
            "marker": {
             "colorbar": {
              "outlinewidth": 0,
              "ticks": ""
             }
            },
            "type": "scattercarpet"
           }
          ],
          "scattergeo": [
           {
            "marker": {
             "colorbar": {
              "outlinewidth": 0,
              "ticks": ""
             }
            },
            "type": "scattergeo"
           }
          ],
          "scattergl": [
           {
            "marker": {
             "colorbar": {
              "outlinewidth": 0,
              "ticks": ""
             }
            },
            "type": "scattergl"
           }
          ],
          "scattermapbox": [
           {
            "marker": {
             "colorbar": {
              "outlinewidth": 0,
              "ticks": ""
             }
            },
            "type": "scattermapbox"
           }
          ],
          "scatterpolar": [
           {
            "marker": {
             "colorbar": {
              "outlinewidth": 0,
              "ticks": ""
             }
            },
            "type": "scatterpolar"
           }
          ],
          "scatterpolargl": [
           {
            "marker": {
             "colorbar": {
              "outlinewidth": 0,
              "ticks": ""
             }
            },
            "type": "scatterpolargl"
           }
          ],
          "scatterternary": [
           {
            "marker": {
             "colorbar": {
              "outlinewidth": 0,
              "ticks": ""
             }
            },
            "type": "scatterternary"
           }
          ],
          "surface": [
           {
            "colorbar": {
             "outlinewidth": 0,
             "ticks": ""
            },
            "colorscale": [
             [
              0,
              "#0d0887"
             ],
             [
              0.1111111111111111,
              "#46039f"
             ],
             [
              0.2222222222222222,
              "#7201a8"
             ],
             [
              0.3333333333333333,
              "#9c179e"
             ],
             [
              0.4444444444444444,
              "#bd3786"
             ],
             [
              0.5555555555555556,
              "#d8576b"
             ],
             [
              0.6666666666666666,
              "#ed7953"
             ],
             [
              0.7777777777777778,
              "#fb9f3a"
             ],
             [
              0.8888888888888888,
              "#fdca26"
             ],
             [
              1,
              "#f0f921"
             ]
            ],
            "type": "surface"
           }
          ],
          "table": [
           {
            "cells": {
             "fill": {
              "color": "#EBF0F8"
             },
             "line": {
              "color": "white"
             }
            },
            "header": {
             "fill": {
              "color": "#C8D4E3"
             },
             "line": {
              "color": "white"
             }
            },
            "type": "table"
           }
          ]
         },
         "layout": {
          "annotationdefaults": {
           "arrowcolor": "#2a3f5f",
           "arrowhead": 0,
           "arrowwidth": 1
          },
          "autotypenumbers": "strict",
          "coloraxis": {
           "colorbar": {
            "outlinewidth": 0,
            "ticks": ""
           }
          },
          "colorscale": {
           "diverging": [
            [
             0,
             "#8e0152"
            ],
            [
             0.1,
             "#c51b7d"
            ],
            [
             0.2,
             "#de77ae"
            ],
            [
             0.3,
             "#f1b6da"
            ],
            [
             0.4,
             "#fde0ef"
            ],
            [
             0.5,
             "#f7f7f7"
            ],
            [
             0.6,
             "#e6f5d0"
            ],
            [
             0.7,
             "#b8e186"
            ],
            [
             0.8,
             "#7fbc41"
            ],
            [
             0.9,
             "#4d9221"
            ],
            [
             1,
             "#276419"
            ]
           ],
           "sequential": [
            [
             0,
             "#0d0887"
            ],
            [
             0.1111111111111111,
             "#46039f"
            ],
            [
             0.2222222222222222,
             "#7201a8"
            ],
            [
             0.3333333333333333,
             "#9c179e"
            ],
            [
             0.4444444444444444,
             "#bd3786"
            ],
            [
             0.5555555555555556,
             "#d8576b"
            ],
            [
             0.6666666666666666,
             "#ed7953"
            ],
            [
             0.7777777777777778,
             "#fb9f3a"
            ],
            [
             0.8888888888888888,
             "#fdca26"
            ],
            [
             1,
             "#f0f921"
            ]
           ],
           "sequentialminus": [
            [
             0,
             "#0d0887"
            ],
            [
             0.1111111111111111,
             "#46039f"
            ],
            [
             0.2222222222222222,
             "#7201a8"
            ],
            [
             0.3333333333333333,
             "#9c179e"
            ],
            [
             0.4444444444444444,
             "#bd3786"
            ],
            [
             0.5555555555555556,
             "#d8576b"
            ],
            [
             0.6666666666666666,
             "#ed7953"
            ],
            [
             0.7777777777777778,
             "#fb9f3a"
            ],
            [
             0.8888888888888888,
             "#fdca26"
            ],
            [
             1,
             "#f0f921"
            ]
           ]
          },
          "colorway": [
           "#636efa",
           "#EF553B",
           "#00cc96",
           "#ab63fa",
           "#FFA15A",
           "#19d3f3",
           "#FF6692",
           "#B6E880",
           "#FF97FF",
           "#FECB52"
          ],
          "font": {
           "color": "#2a3f5f"
          },
          "geo": {
           "bgcolor": "white",
           "lakecolor": "white",
           "landcolor": "#E5ECF6",
           "showlakes": true,
           "showland": true,
           "subunitcolor": "white"
          },
          "hoverlabel": {
           "align": "left"
          },
          "hovermode": "closest",
          "mapbox": {
           "style": "light"
          },
          "paper_bgcolor": "white",
          "plot_bgcolor": "#E5ECF6",
          "polar": {
           "angularaxis": {
            "gridcolor": "white",
            "linecolor": "white",
            "ticks": ""
           },
           "bgcolor": "#E5ECF6",
           "radialaxis": {
            "gridcolor": "white",
            "linecolor": "white",
            "ticks": ""
           }
          },
          "scene": {
           "xaxis": {
            "backgroundcolor": "#E5ECF6",
            "gridcolor": "white",
            "gridwidth": 2,
            "linecolor": "white",
            "showbackground": true,
            "ticks": "",
            "zerolinecolor": "white"
           },
           "yaxis": {
            "backgroundcolor": "#E5ECF6",
            "gridcolor": "white",
            "gridwidth": 2,
            "linecolor": "white",
            "showbackground": true,
            "ticks": "",
            "zerolinecolor": "white"
           },
           "zaxis": {
            "backgroundcolor": "#E5ECF6",
            "gridcolor": "white",
            "gridwidth": 2,
            "linecolor": "white",
            "showbackground": true,
            "ticks": "",
            "zerolinecolor": "white"
           }
          },
          "shapedefaults": {
           "line": {
            "color": "#2a3f5f"
           }
          },
          "ternary": {
           "aaxis": {
            "gridcolor": "white",
            "linecolor": "white",
            "ticks": ""
           },
           "baxis": {
            "gridcolor": "white",
            "linecolor": "white",
            "ticks": ""
           },
           "bgcolor": "#E5ECF6",
           "caxis": {
            "gridcolor": "white",
            "linecolor": "white",
            "ticks": ""
           }
          },
          "title": {
           "x": 0.05
          },
          "xaxis": {
           "automargin": true,
           "gridcolor": "white",
           "linecolor": "white",
           "ticks": "",
           "title": {
            "standoff": 15
           },
           "zerolinecolor": "white",
           "zerolinewidth": 2
          },
          "yaxis": {
           "automargin": true,
           "gridcolor": "white",
           "linecolor": "white",
           "ticks": "",
           "title": {
            "standoff": 15
           },
           "zerolinecolor": "white",
           "zerolinewidth": 2
          }
         }
        },
        "title": {
         "text": "Nr of total nuclei by Tissue Location - cellpdia30_sigma1_dilrad4_dnad_obj_seg_v1_gliaero6_gliathr20_dnadero2"
        },
        "xaxis": {
         "anchor": "y",
         "domain": [
          0,
          1
         ],
         "title": {
          "text": "tissue_location"
         }
        },
        "yaxis": {
         "anchor": "x",
         "domain": [
          0,
          1
         ],
         "title": {
          "text": "nr_total_nuclei"
         }
        }
       }
      }
     },
     "metadata": {},
     "output_type": "display_data"
    },
    {
     "data": {
      "application/vnd.plotly.v1+json": {
       "config": {
        "plotlyServerURL": "https://plot.ly"
       },
       "data": [
        {
         "customdata": [
          [
           0,
           "DSB Iba1 101_40X_CA1"
          ],
          [
           1,
           "DSB Iba1 101_40X_CA3"
          ],
          [
           2,
           "DSB Iba1 101_40X_CTX1"
          ],
          [
           3,
           "DSB Iba1 101_40X_CTX2"
          ],
          [
           4,
           "DSB Iba1 101_40X_CTX3"
          ],
          [
           5,
           "DSB Iba1 101_40X_DG"
          ],
          [
           6,
           "DSB Iba1 102_40X_CA1"
          ],
          [
           7,
           "DSB Iba1 102_40X_CA3"
          ],
          [
           8,
           "DSB Iba1 102_40X_CTX1"
          ],
          [
           9,
           "DSB Iba1 102_40X_CTX2"
          ],
          [
           10,
           "DSB Iba1 102_40X_CTX3"
          ],
          [
           11,
           "DSB Iba1 102_40X_DG"
          ],
          [
           12,
           "DSB Iba1 103_40X_CA1"
          ],
          [
           13,
           "DSB Iba1 103_40X_CA3"
          ],
          [
           14,
           "DSB Iba1 103_40X_CTX1"
          ],
          [
           15,
           "DSB Iba1 103_40X_CTX2"
          ],
          [
           16,
           "DSB Iba1 103_40X_CTX3"
          ],
          [
           17,
           "DSB Iba1 103_40X_DG"
          ],
          [
           18,
           "DSB Iba1 104_40X_CA1"
          ],
          [
           19,
           "DSB Iba1 104_40X_CA3"
          ],
          [
           20,
           "DSB Iba1 104_40X_CTX1"
          ],
          [
           21,
           "DSB Iba1 104_40X_CTX2"
          ],
          [
           22,
           "DSB Iba1 104_40X_CTX3"
          ],
          [
           23,
           "DSB Iba1 104_40X_DG"
          ],
          [
           24,
           "DSB Iba1 105_40X_CA1"
          ],
          [
           25,
           "DSB Iba1 105_40X_CA3"
          ],
          [
           26,
           "DSB Iba1 105_40X_CTX1"
          ],
          [
           27,
           "DSB Iba1 105_40X_CTX2"
          ],
          [
           28,
           "DSB Iba1 105_40X_CTX3"
          ],
          [
           29,
           "DSB Iba1 106_40X_CA1"
          ],
          [
           30,
           "DSB Iba1 106_40X_CA3"
          ],
          [
           31,
           "DSB Iba1 106_40X_CTX1"
          ],
          [
           32,
           "DSB Iba1 106_40X_CTX2"
          ],
          [
           33,
           "DSB Iba1 106_40X_CTX3"
          ],
          [
           34,
           "DSB Iba1 106_40X_DG"
          ],
          [
           35,
           "DSB Iba1 107_40X_CA1"
          ],
          [
           36,
           "DSB Iba1 107_40X_CA3"
          ],
          [
           37,
           "DSB Iba1 107_40X_CTX1"
          ],
          [
           38,
           "DSB Iba1 107_40X_CTX2"
          ],
          [
           39,
           "DSB Iba1 107_40X_CTX3"
          ],
          [
           40,
           "DSB Iba1 107_40X_DG"
          ],
          [
           41,
           "DSB Iba1 108_40X_CA1"
          ],
          [
           42,
           "DSB Iba1 108_40X_CA3"
          ],
          [
           43,
           "DSB Iba1 108_40X_CTX1"
          ],
          [
           44,
           "DSB Iba1 108_40X_CTX2"
          ],
          [
           45,
           "DSB Iba1 108_40X_CTX3"
          ],
          [
           46,
           "DSB Iba1 108_40X_DG"
          ],
          [
           47,
           "DSB Iba1 20_40X_CA1"
          ],
          [
           48,
           "DSB Iba1 20_40X_CA3"
          ],
          [
           49,
           "DSB Iba1 20_40X_CTX1"
          ],
          [
           50,
           "DSB Iba1 20_40X_CTX2"
          ],
          [
           51,
           "DSB Iba1 20_40X_CTX3"
          ],
          [
           52,
           "DSB Iba1 20_40X_DG"
          ],
          [
           53,
           "DSB Iba1 21_40X_CA1"
          ],
          [
           54,
           "DSB Iba1 21_40X_CA3"
          ],
          [
           55,
           "DSB Iba1 21_40X_CTX1"
          ],
          [
           56,
           "DSB Iba1 21_40X_CTX2"
          ],
          [
           57,
           "DSB Iba1 21_40X_CTX3"
          ],
          [
           58,
           "DSB Iba1 21_40X_DG"
          ],
          [
           59,
           "DSB Iba1 22_40X_CA1"
          ],
          [
           60,
           "DSB Iba1 22_40X_CA3"
          ],
          [
           61,
           "DSB Iba1 22_40X_CTX1"
          ],
          [
           62,
           "DSB Iba1 22_40X_CTX2"
          ],
          [
           63,
           "DSB Iba1 22_40X_CTX3"
          ],
          [
           64,
           "DSB Iba1 22_40X_DG"
          ],
          [
           65,
           "DSB Iba1 23_40X_CA1"
          ],
          [
           66,
           "DSB Iba1 23_40X_CA3"
          ],
          [
           67,
           "DSB Iba1 23_40X_CTX1"
          ],
          [
           68,
           "DSB Iba1 23_40X_CTX2"
          ],
          [
           69,
           "DSB Iba1 23_40X_CTX3"
          ],
          [
           70,
           "DSB Iba1 23_40X_DG"
          ],
          [
           71,
           "DSB Iba1 25_40X_CA1"
          ],
          [
           72,
           "DSB Iba1 25_40X_CA3"
          ],
          [
           73,
           "DSB Iba1 25_40X_CTX1"
          ],
          [
           74,
           "DSB Iba1 25_40X_CTX2"
          ],
          [
           75,
           "DSB Iba1 25_40X_CTX3"
          ],
          [
           76,
           "DSB Iba1 25_40X_DG"
          ],
          [
           77,
           "DSB Iba1 28_40X_CA1"
          ],
          [
           78,
           "DSB Iba1 28_40X_CA3"
          ],
          [
           79,
           "DSB Iba1 28_40X_CTX1"
          ],
          [
           80,
           "DSB Iba1 28_40X_CTX2"
          ],
          [
           81,
           "DSB Iba1 28_40X_CTX3"
          ],
          [
           82,
           "DSB Iba1 28_40X_DG"
          ],
          [
           83,
           "DSB Iba1 29_40X_CA1"
          ],
          [
           84,
           "DSB Iba1 29_40X_CA3"
          ],
          [
           85,
           "DSB Iba1 29_40X_CTX1"
          ],
          [
           86,
           "DSB Iba1 29_40X_CTX2"
          ],
          [
           87,
           "DSB Iba1 29_40X_CTX3"
          ],
          [
           88,
           "DSB Iba1 29_40X_DG"
          ],
          [
           89,
           "DSB Iba1 30_40X_CA1"
          ],
          [
           90,
           "DSB Iba1 30_40X_CA3"
          ],
          [
           91,
           "DSB Iba1 30_40X_CTX1"
          ],
          [
           92,
           "DSB Iba1 30_40X_CTX2"
          ],
          [
           93,
           "DSB Iba1 30_40X_CTX3"
          ],
          [
           94,
           "DSB Iba1 30_40X_DG"
          ],
          [
           95,
           "DSB Iba1 31_40X_CA1"
          ],
          [
           96,
           "DSB Iba1 31_40X_CA3"
          ],
          [
           97,
           "DSB Iba1 31_40X_CTX1"
          ],
          [
           98,
           "DSB Iba1 31_40X_CTX2"
          ],
          [
           99,
           "DSB Iba1 31_40X_CTX3"
          ],
          [
           100,
           "DSB Iba1 31_40X_DG"
          ],
          [
           101,
           "DSB Iba1 33_40X_CA1"
          ],
          [
           102,
           "DSB Iba1 33_40X_CA3"
          ],
          [
           103,
           "DSB Iba1 33_40X_CTX1"
          ],
          [
           104,
           "DSB Iba1 33_40X_CTX2"
          ],
          [
           105,
           "DSB Iba1 33_40X_CTX3"
          ],
          [
           106,
           "DSB Iba1 33_40X_DG"
          ],
          [
           107,
           "DSB Iba1 36_40X_CA1"
          ],
          [
           108,
           "DSB Iba1 36_40X_CA3"
          ],
          [
           109,
           "DSB Iba1 36_40X_CTX1"
          ],
          [
           110,
           "DSB Iba1 36_40X_CTX2"
          ],
          [
           111,
           "DSB Iba1 36_40X_CTX3"
          ],
          [
           112,
           "DSB Iba1 36_40X_DG"
          ],
          [
           113,
           "DSB Iba1 39_40X_CA1"
          ],
          [
           114,
           "DSB Iba1 39_40X_CA3"
          ],
          [
           115,
           "DSB Iba1 39_40X_CTX1"
          ],
          [
           116,
           "DSB Iba1 39_40X_CTX2"
          ],
          [
           117,
           "DSB Iba1 39_40X_CTX3"
          ],
          [
           118,
           "DSB Iba1 39_40X_DG"
          ],
          [
           119,
           "DSB Iba1 40_40X_CA1"
          ],
          [
           120,
           "DSB Iba1 40_40X_CA3"
          ],
          [
           121,
           "DSB Iba1 40_40X_CTX1"
          ],
          [
           122,
           "DSB Iba1 40_40X_CTX2"
          ],
          [
           123,
           "DSB Iba1 40_40X_CTX3"
          ],
          [
           124,
           "DSB Iba1 40_40X_DG"
          ],
          [
           125,
           "DSB Iba1 41_40X_CA1"
          ],
          [
           126,
           "DSB Iba1 41_40X_CA3"
          ],
          [
           127,
           "DSB Iba1 41_40X_CTX1"
          ],
          [
           128,
           "DSB Iba1 41_40X_CTX2"
          ],
          [
           129,
           "DSB Iba1 41_40X_CTX3"
          ],
          [
           130,
           "DSB Iba1 41_40X_DG"
          ],
          [
           131,
           "DSB Iba1 42_40X_CA1"
          ],
          [
           132,
           "DSB Iba1 42_40X_CA3"
          ],
          [
           133,
           "DSB Iba1 42_40X_CTX1"
          ],
          [
           134,
           "DSB Iba1 42_40X_CTX2"
          ],
          [
           135,
           "DSB Iba1 42_40X_CTX3"
          ],
          [
           136,
           "DSB Iba1 42_40X_DG"
          ],
          [
           137,
           "DSB Iba1 43_40X_CA1"
          ],
          [
           138,
           "DSB Iba1 43_40X_CA3"
          ],
          [
           139,
           "DSB Iba1 43_40X_CTX1"
          ],
          [
           140,
           "DSB Iba1 43_40X_CTX2"
          ],
          [
           141,
           "DSB Iba1 43_40X_CTX3"
          ],
          [
           142,
           "DSB Iba1 43_40X_DG"
          ],
          [
           143,
           "DSB Iba1 45_40X_CA1"
          ],
          [
           144,
           "DSB Iba1 45_40X_CA3"
          ],
          [
           145,
           "DSB Iba1 45_40X_CTX1"
          ],
          [
           146,
           "DSB Iba1 45_40X_CTX2"
          ],
          [
           147,
           "DSB Iba1 45_40X_CTX3"
          ],
          [
           148,
           "DSB Iba1 45_40X_DG"
          ],
          [
           149,
           "DSB Iba1 48_40X_CA1"
          ],
          [
           150,
           "DSB Iba1 48_40X_CA3"
          ],
          [
           151,
           "DSB Iba1 48_40X_CTX1"
          ],
          [
           152,
           "DSB Iba1 48_40X_CTX2"
          ],
          [
           153,
           "DSB Iba1 48_40X_CTX3"
          ],
          [
           154,
           "DSB Iba1 48_40X_DG"
          ],
          [
           155,
           "DSB Iba1 50_40X_CA1"
          ],
          [
           156,
           "DSB Iba1 50_40X_CA3"
          ],
          [
           157,
           "DSB Iba1 50_40X_CTX1"
          ],
          [
           158,
           "DSB Iba1 50_40X_CTX2"
          ],
          [
           159,
           "DSB Iba1 50_40X_CTX3"
          ],
          [
           160,
           "DSB Iba1 50_40X_DG"
          ],
          [
           161,
           "DSB Iba1 51_40X_CA1"
          ],
          [
           162,
           "DSB Iba1 51_40X_CA3"
          ],
          [
           163,
           "DSB Iba1 51_40X_CTX1"
          ],
          [
           164,
           "DSB Iba1 51_40X_CTX2"
          ],
          [
           165,
           "DSB Iba1 51_40X_CTX3"
          ],
          [
           166,
           "DSB Iba1 51_40X_DG"
          ],
          [
           167,
           "DSB Iba1 52_40X_CA1"
          ],
          [
           168,
           "DSB Iba1 52_40X_CA3"
          ],
          [
           169,
           "DSB Iba1 52_40X_CTX1"
          ],
          [
           170,
           "DSB Iba1 52_40X_CTX2"
          ],
          [
           171,
           "DSB Iba1 52_40X_CTX3"
          ],
          [
           172,
           "DSB Iba1 52_40X_DG"
          ],
          [
           173,
           "DSB Iba1 54_40X_CA1"
          ],
          [
           174,
           "DSB Iba1 54_40X_CA3"
          ],
          [
           175,
           "DSB Iba1 54_40X_CTX1"
          ],
          [
           176,
           "DSB Iba1 54_40X_CTX2"
          ],
          [
           177,
           "DSB Iba1 54_40X_CTX3"
          ],
          [
           178,
           "DSB Iba1 54_40X_DG"
          ],
          [
           179,
           "DSB Iba1 55_40X_CA1"
          ],
          [
           180,
           "DSB Iba1 55_40X_CA3"
          ],
          [
           181,
           "DSB Iba1 55_40X_CTX1"
          ],
          [
           182,
           "DSB Iba1 55_40X_CTX2"
          ],
          [
           183,
           "DSB Iba1 55_40X_CTX3"
          ],
          [
           184,
           "DSB Iba1 55_40X_DG"
          ],
          [
           185,
           "DSB Iba1 56_40X_CA1"
          ],
          [
           186,
           "DSB Iba1 56_40X_CA3"
          ],
          [
           187,
           "DSB Iba1 56_40X_CTX1"
          ],
          [
           188,
           "DSB Iba1 56_40X_CTX2"
          ],
          [
           189,
           "DSB Iba1 56_40X_CTX3"
          ],
          [
           190,
           "DSB Iba1 56_40X_DG"
          ],
          [
           191,
           "DSB Iba1 58_40X_CA1"
          ],
          [
           192,
           "DSB Iba1 58_40X_CA3"
          ],
          [
           193,
           "DSB Iba1 58_40X_CTX1"
          ],
          [
           194,
           "DSB Iba1 58_40X_CTX2"
          ],
          [
           195,
           "DSB Iba1 58_40X_CTX3"
          ],
          [
           196,
           "DSB Iba1 58_40X_DG"
          ],
          [
           197,
           "DSB Iba1 59_40X_CA1"
          ],
          [
           198,
           "DSB Iba1 59_40X_CA3"
          ],
          [
           199,
           "DSB Iba1 59_40X_CTX1"
          ],
          [
           200,
           "DSB Iba1 59_40X_CTX2"
          ],
          [
           201,
           "DSB Iba1 59_40X_CTX3"
          ],
          [
           202,
           "DSB Iba1 59_40X_DG"
          ]
         ],
         "hovertemplate": "staining_id=%{x}<br>nr_glia_+_nuclei=%{y}<br>index=%{customdata[0]}<br>filename=%{customdata[1]}<extra></extra>",
         "legendgroup": "",
         "marker": {
          "color": "#636efa",
          "symbol": "circle"
         },
         "mode": "markers",
         "name": "",
         "orientation": "v",
         "showlegend": false,
         "type": "scatter",
         "x": [
          101,
          101,
          101,
          101,
          101,
          101,
          102,
          102,
          102,
          102,
          102,
          102,
          103,
          103,
          103,
          103,
          103,
          103,
          104,
          104,
          104,
          104,
          104,
          104,
          105,
          105,
          105,
          105,
          105,
          106,
          106,
          106,
          106,
          106,
          106,
          107,
          107,
          107,
          107,
          107,
          107,
          108,
          108,
          108,
          108,
          108,
          108,
          20,
          20,
          20,
          20,
          20,
          20,
          21,
          21,
          21,
          21,
          21,
          21,
          22,
          22,
          22,
          22,
          22,
          22,
          23,
          23,
          23,
          23,
          23,
          23,
          25,
          25,
          25,
          25,
          25,
          25,
          28,
          28,
          28,
          28,
          28,
          28,
          29,
          29,
          29,
          29,
          29,
          29,
          30,
          30,
          30,
          30,
          30,
          30,
          31,
          31,
          31,
          31,
          31,
          31,
          33,
          33,
          33,
          33,
          33,
          33,
          36,
          36,
          36,
          36,
          36,
          36,
          39,
          39,
          39,
          39,
          39,
          39,
          40,
          40,
          40,
          40,
          40,
          40,
          41,
          41,
          41,
          41,
          41,
          41,
          42,
          42,
          42,
          42,
          42,
          42,
          43,
          43,
          43,
          43,
          43,
          43,
          45,
          45,
          45,
          45,
          45,
          45,
          48,
          48,
          48,
          48,
          48,
          48,
          50,
          50,
          50,
          50,
          50,
          50,
          51,
          51,
          51,
          51,
          51,
          51,
          52,
          52,
          52,
          52,
          52,
          52,
          54,
          54,
          54,
          54,
          54,
          54,
          55,
          55,
          55,
          55,
          55,
          55,
          56,
          56,
          56,
          56,
          56,
          56,
          58,
          58,
          58,
          58,
          58,
          58,
          59,
          59,
          59,
          59,
          59,
          59
         ],
         "xaxis": "x",
         "y": [
          12,
          9,
          30,
          11,
          15,
          20,
          9,
          6,
          36,
          21,
          22,
          20,
          6,
          10,
          18,
          18,
          21,
          17,
          11,
          9,
          28,
          19,
          14,
          8,
          6,
          7,
          22,
          19,
          24,
          7,
          2,
          11,
          5,
          10,
          8,
          7,
          8,
          28,
          20,
          15,
          15,
          3,
          5,
          14,
          11,
          14,
          10,
          6,
          5,
          5,
          22,
          3,
          7,
          11,
          4,
          17,
          15,
          23,
          15,
          19,
          6,
          10,
          17,
          8,
          17,
          8,
          8,
          25,
          5,
          11,
          16,
          8,
          9,
          25,
          20,
          9,
          15,
          2,
          1,
          3,
          13,
          11,
          17,
          10,
          5,
          16,
          26,
          16,
          6,
          6,
          4,
          26,
          22,
          13,
          5,
          11,
          1,
          11,
          17,
          13,
          14,
          5,
          7,
          10,
          15,
          9,
          8,
          8,
          6,
          16,
          29,
          10,
          5,
          6,
          5,
          2,
          5,
          2,
          8,
          4,
          8,
          20,
          11,
          24,
          5,
          4,
          4,
          0,
          3,
          5,
          6,
          3,
          6,
          6,
          15,
          10,
          4,
          11,
          7,
          28,
          20,
          12,
          39,
          16,
          3,
          12,
          25,
          17,
          22,
          7,
          4,
          35,
          24,
          20,
          13,
          13,
          9,
          24,
          14,
          31,
          15,
          15,
          8,
          18,
          24,
          26,
          22,
          5,
          7,
          23,
          31,
          26,
          16,
          5,
          3,
          10,
          10,
          20,
          13,
          7,
          3,
          8,
          9,
          6,
          11,
          13,
          12,
          21,
          23,
          36,
          16,
          4,
          6,
          17,
          16,
          6,
          2,
          5,
          5,
          9,
          20,
          23,
          6
         ],
         "yaxis": "y"
        }
       ],
       "layout": {
        "legend": {
         "tracegroupgap": 0
        },
        "template": {
         "data": {
          "bar": [
           {
            "error_x": {
             "color": "#2a3f5f"
            },
            "error_y": {
             "color": "#2a3f5f"
            },
            "marker": {
             "line": {
              "color": "#E5ECF6",
              "width": 0.5
             },
             "pattern": {
              "fillmode": "overlay",
              "size": 10,
              "solidity": 0.2
             }
            },
            "type": "bar"
           }
          ],
          "barpolar": [
           {
            "marker": {
             "line": {
              "color": "#E5ECF6",
              "width": 0.5
             },
             "pattern": {
              "fillmode": "overlay",
              "size": 10,
              "solidity": 0.2
             }
            },
            "type": "barpolar"
           }
          ],
          "carpet": [
           {
            "aaxis": {
             "endlinecolor": "#2a3f5f",
             "gridcolor": "white",
             "linecolor": "white",
             "minorgridcolor": "white",
             "startlinecolor": "#2a3f5f"
            },
            "baxis": {
             "endlinecolor": "#2a3f5f",
             "gridcolor": "white",
             "linecolor": "white",
             "minorgridcolor": "white",
             "startlinecolor": "#2a3f5f"
            },
            "type": "carpet"
           }
          ],
          "choropleth": [
           {
            "colorbar": {
             "outlinewidth": 0,
             "ticks": ""
            },
            "type": "choropleth"
           }
          ],
          "contour": [
           {
            "colorbar": {
             "outlinewidth": 0,
             "ticks": ""
            },
            "colorscale": [
             [
              0,
              "#0d0887"
             ],
             [
              0.1111111111111111,
              "#46039f"
             ],
             [
              0.2222222222222222,
              "#7201a8"
             ],
             [
              0.3333333333333333,
              "#9c179e"
             ],
             [
              0.4444444444444444,
              "#bd3786"
             ],
             [
              0.5555555555555556,
              "#d8576b"
             ],
             [
              0.6666666666666666,
              "#ed7953"
             ],
             [
              0.7777777777777778,
              "#fb9f3a"
             ],
             [
              0.8888888888888888,
              "#fdca26"
             ],
             [
              1,
              "#f0f921"
             ]
            ],
            "type": "contour"
           }
          ],
          "contourcarpet": [
           {
            "colorbar": {
             "outlinewidth": 0,
             "ticks": ""
            },
            "type": "contourcarpet"
           }
          ],
          "heatmap": [
           {
            "colorbar": {
             "outlinewidth": 0,
             "ticks": ""
            },
            "colorscale": [
             [
              0,
              "#0d0887"
             ],
             [
              0.1111111111111111,
              "#46039f"
             ],
             [
              0.2222222222222222,
              "#7201a8"
             ],
             [
              0.3333333333333333,
              "#9c179e"
             ],
             [
              0.4444444444444444,
              "#bd3786"
             ],
             [
              0.5555555555555556,
              "#d8576b"
             ],
             [
              0.6666666666666666,
              "#ed7953"
             ],
             [
              0.7777777777777778,
              "#fb9f3a"
             ],
             [
              0.8888888888888888,
              "#fdca26"
             ],
             [
              1,
              "#f0f921"
             ]
            ],
            "type": "heatmap"
           }
          ],
          "heatmapgl": [
           {
            "colorbar": {
             "outlinewidth": 0,
             "ticks": ""
            },
            "colorscale": [
             [
              0,
              "#0d0887"
             ],
             [
              0.1111111111111111,
              "#46039f"
             ],
             [
              0.2222222222222222,
              "#7201a8"
             ],
             [
              0.3333333333333333,
              "#9c179e"
             ],
             [
              0.4444444444444444,
              "#bd3786"
             ],
             [
              0.5555555555555556,
              "#d8576b"
             ],
             [
              0.6666666666666666,
              "#ed7953"
             ],
             [
              0.7777777777777778,
              "#fb9f3a"
             ],
             [
              0.8888888888888888,
              "#fdca26"
             ],
             [
              1,
              "#f0f921"
             ]
            ],
            "type": "heatmapgl"
           }
          ],
          "histogram": [
           {
            "marker": {
             "pattern": {
              "fillmode": "overlay",
              "size": 10,
              "solidity": 0.2
             }
            },
            "type": "histogram"
           }
          ],
          "histogram2d": [
           {
            "colorbar": {
             "outlinewidth": 0,
             "ticks": ""
            },
            "colorscale": [
             [
              0,
              "#0d0887"
             ],
             [
              0.1111111111111111,
              "#46039f"
             ],
             [
              0.2222222222222222,
              "#7201a8"
             ],
             [
              0.3333333333333333,
              "#9c179e"
             ],
             [
              0.4444444444444444,
              "#bd3786"
             ],
             [
              0.5555555555555556,
              "#d8576b"
             ],
             [
              0.6666666666666666,
              "#ed7953"
             ],
             [
              0.7777777777777778,
              "#fb9f3a"
             ],
             [
              0.8888888888888888,
              "#fdca26"
             ],
             [
              1,
              "#f0f921"
             ]
            ],
            "type": "histogram2d"
           }
          ],
          "histogram2dcontour": [
           {
            "colorbar": {
             "outlinewidth": 0,
             "ticks": ""
            },
            "colorscale": [
             [
              0,
              "#0d0887"
             ],
             [
              0.1111111111111111,
              "#46039f"
             ],
             [
              0.2222222222222222,
              "#7201a8"
             ],
             [
              0.3333333333333333,
              "#9c179e"
             ],
             [
              0.4444444444444444,
              "#bd3786"
             ],
             [
              0.5555555555555556,
              "#d8576b"
             ],
             [
              0.6666666666666666,
              "#ed7953"
             ],
             [
              0.7777777777777778,
              "#fb9f3a"
             ],
             [
              0.8888888888888888,
              "#fdca26"
             ],
             [
              1,
              "#f0f921"
             ]
            ],
            "type": "histogram2dcontour"
           }
          ],
          "mesh3d": [
           {
            "colorbar": {
             "outlinewidth": 0,
             "ticks": ""
            },
            "type": "mesh3d"
           }
          ],
          "parcoords": [
           {
            "line": {
             "colorbar": {
              "outlinewidth": 0,
              "ticks": ""
             }
            },
            "type": "parcoords"
           }
          ],
          "pie": [
           {
            "automargin": true,
            "type": "pie"
           }
          ],
          "scatter": [
           {
            "fillpattern": {
             "fillmode": "overlay",
             "size": 10,
             "solidity": 0.2
            },
            "type": "scatter"
           }
          ],
          "scatter3d": [
           {
            "line": {
             "colorbar": {
              "outlinewidth": 0,
              "ticks": ""
             }
            },
            "marker": {
             "colorbar": {
              "outlinewidth": 0,
              "ticks": ""
             }
            },
            "type": "scatter3d"
           }
          ],
          "scattercarpet": [
           {
            "marker": {
             "colorbar": {
              "outlinewidth": 0,
              "ticks": ""
             }
            },
            "type": "scattercarpet"
           }
          ],
          "scattergeo": [
           {
            "marker": {
             "colorbar": {
              "outlinewidth": 0,
              "ticks": ""
             }
            },
            "type": "scattergeo"
           }
          ],
          "scattergl": [
           {
            "marker": {
             "colorbar": {
              "outlinewidth": 0,
              "ticks": ""
             }
            },
            "type": "scattergl"
           }
          ],
          "scattermapbox": [
           {
            "marker": {
             "colorbar": {
              "outlinewidth": 0,
              "ticks": ""
             }
            },
            "type": "scattermapbox"
           }
          ],
          "scatterpolar": [
           {
            "marker": {
             "colorbar": {
              "outlinewidth": 0,
              "ticks": ""
             }
            },
            "type": "scatterpolar"
           }
          ],
          "scatterpolargl": [
           {
            "marker": {
             "colorbar": {
              "outlinewidth": 0,
              "ticks": ""
             }
            },
            "type": "scatterpolargl"
           }
          ],
          "scatterternary": [
           {
            "marker": {
             "colorbar": {
              "outlinewidth": 0,
              "ticks": ""
             }
            },
            "type": "scatterternary"
           }
          ],
          "surface": [
           {
            "colorbar": {
             "outlinewidth": 0,
             "ticks": ""
            },
            "colorscale": [
             [
              0,
              "#0d0887"
             ],
             [
              0.1111111111111111,
              "#46039f"
             ],
             [
              0.2222222222222222,
              "#7201a8"
             ],
             [
              0.3333333333333333,
              "#9c179e"
             ],
             [
              0.4444444444444444,
              "#bd3786"
             ],
             [
              0.5555555555555556,
              "#d8576b"
             ],
             [
              0.6666666666666666,
              "#ed7953"
             ],
             [
              0.7777777777777778,
              "#fb9f3a"
             ],
             [
              0.8888888888888888,
              "#fdca26"
             ],
             [
              1,
              "#f0f921"
             ]
            ],
            "type": "surface"
           }
          ],
          "table": [
           {
            "cells": {
             "fill": {
              "color": "#EBF0F8"
             },
             "line": {
              "color": "white"
             }
            },
            "header": {
             "fill": {
              "color": "#C8D4E3"
             },
             "line": {
              "color": "white"
             }
            },
            "type": "table"
           }
          ]
         },
         "layout": {
          "annotationdefaults": {
           "arrowcolor": "#2a3f5f",
           "arrowhead": 0,
           "arrowwidth": 1
          },
          "autotypenumbers": "strict",
          "coloraxis": {
           "colorbar": {
            "outlinewidth": 0,
            "ticks": ""
           }
          },
          "colorscale": {
           "diverging": [
            [
             0,
             "#8e0152"
            ],
            [
             0.1,
             "#c51b7d"
            ],
            [
             0.2,
             "#de77ae"
            ],
            [
             0.3,
             "#f1b6da"
            ],
            [
             0.4,
             "#fde0ef"
            ],
            [
             0.5,
             "#f7f7f7"
            ],
            [
             0.6,
             "#e6f5d0"
            ],
            [
             0.7,
             "#b8e186"
            ],
            [
             0.8,
             "#7fbc41"
            ],
            [
             0.9,
             "#4d9221"
            ],
            [
             1,
             "#276419"
            ]
           ],
           "sequential": [
            [
             0,
             "#0d0887"
            ],
            [
             0.1111111111111111,
             "#46039f"
            ],
            [
             0.2222222222222222,
             "#7201a8"
            ],
            [
             0.3333333333333333,
             "#9c179e"
            ],
            [
             0.4444444444444444,
             "#bd3786"
            ],
            [
             0.5555555555555556,
             "#d8576b"
            ],
            [
             0.6666666666666666,
             "#ed7953"
            ],
            [
             0.7777777777777778,
             "#fb9f3a"
            ],
            [
             0.8888888888888888,
             "#fdca26"
            ],
            [
             1,
             "#f0f921"
            ]
           ],
           "sequentialminus": [
            [
             0,
             "#0d0887"
            ],
            [
             0.1111111111111111,
             "#46039f"
            ],
            [
             0.2222222222222222,
             "#7201a8"
            ],
            [
             0.3333333333333333,
             "#9c179e"
            ],
            [
             0.4444444444444444,
             "#bd3786"
            ],
            [
             0.5555555555555556,
             "#d8576b"
            ],
            [
             0.6666666666666666,
             "#ed7953"
            ],
            [
             0.7777777777777778,
             "#fb9f3a"
            ],
            [
             0.8888888888888888,
             "#fdca26"
            ],
            [
             1,
             "#f0f921"
            ]
           ]
          },
          "colorway": [
           "#636efa",
           "#EF553B",
           "#00cc96",
           "#ab63fa",
           "#FFA15A",
           "#19d3f3",
           "#FF6692",
           "#B6E880",
           "#FF97FF",
           "#FECB52"
          ],
          "font": {
           "color": "#2a3f5f"
          },
          "geo": {
           "bgcolor": "white",
           "lakecolor": "white",
           "landcolor": "#E5ECF6",
           "showlakes": true,
           "showland": true,
           "subunitcolor": "white"
          },
          "hoverlabel": {
           "align": "left"
          },
          "hovermode": "closest",
          "mapbox": {
           "style": "light"
          },
          "paper_bgcolor": "white",
          "plot_bgcolor": "#E5ECF6",
          "polar": {
           "angularaxis": {
            "gridcolor": "white",
            "linecolor": "white",
            "ticks": ""
           },
           "bgcolor": "#E5ECF6",
           "radialaxis": {
            "gridcolor": "white",
            "linecolor": "white",
            "ticks": ""
           }
          },
          "scene": {
           "xaxis": {
            "backgroundcolor": "#E5ECF6",
            "gridcolor": "white",
            "gridwidth": 2,
            "linecolor": "white",
            "showbackground": true,
            "ticks": "",
            "zerolinecolor": "white"
           },
           "yaxis": {
            "backgroundcolor": "#E5ECF6",
            "gridcolor": "white",
            "gridwidth": 2,
            "linecolor": "white",
            "showbackground": true,
            "ticks": "",
            "zerolinecolor": "white"
           },
           "zaxis": {
            "backgroundcolor": "#E5ECF6",
            "gridcolor": "white",
            "gridwidth": 2,
            "linecolor": "white",
            "showbackground": true,
            "ticks": "",
            "zerolinecolor": "white"
           }
          },
          "shapedefaults": {
           "line": {
            "color": "#2a3f5f"
           }
          },
          "ternary": {
           "aaxis": {
            "gridcolor": "white",
            "linecolor": "white",
            "ticks": ""
           },
           "baxis": {
            "gridcolor": "white",
            "linecolor": "white",
            "ticks": ""
           },
           "bgcolor": "#E5ECF6",
           "caxis": {
            "gridcolor": "white",
            "linecolor": "white",
            "ticks": ""
           }
          },
          "title": {
           "x": 0.05
          },
          "xaxis": {
           "automargin": true,
           "gridcolor": "white",
           "linecolor": "white",
           "ticks": "",
           "title": {
            "standoff": 15
           },
           "zerolinecolor": "white",
           "zerolinewidth": 2
          },
          "yaxis": {
           "automargin": true,
           "gridcolor": "white",
           "linecolor": "white",
           "ticks": "",
           "title": {
            "standoff": 15
           },
           "zerolinecolor": "white",
           "zerolinewidth": 2
          }
         }
        },
        "title": {
         "text": "Nr of Microglia+ nuclei by Sample - cellpdia30_sigma1_dilrad4_dnad_obj_seg_v1_gliaero6_gliathr20_dnadero2"
        },
        "xaxis": {
         "anchor": "y",
         "domain": [
          0,
          1
         ],
         "title": {
          "text": "staining_id"
         }
        },
        "yaxis": {
         "anchor": "x",
         "domain": [
          0,
          1
         ],
         "title": {
          "text": "nr_glia_+_nuclei"
         }
        }
       }
      }
     },
     "metadata": {},
     "output_type": "display_data"
    },
    {
     "data": {
      "application/vnd.plotly.v1+json": {
       "config": {
        "plotlyServerURL": "https://plot.ly"
       },
       "data": [
        {
         "customdata": [
          [
           0,
           "DSB Iba1 101_40X_CA1"
          ],
          [
           1,
           "DSB Iba1 101_40X_CA3"
          ],
          [
           2,
           "DSB Iba1 101_40X_CTX1"
          ],
          [
           3,
           "DSB Iba1 101_40X_CTX2"
          ],
          [
           4,
           "DSB Iba1 101_40X_CTX3"
          ],
          [
           5,
           "DSB Iba1 101_40X_DG"
          ],
          [
           6,
           "DSB Iba1 102_40X_CA1"
          ],
          [
           7,
           "DSB Iba1 102_40X_CA3"
          ],
          [
           8,
           "DSB Iba1 102_40X_CTX1"
          ],
          [
           9,
           "DSB Iba1 102_40X_CTX2"
          ],
          [
           10,
           "DSB Iba1 102_40X_CTX3"
          ],
          [
           11,
           "DSB Iba1 102_40X_DG"
          ],
          [
           12,
           "DSB Iba1 103_40X_CA1"
          ],
          [
           13,
           "DSB Iba1 103_40X_CA3"
          ],
          [
           14,
           "DSB Iba1 103_40X_CTX1"
          ],
          [
           15,
           "DSB Iba1 103_40X_CTX2"
          ],
          [
           16,
           "DSB Iba1 103_40X_CTX3"
          ],
          [
           17,
           "DSB Iba1 103_40X_DG"
          ],
          [
           18,
           "DSB Iba1 104_40X_CA1"
          ],
          [
           19,
           "DSB Iba1 104_40X_CA3"
          ],
          [
           20,
           "DSB Iba1 104_40X_CTX1"
          ],
          [
           21,
           "DSB Iba1 104_40X_CTX2"
          ],
          [
           22,
           "DSB Iba1 104_40X_CTX3"
          ],
          [
           23,
           "DSB Iba1 104_40X_DG"
          ],
          [
           24,
           "DSB Iba1 105_40X_CA1"
          ],
          [
           25,
           "DSB Iba1 105_40X_CA3"
          ],
          [
           26,
           "DSB Iba1 105_40X_CTX1"
          ],
          [
           27,
           "DSB Iba1 105_40X_CTX2"
          ],
          [
           28,
           "DSB Iba1 105_40X_CTX3"
          ],
          [
           29,
           "DSB Iba1 106_40X_CA1"
          ],
          [
           30,
           "DSB Iba1 106_40X_CA3"
          ],
          [
           31,
           "DSB Iba1 106_40X_CTX1"
          ],
          [
           32,
           "DSB Iba1 106_40X_CTX2"
          ],
          [
           33,
           "DSB Iba1 106_40X_CTX3"
          ],
          [
           34,
           "DSB Iba1 106_40X_DG"
          ],
          [
           35,
           "DSB Iba1 107_40X_CA1"
          ],
          [
           36,
           "DSB Iba1 107_40X_CA3"
          ],
          [
           37,
           "DSB Iba1 107_40X_CTX1"
          ],
          [
           38,
           "DSB Iba1 107_40X_CTX2"
          ],
          [
           39,
           "DSB Iba1 107_40X_CTX3"
          ],
          [
           40,
           "DSB Iba1 107_40X_DG"
          ],
          [
           41,
           "DSB Iba1 108_40X_CA1"
          ],
          [
           42,
           "DSB Iba1 108_40X_CA3"
          ],
          [
           43,
           "DSB Iba1 108_40X_CTX1"
          ],
          [
           44,
           "DSB Iba1 108_40X_CTX2"
          ],
          [
           45,
           "DSB Iba1 108_40X_CTX3"
          ],
          [
           46,
           "DSB Iba1 108_40X_DG"
          ],
          [
           47,
           "DSB Iba1 20_40X_CA1"
          ],
          [
           48,
           "DSB Iba1 20_40X_CA3"
          ],
          [
           49,
           "DSB Iba1 20_40X_CTX1"
          ],
          [
           50,
           "DSB Iba1 20_40X_CTX2"
          ],
          [
           51,
           "DSB Iba1 20_40X_CTX3"
          ],
          [
           52,
           "DSB Iba1 20_40X_DG"
          ],
          [
           53,
           "DSB Iba1 21_40X_CA1"
          ],
          [
           54,
           "DSB Iba1 21_40X_CA3"
          ],
          [
           55,
           "DSB Iba1 21_40X_CTX1"
          ],
          [
           56,
           "DSB Iba1 21_40X_CTX2"
          ],
          [
           57,
           "DSB Iba1 21_40X_CTX3"
          ],
          [
           58,
           "DSB Iba1 21_40X_DG"
          ],
          [
           59,
           "DSB Iba1 22_40X_CA1"
          ],
          [
           60,
           "DSB Iba1 22_40X_CA3"
          ],
          [
           61,
           "DSB Iba1 22_40X_CTX1"
          ],
          [
           62,
           "DSB Iba1 22_40X_CTX2"
          ],
          [
           63,
           "DSB Iba1 22_40X_CTX3"
          ],
          [
           64,
           "DSB Iba1 22_40X_DG"
          ],
          [
           65,
           "DSB Iba1 23_40X_CA1"
          ],
          [
           66,
           "DSB Iba1 23_40X_CA3"
          ],
          [
           67,
           "DSB Iba1 23_40X_CTX1"
          ],
          [
           68,
           "DSB Iba1 23_40X_CTX2"
          ],
          [
           69,
           "DSB Iba1 23_40X_CTX3"
          ],
          [
           70,
           "DSB Iba1 23_40X_DG"
          ],
          [
           71,
           "DSB Iba1 25_40X_CA1"
          ],
          [
           72,
           "DSB Iba1 25_40X_CA3"
          ],
          [
           73,
           "DSB Iba1 25_40X_CTX1"
          ],
          [
           74,
           "DSB Iba1 25_40X_CTX2"
          ],
          [
           75,
           "DSB Iba1 25_40X_CTX3"
          ],
          [
           76,
           "DSB Iba1 25_40X_DG"
          ],
          [
           77,
           "DSB Iba1 28_40X_CA1"
          ],
          [
           78,
           "DSB Iba1 28_40X_CA3"
          ],
          [
           79,
           "DSB Iba1 28_40X_CTX1"
          ],
          [
           80,
           "DSB Iba1 28_40X_CTX2"
          ],
          [
           81,
           "DSB Iba1 28_40X_CTX3"
          ],
          [
           82,
           "DSB Iba1 28_40X_DG"
          ],
          [
           83,
           "DSB Iba1 29_40X_CA1"
          ],
          [
           84,
           "DSB Iba1 29_40X_CA3"
          ],
          [
           85,
           "DSB Iba1 29_40X_CTX1"
          ],
          [
           86,
           "DSB Iba1 29_40X_CTX2"
          ],
          [
           87,
           "DSB Iba1 29_40X_CTX3"
          ],
          [
           88,
           "DSB Iba1 29_40X_DG"
          ],
          [
           89,
           "DSB Iba1 30_40X_CA1"
          ],
          [
           90,
           "DSB Iba1 30_40X_CA3"
          ],
          [
           91,
           "DSB Iba1 30_40X_CTX1"
          ],
          [
           92,
           "DSB Iba1 30_40X_CTX2"
          ],
          [
           93,
           "DSB Iba1 30_40X_CTX3"
          ],
          [
           94,
           "DSB Iba1 30_40X_DG"
          ],
          [
           95,
           "DSB Iba1 31_40X_CA1"
          ],
          [
           96,
           "DSB Iba1 31_40X_CA3"
          ],
          [
           97,
           "DSB Iba1 31_40X_CTX1"
          ],
          [
           98,
           "DSB Iba1 31_40X_CTX2"
          ],
          [
           99,
           "DSB Iba1 31_40X_CTX3"
          ],
          [
           100,
           "DSB Iba1 31_40X_DG"
          ],
          [
           101,
           "DSB Iba1 33_40X_CA1"
          ],
          [
           102,
           "DSB Iba1 33_40X_CA3"
          ],
          [
           103,
           "DSB Iba1 33_40X_CTX1"
          ],
          [
           104,
           "DSB Iba1 33_40X_CTX2"
          ],
          [
           105,
           "DSB Iba1 33_40X_CTX3"
          ],
          [
           106,
           "DSB Iba1 33_40X_DG"
          ],
          [
           107,
           "DSB Iba1 36_40X_CA1"
          ],
          [
           108,
           "DSB Iba1 36_40X_CA3"
          ],
          [
           109,
           "DSB Iba1 36_40X_CTX1"
          ],
          [
           110,
           "DSB Iba1 36_40X_CTX2"
          ],
          [
           111,
           "DSB Iba1 36_40X_CTX3"
          ],
          [
           112,
           "DSB Iba1 36_40X_DG"
          ],
          [
           113,
           "DSB Iba1 39_40X_CA1"
          ],
          [
           114,
           "DSB Iba1 39_40X_CA3"
          ],
          [
           115,
           "DSB Iba1 39_40X_CTX1"
          ],
          [
           116,
           "DSB Iba1 39_40X_CTX2"
          ],
          [
           117,
           "DSB Iba1 39_40X_CTX3"
          ],
          [
           118,
           "DSB Iba1 39_40X_DG"
          ],
          [
           119,
           "DSB Iba1 40_40X_CA1"
          ],
          [
           120,
           "DSB Iba1 40_40X_CA3"
          ],
          [
           121,
           "DSB Iba1 40_40X_CTX1"
          ],
          [
           122,
           "DSB Iba1 40_40X_CTX2"
          ],
          [
           123,
           "DSB Iba1 40_40X_CTX3"
          ],
          [
           124,
           "DSB Iba1 40_40X_DG"
          ],
          [
           125,
           "DSB Iba1 41_40X_CA1"
          ],
          [
           126,
           "DSB Iba1 41_40X_CA3"
          ],
          [
           127,
           "DSB Iba1 41_40X_CTX1"
          ],
          [
           128,
           "DSB Iba1 41_40X_CTX2"
          ],
          [
           129,
           "DSB Iba1 41_40X_CTX3"
          ],
          [
           130,
           "DSB Iba1 41_40X_DG"
          ],
          [
           131,
           "DSB Iba1 42_40X_CA1"
          ],
          [
           132,
           "DSB Iba1 42_40X_CA3"
          ],
          [
           133,
           "DSB Iba1 42_40X_CTX1"
          ],
          [
           134,
           "DSB Iba1 42_40X_CTX2"
          ],
          [
           135,
           "DSB Iba1 42_40X_CTX3"
          ],
          [
           136,
           "DSB Iba1 42_40X_DG"
          ],
          [
           137,
           "DSB Iba1 43_40X_CA1"
          ],
          [
           138,
           "DSB Iba1 43_40X_CA3"
          ],
          [
           139,
           "DSB Iba1 43_40X_CTX1"
          ],
          [
           140,
           "DSB Iba1 43_40X_CTX2"
          ],
          [
           141,
           "DSB Iba1 43_40X_CTX3"
          ],
          [
           142,
           "DSB Iba1 43_40X_DG"
          ],
          [
           143,
           "DSB Iba1 45_40X_CA1"
          ],
          [
           144,
           "DSB Iba1 45_40X_CA3"
          ],
          [
           145,
           "DSB Iba1 45_40X_CTX1"
          ],
          [
           146,
           "DSB Iba1 45_40X_CTX2"
          ],
          [
           147,
           "DSB Iba1 45_40X_CTX3"
          ],
          [
           148,
           "DSB Iba1 45_40X_DG"
          ],
          [
           149,
           "DSB Iba1 48_40X_CA1"
          ],
          [
           150,
           "DSB Iba1 48_40X_CA3"
          ],
          [
           151,
           "DSB Iba1 48_40X_CTX1"
          ],
          [
           152,
           "DSB Iba1 48_40X_CTX2"
          ],
          [
           153,
           "DSB Iba1 48_40X_CTX3"
          ],
          [
           154,
           "DSB Iba1 48_40X_DG"
          ],
          [
           155,
           "DSB Iba1 50_40X_CA1"
          ],
          [
           156,
           "DSB Iba1 50_40X_CA3"
          ],
          [
           157,
           "DSB Iba1 50_40X_CTX1"
          ],
          [
           158,
           "DSB Iba1 50_40X_CTX2"
          ],
          [
           159,
           "DSB Iba1 50_40X_CTX3"
          ],
          [
           160,
           "DSB Iba1 50_40X_DG"
          ],
          [
           161,
           "DSB Iba1 51_40X_CA1"
          ],
          [
           162,
           "DSB Iba1 51_40X_CA3"
          ],
          [
           163,
           "DSB Iba1 51_40X_CTX1"
          ],
          [
           164,
           "DSB Iba1 51_40X_CTX2"
          ],
          [
           165,
           "DSB Iba1 51_40X_CTX3"
          ],
          [
           166,
           "DSB Iba1 51_40X_DG"
          ],
          [
           167,
           "DSB Iba1 52_40X_CA1"
          ],
          [
           168,
           "DSB Iba1 52_40X_CA3"
          ],
          [
           169,
           "DSB Iba1 52_40X_CTX1"
          ],
          [
           170,
           "DSB Iba1 52_40X_CTX2"
          ],
          [
           171,
           "DSB Iba1 52_40X_CTX3"
          ],
          [
           172,
           "DSB Iba1 52_40X_DG"
          ],
          [
           173,
           "DSB Iba1 54_40X_CA1"
          ],
          [
           174,
           "DSB Iba1 54_40X_CA3"
          ],
          [
           175,
           "DSB Iba1 54_40X_CTX1"
          ],
          [
           176,
           "DSB Iba1 54_40X_CTX2"
          ],
          [
           177,
           "DSB Iba1 54_40X_CTX3"
          ],
          [
           178,
           "DSB Iba1 54_40X_DG"
          ],
          [
           179,
           "DSB Iba1 55_40X_CA1"
          ],
          [
           180,
           "DSB Iba1 55_40X_CA3"
          ],
          [
           181,
           "DSB Iba1 55_40X_CTX1"
          ],
          [
           182,
           "DSB Iba1 55_40X_CTX2"
          ],
          [
           183,
           "DSB Iba1 55_40X_CTX3"
          ],
          [
           184,
           "DSB Iba1 55_40X_DG"
          ],
          [
           185,
           "DSB Iba1 56_40X_CA1"
          ],
          [
           186,
           "DSB Iba1 56_40X_CA3"
          ],
          [
           187,
           "DSB Iba1 56_40X_CTX1"
          ],
          [
           188,
           "DSB Iba1 56_40X_CTX2"
          ],
          [
           189,
           "DSB Iba1 56_40X_CTX3"
          ],
          [
           190,
           "DSB Iba1 56_40X_DG"
          ],
          [
           191,
           "DSB Iba1 58_40X_CA1"
          ],
          [
           192,
           "DSB Iba1 58_40X_CA3"
          ],
          [
           193,
           "DSB Iba1 58_40X_CTX1"
          ],
          [
           194,
           "DSB Iba1 58_40X_CTX2"
          ],
          [
           195,
           "DSB Iba1 58_40X_CTX3"
          ],
          [
           196,
           "DSB Iba1 58_40X_DG"
          ],
          [
           197,
           "DSB Iba1 59_40X_CA1"
          ],
          [
           198,
           "DSB Iba1 59_40X_CA3"
          ],
          [
           199,
           "DSB Iba1 59_40X_CTX1"
          ],
          [
           200,
           "DSB Iba1 59_40X_CTX2"
          ],
          [
           201,
           "DSB Iba1 59_40X_CTX3"
          ],
          [
           202,
           "DSB Iba1 59_40X_DG"
          ]
         ],
         "hovertemplate": "staining_id=%{x}<br>%_dna_damage_signal=%{y}<br>index=%{customdata[0]}<br>filename=%{customdata[1]}<extra></extra>",
         "legendgroup": "",
         "marker": {
          "color": "#636efa",
          "symbol": "circle"
         },
         "mode": "markers",
         "name": "",
         "orientation": "v",
         "showlegend": false,
         "type": "scatter",
         "x": [
          101,
          101,
          101,
          101,
          101,
          101,
          102,
          102,
          102,
          102,
          102,
          102,
          103,
          103,
          103,
          103,
          103,
          103,
          104,
          104,
          104,
          104,
          104,
          104,
          105,
          105,
          105,
          105,
          105,
          106,
          106,
          106,
          106,
          106,
          106,
          107,
          107,
          107,
          107,
          107,
          107,
          108,
          108,
          108,
          108,
          108,
          108,
          20,
          20,
          20,
          20,
          20,
          20,
          21,
          21,
          21,
          21,
          21,
          21,
          22,
          22,
          22,
          22,
          22,
          22,
          23,
          23,
          23,
          23,
          23,
          23,
          25,
          25,
          25,
          25,
          25,
          25,
          28,
          28,
          28,
          28,
          28,
          28,
          29,
          29,
          29,
          29,
          29,
          29,
          30,
          30,
          30,
          30,
          30,
          30,
          31,
          31,
          31,
          31,
          31,
          31,
          33,
          33,
          33,
          33,
          33,
          33,
          36,
          36,
          36,
          36,
          36,
          36,
          39,
          39,
          39,
          39,
          39,
          39,
          40,
          40,
          40,
          40,
          40,
          40,
          41,
          41,
          41,
          41,
          41,
          41,
          42,
          42,
          42,
          42,
          42,
          42,
          43,
          43,
          43,
          43,
          43,
          43,
          45,
          45,
          45,
          45,
          45,
          45,
          48,
          48,
          48,
          48,
          48,
          48,
          50,
          50,
          50,
          50,
          50,
          50,
          51,
          51,
          51,
          51,
          51,
          51,
          52,
          52,
          52,
          52,
          52,
          52,
          54,
          54,
          54,
          54,
          54,
          54,
          55,
          55,
          55,
          55,
          55,
          55,
          56,
          56,
          56,
          56,
          56,
          56,
          58,
          58,
          58,
          58,
          58,
          58,
          59,
          59,
          59,
          59,
          59,
          59
         ],
         "xaxis": "x",
         "y": [
          0.7833480834960938,
          1.2866973876953125,
          2.621173858642578,
          1.90887451171875,
          1.6230583190917969,
          4.331111907958984,
          0.918865203857422,
          1.2639999389648438,
          1.2109756469726562,
          1.820850372314453,
          2.02932357788086,
          4.564476013183594,
          1.084613800048828,
          1.269817352294922,
          0.9360313415527344,
          2.3061752319335938,
          1.5970230102539062,
          4.351615905761719,
          1.6148567199707031,
          1.8998146057128904,
          1.8528938293457031,
          2.130413055419922,
          1.1771202087402344,
          3.223705291748047,
          0.9904861450195312,
          0.8818626403808594,
          0.6269454956054688,
          1.6535758972167969,
          1.664447784423828,
          0.8664131164550781,
          0.6819725036621094,
          1.1014938354492188,
          1.137542724609375,
          1.324176788330078,
          2.854442596435547,
          1.4398574829101562,
          1.4561653137207031,
          1.1278152465820312,
          2.0461082458496094,
          1.746368408203125,
          3.922653198242188,
          1.2656211853027344,
          1.3545036315917969,
          0.7935523986816406,
          1.9483566284179688,
          1.239776611328125,
          4.4620513916015625,
          0.7762908935546875,
          1.1053085327148438,
          0.4868507385253906,
          0.9496688842773438,
          0.5314826965332031,
          2.3174285888671875,
          0.7778167724609375,
          0.7436752319335938,
          0.9168624877929688,
          1.0347366333007812,
          1.0148048400878906,
          2.2064208984375,
          1.2415885925292969,
          1.2543678283691406,
          1.403045654296875,
          1.3582229614257812,
          0.2514839172363281,
          3.1919479370117188,
          0.5928993225097656,
          0.531768798828125,
          0.4361152648925781,
          0.0720024108886718,
          0.6974220275878906,
          1.8776893615722656,
          1.3138771057128906,
          2.0705223083496094,
          0.565338134765625,
          1.6091346740722656,
          1.6841888427734375,
          4.139518737792969,
          1.17950439453125,
          1.036834716796875,
          1.6277313232421875,
          0.6724357604980469,
          0.9607315063476562,
          4.607105255126953,
          0.8039474487304688,
          0.6873130798339844,
          0.9842872619628906,
          1.365375518798828,
          0.4662513732910156,
          2.083301544189453,
          0.4213333129882812,
          0.7200241088867188,
          0.4976272583007812,
          0.5642890930175781,
          0.2711296081542969,
          1.5737533569335938,
          0.908184051513672,
          1.42059326171875,
          0.45013427734375,
          0.5597114562988281,
          0.7208824157714844,
          2.163314819335937,
          0.8049964904785156,
          1.3813972473144531,
          1.5479087829589844,
          1.5409469604492188,
          0.8223533630371094,
          3.18288803100586,
          1.4990806579589844,
          1.174163818359375,
          2.8151512145996094,
          2.0681381225585938,
          1.329326629638672,
          4.043292999267578,
          0.7749557495117188,
          1.0321617126464844,
          0.4506111145019531,
          0.3875732421875,
          0.2254486083984375,
          1.4722824096679688,
          0.4599571228027344,
          0.5597114562988281,
          0.6749153137207031,
          0.5100250244140625,
          0.711822509765625,
          2.08282470703125,
          0.7174491882324219,
          0.4147529602050781,
          0.066375732421875,
          0.0730514526367187,
          0.0868797302246093,
          2.2176742553710938,
          0.5374908447265625,
          0.6807327270507812,
          0.4649162292480469,
          0.4080772399902344,
          0.6461143493652344,
          1.3035774230957031,
          0.3113746643066406,
          2.048969268798828,
          1.3188362121582031,
          0.3693580627441406,
          0.8925437927246094,
          3.8147926330566406,
          1.8074989318847656,
          1.5021324157714844,
          0.8280754089355469,
          0.4374504089355469,
          0.3774642944335937,
          4.353618621826172,
          0.7757186889648438,
          0.5895614624023438,
          0.8686065673828125,
          1.111125946044922,
          1.1597633361816406,
          2.8412818908691406,
          0.0975608825683593,
          0.5349159240722656,
          0.0278472900390625,
          0.2301216125488281,
          1.0915756225585938,
          0.46234130859375,
          0.4143714904785156,
          0.7281303405761719,
          0.2779006958007812,
          0.2605438232421875,
          0.4462242126464844,
          1.5252113342285156,
          0.2756118774414062,
          0.4342079162597656,
          0.1187324523925781,
          0.3239631652832031,
          0.4559516906738281,
          0.7616043090820312,
          0.5602836608886719,
          1.2754440307617188,
          0.823211669921875,
          0.7739067077636719,
          0.8355140686035156,
          1.9334793090820312,
          0.495147705078125,
          0.4197120666503906,
          0.0318527221679687,
          0.611114501953125,
          0.0937461853027343,
          1.6141891479492188,
          0.609588623046875,
          0.5918502807617188,
          0.4897117614746094,
          0.3222465515136719,
          0.2533912658691406,
          0.9902000427246094,
          0.6536483764648438,
          0.7616043090820312,
          0.4926681518554687,
          0.8916854858398438,
          0.553131103515625,
          1.1504173278808594,
          0.9168624877929688,
          0.3584861755371094,
          0.8263587951660156,
          0.3554344177246094,
          0.322723388671875,
          2.118110656738281
         ],
         "yaxis": "y"
        }
       ],
       "layout": {
        "legend": {
         "tracegroupgap": 0
        },
        "template": {
         "data": {
          "bar": [
           {
            "error_x": {
             "color": "#2a3f5f"
            },
            "error_y": {
             "color": "#2a3f5f"
            },
            "marker": {
             "line": {
              "color": "#E5ECF6",
              "width": 0.5
             },
             "pattern": {
              "fillmode": "overlay",
              "size": 10,
              "solidity": 0.2
             }
            },
            "type": "bar"
           }
          ],
          "barpolar": [
           {
            "marker": {
             "line": {
              "color": "#E5ECF6",
              "width": 0.5
             },
             "pattern": {
              "fillmode": "overlay",
              "size": 10,
              "solidity": 0.2
             }
            },
            "type": "barpolar"
           }
          ],
          "carpet": [
           {
            "aaxis": {
             "endlinecolor": "#2a3f5f",
             "gridcolor": "white",
             "linecolor": "white",
             "minorgridcolor": "white",
             "startlinecolor": "#2a3f5f"
            },
            "baxis": {
             "endlinecolor": "#2a3f5f",
             "gridcolor": "white",
             "linecolor": "white",
             "minorgridcolor": "white",
             "startlinecolor": "#2a3f5f"
            },
            "type": "carpet"
           }
          ],
          "choropleth": [
           {
            "colorbar": {
             "outlinewidth": 0,
             "ticks": ""
            },
            "type": "choropleth"
           }
          ],
          "contour": [
           {
            "colorbar": {
             "outlinewidth": 0,
             "ticks": ""
            },
            "colorscale": [
             [
              0,
              "#0d0887"
             ],
             [
              0.1111111111111111,
              "#46039f"
             ],
             [
              0.2222222222222222,
              "#7201a8"
             ],
             [
              0.3333333333333333,
              "#9c179e"
             ],
             [
              0.4444444444444444,
              "#bd3786"
             ],
             [
              0.5555555555555556,
              "#d8576b"
             ],
             [
              0.6666666666666666,
              "#ed7953"
             ],
             [
              0.7777777777777778,
              "#fb9f3a"
             ],
             [
              0.8888888888888888,
              "#fdca26"
             ],
             [
              1,
              "#f0f921"
             ]
            ],
            "type": "contour"
           }
          ],
          "contourcarpet": [
           {
            "colorbar": {
             "outlinewidth": 0,
             "ticks": ""
            },
            "type": "contourcarpet"
           }
          ],
          "heatmap": [
           {
            "colorbar": {
             "outlinewidth": 0,
             "ticks": ""
            },
            "colorscale": [
             [
              0,
              "#0d0887"
             ],
             [
              0.1111111111111111,
              "#46039f"
             ],
             [
              0.2222222222222222,
              "#7201a8"
             ],
             [
              0.3333333333333333,
              "#9c179e"
             ],
             [
              0.4444444444444444,
              "#bd3786"
             ],
             [
              0.5555555555555556,
              "#d8576b"
             ],
             [
              0.6666666666666666,
              "#ed7953"
             ],
             [
              0.7777777777777778,
              "#fb9f3a"
             ],
             [
              0.8888888888888888,
              "#fdca26"
             ],
             [
              1,
              "#f0f921"
             ]
            ],
            "type": "heatmap"
           }
          ],
          "heatmapgl": [
           {
            "colorbar": {
             "outlinewidth": 0,
             "ticks": ""
            },
            "colorscale": [
             [
              0,
              "#0d0887"
             ],
             [
              0.1111111111111111,
              "#46039f"
             ],
             [
              0.2222222222222222,
              "#7201a8"
             ],
             [
              0.3333333333333333,
              "#9c179e"
             ],
             [
              0.4444444444444444,
              "#bd3786"
             ],
             [
              0.5555555555555556,
              "#d8576b"
             ],
             [
              0.6666666666666666,
              "#ed7953"
             ],
             [
              0.7777777777777778,
              "#fb9f3a"
             ],
             [
              0.8888888888888888,
              "#fdca26"
             ],
             [
              1,
              "#f0f921"
             ]
            ],
            "type": "heatmapgl"
           }
          ],
          "histogram": [
           {
            "marker": {
             "pattern": {
              "fillmode": "overlay",
              "size": 10,
              "solidity": 0.2
             }
            },
            "type": "histogram"
           }
          ],
          "histogram2d": [
           {
            "colorbar": {
             "outlinewidth": 0,
             "ticks": ""
            },
            "colorscale": [
             [
              0,
              "#0d0887"
             ],
             [
              0.1111111111111111,
              "#46039f"
             ],
             [
              0.2222222222222222,
              "#7201a8"
             ],
             [
              0.3333333333333333,
              "#9c179e"
             ],
             [
              0.4444444444444444,
              "#bd3786"
             ],
             [
              0.5555555555555556,
              "#d8576b"
             ],
             [
              0.6666666666666666,
              "#ed7953"
             ],
             [
              0.7777777777777778,
              "#fb9f3a"
             ],
             [
              0.8888888888888888,
              "#fdca26"
             ],
             [
              1,
              "#f0f921"
             ]
            ],
            "type": "histogram2d"
           }
          ],
          "histogram2dcontour": [
           {
            "colorbar": {
             "outlinewidth": 0,
             "ticks": ""
            },
            "colorscale": [
             [
              0,
              "#0d0887"
             ],
             [
              0.1111111111111111,
              "#46039f"
             ],
             [
              0.2222222222222222,
              "#7201a8"
             ],
             [
              0.3333333333333333,
              "#9c179e"
             ],
             [
              0.4444444444444444,
              "#bd3786"
             ],
             [
              0.5555555555555556,
              "#d8576b"
             ],
             [
              0.6666666666666666,
              "#ed7953"
             ],
             [
              0.7777777777777778,
              "#fb9f3a"
             ],
             [
              0.8888888888888888,
              "#fdca26"
             ],
             [
              1,
              "#f0f921"
             ]
            ],
            "type": "histogram2dcontour"
           }
          ],
          "mesh3d": [
           {
            "colorbar": {
             "outlinewidth": 0,
             "ticks": ""
            },
            "type": "mesh3d"
           }
          ],
          "parcoords": [
           {
            "line": {
             "colorbar": {
              "outlinewidth": 0,
              "ticks": ""
             }
            },
            "type": "parcoords"
           }
          ],
          "pie": [
           {
            "automargin": true,
            "type": "pie"
           }
          ],
          "scatter": [
           {
            "fillpattern": {
             "fillmode": "overlay",
             "size": 10,
             "solidity": 0.2
            },
            "type": "scatter"
           }
          ],
          "scatter3d": [
           {
            "line": {
             "colorbar": {
              "outlinewidth": 0,
              "ticks": ""
             }
            },
            "marker": {
             "colorbar": {
              "outlinewidth": 0,
              "ticks": ""
             }
            },
            "type": "scatter3d"
           }
          ],
          "scattercarpet": [
           {
            "marker": {
             "colorbar": {
              "outlinewidth": 0,
              "ticks": ""
             }
            },
            "type": "scattercarpet"
           }
          ],
          "scattergeo": [
           {
            "marker": {
             "colorbar": {
              "outlinewidth": 0,
              "ticks": ""
             }
            },
            "type": "scattergeo"
           }
          ],
          "scattergl": [
           {
            "marker": {
             "colorbar": {
              "outlinewidth": 0,
              "ticks": ""
             }
            },
            "type": "scattergl"
           }
          ],
          "scattermapbox": [
           {
            "marker": {
             "colorbar": {
              "outlinewidth": 0,
              "ticks": ""
             }
            },
            "type": "scattermapbox"
           }
          ],
          "scatterpolar": [
           {
            "marker": {
             "colorbar": {
              "outlinewidth": 0,
              "ticks": ""
             }
            },
            "type": "scatterpolar"
           }
          ],
          "scatterpolargl": [
           {
            "marker": {
             "colorbar": {
              "outlinewidth": 0,
              "ticks": ""
             }
            },
            "type": "scatterpolargl"
           }
          ],
          "scatterternary": [
           {
            "marker": {
             "colorbar": {
              "outlinewidth": 0,
              "ticks": ""
             }
            },
            "type": "scatterternary"
           }
          ],
          "surface": [
           {
            "colorbar": {
             "outlinewidth": 0,
             "ticks": ""
            },
            "colorscale": [
             [
              0,
              "#0d0887"
             ],
             [
              0.1111111111111111,
              "#46039f"
             ],
             [
              0.2222222222222222,
              "#7201a8"
             ],
             [
              0.3333333333333333,
              "#9c179e"
             ],
             [
              0.4444444444444444,
              "#bd3786"
             ],
             [
              0.5555555555555556,
              "#d8576b"
             ],
             [
              0.6666666666666666,
              "#ed7953"
             ],
             [
              0.7777777777777778,
              "#fb9f3a"
             ],
             [
              0.8888888888888888,
              "#fdca26"
             ],
             [
              1,
              "#f0f921"
             ]
            ],
            "type": "surface"
           }
          ],
          "table": [
           {
            "cells": {
             "fill": {
              "color": "#EBF0F8"
             },
             "line": {
              "color": "white"
             }
            },
            "header": {
             "fill": {
              "color": "#C8D4E3"
             },
             "line": {
              "color": "white"
             }
            },
            "type": "table"
           }
          ]
         },
         "layout": {
          "annotationdefaults": {
           "arrowcolor": "#2a3f5f",
           "arrowhead": 0,
           "arrowwidth": 1
          },
          "autotypenumbers": "strict",
          "coloraxis": {
           "colorbar": {
            "outlinewidth": 0,
            "ticks": ""
           }
          },
          "colorscale": {
           "diverging": [
            [
             0,
             "#8e0152"
            ],
            [
             0.1,
             "#c51b7d"
            ],
            [
             0.2,
             "#de77ae"
            ],
            [
             0.3,
             "#f1b6da"
            ],
            [
             0.4,
             "#fde0ef"
            ],
            [
             0.5,
             "#f7f7f7"
            ],
            [
             0.6,
             "#e6f5d0"
            ],
            [
             0.7,
             "#b8e186"
            ],
            [
             0.8,
             "#7fbc41"
            ],
            [
             0.9,
             "#4d9221"
            ],
            [
             1,
             "#276419"
            ]
           ],
           "sequential": [
            [
             0,
             "#0d0887"
            ],
            [
             0.1111111111111111,
             "#46039f"
            ],
            [
             0.2222222222222222,
             "#7201a8"
            ],
            [
             0.3333333333333333,
             "#9c179e"
            ],
            [
             0.4444444444444444,
             "#bd3786"
            ],
            [
             0.5555555555555556,
             "#d8576b"
            ],
            [
             0.6666666666666666,
             "#ed7953"
            ],
            [
             0.7777777777777778,
             "#fb9f3a"
            ],
            [
             0.8888888888888888,
             "#fdca26"
            ],
            [
             1,
             "#f0f921"
            ]
           ],
           "sequentialminus": [
            [
             0,
             "#0d0887"
            ],
            [
             0.1111111111111111,
             "#46039f"
            ],
            [
             0.2222222222222222,
             "#7201a8"
            ],
            [
             0.3333333333333333,
             "#9c179e"
            ],
            [
             0.4444444444444444,
             "#bd3786"
            ],
            [
             0.5555555555555556,
             "#d8576b"
            ],
            [
             0.6666666666666666,
             "#ed7953"
            ],
            [
             0.7777777777777778,
             "#fb9f3a"
            ],
            [
             0.8888888888888888,
             "#fdca26"
            ],
            [
             1,
             "#f0f921"
            ]
           ]
          },
          "colorway": [
           "#636efa",
           "#EF553B",
           "#00cc96",
           "#ab63fa",
           "#FFA15A",
           "#19d3f3",
           "#FF6692",
           "#B6E880",
           "#FF97FF",
           "#FECB52"
          ],
          "font": {
           "color": "#2a3f5f"
          },
          "geo": {
           "bgcolor": "white",
           "lakecolor": "white",
           "landcolor": "#E5ECF6",
           "showlakes": true,
           "showland": true,
           "subunitcolor": "white"
          },
          "hoverlabel": {
           "align": "left"
          },
          "hovermode": "closest",
          "mapbox": {
           "style": "light"
          },
          "paper_bgcolor": "white",
          "plot_bgcolor": "#E5ECF6",
          "polar": {
           "angularaxis": {
            "gridcolor": "white",
            "linecolor": "white",
            "ticks": ""
           },
           "bgcolor": "#E5ECF6",
           "radialaxis": {
            "gridcolor": "white",
            "linecolor": "white",
            "ticks": ""
           }
          },
          "scene": {
           "xaxis": {
            "backgroundcolor": "#E5ECF6",
            "gridcolor": "white",
            "gridwidth": 2,
            "linecolor": "white",
            "showbackground": true,
            "ticks": "",
            "zerolinecolor": "white"
           },
           "yaxis": {
            "backgroundcolor": "#E5ECF6",
            "gridcolor": "white",
            "gridwidth": 2,
            "linecolor": "white",
            "showbackground": true,
            "ticks": "",
            "zerolinecolor": "white"
           },
           "zaxis": {
            "backgroundcolor": "#E5ECF6",
            "gridcolor": "white",
            "gridwidth": 2,
            "linecolor": "white",
            "showbackground": true,
            "ticks": "",
            "zerolinecolor": "white"
           }
          },
          "shapedefaults": {
           "line": {
            "color": "#2a3f5f"
           }
          },
          "ternary": {
           "aaxis": {
            "gridcolor": "white",
            "linecolor": "white",
            "ticks": ""
           },
           "baxis": {
            "gridcolor": "white",
            "linecolor": "white",
            "ticks": ""
           },
           "bgcolor": "#E5ECF6",
           "caxis": {
            "gridcolor": "white",
            "linecolor": "white",
            "ticks": ""
           }
          },
          "title": {
           "x": 0.05
          },
          "xaxis": {
           "automargin": true,
           "gridcolor": "white",
           "linecolor": "white",
           "ticks": "",
           "title": {
            "standoff": 15
           },
           "zerolinecolor": "white",
           "zerolinewidth": 2
          },
          "yaxis": {
           "automargin": true,
           "gridcolor": "white",
           "linecolor": "white",
           "ticks": "",
           "title": {
            "standoff": 15
           },
           "zerolinecolor": "white",
           "zerolinewidth": 2
          }
         }
        },
        "title": {
         "text": "Dna damage mask area (QC) - cellpdia30_sigma1_dilrad4_dnad_obj_seg_v1_gliaero6_gliathr20_dnadero2"
        },
        "xaxis": {
         "anchor": "y",
         "domain": [
          0,
          1
         ],
         "title": {
          "text": "staining_id"
         }
        },
        "yaxis": {
         "anchor": "x",
         "domain": [
          0,
          1
         ],
         "title": {
          "text": "%_dna_damage_signal"
         }
        }
       }
      }
     },
     "metadata": {},
     "output_type": "display_data"
    },
    {
     "data": {
      "application/vnd.plotly.v1+json": {
       "config": {
        "plotlyServerURL": "https://plot.ly"
       },
       "data": [
        {
         "customdata": [
          [
           0,
           "DSB Iba1 101_40X_CA1"
          ],
          [
           1,
           "DSB Iba1 101_40X_CA3"
          ],
          [
           2,
           "DSB Iba1 101_40X_CTX1"
          ],
          [
           3,
           "DSB Iba1 101_40X_CTX2"
          ],
          [
           4,
           "DSB Iba1 101_40X_CTX3"
          ],
          [
           5,
           "DSB Iba1 101_40X_DG"
          ],
          [
           6,
           "DSB Iba1 102_40X_CA1"
          ],
          [
           7,
           "DSB Iba1 102_40X_CA3"
          ],
          [
           8,
           "DSB Iba1 102_40X_CTX1"
          ],
          [
           9,
           "DSB Iba1 102_40X_CTX2"
          ],
          [
           10,
           "DSB Iba1 102_40X_CTX3"
          ],
          [
           11,
           "DSB Iba1 102_40X_DG"
          ],
          [
           12,
           "DSB Iba1 103_40X_CA1"
          ],
          [
           13,
           "DSB Iba1 103_40X_CA3"
          ],
          [
           14,
           "DSB Iba1 103_40X_CTX1"
          ],
          [
           15,
           "DSB Iba1 103_40X_CTX2"
          ],
          [
           16,
           "DSB Iba1 103_40X_CTX3"
          ],
          [
           17,
           "DSB Iba1 103_40X_DG"
          ],
          [
           18,
           "DSB Iba1 104_40X_CA1"
          ],
          [
           19,
           "DSB Iba1 104_40X_CA3"
          ],
          [
           20,
           "DSB Iba1 104_40X_CTX1"
          ],
          [
           21,
           "DSB Iba1 104_40X_CTX2"
          ],
          [
           22,
           "DSB Iba1 104_40X_CTX3"
          ],
          [
           23,
           "DSB Iba1 104_40X_DG"
          ],
          [
           24,
           "DSB Iba1 105_40X_CA1"
          ],
          [
           25,
           "DSB Iba1 105_40X_CA3"
          ],
          [
           26,
           "DSB Iba1 105_40X_CTX1"
          ],
          [
           27,
           "DSB Iba1 105_40X_CTX2"
          ],
          [
           28,
           "DSB Iba1 105_40X_CTX3"
          ],
          [
           29,
           "DSB Iba1 106_40X_CA1"
          ],
          [
           30,
           "DSB Iba1 106_40X_CA3"
          ],
          [
           31,
           "DSB Iba1 106_40X_CTX1"
          ],
          [
           32,
           "DSB Iba1 106_40X_CTX2"
          ],
          [
           33,
           "DSB Iba1 106_40X_CTX3"
          ],
          [
           34,
           "DSB Iba1 106_40X_DG"
          ],
          [
           35,
           "DSB Iba1 107_40X_CA1"
          ],
          [
           36,
           "DSB Iba1 107_40X_CA3"
          ],
          [
           37,
           "DSB Iba1 107_40X_CTX1"
          ],
          [
           38,
           "DSB Iba1 107_40X_CTX2"
          ],
          [
           39,
           "DSB Iba1 107_40X_CTX3"
          ],
          [
           40,
           "DSB Iba1 107_40X_DG"
          ],
          [
           41,
           "DSB Iba1 108_40X_CA1"
          ],
          [
           42,
           "DSB Iba1 108_40X_CA3"
          ],
          [
           43,
           "DSB Iba1 108_40X_CTX1"
          ],
          [
           44,
           "DSB Iba1 108_40X_CTX2"
          ],
          [
           45,
           "DSB Iba1 108_40X_CTX3"
          ],
          [
           46,
           "DSB Iba1 108_40X_DG"
          ],
          [
           47,
           "DSB Iba1 20_40X_CA1"
          ],
          [
           48,
           "DSB Iba1 20_40X_CA3"
          ],
          [
           49,
           "DSB Iba1 20_40X_CTX1"
          ],
          [
           50,
           "DSB Iba1 20_40X_CTX2"
          ],
          [
           51,
           "DSB Iba1 20_40X_CTX3"
          ],
          [
           52,
           "DSB Iba1 20_40X_DG"
          ],
          [
           53,
           "DSB Iba1 21_40X_CA1"
          ],
          [
           54,
           "DSB Iba1 21_40X_CA3"
          ],
          [
           55,
           "DSB Iba1 21_40X_CTX1"
          ],
          [
           56,
           "DSB Iba1 21_40X_CTX2"
          ],
          [
           57,
           "DSB Iba1 21_40X_CTX3"
          ],
          [
           58,
           "DSB Iba1 21_40X_DG"
          ],
          [
           59,
           "DSB Iba1 22_40X_CA1"
          ],
          [
           60,
           "DSB Iba1 22_40X_CA3"
          ],
          [
           61,
           "DSB Iba1 22_40X_CTX1"
          ],
          [
           62,
           "DSB Iba1 22_40X_CTX2"
          ],
          [
           63,
           "DSB Iba1 22_40X_CTX3"
          ],
          [
           64,
           "DSB Iba1 22_40X_DG"
          ],
          [
           65,
           "DSB Iba1 23_40X_CA1"
          ],
          [
           66,
           "DSB Iba1 23_40X_CA3"
          ],
          [
           67,
           "DSB Iba1 23_40X_CTX1"
          ],
          [
           68,
           "DSB Iba1 23_40X_CTX2"
          ],
          [
           69,
           "DSB Iba1 23_40X_CTX3"
          ],
          [
           70,
           "DSB Iba1 23_40X_DG"
          ],
          [
           71,
           "DSB Iba1 25_40X_CA1"
          ],
          [
           72,
           "DSB Iba1 25_40X_CA3"
          ],
          [
           73,
           "DSB Iba1 25_40X_CTX1"
          ],
          [
           74,
           "DSB Iba1 25_40X_CTX2"
          ],
          [
           75,
           "DSB Iba1 25_40X_CTX3"
          ],
          [
           76,
           "DSB Iba1 25_40X_DG"
          ],
          [
           77,
           "DSB Iba1 28_40X_CA1"
          ],
          [
           78,
           "DSB Iba1 28_40X_CA3"
          ],
          [
           79,
           "DSB Iba1 28_40X_CTX1"
          ],
          [
           80,
           "DSB Iba1 28_40X_CTX2"
          ],
          [
           81,
           "DSB Iba1 28_40X_CTX3"
          ],
          [
           82,
           "DSB Iba1 28_40X_DG"
          ],
          [
           83,
           "DSB Iba1 29_40X_CA1"
          ],
          [
           84,
           "DSB Iba1 29_40X_CA3"
          ],
          [
           85,
           "DSB Iba1 29_40X_CTX1"
          ],
          [
           86,
           "DSB Iba1 29_40X_CTX2"
          ],
          [
           87,
           "DSB Iba1 29_40X_CTX3"
          ],
          [
           88,
           "DSB Iba1 29_40X_DG"
          ],
          [
           89,
           "DSB Iba1 30_40X_CA1"
          ],
          [
           90,
           "DSB Iba1 30_40X_CA3"
          ],
          [
           91,
           "DSB Iba1 30_40X_CTX1"
          ],
          [
           92,
           "DSB Iba1 30_40X_CTX2"
          ],
          [
           93,
           "DSB Iba1 30_40X_CTX3"
          ],
          [
           94,
           "DSB Iba1 30_40X_DG"
          ],
          [
           95,
           "DSB Iba1 31_40X_CA1"
          ],
          [
           96,
           "DSB Iba1 31_40X_CA3"
          ],
          [
           97,
           "DSB Iba1 31_40X_CTX1"
          ],
          [
           98,
           "DSB Iba1 31_40X_CTX2"
          ],
          [
           99,
           "DSB Iba1 31_40X_CTX3"
          ],
          [
           100,
           "DSB Iba1 31_40X_DG"
          ],
          [
           101,
           "DSB Iba1 33_40X_CA1"
          ],
          [
           102,
           "DSB Iba1 33_40X_CA3"
          ],
          [
           103,
           "DSB Iba1 33_40X_CTX1"
          ],
          [
           104,
           "DSB Iba1 33_40X_CTX2"
          ],
          [
           105,
           "DSB Iba1 33_40X_CTX3"
          ],
          [
           106,
           "DSB Iba1 33_40X_DG"
          ],
          [
           107,
           "DSB Iba1 36_40X_CA1"
          ],
          [
           108,
           "DSB Iba1 36_40X_CA3"
          ],
          [
           109,
           "DSB Iba1 36_40X_CTX1"
          ],
          [
           110,
           "DSB Iba1 36_40X_CTX2"
          ],
          [
           111,
           "DSB Iba1 36_40X_CTX3"
          ],
          [
           112,
           "DSB Iba1 36_40X_DG"
          ],
          [
           113,
           "DSB Iba1 39_40X_CA1"
          ],
          [
           114,
           "DSB Iba1 39_40X_CA3"
          ],
          [
           115,
           "DSB Iba1 39_40X_CTX1"
          ],
          [
           116,
           "DSB Iba1 39_40X_CTX2"
          ],
          [
           117,
           "DSB Iba1 39_40X_CTX3"
          ],
          [
           118,
           "DSB Iba1 39_40X_DG"
          ],
          [
           119,
           "DSB Iba1 40_40X_CA1"
          ],
          [
           120,
           "DSB Iba1 40_40X_CA3"
          ],
          [
           121,
           "DSB Iba1 40_40X_CTX1"
          ],
          [
           122,
           "DSB Iba1 40_40X_CTX2"
          ],
          [
           123,
           "DSB Iba1 40_40X_CTX3"
          ],
          [
           124,
           "DSB Iba1 40_40X_DG"
          ],
          [
           125,
           "DSB Iba1 41_40X_CA1"
          ],
          [
           126,
           "DSB Iba1 41_40X_CA3"
          ],
          [
           127,
           "DSB Iba1 41_40X_CTX1"
          ],
          [
           128,
           "DSB Iba1 41_40X_CTX2"
          ],
          [
           129,
           "DSB Iba1 41_40X_CTX3"
          ],
          [
           130,
           "DSB Iba1 41_40X_DG"
          ],
          [
           131,
           "DSB Iba1 42_40X_CA1"
          ],
          [
           132,
           "DSB Iba1 42_40X_CA3"
          ],
          [
           133,
           "DSB Iba1 42_40X_CTX1"
          ],
          [
           134,
           "DSB Iba1 42_40X_CTX2"
          ],
          [
           135,
           "DSB Iba1 42_40X_CTX3"
          ],
          [
           136,
           "DSB Iba1 42_40X_DG"
          ],
          [
           137,
           "DSB Iba1 43_40X_CA1"
          ],
          [
           138,
           "DSB Iba1 43_40X_CA3"
          ],
          [
           139,
           "DSB Iba1 43_40X_CTX1"
          ],
          [
           140,
           "DSB Iba1 43_40X_CTX2"
          ],
          [
           141,
           "DSB Iba1 43_40X_CTX3"
          ],
          [
           142,
           "DSB Iba1 43_40X_DG"
          ],
          [
           143,
           "DSB Iba1 45_40X_CA1"
          ],
          [
           144,
           "DSB Iba1 45_40X_CA3"
          ],
          [
           145,
           "DSB Iba1 45_40X_CTX1"
          ],
          [
           146,
           "DSB Iba1 45_40X_CTX2"
          ],
          [
           147,
           "DSB Iba1 45_40X_CTX3"
          ],
          [
           148,
           "DSB Iba1 45_40X_DG"
          ],
          [
           149,
           "DSB Iba1 48_40X_CA1"
          ],
          [
           150,
           "DSB Iba1 48_40X_CA3"
          ],
          [
           151,
           "DSB Iba1 48_40X_CTX1"
          ],
          [
           152,
           "DSB Iba1 48_40X_CTX2"
          ],
          [
           153,
           "DSB Iba1 48_40X_CTX3"
          ],
          [
           154,
           "DSB Iba1 48_40X_DG"
          ],
          [
           155,
           "DSB Iba1 50_40X_CA1"
          ],
          [
           156,
           "DSB Iba1 50_40X_CA3"
          ],
          [
           157,
           "DSB Iba1 50_40X_CTX1"
          ],
          [
           158,
           "DSB Iba1 50_40X_CTX2"
          ],
          [
           159,
           "DSB Iba1 50_40X_CTX3"
          ],
          [
           160,
           "DSB Iba1 50_40X_DG"
          ],
          [
           161,
           "DSB Iba1 51_40X_CA1"
          ],
          [
           162,
           "DSB Iba1 51_40X_CA3"
          ],
          [
           163,
           "DSB Iba1 51_40X_CTX1"
          ],
          [
           164,
           "DSB Iba1 51_40X_CTX2"
          ],
          [
           165,
           "DSB Iba1 51_40X_CTX3"
          ],
          [
           166,
           "DSB Iba1 51_40X_DG"
          ],
          [
           167,
           "DSB Iba1 52_40X_CA1"
          ],
          [
           168,
           "DSB Iba1 52_40X_CA3"
          ],
          [
           169,
           "DSB Iba1 52_40X_CTX1"
          ],
          [
           170,
           "DSB Iba1 52_40X_CTX2"
          ],
          [
           171,
           "DSB Iba1 52_40X_CTX3"
          ],
          [
           172,
           "DSB Iba1 52_40X_DG"
          ],
          [
           173,
           "DSB Iba1 54_40X_CA1"
          ],
          [
           174,
           "DSB Iba1 54_40X_CA3"
          ],
          [
           175,
           "DSB Iba1 54_40X_CTX1"
          ],
          [
           176,
           "DSB Iba1 54_40X_CTX2"
          ],
          [
           177,
           "DSB Iba1 54_40X_CTX3"
          ],
          [
           178,
           "DSB Iba1 54_40X_DG"
          ],
          [
           179,
           "DSB Iba1 55_40X_CA1"
          ],
          [
           180,
           "DSB Iba1 55_40X_CA3"
          ],
          [
           181,
           "DSB Iba1 55_40X_CTX1"
          ],
          [
           182,
           "DSB Iba1 55_40X_CTX2"
          ],
          [
           183,
           "DSB Iba1 55_40X_CTX3"
          ],
          [
           184,
           "DSB Iba1 55_40X_DG"
          ],
          [
           185,
           "DSB Iba1 56_40X_CA1"
          ],
          [
           186,
           "DSB Iba1 56_40X_CA3"
          ],
          [
           187,
           "DSB Iba1 56_40X_CTX1"
          ],
          [
           188,
           "DSB Iba1 56_40X_CTX2"
          ],
          [
           189,
           "DSB Iba1 56_40X_CTX3"
          ],
          [
           190,
           "DSB Iba1 56_40X_DG"
          ],
          [
           191,
           "DSB Iba1 58_40X_CA1"
          ],
          [
           192,
           "DSB Iba1 58_40X_CA3"
          ],
          [
           193,
           "DSB Iba1 58_40X_CTX1"
          ],
          [
           194,
           "DSB Iba1 58_40X_CTX2"
          ],
          [
           195,
           "DSB Iba1 58_40X_CTX3"
          ],
          [
           196,
           "DSB Iba1 58_40X_DG"
          ],
          [
           197,
           "DSB Iba1 59_40X_CA1"
          ],
          [
           198,
           "DSB Iba1 59_40X_CA3"
          ],
          [
           199,
           "DSB Iba1 59_40X_CTX1"
          ],
          [
           200,
           "DSB Iba1 59_40X_CTX2"
          ],
          [
           201,
           "DSB Iba1 59_40X_CTX3"
          ],
          [
           202,
           "DSB Iba1 59_40X_DG"
          ]
         ],
         "hovertemplate": "staining_id=%{x}<br>%_glia+_signal=%{y}<br>index=%{customdata[0]}<br>filename=%{customdata[1]}<extra></extra>",
         "legendgroup": "",
         "marker": {
          "color": "#636efa",
          "symbol": "circle"
         },
         "mode": "markers",
         "name": "",
         "orientation": "v",
         "showlegend": false,
         "type": "scatter",
         "x": [
          101,
          101,
          101,
          101,
          101,
          101,
          102,
          102,
          102,
          102,
          102,
          102,
          103,
          103,
          103,
          103,
          103,
          103,
          104,
          104,
          104,
          104,
          104,
          104,
          105,
          105,
          105,
          105,
          105,
          106,
          106,
          106,
          106,
          106,
          106,
          107,
          107,
          107,
          107,
          107,
          107,
          108,
          108,
          108,
          108,
          108,
          108,
          20,
          20,
          20,
          20,
          20,
          20,
          21,
          21,
          21,
          21,
          21,
          21,
          22,
          22,
          22,
          22,
          22,
          22,
          23,
          23,
          23,
          23,
          23,
          23,
          25,
          25,
          25,
          25,
          25,
          25,
          28,
          28,
          28,
          28,
          28,
          28,
          29,
          29,
          29,
          29,
          29,
          29,
          30,
          30,
          30,
          30,
          30,
          30,
          31,
          31,
          31,
          31,
          31,
          31,
          33,
          33,
          33,
          33,
          33,
          33,
          36,
          36,
          36,
          36,
          36,
          36,
          39,
          39,
          39,
          39,
          39,
          39,
          40,
          40,
          40,
          40,
          40,
          40,
          41,
          41,
          41,
          41,
          41,
          41,
          42,
          42,
          42,
          42,
          42,
          42,
          43,
          43,
          43,
          43,
          43,
          43,
          45,
          45,
          45,
          45,
          45,
          45,
          48,
          48,
          48,
          48,
          48,
          48,
          50,
          50,
          50,
          50,
          50,
          50,
          51,
          51,
          51,
          51,
          51,
          51,
          52,
          52,
          52,
          52,
          52,
          52,
          54,
          54,
          54,
          54,
          54,
          54,
          55,
          55,
          55,
          55,
          55,
          55,
          56,
          56,
          56,
          56,
          56,
          56,
          58,
          58,
          58,
          58,
          58,
          58,
          59,
          59,
          59,
          59,
          59,
          59
         ],
         "xaxis": "x",
         "y": [
          1.6779899597167969,
          2.135658264160156,
          5.073738098144531,
          5.266761779785156,
          3.1785964965820312,
          5.922412872314453,
          2.603435516357422,
          2.784252166748047,
          4.2667388916015625,
          2.9754638671875,
          3.9920806884765625,
          4.560565948486328,
          1.0839462280273438,
          3.08694839477539,
          1.7186164855957031,
          2.9226303100585938,
          3.26528549194336,
          4.039478302001953,
          2.782154083251953,
          3.15399169921875,
          3.295516967773437,
          2.22320556640625,
          1.9237518310546875,
          2.1027565002441406,
          1.6747474670410156,
          2.7174949645996094,
          2.496623992919922,
          3.5526275634765625,
          2.996444702148437,
          1.0844230651855469,
          0.821685791015625,
          1.4286994934082031,
          0.7717132568359375,
          0.7843017578125,
          1.5664100646972656,
          2.02789306640625,
          2.191638946533203,
          2.447032928466797,
          2.1589279174804688,
          1.247882843017578,
          2.3932456970214844,
          0.8889198303222656,
          1.900959014892578,
          1.8342018127441408,
          2.82144546508789,
          2.002143859863281,
          2.399921417236328,
          1.447296142578125,
          1.717853546142578,
          0.8257865905761719,
          2.0682334899902344,
          0.5598068237304688,
          2.923774719238281,
          2.5424957275390625,
          1.3544082641601562,
          3.311634063720703,
          3.338623046875,
          4.697036743164063,
          3.5135269165039062,
          6.178569793701172,
          3.7606239318847656,
          3.637123107910156,
          4.0191650390625,
          0.730133056640625,
          5.748558044433594,
          4.248046875,
          2.08120346069336,
          5.792427062988281,
          0.7174491882324219,
          2.988147735595703,
          7.934856414794922,
          3.17068099975586,
          2.813243865966797,
          3.438568115234375,
          6.374835968017578,
          2.7411460876464844,
          3.351020812988281,
          2.5665283203125,
          2.448272705078125,
          3.2138824462890625,
          2.5005340576171875,
          2.412891387939453,
          7.0148468017578125,
          2.208709716796875,
          1.9129753112792969,
          5.022335052490234,
          7.678985595703125,
          3.7689208984375,
          2.2146224975585938,
          1.6625404357910156,
          1.3019561767578125,
          2.780723571777344,
          2.3637771606445312,
          1.4829635620117188,
          2.1762847900390625,
          3.847122192382813,
          1.217937469482422,
          3.5140037536621094,
          2.959632873535156,
          3.2898902893066406,
          3.90176773071289,
          2.395153045654297,
          1.8873214721679688,
          1.194000244140625,
          2.6653289794921875,
          2.5826454162597656,
          3.2654762268066406,
          2.2858619689941406,
          1.1386871337890625,
          3.605270385742188,
          4.596138000488281,
          2.627086639404297,
          1.8873214721679688,
          1.2140274047851562,
          1.1082649230957031,
          0.3711700439453125,
          0.3496170043945312,
          0.2208709716796875,
          1.7183303833007812,
          1.3429641723632812,
          1.7145156860351562,
          3.7994384765625,
          3.754806518554688,
          4.794597625732422,
          0.7130622863769531,
          0.4645347595214844,
          0.6657600402832031,
          0.0162124633789062,
          0.2507209777832031,
          0.83465576171875,
          0.9260177612304688,
          0.5733489990234375,
          0.9168624877929688,
          0.74462890625,
          1.824378967285156,
          0.9996414184570312,
          0.988483428955078,
          3.304767608642578,
          5.7796478271484375,
          12.746238708496094,
          7.944774627685547,
          7.372093200683594,
          16.925048828125,
          6.223964691162109,
          5.231571197509766,
          4.201602935791016,
          4.376411437988281,
          3.458404541015625,
          7.775020599365234,
          3.3704757690429688,
          2.537250518798828,
          4.6924591064453125,
          3.786659240722656,
          3.594589233398437,
          5.111885070800781,
          4.873561859130859,
          3.848457336425781,
          6.229019165039063,
          5.149269104003906,
          5.641460418701172,
          5.594158172607422,
          6.222438812255859,
          6.045722961425781,
          4.617595672607422,
          7.056903839111328,
          9.714698791503906,
          6.879520416259766,
          5.399608612060547,
          4.315376281738281,
          7.786273956298828,
          10.270881652832031,
          10.033130645751951,
          7.422256469726562,
          2.426910400390625,
          1.7024993896484375,
          4.989528656005859,
          3.8888931274414062,
          5.550861358642578,
          3.528308868408203,
          1.777362823486328,
          1.872539520263672,
          1.2282371520996094,
          3.083038330078125,
          0.5826950073242188,
          2.5461196899414062,
          4.4521331787109375,
          4.624557495117188,
          5.258560180664063,
          5.3241729736328125,
          4.150867462158203,
          5.023097991943359,
          2.06155776977539,
          1.918315887451172,
          4.450321197509766,
          2.5277137756347656,
          0.5662918090820312,
          1.5165328979492188,
          3.539466857910156,
          2.4675369262695312,
          3.9608001708984375,
          6.726360321044922,
          5.142498016357422,
          3.248310089111328
         ],
         "yaxis": "y"
        }
       ],
       "layout": {
        "legend": {
         "tracegroupgap": 0
        },
        "template": {
         "data": {
          "bar": [
           {
            "error_x": {
             "color": "#2a3f5f"
            },
            "error_y": {
             "color": "#2a3f5f"
            },
            "marker": {
             "line": {
              "color": "#E5ECF6",
              "width": 0.5
             },
             "pattern": {
              "fillmode": "overlay",
              "size": 10,
              "solidity": 0.2
             }
            },
            "type": "bar"
           }
          ],
          "barpolar": [
           {
            "marker": {
             "line": {
              "color": "#E5ECF6",
              "width": 0.5
             },
             "pattern": {
              "fillmode": "overlay",
              "size": 10,
              "solidity": 0.2
             }
            },
            "type": "barpolar"
           }
          ],
          "carpet": [
           {
            "aaxis": {
             "endlinecolor": "#2a3f5f",
             "gridcolor": "white",
             "linecolor": "white",
             "minorgridcolor": "white",
             "startlinecolor": "#2a3f5f"
            },
            "baxis": {
             "endlinecolor": "#2a3f5f",
             "gridcolor": "white",
             "linecolor": "white",
             "minorgridcolor": "white",
             "startlinecolor": "#2a3f5f"
            },
            "type": "carpet"
           }
          ],
          "choropleth": [
           {
            "colorbar": {
             "outlinewidth": 0,
             "ticks": ""
            },
            "type": "choropleth"
           }
          ],
          "contour": [
           {
            "colorbar": {
             "outlinewidth": 0,
             "ticks": ""
            },
            "colorscale": [
             [
              0,
              "#0d0887"
             ],
             [
              0.1111111111111111,
              "#46039f"
             ],
             [
              0.2222222222222222,
              "#7201a8"
             ],
             [
              0.3333333333333333,
              "#9c179e"
             ],
             [
              0.4444444444444444,
              "#bd3786"
             ],
             [
              0.5555555555555556,
              "#d8576b"
             ],
             [
              0.6666666666666666,
              "#ed7953"
             ],
             [
              0.7777777777777778,
              "#fb9f3a"
             ],
             [
              0.8888888888888888,
              "#fdca26"
             ],
             [
              1,
              "#f0f921"
             ]
            ],
            "type": "contour"
           }
          ],
          "contourcarpet": [
           {
            "colorbar": {
             "outlinewidth": 0,
             "ticks": ""
            },
            "type": "contourcarpet"
           }
          ],
          "heatmap": [
           {
            "colorbar": {
             "outlinewidth": 0,
             "ticks": ""
            },
            "colorscale": [
             [
              0,
              "#0d0887"
             ],
             [
              0.1111111111111111,
              "#46039f"
             ],
             [
              0.2222222222222222,
              "#7201a8"
             ],
             [
              0.3333333333333333,
              "#9c179e"
             ],
             [
              0.4444444444444444,
              "#bd3786"
             ],
             [
              0.5555555555555556,
              "#d8576b"
             ],
             [
              0.6666666666666666,
              "#ed7953"
             ],
             [
              0.7777777777777778,
              "#fb9f3a"
             ],
             [
              0.8888888888888888,
              "#fdca26"
             ],
             [
              1,
              "#f0f921"
             ]
            ],
            "type": "heatmap"
           }
          ],
          "heatmapgl": [
           {
            "colorbar": {
             "outlinewidth": 0,
             "ticks": ""
            },
            "colorscale": [
             [
              0,
              "#0d0887"
             ],
             [
              0.1111111111111111,
              "#46039f"
             ],
             [
              0.2222222222222222,
              "#7201a8"
             ],
             [
              0.3333333333333333,
              "#9c179e"
             ],
             [
              0.4444444444444444,
              "#bd3786"
             ],
             [
              0.5555555555555556,
              "#d8576b"
             ],
             [
              0.6666666666666666,
              "#ed7953"
             ],
             [
              0.7777777777777778,
              "#fb9f3a"
             ],
             [
              0.8888888888888888,
              "#fdca26"
             ],
             [
              1,
              "#f0f921"
             ]
            ],
            "type": "heatmapgl"
           }
          ],
          "histogram": [
           {
            "marker": {
             "pattern": {
              "fillmode": "overlay",
              "size": 10,
              "solidity": 0.2
             }
            },
            "type": "histogram"
           }
          ],
          "histogram2d": [
           {
            "colorbar": {
             "outlinewidth": 0,
             "ticks": ""
            },
            "colorscale": [
             [
              0,
              "#0d0887"
             ],
             [
              0.1111111111111111,
              "#46039f"
             ],
             [
              0.2222222222222222,
              "#7201a8"
             ],
             [
              0.3333333333333333,
              "#9c179e"
             ],
             [
              0.4444444444444444,
              "#bd3786"
             ],
             [
              0.5555555555555556,
              "#d8576b"
             ],
             [
              0.6666666666666666,
              "#ed7953"
             ],
             [
              0.7777777777777778,
              "#fb9f3a"
             ],
             [
              0.8888888888888888,
              "#fdca26"
             ],
             [
              1,
              "#f0f921"
             ]
            ],
            "type": "histogram2d"
           }
          ],
          "histogram2dcontour": [
           {
            "colorbar": {
             "outlinewidth": 0,
             "ticks": ""
            },
            "colorscale": [
             [
              0,
              "#0d0887"
             ],
             [
              0.1111111111111111,
              "#46039f"
             ],
             [
              0.2222222222222222,
              "#7201a8"
             ],
             [
              0.3333333333333333,
              "#9c179e"
             ],
             [
              0.4444444444444444,
              "#bd3786"
             ],
             [
              0.5555555555555556,
              "#d8576b"
             ],
             [
              0.6666666666666666,
              "#ed7953"
             ],
             [
              0.7777777777777778,
              "#fb9f3a"
             ],
             [
              0.8888888888888888,
              "#fdca26"
             ],
             [
              1,
              "#f0f921"
             ]
            ],
            "type": "histogram2dcontour"
           }
          ],
          "mesh3d": [
           {
            "colorbar": {
             "outlinewidth": 0,
             "ticks": ""
            },
            "type": "mesh3d"
           }
          ],
          "parcoords": [
           {
            "line": {
             "colorbar": {
              "outlinewidth": 0,
              "ticks": ""
             }
            },
            "type": "parcoords"
           }
          ],
          "pie": [
           {
            "automargin": true,
            "type": "pie"
           }
          ],
          "scatter": [
           {
            "fillpattern": {
             "fillmode": "overlay",
             "size": 10,
             "solidity": 0.2
            },
            "type": "scatter"
           }
          ],
          "scatter3d": [
           {
            "line": {
             "colorbar": {
              "outlinewidth": 0,
              "ticks": ""
             }
            },
            "marker": {
             "colorbar": {
              "outlinewidth": 0,
              "ticks": ""
             }
            },
            "type": "scatter3d"
           }
          ],
          "scattercarpet": [
           {
            "marker": {
             "colorbar": {
              "outlinewidth": 0,
              "ticks": ""
             }
            },
            "type": "scattercarpet"
           }
          ],
          "scattergeo": [
           {
            "marker": {
             "colorbar": {
              "outlinewidth": 0,
              "ticks": ""
             }
            },
            "type": "scattergeo"
           }
          ],
          "scattergl": [
           {
            "marker": {
             "colorbar": {
              "outlinewidth": 0,
              "ticks": ""
             }
            },
            "type": "scattergl"
           }
          ],
          "scattermapbox": [
           {
            "marker": {
             "colorbar": {
              "outlinewidth": 0,
              "ticks": ""
             }
            },
            "type": "scattermapbox"
           }
          ],
          "scatterpolar": [
           {
            "marker": {
             "colorbar": {
              "outlinewidth": 0,
              "ticks": ""
             }
            },
            "type": "scatterpolar"
           }
          ],
          "scatterpolargl": [
           {
            "marker": {
             "colorbar": {
              "outlinewidth": 0,
              "ticks": ""
             }
            },
            "type": "scatterpolargl"
           }
          ],
          "scatterternary": [
           {
            "marker": {
             "colorbar": {
              "outlinewidth": 0,
              "ticks": ""
             }
            },
            "type": "scatterternary"
           }
          ],
          "surface": [
           {
            "colorbar": {
             "outlinewidth": 0,
             "ticks": ""
            },
            "colorscale": [
             [
              0,
              "#0d0887"
             ],
             [
              0.1111111111111111,
              "#46039f"
             ],
             [
              0.2222222222222222,
              "#7201a8"
             ],
             [
              0.3333333333333333,
              "#9c179e"
             ],
             [
              0.4444444444444444,
              "#bd3786"
             ],
             [
              0.5555555555555556,
              "#d8576b"
             ],
             [
              0.6666666666666666,
              "#ed7953"
             ],
             [
              0.7777777777777778,
              "#fb9f3a"
             ],
             [
              0.8888888888888888,
              "#fdca26"
             ],
             [
              1,
              "#f0f921"
             ]
            ],
            "type": "surface"
           }
          ],
          "table": [
           {
            "cells": {
             "fill": {
              "color": "#EBF0F8"
             },
             "line": {
              "color": "white"
             }
            },
            "header": {
             "fill": {
              "color": "#C8D4E3"
             },
             "line": {
              "color": "white"
             }
            },
            "type": "table"
           }
          ]
         },
         "layout": {
          "annotationdefaults": {
           "arrowcolor": "#2a3f5f",
           "arrowhead": 0,
           "arrowwidth": 1
          },
          "autotypenumbers": "strict",
          "coloraxis": {
           "colorbar": {
            "outlinewidth": 0,
            "ticks": ""
           }
          },
          "colorscale": {
           "diverging": [
            [
             0,
             "#8e0152"
            ],
            [
             0.1,
             "#c51b7d"
            ],
            [
             0.2,
             "#de77ae"
            ],
            [
             0.3,
             "#f1b6da"
            ],
            [
             0.4,
             "#fde0ef"
            ],
            [
             0.5,
             "#f7f7f7"
            ],
            [
             0.6,
             "#e6f5d0"
            ],
            [
             0.7,
             "#b8e186"
            ],
            [
             0.8,
             "#7fbc41"
            ],
            [
             0.9,
             "#4d9221"
            ],
            [
             1,
             "#276419"
            ]
           ],
           "sequential": [
            [
             0,
             "#0d0887"
            ],
            [
             0.1111111111111111,
             "#46039f"
            ],
            [
             0.2222222222222222,
             "#7201a8"
            ],
            [
             0.3333333333333333,
             "#9c179e"
            ],
            [
             0.4444444444444444,
             "#bd3786"
            ],
            [
             0.5555555555555556,
             "#d8576b"
            ],
            [
             0.6666666666666666,
             "#ed7953"
            ],
            [
             0.7777777777777778,
             "#fb9f3a"
            ],
            [
             0.8888888888888888,
             "#fdca26"
            ],
            [
             1,
             "#f0f921"
            ]
           ],
           "sequentialminus": [
            [
             0,
             "#0d0887"
            ],
            [
             0.1111111111111111,
             "#46039f"
            ],
            [
             0.2222222222222222,
             "#7201a8"
            ],
            [
             0.3333333333333333,
             "#9c179e"
            ],
            [
             0.4444444444444444,
             "#bd3786"
            ],
            [
             0.5555555555555556,
             "#d8576b"
            ],
            [
             0.6666666666666666,
             "#ed7953"
            ],
            [
             0.7777777777777778,
             "#fb9f3a"
            ],
            [
             0.8888888888888888,
             "#fdca26"
            ],
            [
             1,
             "#f0f921"
            ]
           ]
          },
          "colorway": [
           "#636efa",
           "#EF553B",
           "#00cc96",
           "#ab63fa",
           "#FFA15A",
           "#19d3f3",
           "#FF6692",
           "#B6E880",
           "#FF97FF",
           "#FECB52"
          ],
          "font": {
           "color": "#2a3f5f"
          },
          "geo": {
           "bgcolor": "white",
           "lakecolor": "white",
           "landcolor": "#E5ECF6",
           "showlakes": true,
           "showland": true,
           "subunitcolor": "white"
          },
          "hoverlabel": {
           "align": "left"
          },
          "hovermode": "closest",
          "mapbox": {
           "style": "light"
          },
          "paper_bgcolor": "white",
          "plot_bgcolor": "#E5ECF6",
          "polar": {
           "angularaxis": {
            "gridcolor": "white",
            "linecolor": "white",
            "ticks": ""
           },
           "bgcolor": "#E5ECF6",
           "radialaxis": {
            "gridcolor": "white",
            "linecolor": "white",
            "ticks": ""
           }
          },
          "scene": {
           "xaxis": {
            "backgroundcolor": "#E5ECF6",
            "gridcolor": "white",
            "gridwidth": 2,
            "linecolor": "white",
            "showbackground": true,
            "ticks": "",
            "zerolinecolor": "white"
           },
           "yaxis": {
            "backgroundcolor": "#E5ECF6",
            "gridcolor": "white",
            "gridwidth": 2,
            "linecolor": "white",
            "showbackground": true,
            "ticks": "",
            "zerolinecolor": "white"
           },
           "zaxis": {
            "backgroundcolor": "#E5ECF6",
            "gridcolor": "white",
            "gridwidth": 2,
            "linecolor": "white",
            "showbackground": true,
            "ticks": "",
            "zerolinecolor": "white"
           }
          },
          "shapedefaults": {
           "line": {
            "color": "#2a3f5f"
           }
          },
          "ternary": {
           "aaxis": {
            "gridcolor": "white",
            "linecolor": "white",
            "ticks": ""
           },
           "baxis": {
            "gridcolor": "white",
            "linecolor": "white",
            "ticks": ""
           },
           "bgcolor": "#E5ECF6",
           "caxis": {
            "gridcolor": "white",
            "linecolor": "white",
            "ticks": ""
           }
          },
          "title": {
           "x": 0.05
          },
          "xaxis": {
           "automargin": true,
           "gridcolor": "white",
           "linecolor": "white",
           "ticks": "",
           "title": {
            "standoff": 15
           },
           "zerolinecolor": "white",
           "zerolinewidth": 2
          },
          "yaxis": {
           "automargin": true,
           "gridcolor": "white",
           "linecolor": "white",
           "ticks": "",
           "title": {
            "standoff": 15
           },
           "zerolinecolor": "white",
           "zerolinewidth": 2
          }
         }
        },
        "title": {
         "text": "Microglia mask area (QC) - cellpdia30_sigma1_dilrad4_dnad_obj_seg_v1_gliaero6_gliathr20_dnadero2"
        },
        "xaxis": {
         "anchor": "y",
         "domain": [
          0,
          1
         ],
         "title": {
          "text": "staining_id"
         }
        },
        "yaxis": {
         "anchor": "x",
         "domain": [
          0,
          1
         ],
         "title": {
          "text": "%_glia+_signal"
         }
        }
       }
      }
     },
     "metadata": {},
     "output_type": "display_data"
    }
   ],
   "source": [
    "show_exploratory_data(df, dataset, parameters_title)"
   ]
  },
  {
   "cell_type": "markdown",
   "metadata": {},
   "source": [
    "<h2>Data filtration and quality control (QC)</h2>\n",
    "\n",
    "In case there are outliers in the % of glial and dna damage mask positive signal (suboptimal stain) one can filter the data to remove those suboptimal stains and just plot the optimal ones where the automated image analysis offers reliable results. The images passing and not passing quality control can be individually checked in the next two Juypter notebooks. \n",
    "\n",
    "The stain quality can be filtered by applying a simple rule, any % of glia or dna_damage signal that is <code>quality factor</code> times above the average across all samples will be considered an outlier. The logic behind it is to remove overdetection or overclassification of dna_damage or marker positive cells across an evenly distributed population."
   ]
  },
  {
   "cell_type": "code",
   "execution_count": 31,
   "metadata": {},
   "outputs": [
    {
     "name": "stdout",
     "output_type": "stream",
     "text": [
      "Glia_mask_area_%_mean: 3.339114447532616, Dna_damage_mask_area_%_mean: 1.199315451636103\n"
     ]
    },
    {
     "data": {
      "text/html": [
       "<div>\n",
       "<style scoped>\n",
       "    .dataframe tbody tr th:only-of-type {\n",
       "        vertical-align: middle;\n",
       "    }\n",
       "\n",
       "    .dataframe tbody tr th {\n",
       "        vertical-align: top;\n",
       "    }\n",
       "\n",
       "    .dataframe thead th {\n",
       "        text-align: right;\n",
       "    }\n",
       "</style>\n",
       "<table border=\"1\" class=\"dataframe\">\n",
       "  <thead>\n",
       "    <tr style=\"text-align: right;\">\n",
       "      <th></th>\n",
       "      <th>index</th>\n",
       "      <th>filename</th>\n",
       "      <th>avg_dna_damage_foci/glia_+</th>\n",
       "      <th>avg_dna_damage_foci/glia_+_damage_+</th>\n",
       "      <th>avg_dna_damage_foci/all_nuclei</th>\n",
       "      <th>avg_dna_damage_foci/all_nuclei_damage_+</th>\n",
       "      <th>nr_+_dna_damage_glia_nuclei</th>\n",
       "      <th>nr_+_dna_damage_all_nuclei</th>\n",
       "      <th>nr_-_dna_damage_glia_nuclei</th>\n",
       "      <th>nr_glia_+_nuclei</th>\n",
       "      <th>...</th>\n",
       "      <th>tissue_location</th>\n",
       "      <th>staining_id</th>\n",
       "      <th>animal_id</th>\n",
       "      <th>sex</th>\n",
       "      <th>genotype</th>\n",
       "      <th>dna_damage_stain_quality_manual</th>\n",
       "      <th>manual_qc</th>\n",
       "      <th>glia_stain_quality_auto</th>\n",
       "      <th>dna_damage_stain_quality_auto</th>\n",
       "      <th>staining_qc_passed</th>\n",
       "    </tr>\n",
       "  </thead>\n",
       "  <tbody>\n",
       "    <tr>\n",
       "      <th>0</th>\n",
       "      <td>0</td>\n",
       "      <td>DSB Iba1 101_40X_CA1</td>\n",
       "      <td>1.000000</td>\n",
       "      <td>1.333333</td>\n",
       "      <td>0.573333</td>\n",
       "      <td>1.409836</td>\n",
       "      <td>9</td>\n",
       "      <td>61</td>\n",
       "      <td>3</td>\n",
       "      <td>12</td>\n",
       "      <td>...</td>\n",
       "      <td>CA1</td>\n",
       "      <td>101</td>\n",
       "      <td>2119</td>\n",
       "      <td>female</td>\n",
       "      <td>APP/PS1</td>\n",
       "      <td>good</td>\n",
       "      <td>passed</td>\n",
       "      <td>optimal</td>\n",
       "      <td>optimal</td>\n",
       "      <td>True</td>\n",
       "    </tr>\n",
       "    <tr>\n",
       "      <th>1</th>\n",
       "      <td>1</td>\n",
       "      <td>DSB Iba1 101_40X_CA3</td>\n",
       "      <td>0.777778</td>\n",
       "      <td>1.000000</td>\n",
       "      <td>0.934959</td>\n",
       "      <td>1.513158</td>\n",
       "      <td>7</td>\n",
       "      <td>76</td>\n",
       "      <td>2</td>\n",
       "      <td>9</td>\n",
       "      <td>...</td>\n",
       "      <td>CA3</td>\n",
       "      <td>101</td>\n",
       "      <td>2119</td>\n",
       "      <td>female</td>\n",
       "      <td>APP/PS1</td>\n",
       "      <td>good</td>\n",
       "      <td>passed</td>\n",
       "      <td>optimal</td>\n",
       "      <td>optimal</td>\n",
       "      <td>True</td>\n",
       "    </tr>\n",
       "    <tr>\n",
       "      <th>2</th>\n",
       "      <td>2</td>\n",
       "      <td>DSB Iba1 101_40X_CTX1</td>\n",
       "      <td>1.100000</td>\n",
       "      <td>1.375000</td>\n",
       "      <td>0.958084</td>\n",
       "      <td>1.415929</td>\n",
       "      <td>24</td>\n",
       "      <td>113</td>\n",
       "      <td>6</td>\n",
       "      <td>30</td>\n",
       "      <td>...</td>\n",
       "      <td>CTX1</td>\n",
       "      <td>101</td>\n",
       "      <td>2119</td>\n",
       "      <td>female</td>\n",
       "      <td>APP/PS1</td>\n",
       "      <td>good</td>\n",
       "      <td>passed</td>\n",
       "      <td>optimal</td>\n",
       "      <td>optimal</td>\n",
       "      <td>True</td>\n",
       "    </tr>\n",
       "    <tr>\n",
       "      <th>3</th>\n",
       "      <td>3</td>\n",
       "      <td>DSB Iba1 101_40X_CTX2</td>\n",
       "      <td>1.363636</td>\n",
       "      <td>1.666667</td>\n",
       "      <td>0.898374</td>\n",
       "      <td>1.407643</td>\n",
       "      <td>9</td>\n",
       "      <td>157</td>\n",
       "      <td>2</td>\n",
       "      <td>11</td>\n",
       "      <td>...</td>\n",
       "      <td>CTX2</td>\n",
       "      <td>101</td>\n",
       "      <td>2119</td>\n",
       "      <td>female</td>\n",
       "      <td>APP/PS1</td>\n",
       "      <td>good</td>\n",
       "      <td>passed</td>\n",
       "      <td>optimal</td>\n",
       "      <td>optimal</td>\n",
       "      <td>True</td>\n",
       "    </tr>\n",
       "    <tr>\n",
       "      <th>4</th>\n",
       "      <td>4</td>\n",
       "      <td>DSB Iba1 101_40X_CTX3</td>\n",
       "      <td>0.533333</td>\n",
       "      <td>1.333333</td>\n",
       "      <td>0.759657</td>\n",
       "      <td>1.301471</td>\n",
       "      <td>6</td>\n",
       "      <td>136</td>\n",
       "      <td>9</td>\n",
       "      <td>15</td>\n",
       "      <td>...</td>\n",
       "      <td>CTX3</td>\n",
       "      <td>101</td>\n",
       "      <td>2119</td>\n",
       "      <td>female</td>\n",
       "      <td>APP/PS1</td>\n",
       "      <td>good</td>\n",
       "      <td>passed</td>\n",
       "      <td>optimal</td>\n",
       "      <td>optimal</td>\n",
       "      <td>True</td>\n",
       "    </tr>\n",
       "  </tbody>\n",
       "</table>\n",
       "<p>5 rows × 25 columns</p>\n",
       "</div>"
      ],
      "text/plain": [
       "   index               filename  avg_dna_damage_foci/glia_+  \\\n",
       "0      0   DSB Iba1 101_40X_CA1                    1.000000   \n",
       "1      1   DSB Iba1 101_40X_CA3                    0.777778   \n",
       "2      2  DSB Iba1 101_40X_CTX1                    1.100000   \n",
       "3      3  DSB Iba1 101_40X_CTX2                    1.363636   \n",
       "4      4  DSB Iba1 101_40X_CTX3                    0.533333   \n",
       "\n",
       "   avg_dna_damage_foci/glia_+_damage_+  avg_dna_damage_foci/all_nuclei  \\\n",
       "0                             1.333333                        0.573333   \n",
       "1                             1.000000                        0.934959   \n",
       "2                             1.375000                        0.958084   \n",
       "3                             1.666667                        0.898374   \n",
       "4                             1.333333                        0.759657   \n",
       "\n",
       "   avg_dna_damage_foci/all_nuclei_damage_+  nr_+_dna_damage_glia_nuclei  \\\n",
       "0                                 1.409836                            9   \n",
       "1                                 1.513158                            7   \n",
       "2                                 1.415929                           24   \n",
       "3                                 1.407643                            9   \n",
       "4                                 1.301471                            6   \n",
       "\n",
       "   nr_+_dna_damage_all_nuclei  nr_-_dna_damage_glia_nuclei  nr_glia_+_nuclei  \\\n",
       "0                          61                            3                12   \n",
       "1                          76                            2                 9   \n",
       "2                         113                            6                30   \n",
       "3                         157                            2                11   \n",
       "4                         136                            9                15   \n",
       "\n",
       "   ...  tissue_location  staining_id  animal_id     sex  genotype  \\\n",
       "0  ...              CA1          101       2119  female   APP/PS1   \n",
       "1  ...              CA3          101       2119  female   APP/PS1   \n",
       "2  ...             CTX1          101       2119  female   APP/PS1   \n",
       "3  ...             CTX2          101       2119  female   APP/PS1   \n",
       "4  ...             CTX3          101       2119  female   APP/PS1   \n",
       "\n",
       "  dna_damage_stain_quality_manual  manual_qc  glia_stain_quality_auto  \\\n",
       "0                            good     passed                  optimal   \n",
       "1                            good     passed                  optimal   \n",
       "2                            good     passed                  optimal   \n",
       "3                            good     passed                  optimal   \n",
       "4                            good     passed                  optimal   \n",
       "\n",
       "  dna_damage_stain_quality_auto staining_qc_passed  \n",
       "0                       optimal               True  \n",
       "1                       optimal               True  \n",
       "2                       optimal               True  \n",
       "3                       optimal               True  \n",
       "4                       optimal               True  \n",
       "\n",
       "[5 rows x 25 columns]"
      ]
     },
     "execution_count": 31,
     "metadata": {},
     "output_type": "execute_result"
    }
   ],
   "source": [
    "# Stain quality factor\n",
    "quality_factor = 6\n",
    "\n",
    "# Quality check the analyzed stainings based on deviations from the mean of both %_glia_signal and %_dna_damage_signal\n",
    "merged_df = qc_filter_dataset(merged_df,\n",
    "                              dataset, \n",
    "                              cellpose_nuclei_diameter, \n",
    "                              gaussian_sigma, \n",
    "                              dilation_radius_nuclei, \n",
    "                              dna_damage_segmenter_version, \n",
    "                              glia_nuclei_colocalization_erosion, \n",
    "                              glia_channel_threshold, \n",
    "                              glia_segmenter, \n",
    "                              glia_segmenter_version, \n",
    "                              dna_damage_erosion,\n",
    "                              quality_factor)\n",
    "\n",
    "# Dataframe now displays the QC values\n",
    "merged_df.head()"
   ]
  },
  {
   "cell_type": "markdown",
   "metadata": {},
   "source": [
    "<h2>Plot technical replicates</h2>\n",
    "\n",
    "First we will plot technical replicates without averaging them into biological replicas"
   ]
  },
  {
   "cell_type": "code",
   "execution_count": 32,
   "metadata": {},
   "outputs": [],
   "source": [
    "# Remove data from images with a poor quality stain (auto QC), copy to avoid warnings\n",
    "auto_filtered_df = merged_df[merged_df['staining_qc_passed'] == True].copy()\n",
    "\n",
    "# Create a new column for combined sex and tissue location\n",
    "auto_filtered_df['sex_tissue'] = auto_filtered_df['sex'] + ' - ' + auto_filtered_df['tissue_location']\n",
    "\n",
    "# Define the order of the categories to ensure that male and female for each tissue location are side by side\n",
    "categories = [\n",
    "    'male - CA1', 'female - CA1',\n",
    "    'male - CA3', 'female - CA3',\n",
    "    'male - CTX1', 'female - CTX1',\n",
    "    'male - CTX2', 'female - CTX2',\n",
    "    'male - CTX3', 'female - CTX3',\n",
    "    'male - DG', 'female - DG'\n",
    "]"
   ]
  },
  {
   "cell_type": "code",
   "execution_count": 33,
   "metadata": {},
   "outputs": [
    {
     "data": {
      "application/vnd.plotly.v1+json": {
       "config": {
        "plotlyServerURL": "https://plot.ly"
       },
       "data": [
        {
         "alignmentgroup": "True",
         "hovertemplate": "genotype=APP/PS1<br>sex_tissue=%{x}<br>avg_dna_damage_foci/glia_+=%{y}<extra></extra>",
         "legendgroup": "APP/PS1",
         "marker": {
          "color": "#636efa"
         },
         "name": "APP/PS1",
         "notched": false,
         "offsetgroup": "APP/PS1",
         "orientation": "v",
         "showlegend": true,
         "type": "box",
         "x": [
          "female - CA1",
          "female - CA3",
          "female - CTX1",
          "female - CTX2",
          "female - CTX3",
          "female - DG",
          "male - CA1",
          "male - CA3",
          "male - CTX1",
          "male - CTX2",
          "male - CTX3",
          "male - DG",
          "male - CA1",
          "male - CA3",
          "male - CTX1",
          "male - CTX2",
          "male - CTX3",
          "male - CA1",
          "male - CA3",
          "male - CTX1",
          "male - CTX2",
          "male - CTX3",
          "male - DG",
          "female - CA1",
          "female - CA3",
          "female - CTX1",
          "female - CTX2",
          "female - CTX3",
          "female - DG",
          "male - CA1",
          "male - CA3",
          "male - CTX1",
          "male - CTX2",
          "male - CTX3",
          "male - DG",
          "male - CA1",
          "male - CA3",
          "male - CTX1",
          "male - CTX2",
          "male - CTX3",
          "male - DG",
          "female - CA1",
          "female - CA3",
          "female - CTX1",
          "female - CTX2",
          "female - CTX3",
          "female - DG",
          "male - CA1",
          "male - CA3",
          "male - CTX1",
          "male - CTX2",
          "male - CTX3",
          "male - DG",
          "male - CA1",
          "male - CA3",
          "male - CTX1",
          "male - CTX2",
          "male - CTX3",
          "male - DG",
          "female - CA1",
          "female - CA3",
          "female - CTX1",
          "female - CTX2",
          "female - CTX3",
          "female - DG",
          "female - CA1",
          "female - CA3",
          "female - CTX1",
          "female - CTX2",
          "female - CTX3",
          "female - DG",
          "male - CA1",
          "male - CA3",
          "male - CTX1",
          "male - CTX2",
          "male - CTX3",
          "male - DG",
          "female - CA1",
          "female - CA3",
          "female - CTX1",
          "female - CTX2",
          "female - CTX3",
          "female - DG",
          "male - CA1",
          "male - CA3",
          "male - CTX1",
          "male - CTX2",
          "male - CTX3",
          "male - DG",
          "male - CA1",
          "male - CA3",
          "male - CTX1",
          "male - CTX2",
          "male - CTX3",
          "male - DG",
          "female - CA1",
          "female - CA3",
          "female - CTX1",
          "female - CTX2",
          "female - CTX3",
          "female - DG",
          "female - CA1",
          "female - CA3",
          "female - CTX1",
          "female - CTX2",
          "female - CTX3",
          "female - DG"
         ],
         "x0": " ",
         "xaxis": "x",
         "y": [
          1,
          0.7777777777777778,
          1.1,
          1.3636363636363635,
          0.5333333333333333,
          1.2,
          0.2222222222222222,
          1,
          0.8333333333333334,
          1.0952380952380951,
          1.0454545454545454,
          1.1,
          0.5,
          0.7142857142857143,
          0.9090909090909092,
          1.368421052631579,
          1.4583333333333333,
          0.8571428571428571,
          0.75,
          0.8928571428571429,
          1.2,
          0.8666666666666667,
          0.9333333333333332,
          1,
          2.1666666666666665,
          1.5,
          1.0588235294117647,
          1.25,
          1.7647058823529411,
          1,
          0.875,
          0.56,
          0,
          0.9090909090909092,
          1,
          1.375,
          1.2222222222222223,
          0.56,
          1.65,
          1.3333333333333333,
          2.1333333333333333,
          0,
          1,
          0.7692307692307693,
          0.5,
          0.6153846153846154,
          0.8,
          1.3636363636363635,
          2,
          1,
          0.5882352941176471,
          1.1538461538461535,
          1.5,
          1.25,
          1,
          1.875,
          1.4482758620689655,
          1.7,
          1.6,
          1.3333333333333333,
          0.6,
          0,
          0.4,
          1,
          1.375,
          1.3333333333333333,
          1.3333333333333333,
          1,
          1,
          1.5,
          1,
          0.4545454545454545,
          0.7142857142857143,
          2.071428571428572,
          0.5,
          0.9166666666666666,
          2.871794871794872,
          1.4285714285714286,
          1.25,
          0.9428571428571428,
          1,
          1,
          1.1538461538461535,
          0.6,
          1,
          0.3888888888888889,
          0.3333333333333333,
          0.6153846153846154,
          0.8181818181818182,
          1.4,
          1.3333333333333333,
          0.6,
          1,
          1.2,
          0.7692307692307693,
          0.4285714285714285,
          0.6666666666666666,
          0.125,
          0.6666666666666666,
          0,
          0.7272727272727273,
          1,
          0.4166666666666667,
          0.9523809523809524,
          0.782608695652174,
          0.2777777777777778,
          1.1875
         ],
         "y0": " ",
         "yaxis": "y"
        },
        {
         "alignmentgroup": "True",
         "hovertemplate": "genotype=APP/PS1 x Neil3 KO<br>sex_tissue=%{x}<br>avg_dna_damage_foci/glia_+=%{y}<extra></extra>",
         "legendgroup": "APP/PS1 x Neil3 KO",
         "marker": {
          "color": "#EF553B"
         },
         "name": "APP/PS1 x Neil3 KO",
         "notched": false,
         "offsetgroup": "APP/PS1 x Neil3 KO",
         "orientation": "v",
         "showlegend": true,
         "type": "box",
         "x": [
          "male - CA1",
          "male - CA3",
          "male - CTX1",
          "male - CTX2",
          "male - CTX3",
          "male - DG",
          "male - CA1",
          "male - CA3",
          "male - CTX1",
          "male - CTX2",
          "male - CTX3",
          "male - DG",
          "female - CA1",
          "female - CA3",
          "female - CTX1",
          "female - CTX2",
          "female - CTX3",
          "female - DG",
          "male - CA1",
          "male - CA3",
          "male - CTX1",
          "male - CTX2",
          "male - CTX3",
          "male - DG",
          "male - CA1",
          "male - CA3",
          "male - CTX1",
          "male - CTX2",
          "male - CTX3",
          "male - DG",
          "female - CA1",
          "female - CA3",
          "female - CTX1",
          "female - CTX2",
          "female - CTX3",
          "female - DG",
          "male - CA1",
          "male - CA3",
          "male - CTX1",
          "male - CTX2",
          "male - CTX3",
          "male - DG",
          "female - CA1",
          "female - CA3",
          "female - CTX1",
          "female - CTX2",
          "female - CTX3",
          "female - DG",
          "female - CA1",
          "female - CA3",
          "female - CTX1",
          "female - CTX2",
          "female - CTX3",
          "female - DG",
          "male - CA1",
          "male - CA3",
          "male - CTX1",
          "male - CTX2",
          "male - CTX3",
          "male - DG",
          "female - CA1",
          "female - CA3",
          "female - CTX1",
          "female - CTX2",
          "female - CTX3",
          "female - DG",
          "male - CA1",
          "male - CA3",
          "male - CTX1",
          "male - CTX2",
          "male - CTX3",
          "male - DG",
          "female - CA1",
          "female - CA3",
          "female - CTX1",
          "female - CTX2",
          "female - CTX3",
          "female - DG",
          "female - CA1",
          "female - CA3",
          "female - CTX1",
          "female - CTX2",
          "female - CTX3",
          "female - DG",
          "male - CA1",
          "male - CA3",
          "male - CTX1",
          "male - CTX2",
          "male - CTX3",
          "male - DG",
          "female - CA1",
          "female - CA3",
          "female - CTX1",
          "female - CTX2",
          "female - CTX3",
          "female - DG"
         ],
         "x0": " ",
         "xaxis": "x",
         "y": [
          1,
          1.2,
          0.4444444444444444,
          1.3888888888888888,
          1.7142857142857142,
          0.8235294117647058,
          0.5454545454545454,
          0.6666666666666666,
          1.0714285714285714,
          1.631578947368421,
          0.9285714285714286,
          0.5,
          0.1428571428571428,
          0.5,
          0.4545454545454545,
          0.6,
          1.3,
          0.5,
          0.6666666666666666,
          1.4,
          0.6428571428571429,
          1.181818181818182,
          1.5,
          0.9,
          1,
          1.6,
          1,
          1.5,
          0.6666666666666666,
          1,
          1,
          0.5,
          1.588235294117647,
          1.2666666666666666,
          1.4782608695652173,
          0.9333333333333332,
          0,
          1,
          1,
          0.8461538461538461,
          1.0909090909090908,
          2.823529411764706,
          1.4,
          1,
          1.125,
          1.1923076923076923,
          0.9375,
          1,
          1,
          1,
          0.7,
          1.2666666666666666,
          0.7777777777777778,
          1,
          0.5,
          0.625,
          0.95,
          0.8181818181818182,
          1.375,
          1.8,
          0.5,
          0.5,
          null,
          0,
          0.6,
          1,
          2,
          1.6666666666666667,
          0.75,
          0.8,
          0.7647058823529411,
          2.0454545454545454,
          0.1538461538461538,
          0.1111111111111111,
          0,
          0.1428571428571428,
          0.6451612903225806,
          0.4666666666666667,
          1.2,
          1,
          0.3478260869565217,
          0.6451612903225806,
          0.5384615384615384,
          0.875,
          1.25,
          0.6666666666666666,
          1.1764705882352942,
          1.1875,
          1,
          1.5,
          0.8,
          0.8,
          0.7777777777777778,
          0.6,
          0.6956521739130435,
          1.5
         ],
         "y0": " ",
         "yaxis": "y"
        }
       ],
       "layout": {
        "boxmode": "group",
        "legend": {
         "title": {
          "text": "genotype"
         },
         "tracegroupgap": 0
        },
        "template": {
         "data": {
          "bar": [
           {
            "error_x": {
             "color": "#2a3f5f"
            },
            "error_y": {
             "color": "#2a3f5f"
            },
            "marker": {
             "line": {
              "color": "#E5ECF6",
              "width": 0.5
             },
             "pattern": {
              "fillmode": "overlay",
              "size": 10,
              "solidity": 0.2
             }
            },
            "type": "bar"
           }
          ],
          "barpolar": [
           {
            "marker": {
             "line": {
              "color": "#E5ECF6",
              "width": 0.5
             },
             "pattern": {
              "fillmode": "overlay",
              "size": 10,
              "solidity": 0.2
             }
            },
            "type": "barpolar"
           }
          ],
          "carpet": [
           {
            "aaxis": {
             "endlinecolor": "#2a3f5f",
             "gridcolor": "white",
             "linecolor": "white",
             "minorgridcolor": "white",
             "startlinecolor": "#2a3f5f"
            },
            "baxis": {
             "endlinecolor": "#2a3f5f",
             "gridcolor": "white",
             "linecolor": "white",
             "minorgridcolor": "white",
             "startlinecolor": "#2a3f5f"
            },
            "type": "carpet"
           }
          ],
          "choropleth": [
           {
            "colorbar": {
             "outlinewidth": 0,
             "ticks": ""
            },
            "type": "choropleth"
           }
          ],
          "contour": [
           {
            "colorbar": {
             "outlinewidth": 0,
             "ticks": ""
            },
            "colorscale": [
             [
              0,
              "#0d0887"
             ],
             [
              0.1111111111111111,
              "#46039f"
             ],
             [
              0.2222222222222222,
              "#7201a8"
             ],
             [
              0.3333333333333333,
              "#9c179e"
             ],
             [
              0.4444444444444444,
              "#bd3786"
             ],
             [
              0.5555555555555556,
              "#d8576b"
             ],
             [
              0.6666666666666666,
              "#ed7953"
             ],
             [
              0.7777777777777778,
              "#fb9f3a"
             ],
             [
              0.8888888888888888,
              "#fdca26"
             ],
             [
              1,
              "#f0f921"
             ]
            ],
            "type": "contour"
           }
          ],
          "contourcarpet": [
           {
            "colorbar": {
             "outlinewidth": 0,
             "ticks": ""
            },
            "type": "contourcarpet"
           }
          ],
          "heatmap": [
           {
            "colorbar": {
             "outlinewidth": 0,
             "ticks": ""
            },
            "colorscale": [
             [
              0,
              "#0d0887"
             ],
             [
              0.1111111111111111,
              "#46039f"
             ],
             [
              0.2222222222222222,
              "#7201a8"
             ],
             [
              0.3333333333333333,
              "#9c179e"
             ],
             [
              0.4444444444444444,
              "#bd3786"
             ],
             [
              0.5555555555555556,
              "#d8576b"
             ],
             [
              0.6666666666666666,
              "#ed7953"
             ],
             [
              0.7777777777777778,
              "#fb9f3a"
             ],
             [
              0.8888888888888888,
              "#fdca26"
             ],
             [
              1,
              "#f0f921"
             ]
            ],
            "type": "heatmap"
           }
          ],
          "heatmapgl": [
           {
            "colorbar": {
             "outlinewidth": 0,
             "ticks": ""
            },
            "colorscale": [
             [
              0,
              "#0d0887"
             ],
             [
              0.1111111111111111,
              "#46039f"
             ],
             [
              0.2222222222222222,
              "#7201a8"
             ],
             [
              0.3333333333333333,
              "#9c179e"
             ],
             [
              0.4444444444444444,
              "#bd3786"
             ],
             [
              0.5555555555555556,
              "#d8576b"
             ],
             [
              0.6666666666666666,
              "#ed7953"
             ],
             [
              0.7777777777777778,
              "#fb9f3a"
             ],
             [
              0.8888888888888888,
              "#fdca26"
             ],
             [
              1,
              "#f0f921"
             ]
            ],
            "type": "heatmapgl"
           }
          ],
          "histogram": [
           {
            "marker": {
             "pattern": {
              "fillmode": "overlay",
              "size": 10,
              "solidity": 0.2
             }
            },
            "type": "histogram"
           }
          ],
          "histogram2d": [
           {
            "colorbar": {
             "outlinewidth": 0,
             "ticks": ""
            },
            "colorscale": [
             [
              0,
              "#0d0887"
             ],
             [
              0.1111111111111111,
              "#46039f"
             ],
             [
              0.2222222222222222,
              "#7201a8"
             ],
             [
              0.3333333333333333,
              "#9c179e"
             ],
             [
              0.4444444444444444,
              "#bd3786"
             ],
             [
              0.5555555555555556,
              "#d8576b"
             ],
             [
              0.6666666666666666,
              "#ed7953"
             ],
             [
              0.7777777777777778,
              "#fb9f3a"
             ],
             [
              0.8888888888888888,
              "#fdca26"
             ],
             [
              1,
              "#f0f921"
             ]
            ],
            "type": "histogram2d"
           }
          ],
          "histogram2dcontour": [
           {
            "colorbar": {
             "outlinewidth": 0,
             "ticks": ""
            },
            "colorscale": [
             [
              0,
              "#0d0887"
             ],
             [
              0.1111111111111111,
              "#46039f"
             ],
             [
              0.2222222222222222,
              "#7201a8"
             ],
             [
              0.3333333333333333,
              "#9c179e"
             ],
             [
              0.4444444444444444,
              "#bd3786"
             ],
             [
              0.5555555555555556,
              "#d8576b"
             ],
             [
              0.6666666666666666,
              "#ed7953"
             ],
             [
              0.7777777777777778,
              "#fb9f3a"
             ],
             [
              0.8888888888888888,
              "#fdca26"
             ],
             [
              1,
              "#f0f921"
             ]
            ],
            "type": "histogram2dcontour"
           }
          ],
          "mesh3d": [
           {
            "colorbar": {
             "outlinewidth": 0,
             "ticks": ""
            },
            "type": "mesh3d"
           }
          ],
          "parcoords": [
           {
            "line": {
             "colorbar": {
              "outlinewidth": 0,
              "ticks": ""
             }
            },
            "type": "parcoords"
           }
          ],
          "pie": [
           {
            "automargin": true,
            "type": "pie"
           }
          ],
          "scatter": [
           {
            "fillpattern": {
             "fillmode": "overlay",
             "size": 10,
             "solidity": 0.2
            },
            "type": "scatter"
           }
          ],
          "scatter3d": [
           {
            "line": {
             "colorbar": {
              "outlinewidth": 0,
              "ticks": ""
             }
            },
            "marker": {
             "colorbar": {
              "outlinewidth": 0,
              "ticks": ""
             }
            },
            "type": "scatter3d"
           }
          ],
          "scattercarpet": [
           {
            "marker": {
             "colorbar": {
              "outlinewidth": 0,
              "ticks": ""
             }
            },
            "type": "scattercarpet"
           }
          ],
          "scattergeo": [
           {
            "marker": {
             "colorbar": {
              "outlinewidth": 0,
              "ticks": ""
             }
            },
            "type": "scattergeo"
           }
          ],
          "scattergl": [
           {
            "marker": {
             "colorbar": {
              "outlinewidth": 0,
              "ticks": ""
             }
            },
            "type": "scattergl"
           }
          ],
          "scattermapbox": [
           {
            "marker": {
             "colorbar": {
              "outlinewidth": 0,
              "ticks": ""
             }
            },
            "type": "scattermapbox"
           }
          ],
          "scatterpolar": [
           {
            "marker": {
             "colorbar": {
              "outlinewidth": 0,
              "ticks": ""
             }
            },
            "type": "scatterpolar"
           }
          ],
          "scatterpolargl": [
           {
            "marker": {
             "colorbar": {
              "outlinewidth": 0,
              "ticks": ""
             }
            },
            "type": "scatterpolargl"
           }
          ],
          "scatterternary": [
           {
            "marker": {
             "colorbar": {
              "outlinewidth": 0,
              "ticks": ""
             }
            },
            "type": "scatterternary"
           }
          ],
          "surface": [
           {
            "colorbar": {
             "outlinewidth": 0,
             "ticks": ""
            },
            "colorscale": [
             [
              0,
              "#0d0887"
             ],
             [
              0.1111111111111111,
              "#46039f"
             ],
             [
              0.2222222222222222,
              "#7201a8"
             ],
             [
              0.3333333333333333,
              "#9c179e"
             ],
             [
              0.4444444444444444,
              "#bd3786"
             ],
             [
              0.5555555555555556,
              "#d8576b"
             ],
             [
              0.6666666666666666,
              "#ed7953"
             ],
             [
              0.7777777777777778,
              "#fb9f3a"
             ],
             [
              0.8888888888888888,
              "#fdca26"
             ],
             [
              1,
              "#f0f921"
             ]
            ],
            "type": "surface"
           }
          ],
          "table": [
           {
            "cells": {
             "fill": {
              "color": "#EBF0F8"
             },
             "line": {
              "color": "white"
             }
            },
            "header": {
             "fill": {
              "color": "#C8D4E3"
             },
             "line": {
              "color": "white"
             }
            },
            "type": "table"
           }
          ]
         },
         "layout": {
          "annotationdefaults": {
           "arrowcolor": "#2a3f5f",
           "arrowhead": 0,
           "arrowwidth": 1
          },
          "autotypenumbers": "strict",
          "coloraxis": {
           "colorbar": {
            "outlinewidth": 0,
            "ticks": ""
           }
          },
          "colorscale": {
           "diverging": [
            [
             0,
             "#8e0152"
            ],
            [
             0.1,
             "#c51b7d"
            ],
            [
             0.2,
             "#de77ae"
            ],
            [
             0.3,
             "#f1b6da"
            ],
            [
             0.4,
             "#fde0ef"
            ],
            [
             0.5,
             "#f7f7f7"
            ],
            [
             0.6,
             "#e6f5d0"
            ],
            [
             0.7,
             "#b8e186"
            ],
            [
             0.8,
             "#7fbc41"
            ],
            [
             0.9,
             "#4d9221"
            ],
            [
             1,
             "#276419"
            ]
           ],
           "sequential": [
            [
             0,
             "#0d0887"
            ],
            [
             0.1111111111111111,
             "#46039f"
            ],
            [
             0.2222222222222222,
             "#7201a8"
            ],
            [
             0.3333333333333333,
             "#9c179e"
            ],
            [
             0.4444444444444444,
             "#bd3786"
            ],
            [
             0.5555555555555556,
             "#d8576b"
            ],
            [
             0.6666666666666666,
             "#ed7953"
            ],
            [
             0.7777777777777778,
             "#fb9f3a"
            ],
            [
             0.8888888888888888,
             "#fdca26"
            ],
            [
             1,
             "#f0f921"
            ]
           ],
           "sequentialminus": [
            [
             0,
             "#0d0887"
            ],
            [
             0.1111111111111111,
             "#46039f"
            ],
            [
             0.2222222222222222,
             "#7201a8"
            ],
            [
             0.3333333333333333,
             "#9c179e"
            ],
            [
             0.4444444444444444,
             "#bd3786"
            ],
            [
             0.5555555555555556,
             "#d8576b"
            ],
            [
             0.6666666666666666,
             "#ed7953"
            ],
            [
             0.7777777777777778,
             "#fb9f3a"
            ],
            [
             0.8888888888888888,
             "#fdca26"
            ],
            [
             1,
             "#f0f921"
            ]
           ]
          },
          "colorway": [
           "#636efa",
           "#EF553B",
           "#00cc96",
           "#ab63fa",
           "#FFA15A",
           "#19d3f3",
           "#FF6692",
           "#B6E880",
           "#FF97FF",
           "#FECB52"
          ],
          "font": {
           "color": "#2a3f5f"
          },
          "geo": {
           "bgcolor": "white",
           "lakecolor": "white",
           "landcolor": "#E5ECF6",
           "showlakes": true,
           "showland": true,
           "subunitcolor": "white"
          },
          "hoverlabel": {
           "align": "left"
          },
          "hovermode": "closest",
          "mapbox": {
           "style": "light"
          },
          "paper_bgcolor": "white",
          "plot_bgcolor": "#E5ECF6",
          "polar": {
           "angularaxis": {
            "gridcolor": "white",
            "linecolor": "white",
            "ticks": ""
           },
           "bgcolor": "#E5ECF6",
           "radialaxis": {
            "gridcolor": "white",
            "linecolor": "white",
            "ticks": ""
           }
          },
          "scene": {
           "xaxis": {
            "backgroundcolor": "#E5ECF6",
            "gridcolor": "white",
            "gridwidth": 2,
            "linecolor": "white",
            "showbackground": true,
            "ticks": "",
            "zerolinecolor": "white"
           },
           "yaxis": {
            "backgroundcolor": "#E5ECF6",
            "gridcolor": "white",
            "gridwidth": 2,
            "linecolor": "white",
            "showbackground": true,
            "ticks": "",
            "zerolinecolor": "white"
           },
           "zaxis": {
            "backgroundcolor": "#E5ECF6",
            "gridcolor": "white",
            "gridwidth": 2,
            "linecolor": "white",
            "showbackground": true,
            "ticks": "",
            "zerolinecolor": "white"
           }
          },
          "shapedefaults": {
           "line": {
            "color": "#2a3f5f"
           }
          },
          "ternary": {
           "aaxis": {
            "gridcolor": "white",
            "linecolor": "white",
            "ticks": ""
           },
           "baxis": {
            "gridcolor": "white",
            "linecolor": "white",
            "ticks": ""
           },
           "bgcolor": "#E5ECF6",
           "caxis": {
            "gridcolor": "white",
            "linecolor": "white",
            "ticks": ""
           }
          },
          "title": {
           "x": 0.05
          },
          "xaxis": {
           "automargin": true,
           "gridcolor": "white",
           "linecolor": "white",
           "ticks": "",
           "title": {
            "standoff": 15
           },
           "zerolinecolor": "white",
           "zerolinewidth": 2
          },
          "yaxis": {
           "automargin": true,
           "gridcolor": "white",
           "linecolor": "white",
           "ticks": "",
           "title": {
            "standoff": 15
           },
           "zerolinecolor": "white",
           "zerolinewidth": 2
          }
         }
        },
        "title": {
         "text": "DNA Damage Foci nr in All Microglia Nuclei by Tissue Location and Genotype (separated by sex) - Auto stain QC - cellpdia30_sigma1_dilrad4_dnad_obj_seg_v1_gliaero6_gliathr20_dnadero2"
        },
        "xaxis": {
         "anchor": "y",
         "categoryarray": [
          "male - CA1",
          "female - CA1",
          "male - CA3",
          "female - CA3",
          "male - CTX1",
          "female - CTX1",
          "male - CTX2",
          "female - CTX2",
          "male - CTX3",
          "female - CTX3",
          "male - DG",
          "female - DG"
         ],
         "categoryorder": "array",
         "domain": [
          0,
          1
         ],
         "title": {
          "text": "sex_tissue"
         }
        },
        "yaxis": {
         "anchor": "x",
         "domain": [
          0,
          1
         ],
         "title": {
          "text": "avg_dna_damage_foci/glia_+"
         }
        }
       }
      }
     },
     "metadata": {},
     "output_type": "display_data"
    },
    {
     "data": {
      "application/vnd.plotly.v1+json": {
       "config": {
        "plotlyServerURL": "https://plot.ly"
       },
       "data": [
        {
         "alignmentgroup": "True",
         "hovertemplate": "genotype=APP/PS1<br>sex_tissue=%{x}<br>avg_dna_damage_foci/glia_+_damage_+=%{y}<extra></extra>",
         "legendgroup": "APP/PS1",
         "marker": {
          "color": "#636efa"
         },
         "name": "APP/PS1",
         "notched": false,
         "offsetgroup": "APP/PS1",
         "orientation": "v",
         "showlegend": true,
         "type": "box",
         "x": [
          "female - CA1",
          "female - CA3",
          "female - CTX1",
          "female - CTX2",
          "female - CTX3",
          "female - DG",
          "male - CA1",
          "male - CA3",
          "male - CTX1",
          "male - CTX2",
          "male - CTX3",
          "male - DG",
          "male - CA1",
          "male - CA3",
          "male - CTX1",
          "male - CTX2",
          "male - CTX3",
          "male - CA1",
          "male - CA3",
          "male - CTX1",
          "male - CTX2",
          "male - CTX3",
          "male - DG",
          "female - CA1",
          "female - CA3",
          "female - CTX1",
          "female - CTX2",
          "female - CTX3",
          "female - DG",
          "male - CA1",
          "male - CA3",
          "male - CTX1",
          "male - CTX2",
          "male - CTX3",
          "male - DG",
          "male - CA1",
          "male - CA3",
          "male - CTX1",
          "male - CTX2",
          "male - CTX3",
          "male - DG",
          "female - CA1",
          "female - CA3",
          "female - CTX1",
          "female - CTX2",
          "female - CTX3",
          "female - DG",
          "male - CA1",
          "male - CA3",
          "male - CTX1",
          "male - CTX2",
          "male - CTX3",
          "male - DG",
          "male - CA1",
          "male - CA3",
          "male - CTX1",
          "male - CTX2",
          "male - CTX3",
          "male - DG",
          "female - CA1",
          "female - CA3",
          "female - CTX1",
          "female - CTX2",
          "female - CTX3",
          "female - DG",
          "female - CA1",
          "female - CA3",
          "female - CTX1",
          "female - CTX2",
          "female - CTX3",
          "female - DG",
          "male - CA1",
          "male - CA3",
          "male - CTX1",
          "male - CTX2",
          "male - CTX3",
          "male - DG",
          "female - CA1",
          "female - CA3",
          "female - CTX1",
          "female - CTX2",
          "female - CTX3",
          "female - DG",
          "male - CA1",
          "male - CA3",
          "male - CTX1",
          "male - CTX2",
          "male - CTX3",
          "male - DG",
          "male - CA1",
          "male - CA3",
          "male - CTX1",
          "male - CTX2",
          "male - CTX3",
          "male - DG",
          "female - CA1",
          "female - CA3",
          "female - CTX1",
          "female - CTX2",
          "female - CTX3",
          "female - DG",
          "female - CA1",
          "female - CA3",
          "female - CTX1",
          "female - CTX2",
          "female - CTX3",
          "female - DG"
         ],
         "x0": " ",
         "xaxis": "x",
         "y": [
          1.3333333333333333,
          1,
          1.375,
          1.6666666666666667,
          1.3333333333333333,
          1.7142857142857142,
          1,
          1.5,
          1.5,
          1.9166666666666667,
          1.3529411764705883,
          1.5714285714285714,
          1.5,
          1,
          1.5384615384615383,
          1.7333333333333334,
          1.75,
          1.5,
          1.2,
          1.5625,
          1.6,
          1.3,
          1.5555555555555556,
          1.9,
          2.1666666666666665,
          2.5,
          2,
          2,
          2,
          2.6666666666666665,
          1.75,
          1.2727272727272727,
          null,
          1.25,
          1.4545454545454546,
          1.8333333333333333,
          1.375,
          1.2727272727272727,
          2.2,
          1.7142857142857142,
          2.4615384615384617,
          null,
          1.3333333333333333,
          1.5384615384615383,
          1.5714285714285714,
          1.3333333333333333,
          2,
          1.875,
          2,
          1.8333333333333333,
          1.4285714285714286,
          1.5,
          1.9090909090909087,
          1.4285714285714286,
          2,
          2.142857142857143,
          1.826086956521739,
          2.125,
          1.6,
          2.6666666666666665,
          1,
          null,
          2,
          2,
          1.5714285714285714,
          1.3333333333333333,
          2,
          1.5,
          1.5,
          1.875,
          2,
          1.25,
          1.25,
          2.761904761904762,
          1.6666666666666667,
          1.2222222222222223,
          2.9473684210526314,
          1.6666666666666667,
          1.25,
          1.5714285714285714,
          1.6,
          1.5384615384615383,
          1.875,
          1.8,
          1.6,
          1.75,
          1.1428571428571428,
          1.3333333333333333,
          1.3846153846153846,
          1.75,
          1.3333333333333333,
          1.2,
          1.6666666666666667,
          1.8461538461538465,
          1.4285714285714286,
          1,
          1,
          1,
          1.5,
          null,
          1.3333333333333333,
          1.8571428571428568,
          1.6666666666666667,
          1.6666666666666667,
          1.2857142857142858,
          1.1111111111111112,
          1.9
         ],
         "y0": " ",
         "yaxis": "y"
        },
        {
         "alignmentgroup": "True",
         "hovertemplate": "genotype=APP/PS1 x Neil3 KO<br>sex_tissue=%{x}<br>avg_dna_damage_foci/glia_+_damage_+=%{y}<extra></extra>",
         "legendgroup": "APP/PS1 x Neil3 KO",
         "marker": {
          "color": "#EF553B"
         },
         "name": "APP/PS1 x Neil3 KO",
         "notched": false,
         "offsetgroup": "APP/PS1 x Neil3 KO",
         "orientation": "v",
         "showlegend": true,
         "type": "box",
         "x": [
          "male - CA1",
          "male - CA3",
          "male - CTX1",
          "male - CTX2",
          "male - CTX3",
          "male - DG",
          "male - CA1",
          "male - CA3",
          "male - CTX1",
          "male - CTX2",
          "male - CTX3",
          "male - DG",
          "female - CA1",
          "female - CA3",
          "female - CTX1",
          "female - CTX2",
          "female - CTX3",
          "female - DG",
          "male - CA1",
          "male - CA3",
          "male - CTX1",
          "male - CTX2",
          "male - CTX3",
          "male - DG",
          "male - CA1",
          "male - CA3",
          "male - CTX1",
          "male - CTX2",
          "male - CTX3",
          "male - DG",
          "female - CA1",
          "female - CA3",
          "female - CTX1",
          "female - CTX2",
          "female - CTX3",
          "female - DG",
          "male - CA1",
          "male - CA3",
          "male - CTX1",
          "male - CTX2",
          "male - CTX3",
          "male - DG",
          "female - CA1",
          "female - CA3",
          "female - CTX1",
          "female - CTX2",
          "female - CTX3",
          "female - DG",
          "female - CA1",
          "female - CA3",
          "female - CTX1",
          "female - CTX2",
          "female - CTX3",
          "female - DG",
          "male - CA1",
          "male - CA3",
          "male - CTX1",
          "male - CTX2",
          "male - CTX3",
          "male - DG",
          "female - CA1",
          "female - CA3",
          "female - CTX1",
          "female - CTX2",
          "female - CTX3",
          "female - DG",
          "male - CA1",
          "male - CA3",
          "male - CTX1",
          "male - CTX2",
          "male - CTX3",
          "male - DG",
          "female - CA1",
          "female - CA3",
          "female - CTX1",
          "female - CTX2",
          "female - CTX3",
          "female - DG",
          "female - CA1",
          "female - CA3",
          "female - CTX1",
          "female - CTX2",
          "female - CTX3",
          "female - DG",
          "male - CA1",
          "male - CA3",
          "male - CTX1",
          "male - CTX2",
          "male - CTX3",
          "male - DG",
          "female - CA1",
          "female - CA3",
          "female - CTX1",
          "female - CTX2",
          "female - CTX3",
          "female - DG"
         ],
         "x0": " ",
         "xaxis": "x",
         "y": [
          1.2,
          1.7142857142857142,
          1.1428571428571428,
          1.7857142857142858,
          1.8,
          1.1666666666666667,
          1.2,
          1.2,
          1.5,
          2.066666666666667,
          1.3,
          2,
          1,
          1,
          1.25,
          1,
          1.8571428571428568,
          1.3333333333333333,
          2,
          1.75,
          1.125,
          1.3,
          1.9090909090909087,
          1.2857142857142858,
          1.5,
          2,
          1.6666666666666667,
          1.8333333333333333,
          2,
          1.4,
          1.5714285714285714,
          1,
          2.076923076923077,
          1.4615384615384617,
          2,
          1.4,
          null,
          1,
          1.5,
          1.5714285714285714,
          1.3333333333333333,
          2.823529411764706,
          1.5555555555555556,
          1.25,
          1.6363636363636365,
          1.631578947368421,
          1.1538461538461535,
          1.5,
          1.6666666666666667,
          1.75,
          1.4,
          1.7272727272727273,
          1.4,
          2,
          1,
          1,
          1.4615384615384617,
          1.8,
          1.5714285714285714,
          2.25,
          1,
          1,
          null,
          null,
          1.5,
          1,
          2.4615384615384617,
          2.5,
          1.2857142857142858,
          1.4285714285714286,
          1.625,
          2.3684210526315788,
          1,
          1,
          null,
          1,
          1.4285714285714286,
          1.1666666666666667,
          1.2,
          1.4,
          2,
          1.25,
          1.4,
          1.5555555555555556,
          1.6666666666666667,
          1,
          1.818181818181818,
          1.5833333333333333,
          1.5,
          1.5,
          1,
          1.3333333333333333,
          1.75,
          1.0909090909090908,
          1.4545454545454546,
          1.8
         ],
         "y0": " ",
         "yaxis": "y"
        }
       ],
       "layout": {
        "boxmode": "group",
        "legend": {
         "title": {
          "text": "genotype"
         },
         "tracegroupgap": 0
        },
        "template": {
         "data": {
          "bar": [
           {
            "error_x": {
             "color": "#2a3f5f"
            },
            "error_y": {
             "color": "#2a3f5f"
            },
            "marker": {
             "line": {
              "color": "#E5ECF6",
              "width": 0.5
             },
             "pattern": {
              "fillmode": "overlay",
              "size": 10,
              "solidity": 0.2
             }
            },
            "type": "bar"
           }
          ],
          "barpolar": [
           {
            "marker": {
             "line": {
              "color": "#E5ECF6",
              "width": 0.5
             },
             "pattern": {
              "fillmode": "overlay",
              "size": 10,
              "solidity": 0.2
             }
            },
            "type": "barpolar"
           }
          ],
          "carpet": [
           {
            "aaxis": {
             "endlinecolor": "#2a3f5f",
             "gridcolor": "white",
             "linecolor": "white",
             "minorgridcolor": "white",
             "startlinecolor": "#2a3f5f"
            },
            "baxis": {
             "endlinecolor": "#2a3f5f",
             "gridcolor": "white",
             "linecolor": "white",
             "minorgridcolor": "white",
             "startlinecolor": "#2a3f5f"
            },
            "type": "carpet"
           }
          ],
          "choropleth": [
           {
            "colorbar": {
             "outlinewidth": 0,
             "ticks": ""
            },
            "type": "choropleth"
           }
          ],
          "contour": [
           {
            "colorbar": {
             "outlinewidth": 0,
             "ticks": ""
            },
            "colorscale": [
             [
              0,
              "#0d0887"
             ],
             [
              0.1111111111111111,
              "#46039f"
             ],
             [
              0.2222222222222222,
              "#7201a8"
             ],
             [
              0.3333333333333333,
              "#9c179e"
             ],
             [
              0.4444444444444444,
              "#bd3786"
             ],
             [
              0.5555555555555556,
              "#d8576b"
             ],
             [
              0.6666666666666666,
              "#ed7953"
             ],
             [
              0.7777777777777778,
              "#fb9f3a"
             ],
             [
              0.8888888888888888,
              "#fdca26"
             ],
             [
              1,
              "#f0f921"
             ]
            ],
            "type": "contour"
           }
          ],
          "contourcarpet": [
           {
            "colorbar": {
             "outlinewidth": 0,
             "ticks": ""
            },
            "type": "contourcarpet"
           }
          ],
          "heatmap": [
           {
            "colorbar": {
             "outlinewidth": 0,
             "ticks": ""
            },
            "colorscale": [
             [
              0,
              "#0d0887"
             ],
             [
              0.1111111111111111,
              "#46039f"
             ],
             [
              0.2222222222222222,
              "#7201a8"
             ],
             [
              0.3333333333333333,
              "#9c179e"
             ],
             [
              0.4444444444444444,
              "#bd3786"
             ],
             [
              0.5555555555555556,
              "#d8576b"
             ],
             [
              0.6666666666666666,
              "#ed7953"
             ],
             [
              0.7777777777777778,
              "#fb9f3a"
             ],
             [
              0.8888888888888888,
              "#fdca26"
             ],
             [
              1,
              "#f0f921"
             ]
            ],
            "type": "heatmap"
           }
          ],
          "heatmapgl": [
           {
            "colorbar": {
             "outlinewidth": 0,
             "ticks": ""
            },
            "colorscale": [
             [
              0,
              "#0d0887"
             ],
             [
              0.1111111111111111,
              "#46039f"
             ],
             [
              0.2222222222222222,
              "#7201a8"
             ],
             [
              0.3333333333333333,
              "#9c179e"
             ],
             [
              0.4444444444444444,
              "#bd3786"
             ],
             [
              0.5555555555555556,
              "#d8576b"
             ],
             [
              0.6666666666666666,
              "#ed7953"
             ],
             [
              0.7777777777777778,
              "#fb9f3a"
             ],
             [
              0.8888888888888888,
              "#fdca26"
             ],
             [
              1,
              "#f0f921"
             ]
            ],
            "type": "heatmapgl"
           }
          ],
          "histogram": [
           {
            "marker": {
             "pattern": {
              "fillmode": "overlay",
              "size": 10,
              "solidity": 0.2
             }
            },
            "type": "histogram"
           }
          ],
          "histogram2d": [
           {
            "colorbar": {
             "outlinewidth": 0,
             "ticks": ""
            },
            "colorscale": [
             [
              0,
              "#0d0887"
             ],
             [
              0.1111111111111111,
              "#46039f"
             ],
             [
              0.2222222222222222,
              "#7201a8"
             ],
             [
              0.3333333333333333,
              "#9c179e"
             ],
             [
              0.4444444444444444,
              "#bd3786"
             ],
             [
              0.5555555555555556,
              "#d8576b"
             ],
             [
              0.6666666666666666,
              "#ed7953"
             ],
             [
              0.7777777777777778,
              "#fb9f3a"
             ],
             [
              0.8888888888888888,
              "#fdca26"
             ],
             [
              1,
              "#f0f921"
             ]
            ],
            "type": "histogram2d"
           }
          ],
          "histogram2dcontour": [
           {
            "colorbar": {
             "outlinewidth": 0,
             "ticks": ""
            },
            "colorscale": [
             [
              0,
              "#0d0887"
             ],
             [
              0.1111111111111111,
              "#46039f"
             ],
             [
              0.2222222222222222,
              "#7201a8"
             ],
             [
              0.3333333333333333,
              "#9c179e"
             ],
             [
              0.4444444444444444,
              "#bd3786"
             ],
             [
              0.5555555555555556,
              "#d8576b"
             ],
             [
              0.6666666666666666,
              "#ed7953"
             ],
             [
              0.7777777777777778,
              "#fb9f3a"
             ],
             [
              0.8888888888888888,
              "#fdca26"
             ],
             [
              1,
              "#f0f921"
             ]
            ],
            "type": "histogram2dcontour"
           }
          ],
          "mesh3d": [
           {
            "colorbar": {
             "outlinewidth": 0,
             "ticks": ""
            },
            "type": "mesh3d"
           }
          ],
          "parcoords": [
           {
            "line": {
             "colorbar": {
              "outlinewidth": 0,
              "ticks": ""
             }
            },
            "type": "parcoords"
           }
          ],
          "pie": [
           {
            "automargin": true,
            "type": "pie"
           }
          ],
          "scatter": [
           {
            "fillpattern": {
             "fillmode": "overlay",
             "size": 10,
             "solidity": 0.2
            },
            "type": "scatter"
           }
          ],
          "scatter3d": [
           {
            "line": {
             "colorbar": {
              "outlinewidth": 0,
              "ticks": ""
             }
            },
            "marker": {
             "colorbar": {
              "outlinewidth": 0,
              "ticks": ""
             }
            },
            "type": "scatter3d"
           }
          ],
          "scattercarpet": [
           {
            "marker": {
             "colorbar": {
              "outlinewidth": 0,
              "ticks": ""
             }
            },
            "type": "scattercarpet"
           }
          ],
          "scattergeo": [
           {
            "marker": {
             "colorbar": {
              "outlinewidth": 0,
              "ticks": ""
             }
            },
            "type": "scattergeo"
           }
          ],
          "scattergl": [
           {
            "marker": {
             "colorbar": {
              "outlinewidth": 0,
              "ticks": ""
             }
            },
            "type": "scattergl"
           }
          ],
          "scattermapbox": [
           {
            "marker": {
             "colorbar": {
              "outlinewidth": 0,
              "ticks": ""
             }
            },
            "type": "scattermapbox"
           }
          ],
          "scatterpolar": [
           {
            "marker": {
             "colorbar": {
              "outlinewidth": 0,
              "ticks": ""
             }
            },
            "type": "scatterpolar"
           }
          ],
          "scatterpolargl": [
           {
            "marker": {
             "colorbar": {
              "outlinewidth": 0,
              "ticks": ""
             }
            },
            "type": "scatterpolargl"
           }
          ],
          "scatterternary": [
           {
            "marker": {
             "colorbar": {
              "outlinewidth": 0,
              "ticks": ""
             }
            },
            "type": "scatterternary"
           }
          ],
          "surface": [
           {
            "colorbar": {
             "outlinewidth": 0,
             "ticks": ""
            },
            "colorscale": [
             [
              0,
              "#0d0887"
             ],
             [
              0.1111111111111111,
              "#46039f"
             ],
             [
              0.2222222222222222,
              "#7201a8"
             ],
             [
              0.3333333333333333,
              "#9c179e"
             ],
             [
              0.4444444444444444,
              "#bd3786"
             ],
             [
              0.5555555555555556,
              "#d8576b"
             ],
             [
              0.6666666666666666,
              "#ed7953"
             ],
             [
              0.7777777777777778,
              "#fb9f3a"
             ],
             [
              0.8888888888888888,
              "#fdca26"
             ],
             [
              1,
              "#f0f921"
             ]
            ],
            "type": "surface"
           }
          ],
          "table": [
           {
            "cells": {
             "fill": {
              "color": "#EBF0F8"
             },
             "line": {
              "color": "white"
             }
            },
            "header": {
             "fill": {
              "color": "#C8D4E3"
             },
             "line": {
              "color": "white"
             }
            },
            "type": "table"
           }
          ]
         },
         "layout": {
          "annotationdefaults": {
           "arrowcolor": "#2a3f5f",
           "arrowhead": 0,
           "arrowwidth": 1
          },
          "autotypenumbers": "strict",
          "coloraxis": {
           "colorbar": {
            "outlinewidth": 0,
            "ticks": ""
           }
          },
          "colorscale": {
           "diverging": [
            [
             0,
             "#8e0152"
            ],
            [
             0.1,
             "#c51b7d"
            ],
            [
             0.2,
             "#de77ae"
            ],
            [
             0.3,
             "#f1b6da"
            ],
            [
             0.4,
             "#fde0ef"
            ],
            [
             0.5,
             "#f7f7f7"
            ],
            [
             0.6,
             "#e6f5d0"
            ],
            [
             0.7,
             "#b8e186"
            ],
            [
             0.8,
             "#7fbc41"
            ],
            [
             0.9,
             "#4d9221"
            ],
            [
             1,
             "#276419"
            ]
           ],
           "sequential": [
            [
             0,
             "#0d0887"
            ],
            [
             0.1111111111111111,
             "#46039f"
            ],
            [
             0.2222222222222222,
             "#7201a8"
            ],
            [
             0.3333333333333333,
             "#9c179e"
            ],
            [
             0.4444444444444444,
             "#bd3786"
            ],
            [
             0.5555555555555556,
             "#d8576b"
            ],
            [
             0.6666666666666666,
             "#ed7953"
            ],
            [
             0.7777777777777778,
             "#fb9f3a"
            ],
            [
             0.8888888888888888,
             "#fdca26"
            ],
            [
             1,
             "#f0f921"
            ]
           ],
           "sequentialminus": [
            [
             0,
             "#0d0887"
            ],
            [
             0.1111111111111111,
             "#46039f"
            ],
            [
             0.2222222222222222,
             "#7201a8"
            ],
            [
             0.3333333333333333,
             "#9c179e"
            ],
            [
             0.4444444444444444,
             "#bd3786"
            ],
            [
             0.5555555555555556,
             "#d8576b"
            ],
            [
             0.6666666666666666,
             "#ed7953"
            ],
            [
             0.7777777777777778,
             "#fb9f3a"
            ],
            [
             0.8888888888888888,
             "#fdca26"
            ],
            [
             1,
             "#f0f921"
            ]
           ]
          },
          "colorway": [
           "#636efa",
           "#EF553B",
           "#00cc96",
           "#ab63fa",
           "#FFA15A",
           "#19d3f3",
           "#FF6692",
           "#B6E880",
           "#FF97FF",
           "#FECB52"
          ],
          "font": {
           "color": "#2a3f5f"
          },
          "geo": {
           "bgcolor": "white",
           "lakecolor": "white",
           "landcolor": "#E5ECF6",
           "showlakes": true,
           "showland": true,
           "subunitcolor": "white"
          },
          "hoverlabel": {
           "align": "left"
          },
          "hovermode": "closest",
          "mapbox": {
           "style": "light"
          },
          "paper_bgcolor": "white",
          "plot_bgcolor": "#E5ECF6",
          "polar": {
           "angularaxis": {
            "gridcolor": "white",
            "linecolor": "white",
            "ticks": ""
           },
           "bgcolor": "#E5ECF6",
           "radialaxis": {
            "gridcolor": "white",
            "linecolor": "white",
            "ticks": ""
           }
          },
          "scene": {
           "xaxis": {
            "backgroundcolor": "#E5ECF6",
            "gridcolor": "white",
            "gridwidth": 2,
            "linecolor": "white",
            "showbackground": true,
            "ticks": "",
            "zerolinecolor": "white"
           },
           "yaxis": {
            "backgroundcolor": "#E5ECF6",
            "gridcolor": "white",
            "gridwidth": 2,
            "linecolor": "white",
            "showbackground": true,
            "ticks": "",
            "zerolinecolor": "white"
           },
           "zaxis": {
            "backgroundcolor": "#E5ECF6",
            "gridcolor": "white",
            "gridwidth": 2,
            "linecolor": "white",
            "showbackground": true,
            "ticks": "",
            "zerolinecolor": "white"
           }
          },
          "shapedefaults": {
           "line": {
            "color": "#2a3f5f"
           }
          },
          "ternary": {
           "aaxis": {
            "gridcolor": "white",
            "linecolor": "white",
            "ticks": ""
           },
           "baxis": {
            "gridcolor": "white",
            "linecolor": "white",
            "ticks": ""
           },
           "bgcolor": "#E5ECF6",
           "caxis": {
            "gridcolor": "white",
            "linecolor": "white",
            "ticks": ""
           }
          },
          "title": {
           "x": 0.05
          },
          "xaxis": {
           "automargin": true,
           "gridcolor": "white",
           "linecolor": "white",
           "ticks": "",
           "title": {
            "standoff": 15
           },
           "zerolinecolor": "white",
           "zerolinewidth": 2
          },
          "yaxis": {
           "automargin": true,
           "gridcolor": "white",
           "linecolor": "white",
           "ticks": "",
           "title": {
            "standoff": 15
           },
           "zerolinecolor": "white",
           "zerolinewidth": 2
          }
         }
        },
        "title": {
         "text": "DNA Damage Foci nr in Damage+ Microglia Nuclei by Tissue Location and Genotype (separated by sex) - Auto stain QC - cellpdia30_sigma1_dilrad4_dnad_obj_seg_v1_gliaero6_gliathr20_dnadero2"
        },
        "xaxis": {
         "anchor": "y",
         "categoryarray": [
          "male - CA1",
          "female - CA1",
          "male - CA3",
          "female - CA3",
          "male - CTX1",
          "female - CTX1",
          "male - CTX2",
          "female - CTX2",
          "male - CTX3",
          "female - CTX3",
          "male - DG",
          "female - DG"
         ],
         "categoryorder": "array",
         "domain": [
          0,
          1
         ],
         "title": {
          "text": "sex_tissue"
         }
        },
        "yaxis": {
         "anchor": "x",
         "domain": [
          0,
          1
         ],
         "title": {
          "text": "avg_dna_damage_foci/glia_+_damage_+"
         }
        }
       }
      }
     },
     "metadata": {},
     "output_type": "display_data"
    },
    {
     "data": {
      "application/vnd.plotly.v1+json": {
       "config": {
        "plotlyServerURL": "https://plot.ly"
       },
       "data": [
        {
         "alignmentgroup": "True",
         "hovertemplate": "genotype=APP/PS1<br>sex_tissue=%{x}<br>avg_dna_damage_foci/all_nuclei=%{y}<extra></extra>",
         "legendgroup": "APP/PS1",
         "marker": {
          "color": "#636efa"
         },
         "name": "APP/PS1",
         "notched": false,
         "offsetgroup": "APP/PS1",
         "orientation": "v",
         "showlegend": true,
         "type": "box",
         "x": [
          "female - CA1",
          "female - CA3",
          "female - CTX1",
          "female - CTX2",
          "female - CTX3",
          "female - DG",
          "male - CA1",
          "male - CA3",
          "male - CTX1",
          "male - CTX2",
          "male - CTX3",
          "male - DG",
          "male - CA1",
          "male - CA3",
          "male - CTX1",
          "male - CTX2",
          "male - CTX3",
          "male - CA1",
          "male - CA3",
          "male - CTX1",
          "male - CTX2",
          "male - CTX3",
          "male - DG",
          "female - CA1",
          "female - CA3",
          "female - CTX1",
          "female - CTX2",
          "female - CTX3",
          "female - DG",
          "male - CA1",
          "male - CA3",
          "male - CTX1",
          "male - CTX2",
          "male - CTX3",
          "male - DG",
          "male - CA1",
          "male - CA3",
          "male - CTX1",
          "male - CTX2",
          "male - CTX3",
          "male - DG",
          "female - CA1",
          "female - CA3",
          "female - CTX1",
          "female - CTX2",
          "female - CTX3",
          "female - DG",
          "male - CA1",
          "male - CA3",
          "male - CTX1",
          "male - CTX2",
          "male - CTX3",
          "male - DG",
          "male - CA1",
          "male - CA3",
          "male - CTX1",
          "male - CTX2",
          "male - CTX3",
          "male - DG",
          "female - CA1",
          "female - CA3",
          "female - CTX1",
          "female - CTX2",
          "female - CTX3",
          "female - DG",
          "female - CA1",
          "female - CA3",
          "female - CTX1",
          "female - CTX2",
          "female - CTX3",
          "female - DG",
          "male - CA1",
          "male - CA3",
          "male - CTX1",
          "male - CTX2",
          "male - CTX3",
          "male - DG",
          "female - CA1",
          "female - CA3",
          "female - CTX1",
          "female - CTX2",
          "female - CTX3",
          "female - DG",
          "male - CA1",
          "male - CA3",
          "male - CTX1",
          "male - CTX2",
          "male - CTX3",
          "male - DG",
          "male - CA1",
          "male - CA3",
          "male - CTX1",
          "male - CTX2",
          "male - CTX3",
          "male - DG",
          "female - CA1",
          "female - CA3",
          "female - CTX1",
          "female - CTX2",
          "female - CTX3",
          "female - DG",
          "female - CA1",
          "female - CA3",
          "female - CTX1",
          "female - CTX2",
          "female - CTX3",
          "female - DG"
         ],
         "x0": " ",
         "xaxis": "x",
         "y": [
          0.5733333333333334,
          0.934959349593496,
          0.9580838323353292,
          0.8983739837398373,
          0.759656652360515,
          1.3,
          0.3697916666666667,
          0.890625,
          0.7142857142857143,
          0.7781569965870307,
          0.8795180722891566,
          1.2924281984334205,
          0.6166666666666667,
          0.7849462365591398,
          0.47953216374269,
          1.125,
          0.9230769230769232,
          0.7114093959731543,
          0.9206349206349206,
          0.577922077922078,
          1.0289855072463767,
          0.7531380753138075,
          1.2686567164179106,
          1.206896551724138,
          1.2302158273381294,
          1.2880658436213992,
          1.0454545454545454,
          0.3928571428571428,
          1.633838383838384,
          0.6617647058823529,
          0.6491228070175439,
          0.387434554973822,
          0.075,
          0.7905405405405406,
          1.122969837587007,
          1.6158940397350994,
          1.9197080291970805,
          0.6090225563909775,
          1.78125,
          2.2216216216216216,
          2.067469879518072,
          0.528169014084507,
          0.8543689320388349,
          0.4444444444444444,
          0.5152671755725191,
          0.3668341708542713,
          1.1607629427792916,
          1.0059880239520955,
          0.9672131147540984,
          0.4766839378238341,
          0.6208333333333333,
          0.9178082191780822,
          1.6540880503144657,
          1.0666666666666669,
          1,
          1.9855769230769231,
          1.264840182648402,
          1.1965317919075145,
          1.663716814159292,
          0.8125,
          0.9111111111111112,
          0.369047619047619,
          0.4,
          0.2450331125827814,
          0.7377049180327869,
          0.4137931034482758,
          0.8058252427184466,
          0.5238095238095238,
          0.5225806451612903,
          0.7746478873239436,
          0.8067010309278351,
          0.3154362416107382,
          1.2772277227722773,
          1.4035874439461884,
          0.4009661835748792,
          0.9282296650717704,
          2.459537572254335,
          1.1333333333333333,
          0.6195652173913043,
          0.691304347826087,
          0.7406015037593985,
          0.7831858407079646,
          1.7268041237113405,
          0.375,
          0.811965811965812,
          0.2876712328767123,
          0.2227272727272727,
          0.4530386740331492,
          0.8927613941018767,
          0.5692307692307692,
          1.062992125984252,
          0.6907216494845361,
          0.7251461988304093,
          0.7797619047619048,
          1.2145110410094635,
          0.4961240310077519,
          0.6210526315789474,
          0.0534351145038167,
          0.7847222222222222,
          0.188235294117647,
          0.8403990024937655,
          0.5095541401273885,
          0.6515151515151515,
          0.5056179775280899,
          0.3388429752066115,
          0.3351063829787234,
          0.7286063569682152
         ],
         "y0": " ",
         "yaxis": "y"
        },
        {
         "alignmentgroup": "True",
         "hovertemplate": "genotype=APP/PS1 x Neil3 KO<br>sex_tissue=%{x}<br>avg_dna_damage_foci/all_nuclei=%{y}<extra></extra>",
         "legendgroup": "APP/PS1 x Neil3 KO",
         "marker": {
          "color": "#EF553B"
         },
         "name": "APP/PS1 x Neil3 KO",
         "notched": false,
         "offsetgroup": "APP/PS1 x Neil3 KO",
         "orientation": "v",
         "showlegend": true,
         "type": "box",
         "x": [
          "male - CA1",
          "male - CA3",
          "male - CTX1",
          "male - CTX2",
          "male - CTX3",
          "male - DG",
          "male - CA1",
          "male - CA3",
          "male - CTX1",
          "male - CTX2",
          "male - CTX3",
          "male - DG",
          "female - CA1",
          "female - CA3",
          "female - CTX1",
          "female - CTX2",
          "female - CTX3",
          "female - DG",
          "male - CA1",
          "male - CA3",
          "male - CTX1",
          "male - CTX2",
          "male - CTX3",
          "male - DG",
          "male - CA1",
          "male - CA3",
          "male - CTX1",
          "male - CTX2",
          "male - CTX3",
          "male - DG",
          "female - CA1",
          "female - CA3",
          "female - CTX1",
          "female - CTX2",
          "female - CTX3",
          "female - DG",
          "male - CA1",
          "male - CA3",
          "male - CTX1",
          "male - CTX2",
          "male - CTX3",
          "male - DG",
          "female - CA1",
          "female - CA3",
          "female - CTX1",
          "female - CTX2",
          "female - CTX3",
          "female - DG",
          "female - CA1",
          "female - CA3",
          "female - CTX1",
          "female - CTX2",
          "female - CTX3",
          "female - DG",
          "male - CA1",
          "male - CA3",
          "male - CTX1",
          "male - CTX2",
          "male - CTX3",
          "male - DG",
          "female - CA1",
          "female - CA3",
          "female - CTX1",
          "female - CTX2",
          "female - CTX3",
          "female - DG",
          "male - CA1",
          "male - CA3",
          "male - CTX1",
          "male - CTX2",
          "male - CTX3",
          "male - DG",
          "female - CA1",
          "female - CA3",
          "female - CTX1",
          "female - CTX2",
          "female - CTX3",
          "female - DG",
          "female - CA1",
          "female - CA3",
          "female - CTX1",
          "female - CTX2",
          "female - CTX3",
          "female - DG",
          "male - CA1",
          "male - CA3",
          "male - CTX1",
          "male - CTX2",
          "male - CTX3",
          "male - DG",
          "female - CA1",
          "female - CA3",
          "female - CTX1",
          "female - CTX2",
          "female - CTX3",
          "female - DG"
         ],
         "x0": " ",
         "xaxis": "x",
         "y": [
          0.573170731707317,
          0.9912280701754386,
          0.4683544303797468,
          1.1932773109243695,
          0.9247311827956988,
          1.4065281899109792,
          0.582010582010582,
          1.2662337662337662,
          0.765625,
          1.1553398058252426,
          0.84,
          1.1826625386996903,
          0.4294871794871794,
          0.7017543859649122,
          0.5714285714285714,
          0.6479591836734694,
          0.9433962264150944,
          1.0833333333333333,
          0.6598639455782312,
          1.054054054054054,
          0.5063291139240507,
          1.1487179487179486,
          0.9709302325581396,
          1.2449438202247192,
          0.6645161290322581,
          1.3245614035087718,
          0.5151515151515151,
          1.069182389937107,
          0.532608695652174,
          1.435483870967742,
          0.851063829787234,
          1,
          0.695,
          0.7688888888888888,
          1.0824742268041236,
          1.1310679611650485,
          0.8023255813953488,
          0.5223880597014925,
          0.6923076923076923,
          0.927536231884058,
          1.3451776649746192,
          2.452247191011236,
          0.7718120805369127,
          0.6386554621848739,
          0.7939698492462312,
          1.177664974619289,
          0.5952380952380952,
          1.025974025974026,
          0.759493670886076,
          0.9619565217391304,
          0.6696428571428571,
          1.3214285714285714,
          0.8301886792452831,
          1.528169014084507,
          0.363013698630137,
          0.7272727272727273,
          0.6645161290322581,
          0.6242038216560509,
          0.6486486486486487,
          1.189102564102564,
          0.6225165562913907,
          0.5,
          0.0736196319018405,
          0.1405405405405405,
          0.1785714285714285,
          1.0633608815426998,
          1.922619047619048,
          1.548780487804878,
          0.5304347826086957,
          0.3828828828828828,
          0.4492753623188406,
          2.2536945812807883,
          0.1866666666666666,
          0.4758064516129032,
          0.0157480314960629,
          0.180672268907563,
          0.7905759162303665,
          0.343811394891945,
          0.3939393939393939,
          0.6122448979591837,
          0.2903225806451613,
          0.5,
          0.5257731958762887,
          0.5926966292134831,
          0.6528925619834711,
          0.8761061946902655,
          0.5886524822695035,
          0.837696335078534,
          0.5677083333333334,
          0.7709677419354839,
          0.6390532544378699,
          0.45,
          0.6515151515151515,
          0.4041095890410959,
          0.4962962962962963,
          0.9853372434017597
         ],
         "y0": " ",
         "yaxis": "y"
        }
       ],
       "layout": {
        "boxmode": "group",
        "legend": {
         "title": {
          "text": "genotype"
         },
         "tracegroupgap": 0
        },
        "template": {
         "data": {
          "bar": [
           {
            "error_x": {
             "color": "#2a3f5f"
            },
            "error_y": {
             "color": "#2a3f5f"
            },
            "marker": {
             "line": {
              "color": "#E5ECF6",
              "width": 0.5
             },
             "pattern": {
              "fillmode": "overlay",
              "size": 10,
              "solidity": 0.2
             }
            },
            "type": "bar"
           }
          ],
          "barpolar": [
           {
            "marker": {
             "line": {
              "color": "#E5ECF6",
              "width": 0.5
             },
             "pattern": {
              "fillmode": "overlay",
              "size": 10,
              "solidity": 0.2
             }
            },
            "type": "barpolar"
           }
          ],
          "carpet": [
           {
            "aaxis": {
             "endlinecolor": "#2a3f5f",
             "gridcolor": "white",
             "linecolor": "white",
             "minorgridcolor": "white",
             "startlinecolor": "#2a3f5f"
            },
            "baxis": {
             "endlinecolor": "#2a3f5f",
             "gridcolor": "white",
             "linecolor": "white",
             "minorgridcolor": "white",
             "startlinecolor": "#2a3f5f"
            },
            "type": "carpet"
           }
          ],
          "choropleth": [
           {
            "colorbar": {
             "outlinewidth": 0,
             "ticks": ""
            },
            "type": "choropleth"
           }
          ],
          "contour": [
           {
            "colorbar": {
             "outlinewidth": 0,
             "ticks": ""
            },
            "colorscale": [
             [
              0,
              "#0d0887"
             ],
             [
              0.1111111111111111,
              "#46039f"
             ],
             [
              0.2222222222222222,
              "#7201a8"
             ],
             [
              0.3333333333333333,
              "#9c179e"
             ],
             [
              0.4444444444444444,
              "#bd3786"
             ],
             [
              0.5555555555555556,
              "#d8576b"
             ],
             [
              0.6666666666666666,
              "#ed7953"
             ],
             [
              0.7777777777777778,
              "#fb9f3a"
             ],
             [
              0.8888888888888888,
              "#fdca26"
             ],
             [
              1,
              "#f0f921"
             ]
            ],
            "type": "contour"
           }
          ],
          "contourcarpet": [
           {
            "colorbar": {
             "outlinewidth": 0,
             "ticks": ""
            },
            "type": "contourcarpet"
           }
          ],
          "heatmap": [
           {
            "colorbar": {
             "outlinewidth": 0,
             "ticks": ""
            },
            "colorscale": [
             [
              0,
              "#0d0887"
             ],
             [
              0.1111111111111111,
              "#46039f"
             ],
             [
              0.2222222222222222,
              "#7201a8"
             ],
             [
              0.3333333333333333,
              "#9c179e"
             ],
             [
              0.4444444444444444,
              "#bd3786"
             ],
             [
              0.5555555555555556,
              "#d8576b"
             ],
             [
              0.6666666666666666,
              "#ed7953"
             ],
             [
              0.7777777777777778,
              "#fb9f3a"
             ],
             [
              0.8888888888888888,
              "#fdca26"
             ],
             [
              1,
              "#f0f921"
             ]
            ],
            "type": "heatmap"
           }
          ],
          "heatmapgl": [
           {
            "colorbar": {
             "outlinewidth": 0,
             "ticks": ""
            },
            "colorscale": [
             [
              0,
              "#0d0887"
             ],
             [
              0.1111111111111111,
              "#46039f"
             ],
             [
              0.2222222222222222,
              "#7201a8"
             ],
             [
              0.3333333333333333,
              "#9c179e"
             ],
             [
              0.4444444444444444,
              "#bd3786"
             ],
             [
              0.5555555555555556,
              "#d8576b"
             ],
             [
              0.6666666666666666,
              "#ed7953"
             ],
             [
              0.7777777777777778,
              "#fb9f3a"
             ],
             [
              0.8888888888888888,
              "#fdca26"
             ],
             [
              1,
              "#f0f921"
             ]
            ],
            "type": "heatmapgl"
           }
          ],
          "histogram": [
           {
            "marker": {
             "pattern": {
              "fillmode": "overlay",
              "size": 10,
              "solidity": 0.2
             }
            },
            "type": "histogram"
           }
          ],
          "histogram2d": [
           {
            "colorbar": {
             "outlinewidth": 0,
             "ticks": ""
            },
            "colorscale": [
             [
              0,
              "#0d0887"
             ],
             [
              0.1111111111111111,
              "#46039f"
             ],
             [
              0.2222222222222222,
              "#7201a8"
             ],
             [
              0.3333333333333333,
              "#9c179e"
             ],
             [
              0.4444444444444444,
              "#bd3786"
             ],
             [
              0.5555555555555556,
              "#d8576b"
             ],
             [
              0.6666666666666666,
              "#ed7953"
             ],
             [
              0.7777777777777778,
              "#fb9f3a"
             ],
             [
              0.8888888888888888,
              "#fdca26"
             ],
             [
              1,
              "#f0f921"
             ]
            ],
            "type": "histogram2d"
           }
          ],
          "histogram2dcontour": [
           {
            "colorbar": {
             "outlinewidth": 0,
             "ticks": ""
            },
            "colorscale": [
             [
              0,
              "#0d0887"
             ],
             [
              0.1111111111111111,
              "#46039f"
             ],
             [
              0.2222222222222222,
              "#7201a8"
             ],
             [
              0.3333333333333333,
              "#9c179e"
             ],
             [
              0.4444444444444444,
              "#bd3786"
             ],
             [
              0.5555555555555556,
              "#d8576b"
             ],
             [
              0.6666666666666666,
              "#ed7953"
             ],
             [
              0.7777777777777778,
              "#fb9f3a"
             ],
             [
              0.8888888888888888,
              "#fdca26"
             ],
             [
              1,
              "#f0f921"
             ]
            ],
            "type": "histogram2dcontour"
           }
          ],
          "mesh3d": [
           {
            "colorbar": {
             "outlinewidth": 0,
             "ticks": ""
            },
            "type": "mesh3d"
           }
          ],
          "parcoords": [
           {
            "line": {
             "colorbar": {
              "outlinewidth": 0,
              "ticks": ""
             }
            },
            "type": "parcoords"
           }
          ],
          "pie": [
           {
            "automargin": true,
            "type": "pie"
           }
          ],
          "scatter": [
           {
            "fillpattern": {
             "fillmode": "overlay",
             "size": 10,
             "solidity": 0.2
            },
            "type": "scatter"
           }
          ],
          "scatter3d": [
           {
            "line": {
             "colorbar": {
              "outlinewidth": 0,
              "ticks": ""
             }
            },
            "marker": {
             "colorbar": {
              "outlinewidth": 0,
              "ticks": ""
             }
            },
            "type": "scatter3d"
           }
          ],
          "scattercarpet": [
           {
            "marker": {
             "colorbar": {
              "outlinewidth": 0,
              "ticks": ""
             }
            },
            "type": "scattercarpet"
           }
          ],
          "scattergeo": [
           {
            "marker": {
             "colorbar": {
              "outlinewidth": 0,
              "ticks": ""
             }
            },
            "type": "scattergeo"
           }
          ],
          "scattergl": [
           {
            "marker": {
             "colorbar": {
              "outlinewidth": 0,
              "ticks": ""
             }
            },
            "type": "scattergl"
           }
          ],
          "scattermapbox": [
           {
            "marker": {
             "colorbar": {
              "outlinewidth": 0,
              "ticks": ""
             }
            },
            "type": "scattermapbox"
           }
          ],
          "scatterpolar": [
           {
            "marker": {
             "colorbar": {
              "outlinewidth": 0,
              "ticks": ""
             }
            },
            "type": "scatterpolar"
           }
          ],
          "scatterpolargl": [
           {
            "marker": {
             "colorbar": {
              "outlinewidth": 0,
              "ticks": ""
             }
            },
            "type": "scatterpolargl"
           }
          ],
          "scatterternary": [
           {
            "marker": {
             "colorbar": {
              "outlinewidth": 0,
              "ticks": ""
             }
            },
            "type": "scatterternary"
           }
          ],
          "surface": [
           {
            "colorbar": {
             "outlinewidth": 0,
             "ticks": ""
            },
            "colorscale": [
             [
              0,
              "#0d0887"
             ],
             [
              0.1111111111111111,
              "#46039f"
             ],
             [
              0.2222222222222222,
              "#7201a8"
             ],
             [
              0.3333333333333333,
              "#9c179e"
             ],
             [
              0.4444444444444444,
              "#bd3786"
             ],
             [
              0.5555555555555556,
              "#d8576b"
             ],
             [
              0.6666666666666666,
              "#ed7953"
             ],
             [
              0.7777777777777778,
              "#fb9f3a"
             ],
             [
              0.8888888888888888,
              "#fdca26"
             ],
             [
              1,
              "#f0f921"
             ]
            ],
            "type": "surface"
           }
          ],
          "table": [
           {
            "cells": {
             "fill": {
              "color": "#EBF0F8"
             },
             "line": {
              "color": "white"
             }
            },
            "header": {
             "fill": {
              "color": "#C8D4E3"
             },
             "line": {
              "color": "white"
             }
            },
            "type": "table"
           }
          ]
         },
         "layout": {
          "annotationdefaults": {
           "arrowcolor": "#2a3f5f",
           "arrowhead": 0,
           "arrowwidth": 1
          },
          "autotypenumbers": "strict",
          "coloraxis": {
           "colorbar": {
            "outlinewidth": 0,
            "ticks": ""
           }
          },
          "colorscale": {
           "diverging": [
            [
             0,
             "#8e0152"
            ],
            [
             0.1,
             "#c51b7d"
            ],
            [
             0.2,
             "#de77ae"
            ],
            [
             0.3,
             "#f1b6da"
            ],
            [
             0.4,
             "#fde0ef"
            ],
            [
             0.5,
             "#f7f7f7"
            ],
            [
             0.6,
             "#e6f5d0"
            ],
            [
             0.7,
             "#b8e186"
            ],
            [
             0.8,
             "#7fbc41"
            ],
            [
             0.9,
             "#4d9221"
            ],
            [
             1,
             "#276419"
            ]
           ],
           "sequential": [
            [
             0,
             "#0d0887"
            ],
            [
             0.1111111111111111,
             "#46039f"
            ],
            [
             0.2222222222222222,
             "#7201a8"
            ],
            [
             0.3333333333333333,
             "#9c179e"
            ],
            [
             0.4444444444444444,
             "#bd3786"
            ],
            [
             0.5555555555555556,
             "#d8576b"
            ],
            [
             0.6666666666666666,
             "#ed7953"
            ],
            [
             0.7777777777777778,
             "#fb9f3a"
            ],
            [
             0.8888888888888888,
             "#fdca26"
            ],
            [
             1,
             "#f0f921"
            ]
           ],
           "sequentialminus": [
            [
             0,
             "#0d0887"
            ],
            [
             0.1111111111111111,
             "#46039f"
            ],
            [
             0.2222222222222222,
             "#7201a8"
            ],
            [
             0.3333333333333333,
             "#9c179e"
            ],
            [
             0.4444444444444444,
             "#bd3786"
            ],
            [
             0.5555555555555556,
             "#d8576b"
            ],
            [
             0.6666666666666666,
             "#ed7953"
            ],
            [
             0.7777777777777778,
             "#fb9f3a"
            ],
            [
             0.8888888888888888,
             "#fdca26"
            ],
            [
             1,
             "#f0f921"
            ]
           ]
          },
          "colorway": [
           "#636efa",
           "#EF553B",
           "#00cc96",
           "#ab63fa",
           "#FFA15A",
           "#19d3f3",
           "#FF6692",
           "#B6E880",
           "#FF97FF",
           "#FECB52"
          ],
          "font": {
           "color": "#2a3f5f"
          },
          "geo": {
           "bgcolor": "white",
           "lakecolor": "white",
           "landcolor": "#E5ECF6",
           "showlakes": true,
           "showland": true,
           "subunitcolor": "white"
          },
          "hoverlabel": {
           "align": "left"
          },
          "hovermode": "closest",
          "mapbox": {
           "style": "light"
          },
          "paper_bgcolor": "white",
          "plot_bgcolor": "#E5ECF6",
          "polar": {
           "angularaxis": {
            "gridcolor": "white",
            "linecolor": "white",
            "ticks": ""
           },
           "bgcolor": "#E5ECF6",
           "radialaxis": {
            "gridcolor": "white",
            "linecolor": "white",
            "ticks": ""
           }
          },
          "scene": {
           "xaxis": {
            "backgroundcolor": "#E5ECF6",
            "gridcolor": "white",
            "gridwidth": 2,
            "linecolor": "white",
            "showbackground": true,
            "ticks": "",
            "zerolinecolor": "white"
           },
           "yaxis": {
            "backgroundcolor": "#E5ECF6",
            "gridcolor": "white",
            "gridwidth": 2,
            "linecolor": "white",
            "showbackground": true,
            "ticks": "",
            "zerolinecolor": "white"
           },
           "zaxis": {
            "backgroundcolor": "#E5ECF6",
            "gridcolor": "white",
            "gridwidth": 2,
            "linecolor": "white",
            "showbackground": true,
            "ticks": "",
            "zerolinecolor": "white"
           }
          },
          "shapedefaults": {
           "line": {
            "color": "#2a3f5f"
           }
          },
          "ternary": {
           "aaxis": {
            "gridcolor": "white",
            "linecolor": "white",
            "ticks": ""
           },
           "baxis": {
            "gridcolor": "white",
            "linecolor": "white",
            "ticks": ""
           },
           "bgcolor": "#E5ECF6",
           "caxis": {
            "gridcolor": "white",
            "linecolor": "white",
            "ticks": ""
           }
          },
          "title": {
           "x": 0.05
          },
          "xaxis": {
           "automargin": true,
           "gridcolor": "white",
           "linecolor": "white",
           "ticks": "",
           "title": {
            "standoff": 15
           },
           "zerolinecolor": "white",
           "zerolinewidth": 2
          },
          "yaxis": {
           "automargin": true,
           "gridcolor": "white",
           "linecolor": "white",
           "ticks": "",
           "title": {
            "standoff": 15
           },
           "zerolinecolor": "white",
           "zerolinewidth": 2
          }
         }
        },
        "title": {
         "text": "DNA Damage Foci nr in All Nuclei by Tissue Location and Genotype (separated by sex) - Auto stain QC - cellpdia30_sigma1_dilrad4_dnad_obj_seg_v1_gliaero6_gliathr20_dnadero2"
        },
        "xaxis": {
         "anchor": "y",
         "categoryarray": [
          "male - CA1",
          "female - CA1",
          "male - CA3",
          "female - CA3",
          "male - CTX1",
          "female - CTX1",
          "male - CTX2",
          "female - CTX2",
          "male - CTX3",
          "female - CTX3",
          "male - DG",
          "female - DG"
         ],
         "categoryorder": "array",
         "domain": [
          0,
          1
         ],
         "title": {
          "text": "sex_tissue"
         }
        },
        "yaxis": {
         "anchor": "x",
         "domain": [
          0,
          1
         ],
         "title": {
          "text": "avg_dna_damage_foci/all_nuclei"
         }
        }
       }
      }
     },
     "metadata": {},
     "output_type": "display_data"
    },
    {
     "data": {
      "application/vnd.plotly.v1+json": {
       "config": {
        "plotlyServerURL": "https://plot.ly"
       },
       "data": [
        {
         "alignmentgroup": "True",
         "hovertemplate": "genotype=APP/PS1<br>sex_tissue=%{x}<br>avg_dna_damage_foci/all_nuclei_damage_+=%{y}<extra></extra>",
         "legendgroup": "APP/PS1",
         "marker": {
          "color": "#636efa"
         },
         "name": "APP/PS1",
         "notched": false,
         "offsetgroup": "APP/PS1",
         "orientation": "v",
         "showlegend": true,
         "type": "box",
         "x": [
          "female - CA1",
          "female - CA3",
          "female - CTX1",
          "female - CTX2",
          "female - CTX3",
          "female - DG",
          "male - CA1",
          "male - CA3",
          "male - CTX1",
          "male - CTX2",
          "male - CTX3",
          "male - DG",
          "male - CA1",
          "male - CA3",
          "male - CTX1",
          "male - CTX2",
          "male - CTX3",
          "male - CA1",
          "male - CA3",
          "male - CTX1",
          "male - CTX2",
          "male - CTX3",
          "male - DG",
          "female - CA1",
          "female - CA3",
          "female - CTX1",
          "female - CTX2",
          "female - CTX3",
          "female - DG",
          "male - CA1",
          "male - CA3",
          "male - CTX1",
          "male - CTX2",
          "male - CTX3",
          "male - DG",
          "male - CA1",
          "male - CA3",
          "male - CTX1",
          "male - CTX2",
          "male - CTX3",
          "male - DG",
          "female - CA1",
          "female - CA3",
          "female - CTX1",
          "female - CTX2",
          "female - CTX3",
          "female - DG",
          "male - CA1",
          "male - CA3",
          "male - CTX1",
          "male - CTX2",
          "male - CTX3",
          "male - DG",
          "male - CA1",
          "male - CA3",
          "male - CTX1",
          "male - CTX2",
          "male - CTX3",
          "male - DG",
          "female - CA1",
          "female - CA3",
          "female - CTX1",
          "female - CTX2",
          "female - CTX3",
          "female - DG",
          "female - CA1",
          "female - CA3",
          "female - CTX1",
          "female - CTX2",
          "female - CTX3",
          "female - DG",
          "male - CA1",
          "male - CA3",
          "male - CTX1",
          "male - CTX2",
          "male - CTX3",
          "male - DG",
          "female - CA1",
          "female - CA3",
          "female - CTX1",
          "female - CTX2",
          "female - CTX3",
          "female - DG",
          "male - CA1",
          "male - CA3",
          "male - CTX1",
          "male - CTX2",
          "male - CTX3",
          "male - DG",
          "male - CA1",
          "male - CA3",
          "male - CTX1",
          "male - CTX2",
          "male - CTX3",
          "male - DG",
          "female - CA1",
          "female - CA3",
          "female - CTX1",
          "female - CTX2",
          "female - CTX3",
          "female - DG",
          "female - CA1",
          "female - CA3",
          "female - CTX1",
          "female - CTX2",
          "female - CTX3",
          "female - DG"
         ],
         "x0": " ",
         "xaxis": "x",
         "y": [
          1.4098360655737705,
          1.513157894736842,
          1.415929203539823,
          1.4076433121019107,
          1.3014705882352942,
          1.5350553505535056,
          1.1451612903225807,
          1.5616438356164384,
          1.2980769230769231,
          1.425,
          1.431372549019608,
          1.523076923076923,
          1.1746031746031746,
          1.431372549019608,
          1.1884057971014492,
          1.736842105263158,
          1.5384615384615383,
          1.325,
          1.4871794871794872,
          1.2191780821917808,
          1.4489795918367347,
          1.313868613138686,
          1.5625,
          1.9626168224299063,
          2.25,
          2.045751633986928,
          2.0145985401459856,
          1.32,
          1.9313432835820896,
          1.3043478260869563,
          1.5416666666666667,
          1.15625,
          1.125,
          1.4444444444444444,
          1.4622356495468278,
          2.259259259259259,
          3.058139534883721,
          1.265625,
          2.7142857142857144,
          2.8541666666666665,
          2.2698412698412698,
          1.3392857142857142,
          1.5714285714285714,
          1.181818181818182,
          1.3235294117647058,
          1.351851851851852,
          1.7387755102040816,
          1.5555555555555556,
          1.487394957983193,
          1.1794871794871795,
          1.2735042735042734,
          1.6144578313253013,
          1.940959409594096,
          1.5042735042735045,
          1.546875,
          2.4730538922155687,
          1.720496894409938,
          1.5923076923076922,
          1.9515570934256052,
          1.2580645161290325,
          1.607843137254902,
          1.1071428571428572,
          1.1875,
          1.0277777777777777,
          1.3533834586466165,
          1.1538461538461535,
          1.66,
          1.1578947368421053,
          1.2272727272727273,
          1.375,
          1.4227272727272726,
          1.068181818181818,
          1.7551020408163265,
          2.143835616438356,
          1.1857142857142855,
          1.779816513761468,
          2.7363344051446945,
          1.5813953488372092,
          1.425,
          1.261904761904762,
          1.2547770700636942,
          1.3208955223880596,
          2.0743034055727554,
          1.148936170212766,
          1.484375,
          1.2,
          1.0425531914893618,
          1.28125,
          1.3875,
          1.2982456140350878,
          1.588235294117647,
          1.4565217391304348,
          1.3777777777777778,
          1.4719101123595506,
          1.6041666666666667,
          1.2075471698113207,
          1.5526315789473684,
          1,
          1.3950617283950617,
          1.3333333333333333,
          1.3534136546184738,
          1.2121212121212122,
          1.5636363636363635,
          1.2328767123287672,
          1.1232876712328768,
          1.2115384615384617,
          1.4396135265700485
         ],
         "y0": " ",
         "yaxis": "y"
        },
        {
         "alignmentgroup": "True",
         "hovertemplate": "genotype=APP/PS1 x Neil3 KO<br>sex_tissue=%{x}<br>avg_dna_damage_foci/all_nuclei_damage_+=%{y}<extra></extra>",
         "legendgroup": "APP/PS1 x Neil3 KO",
         "marker": {
          "color": "#EF553B"
         },
         "name": "APP/PS1 x Neil3 KO",
         "notched": false,
         "offsetgroup": "APP/PS1 x Neil3 KO",
         "orientation": "v",
         "showlegend": true,
         "type": "box",
         "x": [
          "male - CA1",
          "male - CA3",
          "male - CTX1",
          "male - CTX2",
          "male - CTX3",
          "male - DG",
          "male - CA1",
          "male - CA3",
          "male - CTX1",
          "male - CTX2",
          "male - CTX3",
          "male - DG",
          "female - CA1",
          "female - CA3",
          "female - CTX1",
          "female - CTX2",
          "female - CTX3",
          "female - DG",
          "male - CA1",
          "male - CA3",
          "male - CTX1",
          "male - CTX2",
          "male - CTX3",
          "male - DG",
          "male - CA1",
          "male - CA3",
          "male - CTX1",
          "male - CTX2",
          "male - CTX3",
          "male - DG",
          "female - CA1",
          "female - CA3",
          "female - CTX1",
          "female - CTX2",
          "female - CTX3",
          "female - DG",
          "male - CA1",
          "male - CA3",
          "male - CTX1",
          "male - CTX2",
          "male - CTX3",
          "male - DG",
          "female - CA1",
          "female - CA3",
          "female - CTX1",
          "female - CTX2",
          "female - CTX3",
          "female - DG",
          "female - CA1",
          "female - CA3",
          "female - CTX1",
          "female - CTX2",
          "female - CTX3",
          "female - DG",
          "male - CA1",
          "male - CA3",
          "male - CTX1",
          "male - CTX2",
          "male - CTX3",
          "male - DG",
          "female - CA1",
          "female - CA3",
          "female - CTX1",
          "female - CTX2",
          "female - CTX3",
          "female - DG",
          "male - CA1",
          "male - CA3",
          "male - CTX1",
          "male - CTX2",
          "male - CTX3",
          "male - DG",
          "female - CA1",
          "female - CA3",
          "female - CTX1",
          "female - CTX2",
          "female - CTX3",
          "female - DG",
          "female - CA1",
          "female - CA3",
          "female - CTX1",
          "female - CTX2",
          "female - CTX3",
          "female - DG",
          "male - CA1",
          "male - CA3",
          "male - CTX1",
          "male - CTX2",
          "male - CTX3",
          "male - DG",
          "female - CA1",
          "female - CA3",
          "female - CTX1",
          "female - CTX2",
          "female - CTX3",
          "female - DG"
         ],
         "x0": " ",
         "xaxis": "x",
         "y": [
          1.160493827160494,
          1.547945205479452,
          1.088235294117647,
          1.6045197740112995,
          1.5221238938053097,
          1.6573426573426573,
          1.1111111111111112,
          1.788990825688073,
          1.2894736842105263,
          1.75,
          1.381578947368421,
          1.6050420168067228,
          1.098360655737705,
          1.3333333333333333,
          1.1666666666666667,
          1.27,
          1.5789473684210529,
          1.5260869565217392,
          1.2125,
          1.8870967741935485,
          1.2307692307692308,
          1.763779527559055,
          1.518181818181818,
          1.5261707988980715,
          1.3037974683544304,
          2.126760563380281,
          1.2289156626506024,
          1.6037735849056605,
          1.3611111111111112,
          1.7682119205298013,
          1.3333333333333333,
          1.7833333333333334,
          1.376237623762376,
          1.3410852713178294,
          2.019230769230769,
          1.4793650793650794,
          1.2545454545454546,
          1.3461538461538465,
          1.44,
          1.9393939393939397,
          1.8928571428571428,
          2.686153846153846,
          1.2921348314606742,
          1.4901960784313726,
          1.462962962962963,
          1.6934306569343065,
          1.3157894736842106,
          1.4363636363636365,
          1.3333333333333333,
          1.462809917355372,
          1.2295081967213115,
          1.9770992366412212,
          1.5172413793103448,
          1.8706896551724137,
          1.1041666666666667,
          1.3333333333333333,
          1.3376623376623376,
          1.240506329113924,
          1.2903225806451613,
          1.5142857142857142,
          1.1898734177215189,
          1.351351351351351,
          1,
          1.1304347826086956,
          1.1904761904761905,
          1.413919413919414,
          2.691666666666667,
          2.4423076923076925,
          1.4352941176470588,
          1.2318840579710144,
          1.3676470588235294,
          2.563025210084034,
          1.2173913043478262,
          1.3409090909090908,
          1,
          1.1025641025641026,
          1.4245283018867925,
          1.1513157894736843,
          1.1304347826086956,
          1.5,
          1.44,
          1.2253521126760565,
          1.3421052631578947,
          1.2057142857142855,
          1.2153846153846153,
          1.4776119402985075,
          1.3174603174603174,
          1.4678899082568808,
          1.313253012048193,
          1.2780748663101604,
          1.2413793103448276,
          1.25,
          1.2169811320754718,
          1.2040816326530612,
          1.2407407407407407,
          1.360323886639676
         ],
         "y0": " ",
         "yaxis": "y"
        }
       ],
       "layout": {
        "boxmode": "group",
        "legend": {
         "title": {
          "text": "genotype"
         },
         "tracegroupgap": 0
        },
        "template": {
         "data": {
          "bar": [
           {
            "error_x": {
             "color": "#2a3f5f"
            },
            "error_y": {
             "color": "#2a3f5f"
            },
            "marker": {
             "line": {
              "color": "#E5ECF6",
              "width": 0.5
             },
             "pattern": {
              "fillmode": "overlay",
              "size": 10,
              "solidity": 0.2
             }
            },
            "type": "bar"
           }
          ],
          "barpolar": [
           {
            "marker": {
             "line": {
              "color": "#E5ECF6",
              "width": 0.5
             },
             "pattern": {
              "fillmode": "overlay",
              "size": 10,
              "solidity": 0.2
             }
            },
            "type": "barpolar"
           }
          ],
          "carpet": [
           {
            "aaxis": {
             "endlinecolor": "#2a3f5f",
             "gridcolor": "white",
             "linecolor": "white",
             "minorgridcolor": "white",
             "startlinecolor": "#2a3f5f"
            },
            "baxis": {
             "endlinecolor": "#2a3f5f",
             "gridcolor": "white",
             "linecolor": "white",
             "minorgridcolor": "white",
             "startlinecolor": "#2a3f5f"
            },
            "type": "carpet"
           }
          ],
          "choropleth": [
           {
            "colorbar": {
             "outlinewidth": 0,
             "ticks": ""
            },
            "type": "choropleth"
           }
          ],
          "contour": [
           {
            "colorbar": {
             "outlinewidth": 0,
             "ticks": ""
            },
            "colorscale": [
             [
              0,
              "#0d0887"
             ],
             [
              0.1111111111111111,
              "#46039f"
             ],
             [
              0.2222222222222222,
              "#7201a8"
             ],
             [
              0.3333333333333333,
              "#9c179e"
             ],
             [
              0.4444444444444444,
              "#bd3786"
             ],
             [
              0.5555555555555556,
              "#d8576b"
             ],
             [
              0.6666666666666666,
              "#ed7953"
             ],
             [
              0.7777777777777778,
              "#fb9f3a"
             ],
             [
              0.8888888888888888,
              "#fdca26"
             ],
             [
              1,
              "#f0f921"
             ]
            ],
            "type": "contour"
           }
          ],
          "contourcarpet": [
           {
            "colorbar": {
             "outlinewidth": 0,
             "ticks": ""
            },
            "type": "contourcarpet"
           }
          ],
          "heatmap": [
           {
            "colorbar": {
             "outlinewidth": 0,
             "ticks": ""
            },
            "colorscale": [
             [
              0,
              "#0d0887"
             ],
             [
              0.1111111111111111,
              "#46039f"
             ],
             [
              0.2222222222222222,
              "#7201a8"
             ],
             [
              0.3333333333333333,
              "#9c179e"
             ],
             [
              0.4444444444444444,
              "#bd3786"
             ],
             [
              0.5555555555555556,
              "#d8576b"
             ],
             [
              0.6666666666666666,
              "#ed7953"
             ],
             [
              0.7777777777777778,
              "#fb9f3a"
             ],
             [
              0.8888888888888888,
              "#fdca26"
             ],
             [
              1,
              "#f0f921"
             ]
            ],
            "type": "heatmap"
           }
          ],
          "heatmapgl": [
           {
            "colorbar": {
             "outlinewidth": 0,
             "ticks": ""
            },
            "colorscale": [
             [
              0,
              "#0d0887"
             ],
             [
              0.1111111111111111,
              "#46039f"
             ],
             [
              0.2222222222222222,
              "#7201a8"
             ],
             [
              0.3333333333333333,
              "#9c179e"
             ],
             [
              0.4444444444444444,
              "#bd3786"
             ],
             [
              0.5555555555555556,
              "#d8576b"
             ],
             [
              0.6666666666666666,
              "#ed7953"
             ],
             [
              0.7777777777777778,
              "#fb9f3a"
             ],
             [
              0.8888888888888888,
              "#fdca26"
             ],
             [
              1,
              "#f0f921"
             ]
            ],
            "type": "heatmapgl"
           }
          ],
          "histogram": [
           {
            "marker": {
             "pattern": {
              "fillmode": "overlay",
              "size": 10,
              "solidity": 0.2
             }
            },
            "type": "histogram"
           }
          ],
          "histogram2d": [
           {
            "colorbar": {
             "outlinewidth": 0,
             "ticks": ""
            },
            "colorscale": [
             [
              0,
              "#0d0887"
             ],
             [
              0.1111111111111111,
              "#46039f"
             ],
             [
              0.2222222222222222,
              "#7201a8"
             ],
             [
              0.3333333333333333,
              "#9c179e"
             ],
             [
              0.4444444444444444,
              "#bd3786"
             ],
             [
              0.5555555555555556,
              "#d8576b"
             ],
             [
              0.6666666666666666,
              "#ed7953"
             ],
             [
              0.7777777777777778,
              "#fb9f3a"
             ],
             [
              0.8888888888888888,
              "#fdca26"
             ],
             [
              1,
              "#f0f921"
             ]
            ],
            "type": "histogram2d"
           }
          ],
          "histogram2dcontour": [
           {
            "colorbar": {
             "outlinewidth": 0,
             "ticks": ""
            },
            "colorscale": [
             [
              0,
              "#0d0887"
             ],
             [
              0.1111111111111111,
              "#46039f"
             ],
             [
              0.2222222222222222,
              "#7201a8"
             ],
             [
              0.3333333333333333,
              "#9c179e"
             ],
             [
              0.4444444444444444,
              "#bd3786"
             ],
             [
              0.5555555555555556,
              "#d8576b"
             ],
             [
              0.6666666666666666,
              "#ed7953"
             ],
             [
              0.7777777777777778,
              "#fb9f3a"
             ],
             [
              0.8888888888888888,
              "#fdca26"
             ],
             [
              1,
              "#f0f921"
             ]
            ],
            "type": "histogram2dcontour"
           }
          ],
          "mesh3d": [
           {
            "colorbar": {
             "outlinewidth": 0,
             "ticks": ""
            },
            "type": "mesh3d"
           }
          ],
          "parcoords": [
           {
            "line": {
             "colorbar": {
              "outlinewidth": 0,
              "ticks": ""
             }
            },
            "type": "parcoords"
           }
          ],
          "pie": [
           {
            "automargin": true,
            "type": "pie"
           }
          ],
          "scatter": [
           {
            "fillpattern": {
             "fillmode": "overlay",
             "size": 10,
             "solidity": 0.2
            },
            "type": "scatter"
           }
          ],
          "scatter3d": [
           {
            "line": {
             "colorbar": {
              "outlinewidth": 0,
              "ticks": ""
             }
            },
            "marker": {
             "colorbar": {
              "outlinewidth": 0,
              "ticks": ""
             }
            },
            "type": "scatter3d"
           }
          ],
          "scattercarpet": [
           {
            "marker": {
             "colorbar": {
              "outlinewidth": 0,
              "ticks": ""
             }
            },
            "type": "scattercarpet"
           }
          ],
          "scattergeo": [
           {
            "marker": {
             "colorbar": {
              "outlinewidth": 0,
              "ticks": ""
             }
            },
            "type": "scattergeo"
           }
          ],
          "scattergl": [
           {
            "marker": {
             "colorbar": {
              "outlinewidth": 0,
              "ticks": ""
             }
            },
            "type": "scattergl"
           }
          ],
          "scattermapbox": [
           {
            "marker": {
             "colorbar": {
              "outlinewidth": 0,
              "ticks": ""
             }
            },
            "type": "scattermapbox"
           }
          ],
          "scatterpolar": [
           {
            "marker": {
             "colorbar": {
              "outlinewidth": 0,
              "ticks": ""
             }
            },
            "type": "scatterpolar"
           }
          ],
          "scatterpolargl": [
           {
            "marker": {
             "colorbar": {
              "outlinewidth": 0,
              "ticks": ""
             }
            },
            "type": "scatterpolargl"
           }
          ],
          "scatterternary": [
           {
            "marker": {
             "colorbar": {
              "outlinewidth": 0,
              "ticks": ""
             }
            },
            "type": "scatterternary"
           }
          ],
          "surface": [
           {
            "colorbar": {
             "outlinewidth": 0,
             "ticks": ""
            },
            "colorscale": [
             [
              0,
              "#0d0887"
             ],
             [
              0.1111111111111111,
              "#46039f"
             ],
             [
              0.2222222222222222,
              "#7201a8"
             ],
             [
              0.3333333333333333,
              "#9c179e"
             ],
             [
              0.4444444444444444,
              "#bd3786"
             ],
             [
              0.5555555555555556,
              "#d8576b"
             ],
             [
              0.6666666666666666,
              "#ed7953"
             ],
             [
              0.7777777777777778,
              "#fb9f3a"
             ],
             [
              0.8888888888888888,
              "#fdca26"
             ],
             [
              1,
              "#f0f921"
             ]
            ],
            "type": "surface"
           }
          ],
          "table": [
           {
            "cells": {
             "fill": {
              "color": "#EBF0F8"
             },
             "line": {
              "color": "white"
             }
            },
            "header": {
             "fill": {
              "color": "#C8D4E3"
             },
             "line": {
              "color": "white"
             }
            },
            "type": "table"
           }
          ]
         },
         "layout": {
          "annotationdefaults": {
           "arrowcolor": "#2a3f5f",
           "arrowhead": 0,
           "arrowwidth": 1
          },
          "autotypenumbers": "strict",
          "coloraxis": {
           "colorbar": {
            "outlinewidth": 0,
            "ticks": ""
           }
          },
          "colorscale": {
           "diverging": [
            [
             0,
             "#8e0152"
            ],
            [
             0.1,
             "#c51b7d"
            ],
            [
             0.2,
             "#de77ae"
            ],
            [
             0.3,
             "#f1b6da"
            ],
            [
             0.4,
             "#fde0ef"
            ],
            [
             0.5,
             "#f7f7f7"
            ],
            [
             0.6,
             "#e6f5d0"
            ],
            [
             0.7,
             "#b8e186"
            ],
            [
             0.8,
             "#7fbc41"
            ],
            [
             0.9,
             "#4d9221"
            ],
            [
             1,
             "#276419"
            ]
           ],
           "sequential": [
            [
             0,
             "#0d0887"
            ],
            [
             0.1111111111111111,
             "#46039f"
            ],
            [
             0.2222222222222222,
             "#7201a8"
            ],
            [
             0.3333333333333333,
             "#9c179e"
            ],
            [
             0.4444444444444444,
             "#bd3786"
            ],
            [
             0.5555555555555556,
             "#d8576b"
            ],
            [
             0.6666666666666666,
             "#ed7953"
            ],
            [
             0.7777777777777778,
             "#fb9f3a"
            ],
            [
             0.8888888888888888,
             "#fdca26"
            ],
            [
             1,
             "#f0f921"
            ]
           ],
           "sequentialminus": [
            [
             0,
             "#0d0887"
            ],
            [
             0.1111111111111111,
             "#46039f"
            ],
            [
             0.2222222222222222,
             "#7201a8"
            ],
            [
             0.3333333333333333,
             "#9c179e"
            ],
            [
             0.4444444444444444,
             "#bd3786"
            ],
            [
             0.5555555555555556,
             "#d8576b"
            ],
            [
             0.6666666666666666,
             "#ed7953"
            ],
            [
             0.7777777777777778,
             "#fb9f3a"
            ],
            [
             0.8888888888888888,
             "#fdca26"
            ],
            [
             1,
             "#f0f921"
            ]
           ]
          },
          "colorway": [
           "#636efa",
           "#EF553B",
           "#00cc96",
           "#ab63fa",
           "#FFA15A",
           "#19d3f3",
           "#FF6692",
           "#B6E880",
           "#FF97FF",
           "#FECB52"
          ],
          "font": {
           "color": "#2a3f5f"
          },
          "geo": {
           "bgcolor": "white",
           "lakecolor": "white",
           "landcolor": "#E5ECF6",
           "showlakes": true,
           "showland": true,
           "subunitcolor": "white"
          },
          "hoverlabel": {
           "align": "left"
          },
          "hovermode": "closest",
          "mapbox": {
           "style": "light"
          },
          "paper_bgcolor": "white",
          "plot_bgcolor": "#E5ECF6",
          "polar": {
           "angularaxis": {
            "gridcolor": "white",
            "linecolor": "white",
            "ticks": ""
           },
           "bgcolor": "#E5ECF6",
           "radialaxis": {
            "gridcolor": "white",
            "linecolor": "white",
            "ticks": ""
           }
          },
          "scene": {
           "xaxis": {
            "backgroundcolor": "#E5ECF6",
            "gridcolor": "white",
            "gridwidth": 2,
            "linecolor": "white",
            "showbackground": true,
            "ticks": "",
            "zerolinecolor": "white"
           },
           "yaxis": {
            "backgroundcolor": "#E5ECF6",
            "gridcolor": "white",
            "gridwidth": 2,
            "linecolor": "white",
            "showbackground": true,
            "ticks": "",
            "zerolinecolor": "white"
           },
           "zaxis": {
            "backgroundcolor": "#E5ECF6",
            "gridcolor": "white",
            "gridwidth": 2,
            "linecolor": "white",
            "showbackground": true,
            "ticks": "",
            "zerolinecolor": "white"
           }
          },
          "shapedefaults": {
           "line": {
            "color": "#2a3f5f"
           }
          },
          "ternary": {
           "aaxis": {
            "gridcolor": "white",
            "linecolor": "white",
            "ticks": ""
           },
           "baxis": {
            "gridcolor": "white",
            "linecolor": "white",
            "ticks": ""
           },
           "bgcolor": "#E5ECF6",
           "caxis": {
            "gridcolor": "white",
            "linecolor": "white",
            "ticks": ""
           }
          },
          "title": {
           "x": 0.05
          },
          "xaxis": {
           "automargin": true,
           "gridcolor": "white",
           "linecolor": "white",
           "ticks": "",
           "title": {
            "standoff": 15
           },
           "zerolinecolor": "white",
           "zerolinewidth": 2
          },
          "yaxis": {
           "automargin": true,
           "gridcolor": "white",
           "linecolor": "white",
           "ticks": "",
           "title": {
            "standoff": 15
           },
           "zerolinecolor": "white",
           "zerolinewidth": 2
          }
         }
        },
        "title": {
         "text": "DNA Damage Foci nr in Damage+ Nuclei by Tissue Location and Genotype (separated by sex) - Auto stain QC - cellpdia30_sigma1_dilrad4_dnad_obj_seg_v1_gliaero6_gliathr20_dnadero2"
        },
        "xaxis": {
         "anchor": "y",
         "categoryarray": [
          "male - CA1",
          "female - CA1",
          "male - CA3",
          "female - CA3",
          "male - CTX1",
          "female - CTX1",
          "male - CTX2",
          "female - CTX2",
          "male - CTX3",
          "female - CTX3",
          "male - DG",
          "female - DG"
         ],
         "categoryorder": "array",
         "domain": [
          0,
          1
         ],
         "title": {
          "text": "sex_tissue"
         }
        },
        "yaxis": {
         "anchor": "x",
         "domain": [
          0,
          1
         ],
         "title": {
          "text": "avg_dna_damage_foci/all_nuclei_damage_+"
         }
        }
       }
      }
     },
     "metadata": {},
     "output_type": "display_data"
    },
    {
     "data": {
      "application/vnd.plotly.v1+json": {
       "config": {
        "plotlyServerURL": "https://plot.ly"
       },
       "data": [
        {
         "alignmentgroup": "True",
         "hovertemplate": "genotype=APP/PS1<br>sex_tissue=%{x}<br>damage_load_ratio_glia_+_cells=%{y}<extra></extra>",
         "legendgroup": "APP/PS1",
         "marker": {
          "color": "#636efa"
         },
         "name": "APP/PS1",
         "notched": false,
         "offsetgroup": "APP/PS1",
         "orientation": "v",
         "showlegend": true,
         "type": "box",
         "x": [
          "female - CA1",
          "female - CA3",
          "female - CTX1",
          "female - CTX2",
          "female - CTX3",
          "female - DG",
          "male - CA1",
          "male - CA3",
          "male - CTX1",
          "male - CTX2",
          "male - CTX3",
          "male - DG",
          "male - CA1",
          "male - CA3",
          "male - CTX1",
          "male - CTX2",
          "male - CTX3",
          "male - CA1",
          "male - CA3",
          "male - CTX1",
          "male - CTX2",
          "male - CTX3",
          "male - DG",
          "female - CA1",
          "female - CA3",
          "female - CTX1",
          "female - CTX2",
          "female - CTX3",
          "female - DG",
          "male - CA1",
          "male - CA3",
          "male - CTX1",
          "male - CTX2",
          "male - CTX3",
          "male - DG",
          "male - CA1",
          "male - CA3",
          "male - CTX1",
          "male - CTX2",
          "male - CTX3",
          "male - DG",
          "female - CA1",
          "female - CA3",
          "female - CTX1",
          "female - CTX2",
          "female - CTX3",
          "female - DG",
          "male - CA1",
          "male - CA3",
          "male - CTX1",
          "male - CTX2",
          "male - CTX3",
          "male - DG",
          "male - CA1",
          "male - CA3",
          "male - CTX1",
          "male - CTX2",
          "male - CTX3",
          "male - DG",
          "female - CA1",
          "female - CA3",
          "female - CTX1",
          "female - CTX2",
          "female - CTX3",
          "female - DG",
          "female - CA1",
          "female - CA3",
          "female - CTX1",
          "female - CTX2",
          "female - CTX3",
          "female - DG",
          "male - CA1",
          "male - CA3",
          "male - CTX1",
          "male - CTX2",
          "male - CTX3",
          "male - DG",
          "female - CA1",
          "female - CA3",
          "female - CTX1",
          "female - CTX2",
          "female - CTX3",
          "female - DG",
          "male - CA1",
          "male - CA3",
          "male - CTX1",
          "male - CTX2",
          "male - CTX3",
          "male - DG",
          "male - CA1",
          "male - CA3",
          "male - CTX1",
          "male - CTX2",
          "male - CTX3",
          "male - DG",
          "female - CA1",
          "female - CA3",
          "female - CTX1",
          "female - CTX2",
          "female - CTX3",
          "female - DG",
          "female - CA1",
          "female - CA3",
          "female - CTX1",
          "female - CTX2",
          "female - CTX3",
          "female - DG"
         ],
         "x0": " ",
         "xaxis": "x",
         "y": [
          0.75,
          0.7777777777777778,
          0.8,
          0.8181818181818182,
          0.4,
          0.7,
          0.2222222222222222,
          0.6666666666666666,
          0.5555555555555556,
          0.5714285714285714,
          0.7727272727272727,
          0.7,
          0.3333333333333333,
          0.7142857142857143,
          0.5909090909090909,
          0.7894736842105263,
          0.8333333333333334,
          0.5714285714285714,
          0.625,
          0.5714285714285714,
          0.75,
          0.6666666666666666,
          0.6,
          0.5263157894736842,
          1,
          0.6,
          0.5294117647058824,
          0.625,
          0.8823529411764706,
          0.375,
          0.5,
          0.44,
          0,
          0.7272727272727273,
          0.6875,
          0.75,
          0.8888888888888888,
          0.44,
          0.75,
          0.7777777777777778,
          0.8666666666666667,
          0,
          0.75,
          0.5,
          0.3181818181818182,
          0.4615384615384615,
          0.4,
          0.7272727272727273,
          1,
          0.5454545454545454,
          0.4117647058823529,
          0.7692307692307693,
          0.7857142857142857,
          0.875,
          0.5,
          0.875,
          0.7931034482758621,
          0.8,
          1,
          0.5,
          0.6,
          0,
          0.2,
          0.5,
          0.875,
          1,
          0.6666666666666666,
          0.6666666666666666,
          0.6666666666666666,
          0.8,
          0.5,
          0.3636363636363636,
          0.5714285714285714,
          0.75,
          0.3,
          0.75,
          0.9743589743589745,
          0.8571428571428571,
          1,
          0.6,
          0.625,
          0.65,
          0.6153846153846154,
          0.3333333333333333,
          0.625,
          0.2222222222222222,
          0.2916666666666667,
          0.4615384615384615,
          0.5909090909090909,
          0.8,
          1,
          0.5,
          0.6,
          0.65,
          0.5384615384615384,
          0.4285714285714285,
          0.6666666666666666,
          0.125,
          0.4444444444444444,
          0,
          0.5454545454545454,
          0.5384615384615384,
          0.25,
          0.5714285714285714,
          0.6086956521739131,
          0.25,
          0.625
         ],
         "y0": " ",
         "yaxis": "y"
        },
        {
         "alignmentgroup": "True",
         "hovertemplate": "genotype=APP/PS1 x Neil3 KO<br>sex_tissue=%{x}<br>damage_load_ratio_glia_+_cells=%{y}<extra></extra>",
         "legendgroup": "APP/PS1 x Neil3 KO",
         "marker": {
          "color": "#EF553B"
         },
         "name": "APP/PS1 x Neil3 KO",
         "notched": false,
         "offsetgroup": "APP/PS1 x Neil3 KO",
         "orientation": "v",
         "showlegend": true,
         "type": "box",
         "x": [
          "male - CA1",
          "male - CA3",
          "male - CTX1",
          "male - CTX2",
          "male - CTX3",
          "male - DG",
          "male - CA1",
          "male - CA3",
          "male - CTX1",
          "male - CTX2",
          "male - CTX3",
          "male - DG",
          "female - CA1",
          "female - CA3",
          "female - CTX1",
          "female - CTX2",
          "female - CTX3",
          "female - DG",
          "male - CA1",
          "male - CA3",
          "male - CTX1",
          "male - CTX2",
          "male - CTX3",
          "male - DG",
          "male - CA1",
          "male - CA3",
          "male - CTX1",
          "male - CTX2",
          "male - CTX3",
          "male - DG",
          "female - CA1",
          "female - CA3",
          "female - CTX1",
          "female - CTX2",
          "female - CTX3",
          "female - DG",
          "male - CA1",
          "male - CA3",
          "male - CTX1",
          "male - CTX2",
          "male - CTX3",
          "male - DG",
          "female - CA1",
          "female - CA3",
          "female - CTX1",
          "female - CTX2",
          "female - CTX3",
          "female - DG",
          "female - CA1",
          "female - CA3",
          "female - CTX1",
          "female - CTX2",
          "female - CTX3",
          "female - DG",
          "male - CA1",
          "male - CA3",
          "male - CTX1",
          "male - CTX2",
          "male - CTX3",
          "male - DG",
          "female - CA1",
          "female - CA3",
          "female - CTX1",
          "female - CTX2",
          "female - CTX3",
          "female - DG",
          "male - CA1",
          "male - CA3",
          "male - CTX1",
          "male - CTX2",
          "male - CTX3",
          "male - DG",
          "female - CA1",
          "female - CA3",
          "female - CTX1",
          "female - CTX2",
          "female - CTX3",
          "female - DG",
          "female - CA1",
          "female - CA3",
          "female - CTX1",
          "female - CTX2",
          "female - CTX3",
          "female - DG",
          "male - CA1",
          "male - CA3",
          "male - CTX1",
          "male - CTX2",
          "male - CTX3",
          "male - DG",
          "female - CA1",
          "female - CA3",
          "female - CTX1",
          "female - CTX2",
          "female - CTX3",
          "female - DG"
         ],
         "x0": " ",
         "xaxis": "x",
         "y": [
          0.8333333333333334,
          0.7,
          0.3888888888888889,
          0.7777777777777778,
          0.9523809523809524,
          0.7058823529411765,
          0.4545454545454545,
          0.5555555555555556,
          0.7142857142857143,
          0.7894736842105263,
          0.7142857142857143,
          0.25,
          0.1428571428571428,
          0.5,
          0.3636363636363636,
          0.6,
          0.7,
          0.375,
          0.3333333333333333,
          0.8,
          0.5714285714285714,
          0.9090909090909092,
          0.7857142857142857,
          0.7,
          0.6666666666666666,
          0.8,
          0.6,
          0.8181818181818182,
          0.3333333333333333,
          0.7142857142857143,
          0.6363636363636364,
          0.5,
          0.7647058823529411,
          0.8666666666666667,
          0.7391304347826086,
          0.6666666666666666,
          0,
          1,
          0.6666666666666666,
          0.5384615384615384,
          0.8181818181818182,
          1,
          0.9,
          0.8,
          0.6875,
          0.7307692307692307,
          0.8125,
          0.6666666666666666,
          0.6,
          0.5714285714285714,
          0.5,
          0.7333333333333333,
          0.5555555555555556,
          0.5,
          0.5,
          0.625,
          0.65,
          0.4545454545454545,
          0.875,
          0.8,
          0.5,
          0.5,
          null,
          0,
          0.4,
          1,
          0.8125,
          0.6666666666666666,
          0.5833333333333334,
          0.56,
          0.4705882352941176,
          0.8636363636363636,
          0.1538461538461538,
          0.1111111111111111,
          0,
          0.1428571428571428,
          0.4516129032258064,
          0.4,
          1,
          0.7142857142857143,
          0.1739130434782608,
          0.5161290322580645,
          0.3846153846153846,
          0.5625,
          0.75,
          0.6666666666666666,
          0.6470588235294118,
          0.75,
          0.6666666666666666,
          1,
          0.8,
          0.6,
          0.4444444444444444,
          0.55,
          0.4782608695652174,
          0.8333333333333334
         ],
         "y0": " ",
         "yaxis": "y"
        }
       ],
       "layout": {
        "boxmode": "group",
        "legend": {
         "title": {
          "text": "genotype"
         },
         "tracegroupgap": 0
        },
        "template": {
         "data": {
          "bar": [
           {
            "error_x": {
             "color": "#2a3f5f"
            },
            "error_y": {
             "color": "#2a3f5f"
            },
            "marker": {
             "line": {
              "color": "#E5ECF6",
              "width": 0.5
             },
             "pattern": {
              "fillmode": "overlay",
              "size": 10,
              "solidity": 0.2
             }
            },
            "type": "bar"
           }
          ],
          "barpolar": [
           {
            "marker": {
             "line": {
              "color": "#E5ECF6",
              "width": 0.5
             },
             "pattern": {
              "fillmode": "overlay",
              "size": 10,
              "solidity": 0.2
             }
            },
            "type": "barpolar"
           }
          ],
          "carpet": [
           {
            "aaxis": {
             "endlinecolor": "#2a3f5f",
             "gridcolor": "white",
             "linecolor": "white",
             "minorgridcolor": "white",
             "startlinecolor": "#2a3f5f"
            },
            "baxis": {
             "endlinecolor": "#2a3f5f",
             "gridcolor": "white",
             "linecolor": "white",
             "minorgridcolor": "white",
             "startlinecolor": "#2a3f5f"
            },
            "type": "carpet"
           }
          ],
          "choropleth": [
           {
            "colorbar": {
             "outlinewidth": 0,
             "ticks": ""
            },
            "type": "choropleth"
           }
          ],
          "contour": [
           {
            "colorbar": {
             "outlinewidth": 0,
             "ticks": ""
            },
            "colorscale": [
             [
              0,
              "#0d0887"
             ],
             [
              0.1111111111111111,
              "#46039f"
             ],
             [
              0.2222222222222222,
              "#7201a8"
             ],
             [
              0.3333333333333333,
              "#9c179e"
             ],
             [
              0.4444444444444444,
              "#bd3786"
             ],
             [
              0.5555555555555556,
              "#d8576b"
             ],
             [
              0.6666666666666666,
              "#ed7953"
             ],
             [
              0.7777777777777778,
              "#fb9f3a"
             ],
             [
              0.8888888888888888,
              "#fdca26"
             ],
             [
              1,
              "#f0f921"
             ]
            ],
            "type": "contour"
           }
          ],
          "contourcarpet": [
           {
            "colorbar": {
             "outlinewidth": 0,
             "ticks": ""
            },
            "type": "contourcarpet"
           }
          ],
          "heatmap": [
           {
            "colorbar": {
             "outlinewidth": 0,
             "ticks": ""
            },
            "colorscale": [
             [
              0,
              "#0d0887"
             ],
             [
              0.1111111111111111,
              "#46039f"
             ],
             [
              0.2222222222222222,
              "#7201a8"
             ],
             [
              0.3333333333333333,
              "#9c179e"
             ],
             [
              0.4444444444444444,
              "#bd3786"
             ],
             [
              0.5555555555555556,
              "#d8576b"
             ],
             [
              0.6666666666666666,
              "#ed7953"
             ],
             [
              0.7777777777777778,
              "#fb9f3a"
             ],
             [
              0.8888888888888888,
              "#fdca26"
             ],
             [
              1,
              "#f0f921"
             ]
            ],
            "type": "heatmap"
           }
          ],
          "heatmapgl": [
           {
            "colorbar": {
             "outlinewidth": 0,
             "ticks": ""
            },
            "colorscale": [
             [
              0,
              "#0d0887"
             ],
             [
              0.1111111111111111,
              "#46039f"
             ],
             [
              0.2222222222222222,
              "#7201a8"
             ],
             [
              0.3333333333333333,
              "#9c179e"
             ],
             [
              0.4444444444444444,
              "#bd3786"
             ],
             [
              0.5555555555555556,
              "#d8576b"
             ],
             [
              0.6666666666666666,
              "#ed7953"
             ],
             [
              0.7777777777777778,
              "#fb9f3a"
             ],
             [
              0.8888888888888888,
              "#fdca26"
             ],
             [
              1,
              "#f0f921"
             ]
            ],
            "type": "heatmapgl"
           }
          ],
          "histogram": [
           {
            "marker": {
             "pattern": {
              "fillmode": "overlay",
              "size": 10,
              "solidity": 0.2
             }
            },
            "type": "histogram"
           }
          ],
          "histogram2d": [
           {
            "colorbar": {
             "outlinewidth": 0,
             "ticks": ""
            },
            "colorscale": [
             [
              0,
              "#0d0887"
             ],
             [
              0.1111111111111111,
              "#46039f"
             ],
             [
              0.2222222222222222,
              "#7201a8"
             ],
             [
              0.3333333333333333,
              "#9c179e"
             ],
             [
              0.4444444444444444,
              "#bd3786"
             ],
             [
              0.5555555555555556,
              "#d8576b"
             ],
             [
              0.6666666666666666,
              "#ed7953"
             ],
             [
              0.7777777777777778,
              "#fb9f3a"
             ],
             [
              0.8888888888888888,
              "#fdca26"
             ],
             [
              1,
              "#f0f921"
             ]
            ],
            "type": "histogram2d"
           }
          ],
          "histogram2dcontour": [
           {
            "colorbar": {
             "outlinewidth": 0,
             "ticks": ""
            },
            "colorscale": [
             [
              0,
              "#0d0887"
             ],
             [
              0.1111111111111111,
              "#46039f"
             ],
             [
              0.2222222222222222,
              "#7201a8"
             ],
             [
              0.3333333333333333,
              "#9c179e"
             ],
             [
              0.4444444444444444,
              "#bd3786"
             ],
             [
              0.5555555555555556,
              "#d8576b"
             ],
             [
              0.6666666666666666,
              "#ed7953"
             ],
             [
              0.7777777777777778,
              "#fb9f3a"
             ],
             [
              0.8888888888888888,
              "#fdca26"
             ],
             [
              1,
              "#f0f921"
             ]
            ],
            "type": "histogram2dcontour"
           }
          ],
          "mesh3d": [
           {
            "colorbar": {
             "outlinewidth": 0,
             "ticks": ""
            },
            "type": "mesh3d"
           }
          ],
          "parcoords": [
           {
            "line": {
             "colorbar": {
              "outlinewidth": 0,
              "ticks": ""
             }
            },
            "type": "parcoords"
           }
          ],
          "pie": [
           {
            "automargin": true,
            "type": "pie"
           }
          ],
          "scatter": [
           {
            "fillpattern": {
             "fillmode": "overlay",
             "size": 10,
             "solidity": 0.2
            },
            "type": "scatter"
           }
          ],
          "scatter3d": [
           {
            "line": {
             "colorbar": {
              "outlinewidth": 0,
              "ticks": ""
             }
            },
            "marker": {
             "colorbar": {
              "outlinewidth": 0,
              "ticks": ""
             }
            },
            "type": "scatter3d"
           }
          ],
          "scattercarpet": [
           {
            "marker": {
             "colorbar": {
              "outlinewidth": 0,
              "ticks": ""
             }
            },
            "type": "scattercarpet"
           }
          ],
          "scattergeo": [
           {
            "marker": {
             "colorbar": {
              "outlinewidth": 0,
              "ticks": ""
             }
            },
            "type": "scattergeo"
           }
          ],
          "scattergl": [
           {
            "marker": {
             "colorbar": {
              "outlinewidth": 0,
              "ticks": ""
             }
            },
            "type": "scattergl"
           }
          ],
          "scattermapbox": [
           {
            "marker": {
             "colorbar": {
              "outlinewidth": 0,
              "ticks": ""
             }
            },
            "type": "scattermapbox"
           }
          ],
          "scatterpolar": [
           {
            "marker": {
             "colorbar": {
              "outlinewidth": 0,
              "ticks": ""
             }
            },
            "type": "scatterpolar"
           }
          ],
          "scatterpolargl": [
           {
            "marker": {
             "colorbar": {
              "outlinewidth": 0,
              "ticks": ""
             }
            },
            "type": "scatterpolargl"
           }
          ],
          "scatterternary": [
           {
            "marker": {
             "colorbar": {
              "outlinewidth": 0,
              "ticks": ""
             }
            },
            "type": "scatterternary"
           }
          ],
          "surface": [
           {
            "colorbar": {
             "outlinewidth": 0,
             "ticks": ""
            },
            "colorscale": [
             [
              0,
              "#0d0887"
             ],
             [
              0.1111111111111111,
              "#46039f"
             ],
             [
              0.2222222222222222,
              "#7201a8"
             ],
             [
              0.3333333333333333,
              "#9c179e"
             ],
             [
              0.4444444444444444,
              "#bd3786"
             ],
             [
              0.5555555555555556,
              "#d8576b"
             ],
             [
              0.6666666666666666,
              "#ed7953"
             ],
             [
              0.7777777777777778,
              "#fb9f3a"
             ],
             [
              0.8888888888888888,
              "#fdca26"
             ],
             [
              1,
              "#f0f921"
             ]
            ],
            "type": "surface"
           }
          ],
          "table": [
           {
            "cells": {
             "fill": {
              "color": "#EBF0F8"
             },
             "line": {
              "color": "white"
             }
            },
            "header": {
             "fill": {
              "color": "#C8D4E3"
             },
             "line": {
              "color": "white"
             }
            },
            "type": "table"
           }
          ]
         },
         "layout": {
          "annotationdefaults": {
           "arrowcolor": "#2a3f5f",
           "arrowhead": 0,
           "arrowwidth": 1
          },
          "autotypenumbers": "strict",
          "coloraxis": {
           "colorbar": {
            "outlinewidth": 0,
            "ticks": ""
           }
          },
          "colorscale": {
           "diverging": [
            [
             0,
             "#8e0152"
            ],
            [
             0.1,
             "#c51b7d"
            ],
            [
             0.2,
             "#de77ae"
            ],
            [
             0.3,
             "#f1b6da"
            ],
            [
             0.4,
             "#fde0ef"
            ],
            [
             0.5,
             "#f7f7f7"
            ],
            [
             0.6,
             "#e6f5d0"
            ],
            [
             0.7,
             "#b8e186"
            ],
            [
             0.8,
             "#7fbc41"
            ],
            [
             0.9,
             "#4d9221"
            ],
            [
             1,
             "#276419"
            ]
           ],
           "sequential": [
            [
             0,
             "#0d0887"
            ],
            [
             0.1111111111111111,
             "#46039f"
            ],
            [
             0.2222222222222222,
             "#7201a8"
            ],
            [
             0.3333333333333333,
             "#9c179e"
            ],
            [
             0.4444444444444444,
             "#bd3786"
            ],
            [
             0.5555555555555556,
             "#d8576b"
            ],
            [
             0.6666666666666666,
             "#ed7953"
            ],
            [
             0.7777777777777778,
             "#fb9f3a"
            ],
            [
             0.8888888888888888,
             "#fdca26"
            ],
            [
             1,
             "#f0f921"
            ]
           ],
           "sequentialminus": [
            [
             0,
             "#0d0887"
            ],
            [
             0.1111111111111111,
             "#46039f"
            ],
            [
             0.2222222222222222,
             "#7201a8"
            ],
            [
             0.3333333333333333,
             "#9c179e"
            ],
            [
             0.4444444444444444,
             "#bd3786"
            ],
            [
             0.5555555555555556,
             "#d8576b"
            ],
            [
             0.6666666666666666,
             "#ed7953"
            ],
            [
             0.7777777777777778,
             "#fb9f3a"
            ],
            [
             0.8888888888888888,
             "#fdca26"
            ],
            [
             1,
             "#f0f921"
            ]
           ]
          },
          "colorway": [
           "#636efa",
           "#EF553B",
           "#00cc96",
           "#ab63fa",
           "#FFA15A",
           "#19d3f3",
           "#FF6692",
           "#B6E880",
           "#FF97FF",
           "#FECB52"
          ],
          "font": {
           "color": "#2a3f5f"
          },
          "geo": {
           "bgcolor": "white",
           "lakecolor": "white",
           "landcolor": "#E5ECF6",
           "showlakes": true,
           "showland": true,
           "subunitcolor": "white"
          },
          "hoverlabel": {
           "align": "left"
          },
          "hovermode": "closest",
          "mapbox": {
           "style": "light"
          },
          "paper_bgcolor": "white",
          "plot_bgcolor": "#E5ECF6",
          "polar": {
           "angularaxis": {
            "gridcolor": "white",
            "linecolor": "white",
            "ticks": ""
           },
           "bgcolor": "#E5ECF6",
           "radialaxis": {
            "gridcolor": "white",
            "linecolor": "white",
            "ticks": ""
           }
          },
          "scene": {
           "xaxis": {
            "backgroundcolor": "#E5ECF6",
            "gridcolor": "white",
            "gridwidth": 2,
            "linecolor": "white",
            "showbackground": true,
            "ticks": "",
            "zerolinecolor": "white"
           },
           "yaxis": {
            "backgroundcolor": "#E5ECF6",
            "gridcolor": "white",
            "gridwidth": 2,
            "linecolor": "white",
            "showbackground": true,
            "ticks": "",
            "zerolinecolor": "white"
           },
           "zaxis": {
            "backgroundcolor": "#E5ECF6",
            "gridcolor": "white",
            "gridwidth": 2,
            "linecolor": "white",
            "showbackground": true,
            "ticks": "",
            "zerolinecolor": "white"
           }
          },
          "shapedefaults": {
           "line": {
            "color": "#2a3f5f"
           }
          },
          "ternary": {
           "aaxis": {
            "gridcolor": "white",
            "linecolor": "white",
            "ticks": ""
           },
           "baxis": {
            "gridcolor": "white",
            "linecolor": "white",
            "ticks": ""
           },
           "bgcolor": "#E5ECF6",
           "caxis": {
            "gridcolor": "white",
            "linecolor": "white",
            "ticks": ""
           }
          },
          "title": {
           "x": 0.05
          },
          "xaxis": {
           "automargin": true,
           "gridcolor": "white",
           "linecolor": "white",
           "ticks": "",
           "title": {
            "standoff": 15
           },
           "zerolinecolor": "white",
           "zerolinewidth": 2
          },
          "yaxis": {
           "automargin": true,
           "gridcolor": "white",
           "linecolor": "white",
           "ticks": "",
           "title": {
            "standoff": 15
           },
           "zerolinecolor": "white",
           "zerolinewidth": 2
          }
         }
        },
        "title": {
         "text": "Ratio of damaged Microglia nuclei by Tissue Location and Genotype (separated by sex) - Auto stain QC - cellpdia30_sigma1_dilrad4_dnad_obj_seg_v1_gliaero6_gliathr20_dnadero2"
        },
        "xaxis": {
         "anchor": "y",
         "categoryarray": [
          "male - CA1",
          "female - CA1",
          "male - CA3",
          "female - CA3",
          "male - CTX1",
          "female - CTX1",
          "male - CTX2",
          "female - CTX2",
          "male - CTX3",
          "female - CTX3",
          "male - DG",
          "female - DG"
         ],
         "categoryorder": "array",
         "domain": [
          0,
          1
         ],
         "title": {
          "text": "sex_tissue"
         }
        },
        "yaxis": {
         "anchor": "x",
         "domain": [
          0,
          1
         ],
         "title": {
          "text": "damage_load_ratio_glia_+_cells"
         }
        }
       }
      }
     },
     "metadata": {},
     "output_type": "display_data"
    },
    {
     "data": {
      "application/vnd.plotly.v1+json": {
       "config": {
        "plotlyServerURL": "https://plot.ly"
       },
       "data": [
        {
         "alignmentgroup": "True",
         "hovertemplate": "genotype=APP/PS1<br>sex_tissue=%{x}<br>damage_load_ratio_all_cells=%{y}<extra></extra>",
         "legendgroup": "APP/PS1",
         "marker": {
          "color": "#636efa"
         },
         "name": "APP/PS1",
         "notched": false,
         "offsetgroup": "APP/PS1",
         "orientation": "v",
         "showlegend": true,
         "type": "box",
         "x": [
          "female - CA1",
          "female - CA3",
          "female - CTX1",
          "female - CTX2",
          "female - CTX3",
          "female - DG",
          "male - CA1",
          "male - CA3",
          "male - CTX1",
          "male - CTX2",
          "male - CTX3",
          "male - DG",
          "male - CA1",
          "male - CA3",
          "male - CTX1",
          "male - CTX2",
          "male - CTX3",
          "male - CA1",
          "male - CA3",
          "male - CTX1",
          "male - CTX2",
          "male - CTX3",
          "male - DG",
          "female - CA1",
          "female - CA3",
          "female - CTX1",
          "female - CTX2",
          "female - CTX3",
          "female - DG",
          "male - CA1",
          "male - CA3",
          "male - CTX1",
          "male - CTX2",
          "male - CTX3",
          "male - DG",
          "male - CA1",
          "male - CA3",
          "male - CTX1",
          "male - CTX2",
          "male - CTX3",
          "male - DG",
          "female - CA1",
          "female - CA3",
          "female - CTX1",
          "female - CTX2",
          "female - CTX3",
          "female - DG",
          "male - CA1",
          "male - CA3",
          "male - CTX1",
          "male - CTX2",
          "male - CTX3",
          "male - DG",
          "male - CA1",
          "male - CA3",
          "male - CTX1",
          "male - CTX2",
          "male - CTX3",
          "male - DG",
          "female - CA1",
          "female - CA3",
          "female - CTX1",
          "female - CTX2",
          "female - CTX3",
          "female - DG",
          "female - CA1",
          "female - CA3",
          "female - CTX1",
          "female - CTX2",
          "female - CTX3",
          "female - DG",
          "male - CA1",
          "male - CA3",
          "male - CTX1",
          "male - CTX2",
          "male - CTX3",
          "male - DG",
          "female - CA1",
          "female - CA3",
          "female - CTX1",
          "female - CTX2",
          "female - CTX3",
          "female - DG",
          "male - CA1",
          "male - CA3",
          "male - CTX1",
          "male - CTX2",
          "male - CTX3",
          "male - DG",
          "male - CA1",
          "male - CA3",
          "male - CTX1",
          "male - CTX2",
          "male - CTX3",
          "male - DG",
          "female - CA1",
          "female - CA3",
          "female - CTX1",
          "female - CTX2",
          "female - CTX3",
          "female - DG",
          "female - CA1",
          "female - CA3",
          "female - CTX1",
          "female - CTX2",
          "female - CTX3",
          "female - DG"
         ],
         "x0": " ",
         "xaxis": "x",
         "y": [
          0.4066666666666667,
          0.6178861788617886,
          0.6766467065868264,
          0.6382113821138211,
          0.5836909871244635,
          0.8495297805642633,
          0.3246073298429319,
          0.5703125,
          0.5502645502645502,
          0.5460750853242321,
          0.6144578313253012,
          0.8507853403141361,
          0.525,
          0.5483870967741935,
          0.4035087719298245,
          0.6477272727272727,
          0.6,
          0.5369127516778524,
          0.6190476190476191,
          0.474025974025974,
          0.7101449275362319,
          0.5732217573221757,
          0.8168168168168168,
          0.6149425287356322,
          0.5467625899280576,
          0.6296296296296297,
          0.5189393939393939,
          0.2976190476190476,
          0.8481012658227848,
          0.5073529411764706,
          0.4210526315789473,
          0.3350785340314136,
          0.0666666666666666,
          0.5472972972972973,
          0.7715617715617715,
          0.7152317880794702,
          0.6277372262773723,
          0.4812030075187969,
          0.65625,
          0.7783783783783784,
          0.910843373493976,
          0.3943661971830985,
          0.5436893203883495,
          0.376068376068376,
          0.3893129770992366,
          0.271356783919598,
          0.6693989071038251,
          0.6467065868263473,
          0.6502732240437158,
          0.40625,
          0.4895397489539749,
          0.5684931506849316,
          0.8522012578616353,
          0.7090909090909091,
          0.6464646464646465,
          0.8028846153846154,
          0.7351598173515982,
          0.7514450867052023,
          0.8525073746312685,
          0.6458333333333334,
          0.5666666666666667,
          0.3333333333333333,
          0.3368421052631579,
          0.23841059602649,
          0.5450819672131147,
          0.3586206896551724,
          0.4854368932038835,
          0.4523809523809524,
          0.4258064516129032,
          0.5633802816901409,
          0.5684754521963824,
          0.2953020134228188,
          0.7277227722772277,
          0.6576576576576577,
          0.3381642512077294,
          0.5215311004784688,
          0.9014492753623188,
          0.7166666666666667,
          0.4347826086956521,
          0.5478260869565217,
          0.5902255639097744,
          0.5929203539823009,
          0.8367875647668394,
          0.3263888888888889,
          0.5470085470085471,
          0.2397260273972602,
          0.2136363636363636,
          0.3535911602209944,
          0.6469002695417789,
          0.4384615384615384,
          0.6692913385826772,
          0.4742268041237113,
          0.5263157894736842,
          0.5297619047619048,
          0.7570977917981072,
          0.4108527131782946,
          0.4,
          0.0534351145038167,
          0.5625,
          0.1411764705882353,
          0.6225,
          0.4203821656050955,
          0.4166666666666667,
          0.4101123595505618,
          0.3016528925619834,
          0.2765957446808511,
          0.5098522167487685
         ],
         "y0": " ",
         "yaxis": "y"
        },
        {
         "alignmentgroup": "True",
         "hovertemplate": "genotype=APP/PS1 x Neil3 KO<br>sex_tissue=%{x}<br>damage_load_ratio_all_cells=%{y}<extra></extra>",
         "legendgroup": "APP/PS1 x Neil3 KO",
         "marker": {
          "color": "#EF553B"
         },
         "name": "APP/PS1 x Neil3 KO",
         "notched": false,
         "offsetgroup": "APP/PS1 x Neil3 KO",
         "orientation": "v",
         "showlegend": true,
         "type": "box",
         "x": [
          "male - CA1",
          "male - CA3",
          "male - CTX1",
          "male - CTX2",
          "male - CTX3",
          "male - DG",
          "male - CA1",
          "male - CA3",
          "male - CTX1",
          "male - CTX2",
          "male - CTX3",
          "male - DG",
          "female - CA1",
          "female - CA3",
          "female - CTX1",
          "female - CTX2",
          "female - CTX3",
          "female - DG",
          "male - CA1",
          "male - CA3",
          "male - CTX1",
          "male - CTX2",
          "male - CTX3",
          "male - DG",
          "male - CA1",
          "male - CA3",
          "male - CTX1",
          "male - CTX2",
          "male - CTX3",
          "male - DG",
          "female - CA1",
          "female - CA3",
          "female - CTX1",
          "female - CTX2",
          "female - CTX3",
          "female - DG",
          "male - CA1",
          "male - CA3",
          "male - CTX1",
          "male - CTX2",
          "male - CTX3",
          "male - DG",
          "female - CA1",
          "female - CA3",
          "female - CTX1",
          "female - CTX2",
          "female - CTX3",
          "female - DG",
          "female - CA1",
          "female - CA3",
          "female - CTX1",
          "female - CTX2",
          "female - CTX3",
          "female - DG",
          "male - CA1",
          "male - CA3",
          "male - CTX1",
          "male - CTX2",
          "male - CTX3",
          "male - DG",
          "female - CA1",
          "female - CA3",
          "female - CTX1",
          "female - CTX2",
          "female - CTX3",
          "female - DG",
          "male - CA1",
          "male - CA3",
          "male - CTX1",
          "male - CTX2",
          "male - CTX3",
          "male - DG",
          "female - CA1",
          "female - CA3",
          "female - CTX1",
          "female - CTX2",
          "female - CTX3",
          "female - DG",
          "female - CA1",
          "female - CA3",
          "female - CTX1",
          "female - CTX2",
          "female - CTX3",
          "female - DG",
          "male - CA1",
          "male - CA3",
          "male - CTX1",
          "male - CTX2",
          "male - CTX3",
          "male - DG",
          "female - CA1",
          "female - CA3",
          "female - CTX1",
          "female - CTX2",
          "female - CTX3",
          "female - DG"
         ],
         "x0": " ",
         "xaxis": "x",
         "y": [
          0.4939024390243902,
          0.6403508771929824,
          0.430379746835443,
          0.7436974789915967,
          0.6075268817204301,
          0.8486646884272997,
          0.526595744680851,
          0.7077922077922078,
          0.59375,
          0.6634146341463415,
          0.608,
          0.7368421052631579,
          0.391025641025641,
          0.5263157894736842,
          0.4897959183673469,
          0.5102040816326531,
          0.5974842767295597,
          0.7120743034055728,
          0.54421768707483,
          0.5585585585585585,
          0.4113924050632911,
          0.6512820512820513,
          0.6395348837209303,
          0.8194130925507901,
          0.5096774193548387,
          0.6228070175438597,
          0.4191919191919191,
          0.6666666666666666,
          0.391304347826087,
          0.8118279569892473,
          0.6382978723404256,
          0.5607476635514018,
          0.505,
          0.5733333333333334,
          0.5360824742268041,
          0.7701711491442543,
          0.6470588235294118,
          0.3880597014925373,
          0.4807692307692308,
          0.4782608695652174,
          0.7106598984771574,
          0.9129213483146068,
          0.5973154362416108,
          0.4285714285714285,
          0.542713567839196,
          0.6954314720812182,
          0.4523809523809524,
          0.7142857142857143,
          0.569620253164557,
          0.657608695652174,
          0.5446428571428571,
          0.6683673469387755,
          0.5471698113207547,
          0.8188235294117647,
          0.3287671232876712,
          0.5454545454545454,
          0.4967741935483871,
          0.5064102564102564,
          0.5027027027027027,
          0.7877813504823151,
          0.5231788079470199,
          0.37,
          0.0736196319018405,
          0.1243243243243243,
          0.15,
          0.7520661157024794,
          0.718562874251497,
          0.6380368098159509,
          0.3695652173913043,
          0.3108108108108108,
          0.3285024154589372,
          0.8836633663366337,
          0.1533333333333333,
          0.3548387096774194,
          0.0157480314960629,
          0.1638655462184874,
          0.5549738219895288,
          0.300990099009901,
          0.3484848484848485,
          0.4081632653061224,
          0.2016129032258064,
          0.4080459770114942,
          0.3917525773195876,
          0.4915730337078651,
          0.5371900826446281,
          0.5929203539823009,
          0.4468085106382978,
          0.5706806282722513,
          0.4322916666666667,
          0.603225806451613,
          0.514792899408284,
          0.36,
          0.5353535353535354,
          0.3356164383561644,
          0.4,
          0.7243401759530792
         ],
         "y0": " ",
         "yaxis": "y"
        }
       ],
       "layout": {
        "boxmode": "group",
        "legend": {
         "title": {
          "text": "genotype"
         },
         "tracegroupgap": 0
        },
        "template": {
         "data": {
          "bar": [
           {
            "error_x": {
             "color": "#2a3f5f"
            },
            "error_y": {
             "color": "#2a3f5f"
            },
            "marker": {
             "line": {
              "color": "#E5ECF6",
              "width": 0.5
             },
             "pattern": {
              "fillmode": "overlay",
              "size": 10,
              "solidity": 0.2
             }
            },
            "type": "bar"
           }
          ],
          "barpolar": [
           {
            "marker": {
             "line": {
              "color": "#E5ECF6",
              "width": 0.5
             },
             "pattern": {
              "fillmode": "overlay",
              "size": 10,
              "solidity": 0.2
             }
            },
            "type": "barpolar"
           }
          ],
          "carpet": [
           {
            "aaxis": {
             "endlinecolor": "#2a3f5f",
             "gridcolor": "white",
             "linecolor": "white",
             "minorgridcolor": "white",
             "startlinecolor": "#2a3f5f"
            },
            "baxis": {
             "endlinecolor": "#2a3f5f",
             "gridcolor": "white",
             "linecolor": "white",
             "minorgridcolor": "white",
             "startlinecolor": "#2a3f5f"
            },
            "type": "carpet"
           }
          ],
          "choropleth": [
           {
            "colorbar": {
             "outlinewidth": 0,
             "ticks": ""
            },
            "type": "choropleth"
           }
          ],
          "contour": [
           {
            "colorbar": {
             "outlinewidth": 0,
             "ticks": ""
            },
            "colorscale": [
             [
              0,
              "#0d0887"
             ],
             [
              0.1111111111111111,
              "#46039f"
             ],
             [
              0.2222222222222222,
              "#7201a8"
             ],
             [
              0.3333333333333333,
              "#9c179e"
             ],
             [
              0.4444444444444444,
              "#bd3786"
             ],
             [
              0.5555555555555556,
              "#d8576b"
             ],
             [
              0.6666666666666666,
              "#ed7953"
             ],
             [
              0.7777777777777778,
              "#fb9f3a"
             ],
             [
              0.8888888888888888,
              "#fdca26"
             ],
             [
              1,
              "#f0f921"
             ]
            ],
            "type": "contour"
           }
          ],
          "contourcarpet": [
           {
            "colorbar": {
             "outlinewidth": 0,
             "ticks": ""
            },
            "type": "contourcarpet"
           }
          ],
          "heatmap": [
           {
            "colorbar": {
             "outlinewidth": 0,
             "ticks": ""
            },
            "colorscale": [
             [
              0,
              "#0d0887"
             ],
             [
              0.1111111111111111,
              "#46039f"
             ],
             [
              0.2222222222222222,
              "#7201a8"
             ],
             [
              0.3333333333333333,
              "#9c179e"
             ],
             [
              0.4444444444444444,
              "#bd3786"
             ],
             [
              0.5555555555555556,
              "#d8576b"
             ],
             [
              0.6666666666666666,
              "#ed7953"
             ],
             [
              0.7777777777777778,
              "#fb9f3a"
             ],
             [
              0.8888888888888888,
              "#fdca26"
             ],
             [
              1,
              "#f0f921"
             ]
            ],
            "type": "heatmap"
           }
          ],
          "heatmapgl": [
           {
            "colorbar": {
             "outlinewidth": 0,
             "ticks": ""
            },
            "colorscale": [
             [
              0,
              "#0d0887"
             ],
             [
              0.1111111111111111,
              "#46039f"
             ],
             [
              0.2222222222222222,
              "#7201a8"
             ],
             [
              0.3333333333333333,
              "#9c179e"
             ],
             [
              0.4444444444444444,
              "#bd3786"
             ],
             [
              0.5555555555555556,
              "#d8576b"
             ],
             [
              0.6666666666666666,
              "#ed7953"
             ],
             [
              0.7777777777777778,
              "#fb9f3a"
             ],
             [
              0.8888888888888888,
              "#fdca26"
             ],
             [
              1,
              "#f0f921"
             ]
            ],
            "type": "heatmapgl"
           }
          ],
          "histogram": [
           {
            "marker": {
             "pattern": {
              "fillmode": "overlay",
              "size": 10,
              "solidity": 0.2
             }
            },
            "type": "histogram"
           }
          ],
          "histogram2d": [
           {
            "colorbar": {
             "outlinewidth": 0,
             "ticks": ""
            },
            "colorscale": [
             [
              0,
              "#0d0887"
             ],
             [
              0.1111111111111111,
              "#46039f"
             ],
             [
              0.2222222222222222,
              "#7201a8"
             ],
             [
              0.3333333333333333,
              "#9c179e"
             ],
             [
              0.4444444444444444,
              "#bd3786"
             ],
             [
              0.5555555555555556,
              "#d8576b"
             ],
             [
              0.6666666666666666,
              "#ed7953"
             ],
             [
              0.7777777777777778,
              "#fb9f3a"
             ],
             [
              0.8888888888888888,
              "#fdca26"
             ],
             [
              1,
              "#f0f921"
             ]
            ],
            "type": "histogram2d"
           }
          ],
          "histogram2dcontour": [
           {
            "colorbar": {
             "outlinewidth": 0,
             "ticks": ""
            },
            "colorscale": [
             [
              0,
              "#0d0887"
             ],
             [
              0.1111111111111111,
              "#46039f"
             ],
             [
              0.2222222222222222,
              "#7201a8"
             ],
             [
              0.3333333333333333,
              "#9c179e"
             ],
             [
              0.4444444444444444,
              "#bd3786"
             ],
             [
              0.5555555555555556,
              "#d8576b"
             ],
             [
              0.6666666666666666,
              "#ed7953"
             ],
             [
              0.7777777777777778,
              "#fb9f3a"
             ],
             [
              0.8888888888888888,
              "#fdca26"
             ],
             [
              1,
              "#f0f921"
             ]
            ],
            "type": "histogram2dcontour"
           }
          ],
          "mesh3d": [
           {
            "colorbar": {
             "outlinewidth": 0,
             "ticks": ""
            },
            "type": "mesh3d"
           }
          ],
          "parcoords": [
           {
            "line": {
             "colorbar": {
              "outlinewidth": 0,
              "ticks": ""
             }
            },
            "type": "parcoords"
           }
          ],
          "pie": [
           {
            "automargin": true,
            "type": "pie"
           }
          ],
          "scatter": [
           {
            "fillpattern": {
             "fillmode": "overlay",
             "size": 10,
             "solidity": 0.2
            },
            "type": "scatter"
           }
          ],
          "scatter3d": [
           {
            "line": {
             "colorbar": {
              "outlinewidth": 0,
              "ticks": ""
             }
            },
            "marker": {
             "colorbar": {
              "outlinewidth": 0,
              "ticks": ""
             }
            },
            "type": "scatter3d"
           }
          ],
          "scattercarpet": [
           {
            "marker": {
             "colorbar": {
              "outlinewidth": 0,
              "ticks": ""
             }
            },
            "type": "scattercarpet"
           }
          ],
          "scattergeo": [
           {
            "marker": {
             "colorbar": {
              "outlinewidth": 0,
              "ticks": ""
             }
            },
            "type": "scattergeo"
           }
          ],
          "scattergl": [
           {
            "marker": {
             "colorbar": {
              "outlinewidth": 0,
              "ticks": ""
             }
            },
            "type": "scattergl"
           }
          ],
          "scattermapbox": [
           {
            "marker": {
             "colorbar": {
              "outlinewidth": 0,
              "ticks": ""
             }
            },
            "type": "scattermapbox"
           }
          ],
          "scatterpolar": [
           {
            "marker": {
             "colorbar": {
              "outlinewidth": 0,
              "ticks": ""
             }
            },
            "type": "scatterpolar"
           }
          ],
          "scatterpolargl": [
           {
            "marker": {
             "colorbar": {
              "outlinewidth": 0,
              "ticks": ""
             }
            },
            "type": "scatterpolargl"
           }
          ],
          "scatterternary": [
           {
            "marker": {
             "colorbar": {
              "outlinewidth": 0,
              "ticks": ""
             }
            },
            "type": "scatterternary"
           }
          ],
          "surface": [
           {
            "colorbar": {
             "outlinewidth": 0,
             "ticks": ""
            },
            "colorscale": [
             [
              0,
              "#0d0887"
             ],
             [
              0.1111111111111111,
              "#46039f"
             ],
             [
              0.2222222222222222,
              "#7201a8"
             ],
             [
              0.3333333333333333,
              "#9c179e"
             ],
             [
              0.4444444444444444,
              "#bd3786"
             ],
             [
              0.5555555555555556,
              "#d8576b"
             ],
             [
              0.6666666666666666,
              "#ed7953"
             ],
             [
              0.7777777777777778,
              "#fb9f3a"
             ],
             [
              0.8888888888888888,
              "#fdca26"
             ],
             [
              1,
              "#f0f921"
             ]
            ],
            "type": "surface"
           }
          ],
          "table": [
           {
            "cells": {
             "fill": {
              "color": "#EBF0F8"
             },
             "line": {
              "color": "white"
             }
            },
            "header": {
             "fill": {
              "color": "#C8D4E3"
             },
             "line": {
              "color": "white"
             }
            },
            "type": "table"
           }
          ]
         },
         "layout": {
          "annotationdefaults": {
           "arrowcolor": "#2a3f5f",
           "arrowhead": 0,
           "arrowwidth": 1
          },
          "autotypenumbers": "strict",
          "coloraxis": {
           "colorbar": {
            "outlinewidth": 0,
            "ticks": ""
           }
          },
          "colorscale": {
           "diverging": [
            [
             0,
             "#8e0152"
            ],
            [
             0.1,
             "#c51b7d"
            ],
            [
             0.2,
             "#de77ae"
            ],
            [
             0.3,
             "#f1b6da"
            ],
            [
             0.4,
             "#fde0ef"
            ],
            [
             0.5,
             "#f7f7f7"
            ],
            [
             0.6,
             "#e6f5d0"
            ],
            [
             0.7,
             "#b8e186"
            ],
            [
             0.8,
             "#7fbc41"
            ],
            [
             0.9,
             "#4d9221"
            ],
            [
             1,
             "#276419"
            ]
           ],
           "sequential": [
            [
             0,
             "#0d0887"
            ],
            [
             0.1111111111111111,
             "#46039f"
            ],
            [
             0.2222222222222222,
             "#7201a8"
            ],
            [
             0.3333333333333333,
             "#9c179e"
            ],
            [
             0.4444444444444444,
             "#bd3786"
            ],
            [
             0.5555555555555556,
             "#d8576b"
            ],
            [
             0.6666666666666666,
             "#ed7953"
            ],
            [
             0.7777777777777778,
             "#fb9f3a"
            ],
            [
             0.8888888888888888,
             "#fdca26"
            ],
            [
             1,
             "#f0f921"
            ]
           ],
           "sequentialminus": [
            [
             0,
             "#0d0887"
            ],
            [
             0.1111111111111111,
             "#46039f"
            ],
            [
             0.2222222222222222,
             "#7201a8"
            ],
            [
             0.3333333333333333,
             "#9c179e"
            ],
            [
             0.4444444444444444,
             "#bd3786"
            ],
            [
             0.5555555555555556,
             "#d8576b"
            ],
            [
             0.6666666666666666,
             "#ed7953"
            ],
            [
             0.7777777777777778,
             "#fb9f3a"
            ],
            [
             0.8888888888888888,
             "#fdca26"
            ],
            [
             1,
             "#f0f921"
            ]
           ]
          },
          "colorway": [
           "#636efa",
           "#EF553B",
           "#00cc96",
           "#ab63fa",
           "#FFA15A",
           "#19d3f3",
           "#FF6692",
           "#B6E880",
           "#FF97FF",
           "#FECB52"
          ],
          "font": {
           "color": "#2a3f5f"
          },
          "geo": {
           "bgcolor": "white",
           "lakecolor": "white",
           "landcolor": "#E5ECF6",
           "showlakes": true,
           "showland": true,
           "subunitcolor": "white"
          },
          "hoverlabel": {
           "align": "left"
          },
          "hovermode": "closest",
          "mapbox": {
           "style": "light"
          },
          "paper_bgcolor": "white",
          "plot_bgcolor": "#E5ECF6",
          "polar": {
           "angularaxis": {
            "gridcolor": "white",
            "linecolor": "white",
            "ticks": ""
           },
           "bgcolor": "#E5ECF6",
           "radialaxis": {
            "gridcolor": "white",
            "linecolor": "white",
            "ticks": ""
           }
          },
          "scene": {
           "xaxis": {
            "backgroundcolor": "#E5ECF6",
            "gridcolor": "white",
            "gridwidth": 2,
            "linecolor": "white",
            "showbackground": true,
            "ticks": "",
            "zerolinecolor": "white"
           },
           "yaxis": {
            "backgroundcolor": "#E5ECF6",
            "gridcolor": "white",
            "gridwidth": 2,
            "linecolor": "white",
            "showbackground": true,
            "ticks": "",
            "zerolinecolor": "white"
           },
           "zaxis": {
            "backgroundcolor": "#E5ECF6",
            "gridcolor": "white",
            "gridwidth": 2,
            "linecolor": "white",
            "showbackground": true,
            "ticks": "",
            "zerolinecolor": "white"
           }
          },
          "shapedefaults": {
           "line": {
            "color": "#2a3f5f"
           }
          },
          "ternary": {
           "aaxis": {
            "gridcolor": "white",
            "linecolor": "white",
            "ticks": ""
           },
           "baxis": {
            "gridcolor": "white",
            "linecolor": "white",
            "ticks": ""
           },
           "bgcolor": "#E5ECF6",
           "caxis": {
            "gridcolor": "white",
            "linecolor": "white",
            "ticks": ""
           }
          },
          "title": {
           "x": 0.05
          },
          "xaxis": {
           "automargin": true,
           "gridcolor": "white",
           "linecolor": "white",
           "ticks": "",
           "title": {
            "standoff": 15
           },
           "zerolinecolor": "white",
           "zerolinewidth": 2
          },
          "yaxis": {
           "automargin": true,
           "gridcolor": "white",
           "linecolor": "white",
           "ticks": "",
           "title": {
            "standoff": 15
           },
           "zerolinecolor": "white",
           "zerolinewidth": 2
          }
         }
        },
        "title": {
         "text": "Ratio of damaged nuclei by Tissue Location and Genotype (separated by sex) - Auto stain QC - cellpdia30_sigma1_dilrad4_dnad_obj_seg_v1_gliaero6_gliathr20_dnadero2"
        },
        "xaxis": {
         "anchor": "y",
         "categoryarray": [
          "male - CA1",
          "female - CA1",
          "male - CA3",
          "female - CA3",
          "male - CTX1",
          "female - CTX1",
          "male - CTX2",
          "female - CTX2",
          "male - CTX3",
          "female - CTX3",
          "male - DG",
          "female - DG"
         ],
         "categoryorder": "array",
         "domain": [
          0,
          1
         ],
         "title": {
          "text": "sex_tissue"
         }
        },
        "yaxis": {
         "anchor": "x",
         "domain": [
          0,
          1
         ],
         "title": {
          "text": "damage_load_ratio_all_cells"
         }
        }
       }
      }
     },
     "metadata": {},
     "output_type": "display_data"
    }
   ],
   "source": [
    "plot_technical_replicates(auto_filtered_df, categories, dataset, parameters_title)"
   ]
  },
  {
   "cell_type": "markdown",
   "metadata": {},
   "source": [
    "<h2>Aggregate tissue location results and plot biological replicates</h2>"
   ]
  },
  {
   "cell_type": "code",
   "execution_count": 34,
   "metadata": {},
   "outputs": [
    {
     "data": {
      "text/html": [
       "<div>\n",
       "<style scoped>\n",
       "    .dataframe tbody tr th:only-of-type {\n",
       "        vertical-align: middle;\n",
       "    }\n",
       "\n",
       "    .dataframe tbody tr th {\n",
       "        vertical-align: top;\n",
       "    }\n",
       "\n",
       "    .dataframe thead th {\n",
       "        text-align: right;\n",
       "    }\n",
       "</style>\n",
       "<table border=\"1\" class=\"dataframe\">\n",
       "  <thead>\n",
       "    <tr style=\"text-align: right;\">\n",
       "      <th></th>\n",
       "      <th>animal_id</th>\n",
       "      <th>nr_+_dna_damage_glia_nuclei</th>\n",
       "      <th>nr_+_dna_damage_all_nuclei</th>\n",
       "      <th>nr_glia_+_nuclei</th>\n",
       "      <th>nr_total_nuclei</th>\n",
       "      <th>sex</th>\n",
       "      <th>genotype</th>\n",
       "      <th>damage_load_ratio_glia_+</th>\n",
       "      <th>damage_load_ratio_total</th>\n",
       "    </tr>\n",
       "  </thead>\n",
       "  <tbody>\n",
       "    <tr>\n",
       "      <th>0</th>\n",
       "      <td>1887</td>\n",
       "      <td>134</td>\n",
       "      <td>2175</td>\n",
       "      <td>190</td>\n",
       "      <td>3499</td>\n",
       "      <td>male</td>\n",
       "      <td>APP/PS1 x Neil3 KO</td>\n",
       "      <td>0.705263</td>\n",
       "      <td>0.621606</td>\n",
       "    </tr>\n",
       "    <tr>\n",
       "      <th>1</th>\n",
       "      <td>1891</td>\n",
       "      <td>171</td>\n",
       "      <td>1968</td>\n",
       "      <td>272</td>\n",
       "      <td>3571</td>\n",
       "      <td>female</td>\n",
       "      <td>APP/PS1 x Neil3 KO</td>\n",
       "      <td>0.628676</td>\n",
       "      <td>0.551106</td>\n",
       "    </tr>\n",
       "    <tr>\n",
       "      <th>2</th>\n",
       "      <td>1989</td>\n",
       "      <td>31</td>\n",
       "      <td>842</td>\n",
       "      <td>72</td>\n",
       "      <td>1923</td>\n",
       "      <td>female</td>\n",
       "      <td>APP/PS1</td>\n",
       "      <td>0.430556</td>\n",
       "      <td>0.437858</td>\n",
       "    </tr>\n",
       "    <tr>\n",
       "      <th>3</th>\n",
       "      <td>1995</td>\n",
       "      <td>50</td>\n",
       "      <td>1024</td>\n",
       "      <td>90</td>\n",
       "      <td>2191</td>\n",
       "      <td>female</td>\n",
       "      <td>APP/PS1 x Neil3 KO</td>\n",
       "      <td>0.555556</td>\n",
       "      <td>0.467366</td>\n",
       "    </tr>\n",
       "    <tr>\n",
       "      <th>4</th>\n",
       "      <td>1996</td>\n",
       "      <td>57</td>\n",
       "      <td>1267</td>\n",
       "      <td>160</td>\n",
       "      <td>2808</td>\n",
       "      <td>female</td>\n",
       "      <td>APP/PS1 x Neil3 KO</td>\n",
       "      <td>0.356250</td>\n",
       "      <td>0.451211</td>\n",
       "    </tr>\n",
       "    <tr>\n",
       "      <th>5</th>\n",
       "      <td>2005</td>\n",
       "      <td>86</td>\n",
       "      <td>1164</td>\n",
       "      <td>123</td>\n",
       "      <td>2109</td>\n",
       "      <td>male</td>\n",
       "      <td>APP/PS1 x Neil3 KO</td>\n",
       "      <td>0.699187</td>\n",
       "      <td>0.551920</td>\n",
       "    </tr>\n",
       "    <tr>\n",
       "      <th>6</th>\n",
       "      <td>2008</td>\n",
       "      <td>86</td>\n",
       "      <td>1070</td>\n",
       "      <td>165</td>\n",
       "      <td>2403</td>\n",
       "      <td>female</td>\n",
       "      <td>APP/PS1</td>\n",
       "      <td>0.521212</td>\n",
       "      <td>0.445277</td>\n",
       "    </tr>\n",
       "    <tr>\n",
       "      <th>7</th>\n",
       "      <td>2012</td>\n",
       "      <td>98</td>\n",
       "      <td>1581</td>\n",
       "      <td>135</td>\n",
       "      <td>2310</td>\n",
       "      <td>male</td>\n",
       "      <td>APP/PS1</td>\n",
       "      <td>0.725926</td>\n",
       "      <td>0.684416</td>\n",
       "    </tr>\n",
       "    <tr>\n",
       "      <th>8</th>\n",
       "      <td>2014</td>\n",
       "      <td>106</td>\n",
       "      <td>1403</td>\n",
       "      <td>199</td>\n",
       "      <td>2392</td>\n",
       "      <td>male</td>\n",
       "      <td>APP/PS1</td>\n",
       "      <td>0.532663</td>\n",
       "      <td>0.586538</td>\n",
       "    </tr>\n",
       "    <tr>\n",
       "      <th>9</th>\n",
       "      <td>2041</td>\n",
       "      <td>149</td>\n",
       "      <td>2325</td>\n",
       "      <td>256</td>\n",
       "      <td>4009</td>\n",
       "      <td>female</td>\n",
       "      <td>APP/PS1</td>\n",
       "      <td>0.582031</td>\n",
       "      <td>0.579945</td>\n",
       "    </tr>\n",
       "    <tr>\n",
       "      <th>10</th>\n",
       "      <td>2042</td>\n",
       "      <td>162</td>\n",
       "      <td>2212</td>\n",
       "      <td>257</td>\n",
       "      <td>3837</td>\n",
       "      <td>male</td>\n",
       "      <td>APP/PS1</td>\n",
       "      <td>0.630350</td>\n",
       "      <td>0.576492</td>\n",
       "    </tr>\n",
       "    <tr>\n",
       "      <th>11</th>\n",
       "      <td>2119</td>\n",
       "      <td>69</td>\n",
       "      <td>814</td>\n",
       "      <td>97</td>\n",
       "      <td>1238</td>\n",
       "      <td>female</td>\n",
       "      <td>APP/PS1</td>\n",
       "      <td>0.711340</td>\n",
       "      <td>0.657512</td>\n",
       "    </tr>\n",
       "    <tr>\n",
       "      <th>12</th>\n",
       "      <td>2121</td>\n",
       "      <td>69</td>\n",
       "      <td>877</td>\n",
       "      <td>114</td>\n",
       "      <td>1432</td>\n",
       "      <td>male</td>\n",
       "      <td>APP/PS1</td>\n",
       "      <td>0.605263</td>\n",
       "      <td>0.612430</td>\n",
       "    </tr>\n",
       "    <tr>\n",
       "      <th>13</th>\n",
       "      <td>2122</td>\n",
       "      <td>59</td>\n",
       "      <td>787</td>\n",
       "      <td>93</td>\n",
       "      <td>1208</td>\n",
       "      <td>male</td>\n",
       "      <td>APP/PS1</td>\n",
       "      <td>0.634409</td>\n",
       "      <td>0.651490</td>\n",
       "    </tr>\n",
       "    <tr>\n",
       "      <th>14</th>\n",
       "      <td>2124</td>\n",
       "      <td>55</td>\n",
       "      <td>414</td>\n",
       "      <td>78</td>\n",
       "      <td>755</td>\n",
       "      <td>male</td>\n",
       "      <td>APP/PS1</td>\n",
       "      <td>0.705128</td>\n",
       "      <td>0.548344</td>\n",
       "    </tr>\n",
       "    <tr>\n",
       "      <th>15</th>\n",
       "      <td>2140</td>\n",
       "      <td>19</td>\n",
       "      <td>642</td>\n",
       "      <td>43</td>\n",
       "      <td>1144</td>\n",
       "      <td>female</td>\n",
       "      <td>APP/PS1 x Neil3 KO</td>\n",
       "      <td>0.441860</td>\n",
       "      <td>0.561189</td>\n",
       "    </tr>\n",
       "    <tr>\n",
       "      <th>16</th>\n",
       "      <td>2141</td>\n",
       "      <td>41</td>\n",
       "      <td>807</td>\n",
       "      <td>57</td>\n",
       "      <td>1226</td>\n",
       "      <td>male</td>\n",
       "      <td>APP/PS1 x Neil3 KO</td>\n",
       "      <td>0.719298</td>\n",
       "      <td>0.658238</td>\n",
       "    </tr>\n",
       "    <tr>\n",
       "      <th>17</th>\n",
       "      <td>2142</td>\n",
       "      <td>57</td>\n",
       "      <td>772</td>\n",
       "      <td>89</td>\n",
       "      <td>1187</td>\n",
       "      <td>male</td>\n",
       "      <td>APP/PS1 x Neil3 KO</td>\n",
       "      <td>0.640449</td>\n",
       "      <td>0.650379</td>\n",
       "    </tr>\n",
       "    <tr>\n",
       "      <th>18</th>\n",
       "      <td>2143</td>\n",
       "      <td>65</td>\n",
       "      <td>798</td>\n",
       "      <td>90</td>\n",
       "      <td>1197</td>\n",
       "      <td>male</td>\n",
       "      <td>APP/PS1 x Neil3 KO</td>\n",
       "      <td>0.722222</td>\n",
       "      <td>0.666667</td>\n",
       "    </tr>\n",
       "  </tbody>\n",
       "</table>\n",
       "</div>"
      ],
      "text/plain": [
       "    animal_id  nr_+_dna_damage_glia_nuclei  nr_+_dna_damage_all_nuclei  \\\n",
       "0        1887                          134                        2175   \n",
       "1        1891                          171                        1968   \n",
       "2        1989                           31                         842   \n",
       "3        1995                           50                        1024   \n",
       "4        1996                           57                        1267   \n",
       "5        2005                           86                        1164   \n",
       "6        2008                           86                        1070   \n",
       "7        2012                           98                        1581   \n",
       "8        2014                          106                        1403   \n",
       "9        2041                          149                        2325   \n",
       "10       2042                          162                        2212   \n",
       "11       2119                           69                         814   \n",
       "12       2121                           69                         877   \n",
       "13       2122                           59                         787   \n",
       "14       2124                           55                         414   \n",
       "15       2140                           19                         642   \n",
       "16       2141                           41                         807   \n",
       "17       2142                           57                         772   \n",
       "18       2143                           65                         798   \n",
       "\n",
       "    nr_glia_+_nuclei  nr_total_nuclei     sex            genotype  \\\n",
       "0                190             3499    male  APP/PS1 x Neil3 KO   \n",
       "1                272             3571  female  APP/PS1 x Neil3 KO   \n",
       "2                 72             1923  female             APP/PS1   \n",
       "3                 90             2191  female  APP/PS1 x Neil3 KO   \n",
       "4                160             2808  female  APP/PS1 x Neil3 KO   \n",
       "5                123             2109    male  APP/PS1 x Neil3 KO   \n",
       "6                165             2403  female             APP/PS1   \n",
       "7                135             2310    male             APP/PS1   \n",
       "8                199             2392    male             APP/PS1   \n",
       "9                256             4009  female             APP/PS1   \n",
       "10               257             3837    male             APP/PS1   \n",
       "11                97             1238  female             APP/PS1   \n",
       "12               114             1432    male             APP/PS1   \n",
       "13                93             1208    male             APP/PS1   \n",
       "14                78              755    male             APP/PS1   \n",
       "15                43             1144  female  APP/PS1 x Neil3 KO   \n",
       "16                57             1226    male  APP/PS1 x Neil3 KO   \n",
       "17                89             1187    male  APP/PS1 x Neil3 KO   \n",
       "18                90             1197    male  APP/PS1 x Neil3 KO   \n",
       "\n",
       "    damage_load_ratio_glia_+  damage_load_ratio_total  \n",
       "0                   0.705263                 0.621606  \n",
       "1                   0.628676                 0.551106  \n",
       "2                   0.430556                 0.437858  \n",
       "3                   0.555556                 0.467366  \n",
       "4                   0.356250                 0.451211  \n",
       "5                   0.699187                 0.551920  \n",
       "6                   0.521212                 0.445277  \n",
       "7                   0.725926                 0.684416  \n",
       "8                   0.532663                 0.586538  \n",
       "9                   0.582031                 0.579945  \n",
       "10                  0.630350                 0.576492  \n",
       "11                  0.711340                 0.657512  \n",
       "12                  0.605263                 0.612430  \n",
       "13                  0.634409                 0.651490  \n",
       "14                  0.705128                 0.548344  \n",
       "15                  0.441860                 0.561189  \n",
       "16                  0.719298                 0.658238  \n",
       "17                  0.640449                 0.650379  \n",
       "18                  0.722222                 0.666667  "
      ]
     },
     "execution_count": 34,
     "metadata": {},
     "output_type": "execute_result"
    }
   ],
   "source": [
    "# Define aggregation rules for each column\n",
    "aggregations = {\n",
    "    'nr_+_dna_damage_glia_nuclei': 'sum',\n",
    "    'nr_+_dna_damage_all_nuclei': 'sum',\n",
    "    'nr_glia_+_nuclei': 'sum',\n",
    "    'nr_total_nuclei': 'sum',\n",
    "    'sex': 'first',  # 'sex' does not vary within each animal_id\n",
    "    'genotype': 'first'  # 'genotype' does not vary within each animal_id\n",
    "}\n",
    "\n",
    "# Group by 'animal_id' and apply the defined aggregation rules\n",
    "grouped = auto_filtered_df.groupby('animal_id').agg(aggregations)\n",
    "\n",
    "# Reset index to make 'animal_id' a column\n",
    "result_df = grouped.reset_index()\n",
    "\n",
    "# Calculate damage_load_ratio_glia_+\n",
    "result_df['damage_load_ratio_glia_+'] = result_df['nr_+_dna_damage_glia_nuclei'] / result_df['nr_glia_+_nuclei']\n",
    "\n",
    "# Calculate damage_load_ratio_total\n",
    "result_df['damage_load_ratio_total'] = result_df['nr_+_dna_damage_all_nuclei'] / result_df['nr_total_nuclei']\n",
    "\n",
    "# Save aggregated results as a .csv file\n",
    "if glia_segmenter:\n",
    "        result_df.to_csv(\n",
    "            f\"./results/agg_{dataset}_results_cellpdia{cellpose_nuclei_diameter}_sigma{gaussian_sigma}_dilrad{dilation_radius_nuclei}_dnad_obj_seg_v{dna_damage_segmenter_version}_gliaero{glia_nuclei_colocalization_erosion}_glia_sem_seg_v{glia_segmenter_version}_dnadero{dna_damage_erosion}.csv\",\n",
    "            index=False,\n",
    "        )\n",
    "else:\n",
    "    result_df.to_csv(\n",
    "        f\"./results/agg_{dataset}_results_cellpdia{cellpose_nuclei_diameter}_sigma{gaussian_sigma}_dilrad{dilation_radius_nuclei}_dnad_obj_seg_v{dna_damage_segmenter_version}_gliaero{glia_nuclei_colocalization_erosion}_gliathr{glia_channel_threshold}_dnadero{dna_damage_erosion}.csv\",\n",
    "        index=False,\n",
    "    )\n",
    "\n",
    "# Display the new DataFrame\n",
    "result_df"
   ]
  },
  {
   "cell_type": "code",
   "execution_count": 35,
   "metadata": {},
   "outputs": [
    {
     "data": {
      "image/png": "[encoded data removed]",
      "text/plain": [
       "<Figure size 1000x1200 with 2 Axes>"
      ]
     },
     "metadata": {},
     "output_type": "display_data"
    }
   ],
   "source": [
    "import matplotlib.pyplot as plt\n",
    "import numpy as np\n",
    "import pandas as pd\n",
    "\n",
    "# Calculate means and standard errors of the mean for each group\n",
    "grouped = result_df.groupby(['sex', 'genotype']).agg({\n",
    "    'damage_load_ratio_glia_+': ['mean', 'sem'],\n",
    "    'damage_load_ratio_total': ['mean', 'sem']\n",
    "}).reset_index()\n",
    "\n",
    "# Simplify multi-level column names resulting from aggregation\n",
    "grouped.columns = [' '.join(col).strip() for col in grouped.columns.values]\n",
    "\n",
    "# Pivoting the table for easier plotting, for both metrics\n",
    "pivot_glia = grouped.pivot(index='sex', columns='genotype', values='damage_load_ratio_glia_+ mean')\n",
    "errors_glia = grouped.pivot(index='sex', columns='genotype', values='damage_load_ratio_glia_+ sem')\n",
    "\n",
    "pivot_total = grouped.pivot(index='sex', columns='genotype', values='damage_load_ratio_total mean')\n",
    "errors_total = grouped.pivot(index='sex', columns='genotype', values='damage_load_ratio_total sem')\n",
    "\n",
    "# Define bar width and positions\n",
    "bar_width = 0.35\n",
    "index = np.arange(len(pivot_glia))\n",
    "\n",
    "# Setting figure and axes for subplots\n",
    "fig, (ax1, ax2) = plt.subplots(2, 1, figsize=(10, 12))  # Create 2 subplots vertically\n",
    "\n",
    "# Plotting the bars for damage_load_ratio_glia_+\n",
    "for i, genotype in enumerate(grouped['genotype'].unique()):\n",
    "    ax1.bar(index + i * bar_width, pivot_glia[genotype], yerr=errors_glia[genotype], \n",
    "            width=bar_width, label=genotype, capsize=5)\n",
    "\n",
    "# Plotting the bars for damage_load_ratio_total\n",
    "for i, genotype in enumerate(grouped['genotype'].unique()):\n",
    "    ax2.bar(index + i * bar_width, pivot_total[genotype], yerr=errors_total[genotype], \n",
    "            width=bar_width, label=genotype, capsize=5)\n",
    "\n",
    "# Adding individual points for damage_load_ratio_glia_+\n",
    "for i, genotype in enumerate(grouped['genotype'].unique()):\n",
    "    for sex in result_df['sex'].unique():\n",
    "        subset = result_df[(result_df['genotype'] == genotype) & (result_df['sex'] == sex)]\n",
    "        x = np.full_like(subset['damage_load_ratio_glia_+'], index[list(pivot_glia.index).index(sex)] + i * bar_width)\n",
    "        ax1.scatter(x, subset['damage_load_ratio_glia_+'], alpha=0.7)\n",
    "\n",
    "# Adding individual points for damage_load_ratio_total\n",
    "for i, genotype in enumerate(grouped['genotype'].unique()):\n",
    "    for sex in result_df['sex'].unique():\n",
    "        subset = result_df[(result_df['genotype'] == genotype) & (result_df['sex'] == sex)]\n",
    "        x = np.full_like(subset['damage_load_ratio_total'], index[list(pivot_total.index).index(sex)] + i * bar_width)\n",
    "        ax2.scatter(x, subset['damage_load_ratio_total'], alpha=0.7)\n",
    "\n",
    "# Setting labels and titles\n",
    "ax1.set_ylabel(f'Damage Load Ratio {dataset.capitalize()} +')\n",
    "ax1.set_title(f'Damage Load Ratio {dataset.capitalize()} + by Sex and Genotype')\n",
    "ax1.set_xticks(index + bar_width / 2)\n",
    "ax1.set_xticklabels(pivot_glia.index)\n",
    "ax1.legend(title=\"Genotype\")\n",
    "\n",
    "ax2.set_xlabel('Sex')\n",
    "ax2.set_ylabel('Total Damage Load Ratio')\n",
    "ax2.set_title('Total Damage Load Ratio by Sex and Genotype')\n",
    "ax2.set_xticks(index + bar_width / 2)\n",
    "ax2.set_xticklabels(pivot_total.index)\n",
    "ax2.legend(title=\"Genotype\")\n",
    "\n",
    "# Show plot\n",
    "plt.tight_layout()\n",
    "plt.show()\n"
   ]
  },
  {
   "cell_type": "markdown",
   "metadata": {},
   "source": [
    "<h2>Explore failed QC Dataframe</h2>"
   ]
  },
  {
   "cell_type": "code",
   "execution_count": 36,
   "metadata": {},
   "outputs": [
    {
     "name": "stdout",
     "output_type": "stream",
     "text": [
      "0 stains have not passed QC and have been discarded\n"
     ]
    },
    {
     "data": {
      "text/html": [
       "<div>\n",
       "<style scoped>\n",
       "    .dataframe tbody tr th:only-of-type {\n",
       "        vertical-align: middle;\n",
       "    }\n",
       "\n",
       "    .dataframe tbody tr th {\n",
       "        vertical-align: top;\n",
       "    }\n",
       "\n",
       "    .dataframe thead th {\n",
       "        text-align: right;\n",
       "    }\n",
       "</style>\n",
       "<table border=\"1\" class=\"dataframe\">\n",
       "  <thead>\n",
       "    <tr style=\"text-align: right;\">\n",
       "      <th></th>\n",
       "      <th>index</th>\n",
       "      <th>filename</th>\n",
       "      <th>avg_dna_damage_foci/glia_+</th>\n",
       "      <th>avg_dna_damage_foci/glia_+_damage_+</th>\n",
       "      <th>avg_dna_damage_foci/all_nuclei</th>\n",
       "      <th>avg_dna_damage_foci/all_nuclei_damage_+</th>\n",
       "      <th>nr_+_dna_damage_glia_nuclei</th>\n",
       "      <th>nr_+_dna_damage_all_nuclei</th>\n",
       "      <th>nr_-_dna_damage_glia_nuclei</th>\n",
       "      <th>nr_glia_+_nuclei</th>\n",
       "      <th>...</th>\n",
       "      <th>tissue_location</th>\n",
       "      <th>staining_id</th>\n",
       "      <th>animal_id</th>\n",
       "      <th>sex</th>\n",
       "      <th>genotype</th>\n",
       "      <th>dna_damage_stain_quality_manual</th>\n",
       "      <th>manual_qc</th>\n",
       "      <th>glia_stain_quality_auto</th>\n",
       "      <th>dna_damage_stain_quality_auto</th>\n",
       "      <th>staining_qc_passed</th>\n",
       "    </tr>\n",
       "  </thead>\n",
       "  <tbody>\n",
       "  </tbody>\n",
       "</table>\n",
       "<p>0 rows × 25 columns</p>\n",
       "</div>"
      ],
      "text/plain": [
       "Empty DataFrame\n",
       "Columns: [index, filename, avg_dna_damage_foci/glia_+, avg_dna_damage_foci/glia_+_damage_+, avg_dna_damage_foci/all_nuclei, avg_dna_damage_foci/all_nuclei_damage_+, nr_+_dna_damage_glia_nuclei, nr_+_dna_damage_all_nuclei, nr_-_dna_damage_glia_nuclei, nr_glia_+_nuclei, nr_total_nuclei, %_dna_damage_signal, %_glia+_signal, damage_load_ratio_glia_+_cells, damage_load_ratio_all_cells, tissue_location, staining_id, animal_id, sex, genotype, dna_damage_stain_quality_manual, manual_qc, glia_stain_quality_auto, dna_damage_stain_quality_auto, staining_qc_passed]\n",
       "Index: []\n",
       "\n",
       "[0 rows x 25 columns]"
      ]
     },
     "execution_count": 36,
     "metadata": {},
     "output_type": "execute_result"
    }
   ],
   "source": [
    "qc_failed_df = merged_df[merged_df['staining_qc_passed'] == False]\n",
    "\n",
    "print(f\"{qc_failed_df.shape[0]} stains have not passed QC and have been discarded\")\n",
    "\n",
    "qc_failed_df\n"
   ]
  }
 ],
 "metadata": {
  "kernelspec": {
   "display_name": "microglia_GPU",
   "language": "python",
   "name": "python3"
  },
  "language_info": {
   "codemirror_mode": {
    "name": "ipython",
    "version": 3
   },
   "file_extension": ".py",
   "mimetype": "text/x-python",
   "name": "python",
   "nbconvert_exporter": "python",
   "pygments_lexer": "ipython3",
   "version": "3.9.19"
  }
 },
 "nbformat": 4,
 "nbformat_minor": 2
}
